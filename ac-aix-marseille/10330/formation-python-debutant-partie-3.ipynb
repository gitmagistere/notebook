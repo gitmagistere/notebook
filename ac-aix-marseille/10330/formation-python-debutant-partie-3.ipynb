{
 "cells": [
  {
   "cell_type": "markdown",
   "metadata": {
    "slideshow": {
     "slide_type": "-"
    }
   },
   "source": [
    "<img src=\"https://www.ac-aix-marseille.fr/sites/ac_aix_marseille/files/site_logo/2021-01/logo_AC_AIX%20MARSEILLE_REC.jpg\" width=\"150px\" ></img>\n",
    "\n",
    "Ce fichier vous est présenté par le groupe académique Mathice d'Aix-Marseille.<br/> \n",
    "Inspecteur chargé du groupe : M. Christophe Mazuyer, christophe.mazuyer@ac-aix-marseille.fr. <br/> \n",
    "IAN Mathématiques : M. Jean-Baptiste Civet, jean-baptiste.civet@ac-aix-marseille.fr. <br/> \n",
    "Auteur du fichier : M. Alexandre Colin, alexandre-jean.colin@ac-aix-marseille.fr.  <br/>\n",
    "Public visé : Enseignants. Rapidement transférable avec des élèves.<br/>\n",
    "\n",
    "**Ce document n'est pas destiné à être un support pédagogique pour les élèves mais constitue un support de formation à destination des enseignants. Il s'inscrit dans le cadre d'un parcours en présentiel / distanciel (PAF).**\n",
    "\n",
    "Activité 1, code 2193-571331 : Python, une calculatrice  \n",
    "Activité 2, code 2500-571332 : Faire des fonctions  \n",
    "Activité 3, code 9fb3-571335 : Les modules  \n",
    "Activité 4, code 7ae9-571337 : les instructions conditionnelles  \n",
    "Activité 5, code 9a07-571339 : les boucles bornées  \n",
    "Activité 6, code e60b-571340 : les boucles non bornées  \n",
    "Activité 7, code 0e04-609566 : les listes, non transférable aux élèves"
   ]
  },
  {
   "cell_type": "markdown",
   "metadata": {
    "slideshow": {
     "slide_type": "-"
    }
   },
   "source": [
    "# <p style=\"text-align:center;\"> Formation Python Débutant - Les modules en Python</p>\n",
    "\n",
    "# Les modules Python\n",
    "\n",
    "Python fonctionne avec des bibliothèques - librairies - modules (vous trouverez les trois dénominations) : ce sont des ensembles de fonctions qui sont déjà programmées et que tout le monde peut utiliser. Elles sont toutes documentées. En mathématique en classe de seconde nous utiliserons principalement : \n",
    "- math : pour l'utilisation de la racine carré (square root en anglais, donc sqrt en Python)\n",
    "- random : pour travailler sur des nombres aléatoires et faires des expériences aléatoires \n",
    "- matplotlib et numpy : pour tracer des fonctions. **Le code sera alors toujours donné car possédant trop de paramètres**.\n",
    "\n",
    "# Le module `math` : \n",
    "\n",
    "!!! warning **Pour éviter quelques bugs liés aux navigateurs, n'exécuter pas la cellule suivante, le résultat est déjà affiché.**\n",
    "!!!"
   ]
  },
  {
   "cell_type": "code",
   "execution_count": 2,
   "metadata": {
    "slideshow": {
     "slide_type": "-"
    }
   },
   "outputs": [
    {
     "name": "stdout",
     "output_type": "stream",
     "text": [
      "Help on built-in module math:\n",
      "\n",
      "NAME\n",
      "    math\n",
      "\n",
      "DESCRIPTION\n",
      "    This module provides access to the mathematical functions\n",
      "    defined by the C standard.\n",
      "\n",
      "FUNCTIONS\n",
      "    acos(x, /)\n",
      "        Return the arc cosine (measured in radians) of x.\n",
      "    \n",
      "    acosh(x, /)\n",
      "        Return the inverse hyperbolic cosine of x.\n",
      "    \n",
      "    asin(x, /)\n",
      "        Return the arc sine (measured in radians) of x.\n",
      "    \n",
      "    asinh(x, /)\n",
      "        Return the inverse hyperbolic sine of x.\n",
      "    \n",
      "    atan(x, /)\n",
      "        Return the arc tangent (measured in radians) of x.\n",
      "-- more --\n",
      "    \n",
      "    atan2(y, x, /)\n",
      "        Return the arc tangent (measured in radians) of y/x.\n",
      "        \n",
      "        Unlike atan(y/x), the signs of both x and y are considered.\n",
      "    \n",
      "    atanh(x, /)\n",
      "        Return the inverse hyperbolic tangent of x.\n",
      "    \n",
      "    ceil(x, /)\n",
      "        Return the ceiling of x as an Integral.\n",
      "        \n",
      "        This is the smallest integer >= x.\n",
      "    \n",
      "    comb(n, k, /)\n",
      "        Number of ways to choose k items from n items without repetition and without order.\n",
      "        \n",
      "        Evaluates to n! / (k! * (n - k)!) when k <= n and evaluates\n",
      "        to zero when k > n.\n",
      "        \n",
      "        Also called the binomial coefficient because it is equivalent\n",
      "        to the coefficient of k-th term in polynomial expansion of the\n",
      "        expression (1 + x)**n.\n",
      "        \n",
      "-- more --\n",
      "        Raises TypeError if either of the arguments are not integers.\n",
      "        Raises ValueError if either of the arguments are negative.\n",
      "    \n",
      "    copysign(x, y, /)\n",
      "        Return a float with the magnitude (absolute value) of x but the sign of y.\n",
      "        \n",
      "        On platforms that support signed zeros, copysign(1.0, -0.0)\n",
      "        returns -1.0.\n",
      "    \n",
      "    cos(x, /)\n",
      "        Return the cosine of x (measured in radians).\n",
      "    \n",
      "    cosh(x, /)\n",
      "        Return the hyperbolic cosine of x.\n",
      "    \n",
      "    degrees(x, /)\n",
      "        Convert angle x from radians to degrees.\n",
      "    \n",
      "    dist(p, q, /)\n",
      "        Return the Euclidean distance between two points p and q.\n",
      "        \n",
      "        The points should be specified as sequences (or iterables) of\n",
      "        coordinates.  Both inputs must have the same dimension.\n",
      "        \n",
      "-- more --\n",
      "        Roughly equivalent to:\n",
      "            sqrt(sum((px - qx) ** 2.0 for px, qx in zip(p, q)))\n",
      "    \n",
      "    erf(x, /)\n",
      "        Error function at x.\n",
      "    \n",
      "    erfc(x, /)\n",
      "        Complementary error function at x.\n",
      "    \n",
      "    exp(x, /)\n",
      "        Return e raised to the power of x.\n",
      "    \n",
      "    expm1(x, /)\n",
      "        Return exp(x)-1.\n",
      "        \n",
      "        This function avoids the loss of precision involved in the direct evaluation of exp(x)-1 for small x.\n",
      "    \n",
      "    fabs(x, /)\n",
      "        Return the absolute value of the float x.\n",
      "    \n",
      "    factorial(x, /)\n",
      "        Find x!.\n",
      "        \n",
      "        Raise a ValueError if x is negative or non-integral.\n",
      "-- more --\n",
      "    \n",
      "    floor(x, /)\n",
      "        Return the floor of x as an Integral.\n",
      "        \n",
      "        This is the largest integer <= x.\n",
      "    \n",
      "    fmod(x, y, /)\n",
      "        Return fmod(x, y), according to platform C.\n",
      "        \n",
      "        x % y may differ.\n",
      "    \n",
      "    frexp(x, /)\n",
      "        Return the mantissa and exponent of x, as pair (m, e).\n",
      "        \n",
      "        m is a float and e is an int, such that x = m * 2.**e.\n",
      "        If x is 0, m and e are both 0.  Else 0.5 <= abs(m) < 1.0.\n",
      "    \n",
      "    fsum(seq, /)\n",
      "        Return an accurate floating point sum of values in the iterable seq.\n",
      "        \n",
      "        Assumes IEEE-754 floating point arithmetic.\n",
      "    \n",
      "    gamma(x, /)\n",
      "        Gamma function at x.\n",
      "-- more --\n",
      "    \n",
      "    gcd(x, y, /)\n",
      "        greatest common divisor of x and y\n",
      "    \n",
      "    hypot(...)\n",
      "        hypot(*coordinates) -> value\n",
      "        \n",
      "        Multidimensional Euclidean distance from the origin to a point.\n",
      "        \n",
      "        Roughly equivalent to:\n",
      "            sqrt(sum(x**2 for x in coordinates))\n",
      "        \n",
      "        For a two dimensional point (x, y), gives the hypotenuse\n",
      "        using the Pythagorean theorem:  sqrt(x*x + y*y).\n",
      "        \n",
      "        For example, the hypotenuse of a 3/4/5 right triangle is:\n",
      "        \n",
      "            >>> hypot(3.0, 4.0)\n",
      "            5.0\n",
      "    \n",
      "    isclose(a, b, *, rel_tol=1e-09, abs_tol=0.0)\n",
      "        Determine whether two floating point numbers are close in value.\n",
      "        \n",
      "          rel_tol\n",
      "-- more --\n",
      "            maximum difference for being considered \"close\", relative to the\n",
      "            magnitude of the input values\n",
      "          abs_tol\n",
      "            maximum difference for being considered \"close\", regardless of the\n",
      "            magnitude of the input values\n",
      "        \n",
      "        Return True if a is close in value to b, and False otherwise.\n",
      "        \n",
      "        For the values to be considered close, the difference between them\n",
      "        must be smaller than at least one of the tolerances.\n",
      "        \n",
      "        -inf, inf and NaN behave similarly to the IEEE 754 Standard.  That\n",
      "        is, NaN is not close to anything, even itself.  inf and -inf are\n",
      "        only close to themselves.\n",
      "    \n",
      "    isfinite(x, /)\n",
      "        Return True if x is neither an infinity nor a NaN, and False otherwise.\n",
      "    \n",
      "    isinf(x, /)\n",
      "        Return True if x is a positive or negative infinity, and False otherwise.\n",
      "    \n",
      "    isnan(x, /)\n",
      "        Return True if x is a NaN (not a number), and False otherwise.\n",
      "    \n",
      "-- more --\n",
      "    isqrt(n, /)\n",
      "        Return the integer part of the square root of the input.\n",
      "    \n",
      "    ldexp(x, i, /)\n",
      "        Return x * (2**i).\n",
      "        \n",
      "        This is essentially the inverse of frexp().\n",
      "    \n",
      "    lgamma(x, /)\n",
      "        Natural logarithm of absolute value of Gamma function at x.\n",
      "    \n",
      "    log(...)\n",
      "        log(x, [base=math.e])\n",
      "        Return the logarithm of x to the given base.\n",
      "        \n",
      "        If the base not specified, returns the natural logarithm (base e) of x.\n",
      "    \n",
      "    log10(x, /)\n",
      "        Return the base 10 logarithm of x.\n",
      "    \n",
      "    log1p(x, /)\n",
      "        Return the natural logarithm of 1+x (base e).\n",
      "        \n",
      "        The result is computed in a way which is accurate for x near zero.\n",
      "-- more --\n",
      "    \n",
      "    log2(x, /)\n",
      "        Return the base 2 logarithm of x.\n",
      "    \n",
      "    modf(x, /)\n",
      "        Return the fractional and integer parts of x.\n",
      "        \n",
      "        Both results carry the sign of x and are floats.\n",
      "    \n",
      "    perm(n, k=None, /)\n",
      "        Number of ways to choose k items from n items without repetition and with order.\n",
      "        \n",
      "        Evaluates to n! / (n - k)! when k <= n and evaluates\n",
      "        to zero when k > n.\n",
      "        \n",
      "        If k is not specified or is None, then k defaults to n\n",
      "        and the function returns n!.\n",
      "        \n",
      "        Raises TypeError if either of the arguments are not integers.\n",
      "        Raises ValueError if either of the arguments are negative.\n",
      "    \n",
      "    pow(x, y, /)\n",
      "        Return x**y (x to the power of y).\n",
      "    \n",
      "-- more --\n",
      "    prod(iterable, /, *, start=1)\n",
      "        Calculate the product of all the elements in the input iterable.\n",
      "        \n",
      "        The default start value for the product is 1.\n",
      "        \n",
      "        When the iterable is empty, return the start value.  This function is\n",
      "        intended specifically for use with numeric values and may reject\n",
      "        non-numeric types.\n",
      "    \n",
      "    radians(x, /)\n",
      "        Convert angle x from degrees to radians.\n",
      "    \n",
      "    remainder(x, y, /)\n",
      "        Difference between x and the closest integer multiple of y.\n",
      "        \n",
      "        Return x - n*y where n*y is the closest integer multiple of y.\n",
      "        In the case where x is exactly halfway between two multiples of\n",
      "        y, the nearest even value of n is used. The result is always exact.\n",
      "    \n",
      "    sin(x, /)\n",
      "        Return the sine of x (measured in radians).\n",
      "    \n",
      "    sinh(x, /)\n",
      "        Return the hyperbolic sine of x.\n",
      "-- more --\n",
      "    \n",
      "    sqrt(x, /)\n",
      "        Return the square root of x.\n",
      "    \n",
      "    tan(x, /)\n",
      "        Return the tangent of x (measured in radians).\n",
      "    \n",
      "    tanh(x, /)\n",
      "        Return the hyperbolic tangent of x.\n",
      "    \n",
      "    trunc(x, /)\n",
      "        Truncates the Real x to the nearest Integral toward 0.\n",
      "        \n",
      "        Uses the __trunc__ magic method.\n",
      "\n",
      "DATA\n",
      "    e = 2.718281828459045\n",
      "    inf = inf\n",
      "    nan = nan\n",
      "    pi = 3.141592653589793\n",
      "    tau = 6.283185307179586\n",
      "\n",
      "FILE\n",
      "    (built-in)\n",
      "-- more --\n",
      "\n",
      "\n",
      "\n"
     ]
    }
   ],
   "source": [
    "import math\n",
    "help(math)"
   ]
  },
  {
   "cell_type": "code",
   "execution_count": null,
   "metadata": {
    "slideshow": {
     "slide_type": "-"
    }
   },
   "outputs": [],
   "source": [
    "from math import sqrt\n",
    "sqrt(25)"
   ]
  },
  {
   "cell_type": "markdown",
   "metadata": {
    "slideshow": {
     "slide_type": "-"
    }
   },
   "source": [
    "!!! example <p style=\"color:red;\">A vous de faire :</p>\n",
    "\n",
    "On considère un triangle ABC rectangle en A avec AB = 5cm et AC = 7 cm. Quelle est la longueur de BC ?\n",
    "!!!"
   ]
  },
  {
   "cell_type": "code",
   "execution_count": null,
   "metadata": {
    "slideshow": {
     "slide_type": "-"
    }
   },
   "outputs": [],
   "source": []
  },
  {
   "cell_type": "markdown",
   "metadata": {},
   "source": [
    "!!! success La réponse\n",
    "<details>\n",
    "    <summary style=\"color:red;\">&rarr;Cliquez-ici pour la réponse&larr; </summary>\n",
    "    \n",
    "```python\n",
    "AB = 5\n",
    "AC = 7\n",
    "BC = sqrt(AB**2+AC**2)\n",
    "```\n",
    "    \n",
    "</details>\n",
    "!!!"
   ]
  },
  {
   "cell_type": "markdown",
   "metadata": {},
   "source": [
    "Le module `math` contient aussi d'autres fonctions, `cos` et `sin`, ou des nombres particuliers, comme `pi`. Il faut importer ce que l'on a besoin à chaque fois.\n",
    "\n",
    "!!! example <p style=\"color:red;\">A vous de faire :</p>\n",
    "On considère un triangle rectangle en A avec BC = 7 cm et $\\widehat{ABC}=\\frac{\\Pi}{6}$. Déterminer les longueurs AB et AC.\n",
    "!!!"
   ]
  },
  {
   "cell_type": "code",
   "execution_count": 1,
   "metadata": {},
   "outputs": [],
   "source": [
    "from math import ...\n",
    "AB = ...\n",
    "AC = ..."
   ]
  },
  {
   "cell_type": "markdown",
   "metadata": {},
   "source": [
    "!!! success La réponse\n",
    "<details>\n",
    "    <summary style=\"color:red;\">&rarr;Cliquez-ici pour la réponse&larr; </summary>\n",
    "\n",
    "```python\n",
    "from math import cos, sin, pi\n",
    "BC = 7\n",
    "AB = cos(pi/6)*BC\n",
    "AC = sin(pi/6)*BC\n",
    "```\n",
    "    \n",
    "</details>\n",
    "!!!"
   ]
  },
  {
   "cell_type": "markdown",
   "metadata": {},
   "source": [
    "!!! example <p style=\"color:red;\">A vous de faire :</p>\n",
    "On peut maintenant créer un ensemble de fonctions liées au triangle rectangle ou d'autre : \n",
    "- déterminer la longueur de l'hypoténuse si l'on connait les longueurs des deux autres côtés ; \n",
    "- déterminer la longueur d'un côté si l'on connait la longueur de l'hypoténuse et d'un côté ;\n",
    "- déterminer les longueurs des côtés adjacents et opposés si l'on connait la valeur en radian d'un angle et la longueur de l'hypothénuse ;\n",
    "- déterminer les longueurs des côtés adjacents et opposés si l'on connait la valeur en degré d'un angle et la longueur de l'hypothénuse ;\n",
    "- déterminer la distance AB quand on connait les coordonnées de A et de B ;\n",
    "- ...\n",
    "!!!"
   ]
  },
  {
   "cell_type": "code",
   "execution_count": null,
   "metadata": {},
   "outputs": [],
   "source": []
  },
  {
   "cell_type": "markdown",
   "metadata": {},
   "source": [
    "!!! success La réponse\n",
    "<details>\n",
    "    <summary style=\"color:red;\">&rarr;Cliquez-ici pour la réponse&larr; </summary>\n",
    "    \n",
    "```python\n",
    "\n",
    "from math import sqrt, cos, sin, pi\n",
    "\n",
    "def longueur_hypoténuse(a,b):\n",
    "    \"\"\"Fonction qui renvoie la longueur de l'hypoténuse\n",
    "    en connaissant les longueurs a et b des deux autres côtés.\n",
    "    \"\"\"\n",
    "    return sqrt(a**2+b**2)\n",
    "\n",
    "def longueur_côté(a,h):\n",
    "    \"\"\"Fonction qui renvoie la longueur manquante d'un côté d'un triangle\n",
    "    rectangle dont on connait la longueur de l'hypoténuse et la longueur de \n",
    "    l'autre côté.\n",
    "    \"\"\"\n",
    "    return sqrt(h**2-a**2)\n",
    "\n",
    "def longueur_triangle(angle, hypoténuse):\n",
    "    \"\"\"Fonction qui renvoie la longueur du côté adjacent puis du côté opposé \n",
    "    à un angle dans un triangle rectangle. On connait la mesure de l'angle en radian\n",
    "    et la longueur de l'hypoténuse.\n",
    "    \"\"\"\n",
    "    return hypoténuse * cos(angle), hypoténuse * sin(angle)\n",
    "\n",
    "def longueur_triangle(angle, hypoténuse):\n",
    "    \"\"\"Fonction qui renvoie la longueur du côté adjacent puis du côté opposé \n",
    "    à un angle dans un triangle rectangle. On connait la mesure de l'angle en degré\n",
    "    et la longueur de l'hypoténuse.\n",
    "    \"\"\"\n",
    "    return hypoténuse * cos(angle*pi/180), hypoténuse * sin(angle*pi/180)\n",
    "\n",
    "def distance(xA,yA,xB,yB):\n",
    "    \"\"\"Renvoie la distance AB\"\"\"\n",
    "    return sqrt((xB-xA)**2+(yB-yA)**2)\n",
    "```\n",
    "    \n",
    "</details>\n",
    "!!!"
   ]
  },
  {
   "cell_type": "markdown",
   "metadata": {},
   "source": [
    "# Le module `random` : \n",
    "\n",
    "Cette bibliothèque est relativement riche. Nous allons regarder quelques unes de ces fonctions.\n",
    "\n",
    "!!! warning **Pour éviter quelques bugs liés aux navigateurs, n'exécuter pas la cellule suivante, le résultat est déjà affiché.**\n",
    "!!!"
   ]
  },
  {
   "cell_type": "code",
   "execution_count": 37,
   "metadata": {},
   "outputs": [
    {
     "name": "stdout",
     "output_type": "stream",
     "text": [
      "Help on built-in function random:\n",
      "\n",
      "random() method of random.Random instance\n",
      "    random() -> x in the interval [0, 1).\n",
      "\n",
      "\n",
      "Help on method randint in module random:\n",
      "\n",
      "randint(a, b) method of random.Random instance\n",
      "    Return random integer in range [a, b], including both end points.\n",
      "\n",
      "\n",
      "Help on method randrange in module random:\n",
      "\n",
      "randrange(start, stop=None, step=1, _int=<class 'int'>) method of random.Random instance\n",
      "    Choose a random item from range(start, stop[, step]).\n",
      "    \n",
      "    This fixes the problem with randint() which includes the\n",
      "    endpoint; in Python this is usually not what you want.\n",
      "\n",
      "\n",
      "Un nombre aléatoire dans l'intervalle [0;1[ est 0.5334820634929965\n",
      "Un nombre aléatoire dans l'intervalle [5;12] est 11\n",
      "Un nombre aléatoire dans l'intervalle [5;15[ est 5\n",
      "Un nombre impaire dans l'intervalle [3;151[ est 29\n",
      "Un nombre aléatoire dans l'intervalle [0;100[ est 88\n"
     ]
    }
   ],
   "source": [
    "from random import random\n",
    "help(random)\n",
    "from random import randint\n",
    "help(randint)\n",
    "from random import randrange\n",
    "help(randrange)\n",
    "\n",
    "print(\"Un nombre aléatoire dans l'intervalle [0;1[ est \",random())\n",
    "print(\"Un nombre aléatoire dans l'intervalle [5;12] est \",randint(5,12))\n",
    "print(\"Un nombre aléatoire dans l'intervalle [5;15[ est \",randrange(5,15))\n",
    "print(\"Un nombre impaire dans l'intervalle [3;151[ est \",randrange(3,151,2))\n",
    "print(\"Un nombre aléatoire dans l'intervalle [0;100[ est \",randrange(100))"
   ]
  },
  {
   "cell_type": "markdown",
   "metadata": {},
   "source": [
    "La bibliothèque `random` est utilisée pour réaliser des simulations en python. Nous l'utiliserons dans les prochains modules pour faire des simulations. "
   ]
  },
  {
   "cell_type": "markdown",
   "metadata": {},
   "source": [
    "!!! example <p style=\"color:red;\">A vous de faire :</p>\n",
    "\n",
    "On souhaite simuler le lancer d'une pièce de monnaie : on génère un nombre aléatoire qui doit être l'entier 0 ou l'entier 1. 0 correspond à face, 1 correspond à pile.\n",
    "Lancer 10 fois une telle pièce. Combien de fois avez-vous obtenu pile ?\n",
    "!!!"
   ]
  },
  {
   "cell_type": "code",
   "execution_count": null,
   "metadata": {},
   "outputs": [],
   "source": []
  },
  {
   "cell_type": "markdown",
   "metadata": {},
   "source": [
    "!!! success La réponse\n",
    "<details>\n",
    "    <summary style=\"color:red;\">&rarr;Cliquez-ici pour la réponse&larr; </summary>\n",
    "    \n",
    "```python\n",
    "print(randint(0,1))\n",
    "print(randint(0,1))\n",
    "print(randint(0,1))\n",
    "print(randint(0,1))\n",
    "print(randint(0,1))\n",
    "print(randint(0,1))\n",
    "print(randint(0,1))\n",
    "print(randint(0,1))\n",
    "print(randint(0,1))\n",
    "print(randint(0,1))\n",
    "```\n",
    "    \n",
    "</details>\n",
    "!!!"
   ]
  },
  {
   "cell_type": "markdown",
   "metadata": {},
   "source": [
    "# Le module `turtle` :\n",
    "\n",
    "Le module `turtle` permet de faire des dessins. Il comporte de nombreux paramètres que vous pouvez retrouver sur [cette page](https://docs.python.org/fr/3/library/turtle.html#turtle-methods). Pour afficher le dessin **dans Capytal**, il est nécessaire que le code se termine par **`done()`**."
   ]
  },
  {
   "cell_type": "code",
   "execution_count": null,
   "metadata": {},
   "outputs": [],
   "source": [
    "from turtle import forward, right, done\n",
    "forward(150)\n",
    "right(90)\n",
    "forward(150)\n",
    "right(90)\n",
    "forward(150)\n",
    "right(90)\n",
    "forward(150)\n",
    "right(90)\n",
    "done()"
   ]
  },
  {
   "cell_type": "markdown",
   "metadata": {},
   "source": [
    "!!! example <p style=\"color:red;\">Exercice : </p>\n",
    "A l'aide des mêmes méthodes, tracer un rectangle de taille 150 * 50.\n",
    "!!!"
   ]
  },
  {
   "cell_type": "code",
   "execution_count": null,
   "metadata": {},
   "outputs": [],
   "source": []
  },
  {
   "cell_type": "markdown",
   "metadata": {},
   "source": [
    "Comme nous avons indiqué qu'il fallait mettre en avant la notion de fonction, écrire une fonction permettant de tracer un rectangle de longueur *longueur* et de largeur *largeur*."
   ]
  },
  {
   "cell_type": "code",
   "execution_count": null,
   "metadata": {},
   "outputs": [],
   "source": []
  },
  {
   "cell_type": "markdown",
   "metadata": {},
   "source": [
    "!!! example <p style=\"color:red;\">Exercice : </p>\n",
    "A l'aide des mêmes méthodes, tracer un triangle équilatéral de côté donné à l'aide d'une fonction.\n",
    "!!!"
   ]
  },
  {
   "cell_type": "code",
   "execution_count": null,
   "metadata": {},
   "outputs": [],
   "source": []
  },
  {
   "cell_type": "markdown",
   "metadata": {},
   "source": [
    "# Les modules `matplotlib` et `numpy` :\n",
    "\n",
    "Ces modules permettent la représentation graphique de fonction assez simplement. Le code pour obtenir une *belle* représentation graphique est cependant complexe. Nous allons donc simplement le donner pour l'instant et nous reviendrons sur certains éléments de ce code plus tard (notamment avec les boucles bornées et les listes). L'import de ces deux bibliothèques est relativement long.\n",
    "\n",
    "\n",
    "**Il faut comprendre les lignes 3 et 4 et être capable de les modifier dans de futurs TPs**.\n",
    "\n",
    "Le code ci-dessous permet de tracer la fonction $x \\rightarrow x^{2}$ sur l'intervalle $[-4;4]$"
   ]
  },
  {
   "cell_type": "code",
   "execution_count": 8,
   "metadata": {},
   "outputs": [
    {
     "data": {
      "application/javascript": [
       "element.append(window._basthonDomNodeBus.pop(0));"
      ]
     },
     "metadata": {},
     "output_type": "display_data"
    }
   ],
   "source": [
    "from matplotlib.pyplot import *\n",
    "from numpy import arange\n",
    "abscisses = [i for i in arange(-4,4.1,0.1)] # ensemble de définition de la fonction : ici [-4;4] et un pas de 0.1\n",
    "images = [i**2 for i in abscisses] # expression algébrique de la fonction : ici, la fonction carré\n",
    "plot(abscisses,images)\n",
    "ax = gca()\n",
    "ax.spines['right'].set_color('none')\n",
    "ax.spines['top'].set_color('none')\n",
    "ax.xaxis.set_ticks_position('bottom')\n",
    "ax.spines['bottom'].set_position(('data',0))\n",
    "ax.yaxis.set_ticks_position('left')\n",
    "ax.spines['left'].set_position(('data',0))\n",
    "show()\n",
    "close()"
   ]
  },
  {
   "cell_type": "markdown",
   "metadata": {},
   "source": [
    "!!! example <p style=\"color:red;\">A vous de faire :</p>\n",
    "\n",
    "Compléter les lignes 3 et 4 du code ci-dessous pour tracer la fonction $x \\rightarrow -x^{2}+2$ sur l'intervalle $[-3;3]$\n",
    "!!!"
   ]
  },
  {
   "cell_type": "code",
   "execution_count": null,
   "metadata": {},
   "outputs": [],
   "source": [
    "from matplotlib.pyplot import *\n",
    "from numpy import arange\n",
    "abscisses = [i for i in arange(...,...,0.1)]\n",
    "images = [... for x in abscisses] \n",
    "plot(abscisses,images)\n",
    "ax = gca()\n",
    "ax.spines['right'].set_color('none')\n",
    "ax.spines['top'].set_color('none')\n",
    "ax.xaxis.set_ticks_position('bottom')\n",
    "ax.spines['bottom'].set_position(('data',0))\n",
    "ax.yaxis.set_ticks_position('left')\n",
    "ax.spines['left'].set_position(('data',0))\n",
    "show()\n",
    "close()"
   ]
  },
  {
   "cell_type": "markdown",
   "metadata": {},
   "source": [
    "## Bilan sur l'import d'une bibliothèque : \n",
    "\n",
    "L'appel à une bibliothèque se fait par le mot clé `from` suivi du nom de la librairie puis `import` et le nom de la fonction que l'on souhaite utiliser : dans la mesure du possible, il ne faut pas importer la totalité de la bibliothèque, ce qui peut engendrer des lenteurs, mais simplement ce dont on a besoin.  \n",
    "`import *` permet d'importer toute les fonctionnalités de la bibliothèque."
   ]
  },
  {
   "cell_type": "code",
   "execution_count": null,
   "metadata": {},
   "outputs": [],
   "source": []
  }
 ],
 "metadata": {
  "celltoolbar": "Aucun(e)",
  "kernelspec": {
   "display_name": "Python 3",
   "language": "python",
   "name": "python3"
  },
  "language_info": {
   "codemirror_mode": {
    "name": "ipython",
    "version": 3
   },
   "file_extension": ".py",
   "mimetype": "text/x-python",
   "name": "python",
   "nbconvert_exporter": "python",
   "pygments_lexer": "ipython3",
   "version": "3.7.6"
  }
 },
 "nbformat": 4,
 "nbformat_minor": 2
}
