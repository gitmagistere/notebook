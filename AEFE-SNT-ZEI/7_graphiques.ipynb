{
 "cells": [
  {
   "cell_type": "markdown",
   "metadata": {},
   "source": [
    "# Les graphiques\n",
    "Python offre la possibilité de tracer un grand nombre de **graphiques**, via son module « matplotlib ». Ce module est très vaste, nous n'en donnerons ici qu'un apperçu. Tout d'abord, le module doit être chargé :"
   ]
  },
  {
   "cell_type": "code",
   "execution_count": null,
   "metadata": {},
   "outputs": [],
   "source": [
    "import matplotlib.pyplot as plt\n",
    "%matplotlib inline"
   ]
  },
  {
   "cell_type": "markdown",
   "metadata": {},
   "source": [
    "Cette dernière commande, spécifique aux notebooks Jupyter, permet de contôler la manière dont les graphiques seront affichés (ici, « à la suite du texte »). Vous pourriez également essayer, à la place du « inline », les options « notebook » et « qt5 ». Elle demandent toutefois un redémarrage du noyaux pour être prises en compte...\n",
    "\n",
    "Nous avons utilisé un ici **alias** (« as plt »), qui allègera grandement la syntaxe des commandes. "
   ]
  },
  {
   "cell_type": "markdown",
   "metadata": {},
   "source": [
    "## Une courbe représentative\n",
    "La courbe sera construite point par point. Le principe est de construire deux listes : la première, appellée X, va contenir les abscisses des points à représenter. La seconde, Y, va contenir les ordonnées de ces points. \n",
    "\n",
    "Nous souhaitons par exemple tracer la courbe représentative de la fonction $x \\mapsto x^2$ sur l'intervalle $[-2 ; 2]$. Nous utiliserons 201 points. \n",
    "\n",
    "On commence par définir la fonction : "
   ]
  },
  {
   "cell_type": "code",
   "execution_count": null,
   "metadata": {},
   "outputs": [],
   "source": [
    "def carré(x):\n",
    "    return x**2"
   ]
  },
  {
   "cell_type": "markdown",
   "metadata": {},
   "source": [
    "On fabrique la liste des abscisses : "
   ]
  },
  {
   "cell_type": "code",
   "execution_count": null,
   "metadata": {},
   "outputs": [],
   "source": [
    "pas = 4/200\n",
    "X = [-2 + k*pas for k in range(201)]\n",
    "print(X)"
   ]
  },
  {
   "cell_type": "markdown",
   "metadata": {},
   "source": [
    "Puis on fabrique la liste des ordonnées :"
   ]
  },
  {
   "cell_type": "code",
   "execution_count": null,
   "metadata": {},
   "outputs": [],
   "source": [
    "Y = [carré(x) for x in X]\n",
    "print(Y)"
   ]
  },
  {
   "cell_type": "markdown",
   "metadata": {},
   "source": [
    "On trace ensuite la courbe : "
   ]
  },
  {
   "cell_type": "code",
   "execution_count": null,
   "metadata": {},
   "outputs": [],
   "source": [
    "plt.plot(X, Y)"
   ]
  },
  {
   "cell_type": "markdown",
   "metadata": {},
   "source": [
    "Sans avoir définit l'alias « plt », nous aurions dû taper la commande « matplotlib.pyplot.plot », ce qui aurait été plus fastitidieux. "
   ]
  },
  {
   "cell_type": "markdown",
   "metadata": {},
   "source": [
    "Puis on décore, on ajoute des fioritures..."
   ]
  },
  {
   "cell_type": "code",
   "execution_count": null,
   "metadata": {},
   "outputs": [],
   "source": [
    "plt.grid()\n",
    "plt.title(\"Une jolie courbe\")\n",
    "plt.xlabel(\"L'axe des abscisses\")\n",
    "plt.ylabel(\"L'axe des ordonnées\")\n",
    "plt.plot(X, Y, color = 'red', linestyle = 'dashed', linewidth = 2, label = 'y = f(x)')\n",
    "plt.plot([-2, -1, 0, 1, 2], [1, 2, 3, 2, 1], linestyle = 'none', color = 'lime', marker = 'o', markersize = 10, label = 'des points')\n",
    "plt.legend()\n",
    "plt.show()"
   ]
  },
  {
   "cell_type": "markdown",
   "metadata": {},
   "source": [
    "## Un histogramme\n",
    "\n",
    "Les histrogrammes sont utilisés en statistiques et en probabilité, pour observer la distribution d'une variable aléatoire.\n",
    "\n",
    "On peut par exemple simuler 1000 lancés d'un dé à six faces et observer la distribution des résultats."
   ]
  },
  {
   "cell_type": "code",
   "execution_count": null,
   "metadata": {},
   "outputs": [],
   "source": [
    "import random\n",
    "dé = [random.randint(1, 6) for k in range(1000)]\n",
    "\n",
    "plt.hist(dé)"
   ]
  },
  {
   "cell_type": "markdown",
   "metadata": {},
   "source": [
    "Encore des fioritures..."
   ]
  },
  {
   "cell_type": "code",
   "execution_count": null,
   "metadata": {},
   "outputs": [],
   "source": [
    "plt.hist(dé, range = (0, 7), bins = 8, color = 'yellow', edgecolor = 'red', hatch = '/', rwidth = 0.6)"
   ]
  },
  {
   "cell_type": "markdown",
   "metadata": {},
   "source": [
    "># Exercice 1\n",
    ">Dans la cellule suivante, deux listes X et Y sont définies. Pouvez-vous construire le nuage de points correspondant à ces deux listes (X en abscisse et Y en ordonnée), en utilisant comme marque des étoiles « * » rouges. Vous n'oublierez bien entendu pas d'ajouter un titre, une légende, ni de nommer vos axes... "
   ]
  },
  {
   "cell_type": "code",
   "execution_count": 1,
   "metadata": {},
   "outputs": [],
   "source": [
    "X = [0, 0.41, 0.91, 1.39, 1.86, 2.33, 2.81, 3.33, 3.79, 4.31, 4.83, 5.36, 5.86, 6.34, 6.77]\n",
    "Y = [0, 0.52, 1.01, 1.42, 1.77, 2.02, 2.16, 2.19, 2.13, 1.96, 1.71, 1.38, 0.97, 0.50, 0]"
   ]
  },
  {
   "cell_type": "markdown",
   "metadata": {},
   "source": [
    "# Synthèse\n",
    "\n",
    "- Python peut créer de très beaux graphiques, via son module « matplotlib.pyplot » ;\n",
    "- L'idée de base est de créer deux listes, une pour les abscisses et une pour les ordonnées ;\n",
    "- Le module matplotlib possède de très nombreuses options de mise en forme ;"
   ]
  }
 ],
 "metadata": {
  "kernelspec": {
   "display_name": "Python 3",
   "language": "python",
   "name": "python3"
  },
  "language_info": {
   "codemirror_mode": {
    "name": "ipython",
    "version": 3
   },
   "file_extension": ".py",
   "mimetype": "text/x-python",
   "name": "python",
   "nbconvert_exporter": "python",
   "pygments_lexer": "ipython3",
   "version": "3.7.4"
  }
 },
 "nbformat": 4,
 "nbformat_minor": 4
}
