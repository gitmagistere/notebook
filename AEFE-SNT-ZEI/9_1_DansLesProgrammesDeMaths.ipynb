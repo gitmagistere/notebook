{
 "cells": [
  {
   "cell_type": "markdown",
   "metadata": {},
   "source": [
    "# Applications et exemples issus des programmes de Mathématiques"
   ]
  },
  {
   "cell_type": "markdown",
   "metadata": {},
   "source": [
    "## En seconde"
   ]
  },
  {
   "cell_type": "markdown",
   "metadata": {},
   "source": [
    "### Exemple 1\n",
    "\n",
    "Déterminer par balayage un encadrement de $\\sqrt{2}$ d’amplitude inférieure ou égale à $10^{-n}$."
   ]
  },
  {
   "cell_type": "code",
   "execution_count": null,
   "metadata": {},
   "outputs": [],
   "source": []
  },
  {
   "cell_type": "markdown",
   "metadata": {},
   "source": [
    "### Exemple 2\n",
    "\n",
    "Déterminer si un entier naturel a est multiple d’un entier naturel b."
   ]
  },
  {
   "cell_type": "code",
   "execution_count": null,
   "metadata": {},
   "outputs": [],
   "source": []
  },
  {
   "cell_type": "markdown",
   "metadata": {},
   "source": [
    "### Exemple 3\n",
    "\n",
    "Pour des entiers a et b donnés, déterminer le plus grand multiple de a inférieur ou égal à b."
   ]
  },
  {
   "cell_type": "code",
   "execution_count": null,
   "metadata": {},
   "outputs": [],
   "source": []
  },
  {
   "cell_type": "markdown",
   "metadata": {},
   "source": [
    "### Exemple 4\n",
    "\n",
    "Déterminer si un entier naturel est premier.\n"
   ]
  },
  {
   "cell_type": "code",
   "execution_count": null,
   "metadata": {},
   "outputs": [],
   "source": []
  },
  {
   "cell_type": "markdown",
   "metadata": {},
   "source": [
    "### Exemple 5\n",
    "\n",
    "Déterminer la première puissance d’un nombre positif donné supérieure ou inférieure à une valeur donnée.\n"
   ]
  },
  {
   "cell_type": "code",
   "execution_count": null,
   "metadata": {},
   "outputs": [],
   "source": []
  },
  {
   "cell_type": "markdown",
   "metadata": {},
   "source": [
    "### Exemple 6\n",
    "\n",
    "Étudier l’alignement de trois points dans le plan."
   ]
  },
  {
   "cell_type": "code",
   "execution_count": null,
   "metadata": {},
   "outputs": [],
   "source": []
  },
  {
   "cell_type": "markdown",
   "metadata": {},
   "source": [
    "### Exemple 7\n",
    "\n",
    "Déterminer une équation de droite passant par deux points donnés."
   ]
  },
  {
   "cell_type": "code",
   "execution_count": null,
   "metadata": {},
   "outputs": [],
   "source": []
  },
  {
   "cell_type": "markdown",
   "metadata": {},
   "source": [
    "### Exemple 8\n",
    "\n",
    "Pour   une   fonction   dont   le   tableau   de variations   est   donné, écrire un algorithme d’approximation numérique d’un extremum (balayage, dichotomie)."
   ]
  },
  {
   "cell_type": "code",
   "execution_count": null,
   "metadata": {},
   "outputs": [],
   "source": []
  },
  {
   "cell_type": "markdown",
   "metadata": {},
   "source": [
    "### Exemple 9\n",
    "\n",
    "Algorithme de calcul approché de longueur d’une portion de courbe représentative de fonction."
   ]
  },
  {
   "cell_type": "code",
   "execution_count": null,
   "metadata": {},
   "outputs": [],
   "source": []
  },
  {
   "cell_type": "markdown",
   "metadata": {},
   "source": [
    "## En première"
   ]
  },
  {
   "cell_type": "markdown",
   "metadata": {},
   "source": [
    "### Approximation de $\\pi$ à l'aide d'une méthode de Monte-Carlo\n",
    "\n",
    "Soit $M(x,y)$, où $0<x<1$ et $0<y<1$. Les valeurs $x$ et $y$ sont tirées aléatoirement.\n",
    "\n",
    "Si $x^2+y^2=1$ alors le point $M(x,y)$ appartient au disque de centre 0 et de rayon 1.\n",
    "\n",
    "On recommence avec plusieurs points, par exemple avec 1000. On « marque » alors le point en rouge s’il est à « l’intérieur » du disque et en bleu sinon.\n",
    "\n",
    "On compte alors le nombre de points à « l’intérieur » du disque et on note s ce nombre.\n",
    "\n",
    "En faisant le rapport du nombre de points dans le disque par rapport au nombre de tirages, si le nombre de tirages est grand, on obtient une approximation du quotient de la surface du quart de disque avec la surface du carré.\n",
    "\n",
    "On obtient une approximation de $\\frac{\\pi}{4}$, reste alors à multiplier par 4 et on aura une approximation du nombre $\\pi$, eh oui !!!"
   ]
  },
  {
   "cell_type": "code",
   "execution_count": 8,
   "metadata": {},
   "outputs": [
    {
     "name": "stdout",
     "output_type": "stream",
     "text": [
      "Choisir le nombre de points :50\n",
      "La valeur approchée du nombre pi est de : 3.28\n"
     ]
    },
    {
     "data": {
      "image/png": "[encoded data removed]",
      "text/plain": [
       "<Figure size 432x288 with 1 Axes>"
      ]
     },
     "metadata": {
      "needs_background": "light"
     },
     "output_type": "display_data"
    }
   ],
   "source": [
    "from math import* #Permet d'importer la bibliothèque math et d'accéder à des fonctions telles que sqrt()\n",
    "from random import * #Permet d'importer la bibliothèque random et d'accéder à des fonction telles que random()\n",
    "import matplotlib.pyplot as plt #permet d'importer la bibliothèque matplotplib et d'accéder à des fonctions telles que plt.plot()\n",
    "\n",
    "def f(x): #Fonction sur laquelle on travaille, ici la fonction carrée\n",
    "    return sqrt(1-x**2)\n",
    "\n",
    "def trace_fonction(n): #Fonction qui permet construire point par point une courbe d'une fonction donnée\n",
    "    X = [k/n for k in range(n)]\n",
    "    F = [f(x) for x in X]\n",
    "    plt.plot(X, F,'r-')\n",
    "   \n",
    "def construction_point(n): #Fonction qui permet de placer aléatoirement des points dans un carré de côté 1 et de compter les points en-dessous de la courbe et au-dessus de la courbe\n",
    "    s=0\n",
    "    for k in range(n):\n",
    "       x_pt=random()\n",
    "       y_pt=random()\n",
    "       if y_pt<f(x_pt):\n",
    "           plt.plot(x_pt, y_pt, '.', color = 'green')\n",
    "           s = s+1\n",
    "       else:\n",
    "           plt.plot(x_pt, y_pt, '.', color = 'blue')\n",
    "    return s\n",
    "   \n",
    "\n",
    "def frequence(s,n): #Fonctions qui permet de calculer l'aire sous la courbe et de fait une valeur approchée du nombre pi\n",
    "    return 4*s/n\n",
    "    \n",
    "#Programme principal\n",
    "n=int(input(\"Choisir le nombre de points :\"))\n",
    "trace_fonction(n)\n",
    "construction_point(n)\n",
    "\n",
    "print(\"La valeur approchée du nombre pi est de :\",frequence(construction_point(n),n))\n",
    "\n",
    "plt.show()"
   ]
  },
  {
   "cell_type": "code",
   "execution_count": null,
   "metadata": {},
   "outputs": [],
   "source": []
  }
 ],
 "metadata": {
  "kernelspec": {
   "display_name": "Python 3",
   "language": "python",
   "name": "python3"
  },
  "language_info": {
   "codemirror_mode": {
    "name": "ipython",
    "version": 3
   },
   "file_extension": ".py",
   "mimetype": "text/x-python",
   "name": "python",
   "nbconvert_exporter": "python",
   "pygments_lexer": "ipython3",
   "version": "3.7.4"
  }
 },
 "nbformat": 4,
 "nbformat_minor": 4
}
