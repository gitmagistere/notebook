{
 "cells": [
  {
   "cell_type": "markdown",
   "metadata": {},
   "source": [
    "# Un mot sur les blocs et l'indentation\n",
    "Nous allons commencer à utiliser des *blocs* de code, des séries d'instructions destinées à être éxécutées les unes à la suite des autres. Pour regrouper des commandes dans un bloc en Python, nous allons utiliser *l'indentation*, qui consiste à décaler de quatre espaces les commandes du bloc. Dans la plupart des éditeurs, cette indentation se fera automatiquement après la création d'un bloc comme \"for ...:\", \"if ...:\" ou \"def ...:\". "
   ]
  },
  {
   "cell_type": "markdown",
   "metadata": {},
   "source": [
    "# La boucle bornée « for » (le nombre d'itérations est connu à l'avance)\n",
    "\n",
    "La boucle for est la façon la plus simple de répéter des instructions. Comme on l'a déjà vu précédemment, elle se décompose comme suit :"
   ]
  },
  {
   "cell_type": "code",
   "execution_count": null,
   "metadata": {},
   "outputs": [],
   "source": [
    "for i in range(3):\n",
    "    print(\"Hello World !\")"
   ]
  },
  {
   "cell_type": "markdown",
   "metadata": {},
   "source": [
    "La construction est toujours identique : le for, le in, le range(3) où 3 désigne le nombre de répétitions souhaitées. La boucle incrémente seule la valeur de i, qui prend pour valeurs successives : 0, 1 et 2. Attention, i démarre à 0 et pas à 1 ! Essayer pour voir, compléter le programme ci-dessous de sorte à afficher les valeurs de i :"
   ]
  },
  {
   "cell_type": "code",
   "execution_count": null,
   "metadata": {},
   "outputs": [],
   "source": [
    "for i in range(3):\n",
    "    print(i)"
   ]
  },
  {
   "cell_type": "markdown",
   "metadata": {},
   "source": [
    "Vous noterez les deux points à la fin de la ligne et aussi le décalage sur la ligne suivante, on appelle ça une \"indentation\". Voyons sur des exemples, à vous de jouer :"
   ]
  },
  {
   "cell_type": "markdown",
   "metadata": {},
   "source": [
    ">## Exemple 1 \n",
    ">Ecrire un programme qui permet d'afficher les carrés des entiers de 0 jusqu'à 10"
   ]
  },
  {
   "cell_type": "code",
   "execution_count": null,
   "metadata": {},
   "outputs": [],
   "source": [
    "for i in range():"
   ]
  },
  {
   "cell_type": "markdown",
   "metadata": {},
   "source": [
    ">## Exemple 2\n",
    ">Ecrire un programme qui permet de faire la somme des carrés des entiers de 1 jusqu'à 10"
   ]
  },
  {
   "cell_type": "code",
   "execution_count": null,
   "metadata": {},
   "outputs": [],
   "source": [
    "s=0\n",
    "for i in range(11):"
   ]
  },
  {
   "cell_type": "markdown",
   "metadata": {},
   "source": [
    ">## Exemple 3\n",
    ">Ecrire un programme qui prend en entrée un entier positif et qui renvoie la table de multiplication de cet entier."
   ]
  },
  {
   "cell_type": "code",
   "execution_count": 1,
   "metadata": {},
   "outputs": [],
   "source": [
    "# Ecrire votre code ici"
   ]
  },
  {
   "cell_type": "markdown",
   "metadata": {},
   "source": [
    "La commande range() possède, comme vous, d'autres  qualités... Essayer les différentes lignes ci-dessous et parlons-en :"
   ]
  },
  {
   "cell_type": "code",
   "execution_count": null,
   "metadata": {},
   "outputs": [],
   "source": [
    "for i in range(1,8):\n",
    "    print(\"i=\",i)"
   ]
  },
  {
   "cell_type": "code",
   "execution_count": null,
   "metadata": {},
   "outputs": [],
   "source": [
    "for i in range(0,8,2):\n",
    "    print(\"i=\",i)"
   ]
  },
  {
   "cell_type": "code",
   "execution_count": null,
   "metadata": {},
   "outputs": [],
   "source": [
    "for i in range(8,1,-1):\n",
    "    print(\"i=\",i)"
   ]
  },
  {
   "cell_type": "markdown",
   "metadata": {},
   "source": [
    ">## Exemple 4\n",
    ">Ecrire un programme qui calcule la somme des 20 premiers entiers impairs "
   ]
  },
  {
   "cell_type": "code",
   "execution_count": 2,
   "metadata": {},
   "outputs": [],
   "source": [
    "# Ecrire votre code ici"
   ]
  },
  {
   "cell_type": "markdown",
   "metadata": {},
   "source": [
    "Python permet même des choses étonnantes, comme de parcourir les éléments d'une chaine de caractère dans une boucle. Essayez par exemple le code suivant :"
   ]
  },
  {
   "cell_type": "code",
   "execution_count": null,
   "metadata": {},
   "outputs": [],
   "source": [
    "phrase = \"rien ne sert de courir\"\n",
    "for lettre in phrase:\n",
    "  print(lettre)"
   ]
  },
  {
   "cell_type": "markdown",
   "metadata": {},
   "source": [
    "# La boucle non bornée « while » (le nombre d'itérations n'est pas connu à l'avance)\n",
    "\n",
    "Avec la boucle while, il sera nécessaire de préciser le critère d'arrêt, sans quoi la boucle « Tant que » ne se terminera jamais ! Regardons un premier exemple :"
   ]
  },
  {
   "cell_type": "code",
   "execution_count": 1,
   "metadata": {},
   "outputs": [
    {
     "name": "stdout",
     "output_type": "stream",
     "text": [
      "Hello world !\n",
      "Hello world !\n",
      "Hello world !\n"
     ]
    }
   ],
   "source": [
    "i=0\n",
    "while i<3:\n",
    "    print(\"Hello world !\")\n",
    "    i+=1"
   ]
  },
  {
   "cell_type": "markdown",
   "metadata": {},
   "source": [
    "Vous noterez, comme pour la boucle for, les deux points à la fin de la ligne et l'indentation sur la ligne suivante."
   ]
  },
  {
   "cell_type": "markdown",
   "metadata": {},
   "source": [
    "Le code suivant permet d'approcher le nombre $\\sqrt{2}$ par défaut au centième près. Là encore, le nombre d'itération n'est pas connu à l'avance. "
   ]
  },
  {
   "cell_type": "code",
   "execution_count": null,
   "metadata": {},
   "outputs": [],
   "source": [
    "i = 1\n",
    "while i**2 <= 2:\n",
    "    print(i)\n",
    "    i = i + 0.01"
   ]
  },
  {
   "cell_type": "markdown",
   "metadata": {},
   "source": [
    ">## Exemple 5\n",
    ">Ecrire un programme qui permet d'entrer une valeur et qui n'accepte pas de valeur nulle. Autrement dit, il redemande à l'utilisateur d'entrer à nouveau une valeur. La valeur entrée, non nulle, devra être affichée."
   ]
  },
  {
   "cell_type": "code",
   "execution_count": 1,
   "metadata": {},
   "outputs": [],
   "source": [
    "#Tapez votre code ici"
   ]
  },
  {
   "cell_type": "markdown",
   "metadata": {},
   "source": [
    "Ici la boucle while était nécessaire, un for aurait été insuffisant, d'après vous pour quelle raison ? Vous pouvez faire vos essais.."
   ]
  },
  {
   "cell_type": "markdown",
   "metadata": {},
   "source": [
    ">## Exemple 6\n",
    ">Un exemple classique, la recherche d'un seuil, écrire un programme qui affiche la plus petite valeur à partir de laquelle la somme S=1+2+3+...+n, est strictement plus grande que 1000"
   ]
  },
  {
   "cell_type": "code",
   "execution_count": 2,
   "metadata": {},
   "outputs": [],
   "source": [
    "#Tapez votre code ici"
   ]
  },
  {
   "cell_type": "markdown",
   "metadata": {},
   "source": [
    ">## Exemple 7 : et si on prenait un exemple du programme de seconde en mathématiques\n",
    ">Pour des entiers a et b donnés, déterminer le plus grand multiple de a inférieur ou égal à b."
   ]
  },
  {
   "cell_type": "code",
   "execution_count": 3,
   "metadata": {},
   "outputs": [],
   "source": [
    "#Tapez votre code ici"
   ]
  },
  {
   "cell_type": "markdown",
   "metadata": {},
   "source": [
    "# Synthèse"
   ]
  },
  {
   "cell_type": "markdown",
   "metadata": {},
   "source": [
    "- Une boucle sert à répéter une suite d'instructions\n",
    "- On peut créer une boucle à l'aide des mots « for » ou « while »\n",
    "- La boucle for est utilisée lorsque l'on connaît le nombre d'itérations et while lorsqu'on ne connaît pas le nombre d'itérations, dans ce dernier cas un critère d'arrêt est indispensable"
   ]
  }
 ],
 "metadata": {
  "kernelspec": {
   "display_name": "Python 3",
   "language": "python",
   "name": "python3"
  },
  "language_info": {
   "codemirror_mode": {
    "name": "ipython",
    "version": 3
   },
   "file_extension": ".py",
   "mimetype": "text/x-python",
   "name": "python",
   "nbconvert_exporter": "python",
   "pygments_lexer": "ipython3",
   "version": "3.7.4"
  }
 },
 "nbformat": 4,
 "nbformat_minor": 4
}
