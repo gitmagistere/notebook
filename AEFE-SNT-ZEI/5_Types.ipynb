{
 "cells": [
  {
   "cell_type": "markdown",
   "metadata": {},
   "source": [
    "# Les booléens\n",
    "Un booléen est un type particulier de variable qui ne peut prendre que deux valeurs : Vrai (True) ou Faux (False). C'est en particulier ce type qui est utilisé pour les tests dans les structures conditionnelles ou les boucles non bornées."
   ]
  },
  {
   "cell_type": "code",
   "execution_count": null,
   "metadata": {},
   "outputs": [],
   "source": [
    "a = 2\n",
    "b = 3\n",
    "c = (a == b)\n",
    "d = (a <= b)\n",
    "print(type(c), type(d))\n",
    "print(f'c est {c}')\n",
    "print(f'd est {d}')"
   ]
  },
  {
   "cell_type": "markdown",
   "metadata": {},
   "source": [
    "# Les chaines de caractères\n",
    "Les chaines de caractère (string ou str pour Python) représentent, comme leur nom l'indique, des morceaux de texte. Une chaine de caractères se déclare en étant encadrée par des guillemets simples comme 'spam' ou doubles comme \"spam\". "
   ]
  },
  {
   "cell_type": "code",
   "execution_count": 1,
   "metadata": {},
   "outputs": [
    {
     "name": "stdout",
     "output_type": "stream",
     "text": [
      "<class 'str'>\n"
     ]
    }
   ],
   "source": [
    "chaine = 'spam'\n",
    "print(type(chaine))"
   ]
  },
  {
   "cell_type": "markdown",
   "metadata": {},
   "source": [
    "Les guillemets doubles permettent en particulier d'utiliser une apostrophe (un guillet simple) dans une chaine :"
   ]
  },
  {
   "cell_type": "code",
   "execution_count": 2,
   "metadata": {},
   "outputs": [
    {
     "name": "stdout",
     "output_type": "stream",
     "text": [
      "j'utilise une chaine\n"
     ]
    }
   ],
   "source": [
    "chaine = \"j'utilise une chaine\"\n",
    "print(chaine)"
   ]
  },
  {
   "cell_type": "markdown",
   "metadata": {},
   "source": [
    "Comme on l'a déjà vu, il est possible **d'itérer** (de parcourir dans une boucle) sur une chaine de caractères : "
   ]
  },
  {
   "cell_type": "code",
   "execution_count": 3,
   "metadata": {},
   "outputs": [
    {
     "name": "stdout",
     "output_type": "stream",
     "text": [
      "j\n",
      "'\n",
      "u\n",
      "t\n",
      "i\n",
      "l\n",
      "i\n",
      "s\n",
      "e\n",
      " \n",
      "u\n",
      "n\n",
      "e\n",
      " \n",
      "c\n",
      "h\n",
      "a\n",
      "i\n",
      "n\n",
      "e\n"
     ]
    }
   ],
   "source": [
    "for caractere in chaine:\n",
    "    print(caractere)"
   ]
  },
  {
   "cell_type": "markdown",
   "metadata": {},
   "source": [
    "Il est possible de **concacténer** deux chaines de caractères simplement avec le symbole '+' :"
   ]
  },
  {
   "cell_type": "code",
   "execution_count": 4,
   "metadata": {},
   "outputs": [
    {
     "name": "stdout",
     "output_type": "stream",
     "text": [
      "Bonjour, il fait beau aujourd'hui !\n"
     ]
    }
   ],
   "source": [
    "a = 'Bonjour,'\n",
    "b = \" il fait beau aujourd'hui\"\n",
    "c = ' !'\n",
    "d = a + b + c\n",
    "print(d)"
   ]
  },
  {
   "cell_type": "markdown",
   "metadata": {},
   "source": [
    "Les chaines de caractères proposent de nombreuses **méthodes** pour les manipuler, que nous ne détaillerons pas. Nous signalerons juste ici la méthode 'split' qui permet de transformer une chaine en la liste de ses mots :"
   ]
  },
  {
   "cell_type": "code",
   "execution_count": 5,
   "metadata": {},
   "outputs": [
    {
     "name": "stdout",
     "output_type": "stream",
     "text": [
      "[\"j'utilise\", 'une', 'chaine']\n"
     ]
    }
   ],
   "source": [
    "mots = chaine.split(sep = ' ')\n",
    "print(mots)"
   ]
  },
  {
   "cell_type": "markdown",
   "metadata": {},
   "source": [
    "# Les listes\n",
    "Les listes sont certainement l'un des types les plus utiles et les plus utilisés en Python. Une liste est une collection d'objets quelconques, **indexés**. Elle se déclare entre crochets."
   ]
  },
  {
   "cell_type": "code",
   "execution_count": 6,
   "metadata": {},
   "outputs": [
    {
     "name": "stdout",
     "output_type": "stream",
     "text": [
      "[1, 'spam', 36, 'monty', True]\n"
     ]
    }
   ],
   "source": [
    "maliste = [1, 'spam', 36, 'monty', True]\n",
    "print(maliste)"
   ]
  },
  {
   "cell_type": "code",
   "execution_count": 7,
   "metadata": {},
   "outputs": [
    {
     "name": "stdout",
     "output_type": "stream",
     "text": [
      "1\n",
      "spam\n",
      "36\n",
      "monty\n",
      "True\n"
     ]
    }
   ],
   "source": [
    "for element in maliste:\n",
    "    print(element)"
   ]
  },
  {
   "cell_type": "code",
   "execution_count": 8,
   "metadata": {},
   "outputs": [
    {
     "name": "stdout",
     "output_type": "stream",
     "text": [
      "spam\n",
      "1\n",
      "True\n"
     ]
    }
   ],
   "source": [
    "print(maliste[1], maliste[0], maliste[-1], sep = '\\n')"
   ]
  },
  {
   "cell_type": "markdown",
   "metadata": {},
   "source": [
    "Le premier éléments d'une liste porte l'index 0. Ici, le dernier élément porte l'index 4, ou -1.\n",
    "\n",
    "On peut également découper ('slicing') une liste en tranches."
   ]
  },
  {
   "cell_type": "code",
   "execution_count": 9,
   "metadata": {},
   "outputs": [
    {
     "name": "stdout",
     "output_type": "stream",
     "text": [
      "['spam', 36]\n",
      "[1, 'spam']\n",
      "['spam']\n",
      "[1, 'spam', 36]\n",
      "[36, 'monty', True]\n"
     ]
    }
   ],
   "source": [
    "print(maliste[1:3])\n",
    "print(maliste[0:2])\n",
    "print(maliste[1:2])\n",
    "print(maliste[:3])\n",
    "print(maliste[2:])"
   ]
  },
  {
   "cell_type": "markdown",
   "metadata": {},
   "source": [
    "On remarquera que maliste[a:b] est une nouvelle liste, formée des éléments de la liste originale dont l'index est dans l'intervalle [a:b[."
   ]
  },
  {
   "cell_type": "markdown",
   "metadata": {},
   "source": [
    "La longueur d'une liste est donnée par len(liste) :"
   ]
  },
  {
   "cell_type": "code",
   "execution_count": 10,
   "metadata": {},
   "outputs": [
    {
     "data": {
      "text/plain": [
       "5"
      ]
     },
     "execution_count": 10,
     "metadata": {},
     "output_type": "execute_result"
    }
   ],
   "source": [
    "len(maliste)"
   ]
  },
  {
   "cell_type": "markdown",
   "metadata": {},
   "source": [
    "A nouveau, il existe de très nombreuses méthodes pour manipuler les listes. Nous en mentionnerons troids ici, parmi les plus utilisées. La méthode 'append' permet d'ajouter un élément à la fin d'une liste."
   ]
  },
  {
   "cell_type": "code",
   "execution_count": 11,
   "metadata": {},
   "outputs": [
    {
     "name": "stdout",
     "output_type": "stream",
     "text": [
      "[1, 'spam', 36, 'monty', True, 'bonjour']\n"
     ]
    }
   ],
   "source": [
    "maliste.append('bonjour')\n",
    "print(maliste)"
   ]
  },
  {
   "cell_type": "markdown",
   "metadata": {},
   "source": [
    "Ceci est très souvent utilisé pour construire des listes en partant d'une liste vide. Par exemple, la liste suivante contient tous les multiples de 7 compris entre 0 et 100 :"
   ]
  },
  {
   "cell_type": "code",
   "execution_count": 12,
   "metadata": {},
   "outputs": [
    {
     "name": "stdout",
     "output_type": "stream",
     "text": [
      "[0, 7, 14, 21, 28, 35, 42, 49, 56, 63, 70, 77, 84, 91, 98]\n"
     ]
    }
   ],
   "source": [
    "multiples = []\n",
    "k = 0\n",
    "while 7*k <= 100:\n",
    "    multiples.append(7*k)\n",
    "    k = k+1\n",
    "print(multiples)"
   ]
  },
  {
   "cell_type": "markdown",
   "metadata": {},
   "source": [
    "La méthode « index » permet d'obtenir le rang d'un élément d'une liste : "
   ]
  },
  {
   "cell_type": "code",
   "execution_count": 13,
   "metadata": {},
   "outputs": [
    {
     "data": {
      "text/plain": [
       "1"
      ]
     },
     "execution_count": 13,
     "metadata": {},
     "output_type": "execute_result"
    }
   ],
   "source": [
    "maliste.index('spam')"
   ]
  },
  {
   "cell_type": "markdown",
   "metadata": {},
   "source": [
    "Et la méthode 'join' permet de rassembler les éléments d'une liste pour former une chaine de caractères. "
   ]
  },
  {
   "cell_type": "code",
   "execution_count": 15,
   "metadata": {},
   "outputs": [
    {
     "name": "stdout",
     "output_type": "stream",
     "text": [
      "['Bonjour', ',', 'Comment', 'Allez-vous', '?']\n",
      "Bonjour , Comment Allez-vous ?\n"
     ]
    }
   ],
   "source": [
    "mots = ['Bonjour', ',', 'Comment', 'Allez-vous', '?']\n",
    "phrase = \" \".join(mots)\n",
    "print(mots)\n",
    "print(phrase)"
   ]
  },
  {
   "cell_type": "markdown",
   "metadata": {},
   "source": [
    "Un dernier point : il est également possible de fabriquer des listes **par compréhension**. C'est une manière particulièrement concise et élégante de construire des listes. Considérez le code suivant :"
   ]
  },
  {
   "cell_type": "code",
   "execution_count": 16,
   "metadata": {},
   "outputs": [
    {
     "name": "stdout",
     "output_type": "stream",
     "text": [
      "['s', 'p', 'a', 'm']\n"
     ]
    }
   ],
   "source": [
    "mot = 'spam'\n",
    "lettres = [lettre for lettre in mot]\n",
    "print(lettres)"
   ]
  },
  {
   "cell_type": "markdown",
   "metadata": {},
   "source": [
    "# Exercices"
   ]
  },
  {
   "cell_type": "markdown",
   "metadata": {},
   "source": [
    "> ## Exercice 1\n",
    "> Construire une liste qui contiendra les carrés des entiers compris entre 0 et 10 ([0, 1, 4, 9, ..., 100])"
   ]
  },
  {
   "cell_type": "code",
   "execution_count": null,
   "metadata": {},
   "outputs": [],
   "source": [
    "# Tapez votre code ici"
   ]
  },
  {
   "cell_type": "markdown",
   "metadata": {},
   "source": [
    "> ## Exercice 2\n",
    "> Ecrire une fonction qui prend une phrase pour argument, et qui renvoie son avant-dernier mot. "
   ]
  },
  {
   "cell_type": "code",
   "execution_count": null,
   "metadata": {},
   "outputs": [],
   "source": [
    "# Tapez votre code ici"
   ]
  },
  {
   "cell_type": "markdown",
   "metadata": {},
   "source": [
    "# Synthèse"
   ]
  },
  {
   "cell_type": "code",
   "execution_count": null,
   "metadata": {},
   "outputs": [],
   "source": []
  }
 ],
 "metadata": {
  "kernelspec": {
   "display_name": "Python 3",
   "language": "python",
   "name": "python3"
  },
  "language_info": {
   "codemirror_mode": {
    "name": "ipython",
    "version": 3
   },
   "file_extension": ".py",
   "mimetype": "text/x-python",
   "name": "python",
   "nbconvert_exporter": "python",
   "pygments_lexer": "ipython3",
   "version": "3.7.4"
  }
 },
 "nbformat": 4,
 "nbformat_minor": 4
}
