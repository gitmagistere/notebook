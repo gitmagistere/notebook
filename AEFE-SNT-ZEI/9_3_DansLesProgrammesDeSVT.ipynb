{
 "cells": [
  {
   "cell_type": "markdown",
   "metadata": {},
   "source": [
    "# Dans le programme de seconde\n",
    "\n",
    "Voici l'énoncé d'un exercice issu d'un manuel de seconde (Hatier SVT Seconde 2019, chapitre 1, activité 4 P. 22) : \n",
    "\n",
    ">Activité guidée Python – Script à compléter.\n",
    ">L’objectif de cette activité est de réaliser un programme en langage Python qui affiche la séquence d’ADN complémentaire à celle écrite par l’utilisateur. Prérequis L’ADN est organisée en deux brins enroulés en double hélice. Chaque brin est un enchaînement de sous-unités, les nucléotides. Il existe quatre types de nucléotides différents dans l’ADN : les nucléotides à adénine (A), à thymine (T), à cytosine (C) et à guanine (G). Les nucléotides des brins sont complémentaires deux à deux : un nucléotide à adénine fait toujours face à un nucléotide à thymine tandis qu’un nucléotide à guanine fait toujours face à un nucléotide à cytosine."
   ]
  },
  {
   "cell_type": "markdown",
   "metadata": {},
   "source": [
    "## Le script à compléter (une première manière de faire)"
   ]
  },
  {
   "cell_type": "code",
   "execution_count": 31,
   "metadata": {},
   "outputs": [
    {
     "name": "stdout",
     "output_type": "stream",
     "text": [
      "saisir séquence ADN : ACGT\n",
      "Séquence d'ADN complémentaire:\n",
      "T\n"
     ]
    }
   ],
   "source": [
    "probleme=True\n",
    "while probleme:\n",
    "    adn = input( \"saisir séquence ADN : \" )#adn d'entrée\n",
    "    adn=adn.upper() #remplace les minuscules par des majuscules si c'est nécessaire.\n",
    "    resultat = \"\"\n",
    "    probleme = False\n",
    "    for lettre in adn:\n",
    "        if lettre == \"A\":\n",
    "            resultat = resultat + \"T\"\n",
    "        if lettre == \"...\":\n",
    "            resultat = ...\n",
    "        if lettre == \"...\":\n",
    "            resultat = ...\n",
    "        if lettre == \"...\":\n",
    "            resultat = ...\n",
    "        if lettre !=\"A\" and lettre !=\"T\" and lettre !=\"C\" and lettre !=\"G\":\n",
    "            print(lettre,\"ne correspond à aucun nucléotide.\")\n",
    "            probleme=True\n",
    "\n",
    "    if probleme == False:\n",
    "        print( \"Séquence d'ADN complémentaire:\")\n",
    "        print( resultat )\n",
    "    else:\n",
    "        print(\"Il y a eu une erreur de saisie.\")\n",
    "        print(\"\")"
   ]
  },
  {
   "cell_type": "markdown",
   "metadata": {},
   "source": [
    "## Questions pour aller plus loin\n",
    "\n",
    "1. Quel est l’intérêt de mettre l’instruction adn=adn.upper() (ligne 8) avant la boucle « for » ?\n",
    "2. A quoi sert la variable \"probleme\" ?"
   ]
  },
  {
   "cell_type": "markdown",
   "metadata": {},
   "source": [
    "## Une seconde manière de procéder\n",
    "\n",
    "Dans sa forme, le script précédent n'est pas très satisfaisant. Nous vous en proposons ici une seconde version, plus satisfaisante en terme de programmation. \n",
    "\n",
    "Elle utilise deux nouveautés : \n",
    "1. un dictionnaire ;\n",
    "2. le gestionnaire d'erreurs « try ... except ... » ;"
   ]
  },
  {
   "cell_type": "code",
   "execution_count": 32,
   "metadata": {},
   "outputs": [],
   "source": [
    "def complementaire(brin):\n",
    "    correspondant = {\"A\" : \"T\", \"T\" : \"A\", \"C\" : \"G\", \"G\" : \"C\"}\n",
    "    brin = brin.upper()\n",
    "    complement = \"\"\n",
    "    erreurs = 0\n",
    "    for nucleotide in brin:\n",
    "        try:\n",
    "            complement += correspondant[nucleotide]\n",
    "        except KeyError:\n",
    "            print(f\"{nucleotide} ne correspond pas à un nucléotide\")\n",
    "            erreurs += 1\n",
    "    if erreurs:\n",
    "        print(f\"Il y a {erreurs} erreurs dans le brin\")\n",
    "        return None\n",
    "    else:\n",
    "        return complement"
   ]
  },
  {
   "cell_type": "code",
   "execution_count": 33,
   "metadata": {},
   "outputs": [
    {
     "data": {
      "text/plain": [
       "'TGACTGGACGGTAAGCTAATGGT'"
      ]
     },
     "execution_count": 33,
     "metadata": {},
     "output_type": "execute_result"
    }
   ],
   "source": [
    "brin1 = \"ACTGACCTGCCATTCGATTACCA\"\n",
    "complementaire(brin1)"
   ]
  },
  {
   "cell_type": "code",
   "execution_count": 34,
   "metadata": {},
   "outputs": [
    {
     "name": "stdout",
     "output_type": "stream",
     "text": [
      "S ne correspond pas à un nucléotide\n",
      "P ne correspond pas à un nucléotide\n",
      "M ne correspond pas à un nucléotide\n",
      ", ne correspond pas à un nucléotide\n",
      "  ne correspond pas à un nucléotide\n",
      "S ne correspond pas à un nucléotide\n",
      "U ne correspond pas à un nucléotide\n",
      "S ne correspond pas à un nucléotide\n",
      "E ne correspond pas à un nucléotide\n",
      "S ne correspond pas à un nucléotide\n",
      ", ne correspond pas à un nucléotide\n",
      "  ne correspond pas à un nucléotide\n",
      "E ne correspond pas à un nucléotide\n",
      "S ne correspond pas à un nucléotide\n",
      ", ne correspond pas à un nucléotide\n",
      "  ne correspond pas à un nucléotide\n",
      "B ne correspond pas à un nucléotide\n",
      "O ne correspond pas à un nucléotide\n",
      "N ne correspond pas à un nucléotide\n",
      "  ne correspond pas à un nucléotide\n",
      "N ne correspond pas à un nucléotide\n",
      "D ne correspond pas à un nucléotide\n",
      "  ne correspond pas à un nucléotide\n",
      "S ne correspond pas à un nucléotide\n",
      "P ne correspond pas à un nucléotide\n",
      "M ne correspond pas à un nucléotide\n",
      "Il y a 26 erreurs dans le brin\n"
     ]
    }
   ],
   "source": [
    "brin2 = \"spam, sausages, eggs, bacon and spam\"\n",
    "complementaire(brin2)"
   ]
  },
  {
   "cell_type": "markdown",
   "metadata": {},
   "source": [
    "### Quelques questions pour aller plus loin\n",
    "\n",
    "1. A quoi sert la variable « erreurs » ?\n",
    "2. Que fait la ligne « complement += correspondant[nucleotide] » ?\n",
    "3. Comment fonctionne la commande « try... except... » ?"
   ]
  },
  {
   "cell_type": "markdown",
   "metadata": {},
   "source": [
    "## En SVT en première"
   ]
  },
  {
   "cell_type": "markdown",
   "metadata": {},
   "source": [
    "Et oui, même en Sciences et Vie de la Terre, Python apparaît ! Voyons un peu ce que précise le programme :\n",
    "\n",
    "Quelques extraits : \"Le numérique et les SVT [...], développement de compétences numériques : l’usage [...] de la programmation[...]. Vers de nouvelles perspectives de formation comme la bio-informatique ou l’exploitation de données. Les SVT intègrent naturellement dans leurs pratiques les acquis des autres disciplines scientifiques, en particulier la physique-chimie et l’informatique.\"\n",
    "\n",
    "Nous vous proposons dans cette partie de réinvestir ce que vous avez déjà vu dans ce parcours. Pour cela nous nous sommes appuyés sur votre programme, plus précisément sur la partie \"L'expression du patrimoine génétique\". \n",
    "\n",
    "Dans les capacités attendues on peut voir : \"Concevoir  un  algorithme  de  traduction  d’une  séquence  d’ARN  et  éventuellement  le programmer dans un langage informatique (par exemple Python).\"\n",
    "\n",
    "N'oubliez pas, toute activité mettant en œuvre des calculs ou traitements de données permet d'écrire un algorithme ! On peut donc programmer beaucoup de choses."
   ]
  },
  {
   "cell_type": "markdown",
   "metadata": {},
   "source": [
    "### Exercice 1"
   ]
  },
  {
   "cell_type": "markdown",
   "metadata": {},
   "source": [
    "Calculer le nombre de combinaisons possibles de séquences de nucléotides, de longueur n. Comparer à un code binaire utilisé en informatique."
   ]
  },
  {
   "cell_type": "code",
   "execution_count": null,
   "metadata": {},
   "outputs": [],
   "source": [
    "#def nbnucleo(n):"
   ]
  },
  {
   "cell_type": "markdown",
   "metadata": {},
   "source": [
    "### Exercice 2"
   ]
  },
  {
   "cell_type": "markdown",
   "metadata": {},
   "source": [
    "Calculer le nombre de combinaisons possibles de séquences d'acides aminés, à partir d'une séquence de nucléotide de longueur n. Comparer au calcul réalisé pour l'ADN."
   ]
  },
  {
   "cell_type": "code",
   "execution_count": null,
   "metadata": {},
   "outputs": [],
   "source": [
    "#def nbamines(n):"
   ]
  },
  {
   "cell_type": "markdown",
   "metadata": {},
   "source": [
    "### Exercice 3\n",
    "\n",
    "Une séquence d'ADN est un mot formé des quatres lettres 'ACGT'. Lors de la transcription, une séquence d'ADN est copiée en une séquence correspondante d'ARN, en faisant correspondre les bases.\n",
    "\n",
    "Pourriez-vous écrire une fonction qui prenne en entrée un mot formé des quatres lettres 'ACGT', et qui renvoie sa transcription en sous forme d'une chaine ARN formée des quatre lettres 'ACGU' ?\n",
    "\n",
    "*N.B. : pour cet exercice, il pourra à nouveau être pratique d'utiliser un dictionnaire. Demandez de l'aide au besoin...*"
   ]
  },
  {
   "cell_type": "code",
   "execution_count": 18,
   "metadata": {},
   "outputs": [],
   "source": [
    "#def trans(mot):"
   ]
  },
  {
   "cell_type": "markdown",
   "metadata": {},
   "source": [
    "### Exercice 4\n",
    "\n",
    "Pourriez-vous écrire une fonction qui génère (par exemple sous la forme d'une liste) toutes les séquences (les mots) de trois lettres que l'on peut former avec les lettres 'ACGU' ? (il y en a $4^3 = 64$.) "
   ]
  },
  {
   "cell_type": "code",
   "execution_count": 19,
   "metadata": {},
   "outputs": [],
   "source": [
    "#Tapez votre code ici"
   ]
  },
  {
   "cell_type": "markdown",
   "metadata": {},
   "source": [
    "### Exercice 5\n",
    "\n",
    "Enfin, vous allez concevoir  un  algorithme  de  traduction  d’une  séquence  d’ARN  et  éventuellement le programmer (« dans un langage informatique, éventuellement en Python »). Vous pouvez vous référer au document « Application en SVT » disponible sur M@gistère pour un énoncé détaillé.\n",
    "\n",
    "Nous vous donnons le dictionnaire et le début du code pour vous lancer..."
   ]
  },
  {
   "cell_type": "code",
   "execution_count": 29,
   "metadata": {},
   "outputs": [
    {
     "data": {
      "text/plain": [
       "'MLGC'"
      ]
     },
     "execution_count": 29,
     "metadata": {},
     "output_type": "execute_result"
    }
   ],
   "source": [
    "def ARN(seqarn):\n",
    "    proteines = {\"UUU\":\"F\",\"UUC\":\"F\",\"UUA\":\"L\",\"UUG\":\"L\",\"UCU\":\"S\",\"UCC\":\"S\",\"UCA\":\"S\",\"UCG\":\"S\",\"UAU\":\"Y\",\"UAC\":\"Y\",\"UAA\":\"*\",\"UAG\":\"*\",\n",
    "    \"UGU\":\"C\",\"UGC\":\"C\",\"UGA\":\"*\",\"UGG\":\"W\",\"CUU\":\"L\",\"CUC\":\"L\",\"CUA\":\"L\",\"CUG\":\"L\",\"CCU\":\"P\",\"CCC\":\"P\",\"CCA\":\"P\",\"CCG\":\"P\",\n",
    "    \"CAU\":\"H\",\"CAC\":\"H\",\"CAA\":\"Q\",\"CAG\":\"Q\",\"CGU\":\"R\",\"CGC\":\"R\",\"CGA\":\"R\",\"CGG\":\"R\",\"AUU\":\"I\",\"AUC\":\"I\",\"AUA\":\"I\",\"AUG\":\"M\",\n",
    "    \"ACU\":\"T\",\"ACC\":\"T\",\"ACA\":\"T\",\"ACG\":\"T\",\"AAU\":\"N\",\"AAC\":\"N\",\"AAA\":\"K\",\"AAG\":\"K\",\"AGU\":\"S\",\"AGC\":\"S\",\"AGA\":\"R\",\"AGG\":\"R\",\n",
    "    \"GUU\":\"V\",\"GUC\":\"V\",\"GUA\":\"V\",\"GUG\":\"V\",\"GCU\":\"A\",\"GCC\":\"A\",\"GCA\":\"A\",\"GCG\":\"A\",\"GAU\":\"D\",\"GAC\":\"D\",\"GAA\":\"E\",\"GAG\":\"E\",\n",
    "    \"GGU\":\"G\",\"GGC\":\"G\",\"GGA\":\"G\",\"GGG\":\"G\"}\n",
    "\n",
    "    arn=\"\"\n",
    "    j=0\n",
    "    while seqarn[j:j+3] != #à compléter\n",
    "        #à compléter\n",
    "\n",
    "    for i in range(#à compléter)\n",
    "        codon = seqarn[i:i+3]\n",
    "        if codon == #... or codon == #... or codon == \"#...:\n",
    "            return #...\n",
    "        else:\n",
    "            p = proteines[codon]\n",
    "            arn += #...\n",
    "    return #...\n",
    "\n",
    "ARN(\"UCCCCCUGCAUGCUUGGGUGCUAAGUGGCU\")"
   ]
  },
  {
   "cell_type": "code",
   "execution_count": null,
   "metadata": {},
   "outputs": [],
   "source": []
  }
 ],
 "metadata": {
  "kernelspec": {
   "display_name": "Python 3",
   "language": "python",
   "name": "python3"
  },
  "language_info": {
   "codemirror_mode": {
    "name": "ipython",
    "version": 3
   },
   "file_extension": ".py",
   "mimetype": "text/x-python",
   "name": "python",
   "nbconvert_exporter": "python",
   "pygments_lexer": "ipython3",
   "version": "3.7.4"
  }
 },
 "nbformat": 4,
 "nbformat_minor": 2
}
