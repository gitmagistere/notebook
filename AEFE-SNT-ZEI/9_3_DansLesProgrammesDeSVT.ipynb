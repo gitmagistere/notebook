{
 "cells": [
  {
   "cell_type": "markdown",
   "metadata": {},
   "source": [
    "## En SVT en première"
   ]
  },
  {
   "cell_type": "markdown",
   "metadata": {},
   "source": [
    "Et oui, même en Sciences et Vie de la Terre, Python apparaît ! Voyons un peu ce que précise le programme :\n",
    "\n",
    "Quelques extraits : \"Le numérique et les SVT [...], développement de compétences numériques : l’usage [...] de la programmation[...]. Vers de nouvelles perspectives de formation comme la bio-informatique ou l’exploitation de données. Les SVT intègrent naturellement dans leurs pratiques les acquis des autres disciplines scientifiques, en particulier la physique-chimie et l’informatique.\"\n",
    "\n",
    "Nous vous proposons dans cette partie de réinvestir ce que vous avez déjà vu dans ce parcours. Pour cela nous nous sommes appuyés sur votre programme, plus précisément sur la partie \"L'expression du patrimoine génétique\". \n",
    "\n",
    "Dans les capacités attendues on peut voir : \"Concevoir  un  algorithme  de  traduction  d’une  séquence  d’ARN  et  éventuellement  le programmer dans un langage informatique (par exemple Python).\"\n",
    "\n",
    "N'oubliez pas, toute activité mettant en œuvre des calculs ou traitements de données permet d'écrire un algorithme ! On peut donc programmer beaucoup de choses."
   ]
  },
  {
   "cell_type": "markdown",
   "metadata": {},
   "source": [
    "### Exercice 1"
   ]
  },
  {
   "cell_type": "markdown",
   "metadata": {},
   "source": [
    "Calculer le nombre de combinaisons possibles de séquences de nucléotides, de longueur n. Comparer à un code binaire utilisé en informatique."
   ]
  },
  {
   "cell_type": "code",
   "execution_count": 15,
   "metadata": {},
   "outputs": [],
   "source": [
    "#def nbnucleo(n):"
   ]
  },
  {
   "cell_type": "markdown",
   "metadata": {},
   "source": [
    "### Exercice 2"
   ]
  },
  {
   "cell_type": "markdown",
   "metadata": {},
   "source": [
    "Calculer le nombre de combinaisons possibles de séquences d'acides aminés, à partir d'une séquence de nucléotide de longueur n. Comparer au calcul réalisé pour l'ADN."
   ]
  },
  {
   "cell_type": "code",
   "execution_count": 16,
   "metadata": {},
   "outputs": [],
   "source": [
    "#def nbamines(n):"
   ]
  },
  {
   "cell_type": "markdown",
   "metadata": {},
   "source": [
    "### Exercice 3\n",
    "\n",
    "Une séquence d'ADN est un mot formé des quatres lettres 'ACGT'. Lors de la transcription, une séquence d'ADN est copiée en une séquence correspondante d'ARN, en faisant correspondre les bases.\n",
    "\n",
    "Pourriez-vous écrire une fonction qui prenne en entrée un mot formé des quatres lettres 'ACGT', et qui renvoie sa transcription en sous forme d'une chaine ARN formée des quatre lettres 'ACGU' ?\n",
    "\n",
    "*N.B. : pour cet exercice, il pourra être pratique d'utiliser un nouveau type d'objet proposé par Python, un dictionnaire. Demandez de l'aide au besoin..."
   ]
  },
  {
   "cell_type": "code",
   "execution_count": 10,
   "metadata": {},
   "outputs": [],
   "source": [
    "#def trans(mot):"
   ]
  },
  {
   "cell_type": "markdown",
   "metadata": {},
   "source": [
    "### Exercice 4\n",
    "\n",
    "Pourriez-vous écrire une fonction qui génère (par exemple sous la forme d'une liste) toutes les séquences (les mots) de trois lettres que l'on peut former avec les lettres 'ACGU' ? (il y en a $4^3 = 64$.) "
   ]
  },
  {
   "cell_type": "code",
   "execution_count": 11,
   "metadata": {},
   "outputs": [],
   "source": [
    "#Tapez votre code ici"
   ]
  },
  {
   "cell_type": "markdown",
   "metadata": {},
   "source": [
    "### Exercice 5\n",
    "\n",
    "\"Concevoir  un  algorithme  de  traduction  d’une  séquence  d’ARN  et  éventuellement le programmer dans un langage informatique (par exemple Python).\""
   ]
  },
  {
   "cell_type": "code",
   "execution_count": 14,
   "metadata": {},
   "outputs": [],
   "source": [
    "#def ARN(seqarn):\n",
    "\n",
    "\n",
    "#ARN(\"AUCGGAUCC\")"
   ]
  }
 ],
 "metadata": {
  "kernelspec": {
   "display_name": "Python 3",
   "language": "python",
   "name": "python3"
  },
  "language_info": {
   "codemirror_mode": {
    "name": "ipython",
    "version": 3
   },
   "file_extension": ".py",
   "mimetype": "text/x-python",
   "name": "python",
   "nbconvert_exporter": "python",
   "pygments_lexer": "ipython3",
   "version": "3.7.4"
  }
 },
 "nbformat": 4,
 "nbformat_minor": 2
}
