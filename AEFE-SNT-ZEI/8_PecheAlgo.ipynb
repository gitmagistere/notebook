{
 "cells": [
  {
   "cell_type": "markdown",
   "metadata": {},
   "source": [
    "# Pêche aux algorithmes"
   ]
  },
  {
   "cell_type": "markdown",
   "metadata": {},
   "source": [
    "# Exercice 1\n",
    "\n",
    "Ecrire une fonction qui prend pour valeur une année et qui renvoie si elle est bissextile ou pas.\n",
    "\n",
    "Quelques précisions quand même :\n",
    "\n",
    "Une année est dite bissextile si c'est un multiple de 4, sauf si c'est un multiple de 100. Toutefois, elle est considérée comme bissextile si c'est un multiple de 400. Plus précisément :\n",
    "\n",
    "- Si une année n'est pas multiple de 4, on s'arrête là, elle n'est pas bissextile.\n",
    "- Si elle est multiple de 4, on regarde si elle est multiple de 100.\n",
    "   - Si c'est le cas, on regarde si elle est multiple de 400.\n",
    "       - Si c'est le cas, l'année est bissextile.\n",
    "       - Sinon, elle n'est pas bissextile.\n",
    "   - Sinon, elle est bissextile."
   ]
  },
  {
   "cell_type": "code",
   "execution_count": null,
   "metadata": {},
   "outputs": [],
   "source": []
  },
  {
   "cell_type": "markdown",
   "metadata": {},
   "source": [
    "# Exercice 2\n",
    "\n",
    "Ecrire une fonction qui prend pour argument deux nombres entiers positifs a et b et qui affiche si b divise a."
   ]
  },
  {
   "cell_type": "code",
   "execution_count": null,
   "metadata": {},
   "outputs": [],
   "source": []
  },
  {
   "cell_type": "markdown",
   "metadata": {},
   "source": [
    "# Exercice 3\n",
    "\n",
    "Compléter le programme ci-dessus, de sorte à ce que l'utilisateur ne puisse pas entrer une valeur b nulle."
   ]
  },
  {
   "cell_type": "code",
   "execution_count": null,
   "metadata": {},
   "outputs": [],
   "source": []
  },
  {
   "cell_type": "markdown",
   "metadata": {},
   "source": [
    "# Exercice 4\n",
    "\n",
    "Ecrire une fonction qui prend pour valeurs un nombre entier positif et qui renvoie la liste de tous ses diviseurs."
   ]
  },
  {
   "cell_type": "code",
   "execution_count": null,
   "metadata": {},
   "outputs": [],
   "source": []
  },
  {
   "cell_type": "markdown",
   "metadata": {},
   "source": [
    "# Exercice 5\n",
    "\n",
    "Ecrire une fonction qui prend pour valeur un nombre entier positif et qui affiche si ce nombre est premier ou pas.\n",
    "\n",
    "*Rappel : un nombre a est premier s'il n'admet que deux diviseurs, 1 et a.*"
   ]
  },
  {
   "cell_type": "code",
   "execution_count": null,
   "metadata": {},
   "outputs": [],
   "source": []
  },
  {
   "cell_type": "markdown",
   "metadata": {},
   "source": [
    "# Exercice 6\n",
    "\n",
    "Ecrire une fonction qui affiche tous les multiples de 7 inférieurs à 90"
   ]
  },
  {
   "cell_type": "code",
   "execution_count": null,
   "metadata": {},
   "outputs": [],
   "source": []
  },
  {
   "cell_type": "markdown",
   "metadata": {},
   "source": [
    "# Exercice 7\n",
    "\n",
    "Ecrire une fonction qui prend argument une liste, et qui renvoie son plus grand élément."
   ]
  },
  {
   "cell_type": "code",
   "execution_count": null,
   "metadata": {},
   "outputs": [],
   "source": []
  },
  {
   "cell_type": "markdown",
   "metadata": {},
   "source": [
    "# Exercice 8\n",
    "\n",
    "Compléter la fonction ci-dessus pour qu'elle renvoie la liste, en mettant son plus grand élément en dernière position. "
   ]
  },
  {
   "cell_type": "code",
   "execution_count": null,
   "metadata": {},
   "outputs": [],
   "source": []
  },
  {
   "cell_type": "markdown",
   "metadata": {},
   "source": [
    "# Exercice 9\n",
    "\n",
    "Ecrire une fonction qui prend pour valeur un entier positif n et qui renvoie la factorielle de n.\n",
    "\n",
    "*Rappel : pour un entier naturel n, la factorielle de n, notée n!, est égale au produit 1 x 2 x 3 x ... x n.*"
   ]
  },
  {
   "cell_type": "code",
   "execution_count": null,
   "metadata": {},
   "outputs": [],
   "source": []
  },
  {
   "cell_type": "markdown",
   "metadata": {},
   "source": [
    "# Exercice 10\n",
    "\n",
    "(Extrait Bac ES Pondichery - Avril 2013)\n",
    "\n",
    "Le 1er janvier 2000, un client a placé 3000 euros à intérêts composés à un taux annuel de 2,5 %. On note C(n) le capital du client au 1er janvier de l’année 2000+n , où n est un entier naturel.\n",
    "\n",
    "- Au 1er janvier 2013, le client avait besoin d’une somme de 5000 euros. Le capital placé est-il suffisant ?\n",
    "\n",
    "- Déterminer, à partir du 1er janvier de quelle année le client pourrait avoir son capital initial multiplié par 10.\n"
   ]
  },
  {
   "cell_type": "code",
   "execution_count": null,
   "metadata": {},
   "outputs": [],
   "source": []
  },
  {
   "cell_type": "markdown",
   "metadata": {},
   "source": [
    "# Exercice 11\n",
    "\n",
    "Ecrire une fonction qui prend pour valeurs une liste de trois entiers et qui renvoie cette même liste triée\n"
   ]
  },
  {
   "cell_type": "code",
   "execution_count": null,
   "metadata": {},
   "outputs": [],
   "source": []
  },
  {
   "cell_type": "markdown",
   "metadata": {},
   "source": [
    "# Exercice 12\n",
    "\n",
    "Ecrire une fonction « balayage » qui prend en argument un nombre, la « précision », et qui renvoie une valeur approchée par défaut de $\\sqrt{2}$ à la « précision » voulue. "
   ]
  },
  {
   "cell_type": "code",
   "execution_count": null,
   "metadata": {},
   "outputs": [],
   "source": []
  },
  {
   "cell_type": "markdown",
   "metadata": {},
   "source": [
    "# Exercice 13\n",
    "\n",
    "On souhaite simuler le lancé de trois dé à six faces. Pouvez-vous écrire une fonction qui renvoie la somme des trois faces ?"
   ]
  },
  {
   "cell_type": "code",
   "execution_count": null,
   "metadata": {},
   "outputs": [],
   "source": []
  },
  {
   "cell_type": "markdown",
   "metadata": {},
   "source": [
    "# Exercice 14\n",
    "\n",
    "A la suite de l'exercice 13, ecrire une fonction qui simule n lancers de trois dés et renvoie les nombres d'apparitions des sommes 9 et 10. "
   ]
  },
  {
   "cell_type": "code",
   "execution_count": null,
   "metadata": {},
   "outputs": [],
   "source": []
  },
  {
   "cell_type": "markdown",
   "metadata": {},
   "source": [
    "### Remarque\n",
    "*A la cour de Florence, de nombreux jeux de société étaient pratiqués. Parmi ceux-ci, l’un faisait intervenir la somme des numéros sortis lors du lancer de trois dés.* \n",
    "\n",
    "*Le Duc de Toscane, qui avait sans doute observé un grand nombre de parties de ce jeu, avait constaté que la somme 10 était obtenue légèrement plus souvent que la somme 9.*\n",
    "\n",
    "*Le paradoxe, que le Duc avait exposé à Galilée, réside dans le fait qu’il y autant de façons d’écrire 10 que 9 comme sommes de trois entiers compris entre 1 et 6:*\n",
    "\n",
    "- 1+2+6 = 9\n",
    "- 1+3+5 = 9\n",
    "- 1+4+4 = 9\n",
    "- 2+2+5 = 9\n",
    "- 2+3+4 = 9\n",
    "- 3+3+3 = 9\n",
    "\n",
    "Et\n",
    "- 1+3+6 = 10 \n",
    "- 1+4+5 = 10 \n",
    "- 2+2+6 = 10 \n",
    "- 2+3+5 = 10 \n",
    "- 2+4+4 = 10 \n",
    "- 3+3+4 = 10 "
   ]
  },
  {
   "cell_type": "markdown",
   "metadata": {},
   "source": [
    "# Exercice 15\n",
    "\n",
    "Pouvez-vous fabriquer une liste qui contienne toutes les cartes d'un jeu de 54 cartes, sans avoir à taper chacune de ces cartes ? Le résultat devra ressembler à : \n",
    "['As de coeur’, 'Deux de coeur', 'Trois de coeur', ...]"
   ]
  },
  {
   "cell_type": "code",
   "execution_count": null,
   "metadata": {},
   "outputs": [],
   "source": []
  },
  {
   "cell_type": "markdown",
   "metadata": {},
   "source": [
    "# Exercice 16\n",
    "\n",
    "Ecrivez une fonction qui prend un nombre comme argument, et qui renvoie la liste de ses chiffres. Par exemple :"
   ]
  },
  {
   "cell_type": "raw",
   "metadata": {},
   "source": [
    "Entrée : 1234\n",
    "Sortie : [1, 2, 3, 4]"
   ]
  },
  {
   "cell_type": "code",
   "execution_count": null,
   "metadata": {},
   "outputs": [],
   "source": []
  },
  {
   "cell_type": "markdown",
   "metadata": {},
   "source": [
    "# Exercice 17\n",
    "\n",
    "Ecrire une fonction qui prenne comme argument un nombre entier n, et qui affiche la pyramide suivante sur n étages :"
   ]
  },
  {
   "cell_type": "raw",
   "metadata": {},
   "source": [
    "*\n",
    "**\n",
    "***\n",
    "...\n",
    "***** "
   ]
  },
  {
   "cell_type": "markdown",
   "metadata": {},
   "source": [
    "# Exercice 18\n",
    "\n",
    "Vous vous rappelez comment résoudre une équation du second degré, de la forme $ax^2 + bx + c = 0$ ? Le « fameux » $b^2 - 4ac$ ? Pouvez-vous écrire une fonction qui prenne comme argument les trois nombres a, b et c, et qui renvoie les solutions éventuelles de cette équation (et qui bien sûr nous précise si ces solutions existent ou pas) ?"
   ]
  },
  {
   "cell_type": "code",
   "execution_count": null,
   "metadata": {},
   "outputs": [],
   "source": []
  },
  {
   "cell_type": "markdown",
   "metadata": {},
   "source": [
    "# Exercice 19\n",
    "\n",
    "Voici les premiers termes de la suite de Fibonacci : \n",
    "\n",
    "1, 1, 2, 3, 5, 8, 13, ...\n",
    "\n",
    "Par la suite, chaque nouveau terme est formé par la somme deux derniers termes de la suite. Pouvez-vous écrire une fonction qui prenne comme argument un entier n, et qui renvoie une liste formée des termes de la suite Fibonacci jusqu'au rang n ?"
   ]
  },
  {
   "cell_type": "code",
   "execution_count": null,
   "metadata": {},
   "outputs": [],
   "source": []
  },
  {
   "cell_type": "markdown",
   "metadata": {},
   "source": [
    "# Exercice 20\n",
    "\n",
    "Ecrire une fonction qui prenne pour argument une chaine de caractères, et qui renvoie la chaine privée de son dernier caractère. Par exemple : "
   ]
  },
  {
   "cell_type": "raw",
   "metadata": {},
   "source": [
    "Entrée : 'spam'\n",
    "Sortie : 'spa'"
   ]
  },
  {
   "cell_type": "code",
   "execution_count": null,
   "metadata": {},
   "outputs": [],
   "source": []
  },
  {
   "cell_type": "markdown",
   "metadata": {},
   "source": [
    "# Exercice 21\n",
    "\n",
    "Ecrire une fonction qui prenne en argument une chaine de caractères, et qui renvoie la chaine obtenue en intercalant une « * » entre chaque caractère. Par exemple :"
   ]
  },
  {
   "cell_type": "raw",
   "metadata": {},
   "source": [
    "Entrée : 'spam'\n",
    "Sortie : 's*p*a*m'"
   ]
  },
  {
   "cell_type": "code",
   "execution_count": null,
   "metadata": {},
   "outputs": [],
   "source": []
  },
  {
   "cell_type": "markdown",
   "metadata": {},
   "source": [
    "# Exercice 22\n",
    "Ecrire une fonction « appartient » qui prend deux arguments : une liste de nombres, et un nombre. Elle doit renvoyer « True » si le nombre appartient à la liste, et « False » sinon. "
   ]
  },
  {
   "cell_type": "code",
   "execution_count": null,
   "metadata": {},
   "outputs": [],
   "source": []
  },
  {
   "cell_type": "markdown",
   "metadata": {},
   "source": [
    "# Exercice 23\n",
    "Dans la même idée que l'exercice 22, écrire une fonction pour tester si une lettre appartient à un mot donné."
   ]
  },
  {
   "cell_type": "code",
   "execution_count": null,
   "metadata": {},
   "outputs": [],
   "source": []
  },
  {
   "cell_type": "markdown",
   "metadata": {},
   "source": [
    "### Remarque\n",
    "Quand vous aurez fait ces deux exercices, demandez à vos formateurs un complément sur les test « in » et « not in »..."
   ]
  },
  {
   "cell_type": "markdown",
   "metadata": {},
   "source": [
    "# Projet 1\n",
    "\n",
    "L’ordinateur va choisir un nombre entre 1 et 100. Vous allez devoir le deviner. Pour ce faire, vous allez faire une proposition à la suite de laquelle l’ordinateur vous dira « Trop grand » ou « Trop petit » suivant que votre nombre proposé est « plus grand » ou « plus petit » que le nombre choisi.\n",
    "\n",
    "Le programme s’arrêtera dès que le nombre choisi par l’ordinateur est trouvé.\n",
    "\n",
    "Ecrire un programme, en langage Python, qui permet de « Jouer à ce jeu ». Avant de se mettre à coder, n'hésitez pas à jouer au jeu avec votre voisin puis à écrire un algorithme en version « débranchée » : échanges, shémas, brouillon...\n"
   ]
  },
  {
   "cell_type": "code",
   "execution_count": null,
   "metadata": {},
   "outputs": [],
   "source": []
  },
  {
   "cell_type": "markdown",
   "metadata": {},
   "source": [
    "# Projet 2\n",
    "\n",
    "Maintenant on trie !\n",
    "\n",
    "Ecrire une fonction qui prend pour valeurs une liste de n nombres où n est un nombre entier positif et qui renvoie la même liste triée dans l'ordre croissant.\n",
    "\n",
    "L'algorithme utilisé sera le tri par sélection, faites vos recherches !"
   ]
  },
  {
   "cell_type": "code",
   "execution_count": null,
   "metadata": {},
   "outputs": [],
   "source": []
  },
  {
   "cell_type": "markdown",
   "metadata": {},
   "source": [
    "# Projet 3\n",
    "\n",
    "Le « chiffre de César » est un code secret, supposé avoir été utilisé par Jules César pour communiquer avec ses généraux. Il consiste à remplacer chaque lettre d'un message par la lettre située trois positions plus loin dans l'alphabet. Par exemple, la lettre a sera remplacée par la lettre d, la lettre z par la lettre c, et le mot « python » par « sbwkrq ».\n",
    "\n",
    "Pouvez-vous écrire une fonction qui renvoie le chiffre de César d'une chaine de caractère donnée ?"
   ]
  },
  {
   "cell_type": "code",
   "execution_count": null,
   "metadata": {},
   "outputs": [],
   "source": []
  }
 ],
 "metadata": {
  "kernelspec": {
   "display_name": "Python 3",
   "language": "python",
   "name": "python3"
  },
  "language_info": {
   "codemirror_mode": {
    "name": "ipython",
    "version": 3
   },
   "file_extension": ".py",
   "mimetype": "text/x-python",
   "name": "python",
   "nbconvert_exporter": "python",
   "pygments_lexer": "ipython3",
   "version": "3.7.4"
  }
 },
 "nbformat": 4,
 "nbformat_minor": 4
}
