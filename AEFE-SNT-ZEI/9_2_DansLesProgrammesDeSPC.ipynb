{
 "cells": [
  {
   "cell_type": "markdown",
   "metadata": {},
   "source": [
    "# Applications et exemples issus des programmes de Sciences Physiques"
   ]
  },
  {
   "cell_type": "markdown",
   "metadata": {},
   "source": [
    "## En seconde"
   ]
  },
  {
   "cell_type": "markdown",
   "metadata": {},
   "source": [
    "*Remarque : nous allons utiliser ici un nouveau module, « numpy », très employé en sciences. Il permet de créer des tableaux, des objets proches des listes, mais qui offrent des actions supplémentaires en termes de création et d'opérations.*"
   ]
  },
  {
   "cell_type": "code",
   "execution_count": null,
   "metadata": {},
   "outputs": [],
   "source": [
    "import matplotlib.pyplot as plt\n",
    "%matplotlib inline\n",
    "import numpy as np"
   ]
  },
  {
   "cell_type": "markdown",
   "metadata": {},
   "source": [
    "#### 1. Bilan énergétique d'un système en mouvement\n",
    "*B.O. : utiliser un langage de programmation pour effectuer le bilan énergétique d'un système en mouvement.* \n",
    "\n",
    "A partir d'une chronophotographie, on étudie la chute libre d'un objet de masse 𝑚 = 5,0 kg dans le champ de pesanteur terrestre. Les positions successives de l'objet sont regroupées dans les listes suivantes (l'altitude H est exprimée en $m$, le temps T est exprimé en $s$)."
   ]
  },
  {
   "cell_type": "code",
   "execution_count": null,
   "metadata": {},
   "outputs": [],
   "source": [
    "H = np.array([1.71, 1.65, 1.58, 1.49, 1.38, 1.28, 1.13, 0.99, 0.81, 0.64, 0.44, 0.23, 0.0])\n",
    "T = np.arange(0, 0.5, 0.04)\n",
    "print(T, H, sep = '\\n')"
   ]
  },
  {
   "cell_type": "markdown",
   "metadata": {},
   "source": [
    "1. Construire le tableau (array) des vitesses moyennes du mobile $v_i = \\dfrac{h_{i+1}-h_i}{t_{i+1}-t_i}$ pour $i$ allant de 1 à 11.\n",
    "2. Obtenir les tableaux des énergies cinétique, potentielle et mécanique du mobile. \n",
    "3. Sur un même graphique, obtenir les tracés des courbes $E_C = f(t)$, $E_p = g(t)$ et $E_m = h(t)$. "
   ]
  },
  {
   "cell_type": "code",
   "execution_count": null,
   "metadata": {},
   "outputs": [],
   "source": [
    "m = 5.0\n",
    "g = 9.8\n",
    "dt = 0.04\n",
    "\n",
    "V = []\n",
    "for i in range(1, len(H)-1):\n",
    "    V.append((H[i+1]-H[i])/dt)\n",
    "V = np.array(V)\n",
    "\n",
    "Ec = 0.5*m*V**2 #Ces opérations sont permises par le type array et permettent de construire très rapidement \n",
    "Ep = m*g*H      #les tableaux demandés\n",
    "\n",
    "Em = Ec + Ep[1:-1] #le tableau Ec compte 12 élements, le tableau Ep en compte 13.\n",
    "\n",
    "plt.plot(T[1:-1], Ec, '+', label = \"Ec(t)\")\n",
    "plt.plot(T, Ep, '.', label = \"Ep(t)\")\n",
    "plt.plot(T[1:-1], Em, '--', label = \"Em(t)\")\n",
    "plt.xlabel(\"temps (en seconde)\")\n",
    "plt.ylabel(\"Energie (en Joule)\")\n",
    "plt.title(\"Représentations des énergies d'une chute libre\")\n",
    "plt.legend()\n",
    "plt.show()"
   ]
  },
  {
   "cell_type": "markdown",
   "metadata": {},
   "source": [
    "### 2. Représentation et modélisation d'un mouvement bidimensionnel\n",
    "*B.O. : Représenter les positions successives d’un système modélisé par un point lors d’une évolution unidimensionnelle ou bidimensionnelle à l’aide d’un langage de programmation.*\n",
    "\n",
    "A partir d'une chronophotographie, on étudie le lancer parabolique d'un objet de masse $m$.\n",
    "Les positions successives de l'objet sont regroupées dans les tableaux suivants (X et Y sont exprimés en $m$, T est exprimé en $s$) :"
   ]
  },
  {
   "cell_type": "code",
   "execution_count": null,
   "metadata": {},
   "outputs": [],
   "source": [
    "X = np.array([0, 0.41, 0.91, 1.39, 1.86, 2.33, 2.81, 3.33, 3.79, 4.31, 4.83, 5.36, 5.86, 6.34, 6.77])\n",
    "Y = np.array([0, 0.52, 1.01, 1.42, 1.77, 2.02, 2.16, 2.19, 2.13, 1.96, 1.71, 1.38, 0.97, 0.50, 0])\n",
    "dt = 0.1\n",
    "T = np.arange(0, 1.5, dt)\n",
    "print(T, X, Y, sep = '\\n')"
   ]
  },
  {
   "cell_type": "markdown",
   "metadata": {},
   "source": [
    "1. Représenter par un nuage de points les positions successives du mobile dans le repère (Ox, Oy)\n",
    "2. Modéliser la courbe obtenue par une équation polynômiale du 2nd degré."
   ]
  },
  {
   "cell_type": "code",
   "execution_count": null,
   "metadata": {},
   "outputs": [],
   "source": [
    "plt.plot(X, Y, 'k+', label = 'positions')\n",
    "\n",
    "model = np.polyfit(X, Y, 2)\n",
    "print(f\"Modélisation : y(t) = {round(model[0], 2)}x² + {round(model[1], 2)}x\")\n",
    "\n",
    "Ymod = model[0]*X**2 + model[1]*X\n",
    "\n",
    "plt.plot(X, Ymod, 'b-', label = 'modélisation')\n",
    "\n",
    "plt.title(\"Vecteurs déplacement\")\n",
    "plt.xlabel(\"x (en m)\")\n",
    "plt.ylabel(\"y (en m)\")\n",
    "plt.title(\"Modélisation d'un mouvement parabolique\")\n",
    "plt.legend()\n",
    "plt.show()"
   ]
  },
  {
   "cell_type": "markdown",
   "metadata": {},
   "source": [
    "### 3. Représentation des vecteurs vitesse\n",
    "*BO : Représenter des vecteurs vitesse d’un système modélisé par un point lors d’un mouvement à l’aide d’un\n",
    "langage de programmation.*\n",
    "\n",
    "On prolonge ici l'étude précédente.\n",
    "1. Ecrire un script construisant la liste Vx des vitesses $v_x$ et la liste Vy des vitesses $v_y$ du mobile.\n",
    "2. Obtenir une représentation des vecteurs vitesses, de $t_1$ à $t_{n-1}$. Vous prendrez garde aux bornes des boucles utilisées et notamment au nombre d'éléments contenus dans les différentes listes qui interviennent."
   ]
  },
  {
   "cell_type": "code",
   "execution_count": null,
   "metadata": {},
   "outputs": [],
   "source": [
    "Vx, Vy = [], []\n",
    "\n",
    "for i in range(1, len(X)-1) :\n",
    "    deltax = X[i+1] - X[i-1]\n",
    "    deltay = Y[i+1] - Y[i-1]\n",
    "    deltat = 2 * dt\n",
    "    Vx.append(deltax/(deltat))\n",
    "    Vy.append(deltay/(deltat))\n",
    "\n",
    "plt.plot(X, Y, \"k+\", label = \"positions\")\n",
    "\n",
    "for i in range(len(Vx)) :\n",
    "    plt.arrow(X[i+1], Y[i+1], Vx[i]*dt, Vy[i]*dt, head_width = 0.05, color = 'blue')\n",
    "\n",
    "plt.title(\"Vecteurs vitesse\")\n",
    "plt.xlabel(\"x (en m)\")\n",
    "plt.ylabel(\"y (en m)\")\n",
    "plt.legend()\n",
    "plt.show()"
   ]
  },
  {
   "cell_type": "markdown",
   "metadata": {},
   "source": [
    "### 4. Accélération et bilan des forces\n",
    "*B.O. : Utiliser un langage de programmation pour étudier la relation approchée entre la variation du vecteur vitesse d’un système modélisé par un point matériel entre deux instants voisins et la somme des forces appliquées sur celui-ci*\n",
    "\n",
    "A vous d'écrire votre script pour visualiser les vecteurs \"variation de vitesse\". Et visualiser que ces vecteurs sont (pratiquement) tous égaux, verticaux et orientés vers le bas."
   ]
  },
  {
   "cell_type": "code",
   "execution_count": null,
   "metadata": {},
   "outputs": [],
   "source": [
    "#Rien de nouveau ici, à vous donc d'adapter les scripts précédents."
   ]
  },
  {
   "cell_type": "markdown",
   "metadata": {},
   "source": [
    "## En première"
   ]
  },
  {
   "cell_type": "markdown",
   "metadata": {},
   "source": [
    "### 1. On lit l'algorithme, on lance l'algorithme, on comprend l'algorithme..."
   ]
  },
  {
   "cell_type": "code",
   "execution_count": null,
   "metadata": {},
   "outputs": [],
   "source": [
    "import matplotlib.pyplot as plt\n",
    "import numpy as np\n",
    "from math import *\n",
    "\n",
    "def trace_trajectoire(f,V0,alpha,h):#Fonction qui permet de tracer la courbe d'une trajectoire\n",
    "    plt.axis([-1,30,-1,10])\n",
    "    plt.grid()\n",
    "    x=np.array([])\n",
    "    x=np.append(x,np.linspace(0,20,50))\n",
    "   \n",
    "    #np.quiver(x,f(V0,alpha,h))\n",
    "    \n",
    "    plt.plot(x,f(V0,alpha,h,x),'.',color='red') \n",
    "    \n",
    "    plt.plot([-1,30],[2,2],color='blue')\n",
    "    \n",
    "    plt.show()\n",
    "  \n",
    "def hauteur(V0,alpha,h,x):#Fonction qui permet de déterminer la hauteur de la trajectoire\n",
    "    a=-4.9/(V0**2*(cos(alpha*pi/180))**2)\n",
    "    b=tan(alpha*pi/180)\n",
    "    c=h\n",
    "    return a*x**2+b*x+c\n",
    "\n",
    "def impact(V0,alpha,h,e):#Fonction qui permet par balayage de déterminer le point d'impact avec le sol\n",
    "    x=0\n",
    "    y=2\n",
    "    while y>0.01 :\n",
    "        x=x+e\n",
    "        y=hauteur(V0,alpha,h,x)\n",
    "    return x\n",
    "    \n",
    "def service_valide(V0,alpha,a):\n",
    "    \n",
    "    if a==1:\n",
    "        h=1.2\n",
    "        d=0\n",
    "    elif a==2:\n",
    "        h=2.5\n",
    "        d=0.5\n",
    "    else:\n",
    "        h=3\n",
    "        d=1\n",
    "    print(round(hauteur(V0,alpha,h,d+9),2))\n",
    "    trace_trajectoire(hauteur,V0,alpha,h)\n",
    "    if b=='F':\n",
    "        if hauteur(V0,alpha,h,d+9)>2.24 and impact(V0,alpha,h,0.01)<18+d:\n",
    "            print(\"Le service est valide\")\n",
    "        else:\n",
    "            print(\"Le service n'est pas valide\")\n",
    "    elif b=='G':\n",
    "        if hauteur(V0,alpha,h,d+9)>2.43 and impact(V0,alpha,h,0.01)<18+d:\n",
    "            print(\"Le service est valide\")\n",
    "        else:\n",
    "            print(\"Le service n'est pas valide\")\n",
    "\n",
    "    \n",
    "    \n",
    "#Programme principal\n",
    " \n",
    "V0=float(input(\"Entrez la valeur de la vitesse initiale :\"))\n",
    "alpha=float(input(\"Entrez la valeur de l'angle initial :\"))\n",
    "print(\"Quel est le service effectué par le joueur :\")\n",
    "print(\"1 : Service à la cuillère\")\n",
    "print(\"2 : Service flottant :\")\n",
    "print(\"3 : Service smatché :\")\n",
    "a=int(input(\"Entrez votre choix :\"))\n",
    "print(\"C'est un match de filles ou de garçons ?\")\n",
    "print(\"F : match de filles\")\n",
    "print(\"G : match de garçons\")\n",
    "b=input(\"Entrez votre choix :\")\n",
    "\n",
    "service_valide(V0,alpha,a)"
   ]
  }
 ],
 "metadata": {
  "kernelspec": {
   "display_name": "Python 3",
   "language": "python",
   "name": "python3"
  },
  "language_info": {
   "codemirror_mode": {
    "name": "ipython",
    "version": 3
   },
   "file_extension": ".py",
   "mimetype": "text/x-python",
   "name": "python",
   "nbconvert_exporter": "python",
   "pygments_lexer": "ipython3",
   "version": "3.7.4"
  }
 },
 "nbformat": 4,
 "nbformat_minor": 2
}
