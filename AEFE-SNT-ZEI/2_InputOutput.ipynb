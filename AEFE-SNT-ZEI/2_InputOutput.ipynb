{
 "cells": [
  {
   "cell_type": "markdown",
   "metadata": {},
   "source": [
    "**Rappel : pour éxécuter le code d'une cellule, il faut appuyer sur \"Maj+Entrée\".**"
   ]
  },
  {
   "cell_type": "markdown",
   "metadata": {},
   "source": [
    "# Entrées et sorties\n",
    "On commence par un exemple très classique. Exécutez le code suivant :"
   ]
  },
  {
   "cell_type": "code",
   "execution_count": null,
   "metadata": {},
   "outputs": [],
   "source": [
    "print(\"Hello World\")"
   ]
  },
  {
   "cell_type": "markdown",
   "metadata": {},
   "source": [
    "Puis un second exemple, non moins classique :"
   ]
  },
  {
   "cell_type": "code",
   "execution_count": null,
   "metadata": {},
   "outputs": [],
   "source": [
    "nom = input(\"Quel est ton nom ? \")\n",
    "print(\"Bonjour, \", nom)"
   ]
  },
  {
   "cell_type": "markdown",
   "metadata": {},
   "source": [
    "Petite subtilité : il faut parfois faire attention aux types."
   ]
  },
  {
   "cell_type": "code",
   "execution_count": null,
   "metadata": {},
   "outputs": [],
   "source": [
    "nombre1 = input(\"Donne-moi un nombre : \")\n",
    "nombre2 = input(\"Donne-moi un autre nombre : \")\n",
    "print(f\"La somme de {nombre1} et de {nombre2} est {nombre1 + nombre2}\")"
   ]
  },
  {
   "cell_type": "markdown",
   "metadata": {},
   "source": [
    "Le résultat est pour le moins inattendu ! Vous le comparerez avec celui renvoyé par le code suivant : "
   ]
  },
  {
   "cell_type": "code",
   "execution_count": null,
   "metadata": {},
   "outputs": [],
   "source": [
    "nombre1 = int(input(\"Donne-moi un nombre : \"))\n",
    "nombre2 = int(input(\"Donne-moi un autre nombre\"))\n",
    "print(f\"La somme de {nombre1} et de {nombre2} est {nombre1 + nombre2}\")"
   ]
  },
  {
   "cell_type": "markdown",
   "metadata": {},
   "source": [
    "# Variables et affectations\n",
    "Une variable se déclare très simplement :"
   ]
  },
  {
   "cell_type": "code",
   "execution_count": null,
   "metadata": {},
   "outputs": [],
   "source": [
    "a=25\n",
    "print(a)"
   ]
  },
  {
   "cell_type": "markdown",
   "metadata": {},
   "source": [
    "Elle s'utilise tout aussi simplement :"
   ]
  },
  {
   "cell_type": "code",
   "execution_count": null,
   "metadata": {},
   "outputs": [],
   "source": [
    "a + 2, a * 4, a**5, a / 4, a // 4, a % 4"
   ]
  },
  {
   "cell_type": "markdown",
   "metadata": {},
   "source": [
    "On peut bien entendu modifier sa valeur :"
   ]
  },
  {
   "cell_type": "code",
   "execution_count": null,
   "metadata": {},
   "outputs": [],
   "source": [
    "a = a + 10\n",
    "print(a)"
   ]
  },
  {
   "cell_type": "markdown",
   "metadata": {},
   "source": [
    "Essayez par exemple les lignes suivantes :"
   ]
  },
  {
   "cell_type": "code",
   "execution_count": null,
   "metadata": {},
   "outputs": [],
   "source": [
    "a = 25\n",
    "b = a\n",
    "a = a + 2\n",
    "print(a, b)"
   ]
  },
  {
   "cell_type": "markdown",
   "metadata": {},
   "source": [
    "Un dernier exemple. Saurez-vous prévoir le résultat des lignes suivantes ?"
   ]
  },
  {
   "cell_type": "code",
   "execution_count": null,
   "metadata": {},
   "outputs": [],
   "source": [
    "a = 25\n",
    "b = a // 7\n",
    "c = a + b\n",
    "b = a + c\n",
    "a = b + c\n",
    "print(a, b, c)"
   ]
  },
  {
   "cell_type": "markdown",
   "metadata": {},
   "source": [
    "> ## Exercice 1 : \n",
    "> Créez deux variables a et b. Affectez-leur une valeur quelconque, par exemple a = 2 et b = 3.\n",
    "> Le but de cet exercice est d'échanger les valeurs de ces variables : pour notre exemple, a devra contenir la valeur 3, et b la valeur 2."
   ]
  },
  {
   "cell_type": "code",
   "execution_count": null,
   "metadata": {},
   "outputs": [],
   "source": [
    "#Tapez votre code ici"
   ]
  },
  {
   "cell_type": "markdown",
   "metadata": {},
   "source": [
    "## Une solution « pythonesque » élégante...\n",
    "Voici une solution particulièrement rapide et élégante au problème précédent. Elle utilise une affectation parallèle, une particularité permise par Python."
   ]
  },
  {
   "cell_type": "code",
   "execution_count": null,
   "metadata": {},
   "outputs": [],
   "source": [
    "a = 35\n",
    "b = 53\n",
    "print('Avant :')\n",
    "print(f'a = {a} et b = {b}')\n",
    "\n",
    "a, b = b, a\n",
    "\n",
    "print('Après :')\n",
    "print(f'a = {a} et b = {b}')"
   ]
  },
  {
   "cell_type": "markdown",
   "metadata": {},
   "source": [
    "# Synthèse\n",
    "\n",
    "- Pour **afficher** un résultat, vous utiliserez la commande « print ».\n",
    "- Pour **demander** une valeur, vous utiliserez la commande « input ».\n",
    "- Cependant, vous verez par la suite que l'on préférera éviter cette méthode pour utiliser à la place des fonctions auxquelles ont passera des arguments ;\n",
    "- Pour réutiliser une valeur, on **l'affectera** à une variable avec la commande « = » ;"
   ]
  }
 ],
 "metadata": {
  "kernelspec": {
   "display_name": "Python 3",
   "language": "python",
   "name": "python3"
  },
  "language_info": {
   "codemirror_mode": {
    "name": "ipython",
    "version": 3
   },
   "file_extension": ".py",
   "mimetype": "text/x-python",
   "name": "python",
   "nbconvert_exporter": "python",
   "pygments_lexer": "ipython3",
   "version": "3.7.4"
  }
 },
 "nbformat": 4,
 "nbformat_minor": 4
}
