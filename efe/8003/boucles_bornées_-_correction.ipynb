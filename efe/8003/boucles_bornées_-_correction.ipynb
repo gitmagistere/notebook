{
 "cells": [
  {
   "attachments": {},
   "cell_type": "markdown",
   "id": "9eb81ad8",
   "metadata": {},
   "source": [
    "# III. Les boucles bornées\n",
    "\n",
    "## <center> Attention : </center>\n",
    "## <center> Pour tous les programmes appelant la bibliothèque \"turtle\", les programmes ne fonctionnent pas sur le jupyter notebook de M@gistère. Il vous faudra donc les copier/coller sur un éditeur Python, installé localement sur votre ordinateur (Thonny, educPython, Jupyter notebook...)</center>\n"
   ]
  },
  {
   "cell_type": "markdown",
   "id": "d786e1c4",
   "metadata": {},
   "source": [
    "## Exercices\n",
    "\n",
    "### Correction Exercice 1\n",
    "\n",
    "★ Dans la définition de la fonction f, l'instruction d'affichage est incluse dans le bloc indenté, elle est donc répétée à chaque passage dans la boucle.\n",
    "\n",
    "★ Par contre, pour la fonction g, l'instruction en ligne 11 n'est pas dans le bloc indenté, l'affichage est donc effectué une seule fois après la sortie de la boucle."
   ]
  },
  {
   "cell_type": "code",
   "execution_count": null,
   "id": "6e48840c",
   "metadata": {},
   "outputs": [],
   "source": [
    "def f():\n",
    "    compteur = 0\n",
    "    for i in range(5):\n",
    "        compteur = compteur + 1 \n",
    "        print(compteur)\n",
    "        \n",
    "def g():\n",
    "    compteur = 0\n",
    "    for i in range(5):\n",
    "        compteur = compteur + 1 \n",
    "    print(compteur)"
   ]
  },
  {
   "cell_type": "markdown",
   "id": "cfb9377f",
   "metadata": {},
   "source": [
    "### Correction Exercice 2\n",
    "\n",
    "★ Programme pour obtenir un carré."
   ]
  },
  {
   "cell_type": "code",
   "execution_count": null,
   "id": "316bd125",
   "metadata": {},
   "outputs": [],
   "source": [
    "from turtle import *\n",
    "\n",
    "couleurs = [\"violet\", \"red\", \"blue\", \"green\"]\n",
    "\n",
    "for i in range(4): \n",
    "    color(couleurs[i])\n",
    "    forward(70)      \n",
    "    left(90)  "
   ]
  },
  {
   "cell_type": "markdown",
   "id": "9dccf5b8",
   "metadata": {},
   "source": [
    "### Correction Exercice 3\n",
    "\n",
    "La fonction div ci-dessous prend un entier n en paramètre et renvoie la liste de ses diviseurs.\n",
    "\n",
    "★ Quel est l'ensemble de nombres parcouru par range(1, n) ?\n",
    "\n",
    "★ Modifier la ligne 3 pour que la boucle parcourt l'ensemble nécessaire.\n",
    "\n",
    "★ Ajouter le code manquant à la ligne 4 en prenant garde à l'indentation. "
   ]
  },
  {
   "cell_type": "code",
   "execution_count": null,
   "id": "dc0038ee",
   "metadata": {},
   "outputs": [],
   "source": [
    "def div(n):\n",
    "    diviseurs = []           # liste vide des diviseurs\n",
    "    for k in range(1, n+1):  # range (1,n) s'arrête à n-1 \n",
    "        if n % k == 0 :\n",
    "            diviseurs.append(k)\n",
    "    return diviseurs"
   ]
  },
  {
   "attachments": {
    "Capture3.PNG": {
     "image/png": "[encoded data removed]"
    }
   },
   "cell_type": "markdown",
   "id": "eb21e703",
   "metadata": {},
   "source": [
    "### Correction Exercice 4\n",
    "La pyramide à base carrée ci-dessous est constituée de cinq étages. \n",
    "Dans cet exercice, on s'interesse au nombre de cubes nécessaires pour réaliser une pyramide de n étages.\n",
    "![Capture3.PNG](attachment:Capture3.PNG)\n",
    "\n",
    "★ Compléter la fonction \"vol\" qui prend le nombre d'étages en paramètre et renvoie le nombre de cubes nécessaires pour réaliser cette pyramide.\n",
    "\n",
    "★ Exécuter votre programme, puis appeler vol(2), puis vol(10). "
   ]
  },
  {
   "cell_type": "code",
   "execution_count": null,
   "id": "4daea595",
   "metadata": {},
   "outputs": [],
   "source": [
    "def vol(n):\n",
    "    volume = 0\n",
    "    for i in range(1, n+1):\n",
    "        volume = volume + i**2\n",
    "    return volume"
   ]
  }
 ],
 "metadata": {
  "kernelspec": {
   "display_name": "Python 3 (ipykernel)",
   "language": "python",
   "name": "python3"
  },
  "language_info": {
   "codemirror_mode": {
    "name": "ipython",
    "version": 3
   },
   "file_extension": ".py",
   "mimetype": "text/x-python",
   "name": "python",
   "nbconvert_exporter": "python",
   "pygments_lexer": "ipython3",
   "version": "3.9.7"
  }
 },
 "nbformat": 4,
 "nbformat_minor": 5
}
