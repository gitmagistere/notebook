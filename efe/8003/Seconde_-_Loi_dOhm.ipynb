{
 "cells": [
  {
   "cell_type": "markdown",
   "id": "e6cf8f09",
   "metadata": {},
   "source": [
    "# Loi d'Ohm ?"
   ]
  },
  {
   "cell_type": "raw",
   "id": "e79c1360",
   "metadata": {},
   "source": [
    "Programme pour représenter U = f(I)"
   ]
  },
  {
   "cell_type": "code",
   "execution_count": null,
   "id": "5eccd70d",
   "metadata": {},
   "outputs": [],
   "source": [
    "# On importe les bibliothèques nécessaires\n",
    "import numpy as np             # permet de facilement faire des opérations sur les listes\n",
    "...\n",
    "\n",
    "# On crée les listes pouvant contenir les valeurs de U et I\n",
    "U = np.array([.....])\n",
    "I = np.array([.....])\n",
    "\n",
    "# On trace U = f(I) en croix bleues\n",
    "...\n"
   ]
  },
  {
   "cell_type": "raw",
   "id": "8b8b43dc",
   "metadata": {},
   "source": [
    "Executer le programme ci-dessus"
   ]
  },
  {
   "cell_type": "raw",
   "id": "e92ac24c",
   "metadata": {},
   "source": [
    "On veut modéliser la courbe obtenue précédemment.\n",
    "Copier-coller le programme précédent dans la fenêtre ci-dessous et compléter-le pour modéliser U = f(I) et déterminer R..."
   ]
  },
  {
   "cell_type": "code",
   "execution_count": null,
   "id": "2f3a4f5e",
   "metadata": {},
   "outputs": [],
   "source": [
    "# Programme permettant de tracer U = f(I)\n",
    "...\n",
    "\n",
    "# Modélisation Umodel = f(I)\n",
    "# Points modélisables par fonction polynomiale => utiliser np.polyfit (numpy)\n",
    "# np.polyfit( x , y , deg du polynome)\n",
    "# polyfit retourne un tableau avec les coefficients du polynôme\n",
    "coef = np.polyfit(...)\n",
    "# Le polynome s'écrit p(x) = coef(0)*x(à la puissance deg) + coef(1)*x(à la puissance deg-1)+...\n",
    "...\n",
    "\n",
    "# Equation du modèle de la courbe obtenue\n",
    "print(\"U = \",...)\n",
    "\n",
    "# Représentation graphique du modèle\n",
    "...\n",
    "\n"
   ]
  }
 ],
 "metadata": {
  "kernelspec": {
   "display_name": "Python 3 (ipykernel)",
   "language": "python",
   "name": "python3"
  },
  "language_info": {
   "codemirror_mode": {
    "name": "ipython",
    "version": 3
   },
   "file_extension": ".py",
   "mimetype": "text/x-python",
   "name": "python",
   "nbconvert_exporter": "python",
   "pygments_lexer": "ipython3",
   "version": "3.9.13"
  }
 },
 "nbformat": 4,
 "nbformat_minor": 5
}
