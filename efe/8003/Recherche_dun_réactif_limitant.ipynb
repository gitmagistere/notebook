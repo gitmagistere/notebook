{
 "cells": [
  {
   "cell_type": "code",
   "execution_count": null,
   "metadata": {
    "id": "fLtgfSjhAx89"
   },
   "outputs": [],
   "source": [
    "import numpy as np\n",
    "import matplotlib.pyplot as plt"
   ]
  },
  {
   "cell_type": "markdown",
   "metadata": {
    "id": "XXFYdNqFA0KK"
   },
   "source": [
    "<center>\n",
    "<h1>Recherche d'un réactif limitant à l'aide d'un programme écrit en Python</h1>\n",
    "</center>\n",
    "<hr />"
   ]
  },
  {
   "cell_type": "markdown",
   "metadata": {
    "id": "rEVJWBTRBuuh"
   },
   "source": [
    "## **Situation expérimentale**\n",
    "\n",
    "On réalise l'oxydation des ions fer II, $\\text{Fe}^{2+}_{(aq)}$, par des ions permanganate, $\\text{MnO}^-_{4 (aq)}$, en milieu acide.  \n",
    "Les couples oxydant/réducteur mis en jeu sont : $\\text{Fe}^{3+}/\\text{Fe}^{2+}$ et $\\text{MnO}_4^-/\\text{Mn}^{2+}$.\n",
    "\n",
    "**1)**  Montrer que l'équation de la réaction s'écrit :\n",
    "$$\n",
    "5 \\text{Fe}^{2+}_{(aq)} + \\text{MnO}_{4 (aq)}^- + 8 \\text{H}^+ \\longrightarrow  5 \\text{Fe}^{3+}_{(aq)} + \\text{Mn}^{2+}_{(aq)} + 4 \\text{H}_2\\text{O}\n",
    "$$\n",
    "On met en présence $10\\ \\text{mL}$ d'une solution de permanganate de potassium à la concentration $\\text{0,03 mol}\\cdot \\text{L}^{-1}$ en ion permanganate et $\\text{10 mL}$ d'une solution de sulfate de fer II à la concentration $\\text{0,1 mol} \\cdot \\text{L}^{-1}$ en ion fer II. On acidifie cette solution en ajoutant de l'acide sulfurique. Le volume final de la solution est égal à $\\text{25 mL}$ et son pH vaut $\\text{1,0}$.\n",
    "\n",
    "La transformation chimique associée à la réaction présentée est supposée totale.\n",
    "\n",
    "#### **Remarque**\n",
    "> Calcul de la concentration en ions $\\text{H}^+$ à partir des données : $[\\text{H}^+] = C^o \\cdot 10^{-\\mathrm{pH}}$ avec $C^o = \\text{1,00 mol} \\cdot \\text{L}^{-1}$.  \n",
    "> La notation $[\\text{H}^+]$ sera explicitée plus tard cette année.\n",
    "<hr />"
   ]
  },
  {
   "cell_type": "markdown",
   "metadata": {
    "id": "WoY6BfrUDHkd"
   },
   "source": [
    "## **Modélisation informatique : variables du problème**\n",
    "\n",
    "- `c1` : concentration en ions fer II\n",
    "- `v1` : volume de la solution de sulfate de fer II versé\n",
    "- `c2` : concentration en ions permanganate\n",
    "- `v2` : volume de la solution de permanganate de potassium versé\n",
    "- `pH` : pH de la solution\n",
    "- `v3` : volume total de la solution\n",
    "\n",
    "- `s1` : nbre stœchiométrique devant l'ion fer II\n",
    "- `s2` : nbre stœchiométrique devant l'ion permanganate\n",
    "- `s3` : nbre stœchiométrique devant l'ion hydronium\n",
    "\n",
    "- `n1` : qté de matière d'ions fer II\n",
    "- `n2` : qté de matière d'ions permanganate\n",
    "- `n3` : qté de matière d'ions hydronium"
   ]
  },
  {
   "cell_type": "markdown",
   "metadata": {
    "id": "kOBmrLvCFPQ1"
   },
   "source": [
    "**2)** À partir de la situation expérimentale, compléter les lignes de code suivantes :  "
   ]
  },
  {
   "cell_type": "code",
   "execution_count": null,
   "metadata": {
    "id": "iPSCP75tA1yc"
   },
   "outputs": [],
   "source": [
    "c1 = ....\n",
    "v1 = ....\n",
    "s1 = ....\n",
    "c2 = ....\n",
    "v2 = ....\n",
    "s2 = ....\n",
    "pH = ....\n",
    "v3 = ....\n",
    "s3 = ...."
   ]
  },
  {
   "cell_type": "markdown",
   "metadata": {
    "id": "zf7ll6_uFymj"
   },
   "source": [
    "**3)** Compléter l'instruction qui permet de calculer la concentration en ions oxonium dans la solution :"
   ]
  },
  {
   "cell_type": "code",
   "execution_count": null,
   "metadata": {
    "id": "TEnkBE6jF5JO"
   },
   "outputs": [],
   "source": [
    "c3 = ...."
   ]
  },
  {
   "cell_type": "markdown",
   "metadata": {
    "id": "W-gemmFVKa6g"
   },
   "source": [
    "**4)** Compléter les trois instructions suivantes. L'objectif est de calculer les quantités de matière initiales des ions fer II, des ions permanganate et des ions hydronium."
   ]
  },
  {
   "cell_type": "code",
   "execution_count": null,
   "metadata": {
    "id": "jpGqeBZXtPrX"
   },
   "outputs": [],
   "source": [
    "n10 = ....\n",
    "n20 = ....\n",
    "n30 = ...."
   ]
  },
  {
   "cell_type": "markdown",
   "metadata": {
    "id": "NmllErvZyXmb"
   },
   "source": [
    "**5)** On cherche à déterminer si le mélange initial est stœchiométrique ou pas. Expliquer le fonctionnement du code qui suit."
   ]
  },
  {
   "cell_type": "code",
   "execution_count": null,
   "metadata": {
    "id": "JWlBOz9wCLsj"
   },
   "outputs": [],
   "source": [
    "est_stoechiometrique = (n10 / s1 == n20 / s2) and (n10 / s1 == n30 /s3)\n",
    "print(f\"Le mélange initial est-il stœchiométrique ? {est_stoechiometrique}\")"
   ]
  },
  {
   "cell_type": "markdown",
   "metadata": {
    "id": "Ek1coLeKEX70"
   },
   "source": [
    "**6)** Établir le tableau d'avancement de la transformation et mettre en évidence une relation entre l'avancement maximal $x_{max}$, les quantités de matière initiales $n_{10}$, $n_{20}$, $n_{30}$ et les nombres stœchiométriques $s_1$, $s_2$ et $s_3$."
   ]
  },
  {
   "cell_type": "markdown",
   "metadata": {
    "id": "kudARxwUFcee"
   },
   "source": [
    "**7)** Le code suivant détermine la valeur de l'avancement maximal. Le compléter à l'aide de la relation mise en évidence à la question précédente."
   ]
  },
  {
   "cell_type": "code",
   "execution_count": null,
   "metadata": {
    "id": "u2akNwj4C9Zk"
   },
   "outputs": [],
   "source": [
    "x_max = min(............)\n",
    "print(f\"L'avancement maximal vaut x_max = {x_max} mol\")"
   ]
  }
 ],
 "metadata": {
  "colab": {
   "collapsed_sections": [],
   "provenance": [
    {
     "file_id": "1CDuHu0wO7LGj-2MSQlq6871x1N4GVn0T",
     "timestamp": 1667238695888
    }
   ]
  },
  "kernelspec": {
   "display_name": "Python 3 (ipykernel)",
   "language": "python",
   "name": "python3"
  },
  "language_info": {
   "codemirror_mode": {
    "name": "ipython",
    "version": 3
   },
   "file_extension": ".py",
   "mimetype": "text/x-python",
   "name": "python",
   "nbconvert_exporter": "python",
   "pygments_lexer": "ipython3",
   "version": "3.9.13"
  }
 },
 "nbformat": 4,
 "nbformat_minor": 1
}
