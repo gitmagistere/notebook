{
 "cells": [
  {
   "cell_type": "markdown",
   "id": "6f104eae",
   "metadata": {},
   "source": [
    "# Les tests conditionnels - Correction"
   ]
  },
  {
   "cell_type": "markdown",
   "id": "c88d8b6d",
   "metadata": {},
   "source": [
    "# Exercice 1"
   ]
  },
  {
   "cell_type": "markdown",
   "id": "4a787972",
   "metadata": {},
   "source": [
    "Les trois erreurs sont :\n",
    "- et se traduit par and et non or\n",
    "\n",
    "- l'indentation de la troisième ligne n'est pas respectée.\n",
    "\n",
    "- On écrit False et non false."
   ]
  },
  {
   "cell_type": "markdown",
   "id": "5ca0856f",
   "metadata": {},
   "source": [
    "Voici le programme corrigé :"
   ]
  },
  {
   "cell_type": "code",
   "execution_count": 1,
   "id": "9a5ced27",
   "metadata": {},
   "outputs": [],
   "source": [
    "def divi(n):\n",
    "    if n % 3 == 0 and n >= 15:\n",
    "        return True\n",
    "    else:\n",
    "        return False"
   ]
  },
  {
   "cell_type": "code",
   "execution_count": 2,
   "id": "334b463a",
   "metadata": {},
   "outputs": [
    {
     "data": {
      "text/plain": [
       "False"
      ]
     },
     "execution_count": 2,
     "metadata": {},
     "output_type": "execute_result"
    }
   ],
   "source": [
    "divi(50)"
   ]
  },
  {
   "cell_type": "code",
   "execution_count": 3,
   "id": "d6466cc5",
   "metadata": {},
   "outputs": [
    {
     "data": {
      "text/plain": [
       "True"
      ]
     },
     "execution_count": 3,
     "metadata": {},
     "output_type": "execute_result"
    }
   ],
   "source": [
    "divi(45)"
   ]
  },
  {
   "cell_type": "markdown",
   "id": "5c4cb932",
   "metadata": {},
   "source": [
    "# Exercice 2"
   ]
  },
  {
   "cell_type": "markdown",
   "id": "141ca0f8",
   "metadata": {},
   "source": [
    "Une solution possible :"
   ]
  },
  {
   "cell_type": "code",
   "execution_count": 4,
   "id": "064d3c96",
   "metadata": {},
   "outputs": [],
   "source": [
    "from random import*\n",
    "\n",
    "def jeux():\n",
    "    de=randint(1,6)\n",
    "    if de<3 or de==6:\n",
    "        return \"bravo\"\n",
    "    else:\n",
    "        return \"perdu\""
   ]
  },
  {
   "cell_type": "code",
   "execution_count": 5,
   "id": "7abaeefc",
   "metadata": {},
   "outputs": [
    {
     "data": {
      "text/plain": [
       "'bravo'"
      ]
     },
     "execution_count": 5,
     "metadata": {},
     "output_type": "execute_result"
    }
   ],
   "source": [
    "jeux()"
   ]
  },
  {
   "cell_type": "markdown",
   "id": "594bdad2",
   "metadata": {},
   "source": [
    "# Exercice 3"
   ]
  },
  {
   "cell_type": "markdown",
   "id": "49be1357",
   "metadata": {},
   "source": [
    "Une solution possible :"
   ]
  },
  {
   "cell_type": "code",
   "execution_count": 6,
   "id": "6852c51c",
   "metadata": {},
   "outputs": [],
   "source": [
    "def imc(poids,taille):\n",
    "    imc=poids/taille**2\n",
    "    if imc<=18.5:\n",
    "        return \"Corpulence insuffisante\"\n",
    "    elif imc>18.5 and imc<25:\n",
    "        return \"Corpulence normale\"\n",
    "    elif imc>=25 and imc<30:\n",
    "        return \"Surpoids\"\n",
    "    else:\n",
    "        return \"Surpoids important\"\n",
    "    "
   ]
  },
  {
   "cell_type": "code",
   "execution_count": 7,
   "id": "a33c0759",
   "metadata": {},
   "outputs": [
    {
     "data": {
      "text/plain": [
       "'Corpulence insuffisante'"
      ]
     },
     "execution_count": 7,
     "metadata": {},
     "output_type": "execute_result"
    }
   ],
   "source": [
    "imc(50,1.65)"
   ]
  },
  {
   "cell_type": "code",
   "execution_count": 8,
   "id": "484288f7",
   "metadata": {},
   "outputs": [
    {
     "data": {
      "text/plain": [
       "'Corpulence normale'"
      ]
     },
     "execution_count": 8,
     "metadata": {},
     "output_type": "execute_result"
    }
   ],
   "source": [
    "imc(70,1.75)"
   ]
  }
 ],
 "metadata": {
  "kernelspec": {
   "display_name": "Python 3 (ipykernel)",
   "language": "python",
   "name": "python3"
  },
  "language_info": {
   "codemirror_mode": {
    "name": "ipython",
    "version": 3
   },
   "file_extension": ".py",
   "mimetype": "text/x-python",
   "name": "python",
   "nbconvert_exporter": "python",
   "pygments_lexer": "ipython3",
   "version": "3.9.7"
  }
 },
 "nbformat": 4,
 "nbformat_minor": 5
}
