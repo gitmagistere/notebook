{
  "nbformat": 4,
  "nbformat_minor": 0,
  "metadata": {
    "colab": {
      "provenance": [],
      "toc_visible": true
    },
    "kernelspec": {
      "name": "python3",
      "display_name": "Python 3"
    },
    "language_info": {
      "name": "python"
    }
  },
  "cells": [
    {
      "cell_type": "markdown",
      "metadata": {
        "id": "yL4Q8Ok4TKqk"
      },
      "source": [
        "# TP - Modélisation d'un réseau social\n",
        "Pour commencer, **exécutez le script** ci-dessous pour importer deux modules qui nous seront nécessaires pendant tout le TP.\n",
        "Réponses\n",
        "\n",
        "\n"
      ]
    },
    {
      "cell_type": "code",
      "metadata": {
        "id": "jUxCD0DVTkSs"
      },
      "source": [
        "# importation du module \"matplotlib\" pour créer des graphiques\n",
        "import matplotlib.pyplot as plt\n",
        "# importation du module \"networkx\" pour simuler un réseau social\n",
        "import networkx as nx"
      ],
      "execution_count": null,
      "outputs": []
    },
    {
      "cell_type": "markdown",
      "metadata": {
        "id": "VgHXkaiTTqWv"
      },
      "source": [
        "## **1.   Découverte du module networkx**\n",
        "Simulons un réseau social avec le module Python **networkx**.\n"
      ]
    },
    {
      "cell_type": "markdown",
      "metadata": {
        "id": "igqZhsiGYQLc"
      },
      "source": [
        "### **Exercice 1**\n",
        "Lire puis exécuter plusieurs fois le code ci-dessous :"
      ]
    },
    {
      "cell_type": "code",
      "metadata": {
        "id": "HI3RMaBJUB6m"
      },
      "source": [
        "# création d'un graphe vide non orienté appelé \"monReseau\"\n",
        "monReseau = nx.Graph()\n",
        "monReseau.add_node(\"Audrey\")\n",
        "monReseau.add_node(\"Nicolas\")\n",
        "monReseau.add_node(\"Alexis\")\n",
        "monReseau.add_node(\"Hélène\")\n",
        "# dessine (draw) et affiche (show) le graphe \"monReseau\"\n",
        "nx.draw(monReseau, with_labels=True)\n",
        "print(\"Nombre de personnes =\", monReseau.number_of_nodes())\n",
        "plt.show()"
      ],
      "execution_count": null,
      "outputs": []
    },
    {
      "cell_type": "markdown",
      "metadata": {
        "id": "3MJMOvj-UOxo"
      },
      "source": [
        "**Question 1 : Que pouvez-vous observer ?**\n",
        "\n",
        "Répondre ici ...\n",
        "\n"
      ]
    },
    {
      "cell_type": "markdown",
      "metadata": {
        "id": "9CupWZXjUfDy"
      },
      "source": [
        "**Question 2 : Que fait le code de la ligne : *monReseau.add_node(\"Alexis\")* ?**\n",
        "\n",
        "Répondre ici ..."
      ]
    },
    {
      "cell_type": "markdown",
      "metadata": {
        "id": "4lQAMZjSUpSE"
      },
      "source": [
        "### **Exercice 2**\n",
        "Lire puis exécuter plusieurs fois le code ci-dessous :"
      ]
    },
    {
      "cell_type": "code",
      "metadata": {
        "id": "ApX3XctMUu5m"
      },
      "source": [
        "monReseau = nx.Graph()\n",
        "monReseau.add_node(\"Audrey\")\n",
        "monReseau.add_node(\"Nicolas\")\n",
        "monReseau.add_node(\"Alexis\")\n",
        "monReseau.add_node(\"Hélène\")\n",
        "monReseau.add_edge(\"Audrey\", \"Nicolas\")\n",
        "monReseau.add_edge(\"Audrey\", \"Alexis\")\n",
        "monReseau.add_edge(\"Nicolas\", \"Alexis\")\n",
        "monReseau.add_edge(\"Hélène\", \"Audrey\")\n",
        "monReseau.add_edge(\"Hélène\", \"Nicolas\")\n",
        "nx.draw(monReseau, with_labels=True)\n",
        "print(\"Nombre de personnes =\", monReseau.number_of_nodes())\n",
        "print(\"Nombre de liens =\", monReseau.number_of_edges())\n",
        "plt.show()"
      ],
      "execution_count": null,
      "outputs": []
    },
    {
      "cell_type": "markdown",
      "metadata": {
        "id": "7frRP9OKUyqh"
      },
      "source": [
        "**Question 1 : Que pouvez-vous observer ?**\n",
        "\n",
        "Répondre ici ...\n"
      ]
    },
    {
      "cell_type": "markdown",
      "metadata": {
        "id": "vBYxC3P4U1Z_"
      },
      "source": [
        "**Question 2 : Que fait le code de la ligne : *monReseau.add_edge(\"Audrey\",\"Nicolas\")* ?**\n",
        "\n",
        "Répondre ici ...\n"
      ]
    },
    {
      "cell_type": "markdown",
      "metadata": {
        "id": "GDTZaCtNU4N4"
      },
      "source": [
        "**Question 3 : Quelles sont les deux personnes qui ne sont pas directement en relation sur ce graphe ? En réalité elles sont amies : Que faudrait-il pour faire apparaitre leur relation ?**\n",
        "\n",
        "Répondre ici ...\n"
      ]
    },
    {
      "cell_type": "markdown",
      "metadata": {
        "id": "5B077btiU6Tg"
      },
      "source": [
        "**Question 4 : Réalisez les modifications proposées dans la cellule ci-dessous**"
      ]
    },
    {
      "cell_type": "code",
      "metadata": {
        "id": "vGB0i3bPVDdS"
      },
      "source": [
        "# Ecrire le programme modifié dans cette espace de programmation\n"
      ],
      "execution_count": null,
      "outputs": []
    },
    {
      "cell_type": "markdown",
      "metadata": {
        "id": "fSh447QuVX72"
      },
      "source": [
        "## **2.   Un graphe orienté**\n",
        "\n"
      ]
    },
    {
      "cell_type": "markdown",
      "metadata": {
        "id": "n4hj4lqBYZvd"
      },
      "source": [
        "### **Exercice 1**\n",
        "Lire puis exécuter plusieurs fois le code ci-dessous (qui est PRESQUE le même que précédemment mais pas tout à fait !!!) :"
      ]
    },
    {
      "cell_type": "code",
      "metadata": {
        "id": "ZI4nsa7cWSwg"
      },
      "source": [
        "monReseau = nx.DiGraph() # création d'un graphe orienté\n",
        "monReseau.add_node(\"Audrey\")\n",
        "monReseau.add_node(\"Nicolas\")\n",
        "monReseau.add_node(\"Alexis\")\n",
        "monReseau.add_node(\"Hélène\")\n",
        "monReseau.add_edge(\"Audrey\", \"Nicolas\") # lien de Audrey vers Nicolas\n",
        "monReseau.add_edge(\"Audrey\", \"Alexis\")\n",
        "monReseau.add_edge(\"Nicolas\", \"Alexis\")\n",
        "monReseau.add_edge(\"Hélène\", \"Audrey\")\n",
        "monReseau.add_edge(\"Hélène\", \"Nicolas\")\n",
        "monReseau.add_edge(\"Alexis\", \"Audrey\")\n",
        "nx.draw(monReseau, with_labels=True)\n",
        "print(\"Nombre de personnes =\", monReseau.number_of_nodes())\n",
        "print(\"Nombre de liens =\", monReseau.number_of_edges())\n",
        "plt.show()"
      ],
      "execution_count": null,
      "outputs": []
    },
    {
      "cell_type": "markdown",
      "metadata": {
        "id": "BRiPcCi0WFC3"
      },
      "source": [
        "**Question 1 : Qu'est-ce qui a changé par rapport au graphe précédent ?**\n",
        "\n",
        "Répondre ici ...\n"
      ]
    },
    {
      "cell_type": "markdown",
      "metadata": {
        "id": "BxtdP-bzWKdC"
      },
      "source": [
        "**Question 2 : Pourquoi la relation entre Audrey et Alexis est-elle différente des autres ?**\n",
        "**Pourquoi voit-on 5 segments mais 6 liens ?**\n",
        "\n",
        "Répondre ici ...\n",
        "\n"
      ]
    },
    {
      "cell_type": "markdown",
      "metadata": {
        "id": "FbKcCvQ3WMNE"
      },
      "source": [
        "**Question 3 : Ce dernier graphe est dit orienté, par opposition au graphe du paragraphe précédent qui est dit non orienté. Parmi les réseaux sociaux suivants : Facebook, Twitter, Instagram, WhatsApp, Snapchat, citer un réseau social orienté et un réseau social non orienté.**\n",
        "\n",
        "Répondre ici ...\n"
      ]
    },
    {
      "cell_type": "markdown",
      "metadata": {
        "id": "qwdcpIpmWX5W"
      },
      "source": [
        "## **3.   Mon petit réseau social**\n",
        "\n"
      ]
    },
    {
      "cell_type": "markdown",
      "metadata": {
        "id": "pv-VRaZdYc7K"
      },
      "source": [
        "### **Exercice 1**\n",
        "Choisir 6 camarades de votre choix et simuler graphiquement un réseau social non orienté entre ces personnes, à l'aide du code appris précédemment\n",
        "\n",
        "Utilisez l'espace ci-dessous pour programmer"
      ]
    },
    {
      "cell_type": "code",
      "metadata": {
        "id": "ioofpHohWwRj"
      },
      "source": [
        "# programmez ici\n",
        "# ...\n",
        "# ...\n",
        "# ..."
      ],
      "execution_count": null,
      "outputs": []
    },
    {
      "cell_type": "markdown",
      "metadata": {
        "id": "Fw3BxVnMW0Pu"
      },
      "source": [
        "## **4.   Un réseau social où tout le monde est ami**\n",
        "\n"
      ]
    },
    {
      "cell_type": "markdown",
      "metadata": {
        "id": "rHBD2qz9Ygku"
      },
      "source": [
        "### **Exercice 1**\n",
        "Lire puis exécuter plusieurs fois le programme ci-dessous :"
      ]
    },
    {
      "cell_type": "code",
      "metadata": {
        "id": "Ikm3OUCCXCBu"
      },
      "source": [
        "monRezo = nx.Graph()\n",
        "Liste = [\"Ronaldo\", \"Messi\", \"Totti\", \"Salah\", \"Mbappé\", \"Neymar\"]\n",
        "for a in Liste:\n",
        "    monRezo.add_node(a)\n",
        "for b in Liste:\n",
        "    for c in Liste:\n",
        "        monRezo.add_edge(b, c)\n",
        "nx.draw(monRezo, with_labels = True)\n",
        "print(\"Nombre de personnes =\", monRezo.number_of_nodes())\n",
        "print(\"Nombre de liens =\", monRezo.number_of_edges())\n",
        "plt.show()"
      ],
      "execution_count": null,
      "outputs": []
    },
    {
      "cell_type": "markdown",
      "metadata": {
        "id": "aLDF6Nz2XH7z"
      },
      "source": [
        "**Question 1 : Expliquer ce que font les lignes 5, 6 et 7 du programme.**\n",
        "\n",
        "Répondre ici ...\n"
      ]
    },
    {
      "cell_type": "markdown",
      "metadata": {
        "id": "JIz4N3ZeXNId"
      },
      "source": [
        "## **5.   Un réseau social plus ou moins social**\n",
        "La fonction **random()** renvoie un nombre réel au hasard entre 0 et 1.\n",
        "\n"
      ]
    },
    {
      "cell_type": "markdown",
      "metadata": {
        "id": "8EcWvLFfYi9Z"
      },
      "source": [
        "### **Exercice 1 : La fonction random()**\n",
        "Lire puis exécuter plusieurs fois le programme ci-dessous :"
      ]
    },
    {
      "cell_type": "code",
      "metadata": {
        "id": "qISPEgobXb0G"
      },
      "source": [
        "from random import random\n",
        "monRezo = nx.Graph()\n",
        "Liste = [\"Ronaldo\", \"Messi\", \"Totti\", \"Salah\", \"Pogba\", \"Neymar\"]\n",
        "p = 0.3\n",
        "for a in Liste:\n",
        "    monRezo.add_node(a)\n",
        "for b in Liste:\n",
        "    for c in Liste:\n",
        "        if random() < p:\n",
        "            monRezo.add_edge(b, c)\n",
        "nx.draw(monRezo, with_labels = True)\n",
        "print(\"Nombre de personnes =\", monRezo.number_of_nodes())\n",
        "print(\"Nombre de liens =\", monRezo.number_of_edges())\n",
        "plt.show()"
      ],
      "execution_count": null,
      "outputs": []
    },
    {
      "cell_type": "markdown",
      "metadata": {
        "id": "f-7jpViwXe0j"
      },
      "source": [
        "### **Exercice 2 : la fonction random() comparée**\n",
        "Par défaut p = 0.3 (ligne 4 du programme).\n",
        "  \n",
        "*   Donnez à p la valeur 0.1 puis exécutez plusieurs fois le programme. \n",
        "*   Donnez à p la valeur 0.9 puis exécutez plusieurs fois le programme.\n",
        "\n",
        "\n",
        "\n",
        "\n",
        "\n"
      ]
    },
    {
      "cell_type": "markdown",
      "metadata": {
        "id": "s-aSAunNX2Aq"
      },
      "source": [
        "**Question 1 : Que constatez-vous ? Pourquoi ?**\n",
        "\n",
        "Répondre ici ...\n"
      ]
    },
    {
      "cell_type": "markdown",
      "metadata": {
        "id": "pwbfxA7wX6ZN"
      },
      "source": [
        "## **6.   D'autres réseaux ?**\n",
        "\n",
        "**Question :** Nous venons de simuler un réseau social avec le module Python networkx.\n",
        "**Quels autres types de réseaux pourrait-on modéliser avec networkx ?**\n",
        "\n",
        "Répondre ici ...\n",
        "\n"
      ]
    }
  ]
}