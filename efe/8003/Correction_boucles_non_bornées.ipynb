{
 "cells": [
  {
   "cell_type": "markdown",
   "id": "b6637202",
   "metadata": {},
   "source": [
    "# Correction"
   ]
  },
  {
   "cell_type": "markdown",
   "id": "f94e6dbf",
   "metadata": {},
   "source": [
    "## Exercice 1"
   ]
  },
  {
   "cell_type": "code",
   "execution_count": null,
   "id": "fa4063ee",
   "metadata": {},
   "outputs": [],
   "source": [
    "def surface():\n",
    "    annees = 0\n",
    "    aire = 230\n",
    "    while aire >= 15 :\n",
    "        annees = annees + 1\n",
    "        aire = aire / 2\n",
    "    return annees, aire"
   ]
  },
  {
   "cell_type": "markdown",
   "id": "0baf87b6",
   "metadata": {},
   "source": [
    "## Exercice 2"
   ]
  },
  {
   "cell_type": "code",
   "execution_count": 12,
   "id": "b9e3beee",
   "metadata": {},
   "outputs": [],
   "source": [
    "def cube(n):\n",
    "    return n**3\n",
    "\n",
    "def prem():\n",
    "    k = 1\n",
    "    while cube(k) <= 120 :\n",
    "        k = k + 1\n",
    "    return cube(k), k"
   ]
  },
  {
   "cell_type": "markdown",
   "id": "ceb77e0f",
   "metadata": {},
   "source": [
    "## Exercice 3"
   ]
  },
  {
   "cell_type": "code",
   "execution_count": null,
   "id": "eeeade5e",
   "metadata": {},
   "outputs": [],
   "source": [
    "def nbr(cible):\n",
    "    prix = 230000\n",
    "    annees = 0\n",
    "    while prix <= cible :\n",
    "        prix = prix * 1.03\n",
    "        annees = annees + 1\n",
    "    return prix, annees"
   ]
  }
 ],
 "metadata": {
  "celltoolbar": "Format de la Cellule Texte Brut",
  "kernelspec": {
   "display_name": "Python 3 (ipykernel)",
   "language": "python",
   "name": "python3"
  },
  "language_info": {
   "codemirror_mode": {
    "name": "ipython",
    "version": 3
   },
   "file_extension": ".py",
   "mimetype": "text/x-python",
   "name": "python",
   "nbconvert_exporter": "python",
   "pygments_lexer": "ipython3",
   "version": "3.9.7"
  }
 },
 "nbformat": 4,
 "nbformat_minor": 5
}
