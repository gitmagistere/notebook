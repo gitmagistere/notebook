{
 "cells": [
  {
   "cell_type": "code",
   "execution_count": null,
   "metadata": {},
   "outputs": [],
   "source": [
    "# On considère la réaction a A + b B -> c C + d D\n",
    "# Le programme consiste à calculer les quantités de matière des réactifs et des produits à l'état final connaissant les quantités de matière initiales et les coefficients stoechiométriques\n",
    "\n",
    "# Affectation d'une valeur aux coefficients stoechiométriques des réactifs et des produits\n",
    "a = 1\n",
    "b = 2\n",
    "c = 2\n",
    "d = 1\n",
    "\n",
    "\n",
    "# Affectation d'une valeur aux quantités de matière initiales des réactifs\n",
    "nA_i = 2.0\n",
    "nB_i = 2.0\n",
    "\n",
    "\n",
    "# Test conditionnel pour le calcul de l'avancement maximal - A compléter\n",
    "...\n",
    "\n",
    "# Calcul des quantités de matière à l'état final\n",
    "nA_f = nA_i - a * xmax\n",
    "nB_f = nB_i - b * xmax\n",
    "nC_f = c * xmax\n",
    "nD_f = d * xmax\n",
    "\n",
    "\n",
    "# Affichage des conditions initiales sous la forme d'une phrase\n",
    "# Lorsque nA_i vaut ... mol et nB_i vaut ... mol et pour des coefficients stoechiométriques a = ... et b ...\n",
    "print (\"Lorsque nA_i vaut \", nA_i, \" mol et nB_i vaut \", nB_i, \" mol et pour des coefficients stoechiométriques a = \", a, \" et b = \", b)\n",
    "\n",
    "# Affichage de la valeur de l’avancement maximal sous la forme d’une phrase\n",
    "# L'avancement maximal vaut ... mol\n",
    "print(\" L'avancement maximal vaut \", xmax, \" mol \")\n",
    "\n",
    "# Affichage de la valeur des quantités de matière à l’état final sous la forme de phrases type\n",
    "# Par exemple, la quantité de matière du réactif A à l'état final vaut ... mol\n",
    "\n",
    "print(\"La quantité de matière du réactif A à l'état final vaut \", nA_f, \" mol\")\n",
    "print(\"La quantité de matière du réactif B à l'état final vaut \", nB_f, \" mol\")\n",
    "print(\"La quantité de matière du produit C à l'état final vaut \", nC_f, \" mol\")\n",
    "print(\"La quantité de matière du produit D à l'état final vaut \", nD_f, \" mol\")"
   ]
  }
 ],
 "metadata": {
  "colab": {
   "authorship_tag": "ABX9TyNYBQXHor3hAbIwQLqcrtZn",
   "name": "Limitant correction.ipynb",
   "provenance": []
  },
  "kernelspec": {
   "display_name": "Python 3 (ipykernel)",
   "language": "python",
   "name": "python3"
  },
  "language_info": {
   "codemirror_mode": {
    "name": "ipython",
    "version": 3
   },
   "file_extension": ".py",
   "mimetype": "text/x-python",
   "name": "python",
   "nbconvert_exporter": "python",
   "pygments_lexer": "ipython3",
   "version": "3.9.13"
  }
 },
 "nbformat": 4,
 "nbformat_minor": 1
}
