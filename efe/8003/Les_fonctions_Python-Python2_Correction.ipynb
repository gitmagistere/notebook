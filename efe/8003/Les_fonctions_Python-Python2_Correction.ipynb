{
 "cells": [
  {
   "cell_type": "raw",
   "id": "a2a664e6",
   "metadata": {},
   "source": [
    "Exercice 1 :"
   ]
  },
  {
   "cell_type": "raw",
   "id": "82684487",
   "metadata": {},
   "source": [
    "- Il manque les deux points à la fin de la première ligne,\n",
    "\n",
    "- l'indentation de la deuxième ligne n'est pas respectée."
   ]
  },
  {
   "cell_type": "raw",
   "id": "fdcc0a69",
   "metadata": {},
   "source": [
    "Exercice 2 :"
   ]
  },
  {
   "cell_type": "code",
   "execution_count": null,
   "id": "674177e4",
   "metadata": {},
   "outputs": [],
   "source": [
    "def triple(n):\n",
    "    return 3*n"
   ]
  },
  {
   "cell_type": "raw",
   "id": "68720279",
   "metadata": {},
   "source": [
    "Exercice 3 :"
   ]
  },
  {
   "cell_type": "code",
   "execution_count": null,
   "id": "cdf88e2a",
   "metadata": {},
   "outputs": [],
   "source": [
    "from random import randint\n",
    "\n",
    "def double():\n",
    "    alea = randint(0,10)\n",
    "    return 2*alea"
   ]
  },
  {
   "cell_type": "raw",
   "id": "365184e8",
   "metadata": {},
   "source": [
    "Exercice 4 :"
   ]
  },
  {
   "cell_type": "code",
   "execution_count": null,
   "id": "3bcc5185",
   "metadata": {},
   "outputs": [],
   "source": [
    "def imc(poids,taille):\n",
    "    return poids/taille**2"
   ]
  },
  {
   "cell_type": "raw",
   "id": "70540df4",
   "metadata": {},
   "source": [
    "Exercice 5 :"
   ]
  },
  {
   "cell_type": "code",
   "execution_count": null,
   "id": "a26dae99",
   "metadata": {},
   "outputs": [],
   "source": [
    "def h(x):\n",
    "    return 3*x**2 - 15\n",
    "\n",
    "def positif(x):\n",
    "    return h(x) > 0"
   ]
  }
 ],
 "metadata": {
  "kernelspec": {
   "display_name": "Python 3 (ipykernel)",
   "language": "python",
   "name": "python3"
  },
  "language_info": {
   "codemirror_mode": {
    "name": "ipython",
    "version": 3
   },
   "file_extension": ".py",
   "mimetype": "text/x-python",
   "name": "python",
   "nbconvert_exporter": "python",
   "pygments_lexer": "ipython3",
   "version": "3.9.13"
  }
 },
 "nbformat": 4,
 "nbformat_minor": 5
}
