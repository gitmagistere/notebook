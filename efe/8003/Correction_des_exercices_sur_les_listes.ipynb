{
 "cells": [
  {
   "cell_type": "markdown",
   "id": "1e370c8d",
   "metadata": {},
   "source": [
    "# Correction des exercices sur les listes"
   ]
  },
  {
   "cell_type": "markdown",
   "id": "58cd83cd",
   "metadata": {},
   "source": [
    "Correction exercice 1"
   ]
  },
  {
   "cell_type": "code",
   "execution_count": 1,
   "id": "fbba9666",
   "metadata": {},
   "outputs": [],
   "source": [
    "g = 9.81\n",
    "h = 320\n",
    "altitudes = []   # Création de la liste vide altitudes\n",
    "\n",
    "def z(t):\n",
    "# définition de la loi horaire\n",
    "\treturn -0.5*g*t**2 + h\n",
    "\n",
    "for k in range(8):\n",
    "    altitudes.append(z(k))\n",
    "\n",
    "altitudesbis=[z(k) for k in range(8)]\n"
   ]
  },
  {
   "cell_type": "code",
   "execution_count": null,
   "id": "7e50f1b0",
   "metadata": {},
   "outputs": [],
   "source": []
  },
  {
   "cell_type": "markdown",
   "id": "9e3b1c25",
   "metadata": {},
   "source": [
    "Correction exercice 2"
   ]
  },
  {
   "cell_type": "code",
   "execution_count": 3,
   "id": "28763faf",
   "metadata": {},
   "outputs": [],
   "source": [
    "def multiples():\n",
    "    L=[k for k in range(101) if k%3==0 or k%5==0]\n",
    "    return L"
   ]
  },
  {
   "cell_type": "code",
   "execution_count": null,
   "id": "6f3139be",
   "metadata": {},
   "outputs": [],
   "source": []
  },
  {
   "cell_type": "markdown",
   "id": "86151469",
   "metadata": {},
   "source": [
    "Correction exercice 3"
   ]
  },
  {
   "cell_type": "code",
   "execution_count": 5,
   "id": "6aeb8c33",
   "metadata": {},
   "outputs": [],
   "source": [
    "hebdo = [7.5, 10.0, 12.5, 8.0, 11.0, 5.5, 13.7]\n",
    "\n",
    "def farenheit(TC):\n",
    "    TF=1.38*TC+32\n",
    "    return TF\n",
    "\n",
    "def conv(liste):\n",
    "    L=[]\n",
    "    for t in liste:\n",
    "        L.append(farenheit(t))\n",
    "    return L\n"
   ]
  },
  {
   "cell_type": "code",
   "execution_count": null,
   "id": "6af7550b",
   "metadata": {},
   "outputs": [],
   "source": []
  },
  {
   "cell_type": "code",
   "execution_count": null,
   "id": "4aed4892",
   "metadata": {},
   "outputs": [],
   "source": []
  }
 ],
 "metadata": {
  "kernelspec": {
   "display_name": "Python 3 (ipykernel)",
   "language": "python",
   "name": "python3"
  },
  "language_info": {
   "codemirror_mode": {
    "name": "ipython",
    "version": 3
   },
   "file_extension": ".py",
   "mimetype": "text/x-python",
   "name": "python",
   "nbconvert_exporter": "python",
   "pygments_lexer": "ipython3",
   "version": "3.10.6"
  }
 },
 "nbformat": 4,
 "nbformat_minor": 5
}
