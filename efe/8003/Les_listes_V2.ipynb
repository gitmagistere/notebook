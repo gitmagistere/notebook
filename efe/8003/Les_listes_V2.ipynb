{
 "cells": [
  {
   "cell_type": "markdown",
   "id": "b6637202",
   "metadata": {},
   "source": [
    "# Principe"
   ]
  },
  {
   "cell_type": "raw",
   "id": "edc30f28",
   "metadata": {},
   "source": [
    "Une liste est une structure de données constituée d'un ensemble ordonné fini et modifiable d’objets indicés. Autrement dit, une liste est une séquence finie modifiable d’objets numérotés à partir de l'indice 0. La liste fibo = [1, 1, 2, 3, 5, 8] contient six éléments ordonnés de type int."
   ]
  },
  {
   "cell_type": "markdown",
   "id": "0baf87b6",
   "metadata": {},
   "source": [
    "# Syntaxe"
   ]
  },
  {
   "cell_type": "raw",
   "id": "e3b21339",
   "metadata": {},
   "source": [
    "★ On écrit les éléments composant une liste entre crochets [ ] et séparés par des virgules.\n",
    "\n",
    "★ On accède aux éléments de la liste en utilisant leur indice. Dans l'exemple ci-dessus, fibo[5] renvoie l'élément d'indice 5 de la liste c'est à dire 8 (sixième élément de la liste), fibo[0] renvoie l'élément d'indice 0 (le premier de la liste)."
   ]
  },
  {
   "cell_type": "markdown",
   "id": "ceb77e0f",
   "metadata": {},
   "source": [
    "# Exemples"
   ]
  },
  {
   "cell_type": "code",
   "execution_count": null,
   "id": "fa4063ee",
   "metadata": {},
   "outputs": [],
   "source": [
    "# liste de flottants\n",
    "temperatures = [7.0 ,10.0 ,12.0 ,9.5 ,11.5 ,8.0 ,10.0]\n",
    "\n",
    "# liste de chaines de caractères\n",
    "planetes = [\"Jupiter\", \"Saturne\", \"Mars\", \"Terre\", \"Venus\"]\n",
    "\n",
    "# liste de booléens\n",
    "reponses = [True, True, False, False, True]"
   ]
  },
  {
   "cell_type": "raw",
   "id": "bbf3ee70",
   "metadata": {},
   "source": [
    "★ Exécuter le programme ci-dessus, puis appeler temperatures[2], puis planetes[0] dans la zone de code ci-dessous."
   ]
  },
  {
   "cell_type": "code",
   "execution_count": null,
   "id": "eeeade5e",
   "metadata": {},
   "outputs": [],
   "source": []
  },
  {
   "cell_type": "markdown",
   "id": "c96cff7a",
   "metadata": {},
   "source": [
    "# Générer une liste"
   ]
  },
  {
   "cell_type": "markdown",
   "id": "9b4ca7a2",
   "metadata": {},
   "source": [
    "### Par affectation directe\n",
    "\n",
    "On affecte au nom de la liste l'ensemble ordonnés de ses éléments entres crochets :\n",
    "temperatures = [7.0 ,10.0 ,12.0 ,9.5 ,11.5 ,8.0 ,10.0]\n",
    "\n",
    "### Par ajouts successifs\n",
    "\n",
    "La méthode .append() permet d'ajouter un nouvel élément en fin de liste."
   ]
  },
  {
   "cell_type": "code",
   "execution_count": 12,
   "id": "b9e3beee",
   "metadata": {},
   "outputs": [],
   "source": [
    "cubes = [] # liste vièrge nommée cubes\n",
    "\n",
    "# on ajoute successivement les cubes des\n",
    "# entier de 1 à 5 en fin de liste\n",
    "\n",
    "for i in range(1, 6):\n",
    "    cubes.append(i**3)"
   ]
  },
  {
   "cell_type": "raw",
   "id": "76568283",
   "metadata": {},
   "source": [
    "★ Exécuter le programme ci-dessus, puis appeler cubes dans la zone de code ci-dessous."
   ]
  },
  {
   "cell_type": "code",
   "execution_count": null,
   "id": "3dc0e88b",
   "metadata": {},
   "outputs": [],
   "source": []
  },
  {
   "cell_type": "markdown",
   "id": "55c2a49c",
   "metadata": {},
   "source": [
    "### En compréhension\n",
    "\n",
    "Une liste en compréhension permet de créer une liste à partir d’un processus d'itération décrit entre crochets."
   ]
  },
  {
   "cell_type": "code",
   "execution_count": null,
   "id": "766dcf30",
   "metadata": {},
   "outputs": [],
   "source": [
    "listecubes = [ x**3 for x in range(1,6)]\n",
    "\n",
    "pairs = [ n for n in range(10) if n % 2 == 0]\n",
    "\n",
    "nombres = [ k**2 for k in range(8) if k % 2 == 1]"
   ]
  },
  {
   "cell_type": "raw",
   "id": "2a091aa5",
   "metadata": {},
   "source": [
    "★ Exécuter le programme ci-dessus, puis appeler listecubes, pairs puis nombres dans la zone de code ci-dessous."
   ]
  },
  {
   "cell_type": "code",
   "execution_count": null,
   "id": "4ff3ff7e",
   "metadata": {},
   "outputs": [],
   "source": []
  },
  {
   "cell_type": "markdown",
   "id": "34b5b007",
   "metadata": {},
   "source": [
    "# Opérations sur les listes"
   ]
  },
  {
   "cell_type": "markdown",
   "id": "46be59d8",
   "metadata": {},
   "source": [
    "### Manipulation des éléments d'une liste\n",
    "\n",
    "On onsidère la liste de températures temp ci-dessous :"
   ]
  },
  {
   "cell_type": "code",
   "execution_count": 8,
   "id": "95c3f3d2",
   "metadata": {},
   "outputs": [],
   "source": [
    "temp = [7.0 ,10.0 ,12.0 ,9.5 ,11.5 ,8.0 ,10.0]\n"
   ]
  },
  {
   "cell_type": "raw",
   "id": "b746dccd",
   "metadata": {},
   "source": [
    "Exécuter le programme ci-dessus, puis effectuer les opérations ci-dessous dans la zone de code plus bas.\n",
    "\n",
    "★ temp.count(10.0) renvoie 2, c'est le nombre d'occurrences de l'élément 10.0.\n",
    "\n",
    "★ len(temp) renvoie 7, c'est la longueur de la liste.\n",
    "\n",
    "★ temp.sort( ) renvoie la liste dans l'ordre croissant : [7.0, 8.0, 9.5, 10.0, 10.0, 11.5, 12.0].\n",
    "\n",
    "★ temp[4] = 15.0 affecte la valeur 15.0 à l'élément d'indice 4 (cinquième élément).\n",
    "\n",
    "★ temp.remove(10.0) supprime la première ocurrence de 10.0 dans la liste.\n",
    "\n",
    "★ temp.insert(2,17.0) insère la valeur 17.0 au rang 2 : [7.0, 10.0, 17.0, 12.0, 9.5, 11.5, 8.0, 10.0]"
   ]
  },
  {
   "cell_type": "code",
   "execution_count": null,
   "id": "2ad1f362",
   "metadata": {},
   "outputs": [],
   "source": []
  },
  {
   "cell_type": "markdown",
   "id": "fac35013",
   "metadata": {},
   "source": [
    "# Parcourir les éléments d'une liste"
   ]
  },
  {
   "cell_type": "raw",
   "id": "d56a4f07",
   "metadata": {},
   "source": [
    "Pour parcourir les éléments d'une liste, une utilise une boucle avec le mot clé in"
   ]
  },
  {
   "cell_type": "code",
   "execution_count": null,
   "id": "07132b99",
   "metadata": {},
   "outputs": [],
   "source": [
    "temperatures = [7.0 ,10.0 ,12.0 ,9.5 ,11.5 ,8.0 ,10.0]\n",
    "\n",
    "def moyenne(liste):\n",
    "    somme = 0\n",
    "    for t in liste:   # t parcourt les éléments de la liste\n",
    "        somme = somme + t\n",
    "    return round(somme / 7 , 1)\t"
   ]
  },
  {
   "cell_type": "raw",
   "id": "ac2099c3",
   "metadata": {},
   "source": [
    "★ Exécuter le programme, puis appeler la fonction moyenne(temperatures) dans la zone de code ci-dessous."
   ]
  },
  {
   "cell_type": "code",
   "execution_count": null,
   "id": "b13be2c8",
   "metadata": {},
   "outputs": [],
   "source": []
  },
  {
   "cell_type": "markdown",
   "id": "524b5dfc",
   "metadata": {},
   "source": [
    "# Exercices"
   ]
  },
  {
   "cell_type": "markdown",
   "id": "903f311b",
   "metadata": {},
   "source": [
    "### Exercice 1\n",
    "\n",
    "On considère le programme ci-dessous :"
   ]
  },
  {
   "cell_type": "code",
   "execution_count": null,
   "id": "0a987073",
   "metadata": {},
   "outputs": [],
   "source": [
    "g = 9.81\n",
    "h = 320\n",
    "altitudes = []   # Création de la liste vide altitudes\n",
    "\n",
    "def z(t): \n",
    "# définition de la loi horaire\n",
    "    return -0.5*g*t**2 + h"
   ]
  },
  {
   "cell_type": "raw",
   "id": "7d28455f",
   "metadata": {},
   "source": [
    "1. Compléter le programme ci-dessus pour générer la liste des altitudes pour t entier allant de 0 s à 7 s en utilisant la méthode append().\n",
    "\n",
    "2. Vérifier votre travail en exécutant le programme ci-dessus et en appelant altitudes dans la zone de code ci-dessous.\n",
    "\n",
    "3. Réaliser le même exercice en générant cette fois la liste des altitudes par compréhension."
   ]
  },
  {
   "cell_type": "code",
   "execution_count": null,
   "id": "288c746f",
   "metadata": {},
   "outputs": [],
   "source": []
  },
  {
   "cell_type": "markdown",
   "id": "6847ada8",
   "metadata": {},
   "source": [
    "### Exercice 2\n",
    "\n",
    "Écrire une fonction qui renvoie la liste des multiples de 3 ou 5 strictement inférieurs à 100."
   ]
  },
  {
   "cell_type": "code",
   "execution_count": null,
   "id": "f49d1872",
   "metadata": {},
   "outputs": [],
   "source": [
    "\n",
    "\n",
    "\n",
    "\n",
    "\n",
    "\n"
   ]
  },
  {
   "cell_type": "markdown",
   "id": "18d282c3",
   "metadata": {},
   "source": [
    "### Exercice 3\n",
    "\n",
    "On considère la formule de conversion d'une tempréture en degrés Farenheit d'une tempréture donnée en degrés Celsius :    TF = 1,38 × TC + 32\n",
    "\n",
    "1. Compléter la fonction farenheit qui prend en paramètre TC , température en degrés Celsius et renvoie la température correspondante en degrés Farenheit.\n",
    "\n",
    "2. Exécuter votre programme et tester le en appelant la fonction farenheit pour différentes valeurs du paramètre.\n",
    "\n",
    "3. Ecrire une fonction conv qui prend en paramètre une liste de tempértures en degrés Celsius et revoie la liste des températures converies en degré Farenheit.\n",
    "\n",
    "4. Exécuter le programme et appeler conv(hebdo) pour vérifier votre travail."
   ]
  },
  {
   "cell_type": "code",
   "execution_count": null,
   "id": "3bbf4dca",
   "metadata": {},
   "outputs": [],
   "source": [
    "hebdo = [7.5, 10.0, 12.5, 8.0, 11.0, 5.5, 13.7] \n",
    "\n",
    "def farenheit(TC):\n",
    "    \n",
    "    \n",
    "    \n",
    "    \n",
    "    \n",
    "    "
   ]
  }
 ],
 "metadata": {
  "celltoolbar": "Format de la Cellule Texte Brut",
  "kernelspec": {
   "display_name": "Python 3 (ipykernel)",
   "language": "python",
   "name": "python3"
  },
  "language_info": {
   "codemirror_mode": {
    "name": "ipython",
    "version": 3
   },
   "file_extension": ".py",
   "mimetype": "text/x-python",
   "name": "python",
   "nbconvert_exporter": "python",
   "pygments_lexer": "ipython3",
   "version": "3.9.7"
  }
 },
 "nbformat": 4,
 "nbformat_minor": 5
}
