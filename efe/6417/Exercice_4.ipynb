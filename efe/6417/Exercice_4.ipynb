{
 "cells": [
  {
   "cell_type": "markdown",
   "metadata": {},
   "source": [
    "## Importer une fonction d'une bibliothèque\n",
    "Sur une interface de programmation en langage Python, certains nombres comme π, les racines carrées, ..., certaines fonctions comme sinus, cosinus, ..., que vous trouvez sur les calculatrices n'existent pas.\n",
    "\n",
    "Il faut les importer d'une \"bibliothèque\", pour pouvoir ensuite les utiliser dans les scripts.\n",
    "\n",
    "Commençons par exemple avec le nombre π, qui s'appellera pi dans les scripts en Python. On peut le trouver dans une bibliothèque appelée \"math\".\n",
    "\n",
    "Dans la zone de saisie ci-après, entrez la commande:\n",
    "\n",
    "    . pi\n"
   ]
  },
  {
   "cell_type": "code",
   "execution_count": null,
   "metadata": {},
   "outputs": [],
   "source": []
  },
  {
   "cell_type": "markdown",
   "metadata": {},
   "source": [
    "Un message d'erreur apparaît. pi n'a pas été reconnu, il n'est pas prédéfini dans cette interface Python. Nous allons l'importer de la bibliothèque \"math\" en saisissant :\n",
    "\n",
    "                                    from math import pi\n",
    "                                    \n",
    "Saisissez dans la zone de code ci dessous les deux lignes suivantes:\n",
    "\n",
    "    . from math import pi\n",
    "    . pi"
   ]
  },
  {
   "cell_type": "code",
   "execution_count": null,
   "metadata": {},
   "outputs": [],
   "source": []
  },
  {
   "cell_type": "markdown",
   "metadata": {},
   "source": [
    "Ca marche ! il ne sera plus necessaire d'importer pi pour la programmation dans les zones de code suivantes, c'est fait une fois pour toute, pour les scripts qui suivront sur une même page de programmation."
   ]
  },
  {
   "cell_type": "markdown",
   "metadata": {},
   "source": [
    "## Question 1:\n",
    "Un petit exercice avec le nombre π.\n",
    "\n",
    "Ecrire un script utilisant la boucle for, qui affiche successivement l'aire d'un disque de rayon 0, de rayon 1, de rayon 2 et de rayon 3.\n",
    "\n",
    "On rappelle que l'aire d'un disque de rayon r est : π*r².\n"
   ]
  },
  {
   "cell_type": "code",
   "execution_count": null,
   "metadata": {},
   "outputs": [],
   "source": []
  },
  {
   "cell_type": "markdown",
   "metadata": {},
   "source": [
    "## Question 2\n",
    "Avec des racines carrées.\n",
    "\n",
    "Pour pouvoir effectuer des cacluls avec des racines carrées, il faut importer la fonction sqrt (square root en anglais) de la bibliothèque math.\n",
    "\n",
    "Dans la zone de code qui suit, saisir d'abord sqrt(2) pour faire afficher √2 (racine carrée de 2), et constater le problème.\n",
    "\n",
    "Puis effacer et saisir la séquence :\n",
    "\n",
    "    . from math import sqrt\n",
    "    . sqrt(2)"
   ]
  },
  {
   "cell_type": "code",
   "execution_count": null,
   "metadata": {},
   "outputs": [],
   "source": []
  },
  {
   "cell_type": "markdown",
   "metadata": {},
   "source": [
    "Un problème lié au typage float en langage Python.\n",
    "\n",
    "Les nombres comme π ou √2 sont convertis en flottants (float). Les arrondis de calculs avec les flottants entraînent des affichages de résultats qui peuvent surprendre et gêner lorsqu'on débute en langage Python.\n",
    "\n",
    "Par exemple : Par définition, le carré de la racine carrée de 2 est égal à 2. Il se passe une drôle de chose losqu'on demande à Python d'effectuer ce calcul. Pour le constater, saisir dans la zone de code ci-après la séquence :\n",
    "\n",
    "    . sqrt(2)**2\n"
   ]
  },
  {
   "cell_type": "code",
   "execution_count": null,
   "metadata": {},
   "outputs": [],
   "source": []
  },
  {
   "cell_type": "markdown",
   "metadata": {},
   "source": [
    "Bizarre non... Il faudra savoir interpréter ce résultat comme étant égal à 2. Il existe des parades pour palier à cet inconvénient, que vous découvrirez plus tard dans votre usage de Python."
   ]
  },
  {
   "cell_type": "markdown",
   "metadata": {},
   "source": [
    "## Question 3\n",
    "\n",
    "Il est possible d'importer en une seule fois toutes les fonctions de la bibliothèque math.\n",
    "\n",
    "Pour cela il faut saisir la séquence:\n",
    "\n",
    "            from math import*\n",
    "\n",
    "Dans la zone de code ci-dessous, saisir cette séquence, puis faire afficher la valeur décimale approchée de cos(0), sin(pi/2), exp(3), log(10) (qui représente le logarithme népérien), log10(10) (qui représente le logarithme décimal)"
   ]
  },
  {
   "cell_type": "code",
   "execution_count": null,
   "metadata": {},
   "outputs": [],
   "source": []
  },
  {
   "cell_type": "markdown",
   "metadata": {},
   "source": [
    "## Question 4\n",
    "Il existe de très nombreuses bibliothèques qui contiennent des fonctions prédéfinies utilisées en programmation en langage Python.\n",
    "\n",
    "Nous parlerons plus tard dans ce parcours des bibliothèques numpy et matplolib.pylot qui seront utiles pour des tracés de graphiques.\n",
    "\n",
    "Pour cette dernière question, nous allons utiliser une fonction de la bibliothèque \"random\" (aléatoire en français), la bibliothèque qui contient des fonctions permettant d'effectuer des simulations.\n",
    "\n",
    "Pour importer toutes les fonctions de la bibliothèque random il faut saisir :\n",
    "        \n",
    "        from random import*\n",
    "        \n",
    "Dans la zone de code ci-dessous, saisir plusieurs fois l'instruction randint(1,6) qui renvoie un nombre entier aléatoire compris entre 1 et 6 (qui simule par exemple le lancer d'un dé cubique dont les faces sont numérotées de 1 à 6). Ne pas oublier d'importer la bibliothèque random d'abord.\n"
   ]
  },
  {
   "cell_type": "code",
   "execution_count": null,
   "metadata": {},
   "outputs": [],
   "source": []
  },
  {
   "cell_type": "markdown",
   "metadata": {},
   "source": [
    "Dans la zone de code ci-dessous, saisir plusieurs fois l'instruction random() qui renvoie un nombre décimal aléatoire strictement compris entre 0 et 1."
   ]
  },
  {
   "cell_type": "code",
   "execution_count": null,
   "metadata": {},
   "outputs": [],
   "source": []
  },
  {
   "cell_type": "markdown",
   "metadata": {},
   "source": [
    "Dans la zone de code ci-dessous, saisir un petit programme qui utilise la boucle for et qui affiche 10 lancers consécutifs d'un dé cubique à six faces numérotées de 1 à 6."
   ]
  },
  {
   "cell_type": "code",
   "execution_count": null,
   "metadata": {},
   "outputs": [],
   "source": []
  },
  {
   "cell_type": "markdown",
   "metadata": {},
   "source": [
    "Dans la zone de code ci-dessous, saisir une instruction qui renvoie un nombre décimal aléatoire strictement compris entre 0 et 5. \n",
    "\n",
    "Une aide ? Si un nombre x est strictement compris entre 0 et 1, alors le nombre 5x ........"
   ]
  },
  {
   "cell_type": "code",
   "execution_count": null,
   "metadata": {},
   "outputs": [],
   "source": []
  }
 ],
 "metadata": {
  "kernelspec": {
   "display_name": "Python 3",
   "language": "python",
   "name": "python3"
  },
  "language_info": {
   "codemirror_mode": {
    "name": "ipython",
    "version": 3
   },
   "file_extension": ".py",
   "mimetype": "text/x-python",
   "name": "python",
   "nbconvert_exporter": "python",
   "pygments_lexer": "ipython3",
   "version": "3.7.4"
  }
 },
 "nbformat": 4,
 "nbformat_minor": 2
}
