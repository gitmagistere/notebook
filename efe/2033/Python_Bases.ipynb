{
 "cells": [
  {
   "cell_type": "markdown",
   "metadata": {
    "deletable": false,
    "editable": false,
    "nbgrader": {
     "checksum": "57fd351b8fda09fd69d948e29f8051af",
     "grade": false,
     "grade_id": "cell-7d62fdcd2eb33566",
     "locked": true,
     "schema_version": 1,
     "solution": false
    }
   },
   "source": [
    "# Les bases de Python\n",
    "\n",
    "## La console et les opérations de base\n",
    "\n",
    "Dans la console, on peut taper directement des instructions Python qui s'exécutent immédiatement à condition d'appuyer sur le bouton $\\texttt{Exécuter}$ dans la barre des menus.  \n",
    "\n",
    "\n",
    "- La division s'obtient avec $\\texttt{/}$. \n",
    "- La division entière (quotient  de la division euclidienne)  s'obtient avec $\\texttt{//}$\n",
    "- Le reste  de la division euclidienne s'obtient avec $\\texttt{%}.$\n",
    "- La puissance s'obtient par $\\texttt{**}.$ \n",
    "- Le résultat du dernier calcul est rappelé par : _\n",
    "- On peut ajouter des commentaires en commençant par un $\\texttt{#}$ : à utiliser sans modérations pour s'y retrouver dans un programme.\n",
    "- On peut aussi écrire une suite d'instructions en les séparant par $\\texttt{;}$.\n",
    "- L'instruction $\\texttt{print(...)}$ permet d'afficher un résultat. Sinon après l'exécution de la cellule du notebook, apparait ce que renvoie la dernière instruction écrite.\n",
    "\n",
    "Voyons cela sur un exemple et notez la différence d'affichage :\n"
   ]
  },
  {
   "cell_type": "code",
   "execution_count": null,
   "metadata": {},
   "outputs": [],
   "source": [
    "2+4"
   ]
  },
  {
   "cell_type": "code",
   "execution_count": null,
   "metadata": {},
   "outputs": [],
   "source": [
    "print(2+4)"
   ]
  },
  {
   "cell_type": "markdown",
   "metadata": {
    "deletable": false,
    "editable": false,
    "nbgrader": {
     "checksum": "9b1d1eaab6aa7ea50810a1eddd6b7f95",
     "grade": false,
     "grade_id": "cell-b899418844a1b30a",
     "locked": true,
     "schema_version": 1,
     "solution": false
    }
   },
   "source": [
    "#### Exercice\n",
    "Anticiper le résultat de chaque instruction dans la console  et vérifier le résultat affiché.\n"
   ]
  },
  {
   "cell_type": "code",
   "execution_count": null,
   "metadata": {},
   "outputs": [],
   "source": [
    "print(3+5)\n",
    "print(3*5)\n",
    "print(13/4)\n",
    "print(13//4)\n",
    "print(13%4) ;  2**3    "
   ]
  },
  {
   "cell_type": "markdown",
   "metadata": {
    "deletable": false,
    "editable": false,
    "nbgrader": {
     "checksum": "e5a2120f04435ce4a0b290870dea322b",
     "grade": false,
     "grade_id": "cell-4c5fd04d8b795330",
     "locked": true,
     "schema_version": 1,
     "solution": false
    }
   },
   "source": [
    "## Les variables\n",
    "Une variable sert à stocker une information qui peut être sous la forme d'un nombre, une phrase, une liste de nombres, une liste de mots ...  \n",
    "L'affectation des variables dans python se fait avec $=$ et l'affichage du contenu d'une variable se fait  avec  l'instruction $\\texttt{print}$.  \n",
    "\n",
    "Ainsi $\\texttt{a=1}$ correspond à l'instruction  $\\texttt{stocker la valeur 1 dans la variable a}$  \n",
    "Autrement dit, la variable $\\texttt{a}$ prend la valeur $1$ que l'on écrit de façon synthétique $\\texttt{a}\\longleftarrow 1$.  \n",
    "Le nom d'une variable ne peut pas être un nombre et il y a des mots réservés qui prennent une coloration différente quand on les écrit. Il peut être utile de donner des noms explicites dans un programme pour s'y retrouver.  \n",
    "\n",
    "<em>Exemples de nom de variables : </em> $\\texttt{M},$ $\\texttt{L1}$, $\\texttt{ma}$_$\\texttt{Valeur2},$ $\\texttt{ma}\\_\\texttt{photo}\\_\\texttt{25}$, $\\ldots$  \n",
    "\n",
    "#### Exercice pour bien comprendre ce qu'est une variable\n",
    "1. On considère l'algorithme ci-dessous. Anticiper le résultat affiché en détaillant les étapes.\n",
    " \n",
    " <em>En language naturel :</em>  \n",
    " $x\\longleftarrow 3$  \n",
    " $y\\longleftarrow 2 x+4$  \n",
    " $z\\longleftarrow y^2$  \n",
    " afficher(z)  \n",
    "  \n",
    "  <em>En language Python :</em>  "
   ]
  },
  {
   "cell_type": "code",
   "execution_count": null,
   "metadata": {},
   "outputs": [],
   "source": [
    "x=3\n",
    "y=2*x+4\n",
    "z=y**2\n",
    "print(z) "
   ]
  },
  {
   "cell_type": "markdown",
   "metadata": {
    "deletable": false,
    "editable": false,
    "nbgrader": {
     "checksum": "891cc0220175428dafbe148b8e722a18",
     "grade": false,
     "grade_id": "cell-6120475ecebcd5a6",
     "locked": true,
     "schema_version": 1,
     "solution": false
    }
   },
   "source": [
    "2. On considère l'algorithme ci-dessous. Anticiper le résultat affiché en détaillant les étapes.  \n",
    " <em>En language naturel :</em>  \n",
    " $x\\longleftarrow 3$  \n",
    " $x\\longleftarrow 2 x+4$  \n",
    " $x\\longleftarrow x^2$  \n",
    " afficher(x)  \n",
    " \n",
    " \n",
    " <em>En language Python :</em> "
   ]
  },
  {
   "cell_type": "code",
   "execution_count": null,
   "metadata": {},
   "outputs": [],
   "source": [
    "x=3   \n",
    "x=2*x+4\n",
    "x=x**2\n",
    "print(x)"
   ]
  },
  {
   "cell_type": "markdown",
   "metadata": {
    "deletable": false,
    "editable": false,
    "nbgrader": {
     "checksum": "d5d839d6d9216caf9fa3bc59cdd1bde1",
     "grade": false,
     "grade_id": "cell-98749ca227f74685",
     "locked": true,
     "schema_version": 1,
     "solution": false
    }
   },
   "source": [
    "#### Exercice\n",
    "Anticiper le résultat de chaque instruction dans la console et vérifier le résultat affiché."
   ]
  },
  {
   "cell_type": "code",
   "execution_count": null,
   "metadata": {},
   "outputs": [],
   "source": [
    "a=3\n",
    "b=5\n",
    "a+b\n",
    "a=a+1 ; print(a)\n",
    "b=a  ; print(b)\n",
    "a =1; b=2 ; print(a) ; print(b)\n",
    "A=3; print(a) # Python est sensible à la casse.\n",
    "print(\"Bonjour tout le monde !\")"
   ]
  },
  {
   "cell_type": "markdown",
   "metadata": {
    "deletable": false,
    "editable": false,
    "nbgrader": {
     "checksum": "a0adb03fa45cf4cfda06043826b81b5a",
     "grade": false,
     "grade_id": "cell-81a208a585e90eee",
     "locked": true,
     "schema_version": 1,
     "solution": false
    }
   },
   "source": [
    " ## Les modules\n",
    " Il existe d'autres fonctions plus complexes mais pour les utiliser, il faut importer un module : sorte de \"collection\" de fonctions. Par exemple, le module $\\texttt{math}$ pour les fonctions en mathématiques,  le module $\\texttt{csv}$ pour manipuler des données  en CSV, le module $\\texttt{PIL}$ pour manipuler des photos numériques, le module $\\texttt{follium}$ pour la géolocalisation, le module $\\texttt{micropython}$ pour l'informatique embarquée ...   \n",
    "On peut importer un module de plusieurs façons :  \n",
    "-  $\\texttt{import nomDuModule}$  \n",
    " De cette façon, on importe toutes les fonctions, ensuite il faut appeler la  fonction comme ceci :  $\\texttt{nomDuModule.nomFonction}$\n",
    " \n",
    "- $\\texttt{import nomDuModule as alias}$  \n",
    " De cette façon, on importe toutes les fonctions, ensuite il faut appeler la  fonction comme ceci :  $\\texttt{alias.nomFonction}$\n",
    " \n",
    "- $\\texttt{from nomDuModule import* }$  \n",
    " De cette façon, on importe toutes les fonctions, ensuite il faut appeler la  fonction comme ceci :\n",
    " $\\texttt{nomFonction}$\n",
    " \n",
    "- $\\texttt{from nomDuModule import nomFonction}$  \n",
    " De cette façon, on importe uniquement la fonction nommée et on l'appelle par son nom.  \n",
    " \n",
    "Pour obtenir de l'aide sur un  module  dans la console Python, il faut d'abord l'importer avec $\\texttt{import nomDuModule}$ puis taper $\\texttt{help(nomDuModule)}$, mais le mieux est encore de consulter la documentation sur internet :  http://docs.python.org/3/.\\\\\n",
    "\n",
    "Voyons cela avec un exemple et la fonction racine carrée. Cette fonction est disponible dans le module math sous le nom $\\texttt{sqrt}$\n"
   ]
  },
  {
   "cell_type": "code",
   "execution_count": null,
   "metadata": {},
   "outputs": [],
   "source": [
    "import math\n",
    "math.sqrt(2)"
   ]
  },
  {
   "cell_type": "code",
   "execution_count": null,
   "metadata": {},
   "outputs": [],
   "source": [
    "import math as m\n",
    "m.sqrt(2)"
   ]
  },
  {
   "cell_type": "code",
   "execution_count": null,
   "metadata": {},
   "outputs": [],
   "source": [
    "from math import*\n",
    "sqrt(2)"
   ]
  },
  {
   "cell_type": "code",
   "execution_count": null,
   "metadata": {},
   "outputs": [],
   "source": [
    "from math import sqrt\n",
    "sqrt(2)"
   ]
  },
  {
   "cell_type": "markdown",
   "metadata": {
    "deletable": false,
    "editable": false,
    "nbgrader": {
     "checksum": "924d9d1cdd418ad474c4cf1821aa751d",
     "grade": false,
     "grade_id": "cell-46d2024c35e6090f",
     "locked": true,
     "schema_version": 1,
     "solution": false
    }
   },
   "source": [
    "Un exemple avec le module $\\texttt{webbrowser}$ qui permet d'ouvrir une page html en indiquant l'adresse du site à visiter."
   ]
  },
  {
   "cell_type": "code",
   "execution_count": null,
   "metadata": {},
   "outputs": [],
   "source": [
    "import webbrowser\n",
    "webbrowser.open('https://www.openstreetmap.org/#map=19/49.17860/-0.38191')"
   ]
  },
  {
   "cell_type": "markdown",
   "metadata": {
    "deletable": false,
    "editable": false,
    "nbgrader": {
     "checksum": "8f19c49e3c72d2ff47c12ccae79d08b5",
     "grade": false,
     "grade_id": "cell-9298043b4121c6ac",
     "locked": true,
     "schema_version": 1,
     "solution": false
    }
   },
   "source": [
    "## L'éditeur \n",
    "\n",
    "L'éditeur sert à taper des programmes  en Python, on parle aussi de scripts que l'on pourra sauvegarder\n",
    "dans des fichiers dont l'extension est $\\texttt{.py}$  \n",
    "\n",
    "Dans un notebook, la console et l'éditeur ne font qu'un. On peut exporter le notebook en $\\texttt{.py}$. Dans ce cas, le texte est mis en commentaires. Pour ce faire, dans la barre de menu choisir :  $\\texttt{File}$ puis $\\texttt{Download as}$ puis $\\texttt{Python(.py)}$\n",
    "\n",
    "\n",
    "Lorsque vous enregistrerez vos scripts, essayer de donner un nom explicite à vos dossiers et fichiers, en évitant  les lettres accentuées et les espaces  ;  par exemple : \n",
    "$\\texttt{mon}\\_\\texttt{essai.py}$ est préférable à  $\\texttt{mon essai.py}$. \n",
    "\n",
    "Voyons ci-dessous un exemple de script avec le module $\\texttt{folium}$:\n",
    "\n",
    "La cellule ci-dessous n'est à exécuter que si vous avez un message vous indiquant que ce module est inconnu (c'est un peu long, soyez patient).\n",
    "\n",
    "Elle contient la méthode à utiliser dans un notebook pour installer des modules qui ne sont pas installés.\n"
   ]
  },
  {
   "cell_type": "code",
   "execution_count": null,
   "metadata": {
    "deletable": false,
    "editable": false,
    "nbgrader": {
     "checksum": "c1b98fdd5ab8422f3390cc6324d4151d",
     "grade": false,
     "grade_id": "cell-a944bb1374240dd6",
     "locked": true,
     "schema_version": 1,
     "solution": false
    }
   },
   "outputs": [],
   "source": [
    "!pip install folium"
   ]
  },
  {
   "cell_type": "code",
   "execution_count": null,
   "metadata": {},
   "outputs": [],
   "source": [
    "import folium\n",
    "coordGPS=(49.1785935,-0.3819152) \n",
    "carte=folium.Map(location=coordGPS,zoom_start=20)\n",
    "folium.Marker(coordGPS).add_to(carte)\n",
    "carte.save('lieuConnu.html')"
   ]
  },
  {
   "cell_type": "markdown",
   "metadata": {
    "deletable": false,
    "editable": false,
    "nbgrader": {
     "checksum": "82bd773bbf4005b48b0bea8b87904d16",
     "grade": false,
     "grade_id": "cell-5ebea29b3cb5580e",
     "locked": true,
     "schema_version": 1,
     "solution": false
    }
   },
   "source": [
    "Ouvrir le fichier $\\texttt{lieuConnu.htlm}$ que vous trouverez au même endroit que votre notebook.  \n",
    "Vous y accédez à partir de ce notebook en choissisant dans la barre des menus :  $\\texttt{File}$ puis $\\texttt{Open...}$\n",
    "\n",
    "## Types de variables\n",
    "\n",
    "Python est un langage typé et contient une grande variété de types différents.\n",
    " Le type d'une variable est obtenue en utilisant l'instruction $\\texttt{type(nomVariable)}$\n",
    " \n",
    "#### Exercice \n",
    "Exécuter la cellule et observer le résultat"
   ]
  },
  {
   "cell_type": "code",
   "execution_count": null,
   "metadata": {},
   "outputs": [],
   "source": [
    "print(type(42))\n",
    "print(type(3.5))\n",
    "print(type(\"bonjour\" ))\n",
    "n = 3 ; print(type(n))\n",
    "x = 3.0 ; print(type(x))\n",
    "test = 2<5 ; print(type(test))\n",
    "T =(1,2) ; print(type(T))\n",
    "L=[1,2] ; print(type(L))"
   ]
  },
  {
   "cell_type": "markdown",
   "metadata": {
    "deletable": false,
    "editable": false,
    "nbgrader": {
     "checksum": "b29b8ec57c3426f9dc80fdf5cd29710c",
     "grade": false,
     "grade_id": "cell-6e96051914b309ed",
     "locked": true,
     "schema_version": 1,
     "solution": false
    }
   },
   "source": [
    "### Les entiers : le type $\\texttt{int}$\n",
    "\n",
    " Ils supportent les opérations  $+$, $-$, $ *,$ $ /,$ $ **$ (puissance), $ //$ (division entière), $\\texttt{%}$ (reste de la\n",
    "division entière), $\\texttt{abs()}$ (valeur absolue)...    \n",
    "Les ordres de priorité sont les mêmes qu'en mathématiques.\n",
    "\n",
    "### Les   nombres flottants : le type $\\texttt{float}$\n",
    " Ils supportent les opérations usuelles.  \n",
    "On peut convertir des expressions d'un type à un autre.\n",
    "\n",
    "#### Exercice\n",
    "Anticiper le résultat de chaque instruction et vérifier le résultat affiché."
   ]
  },
  {
   "cell_type": "code",
   "execution_count": null,
   "metadata": {},
   "outputs": [],
   "source": [
    "print(float(42))\n",
    "print(int(42.1))# renvoie la troncature.\n",
    "print(int(8.5))\n",
    "print(8.5 / 2.5)\n",
    "print(int(8.5)/int(2.5))\n",
    "print(int(8.5/2.5))"
   ]
  },
  {
   "cell_type": "markdown",
   "metadata": {
    "deletable": false,
    "editable": false,
    "nbgrader": {
     "checksum": "f336905079a0f0b018a31ac7e49a1533",
     "grade": false,
     "grade_id": "cell-5bfd1d72f0d95de8",
     "locked": true,
     "schema_version": 1,
     "solution": false
    }
   },
   "source": [
    "### Les booléens : le type $\\texttt{bool}$\n",
    "Ils ne peuvent prendre que deux valeurs : $\\texttt{False}$ ou $\\texttt{True.}$   \n",
    "$\\texttt{False}$ a aussi pour valeur $0$ et $\\texttt{True}$ a pour valeur $1$ : on peut les ajouter !  \n",
    "\n",
    "Ils sont générés par les opérateurs de comparaison $<,$ $  >, $ $ <=,$ $  >=,$ $ ==$ (test d'égalité), $ != $(test de différence) et les opérateurs logiques $\\texttt{not, or}$  et $\\texttt{and.}$   \n",
    "$\\texttt{A or B}$ est vraie si au moins une des deux propriétés  est vraie.  \n",
    " \n",
    "#### Exercice \n",
    "Anticiper le résultat de chaque instruction et vérifier le résultat affiché. \n"
   ]
  },
  {
   "cell_type": "code",
   "execution_count": null,
   "metadata": {},
   "outputs": [],
   "source": [
    "x=16\n",
    "y=-2\n",
    "print(x==y)\n",
    "print(x==16)\n",
    "print(x!=5)\n",
    "a=True ; b=False\n",
    "c=not a ;print(c)\n",
    "print(a and b)\n",
    "print(a or b) \n",
    "print(a and not b)"
   ]
  },
  {
   "cell_type": "markdown",
   "metadata": {
    "deletable": false,
    "editable": false,
    "nbgrader": {
     "checksum": "991216457fc7e3c60a0b8fc8fb1c0502",
     "grade": false,
     "grade_id": "cell-283e2a124ec05e06",
     "locked": true,
     "schema_version": 1,
     "solution": false
    }
   },
   "source": [
    "### Les uplets : le  type $\\texttt{tuple }$\n",
    "\n",
    "Les $\\textbf{tuple}$ contiennent des éléments qui peuvent être de type quelconque, éventuellement de types différents. Ils sont délimités par des parenthèses ( ) et les éléments sont séparés par une virgule.   \n",
    "Chaque élément possède un indice, et le premier élément porte l'indice 0, le deuxième porte l'indice 1 $\\ldots$  \n",
    "On peut repérer un élément en commençant par la fin : le dernier porte l'indice $-1$, l'avant dernier porte l'indice $-2$, l'antépénultième porte l'indice $-3,$ $\\ldots$   \n",
    "Un tuple est un objet non mutable, on ne peut pas  modifier la valeur d'un élément, ajouter ou supprimer des éléments à un tuple. On peut concaténer 2 tuple, compter les occurrences d'un élément, ou le nombre d'éléments du tuple, tester l'appartenance d'un élément au tuple ...  \n",
    "\n",
    "#### Exercice\n",
    "Anticiper le résultat de chaque instruction et vérifier le résultat affiché."
   ]
  },
  {
   "cell_type": "code",
   "execution_count": null,
   "metadata": {},
   "outputs": [],
   "source": [
    "T1=(1,2,3); T2=(4,5)\n",
    "print(T1[0])\n",
    "print(T1[-2])\n",
    "len(T1) #renvoie le nombre d'éléments de T1\n",
    "T3=T1+T2; T4=T2*2; print(T3);print(T4)\n",
    "coordGPS=(49.1785935,-0.3819152)\n",
    "latitude=coordGPS[0]; longitude=coordGPS[1]\n",
    "print(latitude)\n",
    "print(T2[2]) "
   ]
  },
  {
   "cell_type": "markdown",
   "metadata": {
    "deletable": false,
    "editable": false,
    "nbgrader": {
     "checksum": "b1f991583077811f2fc951f5105641ad",
     "grade": false,
     "grade_id": "cell-f76e2e36101f67b3",
     "locked": true,
     "schema_version": 1,
     "solution": false
    }
   },
   "source": [
    "Si $\\texttt{t}$ est un tuple,  lorsque cela à un sens, on peut utiliser les fonctions $\\texttt{min(t)},$ $\\texttt{max(t)},$ $\\texttt{sum(t)}$,  $\\texttt{sorted(t)}$ (pour trier) $\\ldots$  \n",
    "On peut aussi tester la présence d'un élément $\\texttt{val}$ dans un tuple $\\texttt{t}$ avec l'opérateur $\\texttt{val in t }$ qui renvoie $\\texttt{True}$ ou $\\texttt{False}.$  \n",
    "<strong>Remarque :</strong> Sous python, certaines fonctions font partie de la \"définition\" des objets, on parle alors de méthode propre à l'objet.   \n",
    "La syntaxe est alors un peu différente d'une fonction \"classique\" : $\\texttt{objet.methode(...)}$  \n",
    "\n",
    "Un tuple possède beaucoup de méthodes, en voici deux :   \n",
    "- la méthode $\\texttt{index}$ qui renvoie le plus petit index d'un élément  :  $\\texttt{t.index(val)}$  \n",
    "- la méthode $\\texttt{count}$ qui renvoie le nombre d'occurrences d'un élément :  $\\texttt{t.count(val)}$  \n",
    "\n",
    "#### Exercice\n",
    "Anticiper le résultat de chaque instruction et vérifier le résultat affiché."
   ]
  },
  {
   "cell_type": "code",
   "execution_count": null,
   "metadata": {},
   "outputs": [],
   "source": [
    "t=(23,4,15,8,16,8,42)\n",
    "print(min(t))\n",
    "print(max(t))\n",
    "print(sum(t))\n",
    "print(sorted(t)) #renvoie une liste triée dans l'ordre croissant\n",
    "print(13 in t)\n",
    "print(t.index(8))\n",
    "print(t.count(8))"
   ]
  },
  {
   "cell_type": "markdown",
   "metadata": {
    "deletable": false,
    "editable": false,
    "nbgrader": {
     "checksum": "e92522baab28132633a334c089a0c242",
     "grade": false,
     "grade_id": "cell-d2cb7526ac908891",
     "locked": true,
     "schema_version": 1,
     "solution": false
    }
   },
   "source": [
    "### Les chaînes de caractères : le type $\\texttt{string}$\n",
    "\n",
    "Une chaîne de caractère est donnée écrite entre guillemets (simples, doubles ou triples).  \n",
    "Les caractères peuvent être des lettres, des nombres, un espace $\\ldots$  \n",
    "Pour définir une chaîne de caractères, on utilise  :\n",
    "- soit les apostrophes par exemple : $\\texttt{'Il a dit : \"bonjour\"' } $\n",
    "- soit les guillemets par exemple  : $\\texttt{ \"SNT, c'est génial!\" }$\n",
    "- soit des triples guillemets qui permettent de mettre tout ce qu'on veut dans la chaîne de caractères  par exemple : $\\texttt{\"\"\"SNT, c'est pour tous ;)\"\"\" .}$\n",
    "\n",
    "Une chaîne de caractères est un objet non mutable.    \n",
    "Toutes les opérations vues sur les tuple sont aussi valables sur les chaînes de caractères. \n",
    "\n",
    "#### Exercice\n",
    "Anticiper le résultat de chaque instruction et vérifier le résultat affiché."
   ]
  },
  {
   "cell_type": "code",
   "execution_count": null,
   "metadata": {},
   "outputs": [],
   "source": [
    "chaine=\"bonjour tout le monde !\"\n",
    "print(chaine[0])\n",
    "print(chaine[7])\n",
    "print(chaine[-1])\n",
    "print(len(chaine))\n",
    "chaine1=\"bon\"; chaine2=\"jour\"; chaine3=chaine1+chaine2; print(chaine3)\n",
    "chaine4=chaine1*3; print(chaine4)\n",
    "print(chaine.count('o'))# renvoie le nombre d'occurrence de la lettre o"
   ]
  },
  {
   "cell_type": "markdown",
   "metadata": {
    "deletable": false,
    "editable": false,
    "nbgrader": {
     "checksum": "58d98253840c2c2abbcf88451b85f808",
     "grade": false,
     "grade_id": "cell-96a290a80d37f74f",
     "locked": true,
     "schema_version": 1,
     "solution": false
    }
   },
   "source": [
    "### Les listes : le type $\\texttt{list}$\n",
    "Les \\textbf{listes} contiennent des éléments qui peuvent être de type quelconque, éventuellement de types différents.  \n",
    "Elles sont délimitées par des crochets [ ], et les éléments sont séparés par une virgule.  \n",
    "\n",
    "Comme pour les tuple, chaque élément d'une liste possède un indice, le premier élément porte l'indice 0 \n",
    "et le dernier porte l'indice $-1$.\n",
    "\n",
    "Les listes sont des objets mutables. On peut modifier la valeur de chaque élément, ajouter ou supprimer des éléments à la liste.\n",
    "\n",
    "On peut concaténer 2 listes, trier les éléments, compter les occurrences d'un élément, ou le nombre d'éléments de la liste, tester l'appartenance d'un élément à la liste, etc.\n",
    "\n",
    "#### Exercice \n",
    "Anticiper le résultat de chaque instruction dans la console  et vérifier le résultat affiché.}\\\\\n",
    " "
   ]
  },
  {
   "cell_type": "code",
   "execution_count": null,
   "metadata": {},
   "outputs": [],
   "source": [
    "L1=[1, 1.2, 8.3, 4, 5]; L2=[5, 6, 7] \n",
    "print(L1[0])\n",
    "L1[0]=0 ; print(L1)\n",
    "print(len(L1))\n",
    "L3=L1+L2; print(L3)\n",
    "L1[0]=42 ; print(L1); print(L3)\n",
    "L4=L2*2; print(L4)\n",
    "print(max(L3)) ; print(min(L3))\n",
    "print(L3.count(5))\n",
    "print(L3.reverse()) ; print(L3)\n",
    "del L3[3] ; print(L3)\n",
    "print(4 in L3) ; print(9 in L3) "
   ]
  },
  {
   "cell_type": "markdown",
   "metadata": {
    "deletable": false,
    "editable": false,
    "nbgrader": {
     "checksum": "fb2221bfa5d7123218f5832f804f0276",
     "grade": false,
     "grade_id": "cell-1971959a5b12080d",
     "locked": true,
     "schema_version": 1,
     "solution": false
    }
   },
   "source": [
    "### Méthodes pour les listes\n",
    "- La méthode $\\texttt{append()}$ ajoute un élément en fin de liste : $\\texttt{L.append(element)}$\n",
    "- La méthode  $\\texttt{insert()}$ permet de spécifier l'indice où insérer un élément : $\\texttt{L.insert(indice, element)}$\n",
    "- La méthode $ \\texttt{extend()}$ permet de réaliser la concaténation de deux listes sans réaffectation :    $\\texttt{L1.extend(L2)}$ au lieu de $\\texttt{L3=L1+L2}$ mais dans ce cas  $\\texttt{L1}$ est modifiée.\n",
    "- La méthode $\\texttt{remove()}$ supprime la première occurrence de la valeur passée en paramètre : $\\texttt{L.remove(element)}$\n",
    "- La méthode $\\texttt{pop()}$ supprime l'élément dont l'indice est passée en paramètre : $\\texttt{L.pop(indice)}$\n",
    "- La méthode $\\texttt{sort()}$ permet de trier la  liste : $\\texttt{L.sort()}$ ; la liste $\\texttt{L}$ est alors modifiée.\n",
    "- La méthode  $\\texttt{reverse()}$ permet d'inverser l'ordre des éléments : $\\texttt{L.reverse()}$\n",
    "- La méthode $\\texttt{index()}$ permet d'obtenir l'indice de la première occurrence d'un élément  :  $\\texttt{L.index(element)}$  \n",
    "\n",
    "#### Exercice \n",
    "Anticiper le résultat de chaque instruction et vérifier le résultat affiché.\n",
    " "
   ]
  },
  {
   "cell_type": "code",
   "execution_count": null,
   "metadata": {},
   "outputs": [],
   "source": [
    "L = [12, 11, 18, 7, 15, 3] ; L.append(5); print(L)\n",
    "L.insert(2,1); print(L)\n",
    "L1=[1,2,3]; L2=[4,5,6]\n",
    "L1.extend(L2); print(L1)\n",
    "L=[1,2,1,3,1]; L.remove(1); print(L)\n",
    "L.remove(1) ; print(L)\n",
    "L= [12, 11, 18, 7, 15, 3] ; L.sort(); print(L)\n",
    "L=[1,2,1,3,1]; L.reverse(); print(L)"
   ]
  },
  {
   "cell_type": "markdown",
   "metadata": {
    "deletable": false,
    "editable": false,
    "nbgrader": {
     "checksum": "3328188aaa54e1353db8c8fc689ff17f",
     "grade": false,
     "grade_id": "cell-8faa11123b167a44",
     "locked": true,
     "schema_version": 1,
     "solution": false
    }
   },
   "source": [
    "### Remarques sur la copie de listes \n",
    "Pour copier une liste, on ne peut pas simplement écrire $\\texttt{L2=L1,}$ sinon toute modification de l'une entraîne une modification de l'autre. Les listes $\\texttt{L1}$ et $\\texttt{L2}$ pointent vers la même zone mémoire."
   ]
  },
  {
   "cell_type": "code",
   "execution_count": null,
   "metadata": {},
   "outputs": [],
   "source": [
    "L1=[1, 2, 3] ; L2=L1 ; print(L2)\n",
    "L2[0]=0 ; print(L2) ; print(L1)"
   ]
  },
  {
   "cell_type": "markdown",
   "metadata": {
    "deletable": false,
    "editable": false,
    "nbgrader": {
     "checksum": "efe9916e98dffa8edd538d1773a18218",
     "grade": false,
     "grade_id": "cell-0b2d90b1443747f9",
     "locked": true,
     "schema_version": 1,
     "solution": false
    }
   },
   "source": [
    "Une première solution pour effectuer une copie peut être d'utiliser le slicing. L'opération [:] renvoie une nouvelle liste  :"
   ]
  },
  {
   "cell_type": "code",
   "execution_count": null,
   "metadata": {},
   "outputs": [],
   "source": [
    "L1=[1, 2, 3]; L2=L1[:] ; print(L2) \n",
    "L2[0]=0 ; print(L2) ; print(L1)\n",
    "L3=L1[1:] ; print(L3)"
   ]
  },
  {
   "cell_type": "markdown",
   "metadata": {
    "deletable": false,
    "editable": false,
    "nbgrader": {
     "checksum": "7a73beab18cfb5360b702914eb7af0bf",
     "grade": false,
     "grade_id": "cell-56fd1f41fb719da0",
     "locked": true,
     "schema_version": 1,
     "solution": false
    }
   },
   "source": [
    "Cette copie peut paraître satisfaisante  et elle l'est, mais à condition de ne manipuler que des listes de premier niveau ne comportant aucune sous-liste :"
   ]
  },
  {
   "cell_type": "code",
   "execution_count": null,
   "metadata": {},
   "outputs": [],
   "source": [
    "L1=[1,2,3,[4,5,6]] ; L2=L1[:]\n",
    "L2[3][0]=0 ;  print(L2) ; print(L1)"
   ]
  },
  {
   "cell_type": "markdown",
   "metadata": {
    "deletable": false,
    "editable": false,
    "nbgrader": {
     "checksum": "19dc87ed852308fddda03ccb1a406c6c",
     "grade": false,
     "grade_id": "cell-3582cf13d1ea1be2",
     "locked": true,
     "schema_version": 1,
     "solution": false
    }
   },
   "source": [
    "### Les chaînes et les listes\n",
    "- La fonction $\\texttt{list()}$ permet  de convertir une chaîne en liste, par exemple : "
   ]
  },
  {
   "cell_type": "code",
   "execution_count": null,
   "metadata": {},
   "outputs": [],
   "source": [
    "chaine = \"abcdef\"\n",
    "liste = list(chaine)\n",
    "liste "
   ]
  },
  {
   "cell_type": "markdown",
   "metadata": {
    "deletable": false,
    "editable": false,
    "nbgrader": {
     "checksum": "d86a76ac099a713c5b802a314a71e428",
     "grade": false,
     "grade_id": "cell-299c5793ed79baae",
     "locked": true,
     "schema_version": 1,
     "solution": false
    }
   },
   "source": [
    "- On peut   appliquer la méthode $\\texttt{split}$ à une chaîne :\n",
    "\n",
    "$\\texttt{chaine.split()}$ permet de récupérer une liste contenant les éléments de l'objet $\\texttt{chaine} $ séparés par le caractère espace $\\texttt{' '}$ ; dans cette liste n'apparaît pas le caractère $\\backslash $$\\texttt{n}$ (qui indique un saut de ligne) et ses éléments sont de type $\\texttt{str}$  \n"
   ]
  },
  {
   "cell_type": "code",
   "execution_count": null,
   "metadata": {},
   "outputs": [],
   "source": [
    "chaine=\"Le texte a deux phrases.\\nLa deuxième phrase a six mots.\"\n",
    "print(chaine)\n",
    "L=chaine.split()\n",
    "print(L)"
   ]
  },
  {
   "cell_type": "markdown",
   "metadata": {
    "deletable": false,
    "editable": false,
    "nbgrader": {
     "checksum": "c911c00636851733850b2af7dbe655fc",
     "grade": false,
     "grade_id": "cell-00592a73460f3963",
     "locked": true,
     "schema_version": 1,
     "solution": false
    }
   },
   "source": [
    "$\\texttt{chaine.split(',')}$ permet de récupérer une liste contenant les éléments de l'objet $\\texttt{chaine}$ séparés par le caractère  $\\texttt{','}$ ; dans cette liste n'apparaît pas le caractère $\\backslash $$\\texttt{n}$ et ses éléments sont de type $\\texttt{str}.$\n",
    "\n",
    "Voyons cela avec un exemple d'utilisation des listes pour décoder une trame NMEA$^*$ : \n"
   ]
  },
  {
   "cell_type": "code",
   "execution_count": null,
   "metadata": {},
   "outputs": [],
   "source": [
    "trame=\"$GNGGA,065020.000,4910.7156,N,0022.9150,W,1,5,1.68,-14.6,M,47.1,M,,*48\"\n",
    "L=trame.split(',')\n",
    "print(L)"
   ]
  },
  {
   "cell_type": "markdown",
   "metadata": {
    "deletable": false,
    "editable": false,
    "nbgrader": {
     "checksum": "165a6d40e464b0f6fdf5258254c10450",
     "grade": false,
     "grade_id": "cell-78772b8a93d6683c",
     "locked": true,
     "schema_version": 1,
     "solution": false
    }
   },
   "source": [
    " Ainsi   $\\texttt{L[2]}$  qui contient la valeur $\\texttt{'4910.7836'}$ permet de récupérer après manipulation la latitude sous forme d'une chaîne qu'il faudra ensuite transformer en $\\texttt{float}$ si on veut par exemple la convertir en degrés, minutes, secondes.  \n",
    " Dans cet exemple d'une trame GNGGA (GN : GPS +GLONASS et GGA : syntaxe), on a une latitude de 49 degrés 10.7156 minutes et une longitude de $-$0 degrés 22.9150 minutes.  \n",
    " \n",
    " $*$ NMEA : National Marine Electronics Association. La norme NMEA 0183 est une spécification pour la communication entre équipements marins, dont les équipements GPS. Une trame  NMEA est  une suite de caractères contenant des informations de géolocalisation comme la date, la latitude, la longitude, la vitesse ...."
   ]
  }
 ],
 "metadata": {
  "kernelspec": {
   "display_name": "Python 3",
   "language": "python",
   "name": "python3"
  },
  "language_info": {
   "codemirror_mode": {
    "name": "ipython",
    "version": 3
   },
   "file_extension": ".py",
   "mimetype": "text/x-python",
   "name": "python",
   "nbconvert_exporter": "python",
   "pygments_lexer": "ipython3",
   "version": "3.7.1"
  }
 },
 "nbformat": 4,
 "nbformat_minor": 2
}
