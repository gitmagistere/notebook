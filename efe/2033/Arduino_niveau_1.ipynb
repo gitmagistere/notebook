{
 "cells": [
  {
   "cell_type": "markdown",
   "metadata": {},
   "source": [
    "> # FORMATION ACADÉMIQUE  <blockquote>ARDUINO NIVEAU 1"
   ]
  },
  {
   "cell_type": "markdown",
   "metadata": {},
   "source": [
    "# Les documents des formations Arduino et Python"
   ]
  },
  {
   "cell_type": "markdown",
   "metadata": {},
   "source": [
    "http://www.ac-bordeaux.fr/ puis se connecter à TRIBU\n",
    "\n",
    "Pour se connecter à TRIBU, vous devez aller sur le portail **ARENA** de votre académie, vous connecter avec vos identifiants et mot de passe de messagerie. Puis cliquer sur **Formation et Ressources** puis le lien **Plate-forme collaborative : Tribu**"
   ]
  },
  {
   "cell_type": "markdown",
   "metadata": {},
   "source": [
    "# La carte Arduino"
   ]
  },
  {
   "cell_type": "markdown",
   "metadata": {},
   "source": [
    "<img src=\"images_1/arduino_carte_1.jpg\" width = '500' height='500'>"
   ]
  },
  {
   "cell_type": "markdown",
   "metadata": {},
   "source": [
    "# Le logiciel Arduino"
   ]
  },
  {
   "cell_type": "markdown",
   "metadata": {},
   "source": [
    "<img src=\"images_1/led_test.png\" width = '500' height='500'>"
   ]
  },
  {
   "cell_type": "markdown",
   "metadata": {},
   "source": [
    "L'aide en ligne (API : interface de programmation applicative) : \n",
    "* L'officielle : https://www.arduino.cc/reference/en/\n",
    "* En français : http://www.mon-club-elec.fr/pmwiki_reference_arduino/pmwiki.php?n=Main.Reference"
   ]
  },
  {
   "cell_type": "markdown",
   "metadata": {},
   "source": [
    "## Notre premier programme Arduino"
   ]
  },
  {
   "cell_type": "markdown",
   "metadata": {},
   "source": [
    "```C\n",
    "void setup(){\n",
    "    Serial.begin(9600); //Initialisation de la liaison série   \n",
    "}\n",
    "\n",
    "void loop(){\n",
    "    Serial.println(\"coucou\"); \n",
    "}\n",
    "```"
   ]
  },
  {
   "cell_type": "markdown",
   "metadata": {},
   "source": [
    "## Lire des valeurs sur une entrée analogique et transfert sur la liaison série"
   ]
  },
  {
   "cell_type": "markdown",
   "metadata": {},
   "source": [
    "```C\n",
    "void setup(){\n",
    "    Serial.begin(9600);      //Initialisation de la liaison série à la vitesse de 9600 bauds   \n",
    "}\n",
    "\n",
    "void loop(){\n",
    "    mesure = analogRead(0); //Lecture de l'information sur l'entrée analogique A0\n",
    "    Serial.print(millis()); //Envoie de la valeur temps vers la liaison série (ou USB)\n",
    "    Serial.print(\"\\t\");     //Envoie d'une tabulation : \\t comme séparateur\n",
    "    Serial.println(mesure); //Envoie de la mesure puis retour à la ligne\n",
    "    delay(5);\n",
    "}\n",
    "```"
   ]
  },
  {
   "cell_type": "markdown",
   "metadata": {},
   "source": [
    "# L'application Jupyter Notebook"
   ]
  },
  {
   "cell_type": "markdown",
   "metadata": {},
   "source": [
    "Utilisation du navigateur web pour produire des documents dans un **Notebook** contenant du **code python**, du texte avec sa mise ne forme grâce au **markdown** mais également des équations mathématiques avec $\\LaTeX$"
   ]
  },
  {
   "cell_type": "markdown",
   "metadata": {},
   "source": [
    "* **Des cellules de texte** dont la mise en forme est réalisée par un langage de balisage appelé **markdown**, pour un aperçu rapide on pourra consulter : https://fr.wikipedia.org/wiki/Markdown"
   ]
  },
  {
   "cell_type": "markdown",
   "metadata": {},
   "source": [
    "* **Des mathématiques** dont la mise en forme est réalisée par un langage de balisage appelé $\\LaTeX$, pour un aide mémoire des principales balises on pourra consulter : http://docs.wixstatic.com/ugd/bf8f20_557167febde14efb9d7844776396beb1.pdf) "
   ]
  },
  {
   "cell_type": "markdown",
   "metadata": {},
   "source": [
    "$$\\boxed{\\Large\\sum \\vec{F}_{ext} = m\\vec{a}\\ }$$"
   ]
  },
  {
   "cell_type": "markdown",
   "metadata": {},
   "source": [
    "* Une **exportation du document** est possible dans différents formats : pdf, $\\TeX$ ou HTML, grâce au menu : `File -> Download as`"
   ]
  },
  {
   "cell_type": "markdown",
   "metadata": {},
   "source": [
    "# La connexion Arduino - Python"
   ]
  },
  {
   "cell_type": "markdown",
   "metadata": {},
   "source": [
    "<img src=\"images_1/arduino_python.jpg\" width = '500' height='500'>"
   ]
  },
  {
   "cell_type": "markdown",
   "metadata": {},
   "source": [
    "Les modules Python"
   ]
  },
  {
   "cell_type": "code",
   "execution_count": null,
   "metadata": {},
   "outputs": [],
   "source": [
    "import os\n",
    "import serial\n",
    "import numpy as np\n",
    "import pandas as pd\n",
    "import matplotlib.pyplot as plt"
   ]
  },
  {
   "cell_type": "markdown",
   "metadata": {},
   "source": [
    "Établir la communication entre Arduino et Python nécessite l'utilisation du module `serial`. Toutes les fonctionnalités liées à ce module seront donc préfixées par le nom du module. Il est en sera de même pour tout autre module.\n",
    "\n",
    "**Attention : ** La vitesse de transfert des informations sur le port série ou USB doit être la même que celle d'Arduino, dans notre cas  : 9600 bauds"
   ]
  },
  {
   "cell_type": "code",
   "execution_count": null,
   "metadata": {},
   "outputs": [],
   "source": [
    "serial_port = serial.Serial(port = \"\", baudrate = \"9600\")"
   ]
  },
  {
   "cell_type": "markdown",
   "metadata": {},
   "source": [
    "On peut maintenant transférer des informations de la carte Arduino vers Python et les afficher dans le notebook"
   ]
  },
  {
   "cell_type": "code",
   "execution_count": null,
   "metadata": {},
   "outputs": [],
   "source": [
    "print(serial_port.readline())"
   ]
  },
  {
   "cell_type": "markdown",
   "metadata": {},
   "source": [
    "**TRÈS IMPORTANT : Il ne faut pas oublier de fermer le port de communication** quand les mesures sont terminées. La connexion avec la carte Arduino peut être vue comme une conversation téléphonique. Si vous téléphonez à un copain, et qu'une autre personne vous appelle votre numéro sonne occupé. En général, il faut raccrocher pour engager une nouvelle conversation téléphonique. Avec la connexion Arduino il en est de même. Si le moniteur série est ouvert Python ne pourra communiquer avec la carte Arduino et inversement s'il existe une connexion Arduino-Python vous ne pourrez plus ouvrir un moniteur série ni même téléverser un programme vers la carte Arduino"
   ]
  },
  {
   "cell_type": "markdown",
   "metadata": {},
   "source": [
    "Pour répéter plusieurs fois une insruction ou un ensemble d'instructions, on utilise une **structure répétitive** "
   ]
  },
  {
   "cell_type": "code",
   "execution_count": null,
   "metadata": {},
   "outputs": [],
   "source": [
    "for i in range(5):\n",
    "    print(\"coucou\")"
   ]
  },
  {
   "cell_type": "markdown",
   "metadata": {},
   "source": [
    "Pour conserver l'information de manière temporaire on utilise la mémoire de l'ordinateur, dans notre cas nous allons utiliser des listes Python pour conserver les mesures. Dans l'exemple qui suit nous allons stocker les différentes valeurs de la variable `i`"
   ]
  },
  {
   "cell_type": "code",
   "execution_count": null,
   "metadata": {},
   "outputs": [],
   "source": [
    "liste = []          # une liste vide qui s'appelle liste\n",
    "for i in range(5):\n",
    "    liste.append(i)\n",
    "print(liste)        # Affichage du contenu de la liste quand la boucle est terminée"
   ]
  },
  {
   "cell_type": "markdown",
   "metadata": {},
   "source": [
    "**Question : ** Lire cinq mesures de tension envoyées par la carte Arduino et les stocker dans une liste `mesures`"
   ]
  },
  {
   "cell_type": "code",
   "execution_count": null,
   "metadata": {},
   "outputs": [],
   "source": []
  },
  {
   "cell_type": "markdown",
   "metadata": {},
   "source": [
    "Il ne reste plus qu'à mettre en mémoire les informations reçues, mais avant cela une petite transformation s'impose. Nous avons vu que les informations reçues de la carte Arduino se présentent sous forme d'une ligne contenant : le temps, une tabulation et la mesure provenant du capteur analogique. Mais l'ennui est que ces informations arrivent sous la forme de chaîne de caractères (en fait ce n'est pas tout à fait vrai puisque c'est des `bytes` mais on ferra comme si...)\n",
    "\n",
    "Nous allons commencer par séparer le temps et la mesure grâce à la fonction `split` qui va découper la chaine grâce à la tabulation et ranger les 2 valeurs dans une liste"
   ]
  },
  {
   "cell_type": "code",
   "execution_count": 6,
   "metadata": {},
   "outputs": [
    {
     "name": "stdout",
     "output_type": "stream",
     "text": [
      "[b'23', b'651']\n"
     ]
    }
   ],
   "source": [
    "mesure  = b'23\\t651\\r\\n'  # exemple d'une mesure temps, tabulation, mesure\n",
    "decoupe = mesure.split()\n",
    "print(decoupe)"
   ]
  },
  {
   "cell_type": "markdown",
   "metadata": {},
   "source": [
    "Pour accéder à chacune des valeurs il suffit maintenant d'indiquer entre crochets le numéro d'emplacement de la valeur désirée en n'oubliant pas que Python commence la numérotation des emplacements à zéro."
   ]
  },
  {
   "cell_type": "code",
   "execution_count": 8,
   "metadata": {},
   "outputs": [
    {
     "name": "stdout",
     "output_type": "stream",
     "text": [
      "b'23'\n",
      "b'651'\n"
     ]
    }
   ],
   "source": [
    "print(decoupe[0])\n",
    "print(decoupe[1])"
   ]
  },
  {
   "cell_type": "markdown",
   "metadata": {},
   "source": [
    "Le travail est pratiquement terminé il ne reste plus qu'à convertir les chaînes de caractères en valeurs numériques"
   ]
  },
  {
   "cell_type": "code",
   "execution_count": 9,
   "metadata": {},
   "outputs": [
    {
     "name": "stdout",
     "output_type": "stream",
     "text": [
      "23.0\n",
      "651.0\n"
     ]
    }
   ],
   "source": [
    "t = float(decoupe[0])\n",
    "m = float(decoupe[1])\n",
    "print(t)\n",
    "print(m)"
   ]
  },
  {
   "cell_type": "markdown",
   "metadata": {},
   "source": [
    "**Question : ** Compléter la suite d'instructions ci-dessous en respectant les consignes suivantes:\n",
    "\n",
    "1. Indiquer le nom de votre port série \n",
    "1. Initialiser deux listes vides que l'on appelera `mesures` et `temps`\n",
    "1. Indiquer le nombre de mesures\n",
    "1. Affecter à `valeurs` une ligne d'information provenant d'Arduino découpée\n",
    "1. Affecter à `m` la valeur flottante (numérique) de la mesure\n",
    "1. ajouter cette valeur à la liste des mesures\n",
    "1. Fermer le port série"
   ]
  },
  {
   "cell_type": "code",
   "execution_count": null,
   "metadata": {},
   "outputs": [],
   "source": [
    "# connexion au port série\n",
    "serial_port = serial.Serial(port = \"\", baudrate = 9600 )\n",
    "# les listes temps et mesures (vides au départ)\n",
    "\n",
    "\n",
    "serial_port.flushInput()\n",
    "nb_mesures = \n",
    "for i in range(nb_mesures):\n",
    "    valeurs = \n",
    "    try:\n",
    "        t = flaot(valeurs[0]) \n",
    "        m =                    \n",
    "        temps.append(t)\n",
    "        \n",
    "    except:\n",
    "        pass\n",
    "# fermeture du port série\n"
   ]
  },
  {
   "cell_type": "markdown",
   "metadata": {},
   "source": [
    "# Représentation graphique des données avec Python"
   ]
  },
  {
   "cell_type": "markdown",
   "metadata": {},
   "source": [
    "## Le module `matplotlib.pyplot`"
   ]
  },
  {
   "cell_type": "markdown",
   "metadata": {},
   "source": [
    "Rappelez-vous on avait dit que pour utiliser une fonction d'un module, il fallait la préfixer avec le nom de module. Dans le cas de *matplotlib.pyplot* le nom de module est pénible à écrire à chaque utilisation donc on le remplace par un petit nom `plt` que l'on appelle un **alias**"
   ]
  },
  {
   "cell_type": "markdown",
   "metadata": {},
   "source": [
    "On commence par la liste des abscisses et des ordonnées"
   ]
  },
  {
   "cell_type": "code",
   "execution_count": null,
   "metadata": {},
   "outputs": [],
   "source": [
    "x = [1, 2, 3, 4, 5]\n",
    "y = [10, 10, 5, 5, 9]"
   ]
  },
  {
   "cell_type": "markdown",
   "metadata": {},
   "source": [
    "Puis on utilise la fonction *plot()* pour tracer les points et la fonction `show()` pour les afficher"
   ]
  },
  {
   "cell_type": "code",
   "execution_count": null,
   "metadata": {},
   "outputs": [],
   "source": [
    "plt.plot(x,y)\n",
    "plt.show()"
   ]
  },
  {
   "cell_type": "markdown",
   "metadata": {},
   "source": [
    "**Question : ** Nous venons de voir que pour obtenir le graphe d'un ensemble de points il suffit d'avoir la liste des abscisses et la liste des ordonnées. Afficher les valeurs discrétisées de la série de mesures en tension en fonction du temps"
   ]
  },
  {
   "cell_type": "code",
   "execution_count": null,
   "metadata": {},
   "outputs": [],
   "source": []
  },
  {
   "cell_type": "markdown",
   "metadata": {},
   "source": [
    "## Discrétisation de l'information"
   ]
  },
  {
   "cell_type": "markdown",
   "metadata": {},
   "source": [
    "Valeurs numériques obtenues pour des tensions dans l'intervalle $[0\\,\\mathrm{mV}; 50\\,\\mathrm{mV}]$  avec le CAN de la carte Arduino sur 10 bits. **Toutes les valeurs analogiques ne sont pas exactement représentables par des valeurs numériques.** Pour une valeur numérique nous avons une plage de valeurs analogiques qui va dépendre du **pas de résolution** du CAN, c'est à dire de la **précision** en bits du CAN. "
   ]
  },
  {
   "cell_type": "markdown",
   "metadata": {},
   "source": [
    "<img src=\"images_1/discretisation.png\" width = '700' height='500'>"
   ]
  },
  {
   "cell_type": "markdown",
   "metadata": {},
   "source": [
    "## Sauvegarder les données de l'acquisition dans un fichier CSV"
   ]
  },
  {
   "cell_type": "markdown",
   "metadata": {},
   "source": [
    "Pour manipuler et analyser les données, le module panda (https://pandas.pydata.org/), développé pour Python, s'avère des plus pratique. En particulier, il permet la lecture et l'écriture de fichiers csv.\n",
    "\n",
    "Il est maintenant important de pouvoir stocker l'information à long terme. L'installation du **Jupyter Notebook** sur le réseau pédagogique ne permet pas forcément à l'élève d'enregistrer l'information dans son répertoire personnel."
   ]
  },
  {
   "cell_type": "code",
   "execution_count": null,
   "metadata": {},
   "outputs": [],
   "source": [
    "print(os.getcwd())"
   ]
  },
  {
   "cell_type": "markdown",
   "metadata": {},
   "source": [
    "**Attention** le chemin indiqué par `\"U:\"` est propre à Camille Jullian lieu de la formation. Il correspond à la racine du répertoire *perso* des élèves. Il convient donc d'adapter ce chemin en fonction de votre établissement."
   ]
  },
  {
   "cell_type": "code",
   "execution_count": null,
   "metadata": {},
   "outputs": [],
   "source": [
    "os.chdir(\"U:\")"
   ]
  },
  {
   "cell_type": "markdown",
   "metadata": {},
   "source": [
    "Une fois le chemin pour sauvegarder les données fixé. Dans un premier temps, il convient de créer un dataframe qui contient toutes les donneés tabulaires que l'on souhaite enregistrer. Dans notre cas, il s'agit des listes (tableaux) `temps` et `mesures`. La méthode DataFrame (http://pandas.pydata.org/pandas-docs/stable/dsintro.html#dataframe) assure cette opération. Elle reçoit en arguments les différentes listes précédées d'une intitulé de colonne. Dans notre exemple, nous intitulons 'Temps' et 'Mesures' les deux colonnes."
   ]
  },
  {
   "cell_type": "code",
   "execution_count": null,
   "metadata": {},
   "outputs": [],
   "source": [
    "data = pd.DataFrame({\n",
    "  \"Temps\"   : temps,\n",
    "  \"Mesures\" : mesures\n",
    "})\n",
    "filename = \"tensions3_3V.csv\"\n",
    "data.to_csv(filename, sep=\";\", index = False, encoding=\"utf-8\")"
   ]
  },
  {
   "cell_type": "markdown",
   "metadata": {},
   "source": [
    "**Remarque : ** \n",
    "\n",
    "Pour ouvrir un fichier en *lecture* et charger les données dans la mémoire de l'ordinateur, nous utilisons la fonction `read_csv`du module `pandas`. Celle-ci reçoit plusieurs arguments parmi lesquels :\n",
    "- le nom du fichier;\n",
    "- une indication sur le séparateur des données : virgule `,`, point-virgule `;`, espace ` `, tabulation `\\t`;\n",
    "- une option précisant si la première ligne du fichier est une ligne d'entêtes ou une ligne de données."
   ]
  },
  {
   "cell_type": "code",
   "execution_count": null,
   "metadata": {},
   "outputs": [],
   "source": [
    "filename = \"mesures.csv\"\n",
    "data     = pd.read_csv(filename, sep = ';')\n",
    "data.head()"
   ]
  },
  {
   "cell_type": "markdown",
   "metadata": {},
   "source": [
    "# Traitement statistique des données"
   ]
  },
  {
   "cell_type": "markdown",
   "metadata": {},
   "source": [
    "### Moyenne et écart type"
   ]
  },
  {
   "cell_type": "markdown",
   "metadata": {},
   "source": [
    "Nous avons dans le paragraphe précédent sauvegarder les données à l'aide du module `pandas` en utilisant une structure de données appelée `dataFrame` associée à la variable `data`. Il est maintenant tout à fait possible d'obtenir une étude statistique automatique avec la fonction `describe` (moyenne, écart type normalisé à N-1 et quantile).  "
   ]
  },
  {
   "cell_type": "code",
   "execution_count": null,
   "metadata": {},
   "outputs": [],
   "source": [
    "data.describe()"
   ]
  },
  {
   "cell_type": "markdown",
   "metadata": {},
   "source": [
    "Si une seule de ces valeurs nous intéresse par exemple l'écart type (https://pandas.pydata.org/pandas-docs/stable/generated/pandas.DataFrame.std.html), nous pouvons écrire : "
   ]
  },
  {
   "cell_type": "code",
   "execution_count": null,
   "metadata": {},
   "outputs": [],
   "source": [
    "data.mean()"
   ]
  },
  {
   "cell_type": "markdown",
   "metadata": {},
   "source": [
    "### Représentation graphique d'une fonction mathématique"
   ]
  },
  {
   "cell_type": "markdown",
   "metadata": {},
   "source": [
    "Essayons de tracer la fonction $f : x \\mapsto \\sin(x)$ dans l'intervalle $[-2\\pi, 2\\pi]$"
   ]
  },
  {
   "cell_type": "markdown",
   "metadata": {},
   "source": [
    "On commence par définir les paramètres nécessaires pour le tracé de la courbe représentative de $y$ en fonction de $x$."
   ]
  },
  {
   "cell_type": "code",
   "execution_count": null,
   "metadata": {},
   "outputs": [],
   "source": [
    "# intervalle de définition\n",
    "x_min = -2*np.pi\n",
    "x_max =  2*np.pi\n",
    "# nombre de points\n",
    "n     = 100"
   ]
  },
  {
   "cell_type": "markdown",
   "metadata": {},
   "source": [
    "L'intervalle $[x_{min},x_{max}]$ est défini par un tableau de $n$ valeurs équiréparties à l'aide de la méthode `linspace` du module `numpy`."
   ]
  },
  {
   "cell_type": "code",
   "execution_count": null,
   "metadata": {},
   "outputs": [],
   "source": [
    "x = np.linspace(x_min, x_max, n)"
   ]
  },
  {
   "cell_type": "markdown",
   "metadata": {},
   "source": [
    "La variable `x` est un tableau contenant des flottants. L'une des caractéristiques des tableaux numpy est qu'il est possible d'effectuer des opérations mathématiques *en bloc* sur le tableau. Ainsi `np.sin(x)` est un tableau qui contient autant de valeurs que `x` et dont les éléments sont tous les `sin(x[i])`, où `i` prend les valeurs de `0` à `n-1`."
   ]
  },
  {
   "cell_type": "code",
   "execution_count": null,
   "metadata": {},
   "outputs": [],
   "source": [
    "y = np.sin(x)"
   ]
  },
  {
   "cell_type": "markdown",
   "metadata": {},
   "source": [
    "**Questions : ** \n",
    "\n",
    "1. Tracer le graphe de la fonction $f$\n",
    "2. Tracer la loi normale (fonction $g$ ci-dessous) corespondante à la moyenne et écart type de vos mesures"
   ]
  },
  {
   "cell_type": "markdown",
   "metadata": {},
   "source": [
    "$$g : x \\mapsto \\frac{1}{\\sigma_x\\sqrt{2\\pi}}\\,exp\\left({\\frac{-(x - \\bar{x})^2}{2\\sigma_x^2}}\\right)\\qquad\\text{où }\\bar{x} = \\text{ moyenne et }\\sigma_x = \\text{ écart type}$$"
   ]
  },
  {
   "cell_type": "code",
   "execution_count": null,
   "metadata": {},
   "outputs": [],
   "source": [
    "ecart_type = \n",
    "moyenne    = \n",
    "A          = \n",
    "#intervalle de définition\n",
    "\n",
    "#Calculer les images correspondantes avec la loi normale\n",
    "y =  A/(ecart_type*np.sqrt(2*np.pi))*np.exp(-(x-moyenne)**2/(2*ecart_type**2))\n"
   ]
  }
 ],
 "metadata": {
  "kernelspec": {
   "display_name": "Python 3",
   "language": "python",
   "name": "python3"
  },
  "language_info": {
   "codemirror_mode": {
    "name": "ipython",
    "version": 3
   },
   "file_extension": ".py",
   "mimetype": "text/x-python",
   "name": "python",
   "nbconvert_exporter": "python",
   "pygments_lexer": "ipython3",
   "version": "3.6.5"
  }
 },
 "nbformat": 4,
 "nbformat_minor": 2
}
