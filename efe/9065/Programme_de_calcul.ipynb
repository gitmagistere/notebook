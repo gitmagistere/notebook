{
  "nbformat": 4,
  "nbformat_minor": 0,
  "metadata": {
    "colab": {
      "provenance": []
    },
    "kernelspec": {
      "name": "python3",
      "display_name": "Python 3"
    },
    "language_info": {
      "name": "python"
    }
  },
  "cells": [
    {
      "cell_type": "markdown",
      "source": [
        "Ecrire le script du programme suivant.\n",
        "\n",
        "Si $x$ est un multiple de 3, alors $y=\\frac{x}{3}$.\n",
        "\n",
        "Sinon $y=x-3$"
      ],
      "metadata": {
        "id": "RvXsQG4Q89zB"
      }
    },
    {
      "cell_type": "code",
      "source": [],
      "metadata": {
        "id": "XvplMw2J_GXm"
      },
      "execution_count": null,
      "outputs": []
    }
  ]
}