{
  "nbformat": 4,
  "nbformat_minor": 0,
  "metadata": {
    "colab": {
      "provenance": []
    },
    "kernelspec": {
      "name": "python3",
      "display_name": "Python 3"
    },
    "language_info": {
      "name": "python"
    }
  },
  "cells": [
    {
      "cell_type": "markdown",
      "source": [
        "Le droit d'entrée dans un parc aquatique est de 37€ pour un adulte et de 28€ pour un enfant.\n",
        "Programmer une fonction qui renvoie le prix payé par un groupe à l'entrée du parc.\n"
      ],
      "metadata": {
        "id": "HLrW9g5VRc2U"
      }
    },
    {
      "cell_type": "code",
      "execution_count": null,
      "metadata": {
        "id": "cs0r2srWRYu4"
      },
      "outputs": [],
      "source": [
        "def parc(nb_adultes,nb_enfants) :\n",
        "  prix=37*nb_adultes+28*nb_enfants\n",
        "  return(prix)"
      ]
    }
  ]
}