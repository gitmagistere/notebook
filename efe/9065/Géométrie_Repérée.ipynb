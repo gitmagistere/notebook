{
  "nbformat": 4,
  "nbformat_minor": 0,
  "metadata": {
    "colab": {
      "provenance": []
    },
    "kernelspec": {
      "name": "python3",
      "display_name": "Python 3"
    },
    "language_info": {
      "name": "python"
    }
  },
  "cells": [
    {
      "cell_type": "markdown",
      "source": [
        "1) Ecrire un script qui demande à l'utilisateur de donner les coordonnées de deux points A et B et renvoie les coordonnées du milieu du segment [AB]."
      ],
      "metadata": {
        "id": "wJ07k9k_HjW3"
      }
    },
    {
      "cell_type": "code",
      "source": [],
      "metadata": {
        "id": "6D9P51xzHfKM"
      },
      "execution_count": null,
      "outputs": []
    },
    {
      "cell_type": "markdown",
      "source": [
        "2) Ecrire un script qui demande à l'utilisateur de donner les coordonnées de deux points A et B et renvoie les coordonnées du vecteur  $\\overrightarrow{AB}$"
      ],
      "metadata": {
        "id": "lOb2CwFrIHda"
      }
    },
    {
      "cell_type": "code",
      "execution_count": null,
      "metadata": {
        "id": "xrWuQMnYHdAR"
      },
      "outputs": [],
      "source": []
    }
  ]
}