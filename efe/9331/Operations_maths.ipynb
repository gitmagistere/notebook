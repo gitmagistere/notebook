{
  "nbformat": 4,
  "nbformat_minor": 0,
  "metadata": {
    "colab": {
      "provenance": []
    },
    "kernelspec": {
      "name": "python3",
      "display_name": "Python 3"
    },
    "language_info": {
      "name": "python"
    }
  },
  "cells": [
    {
      "cell_type": "markdown",
      "source": [
        "**Opérations** **mathématiques**\n",
        "\n",
        "Exécuter les instructions suivantes en appuyant sur les boutons \"play\" et observer les résultats renvoyés."
      ],
      "metadata": {
        "id": "rUsFgbdao68o"
      }
    },
    {
      "cell_type": "code",
      "source": [
        "2*3"
      ],
      "metadata": {
        "id": "5Obf-dv8pmzU"
      },
      "execution_count": null,
      "outputs": []
    },
    {
      "cell_type": "code",
      "source": [
        "2**3"
      ],
      "metadata": {
        "id": "EGbk-EzjppS7"
      },
      "execution_count": null,
      "outputs": []
    },
    {
      "cell_type": "code",
      "execution_count": null,
      "metadata": {
        "id": "VUyztkMIo4yo"
      },
      "outputs": [],
      "source": [
        "20/3"
      ]
    },
    {
      "cell_type": "code",
      "source": [
        "20//3"
      ],
      "metadata": {
        "id": "vyWeo4UPpaCt"
      },
      "execution_count": null,
      "outputs": []
    },
    {
      "cell_type": "code",
      "source": [
        "20%3"
      ],
      "metadata": {
        "id": "NYenkPfEp0dj"
      },
      "execution_count": null,
      "outputs": []
    },
    {
      "cell_type": "code",
      "source": [
        "20.5/3"
      ],
      "metadata": {
        "id": "BAuB0Z1rqQGo"
      },
      "execution_count": null,
      "outputs": []
    },
    {
      "cell_type": "code",
      "source": [
        "8,7/5"
      ],
      "metadata": {
        "id": "QIQyQrrGqRxj"
      },
      "execution_count": null,
      "outputs": []
    },
    {
      "cell_type": "markdown",
      "source": [
        "L'instruction * désigne la multiplication.\n",
        "\n",
        "L'instruction ** désigne la puissance.\n",
        "\n",
        "L'instruction / désigne le quotient de la division décimale\n",
        "\n",
        "L'instruction // désigne le quotient de la division euclidienne.\n",
        "\n",
        "L'instruction % désigne le reste de la division euclidienne\n",
        "\n",
        "Le point désigne la virgule d'un nombre décimal, tandis que la virgule \"sépare\" deux variables.\n",
        "\n"
      ],
      "metadata": {
        "id": "62CWkP4Xqd79"
      }
    },
    {
      "cell_type": "markdown",
      "source": [
        "**Bibliothèque math**\n",
        "\n",
        "L'instruction `from math import*` permet d'importer toutes les fonctions de la bibliothèque math (racine carrée, exponentielle, fonctions trigonométriques, nombre pi...).\n",
        "\n",
        "L'instruction `print` permet d'afficher la valeur d'une variable."
      ],
      "metadata": {
        "id": "GHN5JLaVut1H"
      }
    },
    {
      "cell_type": "code",
      "source": [
        "from math import*\n",
        "a=sqrt(2)\n",
        "print(a)\n",
        "b=a**2\n",
        "print(b)\n",
        "print(pi)\n",
        "print(e)\n",
        "print(cos(0))"
      ],
      "metadata": {
        "id": "pMWgWF8zwAaR"
      },
      "execution_count": null,
      "outputs": []
    },
    {
      "cell_type": "markdown",
      "source": [
        "L'instruction `from math import pi, sqrt` n'importe que le nombre pi et la racine carrée"
      ],
      "metadata": {
        "id": "UZVCpuNTxWTu"
      }
    }
  ]
}