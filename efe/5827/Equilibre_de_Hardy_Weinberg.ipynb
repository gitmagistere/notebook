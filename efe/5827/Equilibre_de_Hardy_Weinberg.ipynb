{
 "cells": [
  {
   "cell_type": "markdown",
   "metadata": {},
   "source": [
    "Ci-dessous un script Python qui permet de vérifier l'équilibre de Hardy Weinberg"
   ]
  },
  {
   "cell_type": "code",
   "execution_count": null,
   "metadata": {},
   "outputs": [],
   "source": [
    "d=float(input(\"Quelle est la fréquence du génotype AA ?\"))\n",
    "r=float(input(\"Quelle est la fréquence du génotype aa ?\"))\n",
    "n=int(input(\"Quel est le nombre de générations ?\"))\n",
    "if d+r>=1:\n",
    "    print(\"Vous avez fait une erreur, recommencez\")\n",
    "else:\n",
    "    h=1-d-r\n",
    "    for i in range (n+1):\n",
    "        A=d+1/2*h\n",
    "        a=r+1/2*h\n",
    "        print('La fréquence du génotype AA à la génération',i,'est ',d)\n",
    "        print('La fréquence du génotype Aa à la génération',i,'est ',h)\n",
    "        print('La fréquence du génotype aa à la génération',i,'est ',r)\n",
    "        print('La fréquente de l allèle A à la génération',i,'est',A)\n",
    "        print('La fréquente de l allèle a à la génération',i,'est',a)\n",
    "        d=A**2\n",
    "        r=a**2\n",
    "        h=2*A*a"
   ]
  }
 ],
 "metadata": {
  "kernelspec": {
   "display_name": "Python 3",
   "language": "python",
   "name": "python3"
  },
  "language_info": {
   "codemirror_mode": {
    "name": "ipython",
    "version": 3
   },
   "file_extension": ".py",
   "mimetype": "text/x-python",
   "name": "python",
   "nbconvert_exporter": "python",
   "pygments_lexer": "ipython3",
   "version": "3.7.4"
  }
 },
 "nbformat": 4,
 "nbformat_minor": 2
}
