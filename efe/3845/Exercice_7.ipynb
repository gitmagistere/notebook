{
 "cells": [
  {
   "cell_type": "markdown",
   "metadata": {},
   "source": [
    "## L'instruction conditionnelle if"
   ]
  },
  {
   "cell_type": "markdown",
   "metadata": {},
   "source": [
    "Pour aiguiller dans différentes directions l'exécution d'un programme, il est possible d'avoir recours à des instructions conditionnelles, qui permettent de déterminer si les instructions qui suivent doivent être, ou non, exécutées.\n",
    "\n",
    "Avec une seule condition \n",
    "\n",
    "En langage naturel :\n",
    "\n",
    "        Si condition alors\n",
    "           Instruction\n",
    " \n",
    "En langage Python :\n",
    "\n",
    "        if condition :\n",
    "            Instruction\n",
    "        \n",
    "Avec une condition et une alternative\n",
    "\n",
    "En langage naturel :\n",
    "\n",
    "        Si condition alors\n",
    "            Instruction 1\n",
    "            sinon\n",
    "            Instruction 2\n",
    "\n",
    "En langage Python :\n",
    "\n",
    "        if condition :\n",
    "            Instruction 1\n",
    "        else :\n",
    "            Instruction 2\n",
    "\n",
    "Remarque : les deux points (:) sont obligatoires, ils créent l'indentation nécessaire pour l'instruction qui va suivre. Le mot alors n'existe pas en langage Python.\n",
    "Pour tester une égalité en langage Python, on utilise le signe \"==\" (double égal). Le \"=\" (égal simple) est utilisé pour l'affectation des variables.\n",
    "\n",
    "Un premier exemple :\n",
    "Un cinéma propose deux tarifs : les enfants de moins de 12 ans paient 4 euros, les autres paient 7 euros. \n",
    "On propose ci-dessous un script qui demande à l'utilisateur son âge et qui affiche la somme qu'il devra payer.\n",
    "Exécuter ce script."
   ]
  },
  {
   "cell_type": "code",
   "execution_count": null,
   "metadata": {},
   "outputs": [],
   "source": [
    "age=int(input(\"Quel est ton âge\"))\n",
    "if age<12:\n",
    "    print(\"Tu dois payer 4 euros\")\n",
    "else:\n",
    "    print(\"Tu dois payer 7 euros\")"
   ]
  },
  {
   "cell_type": "markdown",
   "metadata": {},
   "source": [
    "Un deuxième exemple avec l'utilisation du signe == pour tester une égalité.\n",
    "\n",
    "On a écrit ci-dessous un script qui permet de dire si un nombre est divisible par 7, ou non.\n",
    "On rappelle qu'en langage Python, l'opération % renvoie le reste dans une divison euclidienne.\n",
    "Exécuter le script ci-dessous, avec des nombres multiples de 7 ou non."
   ]
  },
  {
   "cell_type": "code",
   "execution_count": null,
   "metadata": {},
   "outputs": [],
   "source": [
    "nombre=int(input(\"Choisir un nombre entier\"))\n",
    "if nombre%7==0:\n",
    "    print(\"Le nombre\",nombre,\"est divisible par 7\")\n",
    "else:\n",
    "    print(\"Le nombre\",nombre,\"n'est pas divisible par 7\")"
   ]
  },
  {
   "cell_type": "markdown",
   "metadata": {},
   "source": [
    "## A vous de jouer..."
   ]
  },
  {
   "cell_type": "markdown",
   "metadata": {},
   "source": [
    "## Question 1\n",
    "\n",
    "Un parc d'attraction interdit l'accès à un manège aux enfants qui ont une taille inférieure à 1m20.\n",
    "Ecrire un script qui demande la taille d'un enfant et qui lui répond s'il peut ou non effectuer un tour de ce manège."
   ]
  },
  {
   "cell_type": "code",
   "execution_count": null,
   "metadata": {},
   "outputs": [],
   "source": []
  },
  {
   "cell_type": "raw",
   "metadata": {},
   "source": []
  },
  {
   "cell_type": "markdown",
   "metadata": {},
   "source": [
    "## Question 2\n",
    "\n",
    "Un club de sport propose deux tarifs mensuel : \n",
    "\n",
    "Tarif A : 3 euros par séance\n",
    "\n",
    "Tarif B : un forfait de 10 euros et 1,50 euros par séance.\n",
    "\n",
    "Ecrire une fonction appelée meilleur_tarif, qui a pour argument le nombre de séances effectuées en un mois et qui renvoie le nom du tarif le plus avantageux."
   ]
  },
  {
   "cell_type": "code",
   "execution_count": null,
   "metadata": {},
   "outputs": [],
   "source": []
  },
  {
   "cell_type": "markdown",
   "metadata": {},
   "source": [
    "## Question 3\n",
    "\n",
    "On lance un dé cubique à six faces, dont les faces sont numérotées de 1 à 6. Si le dé affiche 6, on a gagné, sinon on a perdu.\n",
    "Ecrire une fonction qui simule le lancé de ce dé et qui indique si on a gagné ou perdu."
   ]
  },
  {
   "cell_type": "code",
   "execution_count": null,
   "metadata": {},
   "outputs": [],
   "source": []
  },
  {
   "cell_type": "markdown",
   "metadata": {},
   "source": [
    "## Complément : pour deux conditions ou plus, l'utilisation de \"elif\".\n",
    "\n",
    "En langage Python, on peut enchaîner plus de deux conditions les unes à la suite des autres, grâce à l'instruction elif (contraction de else et if).\n",
    "\n",
    "Deux conditions et une alternative :\n",
    "\n",
    "En langage naturel :\n",
    "\n",
    "        Si condition 1 alors\n",
    "            Instruction 1\n",
    "            sinon si condition 2 alors\n",
    "                Instruction 2\n",
    "                sinon instruction 3\n",
    "\n",
    "En langage Python :\n",
    "\n",
    "        if condition 1 :\n",
    "            Instruction 1\n",
    "        elif condition 2 :\n",
    "            Instruction 2\n",
    "        else :\n",
    "            Instruction 3\n",
    "\n",
    "Et on peut rajouter autant de \"elif\" que l'on veut.\n",
    "\n",
    "\n",
    "Un exemple :\n",
    "\n",
    "Un élève participe à un concours dont la note maximale est 100.\n",
    "\n",
    "S'il obtient moins de 40 points (40 exclus), il obtient un diplôme de participation.\n",
    "\n",
    "S'il obtient entre 40 et 70 points (40 inclus et 70 exclus), il obient un diplôme de participation honorable.\n",
    "\n",
    "S'il obtient plus de 70 points (70 inclus), il obtient un diplôme de participation remarquable.\n",
    "\n",
    "Ci-dessous une fonction \"diplome\" qui a pour argument le score de l'élève et renvoie le type de diplôme obtenu.\n",
    "\n",
    "Tester cette fonction pour plusieurs scores différents."
   ]
  },
  {
   "cell_type": "code",
   "execution_count": 6,
   "metadata": {},
   "outputs": [],
   "source": [
    "def diplome(score):\n",
    "    if score<40:\n",
    "        d='Diplôme de participation'\n",
    "    elif score<70:\n",
    "        d='Diplôme participation honorable'\n",
    "    else:\n",
    "        d='Diplôme participation remarquable'\n",
    "    return d"
   ]
  },
  {
   "cell_type": "code",
   "execution_count": null,
   "metadata": {},
   "outputs": [],
   "source": []
  }
 ],
 "metadata": {
  "kernelspec": {
   "display_name": "Python 3",
   "language": "python",
   "name": "python3"
  },
  "language_info": {
   "codemirror_mode": {
    "name": "ipython",
    "version": 3
   },
   "file_extension": ".py",
   "mimetype": "text/x-python",
   "name": "python",
   "nbconvert_exporter": "python",
   "pygments_lexer": "ipython3",
   "version": "3.7.4"
  }
 },
 "nbformat": 4,
 "nbformat_minor": 2
}
