{
 "cells": [
  {
   "cell_type": "markdown",
   "metadata": {},
   "source": [
    "# Exercice 3 Comment réaliser des tâches répétitives avec Python ?\n",
    "\n",
    "Si on veut exécuter plusieurs fois une commande, on utilise des boucles. \n",
    "Essayez le programme suivant:"
   ]
  },
  {
   "cell_type": "code",
   "execution_count": null,
   "metadata": {
    "scrolled": true
   },
   "outputs": [],
   "source": [
    "for i in range(5):\n",
    "    print(\"Bonjour Monsieur!\")\n",
    "    print(\"Bonjour. Va vite t’installer tu es en retard.\")\n",
    "print(\"Au revoir !\")"
   ]
  },
  {
   "cell_type": "markdown",
   "metadata": {},
   "source": [
    "L'indentation (le décalage vers la droite) des deux lignes print(\"bonjour[...]\") fait partie de la syntaxe en python. Elle permet de savoir ce qui est dans la boucle. On peut l'ajouter en utilisant la touche tabulation du clavier.\n",
    "Vous remarquerez que la fonction print(\"au revoir !\") n'est pas répétée car située en dehors de la boucle, il n'y a pas d'indentation (décalage) sur la gauche.\n",
    "\n",
    "Observer ces deux programmes et comparer les résultats:"
   ]
  },
  {
   "cell_type": "code",
   "execution_count": null,
   "metadata": {
    "scrolled": true
   },
   "outputs": [],
   "source": [
    "for i in range(5):\n",
    "    print(\"Hello\")\n",
    "    print(\"The End\")\n",
    "    \n",
    "print(\"--------------\")\n",
    "\n",
    "for i in range(5):\n",
    "    print(\"Bonjour\")\n",
    "print(\"Fin\")"
   ]
  },
  {
   "cell_type": "markdown",
   "metadata": {},
   "source": [
    "Le i est ici une variable dont la valeur va changer à chaque tour de boucle. Avec la syntaxe ci-dessous, i est un entier, démarre à 0 et va jusqu'à 9 soit dix exécutions de la boucle.\n",
    "\n",
    "La fonction for i in range () permet de répéter un nombre défini de fois une ou plusieurs instructions. Le nombre spécifié dans range() indique le nombre d'itérations (= répétitions)"
   ]
  },
  {
   "cell_type": "code",
   "execution_count": null,
   "metadata": {
    "scrolled": true
   },
   "outputs": [],
   "source": [
    "print(\"début\")\n",
    "for i in range(10):\n",
    "    print(i)\n",
    "print(\"fin\")"
   ]
  },
  {
   "cell_type": "markdown",
   "metadata": {},
   "source": [
    "Le programme ci-dessus permet ainsi de visualiser la valeur de la variable i augmenter à chaque itération"
   ]
  },
  {
   "cell_type": "markdown",
   "metadata": {},
   "source": [
    "# Question 1\n",
    "Vous écrirez le programme qui permet d'afficher à 10 reprises le message \"Je recopie 10 fois la même chose car je suis puni\""
   ]
  },
  {
   "cell_type": "code",
   "execution_count": null,
   "metadata": {},
   "outputs": [],
   "source": []
  },
  {
   "cell_type": "markdown",
   "metadata": {},
   "source": [
    "# Question 2\n",
    "\n",
    "L'opérateur += est un opérateur à la fois d'addition(+) et d'affectation (=).\n",
    "Par exemple a+=1 est équivalent à a = a + 1. ATTENTION = est un symbole d'affectation et pas une égalité ! Ici, Python ajoute la valeur 1 à la valeur contenue dans la variable a et affecte le résultat à a. Autrement dit, la variable a vaut maintenan 1 de plus que l'ancienne variable a avant cette instruction.\n",
    "\n",
    "Prévoir ce que fait le programme suivant avant de l'exécuter en cliquant sur la flèche de gauche."
   ]
  },
  {
   "cell_type": "code",
   "execution_count": null,
   "metadata": {
    "scrolled": true
   },
   "outputs": [],
   "source": [
    "somme = 0\n",
    "for i in range(4) :\n",
    "    somme+=i\n",
    "print(somme)"
   ]
  },
  {
   "cell_type": "markdown",
   "metadata": {},
   "source": [
    "Rappelez-vous que Python compte toujours à partir de 0. i vaut donc 0 à la première itération, puis 1, 2 et enfin 3 à la quatrième itération. ce qui donne une somme de 0+0+1+2+3."
   ]
  },
  {
   "cell_type": "markdown",
   "metadata": {},
   "source": [
    "# Question 3\n",
    "Modifier le programme ci-dessous afin qu'il affiche toutes les valeurs de la variable somme à chaque itération. soit: 0 1 3 6"
   ]
  },
  {
   "cell_type": "code",
   "execution_count": null,
   "metadata": {
    "scrolled": true
   },
   "outputs": [],
   "source": [
    "somme = 0\n",
    "for i in range(4) :\n",
    "    somme+=i\n",
    "print(somme)\n"
   ]
  },
  {
   "cell_type": "markdown",
   "metadata": {},
   "source": [
    "Il faut dans cette question 2 jouer avec l'indentation afin que la fonction print soit incluse dans la boucle."
   ]
  },
  {
   "cell_type": "markdown",
   "metadata": {},
   "source": [
    "# Question 4\n",
    "Modifier le programme ci-dessous afin d'afficher, pour chaque entier entre 0 et 5, la valeur de son carré. \n",
    "Autrement dit ce programme doit afficher : \n",
    "0\n",
    "1\n",
    "4\n",
    "9\n",
    "16\n",
    "25"
   ]
  },
  {
   "cell_type": "code",
   "execution_count": null,
   "metadata": {
    "scrolled": true
   },
   "outputs": [],
   "source": [
    "for i in range() :\n",
    "print(i**2)"
   ]
  },
  {
   "cell_type": "markdown",
   "metadata": {},
   "source": [
    "La boucle utilisant un \"for\" est pratique lorsque l'on sait à l'avance le nombre d'itérations. Si ce n'est pas le cas, on utilise une boucle conditionnelle qui s'écrit avec un \"while\".\n",
    "Observer l'exécution de l'exemple ci-dessous :"
   ]
  },
  {
   "cell_type": "code",
   "execution_count": null,
   "metadata": {
    "scrolled": true
   },
   "outputs": [],
   "source": [
    "i=0\n",
    "while i < 6 :\n",
    "    print(i)\n",
    "    i+=1\n",
    "print('FINI')"
   ]
  },
  {
   "cell_type": "markdown",
   "metadata": {},
   "source": [
    "Ici, on créé une boucle dont on ne connait pas à l'avance le nombre d'itérations. La sortie de la boucle se fera selon la condition indiquée : dès que i n'est plus strictement inférieur à 6."
   ]
  },
  {
   "cell_type": "markdown",
   "metadata": {},
   "source": [
    "# Question 5\n",
    "Complétez et corriger ce programme qui doit afficher la même chose qu'à la question 3. La fonction while est bien entendu à conserver !"
   ]
  },
  {
   "cell_type": "code",
   "execution_count": null,
   "metadata": {
    "scrolled": true
   },
   "outputs": [],
   "source": [
    "i=0\n",
    "while i<  :\n",
    "    print(i**2)\n",
    "    i + 1"
   ]
  },
  {
   "cell_type": "markdown",
   "metadata": {},
   "source": [
    "Vous avez maintenant terminé tous les exercices asynchrones.\n",
    "Vous retrouverez dans les pages suivantes un résumé de ce que vous avez appris au cours de ces 3 exercices."
   ]
  }
 ],
 "metadata": {
  "kernelspec": {
   "display_name": "Python 3",
   "language": "python",
   "name": "python3"
  },
  "language_info": {
   "codemirror_mode": {
    "name": "ipython",
    "version": 3
   },
   "file_extension": ".py",
   "mimetype": "text/x-python",
   "name": "python",
   "nbconvert_exporter": "python",
   "pygments_lexer": "ipython3",
   "version": "3.8.5"
  },
  "varInspector": {
   "cols": {
    "lenName": 16,
    "lenType": 16,
    "lenVar": 40
   },
   "kernels_config": {
    "python": {
     "delete_cmd_postfix": "",
     "delete_cmd_prefix": "del ",
     "library": "var_list.py",
     "varRefreshCmd": "print(var_dic_list())"
    },
    "r": {
     "delete_cmd_postfix": ") ",
     "delete_cmd_prefix": "rm(",
     "library": "var_list.r",
     "varRefreshCmd": "cat(var_dic_list()) "
    }
   },
   "types_to_exclude": [
    "module",
    "function",
    "builtin_function_or_method",
    "instance",
    "_Feature"
   ],
   "window_display": false
  }
 },
 "nbformat": 4,
 "nbformat_minor": 2
}
