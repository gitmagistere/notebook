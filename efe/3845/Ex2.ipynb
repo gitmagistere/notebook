{
 "cells": [
  {
   "cell_type": "markdown",
   "metadata": {},
   "source": [
    "# EXERCICE 2 : Notion de variables en programmation sur Python\n",
    "Dans ce deuxième exercice, vous allez découvrir ce que sont des variables en Python.\n",
    "Il n'y a pas que des nombres (entiers, décimaux) en programmation. Voici les 3 principaux types de variables :\n",
    "- INT : (INTEGER) ou ENTIER en français. cela représente un nombre entier\n",
    "- FLOAT : FLOTTANT en français. Cela représente un nombre décimal. On les différencie des nombres entier car ils utilisent davantage d'espace mémoire.\n",
    "- STRING : CHAINE DE CARACTERE en français. Cela représente une suite de caractères, typiquement un mot ou une phrase\n",
    "\n",
    "Avec Python, et contrairement à d'autres langages de programmation, il n'est pas nécessaire de déclarer au préalable le type de variable : elles sont dynamiquement typées à l'instant de leur première utilisation. Par exemple, l'instruction \"type(a)\" renvoie le type de la variable a .\n",
    "\n",
    "Recopier (ou copier/coller) les instructions de chaque question comme indiqué, puis cliquer sur Exécuter, afin de vous familiariser avec les différents types de variables : # signifie la présence d'un commentaire. Ce ne sont pas des instructions\n",
    "\n",
    "#signifie la présence d'un commentaire. Ce ne sont pas des instructions\n",
    "#Dans un programme, TOUJOURS UNE SEULE instruction par ligne"
   ]
  },
  {
   "cell_type": "markdown",
   "metadata": {},
   "source": [
    "a = 3\n",
    "\n",
    "type(a)\n",
    "\n",
    "#Le symbole \"=\" en Python est à considérer comme une affectation. Ici, il s'agit d'affecter la valeur 3 (entier) à la variable a. Pour résumer, \"=\" en langage Python ne correspond pas au = utilisé normalement dans nos relations entre grandeurs.\n"
   ]
  },
  {
   "cell_type": "code",
   "execution_count": null,
   "metadata": {},
   "outputs": [],
   "source": []
  },
  {
   "cell_type": "markdown",
   "metadata": {},
   "source": [
    "b=5.5\n",
    "\n",
    "type(b)\n",
    "\n",
    "print(b)\n",
    "\n",
    "\n",
    "#On affecte la valeur décimale 5,5 à la variable b. Attention, Python utilise des conventions anglosaxonnes pour les nombres décimaux. le point sera donc utilisé pour séparer unité et dixième.\n",
    "#Ici, la fonction type affiche le type de la variable b, puis la fonction print affiche le contenu de cette variable."
   ]
  },
  {
   "cell_type": "code",
   "execution_count": null,
   "metadata": {},
   "outputs": [],
   "source": []
  },
  {
   "cell_type": "markdown",
   "metadata": {},
   "source": [
    "c='47'\n",
    "\n",
    "type(c)\n",
    "\n",
    "print('la valeur de c est',c)\n",
    "\n",
    "\n",
    "#La fonction print() sert à afficher et s'utilise ainsi : print('la valeur de c est',c)\n",
    "#On affiche différents commentaires entre guillemets, puis la variable (ici c) en les séparant par des virgules. La virgule permet de séparer deux éléments différents en langage Python."
   ]
  },
  {
   "cell_type": "code",
   "execution_count": null,
   "metadata": {},
   "outputs": [],
   "source": []
  },
  {
   "cell_type": "markdown",
   "metadata": {},
   "source": [
    "d='bonjour !'\n",
    "\n",
    "type(d)\n",
    "\n",
    "print(d)\n",
    "\n",
    "\n",
    "#Ici, la fonction type() vous affiche le type de la variable d, puis la fonction print vous affiche le contenu de cette variable."
   ]
  },
  {
   "cell_type": "code",
   "execution_count": null,
   "metadata": {},
   "outputs": [],
   "source": []
  },
  {
   "cell_type": "markdown",
   "metadata": {},
   "source": [
    "Il est bien sur possible de réaliser des opérations avec ces variables, exactement comme vous l'avez fait dans l'exercice 1.\n",
    "Taper les instructions de chaque question comme indiqué afin de vous familiariser avec ces opérations :"
   ]
  },
  {
   "cell_type": "markdown",
   "metadata": {},
   "source": [
    "a+b\n",
    "\n",
    "#ici Python réutilise les valeurs affectées au variables a et b, et les ajoute."
   ]
  },
  {
   "cell_type": "code",
   "execution_count": null,
   "metadata": {
    "scrolled": false
   },
   "outputs": [],
   "source": []
  },
  {
   "cell_type": "markdown",
   "metadata": {},
   "source": [
    "resultat=a+b\n",
    "\n",
    "print('la valeur de a + b est',resultat)\n",
    "\n",
    "\n",
    "#ici le programme affecte le résultat de l'addition a+b à la variable resultat puis affiche le résultat sous la forme d'une phrase."
   ]
  },
  {
   "cell_type": "code",
   "execution_count": null,
   "metadata": {},
   "outputs": [],
   "source": []
  },
  {
   "cell_type": "markdown",
   "metadata": {},
   "source": [
    "resultat = c+d\n",
    "\n",
    "print('la valeur de c+d est',resultat)\n",
    "\n",
    "\n",
    "#lorsque vous ajouter deux chaine de caractères, Python concatène (regroupe) les deux variables"
   ]
  },
  {
   "cell_type": "code",
   "execution_count": null,
   "metadata": {},
   "outputs": [],
   "source": []
  },
  {
   "cell_type": "markdown",
   "metadata": {},
   "source": [
    "a+c\n",
    "\n",
    "\n",
    "#Vous remarquez qu'une erreur apparait. C'est normal puisque vous essayer d'additioner deux types de variables différentes. Ici un entier et une chaine de caractères. Vous ne pouvez additionner que deux types identiques en Python."
   ]
  },
  {
   "cell_type": "code",
   "execution_count": null,
   "metadata": {},
   "outputs": [],
   "source": []
  },
  {
   "cell_type": "markdown",
   "metadata": {},
   "source": [
    "Les noms de variables doivent commencer par une lettre. Pour vos futurs programmes, n'hésitez pas à employer des noms de variables évocateurs comme Energiecinétique, Tension, Vitesse, Température,x,y...\n",
    "Ce sera plus clair pour tout le monde, même si c'est un peu plus long. "
   ]
  },
  {
   "cell_type": "markdown",
   "metadata": {},
   "source": [
    "Une dernière question pour faire le bilan de cet exercice.\n",
    "Ecrire, dans le cadre ci-dessous, un programme qui :\n",
    "- affecte la valeur 5 à la variable x\n",
    "- affecte la valeur 12 à la variable y\n",
    "- additionne les variables x et y et affecte le résultat dans la variable resultat\n",
    "- Affiche le résultat sous la forme \"la valeur de x + y est : resultat \""
   ]
  },
  {
   "cell_type": "code",
   "execution_count": null,
   "metadata": {},
   "outputs": [],
   "source": []
  },
  {
   "cell_type": "markdown",
   "metadata": {},
   "source": [
    "Vous avez maintenant terminé cet exercice 2 sur les types de variables et les opérations de base.\n",
    "Vous avez aussi dévouvert deux instructions : type() et print().\n",
    "Vous en verrez d'autres au fur et à mesure du déroulement du parcours.\n",
    "L'exercice 3 vous permettra d'apréhender la notion d'instructions conditionnelles et ce sera terminé. \n",
    "Bonne continuation à vous !"
   ]
  }
 ],
 "metadata": {
  "kernelspec": {
   "display_name": "Python 3",
   "language": "python",
   "name": "python3"
  },
  "language_info": {
   "codemirror_mode": {
    "name": "ipython",
    "version": 3
   },
   "file_extension": ".py",
   "mimetype": "text/x-python",
   "name": "python",
   "nbconvert_exporter": "python",
   "pygments_lexer": "ipython3",
   "version": "3.8.5"
  }
 },
 "nbformat": 4,
 "nbformat_minor": 4
}
