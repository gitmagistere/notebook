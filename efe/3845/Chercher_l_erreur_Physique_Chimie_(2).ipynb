{
  "nbformat": 4,
  "nbformat_minor": 0,
  "metadata": {
    "kernelspec": {
      "display_name": "Python 3",
      "language": "python",
      "name": "python3"
    },
    "language_info": {
      "name": "python",
      "version": "3.7.8",
      "mimetype": "text/x-python",
      "codemirror_mode": {
        "name": "ipython",
        "version": 3
      },
      "pygments_lexer": "ipython3",
      "nbconvert_exporter": "python",
      "file_extension": ".py"
    },
    "colab": {
      "name": "Chercher_l_erreur Physique Chimie.ipynb",
      "provenance": []
    }
  },
  "cells": [
    {
      "cell_type": "markdown",
      "metadata": {
        "id": "6wf5dRhA3R2M"
      },
      "source": [
        "## Les erreurs classiques en Python"
      ]
    },
    {
      "cell_type": "markdown",
      "metadata": {
        "id": "IJ41OO2o3R2h"
      },
      "source": [
        "## Exercice 1 : Erreurs de syntaxe (d'écriture)\n",
        "### Illustrée sur l'algorithme permettant le réactif limitant d'une réaction\n",
        "\n",
        "Cette activité s’appuie sur la réaction mettant en jeu le diiode et les ions thiosulfate en solution aqueuse :\n",
        "\n",
        "$I_2(au) + 2 S_{2}O_{3}^{2-}(aq) = 2 I^{-} (aq) + S_{4}O_{6}^{2-}$\n",
        "\n",
        "Le script débute par la saisie des quantités de matière initialement introduites des deux réactifs (nI2_0 et nS2O3_0).\n",
        "L’avancement est initialisé à la valeur x = 0 mol, et un incrément d’avancement est entré (a = 0,001 mol ici).\n",
        "\n",
        "Une variable ‘limitant’, initialement vide, aura vocation à accueillir le nom du (ou des) réactifs limitants selon la composition du mélange initial.\n",
        "Les listes qI2 et qS2O3 sont destinées à recueillir les quantités de matière successives de ces deux réactifs.\n",
        "\n",
        "**Exercice : Après avoir identifié les erreurs, corriger le programme. **\n",
        "\n",
        "Pour corriger les erreurs, il est ESSENTIEL de bien lire les messages d'erreurs renvoyés par l'interpréteur Python."
      ]
    },
    {
      "cell_type": "code",
      "metadata": {
        "id": "GOGZndaU3R2k"
      },
      "source": [
        "# Valeurs initiales\n",
        "    I2_0 = 2 # en mol\n",
        "    nI2_0 = float(I2_0) # conversion de chaine de caractère à nb décimal\n",
        "    S2O3_0 = 3 # en mol\n",
        "    nS2O3_0 = float(S2O3_0) # conversion de chaine de caractère à nb décimal\n",
        "\n",
        "    limitant =''  # initiallisation de la chaine de caractère correspondant au réactif limitant\n",
        "    x=0  # avancement initial\n",
        "    a=0.001 #pas d'avancement\n",
        "    qI2=[nI2_0]\n",
        "    qS2O3=[nS2O3_0]\n",
        "\n",
        "\n",
        "# écriture de la boucle while\n",
        "while qI2[-1] > 0 and qS2O3[-1] > 0\n",
        "    x=x+a\n",
        "    qI2.append(nI2_0-x)\n",
        "    qS2O3.append(nS2O3_0-2*x)\n",
        "\n",
        "    #résolution du problème et affichage du résultat\n",
        "if qI2[-1]<=0\n",
        "limitant = 'le diiode'\n",
        "\n",
        "if qS2O3[-1]<=0\n",
        "limitant = 'le thiosulfate'\n",
        "\n",
        "if qI2[-1]<=0 and qS2O3[-1]<=0\n",
        "limitant='à la fois le thiosulfate et le diiode : le mélange est stoechiometrique'\n",
        "\n",
        "#print(limitant)\n",
        "print('Le réactif limitant est ',limitant,'\\n Avancement maximum : ',round(x,2),'mol' )\n"
      ],
      "execution_count": null,
      "outputs": []
    },
    {
      "cell_type": "markdown",
      "metadata": {
        "id": "115AqnnK3R2m"
      },
      "source": [
        "**Corrigé** : \n",
        "Proposé en visioconférence"
      ]
    },
    {
      "cell_type": "markdown",
      "metadata": {
        "id": "XViwGrrm3R2n"
      },
      "source": [
        "# Exercice 2 : Erreurs de syntaxe (bis)\n",
        "\n",
        "###  Etude de la chute du bille\n",
        "L’étude de la chronophotographie de la chute d’une bille est ici reprise avec ce script.\n",
        "\n",
        "**Exercice : Corriger le programme en identifiant les erreurs au fur et à mesure.**\n",
        "\n",
        "\n"
      ]
    },
    {
      "cell_type": "code",
      "metadata": {
        "trusted": true,
        "id": "EvGVGinJ3R2r"
      },
      "source": [
        "#Import des bibliothèques\n",
        "# numpy : bibliothèque facilitant le traitement des tableaux\n",
        "# matplotlib.pyplot : bibliothèque pour réliser des tracés de courbe\n",
        "import numpy as np \n",
        "import matplotlib.pyplot as plt \n",
        "\n",
        "# Creation de la liste de points \n",
        "# ymes et yreelle : liste des ordonnées des mesures (coef de 2/100 entre les deux) et réelles\n",
        "# t : liste des abcisses (correspondant ua temps ici)\n",
        "ymes = np.array([-0;-0,7;-1,5;-2,3;-3,5;-4,5;-5,9;-7,7;-8,8;-10,6;-12,3;-14,2;-16,4;-18,5;-21;-23,5])\n",
        "yreelle = ymes*2/100\n",
        "t = np.linspace(0,1/4,16)\n",
        "\n",
        "plt.figure() #ouvre un graphique vierge\n",
        "plt.plot(t,yReelle,'ro',label=\"y=f(x)\") #trace yrelle en fonction de t\n",
        "plt.xlabel(\"position\") #affiche le nom de l'axe x\n",
        "plt.ylabel(\"yreelle\") #affiche le nom de l'axe y\n",
        "plt.grid() #affiche une grille sur le gaphique\n",
        "plt.legend() #affiche la légende (xlabel, ylabel..)\n",
        "plt.title(\"chute libre\") #affiche un titre au graphique\n",
        "plt.show() #affiche le graphique final"
      ],
      "execution_count": null,
      "outputs": []
    },
    {
      "cell_type": "markdown",
      "metadata": {
        "id": "3IU54_RI3R2t"
      },
      "source": [
        "** Indication** : le code erreur renvoyé par l'interprétateur de Python doit vous mettre sur la piste\n"
      ]
    },
    {
      "cell_type": "markdown",
      "metadata": {
        "id": "IDknAfix3R2u"
      },
      "source": [
        "## Exercice 3 - Boucle, liste et indices\n",
        "### Effectuer le bilan énergétique d’un système en mouvement.\n",
        "\n",
        "Il est possible de représenter l’évolution des différentes formes d’énergie du système en mouvement au cours du temps à l’aide du programme ci-dessous.\n",
        "\n",
        "Deux constantes sont définies :  la masse m du système et l’intensité g de la pesanteur.\n",
        "\n",
        "Un appel à la fonction calcul_vitesses(x,z,t) est effectué. Elle renvoie une liste contenant les valeurs de la vitesse du système dans ses différentes positions (sauf la dernière) ainsi que la liste des dates raccourcie d’une valeur pour que les dates correspondent aux valeurs des vitesses et que ces deux listes aient la même longueur.\n",
        "\n",
        "La ligne 34 permet de remplir une liste nommée Ec avec les valeurs de l’énergie cinétique du système.\n",
        "Le code :\n",
        "    Epp=[]\n",
        "    for i in range(len(v)):\n",
        "        Epp.append(masse*g*z[i])     \n",
        "permet de calculer l’énergie potentielle de pesanteur du système en obtenant une liste de même longueur que pour l’énergie cinétique (len(v)).\n",
        "\n",
        "\n",
        "Un appel à la fonction graphique(Ec, Epp, Em, temps_v) est ensuite réalisé. Cette fonction met en place tous les éléments du graphique que l’on souhaite obtenir : son titre, le nom des axes, les limites des axes, les trois courbes Ec=f(t), Epp=f(t) et Em=f(t) avec des couleurs différentes et une légende pour pouvoir se repérer.\n"
      ]
    },
    {
      "cell_type": "code",
      "metadata": {
        "trusted": true,
        "id": "JY2_fydY3R2w"
      },
      "source": [
        "import matplotlib.pyplot as plt\n",
        "#Les fonctions------------------------------------------------------\n",
        "def graphique(Ec, Epp, Em, t): #définit une fonction graphique qui trace le graphique\n",
        "    plt.title(\"Evolution des formes d'énergies du système\")\n",
        "    plt.xlabel('t en (s)')\n",
        "    plt.ylabel('Energies en (J)')\n",
        "    plt.xlim(0,1.2*max(t))\n",
        "    plt.ylim=(0,1.2*max(Em))\n",
        "    plt.plot(t,Ec,'r.',label='Ec')\n",
        "    plt.plot(t,Epp,'b.',label='Epp')\n",
        "    plt.plot(t,Em,'g.',label='Em')\n",
        "    plt.legend()\n",
        "\n",
        "def calcul_vitesses(abscisses,ordonnees,temps): #définit une fonction qui calcule les vitesses\n",
        "    v=[]\n",
        "    for n in range(len(abscisses)):\n",
        "        v_x=(abscisses[n+1]-abscisses[n])/(temps[n+1]-temps[n])\n",
        "        v_y=(ordonnees[n+1]-ordonnees[n])/(temps[n+1]-temps[n])\n",
        "        v.append((v_x**2+v_y**2)**0.5)\n",
        "    return v\n",
        "\n",
        "#Le programme principal--------------------------------------------\n",
        "x=[0.00,0.50,1.00,1.50,2.00,2.50,3.00,3.50,4.00,4.50,5.00]\n",
        "z=[5.00,4.95,4.80,4.56,4.22,3.77,3.23,2.60,1.86,1.03,0.09]\n",
        "t=[0.00,0.10,0.20,0.30,0.40,0.50,0.60,0.70,0.80,0.90,1.00]\n",
        "masse = 2 #valeur de la masse du mobile\n",
        "g = 9.8  #valeur de l'intensité de la pesanteur\n",
        "v = calcul_vitesses(x,z,t)\n",
        "#v contient un élement de moins que t, on enleve donc le dernier élément à laliste t\n",
        "temps_v = t[:-1]\n",
        "#-----------------------------------\n",
        "Ec = []\n",
        "for vitesse in v:\n",
        "Ec.append(0.5*masse*vitesse**2) #la fonction append() ajoute un élément à une liste déjà existante\n",
        "#-----------------------------------\n",
        "\n",
        "Epp=[]\n",
        "for i in range(len(v))\n",
        "    Epp.append(masse*g*z[i])\n",
        "#-----------------------------------\n",
        "Em=[]\n",
        "for i in range(len(v)+1):\n",
        "    Em.append(Ec[i]+Epp[i])\n",
        "#-----------------------------------\n",
        "graphique(Ec, Epp, Em, temps_v)\n",
        "plt.show()"
      ],
      "execution_count": null,
      "outputs": []
    },
    {
      "cell_type": "code",
      "metadata": {
        "id": "-ujhBwR23R2y"
      },
      "source": [
        ""
      ],
      "execution_count": null,
      "outputs": []
    },
    {
      "cell_type": "markdown",
      "metadata": {
        "id": "NhDnEkYe3R2z"
      },
      "source": [
        "Les erreurs se situent dans la réalisation des boucles de programme. \n",
        "Le nombre d'itération est à vérifier , tout comme la syntaxe."
      ]
    }
  ]
}