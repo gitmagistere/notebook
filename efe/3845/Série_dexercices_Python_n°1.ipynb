{
 "cells": [
  {
   "cell_type": "markdown",
   "metadata": {},
   "source": [
    "## Série d'exercices n°1\n",
    "\n",
    "Quelques exercices autour de la notion d'instructions conditionnelles, de boucles et de fonctions.\n",
    "\n",
    "La plupart de ces exercices peuvent être proposés aux élèves."
   ]
  },
  {
   "cell_type": "markdown",
   "metadata": {},
   "source": [
    "## Exercice 1\n",
    "\n",
    "(D’après BAC ES)\n",
    "\n",
    "Au 1er janvier 2017, une association sportive compte 900 adhérents. On constate que chaque mois :\n",
    "\n",
    "•\t25 % des adhérents de l’association ne renouvellent pas leur adhésion ;\n",
    "\n",
    "•\t12 nouvelles personnes décident d’adhérer à l’association.\n",
    "\n",
    "Chaque adhérent verse une cotisation de 10 euros par mois. Le trésorier de l’association souhaite prévoir le montant total des cotisations pour l’année 2017.\n",
    "\n",
    "Ecrire un script qui réponde à son souhait.\n"
   ]
  },
  {
   "cell_type": "code",
   "execution_count": null,
   "metadata": {},
   "outputs": [],
   "source": []
  },
  {
   "cell_type": "markdown",
   "metadata": {},
   "source": [
    "## Exercice 2\n",
    "\n",
    "On dispose d’un tube de 7 cm de diamètre autour duquel on souhaite faire un bobinage simple d’un fil de cuivre de longueur L. On suppose que le tube est suffisamment long pour que le fil ne soit pas doublé.\n",
    "\n",
    "Écrire un script qui permette de déterminer le nombre de tours complets de cuivre que l’on peut réaliser. \n",
    "\n",
    "Qu’obtient-on pour L = 10 m ? \n"
   ]
  },
  {
   "cell_type": "code",
   "execution_count": null,
   "metadata": {},
   "outputs": [],
   "source": []
  },
  {
   "cell_type": "markdown",
   "metadata": {},
   "source": [
    "## Exercice 3\n",
    "\n",
    "Variables booléennes\n",
    "\n",
    "En langage Python le résultat d'un test est soit \"True\" soit \"False\"."
   ]
  },
  {
   "cell_type": "code",
   "execution_count": 2,
   "metadata": {},
   "outputs": [
    {
     "data": {
      "text/plain": [
       "False"
      ]
     },
     "execution_count": 2,
     "metadata": {},
     "output_type": "execute_result"
    }
   ],
   "source": [
    "3==4"
   ]
  },
  {
   "cell_type": "code",
   "execution_count": 3,
   "metadata": {},
   "outputs": [
    {
     "data": {
      "text/plain": [
       "True"
      ]
     },
     "execution_count": 3,
     "metadata": {},
     "output_type": "execute_result"
    }
   ],
   "source": [
    "3<4"
   ]
  },
  {
   "cell_type": "markdown",
   "metadata": {},
   "source": [
    "\"True\" et \"False\" peuvent être affectés à des variables. On parle alors de variables booléennes.\n",
    "\n",
    "Un exemple :\n",
    "\n",
    "Soit C le cercle de centre A(2;1) et de rayon 4.\n",
    "\n",
    "Soit M (x ;y) un point proposé par l’utilisateur.\n",
    "\n",
    "Écrire un script qui renvoie True si M est strictement à l’intérieur du cercle et False sinon."
   ]
  },
  {
   "cell_type": "code",
   "execution_count": null,
   "metadata": {},
   "outputs": [],
   "source": []
  },
  {
   "cell_type": "markdown",
   "metadata": {},
   "source": [
    "## Exercice 4\n",
    "\n",
    "Écrire un script qui lance 2 dés à 6 faces et qui renvoie la somme des faces.\n",
    "\n",
    "Le modifier afin qu’il affiche la fréquence d’apparition du 7 et la fréquence d’apparition du 8 au cours de 100 lancers.\n",
    "\n",
    "Indication : randint(a,b), où a et b sont des entiers renvoie aléatoirement un entier compris entre a et b, bornes incluses. Il faut l'importer d'une certaine bibliothèque...\n"
   ]
  },
  {
   "cell_type": "code",
   "execution_count": null,
   "metadata": {},
   "outputs": [],
   "source": []
  },
  {
   "cell_type": "markdown",
   "metadata": {},
   "source": [
    "## Exercice 5\n",
    "\n",
    "Écrire un programme qui permette de tester si un nombre est divisible par 13."
   ]
  },
  {
   "cell_type": "code",
   "execution_count": null,
   "metadata": {},
   "outputs": [],
   "source": []
  },
  {
   "cell_type": "markdown",
   "metadata": {},
   "source": [
    "## Exercice 6\n",
    "\n",
    "1) Écrire un script qui affiche la liste des diviseurs d’un nombre.\n",
    "\n",
    "2) Modifier le script pour qu’il affiche la liste des diviseurs d’un nombre ainsi que le nombre de diviseurs.\n"
   ]
  },
  {
   "cell_type": "code",
   "execution_count": null,
   "metadata": {},
   "outputs": [],
   "source": []
  },
  {
   "cell_type": "markdown",
   "metadata": {},
   "source": [
    "## Exercice 7\n",
    "\n",
    "En reprenant le travail de l’exercice précédent : écrire une fonction qui renvoie le nombre de diviseurs d’un entier naturel n.\n",
    "\n",
    "Utiliser cette fonction dans un programme qui affiche tous les entiers entre 1 et 1000 ayant exactement 5 diviseurs.\n",
    "\n"
   ]
  },
  {
   "cell_type": "code",
   "execution_count": null,
   "metadata": {},
   "outputs": [],
   "source": []
  },
  {
   "cell_type": "markdown",
   "metadata": {},
   "source": [
    "## Exercice 8 \n",
    "\n",
    "Un nombre est parfait lorsqu’il est égal à la somme de ses diviseurs propres. \n",
    "\n",
    "6 = 1 + 2 + 3 est le plus petit nombre parfait.\n",
    "\n",
    "Ecrire un programme qui détermine la liste des nombres parfaits inférieurs à 10 000."
   ]
  },
  {
   "cell_type": "code",
   "execution_count": null,
   "metadata": {},
   "outputs": [],
   "source": []
  },
  {
   "cell_type": "markdown",
   "metadata": {},
   "source": [
    "## Exercice 9\n",
    "\n",
    "Deux nombres sont dits amiables si chaque nombre est égal à la somme des diviseurs propres de l’autre.\n",
    "\n",
    "Ecrire un script qui détermine la liste des nombres amiables inférieurs à 10 000."
   ]
  },
  {
   "cell_type": "code",
   "execution_count": null,
   "metadata": {},
   "outputs": [],
   "source": []
  },
  {
   "cell_type": "markdown",
   "metadata": {},
   "source": [
    "## Exercice 10\n",
    "\n",
    "Ecrire un script qui détermine si un nombre est premier ou non."
   ]
  },
  {
   "cell_type": "code",
   "execution_count": null,
   "metadata": {},
   "outputs": [],
   "source": []
  },
  {
   "cell_type": "markdown",
   "metadata": {},
   "source": [
    "Remarque : il existe une fonction qui appelée isprime() dans un bibliothèque appelée sympy qui fait la même chose que votre script :)"
   ]
  },
  {
   "cell_type": "markdown",
   "metadata": {},
   "source": [
    "## Exercice 11\n",
    "\n",
    "Deux nombres premiers sont dits jumeaux si l’écart entre eux est de 2. \n",
    "\n",
    "3 et 5 sont les plus petits nombres premiers jumeaux.\n",
    "\n",
    "Déterminer la liste des nombres premiers jumeaux jusqu’à 1 000.\n",
    "\n",
    "Reprendre le script précédent en y ajoutant un compteur.\n",
    "\n"
   ]
  },
  {
   "cell_type": "code",
   "execution_count": null,
   "metadata": {},
   "outputs": [],
   "source": []
  }
 ],
 "metadata": {
  "kernelspec": {
   "display_name": "Python 3",
   "language": "python",
   "name": "python3"
  },
  "language_info": {
   "codemirror_mode": {
    "name": "ipython",
    "version": 3
   },
   "file_extension": ".py",
   "mimetype": "text/x-python",
   "name": "python",
   "nbconvert_exporter": "python",
   "pygments_lexer": "ipython3",
   "version": "3.7.4"
  }
 },
 "nbformat": 4,
 "nbformat_minor": 2
}
