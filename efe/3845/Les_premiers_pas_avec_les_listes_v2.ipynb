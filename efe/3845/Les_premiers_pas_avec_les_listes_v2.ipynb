{
 "cells": [
  {
   "cell_type": "markdown",
   "metadata": {},
   "source": [
    "## Exercice 8 : premiers pas avec les listes"
   ]
  },
  {
   "cell_type": "markdown",
   "metadata": {},
   "source": [
    "Une liste est une collection d'objets de différents types (nombres, variables numériques, chaînes de caractères, booléens,...). Une liste est une variable que l'on peut nommer comme on le souhaite.\n",
    "\n",
    "1° Comment créer une liste\n",
    "\n",
    "Il est souvent utile dans un script de partir d'une liste vide.\n",
    "Pour créer une liste vide, nommée ici L, il suffit de saisir :\n",
    "\n",
    "    - L=[]\n",
    "\n",
    "Pour créer un liste de nombres, il suffit de saisir :\n",
    "\n",
    "    - L=[12,4,13.5,78]\n",
    "\n",
    "Pour créer une liste contenant des caractères, il suffit de saisir :\n",
    "\n",
    "    - L=[\"a\",\"g\",\"hello\"]\n",
    "    \n",
    "On utilise donc des crochets, et les éléments d'une liste doivent être séparés par une virgule.\n",
    " \n",
    "Dans la zone de script ci-dessous on a créé dans la première ligne une liste appelée L, contenant les valeurs 12, 4, 13, 13.5 et 78. Puis on a saisi dans une deuxième ligne le nom de la liste et on a exécuté le script. En sortie, on voit apparaître la liste L."
   ]
  },
  {
   "cell_type": "code",
   "execution_count": 1,
   "metadata": {},
   "outputs": [
    {
     "data": {
      "text/plain": [
       "[12, 4, 13.5, 78]"
      ]
     },
     "execution_count": 1,
     "metadata": {},
     "output_type": "execute_result"
    }
   ],
   "source": [
    "L=[12,4,13.5,78]\n",
    "L"
   ]
  },
  {
   "cell_type": "markdown",
   "metadata": {},
   "source": [
    "A vous :\n",
    "\n",
    "Dans la zone de script ci-dessous, créer une liste appelée L1 contenant les nombres 2, 21, 15.5, 17, 4, 9, et faire apparaître cette liste en sortie."
   ]
  },
  {
   "cell_type": "code",
   "execution_count": null,
   "metadata": {},
   "outputs": [],
   "source": []
  },
  {
   "cell_type": "markdown",
   "metadata": {},
   "source": [
    "Dans la zone de script ci-dessous, créer une liste appelée L2 contenant les 5 premières lettres de l'alphabet et faire apparaître cette liste en sortie."
   ]
  },
  {
   "cell_type": "code",
   "execution_count": null,
   "metadata": {},
   "outputs": [],
   "source": []
  },
  {
   "cell_type": "markdown",
   "metadata": {},
   "source": [
    "2° Faire apparaître ou identifier un objet d'une liste\n",
    "\n",
    "Dans une liste, le premier objet est l'objet de rang (ou d'indice) 0, le deuxième objet est l'objet de rang 1, etc...\n",
    "\n",
    "    - Le premier objet d'une liste appelée L est noté L[0]. C'est l'objet de rang (ou d'indice) 0.\n",
    "    - Le k+1 ème objet d'une liste appelée L est noté L[k]. C'est l'objet de rang k.\n",
    "    - Le dernier objet d'une liste appelée L est noté L[-1].\n",
    " \n",
    " Dans la zone de script ci-dessous, faire apparaître en sortie le premier objet de la liste L1 (n'oubliez pas d'exécuter).\n"
   ]
  },
  {
   "cell_type": "code",
   "execution_count": null,
   "metadata": {},
   "outputs": [],
   "source": []
  },
  {
   "cell_type": "markdown",
   "metadata": {},
   "source": [
    "Dans la zone de script ci-dessous, faire apparaître en sortie le dernier objet de la liste L2."
   ]
  },
  {
   "cell_type": "code",
   "execution_count": null,
   "metadata": {},
   "outputs": [],
   "source": []
  },
  {
   "cell_type": "markdown",
   "metadata": {},
   "source": [
    "Dans la zone de script ci-dessous, faire apparaître le quatrième objet de la liste L1.\n",
    "Attention, le quatrième objet est l'objet de rang ..."
   ]
  },
  {
   "cell_type": "code",
   "execution_count": null,
   "metadata": {},
   "outputs": [],
   "source": []
  },
  {
   "cell_type": "markdown",
   "metadata": {},
   "source": [
    "3° Nombre d'objet d'une liste (ou longueur d'une liste)\n",
    "\n",
    "Une fonction très importante pour le travail sur les listes : la fonction qui permet de compter le nombre d'objets d'une liste, également appelée longueur de la liste.\n",
    "\n",
    "Cette fonction est la fonction len(). Pour faire apparaître la longueur d'un liste appelée L, on écrit :\n",
    "\n",
    "    - len(L)\n",
    "\n",
    "Dans les deux zones de scripts ci-dessous, faire apparaître la longueur des listes L1 et L2."
   ]
  },
  {
   "cell_type": "code",
   "execution_count": null,
   "metadata": {},
   "outputs": [],
   "source": []
  },
  {
   "cell_type": "code",
   "execution_count": null,
   "metadata": {},
   "outputs": [],
   "source": []
  },
  {
   "cell_type": "markdown",
   "metadata": {},
   "source": [
    "4° Ajouter des éléments dans une liste.\n",
    "\n",
    "Pour ajouter un objet en fin de liste on utilise la fonction append(), fonction elle aussi très utilisée dans le travail sur les listes. Si on veut ajouter un objet à la fin d'une liste appelée L, on doit saisir :\n",
    "\n",
    "    - L.append(objet)\n",
    "    \n",
    "Dans la zone de script ci-dessous, ajouter le nombre 37 à la fin de la liste L1. Puis faire apparaître en sortie la \"nouvelle\" liste L1."
   ]
  },
  {
   "cell_type": "code",
   "execution_count": null,
   "metadata": {},
   "outputs": [],
   "source": []
  },
  {
   "cell_type": "markdown",
   "metadata": {},
   "source": [
    "Dans la zone de script ci-dessous, ajouter le caractère \"m\" à la fin de la liste L2. Puis faire apparaître en sortie la \"nouvelle\" liste L2."
   ]
  },
  {
   "cell_type": "code",
   "execution_count": null,
   "metadata": {},
   "outputs": [],
   "source": []
  },
  {
   "cell_type": "markdown",
   "metadata": {},
   "source": [
    "Pour insérer un objet dans une liste à un rang donné, on utilise la fonction insert(). Si on veut rajouter un objet au rang k d'une liste appelée L, on doit saisir :\n",
    "\n",
    "    - L.insert(k,objet)\n",
    "    \n",
    "Dans la zone de script ci-dessous, ajouter le nombre 1 au rang 5 dans la liste L1. Puis faire apparaître en sortie la \"nouvelle\" liste L1."
   ]
  },
  {
   "cell_type": "markdown",
   "metadata": {},
   "source": [
    "5° Supprimer un élément d'une liste\n",
    "\n",
    "Pour supprimer un objet d'une liste on utilise la fonction del(). Si on veut supprimer l'objet de rang k d'une liste appelée L, on doit saisir :\n",
    "\n",
    "    - del(L[k])\n",
    "\n",
    "Dans la zone de script ci-dessous, supprimer la lettre de rang 2 de la liste L2. Puis faire appraître en sortie la \"nouvelle\" liste L2."
   ]
  },
  {
   "cell_type": "code",
   "execution_count": null,
   "metadata": {},
   "outputs": [],
   "source": []
  },
  {
   "cell_type": "markdown",
   "metadata": {},
   "source": [
    "Il existe plusieurs autres fonctions ou astuces qui permettent de travailler sur des listes.\n",
    "\n",
    "Vous trouverez les plus utiles dans le memento \"spécial listes\" situé après cet exercice sur le marcours m@gistère.\n",
    "\n",
    "Mais pour en terminer avec cet exercice, deux petites surprises :\n",
    "\n",
    "Dans la zone de script ci-dessous, saisir L1+L2, puis exécuter."
   ]
  },
  {
   "cell_type": "code",
   "execution_count": null,
   "metadata": {},
   "outputs": [],
   "source": []
  },
  {
   "cell_type": "markdown",
   "metadata": {},
   "source": [
    "Dans la zone de script ci-dessous, saisir L2*2, puis exécuter."
   ]
  },
  {
   "cell_type": "code",
   "execution_count": null,
   "metadata": {},
   "outputs": [],
   "source": []
  }
 ],
 "metadata": {
  "kernelspec": {
   "display_name": "Python 3",
   "language": "python",
   "name": "python3"
  },
  "language_info": {
   "codemirror_mode": {
    "name": "ipython",
    "version": 3
   },
   "file_extension": ".py",
   "mimetype": "text/x-python",
   "name": "python",
   "nbconvert_exporter": "python",
   "pygments_lexer": "ipython3",
   "version": "3.7.4"
  }
 },
 "nbformat": 4,
 "nbformat_minor": 2
}
