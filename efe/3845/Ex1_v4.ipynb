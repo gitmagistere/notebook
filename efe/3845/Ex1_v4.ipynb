{
 "cells": [
  {
   "cell_type": "markdown",
   "metadata": {},
   "source": [
    "## EXERCICE 1 : Premières opérations\n",
    "\n",
    "Dans ce premier exercice, vous allez utiliser python sans vous en rendre compte, à la manière d'une calculatrice.\n",
    "Dans les entrées ci-dessous (cadre gris), tester les commandes suivantes dans l'ordre. Vous cliquerez sur Executer pour observer le résultat qui s'affichera juste sous l'instruction que vous aurez recopiée."
   ]
  },
  {
   "cell_type": "markdown",
   "metadata": {},
   "source": [
    "#QUESTION 1.\n",
    "\n",
    "- 15 + 3\n",
    "\n",
    "Remarque : chaque instruction à recopier sera précédée d'un -\n",
    "Ne le recopier pas, uniquement : 15 + 3"
   ]
  },
  {
   "cell_type": "code",
   "execution_count": null,
   "metadata": {},
   "outputs": [],
   "source": []
  },
  {
   "cell_type": "markdown",
   "metadata": {},
   "source": [
    "#QUESTION 2.\n",
    "\n",
    "- 2 - 17"
   ]
  },
  {
   "cell_type": "code",
   "execution_count": null,
   "metadata": {},
   "outputs": [],
   "source": []
  },
  {
   "cell_type": "markdown",
   "metadata": {},
   "source": [
    "#QUESTION 3\n",
    "\n",
    "- 8 + 3 * 4\n",
    "\n",
    "Remarque : Vous noterez que les priorités sont respectées"
   ]
  },
  {
   "cell_type": "code",
   "execution_count": null,
   "metadata": {},
   "outputs": [],
   "source": []
  },
  {
   "cell_type": "markdown",
   "metadata": {},
   "source": [
    "#QUESTION 4.\n",
    "\n",
    "- (8 + 3) * 4"
   ]
  },
  {
   "cell_type": "code",
   "execution_count": null,
   "metadata": {},
   "outputs": [],
   "source": []
  },
  {
   "cell_type": "markdown",
   "metadata": {},
   "source": [
    "#QUESTION 5.\n",
    "\n",
    "- 20 / 3"
   ]
  },
  {
   "cell_type": "code",
   "execution_count": null,
   "metadata": {},
   "outputs": [],
   "source": []
  },
  {
   "cell_type": "markdown",
   "metadata": {},
   "source": [
    "#QUESTION 6.\n",
    "\n",
    "- 20 // 3\n",
    "\n",
    "Remarque : Quelle est cette opération spéciale ?\n",
    "Testez d'autres valeurs si besoin."
   ]
  },
  {
   "cell_type": "code",
   "execution_count": null,
   "metadata": {},
   "outputs": [],
   "source": []
  },
  {
   "cell_type": "markdown",
   "metadata": {},
   "source": [
    "#QUESTION 7.\n",
    "\n",
    "- 20 % 3\n",
    "\n",
    "Remarque : Quelle est cette opération spéciale ? (pensez à la division, testez d'autres valeurs si besoin)"
   ]
  },
  {
   "cell_type": "code",
   "execution_count": null,
   "metadata": {},
   "outputs": [],
   "source": []
  },
  {
   "cell_type": "markdown",
   "metadata": {},
   "source": [
    "#QUESTION 8.\n",
    "\n",
    "- 3 ** 2\n",
    "\n",
    "Remarque : Quelle est cette opération ?\n",
    "Testez d'autres valeurs si besoin."
   ]
  },
  {
   "cell_type": "code",
   "execution_count": null,
   "metadata": {},
   "outputs": [],
   "source": [
    "3 ** 2"
   ]
  },
  {
   "cell_type": "markdown",
   "metadata": {},
   "source": [
    "#QUESTION 9\n",
    "Comme vous pouvez le constater, les quatres opérations de base (et les priorités) sont fonctionnelles. Vous pouvez faire des essais dans la cellule ci-dessous, n'hésitez pas à tester plusieurs opérations : 46 //3 ; 32*3 ;  3*10**3*0.2*10**(-2) ...."
   ]
  },
  {
   "cell_type": "code",
   "execution_count": null,
   "metadata": {},
   "outputs": [],
   "source": []
  },
  {
   "cell_type": "markdown",
   "metadata": {},
   "source": [
    "#QUESTION 10.\n",
    "\n",
    "- 3 ** 3\n",
    "- 2 + 4"
   ]
  },
  {
   "cell_type": "code",
   "execution_count": null,
   "metadata": {},
   "outputs": [],
   "source": []
  },
  {
   "cell_type": "markdown",
   "metadata": {},
   "source": [
    "Vous remarquez à la question 10 que seul le dernier résultat est affiché.\n",
    "Le calcul \"3 à la puissance 3\" semble n'avoir jamais été réalisé. \n",
    "En fait si, mais Python a effacé le résultat précédent pour afficher le dernier résultat. Il ne peut afficher qu'une seule valeur à la fois, à la manière d'une calculatrice.\n",
    "\n",
    "Voici donc une première instruction essentielle en programmation : print(). Cette instruction permet d'afficher à l'écran (pour l'utilisateur cette fois) ce qui se trouve entre parenthèse, et ainsi de libérer la mémoire de Python et pouvoir afficher deux résultats à la suite à l'écran.\n",
    "\n",
    "#Question 11\n",
    "\n",
    "Recopier les deux instructions ci-dessous : \n",
    "- print(3**3)\n",
    "- print(2+4)\n",
    "\n",
    "REMARQUE : TOUJOURS UNE SEULE INSTRUCTION PAR LIGNE. Appuyer sur Entrée pour rajouter une deuxième instruction."
   ]
  },
  {
   "cell_type": "code",
   "execution_count": null,
   "metadata": {},
   "outputs": [],
   "source": []
  },
  {
   "cell_type": "markdown",
   "metadata": {},
   "source": [
    "Vous avez maintenant terminé cet exercice 1 de prise en main des opérations de base en python ainsi que la prise en main de cette première fonction essentielle print() qui permet d'afficher des informations à l'écran pour l'utilisateur. \n",
    "\n",
    "L'exercice 2 vous permettra maintenant d'apréhender la notion de variable. Bonne continuation à vous !"
   ]
  }
 ],
 "metadata": {
  "kernelspec": {
   "display_name": "Python 3",
   "language": "python",
   "name": "python3"
  },
  "language_info": {
   "codemirror_mode": {
    "name": "ipython",
    "version": 3
   },
   "file_extension": ".py",
   "mimetype": "text/x-python",
   "name": "python",
   "nbconvert_exporter": "python",
   "pygments_lexer": "ipython3",
   "version": "3.7.8"
  }
 },
 "nbformat": 4,
 "nbformat_minor": 4
}
