{
 "cells": [
  {
   "cell_type": "markdown",
   "metadata": {},
   "source": [
    "# EXERCICE 2 : Notion de variables en programmation sur Python\n",
    "\n",
    "Dans ce deuxième exercice, vous allez découvrir ce que sont des variables en Python.\n",
    "Une variable est un symbole qui associe un nom à une valeur. \n",
    "Par exemple : temperature=25\n",
    "Le symbole \"=\" en Python est à considérer comme une affectation et non comme un test d'égalité. Cela signifie que la variable température possède la valeur 25.\n",
    "\n",
    "Il n'y a pas que des nombres (entiers, décimaux) en programmation. Voici les 3 principaux types de variables :\n",
    "- INT : (INTEGER) ou ENTIER en français. cela représente un nombre entier\n",
    "- FLOAT : FLOTTANT en français. Cela représente un nombre décimal. On les différencie des nombres entier car ils utilisent davantage d'espace mémoire.\n",
    "- STRING : CHAINE DE CARACTERE en français. Cela représente une suite de caractères, typiquement un mot ou une phrase\n",
    "\n",
    "Avec Python, et contrairement à d'autres langages de programmation, il n'est pas nécessaire de déclarer au préalable le type de variable : elles sont dynamiquement typées à l'instant de leur première utilisation. Pour vérifier le type de variable, on peut utiliser l'instruction \"type(a)\" qui renvoie le type de la variable a.\n",
    "\n",
    "CONSIGNE : Recopier (ou copier/coller) les instructions de chaque question comme indiqué, puis cliquer sur Exécuter (bouton exécuter/lecture en haut), afin de vous familiariser avec les différents types de variables."
   ]
  },
  {
   "cell_type": "markdown",
   "metadata": {},
   "source": [
    "# Question 1. \n",
    "\n",
    "- a = 3\n",
    "- print(type(a))\n",
    "\n",
    "Remarques : Le symbole \"=\" en Python est à considérer comme une affectation. \n",
    "Ici, il s'agit d'affecter la valeur 3 (entier) à la variable a. \n",
    "Pour résumer, \"=\" en langage Python ne correspond pas au = utilisé normalement dans nos relations entre grandeurs physiques.\n",
    "La fonction type() renvoie le type de la variable b, puis la fonction print affiche ce qu'à renvoyé type() à l'écran."
   ]
  },
  {
   "cell_type": "code",
   "execution_count": null,
   "metadata": {},
   "outputs": [],
   "source": []
  },
  {
   "cell_type": "markdown",
   "metadata": {},
   "source": [
    "# Question 2. \n",
    "\n",
    "- b=5.5\n",
    "- print(type(b))\n",
    "- print(b)\n",
    "\n",
    "Remarques : On affecte la valeur décimale 5,5 à la variable b. \n",
    "Attention, Python utilise des conventions anglosaxonnes pour les nombres décimaux. \n",
    "Le point sera donc utilisé pour séparer unité et dixième.\n"
   ]
  },
  {
   "cell_type": "code",
   "execution_count": null,
   "metadata": {},
   "outputs": [],
   "source": []
  },
  {
   "cell_type": "markdown",
   "metadata": {},
   "source": [
    "# Question 3.\n",
    "\n",
    "- c='47'\n",
    "- print(type(c))\n",
    "- print('la valeur de c est',c)\n",
    "\n",
    "\n",
    "Remarques : \n",
    "Les ' ' indiquent la présence d'une chaine de caractères à l'intérieur, Python affecte donc automatiquement le type STRING.\n",
    "La fonction print() sert à afficher et s'utilise ainsi : print(' ',c)\n",
    "On affiche différents commentaires textes entre guillemets, puis la variable (ici c) en les séparant par des virgules. La virgule permet de séparer deux éléments différents en langage Python."
   ]
  },
  {
   "cell_type": "code",
   "execution_count": null,
   "metadata": {},
   "outputs": [],
   "source": []
  },
  {
   "cell_type": "markdown",
   "metadata": {},
   "source": [
    "# Question 4.\n",
    "\n",
    "- d='bonjour !'\n",
    "- print(type(d))\n",
    "- print(d,'Mon nom est Python.')\n",
    "\n",
    "Remarque (#) : Ici, la fonction type() vous affiche le type de la variable d, puis la fonction print vous affiche le contenu de cette variable ainsi que le texte entre guillemets."
   ]
  },
  {
   "cell_type": "code",
   "execution_count": null,
   "metadata": {},
   "outputs": [],
   "source": [
    "\n"
   ]
  },
  {
   "cell_type": "markdown",
   "metadata": {},
   "source": [
    "Il est bien sur possible de réaliser des opérations avec ces variables, exactement comme vous l'avez fait dans l'exercice 1.\n",
    "Taper les instructions de chaque question comme indiqué afin de vous familiariser avec ces opérations :"
   ]
  },
  {
   "cell_type": "markdown",
   "metadata": {},
   "source": [
    "# Question 5.\n",
    "\n",
    "- a = 3\n",
    "- b = 5.5\n",
    "- print(a+b)\n",
    "\n",
    "#ici Python affiche à l'écran le résultat de cette addition"
   ]
  },
  {
   "cell_type": "code",
   "execution_count": null,
   "metadata": {},
   "outputs": [],
   "source": []
  },
  {
   "cell_type": "markdown",
   "metadata": {},
   "source": [
    "# Question 6.\n",
    "\n",
    "- a = 3\n",
    "- b = 5.5\n",
    "- resultat=a+b\n",
    "- print('la valeur de a + b est',resultat)\n",
    "\n",
    "\n",
    "#ici le programme affecte le résultat de l'addition a+b à la variable resultat puis affiche le résultat sous la forme d'une phrase.\n",
    "On peut aussi simplifier en remplacant la variable resultat directement par a+b, et ainsi supprimmer la ligne d'affectation resultat=a+b."
   ]
  },
  {
   "cell_type": "code",
   "execution_count": null,
   "metadata": {},
   "outputs": [],
   "source": []
  },
  {
   "cell_type": "markdown",
   "metadata": {},
   "source": [
    "# Question 7.\n",
    "\n",
    "- c='47'\n",
    "- d='bonjour !'\n",
    "- resultat = c+d\n",
    "- print('la valeur de c+d est',resultat)\n",
    "\n",
    "#lorsque vous ajoutez deux chaines de caractères, Python concatène (regroupe) les deux variables"
   ]
  },
  {
   "cell_type": "code",
   "execution_count": null,
   "metadata": {},
   "outputs": [],
   "source": []
  },
  {
   "cell_type": "markdown",
   "metadata": {},
   "source": [
    "# Question 8.\n",
    "\n",
    "- a = 3\n",
    "- c='47'\n",
    "- print(a+c)\n",
    "\n",
    "#Vous remarquez ici qu'une erreur apparait. \n",
    "C'est normal puisque vous tentez d'additioner deux types de variables différentes. \n",
    "Ici un entier (3) et une chaine de caractères(47). \n",
    "\n",
    "Avec Python, vous ne pouvez mélanger un nombre (INT ou FLOAT) et une chaine de caractères (STRING). \n",
    "C'est important de comprendre que '47' et 47 ne sont pas interprétés de la même manière par Python. Dans le premier cas '47', c'est une chaine de caractère et dans le deuxième cas 47, c'est un entier."
   ]
  },
  {
   "cell_type": "code",
   "execution_count": null,
   "metadata": {},
   "outputs": [],
   "source": []
  },
  {
   "cell_type": "markdown",
   "metadata": {},
   "source": [
    "Les noms de variables doivent toujours commencer par une lettre. \n",
    "Pour vos futurs programmes, n'hésitez pas à employer des noms de variables évocateurs comme Energiecinétique, Tension, Vitesse, Température, x, y ...\n",
    "Ce sera plus clair pour tout le monde, même si c'est un peu plus long. "
   ]
  },
  {
   "cell_type": "markdown",
   "metadata": {},
   "source": [
    "# Question 9. (et dernière ...)\n",
    "\n",
    "Une dernière question pour faire le bilan de cet exercice.\n",
    "Ecrire, dans le cadre ci-dessous, un programme qui :\n",
    "- affecte la valeur 5 à la variable x\n",
    "- affecte la valeur 12 à la variable y\n",
    "- additionne les variables x et y et affecte le résultat dans la variable resultat\n",
    "- Affiche le résultat sous la forme \"la valeur de x + y est : resultat \" (resultat étant la valeur)\n",
    "- Affiche le texte 'Bien joué !'\n",
    "\n",
    "Pour aller plus loin : Vous pourrez rechercher un moyen de simplifier ce programme en supprimmant une ligne."
   ]
  },
  {
   "cell_type": "code",
   "execution_count": null,
   "metadata": {},
   "outputs": [],
   "source": []
  },
  {
   "cell_type": "markdown",
   "metadata": {},
   "source": [
    "Vous avez maintenant terminé cet exercice 2 sur les types de variables et les opérations de base.\n",
    "Vous avez aussi dévouvert une nouvelle instruction : type().\n",
    "\n",
    "Vous en verrez d'autres au fur et à mesure du déroulement du parcours.\n",
    "L'exercice 3 vous permettra d'apréhender la notion de répétition dans un programme. \n",
    "Bonne continuation à vous !"
   ]
  }
 ],
 "metadata": {
  "kernelspec": {
   "display_name": "Python 3",
   "language": "python",
   "name": "python3"
  },
  "language_info": {
   "codemirror_mode": {
    "name": "ipython",
    "version": 3
   },
   "file_extension": ".py",
   "mimetype": "text/x-python",
   "name": "python",
   "nbconvert_exporter": "python",
   "pygments_lexer": "ipython3",
   "version": "3.7.8"
  }
 },
 "nbformat": 4,
 "nbformat_minor": 4
}
