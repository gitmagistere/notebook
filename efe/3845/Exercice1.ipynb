{
 "cells": [
  {
   "cell_type": "markdown",
   "metadata": {},
   "source": [
    "# EXERCICE 1 : Premières opérations"
   ]
  },
  {
   "cell_type": "markdown",
   "metadata": {},
   "source": [
    "Dans ce premier exercice, vous allez utiliser python sans vous en rendre compte, à la manière d'une calculatrice"
    "\n"
    "Dans l'entrée ci-dessous (cadre gris), tester les commandes suivantes dans l'ordre. Vous cliquerez sur Executer pour observer le résultat.\n",
    "\n",
    
    
   ]
  },
{
   "cell_type": "markdown",
   "metadata": {},
   "source": [
    " 15 + 3 "
   ]
  },
  {
   "cell_type": "code",
   "execution_count": 0,
   "metadata": {},
   "outputs": [],
   "source": []
  },
{
   "cell_type": "markdown",
   "metadata": {},
   "source": [
    " 2 - 17 "
   ]
  },
  {
   "cell_type": "code",
   "execution_count": null,
   "metadata": {},
   "outputs": [],
   "source": []
  },
{
   "cell_type": "markdown",
   "metadata": {},
   "source": [
    " 8 + 3 * 4 #Vous noterez le respect des priorités"
   ]
  },
  {
   "cell_type": "code",
   "execution_count": null,
   "metadata": {},
   "outputs": [],
   "source": []
  },
{
   "cell_type": "markdown",
   "metadata": {},
   "source": [
    " ( 8 + 3 ) * 4 #Vous noterez le respect des priorités"
   ]
  },
{
   "cell_type": "code",
   "execution_count": null,
   "metadata": {},
   "outputs": [],
   "source": []
  },
{
   "cell_type": "markdown",
   "metadata": {},
   "source": [
    " 20 / 3 "
   ]
  },
{
   "cell_type": "code",
   "execution_count": null,
   "metadata": {},
   "outputs": [],
   "source": []
  },
{
   "cell_type": "markdown",
   "metadata": {},
   "source": [
    " 20 // 3 #quelle est cette opération spéciale ?"
   ]
  },
{
   "cell_type": "code",
   "execution_count": null,
   "metadata": {},
   "outputs": [],
   "source": []
  },
{
   "cell_type": "markdown",
   "metadata": {},
   "source": [
    " 20 % 3 #quelle est cette opération spéciale ?"
   ]
  },
{
   "cell_type": "code",
   "execution_count": null,
   "metadata": {},
   "outputs": [],
   "source": []
  },
{
   "cell_type": "markdown",
   "metadata": {},
   "source": [
    " 3**3 #quelle est cette opération spéciale ?"
   ]
  },
{
   "cell_type": "code",
   "execution_count": null,
   "metadata": {},
   "outputs": [],
   "source": []
  },

  {
   "cell_type": "markdown",
   "metadata": {},
   "source": [
    "Comme vous pouvez le constater, l'interpréteur python, qui se charge d'effectuer les opérations, respecte les priorités de calcul et peut utiliser un codage spécifique : % ** etc."
   ]
  },

