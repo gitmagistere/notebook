{
 "cells": [
  {
   "cell_type": "markdown",
   "metadata": {},
   "source": [
    "## Série d'exercices n°2\n",
    "\n",
    "Quelques exercices autour de la notion de listes. N'hésitez pas à consulter le mémento \"spécial listes\" déposé sur le parcours...\n",
    "\n",
    "Certains de ces exercices peuvent être donnés à vos élèves."
   ]
  },
  {
   "cell_type": "markdown",
   "metadata": {},
   "source": [
    "## Exercice 1\n",
    "\n",
    "Écrire une fonction appelée \"echanger\" qui prend comme arguments une liste et deux indices et qui échange les deux éléments correspondants. \n",
    "\n",
    "Par exemple, echanger ([ 1, 2, 5, 8 ], 0, 3) devra retourner [ 8, 2, 5, 1 ]. \n",
    "\n",
    "On supposera que les deux indices donnés sont valides (dans le cas contraire, l’appel de cette fonction engendrera une erreur)."
   ]
  },
  {
   "cell_type": "code",
   "execution_count": null,
   "metadata": {},
   "outputs": [],
   "source": []
  },
  {
   "cell_type": "markdown",
   "metadata": {},
   "source": [
    "## Exercice 2\n",
    "\n",
    "En utilisant la fonction \"echanger\" de l'exercice précédent, écrire une fonction appelée \"inverser\" qui prend comme argument une liste et renvoie la liste inversée (le 1er élément est devenu le dernier, le 2e l’avant-dernier, etc.).\n"
   ]
  },
  {
   "cell_type": "code",
   "execution_count": null,
   "metadata": {},
   "outputs": [],
   "source": []
  },
  {
   "cell_type": "markdown",
   "metadata": {},
   "source": [
    "## Exercice 3\n",
    "\n",
    "Écrire une fonction appelée \"moyenne\" qui prend comme argument une liste non vide de nombres et renvoie la moyenne des éléments de cette liste."
   ]
  },
  {
   "cell_type": "code",
   "execution_count": null,
   "metadata": {},
   "outputs": [],
   "source": []
  },
  {
   "cell_type": "markdown",
   "metadata": {},
   "source": [
    "## Exercice 4\n",
    "\n",
    "Écrire une fonction appelée \"maximum\" qui prend comme argument une liste non vide de nombres et renvoie la valeur maximale de cette liste."
   ]
  },
  {
   "cell_type": "code",
   "execution_count": null,
   "metadata": {},
   "outputs": [],
   "source": []
  },
  {
   "cell_type": "markdown",
   "metadata": {},
   "source": [
    "## Exercice 5\n",
    "\n",
    "Écrire une fonction appelée \"indiceMinimum\" qui prend comme argument une liste non vide de nombres et renvoie l’indice de la valeur minimale de cette liste."
   ]
  },
  {
   "cell_type": "code",
   "execution_count": null,
   "metadata": {},
   "outputs": [],
   "source": []
  },
  {
   "cell_type": "markdown",
   "metadata": {},
   "source": [
    "## Exercice 6\n",
    "\n",
    "Écrire une fonction appelée \"triListe\" qui prend comme argument une liste de nombres et renvoie une liste triée par ordre croissant contenant les mêmes éléments. \n",
    "\n",
    "Aide : pour cette fonction on pourrait procéder de la façon suivante : \n",
    "\n",
    "(1) recopie de la liste argument dans une liste de travail LT et initialisation de la liste résultat LR à vide \n",
    "\n",
    "(2) tant que la liste LT n’est pas vide, rechercher l’indice de la valeur minimale, rajouter l’élément correspondant en fin de LR, puis supprimer cet élément de LT. \n",
    "    \n",
    "On pourra utiliser la fonction indiceMinimum précédemment définie dans l'exercice précédent."
   ]
  },
  {
   "cell_type": "code",
   "execution_count": null,
   "metadata": {},
   "outputs": [],
   "source": []
  },
  {
   "cell_type": "markdown",
   "metadata": {},
   "source": [
    "## Exercice 7\n",
    "\n",
    "Écrire une fonction appelée \"ecartType\" qui prend comme argument une série statistique sous forme d’une liste non vide de nombres et renvoie l'écart-type de cette série (par exemple, ecartType([1, 3, 5, 7, 9]) doit renvoyer 2.8284271247461903).\n",
    "\n",
    "On pourra utiliser la fonction moyenne précédemment définie à l'exercice 3"
   ]
  },
  {
   "cell_type": "code",
   "execution_count": null,
   "metadata": {},
   "outputs": [],
   "source": []
  },
  {
   "cell_type": "markdown",
   "metadata": {},
   "source": [
    "## Exercice 8\n",
    "\n",
    "Écrire une fonction appelée \"mediane\" qui prend comme argument une liste non vide de nombres et renvoie la valeur médiane de cette liste. \n",
    "\n",
    "On pourra utiliser la fonction triListe précédemment définie à l'exercice 6"
   ]
  },
  {
   "cell_type": "code",
   "execution_count": null,
   "metadata": {},
   "outputs": [],
   "source": []
  },
  {
   "cell_type": "markdown",
   "metadata": {},
   "source": [
    "## Exercice 9\n",
    "\n",
    "Écrire une fonction appelée \"pairImpair\" qui prend comme argument une liste de nombres entiers et renvoie deux listes : la première liste contient les nombres pairs, la seconde les nombres impairs."
   ]
  },
  {
   "cell_type": "code",
   "execution_count": null,
   "metadata": {},
   "outputs": [],
   "source": []
  },
  {
   "cell_type": "markdown",
   "metadata": {},
   "source": [
    "## Exercice 10\n",
    "\n",
    "Écrire une fonction appelée \"moinsDeSix\" qui prend comme argument une liste de mots (chaînes de caractères) et renvoie deux listes : la première contient les mots de moins de six lettres, la seconde les mots de six lettres ou plus. \n",
    "\n",
    "Une petite aide : si m est une chaîne de caractères, len(m) renvoie le nombre de caractères de la chaîne m."
   ]
  },
  {
   "cell_type": "code",
   "execution_count": null,
   "metadata": {},
   "outputs": [],
   "source": []
  },
  {
   "cell_type": "markdown",
   "metadata": {},
   "source": [
    "## Exercice 11\n",
    "\n",
    "Écrire une fonction appelée \"palindrome\" qui prend comme argument une liste et qui vérifie si cette liste est un palindrome (par exemple, les listes [ 1, 3, 5, 3, 1 ] et [ ‘r’, ‘a’, ‘d’, ‘a’, ‘r’ ] sont des palindromes alors que les listes [ 1, 2 ] et [ ‘a’, ‘b’, ‘b’ ] n’en sont pas). \n",
    "\n",
    "La valeur renvoyée sera donc True ou False.\n",
    "\n",
    "Vérifiez que la fonction palindrome peut être utilisée avec des listes d’entiers ou des listes de caractères (en fait, quel que soit le type des éléments de la liste). \n",
    "\n",
    "Note : il est possible de transformer une chaîne de caractères en liste de caractères, en écrivant L = list('python') ; la liste L vaut alors [ ‘p’, ‘y’, ‘t’, ‘h’, ‘o’, ‘n’ ]."
   ]
  },
  {
   "cell_type": "code",
   "execution_count": null,
   "metadata": {},
   "outputs": [],
   "source": []
  }
 ],
 "metadata": {
  "kernelspec": {
   "display_name": "Python 3",
   "language": "python",
   "name": "python3"
  },
  "language_info": {
   "codemirror_mode": {
    "name": "ipython",
    "version": 3
   },
   "file_extension": ".py",
   "mimetype": "text/x-python",
   "name": "python",
   "nbconvert_exporter": "python",
   "pygments_lexer": "ipython3",
   "version": "3.7.4"
  }
 },
 "nbformat": 4,
 "nbformat_minor": 2
}
