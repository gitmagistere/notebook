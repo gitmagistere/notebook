{
 "cells": [
  {
   "cell_type": "markdown",
   "metadata": {},
   "source": [
    "## Exercice 9 : compléments sur les listes, utiles en mathématiques."
   ]
  },
  {
   "cell_type": "markdown",
   "metadata": {},
   "source": [
    "Dans l'exercice 8, vous avez découvert une manière de créer une liste : on saisit chaque objet de la liste, on ajoute des objets, on supprime des objets .... Cette manière de créer une liste est appelée \"en extension\".\n",
    "\n",
    "Il existe une autre manière de créer une liste fort utile en mathématiques : \"en compréhension\".\n",
    "Pour cela on utilise à l'intérieur de la liste la boucle bornée for.\n",
    "\n",
    "Un premier exemple : on souhaite créer une liste appelée L1 qui contient les 20 premiers entiers naturels. La saisir \"en extension\" prendrait pas mal de temps. Et encore, 20 est un nombre raisonnable...\n",
    "\n",
    "Voici comment on peut procéder \"en compréhension\" :\n",
    "\n",
    "    - L1=[n for n in range(20)]\n",
    "\n",
    "Facile non ! Mais est-ce que ça marche ?\n",
    "\n",
    "Dans la zone de saisie ci-dessous, saisir cette instruction sur la première ligne, saisir le nim de la liste sur la deuxième ligne, puis exécuter."
   ]
  },
  {
   "cell_type": "code",
   "execution_count": null,
   "metadata": {},
   "outputs": [],
   "source": []
  },
  {
   "cell_type": "markdown",
   "metadata": {},
   "source": [
    "Un second exemple :\n",
    "\n",
    "On considère la fonction affine f(x)=-3x+1.\n",
    "\n",
    "On peut dans une liste appelée L2 afficher par exemple les images de 3, 4, 5, 6, 7 par la fonction f en saisissant :\n",
    "\n",
    "    - L2=[-3*x+1 for x in range(3,8)]\n",
    "\n",
    "Utiliser la zone de saisie ci-dessous pour faire apparaître cette liste d'images en sortie"
   ]
  },
  {
   "cell_type": "code",
   "execution_count": null,
   "metadata": {},
   "outputs": [],
   "source": []
  },
  {
   "cell_type": "markdown",
   "metadata": {},
   "source": [
    "Un troisième exemple :\n",
    "\n",
    "On souhaite simuler 15 lancers d'un dé à six faces, et stocker les résultats de cette simulation dans une liste appelée L3.\n",
    "\n",
    "On peut procéder ainsi :\n",
    "\n",
    "    - from random import*\n",
    "    - L3=[randint(1,6) for k in range (15)]\n",
    "\n",
    "Utiliser la zone de saisie ci-dessous pour faire apparaître cette liste en sortie.\n"
   ]
  },
  {
   "cell_type": "code",
   "execution_count": null,
   "metadata": {},
   "outputs": [],
   "source": []
  },
  {
   "cell_type": "markdown",
   "metadata": {},
   "source": [
    "Sans aide maintenant :\n",
    "\n",
    "Dans la zone de saisie ci-dessous, écrire un script qui permettent de faire apparaître dans une liste les carrés parfaits compris entre 100 et 1 000.\n"
   ]
  },
  {
   "cell_type": "code",
   "execution_count": null,
   "metadata": {},
   "outputs": [],
   "source": []
  },
  {
   "cell_type": "markdown",
   "metadata": {},
   "source": [
    "Dans zone de saisie ci-dessous, écrire une fonction premiers_termes d'argument n et qui renvoie une liste contenant les n premiers termes de la suite numérique de terme général u(n)=(2n-1)/(n+2).\n",
    "Puis utiliser la fonction ainsi créee pour plusieurs valeurs de n."
   ]
  },
  {
   "cell_type": "code",
   "execution_count": null,
   "metadata": {},
   "outputs": [],
   "source": []
  },
  {
   "cell_type": "code",
   "execution_count": null,
   "metadata": {},
   "outputs": [],
   "source": []
  },
  {
   "cell_type": "markdown",
   "metadata": {},
   "source": [
    "Nombre d'occurences d'un objet dans une liste.\n",
    "\n",
    "On considère la liste : L6=[3,5,1,3,3,8,8,5,3,0,1]\n",
    "\n",
    "Pour déterminer le nombre d'occurences de l'objet 3 dans la liste, c'est à dire le nombre de fois où l'objet 3 apparaît dans la liste, on utilise la fonction count(). On doit ici effectuer la saisie :\n",
    "\n",
    "    - L6.count(3)\n",
    "    \n",
    "Dans la zone de saisie ci-dessous, tester cette nouvelle fonction count() pour cette liste."
   ]
  },
  {
   "cell_type": "code",
   "execution_count": null,
   "metadata": {},
   "outputs": [],
   "source": []
  },
  {
   "cell_type": "markdown",
   "metadata": {},
   "source": [
    "Une utilisation de la fonction count() :\n",
    "\n",
    "Dans la zone de saisie ci-dessous, écrire une fonction frequence_6 d'argument n qui renvoie la fréquence d'apparition de la face 6 lors de n lancers d'un dé à six faces. Puis utiliser cette fonction pour des valeurs de n de plus en plus grandes."
   ]
  },
  {
   "cell_type": "code",
   "execution_count": null,
   "metadata": {},
   "outputs": [],
   "source": []
  },
  {
   "cell_type": "code",
   "execution_count": null,
   "metadata": {},
   "outputs": [],
   "source": []
  },
  {
   "cell_type": "markdown",
   "metadata": {},
   "source": [
    "Un exemple sur les chaînes de caractères.\n",
    "\n",
    "Dans la zone de saisie ci-dessous, saisir l'instruction :\n",
    "\n",
    "    - L8=list(\"ma liste\")\n",
    "    \n",
    "Et faire apparaître en sortie la liste L8. Surprenant non ?\n"
   ]
  },
  {
   "cell_type": "code",
   "execution_count": null,
   "metadata": {},
   "outputs": [],
   "source": []
  },
  {
   "cell_type": "markdown",
   "metadata": {},
   "source": [
    "Dans la zone de saisie ci-dessous, écrire un script qui compte le nombre de \"e\" dans la phrase \"les listes sont fantastiques\"."
   ]
  },
  {
   "cell_type": "code",
   "execution_count": null,
   "metadata": {},
   "outputs": [],
   "source": []
  }
 ],
 "metadata": {
  "kernelspec": {
   "display_name": "Python 3",
   "language": "python",
   "name": "python3"
  },
  "language_info": {
   "codemirror_mode": {
    "name": "ipython",
    "version": 3
   },
   "file_extension": ".py",
   "mimetype": "text/x-python",
   "name": "python",
   "nbconvert_exporter": "python",
   "pygments_lexer": "ipython3",
   "version": "3.7.4"
  }
 },
 "nbformat": 4,
 "nbformat_minor": 2
}
