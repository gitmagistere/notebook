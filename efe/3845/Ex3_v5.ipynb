{
 "cells": [
  {
   "cell_type": "markdown",
   "metadata": {},
   "source": [
    "# Exercice 3 Comment réaliser des tâches répétitives avec Python ?\n",
    "\n",
    "Si on veut exécuter plusieurs fois une commande, on utilise des répétitions automatisées ou boucles. \n",
    "\n",
    "Pour information, Python à l'habitude (mauvaise on vous l'accorde) de compter à partir de 0 (et pas 1 comme on peut le faire naturellement)\n",
    "Si python devait compter les doigts de sa main droite (qu'il n'a pas, bien entendu), il dirait : 0, 1, 2, 3, 4 : J'ai 4 doigts ! Mais pour lui le nombre 4 signifie qu'il a ajouté 5 unités puisqu'il démarre à 0 et non à 1.\n",
    "\n",
    "# l'instruction for i in range()\n",
    "Executer le programme suivant : (Inutile de le recopier, c'est déjà fait, executer juste ce programme)"
   ]
  },
  {
   "cell_type": "code",
   "execution_count": null,
   "metadata": {
    "scrolled": true
   },
   "outputs": [],
   "source": [
    "for i in range(5):\n",
    "    print(\"Bonjour Monsieur!\")\n",
    "    print(\"Bonjour. Va vite t’installer tu es en retard.\")\n",
    "print(\"Au revoir !\")"
   ]
  },
  {
   "cell_type": "markdown",
   "metadata": {},
   "source": [
    "L'indentation (le décalage vers la droite) des deux lignes print(\"bonjour[...]\") fait partie de la syntaxe en python. \n",
    "Elle permet d'indiquer à Python ce qui doit être répété, ce qui est dans la boucle. \n",
    "On peut l'ajouter en utilisant la touche tabulation du clavier.\n",
    "Les : sont indispensables afin d'indiquer à Python le début de la boucle.\n",
    "\n",
    "Vous remarquerez que la fonction print(\"au revoir !\") n'est pas répétée car située en dehors de la boucle, il n'y a pas d'indentation (décalage) sur la gauche.\n",
    "\n",
    "Observer les deux programmes ci-dessous et comparer les résultats obtenus une fois executés :"
   ]
  },
  {
   "cell_type": "code",
   "execution_count": null,
   "metadata": {
    "scrolled": true
   },
   "outputs": [],
   "source": [
    "# programme 1\n",
    "\n",
    "for i in range(3):\n",
    "    print(\"Hello\")\n",
    "    print(\"The End\")"
   ]
  },
  {
   "cell_type": "code",
   "execution_count": null,
   "metadata": {},
   "outputs": [],
   "source": [
    "# programme 2\n",
    "\n",
    "for i in range(6):\n",
    "    print(\"Bonjour\")\n",
    "print(\"Fin\")"
   ]
  },
  {
   "cell_type": "markdown",
   "metadata": {},
   "source": [
    "Le i est ici une variable dont la valeur va changer à chaque itération (=répétition) de la boucle. \n",
    "i vaut 0 avant de commencer et s'incrémente (=augmente) de 1 à chaque itération jusqu'à ce que la valeur de i soit égale au chiffre indiqué dans range().\n",
    "\n",
    "le symbole # est très important car il permet d'écrire des commentaires au sein du programme.\n",
    "Ces commentaires ne seront pas traités par Python, mais permettront à un être humain de comprendre chaque étape du programme.\n",
    "\n",
    "\n",
    "Observez le programme ci-dessous, i est un entier, démarre à 0 et va jusqu'à 9 soit dix exécutions de la boucle.\n",
    "Executez le pour observer le résultat."
   ]
  },
  {
   "cell_type": "code",
   "execution_count": null,
   "metadata": {
    "scrolled": true
   },
   "outputs": [],
   "source": [
    "print(\"début\")      #affiche le mot début à l'écran\n",
    "for i in range(10): #met en place une boucle sui se répétera 10 fois\n",
    "    print(i)        #affiche la valeur de i à l'écran\n",
    "print(\"fin\")        #affiche le mot fin à l'écran"
   ]
  },
  {
   "cell_type": "markdown",
   "metadata": {},
   "source": [
    "Le programme ci-dessus permet ainsi de visualiser la valeur de la variable i augmenter à chaque itération\n",
    "Vous noterez les commentaires à chaque instruction, indispensables pour un être humain, mais inutiles pour Python."
   ]
  },
  {
   "cell_type": "markdown",
   "metadata": {},
   "source": [
    "# Question 1\n",
    "Vous écrirez le programme qui permet d'afficher à 10 reprises le message \"Je recopie 10 fois la même chose car je suis puni\""
   ]
  },
  {
   "cell_type": "code",
   "execution_count": null,
   "metadata": {},
   "outputs": [],
   "source": []
  },
  {
   "cell_type": "markdown",
   "metadata": {},
   "source": [
    "# Question 2\n",
    "\n",
    "L'opérateur += est un opérateur à la fois d'addition(+) et d'affectation (=).\n",
    "\n",
    "RAPPEL :  = est un symbole d'affectation et pas une égalité ! \n",
    "\n",
    "En écrivant a+=1, Python ajoute la valeur 1 à la valeur contenue dans la variable a et affecte le résultat à a.\n",
    "\n",
    "Autrement dit, la variable a vaut maintenant 1 de plus que l'ancienne variable a avant cette instruction.\n",
    "\n",
    "\n",
    "Essayez de prévoir ce que va afficher le programme suivant avant de l'exécuter."
   ]
  },
  {
   "cell_type": "code",
   "execution_count": null,
   "metadata": {
    "scrolled": true
   },
   "outputs": [],
   "source": [
    "somme = 0            #affecte la valeur 0 à la variable somme\n",
    "for i in range(4) :  #Met en place une boucle de 4 répétitions\n",
    "    somme+=i         #incrémene la valeur de la variable somme de la valeur de i\n",
    "print(somme)         #affiche à l'écran la valeur finale de la variable somme"
   ]
  },
  {
   "cell_type": "markdown",
   "metadata": {},
   "source": [
    "Rappelez-vous que Python compte toujours à partir de 0. \n",
    "i vaut donc 0 à la première itération, puis 1, 2 et enfin 3 à la quatrième itération.\n",
    "\n",
    "Ce qui donne une somme de 0 (affectatin initiale) + 0 (1ere boucle, i=0) + 1 (2e boucle, i=1) + 2 (3e boucle, i=2) + 3 (4e boucle, i=3) soit 6."
   ]
  },
  {
   "cell_type": "markdown",
   "metadata": {},
   "source": [
    "# Question 3 - très facile\n",
    "Modifier le programme ci-dessous afin qu'il affiche non pas la valeur finale mais toutes les valeurs de la variable somme à chaque itération. soit : 0 1 3 6"
   ]
  },
  {
   "cell_type": "code",
   "execution_count": null,
   "metadata": {
    "scrolled": true
   },
   "outputs": [],
   "source": [
    "somme = 0            #affecte la valeur 0 à la variable somme\n",
    "for i in range(4) :  #Met en place une boucle de 4 répétitions\n",
    "    somme+=i         #incrémene la valeur de la variable somme de la valeur de i\n",
    "print(somme)         #affiche à l'écran la valeur de la variable somme"
   ]
  },
  {
   "cell_type": "markdown",
   "metadata": {},
   "source": [
    "AIDE : Il faut ici uniquement ajouter une indentation (=décalage) afin que la fonction print soit incluse dans la boucle."
   ]
  },
  {
   "cell_type": "markdown",
   "metadata": {},
   "source": [
    "# Question 4 - plus délicat\n",
    "Modifier et compléter le programme ci-dessous afin d'afficher, pour chaque entier entre 0 et 5, la valeur de son carré. \n",
    "Autrement dit ce programme doit afficher : \n",
    "0\n",
    "1\n",
    "4\n",
    "9\n",
    "16\n",
    "25"
   ]
  },
  {
   "cell_type": "code",
   "execution_count": null,
   "metadata": {
    "scrolled": true
   },
   "outputs": [],
   "source": [
    "for i in range() :\n",
    "print(i**2)"
   ]
  },
  {
   "cell_type": "markdown",
   "metadata": {},
   "source": [
    "AIDE : C'est encore une histoire d'indentation (décalage vers la droite afin d'inclure l'instruction dans la boucle).\n",
    "Il faut également indiquer à Python le nombre d'itération à réaliser !"
   ]
  },
  {
   "cell_type": "markdown",
   "metadata": {},
   "source": [
    "# l'instruction while  :\n",
    "La boucle utilisant un \"for\" est pratique lorsque l'on connait à l'avance le nombre d'itérations. \n",
    "Si ce n'est pas le cas, on utilise une boucle conditionnelle qui s'écrit avec un \"while\" (en français : tant que).\n",
    "Observer l'exécution de l'exemple ci-dessous :"
   ]
  },
  {
   "cell_type": "code",
   "execution_count": null,
   "metadata": {
    "scrolled": true
   },
   "outputs": [],
   "source": [
    "i=0            #initialise i à 0\n",
    "while i < 6 :  #ouvre la boucle qui s'éxecutera tant que i<6  (strictement inférieur)\n",
    "    print(i)   #affiche à l'écran la valeur de i\n",
    "    i+=1       #incrémente i de 1\n",
    "print('FINI')  #affiche à l'écran le texte FINI"
   ]
  },
  {
   "cell_type": "markdown",
   "metadata": {},
   "source": [
    "Ici, on créé une boucle dont on ne connait pas à l'avance le nombre d'itérations. La sortie de la boucle se fera selon la condition indiquée : dès que i n'est plus strictement inférieur à 6.\n",
    "\n",
    "Il est bien entendu possible d'utiliser d'autres critères pour sortir d'une boucle, c'est d'ailleurs tout l'intérêt : appui sur une touche, atteinte d'une certaine valeur, autre événement..."
   ]
  },
  {
   "cell_type": "markdown",
   "metadata": {},
   "source": [
    "# Question 5\n",
    "Complétez et corriger ce programme qui doit afficher la même chose qu'à la question 4 :\n",
    "0\n",
    "1\n",
    "4\n",
    "9\n",
    "16\n",
    "25\n",
    "\n",
    "La fonction while est bien entendu à conserver !"
   ]
  },
  {
   "cell_type": "code",
   "execution_count": null,
   "metadata": {
    "scrolled": true
   },
   "outputs": [],
   "source": [
    "i=0              #Affecte la valeur 0 à la variable i\n",
    "while i<  :      #ouvre la boucle tant que i< ...  \n",
    "    print(i**2)  #affiche à l'écran i au carré \n",
    "    i + 1        #incrémente i de 1 "
   ]
  },
  {
   "cell_type": "markdown",
   "metadata": {},
   "source": [
    "AIDE : Il manque la condition de sortie de la boucle, la fonction print et un opérateur.\n",
    "\n",
    "Vous avez maintenant terminé tous les exercices asynchrones.\n",
    "Il reste un dernier quizz à réaliser juste en dessous.\n",
    "\n",
    "Ensuite, vous retrouverez dans les pages suivantes un résumé de ce que vous avez appris au cours de ces 3 exercices et plus encore !"
   ]
  }
 ],
 "metadata": {
  "kernelspec": {
   "display_name": "Python 3",
   "language": "python",
   "name": "python3"
  },
  "language_info": {
   "codemirror_mode": {
    "name": "ipython",
    "version": 3
   },
   "file_extension": ".py",
   "mimetype": "text/x-python",
   "name": "python",
   "nbconvert_exporter": "python",
   "pygments_lexer": "ipython3",
   "version": "3.7.8"
  },
  "varInspector": {
   "cols": {
    "lenName": 16,
    "lenType": 16,
    "lenVar": 40
   },
   "kernels_config": {
    "python": {
     "delete_cmd_postfix": "",
     "delete_cmd_prefix": "del ",
     "library": "var_list.py",
     "varRefreshCmd": "print(var_dic_list())"
    },
    "r": {
     "delete_cmd_postfix": ") ",
     "delete_cmd_prefix": "rm(",
     "library": "var_list.r",
     "varRefreshCmd": "cat(var_dic_list()) "
    }
   },
   "types_to_exclude": [
    "module",
    "function",
    "builtin_function_or_method",
    "instance",
    "_Feature"
   ],
   "window_display": false
  }
 },
 "nbformat": 4,
 "nbformat_minor": 4
}
