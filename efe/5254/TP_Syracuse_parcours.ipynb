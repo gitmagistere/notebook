{
 "cells": [
  {
   "cell_type": "markdown",
   "metadata": {},
   "source": [
    "## TP : Suite de Syracuse\n",
    "Sources : Barbazo 1ère, 2019, p. 25"
   ]
  },
  {
   "cell_type": "markdown",
   "metadata": {
    "colab": {},
    "colab_type": "code",
    "id": "vVA7xaHOIiYH"
   },
   "source": [
    "On appelle suite de Syracuse une suite $(U_n)$ d’entiers naturels définie de la manière suivante : \n",
    "- le 1er terme $U_0$ est un entier naturel non nul que l’on choisit initialement\n",
    "- pour tout entier naturel n :\n",
    "    - si n est pair $U_{n+1} = \\frac{U_n}{2}$;\n",
    "    - sinon $U_{n+1} = 3U_n +1 $\n",
    "\n",
    "La conjecture de Syracuse s’énonce ainsi : <br>\n",
    "\"Quel que soit l'entier naturel non nul $U_0$, le nombre $1$ est atteint par la suite $(U_n)$\"\n",
    "\n",
    "On appelle temps de vol de la suite l’indice du premier terme de la suite qui vaut 1.<br>\n",
    "On appelle altitude du vol de la suite la valeur du plus grand terme de la suite."
   ]
  },
  {
   "cell_type": "code",
   "execution_count": null,
   "metadata": {
    "colab": {},
    "colab_type": "code",
    "id": "_webLeW2IiYD"
   },
   "outputs": [],
   "source": [
    "def Syracuse(u):\n",
    "    if u%2 == 0:\n",
    "        u = u//2\n",
    "    else :\n",
    "        u = 3*u + 1\n",
    "    return(u)\n",
    "\n",
    "def Liste_Syracuse(u):\n",
    "    L=[u]\n",
    "    while u! = 1 :\n",
    "        L.append(Syracuse(u))\n",
    "        u=Syracuse(u)\n",
    "    return L"
   ]
  },
  {
   "cell_type": "markdown",
   "metadata": {
    "colab_type": "text",
    "id": "gAWx1YZQIiYK"
   },
   "source": [
    "**Répondre aux questions suivantes**\n",
    "\n",
    "1) Quel nombre est renvoyé par <b>Syracuse(6)</b> ? Par <b>Syracuse(7)</b> ?\n",
    "\n",
    "2) A quel test correspond \"u%2==0\" ?\n",
    "\n",
    "3) Quelle est le rôle de la fonction <b>Syracuse()</b> ?\n",
    "\n",
    "4) Que renvoie <b>Liste_Syracuse(14)</b> écrite dans la console ?\n",
    "\n",
    "5) Que fait l’instruction <b>L.append(Syracuse(u))</b> ?\n",
    "\n",
    "Pour connaître la longueur d’une liste, on utilise la fonction $len$ (voir ci-dessus). <br>\n",
    "Pour connaître la plus grande valeur d’une liste, il existe la fonction $max$. \n",
    "\n",
    "7) Ecrire deux fonctions \n",
    "- la première retourne l’altitude du vol d’une suite de Syracuse. \n",
    "- la deuxième retourne le temps de vol d’une suite de Syracuse.\n",
    "\n",
    "8) Ecrire deux programmes :\n",
    "- le premier retournera la plus petite valeur $U_0$ permettant d’avoir une altitude supérieur à $100$\n",
    "- le deuxième retournera la valeur $U_0$ de l’intervalle $[1;100]$ ayant le vol le plus long."
   ]
  },
  {
   "cell_type": "code",
   "execution_count": null,
   "metadata": {},
   "outputs": [],
   "source": []
  }
 ],
 "metadata": {
  "colab": {
   "collapsed_sections": [],
   "name": "Copy of Liste1.ipynb",
   "provenance": []
  },
  "kernelspec": {
   "display_name": "Python 3",
   "language": "python",
   "name": "python3"
  },
  "language_info": {
   "codemirror_mode": {
    "name": "ipython",
    "version": 3
   },
   "file_extension": ".py",
   "mimetype": "text/x-python",
   "name": "python",
   "nbconvert_exporter": "python",
   "pygments_lexer": "ipython3",
   "version": "3.8.3"
  }
 },
 "nbformat": 4,
 "nbformat_minor": 1
}
