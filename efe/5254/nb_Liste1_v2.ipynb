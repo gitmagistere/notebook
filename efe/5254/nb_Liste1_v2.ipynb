{
 "cells": [
  {
   "cell_type": "markdown",
   "metadata": {
    "colab_type": "text",
    "id": "UV6nCGBIIiWT"
   },
   "source": [
    "## Liste - introduction\n",
    "Capacités attendues\n",
    "\n",
    "- Générer une liste (en extension ou par ajouts successifs).\n",
    "- Manipuler des éléments d’une liste (ajouter, supprimer...) et leurs indices.\n",
    "- Parcourir une liste.\n",
    "- Itérer sur les éléments d’une liste.\n",
    "\n",
    "### 1 - Création simple d'une liste et Accès aux valeurs d'une liste\n",
    "Une liste est une séquence modifiable. Un élément d’une liste peut être de n’importe quel type. \n",
    "\n",
    "Les différents éléments de la liste sont accessibles grâce à leur position. \n",
    "\n",
    "**Attention** - Si la liste s'appelle ***```L```*** :\n",
    "- le ***premier élément*** est à la position 0 : on l'appelle avec l'instruction ***```L[0]```***, \n",
    "- le ***deuxième élément*** est à la position 1 : on l'appelle avec l'instruction ***```L[1]```***,\n",
    "- le ***troisième élément*** à la position 2 : on l'appelle avec l'instruction ***```L[2]```***,\n",
    "- etc...\n",
    "\n",
    "**Autre partcularité** : \n",
    "- le ***dernier élément*** d'une liste est accessible à la position **``-1``**\n",
    "- l'***avant-dernier élément*** d'une liste est accessible à la position **``-2``**\n",
    "- etc...\n",
    "\n",
    "On peut accéder à la **longueur de la liste** (le nombre d'éléments contenus dans la liste) à l'aide de la fonction **```len```** en prenant pour argument une liste."
   ]
  },
  {
   "cell_type": "markdown",
   "metadata": {
    "colab_type": "text",
    "id": "zzUGf7m6IiWU"
   },
   "source": [
    "#### Exemples de création de liste"
   ]
  },
  {
   "cell_type": "code",
   "execution_count": null,
   "metadata": {
    "colab": {},
    "colab_type": "code",
    "id": "OvjOBt6DIiWV"
   },
   "outputs": [],
   "source": [
    "# Créer une liste vide :\n",
    "L = []\n",
    "L"
   ]
  },
  {
   "cell_type": "code",
   "execution_count": null,
   "metadata": {
    "colab": {},
    "colab_type": "code",
    "id": "-tmBy0i8IiWa"
   },
   "outputs": [],
   "source": [
    "# Créer une liste contenant 3 entiers\n",
    "L = [6,1,69]\n",
    "L"
   ]
  },
  {
   "cell_type": "code",
   "execution_count": null,
   "metadata": {
    "colab": {},
    "colab_type": "code",
    "id": "vUrrBQ0UIiWf"
   },
   "outputs": [],
   "source": [
    "# Créer une liste contenant 6 éléments de types différents\n",
    "# Le premier élément est une liste : on a donc une liste contenue dans une liste\n",
    "liste = [L,7,11,67,\"Marie\",18.2]\n",
    "liste"
   ]
  },
  {
   "cell_type": "markdown",
   "metadata": {
    "colab_type": "text",
    "id": "7wpN_VhkIiWi"
   },
   "source": [
    "#### Exemple d'accès à un élément d'une liste"
   ]
  },
  {
   "cell_type": "code",
   "execution_count": null,
   "metadata": {
    "colab": {},
    "colab_type": "code",
    "id": "fgVBmIfkIiWj"
   },
   "outputs": [],
   "source": [
    "# Accès au premier élément de L : L[0]\n",
    "L[0]"
   ]
  },
  {
   "cell_type": "code",
   "execution_count": null,
   "metadata": {
    "colab": {},
    "colab_type": "code",
    "id": "PfKzBYQAIiWm"
   },
   "outputs": [],
   "source": [
    "# Accès au dernier élément de la liste : liste[-1]\n",
    "liste[-1]"
   ]
  },
  {
   "cell_type": "markdown",
   "metadata": {
    "colab_type": "text",
    "id": "IgiHXjI5IiWr"
   },
   "source": [
    "**ATTENTION !!!** : \n",
    "\n",
    "Si on cherche à accéder à une position qui n'existe pas, Python enverra un signal d'erreur de type ```list index out of range```. C'est une erreur très courante dans les programmes. Il faut savoir l'identifier !"
   ]
  },
  {
   "cell_type": "code",
   "execution_count": null,
   "metadata": {
    "colab": {},
    "colab_type": "code",
    "id": "faiMm2nzIiWr"
   },
   "outputs": [],
   "source": [
    "# Les 3 valeurs ci-dessous sont au position '0', '1' et '2'\n",
    "# Aucune valeur n'est en position 3\n",
    "liste_avec_3_elements = [\"toto\", \"titi\", \"tata\"]\n",
    "liste_avec_3_elements[3]"
   ]
  },
  {
   "cell_type": "markdown",
   "metadata": {
    "colab_type": "text",
    "id": "enN76YBlIiWw"
   },
   "source": [
    "### 2 - Modifier une liste\n",
    "\n",
    "**Modification d'un élément**\n",
    "\n",
    "Il est possible de modifier directement les éléments présents dans la liste par une simple nouvelle affectation :"
   ]
  },
  {
   "cell_type": "code",
   "execution_count": null,
   "metadata": {
    "colab": {},
    "colab_type": "code",
    "id": "RUtNtH-ZIiWx"
   },
   "outputs": [],
   "source": [
    "# Modifier la valeur d'une liste \n",
    "# L[2] \n",
    "L[2] = 1969\n",
    "L"
   ]
  },
  {
   "cell_type": "markdown",
   "metadata": {
    "colab_type": "text",
    "id": "4QkfFmwRIiW1"
   },
   "source": [
    "**Ajouter une valeur à la fin d'une liste**\n",
    "\n",
    "Il est possible d'ajouter une valeur en fin de liste à l'aide de la méthode ```.append()```.\n"
   ]
  },
  {
   "cell_type": "code",
   "execution_count": null,
   "metadata": {
    "colab": {},
    "colab_type": "code",
    "id": "vpw9FSlYIiW3"
   },
   "outputs": [],
   "source": [
    "L = [\"Benjamin\",\"Alain\"]\n",
    "L.append(\"Yves\")\n",
    "L"
   ]
  },
  {
   "cell_type": "markdown",
   "metadata": {
    "colab_type": "text",
    "id": "07faZvXNIiW7"
   },
   "source": [
    "** Supprimer une valeur à la fin d'une liste**\n",
    "\n",
    "Il est possible de supprimer une valeur en fin de liste à l'aide de la méthode ```.pop()```.\n"
   ]
  },
  {
   "cell_type": "code",
   "execution_count": null,
   "metadata": {
    "colab": {},
    "colab_type": "code",
    "id": "jm_I9imLIiW8"
   },
   "outputs": [],
   "source": [
    "valeur = L.pop()\n",
    "L"
   ]
  },
  {
   "cell_type": "markdown",
   "metadata": {
    "colab_type": "text",
    "id": "IRDAEP4sIiXA"
   },
   "source": [
    "### 3 - Premières opérations sur les listes\n",
    "\n",
    "#### Addition de listes <=> Concaténation deux listes entre elles \n",
    "\n",
    "Le symbole \"```+```\" entre deux listes permet de les concaténer l'une à l'autre"
   ]
  },
  {
   "cell_type": "code",
   "execution_count": null,
   "metadata": {
    "colab": {},
    "colab_type": "code",
    "id": "X-JevBE2IiXB"
   },
   "outputs": [],
   "source": [
    "a = [1,2,3]\n",
    "b = a + [4,5]\n",
    "b"
   ]
  },
  {
   "cell_type": "code",
   "execution_count": null,
   "metadata": {
    "colab": {},
    "colab_type": "code",
    "id": "nv020GLrIiXE"
   },
   "outputs": [],
   "source": [
    "liste = [0,1,2] + [\"Marie\",\"Mylène\"] + [67,72]\n",
    "liste"
   ]
  },
  {
   "cell_type": "markdown",
   "metadata": {
    "colab_type": "text",
    "id": "JNj3qGhzIiXI"
   },
   "source": [
    "#### Multiplication d'une liste par un entier\n",
    "\n",
    "L'utilisation du symbole \"```*```\" entre une liste et un nombre entier consiste à concaténer la liste un certain nombre de fois avec elle-même."
   ]
  },
  {
   "cell_type": "code",
   "execution_count": null,
   "metadata": {
    "colab": {},
    "colab_type": "code",
    "id": "m-QQmwOGIiXI"
   },
   "outputs": [],
   "source": [
    "[1,2,3] * 3"
   ]
  },
  {
   "cell_type": "code",
   "execution_count": null,
   "metadata": {
    "colab": {},
    "colab_type": "code",
    "id": "BErGh6huIiXL"
   },
   "outputs": [],
   "source": [
    "[1,2] * 3"
   ]
  },
  {
   "cell_type": "code",
   "execution_count": null,
   "metadata": {
    "colab": {},
    "colab_type": "code",
    "id": "fzODHQLmIiXQ"
   },
   "outputs": [],
   "source": [
    "2*[\"Pile\",\"Face\"]"
   ]
  },
  {
   "cell_type": "code",
   "execution_count": null,
   "metadata": {
    "colab": {},
    "colab_type": "code",
    "id": "kgTFqk9PIiXT"
   },
   "outputs": [],
   "source": [
    "liste = [0] * 10\n",
    "liste"
   ]
  },
  {
   "cell_type": "markdown",
   "metadata": {
    "colab_type": "text",
    "id": "DLY0_37RIiXX"
   },
   "source": [
    "#### Calculer le maximum/minimum des valeurs d'une liste\n",
    "Dans la cadre des statistiques par exemple, la fonction ```max()``` (respectivement ```min()```) peut permettre de calculer aisément le plus grand (respectivement petit) élément d'une liste :"
   ]
  },
  {
   "cell_type": "code",
   "execution_count": null,
   "metadata": {
    "colab": {},
    "colab_type": "code",
    "id": "MANiIqSPIiXY"
   },
   "outputs": [],
   "source": [
    "L = [0, 1, 6, 7, 8, 9, 10, 11, 12, 5, 6, 7, 8, 9, 10]\n",
    "max(L)"
   ]
  },
  {
   "cell_type": "code",
   "execution_count": null,
   "metadata": {
    "colab": {},
    "colab_type": "code",
    "id": "mt4wufdUIiXn"
   },
   "outputs": [],
   "source": [
    "min(L)"
   ]
  },
  {
   "cell_type": "markdown",
   "metadata": {
    "colab_type": "text",
    "id": "wkAJnUfkIiXs"
   },
   "source": [
    "### 4 - Premiers parcours de liste à l'aide de la boucle ```for```\n",
    "#### Parcours 1\n",
    "On peut parcourir une liste à l'aide de ses indices : on parcourt la liste en utilisant une boucle ```for``` avec un compteur ```i``` qui va de ```0``` à ```len(liste)-1```.\n",
    "##### Affichage des éléments d'une liste"
   ]
  },
  {
   "cell_type": "code",
   "execution_count": null,
   "metadata": {
    "colab": {},
    "colab_type": "code",
    "id": "S79JrkNBIiXt"
   },
   "outputs": [],
   "source": [
    "for i in range(len(L)):\n",
    "    print(L[i])"
   ]
  },
  {
   "cell_type": "markdown",
   "metadata": {
    "colab_type": "text",
    "id": "_wMfMCn3IiXy"
   },
   "source": [
    "#### Parcours 2 \n",
    "On peut directement itérer sur une liste : cela signifie qu'on peut parcourir une liste en utilisant une boucle ```for``` avec pour simple syntaxe : \n",
    "\n",
    "```for element in liste :```\n",
    "\n",
    "##### Affichage des éléments d'une liste"
   ]
  },
  {
   "cell_type": "code",
   "execution_count": null,
   "metadata": {
    "colab": {},
    "colab_type": "code",
    "id": "oY1MHfFJIiXz"
   },
   "outputs": [],
   "source": [
    "for k in [1,2,3]:\n",
    "    print(k)"
   ]
  },
  {
   "cell_type": "markdown",
   "metadata": {
    "colab_type": "text",
    "id": "YBP6zB-7IiX1"
   },
   "source": [
    "#### Création d'une liste"
   ]
  },
  {
   "cell_type": "code",
   "execution_count": null,
   "metadata": {
    "colab": {},
    "colab_type": "code",
    "id": "4SymnzlRIiX2"
   },
   "outputs": [],
   "source": [
    "liste = []\n",
    "for k in range(10):\n",
    "    liste.append(k)\n",
    "liste"
   ]
  },
  {
   "cell_type": "markdown",
   "metadata": {
    "colab_type": "text",
    "id": "VTTH7mV2IiX6"
   },
   "source": [
    "#### Calcul sur les élements d'une liste\n",
    "Dans le cadre de l'étude d'une suite, on est parfois amené à calculer la somme des valeurs de cette suite. L'exmple ci-dessous permet de créer les 10 premiers terme d'une suite définie avec une fonction explicite puis de calculer la somme de ses 10 premiers termes"
   ]
  },
  {
   "cell_type": "code",
   "execution_count": null,
   "metadata": {
    "colab": {},
    "colab_type": "code",
    "id": "-pTY0tl9IiX6"
   },
   "outputs": [],
   "source": [
    "# définition de la fonction expliciate\n",
    "def f(n):\n",
    "    return 2*n - 3\n",
    "\n",
    "# Calcule des termes de la suite et création de la liste `suite`\n",
    "suite = []\n",
    "for k in range(10):\n",
    "    suite.append(f(k))\n",
    "\n",
    "\n",
    "# Calcul de la somme des termes de la liste\n",
    "somme = 0\n",
    "for element in suite:\n",
    "    somme = somme + element\n",
    "somme"
   ]
  },
  {
   "cell_type": "markdown",
   "metadata": {
    "colab_type": "text",
    "id": "KNXxxSUbIiYB"
   },
   "source": [
    "## TP : Suite de Syracuse\n",
    "Sources : Barbazo 1ère, 2019, p. 25"
   ]
  },
  {
   "cell_type": "markdown",
   "metadata": {
    "colab_type": "text",
    "id": "UHQCSRlfIiYC"
   },
   "source": [
    "On appelle suite de Syracuse une suite $(U_n)$ d’entiers naturels définie de la manière suivante : \n",
    "- le 1er terme $U_0$ est un entier naturel non nul que l’on choisit initialement\n",
    "- pour tout entier naturel n :\n",
    "    - si n est pair $U_{n+1} = \\frac{U_n}{2}$;\n",
    "    - sinon $U_{n+1} = 3U_n +1 $\n",
    "\n",
    "La conjecture de Syracuse s’énonce ainsi : <br>\n",
    "\"Quel que soit l'entier naturel non nul $U_0$, le nombre $1$ est atteint par la suite $(U_n)$\"\n",
    "\n",
    "On appelle temps de vol de la suite l’indice du premier terme de la suite qui vaut 1.<br>\n",
    "On appelle altitude du vol de la suite la valeur du plus grand terme de la suite."
   ]
  },
  {
   "cell_type": "code",
   "execution_count": null,
   "metadata": {
    "colab": {},
    "colab_type": "code",
    "id": "_webLeW2IiYD"
   },
   "outputs": [],
   "source": [
    "def Syracuse(u) :\n",
    "    if u%2 == 0 :\n",
    "        u = u//2\n",
    "    else :\n",
    "        u = 3*u + 1\n",
    "    return(u)\n",
    "\n",
    "def Liste_Syracuse(u) :\n",
    "    L=[u]\n",
    "    while u! = 1 :\n",
    "        L.append(Syracuse(u))\n",
    "        u=Syracuse(u)\n",
    "    return L"
   ]
  },
  {
   "cell_type": "code",
   "execution_count": null,
   "metadata": {
    "colab": {},
    "colab_type": "code",
    "id": "vVA7xaHOIiYH"
   },
   "outputs": [],
   "source": []
  },
  {
   "cell_type": "markdown",
   "metadata": {
    "colab_type": "text",
    "id": "gAWx1YZQIiYK"
   },
   "source": [
    "**Répondre aux questions suivantes**\n",
    "\n",
    "1) Quel nombre est renvoyé par <b>Syracuse(6)</b> ? Par <b>Syracuse(7)</b> ?\n",
    "\n",
    "2) A quel test correspond \"u%2==0\" ?\n",
    "\n",
    "3) Quelle est le rôle de la fonction <b>Syracuse()</b> ?\n",
    "\n",
    "4) Que renvoie <b>Liste_Syracuse(14)</b> écrite dans la console ?\n",
    "\n",
    "5) Que fait l’instruction <b>L.append(Syracuse(u))</b> ?\n",
    "\n",
    "Pour connaître la longueur d’une liste, on utilise la fonction $len$ (voir ci-dessus). <br>\n",
    "Pour connaître la plus grande valeur d’une liste, il existe la fonction $max$. \n",
    "\n",
    "7) Ecrire deux fonctions \n",
    "- la première retourne l’altitude du vol d’une suite de Syracuse. \n",
    "- la deuxième retourne le temps de vol d’une suite de Syracuse.\n",
    "\n",
    "8) Ecrire deux programmes :\n",
    "- le premier retournera la plus petite valeur $U_0$ permettant d’avoir une altitude supérieur à $100$\n",
    "- le deuxième retournera la valeur $U_0$ de l’intervalle $[1;100]$ ayant le vol le plus long."
   ]
  },
  {
   "cell_type": "code",
   "execution_count": null,
   "metadata": {
    "colab": {},
    "colab_type": "code",
    "id": "qb2iXC48IiYL"
   },
   "outputs": [],
   "source": []
  }
 ],
 "metadata": {
  "colab": {
   "collapsed_sections": [],
   "name": "Copy of Liste1.ipynb",
   "provenance": []
  },
  "kernelspec": {
   "display_name": "Python 3",
   "language": "python",
   "name": "python3"
  },
  "language_info": {
   "codemirror_mode": {
    "name": "ipython",
    "version": 3
   },
   "file_extension": ".py",
   "mimetype": "text/x-python",
   "name": "python",
   "nbconvert_exporter": "python",
   "pygments_lexer": "ipython3",
   "version": "3.8.3"
  }
 },
 "nbformat": 4,
 "nbformat_minor": 1
}
