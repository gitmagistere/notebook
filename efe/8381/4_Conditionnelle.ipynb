{
 "cells": [
  {
   "cell_type": "markdown",
   "metadata": {},
   "source": [
    "# Structure condtionnelle\n",
    "Cette structure est utilisée pour faire des **choix**, selon le modèle « si ... alors ... sinon ... », ou en Python « if ... ... else ... ». Essayez par exemple le code suivant : "
   ]
  },
  {
   "cell_type": "code",
   "execution_count": null,
   "metadata": {},
   "outputs": [],
   "source": [
    "a = int(input(\"a ? \"))\n",
    "b = int(input(\"b ? \"))\n",
    "if a >= b:\n",
    "    print(\"Le plus grand nombre est a.\")\n",
    "else:\n",
    "    print(\"Le plus grand nombre est b.\")"
   ]
  },
  {
   "cell_type": "markdown",
   "metadata": {},
   "source": [
    "Les blocs conditionnels peuvent être **imbriqués** pour construire des structures de décision plus complexes. On peut par exemple rafiner un peu le code précédent :  "
   ]
  },
  {
   "cell_type": "code",
   "execution_count": null,
   "metadata": {},
   "outputs": [],
   "source": [
    "a = int(input(\"a ? \"))\n",
    "b = int(input(\"b ? \"))\n",
    "if a == b:\n",
    "    print(\"a et b sont égaux\")\n",
    "else:\n",
    "    if a > b:\n",
    "        print(\"Le plus grand nombre est a.\")\n",
    "    else:\n",
    "        print(\"Le plus grand nombre est b.\")"
   ]
  },
  {
   "cell_type": "markdown",
   "metadata": {},
   "source": [
    "Vous noterez au passage la syntaxe du test d'égalité : « a == b », à ne pas confondre avec l'affectation « a = b ». La négation de l'égalité (*a est différent de b*) se notera « a != b »."
   ]
  },
  {
   "cell_type": "markdown",
   "metadata": {},
   "source": [
    "# Fonctions\n",
    "Définir une **fonction** permet de regrouper une séquence de commandes dans un seul bloc afin de les réutiliser. Une fonction prend en entrée un ou plusieurs **arguments**, et renvoie en sortie un unique résultat. Par exemple, on peut écrire une fonction qui renvoie la somme de ses deux arguments :"
   ]
  },
  {
   "cell_type": "code",
   "execution_count": null,
   "metadata": {},
   "outputs": [],
   "source": [
    "def somme(x, y):\n",
    "    '''Cette fonction calcule la somme de ses deux arguments'''\n",
    "    return x + y"
   ]
  },
  {
   "cell_type": "markdown",
   "metadata": {},
   "source": [
    "Il faut maintenant **appeler** cette fonction :"
   ]
  },
  {
   "cell_type": "code",
   "execution_count": null,
   "metadata": {},
   "outputs": [],
   "source": [
    "somme(3, 4)"
   ]
  },
  {
   "cell_type": "code",
   "execution_count": null,
   "metadata": {},
   "outputs": [],
   "source": [
    "somme(45, 123)"
   ]
  },
  {
   "cell_type": "markdown",
   "metadata": {},
   "source": [
    "> ## Exercice 1\n",
    "> Ecrire un fonction *abs* qui renvoie la valeur absolue de son argument. *Rappel : la valeur absolue de « a » est égale à « a » si « a » est positif ou nul, et à « -a » sinon.*"
   ]
  },
  {
   "cell_type": "code",
   "execution_count": null,
   "metadata": {},
   "outputs": [],
   "source": [
    "# tapez votre code ici"
   ]
  },
  {
   "cell_type": "markdown",
   "metadata": {},
   "source": [
    "> ## Exercice 2\n",
    "> Ecrire une fonction *max2* qui prend deux arguments *a* et *b*, et qui renvoie le plus grand des deux."
   ]
  },
  {
   "cell_type": "code",
   "execution_count": null,
   "metadata": {},
   "outputs": [],
   "source": [
    "# tapez votre code ici"
   ]
  },
  {
   "cell_type": "markdown",
   "metadata": {},
   "source": [
    "> ## Exercice 3\n",
    "> Ecrire une fonction *max3* qui prend en entrée trois arguments *a*, *b* et *c*, et qui renvoie le plus grand des trois. Elle pourra éventuellement faire appel à la fonction *max2*."
   ]
  },
  {
   "cell_type": "code",
   "execution_count": null,
   "metadata": {},
   "outputs": [],
   "source": [
    "# tapez votre code ici"
   ]
  },
  {
   "cell_type": "markdown",
   "metadata": {},
   "source": [
    "# Synthèse\n",
    "\n",
    "- La structure **conditionnelle** « if ... : ... else: ... » permet à votre code de faire des **choix** ;\n",
    "- Les **fonctions** permettent de découper un programme en sous-programmes plus simples et réutilisables ;\n",
    "- Plutôt que d'entrer la valeur d'une variable à l'aide de « input », on préférera **appeler** des fonctions auxquelles on passera des **arguments** ;"
   ]
  }
 ],
 "metadata": {
  "kernelspec": {
   "display_name": "Python 3",
   "language": "python",
   "name": "python3"
  },
  "language_info": {
   "codemirror_mode": {
    "name": "ipython",
    "version": 3
   },
   "file_extension": ".py",
   "mimetype": "text/x-python",
   "name": "python",
   "nbconvert_exporter": "python",
   "pygments_lexer": "ipython3",
   "version": "3.7.4"
  }
 },
 "nbformat": 4,
 "nbformat_minor": 4
}
