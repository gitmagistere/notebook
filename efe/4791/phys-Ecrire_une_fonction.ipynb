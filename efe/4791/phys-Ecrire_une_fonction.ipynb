{
 "cells": [
  {
   "cell_type": "markdown",
   "metadata": {},
   "source": [
    "# Comment écrire et utiliser des fonctions ?\n",
    "\n",
    "Pour écrire une fonction, on a besoin des mots-clés `def` et `return`. Exemple :"
   ]
  },
  {
   "cell_type": "code",
   "execution_count": null,
   "metadata": {
    "collapsed": true
   },
   "outputs": [],
   "source": [
    "def parabole(x):\n",
    "    return x ** 2 - 3"
   ]
  },
  {
   "cell_type": "markdown",
   "metadata": {},
   "source": [
    "Lorsque vous exécutez ces lignes, **l'interpréteur ne renvoie rien** car vous avez mis en mémoire **la définition de la fonction** mais vous n'en avez fait **aucune utilisation**."
   ]
  },
  {
   "cell_type": "markdown",
   "metadata": {},
   "source": [
    "\n",
    "Ainsi la fonction \"parabole\" est ici la fonction mathématique qui à x associe $x^2 - 3$. La définition de la fonction peut comporter plusieurs lignes. Tout ce qui est dans la fonction devra être indenté. Il faut évaluer la définition de la fonction pour la mettre en mémoire avant de l'utiliser.\n",
    "\n",
    "\n",
    "**Pour l'utiliser**, il faut taper parabole et un argument entre parenthèses dans le shell par exemple. Cet argument sera affecté à la variable x de la définition de la fonction. Cette fonction renverra alors le résultat.\n",
    "\n",
    "<pre><code>\n",
    "    >>> parabole(4) \n",
    "    13\n",
    "</code></pre>\n"
   ]
  },
  {
   "cell_type": "code",
   "execution_count": null,
   "metadata": {},
   "outputs": [],
   "source": [
    "parabole(4)"
   ]
  },
  {
   "cell_type": "markdown",
   "metadata": {},
   "source": [
    "On peut récupérer dans une variable ce que renvoie la fonction ( ce qui n'est pas possible si la fonction affiche quelque chose avec un \"print\" au lieu de le renvoyer avec un \"return\" )\n"
   ]
  },
  {
   "cell_type": "code",
   "execution_count": null,
   "metadata": {},
   "outputs": [],
   "source": [
    "a = parabole( 3 )  # Ce que renvoie la fonction parabole est stocké dans la variable a\n",
    "print( a )"
   ]
  },
  {
   "cell_type": "markdown",
   "metadata": {},
   "source": [
    "# Activités à réaliser\n",
    "\n",
    "### Exercice 1\n",
    "\n",
    "##### Question 1 \n",
    "Expliquer ce que fait la fonction suivante."
   ]
  },
  {
   "cell_type": "code",
   "execution_count": null,
   "metadata": {
    "collapsed": true
   },
   "outputs": [],
   "source": [
    "#Definition de la fonction\n",
    "def normeVitesse(vx, vy):\n",
    "    return (vx ** 2 + vy ** 2) ** 0.5"
   ]
  },
  {
   "cell_type": "code",
   "execution_count": null,
   "metadata": {},
   "outputs": [],
   "source": [
    "#Utilisation de la fonction\n",
    "normeVitesse(3., 4.)"
   ]
  },
  {
   "cell_type": "markdown",
   "metadata": {},
   "source": [
    "##### Question 2 \n",
    "On souhaite écrire une fonction permettant de **calculer l'énergie cinétique (en J)** d'un objet connaissant sa masse m (en kg), et les composantes de sa vitesse vx et vy (en m/s). Un élève a écrit la fonction suivante mais elle renvoie une mauvaise valeur.\n",
    "\n",
    "Corriger la fonction ci-dessous (vous pouvez utiliser la fonction normeVitesse précédente)."
   ]
  },
  {
   "cell_type": "code",
   "execution_count": null,
   "metadata": {
    "collapsed": true
   },
   "outputs": [],
   "source": [
    "#Definition de la fonction\n",
    "def Ec(m, vx, vy):\n",
    "    return 1 / 2 * m * vx**2 + vy**2"
   ]
  },
  {
   "cell_type": "code",
   "execution_count": null,
   "metadata": {},
   "outputs": [],
   "source": [
    "#Utilisation de la fonction\n",
    "Ec(2., 3., 4.)"
   ]
  },
  {
   "cell_type": "markdown",
   "metadata": {},
   "source": [
    "### Exercice 2\n",
    "Définir une fonction qui permet de convertir une température en degré Celsius, en Kelvin. \n",
    "\n",
    "On appelera cette fonction Celsius2Kelvin. Elle prendra en argument T, un nombre décimal correspondant à la température en Celsius. Elle retournera un nombre décimal correspondant à la température en K. \n",
    "\n",
    "On l'utilisera ensuite pour convertir 21°C et pour afficher cette valeur en Kelvin."
   ]
  },
  {
   "cell_type": "code",
   "execution_count": null,
   "metadata": {
    "collapsed": true
   },
   "outputs": [],
   "source": [
    "# Ecrire ci-dessous la fonction Celsius2Kelvin"
   ]
  },
  {
   "cell_type": "markdown",
   "metadata": {},
   "source": [
    "## Utiliser des fonctions déjà inventées !\n",
    "\n",
    "Python possède de nombreuses fonctions qui ont déjà été écrites (par d'autres) et qui simplifient la vie du programmeur. Ces fonctions sont regroupées par modules. On peut y retrouver par exemple une fonction qui calcule un sinus, une fonction qui permet de lire les fichiers csv et encore beaucoup d’autres. Nous allons voir ici deux modules dont nous pouvons avoir besoin pour le programme de lycée.\n"
   ]
  },
  {
   "cell_type": "markdown",
   "metadata": {},
   "source": [
    "### 1 - Module math\n",
    "Ce module permet d’accéder à un grand nombre de fonctions mathématiques (sinus, racine carrée, exponentielle, … ). Ce module est essentiel en science dès lors que des calculs avec des formules mathématiques sont nécessaire.\n",
    "\n",
    "Pour pourvoir utiliser ce module, il faut taper l’instruction :\n",
    "\n",
    "    import math #import signifie importer\n",
    " \n",
    "A présent, nous pouvons utiliser la fonction math.sin() qui permet de calculer un sinus, math.sqrt qui permet de calculer la racine carrée, etc...\n",
    "\n",
    "    a = math.sin(3.14159/2) \n",
    "    a = math.sin(math.pi/2) # cette ligne revient au même que la précédente car la constante nommée math.pi vaut 3.14159265… \n",
    "    b = math.sqrt(9) # b vaut 3.0 car sqrt calcule la racine carrée et le résultat est toujours un nombre décimal\n",
    "    \n",
    "#### Exercice 3\n",
    "Calculer et afficher le cosinus de $\\frac{\\pi}{4}$ grâce à math.cos() et math.pi"
   ]
  },
  {
   "cell_type": "code",
   "execution_count": 3,
   "metadata": {},
   "outputs": [
    {
     "name": "stdout",
     "output_type": "stream",
     "text": [
      "3.0\n"
     ]
    }
   ],
   "source": [
    "# Mettre votre code ici"
   ]
  },
  {
   "cell_type": "markdown",
   "metadata": {},
   "source": [
    "### 2 - Les tableaux avec Numpy\n",
    "Le module Numpy permet la création et la manipulation de tableaux (vecteurs) dans Python. Python possède par défaut une structure de données appelée `liste` mais qui est parfois moins pratique à utiliser.\n",
    "\n",
    "Pour pourvoir utiliser ce module, il faut taper l’instruction :\n",
    "\n",
    "    import numpy as np # Il faudra mettre np devant toutes les fonctions appelées\n",
    "\n",
    "Voici quelques utilisations de base : \n",
    "\n",
    "#### 2.1 - Création de tableaux\n",
    "##### ... à partir d’une liste"
   ]
  },
  {
   "cell_type": "code",
   "execution_count": 5,
   "metadata": {},
   "outputs": [
    {
     "name": "stdout",
     "output_type": "stream",
     "text": [
      "[1 2 3 4]\n"
     ]
    }
   ],
   "source": [
    "import numpy as np\n",
    "a1 = np.array([1,2,3,4])\n",
    "print(a1)"
   ]
  },
  {
   "cell_type": "markdown",
   "metadata": {},
   "source": [
    "##### ... à partir d’un intervalle et du nombre de d’éléments\n",
    "La fonction `linspace(debut, fin, nb)` génère `nb` valeurs entre `debut` et `fin` régulièrement espacés. \n",
    "\n",
    "Deux valeurs successives sont donc séparées de $\\frac{fin - debut}{nb-1}$."
   ]
  },
  {
   "cell_type": "code",
   "execution_count": 7,
   "metadata": {},
   "outputs": [
    {
     "name": "stdout",
     "output_type": "stream",
     "text": [
      "[ 1.   2.5  4.   5.5  7. ]\n"
     ]
    }
   ],
   "source": [
    "a2 = np.linspace(1,7,5)\n",
    "print(a2)"
   ]
  },
  {
   "cell_type": "markdown",
   "metadata": {},
   "source": [
    "##### ... à partir d’un intervalle et d’un pas\n",
    "La fonction `arange(debut, fin, p)` construit un tableau Numpy de debut à fin (fin n'est pas compris) avec un pas de p."
   ]
  },
  {
   "cell_type": "code",
   "execution_count": 8,
   "metadata": {},
   "outputs": [
    {
     "name": "stdout",
     "output_type": "stream",
     "text": [
      "[ 1.   1.2  1.4  1.6  1.8]\n"
     ]
    }
   ],
   "source": [
    "a = np.arange(1,2,0.2)\n",
    "print(a)"
   ]
  },
  {
   "cell_type": "markdown",
   "metadata": {},
   "source": [
    "##### Créer un tableau vide\n",
    "Il est parfois utile de créer un tableau vide (rempli de zéros) dont les valeurs pourront être modifiées par la suite."
   ]
  },
  {
   "cell_type": "code",
   "execution_count": null,
   "metadata": {
    "collapsed": true
   },
   "outputs": [],
   "source": [
    "a = np.zeros(5)\n",
    "print(a)"
   ]
  },
  {
   "cell_type": "code",
   "execution_count": null,
   "metadata": {
    "collapsed": true
   },
   "outputs": [],
   "source": []
  },
  {
   "cell_type": "code",
   "execution_count": null,
   "metadata": {
    "collapsed": true
   },
   "outputs": [],
   "source": []
  },
  {
   "cell_type": "code",
   "execution_count": null,
   "metadata": {
    "collapsed": true
   },
   "outputs": [],
   "source": []
  },
  {
   "cell_type": "code",
   "execution_count": null,
   "metadata": {
    "collapsed": true
   },
   "outputs": [],
   "source": []
  },
  {
   "cell_type": "code",
   "execution_count": null,
   "metadata": {
    "collapsed": true
   },
   "outputs": [],
   "source": []
  },
  {
   "cell_type": "code",
   "execution_count": null,
   "metadata": {
    "collapsed": true
   },
   "outputs": [],
   "source": []
  },
  {
   "cell_type": "code",
   "execution_count": null,
   "metadata": {
    "collapsed": true
   },
   "outputs": [],
   "source": []
  }
 ],
 "metadata": {
  "kernelspec": {
   "display_name": "Python 3",
   "language": "python",
   "name": "python3"
  },
  "language_info": {
   "codemirror_mode": {
    "name": "ipython",
    "version": 3
   },
   "file_extension": ".py",
   "mimetype": "text/x-python",
   "name": "python",
   "nbconvert_exporter": "python",
   "pygments_lexer": "ipython3",
   "version": "3.6.3"
  },
  "varInspector": {
   "cols": {
    "lenName": 16,
    "lenType": 16,
    "lenVar": 40
   },
   "kernels_config": {
    "python": {
     "delete_cmd_postfix": "",
     "delete_cmd_prefix": "del ",
     "library": "var_list.py",
     "varRefreshCmd": "print(var_dic_list())"
    },
    "r": {
     "delete_cmd_postfix": ") ",
     "delete_cmd_prefix": "rm(",
     "library": "var_list.r",
     "varRefreshCmd": "cat(var_dic_list()) "
    }
   },
   "types_to_exclude": [
    "module",
    "function",
    "builtin_function_or_method",
    "instance",
    "_Feature"
   ],
   "window_display": false
  }
 },
 "nbformat": 4,
 "nbformat_minor": 2
}
