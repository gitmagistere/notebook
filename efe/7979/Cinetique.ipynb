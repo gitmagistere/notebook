{
  "nbformat": 4,
  "nbformat_minor": 0,
  "metadata": {
    "colab": {
      "provenance": [],
      "collapsed_sections": []
    },
    "kernelspec": {
      "name": "python3",
      "display_name": "Python 3"
    },
    "language_info": {
      "name": "python"
    }
  },
  "cells": [
    {
      "cell_type": "markdown",
      "source": [
        "# Compléter le programme permettant de tracer la vitesse de la réaction en fonction de la concentration de l'eau oxygénée."
      ],
      "metadata": {
        "id": "HhhNcD7is8H0"
      }
    },
    {
      "cell_type": "code",
      "execution_count": null,
      "metadata": {
        "id": "TZB5KAg3sVJH"
      },
      "outputs": [],
      "source": [
        "import matplotlib.pyplot as plt\n",
        "import numpy as np\n",
        "\n",
        "# Temps et absorbance\n",
        "t = [................] #les dates\n",
        "A = [ ...............] #Compléter les valeurs expérimentales de l'absorbance\n",
        "\n",
        "# Concentration en diiode avec k = Amax / Cmax =\n",
        "CI2 = []\n",
        "for i in range (len(t)-1) :\n",
        "    CI2.append(A[i]/        ) # indiquer la valeur de la constante k dans la formule pour calculer la concentration en diiode à chaque instant\n",
        "\n",
        "# Concentration de H2O2\n",
        "CH2O2 = []\n",
        "for i in range (len(t)-1) :\n",
        "    CH2O2.append(CI2[-1]-CI2[i]) # formule pour calculer la concentration en H2O2 à chaque instant\n",
        "\n",
        "\n",
        "# Vitesse de disparition de H2O2\n",
        "v = []\n",
        "for i in range (len(t)-2) :\n",
        "    v.append(-(CH2O2[i+1]-CH2O2[i])/(t[i+1]-t[i])) # formule pour calculer la vitesse de disparition de H2O2 à chaque instant\n",
        "\n",
        "del CH2O2[-1] # Pour que la liste des concentrations contienne autant de valeurs que la liste des vitesses, on supprime la dernière valeur de la liste des concentrations\n",
        "\n",
        "# Création de la modélisation par une droite\n",
        "CH2O2_modele = np.arange(0,4.3E-4,1E-5) # Génere une liste de valeurs de concentration\n",
        "\n",
        "coeff = np.polyfit(CH2O2,v,1)\n",
        "v_modele = coeff[0] * CH2O2_modele + coeff[1]                  # Équation du modèle\n",
        "\n",
        "print('Modele =',coeff[0],'x CH2O2 +',coeff[1])                # Écriture de l'équation du modèle dans la console\n",
        "plt.plot(CH2O2_modele,v_modele,'blue',label='modèle linéaire') # points du modèle sur le graphique\n",
        "\n",
        "# Graphique de la vitesse de disparition en fonction du temps\n",
        "plt.title(\"Vitesse volumique de disparition = f(concentration)\")\n",
        "plt.ylabel(\"concentration\")\n",
        "plt.xlabel(\"vitesse\")\n",
        "plt.plot(CH2O2,v,'r+') # la concentration en H2O2 en abscisse et la vitesse en ordonnée\n",
        "plt.grid()\n",
        "plt.show()"
      ]
    }
  ]
}