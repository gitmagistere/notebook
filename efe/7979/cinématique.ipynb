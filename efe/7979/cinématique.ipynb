{
  "nbformat": 4,
  "nbformat_minor": 0,
  "metadata": {
    "colab": {
      "provenance": [],
      "collapsed_sections": []
    },
    "kernelspec": {
      "name": "python3",
      "display_name": "Python 3"
    },
    "language_info": {
      "name": "python"
    }
  },
  "cells": [
    {
      "cell_type": "markdown",
      "source": [],
      "metadata": {
        "id": "b9x6NTt5REH6"
      }
    },
    {
      "cell_type": "markdown",
      "source": [
        "### Import des bibliothèques"
      ],
      "metadata": {
        "id": "K2klYSNJRIJL"
      }
    },
    {
      "cell_type": "code",
      "source": [
        "import matplotlib.pyplot as plt"
      ],
      "metadata": {
        "id": "8U3JDbZ8Rlie"
      },
      "execution_count": null,
      "outputs": []
    },
    {
      "cell_type": "markdown",
      "source": [
        "### Copie des listes importées de MecaChrono"
      ],
      "metadata": {
        "id": "CKknQ0WYRXs5"
      }
    },
    {
      "cell_type": "code",
      "source": [
        "t = [ 0, 0.04, 0.08, 0.12, 0.159999, 0.199999, 0.239998, 0.279997, 0.319997, 0.359997, 0.399997, 0.439997, 0.479997, 0.519997, 0.559997, 0.599997, 0.639997, 0.679997, 0.719997]\n",
        "x = [-0.00369988, 0.0850973, 0.177594, 0.270091, 0.362588, 0.455085, 0.547582, 0.62898, 0.721477, 0.806574, 0.891671, 0.980469, 1.07667, 1.15436, 1.24686, 1.33196, 1.41705, 1.49475, 1.58725]\n",
        "y = [0.00369988, 0.118396, 0.229393, 0.32559, 0.399587, 0.451386, 0.492084, 0.506884, 0.514284, 0.514284, 0.484684, 0.436586, 0.373688, 0.30339, 0.207193, 0.107297, -0.0184994, -0.159095, -0.32189]"
      ],
      "metadata": {
        "id": "J3bzunruSOe8"
      },
      "execution_count": 1,
      "outputs": []
    },
    {
      "cell_type": "markdown",
      "source": [
        "### Creation des listes contenant les coordonnées de la vitesse"
      ],
      "metadata": {
        "id": "j6l-TJT4SCdb"
      }
    },
    {
      "cell_type": "code",
      "source": [
        "Vx = []\n",
        "Vy = []"
      ],
      "metadata": {
        "id": "8Olh4yPeSg5m"
      },
      "execution_count": null,
      "outputs": []
    },
    {
      "cell_type": "markdown",
      "source": [
        "# Complétez les expressions des coordonnées de la vitesse"
      ],
      "metadata": {
        "id": "LEXtkusOUDx9"
      }
    },
    {
      "cell_type": "code",
      "source": [
        "for i in range(1,len(t)-1):\n",
        "    Vx.append((x[...]-x[...])/(t[...]-t[...]))\n",
        "    Vy.append((y[...]-y[...])/(t[...]-t[...]))"
      ],
      "metadata": {
        "id": "QWFmqQpTUTc3"
      },
      "execution_count": null,
      "outputs": []
    },
    {
      "cell_type": "markdown",
      "source": [
        "### Gestion du graphique"
      ],
      "metadata": {
        "id": "PoOT3ZFhUmEs"
      }
    },
    {
      "cell_type": "code",
      "execution_count": null,
      "metadata": {
        "id": "aAHFmSOOQ7ZM"
      },
      "outputs": [],
      "source": [
        "#mise en forme du graphique\n",
        "plt.axis([0,1.8,-0.9,0.6]) #défini les valeurs min et max de X et Y\n",
        "plt.title(\"vitesses de la balle sur sa trajectoire\")\n",
        "plt.xlabel(\"abscisses\")\n",
        "plt.ylabel(\"ordonnées\")\n",
        "plt.grid() #affiche une grille\n",
        "\n",
        "###########################################################################\n",
        "#tracer la trajectoire et les vecteurs vitesses\n",
        "plt.plot(x, y, \"+\")\n",
        "for i in range(1,len(Vx)-1):\n",
        "    plt.quiver(x[i], y[i], Vx[i], Vy[i],color='red', scale=40)\n",
        "#les vecteurs vitesse sont tracés en rouge avec une échelle basée sur celle des abscisses et des ordonnées\n",
        "plt.savefig('vitesse.png') #enregistre le graphique dans un fichier image\n",
        "###########################################################################\n",
        "plt.show()\n",
        "plt.close()"
      ]
    }
  ]
}