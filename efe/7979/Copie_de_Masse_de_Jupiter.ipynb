{
  "nbformat": 4,
  "nbformat_minor": 0,
  "metadata": {
    "colab": {
      "provenance": []
    },
    "kernelspec": {
      "name": "python3",
      "display_name": "Python 3"
    },
    "language_info": {
      "name": "python"
    }
  },
  "cells": [
    {
      "cell_type": "markdown",
      "source": [
        "# Compléter les lignes 7,8, 9, 11 et 12"
      ],
      "metadata": {
        "id": "_ihdA8tkL7yD"
      }
    },
    {
      "cell_type": "code",
      "execution_count": null,
      "metadata": {
        "id": "03gnhFmvL4ku"
      },
      "outputs": [],
      "source": [
        "import numpy as np\n",
        "import matplotlib.pyplot as plt\n",
        "import scipy.stats as sc\n",
        "\n",
        "\n",
        "#Création des listes pour calcul et affichage\n",
        "a = np.array([.......])\n",
        "T = np.array([.......])\n",
        "G = ...\n",
        "#Calcul des constantes a^3 et T^2\n",
        "acube = ...\n",
        "Tcarre = ...\n",
        "\n",
        "#Affichage des points de mesure et régression linéraire\n",
        "\n",
        "(slope, intercept, r_value,_,_)=sc.linregress(acube, Tcarre)\n",
        "print (\"coeff directeur \", slope)\n",
        "print (\"ordonnée à l'origine\", intercept)\n",
        "print (\"coeff correlation\",r_value**2)\n",
        "\n",
        "#Calcul de la masse du corps attracteur\n",
        "M = (4*(np.pi)**2)/(G*slope)\n",
        "\n",
        "#Affichage de la droite modélisée\n",
        "plt.plot(acube, Tcarre, \"+\", color = \"red\")\n",
        "plt.xlabel(\"Rayon de l'orbite au carré\")\n",
        "plt.ylabel(\"Période de révolution au cube\")\n",
        "plt.title(\"Vérification de la 3ème loi de Kepler\")\n",
        "print (\"la masse de Jupiter est \",\"%0.3e\" % M, \"kg\")\n",
        "Tcarremodelise = slope*acube+intercept\n",
        "plt.plot(acube, Tcarremodelise, color = \"blue\")\n",
        "plt.show()\n"
      ]
    },
    {
      "cell_type": "markdown",
      "source": [],
      "metadata": {
        "id": "-07U232CL6aP"
      }
    }
  ]
}