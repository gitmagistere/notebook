{
  "cells": [
    {
      "cell_type": "markdown",
      "metadata": {
        "id": "EhE4P6uIOeHF"
      },
      "source": [
        "# Les bases pour commencer en Python #"
      ]
    },
    {
      "cell_type": "markdown",
      "metadata": {
        "id": "27U7LxBROeHO"
      },
      "source": [
        "### 1. Les listes ###"
      ]
    },
    {
      "cell_type": "markdown",
      "metadata": {
        "id": "MQjz3EfdOeHO"
      },
      "source": [
        "Les listes permettent de regrouper des séries de mesures et de les manipuler par la suite.\n",
        "ATTENTION : il existe deux méthodes courantes pour créer des listes dans un programme Python. Les comportements sont différents et détaillés dans la suite."
      ]
    },
    {
      "cell_type": "code",
      "source": [
        ""
      ],
      "metadata": {
        "id": "mE76Lk31O-hl"
      },
      "execution_count": 1,
      "outputs": []
    },
    {
      "cell_type": "markdown",
      "metadata": {
        "id": "SkI5I9vcOeHO"
      },
      "source": [
        "**Listes Python natives**"
      ]
    },
    {
      "cell_type": "code",
      "execution_count": 2,
      "metadata": {
        "colab": {
          "base_uri": "https://localhost:8080/"
        },
        "id": "G44iR0MLOeHO",
        "outputId": "5c9c6452-23a2-44b1-e1af-462e22db2de3"
      },
      "outputs": [
        {
          "output_type": "stream",
          "name": "stdout",
          "text": [
            "[20.2, 15.6, 10.3, 8.4, 17.9, 6.6]\n",
            "6\n",
            "6.6\n",
            "[18.2, 13.6, 8.3, 6.4, 15.899999999999999, 4.6]\n"
          ]
        }
      ],
      "source": [
        "X = []  # Création d'une liste vide\n",
        "temperatures = [20.2, 15.6, 10.3, 8.4, 17.9, 6.6]  # Liste de 6 valeurs numérotées de 0 à 5\n",
        "longueur=len(temperatures)\n",
        "print(temperatures)  # affiche la liste\n",
        "print(longueur)  # affiche le nombre de termes de la liste\n",
        "print(temperatures[longueur-1])  # affiche le dernier terme de la liste\n",
        "temp_reelle=[]\n",
        "# pour effectuer un calcul sur tous les termes d'une liste Python :\n",
        "for i in range(len(temperatures)):  # i varie de 0 à longueur-1\n",
        "    temp_reelle.append(temperatures[i]-2)\n",
        "print(temp_reelle)"
      ]
    },
    {
      "cell_type": "markdown",
      "metadata": {
        "id": "4Z93O9VkOeHP"
      },
      "source": [
        "On peut modifier une valeur dans une liste :"
      ]
    },
    {
      "cell_type": "code",
      "execution_count": 3,
      "metadata": {
        "colab": {
          "base_uri": "https://localhost:8080/"
        },
        "id": "qBXjdUeCOeHP",
        "outputId": "6ebd9954-78c7-40c5-802d-c31de77cef4a"
      },
      "outputs": [
        {
          "output_type": "stream",
          "name": "stdout",
          "text": [
            "[20.2, 15.6, 10.3, 8.4, 7.9, 6.6]\n"
          ]
        }
      ],
      "source": [
        "temperatures[4] = 7.9  # On modifie la 5ème valeur\n",
        "print(temperatures)"
      ]
    },
    {
      "cell_type": "markdown",
      "metadata": {
        "id": "2BMfiJzjOeHP"
      },
      "source": [
        "On peut ajouter une valeur à une liste :"
      ]
    },
    {
      "cell_type": "code",
      "execution_count": 4,
      "metadata": {
        "colab": {
          "base_uri": "https://localhost:8080/"
        },
        "id": "jUiynJMDOeHQ",
        "outputId": "ac2a425b-c803-4487-a67e-b00bb037cb6f"
      },
      "outputs": [
        {
          "output_type": "stream",
          "name": "stdout",
          "text": [
            "[20.2, 15.6, 10.3, 8.4, 7.9, 6.6, 3.3]\n"
          ]
        }
      ],
      "source": [
        "temperatures.append(3.3)  # On ajoute la valeur 3.3 à la fin de la liste\n",
        "print(temperatures)"
      ]
    },
    {
      "cell_type": "markdown",
      "metadata": {
        "id": "6OjbtTUAOeHQ"
      },
      "source": [
        "Connaître la longeur d'une liste :"
      ]
    },
    {
      "cell_type": "code",
      "execution_count": 5,
      "metadata": {
        "colab": {
          "base_uri": "https://localhost:8080/"
        },
        "id": "yyn_Re42OeHQ",
        "outputId": "30385f79-d57e-46ed-d156-5fbd5793a927"
      },
      "outputs": [
        {
          "output_type": "stream",
          "name": "stdout",
          "text": [
            "7\n"
          ]
        }
      ],
      "source": [
        "print(len(temperatures))"
      ]
    },
    {
      "cell_type": "markdown",
      "metadata": {
        "id": "yFFC1ad1OeHQ"
      },
      "source": [
        "Afficher __la dernière valeur__ d'une liste :"
      ]
    },
    {
      "cell_type": "code",
      "execution_count": 6,
      "metadata": {
        "colab": {
          "base_uri": "https://localhost:8080/"
        },
        "id": "BiWyi4arOeHQ",
        "outputId": "3c89a321-a92a-45db-fe1a-d0c177941f34"
      },
      "outputs": [
        {
          "output_type": "stream",
          "name": "stdout",
          "text": [
            "3.3\n"
          ]
        }
      ],
      "source": [
        "print(temperatures[-1])"
      ]
    },
    {
      "cell_type": "markdown",
      "metadata": {
        "id": "wH75TLFcOeHQ"
      },
      "source": [
        "Supprimer une valeur particulière :"
      ]
    },
    {
      "cell_type": "code",
      "execution_count": 7,
      "metadata": {
        "colab": {
          "base_uri": "https://localhost:8080/"
        },
        "id": "Zqf1BBJsOeHQ",
        "outputId": "755d812d-671c-4b8b-8f89-2461a0d3757c"
      },
      "outputs": [
        {
          "output_type": "stream",
          "name": "stdout",
          "text": [
            "[20.2, 10.3, 8.4, 7.9, 6.6, 3.3]\n"
          ]
        }
      ],
      "source": [
        "temperatures.pop(1)  # On supprime la deuxième valeur\n",
        "print(temperatures)"
      ]
    },
    {
      "cell_type": "markdown",
      "source": [
        "### 2. Les tableaux ###"
      ],
      "metadata": {
        "id": "1ypRFX-qQqQ7"
      }
    },
    {
      "cell_type": "markdown",
      "metadata": {
        "id": "-IInvGZbOeHQ"
      },
      "source": [
        "**Créer et manipuler des tableaux avec numpy**"
      ]
    },
    {
      "cell_type": "code",
      "source": [
        ""
      ],
      "metadata": {
        "id": "QGKG0eYsQLJ6"
      },
      "execution_count": 8,
      "outputs": []
    },
    {
      "cell_type": "markdown",
      "metadata": {
        "id": "szCKFASCOeHQ"
      },
      "source": [
        "numpy est une bibliothèque permettant d'effectuer des calculs et de créer des tableaux de valeurs.\n",
        "On commence par l'importer :"
      ]
    },
    {
      "cell_type": "code",
      "execution_count": 9,
      "metadata": {
        "id": "ICoazVCMOeHR"
      },
      "outputs": [],
      "source": [
        "import numpy as np  # numpy est importée et appelée par le nom court np"
      ]
    },
    {
      "cell_type": "markdown",
      "metadata": {
        "id": "19B6EXHnOeHR"
      },
      "source": [
        "Création de la liste :"
      ]
    },
    {
      "cell_type": "code",
      "execution_count": 10,
      "metadata": {
        "colab": {
          "base_uri": "https://localhost:8080/"
        },
        "id": "N1aH4kpwOeHR",
        "outputId": "7a967b16-990e-46e8-8abb-90f7b3e430f6"
      },
      "outputs": [
        {
          "output_type": "stream",
          "name": "stdout",
          "text": [
            "[20.2 15.6 10.3  8.4 17.9  6.6]\n",
            "[18.2 13.6  8.3  6.4 15.9  4.6]\n"
          ]
        }
      ],
      "source": [
        "temperatures = np.array([20.2, 15.6, 10.3, 8.4, 17.9, 6.6])\n",
        "print(temperatures)\n",
        "# Avec numpy, il est rapide d'effectuer un calcul sur tous les termes d'une liste (pas besoin de boucle)\n",
        "temp_reelle = temperatures - 2\n",
        "print(temp_reelle)"
      ]
    },
    {
      "cell_type": "markdown",
      "metadata": {
        "id": "oRpx6VECOeHR"
      },
      "source": [
        "Ajout d'une valeur en fin de tableau :"
      ]
    },
    {
      "cell_type": "code",
      "execution_count": 11,
      "metadata": {
        "colab": {
          "base_uri": "https://localhost:8080/"
        },
        "id": "Ya2DUxC3OeHR",
        "outputId": "f693408a-d3c9-44af-fa94-5800b794a84f"
      },
      "outputs": [
        {
          "output_type": "stream",
          "name": "stdout",
          "text": [
            "[20.2 15.6 10.3  8.4 17.9  6.6  6.7]\n"
          ]
        }
      ],
      "source": [
        "temperatures = np.append(temperatures, 6.7)\n",
        "print(temperatures)"
      ]
    },
    {
      "cell_type": "markdown",
      "metadata": {
        "id": "XcbYTnRxOeHR"
      },
      "source": [
        "Supprimer une valeur particulière"
      ]
    },
    {
      "cell_type": "code",
      "execution_count": 12,
      "metadata": {
        "colab": {
          "base_uri": "https://localhost:8080/"
        },
        "id": "uXRi3NfBOeHR",
        "outputId": "c99df36e-142d-4f2a-f2c6-385920c88b4e"
      },
      "outputs": [
        {
          "output_type": "stream",
          "name": "stdout",
          "text": [
            "[20.2 15.6  8.4 17.9  6.6  6.7]\n"
          ]
        }
      ],
      "source": [
        "temperatures = np.delete(temperatures, 2)  # supprime la valeur de rang 2 dans la liste, donc la troisième valeur\n",
        "print(temperatures)"
      ]
    },
    {
      "cell_type": "markdown",
      "metadata": {
        "id": "wOGyNEWDOeHR"
      },
      "source": [
        "Inserer une valeur à une position donnée"
      ]
    },
    {
      "cell_type": "code",
      "execution_count": 13,
      "metadata": {
        "colab": {
          "base_uri": "https://localhost:8080/"
        },
        "id": "rQUIZbMUOeHR",
        "outputId": "1fb66519-47ce-4d55-9a8c-160795953134"
      },
      "outputs": [
        {
          "output_type": "stream",
          "name": "stdout",
          "text": [
            "[20.2  15.6   8.4  17.9  30.25  6.6   6.7 ]\n"
          ]
        }
      ],
      "source": [
        "temperatures = np.insert(temperatures, 4, 30.25)  # Insère la température 30.25 à la position 4 dans la liste\n",
        "print(temperatures)"
      ]
    },
    {
      "cell_type": "markdown",
      "metadata": {
        "id": "fY0uDi-TOeHS"
      },
      "source": [
        "**FONDAMENTAL - Différences de comportements entre les tableaux et les listes**"
      ]
    },
    {
      "cell_type": "markdown",
      "metadata": {
        "id": "P51ZtXnEOeHS"
      },
      "source": [
        "Les cellules ci-dessous montrent les différences de comportements des listes créées nativement ou via numpy."
      ]
    },
    {
      "cell_type": "code",
      "execution_count": 14,
      "metadata": {
        "colab": {
          "base_uri": "https://localhost:8080/"
        },
        "id": "spXqrHPpOeHS",
        "outputId": "0b3be592-cf06-4877-d47d-25280716aff8"
      },
      "outputs": [
        {
          "output_type": "stream",
          "name": "stdout",
          "text": [
            "Addition des deux listes :  [2, 3, 5, 6]\n",
            "Produit par un entier :  [2, 3, 2, 3, 2, 3]\n"
          ]
        }
      ],
      "source": [
        "# Addition de deux listes créées nativement\n",
        "A = [2, 3]\n",
        "B = [5, 6]\n",
        "C = A + B\n",
        "print(\"Addition des deux listes : \", C)\n",
        "# Produit\n",
        "C = A * 3\n",
        "print(\"Produit par un entier : \", C)"
      ]
    },
    {
      "cell_type": "code",
      "execution_count": 15,
      "metadata": {
        "colab": {
          "base_uri": "https://localhost:8080/"
        },
        "id": "Ts6ZiAS1OeHS",
        "outputId": "1ad2824a-d887-4e67-efe1-fa29ad85a248"
      },
      "outputs": [
        {
          "output_type": "stream",
          "name": "stdout",
          "text": [
            "A :  [2 3]\n",
            "B :  [5 6]\n",
            "Somme des deux listes :  [7 9]\n",
            "Produit par un nombre :  [6 9]\n",
            "Produit des deux listes :  [10 18]\n",
            "Élévation au carré de chaque terme :  [4 9]\n"
          ]
        }
      ],
      "source": [
        "# Addition de deux tableaux créées avec numpy\n",
        "import numpy as np\n",
        "A = np.array([2, 3])\n",
        "B = np.array([5, 6])\n",
        "print(\"A : \", A)\n",
        "print(\"B : \", B)\n",
        "C = A + B\n",
        "print(\"Somme des deux listes : \", C)\n",
        "# Multiplication\n",
        "C = A * 3\n",
        "print(\"Produit par un nombre : \", C)\n",
        "C = A * B\n",
        "print(\"Produit des deux listes : \", C)\n",
        "C = A ** 2\n",
        "print(\"Élévation au carré de chaque terme : \", C)"
      ]
    },
    {
      "cell_type": "markdown",
      "metadata": {
        "id": "ZyPETA-KOeHU"
      },
      "source": [
        "Pour effectuer des opérations sur tous les termes d'une liste créée nativement dans Python, il faut passer par une **boucle**.<br>\n",
        "L'exemple ci-dessous additionne terme à terme deux listes et élève chaque terme au carré."
      ]
    },
    {
      "cell_type": "code",
      "execution_count": 16,
      "metadata": {
        "colab": {
          "base_uri": "https://localhost:8080/"
        },
        "id": "uHLicpWSOeHU",
        "outputId": "298d40e5-9b6c-4cf8-9e69-898ff43c680e"
      },
      "outputs": [
        {
          "output_type": "stream",
          "name": "stdout",
          "text": [
            "Addition de chaque terme :  [7, 9]\n",
            "Élévation des termes au carré :  [4, 9]\n"
          ]
        }
      ],
      "source": [
        "A = [2, 3]\n",
        "B = [5, 6]\n",
        "# Addition des termes\n",
        "C = []\n",
        "for i in range(len(A)):\n",
        "    C.append(A[i]+B[i])\n",
        "print(\"Addition de chaque terme : \", C)\n",
        "# Élévation au carré\n",
        "C = []\n",
        "for i in range(len(A)):\n",
        "    C.append(A[i] ** 2)\n",
        "print(\"Élévation des termes au carré : \", C)"
      ]
    },
    {
      "cell_type": "markdown",
      "metadata": {
        "id": "OXsIPGQKOeHV"
      },
      "source": [
        "**Créer des tableaux avec linspace et arange**"
      ]
    },
    {
      "cell_type": "markdown",
      "source": [
        "Exemple avec la fonction linespace(début, fin, nbre de valeurs)"
      ],
      "metadata": {
        "id": "m9cFWg4sRs7d"
      }
    },
    {
      "cell_type": "code",
      "execution_count": 17,
      "metadata": {
        "colab": {
          "base_uri": "https://localhost:8080/"
        },
        "id": "aIBZazisOeHV",
        "outputId": "59e3f9fd-e610-4771-9ea9-bdca8f5c3e88"
      },
      "outputs": [
        {
          "output_type": "stream",
          "name": "stdout",
          "text": [
            "x :  [0.   0.25 0.5  0.75 1.   1.25 1.5  1.75 2.   2.25 2.5  2.75 3.   3.25\n",
            " 3.5  3.75 4.   4.25 4.5  4.75 5.  ]\n"
          ]
        }
      ],
      "source": [
        "import numpy as np\n",
        "x = np.linspace(0, 5, 21)\n",
        "print(\"x : \",x)"
      ]
    },
    {
      "cell_type": "markdown",
      "metadata": {
        "id": "_N11vaUQOeHV"
      },
      "source": [
        "Exemple avec la fonction arange(début, fin, pas)"
      ]
    },
    {
      "cell_type": "code",
      "execution_count": 20,
      "metadata": {
        "colab": {
          "base_uri": "https://localhost:8080/"
        },
        "outputId": "ada1135f-0f17-443b-a020-db089b3741de",
        "id": "n0Pt0wI6S-yd"
      },
      "outputs": [
        {
          "output_type": "stream",
          "name": "stdout",
          "text": [
            "x :  [0 1 2 3 4 5 6 7 8 9]\n"
          ]
        }
      ],
      "source": [
        "import numpy as np\n",
        "x = np.arange(0, 10, 1)\n",
        "print(\"x : \",x)"
      ]
    },
    {
      "cell_type": "markdown",
      "metadata": {
        "id": "gVeO5HUUOeHV"
      },
      "source": [
        "### 3. Les boucles ###\n"
      ]
    },
    {
      "cell_type": "markdown",
      "metadata": {
        "id": "sK9YXyW7OeHV"
      },
      "source": [
        "Les boucles permettent d'effectuer des tâches répétitives, soit avec un nombre prédéfini d'itérations, soit avec une condition de sortie de boucle.\n",
        "Dans les cellules qui suivent, remarquez *l'indentation* des lignes qui permet de distinguer les commandes comprises dans la boucle de celles qui sont en dehors."
      ]
    },
    {
      "cell_type": "markdown",
      "metadata": {
        "id": "eRizHLRUOeHW"
      },
      "source": [
        "**Les boucles for**"
      ]
    },
    {
      "cell_type": "markdown",
      "metadata": {
        "id": "HrMoz7pvOeHW"
      },
      "source": [
        "Elles sont utiles quand le nombre d'itérations est déterminé à l'avance."
      ]
    },
    {
      "cell_type": "markdown",
      "metadata": {
        "id": "bfXZJ9gfOeHW"
      },
      "source": [
        "Ci-dessous, on affiche i **de 0 jusqu'à 9**."
      ]
    },
    {
      "cell_type": "code",
      "execution_count": 21,
      "metadata": {
        "colab": {
          "base_uri": "https://localhost:8080/"
        },
        "id": "NXJN2FhTOeHW",
        "outputId": "e2b9480d-9ad1-41c1-8e7c-4be02a9141f7"
      },
      "outputs": [
        {
          "output_type": "stream",
          "name": "stdout",
          "text": [
            "0\n",
            "1\n",
            "2\n",
            "3\n",
            "4\n",
            "5\n",
            "6\n",
            "7\n",
            "8\n",
            "9\n"
          ]
        }
      ],
      "source": [
        "for i in range (10):\n",
        "    print(i)"
      ]
    },
    {
      "cell_type": "markdown",
      "metadata": {
        "id": "uaYthSRZOeHW"
      },
      "source": [
        "On peut aussi ne pas compter de 1 en 1 :"
      ]
    },
    {
      "cell_type": "code",
      "execution_count": 22,
      "metadata": {
        "colab": {
          "base_uri": "https://localhost:8080/"
        },
        "id": "HC9IP9I5OeHW",
        "outputId": "0b0434bc-72f9-40d7-e40e-f1954297de37"
      },
      "outputs": [
        {
          "output_type": "stream",
          "name": "stdout",
          "text": [
            "0\n",
            "3\n",
            "6\n",
            "9\n"
          ]
        }
      ],
      "source": [
        "for i in range(0, 10, 3):\n",
        "    print(i)"
      ]
    },
    {
      "cell_type": "markdown",
      "metadata": {
        "id": "uY2davZ1OeHW"
      },
      "source": [
        "On peut s'en servir pour parcourir le contenu d'une liste :"
      ]
    },
    {
      "cell_type": "code",
      "execution_count": 23,
      "metadata": {
        "colab": {
          "base_uri": "https://localhost:8080/"
        },
        "id": "5heL3BZYOeHW",
        "outputId": "9a12cbb4-ebea-48f0-9e75-9040cf37caf6"
      },
      "outputs": [
        {
          "output_type": "stream",
          "name": "stdout",
          "text": [
            "Température en kelvins : 293.34999999999997\n",
            "Température en kelvins : 288.75\n",
            "Température en kelvins : 281.54999999999995\n",
            "Température en kelvins : 291.04999999999995\n",
            "Température en kelvins : 303.4\n",
            "Température en kelvins : 279.75\n",
            "Température en kelvins : 279.84999999999997\n"
          ]
        }
      ],
      "source": [
        "for temp in temperatures:\n",
        "    print(\"Température en kelvins :\", temp + 273.15)"
      ]
    },
    {
      "cell_type": "markdown",
      "metadata": {
        "id": "MBEyo5xAOeHW"
      },
      "source": [
        "**Les boucles while**"
      ]
    },
    {
      "cell_type": "markdown",
      "metadata": {
        "id": "6scNx0AcOeHW"
      },
      "source": [
        "Elles sont utilisées avec des conditions: tant que la condition est vraie, on répette les instruction (boucle non bornée)."
      ]
    },
    {
      "cell_type": "code",
      "execution_count": 26,
      "metadata": {
        "colab": {
          "base_uri": "https://localhost:8080/"
        },
        "id": "f_Y9KaRCOeHW",
        "outputId": "7a0c18ed-4e16-4c7f-f568-61452682579b"
      },
      "outputs": [
        {
          "output_type": "stream",
          "name": "stdout",
          "text": [
            "Pas de 6 :(\n",
            "Pas de 6 :(\n",
            "Pas de 6 :(\n",
            "Pas de 6 :(\n",
            "Pas de 6 :(\n",
            "J'ai fait un 6 !!! o)\n"
          ]
        }
      ],
      "source": [
        "from random import randint\n",
        "de = randint(1, 6)  # On tire un dé 6 faces\n",
        "while de != 6:  # Tant que de est différent (!=) de 6\n",
        "    print(\"Pas de 6 :(\")\n",
        "    de = randint(1, 6)\n",
        "print(\"J'ai fait un 6 !!! o)\")"
      ]
    },
    {
      "cell_type": "markdown",
      "metadata": {
        "id": "vVaFtygnOeHX"
      },
      "source": [
        "### 4. Les conditions"
      ]
    },
    {
      "cell_type": "markdown",
      "metadata": {
        "id": "qRpV4AtxOeHX"
      },
      "source": [
        "Elles permettent d'exécuter des instructions selon qu'une condition est remplie ou non.\n",
        "Reprenons l'exemple du jeu de dés."
      ]
    },
    {
      "cell_type": "code",
      "execution_count": 27,
      "metadata": {
        "colab": {
          "base_uri": "https://localhost:8080/"
        },
        "id": "4L5QoI7_OeHX",
        "outputId": "71c13508-a44d-4c56-9209-720cac5094e2"
      },
      "outputs": [
        {
          "output_type": "stream",
          "name": "stdout",
          "text": [
            "Le joueur 2 a gangé !\n"
          ]
        }
      ],
      "source": [
        "from random import randint\n",
        "de1 = randint(1, 6)  # Dé tiré par le joueur 1\n",
        "de2 = randint(1, 6)  # Dé tiré par le joueur 2\n",
        "if de1 > de2 :\n",
        "    print(\"Le joueur 1 a gagné !\")\n",
        "elif de1 == de2 :\n",
        "    print(\"Partie nulle !\")\n",
        "else :\n",
        "    print(\"Le joueur 2 a gangé !\")"
      ]
    },
    {
      "cell_type": "markdown",
      "metadata": {
        "id": "RmS775rNOeHX"
      },
      "source": [
        "### 5. Les fonctions ###"
      ]
    },
    {
      "cell_type": "markdown",
      "metadata": {
        "id": "GlQeNRDTOeHX"
      },
      "source": [
        "Il est possible de définir des fonctions qui ne sont pas présentes initialement dans l'environnement Python.\n",
        "Une fonction peut soit :\n",
        "* renvoyer une valeur (return),\n",
        "* effectuer des actions (tracer des courbes, par exemple).\n",
        "L'exemple ci-dessous définit une fonction qui renvoie la concentration."
      ]
    },
    {
      "cell_type": "code",
      "execution_count": null,
      "metadata": {
        "id": "T836C89FOeHX"
      },
      "outputs": [],
      "source": [
        "def concentration(n, V):  # On donne le nom de la fonction et ses paramètres\n",
        "    return n/V"
      ]
    },
    {
      "cell_type": "markdown",
      "metadata": {
        "id": "gZzhY3IjOeHX"
      },
      "source": [
        "Elle peut maintenant être utilisée pour effectuer des calculs."
      ]
    },
    {
      "cell_type": "code",
      "execution_count": null,
      "metadata": {
        "id": "msboJlIeOeHX"
      },
      "outputs": [],
      "source": [
        "# Pour affecter une valeur à une variable\n",
        "c = concentration(0.5, 0.75)\n",
        "print(c)\n",
        "\n",
        "# Pour un affichage direct\n",
        "print(concentration(0.25, 1.5))"
      ]
    }
  ],
  "metadata": {
    "kernelspec": {
      "display_name": "Python 3 (ipykernel)",
      "language": "python",
      "name": "python3"
    },
    "language_info": {
      "codemirror_mode": {
        "name": "ipython",
        "version": 3
      },
      "file_extension": ".py",
      "mimetype": "text/x-python",
      "name": "python",
      "nbconvert_exporter": "python",
      "pygments_lexer": "ipython3",
      "version": "3.9.12"
    },
    "colab": {
      "name": "1_ProgrammePython (1).ipynb",
      "provenance": [],
      "collapsed_sections": []
    }
  },
  "nbformat": 4,
  "nbformat_minor": 0
}