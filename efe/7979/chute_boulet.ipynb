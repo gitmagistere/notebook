{
  "nbformat": 4,
  "nbformat_minor": 0,
  "metadata": {
    "colab": {
      "provenance": [],
      "collapsed_sections": []
    },
    "kernelspec": {
      "name": "python3",
      "display_name": "Python 3"
    },
    "language_info": {
      "name": "python"
    }
  },
  "cells": [
    {
      "cell_type": "markdown",
      "source": [
        "# Amusez-vous à modifier la masse, la hauteur de chute ... afin de simuler les graphes en énergie"
      ],
      "metadata": {
        "id": "IHEvc5Bw6InU"
      }
    },
    {
      "cell_type": "code",
      "execution_count": null,
      "metadata": {
        "id": "2Pw6yiV-5386"
      },
      "outputs": [],
      "source": [
        "# Importation des bibliothèques nécessaires\n",
        "from matplotlib import pyplot as plt\n",
        "from math import *\n",
        "\n",
        "# ------------------- Variables globales --------------------\n",
        "m=10       # Masse du boulet (en kg)\n",
        "g=9.8       # intensité hamp de pesanteur terrestre (en m/s^2)\n",
        "hA=27.75       # Hauteur initiale (en m)\n",
        "vA=0        # Vitesse initiale suivant l'axe horizontal (en m / s)\n",
        "EppA=m*g*hA # Energie potentielle de pesanteur initiale au point A (en J)\n",
        "\n",
        "# ------------- Initialisation des listes vides --------------\n",
        "H=[]\n",
        "t=[]\n",
        "vB=[]\n",
        "EcB=[]\n",
        "EppB=[]\n",
        "EmB=[]\n",
        "\n",
        "# ---------------- Construction des listes -----------------\n",
        "# La méthode .append ajoute des éléments à une liste\n",
        "# Dans la boucle for, la variable h varie de 0 à 2 par pas de 0.1\n",
        "\n",
        "for h in range (0,30,1):\n",
        "    H.append(h)\n",
        "    t.append(sqrt(2*h/g))\n",
        "    vB.append(sqrt(vA**2+2*g*h))\n",
        "    EcB.append(0.5*m*(sqrt(vA**2+2*g*h))**2)\n",
        "    EppB.append(EppA-m*g*h)\n",
        "    EmB.append(0.5*m*(sqrt(vA**2+2*g*h))**2 + EppA-m*g*h)\n",
        "\n",
        "# ----------------------- Graphique énergies -----------------------\n",
        "plt.figure('energies')\n",
        "plt.title(\"Evolution temporelle des énergies\")\n",
        "plt.plot(t,EppB,\"bo--\",label=\"EppB\")\n",
        "plt.plot(t,EcB,\"ro--\",label=\"EcB\")\n",
        "plt.plot(t,EmB,\"go--\",label=\"EmB\")\n",
        "plt.xlabel('Durée de la chute (en s)')\n",
        "plt.ylabel('Energies (en J)')\n",
        "plt.grid()\n",
        "plt.show()\n",
        "plt.close()"
      ]
    }
  ]
}