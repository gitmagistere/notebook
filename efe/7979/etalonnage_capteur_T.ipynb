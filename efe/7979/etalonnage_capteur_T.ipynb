{
  "nbformat": 4,
  "nbformat_minor": 0,
  "metadata": {
    "colab": {
      "provenance": [],
      "collapsed_sections": []
    },
    "kernelspec": {
      "name": "python3",
      "display_name": "Python 3"
    },
    "language_info": {
      "name": "python"
    }
  },
  "cells": [
    {
      "cell_type": "code",
      "execution_count": null,
      "metadata": {
        "id": "GSF2cOk0isVf"
      },
      "outputs": [],
      "source": [
        "import numpy as np\n",
        "import matplotlib.pyplot as plt\n",
        "\n",
        "#Valeurs expérimentales à compléter\n",
        "Texp = np.array([...,...,...])\n",
        "Mexp= np.array([...,...,...])\n",
        "\n",
        "# Création de la fonction de transfert\n",
        "coeff = np.polyfit(Mexp,Texp,1) #coefficient d'un polynome de degré 1\n",
        "Tmodel = coeff[0]*Mexp+coeff[1] #équation d'une fonction affine\n",
        "print('Tmodel =',coeff[0],'x M +',coeff[1]) # Ecriture de l'équation du modèle dans la console\n",
        "plt.plot(Mexp,Tmodel,'r-',label='tracé fonction transfert')  #Tracé du modèle\n",
        "\n",
        "#Tracé du graphique expérimental\n",
        "plt.grid()\n",
        "plt.plot(Mexp,Texp,'b+', label='Mesures expérimentales') #Tracé des points correspondants aux mesures expérimentales\n",
        "plt.xlabel('Mesures analogiques')\n",
        "plt.ylabel('Température en °C')\n",
        "plt.title('Graphique expérimental')\n",
        "plt.legend()\n",
        "plt.show()"
      ]
    }
  ]
}