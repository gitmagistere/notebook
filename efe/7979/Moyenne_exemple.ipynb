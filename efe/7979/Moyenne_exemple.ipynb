{
  "nbformat": 4,
  "nbformat_minor": 0,
  "metadata": {
    "colab": {
      "provenance": [],
      "collapsed_sections": []
    },
    "kernelspec": {
      "name": "python3",
      "display_name": "Python 3"
    },
    "language_info": {
      "name": "python"
    }
  },
  "cells": [
    {
      "cell_type": "markdown",
      "source": [
        "Calcul d'une moyenne avec la fonction mean() de la bibliothèque numpy"
      ],
      "metadata": {
        "id": "S6NeijPDMgy6"
      }
    },
    {
      "cell_type": "code",
      "execution_count": null,
      "metadata": {
        "colab": {
          "base_uri": "https://localhost:8080/"
        },
        "id": "6ya-BD3vJ0x5",
        "outputId": "2b822ce6-ab8c-4bef-ee00-627af87e1d30"
      },
      "outputs": [
        {
          "output_type": "stream",
          "name": "stdout",
          "text": [
            "Moyenne= 2.52\n"
          ]
        }
      ],
      "source": [
        "import numpy as np\n",
        "Y = np.array([2.49,2.51,2.56,2.47,2.55])\n",
        "moy = np.mean(Y)\n",
        "print('Moyenne=', round(moy,2))"
      ]
    }
  ]
}