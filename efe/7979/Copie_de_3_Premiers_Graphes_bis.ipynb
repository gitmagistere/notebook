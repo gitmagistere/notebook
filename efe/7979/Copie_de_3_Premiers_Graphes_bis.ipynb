{
  "cells": [
    {
      "cell_type": "markdown",
      "metadata": {
        "id": "zk6z6L8LJnAA"
      },
      "source": [
        "# Premiers graphes en Python#"
      ]
    },
    {
      "cell_type": "markdown",
      "metadata": {
        "id": "JWBdYrv_JnAE"
      },
      "source": [
        "Ce notebook s'appuie sur une ressource disponible dans [la base Éduscol](https://eduscol.education.fr/cid144120/physique-chimie-bac-2021.html).\n",
        "L'activité s'appuie sur l'exploitation de la chute d'une bille.\n",
        "\n",
        "Pour exécuter le contenu d'une cellule, cliquer sur l'icône de lecture ou cliquer dans la cellule et utiliser la combinaison de touches *MAJ + ENTRÉE*."
      ]
    },
    {
      "cell_type": "markdown",
      "metadata": {
        "id": "NlytGHKJJnAF"
      },
      "source": [
        "**Bibliothèques nécessaires**"
      ]
    },
    {
      "cell_type": "markdown",
      "metadata": {
        "id": "7FIPdUZ6JnAH"
      },
      "source": [
        "On importe les deux bibliothèques d'instructions permettant de :\n",
        "* faire du calcul numérique\n",
        "* tracer des graphiques"
      ]
    },
    {
      "cell_type": "code",
      "execution_count": null,
      "metadata": {
        "id": "G3NwmcjUJnAH"
      },
      "outputs": [],
      "source": [
        "import numpy as np  # Bibliothèque pour les calculs, renommée np\n",
        "import matplotlib.pyplot as plt  # Bibliothèque graphique, renommée plt"
      ]
    },
    {
      "cell_type": "markdown",
      "metadata": {
        "id": "AJACoc1HJnAI"
      },
      "source": [
        "**Préparation des tableaux de mesures**"
      ]
    },
    {
      "cell_type": "markdown",
      "metadata": {
        "id": "-_UIdOaqJnAI"
      },
      "source": [
        "Le tableau de mesures successives de l'ordonnée de la balle est entrée manuellement, sous forme de tableau, dans le programme.Il y a 16 valeurs.\n",
        "Les dates successives sont comprise entre 0 et 0,25 s. Il y en a 16. On utilise l'instruction linspace pour créer automatiquement ces instants."
      ]
    },
    {
      "cell_type": "code",
      "execution_count": null,
      "metadata": {
        "id": "Qklpb-9zJnAJ"
      },
      "outputs": [],
      "source": [
        "# Entrée des valeurs de l'ordonnée de la balle\n",
        "y = np.array([0, -0.7, -1.5, -2.3, -3.5, -4.5, -5.9, -7.7, -8.8, -10.6, -12.3, -14.2, -16.4, -18.5, -21., -23.5])\n",
        "# Création du tableau des dates, de même taille que le tableau des positions\n",
        "t=np.linspace(0, 0.25, 16)  # Origine 0, fin 0.25, 16 valeurs"
      ]
    },
    {
      "cell_type": "markdown",
      "metadata": {
        "id": "XAecwqp4JnAJ"
      },
      "source": [
        "Pour vérifier les contenus des tableaux créés, exécuter la cellule ci-dessous. (Facultatif)"
      ]
    },
    {
      "cell_type": "code",
      "execution_count": null,
      "metadata": {
        "id": "WWMftkojJnAK"
      },
      "outputs": [],
      "source": [
        "print('t : ', t)\n",
        "print('y : ', y)"
      ]
    },
    {
      "cell_type": "markdown",
      "metadata": {
        "id": "fygeLtBEJnAK"
      },
      "source": [
        "**Tracé du premier graphique**"
      ]
    },
    {
      "cell_type": "markdown",
      "metadata": {
        "id": "8idtgtVTJnAK"
      },
      "source": [
        "Une seule ligne de commande suffit au tracé du graphique.\n",
        "Exécuter la cellule ci-dessous pour tracer le graphique."
      ]
    },
    {
      "cell_type": "code",
      "execution_count": null,
      "metadata": {
        "id": "vIINEBZIJnAL"
      },
      "outputs": [],
      "source": [
        "plt.plot(t, y)"
      ]
    },
    {
      "cell_type": "markdown",
      "metadata": {
        "id": "vX9hZ8ufJnAL"
      },
      "source": [
        "**Amélioration de l'aspect du graphique**"
      ]
    },
    {
      "cell_type": "markdown",
      "metadata": {
        "id": "BkbtscYhJnAL"
      },
      "source": [
        "Il s'agit :\n",
        "* d'ajouter un titre,\n",
        "* d'ajouter des légendes sur les axes,\n",
        "* de changer l'aspect du tracé,\n",
        "* d'afficher le quadrillage."
      ]
    },
    {
      "cell_type": "code",
      "execution_count": null,
      "metadata": {
        "id": "DbOmKhAMJnAL"
      },
      "outputs": [],
      "source": [
        "plt.plot(t, y, 'rx', label=\"y=f(t)\")  # rx Croix de couleur rouge, nom de la courbe y=f(t)\n",
        "plt.xlabel(\"t (s)\")  # Nom de l'axe des abscisses\n",
        "plt.ylabel(\"y pointé\")  # Nom de l'axe des ordonnées\n",
        "plt.title(\"Chute libre d'une balle\")  # Titre du graphique\n",
        "plt.grid()  # Affichage de la grille\n",
        "plt.legend()  # Affichage de la légende\n",
        "plt.show()  # Affichage du graphique"
      ]
    },
    {
      "cell_type": "markdown",
      "metadata": {
        "id": "PZgRd_reJnAL"
      },
      "source": [
        "**Complément - Calculer avec un tableau**"
      ]
    },
    {
      "cell_type": "markdown",
      "metadata": {
        "id": "KtUyzsJeJnAM"
      },
      "source": [
        "Les tableaux créés par numpy supportent des calculs, sans qu'il soit nécessaire de calculer une à une les nouvelles valeurs.\n",
        "\n",
        "*Exercice proposé*"
      ]
    },
    {
      "cell_type": "markdown",
      "metadata": {
        "id": "KzbpkToLJnAM"
      },
      "source": [
        "On suppose que les valeurs du tableau **y** ne correspondent pas aux positions réelles mais qu'il soit nécessaire de tenir compte de l'échelle de la photo initiale au **2/100ème**.\n",
        "L'ordonnée réelle peut se calculer à partir de la mesure en divisant par $\\dfrac{2}{100}$."
      ]
    },
    {
      "cell_type": "code",
      "execution_count": null,
      "metadata": {
        "id": "FPGWU7M9JnAM"
      },
      "outputs": [],
      "source": [
        "yreel=y/(2/100)  # Un nouveau tableau est créé. "
      ]
    },
    {
      "cell_type": "code",
      "execution_count": null,
      "metadata": {
        "id": "dJKNaie1JnAM"
      },
      "outputs": [],
      "source": [
        "plt.plot(t, yreel, 'rx', label=\"y=f(t)\")  # rx Croix de couleur rouge, nom de la courbe y=f(t)\n",
        "plt.xlabel(\"t (s)\")  # Nom de l'axe des abscisses\n",
        "plt.ylabel(\"y (cm)\")  # Nom de l'axe des ordonnées\n",
        "plt.title(\"Chute libre d'une balle\")  # Titre du graphique\n",
        "plt.grid()  # Affichage de la grille\n",
        "plt.legend()  # Affichage de la légende\n",
        "plt.show()  # Affichage du graphique"
      ]
    },
    {
      "cell_type": "markdown",
      "metadata": {
        "id": "jP8Bfz-0JnAM"
      },
      "source": [
        "**Enrichissement de la commande plt.plot**"
      ]
    },
    {
      "cell_type": "markdown",
      "metadata": {
        "id": "7KWXat31JnAM"
      },
      "source": [
        "La couleur et forme du marqueur est définie par l'association de deux lettres :\n",
        "* Couleur : « r » (red), « k » (black), « b » (blue), « y » (yellow), « g » (green)\n",
        "* Marqueur : « o » (gros point), « - » (ligne), « . » (pointillé), « x » (croix), « s » (square), « v » (triangle)"
      ]
    }
  ],
  "metadata": {
    "kernelspec": {
      "display_name": "Python 3 (ipykernel)",
      "language": "python",
      "name": "python3"
    },
    "language_info": {
      "codemirror_mode": {
        "name": "ipython",
        "version": 3
      },
      "file_extension": ".py",
      "mimetype": "text/x-python",
      "name": "python",
      "nbconvert_exporter": "python",
      "pygments_lexer": "ipython3",
      "version": "3.9.12"
    },
    "colab": {
      "provenance": [],
      "collapsed_sections": []
    }
  },
  "nbformat": 4,
  "nbformat_minor": 0
}