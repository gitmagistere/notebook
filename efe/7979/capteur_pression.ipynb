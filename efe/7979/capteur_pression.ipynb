{
  "nbformat": 4,
  "nbformat_minor": 0,
  "metadata": {
    "colab": {
      "provenance": [],
      "collapsed_sections": []
    },
    "kernelspec": {
      "name": "python3",
      "display_name": "Python 3"
    },
    "language_info": {
      "name": "python"
    }
  },
  "cells": [
    {
      "cell_type": "code",
      "execution_count": null,
      "metadata": {
        "id": "8vrxSbjWrnaF"
      },
      "outputs": [],
      "source": [
        "import numpy as np\n",
        "import matplotlib.pyplot as plt\n",
        "\n",
        "#Valeurs expérimentales à compléter\n",
        "profondeur = np.array([...........])\n",
        "M= np.array([............])\n",
        "\n",
        "# Création de la fonction de transfert\n",
        "coeff = np.polyfit(M,profondeur,1) #coefficient d'un polynome de degré 1\n",
        "Profondeurmodel = coeff[0]*M+coeff[1] #équation d'une fonction affine\n",
        "print('Profondeurmodel =',coeff[0],'x M +',coeff[1]) # Ecriture de l'équation du modèle dans la console\n",
        "plt.plot(M,Profondeurmodel,'r-',label='tracé du modèle')  #Tracé du modèle\n",
        "\n",
        "#Tracé du graphique expérimental\n",
        "plt.grid()\n",
        "plt.plot(M,profondeur,'b+', label='Mesures expérimentales') #Tracé des points correspondants aux mesures expérimentales\n",
        "plt.xlabel('Mesures capteur')\n",
        "plt.ylabel('Mesures profondeur')\n",
        "plt.title('Graphique expérimental')\n",
        "plt.legend()\n",
        "plt.show()"
      ]
    }
  ]
}