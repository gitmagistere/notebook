<!DOCTYPE html>
<html  dir="ltr" lang="fr-mag" xml:lang="fr-mag">
<head>
    <title>Enseignement français à l'étranger</title>
    <link rel="shortcut icon" href="https://magistere.education.fr/efe/theme/image.php/magistere/theme/1589544773/favicon" />
	<link rel="apple-touch-icon-precomposed" href="https://magistere.education.fr/efe/theme/image.php/magistere/theme/1589544773/apple-touch-icon" />
	<meta http-equiv="Content-Type" content="text/html; charset=utf-8" />
<meta name="keywords" content="moodle, Enseignement français à l'étranger" />
<link rel="stylesheet" type="text/css" href="https://magistere.education.fr/efe/theme/yui_combo.php?rollup/3.17.2/yui-moodlesimple-min.css" /><script id="firstthemesheet" type="text/css">/** Required in order to fix style inclusion problems in IE with YUI **/</script><link rel="stylesheet" type="text/css" href="https://magistere.education.fr/efe/theme/styles.php/magistere/1589544773_1588661414/all" />
<script type="text/javascript">
//<![CDATA[
var M = {}; M.yui = {};
M.pageloadstarttime = new Date();
M.cfg = {"wwwroot":"https:\/\/magistere.education.fr\/efe","sesskey":"eVSsfBRLiQ","themerev":"1589544773","slasharguments":1,"theme":"magistere","iconsystemmodule":"core\/icon_system_standard","jsrev":"1589544773","admin":"admin","svgicons":true,"usertimezone":"Europe\/Berlin","contextid":2};var yui1ConfigFn = function(me) {if(/-skin|reset|fonts|grids|base/.test(me.name)){me.type='css';me.path=me.path.replace(/\.js/,'.css');me.path=me.path.replace(/\/yui2-skin/,'/assets/skins/sam/yui2-skin')}};
var yui2ConfigFn = function(me) {var parts=me.name.replace(/^moodle-/,'').split('-'),component=parts.shift(),module=parts[0],min='-min';if(/-(skin|core)$/.test(me.name)){parts.pop();me.type='css';min=''}
if(module){var filename=parts.join('-');me.path=component+'/'+module+'/'+filename+min+'.'+me.type}else{me.path=component+'/'+component+'.'+me.type}};
YUI_config = {"debug":false,"base":"https:\/\/magistere.education.fr\/efe\/lib\/yuilib\/3.17.2\/","comboBase":"https:\/\/magistere.education.fr\/efe\/theme\/yui_combo.php?","combine":true,"filter":null,"insertBefore":"firstthemesheet","groups":{"yui2":{"base":"https:\/\/magistere.education.fr\/efe\/lib\/yuilib\/2in3\/2.9.0\/build\/","comboBase":"https:\/\/magistere.education.fr\/efe\/theme\/yui_combo.php?","combine":true,"ext":false,"root":"2in3\/2.9.0\/build\/","patterns":{"yui2-":{"group":"yui2","configFn":yui1ConfigFn}}},"moodle":{"name":"moodle","base":"https:\/\/magistere.education.fr\/efe\/theme\/yui_combo.php?m\/1589544773\/","combine":true,"comboBase":"https:\/\/magistere.education.fr\/efe\/theme\/yui_combo.php?","ext":false,"root":"m\/1589544773\/","patterns":{"moodle-":{"group":"moodle","configFn":yui2ConfigFn}},"filter":null,"modules":{"moodle-core-actionmenu":{"requires":["base","event","node-event-simulate"]},"moodle-core-blocks":{"requires":["base","node","io","dom","dd","dd-scroll","moodle-core-dragdrop","moodle-core-notification"]},"moodle-core-checknet":{"requires":["base-base","moodle-core-notification-alert","io-base"]},"moodle-core-chooserdialogue":{"requires":["base","panel","moodle-core-notification"]},"moodle-core-dock":{"requires":["base","node","event-custom","event-mouseenter","event-resize","escape","moodle-core-dock-loader","moodle-core-event"]},"moodle-core-dock-loader":{"requires":["escape"]},"moodle-core-dragdrop":{"requires":["base","node","io","dom","dd","event-key","event-focus","moodle-core-notification"]},"moodle-core-event":{"requires":["event-custom"]},"moodle-core-formchangechecker":{"requires":["base","event-focus","moodle-core-event"]},"moodle-core-handlebars":{"condition":{"trigger":"handlebars","when":"after"}},"moodle-core-languninstallconfirm":{"requires":["base","node","moodle-core-notification-confirm","moodle-core-notification-alert"]},"moodle-core-lockscroll":{"requires":["plugin","base-build"]},"moodle-core-maintenancemodetimer":{"requires":["base","node"]},"moodle-core-notification":{"requires":["moodle-core-notification-dialogue","moodle-core-notification-alert","moodle-core-notification-confirm","moodle-core-notification-exception","moodle-core-notification-ajaxexception"]},"moodle-core-notification-dialogue":{"requires":["base","node","panel","escape","event-key","dd-plugin","moodle-core-widget-focusafterclose","moodle-core-lockscroll"]},"moodle-core-notification-alert":{"requires":["moodle-core-notification-dialogue"]},"moodle-core-notification-confirm":{"requires":["moodle-core-notification-dialogue"]},"moodle-core-notification-exception":{"requires":["moodle-core-notification-dialogue"]},"moodle-core-notification-ajaxexception":{"requires":["moodle-core-notification-dialogue"]},"moodle-core-popuphelp":{"requires":["moodle-core-tooltip"]},"moodle-core-tooltip":{"requires":["base","node","io-base","moodle-core-notification-dialogue","json-parse","widget-position","widget-position-align","event-outside","cache-base"]},"moodle-core_availability-form":{"requires":["base","node","event","event-delegate","panel","moodle-core-notification-dialogue","json"]},"moodle-backup-backupselectall":{"requires":["node","event","node-event-simulate","anim"]},"moodle-backup-confirmcancel":{"requires":["node","node-event-simulate","moodle-core-notification-confirm"]},"moodle-course-categoryexpander":{"requires":["node","event-key"]},"moodle-course-dragdrop":{"requires":["base","node","io","dom","dd","dd-scroll","moodle-core-dragdrop","moodle-core-notification","moodle-course-coursebase","moodle-course-util"]},"moodle-course-formatchooser":{"requires":["base","node","node-event-simulate"]},"moodle-course-management":{"requires":["base","node","io-base","moodle-core-notification-exception","json-parse","dd-constrain","dd-proxy","dd-drop","dd-delegate","node-event-delegate"]},"moodle-course-modchooser":{"requires":["moodle-core-chooserdialogue","moodle-course-coursebase"]},"moodle-course-util":{"requires":["node"],"use":["moodle-course-util-base"],"submodules":{"moodle-course-util-base":{},"moodle-course-util-section":{"requires":["node","moodle-course-util-base"]},"moodle-course-util-cm":{"requires":["node","moodle-course-util-base"]}}},"moodle-form-dateselector":{"requires":["base","node","overlay","calendar"]},"moodle-form-passwordunmask":{"requires":[]},"moodle-form-shortforms":{"requires":["node","base","selector-css3","moodle-core-event"]},"moodle-form-showadvanced":{"requires":["node","base","selector-css3"]},"moodle-question-chooser":{"requires":["moodle-core-chooserdialogue"]},"moodle-question-preview":{"requires":["base","dom","event-delegate","event-key","core_question_engine"]},"moodle-question-qbankmanager":{"requires":["node","selector-css3"]},"moodle-question-searchform":{"requires":["base","node"]},"moodle-availability_completion-form":{"requires":["base","node","event","moodle-core_availability-form"]},"moodle-availability_date-form":{"requires":["base","node","event","io","moodle-core_availability-form"]},"moodle-availability_grade-form":{"requires":["base","node","event","moodle-core_availability-form"]},"moodle-availability_group-form":{"requires":["base","node","event","moodle-core_availability-form"]},"moodle-availability_grouping-form":{"requires":["base","node","event","moodle-core_availability-form"]},"moodle-availability_profile-form":{"requires":["base","node","event","moodle-core_availability-form"]},"moodle-availability_role-form":{"requires":["base","node","event","moodle-core_availability-form"]},"moodle-qtype_ddimageortext-dd":{"requires":["node","dd","dd-drop","dd-constrain"]},"moodle-qtype_ddimageortext-form":{"requires":["moodle-qtype_ddimageortext-dd","form_filepicker"]},"moodle-qtype_ddmarker-dd":{"requires":["node","event-resize","dd","dd-drop","dd-constrain","graphics"]},"moodle-qtype_ddmarker-form":{"requires":["moodle-qtype_ddmarker-dd","form_filepicker","graphics","escape"]},"moodle-qtype_ddwtos-dd":{"requires":["node","dd","dd-drop","dd-constrain"]},"moodle-mod_assign-history":{"requires":["node","transition"]},"moodle-mod_forum-subscriptiontoggle":{"requires":["base-base","io-base"]},"moodle-mod_quiz-autosave":{"requires":["base","node","event","event-valuechange","node-event-delegate","io-form"]},"moodle-mod_quiz-dragdrop":{"requires":["base","node","io","dom","dd","dd-scroll","moodle-core-dragdrop","moodle-core-notification","moodle-mod_quiz-quizbase","moodle-mod_quiz-util-base","moodle-mod_quiz-util-page","moodle-mod_quiz-util-slot","moodle-course-util"]},"moodle-mod_quiz-modform":{"requires":["base","node","event"]},"moodle-mod_quiz-questionchooser":{"requires":["moodle-core-chooserdialogue","moodle-mod_quiz-util","querystring-parse"]},"moodle-mod_quiz-quizbase":{"requires":["base","node"]},"moodle-mod_quiz-repaginate":{"requires":["base","event","node","io","moodle-core-notification-dialogue"]},"moodle-mod_quiz-toolboxes":{"requires":["base","node","event","event-key","io","moodle-mod_quiz-quizbase","moodle-mod_quiz-util-slot","moodle-core-notification-ajaxexception"]},"moodle-mod_quiz-util":{"requires":["node","moodle-core-actionmenu"],"use":["moodle-mod_quiz-util-base"],"submodules":{"moodle-mod_quiz-util-base":{},"moodle-mod_quiz-util-slot":{"requires":["node","moodle-mod_quiz-util-base"]},"moodle-mod_quiz-util-page":{"requires":["node","moodle-mod_quiz-util-base"]}}},"moodle-mod_viaassign-history":{"requires":["node","transition"]},"moodle-message_airnotifier-toolboxes":{"requires":["base","node","io"]},"moodle-block_messageteacher-form":{"requires":["base","io","io-form","node","json","moodle-core-notification"]},"moodle-filter_glossary-autolinker":{"requires":["base","node","io-base","json-parse","event-delegate","overlay","moodle-core-event","moodle-core-notification-alert","moodle-core-notification-exception","moodle-core-notification-ajaxexception"]},"moodle-filter_mathjaxloader-loader":{"requires":["moodle-core-event"]},"moodle-editor_atto-editor":{"requires":["node","transition","io","overlay","escape","event","event-simulate","event-custom","node-event-html5","node-event-simulate","yui-throttle","moodle-core-notification-dialogue","moodle-core-notification-confirm","moodle-editor_atto-rangy","handlebars","timers","querystring-stringify"]},"moodle-editor_atto-plugin":{"requires":["node","base","escape","event","event-outside","handlebars","event-custom","timers","moodle-editor_atto-menu"]},"moodle-editor_atto-menu":{"requires":["moodle-core-notification-dialogue","node","event","event-custom"]},"moodle-editor_atto-rangy":{"requires":[]},"moodle-report_eventlist-eventfilter":{"requires":["base","event","node","node-event-delegate","datatable","autocomplete","autocomplete-filters"]},"moodle-report_loglive-fetchlogs":{"requires":["base","event","node","io","node-event-delegate"]},"moodle-gradereport_grader-gradereporttable":{"requires":["base","node","event","handlebars","overlay","event-hover"]},"moodle-gradereport_history-userselector":{"requires":["escape","event-delegate","event-key","handlebars","io-base","json-parse","moodle-core-notification-dialogue"]},"moodle-tool_capability-search":{"requires":["base","node"]},"moodle-tool_lp-dragdrop-reorder":{"requires":["moodle-core-dragdrop"]},"moodle-tool_monitor-dropdown":{"requires":["base","event","node"]},"moodle-assignfeedback_editpdf-editor":{"requires":["base","event","node","io","graphics","json","event-move","event-resize","transition","querystring-stringify-simple","moodle-core-notification-dialog","moodle-core-notification-alert","moodle-core-notification-warning","moodle-core-notification-exception","moodle-core-notification-ajaxexception"]},"moodle-atto_accessibilitychecker-button":{"requires":["color-base","moodle-editor_atto-plugin"]},"moodle-atto_accessibilityhelper-button":{"requires":["moodle-editor_atto-plugin"]},"moodle-atto_align-button":{"requires":["moodle-editor_atto-plugin"]},"moodle-atto_bold-button":{"requires":["moodle-editor_atto-plugin"]},"moodle-atto_bsgrid-button":{"requires":["moodle-editor_atto-plugin"]},"moodle-atto_centralizedmedia-button":{"requires":["moodle-editor_atto-plugin"]},"moodle-atto_charmap-button":{"requires":["moodle-editor_atto-plugin"]},"moodle-atto_clear-button":{"requires":["moodle-editor_atto-plugin"]},"moodle-atto_collapse-button":{"requires":["moodle-editor_atto-plugin"]},"moodle-atto_emoticon-button":{"requires":["moodle-editor_atto-plugin"]},"moodle-atto_equation-button":{"requires":["moodle-editor_atto-plugin","moodle-core-event","io","event-valuechange","tabview","array-extras"]},"moodle-atto_fullscreen-button":{"requires":["event-resize","moodle-editor_atto-plugin"]},"moodle-atto_generico-button":{"requires":["moodle-editor_atto-plugin"]},"moodle-atto_html-button":{"requires":["moodle-editor_atto-plugin","event-valuechange"]},"moodle-atto_htmlplus-beautify":{},"moodle-atto_htmlplus-button":{"requires":["moodle-editor_atto-plugin","moodle-atto_htmlplus-beautify","moodle-atto_htmlplus-codemirror","event-valuechange"]},"moodle-atto_htmlplus-codemirror":{"requires":["moodle-atto_htmlplus-codemirror-skin"]},"moodle-atto_image-button":{"requires":["moodle-editor_atto-plugin"]},"moodle-atto_imagedragdrop-button":{"requires":["moodle-editor_atto-plugin"]},"moodle-atto_indent-button":{"requires":["moodle-editor_atto-plugin"]},"moodle-atto_italic-button":{"requires":["moodle-editor_atto-plugin"]},"moodle-atto_link-button":{"requires":["moodle-editor_atto-plugin"]},"moodle-atto_managefiles-button":{"requires":["moodle-editor_atto-plugin"]},"moodle-atto_managefiles-usedfiles":{"requires":["node","escape"]},"moodle-atto_media-button":{"requires":["moodle-editor_atto-plugin","moodle-form-shortforms"]},"moodle-atto_noautolink-button":{"requires":["moodle-editor_atto-plugin"]},"moodle-atto_orderedlist-button":{"requires":["moodle-editor_atto-plugin"]},"moodle-atto_poodll-button":{"requires":["moodle-editor_atto-plugin"]},"moodle-atto_pythonformat-button":{"requires":["moodle-editor_atto-plugin"]},"moodle-atto_recordrtc-button":{"requires":["moodle-editor_atto-plugin","moodle-atto_recordrtc-recording"]},"moodle-atto_recordrtc-recording":{"requires":["moodle-atto_recordrtc-button"]},"moodle-atto_rtl-button":{"requires":["moodle-editor_atto-plugin"]},"moodle-atto_strike-button":{"requires":["moodle-editor_atto-plugin"]},"moodle-atto_subscript-button":{"requires":["moodle-editor_atto-plugin"]},"moodle-atto_superscript-button":{"requires":["moodle-editor_atto-plugin"]},"moodle-atto_table-button":{"requires":["moodle-editor_atto-plugin","moodle-editor_atto-menu","event","event-valuechange"]},"moodle-atto_title-button":{"requires":["moodle-editor_atto-plugin"]},"moodle-atto_underline-button":{"requires":["moodle-editor_atto-plugin"]},"moodle-atto_undo-button":{"requires":["moodle-editor_atto-plugin"]},"moodle-atto_unorderedlist-button":{"requires":["moodle-editor_atto-plugin"]}}},"gallery":{"name":"gallery","base":"https:\/\/magistere.education.fr\/efe\/lib\/yuilib\/gallery\/","combine":true,"comboBase":"https:\/\/magistere.education.fr\/efe\/theme\/yui_combo.php?","ext":false,"root":"gallery\/1589544773\/","patterns":{"gallery-":{"group":"gallery"}}}},"modules":{"core_filepicker":{"name":"core_filepicker","fullpath":"https:\/\/magistere.education.fr\/efe\/lib\/javascript.php\/1589544773\/repository\/filepicker.js","requires":["base","node","node-event-simulate","json","async-queue","io-base","io-upload-iframe","io-form","yui2-treeview","panel","cookie","datatable","datatable-sort","resize-plugin","dd-plugin","escape","moodle-core_filepicker","moodle-core-notification-dialogue"]},"core_comment":{"name":"core_comment","fullpath":"https:\/\/magistere.education.fr\/efe\/lib\/javascript.php\/1589544773\/comment\/comment.js","requires":["base","io-base","node","json","yui2-animation","overlay","escape"]},"mathjax":{"name":"mathjax","fullpath":"https:\/\/cdnjs.cloudflare.com\/ajax\/libs\/mathjax\/2.7.2\/MathJax.js?delayStartupUntil=configured"}}};
M.yui.loader = {modules: {}};

//]]>
</script>
    <meta name="viewport" content="width=device-width, initial-scale=1.0">
	<!-- Fonts -->
	<link href="//fonts.googleapis.com/css?family=Open+Sans" rel="stylesheet" type="text/css" /> 
 </head>
<body  id="page-site-noconnected" class="format-site  path-site gecko dir-ltr lang-fr_mag yui-skin-sam yui3-skin-sam magistere-education-fr--efe pagelayout-frontal_notconnected course-1 context-2 notloggedin content-only layout-option-nonavbar">

<div class="skiplinks">
    <a href="#maincontent" class="skip">Passer au contenu principal</a>
</div><script type="text/javascript" src="https://magistere.education.fr/efe/theme/yui_combo.php?rollup/3.17.2/yui-moodlesimple-min.js"></script><script type="text/javascript" src="https://magistere.education.fr/efe/theme/jquery.php/core/jquery-3.2.1.min.js"></script>
<link rel="stylesheet" type="text/css" href="https://magistere.education.fr/efe/theme/jquery.php/core/ui-1.12.1/theme/smoothness/jquery-ui.min.css" />
<script type="text/javascript" src="https://magistere.education.fr/efe/theme/jquery.php/core/ui-1.12.1/jquery-ui.min.js"></script>
<script type="text/javascript" src="https://magistere.education.fr/efe/lib/javascript.php/1589544773/lib/javascript-static.js"></script>
<script type="text/javascript" src="https://magistere.education.fr/efe/theme/javascript.php/magistere/1589544773/head"></script>
<script type="text/javascript">
//<![CDATA[
document.body.className += ' jsenabled';
//]]>
</script>



<header role="banner" class="navbar  moodle-has-zindex">
    <nav role="navigation" class="navbar-inner">
        <div class="container-fluid">
            <div class="brand"><img src="https://magistere.education.fr/efe/theme/image.php/magistere/theme/1589544773/logos/logo_magistere"/><span class="shortname">EFE</span></div>            <a class="btn btn-navbar" data-toggle="collapse" data-target=".nav-collapse"><span class="icon-bar"></span>
<span class="icon-bar"></span>
<span class="icon-bar"></span></a>            <div class="usermenu"><span class="login">Non connecté. (<a href="https://magistere.education.fr/efe/login/index.php">Connexion</a>)</span></div>                        <div class="search-input-wrapper nav-link" id="5ec331f3564e1"><div role="button" tabindex="0"><img class="icon " alt="Recherche" title="Recherche" src="https://magistere.education.fr/efe/theme/image.php/magistere/core/1589544773/a/search" /></div><form class="search-input-form" action="https://magistere.education.fr/efe/search/index.php"><label for="id_q_5ec331f3564e1" class="accesshide">Taper votre requête</label><input type="text" name="q" placeholder="Recherche" size="13" tabindex="-1" id="id_q_5ec331f3564e1" class="form-control"></input><input type="hidden" name="context" value="2" /></form></div>            <div class="nav-collapse collapse">
                <ul class="nav"><li><a title="Offre de formation" href="https://magistere.education.fr/local/magistere_offers/index.php?v=formation">Offre de formation</a></li></ul>                <ul class="nav pull-right">
                    <li></li>
                </ul>
            </div>
        </div>
    </nav>
</header>

<div class="container-fluid clearfix">
<nav class="breadcrumb-button"></nav>

</div>
<div id="page" class="container-fluid clearfix">

    <div id="reset_mainaca" title="R&eacute;initialisation de ma plateforme de rattachement" style="display:none">

        <div id="reset_mainaca_content" class="felement fsubmit" style="margin: -0.5em -1em; margin-top: 10px;">
            <p>Le choix de votre plateforme de rattachement va &ecirc;tre r&eacute;initialis&eacute;.</p>
            <p>Vous aurez la possibilit&eacute; de s&eacute;lectionner une nouvelle plateforme de rattachement lors de votre prochaine connexion.</p>
            <div style='width:100%;text-align:right;margin-top: 30px;'>
                <input name="validate" value="Valider et continuer" type="button" id="bt_validate" style='margin-right:5px'>
                <input name="cancel" value="Annuler" type="button" id="bt_cancel">
            </div>
        </div>
        <div id="reset_mainaca_conf" class="felement fsubmit" style="display:none;text-align:center">Chargement...</div>
    </div>

    <div id="page-content" class="row-fluid">
        <section id="region-main" class="span12">
            <span class="notifications" id="user-notifications"></span><div role="main"><span id="maincontent"></span>
		<div id="magistere_accueil_main_page">
		    <div class="connection">
            <h1 class="title">Connectez-vous à M@gistère</h1>
            <h2 class="subtitle">VOTRE PLATEFORME DE FORMATION CONTINUE</h2>
            <div>
                <div class="block ens_sco">
                <img src="https://magistere.education.fr/efe/theme/image.php/magistere/theme/1589544773/general/accueil_avatar"><h2>Je suis enseignant ou personnel fran&ccedil;ais dans un <b>établissement à l'étranger</b></h2><a class="btn" id="btn_sco" href="https://magistere.education.fr/efe/login"><span>Connexion</span></a>
            <div class="link_connexion">
			<span><a class="underline"  href="https://magistere.education.fr/efe/auth/shibboleth/index.php"><i class="fa fa-play" aria-hidden="true"></i> Je ne suis pas un enseignant ou personnel français à l'étranger</a></span>
		</div>   <a class="link-info" data-toggle="collapse" href="#collapse_ens_sco" role="button" aria-expanded="false" aria-controls="collapse_ens_sco">
                        <i class="fa fa-info-circle fa-2x" aria-hidden="true"></i>
                    </a> 
                <div class="collapse " id="collapse_ens_sco">
                    <div class="bg">
                        <span>
                            <b>Exemples</b> : j'ai une adresse mél professionnelle de type prenom.nom@ac-academie.fr, prenom.nom@education.gouv.fr ou prenom.nom@igesr.gouv.fr
                        </span>
                        <br/>					
                    </div>
                </div>
            </div>
				
			<div class="block ens_sup">
				<img src="https://magistere.education.fr/efe/theme/image.php/magistere/theme/1589544773/general/accueil_avatar2">
				<h2>Je suis enseignant ou étudiant d'un établissement dépendant de l'<b>enseignement supérieur</b></h2>
				<a class="btn" id="btn_sup" href="https://fim-hn-02-fer.phm.education.gouv.fr/hub/magistere-fer-pr_dmz">
					<span>Connexion</span>
				</a>
				    <a class="link-info" data-toggle="collapse" href="#collapse_ens_sup" role="button" aria-expanded="false" aria-controls="collapse_ens_sup">
                        <i class="fa fa-info-circle fa-2x" aria-hidden="true"></i>
                    </a> 
                    <div class="collapse " id="collapse_ens_sup">
                        <div class="bg">
                            <span><b>Exemples</b> : j'ai une adresse mél professionnelle fournie par une université, un INSPE, un établissement de l'enseignement supérieur, une organisation telle que Canopé, l'ONISEP ou l'enseignement agricole</span>
                            <br/>
                        </div>
					</div>
					</div>
					</div>
		<div class="other-connections">
			<div class="help_connection">Besoin <a class="footer_conhelp" href="https://magistere.education.fr/efe/mod/page/view.php?id=401"> d'aide pour vous connecter ?</a></div>
			<div class="other_connection">ou <a href="https://magistere.education.fr/efe/login"> connexion directe à M@gistère</a></div>
		</div>
	</div>
	<div class="info">
		<h1 class="title">M@gistère en quelques mots</h1>
		<div>
			<div class="block icon1">
				<img src="https://magistere.education.fr/efe/theme/image.php/magistere/theme/1589544773/general/accueil_icon1">
				<h2><b>Une plateforme unique</b><br/>permettant de vous former<br/>où et quand vous le souhaitez</h2>
			</div>
			<div class="block icon2">
				<img src="https://magistere.education.fr/efe/theme/image.php/magistere/theme/1589544773/general/accueil_icon2">
				<h2><b>Une offre de formation</b><br/>personnalisée où vous avez<br/>le choix</h2>
			</div>
			<div class="block icon3">
				<img src="https://magistere.education.fr/efe/theme/image.php/magistere/theme/1589544773/general/accueil_icon3">
				<h2><b>Des parcours de qualité</b><br/>accompagnés ou en<br/>auto-formation répondant à vos<br/>besoins immédiats de formation</h2>
			</div>
		</div>
	</div>
</div></div>        </section>
    </div>
</div>
    <footer id="page-footer">
        <div id="page-footer-content">
    <input type="hidden" id="ttt_url" value="https://magistere.education.fr/efe/local/magisterelib/footer_ajax_url_search.php">
    <div id="page-footer-options">
        <div class="container-fluid">
            <div id="logo_footer">
                <div id="logo_ministere"></div>
            </div>
            <div id="footer_elements">
                <div class="element">
                    <ul>
                        <li></li>
                        <li><a id="footer_terms" href="https://magistere.education.fr/efe/mod/page/view.php?id=398">Mentions légales</a></li>
                        <li>|</li>
                        <li><a id="footer_about" href="https://magistere.education.fr/efe/mod/page/view.php?id=399">À propos</a></li>
                        <li>|</li>
                        <li><a id="footer_contact" href="https://magistere.education.fr/efe/mod/page/view.php?id=400">Contact</a></li>
                        <li>|</li>
                        <li><a class="footer_conhelp" href="https://magistere.education.fr/efe/mod/page/view.php?id=401">Aide à la connexion</a></li>
                        <li>|</li>
                        <li><a href="https://pp-wiki-magistere.foad.hp.in.phm.education.gouv.fr/Accueil">Aide à l'utilisation</a></li>
                    </ul>
                </div>
                <div class="element">
                    <ul>
                        <li class="title">Plateformes du réseau :</li>
                        <li><a href="https://magistere.education.fr/dgesco/">DGESCO</a></li>
                        <li>|</li>
                        <li><a href="https://magistere.education.fr/esen/">IH2EF</a></li>
                        <li>|</li>
                        <li><a href="https://magistere.education.fr/reseau-canope/">Réseau Canopé</a></li>
                        <li>|</li>
                        <li><a href="https://magistere.education.fr/dne-foad/">DNE</a></li>
                        <li>|</li>
                        <li>
                            <div class="plate-list" id="plat_list">
                                <form>
                                    <select name="" id="selectaca">
                                        <option class="option_plat_list" value="0">Autre Plate-forme</option>
                                        <option class="option_plat_list" value="https://magistere.education.fr/ac-aix-marseille/">Aix-Marseille</option><option class="option_plat_list" value="https://magistere.education.fr/ac-amiens/">Amiens</option><option class="option_plat_list" value="https://magistere.education.fr/ac-besancon/">Besancon</option><option class="option_plat_list" value="https://magistere.education.fr/ac-bordeaux/">Bordeaux</option><option class="option_plat_list" value="https://magistere.education.fr/ac-caen/">Caen</option><option class="option_plat_list" value="https://magistere.education.fr/ac-clermont/">Clermont-Ferrand</option><option class="option_plat_list" value="https://magistere.education.fr/reseau-canope/">Réseau Canopé</option><option class="option_plat_list" value="https://magistere.education.fr/ac-corse/">Corse</option><option class="option_plat_list" value="https://magistere.education.fr/ac-creteil/">Créteil</option><option class="option_plat_list" value="https://magistere.education.fr/dgesco/">DGESCO</option><option class="option_plat_list" value="https://magistere.education.fr/dgrh/">DGRH</option><option class="option_plat_list" value="https://magistere.education.fr/dne-foad/">DNE</option><option class="option_plat_list" value="https://magistere.education.fr/ac-dijon/">Dijon</option><option class="option_plat_list" value="https://magistere.education.fr/efe/">EFE</option><option class="option_plat_list" value="https://magistere.education.fr/ih2ef/">IH2EF</option><option class="option_plat_list" value="https://magistere.education.fr/ac-guadeloupe/">Guadeloupe</option><option class="option_plat_list" value="https://magistere.education.fr/ac-guyane/">Guyane</option><option class="option_plat_list" value="https://magistere.education.fr/ac-grenoble/">Grenoble</option><option class="option_plat_list" value="https://magistere.education.fr/ac-lille/">Lille</option><option class="option_plat_list" value="https://magistere.education.fr/ac-limoges/">Limoges</option><option class="option_plat_list" value="https://magistere.education.fr/ac-lyon/">Lyon</option><option class="option_plat_list" value="https://magistere.education.fr/ac-martinique/">Martinique</option><option class="option_plat_list" value="https://magistere.education.fr/ac-mayotte/">Mayotte</option><option class="option_plat_list" value="https://magistere.education.fr/ac-montpellier/">Montpellier</option><option class="option_plat_list" value="https://magistere.education.fr/ac-nancy-metz/">Nancy-Metz</option><option class="option_plat_list" value="https://magistere.education.fr/ac-nantes/">Nantes</option><option class="option_plat_list" value="https://magistere.education.fr/ac-noumea/">Nouvelle-Calédonie</option><option class="option_plat_list" value="https://magistere.education.fr/ac-nice/">Nice</option><option class="option_plat_list" value="https://magistere.education.fr/ac-orleans-tours/">Orleans-Tours</option><option class="option_plat_list" value="https://magistere.education.fr/ac-paris/">Paris</option><option class="option_plat_list" value="https://magistere.education.fr/ac-poitiers/">Poitiers</option><option class="option_plat_list" value="https://magistere.education.fr/ac-polynesie/">Polynésie</option><option class="option_plat_list" value="https://magistere.education.fr/ac-reims/">Reims</option><option class="option_plat_list" value="https://magistere.education.fr/ac-rennes/">Rennes</option><option class="option_plat_list" value="https://magistere.education.fr/ac-reunion/">Réunion</option><option class="option_plat_list" value="https://magistere.education.fr/ac-rouen/">Rouen</option><option class="option_plat_list" value="https://magistere.education.fr/ac-strasbourg/">Strasbourg</option><option class="option_plat_list" value="https://magistere.education.fr/ac-st-pierre-miquelon/">St-Pierre-Et-Miquelon</option><option class="option_plat_list" value="https://magistere.education.fr/ac-toulouse/">Toulouse</option><option class="option_plat_list" value="https://magistere.education.fr/ac-versailles/">Versailles</option><option class="option_plat_list" value="https://magistere.education.fr/ac-wallis-futuna/">Wallis-Et-Futuna</option>                                    </select>
                                </form>
                            </div>
                        </li>
                    </ul>
                </div>
                <div class="element">
                    <ul>
                        <li>Version : 3.0.7</li>
                        <li>|</li>
                        <li></li>
                    </ul>
                </div>
            </div>
        </div>
    </div>
</div>

<script>
    //redirection suite à la selection dans la combobox
    $(function() {

        $('#selectaca').change(function(){
            url = $('#selectaca').val();
            if(url!=0){
                window.location.href = url;
            }
        });

    });
</script>


<script type="text/javascript">
  var _paq = _paq || [];
  /* tracker methods like "setCustomDimension" should be called before "trackPageView" */
  _paq.push(['trackPageView']);
  _paq.push(['enableLinkTracking']);
  (function() {
    var u="//wa.phm.education.gouv.fr/magistere/";
    _paq.push(['setTrackerUrl', u+'p.php']);
    _paq.push(['setSiteId', '1']);
    var d=document, g=d.createElement('script'), s=d.getElementsByTagName('script')[0];
    g.type='text/javascript'; g.async=true; g.defer=true; g.src=u+'p.js'; s.parentNode.insertBefore(g,s);
  })();
</script>
<noscript>
<img src='https://wa.phm.education.gouv.fr/magistere/p.php?idsite=1' style='border:0;' alt='' />
</noscript>



    </footer>

    <script type="text/javascript">
//<![CDATA[
var require = {
    baseUrl : 'https://magistere.education.fr/efe/lib/requirejs.php/1589544773/',
    // We only support AMD modules with an explicit define() statement.
    enforceDefine: true,
    skipDataMain: true,
    waitSeconds : 0,

    paths: {
        jquery: 'https://magistere.education.fr/efe/lib/javascript.php/1589544773/lib/jquery/jquery-3.2.1.min',
        jqueryui: 'https://magistere.education.fr/efe/lib/javascript.php/1589544773/lib/jquery/ui-1.12.1/jquery-ui.min',
        jqueryprivate: 'https://magistere.education.fr/efe/lib/javascript.php/1589544773/lib/requirejs/jquery-private'
    },

    // Custom jquery config map.
    map: {
      // '*' means all modules will get 'jqueryprivate'
      // for their 'jquery' dependency.
      '*': { jquery: 'jqueryprivate' },
      // Stub module for 'process'. This is a workaround for a bug in MathJax (see MDL-60458).
      '*': { process: 'core/first' },

      // 'jquery-private' wants the real jQuery module
      // though. If this line was not here, there would
      // be an unresolvable cyclic dependency.
      jqueryprivate: { jquery: 'jquery' }
    }
};

//]]>
</script>
<script type="text/javascript" src="https://magistere.education.fr/efe/lib/javascript.php/1589544773/lib/requirejs/require.min.js"></script>
<script type="text/javascript">
//<![CDATA[
require(['core/first'], function() {
;
require(["media_videojs/loader"], function(loader) {
    loader.setUp(function(videojs) {
        videojs.options.flash.swf = "https://magistere.education.fr/efe/media/player/videojs/videojs/video-js.swf";
videojs.addLanguage("fr",{
 "Audio Player": "Lecteur audio",
 "Video Player": "Lecteur vidéo",
 "Play": "Lecture",
 "Pause": "Pause",
 "Replay": "Revoir",
 "Current Time": "Temps actuel",
 "Duration Time": "Durée",
 "Remaining Time": "Temps restant",
 "Stream Type": "Type de flux",
 "LIVE": "EN DIRECT",
 "Loaded": "Chargé",
 "Progress": "Progression",
 "Progress Bar": "Barre de progression",
 "progress bar timing: currentTime={1} duration={2}": "{1} de {2}",
 "Fullscreen": "Plein écran",
 "Non-Fullscreen": "Fenêtré",
 "Mute": "Sourdine",
 "Unmute": "Son activé",
 "Playback Rate": "Vitesse de lecture",
 "Subtitles": "Sous-titres",
 "subtitles off": "Sous-titres désactivés",
 "Captions": "Sous-titres transcrits",
 "captions off": "Sous-titres transcrits désactivés",
 "Chapters": "Chapitres",
 "Descriptions": "Descriptions",
 "descriptions off": "descriptions désactivées",
 "Audio Track": "Piste audio",
 "Volume Level": "Niveau de volume",
 "You aborted the media playback": "Vous avez interrompu la lecture de la vidéo.",
 "A network error caused the media download to fail part-way.": "Une erreur de réseau a interrompu le téléchargement de la vidéo.",
 "The media could not be loaded, either because the server or network failed or because the format is not supported.": "Cette vidéo n'a pas pu être chargée, soit parce que le serveur ou le réseau a échoué ou parce que le format n'est pas reconnu.",
 "The media playback was aborted due to a corruption problem or because the media used features your browser did not support.": "La lecture de la vidéo a été interrompue à cause d'un problème de corruption ou parce que la vidéo utilise des fonctionnalités non prises en charge par votre navigateur.",
 "No compatible source was found for this media.": "Aucune source compatible n'a été trouvée pour cette vidéo.",
 "The media is encrypted and we do not have the keys to decrypt it.": "Le média est chiffré et nous n'avons pas les clés pour le déchiffrer.",
 "Play Video": "Lire la vidéo",
 "Close": "Fermer",
 "Close Modal Dialog": "Fermer la boîte de dialogue modale",
 "Modal Window": "Fenêtre modale",
 "This is a modal window": "Ceci est une fenêtre modale",
 "This modal can be closed by pressing the Escape key or activating the close button.": "Ce modal peut être fermé en appuyant sur la touche Échap ou activer le bouton de fermeture.",
 ", opens captions settings dialog": ", ouvrir les paramètres des sous-titres transcrits",
 ", opens subtitles settings dialog": ", ouvrir les paramètres des sous-titres",
 ", opens descriptions settings dialog": ", ouvrir les paramètres des descriptions",
 ", selected": ", sélectionné",
 "captions settings": "Paramètres des sous-titres transcrits",
 "subtitles settings": "Paramètres des sous-titres",
 "descriptions settings": "Paramètres des descriptions",
 "Text": "Texte",
 "White": "Blanc",
 "Black": "Noir",
 "Red": "Rouge",
 "Green": "Vert",
 "Blue": "Bleu",
 "Yellow": "Jaune",
 "Magenta": "Magenta",
 "Cyan": "Cyan",
 "Background": "Arrière-plan",
 "Window": "Fenêtre",
 "Transparent": "Transparent",
 "Semi-Transparent": "Semi-transparent",
 "Opaque": "Opaque",
 "Font Size": "Taille des caractères",
 "Text Edge Style": "Style des contours du texte",
 "None": "Aucun",
 "Raised": "Élevé",
 "Depressed": "Enfoncé",
 "Uniform": "Uniforme",
 "Dropshadow": "Ombre portée",
 "Font Family": "Famille de polices",
 "Proportional Sans-Serif": "Polices à chasse variable sans empattement (Proportional Sans-Serif)",
 "Monospace Sans-Serif": "Polices à chasse fixe sans empattement (Monospace Sans-Serif)",
 "Proportional Serif": "Polices à chasse variable avec empattement (Proportional Serif)",
 "Monospace Serif": "Polices à chasse fixe avec empattement (Monospace Serif)",
 "Casual": "Manuscrite",
 "Script": "Scripte",
 "Small Caps": "Petites capitales",
 "Reset": "Réinitialiser",
 "restore all settings to the default values": "Restaurer tous les paramètres aux valeurs par défaut",
 "Done": "Terminé",
 "Caption Settings Dialog": "Boîte de dialogue des paramètres des sous-titres transcrits",
 "Beginning of dialog window. Escape will cancel and close the window.": "Début de la fenêtre de dialogue. La touche d'échappement annulera et fermera la fenêtre.",
 "End of dialog window.": "Fin de la fenêtre de dialogue."
});

    });
});;

require(['core/yui'], function(Y) {
    M.util.init_skiplink(Y);
});
;

require(['jquery'], function($) {
    $('#single_select5ec331f3518323').change(function() {
        var ignore = $(this).find(':selected').attr('data-ignore');
        if (typeof ignore === typeof undefined) {
            $('#single_select_f5ec331f3518322').submit();
        }
    });
});
;
require(["core/search-input"], function(amd) { amd.init("5ec331f3564e1"); });;
require(["theme_magistere/layout_header"], function(amd) { amd.init("https:\/\/magistere.education.fr\/efe\/?raca=o"); });;
require(["core/log"], function(amd) { amd.setConfig({"level":"warn"}); });
});
//]]>
</script>
<script type="text/javascript" src="https://magistere.education.fr/efe/theme/javascript.php/magistere/1589544773/footer"></script>
<script type="text/javascript">
//<![CDATA[
M.str = {"moodle":{"lastmodified":"Modifi\u00e9 le","name":"Nom","error":"Erreur","info":"Information","yes":"Oui","no":"Non","cancel":"Annuler","morehelp":"Plus d'aide","loadinghelp":"Chargement...","confirm":"Confirmer","areyousure":"En \u00eates-vous bien s\u00fbr\u00a0?","closebuttontitle":"Fermer","unknownerror":"Erreur inconnue"},"repository":{"type":"Type","size":"Taille","invalidjson":"Cha\u00eene JSON non valide","nofilesattached":"Aucun fichier joint","filepicker":"S\u00e9lecteur de fichiers","logout":"D\u00e9connexion","nofilesavailable":"Aucun fichier disponible","norepositoriesavailable":"D\u00e9sol\u00e9, aucun de vos d\u00e9p\u00f4ts actuels ne peut retourner de fichiers dans le format requis.","fileexistsdialogheader":"Le fichier existe","fileexistsdialog_editor":"Un fichier de ce nom a d\u00e9j\u00e0 \u00e9t\u00e9 joint au texte que vous modifiez.","fileexistsdialog_filemanager":"Un fichier de ce nom a d\u00e9j\u00e0 \u00e9t\u00e9 joint","renameto":"Renommer \u00e0 {$a}","referencesexist":"Ce fichier est utilis\u00e9 comme source par {$a} alias.","select":"S\u00e9lectionnez","domain":"Domaine","creator":"Cr\u00e9ateur","lasteditdate":"Derni\u00e8re edition","nofilesavailable_centralized":"Sp\u00e9cifiez des param\u00e8tres de recherche (cr\u00e9ateur, domaine, date ou mots-cl\u00e9s) pour afficher la liste des ressources correspondantes."},"admin":{"confirmdeletecomments":"Voulez-vous vraiment supprimer des commentaires\u00a0?","confirmation":"Confirmation"}};
//]]>
</script>
<script type="text/javascript">
//<![CDATA[
(function() {Y.use("moodle-filter_mathjaxloader-loader",function() {M.filter_mathjaxloader.configure({"mathjaxconfig":"\nMathJax.Hub.Config({\n    config: [\"Accessible.js\", \"Safe.js\"],\n    errorSettings: { message: [\"!\"] },\n    skipStartupTypeset: true,\n    messageStyle: \"none\"\n});\n","lang":"fr"});
});
M.util.help_popups.setup(Y);
Y.use("moodle-core-popuphelp",function() {M.core.init_popuphelp();
});
 M.util.js_pending('random5ec331f3518324'); Y.on('domready', function() { M.util.js_complete("init");  M.util.js_complete('random5ec331f3518324'); });
})();
//]]>
</script>


</body>
</html>
