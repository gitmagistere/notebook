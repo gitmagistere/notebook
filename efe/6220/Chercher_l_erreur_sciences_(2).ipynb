{
 "cells": [
  {
   "cell_type": "markdown",
   "metadata": {},
   "source": [
    "## Les erreurs classiques en Python"
   ]
  },
  {
   "cell_type": "markdown",
   "metadata": {},
   "source": [
    "## Erreur 1 : Erreurs de syntaxe\n",
    "### Illustrée sur l'algorithme permettant le réactif limitant d'une réaction\n",
    "\n",
    "Cette activité s’appuie sur la réaction mettant en jeu le diiode et les ions thiosulfate en solution\n",
    "aqueuse :\n",
    "\n",
    "$I_2(au) + 2 S_{2}O_{3}^{2-}(aq) = 2 I^{-} (aq) + S_{4}O_{6}^{2-}$\n",
    "\n",
    "Le script débute par la saisie des quantités de matière initialement introduites des deux réactifs (nI2_0 et nS2O3_0).\n",
    "L’avancement est initialisé à la valeur x = 0 mol, et un incrément d’avancement est entré (a = 0,001 mol ici).\n",
    "\n",
    "Une variable ‘limitant’, initialement vide, aura vocation à accueillir le nom du (ou des) réactifs limitants selon la composition du mélange initial.\n",
    "Les listes qI2 et qS2O3 sont destinées à recueillir les quantités de matière successives de ces deux réactifs.\n",
    "\n",
    "**Exercice : Après avoir identifié les erreurs, corrige le programme. **\n",
    "\n",
    "Pour corriger les erreurs, il est important de bien lire les messages d'erreurs renvoyés par l'interpréteur Python.\n"
   ]
  },
  {
   "cell_type": "code",
   "execution_count": null,
   "metadata": {},
   "outputs": [],
   "source": [
    "# Valeurs initiales\n",
    "    I2_0 = 2 # en mol\n",
    "    nI2_0 = float(I2_0) # conversion de chaine de caractère à nb décimal\n",
    "    S2O3_0 = 3 # en mol\n",
    "    nS2O3_0 = float(S2O3_0) # conversion de chaine de caractère à nb décimal\n",
    "\n",
    "    limitant =''  # initiallisation de la chaine de caractère correspondant au réactif limitant\n",
    "    x=0  # avancement initial\n",
    "    a=0.001 #pas d'avancement\n",
    "    qI2=[nI2_0]\n",
    "    qS2O3=[nS2O3_0]\n",
    "\n",
    "\n",
    "# écriture de la boucle while\n",
    "while qI2[-1] > 0 and qS2O3[-1] > 0\n",
    "    x=x+a\n",
    "    qI2.append(nI2_0-x)\n",
    "    qS2O3.append(nS2O3_0-2*x)\n",
    "\n",
    "    #résolution du problème et affichage du résultat\n",
    "if qI2[-1]<=0\n",
    "limitant = 'le diiode'\n",
    "\n",
    "if qS2O3[-1]<=0\n",
    "limitant = 'le thiosulfate'\n",
    "\n",
    "if qI2[-1]<=0 and qS2O3[-1]<=0\n",
    "limitant='à la fois le thiosulfate et le diiode : le mélange est stoechiometrique'\n",
    "\n",
    "#print(limitant)\n",
    "print('Le réactif limitant est ',limitant,'\\n Avancement maximum : ',round(x,2),'mol' )\n"
   ]
  },
  {
   "cell_type": "markdown",
   "metadata": {},
   "source": [
    "**Corrigé** : \n",
    "Proposé en visioconférence"
   ]
  },
  {
   "cell_type": "markdown",
   "metadata": {},
   "source": [
    "## Erreur 2 : Erreur de syntaxe (bis)\n",
    "\n",
    "###  Etude de la chute du bille\n",
    "L’étude de la chronophotographie de la chute d’une bille est ici reprise avec ce script.\n",
    "\n",
    "**Exercice : Après avoir identifié les erreurs, corrige le programme.**\n"
   ]
  },
  {
   "cell_type": "code",
   "execution_count": null,
   "metadata": {},
   "outputs": [],
   "source": [
    "#Import des bibliothèques\n",
    "# numpy : bibliothèque facilitant le traitement des tableau\n",
    "# matplotlib.pyplot : bibliothèque pour réliser des tracés de courbe\n",
    "import numpy as np \n",
    "import matplotlib.pyplot as plt \n",
    "\n",
    "# Creation de la liste de points \n",
    "# ymes et yreelle : liste des ordonnées des mesures (coef de 2/100 entre les deux)\n",
    "# t : liste des abcisses (correspondant ua temps ici)\n",
    "ymes = np.array([-0;-0,7;-1,5;-2,3;-3,5;-4,5;-5,9;-7,7;-8,8;-10,6;-12,3;-14,2;-16,4;-18,5;-21;-23,5])\n",
    "yreelle = ymes*2/100\n",
    "t = np.linspace(0,1/4,16)\n",
    "\n",
    "plt.figure()\n",
    "plt.plot(t,yReelle,'ro',label=\"y=f(x)\")\n",
    "plt.xlabel(\"position\")\n",
    "plt.ylabel(\"yreelle\")\n",
    "plt.grid()\n",
    "plt.legend()\n",
    "plt.title(\"chute libre\")\n",
    "plt.show()"
   ]
  },
  {
   "cell_type": "markdown",
   "metadata": {},
   "source": [
    "** Indication** : le code erreur renvoyé par l'interprétateur de Python doit vous mettre sur la piste\n"
   ]
  },
  {
   "cell_type": "markdown",
   "metadata": {},
   "source": [
    "## Erreur 3 - Boucle, liste et indices\n",
    "### Effectuer le bilan énergétique d’un système en mouvement.\n",
    "\n",
    "Il est possible de représenter l’évolution des différentes formes d’énergie du système en mouvement au cours du temps à l’aide du programme ci-dessous.\n",
    "\n",
    "Deux constantes sont définies :  la masse m du système et l’intensité g de la pesanteur.\n",
    "\n",
    "Un appel à la fonction calcul_vitesses(x,z,t) est effectué. Elle renvoie une liste contenant les valeurs de la vitesse du système dans ses différentes positions (sauf la dernière) ainsi que la liste des dates raccourcie d’une valeur pour que les dates correspondent aux valeurs des vitesses et que ces deux listes aient la même longueur.\n",
    "\n",
    "La ligne 34 permet de remplir une liste nommée Ec avec les valeurs de l’énergie cinétique du système.\n",
    "Le code :\n",
    "    Epp=[]\n",
    "    for i in range(len(v)):\n",
    "        Epp.append(masse*g*z[i])     \n",
    "permet de calculer l’énergie potentielle de pesanteur du système en obtenant une liste de même longueur que pour l’énergie cinétique (len(v)).\n",
    "\n",
    "\n",
    "Un appel à la fonction graphique(Ec, Epp, Em, temps_v) est ensuite réalisé. Cette fonction met en place tous les éléments du graphique que l’on souhaite obtenir : son titre, le nom des axes, les limites des axes, les trois courbes Ec=f(t), Epp=f(t) et Em=f(t) avec des couleurs différentes et une légende pour pouvoir se repérer.\n"
   ]
  },
  {
   "cell_type": "code",
   "execution_count": null,
   "metadata": {},
   "outputs": [],
   "source": [
    "import matplotlib.pyplot as plt\n",
    "#Les fonctions------------------------------------------------------\n",
    "def graphique(Ec, Epp, Em, t):\n",
    "    plt.title(\"Evolution des formes d'énergies du système\")\n",
    "    plt.xlabel('t en (s)')\n",
    "    plt.ylabel('Energies en (J)')\n",
    "    plt.xlim(0,1.2*max(t))\n",
    "    plt.ylim=(0,1.2*max(Em))\n",
    "    plt.plot(t,Ec,'r.',label='Ec')\n",
    "    plt.plot(t,Epp,'b.',label='Epp')\n",
    "    plt.plot(t,Em,'g.',label='Em')\n",
    "    plt.legend()\n",
    "\n",
    "def calcul_vitesses(abscisses,ordonnees,temps):\n",
    "    v=[]\n",
    "    for n in range(len(abscisses)):\n",
    "        v_x=(abscisses[n+1]-abscisses[n])/(temps[n+1]-temps[n])\n",
    "        v_y=(ordonnees[n+1]-ordonnees[n])/(temps[n+1]-temps[n])\n",
    "        v.append((v_x**2+v_y**2)**0.5)\n",
    "    return v\n",
    "\n",
    "#Le programme principal--------------------------------------------\n",
    "x=[0.00,0.50,1.00,1.50,2.00,2.50,3.00,3.50,4.00,4.50,5.00]\n",
    "z=[5.00,4.95,4.80,4.56,4.22,3.77,3.23,2.60,1.86,1.03,0.09]\n",
    "t=[0.00,0.10,0.20,0.30,0.40,0.50,0.60,0.70,0.80,0.90,1.00]\n",
    "masse = 2\n",
    "g = 9.8\n",
    "v = calcul_vitesses(x,z,t)\n",
    "#v contient un élement de moins que t\n",
    "# on enleve donc le dernier élément à laliste t\n",
    "temps_v = t[:-1]\n",
    "#-----------------------------------\n",
    "Ec = []\n",
    "for vitesse in v:\n",
    "    Ec.append(0.5*masse*vitesse**2)\n",
    "#-----------------------------------\n",
    "\n",
    "Epp=[]\n",
    "for i in range(len(v)):\n",
    "    Epp.append(masse*g*z[i])\n",
    "#-----------------------------------\n",
    "Em=[]\n",
    "for i in range(0:len(v)+1):\n",
    "    Em.append(Ec[i]+Epp[i])\n",
    "#-----------------------------------\n",
    "graphique(Ec, Epp, Em, temps_v)\n",
    "plt.show()"
   ]
  }
 ],
 "metadata": {
  "kernelspec": {
   "display_name": "Python 3 (ipykernel)",
   "language": "python",
   "name": "python3"
  },
  "language_info": {
   "codemirror_mode": {
    "name": "ipython",
    "version": 3
   },
   "file_extension": ".py",
   "mimetype": "text/x-python",
   "name": "python",
   "nbconvert_exporter": "python",
   "pygments_lexer": "ipython3",
   "version": "3.9.7"
  }
 },
 "nbformat": 4,
 "nbformat_minor": 4
}
