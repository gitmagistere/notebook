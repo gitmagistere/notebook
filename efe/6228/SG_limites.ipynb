{
  "nbformat": 4,
  "nbformat_minor": 0,
  "metadata": {
    "colab": {
      "name": "Copy of SG_limites.ipynb",
      "provenance": []
    },
    "kernelspec": {
      "display_name": "Python 3",
      "language": "python",
      "name": "python3"
    },
    "language_info": {
      "codemirror_mode": {
        "name": "ipython",
        "version": 3
      },
      "file_extension": ".py",
      "mimetype": "text/x-python",
      "name": "python",
      "nbconvert_exporter": "python",
      "pygments_lexer": "ipython3",
      "version": "3.8.5"
    }
  },
  "cells": [
    {
      "cell_type": "markdown",
      "metadata": {
        "id": "ROnDP6IGpeKj"
      },
      "source": [
        "**Algorithme autour de la notion de limites de suites géométriques**"
      ]
    },
    {
      "cell_type": "markdown",
      "metadata": {
        "id": "CwX1mpIIsMLl"
      },
      "source": [
        "Vous trouverez ci-dessous, une activité à destination des élèves.</br>\n",
        "Après l'avoir testée et vous l'être appropriée :\n",
        "*   relever le(s) objectifs de cette activité\n",
        "*   noter le(s) intérêts pédagogiques\n",
        "*   proposer un élément de différenciation pédagogique \n",
        "\n",
        "\n",
        "\n"
      ]
    },
    {
      "cell_type": "markdown",
      "metadata": {
        "id": "czLuSWZKubok"
      },
      "source": [
        "**Activité élève**</br>\n",
        "\n",
        "\n",
        "1.   Après avoir lu le script ci-dessous, préciser ce que renvoie lim(-3,0.5).\n",
        "2.   Quel est le rôle de la ligne 7 ?\n",
        "3.   Que se passe-t-il lorsque l'on exécute la cellule 4 ? Exécuter la cellule et commenter.\n",
        "4.   Que permet la méthode assert ? \n",
        "\n",
        "\n",
        "\n"
      ]
    },
    {
      "cell_type": "code",
      "metadata": {
        "id": "6BZfa0mhpc8Y"
      },
      "source": [
        "def lim(terme0,raison):\n",
        "  assert raison>0 and raison!=1\n",
        "  if terme0>0 and raison>1:\n",
        "    return('+ inf')\n",
        "  elif terme0<0 and raison>1 :\n",
        "    return('- inf')\n",
        "  else :\n",
        "    return(' la limite est 0')\n"
      ],
      "execution_count": null,
      "outputs": []
    },
    {
      "cell_type": "markdown",
      "metadata": {
        "id": "PPN_-8D3p7is"
      },
      "source": [
        "**Appel de la fonction**"
      ]
    },
    {
      "cell_type": "code",
      "metadata": {
        "id": "P4qFaMQmpz5U",
        "colab": {
          "base_uri": "https://localhost:8080/",
          "height": 35
        },
        "outputId": "99f82b95-3584-4f66-8b20-f9c0b52bc235"
      },
      "source": [
        "lim(-2,3)"
      ],
      "execution_count": null,
      "outputs": [
        {
          "output_type": "execute_result",
          "data": {
            "application/vnd.google.colaboratory.intrinsic+json": {
              "type": "string"
            },
            "text/plain": [
              "'- inf'"
            ]
          },
          "metadata": {
            "tags": []
          },
          "execution_count": 2
        }
      ]
    },
    {
      "cell_type": "markdown",
      "metadata": {
        "id": "ON5qBstUr_x5"
      },
      "source": [
        "**Algorithme où l'on traite tous les cas possibles**"
      ]
    },
    {
      "cell_type": "code",
      "metadata": {
        "id": "MBSS_zH2q5kl"
      },
      "source": [
        "def lim(terme0,raison):\n",
        "  if raison==1:\n",
        "    return(terme0)\n",
        "  elif terme0>0 and raison>1:\n",
        "    return('+ inf')\n",
        "  elif terme0<0 and raison>1 :\n",
        "    return('- inf')\n",
        "  elif abs(raison)<1 :\n",
        "    return(' la limite est 0')\n",
        "  else:\n",
        "    return(\"la suite n'a pas de limite\")"
      ],
      "execution_count": null,
      "outputs": []
    }
  ]
}