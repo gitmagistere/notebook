{
  "nbformat": 4,
  "nbformat_minor": 0,
  "metadata": {
    "kernelspec": {
      "display_name": "Python 3",
      "language": "python",
      "name": "python3"
    },
    "language_info": {
      "codemirror_mode": {
        "name": "ipython",
        "version": 3
      },
      "file_extension": ".py",
      "mimetype": "text/x-python",
      "name": "python",
      "nbconvert_exporter": "python",
      "pygments_lexer": "ipython3",
      "version": "3.6.3"
    },
    "colab": {
      "name": "Copy of Liste1_2.ipynb",
      "provenance": [],
      "collapsed_sections": []
    }
  },
  "cells": [
    {
      "cell_type": "markdown",
      "metadata": {
        "id": "UV6nCGBIIiWT"
      },
      "source": [
        "## Liste - Compléments\n"
      ]
    },
    {
      "cell_type": "markdown",
      "metadata": {
        "id": "wkAJnUfkIiXs"
      },
      "source": [
        "### 1 - Premiers parcours de liste à l'aide de la boucle ```for```\n",
        "#### Parcours 1\n",
        "On peut parcourir une liste à l'aide de ses indices : on parcourt la liste en utilisant une boucle ```for``` avec un compteur ```i``` qui va de ```0``` à ```len(liste)```.\n",
        "##### Affichage des éléments d'une liste"
      ]
    },
    {
      "cell_type": "code",
      "metadata": {
        "id": "S79JrkNBIiXt"
      },
      "source": [
        "for i in range(len(L)):\n",
        "    print(L[i])"
      ],
      "execution_count": null,
      "outputs": []
    },
    {
      "cell_type": "markdown",
      "metadata": {
        "id": "_wMfMCn3IiXy"
      },
      "source": [
        "#### Parcours 2 \n",
        "On peut directement itérer une liste : cela signifie qu'on peut parcourir une liste en utilisant une boucle ```for``` avec pour simple syntaxe : \n",
        "\n",
        "```for element in liste :```\n",
        "\n",
        "##### Affichage des éléments d'une liste"
      ]
    },
    {
      "cell_type": "code",
      "metadata": {
        "id": "oY1MHfFJIiXz"
      },
      "source": [
        "for k in [1,2,3]:\n",
        "    print(k)"
      ],
      "execution_count": null,
      "outputs": []
    },
    {
      "cell_type": "markdown",
      "metadata": {
        "id": "YBP6zB-7IiX1"
      },
      "source": [
        "#### Création d'une liste"
      ]
    },
    {
      "cell_type": "code",
      "metadata": {
        "id": "4SymnzlRIiX2"
      },
      "source": [
        "liste = []\n",
        "for k in range(10):\n",
        "    liste.append(k)\n",
        "liste"
      ],
      "execution_count": null,
      "outputs": []
    },
    {
      "cell_type": "markdown",
      "metadata": {
        "id": "VTTH7mV2IiX6"
      },
      "source": [
        "#### Calcul sur les élements d'une liste\n",
        "Dans le cadre de l'étude d'une suite, on est parfois amené à calculer la somme des valeurs de cette suite. L'exmple ci-dessous permet de créer les 10 premiers terme d'une suite définie avec une fonction explicite puis de calculer la somme de ses 1à termes"
      ]
    },
    {
      "cell_type": "code",
      "metadata": {
        "id": "-pTY0tl9IiX6"
      },
      "source": [
        "# définition de la fonction expliciate\n",
        "def f(n):\n",
        "    return 2*n - 3\n",
        "\n",
        "# Calcule des termes de la suite et création de la liste `suite`\n",
        "suite = []\n",
        "for k in range(10):\n",
        "    suite.append(f(k))\n",
        "    \n",
        "# Calcul de la somme des termes de la liste\n",
        "somme = 0\n",
        "for element in suite:\n",
        "    somme = somme + suite[k]\n",
        "somme"
      ],
      "execution_count": null,
      "outputs": []
    },
    {
      "cell_type": "markdown",
      "metadata": {
        "id": "KNXxxSUbIiYB"
      },
      "source": [
        "## 2. TP : Suite de Syracuse\n",
        "Sources : Barbazo 1ère, 2019, p. 25"
      ]
    },
    {
      "cell_type": "markdown",
      "metadata": {
        "id": "UHQCSRlfIiYC"
      },
      "source": [
        "On appelle suite de Syracuse une suite $(U_n)$ d’entiers naturels définie de la manière suivante : \n",
        "- le 1er terme $U_0$ est un entier naturel non nul que l’on choisit initialement\n",
        "- pour tout entier naturel n :\n",
        "    - si n est pair $U_{n+1} = U_n / 2$;\n",
        "    - sinon $U_{n+1} = 3*U_n +1 $\n",
        "\n",
        "La conjecture de Syracuse s’énonce ainsi : \"Quel que soit le nombre naturel non nul $U_0$, le nombre $1$ est atteint par la suite $(U_n)$\"\n",
        "\n",
        "On appelle temps de vol de la suite l’indice du premier terme de la suite qui vaut 1.\n",
        "On appelle altitude du vol de la suite la valeur du plus grand terme de la suite."
      ]
    },
    {
      "cell_type": "code",
      "metadata": {
        "id": "_webLeW2IiYD"
      },
      "source": [
        "def Syracuse(u) :\n",
        "    if u%2 == 0 :\n",
        "        u = u//2\n",
        "    else :\n",
        "        u = 3*u + 1\n",
        "    return(u)\n",
        "\n",
        "def Liste_Syracuse(u) :\n",
        "    L=[u]\n",
        "    while u! = 1 :\n",
        "        L.append(Syracuse(u))\n",
        "        u=Syracuse(u)\n",
        "    return L"
      ],
      "execution_count": null,
      "outputs": []
    },
    {
      "cell_type": "code",
      "metadata": {
        "id": "vVA7xaHOIiYH"
      },
      "source": [
        ""
      ],
      "execution_count": null,
      "outputs": []
    },
    {
      "cell_type": "markdown",
      "metadata": {
        "id": "gAWx1YZQIiYK"
      },
      "source": [
        "**Répondre aux questions suivantes**\n",
        "\n",
        "1) Quel nombre est renvoyé par $Syracuse(6)$ ? Par $Syracuse(7)$ ?\n",
        "\n",
        "2) A quel test correspond $u%2==0$ ?\n",
        "\n",
        "3) Quelle est le rôle de la fonction $Syracuse()$ ?\n",
        "\n",
        "4) Que retourne $Liste\\_Syracuse(14)$ écrite dans la console ?\n",
        "\n",
        "5) Que fait l’instruction $L.append(Syracuse(u))$ ?\n",
        "\n",
        "6) Pour connaître la longueur d’une liste, on utilise la fonction $len(L)$ (voir ci-dessus).  Pour connaître la plus grande valeur d’une liste, il existe la fonction $max(L)$. \n",
        "\n",
        "7) Ecrire deux fonctions \n",
        "- la première retourne l’altitude du vol d’une suite de Syracuse. \n",
        "- la deuxième retourne le temps de vol d’une suite de Syracuse.\n",
        "\n",
        "8) Ecrire deux programmes :\n",
        "- le premier retournera la plus petite valeur $U_0$ permettant d’avoir une altitude supérieur à $100$\n",
        "- le deuxième retournera la valeur $U_0$ de l’intervalle $[1;100]$ ayant le vol le plus long."
      ]
    },
    {
      "cell_type": "code",
      "metadata": {
        "id": "qb2iXC48IiYL"
      },
      "source": [
        ""
      ],
      "execution_count": null,
      "outputs": []
    }
  ]
}