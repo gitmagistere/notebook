{
  "nbformat": 4,
  "nbformat_minor": 0,
  "metadata": {
    "language_info": {
      "mimetype": "text/x-python",
      "nbconvert_exporter": "python",
      "name": "python",
      "pygments_lexer": "ipython3",
      "version": "3.6.6",
      "file_extension": ".py",
      "codemirror_mode": {
        "version": 3,
        "name": "ipython"
      }
    },
    "kernelspec": {
      "name": "python36",
      "display_name": "Python 3.6",
      "language": "python"
    },
    "colab": {
      "name": "Triangle Pascal _1_formateur.ipynb",
      "provenance": []
    }
  },
  "cells": [
    {
      "cell_type": "markdown",
      "metadata": {
        "id": "231fXunSn0rX",
        "colab_type": "text"
      },
      "source": [
        "**Objectifs de ces premiers algorithmes:**\n",
        "- cerner quelques défauts fréquents de programmation chez les programmeurs débutant;\n",
        "- ne pas chercher à déterminer le \"meilleur\" algorithme\n",
        "\n",
        "Tout en s'appuyant sur des notions mathématiques au programme de Terminale (spécialité et complémentaires):\n",
        "- factorielle ;\n",
        "- combinaison ;\n",
        "- triangle de Pascal (sans utiliser la formule de Pascal)\n"
      ]
    },
    {
      "cell_type": "markdown",
      "metadata": {
        "id": "lui2LZBcn0rY",
        "colab_type": "text"
      },
      "source": [
        "**Algorithme 1**\n",
        "\n",
        "1) Quel affichage obtient-on après avoir exécuté le script ci-dessous ?"
      ]
    },
    {
      "cell_type": "code",
      "metadata": {
        "id": "DQqCbeyen0rZ",
        "colab_type": "code",
        "colab": {}
      },
      "source": [
        "for n in range(7):\n",
        " for p in range(n+1):\n",
        "  c=1\n",
        "  for i in range(1,n+1):\n",
        "   c*=i\n",
        "  h=1\n",
        "  for i in range(1,p+1):\n",
        "   h*=i\n",
        "  y=1\n",
        "  for i in range(1,n-p+1):\n",
        "   y*=i\n",
        "  print(c//(h*y),end=' ')\n",
        " print('')"
      ],
      "execution_count": null,
      "outputs": []
    },
    {
      "cell_type": "markdown",
      "metadata": {
        "id": "-Fmjh3Qhn0rd",
        "colab_type": "text"
      },
      "source": [
        "2) Exécuter ce script afin de vérifier votre résultat.\n",
        "\n",
        "3) Enumérer les nombreux défauts de ce script.\n",
        "\n",
        "**Idées**:\n",
        "\n",
        "*   nom des variables non explicite\n",
        "*   indentation réduite à son minimum\n",
        "*   \"mélange\" les calculs et leur impression\n",
        "\n",
        "Tout cela entraîne des problèmes :\n",
        "*   de lisibilité\n",
        "*   de compréhension de l'algorithme\n",
        "\n",
        "\n",
        "\n",
        "*   utilisation d'écriture propre au langage Python c*=i : difficulté supplémentaire pour les élèves non experts : \"intérêt\" pédagogique\n",
        "*   utilisation de la méthode print: pas dans l'esprit du programme\n",
        "*   aucune utilisation de fonction\n"
      ]
    },
    {
      "cell_type": "markdown",
      "metadata": {
        "id": "KCybgkd7n0rd",
        "colab_type": "text"
      },
      "source": [
        "**Algorithme 2**\n",
        "\n",
        "1) Quel affichage obtient-on après avoir exécuté le script ci-dessous ?"
      ]
    },
    {
      "cell_type": "code",
      "metadata": {
        "id": "nR8tn1Gqn0re",
        "colab_type": "code",
        "colab": {}
      },
      "source": [
        "for n in range(7):\n",
        "    for p in range(n+1):\n",
        "        factn = 1\n",
        "        for i in range(1, n+1):\n",
        "            factn *= i\n",
        "        factp = 1\n",
        "        for i in range(1, p+1):\n",
        "            factp *= i\n",
        "        factn_moins_p = 1\n",
        "        for i in range(1, n-p+1):\n",
        "            factn_moins_p *= i\n",
        "        print(factn//(factp*factn_moins_p), end=' ')\n",
        "    print()"
      ],
      "execution_count": null,
      "outputs": []
    },
    {
      "cell_type": "markdown",
      "metadata": {
        "id": "crUsU6uHn0rh",
        "colab_type": "text"
      },
      "source": [
        "2) Exécuter ce script afin de vérifier votre résultat.\n",
        "\n",
        "3) Quelles améliorations ont été apportées au script précédent ?\n",
        "\n",
        "\n",
        "*   nom des variables plus explicite\n",
        "*   indentation\n",
        "\n",
        "4) En quoi cet algorithme ne correspond-il pas à la philosophie du programme de Terminal ?\n",
        "*   n'utilise pas la notion de fonction\n",
        "*   ne décompose pas le problème en sous problème permettant ainsi de simplifier sa résolution\n",
        "\n",
        "\n",
        "5) Quels types d'objets permettraient un affichage \"similaire\" sans utiliser la fonction \"print\" ?\n",
        "*   l'objet list en Python (couplé à la création de fonctions) permettrait d'éviter l'utilisation de la méthode print\n",
        "\n",
        "\n",
        "\n"
      ]
    },
    {
      "cell_type": "markdown",
      "metadata": {
        "id": "W9WB5KZMn0rh",
        "colab_type": "text"
      },
      "source": [
        "**Algorithme 3**\n",
        "\n",
        "Produire un algorithme répondant aux conditions suivantes:\n",
        "- créer et utiliser une fonction renvoyant la factorielle d'un entier naturel\n",
        "- créer et utiliser une fonction renvoyant la factorielle d'un entier naturel\n",
        "- créer une fonction qui renvoie sous forme de liste de listes le \"Triangle de Pascal\" et utilise les fonctions précédemment créées\n",
        "- spécifier vos fonctions\n",
        "\n"
      ]
    },
    {
      "cell_type": "code",
      "metadata": {
        "id": "peq0J93Nn0ri",
        "colab_type": "code",
        "colab": {}
      },
      "source": [
        "\"\"\"\n",
        "Vous pouvez tester votre script ci-dessous\n",
        "\"\"\"\n",
        "#version itérative de la factorielle\n",
        "def fact_i(n):\n",
        "    '''\n",
        "    renvoie la factorielle de l'entier n\n",
        "    '''\n",
        "    fact = 1\n",
        "    for i in range(2, n+1):\n",
        "        fact *= i\n",
        "    return fact\n",
        "#version 1 récursive de la factorielle\n",
        "def fact_i(n):\n",
        "    '''\n",
        "    renvoie la factorielle de l'entier n\n",
        "    '''\n",
        "    if n==0:\n",
        "      return 1\n",
        "    else :\n",
        "      return n*fact(n-1)\n",
        "\n",
        "#version 2 récursive de la factorielle\n",
        "def fact(n):\n",
        "    '''\n",
        "    renvoie la factorielle de l'entier n\n",
        "    '''\n",
        "    return 1 if n==0 else n*fact(n-1)\n",
        "    \n",
        "def binomial(n, p):\n",
        "    '''\n",
        "    renvoie le coefficient binomial (n,p) \n",
        "    :param n, p: (int)\n",
        "    :return: (int)\n",
        "    '''\n",
        "    return fact(n) // (fact(n-p)*fact(p))\n",
        "\n",
        "def triangle_pascal(nmax):\n",
        "    '''\n",
        "    construit un triangle de Pascal sous forme d'une liste de listes de coeffts binomiaux\n",
        "    :param nmax: (int) (= nbre de lignes du triangle - 1)\n",
        "    :return: (list) liste de listes d'entiers telle que l[n][p] = binomial(n, p)\n",
        "    '''\n",
        "    triangle = []\n",
        "    for n in range(nmax+1):\n",
        "        ligne = []\n",
        "        for p in range(n+1):\n",
        "            ligne.append(binomial(n, p))\n",
        "        triangle.append(ligne)\n",
        "    return triangle\n"
      ],
      "execution_count": null,
      "outputs": []
    }
  ]
}