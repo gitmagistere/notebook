{
 "cells": [
  {
   "cell_type": "markdown",
   "metadata": {},
   "source": [
    "# Activité 2\n",
    "Après avoir visionné la vidéo présentant la notion de récursivité, programmer de manière récursive une fonction prenant en paramètre un entier naturel n et renvoyant le nème terme de **la suite de Fibonacci**"
   ]
  },
  {
   "cell_type": "code",
   "execution_count": null,
   "metadata": {},
   "outputs": [],
   "source": []
  },
  {
   "cell_type": "markdown",
   "metadata": {},
   "source": [
    "# Activité 3\n",
    "En utilisant le module Turtle et le [wikibook turtle](https://fr.wikibooks.org/wiki/Programmation_Python/Turtle) programmer de manière récursive le flocon de Von Koch.<br>\n",
    "On pourra, dans un premier temps, s'intéresser à la construction d'une fonction permettant de travailler sur un \"côté\" du triangle intial puis, dans un second temps, au codage d'une fonction renvoyant un triangle de Von Koch. "
   ]
  },
  {
   "cell_type": "code",
   "execution_count": null,
   "metadata": {},
   "outputs": [],
   "source": []
  },
  {
   "cell_type": "markdown",
   "metadata": {},
   "source": [
    "# Activité 4\n",
    "1. Dans l'algorithme ci-dessous, quel est le rôle de la fonction pas ? A quoi correspondent les paramètres k et n ?\n",
    "2. En quoi cet algorithme est-il hors-programme ?\n",
    "3. Compléter la liste L afin de générer un triangle de Pascal en compréhension."
   ]
  },
  {
   "cell_type": "code",
   "execution_count": null,
   "metadata": {},
   "outputs": [],
   "source": [
    "def pas(k,n):\n",
    "    if k>=n:\n",
    "        return 1\n",
    "    elif k==0:\n",
    "        return 1\n",
    "    else:\n",
    "        return pas(k,n-1)+pas(k-1,n-1)\n",
    "    \n",
    "def pascrecur(n):\n",
    "    L=[......................................................]\n",
    "    return L\n"
   ]
  }
 ],
 "metadata": {
  "kernelspec": {
   "display_name": "Python 3",
   "language": "python",
   "name": "python3"
  },
  "language_info": {
   "codemirror_mode": {
    "name": "ipython",
    "version": 3
   },
   "file_extension": ".py",
   "mimetype": "text/x-python",
   "name": "python",
   "nbconvert_exporter": "python",
   "pygments_lexer": "ipython3",
   "version": "3.8.3"
  }
 },
 "nbformat": 4,
 "nbformat_minor": 4
}
