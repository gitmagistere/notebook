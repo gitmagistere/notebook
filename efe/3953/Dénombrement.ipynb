{
  "metadata": {
    "kernelspec": {
      "display_name": "Python 3.6",
      "name": "python36",
      "language": "python"
    },
    "language_info": {
      "mimetype": "text/x-python",
      "nbconvert_exporter": "python",
      "name": "python",
      "pygments_lexer": "ipython3",
      "version": "3.6.6",
      "file_extension": ".py",
      "codemirror_mode": {
        "version": 3,
        "name": "ipython"
      }
    }
  },
  "nbformat_minor": 2,
  "nbformat": 4,
  "cells": [
    {
      "cell_type": "markdown",
      "source": "**Objectifs de ces premiers algorithmes:**\n- cerner quelques défauts fréquents de programmation chez les programmeurs débutant;\n- pas de chercher à dtéerminer le \"meilleur\" algorithme\n\nEn s'appuyant sur des notions au programme de Terminale (spé et complémentaires)\n- factorielle;\n- combinaison;\n- triangle de Pascal (sans utiliser la formule de Pascal)",
      "metadata": {}
    },
    {
      "cell_type": "markdown",
      "source": "**Un programme**\n\n- doit être lisible et clair\n\n- doit être découpé en petits composants faisant peu de choses, mais les faisant bien\n\n- doit séparer calculs et interface homme/machine\n\n- doit être documenté : spécification\n\n- doit être testé.",
      "metadata": {}
    },
    {
      "cell_type": "code",
      "source": "for n in range(7):\n for p in range(n+1):\n  c=1\n  for i in range(1,n+1):\n   c*=i\n  h=1\n  for i in range(1,p+1):\n   h*=i\n  y=1\n  for i in range(1,n-p+1):\n   y*=i\n  print(c//(h*y),end=' ')\n print()\n",
      "metadata": {
        "trusted": true
      },
      "execution_count": 1,
      "outputs": [
        {
          "text": "1 \n1 1 \n1 2 1 \n1 3 3 1 \n1 4 6 4 1 \n1 5 10 10 5 1 \n1 6 15 20 15 6 1 \n",
          "name": "stdout",
          "output_type": "stream"
        }
      ]
    },
    {
      "cell_type": "markdown",
      "source": "Ce programme est : \n- illisible\n- incompréhensible\n- mélange calculs et impression\n- indentation réduite à son minimum\n- utilise des écritures spécifiques à Python tels que c*=i",
      "metadata": {}
    },
    {
      "cell_type": "markdown",
      "source": "On retrouve très souvent ce type de raccourci dans les programmes fournis par des programmeurs donc faut-il faire comme si cela n'existait pas ?\n\nDiscussion sur l'intérêt pédagogique.",
      "metadata": {}
    },
    {
      "cell_type": "code",
      "source": "for n in range(7):\n    for p in range(n+1):\n        factn = 1\n        for i in range(1, n+1):\n            factn *= i\n        factp = 1\n        for i in range(1, p+1):\n            factp *= i\n        factn_moins_p = 1\n        for i in range(1, n-p+1):\n            factn_moins_p *= i\n        print(factn//(factp*factn_moins_p), end=' ')\n    print()\n",
      "metadata": {
        "trusted": true
      },
      "execution_count": 2,
      "outputs": [
        {
          "text": "1 \n1 1 \n1 2 1 \n1 3 3 1 \n1 4 6 4 1 \n1 5 10 10 5 1 \n1 6 15 20 15 6 1 \n",
          "name": "stdout",
          "output_type": "stream"
        }
      ]
    },
    {
      "cell_type": "markdown",
      "source": "Quelques défauts sont corrigés :\n- identificateurs plus significatifs\n- indentation ",
      "metadata": {}
    },
    {
      "cell_type": "code",
      "source": "def factorielle(n):\n    fact = 1\n    for i in range(2, n+1):\n        fact *= i\n    return fact\n\ndef binomial(n, p):\n    return factorielle(n) // (factorielle(n-p)*factorielle(p))\n\ndef cree_triangle_pascal(nmax):\n    triangle = []\n    for n in range(nmax+1):\n        ligne = []\n        for p in range(n+1):\n            ligne.append(binomial(n, p))\n        triangle.append(ligne)\n    return triangle\n    \ndef imprimer_ligne(liste):\n    for k in liste:\n        print(k, end=' ')\n    print()\n        \ndef imprimer_triangle(liste_listes):\n    for liste in liste_listes:\n        imprimer_ligne(liste)\n",
      "metadata": {},
      "execution_count": null,
      "outputs": []
    },
    {
      "cell_type": "markdown",
      "source": "Décomposition du problème en sous problème:\n- gain en lisibilité/clarté du code\n- utilisation de la notion de fonction\n- réutilisation d'une fonction dans une autre partie du code (ici une fonction)",
      "metadata": {}
    },
    {
      "cell_type": "code",
      "source": "def factorielle(n):\n    '''\n    renvoie la factorielle de l'entier n\n\n    :param n: (int)\n    :return: (int) n! (= 1x2x3x...xn)\n    :CU: n >= 0\n    '''\n    fact = 1\n    for i in range(2, n+1):\n        fact *= i\n    return fact\n\ndef binomial(n, p):\n    '''\n    renvoie le coefficient binomial (n,p) \n\n    :param n, p: (int)\n    :return: (int)\n    :CU: 0 <= p <= n\n    '''\n    return factorielle(n) // (factorielle(n-p)*factorielle(p))\n\ndef cree_triangle_pascal(nmax):\n    '''\n    construit un triangle de Pascal sous forme d'une liste de listes de coeffts binomiaux\n\n    :param nmax: (int) valeur maximal des coeffts binomiaux (= nbre de lignes du triangle - 1)\n    :return: (list) liste de listes d'entiers telle que l[n][p] = binomial(n, p)\n    :CU: aucune (si n <= 0 liste vide)\n    '''\n    triangle = []\n    for n in range(nmax+1):\n        ligne = []\n        for p in range(n+1):\n            ligne.append(binomial(n, p))\n        triangle.append(ligne)\n    return triangle\n    \ndef imprimer_ligne(liste):\n    '''\n    imprime le contenu de la liste sur une ligne\n    \n    :param liste: (list) une liste d'entiers\n    :return: (NoneType) aucune valeur renvoyée\n    :effet de bord: imprime le contenu de liste\n    :CU: aucune\n    '''\n    for k in liste:\n        print(k, end=' ')\n    print() # pour passer à la ligne\n        \ndef imprimer_triangle(liste_listes):\n    '''\n    imprime le contenu de liste_listes, à raison d'une ligne par listes\n\n    :param liste_listes: (liste) une liste de listes\n    :return: (NoneType) aucune valeur renvoyée\n    :effet de bord: imprime chacune des listes de liste_listes sur une ligne\n    :CU: aucune \n    '''\n    for liste in liste_listes:\n        imprimer_ligne(liste)\n\n\n\nN_MAX = 6\nimprimer_triangle(cree_triangle_pascal(N_MAX))\n",
      "metadata": {
        "trusted": true
      },
      "execution_count": 3,
      "outputs": [
        {
          "text": "1 \n1 1 \n1 2 1 \n1 3 3 1 \n1 4 6 4 1 \n1 5 10 10 5 1 \n1 6 15 20 15 6 1 \n",
          "name": "stdout",
          "output_type": "stream"
        }
      ]
    },
    {
      "cell_type": "markdown",
      "source": "**Quelques exemples de programme permettant de générer le triangle de Pascal :**",
      "metadata": {}
    },
    {
      "cell_type": "code",
      "source": "from math import *\ndef ligne(L1):\n    L2=[1]\n    for k in range(1,len(L1)):\n        L2.append(L1[k]+L1[k-1])\n    L2.append(1)\n    return L2\n\ndef triangle(n):\n    L=[[1]]\n    #print(L[0])\n    for k in range(1,n+1):\n        L.append(ligne(L[k-1]))\n        #print(L[k])\n    return L",
      "metadata": {
        "trusted": true
      },
      "execution_count": 4,
      "outputs": []
    },
    {
      "cell_type": "markdown",
      "source": "Que renvoie le code ci-dessus ?\n\n\n\n\nQuel(s) défaut(s) lui trouvez-vous ?\n\n\n\n\n",
      "metadata": {}
    },
    {
      "cell_type": "markdown",
      "source": "**Exemple 1**\n\ncréer une fonction qui prend en argument une ligne du triangle de Pascal et renvoie la suivante\n\nen déduire une fonction qui prend en argument le numéro de la ligne et renvoie le triangle de Pascal",
      "metadata": {}
    },
    {
      "cell_type": "code",
      "source": "from math import *\ndef ligne(L1):\n    L2=[1]\n    for k in range(1,len(L1)):\n        L2.append(L1[k]+L1[k-1])\n    L2.append(1)\n    return L2\n\ndef triangle(n):\n    L=[[1]]\n    #print(L[0])\n    for k in range(1,n+1):\n        L.append(ligne(L[k-1]))\n        #print(L[k])\n    return L",
      "metadata": {},
      "execution_count": null,
      "outputs": []
    },
    {
      "cell_type": "code",
      "source": "from math import *\ndef pascal2(n):\n    l=[[0]*n for k in range(n)]\n    for i in range(n):\n        for j in range(n):\n            if j==0:\n                l[i][j]=1\n            elif i==j:\n                l[i][j]=1\n            else :\n                l[i][j]=l[i-1][j-1]+l[i-1][j]\n    return(l)\n",
      "metadata": {
        "trusted": true
      },
      "execution_count": 3,
      "outputs": []
    },
    {
      "cell_type": "markdown",
      "source": "**Exemple 1**\n\nOn créée une matrice carrée ne comportant que des 0 et on s'appuie sur **la formule de Pascal**",
      "metadata": {}
    },
    {
      "cell_type": "markdown",
      "source": "Exemple 2\n\nOn créée une matrice carrée ne comportant que des 0\n\nOn s'appuie sur la formule de Pascal\n\nPerte de compréhension possible dûe à la façon d'obtenir les éléments de la diagonale",
      "metadata": {}
    },
    {
      "cell_type": "code",
      "source": "from math import *\ndef pascal1(n):\n    l=[[0]*n for k in range(n)]\n    for i in range(n):\n        for j in range(n):\n            if j==0:\n                l[i][j]=1\n            else :\n                l[i][j]=l[i-1][j-1]+l[i-1][j]\n    return(l)\n",
      "metadata": {},
      "execution_count": null,
      "outputs": []
    },
    {
      "cell_type": "markdown",
      "source": "Exemple 3\n\nOn crée une matrice triangulaire inférieure ne comportant que des 0 et on s'appuie sur la formule de Pascal",
      "metadata": {}
    },
    {
      "cell_type": "code",
      "source": "from math import *\ndef pascal(n):\n    \"\"\"n est un entier naturel non nul, l[i][j] renvoie le coefficient binomial j parmi i\"\"\"\n    L=[[0]*k for k in range(1,n+1)] #on créée le triangle à n lignes n colonnes composé uniquement de 0\n    for i in range(n):\n        for j in range(i+1):\n            if j==0:\n                L[i][j]=1\n            elif i==j:\n                L[i][j]=1\n            else:\n                L[i][j]=L[i-1][j]+L[i-1][j-1]\n    return(L)\n\n",
      "metadata": {},
      "execution_count": null,
      "outputs": []
    },
    {
      "cell_type": "markdown",
      "source": "Exemple 4\n\nOn s'appuie sur la formule de Pascal et la notion de récursivité au programme de NSI",
      "metadata": {}
    },
    {
      "cell_type": "code",
      "source": "#avec récursivité\ndef pas(k,n):\n    if k>=n:\n        return 1\n    elif k==0:\n        return 1\n    else:\n        return pas(k,n-1)+pas(k-1,n-1)\n    \ndef pascrecur(n):\n    L=[[pas(i,j) for i in range(j+1)] for j in range(n+1)]\n    return L\nprint(pascrecur(5))",
      "metadata": {
        "trusted": true
      },
      "execution_count": null,
      "outputs": []
    },
    {
      "cell_type": "markdown",
      "source": "#### Un défi proposé par Dominique Souder\n\n##### Question 4 : il va bien falloir émerger de cette année 2020…\n\nObservez ce tableau de nombres présentés en triangle :\n\n-\tà la base, tous les entiers de 1 à 2020 se succèdent, séparés par une case vierge\n\n-\tpour chacune des lignes au-dessus, tout nombre est égal à la somme des deux nombres situés en\n\ndessous de lui juste à gauche et juste à droite, à la ligne précédente.\n\n\n\t\t\t\t\t\t\t\t?\t\t\t\t\t\t\t\t\n\t\t\t\t…\t\t\t\t…\t\t\t\t…\t\t\t\t\n\t\t\t20\t\t…\t\t\t…\t\t\t…\t\t16148\t\t\t\n\t\t8\t\t12\t\t…\t\t…\t\t…\t\t8072\t\t8076\t\t\n\t3\t\t5\t\t7\t\t\t…\t\t\t4035\t\t4037\t\t4039\t\n1\t\t2\t\t3\t\t4\t\t…\t\t2017\t\t2018\t\t2019\t\t2020\n\nQuel est le plus grand nombre premier qui divise le nombre situé au sommet (à la pointe en haut) \n\nde ce triangle que nous n’avons pas la place de compléter (et dont vous ne voyez que la gauche \n\net la droite de sa base) ?\n",
      "metadata": {}
    },
    {
      "cell_type": "code",
      "source": "def souder(n):\n    L=[[0]*n for k in range(n)]\n    for i in range(n):\n        if i==0: \n            for j in range(n-i):\n                L[i][j]=j+1\n        else:\n            for j in range(n-i):\n                L[i][j]=L[i-1][j+1]+L[i-1][j]\n    return L\nprint(souder(5))",
      "metadata": {
        "trusted": true
      },
      "execution_count": null,
      "outputs": []
    },
    {
      "cell_type": "code",
      "source": "",
      "metadata": {},
      "execution_count": null,
      "outputs": []
    },
    {
      "cell_type": "markdown",
      "source": "Idées Lilloises\n\nhttps://gitlab-fil.univ-lille.fr/diu-eil-lil/portail/-/blob/706111a8a42ae8019908b967d011ddd0b6cd9c64/bloc1/bonnes_pratiques/readme.md",
      "metadata": {}
    },
    {
      "cell_type": "code",
      "source": "",
      "metadata": {},
      "execution_count": null,
      "outputs": []
    }
  ]
}