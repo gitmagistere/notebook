{
 "cells": [
  {
   "cell_type": "markdown",
   "metadata": {},
   "source": [
    "## Valeur approchée de $\\sqrt{2}$\n",
    "### par la méthode de dichotomie\n",
    "\n",
    "### Cours \n",
    "Le méthode de dichotomie est basée sur cette version du théorème des valeurs intermédiaires.\n",
    "\n",
    "**Théorème**\n",
    "\n",
    "Soit $f : [a, b] \\rightarrow R$ une fonction continue. Si $f(a)$ et $f(b)$ sont de signes contraires, alors f\n",
    "s’annule au moins une fois sur l’intervalle [a, b]. Autrement dit, il existe $l \\in [a, b]$ tel que $f (l) = 0$.\n",
    "<img src=\"https://i.ibb.co/p3hshVk/Capture-d-e-cran-2020-09-05-a-13-53-25.png\" width=634>"
   ]
  },
  {
   "cell_type": "markdown",
   "metadata": {},
   "source": [
    "**Principe de la dichotomie ($\\delta \\iota \\chi \\omega \\tau \\omega \\mu \\iota \\alpha$ signifie « coupé en deux »)**\n",
    "\n",
    "On sait que notre fonction $f$ s’annule sur $[a, b]$. On calcule $f(\\frac{a+b}{2})$, c’est-à-dire l’image du milieu du segment $[a, b]$. On cherche ensuite où f peut s’annuler par rapport à ce milieu :\n",
    "* Si $f(a)$ et $f(\\frac{a+b}{2})$ sont de signes contraires alors f s’annule sur $[a, \\frac{a+b}{2}]$\n",
    "* sinon $f$ s’annule sur $[\\frac{a+b}{2}, b]$\n",
    "\n",
    "<img src=\"https://i.ibb.co/hX5Kcch/Capture-d-e-cran-2020-09-05-a-14-02-13.png\" width=650 border=\"0\">\n",
    "On recommence l’opération sur l’intervalle $[a, \\frac{a+b}{2}]$ ou bien sur l’intervalle $[\\frac{a+b}{2}, b]$"
   ]
  },
  {
   "cell_type": "markdown",
   "metadata": {},
   "source": [
    "### Exemple\n",
    "On cherche « à la main » une valeur approchée de $\\sqrt{2}$.\n",
    "\n",
    "Soit $f$ définie par $f(x) = x^2 -2$. On se place sur l’intervalle $[1, 2]$.\n",
    "* Comme $f (1) = -1 \\leq 0 $ et $f (2) = 2\\geq 0$ et que f est continue alors, par le théorème des valeurs intermédiaires, f s’annule sur l’intervalle $[1, 2]$ . \n",
    "\n",
    "Bien sûr, ici f s’annule en $x=\\sqrt{2}$\n",
    "\n",
    "Pour l’instant on a prouvé : $1\\leq\\sqrt{2}\\leq2$\n",
    "On divise l’intervalle $[1, 2]$ en deux parties, le milieu étant $\\frac{3}{2}$, on calcule : $f(\\frac{3}{2}) = \\frac{1}{4}>=0$\n",
    "* Donc sur le demi-intervalle $[1, \\frac{3}{2}]$ on a : \n",
    "    * $f (1)\\leq0$ \n",
    "    * $f(\\frac{3}{2}) \\geq0$\n",
    "    * et c’est donc sur $[1, \\frac{3}{2}]$ que f s’annule.\n",
    "\n",
    "Autrement dit : $1\\leq\\sqrt{2}\\leq\\frac{3}{2}$. C’est un encadrement deux fois plus précis qu’auparavant.\n",
    "\n",
    "On divise l’intervalle $[1, \\frac{3}{2}]$ en deux parties, le milieu étant $\\frac{5}{4}$, on calcule : $f(\\frac{5}{4}) = \\frac{-7}{16} \\leq 0$\n",
    "\n",
    "* Donc sur le demi-intervalle $[\\frac{5}{4}, \\frac{3}{2}]$ on a :\n",
    "    * $f (\\frac{5}{4}) \\leq 0$ \n",
    "    * $f(\\frac{3}{2}) \\geq 0$ \n",
    "    * et c’est donc sur $[\\frac{5}{4}, \\frac{3}{2}]$ que f s’annule \n",
    "\n",
    "Donc : 1.25 = $\\frac{5}{4}\\leq\\sqrt{2}\\leq\\frac{3}{2} = 1.5$\n",
    "\n",
    "On continue ainsi, on obtient des intervalles $[a_i , b_i]$ de plus en plus petits qui encadrent $\\sqrt{2}$ :\n",
    "<div style=\"text-align: center\"> $a_0 = 1$ et $b_0 = 2$</div>\n",
    "\n",
    "<div style=\"text-align: center\">$a_1 = 1$ et $ b_1 = 1.5$</div>\n",
    "\n",
    "<div style=\"text-align: center\">$a_2 = 1.25$ et $ b_2 = 1.5$</div>\n",
    "<div style=\"text-align: center\">$a_3 = 1.375$ et $ b_3 = 1.5$</div>\n",
    "<div style=\"text-align: center\">$a_4 = 1.375$ et $ b_4 = 1.4375$</div>\n",
    "<div style=\"text-align: center\">$a_5 = 1.40625$ et $ b_5 = 1.4375$</div>\n",
    "<div style=\"text-align: center\">$a_6 = 1.40625$ et $ b_6 = 1.421875$</div>\n",
    "<div style=\"text-align: center\">$a_7 = 1.4140625$ et $ b_7 = 1.421875$</div>\n",
    "<div style=\"text-align: center\">$a_8 = 1.4140625$ et $ b_8 = 1.41796875$</div>\n",
    "\n",
    "Donc en 8 étapes on prouve que $1.4140625\\leq\\sqrt{2}\\leq1.41796875. \n",
    "\n",
    "En particulier on obtient les deux premières décimales de $\\sqrt{2}= 1.41 . . .$\n",
    "\n",
    "<img src=\"https://i.ibb.co/89FS8nc/Capture-d-e-cran-2020-09-05-a-14-34-05.png\" width=344 border=\"0\">"
   ]
  },
  {
   "cell_type": "code",
   "execution_count": null,
   "metadata": {
    "collapsed": true
   },
   "outputs": [],
   "source": []
  }
 ],
 "metadata": {
  "kernelspec": {
   "display_name": "Python 3",
   "language": "python",
   "name": "python3"
  },
  "language_info": {
   "codemirror_mode": {
    "name": "ipython",
    "version": 3
   },
   "file_extension": ".py",
   "mimetype": "text/x-python",
   "name": "python",
   "nbconvert_exporter": "python",
   "pygments_lexer": "ipython3",
   "version": "3.6.3"
  }
 },
 "nbformat": 4,
 "nbformat_minor": 2
}
