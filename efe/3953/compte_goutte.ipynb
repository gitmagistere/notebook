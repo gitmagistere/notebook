{
  "nbformat": 4,
  "nbformat_minor": 0,
  "metadata": {
    "colab": {
      "name": "compte-goutte.ipynb",
      "provenance": [],
      "collapsed_sections": []
    },
    "kernelspec": {
      "name": "python3",
      "display_name": "Python 3"
    }
  },
  "cells": [
    {
      "cell_type": "code",
      "metadata": {
        "id": "gq1Vy09AQkMs",
        "colab_type": "code",
        "colab": {}
      },
      "source": [
        "L=[]\n",
        "N=0\n",
        "n=80\n",
        "dernier_reste=0\n",
        "for i in range(1,n+1):\n",
        "  L.append(2)\n",
        "for i in range(n//4):\n",
        "  b=2*n-1\n",
        "  retenue=0\n",
        "  k=n\n",
        "  while k>0:\n",
        "    retenue=retenue+10*L[k-1]\n",
        "    L[k-1]=retenue-b*(retenue//b)\n",
        "    retenue=retenue//b\n",
        "    b=b-2\n",
        "    k=k-1\n",
        "    if k!=0:\n",
        "      retenue=retenue*k\n",
        "  decimale=dernier_reste+retenue//10\n",
        "  print(decimale)\n",
        "  dernier_reste=retenue-10*(retenue//10) "
      ],
      "execution_count": null,
      "outputs": []
    }
  ]
}