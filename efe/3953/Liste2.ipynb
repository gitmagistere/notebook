{
 "cells": [
  {
   "cell_type": "markdown",
   "metadata": {},
   "source": [
    "## Liste - introduction\n",
    "Capacités attendues\n",
    "\n",
    "- Générer une liste (en extension, par ajouts successifs ou en compréhension).\n",
    "- Manipuler des éléments d’une liste (ajouter, supprimer...) et leurs indices.\n",
    "- Parcourir une liste.\n",
    "- Itérer sur les éléments d’une liste.\n",
    "\n",
    "### 0 - Accéder à des tranches de valeurs d'une liste (slicing)\n",
    "\n",
    "Le slicing consiste à prendre des 'tranches' entre deux indices d'une liste.\n",
    "\n",
    "- ```liste[2:8]``` désigne les éléments de la liste depuis l'indice 2 jusqu'à l'indice 8, l'élément de l'indice 8 étant exclus\n",
    "- ```liste[2:]``` désigne tous les éléments de la liste après l'indice 2, l'élément de l'indice 2 compris\n",
    "- ```liste[:2]``` désigne tous les éléments de la liste jusqu'à l'indice 2, l'élément de l'indice 2 n'étant pas compris\n",
    "- les indices négatifs signifient qu'on part de la fin : ```liste[-3:-1]``` désigne tous les éléments de la liste epuis le troisième élément à partir de la fin jusqu'au dernier élement, celui-ci n'étant pas compris\n",
    "\n",
    "**Bref : ATTENTION aux indices !!!**\n",
    "\n",
    "Voici quelques exemples. "
   ]
  },
  {
   "cell_type": "code",
   "execution_count": null,
   "metadata": {
    "collapsed": true
   },
   "outputs": [],
   "source": [
    "liste = [\"a\", \"b\", \"b\", \"d\", \"e\", \"f\", \"g\", \"h\",]\n",
    "print(liste)\n",
    "liste[3:7]\n",
    "liste[3:3]\n",
    "liste[5:]\n",
    "liste[:5]\n",
    "liste[-3:-1]\n",
    "liste[-5:]\n",
    "liste[:]"
   ]
  },
  {
   "cell_type": "markdown",
   "metadata": {},
   "source": [
    "### 1 - Création de listes \n",
    "\n",
    "#### Conversion en liste\n",
    "\n",
    "Pour convertir un objet python en liste, on utilise la fonction ```list```\n",
    "Seuls les éléments itérables sont convertibles en liste :\n",
    "- les chaînes de caractères\n",
    "- les tuples (ensemble de valeurs regroupés par des parenthèses)\n",
    "- les variables simples (int, float, char, boolean) qui produiront une liste avec un unique élémént"
   ]
  },
  {
   "cell_type": "code",
   "execution_count": null,
   "metadata": {
    "collapsed": true
   },
   "outputs": [],
   "source": [
    "list(\"abcdef\")\n",
    "list((0,1,2,3,4,5))\n",
    "list(range(10))\n",
    "list(range(5,9))"
   ]
  },
  {
   "cell_type": "markdown",
   "metadata": {},
   "source": [
    "#### Création de liste par Compréhension\n",
    "En mathématiques (théorie des ensembles), l’axiome de compréhension est fondamental.\n",
    "\n",
    "Axiome : Si E est un ensemble et P une propriété exprimée dans le langage de la théorie des ensembles, alors $\\{x \\in E / P\\}$ est un ensemble.\n",
    "\n",
    "Il est très courant en mathématiques de définir des ensembles en compréhension. L’ensemble des nombres pairs, par exemple est l’ensemble $\\{n \\in Z / n\\equiv 0[2]\\}$ .\n",
    "\n",
    "On peut avec Python définir des listes en compréhension (on dit aussi en intension avec un s) :"
   ]
  },
  {
   "cell_type": "code",
   "execution_count": null,
   "metadata": {
    "collapsed": true
   },
   "outputs": [],
   "source": [
    "X = [1,5,7,12]\n",
    "Y = [x**2 for x in X]\n",
    "Y"
   ]
  },
  {
   "cell_type": "markdown",
   "metadata": {},
   "source": [
    "Y est la liste des carrés des nombres appartenant à X. On peut même ajouter une condition :"
   ]
  },
  {
   "cell_type": "code",
   "execution_count": null,
   "metadata": {
    "collapsed": true
   },
   "outputs": [],
   "source": [
    "Y = [x**2 for x in X if x**2<30]\n",
    "Y\n",
    "Y = [x**2 for x in X if x<10]\n",
    "Y"
   ]
  },
  {
   "cell_type": "markdown",
   "metadata": {},
   "source": [
    "### 2 - Modifier une liste\n",
    "#### Insérer un élément dans une liste \n",
    "Pour insérer un terme où on veut, on utilise la méthode ```.insert()``` selon la syntaxe suivante :\n"
   ]
  },
  {
   "cell_type": "code",
   "execution_count": null,
   "metadata": {
    "collapsed": true
   },
   "outputs": [],
   "source": [
    "L.insert(3,666)\n",
    "L"
   ]
  },
  {
   "cell_type": "markdown",
   "metadata": {},
   "source": [
    "Dans une liste, on peut remplacer une tranche par une autre (il s’agit d’une mutation) :"
   ]
  },
  {
   "cell_type": "code",
   "execution_count": null,
   "metadata": {
    "collapsed": true
   },
   "outputs": [],
   "source": [
    "L = list(range(15))\n",
    "L[2:5] = 5*[0]\n",
    "L"
   ]
  },
  {
   "cell_type": "markdown",
   "metadata": {},
   "source": [
    "On peut utiliser ce procédé pour changer/oter un terme :"
   ]
  },
  {
   "cell_type": "code",
   "execution_count": null,
   "metadata": {
    "collapsed": true
   },
   "outputs": [],
   "source": [
    "L=list(range(15))\n",
    "L[3:4]=[7]\n",
    "L"
   ]
  },
  {
   "cell_type": "markdown",
   "metadata": {},
   "source": [
    "On peut utiliser cette méthode pour supprimer une tranche :"
   ]
  },
  {
   "cell_type": "code",
   "execution_count": null,
   "metadata": {
    "collapsed": true
   },
   "outputs": [],
   "source": [
    "L[2:5]=[]\n",
    "L"
   ]
  },
  {
   "cell_type": "markdown",
   "metadata": {},
   "source": [
    "On peut insérer une tranche :"
   ]
  },
  {
   "cell_type": "code",
   "execution_count": null,
   "metadata": {
    "collapsed": true
   },
   "outputs": [],
   "source": [
    " L[5:5]=[1,1,1,1,1]\n",
    "L"
   ]
  },
  {
   "cell_type": "markdown",
   "metadata": {},
   "source": [
    "#### Supprimer un élément à un indice donné \n",
    "Pour effacer un élément à un indice précis, on peut utiliser la fonction ```del()``` :"
   ]
  },
  {
   "cell_type": "code",
   "execution_count": null,
   "metadata": {
    "collapsed": true
   },
   "outputs": [],
   "source": [
    "L=[7,12,3,2]\n",
    "del(L[2])\n",
    "L"
   ]
  },
  {
   "cell_type": "markdown",
   "metadata": {},
   "source": [
    "#### Supprimer un élément dont on ne connaît pas l'indice\n",
    "Pour supprimer un élément (valeur) dont on ne connaît pas la position (l'indice), on peut utiliser la méthode ```.remove()```.\n",
    "\n",
    "** Attention ** : cela ne supprime que la première occurence, en partant de l'indice 0, de cette valeur\n",
    "\n",
    "**Attention bis** : si la valeur n'existe pas, Python déclenche une erreur\n"
   ]
  },
  {
   "cell_type": "code",
   "execution_count": null,
   "metadata": {
    "collapsed": true
   },
   "outputs": [],
   "source": [
    "L = [1,10,56,23,897,56,1000]\n",
    "L.remove(56)\n",
    "L\n",
    "L.remove(100000)"
   ]
  },
  {
   "cell_type": "markdown",
   "metadata": {},
   "source": [
    "### 3 - Opérations sur les listes\n",
    "\n",
    "#### Tester \n",
    "Les listes supportent les tests ```x in list``` et ```x not in list```. Les réponses de ces instructions seront des booléens : ```True```si la valeur ```x``` est dans la liste, ```False``` sinon.\n"
   ]
  },
  {
   "cell_type": "code",
   "execution_count": null,
   "metadata": {
    "collapsed": true
   },
   "outputs": [],
   "source": [
    "solide_platon=[\"Tétraèdre\",\"Hexaèdre\",\"Octaèdre\",\"Dodécaèdre\",\"Icosaèdre\"]\n",
    "\"polyèdre\" in solide_platon"
   ]
  },
  {
   "cell_type": "markdown",
   "metadata": {},
   "source": [
    "### Trier une liste\n",
    "La fonction sorted et la méthode sort font la même chose : elles trient les items dans l’ordre croissant (par défaut). \n",
    "\n",
    "La fonction ```sorted``` prend n’importe quel itérable et retourne les items dans l’ordre, sous forme de liste. Elle ne modifie donc pas le contenu de la liste initiale."
   ]
  },
  {
   "cell_type": "code",
   "execution_count": null,
   "metadata": {
    "collapsed": true
   },
   "outputs": [],
   "source": [
    "L=[7,12,3,2]\n",
    "sorted(L)\n",
    "L"
   ]
  },
  {
   "cell_type": "markdown",
   "metadata": {},
   "source": [
    "La méthode sort s’applique à une liste et modifie cette liste :"
   ]
  },
  {
   "cell_type": "code",
   "execution_count": null,
   "metadata": {
    "collapsed": true
   },
   "outputs": [],
   "source": [
    "L.sort()\n",
    "L"
   ]
  },
  {
   "cell_type": "markdown",
   "metadata": {},
   "source": [
    "Les deux, ```sort``` et ```sorted```, acceptent les arguments ```reverse``` et ```key```. \n",
    "\n",
    "L’argument ```reverse``` permet de trier dans l’ordre décroissant :"
   ]
  },
  {
   "cell_type": "code",
   "execution_count": null,
   "metadata": {
    "collapsed": true
   },
   "outputs": [],
   "source": [
    "sorted([7,12,3,2],reverse=True)"
   ]
  },
  {
   "cell_type": "markdown",
   "metadata": {},
   "source": [
    "L’argument ```key``` permet de choisir la fonction avec laquelle on fera le tri. \n",
    "\n",
    "Si on veut, par exemple, trier selon la valeur absolue, on fera :"
   ]
  },
  {
   "cell_type": "code",
   "execution_count": null,
   "metadata": {
    "collapsed": true
   },
   "outputs": [],
   "source": [
    "sorted([-13,15,-2,6,-6],key=abs)"
   ]
  },
  {
   "cell_type": "markdown",
   "metadata": {},
   "source": [
    "#### Trouver une valeur dans une liste\n",
    "Pour trouver l’indice d’un terme présent dans un liste, la méthode ```index()``` peut être utilisée : elle renverra l'indice de la première occurence de la valeur :"
   ]
  },
  {
   "cell_type": "code",
   "execution_count": null,
   "metadata": {
    "collapsed": true
   },
   "outputs": [],
   "source": [
    "L = [0, 1, 6, 7, 8, 9, 10, 11, 12, 5, 6, 7, 8, 9, 10]\n",
    "L.index(6)"
   ]
  },
  {
   "cell_type": "markdown",
   "metadata": {},
   "source": [
    "#### Compter les éléments d'une liste\n",
    "Pour compter les occurrences d’un item, la méthode ```count()``` peut être utilisée :"
   ]
  },
  {
   "cell_type": "code",
   "execution_count": null,
   "metadata": {
    "collapsed": true
   },
   "outputs": [],
   "source": [
    "L = [1,2,1,1,1,1,2,1,2]\n",
    "L.count(2)\n",
    "L.count(3)"
   ]
  },
  {
   "cell_type": "markdown",
   "metadata": {},
   "source": [
    "#### Calculer le maximum/minimu des valeurs d'une liste\n",
    "Dans la cadre des statistiques par exemple, la fonction ```max()``` (respectivment ```min()```) peut permettre de calculer aisément le plus grand (respectivement petit) élément d'une liste :"
   ]
  },
  {
   "cell_type": "code",
   "execution_count": null,
   "metadata": {
    "collapsed": true
   },
   "outputs": [],
   "source": [
    "max(L)"
   ]
  },
  {
   "cell_type": "code",
   "execution_count": null,
   "metadata": {
    "collapsed": true
   },
   "outputs": [],
   "source": [
    "min(L)"
   ]
  },
  {
   "cell_type": "markdown",
   "metadata": {},
   "source": [
    "#### Méthode copy\n",
    "Pour copier une liste dans une autre, on utilise la méthode ```copy()``` :\n"
   ]
  },
  {
   "cell_type": "code",
   "execution_count": null,
   "metadata": {
    "collapsed": true
   },
   "outputs": [],
   "source": [
    "LL=L.copy()\n",
    "LL\n",
    "LL==L\n",
    "LL is L"
   ]
  },
  {
   "cell_type": "markdown",
   "metadata": {},
   "source": [
    "** ATTENTION **\n",
    "\n",
    "L'instruction ```liste2 = liste1``` ne permet que de donner un deuxième nom à une liste existante. \n",
    "Dans l'exemple ci-dessous, nous allons créer une liste ```a``` puis faire l'instruction ```b = a```. Nous modifierons ensuite la liste ```b``` et constaterons que la liste  ```a``` a aussi été modifiée."
   ]
  },
  {
   "cell_type": "code",
   "execution_count": null,
   "metadata": {
    "collapsed": true
   },
   "outputs": [],
   "source": [
    "a = [20, 19, 18, 17]\n",
    "b = a\n",
    "b[0] = 10\n",
    "b\n",
    "a\n",
    "b is a"
   ]
  },
  {
   "cell_type": "markdown",
   "metadata": {},
   "source": [
    "### Effacer une liste \n",
    "Méthode clear\n",
    "Pour effacer le contenu d’une liste, on utilise la métode ```.clear()```."
   ]
  },
  {
   "cell_type": "code",
   "execution_count": null,
   "metadata": {
    "collapsed": true
   },
   "outputs": [],
   "source": [
    "L.clear()\n",
    "L"
   ]
  },
  {
   "cell_type": "markdown",
   "metadata": {},
   "source": [
    "### 4 - Pour aller plus loin\n",
    "#### Des cascades de listes en compréhension\n",
    "On peut imbriquer des listes en compréhension :\n"
   ]
  },
  {
   "cell_type": "code",
   "execution_count": null,
   "metadata": {
    "collapsed": true
   },
   "outputs": [],
   "source": [
    "L1 = [[k for k in range(3)] for m in range(6)]\n",
    "L1\n",
    "L2 = [[k for k in range(m)] for m in range(6)]\n",
    "L2"
   ]
  },
  {
   "cell_type": "markdown",
   "metadata": {},
   "source": [
    "On peut utiliser cette technique pour effectuer des produits de listes :"
   ]
  },
  {
   "cell_type": "code",
   "execution_count": null,
   "metadata": {
    "collapsed": true
   },
   "outputs": [],
   "source": [
    "valeur = [1,7,8,9,10,\"Valet\",\"Dame\",\"Roi\"]\n",
    "couleur = [\"Coeur\",\"Carreau\",\"Pique\",\"Trèfle\"]\n",
    "jeu = [(n,c) for n in valeur for c in couleur]\n",
    "jeu\n",
    "(10,\"Trèfle\") in jeu"
   ]
  },
  {
   "cell_type": "markdown",
   "metadata": {},
   "source": [
    "#### Fusion de listes\n",
    "Soit L une liste de listes. On peut récupérer les items des listes de L en une seule instruction :"
   ]
  },
  {
   "cell_type": "code",
   "execution_count": null,
   "metadata": {
    "collapsed": true
   },
   "outputs": [],
   "source": [
    "Liste = [[0], [0, 1], [0, 1, 2], [0, 1, 2, 3], [0, 1, 2, 3, 4]]\n",
    "fusion=[x for SousListe in Liste for x in SousListe]\n",
    "fusion"
   ]
  },
  {
   "cell_type": "code",
   "execution_count": null,
   "metadata": {
    "collapsed": true
   },
   "outputs": [],
   "source": []
  }
 ],
 "metadata": {
  "kernelspec": {
   "display_name": "Python 3",
   "language": "python",
   "name": "python3"
  },
  "language_info": {
   "codemirror_mode": {
    "name": "ipython",
    "version": 3
   },
   "file_extension": ".py",
   "mimetype": "text/x-python",
   "name": "python",
   "nbconvert_exporter": "python",
   "pygments_lexer": "ipython3",
   "version": "3.6.3"
  }
 },
 "nbformat": 4,
 "nbformat_minor": 2
}
