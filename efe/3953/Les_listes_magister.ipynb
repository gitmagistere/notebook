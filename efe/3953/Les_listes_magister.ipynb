{
 "cells": [
  {
   "cell_type": "markdown",
   "metadata": {
    "colab_type": "text",
    "id": "jwApNWsNfFlw"
   },
   "source": [
    "\n",
    "\n",
    "# Les listes : compléments\n",
    "\n",
    "Pour rappel, une liste est une séquence qui contient des objets ordonnés, qui peuvent être de type différents (`int`, `float`, `str` ou `boolean`).\n",
    "\n",
    "Les listes peuvent être de n'importe quelle longueur. L'instruction `len()` permet d'obtenir la longueur de la liste, c'est à dire le nombre d'éléments de cette liste. \n",
    "\n",
    "\n",
    "\n",
    "\n"
   ]
  },
  {
   "cell_type": "markdown",
   "metadata": {
    "colab_type": "text",
    "id": "sOoXGLa2kh5P"
   },
   "source": [
    "\n",
    "## 1. Différentes façon de générer une liste\n",
    "\n",
    "### a. Par extension\n",
    "Il est possible de générer une liste en utilisant le symbole d'affectation `=` et la syntaxe suivante:\n",
    "\n",
    "\n",
    "\n"
   ]
  },
  {
   "cell_type": "code",
   "execution_count": null,
   "metadata": {
    "colab": {},
    "colab_type": "code",
    "id": "kd7uapfnex2a"
   },
   "outputs": [],
   "source": [
    "maListe=[1,3.5,'bonjour',2==2+1]        # Ici maListe contient quatre éléments de type différents (int, float, char, boolean)\n",
    "\n",
    "len(maListe)                            # Instruction qui détermine le nombre d'éléments de la liste\n",
    "maListe[1]                              # Renvoie le deuxième élément de la liste maListe c'est à dire l'élément d'indice 1, 3.5\n",
    "maListe[4]                              # Renvoie une erreur "
   ]
  },
  {
   "cell_type": "markdown",
   "metadata": {
    "colab_type": "text",
    "id": "T-vPBhNhmwd6"
   },
   "source": [
    "### b. Par ajout successif\n",
    "\n",
    "On peut ajouter un élément en dernière position de la liste eb utilisant la méthode `append()`."
   ]
  },
  {
   "cell_type": "code",
   "execution_count": null,
   "metadata": {
    "colab": {},
    "colab_type": "code",
    "id": "rYbQ3DxOnw8M"
   },
   "outputs": [],
   "source": [
    "maListe=[1,3.5,'bonjour',2==2+1]   \n",
    "maListe.append('coucou')                # La chaîne de caractère 'coucou' est ajouté à la liste en dernière position\n",
    "\n",
    "maListe                                 # Permet d'afficher le contenu de la liste dans un jupyternotebook"
   ]
  },
  {
   "cell_type": "markdown",
   "metadata": {
    "colab_type": "text",
    "id": "X03Sc_mLsYm2"
   },
   "source": [
    "### c. En compréhension\n",
    "\n",
    "Pour générer une liste en compréhension, on définit les éléments de la liste d'une façon concise et analogue à celle utilisée en théorie des ensembles.\n",
    "\n",
    "Par exemple, pour définir $E=\\{2k+1 \\text{   tel que   } 0 \\leqslant k \\leqslant 10\\}$ , il suffit de définir la liste suivante :"
   ]
  },
  {
   "cell_type": "code",
   "execution_count": null,
   "metadata": {
    "colab": {},
    "colab_type": "code",
    "id": "nMWt8V43wVd1"
   },
   "outputs": [],
   "source": [
    "E=[2*k+1 for k in range (11)]           \n",
    "\n",
    "E                   # Pour afficher les éléments de la liste"
   ]
  },
  {
   "cell_type": "markdown",
   "metadata": {},
   "source": [
    "Que contient la liste L ci-dessous générer en compréhension"
   ]
  },
  {
   "cell_type": "code",
   "execution_count": null,
   "metadata": {},
   "outputs": [],
   "source": [
    "L=[i for i in range(30) if i%3==0]"
   ]
  },
  {
   "cell_type": "markdown",
   "metadata": {
    "colab_type": "text",
    "id": "MkoMKQF5xWWV"
   },
   "source": [
    "## 2. Parcourir une liste\n",
    "\n",
    "\n",
    "### a. Indiçage d'une liste\n",
    "Les éléments d'une liste sont repérés par leur position dans la liste. Ce numéro est l'indice dans la liste. \n",
    "\n",
    "L'indiçage d'une liste de longueur $n$ débute à $0$ et se termine à $n-1$.\n"
   ]
  },
  {
   "cell_type": "code",
   "execution_count": null,
   "metadata": {
    "colab": {},
    "colab_type": "code",
    "id": "zGSMRaJtzwHN"
   },
   "outputs": [],
   "source": [
    "maListe3=[i for i in range(31) if i % 2 == 0]\n",
    "\n",
    "maListe3[2]     # Affiche le 3ème élément de la liste"
   ]
  },
  {
   "cell_type": "markdown",
   "metadata": {
    "colab_type": "text",
    "id": "qi9gTLG03gQG"
   },
   "source": [
    "On peut également accéder aux éléments de la liste par la fin, en utilisant un indiçage négatif qui commence à $-1$ pour le dernier élément :"
   ]
  },
  {
   "cell_type": "code",
   "execution_count": null,
   "metadata": {
    "colab": {},
    "colab_type": "code",
    "id": "yYkBCQow4IO5"
   },
   "outputs": [],
   "source": [
    "maListe3=[i for i in range(31) if i % 2 == 0]      # Permet de stocker les nombres pairs de 0 à 30 dans 'maListe3'\n",
    "\n",
    "maListe3[-1], maListe3[-2]      # Affiche le dernier et l'avant-dernier élément de la liste.\n",
    "  "
   ]
  },
  {
   "cell_type": "markdown",
   "metadata": {},
   "source": [
    "On peut également accéder aux éléments de la liste par tranche, en utilisant la syntaxe suivante Liste[début:fin:pas]."
   ]
  },
  {
   "cell_type": "code",
   "execution_count": null,
   "metadata": {},
   "outputs": [],
   "source": [
    "maListe3[4:8:2]"
   ]
  },
  {
   "cell_type": "markdown",
   "metadata": {
    "colab_type": "text",
    "id": "75S83VDS5d3o"
   },
   "source": [
    "### b. Parcourir une liste\n",
    "\n",
    "L'instruction `for... in range()` permet de parcourir les éléments de la liste grâce à leur indice. L'instruction `len()` permet de parcourir la liste entière. "
   ]
  },
  {
   "cell_type": "code",
   "execution_count": null,
   "metadata": {
    "colab": {},
    "colab_type": "code",
    "id": "qcolsc8i7bEI"
   },
   "outputs": [],
   "source": [
    "maListe =[2*k for k in range (100)]     # Permet de ...\n",
    "maListe2=[]                             #Initialisation de 'maListe2' \n",
    "\n",
    "\n",
    "for i in range (len(maListe)):\n",
    "  if maListe[i]%4==0:\n",
    "     maListe2.append(maListe[i])\n",
    "\n",
    "maListe2                              # Permet d'afficher les multiples de 4 de 'maListe'"
   ]
  },
  {
   "cell_type": "markdown",
   "metadata": {
    "slideshow": {
     "slide_type": "slide"
    }
   },
   "source": [
    "Il est aussi possible de parcourir les éléments de la liste en utilisant la \"méthode\" suivante :"
   ]
  },
  {
   "cell_type": "code",
   "execution_count": null,
   "metadata": {},
   "outputs": [],
   "source": [
    "maListe =[2*k for k in range (100)]\n",
    "maListe3=[]\n",
    "for l in maListe:  # On parcourt les éléments de la liste maListe\n",
    "    if l%5==0:\n",
    "        maListe3.append(l)\n",
    "maListe3        "
   ]
  }
 ],
 "metadata": {
  "colab": {
   "authorship_tag": "ABX9TyMyoMj0HBEVGTmNBynmnIGL",
   "collapsed_sections": [],
   "name": "Les listes.ipynb",
   "provenance": []
  },
  "kernelspec": {
   "display_name": "Python 3",
   "language": "python",
   "name": "python3"
  },
  "language_info": {
   "codemirror_mode": {
    "name": "ipython",
    "version": 3
   },
   "file_extension": ".py",
   "mimetype": "text/x-python",
   "name": "python",
   "nbconvert_exporter": "python",
   "pygments_lexer": "ipython3",
   "version": "3.8.3"
  }
 },
 "nbformat": 4,
 "nbformat_minor": 1
}
