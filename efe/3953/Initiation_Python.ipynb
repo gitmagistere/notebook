{
  "nbformat": 4,
  "nbformat_minor": 0,
  "metadata": {
    "colab": {
      "name": "Initiation Python.ipynb",
      "provenance": [],
      "collapsed_sections": [
        "U-TtA0dk28Lr",
        "gOEtaZFGxQER",
        "_ip0bo3MzQ4d"
      ]
    },
    "kernelspec": {
      "name": "python3",
      "display_name": "Python 3"
    }
  },
  "cells": [
    {
      "cell_type": "markdown",
      "metadata": {
        "id": "2ZbO80V0uruG",
        "colab_type": "text"
      },
      "source": [
        "# Programmation en Python\n",
        "\n",
        "## I.\tLes variables\n",
        "\n",
        "### a.\tCaractéristiques sous Python\n",
        "\n",
        "On peut voir une variable comme une boîte qui va contenir une valeur : ce peut être un nombre, une chaîne de caractères, une liste, etc.\n",
        "Sous Python, les noms de variables doivent en outre obéir à quelques règles simples :\n",
        "\n",
        "•\tUn nom de variable est une séquence de lettres (a ‐‐> z , A ‐‐> Z) et de chiffres (0 ‐‐> 9), qui doit toujours commencer par une lettre.\n",
        "\n",
        "•\tSeules les lettres ordinaires sont autorisées et aussi le caractère « _ » (souligné).\n",
        "\n",
        "•\tLa casse est significative : les caractères majuscules et minuscules sont distingués.\n",
        "\n",
        "Il faut toujours donner un nom significatif à une variable, par exemple `taux_tva`, `nombre_essais` ...\n",
        "\n",
        "### b.\tDéclaration / Affectation\n",
        "\n",
        "Pour déclarer et affecter une variable, c’est‐à‐dire lui donner une valeur, on utilise le caractère `=` \n"
      ]
    },
    {
      "cell_type": "code",
      "metadata": {
        "id": "36cvYzVsulDR",
        "colab_type": "code",
        "colab": {}
      },
      "source": [
        "### Différents types de variables ###\n",
        "\n",
        "a=2             # entier : int #\n",
        "b= 5/3          # flottant : float #\n",
        "c='Bonjour'     # Chaîne de caractère : string #\n",
        "d= True         # Booléen : True ou False #"
      ],
      "execution_count": null,
      "outputs": []
    },
    {
      "cell_type": "markdown",
      "metadata": {
        "id": "qf-C5o5DwZds",
        "colab_type": "text"
      },
      "source": [
        "## II.\tInstuctions conditionnelles\n",
        "\n",
        "### a.\tDéfinition\n",
        "Une structure conditionnelle est une suite d'instructions qui ne seront exécutées que si les conditions requises sont réalisées.\n",
        "\n",
        "### b.\tSyntaxe algorithmique :\n",
        "`Si` condition \\\\\n",
        "`Alors` Instructions_si_vrai \\\\\n",
        "`Sinon` Instructions_si_faux \\\\\n",
        "`Fin Si`\n",
        "\n",
        "\n",
        "### c. Syntaxe Python\n"
      ]
    },
    {
      "cell_type": "code",
      "metadata": {
        "id": "rapqIi0uxG8H",
        "colab_type": "code",
        "colab": {}
      },
      "source": [
        "if condition :\t\t\t\t\t# Ne pas oublier le double‐point #\n",
        "  instruction1\t# Indentation obligatoire qui permet...\n",
        "  instruction2\t#...d’indiquer les instructions faisant partie du bloc #\n",
        "\n",
        "\n",
        "# Autre possibilité : #\n",
        " \n",
        "if condition :\n",
        "  instructions_vrai\n",
        "else :\n",
        "  instructions_faux\n",
        "\n",
        "\n",
        "# Encore une autre possibilité : #\n",
        " \n",
        "if condition1 :\n",
        "  instructions1\n",
        "elif condition2 :\n",
        "  instructions2\n",
        "...\n",
        "else :\n",
        "  instructionsAutresCas\n",
        "\n"
      ],
      "execution_count": null,
      "outputs": []
    },
    {
      "cell_type": "markdown",
      "metadata": {
        "id": "G_J1ndpfx5IS",
        "colab_type": "text"
      },
      "source": [
        "Remarques à propos des impératifs syntaxiques :\n",
        "\n",
        "  •\tles `:` en fin de ligne du `if` sont obligatoires ;\n",
        "\n",
        "  •\tl’indentation est obligatoire et celle‐ci est automatique si l’éditeur est adapté ;\n",
        "\n",
        "  •\t`elif` et `else`, s’ils sont présents, doivent être alignés avec `if`.\n",
        "\n",
        "### d.\tConnecteurs logiques\n",
        "On peut recourir aux trois connecteurs logiques :\n",
        "\n",
        "•\tou : `or`\n",
        "\n",
        "•\tet : `and`\n",
        "\n",
        "•\tnon : `not`\n",
        "\n",
        "### e. Exemple\n",
        "Le numéro de compte bancaire est constitué de 21 chiffres auquel s'ajoute la clé de contrôle (2 chiffres). La clé de contrôle C est calculée par la formule :\n",
        "C = 97 -  (Reste de la division euclidienne du numéro de compte bancaire par 97). \n",
        "\n",
        "Compléter le script ci-dessous pour qu'il contrôle la validité d'un numéro de compte bancaire. \n",
        "\n",
        "Puis le tester avec le numéro de compte : 172194055176001018958 Clé : 41\n",
        "\n",
        "remarques : `a//b` et `a%b` calculent respectivement le quotient et le reste de la division euclienne de `a` par `b`, `a` et `b` étant deux entiers.  \n",
        "\n"
      ]
    },
    {
      "cell_type": "code",
      "metadata": {
        "id": "FK8gWjFB1zeC",
        "colab_type": "code",
        "colab": {}
      },
      "source": [
        "# Script à compléter #\n",
        "\n",
        "NumeroCompteBancaire=int(input(\"Quel est le numéro de compte bancaire à 21 chiffres ?\"))\n",
        "Cle = \n",
        "\n"
      ],
      "execution_count": null,
      "outputs": []
    },
    {
      "cell_type": "markdown",
      "metadata": {
        "id": "U-TtA0dk28Lr",
        "colab_type": "text"
      },
      "source": [
        "# Solution :"
      ]
    },
    {
      "cell_type": "code",
      "metadata": {
        "colab_type": "code",
        "id": "A-qM9wtF24uU",
        "colab": {
          "base_uri": "https://localhost:8080/",
          "height": 72
        },
        "outputId": "7540d56b-ef52-4dff-bdd9-03d7e654f6b6"
      },
      "source": [
        "# Script à compléter #\n",
        "\n",
        "NumeroCompteBancaire=int(input(\"Quel est le numéro de compte bancaire à 21 chiffres ?\"))\n",
        "Cle = int(input(\"Quelle est la clé ?\"))\n",
        "\n",
        "if (97-NumeroCompteBancaire%97) == Cle :\n",
        "  print (\"Clé valide\")\n",
        "else :\n",
        "  print('Clé invalide')\n",
        "\n"
      ],
      "execution_count": null,
      "outputs": [
        {
          "output_type": "stream",
          "text": [
            "Quel est le numéro de compte bancaire à 21 chiffres ?172194055176001018985\n",
            "Quelle est la clé ?41\n",
            "Clé invalide\n"
          ],
          "name": "stdout"
        }
      ]
    },
    {
      "cell_type": "markdown",
      "metadata": {
        "id": "dUVx420zuY-1",
        "colab_type": "text"
      },
      "source": [
        "# III.\tLa boucle conditionnelle « Tant que » \n",
        "\n",
        "## a.\tDéfinition\n",
        "Une boucle \"Tant que\" est une suite d'instructions qui seront répétées tant qu'une certaine condition est réalisée.\n",
        "\n",
        "## b.\tSyntaxe algorithmique \n",
        "`Tant que` condition `faire` : \\\\\n",
        "Instructions \\\\\n",
        "`Fin Tant que`\n",
        "\n",
        "\n",
        "Remarque : Le test de la condition est effectué avant d’entrer dans la boucle. \n",
        "\n",
        "•\tPar conséquent, si la condition n’est pas vérifiée avant l’entrée dans la boucle, on n’y entre pas, les instructions à l’intérieur de la boucle ne sont pas effectuées, et on passe à l’instruction suivant la boucle. \n",
        "\n",
        "•\tOn sort de la boucle lorsque la condition n’est plus vérifiée.\n",
        "\n",
        "##  c.\tSyntaxe Python\n",
        "\n"
      ]
    },
    {
      "cell_type": "code",
      "metadata": {
        "id": "mGzrm00evuPl",
        "colab_type": "code",
        "colab": {}
      },
      "source": [
        "while`  condition : \t\t\t\t# Ne pas oublier le double‐point !\n",
        "  instructions \t\t  \t\t    # Indentation obligatoire ; permet d’indiquer les instructions faisant partie du bloc"
      ],
      "execution_count": null,
      "outputs": []
    },
    {
      "cell_type": "markdown",
      "metadata": {
        "id": "Eum-XuM_wdBt",
        "colab_type": "text"
      },
      "source": [
        "## d.\tExemple\n",
        "Ecrire un programme ci-dessous qui calcule le pgcd de 2 nombres a et b par l'algorithme d'Euclide."
      ]
    },
    {
      "cell_type": "code",
      "metadata": {
        "id": "CU51pmxAw20y",
        "colab_type": "code",
        "colab": {}
      },
      "source": [
        "#Script#\n",
        "\n"
      ],
      "execution_count": null,
      "outputs": []
    },
    {
      "cell_type": "markdown",
      "metadata": {
        "id": "gOEtaZFGxQER",
        "colab_type": "text"
      },
      "source": [
        "# Solution"
      ]
    },
    {
      "cell_type": "code",
      "metadata": {
        "id": "qf4_7E8wxT49",
        "colab_type": "code",
        "colab": {
          "base_uri": "https://localhost:8080/",
          "height": 72
        },
        "outputId": "46d3ab3c-6949-44c9-911c-c3b86bfa2379"
      },
      "source": [
        "a= int(input('Premier nombre ?'))\n",
        "b= int(input('Second nombre ?'))\n",
        "\n",
        "#assert a<b\n",
        "if a%b==0 :\n",
        "  print('Le pgcd vaut : ',b)\n",
        "else :\n",
        "  while a%b!=0 :\n",
        "    r=a%b\n",
        "    a=b\n",
        "    b=r\n",
        "  print('Le pgcd vaut : ',r)\n",
        "    \n"
      ],
      "execution_count": null,
      "outputs": [
        {
          "output_type": "stream",
          "text": [
            "Premier nombre ?1300\n",
            "Second nombre ?533\n",
            "Le pgcd vaut :  13\n"
          ],
          "name": "stdout"
        }
      ]
    },
    {
      "cell_type": "markdown",
      "metadata": {
        "id": "WP4j0Q59xUqG",
        "colab_type": "text"
      },
      "source": [
        "# IV.\tLa boucle inconditionnelle « Pour » \n",
        "\n",
        "## a.\tDéfinition\n",
        "Une boucle \"Pour\" est une suite d'instructions qui seront répétées pour toutes les valeurs successivement prises par un entier dans un intervalle donné.\n",
        "\n",
        "\n",
        "## b.\tSyntaxe algorithmique\n",
        "`Pour` variable allant de valeur1 à valeur2 `faire` : \\\\\n",
        "Instructions \\\\\n",
        "`Fin Pour`\n",
        "\n",
        "## c.\tSyntaxe Python\n"
      ]
    },
    {
      "cell_type": "code",
      "metadata": {
        "id": "hulCe3p7x8_v",
        "colab_type": "code",
        "colab": {}
      },
      "source": [
        "for variable in range(valeur1 ,valeur2 + 1,pas): \t\t# Ne pas oublier le double‐point\n",
        "  instructions \t\t                                  # Indentation obligatoire pour indiquer les instructions faisant partie du bloc\n"
      ],
      "execution_count": null,
      "outputs": []
    },
    {
      "cell_type": "markdown",
      "metadata": {
        "id": "8EhokdKJyK6A",
        "colab_type": "text"
      },
      "source": [
        "## d.\tRemarque\n",
        "Une boucle « Pour » peut toujours être remplacée par une boucle « Tant que ».\n",
        "Ceci étant, il est préférable de recourir à une boucle « Pour » quand le traitement à répéter n’est pas assujetti à une condition (autre que le nombre de fois où le traitement doit être répété) et à une boucle « Tant que » sinon.\n",
        "\n",
        "## e. Exemple\n",
        "Ecrire ci-dessous un programme qui donne tous les diviseurs positifs d’un nombre entier naturel.\n",
        "\n"
      ]
    },
    {
      "cell_type": "code",
      "metadata": {
        "id": "7IqO75wRzAa2",
        "colab_type": "code",
        "colab": {
          "base_uri": "https://localhost:8080/",
          "height": 146
        },
        "outputId": "0ddaa9a5-12d6-4cc7-ca2d-46a741fb716b"
      },
      "source": [
        "# Programme : diviseurs positifs d’un nombre entier naturel\n",
        "\n",
        "from math import *\n",
        "\n",
        "n=int(input('Quel nombre ?'))\n",
        "r=sqrt(n)\n",
        "for i in range(1,int(r)):\n",
        "  if n%i==0 :\n",
        "    print(i,n//i)\n",
        "\n"
      ],
      "execution_count": null,
      "outputs": [
        {
          "output_type": "stream",
          "text": [
            "Quel nombre ?522\n",
            "1 522\n",
            "2 261\n",
            "3 174\n",
            "6 87\n",
            "9 58\n",
            "18 29\n"
          ],
          "name": "stdout"
        }
      ]
    },
    {
      "cell_type": "markdown",
      "metadata": {
        "id": "_ip0bo3MzQ4d",
        "colab_type": "text"
      },
      "source": [
        "# Solution :"
      ]
    },
    {
      "cell_type": "code",
      "metadata": {
        "id": "PdZGF5sXzT1V",
        "colab_type": "code",
        "colab": {
          "base_uri": "https://localhost:8080/",
          "height": 109
        },
        "outputId": "f3bca11f-c0a2-4056-e51f-810095e170b0"
      },
      "source": [
        "# Programme : diviseurs positifs d’un nombre entier naturel\n",
        "from math import *      #permet d'mport le module math pour calculer la racine carrée d'un nombre\n",
        "\n",
        "\n",
        "a= int(input('Nombre ?'))\n",
        "assert a>0\n",
        "print('Les diviseurs de ',a,' sont :')\n",
        "for i in range(1,int(sqrt(a))):\n",
        "  if a%i==0 :\n",
        "    print (i,';',a//i)"
      ],
      "execution_count": null,
      "outputs": [
        {
          "output_type": "stream",
          "text": [
            "Nombre ?18\n",
            "Les diviseurs de  18  sont :\n",
            "1 ; 18\n",
            "2 ; 9\n",
            "3 ; 6\n"
          ],
          "name": "stdout"
        }
      ]
    },
    {
      "cell_type": "markdown",
      "metadata": {
        "id": "WXTtnyQhzbS8",
        "colab_type": "text"
      },
      "source": [
        "# V.\tLes fonctions\n",
        "\n",
        "## a.\tDéfinition\n",
        "Une **fonction** est un bloc d’instructions qui a reçu un nom, dont le fonctionnement dépend d’un certain nombre de paramètres (les arguments de la fonction) et qui le plus souvent renvoie un résultat.\n",
        "\n",
        "## b.\tSyntaxe Python :\n",
        "\n"
      ]
    },
    {
      "cell_type": "code",
      "metadata": {
        "id": "o9M8M8u_zyVw",
        "colab_type": "code",
        "colab": {}
      },
      "source": [
        "def nomFonction(argument_1,..., argument_n): \t\t# Entête : nom de la fonction, et paramètres d’appel ; ne pas oublier les :\n",
        "  blocInstructions \t\t\t\t\t                    # Corps : on parcourt ce bloc ; ne pas oublier l'indentation\n"
      ],
      "execution_count": null,
      "outputs": []
    },
    {
      "cell_type": "markdown",
      "metadata": {
        "id": "GmNy4avWz_XV",
        "colab_type": "text"
      },
      "source": [
        "\n",
        "\n",
        "c.\tExemple\n",
        "\n",
        "Voir tests de primalité."
      ]
    },
    {
      "cell_type": "markdown",
      "metadata": {
        "id": "iwcKjzO11ByB",
        "colab_type": "text"
      },
      "source": [
        "# VI. Les listes\n",
        "\n",
        "## a. Définition\n",
        "\n",
        "Une liste est une s\u0013equence qui contient des objets ordonn\u0013és.\n",
        "\n",
        "## b. Syntaxe Python\n"
      ]
    },
    {
      "cell_type": "code",
      "metadata": {
        "id": "2CAV6E9Y1ymc",
        "colab_type": "code",
        "colab": {}
      },
      "source": [
        "maListe=[objet1,objet2,objet3,...,objetn]   # Une liste est not\u0013ée entre crochets et les objets sont s\u0013epar\u0013és par une virgule"
      ],
      "execution_count": null,
      "outputs": []
    },
    {
      "cell_type": "markdown",
      "metadata": {
        "id": "HEDQO01917Ni",
        "colab_type": "text"
      },
      "source": [
        "## c. Remarques\n",
        "Les listes peuvent avoir n'importe quelle longueur.\n",
        "\n",
        "Les objets éléments de la liste peuvent être de différents types (`int`, `float`, `str` ou `boolean`)\n",
        "\n",
        "## d. Différentes façon de générer une liste \n",
        "\n"
      ]
    },
    {
      "cell_type": "code",
      "metadata": {
        "id": "z8_bFbRE2-GO",
        "colab_type": "code",
        "colab": {}
      },
      "source": [
        "#  Aff\u000becter chaque \u0013el\u0013ement de la liste :\n",
        "maListe=[1,3.5,\"une chaine\",[]]       # les 4 éléments de la liste sont de type différents (maListe[0] est un entier et maListe{3] est une liste)\n",
        "\n",
        "# Générer par ajout successif : on utilise la m\u0013ethode append.\n",
        "maListe.append(\"bonjour\")             # ajoute un 5ème élèment de type chaine de caractère à maListe\n",
        "\n",
        "# Générer une liste en compr\u0013ehension\n",
        "maListe2=[2*k+1 for k in range(10)]    # permet de définir la liste comme un ensemble en mathématiques ; ici la liste des nombres impair de 1 à 19\n"
      ],
      "execution_count": null,
      "outputs": []
    }
  ]
}