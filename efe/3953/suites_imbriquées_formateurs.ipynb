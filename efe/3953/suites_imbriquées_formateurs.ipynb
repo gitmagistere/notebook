{
  "metadata": {
    "kernelspec": {
      "display_name": "Python 3.6",
      "name": "python36",
      "language": "python"
    },
    "language_info": {
      "mimetype": "text/x-python",
      "nbconvert_exporter": "python",
      "name": "python",
      "pygments_lexer": "ipython3",
      "version": "3.6.6",
      "file_extension": ".py",
      "codemirror_mode": {
        "version": 3,
        "name": "ipython"
      }
    }
  },
  "nbformat_minor": 2,
  "nbformat": 4,
  "cells": [
    {
      "cell_type": "markdown",
      "source": "**Séquence 3** </br>\nL'objectif de cette activité est, entre autres, de mettre en évidence un des intérêts de la notion de fonction : décomposer un problème en sous-problèmes plus simples à résoudre.\nOn considère une suite de points $A_n(x_n;y_n)$  dont les coordonnées sont définies par \n$x_0= 0 $ et $y_0 =1$  ,   et  pour tout entier naturel n :\n$$x_{n+1}= \\frac{x_n+y_n}{2} $$  $$y_{n+1} =\\frac{x_n+2y_n}{3}$$.\n\nEn admettant que la suite de points $A_n(x_n;y_n)$  converge vers le point de coordonnées $A(\\frac{3}{5};\\frac{3}{5})$  , écrire une fonction sous Python qui renvoie le plus petit rang $n$  à partir duquel les points $A_n(x_n;y_n)$   se situent à une distance inférieure à une précision qui sera passée en argument.</br>\n\nIl vous faudra créer des fonctions intermédiaires.</br>\n\nPossibilité de réfléchir à une production d’activité-élève « orientée» différenciation pédagogique:\n- les objectifs de cette activité, \n- analyse à priori,\n- les notions du programme développées (connaissances, capacités), \n- les critères de réussite, \n- les méta-compétences développées, \n- le contexte (notions algorithmiques déjà travaillées), \n- l’organisation/scénarisation de la séance, \n- le type d’interface utilisée (support), \n- le type de rendu attendu, \n- un travail de groupe ou individuel,  \n- …\n\n",
      "metadata": {}
    },
    {
      "cell_type": "code",
      "source": "### Une solution envisagée ###\n\n\nfrom math import *\nimport matplotlib.pyplot as plt\n\ndef point(L):\n    \"\"\"\n    renvoie les coordonnées du point suivant \n    \"\"\"\n    L[0],L[1]=(L[0]+L[1])/2,(L[0]+2*L[1])/3\n    return L\n\ndef distance(L1,L2):\n    \"\"\"\n    prend en arguments deux listes de deux nombres et renvoie leur distance\n    \"\"\"\n    return (sqrt(pow(L2[0]-L1[0],2)+pow(L2[1]-L1[1],2)))\n\ndef seuil(L,p):\n    \"\"\"\n    renvoie le nombre d'itérations nécessaires afin d'obtenir la précision souhaitée\n    \"\"\"\n    n=0\n    while distance(L,[0.6,0.6])>p:\n        L=point(L)\n        n=n+1\n    return n\n\n\n\n",
      "metadata": {
        "trusted": true
      },
      "execution_count": null,
      "outputs": []
    },
    {
      "cell_type": "markdown",
      "source": "**Pour aller plus loin**</br>\nUtiliser la bibliothèque matplotlib.pyplot pour représenter une suite de points\n",
      "metadata": {}
    },
    {
      "cell_type": "code",
      "source": "from math import *\nimport matplotlib.pyplot as plt\ndef graph(L,n):\n    x=[0]\n    y=[1]\n    for i in range(n):\n        x.append(point(L)[0])\n        y.append(point(L)[1])\n        L=point(L)\n    return(x,y)\nplt.axis([0,1,0,1])\nplt.grid()\nx=graph([0,1],20)[0]\ny=graph([0,1],20)[1]\nplt.plot(x,y,'r.')\nplt.show()",
      "metadata": {
        "trusted": true
      },
      "execution_count": null,
      "outputs": []
    }
  ]
}