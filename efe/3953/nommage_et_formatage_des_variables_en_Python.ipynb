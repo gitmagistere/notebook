{
 "cells": [
  {
   "cell_type": "markdown",
   "metadata": {},
   "source": [
    "# Formatage du code"
   ]
  },
  {
   "cell_type": "markdown",
   "metadata": {},
   "source": [
    "## 1 - Formatage des variables\n",
    "Il existe de plus un guide pour le formatage correct des variables, le PEP8 qui recommande d'écrire :\n",
    "\n",
    "- le nom des classes en CamelCase (peu utile dans le cadre du cours de mathématiques, non abordé ici)\n",
    "- le nom des **constantes** en UPPER_CASE (MAJUSCULES)\n",
    "- le nom des **modules**, des **variables** et des **fonctions** en snake_case (mots en minuscule séparés par des *underscore* \"``_``\") "
   ]
  },
  {
   "cell_type": "markdown",
   "metadata": {},
   "source": [
    "### Pour les boucles et les indices : une lettre seule, en minuscule"
   ]
  },
  {
   "cell_type": "code",
   "execution_count": null,
   "metadata": {},
   "outputs": [],
   "source": [
    "#Exemple :\n",
    "for x in range(10):\n",
    "    print(x)\n",
    "\n",
    "print() \n",
    "\n",
    "phrase = \"Algorithmique en mathématiques\"\n",
    "i = phrase.find('r') + 65 # find('r') retourne le plus petit index correspondant à la chaîne \"r\" (-1 si pas trouvé)\n",
    "print(chr(i)) # chr(i) retourne le caractère ASCII correspondant au nombre 'i'"
   ]
  },
  {
   "cell_type": "markdown",
   "metadata": {},
   "source": [
    "### Pour les modules, variables et fonctions : lettres minuscules + underscores"
   ]
  },
  {
   "cell_type": "code",
   "execution_count": null,
   "metadata": {},
   "outputs": [],
   "source": [
    "from math import *\n",
    "\n",
    "une_variable = 10\n",
    " \n",
    "def une_fonction():\n",
    "    return None"
   ]
  },
  {
   "cell_type": "markdown",
   "metadata": {},
   "source": [
    "### Pour les constantes : Lettres majuscules + underscores"
   ]
  },
  {
   "cell_type": "code",
   "execution_count": 20,
   "metadata": {},
   "outputs": [],
   "source": [
    "MAX_SIZE = 100000  # à mettre après les imports"
   ]
  },
  {
   "cell_type": "markdown",
   "metadata": {},
   "source": [
    "### ATTENTION\n",
    "- En Python, les noms de variables, fonctions et modules doivent toujours commencer par une lettre ;\n",
    "- Les minuscules et majuscules (la casse) sont prises en compte ;\n",
    "- Certains mots sont interdits, car réservés à Python : ``and`` -``def`` -``del`` -``elif`` -``else`` -``for`` -``from`` -``global`` -``if`` -``import`` -``return`` –``while``...\n"
   ]
  },
  {
   "cell_type": "markdown",
   "metadata": {},
   "source": [
    "## 2 - Nommage des variables\n",
    "\n",
    "Utiliser des bons noms est le geste de documentation le plus important d’un code.\n",
    "\n",
    "Prenons l'exemple :"
   ]
  },
  {
   "cell_type": "code",
   "execution_count": null,
   "metadata": {},
   "outputs": [],
   "source": [
    "def f(a,b,c,d):\n",
    "    l = [c]\n",
    "    for i in range(a,b):\n",
    "        l.append(l[i-a]*d)\n",
    "    return l"
   ]
  },
  {
   "cell_type": "markdown",
   "metadata": {},
   "source": [
    "Quand on lit cette fonction, on se demande :\n",
    "\n",
    "- f est une fonction avec 4 arguments : à quoi correspondent-ils ? que fait la fonction f ?\n",
    "- l est une liste mais que contient-elle ? \n",
    "\n",
    "Maintenant, observons cette même fonction avec des nomes de variables/fonction plus explicites :"
   ]
  },
  {
   "cell_type": "code",
   "execution_count": 27,
   "metadata": {},
   "outputs": [],
   "source": [
    "def suite_geometrique(debut,fin,u_0,raison):\n",
    "    suite = [u_0]\n",
    "    for i in range(debut,fin):\n",
    "        suite.append(suite[i-debut]*raison)\n",
    "    return suite"
   ]
  },
  {
   "cell_type": "markdown",
   "metadata": {},
   "source": [
    "On comprend tout de suite de quoi il est question. L’algo n’a pas changé, seul le nommage a changé.\n",
    "\n",
    "Cet effort de bien nommer les variables/fonctions peut être bien sûr accompagné d'ajout de commentaires facilitant la compréhension du programme. Mais le \"bon nommage\" est prioritaire."
   ]
  },
  {
   "cell_type": "markdown",
   "metadata": {},
   "source": [
    "## 3 - Les espaces"
   ]
  },
  {
   "cell_type": "markdown",
   "metadata": {},
   "source": [
    "### Autour des opérateurs\n",
    "On préconise, pour une meilleure lisibilité, d'entourer les opérateurs par des espaces."
   ]
  },
  {
   "cell_type": "code",
   "execution_count": 21,
   "metadata": {},
   "outputs": [],
   "source": [
    "# Exemple d'espaces entre opérateurs \n",
    "ma_variable = 10\n",
    "MAX_SIZE == 10000\n",
    "a = 1 + 2"
   ]
  },
  {
   "cell_type": "markdown",
   "metadata": {},
   "source": [
    "**Exception**\n",
    "\n",
    "Dans certains calculs mathématiques, il est parfois plus visible de ne pas mettre d'espace pour indiquer les priorités de certains calculs :"
   ]
  },
  {
   "cell_type": "code",
   "execution_count": 23,
   "metadata": {},
   "outputs": [],
   "source": [
    "## Premiers exemples\n",
    "a = x*x - 1\n",
    "b = x**2 + 2*x\n",
    "## Autre exemple possible \n",
    "c = (a+b) * (a-b)"
   ]
  },
  {
   "cell_type": "markdown",
   "metadata": {},
   "source": [
    "### Dans les parentèses et crochets\n",
    "On ne met pas d’espace à l’intérieur des parenthèses et des crochets."
   ]
  },
  {
   "cell_type": "code",
   "execution_count": 25,
   "metadata": {},
   "outputs": [],
   "source": [
    "2 * (3 + 4)\n",
    " \n",
    "def fonction(x='a'):\n",
    "    print(x)\n",
    "    return None\n",
    " \n",
    "liste = ['a', 'b', 'c']"
   ]
  },
  {
   "cell_type": "code",
   "execution_count": null,
   "metadata": {},
   "outputs": [],
   "source": []
  },
  {
   "cell_type": "code",
   "execution_count": null,
   "metadata": {},
   "outputs": [],
   "source": []
  }
 ],
 "metadata": {
  "kernelspec": {
   "display_name": "Python 3",
   "language": "python",
   "name": "python3"
  },
  "language_info": {
   "codemirror_mode": {
    "name": "ipython",
    "version": 3
   },
   "file_extension": ".py",
   "mimetype": "text/x-python",
   "name": "python",
   "nbconvert_exporter": "python",
   "pygments_lexer": "ipython3",
   "version": "3.8.3"
  }
 },
 "nbformat": 4,
 "nbformat_minor": 4
}
