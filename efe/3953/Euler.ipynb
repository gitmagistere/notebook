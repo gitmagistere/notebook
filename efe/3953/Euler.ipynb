{
  "metadata": {
    "language_info": {
      "mimetype": "text/x-python",
      "nbconvert_exporter": "python",
      "name": "python",
      "pygments_lexer": "ipython3",
      "version": "3.6.6",
      "file_extension": ".py",
      "codemirror_mode": {
        "version": 3,
        "name": "ipython"
      }
    },
    "kernelspec": {
      "name": "python36",
      "display_name": "Python 3.6",
      "language": "python"
    }
  },
  "nbformat_minor": 2,
  "nbformat": 4,
  "cells": [
    {
      "cell_type": "markdown",
      "source": "**La fonction logarithme népérien**</br>\nCréation d'une fonction permettant d'obtenir l'image d'un nombre par la primitive de la fonction inverse s'annulant en 1 et définie sur l'ensemble des réels strictement positifs</br>\nL'algorithme s'appuie sur la méthode d'Euler.",
      "metadata": {}
    },
    {
      "cell_type": "code",
      "source": "from math import *\nimport matplotlib.pyplot as plt\n\ndef prim(a,n):\n    assert a>0\n    x=1\n    y=0\n    h=(a-1)/n\n    for i in range(n):\n        y=y+h*1/x\n        x=x+h\n    return y",
      "metadata": {
        "trusted": true
      },
      "execution_count": null,
      "outputs": []
    },
    {
      "cell_type": "markdown",
      "source": "**Proposition 1** </br>Création d'une fonction permettant l'affichage de la fonction ln sur un intervalle souhaité",
      "metadata": {}
    },
    {
      "cell_type": "code",
      "source": "def euler1(a,n):\n     assert a>0\n     x=1\n     y=0\n     h=(a-1)/n\n     for i in range(n):\n         y=y+h*1/x\n         x=x+h\n         plt.plot(x,y,'b.')\neuler1(2,100)\neuler1(0.5,100)\nplt.grid()\nplt.show()",
      "metadata": {
        "trusted": true
      },
      "execution_count": null,
      "outputs": []
    },
    {
      "cell_type": "markdown",
      "source": "**Proposition 2** </br>\nCréation d'une fonction permettant l'affichage de la fonction ln sur un intervalle souhaité",
      "metadata": {}
    },
    {
      "cell_type": "code",
      "source": "from math import *\nimport matplotlib.pyplot as plt\ndef euler2(a,n):\n    h = (a-1)/n\n    abscisse = [1]\n    ordonnee = [0]\n    x = 1\n    y = 0\n    for i in range(n):\n        y = y + h*1/x\n        x = x + h\n        abscisse.append(x)\n        ordonnee.append(y)\n    return (abscisse,ordonnee)\n\nplt.axis([0,2,-10,1])\nplt.grid()\nX,Y=euler2(2,100)\nplt.plot(X,Y,'b')\nX,Y=euler2(0.005,1000)\nplt.plot(X,Y,'b')\nplt.show()",
      "metadata": {
        "trusted": true
      },
      "execution_count": null,
      "outputs": []
    }
  ]
}