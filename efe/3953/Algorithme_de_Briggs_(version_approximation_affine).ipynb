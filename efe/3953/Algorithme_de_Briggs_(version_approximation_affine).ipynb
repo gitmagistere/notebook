{
 "cells": [
  {
   "cell_type": "markdown",
   "metadata": {},
   "source": [
    "### Algorithme de Briggs\n",
    "#### Idée de l'algorithme\n",
    "L'objectif est de déterminer, pour 𝑥 > 0, une valeur approchée de ln (𝑥).\n",
    "\n",
    "Pour cela, on crée la suite $(𝑢_𝑛)_{n\\in\\mathbb{N}}$ définie par $𝑢_0$ = 𝑥 et telle que pour tout entier naturel 𝑛, $𝑢_{𝑛+1} = \\sqrt{𝑢_𝑛} $ <br>\n",
    "Il est possible de présenter une activité-élève où l'on propose de prouver :\n",
    "1. par récurrence que la suite $(𝑢_𝑛)_{n\\in\\mathbb{N}}$ est par exemple décroissante et minorée (dans le cas où 𝑥 > 1)  ;\n",
    "2. qu'elle est convergente; \n",
    "3. que sa limite est égale à 1;\n",
    "4. que $t-1$ est une approximation affine de ln(t) lorsque t est proche de 1. \n",
    "\n",
    "Ainsi, à partir d’un certain rang, $𝑢_𝑛$ est suffisamment proche de 1 et donc $\\ln(𝑢_𝑛\n",
    ") ≃ 𝑢_𝑛 − 1$. <br>\n",
    "Or, $𝑢_𝑛=x^\\frac{1}{2^n}$ donc $\\ln(x) ≃ {2^n}(𝑢_𝑛 − 1)$\n"
   ]
  },
  {
   "cell_type": "markdown",
   "metadata": {},
   "source": [
    "##### Exercice \n",
    "On souhaite écrire une fonction qui prend en paramètre un réel 𝑥 > 0 et renvoie une valeur approchée de $\\ln(x)$. <br>\n",
    "D'après l'introduction, $𝑢_𝑛$ doit être suffisamment proche de 1. <br>\n",
    "On souhaite par exemple que 0,9999 < $U_n$ < 1,0001.\n",
    "\n",
    "1. Compléter le script ci-dessous afin de répondre aux conditions.\n",
    "2. Comment faire pour obtenir une valeur approchée de $\\ln(2)$ ?\n"
   ]
  },
  {
   "cell_type": "code",
   "execution_count": null,
   "metadata": {},
   "outputs": [],
   "source": [
    "from math import *\n",
    "def ln(x):\n",
    "    assert x>0\n",
    "    n = 0\n",
    "    while .....................:\n",
    "        .......................\n",
    "        .......................\n",
    "    return 2**n*(x-1)"
   ]
  },
  {
   "cell_type": "markdown",
   "metadata": {},
   "source": [
    "**Questions pour les enseignants**\n",
    "1. Quelles compétences algorithmiques testent-on dans cet exercice ?\n",
    "2. Quels conseils pourrait-on donner aux élèves afin de mieux s'approprier l'algorithme ?\n"
   ]
  }
 ],
 "metadata": {
  "kernelspec": {
   "display_name": "Python 3",
   "language": "python",
   "name": "python3"
  },
  "language_info": {
   "codemirror_mode": {
    "name": "ipython",
    "version": 3
   },
   "file_extension": ".py",
   "mimetype": "text/x-python",
   "name": "python",
   "nbconvert_exporter": "python",
   "pygments_lexer": "ipython3",
   "version": "3.8.3"
  }
 },
 "nbformat": 4,
 "nbformat_minor": 4
}
