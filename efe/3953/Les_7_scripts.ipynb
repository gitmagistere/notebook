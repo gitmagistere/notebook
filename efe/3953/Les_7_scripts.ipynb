{
  "nbformat": 4,
  "nbformat_minor": 0,
  "metadata": {
    "colab": {
      "name": "Les 7 scripts.ipynb",
      "provenance": []
    },
    "kernelspec": {
      "name": "python3",
      "display_name": "Python 3"
    }
  },
  "cells": [
    {
      "cell_type": "markdown",
      "metadata": {
        "id": "rUl0KmCS_-dT",
        "colab_type": "text"
      },
      "source": [
        "**Algo1**: Limite 'une suite géométrique de raison positive et différente de 1\n"
      ]
    },
    {
      "cell_type": "code",
      "metadata": {
        "id": "1sejOAq5-VlW",
        "colab_type": "code",
        "colab": {
          "base_uri": "https://localhost:8080/",
          "height": 36
        },
        "outputId": "38bc8d13-7ab7-443d-bfed-3db9f133f8b7"
      },
      "source": [
        "def LimiteSuiteGeometrique(terme0,raison):\n",
        "  assert raison>0 and raison!=1\n",
        "  if terme0>0 and raison>1:\n",
        "    print('+ inf')\n",
        "  elif terme0<0 and raison>1 :\n",
        "    print('- inf')\n",
        "  else :\n",
        "    print(' la limite est 0')\n",
        "\n",
        "LimiteSuiteGeometrique(-2,0.3)"
      ],
      "execution_count": null,
      "outputs": [
        {
          "output_type": "stream",
          "text": [
            " la limite est 0\n"
          ],
          "name": "stdout"
        }
      ]
    },
    {
      "cell_type": "markdown",
      "metadata": {
        "id": "GxQTA_Ml7nT-",
        "colab_type": "text"
      },
      "source": [
        "Algorithme de seuil : cas des suites géométriques\n",
        "\n",
        "---\n",
        "\n"
      ]
    },
    {
      "cell_type": "code",
      "metadata": {
        "id": "4wuDN5Cl7iAD",
        "colab_type": "code",
        "colab": {}
      },
      "source": [
        "def mu(terme,raison,seuil):\n",
        "    assert terme>0 and raison>0 and raison!=1\n",
        "    n = 0\n",
        "    if raison>1:\n",
        "        while terme<seuil:\n",
        "            n += 1\n",
        "            terme *= raison\n",
        "    if raison<1:\n",
        "        while terme>seuil:\n",
        "            n += 1\n",
        "            terme *= raison\n",
        "    return n"
      ],
      "execution_count": null,
      "outputs": []
    },
    {
      "cell_type": "markdown",
      "metadata": {
        "id": "hxoQkRKo8v-t",
        "colab_type": "text"
      },
      "source": [
        "Valeur approchée de $\\pi$ : Méthode de Viète"
      ]
    },
    {
      "cell_type": "code",
      "metadata": {
        "id": "q3-hErZ785Qf",
        "colab_type": "code",
        "colab": {
          "base_uri": "https://localhost:8080/",
          "height": 36
        },
        "outputId": "c307e6a2-24f6-4ae5-f045-d431cb651098"
      },
      "source": [
        "def viete(n):\n",
        "  c,p = 0,1\n",
        "  for k in range(n):\n",
        "    c += 1\n",
        "    c /= 2\n",
        "    c = c**0.5\n",
        "    p *= c\n",
        "  return 2/p\n",
        "\n",
        "viete(10)"
      ],
      "execution_count": null,
      "outputs": [
        {
          "output_type": "execute_result",
          "data": {
            "text/plain": [
              "3.1415914215111997"
            ]
          },
          "metadata": {
            "tags": []
          },
          "execution_count": 9
        }
      ]
    },
    {
      "cell_type": "markdown",
      "metadata": {
        "id": "v-UW94bI-eu_",
        "colab_type": "text"
      },
      "source": [
        "Valeur approchée de $\\pi$ : Méthode d'Archimède"
      ]
    },
    {
      "cell_type": "code",
      "metadata": {
        "id": "a95eqh9c-fkQ",
        "colab_type": "code",
        "colab": {
          "base_uri": "https://localhost:8080/",
          "height": 222
        },
        "outputId": "965c05d2-afb1-461b-e69e-d4fe756da06c"
      },
      "source": [
        "from math import *\n",
        "\n",
        "def archimede(n):\n",
        "    a = 3\n",
        "    b = 6/sqrt(3)\n",
        "    p = [(a+b)/2]\n",
        "    for k in range(n):\n",
        "        b *= a/p[-1]\n",
        "        a = sqrt(a*b)\n",
        "        p.append((a+b)/2)\n",
        "    return p\n",
        "archimede(10)"
      ],
      "execution_count": null,
      "outputs": [
        {
          "output_type": "execute_result",
          "data": {
            "text/plain": [
              "[3.2320508075688776,\n",
              " 3.160609425201861,\n",
              " 3.1461442776893693,\n",
              " 3.142718209089151,\n",
              " 3.1418732752679386,\n",
              " 3.1416627611326424,\n",
              " 3.1416101774843526,\n",
              " 3.1415970343765034,\n",
              " 3.1415937487747874,\n",
              " 3.1415929273853114,\n",
              " 3.1415927220386273]"
            ]
          },
          "metadata": {
            "tags": []
          },
          "execution_count": 14
        }
      ]
    },
    {
      "cell_type": "markdown",
      "metadata": {
        "id": "96shVaiH_OrB",
        "colab_type": "text"
      },
      "source": [
        "# Méthode résolution équation par dichotomie\n",
        "\n",
        "Dans les sujets de bac, le test porte sur le signe de f(a)×f(m) (m étant la moyenne des bornes a et b de l’intervalle). Cela permet de savoir si f(a) et f(m) sont, ou non, du même signe, sans présumer du sens de variation de f. Mais c’est un peu compliqué alors ici on va écrire un algorithme de dichotomie pour une fonction croissante "
      ]
    },
    {
      "cell_type": "code",
      "metadata": {
        "id": "8JJpKzEb_Qfh",
        "colab_type": "code",
        "colab": {}
      },
      "source": [
        "def zpd(f,a,b):\n",
        "    assert a<b and f(a)<0 and f(b)>0\n",
        "    while b-a>1e-6:\n",
        "        m=(a+b)/2\n",
        "        if f(m)<0:\n",
        "            a = m\n",
        "        else:\n",
        "            b = m\n",
        "    return (a+b)/2"
      ],
      "execution_count": null,
      "outputs": []
    },
    {
      "cell_type": "markdown",
      "metadata": {
        "id": "TZgSbPrJ_t3B",
        "colab_type": "text"
      },
      "source": [
        "# Méthode résolution équation méthode de Newton\n",
        "zpn(f,exp,0) donne 0.6931471805600254. La fonction zpn a été nommée ainsi (zéro par Newton) en hommage à Isaac Newton qui a publié la méthode en 1671. L’idée est la suivante : Si on ne sait pas calculer l’abscisse du point d’intersection de la courbe avec l’axe des abscisses, on remplace la courbe par sa tangente ce qui, si celle-ci est suffisamment pentue, donne une meilleure approximation de la solution ; puis on recommence ...\n",
        "\n",
        "L’inconvénient de la méthode de Newton est qu’elle nécessite de connaître (savoir calculer) la dérivée fprime de f. Avec l’exemple choisi on sait que la dérivée de ex-2 est ex et de fait dans l’appel à zpn on a remplacé fprime par exp. Mais si on essaye de calculer numériquement la dérivée, on risque de perdre en précision."
      ]
    },
    {
      "cell_type": "code",
      "metadata": {
        "id": "p1UHKkwz_uGV",
        "colab_type": "code",
        "colab": {}
      },
      "source": [
        "def f(x):\n",
        "    return x**2-5*x+6\n",
        "    \n",
        "def fprime(x):\n",
        "    return 2*x-5\n",
        "\n",
        "def zpn(f,fprime,a):\n",
        "    for k in range(10):\n",
        "        a = a-f(a)/fprime(a)\n",
        "    return a"
      ],
      "execution_count": null,
      "outputs": []
    },
    {
      "cell_type": "markdown",
      "metadata": {
        "id": "R2jpBvRVBLBp",
        "colab_type": "text"
      },
      "source": [
        "## ALGO 3 : Algorithme de Briggs pour le calcul du logarithme \n",
        "Il est dû à John Briggs qui est allé le présenter à John Napier vers le début du 17e siècle. L’idée est plutôt simple : Quelle que soit la valeur de $u_0=x$, la suite $u_{n+1}=\\sqrt{(u_n)}$ tend vers 1 donc il arrive un moment, tôt ou tard, où $\\ln(u_n)≈u_{n}-1$. Et comme chaque extraction de racine dans le domaine des exponentielles équivaut à une division par 2 dans le domaine des logarithmes, il suffit de compter les extractions de racines avant de soustraire 1, puis de multiplier par 2 autant de fois qu’on a extrait une racine."
      ]
    },
    {
      "cell_type": "code",
      "metadata": {
        "id": "QF4SE2nXBLTD",
        "colab_type": "code",
        "colab": {
          "base_uri": "https://localhost:8080/",
          "height": 35
        },
        "outputId": "19d6c2d9-8551-48cc-b4b6-5254a5bc53a5"
      },
      "source": [
        "def ln(x):\n",
        "    assert x>0\n",
        "    n = 0\n",
        "    while not(0.999<x<1.001):\n",
        "        x **= 0.5\n",
        "        n += 1\n",
        "    return (x-1)*2**n\n",
        "\n",
        "ln(2)"
      ],
      "execution_count": null,
      "outputs": [
        {
          "output_type": "execute_result",
          "data": {
            "text/plain": [
              "0.6931474097073078"
            ]
          },
          "metadata": {
            "tags": []
          },
          "execution_count": 4
        }
      ]
    },
    {
      "cell_type": "markdown",
      "metadata": {
        "id": "3muLo1SnCdCp",
        "colab_type": "text"
      },
      "source": [
        "#ALGO 2 Résolution équation différentielle par la méthode d'Euler\n",
        "Pour résoudre l’équation différentielle y’=ay+b par la méthode d’Euler, on va là encore approcher f(x+dx) par f(x)+f’(x)×dx soit, ici, f(x)+(a×f(x)+b )×dx ; cela donne la suite récurrente yn+1=yn+(a×yn+b)×dx. \\\\\n",
        "Ce script généralise celui vu en 1ère : Avec équadiff(1,0,1) on a une approximation de l’exponentielle sur [0 ;1] puisque l’équation différentielle se ramène à y’=y."
      ]
    },
    {
      "cell_type": "code",
      "metadata": {
        "id": "9f3WrpoHCcaD",
        "colab_type": "code",
        "colab": {}
      },
      "source": [
        "def equadiff(a,b,x):\n",
        "    dx = 1e-6\n",
        "    y = 1      # condition initiale\n",
        "    u = [y]\n",
        "    for k in range(int(x/dx)+1):\n",
        "        y += (a*y+b)*dx\n",
        "        u.append(y)\n",
        "    return u"
      ],
      "execution_count": null,
      "outputs": []
    },
    {
      "cell_type": "markdown",
      "metadata": {
        "id": "RyvKctcfDGCx",
        "colab_type": "text"
      },
      "source": [
        "# Méthode des rectangles\n",
        "Comme d’habitude, pour calculer la somme des f(x)×dx, on initialise la variable S à 0 pour y additionner au fur et à mesure les valeurs de f(x)×dx. Comme f(x) est la hauteur d’un rectangle de largeur dx, f(x)×dx est l’aire de ce rectangle et la somme obtenue est l’aire totale des rectangles constituant un histogramme qui approche l’intégrale. D’où le nom de méthode des rectangles :\n",
        "\n"
      ]
    },
    {
      "cell_type": "code",
      "metadata": {
        "id": "YplABvs_DFfk",
        "colab_type": "code",
        "colab": {}
      },
      "source": [
        "def rectangles(f,a,b):\n",
        "    dx = 1e-7\n",
        "    x = a\n",
        "    S = 0\n",
        "    while x<=b:\n",
        "        S += f(x)*dx\n",
        "        x += dx\n",
        "    return S"
      ],
      "execution_count": null,
      "outputs": []
    },
    {
      "cell_type": "markdown",
      "metadata": {
        "id": "8k5BlnIbDsoY",
        "colab_type": "text"
      },
      "source": [
        "Avec rectangles(inverse,1,2)) on calcule une valeur approchée de l’intégrale de 1/x entre 1 et 2, soit ln(2) : 0.6931472054471943.\n",
        "\n",
        "En fait cette méthode est celle des rectangles à gauche. On peut lui substituer une méthode des rectangles à droite en échangeant deux lignes :"
      ]
    },
    {
      "cell_type": "code",
      "metadata": {
        "id": "n5O2o6t-Dv4M",
        "colab_type": "code",
        "colab": {}
      },
      "source": [
        "def rectangles(f,a,b):\n",
        "    dx = 1e-7\n",
        "    x = a\n",
        "    S = 0\n",
        "    while x<=b:\n",
        "        x += dx\n",
        "        S += f(x)*dx\n",
        "    return S"
      ],
      "execution_count": null,
      "outputs": []
    },
    {
      "cell_type": "markdown",
      "metadata": {
        "id": "VmGX8v4DEKwE",
        "colab_type": "text"
      },
      "source": [
        "On obtient alors 0.6931471554471943 comme valeur approchée de ln(2). Cette valeur est plus petite que celle donnée par les rectangles à gauche parce que, comme la fonction inverse est décroissante, les rectangles à droite sont plus petits que les rectangles à gauche. On obtient donc un encadrement de ln(2). Pour avoir une meilleure valeur approchée, pourquoi pas prendre la moyenne des deux valeurs ? On remplacerait alors l’aire d’un rectangle par la moyenne entre les aires du petit rectangle et du grand rectangle, laquelle se trouve coïncider avec l’aire du trapèze dont les sommets ont pour coordonnées respectives (x,f(x)), (x,0), (x+dx,0) et (x+dx,f(x+dx))."
      ]
    },
    {
      "cell_type": "markdown",
      "metadata": {
        "id": "NcCm1J-3GjnM",
        "colab_type": "text"
      },
      "source": [
        "# Méthode de Monte-Carlo : estimation de l’aire sous la parabole, estimation du nombre $\\pi$\n",
        "\n",
        "Stanislaw Ulam a déjà été cité plus haut, à propos de la suite de Collatz. Travaillant sur le projet Manhattan, qui, comme son nom l’indique, se déroulait à Los Alamos, il a vite découvert l’efficacité de la simulation par le hasard pour résoudre des équations différentielles : C’est la méthode de Monte-Carlo, ainsi appelée parce que pendant la guerre aux USA Monte-Carlo passait pour la capitale des casinos.\n",
        "\n",
        "Comme nous sommes en temps de paix, on va se contenter ici, de jouer au paintball. Mais c’est un paintball très spécial, puisque la couleur de la peinture ne se décide qu’au moment où elle touche la cible : Le point de peinture devient rouge s’il est proche de (0,0) et bleu sinon. L’estimation de π/4 se fera en comptant les points rouges du nuage, ou plus précisément leur fréquence.\n",
        "\n",
        "Et l’intérêt essentiel de cette modélisation étant la possibilité de voir les points de peinture, on va utiliser le module kandinsky de la NumWorks. On définit les couleurs rouge et bleu et on définit deux fonctions dessinant chacune un point dans sa couleur, à partir de x et y qui sont réels compris entre 0 et 1 :\n"
      ]
    },
    {
      "cell_type": "code",
      "metadata": {
        "id": "IdxVYPp8Gqa7",
        "colab_type": "code",
        "colab": {}
      },
      "source": [
        "from kandinsky import *\n",
        "rouge = color(255,0,0)\n",
        "bleu = color(0,0,255)\n",
        "def point_rouge(x,y):\n",
        "    set_pixel(int(200*x),int(200-200*y),rouge)\n",
        "def point_bleu(x,y):\n",
        "    set_pixel(int(200*x),int(200-200*y),bleu)"
      ],
      "execution_count": null,
      "outputs": []
    }
  ]
}