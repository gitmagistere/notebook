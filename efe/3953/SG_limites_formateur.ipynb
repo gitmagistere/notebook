{
  "nbformat": 4,
  "nbformat_minor": 0,
  "metadata": {
    "colab": {
      "name": "SG_limites_formateur.ipynb",
      "provenance": [],
      "collapsed_sections": []
    },
    "kernelspec": {
      "name": "python3",
      "display_name": "Python 3"
    }
  },
  "cells": [
    {
      "cell_type": "markdown",
      "metadata": {
        "id": "ROnDP6IGpeKj",
        "colab_type": "text"
      },
      "source": [
        "**Algorithme autour de la notion de limites de suites géométriques**"
      ]
    },
    {
      "cell_type": "markdown",
      "metadata": {
        "id": "CwX1mpIIsMLl",
        "colab_type": "text"
      },
      "source": [
        "Vous trouverez ci-dessous, une activité à destination des élèves.</br>\n",
        "Après l'avoir testée et vous l'être appropriée :\n",
        "*   relever le(s) objectifs de cette activité\n",
        "*   noter le(s) intérêts pédagogiques\n",
        "*   proposer un élément de différenciation pédagogique \n",
        "\n",
        "\n",
        "\n"
      ]
    },
    {
      "cell_type": "markdown",
      "metadata": {
        "id": "czLuSWZKubok",
        "colab_type": "text"
      },
      "source": [
        "**Activité élève**</br>\n",
        "\n",
        "\n",
        "1.   Après avoir lu le script ci-dessous, préciser ce que renvoie lim(-3,0.5).\n",
        "2.   Quel est le rôle de la ligne 7 ?\n",
        "3.   Que se passe-t-il lorsque l'on exécute la cellule 4 ? Exécuter la cellule et commenter.\n",
        "4.   Que permet la méthode assert ? \n",
        "\n",
        "\n",
        "\n"
      ]
    },
    {
      "cell_type": "code",
      "metadata": {
        "id": "6BZfa0mhpc8Y",
        "colab_type": "code",
        "colab": {}
      },
      "source": [
        "def lim(terme0,raison):\n",
        "  assert raison>0 and raison!=1\n",
        "  if terme0>0 and raison>1:\n",
        "    return('+ inf')\n",
        "  elif terme0<0 and raison>1 :\n",
        "    return('- inf')\n",
        "  else :\n",
        "    return(' la limite est 0')\n"
      ],
      "execution_count": 2,
      "outputs": []
    },
    {
      "cell_type": "markdown",
      "metadata": {
        "id": "PPN_-8D3p7is",
        "colab_type": "text"
      },
      "source": [
        "**Appel de la fonction**"
      ]
    },
    {
      "cell_type": "code",
      "metadata": {
        "id": "P4qFaMQmpz5U",
        "colab_type": "code",
        "colab": {}
      },
      "source": [
        "lim(-2,3)"
      ],
      "execution_count": null,
      "outputs": []
    },
    {
      "cell_type": "markdown",
      "metadata": {
        "id": "ON5qBstUr_x5",
        "colab_type": "text"
      },
      "source": [
        "**Algorithme où l'on traite tous les cas possibles**"
      ]
    },
    {
      "cell_type": "code",
      "metadata": {
        "id": "MBSS_zH2q5kl",
        "colab_type": "code",
        "colab": {}
      },
      "source": [
        "def lim(terme0,raison):\n",
        "  if raison==1:\n",
        "    return(terme0)\n",
        "  elif terme0>0 and raison>1:\n",
        "    return('+ inf')\n",
        "  elif terme0<0 and raison>1 :\n",
        "    return('- inf')\n",
        "  elif abs(raison)<1 :\n",
        "    return(' la limite est 0')\n",
        "  else:\n",
        "    return(\"la suite n'a pas de limite\")"
      ],
      "execution_count": 5,
      "outputs": []
    }
  ]
}