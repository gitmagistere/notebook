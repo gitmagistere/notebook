{
 "cells": [
  {
   "cell_type": "markdown",
   "metadata": {},
   "source": [
    "# Les répétitions"
   ]
  },
  {
   "cell_type": "markdown",
   "metadata": {},
   "source": [
    "### <u> La boucle While (Tant que : boucle non bornée – je ne connais pas au départ le nombre d'itérations à faire)</u>\n",
    "\n",
    "Le principe de la boucle while, c’est d’exécuter un bloc d’instructions tant que une condition donnée est vraie.\n",
    "~~~ python\n",
    "while expression:\n",
    "        instruction1\n",
    "        instruction2\n",
    "suite programme\n",
    "~~~\n",
    "Tant que l'expression s'évalue à **<span style=\"color: green\">True</span>** (Vrai), les instructions à l'intérieur du bloc (partie indentée) seront exécutées. Pour éviter que le programme tourne indéfiniment, il est préférable d'utiliser un compteur, c’est-à-dire une variable (qu’il ne faut pas oublier d’initialiser) et incrémentée de 1 dans le bloc d’instructions. "
   ]
  },
  {
   "cell_type": "markdown",
   "metadata": {},
   "source": [
    "#### Exemple \n",
    "Obversez le code suivant et, avant d'exécuter la cellule, répondez aux questions suivantes :\n",
    "- Quelle est la comparaison effectuée ?\n",
    "- Quels sont les l'affichages attendus après l'exécution de cette fonction ?\n",
    "- Quelle(s) ligne(s) permet(tent) de saisir le mot de passe ?\n",
    "- A quelle valeur doit-il correspondre pour que le mot de passe saisi soit correct ?\n",
    "\n",
    "Vérifie tes réponses en exécutant la cellule"
   ]
  },
  {
   "cell_type": "code",
   "execution_count": null,
   "metadata": {
    "collapsed": true
   },
   "outputs": [],
   "source": [
    "texte= input(\"Entrer le mot de passe\")\n",
    "while texte != \"password\":\n",
    "    print(\"le mot de passe est faux\")\n",
    "    texte= input(\"Entrer le mot de passe\")\n",
    "print(\"le mot de passe est correct\")"
   ]
  },
  {
   "cell_type": "markdown",
   "metadata": {},
   "source": [
    "## <u>Problème : la Guerre des Boutons</u>"
   ]
  },
  {
   "cell_type": "markdown",
   "metadata": {},
   "source": [
    "Dans le film \"La Guerre Des Boutons\", Petit Gibus chante une chanson sans fin :  \n",
    "\n",
    ">**« Mon pantalon est décousu, si ça continue, on verra le trou d’... »** \n",
    "\n",
    "<img src=\"https://todaycycling.com/wp-content/uploads/2018/05/petit-gibus-la-guerre-des-boutons-696x392.jpg\" width=\"400\" alt=\"Petit Gibus\">\n",
    "\n",
    "L’algorithme suivant permet d’afficher cette phrase indéfiniment, jusqu’à ce que l’utilisateur réponde « N » à la question : « voulez vous continuer ? ».  \n",
    "\n",
    ">Entrées : Reponse : un caractère (O ou N)  \n",
    ">Sortie : un affichage à l’écran\n",
    "\t>>DEBUT\n",
    "\t>>Reponse $\\leftarrow$ 'O'  \n",
    "\t>>TANT QUE Reponse != 'N' FAIRE : \n",
    "\t\t>>>Afficher ('Mon pantalon est décousu, Si ça continue, on verra le trou d'...')  \n",
    "\t\t>>>Saisir (Reponse)  \n",
    ">>\n",
    ">>FIN TANT QUE  \n",
    ">>FIN\n",
    "    \n",
    "Codez l'algorithme précédent, puis vérifiez qu'il fonctionne comme prévu."
   ]
  },
  {
   "cell_type": "code",
   "execution_count": null,
   "metadata": {
    "collapsed": true
   },
   "outputs": [],
   "source": [
    "# Insérez ici votre code"
   ]
  },
  {
   "cell_type": "markdown",
   "metadata": {},
   "source": [
    "### <u>La boucle FOR (boucle bornée – je connais au départ le nombre d'itérations à faire)</u>\n",
    "\n",
    "Le principe de la boucle FOR, c’est de répéter un bloc d’instructions pour chaque élément d'une liste.\n",
    "\n",
    "### <u>Première écriture de la boucle FOR</u>\n",
    "~~~ python \n",
    "for i in [''a'',''e'',''i'',''o'',''u'',''y'']:\n",
    "    instruction1\n",
    "    instruction2\n",
    "    ...\n",
    "instructions_suivantes\n",
    "~~~\n",
    "\n",
    "Le bloc d'instruction { instruction1, instruction 2, ...} est exécuté 6 fois car l'ensemble [''a'',''e'',''i'',''o'',''u'',''y''] contient 6 éléments. La variable i prend successivement les valeurs de la liste.\n",
    "Le bloc {instructions_suivantes} n'est réalisé qu'une fois après les 6 répétitions.\n",
    "\n",
    "\n",
    "#### Exemple 1\n",
    "Observez le programme suivant et répondez aux questions avant de l'exécuter pour vérifier vos réponses :\n",
    "- Combien de fois apparaît le texte \"Attention\" ?\n",
    "- Combien de fois apparaît le texte \"au chien !\" ?"
   ]
  },
  {
   "cell_type": "code",
   "execution_count": null,
   "metadata": {},
   "outputs": [],
   "source": [
    "for i in [\"alpha\",\"beta\",\"gamma\",\"delta\",\"epsilon\"]:\n",
    "    print(\"Attention\")\n",
    "print(\"Attention\")\n",
    "print(\"au chien !\")"
   ]
  },
  {
   "cell_type": "markdown",
   "metadata": {},
   "source": [
    "### <u>Deuxième écriture de la boucle FOR </u>\n",
    "~~~ python\n",
    "for i in range(5):\n",
    "\tinstruction1\n",
    "    instruction2\n",
    "    ...\n",
    "instructions_suivantes\n",
    "~~~\n",
    "\n",
    "Le bloc d'instruction {instruction 1; instruction2} est exécuté 5 fois. \n",
    "\n",
    "Le bloc {instructions_suivantes} n'est réalisé qu'une fois après les 5 répétitions réalisées."
   ]
  },
  {
   "cell_type": "markdown",
   "metadata": {},
   "source": [
    "### <span style=\"color: red\"> Attention !!! </span>\n",
    "**<span style=\"color: red\">La variable i prend successivement tous les nombres de 0 à 4 et ne prend donc pas la valeur 5 (ce qui est trompeur car on a écrit \"range(5)\")</span>**"
   ]
  },
  {
   "cell_type": "markdown",
   "metadata": {},
   "source": [
    "#### Exemple 2\n",
    "Observez le programme suivant et répondez à la question suivante avant de l'exécuter pour vérifier votre réponse :\n",
    "\n",
    "- Combien de lignes sont-elles écrites ?\n",
    "\n",
    "On modifiera le programme pour répondre à la question suivantes :\n",
    "- Que vaut la variable \"somme\" à la fin du programme ? "
   ]
  },
  {
   "cell_type": "code",
   "execution_count": null,
   "metadata": {},
   "outputs": [],
   "source": [
    "somme = 0\n",
    "for i in range(5):\n",
    "    print(\"Ceci est la ligne \", i)\n",
    "    somme = somme + i"
   ]
  },
  {
   "cell_type": "markdown",
   "metadata": {},
   "source": [
    "### <u>Troisième écriture de la boucle FOR </u>\n",
    "~~~ python\n",
    "for i in range(3,10,2):\n",
    "\tinstruction1\n",
    "    instruction2\n",
    "instructions_suivantes\n",
    "~~~\n",
    "\n",
    "Le bloc d'instruction {instruction 1, instruction 2} est exécuté 4 fois. En effet, la variable **i prend successivement les valeurs entre 3 et 9, par pas de 2 (3, 5, 7, 9)**"
   ]
  },
  {
   "cell_type": "markdown",
   "metadata": {},
   "source": [
    "#### Exemple 3\n",
    "On considère le code suivant.\n",
    "Que vaudra nombre à la fin du programme ? \n",
    "Modifiez le programme pour faire afficher les différentes valeurs prises par la variable \"nombre\" et pour répondre (faites une phrase) à la question posée."
   ]
  },
  {
   "cell_type": "code",
   "execution_count": null,
   "metadata": {},
   "outputs": [],
   "source": [
    "nombre = 0\n",
    "for i in range(0,10,3):\n",
    "    nombre = nombre + i"
   ]
  },
  {
   "cell_type": "markdown",
   "metadata": {},
   "source": [
    "## <u> Problème : La table de multiplication de 47</u>\n",
    "Ecrire un programme avec une boucle **FOR** qui permet d'afficher la table de 47 (de 47x0 à 47x10)"
   ]
  },
  {
   "cell_type": "code",
   "execution_count": null,
   "metadata": {
    "collapsed": true
   },
   "outputs": [],
   "source": [
    "# Insérez ici votre code"
   ]
  }
 ],
 "metadata": {
  "kernelspec": {
   "display_name": "Python 3",
   "language": "python",
   "name": "python3"
  },
  "language_info": {
   "codemirror_mode": {
    "name": "ipython",
    "version": 3
   },
   "file_extension": ".py",
   "mimetype": "text/x-python",
   "name": "python",
   "nbconvert_exporter": "python",
   "pygments_lexer": "ipython3",
   "version": "3.6.3"
  }
 },
 "nbformat": 4,
 "nbformat_minor": 2
}
