{
 "cells": [
  {
   "cell_type": "markdown",
   "metadata": {},
   "source": [
    "### Activité 1 ###\n",
    "**Retour sur le triangle de Pascal en s'appuyant cette fois sur la formule de Pascal**"
   ]
  },
  {
   "cell_type": "markdown",
   "metadata": {},
   "source": [
    "**Exemple 1 :**"
   ]
  },
  {
   "cell_type": "markdown",
   "metadata": {},
   "source": [
    "1. Compléter l'algorithme suivant sachant que la fonction ligne prend en paramètre une ligne du triangle de Pascal et renvoye sa ligne suivante"
   ]
  },
  {
   "cell_type": "code",
   "execution_count": null,
   "metadata": {},
   "outputs": [],
   "source": [
    "def ligne(L1):\n",
    "    L2=[1]\n",
    "    for k in range(...,...):\n",
    "        L2.append(L1[k-1]+L1[k])\n",
    "    ...............\n",
    "    return L2"
   ]
  },
  {
   "cell_type": "markdown",
   "metadata": {},
   "source": [
    "2. Compléter l'algorithme suivant afin que l'appel triangle(6) renvoie le triangle de Pascal constitué de ses 6 premières lignes."
   ]
  },
  {
   "cell_type": "code",
   "execution_count": null,
   "metadata": {},
   "outputs": [],
   "source": [
    "def ligne(L1):\n",
    "    L2=[1]\n",
    "    for k in range(...,...):\n",
    "        L2.append(L1[k-1]+L1[k])\n",
    "    ...............\n",
    "    return L2\n",
    "\n",
    "def triangle(n):\n",
    "    \"\"\"\n",
    "    n est un entier supérieur ou égal à 1\n",
    "    la fonction triangle renvoie le triangle de Pascal composé de ses n premières lignes\n",
    "    >>> triangle(6)\n",
    "    [[1], [1, 1], [1, 2, 1], [1, 3, 3, 1], [1, 4, 6, 4, 1], [1, 5, 10, 10, 5, 1]]\n",
    "    \"\"\"\n",
    "    L=[[1]]\n",
    "    for k in range(1,...):\n",
    "        ......................\n",
    "    return L\n",
    "\n",
    "import doctest\n",
    "doctest.testmod() "
   ]
  },
  {
   "cell_type": "markdown",
   "metadata": {},
   "source": [
    "**Exemple 2** <br>\n",
    "Vous trouverez ci-dessous la fonction pascal prenant en paramètre un entier naturel n et renvoyant le triangle de Pascal composé des n premières lignes.\n",
    "\n",
    "1. Que permet la ligne 6 ?\n",
    "2. A quoi correspondent les variables i et j ?\n",
    "3. Compléter l'algorithme ci-dessous afin de répondre à sa documentation.\n",
    "4. En quoi peut-on dire que ce n'est pas exactement le triangle de Pascal ?\n"
   ]
  },
  {
   "cell_type": "code",
   "execution_count": null,
   "metadata": {},
   "outputs": [],
   "source": [
    "def pascal(n):\n",
    "    \"\"\"\n",
    "    fonction prenant en paramètre un entier naturel n\n",
    "    renvoie le triangle de Pascal composé de ses n premières lignes\n",
    "    \"\"\"\n",
    "    t=[[0]*n for k in range(n)]\n",
    "    for i in range(n):\n",
    "        for j in range(...):\n",
    "            if j==0:\n",
    "                .........\n",
    "            elif i==j:\n",
    "                .........\n",
    "            else :\n",
    "                t[i][j]=t[i-1][j-1]+t[i-1][j]\n",
    "    return(t)"
   ]
  },
  {
   "cell_type": "markdown",
   "metadata": {},
   "source": [
    "**Exemple 3** <br>\n",
    "Voici une \"autre\" version possible permettant d'obtenir un triangle de Pascal :"
   ]
  },
  {
   "cell_type": "code",
   "execution_count": null,
   "metadata": {},
   "outputs": [],
   "source": [
    "def pascal(n):\n",
    "    \"\"\"\n",
    "    fonction prenant en paramètre un entier naturel n\n",
    "    renvoie le triangle de Pascal composé de ses n premières lignes\n",
    "    \"\"\"\n",
    "    t=[[0]*n for k in range(n)]\n",
    "    for i in range(n):\n",
    "        for j in range(n): \n",
    "            if j==0:\n",
    "                t[i][j]=1\n",
    "            else :\n",
    "                t[i][j]=t[i-1][j-1]+t[i-1][j]\n",
    "    return(t)"
   ]
  },
  {
   "cell_type": "markdown",
   "metadata": {},
   "source": [
    "Après avoir analyser ce second algorithme, comparer le avec le précédent. <br>\n",
    "Qu'en pensez-vous ? <br>\n",
    "Quel est celui que vous préfereriez présenté aux élèves et pourquoi ? "
   ]
  },
  {
   "cell_type": "code",
   "execution_count": null,
   "metadata": {},
   "outputs": [],
   "source": [
    "from math import *\n",
    "def pascal1(n):\n",
    "    t=[[0]*n for k in range(n)]\n",
    "    for i in range(n):\n",
    "        for j in range(n):\n",
    "            if j==0:\n",
    "                t[i][j]=1\n",
    "            else :\n",
    "                t[i][j]=t[i-1][j-1]+t[i-1][j]\n",
    "    return(t)"
   ]
  },
  {
   "cell_type": "markdown",
   "metadata": {},
   "source": [
    "**Exemple 3**\n",
    "\n",
    "Compléter l'algorithme ci-dessous afin qu'il renvoie un triangle de Pascal à n lignes"
   ]
  },
  {
   "cell_type": "code",
   "execution_count": null,
   "metadata": {},
   "outputs": [],
   "source": [
    "from math import *\n",
    "def pascal(n):\n",
    "    \"\"\"n est un entier naturel non nul, l[i][j] renvoie le coefficient binomial j parmi i\"\"\"\n",
    "    t=[[0]*k for ....................] #on créée le triangle à n lignes n colonnes composé uniquement de 0\n",
    "    for i in range(n):\n",
    "        for j in range(...):\n",
    "            if j==0:\n",
    "                t[i][j]=1\n",
    "            elif i==j:\n",
    "                t[i][j]=1\n",
    "            else:\n",
    "                t[i][j]=t[i-1][j]+t[i-1][j-1]\n",
    "    return(t)\n",
    "\n"
   ]
  },
  {
   "cell_type": "markdown",
   "metadata": {},
   "source": [
    "**Exemple 4**\n",
    "\n",
    "Hors-programme\n",
    "1. Dans l'algorithme ci-dessous, quel est le rôle de la fonction pas ? A quoi correspondent les paramètres k et n ?\n",
    "2. En quoi cet algorithme est-il hors-programme ?\n",
    "3. Compléter la liste L afin de générer un triangle de Pascal en compréhension."
   ]
  },
  {
   "cell_type": "code",
   "execution_count": null,
   "metadata": {},
   "outputs": [],
   "source": [
    "def pas(k,n):\n",
    "    if k>=n:\n",
    "        return 1\n",
    "    elif k==0:\n",
    "        return 1\n",
    "    else:\n",
    "        return pas(k,n-1)+pas(k-1,n-1)\n",
    "    \n",
    "def pascrecur(n):\n",
    "    L=[............................................................]\n",
    "    return L"
   ]
  }
 ],
 "metadata": {
  "kernelspec": {
   "display_name": "Python 3",
   "language": "python",
   "name": "python3"
  },
  "language_info": {
   "codemirror_mode": {
    "name": "ipython",
    "version": 3
   },
   "file_extension": ".py",
   "mimetype": "text/x-python",
   "name": "python",
   "nbconvert_exporter": "python",
   "pygments_lexer": "ipython3",
   "version": "3.8.3"
  }
 },
 "nbformat": 4,
 "nbformat_minor": 2
}
