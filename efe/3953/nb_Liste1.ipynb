{
  "nbformat": 4,
  "nbformat_minor": 0,
  "metadata": {
    "kernelspec": {
      "display_name": "Python 3",
      "language": "python",
      "name": "python3"
    },
    "language_info": {
      "codemirror_mode": {
        "name": "ipython",
        "version": 3
      },
      "file_extension": ".py",
      "mimetype": "text/x-python",
      "name": "python",
      "nbconvert_exporter": "python",
      "pygments_lexer": "ipython3",
      "version": "3.6.3"
    },
    "colab": {
      "name": "Copy of Liste1.ipynb",
      "provenance": [],
      "collapsed_sections": []
    }
  },
  "cells": [
    {
      "cell_type": "markdown",
      "metadata": {
        "id": "UV6nCGBIIiWT",
        "colab_type": "text"
      },
      "source": [
        "## Liste - introduction\n",
        "Capacités attendues\n",
        "\n",
        "- Générer une liste (en extension ou par ajouts successifs).\n",
        "- Manipuler des éléments d’une liste (ajouter, supprimer...) et leurs indices.\n",
        "- Parcourir une liste.\n",
        "- Itérer sur les éléments d’une liste.\n",
        "\n",
        "### 1 - Création simple d'une liste et Accès aux valeurs d'une liste\n",
        "Une liste est une séquence modifiable. Un élément d’une liste peut être de n’importe quel type. \n",
        "\n",
        "Les différents éléments de la liste sont accessibles grâce à leur position. \n",
        "\n",
        "**Attention** - Si la liste s'appelle ***```L```*** :\n",
        "- le ***premier élément*** est à la position 0 : on l'appelle avec l'instruction ***```L[0]```***, \n",
        "- le ***deuxième élément*** est à la position 1 : on l'appelle avec l'instruction ***```L[1]```***,\n",
        "- le ***troisième élément*** à la position 2 : on l'appelle avec l'instruction ***```L[2]```***,\n",
        "- etc...\n",
        "\n",
        "**Autre partcularité** : \n",
        "- le ***dernier élément*** d'une liste est accessible à la position **``-1``**\n",
        "- l'***avant-dernier élément*** d'une liste est accessible à la position **``-2``**\n",
        "- etc...\n",
        "\n",
        "On peut accéder à la **longueur de la liste** (le nombre d'éléments contenus dans la liste) à l'aide de la fonction **```len(liste)```**."
      ]
    },
    {
      "cell_type": "markdown",
      "metadata": {
        "id": "zzUGf7m6IiWU",
        "colab_type": "text"
      },
      "source": [
        "#### Exemples de création de liste"
      ]
    },
    {
      "cell_type": "code",
      "metadata": {
        "id": "OvjOBt6DIiWV",
        "colab_type": "code",
        "colab": {}
      },
      "source": [
        "# Créer une liste vide :\n",
        "L = []\n",
        "L"
      ],
      "execution_count": null,
      "outputs": []
    },
    {
      "cell_type": "code",
      "metadata": {
        "id": "-tmBy0i8IiWa",
        "colab_type": "code",
        "colab": {}
      },
      "source": [
        "# Créer une liste contenant 3 entiers\n",
        "L = [6,1,69]\n",
        "L"
      ],
      "execution_count": null,
      "outputs": []
    },
    {
      "cell_type": "code",
      "metadata": {
        "id": "vUrrBQ0UIiWf",
        "colab_type": "code",
        "colab": {}
      },
      "source": [
        "# Créer une liste contenant 6 éléments de type différent\n",
        "# Le premier élément est une liste : on a donc une liste contenue dans une liste\n",
        "liste = [L,7,11,67,\"Marie\",18.2]\n",
        "liste"
      ],
      "execution_count": null,
      "outputs": []
    },
    {
      "cell_type": "markdown",
      "metadata": {
        "id": "7wpN_VhkIiWi",
        "colab_type": "text"
      },
      "source": [
        "#### Exemple d'accès à un élément d'une liste"
      ]
    },
    {
      "cell_type": "code",
      "metadata": {
        "id": "fgVBmIfkIiWj",
        "colab_type": "code",
        "colab": {}
      },
      "source": [
        "# Accès au premier élément de L : L[0]\n",
        "L[0]"
      ],
      "execution_count": null,
      "outputs": []
    },
    {
      "cell_type": "code",
      "metadata": {
        "id": "PfKzBYQAIiWm",
        "colab_type": "code",
        "colab": {}
      },
      "source": [
        "# Accès au dernier élément de la liste : liste[-1]\n",
        "liste[-1]"
      ],
      "execution_count": null,
      "outputs": []
    },
    {
      "cell_type": "markdown",
      "metadata": {
        "id": "IgiHXjI5IiWr",
        "colab_type": "text"
      },
      "source": [
        "**ATTENTION !!!** : \n",
        "\n",
        "Si on cherche à accéder à une position qui n'existe pas, Python enverra un signal d'erreur de type ```list index out of range```. C'est une erreur très courante dans les programmes. Il faut savoir l'identifier !"
      ]
    },
    {
      "cell_type": "code",
      "metadata": {
        "id": "faiMm2nzIiWr",
        "colab_type": "code",
        "colab": {}
      },
      "source": [
        "# Les 3 valeurs ci-dessous sont au position '0', '1' et '2'\n",
        "# Aucune valeur n'est en position 3\n",
        "liste_avec_3_elements = [\"toto\", \"titi\", \"tata\"]\n",
        "liste[3]"
      ],
      "execution_count": null,
      "outputs": []
    },
    {
      "cell_type": "markdown",
      "metadata": {
        "id": "enN76YBlIiWw",
        "colab_type": "text"
      },
      "source": [
        "### 2 - Modifier une liste\n",
        "\n",
        "**Modification d'un élément**\n",
        "\n",
        "Il est possible de modifier directement les éléments présents dans la liste par une simple nouvelle affectation :"
      ]
    },
    {
      "cell_type": "code",
      "metadata": {
        "id": "RUtNtH-ZIiWx",
        "colab_type": "code",
        "colab": {}
      },
      "source": [
        "# Modifier la valeur d'une liste \n",
        "# L[2] \n",
        "L[2] = 1969\n",
        "L"
      ],
      "execution_count": null,
      "outputs": []
    },
    {
      "cell_type": "markdown",
      "metadata": {
        "id": "4QkfFmwRIiW1",
        "colab_type": "text"
      },
      "source": [
        "**Ajouter une valeur à la fin d'une liste**\n",
        "\n",
        "Il est possible d'ajouter une valeur en fin de liste à l'aide de la méthode ```.append()```.\n"
      ]
    },
    {
      "cell_type": "code",
      "metadata": {
        "id": "vpw9FSlYIiW3",
        "colab_type": "code",
        "colab": {}
      },
      "source": [
        "L = [\"Benjamin\",\"Alain\"]\n",
        "L.append(\"Yves\")\n",
        "L"
      ],
      "execution_count": null,
      "outputs": []
    },
    {
      "cell_type": "markdown",
      "metadata": {
        "id": "07faZvXNIiW7",
        "colab_type": "text"
      },
      "source": [
        "** Supprimer une valeur à la fin d'une liste**\n",
        "\n",
        "Il est possible d'ajouter une valeur en fin de liste à l'aide de la méthode ```.pop()```.\n"
      ]
    },
    {
      "cell_type": "code",
      "metadata": {
        "id": "jm_I9imLIiW8",
        "colab_type": "code",
        "colab": {}
      },
      "source": [
        "valeur = L.pop()\n",
        "L"
      ],
      "execution_count": null,
      "outputs": []
    },
    {
      "cell_type": "markdown",
      "metadata": {
        "id": "IRDAEP4sIiXA",
        "colab_type": "text"
      },
      "source": [
        "### 3 - Premières opérations sur les listes\n",
        "\n",
        "#### Addition de listes <=> Concaténation deux listes entre elles \n",
        "\n",
        "Le symbole \"```+```\" entre deux listes permet de les concaténer l'une à l'autre"
      ]
    },
    {
      "cell_type": "code",
      "metadata": {
        "id": "X-JevBE2IiXB",
        "colab_type": "code",
        "colab": {}
      },
      "source": [
        "a = [1,2,3]\n",
        "b = a + [4,5]\n",
        "b"
      ],
      "execution_count": null,
      "outputs": []
    },
    {
      "cell_type": "code",
      "metadata": {
        "id": "nv020GLrIiXE",
        "colab_type": "code",
        "colab": {}
      },
      "source": [
        "liste = [0,1,2] + [\"Marie\",\"Mylène\"] + [67,72]\n",
        "liste"
      ],
      "execution_count": null,
      "outputs": []
    },
    {
      "cell_type": "markdown",
      "metadata": {
        "id": "JNj3qGhzIiXI",
        "colab_type": "text"
      },
      "source": [
        "#### Multiplication d'une liste par un entier\n",
        "\n",
        "L'utilisation du symbole \"```*```\" entre une liste et un nombre entier consiste à concaténer la liste un certain nombre de fois avec elle-même."
      ]
    },
    {
      "cell_type": "code",
      "metadata": {
        "id": "m-QQmwOGIiXI",
        "colab_type": "code",
        "colab": {}
      },
      "source": [
        "[1,2,3] * 3"
      ],
      "execution_count": null,
      "outputs": []
    },
    {
      "cell_type": "code",
      "metadata": {
        "id": "BErGh6huIiXL",
        "colab_type": "code",
        "colab": {}
      },
      "source": [
        "[1,2] * 3"
      ],
      "execution_count": null,
      "outputs": []
    },
    {
      "cell_type": "code",
      "metadata": {
        "id": "fzODHQLmIiXQ",
        "colab_type": "code",
        "colab": {}
      },
      "source": [
        "2*[\"Pile\",\"Face\"]"
      ],
      "execution_count": null,
      "outputs": []
    },
    {
      "cell_type": "code",
      "metadata": {
        "id": "kgTFqk9PIiXT",
        "colab_type": "code",
        "colab": {}
      },
      "source": [
        "liste = [0] * 10\n",
        "liste"
      ],
      "execution_count": null,
      "outputs": []
    },
    {
      "cell_type": "markdown",
      "metadata": {
        "id": "DLY0_37RIiXX",
        "colab_type": "text"
      },
      "source": [
        "#### Calculer le maximum/minimu des valeurs d'une liste\n",
        "Dans la cadre des statistiques par exemple, la fonction ```max()``` (respectivment ```min()```) peut permettre de calculer aisément le plus grand (respectivement petit) élément d'une liste :"
      ]
    },
    {
      "cell_type": "code",
      "metadata": {
        "id": "MANiIqSPIiXY",
        "colab_type": "code",
        "colab": {}
      },
      "source": [
        "L = [0, 1, 6, 7, 8, 9, 10, 11, 12, 5, 6, 7, 8, 9, 10]\n",
        "max(L)"
      ],
      "execution_count": null,
      "outputs": []
    },
    {
      "cell_type": "code",
      "metadata": {
        "id": "mt4wufdUIiXn",
        "colab_type": "code",
        "colab": {}
      },
      "source": [
        "min(L)"
      ],
      "execution_count": null,
      "outputs": []
    },
    {
      "cell_type": "markdown",
      "metadata": {
        "id": "wkAJnUfkIiXs",
        "colab_type": "text"
      },
      "source": [
        "### 4 - Premiers parcours de liste à l'aide de la boucle ```for```\n",
        "#### Parcours 1\n",
        "On peut parcourir une liste à l'aide de ses indices : on parcourt la liste en utilisant une boucle ```for``` avec un compteur ```i``` qui va de ```0``` à ```len(liste)```.\n",
        "##### Affichage des éléments d'une liste"
      ]
    },
    {
      "cell_type": "code",
      "metadata": {
        "id": "S79JrkNBIiXt",
        "colab_type": "code",
        "colab": {}
      },
      "source": [
        "for i in range(len(L)):\n",
        "    print(L[i])"
      ],
      "execution_count": null,
      "outputs": []
    },
    {
      "cell_type": "markdown",
      "metadata": {
        "id": "_wMfMCn3IiXy",
        "colab_type": "text"
      },
      "source": [
        "#### Parcours 2 \n",
        "On peut directement itérer une liste : cela signifie qu'on peut parcourir une liste en utilisant une boucle ```for``` avec pour simple syntaxe : \n",
        "\n",
        "```for element in liste :```\n",
        "\n",
        "##### Affichage des éléments d'une liste"
      ]
    },
    {
      "cell_type": "code",
      "metadata": {
        "id": "oY1MHfFJIiXz",
        "colab_type": "code",
        "colab": {}
      },
      "source": [
        "for k in [1,2,3]:\n",
        "    print(k)"
      ],
      "execution_count": null,
      "outputs": []
    },
    {
      "cell_type": "markdown",
      "metadata": {
        "id": "YBP6zB-7IiX1",
        "colab_type": "text"
      },
      "source": [
        "#### Création d'une liste"
      ]
    },
    {
      "cell_type": "code",
      "metadata": {
        "id": "4SymnzlRIiX2",
        "colab_type": "code",
        "colab": {}
      },
      "source": [
        "liste = []\n",
        "for k in range(10):\n",
        "    liste.append(k)\n",
        "liste"
      ],
      "execution_count": null,
      "outputs": []
    },
    {
      "cell_type": "markdown",
      "metadata": {
        "id": "VTTH7mV2IiX6",
        "colab_type": "text"
      },
      "source": [
        "#### Calcul sur les élements d'une liste\n",
        "Dans le cadre de l'étude d'une suite, on est parfois amené à calculer la somme des valeurs de cette suite. L'exmple ci-dessous permet de créer les 10 premiers terme d'une suite définie avec une fonction explicite puis de calculer la somme de ses 1à termes"
      ]
    },
    {
      "cell_type": "code",
      "metadata": {
        "id": "-pTY0tl9IiX6",
        "colab_type": "code",
        "colab": {}
      },
      "source": [
        "# définition de la fonction expliciate\n",
        "def f(n):\n",
        "    return 2*n - 3\n",
        "\n",
        "# Calcule des termes de la suite et création de la liste `suite`\n",
        "suite = []\n",
        "for k in range(10):\n",
        "    suite.append(f(k))\n",
        "    \n",
        "# Calcul de la somme des termes de la liste\n",
        "somme = 0\n",
        "for element in suite:\n",
        "    somme = somme + suite[k]\n",
        "somme"
      ],
      "execution_count": null,
      "outputs": []
    },
    {
      "cell_type": "markdown",
      "metadata": {
        "id": "KNXxxSUbIiYB",
        "colab_type": "text"
      },
      "source": [
        "## TP : Suite de Syracuse\n",
        "Sources : Barbazo 1ère, 2019, p. 25"
      ]
    },
    {
      "cell_type": "markdown",
      "metadata": {
        "id": "UHQCSRlfIiYC",
        "colab_type": "text"
      },
      "source": [
        "On appelle suite de Syracuse une suite $(U_n)$ d’entiers naturels définie de la manière suivante : \n",
        "- le 1er terme $U_0$ est un entier naturel non nul que l’on choisit initialement\n",
        "- pour tout entier naturel n :\n",
        "    - si n est pair $U_{n+1} = U_n / 2$;\n",
        "    - sinon $U_{n+1} = 3*U_n +1 $\n",
        "\n",
        "La conjecture de Syracuse s’énonce ainsi : \"Quel que soit le nombre naturel non nul $U_0$, le nombre $1$ est atteint par la suite $(U_n)$\"\n",
        "\n",
        "On appelle temps de vol de la suite l’indice du premier terme de la suite qui vaut 1.\n",
        "On appelle altitude du vol de la suite la valeur du plus grand terme de la suite."
      ]
    },
    {
      "cell_type": "code",
      "metadata": {
        "id": "_webLeW2IiYD",
        "colab_type": "code",
        "colab": {}
      },
      "source": [
        "def Syracuse(u) :\n",
        "    if u%2 == 0 :\n",
        "        u = u//2\n",
        "    else :\n",
        "        u = 3*u + 1\n",
        "    return(u)\n",
        "\n",
        "def Liste_Syracuse(u) :\n",
        "    L=[u]\n",
        "    while u! = 1 :\n",
        "        L.append(Syracuse(u))\n",
        "        u=Syracuse(u)\n",
        "    return L"
      ],
      "execution_count": null,
      "outputs": []
    },
    {
      "cell_type": "code",
      "metadata": {
        "id": "vVA7xaHOIiYH",
        "colab_type": "code",
        "colab": {}
      },
      "source": [
        ""
      ],
      "execution_count": null,
      "outputs": []
    },
    {
      "cell_type": "markdown",
      "metadata": {
        "id": "gAWx1YZQIiYK",
        "colab_type": "text"
      },
      "source": [
        "**Répondre aux questions suivantes**\n",
        "\n",
        "1) Quel nombre est renvoyé par $Syracuse(6)$ ? Par $Syracuse(7)$ ?\n",
        "\n",
        "2) A quel test correspond $u%2==0$ ?\n",
        "\n",
        "3) Quelle est le rôle de la fonction $Syracuse()$ ?\n",
        "\n",
        "4) Que retourne $Liste_Syracuse(14)$ écrite dans la console ?\n",
        "\n",
        "5) Que fait l’instruction $L.append(Syracuse(u))$ ?\n",
        "\n",
        "6) Pour connaître la longueur d’une liste, on utilise la fonction $len(L)$ (voir ci-dessus).  Pour connaître la plus grande valeur d’une liste, il existe la fonction $max(L)$. \n",
        "\n",
        "7) Ecrire deux fonctions \n",
        "- la première retourne l’altitude du vol d’une suite de Syracuse. \n",
        "- la deuxième retourne le temps de vol d’une suite de Syracuse.\n",
        "\n",
        "8) Ecrire deux programmes :\n",
        "- le premier retournera la plus petite valeur $U_0$ permettant d’avoir une altitude supérieur à $100$\n",
        "- le deuxième retournera la valeur $U_0$ de l’intervalle $[1;100]$ ayant le vol le plus long."
      ]
    },
    {
      "cell_type": "code",
      "metadata": {
        "id": "qb2iXC48IiYL",
        "colab_type": "code",
        "colab": {}
      },
      "source": [
        ""
      ],
      "execution_count": null,
      "outputs": []
    }
  ]
}