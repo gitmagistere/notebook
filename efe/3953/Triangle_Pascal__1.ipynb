{
  "metadata": {
    "language_info": {
      "mimetype": "text/x-python",
      "nbconvert_exporter": "python",
      "name": "python",
      "pygments_lexer": "ipython3",
      "version": "3.6.6",
      "file_extension": ".py",
      "codemirror_mode": {
        "version": 3,
        "name": "ipython"
      }
    },
    "kernelspec": {
      "name": "python36",
      "display_name": "Python 3.6",
      "language": "python"
    }
  },
  "nbformat_minor": 2,
  "nbformat": 4,
  "cells": [
    {
      "cell_type": "markdown",
      "source": "**Objectifs de ces premiers algorithmes:**\n- cerner quelques défauts fréquents de programmation chez les programmeurs débutant;\n- ne pas chercher à déterminer le \"meilleur\" algorithme\n\nEn s'appuyant sur des notions mathématiques au programme de Terminale (spécialité et complémentaires):\n- factorielle ;\n- combinaison ;\n- triangle de Pascal (sans utiliser la formule de Pascal)\n",
      "metadata": {}
    },
    {
      "cell_type": "markdown",
      "source": "**Algorithme 1**\n\n1) Quel affichage obtient-on après avoir exécuté le script ci-dessous ?",
      "metadata": {}
    },
    {
      "cell_type": "code",
      "source": "for n in range(7):\n for p in range(n+1):\n  c=1\n  for i in range(1,n+1):\n   c*=i\n  h=1\n  for i in range(1,p+1):\n   h*=i\n  y=1\n  for i in range(1,n-p+1):\n   y*=i\n  print(c//(h*y),end=' ')\n print()",
      "metadata": {},
      "execution_count": null,
      "outputs": []
    },
    {
      "cell_type": "markdown",
      "source": "2) Exécuter ce script afin de vérifier votre résultat.\n\n3) Enumérer les nombreux défauts de ce script.\n\n",
      "metadata": {}
    },
    {
      "cell_type": "markdown",
      "source": "**Algorithme 2**\n\n1) Quel affichage obtient-on après avoir exécuté le script ci-dessous ?",
      "metadata": {}
    },
    {
      "cell_type": "code",
      "source": "for n in range(7):\n    for p in range(n+1):\n        factn = 1\n        for i in range(1, n+1):\n            factn *= i\n        factp = 1\n        for i in range(1, p+1):\n            factp *= i\n        factn_moins_p = 1\n        for i in range(1, n-p+1):\n            factn_moins_p *= i\n        print(factn//(factp*factn_moins_p), end=' ')\n    print()",
      "metadata": {},
      "execution_count": null,
      "outputs": []
    },
    {
      "cell_type": "markdown",
      "source": "2) Exécuter ce script afin de vérifier votre résultat.\n\n3) Quelles améliorations ont été apportées au script précédent ?\n\n4) En quoi cet algorithme ne correspond-il pas à la philosophie du programme de Terminal ?\n\n5) Quels types d'objets permettraient un affichage \"similaire\" sans utiliser la fonction \"print\" ?\n",
      "metadata": {}
    },
    {
      "cell_type": "markdown",
      "source": "**Algorithme 3**\n\nProduire un algorithme répondant aux conditions suivantes:\n- créer et utiliser une fonction renvoyant la factorielle d'un entier naturel\n- créer et utiliser une fonction renvoyant la factorielle d'un entier naturel\n- créer une fonction qui renvoie sous forme de liste de listes le \"Triangle de Pascal\" et utilise les fonctions précédemment créées\n- spécifier vos fonctions\n\nUne réflexion autour de la mise en place d'une activité élève autour de cet algorithme pourrait être bénéfique.",
      "metadata": {}
    },
    {
      "cell_type": "code",
      "source": "##############################\nVous pouvez tester votre script ci-dessous\n##############################",
      "metadata": {},
      "execution_count": null,
      "outputs": []
    }
  ]
}