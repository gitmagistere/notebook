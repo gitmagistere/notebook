{
 "cells": [
  {
   "cell_type": "markdown",
   "metadata": {},
   "source": [
    "## L’Algorithme de Briggs est le suivant :\n",
    "\n",
    ">Entrée : Un réel x strictement positif\n",
    "\n",
    ">Variable : Un entier n\n",
    "\n",
    ">Tant que x est éloigné de 1 (à 0,001 près par exemple), faire\n",
    ">>incrémenter le compteur n ;\n",
    "\n",
    ">>remplacer x par sa racine car\n",
    "#Comme le logarithme népérien d’un nombre x proche de 1 est proche de x-1, on prend x-1 comme valeur approchée du logarithme ; n vaut alors le nombre de fois qu’on doit doubler x-1 pour avoir le logarithme du nombre de départ.\n",
    "\n",
    ">Faire n fois :\n",
    "\n",
    ">>Multiplier le logarithme par 2\n",
    "\n",
    ">Sortie : Le nombre obtenu est le logarithme népérien de x.\n"
   ]
  },
  {
   "cell_type": "markdown",
   "metadata": {},
   "source": [
    "\n",
    "Ce qui donne en Python, en prenant un second paramètre p pour arrêter la boucle Tant que dès que x est éloigné de 1 de moins de  :\n"
   ]
  },
  {
   "cell_type": "code",
   "execution_count": null,
   "metadata": {
    "collapsed": true
   },
   "outputs": [],
   "source": [
    "from math import *\n",
    "def ln(x,p):\n",
    "    n=0\n",
    "    while(abs(x-1)>10**(-p)):\n",
    "        n+=1\n",
    "        x=sqrt(x)\n",
    "    y=x-1\n",
    "    while(n>0):\n",
    "        y=y*2\n",
    "        n=n-1\n",
    "    return y"
   ]
  },
  {
   "cell_type": "markdown",
   "metadata": {},
   "source": [
    "## Utilisation :"
   ]
  },
  {
   "cell_type": "code",
   "execution_count": null,
   "metadata": {
    "collapsed": true
   },
   "outputs": [],
   "source": [
    "ln(5,3)"
   ]
  },
  {
   "cell_type": "code",
   "execution_count": null,
   "metadata": {
    "collapsed": true
   },
   "outputs": [],
   "source": [
    "ln(5,8)"
   ]
  },
  {
   "cell_type": "code",
   "execution_count": null,
   "metadata": {
    "collapsed": true
   },
   "outputs": [],
   "source": [
    "from math import log\n",
    "log(5)"
   ]
  },
  {
   "cell_type": "markdown",
   "metadata": {},
   "source": [
    "Alors que la calculatrice donne 1.609437912 et WolframAlpha 1.609437912434100374600759333226187639525601354268517721912...\n",
    "On constate que la précision pour ln(5,8) est donc d’environ 3x10<sup>-8</sup>"
   ]
  },
  {
   "cell_type": "code",
   "execution_count": null,
   "metadata": {
    "collapsed": true
   },
   "outputs": [],
   "source": []
  }
 ],
 "metadata": {
  "kernelspec": {
   "display_name": "Python 3",
   "language": "python",
   "name": "python3"
  },
  "language_info": {
   "codemirror_mode": {
    "name": "ipython",
    "version": 3
   },
   "file_extension": ".py",
   "mimetype": "text/x-python",
   "name": "python",
   "nbconvert_exporter": "python",
   "pygments_lexer": "ipython3",
   "version": "3.6.3"
  }
 },
 "nbformat": 4,
 "nbformat_minor": 2
}
