{
 "cells": [
  {
   "cell_type": "markdown",
   "metadata": {},
   "source": [
    "# Fonctions"
   ]
  },
  {
   "cell_type": "markdown",
   "metadata": {},
   "source": [
    "## Exercice 1 On reprend l'exemple du cours\n",
    "Exécuter le code et corriger l'erreur."
   ]
  },
  {
   "cell_type": "code",
   "execution_count": null,
   "metadata": {},
   "outputs": [],
   "source": [
    "def perimetre(largeur, longueur):\n",
    "    \"\"\" int, int -> int\n",
    "        précondition : (longueur >= 0) and (largeur >= 0)\n",
    "        précondition : longueur >= largeur\n",
    "        retourne le perimetre du rectangle defini par sa largeur\n",
    "        et sa longueur\"\"\"\n",
    "    return 2 * (largeur + longueur)\n",
    "# Jeux de tests\n",
    "assert perimetre(2, 3) == 10\n",
    "assert perimetre(4, 9) == 26\n",
    "assert perimetre(0, 0) == 0\n",
    "assert perimetre(0, 8) == 16"
   ]
  },
  {
   "cell_type": "markdown",
   "metadata": {},
   "source": [
    "## Pour obtenir des informations sur la fonction, il suffit d'executer la commande help :"
   ]
  },
  {
   "cell_type": "code",
   "execution_count": null,
   "metadata": {},
   "outputs": [],
   "source": [
    "help(perimetre)"
   ]
  },
  {
   "cell_type": "markdown",
   "metadata": {},
   "source": [
    "## On peut faire ça avec toutes les fonctions python"
   ]
  },
  {
   "cell_type": "code",
   "execution_count": null,
   "metadata": {},
   "outputs": [],
   "source": [
    "help(max)"
   ]
  },
  {
   "cell_type": "markdown",
   "metadata": {},
   "source": [
    "#### Remarque : On vérifier automatiquement les préconditionsà l'aide d'assert.\n",
    "Par exemple"
   ]
  },
  {
   "cell_type": "code",
   "execution_count": 1,
   "metadata": {},
   "outputs": [],
   "source": [
    "def perimetre(largeur, longueur):\n",
    "    \"\"\" int, int -> int\n",
    "        précondition : (longueur >= 0) and (largeur >= 0)\n",
    "        précondition : longueur >= largeur\n",
    "        retourne le perimetre du rectangle defini par sa largeur\n",
    "        et sa longueur\"\"\"\n",
    "    assert (longueur >= 0) and (largeur >= 0)\n",
    "    assert longueur >= largeur\n",
    "    return 2 * (largeur + longueur)"
   ]
  },
  {
   "cell_type": "code",
   "execution_count": null,
   "metadata": {},
   "outputs": [],
   "source": [
    "perimetre(5, 4)"
   ]
  },
  {
   "cell_type": "code",
   "execution_count": null,
   "metadata": {},
   "outputs": [],
   "source": [
    "perimetre(-4, 5)"
   ]
  },
  {
   "cell_type": "markdown",
   "metadata": {},
   "source": [
    "## Exercice 2 Fonction surface\n",
    "À l'aide de la fonction perimère, définir proprement la fonction surface. On écrira le jeux de tests correspondants."
   ]
  },
  {
   "cell_type": "code",
   "execution_count": null,
   "metadata": {},
   "outputs": [],
   "source": [
    "def surface(longueur, largeur):\n",
    "    pass #Avant d'écrire la fonction, il faut supprimer cette ligne"
   ]
  },
  {
   "cell_type": "code",
   "execution_count": null,
   "metadata": {},
   "outputs": [],
   "source": [
    "surf = surface(5,4)\n",
    "print(surf)"
   ]
  },
  {
   "cell_type": "markdown",
   "metadata": {},
   "source": [
    "## Exercice 3 Même signe\n",
    "Reprendre la fonction meme_signe de la feuille d'exercices L'écrire et vérifier qu'elle fonctionne."
   ]
  },
  {
   "cell_type": "code",
   "execution_count": null,
   "metadata": {},
   "outputs": [],
   "source": [
    "def meme_signe(nombre1, nombre2):\n",
    "    pass #Avant d'écrire la fonction, il faut supprimer cette ligne"
   ]
  },
  {
   "cell_type": "code",
   "execution_count": null,
   "metadata": {},
   "outputs": [],
   "source": [
    "a_le_meme_signe = meme_signe(5,-6)\n",
    "print(a_le_meme_signe)"
   ]
  },
  {
   "cell_type": "markdown",
   "metadata": {},
   "source": [
    "## Exercice 4 Xor\n",
    "Écrire la fonction xor qui prend en argument deux booléens bool1 et bool2 et retourne le booléen a xor b"
   ]
  },
  {
   "cell_type": "code",
   "execution_count": 1,
   "metadata": {},
   "outputs": [],
   "source": [
    "def xor(bool1, bool2):\n",
    "    \"\"\"bool, bool -> bool\n",
    "       retourne la valeur du booléen bool1 xor bool2\n",
    "    \"\"\"\n",
    "assert xor(True, True) == False\n",
    "assert xor(True, False) == True\n",
    "assert xor(False, False) == False\n",
    "assert xor(False, True) == True"
   ]
  },
  {
   "cell_type": "markdown",
   "metadata": {},
   "source": [
    "## Exercice 5 La bibliothèque turtle\n",
    "Importer cette bibliothèque (on utilisera import)"
   ]
  },
  {
   "cell_type": "code",
   "execution_count": null,
   "metadata": {},
   "outputs": [],
   "source": []
  },
  {
   "cell_type": "markdown",
   "metadata": {},
   "source": [
    "Afficher toutes les fonctions de cette bibliothèque"
   ]
  },
  {
   "cell_type": "code",
   "execution_count": null,
   "metadata": {},
   "outputs": [],
   "source": []
  },
  {
   "cell_type": "markdown",
   "metadata": {},
   "source": [
    "Exécuter le code suivant :"
   ]
  },
  {
   "cell_type": "code",
   "execution_count": null,
   "metadata": {},
   "outputs": [],
   "source": [
    "turtle.reset()\n",
    "turtle.fd(100)\n",
    "turtle.rt(90)\n",
    "turtle.fd(100)"
   ]
  },
  {
   "cell_type": "markdown",
   "metadata": {},
   "source": [
    "Afficher l'aide des fonctions/procédures de reset, fd et rt de turtle"
   ]
  },
  {
   "cell_type": "code",
   "execution_count": null,
   "metadata": {},
   "outputs": [],
   "source": []
  },
  {
   "cell_type": "markdown",
   "metadata": {},
   "source": [
    "Écrire une procédure carre qui prend en argument un nombre cote et affiche un carré de taille le nombre cote"
   ]
  },
  {
   "cell_type": "code",
   "execution_count": null,
   "metadata": {},
   "outputs": [],
   "source": [
    "def carre(cote):\n",
    "    pass #Avant d'écrire la fonction, il faut supprimer cette ligne"
   ]
  },
  {
   "cell_type": "markdown",
   "metadata": {},
   "source": [
    "Écrire une nouvelle procédure carre_de_centre qui prend en plus en arguements des coordonnées x et y qui sont les coordonnées du centre de ce carré."
   ]
  },
  {
   "cell_type": "code",
   "execution_count": null,
   "metadata": {},
   "outputs": [],
   "source": [
    "def carre_de_centre(x, y, cote):\n",
    "    pass #Avant d'écrire la fonction, il faut supprimer cette ligne"
   ]
  },
  {
   "cell_type": "markdown",
   "metadata": {},
   "source": [
    "## Exercice 6 Bibliothèques mathématiques\n",
    "Importer la bibliothèque math"
   ]
  },
  {
   "cell_type": "code",
   "execution_count": null,
   "metadata": {},
   "outputs": [],
   "source": []
  },
  {
   "cell_type": "markdown",
   "metadata": {},
   "source": [
    "Afficher toutes les fonctions de cette bibliothèque"
   ]
  },
  {
   "cell_type": "code",
   "execution_count": null,
   "metadata": {},
   "outputs": [],
   "source": []
  },
  {
   "cell_type": "markdown",
   "metadata": {},
   "source": [
    "Afficher l'aide pour la fonction sqrt"
   ]
  },
  {
   "cell_type": "code",
   "execution_count": null,
   "metadata": {},
   "outputs": [],
   "source": []
  },
  {
   "cell_type": "markdown",
   "metadata": {},
   "source": [
    "Écrire la fonction f qui prend en arguement x et retourne $x\\mapsto {x+\\sqrt{x-1}}$"
   ]
  },
  {
   "cell_type": "code",
   "execution_count": null,
   "metadata": {},
   "outputs": [],
   "source": []
  },
  {
   "cell_type": "markdown",
   "metadata": {},
   "source": [
    "Exécuter le code suivant : "
   ]
  },
  {
   "cell_type": "code",
   "execution_count": null,
   "metadata": {},
   "outputs": [],
   "source": [
    "f(0.5)"
   ]
  },
  {
   "cell_type": "markdown",
   "metadata": {},
   "source": [
    "Expliquer ce qui c'est passé et modifier les préconditions si ce n'est pas fait.\n",
    "\n"
   ]
  },
  {
   "cell_type": "code",
   "execution_count": null,
   "metadata": {},
   "outputs": [],
   "source": []
  }
 ],
 "metadata": {
  "kernelspec": {
   "display_name": "Python 3",
   "language": "python",
   "name": "python3"
  },
  "language_info": {
   "codemirror_mode": {
    "name": "ipython",
    "version": 3
   },
   "file_extension": ".py",
   "mimetype": "text/x-python",
   "name": "python",
   "nbconvert_exporter": "python",
   "pygments_lexer": "ipython3",
   "version": "3.7.4"
  }
 },
 "nbformat": 4,
 "nbformat_minor": 2
}
