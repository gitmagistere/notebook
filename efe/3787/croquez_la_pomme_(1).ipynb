{
  "nbformat": 4,
  "nbformat_minor": 0,
  "metadata": {
    "colab": {
      "name": "croquez la pomme.ipynb",
      "provenance": [],
      "toc_visible": true
    },
    "kernelspec": {
      "name": "python3",
      "display_name": "Python 3"
    }
  },
  "cells": [
    {
      "cell_type": "markdown",
      "metadata": {
        "id": "5ISm1KZSFIAb",
        "colab_type": "text"
      },
      "source": [
        "# **Le traitement de l'image**"
      ]
    },
    {
      "cell_type": "markdown",
      "metadata": {
        "id": "z1hW_MibDmso",
        "colab_type": "text"
      },
      "source": [
        "Vous allez travailler sur les pixels d'une image en utilisant le langage de programmation Python pour modifier la couleur de la pomme.\n",
        "![Google's logo](https://snt.eemcp2.fr/img/pomme.jpg)"
      ]
    },
    {
      "cell_type": "markdown",
      "metadata": {
        "id": "-69YTFPSFY0k",
        "colab_type": "text"
      },
      "source": [
        "**Activité 1** : \n",
        "Saisir le code suivant, en dessous dans la fenêtre d'exécution:\n",
        "\n",
        "from PIL import Image\n",
        "\n",
        "img = Image.open(\"pomme.jpg\")\n",
        "\n",
        "r,v,b=img.getpixel((100,250))\n",
        "\n",
        "print(\"rouge : \",r,\"vert : \",v,\"bleu : \",b)"
      ]
    },
    {
      "cell_type": "markdown",
      "metadata": {
        "colab_type": "text",
        "id": "gcVxroJA3bnP"
      },
      "source": [
        "# 1 - Obtenez les couleurs r,v,et b d'un pixel"
      ]
    },
    {
      "cell_type": "markdown",
      "metadata": {
        "id": "MgpihJCeF64P",
        "colab_type": "text"
      },
      "source": [
        "Testez votre programme :"
      ]
    },
    {
      "cell_type": "code",
      "metadata": {
        "id": "q46UE3rAChUB",
        "colab_type": "code",
        "outputId": "8f0229a8-8b7b-48ba-b99b-685272242ed7",
        "colab": {
          "base_uri": "https://localhost:8080/",
          "height": 34
        }
      },
      "source": [
        "from PIL import Image\n",
        "img=Image.open(\"pomme.jpg\")\n",
        "r,v,b=img.getpixel((250,250))\n",
        "print(\"rouge:\",r,\"vert:\",v,\"bleu:\",b)"
      ],
      "execution_count": 0,
      "outputs": [
        {
          "output_type": "stream",
          "text": [
            "rouge: 106 vert: 140 bleu: 2\n"
          ],
          "name": "stdout"
        }
      ]
    },
    {
      "cell_type": "markdown",
      "metadata": {
        "colab_type": "text",
        "id": "Pbf3ArBf3zVT"
      },
      "source": [
        "# 2 -Changez la couleur d'un pixel"
      ]
    },
    {
      "cell_type": "code",
      "metadata": {
        "colab_type": "code",
        "id": "CaZ6V8AK4AcF",
        "colab": {}
      },
      "source": [
        "from PIL import Image\n",
        "img=Image.open(\"pomme.jpg\")\n",
        "img.putpixel((250,250),(255,0,0))\n",
        "img.save(\"pommepixlr.bmp\")"
      ],
      "execution_count": 0,
      "outputs": []
    },
    {
      "cell_type": "markdown",
      "metadata": {
        "colab_type": "text",
        "id": "GMGnl9m34s-x"
      },
      "source": [
        "# 3 -Transformez la pomme verte en pomme violette"
      ]
    },
    {
      "cell_type": "code",
      "metadata": {
        "colab_type": "code",
        "id": "KOgiqhqd40tL",
        "colab": {}
      },
      "source": [
        "from PIL import Image\n",
        "img = Image.open(\"pomme.jpg\")\n",
        "largeur_image=500\n",
        "hauteur_image=500\n",
        "for y in range(hauteur_image):\n",
        "  for x in range(largeur_image):\n",
        "    r,v,b=img.getpixel((x,y))\n",
        "    n_r=v\n",
        "    n_v=b\n",
        "    n_b=r\n",
        "    img.putpixel((x,y),(n_r,n_v,n_b))\n",
        "img.show()\n",
        "img.save(\"pommeviolette.bmp\")"
      ],
      "execution_count": 0,
      "outputs": []
    },
    {
      "cell_type": "markdown",
      "metadata": {
        "id": "vLB0Ew4902Zr",
        "colab_type": "text"
      },
      "source": [
        "# 4 -Transformez la pomme verte en image négative"
      ]
    },
    {
      "cell_type": "code",
      "metadata": {
        "id": "q3Kp4lxlzemV",
        "colab_type": "code",
        "colab": {}
      },
      "source": [
        "from PIL import Image\n",
        "img = Image.open(\"pomme.jpg\")\n",
        "largeur_image=500\n",
        "hauteur_image=500\n",
        "for y in range(hauteur_image):\n",
        "    for x in range(largeur_image):\n",
        "        r,v,b=img.getpixel((x,y))\n",
        "        n_r=255-r\n",
        "        n_v=255-v\n",
        "        n_b=255-b\n",
        "        img.putpixel((x,y),(n_r,n_v,n_b))\n",
        "img.show()\n",
        "img.save(\"lignnegatif.jpg\")"
      ],
      "execution_count": 0,
      "outputs": []
    },
    {
      "cell_type": "markdown",
      "metadata": {
        "colab_type": "text",
        "id": "MsFDKI_v1dhx"
      },
      "source": [
        "# 5 -Transformez la pomme verte en noir & blanc"
      ]
    },
    {
      "cell_type": "code",
      "metadata": {
        "colab_type": "code",
        "id": "8u0VJRcn1YlI",
        "colab": {}
      },
      "source": [
        "from PIL import Image\n",
        "img = Image.open(\"pomme.jpg\")\n",
        "largeur_image=500\n",
        "hauteur_image=500\n",
        "taille = (largeur_image, hauteur_image)\n",
        "from PIL import Image\n",
        "imgnb = Image.new('L',taille)\n",
        "for y in range(hauteur_image):\n",
        "    for x in range(largeur_image):\n",
        "        r,v,b=img.getpixel((x,y))\n",
        "        g= int(0.2126*r+0.7152*v+0.0722*b)\n",
        "        #g=(r+v+b)//3\n",
        "        #g = v\n",
        "        imgnb.putpixel((x,y), g)\n",
        "imgnb.show()\n",
        "imgnb.save(\"pommen&b_sol1.png\")"
      ],
      "execution_count": 0,
      "outputs": []
    }
  ]
}