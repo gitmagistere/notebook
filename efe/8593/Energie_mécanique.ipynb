{
 "cells": [
  {
   "cell_type": "markdown",
   "id": "5053c632",
   "metadata": {},
   "source": [
    "# Chute d'un objet"
   ]
  },
  {
   "cell_type": "raw",
   "id": "4df16e6a",
   "metadata": {},
   "source": [
    "On étudie la chute d'un objet."
   ]
  },
  {
   "cell_type": "raw",
   "id": "beef7d71",
   "metadata": {},
   "source": [
    "L'objectif est de déterminer si cet objet est en chute libre. "
   ]
  },
  {
   "cell_type": "raw",
   "id": "a1948e13",
   "metadata": {},
   "source": [
    "Pour cela, on va tracer à l'aide de Python et des valeurs relevées lors de la chronophotographie de l'objet, son énergie mécanique Em."
   ]
  },
  {
   "attachments": {
    "tableau.png": {
     "image/png": "[encoded data removed]"
    }
   },
   "cell_type": "markdown",
   "id": "526c0758",
   "metadata": {},
   "source": [
    "![tableau.png](attachment:tableau.png)"
   ]
  },
  {
   "cell_type": "raw",
   "id": "65c261ee",
   "metadata": {},
   "source": [
    "Ci-dessous, il vous est proposé un programme pour déterminer l'énergie mécanique de l'objet et tracer Em en fonction du temps."
   ]
  },
  {
   "cell_type": "raw",
   "id": "586c1d8c",
   "metadata": {},
   "source": [
    "Compléter le programme afin qu'il affiche le résultat. On prendra m = 3 kg pour l'objet et g = 9,81 N/kg pour l'accélération de la pesanteur."
   ]
  },
  {
   "cell_type": "code",
   "execution_count": null,
   "id": "4c5558c0",
   "metadata": {},
   "outputs": [],
   "source": [
    "import                         # Importer la bibliothèque qui vous permet de tracer des courbes\n",
    "\n",
    "# On rentre toutes les valeurs connues et nécessaires pour faire fonctionner le programme\n",
    "t = [0,1,2,3,4,5,6]\n",
    "vitesse = [-1, -1.9, -2.9, -3.9, -4.9, -5.8, -6.9]\n",
    "position_y= [    ]           # Valeurs de l'altitude à compléter\n",
    "m =                          # Masse en kg à compléter\n",
    "g =                          # Valeur de l'accélération de la pesanteur à compléter\n",
    "\n",
    "# Détermination de EC\n",
    "Ec = []                                                # Création d'une liste vide pour Ec\n",
    "for v in vitesse:                                      # Création d'une boucle pour calculer Ec\n",
    "    Ec.append(# formule de l'énergie cinétique #)      # A compléter - Calcul de Ec pour chaque valeur et ajout à la liste\n",
    "\n",
    "# Détermination de Epp\n",
    "Epp = []                                               # Création d'une liste vide pour Epp\n",
    "for y in position_y:                                   # Création d'une boucle pour calculer Ep\n",
    "    Epp.append(m*g*y)                                  # Calcul de Epp pour chaque valeur et ajout à la liste\n",
    "    \n",
    "# Détermination de Em\n",
    "# En s'inspirant des lignes précédentes, compléter ci-dessous le programme pour calculer Em\n",
    "....\n",
    "\n",
    "print (Ec,\"\\n\",Epp,\"\\n\",Em)           # Affiche les valeurs de Ec,Epp et Em les uns sous les autres\n"
   ]
  },
  {
   "cell_type": "raw",
   "id": "62668acd",
   "metadata": {},
   "source": [
    "Une fois le programme ci-dessus complété, cliquer sur >Exécuter pour vérifier qu'il fonctionne."
   ]
  },
  {
   "cell_type": "raw",
   "id": "d4f2e26c",
   "metadata": {},
   "source": [
    "Tracé des graphes Ec, Epp et Em en fonction du temps :"
   ]
  },
  {
   "cell_type": "code",
   "execution_count": null,
   "id": "ed46d543",
   "metadata": {},
   "outputs": [],
   "source": [
    "...                             # Afficher Ec en triangles bleus, non reliés\n",
    "...                             # Afficher Epp en ronds verts, non reliés\n",
    "...                             # Afficher Em en croix rouges reliées\n",
    "...                             # Afficher le titre \"Ec,Epp et Em en fonction du temps\"\n",
    "...                             # Donner un nom à l'axe des x\n",
    "...                             # Donner un nom à l'axe des x\n"
   ]
  }
 ],
 "metadata": {
  "kernelspec": {
   "display_name": "Python 3 (ipykernel)",
   "language": "python",
   "name": "python3"
  },
  "language_info": {
   "codemirror_mode": {
    "name": "ipython",
    "version": 3
   },
   "file_extension": ".py",
   "mimetype": "text/x-python",
   "name": "python",
   "nbconvert_exporter": "python",
   "pygments_lexer": "ipython3",
   "version": "3.9.13"
  }
 },
 "nbformat": 4,
 "nbformat_minor": 5
}
