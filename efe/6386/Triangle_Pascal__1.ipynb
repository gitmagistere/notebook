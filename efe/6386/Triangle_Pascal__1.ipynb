{
 "cells": [
  {
   "cell_type": "markdown",
   "metadata": {
    "colab_type": "text",
    "id": "231fXunSn0rX"
   },
   "source": [
    "**Objectifs de ces premiers algorithmes:**\n",
    "- cerner quelques défauts fréquents de programmation chez les programmeurs débutants;\n",
    "- ne pas chercher à déterminer le \"meilleur\" algorithme\n",
    "\n",
    "Tout en s'appuyant sur des notions mathématiques au programme de Terminale (spécialité et complémentaires):\n",
    "- factorielle ;\n",
    "- combinaison ;\n",
    "- triangle de Pascal (sans utiliser la formule de Pascal)\n"
   ]
  },
  {
   "cell_type": "markdown",
   "metadata": {
    "colab_type": "text",
    "id": "lui2LZBcn0rY"
   },
   "source": [
    "**Algorithme 1**\n",
    "\n",
    "1) Quel affichage obtient-on après avoir exécuté le script ci-dessous ?"
   ]
  },
  {
   "cell_type": "code",
   "execution_count": 7,
   "metadata": {
    "colab": {
     "base_uri": "https://localhost:8080/",
     "height": 137
    },
    "colab_type": "code",
    "executionInfo": {
     "elapsed": 656,
     "status": "ok",
     "timestamp": 1599836574692,
     "user": {
      "displayName": "Nicolas Villemain",
      "photoUrl": "https://lh3.googleusercontent.com/a-/AOh14GhosLCD7TNXIicI9ysG3-wS6ryzM_z6KY9tkdv1zw=s64",
      "userId": "04387918536229145814"
     },
     "user_tz": 240
    },
    "id": "DQqCbeyen0rZ",
    "outputId": "150d23ee-e94c-4b4c-c7ee-9137b63e947a"
   },
   "outputs": [
    {
     "name": "stdout",
     "output_type": "stream",
     "text": [
      "1 \n",
      "1 1 \n",
      "1 2 1 \n",
      "1 3 3 1 \n",
      "1 4 6 4 1 \n",
      "1 5 10 10 5 1 \n",
      "1 6 15 20 15 6 1 \n"
     ]
    }
   ],
   "source": [
    "for n in range(7):\n",
    "    for p in range(n+1):\n",
    "        c=1\n",
    "        for i in range(1,n+1):\n",
    "            c *= i\n",
    "        h = 1\n",
    "        for i in range(1,p+1):\n",
    "            h *= i\n",
    "        y = 1\n",
    "        for i in range(1,n-p+1):\n",
    "            y *= i\n",
    "        print(c//(h * y),end=' ')\n",
    "    print()"
   ]
  },
  {
   "cell_type": "markdown",
   "metadata": {
    "colab_type": "text",
    "id": "-Fmjh3Qhn0rd"
   },
   "source": [
    "2) Exécuter ce script afin de vérifier votre résultat.\n",
    "\n",
    "3) Enumérer les nombreux défauts de ce script.\n",
    "\n"
   ]
  },
  {
   "cell_type": "markdown",
   "metadata": {
    "colab_type": "text",
    "id": "KCybgkd7n0rd"
   },
   "source": [
    "**Algorithme 2**\n",
    "\n",
    "1) Quel affichage obtient-on après avoir exécuté le script ci-dessous ?"
   ]
  },
  {
   "cell_type": "code",
   "execution_count": 5,
   "metadata": {
    "colab": {
     "base_uri": "https://localhost:8080/",
     "height": 137
    },
    "colab_type": "code",
    "executionInfo": {
     "elapsed": 1219,
     "status": "ok",
     "timestamp": 1599836688151,
     "user": {
      "displayName": "Nicolas Villemain",
      "photoUrl": "https://lh3.googleusercontent.com/a-/AOh14GhosLCD7TNXIicI9ysG3-wS6ryzM_z6KY9tkdv1zw=s64",
      "userId": "04387918536229145814"
     },
     "user_tz": 240
    },
    "id": "nR8tn1Gqn0re",
    "outputId": "2dc80be7-e0db-498a-93bb-7ba1dbdc0daa"
   },
   "outputs": [
    {
     "name": "stdout",
     "output_type": "stream",
     "text": [
      "1 \n",
      "1 1 \n",
      "1 2 1 \n",
      "1 3 3 1 \n",
      "1 4 6 4 1 \n",
      "1 5 10 10 5 1 \n",
      "1 6 15 20 15 6 1 \n"
     ]
    }
   ],
   "source": [
    "for n in range(7):\n",
    "    for p in range(n+1):\n",
    "        factn = 1\n",
    "        for i in range(1, n+1):\n",
    "            factn *= i\n",
    "        factp = 1\n",
    "        for i in range(1, p+1):\n",
    "            factp *= i\n",
    "        factn_moins_p = 1\n",
    "        for i in range(1, n-p+1):\n",
    "            factn_moins_p *= i\n",
    "        print(factn//(factp*factn_moins_p), end=' ')\n",
    "    print()"
   ]
  },
  {
   "cell_type": "markdown",
   "metadata": {
    "colab_type": "text",
    "id": "crUsU6uHn0rh"
   },
   "source": [
    "2) Exécuter ce script afin de vérifier votre résultat.\n",
    "\n",
    "3) Quelles améliorations ont été apportées au script précédent ?\n",
    "\n",
    "4) En quoi cet algorithme ne correspond-il pas à la philosophie du programme de Terminal ?\n",
    "\n",
    "5) Quels types d'objets permettraient un affichage \"similaire\" sans utiliser la fonction \"print\" ?\n"
   ]
  },
  {
   "cell_type": "markdown",
   "metadata": {
    "colab_type": "text",
    "id": "W9WB5KZMn0rh"
   },
   "source": [
    "**Algorithme 3**\n",
    "\n",
    "Produire un algorithme répondant aux conditions suivantes:\n",
    "- créer et utiliser une fonction renvoyant la factorielle d'un entier naturel\n",
    "- créer et utiliser une fonction renvoyant le coefficient binomial\n",
    "- créer une fonction qui renvoie sous forme de liste de listes le \"Triangle de Pascal\" et utilise les fonctions précédemment créées\n",
    "- spécifier vos fonctions\n",
    "\n"
   ]
  },
  {
   "cell_type": "code",
   "execution_count": null,
   "metadata": {
    "colab": {},
    "colab_type": "code",
    "id": "peq0J93Nn0ri"
   },
   "outputs": [],
   "source": [
    "\"\"\"\n",
    "Vous pouvez tester votre script ci-dessous\n",
    "\"\"\"\n",
    "\n",
    "\n"
   ]
  }
 ],
 "metadata": {
  "colab": {
   "name": "Triangle_Pascal__1_stagiaire.ipynb",
   "provenance": []
  },
  "kernelspec": {
   "display_name": "Python 3",
   "language": "python",
   "name": "python3"
  },
  "language_info": {
   "codemirror_mode": {
    "name": "ipython",
    "version": 3
   },
   "file_extension": ".py",
   "mimetype": "text/x-python",
   "name": "python",
   "nbconvert_exporter": "python",
   "pygments_lexer": "ipython3",
   "version": "3.8.8"
  }
 },
 "nbformat": 4,
 "nbformat_minor": 1
}
