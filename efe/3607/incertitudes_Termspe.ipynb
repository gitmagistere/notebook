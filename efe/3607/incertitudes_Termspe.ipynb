{
  "nbformat": 4,
  "nbformat_minor": 0,
  "metadata": {
    "colab": {
      "name": "incertitudes_Termspe.ipynb",
      "provenance": [],
      "collapsed_sections": []
    },
    "kernelspec": {
      "name": "python3",
      "display_name": "Python 3"
    }
  },
  "cells": [
    {
      "cell_type": "markdown",
      "metadata": {
        "id": "W15Hjil5Z3ZX",
        "colab_type": "text"
      },
      "source": [
        "# Incertitudes en Terminale. Méthodes de Montecarlo.\n",
        "En utilisant l'instruction de la bibilothèque numpy **random.uniform(Valeur1,Valeur2, Nombre)** qui tire N nombres au hasard entre les valeurs 1 et 2, et les mets dans une liste,  estimer la valeur et l'incertitude-type sur l'intensité de pesanteur g.\n",
        "Puis représenter la dispersion des valeurs g obtenues par un histogramme en appelant l'instruction **hist()** de la bibliothèque matplotlib.pyplot \n"
      ]
    },
    {
      "cell_type": "code",
      "metadata": {
        "id": "E1x9nmKRV91E",
        "colab_type": "code",
        "colab": {}
      },
      "source": [
        "import numpy as np\n",
        "import matplotlib.pyplot as plt\n",
        " "
      ],
      "execution_count": 0,
      "outputs": []
    }
  ]
}