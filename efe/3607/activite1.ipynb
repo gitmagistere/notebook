{
  "nbformat": 4,
  "nbformat_minor": 0,
  "metadata": {
    "kernelspec": {
      "display_name": "Python 3",
      "language": "python",
      "name": "python3"
    },
    "language_info": {
      "codemirror_mode": {
        "name": "ipython",
        "version": 3
      },
      "file_extension": ".py",
      "mimetype": "text/x-python",
      "name": "python",
      "nbconvert_exporter": "python",
      "pygments_lexer": "ipython3",
      "version": "3.7.1"
    },
    "colab": {
      "name": "activite1.ipynb",
      "provenance": [],
      "collapsed_sections": []
    }
  },
  "cells": [
    {
      "cell_type": "markdown",
      "metadata": {
        "id": "i0ZzFRTBbVp9",
        "colab_type": "text"
      },
      "source": [
        "# Activité 1\n",
        "## Saut en parachute \n",
        "Le code source ci-dessous permet l'affichage du graphique représentant l'évolution de la valeur v de la vitesse d'un parachutiste supposé en chute libre en fonction de la hauteur h de sa chute. \n",
        "\n",
        "Modifier ce code source afin d'afficher le graphique représentant l'évolution de la valeur v de la vitesse d'une balle modélisée par un point matériel de masse m = 58 g lâchée en chute libre à 1,50 m du sol en fonction de l'altitude z de la balle par rapport au sol. L'axe des altitudes est orienté vers le haut et l'origine est située au sol. "
      ]
    },
    {
      "cell_type": "code",
      "metadata": {
        "id": "jLN7dInUbVqA",
        "colab_type": "code",
        "colab": {}
      },
      "source": [
        "import numpy as np \n",
        "import matplotlib.pyplot as plt\n",
        " \n",
        "\n",
        "\n",
        "m=0.058         # masse de la balle\n",
        "g=9.81          # intensité de la pesanteur terrestre en N/kg\n",
        "z_0=3000        # altitude de départ en m\n",
        "z_p=2000        # altitude du sol\n",
        "v_0=0           # valeur de la vitesse initiale de chute\n",
        "\n",
        "\n",
        "h=np.linspace(0,z_0-z_p,1001) # définition des abcisses (en m)\n",
        "\n",
        "\n",
        "def v(h_i):         # définition de la fonction à représenter\n",
        "    Em_0=1/2*m*v_0**2+m*g*z_0\n",
        "    Epp_h=m*g*(z_0-h_i)\n",
        "    Ec_h=Em_0-Epp_h\n",
        "    return np.sqrt(2*Ec_h/m)\n",
        "\n",
        "\n",
        "v = [v(h_i) for h_i in h]  # définition des ordonnées (en m/s)\n",
        "\n",
        "plt.plot(h,v)                   # graphique des points de coordonnées dans h et v\n",
        "plt.xlabel('Hauteur de chute (en m)')   # légende axe abcisses\n",
        "plt.ylabel('Valeur de la vitesse (en m/s)') #légende axe des ordonnées\n",
        "plt.grid()          # insère une grille\n",
        "plt.title('v=f(h)') # titre de la courbe\n",
        "plt.show()         # affiche la figure\n",
        "\n"
      ],
      "execution_count": 0,
      "outputs": []
    }
  ]
}