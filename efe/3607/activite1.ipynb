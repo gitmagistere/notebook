{
  "nbformat": 4,
  "nbformat_minor": 0,
  "metadata": {
    "kernelspec": {
      "display_name": "Python 3",
      "language": "python",
      "name": "python3"
    },
    "language_info": {
      "codemirror_mode": {
        "name": "ipython",
        "version": 3
      },
      "file_extension": ".py",
      "mimetype": "text/x-python",
      "name": "python",
      "nbconvert_exporter": "python",
      "pygments_lexer": "ipython3",
      "version": "3.7.1"
    },
    "colab": {
      "name": "activite1.ipynb",
      "provenance": [],
      "collapsed_sections": []
    }
  },
  "cells": [
    {
      "cell_type": "markdown",
      "metadata": {
        "id": "i0ZzFRTBbVp9",
        "colab_type": "text"
      },
      "source": [
        "# Activité 1\n",
        "## Saut en parachute \n",
        "On souhaite représenter  l'évolution de la valeur v de la vitesse d'un parachutiste supposé en chute libre en fonction de la hauteur h de sa chute. \n",
        "Ce dernier commence sa chute à une altitude de 3000m avec une vitesse initiale nulle. On étudie son mouvement de chute libre jusqu'à une altitude de 2000 m. \n",
        "\n",
        "Compléter le code source ci-dessous afin de créer une fonction v(h_i) qui permet d'évaluer la valeur de la vitesse v du parachutiste en fonction de la hauteur h_i de la chute. \n",
        "On partira de la conservation de l'énergie mécanique pour compléter les pointillés dans la fonction v(h_i).  \n",
        "L'axe des altitudes (Oz) est orienté vers le haut et son origine est située au niveau du sol. "
      ]
    },
    {
      "cell_type": "code",
      "metadata": {
        "id": "jLN7dInUbVqA",
        "colab_type": "code",
        "colab": {}
      },
      "source": [
        "import numpy as np \n",
        "import matplotlib.pyplot as plt\n",
        " \n",
        "\n",
        "\n",
        "m=70            # masse du parachutiste en kg\n",
        "g=9.81          # intensité de la pesanteur terrestre en N/kg\n",
        "z_0=3000        # altitude de départ en m\n",
        "z_p=2000        # altitude de fin de l'étude du saut en m\n",
        "v_0=0           # valeur de la vitesse initiale de chute\n",
        "\n",
        "\n",
        "h=np.linspace(0,z_0-z_p,1001) # définition des abcisses (en m)\n",
        "\n",
        "\n",
        "def v(h_i):         # définition de la fonction à représenter\n",
        "    Em_0=........          # Energie mécanique initiale : à compléter\n",
        "    Epp_h=m.........       # Energie potentielle de pesanteur en fonction de la hauteur de la chute : à compléter\n",
        "    Ec_h=...........       # Energie cinétique en fonction des énergies ci-dessus : à compléter\n",
        "    return np.sqrt(2*Ec_h/m)\n",
        "\n",
        "\n",
        "v = [v(h_i) for h_i in h]  # définition des ordonnées (en m/s)\n",
        "\n",
        "plt.plot(h,v)                   # graphique des points de coordonnées dans h et v\n",
        "plt.xlabel('Hauteur de chute (en m)')   # légende axe abcisses\n",
        "plt.ylabel('Valeur de la vitesse (en m/s)') #légende axe des ordonnées\n",
        "plt.grid()          # insère une grille\n",
        "plt.title('v=f(h)') # titre de la courbe\n",
        "plt.show()         # affiche la figure\n",
        "\n"
      ],
      "execution_count": 0,
      "outputs": []
    }
  ]
}