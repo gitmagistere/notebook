{
  "nbformat": 4,
  "nbformat_minor": 0,
  "metadata": {
    "colab": {
      "name": "Activités_débutant.ipynb",
      "provenance": []
    },
    "kernelspec": {
      "name": "python3",
      "display_name": "Python 3"
    }
  },
  "cells": [
    {
      "cell_type": "markdown",
      "metadata": {
        "id": "4KFoNcIi132W",
        "colab_type": "text"
      },
      "source": [
        "# Vous pouvez commencer à effectuer vos lignes de code ci-dessous. "
      ]
    },
    {
      "cell_type": "markdown",
      "metadata": {
        "id": "EUufbwZD19UF",
        "colab_type": "text"
      },
      "source": [
        "Exercice 1"
      ]
    },
    {
      "cell_type": "code",
      "metadata": {
        "id": "gE4Y8FGa13K9",
        "colab_type": "code",
        "colab": {}
      },
      "source": [
        ""
      ],
      "execution_count": 0,
      "outputs": []
    },
    {
      "cell_type": "markdown",
      "metadata": {
        "id": "bxKziAJP2Cmf",
        "colab_type": "text"
      },
      "source": [
        "Exercice 2"
      ]
    },
    {
      "cell_type": "code",
      "metadata": {
        "id": "MMUp5cMb2KVM",
        "colab_type": "code",
        "colab": {}
      },
      "source": [
        ""
      ],
      "execution_count": 0,
      "outputs": []
    },
    {
      "cell_type": "markdown",
      "metadata": {
        "id": "f-hT_Svc2UhB",
        "colab_type": "text"
      },
      "source": [
        "Exercice 3"
      ]
    },
    {
      "cell_type": "code",
      "metadata": {
        "id": "-4pUFFnu2Xmw",
        "colab_type": "code",
        "colab": {}
      },
      "source": [
        ""
      ],
      "execution_count": 0,
      "outputs": []
    }
  ]
}