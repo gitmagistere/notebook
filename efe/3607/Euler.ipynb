{
  "nbformat": 4,
  "nbformat_minor": 0,
  "metadata": {
    "kernelspec": {
      "display_name": "Python 3",
      "language": "python",
      "name": "python3"
    },
    "language_info": {
      "codemirror_mode": {
        "name": "ipython",
        "version": 3
      },
      "file_extension": ".py",
      "mimetype": "text/x-python",
      "name": "python",
      "nbconvert_exporter": "python",
      "pygments_lexer": "ipython3",
      "version": "3.7.0"
    },
    "colab": {
      "name": "Euler.ipynb",
      "provenance": [],
      "collapsed_sections": []
    }
  },
  "cells": [
    {
      "cell_type": "markdown",
      "metadata": {
        "id": "EGB3cnJlf3db",
        "colab_type": "text"
      },
      "source": [
        "# Activité : résolution d'une équation différentielle avec la méthode d'Euler. \n",
        "Dans cette activité, on va s'intéresser à la chute libre d'une balle de tennis, sans vitesse initiale et sans prendre en compte les frottements de l'air, jusqu'au moment où elle touche le sol.\n",
        "Tracer sur le même graphique les évolutions de la position verticale de la balle de tennis en fonction du temps obtenues numériquement (Euler) et analytiquement afin de les comparer. Afficher à la fin le nombre d'itérations utilisées. "
      ]
    },
    {
      "cell_type": "code",
      "metadata": {
        "id": "5hzBnvphfAWV",
        "colab_type": "code",
        "colab": {}
      },
      "source": [
        "import numpy as np\n",
        "import matplotlib.pyplot as plt\n",
        "\n",
        "# Initialisation et définition des paramètres de simulation\n",
        "\n",
        "# accélération de la pesanteur 9,81 N.m-2\n",
        "g = 9.81\n",
        "\n",
        "# définition du pas de temps = 0,001 seconde\n",
        "dt = 0.001\n",
        "\n",
        "# rayon de la balle (en m)\n",
        "r = 0.03\n",
        "# ordonnée initiale du corps (en m)    \n",
        "y_0 = 1.5\n",
        "# vitesse verticale initiale du corps (en m/s)\n",
        "vy_0 = 0"
      ],
      "execution_count": 0,
      "outputs": []
    },
    {
      "cell_type": "code",
      "metadata": {
        "id": "lhNSe0F5fAWc",
        "colab_type": "code",
        "colab": {}
      },
      "source": [
        "# Initialisation des variables de calcul\n",
        "\n",
        "# ordonnée initiale = y0\n",
        "y = y_0\n",
        "# vitesse verticale initiale = vy_0\n",
        "vy = vy_0\n",
        "\n",
        "# Calcul du mouvement\n",
        "i = 0        # indice de la boucle\n",
        "temps = 0    # compteur de temps\n",
        "\n",
        "# La boucle est exécutée tant que le corps n'a pas touché le sol :\n",
        " "
      ],
      "execution_count": 0,
      "outputs": []
    }
  ]
}