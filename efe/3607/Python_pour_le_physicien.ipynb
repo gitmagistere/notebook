{
  "nbformat": 4,
  "nbformat_minor": 0,
  "metadata": {
    "kernelspec": {
      "display_name": "Python 3",
      "language": "python",
      "name": "python3"
    },
    "language_info": {
      "codemirror_mode": {
        "name": "ipython",
        "version": 3
      },
      "file_extension": ".py",
      "mimetype": "text/x-python",
      "name": "python",
      "nbconvert_exporter": "python",
      "pygments_lexer": "ipython3",
      "version": "3.7.0"
    },
    "colab": {
      "name": "Python  pour le physicien.ipynb",
      "provenance": [],
      "collapsed_sections": []
    }
  },
  "cells": [
    {
      "cell_type": "markdown",
      "metadata": {
        "id": "8Sxk6YvOvEYf",
        "colab_type": "text"
      },
      "source": [
        "# Ceci est un **NoteBook** : un fichier au format *.ipynb* (Intercative PYthon NoteBook)\n",
        "\n",
        " \n",
        "\n",
        "**L'ensemble des blocs de programme qui suivent a été conçu pour que son utilisateur puisse s'approprier de manière autonome et progressive le langage de programmation Python dont l'utilisation est conseillée dans les nouveaux programmes du lycée.**\n",
        "\n",
        "**L'ensemble des fonctionnalités présenté n'est évidemment pas exhaustif mais largement suffisant pour répondre à la plupart des mises en œuvres envisageables dans les classes de lycée.**\n",
        "\n",
        " "
      ]
    },
    {
      "cell_type": "markdown",
      "metadata": {
        "id": "CtmDu9h9vEYi",
        "colab_type": "text"
      },
      "source": [
        "# 1 - Se familiariser avec l'environnement  \n",
        "## 1.1 - Comprendre les icônes (ci-dessus) :\n",
        "- Disquette : enregistre le NoteBook ;\n",
        "- `+` : crée un nouveau bloc ;\n",
        "- Play  : valide le bloc ou lit le bloc et passe au bloc suivant (équivalent à shift-enter) ;\n",
        "- Carré : stoppe l'exécution du bloc ;\n",
        "- Flèche arrondie : relance le bloc;"
      ]
    },
    {
      "cell_type": "markdown",
      "metadata": {
        "id": "Qj_H9evKvEYk",
        "colab_type": "text"
      },
      "source": [
        "## 1.2 - Comprendre et manipuler les blocs :"
      ]
    },
    {
      "cell_type": "markdown",
      "metadata": {
        "id": "fWxzJ-SwvEYl",
        "colab_type": "text"
      },
      "source": [
        "\n",
        "- on peut sélectionner un bloc en cliquant dessus : une barre bleue apparait à sa gauche ;\n",
        "- on entre dans un bloc par un double-clic ;\n",
        "- on valide ou on exécute le contenu d'un bloc avec la commande play ou : $\\bf{\\large{shift + entrer}}$ comme fait plus haut."
      ]
    },
    {
      "cell_type": "markdown",
      "metadata": {
        "id": "USHUVxYUvEYm",
        "colab_type": "text"
      },
      "source": [
        "# 2 - \"Coder\" en Python :"
      ]
    },
    {
      "cell_type": "markdown",
      "metadata": {
        "id": "U9acyL2jvEYn",
        "colab_type": "text"
      },
      "source": [
        "## 2.1 - Effectuer des opérations :"
      ]
    },
    {
      "cell_type": "markdown",
      "metadata": {
        "id": "MHFBIZ0JvEYo",
        "colab_type": "text"
      },
      "source": [
        "### a - Effectuer des opérations de base :"
      ]
    },
    {
      "cell_type": "code",
      "metadata": {
        "id": "NdsPp20lvEYp",
        "colab_type": "code",
        "colab": {}
      },
      "source": [
        "print('bonjour') # Affiche la chaine de caractère : bonjour. NB : tout ce qui est écrit derrière un # est un commentaire non pris en compte dans le programme"
      ],
      "execution_count": 0,
      "outputs": []
    },
    {
      "cell_type": "code",
      "metadata": {
        "id": "AQ5-tTvOvEYt",
        "colab_type": "code",
        "colab": {}
      },
      "source": [
        "print(3)  # Affiche l'entier 3\n",
        "print(3.) # Affiche le réel 3"
      ],
      "execution_count": 0,
      "outputs": []
    },
    {
      "cell_type": "code",
      "metadata": {
        "id": "K5CgOzE-vEYv",
        "colab_type": "code",
        "colab": {}
      },
      "source": [
        "a=3             # Stocke 3 dans la variable a\n",
        "print(a)        # Affiche la valeur stockée dans a\n",
        "print('a =',a)  # Affiche la chaine de caractère 'a =' puis la valeur stockée dans a\n",
        "print(float(a)) # Affiche le contenu de a converti en réel (float)"
      ],
      "execution_count": 0,
      "outputs": []
    },
    {
      "cell_type": "code",
      "metadata": {
        "id": "62sJ-jKBvEY2",
        "colab_type": "code",
        "colab": {}
      },
      "source": [
        "a=29\n",
        "b=7\n",
        "c = a + b\n",
        "d = a * b\n",
        "e = a / b  # division\n",
        "f = a // b # division euclidienne\n",
        "g = a % b  # reste de la division euclidienne\n",
        "h = a**b   # a^b\n",
        "print('c =',c,'/ d =',d,'/ e =',e,'/ f =',f,'/ g =',g,'/ h =',h)"
      ],
      "execution_count": 0,
      "outputs": []
    },
    {
      "cell_type": "code",
      "metadata": {
        "id": "NrTtijpvvEY7",
        "colab_type": "code",
        "colab": {}
      },
      "source": [
        "a=[None] # Vide la variable a\n",
        "print(a)\n",
        "a=7\n",
        "a=a+1    # Ajoute 1 au contenu stocké dans a puis affiche la nouvelle valeur stockée dans a\n",
        "print(a) # Affiche le contenu de a\n",
        "a+=2     # a devient a + 2\n",
        "print(a)"
      ],
      "execution_count": 0,
      "outputs": []
    },
    {
      "cell_type": "code",
      "metadata": {
        "id": "bwB_vvXAvEZC",
        "colab_type": "code",
        "colab": {}
      },
      "source": [
        "n = 'Bonjour ' \n",
        "o = 'tout le monde !'\n",
        "p = n + o # Ici le signe + correspond à une concaténation, puisque k et l sont des chaines de caractères (str)\n",
        "print(p)"
      ],
      "execution_count": 0,
      "outputs": []
    },
    {
      "cell_type": "code",
      "metadata": {
        "id": "zWZLIMrOvEZG",
        "colab_type": "code",
        "outputId": "4d411724-0323-4848-f4f9-d71f2ee7b7ce",
        "colab": {
          "base_uri": "https://localhost:8080/",
          "height": 51
        }
      },
      "source": [
        "age = input(\"Quel est votre âge ?\") # Pour plus d'interactivité...\n",
        "print('Ha bon ! Vous avez',age,'ans ? Vous ne les faites pas !')"
      ],
      "execution_count": 0,
      "outputs": [
        {
          "output_type": "stream",
          "text": [
            "Quel est votre âge ?2\n",
            "Ha bon ! Vous avez 2 ans ? Vous ne les faites pas !\n"
          ],
          "name": "stdout"
        }
      ]
    },
    {
      "cell_type": "code",
      "metadata": {
        "id": "Yrk19ixdvEZK",
        "colab_type": "code",
        "outputId": "5ac192da-5ad9-446f-8596-724657562171",
        "colab": {
          "base_uri": "https://localhost:8080/",
          "height": 51
        }
      },
      "source": [
        "print('age*2 =',age*2) # Ici on demande d'afficher age*2 mais age est une chaine de caractère ! Donc ce n'est pas judicieux !\n",
        "age=int(age)           # Ici on convertit la chaine de caractères en un entier (int)\n",
        "print('age*2 =',age*2) # Ici on demande d'afficher age*2 et age est maintenant un entier !"
      ],
      "execution_count": 0,
      "outputs": [
        {
          "output_type": "stream",
          "text": [
            "age*2 = 22\n",
            "age*2 = 4\n"
          ],
          "name": "stdout"
        }
      ]
    },
    {
      "cell_type": "markdown",
      "metadata": {
        "id": "6dFmG5DIvEZN",
        "colab_type": "text"
      },
      "source": [
        "Définition d'une fonction nouvelle :  la commande def !!"
      ]
    },
    {
      "cell_type": "code",
      "metadata": {
        "id": "pE55E8YGvEZN",
        "colab_type": "code",
        "outputId": "e257a229-be41-452d-8c14-92450f2336df",
        "colab": {
          "base_uri": "https://localhost:8080/",
          "height": 34
        }
      },
      "source": [
        "def v(d,Dt):\n",
        "    return d / Dt   # définit la fonction v qui calcule le rapport entre d et Dt. Rq : il faut respecter l'indentation.\n",
        "print('v =',v(3,2),'m/s')"
      ],
      "execution_count": 0,
      "outputs": [
        {
          "output_type": "stream",
          "text": [
            "v = 1.5 m/s\n"
          ],
          "name": "stdout"
        }
      ]
    },
    {
      "cell_type": "markdown",
      "metadata": {
        "id": "7zC94xVSvEZQ",
        "colab_type": "text"
      },
      "source": [
        "Boucles for et while :"
      ]
    },
    {
      "cell_type": "code",
      "metadata": {
        "id": "NYFGOG2tvEZR",
        "colab_type": "code",
        "outputId": "8fb72833-9c7c-4a40-ac09-64d6a2a13cda",
        "colab": {
          "base_uri": "https://localhost:8080/",
          "height": 102
        }
      },
      "source": [
        "i = 0             # i prend la valeur 0\n",
        "while i < 5 :     # tant que i est inférieur à 5\n",
        "    print(i+1)    # affiche i+1     Rq : il faut respecter l'indentation\n",
        "    i+=1          # incrémente i de 1"
      ],
      "execution_count": 0,
      "outputs": [
        {
          "output_type": "stream",
          "text": [
            "1\n",
            "2\n",
            "3\n",
            "4\n",
            "5\n"
          ],
          "name": "stdout"
        }
      ]
    },
    {
      "cell_type": "code",
      "metadata": {
        "id": "70lELPbXvEZU",
        "colab_type": "code",
        "outputId": "e9c1e0b6-1490-4f78-9173-69a658b75de3",
        "colab": {
          "base_uri": "https://localhost:8080/",
          "height": 306
        }
      },
      "source": [
        "c = 'PHYSIQUE & CHIMIE'\n",
        "for i in c :              # pour i appartenant à c\n",
        "    print(i)              # affiche i   Rq : il faut respecter l'indentation"
      ],
      "execution_count": 0,
      "outputs": [
        {
          "output_type": "stream",
          "text": [
            "P\n",
            "H\n",
            "Y\n",
            "S\n",
            "I\n",
            "Q\n",
            "U\n",
            "E\n",
            " \n",
            "&\n",
            " \n",
            "C\n",
            "H\n",
            "I\n",
            "M\n",
            "I\n",
            "E\n"
          ],
          "name": "stdout"
        }
      ]
    },
    {
      "cell_type": "code",
      "metadata": {
        "id": "1eneE7psvEZY",
        "colab_type": "code",
        "outputId": "52d4af11-b89b-4b7d-ad67-b1f90d194da7",
        "colab": {
          "base_uri": "https://localhost:8080/",
          "height": 153
        }
      },
      "source": [
        "for n in range(1,9) :     # pour n compris dans l'intervalle [1,9]\n",
        "    print('Si n =',n,'alors 2^n =',2**n)             # affiche 2^n"
      ],
      "execution_count": 0,
      "outputs": [
        {
          "output_type": "stream",
          "text": [
            "Si n = 1 alors 2^n = 2\n",
            "Si n = 2 alors 2^n = 4\n",
            "Si n = 3 alors 2^n = 8\n",
            "Si n = 4 alors 2^n = 16\n",
            "Si n = 5 alors 2^n = 32\n",
            "Si n = 6 alors 2^n = 64\n",
            "Si n = 7 alors 2^n = 128\n",
            "Si n = 8 alors 2^n = 256\n"
          ],
          "name": "stdout"
        }
      ]
    },
    {
      "cell_type": "markdown",
      "metadata": {
        "id": "RmjHJLERvEZe",
        "colab_type": "text"
      },
      "source": [
        "Un exemple mathématique amusant bien connu utilisant les boucles conditionnelles (if....else ) est la fameuse conjecture de Syracuse :\n",
        "\n",
        "Cette conjecture est définie de la façon suivante :\n",
        "\n",
        "Pour n'importe quel entier N supérieur à 1 :\n",
        "- si N est paire, diviser N par 2;\n",
        "- si N est impaire, multiplier N par 3 et lui ajouter 1.\n",
        "La conjecture stipule que la suite de nombres ainsi créés converge vers le cycle trivial : 1,4,2"
      ]
    },
    {
      "cell_type": "code",
      "metadata": {
        "id": "IX6NJ8ICvEZg",
        "colab_type": "code",
        "outputId": "7f08b20e-4f8c-4416-c4df-798ebec04f7c",
        "colab": {
          "base_uri": "https://localhost:8080/",
          "height": 71
        }
      },
      "source": [
        "def syrac(n):                           # on définit la fonction syrac qui reçoit n comme argument\n",
        "    seq=[n]                             # on place l'entier n dans la liste seq\n",
        "    while seq[-1] != 1:                 # tant que le dernier nombre de la liste est différent de 1\n",
        "        if seq[-1] % 2 == 0:               # si il est divisible par 2 (pair)\n",
        "            seq.append(seq[-1] // 2)          # ajoute à la liste ce nombre divisé par 2\n",
        "        else:                              # sinon \n",
        "            seq.append(seq[-1] * 3 + 1)       # ajoute à la liste ce nombre multiplié par 3 et incrémenté de 1\n",
        "    return seq                          # renvoit la séquence complété\n",
        "\n",
        "N = int(input('choisir un entier supérieur à 1 :'))\n",
        "print(syrac(N))"
      ],
      "execution_count": 0,
      "outputs": [
        {
          "output_type": "stream",
          "text": [
            "choisir un entier supérieur à 1 :12501\n",
            "[12501, 37504, 18752, 9376, 4688, 2344, 1172, 586, 293, 880, 440, 220, 110, 55, 166, 83, 250, 125, 376, 188, 94, 47, 142, 71, 214, 107, 322, 161, 484, 242, 121, 364, 182, 91, 274, 137, 412, 206, 103, 310, 155, 466, 233, 700, 350, 175, 526, 263, 790, 395, 1186, 593, 1780, 890, 445, 1336, 668, 334, 167, 502, 251, 754, 377, 1132, 566, 283, 850, 425, 1276, 638, 319, 958, 479, 1438, 719, 2158, 1079, 3238, 1619, 4858, 2429, 7288, 3644, 1822, 911, 2734, 1367, 4102, 2051, 6154, 3077, 9232, 4616, 2308, 1154, 577, 1732, 866, 433, 1300, 650, 325, 976, 488, 244, 122, 61, 184, 92, 46, 23, 70, 35, 106, 53, 160, 80, 40, 20, 10, 5, 16, 8, 4, 2, 1]\n"
          ],
          "name": "stdout"
        }
      ]
    },
    {
      "cell_type": "markdown",
      "metadata": {
        "id": "lE_nO_z9vEZk",
        "colab_type": "text"
      },
      "source": [
        "### b - Un exemple de programme avec des boucles conditionnelles en chimie :"
      ]
    },
    {
      "cell_type": "code",
      "metadata": {
        "id": "glRSg6cBvEZl",
        "colab_type": "code",
        "colab": {}
      },
      "source": [
        "print(\"Soit l'équation 4 P + 5 O2 -> 2 P2O5\")\n",
        "nP=input(\"Quelle est la quantité de matière initiale de phosphore en mole ? : \")\n",
        "nO2=input(\"Quelle est la quantité de matière initiale de dioxygène en mole ? : \")\n",
        "print (\"\\n\")\n",
        "nP = float(nP)\n",
        "nO2 = float(nO2)\n",
        "\n",
        "if nP/4 < nO2/5 :\n",
        "    print (\"Tout le phosphore a été consommé.\")\n",
        "    print(\"La quantité de matière finale de dioxygene est : nf(O2) =\", nO2-5*nP/4,\"mol\")\n",
        "    print(\"La quantité de matière finale de pentaoxyde de phosphore est : nf(P2O5) =\", (2*nP/4),\"mol\")\n",
        "    \n",
        "elif nP/4 > nO2/5:\n",
        "    print (\"Tout le dioxygène a été consommé.\")\n",
        "    print(\"La quantité de matière finale de phosphore est : nf(P) =\", (nP-4*nO2/5),\"mol\")\n",
        "    print(\"La quantité de matière finale de pentaoxyde de phosphore est : nf(P2O5) =\",(2*nO2/5),\"mol\")\n",
        "    \n",
        "else :\n",
        "    print(\"Il ne reste ni phosphore, ni dioxygène.\")\n",
        "    print(\"La quantite de matière finale de pentaoxyde de phosphore est : nf(P2O5) =\",2*nO2/5,\"mol\")"
      ],
      "execution_count": 0,
      "outputs": []
    },
    {
      "cell_type": "markdown",
      "metadata": {
        "id": "j3LTz8QKvEZn",
        "colab_type": "text"
      },
      "source": [
        "### c - Effectuer des opérations plus évolués :\n",
        "Par défaut, Python ne connait pas les fonctions scientifiques telles que sinus, cosinus ou exponentielle,...\n",
        "\n",
        "Il faut importer au besoin les modules complémentaires. C'est ce que l'on fait ici avec le module **numpy** (https://docs.python.org/fr/)"
      ]
    },
    {
      "cell_type": "code",
      "metadata": {
        "id": "XYqwg6zRvEZn",
        "colab_type": "code",
        "colab": {}
      },
      "source": [
        "import numpy as np # on importe le module numpy qui sera appelé par la commande 'np.'"
      ],
      "execution_count": 0,
      "outputs": []
    },
    {
      "cell_type": "code",
      "metadata": {
        "id": "oBaCeqGEvEZr",
        "colab_type": "code",
        "colab": {}
      },
      "source": [
        "u = np.pi                               # pi\n",
        "v = np.cos(np.pi/4)                     # cos(pi/4)\n",
        "w = np.log(5)                           # ln (5) . Le logarithme décimal log(5) s'écrira np.log10(5)\n",
        "x = np.exp(-3/5)                        # exp(-3/5)\n",
        "y = np.arccos(np.sqrt(3)/2)*180/np.pi   # arccos(racine(3)/2) converti en degrès\n",
        "z = 7*np.array([[1,2,3],[4,5,6],[7,8,9]])      # array = tableau\n",
        "print('u =',u)\n",
        "print('w =',v)\n",
        "print('w =',w)\n",
        "print('x =',x)\n",
        "print('y =',y)\n",
        "print('z =\\n',z)"
      ],
      "execution_count": 0,
      "outputs": []
    },
    {
      "cell_type": "markdown",
      "metadata": {
        "id": "BnZeyjTqvEZ7",
        "colab_type": "text"
      },
      "source": [
        "### 2.2 - Tracer des graphiques :\n",
        "Là encore, il va falloir importer un module spécifique pour tracer les graphiques : matplotlib.pyplot (https://www.science-emergence.com/Articles/Tutoriel-Matplotlib/)"
      ]
    },
    {
      "cell_type": "code",
      "metadata": {
        "id": "hEuG3d9RvEZ8",
        "colab_type": "code",
        "colab": {}
      },
      "source": [
        "import numpy as np\n",
        "import matplotlib.pyplot as plt"
      ],
      "execution_count": 0,
      "outputs": []
    },
    {
      "cell_type": "markdown",
      "metadata": {
        "id": "8vQ7PZmHvEaA",
        "colab_type": "text"
      },
      "source": [
        "Les commandes suivantes permettent de tracer la fonction $f(t) = e^{-\\frac{t}{\\tau}}\\times \\cos(\\omega t)$ sur l'intervalle $[0;60s]$.\n",
        "\n",
        "**Remarque importante :** En informatique, on ne peut tracer qu'un nuage de points en nombre forcément limité. Pour tracer une fonction, on doit donc créer une liste d'abscisses pour un intervalle et un pas de son choix, puis générer une liste d'ordonnées et tracer la seconde liste en fonction de la première.\n",
        "\n",
        "On définit donc d'abord les bornes et le nombre de points :"
      ]
    },
    {
      "cell_type": "code",
      "metadata": {
        "id": "mdakS9gjvEaB",
        "colab_type": "code",
        "colab": {}
      },
      "source": [
        "t_min=0.    # Le . permet d'imposer un type réel (float) plutôt qu'un type entier (int)\n",
        "t_max=60.\n",
        "N=121        # Nombre de valeurs sur l'intervalle"
      ],
      "execution_count": 0,
      "outputs": []
    },
    {
      "cell_type": "markdown",
      "metadata": {
        "id": "FB67TzvpvEaF",
        "colab_type": "text"
      },
      "source": [
        "En python, la fonction **linspace** du module **numpy** affecte à une variable un tableau (array) de valeurs comprises entre deux valeurs extrêmes et régulièrement réparties dans l'intervalle.\n",
        "\n",
        "On crée donc la variable $t$ :"
      ]
    },
    {
      "cell_type": "code",
      "metadata": {
        "id": "D9JCBEavvEaG",
        "colab_type": "code",
        "outputId": "e491710c-acc2-446e-e463-e2342718181a",
        "colab": {
          "base_uri": "https://localhost:8080/",
          "height": 187
        }
      },
      "source": [
        "t=np.linspace(t_min,t_max,N)\n",
        "print(type(t))\n",
        "print(t)        # Remarque : les commandes print() sont là pour illustrer mais n'ont aucun caractère obligatoire"
      ],
      "execution_count": 0,
      "outputs": [
        {
          "output_type": "stream",
          "text": [
            "<class 'numpy.ndarray'>\n",
            "[ 0.   0.5  1.   1.5  2.   2.5  3.   3.5  4.   4.5  5.   5.5  6.   6.5\n",
            "  7.   7.5  8.   8.5  9.   9.5 10.  10.5 11.  11.5 12.  12.5 13.  13.5\n",
            " 14.  14.5 15.  15.5 16.  16.5 17.  17.5 18.  18.5 19.  19.5 20.  20.5\n",
            " 21.  21.5 22.  22.5 23.  23.5 24.  24.5 25.  25.5 26.  26.5 27.  27.5\n",
            " 28.  28.5 29.  29.5 30.  30.5 31.  31.5 32.  32.5 33.  33.5 34.  34.5\n",
            " 35.  35.5 36.  36.5 37.  37.5 38.  38.5 39.  39.5 40.  40.5 41.  41.5\n",
            " 42.  42.5 43.  43.5 44.  44.5 45.  45.5 46.  46.5 47.  47.5 48.  48.5\n",
            " 49.  49.5 50.  50.5 51.  51.5 52.  52.5 53.  53.5 54.  54.5 55.  55.5\n",
            " 56.  56.5 57.  57.5 58.  58.5 59.  59.5 60. ]\n"
          ],
          "name": "stdout"
        }
      ]
    },
    {
      "cell_type": "markdown",
      "metadata": {
        "id": "4ufB0Po3vEaJ",
        "colab_type": "text"
      },
      "source": [
        "On définit les constantes $\\omega$ et $\\tau$ et on calcule la liste $f$ qui est aussi un tableau (array)"
      ]
    },
    {
      "cell_type": "code",
      "metadata": {
        "id": "RQOsRUktvEaL",
        "colab_type": "code",
        "outputId": "84838663-b4e2-4cd2-dcfe-b52e26388e5b",
        "colab": {
          "base_uri": "https://localhost:8080/",
          "height": 561
        }
      },
      "source": [
        "w=1.\n",
        "tau=10.\n",
        "f=np.exp(-t/tau)*np.cos(w*t)\n",
        "print(type(f))\n",
        "print(f)        # Remarque : les commandes print() sont là pour illustrer mais n'ont aucun caractère obligatoire"
      ],
      "execution_count": 0,
      "outputs": [
        {
          "output_type": "stream",
          "text": [
            "<class 'numpy.ndarray'>\n",
            "[ 1.00000000e+00  8.34782355e-01  4.88885743e-01  6.08840737e-02\n",
            " -3.40712213e-01 -6.23931275e-01 -7.33404480e-01 -6.59909874e-01\n",
            " -4.38150422e-01 -1.34409336e-01  1.72049812e-01  4.08866892e-01\n",
            "  5.26952626e-01  5.09823446e-01  3.74376780e-01  1.63738930e-01\n",
            " -6.53773795e-02 -2.57308876e-01 -3.70437921e-01 -3.85647380e-01\n",
            " -3.08677165e-01 -1.66408322e-01  1.47318689e-03  1.53032057e-01\n",
            "  2.54163928e-01  2.85873993e-01  2.47308098e-01  1.54227388e-01\n",
            "  3.37189829e-02 -8.32546875e-02 -1.69509286e-01 -2.07674765e-01\n",
            " -1.93348115e-01 -1.34895291e-01 -5.02678083e-02  3.81329478e-02\n",
            "  1.09149618e-01  1.47728232e-01  1.47879185e-01  1.13223836e-01\n",
            "  5.52279014e-02 -1.02426082e-02 -6.70729689e-02 -1.02714767e-01\n",
            " -1.10798818e-01 -9.20456319e-02 -5.34212225e-02 -5.90385602e-03\n",
            "  3.84806514e-02  6.95879674e-02  8.13628814e-02  7.28747989e-02\n",
            "  4.80490129e-02  1.42810915e-02 -1.96333384e-02 -4.57011949e-02\n",
            " -5.85361230e-02 -5.63776941e-02 -4.11605341e-02 -1.77075280e-02\n",
            "  7.67972748e-03  2.88442359e-02  4.12084136e-02  4.27007692e-02\n",
            "  3.40047828e-02  1.81359316e-02 -4.89688490e-04 -1.72276361e-02\n",
            " -2.83195649e-02 -3.16931363e-02 -2.72891400e-02 -1.68838495e-02\n",
            " -3.49644434e-03  9.43959872e-03  1.89237346e-02  2.30530973e-02\n",
            "  2.13657346e-02  1.48121715e-02  5.39736262e-03 -4.39136081e-03\n",
            " -1.22153967e-02 -1.64209277e-02 -1.63628534e-02 -1.24605727e-02\n",
            " -5.99801052e-03  1.26072576e-03  7.53208759e-03  1.14345558e-02\n",
            "  1.22754162e-02  1.01481877e-02  5.83580016e-03  5.60786069e-04\n",
            " -4.34418171e-03 -7.76031271e-03 -9.02556607e-03 -8.04694529e-03\n",
            " -5.26822599e-03 -1.51446700e-03  2.23838735e-03  5.10747893e-03\n",
            "  6.50188996e-03  6.23388797e-03  4.52472605e-03  1.91366784e-03\n",
            " -8.99149142e-04 -3.23274595e-03 -4.58369476e-03 -4.72766552e-03\n",
            " -3.74564499e-03 -1.97582802e-03  9.04269955e-05  1.93877685e-03\n",
            "  3.15509168e-03  3.51335189e-03  3.01092332e-03  1.84791907e-03\n",
            "  3.60824385e-04 -1.06964666e-03 -2.11233172e-03 -2.55881818e-03\n",
            " -2.36079575e-03]\n"
          ],
          "name": "stdout"
        }
      ]
    },
    {
      "cell_type": "markdown",
      "metadata": {
        "id": "oggWE7FMvEaS",
        "colab_type": "text"
      },
      "source": [
        "On trace la fonction $f(t)$ et on ajoute un titre, un libellé pour chaque axe et une grille :"
      ]
    },
    {
      "cell_type": "code",
      "metadata": {
        "id": "-qf8_Y7IvEaT",
        "colab_type": "code",
        "outputId": "aa76804c-2ddc-4caf-a98b-413ea757db8f",
        "colab": {
          "base_uri": "https://localhost:8080/",
          "height": 514
        }
      },
      "source": [
        "plt.rcParams['figure.figsize'] = [16,8]   # Définit la taille du graphique (largeur x hauteur en pouces)\n",
        "plt.plot(t,f,'ro')   #crée le graphe f(t) sous forme de rond (o) rouges rouge (r)\n",
        "plt.plot(-t,f,'m-')  #crée le graphe f(-t) en trait plein (-) de couleur magenta (m)\n",
        "plt.plot(t,-f,'k--') # crée le graphe -f(t) en pointillés (--) noirs (k)\n",
        "plt.plot(-t,-f,'g+') # crée le graphe -f(-t) sous formes de croix (+) vertes (g)...\n",
        "plt.rcParams['figure.figsize'] = [12,6]   # définit la taille du graphe\n",
        "plt.title(\"Évolution de l'amplitude en fonction du temps\") # définit le titre du graphique\n",
        "plt.xlabel('temps (s)') # définit le  nom de l'axe des abscisses \n",
        "plt.ylabel('amplitude (m)') # définit le nom de l'axe des ordonnées\n",
        "plt.grid()           # Affiche la grille\n",
        "plt.show()           # affiche le graphe"
      ],
      "execution_count": 0,
      "outputs": [
        {
          "output_type": "display_data",
          "data": {
            "image/png": "[encoded data removed]",
            "text/plain": [
              "<Figure size 1152x576 with 1 Axes>"
            ]
          },
          "metadata": {
            "tags": []
          }
        }
      ]
    },
    {
      "cell_type": "markdown",
      "metadata": {
        "id": "-aDsT_XDvEaW",
        "colab_type": "text"
      },
      "source": [
        "## 2.3 - Tracer des graphiques avec des données expérimentales :"
      ]
    },
    {
      "cell_type": "markdown",
      "metadata": {
        "id": "q34DESMhSCCy",
        "colab_type": "text"
      },
      "source": [
        " \n",
        "\n",
        "On prendra dans la suite l'exemple d'une chronophotographie de la chute libre d'une bille.\n",
        "\n",
        "Dans l’éditeur, les positions successives de la bille vont être saisies au format python.  \n"
      ]
    },
    {
      "cell_type": "code",
      "metadata": {
        "id": "hhKoYiS6Ny85",
        "colab_type": "code",
        "colab": {}
      },
      "source": [
        "import numpy as np\n",
        "import matplotlib.pyplot as plt\n",
        "ymes=np.array([0,-0.7,-1.5,-2.3,-3.5,-4.5,-5.9,-7.7,-8.8,-10.6])\n",
        "print('ymes :',ymes)"
      ],
      "execution_count": 0,
      "outputs": []
    },
    {
      "cell_type": "markdown",
      "metadata": {
        "id": "Y3rOqt9pTKka",
        "colab_type": "text"
      },
      "source": [
        "La suite consiste à générer une base de temps, c’est-à-dire un tableau des valeurs de t. Ce tableau peut être construit de manière automatique, à l’aide de la fonction **np.linspace**. Les trois arguments principaux sont le début, la fin, le nombre de pas. Ici, l’expérience dure 0,25s par exemple et correspond à 10 points de mesure : il faut donc engendrer 10 instants entre de 0 à 0.25s (durée de l’expérience). On peut commander une impression dans la même cellule, pour vérifier, ce qui donne : "
      ]
    },
    {
      "cell_type": "code",
      "metadata": {
        "id": "_PZ3el2pOD1u",
        "colab_type": "code",
        "colab": {}
      },
      "source": [
        "t=np.linspace(0,0.25,10)\n",
        "print('t:', t)\n",
        " "
      ],
      "execution_count": 0,
      "outputs": []
    },
    {
      "cell_type": "markdown",
      "metadata": {
        "id": "p3BpMcklTjuL",
        "colab_type": "text"
      },
      "source": [
        " Le tracé des positions mesurées en fonction du temps est généré grâce à matplotlib.pyplot : "
      ]
    },
    {
      "cell_type": "code",
      "metadata": {
        "id": "fheEYGPqOPrX",
        "colab_type": "code",
        "colab": {}
      },
      "source": [
        "plt.plot(t,ymes)"
      ],
      "execution_count": 0,
      "outputs": []
    },
    {
      "cell_type": "markdown",
      "metadata": {
        "id": "M7_NAnjcTrNf",
        "colab_type": "text"
      },
      "source": [
        "Il faut maintenant calculer la position réelle à partir de l’ordonnée mesurée sur la chronophotographie. Si l’échelle de la photo est de 2/100 par exemple, numpy permet de multiplier directement toutes valeurs du tableau ymes par l’échelle et d’automatiser la conversion. Les nouvelles valeurs sont rassemblées dans le tableau y. Les fonctions utilisées ensuite servent à « habiller » davantage le graphe : étiquette pour l’abscisse et l’ordonnée, graduations, légende et titre. "
      ]
    },
    {
      "cell_type": "code",
      "metadata": {
        "id": "Ut5DWetTOUoI",
        "colab_type": "code",
        "colab": {}
      },
      "source": [
        "y=ymes*2/100\n",
        "plt.plot(t,y,'ro',label=\"y=f(t)\")\n",
        "plt.xlabel(\"temps (s)\")\n",
        "plt.ylabel(\"y (m) \")\n",
        "plt.grid()\n",
        "plt.legend()\n",
        "plt.title(\"chute libre\")\n",
        "plt.show()\n"
      ],
      "execution_count": 0,
      "outputs": []
    },
    {
      "cell_type": "markdown",
      "metadata": {
        "id": "BCi3Q0pvUe0g",
        "colab_type": "text"
      },
      "source": [
        "Remarque : la commande plt.plot peut être enrichie de divers arguments (comme ici avec ro = cercle rouge) :\n",
        " \n",
        "•\tCouleur : r (red), k (black), b (blue), y (yellow), g (green)\n",
        "•\tMarqueur : o (gros point), - (ligne), . (pointillé), x (croix), s (square), v (triangle)\n"
      ]
    },
    {
      "cell_type": "markdown",
      "metadata": {
        "id": "XQPmdpqfzXuT",
        "colab_type": "text"
      },
      "source": [
        "**Tracé d'un nuage de points**\n",
        "\n",
        "Pour tracer un nuage de points, on peut aussi utiliser la fonction **scatter()**"
      ]
    },
    {
      "cell_type": "code",
      "metadata": {
        "id": "wiOWUG6nOi9n",
        "colab_type": "code",
        "colab": {}
      },
      "source": [
        "import matplotlib.pyplot as plt\n",
        "\n",
        "x1 = [2, 3, 4]\n",
        "y1 = [5, 5, 5]\n",
        "\n",
        "x2 = [1, 2, 3, 4, 5]\n",
        "y2 = [2, 3, 2, 3, 4]\n",
        "y3 = [6, 8, 7, 8, 7]\n",
        "\n",
        "# pour une liste des marqueurs https://matplotlib.org/api/markers_api.html\n",
        "\n",
        "plt.scatter(x1, y1)\n",
        "plt.scatter(x2, y2, marker='v', color='r')\n",
        "plt.scatter(x2, y3, marker='^', color='m')\n",
        "plt.title('nuage de points')\n",
        "plt.show()"
      ],
      "execution_count": 0,
      "outputs": []
    },
    {
      "cell_type": "markdown",
      "metadata": {
        "id": "gXOCiR5dEYcY",
        "colab_type": "text"
      },
      "source": [
        "# 2.4 Modélisation"
      ]
    },
    {
      "cell_type": "markdown",
      "metadata": {
        "id": "mYt2vWjeEhE-",
        "colab_type": "text"
      },
      "source": [
        "Dans un premier temps, il est possible d’appeler la fonction **np.polyfit** qui modélise une fonction par un polynôme de degré laissé au choix de l’utilisateur. En choisissant un polynôme d’ordre 2, **np.polyfit **recherche la fonction qui à t associe : a.t2+bt+c. En nommant la fonction modèle, np.polyfit renvoie un tableau avec les valeurs de a, b et c. Il est alors possible d’afficher l’une des valeurs de ce tableau (par exemple, la première) grâce à print(mod[0]) (la numérotation de python commence toujours à 0 et non à 1). Ainsi, par comparaison avec les expressions littérales du mouvement, il est possible d’obtenir les valeurs de la constate de gravitation g= - 2.a, de la vitesse verticale initiale v0=b et de la position initiale z0=c. Cela peut être écrit ainsi : \n",
        "\n",
        "---\n",
        "\n"
      ]
    },
    {
      "cell_type": "code",
      "metadata": {
        "id": "FPKDYoi8PApI",
        "colab_type": "code",
        "colab": {}
      },
      "source": [
        "import numpy as np\n",
        "import matplotlib.pyplot as plt\n",
        "ymes=np.array([0,-0.7,-1.5,-2.3,-3.5,-4.5,-5.9,-7.7,-8.8,-10.6])\n",
        "y=2*ymes/100\n",
        "t=np.linspace(0,0.145,10)\n",
        "mod=np.polyfit(t,y,2)\n",
        "print('mod :',mod)"
      ],
      "execution_count": 0,
      "outputs": []
    },
    {
      "cell_type": "code",
      "metadata": {
        "id": "LZaJkxgEPB4x",
        "colab_type": "code",
        "colab": {}
      },
      "source": [
        "print('g =',-mod[0]*2)\n",
        "print('v0 =', mod[1])\n",
        "print('y0 =', mod[2])\n"
      ],
      "execution_count": 0,
      "outputs": []
    },
    {
      "cell_type": "code",
      "metadata": {
        "id": "qkvUDCg2PDua",
        "colab_type": "code",
        "colab": {}
      },
      "source": [
        "plt.plot(t,y,'ro',label=\"y=f(t)\")\n",
        "ymod=mod[0]*t**2+mod[1]*t+mod[2]\n",
        "plt.plot(t,ymod,'g-',label='modèle')\n",
        "plt.ylabel(\"y (m) \")\n",
        "plt.xlabel(\"temps (s)\")\n",
        "plt.grid()\n",
        "plt.legend()\n",
        "plt.title(\"chute libre\")\n",
        "plt.show()"
      ],
      "execution_count": 0,
      "outputs": []
    },
    {
      "cell_type": "markdown",
      "metadata": {
        "id": "0xOlURkAETZ9",
        "colab_type": "text"
      },
      "source": [
        "## 3. Tracé de Vecteurs déplacements"
      ]
    },
    {
      "cell_type": "markdown",
      "metadata": {
        "id": "cTOghmqIZYjh",
        "colab_type": "text"
      },
      "source": [
        "L’utilisation d’une boucle for permet d’automatiser le tracé des vecteurs déplacement. Pour cela, il faut d’abord générer une liste d’entiers de 0 à 9 :\n",
        "soit en utilisant : **n=np.arange(9)** (np.arange(9) génère directement une liste de 0 à 9) \n",
        "soit en faisant directement calculer la longueur de la liste t à python, grâce à la fonction **len(t)**. \n",
        "Cela permettra d’appeler successivement des valeurs de la liste yreelle qui contient 10 valeurs. Il n’y a cependant que 9 valeurs de différences d’ordonnée du type y[i+1] - y[i] : l’indice i ne doit donc pas dépasser la valeur i=9. \n"
      ]
    },
    {
      "cell_type": "code",
      "metadata": {
        "id": "Xz9YEgB1PeOE",
        "colab_type": "code",
        "colab": {}
      },
      "source": [
        "import numpy as np\n",
        "import matplotlib.pyplot as plt\n",
        "ymes=np.array([0,-0.7,-1.5,-2.3,-3.5,-4.5,-5.9,-7.7,-8.8,-10.6])\n",
        "y=ymes*2/100\n",
        "t=np.linspace(0,0.25,10)\n",
        "n=np.arange(len(t)-1)\n",
        "print('n :', n)\n",
        "print('y : ',y)\n",
        "print ('t : ',t)"
      ],
      "execution_count": 0,
      "outputs": []
    },
    {
      "cell_type": "markdown",
      "metadata": {
        "id": "zbAA4UsXaVVV",
        "colab_type": "text"
      },
      "source": [
        "Comme précédemment, la liste des valeurs successives de x est générée par x=0*t pour faire tracer les vecteurs en fonction de la position x=0. \n",
        "Ensuite, la **boucle for **permet de faire défiler les différentes positions de la bille : for i in n :\n",
        "**Attention à ne pas oublier les « : » après l’instruction for et de décaler la première instruction d'un espace (indentation) , car python renverrait un message d’erreur sans cela.**\n",
        "\n",
        "Le tracé de vecteur s’effectue avec la fonction **plt.arrow** qui a pour arguments successifs : \n",
        "-\tabscisse de départ du vecteur : ici, 0\n",
        "-\tordonnée de départ du vecteur : ici, y[i], c’est-à-dire le ième élément de la liste des y\n",
        "-\tlongueur horizontale de la flèche : ici, 0\n",
        "-\tlongueur verticale de la flèche: ici, y[i+1]- y[i], c’est-à-dire le déplacement vertical lors du ième pas\n",
        "\n",
        "L’allure des flèches peut ensuite être améliorée grâce à des paramètres optionnels de couleur de fond (fc=’k’), de couleur du tour (ec=’k’), de largeur de la tête (head_width=0.005), de longueur de la tête (head_length=0.01)). \n",
        "\n",
        "Le rendu le plus simple est obtenu avec les lignes de script suivantes : \n"
      ]
    },
    {
      "cell_type": "code",
      "metadata": {
        "id": "ulAgqAuTPkHS",
        "colab_type": "code",
        "colab": {}
      },
      "source": [
        "x=0*t\n",
        "for i in n :\n",
        "  plt.arrow(x[i],y[i],x[i+1]-x[i],y[i+1]-y[i],fc=\"k\",ec=\"k\",head_width=0.005,head_length=0.01)\n",
        "plt.ylim(-0.25,0.05)\n",
        "plt.xlim(-0.1,0.1)"
      ],
      "execution_count": 0,
      "outputs": []
    },
    {
      "cell_type": "markdown",
      "metadata": {
        "id": "Nc1lJY70FAMh",
        "colab_type": "text"
      },
      "source": [
        "#Tracé de vecteurs vitesses \n",
        "\n",
        "On va maintenant tracer les vecteurs vitesses d'une balle dont les positions suivantes ont été mesurées toutes les 0.5 s\n",
        "\n",
        "x = (0.0, 0.25, 0.57, 0.91, 1.22, 1.54, 1.87, 2.16, 2.49, 2.81, 3.15)\n",
        "\n",
        "y = (0.0, 0.34, 0.68, 1.01, 1.29, 1.56, 1.76, 1.95, 2.08, 2.15, 2.19)"
      ]
    },
    {
      "cell_type": "code",
      "metadata": {
        "id": "7YKsYt5fPw27",
        "colab_type": "code",
        "colab": {}
      },
      "source": [
        "import numpy as np\n",
        "import matplotlib.pyplot as plt\n",
        "x=np.array([0.0, 0.25, 0.57, 0.91, 1.22, 1.54, 1.87, 2.16, 2.49, 2.81, 3.15 ])\n",
        "y=np.array([0.0, 0.34, 0.68, 1.01, 1.29, 1.56, 1.76, 1.95, 2.08, 2.15, 2.19])\n",
        "t=np.linspace(0,5,11)\n",
        "m=np.arange(len(t)-1)\n",
        "for i in m :\n",
        "  plt.arrow(x[i],y[i],(x[i+1]-x[i])/(t[i+1]-t[i]),(y[i+1]-y[i])/(t[i+1]-t[i]),head_width=0.05)\n",
        "plt.ylim(0,3)\n",
        "plt.xlim(0,4)\n",
        "plt.grid()\n",
        " "
      ],
      "execution_count": 0,
      "outputs": []
    },
    {
      "cell_type": "markdown",
      "metadata": {
        "id": "2SU_4LqnD8Xm",
        "colab_type": "text"
      },
      "source": [
        "Si on ajoute une échelle pour le tracé de la vitesse : 0.1 , c'est plus lisible !"
      ]
    },
    {
      "cell_type": "code",
      "metadata": {
        "id": "dVHXQeYJP98E",
        "colab_type": "code",
        "colab": {}
      },
      "source": [
        "import numpy as np\n",
        "import matplotlib.pyplot as plt\n",
        "x=np.array([0.0, 0.25, 0.57, 0.91, 1.22, 1.54, 1.87, 2.16, 2.49, 2.81, 3.15 ])\n",
        "y=np.array([0.0, 0.34, 0.68, 1.01, 1.29, 1.56, 1.76, 1.95, 2.08, 2.15, 2.19])\n",
        "t=np.linspace(0,5,11)\n",
        "m=np.arange(len(t)-1)\n",
        "for i in m :\n",
        "  plt.arrow(x[i],y[i],0.1*(x[i+1]-x[i])/(t[i+1]-t[i]),0.1*(y[i+1]-y[i])/(t[i+1]-t[i]),head_width=0.05)\n",
        "plt.ylim(0,3)\n",
        "plt.xlim(0,4)\n",
        "plt.grid()"
      ],
      "execution_count": 0,
      "outputs": []
    }
  ]
}