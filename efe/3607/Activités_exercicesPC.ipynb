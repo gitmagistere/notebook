{
  "nbformat": 4,
  "nbformat_minor": 0,
  "metadata": {
    "colab": {
      "name": "Activités_débutant.ipynb",
      "provenance": [],
      "collapsed_sections": []
    },
    "kernelspec": {
      "name": "python3",
      "display_name": "Python 3"
    }
  },
  "cells": [
    {
      "cell_type": "markdown",
      "metadata": {
        "id": "4KFoNcIi132W",
        "colab_type": "text"
      },
      "source": [
        "# Vous pouvez commencer à effectuer vos lignes de code ci-dessous. "
      ]
    },
    {
      "cell_type": "markdown",
      "metadata": {
        "id": "EUufbwZD19UF",
        "colab_type": "text"
      },
      "source": [
        "Exercice 5"
      ]
    },
    {
      "cell_type": "code",
      "metadata": {
        "id": "gE4Y8FGa13K9",
        "colab_type": "code",
        "colab": {}
      },
      "source": [
        ""
      ],
      "execution_count": 0,
      "outputs": []
    },
    {
      "cell_type": "markdown",
      "metadata": {
        "id": "bxKziAJP2Cmf",
        "colab_type": "text"
      },
      "source": [
        "Exercice 6"
      ]
    },
    {
      "cell_type": "code",
      "metadata": {
        "id": "MMUp5cMb2KVM",
        "colab_type": "code",
        "colab": {}
      },
      "source": [
        ""
      ],
      "execution_count": 0,
      "outputs": []
    },
    {
      "cell_type": "markdown",
      "metadata": {
        "id": "f-hT_Svc2UhB",
        "colab_type": "text"
      },
      "source": [
        "Exercice 7"
      ]
    },
    {
      "cell_type": "code",
      "metadata": {
        "id": "-4pUFFnu2Xmw",
        "colab_type": "code",
        "colab": {}
      },
      "source": [
        ""
      ],
      "execution_count": 0,
      "outputs": []
    },
    {
      "cell_type": "markdown",
      "metadata": {
        "id": "NvSZAIQmR1wE",
        "colab_type": "text"
      },
      "source": [
        "Exercice 8"
      ]
    },
    {
      "cell_type": "code",
      "metadata": {
        "id": "rr-UUMMRR4r9",
        "colab_type": "code",
        "colab": {}
      },
      "source": [
        ""
      ],
      "execution_count": 0,
      "outputs": []
    },
    {
      "cell_type": "markdown",
      "metadata": {
        "id": "4jg3zdzKR5Fm",
        "colab_type": "text"
      },
      "source": [
        "Exercice 9"
      ]
    },
    {
      "cell_type": "code",
      "metadata": {
        "id": "n5KyypTiR6GV",
        "colab_type": "code",
        "colab": {}
      },
      "source": [
        ""
      ],
      "execution_count": 0,
      "outputs": []
    },
    {
      "cell_type": "markdown",
      "metadata": {
        "id": "b68nn3uWUAUA",
        "colab_type": "text"
      },
      "source": [
        "Exercice 10"
      ]
    },
    {
      "cell_type": "code",
      "metadata": {
        "id": "nCd-l0TwUFwg",
        "colab_type": "code",
        "colab": {}
      },
      "source": [
        ""
      ],
      "execution_count": 0,
      "outputs": []
    },
    {
      "cell_type": "markdown",
      "metadata": {
        "id": "qv6FGj2pUGIL",
        "colab_type": "text"
      },
      "source": [
        "Exercice 11"
      ]
    },
    {
      "cell_type": "code",
      "metadata": {
        "id": "A591Ah_gUGuZ",
        "colab_type": "code",
        "colab": {}
      },
      "source": [
        ""
      ],
      "execution_count": 0,
      "outputs": []
    },
    {
      "cell_type": "markdown",
      "metadata": {
        "id": "-IDf9-5dUHCb",
        "colab_type": "text"
      },
      "source": [
        "Exercice 12"
      ]
    },
    {
      "cell_type": "code",
      "metadata": {
        "id": "qr5VB_k3UIz1",
        "colab_type": "code",
        "colab": {}
      },
      "source": [
        ""
      ],
      "execution_count": 0,
      "outputs": []
    },
    {
      "cell_type": "markdown",
      "metadata": {
        "id": "gk_a5CdJUJGm",
        "colab_type": "text"
      },
      "source": [
        "Exercice 13"
      ]
    },
    {
      "cell_type": "code",
      "metadata": {
        "id": "bGp7Mb1QUO08",
        "colab_type": "code",
        "colab": {}
      },
      "source": [
        ""
      ],
      "execution_count": 0,
      "outputs": []
    },
    {
      "cell_type": "markdown",
      "metadata": {
        "id": "olCIv0oVUPLG",
        "colab_type": "text"
      },
      "source": [
        "Exercice 14"
      ]
    },
    {
      "cell_type": "code",
      "metadata": {
        "id": "Qa3x-qsrUQat",
        "colab_type": "code",
        "colab": {}
      },
      "source": [
        ""
      ],
      "execution_count": 0,
      "outputs": []
    },
    {
      "cell_type": "markdown",
      "metadata": {
        "id": "xQp_g_UGUQtG",
        "colab_type": "text"
      },
      "source": [
        "Exercice 15"
      ]
    },
    {
      "cell_type": "code",
      "metadata": {
        "id": "ra3xUEboUR3Y",
        "colab_type": "code",
        "colab": {}
      },
      "source": [
        ""
      ],
      "execution_count": 0,
      "outputs": []
    },
    {
      "cell_type": "markdown",
      "metadata": {
        "id": "10ZziTRjUSBO",
        "colab_type": "text"
      },
      "source": [
        "Exercice 16"
      ]
    },
    {
      "cell_type": "code",
      "metadata": {
        "id": "5oC_qTctUTP0",
        "colab_type": "code",
        "colab": {}
      },
      "source": [
        ""
      ],
      "execution_count": 0,
      "outputs": []
    },
    {
      "cell_type": "markdown",
      "metadata": {
        "id": "WPbuTuhSUTZn",
        "colab_type": "text"
      },
      "source": [
        "Exercice 17"
      ]
    },
    {
      "cell_type": "code",
      "metadata": {
        "id": "aRo6kkLCUUqC",
        "colab_type": "code",
        "colab": {}
      },
      "source": [
        ""
      ],
      "execution_count": 0,
      "outputs": []
    },
    {
      "cell_type": "markdown",
      "metadata": {
        "id": "Zk0vIYS3UUzh",
        "colab_type": "text"
      },
      "source": [
        "Exercice 18"
      ]
    },
    {
      "cell_type": "code",
      "metadata": {
        "id": "LoNTM1NoUVHy",
        "colab_type": "code",
        "colab": {}
      },
      "source": [
        ""
      ],
      "execution_count": 0,
      "outputs": []
    }
  ]
}