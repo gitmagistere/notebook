{
  "nbformat": 4,
  "nbformat_minor": 0,
  "metadata": {
    "colab": {
      "name": "Actvite2.ipynb",
      "provenance": [],
      "collapsed_sections": []
    },
    "kernelspec": {
      "name": "python3",
      "display_name": "Python 3"
    }
  },
  "cells": [
    {
      "cell_type": "markdown",
      "metadata": {
        "id": "eZTyTmmfCCBt",
        "colab_type": "text"
      },
      "source": [
        "# Activité 2\n",
        "## Modélisation de la trajectoire d'un ballon\n",
        "Le lancer d'un ballon de basket a été filmé puis pointé à l'aide d'un logiciel de pointage. Le fichier .csv contenant le temps t et les positions x et y du ballon a été déposé sur ce lien : http://www.acamus.net/basket2.csv\n",
        "Le début du code ci-dessous récupère les données du fichier .csv et crée des listes de données expérimentales t, x et y. \n",
        "\n",
        "On souhaite dans un premier temps afficher la trajectoire du ballon et les vecteurs vitesse de ce dernier. Compléter la partie concernant le tracé des vecteurs vitesse dans le code ci-dessous.\n",
        "\n",
        "Puis le code permet de modéliser la trajectoire du ballon par une parabole. \n",
        "Créer à la fin du code quelques lignes permettant d'afficher la vitesse initiale du ballon V0 et l'angle de tir alpha, en supposant que le ballon est en chute libre : \n",
        "\n",
        "$$y = {-g x^2 \\over 2(V_0cos(\\alpha))^2} + tan(\\alpha) x.$$\n"
      ]
    },
    {
      "cell_type": "code",
      "metadata": {
        "id": "U-Mh3v9YCAaJ",
        "colab_type": "code",
        "colab": {}
      },
      "source": [
        "import csv #importation de la bibliothèque pour manipuler des fichiers de données .csv\n",
        "import requests #importation de la bibliothèque pour  télécharger des fichiers depuis un serveur\n",
        "import numpy as np\n",
        "import matplotlib.pyplot as plt\n",
        "\n",
        "source = requests.get('http://www.acamus.net/basket2.csv')  #On charge le fichier de données issus d'un pointage depuis un serveur\n",
        "source=source.content.decode('utf-8') \n",
        "source=source.splitlines()\n",
        "t,x, y = [], [], []\n",
        "for row in csv.reader(source,delimiter=';'):   #On extrait les données sur le temps et la position (x,y) du ballon que l'on insère \n",
        "  t1,x1,y1 = map(float,row)                    #dans des listes t,x et y\n",
        "  t.append(t1)\n",
        "  x.append(x1)\n",
        "  y.append(y1)\n",
        "\n",
        "\n",
        "n=np.arange(len(t)-1)           #Création des abscisses et ordonnées du vecteur vitesse\n",
        "vyl=[]                          #Création d'une liste vide pour stocker les ordonnées du vecteur vitesse \n",
        "vxl=[]                          #Création d'une liste vide pour stocker les abscisses du vecteur vitesse \n",
        "for i in n :\n",
        "  vx=.........                  # Expression de l'abscisse du vecteur vitesse pour l'élément i : à compléter\n",
        "  vy=.........                  # Expression de l'ordonnée du vecteur vitesse pour l'élément i  : à compléter\n",
        "  ............                  # Ajout de vx dans la liste vxl : à compléter\n",
        "  ............                  # Ajout de vy dans la liste vyl : à compléter\n",
        " \n",
        "\n",
        "mod=np.polyfit(x,y,2)        #On appelle la fonction np.polyfit pour modéliser la trajectoire du ballon par une parabole. \n",
        "print('mod  :',mod)\n",
        "\n",
        "m=np.arange(len(t))        #On crée la liste ymod qui contient la modélisation de la trajectoire de la parabole. \n",
        "ymod=[]\n",
        "for i in m :  \n",
        "  y2=mod[0]*x[i]**2+mod[1]*x[i]+mod[2]\n",
        "  ymod.append(y2)\n",
        "\n",
        "                   \n",
        "plt.xlabel('abscisse (en m)')   #Tracé de la trajectoire du ballon et des vecteurs vitesses grâce à la fonction quiver\n",
        "plt.ylabel('ordonnée (en m)')  \n",
        "plt.grid()          \n",
        "plt.title('Trajectoire du ballon') \n",
        "\n",
        "for i in n :\n",
        "  plt.quiver(x[i],y[i],vxl[i], vyl[i],angles='xy', scale=25, scale_units='xy')\n",
        "plt.show() \n",
        "\n",
        "plt.plot(x,y,'r+',label='données pointage')             #Tracé de la trajectoire du ballon et de sa modélisation\n",
        "plt.plot(x,ymod,'g-',label='modèle') \n",
        "plt.xlabel('abscisse (en m)')   \n",
        "plt.ylabel('ordonnée (en m)')  \n",
        "plt.grid()          \n",
        "plt.title('Trajectoire du ballon') \n",
        "plt.legend() \n",
        "plt.show() \n",
        "\n",
        "#Calcul de la vitesse initiale V0 du ballon et de l'angle de tir alpha  \n",
        "#......à faire\n"
      ],
      "execution_count": 0,
      "outputs": []
    }
  ]
}