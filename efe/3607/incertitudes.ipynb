{
  "nbformat": 4,
  "nbformat_minor": 0,
  "metadata": {
    "colab": {
      "name": "incertitudes.ipynb",
      "provenance": [],
      "collapsed_sections": []
    },
    "kernelspec": {
      "name": "python3",
      "display_name": "Python 3"
    }
  },
  "cells": [
    {
      "cell_type": "code",
      "metadata": {
        "id": "E1x9nmKRV91E",
        "colab_type": "code",
        "outputId": "c4835028-cf8f-46bf-8c65-5ca1e091e76c",
        "colab": {
          "base_uri": "https://localhost:8080/",
          "height": 51
        }
      },
      "source": [
        "import numpy as np\n",
        "import matplotlib.pyplot as plt\n",
        "lvar = np.random.uniform(19.7,19.9,10)\n",
        "Tvar=np.random.uniform(0.88,0.90,10)\n",
        "gvar=4*np.pi**2*lvar/Tvar**2*1.0e-2\n",
        "g=np.mean(gvar)\n",
        "dg=np.std(gvar,ddof=1)\n",
        "ug = dg/np.sqrt(len(gvar))\n",
        "print('g = ',g) \n",
        "print('u(g) = ',ug)"
      ],
      "execution_count": 0,
      "outputs": [
        {
          "output_type": "stream",
          "text": [
            "g =  9.897914536152603\n",
            "u(g) =  0.05351932071675464\n"
          ],
          "name": "stdout"
        }
      ]
    },
    {
      "cell_type": "code",
      "metadata": {
        "id": "W5OT-SEvcL6C",
        "colab_type": "code",
        "outputId": "9aaac0d7-026f-460c-b158-e2a98858736f",
        "colab": {
          "base_uri": "https://localhost:8080/",
          "height": 51
        }
      },
      "source": [
        "import numpy as np\n",
        "import matplotlib.pyplot as plt\n",
        "lvar = 19.8\n",
        "Tvar=np.random.uniform(0.88,0.90,1000)\n",
        "gvar=4*np.pi**2*lvar/Tvar**2*1.0e-2\n",
        "g=np.mean(gvar)\n",
        "dg=np.std(gvar,ddof=1)\n",
        "ug = dg/np.sqrt(len(gvar))\n",
        "print('g = ',g) \n",
        "print('u(g) = ',ug)"
      ],
      "execution_count": 0,
      "outputs": [
        {
          "output_type": "stream",
          "text": [
            "g =  9.86670472475086\n",
            "u(g) =  0.004017080136284287\n"
          ],
          "name": "stdout"
        }
      ]
    },
    {
      "cell_type": "code",
      "metadata": {
        "id": "d5Rcf6ubcsnZ",
        "colab_type": "code",
        "outputId": "1349a725-19b5-428b-a94b-e6ee45eb4571",
        "colab": {
          "base_uri": "https://localhost:8080/",
          "height": 51
        }
      },
      "source": [
        "import numpy as np\n",
        "import matplotlib.pyplot as plt\n",
        "lvar = np.random.uniform(19.7,19.9,1000)\n",
        "Tvar= 0.89\n",
        "gvar=4*np.pi**2*lvar/Tvar**2*1.0e-2\n",
        "g=np.mean(gvar)\n",
        "dg=np.std(gvar,ddof=1)\n",
        "ug = dg/np.sqrt(len(gvar))\n",
        "print('g = ',g) \n",
        "print('u(g) = ',ug)"
      ],
      "execution_count": 0,
      "outputs": [
        {
          "output_type": "stream",
          "text": [
            "g =  9.869048204263423\n",
            "u(g) =  0.000910863876811495\n"
          ],
          "name": "stdout"
        }
      ]
    }
  ]
}