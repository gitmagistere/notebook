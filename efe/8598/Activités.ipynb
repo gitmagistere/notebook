{
 "cells": [
  {
   "cell_type": "raw",
   "id": "466100b7",
   "metadata": {},
   "source": [
    "Voici un notebook afin que vous puissiez travailler les activités"
   ]
  },
  {
   "cell_type": "code",
   "execution_count": null,
   "id": "372c29f3",
   "metadata": {},
   "outputs": [],
   "source": []
  }
 ],
 "metadata": {
  "kernelspec": {
   "display_name": "Python 3 (ipykernel)",
   "language": "python",
   "name": "python3"
  },
  "language_info": {
   "codemirror_mode": {
    "name": "ipython",
    "version": 3
   },
   "file_extension": ".py",
   "mimetype": "text/x-python",
   "name": "python",
   "nbconvert_exporter": "python",
   "pygments_lexer": "ipython3",
   "version": "3.9.13"
  }
 },
 "nbformat": 4,
 "nbformat_minor": 5
}
