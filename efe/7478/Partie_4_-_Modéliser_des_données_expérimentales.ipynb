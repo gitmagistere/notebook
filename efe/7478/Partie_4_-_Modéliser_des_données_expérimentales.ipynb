{
 "cells": [
  {
   "cell_type": "markdown",
   "metadata": {},
   "source": [
    "# Partie 4 - Modéliser des données expérimentales #"
   ]
  },
  {
   "cell_type": "code",
   "execution_count": 2,
   "metadata": {},
   "outputs": [],
   "source": [
    "import math\n",
    "import numpy as np\n",
    "import matplotlib.pyplot as plt\n",
    "from scipy.optimize import curve_fit # Fonction qui permet de modéliser."
   ]
  },
  {
   "cell_type": "markdown",
   "metadata": {},
   "source": [
    "### La librairie scipy permet de modéliser (utilisation de la sous-librairie optimize) ###\n",
    "https://docs.scipy.org/doc/scipy/reference/generated/scipy.optimize.curve_fit.html"
   ]
  },
  {
   "cell_type": "markdown",
   "metadata": {},
   "source": [
    "La **syntaxe** pour l'utilisation de la fonction `curve_fit` est : `curve_fit(fonction,x,y)`.\n",
    "\n",
    "avec `fonction` la fonction du modèle qui prend comme paramètres $x$ (une abscisse) et des paramètres de modélisation (\\*parametres) et qui retourne $y$ (une ordonnée). Je conseille de définir cette fonction \"ailleurs\" dans le code\".\n",
    "\n",
    "`curve_fit` retourne un tableau (array) contenant les valeurs optimisées des paramètres et un tableau de la covariance de ces paramètres (inutile à notre niveau !). Seul le premier objet retourné nous est utile."
   ]
  },
  {
   "cell_type": "markdown",
   "metadata": {},
   "source": [
    "### Exemple de modélisation avec une fonction affine\n",
    "On se donne une série de valeurs $x$ et $y$ (à peu près affine) que l'on cherche à modéliser par la fonction $y = a x + b$."
   ]
  },
  {
   "cell_type": "code",
   "execution_count": null,
   "metadata": {},
   "outputs": [],
   "source": [
    "# Données expérimentales (résulats d'une mesure ou d'un pointage par exemple)\n",
    "y = np.array([11.1,12.0,13.1,13.9,15.0])\n",
    "x = np.array([2,4,6,8,10])\n",
    "\n",
    "# Définition de la fonction modèle\n",
    "def f_affine(x,a,b):\n",
    "    \"\"\" Modèle d'une fonction affine \"\"\"\n",
    "    return a*x + b\n",
    "\n",
    "# Modélisation : recherche des paramètres optimisés du modèle (+ covariance, inutile à notre niveau)\n",
    "parametres, covariance = curve_fit(f_affine,x,y)\n",
    "\n",
    "a,b = parametres # Paramètres du modèle\n",
    "print(f'a = {round(a,2)} ; b = {round(b,2)}')\n",
    "\n",
    "# Calcul des ordonnées avec la fonction du modèle et les paramètres optimisés\n",
    "y_model = f_affine(x,a,b)\n",
    "\n",
    "# Tracé des graphes des données à modéliser et de la fonction modèle optimisée\n",
    "plt.plot(x,y,'rp')\n",
    "plt.plot(x,y_model,'b')\n",
    "plt.axis(ymin=0, ymax=20) \n",
    "plt.grid(True)\n",
    "plt.show()"
   ]
  },
  {
   "cell_type": "markdown",
   "metadata": {},
   "source": [
    "### On recommence de façon un peu plus optimisé"
   ]
  },
  {
   "cell_type": "code",
   "execution_count": null,
   "metadata": {},
   "outputs": [],
   "source": [
    "# Définition de la fonction modèle\n",
    "def f(x,a,b):\n",
    "    return a*x + b\n",
    "\n",
    "# Modélisation : recherche des paramètres optimisés du modèle\n",
    "parametres = curve_fit(f,x,y)[0] # seuls les paramètres optimisés nous intéressent\n",
    "print(*parametres)\n",
    "\n",
    "# Tracé des graphes des données à modéliser et de la fonction modèle optimisée\n",
    "plt.plot(x,y,'rp')\n",
    "plt.plot(x,f(x,*parametres),'b')\n",
    "plt.axis(ymin=0, ymax=20) \n",
    "plt.grid(True)\n",
    "plt.show()"
   ]
  }
 ],
 "metadata": {
  "kernelspec": {
   "display_name": "Python 3",
   "language": "python",
   "name": "python3"
  },
  "language_info": {
   "codemirror_mode": {
    "name": "ipython",
    "version": 3
   },
   "file_extension": ".py",
   "mimetype": "text/x-python",
   "name": "python",
   "nbconvert_exporter": "python",
   "pygments_lexer": "ipython3",
   "version": "3.8.8"
  }
 },
 "nbformat": 4,
 "nbformat_minor": 2
}
