{
 "cells": [
  {
   "cell_type": "markdown",
   "id": "93538f46",
   "metadata": {},
   "source": [
    "### Valeur moyenne et incertitude-type sur concentration molaire d'une solution préparée par dissolution ###"
   ]
  },
  {
   "cell_type": "markdown",
   "id": "2cc151ba",
   "metadata": {},
   "source": [
    "On dispose d’une solution $S_0$ de chlorure de sodium préparée par dissolution d’une masse  $m = 584\\ mg$ de $Na_{Cl(s)}$ ($M = 58,44\\ g.mol^{-1}$) dans une fiole jaugée de volume $V_0 = 500\\ mL$. On a : \n",
    "$$C_0 = \\frac{m}{M\\times V_0}$$\n",
    "\n",
    "On cherche à évaluer la valeur moyenne et l'incertitude-type sur la valeur de $C_0$. La méthode de Monte-Carlo permet d'étudier la variabilité de $C_0$ grâce à une simulation numérique. \n",
    "\n",
    "On prendra :\n",
    "   - Pesée : $u(m) = 1\\ mg$\n",
    "   - Masse molaire : $u(M) = 0,01\\ g.mol^{-1}$\n",
    "   - Fiole jaugée : $u(V_0) = 0,15\\ mL$ \n",
    "\n",
    "Un jeu de données $(m,M,V_0)$ est tiré au sort (tirage avec écarts-types connus selon une loi normale). La procédure est répétée 100000 fois."
   ]
  },
  {
   "cell_type": "markdown",
   "id": "388420b1",
   "metadata": {},
   "source": [
    "*Cellule à exécuter pour importer les bibliothèques :*"
   ]
  },
  {
   "cell_type": "code",
   "execution_count": null,
   "id": "66d984cf",
   "metadata": {},
   "outputs": [],
   "source": [
    "#Importation des bibliothèques\n",
    "import sys\n",
    "!{sys.executable} -m pip install numpy\n",
    "!{sys.executable} -m pip install matplotlib\n",
    "!{sys.executable} -m pip install scipy\n",
    "\n",
    "import numpy as np\n",
    "from matplotlib import pyplot as plt\n",
    "\n",
    "# Affichage avec la bibliothèque graphique intégrée à Notebook\n",
    "%matplotlib inline"
   ]
  },
  {
   "cell_type": "markdown",
   "id": "c03c2d0b",
   "metadata": {},
   "source": [
    "*Programme principal à compléter (puis à exécuter à l'aide de l'expression de $C_0$ et du nombre d'itérations) :*"
   ]
  },
  {
   "cell_type": "code",
   "execution_count": null,
   "id": "226a4cd2",
   "metadata": {},
   "outputs": [],
   "source": [
    "# Renvoie une valeur aléatoire de la variable L[0] d'incertitude-type L[1]\n",
    "def Alea(L):\n",
    "    tirage=np.random.normal()   # Tirage entre -infini et +infini selon une loi normale\n",
    "    return L[0]+L[1]*tirage\n",
    "\n",
    "# Entrées\n",
    "m=[584.e-3,1.e-3] # [valeur,incertitude-type] de chaque entrée\n",
    "M=[58.44,0.01]\n",
    "Vo=[0.50000,0.00015]\n",
    "\n",
    "# Calcul de Co\n",
    "Co=...\n",
    "\n",
    "# Méthode de Monte Carlo pour trouver l'incertitude sur Co sans formule de propagation des incertitudes\n",
    "LCo=[] # Initialisation de la liste LCo qui contiendra les valeurs successives de Co calculées par itération\n",
    "iteration=...\n",
    "\n",
    "for i in range(iteration):\n",
    "    AleaCo=Alea(m)/(Alea(M)*Alea(Vo))\n",
    "    LCo.append(AleaCo) # Ajout de la dernière valeur calculée à la liste LCo\n",
    "\n",
    "MoyCo = np.mean(LCo)      # Calcul de la valeur moyenne de Co (à partir des éléments qui composent la liste LCo)\n",
    "uCo=np.std(LCo, ddof = 1) # Ecart-type expérimental = incertitude-type de la grandeur Co\n",
    "\n",
    "# Affichage\n",
    "print('Moyenne des Co :',round(MoyCo,7),'mol/L')\n",
    "print('Incertitude-type u(Co) :',round(uCo,7),'mol/L')\n",
    "plt.hist(LCo, range=(min(LCo),max(LCo)), bins = 50, color = 'blue', edgecolor = 'black')\n",
    "plt.xlabel('$C_0\\ (mol.L^{-1})$')\n",
    "plt.ylabel('$Effectif$')\n",
    "plt.title('$Pour\\ 100000\\ itérations$')\n",
    "plt.show()"
   ]
  }
 ],
 "metadata": {
  "kernelspec": {
   "display_name": "Python 3",
   "language": "python",
   "name": "python3"
  },
  "language_info": {
   "codemirror_mode": {
    "name": "ipython",
    "version": 3
   },
   "file_extension": ".py",
   "mimetype": "text/x-python",
   "name": "python",
   "nbconvert_exporter": "python",
   "pygments_lexer": "ipython3",
   "version": "3.8.8"
  }
 },
 "nbformat": 4,
 "nbformat_minor": 5
}
