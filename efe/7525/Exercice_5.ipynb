{
 "cells": [
  {
   "cell_type": "markdown",
   "metadata": {},
   "source": [
    "# Créer une fonction en langage Python\n",
    "Dans un programme, il est possible d'écrire des sous programmes intermédiaires appelées fonctions.\n",
    "\n",
    "Une fonction porte un nom et utilise plusieurs variables appelés paramètres. Les paramètres utilisés dans la déclaration de la fonctions sont appelés les arguments. Une fonction renvoie un résultat.\n",
    "\n",
    "Syntaxe d'une fonction en langage Python :\n",
    "\n",
    "On utilise def pour créer une fonction, on donne un nom à la fonction et on précise entre () ses arguments. Ne pas oublier ici aussi les : qui vont créer l'indentation.\n",
    "\n",
    "    def nom_de_la_fonction (argument1,argument2,...):\n",
    "        instructions\n",
    "        return resultat\n",
    "        \n",
    "Dans la dernière ligne on utilise l'instruction return pour renvoyer le résultat, qui peut être une valeur de type entier, décimal (flottant), ou une chaîne de caractère.\n",
    "\n",
    "Pour utiliser la fonction une fois qu'elle est créée, on saisit son nom et on choisit une valeur pour chaque argument."
   ]
  },
  {
   "cell_type": "markdown",
   "metadata": {},
   "source": [
    "## Question 1\n",
    "\n",
    "Dans la première zone de code on a créé une fonction.\n",
    "\n",
    "Dans la deuxième zone de code on a utilisé la fonction.\n",
    "\n",
    "Vous avez sans doute compris ce que fait cette fonction, quel est son nom, quels sont ses arguments... Dans la troisième zone de code, utiliser de nouveau cette fonction avec d'autres valeurs"
   ]
  },
  {
   "cell_type": "code",
   "execution_count": 3,
   "metadata": {},
   "outputs": [],
   "source": [
    "def somme_cube(a,b):\n",
    "    S=a**3+b**3\n",
    "    return S"
   ]
  },
  {
   "cell_type": "code",
   "execution_count": 4,
   "metadata": {},
   "outputs": [
    {
     "data": {
      "text/plain": [
       "35"
      ]
     },
     "execution_count": 4,
     "metadata": {},
     "output_type": "execute_result"
    }
   ],
   "source": [
    "somme_cube(2,3)"
   ]
  },
  {
   "cell_type": "code",
   "execution_count": 5,
   "metadata": {},
   "outputs": [
    {
     "data": {
      "text/plain": [
       "2"
      ]
     },
     "execution_count": 5,
     "metadata": {},
     "output_type": "execute_result"
    }
   ],
   "source": [
    "somme_cube(1,1)"
   ]
  },
  {
   "cell_type": "markdown",
   "metadata": {},
   "source": [
    "Même consigne pour la fonction ci-après"
   ]
  },
  {
   "cell_type": "code",
   "execution_count": 6,
   "metadata": {},
   "outputs": [],
   "source": [
    "def mot(syllabe1,syllabe2,syllabe3):\n",
    "    M=syllabe1+syllabe2+syllabe3\n",
    "    return M"
   ]
  },
  {
   "cell_type": "code",
   "execution_count": 7,
   "metadata": {},
   "outputs": [
    {
     "data": {
      "text/plain": [
       "'parapluie'"
      ]
     },
     "execution_count": 7,
     "metadata": {},
     "output_type": "execute_result"
    }
   ],
   "source": [
    "mot('pa','ra','pluie')"
   ]
  },
  {
   "cell_type": "code",
   "execution_count": 11,
   "metadata": {},
   "outputs": [
    {
     "data": {
      "text/plain": [
       "'dinosaure'"
      ]
     },
     "execution_count": 11,
     "metadata": {},
     "output_type": "execute_result"
    }
   ],
   "source": [
    "mot('di','no','saure')"
   ]
  },
  {
   "cell_type": "markdown",
   "metadata": {},
   "source": [
    "Même consigne, mais avec une fonction qui n'a pas d'argument ! Et oui c'est possible !\n",
    "On rappelle que la fonction randint(a,b), importé de la bibliothèque random, renvoie un nombre entier aléatoire compris entre a et b."
   ]
  },
  {
   "cell_type": "code",
   "execution_count": 8,
   "metadata": {},
   "outputs": [],
   "source": [
    "from random import randint\n",
    "\n",
    "def lance_le_de():\n",
    "    return randint(1,6)"
   ]
  },
  {
   "cell_type": "code",
   "execution_count": 9,
   "metadata": {},
   "outputs": [
    {
     "data": {
      "text/plain": [
       "5"
      ]
     },
     "execution_count": 9,
     "metadata": {},
     "output_type": "execute_result"
    }
   ],
   "source": [
    "lance_le_de()"
   ]
  },
  {
   "cell_type": "code",
   "execution_count": 10,
   "metadata": {},
   "outputs": [
    {
     "data": {
      "text/plain": [
       "3"
      ]
     },
     "execution_count": 10,
     "metadata": {},
     "output_type": "execute_result"
    }
   ],
   "source": [
    "lance_le_de()"
   ]
  },
  {
   "cell_type": "markdown",
   "metadata": {},
   "source": [
    "## Question 2\n",
    "A vous!\n",
    "\n",
    "Ecrire une fonction appelée solde, qui renvoie le prix soldé d'un article d'un magasin lorsque l'utilisateur donne pour arguments le prix initial de l'article et la remise en pourcentage. Puis exécuter la fonction ainsi créée sur un exemple. "
   ]
  },
  {
   "cell_type": "code",
   "execution_count": 12,
   "metadata": {},
   "outputs": [],
   "source": [
    "def solde(prix,remise):\n",
    "    return prix*(1-remise/100)"
   ]
  },
  {
   "cell_type": "code",
   "execution_count": 13,
   "metadata": {},
   "outputs": [
    {
     "data": {
      "text/plain": [
       "160.0"
      ]
     },
     "execution_count": 13,
     "metadata": {},
     "output_type": "execute_result"
    }
   ],
   "source": [
    "solde(200,20)"
   ]
  },
  {
   "cell_type": "code",
   "execution_count": null,
   "metadata": {},
   "outputs": [],
   "source": []
  }
 ],
 "metadata": {
  "kernelspec": {
   "display_name": "Python 3 (ipykernel)",
   "language": "python",
   "name": "python3"
  },
  "language_info": {
   "codemirror_mode": {
    "name": "ipython",
    "version": 3
   },
   "file_extension": ".py",
   "mimetype": "text/x-python",
   "name": "python",
   "nbconvert_exporter": "python",
   "pygments_lexer": "ipython3",
   "version": "3.9.7"
  }
 },
 "nbformat": 4,
 "nbformat_minor": 2
}
