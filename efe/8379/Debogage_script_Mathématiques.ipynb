{
 "cells": [
  {
   "cell_type": "markdown",
   "metadata": {},
   "source": [
    "# Débogage d'un script\n",
    "## Exemples en mathématiques"
   ]
  },
  {
   "cell_type": "markdown",
   "metadata": {},
   "source": [
    "## Un premier exemple\n",
    "\n",
    "Le script ci-dessous a pour objectif de créer une fonction qui donne une approximation du nombre racine carré de $2$, à $10^{-n}$ près, où n est un nombre entier positif, par la méthode dite de balayage. \n",
    "\n",
    "Hélas il y a des erreurs de syntaxe. Pourriez- vous corriger ce script pour qu'il fonctionne ?\n"
   ]
  },
  {
   "cell_type": "code",
   "execution_count": null,
   "metadata": {},
   "outputs": [],
   "source": [
    "def approx_sqrt2(n):\n",
    "l=1\n",
    "for i in range(1,n+1)\n",
    "    while l**2<2:\n",
    "         l=l+10**-i\n",
    "    l=l-10**-i\n",
    "return round(l,n)"
   ]
  },
  {
   "cell_type": "code",
   "execution_count": null,
   "metadata": {},
   "outputs": [],
   "source": []
  },
  {
   "cell_type": "markdown",
   "metadata": {},
   "source": [
    "## Un deuxième exemple\n",
    "\n",
    "On souhaite simuler 100 lancers d'une pièce de monnaie parfaitement équilibrée et écrire un sript qui compte le nombre de fois où on a obtenu pile au cours de ces 100 lancers.\n",
    "\n",
    "On a recours à la fonction randint(), prédéfinie dans la bibliothèque random. On attribue le nombre 1 à pile et le nombre 0 à face.\n",
    "\n",
    "On a écrit le script ci-dessous.\n",
    "\n",
    "Hélas il y a des erreurs de syntaxe. Pourriez- vous corriger ce script pour qu'il fonctionne ?"
   ]
  },
  {
   "cell_type": "code",
   "execution_count": null,
   "metadata": {},
   "outputs": [],
   "source": [
    "nbrepile=0\n",
    "for i in range(100)\n",
    "    p=randint(0,1)\n",
    "    if p=1:\n",
    "        nbrepile=nbrepile+1\n",
    "print(\"On a obtenu pile\",Nbrepile,\"fois\")"
   ]
  },
  {
   "cell_type": "code",
   "execution_count": null,
   "metadata": {},
   "outputs": [],
   "source": []
  },
  {
   "cell_type": "markdown",
   "metadata": {},
   "source": [
    "## Un troisième exemple\n",
    "\n",
    "Le script suivant calcule la moyenne des éléments d'une liste. Mais il comporte une erreur. Pourriez-vous le corriger pour qu'il fonctionne ?"
   ]
  },
  {
   "cell_type": "code",
   "execution_count": null,
   "metadata": {},
   "outputs": [],
   "source": [
    "L = [12,15,8,7.5,11,15.5,18,13.5]\n",
    "somme = 0\n",
    "k = 0 \n",
    "while k <= len(L):\n",
    "    somme = somme + L[k]\n",
    "    k = k + 1\n",
    "print(somme/lend(L))"
   ]
  },
  {
   "cell_type": "code",
   "execution_count": null,
   "metadata": {},
   "outputs": [],
   "source": []
  }
 ],
 "metadata": {
  "kernelspec": {
   "display_name": "Python 3.8.13 ('base')",
   "language": "python",
   "name": "python3"
  },
  "language_info": {
   "codemirror_mode": {
    "name": "ipython",
    "version": 3
   },
   "file_extension": ".py",
   "mimetype": "text/x-python",
   "name": "python",
   "nbconvert_exporter": "python",
   "pygments_lexer": "ipython3",
   "version": "3.8.13"
  },
  "vscode": {
   "interpreter": {
    "hash": "68281a6a3fe35b4f519b7ef0e645fa1942e56c0ab8243f76f7d225bfc0e0201f"
   }
  }
 },
 "nbformat": 4,
 "nbformat_minor": 2
}
