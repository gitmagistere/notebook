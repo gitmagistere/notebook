{
 "cells": [
  {
   "cell_type": "markdown",
   "metadata": {},
   "source": [
    "# Exercice 8 : premiers pas avec les listes\n",
    "\n",
    "Une liste est une collection d'objets de différents types (nombres, variables numériques, chaînes de caractères, booléens, etc.). Une liste est une variable que l'on peut nommer comme on le souhaite.\n",
    "\n",
    "## Comment créer une liste ?\n",
    "\n",
    "### En extension\n",
    "\n",
    "Pour créer un liste de nombres, il suffit de saisir :\n",
    "\n",
    "    L=[12,4,13.5,78]\n",
    "\n",
    "Pour créer une liste contenant des caractères, il suffit de saisir :\n",
    "\n",
    "    L=[\"a\",\"g\",\"hello\"]\n",
    "\n",
    "Il est souvent utile dans un script de partir d'une liste vide.\n",
    "Pour créer une liste vide, nommée ici L, il suffit de saisir :\n",
    "\n",
    "    L=[]\n",
    "    \n",
    "On utilise donc des crochets, et les éléments d'une liste doivent être séparés par une virgule.\n",
    "\n",
    "### En compréhension\n",
    "\n",
    "En mathématiques, on décrit souvent des ensembles par des expressions du type $\\{n^2, n \\in \\mathbb{N}, 0 \\leqslant n \\leqslant 10\\}$.\n",
    "\n",
    "Python propose un mode de description très similaire pour créer des listes :\n",
    "```\n",
    "L=[n**2 for n in range(10)]\n",
    "```"
   ]
  },
  {
   "cell_type": "markdown",
   "metadata": {},
   "source": [
    "*Exemples :*"
   ]
  },
  {
   "cell_type": "code",
   "execution_count": 15,
   "metadata": {},
   "outputs": [
    {
     "data": {
      "text/plain": [
       "([0, 1, 4, 9, 16, 25, 36, 49, 64, 81], [1, 3, 42, -34, 1.6])"
      ]
     },
     "execution_count": 15,
     "metadata": {},
     "output_type": "execute_result"
    }
   ],
   "source": [
    "L = [n**2 for n in range(10)]\n",
    "M = [1,3, 42, -34, 1.6]\n",
    "L, M"
   ]
  },
  {
   "cell_type": "markdown",
   "metadata": {},
   "source": [
    "**A vous**\n",
    "\n",
    "Dans la zone de script ci-dessous, créer une liste appelée L1 contenant les nombres 10 premiers nombres pairs, et faire apparaître cette liste en sortie."
   ]
  },
  {
   "cell_type": "code",
   "execution_count": null,
   "metadata": {},
   "outputs": [],
   "source": []
  },
  {
   "cell_type": "markdown",
   "metadata": {},
   "source": [
    "Dans la zone de script ci-dessous, créer une liste appelée L2 contenant les 5 premières lettres de l'alphabet et faire apparaître cette liste en sortie."
   ]
  },
  {
   "cell_type": "code",
   "execution_count": null,
   "metadata": {},
   "outputs": [],
   "source": []
  },
  {
   "cell_type": "markdown",
   "metadata": {},
   "source": [
    "## Indexer ou identifier un objet d'une liste\n",
    "\n",
    "Dans une liste, le premier objet est l'objet de rang (ou d'indice) 0, le deuxième objet est l'objet de rang 1, etc...\n",
    "\n",
    "- Le premier objet d'une liste appelée L est noté `L[0]`. C'est l'objet de rang (ou d'indice) 0.\n",
    "- Le k+1 ème objet d'une liste appelée L est noté `L[k]`. C'est l'objet de rang k.\n",
    "- Le dernier objet d'une liste appelée L est noté `L[-1]`.\n",
    "\n",
    "Dans la zone de script ci-dessous, faire apparaître en sortie le premier objet de la liste L1 (n'oubliez pas d'exécuter)."
   ]
  },
  {
   "cell_type": "code",
   "execution_count": null,
   "metadata": {},
   "outputs": [],
   "source": []
  },
  {
   "cell_type": "markdown",
   "metadata": {},
   "source": [
    "Dans la zone de script ci-dessous, faire apparaître en sortie le dernier objet de la liste L2."
   ]
  },
  {
   "cell_type": "code",
   "execution_count": null,
   "metadata": {},
   "outputs": [],
   "source": []
  },
  {
   "cell_type": "markdown",
   "metadata": {},
   "source": [
    "Dans la zone de script ci-dessous, faire apparaître le quatrième objet de la liste L1.\n",
    "<details><summary>Attention !</summary>Le quatrième objet est l'objet de rang 3 !</details>"
   ]
  },
  {
   "cell_type": "code",
   "execution_count": null,
   "metadata": {},
   "outputs": [],
   "source": []
  },
  {
   "cell_type": "markdown",
   "metadata": {},
   "source": [
    "## Nombre d'objet d'une liste (ou longueur d'une liste)\n",
    "\n",
    "Une fonction très importante pour le travail sur les listes : la fonction qui permet de compter le nombre d'objets d'une liste, également appelée longueur de la liste.\n",
    "\n",
    "Cette fonction est la fonction `len()`. Pour faire apparaître la longueur d'un liste appelée L, on écrit :\n",
    "\n",
    "    len(L)\n",
    "\n",
    "Dans les deux zones de scripts ci-dessous, faire apparaître la longueur des listes L1 et L2."
   ]
  },
  {
   "cell_type": "code",
   "execution_count": null,
   "metadata": {},
   "outputs": [],
   "source": []
  },
  {
   "cell_type": "code",
   "execution_count": null,
   "metadata": {},
   "outputs": [],
   "source": []
  },
  {
   "cell_type": "markdown",
   "metadata": {},
   "source": [
    "## Ajouter des éléments dans une liste.\n",
    "\n",
    "Pour ajouter un objet en fin de liste on utilise la fonction `append()`, fonction elle aussi très utilisée dans le travail sur les listes. Si on veut ajouter un objet à la fin d'une liste appelée L, on doit saisir :\n",
    "\n",
    "    L.append(objet)\n",
    "    \n",
    "Dans la zone de script ci-dessous, ajouter le nombre 37 à la fin de la liste L1. Puis faire apparaître en sortie la « nouvelle » liste L1."
   ]
  },
  {
   "cell_type": "code",
   "execution_count": null,
   "metadata": {},
   "outputs": [],
   "source": []
  },
  {
   "cell_type": "markdown",
   "metadata": {},
   "source": [
    "Dans la zone de script ci-dessous, ajouter le caractère \"m\" à la fin de la liste L2. Puis faire apparaître en sortie la « nouvelle » liste L2."
   ]
  },
  {
   "cell_type": "code",
   "execution_count": null,
   "metadata": {},
   "outputs": [],
   "source": []
  },
  {
   "cell_type": "markdown",
   "metadata": {},
   "source": [
    "Pour insérer un objet dans une liste à un rang donné, on utilise la fonction `insert()`. Si on veut rajouter un objet au rang k d'une liste appelée L, on doit saisir :\n",
    "\n",
    "    L.insert(k,objet)\n",
    "    \n",
    "Dans la zone de script ci-dessous, ajouter le nombre 1 au rang 5 dans la liste L1. Puis faire apparaître en sortie la « nouvelle » liste L1."
   ]
  },
  {
   "cell_type": "code",
   "execution_count": null,
   "metadata": {},
   "outputs": [],
   "source": []
  },
  {
   "cell_type": "markdown",
   "metadata": {},
   "source": [
    "## Supprimer un élément d'une liste\n",
    "\n",
    "Pour supprimer un objet d'une liste on utilise la fonction `del()`. Si on veut supprimer l'objet de rang k d'une liste appelée L, on doit saisir :\n",
    "\n",
    "    del(L[k])\n",
    "\n",
    "Dans la zone de script ci-dessous, supprimer la lettre de rang 2 de la liste L2. Puis faire appraître en sortie la « nouvelle » liste L2."
   ]
  },
  {
   "cell_type": "code",
   "execution_count": null,
   "metadata": {},
   "outputs": [],
   "source": []
  },
  {
   "cell_type": "markdown",
   "metadata": {},
   "source": [
    "Il existe plusieurs autres fonctions ou astuces qui permettent de travailler sur des listes.\n",
    "\n",
    "Vous trouverez les plus utiles dans le memento « spécial listes » situé après cet exercice sur le marcours m@gistère.\n",
    "\n",
    "Mais pour en terminer avec cet exercice, deux petites surprises :\n",
    "\n",
    "**Dans la zone de script ci-dessous, saisir `L1+L2`, puis exécuter.**"
   ]
  },
  {
   "cell_type": "code",
   "execution_count": null,
   "metadata": {},
   "outputs": [],
   "source": []
  },
  {
   "cell_type": "markdown",
   "metadata": {},
   "source": [
    "**Dans la zone de script ci-dessous, saisir `L2*2`, puis exécuter.**"
   ]
  },
  {
   "cell_type": "code",
   "execution_count": null,
   "metadata": {},
   "outputs": [],
   "source": []
  }
 ],
 "metadata": {
  "kernelspec": {
   "display_name": "Python 3.8.13 ('base')",
   "language": "python",
   "name": "python3"
  },
  "language_info": {
   "codemirror_mode": {
    "name": "ipython",
    "version": 3
   },
   "file_extension": ".py",
   "mimetype": "text/x-python",
   "name": "python",
   "nbconvert_exporter": "python",
   "pygments_lexer": "ipython3",
   "version": "3.8.13"
  },
  "vscode": {
   "interpreter": {
    "hash": "68281a6a3fe35b4f519b7ef0e645fa1942e56c0ab8243f76f7d225bfc0e0201f"
   }
  }
 },
 "nbformat": 4,
 "nbformat_minor": 2
}
