{
 "cells": [
  {
   "cell_type": "markdown",
   "metadata": {},
   "source": [
    "# Les entrées et les sorties\n",
    "\n",
    "L'affichage à l'écran :\n",
    "\n",
    "Dans un programme, il est souvent nécessaire d'afficher sur l'écran de l'ordinateur des résultats ou des phrases réponses. En langage Python la fonction\n",
    "\n",
    "    print()\n",
    " \n",
    "permet l'affichage du contenu entre parenthèse, qui peut être le contenu d'une ou plusieurs variables, du texte.\n",
    "\n",
    "L'entrée des valeurs par l'utilisateur :\n",
    "\n",
    "Lors de l'écriture d'un programme, il est possible d'utiliser des instructions qui permettent une interaction entre l'ordinateur et l'utilisateur. Le programme affiche alors une phrase à destination de l'utilisateur pour qu'il entre la donnée demandée, afin que le script continue son exécution.\n",
    "\n",
    "En langage Python, cette demande qui permet d'entrer une ou plusieurs données s'effectue grâce à la fonction :\n",
    "\n",
    "    input()\n",
    "\n",
    "La donnée demandée doit être affectée à une variable."
   ]
  },
  {
   "cell_type": "markdown",
   "metadata": {},
   "source": [
    "\n",
    "**Exemple 1 : demander à l'utilisateur un nombre entier**\n",
    "\n",
    "Exécuter le script ci-dessous"
   ]
  },
  {
   "cell_type": "code",
   "execution_count": null,
   "metadata": {},
   "outputs": [],
   "source": [
    "n=int(input(\"Quel âge avez vous ?\"))\n",
    "print(\"vous avez\",n,\"ans\")"
   ]
  },
  {
   "cell_type": "markdown",
   "metadata": {},
   "source": [
    "La fonction `int()` est utilisée pour demander un nombre entier. Ce nombre entier est stocké dans la variable `n`.\n",
    "Si vous n'entrez pas un nombre entier, un message d'erreur apparaît lors de l'exécution du script."
   ]
  },
  {
   "cell_type": "markdown",
   "metadata": {},
   "source": [
    "**Exemple 2 : demander à l'utilisateur un nombre flottant.**\n",
    "\n",
    "Exécuter le script ci-dessous."
   ]
  },
  {
   "cell_type": "code",
   "execution_count": null,
   "metadata": {},
   "outputs": [],
   "source": [
    "x=float(input(\"Quel est le prix en € de l'article ?\"))\n",
    "print(\"Après une réduction de 15%, le nouveau prix de l'article est\",round(x*0.85,2),\"€\")"
   ]
  },
  {
   "cell_type": "markdown",
   "metadata": {},
   "source": [
    "La fonction `float()` est utilisée pour demander un nombre flottant (nombre décimal). Ce nombre est stocké dans la variable `x`.\n",
    "Si vous n'entrez pas un nombre flottant (entier accepté), un message d'erreur apparaît lors de l'exécution du script. L'instruction round(...,2) donne l'arrondi du nombre ... à deux chiffres après la virgule. D'une manière générale la fonction `round(k,n)` permet de donner l'arrondi du nombre k à n chiffres après la virgule."
   ]
  },
  {
   "cell_type": "markdown",
   "metadata": {},
   "source": [
    "\n",
    "**Exemple 3 : demander une chaîne de caractères**\n",
    "\n",
    "Exécuter le script ci-dessous"
   ]
  },
  {
   "cell_type": "code",
   "execution_count": null,
   "metadata": {},
   "outputs": [],
   "source": [
    "a=str(input(\"Quelle est votre prénom ?\"))\n",
    "print(\"Bonjour\",a)"
   ]
  },
  {
   "cell_type": "markdown",
   "metadata": {},
   "source": [
    "La fonction `str()` est utilisée pour demander une chaîne de caractères. Cette chaîne de caractères est stockée dans la variable `a`.\n",
    "\n",
    "Par défaut, si aucun type de variable n'est donné avant la fonction `input()`, la variable sera considérée comme une chaîne de caractère. Il est donc impératif de déclarer le type de variable (int ou float) si vous souhaitez demander un nombre à l'utilisateur.\n",
    "\n",
    "Exécuter le script suivant, et essayer de comprendre pourquoi un message d'erreur s'est affiché."
   ]
  },
  {
   "cell_type": "code",
   "execution_count": null,
   "metadata": {},
   "outputs": [],
   "source": [
    "b=input(\"saisir un nombre\")\n",
    "print(b+1)"
   ]
  },
  {
   "cell_type": "markdown",
   "metadata": {},
   "source": [
    "Une fonction bien pratique pour les entrées de certains nombres :\n",
    "\n",
    "La bibliothèque math contient une fonction appelée `eval()`, qui permet d'entrer une valeur sous la forme d'une fraction (par ex 1/3), d'une racine carrée (par exemple sqrt(2) pour racine carrée de 2), ...\n",
    "\n",
    "Il faut au préalable l'importer de la bibliotèque math, ou importer toute la bibliothèque math.\n",
    "\n",
    "Exécuter le script suivant, en entrant une fraction, une racine carrée."
   ]
  },
  {
   "cell_type": "code",
   "execution_count": null,
   "metadata": {},
   "outputs": [],
   "source": [
    "from math import *\n",
    "a=eval(input(\"Entrer le premier nombre\"))\n",
    "b=eval(input(\"Entrer le deuxième nombre\"))\n",
    "print(a*b)"
   ]
  },
  {
   "cell_type": "markdown",
   "metadata": {},
   "source": [
    "# A vous de jouer ..."
   ]
  },
  {
   "cell_type": "markdown",
   "metadata": {},
   "source": [
    "## Question 1\n",
    "\n",
    "Ecrire un script qui demande à l'utlisateur une distance en km, un temps en h, et affiche à l'écran une phrase indiquant la vitesse en km/h."
   ]
  },
  {
   "cell_type": "code",
   "execution_count": null,
   "metadata": {},
   "outputs": [],
   "source": []
  },
  {
   "cell_type": "markdown",
   "metadata": {},
   "source": [
    "## Question 2\n",
    "\n",
    "Ecrire un script qui demande à l'utilisateur deux lieux distincts, la distance en km qui sépare ces deux lieux, et qui affiche à l'écran une phrase donnant la distance aller-retour entre ces deux lieux."
   ]
  },
  {
   "cell_type": "code",
   "execution_count": null,
   "metadata": {},
   "outputs": [],
   "source": []
  },
  {
   "cell_type": "markdown",
   "metadata": {},
   "source": [
    "## Question 3\n",
    "\n",
    "Ecrire un script qui demande à l'utilisateur le nombre de faces d'un dé, et qui affiche à l'écran, dans une phrase, le résultat d'un lancer au hasard de ce dé. (aide : penser à la bibliothèque random)."
   ]
  },
  {
   "cell_type": "code",
   "execution_count": null,
   "metadata": {},
   "outputs": [],
   "source": []
  },
  {
   "cell_type": "markdown",
   "metadata": {},
   "source": [
    "## Le cas particulier des fonctions\n",
    "\n",
    "Pour les fonctions l'entrée par l'utilisateur s'effectue en donnant des valeurs particulières aux arguments.\n",
    "\n",
    "L'affichage à l'écran s'effectue grâce à l'instruction `return`.\n",
    "\n",
    "On considère par exemple les deux fonctions `f` et `g` suivantes :"
   ]
  },
  {
   "cell_type": "code",
   "execution_count": null,
   "metadata": {},
   "outputs": [],
   "source": [
    "def f(x):\n",
    "    return 2*x+3\n",
    "\n",
    "def g(x):\n",
    "    print(2*x+3)"
   ]
  },
  {
   "cell_type": "code",
   "execution_count": null,
   "metadata": {},
   "outputs": [],
   "source": [
    "f(4)"
   ]
  },
  {
   "cell_type": "code",
   "execution_count": null,
   "metadata": {},
   "outputs": [],
   "source": [
    "g(4)"
   ]
  },
  {
   "cell_type": "markdown",
   "metadata": {},
   "source": [
    "Arrivez vous à voir la différence entre ces deux fonctions ? Que se passe-t-il quand vous exécutez les deux cellules suivantes ?"
   ]
  },
  {
   "cell_type": "code",
   "execution_count": null,
   "metadata": {},
   "outputs": [],
   "source": [
    "f(4)+2"
   ]
  },
  {
   "cell_type": "code",
   "execution_count": null,
   "metadata": {},
   "outputs": [],
   "source": [
    "g(4)+2"
   ]
  },
  {
   "cell_type": "code",
   "execution_count": null,
   "metadata": {},
   "outputs": [],
   "source": []
  }
 ],
 "metadata": {
  "kernelspec": {
   "display_name": "Python 3.8.13 ('base')",
   "language": "python",
   "name": "python3"
  },
  "language_info": {
   "codemirror_mode": {
    "name": "ipython",
    "version": 3
   },
   "file_extension": ".py",
   "mimetype": "text/x-python",
   "name": "python",
   "nbconvert_exporter": "python",
   "pygments_lexer": "ipython3",
   "version": "3.8.13"
  },
  "vscode": {
   "interpreter": {
    "hash": "68281a6a3fe35b4f519b7ef0e645fa1942e56c0ab8243f76f7d225bfc0e0201f"
   }
  }
 },
 "nbformat": 4,
 "nbformat_minor": 2
}
