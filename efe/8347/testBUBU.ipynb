{
 "cells": [
  {
   "cell_type": "code",
   "execution_count": null,
   "id": "36a01902-6af6-4318-9be1-b1bdb81a9f45",
   "metadata": {},
   "outputs": [],
   "source": []
  },
  {
   "cell_type": "markdown",
   "id": "7da4e21d-58d3-4e62-ae66-e6ba0fcf0bb5",
   "metadata": {},
   "source": [
    "bonjour c'est un test"
   ]
  },
  {
   "cell_type": "code",
   "execution_count": 1,
   "id": "6522a326-f304-434e-bf88-c0525532f6e1",
   "metadata": {},
   "outputs": [
    {
     "data": {
      "text/plain": [
       "7"
      ]
     },
     "execution_count": 1,
     "metadata": {},
     "output_type": "execute_result"
    }
   ],
   "source": [
    "3+4"
   ]
  },
  {
   "cell_type": "markdown",
   "id": "3be59f34-da6f-4df4-ab83-a432cc595510",
   "metadata": {},
   "source": [
    "Coucou"
   ]
  },
  {
   "cell_type": "code",
   "execution_count": null,
   "id": "d35f00b0-931f-4673-bfda-029d6210b740",
   "metadata": {},
   "outputs": [],
   "source": []
  }
 ],
 "metadata": {
  "kernelspec": {
   "display_name": "Python 3 (ipykernel)",
   "language": "python",
   "name": "python3"
  },
  "language_info": {
   "codemirror_mode": {
    "name": "ipython",
    "version": 3
   },
   "file_extension": ".py",
   "mimetype": "text/x-python",
   "name": "python",
   "nbconvert_exporter": "python",
   "pygments_lexer": "ipython3",
   "version": "3.12.7"
  }
 },
 "nbformat": 4,
 "nbformat_minor": 5
}
