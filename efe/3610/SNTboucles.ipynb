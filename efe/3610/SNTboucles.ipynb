{
 "cells": [
  {
   "cell_type": "markdown",
   "metadata": {},
   "source": [
    "## Tant que ... faire ...\n",
    "Au départ, la variable ouf vaut 0.\n",
    "Tant qu'elle est inférieure à 10, on affiche sa valeur et on l'augmente de 1."
   ]
  },
  {
   "cell_type": "code",
   "execution_count": null,
   "metadata": {},
   "outputs": [],
   "source": [
    "ouf = 0\n",
    "\n",
    "while ouf < 10:\n",
    "    print(ouf)\n",
    "    ouf = ouf +1\n",
    "    \n",
    "print(ouf,' : enfin sortis de la boucle, on est rendu à 10')"
   ]
  },
  {
   "cell_type": "markdown",
   "metadata": {},
   "source": [
    "### Exercice 1\n",
    "A quoi sert le programme ci-dessous ?"
   ]
  },
  {
   "cell_type": "code",
   "execution_count": null,
   "metadata": {},
   "outputs": [],
   "source": [
    "k = 0\n",
    "\n",
    "while k < 30:\n",
    "    print(k)\n",
    "    k = k+2"
   ]
  },
  {
   "cell_type": "markdown",
   "metadata": {},
   "source": [
    "### Exercice 2\n",
    "A l'aide d'une boucle while comme au-dessus, écrire (dans la fenêtre ci-dessous) un programme qui affiche les carrés des entiers de 1 à 20 : $1^2$, $2^2$, $3^2$, ... , $20^2$.\n",
    "(en Python $3^2$ s'obtient par 3**2 )"
   ]
  },
  {
   "cell_type": "code",
   "execution_count": null,
   "metadata": {},
   "outputs": [],
   "source": []
  },
  {
   "cell_type": "markdown",
   "metadata": {},
   "source": [
    "### Exercice 3\n",
    "Ecrire un programme qui affiche les multiples de 5 entre 0 et 100 (c'est-à-dire : 0 5 10 15 20 .... 100)"
   ]
  },
  {
   "cell_type": "code",
   "execution_count": null,
   "metadata": {},
   "outputs": [],
   "source": []
  }
 ],
 "metadata": {
  "kernelspec": {
   "display_name": "Python 3",
   "language": "python",
   "name": "python3"
  },
  "language_info": {
   "codemirror_mode": {
    "name": "ipython",
    "version": 3
   },
   "file_extension": ".py",
   "mimetype": "text/x-python",
   "name": "python",
   "nbconvert_exporter": "python",
   "pygments_lexer": "ipython3",
   "version": "3.7.3"
  }
 },
 "nbformat": 4,
 "nbformat_minor": 2
}
