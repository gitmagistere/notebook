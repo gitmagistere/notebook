{
 "cells": [
  {
   "cell_type": "markdown",
   "metadata": {},
   "source": [
    "# Structure conditionnelle : Si... alors...sinon..."
   ]
  },
  {
   "cell_type": "code",
   "execution_count": null,
   "metadata": {},
   "outputs": [],
   "source": [
    "age = 20\n",
    "\n",
    "if age < 18:\n",
    "    print(\"Tu es mineur.\")\n",
    "else:\n",
    "    print(\"Tu es majeur.\")"
   ]
  },
  {
   "cell_type": "markdown",
   "metadata": {},
   "source": [
    "Changer la valeur de age et observer l'affichage du programme.\n",
    "\n",
    "(il existe un accent circonflexe en français sur age mais il ne faut jamais mettre d'accents sur les noms de variables)"
   ]
  },
  {
   "cell_type": "markdown",
   "metadata": {},
   "source": [
    "### Exercice 1\n",
    "Compléter les ... ci-dessous pour que le programme ait un sens."
   ]
  },
  {
   "cell_type": "code",
   "execution_count": null,
   "metadata": {},
   "outputs": [],
   "source": [
    "note = 15\n",
    "\n",
    "if note > 10 :\n",
    "    print(\"Ce n'est pas trop mal.\")\n",
    "else:\n",
    "    print(\"...\" )"
   ]
  },
  {
   "cell_type": "markdown",
   "metadata": {},
   "source": [
    "Changer la note et observer."
   ]
  },
  {
   "cell_type": "markdown",
   "metadata": {},
   "source": [
    "### Exercice 2\n",
    "Compléter les ... ci-dessous pour que le programme ait un sens."
   ]
  },
  {
   "cell_type": "code",
   "execution_count": null,
   "metadata": {},
   "outputs": [],
   "source": [
    "note_maths = 15\n",
    "note_snt = 17\n",
    "note_anglais = 6\n",
    "note_francais = 9\n",
    "\n",
    "moyenne = ...\n",
    "\n",
    "if moyenne == ... :\n",
    "    print(\"C'est juste moyen !\")\n",
    "else:\n",
    "    if moyenne > 10:\n",
    "        print(\"...\" )\n",
    "    else :\n",
    "        print(\"...\")"
   ]
  },
  {
   "cell_type": "code",
   "execution_count": null,
   "metadata": {},
   "outputs": [],
   "source": [
    "(remarque : dans le test, on utilise deux signes = ; sinon ce serait une affectation)"
   ]
  },
  {
   "cell_type": "markdown",
   "metadata": {},
   "source": [
    "### Exercice 3. Jeu de dé\n",
    "On peut obtenir un nombre au hasard, entre 1 et 6, à l'aide des commandes suivantes :"
   ]
  },
  {
   "cell_type": "code",
   "execution_count": null,
   "metadata": {},
   "outputs": [],
   "source": [
    "from random import randint\n",
    "randint(1,6)"
   ]
  },
  {
   "cell_type": "markdown",
   "metadata": {},
   "source": [
    "Exécuter plusieurs fois la cellule ci-dessus. On a simulé un jeu de dé à 6 faces.\n",
    "\n",
    "Ecrire un programme en-dessous qui affiche \"Tu as gagné !\" si la face du dé est 6 et \"Tu as perdu !\" sinon."
   ]
  },
  {
   "cell_type": "code",
   "execution_count": null,
   "metadata": {},
   "outputs": [],
   "source": []
  },
  {
   "cell_type": "markdown",
   "metadata": {},
   "source": [
    "### Exercice 4\n",
    "A quoi sert le programme ci-dessous ?"
   ]
  },
  {
   "cell_type": "code",
   "execution_count": null,
   "metadata": {},
   "outputs": [],
   "source": [
    "from random import randint\n",
    "\n",
    "a = randint(1,6)\n",
    "\n",
    "if (a == 2) or (a == 4) or (a == 6):\n",
    "    print(\"Gagné !\")"
   ]
  }
 ],
 "metadata": {
  "kernelspec": {
   "display_name": "Python 3",
   "language": "python",
   "name": "python3"
  },
  "language_info": {
   "codemirror_mode": {
    "name": "ipython",
    "version": 3
   },
   "file_extension": ".py",
   "mimetype": "text/x-python",
   "name": "python",
   "nbconvert_exporter": "python",
   "pygments_lexer": "ipython3",
   "version": "3.7.3"
  }
 },
 "nbformat": 4,
 "nbformat_minor": 2
}
