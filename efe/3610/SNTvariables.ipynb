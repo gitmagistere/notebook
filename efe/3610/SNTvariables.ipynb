{
 "cells": [
  {
   "cell_type": "markdown",
   "metadata": {},
   "source": [
    "# Variables"
   ]
  },
  {
   "cell_type": "markdown",
   "metadata": {},
   "source": [
    "Une variable est une zone de la mémoire où est stockée une valeur (nombre entier, flottant, booléen, chaîne de caractères, tableau...).\n",
    "\n",
    "Le nom d'une variable doit commencer par une lettre (pas d'espaces ou d'accents !).\n",
    "\n",
    "On modifie la valeur d'une variable par une **affectation**.\n",
    "\n",
    "En algorithmique, on écrira : \" a prend la valeur 5\" ou </br>\n",
    "\n",
    "<p style=\"text-align:center; background: lightyellow ; border: 1px solid #999; margin: 10px 0 ; padding: 10px ; width:20%\">\n",
    " a $\\leftarrow 5$ \n",
    "</p>\n",
    "\n",
    "En Python : "
   ]
  },
  {
   "cell_type": "code",
   "execution_count": null,
   "metadata": {},
   "outputs": [],
   "source": [
    "a = 5"
   ]
  },
  {
   "cell_type": "markdown",
   "metadata": {},
   "source": [
    "Pour voir la valeur de a, on l'affiche ainsi :"
   ]
  },
  {
   "cell_type": "code",
   "execution_count": null,
   "metadata": {},
   "outputs": [],
   "source": [
    "print(a)"
   ]
  },
  {
   "cell_type": "code",
   "execution_count": null,
   "metadata": {},
   "outputs": [],
   "source": [
    "print(a+10)"
   ]
  },
  {
   "cell_type": "code",
   "execution_count": null,
   "metadata": {},
   "outputs": [],
   "source": [
    "print(a)"
   ]
  },
  {
   "cell_type": "code",
   "execution_count": null,
   "metadata": {},
   "outputs": [],
   "source": [
    "a = 7\n",
    "print(a)"
   ]
  },
  {
   "cell_type": "markdown",
   "metadata": {},
   "source": [
    "L'ancienne valeur a été écrasée."
   ]
  },
  {
   "cell_type": "markdown",
   "metadata": {},
   "source": [
    " <svg height=\"50\" width=\"100\" xmlns=\"http://www.w3.org/2000/svg\">\n",
    "       <rect x=\"0\" y=\"0\" width=\"100\" height=\"50\" stroke=\"black\" fill=\"yellow\" />\n",
    "       <line x1=\"0\" x2=\"100\" y1=\"0\" y2=\"50\" stroke=\"red\" stroke-width=\"2\"/>\n",
    "    </svg>"
   ]
  },
  {
   "cell_type": "markdown",
   "metadata": {},
   "source": [
    "### Exercice 1\n",
    "Réfléchir au contenu des variables suivantes."
   ]
  },
  {
   "cell_type": "markdown",
   "metadata": {},
   "source": [
    "<p style=\"text-align:left; background: lightyellow ; border: 1px solid #999; margin: 10px 0 ; padding: 10px ; width:50%\">\n",
    "a $\\leftarrow$ 10   <br>\n",
    "b $\\leftarrow$ 30  <br>\n",
    "c $\\leftarrow$ a + b   <br>\n",
    "d  $\\leftarrow$ a - b   <br>\n",
    "e  $\\leftarrow$ a * b   <br>\n",
    "f  $\\leftarrow$ a / b   <br>\n",
    "afficher c <br>\n",
    "afficher d <br>\n",
    "afficher e <br>\n",
    "afficher f <br>\n",
    "</p>"
   ]
  },
  {
   "cell_type": "markdown",
   "metadata": {},
   "source": [
    "En Python ,l'algorithme ci-dessus s'écrit :"
   ]
  },
  {
   "cell_type": "code",
   "execution_count": null,
   "metadata": {},
   "outputs": [],
   "source": [
    "a = 10\n",
    "b = 30\n",
    "c = a+b\n",
    "d = a-b\n",
    "e = a*b\n",
    "f = a/b\n",
    "print(c)\n",
    "print(d)\n",
    "print(e)\n",
    "print(f)"
   ]
  },
  {
   "cell_type": "markdown",
   "metadata": {},
   "source": [
    " ### Exercice 2\n",
    "Réfléchir au contenu des variables suivantes. Puis, dans la fenêtre libre qui suit, vérifier en traduisant l'algorithme dans le langage python."
   ]
  },
  {
   "cell_type": "markdown",
   "metadata": {},
   "source": [
    "<p style=\"text-align:left; background: lightyellow ; border: 1px solid #999; margin: 10px 0 ; padding: 10px ; width:50%\">\n",
    "a $\\leftarrow$ 1   <br>\n",
    "b $\\leftarrow$ 3   <br>\n",
    "b $\\leftarrow$ b + 2   <br>\n",
    "a $\\leftarrow$ a+b   <br>\n",
    "afficher a <br>\n",
    "afficher b <br>\n",
    "</p>"
   ]
  },
  {
   "cell_type": "code",
   "execution_count": null,
   "metadata": {},
   "outputs": [],
   "source": []
  },
  {
   "cell_type": "markdown",
   "metadata": {},
   "source": [
    "### Exercice 3\n",
    "Réfléchir au contenu des variables suivantes. Puis, dans la fenêtre libre qui suit, vérifier en traduisant l'algorithme dans le langage python."
   ]
  },
  {
   "cell_type": "markdown",
   "metadata": {},
   "source": [
    "<p style=\"text-align:left; background: lightyellow ; border: 1px solid #999; margin: 10px 0 ; padding: 10px ; width:50%\">\n",
    "a $\\leftarrow$ 1.5   <br>\n",
    "b $\\leftarrow$ 3.2   <br>\n",
    "b $\\leftarrow$ a <br>\n",
    "a $\\leftarrow$ b   <br>\n",
    "afficher a <br>\n",
    "afficher b <br>\n",
    "</p>"
   ]
  },
  {
   "cell_type": "code",
   "execution_count": null,
   "metadata": {},
   "outputs": [],
   "source": []
  },
  {
   "cell_type": "markdown",
   "metadata": {},
   "source": [
    "### Exercice 4\n",
    "Modifier le programme ci-dessus pour échanger les valeurs de a et b (à la fin, a doit contenir la valeur de départ de b et inversement)."
   ]
  },
  {
   "cell_type": "code",
   "execution_count": null,
   "metadata": {},
   "outputs": [],
   "source": []
  },
  {
   "cell_type": "markdown",
   "metadata": {},
   "source": [
    "### Exercice 5\n",
    "Réfléchir au contenu des variables suivantes. Puis, dans la fenêtre libre qui suit, vérifier en traduisant l'algorithme dans le langage python.\n",
    "<p style=\"text-align:left; background: lightyellow ; border: 1px solid #999; margin: 10px 0 ; padding: 10px ; width:50%\">\n",
    "a $\\leftarrow$ 4 <br>\n",
    "a $\\leftarrow$ a+1   <br>\n",
    "b $\\leftarrow$ 7 <br>\n",
    "b $\\leftarrow$ b+a+1 <br>\n",
    "c $\\leftarrow$ b   <br>\n",
    "a $\\leftarrow$ a-1   <br>\n",
    "afficher a <br>\n",
    "afficher b <br>\n",
    "afficher c <br>\n",
    "</p>"
   ]
  },
  {
   "cell_type": "code",
   "execution_count": null,
   "metadata": {},
   "outputs": [],
   "source": []
  }
 ],
 "metadata": {
  "kernelspec": {
   "display_name": "Python 3",
   "language": "python",
   "name": "python3"
  },
  "language_info": {
   "codemirror_mode": {
    "name": "ipython",
    "version": 3
   },
   "file_extension": ".py",
   "mimetype": "text/x-python",
   "name": "python",
   "nbconvert_exporter": "python",
   "pygments_lexer": "ipython3",
   "version": "3.7.3"
  }
 },
 "nbformat": 4,
 "nbformat_minor": 4
}
