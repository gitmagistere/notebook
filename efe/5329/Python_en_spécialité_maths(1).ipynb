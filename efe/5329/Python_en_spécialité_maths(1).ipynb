{
  "nbformat": 4,
  "nbformat_minor": 0,
  "metadata": {
    "kernelspec": {
      "display_name": "Python 3",
      "language": "python",
      "name": "python3"
    },
    "language_info": {
      "codemirror_mode": {
        "name": "ipython",
        "version": 3
      },
      "file_extension": ".py",
      "mimetype": "text/x-python",
      "name": "python",
      "nbconvert_exporter": "python",
      "pygments_lexer": "ipython3",
      "version": "3.7.1"
    },
    "colab": {
      "name": "Python en spécialité maths(1).ipynb",
      "provenance": []
    }
  },
  "cells": [
    {
      "cell_type": "markdown",
      "metadata": {
        "id": "OFs7hp-ltHmK"
      },
      "source": [
        "<h1>Python en spécialité mathématiques</h1><p>, d'après un article de Benjamin Clerc dans Mathématice</p>"
      ]
    },
    {
      "cell_type": "markdown",
      "metadata": {
        "id": "Ct_eqk-ttHmP"
      },
      "source": [
        "<h2>1. Les suites</h2>"
      ]
    },
    {
      "cell_type": "markdown",
      "metadata": {
        "id": "B8Y7CJk7tHmQ"
      },
      "source": [
        "<h3>1.1. Calcul de termes par un algorithme pour une suite définie de manière explicite</h3>"
      ]
    },
    {
      "cell_type": "markdown",
      "metadata": {
        "id": "ftCxEomktHmR"
      },
      "source": [
        "<p>Utilisation d'une liste en compréhension: à vous de tester les lignes de codes suivantes:</p>"
      ]
    },
    {
      "cell_type": "code",
      "metadata": {
        "id": "3rUcY-rvtHmS",
        "outputId": "36f91e60-49bb-4ccf-aa37-52229ca724ba",
        "colab": {
          "base_uri": "https://localhost:8080/"
        }
      },
      "source": [
        "#Il s'agit de créer une liste en utilisant une boucle for\n",
        "[i for i in range(11)]"
      ],
      "execution_count": null,
      "outputs": [
        {
          "output_type": "execute_result",
          "data": {
            "text/plain": [
              "[0, 1, 2, 3, 4, 5, 6, 7, 8, 9, 10]"
            ]
          },
          "metadata": {
            "tags": []
          },
          "execution_count": 8
        }
      ]
    },
    {
      "cell_type": "code",
      "metadata": {
        "id": "f2Mh-MFhtHmY",
        "outputId": "6353bd61-9ab5-433c-b3e8-4eb5e3194d95",
        "colab": {
          "base_uri": "https://localhost:8080/"
        }
      },
      "source": [
        "[i**2 for i in range(0,10)]"
      ],
      "execution_count": null,
      "outputs": [
        {
          "output_type": "execute_result",
          "data": {
            "text/plain": [
              "[0, 1, 4, 9, 16, 25, 36, 49, 64, 81]"
            ]
          },
          "metadata": {
            "tags": []
          },
          "execution_count": 9
        }
      ]
    },
    {
      "cell_type": "markdown",
      "metadata": {
        "id": "JzKitnT2tHmc"
      },
      "source": [
        "<p>A vous d'écrire une ligne de code ci-dessous pour afficher les valeur de i² pour i de 0 à 10.</p>"
      ]
    },
    {
      "cell_type": "code",
      "metadata": {
        "id": "0XTIE6nAtHmc"
      },
      "source": [
        ""
      ],
      "execution_count": null,
      "outputs": []
    },
    {
      "cell_type": "markdown",
      "metadata": {
        "id": "7ymDZd2utHmf"
      },
      "source": [
        "Cas plus classique où $U_n=f(n)$:<br>\n",
        "L'idée est toujours d'utiliser des fonctions! Complétez le code ci-dessous pour afficher U(7). Puis modifier le pour faire afficher U(50) avec U(n)=$\\frac{n+2}{n-3}$"
      ]
    },
    {
      "cell_type": "code",
      "metadata": {
        "id": "G7RyLa9CtHmg",
        "outputId": "abf4eab4-ab2b-4123-af72-fa6c35d8aa1d",
        "colab": {
          "base_uri": "https://localhost:8080/"
        }
      },
      "source": [
        "def U(n):\n",
        "    return n**2+3\n",
        "U(4)\n",
        "    "
      ],
      "execution_count": 1,
      "outputs": [
        {
          "output_type": "execute_result",
          "data": {
            "text/plain": [
              "19"
            ]
          },
          "metadata": {
            "tags": []
          },
          "execution_count": 1
        }
      ]
    },
    {
      "cell_type": "markdown",
      "metadata": {
        "id": "gJyG9inutHmj"
      },
      "source": [
        "<p>Pour faire afficher les termes de 0 à 10 par exemple, il faudra utiliser la méthode append.Changez la valeur debut et fin dans le code ci-dessous:</p>"
      ]
    },
    {
      "cell_type": "code",
      "metadata": {
        "id": "_mKItkhCtHmk",
        "outputId": "ee2497c9-2d88-4af2-99a6-ef59ed3a1a4d",
        "colab": {
          "base_uri": "https://localhost:8080/"
        }
      },
      "source": [
        "def u(n):\n",
        "    return n+3\n",
        "debut=0\n",
        "fin=10\n",
        "def listesuite(u,debut,fin):\n",
        "    suite = []\n",
        "    for i in range(debut,fin+1):\n",
        "        suite.append(u(i))\n",
        "    return suite\n",
        "listesuite(u,debut,fin)"
      ],
      "execution_count": null,
      "outputs": [
        {
          "output_type": "execute_result",
          "data": {
            "text/plain": [
              "[3, 4, 5, 6, 7, 8, 9, 10, 11, 12, 13]"
            ]
          },
          "metadata": {
            "tags": []
          },
          "execution_count": 9
        }
      ]
    },
    {
      "cell_type": "markdown",
      "metadata": {
        "id": "g9FQmjoWtHmn"
      },
      "source": [
        "<h3>1.2. Suites définies par une relation de récurrence</h3>"
      ]
    },
    {
      "cell_type": "markdown",
      "metadata": {
        "id": "D6fuvcdItHmo"
      },
      "source": [
        "Il s'agit d'une suite définie de la manière suivante:$U_{n_0}$ donné et\n",
        "$U_{n+1}=f(U_{n})$ pour $n \\geqslant n_0$ où $f$ représente une fonction.<br>\n",
        "Prenons le cas où $f(x)=5x+11$."
      ]
    },
    {
      "cell_type": "code",
      "metadata": {
        "id": "zvXywhlytHmo",
        "outputId": "63fbfed0-4df6-4b94-a0d3-cd7e40b86665",
        "colab": {
          "base_uri": "https://localhost:8080/"
        }
      },
      "source": [
        "def f(u_n):        #on calcule l'image de Un par f  \n",
        "    return 5*u_n+11\n",
        "\n",
        "def suite_recurrente(f,debut,fin,u_0):   #affichage de tous les termes\n",
        "    suite = [u_0]\n",
        "    for i in range(debut,fin):\n",
        "        suite.append(f(suite[i-debut]))\n",
        "    return suite\n",
        "\n",
        "suite_recurrente(f,2,6,3)"
      ],
      "execution_count": null,
      "outputs": [
        {
          "output_type": "execute_result",
          "data": {
            "text/plain": [
              "[3, 26, 141, 716, 3591]"
            ]
          },
          "metadata": {
            "tags": []
          },
          "execution_count": 11
        }
      ]
    },
    {
      "cell_type": "markdown",
      "metadata": {
        "id": "90aJ2epgtHms"
      },
      "source": [
        "<h3>1.3. Algorithme de seuil</h3>"
      ]
    },
    {
      "cell_type": "markdown",
      "metadata": {
        "id": "0pzEfV8RtHms"
      },
      "source": [
        "<p>Un algorithme \"de seuil\" permet de déterminer une valeur pour laquelle une condition est respectée pour la première fois. On l'utilise pour répondre à une question du type « déterminer la plus petite valeur de n pour laquelle... ».\n",
        "</p>"
      ]
    },
    {
      "cell_type": "code",
      "metadata": {
        "id": "Rl1Qu4mXtHmt",
        "outputId": "901ab48a-a141-4ae7-f101-fc039b86c78b",
        "colab": {
          "base_uri": "https://localhost:8080/"
        }
      },
      "source": [
        "#Suite définie de manière explicite\n",
        "def u(n):\n",
        "    return n**2+3\n",
        "\n",
        "def seuil(n_0,N):\n",
        "    n=n_0\n",
        "    while u(n)<N:\n",
        "        n=n+1\n",
        "    return n\n",
        "seuil(0,1000)"
      ],
      "execution_count": null,
      "outputs": [
        {
          "output_type": "execute_result",
          "data": {
            "text/plain": [
              "32"
            ]
          },
          "metadata": {
            "tags": []
          },
          "execution_count": 1
        }
      ]
    },
    {
      "cell_type": "markdown",
      "metadata": {
        "id": "Qly7f1ebtHmw"
      },
      "source": [
        "Modifiez le code ci-dessus pour trouver à partir de quelle valeur de n, on a $U_n$ > 1000 avec $U_n$ définie par $U_n=n²-2n+1$\n",
        "\n",
        "$(1+x)^2$"
      ]
    },
    {
      "cell_type": "code",
      "metadata": {
        "id": "DnsLGvertHmw",
        "outputId": "5eb1d6c2-a83e-4dc3-e998-bd6cad9193a9",
        "colab": {
          "base_uri": "https://localhost:8080/"
        }
      },
      "source": [
        "#Suite définie de manière récurrente\n",
        "def f(u_n):\n",
        "    return 3*u_n+11\n",
        "def seuil(n_0,u_0,N):\n",
        "    n=n_0\n",
        "    U=u_0\n",
        "    while U<N:\n",
        "        n=n+1\n",
        "        U=f(U)\n",
        "    return n\n",
        "seuil(0,3,1000)"
      ],
      "execution_count": null,
      "outputs": [
        {
          "output_type": "execute_result",
          "data": {
            "text/plain": [
              "5"
            ]
          },
          "metadata": {
            "tags": []
          },
          "execution_count": 2
        }
      ]
    },
    {
      "cell_type": "markdown",
      "metadata": {
        "id": "kv4HEM8ItHm0"
      },
      "source": [
        "<h3>1.4. Suite dite de FIBONACCI</h3>\n",
        "<p>Histoire: <a href=\"https://fr.wikipedia.org/wiki/Leonardo_Fibonacci\">Fibonacci</a></p>"
      ]
    },
    {
      "cell_type": "code",
      "metadata": {
        "id": "6q-_mg_HtHm0",
        "outputId": "a176af42-f842-4209-a889-496326e45449",
        "colab": {
          "base_uri": "https://localhost:8080/",
          "height": 336
        }
      },
      "source": [
        "%%html\n",
        "<iframe width=\"560\" height=\"315\" src=\"https://www.youtube.com/embed/JTy3v9_nZH8\" frameborder=\"0\" allow=\"accelerometer; autoplay; encrypted-media; gyroscope; picture-in-picture\" allowfullscreen></iframe>\n"
      ],
      "execution_count": null,
      "outputs": [
        {
          "output_type": "display_data",
          "data": {
            "text/html": [
              "<iframe width=\"560\" height=\"315\" src=\"https://www.youtube.com/embed/JTy3v9_nZH8\" frameborder=\"0\" allow=\"accelerometer; autoplay; encrypted-media; gyroscope; picture-in-picture\" allowfullscreen></iframe>"
            ],
            "text/plain": [
              "<IPython.core.display.HTML object>"
            ]
          },
          "metadata": {
            "tags": []
          }
        }
      ]
    },
    {
      "cell_type": "markdown",
      "metadata": {
        "id": "_Po2OskqtHm3"
      },
      "source": [
        "<p>Nous allons étudier, en utilisant Python, la suite de Fibonacci. </p><h2>Méthode dite récurrente.</h2></p>"
      ]
    },
    {
      "cell_type": "markdown",
      "metadata": {
        "id": "m7uqCib2tHm3"
      },
      "source": [
        "$$F_{n+2}=F_{n+1}+F_n$$ avec $$F_0=F_1=1$$\n",
        "<p>Remarque: on peut aussi trouver dans la littérature relative à ce sujet, une initialisation avec $F_{0}=0$ et $F_{1}=1$</p>"
      ]
    },
    {
      "cell_type": "code",
      "metadata": {
        "id": "leuzTVP_tHm4"
      },
      "source": [
        "def fibo(n):\n",
        "    if n==0 or n==1:\n",
        "        return 1\n",
        "    else:\n",
        "        return fibo(n-1)+fibo(n-2)"
      ],
      "execution_count": null,
      "outputs": []
    },
    {
      "cell_type": "markdown",
      "metadata": {
        "id": "I7kqQPQvtHm7"
      },
      "source": [
        "<p>Testez cette fonction avec différentes valeurs de n. Que constatez-vous? Pouvez-vous expliquer?</p>"
      ]
    },
    {
      "cell_type": "code",
      "metadata": {
        "id": "In7_CLHYtHm8",
        "outputId": "4cac2e54-3f9f-4126-ef57-22d07b2fd491",
        "colab": {
          "base_uri": "https://localhost:8080/"
        }
      },
      "source": [
        "fibo(10)"
      ],
      "execution_count": null,
      "outputs": [
        {
          "output_type": "execute_result",
          "data": {
            "text/plain": [
              "89"
            ]
          },
          "metadata": {
            "tags": []
          },
          "execution_count": 6
        }
      ]
    },
    {
      "cell_type": "markdown",
      "metadata": {
        "id": "FylSyOVxtHm_"
      },
      "source": [
        "<h3>Méthode dite de mémoization</h3>\n",
        "<p>Celle-ci ne garde en memoire que les résultats que l'on réutilise. Pour en savoir plus :<a href=\"https://callicode.fr/blog/post/memoization.html\">Memoization</a></p>"
      ]
    },
    {
      "cell_type": "code",
      "metadata": {
        "id": "-2b6KltMtHm_"
      },
      "source": [
        "def fibo2(n):\n",
        "    a=1\n",
        "    b=1\n",
        "    for i in range(n):\n",
        "        a,b=b,a+b\n",
        "    return a\n"
      ],
      "execution_count": null,
      "outputs": []
    },
    {
      "cell_type": "markdown",
      "metadata": {
        "id": "UhItMHTftHnD"
      },
      "source": [
        "A vous de tester cette fonction avec différentes valeurs de n!"
      ]
    },
    {
      "cell_type": "code",
      "metadata": {
        "id": "l5yD5x6QtHnE"
      },
      "source": [
        "fibo2(3004)"
      ],
      "execution_count": null,
      "outputs": []
    },
    {
      "cell_type": "markdown",
      "metadata": {
        "id": "N34TbSP_tHnG"
      },
      "source": [
        "<h2>2. Approximation de l'exponentielle</h2>\n",
        "<h3>Méthode d'EULER</h3>\n",
        "\n",
        "<p>Histoire: <a href=\"https://fr.wikipedia.org/wiki/Leonhard_Euler\">Euler</a></p>"
      ]
    },
    {
      "cell_type": "markdown",
      "metadata": {
        "id": "r5hbH8eTtHnH"
      },
      "source": [
        "<p>On se propose de tracer une fonction $f$ vérifiant $f'(x)=f(x)$ avec $f(0)=1$.\n",
        "<br>La méthode d’Euler consiste à construire une suite de points $(x_n,y_n)$ avec $y_n$ proche de $f(x_n)$.On construit alors un nuage de points constituant une approximation de la courbe représentative de la fonction $f$.\n",
        "On construit donc pour $(x_n)$ une suite arithmétique de raison $h>0$et de premier terme 0.<br>\n",
        "On a alors $x_n=nh$ et $x_{n+1}=x_n+h$ <br>\n",
        "Pour $(y_n)$ on a alors: $y_0=1$ puis on va utiliser l'approximation par la tangente. Pour tout $n \\in \\mathbb{N}$\n",
        "    La suite est définie par et pour tout . C’est-à-dire que l’on se sert de l’approximation affine de la fonction par ses tangentes successives.\n",
        "est géométrique de premier terme 1 et de raison 1 + h, en effet .\n",
        "D’où le script suivant :"
      ]
    },
    {
      "cell_type": "code",
      "metadata": {
        "id": "qyy4bSkQtHnH",
        "outputId": "7e425421-850b-4bcb-d0cd-b3dc9e16b6cb",
        "colab": {
          "base_uri": "https://localhost:8080/",
          "height": 265
        }
      },
      "source": [
        "import matplotlib.pyplot as plt   #On importe la bibliothèque permettant de tracer\n",
        "def Euler(x_fin,n) :              #On utilise de manière privilégiée les fonctions\n",
        "        x=0\n",
        "        y=1\n",
        "        h=x_fin/n\n",
        "        abscisse=[0]     #création de la liste des abscsisses\n",
        "        ordonnee=[1]     #création de la liste des ordonnées\n",
        "        for i in range(n) :\n",
        "            y=(1+h)*y\n",
        "            x=x+h\n",
        "            abscisse.append(x)    #ajout d'un terme à la fin de la liste\n",
        "            ordonnee.append(y)    #ajout d'un terme à la fin de la liste\n",
        "        plt.plot(abscisse,ordonnee,\"r\")\n",
        "        plt.show()       #permet l'affichage du graphique\n",
        "Euler(3,3)               #A vous de changer les valeurs suivant le contexte"
      ],
      "execution_count": null,
      "outputs": [
        {
          "output_type": "display_data",
          "data": {
            "image/png": "[encoded data removed]",
            "text/plain": [
              "<Figure size 432x288 with 1 Axes>"
            ]
          },
          "metadata": {
            "tags": [],
            "needs_background": "light"
          }
        }
      ]
    },
    {
      "cell_type": "code",
      "metadata": {
        "id": "sY7juTiotHnJ"
      },
      "source": [
        ""
      ],
      "execution_count": null,
      "outputs": []
    },
    {
      "cell_type": "code",
      "metadata": {
        "id": "EFrgdm0etHnN"
      },
      "source": [
        ""
      ],
      "execution_count": null,
      "outputs": []
    },
    {
      "cell_type": "markdown",
      "metadata": {
        "id": "z7JLRAVWtHnP"
      },
      "source": [
        "<footer>S. Renouf, Lycée Beaussier</footer>"
      ]
    }
  ]
}