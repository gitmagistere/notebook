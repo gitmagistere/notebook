{
 "cells": [
  {
   "cell_type": "markdown",
   "metadata": {},
   "source": [
    "# L'algorithme de Briggs-Vlacq pour le calcul des logarithmes"
   ]
  },
  {
   "cell_type": "code",
   "execution_count": null,
   "metadata": {},
   "outputs": [],
   "source": [
    "from math import sqrt, log10\n",
    "def briggs(x):\n",
    "    u = 1\n",
    "    v = 10\n",
    "    log_u = 0\n",
    "    log_v = 1\n",
    "    while v-u>10**(-6):\n",
    "        if sqrt(u*v) <=x:\n",
    "            u = sqrt(u*v)\n",
    "            log_u = (log_u+log_v)/2\n",
    "            print(u,\";\",log_u)\n",
    "        else:\n",
    "            v = sqrt(u*v)\n",
    "            log_v = (log_u+log_v)/2\n",
    "            print(v,\";\",log_v)\n",
    "    return log_u"
   ]
  },
  {
   "cell_type": "code",
   "execution_count": null,
   "metadata": {},
   "outputs": [],
   "source": [
    "briggs(9),log10(9)"
   ]
  },
  {
   "cell_type": "code",
   "execution_count": null,
   "metadata": {},
   "outputs": [],
   "source": []
  }
 ],
 "metadata": {
  "kernelspec": {
   "display_name": "Python 3",
   "language": "python",
   "name": "python3"
  },
  "language_info": {
   "codemirror_mode": {
    "name": "ipython",
    "version": 3
   },
   "file_extension": ".py",
   "mimetype": "text/x-python",
   "name": "python",
   "nbconvert_exporter": "python",
   "pygments_lexer": "ipython3",
   "version": "3.8.5"
  }
 },
 "nbformat": 4,
 "nbformat_minor": 4
}
