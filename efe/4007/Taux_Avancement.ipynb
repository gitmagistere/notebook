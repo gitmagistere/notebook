{
  "nbformat": 4,
  "nbformat_minor": 0,
  "metadata": {
    "colab": {
      "name": "Taux_Avancement.ipynb",
      "provenance": [],
      "collapsed_sections": []
    },
    "kernelspec": {
      "name": "python3",
      "display_name": "Python 3"
    }
  },
  "cells": [
    {
      "cell_type": "code",
      "metadata": {
        "id": "g8qbJ1pZB5YB",
        "colab_type": "code",
        "colab": {}
      },
      "source": [
        " # Import des bibliothèques\n",
        "\n",
        "import numpy as np   \n",
        "\n",
        "\n",
        "def taux (Ca, pKa, V):          # solution d'acide faible de concentration Ca et de volume V\n",
        "    Ka = 10**(-pKa)\n",
        "    xmax = Ca*V   # xmax = Ca*V\n",
        "    # Equation du second degré : (xf/V)**2 + Ka*xf/V-Ka*Ca=0\n",
        "    a = 1/(V**2)\n",
        "    b = Ka/V\n",
        "    c = -Ka*Ca\n",
        "    delta = b**2-4*a*c\n",
        "    xf1 = (-b-np.sqrt(delta))/(2*a)\n",
        "    xf2 = (-b+np.sqrt(delta))/(2*a)\n",
        "    if xf1<0:\n",
        "        xf=xf2\n",
        "    elif xf2<0:\n",
        "        xf = xf1\n",
        "    else :\n",
        "        xf = min(xf1,xf2)\n",
        "    taux = xf/xmax\n",
        "    print(\"L'avancement final vaut \",xf,\" mol\")\n",
        "    print(\"L'avancement maximal vaut\",xmax,\"mol\")\n",
        "    print(\"et le taux d'avancement final vaut \", taux,\" soit \",taux*100,\"%\")\n",
        "    return (xf,xmax,taux)\n",
        "\n",
        "\n",
        "Ca = 0.2  # concentration de la solution en acide faible apporté en mol/L\n",
        "pKa = 3.8 # pKa du couple acide faible/base faible\n",
        "V = 0.010 # Volume de la solution en L\n",
        "taux (Ca,pKa,V)\n",
        "\n"
      ],
      "execution_count": 0,
      "outputs": []
    }
  ]
}