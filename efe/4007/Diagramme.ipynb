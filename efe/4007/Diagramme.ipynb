{
  "nbformat": 4,
  "nbformat_minor": 0,
  "metadata": {
    "colab": {
      "name": "Diagramme.ipynb",
      "provenance": [],
      "collapsed_sections": []
    },
    "kernelspec": {
      "name": "python3",
      "display_name": "Python 3"
    }
  },
  "cells": [
    {
      "cell_type": "code",
      "metadata": {
        "id": "g8qbJ1pZB5YB",
        "colab_type": "code",
        "colab": {}
      },
      "source": [
        "# Import des bibliothèques\n",
        "\n",
        "import matplotlib.pyplot as plt\n",
        "%matplotlib inline\n",
        "import numpy as np\n",
        "\n",
        "\n",
        "def diagramme(pKa):\n",
        "    pH = np.arange(0,15,0.1)\n",
        "    X = 10**(pH-pKa)     # X = Cb/Ca =Pb/Pa\n",
        "    Pb = X*100/(1+X)     # % de base faible\n",
        "    Pa = 100-Pb          # % d'acide faible\n",
        "\n",
        "    plt.figure (figsize = (10,8))\n",
        "    plt.plot(pH,Pa,\"r+-\",label=\"acide\")\n",
        "    plt.plot(pH,Pb,\"b+-\",label=\"base\")\n",
        "    plt.xlabel(\"pH\")\n",
        "    plt.ylabel(\"%\")\n",
        "    plt.legend()\n",
        "    plt.grid()\n",
        "    plt.title (\"Diagramme de distribution d'un couple acide faible/base faible\")\n",
        "    plt.show\n",
        "\n",
        "\n",
        "pKa=float(input('Quel est le pkA du couple acide/base ?'))\n",
        "diagramme (pKa)\n",
        "\n"
      ],
      "execution_count": 0,
      "outputs": []
    }
  ]
}