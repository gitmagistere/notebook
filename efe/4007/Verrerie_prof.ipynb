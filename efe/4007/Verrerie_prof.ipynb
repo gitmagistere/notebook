{
  "nbformat": 4,
  "nbformat_minor": 0,
  "metadata": {
    "colab": {
      "name": "Verrerie_prof.ipynb",
      "provenance": [],
      "collapsed_sections": []
    },
    "kernelspec": {
      "name": "python3",
      "display_name": "Python 3"
    }
  },
  "cells": [
    {
      "cell_type": "markdown",
      "metadata": {
        "id": "4bJtLkbLVRiv",
        "colab_type": "text"
      },
      "source": [
        "Importation des bibliothèques matplotlib.pyplot et numpy\n",
        "\n",
        "Importation des valeurs expérimentales dans une liste : liste = [valeur1,valeur2,valeur3,...]\n",
        "\n",
        "On donne ici les volumes mesurées dans un bécher , une fiole jaugée et une éprouvette de 50 mL par mesure de la masse d'eau. "
      ]
    },
    {
      "cell_type": "code",
      "metadata": {
        "id": "GhN9LEx8KDeZ",
        "colab_type": "code",
        "colab": {}
      },
      "source": [
        "\n",
        "import matplotlib.pyplot as plt\n",
        "import numpy as np\n",
        "\n",
        "Vbe=[46.23,47.16,46.71,45.93,46.28,46.57,46.3,46.03]\n",
        "Vfi=[49.76,49.87,49.85,49.83,49.86,49.86,49.92,49.87]\n",
        "Vep=[49.21,49.56,49.02,49.16,49.05,49.41,49.31,49.43]\n",
        "\n",
        "\n",
        "\n",
        " "
      ],
      "execution_count": 0,
      "outputs": []
    },
    {
      "cell_type": "markdown",
      "metadata": {
        "id": "psScgtvEVf8q",
        "colab_type": "text"
      },
      "source": [
        "Tracé de l'histogramme"
      ]
    },
    {
      "cell_type": "code",
      "metadata": {
        "id": "gihHRoqYVgUc",
        "colab_type": "code",
        "colab": {}
      },
      "source": [
        "list=Vbe+Vfi+Vep\n",
        "plt.figure(1) \n",
        "plt.hist([Vbe,Vfi,Vep],range=(min(list),max(list)),color=[\"b\",\"y\",\"r\"])\n",
        "plt.ylabel(\"Fréquence\")\n",
        "plt.xlabel(\"Volume mL\")\n",
        "plt.legend([\"bécher\",\"fiole jaugée\",\"éprouvette graduée\"])\n"
      ],
      "execution_count": 0,
      "outputs": []
    },
    {
      "cell_type": "markdown",
      "metadata": {
        "id": "C-VRW4EPVwdq",
        "colab_type": "text"
      },
      "source": [
        "Statistiques pour les volumes prélevés au bécher"
      ]
    },
    {
      "cell_type": "code",
      "metadata": {
        "id": "Qbx0HR6fVyAp",
        "colab_type": "code",
        "colab": {}
      },
      "source": [
        "mVbe=np.mean(Vbe)\n",
        "ecartVbe=np.std(Vbe,ddof=1)\n",
        "uVbe=ecartVbe/np.sqrt(len(Vbe))\n",
        " \n",
        "print(\"Résultats statistiques pour le bécher :\")\n",
        "print(\"valeur moyenne = \",mVbe, \"mL\")\n",
        "print (\"ecart type s = \", ecartVbe, \"mL\")\n",
        "print(\"incertitude u = \",uVbe, \"mL\")\n"
      ],
      "execution_count": 0,
      "outputs": []
    },
    {
      "cell_type": "markdown",
      "metadata": {
        "id": "o7CjgW3HWJlG",
        "colab_type": "text"
      },
      "source": [
        "Statistiques pour les volumes prélevés à la fiole jaugée"
      ]
    },
    {
      "cell_type": "code",
      "metadata": {
        "id": "kLr0zorJWJxm",
        "colab_type": "code",
        "colab": {}
      },
      "source": [
        "mVfi=np.mean(Vfi)\n",
        "ecartVfi=np.std(Vfi,ddof=1)\n",
        "uVfi=ecartVfi/np.sqrt(len(Vfi))\n",
        " \n",
        "print(\"Résultats statistiques pour la fiole jaugée :\")\n",
        "print(\"valeur moyenne = \",mVfi, \"mL\")\n",
        "print (\"ecart type s = \", ecartVfi, \"mL\")\n",
        "print(\"incertitude u = \",uVfi, \"mL\")"
      ],
      "execution_count": 0,
      "outputs": []
    },
    {
      "cell_type": "markdown",
      "metadata": {
        "id": "vROuI61OWK2v",
        "colab_type": "text"
      },
      "source": [
        "Statistiques pour les volumes prélevés à l'éprouvete graduée"
      ]
    },
    {
      "cell_type": "code",
      "metadata": {
        "id": "2oPH6BXNWLDK",
        "colab_type": "code",
        "colab": {}
      },
      "source": [
        "mVep=np.mean(Vep)\n",
        "ecartVep=np.std(Vep,ddof=1)\n",
        "uVep=ecartVep/np.sqrt(len(Vep))\n",
        " \n",
        "print(\"Résultats statistiques pour l éprouvette graduée :\")\n",
        "print(\"valeur moyenne = \",mVep, \"mL\")\n",
        "print (\"ecart type s = \", ecartVep, \"mL\")\n",
        "print(\"incertitude u = \",uVep, \"mL\")\n",
        " "
      ],
      "execution_count": 0,
      "outputs": []
    }
  ]
}