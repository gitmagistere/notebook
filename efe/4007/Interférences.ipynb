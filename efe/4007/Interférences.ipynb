{
  "nbformat": 4,
  "nbformat_minor": 0,
  "metadata": {
    "colab": {
      "name": "Interférences.ipynb",
      "provenance": [],
      "collapsed_sections": []
    },
    "kernelspec": {
      "name": "python3",
      "display_name": "Python 3"
    }
  },
  "cells": [
    {
      "cell_type": "code",
      "metadata": {
        "id": "g8qbJ1pZB5YB",
        "colab_type": "code",
        "colab": {}
      },
      "source": [
        "# Import des bibliothèques\n",
        "\n",
        "import numpy as np\n",
        "import matplotlib.pyplot as plt\n",
        "%matplotlib inline\n",
        "\n",
        "def onderesultante(A1, A2, T, phi2,duree,Te):\n",
        "    t=np.arange(0,duree,Te)\n",
        "    s1= A1*np.cos(2*np.pi*t/T)      # on pose phi1=0\n",
        "    s2= A2*np.cos(2*np.pi*t/T+phi2)\n",
        "    s=s1+s2\n",
        "\n",
        "    plt.figure (figsize = (10,8))\n",
        "    plt.plot(t,s1,\"r+-\",label=\"onde 1\")\n",
        "    plt.plot(t,s2,\"b+-\",label=\"onde 2\")\n",
        "    plt.plot(t,s,\"g+-\",label=\"onde résultante\")\n",
        "    plt.xlabel(\"temps(s)\")\n",
        "    plt.ylabel(\"élongation\")\n",
        "    plt.legend()\n",
        "    plt.grid()\n",
        "    plt.title (\"Interférences de deux ondes\")\n",
        "    plt.show\n",
        "\n",
        "A1=1\n",
        "A2=1\n",
        "T=2   # période en s\n",
        "phi2 = 1.5*np.pi\n",
        "duree= 8  # durée en s\n",
        "Te= 0.05\n",
        "\n",
        "onderesultante(A1,A2,T,phi2,duree,Te)\n",
        "    \n"
      ],
      "execution_count": 0,
      "outputs": []
    }
  ]
}