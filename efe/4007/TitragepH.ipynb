{
  "nbformat": 4,
  "nbformat_minor": 0,
  "metadata": {
    "colab": {
      "name": "TitragepH.ipynb",
      "provenance": [],
      "collapsed_sections": []
    },
    "kernelspec": {
      "name": "python3",
      "display_name": "Python 3"
    }
  },
  "cells": [
    {
      "cell_type": "code",
      "metadata": {
        "id": "g8qbJ1pZB5YB",
        "colab_type": "code",
        "colab": {}
      },
      "source": [
        " # Import des bibliothèques\n",
        "\n",
        "import matplotlib.pyplot as plt\n",
        "%matplotlib inline\n",
        "import numpy as np\n",
        "from scipy import stats\n",
        "    \n"
      ],
      "execution_count": 0,
      "outputs": []
    },
    {
      "cell_type": "markdown",
      "metadata": {
        "id": "MObNEtWnHC0i",
        "colab_type": "text"
      },
      "source": [
        "Liste de valeurs expérimentales de volume de base versée Vb (ici la soude est titrante) en mL et de pH . On dose l'acide éthanoïque.\n",
        "\n",
        " \n",
        "\n"
      ]
    },
    {
      "cell_type": "code",
      "metadata": {
        "id": "g67ZmIo3FM0I",
        "colab_type": "code",
        "colab": {}
      },
      "source": [
        "Vb = np.array([0,1,2,3,4,5,6,7,8,9,10,11,12,12.2,12.4,12.6,12.8,13,13.2,13.4,\n",
        "              13.6,13.8,14,14.2,14.4,14.6,14.8,15,16,17,18,19,20,21,22,23,24,25])\n",
        "\n",
        "pH = np.array([3.21,3.60,3.88,4.07,4.24,4.38,4.51,4.64,4.78,4.93,5.11,5.28,5.60,5.69,5.78,\n",
        "               5.95,6.03,6.28,6.75,7.08,9.32,10.26,10.68,10.83,10.94,11.1,11.17,\n",
        "      11.29,11.47,11.60,11.70,11.83,11.90,11.95,12.00,12.02,12.08,12.10])"
      ],
      "execution_count": 0,
      "outputs": []
    },
    {
      "cell_type": "code",
      "metadata": {
        "id": "88P_waA4FPtR",
        "colab_type": "code",
        "colab": {}
      },
      "source": [
        "def derivee(x,y):\n",
        "    dery=[]\n",
        "    for i in range (len(x)-1):\n",
        "        deryi=(y[i+1]-y[i])/(x[i+1]-x[i])\n",
        "        dery.append(deryi)\n",
        "    return dery\n",
        "\n",
        "derpH=derivee (Vb,pH)\n",
        "print (derpH)\n",
        "\n",
        "# Suppression de la dernière valeur du tableau à cause de l'affichage de la courbe de la dérivée\n",
        "Vb = np.delete(Vb,-1)\n",
        "pH = np.delete(pH,-1)"
      ],
      "execution_count": 0,
      "outputs": []
    },
    {
      "cell_type": "code",
      "metadata": {
        "id": "S313OVe0FZK3",
        "colab_type": "code",
        "colab": {}
      },
      "source": [
        "plt.figure(figsize=(12,10))\n",
        "plt.gcf().subplots_adjust(left =0.125, bottom = 0.2, right = 1.5, top = 1.5, wspace = 0.5, hspace = 0.5)\n",
        "plt.subplot(2,1,1)\n",
        "plt.plot(Vb,pH,\"r+-\", label=\"pH\")\n",
        "plt.xlabel(\"Vb (mL)\")\n",
        "plt.ylabel(\"pH\")\n",
        "plt.grid()\n",
        "plt.title(\"titrage de l'acide éthanoïque par la soude\")\n",
        "plt.legend()\n",
        "plt.subplot(2,1,2)\n",
        "plt.plot(Vb,derpH,\"b+-\",label=\"dérivée\")\n",
        "plt.xlabel(\"Vb (mL)\")\n",
        "plt.ylabel(\"derivée (mL-1)\")\n",
        "plt.grid()\n",
        "plt.title(\"détermination du volume équivalent\")\n",
        "plt.legend()\n",
        "plt.show()"
      ],
      "execution_count": 0,
      "outputs": []
    },
    {
      "cell_type": "code",
      "metadata": {
        "id": "RDraJqzbFbpi",
        "colab_type": "code",
        "colab": {}
      },
      "source": [
        "# détermination du volume équivalent\n",
        "\n",
        "Vbe = Vb[(derpH.index(max(derpH)))]\n",
        "print (\"Vbe=\",Vbe,\"mL\")"
      ],
      "execution_count": 0,
      "outputs": []
    },
    {
      "cell_type": "code",
      "metadata": {
        "id": "CUEpOIWXFeEs",
        "colab_type": "code",
        "colab": {}
      },
      "source": [
        "# Evolution des quantités de matières des réactifs et prduits dans le milieu réactionnel\n",
        "cb = 0.1  # concentration de la solution titrante d'hydroxyde de sodium en mol/L\n",
        "na=np.array([])\n",
        "nb=np.array([])\n",
        "nc=np.array([])\n",
        "for i in range (len(Vb)):\n",
        "    if Vb[i]<=Vbe:\n",
        "        nai = cb*Vbe-cb*Vb[i]   # qté de matière d'acide éthanoïque en mmol\n",
        "        nbi = 0                 # qté de matière des ions hydroxyde en mmol\n",
        "        nci = cb*Vb[i]          # qté de matière des ions éthanoate en mmol\n",
        "        na = np.append(na,nai)\n",
        "        nb = np.append(nb,nbi)\n",
        "        nc = np.append(nc,nci)\n",
        "    else:\n",
        "        nai = 0                 # qté de matière d'acide éthanoïque en mmol\n",
        "        nbi = cb*(Vb[i]-Vbe)       # qté de matière des ions hydroxyde en mmol\n",
        "        nci = cb*Vbe            # qté de matière des ions éthanoate en mmol\n",
        "        na = np.append(na,nai)\n",
        "        nb = np.append(nb,nbi)\n",
        "        nc = np.append(nc,nci)\n",
        "print (na)\n",
        "print (nb)\n",
        "print (nc)"
      ],
      "execution_count": 0,
      "outputs": []
    },
    {
      "cell_type": "code",
      "metadata": {
        "id": "ebtFQwv6FiNf",
        "colab_type": "code",
        "colab": {}
      },
      "source": [
        "plt.figure(figsize=(12,10))\n",
        "plt.plot(Vb,na,\"b+-\",label=\"acide éthanoïque\")\n",
        "plt.plot(Vb,nb,\"g+-\",label=\"ions hydroxyde\")\n",
        "plt.plot(Vb,nc,\"r+-\",label=\"ions éthanoate\")\n",
        "plt.xlabel(\"volume de réactif titrant (mL)\")\n",
        "plt.ylabel(\"quantité de matière (mmol)\")\n",
        "plt.title(\"Etude des quantités de matière des espèces chimiques présentes dans le milieu réactionnel\")\n",
        "plt.legend()\n",
        "plt.grid()\n",
        "plt.show()\n"
      ],
      "execution_count": 0,
      "outputs": []
    },
    {
      "cell_type": "markdown",
      "metadata": {
        "id": "I6FUeNAdHxuc",
        "colab_type": "text"
      },
      "source": [
        ""
      ]
    }
  ]
}