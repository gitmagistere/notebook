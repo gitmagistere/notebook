{
 "cells": [
  {
   "cell_type": "markdown",
   "metadata": {
    "colab_type": "text",
    "id": "1-1mpY_O0t1R"
   },
   "source": [
    "**Une fonction chère à John**</br>\n",
    "\n",
    "1.   Visionner la capsule vidéo expliquant le fonctionnement de la [méthode d'Euler](https://www.youtube.com/watch?v=5Jj6b4AV_Ao) .\n",
    "2.   Après avoir lu le script ci-dessous, pouvez-vous donner une valeur approchée de p(e,3) ?\n",
    "3.   Tester votre hypothèse.\n",
    "4.   Produire et compléter un tableau afin de déterminer la valeur que renvoie l'appel p(2,3).\n",
    "4.   Quel rôle est censé jouer la fonction p ? Comment pourrait-on indiquer ce rôle aux utilisateurs de la fonction ?"
   ]
  },
  {
   "cell_type": "code",
   "execution_count": 5,
   "metadata": {
    "colab": {},
    "colab_type": "code",
    "id": "2VVRm3iG0t1U"
   },
   "outputs": [],
   "source": [
    "from math import *\n",
    "def p(a,n):\n",
    "    assert a>0\n",
    "    x=1\n",
    "    y=0\n",
    "    h=(a-1)/n\n",
    "    for i in range(n):\n",
    "        y=y+h*1/x\n",
    "        x=x+h\n",
    "    return y"
   ]
  },
  {
   "cell_type": "markdown",
   "metadata": {
    "colab_type": "text",
    "id": "N9vDQR670t1e"
   },
   "source": [
    "**Représentation de la fonction logarithme népérien** </br>\n",
    "1.   Compléter le script ci-dessous afin d'implémenter une fonction permettant l'affichage de la courbe représentative de la fonction ln sur l'intervalle [1 ; 2] puis sur [0,5 ; 2]."
   ]
  },
  {
   "cell_type": "code",
   "execution_count": null,
   "metadata": {
    "colab": {},
    "colab_type": "code",
    "id": "fAuEU88Y0t1g"
   },
   "outputs": [],
   "source": [
    "import matplotlib.pyplot as plt  \n",
    "def euler(a,n):\n",
    "     assert a>0\n",
    "     x=1\n",
    "     y=0\n",
    "     h=(a-1)/n\n",
    "     for i in range(n):\n",
    "         y=y+h*1/x\n",
    "         x=x+h\n",
    "         plt.plot(x,y,'b.')\n",
    "euler1(...,...)\n",
    "...................\n",
    "plt.grid()\n",
    "plt.show()"
   ]
  },
  {
   "cell_type": "code",
   "execution_count": null,
   "metadata": {
    "colab": {},
    "colab_type": "code",
    "id": "T0Xol7iNK1T5"
   },
   "outputs": [],
   "source": []
  },
  {
   "cell_type": "markdown",
   "metadata": {
    "colab_type": "text",
    "id": "Icc24NQET76P"
   },
   "source": [
    "**Une solution possible**"
   ]
  },
  {
   "cell_type": "code",
   "execution_count": null,
   "metadata": {
    "colab": {},
    "colab_type": "code",
    "id": "W5BV1G9KK3Ow"
   },
   "outputs": [],
   "source": [
    "import matplotlib.pyplot as plt  \n",
    "def euler(a,n):\n",
    "     assert a>0\n",
    "     x=1\n",
    "     y=0\n",
    "     plt.plot(x,y,'b.')\n",
    "     h=(a-1)/n\n",
    "     for i in range(n):\n",
    "         y=y+h*1/x\n",
    "         x=x+h\n",
    "         plt.plot(x,y,'b.')\n",
    "euler(2,100)\n",
    "euler1(0.5,100)\n",
    "plt.grid()\n",
    "plt.show()"
   ]
  },
  {
   "cell_type": "markdown",
   "metadata": {
    "colab_type": "text",
    "id": "HZss-mJAVCTX"
   },
   "source": [
    "2.   Compléter le script ci-dessous afin d'implémenter une fonction permettant l'affichage de la courbe représentative de la fonction ln sur l'intervalle [1;2] puis sur [0,5;2]."
   ]
  },
  {
   "cell_type": "code",
   "execution_count": null,
   "metadata": {
    "colab": {},
    "colab_type": "code",
    "id": "JQj3aBSf0t1l"
   },
   "outputs": [],
   "source": [
    "from math import *\n",
    "import matplotlib.pyplot as plt\n",
    "def euler2(a,n):\n",
    "    h = (a-1)/n\n",
    "    abscisse = [1]\n",
    "    ordonnee = [0]\n",
    "    x = 1\n",
    "    y = 0\n",
    "    for i in range(n):\n",
    "        y = y + h*1/x\n",
    "        x = x + h\n",
    "        .....................................\n",
    "        .....................................\n",
    "    return (...........,..........)\n",
    "\n",
    "X,Y=euler2(2,100)\n",
    "plt.plot(X,Y,'b')\n",
    "X,Y=euler2(0.5,100)\n",
    "plt.plot(X,Y,'b')\n",
    "plt.grid()\n",
    "plt.show()"
   ]
  },
  {
   "cell_type": "markdown",
   "metadata": {
    "colab_type": "text",
    "id": "pyUs6n_3VstG"
   },
   "source": [
    "**Une solution possible**"
   ]
  },
  {
   "cell_type": "code",
   "execution_count": null,
   "metadata": {
    "colab": {},
    "colab_type": "code",
    "id": "DUhvmDv_VrWn"
   },
   "outputs": [],
   "source": [
    "from math import *\n",
    "import matplotlib.pyplot as plt\n",
    "def euler2(a,n):\n",
    "    h = (a-1)/n\n",
    "    abscisse = [1]\n",
    "    ordonnee = [0]\n",
    "    x = 1\n",
    "    y = 0\n",
    "    for i in range(n):\n",
    "        y = y + h*1/x\n",
    "        x = x + h\n",
    "        abscisse.append(x)\n",
    "        ordonnee.append(y)\n",
    "    return (abscisse,ordonnee)\n",
    "\n",
    "X,Y=euler2(2,100)\n",
    "plt.plot(X,Y,'b')\n",
    "X,Y=euler2(0.5,100)\n",
    "plt.plot(X,Y,'b')\n",
    "plt.grid()\n",
    "plt.show()"
   ]
  },
  {
   "cell_type": "markdown",
   "metadata": {
    "colab_type": "text",
    "id": "zezgOxWpV-lQ"
   },
   "source": [
    "\n",
    "\n",
    "3.   Parmi les deux scripts ci-dessus, identifier les différentes notions algorithmiques travaillées. Quel est celui que vous auriez développer avec vos élèves ?\n",
    "**Quelques idées possibles**\n",
    "\n",
    "\n",
    "*   les deux permettent de travailler la boucle for, le module matplotlib\n",
    "*   le second permet en plus de travailler les listes\n",
    "*   la notion de fonction prend davantage de sens dans le second script\n",
    "*   dans le premier script, l'affichage est stocké au fur et à mesure des itérations et le point de coordonnées (0,1) n'est pas affiché.\n"
   ]
  },
  {
   "cell_type": "markdown",
   "metadata": {
    "colab_type": "text",
    "id": "5yETw7-LY8t4"
   },
   "source": [
    "\n",
    "\n",
    "4.   **Bonus**: </br>\n",
    "Après vous être approprié le script ci-dessous, comment imagineriez-vous sa mise en oeuvre en classe ?"
   ]
  },
  {
   "cell_type": "code",
   "execution_count": null,
   "metadata": {
    "colab": {},
    "colab_type": "code",
    "id": "3MLC367hHf88"
   },
   "outputs": [],
   "source": [
    "import matplotlib.pyplot as plt  \n",
    "from math import *\n",
    "def p1(a,n):\n",
    "    assert a>0\n",
    "    x=1\n",
    "    y=0\n",
    "    h=(a-1)/n\n",
    "    for i in range(n):\n",
    "        y=y+h*1/x\n",
    "        x=x+h\n",
    "    return (x,y)\n",
    "def euler(a,n):\n",
    "     assert a>0\n",
    "     z=[0,0]\n",
    "     plt.plot(1,0)\n",
    "     for i in range(1,n):\n",
    "         for k in range(1,i+1):\n",
    "             z=p1(1+k*(a-1)/n,k)\n",
    "         plt.plot(z[0],z[1],'b.')\n",
    "euler(2,100)\n",
    "euler(0.5,100)\n",
    "plt.grid()\n",
    "plt.show()\n"
   ]
  }
 ],
 "metadata": {
  "colab": {
   "name": "Algorithme Euler Formateur.ipynb",
   "provenance": []
  },
  "kernelspec": {
   "display_name": "Python 3 (ipykernel)",
   "language": "python",
   "name": "python3"
  },
  "language_info": {
   "codemirror_mode": {
    "name": "ipython",
    "version": 3
   },
   "file_extension": ".py",
   "mimetype": "text/x-python",
   "name": "python",
   "nbconvert_exporter": "python",
   "pygments_lexer": "ipython3",
   "version": "3.9.7"
  }
 },
 "nbformat": 4,
 "nbformat_minor": 1
}
