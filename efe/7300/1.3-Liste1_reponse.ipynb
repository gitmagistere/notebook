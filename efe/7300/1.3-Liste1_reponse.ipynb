{
 "cells": [
  {
   "cell_type": "markdown",
   "metadata": {
    "colab_type": "text",
    "id": "UV6nCGBIIiWT"
   },
   "source": [
    "## Liste - éléments de réponse\n",
    "\n"
   ]
  },
  {
   "cell_type": "markdown",
   "metadata": {
    "colab_type": "text",
    "id": "KNXxxSUbIiYB"
   },
   "source": [
    "## TP : Suite de Syracuse\n",
    "Sources : Barbazo 1ère, 2019, p. 25"
   ]
  },
  {
   "cell_type": "markdown",
   "metadata": {
    "colab_type": "text",
    "id": "UHQCSRlfIiYC"
   },
   "source": [
    "On appelle suite de Syracuse une suite $(U_n)$ d’entiers naturels définie de la manière suivante : \n",
    "- le 1er terme $U_0$ est un entier naturel non nul que l’on choisit initialement\n",
    "- pour tout entier naturel n :\n",
    "    - si n est pair $U_{n+1} = U_n / 2$;\n",
    "    - sinon $U_{n+1} = 3*U_n +1 $\n",
    "\n",
    "La conjecture de Syracuse s’énonce ainsi : \"Quel que soit le nombre naturel non nul $U_0$, le nombre $1$ est atteint par la suite $(U_n)$\"\n",
    "\n",
    "On appelle temps de vol de la suite l’indice du premier terme de la suite qui vaut 1.\n",
    "On appelle altitude du vol de la suite la valeur du plus grand terme de la suite."
   ]
  },
  {
   "cell_type": "code",
   "execution_count": 16,
   "metadata": {
    "colab": {},
    "colab_type": "code",
    "executionInfo": {
     "elapsed": 272,
     "status": "ok",
     "timestamp": 1600001952130,
     "user": {
      "displayName": "Nicolas Villemain",
      "photoUrl": "https://lh3.googleusercontent.com/a-/AOh14GhosLCD7TNXIicI9ysG3-wS6ryzM_z6KY9tkdv1zw=s64",
      "userId": "04387918536229145814"
     },
     "user_tz": 240
    },
    "id": "_webLeW2IiYD"
   },
   "outputs": [],
   "source": [
    "def Syracuse(u) :\n",
    "    if u%2 == 0 :\n",
    "        u = u//2\n",
    "    else :\n",
    "        u = 3*u + 1\n",
    "    return(u)\n",
    "\n",
    "def Liste_Syracuse(u):\n",
    "    L=[u]\n",
    "    while u != 1:\n",
    "        L.append(Syracuse(u))\n",
    "        u=Syracuse(u)\n",
    "    return L"
   ]
  },
  {
   "cell_type": "code",
   "execution_count": 46,
   "metadata": {
    "colab": {
     "base_uri": "https://localhost:8080/",
     "height": 35
    },
    "colab_type": "code",
    "executionInfo": {
     "elapsed": 290,
     "status": "ok",
     "timestamp": 1600003294066,
     "user": {
      "displayName": "Nicolas Villemain",
      "photoUrl": "https://lh3.googleusercontent.com/a-/AOh14GhosLCD7TNXIicI9ysG3-wS6ryzM_z6KY9tkdv1zw=s64",
      "userId": "04387918536229145814"
     },
     "user_tz": 240
    },
    "id": "vVA7xaHOIiYH",
    "outputId": "7b184879-013c-4586-a060-894a460725c9"
   },
   "outputs": [
    {
     "data": {
      "text/plain": [
       "[14, 7, 22, 11, 34, 17, 52, 26, 13, 40, 20, 10, 5, 16, 8, 4, 2, 1]"
      ]
     },
     "execution_count": 46,
     "metadata": {
      "tags": []
     },
     "output_type": "execute_result"
    }
   ],
   "source": [
    "Liste_Syracuse(14)\n"
   ]
  },
  {
   "cell_type": "markdown",
   "metadata": {
    "colab_type": "text",
    "id": "SDgXIuO9ijkR"
   },
   "source": []
  },
  {
   "cell_type": "markdown",
   "metadata": {
    "colab_type": "text",
    "id": "gAWx1YZQIiYK"
   },
   "source": [
    "**Répondre aux questions suivantes**\n",
    "\n",
    "1) Nombre renvoyé par $Syracuse(6)$ : 3  Par $Syracuse(7)$ : 22 \n",
    "\n",
    "2) A quel test correspond $u%2==0$ ? Vérifier que $u$ est pair\n",
    "\n",
    "3) Quelle est le rôle de la fonction $Syracuse()$ ? De calculer les termes de la suite de Syracuse\n",
    "\n",
    "4) Que retourne $Liste\\_Syracuse(14)$ écrite dans la console ? \n",
    "[14, 7, 22, 11, 34, 17, 52, 26, 13, 40, 20, 10, 5, 16, 8, 4, 2, 1]\n",
    "\n",
    "5) Que fait l’instruction $L.append(Syracuse(u))$ ? Créé la listes des termes de la suite de Syracuse\n",
    "\n",
    "6) Pour connaître la longueur d’une liste, on utilise la fonction $len(L)$ (voir ci-dessus).  Pour connaître la plus grande valeur d’une liste, il existe la fonction $max(L)$. \n",
    "\n"
   ]
  },
  {
   "cell_type": "markdown",
   "metadata": {
    "colab_type": "text",
    "id": "rfiRlwQQUIAY"
   },
   "source": [
    "7) Ecrire deux fonctions \n",
    "- la première retourne l’altitude du vol d’une suite de Syracuse. \n",
    "- la deuxième retourne le temps de vol d’une suite de Syracuse.\n",
    "\n"
   ]
  },
  {
   "cell_type": "code",
   "execution_count": 48,
   "metadata": {
    "colab": {
     "base_uri": "https://localhost:8080/",
     "height": 35
    },
    "colab_type": "code",
    "executionInfo": {
     "elapsed": 336,
     "status": "ok",
     "timestamp": 1600003317337,
     "user": {
      "displayName": "Nicolas Villemain",
      "photoUrl": "https://lh3.googleusercontent.com/a-/AOh14GhosLCD7TNXIicI9ysG3-wS6ryzM_z6KY9tkdv1zw=s64",
      "userId": "04387918536229145814"
     },
     "user_tz": 240
    },
    "id": "qb2iXC48IiYL",
    "outputId": "ff013692-f561-45ee-b431-cfc6fc4daf7b"
   },
   "outputs": [
    {
     "data": {
      "text/plain": [
       "(15, 52)"
      ]
     },
     "execution_count": 48,
     "metadata": {
      "tags": []
     },
     "output_type": "execute_result"
    }
   ],
   "source": [
    "def altitude_vol(n) :\n",
    "  return max(Liste_Syracuse(n))\n",
    "\n",
    "def temps_vol(n):\n",
    "  return len(Liste_Syracuse(n))\n",
    "\n",
    "temps_vol(14),altitude_vol(14)\n"
   ]
  },
  {
   "cell_type": "markdown",
   "metadata": {
    "colab_type": "text",
    "id": "coByszV_UKhj"
   },
   "source": [
    "8) Ecrire deux programmes :\n",
    "- le premier retournera la plus petite valeur $U_0$ permettant d’avoir une altitude supérieure à $100$\n",
    "- le deuxième retournera la valeur $U_0$ de l’intervalle $[1;100]$ ayant le vol le plus long."
   ]
  },
  {
   "cell_type": "code",
   "execution_count": 43,
   "metadata": {
    "colab": {
     "base_uri": "https://localhost:8080/",
     "height": 35
    },
    "colab_type": "code",
    "executionInfo": {
     "elapsed": 311,
     "status": "ok",
     "timestamp": 1600003239836,
     "user": {
      "displayName": "Nicolas Villemain",
      "photoUrl": "https://lh3.googleusercontent.com/a-/AOh14GhosLCD7TNXIicI9ysG3-wS6ryzM_z6KY9tkdv1zw=s64",
      "userId": "04387918536229145814"
     },
     "user_tz": 240
    },
    "id": "VxFis7Svhfbd",
    "outputId": "691fec29-45c8-48dc-ceba-52af090b24b2"
   },
   "outputs": [
    {
     "data": {
      "text/plain": [
       "(15, 97)"
      ]
     },
     "execution_count": 43,
     "metadata": {
      "tags": []
     },
     "output_type": "execute_result"
    }
   ],
   "source": [
    "def altitude_100() :\n",
    "  i=1\n",
    "  n=1\n",
    "  while altitude_vol(i)<100 :\n",
    "    i=i+1\n",
    "  return i\n",
    "\n",
    "\n",
    "def vol_long():\n",
    "  u0=1\n",
    "  Lmax=[]\n",
    "  for i in range(1,101) :\n",
    "    Lmax.append(temps_vol(i))\n",
    "  m=max(Lmax)\n",
    "  i=0\n",
    "  while Lmax[i] != m :\n",
    "    i=i+1\n",
    "  return i+1\n",
    "  \n",
    "altitude_100(), vol_long()\n"
   ]
  }
 ],
 "metadata": {
  "colab": {
   "collapsed_sections": [],
   "name": "Liste1_reponse.ipynb",
   "provenance": [
    {
     "file_id": "1l0KmIcQUE1RA6oph7O4Y1jQ9kip_TYSj",
     "timestamp": 1599995003458
    }
   ]
  },
  "kernelspec": {
   "display_name": "Python 3 (ipykernel)",
   "language": "python",
   "name": "python3"
  },
  "language_info": {
   "codemirror_mode": {
    "name": "ipython",
    "version": 3
   },
   "file_extension": ".py",
   "mimetype": "text/x-python",
   "name": "python",
   "nbconvert_exporter": "python",
   "pygments_lexer": "ipython3",
   "version": "3.9.7"
  }
 },
 "nbformat": 4,
 "nbformat_minor": 1
}
