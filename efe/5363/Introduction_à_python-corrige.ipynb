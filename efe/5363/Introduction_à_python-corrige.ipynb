{
 "cells": [
  {
   "cell_type": "markdown",
   "metadata": {},
   "source": [
    "# Introduction à python 3"
   ]
  },
  {
   "cell_type": "markdown",
   "metadata": {},
   "source": [
    "Python 3 est un langage de programmation multi-plateformes.  \n",
    "Il peut être interprété au travers d'une console en local sur un logiciel (Edupython, Thonny...) ou bien directement par le noyau (Kernel) d'une application distante (Repl.it ou ici Jupyter Notebook)."
   ]
  },
  {
   "cell_type": "markdown",
   "metadata": {},
   "source": [
    "## Premiers repères de syntaxe\n",
    "\n",
    "On se propose de comparer les deux programmes suivants.   \n",
    "Vous pouvez exécuter une cellule en la sélectionnant puis à l'aide du bouton \"exécuter\" situé dans le menu de la page."
   ]
  },
  {
   "cell_type": "code",
   "execution_count": null,
   "metadata": {},
   "outputs": [],
   "source": [
    "i=0\n",
    "while i<5:\n",
    "    print(i*i)\n",
    "    i=i+1\n",
    "print('les carrés entiers')"
   ]
  },
  {
   "cell_type": "code",
   "execution_count": null,
   "metadata": {},
   "outputs": [],
   "source": [
    "i=0\n",
    "while i<5:\n",
    "    i=i+1\n",
    "print(i*i)"
   ]
  },
  {
   "attachments": {
    "image1.png": {
     "image/png": "[encoded data removed]"
    }
   },
   "cell_type": "markdown",
   "metadata": {},
   "source": [
    "En python le signe \"=\" indique une affectation.  \n",
    "Attention, il n'est pas symétrique : a=3 a du sens mais 3=a n'en a pas.  \n",
    "![image1.png](attachment:image1.png)\n",
    "L'indentation (décalage vers la droite) joue ici un rôle central car il délimite les blocs d'instructions."
   ]
  },
  {
   "cell_type": "markdown",
   "metadata": {},
   "source": [
    "### Exercice 1\n",
    "Afficher la liste des nombres impairs inférieurs à 100."
   ]
  },
  {
   "cell_type": "code",
   "execution_count": null,
   "metadata": {
    "scrolled": true
   },
   "outputs": [],
   "source": [
    "i=1\n",
    "while i<100:\n",
    "    print(i)\n",
    "    i=i+2"
   ]
  },
  {
   "cell_type": "markdown",
   "metadata": {},
   "source": [
    "### Exercice 2\n",
    "Afficher la première puissance de 2 supérieure à 1000. On précisera aussi l'exposant correspondant."
   ]
  },
  {
   "cell_type": "code",
   "execution_count": null,
   "metadata": {},
   "outputs": [],
   "source": [
    "a=2\n",
    "n=1\n",
    "while a<1000:\n",
    "    a=a*2\n",
    "    n=n+1\n",
    "print(a,\" est obtenue pour n=\",n)"
   ]
  },
  {
   "cell_type": "markdown",
   "metadata": {},
   "source": [
    "Même s'il n'est pas nécessaire, nous aurions pu utiliser l'opérateur de puissance dont la syntaxe est __**__ (__2**10__ = 1024).\n",
    "\n",
    "Pour la suite, nous introduisons les tests conditionnels.  \n",
    "L'opérateur % est le reste dans la division euclidienne (10%3=1)"
   ]
  },
  {
   "cell_type": "code",
   "execution_count": null,
   "metadata": {},
   "outputs": [],
   "source": [
    "a=2547\n",
    "if a%2==0:\n",
    "    print('a est pair')\n",
    "else:\n",
    "    print('a est impair')"
   ]
  },
  {
   "cell_type": "markdown",
   "metadata": {},
   "source": [
    "### Exercice 3\n",
    "Afficher tous les diviseurs de 1001."
   ]
  },
  {
   "cell_type": "code",
   "execution_count": null,
   "metadata": {},
   "outputs": [],
   "source": [
    "a=1001\n",
    "k=1\n",
    "while k<=a:\n",
    "    if a%k==0:\n",
    "        print(k)\n",
    "    k=k+1"
   ]
  },
  {
   "cell_type": "markdown",
   "metadata": {},
   "source": [
    "## Entrées-Sorties-Typologie des variables\n",
    "Exécuter les deux séquences suivantes :"
   ]
  },
  {
   "cell_type": "code",
   "execution_count": null,
   "metadata": {},
   "outputs": [],
   "source": [
    "a=input('quel age as-tu?')\n",
    "print(\"super! Moi aussi j'ai\",a,\" ans\")"
   ]
  },
  {
   "cell_type": "code",
   "execution_count": null,
   "metadata": {},
   "outputs": [],
   "source": [
    "a=input('quel age as-tu?')\n",
    "b=67-a\n",
    "print(\"super! dans \",b,\" ans tu seras à la retraite\")"
   ]
  },
  {
   "cell_type": "markdown",
   "metadata": {},
   "source": [
    "Input retourne une chaine de caractères (string). On ne peut faire de calcul sur la valeur retournée.  \n",
    "On peut modifier la typologie d'une variable avec les fonctions int (nombre entier), float (nombre décimal) ou str (chaine de caractère)."
   ]
  },
  {
   "cell_type": "code",
   "execution_count": null,
   "metadata": {},
   "outputs": [],
   "source": [
    "print(int('87')+3)\n",
    "print(float('87')+3)\n",
    "meteo = \"Il fait \"+str(24.5)+\" degrés\" ##L'opérateur + permet de concaténer des chaines de caractères\n",
    "print(meteo)"
   ]
  },
  {
   "cell_type": "markdown",
   "metadata": {},
   "source": [
    "### Exercice 4\n",
    "L'utilisateur saisit un nombre entier, le programme retourne ses diviseurs."
   ]
  },
  {
   "cell_type": "code",
   "execution_count": null,
   "metadata": {},
   "outputs": [],
   "source": [
    "a=int(input('saisir un entier'))\n",
    "k=1\n",
    "while k<=a:\n",
    "    if a%k==0:\n",
    "        print(k)\n",
    "    k=k+1"
   ]
  },
  {
   "cell_type": "markdown",
   "metadata": {},
   "source": [
    "## Boucles itératives\n",
    "Exécuter la séquence suivante :"
   ]
  },
  {
   "cell_type": "code",
   "execution_count": null,
   "metadata": {},
   "outputs": [],
   "source": [
    "for i in range(4):\n",
    "    print(i)"
   ]
  },
  {
   "cell_type": "markdown",
   "metadata": {},
   "source": [
    "En Python, range(n) donne la liste de n premiers entiers de 0 à n-1, et range(k,n) donne celle de k à n-1. \n",
    "\n",
    "Pour obtenir la liste de valeurs de 1 à n, il faudrait donc utiliser range(1, n+1).\n"
   ]
  },
  {
   "cell_type": "markdown",
   "metadata": {},
   "source": [
    "### Exercice 5\n",
    "Afficher la liste des 10 premières puissances de 2 (en commençant à 2<sup>0</sup>)"
   ]
  },
  {
   "cell_type": "code",
   "execution_count": null,
   "metadata": {
    "scrolled": true
   },
   "outputs": [],
   "source": [
    "for i in range (10):\n",
    "    print(2**i)"
   ]
  },
  {
   "cell_type": "markdown",
   "metadata": {},
   "source": [
    "## Les listes\n",
    "Une liste est une suite ordonnée d’objets : des nombres, des chaines de caractères, des tuples et même des listes. Les termes d’une liste sont numérotés, le premier terme étant de rang 0, le second de rang 1, etc…"
   ]
  },
  {
   "cell_type": "code",
   "execution_count": null,
   "metadata": {},
   "outputs": [],
   "source": [
    "maListe=[5,4,3,2,1,\"partez!\"]\n",
    "print(maListe[0])\n",
    "print(maListe[5])"
   ]
  },
  {
   "cell_type": "markdown",
   "metadata": {},
   "source": [
    "Afficher à l'aide d'une boucle tous les termes dans l'ordre de *maListe*."
   ]
  },
  {
   "cell_type": "code",
   "execution_count": null,
   "metadata": {},
   "outputs": [],
   "source": [
    "for i in range(6):\n",
    "    print(maListe[i])"
   ]
  },
  {
   "cell_type": "markdown",
   "metadata": {},
   "source": [
    "Lorsqu’on souhaite stocker des valeurs, on peut créer des listes.  \n",
    "Par exemple lors d’un tirage aléatoire, pour établir une table de valeurs, les termes d’une suite, etc…\n",
    "\n",
    "L'exemple suivant fait appel à la bibliothèque *random* pour simuler des lancers de dés."
   ]
  },
  {
   "cell_type": "code",
   "execution_count": null,
   "metadata": {},
   "outputs": [],
   "source": [
    "from random import randint\n",
    "maListe=[] ## crée une liste vide\n",
    "\n",
    "for i in range(10):\n",
    "    a=randint(1,6)\n",
    "    maListe.append(a)   ##Ajoute un terme à la fin de la liste\n",
    "print(maListe)    "
   ]
  },
  {
   "cell_type": "markdown",
   "metadata": {},
   "source": [
    "On peut aussi générer des listes **en compréhension**, c'est à dire en indiquant son mode de génération dans la liste."
   ]
  },
  {
   "cell_type": "code",
   "execution_count": null,
   "metadata": {},
   "outputs": [],
   "source": [
    "from random import randint\n",
    "maListe=[randint(1,6) for i in range(10)]\n",
    "print(maListe)"
   ]
  },
  {
   "cell_type": "markdown",
   "metadata": {},
   "source": [
    "### Syntaxe des Listes\n",
    "* Le premier **terme** a pour **rang** 0, on l'appelle avec l'instruction maListe[0]\n",
    "* Le dernier terme de la liste peut s'appeler avec l'instruction maListe[-1]\n",
    "\n",
    "#### Quelques actions utiles \n",
    "* Pour créer une liste vide : maListe = [ ]\n",
    "* maListe.**append**(a) → ajoute la valeur *a* à la liste \n",
    "* maListe.**pop**(n) → supprime l’élément de rang n de la liste\n",
    "* len(maListe) → retourne le nombre d’élément de la liste\n",
    "* max(maListe) → retourne le plus grand élément de la liste\n",
    "* min(maListe) → retourne le plus petit élément de la liste\n",
    "* maListe.**sort**()→ trie une liste dans l’ordre croissant\n",
    "* maListe.**index**(a) → Donne le rang du premier terme de valeur *a*\n",
    "* maListe.**count**(a) → Compte le nombre d’occurrence *a* dans la liste\n",
    "\n",
    "Vocabulaire : les éléments en gras sont appelés des **méthodes**."
   ]
  },
  {
   "cell_type": "markdown",
   "metadata": {},
   "source": [
    "### Exercice 6\n",
    "Construire une liste de 200 chiffres choisis aléatoirement entre 0 et 9.  \n",
    "Construire une seconde liste des effectifs obtenus par chiffre.  \n",
    "En déduire le chiffre le plus fréquemment obtenu."
   ]
  },
  {
   "cell_type": "code",
   "execution_count": null,
   "metadata": {
    "scrolled": true
   },
   "outputs": [],
   "source": [
    "from random import randint\n",
    "maListe=[randint(0,9) for i in range(200)]\n",
    "effectif=[]\n",
    "for k in range(10):\n",
    "    effectif.append(maListe.count(k))\n",
    "print(effectif)\n",
    "print(\"le chiffre le plus fréquent est le \", effectif.index(max(effectif)))"
   ]
  },
  {
   "cell_type": "markdown",
   "metadata": {},
   "source": [
    "## Les chaînes de caractères\n",
    "\n",
    "Les chaînes de caractères ont une structure pouvant s'apparenter à celle des listes. Une partie des fonctions vues précédemment concernant les listes peuvent être utilisées.  \n",
    "On peut donc considérer \"bonjour\" comme une liste de caractères. En notant ```texte=\"bonjour\"```, \n",
    "```texte[3]``` ou ```\"bonjour\"[3]``` retournera le caractère \"j\".  \n",
    "```texte[3:6]``` retournera la chaîne \"jou\" (du terme de rang 3 inclus au terme de rang 6 exclu).\n",
    "\n",
    "Dans la cellule suivante, ajouter une commande qui extraira de la chaîne *texte* la chaîne \"tu vas bien\".  "
   ]
  },
  {
   "cell_type": "code",
   "execution_count": null,
   "metadata": {},
   "outputs": [],
   "source": [
    "texte = \"Salut, tu vas bien ?\"\n",
    "print(texte[7:19])"
   ]
  },
  {
   "cell_type": "markdown",
   "metadata": {},
   "source": [
    "### Exercice 7\n",
    "Écrire un programme qui demande à l’utilisateur de saisir une chaîne de caractères et qui la réécrira en revenant à la ligne entre chaque caractère."
   ]
  },
  {
   "cell_type": "code",
   "execution_count": null,
   "metadata": {},
   "outputs": [],
   "source": [
    "chaine=input(\"saisir un texte\")\n",
    "for lettre in chaine:\n",
    "    print(lettre)"
   ]
  },
  {
   "cell_type": "markdown",
   "metadata": {},
   "source": [
    "### Exercice 8\n",
    "Écrire un programme qui demande à l’utilisateur de saisir une phrase (sans ponctuation), puis qui affichera le nombre de mots de cette phrase."
   ]
  },
  {
   "cell_type": "code",
   "execution_count": null,
   "metadata": {},
   "outputs": [],
   "source": [
    "chaine=input(\"saisir un texte sans ponctuation\")\n",
    "n=chaine.count(\" \")+1\n",
    "print(\"nombre de mots :\", n)"
   ]
  },
  {
   "cell_type": "markdown",
   "metadata": {},
   "source": [
    "## Les chaînes et les listes\n",
    "Pour de nombreux traitements, la conversion de chaîne à liste ou de liste à chaîne est souvent nécessaire.\n",
    "\n",
    "Tester le code ci-dessous."
   ]
  },
  {
   "cell_type": "code",
   "execution_count": null,
   "metadata": {},
   "outputs": [],
   "source": [
    "chaine='bonjour'\n",
    "liste=[\"ba\",\"be\",\"bi\",\"bo\",\"bu\"]\n",
    "\n",
    "print(list(chaine))\n",
    "print(\"-\".join(liste))\n",
    "print(\"\".join(liste))\n",
    "print(chaine.split(\"o\"))"
   ]
  },
  {
   "cell_type": "markdown",
   "metadata": {},
   "source": [
    "### Exercice 9\n",
    "Écrire un programme qui transforme une phrase sans ponctuation en liste de mot. En déduire l'affichage du mot le plus long de la phrase."
   ]
  },
  {
   "cell_type": "code",
   "execution_count": null,
   "metadata": {},
   "outputs": [],
   "source": [
    "chaine=input(\"saisir un texte sans ponctuation\")\n",
    "\n",
    "liste=chaine.split(\" \")\n",
    "liste2=[len(mot) for mot in liste]\n",
    "rang_max=liste2.index(max(liste2))\n",
    "\n",
    "print(\"le mot le plus long est \",liste[rang_max])\n"
   ]
  },
  {
   "cell_type": "markdown",
   "metadata": {},
   "source": [
    "### Exercice 10\n",
    "La phrase \"Que j'aime à faire apprendre un nombre utile aux sages\" code un nombre célèbre.\n",
    "\n",
    "Pour le découvrir, il faut :\n",
    "* Remplacer l'apostrophe par un espace\n",
    "* Convertir la phrase en une liste de mots\n",
    "* Construire une seconde liste contenant le nombre de lettres de chaque mot\n",
    "* Ajouter une virgule en deuxième position dans cette liste\n",
    "* Transormer cette liste en une chaîne de caractères\n",
    "\n",
    "Compléter le code suivant pour découvrir le nombre célèbre."
   ]
  },
  {
   "cell_type": "code",
   "execution_count": null,
   "metadata": {},
   "outputs": [],
   "source": [
    "phrase=\"Que j'aime à faire apprendre un nombre utile aux sages\"\n",
    "phrase=phrase.replace(\"'\",\" \")\n",
    "liste=phrase.split(\" \")\n",
    "liste2=[str(len(mot)) for mot in liste]\n",
    "liste2.insert(1,\",\")\n",
    "print(\"\".join(liste2))"
   ]
  }
 ],
 "metadata": {
  "kernelspec": {
   "display_name": "Python 3",
   "language": "python",
   "name": "python3"
  },
  "language_info": {
   "codemirror_mode": {
    "name": "ipython",
    "version": 3
   },
   "file_extension": ".py",
   "mimetype": "text/x-python",
   "name": "python",
   "nbconvert_exporter": "python",
   "pygments_lexer": "ipython3",
   "version": "3.7.3"
  }
 },
 "nbformat": 4,
 "nbformat_minor": 2
}
