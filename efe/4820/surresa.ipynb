{
  "nbformat": 4,
  "nbformat_minor": 0,
  "metadata": {
    "kernelspec": {
      "display_name": "Python 3",
      "language": "python",
      "name": "python3"
    },
    "language_info": {
      "codemirror_mode": {
        "name": "ipython",
        "version": 3
      },
      "file_extension": ".py",
      "mimetype": "text/x-python",
      "name": "python",
      "nbconvert_exporter": "python",
      "pygments_lexer": "ipython3",
      "version": "3.7.3"
    },
    "colab": {
      "name": "surreservation.ipynb",
      "provenance": []
    }
  },
  "cells": [
    {
      "cell_type": "markdown",
      "metadata": {
        "id": "lbYpfBtopt0k"
      },
      "source": [
        "# Simulation de mille vols "
      ]
    },
    {
      "cell_type": "markdown",
      "metadata": {
        "id": "MQ2l8wvqGWZc"
      },
      "source": [
        "On souhaite simuler mille vols avec 305 billets vendus pour 300 places dans l'avion.\n",
        "\n",
        "1. Compléter la fonction moyenne() ci-dessous:"
      ]
    },
    {
      "cell_type": "code",
      "metadata": {
        "id": "yei9QraZpt0l"
      },
      "source": [
        "import numpy as np\n",
        "from numpy import random as rd\n",
        "\n",
        "def binomiale(n,p):\n",
        "  succes = 0\n",
        "  for i in range(n):\n",
        "        alea = rd.uniform(0,1)\n",
        "        if alea < p:\n",
        "            succes = succes + 1\n",
        "  return succes\n",
        "\n",
        "def moyenne():\n",
        "  compteur = 0\n",
        "  for i in range(1000):\n",
        "    if ................ > 300:   # A COMPLETER\n",
        "      compteur = .................  # A COMPLETER\n",
        "  return compteur/1000"
      ],
      "execution_count": null,
      "outputs": []
    },
    {
      "cell_type": "markdown",
      "metadata": {
        "id": "VOOPZ3sNG1VG"
      },
      "source": [
        "2. Appeler plusieur fois la fonction moyenne() dans la cellule ci-dessous."
      ]
    },
    {
      "cell_type": "code",
      "metadata": {
        "id": "UflzrdIJDM9T"
      },
      "source": [
        "moyenne()"
      ],
      "execution_count": null,
      "outputs": []
    },
    {
      "cell_type": "markdown",
      "metadata": {
        "id": "5GkLS0kdHP7j"
      },
      "source": [
        "3. Commentez vos observations ci-dessous:"
      ]
    },
    {
      "cell_type": "markdown",
      "metadata": {
        "id": "Y8mViaYGHZFV"
      },
      "source": [
        ""
      ]
    }
  ]
}