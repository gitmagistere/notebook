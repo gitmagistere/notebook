{
  "nbformat": 4,
  "nbformat_minor": 0,
  "metadata": {
    "colab": {
      "name": "SEISMES.ipynb",
      "provenance": []
    },
    "kernelspec": {
      "name": "python3",
      "display_name": "Python 3"
    }
  },
  "cells": [
    {
      "cell_type": "markdown",
      "metadata": {
        "id": "DXYlFscQXaP9"
      },
      "source": [
        "# **Modélisation par une loi de Poisson**\n",
        "\n",
        "On note $X$ la variable aléatoire qui dénombre le nombre de séismes de magnitude \n",
        "\n",
        "supérieure ou égale à 8 pendant une année.\n",
        "\n",
        "On souhaite modéliser la loi de probabilité associée à $X$ par une loi de Poisson.\n",
        "\n",
        "On commence par importer les données et la librairie Pandas :"
      ]
    },
    {
      "cell_type": "code",
      "metadata": {
        "id": "iegNgLfffqhV",
        "colab": {
          "base_uri": "https://localhost:8080/"
        },
        "outputId": "73c0fea9-1c4d-4e0d-aa43-57770bb677ee"
      },
      "source": [
        "import pandas as pd   \n",
        "# pandas pour analyse de données, ici pour la lecture du fichier de données csv\n",
        "\n",
        "url = 'https://raw.githubusercontent.com/ela1687/donnees/main/seismes1963-2020.csv'\n",
        "donnees = pd.read_csv(url,dtype = {'annee': int})\n",
        "\n",
        "print(donnees) \n",
        "\n",
        "# On observe qu'au 29/11/2020, il n'y a pas eu de \n",
        "# séisme de magnitude >= 8 en 2020"
      ],
      "execution_count": 24,
      "outputs": [
        {
          "output_type": "stream",
          "text": [
            "    annee   mag                                          lieu\n",
            "0    2019  8.00                      78km SE of Lagunas, Peru\n",
            "1    2018  8.20                286km NNE of Ndoi Island, Fiji\n",
            "2    2017  8.20               101km SSW of Tres Picos, Mexico\n",
            "3    2015  8.30                      48km W of Illapel, Chile\n",
            "4    2014  8.20                     94km NW of Iquique, Chile\n",
            "5    2013  8.30                                Sea of Okhotsk\n",
            "6    2013  8.00               76km W of Lata, Solomon Islands\n",
            "7    2012  8.20        off the west coast of northern Sumatra\n",
            "8    2012  8.60        off the west coast of northern Sumatra\n",
            "9    2011  9.10           2011 Great Tohoku Earthquake, Japan\n",
            "10   2010  8.80                       offshore Bio-Bio, Chile\n",
            "11   2009  8.10                          Samoa Islands region\n",
            "12   2007  8.40                   southern Sumatra, Indonesia\n",
            "13   2007  8.00                near the coast of central Peru\n",
            "14   2007  8.10                               Solomon Islands\n",
            "15   2007  8.10                     east of the Kuril Islands\n",
            "16   2006  8.30                                 Kuril Islands\n",
            "17   2006  8.00                                         Tonga\n",
            "18   2005  8.60                   northern Sumatra, Indonesia\n",
            "19   2004  9.10     2004 Sumatra - Andaman Islands Earthquake\n",
            "20   2004  8.10                     north of Macquarie Island\n",
            "21   2003  8.16                        Hokkaido, Japan region\n",
            "22   2001  8.40               near the coast of southern Peru\n",
            "23   2000  8.00          New Ireland region, Papua New Guinea\n",
            "24   1998  8.10                        Balleny Islands region\n",
            "25   1996  8.09                        Biak region, Indonesia\n",
            "26   1995  8.00                                Colima, Mexico\n",
            "27   1995  8.00                            Antofagasta, Chile\n",
            "28   1994  8.30                                 Kuril Islands\n",
            "29   1994  8.20                               La Paz, Bolivia\n",
            "30   1989  8.02                       Macquarie Island region\n",
            "31   1986  8.00   Andreanof Islands, Aleutian Islands, Alaska\n",
            "32   1985  8.00                             Michoacan, Mexico\n",
            "33   1985  8.00                    offshore Valparaiso, Chile\n",
            "34   1977  8.30                   south of Sumbawa, Indonesia\n",
            "35   1976  8.00                       Kermadec Islands region\n",
            "36   1972  8.00                         Mindanao, Philippines\n",
            "37   1971  8.10          New Ireland region, Papua New Guinea\n",
            "38   1971  8.00          New Ireland region, Papua New Guinea\n",
            "39   1970  8.00                                      Colombia\n",
            "40   1969  8.20                                 Kuril Islands\n",
            "41   1968  8.20           off the east coast of Honshu, Japan\n",
            "42   1966  8.10                near the coast of central Peru\n",
            "43   1965  8.70         Rat Islands, Aleutian Islands, Alaska\n",
            "44   1965  8.20                     Kepulauan Sula, Indonesia\n",
            "45   1964  9.20  1964 Prince William Sound Earthquake, Alaska\n",
            "46   1963  8.10                                     Banda Sea\n",
            "47   1963  8.50                                 Kuril Islands\n"
          ],
          "name": "stdout"
        }
      ]
    },
    {
      "cell_type": "markdown",
      "metadata": {
        "id": "mQtDHHz_G3J9"
      },
      "source": [
        "On construit une liste donnant le nombre de séismes de\n",
        "\n",
        "magnitude supérieure ou égale à 8 pour chaque année depuis 1963"
      ]
    },
    {
      "cell_type": "code",
      "metadata": {
        "colab": {
          "base_uri": "https://localhost:8080/"
        },
        "id": "TkRMjBeyYV4J",
        "outputId": "dd20946b-a95c-4776-889d-338ab81e2cac"
      },
      "source": [
        "nbseismes =[0]*58  \n",
        "#Liste pour recevoir le nombre de séismes/an sur 58 années de 1963 à 2020\n",
        "\n",
        "for x in donnees.itertuples(): #On parcourt les données\n",
        "  rang = x.annee-1963 # Rang de l'année (0 pour 1963)\n",
        "  nbseismes[rang] = nbseismes[rang] + 1\n",
        "print(nbseismes) "
      ],
      "execution_count": 39,
      "outputs": [
        {
          "output_type": "stream",
          "text": [
            "[2, 1, 2, 1, 0, 1, 1, 1, 2, 1, 0, 0, 0, 1, 1, 0, 0, 0, 0, 0, 0, 0, 2, 1, 0, 0, 1, 0, 0, 0, 0, 2, 2, 1, 0, 1, 0, 1, 1, 0, 1, 2, 1, 2, 4, 0, 1, 1, 1, 2, 2, 1, 1, 0, 1, 1, 1, 0]\n"
          ],
          "name": "stdout"
        }
      ]
    },
    {
      "cell_type": "markdown",
      "metadata": {
        "id": "0-O72W_rHWep"
      },
      "source": [
        "Modifier le programme ci-dessus pour qu'il affiche l'année ayant\n",
        "\n",
        "connu le plus grand nombre de séismes important ainsi que ce nombre."
      ]
    },
    {
      "cell_type": "markdown",
      "metadata": {
        "id": "40dpCGKeIKTP"
      },
      "source": [
        "Compléter la fonction ci-dessous pour qu'elle renvoie le nombre de séisme moyen par an."
      ]
    },
    {
      "cell_type": "code",
      "metadata": {
        "id": "RpdLSWfhptj2"
      },
      "source": [
        "def moyenne():\n",
        "  somme = 0\n",
        "  for nb in nbseismes:\n",
        "    somme = somme + nb  # A compléter\n",
        "  return somme/58       # A compléter"
      ],
      "execution_count": 40,
      "outputs": []
    },
    {
      "cell_type": "markdown",
      "metadata": {
        "id": "9bMu4mt3Ij-q"
      },
      "source": [
        "Par la suite, on estimera le paramètre de la loi de poisson $\\lambda$ par l'espérence observée. \n",
        "\n",
        "Appeler la fonction moyenne() ci-dessous:\n"
      ]
    },
    {
      "cell_type": "code",
      "metadata": {
        "colab": {
          "base_uri": "https://localhost:8080/"
        },
        "id": "yEMNimGHqOu9",
        "outputId": "a8cbd2f7-bc0e-4685-d009-3fec44cc8418"
      },
      "source": [
        "moyenne()"
      ],
      "execution_count": 41,
      "outputs": [
        {
          "output_type": "execute_result",
          "data": {
            "text/plain": [
              "0.8275862068965517"
            ]
          },
          "metadata": {
            "tags": []
          },
          "execution_count": 41
        }
      ]
    },
    {
      "cell_type": "markdown",
      "metadata": {
        "id": "BNETECpAJCPu"
      },
      "source": [
        "Si $X$ suit une loi de poisson de paramètre $\\lambda$ alors  \n",
        "\n",
        "$P(X = k) = \\dfrac{\\lambda^k}{k!}e^{-\\lambda}$  où $k \\in \\mathbb{N}$\n",
        "\n",
        "On programme donc la fonction poisson()"
      ]
    },
    {
      "cell_type": "code",
      "metadata": {
        "id": "rmHueybqCvio"
      },
      "source": [
        "from math import factorial, exp\n",
        "\n",
        "lam = moyenne() \n",
        "\n",
        "def poisson(k):\n",
        "  pk = (lam**k/factorial(k))*exp(-lam)\n",
        "  return pk"
      ],
      "execution_count": 48,
      "outputs": []
    },
    {
      "cell_type": "code",
      "metadata": {
        "colab": {
          "base_uri": "https://localhost:8080/"
        },
        "id": "BkLda0jYEz50",
        "outputId": "1643426e-c563-4621-cd31-848433859693"
      },
      "source": [
        "poisson(1)"
      ],
      "execution_count": 50,
      "outputs": [
        {
          "output_type": "execute_result",
          "data": {
            "text/plain": [
              "0.36174048860894636"
            ]
          },
          "metadata": {
            "tags": []
          },
          "execution_count": 50
        }
      ]
    },
    {
      "cell_type": "markdown",
      "metadata": {
        "id": "roOUTth7FsVC"
      },
      "source": [
        "En utilisant la fonction poisson définie ci-dessus, déterminer :"
      ]
    },
    {
      "cell_type": "markdown",
      "metadata": {
        "id": "5HoxP2x7KCEP"
      },
      "source": [
        "1. La probabilité qu'aucun séisme de magnitude supérieure ou égale à 8 ne se produise durant l'année 2021."
      ]
    },
    {
      "cell_type": "markdown",
      "metadata": {
        "id": "UbN3ugkWKCTm"
      },
      "source": [
        "2. La probabilité qu'exactement un séisme de magnitude supérieure ou égale à 8 ne se produise durant l'année 2021."
      ]
    },
    {
      "cell_type": "markdown",
      "metadata": {
        "id": "wNj-RckrKClE"
      },
      "source": [
        "3. La probabilité qu'exactement deux séismes de magnitude supérieure ou égale à 8 ne se produisent durant l'année 2021."
      ]
    },
    {
      "cell_type": "markdown",
      "metadata": {
        "id": "ZShtBLG3KktE"
      },
      "source": [
        "4. La probabilité qu'au moins trois séismes de magnitude supérieure ou égale à 8 ne se produisent durant l'année 2021."
      ]
    }
  ]
}