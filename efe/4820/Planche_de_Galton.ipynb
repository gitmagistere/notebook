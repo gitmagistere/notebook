{
  "nbformat": 4,
  "nbformat_minor": 0,
  "metadata": {
    "colab": {
      "name": "Planche de Galton.ipynb",
      "provenance": []
    },
    "kernelspec": {
      "name": "python3",
      "display_name": "Python 3"
    }
  },
  "cells": [
    {
      "cell_type": "markdown",
      "metadata": {
        "id": "hO8JCQkTE3ve"
      },
      "source": [
        "# Simulation d'une planche de Galton"
      ]
    },
    {
      "cell_type": "markdown",
      "metadata": {
        "id": "jZ4YadGW9rqT"
      },
      "source": [
        "Une planche de Galton est un dispositif inventé par Sir Francis Galton qui illustre la convergence d'une loi binomiale vers une loi normale.\n",
        "\n",
        "Des clous sont plantés sur la partie supérieure de la planche, de telle sorte qu'une bille lâchée sur la planche passe soit à droite soit à gauche pour chaque rangée de clous. Dans la partie inférieure les billes sont rassemblées en fonction du nombre de passages à gauche et de passage à droite qu'elles ont fait.\n",
        "\n",
        "Ainsi chaque case correspond à un résultat possible d'une expérience binomiale (en tant qu'une expérience de Bernoulli répétée) et on peut remarquer que la répartition des billes dans les cases approche la forme d'une courbe de Gauss, ceci étant d'autant plus vrai que le nombre de rangées augmente, autrement dit : la loi binomiale converge vers la loi normale. Il s'agit donc d'une illustration du théorème de Moivre-Laplace.\n",
        "\n",
        "![Planche de Galton](https://encrypted-tbn0.gstatic.com/images?q=tbn:ANd9GcSTcjGnaPwV0J2BAHkxCoogvUgakrk1_wEyLg&usqp=CAU)\n",
        "\n"
      ]
    },
    {
      "cell_type": "code",
      "metadata": {
        "id": "u_eY5bYO9ggv"
      },
      "source": [
        "import matplotlib.pyplot as plt\n",
        "import random"
      ],
      "execution_count": 1,
      "outputs": []
    },
    {
      "cell_type": "code",
      "metadata": {
        "id": "QBkiL8FY-gJc"
      },
      "source": [
        "# Giving the input of number of balls and the bins\n",
        "nb_billes = 200\n",
        "rangees = 15"
      ],
      "execution_count": 46,
      "outputs": []
    },
    {
      "cell_type": "code",
      "metadata": {
        "colab": {
          "base_uri": "https://localhost:8080/",
          "height": 350
        },
        "id": "7YN8PV4H_i9I",
        "outputId": "162bfc6f-f942-416e-d9a4-5b09dce38e6e"
      },
      "source": [
        "resultat = []\n",
        "for bille in range(nb_billes):\n",
        "    total = 0\n",
        "    for etage in range(rangees):\n",
        "        alea = random.uniform(0,1)\n",
        "        if alea > 0.5:\n",
        "            total = total + 1\n",
        "    resultat.append(total)\n",
        " \n",
        "plt.hist(resultat, range = (-0.5, rangees+0.5), bins = rangees+1,color = 'blue',edgecolor = 'white')"
      ],
      "execution_count": 48,
      "outputs": [
        {
          "output_type": "execute_result",
          "data": {
            "text/plain": [
              "(array([ 0.,  0.,  1.,  2.,  7., 15., 40., 38., 44., 26., 17.,  7.,  3.,\n",
              "         0.,  0.,  0.]),\n",
              " array([-0.5,  0.5,  1.5,  2.5,  3.5,  4.5,  5.5,  6.5,  7.5,  8.5,  9.5,\n",
              "        10.5, 11.5, 12.5, 13.5, 14.5, 15.5]),\n",
              " <a list of 16 Patch objects>)"
            ]
          },
          "metadata": {
            "tags": []
          },
          "execution_count": 48
        },
        {
          "output_type": "display_data",
          "data": {
            "image/png": "[encoded data removed]",
            "text/plain": [
              "<Figure size 432x288 with 1 Axes>"
            ]
          },
          "metadata": {
            "tags": [],
            "needs_background": "light"
          }
        }
      ]
    },
    {
      "cell_type": "markdown",
      "metadata": {
        "id": "uv3ZGxG3FePR"
      },
      "source": [
        "1. Calculez l'espérance et la variance d'échantillon obtenu ci-dessus."
      ]
    },
    {
      "cell_type": "code",
      "metadata": {
        "id": "TBFsl1yeJtjh"
      },
      "source": [
        "esperance ="
      ],
      "execution_count": null,
      "outputs": []
    },
    {
      "cell_type": "code",
      "metadata": {
        "id": "9kYdxyJcJt8H"
      },
      "source": [
        "variance = "
      ],
      "execution_count": null,
      "outputs": []
    },
    {
      "cell_type": "markdown",
      "metadata": {
        "id": "OH1DxLp1G0sK"
      },
      "source": [
        "Le script précédent a donc généré un échantillon de taille $T=$ *nombre de billes* d'une variable aléatoire suivant une loi binomiale de paramètres $n=$ *nombre de rangées* et $p=0,5$.\n",
        "\n",
        "2. Utilisez et modifiez ce qui précède pour estimer \n",
        "\n",
        "$$P(|S_n-np|>\\sqrt{n})$$\n",
        "\n",
        "avec $n = 100$ ; $p = 0,3$ et $S_n \\leadsto \\mathcal{B}(n;p)$"
      ]
    },
    {
      "cell_type": "code",
      "metadata": {
        "id": "GGsFh04iJcKI"
      },
      "source": [
        ""
      ],
      "execution_count": null,
      "outputs": []
    }
  ]
}