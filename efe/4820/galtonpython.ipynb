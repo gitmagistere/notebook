{
  "nbformat": 4,
  "nbformat_minor": 0,
  "metadata": {
    "colab": {
      "name": "galtonpython.ipynb",
      "provenance": []
    },
    "kernelspec": {
      "name": "python3",
      "display_name": "Python 3"
    }
  },
  "cells": [
    {
      "cell_type": "markdown",
      "metadata": {
        "id": "1DJYFKQ17VRx"
      },
      "source": [
        "# **GALTON**\n",
        "\n",
        "Nous simulons ci-dessous une planche de Galton en langage Python. "
      ]
    },
    {
      "cell_type": "code",
      "metadata": {
        "id": "-mQ4XfTK0I_y"
      },
      "source": [
        "import random as rd\n",
        "\n",
        "def chemin():\n",
        "  D = 0\n",
        "  for i in range(12):\n",
        "    if rd.random() > 0.5:\n",
        "      D = D + 1\n",
        "  return D"
      ],
      "execution_count": null,
      "outputs": []
    },
    {
      "cell_type": "code",
      "metadata": {
        "id": "JQpTKzlJ06VV",
        "colab": {
          "base_uri": "https://localhost:8080/",
          "height": 36
        },
        "outputId": "f25e250e-bcce-490a-f6e2-3acdc3afc042"
      },
      "source": [
        "chemin()"
      ],
      "execution_count": null,
      "outputs": [
        {
          "output_type": "execute_result",
          "data": {
            "text/plain": [
              "6"
            ]
          },
          "metadata": {
            "tags": []
          },
          "execution_count": 31
        }
      ]
    },
    {
      "cell_type": "markdown",
      "metadata": {
        "id": "ymj6g1bF5VIm"
      },
      "source": [
        "A quoi correspond le résultat obtenu ci-dessus?\n",
        "\n",
        "**Votre réponse:**"
      ]
    },
    {
      "cell_type": "code",
      "metadata": {
        "id": "KrGAW17e1aLD",
        "colab": {
          "base_uri": "https://localhost:8080/",
          "height": 36
        },
        "outputId": "6f2e16a3-6dfd-4337-8776-9efff65f6466"
      },
      "source": [
        "effectifs_cases = [0, 0, 0, 0, 0, 0, 0, 0, 0, 0, 0, 0, 0]\n",
        "\n",
        "for j in range(1000):\n",
        "\n",
        "  rang = chemin()\n",
        "  \n",
        "  # Une bille de plus de la case de rang ...\n",
        "  effectifs_cases[rang] = effectifs_cases[rang] + 1   \n",
        "\n",
        "print(effectifs_cases)\n"
      ],
      "execution_count": null,
      "outputs": [
        {
          "output_type": "stream",
          "text": [
            "[0, 4, 11, 61, 110, 212, 225, 192, 124, 42, 14, 4, 1]\n"
          ],
          "name": "stdout"
        }
      ]
    }
  ]
}