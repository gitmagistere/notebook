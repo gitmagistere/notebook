{
  "nbformat": 4,
  "nbformat_minor": 0,
  "metadata": {
    "colab": {
      "name": "seine.ipynb",
      "provenance": []
    },
    "kernelspec": {
      "name": "python3",
      "display_name": "Python 3"
    }
  },
  "cells": [
    {
      "cell_type": "markdown",
      "metadata": {
        "id": "DXYlFscQXaP9"
      },
      "source": [
        "# **Les crues décennales et centennales de la Seine**\n",
        "\n"
      ]
    },
    {
      "cell_type": "markdown",
      "metadata": {
        "id": "JbJR8vC-wNRg"
      },
      "source": [
        "**Partie A crues centennales**\r\n",
        "\r\n",
        "« Une crue de la Seine comparable à celle de 1910 se produit en moyenne tous les cent ans et la probabilité d’une telle catastrophe augmente d’année en année ». \r\n",
        "\r\n",
        "\"source: magazine Le Point **2002**\"\r\n",
        "\r\n",
        "\r\n",
        "Une crue de la Seine analogue à celle de 1910 est qualifiée de « centennale », a chaque année, par définition, une chance sur 100 de se produire."
      ]
    },
    {
      "cell_type": "code",
      "metadata": {
        "id": "mqWcQtEnw_cx"
      },
      "source": [
        "import random as rd\r\n",
        "\r\n",
        "def binomiale(n,p):\r\n",
        "  \r\n",
        "\r\n",
        "\r\n",
        "  \r\n",
        "  return succes"
      ],
      "execution_count": null,
      "outputs": []
    },
    {
      "cell_type": "code",
      "metadata": {
        "colab": {
          "base_uri": "https://localhost:8080/"
        },
        "id": "C9opRa6MzE1M",
        "outputId": "70510d73-cdd2-4e8b-d87e-e33e01340d7a"
      },
      "source": [
        "binomiale(100,0.5)"
      ],
      "execution_count": null,
      "outputs": [
        {
          "output_type": "execute_result",
          "data": {
            "text/plain": [
              "52"
            ]
          },
          "metadata": {
            "tags": []
          },
          "execution_count": 111
        }
      ]
    },
    {
      "cell_type": "markdown",
      "metadata": {
        "id": "-3XMzjo-wlJn"
      },
      "source": [
        "**Partie B crues décennales**\r\n",
        "\r\n",
        "une crue décennale a par définition, chaque année, une chance sur 10 de se produire.\r\n",
        "\r\n",
        "**Données réelles à partir de 1886:**"
      ]
    },
    {
      "cell_type": "code",
      "metadata": {
        "id": "iegNgLfffqhV",
        "colab": {
          "base_uri": "https://localhost:8080/"
        },
        "outputId": "fb20230a-f4b1-49a4-98bb-d03ab8728bfb"
      },
      "source": [
        "import pandas as pd   \n",
        "# pandas pour analyse de données, ici pour la lecture du fichier de données csv\n",
        "\n",
        "url = 'https://raw.githubusercontent.com/ela1687/donnees/main/hauteurseine.csv'\n",
        "donnees = pd.read_csv(url,dtype = {'hauteur': float},sep=';')\n",
        "\n",
        "print(donnees) "
      ],
      "execution_count": null,
      "outputs": [
        {
          "output_type": "stream",
          "text": [
            "       date  hauteur\n",
            "0      1886     50.0\n",
            "1      1886     70.0\n",
            "2      1886     80.0\n",
            "3      1886     80.0\n",
            "4      1886     90.0\n",
            "...     ...      ...\n",
            "70593  2020    101.9\n",
            "70594  2020     99.8\n",
            "70595  2020    103.0\n",
            "70596  2020    104.3\n",
            "70597  2020    103.0\n",
            "\n",
            "[70598 rows x 2 columns]\n"
          ],
          "name": "stdout"
        }
      ]
    },
    {
      "cell_type": "code",
      "metadata": {
        "colab": {
          "base_uri": "https://localhost:8080/",
          "height": 237
        },
        "id": "laaly546RFcy",
        "outputId": "f88244a6-9917-4b48-f1f7-c7bd62ef698c"
      },
      "source": [
        "donnees = donnees.groupby(by='date').max()[['hauteur']]\r\n",
        "donnees.head()"
      ],
      "execution_count": null,
      "outputs": [
        {
          "output_type": "execute_result",
          "data": {
            "text/html": [
              "<div>\n",
              "<style scoped>\n",
              "    .dataframe tbody tr th:only-of-type {\n",
              "        vertical-align: middle;\n",
              "    }\n",
              "\n",
              "    .dataframe tbody tr th {\n",
              "        vertical-align: top;\n",
              "    }\n",
              "\n",
              "    .dataframe thead th {\n",
              "        text-align: right;\n",
              "    }\n",
              "</style>\n",
              "<table border=\"1\" class=\"dataframe\">\n",
              "  <thead>\n",
              "    <tr style=\"text-align: right;\">\n",
              "      <th></th>\n",
              "      <th>hauteur</th>\n",
              "    </tr>\n",
              "    <tr>\n",
              "      <th>date</th>\n",
              "      <th></th>\n",
              "    </tr>\n",
              "  </thead>\n",
              "  <tbody>\n",
              "    <tr>\n",
              "      <th>1886</th>\n",
              "      <td>360.0</td>\n",
              "    </tr>\n",
              "    <tr>\n",
              "      <th>1887</th>\n",
              "      <td>360.0</td>\n",
              "    </tr>\n",
              "    <tr>\n",
              "      <th>1888</th>\n",
              "      <td>400.0</td>\n",
              "    </tr>\n",
              "    <tr>\n",
              "      <th>1889</th>\n",
              "      <td>578.0</td>\n",
              "    </tr>\n",
              "    <tr>\n",
              "      <th>1890</th>\n",
              "      <td>260.0</td>\n",
              "    </tr>\n",
              "  </tbody>\n",
              "</table>\n",
              "</div>"
            ],
            "text/plain": [
              "      hauteur\n",
              "date         \n",
              "1886    360.0\n",
              "1887    360.0\n",
              "1888    400.0\n",
              "1889    578.0\n",
              "1890    260.0"
            ]
          },
          "metadata": {
            "tags": []
          },
          "execution_count": 81
        }
      ]
    },
    {
      "cell_type": "code",
      "metadata": {
        "colab": {
          "base_uri": "https://localhost:8080/"
        },
        "id": "TkRMjBeyYV4J",
        "outputId": "5f169bd7-d25b-4ce7-ba19-706ae326ec23"
      },
      "source": [
        "Listehauteurs =[] \n",
        "#Liste pour recevoir les hauteurs de la Seine à partir de 1886\n",
        "\n",
        "for x in donnees.itertuples(): #On parcourt les données\n",
        "  Listehauteurs.append(x.hauteur) \n",
        "print(Listehauteurs) "
      ],
      "execution_count": null,
      "outputs": [
        {
          "output_type": "stream",
          "text": [
            "[360.0, 360.0, 400.0, 578.0, 260.0, 280.0, 410.0, 380.0, 250.0, 310.0, 530.0, 560.0, 250.0, 310.0, 370.0, 380.0, 290.0, 290.0, 420.0, 318.0, 441.0, 320.0, 424.0, 345.0, 862.0, 389.4, 456.0, 426.0, 487.0, 400.0, 475.0, 476.0, 370.0, 611.0, 665.0, 119.0, 404.0, 596.7, 732.0, 470.2, 602.0, 400.0, 439.0, 268.0, 608.0, 583.0, 330.0, 181.0, 233.0, 433.0, 449.0, 521.0, 299.0, 509.0, 413.0, 573.0, 345.0, 369.0, 603.0, 685.0, 247.0, 289.0, 395.0, 163.0, 237.0, 271.0, 459.0, 447.7, 181.0, 712.0, 211.0, 475.0, 547.0, 622.0, 262.0, 383.0, 320.0, 205.0, 253.0, 460.0, 491.0, 368.0, 546.0, 237.0, 563.0, 181.0, 219.0, 251.0, 193.5, 116.1, 122.6, 226.9, 163.8]\n"
          ],
          "name": "stdout"
        }
      ]
    },
    {
      "cell_type": "code",
      "metadata": {
        "id": "oFGGHaK-wAl_"
      },
      "source": [
        "def fcc(x, L) :\r\n",
        "  compteur = 0\r\n",
        "  for h in L :\r\n",
        "    if h < x :\r\n",
        "      compteur = compteur + 1\r\n",
        "  return compteur/len(L)"
      ],
      "execution_count": null,
      "outputs": []
    },
    {
      "cell_type": "code",
      "metadata": {
        "colab": {
          "base_uri": "https://localhost:8080/",
          "height": 265
        },
        "id": "uFg4m2RNxe-S",
        "outputId": "6a8c0720-f518-4924-eca1-61e7e23019bb"
      },
      "source": [
        "Listehauteurs\r\n",
        "import matplotlib.pyplot as plt\r\n",
        "\r\n",
        "plt.plot(Listehauteurs,[fcc(x, Listehauteurs) for x in Listehauteurs])\r\n",
        "\r\n",
        "plt.show()"
      ],
      "execution_count": null,
      "outputs": [
        {
          "output_type": "display_data",
          "data": {
            "image/png": "[encoded data removed]",
            "text/plain": [
              "<Figure size 432x288 with 1 Axes>"
            ]
          },
          "metadata": {
            "tags": [],
            "needs_background": "light"
          }
        }
      ]
    },
    {
      "cell_type": "code",
      "metadata": {
        "id": "q8v2uKKa57AH"
      },
      "source": [
        "def seuil() :\r\n",
        "  hdec = 0\r\n",
        "  while fcc(hdec, Listehauteurs ) < 0.9 :\r\n",
        "    hdec = hdec + 0.1\r\n",
        "  return hdec"
      ],
      "execution_count": null,
      "outputs": []
    },
    {
      "cell_type": "code",
      "metadata": {
        "colab": {
          "base_uri": "https://localhost:8080/"
        },
        "id": "4uHgNKL45bcL",
        "outputId": "9ef24b75-a7e7-4238-e299-33df05191a68"
      },
      "source": [
        "seuil()"
      ],
      "execution_count": null,
      "outputs": [
        {
          "output_type": "execute_result",
          "data": {
            "text/plain": [
              "602.0000000000683"
            ]
          },
          "metadata": {
            "tags": []
          },
          "execution_count": 104
        }
      ]
    }
  ]
}