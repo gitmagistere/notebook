{
 "cells": [
  {
   "cell_type": "markdown",
   "metadata": {
    "id": "sjBttyqgYdh_"
   },
   "source": [
    "**[Source : Barbazo 2020 Maths Complémentaires]** Découverte au Japon, la bactérie *Ideonella sakaiensi*s est capable, sous certaines conditions, de dégrader le plastique de type polytéréphtalate d'éthylène (que l'on utilise souvent pour la fabrication des bouteilles d'eau). Pour étudier l'évolution de la population de ces bactéries, les chercheurs ont procédé à une mise en culture. \n",
    "\n",
    "On modélise l'évolution du nombre de bactéries par une fonction $f$, dérivable sur $\\mathbb{R}$ où $f(t)$ est le nombre de bactéries (exprimé en millier) présentes dans la culture à l'instant $t$ (exprimé en heure). \n",
    "\n",
    "Pendant les 48 premières heures, la vitesse d'accroissement de la population est proportionnelle au nombre de bactéries. \n",
    "\n",
    "On souhaite construire une solution approchée à ce problème.\n",
    "\n",
    "\n",
    "\n",
    "---\n",
    "**PARTIE 1**\n",
    "\n",
    "\n",
    "\n",
    "On admet que la vitesse d'accroissement de la population est donnée par la fonction dérivée $f^{\\prime}$ de $f$.\n",
    "\n",
    "\n",
    "1.   Justifiez alors qu'il existe $k\\in\\mathbb{R}^+$ tel que $f'(t)=kf(t)$.\n",
    "2.   Expliquez comment la valeur de $a$ peut-être estimée. On supposera dans la suite que $k=0,02$.\n",
    "3.   Les biologistes ont introduit 3 milliers de bactéries à l'instant $t=0$. Traduisez cette phrase par une égalité mathématique.\n",
    "4.   On rappelle que pour toute réel $a$: $$f'(a)=\\lim\\limits_{h\\rightarrow 0} \\dfrac{f(a+h)-f(a)}{h}$$\n",
    "Autrement dit, quand $h$ est proche de $0$, on a : $$f'(a)\\approx \\dfrac{f(a+h)-f(a)}{h}$$\n",
    "soit encore, quand $h$ est proche de $0$, $$f(a+h)\\approx f(a)+hf'(a)$$\n",
    "Admettant que $h=1$ soit une valeur proche de $0$, utilisez la précédente égalité pour calculer une valeur approchée de $f(1)$\n",
    "5.   De même calculez les valeurs approchées ci-dessous :\n",
    "$$f'(2)\\approx $$\n",
    "$$f'(3)\\approx $$\n",
    "$$f'(4)\\approx $$\n",
    "$$f'(5)\\approx $$\n",
    "$$f'(6)\\approx $$\n",
    "$$f'(7)\\approx $$\n",
    "6.   Quelle est la nature de la suite de nombre $f(n)$ avec $n\\in\\mathbb{N}$ ?\n",
    "7.   Que pourrions-nous faire pour améliorer la précision des calculs précédents ?\n",
    "\n",
    "\n",
    "---\n",
    "**PARTIE 2**\n",
    "\n",
    "L'objectif de cette partie est de construire une solution approchée au problème précédent pour les 48 premières heures à l'aide d'un algorithme. L'algorithme que vous allez découvrir est appelé Méthode d'Euler.\n",
    "\n",
    "Il repose sur la relation $$f(a+h)\\approx f(a)+hf'(a)$$ qui se reécrit dans notre cas $$f(a+h)\\approx (1+0,02h) f(a)$$ \n"
   ]
  },
  {
   "cell_type": "markdown",
   "metadata": {
    "id": "K8mXoI-cmvtp"
   },
   "source": [
    "\n",
    "\n",
    "1.   Complétez les lignes 2,6 et 11 du programme ci-dessous afin qu'il construise les listes des abscisses et ordonnées approchées de quelques points de la représentation graphique de $f$.\n",
    "\n"
   ]
  },
  {
   "cell_type": "code",
   "execution_count": 20,
   "metadata": {
    "id": "PMJP7GoXiYGy"
   },
   "outputs": [],
   "source": [
    "h = 1              #le pas utilisé dans notre méthode\n",
    "N = int(....)      #nombre de valeurs à calculer pour construire une solution approchée sur [0;48]\n",
    "\n",
    "listex = [0]\n",
    "for i in range(N):\n",
    "  x = ....\n",
    "  listex.append(x)\n",
    "\n",
    "listey = [3000]\n",
    "for i in range(N):\n",
    "  y = ....\n",
    "  listey.append(y)"
   ]
  },
  {
   "cell_type": "markdown",
   "metadata": {
    "id": "8vXzruFpyf39"
   },
   "source": [
    "2.   Vérifiez que $$f(t)=3000 \\exp(0,02t)$$ vérifie bien les conditions :\n",
    "$$\\left\\{ \n",
    "  \\begin{array}{lcl}\n",
    "        f'(t) & = &0,02  f(t) \\\\\n",
    "        f(0) &= & 3000\n",
    "  \\end{array}\n",
    "\\right.$$\n",
    "\n",
    "\n",
    "\n",
    "---\n",
    "\n",
    "\n",
    "Nous allons à présent tracer la solution approchée que vous avez construite ainsi que la solution exacte afin de comparer les deux."
   ]
  },
  {
   "cell_type": "code",
   "execution_count": 24,
   "metadata": {
    "colab": {
     "base_uri": "https://localhost:8080/",
     "height": 279
    },
    "id": "1BGPmWB2q9rq",
    "outputId": "35486dde-f894-4406-ae2e-c4c545aba672"
   },
   "outputs": [
    {
     "data": {
      "image/png": "[encoded data removed]",
      "text/plain": [
       "<Figure size 432x288 with 1 Axes>"
      ]
     },
     "metadata": {
      "needs_background": "light",
      "tags": []
     },
     "output_type": "display_data"
    }
   ],
   "source": [
    "import math                                               # préparons le tracé de la solution exacte\n",
    "solexacte = [3000]                                        # préparons le tracé de la solution exacte\n",
    "for i in range(N):                                        # préparons le tracé de la solution exacte\n",
    "  solexacte.append(3000*math.exp(0.02*listex[i]))         # préparons le tracé de la solution exacte\n",
    "\n",
    "import matplotlib.pyplot as plt\n",
    "plt.plot(listex,solexacte,'green')                        # en rouge le tracé de la solution exacte\n",
    "plt.plot(listex,listey,'red')                             # en rouge le tracé de la solution approchée\n",
    "plt.xlabel('heures')\n",
    "plt.ylabel('nombre de bactéries')\n",
    "plt.show()"
   ]
  },
  {
   "cell_type": "markdown",
   "metadata": {
    "id": "DOsvFxZO2ueV"
   },
   "source": [
    "3.   Copier/coller les 23 lignes de codes précédent afin d'obtenir une meilleure solution approchée à ce problème.\n",
    "\n",
    "\n"
   ]
  },
  {
   "cell_type": "code",
   "execution_count": null,
   "metadata": {
    "id": "3f1Vk2vj3IlA"
   },
   "outputs": [],
   "source": []
  },
  {
   "cell_type": "markdown",
   "metadata": {
    "id": "ixvvMKy23Jqn"
   },
   "source": [
    "4. Utiliser le graphe précédent pour estimer le temps nécessaire pour que la culture de bactérie double."
   ]
  }
 ],
 "metadata": {
  "colab": {
   "name": "Méthode d'Euler.ipynb",
   "provenance": []
  },
  "kernelspec": {
   "display_name": "Python 3",
   "language": "python",
   "name": "python3"
  },
  "language_info": {
   "codemirror_mode": {
    "name": "ipython",
    "version": 3
   },
   "file_extension": ".py",
   "mimetype": "text/x-python",
   "name": "python",
   "nbconvert_exporter": "python",
   "pygments_lexer": "ipython3",
   "version": "3.8.6"
  }
 },
 "nbformat": 4,
 "nbformat_minor": 1
}
