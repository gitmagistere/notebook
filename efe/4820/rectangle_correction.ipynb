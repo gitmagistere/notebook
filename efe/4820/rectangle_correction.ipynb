{
  "nbformat": 4,
  "nbformat_minor": 0,
  "metadata": {
    "kernelspec": {
      "display_name": "Python 3",
      "language": "python",
      "name": "python3"
    },
    "language_info": {
      "codemirror_mode": {
        "name": "ipython",
        "version": 3
      },
      "file_extension": ".py",
      "mimetype": "text/x-python",
      "name": "python",
      "nbconvert_exporter": "python",
      "pygments_lexer": "ipython3",
      "version": "3.6.1"
    },
    "colab": {
      "name": "rectangle_correction.ipynb",
      "provenance": []
    }
  },
  "cells": [
    {
      "cell_type": "markdown",
      "metadata": {
        "id": "OJhsUP7nPNRk"
      },
      "source": [
        "# La méthode des rectangles\n",
        "\n",
        "Approximation du calcul d'une intégrale par la méthode des rectangles.\n",
        "\n",
        "Ci-dessous, vous trouverez deux scripts permettant de calculer une valeur approchée de l'intégrale \n",
        "$$\\int_0^1 x^2 \\mathrm{d}x $$ par la méthode des rectangles à gauche et à droite.\n",
        "\n",
        "L'intégrale choisie est volontairement simple afin de faciliter la vérification de l'écriture de l'algorithme."
      ]
    },
    {
      "cell_type": "code",
      "metadata": {
        "id": "VtkrZxbYPNRl"
      },
      "source": [
        "a = 0\n",
        "b = 1\n",
        "n = 5"
      ],
      "execution_count": 60,
      "outputs": []
    },
    {
      "cell_type": "code",
      "metadata": {
        "id": "U6_GrzgoPNRl"
      },
      "source": [
        "def f(x) :\n",
        "  return x**2"
      ],
      "execution_count": 44,
      "outputs": []
    },
    {
      "cell_type": "markdown",
      "metadata": {
        "id": "nKXc-UIyiOdS"
      },
      "source": [
        "La méthode des rectangle à gauche est ici représentée avec n=5 .\n",
        "\n",
        "![Méthode des rectangles à gauche](https://www.ilemaths.net/img/forum_img/0416/forum_416319_2.png)"
      ]
    },
    {
      "cell_type": "code",
      "metadata": {
        "id": "Z3svJatXPNRm"
      },
      "source": [
        "def rectangle_gauche(f, a, b, n):\n",
        "    somme = 0\n",
        "    h = (b-a) / n\n",
        "    x = a\n",
        "    for i in range(0, n):\n",
        "        somme = somme  + f(x) * h\n",
        "        x = x + h\n",
        "    return somme"
      ],
      "execution_count": 82,
      "outputs": []
    },
    {
      "cell_type": "markdown",
      "metadata": {
        "id": "JFmpBWMekMLB"
      },
      "source": [
        "1. Complétez le script ci-dessous afin de calculer une valeur approchée de $$\\int_0^1 x^2 \\mathrm{d}x $$ avec la méthode des rectangles à droite."
      ]
    },
    {
      "cell_type": "code",
      "metadata": {
        "id": "xHRZQ4Bvkbce"
      },
      "source": [
        "def rectangle_droit(f, a, b, n):\n",
        "    somme = 0\n",
        "    h = (b-a) / n\n",
        "    x = a + h\n"
      ],
      "execution_count": null,
      "outputs": []
    },
    {
      "cell_type": "markdown",
      "metadata": {
        "id": "j_1baBZGknAj"
      },
      "source": [
        "2. Vérifiez que les deux méthodes précédentes vous donnent une minoration et une majoration de $$\\int_0^1 x^2 \\mathrm{d}x $$."
      ]
    },
    {
      "cell_type": "markdown",
      "metadata": {
        "id": "PAp3iVnSlx0Z"
      },
      "source": [
        "Nous souhaitons à présent construire une représentation graphique de ces méthodes d'intégration. \n",
        "Pour cela nous devons construire :\n",
        "\n",
        "*   la représentation graphique de $$f:x\\mapsto x^2$$\n",
        "*   les rectangles dont les aires sont sommés\n",
        "\n",
        "On va utiliser pour cela la librairie *matplotlib.pyplot*.\n",
        "\n",
        "La représentation graphique de $$f:x\\mapsto x^2$$ sera construire à l'aide d'un grand nombre de points afin d'afficher une courbe *lisse*.\n",
        "\n",
        "\n"
      ]
    },
    {
      "cell_type": "code",
      "metadata": {
        "colab": {
          "base_uri": "https://localhost:8080/",
          "height": 282
        },
        "id": "hHjrjxFIoIDv",
        "outputId": "fe5bdcb2-ffa2-45bf-b479-d119b513aefa"
      },
      "source": [
        "import matplotlib.pyplot as plt\n",
        "\n",
        "h = (b-a)/1000\n",
        "xflist = [a + i*h for i in range(1000)]\n",
        "yflist = [f(xflist[i]) for i in range(1000)]\n",
        "\n",
        "plt.plot(xflist,yflist)"
      ],
      "execution_count": 61,
      "outputs": [
        {
          "output_type": "execute_result",
          "data": {
            "text/plain": [
              "[<matplotlib.lines.Line2D at 0x7f343dc80550>]"
            ]
          },
          "metadata": {
            "tags": []
          },
          "execution_count": 61
        },
        {
          "output_type": "display_data",
          "data": {
            "image/png": "[encoded data removed]",
            "text/plain": [
              "<Figure size 432x288 with 1 Axes>"
            ]
          },
          "metadata": {
            "tags": [],
            "needs_background": "light"
          }
        }
      ]
    },
    {
      "cell_type": "markdown",
      "metadata": {
        "id": "Z_nKNO-toPSz"
      },
      "source": [
        "La représentation des rectangles peut s'obtenir à l'aide de 3n points :"
      ]
    },
    {
      "cell_type": "code",
      "metadata": {
        "colab": {
          "base_uri": "https://localhost:8080/",
          "height": 282
        },
        "id": "q78jQBmTUoSq",
        "outputId": "62ea2776-bd49-477b-b9be-155fbc2368e0"
      },
      "source": [
        "def rectangle_gauche_avec_graphe(f, a, b, n):\n",
        "    somme = 0\n",
        "    h = (b-a) / n\n",
        "    xreclist = []\n",
        "    yreclist = []\n",
        "    for i in range(0, n):\n",
        "        xreclist.append(a+i*h)                   # abscisse du sommet supérieur gauche\n",
        "        xreclist.append(a+(i+1)*h)               # abscisse du sommet supérieur droit\n",
        "        xreclist.append(a+(i+1)*h)               # abscisse du sommet inférieur droit\n",
        "        yreclist.append(f(xreclist[3*i]))           # ordonnée du sommet supérieur gauche\n",
        "        yreclist.append(f(xreclist[3*i]))           # ordonnée du sommet supérieur droit\n",
        "        yreclist.append(0)                       # ordonnée du sommet inférieur droit\n",
        "        somme = somme  + yreclist[3*i] * h\n",
        "    plt.plot(xreclist,yreclist,'red',xflist,yflist,'blue')\n",
        "    return somme\n",
        "\n",
        "rectangle_gauche_avec_graphe(f,a,b,5)"
      ],
      "execution_count": 73,
      "outputs": [
        {
          "output_type": "execute_result",
          "data": {
            "text/plain": [
              "0.24000000000000005"
            ]
          },
          "metadata": {
            "tags": []
          },
          "execution_count": 73
        },
        {
          "output_type": "display_data",
          "data": {
            "image/png": "[encoded data removed]",
            "text/plain": [
              "<Figure size 432x288 with 1 Axes>"
            ]
          },
          "metadata": {
            "tags": [],
            "needs_background": "light"
          }
        }
      ]
    },
    {
      "cell_type": "markdown",
      "metadata": {
        "id": "wG8V-yZQqM0m"
      },
      "source": [
        "3. Modifiez le script précédent afin qu'il soit adapté à la méthode d'intégration des rectangles à droite."
      ]
    },
    {
      "cell_type": "code",
      "metadata": {
        "id": "W9F2dt-aqoNd"
      },
      "source": [
        "def rectangle_droite_avec_graphe(f, a, b, n):\n",
        "    \n",
        "\n",
        "rectangle_droite_avec_graphe(f,a,b,5)"
      ],
      "execution_count": null,
      "outputs": []
    },
    {
      "cell_type": "markdown",
      "metadata": {
        "id": "uoYt7GaSroe6"
      },
      "source": [
        "# La méthode du point milieu"
      ]
    },
    {
      "cell_type": "code",
      "metadata": {
        "colab": {
          "base_uri": "https://localhost:8080/",
          "height": 282
        },
        "id": "akIMYCCZsLh-",
        "outputId": "f143c302-9fea-4a4c-99bd-7430897e77c4"
      },
      "source": [
        "def milieux_avec_graphe(f, a, b, n):\n",
        "    somme = 0\n",
        "    h = (b-a) / n\n",
        "    xreclist = []\n",
        "    yreclist = []\n",
        "    for i in range(0, n):\n",
        "        xmilieu = a+i*h+h/2\n",
        "        xreclist.append(a+i*h)                   # abscisse du sommet supérieur gauche\n",
        "        xreclist.append(a+(i+1)*h)               # abscisse du sommet supérieur droit\n",
        "        xreclist.append(a+(i+1)*h)               # abscisse du sommet inférieur droit\n",
        "        yreclist.append(f(xmilieu))           # ordonnée du sommet supérieur gauche\n",
        "        yreclist.append(f(xmilieu))           # ordonnée du sommet supérieur droit\n",
        "        yreclist.append(0)                       # ordonnée du sommet inférieur droit\n",
        "        somme = somme  + yreclist[3*i] * h\n",
        "    plt.plot(xreclist,yreclist,'red',xflist,yflist,'blue')\n",
        "    return somme\n",
        "\n",
        "milieux_avec_graphe(f,a,b,5)"
      ],
      "execution_count": 74,
      "outputs": [
        {
          "output_type": "execute_result",
          "data": {
            "text/plain": [
              "0.33000000000000007"
            ]
          },
          "metadata": {
            "tags": []
          },
          "execution_count": 74
        },
        {
          "output_type": "display_data",
          "data": {
            "image/png": "[encoded data removed]",
            "text/plain": [
              "<Figure size 432x288 with 1 Axes>"
            ]
          },
          "metadata": {
            "tags": [],
            "needs_background": "light"
          }
        }
      ]
    },
    {
      "cell_type": "markdown",
      "metadata": {
        "id": "zS1HKzHSreRR"
      },
      "source": [
        "4. Reécrivez cette fonction milieux de façon plus concise, sans faire de représentation graphique."
      ]
    },
    {
      "cell_type": "code",
      "metadata": {
        "id": "U_l1lx9dPNRm"
      },
      "source": [
        "def milieux(f, a, b, n):\n",
        "    somme = 0\n",
        "    \n",
        "\n",
        "    \n",
        "    return somme"
      ],
      "execution_count": 81,
      "outputs": []
    },
    {
      "cell_type": "markdown",
      "metadata": {
        "id": "5txe0ipnPNRm"
      },
      "source": [
        "5. Ecrivez un script montrant la vitesse de convergence des méthodes rectangles à gauche, rectangle à droites et milieux pour le calcul d'une valeur approchée de $$\\int_0^1 x^2 \\mathrm{d}x = \\dfrac{1}{3}$$"
      ]
    },
    {
      "cell_type": "code",
      "metadata": {
        "id": "US2_5x1vt7QW"
      },
      "source": [
        ""
      ],
      "execution_count": 91,
      "outputs": []
    }
  ]
}