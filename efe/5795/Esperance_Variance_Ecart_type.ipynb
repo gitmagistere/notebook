{
  "nbformat": 4,
  "nbformat_minor": 0,
  "metadata": {
    "colab": {
      "name": "Esperance_Variance_Ecart-type.ipynb",
      "provenance": []
    },
    "kernelspec": {
      "name": "python3",
      "display_name": "Python 3"
    }
  },
  "cells": [
    {
      "cell_type": "markdown",
      "metadata": {
        "id": "oGBwbQeBRDwJ"
      },
      "source": [
        "# **Algorithme renvoyant l'espérance, la variance  et l'écart-type d'une variable aléatoire**"
      ]
    },
    {
      "cell_type": "markdown",
      "metadata": {
        "id": "5M5g_HiFQn_1"
      },
      "source": [
        "Illustrons cela à l’aide d’un jeu.\n",
        "\n",
        "On lance un dé à 6 faces non truqué :\n",
        "- Si c’est 1 qui sort, on gagne 1€.\n",
        "- Si c’est 2, 3 ou 4 qui sort, on gagne 2€.\n",
        "- Sinon, on gagne 4€.\n",
        "\n",
        "On appelle X la variable aléatoire qui enregistre la somme gagnée.\n",
        "\n",
        "X prend donc les valeurs $1$, $2$ ou $4$ avec comme probabilité $\\dfrac{1}{6}$, $0,5$ et $\\dfrac{1}{3}$.\n",
        "\n",
        "**Corriger les erreurs dans l’algorithme suivant pour qu'il calcule l’espérance, la variance ou l‘écart type de cette variable aléatoire :**\n",
        "\n"
      ]
    },
    {
      "cell_type": "code",
      "metadata": {
        "id": "1wpnjL_DcuJh"
      },
      "source": [
        "from math import sqrt\n",
        "X=[1,2,4]\n",
        "p=[1/6,0.5,1/3]\n",
        "def esperance(valeurs,probabilites):\n",
        "  E_X=0\n",
        "  for i in range(1;len(valeurs)+1):\n",
        "      E_X =E_X+probabilites[i]*valeurs[i]\n",
        "  return E_X\n",
        "def variance(valeurs,probabilites):\n",
        "  varX = 0\n",
        "  E_X=esperance(valeurs,probabilites)\n",
        "  for i in range(len(valeurs)):   \n",
        "  varX =varX+probabilites[i]*(valeurs[i]-E_X)**2\n",
        "  return varX\n",
        "def ecarttype(valeurs,probabilites):\n",
        "  return sqrt(variance(valeurs,probabilites))"
      ],
      "execution_count": null,
      "outputs": []
    }
  ]
}