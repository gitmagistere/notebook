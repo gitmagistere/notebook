{
  "nbformat": 4,
  "nbformat_minor": 0,
  "metadata": {
    "kernelspec": {
      "display_name": "Python 3",
      "language": "python",
      "name": "python3"
    },
    "language_info": {
      "codemirror_mode": {
        "name": "ipython",
        "version": 3
      },
      "file_extension": ".py",
      "mimetype": "text/x-python",
      "name": "python",
      "nbconvert_exporter": "python",
      "pygments_lexer": "ipython3",
      "version": "3.8.6"
    },
    "colab": {
      "name": "Listes.ipynb",
      "provenance": [],
      "collapsed_sections": []
    }
  },
  "cells": [
    {
      "cell_type": "markdown",
      "metadata": {
        "id": "8dP1qvm5UT9q"
      },
      "source": [
        "\n",
        "\n",
        "---\n",
        "\n",
        "\n",
        "\n",
        "### **Quelques éléments de base sur les Listes**\n",
        "\n",
        "---\n",
        "\n",
        "\n",
        "Capacités attendues\n",
        "\n",
        "- Générer une liste (en extension, par ajouts successifs ou en compréhension).\n",
        "- Manipuler des éléments d’une liste (ajouter, supprimer...) et leurs indices.\n",
        "- Parcourir une liste.\n",
        "- Itérer sur les éléments d’une liste.\n",
        "\n",
        "\n",
        "\n",
        "---\n",
        "\n",
        "\n",
        "\n",
        "### 0 - Accéder à des tranches de valeurs d'une liste (slicing)\n",
        "\n",
        "\n",
        "---\n",
        "\n",
        "\n",
        "Le slicing consiste à prendre des 'tranches' entre deux indices d'une liste.\n",
        "\n",
        "- ```liste[2:8]``` désigne les éléments de la liste depuis l'indice 2 jusqu'à l'indice 8, l'élément de l'indice 8 étant exclus\n",
        "- ```liste[2:]``` désigne tous les éléments de la liste après l'indice 2, l'élément de l'indice 2 compris\n",
        "- ```liste[:2]``` désigne tous les éléments de la liste jusqu'à l'indice 2, l'élément de l'indice 2 n'étant pas compris\n",
        "- les indices négatifs signifient qu'on part de la fin : ```liste[-3:-1]``` désigne tous les éléments de la liste epuis le troisième élément à partir de la fin jusqu'au dernier élement, celui-ci n'étant pas compris\n",
        "\n",
        "**Bref : ATTENTION aux indices !!!**\n",
        "\n",
        "Voici quelques exemples. "
      ]
    },
    {
      "cell_type": "code",
      "metadata": {
        "colab": {
          "base_uri": "https://localhost:8080/"
        },
        "id": "bqxWK_G_UT9y",
        "outputId": "3b81e84e-d1a1-45f5-d554-8e17590fa667"
      },
      "source": [
        "liste = [\"a\", \"b\", \"b\", \"d\", \"e\", \"f\", \"g\", \"h\",]\n",
        "print(liste)\n",
        "print(liste[3:7])\n",
        "print(liste[3:3])\n",
        "print(liste[5:])\n",
        "print(liste[:5])\n",
        "print(liste[-3:-1])\n",
        "print(liste[-5:])\n",
        "print(liste[:])"
      ],
      "execution_count": 2,
      "outputs": [
        {
          "output_type": "stream",
          "text": [
            "['a', 'b', 'b', 'd', 'e', 'f', 'g', 'h']\n",
            "['d', 'e', 'f', 'g']\n",
            "[]\n",
            "['f', 'g', 'h']\n",
            "['a', 'b', 'b', 'd', 'e']\n",
            "['f', 'g']\n",
            "['d', 'e', 'f', 'g', 'h']\n",
            "['a', 'b', 'b', 'd', 'e', 'f', 'g', 'h']\n"
          ],
          "name": "stdout"
        }
      ]
    },
    {
      "cell_type": "markdown",
      "metadata": {
        "id": "Y1Tl8OPwUT90"
      },
      "source": [
        "\n",
        "\n",
        "---\n",
        "\n",
        "\n",
        "\n",
        "### 1 - Création de listes \n",
        "\n",
        "\n",
        "---\n",
        "\n",
        "\n",
        "#### Conversion en liste\n",
        "\n",
        "Pour convertir un objet python en liste, on utilise la fonction ```list```\n",
        "Seuls les éléments itérables sont convertibles en liste :\n",
        "- les chaînes de caractères\n",
        "- les tuples (ensemble de valeurs regroupés par des parenthèses)\n",
        "- les variables simples (int, float, char, boolean) qui produiront une liste avec un unique élément"
      ]
    },
    {
      "cell_type": "code",
      "metadata": {
        "collapsed": true,
        "id": "Ni2NYOFdUT91"
      },
      "source": [
        "list(\"abcdef\")\n",
        "list((0,1,2,3,4,5))\n",
        "list(range(10))\n",
        "list(range(5,9))"
      ],
      "execution_count": null,
      "outputs": []
    },
    {
      "cell_type": "markdown",
      "metadata": {
        "id": "Y10d7rGQUT91"
      },
      "source": [
        "#### Création de liste par Compréhension\n",
        "\n",
        "\n",
        "Il est très courant en mathématiques de définir des ensembles en compréhension. L’ensemble des nombres pairs, par exemple est l’ensemble $\\{n \\in \\mathbb{Z} / n\\equiv 0[2]\\}$ .\n",
        "\n",
        "On peut avec Python définir des listes en compréhension (on dit aussi en intension avec un s) :"
      ]
    },
    {
      "cell_type": "code",
      "metadata": {
        "collapsed": true,
        "id": "c_uhSmnlUT91"
      },
      "source": [
        "X = [1,5,7,12]\n",
        "Y = [x**2 for x in X]\n",
        "Y"
      ],
      "execution_count": null,
      "outputs": []
    },
    {
      "cell_type": "markdown",
      "metadata": {
        "id": "FUvDhNdhUT92"
      },
      "source": [
        "Y est la liste des carrés des nombres appartenant à X. On peut même ajouter une condition :"
      ]
    },
    {
      "cell_type": "code",
      "metadata": {
        "collapsed": true,
        "colab": {
          "base_uri": "https://localhost:8080/"
        },
        "id": "Fx5u7ItoUT92",
        "outputId": "d9c9d042-0c12-48a5-9f6c-8d8eb7a154dd"
      },
      "source": [
        "Y = [x**2 for x in X if x**2<30]\n",
        "Y\n",
        "Y = [x**2 for x in X if x<10]\n",
        "Y"
      ],
      "execution_count": 5,
      "outputs": [
        {
          "output_type": "execute_result",
          "data": {
            "text/plain": [
              "[1, 25, 49]"
            ]
          },
          "metadata": {
            "tags": []
          },
          "execution_count": 5
        }
      ]
    },
    {
      "cell_type": "markdown",
      "metadata": {
        "id": "DV0OGog4UT92"
      },
      "source": [
        "\n",
        "\n",
        "---\n",
        "\n",
        "\n",
        "\n",
        "### 2 - Modifier une liste\n",
        "\n",
        "\n",
        "\n",
        "---\n",
        "\n",
        "\n",
        "#### Insérer un élément dans une liste \n",
        "Pour insérer un terme où on veut, on utilise la méthode ```.insert()``` selon la syntaxe suivante :\n"
      ]
    },
    {
      "cell_type": "code",
      "metadata": {
        "collapsed": true,
        "id": "U6RoT2QHUT93"
      },
      "source": [
        "L.insert(3,666)\n",
        "L"
      ],
      "execution_count": null,
      "outputs": []
    },
    {
      "cell_type": "markdown",
      "metadata": {
        "id": "9T6kH7faUT93"
      },
      "source": [
        "Dans une liste, on peut remplacer une tranche par une autre (il s’agit d’une mutation) :"
      ]
    },
    {
      "cell_type": "code",
      "metadata": {
        "collapsed": true,
        "id": "2V4lbpX_UT93"
      },
      "source": [
        "L = list(range(15))\n",
        "L[2:5] = 5*[0]\n",
        "L"
      ],
      "execution_count": null,
      "outputs": []
    },
    {
      "cell_type": "markdown",
      "metadata": {
        "id": "EjsUvylJUT93"
      },
      "source": [
        "On peut utiliser ce procédé pour changer/oter un terme :"
      ]
    },
    {
      "cell_type": "code",
      "metadata": {
        "collapsed": true,
        "id": "P_hbAzM2UT94"
      },
      "source": [
        "L=list(range(15))\n",
        "L[3:4]=[7]\n",
        "L"
      ],
      "execution_count": null,
      "outputs": []
    },
    {
      "cell_type": "markdown",
      "metadata": {
        "id": "z6CfzKdfUT94"
      },
      "source": [
        "On peut utiliser cette méthode pour supprimer une tranche :"
      ]
    },
    {
      "cell_type": "code",
      "metadata": {
        "collapsed": true,
        "id": "IS4Lz1ZsUT94"
      },
      "source": [
        "L[2:5]=[]\n",
        "L"
      ],
      "execution_count": null,
      "outputs": []
    },
    {
      "cell_type": "markdown",
      "metadata": {
        "id": "ZhDAOY6NUT94"
      },
      "source": [
        "On peut insérer une tranche :"
      ]
    },
    {
      "cell_type": "code",
      "metadata": {
        "collapsed": true,
        "id": "LxJZYy0-UT94"
      },
      "source": [
        " L[5:5]=[1,1,1,1,1]\n",
        "L"
      ],
      "execution_count": null,
      "outputs": []
    },
    {
      "cell_type": "markdown",
      "metadata": {
        "id": "ODOx3cVfUT95"
      },
      "source": [
        "#### Supprimer un élément à un indice donné \n",
        "Pour effacer un élément à un indice précis, on peut utiliser la fonction ```del()``` :"
      ]
    },
    {
      "cell_type": "code",
      "metadata": {
        "collapsed": true,
        "id": "kYpvFWGsUT95"
      },
      "source": [
        "L=[7,12,3,2]\n",
        "del(L[2])\n",
        "L"
      ],
      "execution_count": null,
      "outputs": []
    },
    {
      "cell_type": "markdown",
      "metadata": {
        "id": "Qj0r-8bCUT95"
      },
      "source": [
        "#### Supprimer un élément dont on ne connaît pas l'indice\n",
        "Pour supprimer un élément (valeur) dont on ne connaît pas la position (l'indice), on peut utiliser la méthode ```.remove()```.\n",
        "\n",
        "** Attention ** : cela ne supprime que la première occurence, en partant de l'indice 0, de cette valeur\n",
        "\n",
        "**Attention bis** : si la valeur n'existe pas, Python déclenche une erreur\n"
      ]
    },
    {
      "cell_type": "code",
      "metadata": {
        "collapsed": true,
        "id": "RLqv7mjUUT95"
      },
      "source": [
        "L = [1,10,56,23,897,56,1000]\n",
        "L.remove(56)\n",
        "L\n",
        "L.remove(100000)"
      ],
      "execution_count": null,
      "outputs": []
    },
    {
      "cell_type": "markdown",
      "metadata": {
        "id": "nOCn2pedUT95"
      },
      "source": [
        "\n",
        "\n",
        "---\n",
        "\n",
        "\n",
        "\n",
        "### 3 - Opérations sur les listes\n",
        "\n",
        "\n",
        "---\n",
        "\n",
        "\n",
        "#### Tester \n",
        "Les listes supportent les tests ```x in list``` et ```x not in list```. Les réponses de ces instructions seront des booléens : ```True```si la valeur ```x``` est dans la liste, ```False``` sinon.\n"
      ]
    },
    {
      "cell_type": "code",
      "metadata": {
        "collapsed": true,
        "id": "LOUcNFxnUT96"
      },
      "source": [
        "solide_platon=[\"Tétraèdre\",\"Hexaèdre\",\"Octaèdre\",\"Dodécaèdre\",\"Icosaèdre\"]\n",
        "\"polyèdre\" in solide_platon"
      ],
      "execution_count": null,
      "outputs": []
    },
    {
      "cell_type": "markdown",
      "metadata": {
        "id": "HVL3GThHW9y3"
      },
      "source": [
        "#### Fusionner deux listes\r\n",
        "\r\n",
        "Il suffit de saisir L1+L2 pour fusionner les deux listes L1 et L2 en une seule liste"
      ]
    },
    {
      "cell_type": "code",
      "metadata": {
        "colab": {
          "base_uri": "https://localhost:8080/"
        },
        "id": "CuF6jltKXTxK",
        "outputId": "d28fd7e5-29c2-459e-a16d-7448739c3897"
      },
      "source": [
        "L1=[-13,15,-2,6,-6]\r\n",
        "L2=[\"Tétraèdre\",\"Hexaèdre\",\"Octaèdre\"]\r\n",
        "\r\n",
        "L=L1+L2\r\n",
        "L"
      ],
      "execution_count": 12,
      "outputs": [
        {
          "output_type": "execute_result",
          "data": {
            "text/plain": [
              "[-13, 15, -2, 6, -6, 'Tétraèdre', 'Hexaèdre', 'Octaèdre']"
            ]
          },
          "metadata": {
            "tags": []
          },
          "execution_count": 12
        }
      ]
    },
    {
      "cell_type": "markdown",
      "metadata": {
        "id": "GHUWuoXSUT96"
      },
      "source": [
        "### Trier une liste\n",
        "La fonction sorted et la méthode sort font la même chose : elles trient les items dans l’ordre croissant (par défaut). \n",
        "\n",
        "La fonction ```sorted``` prend n’importe quel itérable et retourne les items dans l’ordre, sous forme de liste. Elle ne modifie donc pas le contenu de la liste initiale."
      ]
    },
    {
      "cell_type": "code",
      "metadata": {
        "collapsed": true,
        "id": "8CXN-zYuUT96"
      },
      "source": [
        "L=[7,12,3,2]\n",
        "sorted(L)\n",
        "L"
      ],
      "execution_count": null,
      "outputs": []
    },
    {
      "cell_type": "markdown",
      "metadata": {
        "id": "QfV3E8fHUT96"
      },
      "source": [
        "La méthode sort s’applique à une liste et modifie cette liste :"
      ]
    },
    {
      "cell_type": "code",
      "metadata": {
        "collapsed": true,
        "id": "5UcLEmUEUT96"
      },
      "source": [
        "L.sort()\n",
        "L"
      ],
      "execution_count": null,
      "outputs": []
    },
    {
      "cell_type": "markdown",
      "metadata": {
        "id": "8ECdIH5PUT97"
      },
      "source": [
        "Les deux, ```sort``` et ```sorted```, acceptent les arguments ```reverse``` et ```key```. \n",
        "\n",
        "L’argument ```reverse``` permet de trier dans l’ordre décroissant :"
      ]
    },
    {
      "cell_type": "code",
      "metadata": {
        "collapsed": true,
        "id": "il3kkRjiUT97"
      },
      "source": [
        "sorted([7,12,3,2],reverse=True)"
      ],
      "execution_count": null,
      "outputs": []
    },
    {
      "cell_type": "markdown",
      "metadata": {
        "id": "NT-h9g_7UT97"
      },
      "source": [
        "L’argument ```key``` permet de choisir la fonction avec laquelle on fera le tri. \n",
        "\n",
        "Si on veut, par exemple, trier selon la valeur absolue, on fera :"
      ]
    },
    {
      "cell_type": "code",
      "metadata": {
        "collapsed": true,
        "id": "2aY0_CdtUT97"
      },
      "source": [
        "sorted([-13,15,-2,6,-6],key=abs)"
      ],
      "execution_count": null,
      "outputs": []
    },
    {
      "cell_type": "markdown",
      "metadata": {
        "id": "pwhl1_oQUT97"
      },
      "source": [
        "#### Trouver une valeur dans une liste\n",
        "Pour trouver l’indice d’un terme présent dans un liste, la méthode ```index()``` peut être utilisée : elle renverra l'indice de la première occurence de la valeur :"
      ]
    },
    {
      "cell_type": "code",
      "metadata": {
        "collapsed": true,
        "id": "C3eQLZ6pUT97"
      },
      "source": [
        "L = [0, 1, 6, 7, 8, 9, 10, 11, 12, 5, 6, 7, 8, 9, 10]\n",
        "L.index(6)"
      ],
      "execution_count": null,
      "outputs": []
    },
    {
      "cell_type": "markdown",
      "metadata": {
        "id": "hELW3654UT98"
      },
      "source": [
        "#### Compter les éléments d'une liste\n",
        "Pour compter les occurrences d’un item, la méthode ```count()``` peut être utilisée :"
      ]
    },
    {
      "cell_type": "code",
      "metadata": {
        "collapsed": true,
        "id": "LDoQpaLhUT98"
      },
      "source": [
        "L = [1,2,1,1,1,1,2,1,2]\n",
        "L.count(2)\n",
        "L.count(3)"
      ],
      "execution_count": null,
      "outputs": []
    },
    {
      "cell_type": "markdown",
      "metadata": {
        "id": "6oSBwqpQUT98"
      },
      "source": [
        "#### Calculer le maximum/minimum des valeurs d'une liste\n",
        "Dans la cadre des statistiques par exemple, la fonction ```max()``` (respectivment ```min()```) peut permettre de calculer aisément le plus grand (respectivement petit) élément d'une liste :"
      ]
    },
    {
      "cell_type": "code",
      "metadata": {
        "collapsed": true,
        "id": "0roodiIeUT98"
      },
      "source": [
        "max(L)"
      ],
      "execution_count": null,
      "outputs": []
    },
    {
      "cell_type": "code",
      "metadata": {
        "collapsed": true,
        "id": "7n4oNgJHUT98"
      },
      "source": [
        "min(L)"
      ],
      "execution_count": null,
      "outputs": []
    },
    {
      "cell_type": "markdown",
      "metadata": {
        "id": "HpqUeaTRUT98"
      },
      "source": [
        "#### Méthode copy\n",
        "Pour copier une liste dans une autre, on utilise la méthode ```copy()``` :\n"
      ]
    },
    {
      "cell_type": "code",
      "metadata": {
        "collapsed": true,
        "id": "kIrZNomwUT99"
      },
      "source": [
        "LL=L.copy()\n",
        "LL\n",
        "LL==L\n",
        "LL is L"
      ],
      "execution_count": null,
      "outputs": []
    },
    {
      "cell_type": "markdown",
      "metadata": {
        "id": "Yhou-3RYUT99"
      },
      "source": [
        "** ATTENTION **\n",
        "\n",
        "L'instruction ```liste2 = liste1``` ne permet que de donner un deuxième nom à une liste existante. \n",
        "Dans l'exemple ci-dessous, nous allons créer une liste ```a``` puis faire l'instruction ```b = a```. Nous modifierons ensuite la liste ```b``` et constaterons que la liste  ```a``` a aussi été modifiée."
      ]
    },
    {
      "cell_type": "code",
      "metadata": {
        "collapsed": true,
        "id": "6zf0DLn2UT99"
      },
      "source": [
        "a = [20, 19, 18, 17]\n",
        "b = a\n",
        "b[0] = 10\n",
        "b\n",
        "a\n",
        "b is a"
      ],
      "execution_count": null,
      "outputs": []
    },
    {
      "cell_type": "markdown",
      "metadata": {
        "id": "nH8ZWSnHUT99"
      },
      "source": [
        "### Effacer une liste \n",
        "Méthode clear\n",
        "Pour effacer le contenu d’une liste, on utilise la métode ```.clear()```."
      ]
    },
    {
      "cell_type": "code",
      "metadata": {
        "collapsed": true,
        "id": "oqLt4IV4UT99"
      },
      "source": [
        "L.clear()\n",
        "L"
      ],
      "execution_count": null,
      "outputs": []
    }
  ]
}