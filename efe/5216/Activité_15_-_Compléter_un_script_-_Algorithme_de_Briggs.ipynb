{
 "cells": [
  {
   "cell_type": "markdown",
   "metadata": {},
   "source": [
    "## TP Algorithme de Briggs\n",
    "\n",
    "### Introduction\n",
    "Après l’invention des logarithmes par **John Neper**, l’Anglais **John Briggs** propose les premières « tables de logarithme ».\n",
    "La méthode qu’il a utilisée pour les trouver s’appelle l’**algorithme de Briggs**. Il est décrit ci-dessous :"
   ]
  },
  {
   "cell_type": "markdown",
   "metadata": {},
   "source": [
    "On prend $x>1$. On sait que : $ln(\\sqrt{x})=\\frac{1}{2}ln(x)$, c'est-à-dire : $ln(x^{\\frac{1}{2}})=\\frac{1}{2}ln(x)$.\n",
    "\n",
    "On en déduit que : $ln(x^{\\frac{1}{4}})=ln(\\sqrt{\\sqrt{x}})=\\frac{1}{2}ln(\\sqrt{x})=\\frac{1}{4}ln(x)$.\n",
    "\n",
    "En itérant le procédé, on obtient :\n",
    "$ln(x^{\\frac{1}{2^n}})=\\frac{1}{2^n}ln(x)$.\n",
    "\n",
    "Pour n suffisament grand, ce résultat sera donc proche de 0 et donc $x^{\\frac{1}{2^n}}$ sera proche de 1. \n",
    "\n",
    "Comme $x>1$, on a : $x^{\\frac{1}{2^n}} = 1 + h$ avec $h$ proche de 0. \n",
    "\n",
    "Comme $\\lim_{h \\to 0} \\frac{ln(1+h)}{h} =1$, on en déduit que lorsque $h$ est proche de 0, on a : $ln(1+h) \\approx h$, donc $ln(x^{\\frac{1}{2^n}}) \\approx h$ d'où : \n",
    "\n",
    "<div align=\"center\"><span  style=\"color:red\">$ln(x) \\approx 2^n \\times h$</span></div>\n",
    "\n",
    "Ce résultat est l'approximation de $ln(x)$ selon l'algorithme de Briggs.\n",
    "\n",
    "\n"
   ]
  },
  {
   "cell_type": "markdown",
   "metadata": {},
   "source": [
    "### Partie 1 : Utilisation d'une suite\n",
    "\n",
    "On considère la suite $(U_n)$ définie par : $U_0 = x$ et $U_{n+1}=\\sqrt{U_n}$ où $x>1$\n",
    "\n",
    "On montre par récurence que : \n",
    "- pour tout $n$, $U_n >1$\n",
    "\n",
    "On en déduit que : \n",
    "- la suite $(U_n)$ est décroissante\n",
    "- la suite $(U_n)$ converge vers un réel $l$\n",
    "\n",
    "On démontre ensuite que :\n",
    " $\\lim_{n \\to +\\infty} U_n = l = 1$ \n",
    " \n",
    "C'est à dire : $\\lim_{n \\to +\\infty} U_n -1 = 0$\n",
    "\n",
    "### 1.1 - Cas particulier : $x = 2$\n",
    "\n",
    "**Rappel** : $ln(2) \\approx 0.6931471805599453$\n",
    "\n",
    "a) Complète la fonction ```suite(precision)``` afin qu'elle renvoie le nombre d'itérations nécessaires pour que : $U_n - 1 < precision$. Cette fonction retourne également le terme $U_n$ correspondant"
   ]
  },
  {
   "cell_type": "code",
   "execution_count": null,
   "metadata": {
    "collapsed": true
   },
   "outputs": [],
   "source": [
    "from math import sqrt\n",
    "\n",
    "def suite(precision):\n",
    "    u = 2\n",
    "    n = 0\n",
    "    while .....:\n",
    "        u = sqrt(u)\n",
    "        ...\n",
    "    return n, u"
   ]
  },
  {
   "cell_type": "markdown",
   "metadata": {},
   "source": [
    "b) En utilisant la fonction ```suite(precision)```, quelle instruction doit-on saisir dans la console pour que seul l'affichage de $U_n$ apparaisse ?\n",
    "\n",
    "**Indice** : si ```t``` est un tupple (plusieurs valeurs séparées par des virgules), pour afficher l'élément à l'indice i on utilise l'instruction ```t[i]```"
   ]
  },
  {
   "cell_type": "code",
   "execution_count": null,
   "metadata": {
    "collapsed": true
   },
   "outputs": [],
   "source": [
    "precision = 0.001\n",
    "# Instruction pour répondre à la question 2\n"
   ]
  },
  {
   "cell_type": "markdown",
   "metadata": {},
   "source": [
    "c) Quel résultat obtient-on si on utilise l'instruction ```suite(precision)[0]```?"
   ]
  },
  {
   "cell_type": "markdown",
   "metadata": {},
   "source": [
    "**Double cliquer ici pour modifier le texte***\n",
    "\n",
    "On obtient : "
   ]
  },
  {
   "cell_type": "markdown",
   "metadata": {},
   "source": [
    "d) En utilisant la fonction ```suite(precision)``` recopier et compléter le tableau suivant (arrondir les résultats à $10^{-9}$)\n",
    "\n",
    "| epsilon                         | $10^{-2}$ | $10^{-5}$ | $10^{-8}$ | $10^{-9}$ |\n",
    "|:---------------------------------|:----:|:-------:|:---------:|:----------:|\n",
    "| ```suite(precision)[0]``` |      |         |           |           |\n",
    "| ```suite(precision)[1]``` |      |         |           |           |\n"
   ]
  },
  {
   "cell_type": "markdown",
   "metadata": {},
   "source": [
    "e) Exécutez les cellules suivantes :"
   ]
  },
  {
   "cell_type": "code",
   "execution_count": null,
   "metadata": {
    "collapsed": true
   },
   "outputs": [],
   "source": [
    "(suite(0.001)[1]-1)*2**suite(0.001)[0]"
   ]
  },
  {
   "cell_type": "code",
   "execution_count": null,
   "metadata": {
    "collapsed": true
   },
   "outputs": [],
   "source": [
    "(suite(1E-8)[1]-1)*2**suite(1E-8)[0]"
   ]
  },
  {
   "cell_type": "markdown",
   "metadata": {},
   "source": [
    "**Question** : Que calcule-t-on avec l'appel de ces deux instructions ?"
   ]
  },
  {
   "cell_type": "markdown",
   "metadata": {},
   "source": [
    "### 1.2 - Cas général\n",
    "\n",
    "Modifier la fonction précédente en  créant une fonction ```suite(precision, x)``` afin qu'elle retourne le plus petit entier ```n``` ainsi que la valeur de $U_n$ pour que $U_n - 1<precision$ avex $x>1$"
   ]
  },
  {
   "cell_type": "code",
   "execution_count": 8,
   "metadata": {
    "collapsed": true
   },
   "outputs": [],
   "source": [
    "from math import sqrt\n",
    "\n",
    "def suite2(precision,x):\n",
    "    ...\n",
    "    while ...:\n",
    "        ...\n",
    "        ...\n",
    "    return n, u"
   ]
  },
  {
   "cell_type": "markdown",
   "metadata": {},
   "source": [
    "$ln(5) \\approx 1.609437912434100374$\n",
    "\n",
    "** Vérification** : Exécutez la cellule ci-dessous pour vérifier votre algorithme :"
   ]
  },
  {
   "cell_type": "code",
   "execution_count": null,
   "metadata": {
    "collapsed": true
   },
   "outputs": [],
   "source": [
    "(suite2(0.001,5)[1]-1)*2**suite2(0.001,5)[0]"
   ]
  },
  {
   "cell_type": "markdown",
   "metadata": {},
   "source": [
    "## Partie 2 : Algorithme de Briggs\n",
    "\n",
    "### 2.1 - Programmes l'algorithme de Briggs \n",
    "Compléter la fonction briggs ci-dessous pour qu'lle renvoie une valeur approchée de $ln(x)$ avec une précision donnée :"
   ]
  },
  {
   "cell_type": "code",
   "execution_count": null,
   "metadata": {
    "collapsed": true
   },
   "outputs": [],
   "source": [
    "def briggs(precision, x):\n",
    "    ...\n",
    "    return ..."
   ]
  },
  {
   "cell_type": "markdown",
   "metadata": {},
   "source": [
    "### 2.2 - Généraliser l'algorithme de Briggs\n",
    "Dans le préambule, on a choisi d'éliminer les réels de l'intervalle $]0 ; 1]$.\n",
    "En utilsant la fonction ```briggs``` et les propriétés de la fonction ```ln```, écrire une fonction ```briggs2``` qui renvoie une valeur approchée de $ln(x)$ pour tout $x \\in \\mathbf{R}$"
   ]
  },
  {
   "cell_type": "code",
   "execution_count": null,
   "metadata": {
    "collapsed": true
   },
   "outputs": [],
   "source": [
    "def briggs2(precision, x):\n",
    "    ...\n",
    "    return ...    "
   ]
  },
  {
   "cell_type": "markdown",
   "metadata": {},
   "source": [
    "$ln(0.5) \\approx -0.6931471805599453$\n",
    "\n",
    "** Vérification** : Exécutez la cellule ci-dessous pour vérifier votre algorithme :"
   ]
  },
  {
   "cell_type": "code",
   "execution_count": null,
   "metadata": {
    "collapsed": true
   },
   "outputs": [],
   "source": [
    "briggs2(0.001, 0.5)"
   ]
  }
 ],
 "metadata": {
  "kernelspec": {
   "display_name": "Python 3",
   "language": "python",
   "name": "python3"
  },
  "language_info": {
   "codemirror_mode": {
    "name": "ipython",
    "version": 3
   },
   "file_extension": ".py",
   "mimetype": "text/x-python",
   "name": "python",
   "nbconvert_exporter": "python",
   "pygments_lexer": "ipython3",
   "version": "3.8.6"
  }
 },
 "nbformat": 4,
 "nbformat_minor": 2
}
