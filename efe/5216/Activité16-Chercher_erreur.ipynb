{
 "cells": [
  {
   "cell_type": "markdown",
   "metadata": {},
   "source": [
    "## Les erreurs classiques en Python"
   ]
  },
  {
   "cell_type": "markdown",
   "metadata": {},
   "source": [
    "## Erreur 1 \n",
    "### Illustrée sur l'algorithme permettant de déterminer si un entier naturel n est premier.\n",
    "\n",
    "On va ici utiliser l’opération ```n%i``` qui donne le reste de la division euclidienne de ``n`` par ``i``. On utilise aussi une liste \"diviseurs\" qui contiendra tous les diviseurs de ``n`` (la méthode ``append`` permet d’ajouter un élément à une liste, ``len(liste)`` renvoie la longueur de liste).\n",
    "\n",
    "**Rappel ** : L'opération ```n//i``` permet elle de donner le quotient de la division euclidienne de ```n``` par ```i```.\n",
    "\n",
    "L'exécution de ce programme déclenche une erreur de syntaxe (il y en a en fait 2 identiques). \n",
    "\n",
    "**Exercice : Après les avoir identifiées, corrige le programme. **\n",
    "\n",
    "La cellule suivante permet de vérifier que l'algorithme est correct (trois ```True``` devraient apparaître).\n"
   ]
  },
  {
   "cell_type": "code",
   "execution_count": null,
   "metadata": {
    "collapsed": true
   },
   "outputs": [],
   "source": [
    "def est_premier(n):\n",
    "    diviseurs=[]\n",
    "    for i in range(1,n+1):\n",
    "        if n%i=0:\n",
    "            diviseurs.append(i)\n",
    "    if len(diviseurs)=2:\n",
    "        return True\n",
    "    else:\n",
    "        return False\n"
   ]
  },
  {
   "cell_type": "code",
   "execution_count": null,
   "metadata": {
    "collapsed": true
   },
   "outputs": [],
   "source": [
    "est_premier(10)==False\n",
    "est_premier(17)==True\n",
    "est_premier(101)==True"
   ]
  },
  {
   "cell_type": "markdown",
   "metadata": {},
   "source": [
    "**Corrigé** : Les opérateurs de comparaison (utilisés en particulier pour les tests avec l'instruction condictionnelle '```if ... :```' sont :\n",
    "- '```==```' (dougle signe égal) pour les tests d'égalité (et non ```=```)\n",
    "- '```>```' pour le test 'plus grand que'\n",
    "- '```<```' pour le test 'plus petit que'"
   ]
  },
  {
   "cell_type": "markdown",
   "metadata": {},
   "source": [
    "## Erreur 2 \n",
    "### Illustrée sur l'algorithme permettant de déterminer une valeur approchée de e.\n",
    "\n",
    "Une valeur approchée de ```e``` (nombre d’Euler, ou nombre Népérien) peut être calculée en utilisant la formule suivante :\n",
    "$e \\approx 1 + \\frac{1}{1 !} +  \\frac{1}{2 !} +  \\frac{1}{3 !} + ... +  \\frac{1}{n !}$\n",
    "\n",
    "Il nous faut définir une fonction factorielle. Voici une solution sans utiliser de fonction récurrente (hors du programme de la spécialité Mathématiques de Terminale) :"
   ]
  },
  {
   "cell_type": "code",
   "execution_count": 5,
   "metadata": {
    "collapsed": true
   },
   "outputs": [],
   "source": [
    "def factorielle(n):\n",
    "    if n==0:\n",
    "    return 1\n",
    "    else:\n",
    "        resultat=1\n",
    "    for i in range(1,n+1):\n",
    "        resultat*=i\n",
    "    return resultat"
   ]
  },
  {
   "cell_type": "markdown",
   "metadata": {},
   "source": [
    "Le calcul d'une approximation de ```e``` peut ensuite s'écrire :"
   ]
  },
  {
   "cell_type": "code",
   "execution_count": 7,
   "metadata": {},
   "outputs": [],
   "source": [
    "def calcul_e(n):\n",
    "    e_1 = 0\n",
    "    for i in range(n+1):\n",
    "    e_1 += 1/factorielle(i)\n",
    "    return e_1"
   ]
  },
  {
   "cell_type": "markdown",
   "metadata": {},
   "source": [
    "Ces deux programmes contiennent des erreurs du même type.\n",
    "\n",
    "**Exercice : Après avoir identifié ce type d'erreur, corrige les programmes. **\n",
    "\n",
    "On pourra tester l'exactitude de ce programme avec l'exemple ci-dessous :"
   ]
  },
  {
   "cell_type": "code",
   "execution_count": 8,
   "metadata": {},
   "outputs": [
    {
     "data": {
      "text/plain": [
       "True"
      ]
     },
     "execution_count": 8,
     "metadata": {},
     "output_type": "execute_result"
    }
   ],
   "source": [
    "# Le module math contient une valeur approchée de e avec 15 décimales justes\n",
    "from math import e\n",
    "\n",
    "# Test pour voir si le calcul précéde,t donne une approximation au millionième \n",
    "abs(calcul_e(20) - e) < 0.000001"
   ]
  },
  {
   "cell_type": "markdown",
   "metadata": {},
   "source": [
    "** Indication** : le code erreur renvoyé par l'interprétateur de Python doit vous mettre sur la piste\n"
   ]
  },
  {
   "cell_type": "markdown",
   "metadata": {},
   "source": [
    "## Erreur 3 \n",
    "### Illustrée sur un algorithme de seuil d'une suite décroissante\n",
    "\n",
    "Supposons que nous recherchions un seuil pour une suite décroissante définie par récurrence par $U_{n+1}=f(U_n)$ et un premier terme $U_0.\n",
    "\n",
    "Prenons une fonction $f$ définie par : $\\forall x,  f(x) = x - 0.1$ et $U_0 = 2$. $(U_n)$ est donc une suite arithmétique de raison -0.1 et de premier terme 2 ; elle est donc décroissante par pas de 0.1. Elle va donc 'passer' par 0.3"
   ]
  },
  {
   "cell_type": "code",
   "execution_count": null,
   "metadata": {
    "collapsed": true
   },
   "outputs": [],
   "source": [
    "def seuil(f,M,u0):\n",
    "    n = 0\n",
    "    u = u0\n",
    "    while u != M:\n",
    "        n = n + 1\n",
    "        u = f(u)\n",
    "    return n"
   ]
  },
  {
   "cell_type": "markdown",
   "metadata": {},
   "source": [
    "On utilise ensuite la fonction f :"
   ]
  },
  {
   "cell_type": "code",
   "execution_count": null,
   "metadata": {
    "collapsed": true
   },
   "outputs": [],
   "source": [
    "def f(u):\n",
    "    return u - 0.1"
   ]
  },
  {
   "cell_type": "markdown",
   "metadata": {},
   "source": [
    "On est donc capable de déterminer l'entier $n$ pour lequel $U_n$ atteint 0.3 en exécutant la commande :"
   ]
  },
  {
   "cell_type": "code",
   "execution_count": null,
   "metadata": {
    "collapsed": true
   },
   "outputs": [],
   "source": [
    "seuil(f, 0.3, 2)"
   ]
  },
  {
   "cell_type": "markdown",
   "metadata": {},
   "source": [
    "Le programme semble ne pas répondre. \n",
    "\n",
    "**Exercice : Après avoir identifié l'erreur, corrige le programme (et éventuellement l'énoncé...). **"
   ]
  },
  {
   "cell_type": "markdown",
   "metadata": {},
   "source": [
    "## Erreur 4 \n",
    "### Illustrée sur la méthodes des rectangles pour calculer l'aire sous une courbe\n",
    "\n",
    "Prenons une fonction $f$ définie par : $\\forall x,  f(x) = x^2-3x+5$.\n",
    "\n",
    "On note une subdivision $(x_i)_{i \\in \\{1, 2, ..., n\\}}$ de l’intervalle [a ; b] Avec $a < x_1 < x_2 < ... <x_n < b $ et pour tout $i \\in \\{1, 2, ..., n\\}, x_i = a + \\frac{b-a}{n} \\times i$.\n",
    "\n",
    "Si la méthode des rectangles à droite est utilisée, on remplace f par la valeur qu’elle prend sur le bord droit de l’intervalle $[x_i, x_{i+1}]$ soit $f(x_{i+1})$, l’aire est alors égale à $f(x_{i+1}) \\times \\frac{b-a}{n}$.\n",
    "\n",
    "<img src=\"http://revue.sesamath.net/local/cache-vignettes/L750xH467/rectangles_droit-88997.png?1598300897\" width=600>\n",
    "\n",
    "D’où l’algorithme suivant :\n"
   ]
  },
  {
   "cell_type": "code",
   "execution_count": 26,
   "metadata": {},
   "outputs": [
    {
     "ename": "SyntaxError",
     "evalue": "invalid syntax (<ipython-input-26-1d3689a39d0f>, line 4)",
     "output_type": "error",
     "traceback": [
      "\u001b[0;36m  File \u001b[0;32m\"<ipython-input-26-1d3689a39d0f>\"\u001b[0;36m, line \u001b[0;32m4\u001b[0m\n\u001b[0;31m    for i in range(1;n+1;1)\u001b[0m\n\u001b[0m                    ^\u001b[0m\n\u001b[0;31mSyntaxError\u001b[0m\u001b[0;31m:\u001b[0m invalid syntax\n"
     ]
    }
   ],
   "source": [
    "def rectangles_droit(f,a,b,n):\n",
    "    h = (b - a) / n\n",
    "    Aire = 0\n",
    "    for i in range(1;n+1;1)\n",
    "        Aire += h*f(a + i*h)\n",
    "    return Aire\n",
    "\n",
    "def f(x):\n",
    "    return (x - 1,5)**2 + 2,75\n",
    "\n",
    "rectangles_droit(f;1;5;30)"
   ]
  },
  {
   "cell_type": "markdown",
   "metadata": {},
   "source": [
    "Encore une fois, le programme contient des erreurs...\n",
    "\n",
    "**Exercice : Après avoir identifié l'erreur, corrige le programme. **"
   ]
  },
  {
   "cell_type": "markdown",
   "metadata": {},
   "source": [
    "** Indication** : ce type d'erreur de syntaxe est assez courant dans les travaux d'élèves. Les repérer ('SyntaxError') et les corriger est un travail à réaliser avec eux de façon régulière"
   ]
  },
  {
   "cell_type": "code",
   "execution_count": null,
   "metadata": {
    "collapsed": true
   },
   "outputs": [],
   "source": []
  }
 ],
 "metadata": {
  "kernelspec": {
   "display_name": "Python 3",
   "language": "python",
   "name": "python3"
  },
  "language_info": {
   "codemirror_mode": {
    "name": "ipython",
    "version": 3
   },
   "file_extension": ".py",
   "mimetype": "text/x-python",
   "name": "python",
   "nbconvert_exporter": "python",
   "pygments_lexer": "ipython3",
   "version": "3.6.3"
  }
 },
 "nbformat": 4,
 "nbformat_minor": 2
}
