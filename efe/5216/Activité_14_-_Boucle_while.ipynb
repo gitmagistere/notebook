{
 "cells": [
  {
   "cell_type": "markdown",
   "metadata": {},
   "source": [
    "## Boucles conditionnelles : while\n",
    "\n",
    "Le mot-clé ```while``` signifie tant que en anglais. Le corps de la boucle (c’est-à-dire le bloc d’instructions indentées) sera répété tant que la condition est vraie.\n",
    "\n",
    "<img src=\"https://courspython.com/_images/schema_while.png\" width=400>\n",
    "\n",
    "Remarque : Si la condition est fausse au départ, le corps de la boucle n’est jamais exécuté. Si la condition reste toujours vraie, alors le corps de la boucle est répété indéfiniment.\n",
    "\n",
    "**Exemple** : Dans l’exemple ci-dessous, `x` sera multiplié par 2 tant que sa valeur reste inférieure à 10."
   ]
  },
  {
   "cell_type": "code",
   "execution_count": null,
   "metadata": {},
   "outputs": [],
   "source": [
    "x = 1\n",
    "while x < 10:\n",
    "    print(\"x a pour valeur\", x)\n",
    "    x = x * 2\n",
    "print(\"Fin\")"
   ]
  },
  {
   "cell_type": "markdown",
   "metadata": {},
   "source": [
    "#### Comment choisir entre boucle for et boucle while ?\n",
    "\n",
    "En général, si on connaît avant de démarrer la boucle le nombre d’itérations à exécuter, on choisit une boucle `for`. Au contraire, si la décision d’arrêter la boucle ne peut se faire que par un test, on choisit une boucle `while`.\n",
    "\n",
    "**Note** : Il est toujours possible de remplacer une boucle `for` par une boucle `while`."
   ]
  },
  {
   "cell_type": "markdown",
   "metadata": {},
   "source": [
    "#### Transformation d’une boucle for en un boucle while"
   ]
  },
  {
   "cell_type": "code",
   "execution_count": null,
   "metadata": {},
   "outputs": [],
   "source": [
    "for i in range(4):\n",
    "    print(\"i a pour valeur\", i)"
   ]
  },
  {
   "cell_type": "markdown",
   "metadata": {},
   "source": [
    "Le programme ci-dessus est équivalent à :"
   ]
  },
  {
   "cell_type": "code",
   "execution_count": null,
   "metadata": {},
   "outputs": [],
   "source": [
    "i = 0\n",
    "while i < 4:\n",
    "    print(\"i a pour valeur\", i)\n",
    "    i = i + 1"
   ]
  }
 ],
 "metadata": {
  "kernelspec": {
   "display_name": "Python 3",
   "language": "python",
   "name": "python3"
  },
  "language_info": {
   "codemirror_mode": {
    "name": "ipython",
    "version": 3
   },
   "file_extension": ".py",
   "mimetype": "text/x-python",
   "name": "python",
   "nbconvert_exporter": "python",
   "pygments_lexer": "ipython3",
   "version": "3.8.6"
  }
 },
 "nbformat": 4,
 "nbformat_minor": 2
}
