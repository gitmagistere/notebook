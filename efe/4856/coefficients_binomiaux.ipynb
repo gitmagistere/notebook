{
  "nbformat": 4,
  "nbformat_minor": 0,
  "metadata": {
    "colab": {
      "name": "coefficients_binomiaux.ipynb",
      "provenance": []
    },
    "kernelspec": {
      "name": "python3",
      "display_name": "Python 3"
    }
  },
  "cells": [
    {
      "cell_type": "markdown",
      "metadata": {
        "id": "RFAiGTjIhHi8"
      },
      "source": [
        "# Coefficients binomiaux"
      ]
    },
    {
      "cell_type": "markdown",
      "metadata": {
        "id": "R0rE7zGzlpG1"
      },
      "source": [
        "# Version 1: \n",
        "\n",
        "on définit une fonction récursive en utilisant la relation : \n",
        "$\\binom{n}{k}=\\binom{n-1}{k-1}+\\binom{n-1}{k}$"
      ]
    },
    {
      "cell_type": "code",
      "metadata": {
        "id": "z8YQa7bzhAdW"
      },
      "source": [
        "\n",
        "def coef(k,n): \n",
        "  # Cas de base : tous les coef 1 \"latéraux\" \n",
        "  if k == 0 and n == 0:\n",
        "    return 1\n",
        "  elif k == 0 and n == 1:\n",
        "    return 1\n",
        "  elif k == 1 and n == 1:\n",
        "    return 1\n",
        "  elif k == 0 or k == n:   \n",
        "    return 1\n",
        "  # coefs \"internes\"\n",
        "  else:\n",
        "    return coef(k-1,n-1)+coef(k,n-1)"
      ],
      "execution_count": null,
      "outputs": []
    },
    {
      "cell_type": "code",
      "metadata": {
        "id": "qtj7uGaIjFCY",
        "outputId": "ebb0bfc2-2779-4079-9184-49149932bfdd",
        "colab": {
          "base_uri": "https://localhost:8080/"
        }
      },
      "source": [
        "coef(2,4)"
      ],
      "execution_count": null,
      "outputs": [
        {
          "output_type": "execute_result",
          "data": {
            "text/plain": [
              "6"
            ]
          },
          "metadata": {
            "tags": []
          },
          "execution_count": 26
        }
      ]
    },
    {
      "cell_type": "markdown",
      "metadata": {
        "id": "rnwQvWy6sHQ1"
      },
      "source": [
        "# Version 2:\n",
        "\n",
        "Sans récursivité (moins \"visuelle\")"
      ]
    },
    {
      "cell_type": "code",
      "metadata": {
        "id": "TGQ5a63CsHp2"
      },
      "source": [
        "def coefbis(k,n):\n",
        "  L1 = [1]\n",
        "  for j in range(n):\n",
        "    L2 = L1 + [1]\n",
        "    for i in range(len(L1)-1):\n",
        "      L2[i+1] = L1[i]+L1[i+1]\n",
        "    L1 = L2\n",
        "  return(L1[k])"
      ],
      "execution_count": null,
      "outputs": []
    },
    {
      "cell_type": "code",
      "metadata": {
        "id": "nRQmLPwNuQpd",
        "outputId": "e58f5efc-b17d-4bfe-e238-2e9ec9a263e0",
        "colab": {
          "base_uri": "https://localhost:8080/"
        }
      },
      "source": [
        "coefbis(3,3)"
      ],
      "execution_count": null,
      "outputs": [
        {
          "output_type": "execute_result",
          "data": {
            "text/plain": [
              "1"
            ]
          },
          "metadata": {
            "tags": []
          },
          "execution_count": 35
        }
      ]
    }
  ]
}