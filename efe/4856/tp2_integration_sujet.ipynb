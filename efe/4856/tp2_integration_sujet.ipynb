{
 "cells": [
  {
   "cell_type": "markdown",
   "metadata": {},
   "source": [
    "# Intégration numérique"
   ]
  },
  {
   "cell_type": "code",
   "execution_count": 2,
   "metadata": {
    "collapsed": false
   },
   "outputs": [
    {
     "name": "stdout",
     "output_type": "stream",
     "text": [
      "Using matplotlib backend: Qt4Agg\n",
      "Populating the interactive namespace from numpy and matplotlib\n"
     ]
    }
   ],
   "source": [
    "%pylab"
   ]
  },
  {
   "cell_type": "markdown",
   "metadata": {},
   "source": [
    "# Programmation des 3 méthodes classiques : point milieu, trapèzes, Simpson"
   ]
  },
  {
   "cell_type": "markdown",
   "metadata": {},
   "source": [
    "Soient $a$ et $b$ deux réels tels que $a < b$ et $f$ une fonction continue sur $[a,b]$.\n",
    "\n",
    "Dans cette section , on cherche à comparer les 3 méthodes classiques d'intégration numérique décrites en cours pour approcher\n",
    "$$\n",
    "I(f,a,b) := \\int_a^b f(x) dx.\n",
    "$$\n",
    "\n",
    "Pour ce faire, on considère une subdivision $a = a_0 < a_1 < ... < a_n = b$ de $[a,b]$ avec \n",
    "$a_i = a+ih$ et $h = \\dfrac{b-a}{n}$."
   ]
  },
  {
   "cell_type": "markdown",
   "metadata": {},
   "source": [
    "## 1 - Méthode du point milieu\n",
    "\n",
    "On rappelle que la formule du point milieu composite pour approcher $I(f,a,b)$ est donnée par\n",
    "$$\n",
    "Q_m^c(f,a,b,n) = \\dfrac{b-a}{n} \\sum_{j = 0}^{n-1} f\\left(\\dfrac{a_j+a_{j+1}}{2}\\right).\n",
    "$$"
   ]
  },
  {
   "cell_type": "markdown",
   "metadata": {},
   "source": [
    "Écrire une fonction **mil** qui, pour les entrées $f$ (la fonction à intégrer), $a$, $b$ (les bornes de l'intégrale) et $n$ (le nombre de sous-intervalles), retourne la valeur $Q_m$ de $Q_m^c(f,a,b,n)$ rappelée ci-dessus.\n",
    "\n",
    "On testera cette fonction pour approcher l'intégrale $\\int_0^1 e^x dx$ dont on connaît la valeur $I_e$."
   ]
  },
  {
   "cell_type": "code",
   "execution_count": null,
   "metadata": {
    "collapsed": false
   },
   "outputs": [],
   "source": []
  },
  {
   "cell_type": "markdown",
   "metadata": {},
   "source": [
    "Dans cette question, on travaille avec la fonction $f = exp$, $a = 0$ et $b = 1$.\n",
    "\n",
    "Écrire les commandes nécessaires au tracé, en échelle logarithmique, de l'évolution de l'erreur $$E_m(n) := \\Big|Q_m^c(exp,0,1,n)-I_e\\Big|$$ en fonction de $n$. "
   ]
  },
  {
   "cell_type": "code",
   "execution_count": null,
   "metadata": {
    "collapsed": false
   },
   "outputs": [],
   "source": []
  },
  {
   "cell_type": "markdown",
   "metadata": {},
   "source": [
    "Quel est le comportement de l'erreur $E_m(n)$ ?\n",
    "\n",
    "Pour répondre à cette question, on pourra utiliser les notions suivantes : \n",
    "\n",
    "+ Si $E(n)$, $C$ et $\\alpha$ sont des quantités positives, on a \n",
    "$$\n",
    "E(n) \\sim \\dfrac{C}{n^\\alpha} \n",
    "\\Longleftrightarrow \n",
    "\\log\\Big(E(n)\\Big) \\sim \\log(C)-\\alpha \\log(n).\n",
    "$$\n",
    "\n",
    "+ En conséquence, si le tracé de $\\log\\Big(E(n)\\Big)$ en fonction de $\\log(n)$ est une droite, la pente de cette dernière donne $-\\alpha$.\n",
    "\n",
    "+ On rappelle que si $E(n) \\sim\\dfrac{C}{n^\\alpha}$, on dit que $E(n)$ est de l'ordre de  $\\dfrac{1}{n^\\alpha}.$"
   ]
  },
  {
   "cell_type": "code",
   "execution_count": null,
   "metadata": {
    "collapsed": true
   },
   "outputs": [],
   "source": []
  },
  {
   "cell_type": "markdown",
   "metadata": {},
   "source": [
    "## 2 - Méthode des trapèzes\n",
    "\n",
    "On rappelle que la formule des trapèzes composite pour approcher $I(f,a,b)$ est donnée par\n",
    "$$\n",
    "Q_t^c(f,a,b,n) = \\dfrac{b-a}{2n} \\left( f(a) + f(b) + 2\\sum_{j = 1}^{n-1} f(a_j) \\right).\n",
    "$$"
   ]
  },
  {
   "cell_type": "markdown",
   "metadata": {},
   "source": [
    "Écrire une fonction **trap** qui, pour les entrées $f$, $a$, $b$ et $n$, retourne la valeur $Q_t$  de $Q_t^c(f,a,b,n)$ rappelée ci-dessus.\n",
    "\n",
    "On testera cette fonction pour approcher l'intégrale $\\int_0^1 e^x dx$ dont on connaît la valeur $I_e$."
   ]
  },
  {
   "cell_type": "code",
   "execution_count": null,
   "metadata": {
    "collapsed": false
   },
   "outputs": [],
   "source": []
  },
  {
   "cell_type": "markdown",
   "metadata": {},
   "source": [
    "Dans cette question, on travaille avec la fonction $f = exp$, $a = 0$ et $b = 1$.\n",
    "\n",
    "Écrire les commandes nécessaires au tracé, en échelle logarithmique, de l'évolution de l'erreur $$E_t(n) := \\Big|Q_t^c(exp,0,1,n)-I_e\\Big|$$ en fonction de $n$. "
   ]
  },
  {
   "cell_type": "code",
   "execution_count": null,
   "metadata": {
    "collapsed": false
   },
   "outputs": [],
   "source": []
  },
  {
   "cell_type": "markdown",
   "metadata": {},
   "source": [
    "Quel est le comportement de l'erreur $E_t(n)$ ?"
   ]
  },
  {
   "cell_type": "code",
   "execution_count": null,
   "metadata": {
    "collapsed": true
   },
   "outputs": [],
   "source": []
  },
  {
   "cell_type": "markdown",
   "metadata": {},
   "source": [
    "## 3 - Méthode de Simpson\n",
    "\n",
    "On rappelle que la formule de Simpson composite pour approcher $I(f,a,b)$ est donnée par\n",
    "$$\n",
    "\\begin{array}{rcl}\n",
    "Q_s^c(f,a,b,n) & = \n",
    "& \\dfrac{b-a}{6n} \\left( f(a) + f(b) + 2\\sum_{j = 1}^{n-1} f(a_j) \n",
    "+ 4 \\sum_{j = 0}^{n-1} f\\left(\\dfrac{a_j+a_{j+1}}{2}\\right)\n",
    "\\right) \n",
    "\\\\\n",
    "& = \n",
    "& \\dfrac{1}{3} Q_t^c(f,a,b,n) + \\dfrac{2}{3} Q_m^c(f,a,b,n).\n",
    "\\end{array}\n",
    "$$"
   ]
  },
  {
   "cell_type": "markdown",
   "metadata": {},
   "source": [
    "Écrire une fonction **simp** qui, pour les entrées $f$, $a$, $b$ et $n$, retourne la valeur $Q_s$  de $Q_s^c(f,a,b,n)$ rappelée ci-dessus.\n",
    "\n",
    "On testera cette fonction pour approcher l'intégrale $\\int_0^1 e^x dx$ dont on connaît la valeur $I_e$."
   ]
  },
  {
   "cell_type": "code",
   "execution_count": null,
   "metadata": {
    "collapsed": false
   },
   "outputs": [],
   "source": []
  },
  {
   "cell_type": "markdown",
   "metadata": {},
   "source": [
    "Dans cette question, on travaille avec la fonction $f = exp$, $a = 0$ et $b = 1$.\n",
    "\n",
    "Écrire les commandes nécessaires au tracé, en échelle logarithmique, de l'évolution de l'erreur $$E_s(n) := \\Big|Q_s^c(exp,0,1,n)-I_e\\Big|$$ en fonction de $n$. "
   ]
  },
  {
   "cell_type": "code",
   "execution_count": null,
   "metadata": {
    "collapsed": false
   },
   "outputs": [],
   "source": []
  },
  {
   "cell_type": "markdown",
   "metadata": {},
   "source": [
    "Quel est le comportement de l'erreur $E_s(n)$ ?"
   ]
  },
  {
   "cell_type": "code",
   "execution_count": null,
   "metadata": {
    "collapsed": true
   },
   "outputs": [],
   "source": []
  },
  {
   "cell_type": "markdown",
   "metadata": {},
   "source": [
    "## 4 - Bilan\n",
    "\n",
    "Tracé sur le même graphe, l'évolution de $E_m(n)$ (en vert), $E_t(n)$ (en noir) et $E_s(n)$ (en rouge) en fonction de $n$, en échelle logarithmique, avec des couleurs différentes et une légende."
   ]
  },
  {
   "cell_type": "code",
   "execution_count": null,
   "metadata": {
    "collapsed": false
   },
   "outputs": [],
   "source": []
  },
  {
   "cell_type": "markdown",
   "metadata": {},
   "source": [
    "# Calcul d'un signal moyen\n",
    "\n",
    "On suppose qu'on dispose du signal bleu $s$ tracé ci-dessous en fonction du temps $t$. "
   ]
  },
  {
   "cell_type": "code",
   "execution_count": 3,
   "metadata": {
    "collapsed": false
   },
   "outputs": [
    {
     "name": "stdout",
     "output_type": "stream",
     "text": [
      "mu =  [ 7.48566567]\n"
     ]
    }
   ],
   "source": [
    "n = 2000\n",
    "t_echant = sort(numpy.random.uniform(0,10,size=n))\n",
    "mumax = 10\n",
    "mu = numpy.random.uniform(0,mumax,size=1)\n",
    "ecarttype = numpy.random.uniform(0,mu*0.1,size=1)\n",
    "#s_echant = sin(2*t_echant)+numpy.random.normal(mu,ecarttype,size=n)\n",
    "s_echant = numpy.random.normal(mu,ecarttype,size=n)\n",
    "\n",
    "figure()\n",
    "plot(t_echant,s_echant)\n",
    "print \"mu = \",mu"
   ]
  },
  {
   "cell_type": "markdown",
   "metadata": {},
   "source": [
    "La question est de calculer la valeur moyenne de ce signal au cours du temps, afin d'en avoir une vision résumée, quitte à perdre un peu d'information.\n",
    "\n",
    "Plus précisément, on cherche à tracer en fonction du temps $t$ \n",
    "$$\n",
    "s_{moy}(t) := \\dfrac{1}{t} \\int_{t_0}^t s(u) du.\n",
    "$$\n",
    "\n",
    "Comme l'expression analytique du signal bleu $s$ n'est pas connue, on doit approcher l'intégrale à l'aide des valeurs dont on dispose dans les tableaux $t_{echant}$ et $s_{echant}$."
   ]
  },
  {
   "cell_type": "markdown",
   "metadata": {},
   "source": [
    "Tracer sur le même graphe \n",
    "+ le signal $s$ en bleu,\n",
    "+ et sa valeur moyenne calculée par la méthode des trapèzes en rouge."
   ]
  },
  {
   "cell_type": "code",
   "execution_count": null,
   "metadata": {
    "collapsed": false
   },
   "outputs": [],
   "source": []
  },
  {
   "cell_type": "markdown",
   "metadata": {},
   "source": [
    "# Approximation de l'aire d'une surface"
   ]
  },
  {
   "cell_type": "markdown",
   "metadata": {},
   "source": [
    "Effectuer, puis analyser le code suivant pour comprendre ce qu'il fait."
   ]
  },
  {
   "cell_type": "code",
   "execution_count": null,
   "metadata": {
    "collapsed": false
   },
   "outputs": [],
   "source": [
    "def echant(numfig):\n",
    "    figure(numfig)\n",
    "    x = linspace(-1,1);\n",
    "    y = 1+x**2;\n",
    "    plot(x,y);\n",
    "    plot(x,-y);\n",
    "    x = linspace(1,3+2*sqrt(2));\n",
    "    y = 4-(x-3)**2/2;\n",
    "    plot(x,y);\n",
    "    plot(x,-y);\n",
    "    \n",
    "    print \"Please click on the top part of the fish to sample this boundary\"\n",
    "    print \"Left-click to add a point, Right-click to remove last, Middle-click to end\"\n",
    "    pts = ginput(0)\n",
    "    xx = array(map(lambda p: p[0], pts))\n",
    "    yy = array(map(lambda p: p[1], pts))\n",
    "    plot(xx,yy,'ok')\n",
    "    i = argsort(xx)    \n",
    "    return xx[i],yy[i]\n",
    "\n",
    "xx,yy = echant(100)\n",
    "print \"xx = \",xx\n",
    "print \"yy = \",yy"
   ]
  },
  {
   "cell_type": "markdown",
   "metadata": {},
   "source": [
    "En utilisant la fonction echant ci-dessus, créer une fonction **airet** qui, \n",
    "+ calcule l'aire approchée $J_n$ du poisson en utilisant les $n$ points échantillonés et la formule des trapèzes composite \n",
    "+ et retourne l'erreur entre l'aire exacte et $J_n$.\n",
    "\n",
    "On admettra que l'aire du poisson vaut $I = \\dfrac{8}{3} (7+4\\sqrt{2})$.\n",
    "\n",
    "Faire varier le nombre de points échantillonnés sur la courbe et observer l'évolution de l'erreur."
   ]
  },
  {
   "cell_type": "code",
   "execution_count": null,
   "metadata": {
    "collapsed": false
   },
   "outputs": [],
   "source": []
  }
 ],
 "metadata": {
  "kernelspec": {
   "display_name": "Python 2",
   "language": "python",
   "name": "python2"
  },
  "language_info": {
   "codemirror_mode": {
    "name": "ipython",
    "version": 2
   },
   "file_extension": ".py",
   "mimetype": "text/x-python",
   "name": "python",
   "nbconvert_exporter": "python",
   "pygments_lexer": "ipython2",
   "version": "2.7.11"
  }
 },
 "nbformat": 4,
 "nbformat_minor": 0
}
