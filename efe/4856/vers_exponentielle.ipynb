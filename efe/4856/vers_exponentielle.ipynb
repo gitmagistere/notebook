{
  "nbformat": 4,
  "nbformat_minor": 0,
  "metadata": {
    "celltoolbar": "Format de la Cellule Texte Brut",
    "kernelspec": {
      "display_name": "Python 3",
      "language": "python",
      "name": "python3"
    },
    "language_info": {
      "codemirror_mode": {
        "name": "ipython",
        "version": 3
      },
      "file_extension": ".py",
      "mimetype": "text/x-python",
      "name": "python",
      "nbconvert_exporter": "python",
      "pygments_lexer": "ipython3",
      "version": "3.6.9"
    },
    "colab": {
      "name": "vers-exponentielle.ipynb",
      "provenance": []
    }
  },
  "cells": [
    {
      "cell_type": "markdown",
      "metadata": {
        "id": "SM3dmHRZKaMh"
      },
      "source": [
        "Le programme ci-dessous permet de simuler la désintégration de n dés."
      ]
    },
    {
      "cell_type": "code",
      "metadata": {
        "id": "ywcdzV8cKaMt"
      },
      "source": [
        "import matplotlib.pyplot as plt\n",
        "%matplotlib inline\n",
        "from random import randint\n",
        "\n",
        "def simulation(n):\n",
        "    nombrelance = 0\n",
        "    temps = [0]\n",
        "    radioactifs = [n]\n",
        "\n",
        "    while n > 0:\n",
        "            desintegration = 0\n",
        "            for i in range(n):\n",
        "                tirage = randint(1,6)\n",
        "                if tirage == 4:\n",
        "                    desintegration = desintegration + 1\n",
        "            n = n - desintegration\n",
        "            nombrelance = nombrelance + 1\n",
        "            temps.append(nombrelance)\n",
        "            radioactifs.append(n)\n",
        "\n",
        "    plt.figure()\n",
        "    plt.bar(temps, radioactifs, width=0.2)\n",
        "    plt.grid()\n",
        "    plt.xlabel(\"temps\")\n",
        "    plt.ylabel(\"nombre d'atomes radioactifs\")\n",
        "    plt.show()\n",
        "    plt.close()"
      ],
      "execution_count": 1,
      "outputs": []
    },
    {
      "cell_type": "markdown",
      "metadata": {
        "id": "2-Gg0XEcL1-v"
      },
      "source": [
        "Appeler la fonction simulation() pour 100, pour 1000 et pour 10 000 dés."
      ]
    },
    {
      "cell_type": "code",
      "metadata": {
        "id": "JUlfytEiKaNB",
        "outputId": "e4cf1690-e496-45db-c2d4-5b79e2fa95ca",
        "colab": {
          "base_uri": "https://localhost:8080/",
          "height": 279
        }
      },
      "source": [
        "simulation(10000)"
      ],
      "execution_count": 5,
      "outputs": [
        {
          "output_type": "display_data",
          "data": {
            "image/png": "[encoded data removed]",
            "text/plain": [
              "<Figure size 432x288 with 1 Axes>"
            ]
          },
          "metadata": {
            "tags": [],
            "needs_background": "light"
          }
        }
      ]
    },
    {
      "cell_type": "markdown",
      "metadata": {
        "id": "qhJxfLLfMCap"
      },
      "source": [
        "Commentez-vos observations ci-dessous:"
      ]
    }
  ]
}