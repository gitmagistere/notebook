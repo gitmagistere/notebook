{
  "nbformat": 4,
  "nbformat_minor": 0,
  "metadata": {
    "colab": {
      "name": "Rappels des listes.ipynb",
      "provenance": []
    },
    "kernelspec": {
      "name": "python3",
      "display_name": "Python 3"
    }
  },
  "cells": [
    {
      "cell_type": "markdown",
      "metadata": {
        "id": "lmDHukBSifCd"
      },
      "source": [
        "Comme pour les chaînes de caractères, les listes possèdent de nombreuses méthodes qui leur sont propres et qui peuvent se révéler très pratiques. On rappelle qu'une méthode est une fonction qui agit sur l'objet auquel elle est attachée par un point.\n",
        "\n",
        "1. **.append()**\n",
        "\n",
        "La méthode.append(), que l'on a déjà vu au chapitre 4 Listes, ajoute un élément à la fin d'une liste :"
      ]
    },
    {
      "cell_type": "code",
      "metadata": {
        "id": "nz2FKt_UiaOq",
        "outputId": "99082f5a-42d5-48b6-96b9-31a124ea5e28",
        "colab": {
          "base_uri": "https://localhost:8080/"
        }
      },
      "source": [
        "a = [1, 2, 3]\n",
        "a.append(5)\n",
        "a"
      ],
      "execution_count": 2,
      "outputs": [
        {
          "output_type": "execute_result",
          "data": {
            "text/plain": [
              "[1, 2, 3, 5]"
            ]
          },
          "metadata": {
            "tags": []
          },
          "execution_count": 2
        }
      ]
    },
    {
      "cell_type": "markdown",
      "metadata": {
        "id": "LD6Enf-ii6qX"
      },
      "source": [
        "qui est équivalent à :"
      ]
    },
    {
      "cell_type": "code",
      "metadata": {
        "id": "Kfz0BgOSjV8i",
        "outputId": "7cdf8ce8-c7d0-4d16-d001-49fe885b0f01",
        "colab": {
          "base_uri": "https://localhost:8080/"
        }
      },
      "source": [
        "a = [1, 2, 3]\n",
        "a = a + [5]\n",
        "a"
      ],
      "execution_count": 3,
      "outputs": [
        {
          "output_type": "execute_result",
          "data": {
            "text/plain": [
              "[1, 2, 3, 5]"
            ]
          },
          "metadata": {
            "tags": []
          },
          "execution_count": 3
        }
      ]
    },
    {
      "cell_type": "markdown",
      "metadata": {
        "id": "R8e99mn4jbwy"
      },
      "source": [
        "Conseil : préférez la version avec *.append()* qui est plus compacte et facile à lire.\n",
        "\n",
        "2. **.insert()**\n",
        "\n",
        "La méthode *.insert()* insère un objet dans une liste avec un indice déterminé :"
      ]
    },
    {
      "cell_type": "code",
      "metadata": {
        "id": "Hq02ZJabjyEb",
        "outputId": "b10efe87-7bc4-425f-8656-abb486ebd9e2",
        "colab": {
          "base_uri": "https://localhost:8080/"
        }
      },
      "source": [
        "a = [1, 2, 3]\n",
        "a.insert(2, -15)\n",
        "a\n",
        "[1, 2, -15, 3]"
      ],
      "execution_count": 4,
      "outputs": [
        {
          "output_type": "execute_result",
          "data": {
            "text/plain": [
              "[1, 2, -15, 3]"
            ]
          },
          "metadata": {
            "tags": []
          },
          "execution_count": 4
        }
      ]
    },
    {
      "cell_type": "markdown",
      "metadata": {
        "id": "Q5hb51XAkAhO"
      },
      "source": [
        "3. **del**\n",
        "\n",
        "L'instruction *del* supprime un élément d'une liste à un indice déterminé :"
      ]
    },
    {
      "cell_type": "code",
      "metadata": {
        "id": "_uA_iv-5kJNt",
        "outputId": "969f4cfa-66bd-42d3-d4f4-d3e0a8b17ee9",
        "colab": {
          "base_uri": "https://localhost:8080/"
        }
      },
      "source": [
        "a = [1, 2, 3]\n",
        "del a[1]\n",
        "a"
      ],
      "execution_count": 5,
      "outputs": [
        {
          "output_type": "execute_result",
          "data": {
            "text/plain": [
              "[1, 3]"
            ]
          },
          "metadata": {
            "tags": []
          },
          "execution_count": 5
        }
      ]
    },
    {
      "cell_type": "markdown",
      "metadata": {
        "id": "EUdTABXkkP6T"
      },
      "source": [
        "**Remarque :** Contrairement aux autres méthodes associées aux listes, del est une instruction générale de Python, utilisable pour d'autres objets que des listes. Celle-ci ne prend pas de parenthèse.\n",
        "\n",
        "\n",
        "\n",
        "4. **remove()**\n",
        "\n",
        "La méthode *.remove()* supprime un élément d'une liste à partir de sa valeur :"
      ]
    },
    {
      "cell_type": "code",
      "metadata": {
        "id": "cyRBMG19kmf2",
        "outputId": "ee0e61be-fd4a-41d1-80e1-750380b9f83d",
        "colab": {
          "base_uri": "https://localhost:8080/"
        }
      },
      "source": [
        "a = [1, 2, 3]\n",
        "a.remove(3)\n",
        "a"
      ],
      "execution_count": 6,
      "outputs": [
        {
          "output_type": "execute_result",
          "data": {
            "text/plain": [
              "[1, 2]"
            ]
          },
          "metadata": {
            "tags": []
          },
          "execution_count": 6
        }
      ]
    },
    {
      "cell_type": "markdown",
      "metadata": {
        "id": "4cuLHTp4lBJc"
      },
      "source": [
        "5. **.sort()**\n",
        "\n",
        "La méthode *.sort()* trie une liste :"
      ]
    },
    {
      "cell_type": "code",
      "metadata": {
        "id": "IPl5ja1tlYW7",
        "outputId": "a7f6ea87-e58f-48c2-810b-cada1ba03f11",
        "colab": {
          "base_uri": "https://localhost:8080/"
        }
      },
      "source": [
        "a = [3, 1, 2]\n",
        "a.sort()\n",
        "a"
      ],
      "execution_count": 8,
      "outputs": [
        {
          "output_type": "execute_result",
          "data": {
            "text/plain": [
              "[1, 2, 3]"
            ]
          },
          "metadata": {
            "tags": []
          },
          "execution_count": 8
        }
      ]
    },
    {
      "cell_type": "markdown",
      "metadata": {
        "id": "pSZfZ8t8kyJg"
      },
      "source": [
        "6. **.reverse()**\n",
        "\n",
        "La méthode *.reverse()* inverse une liste :"
      ]
    },
    {
      "cell_type": "code",
      "metadata": {
        "id": "ZWOPBppzkxeA",
        "outputId": "d3b5e8b0-91ce-456f-edc5-4f770db8c573",
        "colab": {
          "base_uri": "https://localhost:8080/"
        }
      },
      "source": [
        "a = [3, 1, 2]\n",
        "a.reverse()\n",
        "a\n",
        "[2, 1, 3]"
      ],
      "execution_count": 7,
      "outputs": [
        {
          "output_type": "execute_result",
          "data": {
            "text/plain": [
              "[2, 1, 3]"
            ]
          },
          "metadata": {
            "tags": []
          },
          "execution_count": 7
        }
      ]
    },
    {
      "cell_type": "markdown",
      "metadata": {
        "id": "lrByZey_lmNW"
      },
      "source": [
        "7. **count()**\n",
        "\n",
        "La méthode *.count()* compte le nombre d'éléments (passés en argument) dans une liste :"
      ]
    },
    {
      "cell_type": "code",
      "metadata": {
        "id": "96gYWx_llvGd",
        "outputId": "4a3ad183-1a6a-4263-f033-bbb37fb1dbb4",
        "colab": {
          "base_uri": "https://localhost:8080/"
        }
      },
      "source": [
        "a = [1, 2, 4, 3, 1, 1]\n",
        "a.count(1)"
      ],
      "execution_count": 9,
      "outputs": [
        {
          "output_type": "execute_result",
          "data": {
            "text/plain": [
              "3"
            ]
          },
          "metadata": {
            "tags": []
          },
          "execution_count": 9
        }
      ]
    },
    {
      "cell_type": "code",
      "metadata": {
        "id": "zZwny8JOlzY8",
        "outputId": "68529a83-2f21-41a4-f5c5-da21eae2ec2d",
        "colab": {
          "base_uri": "https://localhost:8080/"
        }
      },
      "source": [
        "a.count(4)"
      ],
      "execution_count": 10,
      "outputs": [
        {
          "output_type": "execute_result",
          "data": {
            "text/plain": [
              "1"
            ]
          },
          "metadata": {
            "tags": []
          },
          "execution_count": 10
        }
      ]
    },
    {
      "cell_type": "code",
      "metadata": {
        "id": "zh5qy14Xl29o",
        "outputId": "715b21e3-eafe-49dc-acaf-b0161c536d1c",
        "colab": {
          "base_uri": "https://localhost:8080/"
        }
      },
      "source": [
        "a.count(23)"
      ],
      "execution_count": 11,
      "outputs": [
        {
          "output_type": "execute_result",
          "data": {
            "text/plain": [
              "0"
            ]
          },
          "metadata": {
            "tags": []
          },
          "execution_count": 11
        }
      ]
    },
    {
      "cell_type": "markdown",
      "metadata": {
        "id": "lOHQYnETl7-b"
      },
      "source": [
        "8. Particularités des méthodes associées aux listes\n",
        "De nombreuses méthodes ci-dessus (*.append()*, *.sort()*, etc.) modifient la liste mais ne renvoient rien, c'est-à-dire qu'elles ne renvoient pas d'objet récupérable dans une variable.\n",
        "Il s'agit d'un exemple d'utilisation de méthode (donc de fonction particulière) qui fait une action mais qui ne renvoie rien. Pensez-y dans vos utilisations futures des listes.\n",
        "\n",
        "Certaines méthodes ou instructions des listes décalent les indices d'une liste (par exemple *.insert()*, *del*, etc.).\n",
        "\n",
        "Enfin, pour obtenir une liste exhaustive des méthodes disponibles pour les listes, utilisez la fonction *dir(ma_liste)* (ma_liste étant une liste)."
      ]
    },
    {
      "cell_type": "code",
      "metadata": {
        "id": "AvPMWivDmJcs",
        "outputId": "fa42172d-1955-4306-95ab-845b7eebf7f6",
        "colab": {
          "base_uri": "https://localhost:8080/"
        }
      },
      "source": [
        "dir(a)"
      ],
      "execution_count": 12,
      "outputs": [
        {
          "output_type": "execute_result",
          "data": {
            "text/plain": [
              "['__add__',\n",
              " '__class__',\n",
              " '__contains__',\n",
              " '__delattr__',\n",
              " '__delitem__',\n",
              " '__dir__',\n",
              " '__doc__',\n",
              " '__eq__',\n",
              " '__format__',\n",
              " '__ge__',\n",
              " '__getattribute__',\n",
              " '__getitem__',\n",
              " '__gt__',\n",
              " '__hash__',\n",
              " '__iadd__',\n",
              " '__imul__',\n",
              " '__init__',\n",
              " '__init_subclass__',\n",
              " '__iter__',\n",
              " '__le__',\n",
              " '__len__',\n",
              " '__lt__',\n",
              " '__mul__',\n",
              " '__ne__',\n",
              " '__new__',\n",
              " '__reduce__',\n",
              " '__reduce_ex__',\n",
              " '__repr__',\n",
              " '__reversed__',\n",
              " '__rmul__',\n",
              " '__setattr__',\n",
              " '__setitem__',\n",
              " '__sizeof__',\n",
              " '__str__',\n",
              " '__subclasshook__',\n",
              " 'append',\n",
              " 'clear',\n",
              " 'copy',\n",
              " 'count',\n",
              " 'extend',\n",
              " 'index',\n",
              " 'insert',\n",
              " 'pop',\n",
              " 'remove',\n",
              " 'reverse',\n",
              " 'sort']"
            ]
          },
          "metadata": {
            "tags": []
          },
          "execution_count": 12
        }
      ]
    },
    {
      "cell_type": "markdown",
      "metadata": {
        "id": "3YW87Jy1mnGO"
      },
      "source": [
        "9. Construction d'une liste par itération\n",
        "\n",
        "La méthode .append() est très pratique car on peut l'utiliser pour construire une liste au fur et à mesure des itérations d'une boucle.\n",
        "\n",
        "Pour cela, il est commode de définir préalablement une liste vide de la forme maliste = []. Voici un exemple où une chaîne de caractères est convertie en liste :"
      ]
    },
    {
      "cell_type": "code",
      "metadata": {
        "id": "Pyd_gADIuaWk",
        "outputId": "921a6764-fc77-42ba-b41e-d796ab58d9ff",
        "colab": {
          "base_uri": "https://localhost:8080/"
        }
      },
      "source": [
        "seq = \"CAAAGGTAACGC\"\n",
        "seq_list = []\n",
        "seq_list"
      ],
      "execution_count": 13,
      "outputs": [
        {
          "output_type": "execute_result",
          "data": {
            "text/plain": [
              "[]"
            ]
          },
          "metadata": {
            "tags": []
          },
          "execution_count": 13
        }
      ]
    },
    {
      "cell_type": "code",
      "metadata": {
        "id": "sM4RwrJlufUs",
        "outputId": "477c93d8-e7ac-46a8-a0d7-82b20fd4bd38",
        "colab": {
          "base_uri": "https://localhost:8080/"
        }
      },
      "source": [
        "for base in seq:\n",
        "   seq_list.append(base)\n",
        "  \n",
        "seq_list"
      ],
      "execution_count": 15,
      "outputs": [
        {
          "output_type": "execute_result",
          "data": {
            "text/plain": [
              "['C',\n",
              " 'A',\n",
              " 'A',\n",
              " 'A',\n",
              " 'G',\n",
              " 'G',\n",
              " 'T',\n",
              " 'A',\n",
              " 'A',\n",
              " 'C',\n",
              " 'G',\n",
              " 'C',\n",
              " 'C',\n",
              " 'A',\n",
              " 'A',\n",
              " 'A',\n",
              " 'G',\n",
              " 'G',\n",
              " 'T',\n",
              " 'A',\n",
              " 'A',\n",
              " 'C',\n",
              " 'G',\n",
              " 'C']"
            ]
          },
          "metadata": {
            "tags": []
          },
          "execution_count": 15
        }
      ]
    },
    {
      "cell_type": "markdown",
      "metadata": {
        "id": "pspzGvRxutKo"
      },
      "source": [
        "Cette méthode est certes plus simple, mais il arrive parfois qu'on doive utiliser des boucles tout de même, comme lorsqu'on lit un fichier. On rappelle que l'instruction *list(seq)* convertit un objet de type chaîne de caractères en un objet de type liste (il s'agit donc d'une opération de casting). De même que *list(range(10))* convertit un objet de type range en un objet de type *list*.\n",
        "\n",
        "\n",
        "10. Test d'appartenance\n",
        "\n",
        "L'opérateur **in** teste si un élément fait partie d'une liste."
      ]
    },
    {
      "cell_type": "code",
      "metadata": {
        "id": "uSYAKSADu_Yz",
        "outputId": "fb7f10cb-1daf-47e8-f52c-e78a3a884e12",
        "colab": {
          "base_uri": "https://localhost:8080/"
        }
      },
      "source": [
        "liste = [1, 3, 5, 7, 9]\n",
        "3 in liste"
      ],
      "execution_count": 18,
      "outputs": [
        {
          "output_type": "execute_result",
          "data": {
            "text/plain": [
              "True"
            ]
          },
          "metadata": {
            "tags": []
          },
          "execution_count": 18
        }
      ]
    },
    {
      "cell_type": "code",
      "metadata": {
        "id": "7-D5Vuzru_qz",
        "outputId": "142260ed-4307-4ef6-c475-eae238dd8982",
        "colab": {
          "base_uri": "https://localhost:8080/"
        }
      },
      "source": [
        "4 in liste"
      ],
      "execution_count": 19,
      "outputs": [
        {
          "output_type": "execute_result",
          "data": {
            "text/plain": [
              "False"
            ]
          },
          "metadata": {
            "tags": []
          },
          "execution_count": 19
        }
      ]
    },
    {
      "cell_type": "code",
      "metadata": {
        "id": "x8ON60Ndu_1j",
        "outputId": "47f90f3b-8128-460e-c8d5-9d80746be406",
        "colab": {
          "base_uri": "https://localhost:8080/"
        }
      },
      "source": [
        "3 not in liste"
      ],
      "execution_count": 20,
      "outputs": [
        {
          "output_type": "execute_result",
          "data": {
            "text/plain": [
              "False"
            ]
          },
          "metadata": {
            "tags": []
          },
          "execution_count": 20
        }
      ]
    },
    {
      "cell_type": "code",
      "metadata": {
        "id": "V3NXfmevvAAK",
        "outputId": "2c034b16-699d-49b1-c29c-9ea3162d45b6",
        "colab": {
          "base_uri": "https://localhost:8080/"
        }
      },
      "source": [
        "4 not in liste"
      ],
      "execution_count": 21,
      "outputs": [
        {
          "output_type": "execute_result",
          "data": {
            "text/plain": [
              "True"
            ]
          },
          "metadata": {
            "tags": []
          },
          "execution_count": 21
        }
      ]
    },
    {
      "cell_type": "markdown",
      "metadata": {
        "id": "rGfcEZWAvLm6"
      },
      "source": [
        "La variation avec **not** permet, a contrario, de vérifier qu'un élément n'est pas dans une liste.\n",
        "\n",
        "\n",
        "[Auteurs et sources : Patrick Fuchs & Pierre Poulain](https://https://python.sdv.univ-paris-diderot.fr/11_plus_sur_les_listes/)\n",
        "\n"
      ]
    }
  ]
}