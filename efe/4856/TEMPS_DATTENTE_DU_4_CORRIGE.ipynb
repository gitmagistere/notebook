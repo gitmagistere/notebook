{
  "nbformat": 4,
  "nbformat_minor": 0,
  "metadata": {
    "colab": {
      "name": "TEMPS D'ATTENTE DU 4-CORRIGE.ipynb",
      "provenance": []
    },
    "kernelspec": {
      "name": "python3",
      "display_name": "Python 3"
    }
  },
  "cells": [
    {
      "cell_type": "markdown",
      "metadata": {
        "id": "xtq9Foe7NHmR"
      },
      "source": [
        "Une expérience aléatoire consiste à lancer un dé équlibré à six faces jusqu'à la sortie du 4. \n",
        "\n",
        "On s'interesse à la variable aléatoire associée au nombre de lancers nécessaires avant d'obtenir un 4."
      ]
    },
    {
      "cell_type": "markdown",
      "metadata": {
        "id": "OVN1C4YvOzLb"
      },
      "source": [
        "Compléter et exécuter le programme ci-dessous: \n",
        "**(Version corrigée, il n'y a donc rien à compléter)**"
      ]
    },
    {
      "cell_type": "code",
      "metadata": {
        "id": "89jK-TpK8Yus"
      },
      "source": [
        "from random import randint\n",
        "\n",
        "def attente4():\n",
        "  compteur = 1\n",
        "  # temps d'attente du premier 4\n",
        "  while randint(1,6) != 4:\n",
        "    compteur = compteur +1\n",
        "  return compteur\n"
      ],
      "execution_count": null,
      "outputs": []
    },
    {
      "cell_type": "markdown",
      "metadata": {
        "id": "CoJtJDPWPHxL"
      },
      "source": [
        "Effectuer quelques appels de la fonction attente4() dans la ligne de code ci-dessous:"
      ]
    },
    {
      "cell_type": "code",
      "metadata": {
        "id": "P90zyf6m9OIy",
        "outputId": "9eef706c-9b03-4688-a07c-ab15b55ef4bb",
        "colab": {
          "base_uri": "https://localhost:8080/",
          "height": 36
        }
      },
      "source": [
        "attente4()"
      ],
      "execution_count": null,
      "outputs": [
        {
          "output_type": "execute_result",
          "data": {
            "text/plain": [
              "8"
            ]
          },
          "metadata": {
            "tags": []
          },
          "execution_count": 101
        }
      ]
    },
    {
      "cell_type": "markdown",
      "metadata": {
        "id": "1YnZIdXWQW0W"
      },
      "source": [
        "On souhaite estimer le temps d'attente moyen avant la sortie du 4. Compléter le programme ci-dessous:"
      ]
    },
    {
      "cell_type": "code",
      "metadata": {
        "id": "3mcBIG1KQhr-"
      },
      "source": [
        "def moyenne(N):\n",
        "  total = 0\n",
        "  for i in range(N):\n",
        "    total = total + attente4()\n",
        "  return total/N\n"
      ],
      "execution_count": null,
      "outputs": []
    },
    {
      "cell_type": "code",
      "metadata": {
        "id": "Jf_HL-jFRF_7",
        "outputId": "76438417-d56f-405e-b2c6-9131839c7427",
        "colab": {
          "base_uri": "https://localhost:8080/",
          "height": 36
        }
      },
      "source": [
        "moyenne(10000)"
      ],
      "execution_count": null,
      "outputs": [
        {
          "output_type": "execute_result",
          "data": {
            "text/plain": [
              "5.9322"
            ]
          },
          "metadata": {
            "tags": []
          },
          "execution_count": 121
        }
      ]
    },
    {
      "cell_type": "markdown",
      "metadata": {
        "id": "CTMuua0wRhhB"
      },
      "source": [
        "Commentez vos observations ci-dessous:"
      ]
    },
    {
      "cell_type": "markdown",
      "metadata": {
        "id": "v2zKueOmSnzn"
      },
      "source": [
        "Votre réponse:"
      ]
    },
    {
      "cell_type": "markdown",
      "metadata": {
        "id": "423LtnIfRm51"
      },
      "source": [
        "Quel temps d'attente moyen pourrait-on observer si l'expérience considérée était le lancer d'une pièce de monnaie équlibrée jusqu'à la sortie du premier pile?"
      ]
    },
    {
      "cell_type": "markdown",
      "metadata": {
        "id": "MjmnG7irSl5V"
      },
      "source": [
        "Votre réponse:"
      ]
    },
    {
      "cell_type": "markdown",
      "metadata": {
        "id": "PXJWXC1gPj6i"
      },
      "source": [
        "On souhaite répéter cette expérience  100 000 fois et représenter les temps d'attente obtenus à l'aide d'un diagramme en bâtons.  "
      ]
    },
    {
      "cell_type": "code",
      "metadata": {
        "id": "QHk89YeK-2I4",
        "outputId": "17265369-349f-42b5-e600-fbfc50e2ca9c",
        "colab": {
          "base_uri": "https://localhost:8080/",
          "height": 284
        }
      },
      "source": [
        "import matplotlib.pyplot as plt\n",
        "\n",
        "liste_attentes = [0]*70\n",
        "\n",
        "for i in range(10000):\n",
        "  t = attente4()\n",
        "  liste_attentes[t-1] =  liste_attentes[t-1] + 1\n",
        "  # On incrémente le nombre d'occurence du temps obtenu dans la liste: \n",
        "  # si on observe un temps d'attente de 14, la 14 ème valeur de la liste\n",
        "  # liste_attentes[13] est augmentée d'une unité\n",
        "plt.bar(range(1,71),liste_attentes, width = 0.4)\n",
        "   # Diagramme en bâtons\n",
        "\n"
      ],
      "execution_count": null,
      "outputs": [
        {
          "output_type": "execute_result",
          "data": {
            "text/plain": [
              "<BarContainer object of 70 artists>"
            ]
          },
          "metadata": {
            "tags": []
          },
          "execution_count": 104
        },
        {
          "output_type": "display_data",
          "data": {
            "image/png": "[encoded data removed]",
            "text/plain": [
              "<Figure size 432x288 with 1 Axes>"
            ]
          },
          "metadata": {
            "tags": [],
            "needs_background": "light"
          }
        }
      ]
    },
    {
      "cell_type": "code",
      "metadata": {
        "id": "mGIzgLobBqcD",
        "outputId": "59988852-b175-4a5e-b3e4-c2ffd75659da",
        "colab": {
          "base_uri": "https://localhost:8080/",
          "height": 36
        }
      },
      "source": [
        "repet_experience()"
      ],
      "execution_count": null,
      "outputs": [
        {
          "output_type": "execute_result",
          "data": {
            "text/plain": [
              "[1, 1, 6, 10, 1, 4, 1, 2, 1, 6, 3, 10, 2, 5, 1, 10, 10, 1, 2, 2]"
            ]
          },
          "metadata": {
            "tags": []
          },
          "execution_count": 70
        }
      ]
    },
    {
      "cell_type": "markdown",
      "metadata": {
        "id": "jshDhZuPSGJf"
      },
      "source": [
        "Commentez le diagramme obtenu en terme de probabilités:"
      ]
    },
    {
      "cell_type": "markdown",
      "metadata": {
        "id": "A4qPJRh_Seee"
      },
      "source": [
        "Votre réponse:"
      ]
    }
  ]
}