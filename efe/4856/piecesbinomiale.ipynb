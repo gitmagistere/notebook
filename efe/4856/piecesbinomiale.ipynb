{
  "nbformat": 4,
  "nbformat_minor": 0,
  "metadata": {
    "kernelspec": {
      "display_name": "Python 3",
      "language": "python",
      "name": "python3"
    },
    "language_info": {
      "codemirror_mode": {
        "name": "ipython",
        "version": 3
      },
      "file_extension": ".py",
      "mimetype": "text/x-python",
      "name": "python",
      "nbconvert_exporter": "python",
      "pygments_lexer": "ipython3",
      "version": "3.7.3"
    },
    "colab": {
      "name": "pieces-binomiale.ipynb",
      "provenance": []
    }
  },
  "cells": [
    {
      "cell_type": "markdown",
      "metadata": {
        "id": "_bLP7u_ETxCU"
      },
      "source": [
        "# PILE OU FACE"
      ]
    },
    {
      "cell_type": "markdown",
      "metadata": {
        "id": "7dFhSTwl4Lz2"
      },
      "source": [
        "Une expérience aléatoire consiste à réaliser un série de 50 lancers avec une pièce équilibrée. On s'interesse au nombre de \"piles\" observés."
      ]
    },
    {
      "cell_type": "markdown",
      "metadata": {
        "id": "kQhZv7v64kxi"
      },
      "source": [
        "1. Modéliser cette expérience à l'aide d'une varaible aléatoire X."
      ]
    },
    {
      "cell_type": "markdown",
      "metadata": {
        "id": "8WtzWjun4-rg"
      },
      "source": [
        "Votre réponse:"
      ]
    },
    {
      "cell_type": "markdown",
      "metadata": {
        "id": "s7IzZ64t4zw7"
      },
      "source": [
        "2. Calculer l'espérance de cette variable aléatoire."
      ]
    },
    {
      "cell_type": "markdown",
      "metadata": {
        "id": "9V0ZU4JV46iq"
      },
      "source": [
        "Votre réponse:"
      ]
    },
    {
      "cell_type": "markdown",
      "metadata": {
        "id": "9ijAA2hV5DxW"
      },
      "source": [
        "On souhaite simuler cette expérience à l'aide du programme ci-dessous."
      ]
    },
    {
      "cell_type": "code",
      "metadata": {
        "id": "uPYHt_tFzhlk"
      },
      "source": [
        "import numpy as np\n",
        "from numpy import random as rd\n",
        "\n",
        "def binomiale(n,p):\n",
        "  succes = 0\n",
        "  for i in range(n):\n",
        "        alea = rd.uniform(0,1)\n",
        "        if alea < p:\n",
        "            succes = succes + 1\n",
        "  return succes"
      ],
      "execution_count": null,
      "outputs": []
    },
    {
      "cell_type": "markdown",
      "metadata": {
        "id": "E3CE_wpQ2XAH"
      },
      "source": [
        "3. Exécuter la cellule ci-dessus, puis appeler plusieurs fois binomiale(50,0.5) ci-dessous:"
      ]
    },
    {
      "cell_type": "code",
      "metadata": {
        "id": "ARhdK2EM2P0g",
        "outputId": "0c9005c4-1f07-4d84-853b-fb92092ec92e",
        "colab": {
          "base_uri": "https://localhost:8080/"
        }
      },
      "source": [
        "binomiale(50,0.5)"
      ],
      "execution_count": null,
      "outputs": [
        {
          "output_type": "execute_result",
          "data": {
            "text/plain": [
              "27"
            ]
          },
          "metadata": {
            "tags": []
          },
          "execution_count": 16
        }
      ]
    },
    {
      "cell_type": "markdown",
      "metadata": {
        "id": "p2apWQVp2jGP"
      },
      "source": [
        "Sachant qu'un succès correspond à \"pile\", que représente les nombres observés ci-dessus?"
      ]
    },
    {
      "cell_type": "markdown",
      "metadata": {
        "id": "NeSQIWUi22hW"
      },
      "source": [
        "Votre réponse:"
      ]
    },
    {
      "cell_type": "markdown",
      "metadata": {
        "id": "3D0yD5363QQd"
      },
      "source": [
        "On souhaite construire un intervalle qui contient au moins 95 % des observations les plus proches de 25. \n",
        "\n",
        "Compléter la fonction intervalle et exécuter la cellule de code."
      ]
    },
    {
      "cell_type": "code",
      "metadata": {
        "id": "ZQVAARAe5owq"
      },
      "source": [
        "def intervalle():\n",
        "    listenbpiles = []\n",
        "    for i in range(1000):\n",
        "        nombreobserve = binomiale(50,0.5)  # Ligne à compléter (effacer binomiale(50,0.5))\n",
        "        listenbpiles.append(nombreobserve)\n",
        "    listenbpiles.sort()\n",
        "    return listenbpiles[25], listenbpiles[975]   # ligne à expliquer"
      ],
      "execution_count": null,
      "outputs": []
    },
    {
      "cell_type": "markdown",
      "metadata": {
        "id": "MtZNXOpy3zNj"
      },
      "source": [
        "Appeler la fonction intervalle() ci-dessous"
      ]
    },
    {
      "cell_type": "code",
      "metadata": {
        "id": "gYIjwUORzhmE",
        "outputId": "34af7041-beff-489e-b91d-755b1d5909f0",
        "colab": {
          "base_uri": "https://localhost:8080/"
        }
      },
      "source": [
        "intervalle()"
      ],
      "execution_count": null,
      "outputs": [
        {
          "output_type": "execute_result",
          "data": {
            "text/plain": [
              "(18, 32)"
            ]
          },
          "metadata": {
            "tags": []
          },
          "execution_count": 18
        }
      ]
    },
    {
      "cell_type": "markdown",
      "metadata": {
        "id": "uiR6TBoM37of"
      },
      "source": [
        "Interpréter le résultat obtenu:"
      ]
    },
    {
      "cell_type": "markdown",
      "metadata": {
        "id": "BeFKfvJl3_rs"
      },
      "source": [
        "Votre réponse:"
      ]
    },
    {
      "cell_type": "markdown",
      "metadata": {
        "id": "8UE_2TSkVBSC"
      },
      "source": [
        "Vérifier, sur votre calculatrice,  que l'intervalle obtenu permet de répondre au problème."
      ]
    },
    {
      "cell_type": "markdown",
      "metadata": {
        "id": "71DrzBZ9U-Sp"
      },
      "source": [
        "![NUMWBINO.PNG](data:image/png;base64,iVBORw0KGgoAAAANSUhEUgAAAT8AAAD7CAYAAAAcqJO9AAAAAXNSR0IArs4c6QAAAARnQU1BAACxjwv8YQUAAAAJcEhZcwAAFiUAABYlAUlSJPAAAF5wSURBVHhe7b0JdFXHlS6czuq1/tXrrZXV01vpdqeTl9f9Xnf/3Z100knbcdoZ3JnTdhI78Ww8xTYYG7AZjSc8go2DbQy2mTzb2MyDmUEDAiQmgSSQ0IQkkIQQYgYNSLBffSW+w76lc6Ur3aMBVLXWp6rae9euOuee+91dVeccfe706dMCnDx5Uk6cOGHL9fX1tk6cOnXKAnrUjx8/LseOHQt0yKGjHjL40XW0QZ1tqSNYpw3KzNkHcvpi/7oPttX9UUY7AHWtp4z+jh492qYNx8B+AdhQzrr2C1BPX65fynhO6BPQ5wk5ALnuBzo9JkCPiYAt7KDD56tt6AufGcsAy7R1dWyvx6nBttTRD30QtKdPyLR/1ulLt+G1yzHARo+X7XW7eGXdp/aBPnBNAJQfOXLEtmP/BGSw4fWvAT10us7jQjmeLxf6fKNOO+2XZchZ5/HRlmXkehy6HXUsY4z6+qGt9qePg3LXpwvdh7alP8i0je4TOfUsNzQ0BDbM4Yd+Uf4cnRNU0gkba+gBoEP9YSDnIJjTNqy91sMeY4CMchf0yzp9UIYyxhM2BuQAxwHQD3X0Ax/UQRbmB2OlHPYE2+t2HCfa0Af9cxxoAznbsS1tdc4y624b+uRxUsa2bEMb1OkLuXs8BI+L7QF+ZtCzX9ah1/2yLcv0yzpsw2yQ8/xosA3baTuOi3o9LtbZhr4gc+3gj58bz4f2zTYEZNDRRxioox3HrMfj2unx6X5dHeocg/ZFGY9B27LuAjq2o60eIwA7liHXx+LqWCagh1yPgXLdL3X0yTJ0rh3HiByfE3MQYlNTky0DlvzYAIAD3YCdsFPdCTunM9dOy9iObZFrOcu0B3AStRx1fWKpJyCnDDl+qfELjRw66lHXdsh5PKi7NmyLsm4D8FiQ45xRj37d9gD8ujK24Rgoo2/WWaYcbZhDTz/ahuMIs9f+UebnD9Afj4ly6uADbVimjbZFmTaUabj9ax3asB3HTbnOqdd1+GK/9Kv1/GxpQ9CO/tiv9kV/BOUs6/a6TF9hbanDuWZfbnvooeP1o+VuGTntCMiYsw+20+3pw4XWuWXk8MnxU8/riXbog3Yos0+du3JdR1u2p2/dLwCZlpPDqEOdUeHnIGQYC6DMxhy069wdIOyYU8b27Jw+kWubMKA/2NAf5VrG8aKODxoyAn3SB8eOMnO2RZ0EDT/IaUdAxrFC54JtXITZw5bjYjvtm2XkGI8eE3UcN8usa5/0wTrtUOf50z50e5T5mVGn9dqfBmzYnnbIWXZBn7pOhPnXdjwGjBNljhd9wVb7YZljQzuOiXWW3bFShj5Q1nDtkLt+tZ3bRo8H48QxUI4cOi4/sX89PtQJng+eJ92G9pQjZ9/oE214nvijwLpuq79j0Om+AI5Nj5H90J52lGk5wPGgLQiKvMRzw+NETj/MIXf9IEedPilDDt92zY8GAMvaORvAAQAZ5W4oyV8cromgHC8PA9qhX+SHDx+2B0rAN2WwRa7Hizp9cxy05fghr6urC2zhDz4A1Nk32gCQAdo3/RJsRx9hNrRDTj3HiJxyygjdHnX4ICDD+FkmqMdxAPCJHDJeUPp44RcyniPIOCbItG93DKxzrBy/buOCvnWd7bRf17fOca1B544Vdfple0CPi3LWAdqwruW6rNsSYe0gox3LYXrWUaY9ZShrGxwf2gHQ4bNHjs+U7Zjzc8Xnruv0w+uCoBx21KEMGcagc/hB37DRY0aZ42V7+gNYhz0BWwBltEGu21DW2Ngozc3Nlm90n7SnjDn7AnCtUIbxo448Zs0PZYINUeZBEmRlDC4vL09SUlJkzpw5MmPGDHnzzTcDvPHGGzJ9+nSZNm2arb/11lsW1LNOwI5tkAO0YxvKKEcbQNvQH8D+NWADOcbLdjqHnD7Z3vWDugbaALRjrm21nLIwsB1BOfsAZs6caWUcL6BtdVvkPBa3vbZBDkBHO4ByF/RD+zBfLGs/kGlbgv6031mzZtmcbaFjX9CxDMDu7bfftjLa0h/r9APwegnTAfCJ8+aeO9qyXwB13Rft0RbXrG7HtsxZ1jYY19SpU61Oj0G3gw1ytoEN7WnDtoC257Fr0I7fMdjSL23oU9tQRhsAeoBylGnLttBR77ZHnXbvvPOOfPrpp5ZnioqKLOmRszTRgZvAVy7REeAsAGWQqZ32AhDQmORHsoOMDtG4srJSVq5cKZMmTZIRI0bIkCFDZOjQoTYfNmyYPPzww/LII4/I8OHDg7wrgG+W4QeADDn70NC2YTnL8DFy5EibA/QVNm6OAfYa1LHM9rRlO/rRcH27uR4D+0BOsI7c1QFop31gXDw26CEP0+m+XZ8E2+Bz1v6o18eu/UHOnDYsaxmh2wKuHP0D9KltwqBtkBOuHeWw53EiD7PlmJGzHIZ4On187AMylAGUacMc7ehP67VfgDLkrj9d1nDlbEdQDp+AttFy6qhHnWNprw1BOW3BKw8++KAMHjxYRo8eLa+99pqkpqZKdXW15SNyFXgKZfIXy5CT9HQ9ID/dCDnIDg5RB9PCGKFuenq6PP/883YwGODEiRPtry0ivyVLlsjSpUvls88+SwjLli1rUye0PAzahmXdntBylDm+5cuXx9ihThntKNd6baf1aENoG/anbcJ865xtOhqDC22roXVa78rdurbpCLBbsWKFBdvzuF279hDP1pXHyzsC7DBG/HgDKOu2KMer6+PTNmForw1yyDgGyNxzRTvAvRao09cWZdR3ZqwdQfsH0GfYZ0s54NpjrPGOwW1LGeULFy4MZpbgHhAi+Afcs23btoDQGKAxaHPl5LaA/PAHoBIKgHUy6sGDB+Wjjz6Shx56SMaMGWND0bVr18qWLVskNzdXdu/eLfn5+VJQUCB79uzpNAoLC0PlLuAftgh/AcpcG13XoI7t2S9ydwzsR/en21EOW/gN8x02Fshc3zpnmzC79kAbtqUfyJnTTgM6yIuLiy20LxftyeFH95OIv0TB9sjD+krWP0H/LLMPwu2TZQ2tDxunboPzg3rY56WhrwX60W20b7bX9WRAXxwLwPFoG40wGRGvjYa2QV/gl507d8qmTZvsDwamxYiAERWCGMFPJDoduIHsuLtL4iPsmh9A4gMRss65dVVVlZ17I+zEOsSGDRvsWl9JSYns27fP6tF5bW2tBcrYVECkCKB86NAhmxO6TjvaurIwcEEUZdoj5xjon3IAMsrZnm0gR04d+0E9nm/q6Le99vFAPcdDWXvtwtpQHtZOy7V9GMLGoH2izOOlTOu0LX25ubbT44lnR1vmYeiq7zCda8dcf/7Q04fbnnKUNcJkhNtGl13/8fqBHHVei7weaUs71mnHz5P1MFtd70hG38iJeHYcp7bHcXAszA8cOCD79++X8vJyS/QIuFavXm2X3gYOHGjXW0mAJDlwGIkQBEiQ52LIj9AN0DGID2Hm7NmzbXRXWloqNTU1dpAgSEaH7BhgRJko0Bb9YSESQBlyDlhDt4tX1/bwBxkP2oVuQxnHkyjiteexsKyh9Wyn7bSeuS7rNpSH6Vw57cMQr432p22BsM+O+rDc9Y08nl1Yrm3cemd8u3bx7Amtc6HbuL61HDlBOxeures/rB/32tZ2Gu3Z6Rxwr2HdH3PaokzottpGy7RO2xCuDTgFvITNVxAi1vsQNW/fvt0uuz3wwAPy/vvvWz36gS25SPMRdKgjt7e6UIkyyI9KkNrcuXPtZsaiRYss6aFTdAAbDAy3uQBnzpyxW9EaLS0tQX727NnQXNu4iCcPg9tPPFAP+3hjc/vVdq7/MJ3bPhGgTWfbtdcmnq6jPtprg5zHmcixurr2fHckcxGl7476o76j444n68h/R3Dbx/On5e2N1bULy+P14QJ22jZeO1fOuh6nq6MedfIMSJc8hegRM09MiT/44AM7M8V6Iae8IEDNZ5rrwF12w4PONGCwY8cOGTVqlI340AnCSupAdhjYuXPnghxAYu7TpZHcz1bDJ5+6K7nXnOYb8A94CASHKTHWBzFDxW4w1gmhAwlqAmROMoyZ9oJVkUMBVn399dfl5ZdflrKyMjsXhxydkpE5KEIP1OPShE5heg+PqKCvMbcM/gEPIRoEZyEw27Vrlzz55JP2/k+QHviKS3Ka50CMQEB+AAyRw+HWrVvliSeekMzMTOsIxuiMA9ADYt4eaOPmPQmmMJ2Hh0d06I7vmfYJ8mMdARm4CwEbbu8ZO3asnQpjaqt5jQAZAsGaH0NCKnBbC3Z2samBiJBMyw4J1n3yySefuitpztEALxEgOzyA8dJLL8n8+fMtj+nIDxzHma2N/FgBGBIihATxZWRkBI51hzq5dZ988smnnkjkHubYGAHwsMWUKVNs4MbojwQIBNNehoSoMMrDTYVojPv3kDT5IemyTz755FN3J5d7dJ38xJkp+Av3/+3duzfYxwiN/PCHjAiAKbHe995779my7gid+OSTTz71pUSO4p4EbsXDCxRwtwr4jVNfjZjID0QHVsRmx8aNG2XBggVtprtAR4k2bjsPDw+PRKE5pKNEG/IVNkBwex6COG6GgNuYM9CL2fAAQIJ4fG3dunUxDhOJ+jgInXt4eHh0BYkm3QY8hXU/PJSRnZ1tgznwG3lO853d8KAQwBx58+bNsn79euss7PaW9hJtErX3ySeffNKJgVZnOQftwFfIccsLIj8Ec+A18hxzO+3VTAjAGG9qwdSXDoFEBkIbgIuP8I37BBFyMvfw8PDQADfw1XlIiXIOEm3IOyQ/vO4KUSBveCbXMY+5yRnkx8gPr45B4iCQd5Q4WLbB3dZf//rX5Vvf+pb827/9m3zjG9/w8PDwiAG54dvf/rYt4zY7EhnyjhJtNPfgjS+Y9oLPQK46+iMC8iMbkvx05AdnRHuJnbN8xRVXyF/8xV/IV7/6VfnKV77i4eHhEYovf/nL8nd/93fyhS98QX71q19ZDmEU11EiLyHnjBPvGsUbX8Bn4DUQn76zxU57WQFAgJj2ZmVltYn82EF7iXbEj370I/nbv/1bkWXf8PDw8OgQl112mdx+++2WP5KJ/LBhS/JjxMecJNhmzQ/GWPMLIz920l7SNj/84Q89+Xl4eCSML37xi3LLLbdY/sB6XWc4hxwFzgL5Yc1PR37kOhKgjfy0EJFfsmt+LIP8vvSlL4UeZAyyx4isuipc5+Hh0W+gya8rkR8QRn4ajADtTc6M+gDu9kYR+V199dWJRX4HUkXW/Sxc5+Hh0W/wV3/1V3Lrrbda/kh22gvyQ4RHbiP5MdizkR+2gikEU+L+GJf8WO4o6cF68uuDqF4r0lBr0XJ0jzTseFLOrvyOyMmyQN58KFsaNt0r55Z90+S3y5nD26T5eJE05I6Xc8u/3fpZnbdtOrpbGrLuC/w3r/mBnD2QIo2mXdBn/iuBfUNNujSl/bpVvn9JILeAHeRH8y+01dC2gBpHDE7sFdl0d6wMx2d8NK/+njQUvSnnTu034kwzluva9uPRNVStEFn9/djzHgZcL8cLQ30kS37c8AD5cbcXvKaBgM+SHwpgR+bxIj+WO0qJkl/9loHmi5PTejJaGu2FfG75v0t91kA5U5crTccKpX7H49b27NqfSH3px9Jyap+cazxsBmL6qFrZxqdHAqjbKrLqu7bcknqNNFQul7MbB4icOdkqM59BQ+ad0rB/hfks7pX6up1yJvVaaTafT33VOqnfNlIk5ZetJGrsG9Ovl4aTlYH/M1uHSX31KqmvmB/IpGi6yJaHbLl+61Bp2r/8gg5oqIut19fE1jU2PyBSPKutvGCyyHYzNtbNdSQl78baGDTnviD1hbPk3MrvGmK/W5qKzdgcG48uwvyYyJofGhIwX/72gGsBn/naH7XxEUXkh4TdXpAfuU0DhIhI0JIfgAoiQBiHrfkRHSVt0x75NR7Nk6ZNd7TWz0d+58yvRlPNJmnJGy/NeS9I06kDVn8203wJ934iLUbfkPrfIk3HY3x5dAKa/FZeKS2lH8i5TBMlnSc/4Nyqq6QFUdGRPXJm/c2B/Eza9dJUm91Kfod3ihgiO5M7TlpMVGjbrbhcmvJfl0bzy15fu9n8aP24tS3Ir2iatW8qeEXOls8LfFp0F/lVr7N9WpyXN28ebMhvujRn3S8tq668YO+RPDpLfvUH2/iIatoL8uO0F9Genu6C71CO+R8eyGEc71YXdtJe0jbtTntNBNey/FutZU5711wtZ46Xyln8Ghe+1QqjP5txqzRWrpRzxTOl2XxZm2vN2LQvj8QB8jPkca7wTanf85bBVDmLcw/yO3/Oz5S8LfXFM+QcInK3fdOxVvLD1NLYtpTPMZFeaxTYYsixsXKtnCufK8112+z00rYB+ZkI0/ret8QQ4OuxPruL/EDQ54+J8rOGoM9sHigNhVMMCU6VlpRrLrTxSA59iPxwkzPIDzNZBncAy5b8wIRkQwjjTXuRJ5L0YNsjv6bjJdKcfkNrnZHfqu9J/b6lcmbjbdJsTmKTifagP7vxDmkoXyBncXGbX/GWtN/E+PLoBEB+2aPMeRwiLZn3Scu6n9vlBpDfuW2PSBOIq/RDaTFRW1PtttjIL+UXRrY9Ztp7dtV/Ssvpars+2Ggu6ubS2UG0VX9os/0c9bS3Jf06OVu9OvBp0V3kFzLtJc7iWst+TBpLPwrVe3QBfSzyw31+4DNGfQzukENm7/MD6ZEEYayf8OAAiI6Stml3zS97jCFAM10KW/M7stsEGHsurPmtv0HOHM41toesfQPWBD0Bdg1q2huD89Pe5k13S70hv7OG4Bo23nphzc9c1PUVC6R+830x5IfPoeFovvnh+q7U5//BTCcHBT7rS96Xph2PxZBfgyGvpooemvaGrflte1ga8ibIOTPlrzdT38Zq88Pr2Hh0EX1gzQ8AATLy45ofcnIcAM6z5MeoD0LUsdsLAkQikyYyCCRt1+60txOwa37mC9SyonWaXG+ikcZKJ3rwSAwgLfPFbyM/vxtqNzzyX5WGLUPb7vYaIjuHpQpMk8/v3HG399ya/5KG0veleeV/Bj4bM0zUuG9x13Z7tXzLg61yLQMwjvN9ya4JNpoN6gnt9m6SppSfXmjjkRz6wG6vjvxAfozydIAHIrTkB+IDYARAAeLD1JcOiUSStouM/DJMBGKmJy3bh8tZLFjvmiSN/KJ4eHhcMkiW/NAGac2aNfZNztjZBb+R+EiC4Dkb+Wl2hDGIry+RH6YoZwzpndvzujTnvyZnto22O5Vhth4eHhcvoor8QH68z09HfQDJsM1bXZCD+PD/epH6wrTXw8OjfyAK8kPifX78p+bkOSKY9uL+PhqAKeNteCSStJ0nPw8Pj84gyjU/7PZq8kNghzIDvZhbXZC7u710RkbtKOnBkvzuHjTcw8PDo0NEtebHV1qBz0h65DqWLfmB+DT5hd3nl8ggkLSdJz8PD4/OIMrIz13zAwky6rPkh10P3gMDI5TBmHjKA4nOEk3a1pOfh4dHZ5As+QHgLER++v/2kt9IhHa3l1EfDcCMuD/G3fBINGlbT36XPhZ/tloGP/JYqK6vIC0jU3bm7Jaly9eG6j36DqIiv5SUFNm5c6edyYLwGPFxCgy+C/51JckPjBhGfokMAknbefLrGygsKg2Vd4Tq6ppQuUbe7j0ydOSToTpg0uTpMnvu4lBdFKiqOhAq1xg26ikZO+5FKdhTHKr36DuIatrLyA9kR24DSITA57jTS4D88ISHJ79LB9UHDobKBw4ZI8NGj5Ohhhx+P3ikld1vZI+MeTqA28YFyG/E2GctwcDXwKFjrPxhU6aPB4aNDewhR6T48Jhx8sDDY+We8/L7h4w2PsZZP/c+OErueWCE9TfEECvsHxz+uNXd99Bo64++4Y++7zM+QMSQDxnxRHBMAHy45Ic+4B8+Bg171Na13qPnEfWaH/iMAR45DmVLfmRG5vE2PJAnkvRgPfn1DYSR36Chj8qHn8yX7J25st1MDya/+Y6Vj395ip0iAi3NLW3auQD5rVqbIhszt8j2Hbny4ZyFlqg2ZW2zPvaW7ZOFS1YG9g0NjbIyJVV25u6SVetSLAGC0N79aK4dS/bOHJk6/T1LhIcPH5WMrC2yPitLUjZskqxt2+W9j+fIGzPeD8Z48uTpwPeLr06RlPQNsiNnl6Rt2CjjJ04OdGHk99Jrb0n6xiwz7hxZtmK1PGTGrfUePY9kyQ9tkEB+iPzAZzrqYxmw014AxIccTBn1Tc5hB+nRcwgjvxGPPWsIZaM8/Og4eeL5ibKntO3U+PSp+jYyFyC/hUtW2Ghs6MgnZOnK1fLcS68F+slvvh1DfqdOnZbnDSk9aMgIBIgIEFFaxubNMnzs0/L4sy/KrsJCS35FxXtl5GPPWZKb9Po0Gf3EC7Y/+gI0+T3x9Isy6/1P5dMFi2X9pixZtPRCv2HkV2XOS4Yhv9Vr06Sq+oA8+tSEGL1HzyOqyI9PeDDyA79hlsspsI38NBsy8gt7jX0ig0DSdp78+gbCyO/Rp8ZL5pbtdoo50ESBx81n79okSn4Pj26dHmOaOX/JMnnp1TcCvUt+R48eD8ogNUxRMb1FtMax1B6qs+SXu6vA2m3fkWen1pjStkd+8xYtlUXLVsibs96XuQuXyopVKYEujPyOHD9qo8zX3phlMUhNzz16B1GQHxLX/HCrC7mN5EfY+/wY/QEgP2x4hP3T8kSStvPk1zcQRn7DH33GTCN3yoRJU2XazHdk53mi0UiU/EpKSmXM0xNk4mvTzLQzQx4bNz7QJ0J+Dw1/QjZn58jLk6fJ1GkzJTt3d5fIb8u2HfLMhFctCb9sprQu+ZXsLZdHxj5jSQ7re1nbd8i7H8+VB03kuSZ9vYx6/LnA3qN3EOWGByM/kB54DmUGejbygwAFkiDqiPyifLwt7CA9eg4gHA0u7k+Y9IYUl5ZLYVGxnVK67RLZ7c3akm2mmh9LeeU+2ZGXIy+89EqM3t3traioDMobM7faqA9jefalybLHTHOLi0vk8adfskSXuXm7tVu/0UyJDVljeoz+2B7Qu73T3v5QDtTUBse5YPGKQHfvQ6NkyapVUlNbK3MXLZZBQ8fYzY7tJuKEjw8NCWIDiPYevYMo1/zcl5ki2mMZPBfzhAfAaa9f8/Pw8OhpRBX54T4/TnsR1IHbkIP4WA82PBAaQgFg2suXmcIRkUjSdp78PDw8OoNkyQ8AAWLDAzc5I8IDvyHIA44dOxZEf8F9fqigDKbUb3KmQ3bQUdJ2nvw8PDw6g6jIT7/YgLNb5tz4CMiPCk573Wd7ExkEkrbz5Ofh4dEZRDXt1ff5gdcIcB1kQDDtJUCCUb/PL+wgPTw8PFx0lfwItEHCPzDiy0xJfAzwyHP2xQaoIOe6X9RPeDzx9MseHh4eHSLZyI/k50Z+5DiAexsxLzYg+elbXaKY9q5btdHDw8OjQyQb+bnTXn1vn17iCyI/CgHe5xflml/YQXp4eHi4SJb8AHAWd3sR+emojwgiPyrBhiA/fasLyS/RpG09+Xl4eHQGUWx4IKWlpVnyw90rYcSH3O726sgPTAnyY+SX6ACYPPld+khZvUk2pG2NAXVp67IkI22LrE/dbO10u55G2trMhMeSnrI55njSzXGE2Xl0L6KY9gKY9mLDA0SHe/t0kEcCtK+0QsRHoZ/2enSEjeu3SVNDkxw6eCQA5BnpW6WkbJ8cqj0sVQcOyI4du9u07SmsT91iH92rPT+WnTn5oXZETVWtHKk7FhxPwa6SUDuP7kV3THsR3IHbQH7gupjIT7MilNjtJflph4kk2DJ58us97Ni2W7INSosrJH9Xsaw3EVCYXVcA8qutqWsj374lT0pL98v6lC2yIWOb1NUdbmOjsSunUPYW77NjzNm520RbmaF2XcGWrBwpK6uSjFQTyZnxHj16NNSOAPllbsgO1Xn0HKKY9iLnW1242wuA6xgFWvIj4QFQghX1Ex4+8rs4sa+8SmpqaiV3R4GUFJVIUeHeUDuipvpQTCS3edPOUDtAR34Hqg7Kzu25Vp6TnS8lheWyO6/QTDmz7Fth3LYaaJ+fVyw5ZozFpWWWAMPsCD0+IMNEd2F2QPbWXVJmiHhXzh5DxpulqbEp1I64EPkdlrK9+2RTxoWpvEfPIarID9NePt6mOU4HecFuLxgRZZIfX2ygnSaStJ0nv94DyG/n9tap3uaNOwxJ1bax0chQ611A6pr4UZhe89u+fbe9diAH0ZYWVUi5mfpiDa2xvn3CAYHBB8o52QU2CnRtNNgn0d463g5DfhV7K6W0pNzaNp9pCbUjgjU/M3UvLCqT4g5+LDy6B1FHftzwAOmR44jgPj/kOvLbsGFD4JBIJGk7T369B5AfpqEoYzqHyMa10Th9sl4aTTRHbN/c2rYjpKzZJGeaztjyjm27pLBgryUlbDYcPdpKivGgyQ/E2RH56fEBG9K3hdoB2zbnSklxeTAWXOxhdmFA1IjzF6bz6F4kS35sg91ebngw2iMgCyI/AMRHBciPNznDEZFI0nae/HoPnSW/ziDVkAmmuEBBQan5RT1p5Zs2ZkuxmTLuyiuSChP97S2taNNWA+SHaW/ujj1Satplb98VatcVbMzYbsey2/gv32ui0fJYYgXB6foWM81vPaYCKSuvNJFfeYzeo2cQFfnxlVb6CQ+SIMsB+RGe/C4NYMNj4/nICBsQIBjXpqtIX7fZRmlAcWGZbDFRltWtNiSyZaeUFJVLfn6RpKdubtNWA+RXUVZlNzyytxuiXhNu1yWYsWRtNmRsxleQX9xmLIX5sdNanB8e0+5dxe1GlR7dhyinvTk5OZbPENiR8ADW7W4v2ZDTXuz2+sfbPLobetrr4QF0B/np4A48hykvyjEvM4UACh35efLz6C548vNwEQX5Ielne8Fr7o3OkFvyQwXkpyM/v+Hh4eHR00iG/EB8DNZwkzPJD5yGtT8QoN7c/RwEMICASv0+Px/5eXh49BSiiPwA/X97Gdgx8gPHAXbDg9EfwMiP7/PjABIZBJK28+Tn4eHRGUQV+WG3F+8oAJ/h6R6SH8iQ0Z/972365j+Snxv5IU8kefLz8PDoKpIlP5TRDm9y5hMejPzAbyRBG/mxQIPuiPyOnWzy8PDw6BBRTHuRM/LTLzYg+YHvLPlRSAKEMf7rEcmvubk5oQEwaVuSX/0Z8fDwaINzIbL+jWQjP7RBAvnpt7ogyANIgMjttJdzYkx/EfnhVheX/BIlQE9+nUfdsVNSWl5pEaZPFHsrqqyP6tojofpkcLDuWCRj7E5UHzwsJxuaQ3VhKNtXFSoPw7FTTcHxnzACV99Z1B45JpU1h0J1/RlRRX76lVbgNRIe+I4kaMmPUR93ezX5JToAJm3bn8nvRH2zFJfvkx05ebIzb7dU1NSG2gH40m7fkSPzFyyQ001djwayTV+bNm+R9Rs2huqTQfn+A3aMsz+ZHarvC0hNXy+Hjp4M1YXhk08/DZUTeDfh0ZONtowfKBz/0mXLpObQ0Ta2QPbO3Jj67oKimDpx5ES9pG9aL/klJaH6/owoyA/gmh/ID0SnEZAfw0FuemCBUN/nRyZNZBBI2q4/k19+SZms37xZikrLJXd3nuQVFofaaSxbsSIp8gMQoXUH+RFz5s4NlfcFRE1+iKDxI6ZlOLfxyG9vRWxUDKLUdeL46TOyp2RvG98e0ZEfnvDgrS7kOAZ6JMCA/ABEf4z8uNvrI7/OAwS2Kj1dKg/V2fKpxhYzHWuRo+YXf2PmJlm4eJHMWzRfyisrYtqFkV/27nyZv2SBLFq6VPKKiq2fdalpxudZqy/eWyH5hRciiDDyO3DoiCxftUIWLVksuwvzTR+tbUvK9kva+nRZvnqFzFswX/L37IlpFwaX/I6fbpLUDWk2al2/IcNESMetvNhMD5d+9pksXLTQRKNb5bA5dt1O4+jJBts/sHjpEjOuC8eTu7tANplztnjZEnve8N4/RGMbtm6X+QsXyoq0VBuVwRbktzUv1/aLY80rKLDnHscF2byF82VD1kbT/rS1/9hEsVtMdABbnB+cJ0ybORag9rAJCM6PBXDJr8Cce9ouMOOhfLMZ38ezPw50W7fvsPJjpxplTdpaK9uUlSmHj7eS9Z7SClliPuOFixbJZmOLaTZ99SckS34EyQ98xmkvZ7fgOhv5UUjyi3erCzvoKGm7/kx+y5avMOVYIjt+ulHK9u+Tg4ePyb7qWpk7L5ZIXPID2X22bq35Uh61bYpKSu2XZ8XKVQH57SneawjiAmmFkd+KtSul2BDdvqoqQyKLgzWrQhOdzjOEUlZ5wBIQfOt2YXDJb+OWLMnO3W0irhOStc2U8/KsfIEhvZLKSqk7fkoKzPTu0JFYEtHANHBtSqotV5jzAjKiDlP5BYa4asxxYYwg2/yiIsk0/aKcvXOHGUOmtQX5LTZtDx4+LrUmAszYlGmOuUYqqsyxVx+UWjOGrC3b7HQW9h99/JEh/wzTf4MU7d0n61JSgn4BnEecT1cWL/ID2el6WOSXuiFddprPC59nRmaG7DafMeRYTthbVW3GfcIeH86J27Y/IKo1P5CffpkpQeIDKdonPFAhCYL8on7CI+wgL2WAwD5bucJcwK0RBoH6pq2Zsip1raxNS5EPP/owRu+S3ybzI7R3X9sNhs6S3+w5n8iadSkmYky1QPQIOchv+85c02err0Tgkt8ac5GtXL0m8I1pPuS5hUWyYXOmIcNcEwVWWKLS7TQ0+eG4EEVSB/LDMerzsiNvlyGr1n5wvKtT1tkyyK+69rAtw552uQW7ZE16iqxKWWvIf6k9bth88uknwQ8B+l1kokuUie4gv8+WL5PVa9cF56tsX7WVZ+fny0ZzvnbsypXSiv39dkoc5YaHfqUV+Q1goGfJDyyIChlR3+dHZ8gTSXqw/XnNLz0zS3btKZCjpxqkqqZWCs0XGBsba1JT5ID5QuHLFkZ+B80vP76QmK5l78yxi+xYIwJh1R45adutWL3KREJ1llA2ZW5uQ37r0tLliImS+MVevmqlVBw4aMbSKLsMKZE4QQI5ebuDtokA5HfITNVax3hWNpgpKYgOZFNRXWMjLNjtt+VqKa7YZ0gpzUZg2o+GJr+qmkOywEx9qQP5MVIj8vILJGv7dksQ+ea8ppnpNuR22mumjLXHTtr1ug2bs6TcRLWLli62URWmkjl5+QH5fTx7thQUl9roFAS96jyJEvHIb+/+Knv8/BEh2pCfIbraI0ftecJnCFmKORf5JXuNrEX2VlYFZF1RWW3O1wEpLCs35yIlLsFe6kiW/NAGiS824K0u4DYNEKBd8+OtLgDIz0d+yaOypk5SNqyXlWvXmGnnWtllpjIHjxy3ZVzc+NV3yW9bdrYlqvSNG6TaXPx1Zuq2aetWWZ2KSCHNTC/zWr/A+Xtk+ZrlkmpIbo3xr8nv8PHTZvpmojEj31VYbEmp0HzZVq1bY/vN2rbZfvFg2xXy27hpox3jRvMDCTKuPlgnq9PWyVpzPOnmePEFhl1xWYmkbUyTNabPtYbwQfyuLwLkN3fePHtOVuJVRAWFgS6M/GrNeczYvMkS5nLjv8wQB+Qgv1Rz7pavWWnPWa7xA9JJNdcyo63FSy9EfiCrtE0bzGeyStatTzfk3UrcRBj57TLnHj8+a0zkvu9A7K0qLvnt2pNvIuPWqBg7/iDMygO1smLdKjv29abvqtpWH4UlhYbEcb7MOI3v9pYJLmVEGfnp+/wIrvlZ8oMABTKi+4SHJ7+uAaQDosIXG1EYCAcyLNYfOW5k56HbnDSRDGRY22J0dtz8sT4M8EWGD0QclGGdTk+RWvs1fcDeCCCDL/iEjNEgAD+dnV6hfesYG63foD8jQ84pNI7X9hnIY9c/NTCu1WvWWlusv/HYAYzPjbAAnAu0wzjoG+eb5wt9s521he/zoNyeIxM9Iw8bI3TukoA+9+64INN1nAMcD/uBf4CfxXEzXvYZnC8j7+h8XcqIgvyQ9G6vXtoD15EIg39gxJy3uvAfGHny8+hu4AvPaa9H/0aU5Icn1RDMkd8Y5GF2azc8oNCRH8nPR34ePQVEQNh4CdN59C9ENe3VkZ9LfgBknwMzMixEzmmvj/w8PDx6Gt0V+XG6i4gPZRv5kREp9JGfh4dHb6Gr5EeQr/jf28BrDO5AhOQ7IObxNgDG2O1l5McBAIkkbefJz8PDozPoCvkx2kOONkg68iPhMQIkLPlxTowckZ9+sUEUkZ9A5OHh4dEBoor8uOanl/UIBHjgOnuTsyZAKEB+Uf4Do7CD9PDw8HCRDPmB+OKRH/gNIBGC54JneyEEYIw3oEb5VhceWMPpBjlSd6TXcfLYyWBM3YWWMy2hffcWTp04FTrOnkbY2HoLRw8fDR2jR+8hCvIDSH4I7EB25DdGf3baq4kPZZAf5srdQX5H647KkUNH5PTJ070GkED1/upgTN2FxoZGKS4slz0Flb2Owj37pfZAbeg4exrlpeWhn0tvoLykPHSMHr2HqMgPj7e59/kx0AumvWRCGnDDI8rH23hgID9cdPpgexpnW872GPkV7amQ3fnVvY78gqo+Q34VeytC5b0BT359D1FueODxNhKd5jlEfTby43O9VIIp9a0uHECvk9/ZZpGaFSIbvyeS+jWR/e+awTWE27YDT369C09+Hu0hqg0P3OqSh9ernb/JmYQHYJZr1/zIjCBBTX59KvI7a9i8do0hvh+LrP0ng6+IZFwpUvamSHPn1rKiJr+cnJxQuSe/cFws5FdbWytHDh8J1Xl0H7pKfkg68sO0N+x9fuQ45HbNDwUwIhVR3+TMA+sy+Z0uE9l2o8jqvxZZ9VetWP03IhuuEjmUikGGtwtBPPKrKK+QcU+Nu4Bx42TatGlSUFDQxhZoaGyQTz/5VJ4f/3yo3iW/BwYPt5j6xnsxxEQsXZouY8Y+LUMeHi1vTvtIduZER5yJkh8+68KiQinIv3DMcz+day8ibbdixQrZmGF+HJWMaGpqkpR1KdJQHx6Vk/yOHT8mCxYskGeefkYmTpwomVmZMXYtzS1W9vLEl+X5556XpZ8tjdFHgfbIDz/+f5j0B6msqgzVdwUnTp6wx4zr64XnX7DRCd46EmYbD/sq98n0adOtj8mvTZa83Xly7qxRaJv9++T9996PuZ5xfUOnZRrz5s2L8UH5xg3hnzPOy4cffBjjo6S4xOpAQLl5ufLKpFesfNbMWVJ3pC6mfVV1lZVD/+orr0r2zmz7mSdDfsjJV5j2IjBhcMeIj9GfJT+92QFwzS/Kx9t4wF0iP0x3930gsuarF4iPWGlkOx8w37jEd+3ikd/69PVy7bXXypIlS1qxeIm8/e7bMu6ZcZKfnx9j29jYKNNnTJdXJr8ilZXhXw6X/EB6o8c8Lb/73W0xxAQsXpImA+4cKE+Oe9EQ3wdy622/l8lT3m1j11UkSn6LFi2S393wO/ls2WeBbPans2XQ4EFy/MRxW8erl77/g+8bco4lROBQ7SF5YfwLcsutt9hrytUDID9cfFPemCLDRwyX+fPny2tTXpPf/va3sj5tfWCXuj5V7rjrDnnn3Xdkztw55kdhiEyfOT3GV7Joj/yOHzsuc+aZfocMkSPHo4kAX5v8mtxx5x32+vrow4/krrvvkvkL59svfZi9i7KKMvn5L34ub05/0775+amnn5Jf/+bXsrdib2Cza9cuO+YZb8+4cC0bHK47bPVaRtx9z932c6MP2o0cOVJeeumlGDmAgODhRx6Wt2a8FeOn9mDrNXbw4EG5/nfXyx/+8IdWP6NGyoA7BsjJU613WYDAoZ/61lT5dM6n8sxzz8j1v71ecvNzkyY/AJyFyA+7vfiukt+Yg/gs+bFAMPJzyQ95IkkPNhLyO3NCJOsXbYkPWPH3Jr79lkhdRnjbELRHfsOGDouRnWk6I1OmTJFPP/00Rr582XIZ/+J4OzXSco2wae/cuStDyW/CS6/L8JGPS/aOvbY+Y9Yncsvtd7Wx6yo6Ij98uQc/MFi+9/3vybq0dXbs1OFLM2LkCJk/b76t4wdi6htTW6+H8zYASPG631wnDzz0gI0e3WiEAPnhMwC5nDh+wtoh+pn5zkx5ccKLgR1+hEvLSqX5TLPtq7S8VP75n/85xley6GjN78yZM/LZys/kphtvCtV3BohCbr/9dsnenm3rILxly5fJsEeGSVVVVRv7MAwaNEje//h9aWpssuek/nS9THhxgv1hgB4/UE+Ne8pey7Bx24dhe852uefue+T0qbbfy9mzZ7chP0Svz7/wvKxZvcYSi9YRmA2NGjkquI7wYzfgrgGWsFEfPXq0TH97um1vP38zS5j8+mR5aNhDkUZ+uGWPER/AMiPB4FYX5BQi8usz0966NJGMK+KS35m1V8q5rebixLpgWHsHyZJfTU2NnRKnp6XH2LroDPm9+PIUueP3AyU9I8fWZ8ycLTfeOKCNXVfRHvlhenfVVVfJY088FqoHNpqpD6IATE8Robn6mbNmWmLCr7irc+Gu+eH/QmO9efLUyTZS0DoNfFH+8R//MVTXVSS64THg9gE2gtGyqsqqNtB6F1giGTt2rBw90rq2juvjYO1BueueuyQ3Jze0jYvvXvldG5xoWfn+cvnqV80MyJTXZ6y3xFRcXGzHc6D6gF23xHWs2xDwdfUPr5ay/WWh+jDyy8rKspHanj17pLqq2vaBH0jdx1X/eZXlD3xmIFUQ3LJVy+See+6x+muuuUb2798f2AP7q/fL17/+9cgiP97nx2mvBo4bebDmhxwkyGmve59foknbJk1+mPLuGChSvTgu+UnVcvPzdYcJUcx4w3w4SHTau2L5CnnnvXfk2eefjZn25uzMkaEPD5WagzUx7V10hvzWpmyVX1zzK7n+hpvstPe6G26WaTM+bmPXVbRHfq+88ooMemCQnS6F6YHT9adlzKNj5LLLLpO8/Lw2enzO4yeMTyiC0eQHe0R8+FLcdtttUrY3/EsITJ81XYY9HPvjlCwSJb+U9Sly9113x8iu+e9r2kDrXcyYPkOmvjnVRny33X6bvPLqK5YcMA3etnVbaBsX454eZ6ea+K6CGOrq6mTp8qXyx3/8x1YPgv3lL38pd955pyWYm2++We67/z77j7LCIruJL0+Ut997u42cCCO/xYsWy89+9jO566675NprrpWbbzJ93HeffPLJJzZwgs0//MM/2CnunDlz5MGHHpSTJ07atclf/+rXVv/yyy/L62+8LkePHbXfx8NHDsvK1SvlT//0TyOJ/DT58X94MPLDuePmbvCEB8kPrIhw0d3tTTRFSn5HzEWBjY7ade2Q32qRQ+sNAd5u2nQc/bVHfldccUWweDth/ASZMWNGsIhLZGVmyeAHB9spkZa7SJT8cvP2m4hphQwf9YTd7Lj2+hvkX7/+TXnp5TfMNLgsxraraI/8qqurDeG+KQ8++KBdwObansaxo8dkzOgxNvLalt32i7p79267Nvroo4/a6AObHq4NockPhPvCCy/I3ffeLY888ohs3bI1xpbA2zl+fe2vpXRvaai+q0iU/Grrau21HKZLFG+88YZMmTrFXn8/vPqHcuttt9prCCSSKPnV1NbIcy88ZyOvxx57TIYMHSIDBgyQz3/+81b/7rvv2ugJmyroB/5T01Plnt/fI7vyYn/cELXdMeAOqT0UfzkkjPwwC/qXf/kXm2NJApF7xsYMufe+e+1NxbD52y//rSWdWbNmyX9c/h9y+PBhKdhTEJAfzufLk16WZ597Vh5//HEZOmyo3HHHHfInf/InkUR+AF9jr6e6JEHe3hez2wvwlVZ94laXnMGtt7gcMlPf9sivxXzZsg1JHtsS7kehPfJzp71hwBcUv2aIkMP0RKLkt3rNZjP1GSQLFq61RLh+Q67Memeu3H7XvTI9ouivozW/pjNNkr0t207L7h94v+Tmxk7D1q9fLw88+ICMnzhefnP9b2J0BNaCPlv6mf0SYPEc61Fhdu60F8Da6ZtvtBJwzYHYiLq4qFiGDRsm69aYH0AljwKJkl/R3iIbSWlZZyO/Dz/8UCZOmmi/X0VFRVJYWCh1h+vkzrvvtLOJsDZhwHcU1ypmJ1h3y87Jlr/5m7+xOkR+WL7A95n2IECQy0Zn1xa75/ic4k2JgXiR38jRIy2JUAYSHDNmjKxds9bWL7/8crsJU3eozt5rB/3qlNWW4NgGkeGGjA32OFavWi3bd2yXf/qnf4p0zU/f6sLgjnxnyU/f5IwcX2pEfu6aH/JEkh5sUuR3osBEcwPMAMzUtyPyg/3BpSaUGNHWj4NkyQ9fxseffFz27r2wwxaGRMlv/oLVZrr922CzA8jJ3Wd3hp94cnyMbVfREfkRuDg+/uRje4FTduTIERvpIqrAr/ktN91idy11OwJTOuzk4YuAaDHMJoz8gE0bN8nAgQNjzmvl/koZOnSoJVV8bto+CiRKfjgnzzz7TIzMXe8DtN4FlpJATIi4KEOQMXBw7DF3FvhnVT/4/g9sGetxIKaKigvn+MCBA3LLbbfY80sZgOWOOfPntHtew8gP0d2IUSOkpOTCjAhrlyDxdWtbf6BwnB/N/ijQA2PGjpFJr06KkWlgmQ3T6a6SH0G+4m4vb3ImvyHHdQ7YW11IgCjHm/b2KPmhr5KJJs5f3lpPhPyaTSSWc58hzdjbUlwkS34ggClvTpG5c+a2e+Fo8tuwMU9S03bItOkfyX9fc50tA9Clr8+RGwwh3nv/EPlseYaVvzBxilx73Q0yx0yHNYl1Fe2RH3Zd3S8x1mioX7h0ob115fDR1lslag/Xyjf//Zuyp3hPYINFb9dHvHMD8sOXHjvD737wrv2i4p+dYx0MPyrcQcQYcCsI7ofTfhFNuD67ikTID8EAFvALisLv90wU9Q31MvaxsTbawnHk786XBwY/YNcyERlpW/xwwEbLgFcnvyo333izLF2x1OrTM9Llqu9dJSvXrgxssCk1ZNgQGxGWlpbKU888Jffff7/dqNO+xj46VpYuWxq6K8/PE1N1TEtR1uOZPHmyDH5osGzN3iplZWXy3Pjn7O0ytMEtK9gYS09Pt7J333tXrvzulXLsROsP4oyZM+TWW2611xb0mzI3yU9//lOZt2heZJEf/3UlyI9kB55jGbBPeCCUJgGi3l3v80uY/E6YLxaiuMZDrfVEyA8RYuW75oqe1lrW/hTikd/uXbvtorQrDwNuW3j8icftL0uYHtDkd/uAe+UHP/hxG+zaXWX12PAYMfJx+clPfmnlgwYNk2WGCDWBJYP2yO/tt99uM33jbS3AU08+ZW/G1W1wbx7uU2MdF6vrA7uaug0B8sMFuWrtKnvrBjaZbrnlFhth6BuK0d71CTz55JMx/pJBR+SHnVJEfO+9/16ovrPAD8ikSZPscdzwuxvsVJj3vmlMnTrV2oQRE26PeeThR6z+rjvvMjOH+TF22JxCpHrLzbfIddddZzcX3J1VYOaMmZKX23bzCrjhhhuC861BPYgc90Bik+o3v/mNvPjiizHRJtYB09an2Vto0A63vVTVxJI51uRGjhhp9dhNR5SJ23OSJT+0QcK0V5Ofjv5QR9lGfhBQicivV5/waDK/DiUmPN4/2xz9+YXzRMgPOLFbZM9T5ue6+ILMQTzy6yywXoFFZ5yrMH3YtLe3kOi0tycQb9rbG2iP/DBdRIQz7S3zYxqi9+geRDHtBfmCXBGcILADr5H4mAN2wwMGJEEwZa9FficNeeWPFSkab+aXKkxPlPxazJSpYpZI6Stxn/mNivyAnTt2yvBRw0N1nvzCcbGQX1p6mo1G4m3ceHQPkiU/AJy1evVquz7JNT9GeyQ+1O0THiQ+lDHt7fGbnE+ZizD/CZGNPzQ/uWbK1QziMgrqEyU/oLHO+HrUzE0fNATaNtyPkvwALBeEyT35heNiIT98fok+JeERHZKd9rKcmpoa/AMjLulpIOAL7vMD8QE9Ou2tN1+EgpEim38lsm+mkYU/LiOHzVjSvt4WKVeK1MR50qLKkCj8FjwucuzCrRtRk188ePILx8VCfh69gyimvcj1422c2bbZ8ADxsYIyyA/T3p65z++s6cD8upo+Lsi6F578ehee/DzaQxQbHsi54UHi46yWQZ4lP4aEEGjycyM/5IkkPdgw8jt44GCb/6XQozh0pMfIr6SwXAr37Ot1gIT7CvmBcEI/l16AJ7++h2TIDxyFNkhY80PkhzU/chu5jmQYvNWFAhhjza87Ij/cTY7Ir7fRWB9neh0hEGGG9d1baGroG+tXYWPrLdSf8psZfQ3JRn7kK97n5675cYYbkB9CQyq429sdLzbw8PDwaA/JRn7kK77YAORHwtOwGx4gPx0Odgf5QeTh4eHREZIhP9hz2ovID9NePJGlSU/PcoM3OQMgQTBl2ONtiRJgGPnVnxEPDw+PDhFV5Ienkhj5adID8Lw6uC5Y84MByS/q3d6wg/Tw8PBwEcWaH4DIj291AbeB9Bj9oWynvZzygg0pxNshotztDTtIDw8PDxfJRn5og5xPeIDPwHHICRJgm5eZIvLDTc4+8vPw8OhpRBX5rVq1yu72YlYL8gO3EZzt2re6QAADRH98pVWUT3iEHaRH/8aZgrdEln1DGk7Whuo9+ieiID+0I/mBz3SAp2GnvQgFyYYw1s/2cgBER0nbePLziAdPfh5hiIL8kOOtLpz2IrhziQ8yu+GBiA85iBALhGGRH/JEkh6sJz+PePDk5xGGKMgPSb/Pj4EdSQ9lkKK91YXEhxyRn36xgY/8PJJFU8VyadkyVBpOHw9kLvk11u22No2H8gIbj/6HqCI/3uQMPguL/MB1n9M7IADX/DIyMqxDOiM6StrGk58H0FzwRivRnaoLZC75NVWb683Um6pSAxuP/oeoyQ8k55If68F/b4MAQJiIuTLJD440OkraxpOfB+DJzyNRJEt+aIPENzljQxez2lDyg4JKkKB7k7Of9nokC09+HokiysgPNzljJkt+48YuAz274UE2hBEMwtb8uJDYUdKD9eTnAXjy80gUyZIfuYr/uhLP9vIBDkZ8zG3khwoNMO3FEx7uTc7MO0raxpOfB+DJzyNRRBH5AYj88F8WwWfgOAZ54DkEeOC6IPIDaKRfZuqnvR7JwpOfR6KIkvz0fX4AZ7Yo28iPBa30j7d5RAlPfh6JIiry48tMwWfgNUR8DO4C8oMAFQAGvM8vyvf5hR2kR/+BJz+PRJEs+aENOGvlypV2w4OP7wIgPs13Mbu9ECCP+jX2YQfpcWmisWaLJTb8V3/Kukp+Dcf2WbuGo3sDmceljagiP7zVheSn+U3DrvlxHgwjH/l5JIPm/KltiK6r5NdUba5ByCpTApnHpY0oyU8/4QGe01NfIPjXlRAiBxGGRX5InRkIkie//gdPfh7JIAryQ44ND77VhdzGHLBrfrqCvD3ySyRpW09+/Q+e/DySQXeRH2e4ALnORn4MByGAUdhuL1JnBoLkya//wZOfRzKIatrLx9s47QW/gevIczbyo5AGIL94/8MD5Y6SHqwnv/4HT34eyaCr5OdyFG91YeQHjiPAcTbyQ9SHAnPsjmDaG7bh4cnPoyN48vNIBslGfmiDxJeZgvxAdmGw014d/UEYL/LrzECQPPn1P3jy80gGUUR+yPW0F/xGjkMOnkM52PBA5IfFQBgj8svMzLSO6SyRqA8Jtkye/PofPPl5JINkyQ9obm62097c3NyA/DizPXz4cECEwRMezLnb677GHkgkaTtPfv0Pnvw8kkEUGx7IueanX2zAnAFfEPkBYEWQX9huL/OOkrbx5Nf/4MnPIxlENe1NTU21b6Qn6YHfGP2hjrLd8EAIiBzgy0zDXmOfSNJ2nvz6Hzz5eSSDKCM/vskZhMf1PuQkQPs/PEiAEDDyc9f8Ek3a1pNf/4MnP49kEPW0Vz/biyiQPGcjP0x1OeWFIN60N9GkbT35XeKoP9VKXk1nA1m3k19jU2ubxsYLMo9LBlGQH5L+Hx468tPT4JibnJHHu88vkUEgaTtPfpc2mvNfP09qR5Sse8mv8cCm87K1gczj0kFUkR8fbwOfgddIfuQ6S351dXUxzIjID6+x97e6eHQET34eUSPZDQ+24WvscasLZrQkPAJ8Z3d7NSOCKUF+/lYXj47gyc8jaiQb+aENkn7Cg9NcAnW75scCcgCRX9hNzokMAknbefK7tOHJzyNqJBv5ga8A7vaCz8htgJ7+xkR+IEEsCIbt9iYyCCRt58nv0oYnP4+okQz5kavQjm9yxr+uBMeR9Mh3QPBsL4R6t9eTn0dH8OTnETWi2vBg5IdpL7iNAMcBNvJjBQAJIvLz016PRODJzyNqdIX8wFHMWeYTHtjD0PwGcJZrIz+A4SBvdfEbHh4dwZOfR9RIdtpLpKSkxLzPDwDH8T4/wK75aWb0u70eicKTn0fUiIr8MO3Fmh/Ij9EfuQ45EPzrSoKRH6e9HEAig0DSdp78Lm148vOIGlGQH9rhPj/c6oI9DBCeu+sL2MjPnfaGPd6WyCCQtJ0nv0sbnvw8okYU5IcyyI+Pt3FWiykveQ5lu+ZHIRkS5MfH2+gYSCRpO09+lzY8+XlEjWQ2PGBL8tP3+ZH8AL7DAOWYaS8IEHNkvNLKk59HR/Dk5xE1ko380AZJP96mZ7YgQ5ZjXmYKI0Z+ftrr0RE8+XlEja6SH/OwyE9zHF9jj3Kbx9tAgHq3lwNIZBBI2s6T3yWE0NdX9RHy86+5umSQLPkBIEC+1YW3upD4NBEG014KeJOzJz8Pjebdk1vJ6vSxC7I+Qn6NBzJbZfvXBDKPixNRRH4A7vPDrS56kwM5p8DI26z5YXck3r+uTCRpO09+lw48+Xn0BKKK/DDtdd/qgpyzXOTBtBdMiLAQc2S/4eHhwpOfR08gGfJj1Ic6X2mFYE5Pd8F3qNtbXVABdDiIaW/Yf29LJHnyuzThyc+jJxBl5Mc1PwR33OgAvwE28iMj4o3OUOL/XPrdXg8Xnvw8egJRRX4gP77YwN3oCCI/VBj9AZz2evLz0PDk59ETiJL8+D88EOUB4DrOcAH7SiuGgxCAETX5JToAJk9+lyY8+Xn0BKJc8+PjbW6AF5AfCxCCCBH5IVz0kZ+Hhic/j55AsuTHNrzJmeTHtT7yHRBDfkC8JzwSTZ78Lk148vPoCSS74UG+IvlhJss1P/Aby3bDg6QHQMBne33k56Hhyc+jJxBF5IfEW12wgesGeACiwJgND01+7j8tTzR58rs04cnPoyeQbOSnyQ88xqmu3tuIIT9NgJj2ht3nl8ggkLSdJ79LB578PHoCUU179YYHiI8kSJ4Lpr0UQsBbXdx/YIQ8kaQH68nv0oEnP4+eQLLkR67Cmh+mvVjzA68xyNMI1vxgBAE3PPz/8OjfaNk2Ws6t/UlQv9jIr7E2246/qSotkHn0fUQR+bnkB37jdBccR64LyA/sCCBMBPn5f13Zv3E2c6AlFNYvOvKryTovWxXIPPo+oor83P/hQQIE6bEe/OtKMiNYEdNeH/n1b3jy8+gNREF+ACM/kB94TZMeym0iPz7z5v9vr4cnP4/eQFTTXkZ+nPaC7Mh1rMes+SFHBBg27UWeSPLkd2nAk59HbyDqaS94TUd8nPoi0AtudQFghDU/f5Ozhyc/j95AFJEfcj7hweU85CRB1i35QUgC5K0u/ibn/g1Pfh69gWTJD22Q9JofeI2ER/IDYm5y5pqff5+fhyc/j95AFJEfEm9yBvkdOnTI8ht5jpxnX2kF0qMQ096wt7okmjz5XRrw5OfRG4hy2gse4xofgzvkRJsnPGDs3+ri4cnPozcQFfkh8gP5YSYL0gPHkQiZfw6vr9eRH8JEH/l5ePLz6A0kQ37gKr3mF/ZsL/Ig8tMVKMGUYbu9iSZPfhcfGk4fDUiIuPTI71xrX/WnAhuPvocop70gP7ylCrzGAI85eC+4zw8GYMh45JfIIJC0nSe/iwNnM++zRBEru7TIr6H+pK0375oU2Hj0PUQR+aHuPt4GfiPPkfMs+UGJHGzob3Xpf/Dk59FXkCz56cgP5AdOw24vgzvkAJb77K0unPr6yK9/wpOfR19BstNettFrfiQ7THmRg+fstBcFRn7IEfllZWWFPtvLTtpL2saT38UBT34efQVRbnhg41ZPewlyXkB+YEUAkV/Yiw2Yd5Q8+V188OTn0VcQxYYHEtb8MIMF+SGwI7+B6zjT/RwEKNCAkR9fbMAB0GlHyZPfxQdPfh59BVFNe3Gf386dO20wB25zIz9LfqhwHkxWxE3O7oYH0VHSNp78Lg548vPoK4gi8kO+evXq4K0uDPDAdZoI7bSX5EcFwsWMDHMxnndI54lEf7RF8uR3ccCTn0dfQVTTXm54gPwY2BHkOTvtRbRHBcph5Kcdt5c4ECRPfn0PLVtHxPxvDqDfkl9DvT0XZ/ZMuyDz6FVEFfnpFxto4gNAfkCw4UEhGBEbHmH3+XVmIEie/Poezm76vSWBGFl/Jb/6021lHr2KKMgPAPnxJmfwmuY5cp19tpdMCCHIDxsevM8v0QEwefLr2/Dk58mvLyPKDQ+SH2a34DUNS34okA1BhPE2PJA6MxAkT359D578PPn1ZURBfkj6NfbgOPAac5AhYNf8AE1+YU94JJo8+fVtePLz5NeXEdWaHx9vY+THAA8AxwEB+SEMhADGnXmfn+5Yd47kya/vwZOfJ7++jGTIj9yDnBsefKWVBpf47IYHSA85SBDkB8b0kd/Fj8p91bK3aG+MzJNf++R3uumcPWcHaw5fsPPoMXSV/DTAWW7kR8Ij+dk1Pyj0pgfmyD7yuzTgyc+T38WGrpAfOIc5+YcbHoj8wHEkPQZ54Dwb+ZH4UEYUiFtdPPld/PDk58nvYkMykR/JD8CGB+/z06SHnJxn3+dHIXLsiIRFfvEGAT1zAAOmzJNfz+HgwcNSVVkTI/PkFw35QYZzW3f4RCDz6B5ERX6c9mImiyiPhEfyA+y0l8QHwFhHfh0NgDo9AMo8+fUcKivaEp0nv+jID7Kamgvj9+geREF+KCPy4z8wciM/cl3MtJe3uoRNe+MNgnLaREF+4555TmbPmR+quxhwqvGs/Pu3vh2q6wpONbRYaFlZcZnsK6sM6p78epb8wmRhn1My+PznPx8qv1gwasxjsvizFaG6eIhyw0Pv9oLfwG28wRkIHm8DE4L8MEfWT3hoh0yoM9fkqOtIJL95C5d0CjfferuMHP1oqO5iwNz5i+Xv//7/hOq6gpnTZsrbM99pV/bO2+/JjLdmxNiEyRZP/Ikseep/O7Kfhsh+HiNbOPW+1vrcTy7I3rjfyubP/VjJBrbK5nykZIPayt584LzsQ1tf8N4EW1/w7guBzYL3Xjwve17JXmqVvfPcBdn7E8/LnlGyl1tlbz/dKps3x9YXTvl9YDNv3tzzsnsC2dwFi+05++D9C2Ol7H0lm7dgSRsZ6u/MeveCTZL4oz/6o1D5xYLrf3uDPP7kuFBdPGjya25ubsMv5BZdJjchpz3Ijy8zJeHpjd2YyM8lPz7hwU7YgZs4AG1HGcnvsSfGdQo/+OHV8tvf3Riquxgw9vGn5K8vuyxUd7Hgq1/93zJ85OhQ3cWAW24bIN+58ruhuosFIL8w+cWC7/7nVXLTLbeF6uIhqsgPu73Yu0C0B24Dx6GMnAFfQH7IQX7umh/JDGBimR1Rr+tIftobrr8Y8MOrfyTVBy9MZy82LFu5Rh4ePipUd7Ggv097E438mMOW9tzwwLQX/MboD3lAfhCAGVFBDnYEY/I19mHsiw6YQ68HyDKSJ79w/cUAT369j/5OfmfOnAn4RXMNEmVI5BvaIOndXs1vJD5LfrpC8uvoPj/WNdkR2r6r5Ofh4dE/0V7kp7mFMpaZ0wbT3h07dgSRn+Y5Ivi/vUBY5Kc7ZwrrjNAD7Cz5nW46KwUl5bLI/FosXrZKypz71voqqmuP2sXawtKKQHaioVly8gtl4dLlsmTFaqmq7btRVNWhI7J8TaosWPyZZG7fKUdONlh59aGjZuxrZMGSZZKdly/HjVC36ys4erJRsrJz7DgXmPO9Y9ceK8dxbNi8XeYv+swe38Ejffs+vRP1zbJ1Z57sKS4PZCUVlbJo2UrznVgpReX7Y+z7EnbkFsRsXGzI3GrltUdPyIp1aeYzWCoZWVvlyIn6Nm01kiE/6pHjNfbY7dVrfpr4gJg1P4BrfvwHRtohk+6UeoJ1pM6S36Fjp2TgsGFy84A75N7Bg2XYmDGhdn0NJWWV8rOf/1LenDYzkJVWVMmdAwfKXffeb/Phjz0W06YvYcZ7H8g9Dw6WUY8+Zse6fG3rrSXPTpwoV//85zJsxCi5f9hQyS0obtO2t4FbTtIyN8sNAwbYcQ647z65+sc/tbp1GZvkVzfeKI+MGC23/v4emTpzVpv2fQmFe/fJd3/wA5k85c1ANnT0aLn+pptl4ENDZMioUXZJRbfpKxgx6lF7lwY3Lt7/6BMrf/vDj+X7P/mpjB77uNz9wAPm2rpwK1MYooj8AEZ+4DPsZbhTXtQt+WlmZOTnkh87QHI7o17XkTpLfvsP1MmPfvnfsru4VCoP1sn//81vhtr1Rbw6eWoM+WVtz5Gb7rhTSvdVSXnVQfnzyy6Lse9L2Gkipb37D8jRU43yvCG8CRNb73v7v//6NUndlCmHza/1sNFjZKX5BXfb9jZOnzlnznG1ZGzeZseZlpUlf/pnf2Z1r0x9S8ZNmGDlO3bvkWuu/12b9n0Jz744Uf7+H/8phvy+/Z9XmbEX2Cj8qh/92EaHuk1fAchv6fLWeyo1brhtgHy6aLGcbGiRme9/JONffqWNjUay5Mc1P97kzMfbyG/gOgAbH/ZlpnoHhJFf2P/tZdKd6cHpOlJnya/CkMSPf/oze5LWpG2Qr/yv/xVq1xfhkl+GCfvvuW+gvGCIBBHTH10Ei9c1h4/bCHXmex/a+p/9+Z9LcXmlPPb0s+biHmMu7tVt2vQVTHptivz1X18mf/k//6cMGvqwlT0/4SV578PZcuOAO6Xm0DH5wdX/1aZdX0FOUaFc/v3vyxPPPBNDfl/7t2/IfDOVn2Omkt++/Io+TX5//ud/YT+Dr/3H5bLs/OzhJz/9uZSZH9brb75VPp23SJ4015LbViOqNT9seOjID9xGAkRuIz/84c1/UPA+P/4DI905U1hnhB5gMuS3KmW9fPkrlwb57dxd2OfJD9HRi5Nfk1vuvtuuAUJG8hs77ll7z19fJj+gtLJaxjw5Tr745S/buiY/rLn2ZfL79+9cKTM/+EBemDBRnn1+ghw/3bq+SvL7ZMHiPk1+GpOnT5ff3nKrLZP8rjPk98ncBT1KftjtPX36dBD58XYXcB64zm54AJjuggRhgDc5u9NepPY6I7R9V6a9P7n2Wruwm70rX/7v174WatcXETbtve2e30tF9UHJzN7Rp6e9xWX7ZeSTT8hNd90p+w9eeFwL016MfV/NIblr0KA+O+3dW3nAnm9sfJSZ8l+Y6A86THvHT3rFbnwsXrWqT097f/HLayz+1Vzz/2LOe25+kZVf/r3v22WgvKIS+Y/vfe+iIL+0jVnyq19fZ8uY9i5ZtdouqbwwaVK3Tnuh57SX/7dX7/bq3E57QXiM/MCIXPMLe7FBWB4l+dUdO22nXXeZiOm35pfioZEjQ+36ErAAjQVebHj88pprbRlyrKE9OHyE3D/4Ifnv63/bpzc8Hhr2iPx//+N/yKAhD9nxr0vbYOUTJ78uv77hJhn44BBL5H15w+Pmu++S4aPH2A2P3z/0oNWlZ26R239/r4wY/ahdS+7rGx7A1Denx0x7x4wbJ7fffY/cbKJXbAb21Q2PZSvXBpsdv77xRnn08Set/IM58+TaG26wn8Fvbrq5yxseJDbkSMhZDuMfkB+COMxkQXjgtkOHDtmcCO7zowDGiPrcf2AEMLGsOyNYR+os+eFCRtR3Md3qgjHrLX4A8pONLbKrsOSiuNUldf2mmPHvKiix8tpjJy+KW10wZd+0NduOE+OtOND6soRjp5us/GK51QUoLKmIudWlrKrmorvVZenKNVJaUW3l+GxWrkvv1ltdIEcCOTLyw7SX5MeIj+D015IfFwRBfoj8wjY8dGc6d/V6gJ0lPw8Pj/6NeOSHxNxNmnsI7PaC/DjtBbeB5xjkAZ9jKAg2RJ4I+UHGnKGoHgDtPPl5eHh0Bl1d89MAJ+E+v507d1o+Y7SHnERoyY8hIAXYGsZub2/c6uLh4dG/0ZXIj9yEnNAvM+XM1p3+xjzbC8Tb8GAHbtIDox1lIL8vfelLoQfp4eHh4eKLX/xil8lP8w//h4ee9oLfNAEGj7fRwCU/OiOQdE49ckBPg//rv/5LvvKVr4QepIeHh4eLyy67TG677TbLHyA/8gkSczfB1gXJD3ymd3n1/kZM5AcCjPeEBxCWKKcN7ZGuuOIK+cu//MvQg/Tw8PBw8YUvfEGuu+46yx94pZXmE+Zu0nrYA9jt5eNt5DbyHIgP9eAmZwjBkO1teIQl3THBNuPHj5fLL79crrzySpsDIEQPDw8PgLwAfOc737H5rFmzLH/oWSQ5JixBTpD8cJ8fNjww7UW0p/c2mAevtGLOyK+9FxvES3oQGDhSU1OT7RikCsC/h4eHB0BOIEeAL5DAO0iJ8I62JWHyCQ/4hG8EduA3lMl39tleAAIyJHd76Qw5O3ATB4dcA/Y4EJKgTz755FN7CZxB3tA8ghyJuZu0LfgGWLVqVcyaH4M78p2N/CDQwBzZfbaXA4jXuU60oT3A9tqPh4eHB0COcfmBPNJR0m3oAxsefLYXRAfyQ2DHQM9Gfi75IQTFq2BAftoZ0FGiTSK2Pvnkk09u0tyRKI+Ao5ijDSI/3OScl5dnIz/MaAEQHiNAwJIfmRGAcWFhob3VBeEnHTLvKNEGuQZlPvnkk09MLk9oUN9Roj1JsL6+3u72FhUVBc/2Ajrqs+SnhQBCw/3791vyQ0M6ZQc++eSTT30pafJDDh5LT0+X6urqNlNd8hwQM+2lIUJErPuhMZImPwCJuU8++eRTTyfNQ4z4uLlaXl5u71jBLBYAt3F2yzLyIPIDQH4gPqz7FRQUyK5duwLCI3zyySefejORh3RO4KkQrPVh6Y4kp0kP/BaQH/4w4sOWMMowPnjwoN0qBhHCKdg1LAL0ySeffOrpRP5xuQkclpOTY/kL3EXSA6cBJD+Ug2kv2ZHG2CIuKSmxQOL9MwwxPRH65JNPPZXIMZpzCJIf+GnPnj1SWlpqgzjNZyBDEB/JD3nwD4xoiDIbghDz8/OtDJ3Aue7UJ5988qmnE7mHpAcggeB2795tAzdEfeA2ADxGTkOduV3z0yyJOg3gBDm2jFFGQkeaAAmffPLJp+5K5BjyDQkPa3xI2NgA8YG7+B/bNKchRxAHkPPsPzAi2bnGyBsaGqweoWRjY6PtKIwAffLJJ5+6K2muYbRH4sMtecXFxZazwFfkNBAiSE7zG8rkt5hne2GIBlBSjjJudkYZ9/+BVZE4AD0oDw8Pj+4AuYa8Qw7C9LasrMxyF4mPt7iQy8hn4DiUSY7Bv64k2bEMZ9wtQRkEiMivpqbGOiDrImFQzD08PDyiBLmFCWVwEXZ2q6qq7BMd4CdwF/iKAG8B4CstJyz5sUKW1MZozBydYNMDpIh2WAfEIECE7iD1YPtr6s5z4M+vT5dawjWtr2vWAUR54BlEd+AnbG6Af/DCU8xGwUckOk16COQoY3AHPkNu/4ERCoz8qEADhI2oowzwPkAQIJgWZAgbyJBjEJAhJzAfBzBQgnXqwmxcPQiX0Lao67Ju0x50uzB9ezoN10a3w/Gz7I7NPQ6tw7mEHrmW0xY6jp+5tmsP8Wy1X1em7TRo77brCLCF7/bGTT1tutJPV6GvW0KPh2MKA3QcZ5id65t2/MyhZ3tA27pobxxdQSL+aNPe2GCjAVtwBHQou9c1ZG4b2CDn+WAb5JCBCMFB4CdyFHToB2XOXslbrNMWeXCfHxRkRjpip3SKOm0xMER9YF6SIeoakLmAvc4B2oa1Zw7othqwwS8C7TRoE6bT/RDxbBMFxkG/KLMeZgu0N4Z4Y6Gc7ZgnMnbXxvXRkSwZuP7C/Os8kfPXHhI5H4A7DrRD7srd8Wi9tnPLWob2LLuAXZjP3oY+js4cv4a+ZuOdX5YB2qM/lEF24BkA5AeOAkhwmscoZ0CHMjgM3EZ+g62d9qJCQ+2EuVsm0I6O4FyzOVmbQERIVicgY6SIHAeq7SkD2IZ6lNFPvLZuO5TpE3DtAPpFjg9Dt9H2rGs7lJGjzjaoE/RLHcocP/SUU8cy2mkd6vgR0jZoDxn8oQ4d/bJvLUedthgvbTlGDfoHtNz9jGHHOmzZH9sSsAGgJ9geep4/2LCN9kl7IJ4fraeM0D61DDlkKONcUkc57bStztkX9CzzWPQ1gS80dBr045bhB4BP6nT/9Esd9e4YNSDTcn2O4A91lOmD0DbIOS6tox6AjL5Yhj3K8c4v7XBtEewDbchT4BtyD0AuYq65CnXdBjm5zu72QkAhjXRjyBj9oU6gTrm2IeiLPnQ75BwEbVGmD45Fjwm59oMy24LE9Vjom3YoU6fbE2gPPW0I2kLutqGMet2nBmXuOUSdevZFv1oGO5Qhg0770HLYoazbajva0B/krq32TztC2+JihJ7tKEMOG/rh2JBj+kFb+gHYH2T8MWZ72kDOMVDP8VHG8dA3fWg/tKUdoWUswxZ15gT8UU5b9kG9bs+xs8z2bEsdwXa008dOOdrRF+vQ0U6DcralPdvwvMGWcl3W0L5gE9Y3y9CxrHWunO0hp0/KCcgIjg1l5Bg/y2inr0stJ9Ae12JwqwvBRroxGugTDegOacecwJcBPtHe1aG9/gJRxgFSD7nW8wum7WkDsK51bMN2bpn9sc722hY21BFahpzjQx1ltkOZdYJtkOMXzh0Dy4Trw9XpfrWOvrRc+0dOn2GgDdvpzwQI84Nj0ccDoB2OE3rUoadOl9kGMtoi18en/QLQ0R463Q9yfV1TRj+UcQzsB9D9aD3K0NGW/rR/ylDXflDGeLQOtvSPOvxSzlz703UeN/1TT19sw7ou044+0C/GRhvIwsD2bMs69ZTRVgN98HqnDHZsr4+d4HlGG+jYN/X8fLU/1llGW4JrgJb8aIAylCjrDrRT5rRDnbbUUQ4bd6AuOCDWtR89Fm1H324byNiW7diWctTZhnYsI+eJ5rlgP2HHoe1Rpy3qBPvjGLQf2lDntkeZbbWcOubQ00YDevZP4Lh0O+QcE3Lo2YZ2vEa0L+gIymhDf1pOH5CjX62nPXUA+9LHpdtQzja6zPb06Y4HddpRHqZne4DjoS302p5ywtVRz7GhTh+osw1z6lAPIwS3DUEdr0vKXDu3b8pQR65tgbD2rk7348oAtCGo16CMeuQ8bpRpE9aW4+bx0E4DegCBHBDzrys16BAnkTLaQk6wThvKOCj6Rk5CQZlgO1dHOcvaH20J1N3IFNA2aMdxah8o4xiR0z/kPL4wGwA6+NBjcccFe4wLOaDt6cf1iZztYUsbAv4gp61u5wL2HAdzgjZaDj8scwzUa78E7NnG9U8dQPswPeVuP9BBxjJ12g5lAOcD5wV2/NLTjoAMYJ1ttYxl5OyToK22Yc4y4dq5gBxjpl7ngD4v1Ll1lnldUs62Otd6lqlv77h0rq9FtCVQ1zLdTvvm8bIN5YCWIQd0Ww23rQvdHn0CKBNaF7PbSyHrBA8Kct252xY52iPnydB6tMVFynbUAfTLdmzDdsyhQx/0hZxtYYOLge3ZP6D9uUB7TW4oQ07/tKNfQPfLMtthfG5b3Z7jpy8XsGVbymiPnOeQOsrZD8rannLqKHeBceEYtE/kPC6MX58DDdjqtpQhZ7+6PXXUU+bqdY7x0QdtAY4NepY5FpTZnm3oU5eZa8AH29BGtyHQL3LaAbTR1yhBG9jTH3OeK8roizoeF8oabK/9uu3pA2Adeu2Px0wdy9o/jxe29EU/tNMy2Gg5yxwfQF1Y/64Nx+r2TT1lOsfngHEjJyz58aJxnVJH5xystoEMZep4YLoMH7oP1l05AHuCtsg5BpYhd+1YBlBmW+RoAxnHq6Ftacf+IMcaAXT62OgLZfqhDw36cP3r9ihDx1yDtrDTvijXdtDDp/YLW37wAP1oXwDbMwfoCzKCOoB901brqdNj0z6Qax0AH/QX1oZ9wIZfEh4TcvqjDXMtZx/6nEDu9qXLrCN3j1PrKddl2LsyV44cY4JM+29PxzKAMmQEZDxm5Fquy2zLMuX0hzLb0w45oP3Ha+O2pw3h1mFP6D7oh/J4bahnW14TLlo/98Py/wCRYBQsNiHXwgAAAABJRU5ErkJggg==)\n",
        "\n"
      ]
    },
    {
      "cell_type": "markdown",
      "metadata": {
        "id": "QLlyVFiJXAe3"
      },
      "source": [
        "Dans cette question, on dispose d'une pièce de monnaie sans savoir si elle est équlibrée. \n",
        "\n",
        "On fait l'hypothèse que la pièce est équlibrée.\n",
        "\n",
        "Pour tester la validité de notre hypothèse, on a réalisé 50 lancers et observé 35 piles. \n",
        "\n",
        "Que peut-on dire de l'équlibre de la pièce? "
      ]
    },
    {
      "cell_type": "markdown",
      "metadata": {
        "id": "lDufd8smqyXD"
      },
      "source": [
        "Votre réponse:"
      ]
    }
  ]
}