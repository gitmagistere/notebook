{
 "cells": [
  {
   "cell_type": "code",
   "execution_count": null,
   "metadata": {
    "id": "CCzdy1T01s14"
   },
   "outputs": [],
   "source": [
    "from math import sqrt\n",
    "from random import random\n",
    "\n",
    "def ecartfreq(n=100,p=1/2,k=2):\n",
    "  sigma = sqrt(p*(1-p))\n",
    "  binf = p-k*sigma/sqrt(n)\n",
    "  bsup = p+k*sigma/sqrt(n)\n",
    "  N = 10000\n",
    "  interieur = 0\n",
    "  for i in range(N):\n",
    "    S = 0\n",
    "    for j in range(n):\n",
    "      if (random() < p):\n",
    "        S = S+1\n",
    "      f = S/n\n",
    "    if (binf < f) and (f < bsup):\n",
    "      interieur = interieur + 1\n",
    "  F = interieur/N\n",
    "  return F\n",
    "\n",
    "\n"
   ]
  },
  {
   "cell_type": "code",
   "execution_count": null,
   "metadata": {
    "colab": {
     "base_uri": "https://localhost:8080/",
     "height": 36
    },
    "id": "x81kGSUX3rRP",
    "outputId": "4b5a4617-0253-45aa-c416-60ccbf22b7d3"
   },
   "outputs": [
    {
     "data": {
      "text/plain": [
       "0.9427"
      ]
     },
     "execution_count": 2,
     "metadata": {
      "tags": []
     },
     "output_type": "execute_result"
    }
   ],
   "source": [
    "ecartfreq()"
   ]
  },
  {
   "cell_type": "markdown",
   "metadata": {
    "id": "VBeiKqZ87m2L"
   },
   "source": [
    "# **INEGALITE DE CONCENTRATION**"
   ]
  },
  {
   "cell_type": "code",
   "execution_count": null,
   "metadata": {
    "id": "tyLDvIRT515_"
   },
   "outputs": [],
   "source": [
    "import numpy.random as random\n",
    "\n",
    "def mava():\n",
    "  a = random.rand()\n",
    "  if a <= 0.5 :\n",
    "    return 2\n",
    "  elif a <= 0.8 :\n",
    "    return 10\n",
    "  else:\n",
    "    return 20"
   ]
  },
  {
   "cell_type": "code",
   "execution_count": null,
   "metadata": {
    "colab": {
     "base_uri": "https://localhost:8080/",
     "height": 36
    },
    "id": "dAXSh0dl6ocI",
    "outputId": "85689595-a309-4e35-e054-849600aeab08"
   },
   "outputs": [
    {
     "data": {
      "text/plain": [
       "10"
      ]
     },
     "execution_count": 100,
     "metadata": {
      "tags": []
     },
     "output_type": "execute_result"
    }
   ],
   "source": [
    "mava()"
   ]
  },
  {
   "cell_type": "code",
   "execution_count": null,
   "metadata": {
    "id": "ckO2-LjZ8Q4F"
   },
   "outputs": [],
   "source": [
    "def xbarre(n):\n",
    "  # on génère un échantillon de taille n\n",
    "  echantillon = []     \n",
    "  for i in range(n):\n",
    "    obs = mava()         \n",
    "    echantillon.append(obs)\n",
    "  return mean(echantillon)\n"
   ]
  },
  {
   "cell_type": "code",
   "execution_count": null,
   "metadata": {
    "colab": {
     "base_uri": "https://localhost:8080/",
     "height": 36
    },
    "id": "nuaMXZpn83Yf",
    "outputId": "d677deff-ba45-41e0-df19-3cceb8975910"
   },
   "outputs": [
    {
     "data": {
      "text/plain": [
       "7.98"
      ]
     },
     "execution_count": 105,
     "metadata": {
      "tags": []
     },
     "output_type": "execute_result"
    }
   ],
   "source": [
    "xbarre(100)"
   ]
  },
  {
   "cell_type": "code",
   "execution_count": null,
   "metadata": {
    "id": "E0H8bkZD_sMg"
   },
   "outputs": [],
   "source": [
    "import matplotlib.pyplot as plt\n",
    "from math import sqrt\n",
    "\n",
    "mu = 8\n",
    "sigma = sqrt(48)\n",
    "k = 1\n",
    "\n",
    "def graphe(n,N): \n",
    "  Ninter = 0\n",
    "  for i in range(N):\n",
    "    m = xbarre(n)\n",
    "    if mu-k*sigma/sqrt(n) <= m <= mu+k*sigma/sqrt(n) :\n",
    "      plt.plot( i ,m, '+' , color='green')\n",
    "      Ninter = Ninter + 1\n",
    "    else :\n",
    "      plt.plot( i ,m, '+' , color='red')\n",
    "  plt.axis ([0 ,N,mu-3,mu+3])\n",
    "  plt.plot ([0 ,N] ,[mu+k*sigma/sqrt(n) ,mu+k*sigma/sqrt(n)] , color='blue' )\n",
    "  plt.plot ([0 ,N] ,[mu-k*sigma/sqrt(n) ,mu-k*sigma/sqrt(n)] , color='blue' )\n",
    "  plt.show()\n",
    "  return Ninter/N"
   ]
  },
  {
   "cell_type": "code",
   "execution_count": null,
   "metadata": {
    "colab": {
     "base_uri": "https://localhost:8080/",
     "height": 288
    },
    "id": "hYYGQJ9tCOwT",
    "outputId": "67be0c0e-ec87-453d-9dc7-88a6777b08a1"
   },
   "outputs": [
    {
     "data": {
      "image/png": "[encoded data removed]",
      "text/plain": [
       "<Figure size 432x288 with 1 Axes>"
      ]
     },
     "metadata": {
      "needs_background": "light",
      "tags": []
     },
     "output_type": "display_data"
    },
    {
     "data": {
      "text/plain": [
       "0.66"
      ]
     },
     "execution_count": 113,
     "metadata": {
      "tags": []
     },
     "output_type": "execute_result"
    }
   ],
   "source": [
    "graphe(100,200)"
   ]
  },
  {
   "cell_type": "markdown",
   "metadata": {
    "id": "1DJYFKQ17VRx"
   },
   "source": [
    "# **GALTON**"
   ]
  },
  {
   "cell_type": "code",
   "execution_count": null,
   "metadata": {
    "id": "-mQ4XfTK0I_y"
   },
   "outputs": [],
   "source": [
    "import random as rd\n",
    "\n",
    "def chemin():\n",
    "  D = 0\n",
    "  for i in range(12):\n",
    "    if rd.random() > 0.5:\n",
    "      D = D + 1\n",
    "  return D"
   ]
  },
  {
   "cell_type": "code",
   "execution_count": null,
   "metadata": {
    "colab": {
     "base_uri": "https://localhost:8080/",
     "height": 36
    },
    "id": "JQpTKzlJ06VV",
    "outputId": "f25e250e-bcce-490a-f6e2-3acdc3afc042"
   },
   "outputs": [
    {
     "data": {
      "text/plain": [
       "6"
      ]
     },
     "execution_count": 31,
     "metadata": {
      "tags": []
     },
     "output_type": "execute_result"
    }
   ],
   "source": [
    "chemin()"
   ]
  },
  {
   "cell_type": "markdown",
   "metadata": {
    "id": "ymj6g1bF5VIm"
   },
   "source": [
    "A quoi correspond le résultat obtenu ci-dessus?"
   ]
  },
  {
   "cell_type": "code",
   "execution_count": null,
   "metadata": {
    "colab": {
     "base_uri": "https://localhost:8080/",
     "height": 36
    },
    "id": "KrGAW17e1aLD",
    "outputId": "6f2e16a3-6dfd-4337-8776-9efff65f6466"
   },
   "outputs": [
    {
     "name": "stdout",
     "output_type": "stream",
     "text": [
      "[0, 4, 11, 61, 110, 212, 225, 192, 124, 42, 14, 4, 1]\n"
     ]
    }
   ],
   "source": [
    "effectifs_cases = [0, 0, 0, 0, 0, 0, 0, 0, 0, 0, 0, 0, 0]\n",
    "\n",
    "for j in range(1000):\n",
    "\n",
    "  rang = chemin()\n",
    "  effectifs_cases[rang] = effectifs_cases[rang] + 1\n",
    "\n",
    "print(effectifs_cases)\n"
   ]
  },
  {
   "cell_type": "markdown",
   "metadata": {
    "id": "xnIjj5E_8R8B"
   },
   "source": [
    "# **SURRESERVATION**"
   ]
  },
  {
   "cell_type": "markdown",
   "metadata": {
    "id": "0wLO5vuuA7Ih"
   },
   "source": [
    "$P(X > 300) < 0.01$"
   ]
  },
  {
   "cell_type": "code",
   "execution_count": null,
   "metadata": {
    "id": "uu8NMAoJ8XRO"
   },
   "outputs": [],
   "source": [
    "def resa(n):\n",
    "  for i in rang(n):\n",
    "    "
   ]
  },
  {
   "cell_type": "markdown",
   "metadata": {
    "id": "lfhtICDOLqEw"
   },
   "source": [
    "Majoration de $P(X-np>\\sqrt{n})$"
   ]
  },
  {
   "cell_type": "code",
   "execution_count": null,
   "metadata": {
    "id": "ruiCPVerL5km"
   },
   "outputs": [],
   "source": [
    "import random as rd\n",
    "\n",
    "def binomiale(n,p):\n",
    "  succes = 0\n",
    "  for i in range(n):\n",
    "    if rd.random() < p:\n",
    "      succes = succes + 1\n",
    "  return succes\n"
   ]
  },
  {
   "cell_type": "code",
   "execution_count": null,
   "metadata": {
    "colab": {
     "base_uri": "https://localhost:8080/",
     "height": 34
    },
    "id": "kfkJGaZGKDau",
    "outputId": "91c71eaa-0c9b-4608-fd7e-60556c0c0017"
   },
   "outputs": [
    {
     "data": {
      "text/plain": [
       "0"
      ]
     },
     "execution_count": 61,
     "metadata": {
      "tags": []
     },
     "output_type": "execute_result"
    }
   ],
   "source": [
    "binomiale(2,0.5)"
   ]
  },
  {
   "cell_type": "code",
   "execution_count": null,
   "metadata": {
    "id": "PpxC6F1SKcsZ"
   },
   "outputs": [],
   "source": [
    "from math import sqrt\n",
    "\n",
    "def peutmieux(n,p):\n",
    "  compteur = 0\n",
    "  for i in range(1000):\n",
    "    if abs(binomiale(n,p)-n*p ) > sqrt(n) :\n",
    "      compteur = compteur + 1\n",
    "  return compteur/1000"
   ]
  },
  {
   "cell_type": "code",
   "execution_count": null,
   "metadata": {
    "colab": {
     "base_uri": "https://localhost:8080/",
     "height": 34
    },
    "id": "WWGdG5psMnzx",
    "outputId": "212bfdd3-30f6-4025-9c3d-dcef3ff3c000"
   },
   "outputs": [
    {
     "data": {
      "text/plain": [
       "0.047"
      ]
     },
     "execution_count": 67,
     "metadata": {
      "tags": []
     },
     "output_type": "execute_result"
    }
   ],
   "source": [
    "peutmieux(20,0.6)"
   ]
  }
 ],
 "metadata": {
  "colab": {
   "name": "PYTHON-PROBA-SPE-TER.ipynb",
   "provenance": []
  },
  "kernelspec": {
   "display_name": "Python 3",
   "language": "python",
   "name": "python3"
  },
  "language_info": {
   "codemirror_mode": {
    "name": "ipython",
    "version": 3
   },
   "file_extension": ".py",
   "mimetype": "text/x-python",
   "name": "python",
   "nbconvert_exporter": "python",
   "pygments_lexer": "ipython3",
   "version": "3.7.3"
  }
 },
 "nbformat": 4,
 "nbformat_minor": 2
}
