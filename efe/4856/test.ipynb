{
 "cells": [
  {
   "cell_type": "markdown",
   "metadata": {},
   "source": [
    "Datation au carbone 14"
   ]
  },
  {
   "cell_type": "markdown",
   "metadata": {},
   "source": [
    "Le carbone 14 est un isotope radioactif du carbone 12. Le carbone 14 se combine avec l’oxygène de l'atmosphère pour former du dioxyde\n",
    "de carbone. Le dioxyde de carbone est assimilé par les organismes vivants tout au long de leur vie via la respiration et l'alimentation.\n",
    "On sait qu'un gramme de carbone pur extrait d'un organisme vivant présente une activité stable de 13,6 désintégrations par minute.\n",
    "A la mort de l'organisme, il n'y a plus d'absorption de carbone, par contre le carbone 14 absorbé durant la vie étant radioactif se désintègre progressivement, l'activité du carbone 14 diminue alors au cours du temps. \n",
    "Juste avant la mort de l'organisme, l'activité du carbone 14 est à \n",
    "100% de sa valeur de référence durant la vie (13,6 désintégrations par minute par gramme), au bout de 40 000 ans cette proportion est proche de 0% de la valeur de référence.\n",
    "Mais quel âge a un échantillon qui présente une activité de 10%, de 70%, de 50% de la valeur initiale?\n",
    " \n",
    "Notons P(t) la proportion de l'activité de référence mesurée à l'instant t dans un échantillon de matière organique.\n",
    "\n",
    "On montre que P'(t) = -0.0001238 P(t) . (t exprimé en années)\n",
    "\n",
    "\n",
    "1. Sachant que P(0) = 1,  déterminer la proportion P(t) en fonction de t.\n",
    "\n",
    "On défini ci-dessous la fonction proportionreference qui pour une durée donnée après la mort d'un organisme renvoie la proportion d'atomes de carbone 14 restant."
   ]
  },
  {
   "cell_type": "code",
   "execution_count": null,
   "metadata": {},
   "outputs": [],
   "source": [
    "from math import exp\n",
    "lamb = 0.0001209681\n",
    "def proportionreference(t):\n",
    "  return exp( -lamb*t)"
   ]
  },
  {
   "cell_type": "markdown",
   "metadata": {},
   "source": [
    "2. Quel est la proportion de l'activité de référence au bout de 10 000 ans ? (Utiliser la cellule de code ci-dessous)"
   ]
  },
  {
   "cell_type": "code",
   "execution_count": 22,
   "metadata": {},
   "outputs": [
    {
     "data": {
      "text/plain": [
       "0.0889783675526802"
      ]
     },
     "execution_count": 22,
     "metadata": {},
     "output_type": "execute_result"
    }
   ],
   "source": []
  },
  {
   "cell_type": "markdown",
   "metadata": {},
   "source": [
    "On défini à présent la fonction datation()"
   ]
  },
  {
   "cell_type": "code",
   "execution_count": 1,
   "metadata": {
    "id": "g_e9wN62l3rI"
   },
   "outputs": [],
   "source": [
    "def datation(proportionobservee):\n",
    "  age = 0\n",
    "  while proportionreference(age)> proportionobservee:\n",
    "    age = age + 1\n",
    "  return age"
   ]
  },
  {
   "cell_type": "code",
   "execution_count": null,
   "metadata": {},
   "outputs": [],
   "source": [
    "Appeler la fonction datation() pour une proportion de 0.1, de 0.7 puis de 0.5"
   ]
  },
  {
   "cell_type": "code",
   "execution_count": null,
   "metadata": {},
   "outputs": [],
   "source": []
  },
  {
   "cell_type": "markdown",
   "metadata": {},
   "source": [
    "Que représente la valeur renvoyée par l'appel datation(0.5)?"
   ]
  },
  {
   "cell_type": "code",
   "execution_count": null,
   "metadata": {},
   "outputs": [],
   "source": [
    "Votre réponse:"
   ]
  },
  {
   "cell_type": "markdown",
   "metadata": {
    "colab": {
     "base_uri": "https://localhost:8080/"
    },
    "id": "lhPGLFHHndbq",
    "outputId": "47385043-ecbe-4600-fee6-d74bd9866fc9"
   },
   "source": [
    "En 1991, deux randonneurs ont découvert dans les Alpes un \n",
    "corps momifié dans la glace. Sur cette momie baptisée Otzi, on a mesuré une proportion d'activité du carbone 14 de 0,5265 (52,65 %). \n",
    "Déterminer l'âge de la momie."
   ]
  },
  {
   "cell_type": "code",
   "execution_count": null,
   "metadata": {},
   "outputs": [],
   "source": []
  },
  {
   "cell_type": "code",
   "execution_count": null,
   "metadata": {},
   "outputs": [],
   "source": [
    "Votre réponse:"
   ]
  },
  {
   "cell_type": "markdown",
   "metadata": {},
   "source": [
    "Nous avons représenté ci-dessous la proportion de l'activité de référence en fonction du temps en années."
   ]
  },
  {
   "cell_type": "code",
   "execution_count": 19,
   "metadata": {},
   "outputs": [
    {
     "data": {
      "text/plain": [
       "[<matplotlib.lines.Line2D at 0x2a4eb90f080>]"
      ]
     },
     "execution_count": 19,
     "metadata": {},
     "output_type": "execute_result"
    },
    {
     "data": {
      "image/png": "[encoded data removed]",
      "text/plain": [
       "<Figure size 432x288 with 1 Axes>"
      ]
     },
     "metadata": {
      "needs_background": "light"
     },
     "output_type": "display_data"
    }
   ],
   "source": [
    "import numpy as np\n",
    "import matplotlib.pyplot as plt\n",
    "\n",
    "x = np.linspace(0,40000,100)\n",
    "y = []\n",
    "for i in x:\n",
    "    duree = proportionreference(i)\n",
    "    y.append(duree)\n",
    "\n",
    "plt.plot(x,y)"
   ]
  },
  {
   "cell_type": "markdown",
   "metadata": {},
   "source": [
    "Que peut-on dire de la vitesse de diminution de l'activité au cours du temps%"
   ]
  },
  {
   "cell_type": "code",
   "execution_count": null,
   "metadata": {},
   "outputs": [],
   "source": [
    "Votre réponse:"
   ]
  }
 ],
 "metadata": {
  "colab": {
   "name": "C14.ipynb",
   "provenance": []
  },
  "kernelspec": {
   "display_name": "Python 3",
   "language": "python",
   "name": "python3"
  },
  "language_info": {
   "codemirror_mode": {
    "name": "ipython",
    "version": 3
   },
   "file_extension": ".py",
   "mimetype": "text/x-python",
   "name": "python",
   "nbconvert_exporter": "python",
   "pygments_lexer": "ipython3",
   "version": "3.7.3"
  }
 },
 "nbformat": 4,
 "nbformat_minor": 2
}
