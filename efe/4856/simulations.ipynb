{
  "nbformat": 4,
  "nbformat_minor": 0,
  "metadata": {
    "kernelspec": {
      "display_name": "Python 3",
      "language": "python",
      "name": "python3"
    },
    "language_info": {
      "codemirror_mode": {
        "name": "ipython",
        "version": 3
      },
      "file_extension": ".py",
      "mimetype": "text/x-python",
      "name": "python",
      "nbconvert_exporter": "python",
      "pygments_lexer": "ipython3",
      "version": "3.7.3"
    },
    "colab": {
      "name": "simulations.ipynb",
      "provenance": []
    }
  },
  "cells": [
    {
      "cell_type": "markdown",
      "metadata": {
        "id": "vP3Ib9onJthj"
      },
      "source": [
        "1. Simulation d'une loi uniforme discrète"
      ]
    },
    {
      "cell_type": "code",
      "metadata": {
        "id": "nSOt82wUJthn"
      },
      "source": [
        "import numpy as np\n",
        "from numpy import random as rd\n",
        "from math import floor\n",
        "\n",
        "def unifdiscrete(n):\n",
        "    # floor : troncature à l'unité\n",
        "    alea = floor(rd.uniform(0,6))+1\n",
        "    return alea\n",
        "\n",
        "# Voir le 4 ci-dessous pour une version sans floor"
      ],
      "execution_count": 4,
      "outputs": []
    },
    {
      "cell_type": "code",
      "metadata": {
        "id": "U3hSEh9GKdm3",
        "outputId": "6c8d95f6-1bb8-421f-d105-7019872d7af9",
        "colab": {
          "base_uri": "https://localhost:8080/"
        }
      },
      "source": [
        "unifdiscrete(6)"
      ],
      "execution_count": 10,
      "outputs": [
        {
          "output_type": "execute_result",
          "data": {
            "text/plain": [
              "3"
            ]
          },
          "metadata": {
            "tags": []
          },
          "execution_count": 10
        }
      ]
    },
    {
      "cell_type": "markdown",
      "metadata": {
        "id": "l1kNs0RNJtiH"
      },
      "source": [
        "2. Simulation d'une loi de bernoulli"
      ]
    },
    {
      "cell_type": "code",
      "metadata": {
        "id": "58A8gy-2JtiI"
      },
      "source": [
        "import numpy as np\n",
        "from numpy import random as rd\n",
        "\n",
        "def bernoulli(p):\n",
        "    alea = rd.uniform(0,1)\n",
        "    if alea < p:\n",
        "        return 1\n",
        "    else:\n",
        "        return 0"
      ],
      "execution_count": null,
      "outputs": []
    },
    {
      "cell_type": "code",
      "metadata": {
        "id": "uB-TZnMRJtiN",
        "outputId": "25a0621d-14f0-4b34-89cd-f0e0cf0a9c6d"
      },
      "source": [
        "bernoulli(0.5)"
      ],
      "execution_count": null,
      "outputs": [
        {
          "output_type": "execute_result",
          "data": {
            "text/plain": [
              "0"
            ]
          },
          "metadata": {
            "tags": []
          },
          "execution_count": 36
        }
      ]
    },
    {
      "cell_type": "markdown",
      "metadata": {
        "id": "e--kTtV9JtiT"
      },
      "source": [
        "3. Simulation d'une loi binomiale"
      ]
    },
    {
      "cell_type": "code",
      "metadata": {
        "id": "z4Fl-A0UJtiU"
      },
      "source": [
        "import numpy as np\n",
        "from numpy import random as rd\n",
        "\n",
        "def binomiale(n,p):\n",
        "  succes = 0\n",
        "  for i in range(n):\n",
        "        alea = rd.uniform(0,1)\n",
        "        if alea < p:\n",
        "            succes = succes + 1\n",
        "  return succes"
      ],
      "execution_count": null,
      "outputs": []
    },
    {
      "cell_type": "code",
      "metadata": {
        "id": "ONtpE3-FJtia",
        "outputId": "d85484db-2739-4752-e921-4f643f0cbe6e"
      },
      "source": [
        "binomiale(10,0.5)"
      ],
      "execution_count": null,
      "outputs": [
        {
          "output_type": "execute_result",
          "data": {
            "text/plain": [
              "4"
            ]
          },
          "metadata": {
            "tags": []
          },
          "execution_count": 42
        }
      ]
    },
    {
      "cell_type": "markdown",
      "metadata": {
        "id": "akb0jxuqK3s6"
      },
      "source": [
        "4. Simulation d'une loi quelconque"
      ]
    },
    {
      "cell_type": "code",
      "metadata": {
        "id": "Ow7uV0egLD2P"
      },
      "source": [
        "import numpy as np\n",
        "from numpy import random as rd\n",
        "\n",
        "def loi():\n",
        "  # on construit la distribution par découpage de [0,1[\n",
        "  alea = rd.uniform(0,1)\n",
        "  if alea < 0.2:\n",
        "    return 7\n",
        "  elif alea >= 0.2 and alea < 0.5:\n",
        "    return 10\n",
        "  else:\n",
        "    return 3"
      ],
      "execution_count": 13,
      "outputs": []
    },
    {
      "cell_type": "code",
      "metadata": {
        "id": "CaWLvCloL4ZY",
        "outputId": "c0db19c8-72ec-43ae-d1d4-32f34031a3be",
        "colab": {
          "base_uri": "https://localhost:8080/"
        }
      },
      "source": [
        "loi()"
      ],
      "execution_count": 16,
      "outputs": [
        {
          "output_type": "execute_result",
          "data": {
            "text/plain": [
              "10"
            ]
          },
          "metadata": {
            "tags": []
          },
          "execution_count": 16
        }
      ]
    }
  ]
}