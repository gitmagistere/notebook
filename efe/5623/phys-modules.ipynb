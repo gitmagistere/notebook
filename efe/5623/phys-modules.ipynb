{
 "cells": [
  {
   "cell_type": "markdown",
   "metadata": {},
   "source": [
    "# Les modules ou comment utiliser des fonctions déjà inventées !\n",
    "\n",
    "Python possède de nombreuses fonctions qui ont déjà été écrites (par d'autres) et qui simplifient la vie du programmeur. Ces fonctions sont regroupées par modules. On peut y retrouver par exemple une fonction qui calcule un sinus, une fonction qui permet de lire les fichiers csv et encore beaucoup d’autres. Nous allons voir ici quatre modules dont nous pouvons avoir besoin pour le programme de lycée.\n"
   ]
  },
  {
   "cell_type": "markdown",
   "metadata": {},
   "source": [
    "## 1 - Module math\n",
    "Ce module permet d’accéder à un grand nombre de fonctions mathématiques (sinus, racine carrée, exponentielle, … ). Ce module est essentiel en science dès lors que des calculs avec des formules mathématiques sont nécessaire.\n",
    "\n",
    "Pour pourvoir utiliser ce module, il faut taper l’instruction :\n",
    "\n",
    "    import math #import signifie importer\n",
    " \n",
    "A présent, nous pouvons utiliser la fonction math.sin() qui permet de calculer un sinus, math.sqrt qui permet de calculer la racine carrée, etc...\n",
    "\n",
    "    a = math.sin(3.14159/2) \n",
    "    a = math.sin(math.pi/2) # cette ligne revient au même que la précédente car la constante nommée math.pi vaut 3.14159265… \n",
    "    b = math.sqrt(9) # b vaut 3.0 car sqrt calcule la racine carrée et le résultat est toujours un nombre décimal\n",
    "    \n",
    "### Exercice 1\n",
    "Calculer et afficher le cosinus de $\\frac{\\pi}{4}$ grâce à math.cos() et math.pi"
   ]
  },
  {
   "cell_type": "code",
   "execution_count": null,
   "metadata": {},
   "outputs": [],
   "source": [
    "# Mettre votre code ici"
   ]
  },
  {
   "cell_type": "markdown",
   "metadata": {},
   "source": [
    "## 2 - Le module Numpy : des tableaux pour les Sciences\n",
    "Le module Numpy permet la création et la manipulation de tableaux (vecteurs) dans Python. Python possède par défaut une structure de données appelée `liste` mais qui est parfois moins pratique à utiliser.\n",
    "\n",
    "Pour pourvoir utiliser ce module, il faut taper l’instruction :\n",
    "\n",
    "    import numpy as np # Il faudra mettre np devant toutes les fonctions appelées\n",
    "\n",
    "Voici quelques utilisations de base : \n",
    "\n",
    "### 2.1 - Création de tableaux\n",
    "##### ... à partir d’une liste"
   ]
  },
  {
   "cell_type": "code",
   "execution_count": null,
   "metadata": {},
   "outputs": [],
   "source": [
    "import numpy as np\n",
    "a1 = np.array([1,2,3,4])\n",
    "print(a1)"
   ]
  },
  {
   "cell_type": "markdown",
   "metadata": {},
   "source": [
    "##### ... à partir d’un intervalle et du nombre de d’éléments\n",
    "La fonction `linspace(debut, fin, nb)` génère `nb` valeurs entre `debut` et `fin` régulièrement espacés. \n",
    "\n",
    "Deux valeurs successives sont donc séparées de $\\frac{fin - debut}{nb-1}$."
   ]
  },
  {
   "cell_type": "code",
   "execution_count": null,
   "metadata": {},
   "outputs": [],
   "source": [
    "a2 = np.linspace(1,7,5)\n",
    "print(a2)"
   ]
  },
  {
   "cell_type": "markdown",
   "metadata": {},
   "source": [
    "##### ... à partir d’un intervalle et d’un pas\n",
    "La fonction `arange(debut, fin, p)` construit un tableau Numpy de debut à fin (fin n'est pas compris) avec un pas de p."
   ]
  },
  {
   "cell_type": "code",
   "execution_count": null,
   "metadata": {},
   "outputs": [],
   "source": [
    "a = np.arange(1,2,0.2)\n",
    "print(a)"
   ]
  },
  {
   "cell_type": "markdown",
   "metadata": {},
   "source": [
    "##### Créer un tableau vide\n",
    "Il est parfois utile de créer un tableau vide (rempli de zéros) dont les valeurs pourront être modifiées par la suite."
   ]
  },
  {
   "cell_type": "code",
   "execution_count": null,
   "metadata": {
    "collapsed": true
   },
   "outputs": [],
   "source": [
    "a = np.zeros(5)\n",
    "print(a)"
   ]
  },
  {
   "cell_type": "markdown",
   "metadata": {
    "collapsed": true
   },
   "source": [
    "### 2.2 - Manipulation de tableaux Numpy\n",
    "Il exitse une grosse différence entre les tableaux de Numpy et les tableaux (listes) de Python :\n",
    "- avec les tableaux de Numpy, les opérations sont souvent réalisées terme à terme\n",
    "- avec les listes de bas de Python, les opérations ont des définitions sur la structure elle-même\n",
    "\n",
    "#### Exemples sur des opérations de somme, multiplication, puissance et comparaison"
   ]
  },
  {
   "cell_type": "code",
   "execution_count": null,
   "metadata": {},
   "outputs": [],
   "source": [
    "# Avec le module Numpy\n",
    "# Les résultats sont \n",
    "import numpy as np\n",
    "a = np.array([1,2,3,4])\n",
    "b = np.array([2,2,2,2])\n",
    "print(a+b)\n",
    "print(a*5)\n",
    "print(a**2)\n",
    "print(a==b) # comparaiosn terme à terme"
   ]
  },
  {
   "cell_type": "code",
   "execution_count": null,
   "metadata": {},
   "outputs": [],
   "source": [
    "# avec les liste de Python\n",
    "liste1 = [1,2,3,4]\n",
    "liste2 = [2,2,2,2]\n",
    "print(liste1+liste2)\n",
    "print(liste1*5)\n",
    "# print(liste**2) : on ne peut pas prendre une puisance d'une liste Python\n",
    "print(liste1==liste2) # comparaison \"globale\""
   ]
  },
  {
   "cell_type": "markdown",
   "metadata": {
    "collapsed": true
   },
   "source": [
    "Le module Numpy intégre ses propres fonctions mathématiques :"
   ]
  },
  {
   "cell_type": "code",
   "execution_count": null,
   "metadata": {},
   "outputs": [],
   "source": [
    "a = np.array([1,2,3,4])\n",
    "np.sqrt(a)"
   ]
  },
  {
   "cell_type": "markdown",
   "metadata": {
    "collapsed": true
   },
   "source": [
    "### 2.3 - Importation et exportation de données\n",
    "\n",
    "La plupart des logiciels de traitement de données (ex. tableur, Regressi, Latis, . . . ) donne la possibilité d’importer ou d’exporter des données dans un fichier texte au format CSV avec l’extension .csv ou .txt.\n",
    "Le tableau de données suivant :\n",
    "\n",
    "| x | y  | z |\n",
    "|---|----|---|\n",
    "| 1 |  5 | 7 |\n",
    "| 2 | 10 | 6 |\n",
    "| 3 | 15 | 5 |\n",
    "| 4 | 20 | 4 |\n",
    "| 5 | 25 | 3 |\n",
    "\n",
    "s’écrit comme ci-dessous dans un fichier texte au format CSV nommé par exemple data.txt :\n",
    "\n",
    "    x,y,z\n",
    "    1,5,7\n",
    "    2,10,6\n",
    "    3,15,5\n",
    "    4,20,4\n",
    "\n",
    "- les données sont rangées en colonne ;\n",
    "- les valeurs sont séparées par une virgule, un point virgule ou une tabulation ;\n",
    "- la première ligne renseigne sur les noms des variables."
   ]
  },
  {
   "cell_type": "markdown",
   "metadata": {
    "collapsed": true
   },
   "source": [
    "##### Importation\n",
    "La fonction loadtxt() importe les données d’un fichier CSV et renvoie un tableau Numpy.\n",
    "- `delimiter=\",\"` pour signifier que les virgules séparent les valeurs.\n",
    "- `skiprows=1` pour indiquer que la première ligne ne contient pas de données.\n",
    "- L’option `unpack=True` transpose le tableau : donc, pour des données en colonne, le paramètre unpack doit être à True (`unpack=True`), pour des données en ligne, le paramètre unpack doit être à False (`unpack=False`)\n",
    "- L'affectation multiple (`x, y, z = ...`) permet d’obtenir toutes les variables d’un coup\n",
    "\n",
    "\n",
    "    import numpy as np\n",
    "    x,y,z = np.loadtxt(\"data.txt\",delimiter = \",\", skiprows = 1,unpack = True)\n",
    "\n",
    "- x va contenir : array([ 1., 2., 3., 4.])\n",
    "- y va contenir : array([ 5., 10., 15., 20.])\n",
    "- z va contenir : array([ 7., 6., 5., 4.])\n",
    "\n"
   ]
  },
  {
   "cell_type": "markdown",
   "metadata": {},
   "source": [
    "##### Exportation\n"
   ]
  },
  {
   "cell_type": "code",
   "execution_count": null,
   "metadata": {
    "collapsed": true
   },
   "outputs": [],
   "source": [
    "import numpy as np\n",
    "a = np.array([1,2,3,4]) # Données de la variable a\n",
    "b = np.array([5,6,7,8]) # Données de la variable b\n",
    "data = np.transpose([a,b]) # Transposition des données\n",
    "np.savetxt('data2.txt',data,delimiter=',',header='a,b',comments='') # Création du fichier CSV"
   ]
  },
  {
   "cell_type": "markdown",
   "metadata": {},
   "source": [
    "#### Exercice 2\n",
    "Créer un programme qui :\n",
    "- crée un premier vecteur t contenant des valeurs de 0 à 10 par pas de 0.1\n",
    "- qui calcule un deuxième vecteur correspondant à la position verticale y d'un point, initialement situé à 10m de hauteur, sachant que `y = -0.5*g*t**2 + 10` \n",
    "- puis, ce programme enregistre les deux vecteurs dans un fichier nommé 'trajectoire1.txt'"
   ]
  },
  {
   "cell_type": "markdown",
   "metadata": {},
   "source": [
    "## 3 - Le module Matplolib : pour tracer des graphiques\n",
    "Le module Matplotlib est une librairie Python pour la visualisation de courbes.\n",
    "\n",
    "    import matplolib.pyplot as plt # Il faudra mettre plt devant toutes les fonctions appelées\n",
    "\n",
    "Voici quelques utilisations de base : \n",
    "\n",
    "### 3.1 - Tracer une courbe à partir de données"
   ]
  },
  {
   "cell_type": "code",
   "execution_count": null,
   "metadata": {},
   "outputs": [],
   "source": [
    "import numpy as np\n",
    "import matplotlib.pyplot as plt\n",
    "\n",
    "x = np.array([0,1.01,2.02,2.99,3.98]) # Données en abscisse\n",
    "y = np.array([10.02,7.96,6.03,4.04,2.01]) # Données en ordonnée\n",
    "\n",
    "plt.plot(x,y,'+-')  # Tracé de la courbe, avec pour chaque point une petite croix (+)\n",
    "                    # et les point sont reliés (-)\n",
    "    \n",
    "plt.title('Titre graphique') # Ajout d'un titre\n",
    "plt.xlabel('x : abcisse') # Nom de la grandeur en abscisse\n",
    "plt.ylabel('y : ordonnée') # Nom de la grandeur en ordonnée\n",
    "\n",
    "plt.grid() # Ajout d'une grille\n",
    "\n",
    "plt.xlim(0,4) # Limites de l'échelle sur l'axe des x\n",
    "plt.ylim(0,11) # Limites de l'échelle sur l'axe des y\n",
    "\n",
    "plt.show() # Affichage"
   ]
  },
  {
   "cell_type": "markdown",
   "metadata": {},
   "source": [
    "- Le paramètre `+` dans plot() met en évidence les points par des croix sans les relier par des segments de droite.\n",
    "- Mais en ajoutant `-`, les points sont quand même reliés\n",
    "- Les fonctions `title()`, `xlabel()` et `ylabel()` permettent d'ajouter une titre et les légendes sur les axes.\n",
    "- La fonction grid() ajoute une grille."
   ]
  },
  {
   "cell_type": "markdown",
   "metadata": {},
   "source": [
    "### 3.2 Tracer une courbe à partir d’une fonction\n",
    "##### Cas d’une sinusoïde"
   ]
  },
  {
   "cell_type": "code",
   "execution_count": null,
   "metadata": {},
   "outputs": [],
   "source": [
    "import numpy as np\n",
    "import matplotlib.pyplot as plt\n",
    "\n",
    "x = np.linspace(0,10,100) # Création d'un tableau de valeurs pour x\n",
    "y = 10*np.sin(x) # Calcul de y à partir de la fonction mathématique\n",
    "\n",
    "plt.plot(x,y)   # Tracé de la courbe : snas paramètre, tracé sans les points visibles\n",
    "                # et les points sont reliés\n",
    "\n",
    "plt.title(\"A partir d'une fonction\") # Titre\n",
    "plt.xlabel('x') # Légende abscisse\n",
    "plt.ylabel('y') # Légende ordonnée\n",
    "\n",
    "plt.grid() # Ajout d'une grille\n",
    "\n",
    "plt.show() # Affichage"
   ]
  },
  {
   "cell_type": "markdown",
   "metadata": {},
   "source": [
    "##### Cas de deux sinusoïdes avec légende\n",
    "- dans la fonction `plot()`, le paramètre `label='...'` permet d’ajouter une étiquette dans la légende.\n",
    "- il faut ajouter la fonction `plt.legend()` pour faire afficher ces légendes"
   ]
  },
  {
   "cell_type": "code",
   "execution_count": null,
   "metadata": {
    "collapsed": true
   },
   "outputs": [],
   "source": [
    "import numpy as np\n",
    "import matplotlib.pyplot as plt\n",
    "\n",
    "x = np.linspace(1,10,100) # Création d'un tableau de valeurs pour x\n",
    "y1 = 10*np.sin(x) # Calcul de y1\n",
    "y2 = 6*np.sin(x-1) # Calcul de y2\n",
    "\n",
    "plt.plot(x,y1,label='10.sin(x)') # Tracé de la courbe y1 avec texte légende \n",
    "plt.plot(x,y2,label='6.sin(x-1)') # Tracé de la courbe y1 avec texte légende\n",
    "\n",
    "plt.title('Ma première courbe') # Titre\n",
    "plt.xlabel('x') # Légende abscisse\n",
    "plt.ylabel('y') # Légende ordonnée\n",
    "plt.legend() # Ajout de la légende\n",
    "\n",
    "plt.grid() # Ajout d'une grille\n",
    "plt.show() # Affichage"
   ]
  },
  {
   "cell_type": "markdown",
   "metadata": {},
   "source": [
    "### 3.3 - Tracer un histogramme\n",
    "Le module matplolib propose la fonction `hist()` pour l’affichage d’un histogramme à partir d’un tableau de mesures."
   ]
  },
  {
   "cell_type": "code",
   "execution_count": null,
   "metadata": {},
   "outputs": [],
   "source": [
    "import numpy as np\n",
    "import matplotlib.pyplot as plt\n",
    "\n",
    "x = np.array([5,6,4,7,6,7,6,8,6,5,6,5,3,9,4,6,5,8,7,6])\n",
    "\n",
    "plt.hist(x,range=(0,10),bins=10,rwidth = 0.8, align='left')\n",
    "plt.show()"
   ]
  },
  {
   "cell_type": "markdown",
   "metadata": {},
   "source": [
    "Dans la fonction `hist()` :\n",
    "- `range=(0,10)` fixe les limites de la plage d’étude du tableau de données.\n",
    "- `bins=10` est le nombre d’intervalles dans la plage d’étude.\n",
    "- `rwidth = 0.95` fixe la largeur des barres à 95% pour une meilleure visibilité.\n",
    "- `align='left'` permet de centrer les barres.\n",
    "\n",
    "Les fonctions du module Numpy **`mean()`** et **`std()`** calculent respectivement la valeur moyenne et l’écart type"
   ]
  },
  {
   "cell_type": "code",
   "execution_count": null,
   "metadata": {},
   "outputs": [],
   "source": [
    "freq, valx, opt = plt.hist(x,range=(0,10),bins=10,rwidth = 0.8, align='left')\n",
    "\n",
    "print(\"Valeur moyenne = \", np.mean(x))\n",
    "print(\"Ecart type = \",np.std(x).round(2))\n",
    "print('frequence = ',freq)\n",
    "print('valeurs x = ',valx)"
   ]
  },
  {
   "cell_type": "markdown",
   "metadata": {},
   "source": [
    "### 3.4 - Tracer des vecteurs\n",
    "Le module matplolib propose la fonction `quiver()` pour l’affichage de vecteurs."
   ]
  },
  {
   "cell_type": "code",
   "execution_count": null,
   "metadata": {
    "collapsed": true
   },
   "outputs": [],
   "source": [
    "plt.quiver(x0, y0, deltax, deltay, angles='xy')"
   ]
  },
  {
   "cell_type": "markdown",
   "metadata": {},
   "source": [
    "La commande précédente dessinera une flèche avec les caractéristiques suivantes : \n",
    "- x0 et y0 sont les coordonnées du point de départ \n",
    "- deltax et deltay sont les composantes du vecteur selon l’abscisse et l’ordonnée. \n",
    "- angles=’xy’ dessine une flèche qui a une direction cohérente avec l’échelle des axes.\n",
    "\n",
    "Si à l’affichage, la taille de la flèche est trop faible ou trop importante, il faudra rajouter deux paramètres : "
   ]
  },
  {
   "cell_type": "code",
   "execution_count": null,
   "metadata": {
    "collapsed": true
   },
   "outputs": [],
   "source": [
    "plt.quiver(x0, y0, deltax, deltay, angles='xy', scale=1, scale_units='xy')"
   ]
  },
  {
   "cell_type": "markdown",
   "metadata": {},
   "source": [
    "Si vous voulez agrandir la flèche choisissez une valeur de scale inférieure à 1. Si vous souhaitez rétrécir la flèche, choisissez une valeur de scale supérieure à 1."
   ]
  },
  {
   "cell_type": "markdown",
   "metadata": {},
   "source": [
    "#### Exercice 3\n",
    "**Question 1** : Tracer la trajectoire parabolique dont les positions sont : \n",
    "- posx=[-50, -40, -30, -20, -10, 0, 10, 20]\n",
    "- posy=[-123, -78, -43, -17, -1, 4, 0, -13]\n",
    "\n",
    "**Question 2** : Ajouter à ce tracé les vecteurs vitesses sont les coordonnées sont les suivantes :\n",
    "- vitessex = [10, 10, 10, 10, 10, 10, 10, 10] \n",
    "- vitessey = [50, 40, 30, 21, 11, 1, -9, -19] \n",
    "\n",
    "**Question 3** : Refaire la question 2 en calculant les coordonnées des vecteurs vitesses à l'aide des coordonnées de position"
   ]
  },
  {
   "cell_type": "code",
   "execution_count": 22,
   "metadata": {
    "collapsed": true
   },
   "outputs": [],
   "source": [
    "# Code de votre programme ici\n"
   ]
  },
  {
   "cell_type": "markdown",
   "metadata": {},
   "source": [
    "## 4 - Le module de calcul scientifique : Scipy\n",
    "\n",
    "Le module Scipy est une librairie Python pour effectuer rapidement et efficacement certains calcul scientifique.\n",
    "Pour l'importer : \n",
    "\n",
    "    from scipy import * # on importe ainsi toutes les fonctions scientifiques disponibles\n",
    "    \n",
    "Si on ne veut importer que quelques fonctions, on utilisera plutôt :\n",
    "\n",
    "    from scipy import interpolate\n",
    "\n",
    "ou \n",
    "    \n",
    "    from scipy import interpolate, linregress\n",
    "\n",
    "\n",
    "### 4.1 - Interpolation\n",
    "La fonction `scipy.interpolate.interp1d()` retourne une fonction à une dimension interpolée à partir d’une série\n",
    "de points."
   ]
  },
  {
   "cell_type": "code",
   "execution_count": null,
   "metadata": {
    "collapsed": true
   },
   "outputs": [],
   "source": [
    "import numpy as np\n",
    "import matplotlib.pyplot as plt\n",
    "from scipy import interpolate\n",
    "\n",
    "x = np.array([0,1,2,3,4,5,6,7,8,9])\n",
    "y = np.array([1.,0.720,0.511,0.371,0.260,0.190,0.133,0.099,0.069,0.048])\n",
    "\n",
    "# Interpolation\n",
    "f = interpolate.interp1d(x, y, kind='cubic') # ou kind = 'linear'\n",
    "\n",
    "xnew = np.linspace(0,9,50) # Nouvelle abscisse pour f(x)\n",
    "ynew = f(xnew) # Calcul des ordonnées de f(x)\n",
    "\n",
    "plt.plot(xnew, ynew, '-') # Tracé de la fonction\n",
    "plt.plot(x, y, 'x') # Tracé des points\n",
    "plt.show()"
   ]
  },
  {
   "cell_type": "markdown",
   "metadata": {},
   "source": [
    "### 4.2 - Régression linéaire\n",
    "La fonction `scipy.stats.linregress()` retourne les paramètres de la régression linéaire d’une série de points."
   ]
  },
  {
   "cell_type": "code",
   "execution_count": null,
   "metadata": {
    "collapsed": true
   },
   "outputs": [],
   "source": [
    "import numpy as np\n",
    "import matplotlib.pyplot as plt\n",
    "from scipy.stats import linregress\n",
    "\n",
    "x = np.array([0,1.01,2.02,2.99,3.98])\n",
    "y = np.array([9.52,7.96,6.3,3.06,2.01])\n",
    "\n",
    "a,b,rho,_,_ = linregress(x,y) # Régression linéaire\n",
    "print(\"a = \",a) # Affichage de coefficient directeur\n",
    "print(\"b = \",b) # Affichage de l'ordonnée à l'origine\n",
    "print(\"rho = \",rho) # Affichage du coefficient de corrélation linéaire\n",
    "\n",
    "xnew = np.linspace(0,4,50) # Nouvelle abscisse\n",
    "ynew = a*xnew+b # Ordonnées de la fonction affine\n",
    "\n",
    "plt.plot(xnew,ynew,'-',x,y,'x') # Tracé des points et de la fonction affine\n",
    "plt.title('Régression linéaire') # Titre\n",
    "plt.xlabel('x') # Etiquette en abscisse\n",
    "plt.xlim(-1,5) # Echelle en abscisse\n",
    "plt.ylabel('y') # Etiquette en ordonnée\n",
    "plt.ylim(0,12) # Echelle en ordonnée\n",
    "plt.show()"
   ]
  },
  {
   "cell_type": "markdown",
   "metadata": {},
   "source": [
    "### 4.3 - Modélisation à partir d’un polynome\n",
    "Cas d’une trajectoire parabolique de la forme :\n",
    "$\\ y = a \\times x^2 + b \\times x + c$"
   ]
  },
  {
   "cell_type": "code",
   "execution_count": null,
   "metadata": {
    "collapsed": true
   },
   "outputs": [],
   "source": [
    "import matplotlib.pyplot as plt\n",
    "import numpy as np\n",
    "\n",
    "# Donnée expérimentale\n",
    "T = [0.0, 0.04, 0.08, 0.12, 0.16, 0.2, 0.24, 0.28, 0.32, 0.36, 0.4, 0.44, 0.48, 0.52, 0.56, 0.6,␣\n",
    ",!0.64, 0.68, 0.72, 0.76, 0.8, 0.84, 0.88, 0.92]\n",
    "\n",
    "X = [-0.953328037081172, -0.879995111151852, -0.799995555592592, -0.716662685218364, -0.\n",
    ",!636663129659105, -0.559996888914815, -0.479997333355555, -0.393331148166358, -0.313331592607099,\n",
    ",! -0.233332037047839, -0.149999166673611, -0.066666296299383, 0.013333259259877, 0.\n",
    ",!096666129634105, 0.179999000008333, 0.259998555567592, 0.343331425941821, 0.426664296316049, 0.\n",
    ",!506663851875308, 0.586663407434568, 0.663329648178858, 0.743329203738117, 0.819995444482407, 0.\n",
    ",!893328370411728]\n",
    "\n",
    "Y = [-0.046666407409568, 0.069999611114352, 0.166665740748457, 0.253331925937654, 0.\n",
    ",!326664851866975, 0.389997833351389, 0.433330925945988, 0.469997388910648, 0.486663962985494, 0.\n",
    ",!493330592615432, 0.489997277800463, 0.469997388910648, 0.433330925945988, 0.38666451853642, 0.\n",
    ",!323331537052006, 0.249998611122685, 0.156665796303549, 0.053333037039506, -0.063332981484414, -\n",
    ",!0.189998944453241, -0.333331481496913, -0.486663962985494, -0.65332970373395, -0.\n",
    ",!789995611147685]\n",
    "\n",
    "a, b, c = np.polyfit(X,Y,2) # Modélisation par un polynome de degré 2\n",
    "print(\"a = \", a) # Affichage\n",
    "print(\"b = \", b)\n",
    "print(\"c = \", c)\n",
    "\n",
    "X = np.array(X) # Création d'un tableau Numpy pour X\n",
    "Y_modele = a*X**2+b*X+c # Création d'un tableau Numpy pour Y du modèle\n",
    "\n",
    "plt.plot(X,Y,'b+', label = 'trajectoire') # Courbe des mesures\n",
    "plt.plot(X, Y_modele, 'r-', label = \"modèle\") # Courbe du modèle\n",
    "plt.xlabel(\"x\") # Etiquette en abscisse\n",
    "plt.ylabel(\"y\") # Etiquette en ordonnée\n",
    "plt.title(\"Trajectoire et modèle associé\") # Titre\n",
    "plt.legend() # Affichage légend\n",
    "plt.show() # Affichage fenêtre"
   ]
  }
 ],
 "metadata": {
  "kernelspec": {
   "display_name": "Python 3",
   "language": "python",
   "name": "python3"
  },
  "language_info": {
   "codemirror_mode": {
    "name": "ipython",
    "version": 3
   },
   "file_extension": ".py",
   "mimetype": "text/x-python",
   "name": "python",
   "nbconvert_exporter": "python",
   "pygments_lexer": "ipython3",
   "version": "3.6.3"
  },
  "varInspector": {
   "cols": {
    "lenName": 16,
    "lenType": 16,
    "lenVar": 40
   },
   "kernels_config": {
    "python": {
     "delete_cmd_postfix": "",
     "delete_cmd_prefix": "del ",
     "library": "var_list.py",
     "varRefreshCmd": "print(var_dic_list())"
    },
    "r": {
     "delete_cmd_postfix": ") ",
     "delete_cmd_prefix": "rm(",
     "library": "var_list.r",
     "varRefreshCmd": "cat(var_dic_list()) "
    }
   },
   "types_to_exclude": [
    "module",
    "function",
    "builtin_function_or_method",
    "instance",
    "_Feature"
   ],
   "window_display": false
  }
 },
 "nbformat": 4,
 "nbformat_minor": 2
}
