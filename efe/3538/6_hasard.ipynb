{
 "cells": [
  {
   "cell_type": "markdown",
   "metadata": {},
   "source": [
    "# Le Hasard"
   ]
  },
  {
   "cell_type": "markdown",
   "metadata": {},
   "source": [
    "En informatique, le \"vrai\" hasard n'existe pas ! On ne fait que l'imiter à l'aide d'algorithmes, on parle alors de \"pseudo-hasard\".\n",
    "\n",
    "Le module qui gère l'aléatoire en Python est random. Il est, comme les autres modules, nécessaire de l'importer à l'aide de import.. comme ci-dessous :"
   ]
  },
  {
   "cell_type": "code",
   "execution_count": null,
   "metadata": {},
   "outputs": [],
   "source": [
    "import random"
   ]
  },
  {
   "cell_type": "markdown",
   "metadata": {},
   "source": [
    "## Les nombres"
   ]
  },
  {
   "cell_type": "markdown",
   "metadata": {},
   "source": [
    "Plusieurs possibilités s'offrent à nous :\n",
    "\n",
    "- On peut choisir un nombre aléatoire, de type flottant, entre 0 et 1\n",
    "- On peut choisir un nombre aléatoire, de type flottant, entre les bornes a et b\n",
    "- On peut choisir un nombre aléatoire, de type entier, entre les bornes a et b (a et b compris)\n",
    "- On peut choisir un nombre aléatoire, de type entier, entre les bornes a et b (a compris et b non compris)\n",
    "\n",
    "Tester les codes suivants :\n"
   ]
  },
  {
   "cell_type": "code",
   "execution_count": null,
   "metadata": {},
   "outputs": [],
   "source": [
    "random.random()"
   ]
  },
  {
   "cell_type": "code",
   "execution_count": null,
   "metadata": {},
   "outputs": [],
   "source": [
    "random.uniform(1,6)"
   ]
  },
  {
   "cell_type": "code",
   "execution_count": null,
   "metadata": {},
   "outputs": [],
   "source": [
    "random.randint(1,6)"
   ]
  },
  {
   "cell_type": "code",
   "execution_count": null,
   "metadata": {},
   "outputs": [],
   "source": [
    "random.randrange(1,6)"
   ]
  },
  {
   "cell_type": "markdown",
   "metadata": {},
   "source": [
    "> ### Exercice 1 (simulation d'un lancé de dé)\n",
    "> Ecrire une fonction qui prend pour valeur un entier n (nombre de lancés) et qui renvoie une liste de n valeurs entières prises aléatoirement entre 1 et 6"
   ]
  },
  {
   "cell_type": "code",
   "execution_count": null,
   "metadata": {},
   "outputs": [],
   "source": [
    "def lances(n):  "
   ]
  },
  {
   "cell_type": "markdown",
   "metadata": {},
   "source": [
    "> ### Exercice 2 \n",
    "> Compléter la fonction de l'exercice 1, afin d'afficher seulement la fréquence d'apparition du chiffre 2."
   ]
  },
  {
   "cell_type": "code",
   "execution_count": null,
   "metadata": {},
   "outputs": [],
   "source": []
  },
  {
   "cell_type": "markdown",
   "metadata": {},
   "source": [
    "> ### Exercice 3 (le nombre mystère)\n",
    "> - Générer un nombre aléatoire, appelez-le N.\n",
    "> - Écrire une fonction qui demande à l'utilisateur d'entrer un nombre et qui renvoie \"trouvé !\" si le nombre donné est égal à N et qui renvoie sinon \"Pas trouvé !\"."
   ]
  },
  {
   "cell_type": "code",
   "execution_count": null,
   "metadata": {},
   "outputs": [],
   "source": []
  },
  {
   "cell_type": "markdown",
   "metadata": {},
   "source": [
    "> ### Exercice 4\n",
    "> Compléter la fonction de l'exercice 3 afin que l'utilisateur continue d'essayer tant qu'il ne trouve pas. Vous afficherez finalement le nombre d'essais."
   ]
  },
  {
   "cell_type": "code",
   "execution_count": null,
   "metadata": {},
   "outputs": [],
   "source": []
  },
  {
   "cell_type": "markdown",
   "metadata": {},
   "source": [
    "## Avec les listes :"
   ]
  },
  {
   "cell_type": "markdown",
   "metadata": {},
   "source": [
    "Prenons la liste des lettres \"minuscules\" de l'alphabet :"
   ]
  },
  {
   "cell_type": "code",
   "execution_count": null,
   "metadata": {},
   "outputs": [],
   "source": [
    "liste=[\"a\",\"b\",\"c\",\"d\",\"e\",\"f\",\"g\",\"h\",\"i\",\"j\",\"k\",\"l\",\"m\",\"n\",\"o\",\"p\",\"q\",\"r\",\"s\",\"t\",\"u\",\"v\",\"w\",\"x\",\"y\",\"z\"]\n"
   ]
  },
  {
   "cell_type": "markdown",
   "metadata": {},
   "source": [
    "On peut faire un choix aléatoire dans la liste :"
   ]
  },
  {
   "cell_type": "code",
   "execution_count": null,
   "metadata": {},
   "outputs": [],
   "source": [
    "random.choice(liste)"
   ]
  },
  {
   "cell_type": "markdown",
   "metadata": {},
   "source": [
    "On peut faire un choix de plusieurs lettres dans la liste (on tire alors un échantillon issu de cette liste, ici de taille 3) :"
   ]
  },
  {
   "cell_type": "code",
   "execution_count": null,
   "metadata": {},
   "outputs": [],
   "source": [
    "random.sample(liste,3)"
   ]
  },
  {
   "cell_type": "markdown",
   "metadata": {},
   "source": [
    "On peut mélanger la liste :"
   ]
  },
  {
   "cell_type": "code",
   "execution_count": null,
   "metadata": {},
   "outputs": [],
   "source": [
    "random.shuffle(liste)\n",
    "print(liste)"
   ]
  },
  {
   "cell_type": "markdown",
   "metadata": {},
   "source": [
    "> ### Exercice 5\n",
    "> Écrire une fonction qui permet de générer aléatoirement un mot de passe de 8 caractères, parmi les lettres minuscules de l'alphabet et les 10 chiffres. Vous afficherez le mot de passe comme une chaîne de caractères et non comme une liste."
   ]
  }
 ],
 "metadata": {
  "kernelspec": {
   "display_name": "Python 3",
   "language": "python",
   "name": "python3"
  },
  "language_info": {
   "codemirror_mode": {
    "name": "ipython",
    "version": 3
   },
   "file_extension": ".py",
   "mimetype": "text/x-python",
   "name": "python",
   "nbconvert_exporter": "python",
   "pygments_lexer": "ipython3",
   "version": "3.7.4"
  }
 },
 "nbformat": 4,
 "nbformat_minor": 2
}
