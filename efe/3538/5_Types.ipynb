{
 "cells": [
  {
   "cell_type": "markdown",
   "metadata": {},
   "source": [
    "# Les booléens\n",
    "Un booléen est un type particulier de variable qui ne peut prendre que **deux valeurs** : Vrai (True) ou Faux (False). C'est en particulier ce type qui est utilisé pour les tests dans les structures conditionnelles ou les boucles non bornées."
   ]
  },
  {
   "cell_type": "code",
   "execution_count": null,
   "metadata": {},
   "outputs": [],
   "source": [
    "a = 2\n",
    "b = 3\n",
    "c = (a == b)\n",
    "d = (a <= b)\n",
    "print(type(c), type(d))\n",
    "print(f'c est {c}')\n",
    "print(f'd est {d}')"
   ]
  },
  {
   "cell_type": "code",
   "execution_count": null,
   "metadata": {},
   "outputs": [],
   "source": [
    "a = 'spam'\n",
    "b = 'spam spam'\n",
    "c = 'spam'\n",
    "print(a == b)\n",
    "print(a == c)"
   ]
  },
  {
   "cell_type": "markdown",
   "metadata": {},
   "source": [
    "# Les nombres, entiers et décimaux"
   ]
  },
  {
   "cell_type": "markdown",
   "metadata": {},
   "source": [
    "Nous signalerons juste leurs types, « int » pour les entiers et « float » (flottant) pour les décimaux. "
   ]
  },
  {
   "cell_type": "code",
   "execution_count": null,
   "metadata": {},
   "outputs": [],
   "source": [
    "a = 42\n",
    "b = 3.14\n",
    "print(a, type(a), b, type(b))\n",
    "c = a + b\n",
    "d = 2 * a\n",
    "print(c, type(c), d, type(d))"
   ]
  },
  {
   "cell_type": "markdown",
   "metadata": {},
   "source": [
    "# Les chaines de caractères\n",
    "Les chaines de caractère (string ou str pour Python) représentent, comme leur nom l'indique, des morceaux de **texte**. Une chaine de caractères se déclare en étant encadrée par des guillemets simples comme 'spam', ou doubles comme \"spam\". "
   ]
  },
  {
   "cell_type": "code",
   "execution_count": null,
   "metadata": {},
   "outputs": [],
   "source": [
    "chaine = 'spam'\n",
    "print(chaine, type(chaine))"
   ]
  },
  {
   "cell_type": "markdown",
   "metadata": {},
   "source": [
    "Les guillemets doubles permettent en particulier d'utiliser une apostrophe (un guillet simple) dans une chaine :"
   ]
  },
  {
   "cell_type": "code",
   "execution_count": null,
   "metadata": {},
   "outputs": [],
   "source": [
    "chaine = \"j'aime pas les spam !\"\n",
    "print(chaine)"
   ]
  },
  {
   "cell_type": "markdown",
   "metadata": {},
   "source": [
    "Comme on l'a déjà vu, il est possible **d'itérer** (de parcourir, par exemple dans une boucle) sur une chaine de caractères : "
   ]
  },
  {
   "cell_type": "code",
   "execution_count": null,
   "metadata": {},
   "outputs": [],
   "source": [
    "for caractere in chaine:\n",
    "    print(caractere)"
   ]
  },
  {
   "cell_type": "markdown",
   "metadata": {},
   "source": [
    "Il est possible de **concacténer** deux chaines de caractères simplement avec le symbole '+' :"
   ]
  },
  {
   "cell_type": "code",
   "execution_count": null,
   "metadata": {},
   "outputs": [],
   "source": [
    "a = 'spam, '\n",
    "b = \"egg, bacon and spam\"\n",
    "c = ' !'\n",
    "d = a + b + c\n",
    "print(d)"
   ]
  },
  {
   "cell_type": "markdown",
   "metadata": {},
   "source": [
    "Les chaines de caractères proposent de nombreuses **méthodes** pour les manipuler, que nous ne détaillerons pas. Nous signalerons juste ici la méthode 'split' qui permet de transformer une chaine en la liste de ses mots :"
   ]
  },
  {
   "cell_type": "code",
   "execution_count": null,
   "metadata": {},
   "outputs": [],
   "source": [
    "mots = chaine.split(sep = ' ')\n",
    "print(mots)"
   ]
  },
  {
   "cell_type": "markdown",
   "metadata": {},
   "source": [
    "# Les listes\n",
    "Les listes sont certainement l'un des types les plus utiles et les plus utilisés en Python. Une liste est une collection **indexée** d'objets quelconques. Elle se déclare entre crochets."
   ]
  },
  {
   "cell_type": "code",
   "execution_count": null,
   "metadata": {},
   "outputs": [],
   "source": [
    "maliste = [1, 'spam', 36, 'monty', True]\n",
    "print(maliste, type(maliste))"
   ]
  },
  {
   "cell_type": "code",
   "execution_count": null,
   "metadata": {},
   "outputs": [],
   "source": [
    "for element in maliste:\n",
    "    print(element)"
   ]
  },
  {
   "cell_type": "markdown",
   "metadata": {},
   "source": [
    "Une liste est indexée : chaque élément possède un index, un rang qui permet de le retrouver : "
   ]
  },
  {
   "cell_type": "code",
   "execution_count": null,
   "metadata": {},
   "outputs": [],
   "source": [
    "print(maliste[1], maliste[0], maliste[-1], sep = '\\n')"
   ]
  },
  {
   "cell_type": "markdown",
   "metadata": {},
   "source": [
    "Le premier éléments d'une liste porte l'index 0. Ici, le dernier élément porte l'index 4, ou -1.\n",
    "\n",
    "On peut également découper une liste en tranches (faire du « slicing ») :"
   ]
  },
  {
   "cell_type": "code",
   "execution_count": null,
   "metadata": {},
   "outputs": [],
   "source": [
    "print(maliste[1:3])\n",
    "print(maliste[0:2])\n",
    "print(maliste[1:2])\n",
    "print(maliste[:3])\n",
    "print(maliste[2:])"
   ]
  },
  {
   "cell_type": "markdown",
   "metadata": {},
   "source": [
    "On retiendra que maliste[a:b] est une nouvelle liste, formée des éléments de la liste originale dont l'index est dans l'intervalle [a:b[."
   ]
  },
  {
   "cell_type": "markdown",
   "metadata": {},
   "source": [
    "La longueur d'une liste est donnée par « len(liste) » :"
   ]
  },
  {
   "cell_type": "code",
   "execution_count": null,
   "metadata": {},
   "outputs": [],
   "source": [
    "len(maliste)"
   ]
  },
  {
   "cell_type": "markdown",
   "metadata": {},
   "source": [
    "A nouveau, il existe de très nombreuses méthodes pour manipuler les listes. Nous en mentionnerons trois ici, parmi les plus utilisées. La méthode « append » permet d'ajouter un élément **à la fin** d'une liste."
   ]
  },
  {
   "cell_type": "code",
   "execution_count": null,
   "metadata": {},
   "outputs": [],
   "source": [
    "maliste.append('bonjour')\n",
    "print(maliste)"
   ]
  },
  {
   "cell_type": "markdown",
   "metadata": {},
   "source": [
    "Ceci est très souvent utilisé pour construire des listes, en partant d'une liste vide. Par exemple, la liste suivante contiendra tous les multiples de 7 compris entre 0 et 100 :"
   ]
  },
  {
   "cell_type": "code",
   "execution_count": null,
   "metadata": {},
   "outputs": [],
   "source": [
    "multiples = []\n",
    "k = 0\n",
    "while 7*k <= 100:\n",
    "    multiples.append(7*k)\n",
    "    k = k + 1\n",
    "print(multiples)"
   ]
  },
  {
   "cell_type": "markdown",
   "metadata": {},
   "source": [
    "La méthode « index » permet d'obtenir le rang d'un élément d'une liste : "
   ]
  },
  {
   "cell_type": "code",
   "execution_count": null,
   "metadata": {},
   "outputs": [],
   "source": [
    "maliste.index('spam')"
   ]
  },
  {
   "cell_type": "markdown",
   "metadata": {},
   "source": [
    "Et la méthode « join » permet de rassembler les éléments d'une liste pour former une chaine de caractères. A noter que cette méthode s'applique en fait à un objet de type « str » et renvoie un objet de type « list »"
   ]
  },
  {
   "cell_type": "code",
   "execution_count": null,
   "metadata": {},
   "outputs": [],
   "source": [
    "mots = ['I', \"don't\", 'like', 'spam', '!']\n",
    "phrase = \" \".join(mots)\n",
    "print(mots)\n",
    "print(phrase)"
   ]
  },
  {
   "cell_type": "markdown",
   "metadata": {},
   "source": [
    "Un dernier point : il est également possible de fabriquer des listes **par compréhension**. C'est une manière particulièrement concise et élégante de construire des listes. Considérez le code suivant :"
   ]
  },
  {
   "cell_type": "code",
   "execution_count": null,
   "metadata": {},
   "outputs": [],
   "source": [
    "mot = 'spam'\n",
    "lettres = [lettre for lettre in mot]\n",
    "print(lettres, type(lettres))"
   ]
  },
  {
   "cell_type": "markdown",
   "metadata": {},
   "source": [
    "# Exercices"
   ]
  },
  {
   "cell_type": "markdown",
   "metadata": {},
   "source": [
    "> ## Exercice 1\n",
    "> Construire une liste qui contiendra les carrés des entiers compris entre 0 et 10 ([0, 1, 4, 9, ..., 100])"
   ]
  },
  {
   "cell_type": "code",
   "execution_count": null,
   "metadata": {},
   "outputs": [],
   "source": [
    "# Tapez votre code ici"
   ]
  },
  {
   "cell_type": "markdown",
   "metadata": {},
   "source": [
    "> ## Exercice 2\n",
    "> Ecrire une fonction qui prend une phrase pour argument, et qui renvoie son avant-dernier mot. "
   ]
  },
  {
   "cell_type": "code",
   "execution_count": null,
   "metadata": {},
   "outputs": [],
   "source": [
    "# Tapez votre code ici"
   ]
  },
  {
   "cell_type": "markdown",
   "metadata": {},
   "source": [
    "# Synthèse"
   ]
  },
  {
   "cell_type": "markdown",
   "metadata": {},
   "source": [
    "Il existe de nombreux **types d'objets** en Python. Parmi les plus souvent utilisés, nous retiendrons : \n",
    "- Les **booléens**, qui prennent pour valeur **True** ou **False**, et qui permettent de faire des tests ;\n",
    "- Les nombres, entiers « int » et décimaux « float » ;\n",
    "- Les **chaines** « str » qui permettent de manipuler du texte ;\n",
    "- Les **listes**, qui sont des collections **indexées** d'objets divers ;"
   ]
  },
  {
   "cell_type": "code",
   "execution_count": null,
   "metadata": {},
   "outputs": [],
   "source": []
  }
 ],
 "metadata": {
  "kernelspec": {
   "display_name": "Python 3",
   "language": "python",
   "name": "python3"
  },
  "language_info": {
   "codemirror_mode": {
    "name": "ipython",
    "version": 3
   },
   "file_extension": ".py",
   "mimetype": "text/x-python",
   "name": "python",
   "nbconvert_exporter": "python",
   "pygments_lexer": "ipython3",
   "version": "3.7.4"
  }
 },
 "nbformat": 4,
 "nbformat_minor": 4
}
