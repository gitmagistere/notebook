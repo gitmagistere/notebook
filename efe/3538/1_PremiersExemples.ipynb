{
 "cells": [
  {
   "cell_type": "markdown",
   "metadata": {},
   "source": [
    "# Découverte du langage au travers de premiers exemples\n",
    "\n",
    "\n",
    "La résolution de problèmes est au centre des apprentissages dans les programmes en mathématiques. Cette résolution s’appuie sur les différents raisonnements mathématiques auxquels sont confrontés les élèves, mais elle s’appuie aussi sur les outils, notamment outils numériques qu’ils ont à leur disposition.\n",
    "\n",
    "La pensée algorithmique, et de fait la programmation, encourage la résolution de problèmes, le raisonnement et aussi, voir surtout, la créativité !\n",
    "\n",
    "Le programmeur cherche, crée, trouve ou même ne trouve pas… mais exploite dans ces cas-là, sa capacité de résolution pour trouver ce qui ne va pas !\n",
    "\n",
    "La programmation est une chose amusante, pleine de défi mais aussi de frustrations. Apprendre la programmation est un dur labeur. Il ne s’agit pas seulement d’apprendre la syntaxe propre à un langage, il s’agit aussi et surtout de comprendre de quoi est fait ce programme, comment est fait ce programme et ce que fait ce programme.\n",
    "\n",
    "Dans cette formation, nous travaillerons sur l'apprentissage du langage Python, largement préconisé pour les lycéens, pour sa facilité de lecture, voir même d'écriture. Vous verrez plus tard, que les formes des programmes sont assez similaires, les bases étant les variables, les fonctions avec des affectations, des tests, des boucles. Rappelez-vous, dans scratch cette base était également présente.\n",
    "\n",
    "Arrêtons de discuter et mettons-nous au travail. Un premier exercice, consiste à écrire un programme qui permet d'échanger les valeurs de deux variables a et b. Voyons cela de plus près :\n"
   ]
  },
  {
   "cell_type": "code",
   "execution_count": null,
   "metadata": {},
   "outputs": [],
   "source": [
    "a=12\n",
    "b=8\n",
    "print(\"La valeur de a est :\",a,\"et la valeur de b est :\",b)\n",
    "c=a\n",
    "a=b\n",
    "b=c\n",
    "print(\"La valeur de a est :\",a,\"et la valeur de b est :\",b)"
   ]
  },
  {
   "cell_type": "markdown",
   "metadata": {},
   "source": [
    "Ce programme permet d'échanger seulement les valeurs 12 et 8. Il serait préférable de demander à l'utilisateur les valeurs qu'il veut échanger non ? Voyons cela :\n"
   ]
  },
  {
   "cell_type": "code",
   "execution_count": null,
   "metadata": {},
   "outputs": [],
   "source": [
    "a=int(input(\"Entrez une valeur entière :\"))\n",
    "b=int(input(\"Entrez une valeur entière :\"))\n",
    "print(\"La valeur de a est :\",a,\"et la valeur de b est :\",b)\n",
    "c=a\n",
    "a=b\n",
    "b=c\n",
    "print(\"La valeur de a est :\",a,\"et la valeur de b est :\",b)"
   ]
  },
  {
   "cell_type": "markdown",
   "metadata": {},
   "source": [
    "Super ça marche ! Mais maintenant, si je veux dans un programme, par exemple dans une liste de valeurs échanger, effectuer plusieurs échanges, nous devrons dans ce cas-là écrire à chaque échange les lignes de codes ci-dessus... Pas terrible comme technique, vous trouvez pas ? Nous allons, si vous voulez bien écrire notre programme dans une fonction, comme on le faisait déjà avec Scratch et ses blocs, allons-y :"
   ]
  },
  {
   "cell_type": "code",
   "execution_count": null,
   "metadata": {},
   "outputs": [],
   "source": [
    "def echange(a,b):\n",
    "    print(\"La valeur de a est :\",a,\"et la valeur de b est :\",b)\n",
    "    c=a\n",
    "    a=b\n",
    "    b=c\n",
    "    print(\"Après l'échange, la valeur de a est :\",a,\"et la valeur de b est :\",b)    "
   ]
  },
  {
   "cell_type": "markdown",
   "metadata": {},
   "source": [
    "Vous voulez effectuer plusieurs échanges de valeurs de variables, pas de problème :"
   ]
  },
  {
   "cell_type": "code",
   "execution_count": null,
   "metadata": {},
   "outputs": [],
   "source": [
    "a=int(input(\"Entrez une valeur entière :\"))\n",
    "b=int(input(\"Entrez une valeur entière :\"))\n",
    "echange(a,b)\n",
    "a=int(input(\"Entrez une valeur entière :\"))\n",
    "b=int(input(\"Entrez une valeur entière :\"))\n",
    "echange(a,b)\n",
    "a=int(input(\"Entrez une valeur entière :\"))\n",
    "b=int(input(\"Entrez une valeur entière :\"))\n",
    "echange(a,b)"
   ]
  },
  {
   "cell_type": "markdown",
   "metadata": {},
   "source": [
    "Bingo ! Vous venez de créer votre première fonction.. Pas mal non ? Vous imaginez bien, que l'on peut encore simplifier les choses non ? Bien, oui on a écrit 3 fois la même chose, on va donc comme avec Scratch utiliser répéter 3 fois... avec Python c'est la boucle for, mais c'est pareil... Voyons cela :"
   ]
  },
  {
   "cell_type": "code",
   "execution_count": null,
   "metadata": {},
   "outputs": [],
   "source": [
    "for i in range(3):\n",
    "    a=int(input(\"Entrez une valeur entière :\"))\n",
    "    b=int(input(\"Entrez une valeur entière :\"))\n",
    "    echange(a,b)"
   ]
  },
  {
   "cell_type": "markdown",
   "metadata": {},
   "source": [
    "Et oui, ça marche encore ! Maintenant, à vous de jouer, seuls..."
   ]
  },
  {
   "cell_type": "markdown",
   "metadata": {},
   "source": [
    "Ecrire une fonction qui prend pour arguments deux valeurs a et b et qui renvoie la valeur la plus petite des deux :\n"
   ]
  },
  {
   "cell_type": "code",
   "execution_count": null,
   "metadata": {},
   "outputs": [],
   "source": [
    "def min(a,b):\n",
    "    "
   ]
  },
  {
   "cell_type": "markdown",
   "metadata": {},
   "source": [
    "# Synthèse\n",
    "\n",
    "- Avant d'écrire un programme, il est nécessaire de penser à l'algorithme à mettre en place. Ne pas hésiter à utiliser des schémas ;\n",
    "- Un programme bien écrit est un programme structuré ;\n",
    "- Un programme structuré est un programme bien pensé !"
   ]
  }
 ],
 "metadata": {
  "kernelspec": {
   "display_name": "Python 3",
   "language": "python",
   "name": "python3"
  },
  "language_info": {
   "codemirror_mode": {
    "name": "ipython",
    "version": 3
   },
   "file_extension": ".py",
   "mimetype": "text/x-python",
   "name": "python",
   "nbconvert_exporter": "python",
   "pygments_lexer": "ipython3",
   "version": "3.7.4"
  }
 },
 "nbformat": 4,
 "nbformat_minor": 4
}
