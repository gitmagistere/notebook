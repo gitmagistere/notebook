{
  "nbformat": 4,
  "nbformat_minor": 0,
  "metadata": {
    "colab": {
      "name": "MonteCarlo.ipynb",
      "provenance": [],
      "collapsed_sections": []
    },
    "kernelspec": {
      "name": "python3",
      "display_name": "Python 3"
    },
    "language_info": {
      "name": "python"
    }
  },
  "cells": [
    {
      "cell_type": "code",
      "metadata": {
        "colab": {
          "base_uri": "https://localhost:8080/",
          "height": 333
        },
        "id": "nJjMs8gapM4t",
        "outputId": "7ac55f7a-45be-4015-ac57-b2d06850bbf7"
      },
      "source": [
        "# Importation des bibliothèques\n",
        "\n",
        "import numpy as np\n",
        "import numpy.random as rd\n",
        "import matplotlib.pyplot as plt    \n",
        "\n",
        "# Entrée des données\n",
        "l = 21\n",
        "e_l = .05\n",
        "L = 29.7\n",
        "e_L = .05\n",
        "\n",
        "# nombre de simulations Monte-Carlo\n",
        "N = 100000 \n",
        "\n",
        "# Simulations\n",
        "l_MC = l + rd.uniform(-e_l, e_l, N) # N valeurs aléatoires, entre l-e_l et l+e_l\n",
        "L_MC = L + rd.uniform(-e_L, e_L, N) # N valeurs aléatoires, entre L-e_L et L+e_L\n",
        "A_MC = l_MC*L_MC # Calcul N valeurs de l'aire \n",
        "\n",
        "# Représentation de l'histogramme de A\n",
        "plt.hist(A_MC, bins='rice')\n",
        "plt.show()\n",
        "\n",
        "# Calculs de l'aire et de son incertitude\n",
        "A = l*L # Calcul de l'aire, avec les données\n",
        "A_moy = np.average(A_MC) # Calcul de la moyenne de l'aire\n",
        "u_A = np.std(A_MC, ddof=1) # Calcul de l'écart type des N valeurs de l'aire\n",
        "\n",
        "# Calcul de l'incertitude à l'aide des formules, pour comparaison\n",
        "u_l = e_l/np.sqrt(3)\n",
        "u_L = e_L/np.sqrt(3)\n",
        "u_A_formule = A* np.sqrt((u_l/l)**2 + (u_L/L)**2 )\n",
        "\n",
        "# Affichage des résultats\n",
        "print(\"A =\", A)\n",
        "print('A_moy =', A_moy)     #choix alternatif\n",
        "print('u(A) MonteCarlo =', u_A)\n",
        "print('u(A) formule = ', u_A_formule)"
      ],
      "execution_count": 1,
      "outputs": [
        {
          "output_type": "display_data",
          "data": {
            "image/png": "[encoded data removed]",
            "text/plain": [
              "<Figure size 432x288 with 1 Axes>"
            ]
          },
          "metadata": {
            "tags": [],
            "needs_background": "light"
          }
        },
        {
          "output_type": "stream",
          "text": [
            "A = 623.6999999999999\n",
            "A_moy = 623.6972749375228\n",
            "u(A) MonteCarlo = 1.0477596283663788\n",
            "u(A) formule =  1.0500357136783491\n"
          ],
          "name": "stdout"
        }
      ]
    }
  ]
}