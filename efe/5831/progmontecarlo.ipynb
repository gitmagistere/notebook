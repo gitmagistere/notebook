{
 "cells": [
  {
   "cell_type": "code",
   "execution_count": 1,
   "metadata": {
    "cell_style": "center",
    "colab": {
     "base_uri": "https://localhost:8080/",
     "height": 34
    },
    "colab_type": "code",
    "id": "x8fGyjc05pqq",
    "outputId": "8c33c6af-0181-4bab-b828-54a6b1b7d58c",
    "scrolled": false
   },
   "outputs": [
    {
     "name": "stdout",
     "output_type": "stream",
     "text": [
      "Concentration molaire de chlorure de sodium : 0.06899591821495635  mol/L\n",
      "u(Ca) : 0.0007097784048352057  mol/L\n"
     ]
    },
    {
     "data": {
      "image/png": "[encoded data removed]",
      "text/plain": [
       "<Figure size 432x288 with 1 Axes>"
      ]
     },
     "metadata": {
      "needs_background": "light"
     },
     "output_type": "display_data"
    }
   ],
   "source": [
    "import numpy as np\n",
    "from matplotlib import pyplot\n",
    "\n",
    "# Renvoie une valeur aléatoire de la variable L[0] d'incertitude-type L[1]\n",
    "def Alea(L):\n",
    "    tirage=np.random.normal()\n",
    "    return L[0]+L[1]*tirage\n",
    "\n",
    "# Entrées\n",
    "VE=[13.8,0.03]\n",
    "Va=[20,0.02]\n",
    "Cb=[0.1,0.001]\n",
    "\n",
    "# Simulation d'un nombre de dosage correspondant à NbreMesure\n",
    "Ca=[]\n",
    "NbreMesure=100000\n",
    "for j in range(NbreMesure):\n",
    "    calcul=Alea(Cb)*Alea(VE)/Alea(Va)\n",
    "    Ca.append(calcul)\n",
    "\n",
    "# Calcul de la moyenne des résultats\n",
    "Camoy=sum(Ca)/NbreMesure\n",
    "\n",
    "# Calcul de l'écart type de l'ensemble des mesures\n",
    "uCa=(1/(NbreMesure-1)*sum((np.array(Ca)-Camoy)**2.))**0.5\n",
    "\n",
    "# Ecriture du résultat\n",
    "print('Concentration molaire de chlorure de sodium :', Camoy,' mol/L')\n",
    "print('u(Ca) :', uCa,' mol/L')\n",
    "\n",
    "# Tracé du graphique\n",
    "pyplot.hist(Ca, range = (min(Ca), max(Ca)), bins = 50, color = 'blue', edgecolor = 'black')\n",
    "pyplot.xlabel('Ca')\n",
    "pyplot.ylabel('effectif')\n",
    "pyplot.show()"
   ]
  },
  {
   "cell_type": "code",
   "execution_count": null,
   "metadata": {
    "hide_input": true
   },
   "outputs": [],
   "source": []
  }
 ],
 "metadata": {
  "colab": {
   "name": "Untitled0.ipynb",
   "provenance": []
  },
  "kernelspec": {
   "display_name": "Python 3",
   "language": "python",
   "name": "python3"
  },
  "language_info": {
   "codemirror_mode": {
    "name": "ipython",
    "version": 3
   },
   "file_extension": ".py",
   "mimetype": "text/x-python",
   "name": "python",
   "nbconvert_exporter": "python",
   "pygments_lexer": "ipython3",
   "version": "3.8.6"
  }
 },
 "nbformat": 4,
 "nbformat_minor": 1
}
