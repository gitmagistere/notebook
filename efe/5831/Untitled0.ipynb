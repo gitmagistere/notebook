{
  "nbformat": 4,
  "nbformat_minor": 0,
  "metadata": {
    "colab": {
      "name": "Untitled0.ipynb",
      "provenance": []
    },
    "kernelspec": {
      "name": "python3",
      "display_name": "Python 3"
    }
  },
  "cells": [
    {
      "cell_type": "code",
      "metadata": {
        "id": "1LarWydXUaq5"
      },
      "source": [
        "# REPRESENTATION DES POSITIONS SUCCESSIVES DU CENTRE D'INERTIE D'UN PROJECTILE\r\n",
        "\r\n",
        "#--------------------Importation des librairies ----------------------\r\n",
        "import matplotlib.pyplot as plt # importation de la bibliothèque permettant les tracés\r\n",
        "\r\n",
        "#-------------- Récupération des pointages sous forme de listes  ---------------\r\n",
        "x=[0.00,0.50,1.00,1.50,2.00,2.50,3.00,3.50,4.00,4.50,5.00]\r\n",
        "y=[5.00,4.95,4.80,4.56,4.22,3.77,3.23,2.60,1.86,1.03,0.09]\r\n",
        "\r\n",
        "#--------------------Tracé de la trajectoire y = f(x)--------------------------------\r\n",
        "plt.title(\"Représentation graphique des positions du centre d'inertie du projectile\")\r\n",
        "plt.xlabel(\"x en m\")                          # nom de la grandeur portée sur l'axe de abcisses\r\n",
        "plt.ylabel(\"y en m \")                         # nom de la grandeur portée sur l'axe de ordonnées\r\n",
        "plt.scatter(x,y,marker='+',color='r')         # tracé des points représentés par des + rouges\r\n",
        "plt.show()                                    # tracé du graphique"
      ],
      "execution_count": null,
      "outputs": []
    }
  ]
}