{
  "nbformat": 4,
  "nbformat_minor": 0,
  "metadata": {
    "colab": {
      "provenance": [],
      "collapsed_sections": []
    },
    "kernelspec": {
      "name": "python3",
      "display_name": "Python 3"
    },
    "language_info": {
      "name": "python"
    }
  },
  "cells": [
    {
      "cell_type": "markdown",
      "source": [
        "Compléter le script ci-dessous."
      ],
      "metadata": {
        "id": "JDOHWo3SK1zM"
      }
    },
    {
      "cell_type": "code",
      "source": [
        "from\n",
        "def racines_trinome(a,b,c):\n",
        "  delta=\n",
        "  if           :\n",
        "    print(\"Le trinôme n'a pas de racine\")\n",
        "  elif        :\n",
        "    x0=\n",
        "    print(\"Le trinôme a pour unique racine\", x0)\n",
        "  else :\n",
        "    x1=\n",
        "    x2=\n",
        "    print(\"Le trinôme possède deux racines\",x1,\"et\",x2)"
      ],
      "metadata": {
        "id": "kGCwcKmKK8Ud"
      },
      "execution_count": null,
      "outputs": []
    },
    {
      "cell_type": "markdown",
      "source": [
        "Quelle instruction taper pour déterminer les éventuelles racines du trinôme 3x²+4x+5 ?"
      ],
      "metadata": {
        "id": "WMSURuHQNp2s"
      }
    },
    {
      "cell_type": "code",
      "source": [],
      "metadata": {
        "id": "rSZhsX3bN4Ve"
      },
      "execution_count": null,
      "outputs": []
    },
    {
      "cell_type": "markdown",
      "source": [
        "Quelle instruction taper pour déterminer les éventuelles racines du trinôme -2x²-5x+3 ?"
      ],
      "metadata": {
        "id": "cKIpUlO1N6hr"
      }
    },
    {
      "cell_type": "code",
      "source": [],
      "metadata": {
        "id": "9RPFQ6S7OLxk"
      },
      "execution_count": null,
      "outputs": []
    },
    {
      "cell_type": "markdown",
      "source": [
        "Quelle instruction taper pour déterminer les éventuelles racines du trinôme 9x²-15x+6.25 ?"
      ],
      "metadata": {
        "id": "TGE9rlOwOMuJ"
      }
    },
    {
      "cell_type": "code",
      "source": [],
      "metadata": {
        "id": "jwMM0SY1PGyE"
      },
      "execution_count": null,
      "outputs": []
    }
  ]
}