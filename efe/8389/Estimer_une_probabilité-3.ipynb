{
  "nbformat": 4,
  "nbformat_minor": 0,
  "metadata": {
    "colab": {
      "provenance": [],
      "collapsed_sections": []
    },
    "kernelspec": {
      "name": "python3",
      "display_name": "Python 3"
    },
    "language_info": {
      "name": "python"
    }
  },
  "cells": [
    {
      "cell_type": "markdown",
      "source": [
        "**Estimer une probabilité**"
      ],
      "metadata": {
        "id": "qZlBLjWC9cPY"
      }
    },
    {
      "cell_type": "markdown",
      "source": [
        "On se propose maintenant de répéter $N$ fois la simulation de l’expérience aléatoire précédente. \n",
        "\n",
        "Dans chaque cas, pour $n$ suffisamment grand, la fréquence observée $f$ devrait être proche de la probabilité théorique $p= \\frac{1}{3}$.\n",
        "\n",
        "On veut calculer la proportion des cas pour lesquels l’écart entre f et p est inférieur ou égale à $\\frac{1}{\\sqrt{n}}$ .\n",
        "\n"
      ],
      "metadata": {
        "id": "8YQGxTON9dZ6"
      }
    },
    {
      "cell_type": "markdown",
      "source": [
        "On complète alors le programme précédent avec la fonction `estim`"
      ],
      "metadata": {
        "id": "X5C_CV4JWIl2"
      }
    },
    {
      "cell_type": "code",
      "source": [
        "from random import  *\n",
        "def lancer(n):\n",
        "  compteur=0\n",
        "  for i in range(n):\n",
        "    de=randint(1,6)\n",
        "    if de==3 or de==6 :\n",
        "      compteur=compteur+1\n",
        "      f=compteur/n\n",
        "  return(f)\n",
        "\n",
        "from math import*\n",
        "def estim(N,n):\n",
        "  compteur=0\n",
        "  for i in range (N):\n",
        "    f=lancer(n)\n",
        "    if abs(f-1/3)<=1/sqrt(n):\n",
        "      compteur=compteur+1\n",
        "  return(compteur/n)"
      ],
      "metadata": {
        "id": "hcDBUMtM-Era"
      },
      "execution_count": null,
      "outputs": []
    },
    {
      "cell_type": "markdown",
      "source": [
        "1) A quoi correspond l'instruction `if abs(f-1/3)<=1/sqrt(n)` dans le programme de la fonction `estim`? \n",
        "\n",
        "A quoi sert la variable `compteur` et que renvoie la fonction `estim` ?"
      ],
      "metadata": {
        "id": "r_2ZcjKqQBTz"
      }
    },
    {
      "cell_type": "markdown",
      "source": [
        "Réponse :"
      ],
      "metadata": {
        "id": "1yxjwTjKQg9P"
      }
    },
    {
      "cell_type": "markdown",
      "source": [
        "2) Exécuter le programme pour différentes valeurs de `N` en choisissant `n` suffisamment grand, comme `n = 10000`."
      ],
      "metadata": {
        "id": "4XmgTXb4QjjQ"
      }
    },
    {
      "cell_type": "code",
      "source": [],
      "metadata": {
        "id": "GuEF1MRMJkHw"
      },
      "execution_count": null,
      "outputs": []
    },
    {
      "cell_type": "markdown",
      "source": [
        "3) Qu'observe-t-on ?"
      ],
      "metadata": {
        "id": "Ryn18EdCROxn"
      }
    },
    {
      "cell_type": "markdown",
      "source": [
        "Réponse :"
      ],
      "metadata": {
        "id": "XmRFRh90RR00"
      }
    }
  ]
}