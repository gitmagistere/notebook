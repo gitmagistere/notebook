{
  "nbformat": 4,
  "nbformat_minor": 0,
  "metadata": {
    "colab": {
      "provenance": [],
      "collapsed_sections": []
    },
    "kernelspec": {
      "name": "python3",
      "display_name": "Python 3"
    },
    "language_info": {
      "name": "python"
    }
  },
  "cells": [
    {
      "cell_type": "code",
      "execution_count": null,
      "metadata": {
        "id": "QkJmwGMS8SUX"
      },
      "outputs": [],
      "source": [
        "n=0\n",
        "u=1\n",
        "while u>10**(-6) :\n",
        "  n=n+1\n",
        "  u=u*0.835\n",
        "print(n)"
      ]
    }
  ]
}