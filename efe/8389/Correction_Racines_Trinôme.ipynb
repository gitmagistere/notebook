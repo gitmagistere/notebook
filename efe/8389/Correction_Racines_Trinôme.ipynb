{
  "nbformat": 4,
  "nbformat_minor": 0,
  "metadata": {
    "colab": {
      "provenance": [],
      "collapsed_sections": []
    },
    "kernelspec": {
      "name": "python3",
      "display_name": "Python 3"
    },
    "language_info": {
      "name": "python"
    }
  },
  "cells": [
    {
      "cell_type": "markdown",
      "source": [
        "On considère le trinôme ax²+bx+c.\n",
        "\n",
        "Compléter le programme ci-dessous pour qu'il retourne les racines du trinôme, dans le cas où le trinôme en possèderait, et précise que le trinôme ne possède pas de racine, dans le cas contraire."
      ],
      "metadata": {
        "id": "JDOHWo3SK1zM"
      }
    },
    {
      "cell_type": "code",
      "source": [
        "from math import *\n",
        "def racines_trinome(a,b,c):\n",
        "  delta=b**2-4*a*c\n",
        "  if delta<0 :\n",
        "    print(\"Le trinôme n'a pas de racine\")\n",
        "  elif delta==0 :\n",
        "    x0=-b/(2*a)\n",
        "    print(\"Le trinôme a pour unique racine\", x0)\n",
        "  else :\n",
        "    x1=(-b-sqrt(delta))/(2*a)\n",
        "    x2=(-b+sqrt(delta))/(2*a)\n",
        "    print(\"Le trinôme possède deux racines\",x1,\"et\",x2)"
      ],
      "metadata": {
        "id": "kGCwcKmKK8Ud"
      },
      "execution_count": 4,
      "outputs": []
    },
    {
      "cell_type": "markdown",
      "source": [
        "Quelle instruction taper pour déterminer les éventuelles racines du trinôme 3x²+4x+5 ?"
      ],
      "metadata": {
        "id": "rkQiOkKFPMOn"
      }
    },
    {
      "cell_type": "code",
      "source": [
        "racines_trinome(3,4,5)"
      ],
      "metadata": {
        "id": "G2wosV-GWavU"
      },
      "execution_count": null,
      "outputs": []
    },
    {
      "cell_type": "markdown",
      "source": [
        "Quelle instruction taper pour déterminer les éventuelles racines du trinôme -2x²-5x+3 ?"
      ],
      "metadata": {
        "id": "05DqiuQoPSGi"
      }
    },
    {
      "cell_type": "code",
      "source": [
        "racines_trinome(-2,-5,3)"
      ],
      "metadata": {
        "id": "NCuHOSmMWf4U"
      },
      "execution_count": null,
      "outputs": []
    },
    {
      "cell_type": "markdown",
      "source": [
        "Quelle instruction taper pour déterminer les éventuelles racines du trinôme 9x²-15x+6.25 ?"
      ],
      "metadata": {
        "id": "nQKu8yUmPiKk"
      }
    },
    {
      "cell_type": "code",
      "source": [
        "racines_trinome(9,-15,6.25)"
      ],
      "metadata": {
        "id": "qM6Hte1WZ41G"
      },
      "execution_count": null,
      "outputs": []
    }
  ]
}