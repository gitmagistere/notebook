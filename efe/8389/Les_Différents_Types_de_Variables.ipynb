{
  "nbformat": 4,
  "nbformat_minor": 0,
  "metadata": {
    "colab": {
      "provenance": [],
      "collapsed_sections": []
    },
    "kernelspec": {
      "name": "python3",
      "display_name": "Python 3"
    },
    "language_info": {
      "name": "python"
    }
  },
  "cells": [
    {
      "cell_type": "markdown",
      "source": [
        "**Les différents types de variables**\n"
      ],
      "metadata": {
        "id": "9ddW3QkE2Ex-"
      }
    },
    {
      "cell_type": "code",
      "execution_count": null,
      "metadata": {
        "id": "_l-KQ7-f1kVs"
      },
      "outputs": [],
      "source": [
        "a=17\n",
        "print(a)\n",
        "print(type(a))"
      ]
    },
    {
      "cell_type": "code",
      "source": [
        "b=5/2\n",
        "print(b)\n",
        "print(type(b))"
      ],
      "metadata": {
        "id": "fI0DYtMh3Uk4"
      },
      "execution_count": null,
      "outputs": []
    },
    {
      "cell_type": "code",
      "source": [
        "c=\"bonjour\"\n",
        "print(c)\n",
        "print(type(c))"
      ],
      "metadata": {
        "id": "zzRg5beX3Yvf"
      },
      "execution_count": null,
      "outputs": []
    },
    {
      "cell_type": "code",
      "source": [
        "d=\"17\"\n",
        "print(d)\n",
        "print(type(d))"
      ],
      "metadata": {
        "id": "UvRzK4u-3l9d"
      },
      "execution_count": null,
      "outputs": []
    },
    {
      "cell_type": "markdown",
      "source": [
        "Il existe différents types de variables sur Python:\n",
        "\n",
        "\n",
        "\n",
        "*   les entiers (int)\n",
        "*   les nombres décimaux (float)\n",
        "\n",
        "*   les chaînes de caractères (str)\n",
        "\n",
        "etc\n",
        "\n",
        "L'instruction `print(type(a))` permet d'afficher le type de la variable `a`\n",
        "\n",
        "\n",
        "\n",
        "\n"
      ],
      "metadata": {
        "id": "ZwfqL-Vp7JbJ"
      }
    },
    {
      "cell_type": "markdown",
      "source": [
        "**Interaction entre l'ordinateur et l'utilisateur**"
      ],
      "metadata": {
        "id": "KIon5Crk81QE"
      }
    },
    {
      "cell_type": "markdown",
      "source": [
        "L'instruction input permet de demander à l'utilisateur d'entrer une donnée."
      ],
      "metadata": {
        "id": "y_p-7f9Y87jy"
      }
    },
    {
      "cell_type": "code",
      "source": [
        "age=int(input(\"Quel est ton âge ?\"))\n",
        "print(\"Tu as\",age,\"ans\")\n",
        "# La phrase Quel est ton âge ? va s'afficher et demander un nombre entier qui sera stocké dans la variable age."
      ],
      "metadata": {
        "id": "ClAKuTIX9NRw"
      },
      "execution_count": null,
      "outputs": []
    },
    {
      "cell_type": "code",
      "source": [
        "taille=float(input(\"Quelle est ta taille en m ?\"))\n",
        "print(\"Tu mesures\",taille,\"m\")\n",
        "# La phrase Quelle est ta taille en m ? va s'afficher et demander un nombre réel qui sera stocké dans la variable taille"
      ],
      "metadata": {
        "id": "OlqbCdJ693-2"
      },
      "execution_count": null,
      "outputs": []
    },
    {
      "cell_type": "code",
      "source": [
        "nom=input(\"Quel est ton nom ?\")\n",
        "print(\"bonjour\", nom,\"!\")\n",
        "#La phrase Quel est ton nom ? va s'afficher et demander une chaîne de caractères qui sera stockée dans la variable nom."
      ],
      "metadata": {
        "id": "dvL9hQiv-lq7"
      },
      "execution_count": null,
      "outputs": []
    },
    {
      "cell_type": "markdown",
      "source": [
        "**Attention aux types des variables**\n",
        "\n",
        "Tester le programme ci-dessous"
      ],
      "metadata": {
        "id": "Jyf_kF19AIr7"
      }
    },
    {
      "cell_type": "code",
      "source": [
        "a=input(\"Choisis un nombre :\")\n",
        "b=a+10"
      ],
      "metadata": {
        "id": "Eq5on7qH_li1"
      },
      "execution_count": null,
      "outputs": []
    },
    {
      "cell_type": "markdown",
      "source": [
        "Python affiche un message d'erreur car on ne peut pas additionner une chaîne de caractères (variable `a`) à un nombre (10)."
      ],
      "metadata": {
        "id": "phBjQ3PT_3Iv"
      }
    }
  ]
}