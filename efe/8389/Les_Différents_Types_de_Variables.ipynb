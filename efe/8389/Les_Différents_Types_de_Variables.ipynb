{
  "nbformat": 4,
  "nbformat_minor": 0,
  "metadata": {
    "colab": {
      "provenance": [],
      "collapsed_sections": []
    },
    "kernelspec": {
      "name": "python3",
      "display_name": "Python 3"
    },
    "language_info": {
      "name": "python"
    }
  },
  "cells": [
    {
      "cell_type": "markdown",
      "source": [
        "**Les différents types de variables**\n"
      ],
      "metadata": {
        "id": "9ddW3QkE2Ex-"
      }
    },
    {
      "cell_type": "code",
      "execution_count": null,
      "metadata": {
        "id": "_l-KQ7-f1kVs"
      },
      "outputs": [],
      "source": [
        "a=17\n",
        "print(a)\n",
        "print(type(a))"
      ]
    },
    {
      "cell_type": "code",
      "source": [
        "b=5/2\n",
        "print(b)\n",
        "print(type(b))"
      ],
      "metadata": {
        "id": "fI0DYtMh3Uk4"
      },
      "execution_count": null,
      "outputs": []
    },
    {
      "cell_type": "code",
      "source": [
        "c=\"bonjour\"\n",
        "print(c)\n",
        "print(type(c))"
      ],
      "metadata": {
        "id": "zzRg5beX3Yvf"
      },
      "execution_count": null,
      "outputs": []
    },
    {
      "cell_type": "code",
      "source": [
        "d=\"17\"\n",
        "print(d)\n",
        "print(type(d))"
      ],
      "metadata": {
        "id": "UvRzK4u-3l9d"
      },
      "execution_count": null,
      "outputs": []
    },
    {
      "cell_type": "markdown",
      "source": [
        "Il existe différents types de variables sur Python:\n",
        "\n",
        "\n",
        "\n",
        "*   les entiers (int)\n",
        "*   les nombres décimaux (float)\n",
        "\n",
        "*   les chaînes de caractères (str)\n",
        "\n",
        "etc\n",
        "\n",
        "L'instruction `print(type(a))` permet d'afficher le type de la variable `a`\n",
        "\n",
        "\n",
        "\n",
        "\n"
      ],
      "metadata": {
        "id": "ZwfqL-Vp7JbJ"
      }
    }
  ]
}