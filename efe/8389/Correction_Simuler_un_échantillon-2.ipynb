{
  "nbformat": 4,
  "nbformat_minor": 0,
  "metadata": {
    "colab": {
      "provenance": [],
      "collapsed_sections": []
    },
    "kernelspec": {
      "name": "python3",
      "display_name": "Python 3"
    },
    "language_info": {
      "name": "python"
    }
  },
  "cells": [
    {
      "cell_type": "markdown",
      "source": [
        "**Simuler un échantillon de taille n et observer la loi des grands nombres**"
      ],
      "metadata": {
        "id": "qZlBLjWC9cPY"
      }
    },
    {
      "cell_type": "markdown",
      "source": [
        "\n",
        "Le programme ci-dessous simule n lancers d'un dé à 6 faces et compte le nombre de fois que la face obtenue est un multiple de 3 (variable `compteur`) et renvoie la fréquence correspondante (variable `f`).\n",
        "\n"
      ],
      "metadata": {
        "id": "8YQGxTON9dZ6"
      }
    },
    {
      "cell_type": "markdown",
      "source": [
        "1) Compléter le."
      ],
      "metadata": {
        "id": "0rwzKL5IBtwB"
      }
    },
    {
      "cell_type": "code",
      "source": [
        "from random import  *\n",
        "def lancer(n):\n",
        "  compteur=0\n",
        "  for i in range(n):\n",
        "    de=randint(1,6)\n",
        "    if de==3 or de==6 :\n",
        "      compteur=compteur+1\n",
        "      f=compteur/n\n",
        "  return(f)\n"
      ],
      "metadata": {
        "id": "hcDBUMtM-Era"
      },
      "execution_count": 2,
      "outputs": []
    },
    {
      "cell_type": "markdown",
      "source": [
        "2) Simuler les lancers de 10 dés, 100 dés, 1000 dés, 10 000 dés, 100 000 dés."
      ],
      "metadata": {
        "id": "_nnItz5hBwLC"
      }
    },
    {
      "cell_type": "code",
      "source": [
        "lancer(10),lancer(100),lancer(1000),lancer(10000), lancer(100000)"
      ],
      "metadata": {
        "id": "bi7l6x_NBvjd"
      },
      "execution_count": null,
      "outputs": []
    },
    {
      "cell_type": "markdown",
      "source": [
        "3) Qu'observe-ton ?"
      ],
      "metadata": {
        "id": "4tYYEcD4B2et"
      }
    },
    {
      "cell_type": "markdown",
      "source": [
        "**Réponse :** Plus n devient grand, plus la fréquence f semble s'approcher de la valeur théorique 1/3, égale à la probabilité p de gagner.\n",
        "\n",
        "Il s'agit de la loi des grands nombres:\n",
        "\n",
        "\n",
        "> *On considère une expérience aléatoire et un échantillon de taille n de cette expérience*.\n",
        "\n",
        "> *Lorsque n devient grand, la fréquence observée d'une issue est le plus souvent proche de la probabilité de cette issue*.\n",
        "\n",
        "\n",
        "\n",
        "\n",
        "\n",
        "\n",
        "\n",
        "\n"
      ],
      "metadata": {
        "id": "O492hBqBFlk2"
      }
    }
  ]
}