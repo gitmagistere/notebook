{
  "nbformat": 4,
  "nbformat_minor": 0,
  "metadata": {
    "colab": {
      "provenance": [],
      "collapsed_sections": []
    },
    "kernelspec": {
      "name": "python3",
      "display_name": "Python 3"
    },
    "language_info": {
      "name": "python"
    }
  },
  "cells": [
    {
      "cell_type": "markdown",
      "source": [
        "## **Convertir des degrés Fahrenheit en degrés Celsius**"
      ],
      "metadata": {
        "id": "maxUoeaIG61N"
      }
    },
    {
      "cell_type": "markdown",
      "source": [
        "La relation\n",
        "\n",
        "> f=1,8t+32\n",
        "\n",
        "relie la température t en degrés Celsius (°C) à la température f en degrés Fahrenheit (°F).\n",
        "\n",
        "Compléter le script suivant qui à une température f en °F renvoie la température t en °C.\n",
        "\n",
        "Puis faire afficher la température en °C correspondant à une température de 100°F.\n",
        "\n",
        "\n"
      ],
      "metadata": {
        "id": "UFB2CKo5HGVw"
      }
    },
    {
      "cell_type": "code",
      "execution_count": null,
      "metadata": {
        "id": "ygmA1aAeGxaw"
      },
      "outputs": [],
      "source": [
        "# f correspond à la température en °F\n",
        "# t correspond à la température en °C\n",
        "def conversion (f):\n",
        "  t=\n",
        "  return()\n",
        "print()"
      ]
    },
    {
      "cell_type": "markdown",
      "source": [
        "## **Calculer les termes d'une suite**"
      ],
      "metadata": {
        "id": "slCR8xg-LkXu"
      }
    },
    {
      "cell_type": "markdown",
      "source": [
        "On considère la suite u_n définie pour tout entier naturel n :\n",
        "\n",
        "\n",
        "> u_n=24n-8\n",
        "\n",
        "Compléter le script ci-dessous pour qu'il calcule les termes de la suite en fonction de leur rang.\n",
        "\n",
        "Faire afficher u_35\n",
        "\n"
      ],
      "metadata": {
        "id": "ryQeKeEyL74l"
      }
    },
    {
      "cell_type": "code",
      "source": [
        "def suite():\n",
        "\n",
        "  return()\n",
        "print()"
      ],
      "metadata": {
        "id": "dOM5CLRwL5Uf"
      },
      "execution_count": null,
      "outputs": []
    }
  ]
}