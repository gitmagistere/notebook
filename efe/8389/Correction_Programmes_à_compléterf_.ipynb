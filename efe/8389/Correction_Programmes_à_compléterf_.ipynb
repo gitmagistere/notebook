{
  "nbformat": 4,
  "nbformat_minor": 0,
  "metadata": {
    "colab": {
      "provenance": [],
      "collapsed_sections": []
    },
    "kernelspec": {
      "name": "python3",
      "display_name": "Python 3"
    },
    "language_info": {
      "name": "python"
    }
  },
  "cells": [
    {
      "cell_type": "markdown",
      "source": [
        "**Prix après réduction**\n",
        "\n",
        "Compléter le script suivant qui au prix initial renvoie le prix obtenu après une réduction de 10%."
      ],
      "metadata": {
        "id": "jBRMLCL8LULk"
      }
    },
    {
      "cell_type": "code",
      "execution_count": null,
      "metadata": {
        "id": "J46w-NmILO7u"
      },
      "outputs": [],
      "source": [
        "prix=float(input(\"Quel est le prix de l'article?\"))\n",
        "prix_reduit=prix*0.9\n",
        "print(prix_reduit)"
      ]
    },
    {
      "cell_type": "markdown",
      "source": [
        "**Rayon d'un disque**\n",
        "\n",
        "Compléter le script suivant qui à l'aire d'un disque renvoie son rayon."
      ],
      "metadata": {
        "id": "Gnrm7L6hNlQu"
      }
    },
    {
      "cell_type": "code",
      "source": [
        "from math import*\n",
        "a=float(input(\"Entrer l'aire du disque\"))\n",
        "r=sqrt(a/(4*pi))\n",
        "print(\"Le rayon du disque vaut\",r)"
      ],
      "metadata": {
        "id": "b0XTrOzHNyyU"
      },
      "execution_count": null,
      "outputs": []
    },
    {
      "cell_type": "markdown",
      "source": [
        "Pourquoi a-ton inséré l'instruction `from math import*` en début de script ?"
      ],
      "metadata": {
        "id": "2XQWt-gTQoRc"
      }
    },
    {
      "cell_type": "markdown",
      "source": [
        "**Réponse :** L'instruction from math import* nous permet d'utiliser le nombre pi et la racine carrée, deux commandes dont nous avons besoin pour calculer le rayon d'un disque à partir de son aire."
      ],
      "metadata": {
        "id": "g6_npI1AQuYT"
      }
    },
    {
      "cell_type": "markdown",
      "source": [
        "**Somme et différence de deux nombres**\n",
        "\n",
        "Compléter le script suivant qui à la somme et à la différence de deux nombres `x` et `y` renvoient les valeurs de ces nombres `x` et `y`."
      ],
      "metadata": {
        "id": "f8IkT2JBO6OR"
      }
    },
    {
      "cell_type": "code",
      "source": [
        "s=float(input(\"Entrer la valeur de la somme\"))\n",
        "d=float(input(\"Entrer la valeur de la différence\"))\n",
        "x=(s+d)/2\n",
        "y=s-x\n",
        "print(\"Le 1er nombre vaut\",x,\"et le 2nd nombre vaut\",y)"
      ],
      "metadata": {
        "id": "4IXL_FspPe5-"
      },
      "execution_count": null,
      "outputs": []
    }
  ]
}