{
  "nbformat": 4,
  "nbformat_minor": 0,
  "metadata": {
    "colab": {
      "provenance": [],
      "collapsed_sections": []
    },
    "kernelspec": {
      "name": "python3",
      "display_name": "Python 3"
    },
    "language_info": {
      "name": "python"
    }
  },
  "cells": [
    {
      "cell_type": "markdown",
      "source": [
        "Un coureur de fond court à 15 km/h pendant la première heure, puis à 12 km/h l'heure suivante et termine à 9 km/h le temps restant."
      ],
      "metadata": {
        "id": "VD1D0xHMIi-D"
      }
    },
    {
      "cell_type": "markdown",
      "source": [
        "**Partie 1**"
      ],
      "metadata": {
        "id": "3CdFWOG4JMO3"
      }
    },
    {
      "cell_type": "markdown",
      "source": [
        "On désigne par t la durée en heures de la course et d la distance parcourue."
      ],
      "metadata": {
        "id": "emCY2xPmJUyL"
      }
    },
    {
      "cell_type": "markdown",
      "source": [
        "1) Si t est inférieure ou égale à 1, combien vaut d ?"
      ],
      "metadata": {
        "id": "OZLZc1ZOJjFS"
      }
    },
    {
      "cell_type": "markdown",
      "source": [
        "Réponse :"
      ],
      "metadata": {
        "id": "HjAvAWumJ0bx"
      }
    },
    {
      "cell_type": "markdown",
      "source": [
        "2) Si t est compris entre 1 et 2, combien vaut d ?"
      ],
      "metadata": {
        "id": "K2lxCjBsJ5J8"
      }
    },
    {
      "cell_type": "markdown",
      "source": [
        "Réponse :"
      ],
      "metadata": {
        "id": "HHpTFQwsKFI9"
      }
    },
    {
      "cell_type": "markdown",
      "source": [
        "3) Si t est supérieur à 2, combien vaut d ?"
      ],
      "metadata": {
        "id": "3nT7618vKFvY"
      }
    },
    {
      "cell_type": "markdown",
      "source": [
        "Réponse :"
      ],
      "metadata": {
        "id": "LhIE0IWeKK2z"
      }
    },
    {
      "cell_type": "markdown",
      "source": [
        "**Partie 2**"
      ],
      "metadata": {
        "id": "tqNWHqqpKLgx"
      }
    },
    {
      "cell_type": "markdown",
      "source": [
        "Compléter le script ci-dessous pour qu'il affiche la distance parcourue lorsque l'utilisateur entre la durée de la course en heures."
      ],
      "metadata": {
        "id": "HOaFqQPkKP3N"
      }
    },
    {
      "cell_type": "code",
      "source": [
        "t=float(input(\"Quelle est la durée de la course ?\"))\n",
        "if       :\n",
        "\n",
        "elif     :\n",
        "\n",
        "else :\n",
        "\n",
        "print()  \n"
      ],
      "metadata": {
        "id": "yyh2xLXhKu0b"
      },
      "execution_count": null,
      "outputs": []
    }
  ]
}