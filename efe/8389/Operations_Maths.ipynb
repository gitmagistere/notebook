{
  "nbformat": 4,
  "nbformat_minor": 0,
  "metadata": {
    "colab": {
      "provenance": [],
      "collapsed_sections": []
    },
    "kernelspec": {
      "name": "python3",
      "display_name": "Python 3"
    },
    "language_info": {
      "name": "python"
    }
  },
  "cells": [
    {
      "cell_type": "markdown",
      "source": [
        "Exécuter les instructions suivantes en appuyant sur le bouton \"play\" et observer les résultats renvoyés."
      ],
      "metadata": {
        "id": "rUsFgbdao68o"
      }
    },
    {
      "cell_type": "code",
      "source": [
        "2*3"
      ],
      "metadata": {
        "id": "5Obf-dv8pmzU"
      },
      "execution_count": null,
      "outputs": []
    },
    {
      "cell_type": "code",
      "source": [
        "2**3"
      ],
      "metadata": {
        "id": "EGbk-EzjppS7"
      },
      "execution_count": null,
      "outputs": []
    },
    {
      "cell_type": "code",
      "execution_count": null,
      "metadata": {
        "id": "VUyztkMIo4yo"
      },
      "outputs": [],
      "source": [
        "20/3"
      ]
    },
    {
      "cell_type": "code",
      "source": [
        "20//3"
      ],
      "metadata": {
        "id": "vyWeo4UPpaCt"
      },
      "execution_count": null,
      "outputs": []
    },
    {
      "cell_type": "code",
      "source": [
        "20%3"
      ],
      "metadata": {
        "id": "NYenkPfEp0dj"
      },
      "execution_count": null,
      "outputs": []
    },
    {
      "cell_type": "code",
      "source": [
        "20.5/3"
      ],
      "metadata": {
        "id": "BAuB0Z1rqQGo"
      },
      "execution_count": null,
      "outputs": []
    },
    {
      "cell_type": "code",
      "source": [
        "8,7/5"
      ],
      "metadata": {
        "id": "QIQyQrrGqRxj"
      },
      "execution_count": null,
      "outputs": []
    }
  ]
}