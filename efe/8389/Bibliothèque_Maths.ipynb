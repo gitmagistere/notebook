{
  "nbformat": 4,
  "nbformat_minor": 0,
  "metadata": {
    "colab": {
      "provenance": [],
      "collapsed_sections": []
    },
    "kernelspec": {
      "name": "python3",
      "display_name": "Python 3"
    },
    "language_info": {
      "name": "python"
    }
  },
  "cells": [
    {
      "cell_type": "markdown",
      "source": [
        "L'instruction `from math import*` permet d'importer toutes les fonctions de la bibliothèque math (nombre pi,racine carrée, fonctions trigonométriques, exponentielle)"
      ],
      "metadata": {
        "id": "vE82TqgLA8uA"
      }
    },
    {
      "cell_type": "code",
      "source": [
        "a=sqrt(2)\n",
        "print(a)\n",
        "b=a**2\n",
        "print(b)\n",
        "c=cos(0)\n",
        "print(c)\n",
        "print(pi)\n",
        "print(e)"
      ],
      "metadata": {
        "id": "niuczhCEAqcn"
      },
      "execution_count": null,
      "outputs": []
    },
    {
      "cell_type": "markdown",
      "source": [
        "L'instruction `from math import pi, sqrt` n'importe que le nombre pi et la racine carrée"
      ],
      "metadata": {
        "id": "UZVCpuNTxWTu"
      }
    }
  ]
}