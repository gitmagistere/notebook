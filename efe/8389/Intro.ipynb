{
  "metadata": {
    "kernelspec": {
      "name": "python",
      "display_name": "Python (Pyodide)",
      "language": "python"
    },
    "language_info": {
      "codemirror_mode": {
        "name": "python",
        "version": 3
      },
      "file_extension": ".py",
      "mimetype": "text/x-python",
      "name": "python",
      "nbconvert_exporter": "python",
      "pygments_lexer": "ipython3",
      "version": "3.8"
    }
  },
  "nbformat_minor": 5,
  "nbformat": 4,
  "cells": [
    {
      "cell_type": "code",
      "source": "# essai activité jupyter notebook\n",
      "metadata": {
        "trusted": true
      },
      "execution_count": 2,
      "outputs": [],
      "id": "2bd2eabf-0e48-4341-bff7-772d6f8fadeb"
    },
    {
      "cell_type": "raw",
      "source": "Tester le programme suivant",
      "metadata": {},
      "id": "8daa4b0f-a00a-4219-96f1-ec3f9d1a079f"
    },
    {
      "cell_type": "code",
      "source": "def double(a):\n    return 2*a\n",
      "metadata": {
        "trusted": true
      },
      "execution_count": 3,
      "outputs": [],
      "id": "65349edf-5601-414a-9da6-aa24130260e7"
    },
    {
      "cell_type": "code",
      "source": "",
      "metadata": {},
      "execution_count": null,
      "outputs": [],
      "id": "39cebe01-f62e-4935-8465-3acd86705dac"
    }
  ]
}