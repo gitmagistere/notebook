{
  "nbformat": 4,
  "nbformat_minor": 0,
  "metadata": {
    "colab": {
      "provenance": []
    },
    "kernelspec": {
      "name": "python3",
      "display_name": "Python 3"
    },
    "language_info": {
      "name": "python"
    }
  },
  "cells": [
    {
      "cell_type": "markdown",
      "source": [
        "Calcul du"
      ],
      "metadata": {
        "id": "Ab1UE532SjRe"
      }
    },
    {
      "cell_type": "markdown",
      "source": [
        "Calcul du volume d'une sphère"
      ],
      "metadata": {
        "id": "zto3nPqGSo3k"
      }
    },
    {
      "cell_type": "code",
      "source": [
        "from math import pi\n",
        "rayon=float(input(\"Choisis un rayon\"))\n",
        "volume =4/3*pi*rayon**3\n",
        "print(volume)\n",
        "\n"
      ],
      "metadata": {
        "colab": {
          "base_uri": "https://localhost:8080/"
        },
        "id": "vtAA2rnwS3Ql",
        "outputId": "749720c1-22e8-4636-fcef-803125e0f6c6"
      },
      "execution_count": 5,
      "outputs": [
        {
          "output_type": "stream",
          "name": "stdout",
          "text": [
            "Choisis un rayon1\n",
            "4.1887902047863905\n"
          ]
        }
      ]
    },
    {
      "cell_type": "code",
      "source": [],
      "metadata": {
        "id": "3_cwUI2_VeX3"
      },
      "execution_count": null,
      "outputs": []
    },
    {
      "cell_type": "markdown",
      "source": [
        "A quoi sert l'instruction from math import pi ?\n"
      ],
      "metadata": {
        "id": "g93Niwv7Vgke"
      }
    },
    {
      "cell_type": "markdown",
      "source": [],
      "metadata": {
        "id": "ouqi5c_YWA54"
      }
    },
    {
      "cell_type": "markdown",
      "source": [],
      "metadata": {
        "id": "sb-30GY4WBTP"
      }
    }
  ]
}