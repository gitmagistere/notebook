{
  "nbformat": 4,
  "nbformat_minor": 0,
  "metadata": {
    "colab": {
      "provenance": []
    },
    "kernelspec": {
      "name": "python3",
      "display_name": "Python 3"
    },
    "language_info": {
      "name": "python"
    }
  },
  "cells": [
    {
      "cell_type": "markdown",
      "source": [
        "### **Activité test Google colab**\n",
        "\n",
        "https://youtu.be/9Jih0dczTgU\n",
        "\n"
      ],
      "metadata": {
        "id": "M14QJ4if9GGb"
      }
    },
    {
      "cell_type": "markdown",
      "source": [
        "fonction double"
      ],
      "metadata": {
        "id": "UYKrdC9L9e-y"
      }
    },
    {
      "cell_type": "code",
      "source": [
        "def double(a):\n",
        "  return 2*a"
      ],
      "metadata": {
        "id": "r8kYN9Hf9k69"
      },
      "execution_count": 1,
      "outputs": []
    }
  ]
}