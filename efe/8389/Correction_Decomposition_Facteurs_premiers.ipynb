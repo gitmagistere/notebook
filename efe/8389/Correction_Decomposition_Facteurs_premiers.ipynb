{
  "nbformat": 4,
  "nbformat_minor": 0,
  "metadata": {
    "colab": {
      "provenance": [],
      "collapsed_sections": []
    },
    "kernelspec": {
      "name": "python3",
      "display_name": "Python 3"
    },
    "language_info": {
      "name": "python"
    }
  },
  "cells": [
    {
      "cell_type": "markdown",
      "source": [
        "On considère le programme ci-dessous pour lequel la variable `n` est un nombre entier.\n",
        "\n"
      ],
      "metadata": {
        "id": "PHJmUy4Z4BF9"
      }
    },
    {
      "cell_type": "code",
      "source": [
        "def fonction(n):\n",
        "  L=[]\n",
        "  d=2\n",
        "  while n>1:\n",
        "    if n%d==0:\n",
        "      while n%d==0:\n",
        "        L.append(d)\n",
        "        n=n//d\n",
        "    d=d+1\n",
        "  return(L)\n",
        "    "
      ],
      "metadata": {
        "id": "I4k2Beov4GPA"
      },
      "execution_count": 2,
      "outputs": []
    },
    {
      "cell_type": "markdown",
      "source": [
        "1) Exécuter ce programme sur différentes valeurs du nombre `n`."
      ],
      "metadata": {
        "id": "DV07y05V6PYk"
      }
    },
    {
      "cell_type": "code",
      "source": [
        "fonction(8)"
      ],
      "metadata": {
        "id": "KQFaaqpN6tDU",
        "colab": {
          "base_uri": "https://localhost:8080/"
        },
        "outputId": "1326adca-5ff0-41e9-a410-fc3f02693a05"
      },
      "execution_count": 3,
      "outputs": [
        {
          "output_type": "execute_result",
          "data": {
            "text/plain": [
              "[2, 2, 2]"
            ]
          },
          "metadata": {},
          "execution_count": 3
        }
      ]
    },
    {
      "cell_type": "code",
      "source": [
        "fonction(23)"
      ],
      "metadata": {
        "colab": {
          "base_uri": "https://localhost:8080/"
        },
        "id": "_ytFX3_NBebc",
        "outputId": "b3dc8e58-0837-423a-cbde-78fde3ab126f"
      },
      "execution_count": 4,
      "outputs": [
        {
          "output_type": "execute_result",
          "data": {
            "text/plain": [
              "[23]"
            ]
          },
          "metadata": {},
          "execution_count": 4
        }
      ]
    },
    {
      "cell_type": "code",
      "source": [
        "fonction(420)"
      ],
      "metadata": {
        "colab": {
          "base_uri": "https://localhost:8080/"
        },
        "id": "4EOV-YqhBhQ8",
        "outputId": "a9d28e55-f08e-4cee-a3a2-0924c472f66a"
      },
      "execution_count": 5,
      "outputs": [
        {
          "output_type": "execute_result",
          "data": {
            "text/plain": [
              "[2, 2, 3, 5, 7]"
            ]
          },
          "metadata": {},
          "execution_count": 5
        }
      ]
    },
    {
      "cell_type": "markdown",
      "source": [
        "2) Que renvoie le programme fonction ?"
      ],
      "metadata": {
        "id": "Ng3zjKa169MS"
      }
    },
    {
      "cell_type": "markdown",
      "source": [
        "**Réponse** : Il renvoie la décomposition en facteurs premiers du nombre `n`."
      ],
      "metadata": {
        "id": "YtCFbnAj7E4v"
      }
    },
    {
      "cell_type": "markdown",
      "source": [
        "3) Que permet de tester l'instruction `if n%d==0` ?"
      ],
      "metadata": {
        "id": "z1hohPqL7GT_"
      }
    },
    {
      "cell_type": "markdown",
      "source": [
        "**Réponse :** Elle permet de tester si d est un diviseur de `n`."
      ],
      "metadata": {
        "id": "Fqqdbjk_7YNt"
      }
    },
    {
      "cell_type": "markdown",
      "source": [
        "4) Qu'effectue la boucle\n",
        "\n",
        "`while n%d==0:`\n",
        "\n",
        "> `L.append(d)`\n",
        "\n",
        "> `n=n//d`\n",
        "\n",
        "?"
      ],
      "metadata": {
        "id": "7n1Pnsl-7cBK"
      }
    },
    {
      "cell_type": "markdown",
      "source": [
        "**Réponse :** Elle permet, une fois qu'on a trouvé un diviseur d, de le factoriser autant que possible et de l'ajouter à chaque fois dans la liste.\n"
      ],
      "metadata": {
        "id": "5NOfK9__9VNc"
      }
    }
  ]
}