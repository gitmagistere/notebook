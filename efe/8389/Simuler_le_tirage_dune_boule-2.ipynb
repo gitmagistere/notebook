{
  "nbformat": 4,
  "nbformat_minor": 0,
  "metadata": {
    "colab": {
      "provenance": [],
      "collapsed_sections": []
    },
    "kernelspec": {
      "name": "python3",
      "display_name": "Python 3"
    },
    "language_info": {
      "name": "python"
    }
  },
  "cells": [
    {
      "cell_type": "markdown",
      "source": [
        "Compléter le programme ci-dessous pour qu'il simule le tirage d'une boule de cette urne."
      ],
      "metadata": {
        "id": "TTI2g8xPFwkg"
      }
    },
    {
      "cell_type": "code",
      "source": [
        "from\n",
        "a=random()\n",
        "if        :\n",
        "  print(\"Blanche\")\n",
        "elif      :\n",
        "  print(\"Noire\")\n",
        "else :\n",
        "  print()"
      ],
      "metadata": {
        "id": "kZmiy6yHF3f0"
      },
      "execution_count": null,
      "outputs": []
    }
  ]
}