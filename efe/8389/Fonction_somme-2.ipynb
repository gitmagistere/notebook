{
  "nbformat": 4,
  "nbformat_minor": 0,
  "metadata": {
    "colab": {
      "provenance": [],
      "collapsed_sections": []
    },
    "kernelspec": {
      "name": "python3",
      "display_name": "Python 3"
    },
    "language_info": {
      "name": "python"
    }
  },
  "cells": [
    {
      "cell_type": "markdown",
      "source": [
        "Compléter le script suivant pour qu'il programme une fonction somme"
      ],
      "metadata": {
        "id": "BdmsUw6vXkYg"
      }
    },
    {
      "cell_type": "code",
      "execution_count": null,
      "metadata": {
        "id": "mBEJxVTiXivS"
      },
      "outputs": [],
      "source": [
        "def somme(nombre1,nombre2):\n",
        "  s=\n",
        "  return()"
      ]
    },
    {
      "cell_type": "markdown",
      "source": [
        "Faire afficher la somme de -1254,7 et 546"
      ],
      "metadata": {
        "id": "9b1hpO2JYLz2"
      }
    },
    {
      "cell_type": "code",
      "source": [
        "somme(-1254.7,546)"
      ],
      "metadata": {
        "id": "XcOtk4PyYT7R"
      },
      "execution_count": null,
      "outputs": []
    }
  ]
}