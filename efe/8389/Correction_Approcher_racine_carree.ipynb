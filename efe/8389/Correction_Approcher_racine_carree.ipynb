{
  "nbformat": 4,
  "nbformat_minor": 0,
  "metadata": {
    "colab": {
      "provenance": [],
      "collapsed_sections": []
    },
    "kernelspec": {
      "name": "python3",
      "display_name": "Python 3"
    },
    "language_info": {
      "name": "python"
    }
  },
  "cells": [
    {
      "cell_type": "markdown",
      "source": [
        "1) On considère le programme ci-dessous :\n",
        "\n"
      ],
      "metadata": {
        "id": "Wy8dLFwUSzwE"
      }
    },
    {
      "cell_type": "code",
      "execution_count": null,
      "metadata": {
        "id": "fJxeTSdASik9"
      },
      "outputs": [],
      "source": [
        "x=1\n",
        "while x**2 <2:\n",
        "  x=x+0.1\n",
        "print(x-0.1,x)"
      ]
    },
    {
      "cell_type": "markdown",
      "source": [
        "Que permet d'afficher ce programme ? Avec quelle précision ?"
      ],
      "metadata": {
        "id": "RewGiKd3TbOV"
      }
    },
    {
      "cell_type": "markdown",
      "source": [
        "**Réponse :** Il permet d'afficher un encadrement de la racine carrée de 2 à 0,01 près.\n",
        "\n",
        "**Remarque :** la réponse attendue aurait été  *1.4   1.5* ,\n",
        "\n",
        "ce qui n'est pas exactement ce que renvoie Python. \n",
        "\n",
        "Ceci est du au fait que les nombres décimaux sont codés en base 2 sur les ordinateurs. Pour plus d'explications, rendez-vous à : http://python.abriand.info/Activites/RepresentationBinaire/RepresentationBinaire.pdf"
      ],
      "metadata": {
        "id": "irPPsim5ThpZ"
      }
    },
    {
      "cell_type": "markdown",
      "source": [
        "2) Modifier le programme ci-dessus pour qu'il retourne un encadrement de la racine carrée de 3 avec une précision de 0,01"
      ],
      "metadata": {
        "id": "24wo_ApFTkGw"
      }
    },
    {
      "cell_type": "code",
      "source": [
        "x=1\n",
        "while x**2 <3:\n",
        "  x=x+0.01\n",
        "print(x-0.01,x)"
      ],
      "metadata": {
        "id": "vaECYoJ5WtV_"
      },
      "execution_count": null,
      "outputs": []
    },
    {
      "cell_type": "markdown",
      "source": [
        "3) Compléter le programme ci-dessous pour qu'il renvoie un encadrement de la racine carrée d'un nombre `a` avec une précision `p` donnée."
      ],
      "metadata": {
        "id": "WmAuxOJUWt9V"
      }
    },
    {
      "cell_type": "code",
      "source": [
        "def racine(a,p):\n",
        "  x=0\n",
        "  while x**2<a :\n",
        "    x=x+p\n",
        "  print(x-p,x)\n",
        "  "
      ],
      "metadata": {
        "id": "uA3SsutoW1Zr"
      },
      "execution_count": null,
      "outputs": []
    },
    {
      "cell_type": "markdown",
      "source": [
        "*4*) Afficher un encadrement de la racine carrée de 7 avec une précision de 10^(-6)"
      ],
      "metadata": {
        "id": "uv6BOwe4XRfb"
      }
    },
    {
      "cell_type": "code",
      "source": [
        "racine(7,10**(-6))"
      ],
      "metadata": {
        "id": "8Vdsjt8cXfV3"
      },
      "execution_count": null,
      "outputs": []
    }
  ]
}