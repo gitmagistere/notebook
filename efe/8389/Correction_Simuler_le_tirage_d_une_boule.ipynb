{
  "nbformat": 4,
  "nbformat_minor": 0,
  "metadata": {
    "colab": {
      "provenance": [],
      "collapsed_sections": []
    },
    "kernelspec": {
      "name": "python3",
      "display_name": "Python 3"
    },
    "language_info": {
      "name": "python"
    }
  },
  "cells": [
    {
      "cell_type": "markdown",
      "source": [
        "Une urne contient 3 boules blanches, 2 boules noires et 5 boules rouges."
      ],
      "metadata": {
        "id": "nsV1s7kUFAuL"
      }
    },
    {
      "cell_type": "markdown",
      "source": [
        "Compléter le programme ci-dessous pour qu'il simule le tirage d'une boule de cette urne."
      ],
      "metadata": {
        "id": "TTI2g8xPFwkg"
      }
    },
    {
      "cell_type": "code",
      "source": [
        "from random import *\n",
        "a=random()\n",
        "if a<0.3 :\n",
        "  print(\"Blanche\")\n",
        "elif 0.3<=a<0.5 :\n",
        "  print(\"Noire\")\n",
        "else:\n",
        "  print(\"Rouge\")"
      ],
      "metadata": {
        "id": "kZmiy6yHF3f0"
      },
      "execution_count": null,
      "outputs": []
    }
  ]
}