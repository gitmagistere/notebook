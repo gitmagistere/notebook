{
  "nbformat": 4,
  "nbformat_minor": 0,
  "metadata": {
    "colab": {
      "provenance": [],
      "collapsed_sections": []
    },
    "kernelspec": {
      "name": "python3",
      "display_name": "Python 3"
    },
    "language_info": {
      "name": "python"
    }
  },
  "cells": [
    {
      "cell_type": "markdown",
      "source": [
        "on considère la suite $(u_n)$ définie par:\n",
        "\n",
        "\n",
        "> $u_0=5$\n",
        "\n",
        "et\n",
        "\n",
        "$u_{n+1}=2u_n-7$ pour tout entier naturel $n$\n",
        "\n"
      ],
      "metadata": {
        "id": "e8jNaNYAMczL"
      }
    },
    {
      "cell_type": "markdown",
      "source": [
        "Compléter le programme ci-dessous."
      ],
      "metadata": {
        "id": "lkXxNzKk9am0"
      }
    },
    {
      "cell_type": "code",
      "source": [
        "def suite(n):\n",
        "  u=\n",
        "  for i in range():\n",
        "    u=\n",
        "  return()"
      ],
      "metadata": {
        "id": "uSmo4lBK9kAf"
      },
      "execution_count": null,
      "outputs": []
    },
    {
      "cell_type": "markdown",
      "source": [
        "Vérifier votre programme en calculant les 3 premiers termes de la suite"
      ],
      "metadata": {
        "id": "xjTxcgHw9vhf"
      }
    },
    {
      "cell_type": "code",
      "source": [
        "suite(),suite(),suite()"
      ],
      "metadata": {
        "id": "zIWkYRhA9uxw"
      },
      "execution_count": null,
      "outputs": []
    }
  ]
}