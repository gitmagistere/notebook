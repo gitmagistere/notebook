{
  "nbformat": 4,
  "nbformat_minor": 0,
  "metadata": {
    "colab": {
      "provenance": [],
      "collapsed_sections": []
    },
    "kernelspec": {
      "name": "python3",
      "display_name": "Python 3"
    },
    "language_info": {
      "name": "python"
    }
  },
  "cells": [
    {
      "cell_type": "markdown",
      "source": [
        "Taper les instructions permettant à une variable k de prendre les valeurs entières de 0 à 14.\n",
        "\n",
        "Demander d'afficher à l'intérieur de la boucle les valeurs de k pour vérifier que votre instruction est bonne."
      ],
      "metadata": {
        "id": "-QL8Lt2oAcuw"
      }
    },
    {
      "cell_type": "code",
      "execution_count": null,
      "metadata": {
        "id": "QSI-NqcyAb69"
      },
      "outputs": [],
      "source": []
    },
    {
      "cell_type": "markdown",
      "source": [
        "Taper les instructions permettant à une variable k de prendre les valeurs entières de 23 à 35.\n",
        "\n",
        "Demander d'afficher à l'intérieur de la boucle les valeurs de k pour vérifier que votre instruction est bonne."
      ],
      "metadata": {
        "id": "0BQ_xPLLBD7v"
      }
    },
    {
      "cell_type": "code",
      "source": [],
      "metadata": {
        "id": "ynB2HhxzBNmR"
      },
      "execution_count": null,
      "outputs": []
    },
    {
      "cell_type": "markdown",
      "source": [
        "Taper les instructions permettant à une variable k de prendre les valeurs entières de 5 à 25, avec un pas de 3\n",
        "\n",
        "Demander d'afficher à l'intérieur de la boucle les valeurs de k pour vérifier que votre instruction est bonne."
      ],
      "metadata": {
        "id": "MCiI3HpeBOKT"
      }
    },
    {
      "cell_type": "code",
      "source": [],
      "metadata": {
        "id": "Tm1PALqyHj7d"
      },
      "execution_count": null,
      "outputs": []
    }
  ]
}