{
  "nbformat": 4,
  "nbformat_minor": 0,
  "metadata": {
    "colab": {
      "provenance": [],
      "collapsed_sections": []
    },
    "kernelspec": {
      "name": "python3",
      "display_name": "Python 3"
    },
    "language_info": {
      "name": "python"
    }
  },
  "cells": [
    {
      "cell_type": "markdown",
      "source": [
        "Compléter le script ci-dessous."
      ],
      "metadata": {
        "id": "nujmgMTsh7HW"
      }
    },
    {
      "cell_type": "code",
      "execution_count": null,
      "metadata": {
        "id": "KI3n8kfYgM8r"
      },
      "outputs": [],
      "source": [
        "def somme(n) :\n",
        "  s=0\n",
        "  for i in range () :\n",
        "    s=\n",
        "  return()"
      ]
    },
    {
      "cell_type": "markdown",
      "source": [
        "Calculer la somme des entiers de 1 à 100."
      ],
      "metadata": {
        "id": "b3DeIBbYknr2"
      }
    },
    {
      "cell_type": "code",
      "source": [],
      "metadata": {
        "id": "zisdf36KknNs"
      },
      "execution_count": null,
      "outputs": []
    }
  ]
}