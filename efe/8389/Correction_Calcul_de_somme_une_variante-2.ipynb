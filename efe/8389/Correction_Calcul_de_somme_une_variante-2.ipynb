{
  "nbformat": 4,
  "nbformat_minor": 0,
  "metadata": {
    "colab": {
      "provenance": [],
      "collapsed_sections": []
    },
    "kernelspec": {
      "name": "python3",
      "display_name": "Python 3"
    },
    "language_info": {
      "name": "python"
    }
  },
  "cells": [
    {
      "cell_type": "code",
      "execution_count": null,
      "metadata": {
        "id": "KI3n8kfYgM8r"
      },
      "outputs": [],
      "source": [
        "def somme(n) :\n",
        "  s=0\n",
        "  for i in range (1,n+1) :\n",
        "    s=s+i\n",
        "  return(s)"
      ]
    },
    {
      "cell_type": "markdown",
      "source": [
        "Calculer la somme des entiers de 1 à 100."
      ],
      "metadata": {
        "id": "LVA5UXKDkurI"
      }
    },
    {
      "cell_type": "code",
      "source": [
        "somme(100)"
      ],
      "metadata": {
        "id": "Y5DoWa0nkwuw"
      },
      "execution_count": null,
      "outputs": []
    }
  ]
}