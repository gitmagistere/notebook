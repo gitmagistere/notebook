{
  "nbformat": 4,
  "nbformat_minor": 0,
  "metadata": {
    "colab": {
      "provenance": [],
      "collapsed_sections": []
    },
    "kernelspec": {
      "name": "python3",
      "display_name": "Python 3"
    },
    "language_info": {
      "name": "python"
    }
  },
  "cells": [
    {
      "cell_type": "markdown",
      "source": [
        "1) On rappelle que dans un kilogramme de riz, il y a environ 40 000 grains de riz. \n",
        "Actuellement, la production mondiale annuelle\n",
        "est d’environ 450 millions de tonnes de riz.\n",
        "\n",
        "Calculer le nombre de grains de riz produits annuellement dans le monde.\n"
      ],
      "metadata": {
        "id": "U6EJZGEzJRwd"
      }
    },
    {
      "cell_type": "code",
      "source": [],
      "metadata": {
        "id": "5rGvH2ABPKWS"
      },
      "execution_count": null,
      "outputs": []
    },
    {
      "cell_type": "markdown",
      "source": [
        "2) Compléter le programme ci-dessous pour qu'il renvoie la case à partir de laquelle le nombre de grains de riz déposés sur l'échiquier aura dépassé la production annuelle mondiale."
      ],
      "metadata": {
        "id": "1_L9N28cLWXu"
      }
    },
    {
      "cell_type": "code",
      "execution_count": null,
      "metadata": {
        "id": "2zV-yTySFzk1"
      },
      "outputs": [],
      "source": [
        "n=1\n",
        "u=1\n",
        "s=1\n",
        "while s<:\n",
        "  n=\n",
        "  u=\n",
        "  s=\n",
        "print()\n"
      ]
    }
  ]
}