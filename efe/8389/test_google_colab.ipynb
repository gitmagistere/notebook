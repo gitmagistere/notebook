{
  "nbformat": 4,
  "nbformat_minor": 0,
  "metadata": {
    "colab": {
      "provenance": [],
      "collapsed_sections": []
    },
    "kernelspec": {
      "name": "python3",
      "display_name": "Python 3"
    },
    "language_info": {
      "name": "python"
    }
  },
  "cells": [
    {
      "cell_type": "markdown",
      "source": [
        "### **Activité test Google colab**\n",
        "\n",
        "https://youtu.be/9Jih0dczTgU\n",
        "\n"
      ],
      "metadata": {
        "id": "M14QJ4if9GGb"
      }
    },
    {
      "cell_type": "markdown",
      "source": [
        "fonction double"
      ],
      "metadata": {
        "id": "UYKrdC9L9e-y"
      }
    },
    {
      "cell_type": "code",
      "source": [
        "def double(a):\n",
        "  return 2*a"
      ],
      "metadata": {
        "id": "r8kYN9Hf9k69"
      },
      "execution_count": 1,
      "outputs": []
    },
    {
      "cell_type": "markdown",
      "source": [
        "calculer dans la cellule ci-dessous le double de 4"
      ],
      "metadata": {
        "id": "0kSYLrAkBOMt"
      }
    },
    {
      "cell_type": "code",
      "source": [],
      "metadata": {
        "id": "wUm-mZFUBT0R"
      },
      "execution_count": null,
      "outputs": []
    },
    {
      "cell_type": "code",
      "source": [
        "double(3)"
      ],
      "metadata": {
        "colab": {
          "base_uri": "https://localhost:8080/"
        },
        "id": "iS7UhnzyBBqQ",
        "outputId": "e6982ad4-c6e2-4993-d3a8-b93eb10af9a4"
      },
      "execution_count": 2,
      "outputs": [
        {
          "output_type": "execute_result",
          "data": {
            "text/plain": [
              "6"
            ]
          },
          "metadata": {},
          "execution_count": 2
        }
      ]
    }
  ]
}