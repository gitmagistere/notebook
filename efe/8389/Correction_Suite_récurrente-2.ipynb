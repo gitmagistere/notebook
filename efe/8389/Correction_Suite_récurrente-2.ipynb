{
  "nbformat": 4,
  "nbformat_minor": 0,
  "metadata": {
    "colab": {
      "provenance": [],
      "collapsed_sections": []
    },
    "kernelspec": {
      "name": "python3",
      "display_name": "Python 3"
    },
    "language_info": {
      "name": "python"
    }
  },
  "cells": [
    {
      "cell_type": "markdown",
      "source": [
        "Compléter le programme ci-dessous."
      ],
      "metadata": {
        "id": "lkXxNzKk9am0"
      }
    },
    {
      "cell_type": "code",
      "source": [
        "def suite(n):\n",
        "  u=5\n",
        "  for i in range(n):\n",
        "    u=2*u-7\n",
        "  return(u)\n",
        "# Attention l'instruction return(u) doit être hors de la boucle for car on veut ce soit la dernière valeur de u calculée qui soit renvoyée par le programme."
      ],
      "metadata": {
        "id": "uSmo4lBK9kAf"
      },
      "execution_count": null,
      "outputs": []
    },
    {
      "cell_type": "code",
      "source": [
        "#Autre script possible\n",
        "def suite(n):\n",
        "  u=5\n",
        "  for i in range(1,n+1):\n",
        "    u=2*u-7\n",
        "  return(u)"
      ],
      "metadata": {
        "id": "9KnQQcVu8LPg"
      },
      "execution_count": null,
      "outputs": []
    },
    {
      "cell_type": "markdown",
      "source": [
        "Vérifier votre programme en calculant les 3 premiers termes de la suite"
      ],
      "metadata": {
        "id": "xjTxcgHw9vhf"
      }
    },
    {
      "cell_type": "code",
      "source": [
        "suite(1),suite(2),suite(3)"
      ],
      "metadata": {
        "id": "zIWkYRhA9uxw",
        "colab": {
          "base_uri": "https://localhost:8080/"
        },
        "outputId": "aeda0b8a-5bd0-4a49-a774-c113e18ddf0c"
      },
      "execution_count": null,
      "outputs": [
        {
          "output_type": "execute_result",
          "data": {
            "text/plain": [
              "(3, -1, -9)"
            ]
          },
          "metadata": {},
          "execution_count": 8
        }
      ]
    }
  ]
}