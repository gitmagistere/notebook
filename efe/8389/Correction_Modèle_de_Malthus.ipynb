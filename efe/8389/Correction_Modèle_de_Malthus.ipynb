{
  "nbformat": 4,
  "nbformat_minor": 0,
  "metadata": {
    "colab": {
      "provenance": []
    },
    "kernelspec": {
      "name": "python3",
      "display_name": "Python 3"
    },
    "language_info": {
      "name": "python"
    }
  },
  "cells": [
    {
      "cell_type": "markdown",
      "source": [
        "**Remarque :**\n",
        "\n",
        "Notons $p_n$ le nombre d’habitants en Angleterre (exprimé en millions) et $a_n$ le nombre d’habitants (exprimé en millions) que peut nourrir l’agriculture anglaise en $1800+n$.\n",
        "\n",
        "La suite $(p_n)n$ est géométrique de raison 1,02 et de terme initial $p_0=8,2$\n",
        "\n",
        "La suite $(a_n)n$ est arithmétique de raison 0,4 et de terme initial $a_0=10$"
      ],
      "metadata": {
        "id": "R_6bEs0fV9eG"
      }
    },
    {
      "cell_type": "code",
      "source": [
        "n=0\n",
        "p=8.2\n",
        "a=10\n",
        "#On initialise les valeurs des suites\n",
        "while a>p :\n",
        "  n=n+1\n",
        "  p=p*1.02\n",
        "  a=a+0.4\n",
        "#Tant que le terme de rang n de la suite a est plus grand que le terme de rang n de la suite p , on calcule les termes suivants des suites a et p \n",
        "print(n)"
      ],
      "metadata": {
        "colab": {
          "base_uri": "https://localhost:8080/"
        },
        "id": "S6tMQvX_X2OH",
        "outputId": "e46e58ed-aa8e-4d53-eef7-884a2d565aa8"
      },
      "execution_count": 1,
      "outputs": [
        {
          "output_type": "stream",
          "name": "stdout",
          "text": [
            "85\n"
          ]
        }
      ]
    },
    {
      "cell_type": "markdown",
      "source": [
        "Selon l’hypothèse formulée par Malthus, c'est donc à partir de l'année 1885 que la population ne pourra plus être suffisamment nourrie."
      ],
      "metadata": {
        "id": "ZIxZnKrceICY"
      }
    }
  ]
}