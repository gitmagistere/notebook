{
  "nbformat": 4,
  "nbformat_minor": 0,
  "metadata": {
    "colab": {
      "provenance": [],
      "collapsed_sections": []
    },
    "kernelspec": {
      "name": "python3",
      "display_name": "Python 3"
    },
    "language_info": {
      "name": "python"
    }
  },
  "cells": [
    {
      "cell_type": "markdown",
      "source": [
        "**Les différents types de variables**"
      ],
      "metadata": {
        "id": "cQL8Dr3tJTHZ"
      }
    },
    {
      "cell_type": "code",
      "execution_count": null,
      "metadata": {
        "id": "e9aeTyXpIcES"
      },
      "outputs": [],
      "source": [
        "a=17\n",
        "print(a)\n",
        "print(type(a))"
      ]
    },
    {
      "cell_type": "code",
      "source": [
        "b=5/2\n",
        "print(b)\n",
        "print(type(b))"
      ],
      "metadata": {
        "id": "Hdv8XzOqJekb"
      },
      "execution_count": null,
      "outputs": []
    },
    {
      "cell_type": "code",
      "source": [
        "c=\"bonjour\"\n",
        "print(c)\n",
        "print(type(c))"
      ],
      "metadata": {
        "id": "Bv82HjnXJkTr"
      },
      "execution_count": null,
      "outputs": []
    },
    {
      "cell_type": "code",
      "source": [
        "d=\"17\"\n",
        "print(d)\n",
        "print(type(d))"
      ],
      "metadata": {
        "id": "yew6OdSJJr2l"
      },
      "execution_count": null,
      "outputs": []
    },
    {
      "cell_type": "markdown",
      "source": [
        "Il existe différents types de variables sur Python:\n",
        "\n",
        "\n",
        "*   les entiers (int)\n",
        "*   les réels (float)\n",
        "\n",
        "*   les chaînes de caractères (str)\n",
        "\n",
        "etc\n",
        "\n",
        "L'instruction print(type(a)) permet d'afficher le type de la variable a.\n",
        "\n",
        "\n"
      ],
      "metadata": {
        "id": "QRnF2u04J213"
      }
    }
  ]
}