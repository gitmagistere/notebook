{
  "nbformat": 4,
  "nbformat_minor": 0,
  "metadata": {
    "colab": {
      "provenance": [],
      "collapsed_sections": []
    },
    "kernelspec": {
      "name": "python3",
      "display_name": "Python 3"
    },
    "language_info": {
      "name": "python"
    }
  },
  "cells": [
    {
      "cell_type": "markdown",
      "source": [
        "**Estimer une probabilité**"
      ],
      "metadata": {
        "id": "qZlBLjWC9cPY"
      }
    },
    {
      "cell_type": "markdown",
      "source": [
        "On se propose maintenant de répéter N fois la simulation de l’expérience aléatoire précédente. \n",
        "\n",
        "Dans chaque cas, pour n suffisamment grand, la fréquence observée f devrait être proche de la probabilité théorique p= 1/3.\n",
        "On veut calculer la proportion des cas pour lesquels l’écart entre f et p est inférieur ou égale à \n",
        "\n",
        "![Capture d’écran 2022-11-01 à 13.35.40.png](data:image/png;base64,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)\n",
        "\n",
        "\n",
        "On complète alors le programme précédent avec la fonction estim\n"
      ],
      "metadata": {
        "id": "8YQGxTON9dZ6"
      }
    },
    {
      "cell_type": "code",
      "source": [
        "from random import  *\n",
        "def lancer(n):\n",
        "  compteur=0\n",
        "  for i in range(n):\n",
        "    de=randint(1,6)\n",
        "    if de==3 or de==6 :\n",
        "      compteur=compteur+1\n",
        "      f=compteur/n\n",
        "  return(f)\n",
        "\n",
        "from math import*\n",
        "def estim(N,n):\n",
        "  compteur=0\n",
        "  for i in range (N):\n",
        "    f=lancer(n)\n",
        "    if abs(f-1/3)<=1/sqrt(n):\n",
        "      compteur=compteur+1\n",
        "  return(compteur/n)"
      ],
      "metadata": {
        "id": "hcDBUMtM-Era"
      },
      "execution_count": 4,
      "outputs": []
    },
    {
      "cell_type": "markdown",
      "source": [
        "1) A quoi correspond l'instruction `if abs(f-1/3)<=1/sqrt(n)` dans le programmende la fonction `estim`? \n",
        "\n",
        "A quoi sert la variable `compteur` et que renvoie la fonction `estim` ?"
      ],
      "metadata": {
        "id": "r_2ZcjKqQBTz"
      }
    },
    {
      "cell_type": "markdown",
      "source": [
        "Réponse :"
      ],
      "metadata": {
        "id": "1yxjwTjKQg9P"
      }
    },
    {
      "cell_type": "markdown",
      "source": [
        "2) Exécuter le programme pour différentes valeurs de N en choisissant n suffisamment grand, comme n = 10000."
      ],
      "metadata": {
        "id": "4XmgTXb4QjjQ"
      }
    },
    {
      "cell_type": "code",
      "source": [],
      "metadata": {
        "id": "GuEF1MRMJkHw"
      },
      "execution_count": null,
      "outputs": []
    },
    {
      "cell_type": "markdown",
      "source": [
        "3) Qu'observe-t-on ?"
      ],
      "metadata": {
        "id": "Ryn18EdCROxn"
      }
    },
    {
      "cell_type": "markdown",
      "source": [
        "Réponse :"
      ],
      "metadata": {
        "id": "XmRFRh90RR00"
      }
    }
  ]
}