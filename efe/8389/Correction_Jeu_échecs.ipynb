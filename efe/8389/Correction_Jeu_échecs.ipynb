{
  "nbformat": 4,
  "nbformat_minor": 0,
  "metadata": {
    "colab": {
      "provenance": [],
      "collapsed_sections": []
    },
    "kernelspec": {
      "name": "python3",
      "display_name": "Python 3"
    },
    "language_info": {
      "name": "python"
    }
  },
  "cells": [
    {
      "cell_type": "markdown",
      "source": [
        "1) On rappelle que dans un kilogramme de riz, il y a environ 40 000 grains de riz. \n",
        "Actuellement, la production mondiale annuelle\n",
        "est d’environ 450 millions de tonnes de riz.\n",
        "\n",
        "Calculer le nombre de grains de riz produits annuellement dans le monde.\n"
      ],
      "metadata": {
        "id": "U6EJZGEzJRwd"
      }
    },
    {
      "cell_type": "code",
      "source": [
        "450*10**6*10**3*40000"
      ],
      "metadata": {
        "colab": {
          "base_uri": "https://localhost:8080/"
        },
        "id": "GlfmQLznOpVR",
        "outputId": "6324849f-399a-48cb-b1d8-c558112b6f74"
      },
      "execution_count": 4,
      "outputs": [
        {
          "output_type": "execute_result",
          "data": {
            "text/plain": [
              "18000000000000000"
            ]
          },
          "metadata": {},
          "execution_count": 4
        }
      ]
    },
    {
      "cell_type": "markdown",
      "source": [
        "2) Compléter le programme ci-dessous pour qu'il renvoie la case à partir de laquelle le nombre de grains de riz déposés sur l'échiquier aura dépassé la production annuelle mondiale."
      ],
      "metadata": {
        "id": "1_L9N28cLWXu"
      }
    },
    {
      "cell_type": "code",
      "execution_count": 3,
      "metadata": {
        "id": "2zV-yTySFzk1",
        "colab": {
          "base_uri": "https://localhost:8080/"
        },
        "outputId": "05b509d1-5f81-43c8-d0db-6e8be7d55930"
      },
      "outputs": [
        {
          "output_type": "stream",
          "name": "stdout",
          "text": [
            "54\n"
          ]
        }
      ],
      "source": [
        "n=1\n",
        "u=1\n",
        "s=1\n",
        "while s<1.8*10**16:\n",
        "  n=n+1\n",
        "  u=u*2\n",
        "  s=s+u\n",
        "print(n)\n"
      ]
    }
  ]
}