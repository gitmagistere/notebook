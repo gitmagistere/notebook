{
  "nbformat": 4,
  "nbformat_minor": 0,
  "metadata": {
    "colab": {
      "provenance": [],
      "collapsed_sections": []
    },
    "kernelspec": {
      "name": "python3",
      "display_name": "Python 3"
    },
    "language_info": {
      "name": "python"
    }
  },
  "cells": [
    {
      "cell_type": "markdown",
      "source": [
        "Quelles instructions sur python permettent de générer une variable aléatoire `a` comprise entre 0 et 1 ?"
      ],
      "metadata": {
        "id": "-9d-utRA-s6b"
      }
    },
    {
      "cell_type": "code",
      "source": [],
      "metadata": {
        "id": "cA5MvN3hAKuO"
      },
      "execution_count": null,
      "outputs": []
    },
    {
      "cell_type": "markdown",
      "source": [
        "Compléter le programme ci-dessous pour qu'il simule le lancer d'une pièce (non truquée)."
      ],
      "metadata": {
        "id": "E18U0h6NALms"
      }
    },
    {
      "cell_type": "code",
      "source": [
        "from\n",
        "a=random()\n",
        "if        :\n",
        "  print(\"Pile\")\n",
        "else :\n",
        "  print()"
      ],
      "metadata": {
        "id": "mHZMSdLHAUFU"
      },
      "execution_count": null,
      "outputs": []
    }
  ]
}