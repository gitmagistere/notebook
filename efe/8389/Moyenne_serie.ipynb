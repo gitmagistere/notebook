{
  "nbformat": 4,
  "nbformat_minor": 0,
  "metadata": {
    "colab": {
      "provenance": [],
      "collapsed_sections": []
    },
    "kernelspec": {
      "name": "python3",
      "display_name": "Python 3"
    },
    "language_info": {
      "name": "python"
    }
  },
  "cells": [
    {
      "cell_type": "markdown",
      "source": [
        "Le programme moyenne renvoie  à une série (une liste de nombres) la moyenne de cette série."
      ],
      "metadata": {
        "id": "nHJsrthtYyyO"
      }
    },
    {
      "cell_type": "markdown",
      "source": [
        "1) Compléter le script ci-dessous."
      ],
      "metadata": {
        "id": "G3DXEkS8ZjgX"
      }
    },
    {
      "cell_type": "code",
      "execution_count": null,
      "metadata": {
        "id": "7GIYXlfNXR2m"
      },
      "outputs": [],
      "source": [
        "def moyenne(serie):\n",
        "  n=len(serie)\n",
        "  s=0\n",
        "  for x in serie:\n",
        "    s=\n",
        "  m=\n",
        "  return()"
      ]
    },
    {
      "cell_type": "markdown",
      "source": [
        "2) Calculer la moyenne de la série [-7,3,0,5,10]"
      ],
      "metadata": {
        "id": "3CLSC0iQZm1j"
      }
    },
    {
      "cell_type": "code",
      "source": [],
      "metadata": {
        "id": "hwWlpCSlamxt"
      },
      "execution_count": null,
      "outputs": []
    },
    {
      "cell_type": "markdown",
      "source": [
        "3) Calculer la moyenne de la série [2,-6,1,9,-3,40]"
      ],
      "metadata": {
        "id": "P6BJ_EDcanK0"
      }
    },
    {
      "cell_type": "code",
      "source": [],
      "metadata": {
        "id": "3XyPFwU2azRZ"
      },
      "execution_count": null,
      "outputs": []
    }
  ]
}