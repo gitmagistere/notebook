{
  "nbformat": 4,
  "nbformat_minor": 0,
  "metadata": {
    "colab": {
      "provenance": [],
      "collapsed_sections": []
    },
    "kernelspec": {
      "name": "python3",
      "display_name": "Python 3"
    },
    "language_info": {
      "name": "python"
    }
  },
  "cells": [
    {
      "cell_type": "markdown",
      "source": [
        "Taper les instructions permettant à une variable k de prendre les valeurs entières de 0 à 14.\n",
        "\n",
        "Demander aussi d'afficher les valeurs de k pour vérifier que votre instruction est bonne."
      ],
      "metadata": {
        "id": "-QL8Lt2oAcuw"
      }
    },
    {
      "cell_type": "code",
      "execution_count": null,
      "metadata": {
        "id": "QSI-NqcyAb69"
      },
      "outputs": [],
      "source": [
        "for k in range(15):\n",
        "  print(k)"
      ]
    },
    {
      "cell_type": "markdown",
      "source": [
        "Taper les instructions permettant à une variable k de prendre les valeurs entières de 23 à 30.\n",
        "\n",
        "Demander aussi d'afficher les valeurs de k pour vérifier que votre instruction est bonne."
      ],
      "metadata": {
        "id": "0BQ_xPLLBD7v"
      }
    },
    {
      "cell_type": "code",
      "source": [
        "for k in range(23,31):\n",
        "  print(k)"
      ],
      "metadata": {
        "id": "ynB2HhxzBNmR"
      },
      "execution_count": null,
      "outputs": []
    },
    {
      "cell_type": "markdown",
      "source": [
        "Taper les instructions permettant à une variable k de prendre les valeurs entières de 5 à 25, avec un pas de 3\n",
        "\n",
        "Demander aussi d'afficher les valeurs de k pour vérifier que votre instruction est bonne."
      ],
      "metadata": {
        "id": "MCiI3HpeBOKT"
      }
    },
    {
      "cell_type": "code",
      "source": [
        "for k in range (5,25,3):\n",
        "  print(k)"
      ],
      "metadata": {
        "id": "Oz35XJ1AB3c6"
      },
      "execution_count": null,
      "outputs": []
    }
  ]
}