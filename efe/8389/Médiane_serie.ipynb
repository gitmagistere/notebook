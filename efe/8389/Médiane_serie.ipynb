{
  "nbformat": 4,
  "nbformat_minor": 0,
  "metadata": {
    "colab": {
      "provenance": [],
      "collapsed_sections": []
    },
    "kernelspec": {
      "name": "python3",
      "display_name": "Python 3"
    },
    "language_info": {
      "name": "python"
    }
  },
  "cells": [
    {
      "cell_type": "markdown",
      "source": [
        "Le programme médiane renvoie  à une série (une liste de nombres) la médiane de cette série."
      ],
      "metadata": {
        "id": "nHJsrthtYyyO"
      }
    },
    {
      "cell_type": "markdown",
      "source": [
        "1) Compléter les lignes 5 et 7 du script ci-dessous."
      ],
      "metadata": {
        "id": "G3DXEkS8ZjgX"
      }
    },
    {
      "cell_type": "code",
      "execution_count": null,
      "metadata": {
        "id": "7GIYXlfNXR2m"
      },
      "outputs": [],
      "source": [
        "def mediane(serie):\n",
        "  serie.sort()\n",
        "  n=len(serie)\n",
        "  if n%2==0:\n",
        "    m=\n",
        "  else:\n",
        "    m=\n",
        "  return(m)"
      ]
    },
    {
      "cell_type": "markdown",
      "source": [
        "2) Calculer la médiane de la série [-7,3,0,5,10]"
      ],
      "metadata": {
        "id": "3CLSC0iQZm1j"
      }
    },
    {
      "cell_type": "code",
      "source": [],
      "metadata": {
        "id": "hwWlpCSlamxt"
      },
      "execution_count": null,
      "outputs": []
    },
    {
      "cell_type": "markdown",
      "source": [
        "3) Calculer la médiane de la série  [2,-6,1,9,-3,40,-1,-6]"
      ],
      "metadata": {
        "id": "P6BJ_EDcanK0"
      }
    },
    {
      "cell_type": "code",
      "source": [],
      "metadata": {
        "id": "3XyPFwU2azRZ"
      },
      "execution_count": null,
      "outputs": []
    }
  ]
}