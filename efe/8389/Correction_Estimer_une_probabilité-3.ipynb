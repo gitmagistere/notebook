{
  "nbformat": 4,
  "nbformat_minor": 0,
  "metadata": {
    "colab": {
      "provenance": [],
      "collapsed_sections": []
    },
    "kernelspec": {
      "name": "python3",
      "display_name": "Python 3"
    },
    "language_info": {
      "name": "python"
    }
  },
  "cells": [
    {
      "cell_type": "code",
      "source": [
        "from random import  *\n",
        "def lancer(n):\n",
        "  compteur=0\n",
        "  for i in range(n):\n",
        "    de=randint(1,6)\n",
        "    if de==3 or de==6 :\n",
        "      compteur=compteur+1\n",
        "      f=compteur/n\n",
        "  return(f)\n",
        "\n",
        "from math import*\n",
        "def estim(N,n):\n",
        "  compteur=0\n",
        "  for i in range (N):\n",
        "    f=lancer(n)\n",
        "    if abs(f-1/3)<=1/sqrt(n):\n",
        "      compteur=compteur+1\n",
        "  return(compteur/n)"
      ],
      "metadata": {
        "id": "hcDBUMtM-Era"
      },
      "execution_count": null,
      "outputs": []
    },
    {
      "cell_type": "markdown",
      "source": [
        "1) A quoi correspond l'instruction `if abs(f-1/3)<=1/sqrt(n)` dans le programme de la fonction `estim`? \n",
        "\n",
        "A quoi sert la variable `compteur` et que renvoie le fonction `estim` ?"
      ],
      "metadata": {
        "id": "r_2ZcjKqQBTz"
      }
    },
    {
      "cell_type": "markdown",
      "source": [
        "**Réponse :**\n",
        "\n",
        "L'instruction `if abs(f-1/3)<=1/sqrt(n)` teste si l'écart entre la fréquence f et la probabilité théorique p(égale à 1/3) est inférieure ou égale à 1/sqrt(n).\n",
        "\n",
        "La variable `compteur` compte le nombre de fois que cette condition est réalisée et la fonction `estim` renvoie la fréquence correspondante."
      ],
      "metadata": {
        "id": "1yxjwTjKQg9P"
      }
    },
    {
      "cell_type": "markdown",
      "source": [
        "2) Exécuter le programme pour différentes valeurs de N en choisissant n suffisamment grand, comme n = 10000."
      ],
      "metadata": {
        "id": "4XmgTXb4QjjQ"
      }
    },
    {
      "cell_type": "code",
      "source": [
        "estim(10, 10000), estim(50,10000), estim(100,10000), estim(1000,10000)"
      ],
      "metadata": {
        "id": "GuEF1MRMJkHw",
        "colab": {
          "base_uri": "https://localhost:8080/"
        },
        "outputId": "727ee1c7-53cc-4fc2-a48d-7a94e8b3bf94"
      },
      "execution_count": null,
      "outputs": [
        {
          "output_type": "execute_result",
          "data": {
            "text/plain": [
              "(0.0009, 0.0047, 0.0094, 0.0976)"
            ]
          },
          "metadata": {},
          "execution_count": 5
        }
      ]
    },
    {
      "cell_type": "markdown",
      "source": [
        "3) Qu'observe-t-on ?"
      ],
      "metadata": {
        "id": "Ryn18EdCROxn"
      }
    },
    {
      "cell_type": "markdown",
      "source": [
        "**Réponse :** \n",
        "\n",
        "Pour n assez grand, f donne une bonne estimation de p dans environ 95 % des cas. \n",
        "\n",
        "Il s'agit du principe de l’estimation d’une probabilité, ou d’une proportion dans une population,\n",
        "par une fréquence observée sur un échantillon"
      ],
      "metadata": {
        "id": "XmRFRh90RR00"
      }
    }
  ]
}