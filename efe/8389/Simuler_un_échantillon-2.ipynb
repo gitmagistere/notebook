{
  "nbformat": 4,
  "nbformat_minor": 0,
  "metadata": {
    "colab": {
      "provenance": [],
      "collapsed_sections": []
    },
    "kernelspec": {
      "name": "python3",
      "display_name": "Python 3"
    },
    "language_info": {
      "name": "python"
    }
  },
  "cells": [
    {
      "cell_type": "markdown",
      "source": [
        "Simuler un échantillon de taille n et observer la loi des grands nombres**"
      ],
      "metadata": {
        "id": "qZlBLjWC9cPY"
      }
    },
    {
      "cell_type": "markdown",
      "source": [
        "\n",
        "Le programme ci-dessous simule n lancers d'un dé à 6 faces et compte le nombre de fois que la face obtenue est un multiple de 3 (variable `compteur`) et renvoie la fréquence correspondante (variable `f`).\n",
        "\n"
      ],
      "metadata": {
        "id": "8YQGxTON9dZ6"
      }
    },
    {
      "cell_type": "markdown",
      "source": [
        "1) Compléter le."
      ],
      "metadata": {
        "id": "0rwzKL5IBtwB"
      }
    },
    {
      "cell_type": "code",
      "source": [
        "from random import  *\n",
        "def lancer(n):\n",
        "  compteur=0\n",
        "  for i in range():\n",
        "    de=randint(,)\n",
        "    if de== or de== :\n",
        "      compteur=\n",
        "      f=\n",
        "  return(f)\n"
      ],
      "metadata": {
        "id": "hcDBUMtM-Era"
      },
      "execution_count": null,
      "outputs": []
    },
    {
      "cell_type": "markdown",
      "source": [
        "2) Simuler les lancers de 10 dés, 100 dés, 1000 dés, 10 000 dés, 100 000 dés."
      ],
      "metadata": {
        "id": "_nnItz5hBwLC"
      }
    },
    {
      "cell_type": "code",
      "source": [],
      "metadata": {
        "id": "bi7l6x_NBvjd"
      },
      "execution_count": null,
      "outputs": []
    },
    {
      "cell_type": "markdown",
      "source": [
        "3) Qu'observe-ton ?"
      ],
      "metadata": {
        "id": "4tYYEcD4B2et"
      }
    },
    {
      "cell_type": "markdown",
      "source": [
        "Réponse :"
      ],
      "metadata": {
        "id": "7p2WoUNBB5dx"
      }
    }
  ]
}