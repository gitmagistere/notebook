{
  "nbformat": 4,
  "nbformat_minor": 0,
  "metadata": {
    "colab": {
      "provenance": [],
      "collapsed_sections": []
    },
    "kernelspec": {
      "name": "python3",
      "display_name": "Python 3"
    },
    "language_info": {
      "name": "python"
    }
  },
  "cells": [
    {
      "cell_type": "markdown",
      "source": [
        "On considère le programme ci-dessous pour lequel la variable `n` est un nombre entier.\n",
        "\n"
      ],
      "metadata": {
        "id": "PHJmUy4Z4BF9"
      }
    },
    {
      "cell_type": "code",
      "source": [
        "def fonction(n):\n",
        "  L=[]\n",
        "  d=2\n",
        "  while n>1:\n",
        "    if n%d==0:\n",
        "      while n%d==0:\n",
        "        L.append(d)\n",
        "        n=n//d\n",
        "    d=d+1\n",
        "  return(L)\n",
        "    "
      ],
      "metadata": {
        "id": "I4k2Beov4GPA"
      },
      "execution_count": 9,
      "outputs": []
    },
    {
      "cell_type": "markdown",
      "source": [
        "1) Exécuter ce programme sur différentes valeurs du nombre `n`."
      ],
      "metadata": {
        "id": "DV07y05V6PYk"
      }
    },
    {
      "cell_type": "code",
      "source": [],
      "metadata": {
        "id": "KQFaaqpN6tDU"
      },
      "execution_count": null,
      "outputs": []
    },
    {
      "cell_type": "markdown",
      "source": [
        "2) Que renvoie le programme fonction ?"
      ],
      "metadata": {
        "id": "Ng3zjKa169MS"
      }
    },
    {
      "cell_type": "markdown",
      "source": [
        "Réponse :"
      ],
      "metadata": {
        "id": "YtCFbnAj7E4v"
      }
    },
    {
      "cell_type": "markdown",
      "source": [
        "3) Que permet de tester l'instruction `if n%d==0` ?"
      ],
      "metadata": {
        "id": "z1hohPqL7GT_"
      }
    },
    {
      "cell_type": "markdown",
      "source": [
        "Réponse : "
      ],
      "metadata": {
        "id": "Fqqdbjk_7YNt"
      }
    },
    {
      "cell_type": "markdown",
      "source": [
        "4) Qu'effectue la boucle\n",
        "\n",
        "`while n%d==0:`\n",
        "\n",
        "> `L.append(d)\n",
        "\n",
        "> `n=n//d`\n",
        "\n",
        "?"
      ],
      "metadata": {
        "id": "7n1Pnsl-7cBK"
      }
    },
    {
      "cell_type": "markdown",
      "source": [
        "Réponse :"
      ],
      "metadata": {
        "id": "5NOfK9__9VNc"
      }
    }
  ]
}