{
  "nbformat": 4,
  "nbformat_minor": 0,
  "metadata": {
    "colab": {
      "provenance": [],
      "collapsed_sections": []
    },
    "kernelspec": {
      "name": "python3",
      "display_name": "Python 3"
    },
    "language_info": {
      "name": "python"
    }
  },
  "cells": [
    {
      "cell_type": "markdown",
      "source": [
        "**Partie 1**"
      ],
      "metadata": {
        "id": "gczgtgA8qint"
      }
    },
    {
      "cell_type": "markdown",
      "source": [
        "Soit `a `et `b` deux nombres entiers.\n",
        "Exécuter les lignes de script ci-dessous.\n"
      ],
      "metadata": {
        "id": "og7wUdzAboOS"
      }
    },
    {
      "cell_type": "code",
      "execution_count": null,
      "metadata": {
        "id": "dePXfQaibde9"
      },
      "outputs": [],
      "source": [
        "def fonction(a,b):\n",
        "  m=max(a,b)\n",
        "  for i in range(1,m+1):\n",
        "    if a%i==0 and b%i==0 :\n",
        "      print(i)"
      ]
    },
    {
      "cell_type": "code",
      "source": [
        "fonction (18,30)"
      ],
      "metadata": {
        "id": "bYQAnsblc6Py"
      },
      "execution_count": null,
      "outputs": []
    },
    {
      "cell_type": "code",
      "source": [
        "fonction(49,27)"
      ],
      "metadata": {
        "id": "zPBjPuXOc9mr"
      },
      "execution_count": null,
      "outputs": []
    },
    {
      "cell_type": "markdown",
      "source": [
        "1) Que permet de tester l'instruction conditionnelle :\n",
        "\n",
        "`if a%i==0 and b%i==0`  ?"
      ],
      "metadata": {
        "id": "mIvHNSelk4uR"
      }
    },
    {
      "cell_type": "markdown",
      "source": [
        "Réponse :"
      ],
      "metadata": {
        "id": "UkZKBx2-lCEx"
      }
    },
    {
      "cell_type": "markdown",
      "source": [
        "2) Que renvoie le programme `fonction` ?"
      ],
      "metadata": {
        "id": "3VnoU-NJqcee"
      }
    },
    {
      "cell_type": "markdown",
      "source": [
        "Réponse :"
      ],
      "metadata": {
        "id": "oOBrho98qwp_"
      }
    },
    {
      "cell_type": "markdown",
      "source": [
        "**Partie 2**"
      ],
      "metadata": {
        "id": "3J4-9d_gnD5R"
      }
    },
    {
      "cell_type": "markdown",
      "source": [
        "On a modifié le programme précédent pour obtenir une nouvelle fonction."
      ],
      "metadata": {
        "id": "Q9cKUY56adrq"
      }
    },
    {
      "cell_type": "code",
      "source": [
        "def fonction2(a,b):\n",
        "  m=max(a,b)\n",
        "  D=0\n",
        "  for i in range(1,m+1):\n",
        "    if a%i==0 and b%i==0 :\n",
        "        D=D+1\n",
        "  if D==1:\n",
        "    print(a,\"et\",b,\"sont premiers entre eux\")\n",
        "  else:\n",
        "    print(a,\"et\",b,\"ne sont pas premiers entre eux\")"
      ],
      "metadata": {
        "id": "PuI4OJZNqUet"
      },
      "execution_count": null,
      "outputs": []
    },
    {
      "cell_type": "code",
      "source": [
        "fonction2(18,30)"
      ],
      "metadata": {
        "id": "WkEmImCRrAM_"
      },
      "execution_count": null,
      "outputs": []
    },
    {
      "cell_type": "code",
      "source": [
        "fonction2(49,27)"
      ],
      "metadata": {
        "id": "dwT3P91qrEaO"
      },
      "execution_count": null,
      "outputs": []
    },
    {
      "cell_type": "markdown",
      "source": [
        "Que renvoie le programme `fonction2` ? A quoi sert la variable `D` ?"
      ],
      "metadata": {
        "id": "GQzHGEHRqZSO"
      }
    },
    {
      "cell_type": "markdown",
      "source": [
        "Réponse :"
      ],
      "metadata": {
        "id": "JCH7n_91rM9L"
      }
    }
  ]
}