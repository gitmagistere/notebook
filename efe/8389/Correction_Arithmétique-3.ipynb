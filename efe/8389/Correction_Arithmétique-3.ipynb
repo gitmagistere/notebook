{
  "nbformat": 4,
  "nbformat_minor": 0,
  "metadata": {
    "colab": {
      "provenance": [],
      "collapsed_sections": []
    },
    "kernelspec": {
      "name": "python3",
      "display_name": "Python 3"
    },
    "language_info": {
      "name": "python"
    }
  },
  "cells": [
    {
      "cell_type": "markdown",
      "source": [
        "**Partie 1**"
      ],
      "metadata": {
        "id": "gczgtgA8qint"
      }
    },
    {
      "cell_type": "markdown",
      "source": [
        "Soit `a `et `b` deux nombres entiers.\n",
        "Exécuter les lignes de script ci-dessous.\n"
      ],
      "metadata": {
        "id": "og7wUdzAboOS"
      }
    },
    {
      "cell_type": "code",
      "execution_count": null,
      "metadata": {
        "id": "dePXfQaibde9"
      },
      "outputs": [],
      "source": [
        "def fonction(a,b):\n",
        "  m=max(a,b)\n",
        "  for i in range(1,m+1):\n",
        "    if a%i==0 and b%i==0 :\n",
        "      print(i)"
      ]
    },
    {
      "cell_type": "code",
      "source": [
        "fonction (18,30)"
      ],
      "metadata": {
        "id": "bYQAnsblc6Py",
        "colab": {
          "base_uri": "https://localhost:8080/"
        },
        "outputId": "1b45ebd8-203d-408b-ef1b-33b20cee9dc6"
      },
      "execution_count": null,
      "outputs": [
        {
          "output_type": "stream",
          "name": "stdout",
          "text": [
            "1\n",
            "2\n",
            "3\n",
            "6\n"
          ]
        }
      ]
    },
    {
      "cell_type": "code",
      "source": [
        "fonction(49,27)"
      ],
      "metadata": {
        "id": "zPBjPuXOc9mr",
        "colab": {
          "base_uri": "https://localhost:8080/"
        },
        "outputId": "cab8530b-572c-4ff2-a0d1-e6b31e1ef9c7"
      },
      "execution_count": null,
      "outputs": [
        {
          "output_type": "stream",
          "name": "stdout",
          "text": [
            "1\n"
          ]
        }
      ]
    },
    {
      "cell_type": "markdown",
      "source": [
        "1) Que permet de tester l'instruction conditionnelle :\n",
        "if a%i==0 and b%i==0 ?"
      ],
      "metadata": {
        "id": "zqSVL--TlHsM"
      }
    },
    {
      "cell_type": "markdown",
      "source": [
        "**Réponse :** Elle permet de savoir si `i` divise `a` et `b`."
      ],
      "metadata": {
        "id": "tBNcTR4UlLQO"
      }
    },
    {
      "cell_type": "markdown",
      "source": [
        "2) Que renvoie le programme `fonction` ?"
      ],
      "metadata": {
        "id": "3VnoU-NJqcee"
      }
    },
    {
      "cell_type": "markdown",
      "source": [
        "**Réponse :** Le programme renvoie la liste des diviseurs communs de `a` et `b`."
      ],
      "metadata": {
        "id": "oOBrho98qwp_"
      }
    },
    {
      "cell_type": "markdown",
      "source": [
        "**Partie 2**"
      ],
      "metadata": {
        "id": "3J4-9d_gnD5R"
      }
    },
    {
      "cell_type": "code",
      "source": [
        "def fonction2(a,b):\n",
        "  m=max(a,b)\n",
        "  D=0\n",
        "  for i in range(1,m+1):\n",
        "    if a%i==0 and b%i==0 :\n",
        "        D=D+1\n",
        "  if D==1:\n",
        "    print(a,\"et\",b,\"sont premiers entre eux\")\n",
        "  else:\n",
        "    print(a,\"et\",b,\"ne sont pas premiers entre eux\")"
      ],
      "metadata": {
        "id": "PuI4OJZNqUet"
      },
      "execution_count": null,
      "outputs": []
    },
    {
      "cell_type": "code",
      "source": [
        "fonction2(18,30)"
      ],
      "metadata": {
        "id": "WkEmImCRrAM_",
        "colab": {
          "base_uri": "https://localhost:8080/"
        },
        "outputId": "770f75f6-386e-4d89-b80f-fcd7b2091439"
      },
      "execution_count": null,
      "outputs": [
        {
          "output_type": "stream",
          "name": "stdout",
          "text": [
            "18 et 30 ne sont pas premiers entre eux\n"
          ]
        }
      ]
    },
    {
      "cell_type": "code",
      "source": [
        "fonction2(49,27)"
      ],
      "metadata": {
        "id": "dwT3P91qrEaO",
        "colab": {
          "base_uri": "https://localhost:8080/"
        },
        "outputId": "b9795aac-d2c8-4534-f003-d15e17c67522"
      },
      "execution_count": null,
      "outputs": [
        {
          "output_type": "stream",
          "name": "stdout",
          "text": [
            "49 et 27 sont premiers entre eux\n"
          ]
        }
      ]
    },
    {
      "cell_type": "markdown",
      "source": [
        "Que renvoie le programme `fonction2 `? A quoi sert la variable `*D*` ?"
      ],
      "metadata": {
        "id": "GQzHGEHRqZSO"
      }
    },
    {
      "cell_type": "markdown",
      "source": [
        "**Réponse :**\n",
        "\n",
        "`fonction2` permet de savoir si deux nombres entiers `a` et `b` sont premiers entre eux.\n",
        "\n",
        "La variable `D` correspond au plus grand diviseur commun (PGCD) de `a` et `b`."
      ],
      "metadata": {
        "id": "JCH7n_91rM9L"
      }
    }
  ]
}