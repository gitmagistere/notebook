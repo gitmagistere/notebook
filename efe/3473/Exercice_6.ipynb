{
 "cells": [
  {
   "cell_type": "markdown",
   "metadata": {},
   "source": [
    "## Les entrées et les sorties\n"
   ]
  },
  {
   "cell_type": "markdown",
   "metadata": {},
   "source": [
    "L'affichage à l'écran :\n",
    "\n",
    "Dans un programme, il est souvent nécessaire d'afficher sur l'écran de l'ordinateur des résultats ou des phrases réponses. En langage Python la fonction\n",
    "\n",
    "    print()\n",
    " \n",
    "permet l'affichage du contenu entre parenthèse, qui peut être le contenu d'une ou plusieurs variables, du texte.\n",
    "\n",
    "L'entrée des valeurs par l'utilisateur :\n",
    "\n",
    "Lors de l'écriture d'un programme, il est possible d'utiliser des instructions qui permettent une interaction entre l'ordinateur et l'utilisateur. Le programme affiche alors une phrase à destination de l'utilisateur pour qu'il entre la donnée demandée, afin que le script continue son exécution.\n",
    "\n",
    "En langage Python, cette demande qui permet d'entrer une ou plusieurs données s'effectue grâce à la fonction :\n",
    "\n",
    "    input()\n",
    "\n",
    "La donnée demandée doit être affectée à une variable.\n",
    "\n",
    "Exemple 1 : demander à l'utilisateur un nombre entier\n",
    "\n",
    "Exécuter le script ci-dessous"
   ]
  },
  {
   "cell_type": "code",
   "execution_count": 3,
   "metadata": {},
   "outputs": [
    {
     "name": "stdout",
     "output_type": "stream",
     "text": [
      "Quel âge avez vous ? 41\n",
      "vous avez 41 ans\n"
     ]
    }
   ],
   "source": [
    "n=int(input(\"Quel âge avez vous ? \"))\n",
    "print(\"vous avez\",n,\"ans\")"
   ]
  },
  {
   "cell_type": "markdown",
   "metadata": {},
   "source": [
    "La fonction int() est utilisée pour demander un nombre entier. Ce nombre entier est stocké dans la variable n.\n",
    "Si vous n'entrez pas un nombre entier, un message d'erreur apparaît lors de l'exécution du script.\n",
    "\n",
    "Exemple 2 : demander à l'utilisateur un nombre flottant.\n",
    "\n",
    "Exécuter le script ci-dessous."
   ]
  },
  {
   "cell_type": "code",
   "execution_count": 13,
   "metadata": {},
   "outputs": [
    {
     "name": "stdout",
     "output_type": "stream",
     "text": [
      "Quel est le prix en € de l'article ?16.2\n",
      "Après une réduction de 15%, le nouveau prix de l'article est 13.77 €\n",
      "Je veux bien faire un dernier effort et arondir le prix de l'article à 13 €\n"
     ]
    }
   ],
   "source": [
    "x=float(input(\"Quel est le prix en € de l'article ?\"))\n",
    "print(\"Après une réduction de 15%, le nouveau prix de l'article est\",round(x*0.85,2),\"€\")\n",
    "print(\"Je veux bien faire un dernier effort et arondir le prix de l'article à\",int(x*0.85),\"€\")"
   ]
  },
  {
   "cell_type": "markdown",
   "metadata": {},
   "source": [
    "La fonction float() est utilisée pour demander un nombre flottant (nombre décimal). Ce nombre est stocké dans la variable x.\n",
    "Si vous n'entrez pas un nombre flottant (entier accepté), un message d'erreur apparaît lors de l'exécution du script. L'instruction round(...,2) donne l'arrondi du nombre ... à deux chiffres après la virgule. D'une manière générale la fonction round(k,n) permet de donner l'arrondi du nombre k à n chiffres après la virgule.\n",
    "\n",
    "Exemple 3 : demander une chaîne de caractères\n",
    "\n",
    "Exécuter le script ci-dessous"
   ]
  },
  {
   "cell_type": "code",
   "execution_count": 1,
   "metadata": {},
   "outputs": [
    {
     "name": "stdout",
     "output_type": "stream",
     "text": [
      "Quelle est votre prénom ?Clément\n",
      "Bonjour Clément\n"
     ]
    }
   ],
   "source": [
    "a=str(input(\"Quelle est votre prénom ?\"))\n",
    "print(\"Bonjour\",a)"
   ]
  },
  {
   "cell_type": "markdown",
   "metadata": {},
   "source": [
    "La fonction str() est utilisée pour demander une chaîne de caractères. Cette chaîne de caractères est stockée dans la variable a.\n",
    "\n",
    "Par défaut, si aucun type de variable n'est donné avant la fonction input(), la variable sera considérée comme une chaîne de caractère. Il est donc impératif de déclarer le type de variable (int ou float) si vous souhaitez demander un nombre à l'utilisateur.\n",
    "\n",
    "Exécuter le script suivant, et essayer de comprendre pourquoi un message d'erreur s'est affiché."
   ]
  },
  {
   "cell_type": "code",
   "execution_count": 3,
   "metadata": {},
   "outputs": [
    {
     "name": "stdout",
     "output_type": "stream",
     "text": [
      "saisir un nombre :12\n"
     ]
    },
    {
     "ename": "TypeError",
     "evalue": "can only concatenate str (not \"int\") to str",
     "output_type": "error",
     "traceback": [
      "\u001b[0;31m---------------------------------------------------------------------------\u001b[0m",
      "\u001b[0;31mTypeError\u001b[0m                                 Traceback (most recent call last)",
      "\u001b[0;32m/tmp/ipykernel_380/2150855431.py\u001b[0m in \u001b[0;36m<module>\u001b[0;34m\u001b[0m\n\u001b[1;32m      1\u001b[0m \u001b[0mb\u001b[0m\u001b[0;34m=\u001b[0m\u001b[0minput\u001b[0m\u001b[0;34m(\u001b[0m\u001b[0;34m\"saisir un nombre :\"\u001b[0m\u001b[0;34m)\u001b[0m\u001b[0;34m\u001b[0m\u001b[0;34m\u001b[0m\u001b[0m\n\u001b[0;32m----> 2\u001b[0;31m \u001b[0mprint\u001b[0m\u001b[0;34m(\u001b[0m\u001b[0mb\u001b[0m\u001b[0;34m+\u001b[0m\u001b[0;36m1\u001b[0m\u001b[0;34m)\u001b[0m\u001b[0;34m\u001b[0m\u001b[0;34m\u001b[0m\u001b[0m\n\u001b[0m",
      "\u001b[0;31mTypeError\u001b[0m: can only concatenate str (not \"int\") to str"
     ]
    }
   ],
   "source": [
    "b=input(\"saisir un nombre :\")\n",
    "print(b+1)\n",
    "### ici il y aura une erreur car on effetcue une opération entre un entier \"1\" et une chaine de caractère \"b\"."
   ]
  },
  {
   "cell_type": "markdown",
   "metadata": {},
   "source": [
    "Une fonction bien pratique pour les entrées de certains nombres :\n",
    "\n",
    "La bibliothèque math contient une fonction appelée eval(), qui permet d'entrer une valeur sous la forme d'une fraction (par ex 1/3), d'une racine carrée (par exemple sqrt(2) pour racine carrée de 2), ...\n",
    "\n",
    "Il faut au préalable l'importer de la bibliotèque math, ou importer toute la bibliothèque math.\n",
    "\n",
    "Exécuter le script suivant, en entrant une fraction, une racine carrée."
   ]
  },
  {
   "cell_type": "code",
   "execution_count": 6,
   "metadata": {},
   "outputs": [
    {
     "name": "stdout",
     "output_type": "stream",
     "text": [
      "Entrer le premier nombre : 2/5\n",
      "Entrer le deuxième nombre : 4/7\n",
      "0.22857142857142856\n"
     ]
    }
   ],
   "source": [
    "from math import*\n",
    "a=eval(input(\"Entrer le premier nombre : \"))\n",
    "b=eval(input(\"Entrer le deuxième nombre : \"))\n",
    "print(a*b)"
   ]
  },
  {
   "cell_type": "markdown",
   "metadata": {},
   "source": [
    "## A vous de jouer ..."
   ]
  },
  {
   "cell_type": "markdown",
   "metadata": {},
   "source": [
    "## Question 1\n",
    "\n",
    "Ecrire un script qui demande à l'utlisateur une distance en km, un temps en h, et affiche à l'écran une phrase indiquant la vitesse en km/h."
   ]
  },
  {
   "cell_type": "code",
   "execution_count": 8,
   "metadata": {
    "scrolled": true
   },
   "outputs": [
    {
     "name": "stdout",
     "output_type": "stream",
     "text": [
      "Entrez la distance (en km) que vous avez parcouru depuis votre départ :143.8\n",
      "Entrez le temps (en heure) que vous avez conduit jusqu'à présent :2\n",
      "vous roulez à une vitesse moyenne de 71.9 km/h\n"
     ]
    }
   ],
   "source": [
    "distance=float(input(\"Entrez la distance (en km) que vous avez parcouru depuis votre départ :\"))\n",
    "temps=int(input(\"Entrez le temps (en heure) que vous avez conduit jusqu'à présent :\"))\n",
    "vitesse=distance/temps\n",
    "print(\"vous roulez à une vitesse moyenne de\",vitesse,\"km/h\")\n"
   ]
  },
  {
   "cell_type": "markdown",
   "metadata": {},
   "source": [
    "## Question 2\n",
    "\n",
    "Ecrire un script qui demande à l'utilisateur deux lieux distincts, la distance en km qui sépare ces deux lieux, et qui affiche à l'écran une phrase donnant la distance aller-retour entre ces deux lieux."
   ]
  },
  {
   "cell_type": "code",
   "execution_count": 14,
   "metadata": {},
   "outputs": [
    {
     "name": "stdout",
     "output_type": "stream",
     "text": [
      "Quel est le nom de la première ville ? Dubaï\n",
      "Quel est le nom de la deuxième ville ? Le Caire\n",
      "quelle distance sépare ces 2 villes ? 3119.4\n",
      "La distance aller-retour entre Dubaï et Le Caire est de 6238.8 kilomètres\n"
     ]
    }
   ],
   "source": [
    "ville1=input(\"Quel est le nom de la première ville ? \")\n",
    "ville2=input(\"Quel est le nom de la deuxième ville ? \")\n",
    "d=float(input(\"quelle distance sépare ces 2 villes ? \"))\n",
    "ar=d*2        \n",
    "print(\"La distance aller-retour entre\",ville1,\"et\",ville2,\"est de\",ar,\"kilomètres\")"
   ]
  },
  {
   "cell_type": "markdown",
   "metadata": {},
   "source": [
    "## Question 3\n",
    "\n",
    "Ecrire un script qui demande à l'utilisateur le nombre de faces d'un dé, et qui affiche à l'écran, dans une phrase, le résultat d'un lancer au hasard de ce dé. (aide : penser à la bibliothèque random)."
   ]
  },
  {
   "cell_type": "code",
   "execution_count": 2,
   "metadata": {},
   "outputs": [
    {
     "name": "stdout",
     "output_type": "stream",
     "text": [
      "Entrer le nombre de faces du dé que vous souhaitez lancer : 20\n",
      "Lancement du dé : 5\n"
     ]
    }
   ],
   "source": [
    "from random import*\n",
    "nbfaces=int(input(\"Entrer le nombre de faces du dé que vous souhaitez lancer : \"))\n",
    "alea=randint(1,nbfaces)\n",
    "print(\"Lancement du dé :\",alea)"
   ]
  },
  {
   "cell_type": "markdown",
   "metadata": {},
   "source": [
    "## Le cas particulier des fonctions\n",
    "\n",
    "Pour les fonctions l'entrée par l'utilisateur s'effectue en donnant des valeurs particulières aux arguments.\n",
    "\n",
    "L'affichage à l'écran s'effectue grâce à l'instruction return."
   ]
  }
 ],
 "metadata": {
  "kernelspec": {
   "display_name": "Python 3",
   "language": "python",
   "name": "python3"
  },
  "language_info": {
   "codemirror_mode": {
    "name": "ipython",
    "version": 3
   },
   "file_extension": ".py",
   "mimetype": "text/x-python",
   "name": "python",
   "nbconvert_exporter": "python",
   "pygments_lexer": "ipython3",
   "version": "3.7.3"
  }
 },
 "nbformat": 4,
 "nbformat_minor": 2
}
