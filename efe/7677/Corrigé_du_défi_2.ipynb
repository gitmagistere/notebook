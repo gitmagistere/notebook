{
 "cells": [
  {
   "cell_type": "markdown",
   "id": "b6398d3f",
   "metadata": {},
   "source": [
    "# Corrigé du défi 2"
   ]
  },
  {
   "cell_type": "markdown",
   "id": "e7bfaa4c",
   "metadata": {},
   "source": [
    "Script de la fonction dessinePolygone"
   ]
  },
  {
   "cell_type": "code",
   "execution_count": 1,
   "id": "fda67357",
   "metadata": {},
   "outputs": [],
   "source": [
    "import matplotlib.pyplot as plt\n",
    "\n",
    "def dessinePolygone(LS):\n",
    "    # cette fonction prend comme argument une liste non vide LS de listes\n",
    "    # representant les coordonnees des sommets d’un polygone, et dessine\n",
    "    # ce polygone\n",
    "    #\n",
    "    # necessite le module matplotlib.pyplot\n",
    "\n",
    "    LX = [sommet[0] for sommet in LS]\n",
    "    LY = [sommet[1] for sommet in LS]\n",
    "    # on rajoute le 1er sommet en fin de liste, pour que le polygone soit ferme\n",
    "    LX.append(LX[0])\n",
    "    LY.append(LY[0])\n",
    "    plt.plot(LX, LY, \"r-\", linewidth = 2)\n",
    "    plt.show()\n"
   ]
  },
  {
   "cell_type": "code",
   "execution_count": 2,
   "id": "f40c1ae3",
   "metadata": {},
   "outputs": [
    {
     "data": {
      "image/png": "[encoded data removed]",
      "text/plain": [
       "<Figure size 432x288 with 1 Axes>"
      ]
     },
     "metadata": {
      "needs_background": "light"
     },
     "output_type": "display_data"
    }
   ],
   "source": [
    "dessinePolygone([[2,5],[-1,2],[4,3]])"
   ]
  },
  {
   "cell_type": "markdown",
   "id": "02a39e49",
   "metadata": {},
   "source": [
    "Script de la fonction dessinePolygone schemaDeverouillage"
   ]
  },
  {
   "cell_type": "code",
   "execution_count": 3,
   "id": "69af0be0",
   "metadata": {},
   "outputs": [],
   "source": [
    "def schemaDeverouillage(L):\n",
    "    # cette fonction prend comme argument une liste de listes représentant un\n",
    "    # schéma de déverrouillage de smartphone et le dessine\n",
    "    #\n",
    "    # necessite le module matplotlib.pyplot\n",
    "\n",
    "    # repere orthonorme mais non dessine...\n",
    "    plt.axis(\"equal\")\n",
    "    plt.axis(\"off\")\n",
    "\n",
    "    # dessin des neufs points\n",
    "    Lx = 3 * [0] + 3 * [1] + 3 * [2]\n",
    "    Ly = 3 * [0, 1, 2]\n",
    "    plt.plot(Lx, Ly, \"ok\", ms = 20)\n",
    "\n",
    "    # dessin du schema\n",
    "    Lx = [ elem[0] for elem in L ]\n",
    "    Ly = [ elem[1] for elem in L ]\n",
    "    plt.plot(Lx, Ly, \"-k\", lw = 10)\n",
    "\n",
    "    plt.show()\n",
    "\n",
    "# une liste pour tester...\n",
    "SCHEMA = [ [0, 0], [0, 1], [2, 1], [2, 2], [1, 0], [0, 2] ]"
   ]
  },
  {
   "cell_type": "code",
   "execution_count": 4,
   "id": "d3c56d82",
   "metadata": {},
   "outputs": [
    {
     "data": {
      "image/png": "[encoded data removed]",
      "text/plain": [
       "<Figure size 432x288 with 1 Axes>"
      ]
     },
     "metadata": {
      "needs_background": "light"
     },
     "output_type": "display_data"
    }
   ],
   "source": [
    "schemaDeverouillage(SCHEMA)"
   ]
  },
  {
   "cell_type": "code",
   "execution_count": null,
   "id": "8fd41ffb",
   "metadata": {},
   "outputs": [],
   "source": []
  }
 ],
 "metadata": {
  "kernelspec": {
   "display_name": "Python 3 (ipykernel)",
   "language": "python",
   "name": "python3"
  },
  "language_info": {
   "codemirror_mode": {
    "name": "ipython",
    "version": 3
   },
   "file_extension": ".py",
   "mimetype": "text/x-python",
   "name": "python",
   "nbconvert_exporter": "python",
   "pygments_lexer": "ipython3",
   "version": "3.9.7"
  }
 },
 "nbformat": 4,
 "nbformat_minor": 5
}
