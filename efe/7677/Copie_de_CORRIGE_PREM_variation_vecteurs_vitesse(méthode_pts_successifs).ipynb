{
  "nbformat": 4,
  "nbformat_minor": 0,
  "metadata": {
    "colab": {
      "name": "Copie de CORRIGE_PREM-variation_vecteurs_vitesse(méthode_pts-successifs).ipynb",
      "provenance": []
    },
    "kernelspec": {
      "name": "python3",
      "display_name": "Python 3"
    },
    "language_info": {
      "name": "python"
    }
  },
  "cells": [
    {
      "cell_type": "code",
      "execution_count": null,
      "metadata": {
        "id": "XtrHFJdewjDD"
      },
      "outputs": [],
      "source": [
        "# Programme permettant d'approcher les vecteurs vitesse et les vecteurs variation de la vitesse à partir de la méthode du point d'après\n",
        "\n",
        "#--------------------------Importation des librairies --------------------------\n",
        "import matplotlib.pyplot as plt\n",
        "\n",
        "\n",
        "#-------- Récupération des pointages sous forme de listes à coller ici  --------\n",
        "\n",
        "\n",
        "\n",
        "#------------------------- Initialisation des données --------------------------\n",
        "vx=[]    # crée la liste vx (composante selon l'axe des x de la vitesse v) ; pour l'instant la liste est vide\n",
        "vy=[]    # crée la liste vy (composante selon l'axe des y de la vitesse v) ; pour l'instant la liste est vide\n",
        "\n",
        "\n",
        "#---------------- Calcul des composantes des vecteurs vitesse ------------------\n",
        "nb_positions = len(t);                    # calcule le nombre de positions pointées (nombre d'éléments de chaque liste)\n",
        "for i in range(0, nb_positions-1) :\n",
        "  vx.append((x[i+1]-x[i])/(t[i+1]-t[i]))  # pour i allant de 0 à n-1, calcule la composante Vx et implémente la liste\n",
        "  vy.append((y[i+1]-y[i])/(t[i+1]-t[i]))  # pour i allant de 0 à n-1,calcule la composante Vx et implémente la liste\n",
        "\n",
        "\n",
        "#-------------------- Création des positions successives -----------------------\n",
        "plt.figure(figsize=(10, 10))              # permet de définir la taille du graphique\n",
        "plt.plot(x,y, marker='+', markersize = 8 ,color='g')  # trace la trajectoire en vert avec un marqueur \"+\" pour les points\n",
        "\n",
        "\n",
        "#-------------------- Création des vecteurs vitesse  ---------------------------\n",
        "for i in range(0, nb_positions-1,2) :     # l'argument, 2 permet de tracer un vecteur vitesse sur deux (il peut être ôté)\n",
        "  plt.arrow(x[i], y[i], 0.1*vx[i], 0.1*vy[i],head_width=0.02, color = \"red\") # modifier les coefficients pour ajuster la longueur des flèches et la taille des pointes\n",
        "\n",
        "\n",
        "#-------------------- Création des vecteurs variation de vitesse ---------------\n",
        "for i in range(0, nb_positions-2,2):        # l'argument, 2 permet de tracer un vecteur vitesse sur deux (il peut être ôté)\n",
        "  plt.arrow(x[i], y[i], 0.5*(vx[i+1]-vx[i]),0.5*(vy[i+1]-vy[i]),head_width=0.02, color = \"blue\") # modifier les coefficients pour ajuster la longueur des flèches et la taille des pointes\n",
        "\n",
        "\n",
        "#-------------------- Configuration du graphique ------------------------------\n",
        "plt.title(\"Etude d'un mouvement ______________ (méthode du point d'après)\")\n",
        "plt.xlabel(\"x en mètres\")\n",
        "plt.ylabel(\"y en mètres\")\n",
        "plt.grid()\n",
        "plt.plot(0,0,\"red\",label=r\"$\\overrightarrow{V_i}$\")\n",
        "plt.plot(0,0,\"blue\",label=r\"$\\overrightarrow{ΔV_i}$\")\n",
        "plt.legend(prop={'size':12})\n",
        "plt.xlim(0.8,1.2)\n",
        "#plt.axis('equal')\n",
        "plt.show()"
      ]
    }
  ]
}