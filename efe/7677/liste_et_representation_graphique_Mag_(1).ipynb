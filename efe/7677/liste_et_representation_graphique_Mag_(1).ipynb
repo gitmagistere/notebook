{
 "cells": [
  {
   "cell_type": "markdown",
   "metadata": {
    "id": "_yqU0k_OCOdf"
   },
   "source": [
    "\n",
    "\n",
    "```\n",
    "# This is formatted as code\n",
    "```\n",
    "\n",
    "### A- Les listes\n",
    "\n"
   ]
  },
  {
   "cell_type": "markdown",
   "metadata": {
    "id": "kFjeVmkV0Vli"
   },
   "source": [
    "\n",
    "En sciences, nous récoltons souvent des données, sous forme de listes:\n",
    "\n",
    "Temps         (s)\t      0\t /  5\t /  10\t /   15\t  / 20\n",
    "\n",
    "Abscisse      x(m)    \t0,5\t/  6,9\t/   2,4  /\t5,1\t /   -3\n",
    "\n",
    "Exemple:\n",
    "\n",
    "La liste ci-dessous va être déclarée en Python grâce à l’instruction suivante : \n",
    "X = [0.5, 6.9, 2.4, 5.1, -3]\n",
    "Faites print pour vous rendre compte du stockage sous forme de liste.\n"
   ]
  },
  {
   "cell_type": "code",
   "execution_count": null,
   "metadata": {
    "id": "ZEV_Wbiu0lKJ"
   },
   "outputs": [],
   "source": [
    "X = [0.5, 6.9, 2.4, 5.1, -3]\n",
    "print(X)"
   ]
  },
  {
   "cell_type": "code",
   "execution_count": null,
   "metadata": {
    "id": "QnvLiQ8wqfv-"
   },
   "outputs": [],
   "source": []
  },
  {
   "cell_type": "markdown",
   "metadata": {
    "id": "7Ujc8jFU25g7"
   },
   "source": [
    "Pour récupérer (par  exemple afficher) une valeur de la liste, on écrit print(X[indice]) \n",
    "\n",
    "Attention,les indices commencent à 0. Par exemple print(X[0]) vous donnera la valeur 0,5\n",
    "\n",
    "\n",
    "Ecrire le programme permettant d'afficher  la valeur 2,4.\n",
    "\n",
    "***A jous de jouer, tester***\n",
    "\n"
   ]
  },
  {
   "cell_type": "code",
   "execution_count": null,
   "metadata": {
    "id": "KU8UcpGPClNQ"
   },
   "outputs": [],
   "source": []
  },
  {
   "cell_type": "markdown",
   "metadata": {
    "id": "W5W38g7EHYQG"
   },
   "source": [
    "Et si vous avez plusieurs tableaux, alors il faudra déclarer plusieurs listes.\n",
    "\n",
    "Ex\n",
    "\n",
    "t (s)  1 / 2 / 3 / 4 \n",
    "\n",
    "EC (en J)  2000/ 4000 / 5000 / 6000\n",
    "\n",
    "EP ( en J) 8000 / 5000 / 3000 / 1000\n",
    "\n",
    "Les mathématiciens, vous vous souvenez de l'énergie mécanique n'est ce pas? Allez... un effort: c'est la somme de l'énergie cinétique (Ec) et de l'énergie potentielle (Ep)\n",
    "\n",
    "ATTENTION: Si vous faites EC + EP, les deux listes vont s'ajouter... parfait non? Sauf que non!! \"Ajouter\" pour une liste, veut dire l'une à la suite de l'autre!!\n",
    "\n",
    "Ec + Ep  2000/ 4000 / 5000 / 6000 / 8000 / 6000 / 5000 / 4000\n",
    "\n",
    "Si vous voulez faire calculer l'énergie mécanique, il faut donc fonctionner avec les indices.\n",
    "\n",
    "Exemple: Compléter le programme permettant de calculer et d'afficher l'énergie mécanique lorsque le temps est de 3s\n",
    "\n",
    "On verra ensuite comment obtenir la liste de l'énergie mécanique pour toutes les positions"
   ]
  },
  {
   "cell_type": "code",
   "execution_count": null,
   "metadata": {
    "id": "pVCuqY75JLnm"
   },
   "outputs": [],
   "source": [
    "t = [1 ,2 , 3 , 4]\n",
    "Ec = [2000, 4000 , 5000 , 6000]\n",
    "Ep = [8000, 5000 , 3000 , 1000]"
   ]
  },
  {
   "cell_type": "markdown",
   "metadata": {
    "id": "qPgVqGgQclfX"
   },
   "source": [
    "### B - Remplir une liste"
   ]
  },
  {
   "cell_type": "markdown",
   "metadata": {
    "id": "77WyKScgB2ub"
   },
   "source": [
    "\n",
    "\n",
    "En effet, vous avez réussi à calculer l'énegie mécanique pour chaque position. \n",
    "\n",
    "Il va falloir maintenant créer le tableau de l'énergie mécanique. (attention si Ec et Ep sont des tableaux, alors si vous faites Ec+Ep les deux tableaux ne vont pas s'ajouter position après position, mais l'une à la suite de l'autre. Ayez bien cela en tête!!) \n",
    "\n",
    "Voyons, en premier exemple, comment créer le tableau de l'énergie cinétique Ec connaissant les valeurs de vitesse. (allez, encore un effort les mathématiciens: la formule de l'énergie cinétique est Ec = 1/2 * m * v²)\n",
    "\n",
    "\n",
    "Regardez le programme, et exécutez le:\n",
    "\n"
   ]
  },
  {
   "cell_type": "code",
   "execution_count": null,
   "metadata": {
    "id": "B-WNrzKGHRuB"
   },
   "outputs": [],
   "source": [
    "vitesse = [-1, -1.9, -2.9, -3.9, -4.9, -5.8, -6.9]\n",
    "\n",
    "m = 3.0\n",
    "Ec=[]\n",
    "for v in vitesse:\n",
    "    Ec.append(0.5*m*v**2)\n",
    "\n",
    "print (Ec)\n"
   ]
  },
  {
   "cell_type": "markdown",
   "metadata": {
    "id": "d0Wb8QiKHob-"
   },
   "source": [
    "L'écriture \"Ec=[  ]\" sert à définir que Ec sera un tableau (pour le moment vide).\n",
    "\n",
    "Sans cette définition, vous aurez un message d'erreur car Python ne peut pas savoir que Ec sera un tableau.\n",
    "\n",
    "Ensuite, vous allez remplir le tableau. Cela consiste à ajouter les unes après les autres les valeurs de l'Ec en parcourant les valeurs du tableau de vitesse. L'instruction \".append\" sert à cela.\n",
    "\n",
    "Le programme affiche bien les valeurs de l'Ec dans un tableau.\n",
    "\n",
    "\n",
    "--Exercice de première spécialité physique/chimie: Vous disposez d'une liste contenant les valeurs de la position ci dessous.\n",
    "Faire afficher dans une liste les valeurs de l'énergie potentielle (Ep= m* 9,81 * position verticale)"
   ]
  },
  {
   "cell_type": "code",
   "execution_count": null,
   "metadata": {
    "id": "IYh07OlhJkkq"
   },
   "outputs": [],
   "source": [
    "position_y= [8.23, 8.09, 7.85, 7.5, 7.06, 6.52, 5.89]\n",
    "masse = 3.0\n",
    "\n"
   ]
  },
  {
   "cell_type": "markdown",
   "metadata": {
    "id": "dTtuxahTNmsW"
   },
   "source": [
    "A vous de jouer maintenant.\n",
    "\n",
    "Récupérer vos deux listes  d'énergie cinétique et potentielle, puis créer la liste d'énergie mécanique (il faudra utiliser la boucle for, et la fonction .append)\n",
    "C'est parti!!"
   ]
  },
  {
   "cell_type": "code",
   "execution_count": null,
   "metadata": {
    "id": "dKLoD_iqN---"
   },
   "outputs": [],
   "source": [
    "#commencer par coller vos deux tableaux Ec et Ep\n"
   ]
  },
  {
   "cell_type": "markdown",
   "metadata": {
    "id": "432WeSdd-Sln"
   },
   "source": [
    "### C- appeler une bibliothèque ou un module\n",
    "\n",
    "Le langage Python est fourni avec des fonctions de base. Mais nous aurons parfois besoin  d'exécuter des racines carrés, des sinus, de faire des graphes, tracer des vecteurs....\n",
    "\n",
    "Il faudra alors faire appel à des bibliothèques ou modules (instructions déjà écrites par d'autres personnes de la communauté Python et partagées... ce qui nous évitera bien de les programmer ;-) )\n",
    "Ce sera le cas des fonctions sinus, cosinus par exemple.\n",
    "\n",
    "Par exemple: pour importer la fonction racine carré (sqrt) contenu dans la bibliothèque math, on écrira en tout début de programme: \n",
    "\n",
    "from math import sqrt\n",
    "\n",
    "ou pour la fonction sinus, cosinus, ou même pour le nombre  pi :\n",
    "\n",
    " from math import sin,cos,pi\n"
   ]
  },
  {
   "cell_type": "code",
   "execution_count": null,
   "metadata": {
    "id": "xOVJMTu9KMOc"
   },
   "outputs": [],
   "source": [
    "# taper ci dessous le code permettant de faire afficher la valeur du sinus, et de la racine carré de  la variable A, lorsque A prend différentes valeurs\n",
    "\n"
   ]
  },
  {
   "cell_type": "markdown",
   "metadata": {
    "id": "y4ymvxlURpEA"
   },
   "source": [
    "### D- Les graphes... "
   ]
  },
  {
   "cell_type": "markdown",
   "metadata": {
    "id": "c6ooiFDLSGWB"
   },
   "source": [
    "\n",
    "Le tracé de graphe ou de vecteurs utilise les instructions classiques (boucles...).\n",
    "Simplement, nous utiliserons des bibliothèques, c'est à dire un ensemble de programme, déjà fait, qui permettra d'indiquer à Python que l'on veut tracer une courbe, ou des vecteurs.\n",
    "\n",
    "En sciences, nous utiliserons le plus souvent la bibliothèque \"matplotlib\" (destinée à tracer et visualiser des données sous formes de graphiques), combinée  avec la bibliothèques python de calcul scientifique NumPy.\n",
    "\n",
    "\n",
    "\n",
    "\n",
    "La bibliothèque s'importe de la fonction suivante avant chaque programme\n",
    "\n",
    "import numpy as np\n",
    "\n",
    "import matplotlib.pyplot as plt\n",
    "\n",
    "(comprendre, lorsque vous avez besoin de la bibliothèque \"Numpy\", on écrirera \"np\" devant l'instruction .\n",
    "Et lorsque vous avez besoin de la bibliothèque \"matplotlib\", on écrirera \"plt\" devant l'instruction.\n"
   ]
  },
  {
   "cell_type": "markdown",
   "metadata": {
    "id": "Jq7g9VX9T72Q"
   },
   "source": [
    "Quelques manip pour comprendre"
   ]
  },
  {
   "cell_type": "code",
   "execution_count": null,
   "metadata": {
    "id": "093aRbcR3QMi"
   },
   "outputs": [],
   "source": [
    "import numpy as np\n",
    "import matplotlib.pyplot as plt\n",
    "\n",
    "#Positions du point M\n",
    "\n",
    "x=[0, 10.4, 20.9, 31.3, 41.7, 52.1, 62.5]\n",
    "y=[1.10, 1.10, 1.10, 1.10, 1.10, 1.10, 1.10]\n",
    "\n",
    "#Tracé de la chronophotographie\n",
    "\n",
    "plt.plot(x,y,'o',markersize=4)\n",
    "\n",
    "plt.xlabel(\"x (en m)\")\n",
    "plt.ylabel(\"y (en m)\")\n",
    "plt.title(\"Chronophotographie du mouvement\")\n",
    "plt.show()"
   ]
  },
  {
   "cell_type": "markdown",
   "metadata": {
    "id": "X577SMZXCmta"
   },
   "source": [
    "Dans un premier, amusez-vous à changer les points. Par exemple, modifier le programme ci dessous et faire apparaître une tractoire rectiligne suivant l'axe des y."
   ]
  },
  {
   "cell_type": "code",
   "execution_count": null,
   "metadata": {
    "id": "RDl-IoUvenXZ"
   },
   "outputs": [],
   "source": []
  },
  {
   "cell_type": "markdown",
   "metadata": {
    "id": "NCt1JBHn6f2J"
   },
   "source": [
    "Vous avez toute la liberté de choisir \n",
    "\n",
    "- la couleur (il suffit d'ajouter la première lettre de la couleur devant le signe (b: blue, g: green, r: red, y: yellow)(regarder ci dessous l'écriture)\n",
    "\n",
    "- la forme du signe: vous pouvez remplacer le \"o\", par \"x\" ou \"+\", ou bien \"v\", \"<\"...\n",
    "\n",
    "- l'épaisseur avec \"markersize\"\n",
    "\n",
    "\n",
    "Modifiez le programme ci dessous et amusez-vous à changer la couleur, la forme et l'épaisseur."
   ]
  },
  {
   "cell_type": "code",
   "execution_count": null,
   "metadata": {
    "id": "Ww7HFbjm5lse"
   },
   "outputs": [],
   "source": [
    "import numpy as np\n",
    "import matplotlib.pyplot as plt\n",
    "\n",
    "#Positions du point M\n",
    "\n",
    "x=[0, 10.4, 20.9, 31.3, 41.7, 52.1, 62.5]\n",
    "y=[1.10, 1.10, 1.10, 1.10, 1.10, 1.10, 1.10]\n",
    "\n",
    "#Tracé de la chronophotographie\n",
    "\n",
    "plt.plot(x,y,'b:o',markersize=10)\n",
    "\n",
    "plt.xlabel(\"x (en m)\")\n",
    "plt.ylabel(\"y (en m)\")\n",
    "plt.title(\"Chronophotographie du mouvement\")\n",
    "plt.show()"
   ]
  },
  {
   "cell_type": "markdown",
   "metadata": {
    "id": "st2WNK-CPy1Z"
   },
   "source": [
    "A vous de jouer: créer le graphe de la variation de l'énergie mécanique (fin du paragraphe B) en fonction du temps."
   ]
  },
  {
   "cell_type": "code",
   "execution_count": null,
   "metadata": {
    "id": "nS8yAEW5QFAs"
   },
   "outputs": [],
   "source": [
    "#Trace de l'énergie mécanique en fonction du temps\n",
    "t=[0,1,2,3,4,5,6]\n"
   ]
  },
  {
   "cell_type": "markdown",
   "metadata": {
    "id": "Gkxb27yr33KT"
   },
   "source": [
    "### E- Les vecteurs"
   ]
  },
  {
   "cell_type": "markdown",
   "metadata": {
    "id": "RjT8l1a782rd"
   },
   "source": [
    "Pas de difficultés majeures à ce sujet.\n",
    "Nous importerons la même bibliothèque, mais au lieu d'appeler la fonction plt.plot, nous appellerons la fonction plt.quiver.\n",
    "\n",
    "Il faut alors la paramétrer simplement de la façon suivante:\n",
    "\n",
    "plt.quiver(origine du vecteur en x, origine du vecteur en y , norme du vecteur en x, norme du vecteur en y, color = , échelle du vecteur, le nom du plan)\n",
    "\n",
    "Manipuler l'exemple ci dessous, et déplacer la flèche sur un autre point, agrandisser là, changer sa couleur. (la norme en x du vecteur est de 0.05, et en y: 0.05)\n",
    "\n",
    "\n",
    "Si vous voulez agrandir la flèche choisissez une valeur de scale inférieure à un. Si vous souhaitez rétrécir la flèche, choisissez une valeur de scale supérieure à 1."
   ]
  },
  {
   "cell_type": "code",
   "execution_count": 1,
   "metadata": {
    "colab": {
     "base_uri": "https://localhost:8080/",
     "height": 295
    },
    "id": "Tw89XKxQBtC8",
    "outputId": "aa2616b0-dd91-44aa-c86a-fa3e77198567"
   },
   "outputs": [
    {
     "data": {
      "image/png": "[encoded data removed]",
      "text/plain": [
       "<Figure size 432x288 with 1 Axes>"
      ]
     },
     "metadata": {
      "needs_background": "light"
     },
     "output_type": "display_data"
    }
   ],
   "source": [
    "import numpy as np\n",
    "import matplotlib.pyplot as plt\n",
    "\n",
    "#Positions du point M\n",
    "posx=[0, 0, 0, 0, 0, 0, 0]\n",
    "posy=[0, 10.4, 20.9, 31.3, 41.7, 52.1, 62.5]\n",
    "\n",
    "#Trace de la chronophotographie\n",
    "plt.plot(posx,posy,'o',markersize=4)\n",
    "plt.xlabel(\"x (en m)\")\n",
    "plt.ylabel(\"y (en m)\")\n",
    "plt.title(\"Chronophotographie du mouvement\")\n",
    "\n",
    "plt.quiver(0,20.9,0.05,0.05, color=\"red\",scale=1,scale_units='xy')\n",
    "\n",
    "\n",
    "#Affichage\n",
    "plt.show()\n"
   ]
  },
  {
   "cell_type": "markdown",
   "metadata": {
    "id": "94GQqc-KTAz0"
   },
   "source": [
    "Pas de difficultés importantes pour tracer des vecteurs. \n",
    "\n",
    "\n",
    "Faisons un dernier exercice de première: « Représenter des vecteurs vitesse d’un système modélisé par un point lors d’un mouvement à l’aide d’un langage de programmation. »\n",
    "\n",
    "A partir des coordonnées en x et en y des points sur la trajectoire ci dessus, on obtient les valeurs de la vitesse suivantes selon les coordonnées horizontales et verticales:\n",
    "\n",
    "Vx = [0,0,0,0,0,0,0] et Vy = [10.4,10.4,10.4,10.4,10.4,10.4,10.4]\n",
    "\n",
    "Objectifs: ecrire le programme permettant d'afficher la trajectoire et de tracer tous les vecteurs vitesse.\n",
    "\n",
    "Pour information, vous aurez besoin d’une boucle for pour tracer tous les vecteurs.\n",
    "\n",
    "A vous de jouer\n",
    "\n"
   ]
  },
  {
   "cell_type": "code",
   "execution_count": null,
   "metadata": {
    "id": "tfbTHnf6X4DP"
   },
   "outputs": [],
   "source": [
    "#tracé de tous les vecteurs vitesse\n",
    "import numpy as np\n",
    "import matplotlib.pyplot as plt\n",
    "\n",
    "\n",
    "\n",
    "\n"
   ]
  },
  {
   "cell_type": "markdown",
   "metadata": {
    "id": "7jAszDk4f5YS"
   },
   "source": [
    "Il ne nous reste plus maintenant qu'à traiter un grand nombre de données...\n",
    "Suite la semaine prochaine ;-)"
   ]
  }
 ],
 "metadata": {
  "colab": {
   "collapsed_sections": [],
   "name": "liste_et_representation_graphique (3).ipynb",
   "provenance": []
  },
  "kernelspec": {
   "display_name": "Python 3 (ipykernel)",
   "language": "python",
   "name": "python3"
  },
  "language_info": {
   "codemirror_mode": {
    "name": "ipython",
    "version": 3
   },
   "file_extension": ".py",
   "mimetype": "text/x-python",
   "name": "python",
   "nbconvert_exporter": "python",
   "pygments_lexer": "ipython3",
   "version": "3.9.7"
  }
 },
 "nbformat": 4,
 "nbformat_minor": 1
}
