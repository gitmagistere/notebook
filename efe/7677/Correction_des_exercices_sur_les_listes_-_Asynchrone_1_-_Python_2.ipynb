{
 "cells": [
  {
   "cell_type": "markdown",
   "id": "dc5bcc62",
   "metadata": {},
   "source": [
    "# Correction des exercices sur les listes"
   ]
  },
  {
   "cell_type": "markdown",
   "id": "4bc704b9",
   "metadata": {},
   "source": [
    "Correction de l'exercice 1"
   ]
  },
  {
   "cell_type": "code",
   "execution_count": 5,
   "id": "45a3933a",
   "metadata": {},
   "outputs": [],
   "source": [
    "g = 9.81\n",
    "h = 320\n",
    "altitudes = []   # Création de la liste vide altitudes\n",
    "\n",
    "def z(t):\n",
    "# définition de la loi horaire\n",
    "\treturn -0.5*g*t**2 + h\n",
    "\n",
    "for k in range(8):\n",
    "    altitudes.append(z(k))\n",
    "\n",
    "altitudesbis=[z(k) for k in range(8)]"
   ]
  },
  {
   "cell_type": "code",
   "execution_count": null,
   "id": "7022ac87",
   "metadata": {},
   "outputs": [],
   "source": []
  },
  {
   "cell_type": "markdown",
   "id": "86859dd4",
   "metadata": {},
   "source": [
    "Correction de l'exercice 2"
   ]
  },
  {
   "cell_type": "code",
   "execution_count": 7,
   "id": "24790429",
   "metadata": {},
   "outputs": [],
   "source": [
    "def multiples():\n",
    "    L=[k for k in range(101) if k%3==0 or k%5==0]\n",
    "    return L"
   ]
  },
  {
   "cell_type": "code",
   "execution_count": null,
   "id": "93fdd174",
   "metadata": {},
   "outputs": [],
   "source": []
  },
  {
   "cell_type": "markdown",
   "id": "ef873f8b",
   "metadata": {},
   "source": [
    "Correction de l'exercice 3"
   ]
  },
  {
   "cell_type": "code",
   "execution_count": 10,
   "id": "f6e82e95",
   "metadata": {},
   "outputs": [],
   "source": [
    "hebdo = [7.5, 10.0, 12.5, 8.0, 11.0, 5.5, 13.7]\n",
    "\n",
    "def farenheit(TC):\n",
    "    TF=1.38*TC+32\n",
    "    return TF\n",
    "\n",
    "def conv(liste):\n",
    "    L=[]\n",
    "    for t in liste:\n",
    "        L.append(farenheit(t))\n",
    "    return L"
   ]
  },
  {
   "cell_type": "code",
   "execution_count": null,
   "id": "8e036928",
   "metadata": {},
   "outputs": [],
   "source": []
  },
  {
   "cell_type": "code",
   "execution_count": null,
   "id": "c850b307",
   "metadata": {},
   "outputs": [],
   "source": []
  }
 ],
 "metadata": {
  "kernelspec": {
   "display_name": "Python 3 (ipykernel)",
   "language": "python",
   "name": "python3"
  },
  "language_info": {
   "codemirror_mode": {
    "name": "ipython",
    "version": 3
   },
   "file_extension": ".py",
   "mimetype": "text/x-python",
   "name": "python",
   "nbconvert_exporter": "python",
   "pygments_lexer": "ipython3",
   "version": "3.9.7"
  }
 },
 "nbformat": 4,
 "nbformat_minor": 5
}
