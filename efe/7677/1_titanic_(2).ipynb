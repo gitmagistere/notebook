{
 "cells": [
  {
   "cell_type": "markdown",
   "metadata": {
    "id": "XwKR5gLidPuX"
   },
   "source": [
    "# **La librairie Pandas**"
   ]
  },
  {
   "cell_type": "markdown",
   "metadata": {
    "id": "kx1XgjC_dPub"
   },
   "source": [
    "Pandas est une librairie python qui permet de manipuler des données en particulier au format csv.  \n",
    "A partir d’un fichier csv, Pandas génère des tableaux de données (data-frames) avec des variables en  \n",
    "colonnes et des individus en lignes :\n"
   ]
  },
  {
   "cell_type": "markdown",
   "metadata": {
    "id": "PfmSpxYIWmoh"
   },
   "source": [
    "![dataframe.png](data:image/png;base64,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)\n",
    "\n",
    "\n",
    "\n"
   ]
  },
  {
   "cell_type": "markdown",
   "metadata": {
    "id": "p9J4aFnDdPuj"
   },
   "source": [
    "Il est alors possible d’afficher les données, de les manipuler, de les analyser en utilisant des programmes Python.\n"
   ]
  },
  {
   "cell_type": "markdown",
   "metadata": {
    "id": "csa1Lv0kdPuk"
   },
   "source": [
    "## **Un exemple élémentaire**"
   ]
  },
  {
   "cell_type": "markdown",
   "metadata": {
    "id": "ZzXlSHdedPul"
   },
   "source": [
    "Dans la suite, nous utiliserons le fichier « titanic.csv » contenant des données relatives  \n",
    "aux passagers du Titanic le jour de son naufrage.\n"
   ]
  },
  {
   "cell_type": "markdown",
   "metadata": {
    "id": "PagitpSwdPun"
   },
   "source": [
    "### **I. Charger les données**"
   ]
  },
  {
   "cell_type": "markdown",
   "metadata": {
    "id": "Ev58dudDdPun"
   },
   "source": [
    "Lire le code et les commentaires puis exécuter la cellule ci-dessous."
   ]
  },
  {
   "cell_type": "code",
   "execution_count": 2,
   "metadata": {
    "executionInfo": {
     "elapsed": 946,
     "status": "ok",
     "timestamp": 1643507767130,
     "user": {
      "displayName": "Mohamed EL AHMADI",
      "photoUrl": "https://lh3.googleusercontent.com/a/default-user=s64",
      "userId": "15958821790435656147"
     },
     "user_tz": -540
    },
    "id": "geHuTjUydPup"
   },
   "outputs": [],
   "source": [
    "import pandas as pd   \n",
    "# import de pandas avec pour alias pd\n",
    "\n",
    "url = 'http://perpendiculaire.fr/data/titanic.csv'\n",
    "# adresse du fichier local ou distant\n",
    "\n",
    "df = pd.read_csv(url,sep=';')\n",
    "# lecture des données séparées ici par ; et création d'un data frame df\n",
    "# dans la suite, nous travaillerons sur notre table de données \"df\""
   ]
  },
  {
   "cell_type": "markdown",
   "metadata": {
    "id": "fKNDNE7hdPur"
   },
   "source": [
    "**Remarque:**"
   ]
  },
  {
   "cell_type": "markdown",
   "metadata": {
    "id": "cfrZFQZ1dPus"
   },
   "source": [
    "le fichier de données peut être hébérgé gratuitement sur un compte github :    \n",
    "\n",
    "- créer votre compte https://github.com ,  \n",
    "- créer un nouveau dossier public nommé \"donnees\",  \n",
    "- cliquer sur **Add file** puis **upload file** et enfin **commit changes**.    \n",
    "\n",
    "Vous pouvez alors copier le lien vers votre fichier:  \n",
    "https://raw.githubusercontent.com/ela1687/donnees/main/titanic.csv)"
   ]
  },
  {
   "cell_type": "markdown",
   "metadata": {
    "id": "T_Tf1Y6KdPuu"
   },
   "source": [
    "### **II. Observer les données**\n"
   ]
  },
  {
   "cell_type": "markdown",
   "metadata": {
    "id": "mJ6MbAY_dD2k"
   },
   "source": [
    "###**1. Afficher les données** "
   ]
  },
  {
   "cell_type": "markdown",
   "metadata": {
    "id": "0qrEOq9UdfMi"
   },
   "source": [
    "Les méthodes **head( )** et **shape** permettent d'afficher les données et de connaitre les dimensions de la table.  \n",
    "  \n",
    "Exécuter dans la cellule ci-dessous **df.head( )**, **df.head(7)** puis **df.shape** et observer les sorties obtenues."
   ]
  },
  {
   "cell_type": "code",
   "execution_count": 4,
   "metadata": {
    "id": "ARcEeui6dPuv"
   },
   "outputs": [
    {
     "data": {
      "text/html": [
       "<div>\n",
       "<style scoped>\n",
       "    .dataframe tbody tr th:only-of-type {\n",
       "        vertical-align: middle;\n",
       "    }\n",
       "\n",
       "    .dataframe tbody tr th {\n",
       "        vertical-align: top;\n",
       "    }\n",
       "\n",
       "    .dataframe thead th {\n",
       "        text-align: right;\n",
       "    }\n",
       "</style>\n",
       "<table border=\"1\" class=\"dataframe\">\n",
       "  <thead>\n",
       "    <tr style=\"text-align: right;\">\n",
       "      <th></th>\n",
       "      <th>classe</th>\n",
       "      <th>survie</th>\n",
       "      <th>nom</th>\n",
       "      <th>sexe</th>\n",
       "      <th>age</th>\n",
       "      <th>tarif</th>\n",
       "    </tr>\n",
       "  </thead>\n",
       "  <tbody>\n",
       "    <tr>\n",
       "      <th>0</th>\n",
       "      <td>1</td>\n",
       "      <td>1</td>\n",
       "      <td>Allen, Miss. Elisabeth Walton</td>\n",
       "      <td>2</td>\n",
       "      <td>29.0</td>\n",
       "      <td>211.0</td>\n",
       "    </tr>\n",
       "    <tr>\n",
       "      <th>1</th>\n",
       "      <td>1</td>\n",
       "      <td>1</td>\n",
       "      <td>Allison, Master. Hudson Trevor</td>\n",
       "      <td>1</td>\n",
       "      <td>1.0</td>\n",
       "      <td>152.0</td>\n",
       "    </tr>\n",
       "    <tr>\n",
       "      <th>2</th>\n",
       "      <td>1</td>\n",
       "      <td>0</td>\n",
       "      <td>Allison, Miss. Helen Loraine</td>\n",
       "      <td>2</td>\n",
       "      <td>2.0</td>\n",
       "      <td>152.0</td>\n",
       "    </tr>\n",
       "    <tr>\n",
       "      <th>3</th>\n",
       "      <td>1</td>\n",
       "      <td>0</td>\n",
       "      <td>Allison, Mr. Hudson Joshua Creighton</td>\n",
       "      <td>1</td>\n",
       "      <td>30.0</td>\n",
       "      <td>152.0</td>\n",
       "    </tr>\n",
       "    <tr>\n",
       "      <th>4</th>\n",
       "      <td>1</td>\n",
       "      <td>0</td>\n",
       "      <td>Allison, Mrs. Hudson Bessie Waldo Daniels</td>\n",
       "      <td>2</td>\n",
       "      <td>25.0</td>\n",
       "      <td>152.0</td>\n",
       "    </tr>\n",
       "  </tbody>\n",
       "</table>\n",
       "</div>"
      ],
      "text/plain": [
       "   classe  survie                                        nom  sexe   age  \\\n",
       "0       1       1              Allen, Miss. Elisabeth Walton     2  29.0   \n",
       "1       1       1             Allison, Master. Hudson Trevor     1   1.0   \n",
       "2       1       0               Allison, Miss. Helen Loraine     2   2.0   \n",
       "3       1       0       Allison, Mr. Hudson Joshua Creighton     1  30.0   \n",
       "4       1       0  Allison, Mrs. Hudson Bessie Waldo Daniels     2  25.0   \n",
       "\n",
       "   tarif  \n",
       "0  211.0  \n",
       "1  152.0  \n",
       "2  152.0  \n",
       "3  152.0  \n",
       "4  152.0  "
      ]
     },
     "execution_count": 4,
     "metadata": {},
     "output_type": "execute_result"
    }
   ],
   "source": [
    "df.head()"
   ]
  },
  {
   "cell_type": "code",
   "execution_count": 5,
   "metadata": {
    "id": "zX1pZy_TdPux"
   },
   "outputs": [
    {
     "data": {
      "text/plain": [
       "(1309, 6)"
      ]
     },
     "execution_count": 5,
     "metadata": {},
     "output_type": "execute_result"
    }
   ],
   "source": [
    "df.shape"
   ]
  },
  {
   "cell_type": "markdown",
   "metadata": {
    "id": "RzIYaxSWdPu1"
   },
   "source": [
    "On peut afficher tout ou partie des valeurs d'une colonne :"
   ]
  },
  {
   "cell_type": "code",
   "execution_count": null,
   "metadata": {
    "id": "29CKT_XgdPu1"
   },
   "outputs": [],
   "source": [
    "df['tarif']     # toutes les valeurs indexeées de la colonne tarif"
   ]
  },
  {
   "cell_type": "code",
   "execution_count": null,
   "metadata": {
    "id": "vOI8PMw8dPu2"
   },
   "outputs": [],
   "source": [
    "df['age'][4]    # valeur de la colonne age d'index 4 (5 ième ligne des données)"
   ]
  },
  {
   "cell_type": "code",
   "execution_count": null,
   "metadata": {
    "id": "Smj00DPHdPu4",
    "scrolled": false
   },
   "outputs": [],
   "source": [
    "df['tarif'][4:12]  # tarifs de l'index 4 à 11  (5 ième à 12 ième ligne)"
   ]
  },
  {
   "cell_type": "markdown",
   "metadata": {
    "id": "7ir5IKJYpYxu"
   },
   "source": [
    "Les lignes du data frame sont indexées, 0, 1, 2 ...  \n",
    "Exécuter la commande **df.index** ci-dessous:"
   ]
  },
  {
   "cell_type": "code",
   "execution_count": null,
   "metadata": {
    "id": "KvSurxfRscKw"
   },
   "outputs": [],
   "source": [
    "df.index"
   ]
  },
  {
   "cell_type": "markdown",
   "metadata": {
    "id": "hYJKqZfjsq71"
   },
   "source": [
    "Nous pouvons donc accéder aux données de chaque colonne, chaque ligne, chaque \"cellule\".  \n",
    "Il est donc possible d'utiliser les structures et les opérations Python habituelles   \n",
    "(boucles, tests, opérations mathématiques ...) pour parcourir et travailler sur les données du data frame :"
   ]
  },
  {
   "cell_type": "code",
   "execution_count": null,
   "metadata": {
    "id": "z5ff4haZtXbN"
   },
   "outputs": [],
   "source": [
    "for i in df.index:\n",
    "    # cette boucle permet de parcourir toutes les lignes\n",
    "    prix = df['tarif'][i]\n",
    "    # tarif payé par le passager d'index i (ligne i)\n",
    "    if prix > 500:\n",
    "        print(prix)"
   ]
  },
  {
   "cell_type": "markdown",
   "metadata": {
    "id": "mGzAQ9Qxcd28"
   },
   "source": [
    "###**2. Vérifier l'intégrité des données**"
   ]
  },
  {
   "cell_type": "markdown",
   "metadata": {
    "id": "51TeQEqSZUJ7"
   },
   "source": [
    "La méthode **count( )** renvoie le nombre de valeurs pour chacune des variables du data-frame.  \n",
    "Cela permet de repérer les éventuelles valeurs manquantes :"
   ]
  },
  {
   "cell_type": "code",
   "execution_count": null,
   "metadata": {
    "id": "K_OCWxVHZ2x5"
   },
   "outputs": [],
   "source": [
    "df.count()"
   ]
  },
  {
   "cell_type": "markdown",
   "metadata": {
    "id": "KLqejRUnd-Ez"
   },
   "source": [
    "On se rend compte que les colonnes age et tarif contiennent des données **non affectées** (valeurs manquantes).  \n",
    "Nous allons supprimer les lignes correspondantes grâce à la méthode \"**dropna( )**\"."
   ]
  },
  {
   "cell_type": "code",
   "execution_count": null,
   "metadata": {
    "id": "hlPABID4aIqW"
   },
   "outputs": [],
   "source": [
    "df = df.dropna()\n",
    "df.count()  # on vérifie ..."
   ]
  },
  {
   "cell_type": "markdown",
   "metadata": {
    "id": "YtfzPlp9dPu5"
   },
   "source": [
    "### **III. Calculer des paramètres statistiques.**\n",
    "\n"
   ]
  },
  {
   "cell_type": "markdown",
   "metadata": {
    "id": "Bykdk4R3d1bF"
   },
   "source": [
    "### **1. En utilisant les méthodes intégrées à Pandas**"
   ]
  },
  {
   "cell_type": "markdown",
   "metadata": {
    "id": "vieT6EkAeVkJ"
   },
   "source": [
    "L’instruction **df.describe( )** permet d'afficher les principaux paramètres statistiques des données quantitatives.  \n",
    "En particulier la moyenne : mean et l'écart-type : std."
   ]
  },
  {
   "cell_type": "code",
   "execution_count": null,
   "metadata": {
    "id": "eE4nkszjdPu6"
   },
   "outputs": [],
   "source": [
    "df.describe()\n",
    "# on applique ici describe() à l'ensemble des données \"df\""
   ]
  },
  {
   "cell_type": "markdown",
   "metadata": {
    "id": "O4Hhki6DdPu7"
   },
   "source": [
    "describe( ) peut aussi opérer sur une seule colonne du data-frame:"
   ]
  },
  {
   "cell_type": "code",
   "execution_count": null,
   "metadata": {
    "id": "efFl6HAbdPu7"
   },
   "outputs": [],
   "source": [
    "df['tarif'].describe()\n",
    "# on applique ici describe() à la colonne 'tarif' du dataframe 'df'"
   ]
  },
  {
   "cell_type": "markdown",
   "metadata": {
    "id": "P3NxzI9ZdPu7"
   },
   "source": [
    "L’instruction suivante **df[ 'survie' ].mean( )** renvoie la fréquence de survie."
   ]
  },
  {
   "cell_type": "code",
   "execution_count": null,
   "metadata": {
    "id": "jpDj5FQadPu8"
   },
   "outputs": [],
   "source": [
    "df['survie'].mean()"
   ]
  },
  {
   "cell_type": "markdown",
   "metadata": {
    "id": "2dtE8PLjdPu9"
   },
   "source": [
    "La méthode **query()** permet de filtrer les données selon les valeurs des variables.  \n",
    "Déterminons à titre d'exemple, l'effectif des femmes puis l'effectif des femmes survivantes :"
   ]
  },
  {
   "cell_type": "code",
   "execution_count": null,
   "metadata": {
    "id": "OCt8ROiTdPu9"
   },
   "outputs": [],
   "source": [
    "eff_femme = df.query('sexe == 2').count()\n",
    "# La méthode count() dénombre les données correspondantes pour chaque variable\n",
    "\n",
    "eff_femme_et_survie = df.query('sexe == 2 and survie == 1').count()\n",
    "\n",
    "\n",
    "proportion = eff_femme_et_survie / eff_femme\n",
    "\n",
    "proportion"
   ]
  },
  {
   "cell_type": "markdown",
   "metadata": {
    "id": "bPCV8w4hdPu-"
   },
   "source": [
    "La méthode **groupeby()** permet de calculer des statistiques en regroupant les données selon une variable.  \n",
    "La variable 'sexe' prend deux valeur 1 pour les hommes et 2 pour les femmes.  \n",
    "Ainsi, df.groupby('sexe').mean() renvoie les moyennes des variables pour les deux groupe sexe 1 et 2 :"
   ]
  },
  {
   "cell_type": "code",
   "execution_count": null,
   "metadata": {
    "id": "IhfO9iiQdPu-"
   },
   "outputs": [],
   "source": [
    "statsparsexe = df.groupby('sexe').mean()\n",
    "statsparsexe"
   ]
  },
  {
   "cell_type": "markdown",
   "metadata": {
    "id": "rLThJmmzeVCi"
   },
   "source": [
    "### **2. Sans utiliser les méthodes intégrées à Pandas**"
   ]
  },
  {
   "cell_type": "markdown",
   "metadata": {
    "id": "iqnPMz0zhVWs"
   },
   "source": [
    "Il est possible de calculer nos statistiques de façon explicite en utilisant les opérations et les structures usuelles de python. "
   ]
  },
  {
   "cell_type": "markdown",
   "metadata": {
    "id": "wEy07ipnvHFp"
   },
   "source": [
    "**Exemple 1: calcul de l'âge moyen des passager**"
   ]
  },
  {
   "cell_type": "code",
   "execution_count": null,
   "metadata": {
    "id": "JJ2TcxXAh70g"
   },
   "outputs": [],
   "source": [
    "def moyenne(colonne):\n",
    "  S = 0.0\n",
    "  for valeur in colonne:\n",
    "      S = S + valeur\n",
    "  return S / len(colonne)\n",
    "\n",
    "moyenne(df['age'])\n",
    "# on appelle la fonction pour la colonne age"
   ]
  },
  {
   "cell_type": "markdown",
   "metadata": {
    "id": "pc5QrfuSvQnw"
   },
   "source": [
    "**Exemple 2: retrouvons, de façon explicite, le nombre de femmes**"
   ]
  },
  {
   "cell_type": "code",
   "execution_count": null,
   "metadata": {
    "id": "rE_29csemIHK"
   },
   "outputs": [],
   "source": [
    "def effectif_femmes():\n",
    "    eff_femmes = 0\n",
    "    for i in df.index:\n",
    "       if df['sexe'][i] == 2:\n",
    "          eff_femmes = eff_femmes + 1\n",
    "    return eff_femmes\n",
    "\n",
    "effectif_femmes()"
   ]
  },
  {
   "cell_type": "markdown",
   "metadata": {
    "id": "KTrFjofQl56P"
   },
   "source": [
    "**Exemple 3: retrouvons, de façon explicite, la proportion de femmes ayant survécu**"
   ]
  },
  {
   "cell_type": "code",
   "execution_count": null,
   "metadata": {
    "id": "b4g7o1F7w16Z"
   },
   "outputs": [],
   "source": [
    "def freqsurvie():\n",
    "    S = 0\n",
    "    for i in df.index:\n",
    "        if df['sexe'][i] == 2 and df['survie'][i] == 1 :\n",
    "           S = S + 1\n",
    "    return S/388\n",
    "    \n",
    "freqsurvie()"
   ]
  },
  {
   "cell_type": "markdown",
   "metadata": {
    "id": "HGDCZ6H3dPvC"
   },
   "source": [
    "### **IV. Représenter les données.**"
   ]
  },
  {
   "cell_type": "markdown",
   "metadata": {
    "id": "ZJpeBtbSdPvD"
   },
   "source": [
    "**Diagramme en barres**\n",
    "\n",
    "Lire le code et les commentaires puis exécuter la cellule ci-dessous:"
   ]
  },
  {
   "cell_type": "code",
   "execution_count": null,
   "metadata": {
    "id": "2NT7vsEBdPvE"
   },
   "outputs": [],
   "source": [
    "import matplotlib.pyplot as plt\n",
    "\n",
    "df.hist(column = 'tarif', bins = 15)\n",
    "# on a choisi de représenter la variable \"tarif\" du dataframe\n",
    "\n",
    "plt.title(\"Répartition des passagers par classes\")\n",
    "\n",
    "plt.show()\n"
   ]
  },
  {
   "cell_type": "markdown",
   "metadata": {
    "id": "3sUeFMGwdPvF"
   },
   "source": [
    "**Diagramme circulaire**\n",
    "\n",
    "Lire le code et les commentaires puis exécuter la cellule ci-dessous."
   ]
  },
  {
   "cell_type": "code",
   "execution_count": 1,
   "metadata": {
    "id": "PyB0hzEYdPvG"
   },
   "outputs": [
    {
     "ename": "NameError",
     "evalue": "name 'df' is not defined",
     "output_type": "error",
     "traceback": [
      "\u001b[1;31m---------------------------------------------------------------------------\u001b[0m",
      "\u001b[1;31mNameError\u001b[0m                                 Traceback (most recent call last)",
      "\u001b[1;32m~\\AppData\\Local\\Temp/ipykernel_11284/1187854497.py\u001b[0m in \u001b[0;36m<module>\u001b[1;34m\u001b[0m\n\u001b[0;32m      1\u001b[0m \u001b[1;31m# détermination du nombres de passagers par classe (1, 2 ou 3 ième classe)\u001b[0m\u001b[1;33m\u001b[0m\u001b[1;33m\u001b[0m\u001b[0m\n\u001b[1;32m----> 2\u001b[1;33m \u001b[0meffectif_c1\u001b[0m \u001b[1;33m=\u001b[0m \u001b[0mdf\u001b[0m\u001b[1;33m.\u001b[0m\u001b[0mquery\u001b[0m\u001b[1;33m(\u001b[0m\u001b[1;34m'classe == 1'\u001b[0m\u001b[1;33m)\u001b[0m\u001b[1;33m.\u001b[0m\u001b[0mclasse\u001b[0m\u001b[1;33m.\u001b[0m\u001b[0mcount\u001b[0m\u001b[1;33m(\u001b[0m\u001b[1;33m)\u001b[0m\u001b[1;33m\u001b[0m\u001b[1;33m\u001b[0m\u001b[0m\n\u001b[0m\u001b[0;32m      3\u001b[0m \u001b[0meffectif_c2\u001b[0m \u001b[1;33m=\u001b[0m \u001b[0mdf\u001b[0m\u001b[1;33m.\u001b[0m\u001b[0mquery\u001b[0m\u001b[1;33m(\u001b[0m\u001b[1;34m'classe == 2'\u001b[0m\u001b[1;33m)\u001b[0m\u001b[1;33m.\u001b[0m\u001b[0mclasse\u001b[0m\u001b[1;33m.\u001b[0m\u001b[0mcount\u001b[0m\u001b[1;33m(\u001b[0m\u001b[1;33m)\u001b[0m\u001b[1;33m\u001b[0m\u001b[1;33m\u001b[0m\u001b[0m\n\u001b[0;32m      4\u001b[0m \u001b[0meffectif_c3\u001b[0m \u001b[1;33m=\u001b[0m \u001b[0mdf\u001b[0m\u001b[1;33m.\u001b[0m\u001b[0mquery\u001b[0m\u001b[1;33m(\u001b[0m\u001b[1;34m'classe == 3'\u001b[0m\u001b[1;33m)\u001b[0m\u001b[1;33m.\u001b[0m\u001b[0mclasse\u001b[0m\u001b[1;33m.\u001b[0m\u001b[0mcount\u001b[0m\u001b[1;33m(\u001b[0m\u001b[1;33m)\u001b[0m\u001b[1;33m\u001b[0m\u001b[1;33m\u001b[0m\u001b[0m\n\u001b[0;32m      5\u001b[0m \u001b[1;33m\u001b[0m\u001b[0m\n",
      "\u001b[1;31mNameError\u001b[0m: name 'df' is not defined"
     ]
    }
   ],
   "source": [
    "# détermination du nombres de passagers par classe (1, 2 ou 3 ième classe)\n",
    "effectif_c1 = df.query('classe == 1').classe.count()\n",
    "effectif_c2 = df.query('classe == 2').classe.count()\n",
    "effectif_c3 = df.query('classe == 3').classe.count()\n",
    "\n",
    "repartition = [effectif_c1, effectif_c2, effectif_c3]\n",
    "classes = [1,2,3]\n",
    "\n",
    "plt.pie(repartition,  labels = classes)\n",
    "plt.title(\"Répartition des passagers par classes\")\n",
    "plt.show()"
   ]
  },
  {
   "cell_type": "markdown",
   "metadata": {
    "id": "_ibuupqvdPvG"
   },
   "source": [
    "**Diagramme en boîte**\n",
    "\n",
    "Lire le code et les commentaires puis exécuter la cellule ci-dessous."
   ]
  },
  {
   "cell_type": "code",
   "execution_count": null,
   "metadata": {
    "id": "EnFjVJKtdPvG"
   },
   "outputs": [],
   "source": [
    "df.boxplot(column = 'age', grid = True)\n",
    "# On demande le diagramme en boîte pour la colonne age"
   ]
  }
 ],
 "metadata": {
  "colab": {
   "name": "1 titanic.ipynb",
   "provenance": []
  },
  "kernelspec": {
   "display_name": "Python 3 (ipykernel)",
   "language": "python",
   "name": "python3"
  },
  "language_info": {
   "codemirror_mode": {
    "name": "ipython",
    "version": 3
   },
   "file_extension": ".py",
   "mimetype": "text/x-python",
   "name": "python",
   "nbconvert_exporter": "python",
   "pygments_lexer": "ipython3",
   "version": "3.9.7"
  }
 },
 "nbformat": 4,
 "nbformat_minor": 1
}
