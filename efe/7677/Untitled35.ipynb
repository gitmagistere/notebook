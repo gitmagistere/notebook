{
  "nbformat": 4,
  "nbformat_minor": 0,
  "metadata": {
    "colab": {
      "name": "Untitled35.ipynb",
      "provenance": []
    },
    "kernelspec": {
      "name": "python3",
      "display_name": "Python 3"
    },
    "language_info": {
      "name": "python"
    }
  },
  "cells": [
    {
      "cell_type": "code",
      "execution_count": null,
      "metadata": {
        "id": "rLRW75Fxwvmj"
      },
      "outputs": [],
      "source": [
        "import matplotlib.pyplot as plt  \n",
        "from scipy.stats import linregress\n",
        "\n"
      ]
    }
  ]
}