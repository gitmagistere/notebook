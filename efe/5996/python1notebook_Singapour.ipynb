{
  "nbformat": 4,
  "nbformat_minor": 0,
  "metadata": {
    "colab": {
      "name": "python1notebook_Singapour.ipynb",
      "provenance": [],
      "collapsed_sections": []
    },
    "kernelspec": {
      "display_name": "Python 3",
      "language": "python",
      "name": "python3"
    },
    "language_info": {
      "codemirror_mode": {
        "name": "ipython",
        "version": 3
      },
      "file_extension": ".py",
      "mimetype": "text/x-python",
      "name": "python",
      "nbconvert_exporter": "python",
      "pygments_lexer": "ipython3",
      "version": "3.7.3"
    }
  },
  "cells": [
    {
      "cell_type": "markdown",
      "metadata": {
        "id": "gKH1Oj5koI50"
      },
      "source": [
        "# **A- Les variables**\n",
        "\n",
        "Une variable permet de stocker des informations (nombre, phrase, etc…). \n",
        "\n",
        "Par exemple pour affecter la valeur 50 à la variable nommée v, il faut taper : v = 50 \n",
        "\n",
        "Attention, si vous voulez taper un nombre à virgule, il faut utiliser le caractère point car c’est un langage anglais : v = 50.4 \n",
        "\n",
        "On peut aussi stocker une phrase : Citation = \"Euréka ! \" \n",
        "\n",
        "Pour lire la valeur de la variable, on utilise l'instruction print. tester les 2 programmes ci dessous:\n"
      ]
    },
    {
      "cell_type": "code",
      "metadata": {
        "id": "o1IIwc7TopUm"
      },
      "source": [
        "V=20.3    #(attention virgule, point)\n",
        "print(V)\n"
      ],
      "execution_count": null,
      "outputs": []
    },
    {
      "cell_type": "code",
      "metadata": {
        "id": "H49y82vZo73-"
      },
      "source": [
        "v=20.3   \n",
        "\n",
        "print(\" la vitesse est de\",v, \"m/s\")\n"
      ],
      "execution_count": null,
      "outputs": []
    },
    {
      "cell_type": "markdown",
      "metadata": {
        "id": "c--Gerorprv3"
      },
      "source": [
        "Si vous voulez maintenant demander à l'utilisateur de donner la valeur de la vitesse, vous utiliserez l'instruction input.\n",
        "Et si on stocke cette donnée, cela donnera:"
      ]
    },
    {
      "cell_type": "code",
      "metadata": {
        "id": "CEjqYF2_qC16"
      },
      "source": [
        "V=input(\"donner la valeur de la vitesse en m/s\")\n",
        "print (\" la vitesse est de\", V, \" m/s \") \n"
      ],
      "execution_count": null,
      "outputs": []
    },
    {
      "cell_type": "markdown",
      "metadata": {
        "id": "lkoHpwGTqNds"
      },
      "source": [
        "C'est bon jusqu'à maintenant!! Prêt??"
      ]
    },
    {
      "cell_type": "markdown",
      "metadata": {
        "id": "3XLVmBR9qXIw"
      },
      "source": [
        "Alors, à vous de jouer (si, si, c'est un jeu!!)\n",
        "Ecrire les instructions demandant à l'utilisateur la valeur de la concentration d'une solution. Le programme doit répondre. \"Cette valeur de .... (valeur de la concentration) est trop faible.\" \n",
        "\n",
        "C'est parti. Tester "
      ]
    },
    {
      "cell_type": "code",
      "metadata": {
        "id": "5zM7n8o0rJSz"
      },
      "source": [
        ""
      ],
      "execution_count": null,
      "outputs": []
    },
    {
      "cell_type": "markdown",
      "metadata": {
        "id": "e8Q0l64OrvT8"
      },
      "source": [
        "Mais attention cependant. Il existe 3 types de variables:\n",
        "- les entiers (int)\n",
        "- les nombres à virgule (float)\n",
        "- et les chaînes de caractère (str)\n",
        "\n",
        "**Python ne peut pas faire d'opération entre certains types de variable; Voici un exemple qui déclenche une erreur:**"
      ]
    },
    {
      "cell_type": "code",
      "metadata": {
        "id": "fEHW5vIgsS2Z"
      },
      "source": [
        "m=input(\"donnez la valeur de la masse\")\n",
        "P=m*9.8\n",
        "print(\"la valeur du poids est de \", P, \"Newton\")\n"
      ],
      "execution_count": null,
      "outputs": []
    },
    {
      "cell_type": "markdown",
      "metadata": {
        "id": "cbdlZSu2sdxD"
      },
      "source": [
        "Il faudra indiquer que la masse est un nombre (à virgule ou pas, mais un nombre) pour qu'il puisse effectuer la multiplication. D'où:"
      ]
    },
    {
      "cell_type": "code",
      "metadata": {
        "id": "x5QauoXgtHjA"
      },
      "source": [
        "\n",
        "m=float(input(\"donnez la valeur de la masse\"))\n",
        "P=m*9.8\n",
        "print(\"la valeur du poids est de\",P,\"Newton\")"
      ],
      "execution_count": null,
      "outputs": []
    },
    {
      "cell_type": "markdown",
      "metadata": {
        "id": "8DYJZSrcwthP"
      },
      "source": [
        "Allez, c'est parti.\n",
        "Vous vous sentez bien? \n",
        "\n",
        "Alors, écrivez un programme \n",
        "\n",
        "objectif: calculer les concentrations molaires et massiques d'une solution de chlorure de sodium (M=58.8g/mol).\n",
        "Le programme  doit demander à l'utilisateur  la valeur de la masse introduite, ainsi que le volume totale de la solution. La réponse doit être affichées avec les unités.\n",
        "Ecrivez votre programme dessous et tester le."
      ]
    },
    {
      "cell_type": "code",
      "metadata": {
        "id": "IExZGrnJxWe_"
      },
      "source": [
        ""
      ],
      "execution_count": null,
      "outputs": []
    },
    {
      "cell_type": "markdown",
      "metadata": {
        "id": "CRP1GSCjxXJg"
      },
      "source": [
        "***Conseil: sur une feuille, gardez une trace de vos programmes, avec toutes vos petites notes qui vous permettront de débugger plus tard vos élèves. Cette histoire de définition des variables est source de beaucoup de problèmes. Pensez-y!!***"
      ]
    },
    {
      "cell_type": "markdown",
      "metadata": {
        "id": "9FZCXpGWUoSO"
      },
      "source": [
        "# B- L'écriture scientifique du résultat, la précision de l'affichage\n",
        "\n",
        "Une petite parenthèse pour traiter de l'affichage du résultat.\n",
        "\n",
        "Voici une méthode possible:\n",
        "\n",
        "Pour écrire un résultat en écriture scientifique, il faut taper \"%.e\"% suivi du nom de la variable (ou \"%.E\"%)"
      ]
    },
    {
      "cell_type": "code",
      "metadata": {
        "id": "PPWtJSjWVQlN"
      },
      "source": [
        "N = 1988412\n",
        "print(\"%e\"%N)\n",
        "print(\"%E\"%N)"
      ],
      "execution_count": null,
      "outputs": []
    },
    {
      "cell_type": "markdown",
      "metadata": {
        "id": "PR967WKrV4z9"
      },
      "source": [
        "Pour écrire un résultat en écriture scientifique avec n chiffres après la virgule, il faut taper \"%.ne\"% suivi du nom de la\n",
        "variable (ou \"%.nE\"%)"
      ]
    },
    {
      "cell_type": "code",
      "metadata": {
        "colab": {
          "base_uri": "https://localhost:8080/"
        },
        "id": "6dmS1kQGV2Sd",
        "outputId": "f9c87c23-3c74-44b4-993a-e135fc34bfa1"
      },
      "source": [
        "N = 1988412\n",
        "print(\"%.1e\"%N) # va afficher 2.0e+06 soit 2 chiffres significatifs (CS)\n",
        "print(\"%.1E\"%N) # va afficher 2.0E+06 soit 2 CS\n",
        "print(\"%.2e\"%N) # va afficher 1.99e+06 soit 3 CS\n",
        "print(\"%.3e\"%N)"
      ],
      "execution_count": null,
      "outputs": [
        {
          "output_type": "stream",
          "text": [
            "2.0e+06\n",
            "2.0E+06\n",
            "1.99e+06\n",
            "1.988e+06\n"
          ],
          "name": "stdout"
        }
      ]
    },
    {
      "cell_type": "markdown",
      "metadata": {
        "id": "hycxCDc-WDoS"
      },
      "source": [
        "A vous de jouer. Modifier l'affichage molaire ou massique du paragraphe A"
      ]
    },
    {
      "cell_type": "code",
      "metadata": {
        "id": "6MIaBpCfWTy9"
      },
      "source": [
        ""
      ],
      "execution_count": null,
      "outputs": []
    },
    {
      "cell_type": "markdown",
      "metadata": {
        "id": "FvYumKlDyEf0"
      },
      "source": [
        "# C Les mesures"
      ]
    },
    {
      "cell_type": "markdown",
      "metadata": {
        "id": "bVWIKgkKVfGX"
      },
      "source": [
        ""
      ]
    },
    {
      "cell_type": "markdown",
      "metadata": {
        "id": "kFjeVmkV0Vli"
      },
      "source": [
        "\n",
        "En sciences, nous récoltons souvent des données, sous forme de tableau:\n",
        "\n",
        "Temps     (s)\t 0\t /  5\t /  10\t /   15\t  / 20\n",
        "\n",
        "Abscisse x(m)\t0,5\t/  6,9\t/   2,4  /\t5,1\t /   -3\n",
        "\n",
        "Exemple:\n",
        "\n",
        "Le tableau ci-contre va être déclaré en Python grâce à l’instruction suivante : \n",
        "X = [0.5, 6.9, 2.4, 5.1, -3]\n",
        "Faites print pour vous rendre compte du stockage sous forme de tableau.\n"
      ]
    },
    {
      "cell_type": "code",
      "metadata": {
        "id": "ZEV_Wbiu0lKJ"
      },
      "source": [
        "X = [0.5, 6.9, 2.4, 5.1, -3]\n",
        "print(X)"
      ],
      "execution_count": null,
      "outputs": []
    },
    {
      "cell_type": "markdown",
      "metadata": {
        "id": "7Ujc8jFU25g7"
      },
      "source": [
        "Pour récupérer (par  exemple afficher) une valeur du tableau, on écrit print(X[indice]) \n",
        "\n",
        "Attention,les indices commencent à 0. Par exemple print(X[0]) vous donnera la valeur 0,5\n",
        "\n",
        "\n",
        "Ecrire le programme permettant d'afficher  la valeur 2,4.\n",
        "\n",
        "***A jous de jouer, tester***\n",
        "\n"
      ]
    },
    {
      "cell_type": "code",
      "metadata": {
        "id": "Kj2LN8fjG-qK"
      },
      "source": [
        ""
      ],
      "execution_count": null,
      "outputs": []
    },
    {
      "cell_type": "markdown",
      "metadata": {
        "id": "W5W38g7EHYQG"
      },
      "source": [
        "Et si vous avez plusieurs tableaux, alors il faudra déclarer plusieurs listes.\n",
        "Ex\n",
        "\n",
        "t (s)  1 / 2 / 3 / 4 \n",
        "\n",
        "EC (en J)  2000/ 4000 / 5000 / 6000\n",
        "\n",
        "EP ( en J) 8000 / 5000 / 3000 / 1000\n",
        "\n",
        "Si vous faites EC + EP, les deux listes vont s'ajouter... parfait non? Sauf que non!! \"Ajouter\" pour une liste, veut dire l'une à la suite de l'autre!!\n",
        "\n",
        "Ec + Ep  2000/ 4000 / 5000 / 6000 / 8000 / 6000 / 5000 / 4000\n",
        "\n",
        "Si vous voulez faire calculer l'énergie mécanique, il faut donc fonctionner avec les indices.\n",
        "\n",
        "Exemple: Compléter le programme permettant de calculer et d'afficher l'énegie mécanique lorsque le temps est de 3s\n",
        "\n",
        "On verra ensuite comment obtenir le tableau de l'énergie mécanique pour toutes les positions"
      ]
    },
    {
      "cell_type": "code",
      "metadata": {
        "id": "pVCuqY75JLnm"
      },
      "source": [
        "t = [1 ,2 , 3 , 4]\n",
        "Ec = [2000, 4000 , 5000 , 6000]\n",
        "Ep = [8000, 5000 , 3000 , 1000]"
      ],
      "execution_count": null,
      "outputs": []
    },
    {
      "cell_type": "markdown",
      "metadata": {
        "id": "rxQzeRuy1fPk"
      },
      "source": [
        ""
      ]
    }
  ]
}