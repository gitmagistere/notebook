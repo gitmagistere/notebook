{
 "cells": [
  {
   "cell_type": "markdown",
   "metadata": {},
   "source": [
    "# Les fonctions"
   ]
  },
  {
   "cell_type": "markdown",
   "metadata": {},
   "source": [
    "<div style=\"background-color: #e0f3ff; padding: 10px; border: 1px #001672 solid;\"><b>Définition</b>. Pour définir une fonction, on utilise le mot clé <b>def</b> suivi du nom à la fonction. On peut lui passer des paramètres\n",
    "mais ce n’est pas obligatoire. Dans le cas où une variable est renvoyée, ce code se nomme une fonction et on\n",
    "renvoie la variable avec l’instruction <b>return</b>. Dans le cas où une variable n’est est pas renvoyée, ce code se nomme\n",
    "une procédure.\n",
    "<br>Il suffit ensuite d’appeler la fonction par son nom dans le script : <b>nomdelafonction()</b>.\n",
    "</div>"
   ]
  },
  {
   "cell_type": "markdown",
   "metadata": {},
   "source": [
    "Le bloc d’instructions (suivi ou non de l’instruction <b>return</b>) s’appelle le corps de la fonction. Il doit être obligatoirement indenté (c’est à dire \"décalé\", d’une tabulation, souvent égale à 4 espaces) et la borne de l’indentation marque la borne de la définition de fonction. <br>L’instruction <b>return</b> (ou <b>return if</b> ...) qui veut dire renvoyer (ou renvoyer si...) est une instruction de sortie de la fonction. Toutes les instructions écrites après ne sont pas prises en compte. Certaines fonctions ne renvoient pas de résultat, servent seulement à effectuer une partie du programme."
   ]
  },
  {
   "cell_type": "code",
   "execution_count": null,
   "metadata": {},
   "outputs": [],
   "source": [
    "######################################\n",
    "# Définition d'une fonction somme\n",
    "######################################\n",
    "def somme (x,y):\n",
    "    s=x+y\n",
    "    return s\n",
    "\n",
    "a=int( input (\"entre un nombre :\"))\n",
    "b=int( input (\"entre un nombre :\"))\n",
    "print (\"{}+{}={}\".format(a,b,somme(a,b)))"
   ]
  },
  {
   "cell_type": "code",
   "execution_count": null,
   "metadata": {},
   "outputs": [],
   "source": [
    "######################################\n",
    "# Définition d'une fonction moyenne\n",
    "######################################\n",
    "def moyenne(a,b):\n",
    "    m=(a+b)/2\n",
    "    return m\n",
    "a=int( input (’entre un nombre :’))\n",
    "b=int( input (’entre un nombre :’))\n",
    "print (\"{}+{}={}\".format(a,b,moyenne(a,b)))"
   ]
  },
  {
   "cell_type": "markdown",
   "metadata": {},
   "source": [
    "<div style=\"background-color: #e0f3ff; padding: 10px; margin-bottom: 20px;border: 1px #001672 solid;\"><b>Définition.</b> Une variable locale est définie dans la fonction. Une variable globale est définie en dehors de toute fonction. Dans\n",
    "l’exemple précédent, s, x et y sont locales, a et b sont globales.\n",
    "<ul>\n",
    "    <li>Règle 1 : Une variable locale n’existe que dans la fonction.</li>\n",
    "    <li>Règle 2 : Une variable globale peut être utilisée mais ne peut pas être modifiée directement à l’intérieur d’une\n",
    "fonction.</li>\n",
    "    <li>Règle 3 : pour pouvoir modifier une variable globale x dans une fonction il suffit d’écrire : global x.</li>\n",
    "</ul>\n",
    "</div>"
   ]
  },
  {
   "cell_type": "markdown",
   "metadata": {},
   "source": [
    "<div style=\"padding: 10px; border-left: 10px #b3b3ff solid;\"><b>Exercice :</b>Créer une fonction qui calcule l’aire d’un disque et le périmètre du cercle périmètre avec pour paramètre le rayon $r$.</div>"
   ]
  },
  {
   "cell_type": "code",
   "execution_count": 1,
   "metadata": {},
   "outputs": [],
   "source": [
    "def aire(r):\n",
    "    pass"
   ]
  },
  {
   "cell_type": "markdown",
   "metadata": {},
   "source": [
    "<div style=\"padding: 10px; border-left: 10px #b3b3ff solid;\"><b>Exercice : </b>Coder un programme qui calcule le volume d'un cylindre d'un rayon $r$ et d'une hauteur $h$ donnés.</div> "
   ]
  },
  {
   "cell_type": "code",
   "execution_count": null,
   "metadata": {},
   "outputs": [],
   "source": [
    "def volume(r,h):\n",
    "    pass"
   ]
  },
  {
   "cell_type": "markdown",
   "metadata": {},
   "source": [
    "<div style=\"padding: 10px; border-left: 10px #b3b3ff solid;\"><b>Exercice :</b> Créer une fonction nommée discriminant qui calcule le discriminant d’un polynôme du second degré $p(x) = ax^2 + bx + c$, $a \\neq 0$</div>"
   ]
  },
  {
   "cell_type": "code",
   "execution_count": null,
   "metadata": {},
   "outputs": [],
   "source": [
    "def discriminant(a,b,c):\n",
    "    pass"
   ]
  }
 ],
 "metadata": {
  "kernelspec": {
   "display_name": "Python 3",
   "language": "python",
   "name": "python3"
  },
  "language_info": {
   "codemirror_mode": {
    "name": "ipython",
    "version": 3
   },
   "file_extension": ".py",
   "mimetype": "text/x-python",
   "name": "python",
   "nbconvert_exporter": "python",
   "pygments_lexer": "ipython3",
   "version": "3.8.3"
  }
 },
 "nbformat": 4,
 "nbformat_minor": 4
}
