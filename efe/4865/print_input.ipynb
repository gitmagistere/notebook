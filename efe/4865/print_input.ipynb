{
 "cells": [
  {
   "cell_type": "markdown",
   "metadata": {},
   "source": [
    "# Les entrées et sorties"
   ]
  },
  {
   "cell_type": "markdown",
   "metadata": {},
   "source": [
    "<div style=\"background-color: #ffcccc; padding: 10px; border: 1px #001672 solid; margin-bottom:20px;\">Pour exécuter le code, il faut taper les touches ALT + Entrée ou le bouton ci-dessus Exécuter</div>"
   ]
  },
  {
   "cell_type": "markdown",
   "metadata": {},
   "source": [
    "<div style=\"background-color: #e0f3ff; padding: 10px; border: 1px #001672 solid; margin-bottom:20px;\"><b>Définition</b>. La fonction&nbsp;<b>print</b>() imprime le paramètre qui lui est fourni (entre parenthèse).</div>"
   ]
  },
  {
   "cell_type": "markdown",
   "metadata": {},
   "source": [
    "**Exemple :** Afficher une variable numérique "
   ]
  },
  {
   "cell_type": "code",
   "execution_count": null,
   "metadata": {},
   "outputs": [],
   "source": [
    "a=3\n",
    "print(a)"
   ]
  },
  {
   "cell_type": "markdown",
   "metadata": {},
   "source": [
    "**Exemple :** Afficher une chaine de caractère"
   ]
  },
  {
   "cell_type": "code",
   "execution_count": null,
   "metadata": {},
   "outputs": [],
   "source": [
    "variable = \"coucou\"\n",
    "print(variable)"
   ]
  },
  {
   "cell_type": "markdown",
   "metadata": {},
   "source": [
    "<div style=\"background-color: rgb(224, 243, 255); padding: 10px; border: 1px solid rgb(0, 22, 114); margin-bottom: 20px;\"><b style=\"\">Définition</b>. La fonction input()<p style=\"\"></p><p style=\"\">Il est souvent pratique de donner des valeurs à calculer, des chaines de caractères à comparer à un programme.</p><p style=\"\">La fonction <b style=\"\">input()&nbsp;</b>permet d’assigner à une variable une valeur entrée par l’utilisateur.</p></div>\n",
    "\n",
    "<div style=\"background-color: rgb(255, 204, 204); padding: 10px; margin-bottom: 20px;\"><span style=\"font-style: italic;\"><i>Attention&nbsp;</i>: </span>Par défaut, la fonction <b style=\"\">input</b>() renvoie une chaine de caractères (<b style=\"\">str</b>). Pour \"forcer\" le typage entier à la fonction <b style=\"\">input</b>(), on attribue la fonction <b style=\"\">int</b>() à la fonction input. On peut aussi forcer avec <b style=\"\">float</b>() pour les réels.</div>"
   ]
  },
  {
   "cell_type": "code",
   "execution_count": null,
   "metadata": {},
   "outputs": [],
   "source": [
    "################\n",
    "# Tester ce code\n",
    "################\n",
    "ma_variable = input(\"entrer un mot\")\n",
    "mon_nombre = int(input(\"entrer un nombre\"))\n",
    "print(type(ma_variable))\n",
    "print(type(mon_nombre))"
   ]
  },
  {
   "cell_type": "markdown",
   "metadata": {},
   "source": [
    "<div style=\"background-color: #e0f3ff; padding: 10px; margin-bottom:20px;\"><i>Remarque</i> :&nbsp;&nbsp;La fonction <b>print</b>() peut parfois avoir une utilisation délicate lorsque qu’on souhaite afficher du texte et des variables dans le même message. Il pratique d’utiliser la fonction <b>format</b>().</div>"
   ]
  },
  {
   "cell_type": "markdown",
   "metadata": {},
   "source": [
    "<div style=\"background-color: #ffcccc; padding: 10px; margin-bottom:20px;\"><b>Note : </b>Par défaut, la fonction <b>input()</b> renvoie une chaine de caractères (<b>str</b>). Pour \"forcer\" le typage entier à la fonction <b>input()</b>, on attribue la fonction <b>int()</b> à la fonction <b>input()</b>. On peut aussi forcer avec <b>float()</b> pour les réels.</div>"
   ]
  },
  {
   "cell_type": "code",
   "execution_count": null,
   "metadata": {},
   "outputs": [],
   "source": [
    "################\n",
    "# Tester ce code\n",
    "################\n",
    "\n",
    "x= int(input(\"Entrer un nombre entier\"))\n",
    "y= int(input(\"Entrer un nombre entier\"))\n",
    "somme = x + y\n",
    "print(\"{}+{}={}\".format(x,y,somme))"
   ]
  },
  {
   "cell_type": "markdown",
   "metadata": {},
   "source": [
    "**Exercice :** Coder un script qui vous demande votre age (variable <i>age</i>) et votre nom (variable <i>name</i>) et affiche \"Bonjour, <i>name</i>, vous avez <i>age</i> ans\""
   ]
  },
  {
   "cell_type": "code",
   "execution_count": null,
   "metadata": {},
   "outputs": [],
   "source": [
    "######################\n",
    "# Coder l'exercice ici\n",
    "######################\n",
    "\n"
   ]
  }
 ],
 "metadata": {
  "kernelspec": {
   "display_name": "Python 3",
   "language": "python",
   "name": "python3"
  },
  "language_info": {
   "codemirror_mode": {
    "name": "ipython",
    "version": 3
   },
   "file_extension": ".py",
   "mimetype": "text/x-python",
   "name": "python",
   "nbconvert_exporter": "python",
   "pygments_lexer": "ipython3",
   "version": "3.8.3"
  }
 },
 "nbformat": 4,
 "nbformat_minor": 4
}
