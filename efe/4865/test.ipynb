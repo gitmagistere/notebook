{
 "cells": [
  {
   "cell_type": "markdown",
   "metadata": {},
   "source": [
    "# Les entrées et sorties"
   ]
  },
  {
   "cell_type": "markdown",
   "metadata": {},
   "source": [
    "<div style=\"background-color: #ffcccc; padding: 10px; border: 1px #001672 solid; margin-bottom:20px;\">Pour exécuter le code, il faut taper les touches ALT + Entrée ou le bouton ci-dessus Exécuter</div>"
   ]
  },
  {
   "cell_type": "markdown",
   "metadata": {},
   "source": [
    "<div style=\"background-color: #e0f3ff; padding: 10px; border: 1px #001672 solid;\"><b>Définition</b>. Un test est une instruction qui ouvre le choix parmi deux actions suivant le résultat d’un test.<br>\n",
    "   Sa structure est : <b>Si</b> test vérifié <b>alors</b> Action 1 <b>sinon</b> Action 2\n",
    "</div>"
   ]
  },
  {
   "cell_type": "markdown",
   "metadata": {},
   "source": [
    "<div style=\"background-color: rgb(255, 204, 204); padding: 10px; margin-bottom: 20px;\"><b>Notion fondamentale :</b> En python, on écrit les blocs dans une indentation.</div>"
   ]
  },
  {
   "cell_type": "code",
   "execution_count": null,
   "metadata": {},
   "outputs": [],
   "source": [
    "######################################\n",
    "# Ce programme teste la valeur entrée\n",
    "######################################\n",
    "x=int(input(\"Entrer un nombre ?\"))\n",
    "if x < 12 :\n",
    "    print(\"Bonjour\")\n",
    "else :\n",
    "    print(\"Bon après-midi\")"
   ]
  },
  {
   "cell_type": "markdown",
   "metadata": {},
   "source": [
    "<div style=\"background-color: rgb(255, 204, 204); padding: 10px; margin-bottom: 20px;\"> Pour tester la véracité d’une égalité, on utilise le symbole double égale == . Ce sumbole renvoie une variable de type booléenne.</div>"
   ]
  },
  {
   "cell_type": "code",
   "execution_count": null,
   "metadata": {},
   "outputs": [],
   "source": [
    "################\n",
    "# Tester ce code\n",
    "################\n",
    "x = input(\"Taper oui ou non ? \")\n",
    "if x == \"oui\":\n",
    "    print(\"vous avez tapé oui\")\n",
    "else : \n",
    "    print(\"vous avez tapé non\")"
   ]
  },
  {
   "cell_type": "markdown",
   "metadata": {},
   "source": [
    "<div style=\"padding: 10px; border-left: 10px #b3b3ff solid;\"><b>Exercice :</b> Créer un programme qui demande les coordonnées de 2 vecteurs à un utilisateur puis qui détermine si les deux vecteurs sont colinéaires ou pas. Le programme doit contenir la fonction **is_colineaire()** dont il faudra définir les paramètres.</div>"
   ]
  },
  {
   "cell_type": "code",
   "execution_count": null,
   "metadata": {},
   "outputs": [],
   "source": [
    "########################\n",
    "#  Compléter ce code\n",
    "########################\n",
    "\n",
    "a = int(input(\"Entrer l'abscisse du premier point\"))\n",
    "b = int(input(\"Entrer l'ordonnée du premier point\")) \n",
    "c = int(input(\"Entrer l'abscisse du second point\"))\n",
    "d = int(input(\"Entrer l'ordonnée du second point\")) \n",
    "\n",
    "def is_colineaire(a,b,c,d):\n",
    "    return pass"
   ]
  },
  {
   "cell_type": "markdown",
   "metadata": {},
   "source": [
    "<div style=\"padding: 10px; border-left: 10px #b3b3ff solid;\"><b>Exercice :</b> Créer un programme qui demande un nombre entier n et qui dit si le nombre n est pair ou pas.</div>"
   ]
  },
  {
   "cell_type": "code",
   "execution_count": null,
   "metadata": {},
   "outputs": [],
   "source": [
    "n = int(input(\"Entrer un nombre\")) \n",
    "\n",
    "def is_paire(n):\n",
    "    return pass"
   ]
  }
 ],
 "metadata": {
  "kernelspec": {
   "display_name": "Python 3",
   "language": "python",
   "name": "python3"
  },
  "language_info": {
   "codemirror_mode": {
    "name": "ipython",
    "version": 3
   },
   "file_extension": ".py",
   "mimetype": "text/x-python",
   "name": "python",
   "nbconvert_exporter": "python",
   "pygments_lexer": "ipython3",
   "version": "3.8.3"
  }
 },
 "nbformat": 4,
 "nbformat_minor": 4
}
