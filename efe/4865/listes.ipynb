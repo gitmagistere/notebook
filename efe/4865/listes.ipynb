{
 "cells": [
  {
   "cell_type": "markdown",
   "metadata": {},
   "source": [
    "# Les listes"
   ]
  },
  {
   "cell_type": "markdown",
   "metadata": {},
   "source": [
    "<div style=\"background-color: #e0f3ff; padding: 10px; border: 1px #001672 solid;\"><b>Définition</b>.\n",
    "<br>Une liste est une variable composée de plusieurs vairables. Une liste est une séquence qui peut être modifiée.\n",
    "<br>Chaque élément de la liste est accessible par son range dans la liste.\n",
    "<br>Une liste vide se déclare par ma_liste_vide = []. \n",
    "</div>"
   ]
  },
  {
   "cell_type": "markdown",
   "metadata": {},
   "source": [
    "Le bloc d’instructions (suivi ou non de l’instruction <b>return</b>) s’appelle le corps de la fonction. Il doit être obligatoirement indenté (c’est à dire \"décalé\", d’une tabulation, souvent égale à 4 espaces) et la borne de l’indentation marque la borne de la définition de fonction. <br>L’instruction <b>return</b> (ou <b>return if</b> ...) qui veut dire renvoyer (ou renvoyer si...) est une instruction de sortie de la fonction. Toutes les instructions écrites après ne sont pas prises en compte. Certaines fonctions ne renvoient pas de résultat, servent seulement à effectuer une partie du programme."
   ]
  },
  {
   "cell_type": "code",
   "execution_count": 4,
   "metadata": {},
   "outputs": [
    {
     "name": "stdout",
     "output_type": "stream",
     "text": [
      "6\n"
     ]
    }
   ],
   "source": [
    "ma_liste = [5, 8, 6, 9]\n",
    "maVariable = ma_liste[2]\n",
    "\n",
    "print(maVariable)"
   ]
  },
  {
   "cell_type": "markdown",
   "metadata": {},
   "source": [
    "<div style=\"padding: 10px; border-left: 10px #b3b3ff solid;\"><b>Exercice :</b> Afficher la valeur 8 de la liste ma_liste</div>"
   ]
  },
  {
   "cell_type": "markdown",
   "metadata": {},
   "source": [
    "**Une autre déclaration d'une liste par extension**"
   ]
  },
  {
   "cell_type": "code",
   "execution_count": null,
   "metadata": {},
   "outputs": [],
   "source": [
    "###############################\n",
    "#   Déclaration d'un tableau\n",
    "###############################\n",
    "tab = [n*n for n in range (10)]\n",
    "print(tab)"
   ]
  },
  {
   "cell_type": "markdown",
   "metadata": {},
   "source": [
    "**Liste et méthodes**"
   ]
  },
  {
   "cell_type": "markdown",
   "metadata": {},
   "source": [
    "<table>\n",
    "    <tr> \n",
    "        <td>ALGORITHMIE</td><td>PYTHON</td> <td>Les méthodes existantes des listes</td>\n",
    "    </tr>\n",
    "<tr> \n",
    "        <td>(A) </td> <td>len(A)</td> <td> Renvoie le nombre d’éléments</td>\n",
    "    </tr>\n",
    "<tr> \n",
    "        <td>A[i] </td> <td>A[i]</td> <td> Renvoie le i-ème élément de la liste.</td>\n",
    "    </tr>\n",
    "<tr> \n",
    "        <td>A[i]$\\longleftarrow$ k </td> <td>A[i]=k</td> <td> Le i-ème élément de A prend la valeur k</td>\n",
    "    </tr>\n",
    "<tr> \n",
    "        <td>Tranche (x,y)</td> <td> A[x :y] </td> <td>Tranche de la liste qui commence à l’index x et s’arrête avant l’index y.</td>\n",
    "    </tr>\n",
    "<tr> \n",
    "        <td>Supprime(k)</td> <td> del(A[k]) </td> <td>Supprime la valeur de la liste à l’index k.</td>\n",
    "    </tr>\n",
    "<tr> \n",
    "        <td>Tri(A)</td> <td> A.sort()</td> <td> trie une liste</td>\n",
    "    </tr>\n",
    "<tr> \n",
    "        <td>Inverse(A)</td> <td> A.reverse()</td> <td> Inverse l’ordre des éléments dans une liste.</td>\n",
    "    </tr>\n",
    "<tr> \n",
    "        <td>Index(x)</td> <td> A.index(x)</td> <td> Donne l’index de x dans la liste.</td>\n",
    "    </tr>\n",
    "<tr> \n",
    "        <td>Ajouter (k,A) </td> <td>A.append(k)</td> <td>Ajoute la valeur k à la fin de la liste A.</td>\n",
    "    </tr>\n",
    "<tr> \n",
    "        <td>Supprime(k,A)</td> <td> A.remove(k)</td> <td> Recherche la 1ere valeur de k dans la liste A et la supprime.</td>\n",
    "    </tr>\n",
    "</table>"
   ]
  },
  {
   "cell_type": "markdown",
   "metadata": {},
   "source": [
    "**Exemple :** Créer une liste vide et insérer la suite 10 premiers nombres pairs."
   ]
  },
  {
   "cell_type": "code",
   "execution_count": null,
   "metadata": {},
   "outputs": [],
   "source": [
    "nbre_pairs = []\n",
    "for i in range(10):\n",
    "    nbre_pairs.append(2*i)\n",
    "    print(nbre_pairs)"
   ]
  },
  {
   "cell_type": "markdown",
   "metadata": {},
   "source": [
    "<div style=\"padding: 10px; border-left: 10px #b3b3ff solid;\"><b>Exercice :</b>  Créer une liste vide et insérer la suite 10 premiers multiples de 5.</div> "
   ]
  },
  {
   "cell_type": "code",
   "execution_count": null,
   "metadata": {},
   "outputs": [],
   "source": [
    " "
   ]
  },
  {
   "cell_type": "markdown",
   "metadata": {},
   "source": [
    "<div style=\"padding: 10px; border-left: 10px #b3b3ff solid;\"><b>Exercice :</b>  Créer une liste vide et insérer la suite 20 premiers multiples de 5.</div> "
   ]
  },
  {
   "cell_type": "code",
   "execution_count": null,
   "metadata": {},
   "outputs": [],
   "source": [
    " "
   ]
  }
 ],
 "metadata": {
  "kernelspec": {
   "display_name": "Python 3",
   "language": "python",
   "name": "python3"
  },
  "language_info": {
   "codemirror_mode": {
    "name": "ipython",
    "version": 3
   },
   "file_extension": ".py",
   "mimetype": "text/x-python",
   "name": "python",
   "nbconvert_exporter": "python",
   "pygments_lexer": "ipython3",
   "version": "3.8.3"
  }
 },
 "nbformat": 4,
 "nbformat_minor": 4
}
