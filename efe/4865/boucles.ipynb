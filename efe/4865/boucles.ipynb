{
 "cells": [
  {
   "cell_type": "markdown",
   "metadata": {},
   "source": [
    "# Les boucles"
   ]
  },
  {
   "cell_type": "markdown",
   "metadata": {},
   "source": [
    "## La boucle for"
   ]
  },
  {
   "cell_type": "markdown",
   "metadata": {},
   "source": [
    "<div style=\"background-color: #e0f3ff; padding: 10px; border: 1px #001672 solid;\"><b>Définition</b>. Une boucle finie est une itération dont on connait le nombre de répétition <i>a priori</i>.\n",
    "    <br>Cette boucle se code avec l'instruction <b>for</b> <i>variable_compteur</i> <b>in</b> <i>variable_itérable</i>   :\n",
    "<ul>\n",
    "    <li>La variable <i>variable_compteur</i> est une variable qui va parcourir la <i>variable_itérable</i> sur sa longueur.</li>\n",
    "<li>La variable <i>variable_itérable</i> est une liste, ou une chaine de caractère, ou une variable qui peut se parcourir en se détaillant. </li>\n",
    "</ul>\n",
    " Pour parcourir une liste de nombres, on utilise le mot réservé <b>range()</b>\n",
    "</div>"
   ]
  },
  {
   "cell_type": "code",
   "execution_count": null,
   "metadata": {},
   "outputs": [],
   "source": [
    "######################################\n",
    "# Boucle de nombres\n",
    "######################################\n",
    "for i in range (10):\n",
    "      print (i)"
   ]
  },
  {
   "cell_type": "markdown",
   "metadata": {},
   "source": [
    "<div style=\"background-color: rgb(255, 204, 204); padding: 10px; margin-bottom: 20px;\"><b>range</b>(10) signifie qu'il y a 10 itérations... de 0 à 9.\n",
    "<ul>\n",
    "    <li><b>range</b>(<b>stop</b>) : produit une séquence d’entiers de 0 à <b>stop - 1</b></li>\n",
    "    <li><b>range</b>(<b>start</b>, <b>stop</b>) : produit une séquence d’entiers de <b>start</b> à <b>stop - 1</b> </li>\n",
    "    <li><b>range</b>(<b>start</b>, <b>stop</b>, <b>step</b>) : produit une séquence d’entiers allant de start à <b>stop - 1</b> avec un pas de <b>step</b>.</li>\n",
    "</ul>\n",
    "</div>"
   ]
  },
  {
   "cell_type": "code",
   "execution_count": null,
   "metadata": {},
   "outputs": [],
   "source": [
    "######################################\n",
    "# Parcourir une chaine\n",
    "######################################\n",
    "mot = \"coucou\"\n",
    "for lettre  in mot :  \n",
    "      print (lettre)"
   ]
  },
  {
   "cell_type": "markdown",
   "metadata": {},
   "source": [
    "**Exercice :** Calculer la somme des n premiers entiers"
   ]
  },
  {
   "cell_type": "code",
   "execution_count": null,
   "metadata": {},
   "outputs": [],
   "source": []
  },
  {
   "cell_type": "markdown",
   "metadata": {},
   "source": [
    "## La boucle avec arrêt"
   ]
  },
  {
   "cell_type": "markdown",
   "metadata": {},
   "source": [
    "<div style=\"background-color: #e0f3ff; padding: 10px; border: 1px #001672 solid;\"><b>Définition</b>.  Une boucle avec arrêt est une boucle dont on ne connait pas le nombre d'itération à priori et donc il faut lui assigner une instruction d'arrêt.\n",
    "<br><b>Sans cette condition d'arrêt, la boucle est infinie et le programme plante.</b>\n",
    "</div>"
   ]
  },
  {
   "cell_type": "code",
   "execution_count": null,
   "metadata": {},
   "outputs": [],
   "source": [
    "################\n",
    "# Tester ce code\n",
    "################\n",
    "a = 0       # Initialisation\n",
    "while a < 10 :\n",
    "    print(a)\n",
    "    a +=1   # Condition d'arret"
   ]
  },
  {
   "cell_type": "markdown",
   "metadata": {},
   "source": [
    "<div style=\"background-color: #e0f3ff; padding: 10px; border: 1px #001672 solid;\"><b>Arret prématuré de boucle : </b> Si, pour une raison ou pour une autre, on doit sortir de la boucle avant la fin de son exécution, on utilise l’instruction <b>break</b></div>"
   ]
  },
  {
   "cell_type": "code",
   "execution_count": null,
   "metadata": {},
   "outputs": [],
   "source": [
    "########################\n",
    "#  Tester ce code\n",
    "########################\n",
    "for i in range (10) :\n",
    "    print (i)\n",
    "    if i ==7 :\n",
    "        break"
   ]
  },
  {
   "cell_type": "markdown",
   "metadata": {},
   "source": [
    "<div style=\"background-color: #e0f3ff; padding: 10px; border: 1px #001672 solid;\"><b>Saut dans une boucle : </b> Si, pour une raison ou pour une autre, on doit sauter un passage dans une boucle, on utilise l’instruction <b>continue</b>.</div>"
   ]
  },
  {
   "cell_type": "code",
   "execution_count": null,
   "metadata": {},
   "outputs": [],
   "source": [
    "for i in range(10) :\n",
    "    if i == 7 :\n",
    "        continue\n",
    "    print(i)"
   ]
  },
  {
   "cell_type": "markdown",
   "metadata": {},
   "source": [
    "<div style=\"padding: 10px; border-left: 10px #b3b3ff solid;\"><b>Exercice :</b> Déterminer la première puissance d’un nombre positif donné supérieure ou inférieure à une valeur donnée.</div>"
   ]
  },
  {
   "cell_type": "code",
   "execution_count": null,
   "metadata": {},
   "outputs": [],
   "source": [
    " "
   ]
  },
  {
   "cell_type": "markdown",
   "metadata": {},
   "source": [
    "<div style=\"padding: 10px; border-left: 10px #b3b3ff solid;\"><b>Exercice :</b> Calculer la moyenne arithmétique de n valeurs pondérées données par l’utilisateur.</div>"
   ]
  },
  {
   "cell_type": "code",
   "execution_count": null,
   "metadata": {},
   "outputs": [],
   "source": []
  },
  {
   "cell_type": "markdown",
   "metadata": {},
   "source": [
    "<div style=\"padding: 10px; border-left: 10px #b3b3ff solid;\"><b>Exercice :</b>  Créer un programme qui calcule le nombre de 5 qu'il faut utiliser pour paginer un livre de 10 000 pages.</div>"
   ]
  },
  {
   "cell_type": "code",
   "execution_count": null,
   "metadata": {},
   "outputs": [],
   "source": []
  }
 ],
 "metadata": {
  "kernelspec": {
   "display_name": "Python 3",
   "language": "python",
   "name": "python3"
  },
  "language_info": {
   "codemirror_mode": {
    "name": "ipython",
    "version": 3
   },
   "file_extension": ".py",
   "mimetype": "text/x-python",
   "name": "python",
   "nbconvert_exporter": "python",
   "pygments_lexer": "ipython3",
   "version": "3.8.3"
  }
 },
 "nbformat": 4,
 "nbformat_minor": 4
}
