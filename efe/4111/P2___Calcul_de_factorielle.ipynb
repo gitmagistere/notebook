{
 "cells": [
  {
   "cell_type": "markdown",
   "metadata": {
    "colab_type": "text",
    "id": "1B9yKvb1K6aj"
   },
   "source": [
    "# Factorielle d'un entier $n$ : $n!$\n",
    "\n",
    "$n!$, \"factorielle $n$\" est définie par $n!=1 \\times 2 \\times 3 \\times ... \\times n$\n"
   ]
  },
  {
   "cell_type": "markdown",
   "metadata": {
    "colab_type": "text",
    "id": "Yv_IPtzNMct1"
   },
   "source": [
    "1) En utilisant une boucle, réaliser une fonction sous Python qui calcule $n!$, $n$ étant donné. "
   ]
  },
  {
   "cell_type": "code",
   "execution_count": null,
   "metadata": {
    "colab": {},
    "colab_type": "code",
    "id": "rlztUkcgQOEX"
   },
   "outputs": [],
   "source": []
  },
  {
   "cell_type": "markdown",
   "metadata": {
    "colab_type": "text",
    "id": "8Rt4F5v5QGCu"
   },
   "source": [
    "#aide: Etablir une relation de récurrence. \n"
   ]
  },
  {
   "cell_type": "markdown",
   "metadata": {
    "colab_type": "text",
    "id": "yLoCYKOw2eZO"
   },
   "source": [
    "La suite $u(n)=n!$  peut être définie par récurrence.  \n",
    "\n",
    "Calculer  $u(n+1)$ et déterminer une relation entre $u(n+1)$ et $u(n)$. \n",
    "Compléter l’algorithme suivant : \n"
   ]
  },
  {
   "cell_type": "code",
   "execution_count": null,
   "metadata": {
    "colab": {},
    "colab_type": "code",
    "id": "D3dxlC5BO7gC"
   },
   "outputs": [],
   "source": [
    "def factorielle(n):\n",
    "  P = 1\n",
    "  for i in range (...):\n",
    "    P = P*...\n",
    "  return P\n",
    "\n",
    "factorielle(8)"
   ]
  },
  {
   "cell_type": "markdown",
   "metadata": {
    "colab_type": "text",
    "id": "ru_7Vw2ARwOg"
   },
   "source": [
    "# pour aller plus loin: Définir factorielle $n$ par une fonction recursive."
   ]
  },
  {
   "cell_type": "markdown",
   "metadata": {
    "colab_type": "text",
    "id": "LIPnQYX04hB_"
   },
   "source": [
    "Sous Python, la définition d’une fonction peut être récursive, en faisant appel à elle-même, comme une relation de récurrence d’une suite.  \n",
    "Par exemple,  $f(n)$ renvoie $n!$ \n",
    "\n",
    "Compléter \n",
    "\n",
    "Si $n=1$, $f(n)=…$ \n",
    "\n",
    "Sinon $f(n)=... \\times f(...)$ \n",
    "En déduire une fonction sous Python qui calcule $n!$, $n$ étant donné."
   ]
  },
  {
   "cell_type": "code",
   "execution_count": null,
   "metadata": {
    "colab": {},
    "colab_type": "code",
    "id": "JGZ_BC2o6GbD"
   },
   "outputs": [],
   "source": []
  },
  {
   "cell_type": "markdown",
   "metadata": {
    "colab_type": "text",
    "id": "TcVtPFXj6Hq8"
   },
   "source": [
    "##Solution"
   ]
  },
  {
   "cell_type": "code",
   "execution_count": null,
   "metadata": {
    "colab": {
     "base_uri": "https://localhost:8080/",
     "height": 34
    },
    "colab_type": "code",
    "executionInfo": {
     "elapsed": 354,
     "status": "ok",
     "timestamp": 1571258461787,
     "user": {
      "displayName": "Tom Renault",
      "photoUrl": "",
      "userId": "06499583238214254699"
     },
     "user_tz": 240
    },
    "id": "lMNDLMAzS45C",
    "outputId": "2030be22-ac70-4f5b-b4d4-b79b7ba8e946"
   },
   "outputs": [
    {
     "data": {
      "text/plain": [
       "10333147966386144929666651337523200000000"
      ]
     },
     "execution_count": 7,
     "metadata": {
      "tags": []
     },
     "output_type": "execute_result"
    }
   ],
   "source": [
    "def facto(n):\n",
    "  if n ==1:\n",
    "    return 1\n",
    "  else:\n",
    "    return n*facto(n-1)\n",
    "facto(35) \n",
    "  "
   ]
  }
 ],
 "metadata": {
  "colab": {
   "collapsed_sections": [
    "1B9yKvb1K6aj",
    "8Rt4F5v5QGCu",
    "ru_7Vw2ARwOg",
    "TcVtPFXj6Hq8"
   ],
   "name": "P2 : Calcul de factorielle.ipynb",
   "provenance": []
  },
  "kernelspec": {
   "display_name": "Python 3",
   "language": "python",
   "name": "python3"
  },
  "language_info": {
   "codemirror_mode": {
    "name": "ipython",
    "version": 3
   },
   "file_extension": ".py",
   "mimetype": "text/x-python",
   "name": "python",
   "nbconvert_exporter": "python",
   "pygments_lexer": "ipython3",
   "version": "3.7.4"
  }
 },
 "nbformat": 4,
 "nbformat_minor": 4
}
