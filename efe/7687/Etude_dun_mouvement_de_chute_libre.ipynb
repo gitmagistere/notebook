{
  "cells": [
    {
      "cell_type": "markdown",
      "metadata": {
        "id": "Y7KXkwUfZRM9"
      },
      "source": [
        "<center>\n",
        "<h1>Etude d'un mouvement en chute libre parabolique ou en ligne droite</h1>\n",
        "</center>\n",
        "<hr />"
      ]
    },
    {
      "cell_type": "markdown",
      "source": [
        "## 1. Import des bibliothèques"
      ],
      "metadata": {
        "id": "CaCcdDWqbGos"
      }
    },
    {
      "cell_type": "code",
      "execution_count": null,
      "metadata": {
        "id": "uCcIR8SMZRM8"
      },
      "outputs": [],
      "source": [
        "from matplotlib import pyplot as plt    #Importe les fonctions liées à l'affichage de graphiques\n",
        "import seaborn as sns                   #Permet d'appliquer un thème au graphique plus lisible\n",
        "from math import sqrt                   #permet d'importer la fonction racine (sqrt) de la bibliothèque math"
      ]
    },
    {
      "cell_type": "markdown",
      "metadata": {
        "id": "Uo9XBC9HZRM-"
      },
      "source": [
        "## 2. Étude de la trajectoire et nature du volant\n",
        "\n",
        "### Mise en œuvre du protocole\n",
        "\n",
        "- [Lien vers le logiciel Mecachrono](https://www.eleves.online/MecaChrono/index.php?A=7&B=0&C=0&D=15&E=16&H=-1682993887&lang=fr)\n",
        "- Sélectionner « Nombre d'images par seconde de la vidéo » et « Nombre d'images entre deux échantillonnages » approprié. Entre 15 et 25 pointages sont demandés.\n",
        "- Utiliser la notice du logiciel Mecachrono."
      ]
    },
    {
      "cell_type": "markdown",
      "source": [
        ""
      ],
      "metadata": {
        "id": "0vkg8SIybuPf"
      }
    },
    {
      "cell_type": "markdown",
      "metadata": {
        "id": "-qSpyy9TZRM_"
      },
      "source": [
        "### CONSIGNE DE TRAVAIL 1\n",
        "\n",
        "Coller les listes `x`, `y` et `t` depuis le logiciel Mecachrono"
      ]
    },
    {
      "cell_type": "code",
      "execution_count": null,
      "metadata": {
        "id": "W_1m7GjJZRM_"
      },
      "outputs": [],
      "source": [
        ""
      ]
    },
    {
      "cell_type": "markdown",
      "metadata": {
        "id": "joOGT3QHZRM_"
      },
      "source": [
        "### CONSIGNE DE TRAVAIL 2\n",
        "\n",
        "Compléter le code permettant d'afficher la trajectoire."
      ]
    },
    {
      "cell_type": "code",
      "execution_count": null,
      "metadata": {
        "id": "MIJVqZZkZRNA"
      },
      "outputs": [],
      "source": [
        "sns.set()\n",
        "plt.figure(figsize=(8, 6), dpi=100)\n",
        "plt.plot( ... ,  ... , 'o')\n",
        "plt.xlabel(\"...\")\n",
        "plt.ylabel(\"...\")\n",
        "plt.show()"
      ]
    },
    {
      "cell_type": "markdown",
      "metadata": {
        "id": "UL9pY-CpZRNA"
      },
      "source": [
        "## 3. Traitement numérique des données expérimentales : Calcul des vecteurs vitesses\n",
        "Calculs des coordonnées des vecteurs vitesses"
      ]
    },
    {
      "cell_type": "markdown",
      "metadata": {
        "id": "jkHx3ixjjADa"
      },
      "source": [
        "### CONSIGNE DE TRAVAIL 3\n",
        "\n",
        "Compléter le code permettant de calculer les coordonnées des vecteurs vitesse."
      ]
    },
    {
      "cell_type": "code",
      "execution_count": null,
      "metadata": {
        "id": "Fm5lKslAZRNA"
      },
      "outputs": [],
      "source": [
        "# Calcul des coordonnées de la vitesse\n",
        "\n",
        "vx = [0] * len(t)  # Liste des coordonnées selon (0x) de la vitesse initialisée à 0\n",
        "vy = [0] * len(t)  # Liste des coordonnées selon (0y) de la vitesse initialisée à 0\n",
        "v = [0] * len(t)   # Liste des valeurs de la vitesse initialisée à 0\n",
        "\n",
        "for i in range(1, len(t) - 1):\n",
        "  vx[i] = ...\n",
        "  vy[i] = ...\n",
        "  v[i] = sqrt( vx[i]**2 + vy[i]**2 )\n"
      ]
    },
    {
      "cell_type": "markdown",
      "source": [
        "Affichage des vecteurs vitesse (rien à modifier ici)\n",
        "\n"
      ],
      "metadata": {
        "id": "3VI7eRpucCGI"
      }
    },
    {
      "cell_type": "code",
      "source": [
        "sns.set()\n",
        "plt.figure(figsize=(8, 8), dpi=100)\n",
        "plt.plot( x ,  y , 'o')\n",
        "plt.xlabel(\" x \")\n",
        "plt.ylabel(\" y \")\n",
        "\n",
        "for i in range(1,len(x)-1): #on n'affiche pas le vecteur vitesse au premier et au dernier point\n",
        "  plt.arrow(x[i],y[i],0.02*vx[i],0.02*vy[i], color='green',head_width=0.05)\n",
        "plt.show()"
      ],
      "metadata": {
        "id": "bMU7a7becFSz"
      },
      "execution_count": null,
      "outputs": []
    },
    {
      "cell_type": "markdown",
      "source": [
        "## 4. Traitement numérique des données expérimentales : Calcul des vecteurs accélération\n",
        "Calculs des coordonnées des vecteurs accélération"
      ],
      "metadata": {
        "id": "91Majtqhaaaz"
      }
    },
    {
      "cell_type": "markdown",
      "metadata": {
        "id": "pVLfdrYkjK7j"
      },
      "source": [
        "### CONSIGNE DE TRAVAIL 4\n",
        "\n",
        "Compléter le code permettant de calculer les coordonnées du vecteur accélération"
      ]
    },
    {
      "cell_type": "code",
      "source": [
        "# Calcul des coordonnées du vecteur accélération\n",
        "ax = [0] * len(t)  # Liste des coordonnées selon (0x) de l'accélération initialisée à 0\n",
        "ay = [0] * len(t)  # Liste des coordonnées selon (0y) de l'accélération initialisée à 0\n",
        "for i in range(2,len(t)-2):\n",
        "  ax[i] = ...\n",
        "  ay[i] = ..."
      ],
      "metadata": {
        "id": "Cy54LvqDaeu2"
      },
      "execution_count": null,
      "outputs": []
    },
    {
      "cell_type": "markdown",
      "source": [
        "Affichage des vecteurs accélération (rien à modifier ici)\n"
      ],
      "metadata": {
        "id": "XPB7c-lQhtYa"
      }
    },
    {
      "cell_type": "code",
      "source": [
        "sns.set()\n",
        "plt.figure(figsize=(8, 8), dpi=100)\n",
        "plt.plot( x ,  y , 'o')\n",
        "plt.xlabel(\" x \")\n",
        "plt.ylabel(\" y \")\n",
        "\n",
        "for i in range(2,len(x)-2): #on n'affiche pas le vecteur accélération aux deux premiers et au deux derniers points\n",
        "  plt.arrow(x[i],y[i],0.02*ax[i],0.02*ay[i], color='red',head_width=0.05)\n",
        "plt.show()"
      ],
      "metadata": {
        "id": "ay-y_mXghwJM"
      },
      "execution_count": null,
      "outputs": []
    },
    {
      "cell_type": "markdown",
      "metadata": {
        "id": "4KeNzT4EZRNA"
      },
      "source": [
        "### Consigne de Travail 5\n",
        "\n",
        "Compléter le code Python permettant de stocker les valeurs de `m` et `g` dans les unités du système international"
      ]
    },
    {
      "cell_type": "code",
      "execution_count": null,
      "metadata": {
        "id": "KEFxchBBZRNB"
      },
      "outputs": [],
      "source": [
        "m = ...\n",
        "g = ..."
      ]
    },
    {
      "cell_type": "markdown",
      "metadata": {
        "id": "HiPhjOyaZRNB"
      },
      "source": [
        "### Consigne de travail 6\n",
        "\n",
        "Compléter le code Python permettant de calculer les grandeurs utiles à la démarche.\n",
        "\n",
        "Grandeurs disponibles :\n",
        "- `t`  : liste des dates en secondes.\n",
        "- `x`  : liste des abscisses du système aux dates $t$, en mètres.\n",
        "- `y`  : liste des ordonnées du système aux dates $t$, en mètres.\n",
        "- `v`  : liste des valeurs du vecteur vitesse aux dates $t$"
      ]
    },
    {
      "cell_type": "code",
      "execution_count": null,
      "metadata": {
        "id": "Fi8EbbFCZRNB"
      },
      "outputs": [],
      "source": [
        "Ec = [0] * len(t)   # Liste des énergies cinétiques initialisée à 0\n",
        "Epp = [0] * len(t)  # Liste des énergies potentielles de pesanteur initialisée à 0\n",
        "Em = [0] * len(t)   # Liste des énergies mécaniques initialisée à 0\n",
        "\n",
        "for i in range(len(t)):\n",
        "    Ec[i] = ...\n",
        "    Epp[i] = ... \n",
        "    Em[i] = ..."
      ]
    },
    {
      "cell_type": "markdown",
      "metadata": {
        "id": "44x348n6ZRNB"
      },
      "source": [
        "### Consigne de travail 7\n",
        "Compléter le code permettant d'afficher les trois formes d'énergie : Caculs et légendes du graphique.   "
      ]
    },
    {
      "cell_type": "code",
      "execution_count": null,
      "metadata": {
        "id": "swlw3LlRZRNB"
      },
      "outputs": [],
      "source": [
        "sns.set()\n",
        "plt.figure(figsize=(8, 6), dpi=100)\n",
        "plt.plot( ... ,  ... , 'o', label=' ... ')\n",
        "plt.plot( ... , ... , 'o', label=' ... ')\n",
        "plt.plot( ... , ... , 'o', label=' ... ')\n",
        "plt.xlabel(\" ... \")\n",
        "plt.ylabel(\" ... \")\n",
        "plt.legend()\n",
        "plt.show()"
      ]
    }
  ],
  "metadata": {
    "interpreter": {
      "hash": "140daeb0614e363086690a9bdb8e96ae6082eb9e92f55d33b86d544a8a58f997"
    },
    "kernelspec": {
      "display_name": "Python 3.9.12 ('base')",
      "language": "python",
      "name": "python3"
    },
    "language_info": {
      "codemirror_mode": {
        "name": "ipython",
        "version": 3
      },
      "file_extension": ".py",
      "mimetype": "text/x-python",
      "name": "python",
      "nbconvert_exporter": "python",
      "pygments_lexer": "ipython3",
      "version": "3.9.12"
    },
    "orig_nbformat": 4,
    "colab": {
      "name": "Etude d'un mouvement de chute libre.ipynb",
      "provenance": []
    }
  },
  "nbformat": 4,
  "nbformat_minor": 0
}