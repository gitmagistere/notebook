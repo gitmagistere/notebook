{
  "cells": [
    {
      "cell_type": "markdown",
      "metadata": {
        "id": "Y7KXkwUfZRM9"
      },
      "source": [
        "<center>\n",
        "<h1>Etude d'une transformation chimique</h1>\n",
        "</center>\n",
        "<hr />"
      ]
    },
    {
      "cell_type": "markdown",
      "source": [
        "## 0. Import des bibliothèques"
      ],
      "metadata": {
        "id": "CaCcdDWqbGos"
      }
    },
    {
      "cell_type": "code",
      "execution_count": null,
      "metadata": {
        "id": "uCcIR8SMZRM8"
      },
      "outputs": [],
      "source": [
        "from matplotlib import pyplot as plt    #Importe les fonctions liées à l'affichage de graphiques\n",
        "import seaborn as sns                   #Permet d'appliquer un thème au graphique plus lisible\n",
        "import numpy as np\n",
        "from math import sqrt                   #permet d'importer la fonction racine (sqrt) de la bibliothèque math"
      ]
    },
    {
      "cell_type": "markdown",
      "metadata": {
        "id": "Uo9XBC9HZRM-"
      },
      "source": [
        "## 1. Déterminer une quantité de matière à partir d'une masse de réactif\n",
        "\n",
        "### Mise en œuvre du protocole\n",
        "\n",
        "- Entrer manuellement les masses des réactifs A et B\n",
        "- Entrer manuellement les masses molaires des réactifs A et B\n",
        "- Afficher la valeur des quantités de matière introduites"
      ]
    },
    {
      "cell_type": "markdown",
      "metadata": {
        "id": "-qSpyy9TZRM_"
      },
      "source": [
        "### CONSIGNE DE TRAVAIL 1\n",
        "\n",
        "Compléter le programme afin de calculer puis afficher les quantités de matière de chaque réactif A et B"
      ]
    },
    {
      "cell_type": "code",
      "execution_count": null,
      "metadata": {
        "id": "W_1m7GjJZRM_"
      },
      "outputs": [],
      "source": [
        "print(\"Attention à indiquer les nombres décimaux en notation anglosaxonne, exemple : 6.34\")\n",
        "mA = float(input('masse du réactif A introduite : '))\n",
        "MA = float(input('masse molaire du réactif A : '))\n",
        "mB = float(input('masse du réactif B introduite : '))\n",
        "MB = float(input('masse molaire du réactif B : '))\n",
        "nA = ....\n",
        "nB = ....\n",
        "print('la quantité de matière du réactif A est de : ',round(....,5),' unité? ')\n",
        "print('la quantité de matière du réactif B est de : ',round(....,5),' unité? ')\n"
      ]
    },
    {
      "cell_type": "markdown",
      "metadata": {
        "id": "VwQjqCBCxxHu"
      },
      "source": [
        "## 2. Déterminer la composition d'un système à l'état final d'un système siède d'une transformation chimique totale\n",
        "\n",
        "### Mise en œuvre du protocole\n",
        "\n",
        "- Utiliser la partie 1 pour calculer les quantités de matière initiale\n",
        "- Complétez le code afin d'établir le réactif limitant\n",
        "- complétez le code afin de calculer les quantités de matières à l'état final"
      ]
    },
    {
      "cell_type": "code",
      "source": [
        ""
      ],
      "metadata": {
        "id": "6sliylNjyQTG"
      },
      "execution_count": null,
      "outputs": []
    },
    {
      "cell_type": "markdown",
      "metadata": {
        "id": "joOGT3QHZRM_"
      },
      "source": [
        "### CONSIGNE DE TRAVAIL 2\n",
        "\n",
        "Compléter le code permettant d'établir le réactif limitant"
      ]
    },
    {
      "cell_type": "code",
      "execution_count": null,
      "metadata": {
        "id": "MIJVqZZkZRNA"
      },
      "outputs": [],
      "source": [
        "print(\"a . A + b . B => c . C + d . D\")\n",
        "coeffA=float(input('entrez le coefficient stoechiométrique du réactif A : '))\n",
        "coeffB=float(input('entrez le coefficient stoechiométrique du réactif B : '))\n",
        "\n",
        "if nA/coeffA < nB/coeffB :\n",
        "  xmax = ......\n",
        "  print('le réactif limitant est le réactif A')\n",
        "elif nA/coeffA > nB/coeffB :\n",
        "  xmax = ......\n",
        "  print('le réactif limitant est le réactif B')\n",
        "else:\n",
        "  xmax = .......\n",
        "  print('les réactifs A et B sont introduits en proportion stoechiométriques')\n",
        "\n",
        "print('lavancement maximal xmax vaut : ',.....,' unité? ')\n",
        "\n",
        "#on peut aussi utiliser xmax=min(nA/coeffA,nB/coeffB) mais la procédure d'hypothèse est moins visible. D'un point de vue programmation, c'est par contre idéal\n"
      ]
    },
    {
      "cell_type": "markdown",
      "metadata": {
        "id": "H0M_fG7_0T1x"
      },
      "source": [
        "### CONSIGNE DE TRAVAIL 3\n",
        "\n",
        "Compléter le code permettant de calculer les quantités de matières à l'état final"
      ]
    },
    {
      "cell_type": "code",
      "execution_count": null,
      "metadata": {
        "colab": {
          "base_uri": "https://localhost:8080/"
        },
        "outputId": "de5a5cf9-92c5-4592-a59e-daf4f7cc9c4a",
        "id": "KtR5o6Xb0YIW"
      },
      "outputs": [
        {
          "output_type": "stream",
          "name": "stdout",
          "text": [
            "a . A + b . B => c . C + d . D\n",
            "entrez le coefficient stoechiométrique du réactif C : 2\n",
            "entrez le coefficient stoechiométrique du réactif D : 2\n",
            "la quantité de matière finale obtenue du produit C est de :  0.0114  mol\n",
            "la quantité de matière finale obtenue du produit D est de :  0.0114  mol\n"
          ]
        }
      ],
      "source": [
        "print(\"a . A + b . B => c . C + d . D\")\n",
        "coeffC=float(input('entrez le coefficient stoechiométrique du réactif C : '))\n",
        "coeffD=float(input('entrez le coefficient stoechiométrique du réactif D : '))\n",
        "\n",
        "nCfinal = ...\n",
        "nDfinal = ...\n",
        "print('la quantité de matière finale obtenue du produit C est de : ',round(...,5),' mol')\n",
        "print('la quantité de matière finale obtenue du produit D est de : ',round(...,5),' mol')\n",
        "\n",
        "\n"
      ]
    },
    {
      "cell_type": "code",
      "source": [
        ""
      ],
      "metadata": {
        "id": "LgkxNYrdEtny"
      },
      "execution_count": null,
      "outputs": []
    },
    {
      "cell_type": "markdown",
      "metadata": {
        "id": "UL9pY-CpZRNA"
      },
      "source": [
        "## 3. Représenter l'évolution des quantités de matière des espèces en fonction de l'avancement"
      ]
    },
    {
      "cell_type": "markdown",
      "metadata": {
        "id": "jkHx3ixjjADa"
      },
      "source": [
        "### CONSIGNE DE TRAVAIL 4\n",
        "\n",
        "Compléter le code permettant de représenter l'évolution des quantités de matière en fonction de l'avancement de la transformation chimique"
      ]
    },
    {
      "cell_type": "code",
      "execution_count": null,
      "metadata": {
        "id": "Fm5lKslAZRNA",
        "colab": {
          "base_uri": "https://localhost:8080/",
          "height": 285
        },
        "outputId": "3ef4505f-37c3-4317-a0a3-93879b1c37d3"
      },
      "outputs": [
        {
          "output_type": "display_data",
          "data": {
            "text/plain": [
              "<Figure size 432x288 with 1 Axes>"
            ],
            "image/png": "[encoded data removed]"
          },
          "metadata": {}
        }
      ],
      "source": [
        "sns.set()\n",
        "x = np.linspace(0,xmax,30) # on crée un tableau de valeur contenant toutes les valeurs de l'avancement de 0 à xmax avec 30 points équidistants\n",
        "plt.plot(x,nA-....,'r', label='réactif A')\n",
        "plt.plot(x,nB-....,'bX', label='réactif B')\n",
        "plt.plot(x,....,'go', label='produit C')\n",
        "plt.xlabel(\"avancement \")\n",
        "plt.ylabel(\"mol\")\n",
        "plt.legend()\n",
        "plt.show()\n"
      ]
    }
  ],
  "metadata": {
    "interpreter": {
      "hash": "140daeb0614e363086690a9bdb8e96ae6082eb9e92f55d33b86d544a8a58f997"
    },
    "kernelspec": {
      "display_name": "Python 3.9.12 ('base')",
      "language": "python",
      "name": "python3"
    },
    "language_info": {
      "codemirror_mode": {
        "name": "ipython",
        "version": 3
      },
      "file_extension": ".py",
      "mimetype": "text/x-python",
      "name": "python",
      "nbconvert_exporter": "python",
      "pygments_lexer": "ipython3",
      "version": "3.9.12"
    },
    "orig_nbformat": 4,
    "colab": {
      "name": "Les transformations chimiques.ipynb",
      "provenance": []
    }
  },
  "nbformat": 4,
  "nbformat_minor": 0
}