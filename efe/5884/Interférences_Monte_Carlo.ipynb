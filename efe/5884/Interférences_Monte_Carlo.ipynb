{
  "nbformat": 4,
  "nbformat_minor": 0,
  "metadata": {
    "colab": {
      "name": "Interférences_Monte_Carlo.ipynb",
      "provenance": []
    },
    "kernelspec": {
      "name": "python3",
      "display_name": "Python 3"
    }
  },
  "cells": [
    {
      "cell_type": "code",
      "metadata": {
        "colab": {
          "base_uri": "https://localhost:8080/",
          "height": 313
        },
        "id": "i9JCeo4VCjBi",
        "outputId": "382ff681-2821-4435-9f03-b6d85915c3cb"
      },
      "source": [
        "import numpy as np\n",
        "from matplotlib import pyplot\n",
        "\n",
        "# Renvoie une valeur aléatoire de la variable L[0] d'incertitude-type L[1]\n",
        "def Alea(L):\n",
        "    tirage=np.random.normal()\n",
        "    return L[0]+L[1]*tirage\n",
        "\n",
        "# Entrées\n",
        "lambd=[700.0*10**-9,0.2*10**-9]\n",
        "D=[1.00,0.01]\n",
        "i=[0.111,0.001]\n",
        "\n",
        "# Simulation d'un nombre de dosage correspondant à NbreMesure\n",
        "b=[]\n",
        "NbreMesure=10000\n",
        "for j in range(NbreMesure):\n",
        "    calcul=Alea(lambd)*Alea(D)/Alea(i)\n",
        "    b.append(calcul)\n",
        "\n",
        "# Calcul de la moyenne des résultats\n",
        "bmoy=sum(b)/NbreMesure\n",
        "\n",
        "# Calcul de l'écart type de l'ensemble des mesures\n",
        "ub=(1/(NbreMesure)*sum((np.array(b)-bmoy)**2.))**0.5\n",
        "\n",
        "# Ecriture du résultat\n",
        "print('Valeur du pas du réseau :', bmoy,' m')\n",
        "print('u(b) :', ub,' m')\n",
        "\n",
        "# Tracé du graphique\n",
        "pyplot.hist(b, range = (min(b), max(b)), bins = 50, color = 'blue', edgecolor = 'black')\n",
        "pyplot.xlabel('b (m)')\n",
        "pyplot.ylabel('effectif')\n",
        "pyplot.show()"
      ],
      "execution_count": 10,
      "outputs": [
        {
          "output_type": "stream",
          "text": [
            "Valeur du pas du réseau : 6.306813667322283e-06  m\n",
            "u(b) : 8.405785008427557e-08  m\n"
          ],
          "name": "stdout"
        },
        {
          "output_type": "display_data",
          "data": {
            "image/png": "[encoded data removed]",
            "text/plain": [
              "<Figure size 432x288 with 1 Axes>"
            ]
          },
          "metadata": {
            "tags": [],
            "needs_background": "light"
          }
        }
      ]
    }
  ]
}