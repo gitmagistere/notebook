{
  "nbformat": 4,
  "nbformat_minor": 0,
  "metadata": {
    "colab": {
      "name": "Python2notebook_Singapour.ipynb",
      "provenance": [],
      "collapsed_sections": []
    },
    "kernelspec": {
      "display_name": "Python 3",
      "language": "python",
      "name": "python3"
    },
    "language_info": {
      "codemirror_mode": {
        "name": "ipython",
        "version": 3
      },
      "file_extension": ".py",
      "mimetype": "text/x-python",
      "name": "python",
      "nbconvert_exporter": "python",
      "pygments_lexer": "ipython3",
      "version": "3.7.3"
    }
  },
  "cells": [
    {
      "cell_type": "markdown",
      "metadata": {
        "id": "_yqU0k_OCOdf"
      },
      "source": [
        "### A- Les tableaux\n"
      ]
    },
    {
      "cell_type": "markdown",
      "metadata": {
        "id": "kFjeVmkV0Vli"
      },
      "source": [
        "\n",
        "En sciences, nous récoltons souvent des données, sous forme de tableau:\n",
        "\n",
        "Temps     (s)\t 0\t /  5\t /  10\t /   15\t  / 20\n",
        "\n",
        "Abscisse x(m)\t0,5\t/  6,9\t/   2,4  /\t5,1\t /   -3\n",
        "\n",
        "Exemple:\n",
        "\n",
        "Le tableau ci-contre va être déclaré en Python grâce à l’instruction suivante : \n",
        "X = [0.5, 6.9, 2.4, 5.1, -3]\n",
        "Faites print pour vous rendre compte du stockage sous forme de tableau.\n"
      ]
    },
    {
      "cell_type": "code",
      "metadata": {
        "id": "ZEV_Wbiu0lKJ"
      },
      "source": [
        "X = [0.5, 6.9, 2.4, 5.1, -3]\n",
        "print(X)"
      ],
      "execution_count": null,
      "outputs": []
    },
    {
      "cell_type": "markdown",
      "metadata": {
        "id": "7Ujc8jFU25g7"
      },
      "source": [
        "Pour récupérer (par  exemple afficher) une valeur du tableau, on écrit print(X[indice]) \n",
        "\n",
        "Attention,les indices commencent à 0. Par exemple print(X[0]) vous donnera la valeur 0,5\n",
        "\n",
        "\n",
        "Ecrire le programme permettant d'afficher  la valeur 2,4.\n",
        "\n",
        "***A jous de jouer, tester***\n",
        "\n"
      ]
    },
    {
      "cell_type": "code",
      "metadata": {
        "id": "KU8UcpGPClNQ"
      },
      "source": [
        ""
      ],
      "execution_count": null,
      "outputs": []
    },
    {
      "cell_type": "markdown",
      "metadata": {
        "id": "W5W38g7EHYQG"
      },
      "source": [
        "Et si vous avez plusieurs tableaux, alors il faudra déclarer plusieurs listes.\n",
        "Ex\n",
        "\n",
        "t (s)  1 / 2 / 3 / 4 \n",
        "\n",
        "EC (en J)  2000/ 4000 / 5000 / 6000\n",
        "\n",
        "EP ( en J) 8000 / 5000 / 3000 / 1000\n",
        "\n",
        "Si vous faites EC + EP, les deux listes vont s'ajouter... parfait non? Sauf que non!! \"Ajouter\" pour une liste, veut dire l'une à la suite de l'autre!!\n",
        "\n",
        "Ec + Ep  2000/ 4000 / 5000 / 6000 / 8000 / 6000 / 5000 / 4000\n",
        "\n",
        "Si vous voulez faire calculer l'énergie mécanique, il faut donc fonctionner avec les indices.\n",
        "\n",
        "Exemple: Compléter le programme permettant de calculer et d'afficher l'énegie mécanique lorsque le temps est de 3s\n",
        "\n",
        "On verra ensuite comment obtenir le tableau de l'énergie mécanique pour toutes les positions"
      ]
    },
    {
      "cell_type": "code",
      "metadata": {
        "id": "pVCuqY75JLnm"
      },
      "source": [
        "t = [1 ,2 , 3 , 4]\n",
        "Ec = [2000, 4000 , 5000 , 6000]\n",
        "Ep = [8000, 5000 , 3000 , 1000]"
      ],
      "execution_count": null,
      "outputs": []
    },
    {
      "cell_type": "markdown",
      "metadata": {
        "id": "4g8-xGmSKMgy"
      },
      "source": [
        "### B- Les conditions"
      ]
    },
    {
      "cell_type": "markdown",
      "metadata": {
        "id": "lDCqLnvuKcDw"
      },
      "source": [
        "ERREUR COURANTE, PAS TOUJOURS FACILE à DETECTER: ne pas oublier les \":\"  et l'indentation (c'est à dire le décallage à droite)\n",
        "\n",
        "Programme de chimie: tester le:\n"
      ]
    },
    {
      "cell_type": "code",
      "metadata": {
        "id": "Oqki-IphK_NR"
      },
      "source": [
        "print(\"entrer les quantités de matières initiales, les coefficient devant l'espèce A et B sont égaux\")\n",
        "na=float(input (\"n0a= (en mol) \"))\n",
        "nb=float(input (\"n0b= (en mol)\"))\n",
        "\n",
        "if na==nb:\n",
        "    print(\"le mélange est stoechiométrique\")\n",
        "    \n",
        "else:\n",
        "    print(\"le mélange n'est pas stoechiometrique\")\n",
        "    \n"
      ],
      "execution_count": null,
      "outputs": []
    },
    {
      "cell_type": "markdown",
      "metadata": {
        "id": "M3Fyiu8lMJVY"
      },
      "source": [
        "\n",
        "\n",
        "ATTENTION AU SIGNE ==.\n",
        "Quand on affecte une valeur à une variable, alors on utilise le signe =\n",
        "Mais lors d'une comparaison entre deux variables, on utilise le signe ==\n",
        "C'EST UNE ERREUR TRES TRES TRES FREQUENTE CHEZ LES ELEVES.\n",
        "\n",
        "\n",
        "Si il y a plusieurs conditions (c'est le cas ici), plutôt que de commencer chaque ligne par \"if\", on utilise plutôt \"elif\".\n",
        "Du coup, la première instruction commencera par \n",
        "\n",
        "if.....\n",
        "\n",
        "elif ........\n",
        "\n",
        "else:\n",
        "\n",
        "(on pourra utiliser autant de \"elif\" que l'on veut, mais il ne pourra y avoir qu'un seul else (ou pas du tout) à la fin (c'est à dire lorsque aucune condition ne sera remplie)\n"
      ]
    },
    {
      "cell_type": "markdown",
      "metadata": {
        "id": "QHQAPZluAl5k"
      },
      "source": [
        "\n",
        "\n",
        "\n",
        "\n",
        "-- Reprendre le programme pour qu'il indique si c'est l'espèce A ou l'espèce B qui est en excès, ou si le mélange est stoéchiométrique"
      ]
    },
    {
      "cell_type": "code",
      "metadata": {
        "id": "AFGhtnubOPcB"
      },
      "source": [
        ""
      ],
      "execution_count": null,
      "outputs": []
    },
    {
      "cell_type": "markdown",
      "metadata": {
        "id": "xL2AqiiiNJRi"
      },
      "source": [
        "### C- Les répétitions"
      ]
    },
    {
      "cell_type": "markdown",
      "metadata": {
        "id": "Ywb8BROCNTXD"
      },
      "source": [
        "Exemple: vous avez récupéré un ensemble de valeur de vitesse, et vous voulez faire calculer et afficher la valeur de l'énergie cinétique.\n",
        "On utilisera la boucle \"for\", avec une condition.\n",
        "\n",
        "ATTENTION A L'INDENTATION.\n",
        "\n",
        "ATTENTION A LA VARIABLE DANS LA BOUCLE\n",
        "\n",
        "Tester le programme. Ajouter des valeurs dans le tableau de données de vitesse pour mieux comprendre"
      ]
    },
    {
      "cell_type": "code",
      "metadata": {
        "id": "FsS7htDvNk98"
      },
      "source": [
        "vitesse = [4, 29, 5.3, 12, 8] \n",
        "m = 3        #masse=3kg \n",
        "for v in vitesse : \n",
        "  Ec = 0.5*m*v**2\n",
        "  print(\"A la vitesse de \", v, \"m/s, l’énergie cinétique vaut\", Ec, \"J\" )\n"
      ],
      "execution_count": null,
      "outputs": []
    },
    {
      "cell_type": "markdown",
      "metadata": {
        "id": "e9RcYz5IOkdT"
      },
      "source": [
        "Ou bien:"
      ]
    },
    {
      "cell_type": "code",
      "metadata": {
        "id": "N36zcvjEOpFu"
      },
      "source": [
        "vitesse = [4, 29, 5.3, 12, 8] \n",
        "m = 3       #masse=3kg \n",
        "for i in range (0,4)  :   #i vaudra successivement 0,1,2,3\n",
        "  Ec = 0.5*m*vitesse[i]**2\n",
        "  print(\"A la vitesse de \", vitesse[i], \"m/s, l’énergie cinétique vaut\", Ec, \"J\" )\n"
      ],
      "execution_count": null,
      "outputs": []
    },
    {
      "cell_type": "markdown",
      "metadata": {
        "id": "v1GDzVKBP2OX"
      },
      "source": [
        "Voili, voilà. Ce sont les bases de Python pour le mathématicien!!\n",
        "\n",
        "\n",
        "Allez, vous devriez être en mesure maintenant d'écrire un programme permettant de calculer la vitesse d'un point. \n",
        "Objectif: vous disposez d'un ensemble de position selon l'axe des X, prises toutes les 0,3s. Vous afficherez toutes les valeurs de la vitesse que vous pourrez calculer (NOTE: attention au chiffre de votre boucle!!) (Vous appliquerez la formule mathématique:  v(i) = (x(i+1)-x(i))/0,3\n",
        "\n",
        "Allez, les champions, c'est parti!\n"
      ]
    },
    {
      "cell_type": "code",
      "metadata": {
        "id": "95X2B-u4Q8oL"
      },
      "source": [
        "x = [2, 4, 7, 11, 16, 22]"
      ],
      "execution_count": null,
      "outputs": []
    },
    {
      "cell_type": "markdown",
      "metadata": {
        "id": "77WyKScgB2ub"
      },
      "source": [
        "Encore un petit exercice.....\n",
        "\n",
        "En effet, vous avez réussi à calculer l'énegie mécanique pour chaque position. Il va falloir maintenant créer le tableau de l'énergie mécanique. (attention si Ec et Ep sont des tableaux, alors si vous faites Ec+Ep les deux tableaux ne vont pas s'ajouter position après position, mais l'une à la suite de l'autre.\n",
        "\n",
        "Voyons, en premier exemple, comment créer le tableau de Ec connaissant les valeurs de vitesse.\n",
        "Regardez le programme, et exécutez le:\n",
        "\n"
      ]
    },
    {
      "cell_type": "code",
      "metadata": {
        "id": "B-WNrzKGHRuB",
        "colab": {
          "base_uri": "https://localhost:8080/"
        },
        "outputId": "4f6da5e6-2c19-44c3-cf56-0883df40ba62"
      },
      "source": [
        "vitesse = [-1, -1.9, -2.9, -3.9, -4.9, -5.8, -6.9]\n",
        "\n",
        "m = 3.0\n",
        "Ec=[]\n",
        "for v in vitesse:\n",
        "    Ec.append(0.5*m*v**2)\n",
        "\n",
        "print (Ec)\n"
      ],
      "execution_count": null,
      "outputs": [
        {
          "output_type": "stream",
          "name": "stdout",
          "text": [
            "[1.5, 5.415, 12.615, 22.814999999999998, 36.01500000000001, 50.46, 71.415]\n"
          ]
        }
      ]
    },
    {
      "cell_type": "markdown",
      "metadata": {
        "id": "d0Wb8QiKHob-"
      },
      "source": [
        "L'écriture \"Ec=[  ]\" sert à définir que Ec sera un tableau (pour le moment vide).\n",
        "\n",
        "Sans cette définition, vous aurez un message d'erreur car Python ne peut pas savoir que Ec sera un tableau.\n",
        "\n",
        "Ensuite, vous allez remplir le tableau. Cela consiste à ajouter les unes après les autres les valeurs de l'Ec en parcourant les valeurs du tableau de vitesse. L'instruction \".append\" sert à cela.\n",
        "\n",
        "Le programme affiche bien les valeurs de l'Ec dans un tableau.\n",
        "\n",
        "\n",
        "--Exercice de première: Vous disposez d'un tableau contenant les valeurs de la position.\n",
        "Faire afficher dans un tableau les valeurs de l'Ep."
      ]
    },
    {
      "cell_type": "code",
      "metadata": {
        "id": "IYh07OlhJkkq"
      },
      "source": [
        "position_y= [8.23, 8.09, 7.85, 7.5, 7.06, 6.52, 5.89]\n",
        "masse = 3.0\n",
        "\n"
      ],
      "execution_count": null,
      "outputs": []
    },
    {
      "cell_type": "markdown",
      "metadata": {
        "id": "dTtuxahTNmsW"
      },
      "source": [
        "A vous de jouer maintenant.\n",
        "\n",
        "Récupérer vos deux tableaux d'énergie et créer le tableau d'énergie mécanique (il faudra utiliser la boucle for, et la fonction .append)\n",
        "C'est parti!!"
      ]
    },
    {
      "cell_type": "code",
      "metadata": {
        "id": "dKLoD_iqN---"
      },
      "source": [
        "#commencer par coller vos deux tableaux Ec et Ep\n"
      ],
      "execution_count": null,
      "outputs": []
    },
    {
      "cell_type": "markdown",
      "metadata": {
        "id": "432WeSdd-Sln"
      },
      "source": [
        "### D- appeler une bibliothèque ou un module\n",
        "\n",
        "Le langage Python est fourni avec des fonctions de base. Mais nous aurons parfois d'exécuter des racines carrés, des sinus, de faire des graphes, tracé des vecteurs....\n",
        "\n",
        "Il faudra alors faire appel à des bibliothèques ou modules (instructions déjà écrites par d'autres personnes de la communauté Python et partagées... ce qui nous évitera bien de les programmer ;-) )\n",
        "Ce sera le cas des fonctions sinus, cosinus par exemple.\n",
        "\n",
        "Par exemple: pour importer la fonction racine carré (sqrt) contenu dans la bibliothèque math, on écrira en tout début de programme: \n",
        "\n",
        "from math import sqrt\n",
        "\n",
        "ou pour la fonction sinus, cosinus, ou même pour le nombre  pi :\n",
        "\n",
        " from math import sin,cos,pi\n"
      ]
    },
    {
      "cell_type": "code",
      "metadata": {
        "id": "xOVJMTu9KMOc"
      },
      "source": [
        "# taper ci dessous le code permettant de faire afficher la valeur du sinus, et de la racine carré de  la variable A, lorsque A prend différentes valeurs\n",
        "\n"
      ],
      "execution_count": null,
      "outputs": []
    },
    {
      "cell_type": "markdown",
      "metadata": {
        "id": "y4ymvxlURpEA"
      },
      "source": [
        "E- Les graphes... "
      ]
    },
    {
      "cell_type": "markdown",
      "metadata": {
        "id": "c6ooiFDLSGWB"
      },
      "source": [
        "Vous connaissez l'essentiel des procédures de la programmation en Python\n",
        "Le tracé de graphe ou de vecteurs utilise les mêmes instructions.\n",
        "Simplement, nous utiliserons des bibliothèques, c'est à dire un ensemble de programme, déjà fait, qui permettront d'indiquer à Python que l'on veut tracer une courbe, ou des vecteurs.\n",
        "\n",
        "En physique, nous utiliserons le plus souvent la bibliothèque \"matplotlib\" (destinée à tracer et visualiser des données sous formes de graphiques), combinée  avec la bibliothèques python de calcul scientifique NumPy.\n",
        "\n",
        "\n",
        "\n",
        "\n",
        "La bibliothèque s'importe de la fonction suivante avant chaque programme\n",
        "\n",
        "import numpy as np\n",
        "\n",
        "import matplotlib.pyplot as plt\n",
        "\n",
        "(comprendre, lorsque vous avez besoin de la bibliothèque \"Numpy\", on écrirera \"np\" devant l'instruction .\n",
        "Et lorsque vous avez besoin de la bibliothèque \"matplotlib\", on écrirera \"plt\" devant l'instruction.\n"
      ]
    },
    {
      "cell_type": "markdown",
      "metadata": {
        "id": "Jq7g9VX9T72Q"
      },
      "source": [
        "Quelques manip pour comprendre"
      ]
    },
    {
      "cell_type": "code",
      "metadata": {
        "id": "093aRbcR3QMi"
      },
      "source": [
        "import numpy as np\n",
        "import matplotlib.pyplot as plt\n",
        "\n",
        "#Positions du point M\n",
        "\n",
        "x=[0, 10.4, 20.9, 31.3, 41.7, 52.1, 62.5]\n",
        "y=[1.10, 1.10, 1.10, 1.10, 1.10, 1.10, 1.10]\n",
        "\n",
        "#Tracé de la chronophotographie\n",
        "\n",
        "plt.plot(x,y,'o',markersize=4)\n",
        "\n",
        "plt.xlabel(\"x (en m)\")\n",
        "plt.ylabel(\"y (en m)\")\n",
        "plt.title(\"Chronophotographie du mouvement\")\n",
        "plt.show()"
      ],
      "execution_count": null,
      "outputs": []
    },
    {
      "cell_type": "markdown",
      "metadata": {
        "id": "8bgQFGzmQh50"
      },
      "source": [
        ""
      ]
    },
    {
      "cell_type": "markdown",
      "metadata": {
        "id": "X577SMZXCmta"
      },
      "source": [
        "Dans un premier, amusez-vous à changer les points. Par exemple, modifier le programme ci dessous et faire apparaître une tractoire rectiligne suivant l'axe des y."
      ]
    },
    {
      "cell_type": "markdown",
      "metadata": {
        "id": "NCt1JBHn6f2J"
      },
      "source": [
        "Vous avez toutes la liberté de choisir \n",
        "\n",
        "- la couleur (il suffit d'ajouter la première lettre de la couleur devant le signe (b: blue, g: green, r: red, y: yellow)(regarder ci dessous l'écriture)\n",
        "\n",
        "- la forme du signe: vous pouvez remplacer le \"o\", par \"x\" ou \"+\", ou bien \"v\", \"<\"...\n",
        "\n",
        "- l'épaisseur avec \"markersize\"\n",
        "\n",
        "\n",
        "Modifiez le programme ci dessous et amusez-vous à changer la couleur, la forme et l'épaisseur."
      ]
    },
    {
      "cell_type": "code",
      "metadata": {
        "id": "Ww7HFbjm5lse"
      },
      "source": [
        "import numpy as np\n",
        "import matplotlib.pyplot as plt\n",
        "\n",
        "#Positions du point M\n",
        "\n",
        "x=[0, 10.4, 20.9, 31.3, 41.7, 52.1, 62.5]\n",
        "y=[1.10, 1.10, 1.10, 1.10, 1.10, 1.10, 1.10]\n",
        "\n",
        "#Tracé de la chronophotographie\n",
        "\n",
        "plt.plot(x,y,'b:o',markersize=10)\n",
        "\n",
        "plt.xlabel(\"x (en m)\")\n",
        "plt.ylabel(\"y (en m)\")\n",
        "plt.title(\"Chronophotographie du mouvement\")\n",
        "plt.show()"
      ],
      "execution_count": null,
      "outputs": []
    },
    {
      "cell_type": "markdown",
      "metadata": {
        "id": "st2WNK-CPy1Z"
      },
      "source": [
        "A vous de jouer: créer le graphe de la variation de l'énergie mécanique (fin du paragraphe B) en fonction du temps."
      ]
    },
    {
      "cell_type": "code",
      "metadata": {
        "id": "nS8yAEW5QFAs"
      },
      "source": [
        "#Trace de l'énergie mécanique en fonction du temps\n",
        "t=[0,1,2,3,4,5,6]\n"
      ],
      "execution_count": null,
      "outputs": []
    },
    {
      "cell_type": "markdown",
      "metadata": {
        "id": "Gkxb27yr33KT"
      },
      "source": [
        "### F- Les vecteurs"
      ]
    },
    {
      "cell_type": "markdown",
      "metadata": {
        "id": "RjT8l1a782rd"
      },
      "source": [
        "Pas de difficultés majeures à ce sujet.\n",
        "Nous importerons la même bibliothèque, mais au lieu d'appeler la fonction plt.plot, nous appellerons la fonction plt.quiver.\n",
        "\n",
        "Il faut alors la paramétrer simplement de la façon suivante:\n",
        "\n",
        "plt.quiver(origine du vecteur en x, origine du vecteur en y , norme du vecteur en x, norme du vecteur en y, color = , échelle du vecteur, le nom du plan)\n",
        "\n",
        "Manipuler l'exemple ci dessous, et déplacer la flèche sur un autre point, agrandisser là, changer sa couleur. (la norme en x du vecteur est de 0.05, et en y: 0.05)\n",
        "\n",
        "\n",
        "Si vous voulez agrandir la flèche choisissez une valeur de scale inférieure à un. Si vous souhaitez rétrécir la flèche, choisissez une valeur de scale supérieure à 1."
      ]
    },
    {
      "cell_type": "code",
      "metadata": {
        "id": "Tw89XKxQBtC8"
      },
      "source": [
        "import numpy as np\n",
        "import matplotlib.pyplot as plt\n",
        "\n",
        "#Positions du point M\n",
        "posx=[0, 0, 0, 0, 0, 0, 0]\n",
        "posy=[0, 10.4, 20.9, 31.3, 41.7, 52.1, 62.5]\n",
        "\n",
        "#Trace de la chronophotographie\n",
        "plt.plot(posx,posy,'o',markersize=4)\n",
        "plt.xlabel(\"x (en m)\")\n",
        "plt.ylabel(\"y (en m)\")\n",
        "plt.title(\"Chronophotographie du mouvement\")\n",
        "\n",
        "plt.quiver(0,20.9,0.05,0.05, color=\"red\",scale=1,scale_units='xy')\n",
        "\n",
        "\n",
        "#Affichage\n",
        "plt.show()\n"
      ],
      "execution_count": null,
      "outputs": []
    },
    {
      "cell_type": "markdown",
      "metadata": {
        "id": "94GQqc-KTAz0"
      },
      "source": [
        "Pas de difficultés importantes pour tracer des vecteurs. Reste à bien comprender la physique et à tracer les bons vecteurs.\n",
        "Faisons un dernier exercice de première: « Représenter des vecteurs vitesse d’un système modélisé par un point lors d’un mouvement à l’aide d’un langage de programmation. »\n",
        "\n",
        "Reprendre les valeurs de x et y de l’exemple précédent puis tracer tous les vecteurs vitesse. Pour cela, vous pouvez calculer les listes de vitesse selon x et y (avec delta_t = 1s ) ou bien prendre les valeurs suivantes qui ont déjà été calculées : Vx = [0,0,0,0,0,0,0] et Vy = [10.4,10.4,10.4,10.4,10.4,10.4,10.4]\n",
        "Pour information, vous aurez besoin d’une boucle for pour tracer tous les vecteurs.\n",
        "\n"
      ]
    },
    {
      "cell_type": "code",
      "metadata": {
        "id": "tfbTHnf6X4DP"
      },
      "source": [
        "#tracé de tous les vecteurs vitesse\n",
        "import numpy as np\n",
        "import matplotlib.pyplot as plt\n",
        "\n"
      ],
      "execution_count": null,
      "outputs": []
    }
  ]
}