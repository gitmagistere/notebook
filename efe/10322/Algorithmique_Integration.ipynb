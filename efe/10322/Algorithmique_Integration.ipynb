{
  "nbformat": 4,
  "nbformat_minor": 0,
  "metadata": {
    "colab": {
      "provenance": []
    },
    "kernelspec": {
      "name": "python3",
      "display_name": "Python 3"
    },
    "language_info": {
      "name": "python"
    }
  },
  "cells": [
    {
      "cell_type": "code",
      "execution_count": 3,
      "metadata": {
        "id": "wl4FNFAFrJw2"
      },
      "outputs": [],
      "source": [
        "from math import *\n",
        "def f(x):\n",
        "  return log(x)"
      ]
    },
    {
      "cell_type": "code",
      "source": [
        "print('f(2)=',f(2))"
      ],
      "metadata": {
        "id": "pN0rDUQW3Vuw"
      },
      "execution_count": null,
      "outputs": []
    },
    {
      "cell_type": "code",
      "source": [
        "def rectangle(x,L):\n",
        "  return L*f(x)"
      ],
      "metadata": {
        "id": "yPd3he173C75"
      },
      "execution_count": 5,
      "outputs": []
    },
    {
      "cell_type": "code",
      "source": [
        "print('rectangle(2,1)=',rectangle(2,1))"
      ],
      "metadata": {
        "id": "mIPnutnW3bfE"
      },
      "execution_count": null,
      "outputs": []
    },
    {
      "cell_type": "code",
      "source": [
        "def integ1(a,b,n):\n",
        "  h=...\n",
        "  s=0\n",
        "  for i in range(n):\n",
        "    s=s+...\n",
        "    a=a+h\n",
        "  return s"
      ],
      "metadata": {
        "id": "zVpMmuLa3xWu"
      },
      "execution_count": 7,
      "outputs": []
    },
    {
      "cell_type": "code",
      "source": [
        "print('somme des aires bleues',integ1(2,6,4))"
      ],
      "metadata": {
        "id": "aqj_Glz34QZY"
      },
      "execution_count": null,
      "outputs": []
    },
    {
      "cell_type": "code",
      "source": [
        "def integ2(a,b,n):\n",
        "  h=...\n",
        "  s=0\n",
        "  for i in range(n):\n",
        "    s=s+...\n",
        "    a=a+h\n",
        "  return s"
      ],
      "metadata": {
        "id": "uqZRz0AS4oy9"
      },
      "execution_count": null,
      "outputs": []
    },
    {
      "cell_type": "code",
      "source": [
        "print(integ1(2,6,…))'< intégrale <',integ2(2,6,…))"
      ],
      "metadata": {
        "id": "HrhklkNn49Jy"
      },
      "execution_count": null,
      "outputs": []
    }
  ]
}