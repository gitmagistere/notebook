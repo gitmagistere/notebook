{
 "cells": [
  {
   "cell_type": "code",
   "execution_count": null,
   "id": "7b83d87c",
   "metadata": {},
   "outputs": [],
   "source": [
    "\n",
    "# Cellule 1 : Définition de la fonction perimetre_rectangle\n",
    "def perimetre_rectangle(l, L):\n",
    "    \"\"\"\n",
    "    Fonction qui calcule le périmètre d'un rectangle de largeur l et de longueur L.\n",
    "    :param l: Largeur du rectangle\n",
    "    :param L: Longueur du rectangle\n",
    "    :return: Périmètre du rectangle\n",
    "    \"\"\"\n",
    "    P = 2 * l + 2 * L\n",
    "    return P\n",
    "\n",
    "# Exemple d'appel de la fonction\n",
    "print(perimetre_rectangle(3, 5))  # Résultat attendu : 16\n",
    "    "
   ]
  },
  {
   "cell_type": "code",
   "execution_count": null,
   "id": "04fc9cda",
   "metadata": {},
   "outputs": [],
   "source": [
    "\n",
    "# Cellule 2 : Appel de la fonction perimetre_rectangle avec des arguments\n",
    "print(perimetre_rectangle(4, 7))  # Résultat attendu : 22\n",
    "    "
   ]
  },
  {
   "cell_type": "code",
   "execution_count": null,
   "id": "03a22b7d",
   "metadata": {},
   "outputs": [],
   "source": [
    "\n",
    "# Cellule 3 : Définition de la fonction produits\n",
    "def produits(a, b, c):\n",
    "    \"\"\"\n",
    "    Fonction qui prend trois nombres et retourne le produit du premier et du troisième,\n",
    "    ainsi que le produit du second et du troisième.\n",
    "    :param a: Premier nombre\n",
    "    :param b: Second nombre\n",
    "    :param c: Troisième nombre\n",
    "    :return: Tuple contenant (a * c, b * c)\n",
    "    \"\"\"\n",
    "    return (a * c, b * c)\n",
    "\n",
    "# Exemple d'appel de la fonction\n",
    "print(produits(2, 3, 4))  # Résultat attendu : (8, 12)\n",
    "    "
   ]
  },
  {
   "cell_type": "code",
   "execution_count": null,
   "id": "8adcaf48",
   "metadata": {},
   "outputs": [],
   "source": [
    "\n",
    "# Cellule 4 : Importation de la bibliothèque mathématique\n",
    "from math import *\n",
    "\n",
    "# Exemple d'utilisation de pi dans un calcul\n",
    "rayon = 5\n",
    "aire_cercle = pi * rayon**2\n",
    "print(\"Aire du cercle de rayon 5 :\", round(aire_cercle, 2))  # Résultat attendu : 78.54\n",
    "    "
   ]
  },
  {
   "cell_type": "code",
   "execution_count": null,
   "id": "dc677366",
   "metadata": {},
   "outputs": [],
   "source": [
    "\n",
    "# Cellule 5 : Exemple de l'utilisation de round\n",
    "resultat = round(2/3, 3)\n",
    "print(\"2/3 arrondi à trois décimales :\", resultat)  # Résultat attendu : 0.667\n",
    "    "
   ]
  }
 ],
 "metadata": {},
 "nbformat": 4,
 "nbformat_minor": 5
}
