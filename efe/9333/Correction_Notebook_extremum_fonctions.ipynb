{
  "nbformat": 4,
  "nbformat_minor": 0,
  "metadata": {
    "colab": {
      "provenance": []
    },
    "kernelspec": {
      "name": "python3",
      "display_name": "Python 3"
    },
    "language_info": {
      "name": "python"
    }
  },
  "cells": [
    {
      "cell_type": "code",
      "execution_count": null,
      "metadata": {
        "id": "4vafsJYYQpbu"
      },
      "outputs": [],
      "source": [
        "def f(x):\n",
        "    return (4*x**3-20*x**2+25*x)\n",
        "\n",
        "def Max(f,a,b,n):\n",
        "    p=(b-a)/n\n",
        "    x=a\n",
        "    max=f(x)\n",
        "    xmax=x\n",
        "    for i in range(n):\n",
        "        x=x+p\n",
        "        y=f(x)\n",
        "        if y>max :\n",
        "            max=y\n",
        "            xmax=x\n",
        "    return(xmax,max)"
      ]
    }
  ]
}