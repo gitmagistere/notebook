{
  "nbformat": 4,
  "nbformat_minor": 0,
  "metadata": {
    "colab": {
      "provenance": []
    },
    "kernelspec": {
      "name": "python3",
      "display_name": "Python 3"
    },
    "language_info": {
      "name": "python"
    }
  },
  "cells": [
    {
      "cell_type": "markdown",
      "source": [
        "# Programme Python simulant la génération de points aléatoires et renvoyant une approximation du nombre $\\pi$"
      ],
      "metadata": {
        "id": "jwuPKzlm6Dqy"
      }
    },
    {
      "cell_type": "markdown",
      "source": [
        "**1)** Compléter le programme ci-dessous"
      ],
      "metadata": {
        "id": "nlnEoQ5V7HtW"
      }
    },
    {
      "cell_type": "code",
      "execution_count": 1,
      "metadata": {
        "id": "qdDdXVPl4pzl"
      },
      "outputs": [],
      "source": [
        "from random import*\n",
        "\n",
        "def monte_carlo(n) :\n",
        "    compteur=\n",
        "    for i in range(N):\n",
        "        x=\n",
        "        y=\n",
        "        if x**2+y**2<1:\n",
        "            compteur=\n",
        "    frequence=\n",
        "    return()\n"
      ]
    },
    {
      "cell_type": "markdown",
      "source": [
        "**2)** Tester votre programme dans la ligne de code ci-dessous"
      ],
      "metadata": {
        "id": "80nkFm4j7NIh"
      }
    },
    {
      "cell_type": "code",
      "source": [],
      "metadata": {
        "id": "tEVdiQLl7UZF"
      },
      "execution_count": null,
      "outputs": []
    }
  ]
}