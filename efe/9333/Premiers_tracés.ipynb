{
  "nbformat": 4,
  "nbformat_minor": 0,
  "metadata": {
    "colab": {
      "provenance": []
    },
    "kernelspec": {
      "name": "python3",
      "display_name": "Python 3"
    },
    "language_info": {
      "name": "python"
    }
  },
  "cells": [
    {
      "cell_type": "markdown",
      "source": [
        "# Partie 1 : Tracer la courbe de la fonction carrée sur [-3 ; 3]"
      ],
      "metadata": {
        "id": "aBvo6JVA9PKD"
      }
    },
    {
      "cell_type": "markdown",
      "source": [
        "Nous allons tracer la courbe de la fonction carrée sur [-3 ; 3]."
      ],
      "metadata": {
        "id": "41EFLN_m8vTw"
      }
    },
    {
      "cell_type": "code",
      "execution_count": null,
      "metadata": {
        "id": "68ZKu1ZI8oR8"
      },
      "outputs": [],
      "source": [
        "import matplotlib.pyplot as plt\n",
        "# Cette commande permet d'importer le module de tracé de la bibliothèque matplotlib\n",
        "# L'instruction plt permettra d'appeler de manière \"abrégée\" les fonctions du module matplotlib.pyplot"
      ]
    },
    {
      "cell_type": "code",
      "source": [
        "import numpy as np\n",
        "# Cette commande permet d'importer la bibliothèque numpy et notamment manipuler les vecteurs\n",
        "# L'instruction np permettra d'appeler de manière \"abrégée\" les fonctions du module numpy"
      ],
      "metadata": {
        "id": "HwWbWvuC-MAY"
      },
      "execution_count": null,
      "outputs": []
    },
    {
      "cell_type": "markdown",
      "source": [
        "On définit les valeurs de départ, qui figureront sur l'axe des abscisses.\n",
        "Ici on veut afficher 10 valeurs régulièrement réparties entre -3 et 3.\n",
        "On utilise pour cela la syntaxe : `np.linspace(départ,fin,nombre de valeurs)`"
      ],
      "metadata": {
        "id": "QUkIFryNAuF1"
      }
    },
    {
      "cell_type": "code",
      "source": [
        "x=np.linspace(-3,3,10)\n",
        "print(x)"
      ],
      "metadata": {
        "id": "2_XlJSXJBRiH"
      },
      "execution_count": null,
      "outputs": []
    },
    {
      "cell_type": "markdown",
      "source": [
        "Il faut maintenant définir les images, les carrés du vecteur x."
      ],
      "metadata": {
        "id": "iFwg28EGCfAD"
      }
    },
    {
      "cell_type": "code",
      "source": [
        "y=x**2\n",
        "print(y)"
      ],
      "metadata": {
        "id": "0JQcOQrACOu2"
      },
      "execution_count": null,
      "outputs": []
    },
    {
      "cell_type": "markdown",
      "source": [
        "On peut maintenant tracer et afficher le graphe en utilisant les commandes : `plt.plot et plt.show()`"
      ],
      "metadata": {
        "id": "bhD3h167DKpg"
      }
    },
    {
      "cell_type": "code",
      "source": [
        "plt.plot(x,y,'r')\n",
        "# 'r' correspond à la couleur (ici rouge) de la courbe\n",
        "plt.show()\n"
      ],
      "metadata": {
        "id": "8qlxgw8oEhJ4"
      },
      "execution_count": null,
      "outputs": []
    },
    {
      "cell_type": "markdown",
      "source": [
        "# Partie 2 : Affiner son tracé\n"
      ],
      "metadata": {
        "id": "8RKnCdInE8vM"
      }
    },
    {
      "cell_type": "markdown",
      "source": [
        "Modifier les scripts précédents pour afficher plus de points (100 par exemple).\n"
      ],
      "metadata": {
        "id": "Do_iNGdDFij_"
      }
    },
    {
      "cell_type": "markdown",
      "source": [
        "#Partie 3 : Ajouter une autre courbe"
      ],
      "metadata": {
        "id": "4PwUeR38GG4C"
      }
    },
    {
      "cell_type": "markdown",
      "source": [
        "On veut afficher sur le même graphique la courbe de la fonction cubique.\n",
        "\n",
        "Créer pour cela un nouveau vecteur y2 correspondant au cube des valeurs du vecteur x.\n",
        "\n",
        "Puis utiliser deux fois la commande plt.plot (une première fois pour tracer la courbe de y en fonction de x et une seconde fois pour tracer la courbe de y2 en fonction de x)\n",
        "\n",
        "On pourra choisir une autre couleur pour la courbe de la fonction cube en utilisant l'intruction `'b'` dans `plt.plot`"
      ],
      "metadata": {
        "id": "q95_yy9mGjhb"
      }
    },
    {
      "cell_type": "code",
      "source": [],
      "metadata": {
        "id": "tHGHHeqZL4R3"
      },
      "execution_count": null,
      "outputs": []
    },
    {
      "cell_type": "markdown",
      "source": [
        "Vous pouvez améliorer l'aspect de votre graphique précédent en affichant une grille grâce à l'instruction `plt.grid()`\n",
        "\n",
        "On peut également légender les courbes en utilisant dans les instructions `plt.plot` la commande `label=' '`.\n",
        "Ce qui donne par exemple pour la courbe de la fonction carrée : `plt.plot(x,y,'r',label='fonction carrée')`\n",
        "Il faudra alors terminer par l'instruction `plt.legend()` pour afficher les légendes.\n",
        "\n",
        "\n"
      ],
      "metadata": {
        "id": "OBz9KRmVL5Iq"
      }
    }
  ]
}