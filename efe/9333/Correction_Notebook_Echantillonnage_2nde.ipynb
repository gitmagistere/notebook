{
  "cells": [
    {
      "metadata": {
        "id": "gOJ8Kmv4Nzn2"
      },
      "cell_type": "markdown",
      "source": [
        "# 1. Simulation d'un échantillon et loi des grands nombres"
      ]
    },
    {
      "metadata": {
        "id": "umGmLRexNzn5"
      },
      "cell_type": "raw",
      "source": [
        "Pour cette simulation, on va utiliser le module random et la fonction randintdu module random : random.randint(1,6) renvoie un entier pseudo-aléatoire entre 1 et 6.\n",
        "\n",
        "La fonction echantillon permet de renvoyer la fréquence d'apparition de la somme 7 pour un échantillon de taille n lancers."
      ]
    },
    {
      "metadata": {
        "id": "Rd1saP-PNzn6"
      },
      "cell_type": "raw",
      "source": [
        "1. Compléter le programme ci-dessous"
      ]
    },
    {
      "metadata": {
        "trusted": true,
        "id": "cX6bIRBdNzn6"
      },
      "cell_type": "code",
      "source": [
        "from random import*\n",
        "\n",
        "def echantillon(n):\n",
        "    compteur=0\n",
        "#la variable compteur compte le nombre de fois que la somme des faces vaut 7\n",
        "    for i in range(n):\n",
        "        de1=randint(1,6)\n",
        "        de2=randint(1,6)\n",
        "        somme=de1+de2\n",
        "        if somme==7:\n",
        "            compteur=compteur+1\n",
        "    frequence=compteur/n\n",
        "    return(frequence)\n",
        ""
      ],
      "execution_count": null,
      "outputs": []
    },
    {
      "metadata": {
        "id": "e68q6Rx5Nzn7"
      },
      "cell_type": "raw",
      "source": [
        "2. Tester dans la cellule ci-dessous le programme avec différentes valeurs de n"
      ]
    },
    {
      "metadata": {
        "trusted": true,
        "id": "1d_3H90INzn8"
      },
      "cell_type": "code",
      "source": [],
      "execution_count": null,
      "outputs": []
    },
    {
      "metadata": {
        "id": "kug4gNTBNzn8"
      },
      "cell_type": "markdown",
      "source": [
        "## Stabilisation des fréquences autour de la probabilité théorique"
      ]
    },
    {
      "metadata": {
        "id": "nFcEubGgNzn9"
      },
      "cell_type": "markdown",
      "source": [
        "On veut représenter graphiquement la fluctuation des fréquences autour de la probabilité théorique $p=\\frac{1}{6}$\n",
        "\n",
        "On va pour cela créer une fonction graphique qui créera dans un premier temps une liste \"frequences\" stockant au fur et à mesure les différentes fréquences."
      ]
    },
    {
      "metadata": {
        "trusted": true,
        "id": "nTMcuMGKNzn9"
      },
      "cell_type": "code",
      "source": [
        "import matplotlib.pyplot as plt\n",
        "\n",
        "def graphique (n):\n",
        "    frequences=[]\n",
        "    for i in range(1,n+1):\n",
        "        frequences.append(echantillon(i))\n",
        "    NombreLancers=[i for i in range(1,n+1)]\n",
        "    p=[1/6 for i in range(1,n+1)]\n",
        "    plt.clf()\n",
        "    # l'instruction plt.clf() permet d'effacer les tracés précédents\n",
        "    plt.scatter(NombreLancers,frequences,marker='+')\n",
        "    plt.plot(NombreLancers,p,'k')\n",
        "    plt.show()"
      ],
      "execution_count": null,
      "outputs": []
    },
    {
      "metadata": {
        "id": "WWnyC-jeNzn-"
      },
      "cell_type": "raw",
      "source": [
        "3. Tester dans la cellule ci-dessous le programme avec différentes valeurs de n"
      ]
    },
    {
      "metadata": {
        "id": "Dfp2iqi0Nzn-"
      },
      "cell_type": "markdown",
      "source": [
        "# 2. Fluctuation d'échantillonnage"
      ]
    },
    {
      "metadata": {
        "id": "skRklYLqNzn_"
      },
      "cell_type": "markdown",
      "source": [
        "Le programme de mathématiques invite à observer avec quelle probabilité la fréquence 𝑓 se retrouve dans l’intervalle de fluctuation $[𝑝 − \\frac{1}{\\sqrt{n}}, 𝑝 + \\frac{1}{\\sqrt{n}} ]$."
      ]
    },
    {
      "metadata": {
        "trusted": true,
        "id": "dBi2CbNrNzn_"
      },
      "cell_type": "code",
      "source": [
        "from math import*\n",
        "\n",
        "def fluctuation(n,NbEchantillons):\n",
        "    a=1/6-1/sqrt(n)\n",
        "    b=1/6+1/sqrt(n)\n",
        "    frequences=[]\n",
        "    for i in range(NbEchantillons):\n",
        "        frequences.append(echantillon(n))\n",
        "    N=[i for i in range(1,NbEchantillons+1)]\n",
        "    p=[1/6 for i in range(1,NbEchantillons+1)]\n",
        "    borne1=[a for i in range(1,NbEchantillons+1)]\n",
        "    borne2=[b for i in range(1,NbEchantillons+1)]\n",
        "    plt.clf()\n",
        "    plt.scatter(N,frequences,marker='+')\n",
        "    plt.plot(N,p,'k')\n",
        "    plt.plot(N,borne1,'r')\n",
        "    plt.plot(N,borne2,'r')\n",
        "    plt.show()"
      ],
      "execution_count": null,
      "outputs": []
    },
    {
      "cell_type": "code",
      "source": [],
      "metadata": {
        "id": "DIz_UNaSOTqR"
      },
      "execution_count": null,
      "outputs": []
    }
  ],
  "metadata": {
    "kernelspec": {
      "name": "python3",
      "display_name": "Python 3",
      "language": "python"
    },
    "colab": {
      "provenance": []
    }
  },
  "nbformat": 4,
  "nbformat_minor": 0
}