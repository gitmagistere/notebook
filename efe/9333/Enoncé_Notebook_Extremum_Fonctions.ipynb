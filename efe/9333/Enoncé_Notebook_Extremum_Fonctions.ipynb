{
  "nbformat": 4,
  "nbformat_minor": 0,
  "metadata": {
    "colab": {
      "provenance": []
    },
    "kernelspec": {
      "name": "python3",
      "display_name": "Python 3"
    },
    "language_info": {
      "name": "python"
    }
  },
  "cells": [
    {
      "cell_type": "markdown",
      "source": [
        "Compléter le code ci-dessous"
      ],
      "metadata": {
        "id": "O_0KMfr1RVI2"
      }
    },
    {
      "cell_type": "code",
      "execution_count": null,
      "metadata": {
        "id": "4vafsJYYQpbu"
      },
      "outputs": [],
      "source": [
        "def f(x):\n",
        "    return (.....)\n",
        "\n",
        "def Max(f,a,b,n):\n",
        "    p=......\n",
        "    #p désigne le pas\n",
        "    x=a\n",
        "    max=...\n",
        "    xmax=.....\n",
        "    for i in range(n):\n",
        "        x=.....\n",
        "        y=.....\n",
        "        if y>max :\n",
        "            max=.....\n",
        "            xmax=.....\n",
        "    return(xmax,max)"
      ]
    }
  ]
}