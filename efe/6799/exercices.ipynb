{
  "nbformat": 4,
  "nbformat_minor": 0,
  "metadata": {
    "colab": {
      "name": "exercices.ipynb",
      "provenance": []
    },
    "kernelspec": {
      "name": "python3",
      "display_name": "Python 3"
    },
    "language_info": {
      "name": "python"
    }
  },
  "cells": [
    {
      "cell_type": "markdown",
      "source": [
        "**Exercice 1:** <br>\n",
        "un magasin de reprographie pratique les tarifs suivants:<br>\n",
        "$\\star \\,$ 0,15 euro l'unité jusqu'à 50 photocopies, <br>\n",
        "$\\star \\,$ 0,10 euro au-delà. <br>\n",
        "Définir une fonction prix qui prend en paramètre le nombre n de photocopies et renvoie le prix à payer. "
      ],
      "metadata": {
        "id": "z1k8yQM2EEmP"
      }
    },
    {
      "cell_type": "code",
      "source": [
        ""
      ],
      "metadata": {
        "id": "DQzX5manEObu"
      },
      "execution_count": null,
      "outputs": []
    },
    {
      "cell_type": "markdown",
      "source": [
        "**Exercice 2:**<br> \n",
        "En mathématiques la factorielle d'un entier n désigne le produit <br>$n(n-1)(n-2)\\,...\\,2\\times 1$ Ainsi factorielle de 3 vaut $3\\times2\\times1 = 6$.<br> Tester puis, corriger la fonction factorielle erronée ci-dessous."
      ],
      "metadata": {
        "id": "R4QoYBptGp_e"
      }
    },
    {
      "cell_type": "code",
      "execution_count": null,
      "metadata": {
        "id": "ctxxXP_iCtRM"
      },
      "outputs": [],
      "source": [
        "def factorielle(n):\n",
        "    resultat = 1\n",
        "    for i in range(n):\n",
        "        resultat = resultat * i\n",
        "    return resultat"
      ]
    },
    {
      "cell_type": "code",
      "source": [
        "factorielle(10)"
      ],
      "metadata": {
        "colab": {
          "base_uri": "https://localhost:8080/"
        },
        "id": "FLtEN13-KwSc",
        "outputId": "4531176a-83e5-454a-fecf-42ef5ad2dcfa"
      },
      "execution_count": null,
      "outputs": [
        {
          "output_type": "execute_result",
          "data": {
            "text/plain": [
              "0"
            ]
          },
          "metadata": {},
          "execution_count": 2
        }
      ]
    },
    {
      "cell_type": "markdown",
      "source": [
        "**Exercice 3:** <br>Écrire une fonction renvoyant la première valeur de l'entier <br>$k$ à partir de laquelle $3^k > 10 000$."
      ],
      "metadata": {
        "id": "-lTwt2GHECuj"
      }
    },
    {
      "cell_type": "code",
      "source": [
        ""
      ],
      "metadata": {
        "id": "Gd3w6n3zECTE"
      },
      "execution_count": null,
      "outputs": []
    },
    {
      "cell_type": "markdown",
      "source": [
        "**Exercice 4:** <br> pour un individu l'imc est le quotien de la masse en kg par la taille en mètre au carré.<br> Ecrire une fonction qui renvoie :<br> - masse normale si l'imc < 25 <br> - en surpoids pour un imc entre 25 et 30 exclu.<br> - obésité pour un imc > 30"
      ],
      "metadata": {
        "id": "-Vmin5A7HFSY"
      }
    },
    {
      "cell_type": "code",
      "source": [
        ""
      ],
      "metadata": {
        "id": "yGN2U3VtL6xh"
      },
      "execution_count": null,
      "outputs": []
    },
    {
      "cell_type": "markdown",
      "source": [
        "**Exercice 5:** <br> Completer le programme ci-dessous pour qu'il simule le lancer <br> d'un dé jusqu'à l'obtention d'un résultat supérieur à 4. <br> Le programme doit renvoyer le nombre de lancers nécessaires."
      ],
      "metadata": {
        "id": "fJaTBlpBL7Nj"
      }
    },
    {
      "cell_type": "code",
      "source": [
        "from random import randint         \n",
        "\n",
        "def attente():\n",
        "\tcompteur = 0          # compteur du nombre d'itérations           \n",
        "\td = 0                 # on initialise la variable d\n",
        "\n",
        "  \n",
        "\n",
        "\treturn \"le 4 est sorti au bout de:\", compteur, \"lancers\""
      ],
      "metadata": {
        "id": "YqtyU-MjfESz"
      },
      "execution_count": null,
      "outputs": []
    }
  ]
}