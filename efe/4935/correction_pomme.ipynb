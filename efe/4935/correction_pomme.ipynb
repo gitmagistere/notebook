{
  "nbformat": 4,
  "nbformat_minor": 0,
  "metadata": {
    "colab": {
      "name": "correction pomme.ipynb",
      "provenance": [],
      "toc_visible": true
    },
    "kernelspec": {
      "name": "python3",
      "display_name": "Python 3"
    }
  },
  "cells": [
    {
      "cell_type": "markdown",
      "metadata": {
        "id": "S2CBeogbm6NK"
      },
      "source": [
        "## **Activité 1**"
      ]
    },
    {
      "cell_type": "code",
      "metadata": {
        "id": "G7I6651Im8U2",
        "colab": {
          "base_uri": "https://localhost:8080/"
        },
        "outputId": "db370052-c74c-4a89-b230-43c436d207ee"
      },
      "source": [
        "from PIL import Image\n",
        "img = Image.open(\"pomme.jpg\")\n",
        "r,v,b=img.getpixel((10,10))\n",
        "print(\"rouge : \",r,\"vert :\",v,\"bleu : \",b)"
      ],
      "execution_count": null,
      "outputs": [
        {
          "output_type": "stream",
          "text": [
            "rouge :  255 vert : 255 bleu :  255\n"
          ],
          "name": "stdout"
        }
      ]
    },
    {
      "cell_type": "markdown",
      "metadata": {
        "id": "VWz6FWcOoRwu"
      },
      "source": [
        "## **Activité 2**"
      ]
    },
    {
      "cell_type": "code",
      "metadata": {
        "id": "D722bKOfoT7n"
      },
      "source": [
        "from PIL import Image \n",
        "img = Image.open(\"pomme.jpg\")  \n",
        "img.putpixel((250,250),(0,0,255))  \n",
        "img.save(\"pommepixelb.bmp\")"
      ],
      "execution_count": null,
      "outputs": []
    },
    {
      "cell_type": "markdown",
      "metadata": {
        "id": "HAkbtjUi2KWs"
      },
      "source": [
        "### **Activité 4**"
      ]
    },
    {
      "cell_type": "code",
      "metadata": {
        "id": "YKjq-SepwmlS"
      },
      "source": [
        "from PIL import Image\n",
        "img = Image.open(\"pomme.jpg\")\n",
        "largeur_image=500\n",
        "hauteur_image=500\n",
        "for y in range(hauteur_image):\n",
        "  for x in range(largeur_image):\n",
        "    r,v,b=img.getpixel((x,y))\n",
        "    n_r=v\n",
        "    n_v=b\n",
        "    n_b=r\n",
        "    img.putpixel((x,y),(n_r,n_v,n_b))\n",
        "img.save(\"pommeviolet.bmp\")"
      ],
      "execution_count": null,
      "outputs": []
    },
    {
      "cell_type": "markdown",
      "metadata": {
        "id": "OI33ogvDkjJK"
      },
      "source": [
        "# **Activité 5**"
      ]
    },
    {
      "cell_type": "code",
      "metadata": {
        "id": "zAaoOHkCxFYy"
      },
      "source": [
        "from PIL import Image \n",
        "img = Image.open(\"pomme.jpg\") \n",
        "largeur_image=500 \n",
        "hauteur_image=500 \n",
        "for y in range(hauteur_image):\n",
        "    for x in range(largeur_image):\n",
        "        r,v,b=img.getpixel((x,y))\n",
        "        n_r=255-r         \n",
        "        n_v=255-v        \n",
        "        n_b=255-b        \n",
        "        img.putpixel((x,y),(n_r,n_v,n_b)) \n",
        "img.save(\"pommenegatif.bmp\")"
      ],
      "execution_count": null,
      "outputs": []
    },
    {
      "cell_type": "code",
      "metadata": {
        "id": "ewyqVGN9xard"
      },
      "source": [
        "from PIL import Image \n",
        "img = Image.open(\"pomme.jpg\") \n",
        "largeur_image=500 \n",
        "hauteur_image=500 \n",
        "for y in range(hauteur_image):\n",
        "    for x in range(largeur_image):\n",
        "        r,v,b=img.getpixel((x,y))\n",
        "        n_r=(r+v+b)//3         \n",
        "        n_v=(r+v+b)//3        \n",
        "        n_b=(r+v+b)//3       \n",
        "        img.putpixel((x,y),(n_r,n_v,n_b)) \n",
        "img.save(\"pommen&b.bmp\")"
      ],
      "execution_count": null,
      "outputs": []
    }
  ]
}