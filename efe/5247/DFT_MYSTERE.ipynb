{
  "nbformat": 4,
  "nbformat_minor": 0,
  "metadata": {
    "colab": {
      "name": "DFT_MYSTERE.ipynb",
      "provenance": []
    },
    "kernelspec": {
      "name": "python3",
      "display_name": "Python 3"
    }
  },
  "cells": [
    {
      "cell_type": "markdown",
      "metadata": {
        "id": "GhLQNCQWlP5f"
      },
      "source": [
        "# **Identifier un son**"
      ]
    },
    {
      "cell_type": "markdown",
      "metadata": {
        "id": "BfZvhJJKLhIz"
      },
      "source": [
        "Dans cette activité, nous allons identifier deux sons à l'aide de la transformer de Fourier discrète. \n",
        "\n",
        "On commence par télécharger les fichiers \"wav\" en exécutant la cellule 1: "
      ]
    },
    {
      "cell_type": "code",
      "metadata": {
        "id": "1U11w6bNLwVl"
      },
      "source": [
        "# CELLULE 1\n",
        "\n",
        "!wget -nc http://perpendiculaire.fr/audio/mystere1.wav\n",
        "!wget -nc http://perpendiculaire.fr/audio/mystere2.wav\n",
        "\n",
        "!pip install pysoundfile"
      ],
      "execution_count": null,
      "outputs": []
    },
    {
      "cell_type": "markdown",
      "metadata": {
        "id": "e2KjjiwnqeB4"
      },
      "source": [
        "## **SON MYSTERE1**\n",
        "\n",
        "Exécuter les cellules 2, 3 puis 4:"
      ]
    },
    {
      "cell_type": "code",
      "metadata": {
        "id": "62c186rHK6Ba"
      },
      "source": [
        "# CELLULE 2\n",
        "\n",
        "import math\n",
        "import numpy as np\n",
        "import scipy.io.wavfile as wave\n",
        "from numpy.fft import fft\n",
        "\n",
        "freqech,donnees = wave.read('mystere1.wav') \n",
        "# la liste données reçoit les amplitudes du son, freqech est la fréquence d'échantillonnage\n",
        "\n",
        "n = donnees.size # nombre d'éléments dans l'échantillon"
      ],
      "execution_count": 26,
      "outputs": []
    },
    {
      "cell_type": "code",
      "metadata": {
        "id": "NnPgirCocxqc"
      },
      "source": [
        "# CELLULE 3\n",
        "\n",
        "import IPython\n",
        "IPython.display.Audio('mystere1.wav')\n",
        "\n",
        "# Lecture"
      ],
      "execution_count": null,
      "outputs": []
    },
    {
      "cell_type": "code",
      "metadata": {
        "id": "PI9_7ZkvMMn1"
      },
      "source": [
        "# CELLULE 4\n",
        "\n",
        "import matplotlib.pyplot as plt\n",
        "\n",
        "t = np.arange(n)\n",
        "plt.figure(figsize=(6,2))\n",
        "plt.plot(t,donnees)\n",
        "plt.xlabel(\"t (10 e-4 s)\")\n",
        "plt.ylabel(\"amplitude\") \n",
        "plt.axis([0,1100,donnees.min(),donnees.max()])\n",
        "plt.grid()"
      ],
      "execution_count": null,
      "outputs": []
    },
    {
      "cell_type": "markdown",
      "metadata": {
        "id": "D79676iWbChp"
      },
      "source": [
        "Quelle est la forme de se signal?\n",
        "\n",
        "**Votre réponse:**"
      ]
    },
    {
      "cell_type": "markdown",
      "metadata": {
        "id": "09-mu7m4bOUE"
      },
      "source": [
        ""
      ]
    },
    {
      "cell_type": "markdown",
      "metadata": {
        "id": "85rR12FscYSn"
      },
      "source": [
        "**Analyse fréquentielle**\n",
        "\n",
        "Exécuter les cellules 5 et 6 pour tracer le spectre\n",
        "\n"
      ]
    },
    {
      "cell_type": "code",
      "metadata": {
        "id": "U-lN9I4i_0Jv"
      },
      "source": [
        "# CELLULE 5\n",
        "\n",
        "import matplotlib.pyplot as plt\n",
        "\n",
        "def fftplot(freqech, x):\n",
        "    # les paramètres sont la fréquence d'échantillonnage et l'échantillon x\n",
        "    taille = x.size\n",
        "    X = abs(fft(x))/abs(fft(x)).max() # Modules normalisés\n",
        "    frequences = np.arange(taille)*freqech/taille\n",
        "    plt.figure(figsize=(6,2))\n",
        "    plt.plot(frequences[:taille//2], X[:taille//2])\n",
        "    plt.axis([0,2000,0,1]) # abscisses à adapter selon les données\n",
        "    plt.ylabel(\"|Xi|/max|Xi|\")\n",
        "    plt.xlabel(\"Freqences [Hz]\")\n",
        "    plt.show()"
      ],
      "execution_count": 34,
      "outputs": []
    },
    {
      "cell_type": "code",
      "metadata": {
        "id": "mWiKj5YVA_nA"
      },
      "source": [
        "# CELLULE 6\n",
        "\n",
        "fftplot(44100,donnees)"
      ],
      "execution_count": null,
      "outputs": []
    },
    {
      "cell_type": "markdown",
      "metadata": {
        "id": "fNyqsY3Tnsrc"
      },
      "source": [
        "**Identifier le son mystere1.**\n",
        "\n",
        "(Dans la cellule 5, on peut modifier l'axe des abscisses à la ligne 12 pour affiner la lecture)\n",
        "\n",
        "Votre réponse:"
      ]
    },
    {
      "cell_type": "markdown",
      "metadata": {
        "id": "KYLEVn_Lqo2F"
      },
      "source": [
        "A l'aide des deux sorties graphiques, donner l'expression de l'intensité du son en fonction du temps sous la forme: \n",
        "\n",
        "\n",
        "I(t) = A*sin(2*Pi*frequence)\n",
        "\n",
        "*(Prendre une valeur approximative pour l'amplitude ou utiliser donnees.max()dans une cellule de  code)*\n",
        "\n",
        "\n",
        "Votre réponse:"
      ]
    },
    {
      "cell_type": "markdown",
      "metadata": {
        "id": "zfeX_5pyqScJ"
      },
      "source": [
        "# **SON MYSTERE2**"
      ]
    },
    {
      "cell_type": "markdown",
      "metadata": {
        "id": "NWq-UeSOl7D_"
      },
      "source": [
        "Modifier les cellules 2 et 3 pour faire le même travail avec le son mystere2. "
      ]
    },
    {
      "cell_type": "markdown",
      "metadata": {
        "id": "Oq3M5n_VoLbx"
      },
      "source": [
        "Les touches d'un téléphone fixe émettent un son construit sur deux fréquences. \n",
        "\n",
        "Le tableau ci-dessous donne la correspondance entre les touches et les fréquences. \n",
        "\n",
        "Identifier le son mystere2. "
      ]
    },
    {
      "cell_type": "markdown",
      "metadata": {
        "id": "o__lwbJEJ07L"
      },
      "source": [
        ""
      ]
    },
    {
      "cell_type": "markdown",
      "metadata": {
        "id": "c9OxsZBIpBdU"
      },
      "source": [
        "![dtmf2.png](data:image/png;base64,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)\n",
        "\n",
        "\n"
      ]
    }
  ]
}