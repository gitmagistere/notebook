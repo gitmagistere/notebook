{
  "nbformat": 4,
  "nbformat_minor": 0,
  "metadata": {
    "colab": {
      "name": "simulationhill.ipynb",
      "provenance": [],
      "collapsed_sections": []
    },
    "kernelspec": {
      "name": "python3",
      "display_name": "Python 3"
    }
  },
  "cells": [
    {
      "cell_type": "markdown",
      "metadata": {
        "id": "GUOrqzJrPWPv"
      },
      "source": [
        "## **Partie A: simulations de 200 lancers de pile ou face**\n",
        "\n",
        "\n",
        "1. Compléter le programme ci-dessous.\n",
        "\n"
      ]
    },
    {
      "cell_type": "code",
      "metadata": {
        "id": "kUHoMW5_R1-6"
      },
      "source": [
        "from random import randint\n",
        "\n",
        "def pileface():\n",
        "  serie = \"\"\n",
        "  for i in range(200):\n",
        "    piece = .............. \n",
        "    if piece == 0:\n",
        "      serie = serie + \"F\" \n",
        "    else:\n",
        "      ...................   \n",
        "  return serie"
      ],
      "execution_count": 1,
      "outputs": []
    },
    {
      "cell_type": "markdown",
      "metadata": {
        "id": "MsL02vkxSBUn"
      },
      "source": [
        "2. Appeler la fonction pileface() ci-dessous:"
      ]
    },
    {
      "cell_type": "code",
      "metadata": {
        "id": "TLrmWyXazdgF"
      },
      "source": [
        ""
      ],
      "execution_count": null,
      "outputs": []
    },
    {
      "cell_type": "markdown",
      "metadata": {
        "id": "ba38ezxc08_0"
      },
      "source": [
        "Quelle est la longueur de la plus longue séquence de de P ou de F obtenue ? "
      ]
    },
    {
      "cell_type": "markdown",
      "metadata": {
        "id": "iwKzV4QsSKQb"
      },
      "source": [
        "Répondre ici: "
      ]
    },
    {
      "cell_type": "markdown",
      "metadata": {
        "id": "tYzol3ks1y5d"
      },
      "source": [
        ""
      ]
    },
    {
      "cell_type": "markdown",
      "metadata": {
        "id": "wRLrXCMfSjhm"
      },
      "source": [
        "## **Partie B: réalisation de 100 simulations de 200 lancers de pile ou face**\n",
        "\n",
        "\n",
        "1. On considère la fonction $sequence()$ ci-dessous:"
      ]
    },
    {
      "cell_type": "code",
      "metadata": {
        "id": "bir7cFKb1VtR"
      },
      "source": [
        "def sequence():\n",
        "  if pileface().count(\"PPPPPP\") > 0 or pileface().count(\"FFFFFF\") > 0:\n",
        "    return True\n",
        "  else:\n",
        "    return False"
      ],
      "execution_count": 7,
      "outputs": []
    },
    {
      "cell_type": "markdown",
      "metadata": {
        "id": "geK6yKiITJqq"
      },
      "source": [
        "2. Expliquer ce que fait cette fonction."
      ]
    },
    {
      "cell_type": "markdown",
      "metadata": {
        "id": "xmZndRVsTTS1"
      },
      "source": [
        "Répondre ici: "
      ]
    },
    {
      "cell_type": "markdown",
      "metadata": {
        "id": "qMb6kuZFZ5l-"
      },
      "source": [
        "4. Compléter la fonction ci-dessous pour qu'elle renvoie la fréquence observée des séries de 200 lancers contenant au moins une idem-séquence de longueur 6, puis l'appeler."
      ]
    },
    {
      "cell_type": "code",
      "metadata": {
        "id": "QY_5u_SrZ2Cj"
      },
      "source": [
        "def centsequences():\n",
        "  compteur = 0\n",
        "  for i in range(100):\n",
        "    if sequence():\n",
        "      .................\n",
        "  return .............."
      ],
      "execution_count": 11,
      "outputs": []
    },
    {
      "cell_type": "code",
      "metadata": {
        "id": "CQJ0Cmcf22cd"
      },
      "source": [
        "centsequences()"
      ],
      "execution_count": null,
      "outputs": []
    },
    {
      "cell_type": "markdown",
      "metadata": {
        "id": "k45nsm3K-c_6"
      },
      "source": [
        "Qu'observez-vous ?\n"
      ]
    },
    {
      "cell_type": "markdown",
      "metadata": {
        "id": "yd8fyDkKZCuf"
      },
      "source": [
        "Répondre ici:"
      ]
    }
  ]
}