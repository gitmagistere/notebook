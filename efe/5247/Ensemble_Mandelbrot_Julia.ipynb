{
  "nbformat": 4,
  "nbformat_minor": 0,
  "metadata": {
    "kernelspec": {
      "display_name": "Python 3",
      "language": "python",
      "name": "python3"
    },
    "language_info": {
      "codemirror_mode": {
        "name": "ipython",
        "version": 3
      },
      "file_extension": ".py",
      "mimetype": "text/x-python",
      "name": "python",
      "nbconvert_exporter": "python",
      "pygments_lexer": "ipython3",
      "version": "3.4.3"
    },
    "colab": {
      "name": "Ensemble Mandelbrot Julia.ipynb",
      "provenance": []
    }
  },
  "cells": [
    {
      "cell_type": "markdown",
      "metadata": {
        "id": "97B4gkT2czpA"
      },
      "source": [
        "# Ensembles de Mandelbrot et Julia"
      ]
    },
    {
      "cell_type": "markdown",
      "metadata": {
        "id": "NodCPKVMczpD"
      },
      "source": [
        "# L'ensemble de Julia"
      ]
    },
    {
      "cell_type": "markdown",
      "metadata": {
        "id": "kdQkswz_czpD"
      },
      "source": [
        "Soit $c\\in \\mathbb C$ un nombre complexe.\n",
        "\n",
        "On considère pour un nombre $a\\in\\mathbb C$ donné la suite à valeurs complexes $(z_n)$ définie par\n",
        "$$\\left \\{\\begin{array}{rcl}\n",
        "z_0 &=& a\\\\\n",
        "z_{n+1}&=&z_n^2+c\n",
        "\\end{array}\\right.$$\n",
        "On s'intéresse à l'ensemble $\\mathscr J_c$ des points du plan d'affixe $a$ pour lesquels la suite $(|z_n|)$ est bornée."
      ]
    },
    {
      "cell_type": "markdown",
      "metadata": {
        "id": "ol1N-dHqczpD"
      },
      "source": [
        "## Compréhension du problème"
      ]
    },
    {
      "cell_type": "markdown",
      "metadata": {
        "id": "pNz-_OrpczpD"
      },
      "source": [
        "On suppose dans cette section que c = −1\n",
        "\n",
        "1. Écrire pour $a=0$ la suite $(z_n)$. Calculer les 5 premiers termes de la suite $(z_n)$.\n",
        "2. Le point $O(0;0)$ semble-t-il appartenir à l'ensemble de Julia $\\mathscr J_{-1}$ ?\n",
        "3. Écrire pour $a=i$ la suite $(z_n)$. Calculer les 5 premiers termes de la suite $(z_n)$.\n",
        "4. Le point $A(0;1)$ semble-t-il appartenir à l'ensemble de Julia $\\mathscr J_{-1}$ ?\n"
      ]
    },
    {
      "cell_type": "markdown",
      "metadata": {
        "id": "AXMAeABRczpD"
      },
      "source": [
        "Répondez dans cette cellule ..."
      ]
    },
    {
      "cell_type": "markdown",
      "metadata": {
        "id": "BER6DEZiczpD"
      },
      "source": [
        "## Algorithme"
      ]
    },
    {
      "cell_type": "markdown",
      "metadata": {
        "id": "bLmTBS8TczpD"
      },
      "source": [
        "On considère l'algorithme suivant :\n",
        "\n",
        "    a et c sont des nombres complexes donnés\n",
        "    n prend la valeur 0\n",
        "    z prend la valeur a\n",
        "    tant que |z|<2 et n<100 Faire\n",
        "        n prend la valeur ...\n",
        "        z prend la valeur ...\n",
        "    Fin Tantque\n",
        "    Si n=100 Alors retourner -1\n",
        "    Sinon retourner n\n",
        "    \n",
        "1. Compléter l'algorithme\n",
        "2. Que renvoie cet algorithme si $a\\in \\mathscr J_c$ ?\n",
        "3. Expliquer la méthode utilisée pour détecter si la suite $|z_n|$ est bornée"
      ]
    },
    {
      "cell_type": "markdown",
      "metadata": {
        "id": "0BH3W2daczpD"
      },
      "source": [
        "Votre réponse ici ..."
      ]
    },
    {
      "cell_type": "markdown",
      "metadata": {
        "id": "guFsOHvuczpD"
      },
      "source": [
        "Programmer cet algorithme dans la fonction **Julia** ci-dessous"
      ]
    },
    {
      "cell_type": "code",
      "metadata": {
        "id": "RqarHOe5czpD"
      },
      "source": [
        "def Julia(a,c):\n",
        "    n=...\n",
        "    z=...\n",
        "    while ... and ... :\n",
        "        ...\n",
        "        ...\n",
        "    if ... :\n",
        "        return ...\n",
        "    else :\n",
        "        return ..."
      ],
      "execution_count": null,
      "outputs": []
    },
    {
      "cell_type": "markdown",
      "metadata": {
        "id": "9fYBwpU1czpD"
      },
      "source": [
        "Tester votre fonction avec les points $O$ et $A$ de la section précédente."
      ]
    },
    {
      "cell_type": "code",
      "metadata": {
        "id": "rTvYMSFBczpD"
      },
      "source": [
        "# Testez votre fonction ici\n",
        "print(\"Test du point O : \",Julia(...,...))\n",
        "print(\"Test du point A : \",Julia(...,...))"
      ],
      "execution_count": null,
      "outputs": []
    },
    {
      "cell_type": "markdown",
      "metadata": {
        "id": "0k2Q8m5AczpD"
      },
      "source": [
        "En utilisant votre fonction Julia, Testez si le point $B\\left(\\dfrac 1 2 ; \\dfrac 1 2 \\right)\\in \\mathscr J_{-0.47+0.15i}$"
      ]
    },
    {
      "cell_type": "code",
      "metadata": {
        "id": "vHW-oMA6czpE"
      },
      "source": [
        "# Testez votre fonction ici\n",
        "print(\"Test du point B : \",Julia(...,...))"
      ],
      "execution_count": null,
      "outputs": []
    },
    {
      "cell_type": "markdown",
      "metadata": {
        "id": "uq3NIO8CczpE"
      },
      "source": [
        "Tapez votre conclusion ici :"
      ]
    },
    {
      "cell_type": "markdown",
      "metadata": {
        "id": "yt492ZDgczpE"
      },
      "source": [
        "## Représentations"
      ]
    },
    {
      "cell_type": "markdown",
      "metadata": {
        "id": "BP8FR48fczpF"
      },
      "source": [
        "Pour chaque point $A$ d'affixe $a$ on associera\n",
        "- la couleur noire si $A \\in \\mathscr J_c$\n",
        "- une autre couleur dépendant du rang de sortie du disque  si $A \\notin \\mathscr J_c$\n",
        "\n",
        "C'est le rôle du programme suivant. Essayez d'en comprendre les grandes lignes grâce aux commentaires. Il n'y a rien à modifier."
      ]
    },
    {
      "cell_type": "code",
      "metadata": {
        "id": "-KJxHyhhczpF"
      },
      "source": [
        "%pylab inline \n",
        "\n",
        "########## Le programme commence ici : ##########\n",
        "\n",
        "w,h=320,240 # On définit la résolution de l'image\n",
        "\n",
        "xMin,xMax=-2,2 # Paramétrage de l'échelle.\n",
        "yCentre=0      # A modifier si besoin pour zoomer sur des zones\n",
        "\n",
        "# On règle automatiquement l'échelle sur y\n",
        "yMin=yCentre-(xMax-xMin)*h/w/2 # On conserve le ration largeur/longueur\n",
        "yMax=yCentre+(xMax-xMin)*h/w/2  # en fonciton de la résolution\n",
        "pasX=(xMax-xMin)/w # pas sur x\n",
        "pasY=(yMax-yMin)/h # pas sur y\n",
        "\n",
        "c=-1 # paramètre de l'ensemble de Julia\n",
        "\n",
        "# On fabrique une grille de 320x240 contenant la sortie de notre fonction Julia\n",
        "\n",
        "grille=[]\n",
        "y=yMax # On commence par la ligne du haut\n",
        "for ligne in range(h):\n",
        "    x=xMin # On se replace à gauche\n",
        "    ligne_grille=[]\n",
        "    for colonne in range(w):\n",
        "        \n",
        "        ## C'est ici que tout se joue##\n",
        "        a=x+1j*y # On calcule l'affixe du point A(x+iy)\n",
        "        ligne_grille.append(Julia(a,c)) # On ajoute le résultat de Julia dans la ligne\n",
        "        \n",
        "        x+=pasX\n",
        "    y-=pasY\n",
        "    grille.append(ligne_grille) # On ajoute notre ligne à la grille"
      ],
      "execution_count": null,
      "outputs": []
    },
    {
      "cell_type": "markdown",
      "metadata": {
        "id": "f1m08a6vczpF"
      },
      "source": [
        "Nous avons donc un tableau de 320x240 entiers. Chaque entrée de ce tableau est un pixel d'une image. "
      ]
    },
    {
      "cell_type": "code",
      "metadata": {
        "id": "RCWH3KwsczpF"
      },
      "source": [
        "plt.imshow(grille)"
      ],
      "execution_count": null,
      "outputs": []
    },
    {
      "cell_type": "markdown",
      "metadata": {
        "id": "2gUdTlMUczpF"
      },
      "source": [
        "La partie bleue centrale correspond aux valeurs -1 retournées par la fonction Julia. C'est donc l'ensemble $\\mathscr J_c$. \n",
        "\n",
        "- plus on est proche de la frontière de cet ensemble, plus le rang d'échappement du disque sera grand. On aura donc des valeurs de retour de Julia élevées, se traduisant par des couleurs claires.\n",
        "- plus on s'éloigne de l'ensemble de Julia, plus la divergence est rapide et donc la valeur de retour proche de 0. Cela se traduit par des couleurs plus sombres au fur à mesure qu'on s'éloigne."
      ]
    },
    {
      "cell_type": "markdown",
      "metadata": {
        "id": "fS3rZeFgczpF"
      },
      "source": [
        "Choisir\n",
        "- x compris entre -1.08 et 1.05\n",
        "- y centré en 0.34"
      ]
    },
    {
      "cell_type": "code",
      "metadata": {
        "id": "EK3R1P1jczpF"
      },
      "source": [
        "# Copiez coller votre code ici :"
      ],
      "execution_count": null,
      "outputs": []
    },
    {
      "cell_type": "markdown",
      "metadata": {
        "id": "x1Bs4keKczpF"
      },
      "source": [
        "## Le lapin de Douady"
      ]
    },
    {
      "cell_type": "markdown",
      "metadata": {
        "id": "8AeOfaNlczpF"
      },
      "source": [
        "Le lapin de douady correspond à la valeur $c \\approx -0.123 + 0.745 i$\n",
        "\n",
        "Modifiez le programme ci-dessus pour afficher le lapin. Vous choisirez\n",
        "- x compris entre -1.6 et 1.6\n",
        "- y centré en 0"
      ]
    },
    {
      "cell_type": "code",
      "metadata": {
        "id": "tUHNVwlEczpF"
      },
      "source": [
        "# Copiez coller votre code ici :"
      ],
      "execution_count": null,
      "outputs": []
    },
    {
      "cell_type": "markdown",
      "metadata": {
        "id": "TWs-PMC0czpF"
      },
      "source": [
        "## L'ensemble de Mandelbrot"
      ]
    },
    {
      "cell_type": "markdown",
      "metadata": {
        "id": "To-8Y-nRczpF"
      },
      "source": [
        "On considère pour un nombre $a\\in\\mathbb C$ donné la suite à valeurs complexes $(z_n)$ définie par\n",
        "\n",
        "$$\\left \\{\\begin{array}{rcl}\n",
        "z_0 &=& a\\\\\n",
        "z_{n+1}&=&z_n^2+a\n",
        "\\end{array}\\right.$$\n",
        "\n",
        "On s'intéresse à l'ensemble $\\mathscr M$ des points du plan d'affixe $a$ pour lesquels la suite $(|z_n|)$ est bornée.\n",
        "\n",
        "Dans la cellule ci-dessous, recopiez en la modifiant la fonction Julia afin qu'elle teste l'appartenance à l'ensemble de Mandelbrot"
      ]
    },
    {
      "cell_type": "code",
      "metadata": {
        "id": "JJAcnWqaczpG"
      },
      "source": [
        "# Votre nouvelle fonciton ici"
      ],
      "execution_count": null,
      "outputs": []
    },
    {
      "cell_type": "markdown",
      "metadata": {
        "id": "zRWNPNLkczpG"
      },
      "source": [
        "Tracez à présent cet ensemble avec les paramètres d'échelle suivants :\n",
        "- x compris entre -2 et 0,5\n",
        "- y centré en 0"
      ]
    },
    {
      "cell_type": "code",
      "metadata": {
        "id": "iGvidmghczpG"
      },
      "source": [
        "# Copiez coller votre code ici :"
      ],
      "execution_count": null,
      "outputs": []
    },
    {
      "cell_type": "markdown",
      "metadata": {
        "id": "xjPgfI3ZczpG"
      },
      "source": [
        "### Les éléphants"
      ]
    },
    {
      "cell_type": "markdown",
      "metadata": {
        "id": "rqc9rvzbczpG"
      },
      "source": [
        "Vous voulez voir les éléphants du départ ? ils sont ici :\n",
        "- x compris entre 0.30 et 0.32\n",
        "- y centré sur -0.03"
      ]
    },
    {
      "cell_type": "code",
      "metadata": {
        "id": "JjwgVPl-czpG"
      },
      "source": [
        "# Copiez coller votre code ici :"
      ],
      "execution_count": null,
      "outputs": []
    },
    {
      "cell_type": "code",
      "metadata": {
        "id": "FtOlCZ26czpG"
      },
      "source": [
        ""
      ],
      "execution_count": null,
      "outputs": []
    }
  ]
}