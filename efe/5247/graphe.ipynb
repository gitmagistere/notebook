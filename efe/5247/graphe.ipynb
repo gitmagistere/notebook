{
  "nbformat": 4,
  "nbformat_minor": 0,
  "metadata": {
    "colab": {
      "name": "graphe.ipynb",
      "provenance": []
    },
    "kernelspec": {
      "name": "python3",
      "display_name": "Python 3"
    }
  },
  "cells": [
    {
      "cell_type": "markdown",
      "metadata": {
        "id": "jNIgYhcc9-J2"
      },
      "source": [
        "# **Calculs**\n",
        "\n",
        "Compléter le programme Python permettant de calculer $X_{200}$ puis, $p_{200}$:"
      ]
    },
    {
      "cell_type": "code",
      "metadata": {
        "id": "yMrTFIro930F"
      },
      "source": [
        "import numpy as np\n",
        "import numpy.linalg as al\n",
        "\n",
        "X1=[ , , , , , ]    # Etat initial a compléter\n",
        "\n",
        "# Matrice de transition\n",
        "T=np.array([[0.5,0.5,0.0,0.0,0.0,0.0],\n",
        "           [0.5,0.0,0.5,0.0,0.0,0.0],\n",
        "           [0.5,0.0,0.0,0.5,0.0,0.0],  \n",
        "           [0.5,0.0,0.0,0.0,0.5,0.0],\n",
        "           [0.5,0.0,0.0,0.0,0.0,0.5],\n",
        "           [0.0,0.0,0.0,0.0,0.0,1.0]])\n",
        "\n",
        "R=al.matrix_power(T,   ) # Ligne à compléter\n",
        "\n",
        "np.dot(X1,R) # calcul de X200 "
      ],
      "execution_count": null,
      "outputs": []
    },
    {
      "cell_type": "markdown",
      "metadata": {
        "id": "s48PVZXW-DXp"
      },
      "source": [
        "Rédigez une conclusion :"
      ]
    }
  ]
}