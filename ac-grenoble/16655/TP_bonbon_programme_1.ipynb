{
 "cells": [
  {
   "cell_type": "code",
   "execution_count": 1,
   "metadata": {},
   "outputs": [
    {
     "name": "stdout",
     "output_type": "stream",
     "text": [
      "Calcul de Cm : 0.0008617346718945236\n",
      "Moyenne des Cm : 0.0008617400355571287\n",
      "u(Cm) : 2.5013409056028153e-06\n"
     ]
    },
    {
     "data": {
      "image/png": "[encoded data removed]",
      "text/plain": [
       "<Figure size 432x288 with 1 Axes>"
      ]
     },
     "metadata": {
      "needs_background": "light"
     },
     "output_type": "display_data"
    },
    {
     "name": "stdout",
     "output_type": "stream",
     "text": [
      "Calcul de C0 : 4.308673359472618e-06\n",
      "Moyenne des C0 : 4.30877229668685e-06\n",
      "u(C0) : 1.9227770635056988e-08\n"
     ]
    },
    {
     "data": {
      "image/png": "[encoded data removed]",
      "text/plain": [
       "<Figure size 432x288 with 1 Axes>"
      ]
     },
     "metadata": {
      "needs_background": "light"
     },
     "output_type": "display_data"
    }
   ],
   "source": [
    "import numpy as np\n",
    "\n",
    "from matplotlib import pyplot\n",
    "\n",
    "\n",
    "\n",
    "##########################################################################\n",
    "\n",
    "#Renvoie une valeur aléatoire de la variable L[0] d'incertitude-type L[1]\n",
    "\n",
    "def Alea(L):\n",
    "\n",
    "    tirage=np.random.normal()   #Tirage entre -infini et +infini (loi normale)\n",
    "\n",
    "    return L[0]+L[1]*tirage\n",
    "\n",
    "    \n",
    "\n",
    "###############################################################################\n",
    "\n",
    "#Entrées\n",
    "\n",
    "m=[1,2.9e-3]\n",
    "\n",
    "M=[1160.45,0.01]\n",
    "\n",
    "Vf1=[1.0000,2.3e-4]\n",
    "\n",
    "Vp=[5.00e-3,1.7e-5]\n",
    "\n",
    "Vf2=[1.0000,2.3e-4]\n",
    "\n",
    "###############################################################################\n",
    "\n",
    "\n",
    "\n",
    "###############################################################################\n",
    "\n",
    "#Calcul de Cm et C0\n",
    "\n",
    "Cm=m[0]/(M[0]*Vf1[0])\n",
    "\n",
    "C0=Cm*Vp[0]/Vf2[0]\n",
    "\n",
    "###############################################################################\n",
    "\n",
    "\n",
    "\n",
    "###############################################################################\n",
    "\n",
    "#Méthode de Monte Carlo pour trouver l'incertitude sur Cm et C0\n",
    "\n",
    "#sans composition des incertitudes\n",
    "\n",
    "LCm,LC0=[],[]\n",
    "\n",
    "iteration=100000\n",
    "\n",
    "\n",
    "\n",
    "for i in range(iteration):\n",
    "\n",
    "    AleaCm=Alea(m)/(Alea(M)*Alea(Vf1))\n",
    "\n",
    "    AleaC0=AleaCm*Alea(Vp)/Alea(Vf2)\n",
    "\n",
    "    LCm.append(AleaCm)\n",
    "\n",
    "    LC0.append(AleaC0)\n",
    "\n",
    "\n",
    "\n",
    "MoyCm=sum(LCm)/iteration\n",
    "\n",
    "MoyC0=sum(LC0)/iteration\n",
    "\n",
    "uCm=(1/(iteration-1)*sum((np.array(LCm)-MoyCm)**2.))**0.5\n",
    "\n",
    "uC0=(1/(iteration-1)*sum((np.array(LC0)-MoyC0)**2.))**0.5\n",
    "\n",
    "###############################################################################\n",
    "\n",
    "\n",
    "\n",
    "###############################################################################\n",
    "\n",
    "#Affichage\n",
    "\n",
    "print('Calcul de Cm :',Cm)\n",
    "\n",
    "print('Moyenne des Cm :',MoyCm)\n",
    "\n",
    "print('u(Cm) :',uCm)\n",
    "\n",
    "pyplot.hist(LCm, range = (0.000845, 0.000875), bins = 50, color = 'blue', edgecolor = 'black')\n",
    "\n",
    "pyplot.xlabel('Cm (mol/L)')\n",
    "\n",
    "pyplot.ylabel('effectif')\n",
    "\n",
    "pyplot.title('Pour 100 000 iterations')\n",
    "\n",
    "pyplot.show()\n",
    "\n",
    "\n",
    "\n",
    "print('Calcul de C0 :',C0)\n",
    "\n",
    "print('Moyenne des C0 :',MoyC0)\n",
    "\n",
    "print('u(C0) :',uC0)\n",
    "\n",
    "pyplot.hist(LC0, range = (4.10e-6, 4.5e-6), bins = 50, color = 'blue', edgecolor = 'black')\n",
    "\n",
    "pyplot.xlabel('C0 (mol/L)')\n",
    "\n",
    "pyplot.ylabel('effectif')\n",
    "\n",
    "pyplot.title('Pour 100 000 iterations')\n",
    "\n",
    "pyplot.show()\n",
    "\n",
    "###############################################################################"
   ]
  },
  {
   "cell_type": "code",
   "execution_count": null,
   "metadata": {},
   "outputs": [],
   "source": []
  }
 ],
 "metadata": {
  "kernelspec": {
   "display_name": "Python 3",
   "language": "python",
   "name": "python3"
  },
  "language_info": {
   "codemirror_mode": {
    "name": "ipython",
    "version": 3
   },
   "file_extension": ".py",
   "mimetype": "text/x-python",
   "name": "python",
   "nbconvert_exporter": "python",
   "pygments_lexer": "ipython3",
   "version": "3.9.0rc2"
  }
 },
 "nbformat": 4,
 "nbformat_minor": 4
}
