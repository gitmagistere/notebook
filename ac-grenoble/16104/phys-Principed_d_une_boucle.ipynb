{
 "cells": [
  {
   "cell_type": "markdown",
   "metadata": {},
   "source": [
    "# Les boucles\n",
    "\n",
    "Si on veut exécuter plusieurs fois une commande, on utilise des boucles. essayez le programme suivant:"
   ]
  },
  {
   "cell_type": "code",
   "execution_count": 3,
   "metadata": {},
   "outputs": [
    {
     "name": "stdout",
     "output_type": "stream",
     "text": [
      "Bonjour Monsieur!\n",
      "Bonjour. Va vite t’installer tu es en retard.\n",
      "Bonjour Monsieur!\n",
      "Bonjour. Va vite t’installer tu es en retard.\n",
      "Bonjour Monsieur!\n",
      "Bonjour. Va vite t’installer tu es en retard.\n",
      "Bonjour Monsieur!\n",
      "Bonjour. Va vite t’installer tu es en retard.\n",
      "Bonjour Monsieur!\n",
      "Bonjour. Va vite t’installer tu es en retard.\n"
     ]
    }
   ],
   "source": [
    "for i in range(5):\n",
    "    print(\"Bonjour Monsieur!\")\n",
    "    print(\"Bonjour. Va vite t’installer tu es en retard.\")"
   ]
  },
  {
   "cell_type": "markdown",
   "metadata": {},
   "source": [
    "L'indentation (le décalage vers la droite d'une partie des lignes) fait partie de la syntaxe en python. Elle permet de savoir ce qui est dans la boucle. On peut l'ajouter en utilisant la touche tabulation. \n",
    "\n",
    "Observer ces deux programmes et comparer les résultats:"
   ]
  },
  {
   "cell_type": "code",
   "execution_count": 6,
   "metadata": {},
   "outputs": [
    {
     "name": "stdout",
     "output_type": "stream",
     "text": [
      "Hello\n",
      "The End\n",
      "Hello\n",
      "The End\n",
      "Hello\n",
      "The End\n",
      "Hello\n",
      "The End\n",
      "Hello\n",
      "The End\n",
      "--------------\n",
      "Bonjour\n",
      "Bonjour\n",
      "Bonjour\n",
      "Bonjour\n",
      "Bonjour\n",
      "Fin\n"
     ]
    }
   ],
   "source": [
    "for i in range(5):\n",
    "    print(\"Hello\")\n",
    "    print(\"The End\")\n",
    "    \n",
    "print(\"--------------\")\n",
    "\n",
    "for i in range(5):\n",
    "    print(\"Bonjour\")\n",
    "print(\"Fin\")"
   ]
  },
  {
   "cell_type": "markdown",
   "metadata": {},
   "source": [
    "Le i est ici une variable dont la valeur va changer à chaque tour de boucle. Avec la syntaxe ci-dessous, i est un entier, démarre à 0 et va jusqu'à 9 soit dix exécutions de la boucle."
   ]
  },
  {
   "cell_type": "code",
   "execution_count": 1,
   "metadata": {},
   "outputs": [
    {
     "name": "stdout",
     "output_type": "stream",
     "text": [
      "début\n",
      "0\n",
      "1\n",
      "2\n",
      "3\n",
      "4\n",
      "5\n",
      "6\n",
      "7\n",
      "8\n",
      "9\n",
      "fin\n"
     ]
    }
   ],
   "source": [
    "print(\"début\")\n",
    "for i in range(10):\n",
    "    print(i)\n",
    "print(\"fin\")"
   ]
  },
  {
   "cell_type": "markdown",
   "metadata": {},
   "source": [
    "# Activité à réaliser\n",
    "\n",
    "1. Prévoir ce que fait le programme suivant avant de l'exécuter en cliquant sur la flèche de gauche."
   ]
  },
  {
   "cell_type": "code",
   "execution_count": 1,
   "metadata": {},
   "outputs": [
    {
     "name": "stdout",
     "output_type": "stream",
     "text": [
      "i = 0 et j = 0\n",
      "i = 0 et j = 1\n",
      "i = 0 et j = 2\n",
      "i = 1 et j = 0\n",
      "i = 1 et j = 1\n",
      "i = 1 et j = 2\n",
      "i = 2 et j = 0\n",
      "i = 2 et j = 1\n",
      "i = 2 et j = 2\n",
      "i = 3 et j = 0\n",
      "i = 3 et j = 1\n",
      "i = 3 et j = 2\n"
     ]
    }
   ],
   "source": [
    "for i in range(4):\n",
    "    for j in range(3):\n",
    "        print(\"i =\", i, \"et j =\", j )"
   ]
  },
  {
   "cell_type": "markdown",
   "metadata": {},
   "source": [
    "La fonction range va pouvoir prendre trois arguments entiers. Le premier est le point de départ, le deuxième est le premier élément qui ne sera pas dans la séquence et le troisième est le pas. Si deux arguments sont donnés, le pas est 1 par défaut. Si un seul argument est donné, le pas est 1 par défaut et le premier élément est 0 par défaut.\n",
    "\n",
    "Ainsi, `for i in range(0, 10, 1)` est identique à `for i in range(0, 10)` et à `for i in range(10)`.\n",
    "\n",
    "2. Essayer de prévoir ce qu'afficheront les lignes suivantes puis cliquer sur le bouton d'exécution afin de le vérrifier.\n"
   ]
  },
  {
   "cell_type": "code",
   "execution_count": 2,
   "metadata": {},
   "outputs": [
    {
     "name": "stdout",
     "output_type": "stream",
     "text": [
      "2\n",
      "5\n",
      "8\n"
     ]
    }
   ],
   "source": [
    "for i in range(2,10,3):\n",
    "    print(i)"
   ]
  },
  {
   "cell_type": "markdown",
   "metadata": {},
   "source": [
    "Si on travaille sur des listes, on peut réaliser des itérations:\n",
    "* sur les indices"
   ]
  },
  {
   "cell_type": "code",
   "execution_count": 12,
   "metadata": {},
   "outputs": [
    {
     "name": "stdout",
     "output_type": "stream",
     "text": [
      "[4.0, 4.01, 4.04, 4.09, 4.16, 4.25]\n"
     ]
    }
   ],
   "source": [
    "x = [0., 0.1, 0.2, 0.3, 0.4, 0.5]\n",
    "y = [ ]\n",
    "\n",
    "for i in range( len( x ) ): #i est un int, c'est un indice\n",
    "    y.append( x[ i ] ** 2 + 4. )\n",
    "    \n",
    "print(y)"
   ]
  },
  {
   "cell_type": "markdown",
   "metadata": {},
   "source": [
    "* sur les éléments de la liste."
   ]
  },
  {
   "cell_type": "code",
   "execution_count": 13,
   "metadata": {},
   "outputs": [
    {
     "name": "stdout",
     "output_type": "stream",
     "text": [
      "[4.0, 4.01, 4.04, 4.09, 4.16, 4.25]\n"
     ]
    }
   ],
   "source": [
    "x = [0., 0.1, 0.2, 0.3, 0.4, 0.5]\n",
    "y = [ ]\n",
    "\n",
    "for i in x:  #i est un float, c'est un élément de x\n",
    "    y.append( i ** 2 + 4. )\n",
    "\n",
    "print(y)"
   ]
  },
  {
   "cell_type": "markdown",
   "metadata": {},
   "source": [
    "Il y a même la possibilité de construire des listes sans faire apparaître la structure de boucle tout en gardant le code lisible:"
   ]
  },
  {
   "cell_type": "code",
   "execution_count": 15,
   "metadata": {},
   "outputs": [
    {
     "name": "stdout",
     "output_type": "stream",
     "text": [
      "[4.0, 4.01, 4.04, 4.09, 4.16, 4.25]\n"
     ]
    }
   ],
   "source": [
    "x = [0., 0.1, 0.2, 0.3, 0.4, 0.5]\n",
    "y = [ i ** 2 + 4. for i in x]\n",
    "\n",
    "print(y)"
   ]
  },
  {
   "cell_type": "markdown",
   "metadata": {},
   "source": [
    "La boucle utilisant un \"for\" est pratique lorsque l'on sait à l'avance le nombre d'itérations ou les éléments que l'on veut balayer. Si ce n'est pas le cas, on utilise une boucle conditionnelle qui s'écrit avec un \"while\"."
   ]
  },
  {
   "cell_type": "code",
   "execution_count": 16,
   "metadata": {},
   "outputs": [
    {
     "name": "stdout",
     "output_type": "stream",
     "text": [
      "[4.0, 4.01, 4.04, 4.09, 4.16, 4.25]\n"
     ]
    }
   ],
   "source": [
    "x = [0., 0.1, 0.2, 0.3, 0.4, 0.5]\n",
    "y = [ ]\n",
    "i = 0\n",
    "while i < len(x):\n",
    "    y.append( x[ i ] ** 2 + 4. )\n",
    "    i = i + 1\n",
    "\n",
    "print(y)"
   ]
  }
 ],
 "metadata": {
  "kernelspec": {
   "display_name": "Python 3 (ipykernel)",
   "language": "python",
   "name": "python3"
  },
  "language_info": {
   "codemirror_mode": {
    "name": "ipython",
    "version": 3
   },
   "file_extension": ".py",
   "mimetype": "text/x-python",
   "name": "python",
   "nbconvert_exporter": "python",
   "pygments_lexer": "ipython3",
   "version": "3.9.7"
  },
  "varInspector": {
   "cols": {
    "lenName": 16,
    "lenType": 16,
    "lenVar": 40
   },
   "kernels_config": {
    "python": {
     "delete_cmd_postfix": "",
     "delete_cmd_prefix": "del ",
     "library": "var_list.py",
     "varRefreshCmd": "print(var_dic_list())"
    },
    "r": {
     "delete_cmd_postfix": ") ",
     "delete_cmd_prefix": "rm(",
     "library": "var_list.r",
     "varRefreshCmd": "cat(var_dic_list()) "
    }
   },
   "types_to_exclude": [
    "module",
    "function",
    "builtin_function_or_method",
    "instance",
    "_Feature"
   ],
   "window_display": false
  }
 },
 "nbformat": 4,
 "nbformat_minor": 2
}
