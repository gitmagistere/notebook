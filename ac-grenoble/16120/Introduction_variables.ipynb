{
 "cells": [
  {
   "cell_type": "markdown",
   "metadata": {},
   "source": [
    "# Un premier programme\n",
    "\n",
    "Dans l'activité ci-dessous, vous allez écrire un programme permettant de calculer le périmètre ou l'aire d'un disque en fonction de son rayon. \n",
    "Nous définissons deux fonctions `perim` et `aire` à l'aide du mot clé def avec, en fin de ligne, le symbole `:`, obligatoire. La définition de chaque fonction se trouve dans le bloc d'instructions délimité par l'indentation (le décalage), elle aussi obligatoire. \n",
    "\n",
    "La constante pi est fournie par la bibliothèque math, elle nous sera utile.\n",
    "\n",
    "**ACTIVITÉ 1** : Définir de même la fonction aire. \n",
    "Remarques : \n",
    "- vous pouvez utiliser `return` pour renvoyer le calcul sans utiliser de variable intermédiaire puisque ce n'est en réalité pas nécessaire.\n",
    "- Pour calculer le carré de $r$, on utilise `r**2`.\n",
    "\n",
    "Pour utiliser ce programme, il faut l'exécuter puis lancer chacun des appel en dessous."
   ]
  },
  {
   "cell_type": "code",
   "execution_count": 3,
   "metadata": {},
   "outputs": [],
   "source": [
    "from math import *\n",
    "\n",
    "def perim(r):\n",
    "    p = 2 *pi * r\n",
    "    return p\n",
    "\n",
    "def aire(r):\n",
    "    A=2*pi*r**2\n",
    "    return A        # à compléter"
   ]
  },
  {
   "cell_type": "code",
   "execution_count": 4,
   "metadata": {},
   "outputs": [
    {
     "data": {
      "text/plain": [
       "75.39822368615503"
      ]
     },
     "execution_count": 4,
     "metadata": {},
     "output_type": "execute_result"
    }
   ],
   "source": [
    "perim(12)"
   ]
  },
  {
   "cell_type": "code",
   "execution_count": 5,
   "metadata": {},
   "outputs": [
    {
     "data": {
      "text/plain": [
       "226.1946710584651"
      ]
     },
     "execution_count": 5,
     "metadata": {},
     "output_type": "execute_result"
    }
   ],
   "source": [
    "aire(6)"
   ]
  },
  {
   "cell_type": "markdown",
   "metadata": {},
   "source": [
    "# Pour terminer cette initiation, les fonctions discriminant et nbsol\n",
    "\n",
    "Intéressons-nous maintenant aux éventuelles racines réelles d’un polynôme de degré 2 à coefficients réels. Il faudra faire appel à une structure conditionnelle pour distinguer les cas selon le signe du discriminant.\n",
    "\n",
    "Pour calculer les racines carrées, nous utiliserons la fonction `sqrt` (square root) fournie par la bibliothèque math.\n",
    "Le symbole `=` est utilisé pour affecter une valeur à une variable.\n",
    "\n",
    "Dans l'exemple ci-dessous, on a créé une fonction `discriminant` qui calcule puis renvoie le discriminant d'un polynôme $ax^2+bx+c$\n",
    "avec $a,b,c$ réels et $a\\neq0$.\n",
    "La fonction `nbsol` qui suit utilise la fonction discriminant et renvoie le nombre de solutions du polynôme."
   ]
  },
  {
   "cell_type": "code",
   "execution_count": 6,
   "metadata": {},
   "outputs": [],
   "source": [
    "from math import *\n",
    "\n",
    "def discriminant(a,b,c):\n",
    "  return b**2-4*a*c\n",
    "\n",
    "def nbsol(a,b,c):\n",
    "  delta = discriminant(a,b,c)\n",
    "  if delta < 0:\n",
    "    return 0\n",
    "  elif delta >0:\n",
    "    return 2\n",
    "  else:\n",
    "    return 1"
   ]
  },
  {
   "cell_type": "code",
   "execution_count": 8,
   "metadata": {},
   "outputs": [
    {
     "data": {
      "text/plain": [
       "0"
      ]
     },
     "execution_count": 8,
     "metadata": {},
     "output_type": "execute_result"
    }
   ],
   "source": [
    "nbsol(1,2,3)"
   ]
  },
  {
   "cell_type": "code",
   "execution_count": 9,
   "metadata": {},
   "outputs": [
    {
     "data": {
      "text/plain": [
       "1"
      ]
     },
     "execution_count": 9,
     "metadata": {},
     "output_type": "execute_result"
    }
   ],
   "source": [
    "nbsol(1,2,1)"
   ]
  },
  {
   "cell_type": "code",
   "execution_count": 10,
   "metadata": {},
   "outputs": [
    {
     "data": {
      "text/plain": [
       "2"
      ]
     },
     "execution_count": 10,
     "metadata": {},
     "output_type": "execute_result"
    }
   ],
   "source": [
    "nbsol(1,8,1)"
   ]
  },
  {
   "cell_type": "markdown",
   "metadata": {},
   "source": [
    "# Activité 2. Racines\n",
    "\n",
    "En vous inspirant de la fonction nbsol, ajoutez une nouvelle fonction racines ( def racines(a,b,c) ) qui renvoie selon les cas\n",
    "\n",
    "- une liste vide `[]` ;\n",
    "- une liste contenant la solution `[x1]` ;\n",
    "- une liste contenant les deux solutions `[x1,x2]`.\n",
    "\n",
    "Vérifiez vos résultats :\n",
    "\n",
    "    racines(1, 7, 2) \n",
    "    => [-6.701562118716424, -0.29843788128357573]\n",
    "    racines(9,6,1)  \n",
    "    => [-0.3333333333333333]\n",
    "    racines(1,2,2) \n",
    "    => []"
   ]
  },
  {
   "cell_type": "code",
   "execution_count": 8,
   "metadata": {},
   "outputs": [],
   "source": [
    "from math import *\n",
    "\n",
    "def discriminant(a,b,c):\n",
    "  return b**2-4*a*c\n",
    "\n",
    "def nbsol(a,b,c):\n",
    "  delta = discriminant(a,b,c)\n",
    "  if delta < 0:\n",
    "    return 0\n",
    "  elif delta >0:\n",
    "    return 2\n",
    "  else:\n",
    "    return 1\n",
    "\n",
    "def racines(a,b,c):\n",
    "  delta = discriminant(a,b,c)\n",
    "  if delta < 0:\n",
    "    return []\n",
    "  elif delta >0:\n",
    "    return [(-b-sqrt(delta))/(2*a),(-b+sqrt(delta))/(2*a)]\n",
    "  else:\n",
    "    return [-b/(2*a)]\n"
   ]
  },
  {
   "cell_type": "code",
   "execution_count": 9,
   "metadata": {},
   "outputs": [
    {
     "data": {
      "text/plain": [
       "[-6.701562118716424, -0.29843788128357573]"
      ]
     },
     "execution_count": 9,
     "metadata": {},
     "output_type": "execute_result"
    }
   ],
   "source": [
    "racines(1,7,2)"
   ]
  },
  {
   "cell_type": "code",
   "execution_count": 10,
   "metadata": {},
   "outputs": [
    {
     "data": {
      "text/plain": [
       "[-0.3333333333333333]"
      ]
     },
     "execution_count": 10,
     "metadata": {},
     "output_type": "execute_result"
    }
   ],
   "source": [
    "racines(9,6,1)"
   ]
  },
  {
   "cell_type": "code",
   "execution_count": 11,
   "metadata": {},
   "outputs": [
    {
     "data": {
      "text/plain": [
       "[]"
      ]
     },
     "execution_count": 11,
     "metadata": {},
     "output_type": "execute_result"
    }
   ],
   "source": [
    "racines(1,2,2)"
   ]
  },
  {
   "cell_type": "markdown",
   "metadata": {},
   "source": [
    "# Activité 3. Les approximations de la machine\n",
    "\n",
    "Le programme que vous avez écrit fonctionne-t-il parfaitement ? En êtes-vous bien sûr•e ?\n",
    "Essayez avec les deux polynômes suivants, dont il est facile de vérifier que le discriminant est nul :\n",
    "\n",
    "- $x^2+0.8x+0.16$\n",
    "- $0.1x^2+0.7x+1.225$\n",
    "\n",
    "\n",
    "1. Pourquoi Python commet-il une telle erreur ? (Demandez à Python d'afficher le discriminant calculé)\n",
    "2. Comment modifier le code de manière à ce qu'il affiche une unique solution si le discriminant peut être considéré comme nul malgré les erreurs d'approximation de la machine ?\n",
    "\n",
    "On pourra tester si le discriminant est suffisamment proche de zéro, par exemple $\\Delta\\in[-10^{-12},10^{-12}]$."
   ]
  },
  {
   "cell_type": "code",
   "execution_count": 12,
   "metadata": {},
   "outputs": [
    {
     "data": {
      "text/plain": [
       "[-0.4000000052683561, -0.39999999473164394]"
      ]
     },
     "execution_count": 12,
     "metadata": {},
     "output_type": "execute_result"
    }
   ],
   "source": [
    "racines(1,0.8,0.16)"
   ]
  },
  {
   "cell_type": "code",
   "execution_count": 13,
   "metadata": {},
   "outputs": [
    {
     "data": {
      "text/plain": [
       "[]"
      ]
     },
     "execution_count": 13,
     "metadata": {},
     "output_type": "execute_result"
    }
   ],
   "source": [
    "racines(0.1,0.7,1.225)"
   ]
  },
  {
   "cell_type": "code",
   "execution_count": 14,
   "metadata": {},
   "outputs": [],
   "source": [
    "def racines2(a,b,c):\n",
    "  delta = discriminant(a,b,c)\n",
    "  if delta < -10**(-12):\n",
    "    return []\n",
    "  elif delta >10**(-12):\n",
    "    return [(-b-sqrt(delta))/(2*a),(-b+sqrt(delta))/(2*a)]\n",
    "  else:\n",
    "    return [-b/(2*a)]"
   ]
  },
  {
   "cell_type": "code",
   "execution_count": 15,
   "metadata": {},
   "outputs": [
    {
     "data": {
      "text/plain": [
       "[-0.4]"
      ]
     },
     "execution_count": 15,
     "metadata": {},
     "output_type": "execute_result"
    }
   ],
   "source": [
    "racines2(1,0.8,0.16)"
   ]
  },
  {
   "cell_type": "code",
   "execution_count": 16,
   "metadata": {},
   "outputs": [
    {
     "data": {
      "text/plain": [
       "[-3.4999999999999996]"
      ]
     },
     "execution_count": 16,
     "metadata": {},
     "output_type": "execute_result"
    }
   ],
   "source": [
    "racines2(0.1,0.7,1.225)"
   ]
  }
 ],
 "metadata": {
  "kernelspec": {
   "display_name": "Python 3 (ipykernel)",
   "language": "python",
   "name": "python3"
  },
  "language_info": {
   "codemirror_mode": {
    "name": "ipython",
    "version": 3
   },
   "file_extension": ".py",
   "mimetype": "text/x-python",
   "name": "python",
   "nbconvert_exporter": "python",
   "pygments_lexer": "ipython3",
   "version": "3.11.3"
  },
  "toc": {
   "base_numbering": 1,
   "nav_menu": {},
   "number_sections": true,
   "sideBar": true,
   "skip_h1_title": false,
   "title_cell": "Table of Contents",
   "title_sidebar": "Contents",
   "toc_cell": false,
   "toc_position": {},
   "toc_section_display": true,
   "toc_window_display": false
  }
 },
 "nbformat": 4,
 "nbformat_minor": 2
}
