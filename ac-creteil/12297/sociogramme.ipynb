{
 "cells": [
  {
   "cell_type": "markdown",
   "metadata": {},
   "source": [
    "# Sociogramme\n",
    "Source : [Project Gutenberg](http://www.gutenberg.org/ebooks/798)   \n",
    "Récupérer le texte du roman *Le rouge et le noir* de Stendhal au format txt\n",
    "\n",
    "## Traitement automatique du langage naturel avec Spacy\n",
    "- [Natural Language Processing (NLP)](https://fr.wikipedia.org/wiki/Traitement_automatique_du_langage_naturel)\n",
    "- [Spacy une bibliothèque Python](https://spacy.io/)\n",
    "- [Tokenisation du texte avec Spacy](https://spacy.io/usage/spacy-101#annotations-token)\n",
    "- [Notebook](http://51.68.70.175:8000)\n"
   ]
  },
  {
   "cell_type": "code",
   "execution_count": 1,
   "metadata": {},
   "outputs": [
    {
     "data": {
      "text/plain": [
       "<spacy_langdetect.spacy_langdetect.LanguageDetector at 0x1125992b0>"
      ]
     },
     "execution_count": 1,
     "metadata": {},
     "output_type": "execute_result"
    }
   ],
   "source": [
    "import spacy\n",
    "from spacy_langdetect import LanguageDetector\n",
    "import pandas as pd\n",
    "from collections import Counter\n",
    "from spacy.language import Language\n",
    "import networkx as nx\n",
    "import matplotlib.pyplot as plt\n",
    "\n",
    "def create_lang_detector(nlp, name):\n",
    "    return LanguageDetector()\n",
    "Language.factory(\"language_detector\", func=create_lang_detector)\n",
    "# chargement du dictionnaire français\n",
    "from spacy.lang.fr.stop_words import STOP_WORDS\n",
    "nlp_fr = spacy.load(\"fr_core_news_sm\")\n",
    "nlp_fr.add_pipe('language_detector', last=True)\n"
   ]
  },
  {
   "cell_type": "code",
   "execution_count": 2,
   "metadata": {},
   "outputs": [],
   "source": [
    "# Chargement du texte\n",
    "text_fr = open(\"rougeetnoir.txt\").read()\n",
    "text_fr=text_fr.replace(\"Julien Sorel\", \"Julien\")\n",
    "text_fr=text_fr.replace(\"Mlle Élisa\", \"Élisa\")\n",
    "# Seqmentation du texte en chaiptres en utilisant le délimiteur aproprié : ici, \"CHAPITRE\"\n",
    "book= text_fr.split(\"CHAPITRE \")"
   ]
  },
  {
   "cell_type": "markdown",
   "metadata": {},
   "source": [
    "## Tokenisation et étiquetage "
   ]
  },
  {
   "cell_type": "code",
   "execution_count": 3,
   "metadata": {},
   "outputs": [
    {
     "name": "stdout",
     "output_type": "stream",
     "text": [
      "  Cette visite dura plusieurs heures.\n",
      " \n",
      "\n",
      " :   , SPACE\n",
      " Cette :   , DET\n",
      " visite :   , NOUN\n",
      " dura :   , VERB\n",
      " plusieurs :   , DET\n",
      " heures :   , NOUN\n",
      " . :   , PUNCT\n"
     ]
    }
   ],
   "source": [
    "# Tokenisation du 3ème chapitre\n",
    "doc_fr = nlp_fr(book[3])\n",
    "\n",
    "# On isole une phrase : la 11ème du chapitre\n",
    "i=0\n",
    "for sent in doc_fr.sents:\n",
    "    if i==11 : \n",
    "        sent1=sent.text\n",
    "        print (sent1.replace(\"\\n\",\" \"))\n",
    "    i+=1\n",
    "\n",
    "# Tokenisation de la phrase\n",
    "doc_fr = nlp_fr(sent1)\n",
    "for token in doc_fr: \n",
    "    print(' {0} :   , {1}' .format(token.text, token.pos_))"
   ]
  },
  {
   "cell_type": "markdown",
   "metadata": {},
   "source": [
    "## Les entités nommées\n",
    "Une entité nommée est un «objet du monde réel» auquel est attribué un nom - par exemple, une personne, un pays, un produit ou un titre de livre   \n",
    "[voir doc](https://spacy.io/api/annotation#named-entities)"
   ]
  },
  {
   "cell_type": "code",
   "execution_count": 4,
   "metadata": {},
   "outputs": [
    {
     "name": "stdout",
     "output_type": "stream",
     "text": [
      " PREMIER\n",
      "\n",
      "\n",
      "UNE PETITE VILLE\n",
      "\n",
      "     :  MISC\n",
      " But the :  MISC\n",
      " Verrières :  LOC\n",
      " Doubs :  LOC\n",
      " Espagnols :  LOC\n",
      " Verrières :  LOC\n",
      " Verra :  LOC\n",
      " Verrières :  LOC\n",
      " Doubs :  LOC\n",
      " Mulhouse :  LOC\n",
      " Napoléon :  PER\n",
      " Verrières :  LOC\n",
      " la France :  LOC\n",
      " M. :  PER\n",
      " Doubs :  LOC\n",
      " Verrières :  LOC\n",
      " M. de Rênal :  PER\n",
      " Bourgogne :  LOC\n",
      " M. de Rênal :  PER\n",
      " Louis X.\n",
      "\n",
      "Depuis :  PER\n",
      " Doubs :  LOC\n",
      " M. de Rênal :  PER\n",
      " France :  LOC\n",
      " Allemagne :  LOC\n",
      " Leipzig :  LOC\n",
      " Francfort :  LOC\n",
      " En Franche :  MISC\n",
      " M. de\n",
      "Rênal :  PER\n",
      " Verrières :  LOC\n",
      " SOREL :  ORG\n",
      " M. de\n",
      "Rênal :  PER\n",
      " M. :  PER\n",
      " louis\n",
      "d'or :  PER\n",
      " M. de Rênal :  PER\n",
      " Paris :  LOC\n",
      " Sorel :  PER\n",
      " Doubs :  LOC\n",
      " Sorel :  PER\n",
      " M. de Rênal :  PER\n",
      " vieux Sorel :  LOC\n",
      " M. :  PER\n",
      " Verrières :  LOC\n",
      " Paris :  LOC\n",
      " Franche-Comté :  LOC\n",
      " de France :  LOC\n",
      " États-Unis d'Amérique :  LOC\n"
     ]
    }
   ],
   "source": [
    "doc_fr = nlp_fr(book[1])\n",
    "# Récupération des lieux , personnes ... du chapitre 1\n",
    "for token in doc_fr.ents: \n",
    "    print(' {0} :  {1}' .format(token.text, token.label_))"
   ]
  },
  {
   "cell_type": "markdown",
   "metadata": {},
   "source": [
    "## Liste des personnages\n",
    "Récupération de tous les personnages du roman\n",
    "Comment éviter que spacy récupère des mots qui ne sont pas des personnages ou qui ne sont pas pertinents."
   ]
  },
  {
   "cell_type": "code",
   "execution_count": 5,
   "metadata": {},
   "outputs": [
    {
     "data": {
      "text/plain": [
       "['Napoléon',\n",
       " 'M. de Rênal',\n",
       " 'Sorel',\n",
       " 'M. Valenod',\n",
       " 'Mme de Rênal',\n",
       " 'M. Appert',\n",
       " 'marquis de La Mole',\n",
       " 'je ',\n",
       " 'Valenod',\n",
       " 'Julien',\n",
       " 'Mgr',\n",
       " 'Bonaparte',\n",
       " 'M. Chélan',\n",
       " 'Mme de Rênal ',\n",
       " 'Horace',\n",
       " 'Julien ',\n",
       " 'Élisa',\n",
       " 'Mme Derville',\n",
       " 'louis',\n",
       " 'Don Juan',\n",
       " 'M. Julien',\n",
       " 'Robespierre',\n",
       " 'Fouqué',\n",
       " 'Voltaire',\n",
       " 'Louis XV',\n",
       " 'M. de Moirod',\n",
       " 'Moirod',\n",
       " 'M. Maslon',\n",
       " 'Monseigneur',\n",
       " 'M. de La Mole',\n",
       " 'Cholin',\n",
       " 'Stanislas',\n",
       " 'Mme Valenod',\n",
       " 'Geronimo',\n",
       " 'Louis XIV',\n",
       " 'M. Pirard',\n",
       " 'Pirard',\n",
       " 'abbé Pirard',\n",
       " 'M. de Maistre',\n",
       " 'Castanède',\n",
       " 'Chazel',\n",
       " 'Cicéron',\n",
       " 'M. de Frilair',\n",
       " 'Frilair',\n",
       " 'Tacite',\n",
       " 'abbé de Frilair',\n",
       " 'Falcoz',\n",
       " 'comte Norbert',\n",
       " 'duc de Chaulnes',\n",
       " 'Mme de La Mole',\n",
       " 'Henri III',\n",
       " 'M. Sorel',\n",
       " 'Mlle Mathilde',\n",
       " 'Norbert',\n",
       " 'Mlle de La Mole',\n",
       " 'Mathilde',\n",
       " 'Tanbeau',\n",
       " 'marquis de Croisenois',\n",
       " 'comte de Caylus',\n",
       " 'M. de Croisenois',\n",
       " 'Luz',\n",
       " 'M. de Nerval',\n",
       " 'chevalier de Beauvoisis',\n",
       " 'Beauvoisis',\n",
       " 'prince Korasoff',\n",
       " 'duc de Retz',\n",
       " 'M. de Valenod',\n",
       " 'Boniface de La Mole',\n",
       " 'comte Altamira',\n",
       " 'Danton',\n",
       " 'Mathilde ',\n",
       " 'Charles IX',\n",
       " 'Catherine de Médicis',\n",
       " 'M. de Caylus',\n",
       " 'Korasoff',\n",
       " 'Mme de Dubois',\n",
       " 'Mme de Fervaques',\n",
       " 'Diego Bustos',\n",
       " 'Mme Michelet']"
      ]
     },
     "execution_count": 5,
     "metadata": {},
     "output_type": "execute_result"
    }
   ],
   "source": [
    "# Liste des personnages\n",
    "perso=[]\n",
    "for chapitre in book:\n",
    "    doc_fr = nlp_fr(chapitre)\n",
    "    for token in doc_fr.ents :\n",
    "        if token.label_==\"PER\":\n",
    "            perso0=token.text.replace(\"\\n\", \" \")\n",
    "            perso.append(perso0)\n",
    "\n",
    "# Elimination des Noms peu présents ou incohérents          \n",
    "persos=Counter(perso)\n",
    "stopWords=['je','M.','pensa Julien','C. I','Allez','Mme','Monsieur','Voilà','Madame','madame']\n",
    "finalPersos=[]\n",
    "for p in persos:\n",
    "    if persos[p]>3 and p not in stopWords:\n",
    "        finalPersos.append(p)\n",
    "finalPersos"
   ]
  },
  {
   "cell_type": "markdown",
   "metadata": {},
   "source": [
    "## Récupération des personnages par couples \n",
    "Les tokens étiquetés avec PER ( Personnage ) sont récupérés et mis en relation deux à deux lorsqu'ils se suivent."
   ]
  },
  {
   "cell_type": "code",
   "execution_count": 6,
   "metadata": {},
   "outputs": [],
   "source": [
    "# premier personnage de la relation\n",
    "perso0=\"\"\n",
    "# deuxième personnage de la relation\n",
    "perso1=\"\"\n",
    "\n",
    "# récupération des personnages du chapitre 9\n",
    "doc_fr = nlp_fr(book[9])\n",
    "for token in doc_fr.ents :\n",
    "        if token.label_==\"PER\":\n",
    "            perso0=token.text\n",
    "            perso0=perso0.replace(\"\\n\", \" \").replace(\"\\r\", \" \").strip()\n",
    "            if perso0 in finalPersos:\n",
    "                if perso1!=\"\" and perso0!=perso1 :\n",
    "                    perso.append([perso0,perso1])\n",
    "                perso1=perso0\n",
    "                #print(' {0} :   , {1}' .format(token.text, token.label_))\n",
    "df = pd.DataFrame(data=perso)\n",
    "\n",
    "# Fabrication du fichier csv à partir des données récupérées\n",
    "df.to_csv(\"file.csv\", sep=',',index=False)"
   ]
  },
  {
   "cell_type": "markdown",
   "metadata": {},
   "source": [
    "## Création du graphe pour un chapitre donné"
   ]
  },
  {
   "cell_type": "code",
   "execution_count": 7,
   "metadata": {},
   "outputs": [
    {
     "data": {
      "image/png": "[encoded data removed]",
      "text/plain": [
       "<Figure size 648x432 with 1 Axes>"
      ]
     },
     "metadata": {},
     "output_type": "display_data"
    }
   ],
   "source": [
    "df = pd.read_csv(\"file.csv\")\n",
    "\n",
    "G = nx.from_pandas_edgelist(df, '0', '1',create_using=nx.MultiGraph(),)\n",
    "\n",
    "from collections import Counter\n",
    "width_dict = Counter(G.edges())\n",
    "\n",
    "A=Counter(df['0'])\n",
    "B=Counter(df['1'])\n",
    "n_nodes=A+B\n",
    "\n",
    "edge_width = [ (u,v,value) for ((u, v), value) in width_dict.items()]\n",
    "node_size = [ (u,value) for (u,value) in n_nodes.items()]\n",
    "\n",
    "\n",
    "G2 = nx.Graph()\n",
    "#edge_width\n",
    "for node in node_size:\n",
    "    G2.add_node(node[0], size=node[1]*40)\n",
    "\n",
    "for edge in edge_width:\n",
    "    G2.add_edge(edge[0],edge[1],weight=edge[2])\n",
    "weights = nx.get_edge_attributes(G2,'weight').values()\n",
    "sizes = nx.get_node_attributes(G2,'size').values()\n",
    "\n",
    "pos=nx.spring_layout(G2)\n",
    "\n",
    "plt.figure(1,figsize=(9,6)) \n",
    "nx.draw(G2,pos,node_color='#A0CBE2',node_size=list(sizes),width=list(weights),edge_color='#BB0000',edge_cmap=plt.cm.Blues,with_labels=True,font_size=18)\n",
    "\n",
    "plt.show()\n"
   ]
  }
 ],
 "metadata": {
  "kernelspec": {
   "display_name": "Python 3 (ipykernel)",
   "language": "python",
   "name": "python3"
  },
  "language_info": {
   "codemirror_mode": {
    "name": "ipython",
    "version": 3
   },
   "file_extension": ".py",
   "mimetype": "text/x-python",
   "name": "python",
   "nbconvert_exporter": "python",
   "pygments_lexer": "ipython3",
   "version": "3.9.7"
  }
 },
 "nbformat": 4,
 "nbformat_minor": 2
}
