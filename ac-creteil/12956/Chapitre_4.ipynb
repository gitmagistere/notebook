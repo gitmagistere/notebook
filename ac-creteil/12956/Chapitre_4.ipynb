{
 "cells": [
  {
   "cell_type": "markdown",
   "metadata": {},
   "source": [
    "# Chapitre 4 : les fonctions"
   ]
  },
  {
   "cell_type": "markdown",
   "metadata": {},
   "source": [
    "Nous avons déjà vu beaucoup de fonctions : <code>print</code>, <code>type</code>, <code>len</code>, <code>input</code>, <code>range</code>...\n",
    "Ce sont des fonctions pré-définies (*built-in functions*).\n",
    "Nous avons aussi la possibilité de créer nos propres fonctions ! "
   ]
  },
  {
   "cell_type": "markdown",
   "metadata": {},
   "source": [
    "## 4.1 Intérêt des fonctions"
   ]
  },
  {
   "cell_type": "markdown",
   "metadata": {},
   "source": [
    "Une fonction est une portion de code que l'on peut appeler au besoin (c'est une sorte de sous-programme).\n",
    "\n",
    "L'utilisation des fonctions évite des redondances dans le code : on obtient ainsi des programmes plus courts et plus lisibles.\n",
    "\n",
    "Par exemple, nous avons besoin de convertir à plusieurs reprises des degrés Celsius en degrés Fahrenheit :"
   ]
  },
  {
   "cell_type": "code",
   "execution_count": 1,
   "metadata": {},
   "outputs": [
    {
     "name": "stdout",
     "output_type": "stream",
     "text": [
      "212.0\n",
      "98.6\n",
      "451.4\n"
     ]
    }
   ],
   "source": [
    "print(100.0*9.0/5.0 + 32.0)\n",
    "print(37.0*9.0/5.0 + 32.0)\n",
    "print(233.0*9.0/5.0 + 32.0)"
   ]
  },
  {
   "cell_type": "markdown",
   "metadata": {},
   "source": [
    "La même chose en utilisant une fonction :"
   ]
  },
  {
   "cell_type": "code",
   "execution_count": 2,
   "metadata": {},
   "outputs": [
    {
     "name": "stdout",
     "output_type": "stream",
     "text": [
      "212.0\n",
      "98.6\n",
      "451.4\n"
     ]
    }
   ],
   "source": [
    "def fahrenheit(degre_celsius):\n",
    "        \"\"\" Conversion degré Celsius en degré Fahrenheit \"\"\"\n",
    "        print(degre_celsius*9.0/5.0 + 32.0)\n",
    "fahrenheit(100)\n",
    "fahrenheit(37)\n",
    "fahrenheit(233)"
   ]
  },
  {
   "cell_type": "markdown",
   "metadata": {},
   "source": [
    "## 4.2 L'instruction def (pour définition)"
   ]
  },
  {
   "cell_type": "markdown",
   "metadata": {},
   "source": [
    "**Syntaxe**\n",
    "<pre>\n",
    "def nom_de_la_fonction(parametre1, parametre2, parametre3, ...):\n",
    "    \"\"\" Documentation\n",
    "qu'on peut écrire\n",
    "sur plusieurs lignes \"\"\"\t# docstring entouré de 3 guillemets (ou apostrophes)\n",
    "\n",
    "    bloc d'instructions\t\t# attention à l'indentation\n",
    "\n",
    "    return resultat \t\t# la fonction retourne le contenu de la variable resultat\n",
    "</pre>"
   ]
  },
  {
   "cell_type": "markdown",
   "metadata": {},
   "source": [
    "**Exemple 1**"
   ]
  },
  {
   "cell_type": "code",
   "execution_count": 3,
   "metadata": {},
   "outputs": [],
   "source": [
    "def mapremierefonction():\t# cette fonction n'a pas de paramètre\n",
    "    \"\"\" Cette fonction affiche 'Bonjour' \"\"\"\n",
    "    print(\"Bonjour\")\n",
    "    return # cette fonction ne retourne rien ('None')\n",
    "    # l'instruction return est ici facultative"
   ]
  },
  {
   "cell_type": "markdown",
   "metadata": {},
   "source": [
    "Quand on exécute le code ci-dessus, on peut être surpris de ne rien voir s'afficher, alors que cette fonction contient une instruction <code>print</code>. En fait, exécuter une définition de fonction, c'est la charger en mémoire. Dorénavent, Python connaît le mot *mapremierefonction* et on va pouvoir ensuite utiliser ce nouveau mot pour réaliser un *appel* de cette fonction."
   ]
  },
  {
   "cell_type": "code",
   "execution_count": 4,
   "metadata": {},
   "outputs": [
    {
     "name": "stdout",
     "output_type": "stream",
     "text": [
      "Bonjour\n"
     ]
    }
   ],
   "source": [
    "mapremierefonction()"
   ]
  },
  {
   "cell_type": "markdown",
   "metadata": {},
   "source": [
    "L'accès à la documentation de la fonction se fait avec la fonction pré-définie <code>help</code> :"
   ]
  },
  {
   "cell_type": "code",
   "execution_count": 5,
   "metadata": {},
   "outputs": [
    {
     "name": "stdout",
     "output_type": "stream",
     "text": [
      "Help on function mapremierefonction in module __main__:\n",
      "\n",
      "mapremierefonction()\n",
      "    Cette fonction affiche 'Bonjour'\n",
      "\n"
     ]
    }
   ],
   "source": [
    "help(mapremierefonction)"
   ]
  },
  {
   "cell_type": "markdown",
   "metadata": {},
   "source": [
    "**Exemple 2**\n",
    "\n",
    "La fonction suivante simule le comportement d'un dé à 6 faces.\n",
    "Pour cela, on utilise la fonction <code>randint</code> du module <code>random</code>."
   ]
  },
  {
   "cell_type": "code",
   "execution_count": 39,
   "metadata": {},
   "outputs": [],
   "source": [
    "def tirage_de():\n",
    "    \"\"\" Retourne un nombre entier aléatoire entre 1 et 6 \"\"\"\n",
    "    import random\n",
    "    valeur = random.randint(1, 6)\n",
    "    return valeur"
   ]
  },
  {
   "cell_type": "markdown",
   "metadata": {},
   "source": [
    "Exécutez plusieurs fois l'instruction ci-dessous qui appelle la fonction <code>tirage_de</code>."
   ]
  },
  {
   "cell_type": "code",
   "execution_count": 25,
   "metadata": {},
   "outputs": [
    {
     "name": "stdout",
     "output_type": "stream",
     "text": [
      "5\n"
     ]
    }
   ],
   "source": [
    "print(tirage_de())"
   ]
  },
  {
   "cell_type": "markdown",
   "metadata": {},
   "source": [
    "**Exemple 3**"
   ]
  },
  {
   "cell_type": "code",
   "execution_count": 26,
   "metadata": {},
   "outputs": [
    {
     "name": "stdout",
     "output_type": "stream",
     "text": [
      "Touche q pour quitter\n",
      "Touche Enter pour continuer\n",
      "\n",
      "Tirage : 1\n",
      "\n",
      "Tirage : 1\n",
      "\n",
      "Tirage : 4\n",
      "\n",
      "Tirage : 1\n",
      "\n",
      "Tirage : 2\n",
      "\n",
      "Tirage : 5\n",
      "q\n"
     ]
    }
   ],
   "source": [
    "def info():\n",
    "    \"\"\" Informations \"\"\"\n",
    "    print(\"Touche q pour quitter\")\n",
    "    print(\"Touche Enter pour continuer\")\n",
    "\n",
    "def tirage_de():\n",
    "    \"\"\" Retourne un nombre entier aléatoire entre 1 et 6 \"\"\"\n",
    "    import random\n",
    "    valeur = random.randint(1, 6)\n",
    "    return valeur\n",
    "\n",
    "# début du programme\n",
    "info()\n",
    "while True:\n",
    "    choix = input()\n",
    "    if choix == 'q':\n",
    "        break\n",
    "    print(\"Tirage :\", tirage_de())"
   ]
  },
  {
   "cell_type": "markdown",
   "metadata": {},
   "source": [
    "**Exemple 4 :** Une fonction avec deux paramètres"
   ]
  },
  {
   "cell_type": "code",
   "execution_count": 27,
   "metadata": {},
   "outputs": [
    {
     "name": "stdout",
     "output_type": "stream",
     "text": [
      "8\n",
      "1\n",
      "9\n",
      "3\n",
      "8\n"
     ]
    }
   ],
   "source": [
    "def tirage_de2(valeur_min, valeur_max):\n",
    "    \"\"\" Retourne un nombre entier aléatoire entre valeur_min et valeur_max \"\"\"\n",
    "    import random\n",
    "    return random.randint(valeur_min, valeur_max)\n",
    "\n",
    "# début du programme\n",
    "for i in range(5):\n",
    "    print(tirage_de2(1, 10)) # appel de la fonction avec les arguments 1 et 10"
   ]
  },
  {
   "cell_type": "markdown",
   "metadata": {},
   "source": [
    "**Exemple 5 :** Une fonction qui retourne une liste de nombres aléatoires "
   ]
  },
  {
   "cell_type": "code",
   "execution_count": 36,
   "metadata": {},
   "outputs": [
    {
     "name": "stdout",
     "output_type": "stream",
     "text": [
      "[1, 1, 1, 4, 6, 3, 5, 1, 1, 6]\n"
     ]
    }
   ],
   "source": [
    "def tirage_multiple_de(nombretirage):\n",
    "    \"\"\" Retourne une liste de nombres entiers aléatoires entre 1 et 6 \"\"\"\n",
    "    import random\n",
    "    resultat = [random.randint(1, 6) for i in range(nombretirage)]\t# compréhension de listes : voir l'annexe\n",
    "    return resultat\n",
    "\n",
    "# début du programme\n",
    "print(tirage_multiple_de(10))"
   ]
  },
  {
   "cell_type": "markdown",
   "metadata": {},
   "source": [
    "**Exemple 6:** Une fonction qui affiche la parité d'un nombre entier.\n",
    "\n",
    "Il peut y avoir plusieurs instructions <code>return</code> dans une fonction.\n",
    "L'instruction <code>return</code> provoque le retour immédiat de la fonction."
   ]
  },
  {
   "cell_type": "code",
   "execution_count": 29,
   "metadata": {},
   "outputs": [
    {
     "name": "stdout",
     "output_type": "stream",
     "text": [
      "13 est impair\n",
      "24 est pair\n"
     ]
    }
   ],
   "source": [
    "def parite(nombre):\n",
    "    \"\"\" Affiche la parité d'un nombre entier \"\"\"\n",
    "    if nombre%2 == 1:   # L'opérateur % donne le reste d'une division\n",
    "        print(nombre, 'est impair')\n",
    "        return\n",
    "    if nombre%2 == 0:\n",
    "        print(nombre, 'est pair')\n",
    "        return\n",
    "    \n",
    "## début du programme\n",
    "parite(13)\n",
    "parite(24)"
   ]
  },
  {
   "cell_type": "markdown",
   "metadata": {},
   "source": [
    "## Portée de variables : variables globales et locales"
   ]
  },
  {
   "cell_type": "markdown",
   "metadata": {},
   "source": [
    "La *portée d'une variable* est l'endroit du programme où on peut accéder à la variable.\n",
    "\n",
    "Observons le script suivant :"
   ]
  },
  {
   "cell_type": "code",
   "execution_count": 31,
   "metadata": {},
   "outputs": [],
   "source": [
    "a = 10 # variable globale au programme\n",
    "\n",
    "def mafonction():\n",
    "    a = 20 # variable locale à la fonction\n",
    "    print(a)\n",
    "    return"
   ]
  },
  {
   "cell_type": "code",
   "execution_count": 32,
   "metadata": {},
   "outputs": [
    {
     "name": "stdout",
     "output_type": "stream",
     "text": [
      "a =  10\n",
      "20\n",
      "a =  10\n"
     ]
    }
   ],
   "source": [
    "print(\"a = \", a)\n",
    "mafonction()\n",
    "print(\"a = \", a)"
   ]
  },
  {
   "cell_type": "markdown",
   "metadata": {},
   "source": [
    "Nous avons en fait deux variables différentes qui portent le même nom <code>a</code>.\n",
    "\n",
    "Une variable <code>a</code> de valeur 20 est créée dans la fonction : c'est une *variable locale* à la fonction.\n",
    "Elle est détruite dès que l'on sort de la fonction."
   ]
  },
  {
   "cell_type": "markdown",
   "metadata": {},
   "source": [
    "### L'instruction global"
   ]
  },
  {
   "cell_type": "markdown",
   "metadata": {},
   "source": [
    "L'instruction <code>global</code>, suivie du nom d'une variable, à l'intérieur d'une définition d'une fonction, fait que cette variable devient globale :"
   ]
  },
  {
   "cell_type": "code",
   "execution_count": 34,
   "metadata": {},
   "outputs": [],
   "source": [
    "a = 10 # variable globale\n",
    "\n",
    "def mafonction():\n",
    "    global a # la variable est maintenant globale\n",
    "    a = 20\n",
    "    print(a)\n",
    "    return"
   ]
  },
  {
   "cell_type": "code",
   "execution_count": 35,
   "metadata": {},
   "outputs": [
    {
     "name": "stdout",
     "output_type": "stream",
     "text": [
      "a =  10\n",
      "20\n",
      "a =  20\n"
     ]
    }
   ],
   "source": [
    "print(\"a = \", a)\n",
    "mafonction()\n",
    "print(\"a = \", a)"
   ]
  },
  {
   "cell_type": "markdown",
   "metadata": {},
   "source": [
    "**Remarque :** il est préférable d'éviter l'utilisation de l'instruction <code>global</code> car c'est une source d'erreurs (on peut ainsi modifier le contenu d'une variable globale en croyant agir sur une variable locale).\n",
    "    \n",
    "La sagesse recommande donc de suivre la règle suivante :\n",
    "\n",
    "**Ne jamais affecter dans un bloc de code local une variable de même nom qu'une variable globale.**\n"
   ]
  },
  {
   "cell_type": "markdown",
   "metadata": {},
   "source": [
    "## Annexe : la compréhension de listes"
   ]
  },
  {
   "cell_type": "markdown",
   "metadata": {},
   "source": [
    "La *compréhension de listes* est une structure syntaxique disponible dans un certain nombre de langages de programmation, dont Python.\n",
    "C'est une manière de créer efficacement des listes. Cela consiste à utiliser le **langage des boucles à l'intérieur d'une liste**."
   ]
  },
  {
   "cell_type": "code",
   "execution_count": 3,
   "metadata": {},
   "outputs": [],
   "source": [
    "import random\n",
    "\n",
    "resultat = [random.randint(1, 6) for i in range(10)]\n"
   ]
  },
  {
   "cell_type": "code",
   "execution_count": null,
   "metadata": {},
   "outputs": [],
   "source": []
  },
  {
   "cell_type": "markdown",
   "metadata": {},
   "source": [
    "L'instruction précédente est stritctement équivalente au programme suivant :"
   ]
  },
  {
   "cell_type": "code",
   "execution_count": 41,
   "metadata": {},
   "outputs": [
    {
     "data": {
      "text/plain": [
       "[4, 6, 6, 6, 3, 3, 3, 5, 6, 3]"
      ]
     },
     "execution_count": 41,
     "metadata": {},
     "output_type": "execute_result"
    }
   ],
   "source": [
    "resultat = []\n",
    "for i in range(10):\n",
    "    resultat.append(random.randint(1, 6))"
   ]
  },
  {
   "cell_type": "markdown",
   "metadata": {},
   "source": [
    "**Autre exemple :** liste de carrés de nombres entiers naturels inférieurs à 100."
   ]
  },
  {
   "cell_type": "code",
   "execution_count": 42,
   "metadata": {},
   "outputs": [
    {
     "name": "stdout",
     "output_type": "stream",
     "text": [
      "[0, 1, 4, 9, 16, 25, 36, 49, 64, 81, 100, 121, 144, 169, 196, 225, 256, 289, 324, 361, 400, 441, 484, 529, 576, 625, 676, 729, 784, 841, 900, 961, 1024, 1089, 1156, 1225, 1296, 1369, 1444, 1521, 1600, 1681, 1764, 1849, 1936, 2025, 2116, 2209, 2304, 2401, 2500, 2601, 2704, 2809, 2916, 3025, 3136, 3249, 3364, 3481, 3600, 3721, 3844, 3969, 4096, 4225, 4356, 4489, 4624, 4761, 4900, 5041, 5184, 5329, 5476, 5625, 5776, 5929, 6084, 6241, 6400, 6561, 6724, 6889, 7056, 7225, 7396, 7569, 7744, 7921, 8100, 8281, 8464, 8649, 8836, 9025, 9216, 9409, 9604, 9801]\n"
     ]
    }
   ],
   "source": [
    "carres = [k*k for k in range(100)]\n",
    "print(carres)"
   ]
  }
 ],
 "metadata": {
  "kernelspec": {
   "display_name": "Python 3",
   "language": "python",
   "name": "python3"
  },
  "language_info": {
   "codemirror_mode": {
    "name": "ipython",
    "version": 3
   },
   "file_extension": ".py",
   "mimetype": "text/x-python",
   "name": "python",
   "nbconvert_exporter": "python",
   "pygments_lexer": "ipython3",
   "version": "3.7.3"
  }
 },
 "nbformat": 4,
 "nbformat_minor": 2
}
