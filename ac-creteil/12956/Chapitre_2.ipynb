{
 "cells": [
  {
   "cell_type": "markdown",
   "metadata": {},
   "source": [
    "# CHAPITRE 2 : Les conditions"
   ]
  },
  {
   "cell_type": "markdown",
   "metadata": {},
   "source": [
    "## L'instruction if"
   ]
  },
  {
   "cell_type": "markdown",
   "metadata": {},
   "source": [
    "**Syntaxe :**\n",
    "<pre>\n",
    "if expression:\t\t\t# ne pas oublier le signe de ponctuation ':'\n",
    "    bloc d'instructions\t\t# attention à l'indentation\n",
    "# suite du programme\n",
    "</pre>"
   ]
  },
  {
   "cell_type": "markdown",
   "metadata": {},
   "source": [
    "Si l'expression est vraie (<code>True</code>) alors le bloc d'instructions est exécuté.\n",
    "\n",
    "Si l'expression est fausse (<code>False</code>) on passe directement à la suite du programme."
   ]
  },
  {
   "cell_type": "markdown",
   "metadata": {},
   "source": [
    "**Premier script**"
   ]
  },
  {
   "cell_type": "code",
   "execution_count": 1,
   "metadata": {},
   "outputs": [
    {
     "name": "stdout",
     "output_type": "stream",
     "text": [
      "Note sur 20 : 2\n",
      "Fin du programme\n"
     ]
    }
   ],
   "source": [
    "chaine = input(\"Note sur 20 : \")\n",
    "note = float(chaine)\n",
    "if note >= 10.0:\n",
    "    # ce bloc est exécuté si l'expression (note >= 10.0) est vraie\n",
    "    print(\"J'ai la moyenne\")\n",
    "print(\"Fin du programme\")"
   ]
  },
  {
   "cell_type": "markdown",
   "metadata": {},
   "source": [
    "## L'instruction else"
   ]
  },
  {
   "cell_type": "markdown",
   "metadata": {},
   "source": [
    "Une instruction <code>else</code> est toujours associée à une instruction <code>if</code>."
   ]
  },
  {
   "cell_type": "markdown",
   "metadata": {},
   "source": [
    "**Syntaxe :**\n",
    "<pre>\n",
    "if expression:\n",
    "    bloc d'instructions 1\t\t# attention à l'indentation\n",
    "else:\t\t\t\t\t# else est au même niveau que if\n",
    "    bloc d'instructions 2\t\t# attention à l'indentation\n",
    "# suite du programme\n",
    "</pre>"
   ]
  },
  {
   "cell_type": "markdown",
   "metadata": {},
   "source": [
    "Si l'expression est vraie (<code>True</code>) alors le bloc d'instructions 1 est exécuté.\n",
    "\n",
    "Si l'expression est fausse (<code>False</code>) alors c'est le bloc d'instructions 2 qui est exécuté.\n",
    "\n",
    "Dans tous les cas, on passe ensuite à la suite du programme."
   ]
  },
  {
   "cell_type": "code",
   "execution_count": null,
   "metadata": {},
   "outputs": [],
   "source": [
    "chaine = input(\"Note sur 20 : \")\n",
    "note = float(chaine)\n",
    "if note >= 10.0:\n",
    "    # ce bloc est exécuté si l'expression (note >= 10.0) est vraie\n",
    "    print(\"J'ai la moyenne\")\n",
    "else:\n",
    "    # ce bloc est exécuté si l'expression (note >= 10.0) est fausse\n",
    "    print(\"C'est en dessous de la moyenne\")\n",
    "print(\"Fin du programme\")"
   ]
  },
  {
   "cell_type": "markdown",
   "metadata": {},
   "source": [
    "Pour traiter le cas des notes invalides (<0 ou >20), on peut imbriquer des instructions conditionnelles :"
   ]
  },
  {
   "cell_type": "code",
   "execution_count": null,
   "metadata": {},
   "outputs": [],
   "source": [
    "chaine = input(\"Note sur 20 : \")\n",
    "note = float(chaine)\n",
    "if note > 20.0 or note < 0.0:\n",
    "    # ce bloc est exécuté si l'expression (note > 20.0 or note < 0.0) est vraie\n",
    "    print(\"Note invalide !\")\n",
    "else:\n",
    "    # ce bloc est exécuté si l'expression (note > 20.0 or note < 0.0) est fausse\n",
    "    if note >= 10.0:\n",
    "        # ce bloc est exécuté si l'expression (note >= 10.0) est vraie\n",
    "        print(\"J'ai la moyenne\")\n",
    "    else:\n",
    "        # ce bloc est exécuté si l'expression (note >= 10.0) est fausse\n",
    "        print(\"C'est en dessous de la moyenne\")\n",
    "print(\"Fin du programme\")"
   ]
  },
  {
   "cell_type": "markdown",
   "metadata": {},
   "source": [
    "On ajoute encore un niveau d'imbrication pour traiter les cas particuliers 0 et 20 :"
   ]
  },
  {
   "cell_type": "code",
   "execution_count": null,
   "metadata": {},
   "outputs": [],
   "source": [
    "chaine = input(\"Note sur 20 : \")\n",
    "note = float(chaine)\n",
    "if note > 20.0 or note < 0.0:\n",
    "    print(\"Note invalide !\")\n",
    "else:\n",
    "    if note >= 10.0:\n",
    "        print(\"J'ai la moyenne\")\n",
    "        if note == 20.0:\n",
    "            # ce bloc est exécuté si l'expression (note == 20.0) est vraie\n",
    "            print(\"C'est même excellent !\")\n",
    "    else:\n",
    "        print(\"C'est en dessous de la moyenne\")\n",
    "        if note == 0.0:\n",
    "            # ce bloc est exécuté si l'expression (note == 0.0) est vraie\n",
    "            print(\"... lamentable !\")\n",
    "print(\"Fin du programme\")"
   ]
  },
  {
   "cell_type": "markdown",
   "metadata": {},
   "source": [
    "## L'instruction elif"
   ]
  },
  {
   "cell_type": "markdown",
   "metadata": {},
   "source": [
    "Une instruction <code>elif</code> (contraction de else if) est toujours associée à une instruction <code>if</code>."
   ]
  },
  {
   "cell_type": "markdown",
   "metadata": {},
   "source": [
    "**Syntaxe :**\n",
    "<pre>\n",
    "if expression 1:\n",
    "    bloc d'instructions 1\n",
    "elif expression 2:\n",
    "    bloc d'instructions 2\n",
    "elif expression 3:\n",
    "    bloc d'instructions 3\t# ici deux instructions elif, mais il n'y a pas de limitation\n",
    "else:\n",
    "    bloc d'instructions 4\n",
    "# suite du programme\n",
    "</pre>"
   ]
  },
  {
   "cell_type": "markdown",
   "metadata": {},
   "source": [
    "Si l'expression 1 est vraie alors le bloc d'instructions 1 est exécuté, et on passe à la suite du programme.\n",
    "Si l'expression 1 est fausse alors on teste l'expression 2 :\n",
    "\n",
    "- si l'expression 2 est vraie on exécute le bloc d'instructions 2, et on passe à la suite du programme.\n",
    "- si l'expression 2 est fausse alors on teste l'expression 3, etc.\n",
    "\n",
    "Le bloc d'instructions 4 est donc exécuté si toutes les expressions sont fausses (c'est le bloc \"par défaut\")."
   ]
  },
  {
   "cell_type": "markdown",
   "metadata": {},
   "source": [
    "Parfois il n'y a rien à faire.\n",
    "Dans ce cas, on peut omettre l'instruction <code>else</code> :\n",
    "<pre>\n",
    "if expression 1:\n",
    "    bloc d'instructions 1\n",
    "elif expression 2:\n",
    "    bloc d'instructions 2\n",
    "elif expression 3:\n",
    "    bloc d'instructions 3\n",
    "# suite du programme\n",
    "</pre>"
   ]
  },
  {
   "cell_type": "markdown",
   "metadata": {},
   "source": [
    "L'instruction <code>elif</code> évite souvent l'utilisation de conditions imbriquées (et souvent compliquées)."
   ]
  },
  {
   "cell_type": "code",
   "execution_count": null,
   "metadata": {},
   "outputs": [],
   "source": [
    "note = float(input(\"Note sur 20 : \"))\n",
    "if note == 0.0:\n",
    "    print(\"C'est en dessous de la moyenne\")\n",
    "    print(\"... lamentable !\")\n",
    "elif note == 20.0:\n",
    "    print(\"J'ai la moyenne\")\n",
    "    print(\"C'est même excellent !\")\n",
    "elif note < 10.0 and note > 0.0: # ou bien : elif 0.0 < note < 10.0:\n",
    "    print(\"C'est en dessous de la moyenne\")\n",
    "elif note >= 10.0 and note < 20.0: # ou bien : elif 10.0 <= note < 20.0:\n",
    "    print(\"J'ai la moyenne\")\n",
    "else:\n",
    "    print(\"Note invalide !\")\n",
    "print(\"Fin du programme\")"
   ]
  }
 ],
 "metadata": {
  "kernelspec": {
   "display_name": "Python 3",
   "language": "python",
   "name": "python3"
  },
  "language_info": {
   "codemirror_mode": {
    "name": "ipython",
    "version": 3
   },
   "file_extension": ".py",
   "mimetype": "text/x-python",
   "name": "python",
   "nbconvert_exporter": "python",
   "pygments_lexer": "ipython3",
   "version": "3.7.3"
  }
 },
 "nbformat": 4,
 "nbformat_minor": 2
}
