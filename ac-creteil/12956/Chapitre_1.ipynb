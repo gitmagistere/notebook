{
 "cells": [
  {
   "cell_type": "markdown",
   "metadata": {},
   "source": [
    "\n",
    "# CHAPITRE 1: Variables, types, opérateurs"
   ]
  },
  {
   "cell_type": "markdown",
   "metadata": {
    "slideshow": {
     "slide_type": "-"
    }
   },
   "source": [
    "## Mode d'emploi de ce notebook.\n",
    "Tous les notebooks sont constitués de cellules, soit de texte, comme celle-ci, soit de code Python. L'intérêt de ce type de document est qu'il est complétement interactif : vous mettrez en pratique immédiatement ce que vous venez d'apprendre en essayant vous même des instructions en Python de votre choix. De même, vous pouvez ajouter des commentaires à ce document en créant de nouvelles cellules de texte.\n",
    "\n",
    "Pour éditer une cellule de texte, il suffit de cliquer deux fois dedans. Pour la remettre dans son état initial, appuyer sur Ctrl+Entrée (appuyer d'abord sur Ctrl puis, tout en laissant cette touche enfoncée, appuyer sur la touche Entrée). \n",
    "\n",
    "Pour éditer une cellule Python, cliquer une fois à l'endroit où on veut écrire. On exécute le code Python de la cellule en appuyant également sur Ctrl+Entrée. \n",
    "\n",
    "On ajoute une cellule à la suite de celle sélectionnée en cliquant sur le bouton <img src='plus.jpg' alt='+'> \n",
    "\n",
    "Par défaut, c'est une cellule Python. Si on veut une cellule de texte, on change le mot *code* par *Markdown* grâce à un menu déroulant. <img src='markdown.jpg' alt='markdown'>\n",
    "\n",
    "Pour info, Markdown est un langage à balise plus simple que l'HTML. Pour ne savoir plus, cliquer <a href='https://fr.wikipedia.org/wiki/Markdown'> ici </a>, mais ce n'est pas indispensable pour ce TP. Les cellules de texte d'un notebook acceptent conjointement les langages Markdown et HTML. Si vous voulez voir le code source de cette cellule, il suffit de l'éditer en cliquant deux fois dedans.\n",
    "\n",
    "Les lignes d'une cellule peuvent être numérotées ; c'est très utile pour coder. On active cette fonctionnalité en choisissant *View* dans le menu du notebook, et en cliquant sur *Toggle Line Numbers*.\n",
    "\n",
    "**Ce qu'il faut faire avec ce cours :** \n",
    "- lire le texte et les exemples de programme en Python, \n",
    "- exécuter les cellules Python par Ctrl+Entrée, \n",
    "- **mettre en pratique immédiatement, au fûr et à mesure de la lecture, vos propres instructions en créant de nouvelles cellules Python similaires aux exemples**, et éventuellement ajouter des cellules de texte pour compléter une explication ou ajouter une remarque.\n",
    "\n",
    "A tout moment, vous pouvez créer une nouvelle cellule de code ou de texte si vous souhaitez ajouter des idées à ce fichier ou coder. Effacer une cellule sélectionnée se fait en cliquant sur la paire de ciseaux à côté du bouton '+'. On sélectionne une cellule en cliquant dedans. Un bandeau vertical à gauche de la page, bleu ou vert, indique la cellule sélectionnée.\n",
    "\n",
    "Merci à Fabrice Sincère dont ce cours est intégralement issus (voir <a href=\"http://fsincere.free.fr/isn/python/cours_python.php\">ici</a>).\n",
    "\n",
    "Laurent Briend"
   ]
  },
  {
   "cell_type": "markdown",
   "metadata": {},
   "source": [
    "Une variable est un espace mémoire dans lequel il est possible de stocker une valeur (une donnée)."
   ]
  },
  {
   "cell_type": "markdown",
   "metadata": {},
   "source": [
    "## 0- Noms de variables\n",
    "Le nom d'une variable s'écrit avec des lettres (non accentuées), des chiffres ou bien l'underscore _.\n",
    "\n",
    "Le nom d'une variable ne doit pas commencer par un chiffre.\n",
    "\n",
    "En langage Python, l'usage est de ne pas utiliser de lettres majuscules pour les noms de variables.\n",
    "\n",
    "Exemple : age, mon_age, temperature1"
   ]
  },
  {
   "cell_type": "markdown",
   "metadata": {},
   "source": [
    "## 1- Le type int (integer : nombres entiers)\n",
    "\n",
    "Pour affecter (on dit aussi assigner) la valeur 17 à la variable nommée <code>age</code>, on utilise le caractère <code>=</code> :\n",
    "\n",
    "(c'est là qu'il faut **cliquer dans la cellule de code Python ci-dessous et appuyer sur Ctrl+Entrée pour exécuter le code**. Pas de soucis, vous ne risquez pas de casser votre machine ! Au pire, si le notebook plante, vous ferez dans le menu Kernel Restart, ou bien vous fermez votre navigateur et relancerez Jupyter Notebook ! Pour cette première instruction de toute façon, rien d'extraordinaire va se passer, sauf un 1 qui va s'afficher dans les crochets à côté du mot Entrée. Il ne faudra par contre pas oublier de **bien exécuter le code de tous les exemples du cours** avec ce Ctrl+Entrée pour que tout fonctionne comme prévu.)"
   ]
  },
  {
   "cell_type": "code",
   "execution_count": 1,
   "metadata": {},
   "outputs": [],
   "source": [
    "age = 17"
   ]
  },
  {
   "cell_type": "markdown",
   "metadata": {},
   "source": [
    "La fonction <code>print()</code> affiche la valeur de la variable :"
   ]
  },
  {
   "cell_type": "code",
   "execution_count": 2,
   "metadata": {},
   "outputs": [
    {
     "name": "stdout",
     "output_type": "stream",
     "text": [
      "17\n"
     ]
    }
   ],
   "source": [
    "print(age)"
   ]
  },
  {
   "cell_type": "code",
   "execution_count": 3,
   "metadata": {},
   "outputs": [
    {
     "name": "stdout",
     "output_type": "stream",
     "text": [
      "Votre age est de : 17\n"
     ]
    }
   ],
   "source": [
    "print(\"Votre age est de :\",age)"
   ]
  },
  {
   "cell_type": "markdown",
   "metadata": {},
   "source": [
    "La *fonction* <code>type</code> renvoie le *type* de la variable. On identifie un nom de fonction au fait qu'il est obligatoirement suivi par une paire de parenthèses qui peuvent accueillir un ou plusieurs *arguments*, optionnels pour certaines d'entres elles :"
   ]
  },
  {
   "cell_type": "code",
   "execution_count": null,
   "metadata": {},
   "outputs": [],
   "source": [
    "type(age)"
   ]
  },
  {
   "cell_type": "markdown",
   "metadata": {},
   "source": [
    "<code>int</code> est le type des nombres entiers. \n",
    "\n",
    "On peut changer la valeur d'une variable en utilisant son ancienne valeur qui est alors oubliée."
   ]
  },
  {
   "cell_type": "code",
   "execution_count": null,
   "metadata": {},
   "outputs": [],
   "source": [
    "# ceci est un commentaire\n",
    "age = age + 1 # en plus court : age += 1\n",
    "print(age)\n",
    "age = age - 3 # en plus court : age -= 3\n",
    "print(age)\n",
    "age = age * 2 # en plus court : age *= 2\n",
    "print(age)"
   ]
  },
  {
   "cell_type": "markdown",
   "metadata": {},
   "source": [
    "Lors de l'affectation d'une variable, le membre de droite est évalué."
   ]
  },
  {
   "cell_type": "code",
   "execution_count": null,
   "metadata": {},
   "outputs": [],
   "source": [
    "a = 6 * 3 - 20\n",
    "print(a)"
   ]
  },
  {
   "cell_type": "markdown",
   "metadata": {},
   "source": [
    "La fonction **print** peut avoir plusieurs arguments, séparés par une virgule."
   ]
  },
  {
   "cell_type": "code",
   "execution_count": null,
   "metadata": {},
   "outputs": [],
   "source": [
    "b = 25\n",
    "c = a + 2 * b\n",
    "print(b, c)          # ne pas oublier la virgule"
   ]
  },
  {
   "cell_type": "markdown",
   "metadata": {},
   "source": [
    "L'opérateur <code>//</code> donne la division entière :"
   ]
  },
  {
   "cell_type": "code",
   "execution_count": null,
   "metadata": {},
   "outputs": [],
   "source": [
    "nb_tours = 730 // 360\n",
    "print(nb_tours)"
   ]
  },
  {
   "cell_type": "markdown",
   "metadata": {},
   "source": [
    "L'opérateur <code>%</code> donne le reste de la division entière (opération modulo) :"
   ]
  },
  {
   "cell_type": "code",
   "execution_count": null,
   "metadata": {},
   "outputs": [],
   "source": [
    "angle = 450 % 360\n",
    "print(angle)"
   ]
  },
  {
   "cell_type": "markdown",
   "metadata": {},
   "source": [
    "L'opérateur <code>**</code> donne la puissance :"
   ]
  },
  {
   "cell_type": "code",
   "execution_count": null,
   "metadata": {},
   "outputs": [],
   "source": [
    "mo = 2 ** 20\n",
    "print(mo)\n",
    "racine2 = 2 ** 0.5\n",
    "print(racine2)"
   ]
  },
  {
   "cell_type": "markdown",
   "metadata": {},
   "source": [
    "## 2- Le type float (nombres en virgule flottante)"
   ]
  },
  {
   "cell_type": "code",
   "execution_count": null,
   "metadata": {},
   "outputs": [],
   "source": [
    "b = 17.0 # le séparateur décimal est un point (et non une virgule)\n",
    "print(b)\n",
    "print(type(b))"
   ]
  },
  {
   "cell_type": "code",
   "execution_count": null,
   "metadata": {},
   "outputs": [],
   "source": [
    "c = 14.0/3.0\n",
    "print(c)"
   ]
  },
  {
   "cell_type": "markdown",
   "metadata": {},
   "source": [
    "**Attention:** avec des nombres entiers, l'opérateur <code>/</code> fait une division classique et retourne obligatoirement un type float :"
   ]
  },
  {
   "cell_type": "code",
   "execution_count": 1,
   "metadata": {},
   "outputs": [
    {
     "name": "stdout",
     "output_type": "stream",
     "text": [
      "4.666666666666667\n"
     ]
    }
   ],
   "source": [
    "c = 14/3\n",
    "print(c)"
   ]
  },
  {
   "cell_type": "markdown",
   "metadata": {},
   "source": [
    "### Les fonctions mathématiques"
   ]
  },
  {
   "cell_type": "markdown",
   "metadata": {},
   "source": [
    "Pour utiliser les fonctions mathématiques, il faut commencer par importer le *module* math :"
   ]
  },
  {
   "cell_type": "code",
   "execution_count": null,
   "metadata": {},
   "outputs": [],
   "source": [
    "import math"
   ]
  },
  {
   "cell_type": "markdown",
   "metadata": {},
   "source": [
    "La fonction <code>dir</code> renvoie la liste des fonctions et données d'un module :"
   ]
  },
  {
   "cell_type": "code",
   "execution_count": null,
   "metadata": {},
   "outputs": [],
   "source": [
    "dir(math)"
   ]
  },
  {
   "cell_type": "markdown",
   "metadata": {},
   "source": [
    "Pour appeler une fonction d'un module, la syntaxe est la suivante : **module.fonction(arguments)**"
   ]
  },
  {
   "cell_type": "markdown",
   "metadata": {},
   "source": [
    "Pour accéder à une donnée d'un module : **module.data**"
   ]
  },
  {
   "cell_type": "code",
   "execution_count": null,
   "metadata": {},
   "outputs": [],
   "source": [
    "print(math.pi) # donnée pi du module math (nombre pi)\n",
    "print(math.sin(math.pi/4.0)) # fonction sin() du module math (sinus)\n",
    "print(math.sqrt(2.0)) # fonction sqrt() du module math (racine carrée)\n",
    "print(math.exp(-3.0)) # fonction exp() du module math (exponentielle)\n",
    "print(math.log(math.e)) # fonction log() du module math (logarithme népérien)\n",
    "print(math.sqrt(-5.0)) # quelque chose qui va renvoyer une erreur : on ne peut pas calculer la racine carrée d'un nombre négatif\n",
    "print(\"Hello !\") # une instruction qui ne sera pas exécutée du fait de l'erreur produite par l'instruction précédente"
   ]
  },
  {
   "cell_type": "markdown",
   "metadata": {},
   "source": [
    "Quand on fait une erreur en Python, l'interpréteur fait bien son travail : on a une description de l'erreur et le numéro de la ligne où elle s'est produite. Par contre, cela stoppe le programme et rien après n'est exécuté."
   ]
  },
  {
   "cell_type": "markdown",
   "metadata": {},
   "source": [
    "## 3- Le type str (string : chaîne de caractères)"
   ]
  },
  {
   "cell_type": "code",
   "execution_count": null,
   "metadata": {},
   "outputs": [],
   "source": [
    "nom = 'Dupont' # entre apostrophes\n",
    "print(nom)\n",
    "print(type(nom))\n",
    "prenom = \"Pierre\" # on peut aussi utiliser les guillemets\n",
    "print(prenom)\n",
    "print(nom, prenom) # ne pas oublier la virgule"
   ]
  },
  {
   "cell_type": "markdown",
   "metadata": {},
   "source": [
    "La *concaténation* désigne la mise bout à bout de plusieurs chaînes de caractères. On utilise l'opérateur +"
   ]
  },
  {
   "cell_type": "code",
   "execution_count": null,
   "metadata": {},
   "outputs": [],
   "source": [
    "chaine = nom + prenom # concaténation de deux chaînes de caractères\n",
    "print(chaine)\n",
    "chaine = prenom + nom # concaténation de deux chaînes de caractères\n",
    "print(chaine)\n",
    "chaine = prenom + ' ' + nom\n",
    "print(chaine)\n",
    "chaine = chaine + ' 18 ans' # en plus court : chaine += ' 18 ans'\n",
    "print(chaine)"
   ]
  },
  {
   "cell_type": "markdown",
   "metadata": {},
   "source": [
    "La fonction <code>len</code> renvoie la longueur (length) de la chaîne de caractères :"
   ]
  },
  {
   "cell_type": "code",
   "execution_count": null,
   "metadata": {},
   "outputs": [],
   "source": [
    "print(len(chaine))"
   ]
  },
  {
   "cell_type": "markdown",
   "metadata": {},
   "source": [
    "### Indexage et slicing :"
   ]
  },
  {
   "cell_type": "code",
   "execution_count": null,
   "metadata": {},
   "outputs": [],
   "source": [
    "print(chaine[0]) # premier caractère (indice 0)\n",
    "print(chaine[1]) # deuxième caractère (indice 1)\n",
    "print(chaine[1:4]) # slicing\n",
    "print(chaine[2:]) # slicing\n",
    "print(chaine[-1]) # dernier caractère (indice -1)\n",
    "print(chaine[-6:]) # slicing"
   ]
  },
  {
   "cell_type": "markdown",
   "metadata": {},
   "source": [
    "En résumé :\n",
    "<pre>\n",
    " +---+---+---+---+---+---+\n",
    " | M | u | r | i | e | l |\n",
    " +---+---+---+---+---+---+\n",
    "   0   1   2   3   4   5  \n",
    "  -6  -5  -4  -3  -2  -1\n",
    "</pre>"
   ]
  },
  {
   "cell_type": "markdown",
   "metadata": {},
   "source": [
    "Une chaîne de caractères doit s'écrire entre quotes, mais l'instruction suivante génère une erreur à cause de l'apostrophe déjà présente dans le texte."
   ]
  },
  {
   "cell_type": "code",
   "execution_count": null,
   "metadata": {},
   "outputs": [],
   "source": [
    "chaine = 'Aujourd'hui'"
   ]
  },
  {
   "cell_type": "markdown",
   "metadata": {},
   "source": [
    "Plusieurs façons de contourner cette erreur :"
   ]
  },
  {
   "cell_type": "code",
   "execution_count": null,
   "metadata": {},
   "outputs": [],
   "source": [
    "chaine  = 'Aujourd\\'hui' # séquence d'échappement \\'\n",
    "print(chaine)\n",
    "chaine  = \"Aujourd'hui\" # des guillemets\n",
    "print(chaine)"
   ]
  },
  {
   "cell_type": "markdown",
   "metadata": {},
   "source": [
    "La séquence d'*échappement* **\\n** représente un saut ligne :"
   ]
  },
  {
   "cell_type": "code",
   "execution_count": null,
   "metadata": {},
   "outputs": [],
   "source": [
    "chaine = 'Première ligne\\nDeuxième ligne'\n",
    "print(chaine)"
   ]
  },
  {
   "cell_type": "markdown",
   "metadata": {},
   "source": [
    "Plus simplement, on peut utiliser les triples guillemets (ou les triples apostrophes) pour encadrer une chaîne définie sur plusieurs lignes :"
   ]
  },
  {
   "cell_type": "code",
   "execution_count": null,
   "metadata": {},
   "outputs": [],
   "source": [
    "chaine = \"\"\"Première ligne\n",
    "Deuxième ligne\"\"\"\n",
    "print(chaine)"
   ]
  },
  {
   "cell_type": "markdown",
   "metadata": {},
   "source": [
    "On ne peut pas mélanger les serviettes et les torchons (ici type <code>str</code> et type <code>int</code>) :"
   ]
  },
  {
   "cell_type": "code",
   "execution_count": null,
   "metadata": {},
   "outputs": [],
   "source": [
    "chaine = '17.45'\n",
    "print(type(chaine))\n",
    "<class 'str'>\n",
    "chaine = chaine + 2"
   ]
  },
  {
   "cell_type": "markdown",
   "metadata": {},
   "source": [
    "La fonction <code>float</code> permet de convertir un type <code>str</code> en type <code>float</code>."
   ]
  },
  {
   "cell_type": "code",
   "execution_count": null,
   "metadata": {},
   "outputs": [],
   "source": [
    "chaine = '17.45'\n",
    "nombre = float(chaine)\n",
    "print(nombre)\n",
    "print(type(nombre))\n",
    "nombre = nombre + 2 # en plus court : nombre += 2\n",
    "print(nombre)"
   ]
  },
  {
   "cell_type": "markdown",
   "metadata": {},
   "source": [
    "La fonction <code>input()</code> lance une invite de commande (en anglais : prompt) pour saisir une chaîne de caractères.\n",
    "\n",
    "**Attention** Cette fonction renvoie une chaîne de caractères même si on tape un nombre. Pour obtenir un nombre, une con version en <code>int</code> ou <code>float</code> est nécessaire."
   ]
  },
  {
   "cell_type": "code",
   "execution_count": null,
   "metadata": {},
   "outputs": [],
   "source": [
    "chaine = input(\"Entrer un nombre : \")\n",
    "print(chaine)\n",
    "print(type(chaine))\n",
    "nombre = float(chaine) # conversion de type\n",
    "print(nombre ** 2)"
   ]
  },
  {
   "cell_type": "markdown",
   "metadata": {},
   "source": [
    "Il est possible de faire la même chose en enchaînant les deux fonctions."
   ]
  },
  {
   "cell_type": "code",
   "execution_count": null,
   "metadata": {},
   "outputs": [],
   "source": [
    "nombre = float(input(\"Entrer un nombre : \"))\n",
    "print(nombre ** 2)"
   ]
  },
  {
   "cell_type": "markdown",
   "metadata": {},
   "source": [
    "Avec un nombre entier :"
   ]
  },
  {
   "cell_type": "code",
   "execution_count": null,
   "metadata": {},
   "outputs": [],
   "source": [
    "age = int(input(\"Entrez votre âge : \"))\n",
    "print(\"Dans 10 ans, vous aurez\", age + 10, \"ans.\")"
   ]
  },
  {
   "cell_type": "markdown",
   "metadata": {},
   "source": [
    "## 4- Le type list (liste)"
   ]
  },
  {
   "cell_type": "markdown",
   "metadata": {},
   "source": [
    "Une liste est une structure de données.\n",
    "Le premier élément d'une liste possède l'indice (l'index) 0.\n",
    "Dans une liste, on peut avoir des éléments de plusieurs types."
   ]
  },
  {
   "cell_type": "code",
   "execution_count": null,
   "metadata": {},
   "outputs": [],
   "source": [
    "infoperso = ['Pierre', 'Dupont', 17, 1.75, 72.5]\n",
    "# la liste infoperso contient 5 éléments de types str, str, int, float et float\n",
    "print(type(infoperso))\n",
    "print(infoperso)\n",
    "print('Prénom : ', infoperso[0]) # premier élément (indice 0)\n",
    "print('Age : ', infoperso[2]) # le troisième élément a l'indice 2\n",
    "print('Taille : ', infoperso[3]) # le quatrième élément a l'indice 3"
   ]
  },
  {
   "cell_type": "markdown",
   "metadata": {},
   "source": [
    "La fonction <code>range</code> crée une liste d'entiers régulièrement espacés :"
   ]
  },
  {
   "cell_type": "code",
   "execution_count": null,
   "metadata": {},
   "outputs": [],
   "source": [
    "maliste = range(10)\n",
    "print(list(maliste))\n",
    "print(type(maliste))"
   ]
  },
  {
   "cell_type": "code",
   "execution_count": null,
   "metadata": {},
   "outputs": [],
   "source": [
    "maliste = range(1,10,2) # range(début,fin non comprise,intervalle)\n",
    "print(list(maliste))\n",
    "print(maliste[2]) # le troisième élément a l'indice 2"
   ]
  },
  {
   "cell_type": "markdown",
   "metadata": {},
   "source": [
    "On peut créer une liste de listes, qui s'apparente à un tableau à 2 dimensions (ligne, colonne) :\n",
    "<pre>\n",
    "0  1  2\n",
    "10 11 12\n",
    "20 21 22\n",
    "</pre>"
   ]
  },
  {
   "cell_type": "code",
   "execution_count": null,
   "metadata": {},
   "outputs": [],
   "source": [
    "maliste = [[0, 1, 2], [10, 11, 12], [20, 21, 22]]\n",
    "print(maliste[0])\n",
    "print(maliste[0][0])\n",
    "print(maliste[2][1]) # élément à la troisième ligne et deuxième colonne\n",
    "maliste[2][1] = 69 # nouvelle affectation\n",
    "print(maliste)"
   ]
  },
  {
   "cell_type": "markdown",
   "metadata": {},
   "source": [
    "## 5- Le type bool (booléen)"
   ]
  },
  {
   "cell_type": "markdown",
   "metadata": {},
   "source": [
    "Deux valeurs sont possibles : <code>True</code> et <code>False</code>."
   ]
  },
  {
   "cell_type": "code",
   "execution_count": null,
   "metadata": {},
   "outputs": [],
   "source": [
    "choix = True\n",
    "print(type(choix))"
   ]
  },
  {
   "cell_type": "markdown",
   "metadata": {},
   "source": [
    "Les opérateurs de comparaison :\n",
    "<table>\n",
    "    <tr>\n",
    "        <th>Opérateur</th>\n",
    "        <th>Signification</th>\n",
    "        <th align=\"center\">Remarque</th>\n",
    "    </tr>\n",
    "    <tr>\n",
    "        <td>&lt;</td>\n",
    "        <td>strictement inférieur</td>\n",
    "        <td></td>\n",
    "    </tr>\n",
    "    <tr>\n",
    "        <td>&lt;=</td>\n",
    "        <td>inférieur ou égal</td>\n",
    "        <td></td>\n",
    "    </tr>\n",
    "    <tr>\n",
    "        <td>&gt;</td>\n",
    "        <td>strictement supérieur</td>\n",
    "        <td></td>\n",
    "    </tr>\n",
    "    <tr>\n",
    "        <td>&gt;=</td>\n",
    "        <td>supérieur ou égal</td>\n",
    "        <td></td>\n",
    "    </tr>\n",
    "    <tr>\n",
    "        <td>==</td>\n",
    "        <td>égal</td>\n",
    "        <td>Ne pas confondre avec l'opérateur d'affectation <code>=</code></td>\n",
    "    </tr>\n",
    "    <tr>\n",
    "        <td>!=</td>\n",
    "        <td>différent de</td>\n",
    "        <td></td>\n",
    "    </tr>\n",
    "</table>"
   ]
  },
  {
   "cell_type": "code",
   "execution_count": null,
   "metadata": {},
   "outputs": [],
   "source": [
    "b = 10\n",
    "print(b > 8)\n",
    "print(b == 5)\n",
    "print(b != 10)\n",
    "print(0 <= b <= 20)"
   ]
  },
  {
   "cell_type": "markdown",
   "metadata": {},
   "source": [
    "Les opérateurs logiques : <code>and</code>, <code>or</code>, <code>not</code>."
   ]
  },
  {
   "cell_type": "code",
   "execution_count": null,
   "metadata": {},
   "outputs": [],
   "source": [
    "note = float(input())\n",
    "mention_ab = note >= 12.0 and note < 14.0 # ou bien : mention_ab = 12.0 <= note < 14.0\n",
    "print(mention_ab)\n",
    "print(not mention_ab)\n",
    "print(note == 20.0 or note == 0.0)"
   ]
  },
  {
   "cell_type": "markdown",
   "metadata": {},
   "source": [
    "L'opérateur <code>in</code> s'utilise avec des chaînes (type <code>str</code>) ou des listes (type <code>list</code>) :"
   ]
  },
  {
   "cell_type": "code",
   "execution_count": null,
   "metadata": {},
   "outputs": [],
   "source": [
    "chaine = 'Bonsoir'\n",
    "# la sous-chaîne 'soir' fait-elle partie de la chaîne 'Bonsoir' ?\n",
    "resultat = 'soir' in chaine\n",
    "print(resultat)\n",
    "print('b' in chaine)"
   ]
  },
  {
   "cell_type": "code",
   "execution_count": null,
   "metadata": {},
   "outputs": [],
   "source": [
    "maliste = [4, 8, 15]\n",
    "# le nombre entier 9 est-il dans la liste ?\n",
    "print(9 in maliste)\n",
    "print(8 in maliste)\n",
    "print(14 not in maliste)"
   ]
  },
  {
   "cell_type": "markdown",
   "metadata": {},
   "source": [
    "## 6- Le type dict (dictionnaire)"
   ]
  },
  {
   "cell_type": "markdown",
   "metadata": {},
   "source": [
    "Un dictionnaire stocke des données sous la forme **clé ⇒ valeur**.\n",
    "\n",
    "Une clé est unique et n'est pas nécessairement un entier (comme c'est le cas de l'indice d'une liste)."
   ]
  },
  {
   "cell_type": "code",
   "execution_count": null,
   "metadata": {},
   "outputs": [],
   "source": [
    "moyennes = {'math': 12.5, 'anglais': 15.8} # entre accolades\n",
    "print(type(moyennes))\n",
    "print(moyennes['anglais']) # entre crochets\n",
    "moyennes['anglais'] = 14.3 # nouvelle affectation\n",
    "print(moyennes)\n",
    "moyennes['sport'] = 11.0 # nouvelle entrée\n",
    "print(moyennes)"
   ]
  },
  {
   "cell_type": "markdown",
   "metadata": {},
   "source": [
    "## 7- Notion de méthode ; exemples utiles"
   ]
  },
  {
   "cell_type": "markdown",
   "metadata": {},
   "source": [
    "Il y a des fonctions qui n'ont un sens que pour un type de donnée. On appelle ce genre de fonction des *méthodes*. \n",
    "\n",
    "On appelle les méthodes en écrivant une expression de la forme  <code>variable.nom_de_methode(arguments)</code>."
   ]
  },
  {
   "cell_type": "markdown",
   "metadata": {},
   "source": [
    "### Ajouter un élément à une liste"
   ]
  },
  {
   "cell_type": "code",
   "execution_count": null,
   "metadata": {},
   "outputs": [],
   "source": [
    "amis = [] # une liste vide\n",
    "amis.append('Nicolas') # synthase générale : vaiable.nom_de_méthode(arguments)\n",
    "print(amis)\n",
    "amis.append('Julie') # ou bien : amis = amis + ['Julie']\n",
    "print(amis)\n",
    "amis.append('Pauline')\n",
    "print(amis)"
   ]
  },
  {
   "cell_type": "markdown",
   "metadata": {},
   "source": [
    "### Trier une liste"
   ]
  },
  {
   "cell_type": "markdown",
   "metadata": {},
   "source": [
    "La méthode <code>sort</code> de la classe <code>list</code> effectue un tri."
   ]
  },
  {
   "cell_type": "code",
   "execution_count": null,
   "metadata": {},
   "outputs": [],
   "source": [
    "amis.sort() # la méthode sort() trie les éléments, ici dans l'ordre lexicographique.\n",
    ">>> print(amis)"
   ]
  },
  {
   "cell_type": "markdown",
   "metadata": {},
   "source": [
    "### Inverser l'ordre des éléments d'une liste"
   ]
  },
  {
   "cell_type": "markdown",
   "metadata": {},
   "source": [
    "La méthode <code>reverse</code> de la classe <code>list</code>, appliquée à une liste, inverse l'ordre de la liste : le dernier élément de la liste devient le premier, etc. "
   ]
  },
  {
   "cell_type": "code",
   "execution_count": null,
   "metadata": {},
   "outputs": [],
   "source": [
    "amis.reverse() # la méthode reverse() inverse la liste des éléments\n",
    "print(amis)"
   ]
  },
  {
   "cell_type": "markdown",
   "metadata": {},
   "source": [
    "### Mettre une chaîne de caractères en majuscules ou minuscule"
   ]
  },
  {
   "cell_type": "code",
   "execution_count": null,
   "metadata": {},
   "outputs": [],
   "source": [
    "chaine = \"BONJOUR\"\n",
    "chaine2 = chaine.lower()\n",
    "print(chaine2)\n",
    "chaine3 = chaine2.upper()\n",
    "print(chaine3)"
   ]
  },
  {
   "cell_type": "markdown",
   "metadata": {},
   "source": [
    "### Supprimer une clé d'un dictionnaire"
   ]
  },
  {
   "cell_type": "code",
   "execution_count": null,
   "metadata": {},
   "outputs": [],
   "source": [
    "moyennes = {'sport': 11.0, 'anglais': 14.3, 'math': 12.5}\n",
    "moyennes.pop('anglais') # renvoie la valeur de la clé et la supprime du dictionnaire\n",
    "print(moyennes)"
   ]
  },
  {
   "cell_type": "markdown",
   "metadata": {},
   "source": [
    "### Liste des clés d'un dictionnaire"
   ]
  },
  {
   "cell_type": "code",
   "execution_count": null,
   "metadata": {},
   "outputs": [],
   "source": [
    "print(moyennes.keys())"
   ]
  },
  {
   "cell_type": "markdown",
   "metadata": {},
   "source": [
    "### Liste des valeurs d'un dictionnaire"
   ]
  },
  {
   "cell_type": "code",
   "execution_count": null,
   "metadata": {},
   "outputs": [],
   "source": [
    "print(moyennes.values())"
   ]
  }
 ],
 "metadata": {
  "kernelspec": {
   "display_name": "Python 3",
   "language": "python",
   "name": "python3"
  },
  "language_info": {
   "codemirror_mode": {
    "name": "ipython",
    "version": 3
   },
   "file_extension": ".py",
   "mimetype": "text/x-python",
   "name": "python",
   "nbconvert_exporter": "python",
   "pygments_lexer": "ipython3",
   "version": "3.7.3"
  }
 },
 "nbformat": 4,
 "nbformat_minor": 2
}
