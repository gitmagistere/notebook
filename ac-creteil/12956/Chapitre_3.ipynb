{
 "cells": [
  {
   "cell_type": "markdown",
   "metadata": {},
   "source": [
    "# Chapitre 3 : les boucles"
   ]
  },
  {
   "cell_type": "markdown",
   "metadata": {},
   "source": [
    "Une boucle permet d'exécuter une portion de code plusieurs fois de suite."
   ]
  },
  {
   "cell_type": "markdown",
   "metadata": {},
   "source": [
    "## 3.1 - L'instruction while"
   ]
  },
  {
   "cell_type": "markdown",
   "metadata": {},
   "source": [
    "**Syntaxe :**\n",
    "<pre>\n",
    "while expression:\t\t# ne pas oublier le signe de ponctuation ':'\n",
    "    bloc d'instructions\t\t# attention à l'indentation\n",
    "# suite du programme\n",
    "</pre>"
   ]
  },
  {
   "cell_type": "markdown",
   "metadata": {},
   "source": [
    "Si l'expression est vraie (<code>True</code>) le bloc d'instructions est exécuté, puis l'expression est à nouveau évaluée.\n",
    "\n",
    "**Le cycle continue jusqu'à ce que l'expression soit fausse (<code>False</code>)** : on passe alors à la suite du programme."
   ]
  },
  {
   "cell_type": "code",
   "execution_count": null,
   "metadata": {},
   "outputs": [],
   "source": [
    "compteur = 1\n",
    "while compteur < 5:\n",
    "    # ce bloc est exécuté tant que la condition (compteur < 5) est vraie\n",
    "    print(compteur, compteur < 5)\n",
    "    compteur += 1    # incrémentation du compteur, compteur = compteur + 1\n",
    "print(compteur < 5)\n",
    "print(\"Fin de la boucle\")"
   ]
  },
  {
   "cell_type": "markdown",
   "metadata": {},
   "source": [
    "**Table de multiplication par 8:**"
   ]
  },
  {
   "cell_type": "code",
   "execution_count": 1,
   "metadata": {},
   "outputs": [
    {
     "name": "stdout",
     "output_type": "stream",
     "text": [
      "1 * 8 = 8\n",
      "2 * 8 = 16\n",
      "3 * 8 = 24\n",
      "4 * 8 = 32\n",
      "5 * 8 = 40\n",
      "6 * 8 = 48\n",
      "7 * 8 = 56\n",
      "8 * 8 = 64\n",
      "9 * 8 = 72\n",
      "10 * 8 = 80\n",
      "Et voilà !\n"
     ]
    }
   ],
   "source": [
    "compteur = 1 # in itialisation de la variable de comptage\n",
    "while compteur <= 10:\n",
    "    # ce bloc est exécuté tant que la condition (compteur <= 10) est vraie\n",
    "    print(compteur, '* 8 =', compteur*8)\n",
    "    compteur += 1    # incrémentation du compteur, compteur = compteur + 1\n",
    "print(\"Et voilà !\")"
   ]
  },
  {
   "cell_type": "markdown",
   "metadata": {},
   "source": [
    "**Affichage de l'heure courante**"
   ]
  },
  {
   "cell_type": "code",
   "execution_count": 2,
   "metadata": {},
   "outputs": [
    {
     "name": "stdout",
     "output_type": "stream",
     "text": [
      "Heure courante  23:15:21\n",
      "Voulez-vous quitter le programme (o/n) ? n\n",
      "Heure courante  23:15:27\n",
      "Voulez-vous quitter le programme (o/n) ? o\n",
      "A bientôt\n"
     ]
    }
   ],
   "source": [
    "import time     # importation du module time\n",
    "quitter = 'n'   # initialisation\n",
    "while quitter != 'o':\n",
    "    # ce bloc est exécuté tant que la condition est vraie\n",
    "    # strftime() est une fonction du module time\n",
    "    print('Heure courante ', time.strftime('%H:%M:%S'))\n",
    "    quitter = input(\"Voulez-vous quitter le programme (o/n) ? \")\n",
    "print(\"A bientôt\")"
   ]
  },
  {
   "cell_type": "markdown",
   "metadata": {},
   "source": [
    "## 3.2- L'instruction for"
   ]
  },
  {
   "cell_type": "markdown",
   "metadata": {},
   "source": [
    "**Syntaxe**\n",
    "<pre>\n",
    "for élément in séquence :\n",
    "    bloc d'instructions # attention à l'indentation\n",
    "# suite du programme\n",
    "</pre>"
   ]
  },
  {
   "cell_type": "markdown",
   "metadata": {},
   "source": [
    "**Les éléments de la séquence sont issus d'une chaîne de caractères ou bien d'une liste.**\n",
    "Exemple avec une chaine :"
   ]
  },
  {
   "cell_type": "code",
   "execution_count": 3,
   "metadata": {},
   "outputs": [
    {
     "name": "stdout",
     "output_type": "stream",
     "text": [
      "B\n",
      "o\n",
      "n\n",
      "s\n",
      "o\n",
      "i\n",
      "r\n",
      "Fin de la boucle\n"
     ]
    }
   ],
   "source": [
    "chaine = 'Bonsoir'\n",
    "for lettre in chaine:\t\t# lettre est la variable d'itération\n",
    "    print(lettre)\n",
    "print(\"Fin de la boucle\")"
   ]
  },
  {
   "cell_type": "markdown",
   "metadata": {},
   "source": [
    "La variable lettre est initialisée avec le premier élément de la séquence ('B').\n",
    "Le bloc d'instructions est alors exécuté.\n",
    "Puis la variable lettre est mise à jour avec le second élément de la séquence ('o') et le bloc d'instructions à nouveau exécuté...\n",
    "Le bloc d'instructions est exécuté une dernière fois lorsqu'on arrive au dernier élément de la séquence ('r')."
   ]
  },
  {
   "cell_type": "markdown",
   "metadata": {},
   "source": [
    "Exemple avec une liste :"
   ]
  },
  {
   "cell_type": "code",
   "execution_count": null,
   "metadata": {},
   "outputs": [],
   "source": [
    "maliste = ['Pierre', 67.5, 18]\n",
    "for element in maliste:\n",
    "    print(element)\n",
    "print(\"Fin de la boucle\")"
   ]
  },
  {
   "cell_type": "markdown",
   "metadata": {},
   "source": [
    "### Fonction range"
   ]
  },
  {
   "cell_type": "markdown",
   "metadata": {},
   "source": [
    "L'association avec la fonction <code>range</code> est très utile pour créer des séquences automatiques de nombres entiers :"
   ]
  },
  {
   "cell_type": "code",
   "execution_count": null,
   "metadata": {},
   "outputs": [],
   "source": [
    "print(list(range(1,5)))\n",
    "\n",
    "for i in range(1,5):\n",
    "    print(i)\n",
    "print(\"Fin de la boucle\")"
   ]
  },
  {
   "cell_type": "markdown",
   "metadata": {},
   "source": [
    "**Table de multiplication**\n",
    "\n",
    "La création d'une table de multiplication paraît plus simple avec une boucle for qu'avec une boucle while :"
   ]
  },
  {
   "cell_type": "code",
   "execution_count": 4,
   "metadata": {},
   "outputs": [
    {
     "name": "stdout",
     "output_type": "stream",
     "text": [
      "1 * 9 = 9\n",
      "2 * 9 = 18\n",
      "3 * 9 = 27\n",
      "4 * 9 = 36\n",
      "5 * 9 = 45\n",
      "6 * 9 = 54\n",
      "7 * 9 = 63\n",
      "8 * 9 = 72\n",
      "9 * 9 = 81\n",
      "10 * 9 = 90\n",
      "Et voilà !\n"
     ]
    }
   ],
   "source": [
    "for compteur in range(1,11):\n",
    "    print(compteur, '* 9 =', compteur * 9)\n",
    "print(\"Et voilà !\")"
   ]
  },
  {
   "cell_type": "markdown",
   "metadata": {},
   "source": [
    "### L'instruction break"
   ]
  },
  {
   "cell_type": "markdown",
   "metadata": {},
   "source": [
    "L'instruction <code>break</code> provoque une sortie immédiate d'une boucle <code>while</code> ou d'une boucle <code>for</code>.\n",
    "\n",
    "Dans l'exemple suivant, l'expression <code>True</code> est toujours ... vraie : on a une boucle sans fin.\n",
    "\n",
    "L'instruction <code>break</code> est donc le seul moyen de sortir de la boucle."
   ]
  },
  {
   "cell_type": "code",
   "execution_count": 5,
   "metadata": {},
   "outputs": [
    {
     "name": "stdout",
     "output_type": "stream",
     "text": [
      "Heure courante  23:24:53\n",
      "Voulez-vous quitter le programme (o/n) ? n\n",
      "Heure courante  23:24:58\n",
      "Voulez-vous quitter le programme (o/n) ? n\n",
      "Heure courante  23:25:00\n",
      "Voulez-vous quitter le programme (o/n) ? n\n",
      "Heure courante  23:25:01\n",
      "Voulez-vous quitter le programme (o/n) ? o\n",
      "A bientôt\n"
     ]
    }
   ],
   "source": [
    "import time     # importation du module time\n",
    "while True:\n",
    "    # strftime() est une fonction du module time\n",
    "    print('Heure courante ', time.strftime('%H:%M:%S'))\n",
    "    quitter = input('Voulez-vous quitter le programme (o/n) ? ')\n",
    "    if quitter == 'o':\n",
    "        break\n",
    "print(\"A bientôt\")"
   ]
  },
  {
   "cell_type": "markdown",
   "metadata": {},
   "source": [
    "**Astuce**\n",
    "\n",
    "Si vous connaissez le nombre de boucles à effectuer, utiliser une boucle <code>for</code>.\n",
    "Autrement, utiliser une boucle <code>while</code> (notamment pour faire des boucles sans fin)."
   ]
  }
 ],
 "metadata": {
  "kernelspec": {
   "display_name": "Python 3",
   "language": "python",
   "name": "python3"
  },
  "language_info": {
   "codemirror_mode": {
    "name": "ipython",
    "version": 3
   },
   "file_extension": ".py",
   "mimetype": "text/x-python",
   "name": "python",
   "nbconvert_exporter": "python",
   "pygments_lexer": "ipython3",
   "version": "3.7.3"
  }
 },
 "nbformat": 4,
 "nbformat_minor": 2
}
