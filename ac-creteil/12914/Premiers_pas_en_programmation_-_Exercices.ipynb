{
 "cells": [
  {
   "cell_type": "markdown",
   "metadata": {},
   "source": [
    "# Premiers pas en programmation -  Exercices\n",
    "\n",
    "## Exercice 1\n",
    "\n",
    "Ecrire un programme qui demande à l'utilisateur deux nombres, qui en fait la somme et qui affiche le résultat."
   ]
  },
  {
   "cell_type": "code",
   "execution_count": 1,
   "metadata": {
    "collapsed": true
   },
   "outputs": [],
   "source": [
    "#Votre programme est à écrire ici !\n"
   ]
  },
  {
   "cell_type": "markdown",
   "metadata": {},
   "source": [
    "## Exercice 2\n",
    "\n",
    "Ecrire un programme qui demande à l'utilisateur deux nombres, qui fait le quotient et qui affiche le résultat."
   ]
  },
  {
   "cell_type": "code",
   "execution_count": 11,
   "metadata": {
    "collapsed": true
   },
   "outputs": [],
   "source": []
  },
  {
   "cell_type": "markdown",
   "metadata": {},
   "source": [
    "## Exercice 3\n",
    "\n",
    "Nous fournissons ci-dessous un programme tout fait qui anime à l'écran une petite balle qui tombe. \n",
    "\n",
    "1. Modifier ce programme pour qu'il fasse rebondir la balle quand elle touche le sol (d'ordonnée y = 500). Votre modification doit être écrite entre les commentaires l'indicant :\n",
    "\n",
    "################################   Votre code ici  ##################################\n",
    "################################ Fin de votre code ##################################\n",
    "\n",
    "Un indice : repartir dans l'autre sens (verticalement), c'est faire vy = -abs(vy).\n",
    "\n",
    "2. Modifier ce programme pour que la balle rebondisse aussi sur les 'murs' (d'ordonnée x = 0 et x = 500)."
   ]
  },
  {
   "cell_type": "code",
   "execution_count": 2,
   "metadata": {
    "collapsed": true
   },
   "outputs": [],
   "source": [
    "from tkinter import *\n",
    "from tkinter import ttk\n",
    "\n",
    "################################ Initialisation ############################################\n",
    "\n",
    "x, y = 50,50\n",
    "amortissement = 0\n",
    "vx, vy = 1,0\n",
    "\n",
    "HAUTEUR_CANEVAS = 500\n",
    "LARGEUR_CANEVAS = 500\n",
    "DIAMETRE_DE_LA_BALLE = 30\n",
    "\n",
    "fenetre = Tk()\n",
    "fenetre.title(\"Lancer d'une balle\")\n",
    "fenetre.configure(background='gray')\n",
    "\n",
    "canevas = Canvas(fenetre, width=LARGEUR_CANEVAS, height=HAUTEUR_CANEVAS)\n",
    "canevas.grid(row=0, column=0, padx=5, pady=5, sticky=(N, S, E, W))\n",
    "fenetre.columnconfigure(0, weight=1)\n",
    "fenetre.rowconfigure(0, weight=1)\n",
    "\n",
    "forme = canevas.create_rectangle(0,0,500,500, fill=\"pink\")\n",
    "forme = canevas.create_oval(x, y, x + DIAMETRE_DE_LA_BALLE, y + DIAMETRE_DE_LA_BALLE, fill=\"red\")\n",
    "\n",
    "############################################################################################\n",
    "\n",
    "def animation():\n",
    "    \"\"\"\n",
    "    animation de la balle qui tombe\n",
    "    \"\"\"\n",
    "    global vx, vy, x,y\n",
    "    vy = vy + 0.05\n",
    "    x = x + vx\n",
    "    y = y + vy\n",
    "    liste_coords = canevas.coords(forme)\n",
    "    canevas.move(forme, int(vx), int(vy))\n",
    "    \n",
    "################################   Votre code ici  ##################################\n",
    "\n",
    "\n",
    "################################ Fin de votre code ##################################\n",
    "\n",
    "    canevas.after(10, animation)\n",
    "    return()\n",
    "\n",
    "# démarrage\n",
    "animation()\n",
    "fenetre.mainloop()"
   ]
  }
 ],
 "metadata": {
  "kernelspec": {
   "display_name": "Python 3",
   "language": "python",
   "name": "python3"
  },
  "language_info": {
   "codemirror_mode": {
    "name": "ipython",
    "version": 3
   },
   "file_extension": ".py",
   "mimetype": "text/x-python",
   "name": "python",
   "nbconvert_exporter": "python",
   "pygments_lexer": "ipython3",
   "version": "3.4.5"
  }
 },
 "nbformat": 4,
 "nbformat_minor": 2
}
