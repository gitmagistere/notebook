{
 "cells": [
  {
   "cell_type": "markdown",
   "metadata": {},
   "source": [
    "# Exemple de méthode pour tracer des vecteurs accélération #"
   ]
  },
  {
   "cell_type": "markdown",
   "metadata": {},
   "source": [
    "On présente ci-dessous un exemple de tracé de vecteurs vitesse instantanée et accélération aux différentes positions d'un solide sur une trajectoire.<br>\n",
    "Les positions sont issues d'un pointage sur une vidéo et entrées dans des listes pour être exploitées dans ce notebook.<br>\n",
    "Dans un programme Python, on ouvrirait le fichier de mesures au format *csv*.<br>\n",
    "Les lignes de commandes sont commentées mais vous pouvez obtenir plus de précisions dans [la boite à outils Python](https://xofe14.scenari-community.org/Publications/Formations/0_Boite_a_outils_Python_web/co/0_module_Boite_a_outils_Python.html)."
   ]
  },
  {
   "cell_type": "code",
   "execution_count": null,
   "metadata": {},
   "outputs": [],
   "source": [
    "\"\"\"Importation de la bibliothèque nécessaire\"\"\"\n",
    "import matplotlib.pyplot as plt  # Importation de la bibliothèque graphique"
   ]
  },
  {
   "cell_type": "code",
   "execution_count": null,
   "metadata": {},
   "outputs": [],
   "source": [
    "\"\"\"Ci-dessous : saisies des listes des dates, des abscisses et des ordonnées issues de pointages\"\"\"\n",
    "t = [0., 0.04, 0.08, 0.12, 0.16, 0.2, 0.24, 0.28, 0.32, 0.36, 0.4, 0.44, 0.48, 0.52, 0.56, 0.6, 0.64, 0.68, 0.72, 0.76, 0.8, 0.84]\n",
    "x = [-1.15, -1.05, -0.95, -0.84, -0.73, -0.63, -0.52, -0.41, -0.31, -0.20, -0.09, 0.02, 0.13, 0.23, 0.34, 0.45, 0.56, 0.67, 0.77, 0.88, 0.98, 1.08]\n",
    "y = [0.09, 0.22, 0.33, 0.43, 0.51, 0.57, 0.62, 0.64, 0.65, 0.64, 0.62, 0.57, 0.51, 0.43, 0.33, 0.21, 0.07, -0.08, -0.25, -0.44, -0.65, -0.87]"
   ]
  },
  {
   "cell_type": "markdown",
   "metadata": {},
   "source": [
    "## Détermination des composantes des vecteurs vitesse instantanée ##\n",
    "On calcule les composantes du vecteur vitesse instantanée par les relations :\n",
    "* $v_x = \\dfrac{x_{i+1}-x_{i-1}}{t_{i+1}-t_{i-1}}$ ;\n",
    "* $v_y = \\dfrac{y_{i+1}-y_{i-1}}{t_{i+1}-t_{i-1}}$.<br>\n",
    "Ci-dessous la transposition en langage Python :"
   ]
  },
  {
   "cell_type": "code",
   "execution_count": null,
   "metadata": {},
   "outputs": [],
   "source": [
    "vx = [(x[i+1] - x[i-1]) / (t[i+1] - t[i-1]) for i in range(1, len(x) - 1)]  # Attention : la vitesse ne peut pas être calculée à l'instant initial et à la dernière position\n",
    "vy = [(y[i+1] - y[i-1]) / (t[i+1] - t[i-1]) for i in range(1, len(x) - 1)]  # Même remarque que pour vx\n",
    "#print(vx)  # Décommenter pour vérifier les valeurs\n",
    "#print(vy)  # Décommenter pour varifier les valeurs"
   ]
  },
  {
   "cell_type": "markdown",
   "metadata": {},
   "source": [
    "## Détermination des composantes des vecteurs accélération ##\n",
    "On calcule les composantes du vecteur vitesse instantanée par les relations :\n",
    "* $a_x = \\dfrac{v_{x_{i+1}}-v_{x_{i-1}}}{t_{i+1}-t_{i-1}}$ ;\n",
    "* $a_y = \\dfrac{v_{y_{i+1}}-v_{y_{i-1}}}{t_{i+1}-t_{i-1}}$.<br>\n",
    "Ci-dessous la transposition en langage Python :"
   ]
  },
  {
   "cell_type": "code",
   "execution_count": null,
   "metadata": {},
   "outputs": [],
   "source": [
    "ax = [(vx[i+1] - vx[i-1]) / (t[i+1] - t[i-1]) for i in range(1, len(vx) - 1)]  # Attention : l'accélération ne peut pas être calculée pour les première et dernière valeurs de la vitesse\n",
    "ay = [(vy[i+1] - vy[i-1]) / (t[i+1] - t[i-1]) for i in range(1, len(vx) - 1)]  # Même remarque que pour ax\n",
    "#print(ax)  # Décommenter pour vérifier les valeurs\n",
    "#print(ay)  # Décommenter pour varifier les valeurs"
   ]
  },
  {
   "cell_type": "markdown",
   "metadata": {},
   "source": [
    "## Tracé des vecteurs ##\n",
    "On construit ci-dessous la figure avec : \n",
    "* les positions successives du solide ;\n",
    "* les vecteurs vitesse instantanée $\\vec v_i$ ;\n",
    "* les vecteurs accélération $\\vec a_i$."
   ]
  },
  {
   "cell_type": "code",
   "execution_count": null,
   "metadata": {},
   "outputs": [],
   "source": [
    "plt.figure(1)  # Déclaration du graphique n°1 (pas indispensable si on ne trace pas plusieurs représentations graphiques)\n",
    "plt.title(\"Tracé des vecteurs vitesse instantanée et accélération\")\n",
    "plt.axis('equal')\n",
    "plt.plot(x, y, \"ko\", label = \"Positions successives\")  # On place les positions successives du solide\n",
    "v = plt.quiver(x[1:-1:], y[1:-1:], vx[::], vy[::], units = \"dots\", angles = \"xy\", scale = 0.1, color = \"red\", label = \"Vitesses\")  # Tracé des vecteurs vitesse\n",
    "plt.quiverkey(v, 0.85, 0.9, 2, coordinates = \"axes\", label = \"$2\\ \\mathrm{m \\cdot s^{-1}}$\")  # définition d'un vecteur pour l'échelle\n",
    "a = plt.quiver(x[2:-2:], y[2:-2:], ax, ay, units=\"dots\", angles = \"xy\", scale = 0.1, color = \"blue\", label = \"Accélérations\")  # Tracé des vecteurs accélération\n",
    "plt.quiverkey(a, 0.85, 0.75, 5, coordinates = \"axes\", label = \"$5\\ \\mathrm{m \\cdot s^{-2}}$\")\n",
    "plt.grid()\n",
    "plt.legend()\n",
    "plt.show()"
   ]
  }
 ],
 "metadata": {
  "kernelspec": {
   "display_name": "Python 3",
   "language": "python",
   "name": "python3"
  },
  "language_info": {
   "codemirror_mode": {
    "name": "ipython",
    "version": 3
   },
   "file_extension": ".py",
   "mimetype": "text/x-python",
   "name": "python",
   "nbconvert_exporter": "python",
   "pygments_lexer": "ipython3",
   "version": "3.8.5"
  }
 },
 "nbformat": 4,
 "nbformat_minor": 4
}
