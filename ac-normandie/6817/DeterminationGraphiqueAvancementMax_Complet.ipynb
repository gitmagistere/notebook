{
 "cells": [
  {
   "cell_type": "markdown",
   "metadata": {},
   "source": [
    "# Détermination graphique de l'avancement maximal d'une réaction chimique"
   ]
  },
  {
   "cell_type": "markdown",
   "metadata": {},
   "source": [
    "Il s'agit d'exploiter les variations des quantités de matière des réactifs pour estimer **graphiquement** la valeur de l'avancement maximal de la réaction.\n",
    "Pour exécuter les cellules de code Pyton de cette page : cliquer sur la cellule et utiliser la combinaison de touches MAJ + ENTRÉE. Certaines cellules ne renvoie rien mais doivent quand même être exécutées.\n",
    "\n",
    "On se propose de détailler la méthode pour tracer progressivement les variations des nombres de moles des réactifs et produits en fonction de l'avancement *x*, en vue de la détermination graphique de l'avancement maximal x<sub>max</sub>.\n",
    "\n",
    "Les zones à compléter dans les cellules de code sont matérialisées par des **.......................**"
   ]
  },
  {
   "cell_type": "code",
   "execution_count": 1,
   "metadata": {},
   "outputs": [],
   "source": [
    "# On commence par importer les bibliothèques permettant de tracer des graphiques\n",
    "# et de gérer des tableaux de valeurs\n",
    "import matplotlib.pyplot as plt  # On utilise le nom raccourci plt au lieu de pyplot\n",
    "%matplotlib widget"
   ]
  },
  {
   "cell_type": "markdown",
   "metadata": {},
   "source": [
    "## Composition initiale du système chimique ##"
   ]
  },
  {
   "cell_type": "markdown",
   "metadata": {},
   "source": [
    "On considère la réaction de combustion du méthane donnée ci-dessous :  \n",
    "<center> CH<sub>4</sub> + 2 O<sub>2</sub> -> CO<sub>2</sub> + 2 H<sub>2</sub>O </center>"
   ]
  },
  {
   "cell_type": "markdown",
   "metadata": {},
   "source": [
    "* Le réactif n°1 est le méthane CH<sub>4</sub>.</br>\n",
    "* Le réactif n°2 est le dioxygène O<sub>2</sub>.</br>\n",
    "Les quantités de matière des réactifs et produits ainsi que l'avancement sont stockés dans des tableaux.\n",
    "La première valeur du tableau contient la quantité de matière initiale du réactif ou produit concerné.\n",
    "\n",
    "On utilise dans un premier temps :\n",
    "* Quantité de matière initiale de méthane : 0.5 mol\n",
    "* quantité de matière initiale de dioxygène : 1.25 mol\n",
    "* **On considère que les quantités de matière initiales des produits de la réaction sont nulles.**\n",
    "\n",
    "Une fois complétée, exécutez la cellule ci-dessous. Elle ne doit renvoyer aucun code d'erreur."
   ]
  },
  {
   "cell_type": "code",
   "execution_count": 2,
   "metadata": {},
   "outputs": [],
   "source": [
    "x = [0]  # x est une liste dont la première valeur est 0\n",
    "dx = 0.005  # Lors des calculs, l'avancement x varie par pas de 0.005 mol\n",
    "nMethane = [0.5]  # On fixe à 0.5 mol la qdm initiale de méthane.\n",
    "nDioxygene = [1.25]  # Compléter cette ligne pour que la première valeur du tableau contienne la qdm initiale de O2\n",
    "nDioxydeC = [0]  # À compléter comme précédemment\n",
    "nEau = [0]  # À compléter comme précédemment"
   ]
  },
  {
   "cell_type": "markdown",
   "metadata": {},
   "source": [
    "## Rappel sur les listes en Python ##\n",
    "Quelques précisions pour traduire en langage Python les relations entre les quantités de matière et l'avancement x.\n",
    "* la valeur de l'avancement x à l'instant t du calcul correspond à **la dernière valeur de la liste x, soit en Python x[-1]** ;\n",
    "* pour ajouter une valeur à la fin d'une liste Python, la syntaxe est **liste.append(Valeur à ajouter)**, où *liste* est le nom de la liste à modifier."
   ]
  },
  {
   "cell_type": "markdown",
   "metadata": {},
   "source": [
    "## Évolution des quantités de matière en fonction de l'avancement x ##\n",
    "Afin de poursuivre, répondez dans un premier temps aux questions suivantes.\n",
    "1. Construire le tableau d'avancement de la réaction.\n",
    "2. Relever les expressions des quantités de matière des réactifs et produits en cours de réaction en fonction de l'avancement *x*. Au brouillon, traduire ces expressions en langage Python en exploitant la syntaxe sur les listes.\n",
    "3. La réaction n'est pas terminée tant que la quantité de matière de méthane est supérieure strictement à 0 **et** que la quantité de matière de dioxygène est supérieure strictement à 0. Comment cela s'écrit-il en syntaxe Python ?"
   ]
  },
  {
   "cell_type": "markdown",
   "metadata": {},
   "source": [
    "Utilisez les réponses aux questions précédentes pour compléter les lignes de programme ci-dessous.\n",
    "Puis exécutez la cellule."
   ]
  },
  {
   "cell_type": "code",
   "execution_count": 3,
   "metadata": {},
   "outputs": [],
   "source": [
    "while (nMethane[-1] > 0) and (nDioxygene[-1]):  # La boucle s'exécute tant que la réaction chimique n'est pas terminée\n",
    "    x.append(x[-1] + dx)  # On construit les listes pas à pas, en ajoutant une nouvelle valeur en fin de liste (append)\n",
    "    nMethane.append(nMethane[0] - x[-1])\n",
    "    nDioxygene.append(nDioxygene[0] - 2 * x[-1])\n",
    "    nDioxydeC.append(x[-1])\n",
    "    nEau.append(2 * x[-1])"
   ]
  },
  {
   "cell_type": "markdown",
   "metadata": {},
   "source": [
    "## Tracé des représentations graphiques ##"
   ]
  },
  {
   "cell_type": "markdown",
   "metadata": {},
   "source": [
    "Si l'exécution de la cellule précédente ne renvoie pas d'erreur, exécutez la cellule ci-dessous permettant d'obtenir les représentations graphiques."
   ]
  },
  {
   "cell_type": "code",
   "execution_count": 4,
   "metadata": {},
   "outputs": [
    {
     "data": {
      "application/vnd.jupyter.widget-view+json": {
       "model_id": "54658b7b72f745f3a760d8af5b177f81",
       "version_major": 2,
       "version_minor": 0
      },
      "text/plain": [
       "Canvas(toolbar=Toolbar(toolitems=[('Home', 'Reset original view', 'home', 'home'), ('Back', 'Back to previous …"
      ]
     },
     "metadata": {},
     "output_type": "display_data"
    }
   ],
   "source": [
    "\"\"\"NE PAS MODIFIER LES LIGNES CI-DESSOUS\n",
    "ELLES SERVENT AU TRACÉ DES VARIATIONS DES QUANTITÉS DE MATIÈRE\"\"\"\n",
    "\n",
    "plt.plot(x, nMethane,label = \"Méthane\")  # On trace les variations de la quantité de matière de méthane\n",
    "plt.plot(x, nDioxygene,label = \"Dioxygène\")  # On trace les variations de la quantité de matière de dioxygène\n",
    "plt.plot(x, nDioxydeC, label = \"Dioxyde de carbone\")  # On trace les variations de la quantité de matière de CO2\n",
    "plt.plot(x, nEau, label = \"Eau\")  # On trace les variations de la quantité de matière d'eau\n",
    "plt.xlabel(\"x (mol)\")  # Étiquette de l'axe des abscisses\n",
    "plt.ylabel(\"Quantités de matière (mol)\")  # Étiquette de l'axe des ordonnées\n",
    "plt.legend()  # Affichage de la légende, à partir des 'label' utilisés dans les commades plt.plot()\n",
    "plt.grid()  # Affichage du quadrillage du graphique\n",
    "plt.axis([0, x[-1], 0, max(nMethane[0], nDioxygene[0])])  # Définition des bornes des axes des abscisses et ordonnées\n",
    "plt.show()  # Affichage du graphique"
   ]
  },
  {
   "cell_type": "markdown",
   "metadata": {},
   "source": [
    "## Interprétation des représentations graphiques ##"
   ]
  },
  {
   "cell_type": "markdown",
   "metadata": {},
   "source": [
    "À partir des représentations graphiques répondez aux questions suivantes :\n",
    "1. Quel est le réactif limitant dans la situation décrite dans l'énoncé initial ?\n",
    "2. Estimez graphiquement la valeur de l'avancement maximal.\n",
    "3. Estimez graphiquement les quantités de matière en fin de réaction pour l'ensemble des constituants du système.\n",
    "4. Modifiez les quantités de matière initiales de la façon suivante et notez les changements dans l'évolution du sytème chimique.\n",
    "* n<sub>0</sub>(CH4)=2.0 mol\n",
    "* n<sub>0</sub>(O2)=0.75 mol"
   ]
  },
  {
   "cell_type": "markdown",
   "metadata": {},
   "source": [
    "## Pour aller plus loin - Adaptation à l'étude d'une autre réaction chimique ##"
   ]
  },
  {
   "cell_type": "markdown",
   "metadata": {},
   "source": [
    "On considère maintenant la réaction de combustion de l'éthanol donnée ci-dessous :  \n",
    "C<sub>2</sub>H<sub>6</sub>O + 3 O<sub>2</sub> -> 2 CO<sub>2</sub> + 3 H<sub>2</sub>O\n",
    "On utilise les quantités de matière initiales suivantes :\n",
    "* Quantité de matière initiale d'éthanol : 2.0 mol\n",
    "* quantité de matière initiale de dioxygène : 1.25 mol\n",
    "* **On considère que les quantités de matière initiales des produits de la réaction sont nulles.**"
   ]
  },
  {
   "cell_type": "markdown",
   "metadata": {},
   "source": [
    "En vous basant sur ce qui a été fait précédemment, écrivez le programme permettant d'étudier cette réaction chimique.\n",
    "\n",
    "Vous pouvez copier ce qui a été fait précédemment puis modifier les noms de variables, les étiquettes du graphique afin de correspondre à la réaction étudiée.\n",
    "\n",
    "Vous pouvez utiliser la cellule de code vide ci-dessous."
   ]
  },
  {
   "cell_type": "code",
   "execution_count": null,
   "metadata": {},
   "outputs": [],
   "source": [
    "import matplotlib.pyplot as plt  # On utilise le nom raccourci plt au lieu de pyplot"
   ]
  }
 ],
 "metadata": {
  "kernelspec": {
   "display_name": "Python 3",
   "language": "python",
   "name": "python3"
  },
  "language_info": {
   "codemirror_mode": {
    "name": "ipython",
    "version": 3
   },
   "file_extension": ".py",
   "mimetype": "text/x-python",
   "name": "python",
   "nbconvert_exporter": "python",
   "pygments_lexer": "ipython3",
   "version": "3.8.10"
  }
 },
 "nbformat": 4,
 "nbformat_minor": 4
}
