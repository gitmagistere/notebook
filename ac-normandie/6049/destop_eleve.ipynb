{
 "cells": [
  {
   "cell_type": "markdown",
   "metadata": {},
   "source": [
    "<div align=\"center\"><h1>Doage conductimétrique du Destop</h1></div>\n",
    "<h3>On dose un volume VB=10mL de Destop dilué de concentration CB = 0,12 mol.L<sup>-1</sup> par une solution d'acide chlrohydrique de concentration CA=0,1 mol.L<sup>-1</sup></h3>\n",
    "<h3> Lors du dosage, on fait varier le volume d'acide versé entre 0 et 20 mL</h3>\n",
    "<h2> <u>Question 1</u> : Complétez les données du titrage ci-dessus</h2>"
   ]
  },
  {
   "cell_type": "code",
   "execution_count": null,
   "metadata": {},
   "outputs": [],
   "source": [
    "CB=        #en mol/L\n",
    "VB=        #en L\n",
    "CA=        #en mol/L\n",
    "VAmax=     #en L"
   ]
  },
  {
   "cell_type": "markdown",
   "metadata": {},
   "source": [
    "## <u>Question 2</u> : Indiquez comment calculer les quantités de matières suivvantes :\n",
    "n(HO<sup>-</sup>)<sub>initiale</sub>,  VAeq et n(H<sub>3</sub>O<sup>+</sup>)finale"
   ]
  },
  {
   "cell_type": "code",
   "execution_count": null,
   "metadata": {},
   "outputs": [],
   "source": [
    "nHOi=\n",
    "VAeq = \n",
    "nH3Omax="
   ]
  },
  {
   "cell_type": "markdown",
   "metadata": {},
   "source": [
    "## <u>Question 3</u> : Complétez les expressions qui permettent de calculer les quantités de matières des différents ions :\n",
    "### Avant le début du dosage (VA=0)\n"
   ]
  },
  {
   "cell_type": "code",
   "execution_count": null,
   "metadata": {},
   "outputs": [],
   "source": [
    "nH3O_0=\n",
    "nCl_0=\n",
    "nNa_0=\n",
    "nHO_0="
   ]
  },
  {
   "cell_type": "markdown",
   "metadata": {},
   "source": [
    "### A l'équivalence (VA=VAeq)"
   ]
  },
  {
   "cell_type": "code",
   "execution_count": null,
   "metadata": {},
   "outputs": [],
   "source": [
    "nCl_eq=\n",
    "nH3O_eq=\n",
    "nNa_eq=\n",
    "nHO_eq ="
   ]
  },
  {
   "cell_type": "markdown",
   "metadata": {},
   "source": [
    "### Ala fin du dosage (VA=VAmax)"
   ]
  },
  {
   "cell_type": "code",
   "execution_count": null,
   "metadata": {},
   "outputs": [],
   "source": [
    "nCl_max=\n",
    "nH3O_max=\n",
    "nNa_max=\n",
    "nHO_max ="
   ]
  },
  {
   "cell_type": "markdown",
   "metadata": {},
   "source": [
    "# Programme traçant les courbes\n",
    "### (à ne pas modifier mais exécuter après toutes les autres cellules)"
   ]
  },
  {
   "cell_type": "code",
   "execution_count": null,
   "metadata": {},
   "outputs": [],
   "source": [
    "# programme titrage destop\n",
    "#Jean-Luc Leloire 2020\n",
    "\n",
    "#librairie graphique\n",
    "import matplotlib.pyplot as plt\n",
    "%matplotlib inline\n",
    "x=[0,VAeq,VAmax]\n",
    "yH3O=[nH3O_0,nH3O_eq,nH3O_max]\n",
    "yHO=[nHO_0,nHO_eq,nHO_max]\n",
    "yNa=[nNa_0,nNa_eq,nNa_max]\n",
    "yCl=[nCl_0,nCl_eq,nCl_max]\n",
    "\n",
    "\n",
    "#calcul de la conductivité théorique\n",
    "#les quantités de matière sont en mmol\n",
    "#on divise par 200 +VB+ Va versé en mL\n",
    "#les concentrations sont donc  mol/L\n",
    "# il faut multiplier 1E3 pour mettre en m^3. On obtient les résultats en mS/m car \n",
    "#conductivités molaires ioniques en mS.m²/mol\n",
    "# En multipliant par 1E3 on passe en µS et en divisant par 100 (x1E-2) en par cm\n",
    "# soit en multipliant au total par 1E4\n",
    "sigma_0=(5*nNa_0+19.86*nHO_0+34.98*nH3O_0+7.63*nCl_0)/0.210\n",
    "sigma_eq=(5*nNa_eq+19.86*nHO_eq+34.98*nH3O_eq+7.63*nCl_eq)/(0.210+VAeq)\n",
    "sigma_max=5*nNa_max+19.86*nHO_max+34.98*nH3O_max+7.63*nCl_max/(0.230)\n",
    "ysigma=[sigma_0*1E4,sigma_eq*1E4,sigma_max*1E4]\n",
    "\n",
    "plt.figure('Dosage conductimétrique du Destop',figsize=(10,4),dpi=100)\n",
    "#affichage de l'évolutions des quantité de matière\n",
    "plt.subplot(1,2,1)\n",
    "plt.title('Evoution des quantités de matière')\n",
    "plt.plot(x,yH3O,'r-',label='H3O+')\n",
    "plt.plot(x,yHO,'b-',label='HO-')\n",
    "plt.plot(x,yNa,'g-',label='Na+')\n",
    "plt.plot(x,yCl,'c-',label='Cl-')\n",
    "plt.legend()\n",
    "plt.xlabel('Volume d\\'acide versé en mL')\n",
    "plt.ylabel('Quantité de matière en mol')\n",
    "#affichage de l'évolution de la conductivité\n",
    "plt.subplot(1,2,2)\n",
    "plt.title('Evolution de la conductivité')\n",
    "plt.plot(x,ysigma,'r-',label='Conductivité')\n",
    "plt.xlabel('Volume d\\'acide versé en mL')\n",
    "plt.ylabel('Conductivité en µS/cm')\n",
    "plt.legend()\n",
    "plt.show()\n"
   ]
  }
 ],
 "metadata": {
  "kernelspec": {
   "display_name": "Python 3",
   "language": "python",
   "name": "python3"
  },
  "language_info": {
   "codemirror_mode": {
    "name": "ipython",
    "version": 3
   },
   "file_extension": ".py",
   "mimetype": "text/x-python",
   "name": "python",
   "nbconvert_exporter": "python",
   "pygments_lexer": "ipython3",
   "version": "3.7.1"
  }
 },
 "nbformat": 4,
 "nbformat_minor": 2
}
