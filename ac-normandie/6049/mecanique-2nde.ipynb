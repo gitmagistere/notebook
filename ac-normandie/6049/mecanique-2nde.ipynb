{
 "cells": [
  {
   "cell_type": "markdown",
   "metadata": {},
   "source": [
    "# Représenter les positions successives d’un système modélisé par un point lors d’une évolution unidimensionnelle ou bidimensionnelle"
   ]
  },
  {
   "cell_type": "code",
   "execution_count": null,
   "metadata": {},
   "outputs": [],
   "source": [
    "import math\n",
    "import numpy as np\n",
    "import matplotlib.pyplot as plt"
   ]
  },
  {
   "cell_type": "markdown",
   "metadata": {},
   "source": [
    "# Bille ponctuelle évoluant sur un rail (théorie)"
   ]
  },
  {
   "cell_type": "markdown",
   "metadata": {},
   "source": [
    "### A vitesse constante\n",
    "On considère une bille lancée à vitesse constante $v$, à partir d'un point $x_0$ du rail, vers les $x$ croissants."
   ]
  },
  {
   "cell_type": "code",
   "execution_count": null,
   "metadata": {},
   "outputs": [],
   "source": [
    "# création des instants\n",
    "t = np.linspace(0, 20, 10)\n",
    "print(t)"
   ]
  },
  {
   "cell_type": "code",
   "execution_count": null,
   "metadata": {},
   "outputs": [],
   "source": [
    "# vitesse\n",
    "v = 10\n",
    "# position initiale sur l'axe du rail\n",
    "d0 = 70"
   ]
  },
  {
   "cell_type": "code",
   "execution_count": null,
   "metadata": {},
   "outputs": [],
   "source": [
    "# distance parcourue\n",
    "d = v * t + d0"
   ]
  },
  {
   "cell_type": "code",
   "execution_count": null,
   "metadata": {},
   "outputs": [],
   "source": [
    "plt.plot(t, d, 'o--')\n",
    "plt.xlabel('t (s)')\n",
    "plt.ylabel('d (m)')\n",
    "plt.axis(ymin=0)\n",
    "plt.title('Distance parcourue au cours du temps')"
   ]
  },
  {
   "cell_type": "markdown",
   "metadata": {},
   "source": [
    "### A vitesse croissante, accélération constante\n",
    "On considère une bille lancée à accélération constante $a$, à partir de l'origine du rail sans vitesse initiale, vers les $x$ croissants.\n",
    "\n",
    "- La vitesse croît linéairement : $v = a \\cdot t$\n",
    "- la position croît de manière quadratique : $d = \\dfrac{1}{2} \\times a \\cdot t^2$"
   ]
  },
  {
   "cell_type": "code",
   "execution_count": null,
   "metadata": {},
   "outputs": [],
   "source": [
    "# création des instants\n",
    "t = np.linspace(0, 20, 20)\n",
    "\n",
    "# accélération\n",
    "a = 10\n",
    "\n",
    "# distance parcourue au cours du temps\n",
    "d = 0.5 * a * t**2"
   ]
  },
  {
   "cell_type": "code",
   "execution_count": null,
   "metadata": {},
   "outputs": [],
   "source": [
    "plt.plot(t, d, 'o--')\n",
    "plt.xlabel('t (s)')\n",
    "plt.ylabel('d (m)')\n",
    "plt.title('Distance parcourue au cours du temps')"
   ]
  },
  {
   "cell_type": "markdown",
   "metadata": {},
   "source": [
    "# Bille ponctuelle lâchée d'une hauteur $h$ sans vitesse initiale (expérience)\n",
    "On travaille avec des relevés de positions au cours du temps obtenus à partir du film d'une chute (ex : Regavi)"
   ]
  },
  {
   "cell_type": "code",
   "execution_count": null,
   "metadata": {},
   "outputs": [],
   "source": [
    "h0 = 2\n",
    "h = [2, 1.94, 1.76, 1.44, 1.03, .49, 0]\n",
    "t = [0, 0.1, 0.2, 0.3, 0.4, 0.5, 0.6] # liste python classique"
   ]
  },
  {
   "cell_type": "code",
   "execution_count": null,
   "metadata": {},
   "outputs": [],
   "source": [
    "plt.plot(t, h, 'o')\n",
    "plt.xlabel('t (s)')\n",
    "plt.ylabel('h (m)')\n",
    "\n",
    "# modélisation par une chute libre (courbe rouge)\n",
    "g = 9.8\n",
    "y = h0 - 0.5 * g * np.array(t)**2 # il faut convertir t en ndarray (tableau de numpy)\n",
    "plt.plot(t, y, color='red')"
   ]
  },
  {
   "cell_type": "markdown",
   "metadata": {},
   "source": [
    "# Mouvement parabolique (théorie)\n",
    "On considère une bille lancée d'une hauteur $h$, avec un angle $\\alpha$ par rapport à l'horizontale, et une vitesse intiale $v_0$."
   ]
  },
  {
   "cell_type": "code",
   "execution_count": null,
   "metadata": {},
   "outputs": [],
   "source": [
    "# hauteur de lancement (m)\n",
    "h = 5\n",
    "# angle en degré, puis conversion en radians\n",
    "alpha = 40\n",
    "alpha = np.radians(alpha) \n",
    "# vitesse initiale (m/s)\n",
    "v0 = 20\n",
    "# intensité de la pesanteur (m/s2)\n",
    "g = 9.8"
   ]
  },
  {
   "cell_type": "code",
   "execution_count": null,
   "metadata": {},
   "outputs": [],
   "source": [
    "# création des instants\n",
    "t = np.linspace(0, 3, 30)"
   ]
  },
  {
   "cell_type": "code",
   "execution_count": null,
   "metadata": {},
   "outputs": [],
   "source": [
    "# coordonnées de positions (x, y) en fonction du temps\n",
    "x = v0 * np.cos(alpha) * t\n",
    "\n",
    "y = -0.5 * g * t**2 + v0 * np.sin(alpha) * t + h\n",
    "\n",
    "# équation de la trajectoire\n",
    "traj = -0.5 * g * (x / (v0 * np.cos(alpha)))**2 + np.tan(alpha) * x + h"
   ]
  },
  {
   "cell_type": "code",
   "execution_count": null,
   "metadata": {},
   "outputs": [],
   "source": [
    "plt.scatter(x, y)\n",
    "plt.ylabel('y (m)')\n",
    "plt.xlabel('x (m)')\n",
    "plt.plot(x, traj, 'red')"
   ]
  },
  {
   "cell_type": "markdown",
   "metadata": {},
   "source": [
    "# Tracer des vecteurs vitesse\n",
    "On reprend les données précédentes du mouvement parabolique."
   ]
  },
  {
   "cell_type": "markdown",
   "metadata": {},
   "source": [
    "###  Calcul des coordonnées (approximation discrète) du vecteur vitesse\n",
    "Si j'ai bien compris, on nous demande désormais d'utiliser la définition suivante pour le vecteur vitesse :\n",
    "\n",
    "$v_{x}[i] = \\dfrac{x_{[i+1]} - x_{[i]}} {t_{[i+1]} - t_{[i]}}$\n",
    "\n",
    "$v_{y}[i] = \\dfrac{y_{[i+1]} - y_{[i]}} {t_{[i+1]} - t_{[i]}}$\n",
    "\n",
    "La valeur de $v[0]$ reste définie sans problème avec cette \"vision\" des choses, et la dernière valeur $v[-1]$ n'existe simplement pas ! (on choisira une valeur nulle arbitrairement, pour conserver la même taille pour les donnnées -- c'est un choix personnel !)"
   ]
  },
  {
   "cell_type": "code",
   "execution_count": null,
   "metadata": {},
   "outputs": [],
   "source": [
    "# calcul des coordonnées de v\n",
    "vx = []\n",
    "for i in range(len(x)-1):\n",
    "    vx.append((x[i+1] - x[i]) / (t[i+1] - t[i]))\n",
    "vx.append(0)   # on ajoute une valeur sans sens (arbitrairement nulle) à la fin pour avoir la même taille de données \n",
    "\n",
    "vy = []\n",
    "for i in range(len(y)-1):\n",
    "    vy.append((y[i+1] - y[i]) / (t[i+1] - t[i]))\n",
    "vy.append(0)     "
   ]
  },
  {
   "cell_type": "markdown",
   "metadata": {},
   "source": [
    "### Tracé du vecteur vitesse\n",
    "https://matplotlib.org/api/_as_gen/matplotlib.pyplot.quiver.html#matplotlib.pyplot.quiver\n",
    "\n",
    "Remarques sur les paramètres d'affichage du vecteur :\n",
    "- le paramètres ```angles='xy'``` indique que le vecteur a une composante horizontale x et verticale y.\n",
    "- le paramètres ```scale_units='xy'``` indique que l'échelle pour le vecteur se réfère aux axes xy.\n",
    "- le paramètres ```scale=<nombre>``` définit l'échelle de réprésentation du vecteur (grande valeur => petites flèches).\n",
    "- le paramètres ```units='dots``` permet de conserver une échelle fixe de représentation du vecteur si on zomme sur le graphe.\n",
    "\n",
    "Remarque complémentaire :\n",
    "- pour 'voir' correctement les vecteurs, il ne faut pas les tracer à tous les points\n",
    "\n",
    "*ex : ci-dessous, on représente le vecteur toutes les 4 positions seulement*\n"
   ]
  },
  {
   "cell_type": "code",
   "execution_count": null,
   "metadata": {},
   "outputs": [],
   "source": [
    "#%matplotlib notebook\n",
    "#plt.scatter(x, y)\n",
    "plt.ylabel('y (m)')\n",
    "plt.xlabel('x (m)')\n",
    "\n",
    "# ajout des vecteurs vitesse\n",
    "# on ne conserve qu'un point sur 4 (pour la lisibilité), et on exclut le dernier point\n",
    "plt.quiver(x[:-1:4], y[:-1:4], vx[:-1:4], vy[:-1:4], angles='xy', scale_units='xy', scale=2, color='green', label='vitesse')\n",
    "plt.legend()"
   ]
  },
  {
   "cell_type": "markdown",
   "metadata": {},
   "source": [
    "### Hors-programme de 2nde : vecteur accélération\n",
    "C'est hors-programme, mais ça vaut le coup de voir ce que ça donne..."
   ]
  },
  {
   "cell_type": "code",
   "execution_count": null,
   "metadata": {},
   "outputs": [],
   "source": [
    "# calcul des coordonnées de a\n",
    "ax = []\n",
    "for i in range(len(vx)-1):\n",
    "    ax.append((vx[i+1] - vx[i]) / (t[i+1] - t[i]))\n",
    "ax.append(0)\n",
    "\n",
    "ay = []\n",
    "for i in range(len(vy)-1):\n",
    "    ay.append((vy[i+1] - vy[i-1]) / (t[i+1] - t[i]))\n",
    "ay.append(0)"
   ]
  },
  {
   "cell_type": "code",
   "execution_count": null,
   "metadata": {},
   "outputs": [],
   "source": [
    "plt.title(\"Vecteurs v et a\")\n",
    "plt.scatter(x, y)\n",
    "plt.ylabel('y (m)')\n",
    "plt.xlabel('x (m)')\n",
    "\n",
    "plt.quiver(x[1:-2:4], y[1:-2:4], vx[1:-2:4], vy[1:-2:4],  angles='xy', units='dots', scale_units='xy', scale=3, color='green', label='vitesse')\n",
    "plt.quiver(x[1:-2:4], y[1:-2:4], ax[1:-2:4], ay[1:-2:4],  angles='xy', units='dots', scale_units='xy', scale=4, color='red', label='accélération')\n",
    "plt.legend()"
   ]
  },
  {
   "cell_type": "markdown",
   "metadata": {},
   "source": [
    "### Au programme de 2nde : variation de vecteur vitesse\n",
    "C'est très similaire au paragraphe précédent.\n",
    "La seule différence avec l'accélération est qu'on ne divise pas par le temps !"
   ]
  },
  {
   "cell_type": "code",
   "execution_count": null,
   "metadata": {},
   "outputs": [],
   "source": [
    "# calcul des coordonnées du vecteur variation de vitesse\n",
    "Dvx = []\n",
    "for i in range(len(vx)-1):\n",
    "    Dvx.append(vx[i+1] - vx[i])\n",
    "Dvx.append(0)\n",
    "\n",
    "Dvy = []\n",
    "for i in range(len(vy)-1):\n",
    "    Dvy.append(vy[i+1] - vy[i])\n",
    "Dvy.append(0)"
   ]
  },
  {
   "cell_type": "code",
   "execution_count": null,
   "metadata": {},
   "outputs": [],
   "source": [
    "plt.title(\"Vecteurs vitesse et variation de vecteur vitesse\")\n",
    "plt.scatter(x, y)\n",
    "plt.ylabel('y (m)')\n",
    "plt.xlabel('x (m)')\n",
    "\n",
    "plt.quiver(x[1:-2:4], y[1:-2:4], vx[1:-2:4], vy[1:-2:4],  angles='xy', units='dots', scale_units='xy', scale=0.5, color='green', label='vitessse')\n",
    "plt.quiver(x[1:-2:4], y[1:-2:4], Dvx[1:-2:4], Dvy[1:-2:4],  angles='xy', units='dots', scale_units='xy', scale=0.5, color='red', label='Delta v')\n",
    "plt.legend()"
   ]
  },
  {
   "cell_type": "code",
   "execution_count": null,
   "metadata": {},
   "outputs": [],
   "source": []
  },
  {
   "cell_type": "code",
   "execution_count": null,
   "metadata": {},
   "outputs": [],
   "source": []
  }
 ],
 "metadata": {
  "kernelspec": {
   "display_name": "Python 3",
   "language": "python",
   "name": "python3"
  },
  "language_info": {
   "codemirror_mode": {
    "name": "ipython",
    "version": 3
   },
   "file_extension": ".py",
   "mimetype": "text/x-python",
   "name": "python",
   "nbconvert_exporter": "python",
   "pygments_lexer": "ipython3",
   "version": "3.8.6"
  }
 },
 "nbformat": 4,
 "nbformat_minor": 2
}
