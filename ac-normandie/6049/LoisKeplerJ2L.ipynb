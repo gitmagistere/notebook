{
 "cells": [
  {
   "cell_type": "markdown",
   "metadata": {},
   "source": [
    "# Term Spé : Exploiter, à l’aide d’un langage de programmation, des données astronomiques ou satellitaires pour tester les 2ème et 3ème lois de Kepler."
   ]
  },
  {
   "cell_type": "markdown",
   "metadata": {},
   "source": [
    "# Obtention des positions de Mars et tracé de sa trajectoire"
   ]
  },
  {
   "cell_type": "code",
   "execution_count": null,
   "metadata": {},
   "outputs": [],
   "source": [
    "# import des modules scientifiques\n",
    "import numpy as np\n",
    "import matplotlib.pyplot as plt"
   ]
  },
  {
   "cell_type": "code",
   "execution_count": null,
   "metadata": {},
   "outputs": [],
   "source": [
    "import csv # pour la lecture des données extraites sur les positions de Mars"
   ]
  },
  {
   "cell_type": "code",
   "execution_count": null,
   "metadata": {},
   "outputs": [],
   "source": [
    "from math import sqrt, pi # utile pour quelques calculs"
   ]
  },
  {
   "cell_type": "markdown",
   "metadata": {},
   "source": [
    "## Obtention des données d'éphémérides :\n",
    "À partir du site IMCCE : https://www.imcce.fr/fr/ephemerides/ et plus précisément https://ssp.imcce.fr/forms et même exactement https://ssp.imcce.fr/forms/ephemeris\n",
    "\n",
    "<a href=\"https://www.youtube.com/embed/igyGBq18gEU\" width=\"800\">Lire une vidéo tuto en ligne</a>\n",
    "\n",
    "On peut aussi consulter les ressources d'accompagnement sur Eduscol : https://eduscol.education.fr/cid144120/physique-chimie-bac-2021.html"
   ]
  },
  {
   "cell_type": "markdown",
   "metadata": {},
   "source": [
    "## Extraction des données depuis le fichier csv téléchargé\n",
    "Le fichier exemple s'appuie sur les 50 positions de Mars du 01 janvier 2020 au 17 novembre 2021 par pas de 14 jours (cela correrspond environ à une période de révolution : cette politique sera conservée pour tous les exemples dans ce document)."
   ]
  },
  {
   "cell_type": "code",
   "execution_count": null,
   "metadata": {},
   "outputs": [],
   "source": [
    "# on récupère avec le code suivant une liste de dictionnaires (OrderedDict) \n",
    "# dont les clefs sont indiquées par les descripteurs\n",
    "with open('ephemerides/mars-ephemeride.csv') as source:\n",
    "    donnees = csv.DictReader(source, delimiter=\";\")\n",
    "    descripteurs = donnees.fieldnames\n",
    "    donnees = list(donnees)\n",
    "\n",
    "# exemple de ce qu'on peut visualiser :\n",
    "print(descripteurs)\n",
    "print(donnees[0])\n",
    "for (clef, valeur) in donnees[0].items():\n",
    "    print(f\"{clef} : {valeur}\")"
   ]
  },
  {
   "cell_type": "markdown",
   "metadata": {},
   "source": [
    "## Nous sommes intéressés seulement par les dates et les coordonnées en x et y"
   ]
  },
  {
   "cell_type": "code",
   "execution_count": null,
   "metadata": {},
   "outputs": [],
   "source": [
    "dates = [donnee[\"Date (undefined)\"] for donnee in donnees]\n",
    "x = [donnee[\"px (au)\"] for donnee in donnees]\n",
    "y = [donnee[\"py (au)\"] for donnee in donnees]"
   ]
  },
  {
   "cell_type": "markdown",
   "metadata": {},
   "source": [
    "###  Mise en forme de ces données"
   ]
  },
  {
   "cell_type": "code",
   "execution_count": null,
   "metadata": {},
   "outputs": [],
   "source": [
    "# mise en forme : on enlève la partie h:min:s\n",
    "dates = [date[:10] for date in dates]\n",
    "# après mise en forme\n",
    "print(dates[0])\n",
    "print(dates[1])"
   ]
  },
  {
   "cell_type": "code",
   "execution_count": null,
   "metadata": {},
   "outputs": [],
   "source": [
    "dt = int(dates[1][-2:]) - int(dates[0][-2:]) # durée en j entre 2 dates "
   ]
  },
  {
   "cell_type": "code",
   "execution_count": null,
   "metadata": {},
   "outputs": [],
   "source": [
    "# on peut aussi créer une liste d'instants (en j) correspondant à chaque date en commençant à t=0\n",
    "t = [dt*i for i in range(len(dates))]\n",
    "# début :\n",
    "t[:4]"
   ]
  },
  {
   "cell_type": "code",
   "execution_count": null,
   "metadata": {},
   "outputs": [],
   "source": [
    "# mise en forme : on convertit la chaine de caractères en nombre \n",
    "# (en remplaçant d'abord la virgule par un point)\n",
    "x = [float(pos.replace(',','.')) for pos in x]\n",
    "y = [float(pos.replace(',','.')) for pos in y]\n",
    "# après mise en forme\n",
    "print(x[0])\n",
    "print(y[0])"
   ]
  },
  {
   "cell_type": "code",
   "execution_count": null,
   "metadata": {},
   "outputs": [],
   "source": [
    "ua = 149_597_870_700 # valeur d'une unité astronomique en m (définition de 2012)"
   ]
  },
  {
   "cell_type": "code",
   "execution_count": null,
   "metadata": {},
   "outputs": [],
   "source": [
    "# Pour les manipulations à venir, on convertit ces listes en array de numpy\n",
    "t, x, y = np.array(t), np.array(x), np.array(y)\n",
    "\n",
    "# conversion des distances en m :\n",
    "# x, y = x*ua, y*ua\n",
    "# print(x[0])\n",
    "# print(y[0])"
   ]
  },
  {
   "cell_type": "markdown",
   "metadata": {},
   "source": [
    "## Tracé des positions de Mars au cours du temps\n"
   ]
  },
  {
   "cell_type": "code",
   "execution_count": null,
   "metadata": {},
   "outputs": [],
   "source": [
    "plt.scatter(0, 0)\n",
    "plt.plot(x, y, 'r.')\n",
    "plt.axis(\"equal\")\n",
    "plt.title(\"Position de Mars dans le référentiel héliocentrique (en ua)\\n\")\n",
    "plt.show()"
   ]
  },
  {
   "cell_type": "markdown",
   "metadata": {},
   "source": [
    "## Distance Mars-Soleil au cours du temps (en ua)\n",
    "Le fichier csv importé contient aussi la distance de Mars au Soleil, et on peut éventuellement exploiter cette information.\n",
    "\n",
    "Le graphique de la distance au cours du temps permet de voir assez simplement que la trajectoire n'est pas un cercle puisque cette distance n'est pas constante. L'amplitude des variations donne une idée de l'excentricité."
   ]
  },
  {
   "cell_type": "code",
   "execution_count": null,
   "metadata": {},
   "outputs": [],
   "source": [
    "d = [donnee[\"Dobs (au)\"] for donnee in donnees]\n",
    "d = [float(pos.replace(',','.')) for pos in d]\n",
    "d = np.array(d)"
   ]
  },
  {
   "cell_type": "code",
   "execution_count": null,
   "metadata": {},
   "outputs": [],
   "source": [
    "plt.plot(t, d, 'b.')\n",
    "plt.xlabel(\"t (en j)\")\n",
    "plt.ylabel(\"d (en ua)\")\n",
    "plt.show()"
   ]
  },
  {
   "cell_type": "markdown",
   "metadata": {},
   "source": [
    "## Script automatique à partir d'un fichier csv de données sur une planète"
   ]
  },
  {
   "cell_type": "code",
   "execution_count": null,
   "metadata": {},
   "outputs": [],
   "source": [
    "def bilan(donnees, referentiel='?', astre='?', ua_bool=True, show=True):\n",
    "    \"\"\" donnees est le fichier de données éphémérides de l'astre \n",
    "    Cette fonction renvoie les dates et coordonnées de l'astre, et aussi la distance à l'astre de référence \n",
    "    Si le paramètre show vaut True, les graphiques sont affichés \"\"\"\n",
    "    with open(donnees) as source:\n",
    "        donnees = list(csv.DictReader(source, delimiter=\";\"))\n",
    "    dates = [donnee[\"Date (undefined)\"][:10] for donnee in donnees]\n",
    "    dt = int(dates[1][-2:]) - int(dates[0][-2:])\n",
    "    t = np.array([dt*i for i in range(len(dates))])\n",
    "    x = np.array([float(donnee[\"px (au)\"].replace(',','.')) for donnee in donnees])\n",
    "    y = np.array([float(donnee[\"py (au)\"].replace(',','.')) for donnee in donnees])\n",
    "    d = np.array([float(donnee[\"Dobs (au)\"].replace(',','.')) for donnee in donnees])\n",
    "    unite = 'ua'\n",
    "    if not ua_bool: # conversion des ua en m (si le paramètre ua_bool vaut False)\n",
    "        ua = 149_597_870_700\n",
    "        x, y, d = x*ua, y*ua, d*ua\n",
    "        unite = 'm'\n",
    "        \n",
    "    def graphe(): # trace la trajectoire de la planète si le paramètre show vaut True\n",
    "        plt.scatter(0, 0)\n",
    "        plt.plot(x, y, 'r.')\n",
    "        plt.axis(\"equal\")\n",
    "        plt.title(f\"Position de {astre} (en {unite}) dans le référentiel {referentiel}\\n\")\n",
    "        plt.show()\n",
    "\n",
    "        plt.plot(t, d, 'bo-')\n",
    "        plt.xlabel(\"t (en j)\")\n",
    "        plt.ylabel(f\"d (en {unite})\")\n",
    "        plt.show()\n",
    "        \n",
    "    if show:\n",
    "        graphe()\n",
    "    return dates, t, x, y, d"
   ]
  },
  {
   "cell_type": "markdown",
   "metadata": {},
   "source": [
    "### On exploite ce script pour obtenir la trajectoire de Mars dans el référentiel géocentrique.\n",
    "Le fichier exemple s'appuie sur les même 50 positions de Mars du 01 janvier 2020 au 17 novembre 2021 par pas de 14 jours, mais cette fois-ci dans le référentiel géocentrique.\n",
    "\n",
    "On peut alors observer la rétrogradation de Mars et commenter la rélativité du mouvement."
   ]
  },
  {
   "cell_type": "code",
   "execution_count": null,
   "metadata": {},
   "outputs": [],
   "source": [
    "donnees = \"ephemerides/mars-ephemeride-geocentrique.csv\"\n",
    "bilan_mars = bilan(donnees, astre='Mars', referentiel='Géocentrique', ua_bool=False)"
   ]
  },
  {
   "cell_type": "markdown",
   "metadata": {},
   "source": [
    "### Voici un autre exemple avec la position de la Terre dans le référentiel héliocentrique"
   ]
  },
  {
   "cell_type": "code",
   "execution_count": null,
   "metadata": {},
   "outputs": [],
   "source": [
    "donnees = \"ephemerides/terre-ephemeride-heliocentrique.csv\"\n",
    "bilan_terre = bilan(donnees, astre='Terre', referentiel='héliocentrique')"
   ]
  },
  {
   "cell_type": "markdown",
   "metadata": {},
   "source": [
    "## Tracé des trajectoires de Mercure, Vénus, Terre, Mars\n",
    "Voici un autre exemple d'exploitation du script pour rapidement tracer les trajectoires des 4 premières planètes du système solaire."
   ]
  },
  {
   "cell_type": "code",
   "execution_count": null,
   "metadata": {},
   "outputs": [],
   "source": [
    "dates, t, x1, y1, d = bilan(\"ephemerides/terre-heliocentrique-dt16.csv\", astre='Terre', referentiel='héliocentrique', show=False)\n",
    "dates, t, x2, y2, d = bilan(\"ephemerides/mars-heliocentrique-dt29.csv\", astre='Mars', referentiel='héliocentrique', show=False)\n",
    "dates, t, x3, y3, d = bilan(\"ephemerides/venus-heliocentrique-dt10.csv\", astre='Venus', referentiel='héliocentrique', show=False)\n",
    "dates, t, x4, y4, d = bilan(\"ephemerides/mercure-heliocentrique-dt4.csv\", astre='Mercure', referentiel='héliocentrique', show=False)\n",
    "\n",
    "plt.scatter(0, 0)\n",
    "plt.plot(x1, y1, 'g-', label='Terre')\n",
    "plt.plot(x2, y2, 'b-', label='Mars')\n",
    "plt.plot(x3, y3, 'r-', label='Venus')\n",
    "plt.plot(x4, y4, '-', label='Mercure')\n",
    "plt.axis(\"equal\")\n",
    "plt.legend()\n",
    "plt.title(f\"\")\n",
    "plt.show()"
   ]
  },
  {
   "cell_type": "markdown",
   "metadata": {},
   "source": [
    "# Autre source d'éphémérides (JPL HORIZONS)\n",
    "Source : https://ssd.jpl.nasa.gov/horizons.cgi\n",
    "\n",
    "Documentation générale HORIZONS : https://ssd.jpl.nasa.gov/?horizons_doc#site\n",
    "\n",
    "Doc interface Web : https://ssd.jpl.nasa.gov/?horizons_tutorial\n",
    "\n",
    "<a href=\"https://www.youtube.com/embed/R7LCB1MP9LI\">Lire une vidéo tuto en ligne</a>"
   ]
  },
  {
   "cell_type": "markdown",
   "metadata": {},
   "source": [
    "##  Script pour traiter les données de JPL HORIZONS"
   ]
  },
  {
   "cell_type": "code",
   "execution_count": null,
   "metadata": {},
   "outputs": [],
   "source": [
    "def jpl_horizons(donnees, referentiel='?', astre='?', unite='ua', show=True):\n",
    "    \"\"\" donnees est le fichier de données éphémérides de l'astre' \n",
    "    Utilise une source de données issue de JPL HORIZONS \n",
    "    Le paramètre show permet d'activer le tracé de la trajhectoire de l'astre\n",
    "    \"\"\"\n",
    "    with open(donnees) as source:\n",
    "        donnees = list(csv.DictReader(source, delimiter=\",\"))\n",
    "    dates = [donnee[\"Calendar Date (TDB)\"][6:-14] for donnee in donnees]\n",
    "    dates_Julien = [float(donnee[\"JDTDB\"].replace(',','.')) for donnee in donnees]\n",
    "    dt = dates_Julien[1] - dates_Julien[0]\n",
    "    t = np.array([dt*i for i in range(len(dates))])\n",
    "    x = np.array([float(donnee[\"X\"].replace(',','.')) for donnee in donnees])\n",
    "    y = np.array([float(donnee[\"Y\"].replace(',','.')) for donnee in donnees])\n",
    "        \n",
    "    def graphe():      \n",
    "        plt.scatter(0, 0)\n",
    "        plt.plot(x, y, 'r.')\n",
    "        plt.axis(\"equal\")\n",
    "        plt.title(f\"Position de {astre} (en {unite}) dans le référentiel {referentiel}\\n\")\n",
    "        plt.show()\n",
    "        \n",
    "    if show:\n",
    "        graphe()\n",
    "    return dates, t, x, y"
   ]
  },
  {
   "cell_type": "markdown",
   "metadata": {},
   "source": [
    "### On propose de s'intéresser aux satellites de Neptune.\n",
    "https://fr.wikipedia.org/wiki/Satellites_naturels_de_Neptune"
   ]
  },
  {
   "cell_type": "markdown",
   "metadata": {},
   "source": [
    "## Naiad, Thalassa, Despina, Galatea sont proches de Neptune avec une faible excentricité et une période de révolution de quelques heures\n",
    "Les fichiers exemples contiennent les positions des satellites toutes les heures de 0h à 12h le 01 janvier 2020."
   ]
  },
  {
   "cell_type": "code",
   "execution_count": null,
   "metadata": {},
   "outputs": [],
   "source": [
    "donnees = \"ephemerides/naiad-neptune.csv\"\n",
    "naiad_bilan = jpl_horizons(donnees, referentiel='Neptune', astre='Naiad', unite='km', show=False)\n",
    "donnees = \"ephemerides/thalassa-neptune.csv\"\n",
    "thalassa_bilan = jpl_horizons(donnees, referentiel='Neptune', astre='Thalassa', unite='km', show=True)\n",
    "donnees = \"ephemerides/despina-neptune.csv\"\n",
    "despina_bilan = jpl_horizons(donnees, referentiel='Neptune', astre='Despina', unite='km', show=False)\n",
    "donnees = \"ephemerides/galatea-neptune.csv\"\n",
    "galatea_bilan = jpl_horizons(donnees, referentiel='Neptune', astre='Galatea', unite='km', show=False)"
   ]
  },
  {
   "cell_type": "code",
   "execution_count": null,
   "metadata": {},
   "outputs": [],
   "source": [
    "naiad_x, naiad_y = naiad_bilan[2], naiad_bilan[3]\n",
    "thalassa_x, thalassa_y = thalassa_bilan[2], thalassa_bilan[3]\n",
    "despina_x, despina_y = despina_bilan[2], despina_bilan[3]\n",
    "galatea_x, galatea_y = galatea_bilan[2], galatea_bilan[3]\n",
    "\n",
    "plt.scatter(0, 0)\n",
    "plt.plot(naiad_x, naiad_y, 'r.', label='Naiad')\n",
    "plt.plot(thalassa_x, thalassa_y, 'b.', label='Thalassa')\n",
    "plt.plot(despina_x, despina_y, 'g.', label='Despina')\n",
    "plt.plot(galatea_x, galatea_y, '.', label='Galatea')\n",
    "plt.axis(\"equal\")\n",
    "plt.legend()\n",
    "plt.title(f\"Position des satellites (en km) dans le référentiel de Neptune\\n\")\n",
    "plt.show()"
   ]
  },
  {
   "cell_type": "markdown",
   "metadata": {},
   "source": [
    "## Triton, Néréid,  Halimède, Sao, Psamathée sont beaucoup plus éloignées de Neptune avec une fortee excentricité et une période de révolution de quelques jours à plusieurs années\n",
    "Les fichiers exemples donnent les positions :\n",
    "\n",
    "- Psamathée : 01 janvier 2020 - 06 décembre 2043 (20 positions)\n",
    "- Néréid : 01 janvier 2020 - 26 décembre 2020 (25 positions)\n",
    "- Sao : 01 janvier 2020 - 10 décembre 2027 (21 positions)\n",
    "- Halimède : 01 janvier 2020 - 01 octobre 2025 (22 positions)\n",
    "- Triton : 19 mai 2020 - 18 juillet 2020 (60 positions)"
   ]
  },
  {
   "cell_type": "code",
   "execution_count": null,
   "metadata": {},
   "outputs": [],
   "source": [
    "donnees = \"ephemerides/nereid-neptune.csv\"\n",
    "nereid_bilan = jpl_horizons(donnees, referentiel='Neptune', astre='Nereid', unite='km', show=False)\n",
    "donnees = \"ephemerides/sao-neptune.csv\"\n",
    "sao_bilan = jpl_horizons(donnees, referentiel='Neptune', astre='Sao', unite='km', show=False)\n",
    "donnees = \"ephemerides/halimede-neptune.csv\"\n",
    "halimede_bilan = jpl_horizons(donnees, referentiel='Neptune', astre='Halimede', unite='km', show=False)\n",
    "donnees = \"ephemerides/psamathee-neptune.csv\"\n",
    "psamathee_bilan = jpl_horizons(donnees, referentiel='Neptune', astre='Psamathee', unite='km', show=False)\n",
    "donnees = \"ephemerides/triton-neptune.csv\"\n",
    "triton_bilan = jpl_horizons(donnees, referentiel='Neptune', astre='Triton', unite='km', show=False)"
   ]
  },
  {
   "cell_type": "code",
   "execution_count": null,
   "metadata": {},
   "outputs": [],
   "source": [
    "%matplotlib notebook \n",
    "# permet de zoomer dans la fenêtre graphique\n",
    "\n",
    "nereid_x, nereid_y = nereid_bilan[2], nereid_bilan[3]\n",
    "triton_x, triton_y = triton_bilan[2], triton_bilan[3]\n",
    "halimede_x, halimede_y = halimede_bilan[2], halimede_bilan[3]\n",
    "sao_x, sao_y = sao_bilan[2], sao_bilan[3]\n",
    "psamathee_x, psamathee_y = psamathee_bilan[2], psamathee_bilan[3]\n",
    "\n",
    "plt.scatter(0, 0)\n",
    "plt.plot(triton_x, triton_y, '.', label='Triton')\n",
    "plt.plot(sao_x, sao_y, 'r.', label='Sao')\n",
    "plt.plot(nereid_x, nereid_y, 'b.', label='Nereid')\n",
    "plt.plot(halimede_x, halimede_y, 'g.', label='Halimede')\n",
    "plt.plot(psamathee_x, psamathee_y, 'y.', label='Psamathee')\n",
    "plt.axis(\"equal\")\n",
    "plt.legend()\n",
    "plt.title(f\"Position des satellites (en km) dans le référentiel de Neptune\\n\")\n",
    "plt.show()"
   ]
  },
  {
   "cell_type": "markdown",
   "metadata": {},
   "source": [
    "#  3ème loi de Kepler : $T^2 = k \\times a^3$\n",
    "\n",
    "Le carré de la période de révolution est proportionnelle au cube du demi grand-axe de l'ellipse, et ne dépend pas du satellite considéré.\n",
    "\n",
    "La théorie indique que $k = \\dfrac{4\\pi ^2}{G M}$ ($M$ est la masse de l'astre attracteur, Neptune dans nos exemples).\n",
    "\n",
    "M = 1,02.10^26 kg \n",
    "\n",
    "G = 6,67.10^-11 USI"
   ]
  },
  {
   "cell_type": "markdown",
   "metadata": {},
   "source": [
    "## Extraction des données\n",
    "\n",
    "Infos recueillies à partir du site \n",
    "https://fr.wikipedia.org/wiki/Satellites_naturels_de_Neptune\n",
    "\n",
    "Le fichier de données contient entre autres pour chaque satellite la période de révolution et le demi grand-axe de l'ellipse."
   ]
  },
  {
   "cell_type": "code",
   "execution_count": null,
   "metadata": {},
   "outputs": [],
   "source": [
    "with open('ephemerides/satellites-neptune.csv') as source:\n",
    "    donnees = csv.DictReader(source, delimiter=\",\")\n",
    "    descripteurs = donnees.fieldnames\n",
    "    donnees = list(donnees)\n",
    "\n",
    "# exemple de ce qu'on peut visualiser :\n",
    "for (clef, valeur) in donnees[0].items():\n",
    "    print(f\"{clef} : {valeur}\")\n",
    "    \n",
    "print(\"\\nLes satellites étudiés sont :\")\n",
    "for s in donnees:\n",
    "    print(s['Satellite'])"
   ]
  },
  {
   "cell_type": "markdown",
   "metadata": {},
   "source": [
    "## On garde uniquement les périodes et demi grands-axes"
   ]
  },
  {
   "cell_type": "code",
   "execution_count": null,
   "metadata": {},
   "outputs": [],
   "source": [
    "a = [donnee[\"Demi grand axe (km)\"] for donnee in donnees]\n",
    "T = [donnee[\"Période (j)\"] for donnee in donnees]"
   ]
  },
  {
   "cell_type": "markdown",
   "metadata": {},
   "source": [
    "## Mise en forme numérique puis conversion en np.array et unité SI"
   ]
  },
  {
   "cell_type": "code",
   "execution_count": null,
   "metadata": {},
   "outputs": [],
   "source": [
    "a = [float(valeur.replace(\",\",\".\")) for valeur in a]\n",
    "T = [float(valeur.replace(\",\",\".\")) for valeur in T]\n",
    "a = np.array(a) * 1000 # 1 km = 1000 m\n",
    "T = np.array(T) * 24 * 3600 # 1 j = 24 h * 3600 s"
   ]
  },
  {
   "cell_type": "markdown",
   "metadata": {},
   "source": [
    "## Tracé de $T^2$ en fonction de $a^3$"
   ]
  },
  {
   "cell_type": "code",
   "execution_count": null,
   "metadata": {},
   "outputs": [],
   "source": [
    "%matplotlib inline\n",
    "abscisse, ordonnee = a**3, T**2\n",
    "plt.plot(abscisse, ordonnee, 'o')\n",
    "plt.xlabel(\"$a^3$ ($m^3$)\")\n",
    "plt.ylabel(\"$T^2$ ($s^2$)\")\n",
    "plt.show()"
   ]
  },
  {
   "cell_type": "markdown",
   "metadata": {},
   "source": [
    "### Modélisation par une fonction linéaire (3ème loi Kepler : $T^2 = k \\times a^3$)"
   ]
  },
  {
   "cell_type": "code",
   "execution_count": null,
   "metadata": {},
   "outputs": [],
   "source": [
    "# module utile pour la modélisation\n",
    "from scipy.optimize import curve_fit"
   ]
  },
  {
   "cell_type": "code",
   "execution_count": null,
   "metadata": {},
   "outputs": [],
   "source": [
    "# fonction linéaire pour le modèle de la 3ème loi de Kepler\n",
    "def modele_lineaire(x, k):\n",
    "    return k * x"
   ]
  },
  {
   "cell_type": "code",
   "execution_count": null,
   "metadata": {},
   "outputs": [],
   "source": [
    "# obtention des paramètres du modèle (le coefficient directeur k)\n",
    "modele, _ = curve_fit(modele_lineaire, abscisse, ordonnee)\n",
    "k = modele[0]\n",
    "print(f\"k = {k:#.2g} USI\")"
   ]
  },
  {
   "cell_type": "code",
   "execution_count": null,
   "metadata": {},
   "outputs": [],
   "source": [
    "# Comparaison avec la valeur théorique :\n",
    "M = 1.02*10**26\n",
    "G = 6.67*10**(-11)\n",
    "k_theorie = 4 * pi**2 / (G * M)\n",
    "print(f\"k_theorie = {k_theorie:#.2g} USI\")\n",
    "\n",
    "# écart relatif\n",
    "print(f\"écart relatif entre théorie et expérience : {(k - k_theorie)/k_theorie:.0%}\")"
   ]
  },
  {
   "cell_type": "code",
   "execution_count": null,
   "metadata": {},
   "outputs": [],
   "source": [
    "%matplotlib notebook\n",
    "### PENSER  A  ZOOMER VERS L'ORIGINE POUR VOIR LES PREMIERS POINTS ###\n",
    "plt.plot(abscisse, k * a**3, 'r-')\n",
    "plt.plot(abscisse, ordonnee, 'o')\n",
    "plt.xlabel(\"$a^3$ ($m^3$)\")\n",
    "plt.ylabel(\"$T^2$ ($s^2$)\")\n",
    "plt.show()"
   ]
  },
  {
   "cell_type": "markdown",
   "metadata": {},
   "source": [
    "# 2ème loi de Kepler\n",
    "Le rayon vecteur (liant Neptune à un satellite) balaie des aires égales pendant des durées égales."
   ]
  },
  {
   "cell_type": "markdown",
   "metadata": {},
   "source": [
    "### Détermination de l'aire balayée entre 2 dates :\n",
    "Pour essayer de vérifier la 2eme loi de Kepler, on propose d'approximer l'aire balayée (par le rayon vecteur) par l'aire d'un triangle : cette approximation est raisonnable si la durée entre les 2 dates est suffisament courte pour que le tronçon d'ellipse s'apparente à un segment de droite.\n",
    "\n",
    "Nous aurons besoin d'une formule pour calculer l'aire d'un triangle à partir des longueurs de ses côtés :\n",
    "\n",
    "Pour calculer l'aire d'un triangle dont les longueurs des côtés sont a, b et c et le demi-périmètre $ p={\\dfrac {a+b+c}{2}}$, on peut utiliser la formule de Héron :\n",
    "$S={\\dfrac {1}{4}}{\\sqrt {(a+b+c)(-a+b+c)(a-b+c)(a+b-c)}}={\\sqrt {p(p-a)(p-b)(p-c)}}$\n",
    "\n",
    "\n",
    "\n",
    "On rappelle par ailleurs que la distance entre deux points de coordonnées $(x_A, y_A)$ et $(x_B, y_B)$ est :\n",
    "$d = \\sqrt{(x_A - x_B)^2 + (y_A - y_B)^2 }$."
   ]
  },
  {
   "cell_type": "markdown",
   "metadata": {},
   "source": [
    "#### Fonction qui calcule la surface d'un triangle dont un sommet est le centre du repère"
   ]
  },
  {
   "cell_type": "code",
   "execution_count": null,
   "metadata": {},
   "outputs": [],
   "source": [
    "def surface(xA, yA, xB, yB):\n",
    "    \"\"\" calcule la surface d'un triangle OAB (O est l'origine du repère) \n",
    "    xA, yA, xB, yB sont les coordonnées des sommets A et B \"\"\"\n",
    "    a = sqrt(xA**2 + yA**2)\n",
    "    b = sqrt(xB**2 + yB**2)\n",
    "    c = sqrt((xB - xA)**2 + (yB - yA)**2)\n",
    "    p = (a + b + c) / 2 \n",
    "    s = (1/4) * sqrt(p * (p-a) * (p-b) * (p-c)) # formule de Héron\n",
    "    return s"
   ]
  },
  {
   "cell_type": "markdown",
   "metadata": {},
   "source": [
    "##  Travail sur le satellite Halimède\n",
    "On reprend un script précédent en le simplifiant un peu (pas de tracé de graphique en particulier, et pas de fioritures...)"
   ]
  },
  {
   "cell_type": "code",
   "execution_count": null,
   "metadata": {},
   "outputs": [],
   "source": [
    "def jpl_horizons(donnees):\n",
    "    \"\"\" donnees est le fichier de données éphémérides du satellite \n",
    "    Utilise une source de données issue de JPL HORIZONS \"\"\"\n",
    "    with open(donnees) as source:\n",
    "        donnees = list(csv.DictReader(source, delimiter=\",\"))\n",
    "    dates = [donnee[\"Calendar Date (TDB)\"][6:-14] for donnee in donnees]\n",
    "    dates_Julien = [float(donnee[\"JDTDB\"].replace(',','.')) for donnee in donnees]\n",
    "    dt = dates_Julien[1] - dates_Julien[0]\n",
    "    t = np.array([dt*i for i in range(len(dates))])\n",
    "    x = np.array([float(donnee[\"X\"].replace(',','.')) for donnee in donnees])\n",
    "    y = np.array([float(donnee[\"Y\"].replace(',','.')) for donnee in donnees])\n",
    "    return dates, t, x, y"
   ]
  },
  {
   "cell_type": "code",
   "execution_count": null,
   "metadata": {},
   "outputs": [],
   "source": [
    "# pour tracer des polygones (pour nous des triangles)\n",
    "from matplotlib.patches import Polygon"
   ]
  },
  {
   "cell_type": "markdown",
   "metadata": {},
   "source": [
    "## On veut tracer sur le même graphique la trajectoire du satellite et les aires balayées par le rayon vecteur entre quelques positions.\n",
    "## Par ailleurs, on calcule et affiche les valeurs de ces aires.\n",
    "On trace toujours l'aire balayée (approximée par un triangle) entre une position et la position suivante pour conserver des durées égales ! Cependant on ne trace pas ces triangles à toutes les positons pour que le graphique reste lisible."
   ]
  },
  {
   "cell_type": "code",
   "execution_count": null,
   "metadata": {},
   "outputs": [],
   "source": [
    "%matplotlib inline\n",
    "\n",
    "#######extraction des données utiles  ##########\n",
    "donnees = \"ephemerides/halimede-neptune.csv\"\n",
    "dates, t, x, y = jpl_horizons(donnees)\n",
    "\n",
    "###### tracé du graphique ###########\n",
    "fig, ax = plt.subplots()\n",
    "\n",
    "plt.scatter(0, 0)\n",
    "plt.plot(x, y, 'r.')\n",
    "plt.axis(\"equal\")\n",
    "plt.title(f\"Position de Halimede (en km) dans le référentiel de Neptune\\n\")\n",
    "\n",
    "pas = 4 # 'pas' entre les zones où on trace un triangle et calcule son aire\n",
    "for i in range(0, len(x), pas):\n",
    "    xA, yA, xB, yB = x[i], y[i], x[i+1], y[i+1]\n",
    "    triangle = Polygon([(0,0),(xA, yA),(xB, yB)], facecolor='0.8', edgecolor='0.5')\n",
    "    ax.add_patch(triangle)\n",
    "\n",
    "plt.show()\n",
    "\n",
    "########## calcul et affichage des aires ###########\n",
    "for i in range(0, len(x), pas):\n",
    "    xA, yA, xB, yB = x[i], y[i], x[i+1], y[i+1]\n",
    "    dateA, dateB = dates[i], dates[i+1]\n",
    "    a, b = t[i], t[i+1]\n",
    "    s = surface(xA, yA, xB, yB)\n",
    "    print(f\"Entre {dateA} et {dateA} (durée {b-a} j): aire balayée = {s:#.2g} km^2\")"
   ]
  },
  {
   "cell_type": "markdown",
   "metadata": {},
   "source": [
    "#  Script auto\n",
    "On automatise le travail précédent dans une fonction pour \"s'amuser\" rapidement avec d'autres satellites."
   ]
  },
  {
   "cell_type": "code",
   "execution_count": null,
   "metadata": {},
   "outputs": [],
   "source": [
    "def kepler_2(donnees, nom, pas):\n",
    "    \"\"\" Reprend la démarche vue avec Halimède pour un satellites dont l'éphéméride est dans le fichier donnees \"\"\"\n",
    "    \n",
    "    dates, t, x, y = jpl_horizons(donnees)\n",
    "\n",
    "    fig, ax = plt.subplots()\n",
    "\n",
    "    plt.scatter(0, 0)\n",
    "    plt.plot(x, y, 'r.')\n",
    "    plt.axis(\"equal\")\n",
    "    plt.title(f\"Position de {nom} (en km) dans le référentiel de Neptune\\n\")\n",
    "\n",
    "    for i in range(0, len(x), pas):\n",
    "        xA, yA, xB, yB = x[i], y[i], x[i+1], y[i+1]\n",
    "        triangle = Polygon([(0,0),(xA, yA),(xB, yB)], facecolor='0.8', edgecolor='0.5')\n",
    "        ax.add_patch(triangle)\n",
    "\n",
    "    plt.show()\n",
    "\n",
    "    for i in range(0, len(x), pas):\n",
    "        xA, yA, xB, yB = x[i], y[i], x[i+1], y[i+1]\n",
    "        dateA, dateB = dates[i], dates[i+1]\n",
    "        a, b = t[i], t[i+1]\n",
    "        s = surface(xA, yA, xB, yB)\n",
    "        print(f\"Entre {dateA} et {dateA} (durée {b-a} j): aire balayée = {s:#.2g} km^2\")"
   ]
  },
  {
   "cell_type": "markdown",
   "metadata": {},
   "source": [
    "### Exemples complémentaires avec  Néréid, Sao et Psamathée\n",
    "La variabilité des aires obtenues (en particulier avec Psamathée) rappelle que la méthode reste approximative et permet d'ouvrir sur la notion d'incertitudes."
   ]
  },
  {
   "cell_type": "code",
   "execution_count": null,
   "metadata": {},
   "outputs": [],
   "source": [
    "donnees = \"ephemerides/nereid-neptune.csv\"\n",
    "nom = \"nereid\"\n",
    "pas = 5\n",
    "kepler_2(donnees, nom, pas)\n",
    "\n",
    "donnees = \"ephemerides/sao-neptune.csv\"\n",
    "nom = \"Sao\"\n",
    "pas = 6\n",
    "kepler_2(donnees, nom, pas)\n",
    "\n",
    "donnees = \"ephemerides/psamathee-neptune.csv\"\n",
    "nom = \"Psamathee\"\n",
    "pas = 4\n",
    "kepler_2(donnees, nom, pas)"
   ]
  },
  {
   "cell_type": "code",
   "execution_count": null,
   "metadata": {},
   "outputs": [],
   "source": []
  }
 ],
 "metadata": {
  "kernelspec": {
   "display_name": "Python 3",
   "language": "python",
   "name": "python3"
  },
  "language_info": {
   "codemirror_mode": {
    "name": "ipython",
    "version": 3
   },
   "file_extension": ".py",
   "mimetype": "text/x-python",
   "name": "python",
   "nbconvert_exporter": "python",
   "pygments_lexer": "ipython3",
   "version": "3.8.5"
  }
 },
 "nbformat": 4,
 "nbformat_minor": 4
}
