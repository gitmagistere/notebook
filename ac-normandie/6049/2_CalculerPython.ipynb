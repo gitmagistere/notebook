{
 "cells": [
  {
   "cell_type": "markdown",
   "metadata": {},
   "source": [
    "# Calculer avec Python #"
   ]
  },
  {
   "cell_type": "markdown",
   "metadata": {},
   "source": [
    "Python intègre les opérations de base telles que l'addition, la soustraction, la multiplication, les puissances, la division, la division entière ou encore le calcul d'un reste.\n",
    "Des calculs plus complexes sont possibles en important des fonctions supplémentaires depuis une bibliothèque mathématique."
   ]
  },
  {
   "cell_type": "markdown",
   "metadata": {},
   "source": [
    "## 1. Les opérations de base et leur syntaxe ##"
   ]
  },
  {
   "cell_type": "markdown",
   "metadata": {},
   "source": [
    "**Addition et soustraction**"
   ]
  },
  {
   "cell_type": "code",
   "execution_count": null,
   "metadata": {},
   "outputs": [],
   "source": [
    "print(5 + 6)  # Somme de deux entiers, le résutat est entier.\n",
    "print(5 + 6.) # Somme d'un entier et d'un décimal, le résultat est décimal.\n",
    "print(5 - 6)"
   ]
  },
  {
   "cell_type": "markdown",
   "metadata": {},
   "source": [
    "**Multiplication et division**"
   ]
  },
  {
   "cell_type": "code",
   "execution_count": null,
   "metadata": {},
   "outputs": [],
   "source": [
    "print(5 * 6)\n",
    "print(5 / 6)"
   ]
  },
  {
   "cell_type": "markdown",
   "metadata": {},
   "source": [
    "**Puissance**"
   ]
  },
  {
   "cell_type": "markdown",
   "metadata": {},
   "source": [
    "Python n'utilise pas la touche **^** mais la combinaison ******."
   ]
  },
  {
   "cell_type": "code",
   "execution_count": null,
   "metadata": {},
   "outputs": [],
   "source": [
    "print(5 ** 2)\n",
    "print(2 ** 8)"
   ]
  },
  {
   "cell_type": "markdown",
   "metadata": {},
   "source": [
    "**Division entière et calcul du reste**"
   ]
  },
  {
   "cell_type": "code",
   "execution_count": null,
   "metadata": {},
   "outputs": [],
   "source": [
    "a = 127\n",
    "b = 11\n",
    "print(\"Quotient de a par b : \", a // b)\n",
    "print(\"Reste de la division de a par b : \", a % b)"
   ]
  },
  {
   "cell_type": "markdown",
   "metadata": {},
   "source": [
    "## 2. Utiliser des fonctions mathématiques ##"
   ]
  },
  {
   "cell_type": "markdown",
   "metadata": {},
   "source": [
    "Pour utiliser des fonctions mathématiques, il est nécessaire de les importer depuis la bibliothèque *math*.\n",
    "On peut :\n",
    "* l'importer en entier,\n",
    "* n'importer que les fonctions nécessaires."
   ]
  },
  {
   "cell_type": "code",
   "execution_count": null,
   "metadata": {},
   "outputs": [],
   "source": [
    "# Ce code doit renvoyer une erreur pour le cosinus...\n",
    "from math import pi\n",
    "print(pi)\n",
    "print(cos(pi))"
   ]
  },
  {
   "cell_type": "code",
   "execution_count": null,
   "metadata": {},
   "outputs": [],
   "source": [
    "# Celui-ci doit fonctionner...\n",
    "from math import pi, cos\n",
    "print(pi)\n",
    "print(cos(pi))"
   ]
  },
  {
   "cell_type": "markdown",
   "metadata": {},
   "source": [
    "L'ensemble des fonctions disponibles dans la bibliothèque *math* sont décrites ici :\n",
    "* [Fonctions mathématiques](http://www.python-simple.com/python-modules-math/fonctions-mathematiques.php)\n",
    "* [Documentation officielle, exhaustive](https://docs.python.org/fr/3/library/math.html)"
   ]
  },
  {
   "cell_type": "markdown",
   "metadata": {},
   "source": [
    "### 3. Écriture des résultats ###"
   ]
  },
  {
   "cell_type": "markdown",
   "metadata": {},
   "source": [
    "**Arrondir à n chiffres après la virgule**"
   ]
  },
  {
   "cell_type": "markdown",
   "metadata": {},
   "source": [
    "La fonction *round()* permet d'arrondir un résultat avec un nombre de décimales voulu."
   ]
  },
  {
   "cell_type": "code",
   "execution_count": null,
   "metadata": {},
   "outputs": [],
   "source": [
    "from math import pi\n",
    "print(\"valeur de pi : \", pi)\n",
    "print(\"Pi arrondi à 6 décimales\",round(pi, 4))\n",
    "print(\"Pi arrondi à 2 décimales\",round(pi, 2))"
   ]
  },
  {
   "cell_type": "markdown",
   "metadata": {},
   "source": [
    "On peut aussi utiliser les f-string pour le même résultat :"
   ]
  },
  {
   "cell_type": "code",
   "execution_count": null,
   "metadata": {},
   "outputs": [],
   "source": [
    "print(f\"Pi arrondi à 6 décimales : {pi :.6f}\")"
   ]
  },
  {
   "cell_type": "markdown",
   "metadata": {},
   "source": [
    "**Écriture scientifique d'un nombre**"
   ]
  },
  {
   "cell_type": "markdown",
   "metadata": {},
   "source": [
    "Avec la méthode f-string, ce formatage est assuré par *{variable : .**n**e}*, où **n** est le nombre de décimales souhaitées."
   ]
  },
  {
   "cell_type": "code",
   "execution_count": null,
   "metadata": {},
   "outputs": [],
   "source": [
    "a = 299792458.\n",
    "print(f\"Notation scientifique avec 2 décimales : {a : .2e}\")\n",
    "print(f\"Notation scientifique avec 5 décimales : {a : .5e}\")"
   ]
  }
 ],
 "metadata": {
  "kernelspec": {
   "display_name": "Python 3",
   "language": "python",
   "name": "python3"
  },
  "language_info": {
   "codemirror_mode": {
    "name": "ipython",
    "version": 3
   },
   "file_extension": ".py",
   "mimetype": "text/x-python",
   "name": "python",
   "nbconvert_exporter": "python",
   "pygments_lexer": "ipython3",
   "version": "3.8.2"
  }
 },
 "nbformat": 4,
 "nbformat_minor": 4
}
