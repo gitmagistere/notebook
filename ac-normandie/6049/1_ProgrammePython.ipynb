{
 "cells": [
  {
   "cell_type": "markdown",
   "metadata": {},
   "source": [
    "# Les bases pour commencer en Python #"
   ]
  },
  {
   "cell_type": "markdown",
   "metadata": {},
   "source": [
    "### 1. Mots-clés ###"
   ]
  },
  {
   "cell_type": "markdown",
   "metadata": {},
   "source": [
    "Comme tout langage de programmation, un programme Python comporte des lignes de code qui doivent respecter utiliser un vocabulaire (mots clés réservés) et une syntaxe précise.\n",
    "\n",
    "Les mots-clés ont une signification pour l'interpréteur et ne peuvent pas être utilisés pour nommer une variable.\n",
    "Ci-dessous, quelques mots-clés parmi les plus utilisés :\n",
    "*and or from not while if elif else import print input int in range is return def for try* \n",
    "\n",
    "L'écriture d'un programme qui fonctionne demande précision et rigueur. La moindre erreur fera que le programme ne fonctionnera pas.\n",
    "Une attention particulière doit être portée à l'indentation, c'est-à-dire l'alignement des lignes de commandes."
   ]
  },
  {
   "cell_type": "markdown",
   "metadata": {},
   "source": [
    "### 2. Les variables ###"
   ]
  },
  {
   "cell_type": "markdown",
   "metadata": {},
   "source": [
    "Tout programme utilise des *variables* pour stocker des valeurs.\n",
    "Le nom d'une variable est choisi par le programmeur et doit être différent d'un mot-clé."
   ]
  },
  {
   "cell_type": "markdown",
   "metadata": {},
   "source": [
    "**Définir une variable**"
   ]
  },
  {
   "cell_type": "code",
   "execution_count": null,
   "metadata": {},
   "outputs": [],
   "source": [
    "temperature = 20 #un entier, de type int\n",
    "g = 9.8 #un décimal dont la virgule est un point , de type float\n",
    "nom = \"Bellessort\" #une chaine de caractéres\n",
    "\n",
    "# sert à écrire un commentaire pour faciliter la relecture. Ignoré lors de l'exécution du programme."
   ]
  },
  {
   "cell_type": "markdown",
   "metadata": {},
   "source": [
    "Pour afficher le contenu des variables, on utilise la fonction print() comme ci-dessous."
   ]
  },
  {
   "cell_type": "code",
   "execution_count": null,
   "metadata": {},
   "outputs": [],
   "source": [
    "print(temperature)\n",
    "print(g)\n",
    "print(nom)"
   ]
  },
  {
   "cell_type": "markdown",
   "metadata": {},
   "source": [
    "**Remarques sur les méthodes d'affichage : inclure le contenu d'une variable dans une chaîne avec les f-string**<br>\n",
    "Exécuter la cellule ci-dessous pour illustrer la notion de f-string."
   ]
  },
  {
   "cell_type": "code",
   "execution_count": null,
   "metadata": {},
   "outputs": [],
   "source": [
    "print(f\"La température de la pièce est de {temperature:.1f} °C\")\n",
    "print(f\"Mon nom de famille est {nom}.\")"
   ]
  },
  {
   "cell_type": "markdown",
   "metadata": {},
   "source": [
    "* print() permet d'afficher des chaînes de caractères, des nombres ou la valeur d'une variable.\n",
    "* les f-string (le *f* devant les guillements) qui permettent d'inclure le contenu d'une variable au coeur d'une chaîne de caractère.\n",
    "* Le contenu d'une variable est placé entre **{}**.\n",
    "* L'affichage des nombres peut être formaté {*variable* : **.format d'affichage**}, par exemple {temperature : .1f} indique qu'on affiche le contenu de la variable *temperature*, en écriture décimale (*f*) et avec 1 chiffre après la virgule."
   ]
  },
  {
   "cell_type": "markdown",
   "metadata": {},
   "source": [
    "**Affecter une valeur à une variable lors de l'exécution d'un programme**"
   ]
  },
  {
   "cell_type": "markdown",
   "metadata": {},
   "source": [
    "Il s'agit de demander à l'utilisateur d'entrer une valeur au clavier au cours d'un programme.\n",
    "On utilise la commande *input()*."
   ]
  },
  {
   "cell_type": "code",
   "execution_count": null,
   "metadata": {},
   "outputs": [],
   "source": [
    "nom = input(\"Entrez votre nom et prénom\")  # nom est une chaîne de caractères\n",
    "resistance = int(input(\"Entrez la valeur de la résistance\"))  # int() convertit la chaîne entrée au clavier en variable de type entier.\n",
    "temperature = float(input(\"Entrez la valeur de la température\"))  # float() convertit la chaîne de caractères en décimal"
   ]
  },
  {
   "cell_type": "markdown",
   "metadata": {},
   "source": [
    "On peut vérifier les valeurs entrée commme précédemment."
   ]
  },
  {
   "cell_type": "code",
   "execution_count": null,
   "metadata": {},
   "outputs": [],
   "source": [
    "print(f\"Bonjour {nom} !\")\n",
    "print(f\"Il fait {temperature:.1f}°C, j'espère que vous n'avez pas froid.\")"
   ]
  },
  {
   "cell_type": "markdown",
   "metadata": {},
   "source": [
    "### 3. Les listes ###"
   ]
  },
  {
   "cell_type": "markdown",
   "metadata": {},
   "source": [
    "Les listes permettent de regrouper des séries de mesures et de les manipuler par la suite.\n",
    "ATTENTION : il existe deux méthodes courantes pour créer des listes dans un programme Python. Les comportements sont différents et détaillés dans la suite."
   ]
  },
  {
   "cell_type": "markdown",
   "metadata": {},
   "source": [
    "**Listes Python natives**"
   ]
  },
  {
   "cell_type": "code",
   "execution_count": null,
   "metadata": {},
   "outputs": [],
   "source": [
    "X = []  # Création d'une liste vide\n",
    "temperatures = [20.2, 15.6, 10.3, 8.4, 17.9, 6.6]  # Liste de 6 valeurs numérotées de 0 à 5\n",
    "longueur=len(temperatures)\n",
    "print(temperatures)  # affiche la liste\n",
    "print(longueur)  # affiche le nombre de termes de la liste\n",
    "print(temperatures[longueur-1])  # affiche le dernier terme de la liste\n",
    "temp_reelle=[]\n",
    "# pour effectuer un calcul sur tous les termes d'une liste Python :\n",
    "for i in range(len(temperatures)):  # i varie de 0 à longueur-1\n",
    "    temp_reelle.append(temperatures[i]-2)\n",
    "print(temp_reelle)"
   ]
  },
  {
   "cell_type": "markdown",
   "metadata": {},
   "source": [
    "On peut modifier une valeur dans une liste :"
   ]
  },
  {
   "cell_type": "code",
   "execution_count": null,
   "metadata": {},
   "outputs": [],
   "source": [
    "temperatures[4] = 7.9  # On modifie la 5ème valeur\n",
    "print(temperatures)"
   ]
  },
  {
   "cell_type": "markdown",
   "metadata": {},
   "source": [
    "On peut ajouter une valeur à une liste :"
   ]
  },
  {
   "cell_type": "code",
   "execution_count": null,
   "metadata": {},
   "outputs": [],
   "source": [
    "temperatures.append(3.3)  # On ajoute la valeur 3.3 à la fin de la liste\n",
    "print(temperatures)"
   ]
  },
  {
   "cell_type": "markdown",
   "metadata": {},
   "source": [
    "Connaître la longeur d'une liste :"
   ]
  },
  {
   "cell_type": "code",
   "execution_count": null,
   "metadata": {},
   "outputs": [],
   "source": [
    "print(len(temperatures))"
   ]
  },
  {
   "cell_type": "markdown",
   "metadata": {},
   "source": [
    "Afficher __la dernière valeur__ d'une liste :"
   ]
  },
  {
   "cell_type": "code",
   "execution_count": null,
   "metadata": {},
   "outputs": [],
   "source": [
    "print(temperatures[-1])"
   ]
  },
  {
   "cell_type": "markdown",
   "metadata": {},
   "source": [
    "Supprimer une valeur particulière :"
   ]
  },
  {
   "cell_type": "code",
   "execution_count": null,
   "metadata": {},
   "outputs": [],
   "source": [
    "temperatures.pop(1)  # On supprime la deuxième valeur\n",
    "print(temperatures)"
   ]
  },
  {
   "cell_type": "markdown",
   "metadata": {},
   "source": [
    "**Créer et manipuler des listes avec numpy**"
   ]
  },
  {
   "cell_type": "markdown",
   "metadata": {},
   "source": [
    "numpy est une bibliothèque permettant d'effectuer des calculs et de créer des tableaux de valeurs.\n",
    "On commence par l'importer :"
   ]
  },
  {
   "cell_type": "code",
   "execution_count": null,
   "metadata": {},
   "outputs": [],
   "source": [
    "import numpy as np  # numpy est importée et appelée par le nom court np"
   ]
  },
  {
   "cell_type": "markdown",
   "metadata": {},
   "source": [
    "Création de la liste :"
   ]
  },
  {
   "cell_type": "code",
   "execution_count": null,
   "metadata": {},
   "outputs": [],
   "source": [
    "temperatures = np.array([20.2, 15.6, 10.3, 8.4, 17.9, 6.6])\n",
    "print(temperatures)\n",
    "# Avec numpy, il est rapide d'effectuer un calcul sur tous les termes d'une liste (pas besoin de boucle)\n",
    "temp_reelle = temperatures - 2\n",
    "print(temp_reelle)"
   ]
  },
  {
   "cell_type": "markdown",
   "metadata": {},
   "source": [
    "Ajout d'une valeur en fin de tableau :"
   ]
  },
  {
   "cell_type": "code",
   "execution_count": null,
   "metadata": {},
   "outputs": [],
   "source": [
    "temperatures = np.append(temperatures, 6.7)\n",
    "print(temperatures)"
   ]
  },
  {
   "cell_type": "markdown",
   "metadata": {},
   "source": [
    "Supprimer une valeur particulière"
   ]
  },
  {
   "cell_type": "code",
   "execution_count": null,
   "metadata": {},
   "outputs": [],
   "source": [
    "temperatures = np.delete(temperatures, 2)  # supprime la valeur de rang 2 dans la liste, donc la troisième valeur\n",
    "print(temperatures)"
   ]
  },
  {
   "cell_type": "markdown",
   "metadata": {},
   "source": [
    "Inserer une valeur à une position donnée"
   ]
  },
  {
   "cell_type": "code",
   "execution_count": null,
   "metadata": {},
   "outputs": [],
   "source": [
    "temperatures = np.insert(temperatures, 4, 30.25)  # Insère la température 30.25 à la position 4 dans la liste\n",
    "print(temperatures)"
   ]
  },
  {
   "cell_type": "markdown",
   "metadata": {},
   "source": [
    "**FONDAMENTAL - Différences de comportements des deux types de listes**"
   ]
  },
  {
   "cell_type": "markdown",
   "metadata": {},
   "source": [
    "Les cellules ci-dessous montrent les différences de comportements des listes créées nativement ou via numpy."
   ]
  },
  {
   "cell_type": "code",
   "execution_count": null,
   "metadata": {},
   "outputs": [],
   "source": [
    "# Addition de deux listes créées nativement\n",
    "A = [2, 3]\n",
    "B = [5, 6]\n",
    "C = A + B\n",
    "print(\"Addition des deux listes : \", C)\n",
    "# Produit\n",
    "C = A * 3\n",
    "print(\"Produit par un entier : \", C)"
   ]
  },
  {
   "cell_type": "code",
   "execution_count": null,
   "metadata": {},
   "outputs": [],
   "source": [
    "# Addition de deux listes créées avec numpy\n",
    "import numpy as np\n",
    "A = np.array([2, 3])\n",
    "B = np.array([5, 6])\n",
    "print(\"A : \", A)\n",
    "print(\"B : \", B)\n",
    "C = A + B\n",
    "print(\"Somme des deux listes : \", C)\n",
    "# Multiplication\n",
    "C = A * 3\n",
    "print(\"Produit par un nombre : \", C)\n",
    "C = A * B\n",
    "print(\"Produit des deux listes : \", C)\n",
    "C = A ** 2\n",
    "print(\"Élévation au carré de chaque terme : \", C)"
   ]
  },
  {
   "cell_type": "markdown",
   "metadata": {},
   "source": [
    "Pour effectuer des opérations sur tous les termes d'une liste créée nativement dans Python, il faut passer par une **boucle**.<br>\n",
    "L'exemple ci-dessous additionne terme à terme deux listes et élève chaque terme au carré."
   ]
  },
  {
   "cell_type": "code",
   "execution_count": null,
   "metadata": {},
   "outputs": [],
   "source": [
    "A = [2, 3]\n",
    "B = [5, 6]\n",
    "# Addition des termes\n",
    "C = []\n",
    "for i in range(len(A)):\n",
    "    C.append(A[i]+B[i])\n",
    "print(\"Addition de chaque terme : \", C)\n",
    "# Élévation au carré\n",
    "C = []\n",
    "for i in range(len(A)):\n",
    "    C.append(A[i] ** 2)\n",
    "print(\"Élévation des termes au carré : \", C)"
   ]
  },
  {
   "cell_type": "markdown",
   "metadata": {},
   "source": [
    "**Complément sur les listes**"
   ]
  },
  {
   "cell_type": "code",
   "execution_count": null,
   "metadata": {},
   "outputs": [],
   "source": [
    "import numpy as np\n",
    "x = np.linspace(0, 5, 21)\n",
    "print(\"x : \",x)"
   ]
  },
  {
   "cell_type": "markdown",
   "metadata": {},
   "source": [
    "Les opérations suivantes permettent de raccourcir certaines instructions avec les listes."
   ]
  },
  {
   "cell_type": "markdown",
   "metadata": {},
   "source": [
    "*Extraire les éléments d'une liste* <br>\n",
    "On utilise la syntaxe **x[début:fin:pas]**"
   ]
  },
  {
   "cell_type": "code",
   "execution_count": null,
   "metadata": {},
   "outputs": [],
   "source": [
    "print(\"Liste x : \", x)\n",
    "liste1 = x[1:4]  # construction de la liste y avec les éléments de x d'index 1 à 3\n",
    "liste2 = x[::2]  # construction d'une liste par extraction d'un terme sur deux de la liste x\n",
    "print(\"Liste 1 : \", liste1)\n",
    "print(\"Liste 2 : \",liste2)"
   ]
  },
  {
   "cell_type": "markdown",
   "metadata": {},
   "source": [
    "*Inversion de l'ordre d'une liste*"
   ]
  },
  {
   "cell_type": "code",
   "execution_count": null,
   "metadata": {},
   "outputs": [],
   "source": [
    "liste3 = x[-1::-1]  # On inverse l'ordre des termes dans la liste x\n",
    "print(\"Liste 3 : \", liste3)"
   ]
  },
  {
   "cell_type": "markdown",
   "metadata": {},
   "source": [
    "### 4. Les boucles ###"
   ]
  },
  {
   "cell_type": "markdown",
   "metadata": {},
   "source": [
    "Les boucles permettent d'effectuer des tâches répétitives, soit avec un nombre prédéfini d'itérations, soit avec une condition de sortie de boucle.\n",
    "Dans les cellules qui suivent, remarquez *l'indentation* des lignes qui permet de distinguer les commandes comprises dans la boucle de celles qui sont en dehors."
   ]
  },
  {
   "cell_type": "markdown",
   "metadata": {},
   "source": [
    "**Les boucles for**"
   ]
  },
  {
   "cell_type": "markdown",
   "metadata": {},
   "source": [
    "Elles sont utiles quand le nombre d'itérations est déterminé à l'avance."
   ]
  },
  {
   "cell_type": "markdown",
   "metadata": {},
   "source": [
    "Ci-dessous, on affiche i **de 0 jusqu'à 9**."
   ]
  },
  {
   "cell_type": "code",
   "execution_count": null,
   "metadata": {},
   "outputs": [],
   "source": [
    "for i in range (10):\n",
    "    print(i)"
   ]
  },
  {
   "cell_type": "markdown",
   "metadata": {},
   "source": [
    "On peut aussi ne pas compter de 1 en 1 :"
   ]
  },
  {
   "cell_type": "code",
   "execution_count": null,
   "metadata": {},
   "outputs": [],
   "source": [
    "for i in range(0, 10, 3):\n",
    "    print(i)"
   ]
  },
  {
   "cell_type": "markdown",
   "metadata": {},
   "source": [
    "On peut s'en servir pour parcourir le contenu d'une liste :"
   ]
  },
  {
   "cell_type": "code",
   "execution_count": null,
   "metadata": {},
   "outputs": [],
   "source": [
    "for temp in temperatures:\n",
    "    print(\"Température en kelvins :\", temp + 273.15)"
   ]
  },
  {
   "cell_type": "markdown",
   "metadata": {},
   "source": [
    "**Les boucles while**"
   ]
  },
  {
   "cell_type": "markdown",
   "metadata": {},
   "source": [
    "Elles sont utilisées quand on veut définir une condition de sortie de la boucle, sous forme d'un test."
   ]
  },
  {
   "cell_type": "code",
   "execution_count": null,
   "metadata": {},
   "outputs": [],
   "source": [
    "from random import randint\n",
    "de = randint(1, 6)  # On tire un dé 6 faces\n",
    "while de != 6:  # Tant que de est différent (!=) de 6\n",
    "    print(\"Pas de 6 :(\")\n",
    "    de = randint(1, 6)\n",
    "print(\"J'ai fait un 6 !!! o)\")"
   ]
  },
  {
   "cell_type": "markdown",
   "metadata": {},
   "source": [
    "### 5. Les conditions"
   ]
  },
  {
   "cell_type": "markdown",
   "metadata": {},
   "source": [
    "Elles permettent d'exécuter des instructions selon qu'une condition est remplie ou non.\n",
    "Reprenons l'exemple du jeu de dés."
   ]
  },
  {
   "cell_type": "code",
   "execution_count": null,
   "metadata": {},
   "outputs": [],
   "source": [
    "from random import randint\n",
    "de1 = randint(1, 6)  # Dé tiré par le joueur 1\n",
    "de2 = randint(1, 6)  # Dé tiré par le joueur 2\n",
    "if de1 > de2 :\n",
    "    print(\"Le joueur 1 a gagné !\")\n",
    "elif de1 == de2 :\n",
    "    print(\"Partie nulle !\")\n",
    "else :\n",
    "    print(\"Le joueur 2 a gangé !\")"
   ]
  },
  {
   "cell_type": "markdown",
   "metadata": {},
   "source": [
    "### 6. Les fonctions ###"
   ]
  },
  {
   "cell_type": "markdown",
   "metadata": {},
   "source": [
    "Il est possible de définir des fonctions qui ne sont pas présentes initialement dans l'environnement Python.\n",
    "Une fonction peut soit :\n",
    "* renvoyer une valeur (return),\n",
    "* effectuer des actions (tracer des courbes, par exemple).\n",
    "L'exemple ci-dessous définit une fonction qui renvoie la concentration."
   ]
  },
  {
   "cell_type": "code",
   "execution_count": null,
   "metadata": {},
   "outputs": [],
   "source": [
    "def concentration(n, V):  # On donne le nom de la fonction et ses paramètres\n",
    "    return n/V"
   ]
  },
  {
   "cell_type": "markdown",
   "metadata": {},
   "source": [
    "Elle peut maintenant être utilisée pour effectuer des calculs."
   ]
  },
  {
   "cell_type": "code",
   "execution_count": null,
   "metadata": {},
   "outputs": [],
   "source": [
    "# Pour affecter une valeur à une variable\n",
    "c = concentration(0.5, 0.75)\n",
    "print(c)\n",
    "\n",
    "# Pour un affichage direct\n",
    "print(concentration(0.25, 1.5))"
   ]
  }
 ],
 "metadata": {
  "kernelspec": {
   "display_name": "Python 3",
   "language": "python",
   "name": "python3"
  },
  "language_info": {
   "codemirror_mode": {
    "name": "ipython",
    "version": 3
   },
   "file_extension": ".py",
   "mimetype": "text/x-python",
   "name": "python",
   "nbconvert_exporter": "python",
   "pygments_lexer": "ipython3",
   "version": "3.8.2"
  }
 },
 "nbformat": 4,
 "nbformat_minor": 4
}
