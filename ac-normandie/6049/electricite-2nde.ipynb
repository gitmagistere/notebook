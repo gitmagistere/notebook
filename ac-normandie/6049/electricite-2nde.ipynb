{
 "cells": [
  {
   "cell_type": "markdown",
   "metadata": {},
   "source": [
    "# Prog officiel : Représenter et exploiter la caractéristique d’un dipôle \n",
    "## Représenter un nuage de points associé à la caractéristique d’un dipôle et modéliser la caractéristique de ce dipôle à l’aide d’un langage de programmation."
   ]
  },
  {
   "cell_type": "markdown",
   "metadata": {},
   "source": [
    "Lire ma doc : [modelisation graphique](modelisation-graphique.html)"
   ]
  },
  {
   "cell_type": "code",
   "execution_count": null,
   "metadata": {},
   "outputs": [],
   "source": [
    "import math\n",
    "import numpy as np\n",
    "import matplotlib.pyplot as plt\n",
    "from scipy.optimize import curve_fit"
   ]
  },
  {
   "cell_type": "markdown",
   "metadata": {},
   "source": [
    "### On exploite les mesures de tension aux bornes d'un conducteur ohmique de résistance R = 470 ohms, en fonction de l'intensité I qui le traverse."
   ]
  },
  {
   "cell_type": "code",
   "execution_count": null,
   "metadata": {},
   "outputs": [],
   "source": [
    "# tension en V\n",
    "U = np.array([0.5, 0.9, 1.4, 1.9, 2.4, 2.8, 3.3, 3.8, 4.2]) \n",
    "# intensité en mA\n",
    "I = np.array([1, 2, 3, 4, 5, 6, 7, 8, 9])\n",
    "I = I / 1000 # conversion en A"
   ]
  },
  {
   "cell_type": "markdown",
   "metadata": {},
   "source": [
    "### La loi d'Ohm nous dit que U est proportionnelle à I : U = R I"
   ]
  },
  {
   "cell_type": "code",
   "execution_count": null,
   "metadata": {},
   "outputs": [],
   "source": [
    "# définition de la fonction modèle\n",
    "def loi_ohm(I, R):\n",
    "    \"\"\" Loi d'Ohm \"\"\"\n",
    "    U = R * I\n",
    "    return U\n",
    "\n",
    "# modélisation : recherche des paramètres optimisés du modèle (cf ma doc sur python scientifique)\n",
    "parametres = curve_fit(loi_ohm, I, U)[0]\n",
    "\n",
    "R = parametres[0] # il n'y a qu'un seul paramètre dans la modélisation ici\n",
    "print(f'R = {R} ohms')\n",
    "\n",
    "# calcul des ordonnées avec la fonction du modèle et les paramètres optimisés\n",
    "U_model = loi_ohm(I, R)\n",
    "\n",
    "# tracé des graphes des données à modéliser et de la fonction modèle optimisée\n",
    "plt.plot(I, U, 'rp') # valeurs expérimentales : points rouges\n",
    "plt.plot(I, U_model, 'b') # courbe modélisée en bleu\n",
    "\n",
    "plt.title(\"Caractéristique tension-courant \\nd'un conducteur ohmique\")\n",
    "plt.xlabel('I (A)')\n",
    "plt.ylabel('U (V)')\n",
    "plt.text(.001, 3.75, f'R = {R:.0f} ohms')\n",
    "plt.grid(True)\n",
    "\n",
    "plt.show()"
   ]
  },
  {
   "cell_type": "markdown",
   "metadata": {},
   "source": [
    "### On exploite les mesures de tension aux bornes d'une pile de fem E = 4,5 V et de résistance interne r = 4,8 ohms, en fonction de l'intensité I qu'elle débite."
   ]
  },
  {
   "cell_type": "code",
   "execution_count": null,
   "metadata": {},
   "outputs": [],
   "source": [
    "# tension en V\n",
    "U = np.array([4.5, 4.3, 4, 3.8, 3.5, 3.3, 3, 2.8, 2.6]) \n",
    "# intensité en mA\n",
    "I = np.array([i for i in range(0, 401, 50)])\n",
    "I = I / 1000 # conversion en A"
   ]
  },
  {
   "cell_type": "markdown",
   "metadata": {},
   "source": [
    "### La caractéristique de la pile est une fonction affine décroissante : U = E - r I"
   ]
  },
  {
   "cell_type": "code",
   "execution_count": null,
   "metadata": {},
   "outputs": [],
   "source": [
    "# définition de la fonction caractéristique\n",
    "def caracteristique_pile(I, E, r):\n",
    "    \"\"\" caractéristique d'une pile : U = E - r.I \"\"\"\n",
    "    U = E - r * I\n",
    "    return U\n",
    "\n",
    "# modélisation : recherche des paramètres optimisés du modèle\n",
    "parametres = curve_fit(caracteristique_pile, I, U)[0]\n",
    "\n",
    "E, r = parametres # il y a deux paramètres dans la modélisation ici\n",
    "print(f'E = {E} volts ; r = {r} ohms')\n",
    "\n",
    "# calcul des ordonnées avec la fonction du modèle et les paramètres optimisés\n",
    "U_model = caracteristique_pile(I, E, r)\n",
    "\n",
    "# tracé des graphes des données à modéliser et de la fonction modèle optimisée\n",
    "plt.plot(I, U, 'rp')\n",
    "plt.plot(I, U_model, color=\"blue\")\n",
    "\n",
    "plt.title(\"Caractéristique tension-courant \\nd'une pile\")\n",
    "plt.xlabel('I (A)')\n",
    "plt.ylabel('U (V)')\n",
    "plt.axis(ymin=0, ymax=5)\n",
    "plt.text(.31, 3.8, f'E = {E:.1f} volts \\nr = {r:.1f} ohms')\n",
    "plt.grid(True)\n",
    "\n",
    "plt.show()"
   ]
  },
  {
   "cell_type": "markdown",
   "metadata": {},
   "source": [
    "# VERSION 2 : librairie lineregress\n",
    "Avantage : plus simple\n",
    "\n",
    "Inconvénient : ne peut faire que des régressions linéaires\n"
   ]
  },
  {
   "cell_type": "code",
   "execution_count": null,
   "metadata": {},
   "outputs": [],
   "source": [
    "from scipy.stats import linregress"
   ]
  },
  {
   "cell_type": "code",
   "execution_count": null,
   "metadata": {},
   "outputs": [],
   "source": [
    "plt.plot(I, U, 'r+')\n",
    "plt.xlabel('intensité (mA)')\n",
    "\n",
    "\n",
    "# calcul du coeff directeur et de l'ordonnée à l'origine avec la fonction lineregress\n",
    "coefDir, OrdOrigine, *dechet = linregress(I, U)\n",
    "\n",
    "# tracé des graphes des données à modéliser et de la fonction modèle optimisée\n",
    "plt.plot(I, U, 'rp')\n",
    "plt.plot(I, coefDir*np.array(I)+OrdOrigine , 'b-')\n",
    "plt.plot(I, U_model, color=\"blue\")\n",
    "\n",
    "plt.title(\"Caractéristique tension-courant \\nd'une pile\")\n",
    "plt.xlabel('I (A)')\n",
    "plt.ylabel('U (V)')\n",
    "plt.axis(ymin=0, ymax=5)\n",
    "plt.text(.31, 3.8, f'E = {E:.1f} volts \\nr = {r:.1f} ohms')\n",
    "plt.grid(True)\n",
    "\n",
    "plt.show()"
   ]
  },
  {
   "cell_type": "code",
   "execution_count": null,
   "metadata": {},
   "outputs": [],
   "source": []
  }
 ],
 "metadata": {
  "kernelspec": {
   "display_name": "Python 3",
   "language": "python",
   "name": "python3"
  },
  "language_info": {
   "codemirror_mode": {
    "name": "ipython",
    "version": 3
   },
   "file_extension": ".py",
   "mimetype": "text/x-python",
   "name": "python",
   "nbconvert_exporter": "python",
   "pygments_lexer": "ipython3",
   "version": "3.8.6"
  }
 },
 "nbformat": 4,
 "nbformat_minor": 2
}
