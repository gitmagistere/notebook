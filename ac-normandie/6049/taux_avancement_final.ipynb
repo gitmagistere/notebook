{
 "cells": [
  {
   "cell_type": "markdown",
   "metadata": {},
   "source": [
    "# Prog officiel : Déterminer, à l’aide d’un langage de programmation, le taux d’avancement final d’une transformation, modélisée par la réaction d’un acide sur l’eau."
   ]
  },
  {
   "cell_type": "markdown",
   "metadata": {},
   "source": [
    "#### Je ne vois vraiment pas en quoi un langage de programmation va nous aider ici !?!"
   ]
  },
  {
   "cell_type": "markdown",
   "metadata": {},
   "source": [
    "$\\tau = \\dfrac{x_f}{x_{max}}$\n",
    "\n",
    "$K_A = \\dfrac{[H_3O^+]_e \\times [A^-]_e}{[HA]_e}$\n",
    "\n",
    "$[HA] = [HA] - \\dfrac{x}{V}$\n",
    "\n",
    "$[H_3O^+] = [A^-] = \\dfrac{x}{V}$\n",
    "\n",
    "$x_{max} = [HA]_i \\times V$"
   ]
  },
  {
   "cell_type": "markdown",
   "metadata": {},
   "source": [
    "#### Je propose (parce qu'il faut bien utiliser un langage de programmation !) de tracer $(K_A \\times [HA])$ et $([H_3O^+] \\times [A^-])$ en fonction de $x$ et voir quand ils sont égaux pour trouver la valeur de $x_f$, et enfin déduire $\\tau$."
   ]
  },
  {
   "cell_type": "code",
   "execution_count": 1,
   "metadata": {},
   "outputs": [],
   "source": [
    "import matplotlib.pyplot as plt"
   ]
  },
  {
   "cell_type": "markdown",
   "metadata": {},
   "source": [
    "###  Exemple avec une solution d'acide éthanoïque c = 1.0e-1 mol/L et V = 10 mL."
   ]
  },
  {
   "cell_type": "code",
   "execution_count": 2,
   "metadata": {},
   "outputs": [],
   "source": [
    "Ka = 1.6e-5 # constante d'acidité du couple\n",
    "C = 1e-1    # concentration apportée en acide\n",
    "V = 1e-2    # volume en L"
   ]
  },
  {
   "cell_type": "markdown",
   "metadata": {},
   "source": [
    "calcul de xmax :"
   ]
  },
  {
   "cell_type": "code",
   "execution_count": 3,
   "metadata": {},
   "outputs": [
    {
     "name": "stdout",
     "output_type": "stream",
     "text": [
      "xmax = 0.001 mol\n"
     ]
    }
   ],
   "source": [
    "xmax = C * V\n",
    "print(f\"xmax = {xmax} mol\")"
   ]
  },
  {
   "cell_type": "markdown",
   "metadata": {},
   "source": [
    "Création d'une série d'avancements de 0 à xmax :"
   ]
  },
  {
   "cell_type": "code",
   "execution_count": 4,
   "metadata": {},
   "outputs": [],
   "source": [
    "N = 100 # N = nb de valeurs (plus N augmente, plus on sera précis)\n",
    "liste_x = [i/N*xmax for i in range(0, N+1)]"
   ]
  },
  {
   "cell_type": "markdown",
   "metadata": {},
   "source": [
    "Calcul de $y1 = Ka \\times [HA]$ :"
   ]
  },
  {
   "cell_type": "code",
   "execution_count": 5,
   "metadata": {},
   "outputs": [],
   "source": [
    "y1 = [Ka*(C-x/V) for x in liste_x]"
   ]
  },
  {
   "cell_type": "markdown",
   "metadata": {},
   "source": [
    "Calcul de $y2 = [H3O+] \\times [H-]$ :"
   ]
  },
  {
   "cell_type": "code",
   "execution_count": 6,
   "metadata": {},
   "outputs": [],
   "source": [
    "y2 = [x**2 for x in liste_x]"
   ]
  },
  {
   "cell_type": "markdown",
   "metadata": {},
   "source": [
    "Tracé des graphes :"
   ]
  },
  {
   "cell_type": "code",
   "execution_count": 7,
   "metadata": {},
   "outputs": [
    {
     "data": {
      "image/png": "[encoded data removed]",
      "text/plain": [
       "<Figure size 432x288 with 1 Axes>"
      ]
     },
     "metadata": {
      "needs_background": "light"
     },
     "output_type": "display_data"
    }
   ],
   "source": [
    "plt.plot(liste_x, y1, color='blue', label=\"Ka * [HA]\")\n",
    "plt.plot(liste_x, y2, color='green', label=\"[H3O+] * [A-]\")\n",
    "plt.xlabel('x (mol)')\n",
    "plt.legend()\n",
    "plt.show()"
   ]
  },
  {
   "cell_type": "markdown",
   "metadata": {},
   "source": [
    "#### Deuxième façon de procéder (sans tracer le graphique) : on calcule pour chaque x l'écart entre y1 et y2, et on retient le x qui donne le minimum."
   ]
  },
  {
   "cell_type": "code",
   "execution_count": 8,
   "metadata": {},
   "outputs": [
    {
     "name": "stdout",
     "output_type": "stream",
     "text": [
      "xf = 0.0007 mol\n",
      "xmax = 0.001 mol\n",
      "tau = 70.0 %\n"
     ]
    }
   ],
   "source": [
    "xf = 0\n",
    "ecart_mini = 1 # valeur forcément trop grande\n",
    "for x in liste_x:\n",
    "    ecart = abs(Ka*(C-x/V) - x**2)\n",
    "    if ecart < ecart_mini:\n",
    "        ecart_mini = ecart\n",
    "        xf = x\n",
    "        \n",
    "print(f\"xf = {xf} mol\")\n",
    "print(f\"xmax = {xmax} mol\")\n",
    "print(f\"tau = {xf/xmax*100} %\")"
   ]
  },
  {
   "cell_type": "markdown",
   "metadata": {},
   "source": [
    "### Après avoir vu le principe, on peut automatiser pour trouver le taux d'avancement final en fonction de la concentration apportée en acide."
   ]
  },
  {
   "cell_type": "code",
   "execution_count": 9,
   "metadata": {},
   "outputs": [],
   "source": [
    "def tau(C, Ka, V=1e-2, N=100):\n",
    "    \"\"\" Renvoie le taux d'avancement final pour la réaction d'un acide dans l'eau\n",
    "    en fonction de sa concentration C.\n",
    "    La constante d'acidité du couple vaut Ka.\n",
    "    Le volume V vaut 10 mL par défaut .\n",
    "    Remarque : en changeant N, on peut augmenter la précision de la réponse \"\"\"\n",
    "    xmax = C * V\n",
    "    liste_x = [i/N*xmax for i in range(0, N+1)]\n",
    "    xf = 0\n",
    "    ecart_mini = 1\n",
    "    for x in liste_x:\n",
    "        ecart = abs(Ka*(C-x/V) - x**2)\n",
    "        if ecart < ecart_mini:\n",
    "            ecart_mini = ecart\n",
    "            xf = x\n",
    "    return xf/xmax*100"
   ]
  },
  {
   "cell_type": "code",
   "execution_count": 10,
   "metadata": {},
   "outputs": [
    {
     "name": "stdout",
     "output_type": "stream",
     "text": [
      "c = 1 mol/L                tau = 32.80 %\n",
      "c = 0.1 mol/L              tau = 69.70 %\n",
      "c = 0.01 mol/L             tau = 94.40 %\n",
      "c = 0.001 mol/L            tau = 99.40 %\n",
      "c = 0.0001 mol/L           tau = 99.90 %\n"
     ]
    }
   ],
   "source": [
    "for i in range(5):\n",
    "    c = 10**(-i)\n",
    "    print(f\"c = {c} mol/L\".ljust(20) + f\"tau = {tau(c, 1.6e-5,N=1000):1.2f} %\".rjust(20))"
   ]
  },
  {
   "cell_type": "markdown",
   "metadata": {},
   "source": [
    "#### On constate que plus un acide faible est dilué (faible concentration), plus le taux d'avancement final augmente !"
   ]
  }
 ],
 "metadata": {
  "kernelspec": {
   "display_name": "Python 3",
   "language": "python",
   "name": "python3"
  },
  "language_info": {
   "codemirror_mode": {
    "name": "ipython",
    "version": 3
   },
   "file_extension": ".py",
   "mimetype": "text/x-python",
   "name": "python",
   "nbconvert_exporter": "python",
   "pygments_lexer": "ipython3",
   "version": "3.7.5"
  }
 },
 "nbformat": 4,
 "nbformat_minor": 2
}
