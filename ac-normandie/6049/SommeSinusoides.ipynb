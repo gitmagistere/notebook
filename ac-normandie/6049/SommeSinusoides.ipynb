{
 "cells": [
  {
   "cell_type": "markdown",
   "metadata": {},
   "source": [
    "# Prog officiel : Représenter, à l’aide d’un langage de programmation, la somme de deux signaux sinusoïdaux périodiques synchrones en faisant varier la phase à l'origine de l'un des deux."
   ]
  },
  {
   "cell_type": "markdown",
   "metadata": {},
   "source": [
    "Amplitude d'un signal sinusoïdal au cours du temps :\n",
    "\n",
    "\n",
    "$y(t) = A \\times \\cos \\left(2\\pi \\dfrac{t}{T} + \\phi \\right) $\n"
   ]
  },
  {
   "cell_type": "code",
   "execution_count": null,
   "metadata": {},
   "outputs": [],
   "source": [
    "import matplotlib.pyplot as plt\n",
    "import numpy as np\n",
    "import math"
   ]
  },
  {
   "cell_type": "code",
   "execution_count": null,
   "metadata": {},
   "outputs": [],
   "source": [
    "Pi = np.pi"
   ]
  },
  {
   "cell_type": "markdown",
   "metadata": {},
   "source": [
    "### Somme de 2 signaux sinusoïdaux et influence du déphasage :\n",
    "Modifier la valeur de $phi$ pour observer l'influence sur la représentation du signal."
   ]
  },
  {
   "cell_type": "code",
   "execution_count": null,
   "metadata": {},
   "outputs": [],
   "source": [
    "phi = 50 # phase à l'origine\n",
    "phi_rad = np.radians(phi) # conversion en radians\n",
    "\n",
    "A1 = 1 # amplitude en unité arbitraire (ua)\n",
    "A2 = 2 # amplitude en unité arbitraire (ua)\n",
    "T = 10 # période en s\n",
    "\n",
    "# création des instants\n",
    "t = np.linspace(0, 10*T, 256) # 256 instants répartis de t=0 à t=10T\n",
    "\n",
    "# calcul de l'amplitude \n",
    "y1 = A1*np.cos(2*Pi*t/T)\n",
    "y2 = A2*np.cos(2*Pi*t/T + phi_rad)\n",
    "\n",
    "# bornes des axes du graphiques\n",
    "plt.xlim(0, 50)\n",
    "plt.ylim(-5, 5)\n",
    "\n",
    "# graphique\n",
    "plt.plot(t, y1, label=f'y1')\n",
    "plt.plot(t, y2, label=f'y2')\n",
    "plt.plot(t, y1+y2, label=f'somme\\nphi = {phi}°')\n",
    "plt.legend(loc=\"upper left\", shadow=True)\n",
    "plt.ylabel('Amplitude (ua)')\n",
    "plt.xlabel('t (s)')\n",
    "plt.title('y1, y2 = f(t)')\n",
    "plt.show()"
   ]
  },
  {
   "cell_type": "code",
   "execution_count": null,
   "metadata": {},
   "outputs": [],
   "source": [
    "A1 = 1 # amplitude en unité arbitraire (ua)\n",
    "A2 = 2 # amplitude en unité arbitraire (ua)\n",
    "T = 15 # période en s\n",
    "\n",
    "# création des instants\n",
    "t = np.linspace(0, 10*T, 512) # 256 instants répartis de t=0 à t=10T\n",
    "\n",
    "y1 = A1*np.cos(2*Pi*t/T)\n",
    "\n",
    "for phi in range(0, 181, 30):\n",
    "    phi_rad = np.radians(phi) # conversion en radians\n",
    "\n",
    "    # calcul de l'amplitude \n",
    "    y2 = A2*np.cos(2*Pi*t/T + phi_rad)\n",
    "\n",
    "    # graphique\n",
    "    plt.plot(t, y1+y2, label=f'phi = {phi}°')\n",
    "    \n",
    "# bornes des axes du graphiques (il faut fixer les bornes pour voir l'influence d'un changement de A ou T)\n",
    "plt.xlim(0, 50)\n",
    "plt.ylim(-5, 5)\n",
    "    \n",
    "plt.legend(loc=\"upper left\", shadow=True)\n",
    "plt.ylabel('Amplitude (ua)')\n",
    "plt.xlabel('t (s)')\n",
    "plt.title('y1 + y2 = f(t)')\n",
    "plt.show()"
   ]
  },
  {
   "cell_type": "markdown",
   "metadata": {},
   "source": [
    "## Utilisation de widgets de contrôles (nettement plus compliqué !)"
   ]
  },
  {
   "cell_type": "code",
   "execution_count": null,
   "metadata": {},
   "outputs": [],
   "source": [
    "# librairie complémentaire pour les widgets\n",
    "import matplotlib.widgets as mpw "
   ]
  },
  {
   "cell_type": "code",
   "execution_count": null,
   "metadata": {},
   "outputs": [],
   "source": [
    "# backend permettant l'interactivité\n",
    "%matplotlib notebook\n",
    "\n",
    "fig, ax = plt.subplots()\n",
    "plt.xlabel('t (s)')\n",
    "plt.ylabel('A (ua)')\n",
    "plt.grid()\n",
    "plt.subplots_adjust(left=0.1, bottom=0.4) # positionnement de la zone graphique pour laisser de l'espace aux widgets\n",
    "\n",
    "T = 3 # période en s\n",
    "tmax = 10 # graphique sur 10 s max\n",
    "t = np.linspace(0, tmax, 256)\n",
    "A1 = 1 # amplitude en ua\n",
    "phi = np.radians(90)\n",
    "y1 = A1*np.cos(2*Pi*t/T)\n",
    "A2 = 1\n",
    "y2 = A2*np.cos(2*Pi*t/T+phi)\n",
    "y_tot = y1 + y2\n",
    "\n",
    "(courbe1, ) = plt.plot(t, y1, color='red', label='y1') # conserve la référence de la courbe (Artist)\n",
    "(courbe2, ) = plt.plot(t, y2, color='blue', label='y2') # conserve la référence de la courbe (Artist)\n",
    "(courbe_tot, ) = plt.plot(t, y_tot, color='green', label='y1 + y2') # conserve la référence de la courbe (Artist)\n",
    "plt.legend(loc=\"upper left\", shadow=True)\n",
    "plt.axis(xmin=0, xmax=10, ymin=-5, ymax=5) # plages des abscisses et ordonnées\n",
    "\n",
    "# définition des 'axes' pour contenir les widgets\n",
    "ax_A = plt.axes([0.18, 0.1, 0.5, 0.05], facecolor='lightgreen')\n",
    "ax_phi = plt.axes([0.18, 0.18, 0.5, 0.05], facecolor='lightyellow')\n",
    "\n",
    "# création des widgets\n",
    "slider_phi = mpw.Slider(ax_phi, 'Déphasage (°)', 0, 360, valinit=90, valstep=5)\n",
    "slider_A = mpw.Slider(ax_A, 'Amplitude (ua)', 0, 3, valinit=1, valstep=.2)\n",
    "\n",
    "def maj(val):\n",
    "    A2 = slider_A.val\n",
    "    phi = slider_phi.val\n",
    "    phi = np.radians(phi)\n",
    "    courbe2.set_ydata(A2*np.cos(2*Pi*t/T+phi)) # maj des données de la courbe\n",
    "    courbe_tot.set_ydata(A2*np.cos(2*Pi*t/T+phi)+y1) # maj des données de la courbe\n",
    "    fig.canvas.draw_idle() # maj du tracé de la courbe\n",
    "\n",
    "# action à effectuer lors de l'utilisation des widgets    \n",
    "slider_phi.on_changed(maj)\n",
    "slider_A.on_changed(maj)\n",
    "\n",
    "# on ajoute un bouton de Remise à zéro (RAZ) des paramètres\n",
    "ax_RAZ = plt.axes([0.8, 0.1, 0.1, 0.13])\n",
    "button_RAZ = mpw.Button(ax_RAZ, 'RAZ', color='gray', hovercolor='0.777')\n",
    "\n",
    "def raz(event):\n",
    "    slider_A.reset()\n",
    "    slider_phi.reset()\n",
    "    \n",
    "button_RAZ.on_clicked(raz)\n",
    "\n",
    "plt.show()"
   ]
  }
 ],
 "metadata": {
  "kernelspec": {
   "display_name": "Python 3",
   "language": "python",
   "name": "python3"
  },
  "language_info": {
   "codemirror_mode": {
    "name": "ipython",
    "version": 3
   },
   "file_extension": ".py",
   "mimetype": "text/x-python",
   "name": "python",
   "nbconvert_exporter": "python",
   "pygments_lexer": "ipython3",
   "version": "3.8.5"
  }
 },
 "nbformat": 4,
 "nbformat_minor": 4
}
