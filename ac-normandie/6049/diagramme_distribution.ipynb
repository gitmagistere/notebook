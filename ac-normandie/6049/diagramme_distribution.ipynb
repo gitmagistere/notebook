{
 "cells": [
  {
   "cell_type": "markdown",
   "metadata": {},
   "source": [
    "# Prog officiel : Tracer, à l’aide d’un langage de programmation, le diagramme de distribution des espèces d’un couple acide-base de pKA donné."
   ]
  },
  {
   "cell_type": "markdown",
   "metadata": {},
   "source": [
    "$K_A = \\dfrac{[H_3O^+] \\times [A^-]}{[HA]}$\n",
    "\n",
    "$[H_3O^+] = 10^{-pH}$\n",
    "\n",
    "$[HA] + [A-] = C$\n",
    "\n",
    "De tout cela, on montre :\n",
    "\n",
    "$[HA] = \\dfrac{10^{-pH} \\times C}{K_A + 10^{-pH}}$\n",
    "\n",
    "$[A^-] = \\dfrac{K_A \\times C}{K_A + 10^{-pH}}$"
   ]
  },
  {
   "cell_type": "code",
   "execution_count": 1,
   "metadata": {},
   "outputs": [],
   "source": [
    "import matplotlib.pyplot as plt"
   ]
  },
  {
   "cell_type": "markdown",
   "metadata": {},
   "source": [
    "###  Exemple avec le couple acide éthanoïque / ion éthanoate\n",
    "Ka = 1,6.10-5"
   ]
  },
  {
   "cell_type": "code",
   "execution_count": 2,
   "metadata": {},
   "outputs": [],
   "source": [
    "Ka = 1.6e-5 # constante d'acidité du couple\n",
    "C = 1e-1 # concentration apportée totale"
   ]
  },
  {
   "cell_type": "markdown",
   "metadata": {},
   "source": [
    "Création d'une série de pH de 0 à 14 :"
   ]
  },
  {
   "cell_type": "code",
   "execution_count": 3,
   "metadata": {},
   "outputs": [],
   "source": [
    "N = 100 # N = nb de valeurs (plus N augmente, plus on sera précis)\n",
    "liste_pH = [i/N*14 for i in range(0, N+1)]"
   ]
  },
  {
   "cell_type": "markdown",
   "metadata": {},
   "source": [
    "Calcul de :\n",
    "\n",
    "$p(HA) = \\dfrac{[HA]}{C} = \\dfrac{10^{-pH}}{K_A + 10^{-pH}}$\n",
    "\n",
    "$p(A-) = \\dfrac{[A^-]}{C} = \\dfrac{K_A}{K_A + 10^{-pH}}$"
   ]
  },
  {
   "cell_type": "code",
   "execution_count": 4,
   "metadata": {},
   "outputs": [],
   "source": [
    "p_HA = [100*10**(-pH)/(Ka+10**(-pH)) for pH in liste_pH]\n",
    "p_A = [100*Ka/(Ka+10**(-pH)) for pH in liste_pH]"
   ]
  },
  {
   "cell_type": "markdown",
   "metadata": {},
   "source": [
    "Tracé des graphes :"
   ]
  },
  {
   "cell_type": "code",
   "execution_count": 5,
   "metadata": {},
   "outputs": [
    {
     "data": {
      "image/png": "[encoded data removed]",
      "text/plain": [
       "<Figure size 432x288 with 1 Axes>"
      ]
     },
     "metadata": {
      "needs_background": "light"
     },
     "output_type": "display_data"
    }
   ],
   "source": [
    "plt.plot(liste_pH, p_HA, color='blue', label=\"% (HA)\")\n",
    "plt.plot(liste_pH, p_A, color='green', label=\"% (A-)\")\n",
    "plt.xlabel('pH')\n",
    "plt.ylabel('%')\n",
    "plt.title(\"Diagramme de distribution\")\n",
    "plt.legend()\n",
    "plt.show()"
   ]
  }
 ],
 "metadata": {
  "kernelspec": {
   "display_name": "Python 3",
   "language": "python",
   "name": "python3"
  },
  "language_info": {
   "codemirror_mode": {
    "name": "ipython",
    "version": 3
   },
   "file_extension": ".py",
   "mimetype": "text/x-python",
   "name": "python",
   "nbconvert_exporter": "python",
   "pygments_lexer": "ipython3",
   "version": "3.7.5"
  }
 },
 "nbformat": 4,
 "nbformat_minor": 2
}
