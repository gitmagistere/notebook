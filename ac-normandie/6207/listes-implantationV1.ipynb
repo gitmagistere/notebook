{
 "cells": [
  {
   "cell_type": "code",
   "execution_count": 1,
   "metadata": {},
   "outputs": [],
   "source": [
    "class cellule:\n",
    "    \"\"\" définition d’une cellule d’une liste chainée\"\"\"\n",
    "    def __init__(self,v,s):\n",
    "        self.valeur=v\n",
    "        self.suivante=s\n",
    "        \n",
    "    def __str__(self):\n",
    "        chaine=''\n",
    "        if self.suivante is None:\n",
    "            chaine += str(self.valeur)\n",
    "        else:\n",
    "            chaine += str(self.valeur)+','+str(self.suivante)[1:-1]\n",
    "        return '['+chaine+']'"
   ]
  },
  {
   "cell_type": "code",
   "execution_count": 2,
   "metadata": {},
   "outputs": [],
   "source": [
    "lst=cellule(1,None)"
   ]
  },
  {
   "cell_type": "code",
   "execution_count": 3,
   "metadata": {},
   "outputs": [
    {
     "name": "stdout",
     "output_type": "stream",
     "text": [
      "[1]\n"
     ]
    }
   ],
   "source": [
    "print(lst)"
   ]
  },
  {
   "cell_type": "code",
   "execution_count": 4,
   "metadata": {},
   "outputs": [],
   "source": [
    "lst2=cellule(1,cellule(2,cellule(3,None)))\n"
   ]
  },
  {
   "cell_type": "code",
   "execution_count": 5,
   "metadata": {},
   "outputs": [
    {
     "name": "stdout",
     "output_type": "stream",
     "text": [
      "[1,2,3]\n"
     ]
    }
   ],
   "source": [
    "print(lst2)"
   ]
  },
  {
   "cell_type": "code",
   "execution_count": 6,
   "metadata": {},
   "outputs": [],
   "source": [
    "lst3=cellule('ma',cellule('première',cellule('phrase',cellule('est',cellule('vide',None)))))"
   ]
  },
  {
   "cell_type": "code",
   "execution_count": 7,
   "metadata": {},
   "outputs": [
    {
     "name": "stdout",
     "output_type": "stream",
     "text": [
      "[ma,première,phrase,est,vide]\n"
     ]
    }
   ],
   "source": [
    "print(lst3)"
   ]
  },
  {
   "cell_type": "code",
   "execution_count": 8,
   "metadata": {},
   "outputs": [
    {
     "name": "stdout",
     "output_type": "stream",
     "text": [
      "None\n"
     ]
    }
   ],
   "source": [
    "print(lst2.suivante.suivante.suivante)"
   ]
  },
  {
   "cell_type": "code",
   "execution_count": 9,
   "metadata": {},
   "outputs": [
    {
     "ename": "AttributeError",
     "evalue": "'NoneType' object has no attribute 'suivante'",
     "output_type": "error",
     "traceback": [
      "\u001b[0;31m---------------------------------------------------------------------------\u001b[0m",
      "\u001b[0;31mAttributeError\u001b[0m                            Traceback (most recent call last)",
      "\u001b[0;32m<ipython-input-9-cc9201811557>\u001b[0m in \u001b[0;36m<module>\u001b[0;34m\u001b[0m\n\u001b[0;32m----> 1\u001b[0;31m \u001b[0mprint\u001b[0m\u001b[0;34m(\u001b[0m\u001b[0mlst2\u001b[0m\u001b[0;34m.\u001b[0m\u001b[0msuivante\u001b[0m\u001b[0;34m.\u001b[0m\u001b[0msuivante\u001b[0m\u001b[0;34m.\u001b[0m\u001b[0msuivante\u001b[0m\u001b[0;34m.\u001b[0m\u001b[0msuivante\u001b[0m\u001b[0;34m)\u001b[0m\u001b[0;34m\u001b[0m\u001b[0;34m\u001b[0m\u001b[0m\n\u001b[0m",
      "\u001b[0;31mAttributeError\u001b[0m: 'NoneType' object has no attribute 'suivante'"
     ]
    }
   ],
   "source": [
    "print(lst2.suivante.suivante.suivante.suivante)"
   ]
  },
  {
   "cell_type": "code",
   "execution_count": 10,
   "metadata": {},
   "outputs": [],
   "source": [
    "lst3=cellule((0,1),cellule((1,2),cellule((2,3),None)))"
   ]
  },
  {
   "cell_type": "code",
   "execution_count": 11,
   "metadata": {},
   "outputs": [
    {
     "name": "stdout",
     "output_type": "stream",
     "text": [
      "[(0, 1),(1, 2),(2, 3)]\n"
     ]
    }
   ],
   "source": [
    "print(lst3)"
   ]
  },
  {
   "cell_type": "code",
   "execution_count": 12,
   "metadata": {},
   "outputs": [],
   "source": [
    "def listeN(n):\n",
    "    lst=None\n",
    "    while n>0:\n",
    "        lst=cellule(n,lst)\n",
    "        n -= 1\n",
    "    return lst"
   ]
  },
  {
   "cell_type": "code",
   "execution_count": 64,
   "metadata": {},
   "outputs": [],
   "source": [
    "lst4=listeN(10)"
   ]
  },
  {
   "cell_type": "code",
   "execution_count": 58,
   "metadata": {},
   "outputs": [
    {
     "name": "stdout",
     "output_type": "stream",
     "text": [
      "[1,2,3,4,5,6,7,8,9,10]\n"
     ]
    }
   ],
   "source": [
    "print(listeN(10))"
   ]
  },
  {
   "cell_type": "code",
   "execution_count": 15,
   "metadata": {},
   "outputs": [
    {
     "name": "stdout",
     "output_type": "stream",
     "text": [
      "None\n"
     ]
    }
   ],
   "source": [
    "print(listeN(0))"
   ]
  },
  {
   "cell_type": "code",
   "execution_count": 16,
   "metadata": {},
   "outputs": [],
   "source": [
    "def spliter(chaine):\n",
    "    lst=None\n",
    "    n=len(chaine)\n",
    "    while n>0:\n",
    "        lst=cellule(chaine[n-1],lst)\n",
    "        n -=1\n",
    "    return lst\n",
    "    "
   ]
  },
  {
   "cell_type": "code",
   "execution_count": 28,
   "metadata": {},
   "outputs": [
    {
     "data": {
      "text/plain": [
       "<__main__.cellule at 0x7fc3e8d78a20>"
      ]
     },
     "execution_count": 28,
     "metadata": {},
     "output_type": "execute_result"
    }
   ],
   "source": [
    "spliter('12345')"
   ]
  },
  {
   "cell_type": "code",
   "execution_count": 17,
   "metadata": {},
   "outputs": [
    {
     "name": "stdout",
     "output_type": "stream",
     "text": [
      "[1,2,3,4,5]\n"
     ]
    }
   ],
   "source": [
    "print(spliter('12345'))"
   ]
  },
  {
   "cell_type": "code",
   "execution_count": 18,
   "metadata": {},
   "outputs": [
    {
     "name": "stdout",
     "output_type": "stream",
     "text": [
      "None\n"
     ]
    }
   ],
   "source": [
    "print(spliter(''))"
   ]
  },
  {
   "cell_type": "code",
   "execution_count": 19,
   "metadata": {},
   "outputs": [],
   "source": [
    "def joindre(liste):\n",
    "    '''fonction qui permet de fusionner les termes d une liste en une chaine de caratère\n",
    "    le pb c est qu on accède aux attibuts de l objet de façon direct ce qu il faut éviter'''\n",
    "    chaine=''\n",
    "    if liste is None:\n",
    "        return chaine\n",
    "    else:\n",
    "        chaine +=str(liste.valeur)+joindre(liste.suivante)\n",
    "    return chaine"
   ]
  },
  {
   "cell_type": "code",
   "execution_count": 20,
   "metadata": {},
   "outputs": [
    {
     "name": "stdout",
     "output_type": "stream",
     "text": [
      "12345678910\n"
     ]
    }
   ],
   "source": [
    "print(joindre(listeN(10)))"
   ]
  },
  {
   "cell_type": "code",
   "execution_count": 21,
   "metadata": {},
   "outputs": [],
   "source": [
    "def longueur(list):\n",
    "    \"\"\"renvoi la longueur de la liste list de façon récursive\"\"\"\n",
    "    if list is None:\n",
    "        return 0\n",
    "    else:\n",
    "        return 1+longueur(list.suivante)"
   ]
  },
  {
   "cell_type": "code",
   "execution_count": 22,
   "metadata": {},
   "outputs": [
    {
     "data": {
      "text/plain": [
       "10"
      ]
     },
     "execution_count": 22,
     "metadata": {},
     "output_type": "execute_result"
    }
   ],
   "source": [
    "longueur(listeN(10))"
   ]
  },
  {
   "cell_type": "code",
   "execution_count": 23,
   "metadata": {},
   "outputs": [
    {
     "data": {
      "text/plain": [
       "3"
      ]
     },
     "execution_count": 23,
     "metadata": {},
     "output_type": "execute_result"
    }
   ],
   "source": [
    "longueur(lst3)"
   ]
  },
  {
   "cell_type": "code",
   "execution_count": 24,
   "metadata": {},
   "outputs": [],
   "source": [
    "def Longueur(list):\n",
    "    \"\"\"renvoie la longueur de la liste list avec une boucle\"\"\"\n",
    "    n=0\n",
    "    c=list\n",
    "    while c is not None:\n",
    "        n += 1\n",
    "        c=c.suivante\n",
    "    return n"
   ]
  },
  {
   "cell_type": "code",
   "execution_count": 26,
   "metadata": {},
   "outputs": [
    {
     "data": {
      "text/plain": [
       "3"
      ]
     },
     "execution_count": 26,
     "metadata": {},
     "output_type": "execute_result"
    }
   ],
   "source": [
    "Longueur(lst3)"
   ]
  },
  {
   "cell_type": "code",
   "execution_count": 36,
   "metadata": {
    "scrolled": true
   },
   "outputs": [
    {
     "data": {
      "text/plain": [
       "10"
      ]
     },
     "execution_count": 36,
     "metadata": {},
     "output_type": "execute_result"
    }
   ],
   "source": [
    "Longueur(listeN(10))"
   ]
  },
  {
   "cell_type": "code",
   "execution_count": 44,
   "metadata": {},
   "outputs": [],
   "source": [
    "def element(list,n):\n",
    "    if n<0 or list is None:\n",
    "        raise IndexError(\"indice non valide\")\n",
    "    if n==0:\n",
    "        return list.valeur\n",
    "    else:\n",
    "        return element(list.suivante,n-1)"
   ]
  },
  {
   "cell_type": "code",
   "execution_count": 49,
   "metadata": {},
   "outputs": [
    {
     "data": {
      "text/plain": [
       "1"
      ]
     },
     "execution_count": 49,
     "metadata": {},
     "output_type": "execute_result"
    }
   ],
   "source": [
    "element(listeN(10),0)"
   ]
  },
  {
   "cell_type": "code",
   "execution_count": 46,
   "metadata": {},
   "outputs": [
    {
     "name": "stdout",
     "output_type": "stream",
     "text": [
      "[(0, 1),(1, 2),(2, 3)]\n"
     ]
    },
    {
     "data": {
      "text/plain": [
       "(0, 1)"
      ]
     },
     "execution_count": 46,
     "metadata": {},
     "output_type": "execute_result"
    }
   ],
   "source": [
    "print(lst3)\n",
    "element(lst3,0)"
   ]
  },
  {
   "cell_type": "code",
   "execution_count": 50,
   "metadata": {},
   "outputs": [],
   "source": [
    "def Element(list,n):\n",
    "    i=0\n",
    "    c=list\n",
    "    while i<n and c is not None:\n",
    "        i += 1\n",
    "        c=c.suivante\n",
    "    if n<0 or list is None:\n",
    "        raise IndexError(\"indice invalide\")\n",
    "    return c.valeur"
   ]
  },
  {
   "cell_type": "code",
   "execution_count": 55,
   "metadata": {},
   "outputs": [
    {
     "data": {
      "text/plain": [
       "(2, 3)"
      ]
     },
     "execution_count": 55,
     "metadata": {},
     "output_type": "execute_result"
    }
   ],
   "source": [
    "element(lst3,2)"
   ]
  },
  {
   "cell_type": "code",
   "execution_count": 65,
   "metadata": {},
   "outputs": [],
   "source": [
    "def concatener(list1,list2):\n",
    "    if list1 is None and list2 is None:\n",
    "        return None\n",
    "    elif list1 is None:\n",
    "        return cellule(list2.valeur,concatener(list1,list2.suivante))\n",
    "    else:\n",
    "        return cellule(list1.valeur,concatener(list1.suivante,list2))"
   ]
  },
  {
   "cell_type": "code",
   "execution_count": 66,
   "metadata": {},
   "outputs": [
    {
     "name": "stdout",
     "output_type": "stream",
     "text": [
      "[(0, 1),(1, 2),(2, 3)]\n",
      "[1,2,3,4,5,6,7,8,9,10]\n",
      "[(0, 1),(1, 2),(2, 3),1,2,3,4,5,6,7,8,9,10]\n"
     ]
    }
   ],
   "source": [
    "print(lst3)\n",
    "print(lst4)\n",
    "print(concatener(lst3,lst4))"
   ]
  },
  {
   "cell_type": "code",
   "execution_count": 69,
   "metadata": {},
   "outputs": [
    {
     "name": "stdout",
     "output_type": "stream",
     "text": [
      "[1,2,3,4,5,6,7,8,9,10]\n",
      "[(0, 1),(1, 2),(2, 3)]\n",
      "None\n"
     ]
    }
   ],
   "source": [
    "chaine=None\n",
    "print(concatener(chaine,lst4))\n",
    "print(concatener(lst3,chaine))\n",
    "print(concatener(chaine,chaine))"
   ]
  },
  {
   "cell_type": "code",
   "execution_count": null,
   "metadata": {},
   "outputs": [],
   "source": []
  }
 ],
 "metadata": {
  "kernelspec": {
   "display_name": "Python 3",
   "language": "python",
   "name": "python3"
  },
  "language_info": {
   "codemirror_mode": {
    "name": "ipython",
    "version": 3
   },
   "file_extension": ".py",
   "mimetype": "text/x-python",
   "name": "python",
   "nbconvert_exporter": "python",
   "pygments_lexer": "ipython3",
   "version": "3.6.9"
  }
 },
 "nbformat": 4,
 "nbformat_minor": 2
}
