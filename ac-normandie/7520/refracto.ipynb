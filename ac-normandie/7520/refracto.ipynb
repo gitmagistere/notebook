{
 "cells": [
  {
   "cell_type": "markdown",
   "metadata": {},
   "source": [
    "# Détermination de la concentration d'une solution par réfractométrie\n",
    "\n",
    "On réalise une échelle de concentration<br>\n",
    "On mesure les indices de réfraction pour chacune des solutions.<br>\n",
    "On modélise dans Latis Pro par une droite C=a ✖ n +b. On obtient a et b avec u(a) et u(b)<br>\n",
    "<br>\n",
    "On mesure l'indice de la solution inconnue n avec u(n) (information du fabriquant du réfractomètre)"
   ]
  },
  {
   "cell_type": "markdown",
   "metadata": {},
   "source": [
    "### import des librairies"
   ]
  },
  {
   "cell_type": "code",
   "execution_count": 6,
   "metadata": {},
   "outputs": [],
   "source": [
    "import numpy as np\n",
    "import matplotlib.pyplot as plt\n",
    "import incertitudes"
   ]
  },
  {
   "cell_type": "markdown",
   "metadata": {},
   "source": [
    "### Les données expérimentales"
   ]
  },
  {
   "cell_type": "code",
   "execution_count": 7,
   "metadata": {},
   "outputs": [],
   "source": [
    "# PARTIE PHYSIQUE A COMPLETER\n",
    "''' Compléter avec le titre du TP'''\n",
    "\n",
    "titre=\"Détermination de la concentration d'une solution par réfractométrie\"\n",
    "\n",
    "'''COMPLETER ICI VOS DIFFERENTES MESURES ET INCERTITUDES DETERMINEES\n",
    "type distribution ='n'  pour normale, 't'  pour triangulaire, 'c' pour carrée\n",
    "    Modèle :\n",
    "    G1 = [Gmes1,umesG1,nom,unite,type distribution,couleur]\n",
    "    G2 = [Gmes2,umesG2,nom,unite,type distribution,couleur]\n",
    "    G3 = [Gmes3,umesG3,nom,unite,type distribution,couleur]\n",
    "    ....\n",
    "    mMesures=[G1,G2,....]\n",
    "'''\n",
    "a=[1.41e-4,1e-6,'a','L/g','n','blue']\n",
    "b=[1.3334,2e-4,'b','','n','green']\n",
    "n=[1.365,2e-3,'n','','n','brown']\n",
    "mesures=[a,b,n]"
   ]
  },
  {
   "cell_type": "markdown",
   "metadata": {},
   "source": [
    "### formule de calcul de la concentration C\n",
    "$$C=\\frac{n-b}{a}$$"
   ]
  },
  {
   "cell_type": "code",
   "execution_count": 8,
   "metadata": {},
   "outputs": [],
   "source": [
    "'''Compléter votre formule de calcul du resultat\n",
    "   avec les données dans le même ordre que dans le tableau mesure\n",
    "   def f([G1,G2,G3,...]) :\n",
    "        return formule\n",
    "'''\n",
    "def f(a,b,n):\n",
    "    return (n-b)/a"
   ]
  },
  {
   "cell_type": "markdown",
   "metadata": {},
   "source": [
    "## formule de calcul de l'incertitutde relative\n",
    "$$\\frac{u(C)}{C} = \\sqrt{(\\frac{u(n)}{n})^2+(\\frac{u(b)}{b})^2+(\\frac{u(a)}{a})^2}$$"
   ]
  },
  {
   "cell_type": "code",
   "execution_count": 9,
   "metadata": {},
   "outputs": [],
   "source": [
    "def uCsurC(a,b,n):\n",
    "    return ((n[1]/(n[0]-b[0]))**2+(b[1]/(n[0]-b[0]))**2+(a[1]/a[0])**2)**.5"
   ]
  },
  {
   "cell_type": "markdown",
   "metadata": {},
   "source": [
    "### divers renseignement  "
   ]
  },
  {
   "cell_type": "code",
   "execution_count": 1,
   "metadata": {},
   "outputs": [],
   "source": [
    "'''nom ou symbole de la grandeur retournée et unité'''\n",
    "nom ='Cm'\n",
    "unite='g/L'\n",
    "\n",
    "'''Compléter avec la valeur de référence'''\n",
    "ref = 230"
   ]
  },
  {
   "cell_type": "markdown",
   "metadata": {},
   "source": [
    "## Incertitude type B "
   ]
  },
  {
   "cell_type": "code",
   "execution_count": 2,
   "metadata": {},
   "outputs": [
    {
     "ename": "NameError",
     "evalue": "name 'incertitudes' is not defined",
     "output_type": "error",
     "traceback": [
      "\u001b[1;31m---------------------------------------------------------------------------\u001b[0m",
      "\u001b[1;31mNameError\u001b[0m                                 Traceback (most recent call last)",
      "\u001b[1;32m<ipython-input-2-e64977ba4c7b>\u001b[0m in \u001b[0;36m<module>\u001b[1;34m\u001b[0m\n\u001b[0;32m      1\u001b[0m \u001b[1;31m#appel de la fonction incertitude par composition (formule modifiée uCsurC)\u001b[0m\u001b[1;33m\u001b[0m\u001b[1;33m\u001b[0m\u001b[1;33m\u001b[0m\u001b[0m\n\u001b[1;32m----> 2\u001b[1;33m \u001b[0mincertitudes\u001b[0m\u001b[1;33m.\u001b[0m\u001b[0mincertitude\u001b[0m\u001b[1;33m(\u001b[0m\u001b[0mmesures\u001b[0m\u001b[1;33m,\u001b[0m\u001b[0mf\u001b[0m\u001b[1;33m,\u001b[0m\u001b[0mnom\u001b[0m\u001b[1;33m,\u001b[0m\u001b[0munite\u001b[0m\u001b[1;33m,\u001b[0m\u001b[0muCsurC\u001b[0m\u001b[1;33m)\u001b[0m\u001b[1;33m\u001b[0m\u001b[1;33m\u001b[0m\u001b[0m\n\u001b[0m",
      "\u001b[1;31mNameError\u001b[0m: name 'incertitudes' is not defined"
     ]
    }
   ],
   "source": [
    "#appel de la fonction incertitude par composition (formule modifiée uCsurC)\n",
    "incertitudes.incertitude(mesures,f,nom,unite,uCsurC)"
   ]
  },
  {
   "cell_type": "markdown",
   "metadata": {},
   "source": [
    "## Méthode de Monte Carlo\n"
   ]
  },
  {
   "cell_type": "code",
   "execution_count": null,
   "metadata": {},
   "outputs": [],
   "source": [
    "nbIteration=100000\n",
    "#appel de la fonction montecarlo de la librairie montecarlo\n",
    "incertitudes.montecarlo(mesures,f,nom,unite,ref,nbIteration,titre)"
   ]
  }
 ],
 "metadata": {
  "kernelspec": {
   "display_name": "Python 3",
   "language": "python",
   "name": "python3"
  },
  "language_info": {
   "codemirror_mode": {
    "name": "ipython",
    "version": 3
   },
   "file_extension": ".py",
   "mimetype": "text/x-python",
   "name": "python",
   "nbconvert_exporter": "python",
   "pygments_lexer": "ipython3",
   "version": "3.8.5"
  }
 },
 "nbformat": 4,
 "nbformat_minor": 2
}
