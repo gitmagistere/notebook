{
  "nbformat": 4,
  "nbformat_minor": 0,
  "metadata": {
    "colab": {
      "name": "Lancer_De.ipynb",
      "private_outputs": true,
      "provenance": []
    },
    "kernelspec": {
      "name": "python3",
      "display_name": "Python 3"
    }
  },
  "cells": [
    {
      "cell_type": "code",
      "metadata": {
        "id": "6YnMYIMLMgRI"
      },
      "source": [
        "from random import*\n",
        "nbSix = 0\n",
        "for compteur in range(1000) :\n",
        "  De = randint(1,6)\n",
        "  if De ==6 :\n",
        "    nbSix=nbSix+1\n",
        "print(nbSix)"
      ],
      "execution_count": null,
      "outputs": []
    }
  ]
}