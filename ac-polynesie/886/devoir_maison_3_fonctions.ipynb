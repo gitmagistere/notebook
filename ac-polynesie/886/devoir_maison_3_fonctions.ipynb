{
 "cells": [
  {
   "cell_type": "markdown",
   "id": "3e62582b",
   "metadata": {
    "nbgrader": {
     "grade": false,
     "grade_id": "cell-e597012ee8f23316",
     "locked": true,
     "schema_version": 3,
     "solution": false,
     "task": false
    }
   },
   "source": [
    "# Devoir maison 3 &ndash; Fonctions"
   ]
  },
  {
   "cell_type": "markdown",
   "id": "762104a6",
   "metadata": {
    "nbgrader": {
     "grade": false,
     "grade_id": "cell-f61d836309a937ec",
     "locked": true,
     "schema_version": 3,
     "solution": false,
     "task": false
    }
   },
   "source": [
    "## Rappels"
   ]
  },
  {
   "cell_type": "markdown",
   "id": "1c6ae965",
   "metadata": {
    "nbgrader": {
     "grade": false,
     "grade_id": "cell-e65c5b21126a3061",
     "locked": true,
     "schema_version": 3,
     "solution": false,
     "task": false
    }
   },
   "source": [
    "### Deux façons de parcourir une liste"
   ]
  },
  {
   "cell_type": "markdown",
   "id": "5d3ea764",
   "metadata": {
    "nbgrader": {
     "grade": false,
     "grade_id": "cell-e94a73dce6970389",
     "locked": true,
     "schema_version": 3,
     "solution": false,
     "task": false
    }
   },
   "source": [
    "Nous avons vu deux façons de parcourir une liste : avec ou sans utiliser les indices."
   ]
  },
  {
   "cell_type": "code",
   "execution_count": null,
   "id": "4f35fc7b",
   "metadata": {
    "nbgrader": {
     "grade": false,
     "grade_id": "cell-532752c1f36e3094",
     "locked": true,
     "schema_version": 3,
     "solution": false,
     "task": false
    }
   },
   "outputs": [],
   "source": [
    "courses = [\"biscuits\", \"fruits\", \"légumes\", \"viande\", \"bonbons\"]"
   ]
  },
  {
   "cell_type": "code",
   "execution_count": null,
   "id": "c416a3c0",
   "metadata": {
    "nbgrader": {
     "grade": false,
     "grade_id": "cell-440ad846dbde28a1",
     "locked": true,
     "schema_version": 3,
     "solution": false,
     "task": false
    }
   },
   "outputs": [],
   "source": [
    "# parcourir la liste sans utiliser les indices\n",
    "for element in courses:\n",
    "    print(element)"
   ]
  },
  {
   "cell_type": "code",
   "execution_count": null,
   "id": "30b978cd",
   "metadata": {
    "nbgrader": {
     "grade": false,
     "grade_id": "cell-c2d3ff09ac80d65d",
     "locked": true,
     "schema_version": 3,
     "solution": false,
     "task": false
    }
   },
   "outputs": [],
   "source": [
    "# parcourir la liste en utilisant les indices\n",
    "for i in range(len(courses)):\n",
    "    print(courses[i])"
   ]
  },
  {
   "cell_type": "markdown",
   "id": "30491037",
   "metadata": {
    "nbgrader": {
     "grade": false,
     "grade_id": "cell-f29a6b8b6cc28ef5",
     "locked": true,
     "schema_version": 3,
     "solution": false,
     "task": false
    }
   },
   "source": [
    "### Deux façons de parcourir une chaîne de caractères"
   ]
  },
  {
   "cell_type": "markdown",
   "id": "3ff93cd2",
   "metadata": {
    "nbgrader": {
     "grade": false,
     "grade_id": "cell-16137f151e7854ea",
     "locked": true,
     "schema_version": 3,
     "solution": false,
     "task": false
    }
   },
   "source": [
    "De même, nous pouvons parcourir une chaîne de caractères avec ou sans utiliser les indices."
   ]
  },
  {
   "cell_type": "code",
   "execution_count": null,
   "id": "80b0880d",
   "metadata": {
    "nbgrader": {
     "grade": false,
     "grade_id": "cell-5b4585116abdfc77",
     "locked": true,
     "schema_version": 3,
     "solution": false,
     "task": false
    }
   },
   "outputs": [],
   "source": [
    "mot = \"vacances\""
   ]
  },
  {
   "cell_type": "code",
   "execution_count": null,
   "id": "ba1e40f2",
   "metadata": {
    "nbgrader": {
     "grade": false,
     "grade_id": "cell-16ff087cab63aa58",
     "locked": true,
     "schema_version": 3,
     "solution": false,
     "task": false
    }
   },
   "outputs": [],
   "source": [
    "# parcourir une chaîne de caractères sans utiliser les indices\n",
    "for lettre in mot:\n",
    "    print(lettre)"
   ]
  },
  {
   "cell_type": "code",
   "execution_count": null,
   "id": "e4eebdca",
   "metadata": {
    "nbgrader": {
     "grade": false,
     "grade_id": "cell-581807b57f616629",
     "locked": true,
     "schema_version": 3,
     "solution": false,
     "task": false
    }
   },
   "outputs": [],
   "source": [
    "# parcourir une chaîne de caractères en utilisant les indices\n",
    "for i in range(len(mot)):\n",
    "    print(mot[i])"
   ]
  },
  {
   "cell_type": "markdown",
   "id": "40ca87b5",
   "metadata": {
    "nbgrader": {
     "grade": false,
     "grade_id": "cell-4b35f388b8bcf4bd",
     "locked": true,
     "schema_version": 3,
     "solution": false,
     "task": false
    }
   },
   "source": [
    "## Exercice 1 &ndash; Maximum"
   ]
  },
  {
   "cell_type": "markdown",
   "id": "c38c06fe",
   "metadata": {
    "nbgrader": {
     "grade": false,
     "grade_id": "cell-25744de4542d6876",
     "locked": true,
     "schema_version": 3,
     "solution": false,
     "task": false
    }
   },
   "source": [
    "Écrire une fonction `maximum` :\n",
    "\n",
    "- prenant en paramètre une liste **non vide** de nombres : `nombres` ;\n",
    "- renvoyant le plus grand élément de cette liste.\n",
    "\n",
    "Chacun des nombres utilisés est de type `int` ou `float`.\n",
    "\n",
    "> On interdit ici d'utiliser `max`, ainsi que `sort` ou `sorted`."
   ]
  },
  {
   "cell_type": "code",
   "execution_count": null,
   "id": "8c4ed6f2",
   "metadata": {
    "nbgrader": {
     "grade": false,
     "grade_id": "cell-a3da0d9c00ccba6c",
     "locked": false,
     "schema_version": 3,
     "solution": true,
     "task": false
    }
   },
   "outputs": [],
   "source": [
    "def maximum(nombres):\n",
    "    ### BEGIN SOLUTION\n",
    "    M = nombres[0]\n",
    "    for n in nombres:\n",
    "        if n > M:\n",
    "            M = n\n",
    "    return M\n",
    "    ### END SOLUTION"
   ]
  },
  {
   "cell_type": "code",
   "execution_count": null,
   "id": "a5de8ac4",
   "metadata": {
    "nbgrader": {
     "grade": true,
     "grade_id": "cell-93244e687006c2c4",
     "locked": true,
     "points": 2,
     "schema_version": 3,
     "solution": false,
     "task": false
    }
   },
   "outputs": [],
   "source": [
    "assert maximum([98, 12, 104, 23, 131, 9]) == 131\n",
    "assert maximum([-27, 24, -3, 15]) == 24\n",
    "### BEGIN HIDDEN TESTS\n",
    "assert maximum([1, 3, -1, 4, 7, 0, 2]) == 7\n",
    "assert maximum([10, 9, 1, -10, 12, 3, 1]) ==  12\n",
    "### END HIDDEN TESTS"
   ]
  },
  {
   "cell_type": "markdown",
   "id": "acc636ea",
   "metadata": {
    "nbgrader": {
     "grade": false,
     "grade_id": "cell-879b61fdcb72ad57",
     "locked": true,
     "schema_version": 3,
     "solution": false,
     "task": false
    }
   },
   "source": [
    "## Exercice 2 &ndash; Indice du minimum"
   ]
  },
  {
   "cell_type": "markdown",
   "id": "a6074c82",
   "metadata": {
    "nbgrader": {
     "grade": false,
     "grade_id": "cell-9c11eb75c6874c0a",
     "locked": true,
     "schema_version": 3,
     "solution": false,
     "task": false
    }
   },
   "source": [
    "Écrire une fonction `indice_min` qui prend en paramètre une liste **non vide** de nombres et qui renvoie l'indice de la première occurrence du minimum de cette liste.\n",
    "\n",
    "> On n'utilisera pas les fonctions `min` et `index`."
   ]
  },
  {
   "cell_type": "code",
   "execution_count": null,
   "id": "162708c8",
   "metadata": {
    "nbgrader": {
     "grade": false,
     "grade_id": "cell-01b0573239fe1c42",
     "locked": false,
     "schema_version": 3,
     "solution": true,
     "task": false
    }
   },
   "outputs": [],
   "source": [
    "def indice_min(nombres):\n",
    "    ### BEGIN SOLUTION\n",
    "    m = nombres[0]\n",
    "    i_min = 0\n",
    "    for i in range(len(nombres)):\n",
    "        if nombres[i] < m:\n",
    "            m = nombres[i]\n",
    "            i_min = i\n",
    "    return i_min\n",
    "    ### END SOLUTION"
   ]
  },
  {
   "cell_type": "code",
   "execution_count": null,
   "id": "45a22a56",
   "metadata": {
    "nbgrader": {
     "grade": true,
     "grade_id": "cell-fad8a1ed5dac37ac",
     "locked": true,
     "points": 2,
     "schema_version": 3,
     "solution": false,
     "task": false
    }
   },
   "outputs": [],
   "source": [
    "assert indice_min([5]) == 0\n",
    "assert indice_min([2, 4, 1, 1]) == 2\n",
    "assert indice_min([5, 3, 2, 5, 2]) == 2\n",
    "### BEGIN HIDDEN TESTS\n",
    "assert indice_min([3, -1, 2, -1, 4]) == 1\n",
    "assert indice_min([4, 3, 3, 3, 3, 2, 3, 2]) == 5\n",
    "### END HIDDEN TESTS"
   ]
  },
  {
   "cell_type": "markdown",
   "id": "a681939f",
   "metadata": {
    "nbgrader": {
     "grade": false,
     "grade_id": "cell-c854f9adaf198fba",
     "locked": true,
     "schema_version": 3,
     "solution": false,
     "task": false
    }
   },
   "source": [
    "## Exercice 3 &ndash; Occurrences"
   ]
  },
  {
   "cell_type": "markdown",
   "id": "28e81a08",
   "metadata": {
    "nbgrader": {
     "grade": false,
     "grade_id": "cell-3c43616307d70a18",
     "locked": true,
     "schema_version": 3,
     "solution": false,
     "task": false
    }
   },
   "source": [
    "Écrire une fonction `compte_occurrences` qui prend en paramètres `cible`, un caractère (une chaine de caractères de longueur 1), et `mot`, une chaine de caractères, et qui renvoie le nombre d'occurrences de `cible` dans `mot` ; c'est-à-dire le nombre de fois où `cible` apparait dans `mot`.\n",
    "\n",
    "> On n'utilisera pas la méthode `count`."
   ]
  },
  {
   "cell_type": "code",
   "execution_count": null,
   "id": "748ecbd9",
   "metadata": {
    "nbgrader": {
     "grade": false,
     "grade_id": "cell-78bdff27f3a77680",
     "locked": false,
     "schema_version": 3,
     "solution": true,
     "task": false
    }
   },
   "outputs": [],
   "source": [
    "def compte_occurrences(caractere, mot):\n",
    "    ### BEGIN SOLUTION\n",
    "    n = 0\n",
    "    for lettre in mot:\n",
    "        if lettre == caractere:\n",
    "            n += 1\n",
    "    return n\n",
    "    ### END SOLUTION"
   ]
  },
  {
   "cell_type": "code",
   "execution_count": null,
   "id": "0f289a0b",
   "metadata": {
    "nbgrader": {
     "grade": true,
     "grade_id": "cell-a22179ae26036156",
     "locked": true,
     "points": 2,
     "schema_version": 3,
     "solution": false,
     "task": false
    }
   },
   "outputs": [],
   "source": [
    "assert compte_occurrences(\"o\", \"bonjour\") == 2\n",
    "assert compte_occurrences(\"a\", \"abracadabra\") == 5\n",
    "assert compte_occurrences(\"i\", \"abracadabra\") == 0\n",
    "### BEGIN HIDDEN TESTS\n",
    "assert compte_occurrences(\"e\", \"helene\") == 3\n",
    "assert compte_occurrences(\"y\", \"kayak\") == 1\n",
    "### END HIDDEN TESTS"
   ]
  }
 ],
 "metadata": {
  "celltoolbar": "Create Assignment",
  "kernelspec": {
   "display_name": "Python 3",
   "language": "python",
   "name": "python3"
  },
  "language_info": {
   "codemirror_mode": {
    "name": "ipython",
    "version": 3
   },
   "file_extension": ".py",
   "mimetype": "text/x-python",
   "name": "python",
   "nbconvert_exporter": "python",
   "pygments_lexer": "ipython3",
   "version": "3.9.7"
  },
  "toc": {
   "base_numbering": 1,
   "nav_menu": {},
   "number_sections": false,
   "sideBar": true,
   "skip_h1_title": true,
   "title_cell": "Table des matières",
   "title_sidebar": "Sommaire",
   "toc_cell": false,
   "toc_position": {},
   "toc_section_display": true,
   "toc_window_display": false
  }
 },
 "nbformat": 4,
 "nbformat_minor": 5
}
