{
 "cells": [
  {
   "cell_type": "markdown",
   "metadata": {},
   "source": [
    "# Chalons Moodle Quizz Generator &ndash; Numerical"
   ]
  },
  {
   "cell_type": "markdown",
   "metadata": {},
   "source": [
    "Ce notebook permet de générer un fichier LaTeX qui, une fois compilé, produit un fichier XML Moodle permettant d'importer (dans Moodle) des questions de type `Numérique`.   \n",
    "Les questions de type `Numérique` peuvent admettre une ou plusieurs réponses numériques avec ou non une tolérance.\n",
    "\n",
    "- *Question admettant une seule réponse numérique*   \n",
    "```\n",
    "Que font 8 et 3 ?\n",
    "\\item 11\n",
    "```\n",
    "\n",
    "- *Question admettant deux réponses justes*   \n",
    "```\n",
    "Donner une valeur approch\\'ee de $\\sqrt{25}$ \\`a 0,1 pr\\`es.\n",
    "\\item 1.4   \n",
    "\\item 1.5\n",
    "```\n",
    "\n",
    "- *Question admettant une réponse avec une tolérance*   \n",
    "```\n",
    "Donner une valeur approch\\'ee de $\\sqrt{25}$ \\`a 0,1 pr\\`es.\n",
    "\\item[tolerance=0.05] 1.45 % tous les nombres dans [1,4;1,5]\n",
    "```"
   ]
  },
  {
   "cell_type": "markdown",
   "metadata": {},
   "source": [
    "## 1. Quelques modules"
   ]
  },
  {
   "cell_type": "code",
   "execution_count": 1,
   "metadata": {},
   "outputs": [],
   "source": [
    "import os.path\n",
    "import random\n",
    "#from fractions import Fraction\n",
    "#from decimal import Decimal"
   ]
  },
  {
   "cell_type": "markdown",
   "metadata": {},
   "source": [
    "## 2. Fichier `source.tex`"
   ]
  },
  {
   "cell_type": "markdown",
   "metadata": {},
   "source": [
    "Le fichier généré s'appelle `source.tex`. Son contenu est **remplacé** à chaque fois."
   ]
  },
  {
   "cell_type": "markdown",
   "metadata": {},
   "source": [
    "### 2.1 Choix de la catégorie"
   ]
  },
  {
   "cell_type": "markdown",
   "metadata": {},
   "source": [
    "La chaîne de caractères `categorie` donne le nom de la catégorie et des questions Moodle."
   ]
  },
  {
   "cell_type": "code",
   "execution_count": 2,
   "metadata": {},
   "outputs": [],
   "source": [
    "categorie = \"Base 2 vers base 10\""
   ]
  },
  {
   "cell_type": "markdown",
   "metadata": {},
   "source": [
    "### 2.2 Feedback"
   ]
  },
  {
   "cell_type": "markdown",
   "metadata": {},
   "source": [
    "La chaîne de caractères `feedback` donne le feedback :-)"
   ]
  },
  {
   "cell_type": "code",
   "execution_count": 3,
   "metadata": {},
   "outputs": [],
   "source": [
    "feedback = \"\""
   ]
  },
  {
   "cell_type": "markdown",
   "metadata": {},
   "source": [
    "### 2.3 Variables, énoncé et réponses proposées"
   ]
  },
  {
   "cell_type": "markdown",
   "metadata": {},
   "source": [
    "Modifier le code ci-dessous en :\n",
    "- générant les variables utilisées dans l'énoncé et les réponses proposées ;\n",
    "- modifiant l'énoncé de la question ;\n",
    "- modifiant les réponses proposées."
   ]
  },
  {
   "cell_type": "code",
   "execution_count": 16,
   "metadata": {},
   "outputs": [],
   "source": [
    "file = \"source.tex\"\n",
    "os.remove(file)\n",
    "with open(file, 'x') as fichier:\n",
    "    # Création du préambule LaTeX\n",
    "    pre = \"\\\\documentclass[12pt]{article}\\n\"\n",
    "    pre += \"\\\\usepackage{moodle}\\n\"\n",
    "    pre += \"\\\\begin{document}\\n\"\n",
    "    fichier.write(pre)\n",
    "    \n",
    "    # Nom de la catégorie et des questions\n",
    "    fichier.write(f\"\\\\begin{{quiz}}{{{categorie}}}\\n\")\n",
    "    \n",
    "    qnum = 0 # numéro de la question\n",
    "    \n",
    "    for i in range(100):\n",
    "        \n",
    "        # Générer les variables utilisées dans l'énoncé et les réponses proposées\n",
    "        # n l'entier dont on donne la représentation en base 2 dans l'énoncé\n",
    "        n = random.randint(100, 2 ** 8)\n",
    "        # b l'écriture en base 2 de n\n",
    "        b = bin(n)[2:]\n",
    "        \n",
    "        # Écriture de l'énoncé de la question\n",
    "        qmoodle = f\"Quel est l'entier dont la représentation en base 2 est $\\overline{{{b}}}^2$ ?\\n\"\n",
    "        qmoodle += \"\\n\"\n",
    "        \n",
    "        # Écriture de la réponse attendue\n",
    "        qmoodle += f\"\\\\item {n}\\n\"\n",
    "        \n",
    "        # Création de la question\n",
    "        qnum += 1\n",
    "        if qnum < 10:\n",
    "            fichier.write(f\"\\\\begin{{numerical}}[points=1, feedback={{{feedback}}}]{{{categorie} Q0{i+1}}}\\n\")\n",
    "        else:\n",
    "            fichier.write(f\"\\\\begin{{numerical}}[points=1, feedback={{{feedback}}}]{{{categorie} Q{i+1}}}\\n\")\n",
    "            \n",
    "        # Écriture de l'énoncé et des réponses proposées\n",
    "        qmoodle += \"\\\\end{numerical}\\n\"\n",
    "        fichier.write(qmoodle)\n",
    "\n",
    "    fichier.write(\"\\\\end{quiz}\\n\\\\end{document}\")"
   ]
  },
  {
   "cell_type": "code",
   "execution_count": null,
   "metadata": {},
   "outputs": [],
   "source": []
  }
 ],
 "metadata": {
  "kernelspec": {
   "display_name": "Python 3 (ipykernel)",
   "language": "python",
   "name": "python3"
  },
  "language_info": {
   "codemirror_mode": {
    "name": "ipython",
    "version": 3
   },
   "file_extension": ".py",
   "mimetype": "text/x-python",
   "name": "python",
   "nbconvert_exporter": "python",
   "pygments_lexer": "ipython3",
   "version": "3.8.13"
  },
  "latex_envs": {
   "LaTeX_envs_menu_present": true,
   "autoclose": false,
   "autocomplete": true,
   "bibliofile": "biblio.bib",
   "cite_by": "apalike",
   "current_citInitial": 1,
   "eqLabelWithNumbers": true,
   "eqNumInitial": 1,
   "hotkeys": {
    "equation": "Ctrl-E",
    "itemize": "Ctrl-I"
   },
   "labels_anchors": false,
   "latex_user_defs": false,
   "report_style_numbering": false,
   "user_envs_cfg": false
  }
 },
 "nbformat": 4,
 "nbformat_minor": 2
}
