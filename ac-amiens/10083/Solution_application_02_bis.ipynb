﻿# Un sauteur à l'élastique saute depuis un pont haut de 50 m
# la longueur à vide de l'élastique est de 20 m
# on etudie la chute du sauteur avant que l'élastique ne se tende (de 50 à 30 m d'altitude)

# Importation de la librairie nécessaire pour les tracés
from matplotlib import pyplot as plt
from math import *

# Définition des constantes
m = 75 # masse du sauteur (en kg)
g = 9.81



# altitude h et vitesse v du sauteur à certaines dates t
H=[50,49.69,48.77,47.24,45.1,42.34,38.98,34.99,30.40]
t=[0,0.25,0.5,0.75,1,1.25,1.5,1.75,2]
v=[0,2.453,4.905,7.357,9.810,12.26,14.71,17.17,19.62]

# Création des listes vides
Ec=[]
Epp=[]
Em=[]


# création des énergies par une boucle
for i in range(len(t)):

    Epp.append(m*g*H[i])
    Ec.append(0.5*m*v[i]**2)
    Em.append(Epp[i]+Ec[i])



# Tracé de l'énergie potentielle de pesanteur et de l'énergie cinétique en fonction de la hauteur
plt.plot(t,Epp,"b+-",label="Epp")
plt.plot(t,Ec,"r+-",label="Ec")
plt.plot(t,Em,"g+-",label="Em")
plt.title('evolution temporelle des énergies du sauteur')
plt.xlabel('durée de la chute')
plt.ylabel('Energies en J')
plt.grid()
plt.legend()
plt.show()

