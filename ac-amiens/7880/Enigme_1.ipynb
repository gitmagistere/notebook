{
 "cells": [
  {
   "cell_type": "markdown",
   "metadata": {},
   "source": [
    "# Enigme 1\n",
    "### Enoncé :\n",
    "Trouver tous les nombres à deux chiffres qui augmentent de 75% quand on échange leurs chiffres."
   ]
  },
  {
   "cell_type": "code",
   "execution_count": 1,
   "metadata": {},
   "outputs": [
    {
     "name": "stdout",
     "output_type": "stream",
     "text": [
      "12\n",
      "24\n",
      "36\n",
      "48\n"
     ]
    }
   ],
   "source": [
    "for i in range(1, 10):\n",
    "    for j in range(1, 10):\n",
    "        nb = i*10 + j\n",
    "        inverse_nb = j*10 + i   \n",
    "        if 7*nb == 4*inverse_nb:\n",
    "            print(nb)"
   ]
  },
  {
   "cell_type": "markdown",
   "metadata": {},
   "source": [
    "### Enoncé (bis) :\n",
    "Trouver tous les nombres à n chiffres qui augmentent de 75% quand on inverse leurs chiffres."
   ]
  },
  {
   "cell_type": "code",
   "execution_count": 4,
   "metadata": {},
   "outputs": [],
   "source": [
    "def taille(nb):\n",
    "    \"\"\"taille(nb) prend en paramètre un nombre entier positif\n",
    "    et renvoie le nombre de ses chiffres dans son écrire en base 10\"\"\"\n",
    "    n = 0\n",
    "    while 10**n <= nb:\n",
    "        n = n+1\n",
    "    return n"
   ]
  },
  {
   "cell_type": "code",
   "execution_count": 6,
   "metadata": {},
   "outputs": [
    {
     "data": {
      "text/plain": [
       "5"
      ]
     },
     "execution_count": 6,
     "metadata": {},
     "output_type": "execute_result"
    }
   ],
   "source": [
    "taille(13579)"
   ]
  },
  {
   "cell_type": "code",
   "execution_count": 9,
   "metadata": {},
   "outputs": [],
   "source": [
    "def inversion(nb):\n",
    "    \"\"\"inversion(nb) prend en paramètre un nombre entier positif\n",
    "    et renvoie un nombre écrit en base 10 avec les mêmes chiffres\n",
    "    mais dans le sens inverse\"\"\"\n",
    "    n = taille(nb)\n",
    "    reponse = 0\n",
    "    for i in range(n):\n",
    "        reponse = reponse + (nb%10)*10**(n-1-i)\n",
    "        nb = nb//10\n",
    "    return reponse"
   ]
  },
  {
   "cell_type": "code",
   "execution_count": 10,
   "metadata": {},
   "outputs": [
    {
     "data": {
      "text/plain": [
       "97531"
      ]
     },
     "execution_count": 10,
     "metadata": {},
     "output_type": "execute_result"
    }
   ],
   "source": [
    "inversion(13579)"
   ]
  },
  {
   "cell_type": "code",
   "execution_count": 20,
   "metadata": {},
   "outputs": [],
   "source": [
    "def enigme(n):\n",
    "    \"\"\"enigme(n) renvoie tous les nombres à n chiffres qui augmentent\n",
    "    de 75% quand on inverse leurs chiffres.\"\"\"\n",
    "    for i in range(n + 1):\n",
    "        if 7*i == 4*inversion(i):\n",
    "            print(i)"
   ]
  },
  {
   "cell_type": "code",
   "execution_count": 21,
   "metadata": {},
   "outputs": [
    {
     "name": "stdout",
     "output_type": "stream",
     "text": [
      "0\n",
      "12\n",
      "24\n",
      "36\n",
      "48\n"
     ]
    }
   ],
   "source": [
    "enigme(100)"
   ]
  },
  {
   "cell_type": "code",
   "execution_count": 22,
   "metadata": {},
   "outputs": [
    {
     "name": "stdout",
     "output_type": "stream",
     "text": [
      "0\n",
      "12\n",
      "24\n",
      "36\n",
      "48\n",
      "132\n",
      "264\n",
      "396\n",
      "1212\n",
      "1332\n",
      "1452\n",
      "1572\n",
      "1692\n",
      "2304\n",
      "2424\n",
      "2544\n",
      "2664\n",
      "2784\n",
      "3516\n",
      "3636\n",
      "3756\n",
      "3876\n",
      "3996\n",
      "4608\n",
      "4728\n",
      "4848\n",
      "4968\n"
     ]
    }
   ],
   "source": [
    "enigme(10000)"
   ]
  },
  {
   "cell_type": "code",
   "execution_count": null,
   "metadata": {},
   "outputs": [],
   "source": []
  }
 ],
 "metadata": {
  "kernelspec": {
   "display_name": "Python 3",
   "language": "python",
   "name": "python3"
  },
  "language_info": {
   "codemirror_mode": {
    "name": "ipython",
    "version": 3
   },
   "file_extension": ".py",
   "mimetype": "text/x-python",
   "name": "python",
   "nbconvert_exporter": "python",
   "pygments_lexer": "ipython3",
   "version": "3.7.6"
  }
 },
 "nbformat": 4,
 "nbformat_minor": 2
}
