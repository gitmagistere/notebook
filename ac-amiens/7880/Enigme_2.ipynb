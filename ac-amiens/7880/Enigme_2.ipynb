{
 "cells": [
  {
   "cell_type": "markdown",
   "metadata": {},
   "source": [
    "## Enigme 2\n",
    "### Enoncé :\n",
    "Trouver le nombre en centième position de la suite suivante :\n",
    "1, 3, 3, 3, 5, 5, 5, 5, 5, 7, 7, ..."
   ]
  },
  {
   "cell_type": "code",
   "execution_count": 1,
   "metadata": {},
   "outputs": [
    {
     "name": "stdout",
     "output_type": "stream",
     "text": [
      "19\n"
     ]
    }
   ],
   "source": [
    "liste = []\n",
    "n = 1\n",
    "while len(liste) < 100:\n",
    "    for i in range(n):\n",
    "        liste.append(n)\n",
    "    n = n+2\n",
    "\n",
    "print(liste[99])"
   ]
  },
  {
   "cell_type": "markdown",
   "metadata": {},
   "source": [
    "## Enigme 3\n",
    "### Enoncé :\n",
    "Trouver tous les nombres entiers positifs $x$ et $y$  vérifiant $x^2 y^3 = 6^{12}$."
   ]
  },
  {
   "cell_type": "code",
   "execution_count": 2,
   "metadata": {},
   "outputs": [
    {
     "name": "stdout",
     "output_type": "stream",
     "text": [
      "1 1296\n",
      "27 144\n",
      "729 16\n",
      "8 324\n",
      "216 36\n",
      "5832 4\n",
      "64 81\n",
      "1728 9\n",
      "46656 1\n"
     ]
    }
   ],
   "source": [
    "for i in range(12):\n",
    "    for j in range(12):\n",
    "        for k in range(12):\n",
    "            for l in range(12):\n",
    "                x = (2**i)*(3**j)\n",
    "                y = (2**k)*(3**l)\n",
    "                if (x**2)*(y**3) == 6**12:\n",
    "                    print(x, y)"
   ]
  }
 ],
 "metadata": {
  "kernelspec": {
   "display_name": "Python 3",
   "language": "python",
   "name": "python3"
  },
  "language_info": {
   "codemirror_mode": {
    "name": "ipython",
    "version": 3
   },
   "file_extension": ".py",
   "mimetype": "text/x-python",
   "name": "python",
   "nbconvert_exporter": "python",
   "pygments_lexer": "ipython3",
   "version": "3.7.6"
  }
 },
 "nbformat": 4,
 "nbformat_minor": 2
}
