{
 "cells": [
  {
   "cell_type": "markdown",
   "metadata": {},
   "source": [
    "<span style=\"float:left;\">Licence CC BY-NC-ND</span><span style=\"float:right;\">François Rechenmann &amp; Thierry Parmentelat&nbsp;<img src=\"media/inria-25.png\" style=\"display:inline\"></span><br/>"
   ]
  },
  {
   "cell_type": "markdown",
   "metadata": {},
   "source": [
    "# Les \"Notebooks\" comme support de cours"
   ]
  },
  {
   "cell_type": "markdown",
   "metadata": {},
   "source": [
    "Pour illustrer les vidéos du MOOC, nous avons choisi d'utiliser des \"notebooks\", qui sont des documents \"mixtes\" contenant du texte et du code Python, et dont le présent document est un exemple.\n",
    "\n",
    "Nous allons dans la suite utiliser du code Python, pourtant nous n'avons pas encore abordé le langage. Pas d'inquiétude, ce code est uniquement destiné à valider le fonctionnement des notebooks&nbsp;; vous constaterez sans doute que ces fragments de code sont faciles à comprendre. "
   ]
  },
  {
   "cell_type": "markdown",
   "metadata": {},
   "source": [
    "    ## Digression - python2 et python3"
   ]
  },
  {
   "cell_type": "markdown",
   "metadata": {},
   "source": [
    "Dans tous les notebooks nous insérerons la cellule suivante, qui permet de fonctionner indifféremment avec python2 ou python3. "
   ]
  },
  {
   "cell_type": "code",
   "execution_count": null,
   "metadata": {
    "collapsed": true
   },
   "outputs": [],
   "source": [
    "# la formule magique pour utiliser print() en python2 et python3\n",
    "from __future__ import print_function\n",
    "# pour que la division se comporte en python2 comme en python3\n",
    "from __future__ import division"
   ]
  },
  {
   "cell_type": "markdown",
   "metadata": {},
   "source": [
    "### Avantages des notebooks"
   ]
  },
  {
   "cell_type": "markdown",
   "metadata": {},
   "source": [
    "Principalement, vous trouverez dans les notebooks des fragments de code écrits par nos soins&nbsp;; nous allons voir comment vous pouvez **évaluer** ce code -- ou si vous préférez&nbsp; l'**exécuter** - et même le **modifier** si vous voulez expérimenter autour du premier jet que nous fournissons."
   ]
  },
  {
   "cell_type": "markdown",
   "metadata": {},
   "source": [
    "En second lieu, comme vous le voyez, ce support permet un format plus lisible que des commentaires dans un fichier de code. "
   ]
  },
  {
   "cell_type": "markdown",
   "metadata": {},
   "source": [
    "Notez bien également que le code Python est interprété sur une machine distante, ce qui vous permet de faire vos premiers pas **avant même d'avoir installé python** sur votre propre ordinateur."
   ]
  },
  {
   "cell_type": "markdown",
   "metadata": {},
   "source": [
    "### Comment utiliser les notebooks"
   ]
  },
  {
   "cell_type": "markdown",
   "metadata": {},
   "source": [
    "En haut du notebook, vous avez une barre, contenant d'abord un titre, le menu `File` ... `Kernel`, et une barre de boutons qui sont des raccourcis vers certains menus fréquemment utilisés. Si vous laissez votre souris au-dessus d'un bouton, un petit texte apparaît, indiquant à quelle fonction correspond ce bouton. \n",
    "\n",
    "**Un notebook est une suite de cellules.**\n",
    "Nous avons vu dans la vidéo qu'un notebook est constitué d'une suite de cellules, soit **textuelles**, soit contenant **du code**. Les cellules de code sont facilement reconnaissables, elles sont précédées de `In [ ]:`. La cellule qui suit celle que vous êtes en train de lire est une cellule de code.\n",
    "\n",
    "Pour exécuter (nous dirons aussi souvent évaluer) une cellule de code, il faut la sélectionner&nbsp;; puis \n",
    "vous disposez d'un bouton dans la barre des boutons en forme de flèche triangulaire vers la droite (Play), qui vous fait passer d'une cellule à la suivante. Remarquez aussi qu'au passage, le résultat de l'exécution est affiché . \n",
    "\n",
    "Alternativement vous pouvez simplement taper au clavier  ***Shift+Enter***, ou selon les claviers ***Maj-Entrée***, pour obtenir le même effet. \n",
    "\n",
    "La façon habituelle d'*exécuter* l'ensemble du notebook consiste à partir de la première cellule, et à taper ***Shift+Enter*** jusqu'à la fin du notebook.\n",
    "\n",
    "Entrainez-vous avec la cellule de code suivante :"
   ]
  },
  {
   "cell_type": "code",
   "execution_count": 1,
   "metadata": {
    "collapsed": false
   },
   "outputs": [
    {
     "data": {
      "text/plain": [
       "600"
      ]
     },
     "execution_count": 1,
     "metadata": {},
     "output_type": "execute_result"
    }
   ],
   "source": [
    "20 * 30"
   ]
  },
  {
   "cell_type": "markdown",
   "metadata": {},
   "source": [
    "Lorsqu'une cellule de code a été évaluée, IPython ajoute sous la cellule `In` une cellule `Out` qui donne le résultat du fragment python, soit ci-dessus 600.\n",
    "\n",
    "IPython ajoute également un nombre entre les crochets pour afficher, par exemple ci-dessus, `In [1]:`. Ce nombre vous permet de retrouver l'ordre dans lequel les cellules ont été évaluées."
   ]
  },
  {
   "cell_type": "markdown",
   "metadata": {},
   "source": [
    "Vous pouvez naturellement modifier ces cellules de code pour faire des essais&nbsp;; ainsi vous pouvez vous servir du modèle ci-dessous pour calculer la racine carrée de 3, ou essayer la fonction sur un nombre négatif et voir comment est signalée l'erreur:"
   ]
  },
  {
   "cell_type": "code",
   "execution_count": 2,
   "metadata": {
    "collapsed": false
   },
   "outputs": [
    {
     "data": {
      "text/plain": [
       "1.4142135623730951"
      ]
     },
     "execution_count": 2,
     "metadata": {},
     "output_type": "execute_result"
    }
   ],
   "source": [
    "# math.sqrt (pour square root) calcule la racine carrée\n",
    "import math\n",
    "math.sqrt(2) "
   ]
  },
  {
   "cell_type": "markdown",
   "metadata": {},
   "source": [
    "On peut également évaluer tout le notebook en une seule fois en utilisant le menu *Cell -> Run All*"
   ]
  },
  {
   "cell_type": "markdown",
   "metadata": {},
   "source": [
    "### Attention à bien évaluer les cellules dans l'ordre"
   ]
  },
  {
   "cell_type": "markdown",
   "metadata": {},
   "source": [
    "Il est important que les cellules de code soient évaluées dans le bon ordre. Si vous ne respectez pas l'ordre dans lequel les cellules de code sont présentées, le résultat peut être inattendu. \n",
    "\n",
    "En fait, évaluer un programme sous forme de notebook revient à le découper en petits fragments, et si on exécute ces fragments dans le désordre, on obtient naturellement un programme différent."
   ]
  },
  {
   "cell_type": "markdown",
   "metadata": {},
   "source": [
    "On le voit sur cet exemple"
   ]
  },
  {
   "cell_type": "code",
   "execution_count": null,
   "metadata": {
    "collapsed": false
   },
   "outputs": [],
   "source": [
    "message = \"Il faut faire attention à l'ordre dans lequel on évalue les cellules\""
   ]
  },
  {
   "cell_type": "code",
   "execution_count": null,
   "metadata": {
    "collapsed": false
   },
   "outputs": [],
   "source": [
    "print(message)"
   ]
  },
  {
   "cell_type": "markdown",
   "metadata": {},
   "source": [
    "Si un peu plus loin dans le notebook on fait par exemple"
   ]
  },
  {
   "cell_type": "code",
   "execution_count": null,
   "metadata": {
    "collapsed": false
   },
   "outputs": [],
   "source": [
    "del message"
   ]
  },
  {
   "cell_type": "markdown",
   "metadata": {},
   "source": [
    "qui rend le symbole \"message\" indéfini, alors bien sûr on ne peut plus évaluer la cellule qui fait `print(message)` puisque la variable `message` n'est plus connue de l'interpréteur."
   ]
  },
  {
   "cell_type": "markdown",
   "metadata": {},
   "source": [
    "### Réinitialiser l'interpréteur"
   ]
  },
  {
   "cell_type": "markdown",
   "metadata": {},
   "source": [
    "Si vous faites trop de modifications, ou perdez le fil de ce que vous avez évalué, il peut être utile de redémarrer votre interpréteur. Le menu *Kernel -> Restart* vous permet de faire cela, un peu à la manière de IDLE qui repart d'un interpréteur vierge lorsque vous utilisez la fonction F5."
   ]
  },
  {
   "cell_type": "markdown",
   "metadata": {},
   "source": [
    "Le menu *Kernel -> Interrupt* peut être quant à lui utilisé si votre fragment prend trop longtemps à s'exécuter (par exemple vous avez écrit une boucle dont la logique est cassée et qui ne termine pas)"
   ]
  },
  {
   "cell_type": "markdown",
   "metadata": {},
   "source": [
    "### Workflow des notebooks - Annuler les modifications"
   ]
  },
  {
   "cell_type": "markdown",
   "metadata": {},
   "source": [
    "Un des avantages principaux des notebooks est de vous permettre de modifier le code que nous avons écrit, et de voir par vous-même comment se comporte le code modifié.\n",
    "\n",
    "Pour cette raison chaque élève dispose de sa **propre copie** de chaque notebook, ainsi vous pouvez bien sûr apporter toutes les modifications que vous souhaitez à vos notebooks sans affecter les autres étudiants."
   ]
  },
  {
   "cell_type": "markdown",
   "metadata": {},
   "source": [
    "Vous pouvez toujours revenir à la version \"du cours\" grâce au menu "
   ]
  },
  {
   "cell_type": "markdown",
   "metadata": {},
   "source": [
    "    File -> Reset from Origin"
   ]
  },
  {
   "cell_type": "markdown",
   "metadata": {},
   "source": [
    "Attention, avec cette fonction vous restaurez **tout le notebook** et donc **vous perdez vos modifications précédentes**."
   ]
  },
  {
   "cell_type": "markdown",
   "metadata": {},
   "source": [
    "### Télécharger au format python"
   ]
  },
  {
   "cell_type": "markdown",
   "metadata": {},
   "source": [
    "Vous pouvez télécharger un notebook au format python sur votre ordinateur grâce au menu"
   ]
  },
  {
   "cell_type": "markdown",
   "metadata": {},
   "source": [
    "    File -> Download as -> python"
   ]
  },
  {
   "cell_type": "markdown",
   "metadata": {},
   "source": [
    "Les cellules de texte sont préservées dans le résultat sous forme de commentaires python"
   ]
  },
  {
   "cell_type": "markdown",
   "metadata": {},
   "source": [
    "### Partager un notebook en lecture seule"
   ]
  },
  {
   "cell_type": "markdown",
   "metadata": {},
   "source": [
    "Enfin avec le menu"
   ]
  },
  {
   "cell_type": "markdown",
   "metadata": {},
   "source": [
    "    File -> Share static version"
   ]
  },
  {
   "cell_type": "markdown",
   "metadata": {},
   "source": [
    "vous pouvez publier une version en lecture seule de votre notebook&nbsp;; vous obtenez une URL que vous pouvez publier, par exemple pour demander de l'aide sur le forum&nbsp;; ainsi, les autres étudiants peuvent accéder en lecture seule à votre code."
   ]
  },
  {
   "cell_type": "markdown",
   "metadata": {},
   "source": [
    "### Ajouter des cellules"
   ]
  },
  {
   "cell_type": "markdown",
   "metadata": {},
   "source": [
    "Lorsque vous arrivez à la fin du document, une nouvelle cellule est créée chaque fois que vous évaluez la dernière cellule&nbsp;; de cette façon vous disposez d'un brouillon pour vos propres essais.\n",
    "\n",
    "À vous de jouer."
   ]
  }
 ],
 "metadata": {
  "kernelspec": {
   "display_name": "Python 2",
   "language": "python",
   "name": "python2"
  },
  "language_info": {
   "codemirror_mode": {
    "name": "ipython",
    "version": 2
   },
   "file_extension": ".py",
   "mimetype": "text/x-python",
   "name": "python",
   "nbconvert_exporter": "python",
   "pygments_lexer": "ipython2",
   "version": "2.7.13"
  },
  "notebookname": "\"Notebooks\" IPython",
  "version": "1.0"
 },
 "nbformat": 4,
 "nbformat_minor": 1
}
