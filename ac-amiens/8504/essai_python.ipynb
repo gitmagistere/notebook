{
 "cells": [
  {
   "cell_type": "markdown",
   "metadata": {},
   "source": [
    "<span style=\"float:left;\">Licence CC BY-NC-ND</span><span style=\"float:right;\">François Rechenmann &amp; Thierry Parmentelat&nbsp;<img src=\"media/inria-25.png\" style=\"display:inline\"></span><br/>"
   ]
  },
  {
   "cell_type": "markdown",
   "metadata": {},
   "source": [
    "# Quelques rudiments de python"
   ]
  },
  {
   "cell_type": "markdown",
   "metadata": {},
   "source": [
    "Maintenant que vous savez utiliser un notebook, voyons quelques notions de base de python.\n",
    "\n",
    "**On rappelle que la façon habituelle de lire l'ensemble du notebook consiste à partir de la première cellule, et à taper *Maj+Entrée* -- ou *Shift+Enter*  -- jusqu'à la fin du notebook, de sorte à bien évaluer toutes les cellules de code.** "
   ]
  },
  {
   "cell_type": "markdown",
   "metadata": {},
   "source": [
    "On ne donne ici qu'un **très rapide** aperçu, pour vous donner un avant-goût du langage. Naturellement si vous connaissez déjà le langage, vous pouvez ignorer ce complément. À l'inverse, si vous ne connaissez pas du tout, sachez que les notions utilisées seront revues au fur et à mesure du cours."
   ]
  },
  {
   "cell_type": "markdown",
   "metadata": {},
   "source": [
    "### Formules magiques"
   ]
  },
  {
   "cell_type": "markdown",
   "metadata": {},
   "source": [
    "Vous trouverez au début de chaque notebook de ce cours la cellule suivante&nbsp;:"
   ]
  },
  {
   "cell_type": "code",
   "execution_count": null,
   "metadata": {
    "collapsed": true
   },
   "outputs": [],
   "source": [
    "# la formule magique pour utiliser print() en python2 et python3\n",
    "from __future__ import print_function\n",
    "# pour que la division se comporte en python2 comme en python3\n",
    "from __future__ import division"
   ]
  },
  {
   "cell_type": "markdown",
   "metadata": {},
   "source": [
    "Nous discutons ceci plus en détails à la fin de ce complément, mais dans l'immédiat, sachez simplement que ces \"formules magiques\" vont nous permettre d'écrire du code qui fonctionne indifféremment avec python2 et python3. "
   ]
  },
  {
   "cell_type": "markdown",
   "metadata": {},
   "source": [
    "### Nombres"
   ]
  },
  {
   "cell_type": "markdown",
   "metadata": {},
   "source": [
    "On peut faire en python tous les calculs habituels comme avec une calculette, par exemple&nbsp;:"
   ]
  },
  {
   "cell_type": "code",
   "execution_count": null,
   "metadata": {
    "collapsed": false
   },
   "outputs": [],
   "source": [
    "# calcul sur de petits entiers\n",
    "256 - 27"
   ]
  },
  {
   "cell_type": "markdown",
   "metadata": {},
   "source": [
    "J'en ai profité pour vous montrer que ce qui apparaît après le signe dièse `#` est **ignoré**, c'est un **commentaire**."
   ]
  },
  {
   "cell_type": "code",
   "execution_count": null,
   "metadata": {
    "collapsed": false
   },
   "outputs": [],
   "source": [
    "# ou sur de très gros entiers\n",
    "6786897689768976893324534535 * 34535678909876543567890876"
   ]
  },
  {
   "cell_type": "code",
   "execution_count": null,
   "metadata": {
    "collapsed": false
   },
   "outputs": [],
   "source": [
    "# ou sur des flottants\n",
    "3.14159 * 2"
   ]
  },
  {
   "cell_type": "markdown",
   "metadata": {},
   "source": [
    "### Le cas de la division"
   ]
  },
  {
   "cell_type": "markdown",
   "metadata": {},
   "source": [
    "Avec les \"formules magiques\" que nous avons adoptées, la division en python se présente de la façon suivante."
   ]
  },
  {
   "cell_type": "markdown",
   "metadata": {},
   "source": [
    " * On obtient toujours **un flottant** lorsqu'on fait une division simple avec `/`, même entre deux entiers&nbsp;:"
   ]
  },
  {
   "cell_type": "code",
   "execution_count": null,
   "metadata": {
    "collapsed": false
   },
   "outputs": [],
   "source": [
    "100/8"
   ]
  },
  {
   "cell_type": "markdown",
   "metadata": {},
   "source": [
    " * Et pour obtenir le **quotient** de la division entière, on utilise `//`&nbsp;:"
   ]
  },
  {
   "cell_type": "code",
   "execution_count": null,
   "metadata": {
    "collapsed": false
   },
   "outputs": [],
   "source": [
    "100//8"
   ]
  },
  {
   "cell_type": "markdown",
   "metadata": {},
   "source": [
    "### Variables et affectation"
   ]
  },
  {
   "cell_type": "markdown",
   "metadata": {},
   "source": [
    "Évidemment dès qu'on doit faire des calculs, il faut pouvoir mémoriser un résultat et le ranger dans une variable. En python cela se présente tout simplement avec le signe `=`&nbsp;:"
   ]
  },
  {
   "cell_type": "code",
   "execution_count": null,
   "metadata": {
    "collapsed": false
   },
   "outputs": [],
   "source": [
    "a = 12\n",
    "b = 36\n",
    "c = a * b\n",
    "print(c)"
   ]
  },
  {
   "cell_type": "markdown",
   "metadata": {},
   "source": [
    "Ou si on veut faire un petit effort de présentation&nbsp;:"
   ]
  },
  {
   "cell_type": "code",
   "execution_count": null,
   "metadata": {
    "collapsed": false
   },
   "outputs": [],
   "source": [
    "# on peut passer à la fonction print plusieurs paramètres\n",
    "# qui sont tous imprimés, avec un ESPACE entre chaque\n",
    "print(\"c=\", c)"
   ]
  },
  {
   "cell_type": "markdown",
   "metadata": {},
   "source": [
    "###  `print` ou pas `print` ?"
   ]
  },
  {
   "cell_type": "markdown",
   "metadata": {},
   "source": [
    "Vous remarquez que nous avons parfois utilisé `print`, et parfois non. La logique est la suivante : lorsqu'on évalue une cellule, le **dernier** résultat est imprimé par défaut. C'est pourquoi j'obtiens une sortie même si je fais simplement&nbsp;:"
   ]
  },
  {
   "cell_type": "code",
   "execution_count": null,
   "metadata": {
    "collapsed": false
   },
   "outputs": [],
   "source": [
    "c"
   ]
  },
  {
   "cell_type": "markdown",
   "metadata": {},
   "source": [
    "Mais par contre si je fais maintenant&nbsp;:"
   ]
  },
  {
   "cell_type": "code",
   "execution_count": null,
   "metadata": {
    "collapsed": true
   },
   "outputs": [],
   "source": [
    "c = 200"
   ]
  },
  {
   "cell_type": "markdown",
   "metadata": {},
   "source": [
    "cela ne produit pas d'impression. Ce qui se passe ici, c'est que ce fragment de code, on l'appelle en langage savant une *affectation*, ne retourne pas de résultat. Dans ce cas-là, il nous faut appeler `print` explicitement si on veut voir le résultat."
   ]
  },
  {
   "cell_type": "code",
   "execution_count": null,
   "metadata": {
    "collapsed": false
   },
   "outputs": [],
   "source": [
    "c = 300\n",
    "print(c)"
   ]
  },
  {
   "cell_type": "markdown",
   "metadata": {},
   "source": [
    "En suivant cette logique, on peut être amené à appeler `print` si on veut imprimer des résultats intermédiaires (avant d'arriver à la fin de la cellule), ou si on veut améliorer un peu la présentation."
   ]
  },
  {
   "cell_type": "code",
   "execution_count": null,
   "metadata": {
    "collapsed": false
   },
   "outputs": [],
   "source": [
    "a = 12\n",
    "print(\"a=\", a)\n",
    "b = 36\n",
    "print(\"b=\", 36)\n",
    "c = a + b//2\n",
    "print(\"c=\", c)"
   ]
  },
  {
   "cell_type": "markdown",
   "metadata": {},
   "source": [
    "### Les chaines de caractères"
   ]
  },
  {
   "cell_type": "markdown",
   "metadata": {},
   "source": [
    "Python propose évidemment aussi comme type de base la **chaine de caractères**&nbsp;:"
   ]
  },
  {
   "cell_type": "code",
   "execution_count": null,
   "metadata": {
    "collapsed": false
   },
   "outputs": [],
   "source": [
    "# on peut utiliser indifféremment \"\"\n",
    "prenom = \"Jean\"\n",
    "# ou ''\n",
    "nom = 'Dupont'\n",
    "print(nom, prenom)"
   ]
  },
  {
   "cell_type": "code",
   "execution_count": null,
   "metadata": {
    "collapsed": false
   },
   "outputs": [],
   "source": [
    "# pour concaténer plusieurs chaines, on les ajoute avec +\n",
    "complet = prenom + \" \" + nom\n",
    "print(\"nom complet:\", complet)"
   ]
  },
  {
   "cell_type": "markdown",
   "metadata": {},
   "source": [
    "### La boucle `for` sur une chaine"
   ]
  },
  {
   "cell_type": "markdown",
   "metadata": {},
   "source": [
    "C'est très facile de parcourir une chaine avec une boucle `for`&nbsp;:"
   ]
  },
  {
   "cell_type": "code",
   "execution_count": null,
   "metadata": {
    "collapsed": false
   },
   "outputs": [],
   "source": [
    "DNA = \"AGCTGTCGCG\"\n",
    "for lettre in DNA:\n",
    "    print('la séquence contient', lettre)"
   ]
  },
  {
   "cell_type": "markdown",
   "metadata": {},
   "source": [
    "### Les listes"
   ]
  },
  {
   "cell_type": "markdown",
   "metadata": {},
   "source": [
    "Les objets de type **liste** permettent de stocker plusieurs résultats, en préservant leur ordre&nbsp;:"
   ]
  },
  {
   "cell_type": "code",
   "execution_count": null,
   "metadata": {
    "collapsed": false
   },
   "outputs": [],
   "source": [
    "# On construit une liste avec des crochets []\n",
    "liste1 = [ 1, 2 ]\n",
    "# on peut mélanger les types dans une liste\n",
    "liste2 = [ \"trois\", 4.]\n",
    "print(liste2)"
   ]
  },
  {
   "cell_type": "code",
   "execution_count": null,
   "metadata": {
    "collapsed": false
   },
   "outputs": [],
   "source": [
    "# comme pour les chaines on peut concaténer avec +\n",
    "liste = liste1 + liste2\n",
    "print(liste)"
   ]
  },
  {
   "cell_type": "markdown",
   "metadata": {},
   "source": [
    "Enfin on peut ajouter au bout d'une liste avec `append`&nbsp;:"
   ]
  },
  {
   "cell_type": "code",
   "execution_count": null,
   "metadata": {
    "collapsed": false
   },
   "outputs": [],
   "source": [
    "# on ajoute la chaine \"cinq\" à la fin de la liste\n",
    "liste.append(\"cinq\")\n",
    "print(liste)"
   ]
  },
  {
   "cell_type": "markdown",
   "metadata": {},
   "source": [
    "### Le test `if`"
   ]
  },
  {
   "cell_type": "markdown",
   "metadata": {},
   "source": [
    "On peut faire un test avec l'instruction `if` .. `elif` .. `else`&nbsp;:"
   ]
  },
  {
   "cell_type": "code",
   "execution_count": null,
   "metadata": {
    "collapsed": false
   },
   "outputs": [],
   "source": [
    "x = 10\n",
    "if x < 4:\n",
    "    print(\"petit\")\n",
    "elif x < 20:\n",
    "    print(\"moyen\")\n",
    "else:\n",
    "    print(\"grand\")"
   ]
  },
  {
   "cell_type": "markdown",
   "metadata": {},
   "source": [
    "### La fonction : `def` et `return`"
   ]
  },
  {
   "cell_type": "markdown",
   "metadata": {},
   "source": [
    "On peut définir une **fonction** pour **réutiliser** le code. Ainsi ce qu'on vient d'écrire pourrait aussi bien se faire comme ceci&nbsp;:"
   ]
  },
  {
   "cell_type": "code",
   "execution_count": null,
   "metadata": {
    "collapsed": false
   },
   "outputs": [],
   "source": [
    "# on définit une fonction qui retourne\n",
    "# une chaine 'petit', 'moyen' ou 'grand'\n",
    "def triage(x):\n",
    "    # c'est important d'indenter la zone de texte\n",
    "    # qui contient le code de la fonction\n",
    "    if x < 4:\n",
    "        return \"petit\"\n",
    "    elif x < 20:\n",
    "        return \"moyen\"\n",
    "    else:\n",
    "        return \"grand\"\n",
    "    \n",
    "# en revenant à la première colonne, on termine la définition \n",
    "# de la fonction triage    "
   ]
  },
  {
   "cell_type": "markdown",
   "metadata": {},
   "source": [
    "Vous remarquez que même après avoir évalué cette cellule, vous n'obtenez pas d'impression&nbsp;; c'est le comportement normal. Ce qu'on vient de faire, c'est uniquement de définir une fonction, on ne l'a pas encore appelée.\n",
    "\n",
    "Maintenant que la fonction est définie, on peut l'appeler&nbsp;:"
   ]
  },
  {
   "cell_type": "code",
   "execution_count": null,
   "metadata": {
    "collapsed": false
   },
   "outputs": [],
   "source": [
    "message = triage(10)\n",
    "print(message)"
   ]
  },
  {
   "cell_type": "markdown",
   "metadata": {},
   "source": [
    "Remarquez tout de même ici&nbsp;:\n",
    " * l'utilisation de `def` qui définit la fonction de nom `triage` \n",
    " * l'appel de la fonction `triage(10)`, et le fait qu'on range le résultat dans la variable `message`\n",
    " * l'utilisation de `return` dans le code de la fonction, qui indique quel est le résultat que doit renvoyer la fonction - et qui donc dans ce cas, sera rangé dans `message`\n",
    "\n",
    "Comme ici, il **est très souvent plus malin** de concevoir une fonction qui **calcule** un résultat sans l'imprimer, et d'imprimer le résultat après coup, si c'est vraiment nécessaire, plutôt que d'imprimer directement dans la fonction. En effet dans un calcul plus compliqué, l'impression est en général facultative."
   ]
  },
  {
   "cell_type": "markdown",
   "metadata": {},
   "source": [
    "Avec cette façon de faire on peut facilement recommencer le même calcul avec une autre valeur pour `x`&nbsp;:"
   ]
  },
  {
   "cell_type": "code",
   "execution_count": null,
   "metadata": {
    "collapsed": false
   },
   "outputs": [],
   "source": [
    "print(triage(0))"
   ]
  },
  {
   "cell_type": "code",
   "execution_count": null,
   "metadata": {
    "collapsed": false
   },
   "outputs": [],
   "source": [
    "print(triage(8))"
   ]
  },
  {
   "cell_type": "code",
   "execution_count": null,
   "metadata": {
    "collapsed": false
   },
   "outputs": [],
   "source": [
    "print(triage(20))"
   ]
  },
  {
   "cell_type": "markdown",
   "metadata": {},
   "source": [
    "### Syntaxe et indentation"
   ]
  },
  {
   "cell_type": "markdown",
   "metadata": {},
   "source": [
    "Ceux qui sont habitués à des langages comme C/C++ ou Java doivent être surpris de constater l'absence de marqueurs de début et de fin, comme `{}` ou `begin/end` dans d'autres langages. "
   ]
  },
  {
   "cell_type": "markdown",
   "metadata": {},
   "source": [
    "En python, la syntaxe repose en fait uniquement sur l'indentation du code, comme vous pouvez le voir sur les quelques exemples qui précèdent. Ce qui permet de se débarrasser presque complètement de ces marqueurs - il reste à penser à mettre un `:` avec les instructions comme `if`, `for` et `def`.\n",
    "\n",
    "Il faut admettre que ce choix paraît étrange lorsqu'on rencontre ce style de syntaxe pour la première fois, mais vous verrez à l'usage qu'après un temps très court d'adaptation, cette syntaxe s'avère très agréable à la fois à lire et à écrire."
   ]
  },
  {
   "cell_type": "markdown",
   "metadata": {},
   "source": [
    "### Boucle `for` sur une liste"
   ]
  },
  {
   "cell_type": "markdown",
   "metadata": {},
   "source": [
    "On peut faire un `for` sur autre chose qu'une chaine, en fait sur presque tout, et notamment les listes&nbsp;; on peut donc récrire les trois cellules précédentes comme ceci&nbsp;:"
   ]
  },
  {
   "cell_type": "code",
   "execution_count": null,
   "metadata": {
    "collapsed": false
   },
   "outputs": [],
   "source": [
    "sujets = [0, 8, 20]\n",
    "for sujet in sujets:\n",
    "    print(triage(sujet))"
   ]
  },
  {
   "cell_type": "markdown",
   "metadata": {},
   "source": [
    "### Les dictionnaires"
   ]
  },
  {
   "cell_type": "markdown",
   "metadata": {},
   "source": [
    "python offre également un type de données très pratique, le dictionnaire. Pour simplifier à l'extrême, voici comment on s'en sert&nbsp;:"
   ]
  },
  {
   "cell_type": "code",
   "execution_count": null,
   "metadata": {
    "collapsed": false
   },
   "outputs": [],
   "source": [
    "# pour créer un dictionnaire simple qui donne l'âge à partir du prénom\n",
    "age_de = { 'jean' : 12, 'eric' : 25, 'anne' : 48 }\n",
    "age_de"
   ]
  },
  {
   "cell_type": "markdown",
   "metadata": {},
   "source": [
    "Comme on le voit un dictionnaire contient un ensemble de couples (clé ➞ valeur)&nbsp;; ici on a trois clés qui sont les trois chaines `jean`, `eric` et `anne`. Remarquez d'ailleurs que cette fois l'ensemble est non ordonné, contrairement au cas des listes.\n",
    "\n",
    "\n",
    "Une fois qu'on a un dictionnaire on peut rechercher l'information associée à une clé comme ceci&nbsp;:"
   ]
  },
  {
   "cell_type": "code",
   "execution_count": null,
   "metadata": {
    "collapsed": false
   },
   "outputs": [],
   "source": [
    "# rechercher la valeur attachée à la clé 'anne'\n",
    "age_de['anne']"
   ]
  },
  {
   "cell_type": "markdown",
   "metadata": {},
   "source": [
    "Le point à retenir concernant les dictionnaires c'est que la **performance** de cette recherche **ne dépend pas de la taille du dictionnaire** (ou en tous cas pas de manière linéaire). C'est le principal usage des dictionnaires que de permettre de **ranger un grand nombre de résultats** sans ralentir leur utilisation future. On aura l'occasion de reparler de cela."
   ]
  },
  {
   "cell_type": "markdown",
   "metadata": {},
   "source": [
    "### Une variable n'est pas une chaîne"
   ]
  },
  {
   "cell_type": "markdown",
   "metadata": {},
   "source": [
    "Remarquez aussi que dans notre dernière cellule de code, les quotes `'` sont nécessaires&nbsp;:"
   ]
  },
  {
   "cell_type": "markdown",
   "metadata": {},
   "source": [
    "Si on enlevait les `'` on obtiendrait une erreur&nbsp;:\n",
    "```\n",
    ">>> age_de[anne]\n",
    "---------------------------------------------------------------------------\n",
    "NameError                                 Traceback (most recent call last)\n",
    "<ipython-input-220-a83ba2c48145> in <module>()\n",
    "      1 # si on enlève les ' on obtient une erreur NameError\n",
    "----> 2 age_de[anne]\n",
    "\n",
    "NameError: name 'anne' is not defined\n",
    "```"
   ]
  },
  {
   "cell_type": "markdown",
   "metadata": {},
   "source": [
    "En effet, ce fragment serait valide si on avait défini une **variable** `anne`. Il convient de bien faire la différence entre\n",
    " * la **variable** `anne` - qui dans notre cas n'est pas définie, car on n'a jamais fait `anne = quelque chose`, \n",
    " * la chaîne `'anne'`, qui elle est bien présente comme clé dans le dictionnaire.\n",
    "    \n",
    "Ce qui veut dire que par contre ce fragment-ci est valable&nbsp;:"
   ]
  },
  {
   "cell_type": "code",
   "execution_count": null,
   "metadata": {
    "collapsed": false
   },
   "outputs": [],
   "source": [
    "prenom = 'anne'\n",
    "age_de[prenom]"
   ]
  },
  {
   "cell_type": "markdown",
   "metadata": {},
   "source": [
    "### Un exemple de fonction complète"
   ]
  },
  {
   "cell_type": "markdown",
   "metadata": {},
   "source": [
    "En guise de conclusion, voici un tout petit morceau de code qui permet de\n",
    " * travailler sur une **chaine** de caractères `dna` en entrée&nbsp;; on suppose que la chaine ne contient que des 'A' ou 'T'\n",
    " * calcule (et retourne) une **liste**, constituée d'autant d'éléments que la chaîne `dna`, valant `'haut'` ou `'bas'` selon que la chaine d'entrée contient `A` ou `T` respectivement."
   ]
  },
  {
   "cell_type": "code",
   "execution_count": null,
   "metadata": {
    "collapsed": true
   },
   "outputs": [],
   "source": [
    "def directions(dna):\n",
    "    # on initialise le résultat\n",
    "    resultat = []\n",
    "    # on balaie toutes les lettres de dna\n",
    "    for lettre in dna:\n",
    "        # si c'est un A\n",
    "        if lettre == 'A':\n",
    "            # on ajoute au resultat la chaine 'haut'\n",
    "            resultat.append('haut')\n",
    "        # presque pareil si c'est un T\n",
    "        elif lettre == 'T':\n",
    "            resultat.append('bas')\n",
    "        # sinon: on affiche juste un message\n",
    "        else:\n",
    "            print(\"lettre non reconnue\", lettre)\n",
    "    # a ce stade on a dans resultat la liste qui\n",
    "    # nous interesse\n",
    "    return resultat"
   ]
  },
  {
   "cell_type": "markdown",
   "metadata": {},
   "source": [
    "Ce qui donne, appliqué à quelques entrées&nbsp;:"
   ]
  },
  {
   "cell_type": "code",
   "execution_count": null,
   "metadata": {
    "collapsed": false
   },
   "outputs": [],
   "source": [
    "directions('ATAT')"
   ]
  },
  {
   "cell_type": "code",
   "execution_count": null,
   "metadata": {
    "collapsed": false
   },
   "outputs": [],
   "source": [
    "directions('TTTAAA')"
   ]
  },
  {
   "cell_type": "markdown",
   "metadata": {},
   "source": [
    "### Version de python"
   ]
  },
  {
   "cell_type": "markdown",
   "metadata": {},
   "source": [
    "Le code qui apparaît dans ce cours peut être **exécuté indifféremment avec python2 et python3**. \n",
    "\n",
    "Pour des raisons techniques, c'est python-2.7 qui est à l'oeuvre dans l'infrastructure du cours. Cela signifie que lorsque vous exécutez du code à partir d'un **notebook en ligne** sur FUN, il sera évalué par python-2.7. \n",
    "\n",
    "Mais si vous comptez utiliser plutôt python3 localement sur votre ordinateur, pas de souci particulier toutefois, tout le code **peut être utilisé à l'identique en python3** (et en fait, sans les \"formules magiques\").\n",
    "\n",
    "Pour faire court, il existe en effet des incompatibilités entre les deux versions de python, mais nous n'utilisons que des traits particulièrement simples, qui fonctionnent de manière identique dans les deux versions de python, à part le cas de `print` et de la division&nbsp;; c'est le propos des \"formules magiques\" que nous avons vues au début du complément."
   ]
  },
  {
   "cell_type": "markdown",
   "metadata": {},
   "source": [
    "### Performances"
   ]
  },
  {
   "cell_type": "markdown",
   "metadata": {},
   "source": [
    "Le langage python est très pratique, car étant interprété il permet de réaliser des calculs interactivement, et ainsi de se livrer à des tâtonnements, de faire très vite des moyennes et autres statistiques ou visualisations."
   ]
  },
  {
   "cell_type": "markdown",
   "metadata": {},
   "source": [
    "Cependant, il faut être conscient du fait que pour des algorithmes qui requièrent beaucoup de calculs, il peut se révéler assez lent. Nous approfondirons ce point au sujet notamment de l'algorithme de Needleman et Wunsch en Semaine 4, Séquence 9."
   ]
  },
  {
   "cell_type": "markdown",
   "metadata": {},
   "source": [
    "Retenez simplement, à ce stade, que les algorithmes que nous verrons dans ce cours ont une vocation principalement pédagogique, et que dans certains cas ils sont très inefficaces par rapport à ce qu'il serait possible d'obtenir avec un langage compilé comme C ou C++."
   ]
  },
  {
   "cell_type": "markdown",
   "metadata": {},
   "source": [
    "En pratique, on utilise des **librairies de fonctions** qui contiennent les algorithmes de base écrits dans un **langage compilé** de ce genre, et qui sont **accessibles depuis python** au travers de *wrappers*, c'est-à-dire de fonctions python qui appellent le code compilé. On obtient ainsi à la fois le beurre et l'argent du beurre, c'est-à-dire une **grande souplesse d'utilisation**, tout en préservant des **performances optimales**.  "
   ]
  },
  {
   "cell_type": "markdown",
   "metadata": {},
   "source": [
    "### Pour conclure"
   ]
  },
  {
   "cell_type": "markdown",
   "metadata": {},
   "source": [
    "À nouveau cette introduction est uniquement un survol extrêmement rapide (1% du langage peut-être..) pour nous permettre de commencer. Il existe un très grand nombre de ressources sur Internet pour apprendre le langage de manière plus exhaustive, mais ce n'est pas du tout notre sujet. "
   ]
  }
 ],
 "metadata": {
  "kernelspec": {
   "display_name": "Python 2",
   "language": "python",
   "name": "python2"
  },
  "livereveal": {
   "height": 800,
   "start_slideshow_at": "selected",
   "theme": "simple",
   "transition": "cube",
   "width": 1200
  },
  "notebookname": "Quelques rudiments de python",
  "version": "1.0"
 },
 "nbformat": 4,
 "nbformat_minor": 1
}