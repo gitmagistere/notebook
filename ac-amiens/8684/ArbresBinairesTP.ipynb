{
 "cells": [
  {
   "cell_type": "code",
   "execution_count": 1,
   "metadata": {},
   "outputs": [],
   "source": [
    "import networkx as nx\n",
    "import matplotlib.pyplot as plt"
   ]
  },
  {
   "cell_type": "markdown",
   "metadata": {},
   "source": [
    "# Classe Arbre binaire"
   ]
  },
  {
   "cell_type": "markdown",
   "metadata": {},
   "source": [
    "## Constructeur et méthodes de base"
   ]
  },
  {
   "cell_type": "code",
   "execution_count": 2,
   "metadata": {},
   "outputs": [],
   "source": [
    "class ArbreBinaire:\n",
    "    def __init__(self, valeur):\n",
    "        #Attributs : valeur (en paramètre), gauche et droit( initialisés vides)\n",
    "        self.valeur = valeur\n",
    "        self.enfant_gauche = None\n",
    "        self.enfant_droit = None\n",
    "    def ajouterGauche(self, valeur):\n",
    "        #cree un nouveau noeud (arbre binaire de racine valeur et avec deux sous arbres vides)\n",
    "        noeud = ArbreBinaire(valeur)\n",
    "        #Replace le sous arbre gauche précédent comme enfant du nouveau noeud\n",
    "        noeud.enfant_gauche = self.enfant_gauche\n",
    "        #place le nouveau sous arbre gauche\n",
    "        self.enfant_gauche = noeud\n",
    "    def ajouterDroit(self, valeur):\n",
    "        #cree un nouveau noeud (arbre binaire de racine valeur et avec deux sous arbres vides)\n",
    "        noeud = ArbreBinaire(valeur)\n",
    "        #Replace le sous arbre droit précédent comme enfant du nouveau noeud\n",
    "        noeud.enfant_gauche = self.enfant_droit\n",
    "        #place le nouveau sous arbre droit\n",
    "        self.enfant_droit = noeud\n",
    "    def estVide(self):\n",
    "        return self.valeur is None\n",
    "    ##A compléter\n",
    "    "
   ]
  },
  {
   "cell_type": "markdown",
   "metadata": {},
   "source": [
    "## Création d'un arbre binaire"
   ]
  },
  {
   "cell_type": "markdown",
   "metadata": {},
   "source": [
    "<div class=\"alert alert-success\">\n",
    "    <h3>A faire 1 </h3>\n",
    "   Créer une instance de la classe arbre binaire correspondant à l'arbre binaire de racine A tel que :\n",
    "    <ul><li> A a pour enfants gauche B et droit E</li>\n",
    "        <li>B a pour enfant droit D</li>\n",
    "        <li>E a pour enfants gauche F et droit I</li>\n",
    "        <li>D a pour enfant gauche G et pour enfant droit H</li>\n",
    "        <li>I a pour enfant gauche J et pour enfant droit K</li>\n",
    "    </ul>\n",
    "    <img src=\"arbreimg1.png\">\n",
    "    \n",
    "\n",
    "</div>"
   ]
  },
  {
   "cell_type": "code",
   "execution_count": 3,
   "metadata": {},
   "outputs": [],
   "source": [
    "##A compléter \n"
   ]
  },
  {
   "cell_type": "code",
   "execution_count": 4,
   "metadata": {},
   "outputs": [],
   "source": [
    "def test1():\n",
    "    assert racine.valeur=='A'\n",
    "    assert racine.enfant_gauche.valeur=='B'\n",
    "    assert racine.enfant_droit.enfant_gauche.valeur=='F'\n",
    "    assert racine.enfant_gauche.enfant_droit.valeur=='D'\n",
    "    assert racine.enfant_gauche.enfant_droit.enfant_gauche.valeur=='G'\n",
    "#test1()"
   ]
  },
  {
   "cell_type": "markdown",
   "metadata": {},
   "source": [
    "<div class=\"alert alert-success\">\n",
    "    <h3>A faire 2 </h3>\n",
    "   <ol><li>Ajouter une méthode <i>est_entier</i> qui permet de tester si un arbre binaire est “entier” c'est à dire si tous les noeuds possédent 0 ou deux enfants.</li>\n",
    "       <li>Ajouter une méthode <i>est_feuille</i> qui permet de tester si un noeud est une feuille.</li>\n",
    "       </ol>\n",
    "       \n",
    "\n",
    "</div>"
   ]
  },
  {
   "cell_type": "code",
   "execution_count": 5,
   "metadata": {},
   "outputs": [],
   "source": [
    "##Voir au dessus\n",
    "def test2():\n",
    "    assert racine.est_entier()==False\n",
    "    assert racine.est_feuille()==False\n",
    "    assert racine.enfant_gauche.enfant_droit.enfant_gauche.est_feuille()==True\n",
    "    assert racine.enfant_droit.est_entier()==True\n",
    "#test2()"
   ]
  },
  {
   "cell_type": "markdown",
   "metadata": {},
   "source": [
    "<div class=\"alert alert-success\">\n",
    "    <h3>A faire 3 </h3>\n",
    "    Ecrire une fonction <i>taille</i> prenant un arbre en paramètre et renvoyant le nombre de noeuds.\n",
    "       \n",
    "\n",
    "</div>"
   ]
  },
  {
   "cell_type": "code",
   "execution_count": 6,
   "metadata": {},
   "outputs": [],
   "source": [
    "##A compléter "
   ]
  },
  {
   "cell_type": "code",
   "execution_count": 7,
   "metadata": {},
   "outputs": [],
   "source": [
    "def test3():\n",
    "    assert taille(racine)==10\n",
    "    assert taille(racine.enfant_gauche==5)\n",
    "#test3()"
   ]
  },
  {
   "cell_type": "markdown",
   "metadata": {},
   "source": [
    "## Hauteur d'un arbre binaire\n",
    "Fonction récursive calculant la hauteur d'un arbre binaire en ajoutant 1 au maximum des hauteurs des deux sous-arbres"
   ]
  },
  {
   "cell_type": "code",
   "execution_count": 8,
   "metadata": {},
   "outputs": [],
   "source": [
    "##A compléter "
   ]
  },
  {
   "cell_type": "code",
   "execution_count": 9,
   "metadata": {},
   "outputs": [],
   "source": [
    "def test4():\n",
    "    assert hauteur(racine)==4\n",
    "#test4()"
   ]
  },
  {
   "cell_type": "markdown",
   "metadata": {},
   "source": [
    "# Affichage de l'arbre\n",
    "\n"
   ]
  },
  {
   "cell_type": "markdown",
   "metadata": {},
   "source": [
    "<div class=\"alert alert-info\">\n",
    "    <h2>Remarque</h2>\n",
    "\n",
    "<ul>\n",
    "<li>Cette partie peut être donnée telle quelle aux élèves : elle utilise la bibliothèque networkx ( qui fonctionne avec matplotlib) ainsi qu'un parcours d'arbre.</li>\n",
    "    <li>Pour afficher l'arbre, on crée un parcours (ici en profondeur) et on enregistre au fur et à mesure les positions des noeuds dans une liste.\n",
    "    </li>\n",
    "</div>"
   ]
  },
  {
   "cell_type": "markdown",
   "metadata": {},
   "source": [
    "## Parcours"
   ]
  },
  {
   "cell_type": "code",
   "execution_count": 10,
   "metadata": {},
   "outputs": [],
   "source": [
    "def parcours(arbre, hauteur, pos_courante, noeuds=[], branches=[], position={}):\n",
    "    \"\"\"Parcours en profondeur récursif de l'arbre binaire\n",
    "    entrées : arbre, liste des noeuds, liste des branches sous forme de tuple,\n",
    "    dictionnaire des poistions (clés : nom des noeuds, valeur : tuple d'entiers)\n",
    "    renvoie la liste des noeuds, des branches et le dictionnaire des positions\"\"\"\n",
    "    if arbre is not None:\n",
    "        noeuds.append(arbre.valeur)            # on complète la liste des noeuds\n",
    "        position[arbre.valeur] = (pos_courante,hauteur)     # la liste des positions\n",
    "        hauteur -= 1 #on change de profondeur()\n",
    "        if arbre.enfant_gauche is not None:\n",
    "            branches.append((arbre.valeur, arbre.enfant_gauche.valeur))  #on compléte la liste des branches\n",
    "            parcours(arbre.enfant_gauche,hauteur,\n",
    "                    pos_courante - 2**(hauteur-1 ), noeuds, branches, position )#Appel récursif à gauche\n",
    "        if arbre.enfant_droit is not None:\n",
    "            branches.append((arbre.valeur, arbre.enfant_droit.valeur))#on compléte la liste des branches\n",
    "            parcours(arbre.enfant_droit, hauteur,\n",
    "                    pos_courante + 2**(hauteur-1 ), noeuds, branches, position)#Appel récursif à droite\n",
    "    return noeuds, branches, position"
   ]
  },
  {
   "cell_type": "code",
   "execution_count": 11,
   "metadata": {},
   "outputs": [
    {
     "data": {
      "text/plain": [
       "(['A', 'B', 'D', 'G', 'H', 'E', 'F', 'I', 'J', 'K'],\n",
       " [('A', 'B'),\n",
       "  ('B', 'D'),\n",
       "  ('D', 'G'),\n",
       "  ('D', 'H'),\n",
       "  ('A', 'E'),\n",
       "  ('E', 'F'),\n",
       "  ('E', 'I'),\n",
       "  ('I', 'J'),\n",
       "  ('I', 'K')],\n",
       " {'A': (8, 4),\n",
       "  'B': (4, 3),\n",
       "  'D': (6, 2),\n",
       "  'G': (5, 1),\n",
       "  'H': (7, 1),\n",
       "  'E': (12, 3),\n",
       "  'F': (10, 2),\n",
       "  'I': (14, 2),\n",
       "  'J': (13, 1),\n",
       "  'K': (15, 1)})"
      ]
     },
     "execution_count": 11,
     "metadata": {},
     "output_type": "execute_result"
    }
   ],
   "source": [
    "h=hauteur(racine)\n",
    "parcours(racine,h,2**(h-1))"
   ]
  },
  {
   "cell_type": "markdown",
   "metadata": {},
   "source": [
    "## Affichage"
   ]
  },
  {
   "cell_type": "markdown",
   "metadata": {},
   "source": [
    "<div class=\"alert alert-info\">\n",
    "    <h2>Remarque</h2>\n",
    "\n",
    "Pour plus d'informations sur la fonction draw_networkx : <a href=\"https://networkx.org/documentation/stable/reference/generated/networkx.drawing.nx_pylab.draw_networkx.html#networkx.drawing.nx_pylab.draw_networkx\"> Documentation</a>\n",
    "</div>"
   ]
  },
  {
   "cell_type": "code",
   "execution_count": 12,
   "metadata": {},
   "outputs": [],
   "source": [
    "def repr_graph(racine):\n",
    "    h=hauteur(racine)-1\n",
    "    # appel d'une fonction récursive de parcours,\n",
    "    # on récupère : la liste des noeuds, la liste des branches,\n",
    "    # le dictionnaire des positions des noeuds\n",
    "    noeuds, branches, position  = parcours(racine,h,2**(h))\n",
    "    mon_arbre = nx.Graph() # objet Graphe de la bibliothèque Networkx\n",
    "    mon_arbre.add_nodes_from(noeuds)#Ajoute les noeuds\n",
    "    mon_arbre.add_edges_from(branches)#Ajoute les branches\n",
    "    print(mon_arbre.nodes)\n",
    "    print(mon_arbre.edges)\n",
    "    nx.draw_networkx(mon_arbre, pos = position)#Dessine l'arbre\n",
    "    plt.show()#Affichage de matplotlib.pyplot\n",
    "    return(mon_arbre) "
   ]
  },
  {
   "cell_type": "code",
   "execution_count": 13,
   "metadata": {},
   "outputs": [
    {
     "name": "stdout",
     "output_type": "stream",
     "text": [
      "['A', 'B', 'D', 'G', 'H', 'E', 'F', 'I', 'J', 'K']\n",
      "[('A', 'B'), ('A', 'E'), ('B', 'D'), ('D', 'G'), ('D', 'H'), ('E', 'F'), ('E', 'I'), ('I', 'J'), ('I', 'K')]\n"
     ]
    },
    {
     "data": {
      "image/png": "[encoded data removed]",
      "text/plain": [
       "<Figure size 432x288 with 1 Axes>"
      ]
     },
     "metadata": {},
     "output_type": "display_data"
    },
    {
     "data": {
      "text/plain": [
       "<networkx.classes.graph.Graph at 0x7f11b17a19e8>"
      ]
     },
     "execution_count": 13,
     "metadata": {},
     "output_type": "execute_result"
    }
   ],
   "source": [
    "repr_graph(racine)"
   ]
  },
  {
   "cell_type": "markdown",
   "metadata": {},
   "source": [
    "# Parcours d'arbres"
   ]
  },
  {
   "cell_type": "markdown",
   "metadata": {},
   "source": [
    "## Parcours en profondeur"
   ]
  },
  {
   "cell_type": "markdown",
   "metadata": {},
   "source": [
    "Dans un parcours en profondeur , on essaie toujours d'aller le plus loin possible et on remnte seulement lorsqu'on y est obligé: on parcourt d'abord tout le sous arbre de gauche, puis on parcourt les éléments du sous arbre droit.\n",
    "La structure est naturellement récursive.\n",
    "Si on prend en compte des enfants \"None\" pour compléter l'arbre, on passera trois fois par tous les noeuds qui ne sont pas des feuilles. Les parcours préfixe, infixe et suffixe triatent les noeuds au premier, au deuxième ou au troisième passage."
   ]
  },
  {
   "cell_type": "markdown",
   "metadata": {},
   "source": [
    "### Parcours en profondeur préfixe\n",
    "Dans un parcours préfixe, chaque nœud est visité avant que ses enfants soient visités : on affiche ( ou on traite) la racine de l'arbre, on parcourt tout le sous arbre de gauche, puis on parcourt les éléments du sous arbre droit. \n",
    "\n",
    "Ordre d'affichage :  Racine- Gauche- Droit. \n",
    "<br>\n",
    "<b>Algorithme prefixe(T)</b><br>\n",
    "<i>Variables :</i>\n",
    "\n",
    " n : la racine d'un arbre\n",
    "\n",
    "Sortie : Un entier\n",
    "\n",
    "<i>Instructions :</i>\n",
    "\n",
    "    si n non vide\n",
    "\n",
    "        \"Traiter\" n\n",
    "\n",
    "        prefixe(n.enfant_gauche)\n",
    "\n",
    "        prefixe(n.enfant_droit)\n"
   ]
  },
  {
   "cell_type": "markdown",
   "metadata": {},
   "source": [
    "<div class=\"alert alert-success\">\n",
    "    <h3>A faire 4 </h3>\n",
    "    <ul><li>Donner à la main l'ordre de traitement des noeuds de l'arbre précédent</li>\n",
    "        <li>Programmer ci-dessous la fonction <i>prefixe</i> prenant en paramètres la racine de l'arbre et ajoutant les noeuds au fur et à mesure du parcours dans la liste liste_noeuds_prefixe.</li></ul>\n",
    "       \n",
    " <img src=\"arbreimg1.png\">\n",
    "</div>"
   ]
  },
  {
   "cell_type": "code",
   "execution_count": 22,
   "metadata": {},
   "outputs": [],
   "source": [
    "#A compléter\n"
   ]
  },
  {
   "cell_type": "code",
   "execution_count": 23,
   "metadata": {},
   "outputs": [
    {
     "name": "stdout",
     "output_type": "stream",
     "text": [
      "['A', 'B', 'D', 'G', 'H', 'E', 'F', 'I', 'J', 'K']\n"
     ]
    }
   ],
   "source": [
    "liste_noeuds_prefixe=[]\n",
    "#prefixe(racine)\n",
    "print(liste_noeuds_prefixe)"
   ]
  },
  {
   "cell_type": "markdown",
   "metadata": {},
   "source": [
    "### Parcours en profondeur infixe\n",
    "Dans un parcours infixe,on affiche ( ou on traite) l'enfant gauche avant le parent puis l'enfant droit\n",
    "\n",
    "Ordre d'affichage :  Gauche-Racine-  Droit. \n",
    "\n"
   ]
  },
  {
   "cell_type": "markdown",
   "metadata": {},
   "source": [
    "<div class=\"alert alert-success\">\n",
    "    <h3>A faire 5 </h3>\n",
    "    <ul><li>Donner à la main l'ordre de traitement des noeuds de l'arbre précédent</li>\n",
    "        <li>Programmer ci-dessous la fonction <i>infixe</i> prenant en paramètres la racine de l'arbre et ajoutant les noeuds au fur et à mesure du parcours dans la liste liste_noeuds_infixe.</li></ul>\n",
    "       \n",
    " <img src=\"arbreimg1.png\">\n",
    "</div>"
   ]
  },
  {
   "cell_type": "code",
   "execution_count": 29,
   "metadata": {},
   "outputs": [],
   "source": [
    "#A compléter\n"
   ]
  },
  {
   "cell_type": "code",
   "execution_count": 30,
   "metadata": {},
   "outputs": [
    {
     "name": "stdout",
     "output_type": "stream",
     "text": [
      "['B', 'G', 'D', 'H', 'A', 'F', 'E', 'J', 'I', 'K']\n"
     ]
    }
   ],
   "source": [
    "liste_noeuds_infixe=[]\n",
    "#infixe(racine)\n",
    "print(liste_noeuds_infixe)"
   ]
  },
  {
   "cell_type": "markdown",
   "metadata": {},
   "source": [
    "### Parcours en profondeur suffixe (ou postfixe)\n",
    "Dans un parcours suffixe,on affiche ( ou on traite) l'enfant gauche avant le parent puis l'enfant droit\n",
    "\n",
    "Ordre d'affichage :  Gauche- Droit-Racine. \n",
    "\n"
   ]
  },
  {
   "cell_type": "markdown",
   "metadata": {},
   "source": [
    "<div class=\"alert alert-success\">\n",
    "    <h3>A faire 6 </h3>\n",
    "    <ul><li>Donner à la main l'ordre de traitement des noeuds de l'arbre précédent</li>\n",
    "        <li>Programmer ci-dessous la fonction <i>infixe</i> prenant en paramètres la racine de l'arbre et ajoutant les noeuds au fur et à mesure du parcours dans la liste liste_noeuds_suffixe.</li></ul>\n",
    "       \n",
    " <img src=\"arbreimg1.png\">\n",
    "</div>"
   ]
  },
  {
   "cell_type": "code",
   "execution_count": 34,
   "metadata": {},
   "outputs": [],
   "source": [
    "#A compléter\n"
   ]
  },
  {
   "cell_type": "code",
   "execution_count": 35,
   "metadata": {},
   "outputs": [
    {
     "name": "stdout",
     "output_type": "stream",
     "text": [
      "['G', 'H', 'D', 'B', 'F', 'J', 'K', 'I', 'E', 'A']\n"
     ]
    }
   ],
   "source": [
    "liste_noeuds_suffixe=[]\n",
    "#suffixe(racine)\n",
    "print(liste_noeuds_suffixe)"
   ]
  },
  {
   "cell_type": "markdown",
   "metadata": {},
   "source": [
    "## Parcours en Largeur"
   ]
  },
  {
   "cell_type": "markdown",
   "metadata": {},
   "source": [
    "Ici les noeuds son traités par hauteur en commençant par la racine.\n",
    "On commence par explorer un nœud, puis ses successeurs, puis les successeurs non explorés des successeurs, etc.\n",
    "On utilisera une file qu'on remplira au fur et à mesure de tous les enfants de l'élément défilé. La sutructure naturelle est itérative.\n",
    "\n",
    "<b>Algorithme parcours_largeur(n)</b>\n",
    "\n",
    "<i>Variables :</i>\n",
    "\n",
    "Entrée :n racine de l'arbre\n",
    "variable utilisée : f une file\n",
    "\n",
    "\n",
    "Sortie : Un entier\n",
    "\n",
    "<i>Instructions :</i>\n",
    "\n",
    "    enfiler(n, f)\n",
    "\n",
    "    tant que f non vide :\n",
    "\n",
    "        x ← defiler(f)\n",
    "\n",
    "        \"Traiter\" x\n",
    "\n",
    "        si x.enfant_gauche non vide :\n",
    "\n",
    "            enfiler(x.enfant_gauche, f)\n",
    "\n",
    "        fin si\n",
    "\n",
    "        si x.enfant_droit non vide :\n",
    "\n",
    "            enfiler(x.enfant_droit, f) \n",
    "\n",
    "        fin si\n",
    "\n",
    "    fin tant que"
   ]
  },
  {
   "cell_type": "markdown",
   "metadata": {},
   "source": [
    "<div class=\"alert alert-success\">\n",
    "    <h3>A faire 7 </h3>\n",
    "    <ul><li>Donner à la main l'ordre de traitement des noeuds de l'arbre précédent</li>\n",
    "        <li>Programmer ci-dessous la fonction <i>p_largeur</i> prenant en paramètres la racine de l'arbre et ajoutant les noeuds au fur et à mesure du parcours dans la liste liste_noeuds_largeur.</li></ul>\n",
    "       \n",
    " <img src=\"arbreimg1.png\">\n",
    "</div>"
   ]
  },
  {
   "cell_type": "code",
   "execution_count": 37,
   "metadata": {},
   "outputs": [],
   "source": [
    "#A compléter"
   ]
  },
  {
   "cell_type": "code",
   "execution_count": 38,
   "metadata": {},
   "outputs": [
    {
     "name": "stdout",
     "output_type": "stream",
     "text": [
      "['A', 'B', 'E', 'D', 'F', 'I', 'G', 'H', 'J', 'K']\n"
     ]
    }
   ],
   "source": [
    "liste_noeuds_largeur=[]\n",
    "#p_largeur(racine)\n",
    "print(liste_noeuds_largeur)"
   ]
  },
  {
   "cell_type": "code",
   "execution_count": null,
   "metadata": {},
   "outputs": [],
   "source": []
  }
 ],
 "metadata": {
  "kernelspec": {
   "display_name": "Python 3",
   "language": "python",
   "name": "python3"
  },
  "language_info": {
   "codemirror_mode": {
    "name": "ipython",
    "version": 3
   },
   "file_extension": ".py",
   "mimetype": "text/x-python",
   "name": "python",
   "nbconvert_exporter": "python",
   "pygments_lexer": "ipython3",
   "version": "3.6.9"
  }
 },
 "nbformat": 4,
 "nbformat_minor": 2
}
