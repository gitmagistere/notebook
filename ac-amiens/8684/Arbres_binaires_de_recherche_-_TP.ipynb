{
 "cells": [
  {
   "cell_type": "markdown",
   "metadata": {},
   "source": [
    "# Arbres binaires de recherche\n",
    "Un arbre binaire de recherche (ABR) est un arbre binaire dont toutes les valeurs des noeuds peuvent être comparées et vérifient :\n",
    "\n",
    "* les valeurs dans le sous arbre gauche d’un nœud ont des valeurs inférieures à lui;\n",
    "\n",
    "* les valeurs dans le sous arbre droit d’un nœud ont des valeurs supérieures à lui.\n"
   ]
  },
  {
   "cell_type": "markdown",
   "metadata": {},
   "source": [
    "## Constructeur et méthodes de base"
   ]
  },
  {
   "cell_type": "code",
   "execution_count": 1,
   "metadata": {},
   "outputs": [],
   "source": [
    "class ABR:\n",
    "    def __init__(self, valeur):\n",
    "        #Attributs : valeur (en paramètre), gauche et droit( initialisés vides)\n",
    "        self.valeur = valeur\n",
    "        self.enfant_gauche = None\n",
    "        self.enfant_droit = None\n",
    "    def estVide(self):\n",
    "        return self.valeur is None\n",
    "    def estFeuille(self):\n",
    "        return self.enfant_droit==None and self.enfant_gauche==None\n",
    "    def inserer(self,y):\n",
    "        x=self.valeur\n",
    "        if y<x:\n",
    "            if self.enfant_gauche == None:\n",
    "                self.enfant_gauche = ABR(y)\n",
    "            else :\n",
    "                self.enfant_gauche.inserer(y)\n",
    "        if y>x:\n",
    "            if self.enfant_droit == None:\n",
    "                self.enfant_droit = ABR(y)\n",
    "            else :\n",
    "                self.enfant_droit.inserer(y) "
   ]
  },
  {
   "cell_type": "markdown",
   "metadata": {},
   "source": [
    "## Création d'un arbre binaire de recherche"
   ]
  },
  {
   "cell_type": "markdown",
   "metadata": {},
   "source": [
    "<div class=\"alert alert-success\">\n",
    "    <h3>A faire 1 </h3>\n",
    "    Ecrire la fonction <i> creer_arbre</i> prenant en paramètres une liste de valeurs et créant  une instance de la classe ABR à partir de la liste de nombres  [6,4,5,8,7,9,3] ( placés dans cet ordre)\n",
    "\n",
    "    \n",
    "\n",
    "</div>"
   ]
  },
  {
   "cell_type": "code",
   "execution_count": 2,
   "metadata": {},
   "outputs": [],
   "source": [
    "def creer_arbre(liste_noeuds):\n",
    "    racine=ABR(liste_noeuds[0])\n",
    "    for n in liste_noeuds[1:]:\n",
    "        racine.inserer(n)\n",
    "    return racine"
   ]
  },
  {
   "cell_type": "code",
   "execution_count": 3,
   "metadata": {},
   "outputs": [],
   "source": [
    "liste_abr=[6,4,5,8,7,9,3] \n",
    "racine=creer_arbre(liste_abr)"
   ]
  },
  {
   "cell_type": "code",
   "execution_count": 4,
   "metadata": {},
   "outputs": [],
   "source": [
    "def test1():\n",
    "    assert racine.enfant_gauche==4\n",
    "    assert racine.enfant_gauche.enfant_droit.valeur==5\n",
    "    assert racine.enfant_gauche.enfant_gauche.valeur==3\n",
    "    assert racine.enfant_droit==8\n",
    "    assert racine.enfant_droit.enfant_droit.valeur==9\n",
    "    assert racine.enfant_droit.enfant_gauche.valeur==7"
   ]
  },
  {
   "cell_type": "markdown",
   "metadata": {},
   "source": [
    "# Affichage de l'arbre\n",
    "On replace ici le programme nécessaire pour l'affichage de l'arbre"
   ]
  },
  {
   "cell_type": "code",
   "execution_count": 5,
   "metadata": {},
   "outputs": [],
   "source": [
    "import networkx as nx\n",
    "import matplotlib.pyplot as plt\n",
    "def hauteur(arbre):\n",
    "    if arbre is None:\n",
    "        return 0\n",
    "    else:\n",
    "        return 1 + max(hauteur(arbre.enfant_gauche), hauteur(arbre.enfant_droit))\n",
    "def parcours(arbre, hauteur, pos_courante, noeuds=[], branches=[], position={}):\n",
    "    \"\"\"Parcours en profondeur récursif de l'arbre binaire\n",
    "    entrées : arbre, liste des noeuds, liste des branches sous forme de tuple,\n",
    "    dictionnaire des poistions (clés : nom des noeuds, valeur : tuple d'entiers)\n",
    "    renvoie la liste des noeuds, des branches et le dictionnaire des positions\"\"\"\n",
    "    if arbre is not None:\n",
    "        noeuds.append(arbre.valeur)            # on complète la liste des noeuds\n",
    "        position[arbre.valeur] = (pos_courante,hauteur)     # la liste des positions\n",
    "        hauteur -= 1 #on change de profondeur()\n",
    "        if arbre.enfant_gauche is not None:\n",
    "            branches.append((arbre.valeur, arbre.enfant_gauche.valeur))  #on compléte la liste des branches\n",
    "            parcours(arbre.enfant_gauche,hauteur,\n",
    "                    pos_courante - 2**(hauteur-1 ), noeuds, branches, position )#Appel récursif à gauche\n",
    "        if arbre.enfant_droit is not None:\n",
    "            branches.append((arbre.valeur, arbre.enfant_droit.valeur))#on compléte la liste des branches\n",
    "            parcours(arbre.enfant_droit, hauteur,\n",
    "                    pos_courante + 2**(hauteur-1 ), noeuds, branches, position)#Appel récursif à droite\n",
    "    return noeuds, branches, position\n",
    "def repr_graph(racine):\n",
    "    h=hauteur(racine)-1\n",
    "    # appel d'une fonction récursive de parcours,\n",
    "    # on récupère : la liste des noeuds, la liste des branches,\n",
    "    # le dictionnaire des positions des noeuds\n",
    "    noeuds, branches, position  = parcours(racine,h,2**(h))\n",
    "    mon_arbre = nx.Graph() # objet Graphe de la bibliothèque Networkx\n",
    "    mon_arbre.add_nodes_from(noeuds)#Ajoute les noeuds\n",
    "    mon_arbre.add_edges_from(branches)#Ajoute les branches\n",
    "    #On vide les listes noeuds et branches pour pouvoir réutiliser la fonction \n",
    "    #sans garder en mémoire les listes précédentes\n",
    "    noeuds.clear()\n",
    "    branches.clear()\n",
    "    #Dess de l'arbre\n",
    "    nx.draw_networkx(mon_arbre, pos = position)\n",
    "    plt.show()#Affichage de matplotlib.pyplot\n",
    "    return(mon_arbre)"
   ]
  },
  {
   "cell_type": "code",
   "execution_count": 6,
   "metadata": {},
   "outputs": [
    {
     "data": {
      "image/png": "[encoded data removed]",
      "text/plain": [
       "<Figure size 432x288 with 1 Axes>"
      ]
     },
     "metadata": {},
     "output_type": "display_data"
    },
    {
     "data": {
      "text/plain": [
       "<networkx.classes.graph.Graph at 0x7fee4807c8d0>"
      ]
     },
     "execution_count": 6,
     "metadata": {},
     "output_type": "execute_result"
    }
   ],
   "source": [
    "repr_graph(racine)"
   ]
  },
  {
   "cell_type": "markdown",
   "metadata": {},
   "source": [
    "# Recherche dans un abr"
   ]
  },
  {
   "cell_type": "markdown",
   "metadata": {},
   "source": [
    "<div class=\"alert alert-success\">\n",
    "    <h3>A faire 2 </h3>\n",
    "    Ecrire la fonction de recherche <i>recherche(racine,y)</i> d'une valeur dans un arbre binaire de recherche.\n",
    "\n",
    "</div>"
   ]
  },
  {
   "cell_type": "code",
   "execution_count": 7,
   "metadata": {},
   "outputs": [],
   "source": [
    "def recherche(racine,y):\n",
    "        x=racine.valeur\n",
    "        if x==y:\n",
    "            return True\n",
    "        elif y<x and racine.enfant_gauche !=None:\n",
    "            return recherche(racine.enfant_gauche,y)\n",
    "        elif y>x and racine.enfant_droit !=None:\n",
    "            return recherche(racine.enfant_droit,y)\n",
    "        else :\n",
    "            return False"
   ]
  },
  {
   "cell_type": "code",
   "execution_count": 8,
   "metadata": {},
   "outputs": [],
   "source": [
    "def test2():\n",
    "    assert recherche(racine,7)==True\n",
    "    assert recherche(racine,4)==True\n",
    "    assert recherche(racine,10)==False\n",
    "    assert recherche(racine,2)==False"
   ]
  },
  {
   "cell_type": "markdown",
   "metadata": {},
   "source": [
    "# Maximum dans un abr\n"
   ]
  },
  {
   "cell_type": "markdown",
   "metadata": {},
   "source": [
    "<div class=\"alert alert-success\">\n",
    "    <h3>A faire 3 </h3>\n",
    "    Ecrire la fonction <i>maxiABR(racine)</i> qui renvoie le maximum dans un arbre binaire de recherche.\n",
    "\n",
    "</div>"
   ]
  },
  {
   "cell_type": "code",
   "execution_count": 9,
   "metadata": {},
   "outputs": [],
   "source": [
    "def maxiABR(racine):\n",
    "        if racine.enfant_droit==None:\n",
    "            return racine.valeur\n",
    "        else :\n",
    "            x=racine.enfant_droit\n",
    "            return max(maxiABR(x),racine.valeur)"
   ]
  },
  {
   "cell_type": "code",
   "execution_count": 10,
   "metadata": {},
   "outputs": [],
   "source": [
    "def test2():\n",
    "    assert maxiABR(racine)==9\n",
    "    assert maxiABR(racine.enfant_gauche)==5"
   ]
  },
  {
   "cell_type": "markdown",
   "metadata": {},
   "source": [
    "# ABR de mots"
   ]
  },
  {
   "cell_type": "markdown",
   "metadata": {},
   "source": [
    "<div class=\"alert alert-success\">\n",
    "    <h3>A faire 3 </h3>\n",
    "    <ul> <li> Créer un arbre binaire de recherche composé des mots : 'diu','nsi','info','distanciel','arbre','souris','clavier'</li>\n",
    "        <li> rechercher les mots 'info' et 'bulle' à l'aide de cet arbre</li></ul>\n",
    "\n",
    "</div>"
   ]
  },
  {
   "cell_type": "code",
   "execution_count": 11,
   "metadata": {},
   "outputs": [
    {
     "data": {
      "image/png": "[encoded data removed]",
      "text/plain": [
       "<Figure size 432x288 with 1 Axes>"
      ]
     },
     "metadata": {},
     "output_type": "display_data"
    },
    {
     "data": {
      "text/plain": [
       "<networkx.classes.graph.Graph at 0x7fee14baf588>"
      ]
     },
     "execution_count": 11,
     "metadata": {},
     "output_type": "execute_result"
    }
   ],
   "source": [
    "liste = ['diu','nsi','info','distanciel','arbre','souris','clavier']\n",
    "abr_mots=creer_arbre(liste)\n",
    "repr_graph(abr_mots)"
   ]
  },
  {
   "cell_type": "code",
   "execution_count": 12,
   "metadata": {},
   "outputs": [
    {
     "data": {
      "text/plain": [
       "True"
      ]
     },
     "execution_count": 12,
     "metadata": {},
     "output_type": "execute_result"
    }
   ],
   "source": [
    "recherche(abr_mots,'info')"
   ]
  },
  {
   "cell_type": "code",
   "execution_count": 13,
   "metadata": {},
   "outputs": [
    {
     "data": {
      "text/plain": [
       "False"
      ]
     },
     "execution_count": 13,
     "metadata": {},
     "output_type": "execute_result"
    }
   ],
   "source": [
    "recherche(abr_mots,'bulle')"
   ]
  },
  {
   "cell_type": "markdown",
   "metadata": {},
   "source": [
    "<div class=\"alert alert-success\">\n",
    "    <h3>A faire 4 </h3>\n",
    "     Ecrire le parcours qui permet de trier les valeurs d'un arbre binaire de recherche.\n",
    "\n",
    "</div>"
   ]
  },
  {
   "cell_type": "code",
   "execution_count": 22,
   "metadata": {},
   "outputs": [],
   "source": [
    "def infixe(n):\n",
    "    \n",
    "    if n!=None:  \n",
    "        infixe(n.enfant_gauche)\n",
    "        liste_noeuds_infixe.append(n.valeur)\n",
    "        infixe(n.enfant_droit)\n"
   ]
  },
  {
   "cell_type": "code",
   "execution_count": 23,
   "metadata": {},
   "outputs": [
    {
     "name": "stdout",
     "output_type": "stream",
     "text": [
      "['arbre', 'clavier', 'distanciel', 'diu', 'info', 'nsi', 'souris']\n"
     ]
    }
   ],
   "source": [
    "liste_noeuds_infixe=[]\n",
    "infixe(abr_mots)\n",
    "print(liste_noeuds_infixe)"
   ]
  },
  {
   "cell_type": "code",
   "execution_count": null,
   "metadata": {},
   "outputs": [],
   "source": []
  }
 ],
 "metadata": {
  "kernelspec": {
   "display_name": "Python 3",
   "language": "python",
   "name": "python3"
  },
  "language_info": {
   "codemirror_mode": {
    "name": "ipython",
    "version": 3
   },
   "file_extension": ".py",
   "mimetype": "text/x-python",
   "name": "python",
   "nbconvert_exporter": "python",
   "pygments_lexer": "ipython3",
   "version": "3.6.9"
  }
 },
 "nbformat": 4,
 "nbformat_minor": 2
}
