{
 "cells": [
  {
   "cell_type": "code",
   "execution_count": 1,
   "metadata": {},
   "outputs": [
    {
     "name": "stdout",
     "output_type": "stream",
     "text": [
      "abdh..i..ej...cf..g..\n"
     ]
    }
   ],
   "source": [
    "class ArbreB:\n",
    "    def __init__(self, valeur, gauche = None, droit = None):\n",
    "        self.noeud = valeur\n",
    "        self.gauche = gauche\n",
    "        self.droit = droit\n",
    "    def __repr__(self):\n",
    "        return str(self.noeud) +str(self.gauche).replace('None','.')+str(self.droit).replace('None','.')\n",
    "    \n",
    "arbre_f = ArbreB('f')\n",
    "arbre_g = ArbreB('g')\n",
    "arbre_c = ArbreB('c',arbre_f,arbre_g)\n",
    "arbre_h = ArbreB('h')\n",
    "arbre_i = ArbreB('i')\n",
    "arbre_j = ArbreB('j')\n",
    "arbre_d = ArbreB('d',arbre_h,arbre_i)\n",
    "arbre_e = ArbreB('e',arbre_j)\n",
    "arbre_b = ArbreB('b',arbre_d,arbre_e)\n",
    "arbre_a = ArbreB('a',arbre_b,arbre_c)\n",
    "print(arbre_a)"
   ]
  },
  {
   "cell_type": "code",
   "execution_count": 2,
   "metadata": {},
   "outputs": [
    {
     "ename": "ModuleNotFoundError",
     "evalue": "No module named 'networkx'",
     "output_type": "error",
     "traceback": [
      "\u001b[0;31m---------------------------------------------------------------------------\u001b[0m",
      "\u001b[0;31mModuleNotFoundError\u001b[0m                       Traceback (most recent call last)",
      "\u001b[0;32m<ipython-input-2-addbe6da2d0f>\u001b[0m in \u001b[0;36m<module>\u001b[0;34m\u001b[0m\n\u001b[1;32m      1\u001b[0m \u001b[0;31m# utilitaire pour représenter les arbres binaires\u001b[0m\u001b[0;34m\u001b[0m\u001b[0;34m\u001b[0m\u001b[0;34m\u001b[0m\u001b[0m\n\u001b[1;32m      2\u001b[0m \u001b[0mget_ipython\u001b[0m\u001b[0;34m(\u001b[0m\u001b[0;34m)\u001b[0m\u001b[0;34m.\u001b[0m\u001b[0mrun_line_magic\u001b[0m\u001b[0;34m(\u001b[0m\u001b[0;34m'matplotlib'\u001b[0m\u001b[0;34m,\u001b[0m \u001b[0;34m'inline'\u001b[0m\u001b[0;34m)\u001b[0m\u001b[0;34m\u001b[0m\u001b[0;34m\u001b[0m\u001b[0m\n\u001b[0;32m----> 3\u001b[0;31m \u001b[0;32mimport\u001b[0m \u001b[0mnetworkx\u001b[0m \u001b[0;32mas\u001b[0m \u001b[0mnx\u001b[0m\u001b[0;34m\u001b[0m\u001b[0;34m\u001b[0m\u001b[0m\n\u001b[0m\u001b[1;32m      4\u001b[0m \u001b[0;32mimport\u001b[0m \u001b[0mmatplotlib\u001b[0m\u001b[0;34m.\u001b[0m\u001b[0mpyplot\u001b[0m \u001b[0;32mas\u001b[0m \u001b[0mplt\u001b[0m\u001b[0;34m\u001b[0m\u001b[0;34m\u001b[0m\u001b[0m\n\u001b[1;32m      5\u001b[0m \u001b[0;34m\u001b[0m\u001b[0m\n",
      "\u001b[0;31mModuleNotFoundError\u001b[0m: No module named 'networkx'"
     ]
    }
   ],
   "source": [
    "# utilitaire pour représenter les arbres binaires\n",
    "%matplotlib inline\n",
    "import networkx as nx\n",
    "import matplotlib.pyplot as plt\n",
    "\n",
    "def hauteur(arbre):\n",
    "    if arbre is None:\n",
    "        return 0\n",
    "    else:\n",
    "        return 1 + max(hauteur(arbre.gauche), hauteur(arbre.droit))\n",
    "    \n",
    "def parkour(arbre, noeuds, branches, position, profondeur, pos_courante):\n",
    "    if arbre is not None:\n",
    "        noeuds.append(arbre.noeud)            # on complète la liste des noeuds\n",
    "        position[arbre.noeud] = (pos_courante,profondeur)     # ... et la liste des positions\n",
    "        profondeur -= 1 \n",
    "        if arbre.gauche is not None:\n",
    "            branches.append((arbre.noeud, arbre.gauche.noeud))  #... et la liste des branches\n",
    "            parkour(arbre.gauche, noeuds, branches, position, profondeur, \n",
    "                    pos_courante - 2**(profondeur - 1))\n",
    "        if arbre.droit is not None:\n",
    "            branches.append((arbre.noeud, arbre.droit.noeud))\n",
    "            parkour(arbre.droit, noeuds, branches, position, profondeur, \n",
    "                    pos_courante + 2**(profondeur - 1))\n",
    "    return noeuds, branches, position \n",
    "\n",
    "\n",
    "def repr_graph(arbre):\n",
    "    noeuds = []             #liste des noeuds, racines et feuilles de l'arbre\n",
    "    branches =[]            # liste des branches de l'arbre\n",
    "    profond = hauteur(arbre_a)        #hauteur de l'arbre\n",
    "    pos_courante = 2**(profond - 1)   # position de la racine (en abscisse)\n",
    "    position = {}                # dictionnaire des positions des noeuds sur la figure\n",
    "     \n",
    "    # appel d'une fonction récursive de parcours, ici prefixe mais ça n'a pas d'importance\n",
    "    # on récupère : la liste des noeuds, la liste des branches,\n",
    "    # le dictionnaire des positions des noeuds\n",
    "    noeuds, branche, position  = parkour(arbre, noeuds, branches, position, profond, pos_courante)    \n",
    "    #print(position)\n",
    "\n",
    "    mon_arbre = nx.Graph()          # objet Graphe de la bibliothèque Networkxx\n",
    "    mon_arbre.add_nodes_from(noeuds)\n",
    "    mon_arbre.add_edges_from(branches)\n",
    "    #print(list(arbre.nodes))\n",
    "    #print(list(arbre.edges))\n",
    "    options = {\n",
    "        \"font_size\": 12,\n",
    "        \"node_size\": 300,\n",
    "        \"node_color\": \"white\",\n",
    "        \"edge_color\" : \"green\",\n",
    "        \"edgecolors\": \"blue\",\n",
    "        \"linewidths\": 1,\n",
    "        \"width\": 2,\n",
    "    }\n",
    "    nx.draw_networkx(mon_arbre, pos = position, **options)\n",
    "    ax = plt.gca()\n",
    "    ax.margins(0.20)\n",
    "    plt.axis(\"off\")\n",
    "    plt.show()\n",
    "    return(mon_arbre)      #on renvoie l'objet graphe networkxx au cas où\n",
    "\n",
    "\n",
    "arbre = repr_graph(arbre_a)\n",
    "\n"
   ]
  },
  {
   "cell_type": "code",
   "execution_count": null,
   "metadata": {},
   "outputs": [],
   "source": []
  }
 ],
 "metadata": {
  "kernelspec": {
   "display_name": "Python 3",
   "language": "python",
   "name": "python3"
  },
  "language_info": {
   "codemirror_mode": {
    "name": "ipython",
    "version": 3
   },
   "file_extension": ".py",
   "mimetype": "text/x-python",
   "name": "python",
   "nbconvert_exporter": "python",
   "pygments_lexer": "ipython3",
   "version": "3.6.9"
  }
 },
 "nbformat": 4,
 "nbformat_minor": 2
}
