{
 "cells": [
  {
   "cell_type": "code",
   "execution_count": null,
   "metadata": {},
   "outputs": [],
   "source": [
    "from random import *\n",
    "piece=random()\n",
    "#donne une valeur decimale comprise entre 0 et 1 à la variable piece\n",
    "\n",
    "if piece<0.5 :\n",
    "    print(\"PILE\")\n",
    "\n",
    "\n",
    "elif piece>0.5 :\n",
    "    print(\"FACE\")\n",
    "\n",
    "else :\n",
    "        print(\"Pas de chance...\")\n",
    "# Peut correspondre à la situation de la piece qui tombe sur la tranche, peu probale mais possible..."
   ]
  }
 ],
 "metadata": {
  "kernelspec": {
   "display_name": "Python 3",
   "language": "python",
   "name": "python3"
  },
  "language_info": {
   "codemirror_mode": {
    "name": "ipython",
    "version": 3
   },
   "file_extension": ".py",
   "mimetype": "text/x-python",
   "name": "python",
   "nbconvert_exporter": "python",
   "pygments_lexer": "ipython3",
   "version": "3.7.3"
  }
 },
 "nbformat": 4,
 "nbformat_minor": 4
}
