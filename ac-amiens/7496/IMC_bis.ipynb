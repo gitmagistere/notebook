{
 "cells": [
  {
   "cell_type": "code",
   "execution_count": null,
   "metadata": {},
   "outputs": [],
   "source": [
    "from math import* \n",
    "#la bibliothèque lycee n'existe pas sur le notebook (en ligne)\n",
    "# nous vous conseillons de l'utiliser sur votre PC\n",
    "masse = 75 \n",
    "taille = 1.77\n",
    "IMC = ...\n",
    "print (\"l'IMC d'une personne de \", masse, \"kg et de \",taille, \" m vaut\", IMC)"
   ]
  }
 ],
 "metadata": {
  "kernelspec": {
   "display_name": "Python 3",
   "language": "python",
   "name": "python3"
  },
  "language_info": {
   "codemirror_mode": {
    "name": "ipython",
    "version": 3
   },
   "file_extension": ".py",
   "mimetype": "text/x-python",
   "name": "python",
   "nbconvert_exporter": "python",
   "pygments_lexer": "ipython3",
   "version": "3.7.6"
  }
 },
 "nbformat": 4,
 "nbformat_minor": 4
}
