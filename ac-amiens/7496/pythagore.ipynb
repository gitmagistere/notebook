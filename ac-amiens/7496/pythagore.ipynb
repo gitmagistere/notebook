{
 "cells": [
  {
   "cell_type": "code",
   "execution_count": null,
   "metadata": {},
   "outputs": [],
   "source": [
    "# Détermination de la longueur de l'hypoténuse d'un triangle rectangle\n",
    "#  connaissant la longueur des deux autres côtés.\n",
    "\n",
    "from math import*\n",
    "#la bibliothèque lycee n'existe pas sur le notebook (en ligne)\n",
    "# nous vous conseillons de l'utiliser sur votre PC\n",
    "\n",
    "#\n",
    "cote_1=15\n",
    "cote_2=20\n",
    "\n",
    "hyp_carre=cote_1**2+cote_2**2\n",
    "hyp=sqrt(hyp_carre)\n",
    "\n",
    "\n",
    "print (\"La longueur de l'hypoténuse du triangle rectangle vaut\", hyp)"
   ]
  }
 ],
 "metadata": {
  "kernelspec": {
   "display_name": "Python 3",
   "language": "python",
   "name": "python3"
  },
  "language_info": {
   "codemirror_mode": {
    "name": "ipython",
    "version": 3
   },
   "file_extension": ".py",
   "mimetype": "text/x-python",
   "name": "python",
   "nbconvert_exporter": "python",
   "pygments_lexer": "ipython3",
   "version": "3.7.6"
  }
 },
 "nbformat": 4,
 "nbformat_minor": 4
}
