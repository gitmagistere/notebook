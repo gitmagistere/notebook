{
 "cells": [
  {
   "cell_type": "code",
   "execution_count": 5,
   "metadata": {},
   "outputs": [
    {
     "name": "stdout",
     "output_type": "stream",
     "text": [
      "Vous ne pouvez acheter 8 articles\n",
      "Il vous manque 60 €\n"
     ]
    }
   ],
   "source": [
    "from math import *\n",
    "prix_unitaire = 45\n",
    "quantite = 8\n",
    "porte_monnaie = 300\n",
    "\n",
    "prix_total = prix_unitaire * quantite\n",
    "\n",
    "if prix_total <= porte_monnaie:\n",
    "    print(\"Vous pouvez acheter\",quantite,\"articles\")\n",
    "    print(\"Il vous restera\",porte_monnaie - prix_total,\"€\")\n",
    "\n",
    "else: \n",
    "# c'est donc que prix_total > porte_monnaie\n",
    "    print (\"Vous ne pouvez acheter\",quantite,\"articles\")\n",
    "    print (\"Il vous manque\",prix_total - porte_monnaie,\"€\" )\n"
   ]
  },
  {
   "cell_type": "code",
   "execution_count": null,
   "metadata": {},
   "outputs": [],
   "source": []
  }
 ],
 "metadata": {
  "kernelspec": {
   "display_name": "Python 3",
   "language": "python",
   "name": "python3"
  },
  "language_info": {
   "codemirror_mode": {
    "name": "ipython",
    "version": 3
   },
   "file_extension": ".py",
   "mimetype": "text/x-python",
   "name": "python",
   "nbconvert_exporter": "python",
   "pygments_lexer": "ipython3",
   "version": "3.7.3"
  }
 },
 "nbformat": 4,
 "nbformat_minor": 4
}
