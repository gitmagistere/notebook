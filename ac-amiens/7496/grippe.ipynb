{
 "cells": [
  {
   "cell_type": "code",
   "execution_count": 6,
   "metadata": {},
   "outputs": [
    {
     "name": "stdout",
     "output_type": "stream",
     "text": [
      "L'épidémie dure 48 jours\n"
     ]
    }
   ],
   "source": [
    "from math import *\n",
    "\n",
    "malades = 10000\n",
    "jours = 1\n",
    "\n",
    "while malades > 2:\n",
    "    malades = int(malades*0.85)\n",
    "    jours = jours+1\n",
    "\n",
    "print(\"L'épidémie dure\",jours,\"jours\")"
   ]
  },
  {
   "cell_type": "code",
   "execution_count": null,
   "metadata": {},
   "outputs": [],
   "source": []
  }
 ],
 "metadata": {
  "kernelspec": {
   "display_name": "Python 3",
   "language": "python",
   "name": "python3"
  },
  "language_info": {
   "codemirror_mode": {
    "name": "ipython",
    "version": 3
   },
   "file_extension": ".py",
   "mimetype": "text/x-python",
   "name": "python",
   "nbconvert_exporter": "python",
   "pygments_lexer": "ipython3",
   "version": "3.7.6"
  }
 },
 "nbformat": 4,
 "nbformat_minor": 2
}
