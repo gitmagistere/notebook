{
 "cells": [
  {
   "cell_type": "code",
   "execution_count": null,
   "metadata": {},
   "outputs": [],
   "source": [
    "moyenne = 13.5\n",
    "\n",
    "if moyenne < 10:\n",
    "    print (\"Refusé à l'examen\")\n",
    "elif moyenne < 12:\n",
    "    print (\"Mention passable\")\n",
    "elif moyenne < 14:\n",
    "    print (\"Mention assez bien\")\n",
    "elif moyenne < 16:\n",
    "    print (\"Mention bien\")\n",
    "else:\n",
    "    print (\"Mention très bien\")"
   ]
  }
 ],
 "metadata": {
  "kernelspec": {
   "display_name": "Python 3",
   "language": "python",
   "name": "python3"
  },
  "language_info": {
   "codemirror_mode": {
    "name": "ipython",
    "version": 3
   },
   "file_extension": ".py",
   "mimetype": "text/x-python",
   "name": "python",
   "nbconvert_exporter": "python",
   "pygments_lexer": "ipython3",
   "version": "3.7.3"
  }
 },
 "nbformat": 4,
 "nbformat_minor": 4
}
