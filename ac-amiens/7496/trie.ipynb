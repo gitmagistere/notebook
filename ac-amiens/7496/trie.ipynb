{
 "cells": [
  {
   "cell_type": "code",
   "execution_count": 1,
   "metadata": {},
   "outputs": [],
   "source": [
    "def trierParInsertionDirect(liste):\n",
    "    for index in range(len(liste)): #on parcourt la liste\n",
    "        item = liste[index]         #un élément de la liste\n",
    "        j = index\n",
    "        while j>0 and liste[j-1] > item: #tant qu'on n'a pas atteint le début ou un élément plus petit\n",
    "            liste[j] = liste[j-1]        #on décale l'élément trouvé vers la droite\n",
    "            j=j-1\n",
    "        liste[j]=item  "
   ]
  },
  {
   "cell_type": "code",
   "execution_count": 2,
   "metadata": {},
   "outputs": [
    {
     "name": "stdout",
     "output_type": "stream",
     "text": [
      "[1, 2, 5, 6, 12, 456, 789]\n"
     ]
    }
   ],
   "source": [
    "L=[12,5,456,1,2,6,789]\n",
    "trierParInsertionDirect(L)\n",
    "print(L)"
   ]
  },
  {
   "cell_type": "code",
   "execution_count": null,
   "metadata": {},
   "outputs": [],
   "source": []
  }
 ],
 "metadata": {
  "kernelspec": {
   "display_name": "Python 3",
   "language": "python",
   "name": "python3"
  },
  "language_info": {
   "codemirror_mode": {
    "name": "ipython",
    "version": 3
   },
   "file_extension": ".py",
   "mimetype": "text/x-python",
   "name": "python",
   "nbconvert_exporter": "python",
   "pygments_lexer": "ipython3",
   "version": "3.7.4"
  }
 },
 "nbformat": 4,
 "nbformat_minor": 2
}
