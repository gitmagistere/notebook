{
 "cells": [
  {
   "cell_type": "code",
   "execution_count": 2,
   "metadata": {},
   "outputs": [
    {
     "name": "stdout",
     "output_type": "stream",
     "text": [
      "l'IMC vaut  16.731112433075552\n"
     ]
    }
   ],
   "source": [
    "\n",
    "m = 45 #masse en kilogramme\n",
    "t = 1.64 #taille en mètre\n",
    "IMC = m/(t*t)\n",
    "print (\"l'IMC vaut \", IMC)\n"
   ]
  },
  {
   "cell_type": "code",
   "execution_count": 14,
   "metadata": {},
   "outputs": [
    {
     "name": "stdout",
     "output_type": "stream",
     "text": [
      "l'équation possède deux solutions\n"
     ]
    }
   ],
   "source": [
    "a = 1\n",
    "b = 3\n",
    "c = 2\n",
    "d = b*b-4*a*c\n",
    "if d<0:\n",
    "    print (\"cette équation n'a pas de solution\")\n",
    "else:\n",
    "    if d ==0:\n",
    "        print (\"l'équation a une solution\")\n",
    "    else:\n",
    "        print (\"l'équation possède deux solutions\")\n",
    "    \n"
   ]
  },
  {
   "cell_type": "code",
   "execution_count": null,
   "metadata": {},
   "outputs": [],
   "source": []
  },
  {
   "cell_type": "code",
   "execution_count": null,
   "metadata": {},
   "outputs": [],
   "source": []
  }
 ],
 "metadata": {
  "kernelspec": {
   "display_name": "Python 3",
   "language": "python",
   "name": "python3"
  },
  "language_info": {
   "codemirror_mode": {
    "name": "ipython",
    "version": 3
   },
   "file_extension": ".py",
   "mimetype": "text/x-python",
   "name": "python",
   "nbconvert_exporter": "python",
   "pygments_lexer": "ipython3",
   "version": "3.7.4"
  }
 },
 "nbformat": 4,
 "nbformat_minor": 4
}
