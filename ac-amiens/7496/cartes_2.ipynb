{
 "cells": [
  {
   "cell_type": "code",
   "execution_count": null,
   "metadata": {},
   "outputs": [],
   "source": [
    "#------------------------------------------------------------------\n",
    "#   2 paquets de cartes différents  (un de 4, et un de 5)\n",
    "#   1 composé de { 2 bleus,  2 rouges }\n",
    "#   1 composé de { 2 bleus,  3 rouges }\n",
    "#   On tire deux cartes dans chaque paquet\n",
    "#   On gagne si les deux cartes sont identiques\n",
    "#-------------------------------------------------------------------\n",
    "\n",
    "from math import *\n",
    "from random import *\n",
    "#création des listes\n",
    "L1=[\"B\",\"B\",\"R\",\"R\"]\n",
    "L2=[\"B\",\"B\",\"R\",\"R\",\"R\"]\n",
    "\n",
    "#compteurs\n",
    "C1=0\n",
    "C2=0\n",
    "# Nb de tirages\n",
    "nb=500\n",
    "\n",
    "for i in range (nb):\n",
    "    shuffle(L1)     #mélange les listes\n",
    "    shuffle(L2)\n",
    "    if L1[0]==L1[1]:    #compare la 1ere carte du paquet avec la 2ieme\n",
    "     C1=C1+1\n",
    "    if L2[0]==L2[1]:\n",
    "     C2=C2+1\n",
    "\n",
    "print (\"------------------------------------------------------------------\")\n",
    "print (\"LA REGLE : \")\n",
    "print (\"------------------------------------------------------------------\")\n",
    "print(\"2 paquets de cartes  (un de 4, et un de 5)\")\n",
    "print(\"   Paquet 1 composé de { 2 bleus,  2 rouges }\")\n",
    "print(\"   Paquet 2 composé de { 2 bleus,  3 rouges }\")\n",
    "print(\"   On tire deux cartes dans chaque paquet\")\n",
    "print(\"   On gagne si les deux cartes sont identiques\")\n",
    "print(\"-------------------------------------------------------------------\")\n",
    "print (\"Sur \",nb,\" tirages : \")\n",
    "print (\"Paquet 1 (4 cartes) on gagne\", C1, \"fois sur\",nb,\" soit une frequence de \", C1/nb)\n",
    "print (\"Paquet 2 (5 cartes) on gagne\", C2, \"fois sur\",nb,\" soit une frequence de \", C2/nb)\n",
    "\n",
    "\n"
   ]
  }
 ],
 "metadata": {
  "kernelspec": {
   "display_name": "Python 3",
   "language": "python",
   "name": "python3"
  },
  "language_info": {
   "codemirror_mode": {
    "name": "ipython",
    "version": 3
   },
   "file_extension": ".py",
   "mimetype": "text/x-python",
   "name": "python",
   "nbconvert_exporter": "python",
   "pygments_lexer": "ipython3",
   "version": "3.7.6"
  }
 },
 "nbformat": 4,
 "nbformat_minor": 4
}
