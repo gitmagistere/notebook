{
 "cells": [
  {
   "cell_type": "markdown",
   "metadata": {},
   "source": [
    "# Réparation du notebook sur les requêtes SQL\n",
    "Fermez le notebook sur les requêtes s'il est ouvert, puis exécutez simplement la cellule ci-dessous.\n",
    "Quelques messages propres doivent s'afficher, et \"OK\" à la fin.\n",
    "Si vous ne voyez pas \"OK\" à la fin, svp, envoyez moi une copie d'écran des messages.\n"
   ]
  },
  {
   "cell_type": "code",
   "execution_count": null,
   "metadata": {},
   "outputs": [],
   "source": [
    "def reparation(filename_without_extension):\n",
    "    import os\n",
    "    import json\n",
    "    try:\n",
    "        os.remove(\"{}.py\".format(filename_without_extension))\n",
    "    except FileNotFoundError:\n",
    "        print(\"No .py found\")\n",
    "    else:\n",
    "        print(\".py has been deleted\")\n",
    "    with open(\"{}.ipynb\".format(filename_without_extension), 'r') as f:\n",
    "        nb = json.load(f)\n",
    "    if \"jupytext\" in nb[\"metadata\"]:\n",
    "        del nb[\"metadata\"][\"jupytext\"]\n",
    "        with open(\"{}.ipynb\".format(filename_without_extension), 'w') as f:\n",
    "            json.dump(nb, f)\n",
    "        print(\"Notebook changed\")\n",
    "    else:\n",
    "        print(\"No reparation needed...\")\n",
    "    print(\"OK\")\n",
    "## ------------------------------\n",
    "reparation(\"exercices-requetes-sujet\")\n",
    "## ------------------------------"
   ]
  }
 ],
 "metadata": {
  "kernelspec": {
   "display_name": "Python 3.8.3 64-bit",
   "language": "python",
   "name": "python38364bit72ee4bbf2e384ceb99b3adcb86710be4"
  },
  "language_info": {
   "codemirror_mode": {
    "name": "ipython",
    "version": 3
   },
   "file_extension": ".py",
   "mimetype": "text/x-python",
   "name": "python",
   "nbconvert_exporter": "python",
   "pygments_lexer": "ipython3",
   "version": "3.8.3"
  },
  "notebookname": "Reparation",
  "version": "1.0"
 },
 "nbformat": 4,
 "nbformat_minor": 4
}
