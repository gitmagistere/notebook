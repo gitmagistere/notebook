{
 "cells": [
  {
   "cell_type": "markdown",
   "metadata": {},
   "source": [
    "# Didactique de l'informatique\n",
    "\n",
    "## Compétence DECOMPOSER\n",
    "\n",
    "* capacité à transformer un problème complexe en un ensemble de problèmes plus simples équivalents au problème initial.\n",
    "\n",
    "Cette compétence est fondamentale car c'est elle qui permet d'envisager le traitement de problèmes arbitrairement complexes par réduction à des problèmes plus simples ou déjà connus."
   ]
  },
  {
   "cell_type": "markdown",
   "metadata": {},
   "source": [
    "## Décomposition par cas"
   ]
  },
  {
   "cell_type": "markdown",
   "metadata": {},
   "source": [
    "**Exemple** : le calcul du nombre de jours d'un mois peut se décomposer en 3 cas distincs pour traiter les mois de 31 jours, les mois de 30 jours et le cas particulier du mois de février.\n",
    "\n",
    "**Exemple** : le problème de la résolution d'une équation du second degré peut se décomposer en 3 sous-problèmes distincts selon la valeur du discriminant négatif, nul ou strictement positif.\n",
    "\n",
    "**Exemple** : le problème de la compression d'une image peut être séparé en plusieurs sous-problèmes selon le format d'enregistrement de l'image à compresser et selon le souhait de l'utilisateur de compresser avec ou sans perte d'information.\n",
    "\n",
    "On peut dire en analysant ces exemples que la décomposition peut se pratiquer à tous les niveaux de la conception d'un programme : du niveau le plus fin pour séparer quelques instructions au niveau le plus global pour séparer des traitements demandant chacun plusieurs centaines ou milliers de lignes de code. \n"
   ]
  },
  {
   "cell_type": "markdown",
   "metadata": {},
   "source": [
    "### Mise en oeuvre \n",
    "\n",
    "Une décomposition par cas aboutit généralement à un schéma de programmation utilisant des alternatives ou des conditionnelles."
   ]
  },
  {
   "cell_type": "code",
   "execution_count": null,
   "metadata": {},
   "outputs": [],
   "source": [
    "def equation_second_degre(a,b,c):\n",
    "    d = b**2 - 4*a*c\n",
    "    if d > 0:\n",
    "        n = 2\n",
    "    elif d == 0:\n",
    "        n = 1\n",
    "    else:\n",
    "        n = 0\n",
    "    return(n)"
   ]
  },
  {
   "cell_type": "markdown",
   "metadata": {},
   "source": [
    "### Décomposition séquentielle"
   ]
  },
  {
   "cell_type": "markdown",
   "metadata": {},
   "source": [
    "**Exemple** : programmer la soustraction de deux nombres en utilisant le codage en complément à deux, peut se décomposer en 6 étapes consistant à coder chacun des nombres `a` et `b`, puis à calculer le code de `-b` en inversant les bits et en ajoutant `1` au code de `b`, à additionner les codes obtenus puis à décoder le résultat."
   ]
  },
  {
   "cell_type": "code",
   "execution_count": null,
   "metadata": {},
   "outputs": [],
   "source": [
    "def soustraction(a,b):\n",
    "    codea = coder(a)\n",
    "    codeb = coder(b)\n",
    "    codeinvb = inverserbits(codeb)\n",
    "    codemoinsb = ajouter1 (codeinvb)\n",
    "    codeamoinsb = additionnercodes(codea, codemoinsb)\n",
    "    amoinsb = decoder(codeamoinsb)\n",
    "    return(amoinsb)"
   ]
  },
  {
   "cell_type": "markdown",
   "metadata": {},
   "source": [
    "Cette mise en oeuvre conserve la décomposition suivie. Des variables intermédiaires ont été imaginées et nommées pour contenir les résultats intermédiaires de la décomposition choisie.\n",
    "\n",
    "La solution ne sera complète et exécutable que lorsque toutes les fonctions intermédiaires utilisées auront bien été définies."
   ]
  },
  {
   "cell_type": "markdown",
   "metadata": {},
   "source": [
    "### Mise en oeuvre\n",
    "\n",
    "Le résultat d'une démarche de conception utilisant la décomposition d'un problème en problèmes plus simples peut être montré explicitement en utilisant une notion de sous-programme / fonction / procédure pour conserver dans le programme écrit la démarche de décomposition suivie.\n",
    "\n",
    "La démarche peut aussi être cachée en recollant ensemble dans un seul et même traitement toutes les parties élémentaires issues de la décomposition. Ceci est le plus souvent déconseillé car cela donne des fragments de programmes plus complexes et donc moins simples à comprendre."
   ]
  },
  {
   "cell_type": "markdown",
   "metadata": {},
   "source": [
    "## Conclusion\n",
    "\n",
    "Savoir décomposer est une compétence permettant d'appréhender des problèmes complexes. Sa mise en oeuvre passe par l'utilisation systématique de primitives de programmation permettant la structuration des programmes — fonctions et procédures mais aussi objets et méthodes. Ces mécanismes permettent aussi, par ailleurs, de mettre en oeuvre des démarches de généralisation et d'abstraction."
   ]
  },
  {
   "cell_type": "markdown",
   "metadata": {},
   "source": [
    "Equipe pédagoqique DIU EIL, ressource éducative libre distribuée sous [Licence Creative Commons Attribution - Pas d’Utilisation Commerciale - Partage dans les Mêmes Conditions 4.0 International](http://creativecommons.org/licenses/by-nc-sa/4.0/) ![Licence Creative Commons](https://i.creativecommons.org/l/by-nc-sa/4.0/88x31.png)"
   ]
  }
 ],
 "metadata": {
  "kernelspec": {
   "display_name": "Python 3",
   "language": "python",
   "name": "python3"
  },
  "language_info": {
   "codemirror_mode": {
    "name": "ipython",
    "version": 3
   },
   "file_extension": ".py",
   "mimetype": "text/x-python",
   "name": "python",
   "nbconvert_exporter": "python",
   "pygments_lexer": "ipython3",
   "version": "3.7.3"
  }
 },
 "nbformat": 4,
 "nbformat_minor": 1
}
