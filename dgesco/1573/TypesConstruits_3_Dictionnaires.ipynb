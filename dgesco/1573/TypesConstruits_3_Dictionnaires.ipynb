{
 "cells": [
  {
   "cell_type": "markdown",
   "metadata": {},
   "source": [
    "# Les types construits - les dictionnaires et les ensembles\n",
    "\n",
    "Plutôt qu'accéder à une information à partir de son indice (comme dans un\n",
    "tableau), on peut souhaiter y accéder à partir d'une clé. Par exemple, dans un répertoire téléphonique papier, on accède à un\n",
    "numéro de téléphone à partir de la première lettre du nom. L'accès à\n",
    "l'information ainsi que la modification ou l'ajout d'une information doivent\n",
    "être possibles sans devoir feuilleter tout le répertoire."
   ]
  },
  {
   "cell_type": "markdown",
   "metadata": {},
   "source": [
    "## Les dictionnaires en Python\n",
    "\n",
    "Le mécanisme utilisé pour les enregistrements sert en fait principalement pour implémenter des tableaux associatifs ou dictionnaires.\n",
    "\n",
    "Un dictionnaire est un ensemble non ordonné de paires (clé, valeur). On peut ajouter des couples, si la clé figure déjà dans le dictionnaire alors le couple est remplacé par le nouveau. Le dictionnaire en Python est un objet mutable."
   ]
  },
  {
   "cell_type": "markdown",
   "metadata": {},
   "source": [
    "### Création d'un dictionnaire\n",
    "\n",
    "Plusieurs méthodes permettent de créer soit un dictionnaire vide, soit de le noter en extension, soit de le créer à partir d'une liste de couples, soit en compréhension."
   ]
  },
  {
   "cell_type": "code",
   "execution_count": null,
   "metadata": {},
   "outputs": [],
   "source": [
    "d1 = {}     # Dictionnaire vide\n",
    "d2 = dict() # Dictionnaire vide\n",
    "d3 = {'cle1':'valeur1', 'cle2':'valeur2'}\n",
    "liste = [('cle3','valeur3'),('cle4','valeur4')]\n",
    "d4 = dict(liste) # à partir d'une liste de couples\n",
    "d5 = {k: k ** 2 for k in range(1, 10)} # en compréhension"
   ]
  },
  {
   "cell_type": "code",
   "execution_count": null,
   "metadata": {},
   "outputs": [],
   "source": [
    "print(\"d3 =>\", d3)\n",
    "print(\"d4 =>\", d4)\n",
    "print(\"d5 =>\", d5)"
   ]
  },
  {
   "cell_type": "markdown",
   "metadata": {},
   "source": [
    "**Exemple** : Un répertoire téléphonique interne peut être représenté par un dictionnaire. Il contient une série de paires prénom, numéro de téléphone. On peux accéder au numéro en interrogeant sur le prénom."
   ]
  },
  {
   "cell_type": "code",
   "execution_count": null,
   "metadata": {},
   "outputs": [],
   "source": [
    "rep = {'John': 5234, \n",
    "       'Paul': 5345, \n",
    "       'Steeve': 5186, \n",
    "       'Betty': 5678}\n",
    "\n",
    "rep['Paul']"
   ]
  },
  {
   "cell_type": "markdown",
   "metadata": {},
   "source": [
    "On peut modifier la valeur associée à une clé ou ajouter une nouvelle association et afficher le dictionnaire modifié."
   ]
  },
  {
   "cell_type": "code",
   "execution_count": null,
   "metadata": {},
   "outputs": [],
   "source": [
    "rep['Jack'] = 5397\n",
    "rep['Paul'] = 5444\n",
    "rep"
   ]
  },
  {
   "cell_type": "markdown",
   "metadata": {},
   "source": [
    "Un dictionnaire est une collection, on peut donc obtenir sa taille :"
   ]
  },
  {
   "cell_type": "code",
   "execution_count": null,
   "metadata": {},
   "outputs": [],
   "source": [
    "len(rep)"
   ]
  },
  {
   "cell_type": "markdown",
   "metadata": {},
   "source": [
    "## Les itérateurs pour les dictionnaires\n",
    "\n",
    "Trois méthodes permettent de parcourir soit l'ensemble des paires clés-valeurs `items()`, soit l'ensemble des clés `keys()`, soit l'ensemble des valeurs `values()`.\n",
    "\n",
    "On peut itérer sur un dictionnaire grâce à l'une de ces méthodes."
   ]
  },
  {
   "cell_type": "code",
   "execution_count": null,
   "metadata": {},
   "outputs": [],
   "source": [
    "for name, num in rep.items():\n",
    "    print(name, '->',num)"
   ]
  },
  {
   "cell_type": "code",
   "execution_count": null,
   "metadata": {},
   "outputs": [],
   "source": [
    "message = \"Cher-e-s \"\n",
    "for prenom in rep.keys():\n",
    "    message += prenom + ', '\n",
    "message += \"merci de me rappeler dès que possible !\"\n",
    "print(message)"
   ]
  },
  {
   "cell_type": "code",
   "execution_count": null,
   "metadata": {},
   "outputs": [],
   "source": [
    "for num in rep.values():\n",
    "    print (num, \"déja attribué\")"
   ]
  },
  {
   "cell_type": "markdown",
   "metadata": {},
   "source": [
    "On peut aussi interroger l'appartenance d'une valeur ou d'une clé grace à l'expression `in`."
   ]
  },
  {
   "cell_type": "code",
   "execution_count": null,
   "metadata": {},
   "outputs": [],
   "source": [
    "'Jack' in rep.keys()"
   ]
  },
  {
   "cell_type": "code",
   "execution_count": null,
   "metadata": {},
   "outputs": [],
   "source": [
    "5223 in rep.values()"
   ]
  },
  {
   "cell_type": "markdown",
   "metadata": {},
   "source": [
    "### Opérations sur les dictionnaires."
   ]
  },
  {
   "cell_type": "markdown",
   "metadata": {},
   "source": [
    "On peut supprimer une association par l'instruction `del`."
   ]
  },
  {
   "cell_type": "code",
   "execution_count": null,
   "metadata": {},
   "outputs": [],
   "source": [
    "del rep['Paul']\n",
    "rep"
   ]
  },
  {
   "cell_type": "markdown",
   "metadata": {},
   "source": [
    "On peut effectuer une copie superficielle d'un dictionnaire par la methode `copy` et l'effacer par la méthode `clear`."
   ]
  },
  {
   "cell_type": "code",
   "execution_count": null,
   "metadata": {},
   "outputs": [],
   "source": [
    "sauvegarde = rep.copy()\n",
    "rep.clear()\n",
    "sauvegarde"
   ]
  },
  {
   "cell_type": "markdown",
   "metadata": {},
   "source": [
    "Il existe de nombreuses autres opérations disponibles sur les dictionnaires (consulter la [documentation](https://docs.python.org/fr/3/library/stdtypes.html?highlight=dict#mapping-types-dict) pour les connaître)."
   ]
  },
  {
   "cell_type": "markdown",
   "metadata": {},
   "source": [
    "## Les ensembles en Python\n",
    "\n",
    "Les ensembles en Python ont une proximité avec les dictionnaires par la notation utilisée pour les construire `{}`. En fait, en Python, un ensemble est comme un dictionnaire dans lequel on n'aurait accès qu'aux clés.\n",
    "\n",
    "Les ensembles sont des objets mutables et itérables et représentent des collections. Un ensemble ne peut pas avoir de doublons, contrairement aux listes."
   ]
  },
  {
   "cell_type": "markdown",
   "metadata": {},
   "source": [
    "### Création d'un ensemble\n",
    "\n",
    "Les ensembles peuvent être construits par extension ou par compréhension. "
   ]
  },
  {
   "cell_type": "code",
   "execution_count": null,
   "metadata": {},
   "outputs": [],
   "source": [
    "E = {1, 4, 8, 9 , 4}\n",
    "F = {x**2 for x in range(-3,+4)}\n",
    "print('E =', E)\n",
    "print('F =', F)"
   ]
  },
  {
   "cell_type": "markdown",
   "metadata": {},
   "source": [
    "On peut aussi créer un ensemble vide où le peupler d'éléments depuis un itérable grâce à la méthode `set`. Dans ce cas les doublons sont supprimés à la création de l'ensemble."
   ]
  },
  {
   "cell_type": "code",
   "execution_count": null,
   "metadata": {},
   "outputs": [],
   "source": [
    "G = set()\n",
    "H = set([1, 2, 3, 6, 3, 2, 1, 8, 5])\n",
    "print('G =', G)\n",
    "print('H =', H)"
   ]
  },
  {
   "cell_type": "markdown",
   "metadata": {},
   "source": [
    "### Mise à jour de l'ensemble et test d'appartenance\n",
    "\n",
    "On peut ajouter un élément à un ensemble par la méthode `add` et en retirer un par la méthode `remove`."
   ]
  },
  {
   "cell_type": "code",
   "execution_count": null,
   "metadata": {},
   "outputs": [],
   "source": [
    "H.add(4)   # un nouvel élémént est ajouté\n",
    "H.add(1)   # si l'élément est déjà présent, il ne se passe rien\n",
    "print('H =', H)"
   ]
  },
  {
   "cell_type": "code",
   "execution_count": null,
   "metadata": {},
   "outputs": [],
   "source": [
    "H.remove(8)\n",
    "print('H =', H)"
   ]
  },
  {
   "cell_type": "markdown",
   "metadata": {},
   "source": [
    "L'expression `in` permet de tester l'appartenance."
   ]
  },
  {
   "cell_type": "code",
   "execution_count": null,
   "metadata": {},
   "outputs": [],
   "source": [
    "7 in H"
   ]
  },
  {
   "cell_type": "markdown",
   "metadata": {},
   "source": [
    "### Opérations ensemblistes\n",
    "\n",
    "Toutes les opérations ensemblistes usuelles sont disponibles sur les ensembles. L'intersection est notée `&`. L'union est notée `|`."
   ]
  },
  {
   "cell_type": "code",
   "execution_count": null,
   "metadata": {},
   "outputs": [],
   "source": [
    "print('E =', E)\n",
    "print('F =', F)\n",
    "print('E', chr(8745),'F =', E & F)\n",
    "print('E', chr(8746),'F =', E | F)"
   ]
  },
  {
   "cell_type": "markdown",
   "metadata": {},
   "source": [
    "La différence est notée `-`. La différence symétrique est notée `^`. "
   ]
  },
  {
   "cell_type": "code",
   "execution_count": null,
   "metadata": {},
   "outputs": [],
   "source": [
    "print('E', chr(8726),'F =', E - F)\n",
    "print('E', chr(8854),'F =', E ^ F)"
   ]
  },
  {
   "cell_type": "markdown",
   "metadata": {},
   "source": [
    "### Parcours d'un ensemble\n",
    "\n",
    "On peut bien sûr itérer sur les élements d'un ensemble :"
   ]
  },
  {
   "cell_type": "code",
   "execution_count": null,
   "metadata": {},
   "outputs": [],
   "source": [
    "for e in E:\n",
    "    print(e, end=' ')"
   ]
  },
  {
   "cell_type": "markdown",
   "metadata": {},
   "source": [
    "On peut copier un ensemble (a priori, peu importe que la copie soit profonde ou non, puisque les éléments des ensembles sont récursivement non mutables). On peut prendre au hasard un élément dans un ensemble et l'enlever par la méthode `pop`."
   ]
  },
  {
   "cell_type": "code",
   "execution_count": null,
   "metadata": {},
   "outputs": [],
   "source": [
    "cubes = {k ** 3 for k in range(1, 10)}\n",
    "atraiter = cubes.copy()\n",
    "while atraiter != set():\n",
    "    e = atraiter.pop()\n",
    "    print(\"J'enleve {}, il reste {}\".format(e, atraiter))"
   ]
  },
  {
   "cell_type": "markdown",
   "metadata": {},
   "source": [
    "* **Activité** : dans cet extrait d'un roman de Pérec :\n",
    "\n",
    "> Anton Voyl n'arrivait pas à dormir. Il alluma. Son Jaz marquait minuit vingt. \n",
    "> Il poussa un profond soupir, s'assit dans son lit, s'appuyant sur son polochon. \n",
    "> Il prit un roman, il l'ouvrit, il lut; mais il n'y saisissait qu'un imbroglio confus, \n",
    "> il butait à tout instant sur un mot dont il ignorait la signification.\n",
    "> Il abandonna son roman sur son lit. Il alla à son lavabo; il mouilla un gant \n",
    "> qu'il passa sur son front, sur son cou.\n",
    "    \n",
    "quelles lettres ne sont jamais utilisées ?"
   ]
  },
  {
   "cell_type": "code",
   "execution_count": 1,
   "metadata": {},
   "outputs": [
    {
     "name": "stdout",
     "output_type": "stream",
     "text": [
      "Disparition de :  {'e', 'x', 'w', 'k'}\n"
     ]
    }
   ],
   "source": [
    "s = \"\"\"Anton Voyl n'arrivait pas à dormir. Il alluma. Son Jaz marquait minuit vingt. \n",
    "Il poussa un profond soupir, s'assit dans son lit, s'appuyant sur son polochon. \n",
    "Il prit un roman, il l'ouvrit, il lut; mais il n'y saisissait qu'un imbroglio confus, \n",
    "il butait à tout instant sur un mot dont il ignorait la signification.\n",
    "Il abandonna son roman sur son lit. Il alla à son lavabo; il mouilla un gant \n",
    "qu'il passa sur son front, sur son cou.\"\"\"\n",
    "\n",
    "caracteres = set(s.lower())\n",
    "print(\"Disparition de : \", set(\"abcdefghijklmnopqrstuvwxyz\") - caracteres)"
   ]
  },
  {
   "cell_type": "markdown",
   "metadata": {},
   "source": [
    "## Conclusion \n",
    "\n",
    "Dictionnaires et ensembles sont des structures de données très riches et performantes. \n",
    "Pour en savoir plus, voir la [documentation](https://docs.python.org/fr/3/library/stdtypes.html) et étudier la complexité des opérations élémentaires."
   ]
  },
  {
   "cell_type": "markdown",
   "metadata": {},
   "source": [
    "Equipe pédagoqique DIU EIL, ressource éducative libre distribuée sous [Licence Creative Commons Attribution - Pas d’Utilisation Commerciale - Partage dans les Mêmes Conditions 4.0 International](http://creativecommons.org/licenses/by-nc-sa/4.0/) ![Licence Creative Commons](https://i.creativecommons.org/l/by-nc-sa/4.0/88x31.png)"
   ]
  }
 ],
 "metadata": {
  "kernelspec": {
   "display_name": "Python 3",
   "language": "python",
   "name": "python3"
  },
  "language_info": {
   "codemirror_mode": {
    "name": "ipython",
    "version": 3
   },
   "file_extension": ".py",
   "mimetype": "text/x-python",
   "name": "python",
   "nbconvert_exporter": "python",
   "pygments_lexer": "ipython3",
   "version": "3.7.3"
  }
 },
 "nbformat": 4,
 "nbformat_minor": 1
}
