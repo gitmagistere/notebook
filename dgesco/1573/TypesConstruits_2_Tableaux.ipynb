{
 "cells": [
  {
   "cell_type": "markdown",
   "metadata": {},
   "source": [
    "# Les types construits : les tableaux\n"
   ]
  },
  {
   "cell_type": "markdown",
   "metadata": {},
   "source": [
    "On limite ici la présentation du type tableau en Python à son aspect statique avec tous les éléments du même type, selon les recommandations du programme de première. Les matrices sont construites en tant que tableaux de tableaux."
   ]
  },
  {
   "cell_type": "markdown",
   "metadata": {},
   "source": [
    "## Création de tableaux en compréhension\n",
    " \n",
    "La fonction suivante crée un tableau de 100 valeurs, chacune étant générée par un appel à la fonction `randint`."
   ]
  },
  {
   "cell_type": "code",
   "execution_count": null,
   "metadata": {},
   "outputs": [],
   "source": [
    "from random import randint\n",
    "Tableau = [randint(0, 1000) for i in range(100)]\n",
    "Tableau"
   ]
  },
  {
   "cell_type": "markdown",
   "metadata": {},
   "source": [
    "## Itérer sur les éléments d’un tableau\n",
    "\n",
    "**Exemple** : On calcule la somme des valeurs d'un tableau pour en déduire la moyenne en divisant par la longueur."
   ]
  },
  {
   "cell_type": "code",
   "execution_count": null,
   "metadata": {},
   "outputs": [],
   "source": [
    "def moyenne(tab):\n",
    "    somme = 0\n",
    "    for n in tab:\n",
    "        somme += n\n",
    "    return(somme / len(tab))\n",
    "\n",
    "moyenne(Tableau)"
   ]
  },
  {
   "cell_type": "markdown",
   "metadata": {},
   "source": [
    "## Lire et modifier les éléments d’un tableau grâce à leurs index"
   ]
  },
  {
   "cell_type": "markdown",
   "metadata": {},
   "source": [
    "Le type tableau est **mutable**, un tableau passé en paramètre est passé par **référence** (comme tous les autres objets en Python standard).\n",
    "\n",
    "La fonction suivante peut donc modifier un tableau en échangeant deux de ses valeurs."
   ]
  },
  {
   "cell_type": "code",
   "execution_count": null,
   "metadata": {},
   "outputs": [],
   "source": [
    "T = [3, 8, 12, 9, 56, 14, 22, 7, 13, 41]\n",
    "\n",
    "def echange(tab, i, j):\n",
    "    x = tab[i]\n",
    "    tab[i] = tab[j]\n",
    "    tab[j] = x\n",
    "\n",
    "echange(T, 2, 4)\n",
    "T"
   ]
  },
  {
   "cell_type": "markdown",
   "metadata": {},
   "source": [
    "* **Activité** : Réaliser un tableau de comptage à partir de mesures ou d'un tableau généré aléatoirement, en vue de dessiner un histogramme. Calculer le mode, la médiane, les extrema..."
   ]
  },
  {
   "cell_type": "markdown",
   "metadata": {},
   "source": [
    "## Tableaux de tableaux\n",
    "\n",
    "Un tableau de tableau peut être saisi directement ou fabriqué en compréhension.\n",
    "\n",
    "**Exemple** : la variable smiley est définie comme un tableau de 9 lignes comportant chacune 9 pixels. \n",
    "\n",
    "**Remarque** : Aucun contrôle n'est effectué sur la cohérence du tableau. Si nécessaire c'est au programmeur de vérifier."
   ]
  },
  {
   "cell_type": "code",
   "execution_count": null,
   "metadata": {},
   "outputs": [],
   "source": [
    "smiley = [[0, 0, 0, 0, 0, 0, 0, 0, 0, 0, 0], \n",
    "          [0, 0, 1, 1, 0, 0, 0, 1, 1, 0, 0], \n",
    "          [0, 0, 1, 1, 0, 0, 0, 1, 1, 0, 0], \n",
    "          [0, 0, 0, 0, 0, 0, 0, 0, 0, 0, 0], \n",
    "          [0, 1, 0, 0, 0, 0, 0, 0, 0, 1, 0], \n",
    "          [0, 0, 1, 0, 0, 0, 0, 0, 1, 0, 0], \n",
    "          [0, 0, 0, 1, 1, 1, 1, 1, 0, 0, 0], \n",
    "          [0, 0, 0, 0, 0, 0, 0, 0, 0, 0, 0]]"
   ]
  },
  {
   "cell_type": "markdown",
   "metadata": {},
   "source": [
    "On peut traiter une matrice en itérant sur ses lignes et pour chaque ligne, sur ses éléments."
   ]
  },
  {
   "cell_type": "code",
   "execution_count": null,
   "metadata": {},
   "outputs": [],
   "source": [
    "def affiche(image):\n",
    "    for l in image:\n",
    "        for pix in l:\n",
    "            print(' ' if pix == 0 else chr(9608), end='')\n",
    "        print()\n",
    "\n",
    "affiche(smiley)"
   ]
  },
  {
   "cell_type": "markdown",
   "metadata": {},
   "source": [
    "Une autre possibilité pour afficher des images représentées par des listes de listes consiste à utiliser le module `matplotlib`."
   ]
  },
  {
   "cell_type": "code",
   "execution_count": null,
   "metadata": {},
   "outputs": [],
   "source": [
    "import matplotlib.pyplot as plt"
   ]
  },
  {
   "cell_type": "code",
   "execution_count": null,
   "metadata": {},
   "outputs": [],
   "source": [
    "fig, ax = plt.subplots()\n",
    "ax.imshow(smiley)\n",
    "ax.axis('off')\n",
    "plt.show()"
   ]
  },
  {
   "cell_type": "markdown",
   "metadata": {},
   "source": [
    "On peut aussi traiter une matrice `M` en accédant à ses éléments par la notation doublement indicée `M[i][j]`."
   ]
  },
  {
   "cell_type": "code",
   "execution_count": null,
   "metadata": {},
   "outputs": [],
   "source": [
    "def negatif(image):\n",
    "    for i in range(len(image)):\n",
    "        for j in range(len(image[0])):\n",
    "            image[i][j] = 1 - image[i][j]\n",
    "\n",
    "negatif(smiley)\n",
    "affiche(smiley)"
   ]
  },
  {
   "cell_type": "markdown",
   "metadata": {},
   "source": [
    "* **Activités** : beaucoup de traitements d'images peuvent ainsi être programmés pixel par pixel ce qui constitue une source d'inspiration pour des activités sur les matrices sans difficulté mathématique. Des calculs sur des graphes peuvent aussi être programmés simplement dès lors que le graphe est représenté par sa matrice d'incidence ou d'adjacence."
   ]
  },
  {
   "cell_type": "markdown",
   "metadata": {},
   "source": [
    "## Pour aller plus loin\n",
    "\n",
    "* La [documentation officielle](https://docs.python.org/fr/3/library/stdtypes.html?highlight=dict#sequence-types-list-tuple-range) des tableaux Python (appelés « listes » dans ce langage, à ne pas confondre avec le concept différent de listes chaînées) récapitule l'ensemble des caractéristiques et opérations disponibles sur ces objets.\n",
    "\n",
    "* Le module `matplotlib` est une boîte à outils très puissante qui permet de dessiner divers types de graphiques et d'images. On peut consulter la [documentation officielle](https://matplotlib.org/users/index.html) ou s'inspirer des nombreux [exemples](https://matplotlib.org/gallery/index.html) disponibles (en Anglais)."
   ]
  },
  {
   "cell_type": "markdown",
   "metadata": {},
   "source": [
    "Equipe pédagoqique DIU EIL, ressource éducative libre distribuée sous [Licence Creative Commons Attribution - Pas d’Utilisation Commerciale - Partage dans les Mêmes Conditions 4.0 International](http://creativecommons.org/licenses/by-nc-sa/4.0/) ![Licence Creative Commons](https://i.creativecommons.org/l/by-nc-sa/4.0/88x31.png)"
   ]
  }
 ],
 "metadata": {
  "kernelspec": {
   "display_name": "Python 3",
   "language": "python",
   "name": "python3"
  },
  "language_info": {
   "codemirror_mode": {
    "name": "ipython",
    "version": 3
   },
   "file_extension": ".py",
   "mimetype": "text/x-python",
   "name": "python",
   "nbconvert_exporter": "python",
   "pygments_lexer": "ipython3",
   "version": "3.7.3"
  }
 },
 "nbformat": 4,
 "nbformat_minor": 1
}
