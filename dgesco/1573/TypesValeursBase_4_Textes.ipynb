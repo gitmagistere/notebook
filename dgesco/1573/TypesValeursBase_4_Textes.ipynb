{
 "cells": [
  {
   "cell_type": "markdown",
   "metadata": {},
   "source": [
    "# Représentation des données : types et valeurs de base - les textes\n",
    "\n",
    "La représentation des textes en machine utilise des encodages différents par les caractères représentables et la taille en octets d'un code.\n",
    "\n",
    "Exemples : ASCII, ISO-8859-1, Unicode (UTF 8)"
   ]
  },
  {
   "cell_type": "markdown",
   "metadata": {},
   "source": [
    "## ASCII\n",
    "\n",
    "Le codage des caractères ASCII (*American Standard Code for Information\n",
    "Interchange*) date des années 60. La table ASCII compte 128 caractères. En voici\n",
    "un extrait (caractères 48 à 71) :\n",
    "\n",
    "| Code | Carac | Code | Carac | Code | Carac | Code | Carac | Code | Carac | Code | Carac |\n",
    "|:----:|:-----:|:----:|:-----:|:----:|:-----:|:----:|:-----:|:----:|:-----:|:----:| ----- |\n",
    "| 48   | 0     | 49   | 1     | 50   | 2     | 51   | 3     | 52   | 4     | 53   | 5     |\n",
    "| 54   | 6     | 55   | 7     | 56   | 8     | 57   | 9     | 58   | :     | 59   | ;     |\n",
    "| 60   | <     | 61   | =     | 62   | >     | 63   | ?     | 64   | @     | 65   | A     |\n",
    "| 66   | B     | 67   | C     | 68   | D     | 69   | E     | 70   | F     | 71   | G     |\n",
    "\n",
    "Notons que la table ASCII contient lettres, chiffres, mais aussi des caractères\n",
    "invisibles (tabulation, espace, retour chariot). Elle ne contient aucun\n",
    "caractère accentué."
   ]
  },
  {
   "cell_type": "markdown",
   "metadata": {},
   "source": [
    "## Formats ISO\n",
    "\n",
    "Répondant à la nécessité de représenter les caractères accentués et afin de\n",
    "rester compatible avec l'ASCII, des tables d'encodage supplémentaires sont alors\n",
    "apparues. Leurs 128 premiers caractères restent ceux de l'ASCII, et 128\n",
    "caractères supplémentaires spécifiques à une langue particulière sont ajoutés\n",
    "(le code passe donc de 7 à 8 bits).\n",
    "\n",
    "À chaque langage sa table :\n",
    "\n",
    "* l'ISO 8859-1, ou *latin 1*, contient les caractères accentués utilisés dans\n",
    "  les langues latines,\n",
    "* l'ISO 8859-7 contient, outre les 128 caractères de l'ASCII, les caractères\n",
    "  grecs.\n",
    "* l'ISO 8859-15 ou *latin 9*, est presque identique au *latin 1* à 8 caractères\n",
    "  près (le *latin 9* contient par exemple les caractères œ, Œ et € qui ne sont\n",
    "  pas dans la table *latin 1*)\n",
    "\n",
    "L'encodage utilisé ne fait pas partie du contenu du fichier. Si on se trompe sur\n",
    "l'encodage utilisé, certains caractères seront donc mal interprétés."
   ]
  },
  {
   "cell_type": "markdown",
   "metadata": {},
   "source": [
    "## Formats Unicode\n",
    "\n",
    "Au début des années 90 apparaît la norme **Unicode** qui réunit *tous les\n",
    "caractères* dans une seule table, encore en construction, et qui contient\n",
    "actuellement plus de 135 000 symboles. Le but est de couvrir tous les besoins.\n",
    "Actuellement numérotés sur 21 bits, le code unicode n'est pas utilisé\n",
    "directement comme encodage de fichiers (sous peine de voir la taille des\n",
    "fichiers texte multipliés par 3.\n",
    "\n",
    "Ce sont des encodages comme UTF-8 qui permettent actuellement d'utiliser\n",
    "Unicode. Le principe est de coder les caractères courants sur un seul octet, et\n",
    "d'utiliser des séquences d'échappement pour accéder à d'autres parties de la\n",
    "table. En UTF8, tous les caractères n'occupent donc pas la même place. Certains\n",
    "sont codés sur 1 octet, et d'autres sur 2 à 4 octets.\n",
    "\n",
    "Actuellement, la bonne pratique est d'utiliser UTF-8 dès que c'est possible,\n",
    "afin de garantir une bonne interopérabilité, et une durée de vie importante des\n",
    "fichiers."
   ]
  },
  {
   "cell_type": "markdown",
   "metadata": {},
   "source": [
    "## En Python\n",
    "\n",
    "Depuis la version 3, Python représente ses chaînes de caractères en\n",
    "Unicode, et utilise par défaut l'encodage UTF-8 pour écrire des fichiers.\n",
    "\n",
    "On peut passer d'un caractère à son code unicode par la fonction `ord` et réciproquement avec la fonction `chr`."
   ]
  },
  {
   "cell_type": "code",
   "execution_count": null,
   "metadata": {},
   "outputs": [],
   "source": [
    "ord('A')"
   ]
  },
  {
   "cell_type": "code",
   "execution_count": null,
   "metadata": {},
   "outputs": [],
   "source": [
    "chr(65)"
   ]
  },
  {
   "cell_type": "code",
   "execution_count": null,
   "metadata": {},
   "outputs": [],
   "source": [
    "ord('€')"
   ]
  },
  {
   "cell_type": "markdown",
   "metadata": {},
   "source": [
    "* **Activité** : Afficher une partie des codes unicode."
   ]
  },
  {
   "cell_type": "code",
   "execution_count": null,
   "metadata": {},
   "outputs": [],
   "source": [
    "for i in range (8352, 8384):\n",
    "    print (chr(i), end=\" \")"
   ]
  },
  {
   "cell_type": "markdown",
   "metadata": {},
   "source": [
    "La méthode `encode` permet d'encoder une chaîne en choisissant le système de codage (UTF8 par défaut), et donne une suite d'octets représentés en hexadécimal, pouvant ensuite être convertie en liste d'entiers pour l'affichage."
   ]
  },
  {
   "cell_type": "code",
   "execution_count": null,
   "metadata": {},
   "outputs": [],
   "source": [
    "\"€\".encode()"
   ]
  },
  {
   "cell_type": "code",
   "execution_count": null,
   "metadata": {},
   "outputs": [],
   "source": [
    "list(\"€\".encode(\"utf8\"))"
   ]
  },
  {
   "cell_type": "code",
   "execution_count": null,
   "metadata": {},
   "outputs": [],
   "source": [
    "list(\"€\".encode(\"iso8859-15\"))"
   ]
  },
  {
   "cell_type": "markdown",
   "metadata": {},
   "source": [
    "## Lecture et écriture de fichiers\n",
    "\n",
    "Il convient d'être vigilant lors de la lecture/écriture de fichiers texte pour bien relire un fichier en spécifiant l'encodage avec lequel il a été encodé (par défaut UTF-8).\n",
    "\n",
    "Un encodage différent peut être spécifié à l'ouverture du fichier en lecture ou en écriture.\n",
    "La liste des encodages standard peut être trouvée dans la [documentation du langage Python](https://docs.python.org/fr/3/library/codecs.html#standard-encodings)."
   ]
  },
  {
   "cell_type": "code",
   "execution_count": null,
   "metadata": {},
   "outputs": [],
   "source": [
    "f = open(\"monfichier.txt\", mode=\"w\", encoding=\"latin1\")\n",
    "f.write(\"Ceci est un texte accentué enregistré en latin1\")\n",
    "f.close()"
   ]
  },
  {
   "cell_type": "markdown",
   "metadata": {},
   "source": [
    "* **Activité** : Ecrire un programme qui lit un fichier texte en latin1 et le réécrit en UTF-8. "
   ]
  },
  {
   "cell_type": "markdown",
   "metadata": {},
   "source": [
    "Equipe pédagoqique DIU EIL, ressource éducative libre distribuée sous [Licence Creative Commons Attribution - Pas d’Utilisation Commerciale - Partage dans les Mêmes Conditions 4.0 International](http://creativecommons.org/licenses/by-nc-sa/4.0/) ![Licence Creative Commons](https://i.creativecommons.org/l/by-nc-sa/4.0/88x31.png)"
   ]
  }
 ],
 "metadata": {
  "kernelspec": {
   "display_name": "Python 3",
   "language": "python",
   "name": "python3"
  },
  "language_info": {
   "codemirror_mode": {
    "name": "ipython",
    "version": 3
   },
   "file_extension": ".py",
   "mimetype": "text/x-python",
   "name": "python",
   "nbconvert_exporter": "python",
   "pygments_lexer": "ipython3",
   "version": "3.7.3"
  }
 },
 "nbformat": 4,
 "nbformat_minor": 1
}
