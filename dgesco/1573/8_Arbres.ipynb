{
 "cells": [
  {
   "cell_type": "markdown",
   "metadata": {},
   "source": [
    "# Arbres\n",
    "\n",
    "Un arbre est une structure hiérarchique permettant de représenter de manière symbolique des informations structurées, par exemple :\n",
    "* Un dossier, contenant des dossiers et des fichiers, chaque dossier pouvant contenir des dossiers et des fichiers.\n",
    "* Un arbre généalogique des descendants ou des ascendants (arbre binaire).\n",
    "* Une tâche complexe décomposée en tâches élémentaires et en tâches complexes...\n",
    "\n",
    "Dans tous ces exemples, on a défini un cas où l'information est élémentaire (fichier, tâche élémentaire), et un cas général où l'information structurée contient deux ou plusieurs informations de même structure.\n",
    "\n",
    "Dans la terminologie informatique, on utilise les termes de **feuille** pour les informations élémentaires, de **noeud** pour chaque embranchement de l'arbre, et de **racine** pour le noeud principal.\n",
    "\n",
    "**Attention** : l'analogie avec les arbres réels peut s'avérer trompeuse. Les arbres - en informatique - sont le plus souvent représentés avec la racine en haut, puis les noeuds, et les feuilles en bas.\n",
    "\n",
    "Dans la suite, on ne s'intéresse qu'aux **arbres binaires**, c'est à dire aux arbres dont tous les noeuds qui ne sont pas réduits à une feuille, ont deux sous-arbres : un à droite et un à gauche."
   ]
  },
  {
   "cell_type": "markdown",
   "metadata": {},
   "source": [
    "## Exemple introductif\n",
    "\n",
    "Avec des enregistrements et la possibilité d'imbriquer les enregistrements les uns dans les autres, on peut créer des arbres.\n",
    "\n",
    "**Exemple en Python** : \n",
    "On représente un personnage soit par son nom seul, soit par un enregistrement contenant son nom et des références à son père et à sa mère."
   ]
  },
  {
   "cell_type": "code",
   "execution_count": null,
   "metadata": {},
   "outputs": [],
   "source": [
    "LouisXVI = {'nom':'LouisXVI',\n",
    "            'pere':{'nom':'Louis de France', 'pere':'Louis XV', 'mere':'Marie Leszczyńska'},\n",
    "            'mere':{'nom':'Marie-Josèphe de Saxe', 'pere':'Auguste III', 'mere':\"Marie-Josèphe d'Autriche\"}}\n",
    "LouisXVI"
   ]
  },
  {
   "cell_type": "markdown",
   "metadata": {},
   "source": [
    "Cet arbre est un arbre binaire. \n",
    "\n",
    "On peut accéder à chaque partie de l'arbre en le parcourant de branche en branche en choisissant à chaque niveau de s'orienter vers la droite ou la gauche - le père ou la mère."
   ]
  },
  {
   "cell_type": "code",
   "execution_count": null,
   "metadata": {},
   "outputs": [],
   "source": [
    "LouisXVI['pere']['mere']"
   ]
  },
  {
   "cell_type": "markdown",
   "metadata": {},
   "source": [
    "## Un type abstrait `Arbre binaire`\n",
    "\n",
    "De manière générale, on peut construire un arbre binaire comme un arbre réduit à une feuille ou comme un noeud composé de deux sous-arbres. Pour annoter la structure de l'arbre avec des informations, on utilise des étiquettes pouvant être enregistrées à chaque feuille ou à chaque noeud.\n",
    "\n",
    "On peut ensuite parcourir un arbre par l'accès à son étiquette et à ses sous-arbres droit et gauche. Un prédicat permet de distinguer les feuilles des noeuds.\n",
    "\n",
    "On peut ainsi spécifier un arbre binaire par le type abstrait suivant :\n",
    "\n",
    "- Constructeurs : \n",
    "    - `feuille : Etiquette -> Arbre binaire`\n",
    "    - `noeud : Etiquette x Arbre binaire x Arbre binaire -> Arbre binaire`\n",
    "- Sélecteurs : \n",
    "    - `droit : Arbre binaire -> Arbre binaire`\n",
    "    - `gauche : Arbre binaire -> Arbre binaire`\n",
    "    - `etiquette : Arbre binaire -> Etiquette`\n",
    "- Prédicat : `est_feuille : Arbre binaire -> Booléen`\n"
   ]
  },
  {
   "cell_type": "markdown",
   "metadata": {},
   "source": [
    "## Mise en oeuvre avec des listes Python\n",
    "\n",
    "On peut choisir de représenter un arbre binaire par une liste de trois éléments `[etiquette, arbre_gauche, arbre_droit]` et un sous-arbre vide par une liste vide.\n",
    "\n",
    "**Activité** : Ecrire l'implémentation des arbres par des listes avec cette représentation."
   ]
  },
  {
   "cell_type": "code",
   "execution_count": null,
   "metadata": {},
   "outputs": [],
   "source": []
  },
  {
   "cell_type": "markdown",
   "metadata": {},
   "source": [
    "## Mise en oeuvre avec des classes `Noeud` et `Feuille` en Python\n",
    "\n",
    "On peut définir une classe `Feuille` avec un seul attribut `etiquette`, et une classe `Noeud` avec trois attributs `etiquette`, `gauche` et `droit`. Si on considère les arbres comme l'ensemble des objets de ces deux classes, la fonction `est_feuille` peut être définie par rapport à l'appartenance à la classe `Feuille`."
   ]
  },
  {
   "cell_type": "code",
   "execution_count": null,
   "metadata": {},
   "outputs": [],
   "source": [
    "class Feuille:\n",
    "    def __init__(self, etiquette):\n",
    "        self.etiquette = etiquette\n",
    "        \n",
    "    def etiquette (self):\n",
    "        return(self.etiquette)\n",
    "    \n",
    "    def __repr__(self):\n",
    "        return str(self.etiquette)\n",
    "\n",
    "class Noeud:\n",
    "    def __init__(self, etiquette, gauche, droit):\n",
    "        self.etiquette = etiquette\n",
    "        self.gauche = gauche\n",
    "        self.droit = droit\n",
    "        \n",
    "    def etiquette (self):\n",
    "        return(self.etiquette)\n",
    "    \n",
    "    def droit(self):\n",
    "        return(self.droit)\n",
    "    \n",
    "    def gauche(self):\n",
    "        return(self.gauche)\n",
    "    \n",
    "    def __repr__(self):\n",
    "        return '(' + str(self.gauche) + '/' + str(self.etiquette) + '\\\\' + str(self.droit) + ')' \n",
    "\n",
    "def est_feuille (arbre):\n",
    "    return isinstance(arbre, Feuille)"
   ]
  },
  {
   "cell_type": "markdown",
   "metadata": {},
   "source": [
    "On peut alors construire des arbres avec les constructeurs `Feuille` et `Noeud`."
   ]
  },
  {
   "cell_type": "code",
   "execution_count": null,
   "metadata": {},
   "outputs": [],
   "source": [
    "A1 = Noeud(2, Noeud(8, Feuille(4), Feuille(5)), Noeud(9, Feuille(3), Feuille(6)))\n",
    "A1"
   ]
  },
  {
   "cell_type": "markdown",
   "metadata": {},
   "source": [
    "On peut parcourir un arbre, par exemple pour compter ses feuilles, en utilisant les méthodes `gauche`et `droit`."
   ]
  },
  {
   "cell_type": "code",
   "execution_count": null,
   "metadata": {},
   "outputs": [],
   "source": [
    "def compte_feuille (arbre):\n",
    "    return 1 if est_feuille(arbre) else compte_feuille(arbre.gauche) + compte_feuille(arbre.droit)\n",
    "\n",
    "compte_feuille (A1)"
   ]
  },
  {
   "cell_type": "markdown",
   "metadata": {},
   "source": [
    "### Version avec une seule classe\n",
    "\n",
    "Pour tout rassembler en une seule classe, on peut poser par convention que les feuilles sont des noeuds avec les sous-arbres à `None`."
   ]
  },
  {
   "cell_type": "code",
   "execution_count": null,
   "metadata": {},
   "outputs": [],
   "source": [
    "class Noeud:\n",
    "    def __init__(self, etiquette, gauche=None, droit=None):\n",
    "        self.etiquette = etiquette\n",
    "        self.gauche = gauche\n",
    "        self.droit = droit\n",
    "        \n",
    "    def etiquette (self):\n",
    "        return(self.etiquette)\n",
    "    \n",
    "    def droit(self):\n",
    "        return(self.droit)\n",
    "    \n",
    "    def gauche(self):\n",
    "        return(self.gauche)\n",
    "    \n",
    "    def est_feuille(self):\n",
    "        return not (self.gauche or self.droit)\n",
    "    \n",
    "    def __repr__(self):\n",
    "        return str(self.etiquette) + ('-(' + str(self.gauche) + ',' + str(self.droit) + ')' if self.gauche or self.droit else \"\")\n"
   ]
  },
  {
   "cell_type": "markdown",
   "metadata": {},
   "source": [
    "La construction d'un arbre s'effectue alors avec des noeuds ayant soit un seul argument (cas des feuilles), soit trois (cas général)."
   ]
  },
  {
   "cell_type": "code",
   "execution_count": null,
   "metadata": {},
   "outputs": [],
   "source": [
    "A2 = Noeud(2, Noeud(8, Noeud(4), Noeud(5)), Noeud(9, Noeud(3), Noeud(6)))"
   ]
  },
  {
   "cell_type": "markdown",
   "metadata": {},
   "source": [
    "Le parcours de l'arbre peut se faire récursivement en utilisant les méthodes `est_feuille`, `gauche` et `droite`."
   ]
  },
  {
   "cell_type": "code",
   "execution_count": null,
   "metadata": {},
   "outputs": [],
   "source": [
    "def compte_feuille (arbre):\n",
    "    return 1 if arbre.est_feuille() else compte_feuille(arbre.gauche) + compte_feuille(arbre.droit)\n",
    "\n",
    "compte_feuille (A2)"
   ]
  },
  {
   "cell_type": "markdown",
   "metadata": {},
   "source": [
    "**Activité** : En utilisant les méthodes définies, écrire un programme calculant la hauteur d'un arbre."
   ]
  },
  {
   "cell_type": "code",
   "execution_count": null,
   "metadata": {},
   "outputs": [],
   "source": []
  },
  {
   "cell_type": "markdown",
   "metadata": {},
   "source": [
    "## Bilan\n",
    "\n",
    "On a donné une description d'un type abstrait *Arbre binaire*, permettant de construire et de parcourir des arbres binaires. \n",
    "\n",
    "Le type abstrait proposé est suffisant pour exprimer tout algorithme sur les arbres dans un style fonctionnel. \n",
    "\n",
    "On en a proposé plusieurs implémentations. \n",
    "\n",
    "D'autres représentations existent, par exemple celle dans un tableau contigu où les fils gauche et droit d'un noeud $i$ sont rangés respectivement dans les cases $2*i$ et $2*i+1$ du même tableau.\n",
    "\n",
    "Si l'on souhaite modifier en place des arbres, par exemple pour mettre en oeuvre des arbres binaires de recherche sans reconstruire à chaque étape un nouvel arbre, il convient d'ajouter à cette structure de données des fonctions (ou méthodes) permettant de modifier le sous-arbre droit ou gauche d'un arbre en ajoutant, ou en enlevant un noeud."
   ]
  },
  {
   "cell_type": "markdown",
   "metadata": {},
   "source": [
    "Equipe pédagoqique DIU EIL, ressource éducative libre distribuée sous [Licence Creative Commons Attribution - Pas d’Utilisation Commerciale - Partage dans les Mêmes Conditions 4.0 International](http://creativecommons.org/licenses/by-nc-sa/4.0/) ![Licence Creative Commons](https://i.creativecommons.org/l/by-nc-sa/4.0/88x31.png)"
   ]
  }
 ],
 "metadata": {
  "kernelspec": {
   "display_name": "Python 3",
   "language": "python",
   "name": "python3"
  },
  "language_info": {
   "codemirror_mode": {
    "name": "ipython",
    "version": 3
   },
   "file_extension": ".py",
   "mimetype": "text/x-python",
   "name": "python",
   "nbconvert_exporter": "python",
   "pygments_lexer": "ipython3",
   "version": "3.6.8"
  }
 },
 "nbformat": 4,
 "nbformat_minor": 2
}
