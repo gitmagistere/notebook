{
 "cells": [
  {
   "cell_type": "markdown",
   "metadata": {},
   "source": [
    "# Représentation des données : types et valeurs de base - les flottants\n"
   ]
  },
  {
   "cell_type": "markdown",
   "metadata": {},
   "source": [
    "## Les nombres flottants en Python\n",
    "\n",
    "Les nombres flottants n'ont pas grand chose à voir avec les réels ! Il sont à comparer plutôt avec les nombres en notation scientifique des calculatrices, mais en base 2.\n",
    "\n",
    "La mise en oeuvre des nombres flottants en Python repose sur la norme IEEE 754 double précision, qui spécifie qu'un nombre flottant est représenté par :\n",
    "* son signe **s** sur 1 bit,\n",
    "* sa mantisse **m** sur 52 bits en binaire, normalisée sous la forme $1.b_1b_2...b_{52}$ où chaque $b_i$ est noté 0 ou 1 (le premier 1 n'est en fait pas représenté)\n",
    "* son exposant **e** en puissance de 2 représenté sur 11 bits en binaire (exposants -1022 à 1023)\n",
    "\n",
    "Le nombre flottant représenté est : $s . m * 2^e$\n",
    "\n",
    "La notation des nombres flottants en base 2, étend la notation binaire des entiers. Chaque bit $b_i$ de la mantisse vaut $2^{-i}$.\n",
    "\n",
    "**Exemple** : `1.001` est le code de $1 + 1/8$ ou $1.125$."
   ]
  },
  {
   "cell_type": "markdown",
   "metadata": {},
   "source": [
    "* **Activité** : explorer les limites de représentation des nombres flottants en terme de précision. Essayer d'interpréter la précision relative disponible par rapport au nombre de bits de la mantisse."
   ]
  },
  {
   "cell_type": "code",
   "execution_count": null,
   "metadata": {},
   "outputs": [],
   "source": [
    "(1.5000000000000000, 1.5000000000000001, 1.5000000000000002)"
   ]
  },
  {
   "cell_type": "markdown",
   "metadata": {},
   "source": [
    "Ces exemples montrent la limite de précision de la mantisse : 52 chiffres significatifs en base 2, qui correspondent à 16 chiffres significatifs en base 10. La précision relative est en fait de $1/2^{52}$ soit environ $2.10^{−16}$.\n",
    "\n",
    "Remarque : cette valeur est mémorisée en Python dans le module `sys` sous le nom `sys.float_info.epsilon`."
   ]
  },
  {
   "cell_type": "code",
   "execution_count": null,
   "metadata": {},
   "outputs": [],
   "source": [
    "import sys\n",
    "sys.float_info.epsilon"
   ]
  },
  {
   "cell_type": "markdown",
   "metadata": {},
   "source": [
    "* **Activité** : explorer les limites de précision des calculs sur les nombres flottants. Est-ce que tous les nombres décimaux peuvent être représentés exactement par des flottants ?"
   ]
  },
  {
   "cell_type": "code",
   "execution_count": null,
   "metadata": {},
   "outputs": [],
   "source": [
    "0.25 + 0.5"
   ]
  },
  {
   "cell_type": "code",
   "execution_count": null,
   "metadata": {},
   "outputs": [],
   "source": [
    "0.1 + 0.2"
   ]
  },
  {
   "cell_type": "markdown",
   "metadata": {},
   "source": [
    "**Analyse** :\n",
    "\n",
    "Pour analyser cette approximation sur le calcul avec des nombres décimaux, il faut examiner en détail le codage en binaire à virgule flottante de la mantisse.\n",
    "\n",
    "> $1.b_1b_2...b_{52}$\n",
    "\n",
    "Les nombres pouvant être codés de manière exacte sous cette forme sont les nombres pouvant s'écrire comme une somme : \n",
    "$1 + \\Sigma_{i=1}^{52}(b_i/2^i)$\n",
    "C'est à dire les multiples entiers de $1/2^{52}$, ce qui n'est pas le cas de $0.1$ ni de $0.2$ d'où l'approximation effectuée lors de leur représentation en machine et lors de l'addition."
   ]
  },
  {
   "cell_type": "markdown",
   "metadata": {},
   "source": [
    "* **Activité :** Calculer à la main les quelques premiers chiffres de la représentation en base 2 du nombre 0,1."
   ]
  },
  {
   "cell_type": "markdown",
   "metadata": {},
   "source": [
    "**Propagation des erreurs de représentation** :\n",
    "\n",
    "L'erreur relative effectuée lors de la représentation, peut être amplifiée si on soustrait deux nombres proches."
   ]
  },
  {
   "cell_type": "code",
   "execution_count": null,
   "metadata": {},
   "outputs": [],
   "source": [
    "1023.1 - 1023"
   ]
  },
  {
   "cell_type": "markdown",
   "metadata": {},
   "source": [
    "### Nombres représentables\n",
    "\n",
    "Le plus grand nombre flottant représentable  au format normalisé est :\n",
    "\n",
    "$$1,11111...111 \\times 2^{1023} = (2 - 2^{-52}) \\times 2^{1023} = 2^{1024} - 2^{971} \\approx 1.7976931348623157.10^{308}$$\n",
    "\n",
    "Le plus petit nombre flottant strictement positif représentable au format normalisé  est :\n",
    "\n",
    "$$1,0 \\times 2^{-1022} = 2^{-1022} \\approx 2.2250738585072014.10^{-308}$$"
   ]
  },
  {
   "cell_type": "code",
   "execution_count": null,
   "metadata": {},
   "outputs": [],
   "source": [
    "sys.float_info.max"
   ]
  },
  {
   "cell_type": "code",
   "execution_count": null,
   "metadata": {},
   "outputs": [],
   "source": [
    "sys.float_info.min"
   ]
  },
  {
   "cell_type": "markdown",
   "metadata": {},
   "source": [
    "### Expérimentation avec affichage du codage des flottants en binaire\n",
    "\n",
    "Pour observer les codages utilisés, on utilise la fonction Python `float.hex` qui montre le codage hexadécimal d'un nombre flottant.\n",
    "\n",
    "Pour obtenir un résultat plus facilement interprétable, on propose une fonction `float2bin` qui donne la représentation binaire d'un flottant à partir de sa représentation héxadécimale.\n"
   ]
  },
  {
   "cell_type": "code",
   "execution_count": null,
   "metadata": {},
   "outputs": [],
   "source": [
    "def hex2bin(h):\n",
    "    \"\"\"Convertit un chiffre hexadécimal '0' à 'f' en binaire sur 4 bits\"\"\"\n",
    "    n = int(h, base=16)\n",
    "    b = ''\n",
    "    for i in range(4):\n",
    "        b = str(n % 2) + b\n",
    "        n = n // 2\n",
    "    return(b)\n",
    "\n",
    "def float2bin(f):\n",
    "    \"\"\"Retourne la représentation interne en binaire d'un float strictement positif\"\"\"\n",
    "    s = float.hex(f)\n",
    "    b = '1.'\n",
    "    for i in range(4,17):\n",
    "        b = b + hex2bin(s[i])\n",
    "    b = b + s[17:]\n",
    "    return(b)"
   ]
  },
  {
   "cell_type": "markdown",
   "metadata": {},
   "source": [
    "**Précision de la représentation**"
   ]
  },
  {
   "cell_type": "code",
   "execution_count": null,
   "metadata": {},
   "outputs": [],
   "source": [
    "(float2bin(1.5000000000000000), float2bin(1.5000000000000001), float2bin(1.5000000000000002))"
   ]
  },
  {
   "cell_type": "markdown",
   "metadata": {},
   "source": [
    "A la lecture de leur représentation, on comprend pourquoi il n'y a pas de flottant entre $1.5$ et $1.5000000000000002$.\n",
    "Le nombre $1.5000000000000001$ est représenté comme $1.5$.\n",
    "\n",
    "La précision possible avec une mantisse de 52 bits se situe au niveau du dernier bit qui vaut $2^{-52}$ soit environ $2.10^{−16}$."
   ]
  },
  {
   "cell_type": "markdown",
   "metadata": {},
   "source": [
    "**Approximation de la représentation**\n",
    "\n",
    "Tous les décimaux n'ont pas une représentation exacte en base 2 virgule flottante. Si on observe la représentation de 1.1 ou 1.2, on constate que la représentation cyclique est tronquée."
   ]
  },
  {
   "cell_type": "code",
   "execution_count": null,
   "metadata": {},
   "outputs": [],
   "source": [
    "(float2bin(1.1), float2bin(1.2))"
   ]
  },
  {
   "cell_type": "markdown",
   "metadata": {},
   "source": [
    "\n",
    "Le codage de $1.1$ montre une représentation binaire à virgule `1.000 1100 1100 1100 1100 ...` L'écriture exacte en binaire à virgule est ici cyclique et infinie, ce qui explique l'approximation effectuée quand l'écriture est tronquée à 52 bits. "
   ]
  },
  {
   "cell_type": "markdown",
   "metadata": {},
   "source": [
    "### Conversion de binaire en flottant\n",
    "\n",
    "Pour poursuivre les explorations, on peut se doter des fonctions réciproques pour convertir une représentation binaire, vers le nombre flottant correspondant. On utilise pour cela la fonction Python `float.fromhex` "
   ]
  },
  {
   "cell_type": "code",
   "execution_count": null,
   "metadata": {},
   "outputs": [],
   "source": [
    "def bin2hex(b):\n",
    "    \"\"\"Convertit un nombre binaire sur 4 bits en un chiffre hexadécimal\"\"\"\n",
    "    h = hex(int(b, base=2))\n",
    "    return(h[2])\n",
    "\n",
    "def bin2float(b):\n",
    "    \"\"\"Retourne le flottant correspondant à une représentation interne en binaire\"\"\"\n",
    "    h = '0x1.'\n",
    "    for i in range (2,54,4):\n",
    "        h = h + bin2hex(b[i:i+4])\n",
    "    h = h + b[54:]\n",
    "    return(float.fromhex(h))"
   ]
  },
  {
   "cell_type": "markdown",
   "metadata": {},
   "source": [
    "On peut ainsi rechercher le plus petit flottant strictement supérieur à 1.0"
   ]
  },
  {
   "cell_type": "code",
   "execution_count": null,
   "metadata": {},
   "outputs": [],
   "source": [
    "bin2float(\"1.0000000000000000000000000000000000000000000000000001p+0\")"
   ]
  },
  {
   "cell_type": "markdown",
   "metadata": {},
   "source": [
    "le plus grand strictement inférieur à 2.0"
   ]
  },
  {
   "cell_type": "code",
   "execution_count": null,
   "metadata": {},
   "outputs": [],
   "source": [
    "bin2float(\"1.1111111111111111111111111111111111111111111111111111p+0\")"
   ]
  },
  {
   "cell_type": "markdown",
   "metadata": {},
   "source": [
    "Le premier flottant strictement supérieur à $2^{53} = 9007199254740992$"
   ]
  },
  {
   "cell_type": "code",
   "execution_count": null,
   "metadata": {},
   "outputs": [],
   "source": [
    "bin2float(\"1.0000000000000000000000000000000000000000000000000001p+53\")"
   ]
  },
  {
   "cell_type": "markdown",
   "metadata": {},
   "source": [
    "Ce dernier calcul donne le nombre $2^{53}+2$. \n",
    "\n",
    "A partir de $2^{52}$, tous les flottants sont des entiers.\n",
    "\n",
    "A partir de $2^{53}$, tous les entiers ne sont pas représentables en tant que flottants."
   ]
  },
  {
   "cell_type": "markdown",
   "metadata": {},
   "source": [
    "* **Activité** : observer en détail la répartition des nombres flottants\n",
    "\n",
    "Entre nombres positifs et négatifs, entre petits et grands nombres. \n"
   ]
  },
  {
   "cell_type": "markdown",
   "metadata": {},
   "source": [
    "On a approximativement :\n",
    "\n",
    "* 1/4 des flottants inférieurs à -1 : signe négatif, exposant positif ou nul\n",
    "* 1/4 des flottants entre -1 et 0 : signe négatif, exposant négatif\n",
    "* 1/4 des flottants entre 0 et 1: signe positif, exposant négatif\n",
    "* 1/4 des flottants supérieurs à 1: signe positif, exposant positif ou nul\n",
    "\n",
    "A noter que la norme IEEE 754 permet aussi de représenter, par des combinaisons réservées des valeurs d'exposant et de mantisse, les valeurs NaN (not a number), $+\\infty$, $-\\infty$."
   ]
  },
  {
   "cell_type": "markdown",
   "metadata": {},
   "source": [
    "### Comparaisons entre flottants\n",
    "\n",
    "A cause des multiples approximations effectuées lors de la représentation ou du calcul sur les flottants, il ne faut pas tester l'égalité de flottants.\n",
    "\n",
    "Ceci ferait courir le risque de programmes qui ne s'arrêtent pas si une boucle contient de tels tests. "
   ]
  },
  {
   "cell_type": "code",
   "execution_count": null,
   "metadata": {},
   "outputs": [],
   "source": [
    "0.1 + 0.2 == 0.3"
   ]
  },
  {
   "cell_type": "code",
   "execution_count": null,
   "metadata": {},
   "outputs": [],
   "source": [
    "from math import sqrt\n",
    "sqrt(2.0)**2 == 2.0"
   ]
  },
  {
   "cell_type": "code",
   "execution_count": null,
   "metadata": {},
   "outputs": [],
   "source": [
    "1 + sys.float_info.epsilon / 2 == 1.0"
   ]
  },
  {
   "cell_type": "code",
   "execution_count": null,
   "metadata": {},
   "outputs": [],
   "source": [
    "x  = float(2**53)\n",
    "x + 1 == x"
   ]
  },
  {
   "cell_type": "markdown",
   "metadata": {},
   "source": [
    "### Conclusion\n",
    "\n",
    "Les nombres flottants sont tout à fait adaptés en précision et en portée aux calculs de physique de l'infiniment petit à l'infiniment grand, mais ils ne correspondent pas du tout aux nombres réels définis en mathématiques."
   ]
  },
  {
   "cell_type": "markdown",
   "metadata": {},
   "source": [
    "Equipe pédagoqique DIU EIL, ressource éducative libre distribuée sous [Licence Creative Commons Attribution - Pas d’Utilisation Commerciale - Partage dans les Mêmes Conditions 4.0 International](http://creativecommons.org/licenses/by-nc-sa/4.0/) ![Licence Creative Commons](https://i.creativecommons.org/l/by-nc-sa/4.0/88x31.png)"
   ]
  }
 ],
 "metadata": {
  "kernelspec": {
   "display_name": "Python 3",
   "language": "python",
   "name": "python3"
  },
  "language_info": {
   "codemirror_mode": {
    "name": "ipython",
    "version": 3
   },
   "file_extension": ".py",
   "mimetype": "text/x-python",
   "name": "python",
   "nbconvert_exporter": "python",
   "pygments_lexer": "ipython3",
   "version": "3.7.3"
  }
 },
 "nbformat": 4,
 "nbformat_minor": 1
}
