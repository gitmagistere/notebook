{
 "cells": [
  {
   "cell_type": "markdown",
   "metadata": {},
   "source": [
    "# Graphes\n",
    "\n",
    "Les graphes sont une structure de données très riche permettant de modéliser des situations variées de relations entre un ensemble d'entités - entre acteurs dans un réseau social, entre villes dans un réseau routier ou de distribution... \n",
    "\n",
    "Les relations peuvent être orientées ou non.\n",
    "\n",
    "Un graphe est constitué d'un ensemble de **sommets** et dans le cas orienté d'un ensemble d'**arcs** reliant chacun un sommet à un autre, dans le cas non orienté d'un ensemble d'**arêtes** entre deux sommets.\n",
    "\n",
    "Le programme NSI précise : \n",
    "\n",
    "> Écrire les implémentations\n",
    "correspondantes d’un graphe : matrice d’adjacence, liste de\n",
    "successeurs/de prédécesseurs. Passer d’une représentation à\n",
    "une autre."
   ]
  },
  {
   "cell_type": "markdown",
   "metadata": {},
   "source": [
    "## Type abstrait : graphe non orienté\n",
    "\n",
    "On peut doter le type abstrait des constructeurs suivants :\n",
    "\n",
    "* `faire_graphe : liste de sommets -> graphe`\n",
    "* `ajouter_arete : graphe x sommet x sommet -> graphe`\n",
    "\n",
    "Pour pouvoir parcourir un graphe non orienté, on a besoin à la liste des sommets et d'accéder aux sommets voisins d'un sommet donné.\n",
    "\n",
    "* `sommets : graphe -> liste de sommets`\n",
    "* `voisins : graphe * sommet -> liste de sommets`"
   ]
  },
  {
   "cell_type": "markdown",
   "metadata": {},
   "source": [
    "## Représentation par matrice d'adjacence\n",
    "\n",
    "Une matrice d'adjacence pour un graphe à $n$ sommets est une matrice $n \\times n$, où la valeur du coefficient d'indice $i,j$ dépend de l'existence d'une arête reliant les sommets $i$ et $j$."
   ]
  },
  {
   "cell_type": "code",
   "execution_count": null,
   "metadata": {},
   "outputs": [],
   "source": [
    "class GrapheMa:\n",
    "    def __init__ (self, sommets):\n",
    "        self.sommets = sommets\n",
    "        self.dimension = len(sommets)\n",
    "        self.adjacence = [[0 for i in range(self.dimension)] for j in range(self.dimension)]\n",
    "    \n",
    "    def ajouter_arete (self, x, y):\n",
    "        i = self.sommets.index(x)\n",
    "        j = self.sommets.index(y)\n",
    "        self.adjacence[i][j] = 1\n",
    "        self.adjacence[j][i] = 1\n",
    "    \n",
    "    def sommets (self):\n",
    "        return self.sommets\n",
    "    \n",
    "    def voisins (self, sommet):\n",
    "        i = self.sommets.index(sommet)\n",
    "        return [self.sommets[j] for j in range (self.dimension) if self.adjacence[i][j]==1]"
   ]
  },
  {
   "cell_type": "markdown",
   "metadata": {},
   "source": [
    "On peut ainsi construire un graphe, en fournissant d'abord la liste de ses sommets puis en ajoutant les arêtes une à une."
   ]
  },
  {
   "cell_type": "code",
   "execution_count": null,
   "metadata": {},
   "outputs": [],
   "source": [
    "g1 = GrapheMa(['a', 'b', 'c', 'd'])\n",
    "g1.ajouter_arete('a', 'b')\n",
    "g1.ajouter_arete('a', 'c')\n",
    "g1.ajouter_arete('c', 'd')"
   ]
  },
  {
   "cell_type": "markdown",
   "metadata": {},
   "source": [
    "On peut vérifier la bonne saisie de la matrice d'adjacence."
   ]
  },
  {
   "cell_type": "code",
   "execution_count": null,
   "metadata": {},
   "outputs": [],
   "source": [
    "g1.adjacence"
   ]
  },
  {
   "cell_type": "markdown",
   "metadata": {},
   "source": [
    "Cependant, on accède de préférence au graphe à travers les fonctions de l'interface du type abstrait :"
   ]
  },
  {
   "cell_type": "code",
   "execution_count": null,
   "metadata": {},
   "outputs": [],
   "source": [
    "print(g1.sommets)\n",
    "print(g1.voisins('c'))"
   ]
  },
  {
   "cell_type": "markdown",
   "metadata": {},
   "source": [
    "**Activité** : proposer un nouveau type abstrait `GrapheOriente` et son implémentation par une matrice d'adjacence, sachant que la valeur du coefficient d'indice $i,j$ dépend de l'existence d'un arc reliant le sommet $i$ au sommet $j$."
   ]
  },
  {
   "cell_type": "code",
   "execution_count": null,
   "metadata": {},
   "outputs": [],
   "source": []
  },
  {
   "cell_type": "markdown",
   "metadata": {},
   "source": [
    "## Représentation par listes de successeurs.\n",
    "\n",
    "On implémente le graphe sous forme d'un dictionnaire où à chaque sommet est associé la liste de ses successeurs."
   ]
  },
  {
   "cell_type": "code",
   "execution_count": null,
   "metadata": {},
   "outputs": [],
   "source": [
    "class GrapheLs:\n",
    "    def __init__ (self, sommets):\n",
    "        self.sommets = sommets\n",
    "        self.dict = dict()\n",
    "        \n",
    "    def ajouter_arete (self, x, y):\n",
    "        if x in self.dict:\n",
    "            self.dict[x].add(y)\n",
    "        else:\n",
    "            self.dict[x]={y}\n",
    "        if y in self.dict:\n",
    "            self.dict[y].add(x)\n",
    "        else:\n",
    "            self.dict[y]={x}        \n",
    "    \n",
    "    def sommets (self):\n",
    "        return self.sommets\n",
    "    \n",
    "    def voisins (self, sommet):\n",
    "        return list(self.dict[sommet])"
   ]
  },
  {
   "cell_type": "code",
   "execution_count": null,
   "metadata": {},
   "outputs": [],
   "source": [
    "g2 = GrapheLs(['a', 'b', 'c', 'd'])\n",
    "g2.ajouter_arete('a','b')\n",
    "g2.ajouter_arete('a','c')\n",
    "g2.ajouter_arete('c','d')"
   ]
  },
  {
   "cell_type": "markdown",
   "metadata": {},
   "source": [
    "On peut vérifier la bonne saisie des listes de successeurs :"
   ]
  },
  {
   "cell_type": "code",
   "execution_count": null,
   "metadata": {},
   "outputs": [],
   "source": [
    "g2.dict"
   ]
  },
  {
   "cell_type": "markdown",
   "metadata": {},
   "source": [
    "Cependant, on accède de préférence au graphe à travers les fonctions de l'interface du type abstrait :"
   ]
  },
  {
   "cell_type": "code",
   "execution_count": null,
   "metadata": {},
   "outputs": [],
   "source": [
    "print(g2.sommets)\n",
    "print(g2.voisins('c'))"
   ]
  },
  {
   "cell_type": "markdown",
   "metadata": {},
   "source": [
    "**Activité** : proposer un nouvelle implémentation du type abstrait `GrapheOriente` par des listes de successeurs."
   ]
  },
  {
   "cell_type": "code",
   "execution_count": null,
   "metadata": {},
   "outputs": [],
   "source": []
  },
  {
   "cell_type": "markdown",
   "metadata": {},
   "source": [
    "## Passer d'une représentation à l'autre\n",
    "\n",
    "Avec le type abstrait défini et les représentations symboliques choisies, passer d'une représentation à l'autre consiste simplement à énumérer les sommets et les voisins depuis une représentation tout en construisant l'autre représentation."
   ]
  },
  {
   "cell_type": "code",
   "execution_count": null,
   "metadata": {},
   "outputs": [],
   "source": [
    "def matrice_adjacence2listes_successeurs (gma):\n",
    "    gls = GrapheLs(gma.sommets)\n",
    "    for x in gma.sommets:\n",
    "        for y in gma.voisins(x):\n",
    "            gls.ajouter_arete(x,y)\n",
    "    return(gls)"
   ]
  },
  {
   "cell_type": "markdown",
   "metadata": {},
   "source": [
    "On vérifie qu'après traduction de la matrice d'adjacence, on obtient bien les listes de successeurs correspondantes."
   ]
  },
  {
   "cell_type": "code",
   "execution_count": null,
   "metadata": {},
   "outputs": [],
   "source": [
    "g3 = matrice_adjacence2listes_successeurs(g1)\n",
    "g3.dict"
   ]
  },
  {
   "cell_type": "markdown",
   "metadata": {},
   "source": [
    "**Activité** : Ecrire la fonction de traduction réciproque permettant de passer des listes de successeurs à une matrice d'adjacence."
   ]
  },
  {
   "cell_type": "code",
   "execution_count": null,
   "metadata": {},
   "outputs": [],
   "source": []
  },
  {
   "cell_type": "markdown",
   "metadata": {},
   "source": [
    "## Bilan\n",
    "\n",
    "Le type abstrait défini permet une manipulation symbolique des graphes en nommant les sommets et en utilisant ces noms pour rechercher les voisins d'un sommet.\n",
    "\n",
    "On aurait pu manipuler directement des matrices avec uniquement des indices et utiliser aussi ces indices dans les listes de successeurs. La facilité d'usage apportée par le nommage des entités manipulées simplifie la modélisation et l'interprétation des résultats obtenus.\n",
    "\n",
    "La programmation par des classes de deux implémentations d'un même type abstrait simplifie aussi le passage d'une représentation à l'autre. En effet, le travail nécessaire pour créer les arêtes correspondant aux voisins d'un sommet a déjà été programmé dans les méthodes permettant de calculer les voisins et de créer des arêtes.\n"
   ]
  },
  {
   "cell_type": "markdown",
   "metadata": {},
   "source": [
    "Equipe pédagoqique DIU EIL, ressource éducative libre distribuée sous [Licence Creative Commons Attribution - Pas d’Utilisation Commerciale - Partage dans les Mêmes Conditions 4.0 International](http://creativecommons.org/licenses/by-nc-sa/4.0/) ![Licence Creative Commons](https://i.creativecommons.org/l/by-nc-sa/4.0/88x31.png)"
   ]
  }
 ],
 "metadata": {
  "kernelspec": {
   "display_name": "Python 3",
   "language": "python",
   "name": "python3"
  },
  "language_info": {
   "codemirror_mode": {
    "name": "ipython",
    "version": 3
   },
   "file_extension": ".py",
   "mimetype": "text/x-python",
   "name": "python",
   "nbconvert_exporter": "python",
   "pygments_lexer": "ipython3",
   "version": "3.6.8"
  }
 },
 "nbformat": 4,
 "nbformat_minor": 2
}
