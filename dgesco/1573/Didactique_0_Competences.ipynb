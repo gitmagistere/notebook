{
 "cells": [
  {
   "cell_type": "markdown",
   "metadata": {},
   "source": [
    "# Didactique de l'informatique - les compétences"
   ]
  },
  {
   "cell_type": "markdown",
   "metadata": {},
   "source": [
    "## \"Computational thinking\" ou \"pensée informatique\"\n",
    "\n",
    "L'expression \"computational thinking\" introduite par Jeannette Wing fait référence à des compétences et des habiletés humaines, pouvant être développées à l'occasion d'activité de programmation, et transférables à bien d'autres situations de type \"résolution de problème\".\n",
    "\n",
    "Il ne s'agit pas de penser comme une machine, mais de décrire les compétences cognitives en jeu pour résoudre - entre autres - un problème informatique - ou plutôt pour le faire résoudre par une machine.\n",
    "\n",
    "Il s'agit donc d'activité cognitive de haut niveau et donc bien d'une activité humaine. L'énumération des compétences en jeu fait débat. La traduction française aussi fait débat. \"Thinking\" aurait pu être traduit par \"réflexion\".\n",
    "Le terme \"computationnel\" n'existant pas, l'adjectif \"calculatoire\" est le plus proche mais semble réducteur.\n",
    "\n",
    "Dans le contexte de l'apprentissage de la programmation, on utilise les compétences proposées par Dagiene pour décrire  et qualifier les activités proposées à des élèves :\n",
    "* **Evaluer** : capacité  à attribuer mentalement une valeur (résultat, type...) à un programme donné. \n",
    "* **Anticiper** : capacité à se mettre dans la posture du programmeur qui doit décrire dans un algorithme l'enchaînement séquentiel/répétitif/conditionnel des instructions, avant même le début de son exécution.\n",
    "* **Décomposer** : capacité à transformer un problème complexe en un ensemble de problèmes plus simples équivalents au problème initial.\n",
    "* **Généraliser** : capacité à inférer un problème général à partir d'une instance de ce problème, et à repérer dans un problème particulier la répétition de traitements ou de données suivant un même schéma.\n",
    "* **Abstraire** : capacité à \"faire abstraction\" des informations non pertinentes et à créer des solutions où la manière dont un problème est résolu peut être \"abstraite\" à l'aide d'une interface pertinente."
   ]
  },
  {
   "cell_type": "markdown",
   "metadata": {},
   "source": [
    "Savoir **évaluer** consiste par exemple à calculer le type du résultat, ou à calculer le résultat lui-même. Exemple de question : quel est le résultat de l'exécution du programme suivant ?"
   ]
  },
  {
   "cell_type": "code",
   "execution_count": null,
   "metadata": {},
   "outputs": [],
   "source": [
    "p = [1, 4, 3]\n",
    "x = 10\n",
    "p[0] * x**2 + p[1] * x + p[2]"
   ]
  },
  {
   "cell_type": "markdown",
   "metadata": {},
   "source": [
    "Savoir **anticiper** consiste, par exemple, à imaginer une suite de calculs permettant d'obtenir le résultat. Exemple d'activité : écrire une suite d'affectations calculant le même résultat sans utiliser l'opérateur `**`."
   ]
  },
  {
   "cell_type": "code",
   "execution_count": null,
   "metadata": {},
   "outputs": [],
   "source": [
    "y = 0\n",
    "y = y * x + p[0]\n",
    "y = y * x + p[1]\n",
    "y = y * x + p[2]\n",
    "y"
   ]
  },
  {
   "cell_type": "markdown",
   "metadata": {},
   "source": [
    "Savoir **généraliser** permet de reconnaître un schéma de répétition,"
   ]
  },
  {
   "cell_type": "code",
   "execution_count": null,
   "metadata": {},
   "outputs": [],
   "source": [
    "y = 0\n",
    "for i in range (3):\n",
    "    y = y * x + p[i]\n",
    "y"
   ]
  },
  {
   "cell_type": "markdown",
   "metadata": {},
   "source": [
    "et aussi de passer à une instance plus générale du problème."
   ]
  },
  {
   "cell_type": "code",
   "execution_count": null,
   "metadata": {},
   "outputs": [],
   "source": [
    "y = 0\n",
    "for i in range (len(p)):\n",
    "    y = y * x + p[i]\n",
    "y"
   ]
  },
  {
   "cell_type": "markdown",
   "metadata": {},
   "source": [
    "Savoir **abstraire** permet de donner une solution qui pourra être utilisée sans en connaître les détails internes."
   ]
  },
  {
   "cell_type": "code",
   "execution_count": null,
   "metadata": {},
   "outputs": [],
   "source": [
    "def EvaluerPolynome(p, x):\n",
    "    '''Evalue le polynome p en un point x\n",
    "    Le polynome est donné par la liste de ses coefficients par degrés décroissants\n",
    "    '''\n",
    "    y = 0\n",
    "    for i in range (len(p)):\n",
    "        y = y * x + p[i]\n",
    "    return(y)"
   ]
  },
  {
   "cell_type": "code",
   "execution_count": null,
   "metadata": {},
   "outputs": [],
   "source": [
    "EvaluerPolynome([1, 4, 3], 10)"
   ]
  },
  {
   "cell_type": "markdown",
   "metadata": {},
   "source": [
    "Savoir **décomposer** est nécessaire si la question initiale est plus complexe, par exemple \"trouver les zéros d'une fonction polynôme quelconque par une méthode numérique\". Un des sous-problèmes pouvant être isolé simplement est justement de savoir \"évaluer un polynôme en un point x\"."
   ]
  },
  {
   "cell_type": "markdown",
   "metadata": {},
   "source": [
    "## Préambule commun aux programmes de première et de terminale NSI\n",
    "\n",
    "Le préambule contient des références explicites à 3 des 5 compétences décrites plus haut.\n",
    "\n",
    "> Il permet de développer des compétences :\n",
    "* analyser et modéliser un problème en termes de flux et de traitement d’informations ;\n",
    "* **décomposer** un problème en sous-problèmes, reconnaître des situations déjà analysées et\n",
    "réutiliser des solutions ;\n",
    "* concevoir des solutions algorithmiques ;\n",
    "* traduire un algorithme dans un langage de programmation, en spécifier les interfaces et les\n",
    "interactions, comprendre et réutiliser des codes sources existants, développer des processus de\n",
    "mise au point et de validation de programmes ;\n",
    "* mobiliser les concepts et les technologies utiles pour assurer les fonctions d’acquisition, de\n",
    "mémorisation, de traitement et de diffusion des informations ;\n",
    "* développer des capacités d’**abstraction** et de **généralisation**.\n",
    "\n",
    " La compétence **anticiper** est évoquée en d'autres termes par la formulation *concevoir des solutions algorithmiques*. On retrouve la compétence **évaluer** dans les formulations voisines *analyser* et *comprendre*."
   ]
  },
  {
   "cell_type": "markdown",
   "metadata": {},
   "source": [
    "### Références\n",
    "\n",
    "* [Jeannette M. Wing, Computational Thinking, COMMUNICATIONS OF THE ACM, March  2006/Vol. 49, No. 3](https://www.cs.cmu.edu/~15110-s13/Wing06-ct.pdf)\n",
    "\n",
    "* Dagiene, V., Sentance, S., Stupuriene, G. : Developing a two-dimensional categorization system for educational tasks in informatics. Informatica 28(1) (2017)"
   ]
  },
  {
   "cell_type": "markdown",
   "metadata": {},
   "source": [
    "Equipe pédagoqique DIU EIL, ressource éducative libre distribuée sous [Licence Creative Commons Attribution - Pas d’Utilisation Commerciale - Partage dans les Mêmes Conditions 4.0 International](http://creativecommons.org/licenses/by-nc-sa/4.0/) ![Licence Creative Commons](https://i.creativecommons.org/l/by-nc-sa/4.0/88x31.png)"
   ]
  }
 ],
 "metadata": {
  "kernelspec": {
   "display_name": "Python 3",
   "language": "python",
   "name": "python3"
  },
  "language_info": {
   "codemirror_mode": {
    "name": "ipython",
    "version": 3
   },
   "file_extension": ".py",
   "mimetype": "text/x-python",
   "name": "python",
   "nbconvert_exporter": "python",
   "pygments_lexer": "ipython3",
   "version": "3.7.3"
  }
 },
 "nbformat": 4,
 "nbformat_minor": 1
}
