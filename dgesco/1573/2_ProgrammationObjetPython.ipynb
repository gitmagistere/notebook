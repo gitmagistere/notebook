{
 "cells": [
  {
   "cell_type": "markdown",
   "metadata": {},
   "source": [
    "# Programmation objet : des principes généraux aux classes de Python"
   ]
  },
  {
   "cell_type": "markdown",
   "metadata": {},
   "source": [
    "## Définitions\n",
    "\n",
    "La programmation objet consiste à regouper données et traitements dans une même structure appelée **objet**. C'est un paradigme - manière de voir - de programmation qui a l'avantage de localiser en un même endroit toute l'implémentation d'une structure de données abstraite.\n",
    "\n",
    "Les données associées à un objet sont appelés des **attributs**.\n",
    "\n",
    "Les fonctions ou procédures s'appliquant sur un objet sont appelées des **méthodes**.\n",
    "\n",
    "Une **classe** est à la fois un modèle d'objet et une machine à fabriquer des objets sur ce modèle."
   ]
  },
  {
   "cell_type": "markdown",
   "metadata": {},
   "source": [
    "## Un premier exemple : la classe `Point`\n",
    "\n",
    "On cherche à définir une classe pour représenter des points à afficher dans un programme de dessin.\n",
    "Chaque point a ses coordonnées `x` et `y`. La méthode `translater` permet de modifier un point.\n",
    "\n",
    "Les attributs d'un point `p` sont notés usuellement avec la notation pointée `p.x` et `p.y`.\n",
    "\n",
    "L'application d'une méthode est aussi notée par la notation pointée : `p.translater(dx, dy)`"
   ]
  },
  {
   "cell_type": "markdown",
   "metadata": {},
   "source": [
    "## Une première classe en Python\n",
    "\n",
    "La premiere notation à connaître est la notation de **classe**. Le nom donné à une classe est le nom du constructeur d'objets de cette classe. Par convention, les noms de classes en Python sont écrits en capitales (première lettre en majuscule).\n",
    "\n",
    "Toutes les fonctions définies de manière interne à une classe sont des méthodes. Leur premier paramètre fait référence à l'objet sur lequel est appelée la méthode."
   ]
  },
  {
   "cell_type": "code",
   "execution_count": null,
   "metadata": {},
   "outputs": [],
   "source": [
    "class Point:\n",
    "    \"\"\"Manipulation de points.\"\"\"\n",
    "\n",
    "    def placer(self, abscisse, ordonnee):\n",
    "        \"Place le point aux coordonnées indiquées\"\n",
    "        self.x, self.y = abscisse, ordonnee\n",
    "    \n",
    "    def translater(self, dx, dy):\n",
    "        \"Translate le point selon le vecteur (dx,dy)\"\n",
    "        self.placer(self.x + dx, self.y + dy)"
   ]
  },
  {
   "cell_type": "markdown",
   "metadata": {},
   "source": [
    "On peut créer un objet `p` par appel du constructeur prédéfini de la classe. On peut ensuite appeler les différentes méthodes sur cet objet avec la notation pointée. C'est l'objet `p` qui est alors passé comme valeur du paramètre `self`. \n",
    "\n",
    "**Remarque** : En Python, le mot `self` n'est pas un mot clé. C'est une simple convention d'usage de nommer ainsi le premier paramètre d'une méthode."
   ]
  },
  {
   "cell_type": "code",
   "execution_count": null,
   "metadata": {},
   "outputs": [],
   "source": [
    "p = Point()\n",
    "p.placer(3,7)\n",
    "p.x, p.y"
   ]
  },
  {
   "cell_type": "code",
   "execution_count": null,
   "metadata": {},
   "outputs": [],
   "source": [
    "p.translater(1,2)\n",
    "p.x, p.y"
   ]
  },
  {
   "cell_type": "markdown",
   "metadata": {},
   "source": [
    "Les **attributs** `x` et `y` sont propres à chaque objet. Dans la terminologie des langages à objet, on parle d' *attributs d'instance*.\n",
    "\n",
    "**Remarque**: En Python, c'est par la notation `self.x` que l'attribut `x` est créé pour l'objet sur lequel est appelée la méthode."
   ]
  },
  {
   "cell_type": "markdown",
   "metadata": {},
   "source": [
    "### Création et initialisation d'un objet en Python\n",
    "\n",
    "La création standard d'un objet par la méthode de sa classe, crée des objets sans attributs. Pour que les méthodes puissent s'appliquer sans erreur, il faut cependant que tous les objets d'une classe possèdent certains attributs. Dans l'exemple de la classe `Point`, la méthode `translater` ne peut s'appliquer qu'à des objets ayant les attributs `x` et `y`.\n",
    "\n",
    "C'est pour cette raison, qu'une méthode d'initialisation des objets créant des attributs est nécessaire. En Python, c'est la méthode spéciale `__init__`, si elle est définie dans la classe, qui est systématiquement appelée sur chaque nouvel objet juste après sa création."
   ]
  },
  {
   "cell_type": "code",
   "execution_count": null,
   "metadata": {},
   "outputs": [],
   "source": [
    "class Point:\n",
    "    \"\"\"Manipulation de points.\"\"\"\n",
    "\n",
    "    def __init__(self, abscisse, ordonnee):\n",
    "        \"Initialise le point avec les coordonnées indiquées\"\n",
    "        self.x, self.y = abscisse, ordonnee\n",
    "    \n",
    "    def translater(self, dx, dy):\n",
    "        \"Translate le point selon le vecteur (dx,dy)\"\n",
    "        self.x += dx\n",
    "        self.y += dy"
   ]
  },
  {
   "cell_type": "markdown",
   "metadata": {},
   "source": [
    "On peut alors créer un point en fournissant les valeurs des paramètres prévus dans la fonction spéciale d'initialisation.\n",
    "\n",
    "Si tous les points de cette classe sont créés ainsi, ils disposent alors des attributs usuels d'un point et peuvent être translatés, sans problème."
   ]
  },
  {
   "cell_type": "code",
   "execution_count": null,
   "metadata": {},
   "outputs": [],
   "source": [
    "p = Point(12,6)\n",
    "p.translater(1,2)\n",
    "p.x, p.y"
   ]
  },
  {
   "cell_type": "markdown",
   "metadata": {},
   "source": [
    "**Activité** : créer une classe `Temps` avec des attributs d'instance `h` , `mn`et `s`, une méthode d'initialisation, et une méthode `addition`."
   ]
  },
  {
   "cell_type": "code",
   "execution_count": null,
   "metadata": {},
   "outputs": [],
   "source": []
  },
  {
   "cell_type": "markdown",
   "metadata": {},
   "source": [
    "**Activité** : créer une classe `Complexe` avec des attributs d'instance `re` et `im`, une méthode d'initialisation, et des méthodes `module` et `argument`."
   ]
  },
  {
   "cell_type": "code",
   "execution_count": null,
   "metadata": {},
   "outputs": [],
   "source": []
  },
  {
   "cell_type": "markdown",
   "metadata": {},
   "source": [
    "## Classes et objets en Python\n",
    "\n",
    "En réalité, objets et classes sont omni-présents dans le langage Python, car servent à l'implémentation des structures de données et bibliothèques du langage.\n",
    "\n",
    "On le constate en particulier avec la fonction `dir` qui liste tous les attributs et méthodes d'un objet. \n",
    "\n",
    "Cette fonction peut être appelée pour un objet créé par le programmeur."
   ]
  },
  {
   "cell_type": "code",
   "execution_count": null,
   "metadata": {},
   "outputs": [],
   "source": [
    "dir(p)"
   ]
  },
  {
   "cell_type": "markdown",
   "metadata": {},
   "source": [
    "`dir` peut aussi être appelé pour un objet prédéfini du langage, une liste par exemple. On y découvre toutes les méthodes applicables à une liste."
   ]
  },
  {
   "cell_type": "code",
   "execution_count": null,
   "metadata": {
    "scrolled": true
   },
   "outputs": [],
   "source": [
    "l = [1, 8, 7]\n",
    "dir(l)"
   ]
  },
  {
   "cell_type": "markdown",
   "metadata": {},
   "source": [
    "On constate qu'il y a de nombreuses méthodes spéciales repérables par leur nom encadré de `__`."
   ]
  },
  {
   "cell_type": "markdown",
   "metadata": {},
   "source": [
    "### Méthodes spéciales en Python\n",
    "\n",
    "Ces méthodes sont appelées dans des contextes particuliers et peuvent être redéfinies par le programmeur pour une classe particulière.\n",
    "\n",
    "- A l'initialisation d'un objet, c'est la méthode : `__init__(self, ...)`\n",
    "- Lors de la conversion en chaîne par `str(obj)` ou affichage avec `print(obj)`, c'est la méthode : `__str__(self)`\n",
    "- La conversion en chaîne \"évaluable\" par `repr(obj)` utilise la méthode : `__repr__(self)` qui peut aussi être utilisée par  `str` ou  `print`, si `__str__` n'est pas définie.\n",
    "- Le test d'égalité entre deux objets, invoque la méthode `__eq__(self, other)`\n",
    "- L'addition d'un objet avec un autre utilise la méthode `__add__(self, other)`\n",
    "\n",
    "voir [ici](https://docs.python.org/3/reference/datamodel.html#special-method-names) pour la liste complète."
   ]
  },
  {
   "cell_type": "markdown",
   "metadata": {},
   "source": [
    "### Suite de l'exemple de la classe `Point` \n",
    "\n",
    "On utilise ces méthodes spéciales pour permettre d'afficher une représentation externe d'un point et proposer une *addition* de deux points. "
   ]
  },
  {
   "cell_type": "code",
   "execution_count": null,
   "metadata": {},
   "outputs": [],
   "source": [
    "class Point:\n",
    "    \"\"\"Manipulation de points.\"\"\"\n",
    "\n",
    "    def __init__(self, abscisse, ordonnee):\n",
    "        \"Initialise le point avec les coordonnées indiquées\"\n",
    "        self.x, self.y = abscisse, ordonnee\n",
    "    \n",
    "    def translater(self, dx, dy):\n",
    "        \"Translate le point selon le vecteur (dx,dy)\"\n",
    "        self.x += dx\n",
    "        self.y += dy\n",
    "        \n",
    "    def __add__ (self, other): \n",
    "        return Point(self.x + other.x, self.y + other.y)\n",
    "    \n",
    "    def __repr__ (self): \n",
    "        return(str(self.x)+ \",\" + str(self.y))"
   ]
  },
  {
   "cell_type": "code",
   "execution_count": null,
   "metadata": {},
   "outputs": [],
   "source": [
    "p = Point(1,5)\n",
    "q = Point(3,8)\n",
    "p + q"
   ]
  },
  {
   "cell_type": "markdown",
   "metadata": {},
   "source": [
    "**Activité** : Ajouter une méthode d'addition à la classe `Complexe` et une méthode permettant d'afficher une représentation lisible de la forme `a + i b`."
   ]
  },
  {
   "cell_type": "code",
   "execution_count": null,
   "metadata": {},
   "outputs": [],
   "source": []
  },
  {
   "cell_type": "markdown",
   "metadata": {},
   "source": [
    "## Bilan\n",
    "\n",
    "Avec les notations introduites dans ce document, on peut traiter complètement le thème *programmation objet* du programme de spécialité en terminale.\n",
    "\n",
    "* Vocabulaire de la programmation objet : classes, attributs, méthodes, objets.\n",
    "\n",
    "* Écrire la définition d’une classe. Accéder aux attributs et méthodes d’une classe."
   ]
  },
  {
   "cell_type": "markdown",
   "metadata": {},
   "source": [
    "Equipe pédagoqique DIU EIL, ressource éducative libre distribuée sous [Licence Creative Commons Attribution - Pas d’Utilisation Commerciale - Partage dans les Mêmes Conditions 4.0 International](http://creativecommons.org/licenses/by-nc-sa/4.0/) ![Licence Creative Commons](https://i.creativecommons.org/l/by-nc-sa/4.0/88x31.png)"
   ]
  }
 ],
 "metadata": {
  "kernelspec": {
   "display_name": "Python 3",
   "language": "python",
   "name": "python3"
  },
  "language_info": {
   "codemirror_mode": {
    "name": "ipython",
    "version": 3
   },
   "file_extension": ".py",
   "mimetype": "text/x-python",
   "name": "python",
   "nbconvert_exporter": "python",
   "pygments_lexer": "ipython3",
   "version": "3.6.8"
  }
 },
 "nbformat": 4,
 "nbformat_minor": 2
}
