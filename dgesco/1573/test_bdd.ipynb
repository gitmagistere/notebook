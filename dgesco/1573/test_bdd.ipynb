{
 "cells": [
  {
   "cell_type": "markdown",
   "metadata": {},
   "source": [
    "# Test notebook BDD Films\n",
    "\n",
    "`films.db` est un portage vers sqlite3 de ta bdd (ça a fonctionné presque sans accroc, il doit y avoir exactement les mêmes enregistrements).\n",
    "J'ai écrit le module `requestdb.py` qui donne accès à deux méthodes : `query` et `infos`.\n",
    "Il n'y a pas de protection contre la modif de la BDD, mais a priori (à vérifier), le fichier hébergé par le serveur de notebooks est en lecture seule.\n",
    "Les erreurs dans les requêtes sont capturées pour avoir un retour propre (plutôt qu'un Traceback Python). \n",
    "Si certaines erreurs provoquent l'affichage d'une traceback, il faudra modifier `requestdb.py`."
   ]
  },
  {
   "cell_type": "code",
   "execution_count": null,
   "metadata": {},
   "outputs": [],
   "source": [
    "from requestdb import RequestDB"
   ]
  },
  {
   "cell_type": "markdown",
   "metadata": {},
   "source": [
    "Création de l'objet BDD."
   ]
  },
  {
   "cell_type": "code",
   "execution_count": null,
   "metadata": {},
   "outputs": [],
   "source": [
    "db = RequestDB(\"data/films.db\")"
   ]
  },
  {
   "cell_type": "markdown",
   "metadata": {},
   "source": [
    "Par défaut le résultat ne s'affiche que lorque la réponse contient moins de 20 lignes.\n",
    "Mais on peut le modifier :"
   ]
  },
  {
   "cell_type": "code",
   "execution_count": null,
   "metadata": {
    "scrolled": false
   },
   "outputs": [],
   "source": [
    "db.query(\"SELECT * from film where annee > 2019;\")"
   ]
  },
  {
   "cell_type": "code",
   "execution_count": null,
   "metadata": {},
   "outputs": [],
   "source": [
    "db.query(\"SELECT * from film where annee > 2000;\")"
   ]
  },
  {
   "cell_type": "markdown",
   "metadata": {},
   "source": [
    "On peut aussi avoir des infos sur la BDD (rappels des noms de tables et de champs)"
   ]
  },
  {
   "cell_type": "code",
   "execution_count": null,
   "metadata": {},
   "outputs": [],
   "source": [
    "db.infos()"
   ]
  }
 ],
 "metadata": {
  "kernelspec": {
   "display_name": "Python 3",
   "language": "python",
   "name": "python3"
  },
  "language_info": {
   "codemirror_mode": {
    "name": "ipython",
    "version": 3
   },
   "file_extension": ".py",
   "mimetype": "text/x-python",
   "name": "python",
   "nbconvert_exporter": "python",
   "pygments_lexer": "ipython3",
   "version": "3.8.2"
  },
  "notebookname": "Test BDD Sqlite",
  "version": "0.2"
 },
 "nbformat": 4,
 "nbformat_minor": 2
}
