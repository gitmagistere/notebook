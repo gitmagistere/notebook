{
 "cells": [
  {
   "cell_type": "markdown",
   "metadata": {},
   "source": [
    "# Programmation fonctionnelle en Python : pour en savoir plus\n",
    "\n",
    "Les éléments présentés ici ne sont pas au programme de la spécialité NSI au lycée. Ce sont des éléments de réflexion et de compréhension pour l'enseignant."
   ]
  },
  {
   "cell_type": "markdown",
   "metadata": {},
   "source": [
    "## Compétences pour la programmation fonctionnelle\n",
    "\n",
    "L'activité du programmeur peut sembler assez différente en programmation impérative ou fonctionnelle. Effectivement, l'ordre dans lequel on appréhende les problèmes à résoudre diffère :\n",
    "* en impératif, on doit penser la suite des ordres à appliquer pour progresser des données vers le résultat,\n",
    "* en fonctionnel, on commence par écrire l'expression du résultat à calculer. \n",
    "\n",
    "Les compétences en jeu pour programmer de manière fonctionnelle sont cependant les mêmes qu'en programmation impérative:\n",
    "* savoir **évaluer** la valeur d'une expression,\n",
    "* savoir **anticiper** en écrivant le résultat attendu selon les valeurs des paramètres,\n",
    "* savoir **décomposer** pour mettre en évidence une composition de fonctions,\n",
    "* savoir **abstraire** en nommant un calcul par la fonction qui peut l'effectuer,\n",
    "* savoir **généraliser** en identifiant un motif de récurrence connu."
   ]
  },
  {
   "cell_type": "markdown",
   "metadata": {},
   "source": [
    "## La récursivité\n",
    "\n",
    "On distingue la récursivité **terminale** et **non terminale**.\n",
    "\n",
    "Une fonction récursive est dite terminale si et seulement aucun appel récursif à la fonction en cours de définition n'est situé à l'intérieur d'une expression à évaluer *après* l'évaluation de l'appel récursif.\n",
    "\n",
    "Elle est non terminale dans le cas opposé.\n",
    "\n",
    "On peut constater le caractère terminal ou non, simplement à la lecture du texte de la fonction.\n",
    "\n",
    "**Exemples** : la fonction `fact` ci-dessous est non-terminale. La fonction `modulo` ci-dessous est terminale. "
   ]
  },
  {
   "cell_type": "code",
   "execution_count": null,
   "metadata": {},
   "outputs": [],
   "source": [
    "def fact(n):\n",
    "    return 1 if n==0 else n * fact(n-1)\n",
    "\n",
    "fact(5)"
   ]
  },
  {
   "cell_type": "code",
   "execution_count": null,
   "metadata": {},
   "outputs": [],
   "source": [
    "def modulo(a,b):\n",
    "    return a if a < b else modulo (a-b, b)\n",
    "\n",
    "modulo(42, 15)"
   ]
  },
  {
   "cell_type": "markdown",
   "metadata": {},
   "source": [
    "**Remarque** : Pour observer le caractère terminal ou non d'une fonction récursive, on peut aussi utiliser un instrument adapté, par exemple l'environnement Thonny qui permet de visualiser en mode pas à pas, l'ensemble des appels récursifs par ouverture d'une nouvelle fenêtre à chaque appel d'une fonction.\n",
    "\n",
    "Si le résultat final est calculé dans le dernier appel récursif et transmis en cascade aux appels précédents, la récursivité est terminale.\n",
    "\n",
    "Si un résultat intermédiaire d'un appel sert d'argument à un calcul ultérieur, la récursivité est non terminale.\n",
    "\n",
    "Cette distinction est utile pour évaluer la complexité en mémoire d'une fonction récursive. Dans le cas terminal, les contextes intermédiaires n'ont pas besoin d'être mémorisés. La récursion peut être traduite par une simple itération."
   ]
  },
  {
   "cell_type": "markdown",
   "metadata": {},
   "source": [
    "## Des schémas standards d'algorithmes récursifs\n",
    "\n",
    "Le schéma suivant de **fonction récursive non terminale** applique une fonction de base `b` à `x`, si le prédicat `p` est vrai en `x`, sinon applique la fonction `f` avec le résultat de l'appel récursif sur la valeur suivante de `x`, calculée par `s`.\n",
    "\n",
    "Ce schéma permet de généraliser la fonction `fact`."
   ]
  },
  {
   "cell_type": "code",
   "execution_count": null,
   "metadata": {},
   "outputs": [],
   "source": [
    "def frecnt (x, b, p, s, f):\n",
    "    return b(x) if p(x) else f (x, frecnt(s(x), b, p, s, f))\n",
    "\n",
    "frecnt(5, lambda x : 1, lambda x : x == 0, lambda x : x -1, lambda x, r : x * r)"
   ]
  },
  {
   "cell_type": "markdown",
   "metadata": {},
   "source": [
    "Il permet aussi de calculer $2^n$..."
   ]
  },
  {
   "cell_type": "code",
   "execution_count": null,
   "metadata": {},
   "outputs": [],
   "source": [
    "frecnt(10, lambda x : 1, lambda x : x == 0, lambda x : x -1, lambda x, r : 2 * r)"
   ]
  },
  {
   "cell_type": "markdown",
   "metadata": {},
   "source": [
    "... ou la somme des n premiers entiers positifs."
   ]
  },
  {
   "cell_type": "code",
   "execution_count": null,
   "metadata": {},
   "outputs": [],
   "source": [
    "frecnt(10, lambda x : 0, lambda x : x == 0, lambda x : x -1, lambda x, r : x + r)"
   ]
  },
  {
   "cell_type": "markdown",
   "metadata": {},
   "source": [
    "Le schéma suivant de **fonction récursive terminale**, applique une fonction de base `b` à `x`, si le prédicat `p` est vrai en `x`, sinon donne le résultat de l'appel récursif sur la valeur suivante de `x`, calculée par `s`.\n",
    "\n",
    "Il permet de réécrire la fonction `modulo`..."
   ]
  },
  {
   "cell_type": "code",
   "execution_count": null,
   "metadata": {},
   "outputs": [],
   "source": [
    "def frect (x, b, p, s):\n",
    "    return b(x) if p(x) else frect(s(x), b, p, s)\n",
    "\n",
    "frect((42,15), lambda x : x[0], lambda x : x[0] < x[1], lambda x : (x[0]-x[1], x[1]))"
   ]
  },
  {
   "cell_type": "markdown",
   "metadata": {},
   "source": [
    "... et aussi une version terminale de la fonction `fact` en ajoutant un second paramètre pour accumuler la valeur du résultat."
   ]
  },
  {
   "cell_type": "code",
   "execution_count": null,
   "metadata": {},
   "outputs": [],
   "source": [
    "frect((10,1), lambda x : x[1], lambda x : x[0] == 0, lambda x : (x[0]-1, x[0]*x[1]))"
   ]
  },
  {
   "cell_type": "markdown",
   "metadata": {},
   "source": [
    "**Activité** : utiliser un de ces deux schémas pour réécrire la fonction `pgcd`, la fonction `renverse`..."
   ]
  },
  {
   "cell_type": "code",
   "execution_count": null,
   "metadata": {},
   "outputs": [],
   "source": []
  },
  {
   "cell_type": "markdown",
   "metadata": {},
   "source": [
    "## De récursif en itératif\n",
    "\n",
    "Transformer une fonction récursive en une fonction itérative équivalente est simple dans le cas de récursivité terminale. \n",
    "\n",
    "Il suffit d'itérer jusqu'au cas de base - pour lequel `p(x)` est vrai - en modifiant la valeur du paramètre pour obtenir la valeur suivante. Le résultat final est alors donné par la fonction `b`. \n",
    "\n",
    "On a ainsi un schéma itératif de calcul équivalent au schéma récursif terminal."
   ]
  },
  {
   "cell_type": "code",
   "execution_count": null,
   "metadata": {},
   "outputs": [],
   "source": [
    "def fiter (x, b, p, s):\n",
    "    while not p(x):\n",
    "        x = s(x)    \n",
    "    return(b(x))\n",
    "\n",
    "fiter ((10,1), lambda x : x[1], lambda x : x[0] == 0, lambda x : (x[0]-1, x[0]*x[1]))"
   ]
  },
  {
   "cell_type": "markdown",
   "metadata": {},
   "source": [
    "**Activité** : tester ce schéma en l'utilisant  la place de `frect` dans l'activité précédente."
   ]
  },
  {
   "cell_type": "code",
   "execution_count": null,
   "metadata": {},
   "outputs": [],
   "source": []
  },
  {
   "cell_type": "markdown",
   "metadata": {},
   "source": [
    "### Cas de la récursivité non terminale\n",
    "\n",
    "Dérécursiver une fonction récursive non terminale est plus complexe, car après l'exécution de l'appel récursif `frecnt`, la valeur courante du paramètre `x`, est encore utilisée dans le calcul de `f`.\n",
    "\n",
    "La solution consiste alors à simuler ce que fait l'interprète du langage lors de l'exécution de fonctions récursives, à savoir empiler les valeurs actuelles des paramètres avant appel pour les dépiler - et retrouver ainsi leurs valeurs - au moment du retour de l'appel récursif.\n",
    "\n",
    "On utilise donc une pile appelée `contexte`, à laquelle on ajoute itérativement la valeur de `x` avant de passer à la suivante, jusqu'au cas de base. On peut alors dans la 2eme itération du programme, retrouver dans l'ordre en les dépilant, les valeurs successivement prises par `x` pour les utiliser dans les calculs successifs de `f`."
   ]
  },
  {
   "cell_type": "code",
   "execution_count": null,
   "metadata": {},
   "outputs": [],
   "source": [
    "def fiternt (x, b, p, s, f):\n",
    "    contexte = []\n",
    "    while not p(x):\n",
    "        contexte.append (x)\n",
    "        x = s(x)\n",
    "    r = b(x)\n",
    "    while contexte:\n",
    "        x = contexte.pop ()\n",
    "        r = f(x, r)\n",
    "    return(r)"
   ]
  },
  {
   "cell_type": "code",
   "execution_count": null,
   "metadata": {},
   "outputs": [],
   "source": [
    "fiternt(5, lambda x : 1, lambda x : x == 0, lambda x : x -1, lambda x, r : x * r)"
   ]
  },
  {
   "cell_type": "markdown",
   "metadata": {},
   "source": [
    "**Activité** : tester ce schéma en l'utilisant à la place des usages de `frectnt` dans les activités précédentes."
   ]
  },
  {
   "cell_type": "code",
   "execution_count": null,
   "metadata": {},
   "outputs": [],
   "source": []
  },
  {
   "cell_type": "markdown",
   "metadata": {},
   "source": [
    "## Des fonctions d'ordre supérieur\n",
    " \n",
    "Les fonctions `map`, `filter` et `reduce` sont communes en programmation fonctionnelle et permettent de programmer des schémas de fonctions récursives sur les listes. Elle sont aussi présentes en Python.\n",
    "\n",
    "* `map` permet d'appliquer la même fonction à tous les éléments d'une liste et de construire la liste des résultats.\n",
    "* `filter` permet de tester un prédicat sur tous les éléments d'une liste et de construire la liste des éléments le vérifiant.\n",
    "* `reduce` permet de généraliser un opérateur binaire associatif à tous les éléments d'une liste. Un paramètre optionnel permet de préciser la valeur à renvoyer pour une liste vide (l'élément neutre).\n"
   ]
  },
  {
   "cell_type": "markdown",
   "metadata": {},
   "source": [
    "On peut ainsi calculer la liste des 10 premières puissances de 2."
   ]
  },
  {
   "cell_type": "code",
   "execution_count": null,
   "metadata": {},
   "outputs": [],
   "source": [
    "list(map(lambda n: 2**n, range(10)))"
   ]
  },
  {
   "cell_type": "markdown",
   "metadata": {},
   "source": [
    "On peut filtrer une liste d'entiers pour ne conserver que les multiples de 3 ou de 5."
   ]
  },
  {
   "cell_type": "code",
   "execution_count": null,
   "metadata": {},
   "outputs": [],
   "source": [
    "list(filter(lambda n : n % 3 == 0 or n % 5 == 0, range(20)))"
   ]
  },
  {
   "cell_type": "markdown",
   "metadata": {},
   "source": [
    "On peut généraliser le `+` et $\\Sigma$ ou le `*` en $\\Pi$."
   ]
  },
  {
   "cell_type": "code",
   "execution_count": null,
   "metadata": {},
   "outputs": [],
   "source": [
    "import functools\n",
    "\n",
    "functools.reduce(lambda x, y: x + y, range(1,11))"
   ]
  },
  {
   "cell_type": "code",
   "execution_count": null,
   "metadata": {},
   "outputs": [],
   "source": [
    "functools.reduce(lambda x, y: x * y, range(1,11))"
   ]
  },
  {
   "cell_type": "markdown",
   "metadata": {},
   "source": [
    "### Une synthèse\n",
    "\n",
    "Voici un exemple de programme combinant toutes ces fonctions. L'exemple est inspiré du [problème 1 du projet Euler](https://projecteuler.net/problem=1) :\n",
    "\n",
    "> Si on liste tous les entiers naturels inférieurs à 10 qui sont multiples de 3 ou de 5, on obtient 3, 5, 6 and 9. La somme des carrés de ces multiples est 151.  \n",
    "> Trouver la somme des carrés des multiples de 3 ou 5 inférieurs à 1000."
   ]
  },
  {
   "cell_type": "code",
   "execution_count": null,
   "metadata": {},
   "outputs": [],
   "source": [
    "functools.reduce(\n",
    "    lambda m,n: m+n, \n",
    "    map(\n",
    "        lambda n: n*n, \n",
    "        filter(\n",
    "            lambda n: n%3==0 or n%5==0, \n",
    "            range(10)\n",
    "        )\n",
    "    )\n",
    ")"
   ]
  },
  {
   "cell_type": "markdown",
   "metadata": {},
   "source": [
    "**Activité** : Programmer des fonctions `mon_map(f, iterable)`, `mon_filter(f, iterable)`, `mon_reduce(f, iterable, initial=None)` ayant les mêmes effets que les fonctions présentées ici."
   ]
  },
  {
   "cell_type": "code",
   "execution_count": null,
   "metadata": {},
   "outputs": [],
   "source": []
  },
  {
   "cell_type": "markdown",
   "metadata": {},
   "source": [
    "## Bilan\n",
    "\n",
    "L'utilisation de fonctions en paramètres et la réflexion sur les schémas de fonctions permet de considérer des programmes comme des données et de construire des preuves. On a ainsi vu dans deux cas particuliers importants que tout programe récursif peut être traduit en programme impératif. Ce résultat est vrai de manière générale, attestant de l'équivalence en pouvoir d'expression de la programmation impérative et de la programmation fonctionnelle.\n",
    "\n",
    "On ne s'en étonnera pas, si on se réfère aux théories fondatrices de l'informatique : les machines de Turing sont le modèle de machine permettant d'exécuter un programme impératif, le lambda-calcul est la théorie sur laquelle repose les langages fonctionnels. La thèse de Church énonce l'équivalence de ces deux modèles pour définir l'ensemble des fonctions calculables.\n"
   ]
  },
  {
   "cell_type": "markdown",
   "metadata": {},
   "source": [
    "Equipe pédagoqique DIU EIL, ressource éducative libre distribuée sous [Licence Creative Commons Attribution - Pas d’Utilisation Commerciale - Partage dans les Mêmes Conditions 4.0 International](http://creativecommons.org/licenses/by-nc-sa/4.0/) ![Licence Creative Commons](https://i.creativecommons.org/l/by-nc-sa/4.0/88x31.png)"
   ]
  }
 ],
 "metadata": {
  "kernelspec": {
   "display_name": "Python 3",
   "language": "python",
   "name": "python3"
  },
  "language_info": {
   "codemirror_mode": {
    "name": "ipython",
    "version": 3
   },
   "file_extension": ".py",
   "mimetype": "text/x-python",
   "name": "python",
   "nbconvert_exporter": "python",
   "pygments_lexer": "ipython3",
   "version": "3.6.8"
  }
 },
 "nbformat": 4,
 "nbformat_minor": 2
}
