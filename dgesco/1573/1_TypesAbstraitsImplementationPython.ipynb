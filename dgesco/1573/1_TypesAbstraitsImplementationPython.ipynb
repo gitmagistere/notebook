{
 "cells": [
  {
   "cell_type": "markdown",
   "metadata": {},
   "source": [
    "# Types abstraits de données\n",
    "\n",
    "Un type abstrait de données est un ensemble de données - dont on ne précise par la représentation concrète - doté d'un ensemble d'opérations, dont on précise seulement les spécifications. On fait donc à la fois abstraction de la manière dont les données sont représentées et de la manière dont les opérations sont programmées.\n",
    "\n",
    "Le concept de type abstrait n'est pas lié à un langage de programmation particulier. Il peut être mis en oeuvre via des mécanismes de programmation, dont en particulier la programmation objet, la programmation modulaire ou la programmation avec des fonctions.\n",
    "\n",
    "Parmi les opérations sur un type de données abstrait, on distingue usuellement :\n",
    "- les constructeurs, qui permettent de créer des données,\n",
    "- les sélecteurs, qui permettent d'accéder à tout ou partie de l'information contenue dans une donnée,\n",
    "- les opérateurs, qui permettent d'opérer entre données du type (opération internes) ou avec d'autres types de données (opérations externes),\n",
    "- les prédicats, qui permettent de tester une propriété.\n",
    "\n",
    "L'ensemble des fonctionnalités disponibles pour un type de données en constitue l'**interface** - la partie visible pour qui veut utiliser ce type de données.\n",
    "\n",
    "L'**implémentation** consiste à *concrétiser* - réaliser effectivement - un type de données en définissant la représentation des données avec des types de données existant, et en écrivant les programmes des opérations."
   ]
  },
  {
   "cell_type": "markdown",
   "metadata": {},
   "source": [
    "## Un exemple : le type Rationnel\n",
    "\n",
    "On peut définir un type abstrait `Rationnel`, en définisssant l'ensemble de ses valeurs possibles par référence à l'ensemble des rationnels en mathématiques Q et en proposant l'interface suivante :\n",
    "- Un constructeur : `faitrationnel : Entier x Entier -> Rationnel`\n",
    "- Des sélecteurs : \n",
    "    - `numérateur : Rationnel -> Entier`\n",
    "    - `dénominateur : Rationnel -> Entier`\n",
    "- Des opérateurs : `+ : Rationnel x Rationnel -> Rationnel`, ...\n",
    "- Des prédicats : `egal : Rationnel x Rationnel -> Booléen`, ...\n",
    "\n",
    "Le programmeur utilisant ce type de données doit pouvoir écrire :\n",
    "```egal(faitrationnel(1,2)+ faitrationnel(1,6), faitrationnel(2,3))```\n",
    "et obtenir un résultat correct, sans se soucier de la manière dont les différents traitements sont programmés. Il peut *faire abstraction* de la représentation et du détail des calculs, et ne se soucie donc pas du moment où peut être effectuée ou non la simplification d'un rationnel.\n",
    "\n",
    "On peut imaginer deux implémentations assez différentes :\n",
    "- Si la simplification est faite à chaque opération, le test d'égalité peut se contenter de comparer deux à deux les numérateurs et dénominateurs.\n",
    "- Si la simplification des fractions n'est pas faite systématiquement, le test d'égalité doit se faire par le produit en croix."
   ]
  },
  {
   "cell_type": "markdown",
   "metadata": {},
   "source": [
    "**Activité** : Proposer la spécification d'un type abstrait `Temps`, permettant de construire des temps en heures, minutes, secondes, de faire des opérations (addition, soustraction), de comparer deux temps et d'afficher un temps sous un format usuel sous forme de chaîne de caractères.\n",
    "\n",
    "Proposer deux implémentations distinctes de ce type abstrait."
   ]
  },
  {
   "cell_type": "code",
   "execution_count": null,
   "metadata": {},
   "outputs": [],
   "source": []
  },
  {
   "cell_type": "markdown",
   "metadata": {},
   "source": [
    "## Un type abstrait : Liste d'éléments\n",
    "\n",
    "On peut définir un type abstrait `Liste d'éléments`, en précisant que l'on accepte uniquement des suites ordonnées d'éléments de même type et en spécifiant l'interface suivante :\n",
    "\n",
    "- Des constructeurs :\n",
    "    - pour construire une liste vide : `listevide :  -> Liste d'éléments`\n",
    "    - pour construire une liste contenant un premier élément et une suite : `construit : élément x Liste d'éléments -> Liste d'éléments`\n",
    "- Des sélecteurs pour accéder :\n",
    "    - soit au premier élément : `premier : Liste d'éléments -> élément`\n",
    "    - soit au reste de la liste : `reste : Liste d'éléments -> Liste d'éléments`\n",
    "- Un prédicat pour tester si une liste est vide : `estvide : Liste d'éléments -> booléen`\n",
    "\n",
    "On sait depuis les travaux de Mac Carthy sur le langage LISP, qu'avec ces 5 opérations on peut reconstruire toutes les opérations sur les listes. Par exemple pour obtenir le dernier élément d'une liste, il suffit d'en prendre le premier si le reste de la liste est vide, ou sinon de prendre le dernier du reste..."
   ]
  },
  {
   "cell_type": "markdown",
   "metadata": {},
   "source": [
    "### Implémentation naïve d'une liste avec des couples en Python\n",
    "\n",
    "Cette première implémentation est basée sur des paires qui comportent chacune un élément et la suite de la liste, qui elle-même peut être une paire... C'est donc une structure de données définie récursivement."
   ]
  },
  {
   "cell_type": "code",
   "execution_count": null,
   "metadata": {},
   "outputs": [],
   "source": [
    "def listevide ():\n",
    "    return None\n",
    "\n",
    "def construit (e,l):\n",
    "    return((e,l))\n",
    "\n",
    "def premier (l):\n",
    "    return l[0]\n",
    "\n",
    "def reste (l):\n",
    "    return l[1]\n",
    "\n",
    "def estvide (l):\n",
    "    return(l == None)"
   ]
  },
  {
   "cell_type": "markdown",
   "metadata": {},
   "source": [
    "### Utilisation de la 1ere implémentation"
   ]
  },
  {
   "cell_type": "code",
   "execution_count": null,
   "metadata": {},
   "outputs": [],
   "source": [
    "maliste1 = construit(1, construit(2, construit(3, listevide())))\n",
    "def dernier (l):\n",
    "    if estvide(reste(l)):\n",
    "        return premier(l)\n",
    "    else :\n",
    "        return dernier(reste(l))\n",
    "dernier(maliste1)"
   ]
  },
  {
   "cell_type": "markdown",
   "metadata": {},
   "source": [
    "### Implémentation avec le type list de Python\n",
    "\n",
    "Cette implémentation réutilise le type `list` de Python, qui est une structure de données mutable dont la taille peut varier dynamiquement. Les fonctions proposées effectuent des copies des listes obtenues en paramètre et ne les modifient pas."
   ]
  },
  {
   "cell_type": "code",
   "execution_count": null,
   "metadata": {},
   "outputs": [],
   "source": [
    "def listevide ():\n",
    "    return []\n",
    "\n",
    "def construit (e,l):\n",
    "    return([e]+l)\n",
    "\n",
    "def premier (l):\n",
    "    return l[0]\n",
    "\n",
    "def reste (l):\n",
    "    return l[1:]\n",
    "\n",
    "def estvide (l):\n",
    "    return(l == [])"
   ]
  },
  {
   "cell_type": "markdown",
   "metadata": {},
   "source": [
    "### Utilisation de la 2eme implémentation\n",
    "\n",
    "On n'utilise que les fonctions spécifiées dans l'interface du type abstrait. L'écriture est donc absolument identique à celle de la 1ere implémentation."
   ]
  },
  {
   "cell_type": "code",
   "execution_count": null,
   "metadata": {},
   "outputs": [],
   "source": [
    "maliste2 = construit(1, construit(2, construit(3, listevide())))\n",
    "def dernier (l):\n",
    "    if estvide(reste(l)):\n",
    "        return premier(l)\n",
    "    else :\n",
    "        return dernier(reste(l))\n",
    "dernier(maliste2)"
   ]
  },
  {
   "cell_type": "markdown",
   "metadata": {},
   "source": [
    "### Bilan de l'exemple\n",
    "\n",
    "Pour le programmeur qui utilise les listes d'éléments à travers l'interface fournie, il n'y a pas de différence, à partir du moment où chaque implémentation respecte les spécifications du type abstrait.\n",
    "\n",
    "En Python, le curieux pourra cependant, le plus souvent, observer la structure des informations mémorisées."
   ]
  },
  {
   "cell_type": "code",
   "execution_count": null,
   "metadata": {},
   "outputs": [],
   "source": [
    "print(maliste1)\n",
    "print(maliste2)"
   ]
  },
  {
   "cell_type": "markdown",
   "metadata": {},
   "source": [
    "### Un type abstrait : pile\n",
    "\n",
    "Une `pile d'éléments` est une structure de données abstraite permettant d'ajouter des éléments sur le sommet de la pile, d'en retirer...\n",
    "\n",
    "- Des constructeurs pour construire une pile vide : `pilevide :  -> pile d'éléments`\n",
    "- Trois opérations : \n",
    "    - `empiler : élément x pile d'éléments -> pile d'éléments`\n",
    "    - `depiler : pile d'éléments -> pile d'éléments`\n",
    "    - `sommet : pile d'éléments -> élément`\n",
    "- Un prédicat pour tester si une pile est vide : `estvide : pile d'éléments -> booléen`\n",
    "\n",
    "On peut spécifier les opérations sur la pile en donnant les propriétés algébriques que les opérations doivent respecter :\n",
    "```\n",
    "depiler(empiler(e,p)) == p\n",
    "sommet(empiler(e,p)) == e\n",
    "estvide(pilevide()) == True\n",
    "estvide(empiler(e, pilevide())) == False\n",
    "```"
   ]
  },
  {
   "cell_type": "markdown",
   "metadata": {},
   "source": [
    "**Activité** : Proposer une implémentation en Python de ce type `pile`."
   ]
  },
  {
   "cell_type": "code",
   "execution_count": null,
   "metadata": {},
   "outputs": [],
   "source": []
  },
  {
   "cell_type": "markdown",
   "metadata": {},
   "source": [
    "**Remarque** : On a spécifié les opérations sur les piles dans un style fonctionnel, c'est à dire en décrivant des fonctions qui calculent des résultats en fonction de leurs paramètres d'entrée. Par exemple, pour dépiler un élement d'une pile `p` dans laquelle on a empilé deux élements, on peut écrire : `depiler(empiler(3, empiler(2,p)))`.\n",
    "\n",
    "On pourrait aussi le faire dans un style procédural, en supposant que les procédures peuvent modifier le contenu de la pile passée en paramètre. Dans ce cas, les procédures `depiler` et `empiler` n'ont plus de sortie. Exemple d'usage : `empiler (2,p); empiler(3,p); depiler(p);`\n",
    "\n",
    "Dans un style programmation objet, la pile n'est plus considérée comme un paramètre, mais est l'objet sur lequel s'applique la méthode. L'exemple précédent s'écrirait alors : `p.empiler (2); p.empiler(3); p.depiler();`\n",
    "\n",
    "Le style de programmation influe donc sur la manière de spécifier abstraitement une structure de données."
   ]
  },
  {
   "cell_type": "markdown",
   "metadata": {},
   "source": [
    "## Bilan\n",
    "\n",
    "L'objectif pour la classe est précisé dans le programme de spécialité en terminale : \n",
    "\n",
    "> L’écriture sur des exemples simples de plusieurs implémentations d’une même structure de données permet de faire émerger les notions d’interface et d’implémentation, ou encore de structure de données abstraite.\n",
    "\n",
    "La compétence à *savoir faire abstraction* est fondamentale en informatique et est sollicitée lors de la définition et l'implémentation de structures de données, aussi bien en programmation objet qu'en programmation fonctionnelle.\n",
    "\n"
   ]
  },
  {
   "cell_type": "markdown",
   "metadata": {},
   "source": [
    "Equipe pédagoqique DIU EIL, ressource éducative libre distribuée sous [Licence Creative Commons Attribution - Pas d’Utilisation Commerciale - Partage dans les Mêmes Conditions 4.0 International](http://creativecommons.org/licenses/by-nc-sa/4.0/) ![Licence Creative Commons](https://i.creativecommons.org/l/by-nc-sa/4.0/88x31.png)"
   ]
  }
 ],
 "metadata": {
  "kernelspec": {
   "display_name": "Python 3",
   "language": "python",
   "name": "python3"
  },
  "language_info": {
   "codemirror_mode": {
    "name": "ipython",
    "version": 3
   },
   "file_extension": ".py",
   "mimetype": "text/x-python",
   "name": "python",
   "nbconvert_exporter": "python",
   "pygments_lexer": "ipython3",
   "version": "3.6.8"
  }
 },
 "nbformat": 4,
 "nbformat_minor": 2
}
