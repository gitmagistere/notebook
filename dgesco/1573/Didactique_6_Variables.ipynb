{
 "cells": [
  {
   "cell_type": "markdown",
   "metadata": {},
   "source": [
    "# Didactique de l'informatique\n",
    "## Psychologie de la programmation - Les variables"
   ]
  },
  {
   "cell_type": "markdown",
   "metadata": {},
   "source": [
    "### RENAN SAMURCAY, SIGNIFICATION ET FONCTIONNEMENT DU CONCEPT DE VARIABLE INFORMATIQUE CHEZ DES ELEVES DEBUTANTS\n",
    "Educational Studies in Mathematics 16 (1985) 143-161"
   ]
  },
  {
   "cell_type": "markdown",
   "metadata": {},
   "source": [
    "Dans ce travail, R. Samurçay étudie avec le point de vue de la psychologie de l'apprentissage, les acquisitions des élèves débutants et les difficultés rencontrées.\n",
    "\n",
    "> Dans la résolution d'un problème informatique, concernant les variables, le\n",
    "sujet est confronté à plusieurs activités distinctes. On peut en distinguer deux\n",
    "types:\n",
    "- la construction de la signification et des opérations sur les variables: la\n",
    "déclaration, l'affectation des valeurs, l'entrée et la sortie des données\n",
    "sur l'écran,\n",
    "- le contrôle des valeurs particulières qui doivent être prises par les variables\n",
    "lors de l'éxécution du programme: ce contrôle intervient dans la planification des instructions par les structures que sont la répétition, le choix\n",
    "et la séquentialité.\n",
    "\n",
    "> Dans la structuration d'une boucle les variables interviennent dans trois opérations:\n",
    "- la mise à jour\n",
    "- le test d'arrêt\n",
    "- l'initialisation.\n",
    "\n",
    "> Notre hypothèse générale est que plus les variables à traiter s'éloignent du\n",
    "modèle familier de l'exécution \"à la main\" qui constitue le traitement du problème par le sujet lui-même, plus leur construction est difficile. C'est le cas\n",
    "notamment pour les variables qui sont constitutives de l'invariant de boucle.\n",
    "\n",
    "L'exemple ci-dessous (traduit en Python) a été utilisé parmi une série d'exercices pour mesurer les acquisitions. Il concerne le calcul de $x^n - y^n$.\n",
    "```python\n",
    "x = input()\n",
    "y = input()\n",
    "n = input()\n",
    "# manque-t-il des instructions ?\n",
    "while cpt < n :\n",
    "    expx = expx * x\n",
    "    expy = expy * y\n",
    "    cpt = cpt + 1\n",
    "print (expx - expy)\n",
    "```"
   ]
  },
  {
   "cell_type": "code",
   "execution_count": null,
   "metadata": {},
   "outputs": [],
   "source": [
    "x = float(input())\n",
    "y = float(input())\n",
    "n = int(input())\n",
    "cpt = 0\n",
    "expx = 1\n",
    "expy = 1\n",
    "while cpt < n :\n",
    "    expx = expx * x\n",
    "    expy = expy * y\n",
    "    cpt = cpt + 1\n",
    "print (expx - expy)"
   ]
  },
  {
   "cell_type": "markdown",
   "metadata": {},
   "source": [
    "La solution attendue était la bonne initialisation des variables.\n",
    "Les résultats ont été analysés en fonction du rôle des variables dans le programme : `cpt` est ici une variable compteur. `expx` et `expy` sont des accumulateurs. `x`, `y` et `n` sont des données."
   ]
  },
  {
   "cell_type": "markdown",
   "metadata": {},
   "source": [
    "#### Classification des rôles des variables\n",
    "\n",
    "La typologie introduite par Samurçay distingue :\n",
    "- les variables qui sont des données explicite du problème, et ne varient pas,\n",
    "- les variables nécessitées par la résolution informatique, avec parmi elles :\n",
    "   - les variables compteurs\n",
    "   - les variables accumulateurs\n",
    "   - les variables intermédiaires"
   ]
  },
  {
   "cell_type": "markdown",
   "metadata": {},
   "source": [
    "* **Activité** : Compléter le programme ci-dessous pour calculer le nombre de multiples de 3 consécutifs à additionner pour obtenir un résultat supérieur à 1000.\n",
    "\n",
    "    ```python\n",
    "    multiple = \n",
    "    resultat = \n",
    "    while resultat < 1000:\n",
    "        multiple = \n",
    "        resultat = \n",
    "    ```\n",
    "    Quels sont les rôles des variables nécessaires à ce calcul ? "
   ]
  },
  {
   "cell_type": "code",
   "execution_count": null,
   "metadata": {},
   "outputs": [],
   "source": [
    "multiple = 0\n",
    "resultat = 0\n",
    "cpt = 0\n",
    "while resultat < 1000:\n",
    "    multiple = multiple + 3\n",
    "    resultat = resultat + multiple\n",
    "    cpt = cpt + 1\n",
    "print(cpt)"
   ]
  },
  {
   "cell_type": "markdown",
   "metadata": {},
   "source": [
    "Un des résultats de l'étude est de quantifier la réussite des élèves aux différents tests en fonction du rôle de la variable.\n",
    "> En ce qui concerne le traitement des différents types de variables, on note que\n",
    "la variable COMPTEUR est toujours mieux traitée que les autres variables\n",
    "lorsqu'elle obéit au modèle canonique: \"elle s'initialise à zéro, elle s'incrémente\n",
    "de 1\". Lorsque la variable qui joue le rôle de compteur ne correspond pas\n",
    "explicitement à ce modèle, les réussites chutent de moitié comme par exemple\n",
    "dans la tache de construction du test d'arrêt. Les variables d'accumulation et de\n",
    "résultats intermédiaires sont dans tous les cas, plus difficiles à traiter."
   ]
  },
  {
   "cell_type": "markdown",
   "metadata": {},
   "source": [
    "### La notion de variable en informatique et en mathématique\n",
    "\n",
    "**Acquisition de savoirs et de savoir-faire en informatique**, Janine Rogalski, CDM 43, mai 1987.\n",
    "\n",
    "J. Rogalski a analysé les conditions d'acquisition de la variable informatique (pendant l'option info des lycées des années 80) chez des élèves ayant déjà la notion de variable mathématique.\n",
    "\n",
    "> Deux voies possibles de constitution de nouvelles connaissances :\n",
    "- le fonctionnement crée du sens\n",
    "- la construction par accomodation/assimilation \n",
    "\n",
    "> La variable a comme précurseur possible la variable mathématique. Les précurseurs ont un double rôle : producteur et réducteur.\n",
    "\n",
    "> Le caractère statique de la variable mathématique peut constituer un obstacle à la représentation de la modification possible de la valeur d'une variable lors de l'exécution d'un programme.\n",
    "\n",
    "> [..] L'existence de la représentation symbolique = de l'égalité des variables numériques joue un rôle producteur dans les acquisitions initiales des tests en programmation... mais peut rendre difficile le changement de point de vue qui consiste non pas à comparer... mais à tester si une certaine propriété est vraie.\n",
    "\n",
    "> [..] Les acquisitions sur la variable informatique :\n",
    "- peuvent concerner les opérations que l'élève maîtrise ... affectation, tests...\n",
    "- peuvent concerner le type de variable... chaînes de caractères, utilisation de variables booléennes.\n",
    "- la capacité à traiter comme des variables des objets de niveau différent... par exemple des procédures passées en paramètres.\"\n",
    "\n",
    "Ces trois niveaux d'acquisition sont cités par difficulté croissante, d'abord les opérations sur des variables numériques, puis sur des variables d'autres types et enfin sur des objets plus abstraits. "
   ]
  },
  {
   "cell_type": "markdown",
   "metadata": {},
   "source": [
    "### De la variable mathématique à la variable informatique\n",
    "(D'après Briant 2013 cité par Rogalski Lagrange 2017)\n",
    "\n",
    "L'extrait suivant consiste à analyser des productions d'élèves. \n",
    "La tâche est la suivante : résoudre l'équation : $ a x + b = c$\n",
    "\n",
    "Les activités d'élèves ont été traduites en Python :\n",
    "\n",
    "* Attention : certaines propositions sont erronées et provoquent des erreurs d'exécution."
   ]
  },
  {
   "cell_type": "code",
   "execution_count": null,
   "metadata": {},
   "outputs": [],
   "source": [
    "# solution élève 1\n",
    "a = float(input())\n",
    "b = float(input())\n",
    "c = float(input())\n",
    "x = (c - b)/a\n",
    "print(x)"
   ]
  },
  {
   "cell_type": "code",
   "execution_count": null,
   "metadata": {},
   "outputs": [],
   "source": [
    "# solution élève 2\n",
    "a = int(input())\n",
    "b = int(input())\n",
    "c = a * x + b"
   ]
  },
  {
   "cell_type": "code",
   "execution_count": null,
   "metadata": {},
   "outputs": [],
   "source": [
    "# solution élève 3\n",
    "if a * x + b == c:\n",
    "    print(x)"
   ]
  },
  {
   "cell_type": "code",
   "execution_count": null,
   "metadata": {},
   "outputs": [],
   "source": [
    "# solution élève 4\n",
    "a = float(input())\n",
    "b = float(input())\n",
    "I = float(input())\n",
    "I = I - b\n",
    "I = I / a\n",
    "x = I\n",
    "print(x)"
   ]
  },
  {
   "cell_type": "markdown",
   "metadata": {},
   "source": [
    "### Interprétation des propositions d'élèves\n",
    "Rogalski interprète les solutions élèves de la manière suivante :\n",
    "> La solution attendue est proche de la solution « élève » n°1 [..]\n",
    "Elle témoigne d’une prise de conscience de la\n",
    "capacité du dispositif à traiter une formule écrite dans une syntaxe très proche de\n",
    "l’algèbre habituelle, en instanciant les trois paramètres selon les valeurs données en\n",
    "entrée. D’autres élèves produisent des solutions du type de celles numérotées 2 et 3 : ils essaient de traduire l’équation avec les éléments syntaxiques du\n",
    "langage, soit par une affectation (Solution « élève » n°2), soit par une condition\n",
    "(Solution « élève » n°3) puis « délèguent » au dispositif la résolution et\n",
    "l’expression des solutions. Les solutions du type de celle numérotée 4 dans le\n",
    "tableau sont aussi très souvent rencontrées : la variable I prend les valeurs\n",
    "successives du « second membre » quand on résout l’équation en papier/crayon."
   ]
  },
  {
   "cell_type": "markdown",
   "metadata": {},
   "source": [
    "* **Activité** : pour essayer de donner du sens à la solution 3 :"
   ]
  },
  {
   "cell_type": "code",
   "execution_count": null,
   "metadata": {},
   "outputs": [],
   "source": [
    "for a in range(10):\n",
    "    for b in range(10):\n",
    "        for c in range(10):\n",
    "            for x in range(10):\n",
    "                if a * x + b == c:\n",
    "                    print(a,\"*\", x, \"+\",b,\"=\",c)"
   ]
  },
  {
   "cell_type": "markdown",
   "metadata": {},
   "source": [
    "Effectivement, formuler `a * x + b == c` comme un test peut avoir du sens pour trouver les solutions, dans un contexte où les variables sont instanciées par un programme qui énumère des valeurs possibles à la recherche de solutions satisfaisables."
   ]
  },
  {
   "cell_type": "markdown",
   "metadata": {},
   "source": [
    "### Egalité, équation et affectation\n",
    "\n",
    "Un obstacle didactique est le risque de confusion entre égalité et affectation. \n",
    "Leurs notations sont proches et varient selon les langages.\n",
    "En particulier le symbole `=` peut dénoter l'affectation dans un langage et l'égalité dans un autre.\n",
    "\n",
    "En langage Python, la distinction est explicite entre :\n",
    "- Affectation : `c = a * x + b`\n",
    "- Egalité : `a * x + b == c`"
   ]
  },
  {
   "cell_type": "markdown",
   "metadata": {},
   "source": [
    "### Difficulté à utiliser des variables booléennes\n",
    "\n",
    "Plusieurs auteurs ont remarqué la difficulté pour les élèves à manipuler des variables autres que numériques, avec une difficulté particulière pour les variables booléennes.\n",
    "\n",
    "> Lagrange (1991) montre une difficile progression. Les élèves restent attachés aux alternatives et très réticents à l’emploi de variables booléennes. Une progression souvent constatée est l’emploi d’un type connu pour « contourner » le problème. Par exemple les élèves déclarent une chaîne à laquelle ils affectent « OUI » ou\n",
    "« NON », ou une variable numérique à laquelle ils affectent 0 ou 1."
   ]
  },
  {
   "cell_type": "markdown",
   "metadata": {},
   "source": [
    "### Conclusion \n",
    "\n",
    "Le concept de variable reste ainsi un obstable pour les élèves. On peut ainsi conclure avec\n",
    "Rogalski et Lagrange :\n",
    "> Confrontant des observations dans l’enseignement de l’algorithmique et de la\n",
    "programmation – revenu en France dans le curriculum du lycée depuis quelques\n",
    "années – à l’expérience acquise antérieurement, nous avons montré la persistance\n",
    "de difficultés conceptuelles chez les élèves débutants, souvent mal connues des\n",
    "acteurs du terrain ou institutionnels. Il apparaît que l’enjeu central est, pour les\n",
    "élèves que nous avons observés, de comprendre la construction d’un programme ou\n",
    "d’un algorithme comme l’organisation d’un traitement sur un dispositif ; ils doivent\n",
    "percevoir ce dispositif comme un ensemble de variables, et concevoir ces variables\n",
    "comme des objets « calculables » et le traitement comme l’évolution de leurs\n",
    "valeurs.\n",
    "\n",
    "Un enjeu pour l'enseignant est de savoir analyser a priori la difficulté des situations proposées, pour les graduer et permettre à tous les élèves de dépasser cet obstacle.\n",
    "\n",
    "En programmation Python, il convient aussi le moment venu de passer d'un modèle de dispositif basé uniquement sur les variables en mémoire - modèle étudié ici - à un modèle incluant l'environnement et la mémoire. Cette étape est nécessaire pour bien comprendre les données mutables et les mécanismes de passage de paramètres."
   ]
  },
  {
   "cell_type": "markdown",
   "metadata": {},
   "source": [
    "### Références :\n",
    "* SAMURÇAY , R. (1985). Signification et fonctionnement du concept de variable\n",
    "informatique chez des élèves débutants. Educational Studies in Mathematics, 16.2,\n",
    "143-161.\n",
    "* LAGRANGE , J-B. (1991) Des situations connues aux traitements sur des données\n",
    "codifiées : représentations mentales et processus d’acquisition dans les premiers\n",
    "apprentissages en informatique. Thèse de Doctorat. Université Paris 7.\n",
    "* BRIANT , N. (2013). Étude didactique de la reprise de l’algèbre par l’introduction\n",
    "de l’algorithmique au niveau de la classe de seconde du lycée français. Thèse\n",
    "Université Montpellier II - Sciences et Techniques du Languedoc.\n",
    "* LAGRANGE J.B., ROGALSKI J. (2017) Savoirs, concepts et situations dans les premiers apprentissages en programmation et en algorithmique. Annales de Didactiques et de Sciences Cognitives."
   ]
  },
  {
   "cell_type": "markdown",
   "metadata": {},
   "source": [
    "Equipe pédagoqique DIU EIL, ressource éducative libre distribuée sous [Licence Creative Commons Attribution - Pas d’Utilisation Commerciale - Partage dans les Mêmes Conditions 4.0 International](http://creativecommons.org/licenses/by-nc-sa/4.0/) ![Licence Creative Commons](https://i.creativecommons.org/l/by-nc-sa/4.0/88x31.png)"
   ]
  }
 ],
 "metadata": {
  "kernelspec": {
   "display_name": "Python 3",
   "language": "python",
   "name": "python3"
  },
  "language_info": {
   "codemirror_mode": {
    "name": "ipython",
    "version": 3
   },
   "file_extension": ".py",
   "mimetype": "text/x-python",
   "name": "python",
   "nbconvert_exporter": "python",
   "pygments_lexer": "ipython3",
   "version": "3.7.3"
  }
 },
 "nbformat": 4,
 "nbformat_minor": 2
}
