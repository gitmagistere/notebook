{
 "cells": [
  {
   "cell_type": "markdown",
   "metadata": {},
   "source": [
    "# Traitement de données en tables\n",
    "\n",
    "De nombreuses données en tables sont disponibles sur les sites de données ouvertes. Les plus simples à utiliser par programme sont celles enregistrées aux formats `TXT` tabulé ou `CSV` ou `JSON`. La première étape consiste à lire les fichiers pour charger les données en mémoire.\n",
    "\n",
    "Extrait du programme de première : \n",
    "> Les données organisées en table correspondent à une liste de p-uplets nommés qui partagent les\n",
    "mêmes descripteurs. La mobilisation de ce type de structure de données permet de préparer les élèves\n",
    "à aborder la notion de base de données qui ne sera présentée qu’en classe terminale. Il s’agit d’utiliser\n",
    "un tableau doublement indexé ou un tableau de p-uplets, dans un langage de programmation ordinaire\n",
    "et non dans un système de gestion de bases de données.\n",
    "\n",
    "## Lecture de fichiers\n",
    "\n",
    "Plusieurs méthodes permettent de lire de tels fichiers en utilisant ou non des bibliothèques adaptées."
   ]
  },
  {
   "cell_type": "markdown",
   "metadata": {},
   "source": [
    "### Fonction élémentaires de lecture/écriture de fichiers\n",
    "\n",
    "Les fonctions élémentaires de lecture écriture des fichiers textes sont adaptées à la lecture ligne à ligne :\n",
    "\n",
    "* Ouverture en lecture : `f = open('nom.txt','r')`\n",
    "* Ouverture en écriture : `g = open('nom.txt','w')`\n",
    "* Fermeture : `f.close()`\n",
    "* Ouverture et fermeture avec une structure de bloc : `with open('nom.txt','r') as f :`\n",
    "* Lire la ligne suivante : `ligne = f.readline()`\n",
    "* Parcourir toutes les lignes : `for ligne in f:`\n",
    "* Écrire dans le\u001c",
    " fichier : `g.write('message')`\n",
    "* Écrire dans le\u001c",
    " fichier avec passage à la ligne : `g.write('message\\n')`\n",
    "\n",
    "Dans le cas d'un fichier tabulé ou avec séparateur, le décodage d'une ligne nécessite de séparer les différentes valeurs des champs en précisant le séparateur utilisé. La méthode `split` permet de faire ce traitement sur une chaîne de caractères.\n",
    "\n",
    "Il suffit de lui préciser le séparateur à utiliser : `'\\t'` pour tab, `';'`, `':'` ou `','` par exemple.\n",
    "\n",
    "La méthode strip permet de supprimer les blancs en début et en fi\u001c",
    "n de ligne."
   ]
  },
  {
   "cell_type": "code",
   "execution_count": null,
   "metadata": {},
   "outputs": [],
   "source": [
    "ligne = '  12.5, 2018, Nantes, 253000, 23.4  '\n",
    "ligne.split(',')"
   ]
  },
  {
   "cell_type": "code",
   "execution_count": null,
   "metadata": {},
   "outputs": [],
   "source": [
    "ligne.strip()"
   ]
  },
  {
   "cell_type": "markdown",
   "metadata": {},
   "source": [
    "* **Activité** : Le fichier [nat2017.txt](https://www.insee.fr/fr/statistiques/fichier/2540004/nat2017_txt.zip)\n",
    "recense les prénoms donnés en France hors Mayotte sur la période 1900 à 2017. \n",
    "\n",
    "La première ligne présente les libellés des données : `code_sexe    prenom    annee    nb`.\n",
    "Le séparateur utilisé est la tabulation.\n",
    "1. `code_sexe` vaut 1 si le prénom a été donné à garçon et 2 pour une fille\n",
    "2. `prenom` est le prénom donné (en majuscules) ou `_PRENOMS_RARES` \n",
    "3. `annee` est l'année sur quatre caractères ou `XXXX`\n",
    "4. `nb` le nombre de fois que le prénom a été donné cette année là."
   ]
  },
  {
   "cell_type": "markdown",
   "metadata": {},
   "source": [
    "Une première lecture rapide du fichier peut être effectuée par les instructions suivantes : "
   ]
  },
  {
   "cell_type": "code",
   "execution_count": null,
   "metadata": {},
   "outputs": [],
   "source": [
    "with open('data/nat2017.txt') as f:\n",
    "        f.readline()\n",
    "        nblignes = 0\n",
    "        for ligne in f:\n",
    "            sexe, prenom, annee, nb = ligne.split()\n",
    "            nblignes += 1\n",
    "        print(nblignes, \"lignes lues\")\n",
    "        print('Dernière ligne :', sexe, prenom, annee, nb)"
   ]
  },
  {
   "cell_type": "markdown",
   "metadata": {},
   "source": [
    "### Mémorisation d'une table sous forme de tableau de tableau\n",
    "\n",
    "Les enregistements peuvent être mémorisés dans un tableau de tableau en ajoutant à chaque lecture de ligne du fichier une ligne dans le tableau."
   ]
  },
  {
   "cell_type": "code",
   "execution_count": null,
   "metadata": {},
   "outputs": [],
   "source": [
    "tableau = []\n",
    "with open('data/nat2017.txt') as f:\n",
    "        f.readline()\n",
    "        for ligne in f:\n",
    "            tableau.append (ligne.split())"
   ]
  },
  {
   "cell_type": "code",
   "execution_count": null,
   "metadata": {},
   "outputs": [],
   "source": [
    "tableau"
   ]
  },
  {
   "cell_type": "markdown",
   "metadata": {},
   "source": [
    "* **Remarque**: toutes les informations manipulées par les fonctions standard de lecture, ainsi que la fonction `split` manipulent uniquement des chaînes de caractères. Si certains champs contiennent des nombres, il faut les convertir explicitement avec les fonctions `int` ou `float`."
   ]
  },
  {
   "cell_type": "markdown",
   "metadata": {},
   "source": [
    "### Mémorisation dans un tableau de p-uplets nommés\n",
    "\n",
    "Pour mémoriser la table dans un tableau de p-uplets ayant tous la même structure avec des champs nommés, il suffit à chaque lecture d'une ligne de construire le p-uplet correspondant. On a pris le soin de convertir en `int` les champs dont toutes les valeurs sont entières."
   ]
  },
  {
   "cell_type": "code",
   "execution_count": null,
   "metadata": {},
   "outputs": [],
   "source": [
    "tableau = []\n",
    "with open('data/nat2017.txt') as f:\n",
    "        f.readline()\n",
    "        for ligne in f:\n",
    "            sexe, prenom, annee, nb = ligne.split()\n",
    "            tableau.append ({'sexe':int(sexe), 'prenom':prenom, 'annee':annee, 'nb':int(nb)})"
   ]
  },
  {
   "cell_type": "code",
   "execution_count": null,
   "metadata": {},
   "outputs": [],
   "source": [
    "tableau"
   ]
  },
  {
   "cell_type": "markdown",
   "metadata": {},
   "source": [
    "### Lecture d'une table avec la bibliothèque CSV\n",
    "\n",
    "La bibliothèque `csv` fournit des fonctions permettant simplement de lire l'ensemble des lignes d'un fichier `CSV` en séparant les champs selon le séparateur indiqué.\n",
    "\n",
    "La méthode `reader` permet de lire la table ligne à ligne et renvoit successivement pour chaque ligne un tableau des champs de chaque ligne. La première ligne contient les noms des champs."
   ]
  },
  {
   "cell_type": "code",
   "execution_count": null,
   "metadata": {},
   "outputs": [],
   "source": [
    "import csv\n",
    "f = open(\"data/nat2017.txt\", \"r\")\n",
    "c = csv.reader(f, delimiter='\\t')\n",
    "tableau = []\n",
    "for ligne in c:\n",
    "    tableau.append(ligne)\n",
    "f.close()"
   ]
  },
  {
   "cell_type": "code",
   "execution_count": null,
   "metadata": {},
   "outputs": [],
   "source": [
    "tableau"
   ]
  },
  {
   "cell_type": "markdown",
   "metadata": {},
   "source": [
    "La méthode `DictReader` permet de lire la table ligne à ligne et renvoit successivement pour chaque ligne un dictionnaire des champs de cette ligne. La première ligne du fichier a servi à obtenir les clés utilisés pour chaque enregistrement."
   ]
  },
  {
   "cell_type": "code",
   "execution_count": null,
   "metadata": {},
   "outputs": [],
   "source": [
    "import csv\n",
    "f = open(\"data/nat2017.txt\", \"r\")\n",
    "c = csv.DictReader(f, delimiter='\\t')\n",
    "tableau = []\n",
    "for ligne in c:\n",
    "    tableau.append(ligne)\n",
    "f.close()"
   ]
  },
  {
   "cell_type": "code",
   "execution_count": null,
   "metadata": {},
   "outputs": [],
   "source": [
    "tableau"
   ]
  },
  {
   "cell_type": "markdown",
   "metadata": {},
   "source": [
    "**Remarque** : les clés des enregistrements ont été obtenus à partir de la 1ere ligne du fichier."
   ]
  },
  {
   "cell_type": "markdown",
   "metadata": {},
   "source": [
    "### Lecture et écriture avec le format JSON\n",
    "\n",
    "Le format JSON (Java Script Object Notation) permet de mémoriser dans un fichier texte et de relire, les principaux types de données utilisés en python : listes, tuples, dictionnaire et biensur les types de base entiers, flottants, chaînes et booléens.\n",
    "\n",
    "C'est une alternative intéressante aux formats tabulés quand l'information à mémoriser a une structure plus complexe qu'une table à double entrées. L'intérêt est aussi de fournir une représentation externe des informations manipulées, dans un format normalisé pouvant être utilisé par d'autres programmes écrits dans d'autres langages."
   ]
  },
  {
   "cell_type": "code",
   "execution_count": null,
   "metadata": {},
   "outputs": [],
   "source": [
    "repertoire = [{'Nom':'Dupont', 'Prenom':'Jean', 'Naissance':{'Jour':10, 'Mois':2, 'Annee':1984}},\n",
    "      {'Nom':'Durand', 'Prenom':'Marie', 'Naissance':{'Jour':21, 'Mois':12, 'Annee':1964}},\n",
    "      {'Nom':'Dupond', 'Prenom':'Pierre', 'Naissance':{'Jour':1, 'Mois':8, 'Annee':1960}}]\n"
   ]
  },
  {
   "cell_type": "markdown",
   "metadata": {},
   "source": [
    "La fonction `json.dump` permet d'écrire dans un fichier au format `JSON` une structure de données calculée par programme."
   ]
  },
  {
   "cell_type": "code",
   "execution_count": null,
   "metadata": {},
   "outputs": [],
   "source": [
    "import json\n",
    "f = open('repertoire.json', 'w')\n",
    "json.dump(repertoire, f)\n",
    "f.close()"
   ]
  },
  {
   "cell_type": "markdown",
   "metadata": {},
   "source": [
    "Le fichier texte généré est lisible avec un éditeur de texte et peut aussi être relu par programme avec la fonction `json.load`. "
   ]
  },
  {
   "cell_type": "code",
   "execution_count": null,
   "metadata": {},
   "outputs": [],
   "source": [
    "g = open('repertoire.json', 'r')\n",
    "nouveaurep = json.load(g)\n",
    "nouveaurep"
   ]
  },
  {
   "cell_type": "markdown",
   "metadata": {},
   "source": [
    "On a ainsi avec le format `JSON` une technique performante pour mémoriser dans des fichiers des informations structurées et les retrouver sans perte d'information."
   ]
  },
  {
   "cell_type": "markdown",
   "metadata": {},
   "source": [
    "## Conclusion\n",
    "\n",
    "La maîtrise de la lecture d'un fichier de données est un préalable à son traitement. L'écriture est aussi importante pour garder une trace pérenne des informations calculées.\n",
    "\n",
    "Pour les données ouvertes obtenues sur des sites spécialisés, il convient d'être vigilant en cas de données manquantes ou de données particulières, et de prévoir un prétraitement adapté."
   ]
  },
  {
   "cell_type": "markdown",
   "metadata": {},
   "source": [
    "Equipe pédagoqique DIU EIL, ressource éducative libre distribuée sous [Licence Creative Commons Attribution - Pas d’Utilisation Commerciale - Partage dans les Mêmes Conditions 4.0 International](http://creativecommons.org/licenses/by-nc-sa/4.0/) ![Licence Creative Commons](https://i.creativecommons.org/l/by-nc-sa/4.0/88x31.png)"
   ]
  }
 ],
 "metadata": {
  "kernelspec": {
   "display_name": "Python 3",
   "language": "python",
   "name": "python3"
  },
  "language_info": {
   "codemirror_mode": {
    "name": "ipython",
    "version": 3
   },
   "file_extension": ".py",
   "mimetype": "text/x-python",
   "name": "python",
   "nbconvert_exporter": "python",
   "pygments_lexer": "ipython3",
   "version": "3.6.7"
  }
 },
 "nbformat": 4,
 "nbformat_minor": 1
}
