{
 "cells": [
  {
   "cell_type": "code",
   "execution_count": null,
   "metadata": {},
   "outputs": [],
   "source": [
    "%%html\n",
    "<link rel=\"stylesheet\" href=\"phm.css\" />"
   ]
  },
  {
   "cell_type": "markdown",
   "metadata": {},
   "source": [
    "<div class=\"note\">\n",
    "\n",
    "**1. — La structure de données abstraite liste**   \n",
    "Philippe Marquet  \n",
    "DIU Enseigner l'informatique au lycée, AEFE, juin-juillet 2020, bloc 5 \n",
    "</div>"
   ]
  },
  {
   "cell_type": "markdown",
   "metadata": {},
   "source": [
    "<div class=\"preliminaire\">\n",
    "\n",
    "##### au menu\n",
    "Rappels sur la structure de données _liste_  \n",
    "    \n",
    "* la structure de données _liste_   \n",
    "* primitives sur les listes — interface fonctionnelle   \n",
    "* une classe `List`   \n",
    "</div>"
   ]
  },
  {
   "cell_type": "markdown",
   "metadata": {},
   "source": [
    "# Structure de données _liste_ — rappel\n",
    "\n",
    "* Une liste est une collection finie d'éléments qui se suivent\n",
    "* Une liste est une structure de données _linéaire_\n",
    "* Une liste peut contenir un nombre quelconque d'éléments y compris aucun (la liste vide)\n"
   ]
  },
  {
   "cell_type": "markdown",
   "metadata": {},
   "source": [
    "## exemple \n",
    "\n",
    "La liste $\\ell_1 = [3, 1, 4]$\n",
    "\n",
    "* liste à trois éléments — de longueur 3\n",
    "* dont le premier est $3$, le deuxième $1$, et le dernier $4$\n",
    "\n",
    "\n",
    "Cette liste $\\ell_1$ \n",
    "\n",
    "* possède un premier élément $3$ </br>\n",
    "  — sa *tête* \n",
    "* vient après cet élément de tête la liste $\\ell_2 = [1, 4]$ des éléments qui suivent </br>\n",
    "  — le *reste*\n",
    "\n",
    "De même la liste $\\ell_2$ est donc constituée \n",
    "\n",
    "* d'un élément de *tête* : $1$\n",
    "* et d'un *reste* : $\\ell_3 = [4]$\n",
    "\n",
    "À nouveau, $\\ell_3$ est donc constituée \n",
    "\n",
    "* d'un élément de *tête* : $4$,\n",
    "* et d'un *reste* : $\\ell_4 = []$\n",
    "\n",
    "La liste $\\ell_4$ \n",
    "\n",
    "* est vide \n",
    "* elle ne possède pas d'élement de tête, ni de reste\n",
    "  \n",
    "Si on convient d'utiliser la notation $(x,\\ell)$ pour désigner le couple constitué de\n",
    "l'élément $x$ de tête, et du reste $\\ell$ d'une liste, on peut alors écrire :\n",
    "\n",
    "$$\n",
    "   \\ell_1 = (3, (1, (4, [])))\n",
    "$$\n",
    "\n",
    "On conçoit aisément que ce qui vient d'être fait pour notre exemple de  liste $\\ell_1$ peut\n",
    "être reproduit pour n'importe quelle liste."
   ]
  },
  {
   "cell_type": "markdown",
   "metadata": {},
   "source": [
    "## définition \n",
    "\n",
    "Définition abstraite et formelle des listes d'éléments appartenant tous à un ensemble $E$\n",
    "\n",
    "Une *liste* d'éléments d'un ensemble $E$ est\n",
    "\n",
    "   * soit la liste vide\n",
    "   * soit un couple $(x,\\ell)$ constitué \n",
    "       * d'un élément $x\\in E$, et \n",
    "       * d'une liste $\\ell$ d'éléments de $E$\n",
    "\n",
    "Les listes sont vues comme des structures de données récursives"
   ]
  },
  {
   "cell_type": "markdown",
   "metadata": {},
   "source": [
    "# Primitives sur les listes \n",
    "\n",
    "## interface fonctionnelle \n",
    "\n",
    "En lien avec la définition \n",
    "\n",
    "* **constructeurs**\n",
    "  - liste vide - `nil`\n",
    "  - couple élément, liste - `cons`\n",
    "* **accesseurs** \n",
    "  - élément tête - _head_ - `car`\n",
    "  - liste privée du 1er élément, le reste - _tail_ - `cdr` \n",
    "* **prédicat**\n",
    "  - test vacuité - `is_empty`\n",
    "\n",
    "Primitives en $O(1)$ — temps constant\n"
   ]
  },
  {
   "cell_type": "markdown",
   "metadata": {},
   "source": [
    "## une classe `List`\n",
    "\n",
    "Fournie dans le fichier `list.py`"
   ]
  },
  {
   "cell_type": "markdown",
   "metadata": {},
   "source": [
    "### constructeurs"
   ]
  },
  {
   "cell_type": "code",
   "execution_count": null,
   "metadata": {},
   "outputs": [],
   "source": [
    "from list import *\n",
    "\n",
    "help(List.__init__)"
   ]
  },
  {
   "cell_type": "code",
   "execution_count": null,
   "metadata": {},
   "outputs": [],
   "source": [
    "List()"
   ]
  },
  {
   "cell_type": "code",
   "execution_count": null,
   "metadata": {},
   "outputs": [],
   "source": [
    "List(4, List())"
   ]
  },
  {
   "cell_type": "code",
   "execution_count": null,
   "metadata": {},
   "outputs": [],
   "source": [
    "List(1, List(4, List()))"
   ]
  },
  {
   "cell_type": "code",
   "execution_count": null,
   "metadata": {},
   "outputs": [],
   "source": [
    "l1 = List(3, List(1, List(4, List())))\n",
    "l1"
   ]
  },
  {
   "cell_type": "markdown",
   "metadata": {},
   "source": [
    "### accesseurs"
   ]
  },
  {
   "cell_type": "code",
   "execution_count": null,
   "metadata": {},
   "outputs": [],
   "source": [
    "help(List.head)"
   ]
  },
  {
   "cell_type": "code",
   "execution_count": null,
   "metadata": {},
   "outputs": [],
   "source": [
    "l1\n",
    "l1.head()"
   ]
  },
  {
   "cell_type": "code",
   "execution_count": null,
   "metadata": {},
   "outputs": [],
   "source": [
    "help(List.tail)"
   ]
  },
  {
   "cell_type": "code",
   "execution_count": null,
   "metadata": {},
   "outputs": [],
   "source": [
    "l1.tail()"
   ]
  },
  {
   "cell_type": "code",
   "execution_count": null,
   "metadata": {},
   "outputs": [],
   "source": [
    "l0 = List()\n",
    "l0.tail()"
   ]
  },
  {
   "cell_type": "markdown",
   "metadata": {},
   "source": [
    "### prédicat"
   ]
  },
  {
   "cell_type": "code",
   "execution_count": null,
   "metadata": {},
   "outputs": [],
   "source": [
    "help(List.is_empty)"
   ]
  },
  {
   "cell_type": "code",
   "execution_count": null,
   "metadata": {},
   "outputs": [],
   "source": [
    "List().is_empty()\n",
    "l1.is_empty()"
   ]
  },
  {
   "cell_type": "markdown",
   "metadata": {},
   "source": [
    "# Utilisation des primitives \n",
    "\n",
    "Illustration basique. Définition de deux fonctions"
   ]
  },
  {
   "cell_type": "code",
   "execution_count": null,
   "metadata": {},
   "outputs": [],
   "source": [
    "def pi() : \n",
    "    \"\"\"Return a simple list which has something π\"\"\"\n",
    "    return List(3, List(1, List(4, List())))\n",
    "\n",
    "pi()"
   ]
  },
  {
   "cell_type": "code",
   "execution_count": null,
   "metadata": {},
   "outputs": [],
   "source": [
    "def third(l) : \n",
    "    \"\"\"Return the 3rd element of a list. Assumes there is at least 3 elements.\"\"\"\n",
    "    l2 = l.tail()\n",
    "    l3 = l2.tail()\n",
    "    return l3.head()\n",
    "    \n",
    "third(pi())"
   ]
  },
  {
   "cell_type": "markdown",
   "metadata": {},
   "source": [
    "# Remerciements et références\n",
    "\n",
    "* La présentation des listes est reprise des notes de cours d'Éric Wegrzynowski, 1re année de licence, Univ. Lille\n",
    "* Le présent notebook est inspiré de ressources préparées dans le cadre du DIU Ennseigner l'informatique au lycée, novembre 2019, Univ. Lille\n"
   ]
  },
  {
   "cell_type": "markdown",
   "metadata": {},
   "source": [
    "---\n",
    "Équipe pédagoqique DIU EIL, Philippe Marquet, ressource éducative libre distribuée sous [Licence Creative Commons Attribution - Partage dans les mêmes conditions 4.0 International](http://creativecommons.org/licenses/by-sa/4.0/deed.fr) ![Licence Creative Commons (CC BY-SA 4.0)](https://i.creativecommons.org/l/by-sa/4.0/88x31.png)\n"
   ]
  }
 ],
 "metadata": {
  "kernelspec": {
   "display_name": "Python 3",
   "language": "python",
   "name": "python3"
  },
  "language_info": {
   "codemirror_mode": {
    "name": "ipython",
    "version": 3
   },
   "file_extension": ".py",
   "mimetype": "text/x-python",
   "name": "python",
   "nbconvert_exporter": "python",
   "pygments_lexer": "ipython3",
   "version": "3.7.5"
  }
 },
 "nbformat": 4,
 "nbformat_minor": 4
}
