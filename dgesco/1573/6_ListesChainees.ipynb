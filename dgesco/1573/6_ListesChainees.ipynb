{
 "cells": [
  {
   "cell_type": "markdown",
   "metadata": {},
   "source": [
    "# Listes\n",
    "\n",
    "On considère le type abstrait *liste* au sens d'une collection (finie) et ordonnée d'éléments. On munit ce type des opérations suivantes :\n",
    "\n",
    "- création d'une liste vide,\n",
    "- ajout d'un élément en tête / en queue / en position $i$,\n",
    "- accès à l'élément en tête / en queue / au $i$-ème élément,\n",
    "- modification d'un élément en tête / en queue / du $i$-ème élément,\n",
    "- suppression en tête / en queue / en position $i$,\n",
    "- longueur,\n",
    "- concaténation de deux listes.\n",
    "\n",
    "Certaines opérations peuvent modifier une liste. Les listes sont présentées ici dans un contexte de programmation impérative. Ces opérations ne sont pas toutes élémentaires.\n",
    "\n",
    "Une implémentation existante de ce type abstrait est le type prédéfini `list` de Python qui utilise des tableaux dynamiques.\n",
    "\n",
    "On s'intéresse ici à une implémentation utilisant des listes chaînées."
   ]
  },
  {
   "cell_type": "markdown",
   "metadata": {},
   "source": [
    "## Une implémentation objet des listes chaînées\n",
    "\n",
    "L'objectif ici est de réimplanter de manière élémentaire le type *liste* par des listes simplement chaînées en utilisant la programmation objet. Pour cela, on doit choisir de définir un ensemble de méthodes élémentaires, et redéfinir les autres en fonction des méthodes élémentaires choisies.\n",
    "\n",
    "On choisit une représentation non contigue des listes, avec des *maillons* comportant chacun un élément et une référence au suivant. C'est donc une structure de données récursive.\n",
    "\n",
    "**Remarque** : ces choix sont différents des listes contigues - dans un tableau par exemple - où l'accès à un élément peut se faire de manière directe. Avec une liste chainée, il faut parcourir de maillon en maillon."
   ]
  },
  {
   "cell_type": "markdown",
   "metadata": {},
   "source": [
    "## La classe `Maillon`\n",
    "\n",
    "L'idée des listes chaînées est d'utiliser des maillons reliés les uns aux autres. Pour pouvoir constituer une liste, il suffit d'avoir des maillons comportant chacun un élément et un lien vers le maillon suivant. \n",
    "\n",
    "On crée un maillon en fournissant un élément et éventuellement une référence vers le suivant."
   ]
  },
  {
   "cell_type": "code",
   "execution_count": null,
   "metadata": {},
   "outputs": [],
   "source": [
    "class Maillon:\n",
    "    def __init__(self, element, suivant=None):\n",
    "        self.element = element\n",
    "        self.suivant = suivant\n",
    "\n",
    "ma_chaine = Maillon(1, Maillon(2, Maillon(3)))\n",
    "print(\"premier élément :\", ma_chaine.element)\n",
    "print(\"deuxième élément :\", ma_chaine.suivant.element)\n",
    "print(\"troisième élément :\", ma_chaine.suivant.suivant.element)"
   ]
  },
  {
   "cell_type": "markdown",
   "metadata": {},
   "source": [
    "On peut ainsi créer une chaine et accéder à ses éléments en consultant l'élément ou l'élément du suivant...\n",
    "\n",
    "On peut aussi définir une fonction qui calcule la longueur d'une chaîne :"
   ]
  },
  {
   "cell_type": "code",
   "execution_count": null,
   "metadata": {},
   "outputs": [],
   "source": [
    "def longueur(chaine):\n",
    "    res = 1\n",
    "    courant = chaine.suivant\n",
    "    while courant != None:\n",
    "        courant = courant.suivant\n",
    "        res += 1\n",
    "    return res\n",
    "        \n",
    "print(\"longueur :\", longueur(ma_chaine))"
   ]
  },
  {
   "cell_type": "markdown",
   "metadata": {},
   "source": [
    "**Activité** : Ecrire une fonction qui affiche successivement tous les éléments d'une chaîne."
   ]
  },
  {
   "cell_type": "code",
   "execution_count": null,
   "metadata": {},
   "outputs": [],
   "source": [
    "def affiche(chaine):\n",
    "    \"\"\"Affiche tous les éléments de la chaine\"\"\"\n",
    "\n",
    "\n",
    "affiche(ma_chaine)"
   ]
  },
  {
   "cell_type": "markdown",
   "metadata": {},
   "source": [
    "**Remarque** : Si on essaie d'implémenter une des méthodes qui peut renvoyer une liste vide, on s'aperçoit que la classe `Maillon` ne peut pas suffire : en effet rien n'est encore prévu pour représenter une liste vide. Une liste à un élément, a un seul maillon qui contient la valeur de l'élement et `None` comme référence au suivant puisqu'il n'y en a pas. Pour une liste sans élément, il faudrait choisir, par exemple la valeur `None` pour la liste, sans aucun maillon.\n",
    "\n",
    "On a besoin pour cela de définir une nouvelle classe `ListeChainee`."
   ]
  },
  {
   "cell_type": "markdown",
   "metadata": {},
   "source": [
    "## La classe `ListeChainee`\n",
    "\n",
    "### Opérations\n",
    "\n",
    "On veut pouvoir implémenter toutes les opérations définies sur le type abstrait liste (cf plus haut), avec en particulier une méthode pour créer une liste vide, des méthodes pour supprimer un élément, même s'il n'y en a plus qu'un... on doit donc tenir compte de la possibilité d'une liste vide.\n",
    "\n",
    "### Attributs\n",
    "\n",
    "On choisit de définir un seul attribut `premier`, qui peut être soit une référence vers le premier `Maillon`, soit la valeur particulière `None` pour représenter une liste vide.\n",
    "\n",
    "### Méthodes\n",
    "\n",
    "Toutes les méthodes sont définies dans la classe `ListeChainee` qui utilise en cas de besoin la classe `Maillon` pour créer des maillons de chaîne.\n",
    "\n",
    "### Implémentation\n",
    "\n",
    "La méthode d'initialisation `__init__` crée une liste vide. \n",
    "\n",
    "La fonction longueur peut maintenant être définie comme la méthode spéciale `__len__` de la classe. \n",
    "\n",
    "La méthode `ajout_en_tete` permet d'ajouter un élement en première position.\n",
    "\n",
    "La méthode `supprime_en_tete` enlève un élément en tête et renvoie cet élément.\n",
    "\n",
    "La méthode `ieme_element` permet d'accéder à l'élément d'indice i, qui doit être compris entre `0` et `len -1`. "
   ]
  },
  {
   "cell_type": "code",
   "execution_count": null,
   "metadata": {},
   "outputs": [],
   "source": [
    "class ListeChainee:\n",
    "    def __init__(self):\n",
    "        \"\"\"Initialise une liste vide.\"\"\"\n",
    "        self.premier = None\n",
    "        \n",
    "    def __len__(self):\n",
    "        \"\"\"Renvoie le nombre d'éléments présents dans la liste.\"\"\"\n",
    "        courant = self.premier\n",
    "        cpt = 0\n",
    "        while courant is not None:\n",
    "            courant = courant.suivant\n",
    "            cpt += 1\n",
    "        return cpt\n",
    "    \n",
    "    def ajout_en_tete(self, element):\n",
    "        \"\"\"Insère elem en tête de liste en créant un nouveau maillon\"\"\"\n",
    "        premier = Maillon(element)\n",
    "        premier.suivant = self.premier\n",
    "        self.premier = premier\n",
    "        \n",
    "    def supprime_en_tete(self):\n",
    "        \"\"\"Supprime l'élément en tête et retourne ce dernier\"\"\"\n",
    "        element = self.premier.element\n",
    "        self.premier = self.premier.suivant\n",
    "        return element\n",
    "    \n",
    "    def ieme_element(self, i):\n",
    "        courant = self.premier\n",
    "        cpt = 0\n",
    "        while cpt < i:\n",
    "            courant = courant.suivant\n",
    "            cpt += 1\n",
    "        return courant.element"
   ]
  },
  {
   "cell_type": "markdown",
   "metadata": {},
   "source": [
    "Pour les ajouts et suppressions en tête, on a pris soin de bien mettre à jour les références, pour que l'attribut `premier` de la liste désigne bien le premier maillon.\n",
    "\n",
    "On peut tester ce début d'implémentation, en construisant et accédant à une liste."
   ]
  },
  {
   "cell_type": "code",
   "execution_count": null,
   "metadata": {},
   "outputs": [],
   "source": [
    "l = ListeChainee()\n",
    "l.ajout_en_tete(4)\n",
    "l.ajout_en_tete(2)\n",
    "l.ajout_en_tete(6)\n",
    "l.supprime_en_tete()\n",
    "l.ajout_en_tete(5)\n",
    "for i in range (len(l)):\n",
    "    print(l.ieme_element(i))"
   ]
  },
  {
   "cell_type": "markdown",
   "metadata": {},
   "source": [
    "**Remarque** : Le choix de représenter les listes par des listes chainées à partir du premier, rend relativement simples les opérations en tête de liste. Accéder au ième élément nécessite de parcourir la liste de maillon en maillon. \n",
    "\n",
    "Pour effectuer un ajout ou suppression en queue - ou ailleurs dans la liste - il faut la parcourir jusqu'à la bonne position en prenant soin de retenir à chaque fois deux maillons, le précédent et le courant.\n",
    "\n",
    "**Activité** : Ajouter dans la classe `ListeChainee` la méthode d'ajout en queue suivante. \n",
    "\n",
    "```python\n",
    "    def ajout_en_queue(self, element):\n",
    "        \"\"\"Insère element en queue de liste\"\"\"\n",
    "        if self.premier == None:\n",
    "            self.ajout_en_tete(element)\n",
    "        else:\n",
    "            precedent = self.premier\n",
    "            courant = self.premier.suivant\n",
    "            while courant != None:\n",
    "                precedent = courant\n",
    "                courant = courant.suivant\n",
    "            dernier = Maillon(element)\n",
    "            precedent.suivant = dernier\n",
    "```\n",
    "\n",
    "S'en inspirer pour écrire une nouvelle méthode :\n",
    "```python\n",
    "    def ajout_ieme_position(self, element, i):\n",
    "        \"\"\"Insère element en position i \"\"\"\n",
    "```"
   ]
  },
  {
   "cell_type": "markdown",
   "metadata": {},
   "source": [
    "**Activité** : Ajouter dans la classe `ListeChainee` la méthode de suppression en queue suivante. \n",
    "\n",
    "```python\n",
    "    def supprime_en_queue(self):\n",
    "        \"\"\"Supprime un element en queue de liste\"\"\"\n",
    "        if self.premier.suivant == None:\n",
    "            return self.supprime_en_tete()\n",
    "        else:\n",
    "            precedent = self.premier\n",
    "            courant = self.premier.suivant\n",
    "            while courant.suivant != None:\n",
    "                precedent = courant\n",
    "                courant = courant.suivant\n",
    "            element = courant.element\n",
    "            precedent.suivant = None\n",
    "            return(element)\n",
    "```\n",
    "\n",
    "S'en inspirer pour écrire une nouvelle méthode :\n",
    "```python\n",
    "    def supprime_ieme_position(self, i):\n",
    "        \"\"\"Supprime élément en position i \"\"\"\n",
    "```"
   ]
  },
  {
   "cell_type": "markdown",
   "metadata": {},
   "source": [
    "**Activité** : Ajouter à la classe `ListeChainee` les méthodes suivantes. On suppose que les positions dans une liste sont comptées à partir de 0.\n",
    "\n",
    "- méthode `contient(self, element)` qui renvoie `True` si et seulement si `element` apparaît dans la liste ;\n",
    "- méthode `modifie_ieme_element(self, i, elem)` qui remplace la valeur contenue à la position `i` dans la liste par `elem` ;\n",
    "- méthode `concatene(self, autre)` qui ajoute à la fin de la liste `self` tous les éléments de la liste `autre`."
   ]
  },
  {
   "cell_type": "markdown",
   "metadata": {},
   "source": [
    "## Bilan \n",
    "\n",
    "La classe `ListeChainee` permet d'implémenter complètement le type abstrait liste avec toutes les fonctions d'accès et de modification possibles. On approche ainsi en terme de fonctionnalités, le type `list` standard de Python. Il y a cependant des différences importantes en terme de complexité algorithmique des opérations.\n",
    "\n",
    "Dans la classe `ListeChainee`, seules les opérations en tête de liste sont en temps constant. Toutes les opérations nécessitant un parcours de la liste ont une complexité linéaire en fonction de la taille de la liste. \n",
    "\n",
    "Cela permet de savoir dans quel contexte privilégier ou limiter l'usage de cette classe.\n",
    "\n",
    "Des implémentations plus efficaces existent mais ne sont pas au programme du lycée."
   ]
  },
  {
   "cell_type": "markdown",
   "metadata": {},
   "source": [
    "Equipe pédagoqique DIU EIL, ressource éducative libre distribuée sous [Licence Creative Commons Attribution - Pas d’Utilisation Commerciale - Partage dans les Mêmes Conditions 4.0 International](http://creativecommons.org/licenses/by-nc-sa/4.0/) ![Licence Creative Commons](https://i.creativecommons.org/l/by-nc-sa/4.0/88x31.png)"
   ]
  }
 ],
 "metadata": {
  "kernelspec": {
   "display_name": "Python 3",
   "language": "python",
   "name": "python3"
  },
  "language_info": {
   "codemirror_mode": {
    "name": "ipython",
    "version": 3
   },
   "file_extension": ".py",
   "mimetype": "text/x-python",
   "name": "python",
   "nbconvert_exporter": "python",
   "pygments_lexer": "ipython3",
   "version": "3.6.8"
  }
 },
 "nbformat": 4,
 "nbformat_minor": 2
}
