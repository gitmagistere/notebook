{
 "cells": [
  {
   "cell_type": "markdown",
   "metadata": {},
   "source": [
    "# Didactique de l'informatique\n",
    "\n",
    "## Compétence GENERALISER\n",
    "\n",
    "* Capacité à inférer un problème général à partir d'une instance de ce problème, et à repérer dans un problème particulier la répétition de traitements ou de données suivant un même schéma."
   ]
  },
  {
   "cell_type": "markdown",
   "metadata": {},
   "source": [
    "C'est la notion de fonction **avec paramètres** qui permet de mettre une oeuvre un programme qui peut résoudre un problème général, dont les instances particulières correspondent aux application de cette fonction avec des valeurs particulières des paramètres."
   ]
  },
  {
   "cell_type": "markdown",
   "metadata": {},
   "source": [
    "* **Exemple de travail d'élève** : Le programme suivant aurait pu être réalisé en réponse à la consigne :\n",
    "\n",
    "> Ecrire un programme Python permettant d'additioner deux durées données en heures, minutes et secondes. Utiliser le programme pour calculer la durée de voyage d'un voyageur ayant pris successivement un long courrier pendant exactement 18h20mn30s suivi d'un vol moyen courrier de durée 6h45mn50s."
   ]
  },
  {
   "cell_type": "code",
   "execution_count": null,
   "metadata": {},
   "outputs": [],
   "source": [
    "h1 = 18\n",
    "mn1 = 20\n",
    "s1 = 30\n",
    "total1 = 18 * 3600 + 20 * 60 + 30\n",
    "h2 = 6\n",
    "mn2 = 45\n",
    "s2 = 50\n",
    "total2 = 6 * 3600 + 45 * 60 + 50\n",
    "total = total1 + total2\n",
    "mn = total // 60\n",
    "s = total - mn * 60\n",
    "h = mn // 60\n",
    "mn = mn - h * 60\n",
    "print(h, \"h\",mn , \"mn\",s , \"s\")"
   ]
  },
  {
   "cell_type": "markdown",
   "metadata": {},
   "source": [
    "Le mésusage des variables ne permet pas de repérer directement les schémas communs. Ce sont pourtant bien des calculs analogues qui sont effectués pour `total1` et `total2`. Une première généralisation consiste à définir un traitement générique s'appliquant à trois paramètres et à l'instancier deux fois."
   ]
  },
  {
   "cell_type": "code",
   "execution_count": null,
   "metadata": {},
   "outputs": [],
   "source": [
    "def temps(h, mn, s):\n",
    "    return (h * 3600 + mn * 60 + s)\n",
    "\n",
    "total1 = temps(h1, mn1, s1)\n",
    "total2 = temps(h2, mn2, s2)"
   ]
  },
  {
   "cell_type": "markdown",
   "metadata": {},
   "source": [
    "Une deuxième généralisation pourrait alors consister à ne pas traiter le problème uniquement pour l'exemple demandé, mais pour tout temps donné en paramètre."
   ]
  },
  {
   "cell_type": "code",
   "execution_count": null,
   "metadata": {},
   "outputs": [],
   "source": [
    "def additionner_et_afficher(h1, mn1, s1, h2, mn2, s2):\n",
    "    total1 = temps(h1, mn1, s1)\n",
    "    total2 = temps(h2, mn2, s2)\n",
    "    total = total1 + total2\n",
    "    mn = total // 60\n",
    "    s = total % 60\n",
    "    h = mn // 60\n",
    "    mn = mn % 60\n",
    "    print(h, \"h\", mn , \"mn\", s , \"s\")\n",
    "    \n",
    "additionner_et_afficher (18, 20, 30, 6, 45, 50)"
   ]
  },
  {
   "cell_type": "markdown",
   "metadata": {},
   "source": [
    "On obtient ainsi une solution au problème général qui peut encore être améliorée, en faisant appel à une abstraction des données."
   ]
  },
  {
   "cell_type": "markdown",
   "metadata": {},
   "source": [
    "### Généralisation par une fonction en paramètre\n",
    "\n",
    "Dans le cas où l'on repère, entre deux traitements, un même schéma d'algorithme mais cependant quelques différences dans les calculs effectués on peut utiliser la notion de fonction en paramètre. "
   ]
  },
  {
   "cell_type": "markdown",
   "metadata": {},
   "source": [
    "* **Exemple** : Les deux fonctions suivantes sont construites sur le même schéma : un parcours de liste en appliquant successivement aux éléments de la liste une opération binaire, avec le résultat précédent."
   ]
  },
  {
   "cell_type": "code",
   "execution_count": null,
   "metadata": {},
   "outputs": [],
   "source": [
    "def somme(liste):\n",
    "    resultat = 0\n",
    "    for elt in liste:\n",
    "        resultat = resultat + elt\n",
    "    return(resultat)\n",
    "\n",
    "somme([1, 2, 3, 4, 5])"
   ]
  },
  {
   "cell_type": "code",
   "execution_count": null,
   "metadata": {},
   "outputs": [],
   "source": [
    "def produit(liste):\n",
    "    resultat = 1\n",
    "    for elt in liste:\n",
    "        resultat = resultat * elt\n",
    "    return(resultat)\n",
    "\n",
    "produit([1, 2, 3, 4, 5])"
   ]
  },
  {
   "cell_type": "markdown",
   "metadata": {},
   "source": [
    "On peut **généraliser** ces deux fonctions en définissant une fonction `accumuler`, qui reçoit comme premier paramètre une *fonction* `operation` supposée recevoir deux paramètres."
   ]
  },
  {
   "cell_type": "code",
   "execution_count": null,
   "metadata": {},
   "outputs": [],
   "source": [
    "def accumuler(operation, neutre, liste):\n",
    "    resultat = neutre\n",
    "    for elt in liste:\n",
    "        resultat = operation(resultat, elt)\n",
    "    return(resultat)"
   ]
  },
  {
   "cell_type": "code",
   "execution_count": null,
   "metadata": {},
   "outputs": [],
   "source": [
    "def addition(x, y):\n",
    "    return(x + y)\n",
    "\n",
    "accumuler(addition, 0, [1, 2, 3, 4, 5])"
   ]
  },
  {
   "cell_type": "code",
   "execution_count": null,
   "metadata": {},
   "outputs": [],
   "source": [
    "def multiplication(x, y):\n",
    "    return(x * y)\n",
    "\n",
    "accumuler(multiplication, 1, [1, 2, 3, 4, 5])"
   ]
  },
  {
   "cell_type": "markdown",
   "metadata": {},
   "source": [
    "On a ainsi, à partir du même schéma, décliner plusieurs instances d'une solution à un problème plus général. "
   ]
  },
  {
   "cell_type": "markdown",
   "metadata": {},
   "source": [
    "**Activité :** imaginer une manière de calculer la somme des longueurs des éléments d'une liste de chaînes de caractères, en utilisant la fonction `accumuler`."
   ]
  },
  {
   "cell_type": "markdown",
   "metadata": {},
   "source": [
    "### Conclusion\n",
    "\n",
    "Généraliser est une compétence de haut niveau qui permet au programmeur de résoudre des problèmes plus généraux et ensuite de réutiliser pour des instances particulières des parties de programme déjà écrites. \n",
    "\n",
    "La notion de paramètre, utilisée pour instancier des valeurs particulières ou des fonctions particulières est le mécanisme permettant de mettre en oeuvre la généralisation.\n",
    "\n",
    "Dans le contexte de la programmation objet, un autre mécanisme permet de prévoir des solutions générales à toute une classe de problèmes : c'est le mécanisme de l'héritage entre classes."
   ]
  },
  {
   "cell_type": "markdown",
   "metadata": {},
   "source": [
    "Equipe pédagoqique DIU EIL, ressource éducative libre distribuée sous [Licence Creative Commons Attribution - Pas d’Utilisation Commerciale - Partage dans les Mêmes Conditions 4.0 International](http://creativecommons.org/licenses/by-nc-sa/4.0/) ![Licence Creative Commons](https://i.creativecommons.org/l/by-nc-sa/4.0/88x31.png)"
   ]
  }
 ],
 "metadata": {
  "kernelspec": {
   "display_name": "Python 3",
   "language": "python",
   "name": "python3"
  },
  "language_info": {
   "codemirror_mode": {
    "name": "ipython",
    "version": 3
   },
   "file_extension": ".py",
   "mimetype": "text/x-python",
   "name": "python",
   "nbconvert_exporter": "python",
   "pygments_lexer": "ipython3",
   "version": "3.7.3"
  }
 },
 "nbformat": 4,
 "nbformat_minor": 1
}
