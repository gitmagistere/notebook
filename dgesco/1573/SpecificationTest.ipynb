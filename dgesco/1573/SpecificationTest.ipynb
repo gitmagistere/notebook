{
 "cells": [
  {
   "cell_type": "markdown",
   "metadata": {},
   "source": [
    "# Spécification et test\n",
    "\n",
    "La spécification du comportement d'un programme est une tâche difficile, qui pour les spécialistes peut nécessiter des outils et techniques plutôt ardus (logique formelle par exemple). Ces points concernent plus largement le chapitre « Correction des algorithmes » du bloc 2.\n",
    "\n",
    "Dans le contexte du lycée et pour des programmeurs débutants, une description en langue naturelle du comportement attendu d'un programme ou d'une fonction peut suffire à rendre le programme plus lisible, plus robuste, plus facile à partager ou à modifier.\n",
    "\n",
    "Pour simplifier, on se concentrera ici sur l'objet « fonction », mais les mêmes principes peuvent être appliqués à d'autres objets (modules, classes, programmes complets). "
   ]
  },
  {
   "cell_type": "markdown",
   "metadata": {},
   "source": [
    "## Que « fait » une fonction ?\n",
    "\n",
    "Pour décrire complètement les effets « observables » d'une fonction en Python, c'est à dire ceux que l'on peut constater simplement en appelant la fonction (mais sans inspecter son code), on distingue au moins quatre classes d'éléments.\n",
    "\n",
    "- *Paramètres :* la fonction accepte un certain nombre de paramètres, et précise éventuellement leurs noms ;\n",
    "- *Résultat :* la fonction peut renvoyer une valeur à la fin de son exécution ;\n",
    "- *Effets secondaires :* la fonction peut au cours de son exécution provoquer des effets secondaires (dits *effets de bord*) ;\n",
    "- *Erreurs :* dans certains cas, la fonction peut engendrer une erreur d'une certaine nature.\n",
    "\n",
    "Des exemples d'effets secondaires incluent certaines modifications de l'état de l'interpréteur (modification « durable » du contenu de la mémoire par exemple), des entrées-sorties (écriture dans un fichier, envoi de données sur le réseau, affichage, son...)."
   ]
  },
  {
   "cell_type": "markdown",
   "metadata": {},
   "source": [
    "### Aide en ligne : la fonction `help`\n",
    "\n",
    "Pour aider le programmeur à connaître leur effet, toutes les fonctions prédéfinies disposent d'une aide en ligne plus ou moins détaillée, accessible grâce à la fonction `help`.\n",
    "\n",
    "**Exemple :** la fonction `abs`"
   ]
  },
  {
   "cell_type": "code",
   "execution_count": null,
   "metadata": {},
   "outputs": [],
   "source": [
    "help(abs)"
   ]
  },
  {
   "cell_type": "markdown",
   "metadata": {},
   "source": [
    "Le texte d'aide mentionne uniquement la liste des paramètres (ici un seul) et le résultat produit. La fonction ne provoque aucun effet de bord."
   ]
  },
  {
   "cell_type": "markdown",
   "metadata": {},
   "source": [
    "**Exemple :** la fonction `print`"
   ]
  },
  {
   "cell_type": "code",
   "execution_count": null,
   "metadata": {},
   "outputs": [],
   "source": [
    "help(print)"
   ]
  },
  {
   "cell_type": "markdown",
   "metadata": {},
   "source": [
    "Dans cet exemple un peu complexe, on trouve une liste des paramètres optionnels acceptés par la fonction. Aucun résultat n'est mentionné (mais on peut aussi en Python considérer que la fonction renvoie `None`)."
   ]
  },
  {
   "cell_type": "code",
   "execution_count": null,
   "metadata": {},
   "outputs": [],
   "source": [
    "a = print(1)\n",
    "print(a)"
   ]
  },
  {
   "cell_type": "markdown",
   "metadata": {},
   "source": [
    "**Exemple :** la méthode `pop` sur les listes"
   ]
  },
  {
   "cell_type": "code",
   "execution_count": null,
   "metadata": {},
   "outputs": [],
   "source": [
    "help([].pop)"
   ]
  },
  {
   "cell_type": "markdown",
   "metadata": {},
   "source": [
    "On remarque sur le dernier exemple (méthode permettant de supprimer et renvoyer un élément d'une liste) que l'aide fournie mentionne toutes les catégories d'éléments que nous avons citées : paramètres et leurs noms, résultat obtenu, effets secondaires et erreurs éventuelles."
   ]
  },
  {
   "cell_type": "markdown",
   "metadata": {},
   "source": [
    "### Écrire ses propres textes d'aide : *docstrings*\n",
    "\n",
    "Pour les fonctions qu'on écrit soi-même, il est de bon usage de rédiger un bref texte d'aide reprenant les éléments précédemment évoqués : il suffit pour cela de faire commencer le corps de la fonction par une chaîne de caractères."
   ]
  },
  {
   "cell_type": "code",
   "execution_count": null,
   "metadata": {},
   "outputs": [],
   "source": [
    "def bar(a, b, c):\n",
    "    \"\"\"\n",
    "    Affecte la variable globale g à a + b + c et renvoie a.\n",
    "    \n",
    "    La fonction provoque une ValueError si a + b + c < 0, \n",
    "    et ne modifie pas g dans ce cas.\n",
    "    \"\"\"\n",
    "    global g\n",
    "    somme = a + b + c\n",
    "    if g < 0:\n",
    "        raise ValueError(\"Non.\")\n",
    "    else:\n",
    "        g = somme\n",
    "    return a"
   ]
  },
  {
   "cell_type": "code",
   "execution_count": null,
   "metadata": {},
   "outputs": [],
   "source": [
    "help(bar)"
   ]
  },
  {
   "cell_type": "markdown",
   "metadata": {},
   "source": [
    "**Remarques :** \n",
    "\n",
    "- En Python, il n'est pas évident a priori, et pas forcément souhaitable, d'imposer le type des paramètres. La philosophie du langage est plutôt de « [demander pardon que de demander la permission](https://docs.python.org/fr/3/glossary.html#term-eafp) ». Il est donc parfois préférable de laisser une fonction provoquer une erreur si les valeurs des paramètres sont incorrectes.\n",
    "\n",
    "- Cependant, idéalement la chaîne de documentation d'une fonction doit préciser le(s) type(s) et les domaines de valeurs admis. La responsabilité d'une éventuelle erreur est donc laissée, dans les autres cas, à l'appelant.\n",
    "\n",
    "- Il n'est pas absurde d'écrire la *docstring* d'une fonction avant même d'en avoir écrit le code !\n",
    "\n",
    "- Un énoncé d'exercice de type *« écrire une fonction qui... »* peut souvent être très facilement convertie en *docstring*. Ce travail de lecture et de reformulation de la consigne est une étape potentiellement importante et utile dans la résolution du problème."
   ]
  },
  {
   "cell_type": "markdown",
   "metadata": {},
   "source": [
    "## Expliquer et (se) convaincre à l'aide de tests\n",
    "\n",
    "Comment être certain qu'une fonction, une fois écrite, correspond à sa spécification ? De manière générale cela nécessite de faire une démonstration mathématique (c'est l'objet du chapitre « Correction des algorithmes » du bloc 2.\n",
    "\n",
    "Quand on ne peut ou souhaite pas écrire une démonstration, le plus simple est de tester la fonction, c'est-à-dire de l'appeler sur quelques valeurs (bien) choisies de ses paramètres, et de contrôler la validité du résultat obtenu.\n",
    "\n",
    "**Exemple :**"
   ]
  },
  {
   "cell_type": "code",
   "execution_count": null,
   "metadata": {},
   "outputs": [],
   "source": [
    "def recherche(element, liste):\n",
    "    \"\"\"\n",
    "    Fonction renvoyant l'indice de la première occurrence \n",
    "    de element dans liste, ou None s'il n'y en a aucune.\n",
    "    \"\"\"\n",
    "    for e in liste:\n",
    "        if e == element:\n",
    "            return e\n",
    "    return None"
   ]
  },
  {
   "cell_type": "code",
   "execution_count": null,
   "metadata": {},
   "outputs": [],
   "source": [
    "recherche(1, [7, 1, 2])"
   ]
  },
  {
   "cell_type": "markdown",
   "metadata": {},
   "source": [
    "* **Activité :** Évidemment, un seul test ne suffit pas à se convaincre que la fonction est correcte. Écrire d'autres tests pertinents, et corriger si nécessaire la fonction."
   ]
  },
  {
   "cell_type": "markdown",
   "metadata": {},
   "source": [
    "**Exemple :** on peut ordonner deux listes en utilisant l'ordre lexicographique – on compare le premier élément de chacune des listes, et si l'un est inférieur à l'autre alors c'est la liste correspondante qui est inférieure. S'ils sont égaux, on compare l'élément suivant, et ainsi de suite.\n",
    "\n",
    "On essaie d'écrire une fonction recevant deux listes et déterminant si la première est inférieure à la seconde selon ce critère."
   ]
  },
  {
   "cell_type": "code",
   "execution_count": null,
   "metadata": {},
   "outputs": [],
   "source": [
    "def inferieure_lex(une_liste, autre_liste):\n",
    "    \"\"\"\n",
    "    Renvoie True si une_liste est inférieure à autre_liste \n",
    "    dans l'ordre lexicographique, False sinon.\n",
    "    \"\"\"\n",
    "    i = 0\n",
    "    while i < len(une_liste):\n",
    "        if une_liste[i] < autre_liste[i]:\n",
    "            return True\n",
    "        elif une_liste[i] > autre_liste[i]:\n",
    "            return False\n",
    "        else:\n",
    "            i += 1"
   ]
  },
  {
   "cell_type": "code",
   "execution_count": null,
   "metadata": {},
   "outputs": [],
   "source": [
    "inferieure_lex([1, \"a\", 2], [1, \"b\", 5, 9])"
   ]
  },
  {
   "cell_type": "markdown",
   "metadata": {},
   "source": [
    "* **Activité :** Écrire d'autres tests pertinents, et corriger si nécessaire la fonction."
   ]
  },
  {
   "cell_type": "markdown",
   "metadata": {},
   "source": [
    "### Intégration des tests à la chaîne de documentation\n",
    "\n",
    "Choisir et vérifier des tests pertinents est un travail précieux, dont il est important de garder une trace. De plus, des tests bien choisis peuvent constituer une explication très efficace de l'effet d'une fonction.\n",
    "\n",
    "Une pratique fréquente est d'inclure une série de tests directement dans la chaîne d'aide d'une fonction."
   ]
  },
  {
   "cell_type": "code",
   "execution_count": null,
   "metadata": {},
   "outputs": [],
   "source": [
    "def croissante(elems):\n",
    "    \"\"\"\n",
    "    Renvoie True si la liste elems est croissante.\n",
    "        \n",
    "    >>> croissante([])\n",
    "    True\n",
    "    \n",
    "    >>> croissante([1])\n",
    "    True\n",
    "    \n",
    "    >>> croissante([\"abri\", \"baba\"])\n",
    "    True\n",
    "    \n",
    "    >>> croissante([3, 1])\n",
    "    False\n",
    "    \n",
    "    Provoque une erreur si des éléments de elems ne sont pas comparables.\n",
    "    \n",
    "    >>> croissante([\"bonjour\", 3.14])\n",
    "    Traceback (most recent call last):\n",
    "        ...\n",
    "    ValueError\n",
    "    \"\"\"\n",
    "    ..."
   ]
  },
  {
   "cell_type": "markdown",
   "metadata": {},
   "source": [
    "Par convention, les tests prennent la forme d'expressions Python précédées de la syntaxe `>>>`, qui représente l'invite de commande de l'interpréteur Python classique. Chaque expression est suivi de l'affichage (éventuellement vide) qui serait provoqué si elle était évaluée dans l'interpréteur.\n",
    "\n",
    "Ici, on remarque que les tests ont été écrits *avant* le corps de la fonction. Les résultats indiqués sont calculés « manuellement », donc uniquement issus de la compréhension du problème à résoudre par le programmeur.\n",
    "\n",
    "* **Activité :** compléter le code de la fonction et vérifier chacun des tests qui figurent dans la docstring."
   ]
  },
  {
   "cell_type": "markdown",
   "metadata": {},
   "source": [
    "### Extraction et vérification automatique de tests : le module *doctest*\n",
    "\n",
    "Un outil prédéfini, accessible par le biais du module `doctest`, permet d'extraire automatiquement et de vérifier chacun des tests présents dans les chaînes de documentation, dans toutes les fonctions d'un module par exemple (par défaut, les tests du module courant sont extraits et vérifiés)."
   ]
  },
  {
   "cell_type": "code",
   "execution_count": null,
   "metadata": {},
   "outputs": [],
   "source": [
    "import doctest"
   ]
  },
  {
   "cell_type": "code",
   "execution_count": null,
   "metadata": {},
   "outputs": [],
   "source": [
    "doctest.testmod()"
   ]
  },
  {
   "cell_type": "markdown",
   "metadata": {},
   "source": [
    "**Exemple :** Certains modules prédéfinis de Python utilisent également des *doctests*. Par curiosité, inspectons ceux du module `fractions`."
   ]
  },
  {
   "cell_type": "code",
   "execution_count": null,
   "metadata": {},
   "outputs": [],
   "source": [
    "import fractions\n",
    "doctest.testmod(fractions, verbose=True)"
   ]
  },
  {
   "cell_type": "markdown",
   "metadata": {},
   "source": [
    "## Conclusion\n",
    "\n",
    "- On a vu comment documenter une fonction en *spécifiant* son comportement de manière concise, mais la plus claire et complète possible.\n",
    "\n",
    "- On a également proposé une syntaxe permettant d'inclure des tests directement à cette documentation, et un outil pour les extraire et les vérifier automatiquement, ce qui apporte de la robustesse au programme.\n",
    "\n",
    "- Encourager des élèves ou étudiants à adopter une pratique rigoureuse de la spécification et du test (sous une forme ou une autre) peut les aider à \n",
    "    - lire attentivement la consigne et s'assurer de la comprendre,\n",
    "    - prendre le temps de la réflexion (avant, pendant ou après la programmation),\n",
    "    - réfléchir aux cas particuliers éventuels s'ils ne sont pas entièrement décrits.\n",
    "\n",
    "- Il n'y a pas de méthode systématique pour s'assurer qu'on a pensé à tous les tests importants, ni même qu'ils sont corrects. Il faut donc être particulièrement vigilant lors de l'élaboration des tests.\n",
    "\n",
    "## Pour aller plus loin\n",
    "\n",
    "- Il existe bien d'autres outils de documentation (pydoc, Sphinx) et de test (pytest, unittest), pour des usages plus complexes.\n",
    "\n",
    "- Il est possible, de manière optionnelle, d'indiquer dans l'en-tête d'une fonction le type de certains paramètres et / ou du résultat. Cela peut être utile par exemple pour alléger la chaîne de documentation. Il existe aussi des outils externes qui permettent de vérifier que ces annotations de types sont vérifiées. On pourra consulter la [page dédiée]() pour plus d'informations."
   ]
  }
 ],
 "metadata": {
  "kernelspec": {
   "display_name": "Python 3",
   "language": "python",
   "name": "python3"
  },
  "language_info": {
   "codemirror_mode": {
    "name": "ipython",
    "version": 3
   },
   "file_extension": ".py",
   "mimetype": "text/x-python",
   "name": "python",
   "nbconvert_exporter": "python",
   "pygments_lexer": "ipython3",
   "version": "3.7.3"
  }
 },
 "nbformat": 4,
 "nbformat_minor": 2
}
