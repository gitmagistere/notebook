{
 "cells": [
  {
   "cell_type": "markdown",
   "metadata": {},
   "source": [
    "# Programmation modulaire\n",
    "## Objectifs\n",
    "\n",
    "-   Comprendre l'intérêt de la programmation modulaire\n",
    "-   Savoir concevoir et utiliser un module\n",
    "\n",
    "## Pourquoi la programmation modulaire ?\n",
    "\n",
    "-   développement logiciel\n",
    "-   modification et maintenance logicielle\n",
    "-   réutilisabilité\n",
    "-   création de nouveaux types de données\n",
    "\n",
    "## Les modules en Python\n",
    "\n",
    "Module = fichier contenant un ensemble de déclarations de fonctions ou\n",
    "autres.\n"
   ]
  },
  {
   "cell_type": "markdown",
   "metadata": {},
   "source": [
    "## Exemples de modules Python\n",
    "Certains de ces modules sont des modules standard livrés avec toute\n",
    "distribution de Python. D'autres doivent être installés indépendamment\n",
    "(par exemple avec `pip` ou `conda`, ou via le gestionnaire de module de Thonny).\n",
    "\n",
    "Modules standard\n",
    "\n",
    "* `math` : constantes et fonctions mathématiques\n",
    "* `random` : fonctions de génération d'alea\n",
    "* `turtle` : dessiner avec une tortue\n",
    "* `sys` : fonctions système\n",
    "\n",
    "Modules non standard\n",
    "\n",
    "* `PIL` : package de traitement d'images\n",
    "* `networkx` : graphes\n",
    "* `pylab` : package scientifique. Regroupe `numpy` (calculs numériques\n",
    "  et vectoriels) et `matplotlib` (création de graphiques) \n"
   ]
  },
  {
   "cell_type": "markdown",
   "metadata": {},
   "source": [
    "## Importation d'un module\n",
    "\n",
    "Plusieurs formes d'importation\n",
    "\n",
    "-   `from <module> import *` \n",
    "-   `from <module> import <truc>`\n",
    "-   `import <module>`\n",
    "-   `import <module> as <autre nom>`\n",
    "\n",
    "La différence entre la forme `from ... import ...` et la forme\n",
    "`import ...` réside dans la forme à donner aux noms des fonctionnalités\n",
    "offertes par le module :\n",
    "\n",
    "-   avec la première forme, il suffit d'invoquer le simple nom de la\n",
    "    fonctionnalité ;\n",
    "-   avec la seconde forme, il est nécessaire de *pleinement qualifier*\n",
    "    le nom en le préfixant du nom du module."
   ]
  },
  {
   "cell_type": "markdown",
   "metadata": {},
   "source": [
    "- Importation de toutes les fonctions définies dans le module `random` :"
   ]
  },
  {
   "cell_type": "code",
   "execution_count": null,
   "metadata": {},
   "outputs": [],
   "source": [
    "from random import *\n",
    "l = [1, 2, 3]\n",
    "shuffle(l)\n",
    "l"
   ]
  },
  {
   "cell_type": "markdown",
   "metadata": {},
   "source": [
    "- Importation de deux définitions du module `math`:"
   ]
  },
  {
   "cell_type": "code",
   "execution_count": null,
   "metadata": {},
   "outputs": [],
   "source": [
    "from math import cos, pi\n",
    "cos(pi)"
   ]
  },
  {
   "cell_type": "markdown",
   "metadata": {},
   "source": [
    "- Importation avec la forme `import math` :"
   ]
  },
  {
   "cell_type": "code",
   "execution_count": null,
   "metadata": {},
   "outputs": [],
   "source": [
    "import math\n",
    "math.cos(math.pi)"
   ]
  },
  {
   "cell_type": "markdown",
   "metadata": {},
   "source": [
    "- Importation avec la  forme `import random as alea` :"
   ]
  },
  {
   "cell_type": "code",
   "execution_count": null,
   "metadata": {},
   "outputs": [],
   "source": [
    "import random as alea\n",
    "alea.randint(0, 10)"
   ]
  },
  {
   "cell_type": "markdown",
   "metadata": {},
   "source": [
    "## Utiliser un module en script\n",
    "\n",
    "En Python, un module n'étant qu'un ensemble de déclarations faites\n",
    "dans un fichier, il est possible d'utiliser un module en tant que\n",
    "script et l'exécuter.\n",
    "\n",
    "Si ce module ne contient que des définitions de constantes et fonctions,\n",
    "son exécution ne produit rien.\n",
    "\n",
    "En revanche, s'il contient des instructions de calculs et/ou\n",
    "d'impressions, ces calculs et/ou impressions sont effectués.\n",
    "\n",
    "C'est très bien lorsque le module est utilisé en tant que script\n",
    "principal, mais cela peut être fâcheux à l'exécution d'un autre script\n",
    "qui l'importe : des calculs inutiles peuvent être effectués et des\n",
    "impressions inopportunes peuvent apparaître.\n",
    "\n",
    "Une solution à cela consiste à placer dans le module toutes les\n",
    "instructions à exécuter dans une instruction conditionnelle (placée en\n",
    "général à la fin du texte)\n",
    "\n",
    "```python\n",
    "if __name__ == '__main__':\n",
    "   # instructions à exécuter\n",
    "```\n",
    "\n",
    "La condition de cette instruction conditionnelle regarde si la variable\n",
    "`__name__` vaut `'__main__'` ce qui est le cas uniquement si le module\n",
    "est importé en tant que script principal.\n",
    "\n",
    "\n",
    "**Attention :** il y a deux caractères blancs soulignés (underscore) entourant les mots\n",
    "`name` et `main`.\n",
    "\n",
    "On peut profiter de cette possibilité pour effectuer des doctests,\n",
    "vérifiant la conformité du code aux spécifications décrites dans les\n",
    "docstrings.\n",
    "\n",
    "```python\n",
    "if __name__ == '__main__':\n",
    "   import doctest\n",
    "   doctest.testmod()\n",
    "```\n",
    "\n",
    "Ainsi en phase de développement du module, il suffit d'exécuter le\n",
    "module en tant que script principal pour effectuer ces tests. Bien\n",
    "entendu, si le module est importé par un autre script, ces tests ne sont\n",
    "pas exécutés."
   ]
  },
  {
   "cell_type": "markdown",
   "metadata": {},
   "source": [
    "## Exemple de conception de module : les nombres complexes\n",
    "\n",
    "Pour illustrer le propos, on souhaite réaliser un (petit) module\n",
    "sur les nombres complexes.\n",
    "\n",
    "**Remarque :**\n",
    "les nombres complexes sont prédéfinis en Python. Pour écrire\n",
    "littéralement le nombre complexe $a + ib$ en Python, on utilise la lettre\n",
    "`j` pour désigner le nombre complexe $i$ (dont le carré vaut -1) en la\n",
    "plaçant derrière la partie imaginaire $b$ sans espace."
   ]
  },
  {
   "cell_type": "code",
   "execution_count": null,
   "metadata": {},
   "outputs": [],
   "source": [
    "z = 1 + 2j\n",
    "type(z)"
   ]
  },
  {
   "cell_type": "code",
   "execution_count": null,
   "metadata": {},
   "outputs": [],
   "source": [
    "z + z"
   ]
  },
  {
   "cell_type": "code",
   "execution_count": null,
   "metadata": {},
   "outputs": [],
   "source": [
    "z * z"
   ]
  },
  {
   "cell_type": "markdown",
   "metadata": {},
   "source": [
    "Notre module sur les nombres complexes n'est donc présenté que pour des\n",
    "raisons pédagogiques."
   ]
  },
  {
   "cell_type": "markdown",
   "metadata": {},
   "source": [
    "### Interface\n",
    "\n",
    "Commençons par définir l'interface de ce module, c'est-à-dire\n",
    "l'ensemble des fonctionnalités qu'il offre.\n",
    "\n",
    "Chacune de ces fonctions sera décrite par une spécification précisant\n",
    "\n",
    "-   son nom \n",
    "-   ses paramètres\n",
    "-   la valeur qu'elle renvoie ou l'effet qu'elle produit\n",
    "-   les contraintes d'utilisation (**UC** pour *Usage constraint*)\n",
    "-   et éventuellement des exemples d'utilisation.\n",
    "\n",
    "Les interfaces sont, dans ce qui suit, présentées en tant que docstring avec la réalisation."
   ]
  },
  {
   "cell_type": "markdown",
   "metadata": {},
   "source": [
    "### Une réalisation\n",
    "\n",
    "Passons maintenant à l'implémentation de ce module.\n",
    "\n",
    "Une première possibilité pour représenter les nombres complexes est\n",
    "d'utiliser les structures de dictionnaire. Ainsi, nous pouvons\n",
    "envisager de représenter les nombres complexes avec des dictionnaires à\n",
    "deux champs `'re'` pour la partie réelle et `'im'` pour la partie\n",
    "imaginaire. Ainsi le nombre complexe $1+2i$ sera représenté par le\n",
    "dictionnaire `{'re': 1, 'im':2}`."
   ]
  },
  {
   "cell_type": "markdown",
   "metadata": {},
   "source": [
    "#### Constructeurs\n",
    "\n",
    "\n",
    "Commençons par les constructeurs, autrement dit les fonctions permettant\n",
    "de construire des nombres complexes à partir des types de base (`int` ou\n",
    "`float`).\n",
    "\n",
    "Ces constructeurs sont au nombre de deux :"
   ]
  },
  {
   "cell_type": "code",
   "execution_count": null,
   "metadata": {},
   "outputs": [],
   "source": [
    "import builtins, math\n",
    "\n",
    "def create(real_part, imag_part):\n",
    "    \"\"\"\n",
    "    create a complex number with real part  and imaginary part \n",
    "\n",
    "    :param real_part: the real part of the complex number to create\n",
    "    :type real_part: int or float\n",
    "    :param imag_part: the imaginary part of the complex number to create\n",
    "    :type real_part: int or float\n",
    "    :return: the complex number real_part + i imag_part\n",
    "    :rtype: complex\n",
    "    :UC: none\n",
    "    :Example:\n",
    "\n",
    "    >>> z = create(1, 2)\n",
    "    >>> get_real_part(z)\n",
    "    1.0\n",
    "    >>> get_imag_part(z)\n",
    "    2.0\n",
    "    \"\"\"\n",
    "    assert type(real_part) in {int, float}, 'first argument is not int or float' \n",
    "    assert type(imag_part) in {int, float}, 'second argument is not int or float' \n",
    "    return {'re' : float(real_part), 'im' : float(imag_part)}"
   ]
  },
  {
   "cell_type": "code",
   "execution_count": null,
   "metadata": {},
   "outputs": [],
   "source": [
    "def from_real_number(x):\n",
    "    \"\"\"\n",
    "    create the complex number x + i0 from real number x\n",
    "\n",
    "    :param x: a real number\n",
    "    :type x: int or float\n",
    "    :return: the complex number x + 0i\n",
    "    :rtype: complex\n",
    "    :UC: none\n",
    "    :Example:\n",
    "\n",
    "    >>> z = from_real_number(1)\n",
    "    >>> get_real_part(z)\n",
    "    1.0\n",
    "    >>> get_imag_part(z)\n",
    "    0.0\n",
    "    \"\"\"\n",
    "    return create(x, 0)"
   ]
  },
  {
   "cell_type": "markdown",
   "metadata": {},
   "source": [
    "#### Sélecteurs\n",
    "\n",
    "Passons aux sélecteurs."
   ]
  },
  {
   "cell_type": "code",
   "execution_count": null,
   "metadata": {},
   "outputs": [],
   "source": [
    "def get_real_part(z):\n",
    "    \"\"\"\n",
    "    return the real part of complex number z\n",
    "\n",
    "    :param z: a complex number\n",
    "    :type z: complex\n",
    "    :return: the real part of z\n",
    "    :rtype: float\n",
    "    :UC: none\n",
    "    :Example:\n",
    "\n",
    "    >>> z = create(1, 2)\n",
    "    >>> get_real_part(z)\n",
    "    1.0\n",
    "    \"\"\"\n",
    "    return z['re']"
   ]
  },
  {
   "cell_type": "code",
   "execution_count": null,
   "metadata": {},
   "outputs": [],
   "source": [
    "def get_imag_part(z):\n",
    "    \"\"\"\n",
    "    return the imaginary part of complex number z\n",
    "\n",
    "    :param z: a complex number\n",
    "    :type z: complex\n",
    "    :return: the imaginary part of z\n",
    "    :rtype: float\n",
    "    :UC: none\n",
    "    :Example:\n",
    "\n",
    "    >>> z = create(1, 2)\n",
    "    >>> get_imag_part(z)\n",
    "    2.0\n",
    "    \"\"\"\n",
    "    return z['im']"
   ]
  },
  {
   "cell_type": "markdown",
   "metadata": {},
   "source": [
    "#### Comparaisons\n",
    "\n",
    "Une fonction de comparaison permettant de tester l'égalité de deux\n",
    "nombres complexes."
   ]
  },
  {
   "cell_type": "code",
   "execution_count": null,
   "metadata": {},
   "outputs": [],
   "source": [
    "def are_equals(z1, z2):\n",
    "    \"\"\"\n",
    "    return True if complex numbers z1 and z2 are equals\n",
    "           False otherwise\n",
    "\n",
    "    :param z1: a complex number\n",
    "    :type z1: complex\n",
    "    :param z2: a complex number\n",
    "    :type z2: complex\n",
    "    :return: True if z1 = z2, False otherwise\n",
    "    :rtype: bool\n",
    "    :UC: none\n",
    "    :Example:\n",
    "\n",
    "    >>> z1 = create(1, 2)\n",
    "    >>> z2 = create(1, 2)\n",
    "    >>> z3 = create(1, -1)\n",
    "    >>> are_equals(z1, z2)\n",
    "    True\n",
    "    >>> are_equals(z1, z3)\n",
    "    False\n",
    "    \"\"\"\n",
    "    return get_real_part(z1) == get_real_part(z2) and get_imag_part(z1) == get_imag_part(z2) "
   ]
  },
  {
   "cell_type": "markdown",
   "metadata": {},
   "source": [
    "#### Fonctions de calcul\n",
    "\n",
    "Voici maintenant quelques fonctions de calculs sur les nombres\n",
    "complexes.\n"
   ]
  },
  {
   "cell_type": "code",
   "execution_count": null,
   "metadata": {},
   "outputs": [],
   "source": [
    "def modulus(z):\n",
    "    \"\"\"\n",
    "    return the modulus of complex number z, ie :math:`\\sqrt{x^2 + y^2}` \n",
    "    if :math:`z=x+yi`.\n",
    "\n",
    "    :param z: a complex number\n",
    "    :type z: complex\n",
    "    :return: his modulus\n",
    "    :rtype: float\n",
    "    :UC: none\n",
    "    :Example:\n",
    "\n",
    "    >>> modulus(create(0, 0))\n",
    "    0.0\n",
    "    >>> modulus(create(3, 4))\n",
    "    5.0\n",
    "    \"\"\"\n",
    "    x = get_real_part(z)\n",
    "    y = get_imag_part(z)\n",
    "    return math.sqrt(x ** 2 + y ** 2)"
   ]
  },
  {
   "cell_type": "code",
   "execution_count": null,
   "metadata": {},
   "outputs": [],
   "source": [
    "def add(z1, z2):\n",
    "    \"\"\"\n",
    "    return the sum of the two complex numbers z1 and z2\n",
    "    \n",
    "    :param z1: a complex number\n",
    "    :type z1: complex\n",
    "    :param z2: a complex number\n",
    "    :type z2: complex\n",
    "    :return: z1 + z2\n",
    "    :rtype: complex\n",
    "    :UC: none\n",
    "    :Example:\n",
    "\n",
    "    >>> z = add(create(1, 2), create(3, 4))\n",
    "    >>> get_real_part(z)\n",
    "    4.0\n",
    "    >>> get_imag_part(z)\n",
    "    6.0\n",
    "    \"\"\"\n",
    "    x1 = get_real_part(z1)\n",
    "    y1 = get_imag_part(z1)\n",
    "    x2 = get_real_part(z2)\n",
    "    y2 = get_imag_part(z2)\n",
    "    return create(x1 + x2, y1 + y2)"
   ]
  },
  {
   "cell_type": "code",
   "execution_count": null,
   "metadata": {},
   "outputs": [],
   "source": [
    "def mul(z1, z2):\n",
    "    \"\"\"\n",
    "    return the product of the two complex numbers z1 and z2\n",
    "    \n",
    "    :param z1: a complex number\n",
    "    :type z1: complex\n",
    "    :param z2: a complex number\n",
    "    :type z2: complex\n",
    "    :return: z1 * z2\n",
    "    :rtype: complex\n",
    "    :UC: none\n",
    "    :Example:\n",
    "\n",
    "    >>> z = mul(create(1, 2), create(3, 4))\n",
    "    >>> get_real_part(z)\n",
    "    -5.0\n",
    "    >>> get_imag_part(z)\n",
    "    10.0\n",
    "    \n",
    "    \"\"\"\n",
    "    x1 = get_real_part(z1)\n",
    "    y1 = get_imag_part(z1)\n",
    "    x2 = get_real_part(z2)\n",
    "    y2 = get_imag_part(z2)\n",
    "    return create(x1 * x2 - y1 * y2, x1 * y2 + y1 * x2)"
   ]
  },
  {
   "cell_type": "markdown",
   "metadata": {},
   "source": [
    "#### Imprimeur\n",
    "\n",
    "Une fonction d'impression des nombres complexes dans une forme lisible\n",
    "et compréhensible."
   ]
  },
  {
   "cell_type": "code",
   "execution_count": null,
   "metadata": {},
   "outputs": [],
   "source": [
    "def __to_string(z):\n",
    "    \"\"\"\n",
    "    return a string representation of the complex number z with algebraic form\n",
    "    `x+yi` where x = real part of z and y = imaginary part\n",
    "\n",
    "    :param z: complex number to convert\n",
    "    :type z: complex\n",
    "    :return: a string representation of z\n",
    "    :rtype: string\n",
    "    :UC: none\n",
    "    :Example:\n",
    "\n",
    "    >>> z = create(1, 2)\n",
    "    >>> __to_string(z)\n",
    "    '1.000000 + 2.000000i'\n",
    "    \"\"\"\n",
    "    return '{:f} + {:f}i'.format(get_real_part(z), get_imag_part(z))"
   ]
  },
  {
   "cell_type": "code",
   "execution_count": null,
   "metadata": {},
   "outputs": [],
   "source": [
    "def print(z, end='\\n'):\n",
    "    \"\"\"\n",
    "    print the complex number z with algebraic form `x + yi`\n",
    "    where x = real part of z and y = imaginary part\n",
    "\n",
    "    :param z: complex number to print\n",
    "    :type z: complex\n",
    "    :param end: [optional] separator (default is '\\\\\\\\n')\n",
    "    :type end: string\n",
    "    :return: None\n",
    "    :UC: none\n",
    "    :Example:\n",
    "\n",
    "    >>> z = create(1, 2)\n",
    "    >>> print(z)\n",
    "    1.000000 + 2.000000i\n",
    "    \"\"\"\n",
    "    builtins.print(__to_string(z), end=end)"
   ]
  },
  {
   "cell_type": "code",
   "execution_count": null,
   "metadata": {},
   "outputs": [],
   "source": [
    "import doctest\n",
    "doctest.testmod()"
   ]
  },
  {
   "cell_type": "markdown",
   "metadata": {},
   "source": [
    "### Un programme utilisant ce module\n",
    "\n",
    "Si toutes les fonctions précédentes, sont regroupées dans le module `complex.py`, le programme suivant :\n",
    "\n",
    "-   construit deux nombres complexes `z1` et `z2` à partir de quatre\n",
    "    nombres donnés\n",
    "-   les imprime ainsi que leur module\n",
    "-   et imprime finalement leur somme et leur produit."
   ]
  },
  {
   "cell_type": "code",
   "execution_count": null,
   "metadata": {},
   "outputs": [],
   "source": [
    "import builtins\n",
    "import complex\n",
    "\n",
    "z1 = complex.create(1, 2)\n",
    "z2 = complex.create(3, 4)\n",
    "\n",
    "builtins.print()\n",
    "builtins.print('z1 = ',end='')\n",
    "complex.print(z1)\n",
    "builtins.print (\"z1's modulus = {:f}\".format(complex.modulus (z1)))\n",
    "builtins.print()\n",
    "\n",
    "builtins.print('z2 = ',end='')\n",
    "complex.print(z2)\n",
    "builtins.print(\"z2's modulus = {:f}\".format (complex.modulus (z2)))\n",
    "builtins.print()\n",
    "\n",
    "builtins.print('z1 + z2 = ', end='')\n",
    "complex.print(complex.add(z1, z2))\n",
    "builtins.print()\n",
    "\n",
    "builtins.print('z1 * z2 = ', end='')\n",
    "complex.print(complex.mul(z1, z2))\n",
    "builtins.print()"
   ]
  },
  {
   "cell_type": "markdown",
   "metadata": {},
   "source": [
    "### Conclusion\n",
    "On a ainsi conçu l'interface et réalisé un nouveau module `complex` en Python."
   ]
  },
  {
   "cell_type": "markdown",
   "metadata": {},
   "source": [
    "Equipe pédagoqique DIU EIL, ressource éducative libre distribuée sous [Licence Creative Commons Attribution - Pas d’Utilisation Commerciale - Partage dans les Mêmes Conditions 4.0 International](http://creativecommons.org/licenses/by-nc-sa/4.0/) ![Licence Creative Commons](https://i.creativecommons.org/l/by-nc-sa/4.0/88x31.png)"
   ]
  }
 ],
 "metadata": {
  "kernelspec": {
   "display_name": "Python 3",
   "language": "python",
   "name": "python3"
  },
  "language_info": {
   "codemirror_mode": {
    "name": "ipython",
    "version": 3
   },
   "file_extension": ".py",
   "mimetype": "text/x-python",
   "name": "python",
   "nbconvert_exporter": "python",
   "pygments_lexer": "ipython3",
   "version": "3.6.7"
  }
 },
 "nbformat": 4,
 "nbformat_minor": 2
}
