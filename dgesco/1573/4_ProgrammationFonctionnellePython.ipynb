{
 "cells": [
  {
   "cell_type": "markdown",
   "metadata": {},
   "source": [
    "# Programmation fonctionnelle : principes généraux et application en Python"
   ]
  },
  {
   "cell_type": "markdown",
   "metadata": {},
   "source": [
    "La programmation fonctionnelle est née avec le langage Lisp (List Processing) créé par John Mac Carthy en 1958, comme mise en oeuvre du lambda-calcul. Le langage LISP a eu ensuite de nombreux descendants dont Common Lisp, Scheme et Lelisp (INRIA).\n",
    "\n",
    "Le langage ML, créé par Robin Milner en 1970, a initialement été destiné à l'écriture de démonstrateurs. Son typage fort en fait un langage formel très robuste et adapté aux preuves. Le langage ML a eu de nombreux descendants dont Standard ML, Haskell (ML avec évaluation paresseuse), et CAML (INRIA 1985).\n",
    "\n",
    "Les idées introduites par ces langages ont été reprises dans la plupart des langages modernes qui offrent la possibilité, entre autres, de programmer en suivant un *paradigme fonctionnel*."
   ]
  },
  {
   "cell_type": "markdown",
   "metadata": {},
   "source": [
    "## Exemple introductif : traitement de listes\n",
    "\n",
    "On montre, dans différents langages, comment s'écrit la définition d'une fonction calculant le dernier élément d'une liste.\n",
    "\n",
    "En Lisp, les listes se notent avec des parenthèses et le traitement de listes repose sur 2 primitives `car` et `cdr` pour accéder au 1er élément et au reste d'une liste. On remarque la notation préfixée des opérateurs et l'usage abondant des parenthèses qui servent à la fois à structurer les données et les programmes.\n",
    "\n",
    "```lisp\n",
    "(de dernier (l)\n",
    "  (cond ((null (cdr l)) (car l))\n",
    "        (t (dernier (cdr l)))\n",
    "  )\n",
    ")\n",
    "(dernier '(2 4 3 9))\n",
    "```\n",
    "\n",
    "En Caml, les listes se notent avec des crochets, les primitives d'accès au premier et au reste d'une liste sont notées `hd` et `tl`. La notation des fonctions se veut proche de la notation mathématique. Les types sont inférés des expressions et des définitions.\n",
    "\n",
    "```caml\n",
    "let rec dernier = function l -> \n",
    "        if tl(l) = [] then hd(l) else dernier (tl(l));;\n",
    "val dernier : 'a list -> 'a = <fun>\n",
    "dernier [2; 4; 3; 9];;\n",
    "- : int = 9\n",
    "```\n",
    "\n",
    "A condition de définir au préalable les fonctions utilisées, on peut, en Python, définir la fonction `dernier`, selon le paradigme fonctionnel."
   ]
  },
  {
   "cell_type": "code",
   "execution_count": null,
   "metadata": {},
   "outputs": [],
   "source": [
    "def listevide ():\n",
    "    return []\n",
    "\n",
    "def premier (l):\n",
    "    return l[0]\n",
    "\n",
    "def reste (l):\n",
    "    return l[1:]\n",
    "\n",
    "def dernier (l):\n",
    "    return premier(l) if reste(l) == listevide() else dernier(reste(l))\n",
    "\n",
    "dernier([2, 4, 3, 9])"
   ]
  },
  {
   "cell_type": "markdown",
   "metadata": {},
   "source": [
    "## Exemple introductif : calcul arithmétique\n",
    "\n",
    "Pour calculer le pgcd de deux nombres entiers positifs donnés, on peut, dans un style impératif, écrire une boucle qui soustrait alternativement le plus petit du plus grand jusqu'à ce qu'on obtienne 0.\n",
    "\n",
    "Dans un style fonctionnel, on écrit une fonction qui renvoie le résultat en précisant la valeur dans les cas simples et en se ramenant, le cas échéant, par appel récursif, à des cas plus simples."
   ]
  },
  {
   "cell_type": "code",
   "execution_count": null,
   "metadata": {},
   "outputs": [],
   "source": [
    "def pgcd (a, b):\n",
    "    return a if b == 0 else pgcd (b,a) if b > a else pgcd (a-b, b)\n",
    "\n",
    "pgcd (56, 184)"
   ]
  },
  {
   "cell_type": "markdown",
   "metadata": {},
   "source": [
    "## Le paradigme fonctionnel\n",
    "\n",
    "Les notions de programmation utilisées dans les deux exemples introductifs sont :\n",
    "* la notion de **fonction** qui est évidemment centrale,\n",
    "* la **composition** de fonctions, qui permet de faire deux calculs successifs : par exemple `dernier(reste(l))` applique la fonction `dernier` au résultat de l'application de la fonction `reste` à la liste `l`,\n",
    "* la possibilité d'écrire des **expressions conditionnelles**, en Python sous la forme : `exp1 if cond else exp2`,\n",
    "* la **récursion** qui permet de réduire un calcul complexe à un cas plus simple.\n",
    "\n",
    "L'usage de toutes ou une partie de ces quatre notions est caractéristique de la programmation fonctionnelle.\n",
    "\n",
    "Par contre, on n'a pas utilisé :\n",
    "* de variable,\n",
    "* d'instruction élémentaire : affichage ou affectation,\n",
    "* de boucle pour répéter des instructions\n",
    "* de séquence pour enchaîner des instructions \n",
    "* d'instruction conditionnelle.\n",
    "\n",
    "Ces notions sont, quant à elles, les briques de base de la programmation impérative.\n",
    "\n",
    "### Correspondances\n",
    "\n",
    "* En programmation fonctionnelle, la **composition** remplace la **séquence**.\n",
    "* L'écriture d'**expressions** - en particulier conditionnelles - remplace l'écriture d'**instructions**.\n",
    "* La **récursion** remplace l'**itération**."
   ]
  },
  {
   "cell_type": "markdown",
   "metadata": {},
   "source": [
    "**Activité** : Ecrire en Python, selon le paradigme fonctionnel, une fonction qui prend en entrée une chaîne de caractères et qui la renvoie retournée. On n'utilisera pour construire le résultat que la chaine `''` et l'opération `+`. On n'utilisera, pour accéder à des parties d'une chaine `s`, que les notations `s[0]` et `s[1:]` pour accéder respectivement au premier caractère et aux suivants. \n",
    "\n",
    "Compléter la fonction `renverse`, pour que les tests réussissent."
   ]
  },
  {
   "cell_type": "code",
   "execution_count": null,
   "metadata": {},
   "outputs": [],
   "source": [
    "def renverse (s):\n",
    "    \"\"\"\n",
    "    Renvoie une chaine de caractères renversée\n",
    "    >>> renverse('bonjour')\n",
    "    'ruojnob'\n",
    "    >>> renverse('rever')\n",
    "    'rever'\n",
    "    >>> renverse('')\n",
    "    ''\n",
    "    \"\"\"\n",
    "    return('')"
   ]
  },
  {
   "cell_type": "code",
   "execution_count": null,
   "metadata": {},
   "outputs": [],
   "source": [
    "import doctest\n",
    "doctest.testmod()"
   ]
  },
  {
   "cell_type": "markdown",
   "metadata": {},
   "source": [
    "## Les fonctions d'ordre supérieur\n",
    "\n",
    "Dans un langage fonctionnel, une fonction est une expression comme une autre, qui peut donc être passée en paramètre ou renvoyée comme résultat. \n",
    "\n",
    "En Python, une fonction peut être écrite par la notation `lambda`, puis être nommée - ou pas."
   ]
  },
  {
   "cell_type": "code",
   "execution_count": null,
   "metadata": {},
   "outputs": [],
   "source": [
    "double = lambda x : 2 * x\n",
    "\n",
    "double(16)"
   ]
  },
  {
   "cell_type": "markdown",
   "metadata": {},
   "source": [
    "Fondamentalement, cela permet de considérer un programme comme une donnée et donc de fabriquer des programmes qui fabriquent ou testent ou vérifient d'autres programmes. \n",
    "\n",
    "Cela peut amener à écrire des programmes très abstraits, potentiellement difficiles à conceptualiser pour les élèves.\n",
    "\n",
    "Cela est cependant fort utile dans au moins deux cas d'usage : les fonctions usuelles de bibliothèques qui admettent une fonction en entrée et les schémas de récurrence classiques sur les listes."
   ]
  },
  {
   "cell_type": "markdown",
   "metadata": {},
   "source": [
    "### Utiliser des fonctions en paramètres\n",
    "\n",
    "La fonction standard `sorted` prend en paramètre - nommé `key` - une fonction calculant la clé sur laquelle effectuer le tri. Pour comparer deux éléments, ce sont leurs clés qui sont comparées."
   ]
  },
  {
   "cell_type": "code",
   "execution_count": null,
   "metadata": {},
   "outputs": [],
   "source": [
    "help(sorted)"
   ]
  },
  {
   "cell_type": "code",
   "execution_count": null,
   "metadata": {},
   "outputs": [],
   "source": [
    "animaux = ['veau', 'vache', 'cochon', 'anaconda', 'chat', 'chien', 'ver', 'poule', 'souris']\n",
    "sorted(animaux)"
   ]
  },
  {
   "cell_type": "markdown",
   "metadata": {},
   "source": [
    "On peut utiliser la fonction `len` pour trier les chaines selon leur longueur."
   ]
  },
  {
   "cell_type": "code",
   "execution_count": null,
   "metadata": {},
   "outputs": [],
   "source": [
    "sorted(animaux, key=len)"
   ]
  },
  {
   "cell_type": "markdown",
   "metadata": {},
   "source": [
    "On peut aussi fournir comme clé une fonction écrite avec la notation `lambda`. Dans cet exemple, on trie des points selon leur distance de Manhattan au point `(0,0)`."
   ]
  },
  {
   "cell_type": "code",
   "execution_count": null,
   "metadata": {},
   "outputs": [],
   "source": [
    "points = [(2, 4), (3, 5), (1, 1), (7,5), (3,1), (5,0)]\n",
    "sorted(points, key = lambda p : p[0] + p[1])"
   ]
  },
  {
   "cell_type": "markdown",
   "metadata": {},
   "source": [
    "**Activité** : Trier la liste d'enregistrements suivants, par ordre alphabétique de nom, puis de prénom si les noms sont identiques."
   ]
  },
  {
   "cell_type": "code",
   "execution_count": null,
   "metadata": {},
   "outputs": [],
   "source": [
    "repertoire = [[5012, 'Jean', 'Dupond'], [4086, 'Jacques', 'Dupond'], [3412, 'Jean', 'Dupont'], [2345, 'Jacques', 'Dupont'], [9999, 'Capitaine', 'Haddock']]\n",
    "sorted(repertoire)"
   ]
  },
  {
   "cell_type": "markdown",
   "metadata": {},
   "source": [
    "### Utiliser une fonction d'ordre supérieur\n",
    "\n",
    "Les mêmes schémas de récurrence se retrouvent fréquemment. Par exemple, après avoir calculé la liste des doubles des nombres de 0 à 9, la liste des cubes d'une liste d'entiers, la liste des longueurs d'une liste de chaînes de caractères... on peut généraliser en constatant qu'on a, à chaque fois, calculé la liste des résultats d'un calcul appliqué successivement à chaque élément d'une liste."
   ]
  },
  {
   "cell_type": "code",
   "execution_count": null,
   "metadata": {},
   "outputs": [],
   "source": [
    "def listedouble (l):\n",
    "    return ([] if l == [] else [double(l[0])] + listedouble(l[1:]))\n",
    "\n",
    "listedouble([0,1,2,3,4,5,6,7,8,9])"
   ]
  },
  {
   "cell_type": "markdown",
   "metadata": {},
   "source": [
    "La fonction `map` peut faire ce travail, si on lui fournit une fonction et une liste. On applique la fonction `list` après `map`, car sinon, le résultat est un itérateur, qui ne calcule pas immédiatement la liste de ses valeurs successives."
   ]
  },
  {
   "cell_type": "code",
   "execution_count": null,
   "metadata": {},
   "outputs": [],
   "source": [
    "list(map(double, range(10)))"
   ]
  },
  {
   "cell_type": "code",
   "execution_count": null,
   "metadata": {},
   "outputs": [],
   "source": [
    "list(map(lambda x : x ** 3, [3, 8, 2, 1]))"
   ]
  },
  {
   "cell_type": "code",
   "execution_count": null,
   "metadata": {},
   "outputs": [],
   "source": [
    "list(map(len, ['veau', 'vache', 'cochon', 'anaconda', 'ver']))"
   ]
  },
  {
   "cell_type": "markdown",
   "metadata": {},
   "source": [
    "L'usage de `map` peut cependant être évité en Python, grâce à l'écriture par compréhension qui effectue le même calcul en construisant la liste des résultats."
   ]
  },
  {
   "cell_type": "code",
   "execution_count": null,
   "metadata": {},
   "outputs": [],
   "source": [
    "[double(i) for i in range (10)]"
   ]
  },
  {
   "cell_type": "markdown",
   "metadata": {},
   "source": [
    "**Activité** : Ecrire chacun des calculs proposés, sous forme d'itérateur, de fonction récursive ou de liste par compréhension."
   ]
  },
  {
   "cell_type": "code",
   "execution_count": null,
   "metadata": {},
   "outputs": [],
   "source": []
  },
  {
   "cell_type": "markdown",
   "metadata": {},
   "source": [
    "## Bilan\n",
    "\n",
    "Avec les notions introduites dans ce document, on peut traiter complètement le thème *programmation fonctionnelle* du programme de spécialité en terminale.\n",
    "\n",
    "* Distinguer sur des exemples les paradigmes impératif, fonctionnel et objet.\n",
    "* Avec un même langage de programmation, on peut utiliser des paradigmes différents. Dans un même programme, on peut utiliser des paradigmes différents.\n",
    "\n",
    "On a fait le choix de présenter les paradigmes de la manière la plus *pure* possible pour des raisons pédagogiques. En programmation Python, les différents paradigmes peuvent être mêlés dans un même programme."
   ]
  },
  {
   "cell_type": "markdown",
   "metadata": {},
   "source": [
    "Equipe pédagoqique DIU EIL, ressource éducative libre distribuée sous [Licence Creative Commons Attribution - Pas d’Utilisation Commerciale - Partage dans les Mêmes Conditions 4.0 International](http://creativecommons.org/licenses/by-nc-sa/4.0/) ![Licence Creative Commons](https://i.creativecommons.org/l/by-nc-sa/4.0/88x31.png)"
   ]
  }
 ],
 "metadata": {
  "kernelspec": {
   "display_name": "Python 3",
   "language": "python",
   "name": "python3"
  },
  "language_info": {
   "codemirror_mode": {
    "name": "ipython",
    "version": 3
   },
   "file_extension": ".py",
   "mimetype": "text/x-python",
   "name": "python",
   "nbconvert_exporter": "python",
   "pygments_lexer": "ipython3",
   "version": "3.6.8"
  }
 },
 "nbformat": 4,
 "nbformat_minor": 2
}
