{
 "cells": [
  {
   "cell_type": "markdown",
   "metadata": {},
   "source": [
    "# Représentation des données : types et valeurs de base - les entiers\n",
    "\n",
    "## 1 - Les entiers positifs"
   ]
  },
  {
   "cell_type": "markdown",
   "metadata": {},
   "source": [
    "### Écriture d’un entier positif dans une base b ≥ 2\n",
    "\n",
    "Si $x = a_n*b^n + a_{n-1}*b^{n-1} + ... + a_2*b^2 + a_1*b^1 + a_0*b^0$ \n",
    "\n",
    "où les $a_i$ sont des chiffres entre 0 et $b-1$\n",
    "\n",
    "alors $a_n a_{n-1}... a_2 a_1 a_0$ est l'écriture en base b de $x$."
   ]
  },
  {
   "cell_type": "markdown",
   "metadata": {},
   "source": [
    "** Exemple en base 10 **:\n",
    "\n",
    "$4097 = 4 * 10^3 + 0 * 10^2 + 9 * 10^1 + 7 * 10^0$"
   ]
  },
  {
   "cell_type": "markdown",
   "metadata": {},
   "source": [
    "### Codage en base 2"
   ]
  },
  {
   "cell_type": "markdown",
   "metadata": {},
   "source": [
    "$42 = 1*2^5 + 0*2^4 + 1*2^3 + 0*2^2 + 1*2^1 + 0*2^0$\n",
    "\n",
    "Donc l'écriture en base 2 de 42 est `101010`\n",
    "\n",
    "On peut calculer l'écriture en binaire avec la fonction Python `bin`."
   ]
  },
  {
   "cell_type": "code",
   "execution_count": null,
   "metadata": {},
   "outputs": [],
   "source": [
    "bin(42)"
   ]
  },
  {
   "cell_type": "markdown",
   "metadata": {},
   "source": [
    "On peut aussi directement saisir un nombre en binaire en préfixant son écriture par `0b`."
   ]
  },
  {
   "cell_type": "code",
   "execution_count": null,
   "metadata": {},
   "outputs": [],
   "source": [
    "0b101010"
   ]
  },
  {
   "cell_type": "markdown",
   "metadata": {},
   "source": [
    "* Combien de nombres et quels nombres entiers peut-on coder avec 8 bits, 16 bits, 32 bits, 64 bits ?"
   ]
  },
  {
   "cell_type": "markdown",
   "metadata": {},
   "source": [
    "### Activité débranchée :\n",
    "\n",
    "Comptage en base 2 sur 8 bits avec 1 élève par bit. \n",
    "\n",
    "| Elève 7 | Elève 6 | Elève 5 | Elève 4 | Elève 3 | Elève 2 | Elève 1 | Elève 0 |\n",
    "|---------|---------|---------|---------|---------|---------|---------|---------|\n",
    "| 128 | 64 | 32 | 16 | 8 | 4 | 2 | 1 |\n",
    "\n",
    "Selon sa position, chaque élève \"vaut\" $1, 2, 4, 8... 128$.\n",
    "\n",
    "Chaque élève peut avoir le bras levé (1) ou baissé (0). Chaque élève change la position de son bras quand son voisin de gauche baisse le sien. L'élève 0 réagit aux signaux du professeur et change de position à chaque signal.\n",
    "\n",
    "Voir [Computer science unplugged](https://classic.csunplugged.org/binary-numbers/)"
   ]
  },
  {
   "cell_type": "markdown",
   "metadata": {},
   "source": [
    "### Algorithme de conversion en binaire par suite de divisions\n",
    "\n",
    "En divisant le nombre par la base, on obtient comme premier reste, le nombre d'unités. Si on recommence, on obtient les chiffres suivants de l'écriture en base b.\n",
    "\n",
    "** Exemple en base 2 **\n",
    "\n",
    "```\n",
    "42 / 2 -> 21 reste 0\n",
    "21 / 2 -> 10 reste 1\n",
    "10 / 2 -> 5  reste 0\n",
    "5 / 2 -> 2 reste 1\n",
    "2 / 2 -> 1 reste 0\n",
    "1 / 2 -> 0 reste 1\n",
    "```\n",
    "\n",
    "On obtient le code en écrivant les restes de gauche à droite à partir du dernier reste obtenu."
   ]
  },
  {
   "cell_type": "markdown",
   "metadata": {},
   "source": [
    "Cet algorithme se traduit simplement en fonction récursive en Python. On utilise ici la fonction `str` pour convertir un chiffre binaire 0 ou 1 en caractère '0' ou '1'. "
   ]
  },
  {
   "cell_type": "code",
   "execution_count": null,
   "metadata": {},
   "outputs": [],
   "source": [
    "def int2bin(n):\n",
    "    if n == 0 or n == 1:\n",
    "        return(str(n))\n",
    "    else:\n",
    "        return(int2bin(n // 2) + str(n % 2))\n",
    "\n",
    "int2bin(42)"
   ]
  },
  {
   "cell_type": "markdown",
   "metadata": {},
   "source": [
    "* **Activité** : écrire cette fonction avec une boucle while. L'utiliser pour mesurer le nombre de bits en fonction du nombre à coder."
   ]
  },
  {
   "cell_type": "code",
   "execution_count": null,
   "metadata": {},
   "outputs": [],
   "source": []
  },
  {
   "cell_type": "markdown",
   "metadata": {},
   "source": [
    "### Conversion de binaire en entier\n",
    "\n",
    "Pour retrouver le nombre entier codé à partir de son code en base 2, il est inutile de calculer toutes les puissances de 2 et d'additionner les valeurs de chaque bit. \n",
    "\n",
    "L'algorithme de conversion repose sur la factorisation suivante :\n",
    "\n",
    "$1*2^5 + 0*2^4 + 1*2^3 + 0*2^2 + 1*2^1 + 0*2^0 =$\n",
    "\n",
    "$((((((1)*2)+0)*2+1)*2+0)*2+1)*2+0 $\n",
    "\n",
    "L'algorithme consiste à prendre le premier bit du code (dans l'ordre naturel de lecture de gauche à droite) puis à multiplier par 2 et ajouter le bit suivant, puis à recommencer ce calcul jusqu'au dernier bit. On peut aussi - pour simplifier - partir de 0 et commencer le calcul avec le 1er bit."
   ]
  },
  {
   "cell_type": "code",
   "execution_count": null,
   "metadata": {},
   "outputs": [],
   "source": [
    "def bin2int (s):\n",
    "    n = 0\n",
    "    for c in s:\n",
    "        n = n * 2 + int(c)\n",
    "    return(n)\n",
    "\n",
    "bin2int('101010')"
   ]
  },
  {
   "cell_type": "markdown",
   "metadata": {},
   "source": [
    "### Codage en base 16\n",
    "\n",
    "Pour coder un nombre en base 16, on a besoin de 16 chiffres : \n",
    "\n",
    "0, 1, 2, ..., 9, A, B, C, D, E, F\n",
    "\n",
    "L'avantage de la base 16 réside dans sa facilité de conversion de et vers la base 2. Un chiffre en base 16 remplace 4 bits (chiffres en base 2).\n",
    "\n",
    "On peut expérimenter en Python le codage en base 16 grace à la fonction `hex`."
   ]
  },
  {
   "cell_type": "code",
   "execution_count": null,
   "metadata": {},
   "outputs": [],
   "source": [
    "hex(2238)"
   ]
  },
  {
   "cell_type": "markdown",
   "metadata": {},
   "source": [
    "On peut aussi directement saisir un nombre en base 16 en préfixant son écriture par `0x`."
   ]
  },
  {
   "cell_type": "code",
   "execution_count": null,
   "metadata": {},
   "outputs": [],
   "source": [
    "0x8BE"
   ]
  },
  {
   "cell_type": "markdown",
   "metadata": {},
   "source": [
    "On peut alors vérifier la conversion par groupe de 4 bits entre base 16 et base 2.\n",
    "\n",
    "|0|1|2|3|4|5|6|7|8|9|A|B|C|D|E|F|\n",
    "|---|---|---|---|---|---|---|---|---|---|---|---|---|---|---|---|\n",
    "|0000|0001|0010|0011|0100|0101|0110|0111|1000|1001|1010|1011|1100|1101|1110|1111|\n"
   ]
  },
  {
   "cell_type": "code",
   "execution_count": null,
   "metadata": {},
   "outputs": [],
   "source": [
    "bin(0x8BE)"
   ]
  },
  {
   "cell_type": "markdown",
   "metadata": {},
   "source": [
    "* **Activité** : Ecrire des fonctions de conversion entre base 10 et base 16 et entre base 2 et base 16"
   ]
  },
  {
   "cell_type": "code",
   "execution_count": null,
   "metadata": {},
   "outputs": [],
   "source": []
  },
  {
   "cell_type": "markdown",
   "metadata": {},
   "source": [
    "## 2 - Représentation binaire d’un entier relatif\n",
    "\n",
    "### Avec bit de signe\n",
    "\n",
    "La première idée pour représenter les entiers relatifs a été de réserver un bit pour le signe (`0` pour `+`, `1` pour `-`), puis à utiliser les bits restants pour coder la valeur absolue. \n",
    "\n",
    "Avec 8 bits on peut ainsi coder d'une part les entiers positifs de 0 à 127 avec les codes `00000000` à `01111111`, et d'autre part les entiers négatifs de -0 à -127 avec les codes `10000000` à `11111111`.\n",
    "\n",
    "Cette représentation est simple pour calculer la représentation d'un nombre. Elle a cependant deux défauts majeurs : elle donne 2 codes différents pour 0 et elle n'est pas adaptée pour effectuer les calculs élémentaires sur les codes. Par exemple pour ajouter 1, l'algorithme n'est pas le même pour les négatifs et pour les positifs. Pour programmer une addition, il faut écrire 4 algorithmes différents, selon les signes des opérandes. \n",
    "\n",
    "### En complément à 2\n",
    "\n",
    "L'idée du code en complément à deux (sur 8 bits) consiste à attribuer les codes `00000000` à `01111111` aux entiers positifs de 0 à 127 puis à attribuer les codes suivants `10000000` à `11111111` aux entiers négatifs de -128 à -1. Ainsi on code un entier négatif x, par le code  qui était attribué pour les entiers naturels à l'entier $x + 256$. \n",
    "\n",
    "Avec ce codage, les codes sont attribués aussi par ordre croissant pour les nombres négatifs, ce qui permet de faire les opérations sur les codes comme s'il s'agissait d'entiers naturels. En particulier, si on ajoute 1 au code de -1 : `11111111`, on obtient bien le code de O : `00000000` avec l'oubli de la retenue en conservant le résultat sur 8 bits. \n",
    "\n",
    "L'algorithme d'addition sur les entiers naturels, donne des résultats corrects pour les entiers relatifs à condition que le résultat soit représentable.\n",
    "\n",
    "Une autre propriété intéressante du code complément à 2 est qu'il existe une technique simple pour obtenir le code complément à 2 d'un nombre négatif à partir du code de son opposé :\n",
    "\n",
    "> Calculer le code base 2 de l'opposé, inverser les bits, ajouter 1.\n",
    "\n",
    "On calcule ainsi : (`11111111` - code base 2(-nombre)) + `00000001` = code base 2(nombre + 256)."
   ]
  },
  {
   "cell_type": "markdown",
   "metadata": {},
   "source": [
    "* **Activité** : écrire une fonction d'addition en base 2 qui opère sur des chaines de caractères, une fonction qui calcule le code complément à 2 de l'opposé d'un nombre et s'en servir pour vérifier que l'addition sur les entiers naturels permet bien d'opérer correctement sur les entiers relatifs."
   ]
  },
  {
   "cell_type": "code",
   "execution_count": null,
   "metadata": {},
   "outputs": [],
   "source": []
  },
  {
   "cell_type": "markdown",
   "metadata": {},
   "source": [
    "Equipe pédagoqique DIU EIL, ressource éducative libre distribuée sous [Licence Creative Commons Attribution - Pas d’Utilisation Commerciale - Partage dans les Mêmes Conditions 4.0 International](http://creativecommons.org/licenses/by-nc-sa/4.0/) ![Licence Creative Commons](https://i.creativecommons.org/l/by-nc-sa/4.0/88x31.png)"
   ]
  }
 ],
 "metadata": {
  "kernelspec": {
   "display_name": "Python 3",
   "language": "python",
   "name": "python3"
  },
  "language_info": {
   "codemirror_mode": {
    "name": "ipython",
    "version": 3
   },
   "file_extension": ".py",
   "mimetype": "text/x-python",
   "name": "python",
   "nbconvert_exporter": "python",
   "pygments_lexer": "ipython3",
   "version": "3.7.3"
  }
 },
 "nbformat": 4,
 "nbformat_minor": 1
}
