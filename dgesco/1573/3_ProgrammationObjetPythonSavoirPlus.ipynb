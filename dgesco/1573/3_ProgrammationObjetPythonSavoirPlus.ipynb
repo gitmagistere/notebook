{
 "cells": [
  {
   "cell_type": "markdown",
   "metadata": {},
   "source": [
    "# Programmation objet : pour en savoir plus\n",
    "\n",
    "Les éléments suivants, présentés pour l'enseignant, lui permettent le recul nécessaire, pour analyser les difficultés rencontrées par les élèves en programmation objet, et pour mieux comprendre la conception des classes prédéfinies en Python.\n",
    "\n",
    "On précise en particulier le cadre général de la programmation objet, et les spécificités de sa mise en oeuvre en Python - qui parfois se détourne du paradigme objet en autorisant beaucoup de contournements du modèle."
   ]
  },
  {
   "cell_type": "markdown",
   "metadata": {},
   "source": [
    "## Les principes de la programmation objet\n",
    "\n",
    "La notion d’objet en programmation prolonge celle de type abstrait algébrique. Un objet regroupe données et traitements mais d’autres idées sont généralement aussi associées à la POO (programmation orientée objet) sans lui être exclusives :\n",
    "\n",
    "* Une classe est un modèle de création d’instances ; elle peut aussi être un modèle de création de classes (type abstrait, interface). Une classe abstraite spécifie seulement les opérations permises sur les données de l’objet, sans définir comment elles fonctionnent.\n",
    "\n",
    "* Les objets « discutent » entre eux ; la présentation usuelle de la POO parle même d’envois de messages. C’est cette « discussion » qui forme le programme qui s’exécute.\n",
    "\n",
    "* **Persistance** : les données d’un objet continuent d’exister même lorsque l’objet n’est pas « actif », qu’aucune de ses méthodes n’est en cours d’exécution.\n",
    "\n",
    "* **Encapsulation** : Les données d’un objet lui appartiennent et peuvent (dans la plupart des langages) être protégées des interventions extérieures à l’objet. L’encapsulation permet de *garantir* le fonctionnement d’un objet dans tout environnement qui l’utilise. Les opérations permises sur les données de l’objet forment l’interface de l’objet.\n",
    "\n",
    "* **Héritage** : une classe peut déclarer vérifier une ou plusieurs interface(s) - ce qui organise le code et facilite la maintenance - ou disposer automatiquement des méthodes d’autre(s) classe(s). Ainsi des méthodes déjà définies peuvent être réutilisées, sans réécrire plusieurs fois les mêmes codes.\n",
    "\n",
    "* **Polymorphisme** : une classe peut manipuler des données dont le type n’est pas précisé dans la définition de la classe, par exemple une classe Pile peut accepter des éléments de type Réel ou Caractères ou d’un quelconque autre type.\n",
    "\n",
    "* **Généricité** : grâce en particulier à l’héritage et au polymorphisme, l’étude d’un problème conduit à une solution abstraite qui facilite la résolution de problèmes similaires."
   ]
  },
  {
   "cell_type": "markdown",
   "metadata": {},
   "source": [
    "## En Python, les types sont des classes\n",
    "\n",
    "La classe détermine les attributs et les méthodes applicables à un objet.\n",
    "\n",
    "La classe `list` a bien une méthode `append` mais pas la classe `tuple`."
   ]
  },
  {
   "cell_type": "code",
   "execution_count": null,
   "metadata": {},
   "outputs": [],
   "source": [
    "objet = [1, 2, 3]\n",
    "print(type(objet))\n",
    "objet.append(4)\n",
    "print(objet)"
   ]
  },
  {
   "cell_type": "code",
   "execution_count": null,
   "metadata": {},
   "outputs": [],
   "source": [
    "objet = (1, 2, 3)\n",
    "print(type(objet))\n",
    "objet.append(4)\n",
    "print(objet)"
   ]
  },
  {
   "cell_type": "markdown",
   "metadata": {},
   "source": [
    "## En Python, tout est dynamique !\n",
    "\n",
    "On peut ajouter dynamiquement des attributs et des méthodes à une classe existante ou à des objets déjà créés. On peut même créer une classe pour créer des objets vides et les *remplir* après.\n",
    "\n",
    "### Encapsulation non garantie\n",
    "\n",
    "En Python, un attribut (ou une méthode) dont le nom commence par deux tirets bas est considéré comme privé(e), donc normalement non utilisable de l’extérieur de l’objet. Cependant aucun mécanisme n'empêche d'y accéder.\n",
    "\n",
    "### Des objets *déformés* par rapport au modèle de leur classe\n",
    "\n",
    "Ce qui suit, montre ce qu'il est possible de faire avec les objets en Python.\n",
    "\n",
    "**Attention** : tout ce qui est possible n'est pas nécessairement conseillé ! Ce qui suit est destiné à permettre de comprendre le fonctionnement des objets en Python. Dans la pratique, il est plutôt conseillé d'utiliser les objets de Python conformément au paradigme objet qui consiste à utiliser les classes pour créer des objets similaires. "
   ]
  },
  {
   "cell_type": "code",
   "execution_count": null,
   "metadata": {},
   "outputs": [],
   "source": [
    "class ObjetVide:\n",
    "    \"\"\"Cette classe définit des objets sans attribut ni méthode \"\"\""
   ]
  },
  {
   "cell_type": "markdown",
   "metadata": {},
   "source": [
    "On crée deux instances d'objets vides :"
   ]
  },
  {
   "cell_type": "code",
   "execution_count": null,
   "metadata": {},
   "outputs": [],
   "source": [
    "un_objet = ObjetVide() \n",
    "autre_objet = ObjetVide()"
   ]
  },
  {
   "cell_type": "markdown",
   "metadata": {},
   "source": [
    "Chaque *objet* définit un espace de nommage distinct.\n",
    "Dans cet espace on peut définir des variables et leur affecter des valeurs. On crée ainsi des attributs d'instance."
   ]
  },
  {
   "cell_type": "code",
   "execution_count": null,
   "metadata": {},
   "outputs": [],
   "source": [
    "un_objet.nom = \"Objet 1\"\n",
    "un_objet.description = \"C'est mon premier objet Python !\""
   ]
  },
  {
   "cell_type": "markdown",
   "metadata": {},
   "source": [
    "Les espaces de nommage de deux objets (même s'ils sont instances de la même classe) sont indépendants."
   ]
  },
  {
   "cell_type": "code",
   "execution_count": null,
   "metadata": {},
   "outputs": [],
   "source": [
    "autre_objet.nom = \"Objet 2\"\n",
    "autre_objet.description = \"C'est le deuxième.\"\n",
    "autre_objet.prix = 10000"
   ]
  },
  {
   "cell_type": "markdown",
   "metadata": {},
   "source": [
    "On vérifie en affichant les attributs des deux objets."
   ]
  },
  {
   "cell_type": "code",
   "execution_count": null,
   "metadata": {},
   "outputs": [],
   "source": [
    "print(un_objet.nom, \":\", un_objet.description)\n",
    "print(autre_objet.nom, \":\", autre_objet.description,\n",
    "      \"Valeur :\", autre_objet.prix)"
   ]
  },
  {
   "cell_type": "markdown",
   "metadata": {},
   "source": [
    "### Ajouter des méthodes à une classe\n",
    "\n",
    "On peut ajouter une méthode à la classe `ObjetVide`."
   ]
  },
  {
   "cell_type": "code",
   "execution_count": null,
   "metadata": {},
   "outputs": [],
   "source": [
    "ObjetVide.affiche = lambda self : print(self.nom)"
   ]
  },
  {
   "cell_type": "markdown",
   "metadata": {},
   "source": [
    "Cette méthode devient immédiatement utilisable pour tous les objets de la classe."
   ]
  },
  {
   "cell_type": "code",
   "execution_count": null,
   "metadata": {},
   "outputs": [],
   "source": [
    "un_objet.affiche()"
   ]
  },
  {
   "cell_type": "markdown",
   "metadata": {},
   "source": [
    "La méthode peut aussi être appelée par son nom dans sa classe. Il faut alors utiliser comme paramètre le nom de l'objet. "
   ]
  },
  {
   "cell_type": "code",
   "execution_count": null,
   "metadata": {},
   "outputs": [],
   "source": [
    "ObjetVide.affiche(autre_objet)"
   ]
  },
  {
   "cell_type": "markdown",
   "metadata": {},
   "source": [
    "### Attributs de classe\n",
    "\n",
    "On peut aussi définir des attributs de classe."
   ]
  },
  {
   "cell_type": "code",
   "execution_count": null,
   "metadata": {},
   "outputs": [],
   "source": [
    "ObjetVide.numero = 12"
   ]
  },
  {
   "cell_type": "markdown",
   "metadata": {},
   "source": [
    "Tous les objets de la classe en profitent, mais doivent *partager* cet attribut."
   ]
  },
  {
   "cell_type": "code",
   "execution_count": null,
   "metadata": {},
   "outputs": [],
   "source": [
    "print(un_objet.numero)"
   ]
  },
  {
   "cell_type": "code",
   "execution_count": null,
   "metadata": {},
   "outputs": [],
   "source": [
    "ObjetVide.numero += 1\n",
    "print(un_objet.numero)\n",
    "print(autre_objet.numero)"
   ]
  },
  {
   "cell_type": "markdown",
   "metadata": {},
   "source": [
    "Les objets peuvent aussi le redéfinir."
   ]
  },
  {
   "cell_type": "code",
   "execution_count": null,
   "metadata": {},
   "outputs": [],
   "source": [
    "autre_objet.numero += 1\n",
    "print(un_objet.numero)\n",
    "print(autre_objet.numero)"
   ]
  },
  {
   "cell_type": "markdown",
   "metadata": {},
   "source": [
    "**Attention** : le caractère dynamique rend rapidement incompréhensible ce mélange d'attributs de classe et d'attributs d'instance. \n",
    "\n",
    "Il convient donc de limiter les attributs de classe au cas où cela est strictement nécessaire.\n",
    "\n",
    "Il est aussi plus prudent de ne définir des attributs d'instance qu'à l'intérieur d'une méthode d'initialisation d'un objet."
   ]
  },
  {
   "cell_type": "markdown",
   "metadata": {},
   "source": [
    "## Héritage\n",
    "\n",
    "L'héritage est largement utilisé dans les classes prédéfinies dans les bibliothèques Python. Quand une classe B hérite d'une classe A, toutes les méthodes de la classe A sont disponibles dans la classe B qui peut éventuellement en redéfinir certaines.\n",
    "\n",
    "Cette architecture permet de définir des comportements généraux dans des classes générales, puis de redéfinir une partie des traitements dans des classes plus spécialisées."
   ]
  },
  {
   "cell_type": "markdown",
   "metadata": {},
   "source": [
    "### Exemple d'héritage : polynômes et fonctions affines\n",
    "\n",
    "On propose une classe `Polynome` puis une sous-classe `Affine` qui hérite des méthodes de la classe `Polynome`."
   ]
  },
  {
   "cell_type": "code",
   "execution_count": null,
   "metadata": {},
   "outputs": [],
   "source": [
    "class Polynome:\n",
    "    \"\"\"Construit un polynome par la liste de ses coefficients donnés par degré décroissant\"\"\"\n",
    "    def __init__(self,coefs):\n",
    "        self.coefs = coefs\n",
    "        \n",
    "    def eval(self,x):\n",
    "        px = 0\n",
    "        for c in (self.coefs):\n",
    "            px = px * x + c\n",
    "        return (px)\n",
    "    \n",
    "    def __add__(p,q):\n",
    "        \"\"\" pour l'addition, on a besoin de coefficients ordonnés par degrés croissant \"\"\"\n",
    "        pr = list(reversed(p.coefs))\n",
    "        qr = list(reversed(q.coefs))\n",
    "        if len(pr) <= len(qr):\n",
    "            cr = list(map((lambda x,y :x+y), pr, qr))+ qr[len(pr):]\n",
    "        else:\n",
    "            cr = list(map((lambda x,y :x+y), pr, qr))+ pr[len(qr):]\n",
    "        return(Polynome(list(reversed(cr))))\n",
    "    \n",
    "    def __repr__(self):\n",
    "        r = \"(lambda x: \"\n",
    "        d = len(self.coefs)\n",
    "        for i in range(d):\n",
    "            c = self.coefs[i]\n",
    "            p = d - i - 1\n",
    "            r += ((\"+\" if c>=0 else \"\") + str(c) + (\"*x**\" + str(p) if p >= 2 else \"\" if p == 0 else \"*x\") + \" \") if c!=0 else \"\"\n",
    "        return(r + ')')"
   ]
  },
  {
   "cell_type": "markdown",
   "metadata": {},
   "source": [
    "On peut alors construire des polynômes en donnant la liste de leurs coefficients par degrés croissant, puis les additionner et les afficher. On a pris soin de générer, avec la méthode `__repr__` un affichage exécutable en tant que code Python ce qui permet d'évaluer un polynôme en un point et de comparer avec le résultat donné par la méthode `eval`."
   ]
  },
  {
   "cell_type": "code",
   "execution_count": null,
   "metadata": {},
   "outputs": [],
   "source": [
    "p = Polynome([1,0,-1])\n",
    "q = Polynome([7, 3, -4, 1])\n",
    "print(p)\n",
    "print(q)\n",
    "print(p+q)\n",
    "print(eval(repr(p+q))(5))\n",
    "print((p+q).eval(5))\n"
   ]
  },
  {
   "cell_type": "markdown",
   "metadata": {},
   "source": [
    "On peut maintenant définir la sous-classe `Affine`, en ne redéfinissant que l'initialisation et en profitant de toutes les méthodes héritées. Une classe peut hériter d'une ou plusieurs classes - notées entre parenthèses au moment de la création de la classe."
   ]
  },
  {
   "cell_type": "code",
   "execution_count": null,
   "metadata": {},
   "outputs": [],
   "source": [
    "class Affine(Polynome):\n",
    "    def __init__(self,a,b):\n",
    "        self.coefs = [a,b]"
   ]
  },
  {
   "cell_type": "markdown",
   "metadata": {},
   "source": [
    "On peut alors utiliser la classe `Affine` avec toutes ses méthodes héritées de la classe `Polynome`."
   ]
  },
  {
   "cell_type": "code",
   "execution_count": null,
   "metadata": {},
   "outputs": [],
   "source": [
    "f = Affine(2,4)\n",
    "g = Affine(-1, 6)\n",
    "print(f)\n",
    "print(g)\n",
    "print(f+g)\n",
    "f.eval(12)"
   ]
  },
  {
   "cell_type": "markdown",
   "metadata": {},
   "source": [
    "**Activité** : Consulter la documentation de la classe standard `tuple` et les méthodes disponibles sur [python.org](https://www.python.org). Observer la classe `Couple` et la manière dont la méthode d'addition est modifiée."
   ]
  },
  {
   "cell_type": "code",
   "execution_count": null,
   "metadata": {},
   "outputs": [],
   "source": [
    "class Couple(tuple):\n",
    "    def __add__ (t1, t2): \n",
    "        return(t1[0]+t2[0], t1[1]+t2[1])\n",
    "    \n",
    "c = Couple((1,2))\n",
    "d = Couple((3,4))\n",
    "c + d"
   ]
  },
  {
   "cell_type": "markdown",
   "metadata": {},
   "source": [
    "## Bilan\n",
    "\n",
    "L'héritage en Python est un mécanisme très puissant qui permet de réutiliser et personnaliser des classes existantes.\n",
    "\n",
    "La liaison dynamique donne une très grande souplesse, mais en contrepartie, n'offre que peu de garantie sur le bon usage de méthodes en fonction de la classe des objets.\n",
    "\n",
    "Le caractère dynamique comporte aussi le risque d'autoriser la modification de méthodes de classes existantes, ce qui peut compromettre la capacité pour l'enseignant à comprendre le code erroné d'un élève débutant.\n",
    "\n",
    "Il est donc recommandé d'utiliser la programmation objet en Python comme paradigme permettant de créer statiquement des objets similaires, plutôt que de se risquer à en utiliser les aspects dynamiques."
   ]
  },
  {
   "cell_type": "markdown",
   "metadata": {},
   "source": [
    "Equipe pédagoqique DIU EIL, ressource éducative libre distribuée sous [Licence Creative Commons Attribution - Pas d’Utilisation Commerciale - Partage dans les Mêmes Conditions 4.0 International](http://creativecommons.org/licenses/by-nc-sa/4.0/) ![Licence Creative Commons](https://i.creativecommons.org/l/by-nc-sa/4.0/88x31.png)"
   ]
  }
 ],
 "metadata": {
  "kernelspec": {
   "display_name": "Python 3",
   "language": "python",
   "name": "python3"
  },
  "language_info": {
   "codemirror_mode": {
    "name": "ipython",
    "version": 3
   },
   "file_extension": ".py",
   "mimetype": "text/x-python",
   "name": "python",
   "nbconvert_exporter": "python",
   "pygments_lexer": "ipython3",
   "version": "3.6.8"
  }
 },
 "nbformat": 4,
 "nbformat_minor": 2
}
