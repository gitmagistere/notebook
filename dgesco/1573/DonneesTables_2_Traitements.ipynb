{
 "cells": [
  {
   "cell_type": "markdown",
   "metadata": {},
   "source": [
    "# Traitement de données en tables\n",
    "\n",
    "\n",
    "## Traitements des données\n",
    "\n"
   ]
  },
  {
   "cell_type": "markdown",
   "metadata": {},
   "source": [
    "**Activité** : Les exemples de programmes reposent sur la base [Adresse et géolocalisation des établissements d'enseignement du premier et second degré](https://www.data.gouv.fr/fr/datasets/adresse-et-geolocalisation-des-etablissements-denseignement-du-premier-et-second-degres-1/)\n",
    "\n",
    "Les traitements simples peuvent être effectués au cours de la lecture du fichier."
   ]
  },
  {
   "cell_type": "markdown",
   "metadata": {},
   "source": [
    "### Recherche dans une table\n",
    "\n",
    "Rechercher dans une table les enregistrements vérifiant une condition, consiste à parcourir le fichier en testant cette condition, et à afficher ceux qui la vérifient."
   ]
  },
  {
   "cell_type": "markdown",
   "metadata": {},
   "source": [
    "* **Activité** : Pour rechercher, par exemple, tous les lycées publics d'une académie, il faut repérer dans la documentation du fichier les champs pertinents et noter les valeurs recherchées.\n",
    "\n",
    "    - C'est le champ numéro 4 qui donne l'information Public/Privé.\n",
    "    - C'est le champ numéro 18 qui donne le type d'établissement :  300 LYCEE ENSEIGNT GENERAL ET TECHNOLOGIQUE,\n",
    "301 LYCEE D ENSEIGNEMENT TECHNOLOGIQUE,\n",
    "302 LYCEE D ENSEIGNEMENT GENERAL,\n",
    "306 LYCEE POLYVALENT,\n",
    "307 LYC D'ENS GENERAL TECHNO PROF AGRICOLE.\n",
    "    - C'est le champ numéro 24 qui donne le code de l'académie (on a choisi ici 17 l'académie de Nantes).\n"
   ]
  },
  {
   "cell_type": "code",
   "execution_count": null,
   "metadata": {},
   "outputs": [],
   "source": [
    "with open('data/fr-en-adresse-et-geolocalisation-etablissements-premier-et-second-degre.csv') as f:\n",
    "    entete = f.readline()\n",
    "    print(entete)\n",
    "    for ligne in f:\n",
    "        champs = ligne.split(\";\")\n",
    "        if champs[4]=='Public' and champs[24]=='17' and 300<=int(champs[18])<=307:\n",
    "            print(ligne)"
   ]
  },
  {
   "cell_type": "markdown",
   "metadata": {},
   "source": [
    "### Filtrage d'une table\n",
    "\n",
    "Filtrer dans une table les enregistrements vérifiant une condition, consiste à parcourir le fichier en testant cette condition, et à réécrire dans un nouveau fichier ceux qui la vérifient."
   ]
  },
  {
   "cell_type": "code",
   "execution_count": null,
   "metadata": {},
   "outputs": [],
   "source": [
    "f = open('data/fr-en-adresse-et-geolocalisation-etablissements-premier-et-second-degre.csv')\n",
    "g = open('LyceesPublicsAcademie.csv', 'w')\n",
    "entete = f.readline()\n",
    "g.write(entete)\n",
    "for ligne in f:\n",
    "    champs = ligne.split(\";\")\n",
    "    if champs[4]=='Public' and champs[24]=='17' and 300<=int(champs[18])<=307:\n",
    "        g.write(ligne)\n",
    "f.close()\n",
    "g.close()"
   ]
  },
  {
   "cell_type": "markdown",
   "metadata": {},
   "source": [
    "### Traitement d'une table - cas général\n",
    "\n",
    "De manière générale, en particulier pour les traitements complexes, on peut effectuer les traitements en mémoire après avoir lu les données dans un tableau d'enregistrements, ce qui simplifie l'expression des conditions sur les champs."
   ]
  },
  {
   "cell_type": "code",
   "execution_count": null,
   "metadata": {},
   "outputs": [],
   "source": [
    "Etablissements = []\n",
    "with open('data/fr-en-adresse-et-geolocalisation-etablissements-premier-et-second-degre.csv') as f:\n",
    "    entete = f.readline().split(\";\")\n",
    "    for ligne in f:\n",
    "        champs = ligne.split(\";\")\n",
    "        Etablissements.append ({entete[i]:champs[i] for i in range(len(entete))})"
   ]
  },
  {
   "cell_type": "code",
   "execution_count": null,
   "metadata": {},
   "outputs": [],
   "source": [
    "Etablissements"
   ]
  },
  {
   "cell_type": "markdown",
   "metadata": {},
   "source": [
    "**Remarque** : On dispose maintenant dans la variable `Etablissements` d'une liste de 66040 établissements d'enseignements du 1er et du 2nd degré pour la France entière."
   ]
  },
  {
   "cell_type": "code",
   "execution_count": null,
   "metadata": {},
   "outputs": [],
   "source": [
    "len(Etablissements)"
   ]
  },
  {
   "cell_type": "markdown",
   "metadata": {},
   "source": [
    "### Filtrage d'une table en mémoire\n",
    "\n",
    "On peut maitenant écrire une fonction qui fabrique une liste des lycées publics filtrés par académie.\n",
    "Le code de l'académie est passé en paramètre. Les conditions permettant de tester que c'est un lycée `300<=int(etab['Code nature'])<=307`, et qu'il est public `etab['Secteur Public/Privé']== 'Public'` sont  écrites dans le code de la fonction."
   ]
  },
  {
   "cell_type": "code",
   "execution_count": null,
   "metadata": {},
   "outputs": [],
   "source": [
    "def lyceespublics (listetab, codeacademie):\n",
    "    return([etab for etab in listetab if int(etab['Code académie'])== codeacademie and 300<=int(etab['Code nature'])<=307 and etab['Secteur Public/Privé']== 'Public'])\n",
    "    "
   ]
  },
  {
   "cell_type": "markdown",
   "metadata": {},
   "source": [
    "L'appel de cette fonction permet de créer un nouveau tableau avec seulement les enregistrements choisis."
   ]
  },
  {
   "cell_type": "code",
   "execution_count": null,
   "metadata": {},
   "outputs": [],
   "source": [
    "lycees_publics_nantes = lyceespublics (Etablissements, 17)\n",
    "lycees_publics_nantes"
   ]
  },
  {
   "cell_type": "markdown",
   "metadata": {},
   "source": [
    "### Tri d'une table\n",
    "\n",
    "Deux fonctions de tris de tableaux sont disponibles en Python.\n",
    "* La fonction `sorted` construit un nouveau tableau trié copie du tableau à trier.\n",
    "* La méthode `sort` trie en place le tableau et ne donne pas de résultat, mais modifie le tableau donné.\n",
    "\n",
    "Les deux nécessitent une fonction de comparaison pour savoir comment trier les enregistrements. C'est le rôle du paramètre `key` qui associe à chaque élément de la liste une valeur, ici le code de la commune, pour servir d'index de tri. \n",
    "\n",
    "La notation `lambda` permet d'introduire une fonction anonyme qui à un établissement associe son code de commune."
   ]
  },
  {
   "cell_type": "code",
   "execution_count": null,
   "metadata": {},
   "outputs": [],
   "source": [
    "sorted(lycees_publics_nantes, key=lambda etab: etab['Code commune'])"
   ]
  },
  {
   "cell_type": "markdown",
   "metadata": {},
   "source": [
    "Après exécution de la fonction `sorted`, la liste `lycees_publics_nantes` n'est pas modifiée."
   ]
  },
  {
   "cell_type": "code",
   "execution_count": null,
   "metadata": {},
   "outputs": [],
   "source": [
    "lycees_publics_nantes.sort(key=lambda etab: etab['Patronyme uai'])"
   ]
  },
  {
   "cell_type": "markdown",
   "metadata": {},
   "source": [
    "Après tri de la liste avec comme clé de tri le patronyme du lycée,on peut vérifier que la liste a bien été modifiée."
   ]
  },
  {
   "cell_type": "code",
   "execution_count": null,
   "metadata": {},
   "outputs": [],
   "source": [
    "[lycee['Patronyme uai'] for lycee in lycees_publics_nantes]"
   ]
  },
  {
   "cell_type": "markdown",
   "metadata": {},
   "source": [
    "### Fusion de tables"
   ]
  },
  {
   "cell_type": "markdown",
   "metadata": {},
   "source": [
    "La fusion consiste à cnstruire une nouvelle table en combinant les données de deux tables.\n",
    "Cela est possible si les deux tables comportent un champ commun. \n",
    "\n",
    "Un algorithle naïf consiste à parcourir la 1ere table et pour chaque enregistrement, à parcourir la seconde table à la recherche d'enregistrements correspondants.\n",
    "\n",
    "Un algorithme de fusion plus efficace est possible si les deux tables sont triées sur le critère selon lequel on souhaite les fusionner. On peut alors écrire un algorithme qui parcourt les deux tables de manière synchronisée."
   ]
  },
  {
   "cell_type": "markdown",
   "metadata": {},
   "source": [
    "* **Activité** : Rechercher une nouvelle table contenant pour une académie la liste des lycées offrant la spécialité NSI. Fusionner avec la table précédemment obtenue pour en déduire une table contenant les lycées offrant NSI avec leur localisation géographique (latitude, longitude) pour permettre de générer ensuite une cartographie localisant ces lycées."
   ]
  },
  {
   "cell_type": "markdown",
   "metadata": {},
   "source": [
    "Equipe pédagoqique DIU EIL, ressource éducative libre distribuée sous [Licence Creative Commons Attribution - Pas d’Utilisation Commerciale - Partage dans les Mêmes Conditions 4.0 International](http://creativecommons.org/licenses/by-nc-sa/4.0/) ![Licence Creative Commons](https://i.creativecommons.org/l/by-nc-sa/4.0/88x31.png)"
   ]
  }
 ],
 "metadata": {
  "kernelspec": {
   "display_name": "Python 3",
   "language": "python",
   "name": "python3"
  },
  "language_info": {
   "codemirror_mode": {
    "name": "ipython",
    "version": 3
   },
   "file_extension": ".py",
   "mimetype": "text/x-python",
   "name": "python",
   "nbconvert_exporter": "python",
   "pygments_lexer": "ipython3",
   "version": "3.6.7"
  }
 },
 "nbformat": 4,
 "nbformat_minor": 1
}
