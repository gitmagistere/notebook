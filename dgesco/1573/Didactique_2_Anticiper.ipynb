{
 "cells": [
  {
   "cell_type": "markdown",
   "metadata": {},
   "source": [
    "# Didactique de l'informatique\n",
    "\n",
    "## Compétence ANTICIPER\n",
    "\n",
    "* Capacité à se mettre dans la posture du programmeur qui doit décrire dans un algorithme l'enchaînement séquentiel / répétitif / conditionnel des instructions, avant même le début de son exécution.\n",
    "\n",
    "C'est une compétence fondamentale pour la conception d'algorithmes. C'est aussi un des principaux obstacles didactiques rencontrés par les programmeurs débutants.\n",
    "\n",
    "« Une propriété difficile à intégrer [...] est le caractère différé d’une exécution du programme » J. Rogalski, 1986"
   ]
  },
  {
   "cell_type": "markdown",
   "metadata": {},
   "source": [
    "## Anticiper c'est imaginer\n",
    "\n",
    "C'est la part créative du travail du programmeur d'imaginer par quel chemin de calculs intermédiaires on peut passer, pour aller des informations disponibles aux informations que l'on souhaite calculer.\n",
    "\n",
    "Anticiper les étapes successives du traitement et les différents cas à envisager, c'est tout l'*art de programmer*. Référence de la formule : The Art of Computer Programming, Donald Knuth.\n",
    "\n",
    "**Exemple** : pour calculer la médiane d'une série statistique, on pense d'abord à trier cette série, puis on cherche la valeur située au milieu. On doit aussi distinguer les cas où le nombre de valeurs est pair ou impair pour calculer la valeur située au milieu ou la moyenne des 2 valeurs situées au milieu de la série. \n",
    "\n",
    "\n",
    "**Exemple** : pour dessiner un triangle de Sierpinski, on pense à dessiner les trois triangles reliant les sommets du sommet initial et les milieux de leurs côtés. On pense alors à répéter le processus pour, au lieu de dessiner un triangle, dessiner ses trois triangles imbriqués. On doit alors imaginer comment terminer ce processus en choisissant de dessiner les triangles trop petits pour être remplacés par des triangles imbriqués. La principale difficulté de cet algorithme est d'anticiper l'ordre dans lequel réaliser tous ces dessins."
   ]
  },
  {
   "cell_type": "markdown",
   "metadata": {},
   "source": [
    "### Dans le contexte de l'enseignement de spécialité en classe de 1ere\n",
    "\n",
    "Même si cette compétence est abordée très tôt dans l'apprentissage de la programmation, et si l'obstacle associé est dépassé très vite, toutes les situations problèmes requérant une solution algorithmique font appel à la maîtrise de cette compétence.\n",
    "\n",
    "La complexité d'une situation vient de la longueur de la chaine d'anticipation nécessaire et de la nécessité d'inventer des états intermédiaires pour anticiper le passage d'un état initial à un état final.\n",
    "\n",
    "Cette compétence est liée à la compétence **décomposer** car pour anticiper la résolution d'une situation complexe, il est souvent utile de profiter d'états intermédiaires identifiés pour séparer le problème.\n",
    "\n",
    "Le modèle d'exécution sous jacent et sa compréhension par l'élève ont une influence sur la difficulté à anticiper correctement.\n",
    "\n",
    "**Exemple** : \"*Distinguer ce qui est exécuté sur le client ou sur le serveur et dans quel ordre*\" nécessite une compréhension du modèle d'exécution constitué de deux machines communicantes. Il est ainsi plus difficile d'anticiper dans ce contexte que dans celui d'une seule machine exécutant un programme séquentiel."
   ]
  },
  {
   "cell_type": "markdown",
   "metadata": {},
   "source": [
    "### Dans le contexte lié à l'utilisation d'un langage de programmation\n",
    "\n",
    "L'ordre d'évaluation des expressions et d'exécution des instructions sont des caractéristiques à prendre en compte au moment d'anticiper l'écriture d'un programme.\n",
    "\n",
    "La compétence d'anticipation n'est donc pas seulement une capacité d'analyse *descendante* allant du problème vers sa solution algorithmique. Ce peut aussi être une démarche *ascendante* par composition d'instructions en anticipant leur effet pour aller des informations disponibles vers les informations à calculer."
   ]
  },
  {
   "cell_type": "markdown",
   "metadata": {},
   "source": [
    "Equipe pédagoqique DIU EIL, ressource éducative libre distribuée sous [Licence Creative Commons Attribution - Pas d’Utilisation Commerciale - Partage dans les Mêmes Conditions 4.0 International](http://creativecommons.org/licenses/by-nc-sa/4.0/) ![Licence Creative Commons](https://i.creativecommons.org/l/by-nc-sa/4.0/88x31.png)"
   ]
  }
 ],
 "metadata": {
  "kernelspec": {
   "display_name": "Python 3",
   "language": "python",
   "name": "python3"
  },
  "language_info": {
   "codemirror_mode": {
    "name": "ipython",
    "version": 3
   },
   "file_extension": ".py",
   "mimetype": "text/x-python",
   "name": "python",
   "nbconvert_exporter": "python",
   "pygments_lexer": "ipython3",
   "version": "3.7.3"
  }
 },
 "nbformat": 4,
 "nbformat_minor": 1
}
