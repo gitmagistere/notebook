{
 "cells": [
  {
   "cell_type": "markdown",
   "metadata": {},
   "source": [
    "# Les types construits\n",
    "\n",
    "Tous les problèmes pourraient être réglés avec un seul type de données : suite\n",
    "d'octets. Ce serait alors à la charge du programmeur d'y récupérer les\n",
    "informations. Afin d'augmenter le confort, la lisibilité, la vitesse de\n",
    "développement, on dispose de types structurés.\n",
    "\n",
    "## Les types produit\n",
    "\n",
    "Un type produit, construit à partir de 2 types (ensembles), est le produit cartésien de ces types. On distingue classiquement les types produits non nommés ou tuples et les types produits nommés ou enregistrements.\n",
    "\n",
    "**Exemple** : Si $F$ est un ensemble de formes : $F=\\{Cube, Boule, Pyramide\\}$ et $C$ un ensemble de couleurs $C=\\{Bleu, Rouge, Jaune\\}$, alors $C \\times F$ est l'ensemble :\n",
    "$$\\{(Cube, Bleu), (Cube, Rouge), (Cube, Jaune), (Boule, Bleu), (Boule, Rouge),...\\}$$\n",
    "\n",
    "L'objectif des types structurés est de permettre de représenter des informations composites ou complexes en les regroupant sous une dénomination unique."
   ]
  },
  {
   "cell_type": "markdown",
   "metadata": {},
   "source": [
    "### Types produit non nommés : les tuples ou p-uplets\n",
    "\n",
    "Les tuples permettent de regrouper plusieurs informations sous un seul nom et ainsi de faire abstraction de la représentation. \n",
    "\n",
    "Les termes *tuple* ou *p-uplet* sont utilisés indifféremment pour désigner cette généralisation du *couple*, *triplet*, *quadruplet* ... "
   ]
  },
  {
   "cell_type": "markdown",
   "metadata": {},
   "source": [
    "**Exemple** : Dans une application de dessin vectoriel, on représente les points par leurs coordonnées. Chaque point est représenté par un couple de nombres (entiers ou flottants). La fonction `milieu` a en paramètre d'entrées deux tuples nommés `P` et `Q` et en sortie un tuple. Chaque composante d'un tuple peut être désigné par son indice."
   ]
  },
  {
   "cell_type": "code",
   "execution_count": null,
   "metadata": {},
   "outputs": [],
   "source": [
    "A = (1, 2)\n",
    "B = (5, 10)\n",
    "def milieu (P, Q):\n",
    "    return((P[0] + Q[0]) / 2, (P[1] + Q[1]) / 2)\n",
    "    \n",
    "milieu(A,B)"
   ]
  },
  {
   "cell_type": "markdown",
   "metadata": {},
   "source": [
    "**Remarques** : \n",
    "\n",
    "* En Python, les tuples ne sont pas **typés**. Par exemple, au lieu d'indiquer : *tuple(int, int)*, l'interprète indique seulement : *tuple*\n",
    "\n",
    "* Les tuples ne sont pas **mutables**. On ne peut pas écrire : ```A[0] = 2```.\n",
    "* Les tuples sont de taille **statique** : on peut pas ajouter une composante à un tuple existant.\n",
    "* Malgré la notation indicée, il ne faut pas les confondre avec les tableaux."
   ]
  },
  {
   "cell_type": "code",
   "execution_count": null,
   "metadata": {},
   "outputs": [],
   "source": [
    "type(A)"
   ]
  },
  {
   "cell_type": "markdown",
   "metadata": {},
   "source": [
    "Les tuples permettent de simplifier l'écriture des programmes en faisant abstraction de détails. \n",
    "\n",
    "Sans cette notion, la fonction `milieu` aurait 4 paramètres, et dans le programme qui l'utilise, il faudrait 2 fois plus de variables pour mémoriser les informations.\n",
    "\n",
    "La seule précaution à prendre, est qu'il n'y ait pas d'ambiguité sur l'ordre dans lequel les informations sont rangées dans un tuple, sinon il faut en nommer les différentes parties.\n",
    "\n",
    "**Exemple**: Une application de visualisation de cartes marines, si elle utilise cette représentation, doit respecter la convention utilisée ci-dessous, et indiquer dans l'ordre le nom de la balise, sa latitude, sa longitude puis son code. "
   ]
  },
  {
   "cell_type": "code",
   "execution_count": null,
   "metadata": {},
   "outputs": [],
   "source": [
    "balise = (\"Phare de la Vielle\", 48.04066, -4.75636, \"Occ 2+1 WRG 12s\")"
   ]
  },
  {
   "cell_type": "markdown",
   "metadata": {},
   "source": [
    "* **Activité** : utiliser un type tuple pour représenter des fractions par leur couple : numérateur, dénominateur. Programmer les opérations arithmétiques sur les fractions en prenant soin de les simplifier et si besoin de les ramener au même dénominateur."
   ]
  },
  {
   "cell_type": "markdown",
   "metadata": {},
   "source": [
    "### Types produits nommés : les enregistrements\n",
    "\n",
    "Un type produit nommé ajoute un nom à chacune des composantes. Les données peuvent alors être saisies en indiquant ces composantes dans un ordre indifférent, en indiquant l'association nom du champ - valeur.\n",
    "\n",
    "En Python, les enregistrements peuvent être saisis comme des dictionnaires en utilisant les clés comme des noms d'attributs. "
   ]
  },
  {
   "cell_type": "code",
   "execution_count": null,
   "metadata": {},
   "outputs": [],
   "source": [
    "PhVieille = {'Nom' :'Phare de la Vielle', 'Lat':48.04066, 'Long':-4.75636, 'Code':'Occ 2+1 WRG 12s'}"
   ]
  },
  {
   "cell_type": "markdown",
   "metadata": {},
   "source": [
    "L'accès à la valeur d'un champ se fait par association à l'aide de la syntaxe `[]`."
   ]
  },
  {
   "cell_type": "code",
   "execution_count": null,
   "metadata": {},
   "outputs": [],
   "source": [
    "PhVieille['Code']"
   ]
  },
  {
   "cell_type": "markdown",
   "metadata": {},
   "source": [
    "**Exemple** : pour définir une des briques du type présenté en introduction, on pourra écrire de la manière suivante :"
   ]
  },
  {
   "cell_type": "code",
   "execution_count": null,
   "metadata": {},
   "outputs": [],
   "source": [
    "B1 = {'forme' :'cube', 'couleur':'rouge'}\n",
    "B2 = {'couleur':'vert', 'forme' :'pyramide'}\n",
    "print(B1['couleur'])\n",
    "print(B2['forme'])"
   ]
  },
  {
   "cell_type": "markdown",
   "metadata": {},
   "source": [
    "## Les types somme\n",
    "\n",
    "Les types \"somme\" ou union permettent de définir un type comme une union de 2 types et sont parfois mis en oeuvre par des enregistrements à champs variants. En l'absence de contrôle de type interne à un dictionnaire en Python, toute variation des types présents dans un enregistrement est possible par défaut. \n",
    "\n",
    "**Exemple** : On pourra ainsi, sans difficulté, manipuler des représentations de figures de géométrie plane de la manière suivante :"
   ]
  },
  {
   "cell_type": "code",
   "execution_count": null,
   "metadata": {},
   "outputs": [],
   "source": [
    "from math import pi\n",
    "\n",
    "c = {'type':'disque', 'rayon':3}\n",
    "r = {'type':'rectangle', 'largeur':3, 'longueur':5}\n",
    "\n",
    "def surface(f):\n",
    "    \"\"\"\n",
    "    Calcule la surface d'une figure representée\n",
    "    par un dictionnaire contenant les clés type \n",
    "    et selon le type rayon ou largeur et hauteur.\n",
    "    \"\"\"\n",
    "    if f['type'] == 'disque':\n",
    "        return(pi * f['rayon']**2)\n",
    "    elif f['type'] == 'rectangle':\n",
    "        return(f['largeur'] * f['longueur'])\n",
    "    \n",
    "print(surface(c))\n",
    "print(surface(r))"
   ]
  },
  {
   "cell_type": "markdown",
   "metadata": {},
   "source": [
    "Ici le paramètre `f` fait référence à une information dont on ne connait pas les noms de champs (les clés) avant l'appel de la fonction avec des valeurs effectives."
   ]
  },
  {
   "cell_type": "markdown",
   "metadata": {},
   "source": [
    "On peut connaître les clés définies dans un enregistrement grace à la méthode `keys`."
   ]
  },
  {
   "cell_type": "code",
   "execution_count": null,
   "metadata": {},
   "outputs": [],
   "source": [
    "r.keys()"
   ]
  },
  {
   "cell_type": "markdown",
   "metadata": {},
   "source": [
    "On peut aussi savoir si une clé est définie par l'expression `in`."
   ]
  },
  {
   "cell_type": "code",
   "execution_count": null,
   "metadata": {},
   "outputs": [],
   "source": [
    "'rayon' in c"
   ]
  },
  {
   "cell_type": "markdown",
   "metadata": {},
   "source": [
    "**Remarque** : en Python, il est de la responsabilité du programmeur de faire en sorte que les données soient écrites conformément à leur utilisation. L'absence de déclaration de type entraîne qu'une erreur d'écriture dans un enregistrement ne pourra pas être détectée avant l'exécution."
   ]
  },
  {
   "cell_type": "markdown",
   "metadata": {},
   "source": [
    "## Les types récursifs\n",
    "\n",
    "Python autorise par défaut à imbriquer toutes les structures de données du langage. Il n'y a donc pas besoin de définir des types récursifs pour représenter des ensembles définis récursivement."
   ]
  },
  {
   "cell_type": "markdown",
   "metadata": {},
   "source": [
    "**Exemple** : On peut saisir un arbre généalogique en associant à chaque personnage son nom, son père et sa mère qui peuvent eux-mêmes être des personnages ayant un nom, un père et une mère..."
   ]
  },
  {
   "cell_type": "code",
   "execution_count": null,
   "metadata": {},
   "outputs": [],
   "source": [
    "LouisXVI = {'nom': 'LouisXVI',\n",
    "            'pere': \n",
    "                {'nom': 'Louis de France', \n",
    "                 'pere': {'nom': 'Louis XV'},\n",
    "                 'mere': {'nom': 'Marie Leszczyńska'}},\n",
    "            'mere': \n",
    "                {'nom': 'Marie-Josèphe de Saxe', \n",
    "                 'pere': {'nom': 'Auguste III'}, \n",
    "                 'mere': {'nom': \"Marie-Josèphe d'Autriche\"}}}\n",
    "LouisXVI"
   ]
  },
  {
   "cell_type": "code",
   "execution_count": null,
   "metadata": {},
   "outputs": [],
   "source": [
    "LouisXVI['pere']['mere']"
   ]
  },
  {
   "cell_type": "markdown",
   "metadata": {},
   "source": [
    "**Exemple :** Si l'on observe qu'une liste d'objets peut être vue soit comme une liste vide, soit comme un couple `(tete, suite)` constitué d'un premier objet `tete` et d'une liste `suite` représentant les éléments suivants, on peut construire des listes à l'aide de p-uplets imbriqués."
   ]
  },
  {
   "cell_type": "code",
   "execution_count": null,
   "metadata": {},
   "outputs": [],
   "source": [
    "liste_vide = ()\n",
    "un_deux_trois = (1, (2, (3, liste_vide)))"
   ]
  },
  {
   "cell_type": "code",
   "execution_count": null,
   "metadata": {},
   "outputs": [],
   "source": [
    "def affiche_liste(une_liste):\n",
    "    if une_liste != liste_vide:\n",
    "        tete, suite = une_liste\n",
    "        print(tete, end='')\n",
    "        while suite != liste_vide:\n",
    "            tete, suite = suite\n",
    "            print(' ->', tete, end='')\n",
    "            \n",
    "affiche_liste(un_deux_trois)"
   ]
  },
  {
   "cell_type": "code",
   "execution_count": null,
   "metadata": {},
   "outputs": [],
   "source": [
    "def ajoute_en_tete(element, une_liste):\n",
    "    return (element, une_liste)\n",
    "\n",
    "liste = ajoute_en_tete(1, liste_vide)\n",
    "liste = ajoute_en_tete(2, liste)\n",
    "liste = ajoute_en_tete(3, liste)\n",
    "affiche_liste(liste)"
   ]
  },
  {
   "cell_type": "code",
   "execution_count": null,
   "metadata": {},
   "outputs": [],
   "source": [
    "def ajoute_en_queue(element, une_liste):\n",
    "    ...  # pas si facile !"
   ]
  },
  {
   "cell_type": "markdown",
   "metadata": {},
   "source": [
    "**Exemple** : un arbre binaire de décision est composé au choix : de la constante `True`, de la constante `False` ou d'une alternative entre 2 arbres. Il peut être représenté de la manière suivante :"
   ]
  },
  {
   "cell_type": "code",
   "execution_count": null,
   "metadata": {},
   "outputs": [],
   "source": [
    "pxorq = {'si': 'p',\n",
    "         'alors':\n",
    "             {'si': 'q',\n",
    "              'alors': {'const': False}, \n",
    "              'sinon': {'const': True}} , \n",
    "         'sinon':\n",
    "             {'si': 'q',\n",
    "              'alors': {'const': True}, \n",
    "              'sinon': {'const': False}} }"
   ]
  },
  {
   "cell_type": "code",
   "execution_count": null,
   "metadata": {},
   "outputs": [],
   "source": [
    "pxorq"
   ]
  },
  {
   "cell_type": "markdown",
   "metadata": {},
   "source": [
    "**Remarque** : Dans cet exemple, il faudrait écrire une fonction d'affichage plus adaptée, car le type Python `dict` ne préserve pas l'ordre des clés."
   ]
  },
  {
   "cell_type": "markdown",
   "metadata": {},
   "source": [
    "### Conclusion\n",
    "\n",
    "Les types permettent de structurer l'information disponible et d'améliorer la lisibilité des programmes si on les utilise pour nommer correctement la nature des informations enregistrées. En l'absence d'un système automatique de contrôle de type, le programmeur peut cependant utiliser les types pour vérifier manuellement si son programme est cohérent."
   ]
  },
  {
   "cell_type": "markdown",
   "metadata": {},
   "source": [
    "### Pour aller plus loin\n",
    "\n",
    "La facilité d'usage et la souplesse des types construits prédéfinis de Python sont souvent cités comme l'une des forces de ce langage. De nombreuses opérations et méthodes prédéfinies permettent de les manipuler aisément pour de nombreux objectifs de programmation.\n",
    "\n",
    "Il est utile de consulter la page sur les [types prédéfinis](https://docs.python.org/fr/3/library/stdtypes.html) dans la documentation officielle, pour se familiariser avec les types [`tuple`, `list`](https://docs.python.org/fr/3/library/stdtypes.html?highlight=dict#sequence-types-list-tuple-range) et [`dict`](https://docs.python.org/fr/3/library/stdtypes.html?highlight=dict#mapping-types-dict), et découvrir ou approfondir les autres types existants ([`set`](https://docs.python.org/fr/3/library/stdtypes.html?highlight=dict#set-types-set-frozenset), etc.)."
   ]
  },
  {
   "cell_type": "markdown",
   "metadata": {},
   "source": [
    "Equipe pédagoqique DIU EIL, ressource éducative libre distribuée sous [Licence Creative Commons Attribution - Pas d’Utilisation Commerciale - Partage dans les Mêmes Conditions 4.0 International](http://creativecommons.org/licenses/by-nc-sa/4.0/) ![Licence Creative Commons](https://i.creativecommons.org/l/by-nc-sa/4.0/88x31.png)"
   ]
  }
 ],
 "metadata": {
  "kernelspec": {
   "display_name": "Python 3",
   "language": "python",
   "name": "python3"
  },
  "language_info": {
   "codemirror_mode": {
    "name": "ipython",
    "version": 3
   },
   "file_extension": ".py",
   "mimetype": "text/x-python",
   "name": "python",
   "nbconvert_exporter": "python",
   "pygments_lexer": "ipython3",
   "version": "3.7.3"
  }
 },
 "nbformat": 4,
 "nbformat_minor": 1
}
