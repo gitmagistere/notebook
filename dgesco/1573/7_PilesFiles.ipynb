{
 "cells": [
  {
   "cell_type": "markdown",
   "metadata": {},
   "source": [
    "# Piles et files\n",
    "\n",
    "Piles et files sont des structures de données linéaires, permettant de gérer des séquences d'éléments.\n",
    "\n",
    "Piles et files diffèrent par le jeu d'opérations disponibles et par la politique de mémorisation des éléments dans la séquence.\n",
    "\n",
    "Les piles sont en mode LIFO (Last In First Out : dernier entré premier sorti). Leur usage caractéristique en informatique est la pile des contextes d'exécution.\n",
    "\n",
    "Les files sont en mode FIFO (First In First Out : premier entré, premier sorti). Leur usage caractéristique concerne les files d'attente.\n"
   ]
  },
  {
   "cell_type": "markdown",
   "metadata": {},
   "source": [
    "## Les piles\n",
    "\n",
    "### Le type abstrait pile\n",
    "\n",
    "On définit le type abstrait de données par ses opérations :\n",
    "\n",
    "- création de pile vide\n",
    "- ajout au sommet (souvent appelé *push* ou *empiler*)\n",
    "- retrait du sommet (souvent appelé *pop* ou *depiler*)\n",
    "- accès au nombre d'éléments"
   ]
  },
  {
   "cell_type": "markdown",
   "metadata": {},
   "source": [
    "### Implémentation avec la classe `ListeChainee`\n",
    "\n",
    "La classe `ListeChainee` est tout à fait adaptée pour les piles car les opérations les plus simples y sont l'ajout et la supression en tête de liste. Il suffit donc de poser que le sommet de la pile est la tête de la liste chaînée.\n",
    "\n",
    "On choisit d'implémenter la création d'une pile vide et l'accès au nombre d'éléments par les méthodes spéciales `__init__` et `__len__`. Pour `empiler` et `depiler`, on réutilise les méthodes de la classe `ListeChainee`.\n",
    "\n",
    "**Remarque** : on aurait pu aussi bien recopier le code des méthodes des listes chaînées pour obtenir une implémentation indépendante."
   ]
  },
  {
   "cell_type": "code",
   "execution_count": null,
   "metadata": {},
   "outputs": [],
   "source": [
    "from listechainee import ListeChainee\n",
    "\n",
    "class Pile:\n",
    "    def __init__(self):\n",
    "        self.pile = ListeChainee()\n",
    "        \n",
    "    def __len__(self):\n",
    "        return len(self.pile)\n",
    "\n",
    "    def empiler(self, element):\n",
    "        self.pile.ajout_en_tete(element)\n",
    "        \n",
    "    def depiler(self):\n",
    "        if len(self) == 0:\n",
    "            raise ValueError(\"depiler une pile vide\")\n",
    "        return self.pile.supprime_en_tete()"
   ]
  },
  {
   "cell_type": "markdown",
   "metadata": {},
   "source": [
    "On peut tester l'usage de la pile en empilant puis en dépilant des éléments."
   ]
  },
  {
   "cell_type": "code",
   "execution_count": null,
   "metadata": {},
   "outputs": [],
   "source": [
    "p = Pile()\n",
    "p.empiler(3)\n",
    "p.empiler(5)\n",
    "p.empiler(8)\n",
    "print(p.depiler())\n",
    "print(p.depiler())\n",
    "print(p.depiler())"
   ]
  },
  {
   "cell_type": "markdown",
   "metadata": {},
   "source": [
    "**Activité** : Redéfinir la classe `Pile`, en utilisant seulement la classe `Maillon`, mais sans utiliser la classe `ListeChainee`."
   ]
  },
  {
   "cell_type": "code",
   "execution_count": null,
   "metadata": {},
   "outputs": [],
   "source": [
    "class Maillon:\n",
    "    def __init__(self, element, suivant=None):\n",
    "        self.element = element\n",
    "        self.suivant = suivant\n",
    "\n",
    "class Pile:\n",
    "    def __init__(self):\n",
    "        \"\"\"Crée une pile vide\"\"\"\n",
    "        \n",
    "    def __len__(self):\n",
    "        \"\"\"Donne la taille de la pile\"\"\"\n",
    "\n",
    "    def empiler(self, element):\n",
    "        \"\"\"Ajoute un élément sur le sommet de la pile\"\"\"\n",
    "        \n",
    "    def depiler(self):\n",
    "        \"\"\"Enlève et renvoie l'élément situé sur le sommet de la pile\"\"\""
   ]
  },
  {
   "cell_type": "markdown",
   "metadata": {},
   "source": [
    "### Implémentation avec les `list` de Python\n",
    "\n",
    "On dispose sur les listes de la méthode `append`, qui ajoute à la fin, et de la méthode `pop` qui enlève un élément à la fin. Ce qui est important pour les piles est d'ajouter et de supprimer les éléments, à la même extrémité de la liste.\n",
    "\n",
    "**Remarque** : On aurait aussi bien pu ajouter et supprimer au début avec les méthodes `insert(0, element)` et `pop(0)`."
   ]
  },
  {
   "cell_type": "code",
   "execution_count": null,
   "metadata": {},
   "outputs": [],
   "source": [
    "class Pile:\n",
    "    def __init__(self):\n",
    "        self.pile = list()\n",
    "        \n",
    "    def __len__(self):\n",
    "        return len(self.pile)\n",
    "\n",
    "    def empiler(self, element):\n",
    "        self.pile.append(element)\n",
    "        \n",
    "    def depiler(self):\n",
    "        if len(self) == 0:\n",
    "            raise ValueError(\"depiler une pile vide\")\n",
    "        return self.pile.pop()"
   ]
  },
  {
   "cell_type": "markdown",
   "metadata": {},
   "source": [
    "On peut tester l'usage de la pile en empilant puis en dépilant des éléments."
   ]
  },
  {
   "cell_type": "code",
   "execution_count": null,
   "metadata": {},
   "outputs": [],
   "source": [
    "p = Pile()\n",
    "p.empiler(3)\n",
    "p.empiler(5)\n",
    "p.empiler(8)\n",
    "print(p.depiler())\n",
    "print(p.depiler())\n",
    "print(p.depiler())"
   ]
  },
  {
   "cell_type": "markdown",
   "metadata": {},
   "source": [
    "### Exemple d'usage de la pile\n",
    "\n",
    "Pour transformer la fonction récursive :\n",
    "```python\n",
    "def fact (n) : \n",
    "    return 1 if n == 0 else n * fact(n-1)\n",
    "```\n",
    "\n",
    "en fonction itérative, on décrémente `n` jusqu'à `0` en empilant ses valeurs successives, puis on dépile les valeurs pour multiplier le résultat intermédiaire, jusqu'à ce que la pile soit vide."
   ]
  },
  {
   "cell_type": "code",
   "execution_count": null,
   "metadata": {},
   "outputs": [],
   "source": [
    "def fact (n):\n",
    "    contexte = Pile()\n",
    "    while not n == 0 :\n",
    "        contexte.empiler(n)\n",
    "        n = n - 1\n",
    "    r = 1\n",
    "    while len(contexte) > 0:\n",
    "        n = contexte.depiler()\n",
    "        r = n * r\n",
    "    return r\n",
    "\n",
    "fact(10)"
   ]
  },
  {
   "cell_type": "markdown",
   "metadata": {},
   "source": [
    "## Les files\n",
    "\n",
    "### Le type abstrait file\n",
    "\n",
    "On définit le type abstrait de données par ses opérations :\n",
    "\n",
    "- création de file vide,\n",
    "- ajout en queue de file : enfiler (ou *enqueue*),\n",
    "- retrait du premier élément de la file : défiler (ou *dequeue*),\n",
    "- accès au nombre d'éléments."
   ]
  },
  {
   "cell_type": "markdown",
   "metadata": {},
   "source": [
    "### Implémentation avec la classe `ListeChainee`\n",
    "\n",
    "La classe `ListeChainee` peut être adaptée pour les files car on a programmé toutes les opérations d'ajout ou de suppression en tête ou en queue de liste chaînée.\n",
    "\n",
    "Il faut cependant faire un choix. Si on choisit de défiler en tête (opération en temps constant), alors il faut enfiler en queue de liste chaînée (opération en temps linéaire).\n",
    "\n",
    "On choisit d'implémenter la création d'une file vide et l'accès au nombre d'éléments par les méthodes spéciales `__init__` et `__len__`. Pour `enfiler` et `defiler`, on réutilise les méthodes de la classe `ListeChainee`.\n",
    "\n",
    "**Remarque** : on aurait pu aussi bien faire le choix opposé en enfilant en tête de liste (opération en temps constant) pour défiler en queue (opération en temps linéaire)."
   ]
  },
  {
   "cell_type": "code",
   "execution_count": null,
   "metadata": {},
   "outputs": [],
   "source": [
    "from listechainee import ListeChainee\n",
    "\n",
    "class File:\n",
    "    def __init__(self):\n",
    "        self.file = ListeChainee()\n",
    "        \n",
    "    def __len__(self):\n",
    "        return len(self.file)\n",
    "    \n",
    "    def enfiler(self, element):\n",
    "        self.file.ajout_en_queue(element)\n",
    "        \n",
    "    def defiler(self):\n",
    "        if len(self) == 0:\n",
    "            raise ValueError(\"defiler sur une file vide\")\n",
    "        return self.file.supprime_en_tete()"
   ]
  },
  {
   "cell_type": "markdown",
   "metadata": {},
   "source": [
    "On peut tester la file, pour observer si les éléments sont bien *défilés*, dans l'ordre où ils ont été *enfilés*. "
   ]
  },
  {
   "cell_type": "code",
   "execution_count": null,
   "metadata": {},
   "outputs": [],
   "source": [
    "f = File()\n",
    "f.enfiler(3)\n",
    "f.enfiler(5)\n",
    "f.enfiler(8)\n",
    "print(f.defiler())\n",
    "print(f.defiler())\n",
    "print(f.defiler())"
   ]
  },
  {
   "cell_type": "markdown",
   "metadata": {},
   "source": [
    "L'implémentation des files proposée avec les listes chaînées n'est pas satisfaisante car l'ajout en queue n'est pas efficace. Ce problème peut être simplement résolu en gardant pour une file deux références, une vers le premier maillon et une vers le dernier.  "
   ]
  },
  {
   "cell_type": "markdown",
   "metadata": {},
   "source": [
    "**Activité** : Redéfinir la classe `File`, en utilisant seulement la classe `Maillon`, mais sans utiliser la classe `ListeChainee` et en créant deux attributs pour chaque file, pour garder la référence vers les premier et dernier maillon de la chaîne."
   ]
  },
  {
   "cell_type": "code",
   "execution_count": null,
   "metadata": {},
   "outputs": [],
   "source": [
    "class Maillon:\n",
    "    def __init__(self, element, suivant=None):\n",
    "        self.element = element\n",
    "        self.suivant = suivant\n",
    "\n",
    "class File:\n",
    "    def __init__(self):\n",
    "        \"\"\"Crée une file vide\"\"\"\n",
    "        self.premier = None\n",
    "        self.dernier = None\n",
    "        \n",
    "    def __len__(self):\n",
    "        \"\"\"Donne la taille de la file\"\"\"\n",
    "\n",
    "    def enfiler(self, element):\n",
    "        \"\"\"Ajoute un élément à la fin de la file\"\"\"\n",
    "        \n",
    "    def defiler(self):\n",
    "        \"\"\"Enlève et renvoie l'élément situé au début de la file\"\"\""
   ]
  },
  {
   "cell_type": "markdown",
   "metadata": {},
   "source": [
    "Tester le bon fonctionnement de cette implémentation de la file, en vérifiant que les deux opérations `enfiler` et `defiler` s'exécutent bien en temps constant."
   ]
  },
  {
   "cell_type": "code",
   "execution_count": null,
   "metadata": {},
   "outputs": [],
   "source": [
    "f = File()\n",
    "f.enfiler(3)\n",
    "f.enfiler(5)\n",
    "f.enfiler(8)\n",
    "print(f.defiler())\n",
    "print(f.defiler())\n",
    "print(f.defiler())"
   ]
  },
  {
   "cell_type": "markdown",
   "metadata": {},
   "source": [
    "### Implémentation avec les `list` de Python\n",
    "\n",
    "On dispose sur les listes de la méthode `append`, qui ajoute à la fin, et de la méthode `pop(0)` qui enlève un élément au début de la liste.\n",
    "\n",
    "**Attention** : En Python, l'ajout en fin de liste avec `append` est en temps constant, mais le `pop(0)` est en temps linéaire. Pour une évaluation de la complexité des opérations élémentaires de Python voir le site : [Python.org - Time complexity](https://wiki.python.org/moin/TimeComplexity)\n",
    "\n",
    "**Remarque** : On aurait aussi bien pu ajouter au début et supprimer à la fin,  avec les méthodes `insert(0, element)` et `pop()`."
   ]
  },
  {
   "cell_type": "code",
   "execution_count": null,
   "metadata": {},
   "outputs": [],
   "source": [
    "class File:\n",
    "    def __init__(self):\n",
    "        self.file = []\n",
    "        \n",
    "    def __len__(self):\n",
    "        return len(self.file)\n",
    "       \n",
    "    def enfiler(self, element):\n",
    "        self.file.append(element)\n",
    "        \n",
    "    def defiler(self):\n",
    "        return self.file.pop(0)"
   ]
  },
  {
   "cell_type": "markdown",
   "metadata": {},
   "source": [
    "On peut tester la file, pour observer si les éléments sont bien *défilés*, dans l'ordre où ils ont été *enfilés*. "
   ]
  },
  {
   "cell_type": "code",
   "execution_count": null,
   "metadata": {},
   "outputs": [],
   "source": [
    "f = File()\n",
    "f.enfiler(3)\n",
    "f.enfiler(5)\n",
    "f.enfiler(8)\n",
    "print(f.defiler())\n",
    "print(f.defiler())\n",
    "print(f.defiler())"
   ]
  },
  {
   "cell_type": "markdown",
   "metadata": {},
   "source": [
    "### Exemples d'usages des files\n",
    "\n",
    "Les file d'attentes simples sont utilisées en informatique, dès qu'une ressource en accès exclusif est partagée entre plusieurs utiilsateurs.\n",
    "\n",
    "**Exemple** : File d'attente d'impression. Chaque utilisateur soumet une tâche en l'enfilant dans la file d'impression. Le serveur d'imprimante, défile une tâche dès que l'imprimante est disponible."
   ]
  },
  {
   "cell_type": "markdown",
   "metadata": {},
   "source": [
    "## Bilan\n",
    "\n",
    "Pour les **piles** et les **files**, on a vu successivement des implémentations du type abstrait, utilisant une classe de listes chainées, les listes de Python ou programmées directement sous forme de listes chaînées.\n",
    "\n",
    "L'efficacité de ces différentes implémentations est à discuter en fonction de la complexité des opérations élémentaires utilisées. \n",
    "\n",
    "Pour les piles, on a programmé les opérations efficacement, mais pour les files, on a dû faire un compromis entre les opérations, une seule des deux pouvant être efficace selon le choix effectué.\n",
    "\n",
    "Pour une implémentation efficace des files, il faut utiliser des *files à deux extrémités* (double ended queue) comme proposé en gardant les deux attributs `premier` et `dernier`. Un module Python existe pour les mettre en oeuvre : [le module `dequeue`](https://docs.python.org/fr/3/library/collections.html#collections.deque)."
   ]
  },
  {
   "cell_type": "markdown",
   "metadata": {},
   "source": [
    "Equipe pédagoqique DIU EIL, ressource éducative libre distribuée sous [Licence Creative Commons Attribution - Pas d’Utilisation Commerciale - Partage dans les Mêmes Conditions 4.0 International](http://creativecommons.org/licenses/by-nc-sa/4.0/) ![Licence Creative Commons](https://i.creativecommons.org/l/by-nc-sa/4.0/88x31.png)"
   ]
  }
 ],
 "metadata": {
  "kernelspec": {
   "display_name": "Python 3",
   "language": "python",
   "name": "python3"
  },
  "language_info": {
   "codemirror_mode": {
    "name": "ipython",
    "version": 3
   },
   "file_extension": ".py",
   "mimetype": "text/x-python",
   "name": "python",
   "nbconvert_exporter": "python",
   "pygments_lexer": "ipython3",
   "version": "3.6.8"
  }
 },
 "nbformat": 4,
 "nbformat_minor": 2
}
