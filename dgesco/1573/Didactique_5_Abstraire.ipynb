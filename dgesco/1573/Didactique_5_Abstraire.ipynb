{
 "cells": [
  {
   "cell_type": "markdown",
   "metadata": {},
   "source": [
    "# Didactique de l'informatique\n",
    "\n",
    "## Compétence ABSTRAIRE\n",
    "\n",
    "* Capacité à \"faire abstraction\" des informations non pertinentes et à créer des solutions où la manière dont un problème est résolu peut être \"abstraite\" à l'aide d'une interface pertinente.\n",
    "\n",
    "Historiquement, ces notions ont été introduites dans [(Abelson et Sussman, 1989)](#sicp) dans le contexte du langage Scheme."
   ]
  },
  {
   "cell_type": "markdown",
   "metadata": {},
   "source": [
    "### Abstraire avec les données\n",
    "\n",
    "Abstraire avec les données consiste à *encapsuler* un certain nombre d'informations en utilisant une structure de données composée qui peut éventuellement masquer le détail du codage des informations."
   ]
  },
  {
   "cell_type": "markdown",
   "metadata": {},
   "source": [
    "* **Exemple** : Le programme suivant peut effectuer un calcul de temps si les fonctions intermédiaires utilisées sont définies pour enregistrer les informations sous un format adapté et y accéder. La représentation choisie n'est pas visible à ce niveau. Elle est abstraite. Les informations fournies consistent en des nombres d'heures, minutes et secondes.\n",
    "```python\n",
    "t1 = temps(18, 20, 30)\n",
    "t2 = temps(6, 45, 50)\n",
    "total = additionner_temps(t1, t2)\n",
    "afficher_temps (total)\n",
    "```"
   ]
  },
  {
   "cell_type": "markdown",
   "metadata": {},
   "source": [
    "Une mise en oeuvre peut choisir d'utiliser des enregistrements pour mémoriser les heures, minutes et secondes. On remarque ici dans l'écriture : `additionner_temps(t1, t2)`, une abstraction où les variables `t1` et `t2` encapsulent des informations complexes. Sans ce mécanisme on aurait dû recourir à une fonction d'addition de la forme : `additionner_temps(h1, mn1, s1, h2, mn2, s2)`."
   ]
  },
  {
   "cell_type": "code",
   "execution_count": 1,
   "metadata": {},
   "outputs": [
    {
     "name": "stdout",
     "output_type": "stream",
     "text": [
      "25 h 6 mn 20 s\n"
     ]
    }
   ],
   "source": [
    "def temps(h, mn, s):\n",
    "    return({'h':h, 'mn':mn,'s':s})\n",
    "\n",
    "def additionner_temps(t1, t2):\n",
    "    s = t1['s'] + t2['s']\n",
    "    mn = t1['mn'] + t2['mn']\n",
    "    h = t1['h'] + t2['h']\n",
    "    return({'h': h+(mn+s//60)//60, 'mn': (mn+s//60)%60, 's': s%60})\n",
    "\n",
    "def afficher_temps(t):\n",
    "    print(t['h'], \"h\", t['mn'], \"mn\", t['s'], \"s\")\n",
    "\n",
    "t1 = temps(18, 20, 30)\n",
    "t2 = temps(6, 45, 50)\n",
    "total = additionner_temps(t1, t2)\n",
    "afficher_temps(total)"
   ]
  },
  {
   "cell_type": "markdown",
   "metadata": {},
   "source": [
    "Une autre mise en oeuvre peut choisir de tout convertir en secondes."
   ]
  },
  {
   "cell_type": "code",
   "execution_count": 2,
   "metadata": {},
   "outputs": [
    {
     "name": "stdout",
     "output_type": "stream",
     "text": [
      "25 h 6 mn 20 s\n"
     ]
    }
   ],
   "source": [
    "def temps(h, mn, s):\n",
    "    return((h*60 + mn)*60 + s)\n",
    "\n",
    "def additionner_temps(t1, t2):\n",
    "    return(t1 + t2)\n",
    "\n",
    "def afficher_temps(t):\n",
    "    print(t // 3600, \"h\",(t//60)%60 , \"mn\", t%60, \"s\")\n",
    "\n",
    "t1 = temps(18, 20, 30)\n",
    "t2 = temps(6, 45, 50)\n",
    "total = additionner_temps(t1, t2)\n",
    "afficher_temps(total)"
   ]
  },
  {
   "cell_type": "markdown",
   "metadata": {},
   "source": [
    "Pour l'utilisateur de cet ensemble de fonctions, le choix de la structure de données n'est pas nécessairement visible. Le résultat final est le même dans les deux mises en oeuvre. D'autres choix de structures de données auraient pu être faits : par exemple représenter un temps par un triplet `(18, 20, 30)`."
   ]
  },
  {
   "cell_type": "markdown",
   "metadata": {},
   "source": [
    "### Abstraire avec les fonctions\n",
    "\n",
    "Les fonctions sont de manière générale un outil d'abstraction qui peut aussi masquer la méthode de calcul utilisée, y compris quand il n'y a pas de question de choix de structure de données."
   ]
  },
  {
   "cell_type": "markdown",
   "metadata": {},
   "source": [
    "* **Exemple** : les deux fonctions `fact` ci-dessous, calculent bien chacune la factorielle d'un entier positif. Elles sont interchangeables pour l'utilisateur. "
   ]
  },
  {
   "cell_type": "code",
   "execution_count": 3,
   "metadata": {},
   "outputs": [
    {
     "data": {
      "text/plain": [
       "3628800"
      ]
     },
     "execution_count": 3,
     "metadata": {},
     "output_type": "execute_result"
    }
   ],
   "source": [
    "def fact(n):\n",
    "    return(1 if n==0 else n* fact(n-1))\n",
    "\n",
    "fact(10)"
   ]
  },
  {
   "cell_type": "code",
   "execution_count": 4,
   "metadata": {},
   "outputs": [
    {
     "data": {
      "text/plain": [
       "3628800"
      ]
     },
     "execution_count": 4,
     "metadata": {},
     "output_type": "execute_result"
    }
   ],
   "source": [
    "def fact(n):\n",
    "    f = 1\n",
    "    for i in range(n):\n",
    "        f = f * (i+1)\n",
    "    return(f)\n",
    "\n",
    "fact(10)"
   ]
  },
  {
   "cell_type": "markdown",
   "metadata": {},
   "source": [
    "Leur écriture sous forme de fonction permet à l'utilisateur de faire abstraction de la manière dont le calcul a été effectué."
   ]
  },
  {
   "cell_type": "markdown",
   "metadata": {},
   "source": [
    "### Conclusion\n",
    "\n",
    "Abstraire en cachant soit les données soit les algorithmes, par des fonctions, permet au programmeur de simplifier l'écriture de ses programmes.\n",
    "\n",
    "La combinaison des deux méthodes peut aboutir par exemple à la programmation orientée objet ou données et méthodes sont encapsulées à l'intérieur d'une classe."
   ]
  },
  {
   "cell_type": "markdown",
   "metadata": {},
   "source": [
    "### Références \n",
    "\n",
    "* <a name='sicp'></a> Structure et interprétation des programmes informatiques, Abelson et Sussman, InterEditions, 1989."
   ]
  },
  {
   "cell_type": "markdown",
   "metadata": {},
   "source": [
    "Equipe pédagoqique DIU EIL, ressource éducative libre distribuée sous [Licence Creative Commons Attribution - Pas d’Utilisation Commerciale - Partage dans les Mêmes Conditions 4.0 International](http://creativecommons.org/licenses/by-nc-sa/4.0/) ![Licence Creative Commons](https://i.creativecommons.org/l/by-nc-sa/4.0/88x31.png)"
   ]
  }
 ],
 "metadata": {
  "kernelspec": {
   "display_name": "Python 3",
   "language": "python",
   "name": "python3"
  },
  "language_info": {
   "codemirror_mode": {
    "name": "ipython",
    "version": 3
   },
   "file_extension": ".py",
   "mimetype": "text/x-python",
   "name": "python",
   "nbconvert_exporter": "python",
   "pygments_lexer": "ipython3",
   "version": "3.7.3"
  }
 },
 "nbformat": 4,
 "nbformat_minor": 1
}
