{
 "cells": [
  {
   "cell_type": "markdown",
   "metadata": {},
   "source": [
    "# Représentation des données : types et valeurs de base - les booléens\n",
    "\n",
    "## Définitions"
   ]
  },
  {
   "cell_type": "markdown",
   "metadata": {},
   "source": [
    "L'ensemble des booléens ne comporte que deux valeurs notées `True` et `False` (en particulier en Python)\n",
    "Les fonctions booléennes d'une ou plusieurs variables booléennes peuvent s'exprimer à l'aide des opérateurs booléens `or`, `and`, `not`.\n",
    "\n",
    "Ces fonctions peuvent aussi être représentées par des tables de vérité (0 représente False, 1 représente True).\n",
    "\n",
    "| a | b | a or b | a and b | not a |\n",
    "|---|---|---|---|---|\n",
    "|0|0|0|0|1|\n",
    "|0|1|1|0|1|\n",
    "|1|0|1|0|0|\n",
    "|1|1|1|1|0|\n"
   ]
  },
  {
   "cell_type": "code",
   "execution_count": null,
   "metadata": {},
   "outputs": [],
   "source": [
    "True"
   ]
  },
  {
   "cell_type": "code",
   "execution_count": null,
   "metadata": {},
   "outputs": [],
   "source": [
    "False"
   ]
  },
  {
   "cell_type": "code",
   "execution_count": null,
   "metadata": {},
   "outputs": [],
   "source": [
    "True or not False"
   ]
  },
  {
   "cell_type": "markdown",
   "metadata": {},
   "source": [
    "* **Activité** : Ecrire les 16 fonctions booléennes de 2 variables de manière symbolique avec les opérateurs `or`, `and`, `not` et dresser leurs tables de vérité."
   ]
  },
  {
   "cell_type": "markdown",
   "metadata": {},
   "source": [
    "La fonction `ou exclusif` peut être définie par : `a exor b = (a and not b) or (not a and b)`."
   ]
  },
  {
   "cell_type": "code",
   "execution_count": null,
   "metadata": {},
   "outputs": [],
   "source": [
    "def exor(a, b):\n",
    "    return(a and not b or not a and b)"
   ]
  },
  {
   "cell_type": "markdown",
   "metadata": {},
   "source": [
    "On peut facilement programmer l'affichage de la table de vérité d'une fonction :"
   ]
  },
  {
   "cell_type": "code",
   "execution_count": null,
   "metadata": {},
   "outputs": [],
   "source": [
    "print ('a     b     a exor b')\n",
    "for a in (False, True):\n",
    "    for b in (False, True):\n",
    "        print(a, b, exor(a, b))"
   ]
  },
  {
   "cell_type": "markdown",
   "metadata": {},
   "source": [
    "## Propriétés des fonctions booléennes\n",
    "\n",
    "### Propriétés algébriques\n",
    "\n",
    "Pour toutes variables booléennes a, b et c, on a :\n",
    "\n",
    "* Associativité : `(a or b) or c == a or (b or c)`, et : `(a and b) and c == a and (b and c)`\n",
    "* Commutativité : `a or b == b or a`, et : `a and b == b and a`\n",
    "* Distributivité : `(a or b) and c == (a and c) or (b and c)`, et : `(a and b) or c == (a or c) and (b or c)`\n",
    "* Elément neutre : `a or False == a`, et : `a and True == a`\n",
    "* Elément absorbant : `a or True == True`, et : `a and False == False`\n",
    "* Négation : `a or not a == True`, et : `a and not a == False`\n",
    "* Loi de De Morgan : `not (a or b) == not a and not b`, et : `not (a and b) == not a or not b`"
   ]
  },
  {
   "cell_type": "markdown",
   "metadata": {},
   "source": [
    "**Remarque** : Avec toutes ces propriétés, les fonctions booléennes peuvent être écrites sous de multiples formes équivalentes. A retenir au moment d'analyser des activités d'élèves."
   ]
  },
  {
   "cell_type": "markdown",
   "metadata": {},
   "source": [
    "## Evaluation séquentielle des opérateurs booléens\n",
    "\n",
    "Les opérateurs `or`, `and` sont évalués séquentiellement :\n",
    "\n",
    "* Pour évaluer `a or b`, `a` est évalué d'abord, si l'évaluation donne `True`, le résultat est `True`, sinon il faut évaluer `b`, le résultat final est celui de l'évaluation de `b`.\n",
    "\n",
    "* Pour évaluer `a and b`, `a` est évalué d'abord, si l'évaluation donne `False`, le résultat est `False`, sinon il faut évaluer `b`, le résultat final est celui de l'évaluation de `b`."
   ]
  },
  {
   "cell_type": "markdown",
   "metadata": {},
   "source": [
    "**Remarque** : cela permet d'écrire des fonctions booléennes de manière récursive. Un nombre $n$ est pair s'il est égal à $0$ ou s'il est différent de $1$ et si $n-2$ est pair. Si les deux opérandes d'un opérateur booléen étaient systématqiuement évaluées, cette définition ne terminerait pas."
   ]
  },
  {
   "cell_type": "code",
   "execution_count": null,
   "metadata": {},
   "outputs": [],
   "source": [
    "def pair(n):\n",
    "    return(n == 0 or (n != 1) and pair(n - 2))"
   ]
  },
  {
   "cell_type": "code",
   "execution_count": null,
   "metadata": {},
   "outputs": [],
   "source": [
    "pair(33)"
   ]
  },
  {
   "cell_type": "markdown",
   "metadata": {},
   "source": [
    "## Equivalence entre instructions alternatives avec opérateurs booléens et sans"
   ]
  },
  {
   "cell_type": "markdown",
   "metadata": {},
   "source": [
    "Pour toute variables booléennes a, b :\n",
    "```python\n",
    "if a or b:\n",
    "    print('1')\n",
    "else:\n",
    "    print('2')\n",
    "\n",
    "```\n",
    "est équivalent à :\n",
    "```python\n",
    "if a:\n",
    "    print('1')\n",
    "else:\n",
    "    if b:\n",
    "        print('1')\n",
    "    else:\n",
    "        print('2')\n",
    "```"
   ]
  },
  {
   "cell_type": "markdown",
   "metadata": {},
   "source": [
    "De même :\n",
    "```python\n",
    "if a and b:\n",
    "    print('1')\n",
    "else:\n",
    "    print('2')\n",
    "\n",
    "```\n",
    "est équivalent à :\n",
    "```python\n",
    "if a:\n",
    "    if b:\n",
    "        print('1')\n",
    "    else:\n",
    "        print('2')\n",
    "else:\n",
    "    print('2')\n",
    "```"
   ]
  },
  {
   "cell_type": "markdown",
   "metadata": {},
   "source": [
    "Pour la négation :\n",
    "```python\n",
    "if not a:\n",
    "    print('1')\n",
    "else:\n",
    "    print('2')\n",
    "\n",
    "```\n",
    "est équivalent à :\n",
    "```python\n",
    "if a:\n",
    "    print('2')\n",
    "else:\n",
    "    print('1')\n",
    "```"
   ]
  },
  {
   "cell_type": "markdown",
   "metadata": {},
   "source": [
    "**Remarque :** cette taduction des opérateurs booléens à l'aide d'instructions alternatives montre aussi l'aspect *paresseux* de ces opérateurs. Par exemple, lorsqu'on évalue l'expression `a and b`, l'expression `b` n'est évaluée que si `a` s'évalue à `True` (ou à une valeur interprétée comme « vraie »)."
   ]
  },
  {
   "cell_type": "code",
   "execution_count": 8,
   "metadata": {},
   "outputs": [
    {
     "data": {
      "text/plain": [
       "False"
      ]
     },
     "execution_count": 8,
     "metadata": {},
     "output_type": "execute_result"
    }
   ],
   "source": [
    "False and 1 / 0 == 1"
   ]
  },
  {
   "cell_type": "code",
   "execution_count": 9,
   "metadata": {},
   "outputs": [
    {
     "ename": "ZeroDivisionError",
     "evalue": "division by zero",
     "output_type": "error",
     "traceback": [
      "\u001b[0;31m---------------------------------------------------------------------------\u001b[0m",
      "\u001b[0;31mZeroDivisionError\u001b[0m                         Traceback (most recent call last)",
      "\u001b[0;32m<ipython-input-9-05c0da44e883>\u001b[0m in \u001b[0;36m<module>\u001b[0;34m\u001b[0m\n\u001b[0;32m----> 1\u001b[0;31m \u001b[0;32mTrue\u001b[0m \u001b[0;32mand\u001b[0m \u001b[0;36m1\u001b[0m \u001b[0;34m/\u001b[0m \u001b[0;36m0\u001b[0m \u001b[0;34m==\u001b[0m \u001b[0;36m1\u001b[0m\u001b[0;34m\u001b[0m\u001b[0;34m\u001b[0m\u001b[0m\n\u001b[0m",
      "\u001b[0;31mZeroDivisionError\u001b[0m: division by zero"
     ]
    }
   ],
   "source": [
    "True and 1 / 0 == 1"
   ]
  },
  {
   "cell_type": "markdown",
   "metadata": {},
   "source": [
    "Cette caractéristique des opérateurs booléens est parfois utilisée pour écrire de manière concise certains programmes, par exemple cette fonction recevant une liste et renvoyant la portion initiale de la liste précédant la première occurrence d'un certain élément `fin` :"
   ]
  },
  {
   "cell_type": "code",
   "execution_count": null,
   "metadata": {},
   "outputs": [],
   "source": [
    "def portion_initiale(lst, fin):\n",
    "    resultat = []\n",
    "    i = 0\n",
    "    while i < len(lst) and lst[i] != fin:\n",
    "        resultat.append(lst[i])\n",
    "        i += 1\n",
    "    return resultat"
   ]
  },
  {
   "cell_type": "markdown",
   "metadata": {},
   "source": [
    "Ici le test `lst[i] != fin` n'est valide que si `i < len(lst)` s'évalue à `True`. Il est donc important qu'elle ne soit *pas* évaluée dans le cas contraire."
   ]
  },
  {
   "cell_type": "code",
   "execution_count": 6,
   "metadata": {},
   "outputs": [
    {
     "data": {
      "text/plain": [
       "[1, 1, 1]"
      ]
     },
     "execution_count": 6,
     "metadata": {},
     "output_type": "execute_result"
    }
   ],
   "source": [
    "portion_initiale([1, 1, 1, 0, 1, 1], 0)"
   ]
  },
  {
   "cell_type": "code",
   "execution_count": 7,
   "metadata": {},
   "outputs": [
    {
     "data": {
      "text/plain": [
       "[1, 1, 1, 1, 1, 1]"
      ]
     },
     "execution_count": 7,
     "metadata": {},
     "output_type": "execute_result"
    }
   ],
   "source": [
    "# cet appel provoquerait une erreur d'indice si l'opérateur and\n",
    "# n'était pas paresseux :\n",
    "\n",
    "portion_initiale([1, 1, 1, 1, 1, 1], 0)"
   ]
  },
  {
   "cell_type": "markdown",
   "metadata": {},
   "source": [
    "### Enregistrement du résultat d'un test dans une variable booléenne\n",
    "\n",
    "Dans de nombreux algorithmes, il est utile de mémoriser une information booléenne pour utiliser cette information plus tard, par exemple savoir qu'un élément a été trouvé dans une liste, qu'une donnée respecte une condition particulière..."
   ]
  },
  {
   "cell_type": "markdown",
   "metadata": {},
   "source": [
    "La formulation explicite enregistrant `True` ou `False` dans une variable :"
   ]
  },
  {
   "cell_type": "code",
   "execution_count": null,
   "metadata": {},
   "outputs": [],
   "source": [
    "if 2 + 2 == 4:\n",
    "    ResultatTest = True\n",
    "else:\n",
    "    ResultatTest = False"
   ]
  },
  {
   "cell_type": "markdown",
   "metadata": {},
   "source": [
    "peut être remplacée, de manière équivalente, par une affectation mémorisant directement le résultat de l'évaluation de la condition :"
   ]
  },
  {
   "cell_type": "code",
   "execution_count": null,
   "metadata": {},
   "outputs": [],
   "source": [
    "ResultatTest = 2 + 2 == 4"
   ]
  },
  {
   "cell_type": "markdown",
   "metadata": {},
   "source": [
    "* **Activité** : Dans un programme de calcul de date, on a besoin de calculer le nombre de jours d'un mois et donc en particulier de savoir si une année est bissextile (toutes les années multiples de 4 sauf celles multiples de 100, et les années multiples de 400)."
   ]
  },
  {
   "cell_type": "code",
   "execution_count": null,
   "metadata": {},
   "outputs": [],
   "source": [
    "an = 2019"
   ]
  },
  {
   "cell_type": "markdown",
   "metadata": {},
   "source": [
    "On pourra comparer une solution experte :"
   ]
  },
  {
   "cell_type": "code",
   "execution_count": null,
   "metadata": {},
   "outputs": [],
   "source": [
    "bissextile = an % 4 == 0 and (not an % 100 == 0 or an % 400 == 0)"
   ]
  },
  {
   "cell_type": "markdown",
   "metadata": {},
   "source": [
    "et une solution élève :"
   ]
  },
  {
   "cell_type": "code",
   "execution_count": null,
   "metadata": {},
   "outputs": [],
   "source": [
    "if an % 4 == 0 :\n",
    "    if an % 100 == 0:\n",
    "        if an % 400 == 0:\n",
    "            bissextile = True\n",
    "        else :\n",
    "            bissextile = False\n",
    "    else :\n",
    "        bissextile = True\n",
    "else :\n",
    "    bissextile = False"
   ]
  },
  {
   "cell_type": "markdown",
   "metadata": {},
   "source": [
    "### Addition binaire\n",
    "\n",
    "L'addition binaire de deux codes `a3 a2 a1 a0` et `b3 b2 b1 b0` peut être programmée en appelant 4 fois une fonction qui additionne sur 1 bit et en utilisant une série de retenues `c3 c2 c1 c0`."
   ]
  },
  {
   "cell_type": "code",
   "execution_count": null,
   "metadata": {},
   "outputs": [],
   "source": [
    "def add1(a, b, c):\n",
    "    return(a and b or a and c or b and c, exor(a, exor(b, c)))"
   ]
  },
  {
   "cell_type": "markdown",
   "metadata": {},
   "source": [
    "La fonction `add1` prend 3 entrées : les 2 bits à additionner et la retenue entrante et produit 2 sorties :  la retenue sortante et le résultat de l'addition."
   ]
  },
  {
   "cell_type": "code",
   "execution_count": null,
   "metadata": {},
   "outputs": [],
   "source": [
    "add1(True, True, False)"
   ]
  },
  {
   "cell_type": "code",
   "execution_count": null,
   "metadata": {},
   "outputs": [],
   "source": [
    "def add4(a3, a2, a1, a0, b3, b2, b1, b0):\n",
    "    c0, s0 = add1(a0, b0, False)\n",
    "    c1, s1 = add1(a1, b1, c0)\n",
    "    c2, s2 = add1(a2, b2, c1)\n",
    "    c3, s3 = add1(a3, b3, c2)\n",
    "    return(c3, s3, s2, s1, s0)"
   ]
  },
  {
   "cell_type": "code",
   "execution_count": null,
   "metadata": {},
   "outputs": [],
   "source": [
    "add4(True, True, False, True, \n",
    "     True, False, True, False)"
   ]
  },
  {
   "cell_type": "markdown",
   "metadata": {},
   "source": [
    "Ceci donne le résultat de l'addition binaire :\n",
    "\n",
    "```\n",
    "  1101\n",
    " +1010\n",
    " -----\n",
    " 10111\n",
    "```"
   ]
  },
  {
   "cell_type": "markdown",
   "metadata": {},
   "source": [
    "## Conclusion \n",
    "\n",
    "La maîtrise de l'algèbre de Boole est utile pour programmer le calcul et mémoriser des résultats logiques, pour comparer des programmes et pour raisonner sur ces programmes. C'est ainsi un outil indispensable pour l'enseignant pour analyser les travaux des élèves."
   ]
  },
  {
   "cell_type": "markdown",
   "metadata": {},
   "source": [
    "Equipe pédagoqique DIU EIL, ressource éducative libre distribuée sous [Licence Creative Commons Attribution - Pas d’Utilisation Commerciale - Partage dans les Mêmes Conditions 4.0 International](http://creativecommons.org/licenses/by-nc-sa/4.0/) ![Licence Creative Commons](https://i.creativecommons.org/l/by-nc-sa/4.0/88x31.png)"
   ]
  }
 ],
 "metadata": {
  "kernelspec": {
   "display_name": "Python 3",
   "language": "python",
   "name": "python3"
  },
  "language_info": {
   "codemirror_mode": {
    "name": "ipython",
    "version": 3
   },
   "file_extension": ".py",
   "mimetype": "text/x-python",
   "name": "python",
   "nbconvert_exporter": "python",
   "pygments_lexer": "ipython3",
   "version": "3.7.3"
  }
 },
 "nbformat": 4,
 "nbformat_minor": 1
}
