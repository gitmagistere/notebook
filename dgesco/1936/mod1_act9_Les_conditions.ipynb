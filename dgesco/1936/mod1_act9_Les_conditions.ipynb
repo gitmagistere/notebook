{
 "cells": [
  {
   "cell_type": "markdown",
   "metadata": {},
   "source": [
    "# Les instructions conditionnelles\n",
    "\n",
    "Une instruction conditionnelle permet à un programme de réagir différemment en fonction de la valeur d'une expression booléenne. En python, on utilise le mot clé if que l'on peut compléter avec les mots clés optionnels elif et else. On peut mettre autant de elif que nécessaire mais il y a au plus un if et un else.\n",
    "\n",
    "Si vous essayez le programme suivant avec différentes valeurs de n, vous pourrez voir la branche exécutée."
   ]
  },
  {
   "cell_type": "code",
   "execution_count": 1,
   "metadata": {},
   "outputs": [
    {
     "name": "stdout",
     "output_type": "stream",
     "text": [
      "Début\n",
      "branche else\n",
      "fin\n"
     ]
    }
   ],
   "source": [
    "n = 6\n",
    "print(\"Début\")\n",
    "if n > 10 or n < 0 :\n",
    "    print(\"branche if\")\n",
    "elif n < 5 :\n",
    "    print(\"branche elif\")\n",
    "else :\n",
    "    print(\"branche else\")\n",
    "print(\"fin\")"
   ]
  }
 ],
 "metadata": {
  "kernelspec": {
   "display_name": "Python 3",
   "language": "python",
   "name": "python3"
  },
  "language_info": {
   "codemirror_mode": {
    "name": "ipython",
    "version": 3
   },
   "file_extension": ".py",
   "mimetype": "text/x-python",
   "name": "python",
   "nbconvert_exporter": "python",
   "pygments_lexer": "ipython3",
   "version": "3.8.6"
  },
  "varInspector": {
   "cols": {
    "lenName": 16,
    "lenType": 16,
    "lenVar": 40
   },
   "kernels_config": {
    "python": {
     "delete_cmd_postfix": "",
     "delete_cmd_prefix": "del ",
     "library": "var_list.py",
     "varRefreshCmd": "print(var_dic_list())"
    },
    "r": {
     "delete_cmd_postfix": ") ",
     "delete_cmd_prefix": "rm(",
     "library": "var_list.r",
     "varRefreshCmd": "cat(var_dic_list()) "
    }
   },
   "types_to_exclude": [
    "module",
    "function",
    "builtin_function_or_method",
    "instance",
    "_Feature"
   ],
   "window_display": false
  }
 },
 "nbformat": 4,
 "nbformat_minor": 2
}
