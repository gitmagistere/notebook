{
 "cells": [
  {
   "cell_type": "code",
   "execution_count": 1,
   "metadata": {},
   "outputs": [
    {
     "name": "stdout",
     "output_type": "stream",
     "text": [
      "====== Etat Final ======\n",
      "CH4 : -0.000\n",
      "O2 : 14.000\n",
      "CO2 : 3.000\n",
      "H2O : 6.000\n",
      "\n",
      "Avancement final : xf = 3.000 mol\n"
     ]
    }
   ],
   "source": [
    "especes=[\"CH4\",\"O2\",\"CO2\",\"H2O\"]\n",
    "coefficients=[-1, -2, 1, 2]\n",
    "etat_init = [3., 20., 0., 0.] # quantites initiales en moles\n",
    "\n",
    "etat_inter = etat_init[:] # on initialise l'état intermediaire\n",
    "dksi = 0.0001 # pas\n",
    "\n",
    "x = 0 # avancement initial\n",
    "\n",
    "while etat_inter[0]>0 and etat_inter[1]>0: # tant qu'il y a des réactifs\n",
    "    x = x + dksi\n",
    "    etat_inter[0] = etat_init[0] + coefficients[0]*x\n",
    "    etat_inter[1] = etat_init[1] + coefficients[1]*x\n",
    "    etat_inter[2] = etat_init[2] + coefficients[2]*x\n",
    "    etat_inter[3] = etat_init[3] + coefficients[3]*x\n",
    "\n",
    "\n",
    "print(\"====== Etat Final ======\")\n",
    "for i in range(4):\n",
    "    print(especes[i],\": {:.3f}\".format(etat_inter[i])) # on affiche le résultat avec 3 chiffres après la virgule\n",
    "\n",
    "print(\"\")\n",
    "print(\"Avancement final : xf = {:.3f} mol\".format(x))"
   ]
  },
  {
   "cell_type": "markdown",
   "metadata": {},
   "source": [
    "Voici un exemple de ce que l'on peut étudier avec ce genre de programmes:\n",
    "\n",
    "4-a°) Lors de la combustion du méthane, quelles espèces disparaissent? apparaissent?\n",
    "\n",
    "4-b°) Justifier le signe des coefficients utilisés dans le programme précédent. Les espèces qui disparaissent sont les réactifs, et celles qui apparaissent sont les produits.\n",
    "\n",
    "4-c°) Changer les quantités initiales des réactifs et lancer le programme. Il faudra essayer différentes valeurs afin de répondre aux questions suivantes:\n",
    "* Quel réactif arrive à zéro en premier? Il est appelé réactif limitant car c'est son absence qui empêche la réaction chimique d'aller plus loin.\n",
    "* Est ce toujours celui introduit en quantité la plus faible ?\n",
    "* Quelles proportions de $CH_4$ et de $O_2$ faut-il pour que les deux arrivent à zéro en même temps ?\n",
    "\n",
    "4-d°) On considère maintenant la combustion du carbone dans le dioxygène\n",
    "$$C_{(s)} + O_{2\\ (g)} −> CO_{2\\ (g)}$$\n",
    "\n",
    "Modifier le programme précédent afin qu'il permette de déterminer l'état final de réaction de combustion du carbone dans le dioxygène. "
   ]
  }
 ],
 "metadata": {
  "kernelspec": {
   "display_name": "Python 3",
   "language": "python",
   "name": "python3"
  },
  "language_info": {
   "codemirror_mode": {
    "name": "ipython",
    "version": 3
   },
   "file_extension": ".py",
   "mimetype": "text/x-python",
   "name": "python",
   "nbconvert_exporter": "python",
   "pygments_lexer": "ipython3",
   "version": "3.8.6"
  },
  "varInspector": {
   "cols": {
    "lenName": 16,
    "lenType": 16,
    "lenVar": 40
   },
   "kernels_config": {
    "python": {
     "delete_cmd_postfix": "",
     "delete_cmd_prefix": "del ",
     "library": "var_list.py",
     "varRefreshCmd": "print(var_dic_list())"
    },
    "r": {
     "delete_cmd_postfix": ") ",
     "delete_cmd_prefix": "rm(",
     "library": "var_list.r",
     "varRefreshCmd": "cat(var_dic_list()) "
    }
   },
   "types_to_exclude": [
    "module",
    "function",
    "builtin_function_or_method",
    "instance",
    "_Feature"
   ],
   "window_display": false
  }
 },
 "nbformat": 4,
 "nbformat_minor": 4
}
