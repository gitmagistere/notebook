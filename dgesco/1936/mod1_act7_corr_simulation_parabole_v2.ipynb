{
 "cells": [
  {
   "cell_type": "markdown",
   "metadata": {},
   "source": [
    "## Correction"
   ]
  },
  {
   "cell_type": "markdown",
   "metadata": {},
   "source": [
    "3-a°)  Prévoir ce que fait le programme présenté ci-dessous."
   ]
  },
  {
   "cell_type": "code",
   "execution_count": 4,
   "metadata": {},
   "outputs": [
    {
     "name": "stdout",
     "output_type": "stream",
     "text": [
      "La balle touche le sol à t = 0.6400000000000005 s et à la position x = 2.2399999999999984 m\n"
     ]
    }
   ],
   "source": [
    "# Simulation de la chute d'une bille dans les conditions initiales ci-dessous\n",
    "\n",
    "# Conditions initiales:\n",
    "x = 0. # Position initiale (0, 2) -2m de haut-\n",
    "y = 2.\n",
    "vx = 3.5 # vitesse initiale horizontale\n",
    "vy = 0.\n",
    "ax = 0.\n",
    "ay = -9.81 # accélération de la pesanteur\n",
    "t = 0.\n",
    "\n",
    "# pas de temps\n",
    "dt = 0.001\n",
    "\n",
    "# Simulation\n",
    "while y > 0. :\n",
    "    x = x + vx * dt\n",
    "    y = y + vy * dt\n",
    "    vx = vx + ax * dt\n",
    "    vy = vy + ay * dt\n",
    "    t = t + dt\n",
    "\n",
    "print(\"La balle touche le sol à t =\", t, \"s et à la position x =\", x, \"m\")"
   ]
  },
  {
   "cell_type": "markdown",
   "metadata": {},
   "source": [
    "Ce programme simule la position et la date de l'impact d'une balle lancée horizontalement d'une hauteur de 2m avec une vitesse de 3.5 m/S. \n",
    "\n",
    "**Rq:** On voit ici que les floats ne sont que des valeurs approchées, et qu'il faut travailler un peu la mise en forme si on veut un affichage correct."
   ]
  },
  {
   "cell_type": "code",
   "execution_count": 6,
   "metadata": {},
   "outputs": [
    {
     "name": "stdout",
     "output_type": "stream",
     "text": [
      "La balle touche le sol à t = 0.64s et à la position x = 2.24m\n",
      "La balle touche le sol à t = 6.40E-01 s et à la position x = 2.24E+00 m\n"
     ]
    }
   ],
   "source": [
    "print(\"La balle touche le sol à t = {:.2f}s et à la position x = {:.2f}m\".format(t,x)) \n",
    "# permet d'afficher le résultat arrondi avec deux chiffres après la virgule.\n",
    "\n",
    "print(\"La balle touche le sol à t = {:.2E} s et à la position x = {:.2E} m\".format(t,x)) \n",
    "# permet d'afficher le résultat arrondi avec trois chiffres significatifs -2 après la virgule- en notation scientifique -ecriture calculatrice-."
   ]
  },
  {
   "cell_type": "markdown",
   "metadata": {},
   "source": [
    "**Rq:** On peut améliorer la précision en diminuant le pas de temps."
   ]
  },
  {
   "cell_type": "markdown",
   "metadata": {},
   "source": [
    "3-b°) Modifier ce programme afin de simuler la chute d'une balle lâchée d'une hauteur de 2m sans vitesse initiale.\n"
   ]
  },
  {
   "cell_type": "code",
   "execution_count": 2,
   "metadata": {},
   "outputs": [
    {
     "name": "stdout",
     "output_type": "stream",
     "text": [
      "La balle touche le sol à t = 0.6400000000000005 s et à la position x = 0.0 m\n"
     ]
    }
   ],
   "source": [
    "# Conditions initiales:\n",
    "x = 0.\n",
    "y = 2.\n",
    "vx = 0. # On supprime la vitesse initiale\n",
    "vy = 0.\n",
    "ax = 0.\n",
    "ay = -9.81\n",
    "t = 0.\n",
    "\n",
    "# pas de temps\n",
    "dt = 0.001\n",
    "\n",
    "# Simulation\n",
    "while y > 0. :\n",
    "    x = x + vx * dt\n",
    "    y = y + vy * dt\n",
    "    vx = vx + ax * dt\n",
    "    vy = vy + ay * dt\n",
    "    t = t + dt\n",
    "\n",
    "print(\"La balle touche le sol à t =\", t, \"s et à la position x =\", x, \"m\")"
   ]
  },
  {
   "cell_type": "markdown",
   "metadata": {},
   "source": [
    "**Rq:** Vu que le mouvement est vertical, on peut alléger le programme en ne gardant que ce qui concerne cet axe.\n"
   ]
  },
  {
   "cell_type": "code",
   "execution_count": 2,
   "metadata": {
    "scrolled": true
   },
   "outputs": [
    {
     "name": "stdout",
     "output_type": "stream",
     "text": [
      "La balle touche le sol à t = 6.40E-01 s\n"
     ]
    }
   ],
   "source": [
    "#Conditions initiales:\n",
    "y = 2.\n",
    "vy = 0.\n",
    "ay = -9.81\n",
    "t = 0.\n",
    "\n",
    "#pas de temps\n",
    "dt = 0.001\n",
    "\n",
    "#Simulation\n",
    "while y > 0. :\n",
    "    y = y + vy * dt\n",
    "    vy = vy + ay * dt\n",
    "    t = t + dt\n",
    "    \n",
    "print(\"La balle touche le sol à t = {:.2E} s\".format(t))"
   ]
  }
 ],
 "metadata": {
  "kernelspec": {
   "display_name": "Python 3",
   "language": "python",
   "name": "python3"
  },
  "language_info": {
   "codemirror_mode": {
    "name": "ipython",
    "version": 3
   },
   "file_extension": ".py",
   "mimetype": "text/x-python",
   "name": "python",
   "nbconvert_exporter": "python",
   "pygments_lexer": "ipython3",
   "version": "3.8.6"
  },
  "varInspector": {
   "cols": {
    "lenName": 16,
    "lenType": 16,
    "lenVar": 40
   },
   "kernels_config": {
    "python": {
     "delete_cmd_postfix": "",
     "delete_cmd_prefix": "del ",
     "library": "var_list.py",
     "varRefreshCmd": "print(var_dic_list())"
    },
    "r": {
     "delete_cmd_postfix": ") ",
     "delete_cmd_prefix": "rm(",
     "library": "var_list.r",
     "varRefreshCmd": "cat(var_dic_list()) "
    }
   },
   "types_to_exclude": [
    "module",
    "function",
    "builtin_function_or_method",
    "instance",
    "_Feature"
   ],
   "window_display": false
  }
 },
 "nbformat": 4,
 "nbformat_minor": 4
}
