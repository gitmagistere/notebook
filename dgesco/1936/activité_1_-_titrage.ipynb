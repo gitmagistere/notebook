{
 "cells": [
  {
   "cell_type": "markdown",
   "metadata": {},
   "source": [
    "# Activité à réaliser"
   ]
  },
  {
   "cell_type": "markdown",
   "metadata": {},
   "source": [
    "1. En adaptant les codes proposés dans les exemples ci-dessus, représenter l’évolution des quantités de matière des espèces en fonction du volume de solution titrante versé dans le cas du titrage direct de la soude par l'acide chlorhydrique. L'acide chlorhydrique a une concentration de $1,00 \\cdot 10^{-2}\\ mol.L^{-1}$, le volume de soude titré est de $V_1 = 10,0\\ mL$ et le volume équivalent est de $V_{eq} = 11,2\\ mL$\n",
    "2. Même question pour le titrage dont la réaction support est $MnO_{4\\ (aq)}^{-} + 5 Fe_{\\ \\ (aq)}^{2+} + 8 H_{\\ \\ (aq)}^{+} \\longrightarrow Mn_{\\ \\ (aq)}^{2+} + 5 Fe_{\\ \\ (aq)}^{3+} + 4 H_2O_{\\ \\ (l)}$. Ce sont les ions fer II qui sont dosés. Le volume de solution d'ions $Fe^{2+}$ prélevé est de $V_1 = 20,0\\ mL$. La solution de permanganate de potassium utilisée a une concentration $C_2 = 5,0 \\cdot 10^{-3}\\ mol.L^{-1}$. Le volume équivalent est mesuré à $V_E = 9,5\\ mL$."
   ]
  },
  {
   "cell_type": "code",
   "execution_count": null,
   "metadata": {},
   "outputs": [],
   "source": [
    "# 1.\n"
   ]
  },
  {
   "cell_type": "code",
   "execution_count": null,
   "metadata": {},
   "outputs": [],
   "source": [
    "# 2.\n"
   ]
  }
 ],
 "metadata": {
  "kernelspec": {
   "display_name": "Python 3",
   "language": "python",
   "name": "python3"
  },
  "language_info": {
   "codemirror_mode": {
    "name": "ipython",
    "version": 3
   },
   "file_extension": ".py",
   "mimetype": "text/x-python",
   "name": "python",
   "nbconvert_exporter": "python",
   "pygments_lexer": "ipython3",
   "version": "3.8.6"
  },
  "varInspector": {
   "cols": {
    "lenName": 16,
    "lenType": 16,
    "lenVar": 40
   },
   "kernels_config": {
    "python": {
     "delete_cmd_postfix": "",
     "delete_cmd_prefix": "del ",
     "library": "var_list.py",
     "varRefreshCmd": "print(var_dic_list())"
    },
    "r": {
     "delete_cmd_postfix": ") ",
     "delete_cmd_prefix": "rm(",
     "library": "var_list.r",
     "varRefreshCmd": "cat(var_dic_list()) "
    }
   },
   "types_to_exclude": [
    "module",
    "function",
    "builtin_function_or_method",
    "instance",
    "_Feature"
   ],
   "window_display": false
  }
 },
 "nbformat": 4,
 "nbformat_minor": 4
}
