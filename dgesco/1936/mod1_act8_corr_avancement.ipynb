{
 "cells": [
  {
   "cell_type": "code",
   "execution_count": 1,
   "metadata": {},
   "outputs": [
    {
     "name": "stdout",
     "output_type": "stream",
     "text": [
      "====== Etat Final ======\n",
      "CH4 : -0.000\n",
      "O2 : 14.000\n",
      "CO2 : 3.000\n",
      "H2O : 6.000\n",
      "\n",
      "Avancement final : xf = 3.000 mol\n"
     ]
    }
   ],
   "source": [
    "especes=[\"CH4\",\"O2\",\"CO2\",\"H2O\"]\n",
    "coefficients=[-1, -2, 1, 2]\n",
    "etat_init = [3., 20., 0., 0.] # quantites initiales en moles\n",
    "\n",
    "etat_inter = etat_init[:] # on initialise l'état intermediaire\n",
    "dksi = 0.0001 # pas\n",
    "\n",
    "x = 0 # avancement initial\n",
    "\n",
    "while etat_inter[0]>0 and etat_inter[1]>0: # tant qu'il y a des réactifs\n",
    "    x = x + dksi\n",
    "    etat_inter[0] = etat_init[0] + coefficients[0]*x\n",
    "    etat_inter[1] = etat_init[1] + coefficients[1]*x\n",
    "    etat_inter[2] = etat_init[2] + coefficients[2]*x\n",
    "    etat_inter[3] = etat_init[3] + coefficients[3]*x\n",
    "\n",
    "\n",
    "print(\"====== Etat Final ======\")\n",
    "for i in range(4):\n",
    "    print(especes[i],\": {:.3f}\".format(etat_inter[i])) # on affiche le résultat avec 3 chiffres après la virgule\n",
    "\n",
    "print(\"\")\n",
    "print(\"Avancement final : xf = {:.3f} mol\".format(x))"
   ]
  },
  {
   "cell_type": "markdown",
   "metadata": {},
   "source": [
    "Voici un exemple de ce que l'on peut étudier avec ce genre de programmes:\n",
    "\n",
    "4-a°) Lors de la combustion du méthane, quelles espèces disparaissent? apparaissent?\n",
    "\n",
    "4-b°) Justifier le signe des coefficients utilisés dans le programme précédent. Les espèces qui disparaissent sont les réactifs, et celles qui apparaissent sont les produits.\n",
    "\n",
    "4-c°) Changer les quantités initiales des réactifs et lancer le programme. Il faudra essayer différentes valeurs afin de répondre aux questions suivantes:\n",
    "* Quel réactif arrive à zéro en premier? Il est appelé réactif limitant car c'est son absence qui empêche la réaction chimique d'aller plus loin.\n",
    "* Est ce toujours celui introduit en quantité la plus faible ?\n",
    "* Quelles proportions de $CH_4$ et de $O_2$ faut-il pour que les deux arrivent à zéro en même temps ?\n",
    "\n",
    "4-d°) On considère maintenant la combustion du carbone dans le dioxygène\n",
    "$$C_{(s)} + O_{2\\ (g)} −> CO_{2\\ (g)}$$\n",
    "\n",
    "Modifier le programme précédent afin qu'il permette de déterminer l'état final de réaction de combustion du carbone dans le dioxygène. "
   ]
  },
  {
   "cell_type": "markdown",
   "metadata": {},
   "source": [
    "## Correction"
   ]
  },
  {
   "cell_type": "markdown",
   "metadata": {},
   "source": [
    "4-a°)\n",
    "$CH_4$ et $O_2$ disparaissent et $H_2O$ et $CO_2$ apparaissent\n",
    "\n",
    "4-b°)\n",
    "Ceux qui disparaissent ont un coefficient négatif et ceux qui apparaissent ont un coefficient positif"
   ]
  },
  {
   "cell_type": "code",
   "execution_count": 2,
   "metadata": {},
   "outputs": [
    {
     "name": "stdout",
     "output_type": "stream",
     "text": [
      "====== Etat Initial ======\n",
      "CH4 : 3.000\n",
      "O2 : 20.000\n",
      "CO2 : 0.000\n",
      "H2O : 0.000\n",
      "====== Etat Final ======\n",
      "CH4 : -0.000\n",
      "O2 : 14.000\n",
      "CO2 : 3.000\n",
      "H2O : 6.000\n",
      "\n",
      "Avancement final : xf = 3.000 mol\n"
     ]
    }
   ],
   "source": [
    "# 4-c°)\n",
    "\n",
    "# CH4 limitant\n",
    "etat_init = [3., 20., 0., 0.] #quantites initiales en moles\n",
    "etat_inter = etat_init[:]\n",
    "dksi = 0.0001 #pas\n",
    "\n",
    "#afficher l'état initial\n",
    "print(\"====== Etat Initial ======\")\n",
    "for i in range(4):\n",
    "    print(especes[i],\": {:.3f}\".format(etat_init[i]))\n",
    "    \n",
    "x = 0 #avancement initial\n",
    "while etat_inter[0]>0 and etat_inter[1]>0: #tant qu'il y a des réactifs\n",
    "    x = x + dksi\n",
    "    etat_inter[0] = etat_init[0] + coefficients[0]*x\n",
    "    etat_inter[1] = etat_init[1] + coefficients[1]*x\n",
    "    etat_inter[2] = etat_init[2] + coefficients[2]*x\n",
    "    etat_inter[3] = etat_init[3] + coefficients[3]*x\n",
    "   \n",
    "print(\"====== Etat Final ======\")\n",
    "for i in range(4):\n",
    "    print(especes[i],\": {:.3f}\".format(etat_inter[i])) #on affiche le résultat avec 3 chiffres après la virgule\n",
    "print(\"\")\n",
    "print(\"Avancement final : xf = {:.3f} mol\".format(x))"
   ]
  },
  {
   "cell_type": "code",
   "execution_count": 3,
   "metadata": {},
   "outputs": [
    {
     "name": "stdout",
     "output_type": "stream",
     "text": [
      "====== Etat Initial ======\n",
      "CH4 : 3.000\n",
      "O2 : 3.000\n",
      "CO2 : 0.000\n",
      "H2O : 0.000\n",
      "====== Etat Final ======\n",
      "CH4 : 1.500\n",
      "O2 : -0.000\n",
      "CO2 : 1.500\n",
      "H2O : 3.000\n",
      "\n",
      "Avancement final : xf = 1.500 mol\n"
     ]
    }
   ],
   "source": [
    "# O2 limitant\n",
    "etat_init = [3., 3., 0., 0.] #quantites initiales en moles\n",
    "etat_inter = etat_init[:]\n",
    "dksi = 0.0001 #pas\n",
    "\n",
    "#afficher l'état initial\n",
    "print(\"====== Etat Initial ======\")\n",
    "for i in range(4):\n",
    "    print(especes[i],\": {:.3f}\".format(etat_init[i]))\n",
    "    \n",
    "x = 0 #avancement initial\n",
    "while etat_inter[0]>0 and etat_inter[1]>0: #tant qu'il y a des réactifs\n",
    "    x = x + dksi\n",
    "    etat_inter[0] = etat_init[0] + coefficients[0]*x\n",
    "    etat_inter[1] = etat_init[1] + coefficients[1]*x\n",
    "    etat_inter[2] = etat_init[2] + coefficients[2]*x\n",
    "    etat_inter[3] = etat_init[3] + coefficients[3]*x\n",
    "\n",
    "print(\"====== Etat Final ======\")\n",
    "for i in range(4):\n",
    "    print(especes[i],\": {:.3f}\".format(etat_inter[i])) #on affiche le résultat avec 3 chiffres après la virgule\n",
    "print(\"\")\n",
    "print(\"Avancement final : xf = {:.3f} mol\".format(x))"
   ]
  },
  {
   "cell_type": "code",
   "execution_count": 4,
   "metadata": {},
   "outputs": [
    {
     "name": "stdout",
     "output_type": "stream",
     "text": [
      "====== Etat Initial ======\n",
      "CH4 : 3.000\n",
      "O2 : 6.000\n",
      "CO2 : 0.000\n",
      "H2O : 0.000\n",
      "====== Etat Final ======\n",
      "CH4 : -0.000\n",
      "O2 : -0.000\n",
      "CO2 : 3.000\n",
      "H2O : 6.000\n",
      "\n",
      "Avancement final : xf = 3.000 mol\n"
     ]
    }
   ],
   "source": [
    "# Proportions stoechiometriques\n",
    "etat_init = [3., 6., 0., 0.] #quantites initiales en moles\n",
    "etat_inter = etat_init[:]\n",
    "dksi = 0.0001 #pas\n",
    "\n",
    "#afficher l'état initial\n",
    "print(\"====== Etat Initial ======\")\n",
    "for i in range(4):\n",
    "    print(especes[i],\": {:.3f}\".format(etat_init[i]))\n",
    "    \n",
    "x = 0 #avancement initial\n",
    "while etat_inter[0]>0 and etat_inter[1]>0: #tant qu'il y a des réactifs\n",
    "    x = x + dksi\n",
    "    etat_inter[0] = etat_init[0] + coefficients[0]*x\n",
    "    etat_inter[1] = etat_init[1] + coefficients[1]*x\n",
    "    etat_inter[2] = etat_init[2] + coefficients[2]*x\n",
    "    etat_inter[3] = etat_init[3] + coefficients[3]*x\n",
    "\n",
    "print(\"====== Etat Final ======\")\n",
    "for i in range(4):\n",
    "    print(especes[i],\": {:.3f}\".format(etat_inter[i])) #on affiche le résultat avec 3 chiffres après la virgule\n",
    "print(\"\")\n",
    "print(\"Avancement final : xf = {:.3f} mol\".format(x))"
   ]
  },
  {
   "cell_type": "code",
   "execution_count": 5,
   "metadata": {},
   "outputs": [
    {
     "name": "stdout",
     "output_type": "stream",
     "text": [
      "====== Etat Initial ======\n",
      "C : 3.000\n",
      "O2 : 4.000\n",
      "CO2 : 0.000\n",
      "====== Etat Final ======\n",
      "C : -0.000\n",
      "O2 : 1.000\n",
      "CO2 : 3.000\n",
      "\n",
      "Avancement final : xf = 3.000 mol\n"
     ]
    }
   ],
   "source": [
    "# 4-d°)\n",
    "especes=[\"C\",\"O2\",\"CO2\"] # on change les espèces\n",
    "coefficients=[-1, -1, 1] # et les nombres stoechiometriques\n",
    "etat_init = [3., 4., 0.] # quantites initiales en moles\n",
    "etat_inter = etat_init[:]\n",
    "dksi = 0.0001 # pas\n",
    "\n",
    "# afficher l'état initial\n",
    "print(\"====== Etat Initial ======\")\n",
    "for i in range(len(especes)): # il faut changer le 4 car il n'y a plus que 3 especes\n",
    "    print(especes[i],\": {:.3f}\".format(etat_init[i]))\n",
    "    \n",
    "x = 0 # avancement initial\n",
    "while etat_inter[0]>0 and etat_inter[1]>0: # tant qu'il y a des réactifs\n",
    "    x = x + dksi\n",
    "    etat_inter[0] = etat_init[0] + coefficients[0]*x\n",
    "    etat_inter[1] = etat_init[1] + coefficients[1]*x\n",
    "    etat_inter[2] = etat_init[2] + coefficients[2]*x\n",
    "# il faut supprimer la 4e ligne car il n'y a que trois especes. Cela peut aussi se faire dans une boucle\n",
    "print(\"====== Etat Final ======\")\n",
    "for i in range(len(especes)):\n",
    "    print(especes[i],\": {:.3f}\".format(etat_inter[i])) #on affiche le résultat avec 3 chiffres après la virgule\n",
    "print(\"\")\n",
    "print(\"Avancement final : xf = {:.3f} mol\".format(x))"
   ]
  },
  {
   "cell_type": "code",
   "execution_count": 6,
   "metadata": {},
   "outputs": [
    {
     "name": "stdout",
     "output_type": "stream",
     "text": [
      "====== Etat Initial ======\n",
      "C\t: 3.00E+00\n",
      "O₂\t: 4.00E+00\n",
      "CO₂\t: 0.00E+00\n",
      "====== Etat Final ======\n",
      "C\t: 0.00E+00\n",
      "O₂\t: 1.00E+00\n",
      "CO₂\t: 3.00E+00\n",
      "\n",
      "Avancement final : xf = 3.00E+00 mol\n"
     ]
    }
   ],
   "source": [
    "# Une autre façon avec une deuxième boucle\n",
    "especes=[\"C\",\"O\\u2082\",\"CO\\u2082\"] # \\u2082 est le caractère 2 en indice\n",
    "coefficients=[-1, -1, 1] \n",
    "etat_init = [3., 4., 0.] \n",
    "etat_inter = etat_init[:]\n",
    "dksi = 0.0001 \n",
    "\n",
    "print(\"====== Etat Initial ======\")\n",
    "for i in range(len(especes)): \n",
    "    print(especes[i],\": {:.2E}\".format(etat_init[i]),sep=\"\\t\")\n",
    "    \n",
    "x = 0 \n",
    "while etat_inter[0]>0 and etat_inter[1]>0:\n",
    "    x = x + dksi\n",
    "    for i in range(len(etat_init)):\n",
    "        etat_inter[i] = etat_init[i] + coefficients[i] * x\n",
    "\n",
    "if etat_inter[0] < dksi:\n",
    "    etat_inter[0] = 0\n",
    "if etat_inter[1] < dksi:\n",
    "    etat_inter[1] = 0\n",
    "\n",
    "print(\"====== Etat Final ======\")\n",
    "for i in range(len(especes)):\n",
    "    print(especes[i],\": {:.2E}\".format(etat_inter[i]),sep=\"\\t\") \n",
    "    \n",
    "\n",
    "print(\"\")\n",
    "print(\"Avancement final : xf = {:.2E} mol\".format(x))"
   ]
  },
  {
   "cell_type": "code",
   "execution_count": 8,
   "metadata": {},
   "outputs": [
    {
     "name": "stdout",
     "output_type": "stream",
     "text": [
      "['₀', '₁', '₂', '₃', '₄', '₅', '₆', '₇', '₈', '₉']\n"
     ]
    }
   ],
   "source": [
    "# Liste des caractères qui peuvent être utiles en chimie:\n",
    "indices = [\"\\u2080\",\"\\u2081\",\"\\u2082\",\"\\u2083\",\"\\u2084\",\"\\u2085\",\"\\u2086\",\"\\u2087\",\"\\u2088\",\"\\u2089\"]\n",
    "print(indices)"
   ]
  },
  {
   "cell_type": "code",
   "execution_count": 9,
   "metadata": {},
   "outputs": [
    {
     "name": "stdout",
     "output_type": "stream",
     "text": [
      "['⁰', '¹', '²', '³', '⁴', '⁵', '⁶', '⁷', '⁸', '⁹']\n"
     ]
    }
   ],
   "source": [
    "exposants = [\"\\u2070\",\"\\u00B9\",\"\\u00B2\",\"\\u00B3\",\"\\u2074\",\"\\u2075\",\"\\u2076\",\"\\u2077\",\"\\u2078\",\"\\u2079\"]\n",
    "print(exposants)"
   ]
  },
  {
   "cell_type": "code",
   "execution_count": 10,
   "metadata": {},
   "outputs": [
    {
     "name": "stdout",
     "output_type": "stream",
     "text": [
      "['⁺', '⁻']\n"
     ]
    }
   ],
   "source": [
    "signes = [\"\\u207A\",\"\\u207B\"]\n",
    "print(signes)"
   ]
  },
  {
   "cell_type": "code",
   "execution_count": 11,
   "metadata": {},
   "outputs": [
    {
     "name": "stdout",
     "output_type": "stream",
     "text": [
      "C₄H₁₀\n",
      "PO₄³⁻\n"
     ]
    }
   ],
   "source": [
    "# Exemples d'utilisation\n",
    "print(\"C\\u2084H\\u2081\\u2080\")\n",
    "\n",
    "print(\"PO\\u2084\\u00B3\\u207B\")"
   ]
  }
 ],
 "metadata": {
  "kernelspec": {
   "display_name": "Python 3",
   "language": "python",
   "name": "python3"
  },
  "language_info": {
   "codemirror_mode": {
    "name": "ipython",
    "version": 3
   },
   "file_extension": ".py",
   "mimetype": "text/x-python",
   "name": "python",
   "nbconvert_exporter": "python",
   "pygments_lexer": "ipython3",
   "version": "3.8.6"
  },
  "varInspector": {
   "cols": {
    "lenName": 16,
    "lenType": 16,
    "lenVar": 40
   },
   "kernels_config": {
    "python": {
     "delete_cmd_postfix": "",
     "delete_cmd_prefix": "del ",
     "library": "var_list.py",
     "varRefreshCmd": "print(var_dic_list())"
    },
    "r": {
     "delete_cmd_postfix": ") ",
     "delete_cmd_prefix": "rm(",
     "library": "var_list.r",
     "varRefreshCmd": "cat(var_dic_list()) "
    }
   },
   "types_to_exclude": [
    "module",
    "function",
    "builtin_function_or_method",
    "instance",
    "_Feature"
   ],
   "window_display": false
  }
 },
 "nbformat": 4,
 "nbformat_minor": 4
}
