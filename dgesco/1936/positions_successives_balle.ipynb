{
 "cells": [
  {
   "cell_type": "markdown",
   "metadata": {},
   "source": [
    "## Activité à réaliser"
   ]
  },
  {
   "cell_type": "markdown",
   "metadata": {},
   "source": [
    "<p><b>Utilisez les fiches méthodes disponibles<a href=\"https://magistere.education.fr/dgesco/course/view.php?id=1936&amp;section=30\"> ici </a>pour réaliser les activités suivantes.<br></b>\n",
    "</p>\n",
    "<p><b>1°) Construire le graphique</b> représentant la fonction f définie par: $$f(x)\\ =\\ 4x^3\\ -\\ 2x\\ +\\ 5 \\text{ pour tout $x$ entre $-10$ et $10$} $$\n",
    "  <br>\n",
    "</p>\n",
    "<p><b>2°) </b>On donne l'équation horaire d'un mouvement de chute libre d'une balle lâchée sans vitesse initiale depuis une hauteur de 2m:</p>\n",
    "<p>\n",
    "</p><pre><code>y(t) = - 0.5 * g * t**2 + 2.</code></pre><b>Construire le graphique représentant les positions successives simulées de cette balle prises toutes les 50 ms calculées à partir de cette équation.</b>\n",
    "<br>\n",
    "<p></p>"
   ]
  },
  {
   "cell_type": "code",
   "execution_count": null,
   "metadata": {},
   "outputs": [],
   "source": []
  },
  {
   "cell_type": "code",
   "execution_count": null,
   "metadata": {},
   "outputs": [],
   "source": []
  }
 ],
 "metadata": {
  "kernelspec": {
   "display_name": "Python 3",
   "language": "python",
   "name": "python3"
  },
  "language_info": {
   "codemirror_mode": {
    "name": "ipython",
    "version": 3
   },
   "file_extension": ".py",
   "mimetype": "text/x-python",
   "name": "python",
   "nbconvert_exporter": "python",
   "pygments_lexer": "ipython3",
   "version": "3.8.6"
  },
  "varInspector": {
   "cols": {
    "lenName": 16,
    "lenType": 16,
    "lenVar": 40
   },
   "kernels_config": {
    "python": {
     "delete_cmd_postfix": "",
     "delete_cmd_prefix": "del ",
     "library": "var_list.py",
     "varRefreshCmd": "print(var_dic_list())"
    },
    "r": {
     "delete_cmd_postfix": ") ",
     "delete_cmd_prefix": "rm(",
     "library": "var_list.r",
     "varRefreshCmd": "cat(var_dic_list()) "
    }
   },
   "types_to_exclude": [
    "module",
    "function",
    "builtin_function_or_method",
    "instance",
    "_Feature"
   ],
   "window_display": false
  }
 },
 "nbformat": 4,
 "nbformat_minor": 4
}
