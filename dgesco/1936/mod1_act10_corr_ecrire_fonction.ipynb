{
 "cells": [
  {
   "cell_type": "markdown",
   "metadata": {},
   "source": [
    "# Comment écrire et utiliser des fonctions ?\n",
    "\n",
    "Pour écrire une fonction, on a besoin des mots-clés `def` et `return`. Exemple :"
   ]
  },
  {
   "cell_type": "code",
   "execution_count": 1,
   "metadata": {},
   "outputs": [],
   "source": [
    "def parabole(x):\n",
    "    return x ** 2 - 3"
   ]
  },
  {
   "cell_type": "markdown",
   "metadata": {},
   "source": [
    "Lorsque vous exécutez ces lignes, **l'interpréteur ne renvoie rien** car vous avez mis en mémoire **la définition de la fonction** mais vous n'en avez fait **aucune utilisation**."
   ]
  },
  {
   "cell_type": "markdown",
   "metadata": {},
   "source": [
    "\n",
    "Ainsi la fonction \"parabole\" est ici la fonction mathématique qui à x associe $x^2 - 3$. La définition de la fonction peut comporter plusieurs lignes. Tout ce qui est dans la fonction devra être indenté. Il faut évaluer la définition de la fonction pour la mettre en mémoire avant de l'utiliser.\n",
    "\n",
    "\n",
    "**Pour l'utiliser**, il faut taper parabole et un argument entre parenthèses dans le shell par exemple. Cet argument sera affecté à la variable x de la définition de la fonction. Cette fonction renverra alors le résultat.\n",
    "\n",
    "<pre><code>\n",
    "    >>> parabole(4) \n",
    "    13\n",
    "</code></pre>\n"
   ]
  },
  {
   "cell_type": "code",
   "execution_count": 2,
   "metadata": {},
   "outputs": [
    {
     "data": {
      "text/plain": [
       "13"
      ]
     },
     "execution_count": 2,
     "metadata": {},
     "output_type": "execute_result"
    }
   ],
   "source": [
    "parabole(4)"
   ]
  },
  {
   "cell_type": "markdown",
   "metadata": {},
   "source": [
    "On peut récupérer dans une variable ce que renvoie la fonction ( ce qui n'est pas possible si la fonction affiche quelque chose avec un \"print\" au lieu de le renvoyer avec un \"return\" )\n"
   ]
  },
  {
   "cell_type": "code",
   "execution_count": 3,
   "metadata": {},
   "outputs": [
    {
     "name": "stdout",
     "output_type": "stream",
     "text": [
      "6\n"
     ]
    }
   ],
   "source": [
    "a = parabole( 3 )  #Ce que renvoie la fonction parabole est stocké dans la variable a\n",
    "print( a )"
   ]
  },
  {
   "cell_type": "markdown",
   "metadata": {},
   "source": [
    "# Correction\n",
    "\n",
    "1. Expliquer ce que fait la fonction suivante."
   ]
  },
  {
   "cell_type": "code",
   "execution_count": 17,
   "metadata": {},
   "outputs": [],
   "source": [
    "# Definition de la fonction\n",
    "def normeVitesse(vx, vy):\n",
    "    return (vx ** 2 + vy ** 2) ** 0.5\n",
    "\n",
    "# Cette fonction renvoie la norme du vecteur vitesse (vx,vy)"
   ]
  },
  {
   "cell_type": "code",
   "execution_count": 6,
   "metadata": {},
   "outputs": [
    {
     "data": {
      "text/plain": [
       "5.0"
      ]
     },
     "execution_count": 6,
     "metadata": {},
     "output_type": "execute_result"
    }
   ],
   "source": [
    "# Utilisation de la fonction\n",
    "normeVitesse(3., 4.)"
   ]
  },
  {
   "cell_type": "markdown",
   "metadata": {},
   "source": [
    "2. On souhaite écrire une fonction permettant de **calculer l'énergie cinétique (en J)** d'un objet connaissant sa masse m (en kg), et les composantes de sa vitesse vx et vy (en m/s). Un élève a écrit la fonction suivante mais elle renvoie une mauvaise valeur.\n",
    "\n",
    "Corriger la fonction ci-dessous (vous pouvez utiliser la fonction normeVitesse précédente)."
   ]
  },
  {
   "cell_type": "code",
   "execution_count": 7,
   "metadata": {},
   "outputs": [],
   "source": [
    "# fonction avec erreur\n",
    "def Ec(m, vx, vy):\n",
    "\n",
    "    return 1 / 2 * m * vx**2 + vy**2"
   ]
  },
  {
   "cell_type": "code",
   "execution_count": 8,
   "metadata": {},
   "outputs": [],
   "source": [
    "# fonction corrigée\n",
    "def Ec(m, vx, vy):\n",
    "    return 1/2 * m *(vx**2 + vy**2) "
   ]
  },
  {
   "cell_type": "markdown",
   "metadata": {},
   "source": [
    "il faut des parenthèses sinon les priorités de calcul font que les opérations ne sont pas executées dans le bon ordre"
   ]
  },
  {
   "cell_type": "code",
   "execution_count": 9,
   "metadata": {},
   "outputs": [
    {
     "data": {
      "text/plain": [
       "25.0"
      ]
     },
     "execution_count": 9,
     "metadata": {},
     "output_type": "execute_result"
    }
   ],
   "source": [
    "# Utilisation de la fonction\n",
    "Ec(2., 3., 4.)"
   ]
  },
  {
   "cell_type": "code",
   "execution_count": 15,
   "metadata": {},
   "outputs": [],
   "source": [
    "# En utilisant la fonction précédente:    \n",
    "def Ec2(m, vx, vy):\n",
    "    return 0.5*m*normeVitesse(vx,vy)**2"
   ]
  },
  {
   "cell_type": "code",
   "execution_count": 18,
   "metadata": {},
   "outputs": [
    {
     "data": {
      "text/plain": [
       "25.0"
      ]
     },
     "execution_count": 18,
     "metadata": {},
     "output_type": "execute_result"
    }
   ],
   "source": [
    "Ec2(2., 3., 4.)"
   ]
  },
  {
   "cell_type": "markdown",
   "metadata": {},
   "source": [
    "3. Ecrire une fonction **Epp** qui prend comme arguments deux floats, m et y représentants la masse (en kg) de l'objet considéré et sa hauteur (en m) et qui renvoie l'énergie potentielle de pesanteur associée (en J). On considérera que l'Epp est nulle pour une hauteur nulle.\n",
    "\n",
    "\n",
    "4. Ecrire une fonction **Em** qui prend comme arguments 4 floats, m, y, vx et vy qui représentent respectivement la masse (en kg), la hauteur (en m), la vitesse horizontale (en m/s) et la vitesse verticale (en m/s) et qui renvoie l'énergie mécanique de l'objet considéré (en J). Vous pouvez utiliser les fonctions Epp et Ec précédentes."
   ]
  },
  {
   "cell_type": "code",
   "execution_count": 19,
   "metadata": {},
   "outputs": [
    {
     "data": {
      "text/plain": [
       "78.48"
      ]
     },
     "execution_count": 19,
     "metadata": {},
     "output_type": "execute_result"
    }
   ],
   "source": [
    "# 3.\n",
    "def Epp(m, y):\n",
    "    g = 9.81\n",
    "    return m*g*y\n",
    "\n",
    "Epp(2., 4.)"
   ]
  },
  {
   "cell_type": "code",
   "execution_count": 20,
   "metadata": {},
   "outputs": [
    {
     "data": {
      "text/plain": [
       "103.48"
      ]
     },
     "execution_count": 20,
     "metadata": {},
     "output_type": "execute_result"
    }
   ],
   "source": [
    "# 4.\n",
    "def Em(m, y, vx, vy):\n",
    "    return Epp(m,y) + Ec2(m,vx,vy)\n",
    "\n",
    "Em(2., 4., 3., 4.)"
   ]
  }
 ],
 "metadata": {
  "kernelspec": {
   "display_name": "Python 3",
   "language": "python",
   "name": "python3"
  },
  "language_info": {
   "codemirror_mode": {
    "name": "ipython",
    "version": 3
   },
   "file_extension": ".py",
   "mimetype": "text/x-python",
   "name": "python",
   "nbconvert_exporter": "python",
   "pygments_lexer": "ipython3",
   "version": "3.8.6"
  },
  "varInspector": {
   "cols": {
    "lenName": 16,
    "lenType": 16,
    "lenVar": 40
   },
   "kernels_config": {
    "python": {
     "delete_cmd_postfix": "",
     "delete_cmd_prefix": "del ",
     "library": "var_list.py",
     "varRefreshCmd": "print(var_dic_list())"
    },
    "r": {
     "delete_cmd_postfix": ") ",
     "delete_cmd_prefix": "rm(",
     "library": "var_list.r",
     "varRefreshCmd": "cat(var_dic_list()) "
    }
   },
   "types_to_exclude": [
    "module",
    "function",
    "builtin_function_or_method",
    "instance",
    "_Feature"
   ],
   "window_display": false
  }
 },
 "nbformat": 4,
 "nbformat_minor": 2
}
