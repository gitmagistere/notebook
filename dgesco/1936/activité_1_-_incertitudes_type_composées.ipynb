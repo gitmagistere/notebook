{
 "cells": [
  {
   "cell_type": "markdown",
   "metadata": {},
   "source": [
    "# Activité à réaliser"
   ]
  },
  {
   "cell_type": "markdown",
   "metadata": {},
   "source": [
    "On souhaite préparer par dissolution une solution $S_0$ de sulfate de cuivre de concentration en quantité de matière $C_0 = 0,100\\ mol.L^{-1}$ en utilisant une fiole jaugée d'un volume $V_0 = 1000,0\\ mL$ et une balance. On assimilera ici par souci de simplification les incertitudes types aux tolérances des différentes pièces de verrerie utilisées.\n",
    "\n",
    "On donne $M_{CuSO_4 \\cdot 5 H_2O} = 249,6\\ g.mol^{-1}$ (valeur supposée exacte), $u(m) = 0,01\\ g$ (incertitude type sur la mesure à la balance), et $u(V_0) =  0,8\\ mL$ (incertitude type sur le volume de la fiole jaugée de classe B)\n",
    "\n",
    "1. Calculer la masse de sulfate de cuivre pentahydraté à prélever. Construire alors une liste de 100000 valeurs de m simulant un processus aléatoire.\n",
    "2. Construire une liste de 100000 valeurs de $V_0$ simulant un processus aléatoire.\n",
    "3. Construire alors à partir des deux listes précédentes, une liste de 100000 valeurs de $C_0$ simulant un processus aléatoire.\n",
    "4. Estimer la valeur de $C_0$ et l'incertitude type composée sur $C_0$ à partir de cette liste.\n",
    "\n",
    "Lors de l'activité expérimentale, les élèves doivent diluer la solution $S_0$ fournie afin d'obtenir une solution $S_1$ de concentration en quantité de matière $C_1 = 0,010\\ mol.L^{-1}$. Ils disposent d'une pipette jaugée de classe B de volume $V_1 = 25,00\\ mL$ avec $u(V_1) = 0,060\\ mL$ et d'une fiole jaugée de classe B de volume $V_2 = 250,0\\ mL$ avec $u(V_2) = 0,30\\ mL$.\n",
    "\n",
    "5. Estimer la valeur de la concentration en moles $C_1$ de la solution obtenue ainsi que l'incertitude type $u(C_1)$ sur cette valeur en simulant un processus aléatoire. Cette valeur est-elle en accord avec celle obtenue par l'utilisation de la formule donnée par la statistique ?\n",
    "6. Construire l'histogramme représentant la série de valeurs de $C_1$ obtenue."
   ]
  },
  {
   "cell_type": "code",
   "execution_count": null,
   "metadata": {},
   "outputs": [],
   "source": [
    "# 1.\n"
   ]
  },
  {
   "cell_type": "code",
   "execution_count": null,
   "metadata": {},
   "outputs": [],
   "source": [
    "# 2.\n"
   ]
  },
  {
   "cell_type": "code",
   "execution_count": null,
   "metadata": {},
   "outputs": [],
   "source": [
    "# 3.\n"
   ]
  },
  {
   "cell_type": "code",
   "execution_count": null,
   "metadata": {},
   "outputs": [],
   "source": [
    "# 4.\n"
   ]
  },
  {
   "cell_type": "code",
   "execution_count": null,
   "metadata": {},
   "outputs": [],
   "source": [
    "# 5.\n"
   ]
  },
  {
   "cell_type": "code",
   "execution_count": null,
   "metadata": {},
   "outputs": [],
   "source": [
    "# 6.\n"
   ]
  }
 ],
 "metadata": {
  "kernelspec": {
   "display_name": "Python 3",
   "language": "python",
   "name": "python3"
  },
  "language_info": {
   "codemirror_mode": {
    "name": "ipython",
    "version": 3
   },
   "file_extension": ".py",
   "mimetype": "text/x-python",
   "name": "python",
   "nbconvert_exporter": "python",
   "pygments_lexer": "ipython3",
   "version": "3.7.8"
  }
 },
 "nbformat": 4,
 "nbformat_minor": 4
}
