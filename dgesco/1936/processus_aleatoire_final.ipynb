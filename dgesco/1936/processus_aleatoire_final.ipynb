{
 "cells": [
  {
   "cell_type": "markdown",
   "metadata": {},
   "source": [
    "<h1 style=\"text-align:center;\">Incertitudes </h1>"
   ]
  },
  {
   "cell_type": "markdown",
   "metadata": {},
   "source": [
    "#### Simuler un processus aléatoire illustrant la détermination de la valeur d’une grandeur avec incertitudes types composées (terminale)"
   ]
  },
  {
   "cell_type": "markdown",
   "metadata": {},
   "source": [
    "Pour chacune des grandeurs physiques mesurées, la moyenne et l'écart-type (ou incertitude) sont supposés connus. Il s'agit ici de faire un tirage aléatoire pour chacune des grandeurs physiques puis de calculer la grandeur composée. Sur un grand nombre de tirages, on peut alors calculer pour la grandeur composée la moyenne et caractériser sa variabilité par la grandeur $\\sigma_{n-1}$ qui représente l'incertitude sur celle-ci. Une comparaison avec la loi utilisée pour composer les incertitudes est proposée."
   ]
  },
  {
   "cell_type": "code",
   "execution_count": 1,
   "metadata": {},
   "outputs": [],
   "source": [
    "import random as rd\n",
    "import matplotlib.pyplot as plt"
   ]
  },
  {
   "cell_type": "code",
   "execution_count": 2,
   "metadata": {},
   "outputs": [],
   "source": [
    "def moy(liste):\n",
    "    return sum(liste)/len(liste)\n",
    "\n",
    "def ecart_type(liste):\n",
    "    somme = 0\n",
    "    for element in liste:\n",
    "        somme += element**2\n",
    "    return (1/(len(liste)-1) * somme - (sum(liste)/len(liste))**2)**0.5\n",
    "\n",
    "def alea(moyenne, sigma):\n",
    "    return rd.normalvariate(moyenne,sigma)"
   ]
  },
  {
   "cell_type": "markdown",
   "metadata": {},
   "source": [
    "Cas d'un circuit RC série avec $R = 1000\\ \\Omega$ et une tolérance de 5% sur R et $C = 1\\ \\mu F$ et une tolérance de 5% sur C. On cherche à déterminer moyenne et écart-type sur les valeurs du temps caractéristique $\\tau = R \\times C$. Pour cela on tire un grand nombre de fois une valeur de R, et une valeur de C en assimilant par souci de simplification l'incertitude type à la tolérance. On calcule ensuite $\\tau$ comme étant le produit des deux valeurs tirées. Les résultats sont stockés dans des listes afin de pouvoir calculer moyenne et écart-type sur la liste de valeurs de $\\tau$.\n",
    "\n",
    "\n",
    "Un grand nombre de paramètres influencent les valeurs de R et C, la loi statistique de répartition choisie est donc une loi normale centrée sur la valeur donnée par le constructeur."
   ]
  },
  {
   "cell_type": "code",
   "execution_count": 3,
   "metadata": {},
   "outputs": [],
   "source": [
    "# Données\n",
    "R = 1000\n",
    "sigmaR = 50\n",
    "C = 1e-6\n",
    "sigmaC = 5e-8\n",
    "\n",
    "# Tirages et calculs\n",
    "listeR = []\n",
    "listeC = []\n",
    "listeTau = []\n",
    "for i in range(100000): # 100000 tirages aléatoires\n",
    "    listeR.append(alea(R,sigmaR))\n",
    "    listeC.append(alea(C,sigmaC))\n",
    "    listeTau.append(listeR[-1]*listeC[-1])"
   ]
  },
  {
   "cell_type": "markdown",
   "metadata": {},
   "source": [
    "Si on affiche les valeurs de $\\tau$ sous la forme d'un histogramme, on retrouve bien l'allure d'une loi normale."
   ]
  },
  {
   "cell_type": "code",
   "execution_count": 4,
   "metadata": {},
   "outputs": [
    {
     "data": {
      "image/png": "[encoded data removed]",
      "text/plain": [
       "<Figure size 432x288 with 1 Axes>"
      ]
     },
     "metadata": {
      "needs_background": "light"
     },
     "output_type": "display_data"
    }
   ],
   "source": [
    "plt.hist(listeTau,bins=100)\n",
    "plt.title(\"Repartition des temps caractéristiques\")\n",
    "plt.xlabel(\"temps (en s)\")\n",
    "plt.show()"
   ]
  },
  {
   "cell_type": "markdown",
   "metadata": {},
   "source": [
    "On peut aussi comparer les valeurs moyennes de R et C aux valeurs données ainsi que les écart-types sur les deux séries aux tolérances données afin de vérifier la bonne réalisation du tirage aléatoire."
   ]
  },
  {
   "cell_type": "code",
   "execution_count": 8,
   "metadata": {},
   "outputs": [
    {
     "name": "stdout",
     "output_type": "stream",
     "text": [
      "R donné: 1000 Ohms\n",
      "Rmoy de la série aléatoire: 1000.1812846054386 Ohms\n",
      "---------------------------------------\n",
      "tolérance sur R: 50 Ohms\n",
      "Ecart type de la série aléatoire de R: 50.078463539443405 Ohms\n",
      "---------------------------------------\n",
      "C donné 1e-06 F\n",
      "Cmoy de la série aléatoire: 1.00026262045297e-06 F\n",
      "---------------------------------------\n",
      "tolérance sur C: 5e-08 F\n",
      "Ecart type de la série aléatoire de C: 5.010090758868121e-08 F\n"
     ]
    }
   ],
   "source": [
    "# Affichage des résultats\n",
    "print(\"R donné:\",R,\"Ohms\")\n",
    "print(\"Rmoy de la série aléatoire:\",moy(listeR),\"Ohms\")\n",
    "print(\"---------------------------------------\")\n",
    "print(\"tolérance sur R:\",sigmaR,\"Ohms\")\n",
    "print(\"Ecart type de la série aléatoire de R:\",ecart_type(listeR),\"Ohms\")\n",
    "print(\"---------------------------------------\")\n",
    "print(\"C donné\",C,\"F\")\n",
    "print(\"Cmoy de la série aléatoire:\",moy(listeC),\"F\")\n",
    "print(\"---------------------------------------\")\n",
    "print(\"tolérance sur C:\",sigmaC,\"F\")\n",
    "print(\"Ecart type de la série aléatoire de C:\",ecart_type(listeC),\"F\")"
   ]
  },
  {
   "cell_type": "markdown",
   "metadata": {},
   "source": [
    "On peut ensuite comparer la moyenne des valeurs de $\\tau$ obtenues et la valeur obtenue par le calcul $\\tau = R\\times C$. On s'aperçoit que les deux valeurs sont très proches."
   ]
  },
  {
   "cell_type": "code",
   "execution_count": 10,
   "metadata": {},
   "outputs": [
    {
     "name": "stdout",
     "output_type": "stream",
     "text": [
      "Temps caractéristique calculé avec les R et C donnés: 0.001 s\n",
      "Temps caractéristique moyen de la série aléatoire: 0.001000447216842498 s\n"
     ]
    }
   ],
   "source": [
    "print(\"Temps caractéristique calculé avec les R et C donnés:\",R*C,\"s\")\n",
    "print(\"Temps caractéristique moyen de la série aléatoire:\",moy(listeTau),\"s\")"
   ]
  },
  {
   "cell_type": "markdown",
   "metadata": {},
   "source": [
    "Enfin, on peut vérifier que les lois statistiques données fonctionnent dans ce cas. Ainsi, l'incertitude type composée calculée par $$u(\\tau) = \\sqrt{\\left( R\\times u(C)\\right)^2 + \\left(u(R)\\times C\\right)^2} = \\tau \\times \\sqrt{\\left(\\frac{u(R)}{R}\\right)^2 + \\left(\\frac{u(C)}{C}\\right)^2} $$\n",
    "est comparée à l'écart type de la série de valeurs de $\\tau$\n",
    "\n",
    "\n",
    "Le calcul donne $u(\\tau) = \\tau \\times \\sqrt{0.05^2 + 0.05^2} = \\tau \\times 0.05 \\times \\sqrt{2} \\approx 0.0707 \\times \\tau\\ $ très proche de l'écart type de la série aléatoire.\n",
    "\n"
   ]
  },
  {
   "cell_type": "code",
   "execution_count": 12,
   "metadata": {},
   "outputs": [
    {
     "name": "stdout",
     "output_type": "stream",
     "text": [
      "Incertitude type composée calculé d'après les formules statistiques données: 7.07e-05 s\n",
      "Ecart type de la série aléatoire de temps caractéristique: 7.088938331027877e-05 s\n"
     ]
    }
   ],
   "source": [
    "print(\"Incertitude type composée calculé d'après les formules statistiques données:\",0.0707*R*C,\"s\")\n",
    "print(\"Ecart type de la série aléatoire de temps caractéristique:\", ecart_type(listeTau),\"s\")"
   ]
  }
 ],
 "metadata": {
  "kernelspec": {
   "display_name": "Python 3",
   "language": "python",
   "name": "python3"
  },
  "language_info": {
   "codemirror_mode": {
    "name": "ipython",
    "version": 3
   },
   "file_extension": ".py",
   "mimetype": "text/x-python",
   "name": "python",
   "nbconvert_exporter": "python",
   "pygments_lexer": "ipython3",
   "version": "3.7.8"
  },
  "varInspector": {
   "cols": {
    "lenName": 16,
    "lenType": 16,
    "lenVar": 40
   },
   "kernels_config": {
    "python": {
     "delete_cmd_postfix": "",
     "delete_cmd_prefix": "del ",
     "library": "var_list.py",
     "varRefreshCmd": "print(var_dic_list())"
    },
    "r": {
     "delete_cmd_postfix": ") ",
     "delete_cmd_prefix": "rm(",
     "library": "var_list.r",
     "varRefreshCmd": "cat(var_dic_list()) "
    }
   },
   "types_to_exclude": [
    "module",
    "function",
    "builtin_function_or_method",
    "instance",
    "_Feature"
   ],
   "window_display": false
  }
 },
 "nbformat": 4,
 "nbformat_minor": 4
}
