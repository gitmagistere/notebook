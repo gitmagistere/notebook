{
 "cells": [
  {
   "cell_type": "markdown",
   "metadata": {},
   "source": [
    "<h1 id=\"Premiers-pas-en-langage-Python\"><span style=\"font-size: 24pt;\"><strong>Premiers pas en langage </strong><strong><span style=\"color: #e67e23;\"><code style=\"background-color: #eff0f1; border: 0px;\">Python</code></span></strong></span></h1>\n",
    "<p>&nbsp;</p>\n",
    "<p><span style=\"font-size: 10pt;\">Suivez bien les instructions indiqu&eacute;es ci-dessous.&nbsp;</span></p>\n",
    "<p><span style=\"font-size: 10pt;\">Le professeur qui vous corrige voit votre document final <span style=\"text-decoration: underline;\">et</span> les &eacute;tapes de votre travail.</span></p>\n",
    "<p><span style=\"font-size: 10pt;\">Bienvenue dans l'univers de la programmation informatique.&nbsp; :)</span></p>"
   ]
  },
  {
   "cell_type": "markdown",
   "metadata": {},
   "source": [
    "<p style=\"font-size: 13px;\"><span style=\"color: #e67e23; font-size: 14pt;\"><strong>AVANT TOUT !</strong></span></p>\n",
    "<p style=\"font-size: 13px;\">&nbsp;</p>\n",
    "<p style=\"font-size: 13px;\">Vous travaillez sur une page web interactive appel&eacute;e Jupyter Notebook. <br />Cette page vous permet de lire du texte (d&eacute;finitions, explications, consignes) et d'&eacute;crire, ou modifier et ex&eacute;cuter des programmes &eacute;crits en langage Python.&nbsp;</p>\n",
    "<p style=\"font-size: 13px;\">&nbsp;</p>\n",
    "<ul style=\"font-size: 13px;\">\n",
    "<li>Tout ce qui est &eacute;crit dans les cellules <code style=\"font-size: 11.7px;\">Entr&eacute;e</code> est consid&eacute;r&eacute; par l'ordinateur comme un programme informatique (script), et non pas comme un simple texte.&nbsp;<br /><br /></li>\n",
    "<li><strong><span style=\"color: #e67e23;\">Toutes les cellules <code style=\"font-size: 11.7px;\">Entr&eacute;e</code> d'un notebook Jupyter doivent &ecirc;tre ex&eacute;cut&eacute;es dans l'ordre</span></strong> o&ugrave; elles apparaissent dans le document<br />(<strong><span style=\"color: #e67e23;\">parfois apr&egrave;s les avoir modifi&eacute;es ou compl&eacute;t&eacute;es comme l'&eacute;nonc&eacute; le demande</span></strong>).&nbsp;<br /><br /></li>\n",
    "<li>Quand on ex&eacute;cute une cellule <code style=\"font-size: 11.7px;\">Entr&eacute;e</code>, l'ordinateur d&eacute;code puis effectue les instructions contenues dans le script. La pluaprt du temps, le r&eacute;sultat des instructions est affich&eacute; dans une cellule&nbsp; <code style=\"font-size: 11.7px;\">Sortie. </code><br /><br /></li>\n",
    "<li>Le professeur qui vous corrige ne peut voir que le contenu des cellules <code style=\"font-size: 11.7px;\">Entr&eacute;e</code> qui ont &eacute;t&eacute; ex&eacute;cut&eacute;es. <br />Si vous ne le faites pas, vous risquez de perdre des points.&nbsp;<br /><br /></li>\n",
    "<li><span style=\"color: #169179;\"><strong>Pour ex&eacute;cuter le script (programme) &eacute;crit dans une cellule <code style=\"font-size: 11.7px;\">Entr&eacute;e</code>, il faut :</strong></span>\n",
    "<ul>\n",
    "<li><span style=\"color: #169179;\"><strong>se positionner dans la cellule en cliquant dessus</strong></span></li>\n",
    "<li><span style=\"color: #169179;\"><strong>maintenir la touche Shift enfonc&eacute;e et appuyer sur la touche Entr&eacute;e</strong></span></li>\n",
    "</ul>\n",
    "</li>\n",
    "</ul>\n",
    "<p style=\"font-size: 13px;\">&nbsp;</p>\n",
    "<p style=\"font-size: 13px;\"><strong><span style=\"color: #e67e23;\">A vous de jouer, maintenant : ex&eacute;cutez la cellule</span></strong>&nbsp;<code style=\"font-size: 11.7px;\">Entr&eacute;e</code> <span style=\"color: #e67e23;\">ci-dessous.</span></p>\n",
    "<p style=\"font-size: 13px;\"><br />L'instruction&nbsp;&nbsp;<span style=\"background-color: #b4d7ff; font-family: monospace; font-size: 11.7px; white-space: pre-wrap;\">from math import*</span>&nbsp; demande &agrave; l'ordinateur d'ouvrir une \"biblioth&egrave;que\" d'instruction math&eacute;matiques pr&eacute;programm&eacute;es dont vous aurez besoin aujourd'hui.&nbsp;<br /><br />L'autre instruction affiche un message qui vous indique que vous avez bien ex&eacute;cuctr&eacute; le premier cadre.&nbsp;</p>\n",
    "<h3 id=\"&nbsp;\">&nbsp;</h3>"
   ]
  },
  {
   "cell_type": "code",
   "execution_count": null,
   "metadata": {},
   "outputs": [],
   "source": [
    "from math import*\n",
    "\n",
    "print('Bravo ! Vous venez de réussir votre première mission. Vous pouvez maintenant continuer.')"
   ]
  },
  {
   "cell_type": "markdown",
   "metadata": {},
   "source": [
    "<h3 id=\"Notation-des-op&eacute;rations-math&eacute;matiques-:&nbsp;&nbsp;\">I. Notation des op&eacute;rations math&eacute;matiques :&nbsp;&nbsp;</h3>\n",
    "<p>&nbsp;</p>"
   ]
  },
  {
   "cell_type": "markdown",
   "metadata": {},
   "source": [
    "<ul>\n",
    "<li><strong>Addition</strong> : <span style=\"font-size: 14pt;\"><code>+</code></span></li>\n",
    "</ul>\n",
    "<p>Dans la cellule ci-dessous, &eacute;crire un script qui calcule <span class=\"MathJax_Preview\" style=\"color: inherit;\"><span id=\"MJXp-Span-182\" class=\"MJXp-math\"><span id=\"MJXp-Span-183\" class=\"MJXp-mn\">6</span><span id=\"MJXp-Span-184\" class=\"MJXp-mo\" style=\"margin-left: 0em; margin-right: 0.222em;\">,</span><span id=\"MJXp-Span-185\" class=\"MJXp-mn\">4</span><span id=\"MJXp-Span-186\" class=\"MJXp-mo\" style=\"margin-left: 0.267em; margin-right: 0.267em;\">+</span><span id=\"MJXp-Span-187\" class=\"MJXp-mn\">194</span></span></span></p>"
   ]
  },
  {
   "cell_type": "code",
   "execution_count": null,
   "metadata": {},
   "outputs": [],
   "source": []
  },
  {
   "cell_type": "markdown",
   "metadata": {},
   "source": [
    "<p><strong><span style=\"color: #e67e23;\">Compl&eacute;ter la phrase suivante :&nbsp;&nbsp;</span></strong></p>\n",
    "<p>Remarque : en langage&nbsp;<span style=\"font-size: 24pt;\"><strong><span style=\"color: #e67e23;\"><code style=\"background-color: #eff0f1; border: 0px;\"><span style=\"font-size: 12pt;\">Python</span></code></span></strong></span>, comme sur les calculatrices, la virgule des nombres d&eacute;cimaux est remplac&eacute;e par ................</p>"
   ]
  },
  {
   "cell_type": "markdown",
   "metadata": {},
   "source": [
    "<ul>\n",
    "<li><strong>Soustraction</strong> : <span style=\"font-size: 14pt;\"><code>-</code></span></li>\n",
    "</ul>\n",
    "<p>Dans la cellule ci-dessous, &eacute;crire un script qui calcule <span class=\"MathJax_Preview\" style=\"color: inherit;\"><span id=\"MJXp-Span-188\" class=\"MJXp-math\"><span id=\"MJXp-Span-189\" class=\"MJXp-mn\">72</span><span id=\"MJXp-Span-190\" class=\"MJXp-mo\" style=\"margin-left: 0.267em; margin-right: 0.267em;\">&minus;</span><span id=\"MJXp-Span-191\" class=\"MJXp-mn\">125</span><span id=\"MJXp-Span-192\" class=\"MJXp-mo\" style=\"margin-left: 0em; margin-right: 0.222em;\">,</span><span id=\"MJXp-Span-193\" class=\"MJXp-mn\">98</span></span></span></p>"
   ]
  },
  {
   "cell_type": "code",
   "execution_count": null,
   "metadata": {},
   "outputs": [],
   "source": []
  },
  {
   "cell_type": "markdown",
   "metadata": {},
   "source": [
    "<ul>\n",
    "<li><strong>Multiplication</strong> : <span style=\"font-size: 14pt;\"><code>*</code></span></li>\n",
    "</ul>\n",
    "<p>Dans la cellule ci-dessous, &eacute;crire un script qui permet de calculer <span class=\"MathJax_Preview\" style=\"color: inherit;\"><span id=\"MJXp-Span-194\" class=\"MJXp-math\"><span id=\"MJXp-Span-195\" class=\"MJXp-mn\">87</span><span id=\"MJXp-Span-196\" class=\"MJXp-mo\" style=\"margin-left: 0.267em; margin-right: 0.267em;\">&times;</span><span id=\"MJXp-Span-197\" class=\"MJXp-mn\">56</span></span></span>.</p>"
   ]
  },
  {
   "cell_type": "code",
   "execution_count": null,
   "metadata": {},
   "outputs": [],
   "source": []
  },
  {
   "cell_type": "markdown",
   "metadata": {},
   "source": [
    "- **Puissance** : `**`\n",
    "\n",
    " Ecrire un scipt qui permet de calculer $2^{10}\\times 5^4$."
   ]
  },
  {
   "cell_type": "code",
   "execution_count": null,
   "metadata": {},
   "outputs": [],
   "source": []
  },
  {
   "cell_type": "markdown",
   "metadata": {},
   "source": [
    "Remarque : on peut aussi utiliser l'instruction `pow(   ,  )`."
   ]
  },
  {
   "cell_type": "code",
   "execution_count": null,
   "metadata": {},
   "outputs": [],
   "source": [
    "pow(3,15)-3**15"
   ]
  },
  {
   "cell_type": "markdown",
   "metadata": {},
   "source": [
    "<p>Les r&egrave;gles de priorit&eacute; entre op&eacute;rations math&eacute;matiques sont les m&ecirc;me en informatique et en math&eacute;matiques et on y utilise donc les parenth&egrave;ses d&egrave;s que n&eacute;cessaire.&nbsp;</p>\n",
    "<p>&nbsp;</p>\n",
    "<p><strong>Exercice 1 :&nbsp;</strong> &nbsp;Ecrire un script qui, <span style=\"text-decoration: underline;\"><strong>en une seule ligne</strong></span>, calcule le r&eacute;sultat des calculs suivants :&nbsp;</p>\n",
    "<p>&nbsp;</p>\n",
    "<ul>\n",
    "<li>on multiplie 7 par <span class=\"MathJax_Preview\" style=\"color: inherit;\"><span id=\"MJXp-Span-306\" class=\"MJXp-math\"><span id=\"MJXp-Span-307\" class=\"MJXp-mn\"><span id=\"MJXp-Span-302\" class=\"MJXp-math\"><span id=\"MJXp-Span-303\" class=\"MJXp-msubsup\"><span id=\"MJXp-Span-304\" class=\"MJXp-mn\" style=\"margin-right: 0.05em;\">3</span><span id=\"MJXp-Span-305\" class=\"MJXp-mn MJXp-script\" style=\"vertical-align: 0.5em;\">5</span></span></span>&nbsp;</span></span></span></li>\n",
    "<li>on ajoute&nbsp; <span class=\"MathJax_Preview\" style=\"color: inherit;\"><span id=\"MJXp-Span-308\" class=\"MJXp-math\"><span id=\"MJXp-Span-309\" class=\"MJXp-mn\">31</span></span></span>&nbsp;au r&eacute;sultat de la ligne pr&eacute;c&eacute;dente.&nbsp;</li>\n",
    "<li>on &eacute;l&egrave;ve le r&eacute;sultat de la ligne pr&eacute;c&eacute;dente&nbsp;au carr&eacute;.&nbsp;</li>\n",
    "<li><span style=\"color: #e67e23;\"><span style=\"color: #000000;\">on soustrait 2400&nbsp;au r&eacute;sultat de la ligne pr&eacute;c&eacute;dente.&nbsp;</span></span></li>\n",
    "<li>on multiplie finalement&nbsp;&nbsp;le r&eacute;sultat de la ligne pr&eacute;c&eacute;dente par 5</li>\n",
    "</ul>\n",
    "<p>&nbsp;</p>"
   ]
  },
  {
   "cell_type": "code",
   "execution_count": null,
   "metadata": {},
   "outputs": [],
   "source": []
  },
  {
   "cell_type": "markdown",
   "metadata": {},
   "source": [
    "<p>Si on veut utiliser une expression contenant une <em><strong>racine carr&eacute;e</strong></em>, la biblioth&egrave;que math fournit l'instruction <code>sqrt()</code>.</p>\n",
    "<p>Cette instruction calcule une valeur d&eacute;cimale approch&eacute;e (&agrave; au moins 12 chiffres significatifs, en &eacute;criture scientifique, si n&eacute;cessaire) de la racine carr&eacute;e d'un nombre positif (entier ou d&eacute;cimal)</p>\n",
    "<p>&nbsp;</p>\n",
    "<p>De m&ecirc;me, la biblioth&egrave;que math contient une valeur approch&eacute;e tr&egrave;s pr&eacute;cise du <em><strong>nombre <span class=\"MathJax_Preview\" style=\"color: inherit;\"><span id=\"MJXp-Span-271\" class=\"MJXp-math\"><span id=\"MJXp-Span-272\" class=\"MJXp-mi MJXp-italic\">&pi;</span></span></span></strong></em>, disponible avec l'instruction `pi`.</p>\n",
    "<p>&nbsp;</p>\n",
    "<p>Voici plusieurs scripts de calcul utilisant ces instructions (s&eacute;par&eacute;s par une virgule, pour les &eacute;crire sur une seule ligne)</p>\n",
    "<p>&nbsp;</p>"
   ]
  },
  {
   "cell_type": "code",
   "execution_count": null,
   "metadata": {},
   "outputs": [],
   "source": [
    "sqrt(2), sqrt(144), pi, sqrt(111)"
   ]
  },
  {
   "cell_type": "markdown",
   "metadata": {},
   "source": [
    "<ul>\n",
    "<li><strong><strong>Diff&eacute;rents types de division</strong><span style=\"font-weight: 400;\"> :</span><br /></strong><br />\n",
    "<ul>\n",
    "<li><strong>Quotient de deux nombres r&eacute;els :</strong>&nbsp; L'instruction <code>125/3</code> donne une valeur&nbsp; d&eacute;cimale approch&eacute;e&nbsp; de la fraction $\\dfrac{125}{3}$.&nbsp;<br /><br />De la m&ecirc;me mani&egrave;re,&nbsp; L'instruction <code style=\"font-size: 11.7px;\">37.56/31.23</code> donne une valeur d&eacute;cimale approch&eacute;e du quotient&nbsp; de 37,56 par 31,23<br /><br /></li>\n",
    "<li><strong>Divisions entre entiers avec reste :</strong>&nbsp;<br />L'instruction <code>125//3</code> donne la valeur du quotient<strong> entier</strong> de la division de <span class=\"MathJax_Preview\" style=\"color: inherit;\"><span id=\"MJXp-Span-205\" class=\"MJXp-math\"><span id=\"MJXp-Span-206\" class=\"MJXp-mn\">125</span></span></span> par <span class=\"MathJax_Preview\" style=\"color: inherit;\"><span id=\"MJXp-Span-207\" class=\"MJXp-math\"><span id=\"MJXp-Span-208\" class=\"MJXp-mn\">3</span></span></span>.<br />L'instruction <code style=\"font-size: 11.7px;\">125%3</code>&nbsp;donne la valeur du<strong>&nbsp;reste</strong>&nbsp;de la division de&nbsp;<span class=\"MathJax_Preview\" style=\"color: inherit;\">125</span>&nbsp;par&nbsp;<span class=\"MathJax_Preview\" style=\"color: inherit;\">3</span>.</li>\n",
    "</ul>\n",
    "</li>\n",
    "</ul>\n",
    "<p><strong><br /></strong>Ecrire un script qui calcule, dans cet ordre,&nbsp; &nbsp; une valeur approch&eacute;e de $\\dfrac{2^{17}+65}{19}$&nbsp; , le quotient entier dans la division de $2^{17}+65$ par $19$ , le reste entier&nbsp;dans la division de $2^{17}+65$ par $19$&nbsp; &nbsp; (vous pouvez &eacute;crire les trois script dans la m&ecirc;me ligne, s&eacute;par&eacute;s par des virgules. Les trois r&eacute;sultats s'afficheront, s&eacute;par&eacute;s par des virgules).&nbsp;</p>"
   ]
  },
  {
   "cell_type": "code",
   "execution_count": null,
   "metadata": {},
   "outputs": [],
   "source": []
  },
  {
   "cell_type": "markdown",
   "metadata": {},
   "source": [
    "<h3 id=\"&nbsp;\">&nbsp;</h3>\n",
    "<h3 id=\"&nbsp;\">&nbsp;</h3>\n",
    "<h3 id=\"II.-Affectation-d'une-variable-informatique.&nbsp;\">II. Affectation d'une variable informatique.&nbsp;</h3>\n",
    "<p>&nbsp;</p>\n",
    "<p>Une variable informatique est un \"espace r&eacute;serv&eacute; et nomm&eacute; sur le disque dur\" pour y stocker provisoirement des objets informatiques (nombres, fichiers, etc...)</p>\n",
    "<p>&nbsp;</p>\n",
    "<p>Pour stocker une valeur dans la variable nomm&eacute;e <code>x</code>, on utilise le symbole d'affectation informatique <code>=</code> dont le sens est tr&egrave;s diff&eacute;rent de l'&eacute;galit&eacute; math&eacute;matique.&nbsp;</p>\n",
    "<p>&nbsp;</p>\n",
    "<p>Quand on code, <code>x=6</code>, on affecte provisoirement la valeur 6 &agrave; la variable <code>x</code>. Autrement dit, on stocke provisoirement la valeur 6 dans la variable <code>x</code>.</p>\n",
    "<p>&nbsp;</p>\n",
    "<p>Il est tr&egrave;s commode de <strong>dire \"<code>x</code> prend la valeur 6\"&nbsp; quand on lit le code&nbsp; &nbsp;<code>x=6</code> .</strong></p>\n",
    "<p>Cela devient m&ecirc;me indispensable lorsqu l'on code&nbsp; &nbsp;<code>a=a+5</code>&nbsp; (c'est une &eacute;galit&eacute; toujours fausse en math&eacute;matiques mais tout a fait correcte en langage Python o&ugrave; elle signifie : \"<code>a</code> prend la valeur de <code>a+5</code> \" c'est-&agrave;-dire :&nbsp; \" la valeur de <code>a</code> est remplac&eacute;e par la valeur de <code>a+5</code>\".&nbsp;</p>\n",
    "<p>&nbsp;</p>\n",
    "<p>Le processus d'affectation de variables permet d'automatiser certains calculs et d'utiliser des expressions litt&eacute;rales dans les calculs.&nbsp;</p>\n",
    "<p>&nbsp;</p>\n",
    "<p>&nbsp;</p>\n",
    "<p>&nbsp;</p>\n",
    "<p><em><strong>Exemple :&nbsp;</strong> &nbsp;</em>Soit&nbsp; <span class=\"MathJax_Preview\" style=\"color: inherit;\"><span id=\"MJXp-Span-1176\" class=\"MJXp-math\"><span id=\"MJXp-Span-1177\" class=\"MJXp-mi MJXp-italic\">f</span></span></span> la fonction telle que <span class=\"MathJax_Preview\" style=\"color: inherit;\"><span id=\"MJXp-Span-1178\" class=\"MJXp-math\"><span id=\"MJXp-Span-1179\" class=\"MJXp-mi MJXp-italic\">f</span><span id=\"MJXp-Span-1180\" class=\"MJXp-mo\" style=\"margin-left: 0em; margin-right: 0em;\">(</span><span id=\"MJXp-Span-1181\" class=\"MJXp-mi MJXp-italic\">x</span><span id=\"MJXp-Span-1182\" class=\"MJXp-mo\" style=\"margin-left: 0em; margin-right: 0em;\">)</span><span id=\"MJXp-Span-1183\" class=\"MJXp-mo\" style=\"margin-left: 0.333em; margin-right: 0.333em;\">=</span><span id=\"MJXp-Span-1184\" class=\"MJXp-mn\">78</span><span id=\"MJXp-Span-1185\" class=\"MJXp-mi MJXp-italic\">x</span><span id=\"MJXp-Span-1186\" class=\"MJXp-mo\" style=\"margin-left: 0.267em; margin-right: 0.267em;\">&minus;</span><span id=\"MJXp-Span-1187\" class=\"MJXp-mn\">5</span></span></span> pour tout nombre r&eacute;el <span class=\"MathJax_Preview\" style=\"color: inherit;\"><span id=\"MJXp-Span-1188\" class=\"MJXp-math\"><span id=\"MJXp-Span-1189\" class=\"MJXp-mi MJXp-italic\">x</span></span></span>.&nbsp;<br /><br /></p>\n",
    "<p>Pour calculer l'image de <span class=\"MathJax_Preview\" style=\"color: inherit;\"><span id=\"MJXp-Span-352\" class=\"MJXp-math\"><span id=\"MJXp-Span-353\" class=\"MJXp-mn\">6</span></span></span> par la fonction <span class=\"MathJax_Preview\" style=\"color: inherit;\"><span id=\"MJXp-Span-354\" class=\"MJXp-math\"><span id=\"MJXp-Span-355\" class=\"MJXp-mi MJXp-italic\">f</span></span></span>, on peut proc&eacute;der ainsi :</p>"
   ]
  },
  {
   "cell_type": "code",
   "execution_count": null,
   "metadata": {},
   "outputs": [],
   "source": [
    "x=6        # une valeur est affectée à la variable x.\n",
    "y=78*x-5   # la valeur de y est calculée en utilisant la dernière valeur stockée dans la variable x. \n",
    "y          # Cette instruction permet d'afficher la valeur de y.\n",
    "           # Il suffit donc de changer la valeur de x au début et de réexécuter la cellele pour avoir une autre image"
   ]
  },
  {
   "cell_type": "markdown",
   "metadata": {},
   "source": [
    "On peut aussi demander à ce que la réponse soit écrite sous forme de phrases. "
   ]
  },
  {
   "cell_type": "code",
   "execution_count": null,
   "metadata": {},
   "outputs": [],
   "source": [
    "print(\"L'image de\",x,\"par la fonction f est \",y)"
   ]
  },
  {
   "cell_type": "code",
   "execution_count": null,
   "metadata": {},
   "outputs": [],
   "source": [
    "print(\"La courbe de la fonction f passe par le point de coordonnées\",(x,y))\n"
   ]
  },
  {
   "cell_type": "markdown",
   "metadata": {},
   "source": [
    "<p><strong>Exercice :</strong> Ecrire un script qui donne les coordonn&eacute;es du point d'abscisse -3 sur la courbe de la fonction <span class=\"MathJax_Preview\" style=\"color: inherit;\"><span id=\"MJXp-Span-1208\" class=\"MJXp-math\"><span id=\"MJXp-Span-1209\" class=\"MJXp-mi MJXp-italic\">g</span></span></span> telle que <span class=\"MathJax_Preview\" style=\"color: inherit;\"><span id=\"MJXp-Span-1210\" class=\"MJXp-math\"><span id=\"MJXp-Span-1211\" class=\"MJXp-mi MJXp-italic\">g</span><span id=\"MJXp-Span-1212\" class=\"MJXp-mo\" style=\"margin-left: 0em; margin-right: 0em;\">(</span><span id=\"MJXp-Span-1213\" class=\"MJXp-mi MJXp-italic\">x</span><span id=\"MJXp-Span-1214\" class=\"MJXp-mo\" style=\"margin-left: 0em; margin-right: 0em;\">)</span><span id=\"MJXp-Span-1215\" class=\"MJXp-mo\" style=\"margin-left: 0.333em; margin-right: 0.333em;\">=</span><span id=\"MJXp-Span-1217\" class=\"MJXp-mn\">5</span><span id=\"MJXp-Span-1218\" class=\"MJXp-mi MJXp-italic\">x</span><span id=\"MJXp-Span-1221\" class=\"MJXp-msubsup\"><span id=\"MJXp-Span-1223\" class=\"MJXp-mn MJXp-script\" style=\"vertical-align: 0.5em;\">2</span></span><span id=\"MJXp-Span-1224\" class=\"MJXp-mo\" style=\"margin-left: 0.267em; margin-right: 0.267em;\">&minus;</span><span id=\"MJXp-Span-1225\" class=\"MJXp-mn\">31</span></span></span>.</p>\n",
    "<p>&nbsp;</p>"
   ]
  },
  {
   "cell_type": "code",
   "execution_count": null,
   "metadata": {},
   "outputs": [],
   "source": []
  },
  {
   "cell_type": "markdown",
   "metadata": {},
   "source": [
    "<p><strong><span style=\"font-size: 14pt; color: #e03e2d;\">ATTENTION !</span></strong></p>\n",
    "<p>L'ordre dans lequel on &eacute;crit les instructions d'affectation est tr&egrave;s important chaque affectation remplace la derni&egrave;re valeur stock&egrave;e dans une variable par une nouvelle valeur...&nbsp;<br /><br />Voici trois blocs d'instructions d'affectation. Lisez les attentivemment et r&eacute;fl&eacute;chissez aux valeurs des variables qui devraient s'afficher &agrave; la fin.&nbsp;<br /><br />Ex&eacute;cutez ENSUITE les cellules et v&eacute;rifiez vos r&eacute;sultats. Demandez au professeur si vous ne comprenez pas.&nbsp;&nbsp;</p>"
   ]
  },
  {
   "cell_type": "code",
   "execution_count": null,
   "metadata": {},
   "outputs": [],
   "source": [
    "a=9\n",
    "b=11\n",
    "a=b+3\n",
    "b=b-5\n",
    "a,b"
   ]
  },
  {
   "cell_type": "code",
   "execution_count": null,
   "metadata": {},
   "outputs": [],
   "source": [
    "a=9\n",
    "b=11\n",
    "b=b-5\n",
    "a=b+3\n",
    "a,b"
   ]
  },
  {
   "cell_type": "code",
   "execution_count": null,
   "metadata": {},
   "outputs": [],
   "source": [
    "a=2\n",
    "b=10\n",
    "a=a**2\n",
    "b=b*a\n",
    "a=b/2\n",
    "a,b"
   ]
  },
  {
   "cell_type": "markdown",
   "metadata": {},
   "source": [
    "<p>La cellule ci-dessous contient une suite d'instructions.&nbsp;</p>\n",
    "<p>Ces instructions permettent&nbsp; de stocker dans la variable <code>y</code> un nombre en fonction&nbsp; de <code>x</code>.&nbsp; &nbsp;Lequel ?&nbsp;</p>\n",
    "<p>&nbsp;</p>\n",
    "<p><strong>R&eacute;ponse 1 :&nbsp;&nbsp;</strong><span class=\"MathJax_Preview\" style=\"color: inherit;\"><span id=\"MJXp-Span-76\" class=\"MJXp-math\"><span id=\"MJXp-Span-77\" class=\"MJXp-mo\" style=\"margin-left: 0em; margin-right: 0em;\">(</span><span id=\"MJXp-Span-78\" class=\"MJXp-mn\">3</span><span id=\"MJXp-Span-79\" class=\"MJXp-mi MJXp-italic\">x</span><span id=\"MJXp-Span-80\" class=\"MJXp-mo\" style=\"margin-left: 0.267em; margin-right: 0.267em;\">&minus;</span><span id=\"MJXp-Span-81\" class=\"MJXp-mn\">7</span><span id=\"MJXp-Span-82\" class=\"MJXp-msubsup\"><span id=\"MJXp-Span-83\" class=\"MJXp-mo\" style=\"margin-left: 0em; margin-right: 0.05em;\">)</span><span id=\"MJXp-Span-84\" class=\"MJXp-mn MJXp-script\" style=\"vertical-align: 0.5em;\">2</span></span></span></span></p>\n",
    "<p><strong>R&eacute;ponse 2 :&nbsp;&nbsp;</strong><span class=\"MathJax_Preview\" style=\"color: inherit;\"><span id=\"MJXp-Span-85\" class=\"MJXp-math\"><span id=\"MJXp-Span-86\" class=\"MJXp-mn\">3</span><span id=\"MJXp-Span-87\" class=\"MJXp-msubsup\"><span id=\"MJXp-Span-88\" class=\"MJXp-mi MJXp-italic\" style=\"margin-right: 0.05em;\">x</span><span id=\"MJXp-Span-89\" class=\"MJXp-mn MJXp-script\" style=\"vertical-align: 0.5em;\">2</span></span><span id=\"MJXp-Span-90\" class=\"MJXp-mo\" style=\"margin-left: 0.267em; margin-right: 0.267em;\">&minus;</span><span id=\"MJXp-Span-91\" class=\"MJXp-mn\">7</span></span></span></p>\n",
    "<p><strong>R&eacute;ponse 3 :&nbsp; </strong><span class=\"MathJax_Preview\" style=\"color: inherit;\"><span id=\"MJXp-Span-92\" class=\"MJXp-math\"><span id=\"MJXp-Span-93\" class=\"MJXp-mo\" style=\"margin-left: 0em; margin-right: 0em;\">(</span><span id=\"MJXp-Span-94\" class=\"MJXp-mn\">3</span><span id=\"MJXp-Span-95\" class=\"MJXp-mi MJXp-italic\">x</span><span id=\"MJXp-Span-96\" class=\"MJXp-msubsup\"><span id=\"MJXp-Span-97\" class=\"MJXp-mo\" style=\"margin-left: 0em; margin-right: 0.05em;\">)</span><span id=\"MJXp-Span-98\" class=\"MJXp-mn MJXp-script\" style=\"vertical-align: 0.5em;\">2</span></span><span id=\"MJXp-Span-99\" class=\"MJXp-mo\" style=\"margin-left: 0.267em; margin-right: 0.267em;\">&minus;</span><span id=\"MJXp-Span-100\" class=\"MJXp-mn\">7</span></span></span></p>\n",
    "<p><strong>R&eacute;ponse 4 :&nbsp; </strong><span class=\"MathJax_Preview\" style=\"color: inherit;\"><span id=\"MJXp-Span-101\" class=\"MJXp-math\"><span id=\"MJXp-Span-102\" class=\"MJXp-mn\">3</span><span id=\"MJXp-Span-103\" class=\"MJXp-mo\" style=\"margin-left: 0em; margin-right: 0em;\">(</span><span id=\"MJXp-Span-104\" class=\"MJXp-mi MJXp-italic\">x</span><span id=\"MJXp-Span-105\" class=\"MJXp-mo\" style=\"margin-left: 0.267em; margin-right: 0.267em;\">&minus;</span><span id=\"MJXp-Span-106\" class=\"MJXp-mn\">7</span><span id=\"MJXp-Span-107\" class=\"MJXp-msubsup\"><span id=\"MJXp-Span-108\" class=\"MJXp-mo\" style=\"margin-left: 0em; margin-right: 0.05em;\">)</span><span id=\"MJXp-Span-109\" class=\"MJXp-mn MJXp-script\" style=\"vertical-align: 0.5em;\">2</span></span></span></span></p>"
   ]
  },
  {
   "cell_type": "code",
   "execution_count": null,
   "metadata": {},
   "outputs": [],
   "source": [
    "x=3*x\n",
    "x=x^2\n",
    "y=x-7"
   ]
  },
  {
   "cell_type": "markdown",
   "metadata": {},
   "source": [
    "<p>Ecrire ci-dessous l'enchainement d'affectations qui permet de stocker la r&eacute;ponse 4 dans la variable <code>y</code></p>"
   ]
  },
  {
   "cell_type": "code",
   "execution_count": null,
   "metadata": {},
   "outputs": [],
   "source": []
  },
  {
   "cell_type": "markdown",
   "metadata": {},
   "source": [
    "<h3 id=\"Ecriture-d'un-algorithme.\">Les fonctions en langage <code>Python</code></h3>\n",
    "<p><code></code></p>\n",
    "<p>Lorsqu'un bloc d'instructions est utilis&eacute; plusieurs fois dans un programme, il est peu commode d'avoir &agrave; le recopier &agrave; chaque fois.&nbsp;<br />On peut alors le pr&eacute;senter sous forme d'une <strong>fonction</strong> informatique &agrave; laquelle on donne un nom et qui contiennent des <strong>arguments</strong>. (ce sont les param&egrave;tres de la fonction).</p>\n",
    "<p>&nbsp;</p>\n",
    "<ul>\n",
    "<li><code>def</code> est l'instruction qui permet de d&eacute;finir une fonction. Elle est suivie de :\n",
    "<ul>\n",
    "<li>une espace</li>\n",
    "<li>le nom de la fonction</li>\n",
    "<li>une paire de parenth&egrave;ses qui contiennent les noms des param&egrave;tres s&eacute;par&eacute;s par une virgule</li>\n",
    "<li>deux points <code>:</code></li>\n",
    "<li>De plus toutes les lignes du script de la fonction doit &ecirc;tre d&eacute;cal&eacute; vers la droite (on dit \"indent&eacute;\"). C'est gr&acirc;ce &agrave; cette indentation que l'on fera la diff&eacute;rence entre les instrustioctions qui font partie de la dfontction et celles qui n'en font plys partie.</li>\n",
    "</ul>\n",
    "</li>\n",
    "</ul>\n",
    "<p>&nbsp;</p>"
   ]
  },
  {
   "cell_type": "code",
   "execution_count": null,
   "metadata": {},
   "outputs": [],
   "source": [
    "def image(x):\n",
    "    y=78*x-5 #on a supprimé l'instruction d'affectation de x, c'est le rôle de l'argument de la fonction\n",
    "    print(\"L'image de\", x, \"par la fonction f est \", y)\n"
   ]
  },
  {
   "cell_type": "markdown",
   "metadata": {},
   "source": [
    "Une fois la fonction définie, elle peut être appelée autant de fois que l'on veut. Il suffit de changer la valeur de l'argument."
   ]
  },
  {
   "cell_type": "code",
   "execution_count": null,
   "metadata": {},
   "outputs": [],
   "source": [
    "image(2)"
   ]
  },
  {
   "cell_type": "markdown",
   "metadata": {},
   "source": [
    "On peut ne pas faire afficher une phrase mais juste demander la valeur de l'image. \n",
    "\n",
    "On utilise alors l'instruction `return`."
   ]
  },
  {
   "cell_type": "code",
   "execution_count": null,
   "metadata": {},
   "outputs": [],
   "source": [
    "def image(x):\n",
    "    y=78*x-5 \n",
    "    return y"
   ]
  },
  {
   "cell_type": "code",
   "execution_count": null,
   "metadata": {},
   "outputs": [],
   "source": [
    "image(3)"
   ]
  },
  {
   "cell_type": "markdown",
   "metadata": {},
   "source": [
    "<p>Instructions conditionnelles : <code>if , else</code>&nbsp; &nbsp;ou&nbsp;&nbsp;<code>if , elif,&nbsp; else <br /><br /></code>Voici trois scripts pour illustrer ces nouvelles instructions, testez les en modifiant les valeurs de a et b.</p>\n",
    "<p>&nbsp;</p>\n",
    "<p>Remarquez qu'&agrave; nouveau, les blocs de script apr&egrave;s chacun des mots cl&eacute;s&nbsp;<code> if</code>, <code>elif</code> ou <code>else</code> sont indent&eacute;s.&nbsp;</p>"
   ]
  },
  {
   "cell_type": "code",
   "execution_count": null,
   "metadata": {},
   "outputs": [],
   "source": [
    "a = 41\n",
    "b = 200\n",
    "if b > a:\n",
    "    print(\"b est strictement supérieur a\")\n",
    "        "
   ]
  },
  {
   "cell_type": "code",
   "execution_count": null,
   "metadata": {},
   "outputs": [],
   "source": [
    "a = 33\n",
    "b = 33\n",
    "if b > a:\n",
    "    print(\"b est strictement supérieur a\")\n",
    "elif a == b:\n",
    "    print(\"a et b sont égaux \")"
   ]
  },
  {
   "cell_type": "code",
   "execution_count": null,
   "metadata": {},
   "outputs": [],
   "source": [
    "a = 33\n",
    "b = 21\n",
    "if b > a:\n",
    "    print(\"b est strictement supérieur à a\")\n",
    "elif a == b:\n",
    "    print(\"a et b sont égaux \")\n",
    "else :\n",
    "    print(\"b est strictement inférieur à a\")\n",
    "   "
   ]
  },
  {
   "cell_type": "markdown",
   "metadata": {},
   "source": [
    "<h4 id=\"Boucle-While-:&nbsp;\">Boucle <code>While</code> :&nbsp;</h4>\n",
    "<p>&nbsp;</p>\n",
    "<p>Les boucles sont des instructions qui permettent de r&eacute;p&eacute;ter un bloc de script autant de fois que n&eacute;cessaire.&nbsp; Il y a plusieur types de boucles.&nbsp;</p>\n",
    "<p>La boucle while (ce qui signifie \"tant que\" en anglais)&nbsp; r&eacute;p&egrave;te le bloc de script tant qu'une condition n'est pas v&eacute;rifi&eacute;e.&nbsp;<br /><br />Remarquez qu'&agrave; nouveau, le bloc de script apr&egrave;s le mot-cl&eacute;&nbsp;<code style=\"font-size: 11.7px;\"> while</code> est indent&eacute;s.&nbsp;</p>"
   ]
  },
  {
   "cell_type": "code",
   "execution_count": null,
   "metadata": {},
   "outputs": [],
   "source": [
    "x = 1\n",
    "while x < 40:\n",
    "    print(\"x a pour valeur\", x)\n",
    "    x = x * 2\n",
    "print(\"Fin\")"
   ]
  },
  {
   "cell_type": "markdown",
   "metadata": {},
   "source": [
    "<p>Voici deux fonctions qui utilisent l'instruction while.&nbsp;<br /><br />Testez les (vous pouvez les recopier et les modifier dans les cellules vides en dessous).</p>\n",
    "<p>D&eacute;terminez ce qu'elles font.&nbsp;</p>\n",
    "<p>Modifiez leur derni&egrave;re ligne pour qu'elles affichent une phrase explicative de ce qu'elles font.&nbsp;</p>\n",
    "<p>&nbsp;</p>\n",
    "<p>&nbsp;</p>\n",
    "<p><strong>Fonction DE : &eacute;nonc&eacute; &agrave; ne pas modifier</strong></p>"
   ]
  },
  {
   "cell_type": "code",
   "execution_count": null,
   "metadata": {},
   "outputs": [],
   "source": [
    "def DE(a,b):     # a et b doivent être des entiers positifs et b doit être non nul\n",
    "    q=0\n",
    "    while a-q*b>=b :\n",
    "        q=q+1\n",
    "    r=a-q*b\n",
    "    resultat=(q,r)\n",
    "    return resultat\n",
    "    \n",
    "DE(123,4)"
   ]
  },
  {
   "cell_type": "markdown",
   "metadata": {},
   "source": [
    "<p><strong>Fonction DEtest : Code &agrave; tester et modifier&nbsp;</strong></p>"
   ]
  },
  {
   "cell_type": "code",
   "execution_count": null,
   "metadata": {},
   "outputs": [],
   "source": [
    "def DEtest(a,b):     # a et b doivent être des entiers positifs et b doit être non nul\n",
    "    q=0\n",
    "    while a-q*b>=b :\n",
    "        q=q+1\n",
    "    r=a-q*b\n",
    "    resultat=(q,r)\n",
    "    return resultat\n",
    "    \n"
   ]
  },
  {
   "cell_type": "markdown",
   "metadata": {},
   "source": [
    "<p>&nbsp;</p>\n",
    "<p><strong>Fonction ES : &eacute;nonc&eacute; &agrave; ne pas modifier</strong></p>"
   ]
  },
  {
   "cell_type": "code",
   "execution_count": null,
   "metadata": {},
   "outputs": [],
   "source": [
    "def ES(x):     # x doit être un nombre réel positif supérieur à 1 \n",
    "    k=0\n",
    "    while x>=10 :\n",
    "        k=k+1\n",
    "        x=x/10\n",
    "    resultat=(x,k)\n",
    "    return resultat\n",
    "    \n",
    "ES(2**51)"
   ]
  },
  {
   "cell_type": "markdown",
   "metadata": {},
   "source": [
    "<p>&nbsp;</p>\n",
    "<p><strong>Fonction EStest : code &agrave; tester et&nbsp; modifier</strong></p>"
   ]
  },
  {
   "cell_type": "code",
   "execution_count": null,
   "metadata": {},
   "outputs": [],
   "source": [
    "def EStest(x):     # x doit être un nombre réel positif supérieur à 1 \n",
    "    k=0\n",
    "    while x>=10 :\n",
    "        k=k+1\n",
    "        x=x/10\n",
    "    resultat=(x,k)\n",
    "    return resultat"
   ]
  },
  {
   "cell_type": "markdown",
   "metadata": {},
   "source": [
    "<p><strong>Pour terminer :</strong></p>\n",
    "<p>&nbsp;</p>\n",
    "<p>Ecrire une fonction ESgen, adapt&eacute;e de la fonction ES qui fait le m&ecirc;me travail que ES mais pour tous les nombres r&eacute;els positifs (pas seulement ceux qui sont sup&eacute;rieurs &agrave; 1)</p>"
   ]
  },
  {
   "cell_type": "code",
   "execution_count": null,
   "metadata": {},
   "outputs": [],
   "source": []
  }
 ],
 "metadata": {
  "kernelspec": {
   "display_name": "Python 3",
   "language": "python",
   "name": "python3"
  },
  "language_info": {
   "codemirror_mode": {
    "name": "ipython",
    "version": 3
   },
   "file_extension": ".py",
   "mimetype": "text/x-python",
   "name": "python",
   "nbconvert_exporter": "python",
   "pygments_lexer": "ipython3",
   "version": "3.8.5"
  }
 },
 "nbformat": 4,
 "nbformat_minor": 4
}
