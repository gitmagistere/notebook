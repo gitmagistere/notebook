{
  "nbformat": 4,
  "nbformat_minor": 0,
  "metadata": {
    "colab": {
      "name": "premier_prog.ipynb",
      "provenance": []
    },
    "kernelspec": {
      "name": "python3",
      "display_name": "Python 3"
    }
  },
  "cells": [
    {
      "cell_type": "markdown",
      "metadata": {
        "id": "28zf-7gKZNdR"
      },
      "source": [
        "Maintenant nous allons découvrir la notion de varaible et tester des calculs de base avec Python.\n",
        "\n",
        "Je voudrais par exemple affecter la valeur 5 à une variable a, et 8 à la variable b.\n",
        "\n",
        "\n"
      ]
    },
    {
      "cell_type": "code",
      "metadata": {
        "id": "kg5lcrMmaHnv"
      },
      "source": [
        "a=5\n",
        "b=8\n"
      ],
      "execution_count": 1,
      "outputs": []
    },
    {
      "cell_type": "markdown",
      "metadata": {
        "id": "zTvIEbrLaUo_"
      },
      "source": [
        "Pour vérifier cette action je peux faire un print(a).\n",
        "\n",
        "\n",
        "C'est à vous \n",
        "\n",
        "Essayez d'écrire un programme qui affichera votre prénom à l'écran."
      ]
    },
    {
      "cell_type": "code",
      "metadata": {
        "id": "GtbIaCUNYLBl",
        "outputId": "519ff42c-b055-4f41-d0ea-4affe2564566",
        "colab": {
          "base_uri": "https://localhost:8080/"
        }
      },
      "source": [
        "print(a)\n",
        "print(b)"
      ],
      "execution_count": 3,
      "outputs": [
        {
          "output_type": "stream",
          "text": [
            "5\n",
            "8\n"
          ],
          "name": "stdout"
        }
      ]
    },
    {
      "cell_type": "markdown",
      "metadata": {
        "id": "U0v3P3N71kFK"
      },
      "source": [
        "Mais que donne print(a+b).\n",
        "\n",
        "A vous de jouer !"
      ]
    },
    {
      "cell_type": "code",
      "metadata": {
        "id": "ug3srtvo1rpQ"
      },
      "source": [
        ""
      ],
      "execution_count": null,
      "outputs": []
    }
  ]
}