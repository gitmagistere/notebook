{
 "cells": [
  {
   "cell_type": "markdown",
   "metadata": {},
   "source": [
    "# Les tableaux et boucles"
   ]
  },
  {
   "cell_type": "markdown",
   "metadata": {},
   "source": [
    "**Exercice 1** Faire un programme qui calcule le minimum du tableau ci-dessous\n",
    "Vous utiliserez la fonction len() pour connaitre la taille du tableau"
   ]
  },
  {
   "cell_type": "code",
   "execution_count": null,
   "metadata": {},
   "outputs": [],
   "source": [
    "notes = [12.5, 15.0, 18.0,  9.5, 10.0, 11.5, 10.0,  9.0,  \n",
    "         7.0, 12.0, 14.0, 13.5,  5.5, 10.0, 15.0, 18.0, 19.0, \n",
    "         12.0, 14.5, 13.0,20.0,  9.5,  9.5, 10.0, 12.0,  2.0, 11.0,  7.0 ]\n",
    "\n",
    "min = notes[0]\n",
    "\n",
    "print(len(notes))\n",
    "\n",
    "#A compléter"
   ]
  },
  {
   "cell_type": "markdown",
   "metadata": {},
   "source": [
    "**Exercice 2**  Faire un programme qui calcule le maximum du tableau ci-dessous\n",
    "Vous utiliserez la fonction len() pour connaitre la taille du tableau"
   ]
  },
  {
   "cell_type": "code",
   "execution_count": null,
   "metadata": {},
   "outputs": [],
   "source": [
    "notes = [12.5, 15.0, 18.0,  9.5, 10.0, 11.5, 10.0,  9.0,  \n",
    "         7.0, 12.0, 14.0, 13.5,  5.5, 10.0, 15.0, 18.0, 19.0, \n",
    "         12.0, 14.5, 13.0,20.0,  9.5,  9.5, 10.0, 12.0,  2.0, 11.0,  7.0 ]\n",
    "\n",
    "#A Compléter"
   ]
  },
  {
   "cell_type": "markdown",
   "metadata": {},
   "source": [
    "**Exercice 3** Faire un programme qui calcule le moyenne puis l'ecart type du tableau ci-dessous"
   ]
  },
  {
   "cell_type": "code",
   "execution_count": null,
   "metadata": {},
   "outputs": [],
   "source": [
    "import math\n",
    "\n",
    "notes = [12.5, 15.0, 18.0,  9.5, 10.0, 11.5, 10.0,  9.0,  \n",
    "         7.0, 12.0, 14.0, 13.5,  5.5, 10.0, 15.0, 18.0, 19.0, \n",
    "         12.0, 14.5, 13.0,20.0,  9.5,  9.5, 10.0, 12.0,  2.0, 11.0,  7.0 ]\n",
    "\n",
    "#A Compléter"
   ]
  }
 ],
 "metadata": {
  "kernelspec": {
   "display_name": "Python 3",
   "language": "python",
   "name": "python3"
  },
  "language_info": {
   "codemirror_mode": {
    "name": "ipython",
    "version": 3
   },
   "file_extension": ".py",
   "mimetype": "text/x-python",
   "name": "python",
   "nbconvert_exporter": "python",
   "pygments_lexer": "ipython3",
   "version": "3.7.3"
  }
 },
 "nbformat": 4,
 "nbformat_minor": 4
}
