{
 "cells": [
  {
   "cell_type": "markdown",
   "metadata": {},
   "source": [
    "# Les fonctions\n",
    "## Exemples de fonction en Pyhton"
   ]
  },
  {
   "cell_type": "markdown",
   "metadata": {},
   "source": [
    "**Faire une fonction qui convertisse des degrés en radian**"
   ]
  },
  {
   "cell_type": "code",
   "execution_count": null,
   "metadata": {},
   "outputs": [],
   "source": [
    "from math import pi\n",
    "\n",
    "def deg_en_rad(deg):\n",
    "    # Converti des degrés en radians\n",
    "    return deg * pi / 180\n",
    "\n",
    "print(deg_en_rad(0))\n",
    "print(deg_en_rad(180))\n",
    "print(deg_en_rad(360))"
   ]
  },
  {
   "cell_type": "markdown",
   "metadata": {},
   "source": [
    "**Faire une fonction qui convertisse des radians en degrés**"
   ]
  },
  {
   "cell_type": "code",
   "execution_count": null,
   "metadata": {},
   "outputs": [],
   "source": [
    "from math import pi\n",
    "\n",
    "def rad_en_deg(rad):\n",
    "    # Converti des radians en degrés\n",
    "    return rad * 180 / pi\n",
    "\n",
    "print(rad_en_deg(0.0))\n",
    "print(rad_en_deg(pi/2))"
   ]
  },
  {
   "cell_type": "markdown",
   "metadata": {},
   "source": [
    "**Exemple complet du convertisseur avec les fonctions**\n",
    "- deg_en_rad()\n",
    "- rad_en_deg()\n",
    "- menu()\n",
    "- demande_continuer()\n",
    "\n",
    "L'exemple provient de Clem's Foundation\n"
   ]
  },
  {
   "cell_type": "code",
   "execution_count": null,
   "metadata": {},
   "outputs": [],
   "source": [
    "# N'oubliez pas l'encodage\n",
    "from math import pi\n",
    "\n",
    "def deg_en_rad(deg):\n",
    "    # Converti des degrés en radians\n",
    "    return deg * pi / 180\n",
    "\n",
    "def rad_en_deg(rad):\n",
    "    # Converti des radians en degrés\n",
    "    return rad * 180 / pi\n",
    "\n",
    "def menu():\n",
    "    # Affiche le menu et renvoie le choix de l'utilisateur\n",
    "    print(\"\\nOptions disponibles : \") # On saute une ligne au début\n",
    "    print(\"1 : Convertir des degrés en radians\")\n",
    "    print(\"2 : Convertir des radians en degrés\")\n",
    "    print(\"q : Quitter\\n\") # On saute une ligne\n",
    "    \n",
    "    return input(\"Votre choix : \")\n",
    "\n",
    "def demande_continuer():\n",
    "    # On demande si l'utilisateur veut quitter avant de réafficher le menu\n",
    "    reponse = input(\"Effectuer une autre conversion ? (O/N) :\\n \")\n",
    "    \n",
    "    if reponse == \"N\":\n",
    "        return False\n",
    "    \n",
    "    return True\n",
    "\n",
    "# On définit une variable qui fait office de drapeau\n",
    "continuer = True\n",
    "\n",
    "print(\"Super Convertisseur Degré-Radian Réversible\") \n",
    "\n",
    "# Notre boucle principale permet de proposer \n",
    "# et d'effectuer plusieurs conversions à la suite\n",
    "while continuer:\n",
    "    # On affiche le menu et on récupère le choix de l'utilisateur\n",
    "    choix = menu()\n",
    "    \n",
    "    # On traite le choix de l'utilisateur en se souvenant \n",
    "    # qu'il s'agit d'une chaine de caractères\n",
    "    if choix == \"1\":\n",
    "        # On récupère et converti l'angle donné par l'utilisateur\n",
    "        deg = float(input(\"Mesure en degré : \"))\n",
    "        # On affiche le résultat en pensant à convertir en chaine de caractères\n",
    "        print(\"Mesure en radian : \" + str(deg_en_rad(deg)))\n",
    "        # On demande si l'on souhaite continuer (cela permet aussi de mieux \n",
    "        # voir le résultat avant d'être submergé par le menu)\n",
    "        continuer = demande_continuer()\n",
    "    elif choix == \"2\":\n",
    "        # De même dans l'autre sens de conversion\n",
    "        rad = float(input(\"Mesure en radian : \"))\n",
    "        print(\"Mesure en degré : \" + str(rad_en_deg(rad)))\n",
    "        continuer = demande_continuer()\n",
    "    elif choix == \"q\":\n",
    "        # On veut quitter\n",
    "        continuer = False\n",
    "    else:\n",
    "        print(\"Option inconnue\")\n",
    "\n",
    "print(\"\\nCe convertisseur vous est juteusement offert par la Clem's Foundation\")\n"
   ]
  },
  {
   "cell_type": "code",
   "execution_count": null,
   "metadata": {},
   "outputs": [],
   "source": []
  }
 ],
 "metadata": {
  "kernelspec": {
   "display_name": "Python 3",
   "language": "python",
   "name": "python3"
  },
  "language_info": {
   "codemirror_mode": {
    "name": "ipython",
    "version": 3
   },
   "file_extension": ".py",
   "mimetype": "text/x-python",
   "name": "python",
   "nbconvert_exporter": "python",
   "pygments_lexer": "ipython3",
   "version": "3.7.3"
  }
 },
 "nbformat": 4,
 "nbformat_minor": 4
}
