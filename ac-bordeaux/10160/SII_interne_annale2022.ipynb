{
 "cells": [
  {
   "cell_type": "code",
   "execution_count": null,
   "id": "3826674a",
   "metadata": {},
   "outputs": [],
   "source": [
    "## Annale Agrégation Interne 2022"
   ]
  },
  {
   "cell_type": "code",
   "execution_count": null,
   "id": "a0ba9afb",
   "metadata": {},
   "outputs": [],
   "source": [
    "## Question 10 : Compléter la fonction suivante du bloc représentant l’ensemble variateur et moteur asynchrone"
   ]
  },
  {
   "cell_type": "code",
   "execution_count": null,
   "id": "8804e7c9",
   "metadata": {},
   "outputs": [],
   "source": [
    "### Aide provenant des questions précédentes : \n",
    " \n",
    "    Cnom = K*(ns-n)\n",
    "    \n",
    "    f = omega/(2*pi)\n",
    "    \n",
    "On rappelle également que la relation de la puissance mécanique en rotation est : \n",
    "    P = C*omega\n",
    "    C : couple en N.m\n",
    "    omega : vitesse de rotation en rad.s-1  "
   ]
  },
  {
   "cell_type": "code",
   "execution_count": null,
   "id": "7eb174a3",
   "metadata": {
    "lines_to_next_cell": 2
   },
   "outputs": [],
   "source": [
    "function n = fcn(f,C)\n",
    "    Pnom=2200\n",
    "    Nnom=2870\n",
    "    Nsnom=3000\n",
    "    ns=60*f\n",
    "    Cnom=Pnom/…\n",
    "    K=…\n",
    "    n=…"
   ]
  },
  {
   "cell_type": "code",
   "execution_count": null,
   "id": "df2e3670",
   "metadata": {},
   "outputs": [],
   "source": [
    "## Implémenter la fonction précédente en python.\n",
    " - Vérifier la valeur de la vitesse de rotation du rotor pour (f = 50Hz, C = 7.32 N.m)\n",
    "    On doit obtenir n = 2870 t.m-1\n",
    " - Donner la valeur de n pour une autre fréquence et valeur de couple ((f = 49Hz, C = 7.1 N.m))\n",
    "    On doit obtenir n = 2813 t.m-1"
   ]
  },
  {
   "cell_type": "code",
   "execution_count": null,
   "id": "50f03d1e",
   "metadata": {},
   "outputs": [],
   "source": []
  }
 ],
 "metadata": {
  "jupytext": {
   "formats": "py:light",
   "text_representation": {
    "extension": ".py",
    "format_name": "light",
    "format_version": "1.5",
    "jupytext_version": "1.14.1"
   }
  },
  "kernelspec": {
   "display_name": "Python 3 (ipykernel)",
   "language": "python",
   "name": "python3"
  }
 },
 "nbformat": 4,
 "nbformat_minor": 5
}
