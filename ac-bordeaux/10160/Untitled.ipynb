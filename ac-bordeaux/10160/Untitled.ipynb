{
 "cells": [
  {
   "cell_type": "code",
   "execution_count": 1,
   "metadata": {},
   "outputs": [
    {
     "data": {
      "text/plain": [
       "255"
      ]
     },
     "execution_count": 1,
     "metadata": {},
     "output_type": "execute_result"
    }
   ],
   "source": [
    "import cv2\n",
    "import rospy\n",
    "from poppy_controllers.srv import GetImage\n",
    "from cv_bridge import CvBridge\n",
    "\n",
    "get_image = rospy.ServiceProxy(\"get_image\", GetImage)\n",
    "response = get_image()\n",
    "bridge = CvBridge()\n",
    "image = bridge.imgmsg_to_cv2(response.image)\n",
    "cv2.imshow(\"Poppy camera\", image)\n",
    "cv2.waitKey(200)"
   ]
  },
  {
   "cell_type": "code",
   "execution_count": 1,
   "metadata": {},
   "outputs": [
    {
     "data": {
      "text/plain": [
       "True"
      ]
     },
     "execution_count": 1,
     "metadata": {},
     "output_type": "execute_result"
    }
   ],
   "source": [
    "import rospy\n",
    "from poppy_ros_control.recorder import Recorder\n",
    "\n",
    "rospy.init_node(\"trajectory_recorder\")\n",
    "r = Recorder()\n",
    "r.start_recording()\n",
    "\n",
    "# Move your robot with your hands in compliant mode to record its trajectory\n",
    "rospy.sleep(5)\n",
    "\n",
    "r.stop_and_save(\"my_motion_name\")"
   ]
  },
  {
   "cell_type": "code",
   "execution_count": 3,
   "metadata": {},
   "outputs": [
    {
     "ename": "RuntimeError",
     "evalue": "Unable to construct robot model. Please make sure all needed information is on the parameter server.",
     "output_type": "error",
     "traceback": [
      "\u001b[0;31m---------------------------------------------------------------------------\u001b[0m",
      "\u001b[0;31mRuntimeError\u001b[0m                              Traceback (most recent call last)",
      "\u001b[0;32m<ipython-input-3-82f1e002443b>\u001b[0m in \u001b[0;36m<module>\u001b[0;34m\u001b[0m\n\u001b[1;32m      5\u001b[0m \u001b[0;34m\u001b[0m\u001b[0m\n\u001b[1;32m      6\u001b[0m \u001b[0mrospy\u001b[0m\u001b[0;34m.\u001b[0m\u001b[0minit_node\u001b[0m\u001b[0;34m(\u001b[0m\u001b[0;34m\"trajectory_player\"\u001b[0m\u001b[0;34m)\u001b[0m\u001b[0;34m\u001b[0m\u001b[0;34m\u001b[0m\u001b[0m\n\u001b[0;32m----> 7\u001b[0;31m \u001b[0mcommander\u001b[0m \u001b[0;34m=\u001b[0m \u001b[0mMoveGroupCommander\u001b[0m\u001b[0;34m(\u001b[0m\u001b[0;34m\"arm_and_finger\"\u001b[0m\u001b[0;34m)\u001b[0m\u001b[0;34m\u001b[0m\u001b[0;34m\u001b[0m\u001b[0m\n\u001b[0m\u001b[1;32m      8\u001b[0m \u001b[0mplayer\u001b[0m \u001b[0;34m=\u001b[0m \u001b[0mPlayer\u001b[0m\u001b[0;34m(\u001b[0m\u001b[0;34m)\u001b[0m\u001b[0;34m\u001b[0m\u001b[0;34m\u001b[0m\u001b[0m\n\u001b[1;32m      9\u001b[0m \u001b[0;34m\u001b[0m\u001b[0m\n",
      "\u001b[0;32m/opt/ros/noetic/lib/python3/dist-packages/moveit_commander/move_group.py\u001b[0m in \u001b[0;36m__init__\u001b[0;34m(self, name, robot_description, ns, wait_for_servers)\u001b[0m\n\u001b[1;32m     51\u001b[0m     \u001b[0;32mdef\u001b[0m \u001b[0m__init__\u001b[0m\u001b[0;34m(\u001b[0m\u001b[0mself\u001b[0m\u001b[0;34m,\u001b[0m \u001b[0mname\u001b[0m\u001b[0;34m,\u001b[0m \u001b[0mrobot_description\u001b[0m\u001b[0;34m=\u001b[0m\u001b[0;34m\"robot_description\"\u001b[0m\u001b[0;34m,\u001b[0m \u001b[0mns\u001b[0m\u001b[0;34m=\u001b[0m\u001b[0;34m\"\"\u001b[0m\u001b[0;34m,\u001b[0m \u001b[0mwait_for_servers\u001b[0m\u001b[0;34m=\u001b[0m\u001b[0;36m5.0\u001b[0m\u001b[0;34m)\u001b[0m\u001b[0;34m:\u001b[0m\u001b[0;34m\u001b[0m\u001b[0;34m\u001b[0m\u001b[0m\n\u001b[1;32m     52\u001b[0m         \u001b[0;34m\"\"\" Specify the group name for which to construct this commander instance. Throws an exception if there is an initialization error. \"\"\"\u001b[0m\u001b[0;34m\u001b[0m\u001b[0;34m\u001b[0m\u001b[0m\n\u001b[0;32m---> 53\u001b[0;31m         \u001b[0mself\u001b[0m\u001b[0;34m.\u001b[0m\u001b[0m_g\u001b[0m \u001b[0;34m=\u001b[0m \u001b[0m_moveit_move_group_interface\u001b[0m\u001b[0;34m.\u001b[0m\u001b[0mMoveGroupInterface\u001b[0m\u001b[0;34m(\u001b[0m\u001b[0mname\u001b[0m\u001b[0;34m,\u001b[0m \u001b[0mrobot_description\u001b[0m\u001b[0;34m,\u001b[0m \u001b[0mns\u001b[0m\u001b[0;34m,\u001b[0m \u001b[0mwait_for_servers\u001b[0m\u001b[0;34m)\u001b[0m\u001b[0;34m\u001b[0m\u001b[0;34m\u001b[0m\u001b[0m\n\u001b[0m\u001b[1;32m     54\u001b[0m \u001b[0;34m\u001b[0m\u001b[0m\n\u001b[1;32m     55\u001b[0m     \u001b[0;32mdef\u001b[0m \u001b[0mget_name\u001b[0m\u001b[0;34m(\u001b[0m\u001b[0mself\u001b[0m\u001b[0;34m)\u001b[0m\u001b[0;34m:\u001b[0m\u001b[0;34m\u001b[0m\u001b[0;34m\u001b[0m\u001b[0m\n",
      "\u001b[0;31mRuntimeError\u001b[0m: Unable to construct robot model. Please make sure all needed information is on the parameter server."
     ]
    }
   ],
   "source": [
    "import rospy\n",
    "from poppy_ros_control.recorder import Player\n",
    "from moveit_commander.move_group import MoveGroupCommander\n",
    "\n",
    "\n",
    "rospy.init_node(\"trajectory_player\")\n",
    "commander = MoveGroupCommander(\"arm_and_finger\")\n",
    "player = Player()\n",
    "\n",
    "# This returns a moveit_msgs/RobotTrajectory object representing the recorded trajectory\n",
    "my_motion = player.load(\"my_motion_name\")\n",
    "\n",
    "# Go to the start position before replaying the motion\n",
    "commander.set_joint_value_target(my_motion.joint_trajectory.points[0].positions)\n",
    "commander.go()\n",
    "\n",
    "# Replay the exact same motion\n",
    "commander.execute(my_motion)"
   ]
  },
  {
   "cell_type": "code",
   "execution_count": null,
   "metadata": {},
   "outputs": [],
   "source": []
  }
 ],
 "metadata": {
  "kernelspec": {
   "display_name": "Python 3",
   "language": "python",
   "name": "python3"
  },
  "language_info": {
   "codemirror_mode": {
    "name": "ipython",
    "version": 3
   },
   "file_extension": ".py",
   "mimetype": "text/x-python",
   "name": "python",
   "nbconvert_exporter": "python",
   "pygments_lexer": "ipython3",
   "version": "3.7.3"
  }
 },
 "nbformat": 4,
 "nbformat_minor": 4
}
