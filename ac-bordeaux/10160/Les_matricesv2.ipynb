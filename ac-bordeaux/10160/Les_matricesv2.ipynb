{
 "cells": [
  {
   "cell_type": "markdown",
   "metadata": {},
   "source": [
    "# Les Matrices en Python"
   ]
  },
  {
   "cell_type": "markdown",
   "metadata": {},
   "source": [
    "## Déclaration d'une matrice et accès aux éléments\n"
   ]
  },
  {
   "cell_type": "code",
   "execution_count": 9,
   "metadata": {},
   "outputs": [
    {
     "name": "stdout",
     "output_type": "stream",
     "text": [
      "-1\n",
      "([3, 1, 5, 45], [9, 8, -1, 44], [10, 12, 2, 43])\n",
      "3\n",
      "4\n",
      "(3, 4)\n"
     ]
    }
   ],
   "source": [
    "from numpy import *\n",
    "\n",
    "mat = ([3, 1, 5, 45], [9, 8, -1, 44], [10, 12, 2, 43 ])\n",
    "#accès à un élement\n",
    "print(mat[1][2])  # renvoie -1\n",
    "#accès à la matrice\n",
    "print(mat)\n",
    "\n",
    "#dimension de la matrice (3*3)\n",
    "# avec len\n",
    "print(len(mat)) #nombre de lignes\n",
    "print(len(mat[0])) # nombre de colonne\n",
    "# en utilisant shape      \n",
    "print(shape(mat))\n",
    "\n",
    "\n"
   ]
  }
 ],
 "metadata": {
  "kernelspec": {
   "display_name": "Python 3",
   "language": "python",
   "name": "python3"
  },
  "language_info": {
   "codemirror_mode": {
    "name": "ipython",
    "version": 3
   },
   "file_extension": ".py",
   "mimetype": "text/x-python",
   "name": "python",
   "nbconvert_exporter": "python",
   "pygments_lexer": "ipython3",
   "version": "3.11.2"
  }
 },
 "nbformat": 4,
 "nbformat_minor": 2
}
