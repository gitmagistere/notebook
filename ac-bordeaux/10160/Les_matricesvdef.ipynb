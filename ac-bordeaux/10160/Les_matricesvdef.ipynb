{
 "cells": [
  {
   "cell_type": "markdown",
   "metadata": {},
   "source": [
    "# Les Matrices en Python\n",
    "[Les matrices en Python](https://developpement-informatique.com/article/229/les-matrices-en-python)"
   ]
  },
  {
   "cell_type": "markdown",
   "metadata": {},
   "source": [
    "## Déclaration d'une matrice et accès aux éléments\n"
   ]
  },
  {
   "cell_type": "code",
   "execution_count": null,
   "metadata": {},
   "outputs": [],
   "source": [
    "import numpy as np\n",
    "\n",
    "mat = np.array(([3, 1, 5, 45], [9, 8, -1, 44], [10, 12, 2, 43 ]))\n",
    "#accès à un élement\n",
    "print(\"mat[1][2] : \", mat[1][2])  # renvoie -1\n",
    "#accès à la matrice\n",
    "print(\"mat : \\n\",  mat)\n",
    "\n",
    "#dimension de la matrice (3*3)\n",
    "# avec len\n",
    "print(\"Nombre de lignes :\", len(mat)) #nombre de lignes\n",
    "print(\"Nombre de colonnes :\", len(mat[0])) # nombre de colonnes\n",
    "# en utilisant shape de numpy    \n",
    "print(\"Avec shape : \",  np.shape(mat))\n",
    "\n",
    "#initialiser à zero un tableau\n",
    "tab = np.zeros((2,3))\n",
    "print(\"matrice de zero\" , tab)\n"
   ]
  },
  {
   "cell_type": "markdown",
   "metadata": {},
   "source": [
    "## Opérations sur les matrices\n",
    "### Addition"
   ]
  },
  {
   "cell_type": "code",
   "execution_count": null,
   "metadata": {},
   "outputs": [],
   "source": [
    "import numpy as np\n",
    " \n",
    "A = np.array([ [3, 1, 5], [9, 8, -1], [10, 12, 2] ])\n",
    "B = np.array([ [8, -1, 8], [2, 1, 3], [18, 2, 32] ])\n",
    " \n",
    "C= A + B\n",
    "print(\"A : \\n\", A)\n",
    "print(\"B : \\n\", B)\n",
    "print(\"A + B : \\n\", C)"
   ]
  },
  {
   "cell_type": "markdown",
   "metadata": {},
   "source": [
    "### Multiplication\n",
    "* Pour multiplier deux matrices, nous utilisons la méthode `dot()`"
   ]
  },
  {
   "cell_type": "code",
   "execution_count": null,
   "metadata": {},
   "outputs": [],
   "source": [
    "import numpy as np\n",
    " \n",
    "A = np.array([ [3, 1, 5], [9, 8, -1], [10, 12, 2] ])\n",
    "B = np.array([ [8, -1, 8], [2, 1, 3], [18, 2, 32] ])\n",
    " \n",
    "C = A.dot(B)\n",
    " \n",
    "print(\"A : \\n\", A)\n",
    "print(\"B : \\n\", B)\n",
    "print(\"A * B : \\n\", C)"
   ]
  },
  {
   "cell_type": "markdown",
   "metadata": {},
   "source": [
    "### Transposée d'une matrice\n",
    "\n",
    "Nous utilisons la méthode `transpose()` pour calculer la transposée d’une matrice."
   ]
  },
  {
   "cell_type": "code",
   "execution_count": null,
   "metadata": {},
   "outputs": [],
   "source": [
    "import numpy as np\n",
    " \n",
    "A = np.array([ [3, 1, 5], [9, 8, -1], [10, 12, 2] ])\n",
    " \n",
    "C = A.transpose()\n",
    " \n",
    "print(\"A : \\n\", A)\n",
    "print(\"Transposée de A : \\n\", C)"
   ]
  },
  {
   "cell_type": "markdown",
   "metadata": {},
   "source": [
    "### Inverse d'une matrice\n",
    "* Sous numpy, en utilisant la methode Linear algebra (`numpy.linalg.inv()`) "
   ]
  },
  {
   "cell_type": "code",
   "execution_count": null,
   "metadata": {},
   "outputs": [],
   "source": [
    "import numpy as np\n",
    "\n",
    "A = np.array(([1,3,3],[1,4,3],[1,3,4]))\n",
    "\n",
    "A_inv = np.linalg.inv(A)\n",
    "\n",
    "print(\"A : \\n\", A)\n",
    "print(\"Inverse de A : \\n\", A_inv)\n"
   ]
  }
 ],
 "metadata": {
  "kernelspec": {
   "display_name": "Python 3",
   "language": "python",
   "name": "python3"
  },
  "language_info": {
   "codemirror_mode": {
    "name": "ipython",
    "version": 3
   },
   "file_extension": ".py",
   "mimetype": "text/x-python",
   "name": "python",
   "nbconvert_exporter": "python",
   "pygments_lexer": "ipython3",
   "version": "3.11.2"
  }
 },
 "nbformat": 4,
 "nbformat_minor": 2
}
