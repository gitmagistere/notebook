{
 "cells": [
  {
   "cell_type": "markdown",
   "metadata": {},
   "source": [
    "# Structures de contrôle"
   ]
  },
  {
   "cell_type": "markdown",
   "metadata": {},
   "source": [
    "Proposez un programme qui calcule la racine carrée rx d'un nombre réel x en vérifiant au préalable que ce nombre est bien positif. \n",
    "Si x est négatif le programme affectera à une variable err la valeur -1 signalant ainsi une erreur.\n",
    "On pourra utiliser un appel à la fonction sqrt() de la bibliothèque mathématique."
   ]
  },
  {
   "cell_type": "code",
   "execution_count": null,
   "metadata": {},
   "outputs": [],
   "source": [
    "import math\n",
    "\n",
    "x = -12\n",
    "\n",
    "if (x > 0 ):\n",
    "    racine = math.sqrt(x);\n",
    "    print(\"La racine de \",x,\" est : \",racine)\n",
    "else:\n",
    "    print(\"Impossible de calculer la racine x < 0\")\n"
   ]
  },
  {
   "cell_type": "markdown",
   "metadata": {},
   "source": [
    "Proposez un programme qui calcule le max de 3 entiers a, b et c en effectuant un nombre de tests minimum."
   ]
  },
  {
   "cell_type": "code",
   "execution_count": null,
   "metadata": {},
   "outputs": [],
   "source": [
    "a = 12\n",
    "b = 6 \n",
    "c = 341\n",
    "\n",
    "max = a \n",
    "\n",
    "if (b > max):\n",
    "    max = b\n",
    "if (c > max):\n",
    "    max = c\n",
    "print(\"le max de\",a,\",\",b,\"et\",c,\"est\", max )\n",
    "    \n"
   ]
  },
  {
   "cell_type": "markdown",
   "metadata": {},
   "source": [
    "Proposez un programme qui calcule la somme sum des 100 premiers entiers positifs (avec une boucle while et une boucle for)"
   ]
  },
  {
   "cell_type": "code",
   "execution_count": null,
   "metadata": {},
   "outputs": [],
   "source": [
    "s = 0\n",
    "\n",
    "i = 1\n",
    "while (i<=100):\n",
    "    s = s + i\n",
    "    i+=1\n",
    "print(\"Somme : \",s)\n",
    "    "
   ]
  },
  {
   "cell_type": "code",
   "execution_count": null,
   "metadata": {},
   "outputs": [],
   "source": [
    "s = 0\n",
    "for i in range(1,101):\n",
    "    s += i\n",
    "print(\"Somme : \",s)"
   ]
  },
  {
   "cell_type": "markdown",
   "metadata": {},
   "source": [
    "Proposez un programme qui calcule les racines d'un polynôme du second degré. Le polynôme ax2+bx+c est\n",
    "implémenté par trois variables réelles a, b et c. Une variable nbRacine indique le nombre de\n",
    "racines trouvées. Le résultat est stocké dans les deux variables x1 et x2 le cas échéant.\n",
    "Tester le programme avec les polynomes suivants : \n",
    "    2x² - 5x- 3 = 0 (x1 = -0.5 ; x2 = 3)\n",
    "    x² - 4x + 5 = 0 (Delta < 0)\n",
    "    9x² + 6x + 1 = 0 (delta = 0, x1 = x2 = -1/3)"
   ]
  },
  {
   "cell_type": "code",
   "execution_count": 17,
   "metadata": {},
   "outputs": [
    {
     "name": "stdout",
     "output_type": "stream",
     "text": [
      "Pour le polynome 9 x2 + 6 x + 1 il y a\n",
      "Delta =  0.0 ; nbRacine =  1\n",
      "x1 =  -0.3333333333333333\n"
     ]
    }
   ],
   "source": [
    "import math\n",
    "\n",
    "a=9\n",
    "b=6\n",
    "c=1\n",
    "delta = math.pow(b,2) - 4*a*c\n",
    "print(\"Pour le polynome\",a,\"x2 +\",b,\"x +\",c,\"il y a\")\n",
    "if delta > 0 :\n",
    "    nbRacine = 2\n",
    "    x1 = (-b - math.sqrt(delta))/(2*a)\n",
    "    x2 = (-b + math.sqrt(delta))/(2*a)\n",
    "    print(\"Delta = \", delta, \"; nbRacine = \",nbRacine)\n",
    "    print(\"x1 = \",x1, \"; x2 = \",x2)\n",
    "elif delta == 0:\n",
    "    nbRacine = 1\n",
    "    x1 = -b / (2*a)\n",
    "    print(\"Delta = \", delta, \"; nbRacine = \",nbRacine)\n",
    "    print(\"x1 = \",x1)\n",
    "else:\n",
    "    nbRacine = 0;\n",
    "    print(\"Delta = \", delta, \"; nbRacine = \",nbRacine)"
   ]
  }
 ],
 "metadata": {
  "celltoolbar": "Format de la Cellule Texte Brut",
  "kernelspec": {
   "display_name": "Python 3",
   "language": "python",
   "name": "python3"
  },
  "language_info": {
   "codemirror_mode": {
    "name": "ipython",
    "version": 3
   },
   "file_extension": ".py",
   "mimetype": "text/x-python",
   "name": "python",
   "nbconvert_exporter": "python",
   "pygments_lexer": "ipython3",
   "version": "3.7.3"
  }
 },
 "nbformat": 4,
 "nbformat_minor": 4
}
