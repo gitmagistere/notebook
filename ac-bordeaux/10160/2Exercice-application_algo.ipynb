{
 "cells": [
  {
   "cell_type": "markdown",
   "metadata": {},
   "source": [
    "# Structures de contrôle"
   ]
  },
  {
   "cell_type": "markdown",
   "metadata": {},
   "source": [
    "**Exercice 1** \n",
    "Proposez un programme qui calcule la racine carrée rx d'un nombre réel x en vérifiant au préalable que ce nombre est bien positif. \n",
    "Si x est négatif le programme affectera à une variable err la valeur -1 signalant ainsi une erreur.\n",
    "On pourra utiliser un appel à la fonction sqrt() de la bibliothèque mathématique."
   ]
  },
  {
   "cell_type": "code",
   "execution_count": null,
   "metadata": {},
   "outputs": [],
   "source": [
    "import math\n",
    "\n",
    "x = 9\n",
    "\n",
    "#A compléter"
   ]
  },
  {
   "cell_type": "markdown",
   "metadata": {},
   "source": [
    "**Exercice 2** \n",
    "Proposez un programme qui calcule le max de 3 entiers a, b et c en effectuant un nombre de tests minimum."
   ]
  },
  {
   "cell_type": "code",
   "execution_count": null,
   "metadata": {},
   "outputs": [],
   "source": [
    "a = 12\n",
    "b = 6 \n",
    "c = 341\n",
    "\n",
    "#A compléter"
   ]
  },
  {
   "cell_type": "markdown",
   "metadata": {},
   "source": [
    "**Exercice 3** Proposez un programme qui calcule la somme sum des 100 premiers entiers positifs (avec une boucle while et une boucle for) Résultat 5050"
   ]
  },
  {
   "cell_type": "code",
   "execution_count": null,
   "metadata": {},
   "outputs": [],
   "source": [
    "#A compléter"
   ]
  },
  {
   "cell_type": "code",
   "execution_count": null,
   "metadata": {},
   "outputs": [],
   "source": [
    "#A compléter"
   ]
  },
  {
   "cell_type": "markdown",
   "metadata": {},
   "source": [
    "**Exercice 4** Proposez un programme qui calcule les racines d'un polynôme du second degré. Le polynôme ax2+bx+c est\n",
    "implémenté par trois variables réelles a, b et c. \n",
    "Une variable nbRacine indique le nombre de racines trouvées. Le résultat est stocké dans les deux variables x1 et x2 le cas échéant.\n",
    "\n",
    "Tester le programme avec les polynomes suivants : \n",
    "```\n",
    "    2x² - 5x- 3 = 0 (x1 = -0.5 ; x2 = 3)\n",
    "    x² - 4x + 5 = 0 (Delta < 0)\n",
    "    9x² + 6x + 1 = 0 (delta = 0, x1 = x2 = -1/3)\n",
    "```"
   ]
  },
  {
   "cell_type": "code",
   "execution_count": null,
   "metadata": {},
   "outputs": [],
   "source": [
    "import math\n",
    "\n",
    "a=2\n",
    "b=-5\n",
    "c=-3\n",
    "\n",
    "#A compléter"
   ]
  }
 ],
 "metadata": {
  "celltoolbar": "Format de la Cellule Texte Brut",
  "kernelspec": {
   "display_name": "Python 3",
   "language": "python",
   "name": "python3"
  },
  "language_info": {
   "codemirror_mode": {
    "name": "ipython",
    "version": 3
   },
   "file_extension": ".py",
   "mimetype": "text/x-python",
   "name": "python",
   "nbconvert_exporter": "python",
   "pygments_lexer": "ipython3",
   "version": "3.7.3"
  }
 },
 "nbformat": 4,
 "nbformat_minor": 4
}
