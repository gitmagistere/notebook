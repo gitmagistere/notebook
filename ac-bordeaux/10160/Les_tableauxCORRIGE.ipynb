{
 "cells": [
  {
   "cell_type": "markdown",
   "metadata": {},
   "source": [
    "# Les tableaux"
   ]
  },
  {
   "cell_type": "markdown",
   "metadata": {},
   "source": [
    "Faire un programme qui calcule le minimum du tableau ci-dessous\n",
    "Vous utiliserez la fonction len() pour connaitre la taille du tableau"
   ]
  },
  {
   "cell_type": "code",
   "execution_count": null,
   "metadata": {},
   "outputs": [],
   "source": [
    "notes = [12.5, 15.0, 18.0,  9.5, 10.0, 11.5, 10.0,  9.0,  \n",
    "         7.0, 12.0, 14.0, 13.5,  5.5, 10.0, 15.0, 18.0, 19.0, \n",
    "         12.0, 14.5, 13.0,20.0,  9.5,  9.5, 10.0, 12.0,  2.0, 11.0,  7.0 ]\n",
    "\n",
    "min = notes[0]\n",
    "\n",
    "#print(len(notes))\n",
    "\n",
    "for i in range(len(notes)):\n",
    "    if notes[i] < min :\n",
    "        min = notes[i]\n",
    "\n",
    "print(min)"
   ]
  },
  {
   "cell_type": "markdown",
   "metadata": {},
   "source": [
    "Faire un programme qui calcule le maximum du tableau ci-dessous\n",
    "Vous utiliserez la fonction len() pour connaitre la taille du tableau"
   ]
  },
  {
   "cell_type": "code",
   "execution_count": null,
   "metadata": {},
   "outputs": [],
   "source": [
    "notes = [12.5, 15.0, 18.0,  9.5, 10.0, 11.5, 10.0,  9.0,  \n",
    "         7.0, 12.0, 14.0, 13.5,  5.5, 10.0, 15.0, 18.0, 19.0, \n",
    "         12.0, 14.5, 13.0,20.0,  9.5,  9.5, 10.0, 12.0,  2.0, 11.0,  7.0 ]\n",
    "\n",
    "max = notes[0]\n",
    "\n",
    "#print(len(notes))\n",
    "\n",
    "for i in range(len(notes)):\n",
    "    if notes[i] > max :\n",
    "        max = notes[i]\n",
    "\n",
    "print(max)"
   ]
  },
  {
   "cell_type": "markdown",
   "metadata": {},
   "source": [
    "Faire un programme qui calcule le moyenne puis l'ecart type du tableau ci-dessous"
   ]
  },
  {
   "cell_type": "code",
   "execution_count": null,
   "metadata": {},
   "outputs": [],
   "source": [
    "import math\n",
    "\n",
    "notes = [12.5, 15.0, 18.0,  9.5, 10.0, 11.5, 10.0,  9.0,  \n",
    "         7.0, 12.0, 14.0, 13.5,  5.5, 10.0, 15.0, 18.0, 19.0, \n",
    "         12.0, 14.5, 13.0,20.0,  9.5,  9.5, 10.0, 12.0,  2.0, 11.0,  7.0 ]\n",
    "\n",
    "moyenne = 0\n",
    "max = notes[0]\n",
    "\n",
    "#print(len(notes))\n",
    "\n",
    "for i in range(len(notes)):\n",
    "    moyenne = moyenne + notes[i]\n",
    "    \n",
    "moyenne = moyenne/len(notes)\n",
    "\n",
    "print(\"Moyenne\", moyenne)\n",
    "\n",
    "ecartType = 0\n",
    "for i in range(len(notes)):\n",
    "    ecartType += math.pow(notes[i]-moyenne,2)\n",
    "    \n",
    "ecartType = math.sqrt(ecartType/(len(notes)-1))\n",
    "                      \n",
    "print(\"EcartType\", ecartType)\n"
   ]
  }
 ],
 "metadata": {
  "kernelspec": {
   "display_name": "Python 3",
   "language": "python",
   "name": "python3"
  },
  "language_info": {
   "codemirror_mode": {
    "name": "ipython",
    "version": 3
   },
   "file_extension": ".py",
   "mimetype": "text/x-python",
   "name": "python",
   "nbconvert_exporter": "python",
   "pygments_lexer": "ipython3",
   "version": "3.7.3"
  }
 },
 "nbformat": 4,
 "nbformat_minor": 4
}
