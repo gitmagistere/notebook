{
 "cells": [
  {
   "cell_type": "markdown",
   "metadata": {},
   "source": [
    "Proposez un programme qui calcule la racine carrée rx d'un nombre réel x en vérifiant au préalable que ce nombre est bien positif. \n",
    "Si x est négatif le programme affectera à une variable err la valeur -1 signalant ainsi une erreur.\n",
    "On pourra utiliser un appel à la fonction sqrt() de la bibliothèque mathématique."
   ]
  },
  {
   "cell_type": "code",
   "execution_count": 13,
   "metadata": {},
   "outputs": [
    {
     "name": "stdout",
     "output_type": "stream",
     "text": [
      "Impossible de calculer la racine x < 0\n"
     ]
    }
   ],
   "source": [
    "import math\n",
    "\n",
    "x = -12\n",
    "\n",
    "if (x > 0 ):\n",
    "    racine = math.sqrt(x);\n",
    "    print(\"La racine de \",x,\" est : \",racine)\n",
    "else:\n",
    "    print(\"Impossible de calculer la racine x < 0\")\n"
   ]
  },
  {
   "cell_type": "markdown",
   "metadata": {},
   "source": [
    "Proposez un programme qui calcule le max de 3 entiers a, b et c en effectuant un nombre de tests minimum."
   ]
  },
  {
   "cell_type": "code",
   "execution_count": 23,
   "metadata": {},
   "outputs": [
    {
     "name": "stdout",
     "output_type": "stream",
     "text": [
      "le max de 12 , 6 et 341 est 341\n"
     ]
    }
   ],
   "source": [
    "a = 12\n",
    "b = 6 \n",
    "c = 341\n",
    "\n",
    "max = a \n",
    "\n",
    "if (b > max):\n",
    "    max = b\n",
    "if (c > max):\n",
    "    max = c\n",
    "print(\"le max de\",a,\",\",b,\"et\",c,\"est\", max )\n",
    "    \n"
   ]
  },
  {
   "cell_type": "code",
   "execution_count": null,
   "metadata": {},
   "outputs": [],
   "source": []
  }
 ],
 "metadata": {
  "kernelspec": {
   "display_name": "Python 3",
   "language": "python",
   "name": "python3"
  },
  "language_info": {
   "codemirror_mode": {
    "name": "ipython",
    "version": 3
   },
   "file_extension": ".py",
   "mimetype": "text/x-python",
   "name": "python",
   "nbconvert_exporter": "python",
   "pygments_lexer": "ipython3",
   "version": "3.7.3"
  }
 },
 "nbformat": 4,
 "nbformat_minor": 4
}
