{
 "cells": [
  {
   "cell_type": "markdown",
   "metadata": {},
   "source": [
    "## Annale 2023 \n",
    "### La Philharmonie de Paris\n",
    "* Questions Q7 à Q11"
   ]
  },
  {
   "cell_type": "markdown",
   "metadata": {},
   "source": [
    "__Question 7 :__ \n",
    "Exprimer dans le langage Python, la ligne permettant d’estimer\n",
    "l’amplitude du mouvement (distance entre les deux points p0 et p1) entre les deux\n",
    "instants t et t+δt. On notera l’amplitude par la variable distance"
   ]
  },
  {
   "cell_type": "code",
   "execution_count": null,
   "metadata": {},
   "outputs": [],
   "source": [
    "import math\n",
    "\n",
    "# Exemple de coordonnées sur une images de taille 563*1000 (y*x)\n",
    "p0 = (540, 300) # y = 540, x = 300\n",
    "p1 = (530, 310) # y = 540, x = 300\n",
    "\n",
    "dx = 1.4e-3\n",
    "print(dx)\n",
    "distance = dx*math.sqrt((p1[0]-p0[0])**2+(p1[1]-p0[1])**2)\n",
    "\n",
    "print(\"distance : \", distance)"
   ]
  },
  {
   "cell_type": "markdown",
   "metadata": {},
   "source": [
    "__Question 8 :__ en utilisant la formule de Taylor à l’ordre 1, proposer une approximation\n",
    "de I(x+δx, y+δy, t+δt) en fonction de I(x,y,t), de ses dérivées partielles ∂I/∂x , ∂I/∂y , ∂I/∂t et\n",
    "des petites variations δx, δy, δt."
   ]
  },
  {
   "cell_type": "markdown",
   "metadata": {},
   "source": [
    "* Formule de Taylor à l'ordre 1  \n",
    "f(x0 + h) = f(x0) + h*f′(x0)\n",
    "\n",
    "Soit  \n",
    "I(x+δx,y+δy,t+δt) ≈ I(x,y,t)+ ∂I/∂x * δx+ ∂I/∂y * δy+ ∂I/∂t * δt\n",
    "\n",
    "* En utilisant l'approximation I(x+δx,y+δy,t+δt) ≈ I(x,y,t) et avec v=d/t  \n",
    "∂I/∂x * vx + ∂I/∂y * vy = - ∂I/∂t "
   ]
  },
  {
   "cell_type": "markdown",
   "metadata": {},
   "source": [
    "Question 9 :   \n",
    "Expliciter les expressions des matrices A et P en fonction des Ix(pi), Iy(pi) et It(pi)"
   ]
  },
  {
   "attachments": {
    "image.png": {
     "image/png": "[encoded data removed]"
    }
   },
   "cell_type": "markdown",
   "metadata": {},
   "source": [
    "![image.png](attachment:image.png)"
   ]
  },
  {
   "cell_type": "markdown",
   "metadata": {},
   "source": [
    "Question Q10 :    \n",
    "Compléter le DR1 pour définir la fonction derive_temp(l1, l2, dt)   \n",
    "[Résolution d'équations différentielle en TS](https://www.apmep.fr/IMG/pdf/AAA04008.pdf)\n",
    "\n",
    "* A retenir : Df ≈ f'(a) * Dt"
   ]
  },
  {
   "cell_type": "code",
   "execution_count": null,
   "metadata": {},
   "outputs": [],
   "source": [
    "from numpy import *\n",
    "# paramètres\n",
    "dtm = 0.09 # fréquence de 11Hz\n",
    "\n",
    "#on calcule la dérivée temporelle par la méthode d'Euler\n",
    "# tableau partiel sur 3 pixels de l'image\n",
    "I1m = array([ [540, 300], [541, 300], [542, 300] ])\n",
    "I2m = array([ [560, 300], [561, 301], [562, 300] ])\n",
    "\n",
    "def derive_temp(I1, I2, dt) :\n",
    "    (n,n) = shape(I1)\n",
    "    It = zeros((n,n), dtype = float32)\n",
    "    # a compléter\n",
    "    for i in range(n) :\n",
    "        for j in range(n) :\n",
    "            It[i,j] = (I2[i,j] - I1[i,j]) / dt\n",
    "    return It\n",
    "\n",
    "print(derive_temp(I1m, I2m, dtm))\n"
   ]
  },
  {
   "cell_type": "markdown",
   "metadata": {},
   "source": [
    "Q11 : Compléter DR1 pour définir la fonction liste(mat) prenant en argument un tableau et qui renvoit la liste correspondante"
   ]
  },
  {
   "cell_type": "code",
   "execution_count": null,
   "metadata": {},
   "outputs": [],
   "source": [
    "from numpy import *\n",
    "# paramètres\n",
    "dtm = 0.09 # fréquence de 11Hz\n",
    "\n",
    "# tableau partiel sur 3 pixels de l'image\n",
    "lt = array([[222.22223 , 0.] , [222.22224, 11.111111]])\n",
    "\n",
    "# print(lt)\n",
    "\n",
    "def liste(mat) :\n",
    "    pts = [] # on initialise la liste des points\n",
    "    (n,n) = shape(mat)\n",
    "    # A completer\n",
    "    print(mat)\n",
    "    for i in range(n) :\n",
    "        for j in range(n) :\n",
    "            pts.append(mat[i,j])\n",
    "    return(pts)\n",
    "\n",
    "print(liste(lt))"
   ]
  }
 ],
 "metadata": {
  "kernelspec": {
   "display_name": "Python 3",
   "language": "python",
   "name": "python3"
  },
  "language_info": {
   "codemirror_mode": {
    "name": "ipython",
    "version": 3
   },
   "file_extension": ".py",
   "mimetype": "text/x-python",
   "name": "python",
   "nbconvert_exporter": "python",
   "pygments_lexer": "ipython3",
   "version": "3.11.2"
  }
 },
 "nbformat": 4,
 "nbformat_minor": 2
}
