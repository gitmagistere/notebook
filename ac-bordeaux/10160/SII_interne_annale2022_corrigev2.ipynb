{
 "cells": [
  {
   "cell_type": "code",
   "execution_count": null,
   "id": "df841770",
   "metadata": {},
   "outputs": [],
   "source": [
    "## Annale Agrégation Interne 2022"
   ]
  },
  {
   "cell_type": "code",
   "execution_count": null,
   "id": "acb54ea4",
   "metadata": {},
   "outputs": [],
   "source": [
    "## Question 10 : Compléter la fonction suivante du bloc représentant l’ensemble variateur et moteur asynchrone"
   ]
  },
  {
   "cell_type": "code",
   "execution_count": null,
   "id": "926af8e3",
   "metadata": {},
   "outputs": [],
   "source": [
    "### Aide provenant des questions précédentes : \n",
    " \n",
    "    Cnom = K*(ns-n)\n",
    "    \n",
    "    f = omega/(2*pi)\n",
    "    \n",
    "On rappelle également que la relation de la puissance mécanique en rotation est : \n",
    "    P = C*omega\n",
    "    C : couple en N.m\n",
    "    omega : vitesse de rotation en rad.s-1    "
   ]
  },
  {
   "cell_type": "code",
   "execution_count": null,
   "id": "24e976eb",
   "metadata": {
    "lines_to_next_cell": 2
   },
   "outputs": [],
   "source": [
    "function n = fcn(f,C)\n",
    "    Pnom=2200\n",
    "    Nnom=2870\n",
    "    Nsnom=3000\n",
    "    ns=60*f\n",
    "    Cnom=Pnom/…\n",
    "    K=…\n",
    "    n=…"
   ]
  },
  {
   "cell_type": "code",
   "execution_count": null,
   "id": "546b1dd5",
   "metadata": {},
   "outputs": [],
   "source": [
    "function n = fcn(f,C)\n",
    "    Pnom=2200\n",
    "    Nnom=2870\n",
    "    Nsnom=3000\n",
    "    ns=60*f\n",
    "    Cnom=Pnom/(Nsnom*pi/30)\n",
    "    K=Cnom/(Nsnom-Nnom)\n",
    "    ns=60*f\n",
    "    n=ns-(C/K)"
   ]
  },
  {
   "cell_type": "code",
   "execution_count": null,
   "id": "e06b6daf",
   "metadata": {
    "lines_to_next_cell": 2
   },
   "outputs": [],
   "source": [
    "## Exemple pour quelques valeurs de f et C\n",
    "\n",
    "from math import pi\n",
    "\n",
    "def calculerVitesse(f,C):\n",
    "    Pnom=2200\n",
    "    Nnom=2870\n",
    "    Nsnom=3000\n",
    "    print(\"Nsnom : \" , Nsnom, \"tr.min-1\")\n",
    "    print(\"Pnom : \" , Pnom, \"Watt\")\n",
    "    #\n",
    "    ns=60*f\n",
    "    omega = (Nsnom * 2 * pi)/60\n",
    "    print(\"Omega : \" , omega, \"rad.s-1\")\n",
    "    Cnom=Pnom/(Nnom*pi/30)\n",
    "    print(\"Cnom :\", Cnom , \"N.m\" )\n",
    "    K=Cnom/(Nsnom-Nnom)\n",
    "    print(\"K  :\", K )\n",
    "    n=ns-(C/K)\n",
    "    return n\n",
    "\n",
    "vitesse = calculerVitesse(56,200)\n",
    "#print(vitesse)"
   ]
  },
  {
   "cell_type": "code",
   "execution_count": null,
   "id": "884f511b",
   "metadata": {},
   "outputs": [],
   "source": [
    "## Exemple pour quelques valeurs de f et C\n",
    "\n",
    "from math import pi\n",
    "\n",
    "def calculerFrequenceRotationRotor(f,C):\n",
    "    Pnom=2200\n",
    "    Nnom=2870\n",
    "    Nsnom=3000\n",
    "  #  print(\"Nsnom : \" , Nsnom, \"tr.min-1\")\n",
    "  #  print(\"Pnom : \" , Pnom, \"Watt\")\n",
    "    ns=60*f\n",
    "    omega = (Nsnom * 2 * pi)/60\n",
    "  #  print(\"Omega : \" , omega, \"rad.s-1\")\n",
    "    Cnom=Pnom/(Nnom*pi/30)\n",
    "  #  print(\"Cnom :\", Cnom , \"N.m\" )\n",
    "    K=Cnom/(Nsnom-Nnom)\n",
    "  #  print(\"K  :\", K )\n",
    "    n=ns-(C/K)\n",
    "    return n\n",
    "\n",
    "#fnom : 50 Hertz\n",
    "#Cnom : 7.32 N.m\n",
    "\n",
    "fRotor = calculerFrequenceRotationRotor(50,7.32)\n",
    "print(\"fRotor :\", fRotor,  \"tour.min-1\")\n",
    "\n",
    "#fnom : 49 Hertz\n",
    "#Cnom : 7.1 N.m\n",
    "fRotor = calculerFrequenceRotationRotor(49,7.1)\n",
    "print(\"fRotor :\", fRotor,  \"tour.min-1\")"
   ]
  }
 ],
 "metadata": {
  "celltoolbar": "Format de la Cellule Texte Brut",
  "kernelspec": {
   "display_name": "Python 3",
   "language": "python",
   "name": "python3"
  },
  "language_info": {
   "codemirror_mode": {
    "name": "ipython",
    "version": 3
   },
   "file_extension": ".py",
   "mimetype": "text/x-python",
   "name": "python",
   "nbconvert_exporter": "python",
   "pygments_lexer": "ipython3",
   "version": "3.7.3"
  }
 },
 "nbformat": 4,
 "nbformat_minor": 4
}
