{
 "cells": [
  {
   "cell_type": "code",
   "execution_count": 1,
   "metadata": {},
   "outputs": [
    {
     "data": {
      "text/plain": [
       "['lf-linux-amd64.tar.gz',\n",
       " 'Invitation pour Educatec Educatice 2019.pdf',\n",
       " 'NotesConference Cristol-201905-29.odt',\n",
       " 'magistere_tmpl.docx',\n",
       " 'test.ipynb',\n",
       " 'Partager un document LaTeX.pdf',\n",
       " 'toto.txt',\n",
       " 'Projet Jupyter Académie de Paris.pdf',\n",
       " 'parcours-2019-06-25_10.52.23.mp4',\n",
       " 'Process Ficcand.jpg',\n",
       " 'Doc.ipynb',\n",
       " 'outilsColla.pdf',\n",
       " 'POULAIN Nicolas Marcel Robert, ANGELI DRUAULT-TOUFESCO Annabelle Catherine Sophie, TOULEMONT Marie José.PDF',\n",
       " 'Couperin Cahier des charges FIL 2016-2017 DAFOR (1).pdf',\n",
       " 'Intro PAF 2019-20 pour parution.html',\n",
       " 'export_BB.xlsx',\n",
       " 'open-sans.zip',\n",
       " 'Documentation Python Part 1.html',\n",
       " 'Intro PAF 2019-20 pour parution.odt',\n",
       " 'Isometric-letters-halftone-font-illustration-of-thin-line-cartoon.zip',\n",
       " 'badge de participation_v2.eps',\n",
       " 'stats_affichage_pia.xls',\n",
       " 'LogoMEN.jpg',\n",
       " 'Notbook pour tester les modules.ipynb',\n",
       " 'kbz.png.odt',\n",
       " 'projet Jupyter.docx',\n",
       " 'bdd-preset-20181204_1333.zip',\n",
       " 'montecarlo.pdf',\n",
       " 'pdf_catalog_1544282690.pdf',\n",
       " 'Process Ficcand.pdf',\n",
       " 'white-hexagonal-digital-abstract-background.zip',\n",
       " 'pdf_catalog_1544283447.pdf',\n",
       " 'nbhosting - jupyter paris.jpg',\n",
       " 'Bases pour rédiger un notebook.ipynb',\n",
       " 'balayage.gif',\n",
       " 'Ajouter une CV.pptx',\n",
       " 'testdata.ipynb',\n",
       " 'PC.POULAIN.15.ELEVATIONS.PROJET.A3-1.jpg',\n",
       " 'MEA_CDC_CLG_Couperin1516.doc',\n",
       " 'bb20190725.sql',\n",
       " 'sauvegarde-moodle2-course-7453-2019_septembre_fc-20191108-1714.mbz',\n",
       " 'm01-arithmetique.md',\n",
       " 'Tout savoir sur l’activité Base de données.pdf',\n",
       " 'latexPC.pdf',\n",
       " 'Fiche mémo VIA -janimeuneclasse.pdf',\n",
       " 'unnamed2.jpg',\n",
       " 'MEA_CDC_CLG_Couperin1415_0.doc',\n",
       " 'backup-mag',\n",
       " 'isabelle.xlsx',\n",
       " 'inscription_au_paf_2019-2020_via_gaia_2.pdf',\n",
       " 'nbhosting - jupyter paris.pdf',\n",
       " 'magistre_template1.docx',\n",
       " 'Fiche mémo VIA -jechoisismesoptionsavancées.pdf',\n",
       " 'MEA_CDC_Ly_Arago1415.doc',\n",
       " 'Proposition de la page de connexion de m@gistere.jpg',\n",
       " 'badge de participation_v2.ai',\n",
       " 'MEA_CDC_Ly_Arago1516.doc',\n",
       " 'social-network-connection.zip',\n",
       " 'Stage Paul Valery - Jour 1.ipynb',\n",
       " 'MEA CDC CLG G.Flavien1415.doc',\n",
       " 'mytext.txt',\n",
       " 'Présentation Educatice novembre 2019.pptx',\n",
       " 'Résolution_problèmes_C2_C3: Activités du parcours.zip',\n",
       " 'Bases pour rédiger un notebook.html',\n",
       " 'Présentation du parcours Python-Physique.pptx',\n",
       " 'MEA CDC ClgFLAVIEN1516.doc',\n",
       " 'Résolution_problèmes_C2_C3: Activités du parcours.html',\n",
       " 'Cahier des charges FIL Couperin 2017-2018.pdf',\n",
       " '.gaia-2019-07-05-20-32-32.mysql.un~',\n",
       " 'tour_export_quiz_edit.json',\n",
       " 'fiche_navette_2019.pdf',\n",
       " 'stats01.docx',\n",
       " 'Documentation Python Part 1_fichiers',\n",
       " 'Tout savoir sur l’activité Base de données.pptx',\n",
       " 'formateurs2018.xlsx',\n",
       " 'digital-particles-orange-blue-glowing-background',\n",
       " 'theme_aardvark_moodle32_2017020203.zip',\n",
       " 'isabelle.csv',\n",
       " 'Fiche mémo VIA -jecréeuneclasse.pdf',\n",
       " 'Arena et les CV.pdf',\n",
       " 'PC.POULAIN.15.ELEVATIONS.PROJET.A3-1.pdf',\n",
       " 'Tout sur la CV.pptx',\n",
       " 'python-firefox.rtf',\n",
       " '.ipynb_checkpoints',\n",
       " 'anyconnect-linux64-4.6.02074',\n",
       " 'digital-particles-orange-blue-glowing-background.zip',\n",
       " 'équation .ipynb',\n",
       " 'python-safari.rtf',\n",
       " 'Stage Paul Valery - Jour 1.pdf',\n",
       " '.toto.txt.un~',\n",
       " 'Livret VIA_format carré.pdf',\n",
       " 'Fiche mémo VIA -jeparticipeauneclasse.pdf',\n",
       " 'pythonlearn.epub',\n",
       " 'unnamed.jpg',\n",
       " 'magistere_tmpl2.docx',\n",
       " 'Documentation Python Part 1.pdf']"
      ]
     },
     "execution_count": 1,
     "metadata": {},
     "output_type": "execute_result"
    }
   ],
   "source": [
    "import os\n",
    "os.listdir(\".\")"
   ]
  },
  {
   "cell_type": "code",
   "execution_count": 2,
   "metadata": {},
   "outputs": [
    {
     "ename": "FileNotFoundError",
     "evalue": "[Errno 2] No such file or directory: 'data'",
     "output_type": "error",
     "traceback": [
      "\u001b[0;31m---------------------------------------------------------------------------\u001b[0m",
      "\u001b[0;31mFileNotFoundError\u001b[0m                         Traceback (most recent call last)",
      "\u001b[0;32m<ipython-input-2-700f2189a14e>\u001b[0m in \u001b[0;36m<module>\u001b[0;34m\u001b[0m\n\u001b[0;32m----> 1\u001b[0;31m \u001b[0mos\u001b[0m\u001b[0;34m.\u001b[0m\u001b[0mlistdir\u001b[0m\u001b[0;34m(\u001b[0m\u001b[0;34m\"data\"\u001b[0m\u001b[0;34m)\u001b[0m\u001b[0;34m\u001b[0m\u001b[0;34m\u001b[0m\u001b[0m\n\u001b[0m",
      "\u001b[0;31mFileNotFoundError\u001b[0m: [Errno 2] No such file or directory: 'data'"
     ]
    }
   ],
   "source": [
    "os.listdir(\"data\")"
   ]
  },
  {
   "cell_type": "code",
   "execution_count": 3,
   "metadata": {},
   "outputs": [
    {
     "ename": "FileNotFoundError",
     "evalue": "[Errno 2] No such file or directory: 'media'",
     "output_type": "error",
     "traceback": [
      "\u001b[0;31m---------------------------------------------------------------------------\u001b[0m",
      "\u001b[0;31mFileNotFoundError\u001b[0m                         Traceback (most recent call last)",
      "\u001b[0;32m<ipython-input-3-53257e9c73b2>\u001b[0m in \u001b[0;36m<module>\u001b[0;34m\u001b[0m\n\u001b[0;32m----> 1\u001b[0;31m \u001b[0mos\u001b[0m\u001b[0;34m.\u001b[0m\u001b[0mlistdir\u001b[0m\u001b[0;34m(\u001b[0m\u001b[0;34m\"media\"\u001b[0m\u001b[0;34m)\u001b[0m\u001b[0;34m\u001b[0m\u001b[0;34m\u001b[0m\u001b[0m\n\u001b[0m",
      "\u001b[0;31mFileNotFoundError\u001b[0m: [Errno 2] No such file or directory: 'media'"
     ]
    }
   ],
   "source": [
    "os.listdir(\"media\")"
   ]
  },
  {
   "cell_type": "code",
   "execution_count": 4,
   "metadata": {},
   "outputs": [
    {
     "data": {
      "text/plain": [
       "['.bash_logout',\n",
       " '.bash_aliases',\n",
       " '.dropbox-dist',\n",
       " 'nicolaspoulain.github.io',\n",
       " 'Vidéos',\n",
       " '.seminaire.py.un~',\n",
       " '.zshrc',\n",
       " '.local',\n",
       " '.w3m',\n",
       " '.jupyter',\n",
       " '.texlive2017',\n",
       " '.viminfo',\n",
       " '.testpweave.texw.un~',\n",
       " '.mysql_history',\n",
       " 'latexnp.github.io',\n",
       " '.vimbackup',\n",
       " '.dropbox',\n",
       " 'Téléchargements',\n",
       " '.manuel.py.un~',\n",
       " '.mandelbrot.py.un~',\n",
       " 'Documents',\n",
       " 'notebook',\n",
       " '.liste.csv.un~',\n",
       " '.afac.txt.un~',\n",
       " '.lesshst',\n",
       " '.vimswap',\n",
       " '.gnome2',\n",
       " '.bash_history',\n",
       " '.vim',\n",
       " '.oh-my-zsh',\n",
       " '.sudo_as_admin_successful',\n",
       " '.gconf',\n",
       " '.liste_stag_seminaire.csv.un~',\n",
       " '.zcompdump-yoga-5.4.2',\n",
       " '.wine',\n",
       " '.vimtags',\n",
       " '.text.py.un~',\n",
       " '.dotfiles',\n",
       " '.nbhostingstats.csv.un~',\n",
       " '.zshrc_ORI_FROM_OHMYZSH_INSTALL',\n",
       " '.pki',\n",
       " '.z',\n",
       " 'Images',\n",
       " 'serveur',\n",
       " '.macromedia',\n",
       " '.adobe',\n",
       " '..zsh_history.un~',\n",
       " '.vimrc',\n",
       " '.thumbnails',\n",
       " '.gnome',\n",
       " '.profile',\n",
       " '.gitconfig',\n",
       " '.fzf.bash',\n",
       " 'books',\n",
       " '.fzf',\n",
       " '.wget-hsts',\n",
       " 'Bureau',\n",
       " '.gimp-2.8',\n",
       " 'AA_Dbx_AndroidSync',\n",
       " '.zsh_history',\n",
       " '.python_history',\n",
       " '.rnd',\n",
       " '.ipython',\n",
       " '.selected_editor',\n",
       " '.testpweave.tex.un~',\n",
       " '.anyconnect',\n",
       " '.ssh',\n",
       " '.ssr',\n",
       " '.vimundo',\n",
       " 'snap',\n",
       " '.test.py.un~',\n",
       " '.bashrc',\n",
       " 'tmp',\n",
       " '.shutter',\n",
       " '.dbus',\n",
       " '.fzf.zsh',\n",
       " '.gnupg',\n",
       " '.vimOLD',\n",
       " '.cache',\n",
       " '.zcompdump',\n",
       " '.vimviews',\n",
       " '.config',\n",
       " '.ICEauthority',\n",
       " '.testpweave.pnw.un~',\n",
       " '.mozilla',\n",
       " '.Xresources',\n",
       " '.thunderbird',\n",
       " '..Xresources.un~',\n",
       " 'Dropbox']"
      ]
     },
     "execution_count": 4,
     "metadata": {},
     "output_type": "execute_result"
    }
   ],
   "source": [
    "os.listdir(\"..\")"
   ]
  },
  {
   "cell_type": "code",
   "execution_count": null,
   "metadata": {},
   "outputs": [],
   "source": [
    "fileObj = open(\"testdata.ipynb\", \"r\")\n",
    " \n",
    "for line in fileObj.readlines():\n",
    "    print(line)\n",
    "fileObj.close()"
   ]
  },
  {
   "cell_type": "code",
   "execution_count": null,
   "metadata": {},
   "outputs": [],
   "source": []
  }
 ],
 "metadata": {
  "kernelspec": {
   "display_name": "Python 3",
   "language": "python",
   "name": "python3"
  },
  "language_info": {
   "codemirror_mode": {
    "name": "ipython",
    "version": 3
   },
   "file_extension": ".py",
   "mimetype": "text/x-python",
   "name": "python",
   "nbconvert_exporter": "python",
   "pygments_lexer": "ipython3",
   "version": "3.6.8"
  }
 },
 "nbformat": 4,
 "nbformat_minor": 2
}
