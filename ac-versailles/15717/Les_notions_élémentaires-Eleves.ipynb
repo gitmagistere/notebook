{
 "cells": [
  {
   "cell_type": "code",
   "execution_count": null,
   "metadata": {},
   "outputs": [],
   "source": []
  },
  {
   "cell_type": "markdown",
   "metadata": {},
   "source": [
    "## Exercice 1\n",
    "On exécute la séquence suivante :\n",
    "```python\n",
    "x = 5\n",
    "y = x + 1\n",
    "x = 10\n",
    "print(y)\n",
    "```\n",
    "Produit-elle l'affichage de la valeur 6 ou de la valeur 11 ? Justifier en indiquant la trace de l'état d'exécution de ce programme."
   ]
  },
  {
   "cell_type": "markdown",
   "metadata": {},
   "source": [
    "<p><span style=\"background-color: #e03e2d;\">Solution</span></p>\n"
   ]
  },
  {
   "cell_type": "markdown",
   "metadata": {},
   "source": [
    "## Exercice 2\n",
    "Déterminer la valeur des expressions suivantes sachant que dans l'état d'exécution actuel du programme, les contenus respectifs des variables x et y sont 4 et 5 :\n",
    "```python\n",
    "y + 3\n",
    "x + 3\n",
    "x + y\n",
    "x * x\n",
    "y == 5\n",
    "x == 3 and y == 5\n",
    "x == 3 or y == 5\n",
    "```"
   ]
  },
  {
   "cell_type": "markdown",
   "metadata": {},
   "source": [
    "<p><span style=\"background-color: #e03e2d;\">Solution</span></p>\n",
    "Etat en cours : x = 4 et y = 5\n"
   ]
  },
  {
   "cell_type": "markdown",
   "metadata": {},
   "source": [
    "## Exercice 3\n",
    "Les suites de symboles suivants sont-elles des instructions ou des expressions ? Justifier la réponse.\n",
    ". x\n",
    "\n",
    ". x = y\n",
    "\n",
    ". x = y + 3\n",
    "\n",
    ". x + 3\n",
    "\n",
    ". print(x + 3)\n",
    "\n",
    ". x == a\n",
    "\n",
    ". x == a and y ==b"
   ]
  },
  {
   "cell_type": "markdown",
   "metadata": {},
   "source": [
    "<p><span style=\"background-color: #e03e2d;\">Solution</span></p>\n",
    "x : Expression\n",
    "\n",
    "x = y : Instruction : affectation de la valeur y à la variable x\n",
    "\n"
   ]
  },
  {
   "cell_type": "markdown",
   "metadata": {},
   "source": [
    "## Exercice 4\n",
    "Quel est le résultat de chacun des deux scripts suivant ? Expliquer.\n",
    "\n",
    "* Script 1 \n",
    "```python\n",
    "x,y,z = 4,0,0\n",
    "if x == 4:\n",
    "\ty = 1\n",
    "else:\n",
    "\ty = 2\n",
    "\tz = 3\n",
    "print(x,y,z)\n",
    "```\n",
    "* Script 2\n",
    "```python\n",
    "x,y,z = 4,0,0\n",
    "if x == 4:\n",
    "\ty = 1\n",
    "else:\n",
    "\ty = 2\n",
    "z = 3\n",
    "print(x,y,z)\n",
    "```"
   ]
  },
  {
   "cell_type": "markdown",
   "metadata": {},
   "source": [
    "<p><span style=\"background-color: #e03e2d;\">Solution</span></p>\n",
    "* Script 1 \n",
    "\n",
    "\n",
    "* Script 2 \n"
   ]
  },
  {
   "cell_type": "markdown",
   "metadata": {},
   "source": [
    "## Exercice 5\n",
    "Écrire un programme qui demande en entrée à l’utilisateur un nombre (qui peut être décimal) \n",
    "et renvoie en sortie un afﬁchage pour dire si ce nombre est positif, négatif ou nul."
   ]
  },
  {
   "cell_type": "code",
   "execution_count": null,
   "metadata": {},
   "outputs": [],
   "source": []
  },
  {
   "cell_type": "markdown",
   "metadata": {},
   "source": [
    "<p><span style=\"background-color: #e03e2d;\">Solution</span></p>"
   ]
  },
  {
   "cell_type": "code",
   "execution_count": null,
   "metadata": {},
   "outputs": [],
   "source": [
    "x = float(input(\"Saisir un nombre décimal : \"))\n"
   ]
  },
  {
   "cell_type": "markdown",
   "metadata": {},
   "source": [
    "## Exercice 6\n"
   ]
  },
  {
   "cell_type": "markdown",
   "metadata": {},
   "source": [
    "Écrire un programme qui demande en entrée à l’utilisateur un nombre (qui peut être décimal) et renvoie en sortie un afﬁchage pour dire si ce nombre est positif, négatif ou nul.\n",
    "Réaliser trois scripts en utilisant trois méthodes :\n",
    "\n",
    "1. imbrication de structures conditionnelles\n",
    "2. le mot-clé and dans la condition\n",
    "3. le mot-clé or dans la condition"
   ]
  },
  {
   "cell_type": "code",
   "execution_count": null,
   "metadata": {},
   "outputs": [],
   "source": []
  },
  {
   "cell_type": "markdown",
   "metadata": {},
   "source": [
    "<p><span style=\"background-color: #e03e2d;\">Solution</span></p>"
   ]
  },
  {
   "cell_type": "code",
   "execution_count": 2,
   "metadata": {},
   "outputs": [
    {
     "name": "stdout",
     "output_type": "stream",
     "text": [
      "Saisir un nombre a : -5\n",
      "a n'est pas dans l'intervalle [2 ; 8].\n"
     ]
    }
   ],
   "source": [
    "#Imbrication de deux structures conditionnelles\n",
    "\n",
    "a = float(input(\"Saisir un nombre a : \"))\n",
    "if a >= 2:\n",
    "\tif a <= 8:\n",
    "\t\tprint(\"a est dans l'intervalle [2 ; 8].\")\n",
    "\telse:\n",
    "\t\tprint(\"a n'est pas dans l'intervalle [2 ; 8].\")\n",
    "else:\n",
    "\tprint(\"a n'est pas dans l'intervalle [2 ; 8].\")"
   ]
  },
  {
   "cell_type": "code",
   "execution_count": null,
   "metadata": {},
   "outputs": [],
   "source": [
    "# Avec le mot-clé and\n",
    "a = float(input(\"Saisir un nombre a : \"))\n",
    "if a >= 2 and a <= 8:\n",
    "\tprint(\"a est dans l'intervalle [2 ; 8].\")\n",
    "else:\n",
    "\tprint(\"a n'est pas dans l'intervalle [2 ; 8].\")"
   ]
  },
  {
   "cell_type": "code",
   "execution_count": null,
   "metadata": {},
   "outputs": [],
   "source": [
    "# Avec le mot-clé or\n",
    "a = float(input(\"Saisir un nombre a : \"))\n",
    "if a < 2 or a > 8:\n",
    "\tprint(\"a n'est pas dans l'intervalle [2 ; 8].\")\n",
    "else:\n",
    "\tprint(\"a est dans l'intervalle [2 ; 8].\")"
   ]
  }
 ],
 "metadata": {
  "kernelspec": {
   "display_name": "Python 3",
   "language": "python",
   "name": "python3"
  },
  "language_info": {
   "codemirror_mode": {
    "name": "ipython",
    "version": 3
   },
   "file_extension": ".py",
   "mimetype": "text/x-python",
   "name": "python",
   "nbconvert_exporter": "python",
   "pygments_lexer": "ipython3",
   "version": "3.6.9"
  }
 },
 "nbformat": 4,
 "nbformat_minor": 4
}
