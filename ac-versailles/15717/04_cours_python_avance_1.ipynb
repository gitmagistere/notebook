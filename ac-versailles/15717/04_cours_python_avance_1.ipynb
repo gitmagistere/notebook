{
 "cells": [
  {
   "cell_type": "markdown",
   "metadata": {},
   "source": [
    "# 1ère NSI - Python avancé #1"
   ]
  },
  {
   "cell_type": "markdown",
   "metadata": {},
   "source": [
    "## 1) Références et Valeurs\n"
   ]
  },
  {
   "cell_type": "markdown",
   "metadata": {},
   "source": [
    "### a) Cas des types simples : tout va bien !"
   ]
  },
  {
   "cell_type": "code",
   "execution_count": 25,
   "metadata": {},
   "outputs": [
    {
     "name": "stdout",
     "output_type": "stream",
     "text": [
      "a= 5 \tb= 5\n"
     ]
    }
   ],
   "source": [
    "a = 5\n",
    "b = a\n",
    "print(\"a=\", a, \"\\tb=\", b)"
   ]
  },
  {
   "cell_type": "markdown",
   "metadata": {},
   "source": [
    "**a et b ont la même valeur**."
   ]
  },
  {
   "cell_type": "code",
   "execution_count": 26,
   "metadata": {},
   "outputs": [
    {
     "name": "stdout",
     "output_type": "stream",
     "text": [
      "a = 5 \tb = 9\n"
     ]
    }
   ],
   "source": [
    "b += 4\n",
    "print(\"a =\", a, \"\\tb =\", b)"
   ]
  },
  {
   "cell_type": "markdown",
   "metadata": {},
   "source": [
    "Si on **change la valeur de b, a reste inchangé**. Évidemment me direz-vous !"
   ]
  },
  {
   "cell_type": "markdown",
   "metadata": {},
   "source": [
    "### b) Cas des Listes : ⚠️ Danger ! ⚠️"
   ]
  },
  {
   "cell_type": "markdown",
   "metadata": {},
   "source": [
    "Réalisons le même code avec des **listes**"
   ]
  },
  {
   "cell_type": "code",
   "execution_count": 27,
   "metadata": {},
   "outputs": [
    {
     "name": "stdout",
     "output_type": "stream",
     "text": [
      "liste1 = [1, 2, 3] \tliste2 = [1, 2, 3]\n"
     ]
    }
   ],
   "source": [
    "liste1 = [1, 2, 3]\n",
    "liste2 = liste1\n",
    "print(\"liste1 =\", liste1, \"\\tliste2 =\", liste2)"
   ]
  },
  {
   "cell_type": "markdown",
   "metadata": {},
   "source": [
    "**liste1 et liste2 ont la même valeur**. Mais **modifions liste2** ???"
   ]
  },
  {
   "cell_type": "code",
   "execution_count": 28,
   "metadata": {},
   "outputs": [
    {
     "name": "stdout",
     "output_type": "stream",
     "text": [
      "liste1 = [1, 2, 3, 4] \tliste2 = [1, 2, 3, 4]\n"
     ]
    }
   ],
   "source": [
    "liste2 += [4]\n",
    "print(\"liste1 =\", liste1, \"\\tliste2 =\", liste2)"
   ]
  },
  {
   "cell_type": "markdown",
   "metadata": {},
   "source": [
    "⚠️ **Si on modifie liste2, liste1 est modifiée aussi !** ⚠️ Que s'est-il passé ???\n",
    "\n",
    "Pour comprendre, écrivons une fonction qui retourne ***l'adresse*** ou la **référence** de la variable en mémoire :"
   ]
  },
  {
   "cell_type": "code",
   "execution_count": 29,
   "metadata": {},
   "outputs": [],
   "source": [
    "def adr(variable):\n",
    "    return hex(id(variable))"
   ]
  },
  {
   "cell_type": "markdown",
   "metadata": {},
   "source": [
    "Regardons les **adresses** de liste1 et liste2 :"
   ]
  },
  {
   "cell_type": "code",
   "execution_count": 30,
   "metadata": {},
   "outputs": [
    {
     "name": "stdout",
     "output_type": "stream",
     "text": [
      "Adresse de liste1: 0x7fbb4c858aa0\n",
      "Adresse de liste2: 0x7fbb4c858aa0\n"
     ]
    }
   ],
   "source": [
    "print(\"Adresse de liste1:\",adr(liste1))\n",
    "print(\"Adresse de liste2:\",adr(liste2))"
   ]
  },
  {
   "attachments": {
    "listes2.png": {
     "image/png": "[encoded data removed]"
    }
   },
   "cell_type": "markdown",
   "metadata": {},
   "source": [
    "Les deux variables liste1 et liste2 **pointent vers la même adresse en mémoire** : leur contenu est donc toujours **identique**. En effet, si je modifie l'une, je modifie l'autre puisqu'elles **pointent sur le même contenu en mémoire**.\n",
    "![listes2.png](attachment:listes2.png)\n",
    "Python **ne recopie pas le contenu de liste1 dans liste2**, il se contente de **faire pointer la variable liste2 sur l'emplacement mémoire de liste1**.\n",
    "\n",
    "Si on souhaite **recopier** liste1 dans liste2 et que les 2 variables **restent indépendantes** avec des **adresses différentes**, il faut indiquer **explicitement la copie**, par exemple comme ceci :"
   ]
  },
  {
   "cell_type": "code",
   "execution_count": 31,
   "metadata": {},
   "outputs": [
    {
     "name": "stdout",
     "output_type": "stream",
     "text": [
      "liste1 = [1, 2, 3] \tliste2 = [1, 2, 3]\n",
      "Adresse de liste1: 0x7fbb4d0f1730\n",
      "Adresse de liste2: 0x7fbb4c84f3c0\n"
     ]
    }
   ],
   "source": [
    "liste1 = [1, 2, 3]\n",
    "liste2 = liste1.copy()\n",
    "print(\"liste1 =\", liste1, \"\\tliste2 =\", liste2)\n",
    "print(\"Adresse de liste1:\", adr(liste1))\n",
    "print(\"Adresse de liste2:\", adr(liste2))"
   ]
  },
  {
   "attachments": {
    "listes3.png": {
     "image/png": "[encoded data removed]"
    }
   },
   "cell_type": "markdown",
   "metadata": {},
   "source": [
    "Cette fois on a bien **2 variables différentes** :![listes3.png](attachment:listes3.png)"
   ]
  },
  {
   "cell_type": "code",
   "execution_count": 32,
   "metadata": {},
   "outputs": [
    {
     "name": "stdout",
     "output_type": "stream",
     "text": [
      "liste1 = [1, 2, 3] \tliste2 = [1, 2, 3, 4]\n"
     ]
    }
   ],
   "source": [
    "liste2 += [4]\n",
    "print(\"liste1 =\", liste1, \"\\tliste2 =\", liste2)"
   ]
  },
  {
   "attachments": {
    "listes4.png": {
     "image/png": "[encoded data removed]"
    }
   },
   "cell_type": "markdown",
   "metadata": {},
   "source": [
    "Cette fois les deux variables sont bien **distinctes** et occupent **2 places en mémoire différentes**. Elles sont donc **indépendantes**.\n",
    "![listes4.png](attachment:listes4.png)"
   ]
  },
  {
   "cell_type": "markdown",
   "metadata": {},
   "source": [
    "##  2) Variables Immuables (*immutable*) et Muables (*mutable*)"
   ]
  },
  {
   "cell_type": "markdown",
   "metadata": {},
   "source": [
    "### a) Immuables\n",
    "\n",
    "Les variables de type `int, float, bool, str` sont **immuables** c'est-à-dire **pas modifiables** !\n",
    "\n",
    "C'est évidemment **étrange** car vous avez bien modifié le contenu de certaines variables de type `int` dans vos programmes...\n",
    "\n",
    "Une variable **immuable ne peut pas changer le contenu de son emplacement en mémoire**. Donc, quand on souhaite modifier une variable **immuable**, par exemple si on écrit `a += 4`, Python **crée une nouvelle variable avec le même nom ailleurs en mémoire**.\n",
    "\n",
    "Vérifions cela :"
   ]
  },
  {
   "cell_type": "code",
   "execution_count": 33,
   "metadata": {},
   "outputs": [
    {
     "name": "stdout",
     "output_type": "stream",
     "text": [
      "Valeur de a: 5 \t\tAdresse de la variable a:  0x7fbb538da460\n",
      "Valeur de a: 9 \t\tAdresse de la variable a:  0x7fbb538da4e0\n"
     ]
    }
   ],
   "source": [
    "a = 5\n",
    "print(\"Valeur de a:\", a, \"\\t\\tAdresse de la variable a: \", adr(a))\n",
    "a += 4\n",
    "print(\"Valeur de a:\", a, \"\\t\\tAdresse de la variable a: \", adr(a))"
   ]
  },
  {
   "cell_type": "markdown",
   "metadata": {},
   "source": [
    "La variable a est bien **modifiée, mais ce n'est pas la même**, c'est une **nouvelle** variable a !\n",
    "\n",
    "À chaque fois que Python **modifie la valeur d'une variable immuable, il en crée une nouvelle copie ! C'est inefficace** mais apporte **plus de sécurité** car cela évite de modifier des variables sans le vouloir."
   ]
  },
  {
   "cell_type": "markdown",
   "metadata": {},
   "source": [
    "### b) Muables\n",
    "\n",
    "Les variables de type `list, set, dict` sont **muables** c'est-à-dire qu'elles sont **modifiables sans changer d'adresse en mémoire**.\n",
    "\n",
    "Une variable **muable peut changer de contenu en gardant la même adresse en mémoire**.\n",
    "\n",
    "Vérifions cela aussi :"
   ]
  },
  {
   "cell_type": "code",
   "execution_count": 34,
   "metadata": {},
   "outputs": [
    {
     "name": "stdout",
     "output_type": "stream",
     "text": [
      "Valeur de liste: [1, 2, 3] \t\tAdresse de la variable liste:  0x7fbb4c84f1e0\n",
      "Valeur de liste: [1, 2, 3, 4] \t\tAdresse de la variable liste:  0x7fbb4c84f1e0\n"
     ]
    }
   ],
   "source": [
    "liste = [1, 2, 3]\n",
    "print(\"Valeur de liste:\", liste, \"\\t\\tAdresse de la variable liste: \", adr(liste))\n",
    "liste += [4]\n",
    "print(\"Valeur de liste:\", liste, \"\\t\\tAdresse de la variable liste: \", adr(liste))"
   ]
  },
  {
   "cell_type": "markdown",
   "metadata": {},
   "source": [
    "La variable liste est **muable** elle est donc bien **modifiée** directement, **en gardant la même référence en mémoire** !\n",
    "\n",
    "Les variables **muables** engendrent parfois des **bugs car elles peuvent être modifiées par erreur de programmation**. Par contre cette gestion est **plus efficace** car on ne **recopie pas la variable à chaque modification**."
   ]
  },
  {
   "cell_type": "markdown",
   "metadata": {},
   "source": [
    "## 3) Paramètres des fonctions et ⚠️ effet de bord ⚠️"
   ]
  },
  {
   "cell_type": "markdown",
   "metadata": {},
   "source": [
    "Il existe le même problème quand on donne des arguments (ou paramètres) aux fonctions :\n",
    "\n",
    "- Pour les variables de type `int, float, bool, str`, il n'y a **pas d'effet de bord** car ces types sont **immuables**. La **variable indiquée en paramètre est recopiée ailleurs en mémoire dès quelle est modifiée**.\n",
    "\n",
    "- Pour les variables de type `list, set, dict`, il y a des **effets de bord** car ces types sont **muables**. La **fonction** reçoit **l'adresse de la variable donnée en argument** et **peut** donc en **modifier le contenu** car la variable est **muable**.\n",
    "\n",
    "**Effet de bord** : quand une fonction modifie le contenu d'une variable qui appartient au contexte appelant.\n",
    "\n",
    "Illustrons cela avec 2 exemples. Nous créons une fonction **test** qui va ajouter 4 à la variable donnée en argument."
   ]
  },
  {
   "cell_type": "markdown",
   "metadata": {},
   "source": [
    "### a) Variable immuable en argument : Pas d'effet de bord !"
   ]
  },
  {
   "cell_type": "code",
   "execution_count": 35,
   "metadata": {},
   "outputs": [
    {
     "name": "stdout",
     "output_type": "stream",
     "text": [
      "Adresse de la variable a:  0x7fbb538da460\n",
      "Adresse de la variable donnée en argument:  0x7fbb538da460\n",
      "Adresse de la variable une fois modifiée:  0x7fbb538da4e0\n",
      "Valeur de a après l'exécution de la fonction : 5\n"
     ]
    }
   ],
   "source": [
    "def test(variable):\n",
    "    print(\"Adresse de la variable donnée en argument: \", adr(variable))\n",
    "    variable += 4\n",
    "    print(\"Adresse de la variable une fois modifiée: \", adr(variable))\n",
    "\n",
    "a = 5\n",
    "print(\"Adresse de la variable a: \", adr(a))\n",
    "test(a)\n",
    "print(\"Valeur de a après l'exécution de la fonction :\",a)"
   ]
  },
  {
   "cell_type": "markdown",
   "metadata": {},
   "source": [
    "⚠️ La fonction test reçoit **l'adresse de la variable a** mais quand elle veut **modifier** la variable, il s'en **crée une copie à une autre adresse** : la variable **a n'est donc pas modifiée** ! **Ici, pas d'effet de bord !**"
   ]
  },
  {
   "cell_type": "markdown",
   "metadata": {},
   "source": [
    "### b) Variable muable en argument : ⚠️ Effet de bord ! ⚠️"
   ]
  },
  {
   "cell_type": "code",
   "execution_count": 36,
   "metadata": {},
   "outputs": [
    {
     "name": "stdout",
     "output_type": "stream",
     "text": [
      "Adresse de la variable liste:  0x7fbb4d0f2320\n",
      "Adresse de la variable donnée en argument:  0x7fbb4d0f2320\n",
      "Adresse de la variable une fois modifiée:  0x7fbb4d0f2320\n",
      "Valeur de liste après l'exécution de la fonction : [1, 2, 3, 4]\n"
     ]
    }
   ],
   "source": [
    "def test(variable):\n",
    "    print(\"Adresse de la variable donnée en argument: \", adr(variable))\n",
    "    variable.append(4)\n",
    "    print(\"Adresse de la variable une fois modifiée: \", adr(variable))\n",
    "\n",
    "liste = [1,2,3]\n",
    "print(\"Adresse de la variable liste: \", adr(liste))\n",
    "test(liste)\n",
    "print(\"Valeur de liste après l'exécution de la fonction :\",liste)"
   ]
  },
  {
   "cell_type": "markdown",
   "metadata": {},
   "source": [
    "⚠️ La fonction test reçoit **l'adresse de la variable liste** et peut **modifier** la variable car elle est **muable** ! **Ici il y'a effet de bord !** ⚠️"
   ]
  }
 ],
 "metadata": {
  "kernelspec": {
   "display_name": "Python 3",
   "language": "python",
   "name": "python3"
  },
  "language_info": {
   "codemirror_mode": {
    "name": "ipython",
    "version": 3
   },
   "file_extension": ".py",
   "mimetype": "text/x-python",
   "name": "python",
   "nbconvert_exporter": "python",
   "pygments_lexer": "ipython3",
   "version": "3.7.4"
  },
  "widgets": {
   "application/vnd.jupyter.widget-state+json": {
    "state": {},
    "version_major": 2,
    "version_minor": 0
   }
  }
 },
 "nbformat": 4,
 "nbformat_minor": 2
}
