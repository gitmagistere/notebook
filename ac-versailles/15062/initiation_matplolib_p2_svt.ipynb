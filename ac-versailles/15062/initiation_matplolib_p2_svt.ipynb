{
 "cells": [
  {
   "cell_type": "markdown",
   "metadata": {},
   "source": [
    "# Tracer des graphiques avec Python : initiation à Matplotlib - Partie 2 (SVT)\n",
    "<p>Une simulation du modèle de Hardy-Weinberg a été faite en s'intéressant à un gène avec 2 allèles A et a.</p>\n",
    "<p>Ci-dessous, les valeurs de p et q pour 20 générations avec 10 individus par génération.</p>\n",
    "\n",
    "## Question 1 - Définir les variables\n",
    "Avec le curseur dans la cellule ci-dessous, appuyer simultanément sur les touches Shift (majuscule) et Entrer."
   ]
  },
  {
   "cell_type": "code",
   "execution_count": 1,
   "metadata": {},
   "outputs": [],
   "source": [
    "evo_p = [0.6, 0.75, 0.75, 0.85, 0.8, 0.8, 0.7, 0.6, 0.55, 0.6, 0.45, 0.45, 0.5, 0.45, 0.35, 0.25, 0.2, 0.2, 0.3, 0.15, 0.15]\n",
    "evo_q = [0.4, 0.25, 0.25, 0.15, 0.2, 0.2, 0.3, 0.4, 0.45, 0.4, 0.55, 0.55, 0.5, 0.55, 0.65, 0.75, 0.8, 0.8, 0.7, 0.85, 0.85]\n",
    "generation = [0, 1, 2, 3, 4, 5, 6, 7, 8, 9, 10, 11, 12, 13, 14, 15, 16, 17, 18, 19, 20]"
   ]
  },
  {
   "cell_type": "markdown",
   "metadata": {},
   "source": [
    "## Question 2 - Importer Matplotlib\n",
    "Dans la cellule ci-dessous, rentrer la commande pour importer Matplotlib. Puis, avec le curseur dans la cellule, appuyer simultanément sur les touches Shift (majuscule) et Entrer. <br>\n",
    "<i>Rappel : la commande pour importer Matplotlib est <code>import matplotlib.pyplot as plt</code>.</i>"
   ]
  },
  {
   "cell_type": "code",
   "execution_count": null,
   "metadata": {},
   "outputs": [],
   "source": []
  },
  {
   "cell_type": "markdown",
   "metadata": {},
   "source": [
    "## Question 3 - Graphique de evo_p en fonction de generation\n",
    "Dans la cellule ci-dessous, entrer le code pour tracer un graphique de la variable evo_p en fonction de la variable generation.<br>\n",
    "<i>Rappel : <code>plt.plot(x, y)</code> et <code>plt.show()</code>.</i>"
   ]
  },
  {
   "cell_type": "code",
   "execution_count": null,
   "metadata": {},
   "outputs": [],
   "source": []
  },
  {
   "cell_type": "markdown",
   "metadata": {},
   "source": [
    "## Question 4 - Graphique de evo_p et evo_q en fonction de generation\n",
    "Dans la cellule ci-dessous, entrer le code pour tracer un graphique des variables evo_p et evo_q en fonction de la variable generation."
   ]
  },
  {
   "cell_type": "code",
   "execution_count": null,
   "metadata": {},
   "outputs": [],
   "source": []
  },
  {
   "cell_type": "markdown",
   "metadata": {},
   "source": [
    "## Question 5 - Légender les courbes\n",
    "Dans le cellule ci-dessous, reprendre le code précédent et y ajouter le code nécessaire pour légender les courbes.<br>\n",
    "Pour la courbe evo_p en fonction de generation : « p : Fréquence de l'allèle A » <br>\n",
    "Pour la courbe evo_q en fonction de generation : « q : Fréquence de l'allèle a » <br>\n",
    "<i>Rappel : <code>plt.plot(x, y, label=\"y\")</code> et <code>plt.legend()</code></i>"
   ]
  },
  {
   "cell_type": "code",
   "execution_count": null,
   "metadata": {},
   "outputs": [],
   "source": []
  },
  {
   "cell_type": "markdown",
   "metadata": {},
   "source": [
    "## Question 6 - Légender les axes\n",
    "<p>Avec Matplotlib, pour légender les axes il faut utiliser les commandes : <code>plt.xlabel(\"Axe x\")</code> ou <code>plt.ylabel(\"Axe y\")</code>. Ces commandes sont à placer avant <code>plt.show()</code>.</p>\n",
    "<p>Dans la cellule ci-dessous, reprendre le code précédent et y ajouter les commandes nécessaires pour légender l’axe des abscisses par « Nombre de générations » et l’axe des ordonnées par « Fréquence des allèles ».</p>"
   ]
  },
  {
   "cell_type": "code",
   "execution_count": null,
   "metadata": {},
   "outputs": [],
   "source": []
  },
  {
   "cell_type": "markdown",
   "metadata": {},
   "source": [
    "## Question 7 - Ajouter un titre au graphique\n",
    "<p>Avec Matplotlib, pour mettre un titre au graphique, il faut utiliser la commande : <code>plt.title(\"Titre\")</code>, qu’il faut aussi placer avant <code>plt.show()</code>.</p>\n",
    "<p>Dans la cellule ci-dessous, reprendre le code précédent et y ajouter la commande nécessaire pour mettre le titre « Simulation du modèle de Hardy-Weinberg sur 20 générations avec 10 individus par génération » au graphique.</p>"
   ]
  },
  {
   "cell_type": "code",
   "execution_count": null,
   "metadata": {},
   "outputs": [],
   "source": []
  },
  {
   "cell_type": "markdown",
   "metadata": {},
   "source": [
    "## Question 8 - Redimensionner les axes\n",
    "<p> Avec Matplotlib, il est possible de redimensionner les axes. Par exemple, si on souhaite que l’axe de abscisses aille de 0 à 100, il faut écrire : <code>plt.xlim(0, 100)</code>.</p>\n",
    "<p>Dans la cellule ci-dessous, reprendre le code précédent et redimensionner l’axe des ordonnées pour qu’il aille de 0 à 1.</p>"
   ]
  },
  {
   "cell_type": "code",
   "execution_count": null,
   "metadata": {},
   "outputs": [],
   "source": []
  },
  {
   "cell_type": "markdown",
   "metadata": {},
   "source": [
    "## Aller plus loin\n",
    "Si vous souhaitez aller plus loin sur l’utilisation de la librairie Matplotlib, il est possible de suivre ce tutoriel interactif en anglais : https://www.datacamp.com/courses/intermediate-python-for-data-science (il faut se créer un compte, le chapitre sur Matplotlib est gratuit)."
   ]
  }
 ],
 "metadata": {
  "kernelspec": {
   "display_name": "Python 3",
   "language": "python",
   "name": "python3"
  },
  "language_info": {
   "codemirror_mode": {
    "name": "ipython",
    "version": 3
   },
   "file_extension": ".py",
   "mimetype": "text/x-python",
   "name": "python",
   "nbconvert_exporter": "python",
   "pygments_lexer": "ipython3",
   "version": "3.7.6"
  }
 },
 "nbformat": 4,
 "nbformat_minor": 4
}
