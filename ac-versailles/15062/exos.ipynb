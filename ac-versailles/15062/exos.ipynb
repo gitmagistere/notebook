{
 "cells": [
  {
   "cell_type": "markdown",
   "metadata": {},
   "source": [
    "# Préambule\n",
    "Dans la cellule ci-dessous, une séquence ADN est proposée. La modifier (en rajoutant des nucléotides par exemple) puis appuyer simultanément sur les touches Shift (majuscule) et Entrer."
   ]
  },
  {
   "cell_type": "code",
   "execution_count": null,
   "metadata": {},
   "outputs": [],
   "source": [
    "adn = \"ATTTCGGGCCAAAAA\"\n",
    "print(\"La séquence ADN que vous avez choisi est\", adn)"
   ]
  },
  {
   "cell_type": "markdown",
   "metadata": {},
   "source": [
    "# Exercice 1 : compter le nombre de nucléotides\n",
    "Le code dans la cellule ci-dessous permet de compter et d'afficher le nombre de nucléotides A qu'il y a dans la séquence ADN.\n",
    "Lire le code puis le faire fonctionner (en appuyant simultanément sur les touches Shift et Entrer lorsque le curseur est dans la cellule ci-dessous)."
   ]
  },
  {
   "cell_type": "code",
   "execution_count": null,
   "metadata": {},
   "outputs": [],
   "source": [
    "compteur_A = 0\n",
    "for nucleotide in adn:\n",
    "    if nucleotide == \"A\":\n",
    "        compteur_A += 1\n",
    "print(\"La séquence ADN est constituée de\", compteur_A, \"adénine(s)\")"
   ]
  },
  {
   "cell_type": "markdown",
   "metadata": {},
   "source": [
    "Ecrire dans la cellule ci-dessous le code nécessaire pour compter tous les nucléotides présents dans la séquence ADN.\n",
    "Le début du code est proposé."
   ]
  },
  {
   "cell_type": "code",
   "execution_count": null,
   "metadata": {},
   "outputs": [],
   "source": [
    "compteur_A = 0\n",
    "compteur_T = 0\n",
    "compteur_C = 0\n",
    "compteur_G = 0\n",
    "\n",
    "for nucleotide in adn:\n",
    "    if nucleotide == \"A\":\n",
    "        # Il faut écrire ici la suite du code"
   ]
  },
  {
   "cell_type": "markdown",
   "metadata": {},
   "source": [
    "# Exercice 2 : transcription et réplication\n",
    "Ci-dessous le code nécessaire pour avoir la séquence complémentaire à la séquence ADN (définie dans le préambule, il faut donc valider la première cellule avec la variable ADN). <br>\n",
    "Lire le code puis le faire fonctionner (en appuyant simultanément sur les touches Shift et Entrer lorsque le curseur est dans la cellule ci-dessous)."
   ]
  },
  {
   "cell_type": "code",
   "execution_count": null,
   "metadata": {},
   "outputs": [],
   "source": [
    "complementaire = \"\"\n",
    "for nucleotide in adn:\n",
    "    if nucleotide == \"A\":\n",
    "        complementaire += \"T\"\n",
    "    elif nucleotide == \"T\":\n",
    "        complementaire += \"A\"\n",
    "    elif nucleotide ==\"C\":\n",
    "        complementaire += \"G\"\n",
    "    elif nucleotide == \"G\":\n",
    "        complementaire += \"C\"\n",
    "print(\"La séquence complémentaire est\", complementaire)"
   ]
  },
  {
   "cell_type": "markdown",
   "metadata": {},
   "source": [
    "Ecrire dans la cellule ci-dessous le code nécessaire pour avoir la séquence transcrite."
   ]
  },
  {
   "cell_type": "code",
   "execution_count": null,
   "metadata": {},
   "outputs": [],
   "source": [
    "transcrit = \"\"\n",
    "# A vous d'écrire la suite du code."
   ]
  },
  {
   "cell_type": "markdown",
   "metadata": {},
   "source": [
    "# Exercice 3 : rechercher la première position d'un nucléotide\n",
    "Ecrire dans la cellule ci-dessous le code nécessaire pour afficher la position du premier nucléotide C dans la séquence ADN. <br>\n",
    "S'il n'y a pas de nucléotide C écrire -1. <br>\n",
    "Le début du code est proposé."
   ]
  },
  {
   "cell_type": "code",
   "execution_count": null,
   "metadata": {},
   "outputs": [],
   "source": [
    "premier_C = -1\n",
    "for position in range(len(adn)):\n",
    "    if adn[position] == \"C\":\n",
    "        # Supprimer ce commentaire et écrire le code ici."
   ]
  }
 ],
 "metadata": {
  "kernelspec": {
   "display_name": "Python 3",
   "language": "python",
   "name": "python3"
  },
  "language_info": {
   "codemirror_mode": {
    "name": "ipython",
    "version": 3
   },
   "file_extension": ".py",
   "mimetype": "text/x-python",
   "name": "python",
   "nbconvert_exporter": "python",
   "pygments_lexer": "ipython3",
   "version": "3.6.5"
  }
 },
 "nbformat": 4,
 "nbformat_minor": 2
}
