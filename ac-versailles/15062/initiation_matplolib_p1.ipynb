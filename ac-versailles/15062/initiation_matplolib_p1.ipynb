{
 "cells": [
  {
   "cell_type": "markdown",
   "metadata": {},
   "source": [
    "# Tracer des graphiques avec Python : initiation à Matplotlib - Partie 1\n",
    "<p>Un des moyens de tracer des graphiques en Python, est d’utiliser le module Matplotlib.</p>\n",
    "<p><i>Pour utiliser ce module, il faudra qu’il soit installé sur l’ordinateur (déjà installé dans EduPython ou dans Anaconda).</i></p>\n",
    "<p>Lorsqu’on souhaite utiliser Matplotlib dans un programme, il faut l’importer avec cette commande :<br>\n",
    "<code>import matplotlib.pyplot as plt</code>.</p>\n",
    "<p>Cette commande est à placer avant toute utilisation de Matplotlib.</p>\n",
    "\n",
    "## Question 1 - Importer Matplotlib\n",
    "\n",
    "<p>Dans la cellule ci-dessous, rentrer la commande pour importer Matplot. Puis, avec le curseur dans la cellule, appuyer simultanément sur les touches Shift (majuscule) et Entrer. <i>(De manière générale, dans cet exercice, je vous conseille de taper les commandes plutôt que de faire un copier coller afin de mieux mémoriser.)</i></p>"
   ]
  },
  {
   "cell_type": "code",
   "execution_count": null,
   "metadata": {},
   "outputs": [],
   "source": []
  },
  {
   "cell_type": "markdown",
   "metadata": {},
   "source": [
    "## Question 2 - Définir les variables x, y et z\n",
    "<p>Dans la cellule ci-dessous, les variables x, y et z sont définies.</p>\n",
    "<p><i>Pour information, ces variables sont les listes. C'est un type de donnée que nous verrons plus tard.</i></p>\n",
    "<p>Mettre le curseur dans la cellule ci-dessous puis appuyez simultanément sur les touches Shift (majuscule) et Entrer.</p>"
   ]
  },
  {
   "cell_type": "code",
   "execution_count": null,
   "metadata": {},
   "outputs": [],
   "source": [
    "x = [0, 1, 2, 3, 4, 5]\n",
    "y = [0, 1, 2, 3, 4, 5]\n",
    "z = [0, 2, 4, 8, 16, 32]"
   ]
  },
  {
   "cell_type": "markdown",
   "metadata": {},
   "source": [
    "## Question 3 - Tracer y en fonction de x\n",
    "<p>On veut maintenant tracer un graphique de y en fonction de x. Pour cela, il faut écrire les commandes suivantes :</p>\n",
    "<code>plt.plot(x, y)</code><br>\n",
    "<code>plt.show()</code>\n",
    "<p>Dans la cellule ci-dessous, écrire les commandes nécessaires pour tracer un graphique de y en fonction de x.</p>"
   ]
  },
  {
   "cell_type": "code",
   "execution_count": null,
   "metadata": {},
   "outputs": [],
   "source": []
  },
  {
   "cell_type": "markdown",
   "metadata": {},
   "source": [
    "## Question 4 - Modifier x et y pour observer les conséquences\n",
    "<p>Modifier les valeurs de x et y (à noter : x et y doivent avoir le même nombre de valeurs).</p>\n",
    "<p>Une fois que vous avez modifié les valeurs de x et y, appuyez simultanément sur les touches Shift (majuscule) et Entrer.<br>\n",
    "    Puis, avec le curseur dans la cellule avec les commandes pour tracer le graphique, appuyez simultanément sur les touches Shift (majuscule) et Entrer. Ainsi, vous devriez voir sur le graphique les conséquences de vos modifications.</p>\n"
   ]
  },
  {
   "cell_type": "markdown",
   "metadata": {},
   "source": [
    "## Question 5 - Tracer plusieurs courbes sur un même graphique\n",
    "<p>Il est possible avec Matplotlib de tracer plusieurs courbes sur un même graphique. Si par exemple, on veut rajouter dans le graphique précédent z en fonction de x, il faut remplacer le code précédent par :</p>\n",
    "<code>plt.plot(x, y)</code><br>\n",
    "<code>plt.plot(x, z)</code><br>\n",
    "<code>plt.show()</code>\n",
    "<p>Dans la cellule ci-dessous, écrire les commandes nécessaires pour tracer un graphique de y et z en fonction de x.</p>"
   ]
  },
  {
   "cell_type": "code",
   "execution_count": null,
   "metadata": {},
   "outputs": [],
   "source": []
  },
  {
   "cell_type": "markdown",
   "metadata": {},
   "source": [
    "## Question 6 - Légender les courbes\n",
    "<p>Il est possible avec Matplotlib d’identifier les courbes tracées, par exemple, il faut transformer le code précédent en :</p>\n",
    "<code>plt.plot(x, y, label=\"y\")</code><br>\n",
    "<code>plt.plot(x, z, label=\"z\")</code><br>\n",
    "<code>plt.legend()</code><br>\n",
    "<code>plt.show()</code>\n",
    "<p>Dans la cellule ci-dessous, écrire les commandes nécessaires pour tracer un graphique de y et z en fonction de x en légendant les courbes.</p>"
   ]
  },
  {
   "cell_type": "code",
   "execution_count": null,
   "metadata": {},
   "outputs": [],
   "source": []
  }
 ],
 "metadata": {
  "kernelspec": {
   "display_name": "Python 3",
   "language": "python",
   "name": "python3"
  },
  "language_info": {
   "codemirror_mode": {
    "name": "ipython",
    "version": 3
   },
   "file_extension": ".py",
   "mimetype": "text/x-python",
   "name": "python",
   "nbconvert_exporter": "python",
   "pygments_lexer": "ipython3",
   "version": "3.7.6"
  }
 },
 "nbformat": 4,
 "nbformat_minor": 4
}
