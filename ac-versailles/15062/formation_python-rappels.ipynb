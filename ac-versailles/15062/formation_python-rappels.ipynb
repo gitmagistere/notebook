{
 "cells": [
  {
   "cell_type": "markdown",
   "metadata": {},
   "source": [
    "# Rappels"
   ]
  },
  {
   "cell_type": "markdown",
   "metadata": {},
   "source": [
    "## Afficher une information : print()\n",
    "Pour afficher une information, il faut utiliser la fonction print().\n",
    "Dans la cellule ci-dessous, placer le curseur puis appuyer simultanément sur les touches Shift (majuscule) et Entrer. Cela devrait afficher \"Bien joué !\"."
   ]
  },
  {
   "cell_type": "code",
   "execution_count": null,
   "metadata": {},
   "outputs": [],
   "source": [
    "print(\"Bien joué !\")"
   ]
  },
  {
   "cell_type": "markdown",
   "metadata": {},
   "source": [
    "## Les commentaires\n",
    "Pour mettre un commentaire sur une ligne, on utilise le symbole #.\n",
    "Exemple dans la cellule ci-dessous."
   ]
  },
  {
   "cell_type": "code",
   "execution_count": null,
   "metadata": {},
   "outputs": [],
   "source": [
    "# Ceci est un commentaire sur une ligne"
   ]
  },
  {
   "cell_type": "markdown",
   "metadata": {},
   "source": [
    "Pour mettre un commentaire sur plusieurs lignes on utilise les triples guillemets : \"\"\". Exemple dans la cellule ci-dessous."
   ]
  },
  {
   "cell_type": "code",
   "execution_count": null,
   "metadata": {},
   "outputs": [],
   "source": [
    "\"\"\"\n",
    "Ceci est un commentaire\n",
    "sur plusieurs\n",
    "lignes\n",
    "\"\"\""
   ]
  },
  {
   "cell_type": "markdown",
   "metadata": {},
   "source": [
    "## Les variables\n",
    "Lire le code dans la cellule ci-dessous et réfléchir à ce que cela devrait afficher.\n",
    "Quand vous pensez savoir, faites fonctionner la cellule (placer le curseur dans la cellule ci-dessous puis appuyer simultanément sur les touches Shift et Entrer)."
   ]
  },
  {
   "cell_type": "code",
   "execution_count": null,
   "metadata": {},
   "outputs": [],
   "source": [
    "a = 3\n",
    "b = 2\n",
    "a = 4\n",
    "print(a)\n",
    "a = b\n",
    "b = 6\n",
    "print(a)"
   ]
  },
  {
   "cell_type": "markdown",
   "metadata": {},
   "source": [
    "## Types de données\n",
    "Nous avons vu 4 types de données :\n",
    "<ul>\n",
    "    <li>Les chaînes de caractères notés <strong>str</strong> en python.</li>\n",
    "    <li>Les entiers notés <strong>int</strong> en python.</li>\n",
    "    <li>Les nombres à virgules notés <strong>float</strong> en python.</li>\n",
    "    <li>Les booléens notés <strong>bool</strong> en python.</li>\n",
    "</ul>\n",
    "Pour chacune des 4 cellules ci-dessous, retirer le commentaire et le remplacer par le type de données en en python qui correspond à la variable (str, int, float ou bool). Puis faire fonctionner la cellule (appuyer simultanément sur les touches Shift et Entrer). Si la réponse est bonne cela affichera True sinon False."
   ]
  },
  {
   "cell_type": "code",
   "execution_count": null,
   "metadata": {},
   "outputs": [],
   "source": [
    "variable1 = \"bonjour\"\n",
    "type1 = type(variable1)\n",
    "type1 == #retirer le commentaire et mettre à la place le type de données."
   ]
  },
  {
   "cell_type": "code",
   "execution_count": null,
   "metadata": {},
   "outputs": [],
   "source": [
    "variable2 = \"2\"\n",
    "type2 = type(variable2)\n",
    "type2 == #retirer le commentaire et mettre à la place le type de données."
   ]
  },
  {
   "cell_type": "code",
   "execution_count": null,
   "metadata": {},
   "outputs": [],
   "source": [
    "variable3 = True\n",
    "type3 = type(variable3)\n",
    "type3 == #retirer le commentaire et mettre à la place le type de données."
   ]
  },
  {
   "cell_type": "code",
   "execution_count": null,
   "metadata": {},
   "outputs": [],
   "source": [
    "variable4 = 2.0\n",
    "type4 = type(variable4)\n",
    "type4 == #retirer le commentaire et mettre à la place le type de données."
   ]
  },
  {
   "cell_type": "markdown",
   "metadata": {},
   "source": [
    "## La structure conditionnelle (if, elif et else)\n",
    "Lire le code dans la cellule ci-dessous et réfléchir à ce que cela devrait afficher. Quand vous pensez savoir, faites fonctionner la cellule."
   ]
  },
  {
   "cell_type": "code",
   "execution_count": null,
   "metadata": {},
   "outputs": [],
   "source": [
    "temp = 42\n",
    "if temp > 30:\n",
    "    print(\"Chaud\")\n",
    "elif temp > 40:\n",
    "    print(\"Très chaud\")\n",
    "elif temp > 20:\n",
    "    print(\"Confortable\") \n",
    "else:\n",
    "    print(\"Froid\")"
   ]
  },
  {
   "cell_type": "markdown",
   "metadata": {},
   "source": [
    "## Manipulation des chaines de caractères (str)\n",
    "Lire le code dans la cellule ci-dessous et réfléchir à ce que cela devrait afficher. Quand vous pensez savoir, faites fonctionner la cellule."
   ]
  },
  {
   "cell_type": "code",
   "execution_count": null,
   "metadata": {},
   "outputs": [],
   "source": [
    "adn = \"ATTGGCCATA\"\n",
    "print(len(adn))\n",
    "print(len(\"adn\"))\n",
    "print(adn[1:3])"
   ]
  },
  {
   "cell_type": "markdown",
   "metadata": {},
   "source": [
    "Dans la cellule ci-dessous, écrire un code qui affiche la longueur de la variable arn et qui affiche le dernier caractère de cette variable."
   ]
  },
  {
   "cell_type": "code",
   "execution_count": null,
   "metadata": {},
   "outputs": [],
   "source": [
    "arn = \"AUUGCGA\"\n",
    "# Ecrire votre code ci-dessous puis faire fonctionner la cellule."
   ]
  },
  {
   "cell_type": "markdown",
   "metadata": {},
   "source": [
    "## La boucle for\n",
    "Lire le code dans les 2 cellules ci-dessous et réfléchir à ce que cela devrait afficher. Quand vous pensez savoir, faites fonctionner la cellule."
   ]
  },
  {
   "cell_type": "code",
   "execution_count": null,
   "metadata": {},
   "outputs": [],
   "source": [
    "for n in range(6):\n",
    "    print(n)"
   ]
  },
  {
   "cell_type": "code",
   "execution_count": null,
   "metadata": {},
   "outputs": [],
   "source": [
    "for quelquechose in \"SVT\":\n",
    "    print(quelquechose)"
   ]
  }
 ],
 "metadata": {
  "kernelspec": {
   "display_name": "Python 3",
   "language": "python",
   "name": "python3"
  },
  "language_info": {
   "codemirror_mode": {
    "name": "ipython",
    "version": 3
   },
   "file_extension": ".py",
   "mimetype": "text/x-python",
   "name": "python",
   "nbconvert_exporter": "python",
   "pygments_lexer": "ipython3",
   "version": "3.6.5"
  }
 },
 "nbformat": 4,
 "nbformat_minor": 2
}
