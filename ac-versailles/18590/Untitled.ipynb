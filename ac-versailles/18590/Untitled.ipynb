{
  "metadata": {
    "language_info": {
      "name": ""
    },
    "kernelspec": {
      "name": "",
      "display_name": ""
    }
  },
  "nbformat_minor": 4,
  "nbformat": 4,
  "cells": [
    {
      "cell_type": "markdown",
      "source": "afficher bonjour",
      "metadata": {}
    },
    {
      "cell_type": "code",
      "source": "print(....)",
      "metadata": {},
      "execution_count": null,
      "outputs": []
    }
  ]
}