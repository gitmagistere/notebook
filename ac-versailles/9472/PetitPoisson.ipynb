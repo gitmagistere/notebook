{
 "cells": [
  {
   "cell_type": "code",
   "execution_count": 2,
   "metadata": {},
   "outputs": [
    {
     "name": "stdout",
     "output_type": "stream",
     "text": [
      "Petit poisson deviendra grand.\n"
     ]
    }
   ],
   "source": [
    "a = \"Petit poisson\"\n",
    "b = \" deviendra grand.\"\n",
    "c = a + b\n",
    "print (c) "
   ]
  },
  {
   "cell_type": "markdown",
   "metadata": {},
   "source": [
    "Ce code permet de **concaténer** les deux chaînes de caractères *\"Petit poisson\"* et *\" deviendra grand.\"*. \n",
    "\n",
    "**Attention :** il est nécessaire de rajouter un espace à la fin de la chaîne a ou au début de la chaîne b pour que les mots \"poisson\" et \"deviendra\" ne soient pas collés."
   ]
  }
 ],
 "metadata": {
  "kernelspec": {
   "display_name": "Python 3",
   "language": "python",
   "name": "python3"
  },
  "language_info": {
   "codemirror_mode": {
    "name": "ipython",
    "version": 3
   },
   "file_extension": ".py",
   "mimetype": "text/x-python",
   "name": "python",
   "nbconvert_exporter": "python",
   "pygments_lexer": "ipython3",
   "version": "3.7.4"
  }
 },
 "nbformat": 4,
 "nbformat_minor": 2
}
