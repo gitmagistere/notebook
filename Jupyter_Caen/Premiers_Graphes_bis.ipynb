{
 "cells": [
  {
   "cell_type": "markdown",
   "metadata": {},
   "source": [
    "# Premiers graphes en Python#"
   ]
  },
  {
   "cell_type": "markdown",
   "metadata": {},
   "source": [
    "Ce notebook s'appuie sur une ressource disponible dans [la base Éduscol](https://eduscol.education.fr/cid144120/physique-chimie-bac-2021.html).\n",
    "L'activité s'appuie sur l'exploitation de la chute d'une bille.\n",
    "\n",
    "Pour exécuter le contenu d'une cellule, cliquer sur l'icône de lecture ou cliquer dans la cellule et utiliser la combinaison de touches *MAJ + ENTRÉE*."
   ]
  },
  {
   "cell_type": "markdown",
   "metadata": {},
   "source": [
    "**Bibliothèques nécessaires**"
   ]
  },
  {
   "cell_type": "markdown",
   "metadata": {},
   "source": [
    "On importe lesvdeux bibliothèques d'instructions permettant de :\n",
    "* faire du calcul numérique\n",
    "* tracer des graphiques"
   ]
  },
  {
   "cell_type": "code",
   "execution_count": null,
   "metadata": {},
   "outputs": [],
   "source": [
    "import numpy as np  # Bibliothèque pour les calculs, renommée np\n",
    "import matplotlib.pyplot as plt  # Bibliothèque graphique, renommée plt\n",
    "#%matplotlib inline # Décommenter si le graphique ne s'affiche pas dans la suite."
   ]
  },
  {
   "cell_type": "markdown",
   "metadata": {},
   "source": [
    "**Préparation des tableaux de mesures**"
   ]
  },
  {
   "cell_type": "markdown",
   "metadata": {},
   "source": [
    "Le tableau de mesures successives de l'ordonnée de la balle est entrée manuellement, sous forme de tableau, dans le programme.\n",
    "Les dates successives sont dans un tableau qui est créé automatiquement dans le programme."
   ]
  },
  {
   "cell_type": "code",
   "execution_count": null,
   "metadata": {},
   "outputs": [],
   "source": [
    "# Entrée des valeurs de l'ordonnée de la balle\n",
    "y = np.array([0., -0.7, -1.5, -2.3, -3.5, -4.5, -5.9, -7.7, -8.8, -10.6, -12.3, -14.2, -16.4, -18.5, -21., -23.5])\n",
    "# Création du tableau des dates, de même taille que le tableau des positions\n",
    "t=np.linspace(0, 0.25, 16)  # Origine 0, fin 0.25, 16 valeurs"
   ]
  },
  {
   "cell_type": "markdown",
   "metadata": {},
   "source": [
    "Pour vérifier les contenus des tableaux créés, exécuter la cellule ci-dessous. (Facultatif)"
   ]
  },
  {
   "cell_type": "code",
   "execution_count": null,
   "metadata": {},
   "outputs": [],
   "source": [
    "print('t : ', t)\n",
    "print('y : ', y)"
   ]
  },
  {
   "cell_type": "markdown",
   "metadata": {},
   "source": [
    "**Tracé du premier graphique**"
   ]
  },
  {
   "cell_type": "markdown",
   "metadata": {},
   "source": [
    "Une seule ligne de commande suffit au tracé du graphique.\n",
    "Exécuter la cellule ci-dessous pour tracer le graphique."
   ]
  },
  {
   "cell_type": "code",
   "execution_count": null,
   "metadata": {},
   "outputs": [],
   "source": [
    "plt.plot(t, y)"
   ]
  },
  {
   "cell_type": "markdown",
   "metadata": {},
   "source": [
    "**Amélioration de l'aspect du grpahique**"
   ]
  },
  {
   "cell_type": "markdown",
   "metadata": {},
   "source": [
    "Il s'agit :\n",
    "* d'ajouter un titre,\n",
    "* d'ajouter des légendes sur les axes,\n",
    "* de changer l'aspect du tracé,\n",
    "* d'afficher le quadrillage."
   ]
  },
  {
   "cell_type": "code",
   "execution_count": null,
   "metadata": {},
   "outputs": [],
   "source": [
    "plt.plot(t, y, 'rx', label=\"y=f(t)\")  # rx Croix de couleur rouge, nom de la courbe y=f(t)\n",
    "plt.xlabel(\"t (s)\")  # Nom de l'axe des abscisses\n",
    "plt.ylabel(\"y pointé\")  # Nom de l'axe des ordonnées\n",
    "plt.title(\"Chute libre d'une balle\")  # Titre du graphique\n",
    "plt.grid()  # Affichage de la grille\n",
    "plt.legend()  # Affichage de la légende\n",
    "plt.show()  # Affichage du graphique"
   ]
  },
  {
   "cell_type": "markdown",
   "metadata": {},
   "source": [
    "**Complément - Calculer avec un tableau**"
   ]
  },
  {
   "cell_type": "markdown",
   "metadata": {},
   "source": [
    "Les tableaux créés par numpy supportent des calculs, sans qu'il soit nécessaire de calculer une à une les nouvelles valeurs.\n",
    "\n",
    "*Exercice proposé*"
   ]
  },
  {
   "cell_type": "markdown",
   "metadata": {},
   "source": [
    "On suppose que les valeurs du tableau **y** ne correspondent pas aux positions réelles mais qu'il soit nécessaire de tenir compte de l'échelle de la photo initiale au **2/100ème**.\n",
    "L'ordonnée réelle peut se calculer à partir de la mesure en divisant par $\\dfrac{2}{100}$."
   ]
  },
  {
   "cell_type": "code",
   "execution_count": null,
   "metadata": {},
   "outputs": [],
   "source": [
    "yreel=y/(2/100)  # Un nouveau tableau est créé. Décommenter la ligne suivante pour vérifier son contenu.\n",
    "# print(yreel)"
   ]
  },
  {
   "cell_type": "code",
   "execution_count": null,
   "metadata": {},
   "outputs": [],
   "source": [
    "plt.plot(t, yreel, 'rx', label=\"y=f(t)\")  # rx Croix de couleur rouge, nom de la courbe y=f(t)\n",
    "plt.xlabel(\"t (s)\")  # Nom de l'axe des abscisses\n",
    "plt.ylabel(\"y (cm)\")  # Nom de l'axe des ordonnées\n",
    "plt.title(\"Chute libre d'une balle\")  # Titre du graphique\n",
    "plt.grid()  # Affichage de la grille\n",
    "plt.legend()  # Affichage de la légende\n",
    "plt.show()  # Affichage du graphique"
   ]
  },
  {
   "cell_type": "markdown",
   "metadata": {},
   "source": [
    "**Enrichissement de la commande plt.plot**"
   ]
  },
  {
   "cell_type": "markdown",
   "metadata": {},
   "source": [
    "La couleur et forme du marqueur est définie par l'association de deux lettres :\n",
    "* Couleur : « r » (red), « k » (black), « b » (blue), « y » (yellow), « g » (green)\n",
    "* Marqueur : « o » (gros point), « - » (ligne), « . » (pointillé), « x » (croix), « s » (square), « v » (triangle)"
   ]
  }
 ],
 "metadata": {
  "kernelspec": {
   "display_name": "Python 3",
   "language": "python",
   "name": "python3"
  },
  "language_info": {
   "codemirror_mode": {
    "name": "ipython",
    "version": 3
   },
   "file_extension": ".py",
   "mimetype": "text/x-python",
   "name": "python",
   "nbconvert_exporter": "python",
   "pygments_lexer": "ipython3",
   "version": "3.6.8"
  }
 },
 "nbformat": 4,
 "nbformat_minor": 4
}
