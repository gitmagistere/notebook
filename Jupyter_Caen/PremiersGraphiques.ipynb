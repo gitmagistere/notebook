{
 "cells": [
  {
   "cell_type": "markdown",
   "metadata": {},
   "source": [
    "# Premiers graphiques avec Python\n",
    "\n",
    "Il s'agit ici d'aborder la méthode de tracé de représentations graphiques dans l'environnement Python."
   ]
  },
  {
   "cell_type": "markdown",
   "metadata": {},
   "source": [
    "Pour tracer une courbe en Python, il faut au minimum les éléments ci-dessous."
   ]
  },
  {
   "cell_type": "markdown",
   "metadata": {},
   "source": [
    "**Importer la bibliothèque matplotlib**"
   ]
  },
  {
   "cell_type": "code",
   "execution_count": 3,
   "metadata": {},
   "outputs": [],
   "source": [
    "import matplotlib.pyplot as plt  # L'appel à cette bibliothèque se fera par le nom raccourci plt\n",
    "%matplotlib inline"
   ]
  },
  {
   "cell_type": "markdown",
   "metadata": {},
   "source": [
    "**Disposer de listes pour les abscisses et les ordonnées possédant le même nombre de termes**"
   ]
  },
  {
   "cell_type": "code",
   "execution_count": null,
   "metadata": {},
   "outputs": [],
   "source": [
    "# Entrées à la main dans le programme\n",
    "I = [0.253, 0.87, 1.41, 1.59, 1.83]\n",
    "U = [4.75, 4.1, 3.41, 3.22, 2.97]\n",
    "\n",
    "# Ou construites à l'aide d'une boucle\n",
    "x = []  # On déclare une liste vide\n",
    "y = []  # Idem\n",
    "for i in range(100):\n",
    "    x.append(3.5 * i / 100.)\n",
    "    y.append(-0.5 * 9.81*(i / 100)**2 + 2)"
   ]
  },
  {
   "cell_type": "markdown",
   "metadata": {},
   "source": [
    "Pour afficher les listes créées, exécuter la cellule précédente, puis demandez l'affichage des listes par la commande *print* en décommentant la ligne souhaitée (supprimer le caractère '#'"
   ]
  },
  {
   "cell_type": "code",
   "execution_count": null,
   "metadata": {},
   "outputs": [],
   "source": [
    "# print(I)\n",
    "print(U)\n",
    "# print(x)\n",
    "# print(y)"
   ]
  },
  {
   "cell_type": "markdown",
   "metadata": {},
   "source": [
    "**Tracé des courbes**"
   ]
  },
  {
   "cell_type": "code",
   "execution_count": null,
   "metadata": {},
   "outputs": [],
   "source": [
    "Il reste à tracer les graphiques en utilisant les commandes *plt.plot()*\n",
    "Décommenter les deux lignes correpsondant à la courbe que vous souhaitez tracer."
   ]
  },
  {
   "cell_type": "code",
   "execution_count": null,
   "metadata": {},
   "outputs": [],
   "source": [
    "plt.plot(x, y)\n",
    "plt.show()\n",
    "#plt.plot(I,U)\n",
    "#plt.show()"
   ]
  },
  {
   "cell_type": "markdown",
   "metadata": {},
   "source": [
    "**Amélioration du graphique**"
   ]
  },
  {
   "cell_type": "code",
   "execution_count": null,
   "metadata": {},
   "outputs": [],
   "source": [
    "On peut améliorer la lisibilité du graphique avec les points suivants :\n",
    "* Ajout de légendes sur les axes\n",
    "* Ajout d'une légende pour la courbe\n",
    "* Ajout de la grille"
   ]
  },
  {
   "cell_type": "code",
   "execution_count": null,
   "metadata": {},
   "outputs": [],
   "source": [
    "plt.plot(x, y, label=\"Balle n°1\")\n",
    "plt.title(\"Chute libre\")\n",
    "plt.xlabel(\"t (s)\")\n",
    "plt.ylabel(\"y (m)\")\n",
    "plt.legend()\n",
    "plt.grid()\n",
    "plt.show()"
   ]
  },
  {
   "cell_type": "markdown",
   "metadata": {},
   "source": [
    "La bibliothèque matplotlib offre des possibilités bien plus étendues et permet la création de représentations graphiques plus complexes.\n",
    "L'ensembles des fonctionnalités est disponible dans [la documentation en ligne de Matplotlib (en anglais).](https://matplotlib.org/3.1.1/tutorials/index.html)"
   ]
  }
 ],
 "metadata": {
  "kernelspec": {
   "display_name": "Python 3",
   "language": "python",
   "name": "python3"
  },
  "language_info": {
   "codemirror_mode": {
    "name": "ipython",
    "version": 3
   },
   "file_extension": ".py",
   "mimetype": "text/x-python",
   "name": "python",
   "nbconvert_exporter": "python",
   "pygments_lexer": "ipython3",
   "version": "3.6.8"
  }
 },
 "nbformat": 4,
 "nbformat_minor": 4
}
