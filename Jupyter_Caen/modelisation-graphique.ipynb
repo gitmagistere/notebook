{
 "cells": [
  {
   "cell_type": "markdown",
   "metadata": {},
   "source": [
    "# Modélisation des données expérimentales"
   ]
  },
  {
   "cell_type": "code",
   "execution_count": 1,
   "metadata": {},
   "outputs": [],
   "source": [
    "import math\n",
    "import numpy as np\n",
    "import matplotlib.pyplot as plt\n",
    "from scipy.optimize import curve_fit # La fonction qui permet de modéliser"
   ]
  },
  {
   "cell_type": "markdown",
   "metadata": {},
   "source": [
    "# La librairie scipy permet de modéliser (sous-librairie optimize)\n",
    "https://docs.scipy.org/doc/scipy/reference/generated/scipy.optimize.curve_fit.html"
   ]
  },
  {
   "cell_type": "markdown",
   "metadata": {},
   "source": [
    "La **signature basique** de la fonction `curve_fit` est :\n",
    "\n",
    "`curve_fit(fonction, x, y)`\n",
    "\n",
    "avec `fonction` la fonction du modèle qui prend comme paramètres x (une abscisse) et des paramètres de modélisation (\\*parametres) et qui retourne y (une ordonnée). Je conseille de définir cette fonction \"ailleurs\" dans le code\".\n",
    "\n",
    "`curve_fit` retourne un tableau (array) contenant les valeurs optimisées des paramètres et un tableau de la covariance de ces paramètres (inutile à notre niveau !). Seul le premier objet retourné nous est utile.\n"
   ]
  },
  {
   "cell_type": "markdown",
   "metadata": {},
   "source": [
    "### Exemple de modélisation avec une fonction affine\n",
    "On se donne une série de valeurs x et y (à peu près affine) et on cherche à modéliser y = a x + b"
   ]
  },
  {
   "cell_type": "code",
   "execution_count": 2,
   "metadata": {},
   "outputs": [
    {
     "name": "stdout",
     "output_type": "stream",
     "text": [
      "a = 0.48499999999887655 ; b = 10.110000000019868\n"
     ]
    },
    {
     "data": {
      "image/png": "[encoded data removed]",
      "text/plain": [
       "<Figure size 432x288 with 1 Axes>"
      ]
     },
     "metadata": {
      "needs_background": "light"
     },
     "output_type": "display_data"
    }
   ],
   "source": [
    "# données à modéliser\n",
    "y = np.array([11.1, 12.0, 13.1, 13.9, 15.0])\n",
    "x = np.array([2, 4, 6, 8, 10])\n",
    "\n",
    "# définition de la fonction modèle\n",
    "def f_affine(x, a, b):\n",
    "    \"\"\" Modèle d'une fonction affine \"\"\"\n",
    "    return a * x + b\n",
    "\n",
    "# modélisation : recherche des paramètres optimisés du modèle (+ covariance inutile)\n",
    "parametres, covariance = curve_fit(f_affine, x, y)\n",
    "\n",
    "a, b = parametres # unpacking des paramètres du modèle\n",
    "print(f'a = {a} ; b = {b}')\n",
    "\n",
    "# calcul des ordonnées avec la fonction du modèle et les paramètres optimisés\n",
    "y_model = f_affine(x, a, b)\n",
    "\n",
    "# tracé des graphes des données à modéliser et de la fonction modèle optimisée\n",
    "plt.plot(x, y, 'rp')\n",
    "plt.plot(x, y_model, 'b')\n",
    "\n",
    "plt.axis(ymin=0, ymax=20) \n",
    "plt.grid(True)\n",
    "\n",
    "plt.show()"
   ]
  },
  {
   "cell_type": "markdown",
   "metadata": {},
   "source": [
    "### On recommence de façon un peu plus optimisé"
   ]
  },
  {
   "cell_type": "code",
   "execution_count": 3,
   "metadata": {},
   "outputs": [
    {
     "data": {
      "image/png": "[encoded data removed]",
      "text/plain": [
       "<Figure size 432x288 with 1 Axes>"
      ]
     },
     "metadata": {
      "needs_background": "light"
     },
     "output_type": "display_data"
    }
   ],
   "source": [
    "# définition de la fonction modèle\n",
    "def f(x, a, b):\n",
    "    return a * x + b\n",
    "\n",
    "# modélisation : recherche des paramètres optimisés du modèle\n",
    "parametres = curve_fit(f, x, y)[0] # seuls les paramètres optimisés nous intéressent\n",
    "\n",
    "# tracé des graphes des données à modéliser et de la fonction modèle optimisée\n",
    "plt.plot(x, y, 'rp')\n",
    "plt.plot(x, f(x, *parametres), 'b') # on exploite le unpacking\n",
    "\n",
    "plt.axis(ymin=0, ymax=20) \n",
    "plt.grid(True)\n",
    "\n",
    "plt.show()"
   ]
  }
 ],
 "metadata": {
  "kernelspec": {
   "display_name": "Python 3",
   "language": "python",
   "name": "python3"
  },
  "language_info": {
   "codemirror_mode": {
    "name": "ipython",
    "version": 3
   },
   "file_extension": ".py",
   "mimetype": "text/x-python",
   "name": "python",
   "nbconvert_exporter": "python",
   "pygments_lexer": "ipython3",
   "version": "3.7.4"
  }
 },
 "nbformat": 4,
 "nbformat_minor": 2
}
