{
 "cells": [
  {
   "cell_type": "markdown",
   "metadata": {},
   "source": [
    "# Utiliser un langage de programmation pour effectuer le bilan énergétique d’un système en mouvement."
   ]
  },
  {
   "cell_type": "code",
   "execution_count": 1,
   "metadata": {},
   "outputs": [],
   "source": [
    "import math\n",
    "import numpy as np\n",
    "import matplotlib.pyplot as plt"
   ]
  },
  {
   "cell_type": "markdown",
   "metadata": {},
   "source": [
    "### Calcul du vecteur vitesse\n",
    "\n",
    "$v_{x}[i] = \\dfrac{x_{[i+1]} - x_{[i]}} {t_{[i+1]} - t_{[i]}}$\n",
    "\n",
    "$v_{y}[i] = \\dfrac{y_{[i+1]} - y_{[i]}} {t_{[i+1]} - t_{[i]}}$\n",
    "\n",
    "\n",
    "\n",
    "On donne une valeur arbitrairement nulle à la dernière valeur de v (pour conserver la même taille de données)"
   ]
  },
  {
   "cell_type": "code",
   "execution_count": 2,
   "metadata": {},
   "outputs": [],
   "source": [
    "def vitesse(x, y, t):\n",
    "    \"\"\" calcul des coordonnées de v \"\"\"\n",
    "    vx = []\n",
    "    for i in range(len(x)-1):\n",
    "        vx.append((x[i+1] - x[i]) / (t[i+1] - t[i]))\n",
    "    vx.append(0)\n",
    "\n",
    "    vy = []\n",
    "    for i in range(len(y)-1):\n",
    "        vy.append((y[i+1] - y[i]) / (t[i+1] - t[i]))\n",
    "    vy.append(0)\n",
    "    return vx, vy"
   ]
  },
  {
   "cell_type": "markdown",
   "metadata": {},
   "source": [
    "# Mouvement parabolique (théorie)\n",
    "On considère une bille lancée d'une hauteur $h$, avec un angle $\\alpha$ par rapport à l'horizontale, et une vitesse intiale $v_0$."
   ]
  },
  {
   "cell_type": "code",
   "execution_count": 3,
   "metadata": {},
   "outputs": [],
   "source": [
    "# hauteur de lancement (m)\n",
    "h = 5\n",
    "# angle en degré, puis conversion en radians\n",
    "alpha = 40\n",
    "alpha = np.radians(alpha) \n",
    "# vitesse initiale (m/s)\n",
    "v0 = 20\n",
    "# intensité de la pesanteur (m/s2)\n",
    "g = 9.8\n",
    "# masse (kg)\n",
    "m = 1 "
   ]
  },
  {
   "cell_type": "code",
   "execution_count": 4,
   "metadata": {},
   "outputs": [],
   "source": [
    "# création des instants\n",
    "t = np.linspace(0, 3, 50)"
   ]
  },
  {
   "cell_type": "code",
   "execution_count": 5,
   "metadata": {},
   "outputs": [],
   "source": [
    "# coordonnées de positions (x, y) en fonction du temps\n",
    "x = v0 * np.cos(alpha) * t\n",
    "\n",
    "y = -0.5 * g * t**2 + v0 * np.sin(alpha) * t + h\n",
    "\n",
    "# équation de la trajectoire\n",
    "traj = -0.5 * g * (x / (v0 * np.cos(alpha)))**2 + np.tan(alpha) * x + h"
   ]
  },
  {
   "cell_type": "code",
   "execution_count": 6,
   "metadata": {},
   "outputs": [
    {
     "data": {
      "text/plain": [
       "[<matplotlib.lines.Line2D at 0x7fbe5210cf90>]"
      ]
     },
     "execution_count": 6,
     "metadata": {},
     "output_type": "execute_result"
    },
    {
     "data": {
      "image/png": "[encoded data removed]",
      "text/plain": [
       "<Figure size 432x288 with 1 Axes>"
      ]
     },
     "metadata": {
      "needs_background": "light"
     },
     "output_type": "display_data"
    }
   ],
   "source": [
    "plt.scatter(x, y)\n",
    "plt.ylabel('y (m)')\n",
    "plt.xlabel('x (m)')\n",
    "plt.plot(x, traj, 'red')"
   ]
  },
  {
   "cell_type": "markdown",
   "metadata": {},
   "source": [
    "### Calcul des énergies cinétique, potentielle et mécanique\n",
    "$E_c = \\dfrac{1}{2} \\times m \\times v^2$\n",
    "\n",
    "$E_p = m \\times g \\times y$\n",
    "\n",
    "$E_m = E_c + E_p$"
   ]
  },
  {
   "cell_type": "code",
   "execution_count": 7,
   "metadata": {},
   "outputs": [],
   "source": [
    "def Ep(y, t, m):\n",
    "    return m * g * y\n",
    "\n",
    "def Ec(x, y, t, m):\n",
    "    vx, vy = vitesse(x, y, t)\n",
    "    # vx, vy sont des listes, à convertir éventuellement en np.array()\n",
    "    v = np.sqrt(np.array(vx)**2 + np.array(vy)**2)\n",
    "    return 0.5*m*v**2\n",
    "\n",
    "def Em(x, y, t, m):\n",
    "    return Ec(x, y, t, m) + Ep(y, t, m)"
   ]
  },
  {
   "cell_type": "code",
   "execution_count": 8,
   "metadata": {},
   "outputs": [],
   "source": [
    "ec, ep, em = Ec(x, y, t, m), Ep(y, t, m), Em(x, y, t, m)"
   ]
  },
  {
   "cell_type": "code",
   "execution_count": 9,
   "metadata": {},
   "outputs": [
    {
     "data": {
      "text/plain": [
       "<matplotlib.legend.Legend at 0x7fbe7578f550>"
      ]
     },
     "execution_count": 9,
     "metadata": {},
     "output_type": "execute_result"
    },
    {
     "data": {
      "image/png": "[encoded data removed]",
      "text/plain": [
       "<Figure size 432x288 with 1 Axes>"
      ]
     },
     "metadata": {
      "needs_background": "light"
     },
     "output_type": "display_data"
    }
   ],
   "source": [
    "# on ne \"plotte\" pas les points aux extrémités à cause de la modélisation choisie pour le calcul de v au départ\n",
    "plt.plot(t[2:-2], ec[2:-2], 'red', label='Ec')\n",
    "plt.plot(t[2:-2], ep[2:-2], 'blue', label='Ep')\n",
    "plt.plot(t[2:-2], em[2:-2], 'green', label='Em')\n",
    "\n",
    "plt.xlabel('t (s)')\n",
    "plt.ylabel('E (J)')\n",
    "\n",
    "plt.title('Évolution des énergies')\n",
    "plt.legend()"
   ]
  },
  {
   "cell_type": "code",
   "execution_count": null,
   "metadata": {},
   "outputs": [],
   "source": []
  },
  {
   "cell_type": "code",
   "execution_count": null,
   "metadata": {},
   "outputs": [],
   "source": []
  }
 ],
 "metadata": {
  "kernelspec": {
   "display_name": "Python 3",
   "language": "python",
   "name": "python3"
  },
  "language_info": {
   "codemirror_mode": {
    "name": "ipython",
    "version": 3
   },
   "file_extension": ".py",
   "mimetype": "text/x-python",
   "name": "python",
   "nbconvert_exporter": "python",
   "pygments_lexer": "ipython3",
   "version": "3.7.4"
  }
 },
 "nbformat": 4,
 "nbformat_minor": 2
}
