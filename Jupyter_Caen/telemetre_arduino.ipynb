{
 "cells": [
  {
   "cell_type": "markdown",
   "metadata": {},
   "source": [
    "# Mesurer une distance avec un microcontrôleur Arduino"
   ]
  },
  {
   "cell_type": "markdown",
   "metadata": {},
   "source": [
    "## 1. Le montage\n",
    "Le montage est très simple.  \n",
    "On relie le trigger au connecteur 7 et l'echo au connecteur 6 sans oublier l'alimentation 5V et masse (Ground)\n",
    "![montage](telemetre.JPG)\n",
    "\n",
    "## 2. Le principe\n",
    "En mettant la sortie 7 au niveau haut pendant 10µs, on provoqie l'émission d'une salve d' ultrasons de durée 10µs.\n",
    "Lorsque l'écho de cette onde est reçu par le capteur, la broche echo passe au niveau haut.\n",
    "Il suffit donc de mesurer la durée écoulée depuis l'émission de la salve pour connaître avec l'instruction _pulseIn(DIN_ECHO, HIGH)_\n",
    "Attention, celle-ci est en microseconde.  \n",
    "En prenant l'hypothèse que la célérité des US est 340 m/s,  \n",
    "il vient d = v . $\\Delta$t. $10^{-6}$ /2 soit d = 340*$10^{-6}$/2 = 1,7.$10^{-4}$.$\\Delta$t.   \n",
    "Si on veut le résultat en cm, il faut encore multiplier par 100, ce qui donne : d= $\\frac{17}{1000}$.$\\Delta$t.  \n",
    "On remarque ausi que $\\frac{1000}{17}$ = 58,8235 donc on peut simplement calculer d avec la formule :  \n",
    "\n",
    "\\begin{align}\n",
    "\\fbox{ d = pulseIn(DIN_ECHO, HIGH)/58.8235 }\n",
    "\\end{align}\n",
    "\n",
    "\n",
    "## 3. Le code Arduino\n",
    "### A n'exécuter que sur un arduino\n"
   ]
  },
  {
   "cell_type": "code",
   "execution_count": null,
   "metadata": {},
   "outputs": [],
   "source": [
    "\n",
    "const char DOUT_TRIGGER = 7;\n",
    "const char DIN_ECHO = 6;\n",
    "float distance;\n",
    "\n",
    "void setup() {\n",
    "    //On configure le trigger en sortie et l écho en entrée\n",
    "    pinMode(DIN_ECHO, INPUT);\n",
    "    pinMode(DOUT_TRIGGER, OUTPUT);\n",
    "    //on initialise le moniteur série\n",
    "    Serial.begin(9600)\n",
    "}\n",
    "\n",
    "void loop() {\n",
    "\n",
    "//emission salve US de 10µs\n",
    "    digitalWrite(DOUT_TRIGGER, LOW);\n",
    "    delayMicroseconds(2);\n",
    "    digitalWrite(DOUT_TRIGGER, HIGH);\n",
    "    delayMicroseconds(10);\n",
    "    digitalWrite(DOUT_TRIGGER, LOW);\n",
    "   \n",
    "//reception echo\n",
    "    distance= pulseIn(DIN_ECHO, HIGH) /58.8235;\n",
    "    //d=(34000*t/1000000)/2=17/1000*t (= t/58.8235)\n",
    "    \n",
    "    //le télémetre est limité à 4 mètres    \n",
    "    if (distance>400){\n",
    "        Serial.println(\"echec de la mesure\");\n",
    "        delay(800);\n",
    "    }\n",
    "    else{\n",
    "        Serial.println(\"distance \"+distance+\" cm\");\n",
    "        delay(2000);\n",
    "    }\n",
    "}"
   ]
  },
  {
   "cell_type": "markdown",
   "metadata": {},
   "source": [
    "## 4. La photo du montage avec un afficheur LCD\n",
    "![photo](photo_telemetre.jpg)\n",
    "\n",
    "## 5. Le programme gérant l'afficheur"
   ]
  },
  {
   "cell_type": "code",
   "execution_count": null,
   "metadata": {},
   "outputs": [],
   "source": [
    "#include <LiquidCrystal_I2C.h>\n",
    "#include <Wire.h>\n",
    "LiquidCrystal_I2C lcd(0x20,16,2);//0x3F est a changé en fonction de LCD\n",
    "const char DOUT_TRIGGER = 7;\n",
    "const char DIN_ECHO = 6;\n",
    "float distance;\n",
    "\n",
    "void setup() {\n",
    "    lcd.init();\n",
    "    lcd.backlight();\n",
    "    lcd.setCursor(0,0);\n",
    "    lcd.print(\"Bonjour\");\n",
    "    delay(2000);\n",
    "    lcd.setCursor(0,1);\n",
    "    lcd.print(\"debut mesure\");\n",
    "    pinMode(DIN_ECHO, INPUT);\n",
    "    pinMode(DOUT_TRIGGER, OUTPUT);\n",
    "    delay(1000);\n",
    "}\n",
    "\n",
    "void loop() {\n",
    "    //emission salve US de 10µs\n",
    "    digitalWrite(DOUT_TRIGGER, LOW);\n",
    "    delayMicroseconds(2);\n",
    "    digitalWrite(DOUT_TRIGGER, HIGH);\n",
    "    delayMicroseconds(10);\n",
    "    digitalWrite(DOUT_TRIGGER, LOW);\n",
    "\n",
    "    //reception echo et calcul de la distance\n",
    "    distance= pulseIn(DIN_ECHO, HIGH) /58.8235;\n",
    "    if (distance>400){\n",
    "        lcd.init();\n",
    "        lcd.setCursor(0,0);\n",
    "        lcd.print(\"echec de la \");\n",
    "        lcd.setCursor(0,1);\n",
    "        lcd.print(\"mesure\");\n",
    "        delay(800);\n",
    "    }\n",
    "    else{\n",
    "        lcd.init();\n",
    "        lcd.setCursor(0,0);\n",
    "        lcd.print(\"distance\");\n",
    "        lcd.setCursor(0,1);\n",
    "        lcd.print(distance);\n",
    "        lcd.print(\"cm\");\n",
    "        delay(2000);\n",
    "    }\n",
    "}"
   ]
  },
  {
   "cell_type": "markdown",
   "metadata": {},
   "source": [
    "![montage_lcd](telemetre_lcd.jpg)\n"
   ]
  }
 ],
 "metadata": {
  "kernelspec": {
   "display_name": "Python 3",
   "language": "python",
   "name": "python3"
  },
  "language_info": {
   "codemirror_mode": {
    "name": "ipython",
    "version": 3
   },
   "file_extension": ".py",
   "mimetype": "text/x-python",
   "name": "python",
   "nbconvert_exporter": "python",
   "pygments_lexer": "ipython3",
   "version": "3.7.1"
  }
 },
 "nbformat": 4,
 "nbformat_minor": 2
}
