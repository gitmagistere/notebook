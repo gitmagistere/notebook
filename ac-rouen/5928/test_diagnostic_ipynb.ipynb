{
 "cells": [
  {
   "cell_type": "code",
   "execution_count": null,
   "metadata": {},
   "outputs": [],
   "source": [
    "from random import*\n",
    "\n",
    "def simulation(n):\n",
    "    Echantillon=[]\n",
    "    for i in range(18):\n",
    "        Echantillon.append([\"positif\",\"malade\"])\n",
    "    # finir de compléter la liste Echantillon !\n",
    "    # ...\n",
    "\n",
    "    # ...\n",
    "\n",
    "    # ...\n",
    "    compteur_cas_total = 0\n",
    "    compteur_cas_concernés = 0\n",
    "    for i in range(n):\n",
    "        personne_choisie = choice(Echantillon)\n",
    "        resultat_test = personne_choisie[0]\n",
    "        état_santé = personne_choisie[1]\n",
    "      # if ... #condition à trouver !\n",
    "            compteur_cas_total = compteur_cas_total + 1\n",
    "          # if ...    #condition à trouver !\n",
    "                compteur_cas_concernés = compteur_cas_concernés + 1\n",
    "                \n",
    "    frequence = compteur_cas_concernés / compteur_cas_total\n",
    "    \n",
    "    return [compteur_cas_concernés,compteur_cas_total,frequence]"
   ]
  }
 ],
 "metadata": {
  "kernelspec": {
   "display_name": "Python 3",
   "language": "python",
   "name": "python3"
  },
  "language_info": {
   "codemirror_mode": {
    "name": "ipython",
    "version": 3
   },
   "file_extension": ".py",
   "mimetype": "text/x-python",
   "name": "python",
   "nbconvert_exporter": "python",
   "pygments_lexer": "ipython3",
   "version": "3.6.10"
  }
 },
 "nbformat": 4,
 "nbformat_minor": 2
}
