{
 "cells": [
  {
   "cell_type": "markdown",
   "id": "uniform-roberts",
   "metadata": {},
   "source": [
    "# Se familiariser avec jupyter"
   ]
  },
  {
   "cell_type": "markdown",
   "id": "sticky-manor",
   "metadata": {},
   "source": [
    "## Premier programme : Pyhton vous salue"
   ]
  },
  {
   "cell_type": "markdown",
   "id": "accredited-sweden",
   "metadata": {},
   "source": [
    "### Idée 1"
   ]
  },
  {
   "cell_type": "markdown",
   "id": "split-orchestra",
   "metadata": {},
   "source": [
    "Un première idée pour que python nous salue consiste à insérer notre prénom dans le programme. "
   ]
  },
  {
   "cell_type": "code",
   "execution_count": 4,
   "id": "rotary-black",
   "metadata": {},
   "outputs": [
    {
     "name": "stdout",
     "output_type": "stream",
     "text": [
      "Bonjour prénom\n"
     ]
    }
   ],
   "source": [
    "print(\"Bonjour prénom\")"
   ]
  },
  {
   "cell_type": "markdown",
   "id": "continent-country",
   "metadata": {},
   "source": [
    "### Idée 2"
   ]
  },
  {
   "cell_type": "markdown",
   "id": "organizational-arrest",
   "metadata": {},
   "source": [
    "Une seconde idée consiste à faire demander notre nom à l'aide de l'instruction ***input*** puis d'afficher la réponse précédée du mot bonjour."
   ]
  },
  {
   "cell_type": "code",
   "execution_count": 7,
   "id": "authentic-shirt",
   "metadata": {},
   "outputs": [
    {
     "name": "stdout",
     "output_type": "stream",
     "text": [
      "Quel est votre prénom ? Python\n",
      "Bonjour Python\n"
     ]
    }
   ],
   "source": [
    "prenom=input(\"Quel est votre prénom ? \")\n",
    "print(\"Bonjour \"+prenom)"
   ]
  },
  {
   "cell_type": "markdown",
   "id": "coral-rolling",
   "metadata": {},
   "source": [
    "On souhaite créer un programme qui demande à l'utilisateur d'entrer deux nombres et qui en fait la somme.\n",
    "On définit deux variables a et b pour stocker les valeurs respectives de chaque nombre."
   ]
  },
  {
   "cell_type": "code",
   "execution_count": null,
   "id": "divided-sculpture",
   "metadata": {},
   "outputs": [],
   "source": [
    "a=input(\"Premier nombre = ?\")\n",
    "b=input(\"Second nombre = ?\")\n",
    "print(a+b)"
   ]
  }
 ],
 "metadata": {
  "kernelspec": {
   "display_name": "Python 3",
   "language": "python",
   "name": "python3"
  },
  "language_info": {
   "codemirror_mode": {
    "name": "ipython",
    "version": 3
   },
   "file_extension": ".py",
   "mimetype": "text/x-python",
   "name": "python",
   "nbconvert_exporter": "python",
   "pygments_lexer": "ipython3",
   "version": "3.6.13"
  }
 },
 "nbformat": 4,
 "nbformat_minor": 5
}
