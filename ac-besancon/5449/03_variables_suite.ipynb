{
  "nbformat": 4,
  "nbformat_minor": 5,
  "metadata": {
    "kernelspec": {
      "display_name": "Python 3",
      "language": "python",
      "name": "python3"
    },
    "language_info": {
      "codemirror_mode": {
        "name": "ipython",
        "version": 3
      },
      "file_extension": ".py",
      "mimetype": "text/x-python",
      "name": "python",
      "nbconvert_exporter": "python",
      "pygments_lexer": "ipython3",
      "version": "3.6.13"
    },
    "colab": {
      "name": "03_variables_suite",
      "provenance": [],
      "collapsed_sections": [],
      "toc_visible": true
    }
  },
  "cells": [
    {
      "cell_type": "markdown",
      "metadata": {
        "id": "h77TTKZcoPEd"
      },
      "source": [
        "## Remarque"
      ],
      "id": "h77TTKZcoPEd"
    },
    {
      "cell_type": "markdown",
      "metadata": {
        "id": "sorted-physics"
      },
      "source": [
        "Il est possible de d'ajouter un nombre entier (type *int*) et un nombre décimal (type *float*).\n",
        "\n",
        "Le résultat est un nombre décimal"
      ],
      "id": "sorted-physics"
    },
    {
      "cell_type": "code",
      "metadata": {
        "id": "bright-medication",
        "colab": {
          "base_uri": "https://localhost:8080/"
        },
        "outputId": "689355bb-85f5-40b0-9b3b-1b60a0e7d790"
      },
      "source": [
        "variable1=45\n",
        "variable2=2.7\n",
        "print(variable1+variable2)\n",
        "type(variable1+variable2)"
      ],
      "id": "bright-medication",
      "execution_count": 1,
      "outputs": [
        {
          "output_type": "stream",
          "name": "stdout",
          "text": [
            "47.7\n"
          ]
        },
        {
          "output_type": "execute_result",
          "data": {
            "text/plain": [
              "float"
            ]
          },
          "metadata": {},
          "execution_count": 1
        }
      ]
    },
    {
      "cell_type": "markdown",
      "metadata": {
        "id": "y529djo6qy4L"
      },
      "source": [
        "## Conversions de type\n",
        "* Il est possible de convertir un nombre entier en nombre décimal à l'aide de l'instruction *float(**nombre**)*"
      ],
      "id": "y529djo6qy4L"
    },
    {
      "cell_type": "code",
      "metadata": {
        "colab": {
          "base_uri": "https://localhost:8080/"
        },
        "id": "t8UVLAdiqbVc",
        "outputId": "1b20e12d-692f-4ed4-9ace-68444e7efaf8"
      },
      "source": [
        "nombre=34\n",
        "type(nombre)"
      ],
      "id": "t8UVLAdiqbVc",
      "execution_count": 2,
      "outputs": [
        {
          "output_type": "execute_result",
          "data": {
            "text/plain": [
              "int"
            ]
          },
          "metadata": {},
          "execution_count": 2
        }
      ]
    },
    {
      "cell_type": "markdown",
      "metadata": {
        "id": "xN4sQ7zxsIs2"
      },
      "source": [
        "La variable **nombre** est un entier"
      ],
      "id": "xN4sQ7zxsIs2"
    },
    {
      "cell_type": "code",
      "metadata": {
        "colab": {
          "base_uri": "https://localhost:8080/"
        },
        "id": "StPEDWvQqwJU",
        "outputId": "989996e3-e43b-468f-8ee7-0ddaa85184a5"
      },
      "source": [
        "float(nombre)"
      ],
      "id": "StPEDWvQqwJU",
      "execution_count": 3,
      "outputs": [
        {
          "output_type": "execute_result",
          "data": {
            "text/plain": [
              "34.0"
            ]
          },
          "metadata": {},
          "execution_count": 3
        }
      ]
    },
    {
      "cell_type": "markdown",
      "metadata": {
        "id": "PBkSnD9usgme"
      },
      "source": [
        "L'instruction *float()* converti la variable **nombre** en un nombre décimal."
      ],
      "id": "PBkSnD9usgme"
    },
    {
      "cell_type": "code",
      "metadata": {
        "colab": {
          "base_uri": "https://localhost:8080/"
        },
        "id": "SUTGQqOMsTtW",
        "outputId": "22cf5ccd-69fe-40eb-c3be-a5559628bfb4"
      },
      "source": [
        "type(float(nombre))"
      ],
      "id": "SUTGQqOMsTtW",
      "execution_count": 4,
      "outputs": [
        {
          "output_type": "execute_result",
          "data": {
            "text/plain": [
              "float"
            ]
          },
          "metadata": {},
          "execution_count": 4
        }
      ]
    },
    {
      "cell_type": "markdown",
      "metadata": {
        "id": "mQoWJyCqtBOo"
      },
      "source": [
        "* Il est également possible de convertir un nombre décimal en nombre entier à l'aide de l'instruction *int(**nombre**)*."
      ],
      "id": "mQoWJyCqtBOo"
    },
    {
      "cell_type": "code",
      "metadata": {
        "colab": {
          "base_uri": "https://localhost:8080/"
        },
        "id": "9ikxXPqLs7zX",
        "outputId": "a2893787-3bb2-4d2c-8ad6-e33c54ce9093"
      },
      "source": [
        "int(2.714)"
      ],
      "id": "9ikxXPqLs7zX",
      "execution_count": 5,
      "outputs": [
        {
          "output_type": "execute_result",
          "data": {
            "text/plain": [
              "2"
            ]
          },
          "metadata": {},
          "execution_count": 5
        }
      ]
    },
    {
      "cell_type": "markdown",
      "metadata": {
        "id": "QJ861ik1uUGE"
      },
      "source": [
        "Cette instruction renvoie la partie entière du **nombre**."
      ],
      "id": "QJ861ik1uUGE"
    },
    {
      "cell_type": "markdown",
      "metadata": {
        "id": "z3OkI_VrutMY"
      },
      "source": [
        "* Une chaine de caractère peut également être converti en nombre entier ou en nombre décimal."
      ],
      "id": "z3OkI_VrutMY"
    },
    {
      "cell_type": "code",
      "metadata": {
        "colab": {
          "base_uri": "https://localhost:8080/"
        },
        "id": "fRWF8QZfttQ3",
        "outputId": "d417c3e9-c62d-4f8c-d511-5a3844472ab7"
      },
      "source": [
        "a=\"3.14\"\n",
        "type(a)"
      ],
      "id": "fRWF8QZfttQ3",
      "execution_count": 6,
      "outputs": [
        {
          "output_type": "execute_result",
          "data": {
            "text/plain": [
              "str"
            ]
          },
          "metadata": {},
          "execution_count": 6
        }
      ]
    },
    {
      "cell_type": "code",
      "metadata": {
        "colab": {
          "base_uri": "https://localhost:8080/"
        },
        "id": "9FnSPhvkvGcX",
        "outputId": "d1d99ccd-90a8-41e6-eaf3-be80f677442d"
      },
      "source": [
        "float(a)"
      ],
      "id": "9FnSPhvkvGcX",
      "execution_count": 7,
      "outputs": [
        {
          "output_type": "execute_result",
          "data": {
            "text/plain": [
              "3.14"
            ]
          },
          "metadata": {},
          "execution_count": 7
        }
      ]
    },
    {
      "cell_type": "code",
      "metadata": {
        "colab": {
          "base_uri": "https://localhost:8080/"
        },
        "id": "CMgZqd-XwsU0",
        "outputId": "9950418b-d678-485c-b688-c52acf0c39f7"
      },
      "source": [
        "b=\"4231\"\n",
        "int(b)"
      ],
      "id": "CMgZqd-XwsU0",
      "execution_count": 8,
      "outputs": [
        {
          "output_type": "execute_result",
          "data": {
            "text/plain": [
              "4231"
            ]
          },
          "metadata": {},
          "execution_count": 8
        }
      ]
    },
    {
      "cell_type": "markdown",
      "metadata": {
        "id": "wAQM1sDa4Sep"
      },
      "source": [
        "* Inversement un nombre entier ou en nombre décimal peut être converti en une chaine de caractère à l'aide de l'instruction *str(**nombre**)*."
      ],
      "id": "wAQM1sDa4Sep"
    },
    {
      "cell_type": "code",
      "metadata": {
        "colab": {
          "base_uri": "https://localhost:8080/",
          "height": 35
        },
        "id": "8mMImk-84n6Z",
        "outputId": "7b98c2d8-534a-4206-b26b-a86ac9d5f7ee"
      },
      "source": [
        "str(489.382)"
      ],
      "id": "8mMImk-84n6Z",
      "execution_count": 9,
      "outputs": [
        {
          "output_type": "execute_result",
          "data": {
            "application/vnd.google.colaboratory.intrinsic+json": {
              "type": "string"
            },
            "text/plain": [
              "'489.382'"
            ]
          },
          "metadata": {},
          "execution_count": 9
        }
      ]
    }
  ]
}