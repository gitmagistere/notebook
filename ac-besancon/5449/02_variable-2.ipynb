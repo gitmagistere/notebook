{
  "nbformat": 4,
  "nbformat_minor": 0,
  "metadata": {
    "colab": {
      "name": "02_variable_2.ipynb",
      "provenance": [],
      "collapsed_sections": []
    },
    "kernelspec": {
      "name": "python3",
      "display_name": "Python 3"
    },
    "language_info": {
      "name": "python"
    }
  },
  "cells": [
    {
      "cell_type": "markdown",
      "metadata": {
        "id": "fAAPFmMJAyeR"
      },
      "source": [
        "Le programme suivant demande deux nombres à l'utilisateur, puis affiche la somme.\n",
        "\n",
        "Exécuter ce programmme.\n",
        "\n",
        "\n"
      ]
    },
    {
      "cell_type": "code",
      "metadata": {
        "id": "LXg8kyKQAtt2"
      },
      "source": [
        "a=input(\"Quel est votre premier nombre ?\")\n",
        "b=input(\"Quel est votre second nombre ?\")\n",
        "\n",
        "print(\"La somme de ces deux nombres vaut : \",a+b)"
      ],
      "execution_count": null,
      "outputs": []
    },
    {
      "cell_type": "markdown",
      "metadata": {
        "id": "OEcw06KQBaZ3"
      },
      "source": [
        "Le programme ne réalise pas ce qui attendu.\n",
        "\n",
        "On souhaite corriger le programme.\n",
        "\n",
        "> Aide :\n",
        "* afficher le type des variables `a` et `b` à l'aide de l'instruction `type()`\n",
        "* proposer une correction du programme "
      ]
    }
  ]
}