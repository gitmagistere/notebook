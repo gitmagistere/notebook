{
  "nbformat": 4,
  "nbformat_minor": 0,
  "metadata": {
    "colab": {
      "name": "09_module_random.ipynb",
      "provenance": [],
      "collapsed_sections": [
        "sKXQOLNSXiMj",
        "VF9zT8ibV6dU"
      ]
    },
    "kernelspec": {
      "name": "python3",
      "display_name": "Python 3"
    },
    "language_info": {
      "name": "python"
    }
  },
  "cells": [
    {
      "cell_type": "markdown",
      "metadata": {
        "id": "sKXQOLNSXiMj"
      },
      "source": [
        "## Le module `random`\n",
        "Ce module fournit de nombreuses fonctions que l'on peut séparées en trois groupes :\n",
        "* celles qui travaillent avec des nombres entiers\n",
        "* celles qui travaillent avec des nombres réels   \n",
        "* celles qui travaillent avec des séquences (par exemple des listes).\n",
        "\n",
        "Dans ce parcours, on se limite au deux fonctions `random()` et `randint(a,b)` "
      ]
    },
    {
      "cell_type": "markdown",
      "metadata": {
        "id": "xPBfCJ9VaBGJ"
      },
      "source": [
        "L'instruction `random()` renvoi une valeur aléatoire comprise entre 0 et 1."
      ]
    },
    {
      "cell_type": "code",
      "metadata": {
        "colab": {
          "base_uri": "https://localhost:8080/"
        },
        "id": "cDyNH17oWAGL",
        "outputId": "0b04aeff-cf3e-444f-bad7-a8ed3ea25b04"
      },
      "source": [
        "from random import *\n",
        "random()"
      ],
      "execution_count": 1,
      "outputs": [
        {
          "output_type": "execute_result",
          "data": {
            "text/plain": [
              "0.049449663917211284"
            ]
          },
          "metadata": {},
          "execution_count": 1
        }
      ]
    },
    {
      "cell_type": "markdown",
      "metadata": {
        "id": "ecJ3A26KaOmO"
      },
      "source": [
        "L'instruction `randint(1,31)` renvoi une valeur entière aléatoire comprise entre 1 et 31."
      ]
    },
    {
      "cell_type": "code",
      "metadata": {
        "colab": {
          "base_uri": "https://localhost:8080/"
        },
        "id": "1uKP76Q-adjN",
        "outputId": "67f45a38-f56e-479a-c1cc-d36dfe818677"
      },
      "source": [
        "from random import *\n",
        "randint(1,31)"
      ],
      "execution_count": 2,
      "outputs": [
        {
          "output_type": "execute_result",
          "data": {
            "text/plain": [
              "16"
            ]
          },
          "metadata": {},
          "execution_count": 2
        }
      ]
    },
    {
      "cell_type": "markdown",
      "metadata": {
        "id": "VF9zT8ibV6dU"
      },
      "source": [
        "## Exemple 1 : pile ou face\n",
        "\n",
        "Simuler le lancer d'une pièce de monnaie."
      ]
    },
    {
      "cell_type": "code",
      "metadata": {
        "colab": {
          "base_uri": "https://localhost:8080/"
        },
        "id": "oqQvUc8JakUE",
        "outputId": "58f2a28b-b84b-43a2-d3c1-c8f43e6c6948"
      },
      "source": [
        "from random import *\n",
        "if (random()<0.5):\n",
        "  print(\"Pile\")\n",
        "else:\n",
        "  print(\"Face\")"
      ],
      "execution_count": 7,
      "outputs": [
        {
          "output_type": "stream",
          "name": "stdout",
          "text": [
            "Pile\n"
          ]
        }
      ]
    },
    {
      "cell_type": "markdown",
      "metadata": {
        "id": "z8juIWI8a1kF"
      },
      "source": [
        "Exécuter à plusieurs reprise le praogramme pour vérifier le caractère aléatoire du résultat."
      ]
    },
    {
      "cell_type": "markdown",
      "metadata": {
        "id": "mnAxRNxqWvJ_"
      },
      "source": [
        "## Exemple 2 : lancer d'un dé à 6 faces\n",
        "\n",
        "But : Calculer la fréquence d'apparition de la face 6 d'un dé lors d'un nombre de lancer déterminer par l'utilisateur."
      ]
    },
    {
      "cell_type": "markdown",
      "metadata": {
        "id": "EwLeYEOrXWrw"
      },
      "source": [
        "On fournit le squelette de programme suivant :"
      ]
    },
    {
      "cell_type": "code",
      "metadata": {
        "id": "XH87QPaWXcW-"
      },
      "source": [
        "from random import *\n",
        "nombre_de_6 = 0\n",
        "for i in range(1000):\n",
        "  # remplacer le ? par l'instruction permettant d'effectuer le tirage aléatoire d'un nombre entier compris entre 1 et 6\n",
        "  if (?==6):\n",
        "    nombre_de_6=nombre_de_6+1\n",
        "\n",
        "print(\"Nombre d'apparition du nombre 6\",nombre_de_6)"
      ],
      "execution_count": null,
      "outputs": []
    },
    {
      "cell_type": "markdown",
      "metadata": {
        "id": "hxOPfpbndx4P"
      },
      "source": [
        "\n",
        "Aide : Programmer de manière progressives les différentes versions de lancers de dés\n",
        "1.   Effectuer 1000 fois le lancer de dé à 6 faces et compter le nombre d’apparition de la face 6\n",
        "2.   Afficher la fréquence d’apparition de la face 6\n",
        "3.   Demander le nombre de lancer à effectuer puis afficher la fréquence d’apparition de la face 6"
      ]
    },
    {
      "cell_type": "markdown",
      "metadata": {
        "id": "ah2bC4qvc6sw"
      },
      "source": [
        "Penser à consigner vos programmes dans le carnet de bord."
      ]
    }
  ]
}