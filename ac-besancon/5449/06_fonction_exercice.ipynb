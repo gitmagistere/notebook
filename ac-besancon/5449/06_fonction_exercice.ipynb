{
  "nbformat": 4,
  "nbformat_minor": 0,
  "metadata": {
    "colab": {
      "name": "06-fonction-exercice.ipynb",
      "provenance": [],
      "collapsed_sections": []
    },
    "kernelspec": {
      "name": "python3",
      "display_name": "Python 3"
    },
    "language_info": {
      "name": "python"
    }
  },
  "cells": [
    {
      "cell_type": "markdown",
      "metadata": {
        "id": "wLExcY9-QJ6s"
      },
      "source": [
        "## Exercice 1 : Celsius et Fahrenheit "
      ]
    },
    {
      "cell_type": "markdown",
      "metadata": {
        "id": "-DnNa2JfeWKg"
      },
      "source": [
        "La conversion en degré Celsuis d'une température donnée en dégré Fahrenheit se fait à l'aide la formule :\n",
        " ![formule_f2c.png](data:image/png;base64,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)\n",
        "\n",
        "Compléter la fonction `conv_cel` suivante afin qu'elle effectue la conversion en degré Celsuis d'une température donnée en dégré Fahrenheit.\n"
      ]
    },
    {
      "cell_type": "code",
      "metadata": {
        "id": "8f45TVy8zhdD"
      },
      "source": [
        "def conv_cel(temp_far):\n",
        "  return()"
      ],
      "execution_count": 13,
      "outputs": []
    },
    {
      "cell_type": "markdown",
      "metadata": {
        "id": "BK3jqZE_0TBc"
      },
      "source": [
        "Vérifier à l'aide de cette fonction que :\n",
        "* 32°F équivale à 0°C \n",
        "* 212°F équivale à 100°C"
      ]
    },
    {
      "cell_type": "code",
      "metadata": {
        "id": "eNH-tman0x7L"
      },
      "source": [
        "conv_cel(0)"
      ],
      "execution_count": null,
      "outputs": []
    },
    {
      "cell_type": "markdown",
      "metadata": {
        "id": "jjq-UlfheYaF"
      },
      "source": [
        "## Exercice 2 : suite arithmétique"
      ]
    },
    {
      "cell_type": "markdown",
      "metadata": {
        "id": "Obk5AGjuO95E"
      },
      "source": [
        "On définit la fonction `suite_arithm` qui permet de calculer le terme de rang n d'une suite arithmétique."
      ]
    },
    {
      "cell_type": "code",
      "metadata": {
        "id": "-GDDWZP1DbO3"
      },
      "source": [
        "def suite_arithm(terme1,raison,rang):\n",
        "    return(terme1+(rang-1)*raison)"
      ],
      "execution_count": 5,
      "outputs": []
    },
    {
      "cell_type": "markdown",
      "metadata": {
        "id": "FAc0lIVnP-uF"
      },
      "source": [
        "L'expression `suite_arithm(2,4,5)` permet de calculer le 5ième terme de la suite arithmétique de premier terme 2 et de raison 4."
      ]
    },
    {
      "cell_type": "code",
      "metadata": {
        "colab": {
          "base_uri": "https://localhost:8080/"
        },
        "id": "ZI2EWrydPcA2",
        "outputId": "1978f664-c151-46bc-b259-a5728722617f"
      },
      "source": [
        "suite_arithm(2,4,5)"
      ],
      "execution_count": 11,
      "outputs": [
        {
          "output_type": "execute_result",
          "data": {
            "text/plain": [
              "18"
            ]
          },
          "metadata": {},
          "execution_count": 11
        }
      ]
    },
    {
      "cell_type": "markdown",
      "metadata": {
        "id": "l7uK6qdKcW8P"
      },
      "source": [
        "Déterminer à l'aide de la fonction `suite_arithm`, 36ième terme de la suite arithmétique de premier terme 31 et de raison -1.7"
      ]
    },
    {
      "cell_type": "code",
      "metadata": {
        "id": "Y1hZSwjicvmI"
      },
      "source": [
        "# remplacer les points d'interrogations par les valeurs données dans l'énoncé pour trouver le terme 36.\n",
        "suite_arithm(?,?,?)"
      ],
      "execution_count": null,
      "outputs": []
    }
  ]
}