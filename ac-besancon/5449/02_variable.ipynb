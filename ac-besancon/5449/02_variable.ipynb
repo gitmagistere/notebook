{
  "nbformat": 4,
  "nbformat_minor": 5,
  "metadata": {
    "kernelspec": {
      "display_name": "Python 3",
      "language": "python",
      "name": "python3"
    },
    "language_info": {
      "codemirror_mode": {
        "name": "ipython",
        "version": 3
      },
      "file_extension": ".py",
      "mimetype": "text/x-python",
      "name": "python",
      "nbconvert_exporter": "python",
      "pygments_lexer": "ipython3",
      "version": "3.6.13"
    },
    "colab": {
      "name": "02_variable.ipynb",
      "provenance": [],
      "collapsed_sections": []
    }
  },
  "cells": [
    {
      "cell_type": "markdown",
      "metadata": {
        "id": "3a43e0d7"
      },
      "source": [
        "# Cette activité a pour but de lister les principaux types de variable en python.\n",
        "\n"
      ],
      "id": "3a43e0d7"
    },
    {
      "cell_type": "markdown",
      "metadata": {
        "id": "n0TgjBGJ7gMA"
      },
      "source": [
        "## L'instruction *type()*"
      ],
      "id": "n0TgjBGJ7gMA"
    },
    {
      "cell_type": "markdown",
      "metadata": {
        "id": "JycKosoY7bTU"
      },
      "source": [
        "L'instruction *type(**ma_variable**)* permet de déterminer d'afficher le type de **ma_variable**"
      ],
      "id": "JycKosoY7bTU"
    },
    {
      "cell_type": "code",
      "metadata": {
        "scrolled": true,
        "id": "b3a290a3",
        "outputId": "67d09acf-71b3-411d-b4ae-c89b51657d63"
      },
      "source": [
        "variable1=12\n",
        "type(variable1)"
      ],
      "id": "b3a290a3",
      "execution_count": null,
      "outputs": [
        {
          "data": {
            "text/plain": [
              "int"
            ]
          },
          "execution_count": 1,
          "metadata": {},
          "output_type": "execute_result"
        }
      ]
    },
    {
      "cell_type": "markdown",
      "metadata": {
        "id": "d7eaccd4"
      },
      "source": [
        "* la première ligne créée une variable appelée **variable1** qui contient la valeur **12**\n",
        "* la seconde ligne permet d'afficher que le type de la valeur **12** contenu dans la **variable1**\n",
        "\n",
        "12 est donc de type **int** (entier). "
      ],
      "id": "d7eaccd4"
    },
    {
      "cell_type": "markdown",
      "metadata": {
        "id": "OvRxNHf6jl6b"
      },
      "source": [
        "## Applications directes"
      ],
      "id": "OvRxNHf6jl6b"
    },
    {
      "cell_type": "markdown",
      "metadata": {
        "id": "cc983a76"
      },
      "source": [
        "À l'aide du bouton présent dans le menu, exécuter les instructions suivantes afin de déterminer le type de la valeur **12.0** "
      ],
      "id": "cc983a76"
    },
    {
      "cell_type": "code",
      "metadata": {
        "id": "faced-elevation"
      },
      "source": [
        "variable2=12.0\n",
        "type(variable2)"
      ],
      "id": "faced-elevation",
      "execution_count": null,
      "outputs": []
    },
    {
      "cell_type": "markdown",
      "metadata": {
        "id": "7c97c91c"
      },
      "source": [
        "Procéder de façon identique avec les \"Entrée\" suivantes afin de déterminer le type de **variable**"
      ],
      "id": "7c97c91c"
    },
    {
      "cell_type": "code",
      "metadata": {
        "id": "becoming-equivalent"
      },
      "source": [
        "variable=\"Bonjour\"\n",
        "type(variable)"
      ],
      "id": "becoming-equivalent",
      "execution_count": null,
      "outputs": []
    },
    {
      "cell_type": "markdown",
      "metadata": {
        "id": "7Wk3qsn272Y_"
      },
      "source": [
        "Un texte doit être saisi entre guillemets. En informatique, on parle de <<chaine de caractères>>."
      ],
      "id": "7Wk3qsn272Y_"
    },
    {
      "cell_type": "code",
      "metadata": {
        "id": "boolean-television"
      },
      "source": [
        "variable=[[12]]\n",
        "type(variable)"
      ],
      "id": "boolean-television",
      "execution_count": null,
      "outputs": []
    },
    {
      "cell_type": "markdown",
      "metadata": {
        "id": "827a76e4"
      },
      "source": [
        "## Les booléens\n",
        "Il existe un autre type de variable très utilisé, les booléens. L'utilisation la plus fréquente d'un booléen est dans les tests de comparaison. \n",
        "\n",
        "C'est un type de donnée qui ne peut prendre que deux valeurs : vrai ou faux. En python, on écrit **True** (vrai) ou **False** (faux)\n",
        "\n",
        "Exécuter l'instruction suivante pour déterminer le type de cette variable."
      ],
      "id": "827a76e4"
    },
    {
      "cell_type": "code",
      "metadata": {
        "id": "c5789094-fc6e-4b5b-8c95-3be2811c23dc"
      },
      "source": [
        "variable=True\n",
        "type(variable)"
      ],
      "id": "c5789094-fc6e-4b5b-8c95-3be2811c23dc",
      "execution_count": null,
      "outputs": []
    },
    {
      "cell_type": "markdown",
      "metadata": {
        "id": "NL8bIGW2kZ8j"
      },
      "source": [
        "On peut remplacer **True** par **False** dans l'instruction précedente afin de vérfier que ces deux valeurs sont de même type."
      ],
      "id": "NL8bIGW2kZ8j"
    }
  ]
}