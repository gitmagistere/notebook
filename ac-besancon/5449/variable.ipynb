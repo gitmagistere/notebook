{
 "cells": [
  {
   "cell_type": "markdown",
   "id": "natural-effort",
   "metadata": {},
   "source": [
    "# Les différents type de variables "
   ]
  },
  {
   "cell_type": "raw",
   "id": "deadly-thing",
   "metadata": {},
   "source": [
    "Exécuter le code des entrées suivantes afin de déterminer de quel type est la variable :"
   ]
  },
  {
   "cell_type": "code",
   "execution_count": null,
   "id": "tropical-cologne",
   "metadata": {},
   "outputs": [],
   "source": [
    "variable=12\n",
    "type(variable)"
   ]
  },
  {
   "cell_type": "code",
   "execution_count": null,
   "id": "faced-elevation",
   "metadata": {},
   "outputs": [],
   "source": [
    "variable=12.\n",
    "type(variable)"
   ]
  },
  {
   "cell_type": "code",
   "execution_count": null,
   "id": "becoming-equivalent",
   "metadata": {},
   "outputs": [],
   "source": [
    "variable1=\"bonjour\"\n",
    "type(variable1)"
   ]
  },
  {
   "cell_type": "code",
   "execution_count": null,
   "id": "boolean-television",
   "metadata": {},
   "outputs": [],
   "source": [
    "variable1=[[12]]\n",
    "type(variable1)"
   ]
  },
  {
   "cell_type": "markdown",
   "id": "sorted-physics",
   "metadata": {},
   "source": [
    "Les nombres possèdent differents type\n",
    "lorsqu'on ajoute un nombre entier (type int) et un nombre décimal (type float) on obtient un nombre de type ?"
   ]
  },
  {
   "cell_type": "code",
   "execution_count": null,
   "id": "bright-medication",
   "metadata": {},
   "outputs": [],
   "source": [
    "variable1=12\n",
    "variable2=12.\n",
    "print(variable1+variable2)\n",
    "type(variable1+variable2)"
   ]
  }
 ],
 "metadata": {
  "kernelspec": {
   "display_name": "Python 3",
   "language": "python",
   "name": "python3"
  },
  "language_info": {
   "codemirror_mode": {
    "name": "ipython",
    "version": 3
   },
   "file_extension": ".py",
   "mimetype": "text/x-python",
   "name": "python",
   "nbconvert_exporter": "python",
   "pygments_lexer": "ipython3",
   "version": "3.6.13"
  }
 },
 "nbformat": 4,
 "nbformat_minor": 5
}
