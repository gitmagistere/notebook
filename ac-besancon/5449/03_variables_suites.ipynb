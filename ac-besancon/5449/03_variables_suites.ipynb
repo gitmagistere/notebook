{
  "nbformat": 4,
  "nbformat_minor": 5,
  "metadata": {
    "kernelspec": {
      "display_name": "Python 3",
      "language": "python",
      "name": "python3"
    },
    "language_info": {
      "codemirror_mode": {
        "name": "ipython",
        "version": 3
      },
      "file_extension": ".py",
      "mimetype": "text/x-python",
      "name": "python",
      "nbconvert_exporter": "python",
      "pygments_lexer": "ipython3",
      "version": "3.6.13"
    },
    "colab": {
      "name": "03_variables_suites",
      "provenance": [],
      "collapsed_sections": [],
      "toc_visible": true
    }
  },
  "cells": [
    {
      "cell_type": "markdown",
      "metadata": {
        "id": "h77TTKZcoPEd"
      },
      "source": [
        "## Remarque"
      ],
      "id": "h77TTKZcoPEd"
    },
    {
      "cell_type": "markdown",
      "metadata": {
        "id": "sorted-physics"
      },
      "source": [
        "Il est possible de d'ajouter un nombre entier (type *int*) et un nombre décimal (type *float*).\n",
        "\n",
        "Le résultat est un nombre décimal"
      ],
      "id": "sorted-physics"
    },
    {
      "cell_type": "code",
      "metadata": {
        "id": "bright-medication",
        "colab": {
          "base_uri": "https://localhost:8080/"
        },
        "outputId": "29e9a976-0ee8-4060-aad4-ea99741bee8a"
      },
      "source": [
        "variable1=45\n",
        "variable2=2.7\n",
        "print(variable1+variable2)\n",
        "type(variable1+variable2)"
      ],
      "id": "bright-medication",
      "execution_count": 1,
      "outputs": [
        {
          "output_type": "stream",
          "name": "stdout",
          "text": [
            "47.7\n"
          ]
        },
        {
          "output_type": "execute_result",
          "data": {
            "text/plain": [
              "float"
            ]
          },
          "metadata": {},
          "execution_count": 1
        }
      ]
    },
    {
      "cell_type": "markdown",
      "metadata": {
        "id": "y529djo6qy4L"
      },
      "source": [
        "## Conversions de type\n",
        "* Il est possible de convertir un nombre entier en nombre décimal à l'aide de l'instruction *float(**nombre**)*"
      ],
      "id": "y529djo6qy4L"
    },
    {
      "cell_type": "code",
      "metadata": {
        "colab": {
          "base_uri": "https://localhost:8080/"
        },
        "id": "t8UVLAdiqbVc",
        "outputId": "cf10d9d7-96bd-41f6-d2f8-40d79bf13b63"
      },
      "source": [
        "nombre=34\n",
        "type(nombre)"
      ],
      "id": "t8UVLAdiqbVc",
      "execution_count": 2,
      "outputs": [
        {
          "output_type": "execute_result",
          "data": {
            "text/plain": [
              "int"
            ]
          },
          "metadata": {},
          "execution_count": 2
        }
      ]
    },
    {
      "cell_type": "markdown",
      "metadata": {
        "id": "xN4sQ7zxsIs2"
      },
      "source": [
        "La variable **nombre** est un entier"
      ],
      "id": "xN4sQ7zxsIs2"
    },
    {
      "cell_type": "code",
      "metadata": {
        "colab": {
          "base_uri": "https://localhost:8080/"
        },
        "id": "StPEDWvQqwJU",
        "outputId": "064a362c-d12a-4bcf-8218-c74e4beca728"
      },
      "source": [
        "float(nombre)"
      ],
      "id": "StPEDWvQqwJU",
      "execution_count": 3,
      "outputs": [
        {
          "output_type": "execute_result",
          "data": {
            "text/plain": [
              "34.0"
            ]
          },
          "metadata": {},
          "execution_count": 3
        }
      ]
    },
    {
      "cell_type": "markdown",
      "metadata": {
        "id": "PBkSnD9usgme"
      },
      "source": [
        "L'instruction *float()* converti la variable **nombre** en un nombre décimal."
      ],
      "id": "PBkSnD9usgme"
    },
    {
      "cell_type": "code",
      "metadata": {
        "colab": {
          "base_uri": "https://localhost:8080/"
        },
        "id": "SUTGQqOMsTtW",
        "outputId": "8903f030-3904-410d-9cbb-1be4378f0879"
      },
      "source": [
        "type(float(nombre))"
      ],
      "id": "SUTGQqOMsTtW",
      "execution_count": 4,
      "outputs": [
        {
          "output_type": "execute_result",
          "data": {
            "text/plain": [
              "float"
            ]
          },
          "metadata": {},
          "execution_count": 4
        }
      ]
    },
    {
      "cell_type": "markdown",
      "metadata": {
        "id": "mQoWJyCqtBOo"
      },
      "source": [
        "* Il est également possible de convertir un nombre décimal en nombre entier à l'aide de l'instruction *int(**nombre**)*."
      ],
      "id": "mQoWJyCqtBOo"
    },
    {
      "cell_type": "code",
      "metadata": {
        "colab": {
          "base_uri": "https://localhost:8080/"
        },
        "id": "9ikxXPqLs7zX",
        "outputId": "cb934c11-f0dd-49d9-888e-03569a5df9fc"
      },
      "source": [
        "int(2.714)"
      ],
      "id": "9ikxXPqLs7zX",
      "execution_count": 5,
      "outputs": [
        {
          "output_type": "execute_result",
          "data": {
            "text/plain": [
              "2"
            ]
          },
          "metadata": {},
          "execution_count": 5
        }
      ]
    },
    {
      "cell_type": "markdown",
      "metadata": {
        "id": "QJ861ik1uUGE"
      },
      "source": [
        "Cette instruction renvoie la partie entière du **nombre**."
      ],
      "id": "QJ861ik1uUGE"
    },
    {
      "cell_type": "markdown",
      "metadata": {
        "id": "z3OkI_VrutMY"
      },
      "source": [
        "* Une chaine de caractère peut également être converti en nombre entier ou en nombre décimal."
      ],
      "id": "z3OkI_VrutMY"
    },
    {
      "cell_type": "code",
      "metadata": {
        "colab": {
          "base_uri": "https://localhost:8080/"
        },
        "id": "fRWF8QZfttQ3",
        "outputId": "4587bb72-9845-4b70-8dd3-1402447e314c"
      },
      "source": [
        "a=\"3.14\"\n",
        "type(a)"
      ],
      "id": "fRWF8QZfttQ3",
      "execution_count": 9,
      "outputs": [
        {
          "output_type": "execute_result",
          "data": {
            "text/plain": [
              "str"
            ]
          },
          "metadata": {},
          "execution_count": 9
        }
      ]
    },
    {
      "cell_type": "code",
      "metadata": {
        "colab": {
          "base_uri": "https://localhost:8080/"
        },
        "id": "9FnSPhvkvGcX",
        "outputId": "edb18995-1b25-434a-bd70-6283e9a33525"
      },
      "source": [
        "float(a)"
      ],
      "id": "9FnSPhvkvGcX",
      "execution_count": 10,
      "outputs": [
        {
          "output_type": "execute_result",
          "data": {
            "text/plain": [
              "3.14"
            ]
          },
          "metadata": {},
          "execution_count": 10
        }
      ]
    },
    {
      "cell_type": "code",
      "metadata": {
        "colab": {
          "base_uri": "https://localhost:8080/"
        },
        "id": "CMgZqd-XwsU0",
        "outputId": "d857fed9-a71b-4541-951d-d20259d4db4b"
      },
      "source": [
        "b=\"4231\"\n",
        "int(b)"
      ],
      "id": "CMgZqd-XwsU0",
      "execution_count": 15,
      "outputs": [
        {
          "output_type": "execute_result",
          "data": {
            "text/plain": [
              "4231"
            ]
          },
          "metadata": {},
          "execution_count": 15
        }
      ]
    }
  ]
}