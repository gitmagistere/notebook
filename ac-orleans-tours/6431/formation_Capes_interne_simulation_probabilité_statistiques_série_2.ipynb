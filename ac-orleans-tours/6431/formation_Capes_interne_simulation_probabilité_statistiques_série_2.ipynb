{
 "cells": [
  {
   "cell_type": "markdown",
   "metadata": {},
   "source": [
    "# Simulation 2 - Paradoxe du Duc de Toscane\n",
    "Si on lance 3 dés, on constate qu'il y a le même nombre de façons d'écrire 9 ou 10 comme somme.\n",
    "\n",
    "$\n",
    "\\begin{align*}\n",
    "1+2+6&=9\\\\\n",
    "1+3+5&=9 \\\\\n",
    "1+4+4&=9 \\\\\n",
    "2+2+5&=9 \\\\\n",
    "2+3+4&=9 \\\\\n",
    "3+3+3&=9 \n",
    "\\end{align*} $\n",
    "\n",
    "\n",
    "$\n",
    "\\begin{align*}\n",
    "1+3+6&=10\\\\\n",
    "1+4+5&=10 \\\\\n",
    "2+2+6&=10 \\\\\n",
    "2+3+5&=10 \\\\\n",
    "2+4+4&=10 \\\\\n",
    "3+3+4&=10 \n",
    "\\end{align*}\n",
    "$\n",
    "\n",
    "Pourtant, a-t-on la même probabilité d'obtenir 9 ou 10 lorsqu'on fait la somme de ces 3 dés ?\n",
    "\n"
   ]
  },
  {
   "cell_type": "code",
   "execution_count": 13,
   "metadata": {},
   "outputs": [
    {
     "name": "stdout",
     "output_type": "stream",
     "text": [
      "La somme 9 est apparue  122  fois.\n",
      "La somme 10 est apparue  124  fois.\n"
     ]
    }
   ],
   "source": [
    "from random import randint\n",
    "D=0\n",
    "N=0\n",
    "M=1000 #Taille de l'échantillon\n",
    "for i in range(M):\n",
    "    a=randint(1,6)\n",
    "    b=randint(1,6)\n",
    "    c=randint(1,6)\n",
    "    if(a+b+c==9): \n",
    "        N=N+1 #compteur du nombre d'apparition de la somme 9\n",
    "    if(a+b+c==10): \n",
    "        D=D+1 #compteur du nombre d'apparition de la somme 10\n",
    "        \n",
    "print(\"La somme 9 est apparue \",N, \" fois.\")\n",
    "print(\"La somme 10 est apparue \",D, \" fois.\")"
   ]
  },
  {
   "cell_type": "markdown",
   "metadata": {},
   "source": [
    "Puisque ce test n'est pas suffisant, on peut se demander quelle taille d'échantillon faut-il utiliser pour distinguer ces 2 probabilités?"
   ]
  },
  {
   "cell_type": "code",
   "execution_count": 9,
   "metadata": {},
   "outputs": [
    {
     "name": "stdout",
     "output_type": "stream",
     "text": [
      "La fréquence du nombre 10 est  0.126\n",
      "La fréquence du nombre 9 est  0.118\n",
      "Pour cet échantillon de taille 1000 , le nombre 10 est apparu plus souvent que le nombre 9.\n"
     ]
    }
   ],
   "source": [
    "taille_échantillon=1000 #taille des échantillons que l'on peut modifier\n",
    "from random import randint\n",
    "def frequence_dix(M): #M: Taille de l'échantillon\n",
    "    D=0\n",
    "    for i in range(M):\n",
    "        a=randint(1,6)\n",
    "        b=randint(1,6)\n",
    "        c=randint(1,6)\n",
    "        if(a+b+c==10): \n",
    "            D=D+1 #compteur du nombre d'apparition de la somme 10\n",
    "    return(D/M) #affichage de la fréquence\n",
    "\n",
    "def frequence_neuf(M): #M: Taille de l'échantillon\n",
    "    N=0\n",
    "    for i in range(M):\n",
    "        a=randint(1,6)\n",
    "        b=randint(1,6)\n",
    "        c=randint(1,6)\n",
    "        if(a+b+c==9): \n",
    "            N=N+1 #compteur du nombre d'apparition de la somme 10\n",
    "    return(N/M) #affichage de la fréquence \n",
    "F9=frequence_neuf(taille_échantillon)\n",
    "F10=frequence_dix(taille_échantillon)\n",
    "print(\"La fréquence du nombre 10 est \", F10)    \n",
    "print(\"La fréquence du nombre 9 est \", F9)\n",
    "if F9<F10:\n",
    "    print(\"Pour cet échantillon de taille\", taille_échantillon,\", le nombre 10 est apparu plus souvent que le nombre 9.\")\n",
    "else:\n",
    "    print(\"Pour cet échantillon de taille\", taille_échantillon,\", le nombre 9 est apparu plus souvent que le nombre 10.\")\n",
    " "
   ]
  },
  {
   "cell_type": "markdown",
   "metadata": {},
   "source": [
    "En théorie, ces deux intervalles de fluctuation ne se chevaucheraient pas avec une probabilité d'au moins $0,975 \\times 0,975 = 0,950625$, ce que le programme suivant peut tester avec la bonne taille d'échantillon."
   ]
  },
  {
   "cell_type": "code",
   "execution_count": 10,
   "metadata": {},
   "outputs": [
    {
     "name": "stdout",
     "output_type": "stream",
     "text": [
      "1.0\n"
     ]
    }
   ],
   "source": [
    "N=100\n",
    "M=45000 #tester différentes tailles d'échantillon pour avoir une fréquence suffisamment élevée\n",
    "C=0\n",
    "for i in range(N):\n",
    "    if abs(frequence_dix(M)-frequence_neuf(10))>2/sqrt(M):\n",
    "        C=C+1\n",
    "        \n",
    "print(C/N)"
   ]
  },
  {
   "cell_type": "markdown",
   "metadata": {},
   "source": [
    "# Dés de Jeanne\n",
    "\n",
    "Jeanne lance 5 dés. À chaque lancer, si un dé (ou plusieurs) affiche 6, elle le ou les met de côté, puis\n",
    "elle relance tous les autres jusqu’à ce que tous les dés aient été mis de côté. Après combien de lancers, tous les dés sont mis de côté ?"
   ]
  },
  {
   "cell_type": "code",
   "execution_count": 12,
   "metadata": {},
   "outputs": [
    {
     "name": "stdout",
     "output_type": "stream",
     "text": [
      "3\n"
     ]
    }
   ],
   "source": [
    "from random import randint\n",
    "def lancer_dé(): #compte le nombre de lancers pour obtenir 6 avec un dé pour la première fois\n",
    "    N=1\n",
    "    while randint(1,6)!=6:\n",
    "        N=N+1\n",
    "    return N\n",
    "\n",
    "def Jeanne(N): #permet de réaliser l'expérience de Jeanne avec N dés\n",
    "    a=[]\n",
    "    for i in range(N):\n",
    "        a.append(lancer_dé())\n",
    "    return(max(a))\n",
    "\n",
    "print(Jeanne(5))"
   ]
  },
  {
   "cell_type": "markdown",
   "metadata": {},
   "source": [
    "Quelle est la probabilité d’obtenir 5 dés de côté en 30 lancers ou moins ?"
   ]
  },
  {
   "cell_type": "code",
   "execution_count": 15,
   "metadata": {},
   "outputs": [
    {
     "name": "stdout",
     "output_type": "stream",
     "text": [
      "0.927\n"
     ]
    }
   ],
   "source": [
    "def probabilité(nb_lancer, nb_dé):\n",
    "    s=0\n",
    "    N=1000\n",
    "    for i in range(N):\n",
    "        if Jeanne(nb_dé)<nb_lancer:\n",
    "            s=s+1\n",
    "    return(s/N) # Donne une estimation de la probabilité à 0,03 près en utilisant l'intervalle de confiance\n",
    "print(probabilité(24,5))"
   ]
  },
  {
   "cell_type": "markdown",
   "metadata": {},
   "source": [
    "Comment se comporte cette probabilité en fonction du nombre lancers ?"
   ]
  },
  {
   "cell_type": "code",
   "execution_count": 16,
   "metadata": {},
   "outputs": [
    {
     "data": {
      "image/png": "[encoded data removed]",
      "text/plain": [
       "<Figure size 432x288 with 1 Axes>"
      ]
     },
     "metadata": {
      "needs_background": "light"
     },
     "output_type": "display_data"
    }
   ],
   "source": [
    "import matplotlib.pyplot as plt\n",
    "x=[]\n",
    "y=[]\n",
    "for i in range(2,50,2):\n",
    "    x.append(i)\n",
    "    y.append(probabilité(i,5))\n",
    "\n",
    "plt.scatter(x,y)\n",
    "plt.show()"
   ]
  },
  {
   "cell_type": "markdown",
   "metadata": {},
   "source": [
    "On peut observer que pour plus de 25 lancers environ, la probabilité est très proche de 1."
   ]
  },
  {
   "cell_type": "markdown",
   "metadata": {},
   "source": [
    "# Rantanplan\n",
    "(bonus : juste pour le plaisir de programmer)\n",
    "3 Daltons forment un triangle et Rantanplan se trouve entre les 3. Il se dirige vers un premier Dalton et après avoir parcouru la moitié du chemin, choisit un Dalton et se dirige vers lui. Puis, à mi-chemin, s'arrête et se dirige encore vers un autre Dalton qui l'appelle.\n",
    "\n",
    "Programmer les points d'arrêts de Rantanplan et visualiser quelle figure tous ces points forment.\n"
   ]
  },
  {
   "cell_type": "code",
   "execution_count": 54,
   "metadata": {},
   "outputs": [
    {
     "data": {
      "image/png": "[encoded data removed]",
      "text/plain": [
       "<Figure size 432x288 with 1 Axes>"
      ]
     },
     "metadata": {
      "needs_background": "light"
     },
     "output_type": "display_data"
    }
   ],
   "source": [
    "import matplotlib.pyplot as plt\n",
    "#from matplotlib import show\n",
    "from random import randint\n",
    "a=[0,1]\n",
    "b=[2,6]\n",
    "c=[4,2]\n",
    "x=[]\n",
    "y=[]\n",
    "r=[0,0]\n",
    "x.append(r[0])\n",
    "y.append(r[1])\n",
    "for i in range(1000):\n",
    "    d=randint(1,3)\n",
    "    if d==1:\n",
    "        r[0]=(r[0]+a[0])/2\n",
    "        r[1]=(r[1]+a[1])/2\n",
    "    if d==2:\n",
    "        r[0]=(r[0]+b[0])/2\n",
    "        r[1]=(r[1]+b[1])/2\n",
    "    if d==3:\n",
    "        r[0]=(r[0]+c[0])/2\n",
    "        r[1]=(r[1]+c[1])/2\n",
    "    x.append(r[0])\n",
    "    y.append(r[1])\n",
    "plt.scatter(x,y)\n",
    "plt.show()\n",
    "    "
   ]
  },
  {
   "cell_type": "markdown",
   "metadata": {},
   "source": [
    "On observe ici un triangle de Sierpinski."
   ]
  }
 ],
 "metadata": {
  "kernelspec": {
   "display_name": "Python 3",
   "language": "python",
   "name": "python3"
  },
  "language_info": {
   "codemirror_mode": {
    "name": "ipython",
    "version": 3
   },
   "file_extension": ".py",
   "mimetype": "text/x-python",
   "name": "python",
   "nbconvert_exporter": "python",
   "pygments_lexer": "ipython3",
   "version": "3.7.4"
  }
 },
 "nbformat": 4,
 "nbformat_minor": 2
}
