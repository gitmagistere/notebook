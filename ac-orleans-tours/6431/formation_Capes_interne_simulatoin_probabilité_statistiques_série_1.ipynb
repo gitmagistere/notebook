{
 "cells": [
  {
   "cell_type": "markdown",
   "metadata": {},
   "source": [
    "# Simulation 1\n",
    "On choisit au hasard 2 nombres compris entre 0 et 1. Quelle est la probabilité que la somme de ces nombres soit inférieure à 0,5 ?"
   ]
  },
  {
   "cell_type": "code",
   "execution_count": 2,
   "metadata": {},
   "outputs": [
    {
     "name": "stdout",
     "output_type": "stream",
     "text": [
      "0.1179\n"
     ]
    }
   ],
   "source": [
    "from random import random\n",
    "N=10000\n",
    "def somme(N): #Cette fonction simule N tirages aléatoires de 2 nombres compris entre 0 et 1 et vérifie si leur somme est inférieure à 0,5\n",
    "    S=0\n",
    "    for i in range(N):\n",
    "        a=random()\n",
    "        b=random()\n",
    "        if a+b<0.5:\n",
    "            S=S+1\n",
    "    return(S/N) #affichage de la fréquence\n",
    "print(somme(N))"
   ]
  },
  {
   "cell_type": "markdown",
   "metadata": {},
   "source": [
    "Un élève conjecture que cette probabilité est 1/4. A-t-il raison ? Pourquoi ?"
   ]
  },
  {
   "cell_type": "code",
   "execution_count": 4,
   "metadata": {},
   "outputs": [
    {
     "name": "stdout",
     "output_type": "stream",
     "text": [
      "0.18\n"
     ]
    }
   ],
   "source": [
    "from random import random\n",
    "from math import sqrt\n",
    "M=100\n",
    "N=100 #Quelle valeur de N faut-il choisir pour être sûr à au moins 95% de rejeter la conjecture ?\n",
    "S=0\n",
    "for i in range(M):\n",
    "    if(abs(somme(N)-0.25)<1/sqrt(N)): #test avec l'intervalle de fluctuation\n",
    "        S=S+1\n",
    "print(S/M)# proportion des fréquences suffisamment proche de la conjecture pour 100 échantillons de taille 1000"
   ]
  },
  {
   "cell_type": "markdown",
   "metadata": {},
   "source": [
    "La probabilité recherchée est $\\frac{1}{8}$. Pouvez-vous le démontrer ? Attention, la démonstration est hors-programme."
   ]
  },
  {
   "cell_type": "markdown",
   "metadata": {},
   "source": [
    "# Simulation 2\n",
    "On lance deux dés équilibrés et on effectue le produit des résultats. \n",
    "Sur quel nombre devrait-on parier ?"
   ]
  },
  {
   "cell_type": "code",
   "execution_count": 31,
   "metadata": {},
   "outputs": [
    {
     "data": {
      "text/plain": [
       "(array([0.0281, 0.0594, 0.0538, 0.0784, 0.0545, 0.1042, 0.    , 0.0589,\n",
       "        0.0286, 0.0567, 0.    , 0.1151, 0.    , 0.    , 0.0566, 0.0278,\n",
       "        0.    , 0.0575, 0.    , 0.0554, 0.    , 0.    , 0.    , 0.0524,\n",
       "        0.0291, 0.    , 0.    , 0.    , 0.    , 0.0528, 0.    , 0.    ,\n",
       "        0.    , 0.    , 0.    , 0.0307]),\n",
       " array([ 1.,  2.,  3.,  4.,  5.,  6.,  7.,  8.,  9., 10., 11., 12., 13.,\n",
       "        14., 15., 16., 17., 18., 19., 20., 21., 22., 23., 24., 25., 26.,\n",
       "        27., 28., 29., 30., 31., 32., 33., 34., 35., 36., 37.]),\n",
       " <a list of 36 Patch objects>)"
      ]
     },
     "execution_count": 31,
     "metadata": {},
     "output_type": "execute_result"
    },
    {
     "data": {
      "image/png": "[encoded data removed]",
      "text/plain": [
       "<Figure size 432x288 with 1 Axes>"
      ]
     },
     "metadata": {
      "needs_background": "light"
     },
     "output_type": "display_data"
    }
   ],
   "source": [
    "from random import randint\n",
    "import matplotlib.pyplot as plt\n",
    "N=10000 #Taille de l'échantillon\n",
    "résultat=[] # liste des résultats obtenus pour l'échantillon de taille N\n",
    "for i in range(N):\n",
    "    a=randint(1,6) # simulation d'un lancer de dé\n",
    "    b=randint(1,6)\n",
    "    résultat.append(a * b)\n",
    "    \n",
    "plt.gca().get_xaxis().set_ticks([i for i in range(1,37) if i % 2 == 0])\n",
    "plt.hist(résultat, range=(1,37), bins=36, density=True) #affichage des résultats sous la forme d'un histogramme\n",
    "\n"
   ]
  },
  {
   "cell_type": "markdown",
   "metadata": {},
   "source": [
    "On observe ici que les résultats 6 et 12 sont les deux résultats qui ont une fréquence d'apparation la plus élevée.\n",
    "On peut tester si l'un des deux apparaît le plus souvent."
   ]
  },
  {
   "cell_type": "code",
   "execution_count": 35,
   "metadata": {},
   "outputs": [
    {
     "name": "stdout",
     "output_type": "stream",
     "text": [
      "La fréquence du nombre 6 est  0.098\n",
      "La fréquence du nombre 12 est  0.13\n",
      "Pour cet échantillon de taille 1000 , le nombre 12 est apparu plus souvent que le nombre 9.\n"
     ]
    }
   ],
   "source": [
    "taille_échantillon=1000 #taille des échantillons que l'on peut modifier\n",
    "from random import randint\n",
    "def frequence_six(M): #M: Taille de l'échantillon\n",
    "    SIX=0\n",
    "    for i in range(M):\n",
    "        a=randint(1,6)\n",
    "        b=randint(1,6)\n",
    "        if(a*b==6): \n",
    "            SIX=SIX+1 #compteur du nombre d'apparition du produit 6\n",
    "    return(SIX/M) #affichage de la fréquence\n",
    "\n",
    "def frequence_douze(M): #M: Taille de l'échantillon\n",
    "    DOUZE=0\n",
    "    for i in range(M):\n",
    "        a=randint(1,6)\n",
    "        b=randint(1,6)\n",
    "        if(a*b==12): \n",
    "            DOUZE=DOUZE+1 #compteur du nombre d'apparition du produit 12\n",
    "    return(DOUZE/M) #affichage de la fréquence \n",
    "F6=frequence_six(taille_échantillon)\n",
    "F12=frequence_douze(taille_échantillon)\n",
    "print(\"La fréquence du nombre 6 est \", F6)    \n",
    "print(\"La fréquence du nombre 12 est \", F12)\n",
    "if F6<F12:\n",
    "    print(\"Pour cet échantillon de taille\", taille_échantillon,\", le nombre 12 est apparu plus souvent que le nombre 9.\")\n",
    "else:\n",
    "    print(\"Pour cet échantillon de taille\", taille_échantillon,\", le nombre 6 est apparu plus souvent que le nombre 10.\")\n",
    " "
   ]
  },
  {
   "cell_type": "code",
   "execution_count": 44,
   "metadata": {},
   "outputs": [
    {
     "name": "stdout",
     "output_type": "stream",
     "text": [
      "La fréquence du 6 est apparu 56  fois sur  100  plus souvent que la fréquence du 12.\n"
     ]
    }
   ],
   "source": [
    "nombre_simulation = 100\n",
    "compteur=0 # compte le nombre de fois où la fréquence de 6 est supérieure à celle de 12\n",
    "for i in range(nombre_simulation):\n",
    "    F6=frequence_six(taille_échantillon)\n",
    "    F12=frequence_douze(taille_échantillon)\n",
    "    if F6>F12:\n",
    "        compteur=compteur+1\n",
    "print(\"La fréquence du 6 est apparu\", compteur, \" fois sur \", nombre_simulation,\" plus souvent que la fréquence du 12.\")\n",
    "\n"
   ]
  },
  {
   "cell_type": "markdown",
   "metadata": {},
   "source": [
    "Comme le résultat semble toujours être dans la marge d'erreur (ici $\\frac{1}{\\sqrt{N}} = \\frac{1}{10}$ pour $N=100$), nous ne pouvons pas départager le nombre 6 et le nombre 12 pour savoir lequel apparaît le plus souvent.\n",
    "\n",
    "Il ne reste plus qu'à calculer ces probabilités en modélisant cette expérience aléatoire.\n",
    "\n",
    "\n",
    "||1|2|3|4|5|6|\n",
    "|:---|---|---|---|---|---|---|\n",
    "|**1**|1|2|3|4|5|6|\n",
    "|**2**|2|4|6|8|10|12|\n",
    "|**3**|3|6|9|12|15|18|\n",
    "|**4**|4|8|12|16|20|24| \n",
    "|**5**|5|10|15|20|25|30|\n",
    "|**6**|6|12|18|24|30|36|\n",
    "\n",
    "Les 36 résultats étant équiprobables, on peut calculer les probabilités d'obtenir 6 et 12 comme étant $\\frac{4}{36}= \\frac{1}{9}$ et constater qu'elles sont égales."
   ]
  },
  {
   "cell_type": "code",
   "execution_count": null,
   "metadata": {},
   "outputs": [],
   "source": []
  }
 ],
 "metadata": {
  "kernelspec": {
   "display_name": "Python 3",
   "language": "python",
   "name": "python3"
  },
  "language_info": {
   "codemirror_mode": {
    "name": "ipython",
    "version": 3
   },
   "file_extension": ".py",
   "mimetype": "text/x-python",
   "name": "python",
   "nbconvert_exporter": "python",
   "pygments_lexer": "ipython3",
   "version": "3.7.4"
  }
 },
 "nbformat": 4,
 "nbformat_minor": 2
}
