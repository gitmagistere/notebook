{
 "cells": [
  {
   "cell_type": "markdown",
   "id": "f12a36e8",
   "metadata": {},
   "source": [
    "**Enoncé du problème**\n",
    "\n",
    "Lors d'un bataille de l'antiquité, les légionnaires constituant l'armée romaine auraient pu se mettre en formation carrée aussi bien qu'en formation triangulaire. Sachant que l'armée compte plus de 10000 hommes, combien de légionnaires romains ont participé à la bataille ?\n"
   ]
  },
  {
   "cell_type": "markdown",
   "id": "77815a97",
   "metadata": {},
   "source": [
    "**Stratégie**\n",
    "\n",
    "Il est possible de créer des nombres triangulaires et de vérifier s'ils sont également le carré d'un nombre en utilisant la racine carrée."
   ]
  },
  {
   "cell_type": "code",
   "execution_count": 32,
   "id": "d128db13",
   "metadata": {},
   "outputs": [
    {
     "name": "stdout",
     "output_type": "stream",
     "text": [
      "[(0, 0), (1, 1), (8, 36), (49, 1225), (288, 41616), (1681, 1413721), (9800, 48024900)]\n"
     ]
    }
   ],
   "source": [
    "#Problème des romains\n",
    "\n",
    "from math import *\n",
    "\n",
    "#Créer un nombre triangulaire\n",
    "def triangle(n):\n",
    "    S=0\n",
    "    for k in range(n+1):\n",
    "        S=S+k\n",
    "    return S\n",
    "\n",
    "\n",
    "#tester si un nombre est un nombre carré\n",
    "def carrée(n):\n",
    "    return int(sqrt(n))==sqrt(n)\n",
    "        \n",
    "l=[]\n",
    "for k in range(10000):\n",
    "    t=triangle(k)\n",
    "    if carrée(t): #si le nombre triangulaire t est un nombre carré, il est ajouté à la liste ainsi que son rang\n",
    "        l.append((k,t))\n",
    "print(l)"
   ]
  },
  {
   "cell_type": "markdown",
   "id": "38f9ae35",
   "metadata": {},
   "source": [
    "**Conclusion**\n",
    "\n",
    "En testant 10000 nombres triangulaires, on btient la liste de ceux qui sont le carré d'un nombre.\n",
    "\n",
    "Ainsi, il y en a 3 qui sont inférieurs à 10000 : 1, 36, 1225.\n",
    "Le premier supérieur à 10000 est 41616 et les deux suivants sont 1 413 721 et 48 024 900."
   ]
  },
  {
   "cell_type": "code",
   "execution_count": null,
   "id": "db99e0f6",
   "metadata": {},
   "outputs": [],
   "source": []
  }
 ],
 "metadata": {
  "kernelspec": {
   "display_name": "Python 3",
   "language": "python",
   "name": "python3"
  },
  "language_info": {
   "codemirror_mode": {
    "name": "ipython",
    "version": 3
   },
   "file_extension": ".py",
   "mimetype": "text/x-python",
   "name": "python",
   "nbconvert_exporter": "python",
   "pygments_lexer": "ipython3",
   "version": "3.8.8"
  }
 },
 "nbformat": 4,
 "nbformat_minor": 5
}
