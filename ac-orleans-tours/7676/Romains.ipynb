{
 "cells": [
  {
   "cell_type": "code",
   "execution_count": 32,
   "id": "3c45330c",
   "metadata": {},
   "outputs": [
    {
     "name": "stdout",
     "output_type": "stream",
     "text": [
      "[(0, 0), (1, 1), (8, 36), (49, 1225), (288, 41616), (1681, 1413721), (9800, 48024900)]\n"
     ]
    }
   ],
   "source": [
    "#Problème des romains\n",
    "\n",
    "from math import *\n",
    "\n",
    "#Créer un nombre triangulaire\n",
    "def triangle(n):\n",
    "    S=0\n",
    "    for k in range(n+1):\n",
    "        S=S+k\n",
    "    return S\n",
    "\n",
    "\n",
    "#tester si un nombre est un nombre carré\n",
    "def carrée(n):\n",
    "    return int(sqrt(n))==sqrt(n)\n",
    "        \n",
    "l=[]\n",
    "for k in range(10000):\n",
    "    t=triangle(k)\n",
    "    if carrée(t): #si le nombre triangulaire t est un nombre carré, il est ajouté à la liste\n",
    "        l.append((k,t))\n",
    "print(l)"
   ]
  },
  {
   "cell_type": "code",
   "execution_count": null,
   "id": "3571d04e",
   "metadata": {},
   "outputs": [],
   "source": []
  },
  {
   "cell_type": "code",
   "execution_count": null,
   "id": "97f7d144",
   "metadata": {},
   "outputs": [],
   "source": []
  }
 ],
 "metadata": {
  "kernelspec": {
   "display_name": "Python 3",
   "language": "python",
   "name": "python3"
  },
  "language_info": {
   "codemirror_mode": {
    "name": "ipython",
    "version": 3
   },
   "file_extension": ".py",
   "mimetype": "text/x-python",
   "name": "python",
   "nbconvert_exporter": "python",
   "pygments_lexer": "ipython3",
   "version": "3.8.8"
  }
 },
 "nbformat": 4,
 "nbformat_minor": 5
}
