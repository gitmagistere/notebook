{
 "cells": [
  {
   "cell_type": "markdown",
   "metadata": {},
   "source": [
    "# MITOSE ET CYCLE CELLULAIRE"
   ]
  },
  {
   "cell_type": "markdown",
   "metadata": {},
   "source": [
    "Vous êtes dans un notebook Jupyter. Il s'agit d'une succession de cellules qu'il faut exécuter de la première à la dernière dans l'ordre. On exécute une cellule en la sélectionnant et en cliquant sur \"Executer\" dans le menu ci-dessus ou avec la combinaison de touches MAJ + ENTREE au clavier.  \n",
    "Certaines cellules sont juste du texte, d'autres sont du code python : en les exécutant le code s'exécute et vous pouvez observer le résultat de votre code immédiatement.  \n",
    "En cas de blocage (entrée dans une boucle infinie par exemple... cela s'observe en regardant l'icone de l'onglet de votre navigateur qui est en forme de sablier) vous pouvez redémarrer le noyau à l'aide du bouton en forme de flèche circulaire du menu ci-dessus... cela necessitera de ré-éxecuter toutes les cellules que vous avez déjà éxécutées..."
   ]
  },
  {
   "cell_type": "markdown",
   "metadata": {},
   "source": [
    "<div class=\"alert alert-info\">\n",
    "    \n",
    "En bleu : les consignes SVT"
   ]
  },
  {
   "cell_type": "markdown",
   "metadata": {},
   "source": [
    "<div class=\"alert alert-warning\">\n",
    "    \n",
    "En jaune : les consignes en programmation"
   ]
  },
  {
   "cell_type": "markdown",
   "metadata": {},
   "source": [
    "<div class=\"alert alert-info\">\n",
    "    \n",
    "L'ojectif est ici de faire un programme en python qui permet d'afficher, au cours d'un cycle cellulaire chez un diploïde (un individu qui possède des chromosomes par pair), le nombre de chromatides et la quantité d'ADN en unités arbitraires pendant chacune de ces phases:  \n",
    "\n",
    "* Prophase\n",
    "* Metaphase\n",
    "* Anaphase\n",
    "* Telophase\n",
    "* G1\n",
    "* début de S\n",
    "* fin de S\n",
    "* G2\n",
    "  \n",
    "Ce programme doit interroger l'utilisateur au départ en lui demandant le nombre de chromosomes (qui doit être vérifié comme étant un nomnbre pair).  \n",
    "Ensuite le programme affichera chaque phase par son nom, le nombre de chromatides et la quantité d'ADN (N ou 2N) pour cette phase."
   ]
  },
  {
   "cell_type": "markdown",
   "metadata": {},
   "source": [
    "<div class=\"alert alert-warning\">\n",
    "    \n",
    "**Pour demander une valeur à un utilisateur** il faut utiliser une variable dans laquelle la valeur entrée par l'utilisateur sera stockée. La variable est déterminée par son NOM, qui ne doit posséder ni espace,ni accent, ni caractères spéciaux (.?,$#...) qui risquent de faire planter le programme.  \n",
    "L'instruction python qui permet de demander à un utilisateur d'entrer une valeur est l'instruction <code>input()</code>. On place entre les parenthèses un texte qui s'affichera à l'écran et qui précisera ce que l'on attend de l'utilisateur. Un texte est toujours placé entre \"\" en python, c'est que l'on appelle uen chaine de caractère.  \n",
    "Ainsi l'instruction <code>input(\"Entrez votre prénom : \")</code> affichera *Entrez votre prénom* et attendra que l'utilisateur entre un texte au clavier.  \n",
    "Cela dit, la valeur entrée au clavier par l'utilisateur doit être stockée dans une variable. Donc pour pouvoir utiliser cette instruction <code>input()</code> correctement, il faut qu'elle soit attribuée à une variable. Imaginons que la variable dans laquelle on veut stocker le prénom de la personne soit <code>prenom</code>, on obtient donc l'instruction suivante :  \n",
    "<code>prenom = input(\"Entrez votre prénom : \")</code>  \n",
    "Lorsque l'utilisateur aura entré son prénom, celui ci sera stocké dans la variable <code>prenom</code>.  \n",
    "Voici un exemple à exécuter :"
   ]
  },
  {
   "cell_type": "code",
   "execution_count": null,
   "metadata": {},
   "outputs": [],
   "source": [
    "prenom = input(\"Entrez votre prénom : \")"
   ]
  },
  {
   "cell_type": "markdown",
   "metadata": {},
   "source": [
    "<div class=\"alert alert-warning\">\n",
    "    \n",
    "Vous pouvez **afficher la valeur d'une variable** simplement en faisant un <code>print(nom de la variable)</code> en remplaçant nom de la variable par son véritable nom.  \n",
    "Affichez dans la cellule suivante à l'aide d'un <code>print()</code> le prénom que l'utilisateur a entré :"
   ]
  },
  {
   "cell_type": "code",
   "execution_count": null,
   "metadata": {},
   "outputs": [],
   "source": [
    "# Ecrivez votre ligne de code ci-dessous:\n"
   ]
  },
  {
   "cell_type": "markdown",
   "metadata": {},
   "source": [
    "<div class=\"alert alert-warning\">\n",
    "    \n",
    "Avec un print vous pouvez afficher plusieurs choses les unes derrière les autres en séparant les valeurs par des virgules. Exécutez cet exemple en regardant bien ce qui s'est passé pour l'affichage de la variable prenom:"
   ]
  },
  {
   "cell_type": "code",
   "execution_count": null,
   "metadata": {},
   "outputs": [],
   "source": [
    "print(\"Bonjour je m'appelle \", prenom, \".\")"
   ]
  },
  {
   "cell_type": "markdown",
   "metadata": {},
   "source": [
    "<div class=\"alert alert-warning\">\n",
    "    \n",
    "A noter que python considère que tout ce qui est entré par un utilisateur avec un <code>input()</code> est une chaine de caractère. Cela signifie que si vous entrez le chiffre 2, python considèreras que la valeur est le caractère 2, et pas le chiffre 2... on peut forcer python à considérer que la valeur entrée est un chiffre en ajoutant <code>int()</code> au <code>input()</code> ce aui donnera <code>int(input())</code>. Ainsi la valeur entrée sera considérée comme un chiffre (evidemment cela plantera le programme avec affichage d'une erreur si l'utilisateur entre un autre caractère qu'un chiffre...)  \n",
    "Ceci est important car si vous devez effectuer des opérations mathématiques (+ - * /) vous ne pouvez le faire qu'avec des chiffres ou des nombres, pas avec des caractères même si le caractère est 2...\n",
    "Vous pouvez tester ces deux programmes :"
   ]
  },
  {
   "cell_type": "code",
   "execution_count": null,
   "metadata": {},
   "outputs": [],
   "source": [
    "chiffre = input(\"Veuillez entrer un chiffre :\")\n",
    "print(chiffre*2)\n",
    "# Ici la multiplication par 2 ne va pas s'effectuer...\n",
    "# On obtient deux fois l'affichage du caractère"
   ]
  },
  {
   "cell_type": "code",
   "execution_count": null,
   "metadata": {},
   "outputs": [],
   "source": [
    "chiffre = int(input(\"Veuillez entrer un chiffre :\"))\n",
    "print(chiffre*2)\n",
    "# ici la multiplication par 2 va s'effectuer"
   ]
  },
  {
   "cell_type": "markdown",
   "metadata": {},
   "source": [
    "<div class=\"alert alert-warning\">\n",
    "    \n",
    "**Pour tester si l'utilisateur a bien entré un nombre pair**, vous allez devoir vérifier qu'en divisant ce que l'utilisateur a entré par deux il reste 0. Il existe en programmation une fonction qui vous donne le reste d'une division, il s'agit de l'opérateur modulo (noté %). Ainsi <code>4%2</code> donnera 0 car effectiveamnt si on divise 4 par 2 on obtient 2 et il reste 0, et <code>5%2</code> donnera 1 car si on divise 5 par 2 on obtient 2 et il reste 1.  \n",
    "Pour vérifier une égalité entre deux valeurs il faut utiliser le double égal : <code>==</code>  \n",
    "Ainsi <code>2 == 2</code> est vrai, <code>2 == 3</code> est faux  \n",
    "**L'instruction qui va permettre de faire une condition** est l'instruction <code>if</code> (si en français); elle se termine par deux points (<code>:</code>) et un retour à la ligne avec une indentation (décalage ou tabulation); toutes les instructions indentées seront exécutées si le <code>if</code> est vrai.  \n",
    "Exécutez les lignes de code suivantes pour comprendre:"
   ]
  },
  {
   "cell_type": "code",
   "execution_count": null,
   "metadata": {},
   "outputs": [],
   "source": [
    "if 2 == 2:\n",
    "    print(\"Ce print été exécuté car le if est vrai\")"
   ]
  },
  {
   "cell_type": "code",
   "execution_count": null,
   "metadata": {},
   "outputs": [],
   "source": [
    "if 2 == 3:\n",
    "    print(\"Ce print été exécuté car le if est vrai\")"
   ]
  },
  {
   "cell_type": "markdown",
   "metadata": {},
   "source": [
    "<div class=\"alert alert-warning\">\n",
    "    \n",
    "On peut compléter l'instruction <code>if</code> avec un <code>elif</code> pour \"sinon si\" ou un <code>else</code> pour \"sinon\" qui ne s'exécutera que si le <code>if</code> est faux. Pensez également à l'indentation qui indique ce qui doit être exécuté dans le <code>else</code>. Voici un exemple à comprendre en exécutant la cellule suivante:"
   ]
  },
  {
   "cell_type": "code",
   "execution_count": null,
   "metadata": {},
   "outputs": [],
   "source": [
    "if 2 == 3:\n",
    "    print(\"Ce print été exécuté car le if est vrai\")\n",
    "elif 2 == 4:\n",
    "    print(\"Ce print été exécuté car le elif est vrai\")\n",
    "else:\n",
    "    print(\"Ce print été exécuté car les if ou elif précédents sont faux\")"
   ]
  },
  {
   "cell_type": "markdown",
   "metadata": {},
   "source": [
    "<div class=\"alert alert-info\">\n",
    "Vous avez à ce stade toutes les connaissances pour réaliser votre programme. A vous de jouer dans la cellule suivante :"
   ]
  },
  {
   "cell_type": "code",
   "execution_count": null,
   "metadata": {},
   "outputs": [],
   "source": [
    "# Complétez le code ci-dessous:\n",
    "nombreChromo = int(input(\"Entrez le nombre de chromosomes : \"))\n",
    "if nombreChromo % 2 == 1:\n",
    "    print(\"Vous n'avez pas entré un nombre pair...\")\n",
    "else:\n",
    "    print(\"En PROPHASE nous avons \",2*nombreChromo,\"chromatides par cellules, la quantité d'ADN est de 2N\")\n",
    "    ....."
   ]
  },
  {
   "cell_type": "markdown",
   "metadata": {},
   "source": [
    "<div class=\"alert alert-warning\">\n",
    "    \n",
    "Pour ceux qui sont plus à l'aise avec la **programmation de fonctions** (vu en mathématiques), je vous propose de créer une fonction <code>cycleCellulaire()</code> qui prendra en argument le nombre de chromosomes. Ainsi l'appel de cette fonction <code>cycleCellulaire(4)</code> affichera chaque phase du cycle par son nom, le nombre de chromatides et la quantité d'ADN (N ou 2N) pour cette phase avec 4 chromosomes au départ.  \n",
    "A vous de jouer dans la cellule suivante:"
   ]
  },
  {
   "cell_type": "code",
   "execution_count": 1,
   "metadata": {},
   "outputs": [],
   "source": [
    "# Complétez le code ci-dessous:\n",
    "def cycleCellulaire(nombreChromo):\n",
    "    ....."
   ]
  },
  {
   "cell_type": "code",
   "execution_count": null,
   "metadata": {},
   "outputs": [],
   "source": [
    "# Execution de la fonction ici:\n",
    "print(cycleCellulaire(4))"
   ]
  }
 ],
 "metadata": {
  "kernelspec": {
   "display_name": "Python 3",
   "language": "python",
   "name": "python3"
  },
  "language_info": {
   "codemirror_mode": {
    "name": "ipython",
    "version": 3
   },
   "file_extension": ".py",
   "mimetype": "text/x-python",
   "name": "python",
   "nbconvert_exporter": "python",
   "pygments_lexer": "ipython3",
   "version": "3.7.2"
  }
 },
 "nbformat": 4,
 "nbformat_minor": 2
}
