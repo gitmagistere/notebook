{
 "cells": [
  {
   "cell_type": "markdown",
   "metadata": {},
   "source": [
    "# REPRODUCTION BACTERIENNE"
   ]
  },
  {
   "cell_type": "markdown",
   "metadata": {},
   "source": [
    "Vous êtes dans un notebook Jupyter. Il s'agit d'une succession de cellules qu'il faut exécuter de la première à la dernière dans l'ordre. On exécute une cellule en la sélectionnant et en cliquant sur \"Exécuter\" dans le menu ci-dessus ou avec la combinaison de touches MAJ + ENTREE au clavier.  \n",
    "Certaines cellules sont juste du texte, d'autres sont du code python : en les exécutant le code s'exécute et vous pouvez observer le résultat de votre code immédiatement.  \n",
    "En cas de blocage (entrée dans une boucle infinie par exemple... cela s'observe en regardant l'icone de l'onglet de votre navigateur qui est en forme de sablier) vous pouvez redémarrer le noyau à l'aide du bouton en forme de flèche circulaire du menu ci-dessus... cela necessitera de ré-éxecuter toutes les cellules que vous avez déjà éxécutées..."
   ]
  },
  {
   "cell_type": "markdown",
   "metadata": {},
   "source": [
    "<div class=\"alert alert-info\">\n",
    "    \n",
    "En bleu : les consignes SVT"
   ]
  },
  {
   "cell_type": "markdown",
   "metadata": {},
   "source": [
    "<div class=\"alert alert-warning\">\n",
    "    \n",
    "En jaune : les consignes en programmation"
   ]
  },
  {
   "cell_type": "markdown",
   "metadata": {},
   "source": [
    "<div class=\"alert alert-info\">\n",
    "    \n",
    "L'objectif est ici de faire un programme en python qui permet de calculer le nombre et le poids en bactérie obtenu au bout d'un certain temps. Les consignes sont les suivantes:\n",
    "    \n",
    "* On va partir du principe qu'une bactérie Escherichia Coli se divise en deux toutes les 20 minutes.\n",
    "* Une bactérie Escherichia Coli a une masse de 7E-16 Kg (7.10<sup>-16</sup> Kg)\n",
    "* La masse de la Terre est 5.97E24 Kg (5,97.10<sup>24</sup> Kg)\n",
    "\n",
    "Ce programme doit interroger l'utilisateur au départ en lui demandant un temps de reproduction de bactérie Escherichia Coli en heures. Le programme va alors calculer le nombre de bactéries obtenues au bout de ce temps, la masse des bactéries et comparer cette masse par rapport à la Terre en donnant une proportion de cette masse bactérienne par rapport à la masse de la Terre."
   ]
  },
  {
   "cell_type": "markdown",
   "metadata": {},
   "source": [
    "<div class=\"alert alert-warning\">\n",
    "    \n",
    "**Pour demander une valeur à un utilisateur** il faut utiliser une variable dans laquelle la valeur entrée par l'utilisateur sera stockée. La variable est déterminée par son NOM, qui ne doit posséder ni espace,ni accent, ni caractères spéciaux (.?,$#...) qui risquent de faire planter le programme.  \n",
    "L'instruction python qui permet de demander à un utilisateur d'entrer une valeur est l'instruction <code>input()</code>. On place entre les parenthèses un texte qui s'affichera à l'écran et qui précisera ce que l'on attend de l'utilisateur. Un texte est toujours placé entre \"\" en python, c'est que l'on appelle uen chaine de caractère.  \n",
    "Ainsi l'instruction <code>input(\"Entrez votre prénom : \")</code> affichera *Entrez votre prénom* et attendra que l'utilisateur entre un texte au clavier.  \n",
    "Cela dit, la valeur entrée au clavier par l'utilisateur doit être stockée dans une variable. Donc pour pouvoir utiliser cette instruction <code>input()</code> correctement, il faut qu'elle soit attribuée à une variable. Imaginons que la variable dans laquelle on veut stocker le prénom de la personne soit <code>prenom</code>, on obtient donc l'instruction suivante :  \n",
    "<code>prenom = input(\"Entrez votre prénom : \")</code>  \n",
    "Lorsque l'utilisateur aura entré son prénom, celui ci sera stocké dans la variable <code>prenom</code>.  \n",
    "Voici un exemple à exécuter :"
   ]
  },
  {
   "cell_type": "code",
   "execution_count": null,
   "metadata": {},
   "outputs": [],
   "source": [
    "prenom = input(\"Entrez votre prénom : \")"
   ]
  },
  {
   "cell_type": "markdown",
   "metadata": {},
   "source": [
    "<div class=\"alert alert-warning\">\n",
    "    \n",
    "Vous pouvez **afficher la valeur d'une variable** simplement en faisant un <code>print(nom de la variable)</code> en remplaçant nom de la variable par son véritable nom.  \n",
    "Affichez dans la cellule suivante à l'aide d'un <code>print()</code> le prénom que l'utilisateur a entré :"
   ]
  },
  {
   "cell_type": "code",
   "execution_count": null,
   "metadata": {},
   "outputs": [],
   "source": [
    "# Ecrivez votre ligne de code ci-dessous:\n"
   ]
  },
  {
   "cell_type": "markdown",
   "metadata": {},
   "source": [
    "<div class=\"alert alert-warning\">\n",
    "    \n",
    "Avec un <code>print</code> vous pouvez afficher plusieurs choses les une derrière les autres en séparant les valeurs par des virgules. Exécutez cet exemple en regardant bien ce qui s'est passé pour l'affichage de la variable prenom:"
   ]
  },
  {
   "cell_type": "code",
   "execution_count": null,
   "metadata": {},
   "outputs": [],
   "source": [
    "print(\"Bonjour je m'appelle \", prenom, \".\")"
   ]
  },
  {
   "cell_type": "markdown",
   "metadata": {},
   "source": [
    "<div class=\"alert alert-warning\">\n",
    "    \n",
    "A noter que python considère que tout ce qui est entré par un utilisateur avec un <code>input()</code> est une chaine de caractère. Cela signifie que si vous entrez le chiffre 2, python considèreras que la valeur est le caractère 2, et pas le chiffre 2... on peut forcer python à considérer que la valeur entrée est un chiffre en ajoutant <code>int()</code> au <code>input()</code> ce qui donnera <code>int(input())</code>. Ainsi la valeur entrée sera considérée comme un chiffre (evidemment cela plantera le programme avec affichage d'une erreur si l'utilisateur entre un autre caractère qu'un chiffre...)  \n",
    "Ceci est important car si vous devez effectuer des opérations mathématiques (+ - * /) vous ne pouvez le faire qu'avec des chiffres ou des nombres, pas avec des caractères même si le caractère est 2...\n",
    "Vous pouvez tester ces deux programmes :"
   ]
  },
  {
   "cell_type": "code",
   "execution_count": null,
   "metadata": {},
   "outputs": [],
   "source": [
    "chiffre = input(\"Veuillez entrer un chiffre :\")\n",
    "print(chiffre*2)\n",
    "# Ici la multiplication par 2 ne va pas s'effectuer...\n",
    "# On obtient deux fois l'affichage du caractère"
   ]
  },
  {
   "cell_type": "code",
   "execution_count": null,
   "metadata": {},
   "outputs": [],
   "source": [
    "chiffre = int(input(\"Veuillez entrer un chiffre :\"))\n",
    "print(chiffre*2)\n",
    "# ici la multiplication par 2 va s'effectuer"
   ]
  },
  {
   "cell_type": "markdown",
   "metadata": {},
   "source": [
    "<div class=\"alert alert-warning\">\n",
    "    \n",
    "Pour effectuer n fois la ou les même instructions, une utilise une boucle en programmation.\n",
    "Vous pouvez soit utiliser une boucle <code>for</code> en utilisant l'ojet <code>range(d,f,p)</code> qui va définir le début inclu (d), la fin (f) exclu et le pas (p) de la boucle (voir exemple ci dessous). On termine la boucle par <code>:</code> et tout ce qui est indenté par la suite sera dans la boucle.  \n",
    "La syntaxe est donc la suivante :  \n",
    "<code>for compteur in range(1,7,1):</code> : la variable compteur va prendre tour à tour les valeurs de 1 à 6 avec un pas de 1 soit 1, 2, 3, 4, 5, 6"
   ]
  },
  {
   "cell_type": "code",
   "execution_count": null,
   "metadata": {},
   "outputs": [],
   "source": [
    "for compteur in range(1,7,1):\n",
    "    print(compteur)"
   ]
  },
  {
   "cell_type": "markdown",
   "metadata": {},
   "source": [
    "<div class=\"alert alert-warning\">\n",
    "    \n",
    "Vous pouvez prévoir la boucle suivante avant de l'exécuter pour être sûr d'avoir compris:"
   ]
  },
  {
   "cell_type": "code",
   "execution_count": null,
   "metadata": {},
   "outputs": [],
   "source": [
    "for compteur in range(1,20,3):\n",
    "    print(compteur)"
   ]
  },
  {
   "cell_type": "markdown",
   "metadata": {},
   "source": [
    "<div class=\"alert alert-info\">\n",
    "    \n",
    "Vous avez à ce stade toutes les connaissances pour réaliser votre programme. A vous de jouer dans la cellule suivante :"
   ]
  },
  {
   "cell_type": "code",
   "execution_count": null,
   "metadata": {},
   "outputs": [],
   "source": [
    "# Complétez le code ci-dessous:\n",
    "nombreHeure = int(input(\"Entrez le nombre d'heures pendant lesquelles la bactérie de départ va se diviser : \"))\n",
    "nombreDivision = .....\n",
    "nombreBacteries = 1\n",
    "for compteur in range(.....):\n",
    "    nombreBacteries = .....\n",
    "print(\"Au bout de \",nombreHeure,\" heures de division on obtient \",nombreBacteries,\" bactéries.\")\n",
    "print(\"Cela représente une masse de \",nombreBacteries*7E-16,\" Kg de bactéries, soit \",(nombreBacteries*7E-16)/5.97E24,\" fois la masse de la Terre.\")"
   ]
  },
  {
   "cell_type": "markdown",
   "metadata": {},
   "source": [
    "<div class=\"alert alert-info\">\n",
    "    \n",
    "### Pour les forts en maths:  \n",
    "Les bactéries se reproduisent par division binaire, phase de division de durée fixe que nous appellerons période.\n",
    "On note P<sub>n</sub> la population au bout de n périodes de reproduction.\n",
    "Pour tout entier naturel n, P<sub>n + 1</sub> = 2 x P<sub>n</sub>\n",
    "Il s’agit d’une suite géométrique de raison 2 et de premier terme P<sub>0</sub> = 1.\n",
    "Le terme général P<sub>n</sub> peut donc s’exprimer en fonction de n sous la forme :\n",
    "Pour tout entier naturel n, P<sub>n</sub> =  2<sup>n</sup> x P<sub>0</sub> = 2<sup>n</sup>  \n",
    "<br>\n",
    "La syntaxe en Python pour calculer un exposant est <code>\\*\\*</code>. Ainsi <code>2\\*\\*5</code> signifie 2<sup>5</sup>.  \n",
    "<br>\n",
    "Proposez un programme qui fait la même chose que précedemment mais sans utiliser de boucle:"
   ]
  },
  {
   "cell_type": "code",
   "execution_count": null,
   "metadata": {},
   "outputs": [],
   "source": [
    "# Ecrivez votre code ci-dessous:\n"
   ]
  },
  {
   "cell_type": "markdown",
   "metadata": {},
   "source": [
    "<div class=\"alert alert-warning\">\n",
    "    \n",
    "Pour ceux qui sont plus à l'aise avec la **programmation de fonctions** (vu en mathématiques), je vous propose de créer une fonction <code>divisionBacterienne()</code> qui prendra en argument le nombre d'heures pendant lesquelles la bactérie va se diviser. Ainsi l'appel de cette fonction <code>divisionBacterienne(48)</code> affichera le nombre bactéries obtenues à pertir d'une seule au bout de 48h, la masse bacterienne obtenue et sa proportion par rapport à la masse de la Terre.  \n",
    "A vous de jouer dans la cellule suivante:"
   ]
  },
  {
   "cell_type": "code",
   "execution_count": null,
   "metadata": {},
   "outputs": [],
   "source": [
    "# Ecrivez votre code ci-dessous:\n",
    "def divisionBacterienne(nombreHeure):\n",
    "    ....."
   ]
  },
  {
   "cell_type": "code",
   "execution_count": null,
   "metadata": {},
   "outputs": [],
   "source": [
    "# Execution de la fonction ici:\n",
    "print(divisionBacterienne(48))"
   ]
  },
  {
   "cell_type": "code",
   "execution_count": null,
   "metadata": {},
   "outputs": [],
   "source": []
  }
 ],
 "metadata": {
  "kernelspec": {
   "display_name": "Python 3",
   "language": "python",
   "name": "python3"
  },
  "language_info": {
   "codemirror_mode": {
    "name": "ipython",
    "version": 3
   },
   "file_extension": ".py",
   "mimetype": "text/x-python",
   "name": "python",
   "nbconvert_exporter": "python",
   "pygments_lexer": "ipython3",
   "version": "3.7.2"
  }
 },
 "nbformat": 4,
 "nbformat_minor": 2
}
