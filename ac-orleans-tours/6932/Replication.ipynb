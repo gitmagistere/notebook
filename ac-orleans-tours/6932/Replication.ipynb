{
 "cells": [
  {
   "cell_type": "markdown",
   "metadata": {},
   "source": [
    "# REPLICATION DE L'ADN"
   ]
  },
  {
   "cell_type": "markdown",
   "metadata": {},
   "source": [
    "Vous êtes dans un notebook Jupyter. Il s'agit d'une succession de cellules qu'il faut exécuter de la première à la dernière dans l'ordre. On exécute une cellule en la sélectionnant et en cliquant sur \"Executer\" dans le menu ci-dessus ou avec la combinaison de touches MAJ + ENTREE au clavier.  \n",
    "Certaines cellules sont juste du texte, d'autres sont du code python : en les exécutant le code s'exécute et vous pouvez observer le résultat de votre code immédiatement.  \n",
    "En cas de blocage (entrée dans une boucle infinie par exemple... cela s'observe en regardant l'icone de l'onglet de votre navigateur qui est en forme de sablier) vous pouvez redémarrer le noyau à l'aide du bouton en forme de flèche circulaire du menu ci-dessus... cela necessitera de ré-éxecuter toutes les cellules que vous avez déjà éxécutées..."
   ]
  },
  {
   "cell_type": "markdown",
   "metadata": {},
   "source": [
    "<div class=\"alert alert-info\">\n",
    "    \n",
    "En bleu : les consignes SVT"
   ]
  },
  {
   "cell_type": "markdown",
   "metadata": {},
   "source": [
    "<div class=\"alert alert-warning\">\n",
    "    \n",
    "En jaune : les consignes en programmation"
   ]
  },
  {
   "cell_type": "markdown",
   "metadata": {},
   "source": [
    "<div class=\"alert alert-info\">\n",
    "    \n",
    "L'objectif est ici de faire un programme en python qui permet de faire le travail l'ADNpolymérase au cours de la réplication, c'est à dire construire une molécule d'ADN complète double brin à partir d'un seul brin de molécule d'ADN en respectant:  \n",
    "    \n",
    "* L'ordre original des nucléotides\n",
    "* La complémentarité des bases\n",
    "\n",
    "Ce programme doit interroger l'utilisateur au départ en lui demandant une séquence de nucléotides valide, puis construire le deuxième brin de la molécule, complémentaire de celui saisi. Enfin le programme affiche la molécule d'ADN reconstituée."
   ]
  },
  {
   "cell_type": "markdown",
   "metadata": {},
   "source": [
    "<div class=\"alert alert-warning\">\n",
    "    \n",
    "**Pour demander une valeur à un utilisateur** il faut utiliser une variable dans laquelle la valeur entrée par l'utilisateur sera stockée. La variable est déterminée par son NOM, qui ne doit posséder ni espace,ni accent, ni caractères spéciaux (.?,$#...) qui risquent de faire planter le programme.  \n",
    "L'instruction python qui permet de demander à un utilisateur d'entrer une valeur est l'instruction <code>input()</code>. On place entre les parenthèses un texte qui s'affichera à l'écran et qui précisera ce que l'on attend de l'utilisateur. Un texte est toujours placé entre \"\" en python, c'est que l'on appelle uen chaine de caractère.  \n",
    "Ainsi l'instruction <code>input(\"Entrez votre prénom : \")</code> affichera *Entrez votre prénom* et attendra que l'utilisateur entre un texte au clavier.  \n",
    "Cela dit, la valeur entrée au clavier par l'utilisateur doit être stockée dans une variable. Donc pour pouvoir utiliser cette instruction <code>input()</code> correctement, il faut qu'elle soit attribuée à une variable. Imaginons que la variable dans laquelle on veut stocker le prénom de la personne soit <code>prenom</code>, on obtient donc l'instruction suivante :  \n",
    "<code>prenom = input(\"Entrez votre prénom : \")</code>  \n",
    "Lorsque l'utilisateur aura entré son prénom, celui ci sera stocké dans la variable <code>prenom</code>.  \n",
    "Voici un exemple à exécuter :"
   ]
  },
  {
   "cell_type": "code",
   "execution_count": null,
   "metadata": {},
   "outputs": [],
   "source": [
    "prenom = input(\"Entrez votre prénom : \")"
   ]
  },
  {
   "cell_type": "markdown",
   "metadata": {},
   "source": [
    "<div class=\"alert alert-warning\">\n",
    "    \n",
    "Vous pouvez **afficher la valeur d'une variable** simplement en faisant un <code>print(nom de la variable)</code> en remplaçant nom de la variable par son véritable nom.  \n",
    "Affichez dans la cellule suivante à l'aide d'un <code>print()</code> le prénom que l'utilisateur a entré :"
   ]
  },
  {
   "cell_type": "code",
   "execution_count": null,
   "metadata": {},
   "outputs": [],
   "source": [
    "# Ecrivez votre ligne de code ci-dessous:\n"
   ]
  },
  {
   "cell_type": "markdown",
   "metadata": {},
   "source": [
    "<div class=\"alert alert-warning\">\n",
    "    \n",
    "Avec un <code>print</code> vous pouvez afficher plusieurs choses les une derrière les autres en séparant les valeurs par des virgules. Exécutez cet exemple en regardant bien ce qui s'est passé pour l'affichage de la variable prenom:"
   ]
  },
  {
   "cell_type": "code",
   "execution_count": null,
   "metadata": {},
   "outputs": [],
   "source": [
    "print(\"Bonjour je m'appelle \", prenom, \".\")"
   ]
  },
  {
   "cell_type": "markdown",
   "metadata": {},
   "source": [
    "<div class=\"alert alert-warning\">\n",
    "    \n",
    "A noter que python considère que tout ce qui est entré par un utilisateur avec un <code>input()</code> est une chaine de caractère. Cela signifie que si vous entrez le chiffre 2, python considèreras que la valeur est le caractère 2, et pas le chiffre 2... on peut forcer python à considérer que la valeur entrée est un chiffre en ajoutant <code>int()</code> au <code>input()</code> ce qui donnera <code>int(input())</code>. Ainsi la valeur entrée sera considérée comme un chiffre (evidemment cela plantera le programme avec affichage d'une erreur si l'utilisateur entre un autre caractère qu'un chiffre...)  \n",
    "Ceci est important car si vous devez effectuer des opérations mathématiques (+ - * /) vous ne pouvez le faire qu'avec des chiffres ou des nombres, pas avec des caractères même si le caractère est 2...\n",
    "Vous pouvez tester ces deux programmes :"
   ]
  },
  {
   "cell_type": "code",
   "execution_count": null,
   "metadata": {},
   "outputs": [],
   "source": [
    "chiffre = input(\"Veuillez entrer un chiffre :\")\n",
    "print(chiffre*2)\n",
    "# Ici la multiplication par 2 ne va pas s'effectuer...\n",
    "# On obtient deux fois l'affichage du caractère"
   ]
  },
  {
   "cell_type": "code",
   "execution_count": null,
   "metadata": {},
   "outputs": [],
   "source": [
    "chiffre = int(input(\"Veuillez entrer un chiffre :\"))\n",
    "print(chiffre*2)\n",
    "# ici la multiplication par 2 va s'effectuer"
   ]
  },
  {
   "cell_type": "markdown",
   "metadata": {},
   "source": [
    "<div class=\"alert alert-warning\">\n",
    "    \n",
    "**Pour parcourir chaque caractère d'une chaine de caractères**, vous allez devoir utiliser une boucle <code>for</code>. L'instruction est de ce type :  \n",
    "<code>for caractere in chaine:</code>  \n",
    "Notre variable <code>caractere</code> va prendre tour après tour pour valeur tous les caractères contenus dans la variable <code>chaine</code>.  \n",
    "    Cette instruction se termine par <code>:</code> et la ligne suivante est indentée. Toutes les instructions indentées suivantes seront exécutées à chaque tour de boucle.  \n",
    "Exécutez la cellules suivante pour bien comprendre :"
   ]
  },
  {
   "cell_type": "code",
   "execution_count": null,
   "metadata": {},
   "outputs": [],
   "source": [
    "chaine = \"BONJOUR\"\n",
    "for caractere in chaine:\n",
    "    print(caractere)"
   ]
  },
  {
   "cell_type": "markdown",
   "metadata": {},
   "source": [
    "<div class=\"alert alert-warning\">\n",
    "    \n",
    "**L'instruction qui va permettre de faire une condition** est l'instruction <code>if</code> (si en français); elle se termine par deux points (<code>:</code>) et un retour à la ligne avec une indentation (décalage ou tabulation); toutes les instructions indentées seront exécutées si le <code>if</code> est vrai.  \n",
    "Exécutez les lignes de code suivantes pour comprendre:"
   ]
  },
  {
   "cell_type": "code",
   "execution_count": null,
   "metadata": {},
   "outputs": [],
   "source": [
    "if 2 == 2:\n",
    "    print(\"Ce print été exécuté car le if est vrai\")"
   ]
  },
  {
   "cell_type": "code",
   "execution_count": null,
   "metadata": {},
   "outputs": [],
   "source": [
    "if 2 == 3:\n",
    "    print(\"Ce print été exécuté car le if est vrai\")"
   ]
  },
  {
   "cell_type": "markdown",
   "metadata": {},
   "source": [
    "<div class=\"alert alert-warning\">\n",
    "    \n",
    "On peut compléter l'instruction <code>if</code> avec un <code>elif</code> pour \"sinon si\" ou un <code>else</code> pour \"sinon\" qui ne s'exécutera que si le <code>if</code> est faux. Pensez également à l'indentation qui indique ce qui doit être exécuté dans le <code>else</code>. Voici un exemple à comprendre en exécutant la cellule suivante:"
   ]
  },
  {
   "cell_type": "code",
   "execution_count": null,
   "metadata": {},
   "outputs": [],
   "source": [
    "if 2 == 3:\n",
    "    print(\"Ce print été exécuté car le if est vrai\")\n",
    "elif 2 == 4:\n",
    "    print(\"Ce print été exécuté car le elif est vrai\")\n",
    "else:\n",
    "    print(\"Ce print été exécuté car les if ou elif précédents sont faux\")"
   ]
  },
  {
   "cell_type": "markdown",
   "metadata": {},
   "source": [
    "<div class=\"alert alert-warning\">\n",
    "    \n",
    "On peut stopper une boucle <code>for</code> volontairement en cours d'exécution (si on détecte une erreur par exemple) avec l'instruction <code>break</code>"
   ]
  },
  {
   "cell_type": "markdown",
   "metadata": {},
   "source": [
    "<div class=\"alert alert-info\">\n",
    "    \n",
    "Vous avez à ce stade toutes les connaissances pour réaliser votre programme. A vous de jouer dans la cellule suivante :"
   ]
  },
  {
   "cell_type": "code",
   "execution_count": null,
   "metadata": {},
   "outputs": [],
   "source": [
    "# Complétez le code ci-dessous:\n",
    "brinAdn = input(\"Entrez une séquence de nucléotides valide (ATCG) : \")\n",
    "for nucleotide in brinAdn :\n",
    "    if nucleotide == \"A\":\n",
    "        print(\"AT\")\n",
    "    elif .....\n",
    "    ....\n",
    "    else:\n",
    "        print(\"Votre séquence de nucléotides n'est pas valide\")\n",
    "        break"
   ]
  },
  {
   "cell_type": "markdown",
   "metadata": {},
   "source": [
    "<div class=\"alert alert-warning\">\n",
    "    \n",
    "Pour ceux qui sont plus à l'aise avec la **programmation de fonctions** (vu en mathématiques), je vous propose de créer une fonction <code>replication()</code> qui prendra en argument la séquence de nucléotides. Ainsi l'appel de cette fonction <code>replication(ATCG)</code> affichera ATCG sur une ligne et TAGC sur la ligne de dessous.  \n",
    "A vous de jouer dans la cellule suivante:"
   ]
  },
  {
   "cell_type": "code",
   "execution_count": null,
   "metadata": {},
   "outputs": [],
   "source": [
    "# Complétez le code ci-dessous:\n",
    "def replication(brinAdn):\n",
    "    ....."
   ]
  },
  {
   "cell_type": "code",
   "execution_count": null,
   "metadata": {},
   "outputs": [],
   "source": [
    "# Execution de la fonction ici:\n",
    "print(replication(\"ATCG\"))"
   ]
  },
  {
   "cell_type": "code",
   "execution_count": null,
   "metadata": {},
   "outputs": [],
   "source": []
  }
 ],
 "metadata": {
  "kernelspec": {
   "display_name": "Python 3",
   "language": "python",
   "name": "python3"
  },
  "language_info": {
   "codemirror_mode": {
    "name": "ipython",
    "version": 3
   },
   "file_extension": ".py",
   "mimetype": "text/x-python",
   "name": "python",
   "nbconvert_exporter": "python",
   "pygments_lexer": "ipython3",
   "version": "3.7.2"
  }
 },
 "nbformat": 4,
 "nbformat_minor": 2
}
