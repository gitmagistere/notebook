{
 "cells": [
  {
   "cell_type": "markdown",
   "metadata": {},
   "source": [
    "# Calcul de valeurs approchées de constantes."
   ]
  },
  {
   "cell_type": "markdown",
   "metadata": {},
   "source": [
    "##  Imports :"
   ]
  },
  {
   "cell_type": "code",
   "execution_count": 2,
   "metadata": {},
   "outputs": [],
   "source": [
    "import matplotlib.pyplot as plt\n",
    "import math\n"
   ]
  },
  {
   "cell_type": "markdown",
   "metadata": {},
   "source": [
    "## 1 Méthode de Brouncker  :\n",
    "En 1657,  William Brouncker propose la formule suivante pour approximer $\\ln(2)$ :\n",
    "\n",
    "$\\frac{1}{1\\times 2}+\\frac{1}{3\\times 4}+\\frac{1}{5\\times 6}+\\frac{1}{5\\times 6}+...+\\frac{1}{(2n+1)(2n+2)}=\n",
    "\\underset{k=0}{\\overset{n}\\sum}\\frac{1}{(2k+1)(2k+2)}$ \n",
    "\n",
    "Cette méthode consiste à estimer l'aire sous la courbe de la fonction $x \\mapsto \\frac{1}{x}$ de la manière suivante :\n",
    "![Brouncker](Brouncker.gif) \n",
    "\n",
    "Compléter la fonction `Brouncker` suivante, prenant comme paramètre un entier `n` positif et qui renvoie une valeur approchée de $ln(2)$ par la formule de Brouncker en `n` étapes.\n",
    "\n",
    " "
   ]
  },
  {
   "cell_type": "code",
   "execution_count": 3,
   "metadata": {},
   "outputs": [
    {
     "name": "stdout",
     "output_type": "stream",
     "text": [
      "valeur fournie par math.log :  0.6931471805599453\n"
     ]
    },
    {
     "data": {
      "text/plain": [
       "0"
      ]
     },
     "execution_count": 3,
     "metadata": {},
     "output_type": "execute_result"
    }
   ],
   "source": [
    "def Brouncker(n):\n",
    "    S=0\n",
    "    \n",
    "    # A compléter\n",
    "     \n",
    "    print('valeur fournie par math.log : ',math.log(2))    \n",
    "    \n",
    "    return S  \n",
    "        \n",
    "Brouncker(10)"
   ]
  },
  {
   "cell_type": "markdown",
   "metadata": {},
   "source": [
    "## 2 Méthode de Heron :\n",
    "\n",
    "\n",
    "Soit $A$ est un réel srictement positif.\n",
    "\n",
    "On définit la suite $(U_n)$ par:\n",
    "\n",
    "$U_0=A$ et $U_{n+1}= \\frac{1}{2}\\times (U_{n}+ \\frac{A}{U_{n}})$\n",
    "\n",
    "\n",
    "On peut justifier que $(U_n)$  converge vers $\\sqrt{A}$.\n",
    "\n",
    "Compléter la fonction `Heron` prenant comme paramètre un réel positif  `A` et un réel strictement positif `e` et qu'il renvoie une valeur approchée de la racine de `A`,  l'aide de cette suite, le calcul s'arrêtant dès que l'écart dans deux termes consécutifs de cette suite devient inférieur à  `e`."
   ]
  },
  {
   "cell_type": "code",
   "execution_count": 4,
   "metadata": {},
   "outputs": [
    {
     "data": {
      "text/plain": [
       "1000"
      ]
     },
     "execution_count": 4,
     "metadata": {},
     "output_type": "execute_result"
    }
   ],
   "source": [
    "def Heron(A,e):\n",
    "    n=0\n",
    "    U=A\n",
    "    \n",
    "    # A compléter\n",
    "        \n",
    "    return U\n",
    " \n",
    "    \n",
    "Heron(1000,(10**-15))"
   ]
  },
  {
   "cell_type": "markdown",
   "metadata": {},
   "source": [
    "## 3 Méthode de Briggs.\n",
    "Au début du XVI ième siècle, Henry Briggs propose la méthode suivante pour calculer une valeur approchée d'un log décimal :\n",
    "\n",
    "Soit $x$ est un réel compris entre 1 et 10.\n",
    "\n",
    "On définit les suites $(A_n),\\quad (B_n),\\quad (logA_n),\\quad (logB_n)\\quad $  par:\n",
    "\n",
    "$A_0=1,\\quad  B_0=10, \\quad logA_0=1, \\quad  logB_0=1$\n",
    "\n",
    "si $\\sqrt{A_n*B_n}<=x$ alors :\n",
    "\n",
    "$A_{n+1}=\\sqrt{A_n*B_n}, \\quad \\quad logA_{n+1}=\\frac{logA_{n}+logB_{n}}{2},\\quad \\quad  B_{n+1}=B_{n}, \\quad  \\quad logB_{n+1}= logB_{n}$\n",
    "\n",
    "sinon :\n",
    "\n",
    "$B_{n+1}=\\sqrt{A_n*B_n}, \\quad \\quad logB_{n+1}=\\frac{logA_{n}+logB_{n}}{2},\\quad \\quad A_{n+1}=A_{n}, \\quad  \\quad logA_{n+1}= logA_{n}$\n",
    "\n",
    "\n",
    "On peut justifier que les suites $(A_n)$ et $(B_n)$ sont adjacentes, qu'elles convergent vers $x$ et que $ logA_{n}=log(A_n)$ et  $logB_{n}=log(B_n) $.\n",
    "\n",
    "Compléter la fonction `Briggs` suivante, qui renvoie une estimation de log($x$) à la précision  `p`, en utilisant ces deux suites."
   ]
  },
  {
   "cell_type": "code",
   "execution_count": 5,
   "metadata": {},
   "outputs": [
    {
     "name": "stdout",
     "output_type": "stream",
     "text": [
      "valeur fournie math.log : 0.6989700043360187\n"
     ]
    },
    {
     "data": {
      "text/plain": [
       "0"
      ]
     },
     "execution_count": 5,
     "metadata": {},
     "output_type": "execute_result"
    }
   ],
   "source": [
    "def Briggs(x,p):\n",
    "    \n",
    "    logB=0  \n",
    "    \n",
    "    # A compléter\n",
    "    \n",
    "    print('valeur fournie math.log :',math.log(x,10))    \n",
    "    \n",
    "    return logB  \n",
    "        \n",
    "Briggs(5,10**(-5))   \n",
    "        "
   ]
  },
  {
   "cell_type": "markdown",
   "metadata": {},
   "source": [
    "## 4 Méthode d'Archimède :\n",
    "Compléter la fonction `Archimede` prenant comme paramètre un entier  `n` supérieur à 2 et  qui renvoie une valeur approchée de Pi par la méthode d'Archimède par encadrement du cercle unité par des polygones réguliers à `n` cotés.\n",
    "\n",
    "On peut aussi programmer l'illustration avec matplotlib comme ci-dessous pour `n=8`:\n",
    "![Archimede-8](Archimede-8.png)\n",
    "\n",
    "Voici un gif pour visualiser la méthode d'Archimède pour différentes valeurs de `n`:\n",
    "![Archimede2](Archimede.gif) "
   ]
  },
  {
   "cell_type": "code",
   "execution_count": 6,
   "metadata": {},
   "outputs": [
    {
     "name": "stdout",
     "output_type": "stream",
     "text": [
      "Estimation inférieure :  0\n",
      "Estimation supérieure :  0\n"
     ]
    },
    {
     "data": {
      "text/plain": [
       "<Figure size 432x288 with 0 Axes>"
      ]
     },
     "metadata": {},
     "output_type": "display_data"
    },
    {
     "data": {
      "image/png": "[encoded data removed]",
      "text/plain": [
       "<Figure size 360x360 with 1 Axes>"
      ]
     },
     "metadata": {
      "needs_background": "light"
     },
     "output_type": "display_data"
    }
   ],
   "source": [
    "def Archimede(n):\n",
    "    \n",
    "       \n",
    "    theta1 =[2*math.pi*k/100 for k in range(101)]\n",
    "    X1 =[math.cos(t) for t in theta1]\n",
    "    Y1 =[math.sin(t) for t in theta1]\n",
    "    \n",
    "    EstimationInf=0\n",
    "    EstimationSup=0\n",
    "    \n",
    "    # A compléter   \n",
    "    \n",
    "    \n",
    "    plt.figure('Archimede')\n",
    "    plt.figure(figsize=(5,5))\n",
    "    \n",
    "    plt.plot(X1,Y1)\n",
    "    \n",
    "    # A compléter\n",
    "    \n",
    "    plt.xlim(-1.5,1.5)\n",
    "    plt.ylim(-1.5,1.5)\n",
    "\n",
    "    plt.grid(linestyle='--')\n",
    "    plt.axis('equal')\n",
    "    plt.savefig('Archimede_'+str(n)+'.png')\n",
    "    \n",
    "    \n",
    "    \n",
    "    \n",
    "    \n",
    "    print('Estimation inférieure : ', EstimationInf)\n",
    "    print('Estimation supérieure : ', EstimationSup)\n",
    " \n",
    "    \n",
    "Archimede(8)"
   ]
  },
  {
   "cell_type": "code",
   "execution_count": null,
   "metadata": {},
   "outputs": [],
   "source": []
  }
 ],
 "metadata": {
  "kernelspec": {
   "display_name": "Python 3",
   "language": "python",
   "name": "python3"
  },
  "language_info": {
   "codemirror_mode": {
    "name": "ipython",
    "version": 3
   },
   "file_extension": ".py",
   "mimetype": "text/x-python",
   "name": "python",
   "nbconvert_exporter": "python",
   "pygments_lexer": "ipython3",
   "version": "3.7.2"
  }
 },
 "nbformat": 4,
 "nbformat_minor": 2
}
