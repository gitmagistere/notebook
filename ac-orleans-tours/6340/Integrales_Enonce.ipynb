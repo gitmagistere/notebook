{
 "cells": [
  {
   "cell_type": "markdown",
   "metadata": {},
   "source": [
    "# Calcul de valeur approchée d'une intégrale avec Python."
   ]
  },
  {
   "cell_type": "markdown",
   "metadata": {},
   "source": [
    "##  Imports et définition d'une fonction."
   ]
  },
  {
   "cell_type": "code",
   "execution_count": 3,
   "metadata": {},
   "outputs": [],
   "source": [
    "import math\n",
    "from random import *\n",
    "import matplotlib.pyplot as plt\n",
    "\n",
    "def f(x):\n",
    "    return math.sin(3*x)*10+11\n",
    "\n",
    "\n",
    "\n",
    "\n",
    "\n"
   ]
  },
  {
   "cell_type": "markdown",
   "metadata": {},
   "source": [
    "## 1 fonction integraleRectangles :\n",
    "Compléter la fonction ` integraleRectangles` prenant comme paramètres un entier strictement positif `n`, deux réels `a` et `b`,  une fonction `f` définie sur l'intervalle [a,b], et  qui renvoie une valeur approchée de l'intégrale de f entre a et b par la méthode des rectangles.\n",
    "\n",
    "Voici un gif pour illustrer la méthode des rectangles avec différentes valeurs de  `n`.\n",
    "\n",
    "![](rectangles.gif)\n"
   ]
  },
  {
   "cell_type": "code",
   "execution_count": 4,
   "metadata": {},
   "outputs": [
    {
     "data": {
      "image/png": "[encoded data removed]",
      "text/plain": [
       "<Figure size 432x288 with 1 Axes>"
      ]
     },
     "metadata": {
      "needs_background": "light"
     },
     "output_type": "display_data"
    },
    {
     "name": "stdout",
     "output_type": "stream",
     "text": [
      "Estimation par rectangles :  0\n"
     ]
    }
   ],
   "source": [
    "def integraleRectangles(n,a,b,f):\n",
    "    \n",
    "    plt.figure('integraleRectangles')\n",
    "    \n",
    "       \n",
    "    X1 = [a+(b-a)*i/100 for i in range(101)]\n",
    "    Y1 = [f(i) for i in X1]\n",
    "        \n",
    "    maximum=max(Y1)\n",
    "    minimum=min(Y1)\n",
    "    \n",
    "    plt.ylim(min(-1,minimum*1.2),max(maximum*1.2,1))\n",
    "    \n",
    "    plt.plot(X1,Y1)\n",
    "    \n",
    "    \n",
    "    I=0\n",
    "    \n",
    "    # A compléter\n",
    "    \n",
    "    plt.savefig('rectangles_'+str(n)+'.png')   \n",
    "    plt.show()\n",
    "    plt.close()\n",
    "    \n",
    "    print('Estimation par rectangles : ', I)\n",
    "    \n",
    "       \n",
    "    \n",
    "integraleRectangles(40,-0.5,3,f)  "
   ]
  },
  {
   "cell_type": "code",
   "execution_count": null,
   "metadata": {},
   "outputs": [],
   "source": []
  },
  {
   "cell_type": "markdown",
   "metadata": {},
   "source": [
    "## 2. fonction integraleMonteCarlo :\n",
    "Compléter la fonction `integraleMonteCarlo` prenant comme paramètres un entier strictement positif `n`, deux réels `a` et `b`,  une fonction `f` positive sur l'intervalle [a,b], et  qui renvoie une valeur approchée de l'intégrale de f entre a et b par la méthode de Monte Carlo.\n",
    "\n",
    "Voici un gif pour illustrer la méthode de MonteCarlo avec différentes valeurs de  `n`.\n",
    "\n",
    "![](MonteCarlo.gif)"
   ]
  },
  {
   "cell_type": "code",
   "execution_count": 5,
   "metadata": {},
   "outputs": [
    {
     "data": {
      "image/png": "[encoded data removed]",
      "text/plain": [
       "<Figure size 432x288 with 1 Axes>"
      ]
     },
     "metadata": {
      "needs_background": "light"
     },
     "output_type": "display_data"
    },
    {
     "name": "stdout",
     "output_type": "stream",
     "text": [
      "Estimation par Monte Carlo :  0\n"
     ]
    }
   ],
   "source": [
    "def integraleMonteCarlo(n,a,b,f):\n",
    "    \n",
    "    \n",
    "    X1 = [a+(b-a)*i/100 for i in range(101)]\n",
    "    Y1 = [f(i) for i in X1]\n",
    "        \n",
    "    maximum=max(Y1)\n",
    "    minimum=min(Y1)\n",
    "    \n",
    "    plt.ylim(min(-1,minimum*1.2),max(maximum*1.2,1))\n",
    "    \n",
    "    plt.plot(X1,Y1,c='blue')\n",
    "    \n",
    "       \n",
    "    nombre=0\n",
    "    \n",
    "    # Début de la partie à modifier \n",
    "    t=uniform(a, b)\n",
    "    X2=[]\n",
    "    Y2=[]\n",
    "    X3=[]\n",
    "    Y3=[]\n",
    "    \n",
    "            \n",
    "            \n",
    "    # Fin de la partie à modifier \n",
    "    \n",
    "    plt.ylim(-1,maximum*1.2)\n",
    "    \n",
    "    plt.plot(X1,Y1) \n",
    "    \n",
    "    plt.scatter(X2,Y2,c='cyan',s=2 ) \n",
    "    \n",
    "    plt.scatter(X3,Y3,c='salmon',s=2 )\n",
    "    \n",
    "    plt.savefig('MonteCarlo_'+str(n)+'.png')   \n",
    "    \n",
    "    plt.show()\n",
    "    \n",
    "    print('Estimation par Monte Carlo : ', nombre)\n",
    "    \n",
    "   \n",
    "    \n",
    "    \n",
    "I=integraleMonteCarlo(10000,-0.5,3,f)    \n",
    "    \n",
    "\n",
    "    "
   ]
  },
  {
   "cell_type": "code",
   "execution_count": null,
   "metadata": {},
   "outputs": [],
   "source": []
  }
 ],
 "metadata": {
  "kernelspec": {
   "display_name": "Python 3",
   "language": "python",
   "name": "python3"
  },
  "language_info": {
   "codemirror_mode": {
    "name": "ipython",
    "version": 3
   },
   "file_extension": ".py",
   "mimetype": "text/x-python",
   "name": "python",
   "nbconvert_exporter": "python",
   "pygments_lexer": "ipython3",
   "version": "3.7.2"
  }
 },
 "nbformat": 4,
 "nbformat_minor": 2
}
