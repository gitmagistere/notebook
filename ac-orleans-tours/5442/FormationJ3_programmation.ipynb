{
 "cells": [
  {
   "cell_type": "markdown",
   "metadata": {},
   "source": [
    "# générer une suite arithmétique\n",
    "\n",
    "Proposition de programme"
   ]
  },
  {
   "cell_type": "markdown",
   "metadata": {},
   "source": [
    "*Personnellement je n'aurai pas abordé les choses de cette façon.*\n",
    "\n",
    "*Le référentiel d'algorithmique précise qu'il faut décomposer un problème en sous-problèmes*\n",
    "\n",
    "````\n",
    "def termesuitearith(terme1,raison,rang):#écrit en toute lettre pour une meilleur compréhension du code\n",
    "    return terme1 + (rang-1)*raison # application stricte du cours de maths\n",
    "    \n",
    "def rangduterme(terme1,raison,termeN):\n",
    "    k = 1\n",
    "    while termesuitearith(terme1,raison,k)!=termeN : #on compare un à un les terme de la suite à la valeur voulue\n",
    "                                                    # problème si la valeur voulue n'est jamais atteinte\n",
    "                                                    # on ne surcharge pas en conservant des valeurs \n",
    "                                                    # que l'on ne veut pas\n",
    "        k += 1\n",
    "    return (termeN,k)\n",
    " \n",
    "def suitearith(terme1,raison,rangmax):\n",
    "    suite = []  #cette fois on veut conserver toutes les valeurs de la suite \n",
    "                #donc leplus simple est de les mettre dans une liste\n",
    "    for rang in range(1,rangmax+1):\n",
    "        suite.append(termesuitearith(terme1,raison,rang)) \n",
    "    return suite\n",
    "\n",
    "def somme(suite): # on va chercher la suite dont on veut la somme\n",
    "    somme = 0     # initialisation de la somme\n",
    "    N = len(suite) # recherche de la longueur de la suite\n",
    "    for i in range (N):\n",
    "        somme += suite[i] # on ajoute toutes les valeurs au fur et à mesure de la liste\n",
    "    return somme\n",
    "\n",
    "%matplotlib inline\n",
    "# à utiliser uniquement sur le notebook pour ppouvoir utiliser matplotlib \n",
    "# les autres bibliothèque python n'ont pas besoin de cette manipulation\n",
    "import matplotlib.pyplot as plt # on charge matplot en lui raccourcissant le nom plt\n",
    "def representationsuite(suite):\n",
    "    abscisse = [i+1 for i in range (len(suite))] # on crée les valeur des abscisses\n",
    "                                                # qui correspondent au rang du terme de la suite\n",
    "    plt.scatter(abscisse,suite,marker='o',color='blue') # on place les points sur le graphique \n",
    "    plt.show() # on montre le résultat\n",
    "\n",
    "\n",
    "\n",
    "\n",
    "print(suitearith(1,2,15)) # affichage de la suite numérique sous forme de liste\n",
    "print(termesuitearith(1,2,2)) # affichage du calcul du 2e terme de la suite arithmétique de prepier terme 1 et de raison 2\n",
    "print('Le rang du terme de valeur ',rangduterme(1,2,9)[0],'est : ',rangduterme(1,2,9)[1]) \n",
    "                                            # on peut rappeller facilement \n",
    "                                            #les éléments d'une fonction \n",
    "                                            # qui sont une sorte de liste (on dit tuple)\n",
    "                                            # le premier est à l'index 0 et le second à l'index 1\n",
    "print('la somme des 10 premiers termes de la suite est :',somme(suitearith(1,2,10)))\n",
    "\n",
    "representationsuite(suitearith(1,3,12)) # on lance la procédure de representation graphique\n",
    "```\n",
    "\n",
    "ci-dessous le test de ces fonctions"
   ]
  },
  {
   "cell_type": "code",
   "execution_count": 10,
   "metadata": {},
   "outputs": [
    {
     "name": "stdout",
     "output_type": "stream",
     "text": [
      "[1, 3, 5, 7, 9, 11, 13, 15, 17, 19, 21, 23, 25, 27, 29]\n",
      "3\n",
      "Le rang du terme de valeur  9 est :  5\n",
      "la somme des 10 premiers termes de la suite est : 100\n"
     ]
    }
   ],
   "source": [
    "def termesuitearith(terme1,raison,rang):#écrit en toute lettre pour une meilleur compréhension du code\n",
    "    return terme1 + (rang-1)*raison # application stricte du cours de maths\n",
    "    \n",
    "def rangduterme(terme1,raison,termeN):\n",
    "    k = 1\n",
    "    while termesuitearith(terme1,raison,k)!=termeN : #on compare un à un les terme de la suite à la valeur voulue\n",
    "                                                    # problème si la valeur voulue n'est jamais atteinte\n",
    "                                                    # on ne surcharge pas en conservant des valeurs \n",
    "                                                    # que l'on ne veut pas\n",
    "        k += 1\n",
    "    return (termeN,k)\n",
    " \n",
    "def suitearith(terme1,raison,rangmax):\n",
    "    suite = []  #cette fois on veut conserver toutes les valeurs de la suite \n",
    "                #donc leplus simple est de les mettre dans une liste\n",
    "    for rang in range(1,rangmax+1):\n",
    "        suite.append(termesuitearith(terme1,raison,rang)) \n",
    "    return suite\n",
    "\n",
    "def somme(suite): # on va chercher la suite dont on veut la somme\n",
    "    somme = 0     # initialisation de la somme\n",
    "    N = len(suite) # recherche de la longueur de la suite\n",
    "    for i in range (N):\n",
    "        somme += suite[i] # on ajoute toutes les valeurs au fur et à mesure de la liste\n",
    "    return somme\n",
    "\n",
    "\n",
    "print(suitearith(1,2,15))\n",
    "print(termesuitearith(1,2,2))\n",
    "print('Le rang du terme de valeur ',rangduterme(1,2,9)[0],'est : ',rangduterme(1,2,9)[1]) \n",
    "                                            # on peut rappeller facilement \n",
    "                                            #les éléments d'une fonction \n",
    "                                            # qui sont une sorte de liste (on dit tuple)\n",
    "                                            # le premier est à l'index 0 et le second à l'index 1\n",
    "print('la somme des 10 premiers termes de la suite est :',somme(suitearith(1,2,10)))"
   ]
  },
  {
   "cell_type": "code",
   "execution_count": 14,
   "metadata": {},
   "outputs": [
    {
     "data": {
      "image/png": "[encoded data removed]",
      "text/plain": [
       "<Figure size 432x288 with 1 Axes>"
      ]
     },
     "metadata": {
      "needs_background": "light"
     },
     "output_type": "display_data"
    }
   ],
   "source": [
    "%matplotlib inline\n",
    "# à utiliser uniquement sur le notebook pour ppouvoir utiliser matplotlib \n",
    "# les autres bibliothèque python n'ont pas besoin de cette manipulation\n",
    "import matplotlib.pyplot as plt # on charge matplot en lui raccourcissant le nom plt\n",
    "def representationsuite(suite):\n",
    "    abscisse = [i+1 for i in range (len(suite))] # on crée les valeur des abscisses\n",
    "                                                # qui correspondent au rang du terme de la suite\n",
    "    plt.scatter(abscisse,suite,marker='o',color='blue') # on place les points sur le graphique \n",
    "    plt.show() # on montre le résultat\n",
    "\n",
    "\n",
    "representationsuite(suitearith(1,3,12)) # on lance la procédure de representation graphique"
   ]
  },
  {
   "cell_type": "code",
   "execution_count": 1,
   "metadata": {},
   "outputs": [
    {
     "name": "stdout",
     "output_type": "stream",
     "text": [
      "[1, 3, 5, 7, 9, 11, 13, 15, 17, 19]\n"
     ]
    }
   ],
   "source": [
    "def arith1(u1,r,n): #les paramètre sont le 1er terme, la raison et le nombre de terme que l'on veut dans la suite \n",
    "    L=[] # on crée une liste vide pour stocker les éléments de la suite\n",
    "    u=u1 # on initialise le calcul\n",
    "    for i in range(1,n+1):  # on lance notre boucle de calcul\n",
    "                            # on commence à 1 car le premier terme est u1\n",
    "                            # on finit à n+1 car dans la fonction range la borne supérieur est exclue\n",
    "        L.append(u) # la fonction append permet d'ajouter des valeurs dans la liste\n",
    "        u = u + r # on fait le calcul du terme suivant\n",
    "    print(L) # on affiche la liste\n",
    "\n",
    "arith1(1,2,10)"
   ]
  },
  {
   "cell_type": "code",
   "execution_count": 2,
   "metadata": {},
   "outputs": [
    {
     "name": "stdout",
     "output_type": "stream",
     "text": [
      "[1, 3, 5, 7, 9, 11, 13, 15, 17, 19]\n"
     ]
    }
   ],
   "source": [
    "def arith2(u1,r,n):\n",
    "    L=[]\n",
    "    for i in range(1,n+1):\n",
    "        L.append(u1 + (i-1)*r) # on peut directement faire les deux instructions de l'exemple précédent en même temps\n",
    "    print(L)\n",
    "    \n",
    "arith2(1,2,10)"
   ]
  },
  {
   "cell_type": "code",
   "execution_count": 3,
   "metadata": {},
   "outputs": [
    {
     "name": "stdout",
     "output_type": "stream",
     "text": [
      "[1, 3, 5, 7, 9, 11, 13, 15, 17, 19]\n"
     ]
    }
   ],
   "source": [
    "def arith3(u1,r,n):\n",
    "    L = [u1 + k*r for k in range(n)]    # par soucis de gain de temps de calcul, \n",
    "                                        # on peut également créer la liste en la remplissant en même temps\n",
    "    print(L)\n",
    "\n",
    "arith3(1,2,10)"
   ]
  },
  {
   "cell_type": "markdown",
   "metadata": {},
   "source": [
    "# Obtenir la valeur d'un terme de rang donné\n",
    "\n",
    "Proposition de programme en se basant sur la première propositon précédente mais c'est tout aussi valable avec les deux autres.\n"
   ]
  },
  {
   "cell_type": "code",
   "execution_count": 4,
   "metadata": {},
   "outputs": [
    {
     "name": "stdout",
     "output_type": "stream",
     "text": [
      "[1, 3, 5, 7, 9, 11, 13, 15, 17, 19]\n",
      "La valeur du cinquième terme est  9\n"
     ]
    }
   ],
   "source": [
    "def termederang5(u1,r,n):\n",
    "    L=[]\n",
    "    u = u1\n",
    "    for i in range(1,n+1):\n",
    "        L.append(u)\n",
    "        u = u + r\n",
    "    print(L)\n",
    "    print(\"La valeur du cinquième terme est \",L[4])\n",
    "# L[4] pour le 5e terme car pour Python toutes les listes commence à l'index 0 \n",
    "# ce qui signifie que le premier terme u1 est en fait en Python L[0]\n",
    "# donc u5 est rangé dans la liste en L[4]\n",
    "    \n",
    "termederang5(1,2,10)\n",
    "    "
   ]
  },
  {
   "cell_type": "code",
   "execution_count": 5,
   "metadata": {},
   "outputs": [
    {
     "name": "stdout",
     "output_type": "stream",
     "text": [
      "[1, 3, 5, 7, 9, 11, 13, 15, 17, 19]\n",
      "La valeur du  6 ième terme est  11\n"
     ]
    }
   ],
   "source": [
    "def termederangk(u1,r,n,k):\n",
    "    L=[]\n",
    "    u = u1\n",
    "    for i in range(1,n+1):\n",
    "        L.append(u)\n",
    "        u = u + r\n",
    "    print(L)\n",
    "    print(\"La valeur du \",k,\"ième terme est \",L[k-1])\n",
    "# L[4] pour le 5e terme car pour Python toutes les listes commence à l'index 0 \n",
    "# ce qui signifie que le premier terme u1 est en fait en Python L[0]\n",
    "# donc u5 est rangé dans la liste en L[4]\n",
    "    \n",
    "termederangk(1,2,10,6)\n",
    "    "
   ]
  },
  {
   "cell_type": "markdown",
   "metadata": {},
   "source": [
    "# Obtenir le rang d'un terme de valeur donnée"
   ]
  },
  {
   "cell_type": "code",
   "execution_count": 6,
   "metadata": {},
   "outputs": [
    {
     "name": "stdout",
     "output_type": "stream",
     "text": [
      "[1, 3, 5, 7, 9, 11, 13, 15, 17, 19]\n",
      "Le rang du terme de valeur 17 est  9\n"
     ]
    }
   ],
   "source": [
    "def rangdutermedevaleur17(u1,r,n):\n",
    "    L = []\n",
    "    u = u1\n",
    "    for i in range(1,n+1):\n",
    "        L.append(u)\n",
    "        u = u + r # on peut aussi écrire u += r pour incrémenter la variable u de r\n",
    "    print(L)\n",
    "    print(\"Le rang du terme de valeur 17 est \", L.index(17)+1) #L.index renvoi le rang dans la liste de la valeur 17\n",
    "                                                                # on ajoute 1 car je le rappelle les liste commence\n",
    "                                                                # avec l'index 0 et non 1\n",
    "rangdutermedevaleur17(1,2,10)"
   ]
  },
  {
   "cell_type": "code",
   "execution_count": 7,
   "metadata": {},
   "outputs": [
    {
     "name": "stdout",
     "output_type": "stream",
     "text": [
      "[1, 3, 5, 7, 9, 11, 13, 15, 17, 19]\n",
      "Le rang du terme de valeur  15  est  8\n"
     ]
    }
   ],
   "source": [
    "def rangdutermedevaleurk(u1,r,n,k):\n",
    "    L = []\n",
    "    u = u1\n",
    "    for i in range(1,n+1):\n",
    "        L.append(u)\n",
    "        u = u + r # on peut aussi écrire u += r pour incrémenter la variable u de r\n",
    "    print(L)\n",
    "    print(\"Le rang du terme de valeur \", k,\" est \", L.index(k)+1) #L.index renvoi le rang dans la liste de la valeur 17\n",
    "                                                                # on ajoute 1 car je le rappelle les liste commence\n",
    "                                                                # avec l'index 0 et non 1\n",
    "rangdutermedevaleurk(1,2,10,15)"
   ]
  },
  {
   "cell_type": "markdown",
   "metadata": {},
   "source": [
    "## Création d'un graphique \n"
   ]
  },
  {
   "cell_type": "code",
   "execution_count": 2,
   "metadata": {
    "scrolled": true
   },
   "outputs": [
    {
     "name": "stdout",
     "output_type": "stream",
     "text": [
      "[1, 3, 5, 7, 9, 11, 13, 15, 17, 19]\n"
     ]
    },
    {
     "data": {
      "image/png": "[encoded data removed]",
      "text/plain": [
       "<Figure size 432x288 with 1 Axes>"
      ]
     },
     "metadata": {
      "needs_background": "light"
     },
     "output_type": "display_data"
    }
   ],
   "source": [
    "import matplotlib.pyplot as plt\n",
    "def repsuitearith(u1,r,n):\n",
    "    L = []\n",
    "    for i in range(1,n+1):\n",
    "        L.append(u1+(i-1)*r)\n",
    "        plt.plot(i,u1+(i-1)*r,'r.')\n",
    "    print(L)\n",
    "    plt.xlim(0,n+1)\n",
    "    plt.ylim(min(L)-1,max(L)+1)\n",
    "    plt.show()\n",
    "\n",
    "repsuitearith(1,2,10)\n",
    "        "
   ]
  },
  {
   "cell_type": "markdown",
   "metadata": {},
   "source": [
    "# A vous de jouer :\n"
   ]
  },
  {
   "cell_type": "markdown",
   "metadata": {},
   "source": [
    "\n",
    "## 1. Ecrire des programmes similaires qui permettent de faire la même chose avec une suite géométrique cette fois-ci "
   ]
  },
  {
   "cell_type": "code",
   "execution_count": 1,
   "metadata": {},
   "outputs": [
    {
     "ename": "SyntaxError",
     "evalue": "invalid syntax (<ipython-input-1-e6c150c7263e>, line 3)",
     "output_type": "error",
     "traceback": [
      "\u001b[1;36m  File \u001b[1;32m\"<ipython-input-1-e6c150c7263e>\"\u001b[1;36m, line \u001b[1;32m3\u001b[0m\n\u001b[1;33m    for i in range (.....):\u001b[0m\n\u001b[1;37m                        ^\u001b[0m\n\u001b[1;31mSyntaxError\u001b[0m\u001b[1;31m:\u001b[0m invalid syntax\n"
     ]
    }
   ],
   "source": [
    "def geom(u1,r,n):\n",
    "    L = ...\n",
    "    for i in range (.....):\n",
    "        ....\n",
    "    print(L)"
   ]
  },
  {
   "cell_type": "markdown",
   "metadata": {},
   "source": [
    "## 2. En vous basant sur les programme précédents, écrire un programme qui fait la somme des k premiers termes d'une suite arithmétique"
   ]
  },
  {
   "cell_type": "code",
   "execution_count": null,
   "metadata": {
    "collapsed": true
   },
   "outputs": [],
   "source": []
  },
  {
   "attachments": {
    "maison.JPG": {
     "image/jpeg": "[encoded data removed]"
    }
   },
   "cell_type": "markdown",
   "metadata": {},
   "source": [
    "## 3. Louer à Orléans\n",
    "En 2019, un couple a emmenagé dans un pavillon à Orléans. Le montant annuel de leur loyer était de 10 800€.\n",
    "L'évolution de l'IRL peut-être modélisée par une augmentation moyenne de 1,27% par an. On considère que cette tendance observée depuis 1998 va se maintenir ainsi durant les années à venir.\n",
    "Un pavillon tel que celui que loue le couple se vend à 320 000€.![maison.JPG](attachment:maison.JPG)\n",
    "\n",
    "*Problématique : Selon cette modélisation, au bout de combien d'années le couple aura-t-il versé 320 000€ ?*"
   ]
  },
  {
   "cell_type": "code",
   "execution_count": null,
   "metadata": {
    "collapsed": true
   },
   "outputs": [],
   "source": []
  }
 ],
 "metadata": {
  "kernelspec": {
   "display_name": "Python 3",
   "language": "python",
   "name": "python3"
  },
  "language_info": {
   "codemirror_mode": {
    "name": "ipython",
    "version": 3
   },
   "file_extension": ".py",
   "mimetype": "text/x-python",
   "name": "python",
   "nbconvert_exporter": "python",
   "pygments_lexer": "ipython3",
   "version": "3.7.6"
  }
 },
 "nbformat": 4,
 "nbformat_minor": 4
}
