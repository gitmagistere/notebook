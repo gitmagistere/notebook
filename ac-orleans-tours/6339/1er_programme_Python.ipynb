{
 "cells": [
  {
   "cell_type": "markdown",
   "metadata": {},
   "source": [
    "Compléter le programme suivant afin qu'il renvoie \"le nombre de 10 sortis\".\n"
   ]
  },
  {
   "cell_type": "code",
   "execution_count": null,
   "metadata": {
    "collapsed": true
   },
   "outputs": [],
   "source": [
    "from random import*\n",
    "Liste1=[]\n",
    "for i in range (0,30):\n",
    "    a=randint(1,6)\n",
    "    b=randint(1,6)\n",
    "    print(a,b,a+b)\n",
    "    Liste1.append(a+b)\n",
    "print(\"Nb de fois ... :\",Liste1.count(...))\n"
   ]
  }
 ],
 "metadata": {
  "kernelspec": {
   "display_name": "Python 3",
   "language": "python",
   "name": "python3"
  },
  "language_info": {
   "codemirror_mode": {
    "name": "ipython",
    "version": 3
   },
   "file_extension": ".py",
   "mimetype": "text/x-python",
   "name": "python",
   "nbconvert_exporter": "python",
   "pygments_lexer": "ipython3",
   "version": "3.4.5"
  }
 },
 "nbformat": 4,
 "nbformat_minor": 2
}
