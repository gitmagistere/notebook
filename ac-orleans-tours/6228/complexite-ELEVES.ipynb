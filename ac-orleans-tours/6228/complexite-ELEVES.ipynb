{
 "cells": [
  {
   "cell_type": "markdown",
   "metadata": {},
   "source": [
    "<div class =\"alert alert-warning\">   \n",
    "    \n",
    "    \n",
    "notebook consultable, exécutable, modifiable et téléchargeable en ligne :     \n",
    "    \n",
    "\t\n",
    "- se rendre à : https://github.com/nsi-acot/continuite_pedagogique_premiere\n",
    "- cliquer sur l'icone \"launch binder\" en bas de page\n",
    "- patienter quelques secondes que le serveur Jupyter démarre\n",
    "- naviguer dans le dossier `\"./algorithmique/complexite/\"`\n",
    "- cliquer sur le nom de ce notebook\n",
    "</div>"
   ]
  },
  {
   "cell_type": "markdown",
   "metadata": {},
   "source": [
    "# TP Complexité algorithmique"
   ]
  },
  {
   "cell_type": "markdown",
   "metadata": {},
   "source": [
    "**Objectif :** Dans ce TP, vous allez vérifier exprimentalement les complexités que vous avez abordées dans la leçon.\n",
    "\n",
    "Pour cela vous allez mesurer des temps d'exécution de divers algorithmes.  \n",
    "Il va falloir observer le temps d'exécution en fonction de la taille des données en entrée."
   ]
  },
  {
   "cell_type": "markdown",
   "metadata": {},
   "source": [
    "## Mesurer le temps d'éxécution d'une portion de code.\n",
    "\n",
    "La librairie `timeit` permet de mesurer le temps d'exécution d'un code Python. Pour cela, le code doit être répété un grand nombre de fois pour avoir une mesure pertinente. C'est ce que fait la librairie timeit: répéter le code pour mesurer son temps d'exécution\n",
    "\n",
    "Le premier argument est le fragment de code dont on mesure le temps.\n",
    "Le deuxième argument : `setup` est un fragment de code exécuté une seule fois.\n",
    "`t.repeat(repeat=1000,number=1)` est la répétition du code spécifié dans `Timer`, le code est éxécuté repeat (ici 1000) fois.\n",
    "\n",
    "Nous prendrons la valeur minimale des temps obtenus \n"
   ]
  },
  {
   "cell_type": "code",
   "execution_count": null,
   "metadata": {},
   "outputs": [],
   "source": [
    "import timeit \n",
    "t=timeit.Timer('sin(1.2)',setup='from math import sin')\n",
    "min(t.repeat(repeat=1000,number=1)) \n",
    "\n",
    "#répète sin(1.2) 1000 fois et prend le plus petit temps d'execution"
   ]
  },
  {
   "cell_type": "code",
   "execution_count": null,
   "metadata": {},
   "outputs": [],
   "source": [
    "# On peut vérifier que passer à 10000 exécution ne change pas *beaucoup* le temps d'exécution moyen.\n",
    "t=timeit.Timer('sin(1.2)',setup='from math import sin')\n",
    "#CODE A COMPLETER\n",
    "\n",
    "#répète sin(1.2) 10000 fois et prend le plus petit temps d'execution"
   ]
  },
  {
   "cell_type": "markdown",
   "metadata": {},
   "source": [
    "Testons la vitesse de la fonction `max` qui renvoie le maximum d'une liste.   \n",
    "Dans la cellule ci-dessous, vous allez afficher le temps mis par la fonction `max` sur une liste de 50 nombres aléatoires.  \n",
    "\n",
    "Puis dans la cellule suivante, afficher le temps mis par la fonction `max` sur une liste de 500 nombres aléatoires.  "
   ]
  },
  {
   "cell_type": "code",
   "execution_count": null,
   "metadata": {},
   "outputs": [],
   "source": [
    "# on configure la liste utilisée (ce code sera exécuté une seule fois.)\n",
    "setup = '''\n",
    "from random import randint\n",
    "L = [randint(1,100) for i in range(50)]\n",
    "'''\n",
    "# Mesure du temps\n",
    "t=timeit.Timer('max(L)',setup=setup)\n",
    "temps = min(t.repeat(repeat=10000,number=1))\n",
    "print(temps)"
   ]
  },
  {
   "cell_type": "code",
   "execution_count": 41,
   "metadata": {},
   "outputs": [],
   "source": [
    "# Compléter cette cellule pour afficher le temps d'éxécution sur une liste de 500 éléments."
   ]
  },
  {
   "cell_type": "markdown",
   "metadata": {},
   "source": [
    "Lors du passage d'une liste de 50 éléments à 500 éléments, le temps à été multiplié par **Votre réponse ici**  \n",
    "Expliquez ci-dessous pourquoi c'est cohérent avec le cours.  \n",
    "**Votre réponse ici**"
   ]
  },
  {
   "cell_type": "markdown",
   "metadata": {},
   "source": [
    "## Mesurer le temps d'une fonction à plusieurs paramètres.\n",
    "\n",
    "Pour mesurer le temps d'exécution d'une `fonction` `f` il faut la passer en argument à Timer avec ses arguments.\n",
    "\n",
    "Il y a plusieurs méthodes. La plus simple est de faire appel à la méthode partial de la librairie de programmation fonctionnelle functools qui permet de transformer la fonction f et ses paramètres en une nouvelle fonction avec moins de paramètres.\n",
    "\n",
    "Dans l'exemple, on transforme l'addition en une addition avec la constante 2."
   ]
  },
  {
   "cell_type": "code",
   "execution_count": null,
   "metadata": {},
   "outputs": [],
   "source": [
    "from functools import partial\n",
    "def addition(x,y):\n",
    "    return x+y\n",
    "\n",
    "add2=partial(addition,2)\n",
    "##add2 est une fonction d'un seul paramètre.\n",
    "print(add2(4))"
   ]
  },
  {
   "cell_type": "markdown",
   "metadata": {},
   "source": [
    "Au moyen de partial, on peut fournir une fonction à Timer. \n",
    "On construit alors une liste des mesures du temps d'exécution."
   ]
  },
  {
   "cell_type": "code",
   "execution_count": null,
   "metadata": {},
   "outputs": [],
   "source": [
    "# On va stocker les temps d'exécution dans la liste temps\n",
    "temps = []\n",
    "for i in range(5):\n",
    "    # Pour chaque valeur i de 0 à 4 on exécute add2(i) puis on mesure le temps moyen d'exécution\n",
    "    mesure=timeit.Timer(partial(add2,i))\n",
    "    t=min(mesure.repeat(repeat=10000,number=1))\n",
    "    # on ajoute ce temps à la liste temps\n",
    "    temps.append(t)\n",
    "    \n",
    "print(temps)\n",
    "# Constatez ci-dessous que la liste temps est constituée de 5 temps d'exécution relativements proches."
   ]
  },
  {
   "cell_type": "markdown",
   "metadata": {},
   "source": [
    "## Application au calcul de moyenne.\n",
    "\n",
    "Ci dessous, compléter le code de la fonction moyenne\n"
   ]
  },
  {
   "cell_type": "code",
   "execution_count": 42,
   "metadata": {},
   "outputs": [],
   "source": [
    "def moyenne(L):\n",
    "    \"\"\"\n",
    "    Entrée : L liste de flottants\n",
    "    Sortie : un flottant qui est la moyenne de la liste L\n",
    "    \"\"\"\n",
    "    # Votre code ici"
   ]
  },
  {
   "cell_type": "code",
   "execution_count": null,
   "metadata": {},
   "outputs": [],
   "source": [
    "# Tests de la fonction moyenne\n",
    "assert moyenne([1,2,3,4]) == 2.5\n",
    "assert moyenne([1,2,3,4,5,6]) == 3.5"
   ]
  },
  {
   "cell_type": "markdown",
   "metadata": {},
   "source": [
    "On construit une liste `L` de 100 entiers tirés au hasard entre 1 et 10 000 :"
   ]
  },
  {
   "cell_type": "code",
   "execution_count": 43,
   "metadata": {},
   "outputs": [
    {
     "name": "stdout",
     "output_type": "stream",
     "text": [
      "9.999894245993346e-08\n"
     ]
    }
   ],
   "source": [
    "from random import randint\n",
    "# Première mesure avec une liste de taille 100\n",
    "L = [randint(1,10001) for i in range(100)]\n",
    "mesure=timeit.Timer(partial(moyenne,L))\n",
    "t=min(mesure.repeat(repeat=10000,number=1))\n",
    "print(t)\n",
    "\n",
    "# Seconde mesure avec une liste de taille 1000\n",
    "###################\n",
    "# Votre code ici\n",
    "###################\n",
    "\n",
    "# Troisième mesure avec une liste de taille 10000\n",
    "###################\n",
    "# Votre code ici  #\n",
    "###################"
   ]
  },
  {
   "cell_type": "markdown",
   "metadata": {},
   "source": [
    "Codez la fonction `randlist` ayant :\n",
    "- en entrée : un entier $n$;\n",
    "- en sortie : une liste de taille $n$ constitués d'entier aléatoires entre 1 et 100.\n",
    "\n",
    "On rappelle que `randint(a,b)`renvoie un entier aléatoire entre $a$ et $b$."
   ]
  },
  {
   "cell_type": "code",
   "execution_count": 50,
   "metadata": {},
   "outputs": [
    {
     "ename": "SyntaxError",
     "evalue": "unexpected EOF while parsing (<ipython-input-50-a580a6eea595>, line 4)",
     "output_type": "error",
     "traceback": [
      "\u001b[1;36m  File \u001b[1;32m\"<ipython-input-50-a580a6eea595>\"\u001b[1;36m, line \u001b[1;32m4\u001b[0m\n\u001b[1;33m    ###################\u001b[0m\n\u001b[1;37m                       ^\u001b[0m\n\u001b[1;31mSyntaxError\u001b[0m\u001b[1;31m:\u001b[0m unexpected EOF while parsing\n"
     ]
    }
   ],
   "source": [
    "def randlist(n):\n",
    "    ###################\n",
    "    # Votre code ici  #\n",
    "    ###################"
   ]
  },
  {
   "cell_type": "markdown",
   "metadata": {},
   "source": [
    "Ci-dessous, nous allons contituer deux listes `x` et `y` contenant respectivement :\n",
    "- la taille des données en entrée (ici la longueur de la liste);\n",
    "- le temps d'exécution de la fonction `moyenne` sur ces entrées.\n",
    "\n",
    "Prennez le temps de chercher à comprendre ce que font chaques instructions avant d'exécuter le code."
   ]
  },
  {
   "cell_type": "code",
   "execution_count": null,
   "metadata": {},
   "outputs": [],
   "source": [
    "x,y=[],[]\n",
    "for i in range(1,1000,10):\n",
    "    mesure=timeit.Timer(partial(moyenne,randlist(i)))\n",
    "    t = min(mesure.repeat(repeat=100,number=1))\n",
    "    x.append(i)\n",
    "    y.append(t)\n",
    "    \n",
    "# Combien de fois la fonction moyenne est-elle appelée dans un tour de boucle \n",
    "# Réponse : 100 (repeat)"
   ]
  },
  {
   "cell_type": "markdown",
   "metadata": {},
   "source": [
    "Et ci-dessous, voici le code permettant d'afficher la courbe de y en fonction de x, c'est à dire le temps d'exécution en fonction de la taille des entrées.\n",
    "\n",
    "Le code n'est pas à savoir reproduire à partir de rien, mais il faudra sans doute l'adapter à d'autre exemples par la suite de ce TP. Donc prennez le temps de chercher à comprendre les instructions."
   ]
  },
  {
   "cell_type": "code",
   "execution_count": null,
   "metadata": {},
   "outputs": [],
   "source": [
    "# Exécutez deux fois cette cellule si le graphique ne s'affiche pas.\n",
    "import matplotlib.pyplot as plt\n",
    "plt.rcParams.update({'font.size': 12})\n",
    "fig = plt.figure(figsize=(10, 10))\n",
    "plt.plot(x,y,marker='o',label = 'Moyenne de liste')\n",
    "plt.xlabel('taille n')\n",
    "plt.ylabel('temps de calcul en secondes [s]')\n",
    "plt.legend(loc='upper left')\n",
    "plt.grid()\n",
    "plt.show()"
   ]
  },
  {
   "cell_type": "markdown",
   "metadata": {},
   "source": [
    "Complétez : \n",
    "\n",
    "On constate que la représentation graphique est **Votre réponse ici**\n",
    "\n",
    "Expliquez en quoi cela est cohérent avec le cours.\n",
    "\n",
    "**Votre réponse ici**"
   ]
  },
  {
   "cell_type": "markdown",
   "metadata": {},
   "source": [
    "## Parcours séquentielle d'une liste de liste\n",
    "\n"
   ]
  },
  {
   "cell_type": "markdown",
   "metadata": {},
   "source": [
    "Dans cette partie, vous allez analyser la vitesse d'exécution d'un code qui parcours une liste de liste.\n",
    "\n",
    "Codez,ci-dessous, une fonction `randlistlist` ayant :\n",
    "- en entrée : un entier $n$;\n",
    "- en sortie : une liste de liste de taille $n \\times n$ constitués d'entier aléatoires entre 1 et 100."
   ]
  },
  {
   "cell_type": "code",
   "execution_count": 49,
   "metadata": {},
   "outputs": [],
   "source": [
    "def randlistlist(n):\n",
    "    ###################\n",
    "    # Votre code ici  #\n",
    "    ###################"
   ]
  },
  {
   "cell_type": "code",
   "execution_count": null,
   "metadata": {},
   "outputs": [],
   "source": [
    "t = randlistlist(10)\n",
    "assert (len(t),len(t[0])) == (10,10)"
   ]
  },
  {
   "cell_type": "markdown",
   "metadata": {},
   "source": [
    "Codez,ci-dessous, une fonction `double` ayant :\n",
    "- en entrée : une liste L de liste de taille $n \\times n$;\n",
    "- en sortie : une liste de liste de taille $n \\times n$ constitués des doubles des éléments de L ."
   ]
  },
  {
   "cell_type": "code",
   "execution_count": 51,
   "metadata": {},
   "outputs": [],
   "source": [
    "def double(L):\n",
    "    \"\"\"\n",
    "    L est une liste de liste d'entiers\n",
    "    \"\"\"\n",
    "    ###################\n",
    "    # Votre code ici  #\n",
    "    ###################"
   ]
  },
  {
   "cell_type": "code",
   "execution_count": null,
   "metadata": {},
   "outputs": [],
   "source": [
    "L = [[1,2],[3,4],[5,6]]\n",
    "assert double(L) == [[2,4],[6,8],[10,12]]"
   ]
  },
  {
   "cell_type": "markdown",
   "metadata": {},
   "source": [
    "Ci-dessous, nous allons contituer deux listes x et y contenant respectivement :\n",
    "- la taille des données en entrée ;\n",
    "- le temps d'exécution de la fonction `double` sur ces entrées.\n",
    " \n",
    "Prennez le temps de chercher à comprendre ce que font chaques instructions avant d'exécuter le code.\n"
   ]
  },
  {
   "cell_type": "code",
   "execution_count": null,
   "metadata": {},
   "outputs": [],
   "source": [
    "x,y=[],[]\n",
    "for i in range(1,100,10):\n",
    "    mesure=timeit.Timer(partial(double,randlistlist(i)))\n",
    "    t=min(mesure.repeat(repeat=100,number=1))\n",
    "    x.append(i)\n",
    "    y.append(t)"
   ]
  },
  {
   "cell_type": "code",
   "execution_count": null,
   "metadata": {},
   "outputs": [],
   "source": [
    "import matplotlib.pyplot as plt\n",
    "plt.rcParams.update({'font.size': 12})\n",
    "fig = plt.figure(figsize=(10, 10))\n",
    "plt.plot(x,y,marker='o',label = 'Parcours de listes de listes')\n",
    "plt.xlabel('taille n')\n",
    "plt.ylabel('temps de calcul en secondes [s]')\n",
    "plt.legend(loc='upper left')\n",
    "plt.grid()\n",
    "plt.show()"
   ]
  },
  {
   "cell_type": "markdown",
   "metadata": {},
   "source": [
    "Complétez : \n",
    "\n",
    "On constate que la représentation graphique est **Votre réponse ici**\n",
    "\n",
    "Expliquez en quoi cela est cohérent avec le cours.\n",
    "\n",
    "**Votre réponse ici**"
   ]
  },
  {
   "cell_type": "markdown",
   "metadata": {},
   "source": [
    "## Algorithmes de recherche dans une liste triée.\n",
    "\n",
    "Dans cette partie, nous allons comparer des algorithmes de recherche dans des listes.\n",
    "Un algorithme \"naïf\" et l'algorithme de dichotomie."
   ]
  },
  {
   "cell_type": "markdown",
   "metadata": {},
   "source": [
    "### Algorithme naïf"
   ]
  },
  {
   "cell_type": "markdown",
   "metadata": {},
   "source": [
    "Codez,ci-dessous, une fonction `gene_liste_triee` ayant :\n",
    "- en entrée : un entier $n$ positif;\n",
    "- en sortie : une liste de taille $n$ de nombres aléatoire (entre 1 et 100) **triée dans l'odre croissant**.\n",
    "\n",
    "Le code `L.sort()` permet de trier une liste L en place (c'est à dire que L sera triée sans avoir besoin de réaliser une affectation)."
   ]
  },
  {
   "cell_type": "code",
   "execution_count": 52,
   "metadata": {},
   "outputs": [],
   "source": [
    "def gene_liste_triee(n :int):\n",
    "    \"\"\"\n",
    "    Entrée : n est un entier, c'est la taille de la liste en sortie\n",
    "    Sortie : L est une liste d'entiers positifs triée par ordre croissant.\n",
    "    \"\"\"\n",
    "    ###################\n",
    "    # Votre code ici  #\n",
    "    ###################"
   ]
  },
  {
   "cell_type": "markdown",
   "metadata": {},
   "source": [
    "Codez,ci-dessous, une fonction `recherche_naif` ayant :\n",
    "- en entrée : une liste $L$ de taille $n$ triée dans l'ordre croissant et $c$ un entier.\n",
    "- en sortie : un booléen indiquant l'élément $c$ est dans la liste $L$."
   ]
  },
  {
   "cell_type": "code",
   "execution_count": 53,
   "metadata": {},
   "outputs": [],
   "source": [
    "def recherche_naif(L,c):\n",
    "    \"\"\"\n",
    "    Entrée : L est une liste d'entiers positifs triée par ordre croissant et c est un entier\n",
    "    Sortie : un booléen qui indique si c est dans la liste L\n",
    "    \"\"\"\n",
    "    ###################\n",
    "    # Votre code ici  #\n",
    "    ###################"
   ]
  },
  {
   "cell_type": "markdown",
   "metadata": {},
   "source": [
    "Ci dessous, codez l'algorithme de recherche dichotomique comme vu en cours."
   ]
  },
  {
   "cell_type": "code",
   "execution_count": null,
   "metadata": {},
   "outputs": [],
   "source": [
    "def recherche_dichotomique(L : list,c : float):\n",
    "    \"\"\"\n",
    "    L est une liste triée dans l'odre croissant\n",
    "    Retourne un booléen indiquant si l'élément c est dans la liste L\n",
    "    \"\"\"\n",
    "    ###################\n",
    "    # Votre code ici  #\n",
    "    ###################"
   ]
  },
  {
   "cell_type": "code",
   "execution_count": null,
   "metadata": {},
   "outputs": [],
   "source": [
    "L = [2,3,5,7,11,13,17,19,23]\n",
    "assert recherche_naif(L,23) == True\n",
    "assert recherche_naif(L,25) == False\n",
    "assert recherche_naif(L,0) == False"
   ]
  },
  {
   "cell_type": "code",
   "execution_count": null,
   "metadata": {},
   "outputs": [],
   "source": [
    "L = [2,3,5,7,11,13,17,19,23]\n",
    "assert recherche_dichotomique(L,23) == True\n",
    "assert recherche_dichotomique(L,25) == False\n",
    "assert recherche_dichotomique(L,0) == False"
   ]
  },
  {
   "cell_type": "markdown",
   "metadata": {},
   "source": [
    "Ci-dessous, nous allons contituer deux listes x et y contenant respectivement :\n",
    "- la taille des données en entrée (ici la longueur de la liste;\n",
    "- le temps d'exécution de la fonction `recherche_naif` sur ces entrées.\n",
    " \n",
    "Prennez le temps de chercher à comprendre ce que font chaques instructions avant d'exécuter le code.\n"
   ]
  },
  {
   "cell_type": "code",
   "execution_count": null,
   "metadata": {},
   "outputs": [],
   "source": [
    "x,y=[],[]\n",
    "for i in range(1,1000,10):\n",
    "    mesure=timeit.Timer(partial(recherche_naif,gene_liste_triee(i),42))\n",
    "    t=min(mesure.repeat(repeat=100,number=1))\n",
    "    x.append(i)\n",
    "    y.append(t)"
   ]
  },
  {
   "cell_type": "code",
   "execution_count": null,
   "metadata": {},
   "outputs": [],
   "source": [
    "plt.rcParams.update({'font.size': 12})\n",
    "fig = plt.figure(figsize=(10, 10))\n",
    "plt.plot(x,y,'-bo',label = 'Recherche naïve')\n",
    "plt.xlabel('taille n')\n",
    "plt.ylabel('temps de calcul en secondes [s]')\n",
    "plt.legend(loc='upper left')\n",
    "plt.grid()\n",
    "plt.show()"
   ]
  },
  {
   "cell_type": "markdown",
   "metadata": {},
   "source": [
    "Ci-dessous, nous allons contituer deux listes x et **z** contenant respectivement :\n",
    "- la taille des données en entrée (ici la longueur de la liste);\n",
    "- le temps d'exécution de la fonction `recherche_dichotomique` sur ces entrées.\n",
    " \n",
    "Prennez le temps de chercher à comprendre ce que font chaques instructions avant d'exécuter le code.\n"
   ]
  },
  {
   "cell_type": "code",
   "execution_count": null,
   "metadata": {},
   "outputs": [],
   "source": [
    "x,z=[],[]\n",
    "for i in range(1,1000,10):\n",
    "    testTimer=timeit.Timer(partial(recherche_dichotomique,gene_liste_triee(i),42))\n",
    "    t=min(testTimer.repeat(repeat=10000, number=1))\n",
    "    x.append(i)\n",
    "    z.append(t)"
   ]
  },
  {
   "cell_type": "code",
   "execution_count": null,
   "metadata": {},
   "outputs": [],
   "source": [
    "plt.rcParams.update({'font.size': 12})\n",
    "fig = plt.figure(figsize=(10, 10))\n",
    "plt.plot(x,z,'-ro',label = 'Recherche dichotomique')\n",
    "plt.xlabel('taille n')\n",
    "plt.ylabel('temps de calcul en secondes [s]')\n",
    "plt.legend(loc='upper left')\n",
    "plt.grid()\n",
    "plt.show()"
   ]
  },
  {
   "cell_type": "markdown",
   "metadata": {},
   "source": [
    "Et enfin, affichons le temps d'exécution sur un même graphique."
   ]
  },
  {
   "cell_type": "code",
   "execution_count": null,
   "metadata": {},
   "outputs": [],
   "source": [
    "plt.rcParams.update({'font.size': 12})\n",
    "fig = plt.figure(figsize=(10, 10))\n",
    "plt.plot(x,y,'--bo',label = 'Recherche naïve')\n",
    "plt.plot(x,z,'--ro',label = 'Recherche dichotomique')\n",
    "plt.xlabel('taille n')\n",
    "plt.ylabel('temps de calcul en secondes [s]')\n",
    "plt.legend(loc='upper left')\n",
    "plt.grid()\n",
    "plt.show()"
   ]
  },
  {
   "cell_type": "markdown",
   "metadata": {},
   "source": [
    "Que constatez vous ? Est ce cohérent avec la leçon, pourquoi ?\n",
    "\n",
    "**Votre réponse ici**"
   ]
  },
  {
   "cell_type": "markdown",
   "metadata": {},
   "source": [
    "## Pour les plus rapides :\n",
    "\n",
    "Codez,ci-dessous, une fonction `tri_perso` ayant :\n",
    "- en entrée : une liste L de taille $n$ constituée d'entiers positifs;\n",
    "- en sortie : la liste L triée par ordre croissant.\n",
    "\n",
    "Puis, en vous inspirant des parties précédentes, mesure le temps d'exécution en fonction de la taille de la liste.\n",
    "\n",
    "Afficher le graphique temps d'exécution en fonction de la taille de la liste\n",
    "\n",
    "En déduire la compléxité de votre algorithme, puis prouvez le."
   ]
  },
  {
   "cell_type": "code",
   "execution_count": null,
   "metadata": {},
   "outputs": [],
   "source": []
  }
 ],
 "metadata": {
  "kernelspec": {
   "display_name": "Python 3",
   "language": "python",
   "name": "python3"
  },
  "language_info": {
   "codemirror_mode": {
    "name": "ipython",
    "version": 3
   },
   "file_extension": ".py",
   "mimetype": "text/x-python",
   "name": "python",
   "nbconvert_exporter": "python",
   "pygments_lexer": "ipython3",
   "version": "3.7.4"
  }
 },
 "nbformat": 4,
 "nbformat_minor": 4
}
