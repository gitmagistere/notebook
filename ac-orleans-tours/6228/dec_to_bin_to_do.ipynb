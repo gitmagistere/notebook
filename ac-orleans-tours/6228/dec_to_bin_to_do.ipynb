{
 "cells": [
  {
   "cell_type": "markdown",
   "metadata": {},
   "source": [
    "# Programmation autour du codage des nombres \n",
    "\n",
    "\n",
    "\n",
    "Ce T.D. a pour but d'obtenir à partir d'un nombre écrit en décimal: \n",
    "\n",
    "* Son écriture en binaire : **fonction binaire**\n",
    "* Son écriture en binaire sur 8 bits : **fonction octet**\n",
    "* Son écriture avec la méthode du complément à 2. On se contentera alors des entiers entre -127 et 127 : **fonction complement_a_deux**\n",
    "\n",
    "Le résultat sera obtenu sous forme de chaîne de caractère."
   ]
  },
  {
   "cell_type": "code",
   "execution_count": 4,
   "metadata": {},
   "outputs": [],
   "source": [
    "def binaire(n):\n",
    "    \"\"\" To Do\"\"\"\n",
    "    return\n",
    "\n",
    "assert(binaire(18) == '10010')"
   ]
  },
  {
   "cell_type": "code",
   "execution_count": 5,
   "metadata": {},
   "outputs": [],
   "source": [
    "def octet(n):\n",
    "    \"\"\"To Do\"\"\"\"\"\n",
    "    return\n",
    "\n",
    "assert(octet(18) == '00010010')"
   ]
  },
  {
   "cell_type": "code",
   "execution_count": 8,
   "metadata": {},
   "outputs": [],
   "source": [
    "def complement_a_deux(n):\n",
    "    \"\"\"To Do\"\"\"\"\"\n",
    "    return\n",
    "\n",
    "assert(complement_a_deux(-547) == \"erreur de saisie\")\n",
    "assert(complement_a_deux(-18) == '11101110')"
   ]
  },
  {
   "cell_type": "code",
   "execution_count": 9,
   "metadata": {},
   "outputs": [
    {
     "data": {
      "text/plain": [
       "'erreur de saisie'"
      ]
     },
     "execution_count": 9,
     "metadata": {},
     "output_type": "execute_result"
    }
   ],
   "source": [
    "complement_a_deux(-256)"
   ]
  },
  {
   "cell_type": "code",
   "execution_count": null,
   "metadata": {},
   "outputs": [],
   "source": []
  }
 ],
 "metadata": {
  "kernelspec": {
   "display_name": "Python 3",
   "language": "python",
   "name": "python3"
  },
  "language_info": {
   "codemirror_mode": {
    "name": "ipython",
    "version": 3
   },
   "file_extension": ".py",
   "mimetype": "text/x-python",
   "name": "python",
   "nbconvert_exporter": "python",
   "pygments_lexer": "ipython3",
   "version": "3.8.5"
  }
 },
 "nbformat": 4,
 "nbformat_minor": 2
}
