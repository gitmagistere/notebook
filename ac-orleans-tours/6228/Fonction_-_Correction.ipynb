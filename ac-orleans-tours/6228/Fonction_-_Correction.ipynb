{
 "cells": [
  {
   "cell_type": "markdown",
   "metadata": {},
   "source": [
    "<div class=\"alert alert-info\"> \n",
    "    \n",
    "# Les fonctions en Python"
   ]
  },
  {
   "cell_type": "markdown",
   "metadata": {},
   "source": [
    "<div class=\"alert alert-info\">\n",
    "\n",
    "## I Exemple de fonctions : "
   ]
  },
  {
   "cell_type": "code",
   "execution_count": 31,
   "metadata": {
    "tags": []
   },
   "outputs": [
    {
     "name": "stdout",
     "output_type": "stream",
     "text": [
      "abc.abc..abc...\n",
      "Résultat obtenu avec l'appel de reproduire(5,'OK') : OK.OK..OK...OK....OK.....\n"
     ]
    }
   ],
   "source": [
    "def reproduire(n,texte):\n",
    "    resultat=\"\"\n",
    "    for k in range(1,n+1):\n",
    "        resultat=resultat+texte+\".\"*k\n",
    "    return resultat\n",
    "    print(\"1\")\n",
    "    print(\"2\")\n",
    "    \n",
    "# premier appel de cette fonction :\n",
    "print(reproduire(3,'abc'))\n",
    "\n",
    "# second appel de cette fonction avec utilisation d'une variable pour stocker le résultat de l'appel :\n",
    "chaine=reproduire(5,'OK')\n",
    "texte='Résultat obtenu avec l\\'appel de reproduire(5,\\'OK\\') : '+chaine\n",
    "print(texte)\n"
   ]
  },
  {
   "cell_type": "markdown",
   "metadata": {},
   "source": [
    "<div class=\"alert alert-info\">\n",
    "\n",
    "Remarques :\n",
    "<ul>\n",
    "<li> On peut constater que les instructions situées après l'instruction `return` ne sont pas exécutées. </li>\n",
    "<li> Pour tester une fonction, on procède généralement comme pour le premier appel.</li>\n",
    "<li> Lorsque l'on utilise une fonction au milieu d'un programme, on procède généralement comme pour le second appel, en stockant le résultat dans une variable.</li>\n",
    "</ul>\n",
    "\n",
    "La même fonction avec des commentaires :\n"
   ]
  },
  {
   "cell_type": "code",
   "execution_count": 32,
   "metadata": {
    "tags": []
   },
   "outputs": [
    {
     "name": "stdout",
     "output_type": "stream",
     "text": [
      "et.et..et...et....et.....et......et.......et........et.........et..........\n",
      "Résultat obtenu avec l'appel de reproduire(2,'KO') : KO.KO..\n"
     ]
    }
   ],
   "source": [
    "def reproduire(n,texte):\n",
    "    \"\"\"\n",
    "    fonction prenant comme paramètres un entier positif n et une chaine de caractères texte\n",
    "    et renvoyant le texte  reproduit n fois avec des .\n",
    "    \"\"\"\n",
    "    resultat=\"\"\n",
    "    for k in range(1,n+1):\n",
    "        resultat=resultat+texte+\".\"*k\n",
    "        \"\"\"\n",
    "        corps de la boucle for\n",
    "        \"\"\"\n",
    "    return resultat\n",
    "    print(\"1\")\n",
    "    print(\"2\")\n",
    "    \n",
    "# deux autres exemples d'appels de cette fonction :\n",
    "print(reproduire(10,'et'))\n",
    "texte='Résultat obtenu avec l\\'appel de reproduire(2,\\'KO\\') : '+reproduire(2,'KO')\n",
    "print(texte)\n",
    "\n",
    "\n",
    "\n",
    "\n"
   ]
  },
  {
   "cell_type": "markdown",
   "metadata": {},
   "source": [
    "<div class=\"alert alert-info\">\n",
    "    \n",
    "On peut afficher les commentaires situés en en-tête grâce à la commande `help` comme ci-dessous :"
   ]
  },
  {
   "cell_type": "code",
   "execution_count": 33,
   "metadata": {
    "tags": []
   },
   "outputs": [
    {
     "name": "stdout",
     "output_type": "stream",
     "text": [
      "Help on function reproduire in module __main__:\n",
      "\n",
      "reproduire(n, texte)\n",
      "    fonction prenant comme paramètres un entier positif n et une chaine de caractères texte\n",
      "    et renvoyant le texte  reproduit n fois avec des .\n",
      "\n"
     ]
    }
   ],
   "source": [
    "help(reproduire)"
   ]
  },
  {
   "cell_type": "markdown",
   "metadata": {},
   "source": [
    "<div class=\"alert alert-info\">\n",
    "\n",
    "Ces commentaires situés en en-tête s'appellent `docstrings`. C'est une bonne habitude de les utiliser pour décrire les paramètres, ainsi que le rôle de la fonction. La commande `help` fonctionne sur des fonctions pré-implentées comme la fonction `ord` :  "
   ]
  },
  {
   "cell_type": "code",
   "execution_count": 34,
   "metadata": {
    "tags": []
   },
   "outputs": [
    {
     "name": "stdout",
     "output_type": "stream",
     "text": [
      "Help on built-in function ord in module builtins:\n",
      "\n",
      "ord(c, /)\n",
      "    Return the Unicode code point for a one-character string.\n",
      "\n"
     ]
    }
   ],
   "source": [
    "help(ord)"
   ]
  },
  {
   "cell_type": "markdown",
   "metadata": {},
   "source": [
    "<div class=\"alert alert-info\">\n",
    "\n",
    "On peut également écrire des fonctions qui ne renvoie pas de résultat comme ci-dessous :"
   ]
  },
  {
   "cell_type": "code",
   "execution_count": 35,
   "metadata": {
    "tags": []
   },
   "outputs": [
    {
     "name": "stdout",
     "output_type": "stream",
     "text": [
      ".....*.....\n",
      "....***....\n",
      "...*****...\n",
      "..*******..\n",
      ".*********.\n",
      "\n",
      "...............*...............\n",
      "..............***..............\n",
      ".............*****.............\n",
      "............*******............\n",
      "...........*********...........\n",
      "..........***********..........\n",
      ".........*************.........\n",
      "........***************........\n",
      ".......*****************.......\n",
      "......*******************......\n",
      ".....*********************.....\n",
      "....***********************....\n",
      "...*************************...\n",
      "..***************************..\n",
      ".*****************************.\n",
      "None\n"
     ]
    }
   ],
   "source": [
    "def sapin(n):\n",
    "    \"\"\"\n",
    "    fonction prenant comme paramètre un entier positif n et qui affiche un motif de sapin sur n lignes.\n",
    "    \"\"\"\n",
    "    for k in range(n):\n",
    "        print('.'*(n-k)+'*'*(2*k+1)+'.'*(n-k))\n",
    "        \n",
    "# exemple d'appels de la fonction sapin :\n",
    "sapin(5)\n",
    "print()\n",
    "print(sapin(15))"
   ]
  },
  {
   "cell_type": "markdown",
   "metadata": {},
   "source": [
    "<div class=\"alert alert-info\">\n",
    "\n",
    "Remarque : on peut constater que `print(sapin(15))` affiche le sapin, puis `None` du fait que la fonction ne comporte pas d'instruction `return`. "
   ]
  },
  {
   "cell_type": "markdown",
   "metadata": {},
   "source": [
    "<div class=\"alert alert-warning\">\n",
    "\n",
    "### Question 1 :\n",
    "Ecrire une fonction `multiplication`, prenant comme paramètre un entier positif `n` et qui affiche la table de multiplication de `n` entre 1 et 20.\n",
    "Par exemple, l'instruction `multiplication(7)` doit générer un affichage de la forme :\n",
    "\n",
    "1*7=7\n",
    "\n",
    "2*7=14\n",
    "\n",
    "...\n",
    "\n",
    "20*7=140\n"
   ]
  },
  {
   "cell_type": "code",
   "execution_count": 36,
   "metadata": {},
   "outputs": [
    {
     "name": "stdout",
     "output_type": "stream",
     "text": [
      "1 * 7 = 7\n",
      "2 * 7 = 14\n",
      "3 * 7 = 21\n",
      "4 * 7 = 28\n",
      "5 * 7 = 35\n",
      "6 * 7 = 42\n",
      "7 * 7 = 49\n",
      "8 * 7 = 56\n",
      "9 * 7 = 63\n",
      "10 * 7 = 70\n",
      "11 * 7 = 77\n",
      "12 * 7 = 84\n",
      "13 * 7 = 91\n",
      "14 * 7 = 98\n",
      "15 * 7 = 105\n",
      "16 * 7 = 112\n",
      "17 * 7 = 119\n",
      "18 * 7 = 126\n",
      "19 * 7 = 133\n",
      "20 * 7 = 140\n"
     ]
    }
   ],
   "source": [
    "#version 1\n",
    "def multiplication(n):\n",
    "    for k in range(1,21):\n",
    "        print(k,\"*\",n,\"=\",k*n)  \n",
    "multiplication(7)"
   ]
  },
  {
   "cell_type": "code",
   "execution_count": 1,
   "metadata": {},
   "outputs": [
    {
     "name": "stdout",
     "output_type": "stream",
     "text": [
      "1 * 7 = 10\n",
      "2 * 7 = 20\n",
      "3 * 7 = 30\n",
      "4 * 7 = 40\n",
      "5 * 7 = 50\n",
      "6 * 7 = 60\n",
      "7 * 7 = 70\n",
      "8 * 7 = 80\n",
      "9 * 7 = 90\n",
      "10 * 7 = 100\n",
      "11 * 7 = 110\n",
      "12 * 7 = 120\n",
      "13 * 7 = 130\n",
      "14 * 7 = 140\n",
      "15 * 7 = 150\n",
      "16 * 7 = 160\n",
      "17 * 7 = 170\n",
      "18 * 7 = 180\n",
      "19 * 7 = 190\n",
      "20 * 7 = 200\n"
     ]
    }
   ],
   "source": [
    "#version 2 (Avec une erreur à corriger )\n",
    "def multiplication(n):\n",
    "    for k in range(1,21):\n",
    "        print(k,\"*\",7,\"=\",k*n)\n",
    "multiplication(10)"
   ]
  },
  {
   "cell_type": "markdown",
   "metadata": {},
   "source": [
    "<div class=\"alert alert-info\">\n",
    "\n",
    "Lorsque l'on propose une fonction à coder aux éléves, on donne souvent l'entête de celle-ci. Cela permet de gagner du temps sur son écriture, ainsi que d'intégrer des tests comme dans la question ci-dessous :"
   ]
  },
  {
   "cell_type": "markdown",
   "metadata": {},
   "source": [
    "<div class=\"alert alert-warning\">\n",
    "\n",
    "### Question 2 :\n",
    "Compléter la fonction `somme_cube` suivante, prenant comme paramètre un entier positif `n` et qui renvoie la somme $$1^3+2^3+3^3+...+n^3$$\n",
    "\n",
    "Les tests situés après la fonction permettent de s'assurer que celle-ci renvoie bien les valeurs attendues pour les valeurs de `n` proposées.\n"
   ]
  },
  {
   "cell_type": "code",
   "execution_count": 7,
   "metadata": {
    "tags": []
   },
   "outputs": [
    {
     "name": "stdout",
     "output_type": "stream",
     "text": [
      "0\n",
      "36\n",
      "5\n"
     ]
    }
   ],
   "source": [
    "def somme_cube(n):\n",
    "    \"\"\"\n",
    "    fonction prenant comme paramètre un entier positif n et qui renvoie la valeur de la somme 1^3+2^3+...+n^3\n",
    "    \"\"\"\n",
    "    global nb_operations   # pour comparer 2 versions de la question 3\n",
    "    resultat=0\n",
    "    nb_operations+=1\n",
    "    for k in range(1,n+1):\n",
    "        resultat+=k**3\n",
    "        nb_operations+=1\n",
    "    nb_operations+=1\n",
    "    return resultat\n",
    "\n",
    "# tests\n",
    "nb_operations=0\n",
    "print(somme_cube(0))\n",
    "\n",
    "nb_operations=0\n",
    "print(somme_cube(3))\n",
    "print(nb_operations)\n",
    "\n",
    "assert (somme_cube(0)==0)    # si somme_cube(0) ne renvoie pas 0 comme résultat, cela génère une erreur. Dans le cas contraire, l'exécution continue, sans affichage particulier.\n",
    "assert (somme_cube(3)==36) # si somme_cube(3) ne renvoie pas 36 comme résultat, cela génère une erreur.\n"
   ]
  },
  {
   "cell_type": "markdown",
   "metadata": {},
   "source": [
    "<div class=\"alert alert-warning\">\n",
    "\n",
    "### Question 3 :\n",
    "Compléter la fonction `seuil_somme_cube` suivante, prenant comme paramètre un entier positif `seuil` et qui renvoie le plus petit entier positif `n` tel que  la somme $$1^3+2^3+3^3+...+n^3$$ soit supérieure à la variable `seuil`.\n",
    "\n",
    "Les tests situés après la fonction permettent de s'assurer que celle-ci renvoie bien les valeurs attendues pour les valeurs de `seuil` proposées."
   ]
  },
  {
   "cell_type": "code",
   "execution_count": 8,
   "metadata": {},
   "outputs": [
    {
     "name": "stdout",
     "output_type": "stream",
     "text": [
      "3\n",
      "5\n"
     ]
    }
   ],
   "source": [
    "#version proposée par plusieurs d'entre vous\n",
    "\n",
    "def seuil_somme_cube(seuil):\n",
    "    \"\"\"\n",
    "    fonction prenant comme paramètre un entier positif seuil et qui renvoie le plus petit entier positif n tel la somme 1^3+2^3+...+n^3 soit supérieure à la variable seuil.\n",
    "    \"\"\"\n",
    "    n=0\n",
    "    while somme_cube(n)<= seuil:\n",
    "        n+=1\n",
    "      \n",
    "    return n\n",
    "\n",
    "# tests\n",
    "\n",
    "print(seuil_somme_cube(15))\n",
    "\n",
    "print(seuil_somme_cube(100))\n",
    "\n",
    "assert (seuil_somme_cube(15)==3)\n",
    "assert (seuil_somme_cube(100)==5)"
   ]
  },
  {
   "cell_type": "code",
   "execution_count": 10,
   "metadata": {
    "tags": []
   },
   "outputs": [
    {
     "name": "stdout",
     "output_type": "stream",
     "text": [
      "3\n",
      "5\n",
      "nb_operations pour 100 : 44\n"
     ]
    }
   ],
   "source": [
    "#version 1 la même avec un compteur d'opérations\n",
    "\n",
    "def seuil_somme_cube1(seuil):\n",
    "    \"\"\"\n",
    "    fonction prenant comme paramètre un entier positif seuil et qui renvoie le plus petit entier positif n tel la somme 1^3+2^3+...+n^3 soit supérieure à la variable seuil.\n",
    "    \"\"\"\n",
    "    global nb_operations   # pour comparer 2 versions de cette question.\n",
    "    nb_operations+=1\n",
    "    n=0\n",
    "    while somme_cube(n)<= seuil:\n",
    "        nb_operations+=3\n",
    "        n+=1\n",
    "    nb_operations+=1    \n",
    "    return n\n",
    "\n",
    "# tests\n",
    "\n",
    "print(seuil_somme_cube1(15))\n",
    "\n",
    "nb_operations=0\n",
    "print(seuil_somme_cube1(100))\n",
    "print(\"nb_operations pour 100 :\", nb_operations)\n",
    "\n",
    "assert (seuil_somme_cube1(15)==3)\n",
    "assert (seuil_somme_cube1(100)==5)\n"
   ]
  },
  {
   "cell_type": "code",
   "execution_count": 9,
   "metadata": {},
   "outputs": [
    {
     "name": "stdout",
     "output_type": "stream",
     "text": [
      "3\n",
      "5\n",
      "nb_operations pour 100 : 18\n"
     ]
    }
   ],
   "source": [
    "#version 2 \n",
    "\n",
    "def seuil_somme_cube2(seuil):\n",
    "    \"\"\"\n",
    "    fonction prenant comme paramètre un entier positif seuil et qui renvoie le plus petit entier positif n tel la somme 1^3+2^3+...+n^3 soit supérieure à la variable seuil.\n",
    "    \"\"\"\n",
    "    global nb_operations\n",
    "    nb_operations+=2\n",
    "    n=0\n",
    "    somme=0\n",
    "    while somme<= seuil:\n",
    "        n+=1\n",
    "        somme+=n**3\n",
    "        nb_operations+=3\n",
    "    nb_operations+=1\n",
    "    return n\n",
    "\n",
    "# tests\n",
    "nb_operations=0\n",
    "print(seuil_somme_cube2(15))\n",
    "\n",
    "nb_operations=0\n",
    "print(seuil_somme_cube2(100))\n",
    "print(\"nb_operations pour 100 :\", nb_operations)\n",
    "\n",
    "assert (seuil_somme_cube2(15)==3)\n",
    "assert (seuil_somme_cube2(100)==5)\n"
   ]
  },
  {
   "cell_type": "markdown",
   "metadata": {},
   "source": [
    "<div class=\"alert alert-info\">\n",
    "\n",
    "Comparaison graphique des deux versions :"
   ]
  },
  {
   "cell_type": "code",
   "execution_count": 24,
   "metadata": {},
   "outputs": [
    {
     "data": {
      "image/png": "[encoded data removed]",
      "text/plain": [
       "<Figure size 432x288 with 1 Axes>"
      ]
     },
     "metadata": {
      "needs_background": "light"
     },
     "output_type": "display_data"
    }
   ],
   "source": [
    "import matplotlib.pyplot as plt     # installer la bibliothèque si nécessaire\n",
    "\n",
    "def comparaisons(nMax):\n",
    "    global nb_operations\n",
    "    \n",
    "    plt.figure('Comparaisons ')\n",
    "    x=[]\n",
    "    y1=[]\n",
    "    y2=[]\n",
    "    y3=[]\n",
    "    y4=[]\n",
    "            \n",
    "    for n in range(1,nMax+1):\n",
    "        x.append(n)\n",
    "        nb_operations=0\n",
    "        seuil_somme_cube1(n)\n",
    "        y1.append(nb_operations)\n",
    "        \n",
    "        nb_operations=0\n",
    "        seuil_somme_cube2(n)\n",
    "        y2.append(nb_operations)\n",
    "        \n",
    "        y3.append((2.5*n)**(0.5))\n",
    "        \n",
    "        y4.append((200*n)**(0.25))\n",
    "        \n",
    "        \n",
    "    plt.plot(x, y1,label='version 1')\n",
    "    \n",
    "    plt.plot(x, y2,label='version 2')\n",
    "    \n",
    "    plt.plot(x, y3,label='(2.5n)^(1/2)')\n",
    "    \n",
    "    plt.plot(x, y4,label='(200*n)^(1/4)')\n",
    "    \n",
    "    plt.legend(bbox_to_anchor=(0, 1, 1, 1.6), loc=3,ncol=2, mode=\"expand\", borderaxespad=0.)\n",
    "         \n",
    "    plt.show()\n",
    "   \n",
    "\n",
    "comparaisons(50000)"
   ]
  },
  {
   "cell_type": "markdown",
   "metadata": {},
   "source": [
    "<div class=\"alert alert-info\">\n",
    "\n",
    "## II Portées des variables  "
   ]
  },
  {
   "cell_type": "markdown",
   "metadata": {},
   "source": [
    "<div class=\"alert alert-warning\">\n",
    "\n",
    "\n",
    "### Question 4 :\n",
    "\n",
    "Observer le résultat de l'exécution des scripts suivants et choisissez la bonne réponse : "
   ]
  },
  {
   "cell_type": "code",
   "execution_count": 57,
   "metadata": {
    "tags": []
   },
   "outputs": [
    {
     "name": "stdout",
     "output_type": "stream",
     "text": [
      "affichage fourni par test1(a) :\n",
      "1\n",
      "2\n",
      "a= 1\n"
     ]
    }
   ],
   "source": [
    "\n",
    "def test1(x):\n",
    "    print(x)\n",
    "    x+=1\n",
    "    return(x)\n",
    "    \n",
    "a=1\n",
    "print('affichage fourni par test1(a) :')\n",
    "print(test1(a))\n",
    "print('a=',a)"
   ]
  },
  {
   "cell_type": "markdown",
   "metadata": {},
   "source": [
    "La variable `a`\n",
    "\n",
    "<input type=\"radio\" name=\"choix1\"> a été modifiée par l'appel de la fonction\n",
    "\n",
    "<input type=\"radio\" name=\"choix1\"> n'a pas été modifiée par l'appel de la fonction"
   ]
  },
  {
   "cell_type": "code",
   "execution_count": 58,
   "metadata": {
    "tags": []
   },
   "outputs": [
    {
     "name": "stdout",
     "output_type": "stream",
     "text": [
      "4\n",
      "y= 1\n"
     ]
    },
    {
     "ename": "NameError",
     "evalue": "name 'b' is not defined",
     "output_type": "error",
     "traceback": [
      "\u001b[1;31m---------------------------------------------------------------------------\u001b[0m",
      "\u001b[1;31mNameError\u001b[0m                                 Traceback (most recent call last)",
      "\u001b[1;32m<ipython-input-58-bd70abbb2497>\u001b[0m in \u001b[0;36m<module>\u001b[1;34m\u001b[0m\n\u001b[0;32m      7\u001b[0m \u001b[0mprint\u001b[0m\u001b[1;33m(\u001b[0m\u001b[0mtest2\u001b[0m\u001b[1;33m(\u001b[0m\u001b[1;36m4\u001b[0m\u001b[1;33m)\u001b[0m\u001b[1;33m)\u001b[0m\u001b[1;33m\u001b[0m\u001b[1;33m\u001b[0m\u001b[0m\n\u001b[0;32m      8\u001b[0m \u001b[0mprint\u001b[0m\u001b[1;33m(\u001b[0m\u001b[1;34m'y='\u001b[0m\u001b[1;33m,\u001b[0m\u001b[0my\u001b[0m\u001b[1;33m)\u001b[0m\u001b[1;33m\u001b[0m\u001b[1;33m\u001b[0m\u001b[0m\n\u001b[1;32m----> 9\u001b[1;33m \u001b[0mprint\u001b[0m\u001b[1;33m(\u001b[0m\u001b[1;34m'b='\u001b[0m\u001b[1;33m,\u001b[0m\u001b[0mb\u001b[0m\u001b[1;33m)\u001b[0m\u001b[1;33m\u001b[0m\u001b[1;33m\u001b[0m\u001b[0m\n\u001b[0m",
      "\u001b[1;31mNameError\u001b[0m: name 'b' is not defined"
     ]
    }
   ],
   "source": [
    "def test2(x):\n",
    "    global y\n",
    "    b=0\n",
    "    y=1\n",
    "    return(x)\n",
    "    \n",
    "print(test2(4))\n",
    "print('y=',y)\n",
    "print('b=',b)\n"
   ]
  },
  {
   "cell_type": "markdown",
   "metadata": {},
   "source": [
    "La variable `y`\n",
    "\n",
    "<input type=\"radio\" name=\"choix1\"> est accessible à l'extérieur de la fonction `test2`\n",
    "\n",
    "<input type=\"radio\" name=\"choix1\"> n'est pas accessible à l'extérieur de la fonction `test2`\n"
   ]
  },
  {
   "cell_type": "markdown",
   "metadata": {},
   "source": [
    "La variable `b`\n",
    "\n",
    "<input type=\"radio\" name=\"choix1\"> est accessible à l'extérieur de la fonction `test2`\n",
    "\n",
    "<input type=\"radio\" name=\"choix1\"> n'est pas accessible à l'extérieur de la fonction `test2`"
   ]
  },
  {
   "cell_type": "markdown",
   "metadata": {},
   "source": [
    "<div class=\"alert alert-danger\">\n",
    "\n",
    "Ces deux exemples montrent qu'il faut prendre des précautions lorsqu'on manipule des variables dans une fonction. \n",
    "\n",
    "On parle de portée de variables pour évoquer ces éventuelles difficultés.\n",
    "\n",
    "Pour en savoir plus, vous pouvez consulter le lien suivant :\n",
    "\n",
    "https://www.pierre-giraud.com/python-apprendre-programmer-cours/portee-variable/\n"
   ]
  },
  {
   "cell_type": "markdown",
   "metadata": {},
   "source": [
    "<div class=\"alert alert-info\">\n",
    "\n",
    "## III Fonctions à compléter"
   ]
  },
  {
   "cell_type": "markdown",
   "metadata": {},
   "source": [
    "<div class=\"alert alert-warning\">\n",
    "\n",
    "### Question 5 :\n",
    "Si $n$ est un entier strictement positif, on désigne par $n!$ le nombre correspondant à $1\\times 2\\times 3\\times ...\\times n$\n",
    "\n",
    "Par convention, $0!=1$.\n",
    "\n",
    "Compléter la fonction `factoriel` suivante, prenant comme paramètre un entier positif $n$ et qui renvoie la valeur de $n!$\n"
   ]
  },
  {
   "cell_type": "code",
   "execution_count": 59,
   "metadata": {},
   "outputs": [],
   "source": [
    "def factoriel(n):\n",
    "    \"\"\"\n",
    "    fonction prenant comme paramètre un entier positif n et qui renvoie la valeur 1*2*3*...*n lorsque n est strictement positif et 1 sinon.  \n",
    "    \"\"\"\n",
    "    # A compléter\n",
    "    resultat=1    \n",
    "    for k in range(1,n+1):\n",
    "        resultat*=k\n",
    "    return resultat\n",
    "\n",
    "\n",
    "# tests\n",
    "assert (factoriel(4)==24)\n",
    "assert (factoriel(0)==1)"
   ]
  },
  {
   "cell_type": "markdown",
   "metadata": {},
   "source": [
    "<div class=\"alert alert-warning\">\n",
    "    \n",
    "### Question 6 :\n",
    "Compléter la fonction `coefficient_binomial` suivante, prenant comme paramètres  deux entiers positifs `p` et `n` qui renvoie la valeur $\\frac{n!}{p!\\times(n-p)!}$ lorsque `n` est supérieur ou égal à `p` et 0 sinon.\n",
    "\n",
    "Cette fonction peut faire appel à la fonction `factoriel` précédente."
   ]
  },
  {
   "cell_type": "code",
   "execution_count": 60,
   "metadata": {},
   "outputs": [],
   "source": [
    "def coefficient_binomial(p,n):\n",
    "    \"\"\"\n",
    "    fonction prenant comme paramètres deux entiers positifs p et n qui renvoie la valeur n!/(p!*(n-p)!) lorsque n est supérieur  ou égal à p et 0 sinon.\n",
    "    \"\"\"\n",
    "    # A compléter\n",
    "    if n<p:\n",
    "        resultat=0\n",
    "    else:\n",
    "        resultat=factoriel(n)/(factoriel(p)*factoriel(n-p))\n",
    "    return resultat\n",
    "\n",
    "# tests\n",
    "assert(coefficient_binomial(2,5)==10)\n",
    "assert(coefficient_binomial(4,1)==0)"
   ]
  },
  {
   "cell_type": "markdown",
   "metadata": {},
   "source": [
    "<div class=\"alert alert-warning\">\n",
    "\n",
    "### Question 7 :\n",
    "Compléter la fonction `miroir` suivante, prenant comme paramètre une chaîne de caractères `texte` et qui renvoie la chaîne de caractères miroir de `texte`. \n",
    "\n",
    "Par exemple, `miroir('bonjour')` doit renvoyer `'bonjourruojnob'`\n"
   ]
  },
  {
   "cell_type": "code",
   "execution_count": 61,
   "metadata": {
    "tags": []
   },
   "outputs": [
    {
     "name": "stdout",
     "output_type": "stream",
     "text": [
      "bonjourruojnob\n"
     ]
    }
   ],
   "source": [
    "def miroir1 (texte):\n",
    "    \"\"\"\n",
    "    fonction prenant comme paramètre une chaine de caractères texte et renvoyant la chaîne de caractères miroir de texte.\n",
    "    \"\"\"\n",
    "    resultat=\"\"\n",
    "    for k in texte:\n",
    "        resultat=k+resultat\n",
    "    resultat=texte+resultat\n",
    "    return resultat\n",
    "\n",
    "assert(miroir1('bonjour')=='bonjourruojnob')\n",
    "print(miroir1('bonjour'))"
   ]
  },
  {
   "cell_type": "code",
   "execution_count": 62,
   "metadata": {},
   "outputs": [
    {
     "name": "stdout",
     "output_type": "stream",
     "text": [
      "bonjourruojnob\n"
     ]
    }
   ],
   "source": [
    "def miroir2 (texte):\n",
    "    \"\"\"\n",
    "    fonction prenant comme paramètre une chaine de caractères texte et renvoyant la chaîne de caractères miroir de texte.\n",
    "    \"\"\"\n",
    "    resultat=texte\n",
    "    for k in range(len(texte)-1,-1,-1):\n",
    "        resultat+=texte[k]\n",
    "    \n",
    "    return resultat\n",
    "\n",
    "assert(miroir2('bonjour')=='bonjourruojnob')\n",
    "print(miroir2('bonjour'))"
   ]
  },
  {
   "cell_type": "markdown",
   "metadata": {},
   "source": [
    "<div class=\"alert alert-warning\">\n",
    "\n",
    "### Question 8 :\n",
    "Compléter la fonction `remplacer` suivante, prenant comme paramètres une chaîne de caractères `texte`, et deux caractères `c1` et `c2` et qui renvoie la chaîne de caractères construite à partir de `texte` en échangeant les caractères `c1` et `c2`. \n",
    "\n"
   ]
  },
  {
   "cell_type": "code",
   "execution_count": 63,
   "metadata": {
    "tags": []
   },
   "outputs": [
    {
     "name": "stdout",
     "output_type": "stream",
     "text": [
      "bjnojur\n"
     ]
    }
   ],
   "source": [
    "def remplacer1 (texte,c1,c2):\n",
    "    \"\"\"\n",
    "    fonction prenant comme paramètres une chaîne de caractères texte, et deux caractères c1 et c2 et qui renvoie la chaîne de caractères construite à partir de texte en échangeant les caractères c1 et c2.\n",
    "    \"\"\"\n",
    "    resultat=\"\"\n",
    "    for k in texte:\n",
    "        if k==c1:\n",
    "            resultat=resultat+c2\n",
    "        elif k==c2:\n",
    "            resultat=resultat+c1\n",
    "        else:\n",
    "            resultat+=k\n",
    "    return resultat\n",
    "\n",
    "assert(remplacer1('bonjour','o','j')=='bjnojur')\n",
    "print(remplacer1('bonjour','o','j'))"
   ]
  },
  {
   "cell_type": "code",
   "execution_count": 2,
   "metadata": {},
   "outputs": [
    {
     "name": "stdout",
     "output_type": "stream",
     "text": [
      "bjnojur\n",
      "jjjjjj\n"
     ]
    }
   ],
   "source": [
    "#version proposée par plusieurs d'entre vous\n",
    "\n",
    "def remplacer2 (texte,c1,c2):\n",
    "    \"\"\"\n",
    "    fonction prenant comme paramètres une chaîne de caractères texte, et deux caractères c1 et c2 et qui renvoie la chaîne de caractères construite à partir de texte en échangeant les caractères c1 et c2.\n",
    "    \"\"\"\n",
    "    texte=texte.replace(c1,\"ùù\")\n",
    "    texte=texte.replace(c2,c1)\n",
    "    texte=texte.replace(\"ùù\",c2)\n",
    "    \n",
    "    return texte\n",
    "\n",
    "assert(remplacer2('bonjour','o','j')=='bjnojur')\n",
    "print(remplacer2('bonjour','o','j'))\n",
    "print(remplacer2('ùùùùùùùùùùùù','o','j'))\n"
   ]
  },
  {
   "cell_type": "markdown",
   "metadata": {},
   "source": [
    "<div class=\"alert alert-info\">\n",
    "\n",
    "## Remarques :\n",
    "\n",
    "Programmer en utilisant des fonctions permet de découper un problème complexe en sous-problème, ce qui présente les avantages suivants :\n",
    "<ul>\n",
    "<li>se concentrer sur une tâche précise, pouvant être indépendante des autres tâches du programme, ce qui facilite le travail en équipe.</li>\n",
    "<li>pouvoir réutiliser facilement un code existant, par exemple une fonction qui génère un gif à partir d'une liste d'images. </li>\n",
    "</ul>\n",
    "\n",
    "Pour découper efficacement un programme en fonctions, en particulier pour construire une séquence pédagogique, il est préférable :\n",
    "<ul>\n",
    "<li>de faire en sorte que les fonctions ne soient pas trop complexes, sans toutefois multiplier celles-ci à l'excès.  </li>\n",
    "<li>de bien préciser les paramètres et le type de résultat renvoyé.  </li>\n",
    "</ul>\n",
    "\n",
    "Ce découpage est généralement effectué par l'enseignant lors des activités proposées, mais il peut être laissé à l'initiative des élèves lors des projets."
   ]
  }
 ],
 "metadata": {
  "kernelspec": {
   "display_name": "Python 3",
   "language": "python",
   "name": "python3"
  },
  "language_info": {
   "codemirror_mode": {
    "name": "ipython",
    "version": 3
   },
   "file_extension": ".py",
   "mimetype": "text/x-python",
   "name": "python",
   "nbconvert_exporter": "python",
   "pygments_lexer": "ipython3",
   "version": "3.7.2"
  }
 },
 "nbformat": 4,
 "nbformat_minor": 4
}
