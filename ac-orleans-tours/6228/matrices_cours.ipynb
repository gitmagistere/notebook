{
 "cells": [
  {
   "cell_type": "markdown",
   "metadata": {},
   "source": [
    "#  I : Les matrices - partie 1 : définition & parcours de matrice"
   ]
  },
  {
   "cell_type": "markdown",
   "metadata": {},
   "source": [
    "Une matrice est un tableau de tableaux de même longueur comportant tous des éléments du même type. C'est un objet extrêmement utilisé en informatique : représentation de graphes, représentation d'images, outil de calcul mathématique etc.\n",
    "\n",
    "Voici une représnetation d'une matrice M comportant 3 lignes et 4 colonnes, qui peut être implémentée par un tableau contenant lui même trois tableaux de 4 éléments :\n",
    "\n",
    "$$\\begin{array}{cccc}\n",
    "0 & 2 & 4 & 6\\\\\n",
    "30 & 32 & 37 & 39\\\\\n",
    "47 & 48 & 49 & 49\\\\\n",
    "\\end{array}$$"
   ]
  },
  {
   "cell_type": "code",
   "execution_count": null,
   "metadata": {},
   "outputs": [],
   "source": [
    "M = [[0, 2, 4, 6], [30, 32, 37, 39], [47, 48, 49, 49]]"
   ]
  },
  {
   "cell_type": "markdown",
   "metadata": {},
   "source": [
    "On note qu'en Python l'instruction qui définit une matrice peut être écrite sur plusieurs lignes de code ce qui permet d'améliorer la lisibilité (c'est la cas pour toutes les instructions comportant des parenthèses ou des crochets, <a href=\"https://stackoverflow.com/questions/4172448/is-it-possible-to-break-a-long-line-to-multiple-lines-in-python/4172465\"> voir ce post sur Stackoverflow par exemple </a> ) :"
   ]
  },
  {
   "cell_type": "code",
   "execution_count": null,
   "metadata": {},
   "outputs": [],
   "source": [
    "M = [[0,  2,  4,  6], \n",
    "     [30, 32, 37, 39], \n",
    "     [47, 48, 49, 49]]"
   ]
  },
  {
   "cell_type": "markdown",
   "metadata": {},
   "source": [
    "Ainsi on représente aisément une matrice `M` comme un tableau de lignes. Dans ce cas :\n",
    "\n",
    "- `M[i]` désigne le i-èmetableau de `M`, c'est à dire la i-ème ligne,\n",
    "- `M[i][j]` désigne le j-ème élément du i-ème tableau de `M`, c'est à dire la valeur située ligne `i` et colonne `j`."
   ]
  },
  {
   "cell_type": "markdown",
   "metadata": {},
   "source": [
    "**Remarque 1:** C'est une convention quasiment universelle de représenter une matrice comme un tableau de lignes. Il serait très maladroit de représenter une matrice comme un tableau de colonnes.\n",
    "\n",
    "**Remarque 2:** Si on dispose d'une matrice non vide on peut facilement obtenir ses dimensions :"
   ]
  },
  {
   "cell_type": "code",
   "execution_count": null,
   "metadata": {},
   "outputs": [],
   "source": [
    "nb_lig = len(M)\n",
    "nb_col = len(M[0])\n",
    "nb_lig, nb_col"
   ]
  },
  {
   "cell_type": "markdown",
   "metadata": {},
   "source": [
    "**Remarque 3 :** On parcourt une matrice avec une boucle imbriquée (ou double boucle). On distingue les parcours par ligne et par colonne."
   ]
  },
  {
   "cell_type": "code",
   "execution_count": null,
   "metadata": {},
   "outputs": [],
   "source": [
    "#parcours par ligne\n",
    "\n",
    "for lig in range(len(M)):           \n",
    "    for col in range(len(M[0])):\n",
    "        print (M[lig][col])\n",
    "    print(\"fin de ligne\")"
   ]
  },
  {
   "cell_type": "code",
   "execution_count": null,
   "metadata": {},
   "outputs": [],
   "source": [
    "# parcours par colonne\n",
    "\n",
    "for col in range(len(M[0])):\n",
    "    for lig in range(len(M)):\n",
    "        print (M[lig][col])\n",
    "    print(\"fin de colonne\")"
   ]
  },
  {
   "cell_type": "markdown",
   "metadata": {},
   "source": [
    "Avant de poursuivre sur les matrices, il y a besoin d'une disgression ...\n",
    "\n",
    "# II : Python : variables désignant des objets mutables"
   ]
  },
  {
   "cell_type": "markdown",
   "metadata": {},
   "source": [
    "En python, il y a deux sortes d'objets : les objets mutables et les objets immuables. Les objets immuables ne peuvent pas être modifiés alors que les objets mutables peuvent être modifiés :\n",
    "\n",
    "- types d'objets immuables : `int, str, float, bool ...`\n",
    "- types d'objets mutables : `lits, dict ...`\n",
    "\n",
    "En effet nous avons vu qu'on peut par exemple facilement modifier la valeur des éléments d'un tableau alors que pour les chaînes de caractères il est impossible de modifier un caractère donné :"
   ]
  },
  {
   "cell_type": "code",
   "execution_count": null,
   "metadata": {},
   "outputs": [],
   "source": [
    "mon_tableau = [3, 33, 444, 3333, 33333]\n",
    "mon_tableau[2] = 333\n",
    "mon_tableau"
   ]
  },
  {
   "cell_type": "code",
   "execution_count": null,
   "metadata": {},
   "outputs": [],
   "source": [
    "ma_chaine = \"unf chaîne est immuable\"\n",
    "ma_chaine[2] = \"e\"\n",
    "ma_chaine"
   ]
  },
  {
   "cell_type": "markdown",
   "metadata": {},
   "source": [
    "**Remarque :**\n",
    "    \n",
    "Attention à ne pas confondre *mutation* d'un objet et *réaffectation* d'une variable :"
   ]
  },
  {
   "cell_type": "code",
   "execution_count": null,
   "metadata": {},
   "outputs": [],
   "source": [
    "mon_tab = [\"Léo\", \"Sacha\", \"Alice\", \"Hisham\"]\n",
    "mon_tab[2] = \"Béatrice\"        #mutation du tableau désigné par la variable mon_tab\n",
    "mon_tab"
   ]
  },
  {
   "cell_type": "code",
   "execution_count": null,
   "metadata": {},
   "outputs": [],
   "source": [
    "mon_tab = [\"Enzo\", \"Léa\", \"Samuel\"]     #réaffectation de la variable mon_tab\n",
    "mon_tab"
   ]
  },
  {
   "cell_type": "markdown",
   "metadata": {},
   "source": [
    "Un différence fondamentale à connaître entre les objets mutables ou immuables est la suivante :\n",
    "\n",
    "\n",
    "<div class = \"alert alert-danger\">\n",
    "\n",
    "\n",
    "En Python :\n",
    "- les variables désignant des objets immuables \"contiennent\" la valeur de l'objet en question,\n",
    "- les variables désignant des objets mutables \"contiennent\" l'adresse en mémoire de l'objet en question."
   ]
  },
  {
   "cell_type": "markdown",
   "metadata": {},
   "source": [
    "Voyons les conséquences que cela entraîne.\n",
    "\n",
    "### Lors de l'affectation `tab_b = tab_a`, `tab_b` et `tab_a` désignent le même tableau"
   ]
  },
  {
   "cell_type": "markdown",
   "metadata": {},
   "source": [
    "Supposons qu'on souhaite effectuer la copie d'un tableau : l'idée de base est d'effectuer une affectation de la forme `tab_b = tab_a` :"
   ]
  },
  {
   "cell_type": "code",
   "execution_count": null,
   "metadata": {},
   "outputs": [],
   "source": [
    "tab_a = [True, False, True, False]\n",
    "tab_b = tab_a\n",
    "tab_b"
   ]
  },
  {
   "cell_type": "markdown",
   "metadata": {},
   "source": [
    "On a ici le sentiment d'avoir copié la valeur de `tab_a` dans `tab_b`. En réalité ce n'est pas le cas : `tab_b` désigne désormais la même adresse que `tab_a`, c'est à dire le même tableau. Par conséquent si on effectue des modifications sur le tableau désigné par `tab_b`, ces modifications affecteront aussi le tableau désigné par `tab_a` (ce qui est normal puisque ces deux variables désignent l'adresse d'un unique tableau !) :"
   ]
  },
  {
   "cell_type": "code",
   "execution_count": null,
   "metadata": {},
   "outputs": [],
   "source": [
    "tab_b.append(True)\n",
    "tab_b.append(True)\n",
    "tab_b.append(True)\n",
    "tab_a"
   ]
  },
  {
   "cell_type": "markdown",
   "metadata": {},
   "source": [
    "Pour obtenir une copie indépendante de `tab_a`, il faudra utiliser la méthode `deepcopy()` du module `copy` :"
   ]
  },
  {
   "cell_type": "code",
   "execution_count": null,
   "metadata": {},
   "outputs": [],
   "source": [
    "from copy import deepcopy\n",
    "\n",
    "tab_a = [True, False, True, False]\n",
    "tab_b = deepcopy(tab_a)\n",
    "tab_b.append(True)\n",
    "tab_b.append(True)\n",
    "tab_b.append(True)\n",
    "tab_a"
   ]
  },
  {
   "cell_type": "code",
   "execution_count": null,
   "metadata": {},
   "outputs": [],
   "source": [
    "tab_b"
   ]
  },
  {
   "cell_type": "markdown",
   "metadata": {},
   "source": [
    "### Les mutations d'un argument à l'intérieur d'une fonction se répercutent à l'extérieur"
   ]
  },
  {
   "cell_type": "markdown",
   "metadata": {},
   "source": [
    "Lorsqu'une fonction prend en argument un objet de type mutable, les mutations sur l'objet à l'intérieur du corps de la fonction affectent l'objet à l'extérieur de la fonction (ce qui n'est pas le cas pour les réaffectations de variables). Cela est lié au fait que lors du passage d'arguments de l'extérieur à l'intérieur de la fonction, la \"copie\" de la variable qui est effectuée pose les mêmes problèmes - dans le cas des objets mutables - que ceux évoqués ci-dessus.\n",
    "\n",
    "Les trois exemples ci-dessous sont à connaître, en particulier ce qui se passe dans le troisième où l'on mute l'argument passé à la fonction. La mutation affecte l'argument à l'extérieur de la fonction (on parle d'*effet de bord*)."
   ]
  },
  {
   "cell_type": "code",
   "execution_count": null,
   "metadata": {},
   "outputs": [],
   "source": [
    "def reaffecter_sept_fois_v1(x):\n",
    "    for _ in range(7):\n",
    "        x = x + 1\n",
    "    return x\n",
    "\n",
    "x = 7\n",
    "y = reaffecter_sept_fois_v1(x)\n",
    "x, y"
   ]
  },
  {
   "cell_type": "code",
   "execution_count": null,
   "metadata": {},
   "outputs": [],
   "source": [
    "def reaffecter_sept_fois_v2(tab):\n",
    "    for _ in range(7):\n",
    "        tab = tab + [1]\n",
    "    return tab\n",
    "\n",
    "tab_x = [7]\n",
    "tab_y = reaffecter_sept_fois_v2(tab_x)\n",
    "tab_x, tab_y"
   ]
  },
  {
   "cell_type": "code",
   "execution_count": null,
   "metadata": {},
   "outputs": [],
   "source": [
    "def muter_sept_fois(tab):\n",
    "    for _ in range(7):\n",
    "        tab.append(1)\n",
    "    return tab\n",
    "\n",
    "tab_x = [7]\n",
    "tab_y = muter_sept_fois(tab_x)\n",
    "tab_x, tab_y"
   ]
  },
  {
   "cell_type": "markdown",
   "metadata": {},
   "source": [
    "# III : Les matrices - partie 2 : initialisation d'une matrice"
   ]
  },
  {
   "cell_type": "markdown",
   "metadata": {},
   "source": [
    "Pour initialiser une matrice - par exemple avec des zéros - il faut faire attention. La première idée qui vient en tête consiste à utiliser l'opérateur `*`. Nous avons vu que cet opérateur appliqué aux tableaux permet d'obtenir un tableau de taille `N` contenant `N` éléments identiques en effectuant une \"copie\" de l'élément indiqué :"
   ]
  },
  {
   "cell_type": "code",
   "execution_count": null,
   "metadata": {},
   "outputs": [],
   "source": [
    "N = 15\n",
    "mon_tab = [0] * N\n",
    "mon_tab"
   ]
  },
  {
   "cell_type": "code",
   "execution_count": null,
   "metadata": {},
   "outputs": [],
   "source": [
    "mon_tab[5] = 777\n",
    "mon_tab[8] = 999\n",
    "mon_tab"
   ]
  },
  {
   "cell_type": "markdown",
   "metadata": {},
   "source": [
    "Pour une matrice on peut donc être tenté de faire :"
   ]
  },
  {
   "cell_type": "code",
   "execution_count": null,
   "metadata": {},
   "outputs": [],
   "source": [
    "nb_col = 5\n",
    "nb_lig = 8\n",
    "ma_matrice = [[0] * nb_col] * nb_lig\n",
    "ma_matrice"
   ]
  },
  {
   "cell_type": "markdown",
   "metadata": {},
   "source": [
    "Le gros défaut de cette façon de faire est que l'objet `[0] * nb_col` - qui est un tableau - n'a pas été copié `nb_lig` fois : c'est son adresse qui a été copiée `nb_lig` fois. Par conséquent les mêmes problèmes que ceux évoqués dans le II vont survenir :"
   ]
  },
  {
   "cell_type": "code",
   "execution_count": null,
   "metadata": {},
   "outputs": [],
   "source": [
    "ma_matrice[5][3] = 777\n",
    "ma_matrice"
   ]
  },
  {
   "cell_type": "markdown",
   "metadata": {},
   "source": [
    "Autrement dit toutes les lignes de la matrice désignent une seul eet même adresse mémoire : une modification sur une ligne entraîne donc une modification sur toutes les autres lignes. "
   ]
  },
  {
   "cell_type": "markdown",
   "metadata": {},
   "source": [
    "Pour initialiser une matrice avec des zéros, on utilisera plutôt les listes définies en compréhension. En effet, avec les listes définies par compréhension, l'expression située avant le `for` est évaluée et créée à chaque itération. Il n'y a pas de problèmes de \"copie\" :"
   ]
  },
  {
   "cell_type": "code",
   "execution_count": null,
   "metadata": {},
   "outputs": [],
   "source": [
    "ma_matrice = [[ 0 for _ in range(nb_col)] for _ in range(nb_lig)]\n",
    "ma_matrice"
   ]
  },
  {
   "cell_type": "code",
   "execution_count": null,
   "metadata": {},
   "outputs": [],
   "source": [
    "ma_matrice[5][3] = 777\n",
    "ma_matrice"
   ]
  }
 ],
 "metadata": {
  "kernelspec": {
   "display_name": "Python 3",
   "language": "python",
   "name": "python3"
  },
  "language_info": {
   "codemirror_mode": {
    "name": "ipython",
    "version": 3
   },
   "file_extension": ".py",
   "mimetype": "text/x-python",
   "name": "python",
   "nbconvert_exporter": "python",
   "pygments_lexer": "ipython3",
   "version": "3.8.2"
  }
 },
 "nbformat": 4,
 "nbformat_minor": 4
}
