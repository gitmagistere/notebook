{
 "cells": [
  {
   "cell_type": "markdown",
   "metadata": {},
   "source": [
    "### Exercice 1\n",
    "\n",
    "Ecrire une fonction `somme` qui prend en argument une matrice non vide de nombres entiers et renvoie la somme des nombres de cette matrice. Voici un exemple d'assertion qui doit être vérifiée par votre fonction :\n",
    "```\n",
    "assert(somme([[3, 8, 9, 11], \n",
    "              [6, 8, 1, -4],\n",
    "              [1, 1, 1, 0 ]]) == 45)\n",
    "```"
   ]
  },
  {
   "cell_type": "code",
   "execution_count": null,
   "metadata": {},
   "outputs": [],
   "source": [
    "def somme(mat):\n",
    "    '''Effectue la somme des entiers de la matrice mat supposée non vide'''\n",
    "    somme = 0\n",
    "    for lig in range(len(mat)):\n",
    "        for col in range(len(mat[0])):\n",
    "            somme = somme + mat[lig][col]\n",
    "    return somme\n",
    "         "
   ]
  },
  {
   "cell_type": "markdown",
   "metadata": {},
   "source": [
    "### Exercice 2\n",
    "\n",
    "Ecrire une fonction `max_somme` qui prend en argument une matrice non vide et renvoie la plus grande somme des différentes colonnes. Voici deux exemples d'assertions qui doivent être vérifiées par votre fonction :\n",
    "```\n",
    "assert(max_somme([[3, 8, 9, 11], \n",
    "              [6, 8, 1, -4],\n",
    "              [1, 1, 1, 0 ]]) == 17)    #colonne d'indice 1 : 8 + 8 + 1 = 17\n",
    "              \n",
    "assert(max_somme([[-3, -8, -9, -11], \n",
    "                  [-6, -8, -1, 4  ],\n",
    "                  [-1, -1, -1, 0  ]]) == -7)    #colonne d'indice 3 : -11 + 4 + 0 = -7\n",
    "```"
   ]
  },
  {
   "cell_type": "code",
   "execution_count": null,
   "metadata": {},
   "outputs": [],
   "source": [
    "def max_somme(mat):\n",
    "    '''\n",
    "    Revoie la plus grande somme des différentes colonnes de\n",
    "    la matrice mat supposée non vide\n",
    "    '''\n",
    "    # on initialise la somme maximale avec la somme de la colonne d'indice 0\n",
    "    somme_colonne_zero = 0\n",
    "    for lig in range(len(mat)):\n",
    "        somme_colonne_zero = somme_colonne_zero + mat[lig][0]\n",
    "    max_somme = somme_colonne_zero\n",
    "        \n",
    "    #  puis on passe en revue les colonnes suivantes (parcours par colonne)  \n",
    "    for col in range(1, len(mat[0])):\n",
    "        somme_colonne = 0\n",
    "        for lig in range(len(mat)):\n",
    "            somme_colonne = somme_colonne + mat[lig][col]\n",
    "        if somme_colonne > max_somme:\n",
    "            max_somme = somme_colonne\n",
    "    return max_somme"
   ]
  },
  {
   "cell_type": "code",
   "execution_count": null,
   "metadata": {},
   "outputs": [],
   "source": [
    "assert(max_somme([[3, 8, 9, 11], \n",
    "                  [6, 8, 1, -4],\n",
    "                  [1, 1, 1, 0 ]]) == 17)    #colonne d'indice 1 : 8 + 8 + 1 = 17\n",
    "              \n",
    "assert(max_somme([[-3, -8, -9, -11], \n",
    "                  [-6, -8, -1, 4  ],\n",
    "                  [-1, -1, -1, 0  ]]) == -7)    #colonne d'indice 3 : -11 + 4 + 0 = -7"
   ]
  },
  {
   "cell_type": "markdown",
   "metadata": {},
   "source": [
    "### Exercice 3\n",
    "\n",
    "**Question 1 :**\n",
    "\n",
    "Ecrire une fonction `compresse` qui prend en argument une matrice non vide dont les éléments sont des entiers et modifie les éléments de la façon suivante :\n",
    "- si l'élément est positif, on diminue l'élément de une unité,\n",
    "- si l'élément est négatif, on augmente l'élément de une unité,\n",
    "- si l'élément est nul, on ne le modifie pas.\n",
    "\n",
    "La fonction devra **muter** la matrice en place et ne **renverra** donc aucune valeur.\n"
   ]
  },
  {
   "cell_type": "code",
   "execution_count": null,
   "metadata": {},
   "outputs": [],
   "source": [
    "def compresse(mat):\n",
    "    for lig in range(len(mat)):\n",
    "        for col in range(len(mat)):\n",
    "            if mat[lig][col] < 0:\n",
    "                mat[lig][col] = mat[lig][col] + 1\n",
    "            elif mat[lig][col] > 0:\n",
    "                mat[lig][col] = mat[lig][col] - 1\n",
    "            else:\n",
    "                pass"
   ]
  },
  {
   "cell_type": "code",
   "execution_count": null,
   "metadata": {},
   "outputs": [],
   "source": [
    "ma_matrice = [[ 0,  1,  2,  3,  4, 5],\n",
    "              [-1,  0,  1,  2,  3, 4],\n",
    "              [-2, -1,  0,  1,  2, 3],\n",
    "              [-3, -2, -1,  0,  1, 2],\n",
    "              [-4, -3, -2, -1,  0, 1],\n",
    "              [-5, -4, -3, -2, -1, 0]]"
   ]
  },
  {
   "cell_type": "code",
   "execution_count": null,
   "metadata": {},
   "outputs": [],
   "source": [
    "compresse(ma_matrice)\n",
    "ma_matrice"
   ]
  },
  {
   "cell_type": "markdown",
   "metadata": {},
   "source": [
    "**Question 2 :**\n",
    "\n",
    "Modifier la fonction précédente pour **qu'elle ne mute plus la matrice passée en argument qui devra rester intacte** mais qu'elle renvoie **une copie indépendante et compressée** de la matrice passée en argument."
   ]
  },
  {
   "cell_type": "code",
   "execution_count": null,
   "metadata": {},
   "outputs": [],
   "source": [
    "from copy import deepcopy\n",
    "\n",
    "def compresse(mat):\n",
    "    mat2 = deepcopy(mat)\n",
    "    for lig in range(len(mat2)):\n",
    "        for col in range(len(mat2)):\n",
    "            if mat2[lig][col] < 0:\n",
    "                mat2[lig][col] = mat2[lig][col] + 1\n",
    "            elif mat2[lig][col] > 0:\n",
    "                mat2[lig][col] = mat2[lig][col] - 1\n",
    "            else:\n",
    "                pass\n",
    "    return mat2"
   ]
  },
  {
   "cell_type": "code",
   "execution_count": null,
   "metadata": {},
   "outputs": [],
   "source": [
    "ma_matrice = [[ 0,  1,  2,  3,  4, 5],\n",
    "              [-1,  0,  1,  2,  3, 4],\n",
    "              [-2, -1,  0,  1,  2, 3],\n",
    "              [-3, -2, -1,  0,  1, 2],\n",
    "              [-4, -3, -2, -1,  0, 1],\n",
    "              [-5, -4, -3, -2, -1, 0]]"
   ]
  },
  {
   "cell_type": "code",
   "execution_count": null,
   "metadata": {},
   "outputs": [],
   "source": [
    "ma_matrice_compressee = compresse(ma_matrice)\n",
    "ma_matrice_compressee"
   ]
  },
  {
   "cell_type": "markdown",
   "metadata": {},
   "source": [
    "### Exercice 4\n",
    "\n",
    "Programmer une fonction `sablier` qui prend en argument un entier `n` strictement positif et renvoie une matrice de `n` lignes et `n` colonnes dont :\n",
    "- le quart supérieur contient des 8,\n",
    "- le quart inférieur contient des 1,\n",
    "- le reste de la matrice (dont les diagonales) contient des 0.\n",
    "\n",
    "Voici deux exemples d'assertions vérifiée par la fonction quatre couleurs:\n",
    "```\n",
    "assert(sablier(15) ==   [[0, 8, 8, 8, 8, 8, 8, 8, 8, 8, 8, 8, 8, 8, 0],\n",
    "                         [0, 0, 8, 8, 8, 8, 8, 8, 8, 8, 8, 8, 8, 0, 0],\n",
    "                         [0, 0, 0, 8, 8, 8, 8, 8, 8, 8, 8, 8, 0, 0, 0],\n",
    "                         [0, 0, 0, 0, 8, 8, 8, 8, 8, 8, 8, 0, 0, 0, 0],\n",
    "                         [0, 0, 0, 0, 0, 8, 8, 8, 8, 8, 0, 0, 0, 0, 0],\n",
    "                         [0, 0, 0, 0, 0, 0, 8, 8, 8, 0, 0, 0, 0, 0, 0],\n",
    "                         [0, 0, 0, 0, 0, 0, 0, 8, 0, 0, 0, 0, 0, 0, 0],\n",
    "                         [0, 0, 0, 0, 0, 0, 0, 0, 0, 0, 0, 0, 0, 0, 0],\n",
    "                         [0, 0, 0, 0, 0, 0, 0, 1, 0, 0, 0, 0, 0, 0, 0],\n",
    "                         [0, 0, 0, 0, 0, 0, 1, 1, 1, 0, 0, 0, 0, 0, 0],\n",
    "                         [0, 0, 0, 0, 0, 1, 1, 1, 1, 1, 0, 0, 0, 0, 0],\n",
    "                         [0, 0, 0, 0, 1, 1, 1, 1, 1, 1, 1, 0, 0, 0, 0],\n",
    "                         [0, 0, 0, 1, 1, 1, 1, 1, 1, 1, 1, 1, 0, 0, 0],\n",
    "                         [0, 0, 1, 1, 1, 1, 1, 1, 1, 1, 1, 1, 1, 0, 0],\n",
    "                         [0, 1, 1, 1, 1, 1, 1, 1, 1, 1, 1, 1, 1, 1, 0]]\n",
    "                         \n",
    "assert(sablier(8) ==    [[0, 8, 8, 8, 8, 8, 8, 0],\n",
    "                         [0, 0, 8, 8, 8, 8, 0, 0],\n",
    "                         [0, 0, 0, 8, 8, 0, 0, 0],\n",
    "                         [0, 0, 0, 0, 0, 0, 0, 0],\n",
    "                         [0, 0, 0, 0, 0, 0, 0, 0],\n",
    "                         [0, 0, 0, 1, 1, 0, 0, 0],\n",
    "                         [0, 0, 1, 1, 1, 1, 0, 0],\n",
    "                         [0, 1, 1, 1, 1, 1, 1, 0]]                                            \n",
    "```"
   ]
  },
  {
   "cell_type": "code",
   "execution_count": null,
   "metadata": {},
   "outputs": [],
   "source": [
    "def sablier(n):\n",
    "    m = [[0 for col in range(n)] for lig in range(n)]\n",
    "    for lig in range(n//2): \n",
    "        for col in range(lig+1, n-(lig+1)):\n",
    "            m[lig][col] = 8\n",
    "        \n",
    "    for lig in range(n//2, n): \n",
    "        for col in range(n-lig, lig):\n",
    "            m[lig][col] = 1\n",
    "    \n",
    "    return m        "
   ]
  },
  {
   "cell_type": "code",
   "execution_count": null,
   "metadata": {},
   "outputs": [],
   "source": [
    "m = sablier(15)\n",
    "m"
   ]
  },
  {
   "cell_type": "code",
   "execution_count": null,
   "metadata": {},
   "outputs": [],
   "source": [
    "m = sablier(8)\n",
    "m"
   ]
  }
 ],
 "metadata": {
  "kernelspec": {
   "display_name": "Python 3",
   "language": "python",
   "name": "python3"
  },
  "language_info": {
   "codemirror_mode": {
    "name": "ipython",
    "version": 3
   },
   "file_extension": ".py",
   "mimetype": "text/x-python",
   "name": "python",
   "nbconvert_exporter": "python",
   "pygments_lexer": "ipython3",
   "version": "3.8.2"
  }
 },
 "nbformat": 4,
 "nbformat_minor": 4
}
