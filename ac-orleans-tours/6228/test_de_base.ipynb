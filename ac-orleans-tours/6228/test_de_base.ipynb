{
 "cells": [
  {
   "attachments": {
    "logo_python.jpg": {
     "image/jpeg": "[encoded data removed]"
    }
   },
   "cell_type": "markdown",
   "metadata": {},
   "source": [
    "# Quelques bases en python\n",
    "![logo_python.jpg](attachment:logo_python.jpg)\n",
    "\n",
    "Cette fiche d'exercices reprend les connaissances que les élèves doivent avoir en programmation à la fin du niveau seconde . On y a ajouter quelques notions sur les listes et deux ou trois exercices un peu plus difficiles et qui sont signalés comme tel.\n",
    "\n",
    "Avant de commencer voici une liste bien loin d'être exhaustive de tutoriel en python:\n",
    "\n",
    "* https://python.doctor/ \n",
    "* https://python.developpez.com/cours/TutoSwinnen/ : Le livre de Gérard Swinnen, incontournable .\n",
    "* https://www.pierre-giraud.com/python-apprendre-programmer-cours/ \n",
    "\n",
    "Vous pouvez aussi tester vos codes avec python tutor, outil extrêmement pédagogique \n",
    "  http://www.pythontutor.com/"
   ]
  },
  {
   "cell_type": "markdown",
   "metadata": {},
   "source": [
    "Avant de commencer à coder, sachez que certains mots, dits mots clés, sont réservés et ne peuvent être utilisés comme nom de variables :\n",
    "https://fr.wikibooks.org/w/index.php?title=Programmation_Python/Tableau_des_mots_r%C3%A9serv%C3%A9s&oldid=635117\n",
    "\n",
    "Enfin, il est de convention de noter le nom des variables en minuscules et :\n",
    "* Un nom de variable doit commencer par une lettre\n",
    "* Un nom de variable ne peut contenir que des lettres, des chiffres et le caractère _\n"
   ]
  },
  {
   "cell_type": "markdown",
   "metadata": {},
   "source": [
    "Pour l'utilisation du notebook, sachez que chaque cellule de code est dépendante de la précédente: Il vous faut exécuter les cellules dans l'ordre croissant si il y a une dépendance entre elles. \n",
    "Par exemple, à l'exercice 7, il vous fauit exécuter la cellule commençant par import...\n",
    "sinon vous aurez une erreur lors de l'exécution de la fonction *aléatoire* qui a besoin du module random."
   ]
  },
  {
   "attachments": {
    "operation.png": {
     "image/png": "[encoded data removed]"
    }
   },
   "cell_type": "markdown",
   "metadata": {},
   "source": [
    "## Calculs, variables\n",
    "![operation.png](attachment:operation.png)\n",
    "\n",
    "L'**affectation** se fait à l'aide du signe **=**\n",
    "\n",
    "## Exercice 1\n",
    "\n",
    "Assignez les valeurs 7 et 5 aux variables a et b et calculez :\n",
    "* Le quotient de a par b\n",
    "* Le reste de la division euclidienne de a par b\n",
    "* a puissance b"
   ]
  },
  {
   "cell_type": "code",
   "execution_count": null,
   "metadata": {},
   "outputs": [],
   "source": [
    "pass"
   ]
  },
  {
   "cell_type": "markdown",
   "metadata": {},
   "source": [
    "## Exercice 2\n",
    "Assignez un entier de votre choix à la variable a et un différent à la variable  b, puis échangez les valeurs de ces deux variables."
   ]
  },
  {
   "cell_type": "code",
   "execution_count": null,
   "metadata": {},
   "outputs": [],
   "source": [
    "pass"
   ]
  },
  {
   "cell_type": "markdown",
   "metadata": {},
   "source": [
    "## Exercice 3\n",
    "Créez trois variables h, m, s et affectez leur des valeurs correspondant respectivement à des heures, minutes et secondes. Votre programme devra  afficher la quantité équivalente en secondes, précédée de la phrase 'Temps correspondant en secondes : '"
   ]
  },
  {
   "cell_type": "code",
   "execution_count": null,
   "metadata": {},
   "outputs": [],
   "source": [
    "pass"
   ]
  },
  {
   "cell_type": "markdown",
   "metadata": {},
   "source": [
    "# Les boucles \n",
    "Les consignes sont précisées dans la documentation de la fonction (**docstring**)\n",
    "\n",
    "## Exercice 4\n",
    "\n",
    "**Calcul d'une somme d'entiers**\n"
   ]
  },
  {
   "cell_type": "code",
   "execution_count": null,
   "metadata": {},
   "outputs": [],
   "source": [
    "def somme(n):\n",
    "    \"\"\" Cette fonction calcule la somme des n premiers entiers naturels\n",
    "        Entrée : La valeur de n, de type entier et positif.\n",
    "        Sortie  : La somme des n premiers entiers\n",
    "    \"\"\"\n",
    "    pass\n",
    "assert( somme(8) == 36)"
   ]
  },
  {
   "attachments": {
    "triangle.png": {
     "image/png": "[encoded data removed]"
    }
   },
   "cell_type": "markdown",
   "metadata": {},
   "source": [
    "## Exercice 5\n",
    "\n",
    "**Réalisation du motif ci-dessous**\n",
    "L'usage d'une fonction n'est pas nécessaire. Attention aux types de variables que vous utilisez.\n",
    "\n",
    "\n",
    "![triangle.png](attachment:triangle.png)"
   ]
  },
  {
   "cell_type": "code",
   "execution_count": null,
   "metadata": {},
   "outputs": [],
   "source": [
    "pass"
   ]
  },
  {
   "cell_type": "markdown",
   "metadata": {},
   "source": [
    "## Exercice 6\n",
    "\n",
    "**Table de multiplication**\n"
   ]
  },
  {
   "cell_type": "code",
   "execution_count": null,
   "metadata": {},
   "outputs": [],
   "source": [
    "def multiplication(n,p):\n",
    "    \"\"\" Cette fonction affiche les p premières valeurs non nulles de la table de n\n",
    "        Entrée: Les valeurs de n et de p.\n",
    "        Sortie : Rien n'est retourné\n",
    "    \"\"\"\n",
    "    pass"
   ]
  },
  {
   "cell_type": "markdown",
   "metadata": {},
   "source": [
    "## Exercice 7\n"
   ]
  },
  {
   "cell_type": "markdown",
   "metadata": {},
   "source": [
    "Certaines fonctions prédéfinies en python sont accessibles à travers des modules. Pour cet exercice, on va importer le module random et utiliser la fonction randint, qui renvoie un entier entre les deux bornes, incluses, qui lui sont passées en paramètre.\n",
    "Pour importer un module on préfèrera la syntaxe **import random** que from random import.\n",
    "Le **rd** utilisé dans l'exemple est appelé un alias. "
   ]
  },
  {
   "cell_type": "code",
   "execution_count": 3,
   "metadata": {},
   "outputs": [
    {
     "name": "stdout",
     "output_type": "stream",
     "text": [
      "2\n"
     ]
    }
   ],
   "source": [
    "import random as rd\n",
    "print(rd.randint(0,10))"
   ]
  },
  {
   "cell_type": "code",
   "execution_count": 6,
   "metadata": {},
   "outputs": [],
   "source": [
    "def aleatoire():\n",
    "    \"\"\"Cette fonction affiche des nombres aléatoires entre 0 et 10. Elle s'arrète dès qu'un nombre \n",
    "       supérieur strict à 8 est obtenu.\n",
    "       Entrée : aucune\n",
    "       Sortie : aucune\n",
    "    \"\"\"\n",
    "    pass\n",
    "    "
   ]
  },
  {
   "cell_type": "markdown",
   "metadata": {},
   "source": [
    "# Les Listes\n",
    "\n",
    "## Exercice 8\n",
    "\n"
   ]
  },
  {
   "cell_type": "code",
   "execution_count": null,
   "metadata": {},
   "outputs": [],
   "source": [
    "def multiple(a,n):\n",
    "    \"\"\" Cette fonction a pour but de déterminer les multiples d'un nombre a qui sont plus petits que n.\n",
    "        Entrée : l'entier a dont on cherche les multiples et l'entier n qui est la borne haute de recherche.\n",
    "        Sortie : La liste des multiples de a plus petits que n\n",
    "    \n",
    "    \"\"\"\n",
    "    pass\n",
    "\n",
    "assert(multiple(3,10) == [0,3,6,9])"
   ]
  },
  {
   "cell_type": "markdown",
   "metadata": {},
   "source": [
    "## Exercice 9\n",
    "\n",
    " Vous devez ici générer une liste de 100 nombres aléatoires entre 0 et 100 et déterminer le nombre de multiples de 5 qu'elle contient. Vous n'êtes pas obligé de passer par une fonction."
   ]
  },
  {
   "cell_type": "code",
   "execution_count": null,
   "metadata": {},
   "outputs": [],
   "source": []
  },
  {
   "cell_type": "markdown",
   "metadata": {},
   "source": [
    "## Exercice 10\n",
    "\n"
   ]
  },
  {
   "cell_type": "code",
   "execution_count": null,
   "metadata": {},
   "outputs": [],
   "source": [
    "def remplacement(l,nombre, remplaçant):\n",
    "    \"\"\" Cette fonction remplace dans une liste passée en paramètres la valeur 'nombre' par la valeur 'remplaçant'\n",
    "        Entrée : la liste, la valeur du nombre à remplacer (nombre) et la valeur du remplaçant (remplaçant)\n",
    "        Sortie : la liste modifiée\n",
    "    \"\"\"\n",
    "    pass\n",
    "    \n",
    "assert(remplacement ([2,5,2,4,5,8,9],2,8) == [8,5,8,4,5,8,9])"
   ]
  },
  {
   "cell_type": "markdown",
   "metadata": {},
   "source": [
    "# Exercices complémentaires \n",
    "\n",
    "## Exercice 11\n",
    "\n",
    "Rappel : Un nombre premier est un entier strictement positif admettant exactement deux diviseurs distincts : 1 et lui même."
   ]
  },
  {
   "cell_type": "code",
   "execution_count": null,
   "metadata": {},
   "outputs": [],
   "source": [
    "import math \n",
    "def premier(n):\n",
    "    \"\"\" Cette fonction détermine les nombres premiers plus petits ou égal à  n\n",
    "        Entrée : l'entier n \n",
    "        Sortie : la liste des nombres premiers plus petits que n\n",
    "    \"\"\"\n",
    "assert(premier(8) == False)    "
   ]
  },
  {
   "cell_type": "code",
   "execution_count": null,
   "metadata": {},
   "outputs": [],
   "source": [
    "def get_premier(n):\n",
    "    \"\"\"Cette  fonction détermine la valeur des n plus petits nombres premiers\n",
    "       Entrée : n, le nombre de nombre premiers à déterminer\n",
    "       Sortie : La liste des n plus petits nombres premiers\n",
    "    \"\"\"\n",
    "    pass\n",
    "assert(get_premier(4) == [2, 3, 5, 7])"
   ]
  },
  {
   "cell_type": "markdown",
   "metadata": {},
   "source": [
    "## Exercice 12\n",
    "\n",
    "Pour cet exercice, il vous est interdit d'utiliser une fonction prédéfinie, du type sort ou sorted :) !\n",
    "\n"
   ]
  },
  {
   "cell_type": "code",
   "execution_count": null,
   "metadata": {},
   "outputs": [],
   "source": [
    "def tri (l):\n",
    "    \"\"\" Cette fonction trie une liste de nombre par ordre croissant.\n",
    "        Entrée: une liste de nombres entiers\n",
    "        Sortie : la liste triée par ordre croissant.    \n",
    "    \"\"\"\n",
    "    pass\n",
    "assert(tri([4, 2, 5, 8, 4, 7,1 ]) == [1, 2, 4, 4, 5, 7, 8] )\n"
   ]
  },
  {
   "attachments": {
    "pyramide.png": {
     "image/png": "[encoded data removed]"
    }
   },
   "cell_type": "markdown",
   "metadata": {},
   "source": [
    "##  Exercice 13 \n",
    "\n",
    "Vous devez programmer une fonction qui produit le motif suivant (avec le paramètre n = 7 ici)\n",
    "\n",
    "![pyramide.png](attachment:pyramide.png)\n"
   ]
  },
  {
   "cell_type": "code",
   "execution_count": null,
   "metadata": {},
   "outputs": [],
   "source": [
    "def pyramide(n) :\n",
    "    \"\"\" Cette fonction affiche le motif présenté ci dessus.\n",
    "        Entrée: Le paramètre n\n",
    "        Sortie : Aucune\n",
    "    \"\"\"\n",
    "    pass"
   ]
  }
 ],
 "metadata": {
  "kernelspec": {
   "display_name": "Python 3",
   "language": "python",
   "name": "python3"
  },
  "language_info": {
   "codemirror_mode": {
    "name": "ipython",
    "version": 3
   },
   "file_extension": ".py",
   "mimetype": "text/x-python",
   "name": "python",
   "nbconvert_exporter": "python",
   "pygments_lexer": "ipython3",
   "version": "3.7.3"
  }
 },
 "nbformat": 4,
 "nbformat_minor": 2
}
