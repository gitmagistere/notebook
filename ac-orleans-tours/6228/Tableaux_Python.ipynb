{
 "cells": [
  {
   "cell_type": "markdown",
   "metadata": {},
   "source": [
    "# <center>Tableaux</center>"
   ]
  },
  {
   "cell_type": "markdown",
   "metadata": {},
   "source": [
    "## 0.  Remarque importante"
   ]
  },
  {
   "cell_type": "markdown",
   "metadata": {},
   "source": [
    "* En python, ce que l'on désigne par le terme liste est en réalité ce que l'on appelle en algorithmique un tableau, c'est à dire une suite d'éléments contigus et ordonnés en mémoire. Ces éléments sont stockés en mémoire les uns à la suite des autres.\n",
    "\n",
    "\n",
    "##### Exemple :\n",
    "La fonction `id` donne \"l'identité\" d'un objet python, c'est à dire l'adresse de l'objet en mémoire."
   ]
  },
  {
   "cell_type": "code",
   "execution_count": null,
   "metadata": {},
   "outputs": [],
   "source": [
    "T=[0,1,2,3,5]\n",
    "print(id(T[0]))\n",
    "print(id(T[1]))\n",
    "print(id(T[2]))\n",
    "print(id(T[3]))\n",
    "print(id(T[4]))"
   ]
  },
  {
   "cell_type": "markdown",
   "metadata": {},
   "source": [
    "* En terminale, on aborde le concept de liste chaînée, ce qui est source de confusions pour les élèves. "
   ]
  },
  {
   "cell_type": "markdown",
   "metadata": {},
   "source": [
    "* Dans ce document, on utilisera abusivement le terme \"liste\" mais en gardant à l'esprit les remarques précédentes."
   ]
  },
  {
   "cell_type": "markdown",
   "metadata": {},
   "source": [
    "## 1. Le type list"
   ]
  },
  {
   "cell_type": "markdown",
   "metadata": {},
   "source": [
    " Sous Python, on peut définir une liste comme une collection d'éléments séparés par une virgule, l'ensemble étant délimité par des crochets.\n",
    " \n",
    " Exemples :"
   ]
  },
  {
   "cell_type": "code",
   "execution_count": null,
   "metadata": {},
   "outputs": [],
   "source": [
    "#Exécuter le code ci-dessous :\n",
    "semaine = ['Lun','Mar','Mer','Jeu','Ven']\n",
    "jours = [1,2,3,4,5,6,7,8,9,10,11,12,13,14,15,16,17,18,19,20,21,22,23,24,25,26,27,28,29,30,31]\n",
    "mois = ['Jan','Fév','Mars','Avr','Mai','Juin','Juil','Août','Sep','Oct','Nov','Déc']\n",
    "temperatures = [-30.0,-20.0,-10.0,0.0,10.0,20.0,30.0,40.0]\n",
    "\n",
    "ajd = [['Dim',21,'Juin'],20.0]\n",
    "\n",
    "print (semaine, type(semaine))\n",
    "print (ajd, type(ajd))"
   ]
  },
  {
   "cell_type": "markdown",
   "metadata": {},
   "source": [
    "Les éléments individuels qui constituent une liste peuvent être de types variés :\n",
    " * Les éléments des listes `semaine` et `mois` sont des chaînes de caractères.\n",
    " * Les éléments de la liste `jours` sont des entiers.\n",
    " * Les éléments de la liste `temperatures` contient des nombres de type 'float'.\n",
    " * La liste `ajd` contient...2 éléments : une liste (elle-même composée de chaînes et d'un entier) et un nombre de type 'float'."
   ]
  },
  {
   "cell_type": "markdown",
   "metadata": {},
   "source": [
    "### Similitudes avec les chaînes de caractères"
   ]
  },
  {
   "cell_type": "markdown",
   "metadata": {},
   "source": [
    "#### Accès aux éléments :\n",
    "\n",
    "Comme les chaînes de caractères, les listes sont des collections ordonnées d’objets. On peut donc accéder à chaques élément individuellement si l’on connaît son index dans la liste . Comme pour les chaînes, l'index commence à partir de zéro.\n",
    "\n",
    "Exemples:"
   ]
  },
  {
   "cell_type": "code",
   "execution_count": null,
   "metadata": {},
   "outputs": [],
   "source": [
    "#Exécuter le code ci-dessous :\n",
    "print(semaine[0])\n",
    "print(jours[30])\n",
    "print(mois[2])"
   ]
  },
  {
   "cell_type": "markdown",
   "metadata": {},
   "source": [
    "##### Exercice 1 :\n",
    "Modifier le programme ci-dessus pour qu'il affiche la date d'aujourd'hui."
   ]
  },
  {
   "cell_type": "code",
   "execution_count": null,
   "metadata": {},
   "outputs": [],
   "source": [
    "# Réponse : à adapter en fonction de la date\n"
   ]
  },
  {
   "cell_type": "markdown",
   "metadata": {},
   "source": [
    "#### Longueur d'une liste\n",
    "La fonction `len`s'utilise aussi avec les listes.\n",
    "Exemples :"
   ]
  },
  {
   "cell_type": "code",
   "execution_count": null,
   "metadata": {},
   "outputs": [],
   "source": [
    "print(len(jours)) #affiche la longueur de la liste 'jours', c'est à dire son nombre d'éléments\n",
    "print(len(ajd)) # la liste 'ajd' contient 2 éléments"
   ]
  },
  {
   "cell_type": "markdown",
   "metadata": {},
   "source": [
    "#### Concaténation et répétition\n",
    "Comme pour les chaînes, on peut utiliser l'opérateur `+` (non commutatif)  pour rassembler 2 listes par concanténattion et `*` pour assembler par répétition \n",
    "\n",
    "Exemples :"
   ]
  },
  {
   "cell_type": "code",
   "execution_count": null,
   "metadata": {},
   "outputs": [],
   "source": [
    "#Exécuter le code ci-dessous :\n",
    "L1=[1,2,3]\n",
    "L2=[4,5,6]\n",
    "print(L1+L2)\n",
    "print(L2+L1)\n",
    "\n",
    "print(2*L1+3*L2)"
   ]
  },
  {
   "cell_type": "markdown",
   "metadata": {},
   "source": [
    "### Différences avec les chaînes"
   ]
  },
  {
   "cell_type": "markdown",
   "metadata": {},
   "source": [
    "#### Modifier des éléments\n",
    "À la différence de ce qui se passe pour les chaînes, qui constituent un type de données non-modifiable (immuable), il est possible de modifier les éléments individuels d’une liste, elle est mutable :"
   ]
  },
  {
   "cell_type": "code",
   "execution_count": null,
   "metadata": {},
   "outputs": [],
   "source": [
    "# Executer le code ci-dessous\n",
    "semaine[0]='Dim'\n",
    "print(semaine)"
   ]
  },
  {
   "cell_type": "markdown",
   "metadata": {},
   "source": [
    "##### Exercice 2:\n",
    "Annuler la modification précédente"
   ]
  },
  {
   "cell_type": "code",
   "execution_count": null,
   "metadata": {},
   "outputs": [],
   "source": [
    "#Réponse:\n"
   ]
  },
  {
   "cell_type": "markdown",
   "metadata": {},
   "source": [
    "#### Supprimer des éléments\n",
    "La fonction `del` permet de supprimer d’une liste un élément quelconque, à partir de son index."
   ]
  },
  {
   "cell_type": "code",
   "execution_count": null,
   "metadata": {},
   "outputs": [],
   "source": [
    "del(semaine[4])\n",
    "print(semaine)"
   ]
  },
  {
   "cell_type": "markdown",
   "metadata": {},
   "source": [
    "#### Ajouter des éléments\n",
    "On peut ajouter un élément à une liste. Pour cela, il faut considérer que la liste est un objet, dont on va utiliser l’une des méthodes, ici la méthode `append`."
   ]
  },
  {
   "cell_type": "code",
   "execution_count": null,
   "metadata": {},
   "outputs": [],
   "source": [
    "#Exécuter le code ci-dessous\n",
    "semaine.append('Ven')\n",
    "print(semaine)"
   ]
  },
  {
   "cell_type": "markdown",
   "metadata": {},
   "source": [
    "Remarques :\n",
    "   * \"append\" en anglais veut dire \"ajouter\".\n",
    "   * L'élément est ajouté à la fin de la liste.\n",
    "   * On applique une méthode à un objet en reliant les deux à l’aide d’un point."
   ]
  },
  {
   "cell_type": "markdown",
   "metadata": {},
   "source": [
    "##### Exercice 3:\n",
    "Ajouter le week-end à la liste `semaine` et l'afficher"
   ]
  },
  {
   "cell_type": "code",
   "execution_count": null,
   "metadata": {},
   "outputs": [],
   "source": [
    "# Réponse :\n"
   ]
  },
  {
   "cell_type": "markdown",
   "metadata": {},
   "source": [
    "#### Autres méthodes\n",
    "* Il existe bien sûr de nombreuses méthodes permettant d'agir sur les listes python(trier, renverser, etc..)\n",
    "* Documentation : https://docs.python.org/fr/3/tutorial/datastructures.html"
   ]
  },
  {
   "cell_type": "markdown",
   "metadata": {},
   "source": [
    "## 2. Points de vigilance"
   ]
  },
  {
   "cell_type": "markdown",
   "metadata": {},
   "source": [
    "### La copie de tableau\n",
    "Considérons une liste `L1` à copier dans une autre variable `L2`.On pourrait penser procéder ainsi :"
   ]
  },
  {
   "cell_type": "code",
   "execution_count": null,
   "metadata": {},
   "outputs": [],
   "source": [
    "L1=[1,1,2,3,5]\n",
    "L2=L1"
   ]
  },
  {
   "cell_type": "markdown",
   "metadata": {},
   "source": [
    "Modifions le contenu de `L2`"
   ]
  },
  {
   "cell_type": "code",
   "execution_count": null,
   "metadata": {},
   "outputs": [],
   "source": [
    "L2.append(8)\n",
    "print(L2)"
   ]
  },
  {
   "cell_type": "markdown",
   "metadata": {},
   "source": [
    "Mais..."
   ]
  },
  {
   "cell_type": "code",
   "execution_count": null,
   "metadata": {},
   "outputs": [],
   "source": [
    "print(L1)"
   ]
  },
  {
   "cell_type": "markdown",
   "metadata": {},
   "source": [
    "Remarque :\n",
    "* En procédant ainsi, on ne crée pas une véritable copie. À la suite de l'instruction `L1=L2`, il\n",
    "n’existe toujours qu’un seul objet dans la mémoire de l’ordinateur.Une nouvelle référence vers cette liste est créée (un alias) mais toute modification souhaitée utilisant les alias `L1` ou `L2` implique la modification de l'objet."
   ]
  },
  {
   "cell_type": "markdown",
   "metadata": {},
   "source": [
    "##### Exercice 4 :\n",
    "Ecrire la fonction `copy(L)` qui prend en paramètre une liste et qui renvoie une \"véritable\" copie de la liste L. On pourra ainsi agir sur cette copie sans modifier `L`."
   ]
  },
  {
   "cell_type": "code",
   "execution_count": null,
   "metadata": {},
   "outputs": [],
   "source": [
    "def copy(L) :\n",
    "    '''Crée une copie de la liste L'''\n",
    "    return\n",
    "\n",
    "L1=[1,1,2,3,5,8]\n",
    "L2=copy(L1)\n",
    "L2.append(13)\n",
    "print(L1)\n",
    "print(L2)"
   ]
  },
  {
   "cell_type": "markdown",
   "metadata": {},
   "source": [
    "### A propos de l'insertion et de la suppression"
   ]
  },
  {
   "cell_type": "markdown",
   "metadata": {},
   "source": [
    "##### Exercice 5:\n",
    "On considère le tableau ci-dessous :\n",
    "\n",
    "<center>$|\\;\\;1 \\; \\;|\\;\\;  1\\; \\; |\\; \\; 3 \\;\\; | \\;\\; 5 \\;\\; |\\;\\;  8 \\; \\;|$</center>\n",
    "\n",
    "On souhaite insérer la valeur $0$ en première position et obtenir le tableau suivant: \n",
    "\n",
    "<center>$|\\;\\;0\\;\\;|\\;\\;1 \\; \\;|\\;\\;  1\\; \\; |\\; \\; 3 \\;\\; | \\;\\; 5 \\;\\; |\\;\\;  8 \\; \\;|$</center>\n",
    "\n",
    "\n",
    "<br/>\n",
    "<br/>\n",
    " \n",
    "*   On commence par agrandir le tableau, en ajoutant un nouvel emplacement à la fin  :\n",
    "\n",
    "<center>$|\\;\\;1 \\; \\;|\\;\\;  1\\; \\; |\\; \\; 3 \\;\\; | \\;\\; 5 \\;\\; |\\;\\;  8 \\; \\;|\\;\\;\\;\\;\\;|$</center>\n",
    "\n",
    "*  Il faut ensuite décaler tous les élements du tableau initial vers la droite en commençant par le dernier :\n",
    "\n",
    "<center>$|\\;\\;1\\;\\;|\\;\\;1 \\; \\;|\\;\\;  1\\; \\; |\\; \\; 3 \\;\\; | \\;\\; 5 \\;\\; |\\;\\;  8 \\; \\;|$</center>\n",
    "\n",
    "*  Enfin, on écrit la valeur souhaitée dans la première case du tableau :\n",
    "\n",
    "<center>$|\\;\\;0\\;\\;|\\;\\;1 \\; \\;|\\;\\;  1\\; \\; |\\; \\; 3 \\;\\; | \\;\\; 5 \\;\\; |\\;\\;  8 \\; \\;|$</center>\n",
    "\n",
    "\n",
    "Questions :\n",
    "\n",
    "Considérons maintenant un tableau qui comporte 1 millions d'éléments.\n",
    "1. Combien de déplacements seront nécéssaires pour insérer une valeur en première position ?\n",
    "2. Et si l'on souhaite supprimer le premier élément ?"
   ]
  },
  {
   "cell_type": "markdown",
   "metadata": {},
   "source": [
    "Réponses : \n",
    "1. \n",
    "2. "
   ]
  },
  {
   "cell_type": "markdown",
   "metadata": {},
   "source": [
    "##### Remarques :\n",
    "* Le coût en temps de l'insertion d'un élément en première position est considérable puisqu'il faut décaler tous les éléments déjà présent.\n",
    "* Il en est de même pour la suppression.\n",
    "* L'utilisation des méthodes `insert` et `pop` sont donc à utiliser avec précaution."
   ]
  },
  {
   "cell_type": "markdown",
   "metadata": {},
   "source": [
    "## 3. Générer des tableaux"
   ]
  },
  {
   "cell_type": "markdown",
   "metadata": {},
   "source": [
    "### Listes en compréhension"
   ]
  },
  {
   "cell_type": "markdown",
   "metadata": {},
   "source": [
    "Voici un programme qui ajoute des éléments dans une liste façon successive:"
   ]
  },
  {
   "cell_type": "code",
   "execution_count": null,
   "metadata": {},
   "outputs": [],
   "source": [
    "L=[]\n",
    "for i in range(20):\n",
    "    if i%2==0:\n",
    "        L.append(i)\n",
    "print(L)"
   ]
  },
  {
   "cell_type": "markdown",
   "metadata": {},
   "source": [
    "Il existe une manière plus concise de procéder, la définition en compréhension :"
   ]
  },
  {
   "cell_type": "code",
   "execution_count": null,
   "metadata": {},
   "outputs": [],
   "source": [
    "# Une liste en compréhension\n",
    "L=[i for i in range(20) if i%2==0]\n",
    "print(L)"
   ]
  },
  {
   "cell_type": "markdown",
   "metadata": {},
   "source": [
    "#### Syntaxes\n",
    "Voici des types d'instructions possibles pour générer des listes en compréhension:\n",
    "\n",
    "*  [*fonction de x*  **for** *x in ensemble* ]\n",
    "*  [*fonction de x* **if** *condition sur x* **else** *autre fonction de x* **for** *x in ensemble* ]\n",
    "*  [*fonction de x* **for** *x in ensemble* **if** *condition sur x* ]\n",
    "\n",
    "#### Exemples:"
   ]
  },
  {
   "cell_type": "code",
   "execution_count": null,
   "metadata": {
    "scrolled": true
   },
   "outputs": [],
   "source": [
    "#1\n",
    "L=[3*i for i in range(11)]\n",
    "print(L)\n",
    "\n",
    "#2\n",
    "from random import *\n",
    "n=10\n",
    "Des=[randint(1,6) for i in range(n)]\n",
    "print(Des)\n",
    "\n",
    "#3\n",
    "pileface=[choice(['P','F']) for i in range(20)]\n",
    "print(pileface)"
   ]
  },
  {
   "cell_type": "markdown",
   "metadata": {},
   "source": [
    "##### Exercice 6:\n",
    "En utilisant la syntaxe des listes en compréhension :\n",
    "1. Générer les entiers naturels de 1 à 100.\n",
    "2. Générer les multiples de 5 inférieurs ou égaux à 100.\n",
    "3. Générer une liste des entiers naturels de 1 à 100 dans laquelle les multiples de 5 seront remplacées par le caractère `*`"
   ]
  },
  {
   "cell_type": "code",
   "execution_count": null,
   "metadata": {},
   "outputs": [],
   "source": [
    "#1.\n"
   ]
  },
  {
   "cell_type": "code",
   "execution_count": null,
   "metadata": {},
   "outputs": [],
   "source": [
    "#2.\n"
   ]
  },
  {
   "cell_type": "code",
   "execution_count": null,
   "metadata": {},
   "outputs": [],
   "source": [
    "#3.\n"
   ]
  },
  {
   "cell_type": "markdown",
   "metadata": {},
   "source": [
    "##### Exercice 7:\n",
    "En utilisant les fonctions `randint()` ou `choice()` du module `random` et la syntaxe des listes en compréhension:\n",
    "1. Générer une liste de 20 entiers naturels aléatoires entre 0 et 255.\n",
    "2. Générer 100 caractères au hasard parmi `a`,`b`,`c`"
   ]
  },
  {
   "cell_type": "code",
   "execution_count": null,
   "metadata": {},
   "outputs": [],
   "source": [
    "#1.\n",
    "from random import *\n"
   ]
  },
  {
   "cell_type": "code",
   "execution_count": null,
   "metadata": {},
   "outputs": [],
   "source": [
    "#2.\n"
   ]
  },
  {
   "cell_type": "markdown",
   "metadata": {},
   "source": [
    "##### Exercice 8 : Synthèse"
   ]
  },
  {
   "cell_type": "markdown",
   "metadata": {},
   "source": [
    "Le saviez-vous ? &#128513;\n",
    "\n",
    "Un nombre premier est un nombre qui n’est divisible que par un et par lui-même. \n",
    "\n",
    "Écrivez la fonction `premier(n)` qui renvoie la liste de tous les nombres premiers compris entre 1 et `n`, en utilisant la méthode du crible d’Eratosthène :\n",
    "* Créez une liste de 1000 éléments, chacun initialisé à la valeur 1.\n",
    "* Parcourez cette liste à partir de l’élément d’indice 2 : si l’élément analysé possède la valeur 1, mettez à zéro tous les autres éléments de la liste, dont les indices sont des multiples entiers de l’indice auquel vous êtes arrivé. Lorsque vous aurez parcouru ainsi toute la liste, les indices des éléments restés à 1 sont des nombres premiers.\n",
    "\n",
    "\n",
    "En effet : \n",
    "\n",
    "A partir de l’indice 2, vous annulez tous les éléments d’indices pairs : 4, 6, 8, 10, etc... Avec l’indice 3, vous annulez les éléments d’indices 6, 9, 12, 15, etc., et ainsi de suite. Seuls resteront à 1 les éléments dont les indices sont effectivement des nombres premiers.\n",
    "\n",
    "* Il reste enfin à reconstituer la liste des nombres premiers entre 1 et `n` à partir des indices des éléments restés à 1 (on pourra générer cette liste en compréhension)"
   ]
  },
  {
   "cell_type": "code",
   "execution_count": null,
   "metadata": {},
   "outputs": [],
   "source": [
    "def premier(n) :\n",
    "    '''renvoie la liste des nombres premiers\n",
    "    inférieurs ou égaux à n'''\n",
    "    \n",
    "    return\n",
    "                \n",
    "print(premier(1000))          "
   ]
  }
 ],
 "metadata": {
  "kernelspec": {
   "display_name": "Python 3",
   "language": "python",
   "name": "python3"
  },
  "language_info": {
   "codemirror_mode": {
    "name": "ipython",
    "version": 3
   },
   "file_extension": ".py",
   "mimetype": "text/x-python",
   "name": "python",
   "nbconvert_exporter": "python",
   "pygments_lexer": "ipython3",
   "version": "3.8.5"
  }
 },
 "nbformat": 4,
 "nbformat_minor": 2
}
