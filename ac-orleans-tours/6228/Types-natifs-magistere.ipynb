{
 "cells": [
  {
   "cell_type": "markdown",
   "metadata": {},
   "source": [
    "# Types de base."
   ]
  },
  {
   "cell_type": "markdown",
   "metadata": {},
   "source": [
    "## Affectation\n",
    "\n",
    "Le premier type que nous allons rencontrer sont les nombres. Mais avant de continuer nous devons parler de l'**affectation**. \n",
    "\n",
    "Tous les langages de programmation utilisent des *variables* pour stocker les données.  \n",
    "\n",
    "<details style =\"background-color: SkyBlue;\">\n",
    "   <summary > Cliquez ici pour des compléments sur les variables  </summary>\n",
    "Affecter une variable, c'est établir un lien entre le nom de la variable (son identificateur) et sa valeur (son contenu).\n",
    "Une variable apparaît dans un langage de programmation sous un *nom de variable* mais pour l'ordinateur il s'agit d'une référence désignant une adresse mémoire.\n",
    "A cet emplacement, est stockée une valeur bien déterminée, sous la forme d'une suite de nombres binaires.  \n",
    "Lors de l'utilisation de la variable par `python`, cette suite de nombres binaires sera décodée en fonction du type de la variable.  \n",
    "Concernant les entiers, vous avez vu lors du premier module, comment est codée l'information dans la mémoire , par exemple la suite de bits `10110` représentera le nombre 22.  \n",
    "Pour les flottant, vous verrez comment ils sont codés avec nos collègues de l'université.\n",
    "</details>  </br>\n",
    "\n",
    "Dans `python` l'affectation se fait grâce au symbole `=` .  \n",
    "`Python` est un langage qui effectue une typage dynamique. Cela signifie que lors de l'affectation dans une variable, `python` va déterminer le type de la variable automatiquement sans que vous ayez à le spécifier (ce n'est pas le cas dans tous les langages, [voir cet article de la wikipedia](https://fr.wikipedia.org/wiki/Typage_dynamique) )\n",
    "\n",
    "Les noms de variables sont constitués de lettres minuscules (a à z), de lettres majuscules (A à Z), de\n",
    "nombres (0 à 9) ou du caractère souligné _ . Vous ne pouvez pas utiliser d’espace dans un nom\n",
    "de variable.\n",
    "Un nom de variable ne doit pas débuter par un chiffre et il n’est pas recommandé de le faire\n",
    "débuter par le caractère _ (sauf cas très particuliers) .`Python` est sensible à la casse, les variables\n",
    "`test`, `Test` et `TesT` sont toutes différentes. Ne pas utiliser les mots “réservés” comme `print`, `for`... [liste des 35 mots réservés](https://docs.python.org/fr/3/reference/lexical_analysis.html?highlight=mot%20r%C3%A9serv%C3%A9s#keywords)\n",
    "\n",
    "Une bonne pratique est d'utiliser des noms de variable assez explicites comme `somme` au lieu de `s` ou encore `tableau_trie` ou `score_total`. Cela facilitera la relecture (par vous même ou une autre personne) de votre code et sa maintenance dans le temps. Une autre bonne pratique est l'utilisation des commentaires. Tout le texte qui suit le caractère `#` et sur la même ligne, ne sera pas interpété par python et sert pour écrire des commentaires.\n",
    "\n",
    "Pour écrire des commentaires sur plusieurs lignes, ou désactiver les lignes de code, on peut les entourer par une paire de triples guillemets ''' .\n",
    "\n",
    "## Affichage\n",
    "\n",
    "Avant de démarrer le codage, je vais terminer par l'affichage. C'est la fonction `print` qui sera utilisée. Vous pouvez demander l'affichage de plusieurs variables, il suffira de les séparer par des virgules. Nous verrons cela plus en détail quand nous parlerons des `strings`.\n",
    "Il est à noter que dans jupyter, si en dernière ligne d'une cellule vous écrivez le nom d'une variable, alors l'exécution de la cellule engendrera l'affichage de la valeur contenue dans cette dernière sans avoir besoin d'utilser `print`.\n",
    "\n",
    "\n",
    "\n",
    "Exécutez la cellule suivante pour constater les affectations et différents affichages."
   ]
  },
  {
   "cell_type": "code",
   "execution_count": 1,
   "metadata": {},
   "outputs": [
    {
     "name": "stdout",
     "output_type": "stream",
     "text": [
      "42\n",
      "52\n",
      "La valeur de a est  70\n",
      "La valeur de b est  70\n",
      "La valeur de c est  70\n",
      "Voici la valeur du nombre1 : 2.0 et celle de nombre2 : 5\n"
     ]
    },
    {
     "data": {
      "text/plain": [
       "42"
      ]
     },
     "execution_count": 1,
     "metadata": {},
     "output_type": "execute_result"
    }
   ],
   "source": [
    "# Affectation simple\n",
    "mon_nombre = 42\n",
    "print(mon_nombre)\n",
    "\n",
    "''' Commentaire multi-lignes.\n",
    "Evaluation puis affectation :\n",
    "Python évalue le terme de droite puis affecte le résultat dans la variable\n",
    "''' \n",
    "mon_resultat = 2 + 5*10\n",
    "print(mon_resultat)\n",
    "\n",
    "# Affectations multiples\n",
    "a = b = c = (2+5)*10 \n",
    "print('La valeur de a est ',a)\n",
    "print('La valeur de b est ',b)\n",
    "print('La valeur de c est ',c)\n",
    "\n",
    "\n",
    "# Affectations parallèles \n",
    "nombre1 , nombre2 = 10/5 , 10//2\n",
    "print('Voici la valeur du nombre1 : {0} et celle de nombre2 : {1}'.format(nombre1,nombre2))\n",
    "\n",
    "mon_resultat\n",
    "# La dernière ligne affichera le contenu de cette varaible alors que celle juste au dessus ne fera rien.\n",
    "mon_nombre"
   ]
  },
  {
   "cell_type": "markdown",
   "metadata": {},
   "source": [
    "### Exercice 1 : Echauffement léger.\n",
    "1. Dans la cellule suivante, affecter la valeur 515 à la variable nommé `largeur` et la valeur 1201 à la variable nommée `longueur`.\n",
    "2. Ensuite créez une variable `aire` contenant l'aire du rectangle de dimensions `largeur` et `longueur`, vous utiliserez les variables précédentes pour faire le calcul."
   ]
  },
  {
   "cell_type": "code",
   "execution_count": null,
   "metadata": {},
   "outputs": [],
   "source": [
    "# Votre code ici.\n"
   ]
  },
  {
   "cell_type": "markdown",
   "metadata": {},
   "source": [
    "## Les nombres\n",
    "\n",
    " Dans `Python`, ils sont de deux types usuels : \n",
    "- les `int` pour *integers* ou entiers;\n",
    "- les `float` pour *flottants* qui sont une approximation des réels.\n",
    "\n",
    "Pour récupérer le type d'une variable sous python, la syntaxe est la suivante : `type(variable)`"
   ]
  },
  {
   "cell_type": "code",
   "execution_count": null,
   "metadata": {},
   "outputs": [],
   "source": [
    "# Exécutez la cellule suivante et interprétez la différence entre ces deux résultats.\n",
    "var1 , var2 = 50 , 10\n",
    "\n",
    "div1 = var1/var2\n",
    "div2 = var1//var2\n",
    "\n",
    "print('La division 1 donne :',div1,' la réponse est de type',type(div1))\n",
    "print('La division 2 donne :',div2,' la réponse est de type',type(div2))\n",
    "\n",
    "# Votre réponse ici en commentaire :\n",
    "# ..."
   ]
  },
  {
   "cell_type": "code",
   "execution_count": null,
   "metadata": {},
   "outputs": [],
   "source": [
    "# Exécutez cette cellule et trouvez à quoi correspondent ces opérateurs (pas de triche, ne cherchez pas la réponse plus loin 👀 )\n",
    "print(2**8)\n",
    "print(25//4)\n",
    "print(25%4)\n",
    "\n",
    "# Votre réponse ici en commentaire :\n",
    "# ** est l'opérateur  ...\n",
    "# // est l'opérateur  ...\n",
    "# % est l'opérateur  ..."
   ]
  },
  {
   "cell_type": "markdown",
   "metadata": {},
   "source": [
    "Voici la liste des opérations entre nombres :\n",
    "\n",
    "| Opération       | Résultat                                                                                             | \n",
    "|-----------------|------------------------------------------------------------------------------------------------------|\n",
    "| x + y           | somme de x et y                                                                                      |\n",
    "| x - y           | différence de x et y                                                                                 | \n",
    "| x * y           | produit de x et y                                                                                    |\n",
    "| x / y           | quotient de x et y                                                                                   |  \n",
    "| x // y          | quotient entier de x et y                                                                            |\n",
    "| x % y           | reste de x / y                                                                                       |\n",
    "| -x              | opposé de x                                                                                         | \n",
    "| +x              | x inchangé                                                                                           |\n",
    "| abs(x)          | valeur absolue de x                                                                                  |\n",
    "| int(x)          | x converti en nombre entier                                                                          | \n",
    "| float(x)        | x converti en nombre à virgule flottante                                                             | \n",
    "| divmod(x, y)    | la paire (x // y, x % y)                                                                             | \n",
    "| pow(x, y)       | x à la puissance y                                                                                   | \n",
    "| x ** y          | x à la puissance y                                                                                   | \n",
    "| round(x)          |   Arrondi un nombre à l'entier le plus proche                                                                                 |     \n",
    "| floor(x)          |   Arrondi à l'entier immédiatement inférieur                                                                                | "
   ]
  },
  {
   "cell_type": "markdown",
   "metadata": {},
   "source": [
    "### Quelques comportements à connaître\n",
    "- Le type de résultat d'une variable numérique"
   ]
  },
  {
   "cell_type": "code",
   "execution_count": null,
   "metadata": {},
   "outputs": [],
   "source": [
    "a , pi = 12 , 3.14159\n",
    "s_carre = a**2\n",
    "s_disque = pi*a**2\n",
    "print(s_disque)\n",
    "print(type(a),type(pi),type(s_carre),type(s_disque))\n",
    "\n",
    "# Expliquez les types des variables `s_carre` et `s_disque`\n",
    "# Réponses :"
   ]
  },
  {
   "cell_type": "markdown",
   "metadata": {},
   "source": [
    "- L'incrémentation ou décrémentation 'rapide'"
   ]
  },
  {
   "cell_type": "code",
   "execution_count": 4,
   "metadata": {},
   "outputs": [
    {
     "name": "stdout",
     "output_type": "stream",
     "text": [
      "43\n",
      "44\n",
      "24\n",
      "6\n",
      "36\n",
      "1\n"
     ]
    }
   ],
   "source": [
    "# Une syntaxe bien pratique ! \n",
    "ma_variable_bien_longue_a_ecrire = 42\n",
    "\n",
    "# Je souhaite l'incrémenter de une unité , je peux faire ceci :\n",
    "# (notez que commencer à écrire le nom de la variable puis appuyer sur la touche tabulation permet\n",
    "# (avec certains éditeurs) d'utiliser la complétion automatique)\n",
    "ma_variable_bien_longue_a_ecrire = ma_variable_bien_longue_a_ecrire + 1 \n",
    "print(ma_variable_bien_longue_a_ecrire)\n",
    "\n",
    "# Ou alors je peux faire cela  :\n",
    "ma_variable_bien_longue_a_ecrire += 1\n",
    "print(ma_variable_bien_longue_a_ecrire)\n",
    "\n",
    "# Cette syntaxe fonctionne aussi avec les autres opérateurs :\n",
    "ma_variable_bien_longue_a_ecrire -= 20\n",
    "print(ma_variable_bien_longue_a_ecrire)\n",
    "\n",
    "ma_variable_bien_longue_a_ecrire //=4\n",
    "print(ma_variable_bien_longue_a_ecrire)\n",
    "\n",
    "ma_variable_bien_longue_a_ecrire **=2\n",
    "print(ma_variable_bien_longue_a_ecrire)\n",
    "\n",
    "ma_variable_bien_longue_a_ecrire %=5\n",
    "print(ma_variable_bien_longue_a_ecrire)\n"
   ]
  },
  {
   "cell_type": "markdown",
   "metadata": {},
   "source": [
    "- Le piège classique des flottants ! 🥴"
   ]
  },
  {
   "cell_type": "code",
   "execution_count": null,
   "metadata": {},
   "outputs": [],
   "source": [
    "# Devinette : avant d'exécuter cette cellule, devinez la valeur de la variable `a` à l'issue de cette série de calculs:\n",
    "# Votre réponse ici.\n",
    "\n",
    "depart = 0.3\n",
    "a = depart - 0.1\n",
    "a -= 0.1\n",
    "a -= 0.1\n",
    "print(a)\n",
    "\n",
    "# L'explication est vue avec le codage des flottants dans un ordinateur\n",
    "# ⚡ Soyez toujours très prudent lors de la comparaision de flottants. ⚡"
   ]
  },
  {
   "cell_type": "markdown",
   "metadata": {},
   "source": [
    "### Exercice 2 : Algorithme débranché\n",
    "\n",
    "Que fait le code suivant ? Répondre sans utiliser `python`.\n",
    "```python\n",
    "x=3\n",
    "y=5\n",
    "z=y\n",
    "x=z\n",
    "y=x\n",
    "```\n",
    "\n",
    "Votre réponse ici : \n"
   ]
  },
  {
   "cell_type": "markdown",
   "metadata": {},
   "source": [
    "### Exercice 3 : Calcul de durée ⌚\n",
    "Complétez les lignes dans la cellule suivante de façon à calculer le nombre de jours , heure, minutes et secondes correspondant à 1 000 000 de secondes."
   ]
  },
  {
   "cell_type": "code",
   "execution_count": null,
   "metadata": {},
   "outputs": [],
   "source": [
    "temps_total = 1000000\n",
    "# Réponse ici\n",
    "nb_jours = None\n",
    "nb_heures = None\n",
    "nb_minutes = None\n",
    "nb_secondes = None\n",
    "\n",
    "reponse = \"{} secondes correspondent à : {} jours, {} heures, {} minutes et {} secondes\"\n",
    "print(reponse.format(temps_total,nb_jours,nb_heures,nb_minutes,nb_secondes))"
   ]
  },
  {
   "cell_type": "markdown",
   "metadata": {},
   "source": [
    "### Exercice 4 : Conversions binaire/entiers\n",
    "A l'aide des opérations vues précédement, convertir en base décimale le nombre binaire 10010011 . Il n'est pas demandé de réaliser une boucle pour répondre à cette question, mais c'est envisageable."
   ]
  },
  {
   "cell_type": "code",
   "execution_count": null,
   "metadata": {},
   "outputs": [],
   "source": [
    "# Votre code ici.\n",
    "reponse = None\n",
    "print(reponse)"
   ]
  },
  {
   "cell_type": "markdown",
   "metadata": {},
   "source": [
    "Complément :\n",
    "- La fonction `int` permet de convertir un flottant ou une chaîne de caractère vers un entier. On peut aussi spécifier la base souhaitée, par défaut la base vaut 10.\n",
    "- La fonction `float` permet de convertir un flottant ou une chaîne de caractère vers un entier. "
   ]
  },
  {
   "cell_type": "code",
   "execution_count": null,
   "metadata": {},
   "outputs": [],
   "source": [
    "# Exemples :\n",
    "print(type('8') , type(int('8')))\n",
    "print(int('1001',2))\n",
    "print(int('A',16))\n",
    "print(float(10_000_000)) # Les nombres peuvent être formatés avec des tirets du bas pour faciliter leur lecture.\n",
    "\n",
    "# Vérifiez ici votre réponse à l'exercice 4 à l'aide d'une des fonctions précédentes.\n",
    "# Votre code ici\n"
   ]
  },
  {
   "cell_type": "markdown",
   "metadata": {},
   "source": [
    "## Les booléens\n",
    "\n",
    "Au coeur de l’ordinateur se trouvent des circuits électroniques. Ce sont les tensions électriques qui circulent dans ces circuits qui vont représenter toute l’information manipulée par l’ordinateur.\n",
    "\n",
    "- Une tension haute correspondra au chiffre 1. En logique, cela sera l’équivalent du Vrai ;\n",
    "- une tension basse correspondra au chiffre 0. En logique, cela sera l’équivalent du Faux .\n",
    "\n",
    "En python les booléens se notent : `True` et `False` mais aussi `0` et `1`.   \n",
    "\n",
    "Voici un tableau d’équivalence entre l’algèbre de Boole et Python :\n",
    "\n",
    "\n",
    "| En algèbre booléenne      |En python |\n",
    "|:------------:|:---------:|\n",
    "|Vrai|`True` ou `1`|\n",
    "|Faux|`False` ou `0`|\n",
    "|a et b sont ils égaux? | `a == b` (et c’est un booléen) |\n",
    "| a OU b | `a or b` ou `a \\| b` |\n",
    "|a ET b | `a and b` ou `a & b`|\n",
    "|NON (a) | `not (a)`|\n",
    "|a XOR b | `a ^ b` ou `(a and not b) or (not a and b)`|\n",
    "\n",
    "Les opérateurs de comparaison retournent des booléens, ils sont fréquement utilisés pour définir des conditions dans les instructions conditionnelles (`if` et `while`).\n",
    "\n",
    "|Syntaxe python|Signification lorsque le résultat est `True` |\n",
    "|:--------------:|:---------------------------------------------:|\n",
    "|`x == y`      |x est égal à y                               |\n",
    "|`x != y`      |x est différent de  y                        |\n",
    "|`x > y`       |x est supérieur strictement à y              |\n",
    "|`x < y`       |x est inférieur strictement à y              |\n",
    "|`x >= y`      |x est supérieur ou égal à y                  |\n",
    "|`x <= y`      |x est inférieur ou égal à  y                 |"
   ]
  },
  {
   "cell_type": "markdown",
   "metadata": {},
   "source": [
    "Dans le contexte des opérations booléennes et quand des expressions sont utilisées par les instructions conditionnelles  (`if` , `while`), les valeurs suivantes sont considérées comme fausses : `False`, `None`, `0` quel que soit le type, la chaîne vide et tout conteneur vide (y compris les chaînes, n-uplets, listes, dictionnaires, ensembles, ensembles gelés). Toutes les autres valeurs sont considérées comme vraies. \n",
    "\n",
    "**Remarques**\n",
    "\n",
    "L'expression `x and y` commence par évaluer `x` ; si `x` est faux, sa valeur est renvoyée ; sinon, `y` est évalué et la valeur résultante est renvoyée.\n",
    "\n",
    "L'expression `x or y` commence par évaluer `x` ; si `x` est vrai, sa valeur est renvoyée ; sinon, `y` est évalué et la valeur résultante est renvoyée.\n"
   ]
  },
  {
   "cell_type": "markdown",
   "metadata": {},
   "source": [
    "### Exercice 5 : Calculs de booléens"
   ]
  },
  {
   "cell_type": "code",
   "execution_count": null,
   "metadata": {},
   "outputs": [],
   "source": [
    "# Dans chacun des cas suivants, déterminez la valeur du booléen repX puis vérifiez en exécutant la cellule.\n",
    "#1\n",
    "x = 3\n",
    "rep1 = (x**2 == 7)\n",
    "# Votre réponse : \n",
    "\n",
    "#2\n",
    "x , y , z = 3 , 4 , 5\n",
    "rep2 = (x**2 + y**2 == z**2)\n",
    "# Votre réponse :\n",
    "\n",
    "#3 \n",
    "a , b = 3, -7\n",
    "rep3 = (a**3 > 50 and b**2 < 50)\n",
    "# Votre réponse : \n",
    "\n",
    "#4\n",
    "a , b = 3, -7\n",
    "rep4 = (a**3 > 50 and b**2<50) or (a**2 < 10 and b**2 > 10)\n",
    "# Votre réponse : \n",
    "\n",
    "#5\n",
    "rep5 = (not(3*0.1 == 0.3))\n",
    "# Votre réponse : \n",
    "\n",
    "# Affichage des réponses (ne vous souciez pas du for pour l'instant.)\n",
    "for i in range(1,6):\n",
    "    variable = 'rep'+str(i)\n",
    "    print('La variable {0} a pour valeur {1}'.format(variable,eval(variable)))"
   ]
  },
  {
   "cell_type": "markdown",
   "metadata": {},
   "source": [
    "### Exercice 6 : Table de vérité\n",
    "\n",
    "Soient $a$ et $b$ deux booléens. On définit la loi **Delta** telle que :\n",
    "  $$ a \\text{ Delta } b = (a + b) \\cdot \\overline{(a \\cdot b)} $$\n",
    "On rappelle qu'en algèbre booléenne \n",
    "\n",
    "|Opérateur|Symbole|\n",
    "|:----:|:---:|\n",
    "| ou | + |\n",
    "| et | $\\cdot$ |\n",
    "| non(truc) | $\\overline{\\text{truc}}$ |\n",
    "\n",
    "1. Compléter la table de la loi Delta en utilisant `Python` (cellule suivante) pour les calculs\n",
    "\n",
    "|a         |b       |  $a \\text{ Delta } b$   |\n",
    "|----------|--------|-------------------------|\n",
    "|0         |0       |                         |\n",
    "|0         |1       |                         |\n",
    "|1         |0       |                         |\n",
    "|1         |1       |                         |\n",
    "\n",
    "2. Que se cache-t-il derrière la loi Delta ?\n"
   ]
  },
  {
   "cell_type": "code",
   "execution_count": null,
   "metadata": {},
   "outputs": [],
   "source": [
    "# Vos 'calculs' ici\n"
   ]
  },
  {
   "cell_type": "markdown",
   "metadata": {},
   "source": [
    "## Les chaines de caractères\n",
    "\n",
    "Dernier type 'natif' que nous étudierons dans ce notebook (courage c'est bientôt fini 🥳 ) , les `strings` ou chaînes de caractères.  \n",
    "Les chaînes littérales peuvent être écrites de différentes manières :\n",
    "\n",
    "- Les guillemets simples : `'autorisent les \"guillemets\"'`\n",
    "-  Les guillemets : ` \"autorisent les guillemets 'simples'\" `.\n",
    "-  Guillemets triples :  `'''Trois guillemets simples''' ` , `\"\"\"Trois guillemets\"\"\" ` (souvent utilisés pour la documentation des fonctions et permet de passer à la ligne)\n",
    "\n",
    "La chaîne de caractère vide s'obtient avec `''`  \n",
    "Les chaînes peuvent également être créés à partir d'autres objets à l'aide de la fonction `str`. \n",
    "\n",
    "**Exemple :**"
   ]
  },
  {
   "cell_type": "code",
   "execution_count": null,
   "metadata": {},
   "outputs": [],
   "source": [
    "from math import pi\n",
    "# Calcul d'un périmètre\n",
    "mon_nombre = 2*pi*4\n",
    "print(mon_nombre , type(mon_nombre))\n",
    "\n",
    "# Conversion du flottant vers une chaine de caratère \n",
    "ma_reponse = str(mon_nombre)\n",
    "print(ma_reponse,type(ma_reponse))"
   ]
  },
  {
   "cell_type": "markdown",
   "metadata": {},
   "source": [
    "Les chaînes de caractère peuvent utiliser les opérations suivantes :\n",
    "\n",
    "| Opération            | Résultat                                                                               |\n",
    "|----------------------|----------------------------------------------------------------------------------------|\n",
    "| x in s               | True si un élément de s est égal à x, sinon False                                      | \n",
    "| x not in s           | False si un élément de s est égal à x, sinon True                                      |\n",
    "| s + t                | la concaténation de s et t                                                             |\n",
    "| s * n or n * s       | équivalent à ajouter s n fois à lui même                                               |\n",
    "| s[i]                 | ie élément de s en commençant par 0                                                    |\n",
    "| len(s)               | longueur de s                                                                          |\n",
    "| min(s)               | plus petit élément de s                                                                |\n",
    "| max(s)               | plus grand élément de s                                                                |\n",
    "| s.index(x[, i[, j]]) | indice de la première occurrence de x dans s (à ou après l'indice i et avant indice j) |\n",
    "| s.count(x)           | nombre total d'occurrences de x dans s                                                 |\n",
    "\n",
    "Ces opérations sont aussi valablent sur d'autres types composés comme les listes."
   ]
  },
  {
   "cell_type": "code",
   "execution_count": null,
   "metadata": {},
   "outputs": [],
   "source": [
    "## Illustations\n",
    "texte = 'Ma chaîne de caractères'\n",
    "\n",
    "# in\n",
    "print('a' in texte)\n",
    "print('x' in texte)\n",
    "\n",
    "# Concaténation\n",
    "texte1 = \"Coucou \"\n",
    "texte2 = \"tout le monde\"\n",
    "print(texte1+texte2)\n",
    "\n",
    "# La multiplication magique ✨\n",
    "print(10*\"Cette punition n'est ni ennuyeuse ni inutile \\n\")\n",
    "\n"
   ]
  },
  {
   "cell_type": "code",
   "execution_count": null,
   "metadata": {},
   "outputs": [],
   "source": [
    "# Accès à l'élément de rang i\n",
    "# Attention commence à 0 et accès \n",
    "#        012...................-1   \n",
    "#        |||...................|\n",
    "texte = 'Ma chaîne de caractères'\n",
    "print(texte[0])\n",
    "print(texte[1])\n",
    "print(texte[2]) # Caractère 'espace'\n",
    "print(texte[-1])  # signe négatif = numératation à partir de la fin (commence à -1)\n",
    "print(texte[-2])  "
   ]
  },
  {
   "cell_type": "code",
   "execution_count": null,
   "metadata": {},
   "outputs": [],
   "source": [
    "#Longueur :\n",
    "texte = 'Ma chaîne de caractères'\n",
    "print(len(texte))\n",
    "print(texte[len(texte)-1]) # accès au dernier élément, identique à print(texte[-1]) \n",
    "\n"
   ]
  },
  {
   "cell_type": "code",
   "execution_count": null,
   "metadata": {},
   "outputs": [],
   "source": [
    "# index\n",
    "texte = 'Ma chaîne de caractères'\n",
    "\n",
    "texte.index('c') # premier indice correspondant à la lettre 'c'\n",
    "# texte.index('x')  # causera une erreur car pas de 'x'"
   ]
  },
  {
   "cell_type": "code",
   "execution_count": null,
   "metadata": {},
   "outputs": [],
   "source": [
    "# compter des caractères\n",
    "texte = 'Ma chaîne de caractères'\n",
    "print(texte.count('a'))\n",
    "print(texte.count(' ')) #Compter les espace\n"
   ]
  },
  {
   "cell_type": "markdown",
   "metadata": {},
   "source": [
    "### Quelques méthodes (fonctions) sur les chaînes de caractères.\n",
    "\n",
    "Beaucoup de méthodes existent sur les chaînes de caractères, pour avoir une liste exaustive, allez [ici](https://docs.python.org/fr/3/library/stdtypes.html?highlight=comparaison#string-methods)\n",
    "Je vais vous présenter une sélection d'entre elles\n"
   ]
  },
  {
   "cell_type": "code",
   "execution_count": null,
   "metadata": {},
   "outputs": [],
   "source": [
    "chaine = \"Une chaîne de caractères\"\n",
    "#1 Passage en majuscules\n",
    "print(\"-1-\")\n",
    "print(chaine.upper())\n",
    "#2 Passage en minuscules\n",
    "print(\"-2-\")\n",
    "print(chaine.lower())\n",
    "#3 Mettre sous forme 'capitale' (Nom)\n",
    "print(\"-3-\")\n",
    "print('dupond'.capitalize())\n",
    "#4 Découpage suivant un paramètre\n",
    "print('-4-')\n",
    "print(chaine.split()) # si pas de paramètre, découpe suivant les espaces\n",
    "#5 Recherche une suite de caractère et renvoie le premier indice de rencontre\n",
    "print('-5-')\n",
    "print(chaine.find('cha'))\n",
    "#6 Remplacement\n",
    "print(\"-6-\")\n",
    "print(chaine.replace('ne','me'))"
   ]
  },
  {
   "cell_type": "markdown",
   "metadata": {},
   "source": [
    "### Affichage\n",
    "\n",
    "La fonction `print` combinée avec la concaténation permet des affichages satisfaisants. Plus loin, vous verez la méthode `format` qui, je trouve, est plus pratique."
   ]
  },
  {
   "cell_type": "code",
   "execution_count": null,
   "metadata": {},
   "outputs": [],
   "source": [
    "# Il est possible de passer plusieurs paramètres à print, il se chargera de la conversion en string tout seul !\n",
    "print('Le résultat de 1+1 est : ',1+1)"
   ]
  },
  {
   "cell_type": "code",
   "execution_count": null,
   "metadata": {},
   "outputs": [],
   "source": [
    "# Avec la concaténation, c'est à vous de faire la conversion sous peine d'erreurs\n",
    "print('Le résultat de 1+1 est : '+str(1+1))\n",
    "# print('Le résultat de 1+1 est : '+(1+1))  # erreur"
   ]
  },
  {
   "cell_type": "code",
   "execution_count": null,
   "metadata": {},
   "outputs": [],
   "source": [
    "from math import pi\n",
    "# Calcul d'un périmètre\n",
    "rayon = 5\n",
    "mon_nombre = 2*pi*rayon\n",
    "# Penser à convertir les nombres en strings pour la concaténation !\n",
    "reponse = \"Le périmètre d'un cercle de rayon \"+str(rayon)+\" est de \"+str(mon_nombre)\n",
    "print(reponse)"
   ]
  },
  {
   "cell_type": "markdown",
   "metadata": {},
   "source": [
    "#### La méthode `format`\n",
    "Pour permettre un affichage 'propre', voici quelques usage de la méthode `format`. Sur internet on retrouve régulièrement un affichage utilisant `format`."
   ]
  },
  {
   "cell_type": "code",
   "execution_count": null,
   "metadata": {},
   "outputs": [],
   "source": [
    "# Chaque {.} est remplacée par le paramètre d'indice correspondant\n",
    "'La somme de 1 et 2 est : {0}'.format(1+2)"
   ]
  },
  {
   "cell_type": "code",
   "execution_count": null,
   "metadata": {},
   "outputs": [],
   "source": [
    "'Mon nom est {0}, {0} {1}'.format('James','BOND')"
   ]
  },
  {
   "cell_type": "code",
   "execution_count": null,
   "metadata": {},
   "outputs": [],
   "source": [
    "cote = 3\n",
    "texte = \"L'aire du carré de côté {0} est : {1} cm²\"\n",
    "texte.format(cote,cote**2)"
   ]
  },
  {
   "cell_type": "code",
   "execution_count": null,
   "metadata": {},
   "outputs": [],
   "source": [
    "# il est possible d'employer des noms de variable à la place des indices\n",
    "'{prod} : {prix} €'.format(prix=1.15,prod='baguette')"
   ]
  },
  {
   "cell_type": "code",
   "execution_count": null,
   "metadata": {},
   "outputs": [],
   "source": [
    "# Possibilités de spécifier un format spécifique\n",
    "\"int: {0:d};  hex: {0:x};  oct: {0:o};  bin: {0:b}\".format(42)"
   ]
  },
  {
   "cell_type": "markdown",
   "metadata": {},
   "source": [
    "### Exercice 7 \n",
    "\n",
    "Expliquez l'erreur du code suivant puis corrigez-le dans la cellule suivante.\n",
    "\n",
    "```python\n",
    "largeur = 3\n",
    "longueur = 7\n",
    "aire = largeur*longueur\n",
    "print(\"L'aire sera de \"+aire)\n",
    "```\n"
   ]
  },
  {
   "cell_type": "code",
   "execution_count": null,
   "metadata": {},
   "outputs": [],
   "source": [
    "largeur = 3\n",
    "longueur = 7\n",
    "aire = largeur*longueur\n",
    "print(\"L'aire sera de \"+aire)"
   ]
  },
  {
   "cell_type": "markdown",
   "metadata": {},
   "source": [
    "### Exercice 8\n",
    "Compléter le code suivant, pour qu'il affiche les initiales de la personne séparées par un `.`"
   ]
  },
  {
   "cell_type": "code",
   "execution_count": null,
   "metadata": {},
   "outputs": [],
   "source": [
    "# Niveau facile \n",
    "nom = 'Dupond'\n",
    "prenom = 'Marc'\n",
    "initiales = None\n",
    "print(initiales)\n"
   ]
  },
  {
   "cell_type": "markdown",
   "metadata": {},
   "source": [
    "### Exercice 9\n",
    "Déterminer si deux chaines de caractères sont identiques sans tenir compte des majuscules et minuscules.  \n",
    "Par exemple, 'Dupont' et 'dupont' ou 'DuPoNt' sont égales. Par contre, 'Dupont' et 'Dupond' sont différents.  \n",
    "Complétez l'affectation de la variable `comparaison` de façon à obtenir un **booléen**  \n",
    "A la fin, votre script donnera un str du style : \"Les chaine \\<chaine1\\>  et \\<chaine2\\> representent le même texte : \\<comparaison\\>\" "
   ]
  },
  {
   "cell_type": "code",
   "execution_count": null,
   "metadata": {},
   "outputs": [],
   "source": [
    "chaine1 = 'Dupond'\n",
    "chaine2 = 'dupond'\n",
    "# Calcul via un booléen\n",
    "comparaison = None\n",
    "\n",
    "# Affichage\n",
    "texte = None\n"
   ]
  }
 ],
 "metadata": {
  "kernelspec": {
   "display_name": "Python 3",
   "language": "python",
   "name": "python3"
  },
  "language_info": {
   "codemirror_mode": {
    "name": "ipython",
    "version": 3
   },
   "file_extension": ".py",
   "mimetype": "text/x-python",
   "name": "python",
   "nbconvert_exporter": "python",
   "pygments_lexer": "ipython3",
   "version": "3.7.4"
  }
 },
 "nbformat": 4,
 "nbformat_minor": 4
}
