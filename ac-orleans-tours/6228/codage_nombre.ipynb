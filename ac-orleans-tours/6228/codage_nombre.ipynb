{
 "cells": [
  {
   "cell_type": "markdown",
   "metadata": {},
   "source": [
    "## Codage des nombres."
   ]
  },
  {
   "cell_type": "markdown",
   "metadata": {},
   "source": [
    " On a appris en cours à passer allègrement d'une base à l'autre pour coder les entiers: décimal , binaire, hexadécimal. <br>\n",
    " On va voir comment python nous permet de le faire aisément.\n",
    " \n",
    "```python\n",
    "a= 28\n",
    "b= 1587\n",
    "```\n",
    "On va transformer ces nombres en binaire et en hexadécimal. On peut bien sur créer de toute pièce des programmes qui font le boulot mais python nous permet ces changements de base de façon bien plus rapide.\n",
    "\n",
    "* **les fonctions prédéfinies** : c'est la version magique . Il existe une fonction qui transforme directement une écriture décimale en binaire par exemple.\n",
    "* **La fonction format**, un peu plus subtile à utiliser."
   ]
  },
  {
   "cell_type": "code",
   "execution_count": 2,
   "metadata": {},
   "outputs": [
    {
     "data": {
      "text/plain": [
       "'0b11100'"
      ]
     },
     "execution_count": 2,
     "metadata": {},
     "output_type": "execute_result"
    }
   ],
   "source": [
    "a =28\n",
    "bin(a)\n"
   ]
  },
  {
   "cell_type": "code",
   "execution_count": 5,
   "metadata": {},
   "outputs": [
    {
     "data": {
      "text/plain": [
       "'0x1c'"
      ]
     },
     "execution_count": 5,
     "metadata": {},
     "output_type": "execute_result"
    }
   ],
   "source": [
    "hex(a)"
   ]
  },
  {
   "cell_type": "markdown",
   "metadata": {},
   "source": [
    "On remarque que l'on obtient des chaînes de caractères (**type str**) et que le résultat est préfixé par 0b pour le binaire et 0x pour l'hexa. ***format*** nous permettra quelques améliorations.\n",
    "\n",
    "Pour obtenir un nombre en décimal, on va utiliser la structure   ***int('valeur', base)***"
   ]
  },
  {
   "cell_type": "code",
   "execution_count": 9,
   "metadata": {},
   "outputs": [
    {
     "name": "stdout",
     "output_type": "stream",
     "text": [
      "10\n",
      "255\n",
      "485\n"
     ]
    }
   ],
   "source": [
    "print(int('1010',2))\n",
    "print(int('FF',16))\n",
    "print(int('745',8))"
   ]
  },
  {
   "cell_type": "markdown",
   "metadata": {},
   "source": [
    "Il y a même plus simple :"
   ]
  },
  {
   "cell_type": "code",
   "execution_count": 12,
   "metadata": {},
   "outputs": [
    {
     "data": {
      "text/plain": [
       "86"
      ]
     },
     "execution_count": 12,
     "metadata": {},
     "output_type": "execute_result"
    }
   ],
   "source": [
    "0b1010110"
   ]
  },
  {
   "cell_type": "markdown",
   "metadata": {},
   "source": [
    "### La fonction format.\n",
    "\n",
    "    Sans entrer dans les détails, on va voir que cette fonction permet, sans surprise, de formater l'affichage.\n",
    "\n",
    "    Il va être possible d'obtenir notre écriture en binaire sans le *'0b'* , sur un octet...\n"
   ]
  },
  {
   "cell_type": "code",
   "execution_count": 3,
   "metadata": {},
   "outputs": [
    {
     "name": "stdout",
     "output_type": "stream",
     "text": [
      "11100\n",
      "00011100\n"
     ]
    },
    {
     "data": {
      "text/plain": [
       "str"
      ]
     },
     "execution_count": 3,
     "metadata": {},
     "output_type": "execute_result"
    }
   ],
   "source": [
    "print(\"{:b}\".format(a))\n",
    "print(\"{0:{fill}8b}\".format(a,fill ='0'))\n",
    "format(25,'b')\n"
   ]
  },
  {
   "cell_type": "markdown",
   "metadata": {},
   "source": [
    "Remarque , on obtient bien des types str.\n",
    "### A vous !\n",
    "   Adaptez l'exemple précédent pour afficher  le nombre 195 en héxadécimal sans '0x'\n",
    "     \n",
    "   Faites de même avec le nombre 253 , mais avec les lettres affichées en majuscule.\n",
    "     \n",
    "     "
   ]
  },
  {
   "cell_type": "code",
   "execution_count": null,
   "metadata": {},
   "outputs": [],
   "source": []
  },
  {
   "cell_type": "markdown",
   "metadata": {},
   "source": [
    "## Les entiers relatifs \n",
    "\n",
    "On a vu que l'on utilise la méthode du complément à 2 (C2) pour représenter les entiers en machine.<br>\n",
    "On rappelle que sur 8 bits , le premier bit sert à coder le signe (0 pour positif et 1 pour négatif)<br>\n",
    "Lorsque l'on s'intéresse au C2, il faut d'abord s'entendre sur le nombre de bits sur lequel on travaille. Certains processeurs (plutôt anciens) travaillent sur des représentations sur 8 bits. Dans ce cas les entiers relatifs vont de $-2^{7}$ à $2^{7}-1$. "
   ]
  },
  {
   "cell_type": "code",
   "execution_count": 6,
   "metadata": {},
   "outputs": [
    {
     "name": "stdout",
     "output_type": "stream",
     "text": [
      "00011100\n",
      "11100100\n"
     ]
    }
   ],
   "source": [
    "print(\"{0:{fill}8b}\".format(a%256, fill='0'))\n",
    "b=-a\n",
    "print(\"{0:{fill}8b}\".format(b%256, fill='0'))"
   ]
  },
  {
   "cell_type": "code",
   "execution_count": null,
   "metadata": {},
   "outputs": [],
   "source": []
  }
 ],
 "metadata": {
  "kernelspec": {
   "display_name": "Python 3",
   "language": "python",
   "name": "python3"
  },
  "language_info": {
   "codemirror_mode": {
    "name": "ipython",
    "version": 3
   },
   "file_extension": ".py",
   "mimetype": "text/x-python",
   "name": "python",
   "nbconvert_exporter": "python",
   "pygments_lexer": "ipython3",
   "version": "3.8.5"
  }
 },
 "nbformat": 4,
 "nbformat_minor": 2
}
