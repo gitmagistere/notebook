{
 "cells": [
  {
   "cell_type": "code",
   "execution_count": 2,
   "metadata": {},
   "outputs": [
    {
     "data": {
      "text/plain": [
       "[[50],\n",
       " [50, 49],\n",
       " [44, 40, 45],\n",
       " [33, 37, 35, 41],\n",
       " [31, 28, 34, 30, 33],\n",
       " [21, 22, 22, 26, 25, 28],\n",
       " [18, 13, 16, 17, 24, 23, 24],\n",
       " [9, 10, 9, 12, 16, 12, 17, 14],\n",
       " [8, 1, 2, 7, 8, 9, 5, 9, 4]]"
      ]
     },
     "execution_count": 2,
     "metadata": {},
     "output_type": "execute_result"
    }
   ],
   "source": [
    "dessin = [[0],\n",
    "         [6, 4], \n",
    "         [7, 3, 4], \n",
    "         [2, 3, 1, 8], \n",
    "         [9, 6, 8, 4, 5], \n",
    "         [3, 6, 5, 2, 1, 4], \n",
    "         [8, 3, 4, 1, 8, 6, 7], \n",
    "         [1, 8, 2, 4, 7, 3, 8, 5], \n",
    "         [8, 1, 2, 7, 8, 9, 5, 9, 4]]\n",
    "\n",
    "nouv_dessin = [[],[],[],[],[],[],[],[],dessin[8]]\n",
    "for lig in range(8, 0, -1): \n",
    "    for col in range(lig):\n",
    "        plus_grande = max(nouv_dessin[lig][col], nouv_dessin[lig][col+1])\n",
    "        nouv_dessin[lig-1].append(dessin[lig-1][col] + plus_grande)\n",
    "       \n",
    "nouv_dessin"
   ]
  },
  {
   "cell_type": "code",
   "execution_count": 2,
   "metadata": {},
   "outputs": [
    {
     "data": {
      "text/plain": [
       "41"
      ]
     },
     "execution_count": 2,
     "metadata": {},
     "output_type": "execute_result"
    }
   ],
   "source": [
    "dessin = [[0],\n",
    "         [6, 4], \n",
    "         [7, 3, 4], \n",
    "         [2, 3, 1, 8], \n",
    "         [9, 6, 8, 4, 5], \n",
    "         [3, 6, 5, 2, 1, 4], \n",
    "         [8, 3, 4, 1, 8, 6, 7], \n",
    "         [1, 8, 2, 4, 7, 3, 8, 5], \n",
    "         [8, 1, 2, 7, 8, 9, 5, 9, 4]]\n",
    "\n",
    "\n",
    "score = 0\n",
    "lig, col = 0, 0\n",
    "for bit in '01010011':\n",
    "    if bit == '1':\n",
    "        lig, col = lig + 1, col + 1\n",
    "    else:\n",
    "        lig, col = lig + 1, col\n",
    "    score = score + dessin[lig][col]"
   ]
  },
  {
   "cell_type": "code",
   "execution_count": 1,
   "metadata": {},
   "outputs": [
    {
     "data": {
      "text/plain": [
       "41"
      ]
     },
     "execution_count": 1,
     "metadata": {},
     "output_type": "execute_result"
    }
   ],
   "source": [
    "def mystere(chemin):\n",
    "    grille = [[0],\n",
    "              [6, 4], \n",
    "              [7, 3, 4], \n",
    "              [2, 3, 1, 8], \n",
    "              [9, 6, 8, 4, 5], \n",
    "              [3, 6, 5, 2, 1, 4], \n",
    "              [8, 3, 4, 1, 8, 6, 7], \n",
    "              [1, 8, 2, 4, 7, 3, 8, 5], \n",
    "              [8, 1, 2, 7, 8, 9, 5, 9, 4]]\n",
    "    s = 0\n",
    "    ligne, colonne = 0, 0\n",
    "    for bit in chemin:\n",
    "        if bit == '1':\n",
    "            ligne, colonne = ligne + 1, colonne + 1\n",
    "        else:\n",
    "            ligne, colonne = ligne + 1, colonne\n",
    "        s = s + grille[ligne][colonne]\n",
    "    return s\n",
    "\n",
    "mystere('01010011')"
   ]
  },
  {
   "cell_type": "code",
   "execution_count": 4,
   "metadata": {},
   "outputs": [
    {
     "data": {
      "text/plain": [
       "50"
      ]
     },
     "execution_count": 4,
     "metadata": {},
     "output_type": "execute_result"
    }
   ],
   "source": [
    "max( [ mystere(format(x, '08b')) for x in range(256) ] )"
   ]
  },
  {
   "cell_type": "code",
   "execution_count": 5,
   "metadata": {},
   "outputs": [],
   "source": [
    "def mystere(chemin):\n",
    "    grille = [[0],\n",
    "             [6, 4], \n",
    "             [7, 3, 4], \n",
    "             [2, 3, 1, 8], \n",
    "             [9, 6, 8, 4, 5], \n",
    "             [3, 6, 5, 2, 1, 4], \n",
    "             [8, 3, 4, 1, 8, 6, 7], \n",
    "             [1, 8, 2, 4, 7, 3, 8, 5], \n",
    "             [8, 1, 2, 7, 8, 9, 5, 9, 4]]\n",
    "    s = 0\n",
    "    ligne, colonne = 0, 0\n",
    "    for bit in chemin:\n",
    "        if bit == '1':\n",
    "            ligne, colonne = ligne + 1, colonne + 1\n",
    "        else:\n",
    "            ligne, colonne = ligne + 1, colonne\n",
    "        s = s + grille[ligne][colonne]\n",
    "    return s"
   ]
  },
  {
   "cell_type": "code",
   "execution_count": 6,
   "metadata": {},
   "outputs": [
    {
     "data": {
      "text/plain": [
       "39"
      ]
     },
     "execution_count": 6,
     "metadata": {},
     "output_type": "execute_result"
    }
   ],
   "source": [
    "mystere('10010110')"
   ]
  },
  {
   "cell_type": "code",
   "execution_count": null,
   "metadata": {},
   "outputs": [],
   "source": []
  }
 ],
 "metadata": {
  "kernelspec": {
   "display_name": "Python 3",
   "language": "python",
   "name": "python3"
  },
  "language_info": {
   "codemirror_mode": {
    "name": "ipython",
    "version": 3
   },
   "file_extension": ".py",
   "mimetype": "text/x-python",
   "name": "python",
   "nbconvert_exporter": "python",
   "pygments_lexer": "ipython3",
   "version": "3.8.1"
  }
 },
 "nbformat": 4,
 "nbformat_minor": 4
}
