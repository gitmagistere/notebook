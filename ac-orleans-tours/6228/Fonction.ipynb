{
 "cells": [
  {
   "cell_type": "markdown",
   "metadata": {},
   "source": [
    "<div class=\"alert alert-info\"> \n",
    "    \n",
    "# Les fonctions en Python"
   ]
  },
  {
   "cell_type": "markdown",
   "metadata": {},
   "source": [
    "<div class=\"alert alert-info\">\n",
    "\n",
    "## I Exemple de fonctions : "
   ]
  },
  {
   "cell_type": "code",
   "execution_count": null,
   "metadata": {
    "tags": []
   },
   "outputs": [],
   "source": [
    "def reproduire(n,texte):\n",
    "    resultat=\"\"\n",
    "    for k in range(1,n+1):\n",
    "        resultat=resultat+texte+\".\"*k\n",
    "        \n",
    "    return resultat\n",
    "\n",
    "    print(\"1\")\n",
    "    print(\"2\")\n",
    "    \n",
    "    \n",
    "    \n",
    "# premier appel de cette fonction :\n",
    "\n",
    "print(reproduire(3,'abc'))\n",
    "\n",
    "\n",
    "\n",
    "# second appel de cette fonction avec utilisation d'une variable pour stocker le résultat de l'appel :\n",
    "\n",
    "chaine=reproduire(5,'OK')\n",
    "texte='Résultat obtenu avec l\\'appel de reproduire(5,\\'OK\\') : '+chaine\n",
    "print(texte)\n"
   ]
  },
  {
   "cell_type": "markdown",
   "metadata": {},
   "source": [
    "<div class=\"alert alert-info\">\n",
    "\n",
    "Remarques :\n",
    "<ul>\n",
    "<li> On peut constater que les instructions situées après l'instruction `return` ne sont pas exécutées. </li>\n",
    "<li> Pour tester une fonction, on procède généralement comme pour le premier appel.</li>\n",
    "<li> Lorsque l'on utilise une fonction au milieu d'un programme, on procède généralement comme pour le second appel, en stockant le résultat dans une variable.</li>\n",
    "</ul>\n",
    "\n",
    "La même fonction avec des commentaires :\n"
   ]
  },
  {
   "cell_type": "code",
   "execution_count": null,
   "metadata": {
    "tags": []
   },
   "outputs": [],
   "source": [
    "def reproduire(n,texte):\n",
    "    \"\"\"\n",
    "    fonction prenant comme paramètres un entier positif n et une chaine de caractères texte\n",
    "    et renvoyant le texte  reproduit n fois avec des .\n",
    "    \"\"\"\n",
    "    resultat=\"\"\n",
    "    for k in range(1,n+1):\n",
    "        resultat=resultat+texte+\".\"*k\n",
    "        \"\"\"\n",
    "        corps de la boucle for\n",
    "        \"\"\"\n",
    "    return resultat\n",
    "\n",
    "    print(\"1\")\n",
    "    print(\"2\")\n",
    "    \n",
    "    \n",
    "    \n",
    "    \n",
    "# deux autres exemples d'appels de cette fonction :\n",
    "\n",
    "print(reproduire(10,'et'))\n",
    "texte='Résultat obtenu avec l\\'appel de reproduire(2,\\'KO\\') : '+reproduire(2,'KO')\n",
    "print(texte)\n",
    "\n",
    "\n",
    "\n",
    "\n"
   ]
  },
  {
   "cell_type": "markdown",
   "metadata": {},
   "source": [
    "<div class=\"alert alert-info\">\n",
    "    \n",
    "On peut afficher les commentaires situés en en-tête grâce à la commande `help` comme ci-dessous :"
   ]
  },
  {
   "cell_type": "code",
   "execution_count": null,
   "metadata": {
    "tags": []
   },
   "outputs": [],
   "source": [
    "help(reproduire)"
   ]
  },
  {
   "cell_type": "markdown",
   "metadata": {},
   "source": [
    "<div class=\"alert alert-info\">\n",
    "\n",
    "Ces commentaires situés en en-tête s'appellent `docstrings`. C'est une bonne habitude de les utiliser pour décrire les paramètres, ainsi que le rôle de la fonction. La commande `help` fonctionne sur des fonctions pré-implentées comme la fonction `ord` :  "
   ]
  },
  {
   "cell_type": "code",
   "execution_count": null,
   "metadata": {
    "tags": []
   },
   "outputs": [],
   "source": [
    "help(ord)"
   ]
  },
  {
   "cell_type": "markdown",
   "metadata": {},
   "source": [
    "<div class=\"alert alert-info\">\n",
    "\n",
    "On peut également écrire des fonctions qui ne renvoie pas de résultat comme ci-dessous :"
   ]
  },
  {
   "cell_type": "code",
   "execution_count": null,
   "metadata": {
    "tags": []
   },
   "outputs": [],
   "source": [
    "def sapin(n):\n",
    "    \"\"\"\n",
    "    fonction prenant comme paramètre un entier positif n et qui affiche un motif de sapin sur n lignes.\n",
    "    \"\"\"\n",
    "    for k in range(n):\n",
    "        print('.'*(n-k)+'*'*(2*k+1)+'.'*(n-k))\n",
    "\n",
    "        \n",
    "# exemple d'appels de la fonction sapin :\n",
    "\n",
    "sapin(5)\n",
    "print()\n",
    "print(sapin(15))"
   ]
  },
  {
   "cell_type": "markdown",
   "metadata": {},
   "source": [
    "<div class=\"alert alert-info\">\n",
    "\n",
    "Remarque : on peut constater que `print(sapin(15))` affiche le sapin, puis `None` du fait que la fonction ne comporte pas d'instruction `return`. "
   ]
  },
  {
   "cell_type": "markdown",
   "metadata": {},
   "source": [
    "<div class=\"alert alert-warning\">\n",
    "\n",
    "### Question 1 :\n",
    "Ecrire une fonction `multiplication`, prenant comme paramètre un entier positif `n` et qui affiche la table de multiplication de `n` entre 1 et 20.\n",
    "Par exemple, l'instruction `multiplication(7)` doit générer un affichage de la forme :\n",
    "\n",
    "1*7=7\n",
    "\n",
    "2*7=14\n",
    "\n",
    "...\n",
    "\n",
    "20*7=140\n"
   ]
  },
  {
   "cell_type": "code",
   "execution_count": null,
   "metadata": {},
   "outputs": [],
   "source": [
    "# A compléter"
   ]
  },
  {
   "cell_type": "markdown",
   "metadata": {},
   "source": [
    "<div class=\"alert alert-info\">\n",
    "\n",
    "Lorsque l'on propose une fonction à coder aux éléves, on donne souvent l'entête de celle-ci. Cela permet de gagner du temps sur son écriture, ainsi que d'intégrer des tests comme dans la question ci-dessous :"
   ]
  },
  {
   "cell_type": "markdown",
   "metadata": {},
   "source": [
    "<div class=\"alert alert-warning\">\n",
    "\n",
    "### Question 2 :\n",
    "Compléter la fonction `somme_cube` suivante, prenant comme paramètre un entier positif `n` et qui renvoie la somme $$1^3+2^3+3^3+...+n^3$$\n",
    "\n",
    "Les tests situés après la fonction permettent de s'assurer que celle-ci renvoie bien les valeurs attendues pour les valeurs de `n` proposées.\n"
   ]
  },
  {
   "cell_type": "code",
   "execution_count": null,
   "metadata": {
    "tags": []
   },
   "outputs": [],
   "source": [
    "def somme_cube(n):\n",
    "    \"\"\"\n",
    "    fonction prenant comme paramètre un entier positif n et qui renvoie la valeur de la somme 1^3+2^3+...+n^3\n",
    "    \"\"\"\n",
    "    resultat=0\n",
    "    \n",
    "    # A compléter\n",
    "    \n",
    "    return resultat\n",
    "\n",
    "\n",
    "\n",
    "# tests\n",
    "\n",
    "print(somme_cube(0))\n",
    "print(somme_cube(3))\n",
    "assert (somme_cube(0)==0)    # si somme_cube(0) ne renvoie pas 0 comme résultat, cela génère une erreur. Dans le cas contraire, l'exécution continue, sans affichage particulier.\n",
    "assert (somme_cube(3)==36) # si somme_cube(3) ne renvoie pas 36 comme résultat, cela génère une erreur.\n"
   ]
  },
  {
   "cell_type": "markdown",
   "metadata": {},
   "source": [
    "<div class=\"alert alert-warning\">\n",
    "\n",
    "### Question 3 :\n",
    "Compléter la fonction `seuil_somme_cube` suivante, prenant comme paramètre un entier positif `seuil` et qui renvoie le plus petit entier positif `n` tel que  la somme $$1^3+2^3+3^3+...+n^3$$ soit supérieure à la variable `seuil`.\n",
    "\n",
    "Les tests situés après la fonction permettent de s'assurer que celle-ci renvoie bien les valeurs attendues pour les valeurs de `seuil` proposées."
   ]
  },
  {
   "cell_type": "code",
   "execution_count": null,
   "metadata": {
    "tags": []
   },
   "outputs": [],
   "source": [
    "def seuil_somme_cube(seuil):\n",
    "    \"\"\"\n",
    "    fonction prenant comme paramètre un entier positif seuil et qui renvoie le plus petit entier positif n tel la somme 1^3+2^3+...+n^3 soit supérieure à la variable seuil.\n",
    "    \"\"\"\n",
    "    resultat=0\n",
    "    \n",
    "    # A compléter\n",
    "    \n",
    "    return resultat\n",
    "\n",
    "\n",
    "\n",
    "# tests\n",
    "\n",
    "print(seuil_somme_cube(15))\n",
    "print(seuil_somme_cube(100))\n",
    "assert (seuil_somme_cube(15)==3)\n",
    "assert (seuil_somme_cube(100)==5)\n"
   ]
  },
  {
   "cell_type": "markdown",
   "metadata": {},
   "source": [
    "<div class=\"alert alert-info\">\n",
    "\n",
    "## II Portées des variables  "
   ]
  },
  {
   "cell_type": "markdown",
   "metadata": {},
   "source": [
    "<div class=\"alert alert-warning\">\n",
    "\n",
    "\n",
    "### Question 4 :\n",
    "\n",
    "Observer le résultat de l'exécution des scripts suivants et choisissez la bonne réponse : "
   ]
  },
  {
   "cell_type": "code",
   "execution_count": null,
   "metadata": {
    "tags": []
   },
   "outputs": [],
   "source": [
    "\n",
    "def test1(x):\n",
    "    print(x)\n",
    "    x+=1\n",
    "    return(x)\n",
    "\n",
    "# tests\n",
    "\n",
    "a=1\n",
    "print('affichage fourni par test1(a) :')\n",
    "print(test1(a))\n",
    "print('a=',a)"
   ]
  },
  {
   "cell_type": "markdown",
   "metadata": {},
   "source": [
    "La variable `a`\n",
    "\n",
    "<input type=\"radio\" name=\"choix1\"> a été modifiée par l'appel de la fonction\n",
    "\n",
    "<input type=\"radio\" name=\"choix1\"> n'a pas été modifiée par l'appel de la fonction"
   ]
  },
  {
   "cell_type": "code",
   "execution_count": null,
   "metadata": {
    "tags": []
   },
   "outputs": [],
   "source": [
    "def test2(x):\n",
    "    b=0\n",
    "    return(x)\n",
    "\n",
    "# tests\n",
    "\n",
    "print(test2(4))\n",
    "print(b)\n"
   ]
  },
  {
   "cell_type": "markdown",
   "metadata": {},
   "source": [
    "La variable `b`\n",
    "\n",
    "<input type=\"radio\" name=\"choix1\"> est accessible à l'extérieur de la fonction `test2`\n",
    "\n",
    "<input type=\"radio\" name=\"choix1\"> n'est pas accessible à l'extérieur de la fonction `test2`\n"
   ]
  },
  {
   "cell_type": "markdown",
   "metadata": {},
   "source": [
    "<div class=\"alert alert-danger\">\n",
    "\n",
    "Ces deux exemples montrent qu'il faut prendre des précautions lorsqu'on manipule des variables dans une fonction. \n",
    "\n",
    "On parle de portée de variables pour évoquer ces éventuelles difficultés.\n",
    "\n",
    "Pour en savoir plus, vous pouvez consulter le lien suivant :\n",
    "\n",
    "https://www.pierre-giraud.com/python-apprendre-programmer-cours/portee-variable/\n"
   ]
  },
  {
   "cell_type": "markdown",
   "metadata": {},
   "source": [
    "<div class=\"alert alert-info\">\n",
    "\n",
    "## III Fonctions à compléter"
   ]
  },
  {
   "cell_type": "markdown",
   "metadata": {},
   "source": [
    "<div class=\"alert alert-warning\">\n",
    "\n",
    "### Question 5 :\n",
    "Si $n$ est un entier strictement positif, on désigne par $n!$ le nombre correspondant à $1\\times 2\\times 3\\times ...\\times n$\n",
    "\n",
    "Par convention, $0!=1$.\n",
    "\n",
    "Compléter la fonction `factoriel` suivante, prenant comme paramètre un entier positif $n$ et qui renvoie la valeur de $n!$\n"
   ]
  },
  {
   "cell_type": "code",
   "execution_count": null,
   "metadata": {},
   "outputs": [],
   "source": [
    "def factoriel(n):\n",
    "    \"\"\"\n",
    "    fonction prenant comme paramètre un entier positif n et qui renvoie la valeur 1*2*3*...*n lorsque n est strictement positif et 1 sinon.  \n",
    "    \"\"\"\n",
    "     resultat=0\n",
    "    \n",
    "    # A compléter\n",
    "    \n",
    "    return resultat\n",
    "\n",
    "\n",
    "# tests\n",
    "\n",
    "assert (factoriel(4)==24)\n",
    "assert (factoriel(0)==1)"
   ]
  },
  {
   "cell_type": "markdown",
   "metadata": {},
   "source": [
    "<div class=\"alert alert-warning\">\n",
    "    \n",
    "### Question 6 :\n",
    "Compléter la fonction `coefficient_binomial` suivante, prenant comme paramètres  deux entiers positifs `p` et `n` qui renvoie la valeur $\\frac{n!}{p!\\times(n-p)!}$ lorsque `n` est supérieur ou égal à `p` et 0 sinon.\n",
    "\n",
    "Cette fonction peut faire appel à la fonction `factoriel` précédente."
   ]
  },
  {
   "cell_type": "code",
   "execution_count": null,
   "metadata": {},
   "outputs": [],
   "source": [
    "def coefficient_binomial(p,n):\n",
    "    \"\"\"\n",
    "    fonction prenant comme paramètres deux entiers positifs p et n qui renvoie la valeur n!/(p!*(n-p)!) lorsque n est supérieur  ou égal à p et 0 sinon.\n",
    "    \"\"\"\n",
    "     resultat=0\n",
    "    \n",
    "    # A compléter\n",
    "    \n",
    "    return resultat\n",
    "\n",
    "# tests\n",
    "\n",
    "assert(coefficient_binomial(2,5)==10)\n",
    "assert(coefficient_binomial(4,1)==0)"
   ]
  },
  {
   "cell_type": "markdown",
   "metadata": {},
   "source": [
    "<div class=\"alert alert-warning\">\n",
    "\n",
    "### Question 7 :\n",
    "Compléter la fonction `miroir` suivante, prenant comme paramètre une chaîne de caractères `texte` et qui renvoie la chaîne de caractères miroir de `texte`. \n",
    "\n",
    "Par exemple, `miroir('bonjour')` doit renvoyer `'bonjourruojnob'`\n"
   ]
  },
  {
   "cell_type": "code",
   "execution_count": null,
   "metadata": {
    "tags": []
   },
   "outputs": [],
   "source": [
    "def miroir (texte):\n",
    "    \"\"\"\n",
    "    fonction prenant comme paramètre une chaine de caractères texte et renvoyant la chaîne de caractères miroir de texte.\n",
    "    \"\"\"\n",
    "     resultat=0\n",
    "    \n",
    "    # A compléter\n",
    "    \n",
    "    return resultat\n",
    "\n",
    "# tests\n",
    "\n",
    "assert(miroir('bonjour')=='bonjourruojnob')\n",
    "print(miroir('bonjour'))"
   ]
  },
  {
   "cell_type": "markdown",
   "metadata": {},
   "source": [
    "<div class=\"alert alert-warning\">\n",
    "\n",
    "### Question 8 :\n",
    "Compléter la fonction `remplacer` suivante, prenant comme paramètres une chaîne de caractères `texte`, et deux caractères `c1` et `c2` et qui renvoie la chaîne de caractères construite à partir de `texte` en échangeant les caractères `c1` et `c2`. \n",
    "\n"
   ]
  },
  {
   "cell_type": "code",
   "execution_count": null,
   "metadata": {
    "tags": []
   },
   "outputs": [],
   "source": [
    "def remplacer (texte,c1,c2):\n",
    "    \"\"\"\n",
    "    fonction prenant comme paramètres une chaîne de caractères texte, et deux caractères c1 et c2 et qui renvoie la chaîne de caractères construite à partir de texte en échangeant les caractères c1 et c2.\n",
    "    \"\"\"\n",
    "     resultat=0\n",
    "    \n",
    "    # A compléter\n",
    "    \n",
    "    return resultat\n",
    "\n",
    "# tests\n",
    "\n",
    "assert(remplacer('bonjour','o','j')=='bjnojur')\n",
    "print(remplacer('bonjour','o','j'))"
   ]
  },
  {
   "cell_type": "markdown",
   "metadata": {},
   "source": [
    "<div class=\"alert alert-info\">\n",
    "\n",
    "## Remarques :\n",
    "\n",
    "Programmer en utilisant des fonctions permet de découper un problème complexe en sous-problème, ce qui présente les avantages suivants :\n",
    "<ul>\n",
    "<li>se concentrer sur une tâche précise, pouvant être indépendante des autres tâches du programme, ce qui facilite le travail en équipe.</li>\n",
    "<li>pouvoir réutiliser facilement un code existant, par exemple une fonction qui génère un gif à partir d'une liste d'images. </li>\n",
    "</ul>\n",
    "\n",
    "Pour découper efficacement un programme en fonctions, en particulier pour construire une séquence pédagogique, il est préférable :\n",
    "<ul>\n",
    "<li>de faire en sorte que les fonctions ne soient pas trop complexes, sans toutefois multiplier celles-ci à l'excès.  </li>\n",
    "<li>de bien préciser les paramètres et le type de résultat renvoyé.  </li>\n",
    "</ul>\n",
    "\n",
    "Ce découpage est généralement effectué par l'enseignant lors des activités proposées, mais il peut être laissé à l'initiative des élèves lors des projets."
   ]
  },
  {
   "cell_type": "code",
   "execution_count": null,
   "metadata": {},
   "outputs": [],
   "source": []
  }
 ],
 "metadata": {
  "kernelspec": {
   "display_name": "Python 3",
   "language": "python",
   "name": "python3"
  },
  "language_info": {
   "codemirror_mode": {
    "name": "ipython",
    "version": 3
   },
   "file_extension": ".py",
   "mimetype": "text/x-python",
   "name": "python",
   "nbconvert_exporter": "python",
   "pygments_lexer": "ipython3",
   "version": "3.7.2"
  }
 },
 "nbformat": 4,
 "nbformat_minor": 4
}
