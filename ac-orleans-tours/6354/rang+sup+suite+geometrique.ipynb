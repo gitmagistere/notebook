{
 "cells": [
  {
   "cell_type": "markdown",
   "metadata": {},
   "source": [
    "Déterminer le rang à partir duquel les termes d’une suite géométrique seront supérieurs à une valeur donnée.\n",
    "\n",
    "\n",
    "\n",
    "LOUER A ORLEANS \n",
    "             En  2019, un couple a emménagé dans un pavillon à Orléans. Le montant annuel de leur loyer était alors de 10 800 €. \n",
    "            L’évolution de l’IRL peut être modélisée par une augmentation moyenne de 1,27 % par an. On considère que cette tendance observée depuis 1998 va se maintenir ainsi durant les années à venir.\n",
    "            Un pavillon tel que celui que loue le couple se vend à 320 000 €.\n",
    "    \n",
    "    \n",
    "Problématique  :\n",
    "\n",
    "Selon cette modélisation, au bout de combien d’années le couple aura-t-il versé 320 000 € ?\n",
    "\n",
    "\n",
    "Source : https://www.insee.fr/fr/statistiques/4478590#graphique-irl-g1-fr   \n",
    "\n"
   ]
  },
  {
   "cell_type": "code",
   "execution_count": null,
   "metadata": {
    "collapsed": true
   },
   "outputs": [],
   "source": []
  }
 ],
 "metadata": {
  "kernelspec": {
   "display_name": "Python 3",
   "language": "python",
   "name": "python3"
  },
  "language_info": {
   "codemirror_mode": {
    "name": "ipython",
    "version": 3
   },
   "file_extension": ".py",
   "mimetype": "text/x-python",
   "name": "python",
   "nbconvert_exporter": "python",
   "pygments_lexer": "ipython3",
   "version": "3.4.5"
  }
 },
 "nbformat": 4,
 "nbformat_minor": 2
}
