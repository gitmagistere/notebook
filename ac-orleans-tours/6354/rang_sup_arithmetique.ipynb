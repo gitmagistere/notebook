{
 "cells": [
  {
   "cell_type": "markdown",
   "metadata": {},
   "source": [
    "\n",
    "RANG A PARTIR DUQUEL LES TERMES SONT SUPERIEURS A UNE VALEUR DONNEE\n",
    "\n",
    "\n",
    "Cas d'une suite arithmétique:\n",
    "\n",
    "Complétez le programme suivant permettant d’afficher le rang à partir duquel les termes d’une suite arithmétique seront supérieurs ou égaux à une valeur donnée.\n",
    "\n",
    "puis testez ce programme avec une suite arithmétique de premier terme 5 et de raison 3 dont on veut connaître le rang à partir duquel ses termes seront supérieurs à 18."
   ]
  },
  {
   "cell_type": "code",
   "execution_count": 1,
   "metadata": {
    "collapsed": true
   },
   "outputs": [],
   "source": [
    "def rang_sup(u1,r,valeur):\n",
    "    L=[u1]\n",
    "    k=0\n",
    "    \n",
    "    \n",
    "    \n",
    "    \n",
    "    \n",
    "    "
   ]
  },
  {
   "cell_type": "code",
   "execution_count": null,
   "metadata": {
    "collapsed": true
   },
   "outputs": [],
   "source": []
  }
 ],
 "metadata": {
  "kernelspec": {
   "display_name": "Python 3",
   "language": "python",
   "name": "python3"
  },
  "language_info": {
   "codemirror_mode": {
    "name": "ipython",
    "version": 3
   },
   "file_extension": ".py",
   "mimetype": "text/x-python",
   "name": "python",
   "nbconvert_exporter": "python",
   "pygments_lexer": "ipython3",
   "version": "3.4.5"
  }
 },
 "nbformat": 4,
 "nbformat_minor": 2
}
