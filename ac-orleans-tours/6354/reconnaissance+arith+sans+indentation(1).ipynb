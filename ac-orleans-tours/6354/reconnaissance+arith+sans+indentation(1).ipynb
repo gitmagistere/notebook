{
 "cells": [
  {
   "cell_type": "markdown",
   "metadata": {},
   "source": [
    "Le programme ci-dessous est écrit sans les indentations.\n",
    "\n",
    "A vous de les retrouver puis de tester votre programme avec des suites de votre choix.\n",
    "\n",
    "Remarque: utilisez les touches Tab et Retour arrière de votre clavier pour plus de facilité.\n"
   ]
  },
  {
   "cell_type": "code",
   "execution_count": null,
   "metadata": {
    "collapsed": true
   },
   "outputs": [],
   "source": [
    "def difference(*a):\n",
    "M=list(a)\n",
    "L=[]\n",
    "for i in range(0,len(M)-1):\n",
    "L.append(M[i+1]-M[i])\n",
    "k=0\n",
    "while k < len(L)-1:\n",
    "if L[k+1]!=L[k]:\n",
    "return(\"cette suite n'est pas arithmétique\")\n",
    "else:\n",
    "k=k+1    \n",
    "return(\"c'est une suite arithmétique\")"
   ]
  }
 ],
 "metadata": {
  "kernelspec": {
   "display_name": "Python 3",
   "language": "python",
   "name": "python3"
  },
  "language_info": {
   "codemirror_mode": {
    "name": "ipython",
    "version": 3
   },
   "file_extension": ".py",
   "mimetype": "text/x-python",
   "name": "python",
   "nbconvert_exporter": "python",
   "pygments_lexer": "ipython3",
   "version": "3.4.5"
  }
 },
 "nbformat": 4,
 "nbformat_minor": 2
}
