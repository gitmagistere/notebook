{
 "cells": [
  {
   "cell_type": "markdown",
   "metadata": {},
   "source": [
    "SOMME DES k PREMIERS TERMES D’UNE SUITE ARITHMETIQUE\n",
    "\n",
    "Remarque: n'hésitez pas à consulter le document contenant les principales commandes sur Python pour vous aider.\n",
    "\n",
    "\n",
    "Consigne: Compléter le programme suivant afin d'afficher aussi la somme des huit premiers termes d’une suite arithmétique de premier terme 5 et de raison 3. \n"
   ]
  },
  {
   "cell_type": "code",
   "execution_count": 6,
   "metadata": {
    "collapsed": true
   },
   "outputs": [],
   "source": [
    "def arith(u1,r,n):\n",
    "    L=[]\n",
    "    for i in range (1,n+1):\n",
    "        L.append(u1+(i-1)*r)\n",
    "    print(L)\n",
    "    print(sum(L))\n",
    "        "
   ]
  },
  {
   "cell_type": "code",
   "execution_count": 7,
   "metadata": {},
   "outputs": [
    {
     "name": "stdout",
     "output_type": "stream",
     "text": [
      "[5, 8, 11, 14, 17, 20, 23, 26]\n",
      "124\n"
     ]
    }
   ],
   "source": [
    "arith(5,3,8)"
   ]
  }
 ],
 "metadata": {
  "kernelspec": {
   "display_name": "Python 3",
   "language": "python",
   "name": "python3"
  },
  "language_info": {
   "codemirror_mode": {
    "name": "ipython",
    "version": 3
   },
   "file_extension": ".py",
   "mimetype": "text/x-python",
   "name": "python",
   "nbconvert_exporter": "python",
   "pygments_lexer": "ipython3",
   "version": "3.4.5"
  }
 },
 "nbformat": 4,
 "nbformat_minor": 2
}
