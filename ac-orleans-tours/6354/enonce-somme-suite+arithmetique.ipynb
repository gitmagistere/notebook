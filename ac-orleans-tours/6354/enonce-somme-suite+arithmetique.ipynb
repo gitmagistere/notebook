{
 "cells": [
  {
   "cell_type": "markdown",
   "metadata": {},
   "source": [
    "SOMME DES k PREMIERS TERMES D’UNE SUITE ARITHMETIQUE\n",
    "\n",
    "Remarque: n'hésitez pas à consulter le document contenant les principales commandes sur Python pour vous aider.\n",
    "\n",
    "\n",
    "Consigne: \n",
    "\n",
    "Complétez le programme suivant afin d'afficher aussi la somme des huit premiers termes d’une suite arithmétique de premier terme 5 et de raison 3. \n"
   ]
  },
  {
   "cell_type": "code",
   "execution_count": null,
   "metadata": {
    "collapsed": true
   },
   "outputs": [],
   "source": [
    "def arith(u1,r,n):\n",
    "    L=[]\n",
    "    for i in range (1,n+1):\n",
    "        L.append(u1+(i-1)*r)\n",
    "    print(L)\n",
    "    \n",
    "    \n",
    "    "
   ]
  },
  {
   "cell_type": "code",
   "execution_count": null,
   "metadata": {
    "collapsed": true
   },
   "outputs": [],
   "source": []
  }
 ],
 "metadata": {
  "kernelspec": {
   "display_name": "Python 3",
   "language": "python",
   "name": "python3"
  },
  "language_info": {
   "codemirror_mode": {
    "name": "ipython",
    "version": 3
   },
   "file_extension": ".py",
   "mimetype": "text/x-python",
   "name": "python",
   "nbconvert_exporter": "python",
   "pygments_lexer": "ipython3",
   "version": "3.4.5"
  }
 },
 "nbformat": 4,
 "nbformat_minor": 2
}
