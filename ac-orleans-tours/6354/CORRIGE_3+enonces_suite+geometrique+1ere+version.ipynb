{
 "cells": [
  {
   "cell_type": "markdown",
   "metadata": {},
   "source": [
    "APPLICATION AUX SUITES GEOMETRIQUES\n",
    "\n",
    "    N'oubliez pas d'exécuter entre chaque bloc nouveau en cliquant sur le bouton prévu dans la barre d'outils ou en tapant simultanément sur les touches Maj+Entrée.\n",
    "\n",
    "Remarque: vous pouvez faire des copier-coller pour gagner du temps à chaque étape."
   ]
  },
  {
   "cell_type": "markdown",
   "metadata": {},
   "source": [
    "ETAPE 1 : Ecrire un programme permettant d’obtenir une liste contenant les 15 premiers termes d’une suite géométrique de premier terme 2 et de raison 3.\n",
    "Le script commence par:"
   ]
  },
  {
   "cell_type": "code",
   "execution_count": 2,
   "metadata": {
    "collapsed": true
   },
   "outputs": [],
   "source": [
    "def geom(u1,q,n):\n",
    "    L=[]\n",
    "    u=u1\n",
    "    for i in range (1,n+1):\n",
    "        L.append(u)\n",
    "        u=u*q\n",
    "    print(L)"
   ]
  },
  {
   "cell_type": "code",
   "execution_count": 3,
   "metadata": {},
   "outputs": [
    {
     "name": "stdout",
     "output_type": "stream",
     "text": [
      "[2, 6, 18, 54, 162, 486, 1458, 4374, 13122, 39366, 118098, 354294, 1062882, 3188646, 9565938]\n"
     ]
    }
   ],
   "source": [
    "geom(2,3,15)"
   ]
  },
  {
   "cell_type": "markdown",
   "metadata": {},
   "source": [
    "ETAPE 2 : Modifier le programme précédent afin d’afficher le 6ème élément de la liste, soit U7"
   ]
  },
  {
   "cell_type": "code",
   "execution_count": 6,
   "metadata": {
    "collapsed": true
   },
   "outputs": [],
   "source": [
    "def geom(u1,q,n):\n",
    "    L=[]\n",
    "    u=u1\n",
    "    for i in range (1,n+1):\n",
    "        L.append(u)\n",
    "        u=u*q\n",
    "    print(L)\n",
    "    print(\"la valeur au rang 7 est \",L[6])"
   ]
  },
  {
   "cell_type": "code",
   "execution_count": 7,
   "metadata": {},
   "outputs": [
    {
     "name": "stdout",
     "output_type": "stream",
     "text": [
      "[2, 6, 18, 54, 162, 486, 1458, 4374, 13122, 39366, 118098, 354294, 1062882, 3188646, 9565938]\n",
      "la valeur au rang 7 est  1458\n"
     ]
    }
   ],
   "source": [
    "geom(2,3,15)"
   ]
  },
  {
   "cell_type": "markdown",
   "metadata": {},
   "source": [
    "ETAPE 3 : Modifier encore le programme précédent afin d’afficher le rang du terme de valeur  118098"
   ]
  },
  {
   "cell_type": "code",
   "execution_count": 8,
   "metadata": {
    "collapsed": true
   },
   "outputs": [],
   "source": [
    "def geom(u1,q,n):\n",
    "    L=[]\n",
    "    u=u1\n",
    "    for i in range (1,n+1):\n",
    "        L.append(u)\n",
    "        u=u*q\n",
    "    print(L)\n",
    "    print(\"la valeur au rang 7 est \",L[6])\n",
    "    print(\"Le rang du terme de valeur 118098 est:\",L.index(118098)+1)    "
   ]
  },
  {
   "cell_type": "code",
   "execution_count": 9,
   "metadata": {},
   "outputs": [
    {
     "name": "stdout",
     "output_type": "stream",
     "text": [
      "[2, 6, 18, 54, 162, 486, 1458, 4374, 13122, 39366, 118098, 354294, 1062882, 3188646, 9565938]\n",
      "la valeur au rang 7 est  1458\n",
      "Le rang du terme de valeur 118098 est: 11\n"
     ]
    }
   ],
   "source": [
    "geom(2,3,15)"
   ]
  },
  {
   "cell_type": "code",
   "execution_count": null,
   "metadata": {
    "collapsed": true
   },
   "outputs": [],
   "source": []
  }
 ],
 "metadata": {
  "kernelspec": {
   "display_name": "Python 3",
   "language": "python",
   "name": "python3"
  },
  "language_info": {
   "codemirror_mode": {
    "name": "ipython",
    "version": 3
   },
   "file_extension": ".py",
   "mimetype": "text/x-python",
   "name": "python",
   "nbconvert_exporter": "python",
   "pygments_lexer": "ipython3",
   "version": "3.4.5"
  }
 },
 "nbformat": 4,
 "nbformat_minor": 2
}
