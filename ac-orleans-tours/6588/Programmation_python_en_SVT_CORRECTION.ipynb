{
 "cells": [
  {
   "cell_type": "markdown",
   "metadata": {},
   "source": [
    "# PROGRAMMATION PYTHON EN SVT\n",
    "Ce notebook vous apporte le minimum vital en terme de programmation. Bien évidemment rien n'est exhaustif... \n",
    "Les éléments suivants vont vous êtes présentés:  \n",
    "* Les variables\n",
    "* Les opérateurs\n",
    "* Les boucles\n",
    "* Les conditions\n",
    "* Les fonctions personnelles  \n",
    "  \n",
    "Un notebook se parcourt de haut en bas, <b>chaque cellule doit être éxecutée</b> (soit avec le bouton <b>Exécuter</b> dans le menu, soit avec le raccourci MAJ + ENTREE au clavier)."
   ]
  },
  {
   "cell_type": "markdown",
   "metadata": {},
   "source": [
    "# Variables et valeurs\n",
    "\n",
    "En programmation on a besoin de variables auxquelles on attribue des valeurs.\n",
    "Une variable porte un nom et on attribue la valeur de cette variable grâce au signe = \n",
    "Exemple :  \n",
    "ma_variable = 17  (dans ce cas la variable est de type nombre)  \n",
    "ou  \n",
    "ma_variable = \"BONJOUR\"  (dans ce cas la variable est de type chaine de caractères car entourée de \"\")  \n",
    "Le nom de la variable est ma_variable et sa valeur est attribuée via le signe =  \n",
    "Faisons un test en python dans la cellule de code ci dessous en l'executant (on execute le code en utilisant le bouton Exécuter ou avec le raccourci MAJ + ENTREE)\n",
    "A noter que les noms de variable ne doivent pas comporter d'espace (on peut remplacer par \\_), on peut mettre des accents mais à éviter..."
   ]
  },
  {
   "cell_type": "code",
   "execution_count": 108,
   "metadata": {},
   "outputs": [],
   "source": [
    "ma_variable_1 = \"TEST\"\n",
    "ma_variable_2 = 12"
   ]
  },
  {
   "cell_type": "markdown",
   "metadata": {},
   "source": [
    "Si vous avez executé la cellule ci dessus, vous avez l'impression qu'il ne s'est rien passé... et pourtant vous avez affecté la valeur chaine de caractère \"TEST\" à la variable ma_variable_1 et affecté la valeur nombre 12 à la variable ma_variable_2.\n",
    "  \n",
    "Pour le vérifier il suffit d'afficher ces variables à l'écran. On affiche les variables en tapant leur nom et en executant la cellule. Faites le test dans la cellule ci dessous en affichant la variable ma_variable_1 puis ma_variable_2:"
   ]
  },
  {
   "cell_type": "code",
   "execution_count": null,
   "metadata": {},
   "outputs": [],
   "source": []
  },
  {
   "cell_type": "markdown",
   "metadata": {},
   "source": [
    "## Opérateurs en python\n",
    "\n",
    "Les opérateurs + - * / sont fonctionnels en python. Avec des variables de type nombre le résultat est le résultat de l'opération.\n",
    "Essayez de deviner la valeur de ma_variable_nombre à la fin de ce script et vérifiez en l'executant :"
   ]
  },
  {
   "cell_type": "code",
   "execution_count": 109,
   "metadata": {},
   "outputs": [
    {
     "data": {
      "text/plain": [
       "16"
      ]
     },
     "execution_count": 109,
     "metadata": {},
     "output_type": "execute_result"
    }
   ],
   "source": [
    "ma_variable_nombre = 2\n",
    "ma_variable_nombre = (ma_variable_nombre + 2) * 4\n",
    "ma_variable_nombre"
   ]
  },
  {
   "cell_type": "markdown",
   "metadata": {},
   "source": [
    "L'opérateur + peut également être utilisé avec des variables de type chaine de caractère. il effectue ce que l'on appelle une concaténation de chaine de caractère. Executez la cellule ci dessous pour observer la concaténation:"
   ]
  },
  {
   "cell_type": "code",
   "execution_count": 110,
   "metadata": {},
   "outputs": [
    {
     "data": {
      "text/plain": [
       "'Bonjour Madame !!'"
      ]
     },
     "execution_count": 110,
     "metadata": {},
     "output_type": "execute_result"
    }
   ],
   "source": [
    "ma_chaine_1 = \"Bonjour\"\n",
    "ma_chaine_2 = \" Madame\"\n",
    "ma_chaine = ma_chaine_1 + ma_chaine_2 + \" !!\"\n",
    "ma_chaine"
   ]
  },
  {
   "cell_type": "markdown",
   "metadata": {},
   "source": [
    "On peut également utiliser deux opérateurs qui peuvent être fort utiles : il s'agit du % (modulo) et du // (division euclidienne).\n",
    "Le % vous donne le reste de la division et le // vous donne la partie entière de la division.  \n",
    "Exemple en éxécutant cette cellule :"
   ]
  },
  {
   "cell_type": "code",
   "execution_count": 111,
   "metadata": {},
   "outputs": [
    {
     "name": "stdout",
     "output_type": "stream",
     "text": [
      "Le modulo de 10 divisé par 3 est égal à  1\n",
      "car 10/3=3 et il reste 1!\n",
      "La partie entière de 10 divisé par 3 est égal à  3\n",
      "car 10/3=3,3333333333 et la partie entière de 3,33333333 est bien 3!\n"
     ]
    }
   ],
   "source": [
    "print(\"Le modulo de 10 divisé par 3 est égal à \",10%3)\n",
    "print(\"car 10/3=3 et il reste 1!\")\n",
    "print(\"La partie entière de 10 divisé par 3 est égal à \",10//3)\n",
    "print(\"car 10/3=3,3333333333 et la partie entière de 3,33333333 est bien 3!\")"
   ]
  },
  {
   "cell_type": "markdown",
   "metadata": {},
   "source": [
    "# Les boucles\n",
    "Il faut souvent dans les programmes pouvoir réitérer une opération un certain nombre de fois. On appelle ceci une boucle FOR.  \n",
    "En python, une boucle FOR se présente de la façons suivante :\n",
    "Avec des nombres comme itérateur :  \n",
    "for variable in range(nombre de départ (inclu), nombre de fin (exclu), pas d'avancement):(n'oubliez pas les 2 points !)  \n",
    "<-indentation->code  \n",
    "Tout ce qui est indenté avec une tabulation fera partie de la boucle.\n",
    "Exemple en éxecutant la cellule ci dessous:"
   ]
  },
  {
   "cell_type": "code",
   "execution_count": 112,
   "metadata": {},
   "outputs": [
    {
     "name": "stdout",
     "output_type": "stream",
     "text": [
      "1\n",
      "2\n",
      "3\n",
      "4\n",
      "5\n",
      "6\n",
      "7\n",
      "8\n",
      "9\n",
      "10\n"
     ]
    }
   ],
   "source": [
    "for nombre in range (1, 11, 1):\n",
    "    print(nombre)"
   ]
  },
  {
   "cell_type": "markdown",
   "metadata": {},
   "source": [
    "On peut faire une boucle FOR sur une variable chaine de caractère. Voyez ce que l'on obtient en executant la cellule ci dessous:"
   ]
  },
  {
   "cell_type": "code",
   "execution_count": 113,
   "metadata": {},
   "outputs": [
    {
     "name": "stdout",
     "output_type": "stream",
     "text": [
      "B\n",
      "O\n",
      "N\n",
      "J\n",
      "O\n",
      "U\n",
      "R\n"
     ]
    }
   ],
   "source": [
    "for caractere in \"BONJOUR\":\n",
    "    print(caractere)"
   ]
  },
  {
   "cell_type": "markdown",
   "metadata": {},
   "source": [
    "On aura aussi parfois de parcourir une chaine de caractère en utilisant les indes de cahque caractère. Dans une chaine de caractère un caractère est indexé avec un chiffre correspondant à sa position dans la chaine. **Attention le premier index est toujours 0!**  \n",
    "On accède à un caractère grâce à son index avec le code suivant:"
   ]
  },
  {
   "cell_type": "code",
   "execution_count": 114,
   "metadata": {},
   "outputs": [
    {
     "name": "stdout",
     "output_type": "stream",
     "text": [
      "B\n",
      "O\n",
      "R\n"
     ]
    }
   ],
   "source": [
    "chaine = \"BONJOUR\"\n",
    "print(chaine[0]) #C'est le premier caractère de la chaine\n",
    "print(chaine[1]) #C'est le deuxième caractère de la chaine\n",
    "print(chaine[-1]) #C'est le dernier caractère de la chaine"
   ]
  },
  {
   "cell_type": "markdown",
   "metadata": {},
   "source": [
    "Et pour faire une boucle en récupérant les index et les lettres, la syntaxe est la suivante:"
   ]
  },
  {
   "cell_type": "code",
   "execution_count": 115,
   "metadata": {},
   "outputs": [
    {
     "name": "stdout",
     "output_type": "stream",
     "text": [
      "0 B\n",
      "1 O\n",
      "2 N\n",
      "3 J\n",
      "4 O\n",
      "5 U\n",
      "6 R\n"
     ]
    }
   ],
   "source": [
    "for index,caractere in enumerate(\"BONJOUR\",0): # le 0 est l'index de départ de lecture de la chaine.\n",
    "    print(index,caractere)"
   ]
  },
  {
   "cell_type": "markdown",
   "metadata": {},
   "source": [
    "# Les conditions\n",
    "Il est souvent necessaire de préciser des conditions d'execution. On utilise alors IF suivi d'une condition :\n",
    "* == est un test d'égalité\n",
    "* != est un test de différence\n",
    "* < ou > sont des tests d'infériorité ou de supériorité  \n",
    "* and permet de tester deux conditions : les deux doivent être vraies\n",
    "* or permet de tester deux conditions : **au moins** une des deux doit être vraie  \n",
    "La ligne du IF se termine également par deux points, et tout ce qui dépends de la condition doit être indenté.\n",
    "On peut parfois compléter avec un ELSE au cas où la condition n'est pas vraie...\n",
    "Un exemple vaut mieux qu'un long discours et testez la cellule suivante:\n"
   ]
  },
  {
   "cell_type": "code",
   "execution_count": 116,
   "metadata": {},
   "outputs": [
    {
     "name": "stdout",
     "output_type": "stream",
     "text": [
      "La réponse1 est oui.\n",
      "La réponse2 est non.\n",
      "La réponse2 n'est pas oui.\n",
      "La réponse1 n'est pas non.\n",
      "min=20 est plus grand que max=20\n",
      "nombre est égal à 20.\n"
     ]
    }
   ],
   "source": [
    "min = 10\n",
    "max = 20\n",
    "nombre = 20\n",
    "reponse1 = \"oui\"\n",
    "reponse2 = \"non\"\n",
    "if reponse1 == \"oui\":\n",
    "    print(\"La réponse1 est oui.\")\n",
    "else:\n",
    "    print(\"La réponse1 n'est pas oui.\")\n",
    "if reponse2 == \"non\":\n",
    "    print(\"La réponse2 est non.\")\n",
    "else:\n",
    "    print(\"La réponse2 n'est pas non.\")\n",
    "if reponse2 == \"oui\":\n",
    "    print(\"La réponse2 est oui.\")\n",
    "else:\n",
    "    print(\"La réponse2 n'est pas oui.\")\n",
    "if reponse1 == \"non\":\n",
    "    print(\"La réponse1 est non.\")\n",
    "else:\n",
    "    print(\"La réponse1 n'est pas non.\")\n",
    "if min > max:\n",
    "    print(\"min=\"+str(min)+\" est plus petit que max=\"+str(max))\n",
    "else:\n",
    "    print(\"min=\"+str(max)+\" est plus grand que max=\"+str(max))\n",
    "if nombre == 20:\n",
    "    print(\"nombre est égal à 20.\")\n",
    "else:\n",
    "    print(\"nombre n'est pas égal à 20\")"
   ]
  },
  {
   "cell_type": "markdown",
   "metadata": {},
   "source": [
    "Petite astuce du script ci dessus : min étant une variable de type nombre, lorsque l'on veut concaténer on ne peut concaténer avec des + que des chaines de caractères ! L'astuce est d'utiliser str(min) qui va \"tranformer momentanément\" min en type chaine de caractère..."
   ]
  },
  {
   "cell_type": "markdown",
   "metadata": {},
   "source": [
    "# Deux façons de coder :\n",
    "Soit on fait des FONCTIONS (fortement recommandé) soit on n'en fait pas.  \n",
    "Voici deux façons de coder une addition : une façon avec une fonction et une façon sans fonction...\n",
    "\n",
    "Sans fonction on utilise input() qui permet l'entrée d'une valeur dans une variable à partir du clavier. Il faire attention avec input() car le type de la variable entrée au clavier est considérée comme une chaine de caractère. Il faut lors utiliser int() qui permet de \"transformer\" le type en nombre afin de réaliser des opérations mathématiques comme une addition.\n",
    "Voici un exemple d'entrée au clavier :"
   ]
  },
  {
   "cell_type": "code",
   "execution_count": 118,
   "metadata": {},
   "outputs": [
    {
     "name": "stdout",
     "output_type": "stream",
     "text": [
      "Veuillez entrer une valeur a : 2\n",
      "Veuillez entrer une valeur b : 2\n",
      "4\n"
     ]
    }
   ],
   "source": [
    "a = int(input(\"Veuillez entrer une valeur a : \"))\n",
    "b = int(input(\"Veuillez entrer une valeur b : \"))\n",
    "resultat = a + b\n",
    "print(resultat)"
   ]
  },
  {
   "cell_type": "markdown",
   "metadata": {},
   "source": [
    "On peut construire une fonction. Une fonction est un petit programme qui porte un nom et que l'on appelle lorsque l'on veut l'exécuter. Une fonction se définit grâce à def suivi entre parenthèse des arguments dont elle a éventuellement besoin (si il y a plusieurs arguments on les sépare par des virgules).\n",
    "Return definit ce qui est renvoyé par votre fonction (le ou les résultats attendus).\n",
    "Voici un exemple de définition d'une fonction qui prend deux paramètres a et b.\n",
    "Voyez que def se termine par : et tout ce qui est indenté fait partie de la fonction.  \n",
    "Executez cette fonction:"
   ]
  },
  {
   "cell_type": "code",
   "execution_count": 119,
   "metadata": {},
   "outputs": [],
   "source": [
    "def addition(a,b):\n",
    "    resultat = a + b\n",
    "    return resultat"
   ]
  },
  {
   "cell_type": "markdown",
   "metadata": {},
   "source": [
    "Vous avez l'impression qu'il ne s'est rien passé... et pourtant vous venez de mettre en mémoire cette fonction, c'est à dire que vous avez dorénavant un petit programme perso nommé addition qui demande deux paramètres et qui vous retourne l'additin de ces deux paramètres.\n",
    "Pour l'utiliser il suffit de taper addition(2,4) et vous obtiendrez l'addition de 2 et de 4. Démonstration en executant cette cellule:"
   ]
  },
  {
   "cell_type": "code",
   "execution_count": 120,
   "metadata": {},
   "outputs": [
    {
     "data": {
      "text/plain": [
       "6"
      ]
     },
     "execution_count": 120,
     "metadata": {},
     "output_type": "execute_result"
    }
   ],
   "source": [
    "addition(2,4)"
   ]
  },
  {
   "cell_type": "markdown",
   "metadata": {},
   "source": [
    "Il est recommandé de découper son code en plusieurs fonctions simples que l'on appelle au besoin. Une fonction peut alors être réutilisée dans un autre contexte sans que l'on ait à réécrire le code."
   ]
  },
  {
   "cell_type": "markdown",
   "metadata": {},
   "source": [
    "# Passons à la pratique"
   ]
  },
  {
   "cell_type": "markdown",
   "metadata": {},
   "source": [
    "Ecrivez une fonction X2 qui prend en paramètre un argument a et qui retourne l'argument multiplié par 2 (remplacer le pass par votre code):"
   ]
  },
  {
   "cell_type": "code",
   "execution_count": 2,
   "metadata": {},
   "outputs": [],
   "source": [
    "def X2(a):\n",
    "    return a*2"
   ]
  },
  {
   "cell_type": "markdown",
   "metadata": {},
   "source": [
    "Testez votre fonction en executant cette cellule (on devrait avoir 10 en retour...)"
   ]
  },
  {
   "cell_type": "code",
   "execution_count": 3,
   "metadata": {},
   "outputs": [
    {
     "data": {
      "text/plain": [
       "10"
      ]
     },
     "execution_count": 3,
     "metadata": {},
     "output_type": "execute_result"
    }
   ],
   "source": [
    "X2(5)"
   ]
  },
  {
   "cell_type": "markdown",
   "metadata": {},
   "source": [
    "Ecrivez une fonction boucle() qui prend en arguments n et a et qui retourne a multiplié par 2 n fois (il faut faire une boucle) (remplacer le pass par votre code):"
   ]
  },
  {
   "cell_type": "code",
   "execution_count": 4,
   "metadata": {},
   "outputs": [],
   "source": [
    "def boucle(n,a):\n",
    "    for i in range(n):\n",
    "        a = X2(a)\n",
    "    return a"
   ]
  },
  {
   "cell_type": "markdown",
   "metadata": {},
   "source": [
    "Testez votre fonction en executant cette cellule (on devrait avoir 16 en retour...)"
   ]
  },
  {
   "cell_type": "code",
   "execution_count": 5,
   "metadata": {},
   "outputs": [
    {
     "data": {
      "text/plain": [
       "16"
      ]
     },
     "execution_count": 5,
     "metadata": {},
     "output_type": "execute_result"
    }
   ],
   "source": [
    "boucle(4,1)"
   ]
  },
  {
   "cell_type": "markdown",
   "metadata": {},
   "source": [
    "Ecrivez une fonction nb_de_boucles()qui prend en argument x (qui est un grand nombre de minutes) et qui retourne le résultat de la partie entière de la division de x par 20:"
   ]
  },
  {
   "cell_type": "code",
   "execution_count": 6,
   "metadata": {},
   "outputs": [],
   "source": [
    "def nb_de_boucles(x):\n",
    "    return x//20"
   ]
  },
  {
   "cell_type": "markdown",
   "metadata": {},
   "source": [
    "Testez votre fonction en executant cette cellule (on devrait avoir 3 en retour...)"
   ]
  },
  {
   "cell_type": "code",
   "execution_count": 7,
   "metadata": {},
   "outputs": [
    {
     "data": {
      "text/plain": [
       "3"
      ]
     },
     "execution_count": 7,
     "metadata": {},
     "output_type": "execute_result"
    }
   ],
   "source": [
    "nb_de_boucles(60)"
   ]
  },
  {
   "cell_type": "markdown",
   "metadata": {},
   "source": [
    "Et ben voilà ! En imbricant ces fonctions on doit pouvoir facilement trouver le nombre de bactéries obtenues au bout de 120 minutes partant d'une bactérie au départ qui est capable de se diviser en 2 toutes les 20 minutes ....?  \n",
    "On teste et on devrait trouver 64:"
   ]
  },
  {
   "cell_type": "code",
   "execution_count": 127,
   "metadata": {},
   "outputs": [
    {
     "data": {
      "text/plain": [
       "64"
      ]
     },
     "execution_count": 127,
     "metadata": {},
     "output_type": "execute_result"
    }
   ],
   "source": [
    "boucle(nb_de_boucles(120),1)"
   ]
  },
  {
   "cell_type": "markdown",
   "metadata": {},
   "source": [
    "Nous allons à présent travailler avec des chaines de caractères au lieu de travailler avec des chiffres et des nombres.  \n",
    "L'exemple le plus abordable est sans doute celui qui consiste à une séquence d'ARN prémessager à partir d'une séquence d'ADN.  \n",
    "**Mais pour simplifier les choses nous allons prendre le brin codant de l'ADN (le non transcrit).**"
   ]
  },
  {
   "cell_type": "markdown",
   "metadata": {},
   "source": [
    "Votre premier exercice est de créer une variable ADN qui va prendre pour valeur la chaine suivante : \"ATGCTTTGTCTTTAG\"  \n",
    "Ecrivez votre code python ci dessous et executez le :"
   ]
  },
  {
   "cell_type": "code",
   "execution_count": 128,
   "metadata": {},
   "outputs": [],
   "source": [
    "ADN = \"ATGCTTTGTCTTTAG\""
   ]
  },
  {
   "cell_type": "markdown",
   "metadata": {},
   "source": [
    "Ecrivez maintenant une boucle qui va permettre d'énumérer un par un les caractères de cette variable **ADN** et qui les affiche avec un print()."
   ]
  },
  {
   "cell_type": "code",
   "execution_count": 129,
   "metadata": {},
   "outputs": [
    {
     "name": "stdout",
     "output_type": "stream",
     "text": [
      "A\n",
      "T\n",
      "G\n",
      "C\n",
      "T\n",
      "T\n",
      "T\n",
      "G\n",
      "T\n",
      "C\n",
      "T\n",
      "T\n",
      "T\n",
      "A\n",
      "G\n"
     ]
    }
   ],
   "source": [
    "for caractere in ADN:\n",
    "    print(caractere)"
   ]
  },
  {
   "cell_type": "markdown",
   "metadata": {},
   "source": [
    "Bien. Nous allons maintenant devoir préparer une variable ARN vide qui va recevoir la séquence de notre ADN transcrit.\n",
    "Créez cette variable ARN avec pour valeur une chaine de caractère vide ci dessous :"
   ]
  },
  {
   "cell_type": "code",
   "execution_count": 130,
   "metadata": {},
   "outputs": [],
   "source": [
    "ARN = \"\""
   ]
  },
  {
   "cell_type": "markdown",
   "metadata": {},
   "source": [
    "Nous allons maintenant reprendre notre boucle précédente et remplacer le <code>print()</code> par une condition. Si le caractère lu dans le tour de boucle est \"T\", nous allons ajouter la chaine \"U\" à notre ARN (c'est une contaténation de chaine qui se fait simplement par un <code> ARN = ARN + \"T\" </code>).  \n",
    "Sinon on ajoute à notre ARN le caractère qui est lu dans le tour de boucle.\n",
    "En route pour l'écriture de cette boucle :"
   ]
  },
  {
   "cell_type": "code",
   "execution_count": 131,
   "metadata": {},
   "outputs": [],
   "source": [
    "ARN = \"\"\n",
    "for caractere in ADN:\n",
    "    if caractere == \"T\":\n",
    "        ARN = ARN + \"U\"\n",
    "    else:\n",
    "        ARN = ARN + caractere"
   ]
  },
  {
   "cell_type": "markdown",
   "metadata": {},
   "source": [
    "Si vous executez maintenant le code suivant vous devriez pouvoir constater la réussite ou pas de votre code ci dessus :"
   ]
  },
  {
   "cell_type": "code",
   "execution_count": 132,
   "metadata": {},
   "outputs": [
    {
     "name": "stdout",
     "output_type": "stream",
     "text": [
      "La sequence d'ADN est : ATGCTTTGTCTTTAG\n",
      "La sequence d'ARN est : AUGCUUUGUCUUUAG\n"
     ]
    }
   ],
   "source": [
    "print(\"La sequence d'ADN est : \"+ADN)\n",
    "print(\"La sequence d'ARN est : \"+ARN)"
   ]
  },
  {
   "cell_type": "markdown",
   "metadata": {},
   "source": [
    "Considérons maintenant que c'est le code du brin transcrit qui vous est donné : \"TACGAAACAGAAATC\"  \n",
    "Créez le programme python qui prend pour valeur ADN=\"TACGAAACAGAAATC\" et qui vous donne l'ARN prémessager correspondant:"
   ]
  },
  {
   "cell_type": "code",
   "execution_count": 133,
   "metadata": {},
   "outputs": [
    {
     "name": "stdout",
     "output_type": "stream",
     "text": [
      "La sequence d'ADN est : TACGAAACAGAAATC\n",
      "La sequence d'ARN est : AUGCUUUGUCUUUAG\n"
     ]
    }
   ],
   "source": [
    "ADN=\"TACGAAACAGAAATC\"\n",
    "ARN = \"\"\n",
    "for caractere in ADN:\n",
    "    if caractere == \"T\":\n",
    "        ARN = ARN + \"A\"\n",
    "    if caractere == \"C\":\n",
    "        ARN = ARN + \"G\"\n",
    "    if caractere == \"G\":\n",
    "        ARN = ARN + \"C\"\n",
    "    if caractere == \"A\":\n",
    "        ARN = ARN + \"U\"\n",
    "print(\"La sequence d'ADN est : \"+ADN)\n",
    "print(\"La sequence d'ARN est : \"+ARN)"
   ]
  },
  {
   "cell_type": "markdown",
   "metadata": {},
   "source": [
    "# POUR LES PLUS VELOCES :\n",
    "Nous allons tenter de créer maintenant un ribosome artificiel qui va effectuer une traduction d'une sequence d'ARN messager donnée au départ du programme.\n",
    "Nous allons utiliser un dictionnaire pour y enregistrer le code génétique. Un dictionnaire en python est un type de variable qui associe des couples. Le premier élément du dictionnaire est l'index, le deuxième élément est la valeur.  \n",
    "Exemple concret toujours plus parlant :  \n",
    "<code>dic = {\"hello\":\"bonjour\",\"bye\":\"au revoir\"}</code>  \n",
    "Cette variable dic possède deux couples. A \"hello\" correspond \"bonjour\" et à \"bye\" correspond \"au revoir\".\n",
    "Si je demande d'afficher dic[\"hello\"] regardez ce qui se passe :"
   ]
  },
  {
   "cell_type": "code",
   "execution_count": 134,
   "metadata": {},
   "outputs": [
    {
     "name": "stdout",
     "output_type": "stream",
     "text": [
      "bonjour\n"
     ]
    }
   ],
   "source": [
    "dic = {\"hello\":\"bonjour\",\"bye\":\"au revoir\"}\n",
    "print(dic[\"hello\"])"
   ]
  },
  {
   "cell_type": "markdown",
   "metadata": {},
   "source": [
    "Je suis bon prince et je vous fais cadeau du dictionnaire codegen qui contient le code génétique :  \n",
    "* codegenADN est la version à partir du code du brin codant de l'ADN.  \n",
    "* codegenARN est la version à partir du code de l'ARN messager."
   ]
  },
  {
   "cell_type": "code",
   "execution_count": 135,
   "metadata": {},
   "outputs": [],
   "source": [
    "codegenADN =  {'TCA':'SER','TCC':'SER','TCG':'SER','TCT':'SER','TTC':'PHE','TTT':'PHE','TTA':'LEU','TTG':'LEU',\n",
    "            'TAC':'TYR','TAT':'TYR','TAA':'STOP','TAG':'STOP','TGC':'CYS','TGT':'CYS','TGA':'STOP','TGG':'TRP',\n",
    "            'CTA':'LEU','CTC':'LEU','CTG':'LEU','CTT':'LEU','CCA':'PRO','CCC':'PRO','CCG':'PRO','CCT':'PRO',\n",
    "            'CAC':'HIS','CAT':'HIS','CAA':'GLN','CAG':'GLN','CGA':'ARG','CGC':'ARG','CGG':'ARG','CGT':'ARG',\n",
    "            'ATA':'ILE','ATC':'ILE','ATT':'ILE','ATG':'MET','ACA':'THR','ACC':'THR','ACG':'THR','ACT':'THR',\n",
    "            'AAC':'ASP','AAT':'ASP','AAA':'LYS','AAG':'LYS','AGC':'SER','AGT':'SER','AGA':'ARG','AGG':'ARG',\n",
    "            'GTA':'VAL','GTC':'VAL','GTG':'VAL','GTT':'VAL','GCA':'ALA','GCC':'ALA','GCG':'ALA','GCT':'ALA',\n",
    "            'GAC':'ASP','GAT':'ASP','GAA':'GLU','GAG':'GLU','GGA':'GLY','GGC':'GLY','GGG':'GLY','GGT':'GLY'\n",
    "           }\n",
    "codegenARN =  {'UCA':'SER','UCC':'SER','UCG':'SER','UCU':'SER','UUC':'PHE','UUU':'PHE','UUA':'LEU','UUG':'LEU',\n",
    "            'UAC':'UYR','UAU':'UYR','UAA':'SUOP','UAG':'SUOP','UGC':'CYS','UGU':'CYS','UGA':'SUOP','UGG':'URP',\n",
    "            'CUA':'LEU','CUC':'LEU','CUG':'LEU','CUU':'LEU','CCA':'PRO','CCC':'PRO','CCG':'PRO','CCU':'PRO',\n",
    "            'CAC':'HIS','CAU':'HIS','CAA':'GLN','CAG':'GLN','CGA':'ARG','CGC':'ARG','CGG':'ARG','CGU':'ARG',\n",
    "            'AUA':'ILE','AUC':'ILE','AUU':'ILE','AUG':'MEU','ACA':'UHR','ACC':'UHR','ACG':'UHR','ACU':'UHR',\n",
    "            'AAC':'ASP','AAU':'ASP','AAA':'LYS','AAG':'LYS','AGC':'SER','AGU':'SER','AGA':'ARG','AGG':'ARG',\n",
    "            'GUA':'VAL','GUC':'VAL','GUG':'VAL','GUU':'VAL','GCA':'ALA','GCC':'ALA','GCG':'ALA','GCU':'ALA',\n",
    "            'GAC':'ASP','GAU':'ASP','GAA':'GLU','GAG':'GLU','GGA':'GLY','GGC':'GLY','GGG':'GLY','GGU':'GLY'\n",
    "           }"
   ]
  },
  {
   "cell_type": "markdown",
   "metadata": {},
   "source": [
    "Bon ben y a plus qu'a... on commence par faire une boucle qui récupère des groupes de 3 nucléotides dans une variable CODON et qui les affiche. Nous savons que nous pouvons accéder à chaque caractère d'une chaine via son index. Il nous faut donc une boucle avec un pas de 3 et à chaque tour de boucle nous allons lire le caractère à l'index considéré puis celui à l'index considéré + 1 et celui à l'index considéré +2 pour avoir nos 3 nucléotides que nous placerons dans une variable CODON. Il nous faudra également le nombre de nucléotides de notre variable ADN pour fixer la limite de notre boucle; on peut la récupérer grâce à la fonction <code>len(ADN)</code> qui nous donne le nombre de caractères de notre variable ADN."
   ]
  },
  {
   "cell_type": "code",
   "execution_count": 136,
   "metadata": {},
   "outputs": [
    {
     "name": "stdout",
     "output_type": "stream",
     "text": [
      "ATG\n",
      "CTT\n",
      "TGT\n",
      "CTT\n",
      "TAG\n"
     ]
    }
   ],
   "source": [
    "ADN=\"ATGCTTTGTCTTTAG\"\n",
    "for index in range(0,len(ADN)-1,3):\n",
    "    CODON = ADN[index] + ADN[index+1] + ADN[index+2]\n",
    "    print(CODON)\n",
    "    CODON = \"\""
   ]
  },
  {
   "cell_type": "markdown",
   "metadata": {},
   "source": [
    "Il ne nous reste plus qu'à construire notre variable PRO qui contiendra la séquence de la protéine construite à partir de chauqe CODON et du dictionnaire codegen.  \n",
    "Remplaçons alors dans notre code précédent notre <code>print()</code> par la construction de notre proteine, puis affichons notre protéine après la boucle."
   ]
  },
  {
   "cell_type": "code",
   "execution_count": 137,
   "metadata": {},
   "outputs": [
    {
     "name": "stdout",
     "output_type": "stream",
     "text": [
      "MET LEU CYS LEU STOP \n"
     ]
    }
   ],
   "source": [
    "ADN = \"ATGCTTTGTCTTTAG\"\n",
    "PRO = \"\"\n",
    "for index in range(0,len(ADN)-1,3):\n",
    "    CODON = ADN[index] + ADN[index+1] + ADN[index+2]\n",
    "    PRO = PRO + codegenADN[CODON] + \" \"\n",
    "    CODON = \"\"\n",
    "print(PRO)"
   ]
  },
  {
   "cell_type": "markdown",
   "metadata": {},
   "source": [
    "# POUR LES PURISTES AYANT UNE BONNE VELOCITE EN PROG  \n",
    "Il faut maintenant améliorer notre script pour qu'il détecte les codons STOP.  \n",
    "Il faut donc considérer une variable <code>ARRET = False</code> en début de programme. Dans la boucle, il ne faut ajouter l'acide aminé correspondant au codon à notre protéine que si ce codon n'est pas un STOP et (il nous faudra donc un <code>AND</code> que <code>ARRET</code> est égal à <code>False</code>. Si un codon STOP est detecté il faut mettre <code>ARRET = True</code> pour ne plus ajouter d'acides aminés jusqu'à la fin de la boucle au cas où le codon STOP soit au beau milieu de notre séquence..."
   ]
  },
  {
   "cell_type": "code",
   "execution_count": 138,
   "metadata": {},
   "outputs": [
    {
     "name": "stdout",
     "output_type": "stream",
     "text": [
      "MET LEU CYS LEU \n"
     ]
    }
   ],
   "source": [
    "ADN = \"ATGCTTTGTTAGCTT\"\n",
    "PRO = \"\"\n",
    "ARRET = False\n",
    "for index in range(0,len(ADN)-1,3):\n",
    "    CODON = ADN[index] + ADN[index+1] + ADN[index+2]\n",
    "    if codegenADN[CODON] != \"STOP\" and ARRET == False:\n",
    "        PRO = PRO + codegen[CODON] + \" \"\n",
    "    else:\n",
    "        fini = True\n",
    "    CODON = \"\"\n",
    "print(PRO)"
   ]
  },
  {
   "cell_type": "markdown",
   "metadata": {},
   "source": [
    "Et il ne nous reste plus qu'à vérifier qu'il n'y pas de nucléotides qui n'existent pas dans le séquence fournie (comme un Z par exmple)... vous pouvez utiliser un test du genre <code>if caractere not in [\"A\",\"T\",\"C\",\"G\",\"U\"]</code> judicieusement placé..."
   ]
  },
  {
   "cell_type": "code",
   "execution_count": 1,
   "metadata": {},
   "outputs": [
    {
     "name": "stdout",
     "output_type": "stream",
     "text": [
      "\n",
      "Il y a une erreur dans votre code de départ...\n"
     ]
    }
   ],
   "source": [
    "ADN = \"ATGCTTZGTTAGCTT\"\n",
    "PRO = \"\"\n",
    "ARRET = False\n",
    "ERROR = False\n",
    "for caractere in ADN:\n",
    "    if caractere not in [\"A\",\"T\",\"C\",\"G\",\"U\"]:\n",
    "        ARRET = True\n",
    "        ERROR = True\n",
    "if ARRET == False:\n",
    "    for index in range(0,len(ADN)-1,3):\n",
    "        CODON = ADN[index] + ADN[index+1] + ADN[index+2]\n",
    "        if codegenADN[CODON] != \"STOP\" and ARRET == False:\n",
    "            PRO = PRO + codegen[CODON] + \" \"\n",
    "        else:\n",
    "            fini = True\n",
    "        CODON = \"\"\n",
    "print(PRO)\n",
    "if ERROR == True :\n",
    "    print(\"Il y a une erreur dans votre code de départ...\")"
   ]
  },
  {
   "cell_type": "markdown",
   "metadata": {},
   "source": [
    "Licence Creative Commons CC – BY – SA  \n",
    "Auteur : C. LEJEUNE - Académie Orléans-Tours (christophe.lejeune@ac-orleans-tours.fr)"
   ]
  }
 ],
 "metadata": {
  "kernelspec": {
   "display_name": "Python 3",
   "language": "python",
   "name": "python3"
  },
  "language_info": {
   "codemirror_mode": {
    "name": "ipython",
    "version": 3
   },
   "file_extension": ".py",
   "mimetype": "text/x-python",
   "name": "python",
   "nbconvert_exporter": "python",
   "pygments_lexer": "ipython3",
   "version": "3.7.6"
  }
 },
 "nbformat": 4,
 "nbformat_minor": 2
}
