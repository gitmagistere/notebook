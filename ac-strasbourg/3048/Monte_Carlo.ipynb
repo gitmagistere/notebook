{
 "cells": [
  {
   "cell_type": "markdown",
   "metadata": {},
   "source": [
    "# Détermination des incertitudes par la méthode de Monte Carlo"
   ]
  },
  {
   "cell_type": "markdown",
   "metadata": {},
   "source": [
    "<span style=\"color: #7C39C9\">Objectif : Ecrire un programme permettant de calculer la propagation des incertitudes par des nombres aléatoires.</span>\n",
    "\n",
    "***Pré-requis: boucles for, librairie numpy (et matplotlib).***"
   ]
  },
  {
   "cell_type": "code",
   "execution_count": null,
   "metadata": {},
   "outputs": [],
   "source": [
    "import numpy as np\n",
    "import matplotlib.pyplot as plt\n",
    "%matplotlib inline"
   ]
  },
  {
   "cell_type": "markdown",
   "metadata": {},
   "source": [
    "## A. Tirage d'un nombre aléatoire uniforme et histogramme en Python"
   ]
  },
  {
   "cell_type": "markdown",
   "metadata": {},
   "source": [
    "**1. Que retourne l'instruction np.random.random() ? Exécuter l'instruction une dixaine de fois.** "
   ]
  },
  {
   "cell_type": "code",
   "execution_count": null,
   "metadata": {},
   "outputs": [],
   "source": [
    "np.random.random()"
   ]
  },
  {
   "cell_type": "markdown",
   "metadata": {},
   "source": [
    "**2. Que retourne l'instruction np.random.random(100) ? Modifier la valeur 100 et commenter le résultat.**"
   ]
  },
  {
   "cell_type": "code",
   "execution_count": null,
   "metadata": {},
   "outputs": [],
   "source": [
    "np.random.random(100)"
   ]
  },
  {
   "cell_type": "markdown",
   "metadata": {},
   "source": [
    "**3. Que retourne le code suivant ? En déduire la signification de l'option bins=50.**\n",
    "\n",
    "**4. La distribution est-elle vraiment uniforme ? Comment expliquer que les occurrence des échantillons ne sont pas égales?**"
   ]
  },
  {
   "cell_type": "code",
   "execution_count": null,
   "metadata": {},
   "outputs": [],
   "source": [
    "liste = np.random.random(100)\n",
    "\n",
    "plt.hist(liste,color='blue')\n",
    "plt.hist(liste,bins=50,color='black')\n",
    "plt.xlabel('echantillons')\n",
    "plt.ylabel('occurrence')"
   ]
  },
  {
   "cell_type": "markdown",
   "metadata": {},
   "source": [
    "## B. Méthode de Monte-Carlo pour la propagation des incertitudes"
   ]
  },
  {
   "cell_type": "markdown",
   "metadata": {},
   "source": [
    "**5. Que retourne l'instruction np.random.normal() ? Exécuter l'instruction une dixaine de fois.** "
   ]
  },
  {
   "cell_type": "code",
   "execution_count": null,
   "metadata": {},
   "outputs": [],
   "source": [
    "np.random.normal()"
   ]
  },
  {
   "cell_type": "markdown",
   "metadata": {},
   "source": [
    "**6. Que retourne le code suivant ? Commenter le résultat obtenu.** "
   ]
  },
  {
   "cell_type": "code",
   "execution_count": null,
   "metadata": {},
   "outputs": [],
   "source": [
    "# Documentation: np.random.normal(Moyenne,Ecart-Type,Taille)\n",
    "liste = np.random.normal(0,1,1000)\n",
    "plt.hist(liste,bins=50)"
   ]
  },
  {
   "cell_type": "markdown",
   "metadata": {},
   "source": [
    "### B.1. Loi normale (optionnel)"
   ]
  },
  {
   "cell_type": "markdown",
   "metadata": {},
   "source": [
    "Une variable aléatoire $X$ est un ensemble de valeurs prises par une mesure. Elle possède une valeur moyenne notée $\\bar x$ et un écart-type noté $\\sigma$. Lorsque la variable aléatoire $X$ suit la loi normale, elle est dite gaussienne (ou normale) et on utilise la notation suivante:\n",
    "\n",
    "$$X \\sim N(\\bar x,\\sigma)$$\n",
    "\n",
    "La densité de probablité $f(x)$ de la loi normale est:\n",
    "\n",
    "$$f(x) = \\frac{1}{\\sqrt{2\\pi\\sigma^2}}\\exp\\left(-\\frac{1}{2}\\left(\\frac{x-\\bar x}{\\sigma}\\right)^2\\right)$$\n",
    "\n",
    "Exemple d'une loi $N(0,1)$ avec le code suivant:"
   ]
  },
  {
   "cell_type": "code",
   "execution_count": null,
   "metadata": {},
   "outputs": [],
   "source": [
    "n          = 1000                        # nombre de tirage\n",
    "liste      = np.random.normal(0,1,n)     # n tirages aleatoires N(0,1)\n",
    "moyenne    = sum(liste)/n                # calcul valeur moyenne\n",
    "ecart_type = sum((liste-moyenne)**2)/n   # calcul ecart-type\n",
    "ecart_type = ecart_type**0.5\n",
    "print(moyenne,ecart_type,np.std(liste))  # np.std: ecart-type"
   ]
  },
  {
   "cell_type": "markdown",
   "metadata": {},
   "source": [
    "***Afin de simplifier les codes suivants, on utilisera l'instruction np.std() afin de calculer l'écart-type d'une distribution de valeurs.***"
   ]
  },
  {
   "cell_type": "markdown",
   "metadata": {},
   "source": [
    "### B.2. Algorithme"
   ]
  },
  {
   "cell_type": "markdown",
   "metadata": {},
   "source": [
    "On suppose dans l'exemple suivant que chaque mesure suit une loi normale.\n",
    "\n",
    "On considère le titrage d'une solution de volume $V_0 = (100.0 \\pm 0.8)$ mL et de concentration inconnue $C_0$ par une solution titrante de concentration $C_1 = (1.00 \\pm 0.01)\\times 10^{-3}$ mol/L. Le volume équivalent lu sur la burette est de $V_{eq} = (20.00 \\pm 0.05)$ mL. On obtient la valeur de $C_0$:\n",
    "\n",
    "$$C_0 = \\frac{C_1\\cdot V_{eq}}{V_0}$$\n",
    "\n",
    "On souhaite calculer l'incertitude sur la mesure de $C_0$ par la méthode de Monte-Carlo qui consiste à générer par l'ordinateur une loi normale $N(\\bar x,\\sigma)$ pour chaque grandeur et de calculer la moyenne et l'écart-type de toutes les valeurs prises par $C_0$. L'algorithme en langage naturel est:\n",
    "\n",
    "    # Initialisation:\n",
    "\n",
    "    n <- 1000\n",
    "    liste <- [0] * n   # liste de n zéros\n",
    "\n",
    "    # Traitement:\n",
    "    \n",
    "    Pour i allant de 0 à n :\n",
    "        C1  <- Tirage aléatoire normale de moyenne 1.00 et d'écart-type 0.01\n",
    "        Veq <- Tirage aléatoire normale de moyenne 20.00 et d'écart-type 0.05\n",
    "        V0  <- Tirage aléatoire normale de moyenne 100.0 et d'écart-type 0.3\n",
    "        \n",
    "        liste[i] <- C1 * Veq / V0\n",
    "    Fin Pour\n",
    "    \n",
    "    C0   <- sum(liste)/n  (Moyenne de liste)\n",
    "    U_C0 <- np.std(liste) (Ecart-type de liste)"
   ]
  },
  {
   "cell_type": "markdown",
   "metadata": {},
   "source": [
    "**7. Réaliser l'algorithme.** "
   ]
  },
  {
   "cell_type": "code",
   "execution_count": null,
   "metadata": {},
   "outputs": [],
   "source": [
    "## faire l'algorithme ici"
   ]
  },
  {
   "cell_type": "markdown",
   "metadata": {},
   "source": [
    "**8. Comparer l'écart-type obtenu U_C0 à la valeur attendue:**\n",
    "\n",
    "$$U(C_0) = C_0\\cdot\\sqrt{\\left(\\frac{U_{C_1}}{C_1}\\right)^2 + \\left(\\frac{U_{V_0}}{V_0}\\right)^2 + \\left(\\frac{U_{V_{eq}}}{V_{eq}}\\right)^2} \\approx 0.002$$"
   ]
  },
  {
   "cell_type": "code",
   "execution_count": null,
   "metadata": {},
   "outputs": [],
   "source": []
  },
  {
   "cell_type": "markdown",
   "metadata": {},
   "source": [
    "### B.3. Cas d'une formule avec addition"
   ]
  },
  {
   "cell_type": "markdown",
   "metadata": {},
   "source": [
    "Pour deux variables aléatoires $a\\sim N(1/2,0.3)$ et $b \\sim N(1/2,0.2)$, la variable $c = a+b$ suit la loi:\n",
    "\n",
    "$$c \\sim N(1/2+1/2,\\sqrt{0.3^2+0.2^2})$$"
   ]
  },
  {
   "cell_type": "code",
   "execution_count": null,
   "metadata": {},
   "outputs": [],
   "source": [
    "n = 1000\n",
    "sd_a = 0.3\n",
    "sd_b = 0.2\n",
    "c = np.zeros(n)\n",
    "for i in range(n):\n",
    "    a = np.random.normal(0.5,sd_a)\n",
    "    b = np.random.normal(0.5,sd_b)\n",
    "    c[i] = a + b\n",
    "    \n",
    "moy = np.mean(c)\n",
    "print('moyenne:',moy,0.5+0.5)\n",
    "\n",
    "valeur_attendue = (sd_a**2+sd_b**2)**0.5\n",
    "print('ecart-type:',np.std(c),valeur_attendue)"
   ]
  },
  {
   "cell_type": "code",
   "execution_count": null,
   "metadata": {},
   "outputs": [],
   "source": []
  },
  {
   "cell_type": "code",
   "execution_count": null,
   "metadata": {},
   "outputs": [],
   "source": []
  },
  {
   "cell_type": "code",
   "execution_count": null,
   "metadata": {},
   "outputs": [],
   "source": []
  },
  {
   "cell_type": "code",
   "execution_count": null,
   "metadata": {},
   "outputs": [],
   "source": []
  },
  {
   "cell_type": "markdown",
   "metadata": {},
   "source": [
    "Solution:"
   ]
  },
  {
   "cell_type": "code",
   "execution_count": null,
   "metadata": {},
   "outputs": [],
   "source": [
    "n     = 1000\n",
    "liste = np.zeros(n)\n",
    "\n",
    "for i in range(n):\n",
    "    C1  = np.random.normal(1.00,0.01)\n",
    "    Veq = np.random.normal(20.00,0.05)\n",
    "    V0  = np.random.normal(100.0,0.3)\n",
    "    liste[i] = C1 * Veq / V0\n",
    "    \n",
    "print('moyenne:',np.mean(liste),1*20/100)\n",
    "\n",
    "valeur_attendue = 0.2*((0.01/1.00)**2+(0.05/20.00)**2+(0.3/100.0)**2)**0.5\n",
    "print('ecart-type:',np.std(liste),valeur_attendue)"
   ]
  }
 ],
 "metadata": {
  "kernelspec": {
   "display_name": "Python 3",
   "language": "python",
   "name": "python3"
  },
  "language_info": {
   "codemirror_mode": {
    "name": "ipython",
    "version": 3
   },
   "file_extension": ".py",
   "mimetype": "text/x-python",
   "name": "python",
   "nbconvert_exporter": "python",
   "pygments_lexer": "ipython3",
   "version": "3.6.8"
  }
 },
 "nbformat": 4,
 "nbformat_minor": 2
}
