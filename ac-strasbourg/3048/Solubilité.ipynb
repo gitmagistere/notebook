{
 "cells": [
  {
   "cell_type": "markdown",
   "metadata": {},
   "source": [
    "<span style=\"color: #7C39C9\">Objectif : Ecrire un programme permettant le calcul de la solubilité d'une espèce chimique.</span>\n",
    "\n",
    "***Pré-requis: conditions if/else, boucle while, fonction, algorithme de dichotomie (2nde).***"
   ]
  },
  {
   "cell_type": "markdown",
   "metadata": {},
   "source": [
    "# Recherche de racine par dichotomie"
   ]
  },
  {
   "cell_type": "markdown",
   "metadata": {},
   "source": [
    "On s’intéresse d’abord à la recherche de racine d'une fonction $f$ par dichotomie. \n",
    "\n",
    "La dichotomie est une méthode de recherche de zéro d'une fonction continue et monotone. La méthode consiste à découper successivement un intervalle [a,b] en deux au point milieu $m = (a+b)/2$. Si les signes $f(a)$ et $f(m)$ sont différents alors le $0$ est dans l'intervalle $[a,m]$; sinon dans l'intervalle $[m,b]$. Ensuite on découpe l'intervalle retenu en deux et ainsi de suite ... . L'algorithme prend fin lorsque la différence entre $a$ et $b$ atteint un critère de précision $\\varepsilon$."
   ]
  },
  {
   "cell_type": "markdown",
   "metadata": {},
   "source": [
    "On considère la fonction f(x) suivante:\n",
    "    $$f(x) = x^2-2,$$\n",
    "dont la racine est $\\sqrt{2} = 1.4142135623730951$. On souhaite retrouver cette valeur par dichomotie avec une précision $\\varepsilon = 10^{-3}$."
   ]
  },
  {
   "cell_type": "markdown",
   "metadata": {},
   "source": [
    "L'algorithme en langage naturel est:\n",
    "\n",
    "    # Initialisation:\n",
    "\n",
    "    a   <- 0    (borne inférieure)\n",
    "    b   <- 2    (borne supérieure)\n",
    "    epsilon <- 1e-3\n",
    "\n",
    "    # Traitement:\n",
    "    \n",
    "    Tant que b - a > epsilon\n",
    "        m <- (a + b) / 2 \n",
    "        Si f(a)*f(m) < 0 alors :\n",
    "            La racine est dans l'intervalle [a,m[\n",
    "            b <- m\n",
    "        Sinon :\n",
    "            La racine est dans l'intervalle [m,b]\n",
    "            a <- m\n",
    "        Fin Si\n",
    "    Fin Tant que\n",
    "    \n",
    "    Afficher (a + b) / 2"
   ]
  },
  {
   "cell_type": "markdown",
   "metadata": {},
   "source": [
    "**1. Exécuter le programme et vérifier que l’on retrouve bien la valeur à $10^{-3}$ près.**"
   ]
  },
  {
   "cell_type": "code",
   "execution_count": 2,
   "metadata": {},
   "outputs": [
    {
     "name": "stdout",
     "output_type": "stream",
     "text": [
      "1.41455078125\n"
     ]
    }
   ],
   "source": [
    "def f(x):\n",
    "    return x**2-2.0\n",
    "\n",
    "a = 0   # borne inferieure\n",
    "b = 2   # borne superieure\n",
    "epsilon = 1e-3\n",
    "\n",
    "while b-a > epsilon:\n",
    "    m = (a+b)/2.0\n",
    "    if f(a)*f(m) < 0:\n",
    "        b = m\n",
    "    else:\n",
    "        a = m\n",
    "\n",
    "racine = (a+b)/2.0\n",
    "print(racine)"
   ]
  },
  {
   "cell_type": "markdown",
   "metadata": {},
   "source": [
    "**2. Affecter la valeur 1 à la variable epsilon. Commenter le résultat.**"
   ]
  },
  {
   "cell_type": "code",
   "execution_count": null,
   "metadata": {},
   "outputs": [],
   "source": []
  },
  {
   "cell_type": "markdown",
   "metadata": {},
   "source": [
    "**3. Modifier cet algorithme afin d’obtenir une précision à $10^{-8}$ près.**"
   ]
  },
  {
   "cell_type": "code",
   "execution_count": null,
   "metadata": {},
   "outputs": [],
   "source": []
  },
  {
   "cell_type": "markdown",
   "metadata": {},
   "source": [
    "# Etude d'une dissolution"
   ]
  },
  {
   "cell_type": "markdown",
   "metadata": {},
   "source": [
    "On s’intéresse à la dissolution du Chlorure d’Argent dans de l’eau dont l’équation chimique est :\n",
    "\n",
    "$$AgCl_\\text{(s)} \\rightleftharpoons Ag^+_\\text{(aq)} + Cl^-_\\text{(aq)}$$\n",
    "    \n",
    "Tableau d'avancement:\n",
    "\n",
    "|  | AgCl | Ag$^+$ | Cl$^-$ |\n",
    "| --- | --- | --- |\n",
    "|Etat Initial | s | 0 | 0 |\n",
    "|Etat Final | 0  | s | s |\n",
    "\n",
    "Le produit de solubilité $K_s$ s’écrit :\n",
    "\n",
    "$$K_s = [Ag^+]\\cdot [Cl^-] = s\\cdot s = 1.8\\times 10^{-10}.$$\n",
    "\n",
    "On souhaite calculer la solubilité $s$ des ions $Ag^+$ et $Cl^-$. Cela se traduit par l’équation :\n",
    "\n",
    "$$s\\cdot s - 1.8\\times 10^{-10} = 0.$$\n",
    "\n",
    "Cela revient à chercher le 0 de la fonction suivante:\n",
    "\n",
    "$$f(s) = s^2 - 1.8\\times 10^{-10}.$$"
   ]
  },
  {
   "cell_type": "markdown",
   "metadata": {},
   "source": [
    "**4. Modifier la fonction f(x) dans le programme précédent afin de répondre à la problématique.**"
   ]
  },
  {
   "cell_type": "code",
   "execution_count": null,
   "metadata": {},
   "outputs": [],
   "source": []
  },
  {
   "cell_type": "markdown",
   "metadata": {},
   "source": [
    "**5. D'après la fonction f(s), donner un encadrement de la solubilité. Proposer des bornes $a$ et $b$ pour l'algorithme de dichotomie.**"
   ]
  },
  {
   "cell_type": "code",
   "execution_count": null,
   "metadata": {},
   "outputs": [],
   "source": []
  },
  {
   "cell_type": "markdown",
   "metadata": {},
   "source": [
    "**6. D'après la fonction f(s), proposer un ordre de grandeur pour le critère de précision $\\varepsilon$.**"
   ]
  },
  {
   "cell_type": "code",
   "execution_count": null,
   "metadata": {},
   "outputs": [],
   "source": []
  },
  {
   "cell_type": "markdown",
   "metadata": {},
   "source": [
    "**7. D'après les questions précédentes, montrer que la valeur numérique de la solubilité est $s = 1,3\\times 10^{-5}$\n",
    "mol/L.**"
   ]
  },
  {
   "cell_type": "code",
   "execution_count": null,
   "metadata": {},
   "outputs": [],
   "source": []
  },
  {
   "cell_type": "markdown",
   "metadata": {},
   "source": [
    "# Pour les plus rapides"
   ]
  },
  {
   "cell_type": "markdown",
   "metadata": {},
   "source": [
    "On s’intéresse à présent à la dissolution du $PbI_2$ :\n",
    "\n",
    "$$PbI_{2\\text{(s)}} \\rightleftharpoons Pb^{2+}_\\text{(aq)} + 2I^-_\\text{(aq)}$$\n",
    "    \n",
    "    \n",
    "|  | PbI$_2$ | Pb$^{2+}$ | 2I$^-$ |\n",
    "| --- | --- | --- |\n",
    "|Etat Initial | s | 0 | 0 |\n",
    "|Etat Final | 0  | s | 2$\\cdot$s |\n",
    "\n",
    "Le produit de solubilité $K_s$ s’écrit :\n",
    "\n",
    "$$K_s = [Pb^{2+}]\\cdot [I^-]^2 = s\\cdot (2\\cdot s)^2 = 1,35\\times 10^{-8}.$$"
   ]
  },
  {
   "cell_type": "markdown",
   "metadata": {},
   "source": [
    "**8. Modifier la fonction f afin de calculer la solubilité du PbI$_2$.**"
   ]
  },
  {
   "cell_type": "code",
   "execution_count": null,
   "metadata": {},
   "outputs": [],
   "source": []
  },
  {
   "cell_type": "code",
   "execution_count": null,
   "metadata": {},
   "outputs": [],
   "source": []
  },
  {
   "cell_type": "code",
   "execution_count": null,
   "metadata": {},
   "outputs": [],
   "source": []
  },
  {
   "cell_type": "code",
   "execution_count": null,
   "metadata": {},
   "outputs": [],
   "source": []
  },
  {
   "cell_type": "code",
   "execution_count": null,
   "metadata": {},
   "outputs": [],
   "source": []
  },
  {
   "cell_type": "markdown",
   "metadata": {},
   "source": [
    "Solution:"
   ]
  },
  {
   "cell_type": "code",
   "execution_count": 16,
   "metadata": {},
   "outputs": [
    {
     "name": "stdout",
     "output_type": "stream",
     "text": [
      "1.3416433334350587e-05\n"
     ]
    }
   ],
   "source": [
    "def f(x):\n",
    "    return x**2-1.8e-10\n",
    "\n",
    "a = 0      # borne inferieure\n",
    "b = 1e-4   # borne superieure\n",
    "epsilon = 1e-10\n",
    "\n",
    "while abs(b-a) > epsilon:\n",
    "    m = (a+b)/2.0\n",
    "    if f(a)*f(m) < 0:\n",
    "        b = m\n",
    "    else:\n",
    "        a = m\n",
    "\n",
    "racine = (a+b)/2.0\n",
    "print(racine)"
   ]
  },
  {
   "cell_type": "code",
   "execution_count": null,
   "metadata": {},
   "outputs": [],
   "source": []
  }
 ],
 "metadata": {
  "kernelspec": {
   "display_name": "Python 3",
   "language": "python",
   "name": "python3"
  },
  "language_info": {
   "codemirror_mode": {
    "name": "ipython",
    "version": 3
   },
   "file_extension": ".py",
   "mimetype": "text/x-python",
   "name": "python",
   "nbconvert_exporter": "python",
   "pygments_lexer": "ipython3",
   "version": "3.6.8"
  }
 },
 "nbformat": 4,
 "nbformat_minor": 2
}
