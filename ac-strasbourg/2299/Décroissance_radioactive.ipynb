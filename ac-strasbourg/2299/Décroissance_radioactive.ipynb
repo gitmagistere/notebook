{
 "cells": [
  {
   "cell_type": "markdown",
   "metadata": {},
   "source": [
    "<span style=\"color: #7C39C9\">Objectif : Ecrire un programme permettant de simuler une décroissance radioactive.</span>\n",
    "\n",
    "***Pré-requis: boucles for et while, librairie matplotlib.***"
   ]
  },
  {
   "cell_type": "code",
   "execution_count": 1,
   "metadata": {},
   "outputs": [],
   "source": [
    "import matplotlib.pyplot as plt  # librairie matplotlib pour tracer les graphiques:\n",
    "import numpy as np               # pour les nombres aléatoires\n",
    "\n",
    "# afficher les graphiques dans les cellules:\n",
    "%matplotlib inline"
   ]
  },
  {
   "cell_type": "markdown",
   "metadata": {},
   "source": [
    "On considère atomes $N$ radioactifs instables. À chaque itération, un tirage aléatoire binaire équiprobable est effectué pour chaque atome radioactif. Si la valeur tirée est 1 alors l'atome se désintègre, sinon rien ne se passe. On affecte à la variable $n$ le nombre aléatoire tiré. L'algorithme en langage naturel est:\n",
    "\n",
    "    # Entrée:\n",
    "\n",
    "    N0 <- 1000\n",
    "\n",
    "    # Initialisation:\n",
    "\n",
    "    N <- N0\n",
    "    T <- 0\n",
    "    Afficher le point (T,N) plt.plot(T,N,'k*')\n",
    "    \n",
    "    # Traitement:\n",
    "    \n",
    "    Tant que N > 0: \n",
    "        T <- T + 1\n",
    "        Pour i allant de 0 à N:\n",
    "            n <- Entier aléatoire compris entre 0 et 1 inclus\n",
    "            N <- N - n\n",
    "        Fin Pour\n",
    "        Afficher le point (T,N)\n",
    "    Fin Tant que\n",
    "    \n",
    "    Affichage du graphique à l'écran plt.show()"
   ]
  },
  {
   "cell_type": "markdown",
   "metadata": {},
   "source": [
    "# Etude préliminaire"
   ]
  },
  {
   "cell_type": "markdown",
   "metadata": {},
   "source": [
    "**1. Que retourne l'instruction np.random.randint(0,2) ? Exécuter l'instruction une dixaine de fois.** "
   ]
  },
  {
   "cell_type": "code",
   "execution_count": 6,
   "metadata": {},
   "outputs": [
    {
     "data": {
      "text/plain": [
       "1"
      ]
     },
     "execution_count": 6,
     "metadata": {},
     "output_type": "execute_result"
    }
   ],
   "source": [
    "np.random.randint(0,2)"
   ]
  },
  {
   "cell_type": "markdown",
   "metadata": {},
   "source": [
    "**2. Ce tirage est-il binaire? Si l'entier 1 est tiré, l'atome se désintègre-t-il ?**"
   ]
  },
  {
   "cell_type": "code",
   "execution_count": null,
   "metadata": {},
   "outputs": [],
   "source": []
  },
  {
   "cell_type": "markdown",
   "metadata": {},
   "source": [
    "**3. Le nombre d'itération pour la désintégration est-il connu à l'avance? Quelle instruction permet de réaliser ce type de boucle?**"
   ]
  },
  {
   "cell_type": "code",
   "execution_count": null,
   "metadata": {},
   "outputs": [],
   "source": []
  },
  {
   "cell_type": "markdown",
   "metadata": {},
   "source": [
    "**4. Quelle instruction permet de réaliser la boucle Pour?**"
   ]
  },
  {
   "cell_type": "code",
   "execution_count": null,
   "metadata": {},
   "outputs": [],
   "source": []
  },
  {
   "cell_type": "markdown",
   "metadata": {},
   "source": [
    "# Réalisation de l'algorithme"
   ]
  },
  {
   "cell_type": "markdown",
   "metadata": {},
   "source": [
    "**5. Implémenter cet algorithme.**"
   ]
  },
  {
   "cell_type": "code",
   "execution_count": null,
   "metadata": {},
   "outputs": [],
   "source": []
  },
  {
   "cell_type": "markdown",
   "metadata": {},
   "source": [
    "On rappelle que le temps de demi-vie $t_{1/2}$ est le temps au bout duquel la moitié des atomes se sont desintégrés.\n",
    "\n",
    "**6. Déterminer par un ajustement à l'oeil la valeur numérique de $t_{1/2}$.**"
   ]
  },
  {
   "cell_type": "markdown",
   "metadata": {},
   "source": [
    "$\\sim$ 1"
   ]
  },
  {
   "cell_type": "markdown",
   "metadata": {},
   "source": [
    "**7. À l'aide des instructions x = np.linspace(0,T,100) et y = np.exp(-x/t) déterminer par un ajustement $t_{1/2}$.**"
   ]
  },
  {
   "cell_type": "markdown",
   "metadata": {},
   "source": [
    "$t_{1/2} = \\sqrt{2}$"
   ]
  },
  {
   "cell_type": "markdown",
   "metadata": {},
   "source": [
    "**8. En déduire l'équation de désintégration suivie par ce type de radioactivité.**"
   ]
  },
  {
   "cell_type": "markdown",
   "metadata": {},
   "source": [
    "# Processus à barrière"
   ]
  },
  {
   "cell_type": "markdown",
   "metadata": {},
   "source": [
    "À présent suppose qu'un atome se désintègre seulement si le tirage du nombre (réel cette fois) est plus grand qu'une valeur seuil $s$."
   ]
  },
  {
   "cell_type": "markdown",
   "metadata": {},
   "source": [
    "**9. Que retourne l'instruction np.random.random()? Répéter l'instruction plusieurs fois.**"
   ]
  },
  {
   "cell_type": "code",
   "execution_count": 17,
   "metadata": {},
   "outputs": [
    {
     "data": {
      "text/plain": [
       "0.539107650465071"
      ]
     },
     "execution_count": 17,
     "metadata": {},
     "output_type": "execute_result"
    }
   ],
   "source": [
    "np.random.random()"
   ]
  },
  {
   "cell_type": "markdown",
   "metadata": {},
   "source": [
    "**10. Donner les valeurs min et max que retourne l'instruction np.random.random(). En déduire les bornes du seuil s**"
   ]
  },
  {
   "cell_type": "code",
   "execution_count": null,
   "metadata": {},
   "outputs": [],
   "source": []
  },
  {
   "cell_type": "markdown",
   "metadata": {},
   "source": [
    "**11. Ecrire cet algorithme en langage naturel**"
   ]
  },
  {
   "cell_type": "markdown",
   "metadata": {},
   "source": [
    "    Entrée:\n",
    "\n",
    "    N0 <- 1000\n",
    "    s  <-\n",
    "\n",
    "    Initialisation:\n",
    "\n",
    "    N <- N0\n",
    "    T <- 0\n",
    "    Afficher le point (T,N) plt.plot(T,N,'k*')\n",
    "    \n",
    "    Tant que N > 0: \n",
    "        T <- T + 1\n",
    "        Pour i allant de 0 à N:\n",
    "            ****\n",
    "            A compléter ici\n",
    "            ****\n",
    "            \n",
    "        Fin Pour\n",
    "        Afficher le point (T,N)\n",
    "    Fin Tant que\n",
    "    \n",
    "    Affichage du graphique à l'écran plt.show()"
   ]
  },
  {
   "cell_type": "markdown",
   "metadata": {},
   "source": [
    "**12. Implémenter cet algorithme.**"
   ]
  },
  {
   "cell_type": "code",
   "execution_count": null,
   "metadata": {},
   "outputs": [],
   "source": []
  },
  {
   "cell_type": "code",
   "execution_count": null,
   "metadata": {},
   "outputs": [],
   "source": []
  },
  {
   "cell_type": "code",
   "execution_count": null,
   "metadata": {},
   "outputs": [],
   "source": []
  },
  {
   "cell_type": "code",
   "execution_count": null,
   "metadata": {},
   "outputs": [],
   "source": []
  },
  {
   "cell_type": "code",
   "execution_count": null,
   "metadata": {},
   "outputs": [],
   "source": []
  },
  {
   "cell_type": "code",
   "execution_count": null,
   "metadata": {},
   "outputs": [],
   "source": []
  },
  {
   "cell_type": "markdown",
   "metadata": {},
   "source": [
    "Solutions:"
   ]
  },
  {
   "cell_type": "code",
   "execution_count": 26,
   "metadata": {},
   "outputs": [
    {
     "data": {
      "image/png": "[encoded data removed]",
      "text/plain": [
       "<matplotlib.figure.Figure at 0x7fe33bb8a390>"
      ]
     },
     "metadata": {},
     "output_type": "display_data"
    }
   ],
   "source": [
    "N0 = 1000\n",
    "N = N0\n",
    "T = 0\n",
    "plt.plot(T,N,'C0*')\n",
    "\n",
    "while N > 0:\n",
    "    T = T + 1\n",
    "    for i in range(N):\n",
    "        n = np.random.randint(0,2)\n",
    "        N = N - n\n",
    "        \n",
    "    plt.plot(T,N,'C0*')\n",
    "\n",
    "x = np.linspace(0,T,100)\n",
    "y = N0*np.exp(-0.707*x)\n",
    "plt.plot(x,y)\n",
    "plt.show()"
   ]
  },
  {
   "cell_type": "code",
   "execution_count": 27,
   "metadata": {},
   "outputs": [
    {
     "data": {
      "image/png": "[encoded data removed]",
      "text/plain": [
       "<matplotlib.figure.Figure at 0x7fe33bc64240>"
      ]
     },
     "metadata": {},
     "output_type": "display_data"
    }
   ],
   "source": [
    "N0 = 10000\n",
    "s = 0.6\n",
    "\n",
    "N = N0\n",
    "T = 0\n",
    "plt.plot(T,N,'C0*')\n",
    "\n",
    "while N > 0:\n",
    "    T = T + 1\n",
    "    for i in range(N):\n",
    "        n = np.random.random()\n",
    "        if n > s:\n",
    "            N = N - 1\n",
    "        \n",
    "    plt.plot(T,N,'C0*')\n",
    "\n",
    "plt.show()"
   ]
  },
  {
   "cell_type": "code",
   "execution_count": null,
   "metadata": {},
   "outputs": [],
   "source": []
  }
 ],
 "metadata": {
  "kernelspec": {
   "display_name": "Python 3",
   "language": "python",
   "name": "python3"
  },
  "language_info": {
   "codemirror_mode": {
    "name": "ipython",
    "version": 3
   },
   "file_extension": ".py",
   "mimetype": "text/x-python",
   "name": "python",
   "nbconvert_exporter": "python",
   "pygments_lexer": "ipython3",
   "version": "3.6.8"
  }
 },
 "nbformat": 4,
 "nbformat_minor": 2
}
