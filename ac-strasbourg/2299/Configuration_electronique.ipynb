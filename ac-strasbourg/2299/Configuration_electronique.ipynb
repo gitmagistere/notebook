{
 "cells": [
  {
   "cell_type": "markdown",
   "metadata": {},
   "source": [
    "<span style=\"color: #7C39C9\">Objectif : On se propose d'écrire la configuration électronique d'un élément chimique par un programme.</span>\n",
    "\n",
    "***Pré-requis: listes, conditions if/else, boucle while.***"
   ]
  },
  {
   "cell_type": "markdown",
   "metadata": {},
   "source": [
    "On dispose de $N$ électrons à répartir dans les différentes sous-couches électroniques. On commence par remplir la sous-couche la plus basse. Une fois remplie on répartit le nombre d'électrons restant dans la sous-couche supérieure; et ainsi de suite. Chaque itération correspond un remplissage de la sous-couche supérieure. On note $Z$ le numéro atomique. L'algorithme en langage naturel est:\n",
    "\n",
    "    # Entrée:\n",
    "    \n",
    "    Z\n",
    "\n",
    "    # Initialisation:\n",
    "\n",
    "    N        <- Z\n",
    "    couche   <- ['1s','2s','2p','3s','3p']\n",
    "    capacite <- [2,2,X,X,X]                  # à compléter\n",
    "    i        <- 0 (couche 1s) \n",
    "\n",
    "    # Traitement:\n",
    "    \n",
    "    Tant que N > 0 :\n",
    "        Si N > capacite[i] alors :\n",
    "            Afficher à l'écran couche[i]\n",
    "            Afficher à l'écran capacite[i]\n",
    "        Sinon :\n",
    "            Afficher à l'écran couche[i]\n",
    "            Afficher à l'écran N \n",
    "        Fin Si\n",
    "\n",
    "        N <- N - capacite[i] \n",
    "        i <- i + 1 (sous-couche supérieure) \n",
    "    Fin Tant que"
   ]
  },
  {
   "cell_type": "markdown",
   "metadata": {},
   "source": [
    "# Etude préliminaire"
   ]
  },
  {
   "cell_type": "markdown",
   "metadata": {},
   "source": [
    "On considère les listes $couche$ et $capacite$ suivantes:"
   ]
  },
  {
   "cell_type": "code",
   "execution_count": null,
   "metadata": {},
   "outputs": [],
   "source": [
    "# couche   = ['1s','2s','2p','3s','3p']\n",
    "# capacite = [2,2,X,X,X]"
   ]
  },
  {
   "cell_type": "markdown",
   "metadata": {},
   "source": [
    "**1. Donner la signification des listes couche et capacite.**"
   ]
  },
  {
   "cell_type": "code",
   "execution_count": null,
   "metadata": {},
   "outputs": [],
   "source": []
  },
  {
   "cell_type": "markdown",
   "metadata": {},
   "source": [
    "**2. Compléter la liste capacite en remplacant les symboles X dans les listes.**"
   ]
  },
  {
   "cell_type": "code",
   "execution_count": null,
   "metadata": {},
   "outputs": [],
   "source": [
    "couche   = ['1s','2s','2p','3s','3p']\n",
    "capacite = [2,2,X,X,X]"
   ]
  },
  {
   "cell_type": "markdown",
   "metadata": {},
   "source": [
    "**3. Que renvoie l'instruction type(couche)?**"
   ]
  },
  {
   "cell_type": "code",
   "execution_count": null,
   "metadata": {},
   "outputs": [],
   "source": []
  },
  {
   "cell_type": "markdown",
   "metadata": {},
   "source": [
    "**4. Donner la taille de la liste couche. On pourra s'aider de l'instruction len(X) qui renvoie la taille de la liste X.**"
   ]
  },
  {
   "cell_type": "code",
   "execution_count": null,
   "metadata": {},
   "outputs": [],
   "source": []
  },
  {
   "cell_type": "markdown",
   "metadata": {},
   "source": [
    "**5. Que renvoie l'instruction de la cellule suivante?**"
   ]
  },
  {
   "cell_type": "code",
   "execution_count": null,
   "metadata": {},
   "outputs": [],
   "source": [
    "Z = int(input('numero atomique: '))"
   ]
  },
  {
   "cell_type": "markdown",
   "metadata": {},
   "source": [
    "# Etude de l'algorithme"
   ]
  },
  {
   "cell_type": "markdown",
   "metadata": {},
   "source": [
    "On s'intéresse à la partie Traitement de l'algorithme."
   ]
  },
  {
   "cell_type": "markdown",
   "metadata": {},
   "source": [
    "**6. Le nombre d'itération est-il le même pour tous les numéros atomiques?**"
   ]
  },
  {
   "cell_type": "code",
   "execution_count": null,
   "metadata": {},
   "outputs": [],
   "source": []
  },
  {
   "cell_type": "markdown",
   "metadata": {},
   "source": [
    "**7. Quelle instruction permet de réaliser une boucle de longueur non connue à l'avance?**"
   ]
  },
  {
   "cell_type": "code",
   "execution_count": null,
   "metadata": {},
   "outputs": [],
   "source": []
  },
  {
   "cell_type": "markdown",
   "metadata": {},
   "source": [
    "**8. Compléter le code à trou réalisant l'algorithme. On remplacera les symboles xxx par les instructions de l'algorithme.**"
   ]
  },
  {
   "cell_type": "code",
   "execution_count": null,
   "metadata": {},
   "outputs": [],
   "source": [
    "# Entree:\n",
    "Z = int(input('numero atomique: '))\n",
    "\n",
    "# Initialisation:\n",
    "N        = Z\n",
    "couche   = ['1s','2s','2p','3s','3p']\n",
    "capacite = [2,2,xxx,xxx,xxx]\n",
    "i        = 0\n",
    "\n",
    "# Traitement:\n",
    "while N > 0:\n",
    "    if N > capacite[i]:\n",
    "        # completer ici\n",
    "\n",
    "    else:\n",
    "        # completer ici\n",
    "            \n",
    "    N = xxx\n",
    "    i = i + xxx"
   ]
  },
  {
   "cell_type": "markdown",
   "metadata": {},
   "source": [
    "# Amelioration de l'algorithme"
   ]
  },
  {
   "cell_type": "markdown",
   "metadata": {},
   "source": [
    "L'algortithme tel quel renvoie une erreur si Z > 18 (la liste couche n'est pas assez grande). On souhaite tenir compte de la limite Z <= 18 dans l'algorithme."
   ]
  },
  {
   "cell_type": "markdown",
   "metadata": {},
   "source": [
    "**9. Si Z > 18, faire afficher un message.**"
   ]
  },
  {
   "cell_type": "code",
   "execution_count": null,
   "metadata": {},
   "outputs": [],
   "source": [
    "Z = int(input('numero atomique: '))\n",
    "\n",
    "# Completer ici"
   ]
  },
  {
   "cell_type": "markdown",
   "metadata": {},
   "source": [
    "**10. Sinon, exécuter l'algorithme de configuration électronique précédent.**"
   ]
  },
  {
   "cell_type": "code",
   "execution_count": null,
   "metadata": {},
   "outputs": [],
   "source": []
  },
  {
   "cell_type": "markdown",
   "metadata": {},
   "source": [
    "**11. Proposer une solution pour le cas où l'utilisateur entre une valeur Z < 0.**"
   ]
  },
  {
   "cell_type": "code",
   "execution_count": null,
   "metadata": {
    "slideshow": {
     "slide_type": "-"
    }
   },
   "outputs": [],
   "source": []
  },
  {
   "cell_type": "markdown",
   "metadata": {},
   "source": [
    "# Pour les plus rapides"
   ]
  },
  {
   "cell_type": "markdown",
   "metadata": {},
   "source": [
    "Modifier le code afin de l'inclure dans une fonction ***configuration(Z)*** prenant pour entrée **Z** et en sortie retourne la configuration en chaine de caractère."
   ]
  },
  {
   "cell_type": "code",
   "execution_count": null,
   "metadata": {},
   "outputs": [],
   "source": []
  },
  {
   "cell_type": "code",
   "execution_count": null,
   "metadata": {},
   "outputs": [],
   "source": []
  },
  {
   "cell_type": "code",
   "execution_count": null,
   "metadata": {},
   "outputs": [],
   "source": []
  },
  {
   "cell_type": "code",
   "execution_count": null,
   "metadata": {},
   "outputs": [],
   "source": []
  },
  {
   "cell_type": "code",
   "execution_count": null,
   "metadata": {},
   "outputs": [],
   "source": []
  },
  {
   "cell_type": "code",
   "execution_count": null,
   "metadata": {},
   "outputs": [],
   "source": []
  },
  {
   "cell_type": "code",
   "execution_count": null,
   "metadata": {},
   "outputs": [],
   "source": []
  },
  {
   "cell_type": "code",
   "execution_count": null,
   "metadata": {},
   "outputs": [],
   "source": []
  },
  {
   "cell_type": "code",
   "execution_count": null,
   "metadata": {},
   "outputs": [],
   "source": []
  },
  {
   "cell_type": "markdown",
   "metadata": {},
   "source": [
    "Solutions:"
   ]
  },
  {
   "cell_type": "code",
   "execution_count": null,
   "metadata": {},
   "outputs": [],
   "source": [
    "Z = int(input('numero atomique: '))\n",
    "\n",
    "if Z > 18 or Z < 0:\n",
    "    print('Choisir 0 < Z <= 18')\n",
    "    \n",
    "else:\n",
    "    N = Z\n",
    "    i = 0\n",
    "    couche   = ['1s','2s','2p','3s','3p']\n",
    "    capacite = [2,2,6,2,6]\n",
    "    while N > 0:\n",
    "        if N > capacite[i]:\n",
    "            # couche electronique complete\n",
    "            print(couche[i],capacite[i])\n",
    "\n",
    "        else:\n",
    "            print(couche[i],N)\n",
    "            \n",
    "        N = N - capacite[i]\n",
    "        i = i + 1"
   ]
  },
  {
   "cell_type": "code",
   "execution_count": null,
   "metadata": {},
   "outputs": [],
   "source": [
    "def configuration(Z):\n",
    "    # initialisation du message\n",
    "    message = ''\n",
    "    \n",
    "    if Z > 18 or Z < 0:\n",
    "        message = 'Choisir 0 < Z <= 18'\n",
    "\n",
    "    else:\n",
    "        N = Z\n",
    "        i = 0\n",
    "        couche   = ['1s','2s','2p','3s','3p']\n",
    "        capacite = [2,2,6,2,6]\n",
    "        while N > 0:\n",
    "            if N > capacite[i]:\n",
    "                # couche electronique complete\n",
    "                message = message + couche[i] + str(capacite[i]) + ' ' \n",
    "                # ' ' sert a rendre le texte lisible\n",
    "\n",
    "            else:\n",
    "                message = message + couche[i] + str(N)\n",
    "\n",
    "            N = N - capacite[i]\n",
    "            i = i + 1\n",
    "            \n",
    "    return message"
   ]
  },
  {
   "cell_type": "code",
   "execution_count": null,
   "metadata": {},
   "outputs": [],
   "source": [
    "configuration(12)"
   ]
  },
  {
   "cell_type": "code",
   "execution_count": null,
   "metadata": {},
   "outputs": [],
   "source": []
  }
 ],
 "metadata": {
  "kernelspec": {
   "display_name": "Python 3",
   "language": "python",
   "name": "python3"
  },
  "language_info": {
   "codemirror_mode": {
    "name": "ipython",
    "version": 3
   },
   "file_extension": ".py",
   "mimetype": "text/x-python",
   "name": "python",
   "nbconvert_exporter": "python",
   "pygments_lexer": "ipython3",
   "version": "3.6.8"
  }
 },
 "nbformat": 4,
 "nbformat_minor": 2
}
