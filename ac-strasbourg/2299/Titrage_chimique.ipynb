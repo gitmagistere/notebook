{
 "cells": [
  {
   "cell_type": "markdown",
   "metadata": {},
   "source": [
    "On se propose de tracer la courbe de titrage pH-métrique par un programme.\n",
    "\n",
    "***Pré-requis: condition if/else, boucle for, librairie matplotlib et math/numpy.***"
   ]
  },
  {
   "cell_type": "code",
   "execution_count": null,
   "metadata": {},
   "outputs": [],
   "source": [
    "# librairie matplotlib pour tracer les graphiques:\n",
    "import matplotlib.pyplot as plt\n",
    "import math # pour le calcul du pH\n",
    "\n",
    "\"\"\"\n",
    "Il est également possible d'utiliser le module numpy pour calculer le log10:\n",
    "import numpy as np\n",
    "\"\"\"\n",
    "\n",
    "# afficher les graphiques dans les cellules:\n",
    "%matplotlib inline"
   ]
  },
  {
   "cell_type": "markdown",
   "metadata": {},
   "source": [
    "# Etude préliminaire"
   ]
  },
  {
   "cell_type": "markdown",
   "metadata": {},
   "source": [
    "On dispose d'une burette graduée contenant 20 mL d'une solution titrante de $HO^-$ de concentration $cb = 0.20$ mol/L. On verse goutte à goutte la solution titrante dans un bécher contenant $V = 100$ mL de $HCl$ de concentration $ca = 0.025$ mol/L. Chaque goutte à un volume $dv = 0.4$ mL. On note $na$ la quantité de matière d'acide dans le bécher."
   ]
  },
  {
   "cell_type": "markdown",
   "metadata": {},
   "source": [
    "**1. Déterminer le nombre $N$ de fois que l'opérateur doit verser une goutte pour vider la burette.**"
   ]
  },
  {
   "cell_type": "code",
   "execution_count": null,
   "metadata": {},
   "outputs": [],
   "source": [
    "N = 20/0.4\n",
    "print(N)"
   ]
  },
  {
   "cell_type": "markdown",
   "metadata": {},
   "source": [
    "Cette manipulation est une répétition."
   ]
  },
  {
   "cell_type": "markdown",
   "metadata": {},
   "source": [
    "**2. Quelle instruction permet de réaliser une répétition de longueur $N$ connue à l'avance?**"
   ]
  },
  {
   "cell_type": "code",
   "execution_count": null,
   "metadata": {},
   "outputs": [],
   "source": []
  },
  {
   "cell_type": "markdown",
   "metadata": {},
   "source": [
    "**3. Déterminer le volume total V de la solution dans le bécher une fois la solution titrante versée.**"
   ]
  },
  {
   "cell_type": "code",
   "execution_count": null,
   "metadata": {},
   "outputs": [],
   "source": [
    "# V = 120 mL soit 20% de plus."
   ]
  },
  {
   "cell_type": "markdown",
   "metadata": {},
   "source": [
    "**4. Peut-on négliger l'évolution du volume total V?**"
   ]
  },
  {
   "cell_type": "code",
   "execution_count": null,
   "metadata": {},
   "outputs": [],
   "source": [
    "# Non car cela fausse le calcul du pH."
   ]
  },
  {
   "cell_type": "markdown",
   "metadata": {},
   "source": [
    "# Calcul du pH"
   ]
  },
  {
   "cell_type": "markdown",
   "metadata": {},
   "source": [
    "## Avant l'équivalence"
   ]
  },
  {
   "cell_type": "markdown",
   "metadata": {},
   "source": [
    "Avant l'équivalence la base est le réactif limitant."
   ]
  },
  {
   "cell_type": "markdown",
   "metadata": {},
   "source": [
    "**5. Exprimer la relation entre ca et na.**"
   ]
  },
  {
   "cell_type": "code",
   "execution_count": null,
   "metadata": {},
   "outputs": [],
   "source": [
    "# ca = na / V"
   ]
  },
  {
   "cell_type": "markdown",
   "metadata": {},
   "source": [
    "**6. Exprimer la relation entre ca et le pH.**"
   ]
  },
  {
   "cell_type": "code",
   "execution_count": null,
   "metadata": {},
   "outputs": [],
   "source": [
    "# pH = - math.log10(ca)"
   ]
  },
  {
   "cell_type": "markdown",
   "metadata": {},
   "source": [
    "## Après l'équivalence"
   ]
  },
  {
   "cell_type": "markdown",
   "metadata": {},
   "source": [
    "Après l'équivalence l'acide est le réactif limitant. La quantité de matière $nb$ ***dans le bécher*** dépend du volume versé ***après l'équivalence***."
   ]
  },
  {
   "cell_type": "markdown",
   "metadata": {},
   "source": [
    "**7. Exprimer la relation entre Ke, ca et cb.**"
   ]
  },
  {
   "cell_type": "code",
   "execution_count": null,
   "metadata": {},
   "outputs": [],
   "source": []
  },
  {
   "cell_type": "markdown",
   "metadata": {},
   "source": [
    "**8. En déduire une relation entre Ca, Ke et nb; puis la relation entre ca et le pH.**"
   ]
  },
  {
   "cell_type": "code",
   "execution_count": null,
   "metadata": {},
   "outputs": [],
   "source": []
  },
  {
   "cell_type": "markdown",
   "metadata": {},
   "source": [
    "# Etude de l'algoritme"
   ]
  },
  {
   "cell_type": "markdown",
   "metadata": {},
   "source": [
    "On note $vverse$ le volume de solution titrante versée. On souhaite tracer la courbe pH = f(vversee) que l’on obtiendrait expérimentalement avec l’algorithme suivant:"
   ]
  },
  {
   "cell_type": "markdown",
   "metadata": {},
   "source": [
    "Algorithme en langage naturel:\n",
    "\n",
    "    Initialisation:\n",
    "\n",
    "        Ke     <- 1.0e-14 ;\n",
    "        na     <- 0.0025 mol ;\n",
    "        nb     <- 0.0 mol ;\n",
    "        cb     <- 0.20 mol/L ;\n",
    "        \n",
    "        V      <- 100 mL ;\n",
    "        vverse <- 0.0 ;\n",
    "        dv     <- 0.4 mL ;\n",
    "\n",
    "    Traitement:\n",
    "    \n",
    "        Pour i allant de 0 à 50:\n",
    "            V      <- V + dv ;\n",
    "            vverse <- vverse + dv ;\n",
    "            \n",
    "            Si na >= dv * cb ;\n",
    "                # Le réactif limitant est la base ;\n",
    "                na <- na - dv * cb ;\n",
    "                ca <- na / V ;\n",
    "            Sinon ;\n",
    "                # Le réactif limitant est l'acide ;\n",
    "                nb <- nb + dv * cb ;\n",
    "                ca <- Ke * V / nb ;    # attention ne pas ecraser cb\n",
    "            Fin Si\n",
    "\n",
    "            Calcul pH à partir de ca ;\n",
    "            Tracer le point (vverse,pH) ;\n",
    "        Fin Pour\n",
    "    \n",
    "    Affichage du graphique à l'écran plt.show() ;"
   ]
  },
  {
   "cell_type": "markdown",
   "metadata": {},
   "source": [
    "On s'intéresse à la partie Traitement de l'algorithme."
   ]
  },
  {
   "cell_type": "markdown",
   "metadata": {},
   "source": [
    "**9. Quelle instruction permet de réaliser une condition Si?**"
   ]
  },
  {
   "cell_type": "code",
   "execution_count": null,
   "metadata": {},
   "outputs": [],
   "source": []
  },
  {
   "cell_type": "markdown",
   "metadata": {},
   "source": [
    "**10. Ecrire le programme réalisant cet algorithme. On utilisera les instructions plt.plot(vverse,pH) et plt.show() pour le graphique.**"
   ]
  },
  {
   "cell_type": "code",
   "execution_count": null,
   "metadata": {},
   "outputs": [],
   "source": []
  },
  {
   "cell_type": "markdown",
   "metadata": {},
   "source": [
    "# Pour les plus rapides"
   ]
  },
  {
   "cell_type": "markdown",
   "metadata": {},
   "source": [
    "On peut partir de cet algorithme afin de tracer la courbe de titrage par conductimétrie. On rappelle que la conductivité électrique $\\sigma$ d'une solution est définie par:\n",
    "\n",
    "\\begin{equation}\n",
    "    \\sigma = \\sum_i\\lambda_ic_i,\n",
    "\\end{equation}\n",
    "\n",
    "avec $\\lambda_i$ et $C_i$ la conductivité ionique molaire et la concentration de l'espèce $i$. Les valeurs des conductivités ioniques molaires sont données dans la table:\n",
    "\n",
    "| Ion | $\\lambda$ (mS.m$^2$/mol) |\n",
    "| --- | --- |\n",
    "| H$_3$O$^+$ | 34.98 |\n",
    "| HO$^-$  | 19.86 |\n",
    "| Cl$^-$  |  7.63 |\n",
    "| Na$^+$ | 5.01 |"
   ]
  },
  {
   "cell_type": "markdown",
   "metadata": {},
   "source": [
    "**11. Exprimer $c(Cl^-)$ en fonction des paramètres du programme.**"
   ]
  },
  {
   "cell_type": "code",
   "execution_count": null,
   "metadata": {},
   "outputs": [],
   "source": []
  },
  {
   "cell_type": "markdown",
   "metadata": {},
   "source": [
    "**12. Exprimer $c(Na^+)$ en fonction des paramètres du programme.**"
   ]
  },
  {
   "cell_type": "code",
   "execution_count": null,
   "metadata": {},
   "outputs": [],
   "source": []
  },
  {
   "cell_type": "markdown",
   "metadata": {},
   "source": [
    "**13. Ecrire le programme calculant la conductivité de la solution à chaque itération.**"
   ]
  },
  {
   "cell_type": "code",
   "execution_count": null,
   "metadata": {},
   "outputs": [],
   "source": []
  },
  {
   "cell_type": "code",
   "execution_count": null,
   "metadata": {},
   "outputs": [],
   "source": []
  },
  {
   "cell_type": "code",
   "execution_count": null,
   "metadata": {
    "slideshow": {
     "slide_type": "-"
    }
   },
   "outputs": [],
   "source": []
  },
  {
   "cell_type": "code",
   "execution_count": null,
   "metadata": {},
   "outputs": [],
   "source": []
  },
  {
   "cell_type": "code",
   "execution_count": null,
   "metadata": {},
   "outputs": [],
   "source": []
  },
  {
   "cell_type": "code",
   "execution_count": null,
   "metadata": {},
   "outputs": [],
   "source": []
  },
  {
   "cell_type": "code",
   "execution_count": null,
   "metadata": {},
   "outputs": [],
   "source": []
  },
  {
   "cell_type": "code",
   "execution_count": null,
   "metadata": {},
   "outputs": [],
   "source": []
  },
  {
   "cell_type": "code",
   "execution_count": null,
   "metadata": {},
   "outputs": [],
   "source": []
  },
  {
   "cell_type": "code",
   "execution_count": null,
   "metadata": {},
   "outputs": [],
   "source": []
  },
  {
   "cell_type": "code",
   "execution_count": null,
   "metadata": {},
   "outputs": [],
   "source": []
  },
  {
   "cell_type": "code",
   "execution_count": null,
   "metadata": {},
   "outputs": [],
   "source": []
  },
  {
   "cell_type": "markdown",
   "metadata": {},
   "source": [
    "Solutions:"
   ]
  },
  {
   "cell_type": "code",
   "execution_count": null,
   "metadata": {},
   "outputs": [],
   "source": [
    "Ke     = 1.0e-14\n",
    "na     = 0.025 * 0.1\n",
    "nb     = 0.0\n",
    "cb     = 0.20\n",
    "        \n",
    "V      = 100e-3\n",
    "vverse = 0.0e-3\n",
    "dv     = 0.4e-3\n",
    "\n",
    "for i in range(50):\n",
    "    V      = V + dv\n",
    "    vverse = vverse + dv\n",
    "    \n",
    "    if na - dv * cb >= 0:\n",
    "        na = na - dv * cb\n",
    "        ca = na / V\n",
    "\n",
    "    else:\n",
    "        nb = nb + dv * cb\n",
    "        ca = Ke * V / nb\n",
    "\n",
    "    ph = - math.log10(ca)\n",
    "    plt.plot(vverse*1000,ph,'k*')\n",
    "\n",
    "plt.xlabel('v (mL)')\n",
    "plt.ylabel('pH')\n",
    "plt.show()"
   ]
  },
  {
   "cell_type": "code",
   "execution_count": null,
   "metadata": {},
   "outputs": [],
   "source": [
    "Ke     = 1.0e-14\n",
    "na     = 0.0025\n",
    "nb     = 0.0\n",
    "cb     = 0.20\n",
    "        \n",
    "V      = 100e-3\n",
    "vverse = 0.0e-3\n",
    "dv     = 0.4e-3\n",
    "\n",
    "l_h30 = 34.98\n",
    "l_ho  = 19.86\n",
    "l_cl  = 7.63\n",
    "l_na  = 5.01\n",
    "\n",
    "for i in range(50):\n",
    "    V      = V + dv\n",
    "    vverse = vverse + dv\n",
    "    \n",
    "    \n",
    "    if na - dv * 0.20 >= 0:\n",
    "        na = na - dv * 0.20\n",
    "        ca = na / V\n",
    "        cb = Ke / ca\n",
    "\n",
    "    else:\n",
    "        nb = nb + dv * 0.20\n",
    "        cb = nb / V\n",
    "        ca = Ke / cb\n",
    "        \n",
    "    sigma = ca * l_h30 + cb * l_ho + (0.20 * vverse / V) * l_na + (0.0025 / V) * l_cl\n",
    "    plt.plot(vverse*1000,sigma,'k*')\n",
    "\n",
    "plt.xlabel('v (mL)')\n",
    "plt.ylabel('$\\sigma$ (S/m)')\n",
    "plt.show()"
   ]
  }
 ],
 "metadata": {
  "kernelspec": {
   "display_name": "Python 3",
   "language": "python",
   "name": "python3"
  },
  "language_info": {
   "codemirror_mode": {
    "name": "ipython",
    "version": 3
   },
   "file_extension": ".py",
   "mimetype": "text/x-python",
   "name": "python",
   "nbconvert_exporter": "python",
   "pygments_lexer": "ipython3",
   "version": "3.6.8"
  }
 },
 "nbformat": 4,
 "nbformat_minor": 2
}
