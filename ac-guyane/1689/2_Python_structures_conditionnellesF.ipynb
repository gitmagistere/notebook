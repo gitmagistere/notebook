{
  "nbformat": 4,
  "nbformat_minor": 0,
  "metadata": {
    "kernelspec": {
      "display_name": "Python 3",
      "language": "python",
      "name": "python3"
    },
    "language_info": {
      "codemirror_mode": {
        "name": "ipython",
        "version": 3
      },
      "file_extension": ".py",
      "mimetype": "text/x-python",
      "name": "python",
      "nbconvert_exporter": "python",
      "pygments_lexer": "ipython3",
      "version": "3.7.6"
    },
    "colab": {
      "name": "2-Python_structures_conditionnelles.ipynb",
      "provenance": [],
      "collapsed_sections": [
        "WwpTAvGYLinc",
        "_Pg1G3liLin5",
        "Crfqymb-Lin7",
        "xwj8Knp8ehuy"
      ]
    }
  },
  "cells": [
    {
      "cell_type": "markdown",
      "metadata": {
        "id": "WwpTAvGYLinc"
      },
      "source": [
        "># Les instructions conditionnnelles"
      ]
    },
    {
      "cell_type": "markdown",
      "metadata": {
        "id": "KAemdqX4Lint"
      },
      "source": [
        "Les **instructions conditionnelles** permettent d'exécuter une ou plusieurs instructions **sous certaines conditions**. Le programme doit faire un test afin de verifier la condition et renverra une valeur **booléenne (vrai ou faux)** qui permettra d'executer une serie d'instructions ou une autre.\r\n",
        "\r\n",
        "Les tests sont effectués à l'aide des opérateurs de comparaison suivants:\r\n",
        "<table align=\"left\">\r\n",
        "  <tr>\r\n",
        "    <td align=\"center\"><b><</b></td>\r\n",
        "    <td>strictement inférieur à</b></td>\r\n",
        "  </tr>\r\n",
        "  <tr>\r\n",
        "    <td align=\"center\"><b>></b></td>\r\n",
        "    <td>strictement supérieur à</b></td>\r\n",
        "  </tr>\r\n",
        "  <tr>\r\n",
        "    <td align=\"center\"><b> &lt;= </b></td>\r\n",
        "    <td>inférieur ou égal</b></td>\r\n",
        "  </tr>\r\n",
        "    <tr>\r\n",
        "    <td align=\"center\"><b>>=</b></td>\r\n",
        "    <td>supérieur ou égal à</b></td>\r\n",
        "  </tr>\r\n",
        "  <tr>\r\n",
        "    <td align=\"center\"><b>==</b></td>\r\n",
        "    <td>égal à</b></td>\r\n",
        "  </tr>\r\n",
        "  <tr>\r\n",
        "    <td align=\"center\"><b>!=</b></td>\r\n",
        "    <td>différent de</b></td>\r\n",
        "  </tr> \r\n",
        "</table>\r\n"
      ]
    },
    {
      "cell_type": "markdown",
      "metadata": {
        "id": "UCr9Nj7YLinv"
      },
      "source": [
        ">1. Forme simple **si** (**if**)\n",
        "*Exécuter le code suivant pour afficher les résultats.*"
      ]
    },
    {
      "cell_type": "code",
      "metadata": {
        "id": "46L31kKyLinw"
      },
      "source": [
        "age=input(\"votre âge ?\")\n",
        "age=int(age)\n",
        "\n",
        "if age>=18:                             \n",
        "    print(\"Vous êtes majeur.\")          #DEBUT DU  BLOC CONDITIONNEL avec l'indentation (espacement)\n",
        "\n",
        "#FIN DU BLOC CONDITIONNEL à la fin de l'indentation \n",
        "print(\"Fin du questionnaire\")           #Toutes les instructions hors du bloc sont exécutées.\n",
        "\n",
        "#A FAIRE : MODIFIER L'AGE D'ENTREE ET OBSERVER LES RESULTATS"
      ],
      "execution_count": null,
      "outputs": []
    },
    {
      "cell_type": "markdown",
      "metadata": {
        "id": "LsuxE8CdLiny"
      },
      "source": [
        ">2. Forme **si ... alors ...** (**if ... else**)"
      ]
    },
    {
      "cell_type": "code",
      "metadata": {
        "id": "Q8N-hK_FLiny"
      },
      "source": [
        "age=input(\"votre âge ?\")\n",
        "age=int(age)\n",
        "\n",
        "if age>=18:\n",
        "    print(\"Vous êtes majeur.\")\n",
        "else:\n",
        "    print(\"Vous êtes mineur.\")"
      ],
      "execution_count": null,
      "outputs": []
    },
    {
      "cell_type": "markdown",
      "metadata": {
        "id": "QvzbBEDlLin0"
      },
      "source": [
        ">3. Forme **si ... sinon si ... alors** (**if ... elif ... else**)"
      ]
    },
    {
      "cell_type": "code",
      "metadata": {
        "id": "9OM78WMuLin2"
      },
      "source": [
        "valeur=input(\"Entrer une valeur:\")\n",
        "valeur=int(valeur)\n",
        "\n",
        "if valeur>0:\n",
        "    print(\"la valeur est strictement positive\")       #Bloc d'instruction 1\n",
        "elif valeur==0:\n",
        "    print(\"la valeur est nulle\")                      #Bloc d'instruction 2; plusieurs blocs elif peuvent être utilisés\n",
        "else:\n",
        "    print(\"la valeur est strictement négative\")       #Bloc d'instruction 3"
      ],
      "execution_count": null,
      "outputs": []
    },
    {
      "cell_type": "markdown",
      "metadata": {
        "id": "G4_15IFaLin3"
      },
      "source": [
        "**A RETENIR:**  \n",
        "**Ne pas oublier les ' : '  \n",
        "Respecter les indentations des blocs.**"
      ]
    },
    {
      "cell_type": "markdown",
      "metadata": {
        "id": "48E7exFpLin4"
      },
      "source": [
        "### Les mots clé **and**, **or**, **not**\n",
        "Ce sont **des opérateurs logiques** qui s'appliquent aux booléens.  \n",
        "Voici la *table de vérité* des opérateurs *and* et *or*:\n",
        "\n",
        "<table align=\"center\">\n",
        "  <tr>\n",
        "    <th align=\"center\">a</th>\n",
        "    <th align=\"center\">b</td>\n",
        "    <th align=\"center\">a <b>and</b> b</th>\n",
        "    <th align=\"center\">a <b>or</b> b</th>\n",
        "  </tr>\n",
        "  <tr align=\"center\">\n",
        "    <td><i>True</i></td>\n",
        "    <td><i>True</i></td>\n",
        "    <td><i>True</i></td>\n",
        "    <td><i>True</i></td>\n",
        "  </tr> \n",
        "  <tr>\n",
        "    <td><i>True</i></td>\n",
        "    <td><i>False</i></td>\n",
        "    <td><i>False</i></td>\n",
        "    <td><i>True</i></td>\n",
        "  </tr> \n",
        "  <tr>\n",
        "    <td><i>False</i></td>\n",
        "    <td><i>True</i></td>\n",
        "    <td><i>False</i></td>\n",
        "    <td><i>True</i></td>\n",
        "  </tr> \n",
        "  <tr>\n",
        "    <td><i>False</i></td>\n",
        "    <td><i>False</i></td>\n",
        "    <td><i>False</i></td>\n",
        "    <td><i>False</i></td>\n",
        "  </tr> \n",
        "</table>\n",
        "\n",
        "*Analysez le code suivant, puis exécutez-le pour observer les résultats.*"
      ]
    },
    {
      "cell_type": "code",
      "metadata": {
        "id": "lw-Y0iRbLin4"
      },
      "source": [
        "a=10\n",
        "b=20\n",
        "\n",
        "test1=a<15 and b<15\n",
        "test2=a<15 or b<15\n",
        "test3=a>=10 or b!=15\n",
        "\n",
        "print(type(test1))\n",
        "print(test1)\n",
        "print(test2)\n",
        "print(test3)"
      ],
      "execution_count": null,
      "outputs": []
    },
    {
      "cell_type": "markdown",
      "metadata": {
        "id": "BatkojX_Lin5"
      },
      "source": [
        "># Exercices d'applications"
      ]
    },
    {
      "cell_type": "markdown",
      "metadata": {
        "id": "_Pg1G3liLin5"
      },
      "source": [
        ">### 1-Géométrie"
      ]
    },
    {
      "cell_type": "markdown",
      "metadata": {
        "id": "flYZ3MyILin6"
      },
      "source": [
        "1. Compléter la fonction suivante qui permet de savoir si un triangle est rectangle grâce à la réciproque du théorême de Pythagore."
      ]
    },
    {
      "cell_type": "code",
      "metadata": {
        "id": "3TAOFdfvLin6"
      },
      "source": [
        "def triangle_rectangle(a,b,c):\n",
        "    \"\"\"\n",
        "    Variables en entrée:\n",
        "    a,b,c: longueurs des côtés du triangle\n",
        "    \n",
        "    Variables en sortie:\n",
        "    str: \"Le triangle est rectangle\" ou \"Le triangle n'est pas rectangle\"\n",
        "    \"\"\"\n",
        "    \n",
        "    if a**2+b**2==c**2 or #Votre code: test de toutes les combinaisons\n",
        "        print(\"Le triangle est rectangle.\")\n",
        "    else:\n",
        "        #Votre code\n",
        "        \n",
        "#Tests fonction\n",
        "triangle_rectangle(3,4,5)\n",
        "triangle_rectangle(4,3,5)\n",
        "triangle_rectangle(5,6,7)"
      ],
      "execution_count": null,
      "outputs": []
    },
    {
      "cell_type": "markdown",
      "metadata": {
        "id": "KkjIfyYWLin7"
      },
      "source": [
        "2. Compléter le programme suivant qui renvoie la longueur manquante d'un côté d'un triangle rectangle."
      ]
    },
    {
      "cell_type": "code",
      "metadata": {
        "id": "ziHoJKWwLin7"
      },
      "source": [
        "a=input(\"hypoténuse:\")\n",
        "b=input(\"côté:\")\n",
        "c=input(\"côté:\")\n",
        "\n",
        "if a==\"\":      #Si l'utilisateur n'a pas entré de valeur\n",
        "    #Votre code\n",
        "    #Penser à convertir les données !!\n",
        "\n",
        "if b==\"\":\n",
        "    #Votre code\n",
        "    \n",
        "if  #Votre code\n",
        "\n"
      ],
      "execution_count": null,
      "outputs": []
    },
    {
      "cell_type": "markdown",
      "metadata": {
        "id": "Crfqymb-Lin7"
      },
      "source": [
        ">### 2-Fonctions"
      ]
    },
    {
      "cell_type": "markdown",
      "metadata": {
        "id": "-zSnWXEWLin8"
      },
      "source": [
        "1. Compléter le programme suivant permettant de déterminer l'équation réduite d'une droite non // à l'axe des ordonnées en ajoutant une condition.  \n",
        "Si x<sub>A</sub> &ge; x<sub>B</sub>, afficher un message \"*x<sub>A</sub> doit être strictement inférieure à x<sub>B</sub>. Entrer d'autres coordonnées.*\""
      ]
    },
    {
      "cell_type": "code",
      "metadata": {
        "id": "htb0a-YJLin8"
      },
      "source": [
        "xA,yA=eval(input(\"Entrer les coordonnées du point A : xA,yA\"))\n",
        "xB,yB=eval(input(\"Entrer les coordonnées du point B : xB,yB\"))\n",
        "\n",
        "#Détermination du coefficient a\n",
        "a=(yB-yA)/(xB-xA)\n",
        "\n",
        "#Détermination du coefficient b\n",
        "b=yA-a*xA\n",
        "\n",
        "print(\"L'équation réduite de la droite est: y=\",a,\".x +\",b)"
      ],
      "execution_count": null,
      "outputs": []
    },
    {
      "cell_type": "markdown",
      "metadata": {
        "id": "zezyPQdlLin8"
      },
      "source": [
        "2. Ecrire un programme permettant de savoir si 2 droites non // à l'axe des ordonnées sont perpendiculaires."
      ]
    },
    {
      "cell_type": "code",
      "metadata": {
        "id": "D387pKltLin8"
      },
      "source": [
        "a1=float(input(\"coefficient directuer de la droite 1\"))\n",
        "a2=float(input(\"coefficient directuer de la droite 2\"))\n",
        "\n",
        "#Votre code\n"
      ],
      "execution_count": null,
      "outputs": []
    },
    {
      "cell_type": "markdown",
      "metadata": {
        "id": "aVi7GY0xLin9"
      },
      "source": [
        "3. Compléter le programme suivant permettant de résoudre une inéquation du type **a.x < b**."
      ]
    },
    {
      "cell_type": "code",
      "metadata": {
        "id": "z87TgUd9Lin-"
      },
      "source": [
        "a=float(input(\"a?\"))\n",
        "b=float(input(\"b?\"))\n",
        "\n",
        "if a>0:\n",
        "    #Votre code\n",
        "        \n",
        "        \n",
        "elif a<0:\n",
        "    #Votre code\n",
        "        \n",
        "        \n",
        "elif a==0 and b>0:\n",
        "    #votre code\n",
        "    \n",
        "    \n",
        "else:\n",
        "    print(\"pas de solution\")\n",
        "    \n",
        "\n"
      ],
      "execution_count": null,
      "outputs": []
    },
    {
      "cell_type": "markdown",
      "metadata": {
        "id": "qRzh2KpNLin-"
      },
      "source": [
        "4. Réaliser un programme renvoyant les solutions d'une équation du type **a.x<sup>2</sup>+b.x+c=0** .  \n",
        "Remarque: La résolution à l'aide du discriminant n'est plus au programme."
      ]
    },
    {
      "cell_type": "code",
      "metadata": {
        "id": "WrTgvqhtLin-"
      },
      "source": [
        "#Votre code\n",
        "\n",
        "\n",
        "\n"
      ],
      "execution_count": null,
      "outputs": []
    },
    {
      "cell_type": "markdown",
      "metadata": {
        "id": "xwj8Knp8ehuy"
      },
      "source": [
        ">### 3.Probabilités"
      ]
    },
    {
      "cell_type": "markdown",
      "metadata": {
        "id": "s4IjY-Xleyti"
      },
      "source": [
        ">Une urne contient 6 boules de 3 couleurs différents:\r\n",
        "\r\n",
        "*   2 rouges \r\n",
        "*   3 vertes\r\n",
        "*   1 jaune\r\n",
        "On associe  chaque boule à un chiffre compris entre 1 et 6\r\n",
        "Completer le programme de tirage au hasard d'une boule ci-dessous:\r\n",
        "\r\n",
        "\r\n",
        "\r\n"
      ]
    },
    {
      "cell_type": "code",
      "metadata": {
        "id": "g2uWaPo_ft7J"
      },
      "source": [
        "#tirage au hasard d'une boule de couleur rouge, verte ou jaune\r\n",
        "def tirage_boule():\r\n",
        "  from random import randint\r\n",
        "  tirage=randint(1,6)\r\n",
        "\r\n",
        "  if tirage<=2\r\n",
        "    print(\"La boule est rouge\")\r\n",
        "  elif # a comleter :\r\n",
        "    print(\"...............................\")\r\n",
        "  else:\r\n",
        "    print(\"...............................\")\r\n",
        "\r\n",
        "  return"
      ],
      "execution_count": 1,
      "outputs": []
    }
  ]
}