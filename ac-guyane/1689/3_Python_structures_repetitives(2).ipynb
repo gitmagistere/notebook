{
  "nbformat": 4,
  "nbformat_minor": 0,
  "metadata": {
    "kernelspec": {
      "display_name": "Python 3",
      "language": "python",
      "name": "python3"
    },
    "language_info": {
      "codemirror_mode": {
        "name": "ipython",
        "version": 3
      },
      "file_extension": ".py",
      "mimetype": "text/x-python",
      "name": "python",
      "nbconvert_exporter": "python",
      "pygments_lexer": "ipython3",
      "version": "3.7.6"
    },
    "colab": {
      "name": "3-Python_structures_repetitives.ipynb",
      "provenance": [],
      "collapsed_sections": [
        "dkXOs0DQWPua",
        "vVSSjSsiWPue"
      ]
    }
  },
  "cells": [
    {
      "cell_type": "markdown",
      "metadata": {
        "id": "fzFtrCFBWPuJ"
      },
      "source": [
        "## Les boucles\n",
        "\n",
        "Une **boucle** permet de répéter des instructions plusieurs fois en fonction d'un prédicat (=test) ou du parcours d'une séquence. ils existent plusieurs type de boucles :"
      ]
    },
    {
      "cell_type": "markdown",
      "metadata": {
        "id": "Woy0Vwx5Yjej"
      },
      "source": [
        ">### Les boucles non-bornées: **tant que... (while...)**"
      ]
    },
    {
      "cell_type": "markdown",
      "metadata": {
        "id": "v4nUW1Pt-Q5s"
      },
      "source": [
        ""
      ]
    },
    {
      "cell_type": "code",
      "metadata": {
        "id": "DTJNyLkVWPuL",
        "colab": {
          "base_uri": "https://localhost:8080/"
        },
        "outputId": "d0fe358b-4e05-4203-e374-f338b2750ed1"
      },
      "source": [
        "i=0                  #ON INITIALISE UNE VARIABLE-COMPTEUR\n",
        "while i<=5:\n",
        "    print(\"rang\",i)\n",
        "    i=i+1            #On incrémente la variable"
      ],
      "execution_count": null,
      "outputs": [
        {
          "output_type": "stream",
          "text": [
            "rang 0\n",
            "rang 1\n",
            "rang 2\n",
            "rang 3\n",
            "rang 4\n",
            "rang 5\n"
          ],
          "name": "stdout"
        }
      ]
    },
    {
      "cell_type": "markdown",
      "metadata": {
        "id": "4NuVBg7vWPuM"
      },
      "source": [
        "**A RETENIR:**  \n",
        "Ne pas oublier d'incrémenter la variable-compteur, sinon la condition étant toujours vraie, la boucle sera **infinie** .  \n",
        "Pour sortir d'une boucle infinie, taper `CRTL + C`."
      ]
    },
    {
      "cell_type": "markdown",
      "metadata": {
        "id": "U8BQEuv4WPuO"
      },
      "source": [
        ">### Les boucles bornées: **for ... in range**\n"
      ]
    },
    {
      "cell_type": "markdown",
      "metadata": {
        "id": "OwZzdEsa_2w1"
      },
      "source": [
        ">Lorsque l'on connait le nombre de répétitions nécéssaires, on utilise les boucle bornée. On fixe dès le depart le nombre de tours de boucle qui sera éffectuer.\r\n",
        " \r\n",
        ">La syntaxe est:\r\n",
        "\r\n",
        ">```python\r\n",
        ">for element in sequence:\r\n",
        ">#Blocs d'instructions\r\n",
        ">```\r\n",
        "*Exemples:*"
      ]
    },
    {
      "cell_type": "code",
      "metadata": {
        "id": "Yc-7ydm3WPuP"
      },
      "source": [
        "phrase=\"Bonjour les amis !\"\n",
        "\n",
        "for i in phrase:             #i parcourt la chaîne de caractères\n",
        "    if i.isalpha():          #teste si i est une lettre (caractère alphabétique)\n",
        "        if i in \"AEIOUYaeiouy\":\n",
        "            print(i,\"est une voyelle\")\n",
        "        else:\n",
        "            print(i,\"est une consonne\")\n",
        "    else:\n",
        "        print(i,\"n'est pas une lettre\")\n",
        "#EXECUTER LE CODE POUR OBSERVER LE RESULTAT        "
      ],
      "execution_count": null,
      "outputs": []
    },
    {
      "cell_type": "code",
      "metadata": {
        "id": "5-ozt_dAWPuQ",
        "colab": {
          "base_uri": "https://localhost:8080/"
        },
        "outputId": "779bd54c-a5cf-4b87-e3ff-2f58a5456c87"
      },
      "source": [
        "for i in range(1,10):              #i parcourt l'intervalle [1;10[\n",
        "    if i==1:\n",
        "        print(\"j'ai\",i,\"an.\")\n",
        "    else:\n",
        "        print(\"j'ai\",i,\"ans.\")\n",
        "#EXECUTER LE CODE POUR OBSERVER LE RESULTAT"
      ],
      "execution_count": null,
      "outputs": [
        {
          "output_type": "stream",
          "text": [
            "j'ai 1 an.\n",
            "j'ai 2 ans.\n",
            "j'ai 3 ans.\n",
            "j'ai 4 ans.\n",
            "j'ai 5 ans.\n",
            "j'ai 6 ans.\n",
            "j'ai 7 ans.\n",
            "j'ai 8 ans.\n",
            "j'ai 9 ans.\n"
          ],
          "name": "stdout"
        }
      ]
    },
    {
      "cell_type": "code",
      "metadata": {
        "id": "P9uaLgTvWPuQ"
      },
      "source": [
        "#informations sur la fonction range\n",
        "help(range)"
      ],
      "execution_count": null,
      "outputs": []
    },
    {
      "cell_type": "markdown",
      "metadata": {
        "id": "DP0jOgNzWPuR"
      },
      "source": [
        "**A RETENIR:**  \n",
        "**range(**start, stop, step**)**  : renvoie une séquence de nombres entiers; *step* est optionnel."
      ]
    },
    {
      "cell_type": "markdown",
      "metadata": {
        "id": "zLOUaebvWPuS"
      },
      "source": [
        "# Exercices d'applications"
      ]
    },
    {
      "cell_type": "markdown",
      "metadata": {
        "id": "dkXOs0DQWPua"
      },
      "source": [
        "### 1-Fonctions"
      ]
    },
    {
      "cell_type": "markdown",
      "metadata": {
        "id": "NP7JaQ2RWPua"
      },
      "source": [
        "1. Créer des programmes affichant les valeurs de fonction carré sur \n",
        "un intervalle [a;b] avec un pas donné.  \n",
        " \n",
        " *Exemple:*    **<i>f_carre(-5,5,0.1)</i>** renvoie \n",
        "\n",
        "            x=-5; y=25\n",
        "            x=-4.9; y=24.01\n",
        "            x=-4.8; y=23.04\n",
        "            ...\n",
        "            x=5; y=25"
      ]
    },
    {
      "cell_type": "code",
      "metadata": {
        "id": "yljnNJVqWPub"
      },
      "source": [
        "#Fonction carré\n",
        "def f_carre(a,b,p):\n",
        "    \"\"\"\n",
        "    Entrée:\n",
        "    a: borne inférieure de l'intervalle\n",
        "    b: borne supérieure de l'intervalle\n",
        "    p: pas\n",
        "    \n",
        "    Sortie:\n",
        "    str: \"x; y\", ...\n",
        "    \"\"\"\n",
        "    x=a                      #Initialisation de la valeur minimale de x\n",
        "    while x<=b:\n",
        "        \n",
        "        #Votre code\n",
        "        #!!Ne pas oublier d'incrémenter x!!\n",
        "        \n",
        "        \n",
        "#Test fonction\n",
        "f_carre(-5,5,0.1)"
      ],
      "execution_count": null,
      "outputs": []
    },
    {
      "cell_type": "markdown",
      "metadata": {
        "id": "vVSSjSsiWPue"
      },
      "source": [
        "### 2-Probabilités"
      ]
    },
    {
      "cell_type": "markdown",
      "metadata": {
        "id": "urTe3MYjWPue"
      },
      "source": [
        "1. Le module **random**  \n",
        "Ce module permet la génération de nombres aléatoires."
      ]
    },
    {
      "cell_type": "code",
      "metadata": {
        "id": "AbOFe_HWWPue",
        "colab": {
          "base_uri": "https://localhost:8080/"
        },
        "outputId": "ef11a3b2-7e4c-4c24-f0d0-ff6812b98465"
      },
      "source": [
        "#Exécuter, modifier et tester\n",
        "from random import *       #chargement de toutes les méthodes et attributs du module\n",
        "a=random()                 #renvoie un nombre aléatoire compris entre 0(inclus) et 1(exclus)\n",
        "b=randint(1,6)             #renvoie un nombre aléatoire compris entre 1(inclus) et 6(inclus!!!)\n",
        "print(a)\n",
        "print(b)"
      ],
      "execution_count": null,
      "outputs": [
        {
          "output_type": "stream",
          "text": [
            "0.2205098708455382\n",
            "4\n"
          ],
          "name": "stdout"
        }
      ]
    },
    {
      "cell_type": "markdown",
      "metadata": {
        "id": "HcdA__KuWPuf"
      },
      "source": [
        "2. Soit l'expérience aléatoire « lancer d’un dé à 6 faces ».  \n",
        "Programmer la fonction *de(n)* affichant les résultats pour un échantillon de taille *n* .  \n",
        "Exemple:    *de(10)* affiche \n",
        "\n",
        "            1\n",
        "            5\n",
        "            ...\n",
        "            3"
      ]
    },
    {
      "cell_type": "code",
      "metadata": {
        "id": "cEBM-IPsWPuf",
        "colab": {
          "base_uri": "https://localhost:8080/",
          "height": 136
        },
        "outputId": "19bd4f80-dbdd-4086-da51-a44814595c5a"
      },
      "source": [
        "def de(n):\n",
        "    \n",
        "    #Votre code\n",
        "   \n",
        "    \n",
        "\n",
        "#Test fonction\n",
        "de(10)"
      ],
      "execution_count": null,
      "outputs": [
        {
          "output_type": "error",
          "ename": "IndentationError",
          "evalue": "ignored",
          "traceback": [
            "\u001b[0;36m  File \u001b[0;32m\"<ipython-input-5-f50640b3c4b5>\"\u001b[0;36m, line \u001b[0;32m8\u001b[0m\n\u001b[0;31m    de(10)\u001b[0m\n\u001b[0m     ^\u001b[0m\n\u001b[0;31mIndentationError\u001b[0m\u001b[0;31m:\u001b[0m expected an indented block\n"
          ]
        }
      ]
    },
    {
      "cell_type": "markdown",
      "metadata": {
        "id": "oACW_5BFWPug"
      },
      "source": [
        "3. Programmer une fonction *de5(n)* qui renvoie le nombre d'occurence de l'événement *5* pour un échantillon de taille *n*."
      ]
    },
    {
      "cell_type": "code",
      "metadata": {
        "id": "37T7TWTYWPuh"
      },
      "source": [
        "def de5(n):\n",
        "\n",
        "    #Votre code\n",
        "    \n",
        "\n",
        "#Test fonction\n",
        "de5(10000)"
      ],
      "execution_count": null,
      "outputs": []
    },
    {
      "cell_type": "markdown",
      "metadata": {
        "id": "Z7PsMjcHWPuh"
      },
      "source": [
        "4. Programmer une fonction *freq_de5(n)* qui renvoie la fréquence de l'événement *5* pour un échantillon de taille *n*."
      ]
    },
    {
      "cell_type": "code",
      "metadata": {
        "id": "YJ-qaKDgWPui"
      },
      "source": [
        "def freq_de5(n):\n",
        "\n",
        "    #Votre code\n",
        "    \n",
        "\n",
        "#Test fonction\n",
        "freq_de5(10000)"
      ],
      "execution_count": null,
      "outputs": []
    }
  ]
}