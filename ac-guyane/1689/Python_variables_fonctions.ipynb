{
  "nbformat": 4,
  "nbformat_minor": 0,
  "metadata": {
    "kernelspec": {
      "display_name": "Python 3",
      "language": "python",
      "name": "python3"
    },
    "language_info": {
      "codemirror_mode": {
        "name": "ipython",
        "version": 3
      },
      "file_extension": ".py",
      "mimetype": "text/x-python",
      "name": "python",
      "nbconvert_exporter": "python",
      "pygments_lexer": "ipython3",
      "version": "3.7.6"
    },
    "colab": {
      "name": "Python_variables_fonctions.ipynb",
      "provenance": [],
      "collapsed_sections": [
        "mJQv6DYpQz9Z",
        "krb3Av1sQz9e",
        "8-cRWa0oQz9b",
        "C7GchDcAQz9j",
        "L-OsbparQz9m",
        "goBYLSd4Qz9n",
        "W60eshZoQz9p",
        "IhUotYl2Qz94",
        "vjdD0M6rQz94"
      ]
    }
  },
  "cells": [
    {
      "cell_type": "markdown",
      "metadata": {
        "id": "mJQv6DYpQz9Z"
      },
      "source": [
        "#LES VARIABLES ET LES TYPES DE VARIABLES"
      ]
    },
    {
      "cell_type": "markdown",
      "metadata": {
        "id": "krb3Av1sQz9e"
      },
      "source": [
        ">## Les variables"
      ]
    },
    {
      "cell_type": "markdown",
      "metadata": {
        "id": "2hOmlCUbQz9e"
      },
      "source": [
        ">Une **variable** est une donnée stockée dans la mémoire de l'ordinateur. On peut considérer que la mémoire de l'ordinateur comme une grande commode , ou chaque tiroir contient une information. Pour retrouver cette information il faut poser une \"*etiquette*\" sur le tiroir, cette étiquette est le nom de la variable.\n",
        "L'**affectation  consiste à **donner une valeur à la variable**, en Python cela s'effectue avec le **symbole \"=\".**\n",
        "\n",
        ">*Exécuter le code suivant pour afficher les résultats.*"
      ]
    },
    {
      "cell_type": "code",
      "metadata": {
        "colab": {
          "base_uri": "https://localhost:8080/"
        },
        "id": "HCeq0ts3Qz9f",
        "outputId": "e3f04658-95d4-4060-d0c1-847d8e4f4720"
      },
      "source": [
        "mon_age=25.5        #La valeur 25 est AFFECTEE à la variable mon_age (mon_age RECOIT la valeur 25)\n",
        "print(mon_age)      #Affiche la valeur de la variable\n",
        "print(mon_age+4)\n",
        "print(mon_age*2)\n",
        "type(mon_age)       #Affiche la classe de la variable"
      ],
      "execution_count": null,
      "outputs": [
        {
          "output_type": "stream",
          "text": [
            "25.5\n",
            "29.5\n",
            "51.0\n"
          ],
          "name": "stdout"
        },
        {
          "output_type": "execute_result",
          "data": {
            "text/plain": [
              "float"
            ]
          },
          "metadata": {
            "tags": []
          },
          "execution_count": 6
        }
      ]
    },
    {
      "cell_type": "code",
      "metadata": {
        "colab": {
          "base_uri": "https://localhost:8080/"
        },
        "id": "Tqxk-jQDQz9g",
        "outputId": "578de29f-e6e1-4744-ec9d-e33b5d936296"
      },
      "source": [
        "#AFFECTATION DE VARIABLES\n",
        "a=5\n",
        "b=3\n",
        "c=a*b\n",
        "print(a,b,c)\n",
        "\n",
        "#AFFECTATION MULTIPLES\n",
        "d,e=9,5\n",
        "print(d,e)"
      ],
      "execution_count": null,
      "outputs": [
        {
          "output_type": "stream",
          "text": [
            "5 3 15\n",
            "9 5\n"
          ],
          "name": "stdout"
        }
      ]
    },
    {
      "cell_type": "code",
      "metadata": {
        "colab": {
          "base_uri": "https://localhost:8080/"
        },
        "id": "rJgA9IHdQz9h",
        "outputId": "31372524-586d-4f8d-b0d4-b2ae49c5885f"
      },
      "source": [
        "texte=\"Bonjour les amis !\"    #Une chaine de caractères est définie entre des doubles apostrophes \"\".\n",
        "print(texte)\n",
        "type(texte)"
      ],
      "execution_count": null,
      "outputs": [
        {
          "output_type": "stream",
          "text": [
            "Bonjour les amis !\n"
          ],
          "name": "stdout"
        },
        {
          "output_type": "execute_result",
          "data": {
            "text/plain": [
              "str"
            ]
          },
          "metadata": {
            "tags": []
          },
          "execution_count": 3
        }
      ]
    },
    {
      "cell_type": "markdown",
      "metadata": {
        "id": "EwbIaUYbQz9j"
      },
      "source": [
        " "
      ]
    },
    {
      "cell_type": "markdown",
      "metadata": {
        "id": "8-cRWa0oQz9b"
      },
      "source": [
        ">## Les types de variables:\r\n"
      ]
    },
    {
      "cell_type": "markdown",
      "metadata": {
        "id": "fBwyrciDQz9c"
      },
      "source": [
        "\n",
        ">**Le type de variable** identifie la nature de son contenu : nombre entier texte ect..\n",
        "Selon le type de la variable, certaines opérations seront possibles ou non. Par exemple, il existe une méthode pour mesurer la longueur d'une chaine de caractères, mais cette methode sera inefficace sur un nombre décimal.\n",
        "Le type d'une variable est définie automatiquement selon le contenu qui lui est affecté c'est ce qu'on appelle le **typage dynamique**.   \n",
        "Voici les principaux types de variables mentionnés dans les programmes de BCP :\n",
        "\n",
        "<table align=\"center\">\n",
        "  <tr>\n",
        "    <th align=\"center\"><b>Différentes classes d'objets</th>\n",
        "    <th align=\"center\"><b> </th>\n",
        "  </tr>\n",
        "  <tr>\n",
        "    <td align=\"center\"><b><i>int</b></i></td>\n",
        "    <td>c'est la classe des <b>nombres entiers</b></td>\n",
        "  </tr>\n",
        "  <tr>\n",
        "    <td align=\"center\"><b><i>float</b></i></td>\n",
        "    <td>c'est la classe des <b>nombres décimaux</b></td>\n",
        "  </tr>\n",
        "  <tr>\n",
        "    <td align=\"center\"><b><i>bool</b></i></td>\n",
        "    <td>c'est la classe des <b>booléens</b> (Vrai ou Faux, True/False )</td>\n",
        "  </tr>\n",
        "    <tr>\n",
        "    <td align=\"center\"><b><i>str</b></i></td>\n",
        "    <td>c'est la classe des <b>chaînes de caractères (texte)</b></td>\n",
        "  </tr>\n",
        "  <tr>\n",
        "    <td align=\"center\"><b><i>list</b></i></td>\n",
        "    <td>c'est la classe des <b>listes d'objets</b></td>\n",
        "  </tr>    \n",
        "</table>\n",
        "Executer le code suivant :"
      ]
    },
    {
      "cell_type": "code",
      "metadata": {
        "colab": {
          "base_uri": "https://localhost:8080/"
        },
        "id": "S4ltQnXXXxvj",
        "outputId": "95ed99da-df70-4240-c49b-7f013251e3f2"
      },
      "source": [
        "gravite = 10\r\n",
        "type(gravite)\r\n",
        "#A FAIRE AFFECTE LA VALEUR 9,81 A GRAVITE ET OBSERVER LE RESULTAT\r\n"
      ],
      "execution_count": null,
      "outputs": [
        {
          "output_type": "execute_result",
          "data": {
            "text/plain": [
              "float"
            ]
          },
          "metadata": {
            "tags": []
          },
          "execution_count": 8
        }
      ]
    },
    {
      "cell_type": "markdown",
      "metadata": {
        "id": "C7GchDcAQz9j"
      },
      "source": [
        "#LES FONCTIONS\n",
        "Une **fonction**  est un sous prograamme qui permet d'exécuter un certain nombre d'instructions déjà enregistrées.\n",
        "Comme mentionné plus haut Python dispose de nombreuses fonctions déja définies"
      ]
    },
    {
      "cell_type": "markdown",
      "metadata": {
        "id": "MVKD_yBaQz9k"
      },
      "source": [
        ">## Quelques fonctions très utiles"
      ]
    },
    {
      "cell_type": "markdown",
      "metadata": {
        "id": "jX89QI5gQz9l"
      },
      "source": [
        "<table align=\"center\">\n",
        "  <tr>\n",
        "    <td align=\"center\"><b><i>type</b></i></td>\n",
        "      <td align=\"center\"><b>type</b>(<i>nom_de_la_variable</i>)</td>\n",
        "      <td><b>Renvoie la classe</b> de la variable.</td>  \n",
        "  </tr>\n",
        "    <tr>\n",
        "    <td align=\"center\"><b><i>print</b></i></td>\n",
        "      <td align=\"center\"><b>print</b>(<i>valeur1, valeur2, ...</i>)</td>\n",
        "      <td><b>Affiche la valeur</b> ou les valeurs d'une ou plusieurs variables.</td>  \n",
        "  </tr>\n",
        "    <tr>\n",
        "    <td align=\"center\"><b><i>input</b></i></td>\n",
        "      <td align=\"center\"><b>input</b>(<i>paramètre</i>)</td>\n",
        "      <td><b>Renvoie l'objet</b> saisi par l'utilisateur.</td>  \n",
        "  </tr>\n",
        "    <tr>\n",
        "    <td align=\"center\"><b><i>int <br>float <br>str <br>bool <br>list </b></i></td>\n",
        "      <td align=\"center\"><b>int</b>(<i>paramètre</i>) <br> <b>float</b>(<i>paramètre</i>) <br> <b>str</b>(<i>paramètre</i>) <br> <b>bool</b>(<i>paramètre</i>) <br> <b>list</b>(<i>paramètre</i>)  </td>\n",
        "      <td align=\"center\"><b>Convertit la classe</b> du paramètre (en entier, nombre décimal, chaîne de caractères, booléen, liste).</td>  \n",
        "  </tr>\n",
        " <tr>\n",
        "    <td align=\"center\"><b><i>help</b></i></td>\n",
        "      <td align=\"center\"><b>help</b>(<i>paramètre</i>)</td>\n",
        "      <td><b>Affiche la documentation <i>(docstring)</i> </b> du paramètre.</td>  \n",
        "  </tr> \n",
        "    \n",
        "</table>\n",
        "\n",
        "*Exemples de codes à exécuter:*"
      ]
    },
    {
      "cell_type": "code",
      "metadata": {
        "colab": {
          "base_uri": "https://localhost:8080/"
        },
        "id": "oUlHoGweQz9l",
        "outputId": "0a18cddf-6f04-41f7-8dd2-47c509aecd05"
      },
      "source": [
        "#Fonctions input(), print() et type():\n",
        "lycee=input(\"votre lycée:\")                  #La variable lycee reçoit la réponse\n",
        "ville=input(\"dans quelle ville?\")      \n",
        "print(\"Mon lycée est\", lycee, \"à\", ville)\n",
        "print(type(lycee))                           #Affiche le type de la variable lycee"
      ],
      "execution_count": null,
      "outputs": [
        {
          "output_type": "stream",
          "text": [
            "votre lycée:Balata\n",
            "dans quelle ville?Matoury\n",
            "Mon lycée est Balata à Matoury\n",
            "<class 'str'>\n"
          ],
          "name": "stdout"
        }
      ]
    },
    {
      "cell_type": "code",
      "metadata": {
        "id": "n9-2sa73Qz9m",
        "colab": {
          "base_uri": "https://localhost:8080/"
        },
        "outputId": "8382f95d-f1a5-47ba-e8a8-5674f9905a5d"
      },
      "source": [
        "annee=input(\"votre année de naissance: \")    #La variable année reçoit la réponse entrée au clavier\n",
        "\n",
        "#A FAIRE: COMPLETER LE CODE POUR QU'IL AFFICHE LA PHRASE SUIVANTE: \"Vous avez xx ans cette annéee3\n",
        "                                    "
      ],
      "execution_count": null,
      "outputs": [
        {
          "output_type": "stream",
          "text": [
            "votre année de naissance: 1983\n"
          ],
          "name": "stdout"
        }
      ]
    },
    {
      "cell_type": "markdown",
      "metadata": {
        "id": "L-OsbparQz9m"
      },
      "source": [
        "#**A RETENIR:**  \n",
        "La fonction *input()* renvoie des objets de la classe **str** .   \n",
        "Les messages d'erreur renseignent sur l'erreur (ligne, type, ...). Ici, c'est une erreur de type (**TypeError**).  "
      ]
    },
    {
      "cell_type": "markdown",
      "metadata": {
        "id": "78qdotxTQz9m"
      },
      "source": [
        "*Modifier et exécuter le code précédent pour pouvoir réaliser l'opération: utiliser la fonction int() pour modifier la classe de la variable annee.*  \n",
        "Pour *rafraîchir* un seul code (*JupyterLab*), `clic-droit sur la cellule de code` -> `Clear Outputs`"
      ]
    },
    {
      "cell_type": "code",
      "metadata": {
        "id": "qi-wxWZcQz9m"
      },
      "source": [
        "#Programme calculant l'aire d'un rectangle\n",
        "l=input(\"largeur du rectangle:\")\n",
        "L=input(\"longueur du rectangle:\")\n",
        "#changement de classe des variables\n",
        "l=float(l)\n",
        "L=float(L)\n",
        "\n",
        "aire=l*L\n",
        "print(\"L'aire du rectangle est\", aire, \"cm2\")"
      ],
      "execution_count": null,
      "outputs": []
    },
    {
      "cell_type": "markdown",
      "metadata": {
        "id": "goBYLSd4Qz9n"
      },
      "source": [
        ">## Créations de fonctions"
      ]
    },
    {
      "cell_type": "markdown",
      "metadata": {
        "id": "TAuLmGLoQz9n"
      },
      "source": [
        "Il est souvent intéressant de créer des propores fonctions pour les utiliser ensuite.  \n",
        "Pour créer une fonction, deux étapes sont nécessaires: *Définir la fonction* puis *Utiliser la fonction*\n",
        "\n",
        "####**Définir une fonction:**\n",
        "```python\n",
        "       def nom_de_la_fonction(*paramètre1, paramètre2, ...*) : \n",
        "           #bloc d'intructions\n",
        "       return resultat\n",
        "```\n",
        "####**Utilisation de la fonction:**\n",
        "```python \n",
        "        nom_de_la_fonction(paramètre1,paramètre2...)\n",
        "  ou \n",
        "        mon_resultat = nom_de_la_fonction(paramètre1,paramètre2...)\n",
        "```\n",
        "Il est important de respecter la syntaxe de definition de la fonction. Une fonction doit toujours commencer par le mot clé **def** et retourner un résultat avec le mot clé **return** et marque la fin de la fonction.\n",
        "Les paramètres en ne sont pas obligatoire mais permettent de transmettre des valeurs à la fonction."
      ]
    },
    {
      "cell_type": "code",
      "metadata": {
        "id": "6swCOYCuQz9o",
        "colab": {
          "base_uri": "https://localhost:8080/"
        },
        "outputId": "f529c2b3-1dfe-4aa1-cc5d-27c68991c155"
      },
      "source": [
        "#Fonction calculant l'aire d'un rectangle\n",
        "def aire_rectangle(l,L):                           #!!! NE PAS OUBLIER LES :     \n",
        "    aire=L*l                                       #!!! RESPECTER LES INDENTATIONS (espacements) DU BLOC d'instructions de la fonction\n",
        "    print(\"L'aire du rectangle est\", aire, \"cm2\")\n",
        "    \n",
        "#Test de la fonction\n",
        "aire_rectangle(5,10)\n",
        "#A FAIRE : EXCUTER LE PROGRAMME"
      ],
      "execution_count": null,
      "outputs": [
        {
          "output_type": "stream",
          "text": [
            "L'aire du rectangle est 50 cm2\n"
          ],
          "name": "stdout"
        }
      ]
    },
    {
      "cell_type": "code",
      "metadata": {
        "id": "YyMYqBkqQz9o",
        "colab": {
          "base_uri": "https://localhost:8080/"
        },
        "outputId": "29e2a02f-05d8-4cb7-809b-97fbd85617e3"
      },
      "source": [
        "#Fonction calculant le périmètre d'un rectangle\n",
        "def perimetre(l,L):\n",
        "    return 2*L+2*l\n",
        "\n",
        "#Test de la fonction\n",
        "a=perimetre(5,10)     #La valeur renvoyée par la fonction est affectée à la variable a.\n",
        "print(a)\n",
        "#A FAIRE : EXCUTER LE PROGRAMME"
      ],
      "execution_count": null,
      "outputs": [
        {
          "output_type": "stream",
          "text": [
            "30\n"
          ],
          "name": "stdout"
        }
      ]
    },
    {
      "cell_type": "markdown",
      "metadata": {
        "id": "W60eshZoQz9p"
      },
      "source": [
        ">## Importation de fonctions"
      ]
    },
    {
      "cell_type": "markdown",
      "metadata": {
        "id": "SIFsLyh5Qz9q"
      },
      "source": [
        "Les fonctions que l'on crée peuvent être sauvegardées dans des fichiers appelés **modules** .  \n",
        "Python stocke dans des **modules** des fonctions et des variables ayant un rapport entre elles.  \n",
        "Il existe un grand nombre de modules Python.  \n",
        "Plusieurs modules sont parfois regroupés dans des ***packages (ou bibilothèques)*** (= dossiers).  \n",
        "*Exemples de modules et bibliothèque utiles:*  \n",
        "\n",
        "<table align=\"center\">\n",
        "  <tr>\n",
        "    <td><b><i>math</b></i></td>\n",
        "    <td>Contient les principales fonctions mathématiques</td>\n",
        "  </tr>\n",
        "  <tr>\n",
        "    <td><b><i>random</b></i></td>\n",
        "    <td>Permet la génération de nombres aléatoires</td>\n",
        "  </tr>\n",
        "  <tr>\n",
        "    <td><b><i>turtle</b></i></td>\n",
        "      <td>La tortue Python, l'équivalent de <i>Scratch</i> <br>Permet de tracer des figures géométriques</td>\n",
        "  </tr>\n",
        "    <tr>\n",
        "    <td><b><i>time</b></i></td>\n",
        "    <td>Pour l'heure, la date et chronométrer</td>\n",
        "  </tr>\n",
        "  <tr>\n",
        "    <td><b><i>tkinter</b></i></td>\n",
        "    <td>Permet d'afficher des fenêtres graphiques</td>\n",
        "  </tr>    \n",
        "  <tr>\n",
        "    <td><b><i>matplotlib <br><i>(bibliothèque)<i/> </b></i></td>\n",
        "    <td> </td>\n",
        "  </tr>\n",
        "    <tr>\n",
        "    <td><b><i>numpy <br><i>(bibliothèque)<i/> </b></i></td>\n",
        "    <td> </td>\n",
        "  </tr>\n",
        "</table>\n",
        "\n",
        "Pour utiliser les fonctions et variables d'un module, il faut **importer** le module.  \n",
        "*Remarque:*  \n",
        "Une opération d'importation *crée un lien* entre votre document de travail et le module appelé qui est déjà sur votre machine. *Ce n'est pas une opération de téléchargement* .  \n",
        "Certaines bibliothèques (comme mathplotlib, numpy, ...) peuvent être absentes de votre machine et nécessitent alors un **téléchargement** par exemple via Internet."
      ]
    },
    {
      "cell_type": "markdown",
      "metadata": {
        "id": "LpM5Z9GVQz9q"
      },
      "source": [
        "**A RETENIR:**  \n",
        "Pour connaître les fonctions ou variables d'un module ainsi que leurs caractéristiques, penser à utiliser la fonction **help()** dans l'*interpéteur Python* .  \n",
        "\n",
        "<table align=\"center\">\n",
        "  <tr>\n",
        "    <td><b><i>Pour connaître les fonctions Python présentes nativement dans l'interpéteur (sans importations)</b></i></td>\n",
        "    <td><a href=\"https://docs.python.org/3/library/functions.html\">https://docs.python.org/3/library/functions.html</a></td>\n",
        "  </tr>\n",
        "    <tr>\n",
        "    <td><b><i>Pour connaître les modules Python présents sur votre machine</b></i></td>\n",
        "    <td>help(\"modules\")</td>\n",
        "  </tr>\n",
        "    <tr>\n",
        "    <td><b><i>Informations sur un module</b></i></td>\n",
        "    <td>help(\"nom_du_module\")  <br>help(nom_du_module) si le module est déjà importé</td>\n",
        "  </tr>\n",
        "    <tr>\n",
        "    <td><b><i>Informations sur une fonction d'un module</b></i></td>\n",
        "      <td>help(\"nom_du_module.nom_de_la_fonction\") <br>help(nom_du_module.nom_de_la_fonction) <br>help(nom_de_la_fonction)  si la fonction est déjà importée  </td>\n",
        "  </tr>\n",
        "</table>\n",
        "\n",
        "Taper `Q` pour quitter l'aide, `espace` pour avancer d'une page, `entrer`pour avancer d'une ligne.  "
      ]
    },
    {
      "cell_type": "markdown",
      "metadata": {
        "id": "jxcysjuXQz9r"
      },
      "source": [
        "*Exemples de recherches d'informations:*"
      ]
    },
    {
      "cell_type": "code",
      "metadata": {
        "id": "SYYfKoVcQz9r"
      },
      "source": [
        "#Chercher des informations sur la fonction radian du module math\n",
        "help(\"math.radians\")\n",
        "#Chercher des informations sur le module math (par exemple, pour connaître l'ensemble des fonctions du module). !!!L'exécution de cette commande peut être longue...\n"
      ],
      "execution_count": null,
      "outputs": []
    },
    {
      "cell_type": "code",
      "metadata": {
        "id": "T7_0ticfQz9r"
      },
      "source": [
        "#Chercher des informations sur le module random\n",
        "\n",
        "#Chercher des informations sur la fonction randint\n",
        "\n",
        "#Chercher des informations sur la fonction random (du module random ...)\n"
      ],
      "execution_count": null,
      "outputs": []
    },
    {
      "cell_type": "markdown",
      "metadata": {
        "id": "mCqj22vxQz9r"
      },
      "source": [
        "*Exemples d'importations de modules et d'utilisations de fonctions:*"
      ]
    },
    {
      "cell_type": "code",
      "metadata": {
        "id": "IrTgcW03Qz9r"
      },
      "source": [
        "#Méthode import\n",
        "import math          #Importation du module math\n",
        "a=math.pi            #Appel de la variable pi du module math avec la syntaxe nom_du_module.nom_de_la_fonction\n",
        "b=math.sqrt(19)\n",
        "print(a,b)"
      ],
      "execution_count": null,
      "outputs": []
    },
    {
      "cell_type": "code",
      "metadata": {
        "id": "Pd350pF5Qz93"
      },
      "source": [
        "#Méthode from ... import ...\n",
        "from math import radians   #Importation de la fonction radians du module math\n",
        "radians(180)"
      ],
      "execution_count": null,
      "outputs": []
    },
    {
      "cell_type": "code",
      "metadata": {
        "id": "AwxJGSu0Qz93"
      },
      "source": [
        "#Méthode from ... import *\n",
        "from random import *       #Importation de TOUTES les fonctions et variables du module random\n",
        "a=random()\n",
        "b=randint(1,6)\n",
        "print(a,b)"
      ],
      "execution_count": null,
      "outputs": []
    },
    {
      "cell_type": "markdown",
      "metadata": {
        "id": "IhUotYl2Qz94"
      },
      "source": [
        "#EXERCICES D'APPLICATIONS"
      ]
    },
    {
      "cell_type": "markdown",
      "metadata": {
        "id": "vjdD0M6rQz94"
      },
      "source": [
        "### Géométrie"
      ]
    },
    {
      "cell_type": "markdown",
      "metadata": {
        "id": "b3GlcxWOQz94"
      },
      "source": [
        "1. Compléter les fonctions suivantes."
      ]
    },
    {
      "cell_type": "code",
      "metadata": {
        "id": "7n4ObXl-Qz95"
      },
      "source": [
        "#Fonction renvoyant le volume d'une boule\n",
        "def volume_boule(r):                \n",
        "    from math import pi\n",
        "      #Votre code  \n",
        "    return   \n",
        "\n",
        "#Test fonction\n",
        "a=volume_boule(10)\n",
        "print(a)"
      ],
      "execution_count": null,
      "outputs": []
    },
    {
      "cell_type": "code",
      "metadata": {
        "id": "bgf47TH3Qz95"
      },
      "source": [
        "#Fonction renvoyant la longueur du côté d'un carré d'aire A\n",
        "def cote_carre(A):                  \n",
        "    #Importer la fonction renvoyant la racine carré d'un nombre\n",
        "    #Votre code\n",
        "    \n",
        "#Test fonction\n",
        "print(cote_carre(100))"
      ],
      "execution_count": null,
      "outputs": []
    },
    {
      "cell_type": "code",
      "metadata": {
        "id": "8rrUb1MjQz96"
      },
      "source": [
        "#Fonction renvoyant le diamètre d'un cylindre connaissant la hauteur h et le volume V\n",
        "def diametre_cylindre(h,V):         \n",
        "    \n",
        "    #Votre code\n",
        "    \n",
        "    \n",
        "#Test fonction\n",
        "print(diametre_cylindre(3,5))"
      ],
      "execution_count": null,
      "outputs": []
    },
    {
      "cell_type": "markdown",
      "metadata": {
        "id": "b_qI0KZSQz97"
      },
      "source": [
        "### Calculs commerciaux et financiers"
      ]
    },
    {
      "cell_type": "markdown",
      "metadata": {
        "id": "A5aJpUFRQz97"
      },
      "source": [
        "1. Compléter le programme suivant renvoyant le montant d'un intérêt simple.  \n",
        "Exemple:    C0= 1000€; t=5%; n=250 jours --> I &asymp; 34,72€"
      ]
    },
    {
      "cell_type": "code",
      "metadata": {
        "id": "Jj_Tue3aQz97"
      },
      "source": [
        "\"\"\"\n",
        "En entrée:\n",
        "C0: capital placé\n",
        "t: taux annuel des intérêts en %\n",
        "n: période du placement en jours\n",
        "En sortie:\n",
        "chaine de caractères présentant les intérêts I\n",
        "\"\"\"\n",
        "\n",
        "C0=float(input(\"capital placé:\"))\n",
        "t=\n",
        "n=\n",
        "\n",
        "I=        \n",
        "\n",
        "print(\"Un capital de\", C0,\"€ placé pendant\", n,\"jours au taux annuel de\", t, \"%, produit\",I,\"€ d'intérêts\")\n",
        "\n",
        "#Remarque: pour arrondir le montant des intérêts aux centimes d'euros, utiliser la fonction round() ...infos avec la fonction help()."
      ],
      "execution_count": null,
      "outputs": []
    },
    {
      "cell_type": "markdown",
      "metadata": {
        "id": "8PN6MEpcQz97"
      },
      "source": [
        "2. Réaliser un programme calculant le montant net à payer après remise en % pour une facture."
      ]
    },
    {
      "cell_type": "code",
      "metadata": {
        "id": "qvZlODk9Qz97"
      },
      "source": [
        "\"\"\"\n",
        "En entrée:\n",
        "PBHT: prix brut hors taxe en €\n",
        "remise: remise en %\n",
        "En sortie:\n",
        "chaine de caractères présentant le prix net HT (PNHT)\n",
        "\"\"\"\n",
        "\n",
        "#votre code\n"
      ],
      "execution_count": null,
      "outputs": []
    },
    {
      "cell_type": "markdown",
      "metadata": {
        "id": "BEeb0JK9Qz98"
      },
      "source": [
        "### Fonctions"
      ]
    },
    {
      "cell_type": "markdown",
      "metadata": {
        "id": "aMmqZjnPQz98"
      },
      "source": [
        "Créer un programme qui, à partir des données des coordonnées de deux points, renvoie l'équation réduite d'une droite non // à l'axe des ordonnées."
      ]
    },
    {
      "cell_type": "code",
      "metadata": {
        "id": "UuYg9QgEQz99"
      },
      "source": [
        "\"\"\"\n",
        "En entrée:\n",
        "xA\n",
        "yA\n",
        "xB       On suppose xB > xA\n",
        "yB\n",
        "En sortie:\n",
        "chaine de caractères présentant l'équation réduite ou ses paramètres a et b.\n",
        "\"\"\"\n",
        "\n",
        "#Détermination du coefficient a\n",
        "#Votre code\n",
        "\n",
        "#Détermination du coefficient b\n",
        "#Votre code\n",
        "\n"
      ],
      "execution_count": null,
      "outputs": []
    },
    {
      "cell_type": "markdown",
      "metadata": {
        "id": "SV90BJvmQz99"
      },
      "source": [
        "### Résolution d'un problème du premier degré"
      ]
    },
    {
      "cell_type": "markdown",
      "metadata": {
        "id": "umgz6IfRQz9-"
      },
      "source": [
        "Une agence de location de voiture propose la formule suivante: 21€ puis 0,05€/km.  \n",
        "Compléter les fonctions suivantes."
      ]
    },
    {
      "cell_type": "code",
      "metadata": {
        "id": "G_NOnQ55Qz9_"
      },
      "source": [
        "def prix(x):\n",
        "    \"\"\"\n",
        "    Fonction renvoyant le prix à payer en fonction du nombre de km parcourus\n",
        "\n",
        "    En entrée:\n",
        "    x: nombre de km\n",
        "    En sortie:\n",
        "    y: prix à payer en €\n",
        "    \"\"\"\n",
        "\n",
        "    #votre code\n",
        "\n"
      ],
      "execution_count": null,
      "outputs": []
    },
    {
      "cell_type": "code",
      "metadata": {
        "id": "H9PmB6B2Qz9_"
      },
      "source": [
        "def nb_km(y):\n",
        "    \"\"\"\n",
        "    Fonction renvoyant le nombre de km à parcourir en fonction du prix en €\n",
        "\n",
        "    En entrée:\n",
        "    y: prix en €\n",
        "    En sortie:\n",
        "    x: nombre de km\n",
        "    \"\"\"\n",
        "\n",
        "    #votre code\n",
        "\n"
      ],
      "execution_count": null,
      "outputs": []
    }
  ]
}