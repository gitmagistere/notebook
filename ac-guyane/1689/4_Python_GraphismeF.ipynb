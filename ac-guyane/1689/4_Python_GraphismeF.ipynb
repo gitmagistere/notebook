{
  "nbformat": 4,
  "nbformat_minor": 0,
  "metadata": {
    "colab": {
      "name": "4_Python_Graphisme.ipynb",
      "provenance": [],
      "collapsed_sections": [
        "8NvQSueUIVC4",
        "gryYJUefFDhh",
        "o7SqRfg9-WgA",
        "hVayY4c1PdaD"
      ]
    },
    "kernelspec": {
      "name": "python3",
      "display_name": "Python 3"
    }
  },
  "cells": [
    {
      "cell_type": "markdown",
      "metadata": {
        "id": "IIKHAo6sJbPp"
      },
      "source": [
        "# Creer des diagrammes\r\n",
        "\r\n"
      ]
    },
    {
      "cell_type": "markdown",
      "metadata": {
        "id": "WqgcgcJMJa8M"
      },
      "source": [
        "Il est possible de produire des figures et graphiques en python pour cela il faut utiliser la bibliothèques  **matplotlib** offrant les possibilités de productions graphiques.\r\n",
        "\r\n",
        "Pour importer la bibliotheque **matplotlib**:\r\n",
        "```python \r\n",
        "from matplotlib import * # Permet d'importer toutes les fonctions de la bibliotheque matplotlib\r\n",
        "```\r\n"
      ]
    },
    {
      "cell_type": "markdown",
      "metadata": {
        "id": "8NvQSueUIVC4"
      },
      "source": [
        ">### Diagramme en batons"
      ]
    },
    {
      "cell_type": "markdown",
      "metadata": {
        "id": "vodl6e62IVC7"
      },
      "source": [
        ">Fonctions **bar()** et **barh()** : ces fonctions permettent de tracer des diagrammes en batons:\r\n",
        "\r\n",
        "```python matplotlib.pyplot.bar(x,height, width=0.8, bottom=None, align='center', color=\"r\")```\r\n",
        "<table>\r\n",
        "<tr><th>Paramètres:</th></tr>\r\n",
        "<tr><td>x, height :</td><td>séquences ou nombres ;</tb></tr> \r\n",
        "<td>width :</td><td>largeurs des barres ; défaut = 0.8 ;</tb></tr>\r\n",
        "<td>bottom :</td><td>ordonnée de la base de la barre ; défaut = 0 ;</tb></tr>\r\n",
        "<td>align :</td><td>{‘center’, ‘edge’}*: alignement des barres ; défaut = ‘center’</tb></tr> \r\n",
        "</table>\r\n",
        "\r\n",
        "\r\n"
      ]
    },
    {
      "cell_type": "code",
      "metadata": {
        "id": "TjaKXfVuIVC9"
      },
      "source": [
        "import matplotlib.pyplot as plt\r\n",
        "import random as rand\r\n",
        "\r\n",
        "\r\n",
        "fig1=plt.figure(figsize=(3.5,3.5)) # création du gabarit de la figure\r\n",
        "axe1=fig1.add_subplot(1,1,1)       # création des axes\r\n",
        "\r\n",
        "X=[\"A\",\"B\",\"C\",\"D\"]                #Ligne x du tableau de valeur\r\n",
        "Y=[rand.randint(1,6) for i in range(4)] #Ligne Y d tableau de valeur, créer 4 entier aléatoire\r\n",
        "\r\n",
        "axe1.bar(X,Y,width=0.5, color=\"r\")\r\n",
        "fig1.show()\r\n",
        "\r\n",
        "#EXECUTER LE CODE POUR VOIR LE RESULTAT"
      ],
      "execution_count": null,
      "outputs": []
    },
    {
      "cell_type": "markdown",
      "metadata": {
        "id": "gryYJUefFDhh"
      },
      "source": [
        ">### Histogramme"
      ]
    },
    {
      "cell_type": "markdown",
      "metadata": {
        "id": "PxME1I9XFDhn"
      },
      "source": [
        ">Fonction **hist()** : permet de tracer des histrogrammes:\r\n",
        "\r\n",
        "```python matplotlib.pyplot.hist(x, bins=None, range=None, histtype='bar')```\r\n",
        "<table>\r\n",
        "<tr><th>Paramètres:</th></tr>\r\n",
        "<tr><td>x :</td><td>séquences valeurs ;</tb></tr> \r\n",
        "<td>bins :</td><td>nombre d'intervalles ; défaut = 10 ;</tb></tr>\r\n",
        "<td>range :</td><td>ordonnée de la base de la barre ; défaut = 0 ;</tb></tr>\r\n",
        "<td>histtype :</td><td>{'bar', 'barstacked', 'step', 'stepfilled'} , barre, barres superposées,…; défaut = bar</tb></tr> \r\n",
        "</table>\r\n",
        "\r\n",
        "\r\n"
      ]
    },
    {
      "cell_type": "code",
      "metadata": {
        "id": "MZSZmAOoFDhr"
      },
      "source": [
        "import matplotlib.pyplot as plt\r\n",
        "import random as rand\r\n",
        "\r\n",
        "fig1=plt.figure(figsize=(3.5,3.5)) # création du gabarit de la figure\r\n",
        "axe1=fig1.add_subplot(1,1,1)       # création des axes\r\n",
        "\r\n",
        "L_tailles=[169,179,181,168,172,171,189,170,165,183,171,169,177,180,176,161,174,164,184,169,172,187,170,172]\r\n",
        "\r\n",
        "axe1.hist(L_tailles,bins=[160,165,170,175,180,190],edgecolor=\"w\")\r\n",
        "\r\n",
        "fig1.show()\r\n",
        "\r\n",
        "#EXECUTER LE CODE POUR VOIR LE RESULTAT"
      ],
      "execution_count": null,
      "outputs": []
    },
    {
      "cell_type": "markdown",
      "metadata": {
        "id": "o7SqRfg9-WgA"
      },
      "source": [
        ">### Diagramme circulaire"
      ]
    },
    {
      "cell_type": "markdown",
      "metadata": {
        "id": "QMtuTWQ7AjTV"
      },
      "source": [
        ">Fonctions **pie()** : permet de tracer des diagrammes circulaires :\r\n",
        "\r\n",
        "```python matplotlib.pyplot.pie(x,labels=None, colors=None, autopct=None)```\r\n",
        "<table>\r\n",
        "<tr><th>Paramètres:</th></tr>\r\n",
        "<tr><td>x :</td><td>séquences de valeurs;</tb></tr> \r\n",
        "<td>explode :</td><td>ldécalages des secteurs en fraction de radian ; séquence de longueur len(x); défaut = None;</tb></tr>\r\n",
        "<td>labels :</td><td>liste (string), défaut = ‘None’) ;</tb></tr>\r\n",
        "<td>autopct :</td><td>affiche et formate les % ; string ou fonction (ex : ‘%.2f%’) ; défaut = ‘None’ ;</tb></tr> \r\n",
        "</table>\r\n",
        "\r\n",
        "\r\n"
      ]
    },
    {
      "cell_type": "code",
      "metadata": {
        "id": "W27qwfvvMLMK"
      },
      "source": [
        "import matplotlib.pyplot as plt\r\n",
        "import random as rand\r\n",
        "\r\n",
        "\r\n",
        "fig1=plt.figure(figsize=(3.5,3.5)) # création du gabarit de la figure\r\n",
        "axe1=fig1.add_subplot(1,1,1)       # création des axes\r\n",
        "\r\n",
        "#création des données\r\n",
        "valeur=[5,60,45,20]\r\n",
        "noms=[\"Apple\",\"SAMSUNG\",\"SONY\",\"HUAWEI\"]\r\n",
        "\r\n",
        "axe1.pie(valeur, labels=noms,                      \r\n",
        "         explode=[0,0,0,0],\r\n",
        "         autopct=lambda x:\"{}%\".format(round(x,2))) #fonction renvoyant le format des %\r\n",
        "fig1.show()\r\n",
        "\r\n",
        "#EXECUTER LE CODE POUR VOIR LE RESULTAT"
      ],
      "execution_count": null,
      "outputs": []
    },
    {
      "cell_type": "markdown",
      "metadata": {
        "id": "o-dKX4QMITVp"
      },
      "source": [
        ">### Boîte à moustaches"
      ]
    },
    {
      "cell_type": "markdown",
      "metadata": {
        "id": "vW0LfxEjITVr"
      },
      "source": [
        ">Fonctions **boxplot** permet de tracer des boites à moustache:\r\n",
        "\r\n",
        "```python matplotlib.pyplot.boxplot(x, notch=None, sym=None, vert=None, whis=None, positions=None, widths=None, …)```\r\n",
        "<table>\r\n",
        "<tr><th>Paramètres:</th></tr>\r\n",
        "<tr><td>x :</td><td>séquences de valeurs ;</tb></tr> \r\n",
        "<td>notch :</td><td>encoche ; booléen ; défaut = False ;</tb></tr>\r\n",
        "<td>vert :</td><td>position verticale ; booléen ; défaut = True</tb></tr>\r\n",
        "<td>whis :</td><td>position des moustaches (float ou (float,float) ; défaut = 1.5 étend la position de la moustache jusqu’à 1.5 fois la distance interquartile )</tb></tr> \r\n",
        "</table>\r\n",
        "\r\n",
        "\r\n"
      ]
    },
    {
      "cell_type": "code",
      "metadata": {
        "colab": {
          "base_uri": "https://localhost:8080/",
          "height": 265
        },
        "id": "3Uex9w2bITVs",
        "outputId": "c5e2ac23-fe92-45d6-934d-6102ebdcfbc1"
      },
      "source": [
        "import matplotlib.pyplot as plt\r\n",
        "from random import randint\r\n",
        "\r\n",
        "\r\n",
        "fig1=plt.figure(figsize=(4,4)) # création du gabarit de la figure\r\n",
        "axe1=fig1.add_subplot(1,1,1)       # création des axes\r\n",
        "\r\n",
        "L1=[randint(0,101) for i in range(100)] #Génère une liste de 100 valeurs aléatiure comprise entre 0 et 100\r\n",
        "L2=[randint(0,101) for i in range(100)]\r\n",
        "L3=[randint(0,101) for i in range(100)]\r\n",
        "\r\n",
        "axe1.boxplot([L1,L2,L3],\r\n",
        "             labels=[\"L1\",\"L2\",\"L3\"],\r\n",
        "             widths=[0.8,0.4,0.5],\r\n",
        "             positions=[1,3,2])\r\n",
        "\r\n",
        "fig1.show()\r\n",
        "\r\n",
        "#EXECUTER LE CODE POUR VOIR LE RESULTAT"
      ],
      "execution_count": null,
      "outputs": [
        {
          "output_type": "display_data",
          "data": {
            "image/png": "[encoded data removed]",
            "text/plain": [
              "<Figure size 288x288 with 1 Axes>"
            ]
          },
          "metadata": {
            "tags": [],
            "needs_background": "light"
          }
        }
      ]
    },
    {
      "cell_type": "markdown",
      "metadata": {
        "id": "hVayY4c1PdaD"
      },
      "source": [
        "# Exercices d'applications"
      ]
    },
    {
      "cell_type": "markdown",
      "metadata": {
        "id": "tjYk0U2Z6C4s"
      },
      "source": [
        "###1-Statistiques\r\n",
        "\r\n",
        "1- Réaliser le diagrammes en batons des données statistiques suivantes\r\n",
        "\r\n",
        "\r\n",
        "**Répartion puissance des véhicules**\r\n",
        "\r\n",
        "![title](https://drive.google.com/uc?export=view&id=1WjmxglEEBHkHG5B3pUNlpzRGqBka8r1a)"
      ]
    },
    {
      "cell_type": "code",
      "metadata": {
        "id": "gdADS1jxL4fL"
      },
      "source": [
        "#Puissance des vehicules\r\n",
        "import matplotlib.pyplot as plt\r\n",
        "\r\n",
        "# votre code"
      ],
      "execution_count": null,
      "outputs": []
    },
    {
      "cell_type": "markdown",
      "metadata": {
        "id": "RY0a-dtcMIsd"
      },
      "source": [
        "2- A l'aide des options suivantes modifier votre code pour afficher :\r\n",
        "\r\n",
        "*   Le titre du graphique\r\n",
        "*   Les titres des axes x et y\r\n",
        "\r\n",
        "**OPTIONS :**\r\n",
        "```python\r\n",
        "pt.title(\"Mon titre\")\r\n",
        "plt.xlabel(\"Titre de l'axe des abscisses\")\r\n",
        "plt.ylabel(\"Titre de l'axe des ordonnées\")\r\n",
        "```\r\n",
        "\r\n",
        "\r\n"
      ]
    },
    {
      "cell_type": "markdown",
      "metadata": {
        "id": "ombRkfOPRLDb"
      },
      "source": [
        "3- Réaliser l'histogramme des donneés du tableau suivant:\r\n",
        "\r\n",
        "**Sondage duree en jours des symptomes des patients**:\r\n",
        "\r\n",
        "![title](https://drive.google.com/uc?export=view&id=1q9mBthroEfz13rz3Ugt29HuspLqSndxb)"
      ]
    },
    {
      "cell_type": "code",
      "metadata": {
        "id": "-ow9rjo_lndT"
      },
      "source": [
        "#Diagramme en batons\r\n",
        "import matplotlib.pyplot as plt\r\n",
        "from random import randint\r\n",
        "\r\n",
        "\r\n",
        "#votre code\r\n"
      ],
      "execution_count": null,
      "outputs": []
    },
    {
      "cell_type": "markdown",
      "metadata": {
        "id": "peQjAqUYkteh"
      },
      "source": [
        "4- Réaliser le diagramme circulaire données suivantes:\r\n",
        "\r\n",
        "**Répartion des âges des élèves d'une classe** :\r\n",
        "\r\n",
        "![title](https://drive.google.com/uc?export=view&id=1Bl8ToYoi8D-OaRDI985QVcFZqocohpnw)"
      ]
    },
    {
      "cell_type": "code",
      "metadata": {
        "id": "F3cxITJJkkyI"
      },
      "source": [
        "#Diagrame circulaire\r\n",
        "import matplotlib.pyplot as plt\r\n",
        "\r\n",
        "#votre code\r\n"
      ],
      "execution_count": null,
      "outputs": []
    }
  ]
}