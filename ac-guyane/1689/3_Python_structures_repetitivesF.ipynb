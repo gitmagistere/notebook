{
  "nbformat": 4,
  "nbformat_minor": 0,
  "metadata": {
    "kernelspec": {
      "display_name": "Python 3",
      "language": "python",
      "name": "python3"
    },
    "language_info": {
      "codemirror_mode": {
        "name": "ipython",
        "version": 3
      },
      "file_extension": ".py",
      "mimetype": "text/x-python",
      "name": "python",
      "nbconvert_exporter": "python",
      "pygments_lexer": "ipython3",
      "version": "3.7.6"
    },
    "colab": {
      "name": "3-Python_structures_repetitives.ipynb",
      "provenance": [],
      "collapsed_sections": [
        "fzFtrCFBWPuJ",
        "Woy0Vwx5Yjej",
        "U8BQEuv4WPuO",
        "zLOUaebvWPuS",
        "dkXOs0DQWPua"
      ]
    }
  },
  "cells": [
    {
      "cell_type": "markdown",
      "metadata": {
        "id": "fzFtrCFBWPuJ"
      },
      "source": [
        "# Les boucles\n",
        "\n",
        "Une **boucle** permet de répéter des instructions plusieurs fois en fonction d'un prédicat (test) ou du parcours d'une séquence. ils existent plusieurs type de boucles :"
      ]
    },
    {
      "cell_type": "markdown",
      "metadata": {
        "id": "Woy0Vwx5Yjej"
      },
      "source": [
        ">### Les boucles non-bornées: **tant que... (while...)**"
      ]
    },
    {
      "cell_type": "markdown",
      "metadata": {
        "id": "VPbOvRX6z12v"
      },
      "source": [
        ">Lorsque l'on connait le nombre de repetitins à effectuées, on utilise les boucles non bornées. La condition de sortie de la boucle depend d'un test effectué à chaque boucle.\r\n",
        " \r\n",
        ">La syntaxe est:\r\n",
        "\r\n",
        ">```python\r\n",
        ">while test:\r\n",
        ">#Blocs d'instructions\r\n",
        ">```\r\n",
        "*Exemples:*"
      ]
    },
    {
      "cell_type": "code",
      "metadata": {
        "id": "DTJNyLkVWPuL"
      },
      "source": [
        "i=0                  #ON INITIALISE UNE VARIABLE-COMPTEUR\n",
        "while i<=5:          #Tant que i est inferieure a 5\n",
        "    print(\"rang\",i)\n",
        "    i=i+1            #On incrémente la variable\n",
        "\n",
        "#A FAIRE : EXECUTER LE CODE POUR OBERVER LES RESULTATS"
      ],
      "execution_count": null,
      "outputs": []
    },
    {
      "cell_type": "markdown",
      "metadata": {
        "id": "4NuVBg7vWPuM"
      },
      "source": [
        "**A RETENIR:**  \n",
        "Ne pas oublier d'incrémenter la variable-compteur, sinon la condition étant toujours vraie, la boucle sera **infinie** .  \n",
        "Pour sortir d'une boucle infinie, taper `CRTL + C`.</p>"
      ]
    },
    {
      "cell_type": "markdown",
      "metadata": {
        "id": "U8BQEuv4WPuO"
      },
      "source": [
        ">### Les boucles bornées: **for ... in range**\n"
      ]
    },
    {
      "cell_type": "markdown",
      "metadata": {
        "id": "OwZzdEsa_2w1"
      },
      "source": [
        ">Lorsque l'on connait le nombre de répétitions nécéssaires, on utilise les boucle bornée. On fixe dès le depart le nombre de tours de boucle qui sera éffectuer.\r\n",
        " \r\n",
        ">La syntaxe est:\r\n",
        "\r\n",
        ">```python\r\n",
        ">for element in sequence:\r\n",
        ">#Blocs d'instructions\r\n",
        ">```\r\n",
        "*Exemples:*"
      ]
    },
    {
      "cell_type": "code",
      "metadata": {
        "id": "Yc-7ydm3WPuP"
      },
      "source": [
        "phrase=\"Bonjour les amis !\"\n",
        "\n",
        "for i in phrase:             #i parcourt la chaîne de caractères\n",
        "    if i.isalpha():          #teste si i est une lettre (caractère alphabétique)\n",
        "        if i in \"AEIOUYaeiouy\":\n",
        "            print(i,\"est une voyelle\")\n",
        "        else:\n",
        "            print(i,\"est une consonne\")\n",
        "    else:\n",
        "        print(i,\"n'est pas une lettre\")\n",
        "        \n",
        "#A FAIRE: EXECUTER LE CODE POUR OBSERVER LE RESULTAT        "
      ],
      "execution_count": null,
      "outputs": []
    },
    {
      "cell_type": "code",
      "metadata": {
        "id": "5-ozt_dAWPuQ",
        "colab": {
          "base_uri": "https://localhost:8080/"
        },
        "outputId": "779bd54c-a5cf-4b87-e3ff-2f58a5456c87"
      },
      "source": [
        "for i in range(1,10):              #i parcourt l'intervalle [1;10[\n",
        "    if i==1:\n",
        "        print(\"j'ai\",i,\"an.\")\n",
        "    else:\n",
        "        print(\"j'ai\",i,\"ans.\")\n",
        "        \n",
        "#A FAIRE: EXECUTER LE CODE POUR OBSERVER LE RESULTAT"
      ],
      "execution_count": null,
      "outputs": [
        {
          "output_type": "stream",
          "text": [
            "j'ai 1 an.\n",
            "j'ai 2 ans.\n",
            "j'ai 3 ans.\n",
            "j'ai 4 ans.\n",
            "j'ai 5 ans.\n",
            "j'ai 6 ans.\n",
            "j'ai 7 ans.\n",
            "j'ai 8 ans.\n",
            "j'ai 9 ans.\n"
          ],
          "name": "stdout"
        }
      ]
    },
    {
      "cell_type": "code",
      "metadata": {
        "id": "P9uaLgTvWPuQ"
      },
      "source": [
        "#informations sur la fonction range\n",
        "help(range)"
      ],
      "execution_count": null,
      "outputs": []
    },
    {
      "cell_type": "markdown",
      "metadata": {
        "id": "DP0jOgNzWPuR"
      },
      "source": [
        "**A RETENIR:**  \n",
        "**range(**start, stop, step**)**  : renvoie une séquence de nombres entiers; *step* est optionnel."
      ]
    },
    {
      "cell_type": "markdown",
      "metadata": {
        "id": "zLOUaebvWPuS"
      },
      "source": [
        "# Exercices d'applications"
      ]
    },
    {
      "cell_type": "markdown",
      "metadata": {
        "id": "dkXOs0DQWPua"
      },
      "source": [
        "### 1-Fonctions"
      ]
    },
    {
      "cell_type": "markdown",
      "metadata": {
        "id": "NP7JaQ2RWPua"
      },
      "source": [
        "1. Créer des programmes affichant les valeurs de fonction carré sur \n",
        "un intervalle [a;b] avec un pas donné.  \n",
        " \n",
        " *Exemple:*    **<i>f_carre(-5,5,0.1)</i>** renvoie \n",
        "\n",
        "            x=-5; y=25\n",
        "            x=-4.9; y=24.01\n",
        "            x=-4.8; y=23.04\n",
        "            ...\n",
        "            x=5; y=25"
      ]
    },
    {
      "cell_type": "code",
      "metadata": {
        "id": "yljnNJVqWPub"
      },
      "source": [
        "#Fonction carré\n",
        "def f_carre(a,b,p):\n",
        "    \"\"\"\n",
        "    Entrée:\n",
        "    a: borne inférieure de l'intervalle\n",
        "    b: borne supérieure de l'intervalle\n",
        "    p: pas\n",
        "    \n",
        "    Sortie:\n",
        "    str: \"x; y\", ...\n",
        "    \"\"\"\n",
        "    x=a                      #Initialisation de la valeur minimale de x\n",
        "    while x<=b:\n",
        "        \n",
        "        #Votre code\n",
        "        #!!Ne pas oublier d'incrémenter x!!\n",
        "        \n",
        "        \n",
        "#Test fonction\n",
        "f_carre(-5,5,0.1)"
      ],
      "execution_count": null,
      "outputs": []
    },
    {
      "cell_type": "markdown",
      "metadata": {
        "id": "T4iLSHlGiR0e"
      },
      "source": [
        "### 2-Statistiques à une variable\r\n",
        "Soit  la liste des tailles (en cm) des membres d'une equipe de football suivante:\r\n",
        "\r\n",
        "162;175;165;173;180;161;169;178;184;177;167\r\n",
        "\r\n",
        "Ecrire le programme permettant de calculer la taille moyenne des joueurs"
      ]
    },
    {
      "cell_type": "code",
      "metadata": {
        "id": "SCWFbcgKk4ss"
      },
      "source": [
        "'''\r\n",
        "1.Utiliser une boucle pour saisir les 11 tailles les fonction input() et int()\r\n",
        "2.Calculer la moyenne \r\n",
        "3.Afficher  la moyenne des tailles est : ...\r\n",
        "\r\n",
        "'''\r\n",
        "#votre code ..."
      ],
      "execution_count": null,
      "outputs": []
    },
    {
      "cell_type": "markdown",
      "metadata": {
        "id": "vVSSjSsiWPue"
      },
      "source": [
        "### 3-Probabilités"
      ]
    },
    {
      "cell_type": "markdown",
      "metadata": {
        "id": "urTe3MYjWPue"
      },
      "source": [
        "1. Le module **random**  \n",
        "Ce module permet la génération de nombres aléatoires."
      ]
    },
    {
      "cell_type": "code",
      "metadata": {
        "id": "AbOFe_HWWPue",
        "colab": {
          "base_uri": "https://localhost:8080/"
        },
        "outputId": "2cb1f4d2-a68f-4f7c-e4bd-cdf25c499bdb"
      },
      "source": [
        "#Exécuter, modifier et tester\n",
        "from random import *       #chargement de toutes les méthodes et attributs du module\n",
        "a=random()                 #renvoie un nombre aléatoire compris entre 0(inclus) et 1(exclus)\n",
        "b=randint(1,6)             #renvoie un nombre aléatoire compris entre 1(inclus) et 6(inclus!!!)\n",
        "print(a)\n",
        "print(b)"
      ],
      "execution_count": 1,
      "outputs": [
        {
          "output_type": "stream",
          "text": [
            "0.3056570080742921\n",
            "4\n"
          ],
          "name": "stdout"
        }
      ]
    },
    {
      "cell_type": "markdown",
      "metadata": {
        "id": "HcdA__KuWPuf"
      },
      "source": [
        "2. Soit l'expérience aléatoire « lancer d’un dé à 6 faces ».  \n",
        "Programmer la fonction *de(n)* affichant les résultats pour un échantillon de taille *n* .  \n",
        "Exemple:    *de(10)* affiche \n",
        "\n",
        "            1\n",
        "            5\n",
        "            ...\n",
        "            3"
      ]
    },
    {
      "cell_type": "code",
      "metadata": {
        "id": "cEBM-IPsWPuf"
      },
      "source": [
        "def de(n):\n",
        "    \n",
        "    #Votre code\n",
        "   \n",
        "    \n",
        "\n",
        "#Test fonction\n",
        "de(10)"
      ],
      "execution_count": null,
      "outputs": []
    },
    {
      "cell_type": "markdown",
      "metadata": {
        "id": "oACW_5BFWPug"
      },
      "source": [
        "3. Programmer une fonction *de5(n)* qui renvoie le nombre d'occurence de l'événement *5* pour un échantillon de taille *n*."
      ]
    },
    {
      "cell_type": "code",
      "metadata": {
        "id": "37T7TWTYWPuh"
      },
      "source": [
        "def de5(n):\n",
        "\n",
        "    #Votre code\n",
        "    \n",
        "\n",
        "#Test fonction\n",
        "de5(10000)"
      ],
      "execution_count": null,
      "outputs": []
    },
    {
      "cell_type": "markdown",
      "metadata": {
        "id": "Z7PsMjcHWPuh"
      },
      "source": [
        "4. Programmer une fonction *freq_de5(n)* qui renvoie la fréquence de l'événement *5* pour un échantillon de taille *n*."
      ]
    },
    {
      "cell_type": "code",
      "metadata": {
        "id": "YJ-qaKDgWPui"
      },
      "source": [
        "def freq_de5(n):\n",
        "\n",
        "    #Votre code\n",
        "    \n",
        "\n",
        "#Test fonction\n",
        "freq_de5(10000)"
      ],
      "execution_count": null,
      "outputs": []
    },
    {
      "cell_type": "markdown",
      "metadata": {
        "id": "e32L0O81auur"
      },
      "source": [
        "5. Lancer de 2 des simulatenement:\r\n",
        "Regles:\r\n",
        "\r\n",
        "- On lance 2 dés simultanement on observe leur somme\r\n",
        "- Si la somme vaut 7 le joueur 1 marque 1 point\r\n",
        "- Si la somme vaut 4 le joueur 2 marque 1 point \r\n",
        "- Au bout de 15 lancers le joueur qui à le plus de points gagne la partie\r\n",
        "\r\n",
        "Ecrire le programme de ce jeu :"
      ]
    },
    {
      "cell_type": "code",
      "metadata": {
        "id": "6HNL76bnatHu"
      },
      "source": [
        "#Jeu lancer de 2 dés\r\n",
        "def lancer_2_des():\r\n",
        "  joueur1=0\r\n",
        "  joueur2=0\r\n",
        "  #...\r\n",
        "  return"
      ],
      "execution_count": null,
      "outputs": []
    }
  ]
}