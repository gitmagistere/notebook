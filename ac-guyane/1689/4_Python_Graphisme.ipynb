{
  "nbformat": 4,
  "nbformat_minor": 0,
  "metadata": {
    "colab": {
      "name": "4-Python_Graphisme.ipynb",
      "provenance": [],
      "collapsed_sections": [
        "gryYJUefFDhh",
        "o7SqRfg9-WgA",
        "o-dKX4QMITVp"
      ]
    },
    "kernelspec": {
      "name": "python3",
      "display_name": "Python 3"
    }
  },
  "cells": [
    {
      "cell_type": "markdown",
      "metadata": {
        "id": "IIKHAo6sJbPp"
      },
      "source": [
        "# Creer des diagrammes\r\n",
        "\r\n"
      ]
    },
    {
      "cell_type": "markdown",
      "metadata": {
        "id": "WqgcgcJMJa8M"
      },
      "source": [
        "Il est possible de produire des figures et graphiques en python pour cela il faut utiliser les bibliothèques offrant les possibilités de productions graphiques. Un bibliothèque est un ensemble de fichiers contenant des fonctions.\r\n",
        "Pour réaliser des représenation graphiques il faut importer la bibliotheque **matplotlib** des le debut de votre programme.\r\n",
        "\r\n",
        "Pour importer une bibliotheque:\r\n",
        "```python \r\n",
        "from matplotlib import * # Permet d'imprter toutes les fonctions de la bibliotheque matplotlib\r\n",
        "```\r\n"
      ]
    },
    {
      "cell_type": "markdown",
      "metadata": {
        "id": "8NvQSueUIVC4"
      },
      "source": [
        ">### Diagramme en batons"
      ]
    },
    {
      "cell_type": "markdown",
      "metadata": {
        "id": "vodl6e62IVC7"
      },
      "source": [
        ">Fonctions **bar()** et **barh()** : ces fonctions permettent de tracer des diagrammes en batons:\r\n",
        "\r\n",
        "```python matplotlib.pyplot.bar(x,height, width=0.8, bottom=None, align='center', color=\"r\")```\r\n",
        "<table>\r\n",
        "<tr><th>Paramètres:</th></tr>\r\n",
        "<tr><td>x, height :</td><td>séquences ou nombres ;</tb></tr> \r\n",
        "<td>width :</td><td>largeurs des barres ; défaut = 0.8 ;</tb></tr>\r\n",
        "<td>bottom :</td><td>ordonnée de la base de la barre ; défaut = 0 ;</tb></tr>\r\n",
        "<td>align :</td><td>{‘center’, ‘edge’}*: alignement des barres ; défaut = ‘center’</tb></tr> \r\n",
        "</table>\r\n",
        "\r\n",
        "\r\n"
      ]
    },
    {
      "cell_type": "code",
      "metadata": {
        "id": "TjaKXfVuIVC9",
        "colab": {
          "base_uri": "https://localhost:8080/",
          "height": 238
        },
        "outputId": "e659e908-506a-4d89-f62c-659063d99999"
      },
      "source": [
        "import matplotlib.pyplot as plt\r\n",
        "import random as rand\r\n",
        "\r\n",
        "\r\n",
        "fig1=plt.figure(figsize=(3.5,3.5)) # création du gabarit de la figure\r\n",
        "axe1=fig1.add_subplot(1,1,1)       # création des axes\r\n",
        "\r\n",
        "X=[\"A\",\"B\",\"C\",\"D\"]                #Ligne x du tableau de valeur\r\n",
        "Y=[rand.randint(1,6) for i in range(4)] #Ligne Y d tableau de valeur, créer 4 entier aléatoire\r\n",
        "\r\n",
        "axe1.bar(X,Y,width=0.5, color=\"r\")\r\n",
        "fig1.show()\r\n",
        "\r\n",
        "#EXECUTER LE CODE POUR VOIR LE RESULTAT"
      ],
      "execution_count": 2,
      "outputs": [
        {
          "output_type": "display_data",
          "data": {
            "image/png": "[encoded data removed]",
            "text/plain": [
              "<Figure size 252x252 with 1 Axes>"
            ]
          },
          "metadata": {
            "tags": [],
            "needs_background": "light"
          }
        }
      ]
    },
    {
      "cell_type": "markdown",
      "metadata": {
        "id": "gryYJUefFDhh"
      },
      "source": [
        ">### Histogramme"
      ]
    },
    {
      "cell_type": "markdown",
      "metadata": {
        "id": "PxME1I9XFDhn"
      },
      "source": [
        ">Fonction **hist()** : permet de tracer des histrogrammes:\r\n",
        "\r\n",
        "```python matplotlib.pyplot.hist(x, bins=None, range=None, histtype='bar')```\r\n",
        "<table>\r\n",
        "<tr><th>Paramètres:</th></tr>\r\n",
        "<tr><td>x :</td><td>séquences valeurs ;</tb></tr> \r\n",
        "<td>bins :</td><td>nombre d'intervalles ; défaut = 10 ;</tb></tr>\r\n",
        "<td>range :</td><td>ordonnée de la base de la barre ; défaut = 0 ;</tb></tr>\r\n",
        "<td>histtype :</td><td>{'bar', 'barstacked', 'step', 'stepfilled'} , barre, barres superposées,…; défaut = bar</tb></tr> \r\n",
        "</table>\r\n",
        "\r\n",
        "\r\n"
      ]
    },
    {
      "cell_type": "code",
      "metadata": {
        "id": "MZSZmAOoFDhr"
      },
      "source": [
        "import matplotlib.pyplot as plt\r\n",
        "import random as rand\r\n",
        "\r\n",
        "fig1=plt.figure(figsize=(3.5,3.5)) # création du gabarit de la figure\r\n",
        "axe1=fig1.add_subplot(1,1,1)       # création des axes\r\n",
        "\r\n",
        "L_tailles=[169,179,181,168,172,171,189,170,165,183,171,169,177,180,176,161,174,164,184,169,172,187,170,172]\r\n",
        "\r\n",
        "axe1.hist(L_tailles,bins=[160,165,170,175,180,190],edgecolor=\"w\")\r\n",
        "\r\n",
        "fig1.show()\r\n",
        "\r\n",
        "#EXECUTER LE CODE POUR VOIR LE RESULTAT"
      ],
      "execution_count": null,
      "outputs": []
    },
    {
      "cell_type": "markdown",
      "metadata": {
        "id": "o7SqRfg9-WgA"
      },
      "source": [
        ">### Diagramme circulaire"
      ]
    },
    {
      "cell_type": "markdown",
      "metadata": {
        "id": "QMtuTWQ7AjTV"
      },
      "source": [
        ">Fonctions **pie()** : permet de tracer des diagrammes circulaires :\r\n",
        "\r\n",
        "```python matplotlib.pyplot.pie(x,labels=None, colors=None, autopct=None)```\r\n",
        "<table>\r\n",
        "<tr><th>Paramètres:</th></tr>\r\n",
        "<tr><td>x :</td><td>séquences de valeurs;</tb></tr> \r\n",
        "<td>explode :</td><td>ldécalages des secteurs en fraction de radian ; séquence de longueur len(x); défaut = None;</tb></tr>\r\n",
        "<td>labels :</td><td>liste (string), défaut = ‘None’) ;</tb></tr>\r\n",
        "<td>autopct :</td><td>affiche et formate les % ; string ou fonction (ex : ‘%.2f%’) ; défaut = ‘None’ ;</tb></tr> \r\n",
        "</table>\r\n",
        "\r\n",
        "\r\n"
      ]
    },
    {
      "cell_type": "code",
      "metadata": {
        "id": "W27qwfvvMLMK"
      },
      "source": [
        "import matplotlib.pyplot as plt\r\n",
        "import random as rand\r\n",
        "\r\n",
        "\r\n",
        "fig1=plt.figure(figsize=(3.5,3.5)) # création du gabarit de la figure\r\n",
        "axe1=fig1.add_subplot(1,1,1)       # création des axes\r\n",
        "\r\n",
        "#création des données\r\n",
        "valeur=[5,60,45,20]\r\n",
        "noms=[\"Apple\",\"SAMSUNG\",\"SONY\",\"HUAWEI\"]\r\n",
        "\r\n",
        "axe1.pie(valeur, labels=noms,                      \r\n",
        "         explode=[0,0,0,0],\r\n",
        "         autopct=lambda x:\"{}%\".format(round(x,2))) #fonction renvoyant le format des %\r\n",
        "fig1.show()\r\n",
        "\r\n",
        "#EXECUTER LE CODE POUR VOIR LE RESULTAT"
      ],
      "execution_count": null,
      "outputs": []
    },
    {
      "cell_type": "markdown",
      "metadata": {
        "id": "o-dKX4QMITVp"
      },
      "source": [
        ">### Boîte à moustache"
      ]
    },
    {
      "cell_type": "markdown",
      "metadata": {
        "id": "vW0LfxEjITVr"
      },
      "source": [
        ">Fonctions **boxplot** permet de tracer des boites à moustache:\r\n",
        "\r\n",
        "```python matplotlib.pyplot.boxplot(x, notch=None, sym=None, vert=None, whis=None, positions=None, widths=None, …)```\r\n",
        "<table>\r\n",
        "<tr><th>Paramètres:</th></tr>\r\n",
        "<tr><td>x :</td><td>séquences de valeurs ;</tb></tr> \r\n",
        "<td>notch :</td><td>encoche ; booléen ; défaut = False ;</tb></tr>\r\n",
        "<td>vert :</td><td>position verticale ; booléen ; défaut = True</tb></tr>\r\n",
        "<td>whis :</td><td>position des moustaches (float ou (float,float) ; défaut = 1.5 étend la position de la moustache jusqu’à 1.5 fois la distance interquartile )</tb></tr> \r\n",
        "</table>\r\n",
        "\r\n",
        "\r\n"
      ]
    },
    {
      "cell_type": "code",
      "metadata": {
        "colab": {
          "base_uri": "https://localhost:8080/",
          "height": 572
        },
        "id": "3Uex9w2bITVs",
        "outputId": "dbc98b6e-ed9e-4ee3-f953-4c10da218e5c"
      },
      "source": [
        "import matplotlib.pyplot as plt\r\n",
        "import random as rand\r\n",
        "\r\n",
        "\r\n",
        "fig1=plt.figure(figsize=(2,2.5)) # création du gabarit de la figure\r\n",
        "axe1=fig1.add_subplot(1,1,1)       # création des axes\r\n",
        "\r\n",
        "L1=(randint(0,101) for i in range(100)) #Génère une liste de 100 valeurs aléatoiure comprise entre 0 et 100\r\n",
        "L2=(randint(0,101) for i in range(100))\r\n",
        "L3=(randint(0,101) for i in range(100))\r\n",
        "axe1.boxplot([L1,L2,L3],\r\n",
        "             labels=[\"L1\",\"L2\",\"L3\"],\r\n",
        "             widths=[0.8,0.2,0.5],\r\n",
        "             positions=[1,2,3,4])\r\n",
        "\r\n",
        "fig1.show()\r\n",
        "\r\n",
        "#EXECUTER LE CODE POUR VOIR LE RESULTAT"
      ],
      "execution_count": null,
      "outputs": [
        {
          "output_type": "error",
          "ename": "ValueError",
          "evalue": "ignored",
          "traceback": [
            "\u001b[0;31m---------------------------------------------------------------------------\u001b[0m",
            "\u001b[0;31mValueError\u001b[0m                                Traceback (most recent call last)",
            "\u001b[0;32m<ipython-input-39-242a5bda8ba2>\u001b[0m in \u001b[0;36m<module>\u001b[0;34m()\u001b[0m\n\u001b[1;32m     12\u001b[0m              \u001b[0mlabels\u001b[0m\u001b[0;34m=\u001b[0m\u001b[0;34m[\u001b[0m\u001b[0;34m\"L1\"\u001b[0m\u001b[0;34m,\u001b[0m\u001b[0;34m\"L2\"\u001b[0m\u001b[0;34m,\u001b[0m\u001b[0;34m\"L3\"\u001b[0m\u001b[0;34m]\u001b[0m\u001b[0;34m,\u001b[0m\u001b[0;34m\u001b[0m\u001b[0;34m\u001b[0m\u001b[0m\n\u001b[1;32m     13\u001b[0m              \u001b[0mwidths\u001b[0m\u001b[0;34m=\u001b[0m\u001b[0;34m[\u001b[0m\u001b[0;36m0.8\u001b[0m\u001b[0;34m,\u001b[0m\u001b[0;36m0.2\u001b[0m\u001b[0;34m,\u001b[0m\u001b[0;36m0.5\u001b[0m\u001b[0;34m]\u001b[0m\u001b[0;34m,\u001b[0m\u001b[0;34m\u001b[0m\u001b[0;34m\u001b[0m\u001b[0m\n\u001b[0;32m---> 14\u001b[0;31m              positions=[1,2,3,4])\n\u001b[0m\u001b[1;32m     15\u001b[0m \u001b[0;34m\u001b[0m\u001b[0m\n\u001b[1;32m     16\u001b[0m \u001b[0mfig1\u001b[0m\u001b[0;34m.\u001b[0m\u001b[0mshow\u001b[0m\u001b[0;34m(\u001b[0m\u001b[0;34m)\u001b[0m\u001b[0;34m\u001b[0m\u001b[0;34m\u001b[0m\u001b[0m\n",
            "\u001b[0;32m/usr/local/lib/python3.6/dist-packages/matplotlib/cbook/deprecation.py\u001b[0m in \u001b[0;36mwrapper\u001b[0;34m(*args, **kwargs)\u001b[0m\n\u001b[1;32m    294\u001b[0m                 f\"for the old name will be dropped %(removal)s.\")\n\u001b[1;32m    295\u001b[0m             \u001b[0mkwargs\u001b[0m\u001b[0;34m[\u001b[0m\u001b[0mnew\u001b[0m\u001b[0;34m]\u001b[0m \u001b[0;34m=\u001b[0m \u001b[0mkwargs\u001b[0m\u001b[0;34m.\u001b[0m\u001b[0mpop\u001b[0m\u001b[0;34m(\u001b[0m\u001b[0mold\u001b[0m\u001b[0;34m)\u001b[0m\u001b[0;34m\u001b[0m\u001b[0;34m\u001b[0m\u001b[0m\n\u001b[0;32m--> 296\u001b[0;31m         \u001b[0;32mreturn\u001b[0m \u001b[0mfunc\u001b[0m\u001b[0;34m(\u001b[0m\u001b[0;34m*\u001b[0m\u001b[0margs\u001b[0m\u001b[0;34m,\u001b[0m \u001b[0;34m**\u001b[0m\u001b[0mkwargs\u001b[0m\u001b[0;34m)\u001b[0m\u001b[0;34m\u001b[0m\u001b[0;34m\u001b[0m\u001b[0m\n\u001b[0m\u001b[1;32m    297\u001b[0m \u001b[0;34m\u001b[0m\u001b[0m\n\u001b[1;32m    298\u001b[0m     \u001b[0;31m# wrapper() must keep the same documented signature as func(): if we\u001b[0m\u001b[0;34m\u001b[0m\u001b[0;34m\u001b[0m\u001b[0;34m\u001b[0m\u001b[0m\n",
            "\u001b[0;32m/usr/local/lib/python3.6/dist-packages/matplotlib/__init__.py\u001b[0m in \u001b[0;36minner\u001b[0;34m(ax, data, *args, **kwargs)\u001b[0m\n\u001b[1;32m   1563\u001b[0m     \u001b[0;32mdef\u001b[0m \u001b[0minner\u001b[0m\u001b[0;34m(\u001b[0m\u001b[0max\u001b[0m\u001b[0;34m,\u001b[0m \u001b[0;34m*\u001b[0m\u001b[0margs\u001b[0m\u001b[0;34m,\u001b[0m \u001b[0mdata\u001b[0m\u001b[0;34m=\u001b[0m\u001b[0;32mNone\u001b[0m\u001b[0;34m,\u001b[0m \u001b[0;34m**\u001b[0m\u001b[0mkwargs\u001b[0m\u001b[0;34m)\u001b[0m\u001b[0;34m:\u001b[0m\u001b[0;34m\u001b[0m\u001b[0;34m\u001b[0m\u001b[0m\n\u001b[1;32m   1564\u001b[0m         \u001b[0;32mif\u001b[0m \u001b[0mdata\u001b[0m \u001b[0;32mis\u001b[0m \u001b[0;32mNone\u001b[0m\u001b[0;34m:\u001b[0m\u001b[0;34m\u001b[0m\u001b[0;34m\u001b[0m\u001b[0m\n\u001b[0;32m-> 1565\u001b[0;31m             \u001b[0;32mreturn\u001b[0m \u001b[0mfunc\u001b[0m\u001b[0;34m(\u001b[0m\u001b[0max\u001b[0m\u001b[0;34m,\u001b[0m \u001b[0;34m*\u001b[0m\u001b[0mmap\u001b[0m\u001b[0;34m(\u001b[0m\u001b[0msanitize_sequence\u001b[0m\u001b[0;34m,\u001b[0m \u001b[0margs\u001b[0m\u001b[0;34m)\u001b[0m\u001b[0;34m,\u001b[0m \u001b[0;34m**\u001b[0m\u001b[0mkwargs\u001b[0m\u001b[0;34m)\u001b[0m\u001b[0;34m\u001b[0m\u001b[0;34m\u001b[0m\u001b[0m\n\u001b[0m\u001b[1;32m   1566\u001b[0m \u001b[0;34m\u001b[0m\u001b[0m\n\u001b[1;32m   1567\u001b[0m         \u001b[0mbound\u001b[0m \u001b[0;34m=\u001b[0m \u001b[0mnew_sig\u001b[0m\u001b[0;34m.\u001b[0m\u001b[0mbind\u001b[0m\u001b[0;34m(\u001b[0m\u001b[0max\u001b[0m\u001b[0;34m,\u001b[0m \u001b[0;34m*\u001b[0m\u001b[0margs\u001b[0m\u001b[0;34m,\u001b[0m \u001b[0;34m**\u001b[0m\u001b[0mkwargs\u001b[0m\u001b[0;34m)\u001b[0m\u001b[0;34m\u001b[0m\u001b[0;34m\u001b[0m\u001b[0m\n",
            "\u001b[0;32m/usr/local/lib/python3.6/dist-packages/matplotlib/axes/_axes.py\u001b[0m in \u001b[0;36mboxplot\u001b[0;34m(self, x, notch, sym, vert, whis, positions, widths, patch_artist, bootstrap, usermedians, conf_intervals, meanline, showmeans, showcaps, showbox, showfliers, boxprops, labels, flierprops, medianprops, meanprops, capprops, whiskerprops, manage_ticks, autorange, zorder)\u001b[0m\n\u001b[1;32m   3626\u001b[0m \u001b[0;34m\u001b[0m\u001b[0m\n\u001b[1;32m   3627\u001b[0m         bxpstats = cbook.boxplot_stats(x, whis=whis, bootstrap=bootstrap,\n\u001b[0;32m-> 3628\u001b[0;31m                                        labels=labels, autorange=autorange)\n\u001b[0m\u001b[1;32m   3629\u001b[0m         \u001b[0;32mif\u001b[0m \u001b[0mnotch\u001b[0m \u001b[0;32mis\u001b[0m \u001b[0;32mNone\u001b[0m\u001b[0;34m:\u001b[0m\u001b[0;34m\u001b[0m\u001b[0;34m\u001b[0m\u001b[0m\n\u001b[1;32m   3630\u001b[0m             \u001b[0mnotch\u001b[0m \u001b[0;34m=\u001b[0m \u001b[0mrcParams\u001b[0m\u001b[0;34m[\u001b[0m\u001b[0;34m'boxplot.notch'\u001b[0m\u001b[0;34m]\u001b[0m\u001b[0;34m\u001b[0m\u001b[0;34m\u001b[0m\u001b[0m\n",
            "\u001b[0;32m/usr/local/lib/python3.6/dist-packages/matplotlib/cbook/__init__.py\u001b[0m in \u001b[0;36mboxplot_stats\u001b[0;34m(X, whis, bootstrap, labels, autorange)\u001b[0m\n\u001b[1;32m   1169\u001b[0m         \u001b[0mlabels\u001b[0m \u001b[0;34m=\u001b[0m \u001b[0mitertools\u001b[0m\u001b[0;34m.\u001b[0m\u001b[0mrepeat\u001b[0m\u001b[0;34m(\u001b[0m\u001b[0;32mNone\u001b[0m\u001b[0;34m)\u001b[0m\u001b[0;34m\u001b[0m\u001b[0;34m\u001b[0m\u001b[0m\n\u001b[1;32m   1170\u001b[0m     \u001b[0;32melif\u001b[0m \u001b[0mlen\u001b[0m\u001b[0;34m(\u001b[0m\u001b[0mlabels\u001b[0m\u001b[0;34m)\u001b[0m \u001b[0;34m!=\u001b[0m \u001b[0mncols\u001b[0m\u001b[0;34m:\u001b[0m\u001b[0;34m\u001b[0m\u001b[0;34m\u001b[0m\u001b[0m\n\u001b[0;32m-> 1171\u001b[0;31m         \u001b[0;32mraise\u001b[0m \u001b[0mValueError\u001b[0m\u001b[0;34m(\u001b[0m\u001b[0;34m\"Dimensions of labels and X must be compatible\"\u001b[0m\u001b[0;34m)\u001b[0m\u001b[0;34m\u001b[0m\u001b[0;34m\u001b[0m\u001b[0m\n\u001b[0m\u001b[1;32m   1172\u001b[0m \u001b[0;34m\u001b[0m\u001b[0m\n\u001b[1;32m   1173\u001b[0m     \u001b[0minput_whis\u001b[0m \u001b[0;34m=\u001b[0m \u001b[0mwhis\u001b[0m\u001b[0;34m\u001b[0m\u001b[0;34m\u001b[0m\u001b[0m\n",
            "\u001b[0;31mValueError\u001b[0m: Dimensions of labels and X must be compatible"
          ]
        },
        {
          "output_type": "display_data",
          "data": {
            "image/png": "[encoded data removed]",
            "text/plain": [
              "<Figure size 144x180 with 1 Axes>"
            ]
          },
          "metadata": {
            "tags": [],
            "needs_background": "light"
          }
        }
      ]
    },
    {
      "cell_type": "markdown",
      "metadata": {
        "id": "hVayY4c1PdaD"
      },
      "source": [
        "# Exercices d'applications"
      ]
    },
    {
      "cell_type": "markdown",
      "metadata": {
        "id": "tjYk0U2Z6C4s"
      },
      "source": [
        "###1-Statistiques\r\n",
        "\r\n",
        "Réaliser le diagrammes en batons des données statistiques suivantes:\r\n",
        "\r\n",
        "\r\n",
        "\r\n",
        "![title](https://drive.google.com/uc?export=view&id=1VuxXUtgs6WWUUcBTirKbQegS7Z6nTXyg)"
      ]
    }
  ]
}