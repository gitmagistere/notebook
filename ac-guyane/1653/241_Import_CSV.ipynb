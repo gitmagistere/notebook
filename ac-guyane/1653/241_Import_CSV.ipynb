{
 "cells": [
  {
   "cell_type": "markdown",
   "metadata": {},
   "source": [
    "# Import des données d'un fichier CSV\n",
    "\n",
    "## Introduction\n",
    "\n",
    "Très utile pour traiter des données issues de l'extérieur (acquisition, internet, tableur...)\n",
    "\n",
    "Pour la préparation du fichier csv, on veillera au formatage (notamment pour le texte et les données numériques).\n",
    "Le plus simple est de formater en UTF8.\n",
    "On peut prendre la virgule comme caractère de séparation si les \"nombres à virgule\" sont au format américain, donc avec des points.\n",
    "\n",
    "Voici mon fichier issu d'un tableur pour la démonstration :\n",
    "\n",
    "![caption](https://physique-chimie.dis.ac-guyane.fr/sites/physique-chimie.dis.ac-guyane.fr/IMG/jpg/exemple.jpg)\n",
    "\n",
    "Puis exporté en csv avec les options suivantes (par défaut dans libreOffice Calc)\n",
    "\n",
    "![caption](https://physique-chimie.dis.ac-guyane.fr/sites/physique-chimie.dis.ac-guyane.fr/IMG/jpg/exemple2.jpg)\n",
    "\n",
    "On obtient alors un fichier csv contenant :\n",
    "\n",
    "```\n",
    "1,10\n",
    "2,15\n",
    "3,35\n",
    "4,70\n",
    "5,150\n",
    "```\n",
    "\n",
    "## Importer le fichier dans python\n",
    "\n",
    "Pour lire un fichier csv, il faut un module complément nommé... csv\n",
    "```python\n",
    "import csv\n",
    "```\n",
    "\n",
    "Ensuite, trois étapes importantes dans le fonctionnement de ce module :\n",
    "\n",
    "1. Ouverture du fichier\n",
    "2. Création d'un lecteur\n",
    "3. Extraction des données\n",
    "\n",
    "```python\n",
    "import csv #Importation du module\n",
    "source = open('extrait.csv','r') #On ouvre le fichier \"extrait.csv\" contenu dans le même dossier que le fichier python, en lecture 'read'. Le tout est enregistré dans une variable nommé \"source\".\n",
    "lecteur = csv.reader(source,delimiter=\",\") #On créer un lecteur de csv. On précise le délimiteur utilisé\n",
    "x,y = [],[] #On créer 2 listes vides pour accueillir les données\n",
    "for rows in lecteur: #On parcourt le lecteur (\"Pour chaque ligne du fichier...\")\n",
    "    print(rows) #affiche la ligne\n",
    "    x.append(rows[0]) #stocke la première valeur dans la liste x\n",
    "    y.append(rows[1]) #stocke la 2nd valeur dans la liste y\n",
    "```\n",
    "\n",
    "> Attention, le chemin pour le fichier csv doit être connu. Le plus simple est de placer le fichier python et le fichier csv dans le même dossier. Sinon, il faut utiliser les chemins relatifs. Par exemple avec l'arborescence :\n",
    "/monscript.py\n",
    "/donnee/extrait.csv\n",
    "On utiler le chemin : source = open('donnee/extrait.csv','r')\n",
    "Autre remarque importante : Ne nommez pas votre fichier python \"csv.py\", sinon lorsque vous appellerez le module csv il y aura des confusions"
   ]
  },
  {
   "cell_type": "code",
   "execution_count": null,
   "metadata": {},
   "outputs": [],
   "source": []
  }
 ],
 "metadata": {
  "kernelspec": {
   "display_name": "Python 3",
   "language": "python",
   "name": "python3"
  },
  "language_info": {
   "codemirror_mode": {
    "name": "ipython",
    "version": 3
   },
   "file_extension": ".py",
   "mimetype": "text/x-python",
   "name": "python",
   "nbconvert_exporter": "python",
   "pygments_lexer": "ipython3",
   "version": "3.7.6"
  }
 },
 "nbformat": 4,
 "nbformat_minor": 4
}
