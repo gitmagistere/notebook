{
 "cells": [
  {
   "cell_type": "markdown",
   "metadata": {},
   "source": [
    "# Regression linéaire\n",
    "\n",
    "Prenons un exemple : j'ai généré des données aléatoires, et tracé un graphique :"
   ]
  },
  {
   "cell_type": "code",
   "execution_count": 9,
   "metadata": {},
   "outputs": [
    {
     "name": "stdout",
     "output_type": "stream",
     "text": [
      "Requirement already satisfied: matplotlib in c:\\edupython\\app\\lib\\site-packages (3.1.3)\n",
      "Requirement already satisfied: numpy in c:\\edupython\\app\\lib\\site-packages (1.18.3)\n",
      "Requirement already satisfied: kiwisolver>=1.0.1 in c:\\edupython\\app\\lib\\site-packages (from matplotlib) (1.1.0)\n",
      "Requirement already satisfied: pyparsing!=2.0.4,!=2.1.2,!=2.1.6,>=2.0.1 in c:\\edupython\\app\\lib\\site-packages (from matplotlib) (2.4.6)\n",
      "Requirement already satisfied: python-dateutil>=2.1 in c:\\edupython\\app\\lib\\site-packages (from matplotlib) (2.8.1)\n",
      "Requirement already satisfied: cycler>=0.10 in c:\\edupython\\app\\lib\\site-packages (from matplotlib) (0.10.0)\n",
      "Requirement already satisfied: setuptools in c:\\edupython\\app\\lib\\site-packages (from kiwisolver>=1.0.1->matplotlib) (45.2.0.post20200210)\n",
      "Requirement already satisfied: six>=1.5 in c:\\edupython\\app\\lib\\site-packages (from python-dateutil>=2.1->matplotlib) (1.14.0)\n"
     ]
    },
    {
     "data": {
      "image/png": "[encoded data removed]",
      "text/plain": [
       "<Figure size 432x288 with 1 Axes>"
      ]
     },
     "metadata": {
      "needs_background": "light"
     },
     "output_type": "display_data"
    }
   ],
   "source": [
    "import sys\n",
    "# nécessaire pour le notebook, à commenter sinon\n",
    "!{sys.executable} -m pip install matplotlib numpy \n",
    "import numpy as np\n",
    "import matplotlib.pyplot as plt\n",
    "\n",
    "x = np.array([1,4,8,12,19])\n",
    "y = np.array([0.54,0.87,0.99,1.20,1.89])\n",
    "\n",
    "plt.plot(x,y,'o')\n",
    "plt.show()"
   ]
  },
  {
   "cell_type": "markdown",
   "metadata": {},
   "source": [
    "L'idée est de réussir à tracer une régression linéaire, et obtenir l'équation de la droite.\n",
    "\n",
    "Pour obtenir une régression linéaire à partir de données, et obtenir l'équation de la droite, on utilise un nouveau module : **`scipy.stats`**. C'est à dire le module \"stats\" contenu dans la librairie `scipy`. Et dans ce module, c'est la fonction `linregress` qui nous interesse.\n",
    "\n",
    "On peut donc au choix importer la fonction seulement :\n",
    "\n",
    "```python\n",
    "from scipy.stats import linregress\n",
    "#La fonction sera maintenant disponible directement, exemple d'appel :\n",
    ">>>linregress(...)\n",
    "```\n",
    "\n",
    "## Linregress\n",
    "\n",
    "Lorsqu'on trouve qu'une fonction ou un module répond à notre problème, il est conseillé de commencer par lire la doc. (Ce qui se traduit souvent dans la culture informatique par la réponse \"RTFM\" (***Read the f*cking manual***) à une question posée...\n",
    "\n",
    "> Lien vers la doc de Linregress : https://docs.scipy.org/doc/scipy/reference/generated/scipy.stats.linregress.html\n",
    "\n",
    "Autre approche : Regarder un exemple pour comprendre le fonctionnement, et ensuite lire la doc si besoin."
   ]
  },
  {
   "cell_type": "code",
   "execution_count": 10,
   "metadata": {},
   "outputs": [
    {
     "name": "stdout",
     "output_type": "stream",
     "text": [
      "Requirement already satisfied: matplotlib in c:\\edupython\\app\\lib\\site-packages (3.1.3)\n",
      "Requirement already satisfied: numpy in c:\\edupython\\app\\lib\\site-packages (1.18.3)\n",
      "Requirement already satisfied: scipy in c:\\edupython\\app\\lib\\site-packages (1.4.1)\n",
      "Requirement already satisfied: pyparsing!=2.0.4,!=2.1.2,!=2.1.6,>=2.0.1 in c:\\edupython\\app\\lib\\site-packages (from matplotlib) (2.4.6)\n",
      "Requirement already satisfied: cycler>=0.10 in c:\\edupython\\app\\lib\\site-packages (from matplotlib) (0.10.0)\n",
      "Requirement already satisfied: python-dateutil>=2.1 in c:\\edupython\\app\\lib\\site-packages (from matplotlib) (2.8.1)\n",
      "Requirement already satisfied: kiwisolver>=1.0.1 in c:\\edupython\\app\\lib\\site-packages (from matplotlib) (1.1.0)\n",
      "Requirement already satisfied: six in c:\\edupython\\app\\lib\\site-packages (from cycler>=0.10->matplotlib) (1.14.0)\n",
      "Requirement already satisfied: setuptools in c:\\edupython\\app\\lib\\site-packages (from kiwisolver>=1.0.1->matplotlib) (45.2.0.post20200210)\n"
     ]
    }
   ],
   "source": [
    "#Import des modules\n",
    "import sys\n",
    "!{sys.executable} -m pip install matplotlib numpy scipy\n",
    "import numpy as np\n",
    "import matplotlib.pyplot as plt\n",
    "from scipy.stats import linregress\n",
    "\n",
    "#Données x et y\n",
    "x = np.array([1,4,8,12,19])\n",
    "y = np.array([0.54,0.87,0.99,1.20,1.89])\n",
    "\n",
    "#On stocke le résultats de fonction regression linéaire dans un fichier reg\n",
    "reg = linregress(x,y)"
   ]
  },
  {
   "cell_type": "markdown",
   "metadata": {},
   "source": [
    "Regardons maintenant le contenu de cette variable `reg` :"
   ]
  },
  {
   "cell_type": "code",
   "execution_count": 11,
   "metadata": {},
   "outputs": [
    {
     "data": {
      "text/plain": [
       "LinregressResult(slope=0.0701106639839034, intercept=0.4810261569416501, rvalue=0.9823271641321523, pvalue=0.002812798260410732, stderr=0.007712729271197591)"
      ]
     },
     "execution_count": 11,
     "metadata": {},
     "output_type": "execute_result"
    }
   ],
   "source": [
    "reg"
   ]
  },
  {
   "cell_type": "markdown",
   "metadata": {},
   "source": [
    "Cette variable contient :\n",
    "- slope : la pente (coefficient directeur)\n",
    "- intercept : la valeur à l'origine\n",
    "- rvalue : coefficient de corrélation (le plus proche de 1 est le mieux)\n",
    "\n",
    "On peut donc facilement tracer la regression linéaire :\n",
    "$ y = a \\times x + b  $ qui ici correspond à $ y = slope \\times x + intercept $\n",
    "\n",
    "On récupère le coefficient directeur \"a\" par la première valeur, soit `reg[0]` ; et l'ordonnée à l'origine par `reg[1]`\n",
    "\n",
    "On peut maintenant tracer la droite : "
   ]
  },
  {
   "cell_type": "code",
   "execution_count": 12,
   "metadata": {},
   "outputs": [
    {
     "data": {
      "image/png": "[encoded data removed]",
      "text/plain": [
       "<Figure size 432x288 with 1 Axes>"
      ]
     },
     "metadata": {
      "needs_background": "light"
     },
     "output_type": "display_data"
    }
   ],
   "source": [
    "#données\n",
    "x = np.array([1,4,8,12,19])\n",
    "y = np.array([0.54,0.87,0.99,1.20,1.89])\n",
    "\n",
    "#regression lineaire\n",
    "reg = linregress(x,y)\n",
    "coef = reg[0] #coef de la droite\n",
    "ordonnee = reg[1] #ordonnée à l'origine\n",
    "\n",
    "#tracé\n",
    "X = np.array([min(x),max(x)]) #Pour tracer une droite, 2 points sont suffisants\n",
    "plt.plot(x,y,'or') #les points de mesure\n",
    "plt.plot(X,coef*X+ordonnee,'b') #numpy permet de calculer directement les valeurs en ordonnée.\n",
    "plt.show()  #On affiche"
   ]
  },
  {
   "cell_type": "markdown",
   "metadata": {},
   "source": [
    "## Afficher l'équation de la droite\n",
    "\n",
    "Tracer la regression linéaire, c'est bien, mais souvent, l'un des objectifs est de trouver l'équation de la droite.\n",
    "On va donc afficher le \"slope\", ici reg[0], et l'ordonnée à l'origine \"intercept\", ici reg[1]\n",
    "Ca peut être affiché en console. \n",
    "\n",
    "Voici un exemple qui l'affiche à coté de la droite.\n",
    "Le graphique a été enrichi de décorations et peut vous servir de \"mémo\"."
   ]
  },
  {
   "cell_type": "code",
   "execution_count": 13,
   "metadata": {},
   "outputs": [
    {
     "data": {
      "image/png": "[encoded data removed]",
      "text/plain": [
       "<Figure size 432x288 with 1 Axes>"
      ]
     },
     "metadata": {
      "needs_background": "light"
     },
     "output_type": "display_data"
    }
   ],
   "source": [
    "plt.plot(x,y,'or',label='données mesurées')\n",
    "plt.plot(X,coef*X+ordonnee,'b',label='regression linéaire')\n",
    "plt.title('Données brutes aléatoires et sa regression linéaire')\n",
    "plt.text(0.5,0.5,\"Equation de la regression linéaire : y=\"+str(round(coef,3))+\"x+\"+str(round(ordonnee,3)),bbox=dict(facecolor='red', alpha=0.5)) #Affiche le texte en position 0,5;0,5\n",
    "plt.legend()\n",
    "plt.grid()\n",
    "plt.show()"
   ]
  },
  {
   "cell_type": "markdown",
   "metadata": {},
   "source": [
    "***Yes ! Encore une opération rondement menée !***"
   ]
  }
 ],
 "metadata": {
  "kernelspec": {
   "display_name": "Python 3",
   "language": "python",
   "name": "python3"
  },
  "language_info": {
   "codemirror_mode": {
    "name": "ipython",
    "version": 3
   },
   "file_extension": ".py",
   "mimetype": "text/x-python",
   "name": "python",
   "nbconvert_exporter": "python",
   "pygments_lexer": "ipython3",
   "version": "3.7.6"
  }
 },
 "nbformat": 4,
 "nbformat_minor": 4
}
