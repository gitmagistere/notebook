{
 "cells": [
  {
   "cell_type": "code",
   "execution_count": 1,
   "metadata": {},
   "outputs": [
    {
     "name": "stdout",
     "output_type": "stream",
     "text": [
      "Requirement already satisfied: matplotlib in c:\\edupython\\app\\lib\\site-packages (3.1.3)\n",
      "Requirement already satisfied: numpy in c:\\edupython\\app\\lib\\site-packages (1.18.3)\n",
      "Requirement already satisfied: python-dateutil>=2.1 in c:\\edupython\\app\\lib\\site-packages (from matplotlib) (2.8.1)\n",
      "Requirement already satisfied: pyparsing!=2.0.4,!=2.1.2,!=2.1.6,>=2.0.1 in c:\\edupython\\app\\lib\\site-packages (from matplotlib) (2.4.6)\n",
      "Requirement already satisfied: cycler>=0.10 in c:\\edupython\\app\\lib\\site-packages (from matplotlib) (0.10.0)\n",
      "Requirement already satisfied: kiwisolver>=1.0.1 in c:\\edupython\\app\\lib\\site-packages (from matplotlib) (1.1.0)\n",
      "Requirement already satisfied: six>=1.5 in c:\\edupython\\app\\lib\\site-packages (from python-dateutil>=2.1->matplotlib) (1.14.0)\n",
      "Requirement already satisfied: setuptools in c:\\edupython\\app\\lib\\site-packages (from kiwisolver>=1.0.1->matplotlib) (45.2.0.post20200210)\n"
     ]
    }
   ],
   "source": [
    "#Importe les modules dans le notebook ; inutile sur edupython\n",
    "import sys\n",
    "# nécessaire pour le notebook, à commenter sinon\n",
    "!{sys.executable} -m pip install matplotlib numpy "
   ]
  },
  {
   "cell_type": "markdown",
   "metadata": {},
   "source": [
    "# Exercice 1 : Modèle équivalent d'un générateur\n",
    "\n",
    "Cet exercice est tiré du site culturesciencesphysique de l'ENS : http://culturesciencesphysique.ens-lyon.fr/ressource/source-tension-python.xml#representation\n",
    "\n",
    "![caption](https://physique-chimie.dis.ac-guyane.fr/sites/physique-chimie.dis.ac-guyane.fr/IMG/png/schema-u_i.png)\n",
    "\n",
    "On cherche ici à trouver Eg et rg à partir des mesures.\n",
    "\n",
    "Pour les non-physiciens : Un générateur de tension (une pile par exemple) n'est pas parfait. Il dispose d'une résistance interne qui fait baisser la tension lorsque l'intensité du courant qu'il débite augmente. On peut donc l'assimilier à un générateur de tension parfait suivi d'une résistance (le cadre sur le schéma). \n",
    "\n",
    "On trouvera alors $ U =  Eg - r_g \\times i $\n",
    "\n",
    "La manipulation en physique est simple : On fait varier $ R $ par un rhéostat (résistance variable), ce qui va faire varier $ i $ ; et on mesure $ U $.\n",
    "\n",
    "Voici les mesures obtenues :\n",
    "\n",
    "```python\n",
    "U_V = [2.38, 2.33, 2.26, 2.21, 2.17, 2.13, 2.09, 2.01, 1.87, 1.62, 1.52, 1.44, 1.37, 1.28, 1.23, 1.18]\n",
    "I_mA = [0, 0.05, 0.16, 0.25, 0.32, 0.37, 0.46, 0.56, 0.79, 1.2, 1.42, 1.49, 1.6, 1.73, 1.82, 1.89 ]\n",
    "```\n",
    "\n",
    "**A partir des données :**\n",
    "- Utiliser numpy pour les convertir en tableaux, convertir l'intensité en A : *10**(-3)\n",
    "- Tracer U en fonction de I \n",
    "- Établir la regression linéaire et la tracer\n",
    "- Déterminer la valeur de la résistance interne (rg) et la tension à vide."
   ]
  }
 ],
 "metadata": {
  "kernelspec": {
   "display_name": "Python 3",
   "language": "python",
   "name": "python3"
  },
  "language_info": {
   "codemirror_mode": {
    "name": "ipython",
    "version": 3
   },
   "file_extension": ".py",
   "mimetype": "text/x-python",
   "name": "python",
   "nbconvert_exporter": "python",
   "pygments_lexer": "ipython3",
   "version": "3.7.6"
  }
 },
 "nbformat": 4,
 "nbformat_minor": 4
}
