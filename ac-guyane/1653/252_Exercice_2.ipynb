{
 "cells": [
  {
   "cell_type": "code",
   "execution_count": 1,
   "metadata": {},
   "outputs": [
    {
     "name": "stdout",
     "output_type": "stream",
     "text": [
      "Requirement already satisfied: matplotlib in c:\\edupython\\app\\lib\\site-packages (3.1.3)\n",
      "Requirement already satisfied: numpy in c:\\edupython\\app\\lib\\site-packages (1.18.3)\n",
      "Requirement already satisfied: pyparsing!=2.0.4,!=2.1.2,!=2.1.6,>=2.0.1 in c:\\edupython\\app\\lib\\site-packages (from matplotlib) (2.4.6)\n",
      "Requirement already satisfied: python-dateutil>=2.1 in c:\\edupython\\app\\lib\\site-packages (from matplotlib) (2.8.1)\n",
      "Requirement already satisfied: cycler>=0.10 in c:\\edupython\\app\\lib\\site-packages (from matplotlib) (0.10.0)\n",
      "Requirement already satisfied: kiwisolver>=1.0.1 in c:\\edupython\\app\\lib\\site-packages (from matplotlib) (1.1.0)\n",
      "Requirement already satisfied: six>=1.5 in c:\\edupython\\app\\lib\\site-packages (from python-dateutil>=2.1->matplotlib) (1.14.0)\n",
      "Requirement already satisfied: setuptools in c:\\edupython\\app\\lib\\site-packages (from kiwisolver>=1.0.1->matplotlib) (45.2.0.post20200210)\n"
     ]
    }
   ],
   "source": [
    "#Importe les modules dans le notebook ; inutile sur edupython\n",
    "import sys\n",
    "# nécessaire pour le notebook, à commenter sinon\n",
    "!{sys.executable} -m pip install matplotlib numpy "
   ]
  },
  {
   "cell_type": "markdown",
   "metadata": {},
   "source": [
    "# Exercice 2 : Tracé de l'évolution des quantités de matières\n",
    "\n",
    "On utilise le sujet extrait des sujets zéro des E3C\n",
    "![caption](https://physique-chimie.dis.ac-guyane.fr/sites/physique-chimie.dis.ac-guyane.fr/IMG/png/extraite3c.png)\n",
    "\n",
    "A partir du sujet, réussir à obtenir les droites représentant l'évolution des espèces chimiques.\n",
    "On peut utiliser le calculateur proposé dans le sujet, stocker les valeurs dans une liste et tracer le graphique ensuite (comme ce qui a été fait l'exercice chute d'une balle) ou utiliser numpy pour les calculer à partir de l'équation de chaque espèce.\n",
    "\n",
    "```python\n",
    "ni_MnO4 = 2.0\n",
    "ni_Ferreux = 10.0\n",
    "ni_Ferrique = 0\n",
    "ni_Mn2 = 0\n",
    "```\n",
    "\n",
    "Pour les non-chimistes : La réaction est la suivante : \n",
    "$$ {MnO_4}^- + 5 H^+ + 5Fe^{2+} \\to 5 Fe^{3+} + Mn^{2+} + 4H_2O $$\n",
    "\n",
    "Ce qui nous amène pour les ions concernés :\n",
    "$$\n",
    "n(MnO_4^-) =n({MnO_4^-}_i) - x \\\\\n",
    "n(Fe^{2+}) = n({Fe^{2+}}_i) - 5x \\\\\n",
    "n(Fe^{3+}) = n({Fe^{3+}}_i) + 5x \\\\\n",
    "n(Mn^{2+}) = n({Mn^{2+}}_i) + x\n",
    "$$\n",
    "\n",
    "`n` est la quantité de matière, et `x` l'avancement (xmax = 2).\n",
    "\n",
    "Vous devez obtenir un graphique du genre :\n",
    "\n",
    "![caption](https://physique-chimie.dis.ac-guyane.fr/sites/physique-chimie.dis.ac-guyane.fr/IMG/png/qtitematiere.png)"
   ]
  },
  {
   "cell_type": "code",
   "execution_count": null,
   "metadata": {},
   "outputs": [],
   "source": []
  }
 ],
 "metadata": {
  "kernelspec": {
   "display_name": "Python 3",
   "language": "python",
   "name": "python3"
  },
  "language_info": {
   "codemirror_mode": {
    "name": "ipython",
    "version": 3
   },
   "file_extension": ".py",
   "mimetype": "text/x-python",
   "name": "python",
   "nbconvert_exporter": "python",
   "pygments_lexer": "ipython3",
   "version": "3.7.6"
  }
 },
 "nbformat": 4,
 "nbformat_minor": 4
}
