{
 "cells": [
  {
   "cell_type": "markdown",
   "metadata": {},
   "source": [
    "# Histogramme\n",
    "\n",
    "Les histogrammes permettent de représenter des séries de mesures. Elles se font avec `matplotlib` et la fonction `hist`.\n",
    "\n",
    "> Documentation officielle : https://matplotlib.org/3.1.0/api/_as_gen/matplotlib.pyplot.hist.html"
   ]
  },
  {
   "cell_type": "code",
   "execution_count": 1,
   "metadata": {},
   "outputs": [
    {
     "name": "stdout",
     "output_type": "stream",
     "text": [
      "Requirement already satisfied: matplotlib in c:\\edupython\\app\\lib\\site-packages (3.1.3)\n",
      "Requirement already satisfied: numpy in c:\\edupython\\app\\lib\\site-packages (1.18.3)\n",
      "Requirement already satisfied: python-dateutil>=2.1 in c:\\edupython\\app\\lib\\site-packages (from matplotlib) (2.8.1)\n",
      "Requirement already satisfied: pyparsing!=2.0.4,!=2.1.2,!=2.1.6,>=2.0.1 in c:\\edupython\\app\\lib\\site-packages (from matplotlib) (2.4.6)\n",
      "Requirement already satisfied: kiwisolver>=1.0.1 in c:\\edupython\\app\\lib\\site-packages (from matplotlib) (1.1.0)\n",
      "Requirement already satisfied: cycler>=0.10 in c:\\edupython\\app\\lib\\site-packages (from matplotlib) (0.10.0)\n",
      "Requirement already satisfied: six>=1.5 in c:\\edupython\\app\\lib\\site-packages (from python-dateutil>=2.1->matplotlib) (1.14.0)\n",
      "Requirement already satisfied: setuptools in c:\\edupython\\app\\lib\\site-packages (from kiwisolver>=1.0.1->matplotlib) (45.2.0.post20200210)\n"
     ]
    },
    {
     "data": {
      "image/png": "[encoded data removed]",
      "text/plain": [
       "<Figure size 432x288 with 1 Axes>"
      ]
     },
     "metadata": {
      "needs_background": "light"
     },
     "output_type": "display_data"
    }
   ],
   "source": [
    "import sys\n",
    "# nécessaire pour le notebook, à commenter sinon\n",
    "!{sys.executable} -m pip install matplotlib numpy \n",
    "import matplotlib.pyplot as plt\n",
    "\n",
    "données = [0,1,5,4,2,1,3,4,8,1,3,2,5,4,8,1,3,3,1,4,1,0,1]\n",
    "\n",
    "plt.hist(données) #On configure l'histogramme, ici le minimum de configuration : les données\n",
    "plt.title(\"titre du graphique\") #Titre\n",
    "plt.show() #on affiche"
   ]
  },
  {
   "cell_type": "markdown",
   "metadata": {},
   "source": [
    "On peut configurer le graphique bien entendu, quelques options utiles :\n",
    "\n",
    "> Options de plt.hist\n",
    "- culumative=True : Pour afficher le cumul de chaque valeur\n",
    "- normed=1 : Pour afficher des valeurs normées\n",
    "- range = (0, 5) : Pour afficher seulement les valeurs entre 0 et 5\n",
    "- color='green',edgecolor = '#f0f0f0' : Pour changer les couleurs (respectivement le fond et les bordures)\n",
    "- orientation = 'horizontal' : Pour obtenir un histogramme horizontal\n",
    "- un entier : (exemple \"5\") : Défini la taille largeur des barres. La largeur correspond au nombre de barres divisé par ce nombre. Par défaut c'est égal. (exemples 8 barres divisé en 8). Pour réduire la taille vous devez donc augmenter ce nombre (8 barres divisés en 16 par exemple, donc indiquer 16). Cela va aussi permettre de compter ensemble des valeurs. Par exemple si vous avez des données entre 0 et 100 et que vous indiquez 5, ça regroupera ensemble les valeurs entre 0 et 20 ; entre 20 et 40...\n",
    "\n",
    "Toutes les autres options (label, légendes, ...) fonctionnent également !"
   ]
  }
 ],
 "metadata": {
  "kernelspec": {
   "display_name": "Python 3",
   "language": "python",
   "name": "python3"
  },
  "language_info": {
   "codemirror_mode": {
    "name": "ipython",
    "version": 3
   },
   "file_extension": ".py",
   "mimetype": "text/x-python",
   "name": "python",
   "nbconvert_exporter": "python",
   "pygments_lexer": "ipython3",
   "version": "3.7.6"
  }
 },
 "nbformat": 4,
 "nbformat_minor": 4
}
