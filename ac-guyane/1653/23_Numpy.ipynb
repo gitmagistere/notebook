{
 "cells": [
  {
   "cell_type": "markdown",
   "metadata": {},
   "source": [
    "# Aller plus loin avec numpy\n",
    "\n",
    "## Introduction\n",
    "\n",
    "Matplotlib nous permet donc de tracer facilement des graphiques à partir des données en liste. A partir de mesures, c'est donc facile.\n",
    "\n",
    "Mais pour d'autres usages, par exemple si on souhaite tracer une courbe à partir d'une équation, l'opération se complique (il faudrait calculer toutes les valeurs via une boucle notamment, comme ce qui a été fait pour la chute théorique d'une balle).\n",
    "\n",
    "Pour répondre à ce besoin, on utilise la bibliothèque numpy.\n",
    "Pour faire simple : numpy génère des tableaux (similaire à des listes) automatiquement à partir de la relation mathématique, et des paramètres, et fonctionne parfaitement avec matplotlib.\n",
    "Au fil du temps, les deux modules sont devenus très liés, on trouve donc des exemples où numpy est utilisé sans qu'il soit indispensable, juste car c'est devenu une habitude.\n",
    "\n",
    "> Comme matplotlib, on utilise un alias pour numpy. Traditionnellement c'est \"np\" qui est utilisé.\n",
    "```python\n",
    "import numpy as np\n",
    "```\n",
    "\n",
    "## Tableaux numpy\n",
    "\n",
    "Numpy utilise des tableaux (array). A la différence des listes, chaque donnée est du même type.\n",
    "On défini un tableau ainsi :\n",
    "\n",
    "```python\n",
    "np.array([1,2,3]) # créer un tableau à partir de la liste\n",
    "```\n",
    "\n",
    "\n",
    "## Quelques commandes utiles\n",
    "\n",
    "### arange()\n",
    "\n",
    "```python\n",
    "np.arange(start,stop,step)\n",
    "```\n",
    "> Génère un tableau de \"start\" à \"stop\" avec un pas donné. (similaire à range pour les listes).\n",
    "\n",
    "Exemple :\n",
    "```python\n",
    ">>> np.arange(0,10,4)\n",
    "array([0, 4, 8])\n",
    "```\n",
    "\n",
    "### linspace()\n",
    "\n",
    "```python\n",
    "np.linspace(start,stop,nb)\n",
    "```\n",
    "> Génère un tableau de start à stop avec nb valeurs. Le pas est calculé automatiquement.\n",
    "\n",
    "Exemple :\n",
    "```python\n",
    ">>> np.linspace(0,10,4)\n",
    "array([ 0.,3.33333333,6.66666667, 10.])\n",
    "```\n",
    "\n",
    "> Par défaut les valeurs sont des float. On peut préciser le type en spécifiant une option dtype = ...\n",
    "```python\n",
    ">>> np.linspace(0,10,4,dtype=int)\n",
    "array([ 0,  3,  6, 10])\n",
    "```\n",
    "\n",
    "## Concrètement, quelle utilité ?\n",
    "\n",
    "Numpy permet de calculer plus facilement des valeurs à partir d'un tableau de donnée.\n",
    "\n",
    "Pour cet exemple, on va tracer rapidement la courbe $ f : x \\to e^x $ sur l'intervalle  $ [-5;5] $ :\n"
   ]
  },
  {
   "cell_type": "code",
   "execution_count": 1,
   "metadata": {},
   "outputs": [
    {
     "name": "stdout",
     "output_type": "stream",
     "text": [
      "Requirement already satisfied: matplotlib in c:\\edupython\\app\\lib\\site-packages (3.1.3)\n",
      "Requirement already satisfied: pyparsing!=2.0.4,!=2.1.2,!=2.1.6,>=2.0.1 in c:\\edupython\\app\\lib\\site-packages (from matplotlib) (2.4.6)\n",
      "Requirement already satisfied: cycler>=0.10 in c:\\edupython\\app\\lib\\site-packages (from matplotlib) (0.10.0)\n",
      "Requirement already satisfied: kiwisolver>=1.0.1 in c:\\edupython\\app\\lib\\site-packages (from matplotlib) (1.1.0)\n",
      "Requirement already satisfied: python-dateutil>=2.1 in c:\\edupython\\app\\lib\\site-packages (from matplotlib) (2.8.1)\n",
      "Requirement already satisfied: numpy>=1.11 in c:\\edupython\\app\\lib\\site-packages (from matplotlib) (1.18.3)\n",
      "Requirement already satisfied: six in c:\\edupython\\app\\lib\\site-packages (from cycler>=0.10->matplotlib) (1.14.0)\n",
      "Requirement already satisfied: setuptools in c:\\edupython\\app\\lib\\site-packages (from kiwisolver>=1.0.1->matplotlib) (45.2.0.post20200210)\n"
     ]
    },
    {
     "data": {
      "image/png": "[encoded data removed]",
      "text/plain": [
       "<Figure size 432x288 with 1 Axes>"
      ]
     },
     "metadata": {
      "needs_background": "light"
     },
     "output_type": "display_data"
    }
   ],
   "source": [
    "import sys\n",
    "!{sys.executable} -m pip install matplotlib\n",
    "\n",
    "import matplotlib.pyplot as plt\n",
    "import numpy as np\n",
    "\n",
    "x = np.linspace(-5,5,100) #On défini l'intervalle [-5;5] et le nombre de points (100)\n",
    "plt.plot(x,np.exp(x)) #On configure les données. La Numpy va appliquer la fonction à tout le tableau des x.\n",
    "plt.show() #on affiche"
   ]
  },
  {
   "cell_type": "markdown",
   "metadata": {},
   "source": [
    "Et **voilà !**\n",
    "\n",
    "Exemple 2 : Si on souhaite représenter l'évolution de l'énergie cinétique d'un objet de masse m = 80kg, de vitesse comprise entre 0 et 20m/s, on fera : "
   ]
  },
  {
   "cell_type": "code",
   "execution_count": 2,
   "metadata": {},
   "outputs": [
    {
     "data": {
      "image/png": "[encoded data removed]",
      "text/plain": [
       "<Figure size 432x288 with 1 Axes>"
      ]
     },
     "metadata": {
      "needs_background": "light"
     },
     "output_type": "display_data"
    }
   ],
   "source": [
    "m = 80\n",
    "v = np.linspace(0,20,100)\n",
    "plt.plot(v,0.5*m*v**2)\n",
    "plt.show()"
   ]
  },
  {
   "cell_type": "markdown",
   "metadata": {},
   "source": [
    "Avec des listes (donc sans Numpy), il faudrait calculer les valeurs en amont via des boucles. Numpy permet donc de simplifier les calculs sur des données contenus dans une liste/un tableau.\n",
    "\n",
    "Numpy contient déjà des fonctions de math : exp, sin, etc... Il est donc inutile de charger le module math.\n",
    "\n",
    "De plus, l'écriture est simplifiée car le code ressemble nettement plus à la relation mathématique utilisée.\n",
    "\n",
    "Enfin, numpy permet également de gérer des matrices, d'extraire facilement des données, etc. Je vous invite à consulter la documentation pour en découvrir plus.\n",
    "\n",
    "https://numpy.org/devdocs/"
   ]
  }
 ],
 "metadata": {
  "kernelspec": {
   "display_name": "Python 3",
   "language": "python",
   "name": "python3"
  },
  "language_info": {
   "codemirror_mode": {
    "name": "ipython",
    "version": 3
   },
   "file_extension": ".py",
   "mimetype": "text/x-python",
   "name": "python",
   "nbconvert_exporter": "python",
   "pygments_lexer": "ipython3",
   "version": "3.7.6"
  }
 },
 "nbformat": 4,
 "nbformat_minor": 4
}
