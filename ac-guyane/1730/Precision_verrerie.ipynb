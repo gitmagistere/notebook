{
 "cells": [
  {
   "cell_type": "code",
   "execution_count": null,
   "metadata": {},
   "outputs": [],
   "source": [
    "## PRECISION DE LA VERRERIE POUR LA MESURE D'UN VOLUME\n",
    "\n",
    "# Importation des bibliothèques\n",
    "import numpy as np\n",
    "import matplotlib.pyplot as plt\n",
    "\n",
    "## A COMPLETER PAR LES ELEVES\n",
    "# Compléter la liste en indiquant la masse (en g) d'eau prélevée avec le bécher\n",
    "m_becher=np.array([...]) \n",
    "# Compléter la liste en indiquant la masse (en g) d'eau prélevée avec l'eprouvette graduée\n",
    "m_eprouvette=np.array([...])\n",
    "# Compléter la liste en indiquant la masse (en g) d'eau prélevée avec la fiole jaugée\n",
    "m_fiole=np.array([...])\n",
    "\n",
    "## CALCUL DE LA MOYENNE DE LA MASSE OBTENUE + ECART TYPE\n",
    "n=len(m_becher)\n",
    "print('Nombre de mesures :', n)\n",
    "# Moyenne + écart type avec le bécher\n",
    "print('Moyenne de m_becher :',m_becher.mean(),' g')\n",
    "print('Ecart-type non biaisé pour la série de mesures de m_becher :', m_becher.std(ddof = 1), 'g') \n",
    "# Moyenne + écart type avec l'éprouvette graduée\n",
    "print('Moyenne de m_eprouvette :',m_eprouvette.mean(),' g')\n",
    "print('Ecart-type non biaisé pour la série de mesures de m_eprouvette :', m_eprouvette.std(ddof = 1), 'g')\n",
    "# Moyenne + écart type avec la fiole jaugée\n",
    "print('Moyenne de m_fiole :',m_fiole.mean(),' g')\n",
    "print('Ecart-type non biaisé pour la série de mesures de m_fiole :', m_fiole.std(ddof = 1), 'g')\n",
    "\n",
    "## TRACE DES HISTOGRAMMES\n",
    "m_th=... # masse attendue du volume d'eau prélevé\n",
    "plt.figure(\"Masse du volume d'eau prélevé\") \n",
    "plt.subplot(3,1,1) \n",
    "# histogramme des mesures faites avec le bécher\n",
    "plt.hist([m_becher],range=(m_th-10,m_th+10),bins=int(2*((m_th+10)-(m_th-10))),color=['b'])  \n",
    "plt.ylabel('Nb de mesures')\n",
    "plt.legend([\"avec le bécher (en g)\"])\n",
    "plt.subplot(3,1,2)\n",
    "# histogramme des mesures faites avec l'éprouvette graduée\n",
    "plt.hist([m_eprouvette],range=(m_th-10,m_th+10),bins=int(2*((m_th+10)-(m_th-10))),color=['r'])\n",
    "plt.ylabel('Nb de mesures')\n",
    "plt.legend([\"avec l'eprouvette graduée (en g)\"])\n",
    "plt.subplot(3,1,3)\n",
    "# histogramme des mesures faites avec la fiole jaugée\n",
    "plt.hist([m_fiole],range=(m_th-10,m_th+10),bins=int(2*((m_th+10)-(m_th-10))),color=['g'])\n",
    "plt.ylabel('Nb de mesures')\n",
    "plt.legend([\"avec la fiole jaugée (en g)\"])\n",
    "\n",
    "plt.show()"
   ]
  }
 ],
 "metadata": {
  "kernelspec": {
   "display_name": "Python 3",
   "language": "python",
   "name": "python3"
  },
  "language_info": {
   "codemirror_mode": {
    "name": "ipython",
    "version": 3
   },
   "file_extension": ".py",
   "mimetype": "text/x-python",
   "name": "python",
   "nbconvert_exporter": "python",
   "pygments_lexer": "ipython3",
   "version": "3.7.3"
  }
 },
 "nbformat": 4,
 "nbformat_minor": 4
}
