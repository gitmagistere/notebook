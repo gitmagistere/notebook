{
 "cells": [
  {
   "cell_type": "markdown",
   "metadata": {},
   "source": [
    "# Fonctions"
   ]
  },
  {
   "cell_type": "markdown",
   "metadata": {},
   "source": [
    "1. Créer les listes suivantes:  \n",
    "&bull; L1 : liste de valeurs de 0 à 10 avec un pas de 1  \n",
    "&bull; L2 : liste de valeurs de 0 à 10 avec un pas de 0,5  \n",
    "&bull; L3 : liste de valeurs de 0 à 10 avec un pas de 0,1"
   ]
  },
  {
   "cell_type": "code",
   "execution_count": null,
   "metadata": {},
   "outputs": [],
   "source": [
    "#L1\n",
    "\n",
    "#votre code\n"
   ]
  },
  {
   "cell_type": "code",
   "execution_count": null,
   "metadata": {},
   "outputs": [],
   "source": [
    "#L2\n",
    "#la méthode la plus simple est d'utiliser des fonctions du module numpy\n",
    "#arange() et linspace() génèrent des séquences de nombres\n",
    "import numpy as np  #importation du module pour pouvoir utiliser ses méthodes\n",
    "\n",
    "L2=[i for i in np.arange(0,10,0.5)]       #arange(start,end,step)   start:inclus , end:exclus\n",
    "L22=[i for i in np.linspace(0,10,11)]     #linspace(star,end,nombre de valeurs)\n",
    "print(L2)\n",
    "print(L22)"
   ]
  },
  {
   "cell_type": "code",
   "execution_count": null,
   "metadata": {},
   "outputs": [],
   "source": [
    "#L3\n",
    "\n",
    "#votre code\n"
   ]
  },
  {
   "cell_type": "markdown",
   "metadata": {},
   "source": [
    "2. Utiliser la méthode de compréhension de liste pour créer les fonctions suivantes:  \n",
    "&bull; *f_carre(L)* qui renvoie les carrés des éléments de la liste L  \n",
    "&bull; *f_sin(L)* qui renvoie les sinus des éléments de la liste L"
   ]
  },
  {
   "cell_type": "code",
   "execution_count": null,
   "metadata": {},
   "outputs": [],
   "source": [
    "def f_carre(L):\n",
    "    \n",
    "    #votre code\n",
    "    \n",
    "    return liste_carres\n",
    "\n",
    "#test\n",
    "L=[3,5,7,11,13,17] \n",
    "print(f_carre(L))"
   ]
  },
  {
   "cell_type": "code",
   "execution_count": null,
   "metadata": {},
   "outputs": [],
   "source": [
    "def f_sinus(L):\n",
    "    \n",
    "    #votre code\n",
    "    \n",
    "    return liste_sinus\n",
    "\n",
    "#test\n",
    "from math import sin, pi\n",
    "L=[0, pi/6,pi/3,pi/2] \n",
    "print(f_sinus(L))"
   ]
  },
  {
   "cell_type": "markdown",
   "metadata": {},
   "source": [
    "4. Soit les fonctions \n",
    "\n",
    "    &bull; **f(x)=-x²-2x+1**\n",
    "\n",
    "    &bull; **g(x)=x²+2x+1** \n",
    "\n",
    "définies sur l'intervalle [-3 ; 1]. Completer les codes suivants"
   ]
  },
  {
   "cell_type": "code",
   "execution_count": null,
   "metadata": {},
   "outputs": [],
   "source": [
    "#foncttion f(x)\n",
    "def f(x):\n",
    "    #votre code\n",
    "    return y\n",
    "\n",
    "#fonction g:\n",
    "def g(x):\n",
    "    #votre code\n",
    "    return y\n",
    "\n",
    "def solutions_eq():\n",
    "    import numpy as np\n",
    "    \n",
    "    L_solutions = #votre code utiliser une liste en compréhension\n",
    "    return L_solutions\n",
    "\n",
    "#Test\n",
    "print(solutions_eq())"
   ]
  }
 ],
 "metadata": {
  "celltoolbar": "Format de la Cellule Texte Brut",
  "kernelspec": {
   "display_name": "Python 3",
   "language": "python",
   "name": "python3"
  },
  "language_info": {
   "codemirror_mode": {
    "name": "ipython",
    "version": 3
   },
   "file_extension": ".py",
   "mimetype": "text/x-python",
   "name": "python",
   "nbconvert_exporter": "python",
   "pygments_lexer": "ipython3",
   "version": "3.7.6"
  }
 },
 "nbformat": 4,
 "nbformat_minor": 4
}
