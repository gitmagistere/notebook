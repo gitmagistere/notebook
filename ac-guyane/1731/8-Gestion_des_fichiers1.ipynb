{
 "cells": [
  {
   "cell_type": "markdown",
   "metadata": {},
   "source": [
    "# Gestion des fichiers"
   ]
  },
  {
   "cell_type": "markdown",
   "metadata": {},
   "source": [
    "Pour stocker de l'information et des données de manière pérenne il faut les stocker dans des fichiers.Python possède de nombreux outils permettant de travailler avec ces fichiers"
   ]
  },
  {
   "cell_type": "markdown",
   "metadata": {},
   "source": [
    "### Accéder et ouvrir un fichier\n",
    "\n",
    "Avant de pouvoir lire le contenu ou ecrire dans un fichier il faut l'ouvrir. Il existe plusieurs mode d'ouverture:  \n",
    "+ **r**, pour une ouverture en lecture (READ).  \n",
    "+ **w**, pour une ouverture en écriture (WRITE), à chaque ouverture le contenu du fichier est écrasé. Si le fichier n'existe pas python le crée.  \n",
    "+ **a**, pour une ouverture en mode ajout à la fin du fichier (APPEND). Si le fichier n'existe pas python le crée.  \n",
    "+ **b**, pour une ouverture en mode binaire.  \n",
    "+ **t**, pour une ouverture en mode texte.  \n",
    "+ **x**, crée un nouveau fichier et l'ouvre pour écriture  \n",
    "  \n",
    "```python \n",
    "    fichier = open(\"data.txt\",\"x)  #créer un fichier data.txt et l'ouvre pour ecriture dans le dossier courant\n",
    "```\n",
    "\n",
    "### Fermeture  du fichier\n",
    "\n",
    "```python \n",
    "    fichier.close()\n",
    "```  \n",
    "** Il important de toujours fermer le fichier en fin de traitement\n"
   ]
  },
  {
   "cell_type": "code",
   "execution_count": 7,
   "metadata": {},
   "outputs": [
    {
     "name": "stdout",
     "output_type": "stream",
     "text": [
      "<_io.TextIOWrapper name='data2.txt' mode='x' encoding='cp1252'>\n"
     ]
    }
   ],
   "source": [
    "import os\n",
    "\n",
    "\n",
    "#création d'un fichier et ouverture pour ecriture\n",
    "fichier = open(\"data2.txt\",\"x\")\n",
    "print(fichier)\n",
    "\n",
    "#fermeture du fichier\n",
    "fichier.close()\n",
    "\n",
    "\n",
    "os.remove(\"data2.txt\")"
   ]
  },
  {
   "cell_type": "markdown",
   "metadata": {},
   "source": [
    "# Les dictionnaires"
   ]
  },
  {
   "cell_type": "markdown",
   "metadata": {},
   "source": [
    "Comme les listese t les tuples les dictionnaire sont des strucutres de données pouvant contenir différents types à la différences qu'ils sont non ordonnées. En effet il n'y pas  de notion d'ordre (pas d'index) pour accéder **aux valeurs** du dictionnaire. On y accède via par des **clés**."
   ]
  },
  {
   "cell_type": "markdown",
   "metadata": {},
   "source": [
    "## Générer un dictionnaire"
   ]
  },
  {
   "cell_type": "code",
   "execution_count": 15,
   "metadata": {},
   "outputs": [
    {
     "name": "stdout",
     "output_type": "stream",
     "text": [
      "{'numero': '13', 'rue': 'Rue St John', 'ville': 'Cayenne'}\n"
     ]
    }
   ],
   "source": [
    "#On crée un dictionnaire avec les accolades {}  tout comme on créer des listes avec les crochets []\n",
    "\n",
    "mon_adresse={}                                   #Créer un dictionnaire vide\n",
    "mon_adresse[\"numero\"] =\"13\"                      #Associe la clé \"numero\" à la valeur 13\n",
    "mon_adresse[\"rue\"] = \"Rue St John\"               #Associe la clé \"rue\" à la valeur \"Rue St John\"\n",
    "mon_adresse[\"ville\"] = \"Cayenne\"                 #Associe la clé \"ville\" à la valeur \"Matoury\"\n",
    "\n",
    "\n",
    "print(mon_adresse)"
   ]
  },
  {
   "cell_type": "code",
   "execution_count": 8,
   "metadata": {},
   "outputs": [
    {
     "name": "stdout",
     "output_type": "stream",
     "text": [
      "{'numero': 80013, 'rue': 'Ch. de la Chaumière', 'ville': 'Matoury', 'codepostale': 97300}\n"
     ]
    }
   ],
   "source": [
    "#On peut aussi générer le dictionnaire de la façon suivante:\n",
    "\n",
    "mon_adresse2 = {\"numero\":80013, \"rue\":\"Ch. de la Chaumière\", \"ville\":\"Matoury\", \"codepostal\":97300}\n",
    "print(mon_adresse2)"
   ]
  },
  {
   "cell_type": "markdown",
   "metadata": {},
   "source": [
    "## Manipuler les éléments d'un dictionnaire\n",
    "\n",
    "**Attention:** La création du dictionnaire s'effectue avec les **accolades {}** en revanche lors de la manipulation on utilisera les **crochets []**\n"
   ]
  },
  {
   "cell_type": "markdown",
   "metadata": {},
   "source": [
    "### Accéder au élements du dictionnaire ou en ajouter"
   ]
  },
  {
   "cell_type": "code",
   "execution_count": 25,
   "metadata": {
    "scrolled": true
   },
   "outputs": [
    {
     "name": "stdout",
     "output_type": "stream",
     "text": [
      "Cayenne\n"
     ]
    },
    {
     "data": {
      "text/plain": [
       "{'numero': '13',\n",
       " 'rue': 'Rue St John',\n",
       " 'ville': 'Cayenne',\n",
       " 'codepostale': 97300}"
      ]
     },
     "execution_count": 25,
     "metadata": {},
     "output_type": "execute_result"
    }
   ],
   "source": [
    "#On accède aux éléments du dictionnaire via les clés\n",
    "\n",
    "print(mon_adresse[\"ville\"])\n",
    "\n",
    "mon_adresse[\"codepostal\"] = 97300                 #Permet d'ajouter un nouvel élément\n",
    "\n",
    "mon_adresse"
   ]
  },
  {
   "cell_type": "markdown",
   "metadata": {},
   "source": [
    "### Rechercher une clé"
   ]
  },
  {
   "cell_type": "code",
   "execution_count": 17,
   "metadata": {},
   "outputs": [
    {
     "name": "stdout",
     "output_type": "stream",
     "text": [
      "La clé 'codepostale' existe dans le dictionnaire\n",
      "La clé 'pays' n'existe pas dans le dictionnaire\n"
     ]
    }
   ],
   "source": [
    "if \"codepostal\" in mon_adresse:\n",
    "    print(\"La clé 'codepostal' existe dans le dictionnaire\")\n",
    "else:\n",
    "    print(\"La clé 'codepostal' n'existe pas dans le dictionnaire\")\n",
    "    \n",
    "if \"pays\" in mon_adresse:\n",
    "    print(\"La clé 'pays' existe dans le dictionnaire\")\n",
    "else:\n",
    "    print(\"La clé 'pays' n'existe pas dans le dictionnaire\")"
   ]
  },
  {
   "cell_type": "markdown",
   "metadata": {},
   "source": [
    "### Supprimer un élément"
   ]
  },
  {
   "cell_type": "code",
   "execution_count": 14,
   "metadata": {},
   "outputs": [
    {
     "ename": "NameError",
     "evalue": "name 'mon_adresse' is not defined",
     "output_type": "error",
     "traceback": [
      "\u001b[1;31m---------------------------------------------------------------------------\u001b[0m",
      "\u001b[1;31mNameError\u001b[0m                                 Traceback (most recent call last)",
      "\u001b[1;32m<ipython-input-14-7e4a14d43b14>\u001b[0m in \u001b[0;36m<module>\u001b[1;34m\u001b[0m\n\u001b[1;32m----> 1\u001b[1;33m \u001b[0mmon_adresse\u001b[0m\u001b[1;33m[\u001b[0m\u001b[1;34m\"pays\"\u001b[0m\u001b[1;33m]\u001b[0m\u001b[1;33m=\u001b[0m\u001b[1;34m\"Guyane\"\u001b[0m\u001b[1;33m\u001b[0m\u001b[1;33m\u001b[0m\u001b[0m\n\u001b[0m\u001b[0;32m      2\u001b[0m \u001b[0mmon_adresse\u001b[0m\u001b[1;33m\u001b[0m\u001b[1;33m\u001b[0m\u001b[0m\n\u001b[0;32m      3\u001b[0m \u001b[1;33m\u001b[0m\u001b[0m\n\u001b[0;32m      4\u001b[0m \u001b[1;32mdel\u001b[0m\u001b[1;33m(\u001b[0m\u001b[0mmon_adresse\u001b[0m\u001b[1;33m[\u001b[0m\u001b[1;34m\"pays\"\u001b[0m\u001b[1;33m]\u001b[0m\u001b[1;33m)\u001b[0m                              \u001b[1;31m#Seule la fonctionne del() fonctionne sur les dictionnaires\u001b[0m\u001b[1;33m\u001b[0m\u001b[1;33m\u001b[0m\u001b[0m\n\u001b[0;32m      5\u001b[0m \u001b[0mmon_adresse\u001b[0m\u001b[1;33m\u001b[0m\u001b[1;33m\u001b[0m\u001b[0m\n",
      "\u001b[1;31mNameError\u001b[0m: name 'mon_adresse' is not defined"
     ]
    }
   ],
   "source": [
    "mon_adresse[\"pays\"]=\"Guyane\"      \n",
    "mon_adresse\n",
    "\n",
    "del(mon_adresse[\"pays\"])                              #Seule la fonctionne del() fonctionne sur les dictionnaires\n",
    "mon_adresse"
   ]
  },
  {
   "cell_type": "markdown",
   "metadata": {},
   "source": [
    "## Parcourir les clés pour obtenir les valeurs"
   ]
  },
  {
   "cell_type": "code",
   "execution_count": 16,
   "metadata": {},
   "outputs": [
    {
     "name": "stdout",
     "output_type": "stream",
     "text": [
      "numero : 13\n",
      "rue : Rue St John\n",
      "ville : Cayenne\n"
     ]
    }
   ],
   "source": [
    "#Avec un boucle for:\n",
    "\n",
    "for cle in mon_adresse:\n",
    "    print(cle,\":\", mon_adresse[cle])"
   ]
  },
  {
   "cell_type": "markdown",
   "metadata": {},
   "source": [
    "## Les fonctions utiles"
   ]
  },
  {
   "cell_type": "code",
   "execution_count": 14,
   "metadata": {},
   "outputs": [
    {
     "data": {
      "text/plain": [
       "dict_keys(['numero', 'rue', 'ville', 'codepostale'])"
      ]
     },
     "execution_count": 14,
     "metadata": {},
     "output_type": "execute_result"
    }
   ],
   "source": [
    "#Fonction .keys()\n",
    "\n",
    "mon_adresse.keys()                                 #Renvoie la liste des clés du dictionnaire"
   ]
  },
  {
   "cell_type": "code",
   "execution_count": 15,
   "metadata": {},
   "outputs": [
    {
     "data": {
      "text/plain": [
       "dict_values(['13', 'Rue St John', 'Cayenne', 97300])"
      ]
     },
     "execution_count": 15,
     "metadata": {},
     "output_type": "execute_result"
    }
   ],
   "source": [
    "#Fonction .values()\n",
    "\n",
    "mon_adresse.values()                              #Renvoie les valeurs du dictionnaire"
   ]
  },
  {
   "cell_type": "markdown",
   "metadata": {},
   "source": [
    "# Exercices d'applications"
   ]
  },
  {
   "cell_type": "markdown",
   "metadata": {},
   "source": [
    "### Tuples"
   ]
  },
  {
   "cell_type": "markdown",
   "metadata": {},
   "source": [
    "1. Ecrire une fonction qui calcul le poids d'un objet donné en fonction de sa masse m sur différents astres (Lune,Terre, Mars,)   \n",
    "\n",
    "      **On donne :**  *gTerre= 9.81 N/Kg*, *gLune= 1.62 N/Kg* , *gMars= 3.71 N/Kg*"
   ]
  },
  {
   "cell_type": "code",
   "execution_count": null,
   "metadata": {},
   "outputs": [],
   "source": [
    "def calcul_poids(m):\n",
    "    L_intensite_g =                    #votre code :  utiliser un tuple \n",
    "                                       #votre code utiliser les liste en comprehension\n",
    "    return L_poids\n",
    "\n",
    "#test\n",
    "poids=calcul_poids(50)\n",
    "print(\"Le poids de l'objet sur la Lune est\") #à completer\n",
    "print(\"Le poids de l'objet sur Terre est\") #à completer\n",
    "print(\"Le poids de l'objet sur Mars est\") #à completer"
   ]
  },
  {
   "cell_type": "markdown",
   "metadata": {},
   "source": [
    "2.Completer la fonction calculs_poids2 en utilisant cette fois-ci un dictionnaire"
   ]
  },
  {
   "cell_type": "code",
   "execution_count": null,
   "metadata": {},
   "outputs": [],
   "source": [
    "def calcul_poids2(m):\n",
    "    L_intensite_g =  ()             #votre code :  utiliser un tuple \n",
    "    L_poids = {}                    #votre code utiliser les dictionnaires en  en comprehension\n",
    "    return L_poids\n",
    "\n",
    "#test\n",
    "poids=calcul_poids2(50)\n",
    "for poids in L_poids:\n",
    "    print(\"Le poids de l'objet sur .....\") #à completer"
   ]
  }
 ],
 "metadata": {
  "kernelspec": {
   "display_name": "Python 3",
   "language": "python",
   "name": "python3"
  },
  "language_info": {
   "codemirror_mode": {
    "name": "ipython",
    "version": 3
   },
   "file_extension": ".py",
   "mimetype": "text/x-python",
   "name": "python",
   "nbconvert_exporter": "python",
   "pygments_lexer": "ipython3",
   "version": "3.7.6"
  }
 },
 "nbformat": 4,
 "nbformat_minor": 4
}
