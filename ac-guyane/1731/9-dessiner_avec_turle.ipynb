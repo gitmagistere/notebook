{
 "cells": [
  {
   "cell_type": "markdown",
   "metadata": {},
   "source": [
    "# Déplacer le curseur (la tortue)"
   ]
  },
  {
   "cell_type": "code",
   "execution_count": 7,
   "metadata": {},
   "outputs": [],
   "source": [
    "import turtle as ttle\n",
    "\n",
    "#Remplace le curseur par la tortue\n",
    "ttle.shape(\"turtle\")   \n",
    "\n",
    "#place le curseur au centre de la fenêtre (0;0)\n",
    "ttle.goto(0,0)         \n",
    "\n",
    "#Avancer de 200px\n",
    "ttle.forward(200)      \n",
    "\n",
    "#Modifier la vitesse de déplacement\n",
    "ttle.speed(1)\n",
    "\n",
    "#modifier l'épaisseur du trait\n",
    "ttle.pensize(5)\n",
    "\n",
    "#Tourner de 120° vers la droite\n",
    "ttle.right(120)         \n",
    "\n",
    "#Avancer de 100px\n",
    "ttle.forward(150)      \n",
    "\n",
    "#Changer la coulleur du trait\n",
    "ttle.pencolor(\"red\")\n",
    "\n",
    "#Tourner de 120° vers la droite\n",
    "ttle.right(120)         \n",
    "\n",
    "#Avancer de 300px\n",
    "ttle.forward(300)   \n",
    "\n",
    "ttle.exitonclick()\n",
    "\n",
    "#EXCUTER LE CODE POUR VOIR LE RESULTAT"
   ]
  },
  {
   "cell_type": "markdown",
   "metadata": {},
   "source": [
    "# Dessiner des figures simples"
   ]
  },
  {
   "cell_type": "markdown",
   "metadata": {},
   "source": [
    "### Dessiner un carré :"
   ]
  },
  {
   "cell_type": "code",
   "execution_count": 9,
   "metadata": {},
   "outputs": [],
   "source": [
    "import turtle as ttle\n",
    "\n",
    "for i in range(4):\n",
    "    ttle.forward(100)\n",
    "    ttle.right(90)\n",
    "\n",
    "ttle.exitonclick()\n",
    "#EXCUTER LE CODE POUR VOIR LE RESULTAT"
   ]
  },
  {
   "cell_type": "markdown",
   "metadata": {},
   "source": [
    "###  Dessiner un rectangle "
   ]
  },
  {
   "cell_type": "code",
   "execution_count": 28,
   "metadata": {},
   "outputs": [],
   "source": [
    "\n",
    "for i in range(2):\n",
    "    ttle.forward(100)\n",
    "    ttle.right(90)\n",
    "    ttle.forward(50)\n",
    "    ttle.right(90)\n",
    "\n",
    "ttle.exitonclick()\n",
    "#EXCUTER LE CODE POUR VOIR LE RESULTAT"
   ]
  },
  {
   "cell_type": "markdown",
   "metadata": {},
   "source": [
    "### Dessiner un triangle equilateral"
   ]
  },
  {
   "cell_type": "code",
   "execution_count": 36,
   "metadata": {},
   "outputs": [],
   "source": [
    "for i in range(3):\n",
    "    ttle.forward(100)\n",
    "    ttle.left(120)\n",
    "ttle.exitonclick()\n",
    "#EXCUTER LE CODE POUR VOIR LE RESULTAT"
   ]
  },
  {
   "cell_type": "markdown",
   "metadata": {},
   "source": [
    "### Dessiner un figure complexe"
   ]
  },
  {
   "cell_type": "code",
   "execution_count": 12,
   "metadata": {},
   "outputs": [],
   "source": [
    "import turtle as ttle\n",
    "\n",
    "ttle.setup(600,600);\n",
    "ttle.bgcolor(\"black\")\n",
    "ttle.speed(0)\n",
    "\n",
    "ttle.pensize(2)\n",
    "couleur = {1:\"blue\",2:\"green\",3:\"orange\",4:\"purple\",5:\"yellow\",6:\"red\"}\n",
    "for i in range(50):\n",
    "    for c in range(1,7):\n",
    "        ttle.color(couleur[c])\n",
    "        ttle.forward(i*5+c+1)\n",
    "        ttle.right(59)\n",
    "ttle.exitonclick()"
   ]
  },
  {
   "cell_type": "markdown",
   "metadata": {},
   "source": [
    "## Exercices d'application"
   ]
  },
  {
   "attachments": {
    "t_octogone.PNG": {
     "image/png": "[encoded data removed]"
    }
   },
   "cell_type": "markdown",
   "metadata": {},
   "source": [
    "###  Exercice 1\n",
    "\n",
    "Ecrire le code permettant de tracer la figure suivante:\n",
    "\n",
    "![t_octogone.PNG](attachment:t_octogone.PNG)\n",
    "\n"
   ]
  },
  {
   "cell_type": "code",
   "execution_count": null,
   "metadata": {},
   "outputs": [],
   "source": [
    "import turtle as ttle\n",
    "\n",
    "...\n",
    "\n",
    "ttle.exitonclick()"
   ]
  },
  {
   "attachments": {
    "t_etoile.PNG": {
     "image/png": "[encoded data removed]"
    }
   },
   "cell_type": "markdown",
   "metadata": {},
   "source": [
    "###  Exercice 2\n",
    "\n",
    "Ecrire le code permettant de tracer la figure suivante:\n",
    "![t_etoile.PNG](attachment:t_etoile.PNG)"
   ]
  },
  {
   "cell_type": "code",
   "execution_count": 25,
   "metadata": {
    "collapsed": true
   },
   "outputs": [
    {
     "name": "stdout",
     "output_type": "stream",
     "text": [
      "Cayenne\n"
     ]
    },
    {
     "data": {
      "text/plain": [
       "{'numero': '13',\n",
       " 'rue': 'Rue St John',\n",
       " 'ville': 'Cayenne',\n",
       " 'codepostale': 97300}"
      ]
     },
     "execution_count": 25,
     "metadata": {},
     "output_type": "execute_result"
    }
   ],
   "source": []
  },
  {
   "attachments": {
    "t_spirale.PNG": {
     "image/png": "[encoded data removed]"
    }
   },
   "cell_type": "markdown",
   "metadata": {},
   "source": [
    "### Exercice 3\n",
    "\n",
    "Ecrire le code permettant de tracer la figure suivante:\n",
    "\n",
    "**Information:**\n",
    "+ la spirale est composée de 50 segments\n",
    "+ 2 segments consecutifs différence de 2 pixels\n",
    "+ L'angle entre 2 segments est de 30°\n",
    "\n",
    "![t_spirale.PNG](attachment:t_spirale.PNG)"
   ]
  },
  {
   "cell_type": "code",
   "execution_count": null,
   "metadata": {},
   "outputs": [],
   "source": [
    "import turtle  as ttle\n",
    "\n",
    "\n",
    "ttle.exitonclick()"
   ]
  }
 ],
 "metadata": {
  "kernelspec": {
   "display_name": "Python 3",
   "language": "python",
   "name": "python3"
  },
  "language_info": {
   "codemirror_mode": {
    "name": "ipython",
    "version": 3
   },
   "file_extension": ".py",
   "mimetype": "text/x-python",
   "name": "python",
   "nbconvert_exporter": "python",
   "pygments_lexer": "ipython3",
   "version": "3.7.6"
  }
 },
 "nbformat": 4,
 "nbformat_minor": 4
}
