{
 "cells": [
  {
   "cell_type": "markdown",
   "metadata": {},
   "source": [
    "# Les tuples"
   ]
  },
  {
   "cell_type": "markdown",
   "metadata": {},
   "source": [
    "Les tuples ou (n-uplets en français) correspondent à des listes dont les valeurs sont non modifiables.  \n",
    "Elles utilisent les **parenthèses ()** au lieu des **crochets []**\n",
    "\n",
    "L'affectation fonctionne comme avec les listes. En revanche la modification d'un tuple génere un message d'érreur. On peut ajouter ou supprimer des éléments mais pas les modifier."
   ]
  },
  {
   "cell_type": "code",
   "execution_count": 12,
   "metadata": {
    "collapsed": true
   },
   "outputs": [
    {
     "data": {
      "text/plain": [
       "(1, 2, 7)"
      ]
     },
     "execution_count": 12,
     "metadata": {},
     "output_type": "execute_result"
    }
   ],
   "source": [
    "pointA=(1,2)                        #Créer un tuple contenant les valeurs 1 et 2\n",
    "pointA+=(7,)                        #Ajoute une valeur par concatenation avec un autre tuple pas possible autrement\n",
    "pointA\n",
    "#executer le code"
   ]
  },
  {
   "cell_type": "markdown",
   "metadata": {},
   "source": [
    "### Accéder à un élément d'un tuple"
   ]
  },
  {
   "cell_type": "code",
   "execution_count": 11,
   "metadata": {},
   "outputs": [
    {
     "name": "stdout",
     "output_type": "stream",
     "text": [
      "L'abscisse du point A est: 1\n",
      "L'ordonnée du point A est: 2\n",
      "La cote du point A est: 7\n"
     ]
    }
   ],
   "source": [
    "''''Comme les listes on accède aux éléments du tuples par sa position. \n",
    "**ATTENTION : il faut utiliser les crochet et non les parenthèses**'''\n",
    "\n",
    "print(\"L'abscisse du point A est:\",pointA[0])\n",
    "print(\"L'ordonnée du point A est:\",pointA[1])\n",
    "print(\"La cote du point A est:\",pointA[2])\n",
    "\n",
    "#executer le code"
   ]
  },
  {
   "cell_type": "markdown",
   "metadata": {},
   "source": [
    "La plupart des opérations pouvant êtres effectuées sur une liste sont valables pour les tuples:\n",
    "\n",
    "&bull; **max()**, **min()**, **sum()**, **len()**  \n",
    "&bull; Opérateurs d'appartenance **in** et **not in**  \n",
    "&bull; Opérateurs de comparaison  \n",
    "&bull; la boucle **for** pour parcourir les éléments  \n",
    "\n",
    "les méthodes telles que **append()**, **insert()**, **remove()**, **reverse()** et **sort()** ne fonctionnent pas avec les tuples."
   ]
  },
  {
   "cell_type": "markdown",
   "metadata": {},
   "source": [
    "# Les dictionnaires"
   ]
  },
  {
   "cell_type": "markdown",
   "metadata": {},
   "source": [
    "Comme les listese t les tuples les dictionnaire sont des strucutres de données pouvant contenir différents types à la différences qu'ils sont non ordonnées. En effet il n'y pas  de notion d'ordre (pas d'index) pour accéder **aux valeurs** du dictionnaire. On y accède via par des **clés**."
   ]
  },
  {
   "cell_type": "markdown",
   "metadata": {},
   "source": [
    "## Générer un dictionnaire"
   ]
  },
  {
   "cell_type": "code",
   "execution_count": 15,
   "metadata": {},
   "outputs": [
    {
     "name": "stdout",
     "output_type": "stream",
     "text": [
      "{'numero': '13', 'rue': 'Rue St John', 'ville': 'Cayenne'}\n"
     ]
    }
   ],
   "source": [
    "#On crée un dictionnaire avec les accolades {}  tout comme on créer des listes avec les crochets []\n",
    "\n",
    "mon_adresse={}                                   #Créer un dictionnaire vide\n",
    "mon_adresse[\"numero\"] =\"13\"                      #Associe la clé \"numero\" à la valeur 13\n",
    "mon_adresse[\"rue\"] = \"Rue St John\"               #Associe la clé \"rue\" à la valeur \"Rue St John\"\n",
    "mon_adresse[\"ville\"] = \"Cayenne\"                 #Associe la clé \"ville\" à la valeur \"Matoury\"\n",
    "\n",
    "\n",
    "print(mon_adresse)"
   ]
  },
  {
   "cell_type": "code",
   "execution_count": 8,
   "metadata": {},
   "outputs": [
    {
     "name": "stdout",
     "output_type": "stream",
     "text": [
      "{'numero': 80013, 'rue': 'Ch. de la Chaumière', 'ville': 'Matoury', 'codepostale': 97300}\n"
     ]
    }
   ],
   "source": [
    "#On peut aussi générer le dictionnaire de la façon suivante:\n",
    "\n",
    "mon_adresse2 = {\"numero\":80013, \"rue\":\"Ch. de la Chaumière\", \"ville\":\"Matoury\", \"codepostal\":97300}\n",
    "print(mon_adresse2)"
   ]
  },
  {
   "cell_type": "markdown",
   "metadata": {},
   "source": [
    "## Manipuler les éléments d'un dictionnaire\n",
    "\n",
    "**Attention:** La création du dictionnaire s'effectue avec les **accolades {}** en revanche lors de la manipulation on utilisera les **crochets []**\n"
   ]
  },
  {
   "cell_type": "markdown",
   "metadata": {},
   "source": [
    "### Accéder au élements du dictionnaire ou en ajouter"
   ]
  },
  {
   "cell_type": "code",
   "execution_count": 25,
   "metadata": {
    "scrolled": true
   },
   "outputs": [
    {
     "name": "stdout",
     "output_type": "stream",
     "text": [
      "Cayenne\n"
     ]
    },
    {
     "data": {
      "text/plain": [
       "{'numero': '13',\n",
       " 'rue': 'Rue St John',\n",
       " 'ville': 'Cayenne',\n",
       " 'codepostale': 97300}"
      ]
     },
     "execution_count": 25,
     "metadata": {},
     "output_type": "execute_result"
    }
   ],
   "source": [
    "#On accède aux éléments du dictionnaire via les clés\n",
    "\n",
    "print(mon_adresse[\"ville\"])\n",
    "\n",
    "mon_adresse[\"codepostal\"] = 97300                 #Permet d'ajouter un nouvel élément\n",
    "\n",
    "mon_adresse"
   ]
  },
  {
   "cell_type": "markdown",
   "metadata": {},
   "source": [
    "### Rechercher une clé"
   ]
  },
  {
   "cell_type": "code",
   "execution_count": 17,
   "metadata": {},
   "outputs": [
    {
     "name": "stdout",
     "output_type": "stream",
     "text": [
      "La clé 'codepostale' existe dans le dictionnaire\n",
      "La clé 'pays' n'existe pas dans le dictionnaire\n"
     ]
    }
   ],
   "source": [
    "if \"codepostal\" in mon_adresse:\n",
    "    print(\"La clé 'codepostal' existe dans le dictionnaire\")\n",
    "else:\n",
    "    print(\"La clé 'codepostal' n'existe pas dans le dictionnaire\")\n",
    "    \n",
    "if \"pays\" in mon_adresse:\n",
    "    print(\"La clé 'pays' existe dans le dictionnaire\")\n",
    "else:\n",
    "    print(\"La clé 'pays' n'existe pas dans le dictionnaire\")"
   ]
  },
  {
   "cell_type": "markdown",
   "metadata": {},
   "source": [
    "### Supprimer un élément"
   ]
  },
  {
   "cell_type": "code",
   "execution_count": 14,
   "metadata": {},
   "outputs": [
    {
     "ename": "NameError",
     "evalue": "name 'mon_adresse' is not defined",
     "output_type": "error",
     "traceback": [
      "\u001b[1;31m---------------------------------------------------------------------------\u001b[0m",
      "\u001b[1;31mNameError\u001b[0m                                 Traceback (most recent call last)",
      "\u001b[1;32m<ipython-input-14-7e4a14d43b14>\u001b[0m in \u001b[0;36m<module>\u001b[1;34m\u001b[0m\n\u001b[1;32m----> 1\u001b[1;33m \u001b[0mmon_adresse\u001b[0m\u001b[1;33m[\u001b[0m\u001b[1;34m\"pays\"\u001b[0m\u001b[1;33m]\u001b[0m\u001b[1;33m=\u001b[0m\u001b[1;34m\"Guyane\"\u001b[0m\u001b[1;33m\u001b[0m\u001b[1;33m\u001b[0m\u001b[0m\n\u001b[0m\u001b[0;32m      2\u001b[0m \u001b[0mmon_adresse\u001b[0m\u001b[1;33m\u001b[0m\u001b[1;33m\u001b[0m\u001b[0m\n\u001b[0;32m      3\u001b[0m \u001b[1;33m\u001b[0m\u001b[0m\n\u001b[0;32m      4\u001b[0m \u001b[1;32mdel\u001b[0m\u001b[1;33m(\u001b[0m\u001b[0mmon_adresse\u001b[0m\u001b[1;33m[\u001b[0m\u001b[1;34m\"pays\"\u001b[0m\u001b[1;33m]\u001b[0m\u001b[1;33m)\u001b[0m                              \u001b[1;31m#Seule la fonctionne del() fonctionne sur les dictionnaires\u001b[0m\u001b[1;33m\u001b[0m\u001b[1;33m\u001b[0m\u001b[0m\n\u001b[0;32m      5\u001b[0m \u001b[0mmon_adresse\u001b[0m\u001b[1;33m\u001b[0m\u001b[1;33m\u001b[0m\u001b[0m\n",
      "\u001b[1;31mNameError\u001b[0m: name 'mon_adresse' is not defined"
     ]
    }
   ],
   "source": [
    "mon_adresse[\"pays\"]=\"Guyane\"      \n",
    "mon_adresse\n",
    "\n",
    "del(mon_adresse[\"pays\"])                              #Seule la fonctionne del() fonctionne sur les dictionnaires\n",
    "mon_adresse"
   ]
  },
  {
   "cell_type": "markdown",
   "metadata": {},
   "source": [
    "## Parcourir les clés pour obtenir les valeurs"
   ]
  },
  {
   "cell_type": "code",
   "execution_count": 16,
   "metadata": {},
   "outputs": [
    {
     "name": "stdout",
     "output_type": "stream",
     "text": [
      "numero : 13\n",
      "rue : Rue St John\n",
      "ville : Cayenne\n"
     ]
    }
   ],
   "source": [
    "#Avec un boucle for:\n",
    "\n",
    "for cle in mon_adresse:\n",
    "    print(cle,\":\", mon_adresse[cle])"
   ]
  },
  {
   "cell_type": "markdown",
   "metadata": {},
   "source": [
    "## Les fonctions utiles"
   ]
  },
  {
   "cell_type": "code",
   "execution_count": 14,
   "metadata": {},
   "outputs": [
    {
     "data": {
      "text/plain": [
       "dict_keys(['numero', 'rue', 'ville', 'codepostale'])"
      ]
     },
     "execution_count": 14,
     "metadata": {},
     "output_type": "execute_result"
    }
   ],
   "source": [
    "#Fonction .keys()\n",
    "\n",
    "mon_adresse.keys()                                 #Renvoie la liste des clés du dictionnaire"
   ]
  },
  {
   "cell_type": "code",
   "execution_count": 15,
   "metadata": {},
   "outputs": [
    {
     "data": {
      "text/plain": [
       "dict_values(['13', 'Rue St John', 'Cayenne', 97300])"
      ]
     },
     "execution_count": 15,
     "metadata": {},
     "output_type": "execute_result"
    }
   ],
   "source": [
    "#Fonction .values()\n",
    "\n",
    "mon_adresse.values()                              #Renvoie les valeurs du dictionnaire"
   ]
  },
  {
   "cell_type": "markdown",
   "metadata": {},
   "source": [
    "# Exercices d'applications"
   ]
  },
  {
   "cell_type": "markdown",
   "metadata": {},
   "source": [
    "### Tuples"
   ]
  },
  {
   "cell_type": "markdown",
   "metadata": {},
   "source": [
    "1. Ecrire une fonction qui calcul le poids d'un objet donné en fonction de sa masse m sur différents astres (Lune,Terre, Mars,)   \n",
    "\n",
    "      **On donne :**  *gTerre= 9.81 N/Kg*, *gLune= 1.62 N/Kg* , *gMars= 3.71 N/Kg*"
   ]
  },
  {
   "cell_type": "code",
   "execution_count": null,
   "metadata": {},
   "outputs": [],
   "source": [
    "def calcul_poids(m):\n",
    "    L_intensite_g =                    #votre code :  utiliser un tuple \n",
    "                                       #votre code utiliser les liste en comprehension\n",
    "    return L_poids\n",
    "\n",
    "#test\n",
    "poids=calcul_poids(50)\n",
    "print(\"Le poids de l'objet sur la Lune est\") #à completer\n",
    "print(\"Le poids de l'objet sur Terre est\") #à completer\n",
    "print(\"Le poids de l'objet sur Mars est\") #à completer"
   ]
  },
  {
   "cell_type": "markdown",
   "metadata": {},
   "source": [
    "2.Completer la fonction calculs_poids2 en utilisant cette fois-ci un dictionnaire"
   ]
  },
  {
   "cell_type": "code",
   "execution_count": null,
   "metadata": {},
   "outputs": [],
   "source": [
    "def calcul_poids2(m):\n",
    "    L_intensite_g =  ()             #votre code :  utiliser un tuple \n",
    "    L_poids = {}                    #votre code utiliser les dictionnaires en  en comprehension\n",
    "    return L_poids\n",
    "\n",
    "#test\n",
    "poids=calcul_poids2(50)\n",
    "for poids in L_poids:\n",
    "    print(\"Le poids de l'objet sur .....\") #à completer"
   ]
  }
 ],
 "metadata": {
  "kernelspec": {
   "display_name": "Python 3",
   "language": "python",
   "name": "python3"
  },
  "language_info": {
   "codemirror_mode": {
    "name": "ipython",
    "version": 3
   },
   "file_extension": ".py",
   "mimetype": "text/x-python",
   "name": "python",
   "nbconvert_exporter": "python",
   "pygments_lexer": "ipython3",
   "version": "3.7.6"
  }
 },
 "nbformat": 4,
 "nbformat_minor": 4
}
