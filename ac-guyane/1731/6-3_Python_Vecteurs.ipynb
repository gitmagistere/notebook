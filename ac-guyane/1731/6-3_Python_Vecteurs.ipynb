{
 "cells": [
  {
   "cell_type": "markdown",
   "metadata": {},
   "source": [
    "# Les vecteurs"
   ]
  },
  {
   "cell_type": "markdown",
   "metadata": {},
   "source": [
    "1.Représentation graphique d'un vecteur"
   ]
  },
  {
   "cell_type": "code",
   "execution_count": 44,
   "metadata": {},
   "outputs": [
    {
     "data": {
      "image/png": "[encoded data removed]",
      "text/plain": [
       "<Figure size 432x288 with 1 Axes>"
      ]
     },
     "metadata": {
      "needs_background": "light"
     },
     "output_type": "display_data"
    }
   ],
   "source": [
    "#importation des bibliothèques nécessaires\n",
    "from matplotlib.pyplot import*\n",
    "from numpy import*\n",
    "\n",
    "#Définition des coordonnées du point A et du vecteurs u\n",
    "xA=1 ; yA=2 ; xu=3 ; yu=4\n",
    "\n",
    "#Représentation du représenatant du vecteur u d'origine A\n",
    "vecteur=axes() #Appel de la fonction qui permet le tracé d'un vecteur\n",
    "vecteur.quiver(xA, yA, xu, yu,units='xy',scale=1,color='blue') #\"units\" et \"scale\" sont des paramètres d'affichage que nous n'étudierons pas. Ils sont indispensable pour un affichage correct.\n",
    "\n",
    "vecteur.grid()  #Affichage du quadrillage du repère\n",
    "vecteur.set_aspect('equal') #La même unité est utilisé en abscisse et ordonnée\n",
    "\n",
    "xlim(0,6) #Valeur mini et maxi de la fenêtre en abscisse\n",
    "ylim(0,8)      #Valeur mini et maxi de la fenêtre en ordonnée\n",
    "\n",
    "title('Représenter un vecteur',fontsize=10)    #Titre du graphique\n",
    "\n",
    "show()      #Afficher le graphique\n",
    "\n",
    "\n",
    "#Excecuter le code"
   ]
  },
  {
   "cell_type": "markdown",
   "metadata": {},
   "source": [
    "2. Completer la fonction qui renvoi les coordonnées d'un vecteur entre 2 point  \n",
    "On donne: ***A(1,2);B(2,4)***"
   ]
  },
  {
   "cell_type": "code",
   "execution_count": 23,
   "metadata": {},
   "outputs": [
    {
     "name": "stdout",
     "output_type": "stream",
     "text": [
      "[1, 2]\n"
     ]
    }
   ],
   "source": [
    "#Renvoi les coordonnées d'un vecteur\n",
    "def coor_vecteur(A,B):\n",
    "    L_coord = #A completer \n",
    "    return L_coord\n",
    "\n",
    "#test\n",
    "A=#A completer \n",
    "B=#A completer \n",
    "print(coor_vecteur(A,B))"
   ]
  },
  {
   "cell_type": "markdown",
   "metadata": {},
   "source": [
    "3. Completer la fonction qui calcule la somme de 2 vecteurs  \n",
    "On donne: ***A(1,2);B(2,4);C(1,5) et D(5,3)***  \n",
    "\n",
    "La somme des vecteurs AB et CD a pour coordonnées (5,0)\n"
   ]
  },
  {
   "cell_type": "code",
   "execution_count": 30,
   "metadata": {
    "collapsed": true
   },
   "outputs": [
    {
     "name": "stdout",
     "output_type": "stream",
     "text": [
      "[5, 0]\n"
     ]
    }
   ],
   "source": [
    "def somme_vecteur(u,v):\n",
    "    L_somme=    #A completer\n",
    "    return L_somme\n",
    "\n",
    "#test\n",
    "#A compléter, on crée nos 4 points avec des listes\n",
    "#A compléter, on calcule les coordonnées du vecteur AB\n",
    "#A completer, on calcule les coordonnées du vecteur CD\n",
    "\n",
    "print(somme_vecteur(vAB,vCD))          #vAD = vAB+vCD\n"
   ]
  },
  {
   "cell_type": "markdown",
   "metadata": {},
   "source": [
    "4.En vous aidant du script en 1. completer la fonction ***trace_vecteur*** qui dessine 2 vecteurs et leur somme (On affichera le vecteur somme en rouge).  \n",
    "\n",
    "   On donne les vecteurs suivants *** vU(1;2) et vV(2;-4)***\n"
   ]
  },
  {
   "cell_type": "code",
   "execution_count": 43,
   "metadata": {
    "collapsed": true
   },
   "outputs": [
    {
     "data": {
      "image/png": "[encoded data removed]",
      "text/plain": [
       "<Figure size 432x288 with 1 Axes>"
      ]
     },
     "metadata": {
      "needs_background": "light"
     },
     "output_type": "display_data"
    }
   ],
   "source": [
    "#importation des bibliothèques nécessaires\n",
    "from matplotlib.pyplot import*\n",
    "from numpy import*\n",
    "\n",
    "def trace_vecteur(U,V):\n",
    "   \n",
    "    #votre code\n",
    "    return\n",
    "\n",
    "#test\n",
    "vU=[1,2]\n",
    "vV=[2,-4]\n",
    "trace_vecteur(vA,vB)"
   ]
  }
 ],
 "metadata": {
  "celltoolbar": "Format de la Cellule Texte Brut",
  "kernelspec": {
   "display_name": "Python 3",
   "language": "python",
   "name": "python3"
  },
  "language_info": {
   "codemirror_mode": {
    "name": "ipython",
    "version": 3
   },
   "file_extension": ".py",
   "mimetype": "text/x-python",
   "name": "python",
   "nbconvert_exporter": "python",
   "pygments_lexer": "ipython3",
   "version": "3.7.6"
  }
 },
 "nbformat": 4,
 "nbformat_minor": 4
}
