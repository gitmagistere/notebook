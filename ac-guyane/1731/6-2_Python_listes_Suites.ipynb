{
 "cells": [
  {
   "cell_type": "markdown",
   "metadata": {},
   "source": [
    "# Suites numériques"
   ]
  },
  {
   "cell_type": "markdown",
   "metadata": {},
   "source": [
    "1. Soit la suite <var>v<sub>n</sub></var> définie par <var>v<sub>n</sub> = n<sup>3</sup>-75.n<sup>2</sup>+1350.n-5000</var> avec <var>n</var> entier positif.  \n",
    "Programmer une fonction <i>liste_termes(n)</i> renvoyant la liste des <i>n</i> premiers termes.  \n",
    "Exemple:    <i>liste_termes(15)</i> renvoie \n",
    "\n",
    "            [-5000, -3724, -2592, -1598, -736, 0, 616, 1118, 1512, 1804, 2000, 2106, 2128, 2072, 1944]"
   ]
  },
  {
   "cell_type": "code",
   "execution_count": 1,
   "metadata": {},
   "outputs": [],
   "source": [
    "#pour la suite vn de premier terme v0\n",
    "def liste_termes(n):\n",
    " \n",
    "    L = [vn**3-75*vn**2+1350*vn-5000 for vn in range(n)] #votre code\n",
    "    #pensez à utiliser la compréhension de liste\n",
    "    \n",
    "    return L"
   ]
  },
  {
   "cell_type": "code",
   "execution_count": 2,
   "metadata": {
    "collapsed": true
   },
   "outputs": [
    {
     "name": "stdout",
     "output_type": "stream",
     "text": [
      "[-5000, -3724, -2592, -1598, -736, 0, 616, 1118, 1512, 1804, 2000, 2106, 2128, 2072, 1944]\n"
     ]
    }
   ],
   "source": [
    "a=liste_termes(15) #affectation du résultat à la variable a\n",
    "print(a)           #affichage"
   ]
  },
  {
   "cell_type": "code",
   "execution_count": 3,
   "metadata": {
    "collapsed": true
   },
   "outputs": [
    {
     "data": {
      "image/png": "[encoded data removed]",
      "text/plain": [
       "<Figure size 432x288 with 1 Axes>"
      ]
     },
     "metadata": {
      "needs_background": "light"
     },
     "output_type": "display_data"
    }
   ],
   "source": [
    "#présentation graphique des résultats en utilisant la bibliothèque matplotlib\n",
    "%matplotlib inline\n",
    "import matplotlib.pyplot as plt            #quelques secondes pour le chargement.....\n",
    "\n",
    "X=[i for i in range(0,15)]                 #liste des abscisses\n",
    "Y=[i**3-75*i**2+1350*i-5000 for i in X]    #liste des ordonnées\n",
    "plt.scatter(X,Y)                           #la méthode scatter réalise un nuage de points\n",
    "plt.show()                                 #affichage de la figure"
   ]
  },
  {
   "cell_type": "markdown",
   "metadata": {},
   "source": [
    "2. Programmer les fonctions:  \n",
    "&bull; *max_suite(n)* renvoyant, pour les *n* premiers termes, le terme de valeur maximale  \n",
    "&bull; *somme_suite(n)* renvoyant la somme des <i>n</i> premiers termes"
   ]
  },
  {
   "cell_type": "code",
   "execution_count": null,
   "metadata": {},
   "outputs": [],
   "source": [
    "def max_suite(n):\n",
    "    \n",
    "    #votre code\n",
    "    #pensez à utiliser la fonction précédente liste_termes\n",
    "    \n",
    "    return Max\n",
    "\n",
    "\n",
    "def somme_suite(n):\n",
    "    \n",
    "    #votre code\n",
    "    \n",
    "    return L       #L est une variable locale à la fonction."
   ]
  },
  {
   "cell_type": "code",
   "execution_count": null,
   "metadata": {},
   "outputs": [],
   "source": [
    "#tests\n",
    "print(max_suite(15))\n",
    "print(somme_suite(15))"
   ]
  },
  {
   "cell_type": "markdown",
   "metadata": {},
   "source": [
    "3. Soient les suites définies par récurrence:  \n",
    "**<var>u<sub>n+1</sub> = u<sub>n</sub>+105</var> et  <var>u<sub>0</sub></var> = 200**\n",
    "       \n",
    "   **<var>v<sub>n+1</sub> = 1,5.v<sub>n</sub></var> et  <var>v<sub>0</sub></var> = 3**\n",
    "\n",
    "Programmer la fonction qui calcul le terme de rang donné "
   ]
  },
  {
   "cell_type": "code",
   "execution_count": null,
   "metadata": {},
   "outputs": [],
   "source": [
    "#renvoi le terme du rang donné\n",
    "def terme():\n",
    "    \n",
    "    u0,r,type_suite,n = eval(input(\"Donner le 1er terme, la raison,le type de suite (Arith:0/Géom:1),le rang de terme souhaité\"))\n",
    "    \n",
    "    u0=int(u0)              #Le 1er terme\n",
    "    r=float(r)              #la raison \n",
    "    n=int(n)                #le rang du terme souhaité\n",
    "    \n",
    "    # votre code\n",
    "    \n",
    "    return L   "
   ]
  },
  {
   "cell_type": "markdown",
   "metadata": {},
   "source": [
    "4. Les 15 premiers termes de Un sont: \n",
    "        [200, 305, 410, 515, 620, 725, 830, 935, 1040, 1145, 1250, 1355, 1460, 1565, 1670]\n",
    "        \n",
    "   Les 15 premiers termes de Vn sont: \n",
    "\n",
    "        [3.0, 4.5, 6.75, 10.12, 15.19, 22.78, 34.17, 51.26, 76.89, 115.33, 173.0, 259.49, 389.24, 583.86, 875.79]\n",
    "\n",
    "Programmer la fonction qui affiche les n premiers termes d'une suite definie."
   ]
  },
  {
   "cell_type": "code",
   "execution_count": null,
   "metadata": {},
   "outputs": [],
   "source": [
    "\n",
    "def liste_termes2(n):\n",
    "    \n",
    "    #demander à l'utilisateur le 1er terme, la raison et le type de suite en une ligne\n",
    "    #votre code\n",
    "    \n",
    "    return L    "
   ]
  },
  {
   "cell_type": "code",
   "execution_count": null,
   "metadata": {},
   "outputs": [],
   "source": [
    "#tests\n",
    "print(liste_termes2(15))"
   ]
  }
 ],
 "metadata": {
  "celltoolbar": "Format de la Cellule Texte Brut",
  "kernelspec": {
   "display_name": "Python 3",
   "language": "python",
   "name": "python3"
  },
  "language_info": {
   "codemirror_mode": {
    "name": "ipython",
    "version": 3
   },
   "file_extension": ".py",
   "mimetype": "text/x-python",
   "name": "python",
   "nbconvert_exporter": "python",
   "pygments_lexer": "ipython3",
   "version": "3.7.6"
  }
 },
 "nbformat": 4,
 "nbformat_minor": 4
}
