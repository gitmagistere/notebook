{
 "cells": [
  {
   "cell_type": "markdown",
   "metadata": {},
   "source": [
    "# Probabilites"
   ]
  },
  {
   "cell_type": "markdown",
   "metadata": {},
   "source": [
    "1. Le module *random*  \n",
    "Ce module permet la génération de nombres aléatoires."
   ]
  },
  {
   "cell_type": "code",
   "execution_count": 1,
   "metadata": {},
   "outputs": [
    {
     "name": "stdout",
     "output_type": "stream",
     "text": [
      "0.38978869109130276\n",
      "5\n"
     ]
    }
   ],
   "source": [
    "#Exécuter, modifier et tester\n",
    "from random import *       #chargement de toutes les méthodes et attributs du module\n",
    "a=random()                 #renvoi un nombre aléatoire compris entre 0(inclus) et 1(exclus)\n",
    "b=randint(1,6)             #renvoi un nombre aléatoire compris entre 1(inclus) et 6(inclus!!!)\n",
    "print(a)\n",
    "print(b)"
   ]
  },
  {
   "cell_type": "markdown",
   "metadata": {},
   "source": [
    "2. Soit l'expérience aléatoire « lancer d’un dé à 6 faces ».  \n",
    "Programmer la fonction **de(n)** renvoyant la liste des résultats pour un échantillon de taille *n* .  \n",
    "Exemple:    *de(10)* renvoie une liste de la forme \n",
    "\n",
    "            [(1,3),(2,1),(4,3),(5,2),(6,1)]"
   ]
  },
  {
   "cell_type": "code",
   "execution_count": 2,
   "metadata": {},
   "outputs": [],
   "source": [
    "def liste_eff(L):              \n",
    "    X=[]\n",
    "    for x in L:\n",
    "        if x not in X:\n",
    "            X.append(x)         \n",
    "\n",
    "    L_eff=[]\n",
    "    for i in X:\n",
    "        eff=L.count(i)          \n",
    "        L_eff=L_eff+[(i,eff)]\n",
    "\n",
    "    return sorted(L_eff)        "
   ]
  },
  {
   "cell_type": "code",
   "execution_count": 4,
   "metadata": {},
   "outputs": [
    {
     "name": "stdout",
     "output_type": "stream",
     "text": [
      "[(1, 2), (2, 4), (4, 1), (5, 3)]\n"
     ]
    }
   ],
   "source": [
    "def de(n):\n",
    "    \n",
    "    #votre code\n",
    "    #Utiliser la fonction liste_eff()\n",
    "    \n",
    "    return L\n",
    "\n",
    "#test fonction\n",
    "print(de(10))"
   ]
  },
  {
   "cell_type": "markdown",
   "metadata": {},
   "source": [
    "3. Programmer la fonction *de_freq(n)* renvoyant la liste des fréquences des résultats précédents.  \n",
    "Exemple:    *de_freq(10)* renvoie une liste de la forme \n",
    "\n",
    "            [(1,30),(2,10),(4,30),(5,20),(6,10)]"
   ]
  },
  {
   "cell_type": "code",
   "execution_count": 10,
   "metadata": {},
   "outputs": [
    {
     "name": "stdout",
     "output_type": "stream",
     "text": [
      "[(1, 20.0), (2, 20.0), (3, 20.0), (6, 40.0)]\n"
     ]
    }
   ],
   "source": [
    "def de_freq(n):\n",
    "    \n",
    "    #votre code\n",
    "    \n",
    "    return L\n",
    "\n",
    "#test fonction\n",
    "print(de_freq(10))"
   ]
  },
  {
   "cell_type": "markdown",
   "metadata": {},
   "source": [
    "4. Soit l'expérience aléatoire « lancer de 2 dés à 6 faces ».  \n",
    "Programmer la fonction *de2(n)* renvoyant la liste des résultats pour un échantillon de taille *n* .  \n",
    "Exemple:    *de2(10)* renvoie une liste de la forme \n",
    "\n",
    "            [(2, 1), (5, 3), (6, 3), (11, 3)]"
   ]
  },
  {
   "cell_type": "code",
   "execution_count": null,
   "metadata": {},
   "outputs": [],
   "source": [
    "def de2(n):\n",
    "    \n",
    "    #votre code\n",
    "    \n",
    "    return L\n",
    "\n",
    "#test fonction\n",
    "print(de2(10))"
   ]
  },
  {
   "cell_type": "markdown",
   "metadata": {},
   "source": [
    "5. Programmer la fonction *de2_freq(n)* renvoyant la liste des fréquences des résultats précédents.  \n",
    "Exemple:    *de2_freq(10)* renvoie une liste de la forme \n",
    "\n",
    "            [(2, 10), (5, 30), (6, 30), (11, 30)]"
   ]
  },
  {
   "cell_type": "code",
   "execution_count": null,
   "metadata": {},
   "outputs": [],
   "source": [
    "def de2_freq(n):\n",
    "    \n",
    "    #votre code\n",
    "    \n",
    "    return L\n",
    "\n",
    "#test fonction\n",
    "print(de2_freq(10))"
   ]
  },
  {
   "cell_type": "markdown",
   "metadata": {},
   "source": [
    "6. ***Etude de la stabilisation relative des fréquences vers la probabilité de l'événement quand 𝑛 augmente.***  \n",
    "Programmer une fonction *de_taille(n)* qui renvoie la liste des fréquences de l'événement <i>\"6\"</i> en fonction des tailles de l’échantillon variant de 1 à *n* .   \n",
    "Exemple:    *de_taille(50)* renvoie une liste de la forme \n",
    "\n",
    "            [0.0, 50.0, 33.333, 25.0, 20.0, 16.667, 14.286, 12.5, 11.111, 10.0, 9.091, 8.333, 7.692, 7.143, 6.667, 6.25, 5.882, 5.556, 5.263, 5.0, 4.762, 4.545, 8.696, 8.333, 12.0, 11.538, 11.111, 14.286, 13.793, 16.667, 16.129, 15.625, 15.152, 17.647, 17.143, 16.667, 16.216, 15.789, 15.385, 15.0, 14.634, 14.286, 16.279, 15.909, 17.778, 17.391, 17.021, 16.667, 16.327, 16.0]"
   ]
  },
  {
   "cell_type": "code",
   "execution_count": 14,
   "metadata": {
    "collapsed": true
   },
   "outputs": [
    {
     "name": "stdout",
     "output_type": "stream",
     "text": [
      "[0.0, 0.0, 0.0, 0.0, 0.0, 0.0, 0.0, 0.0, 0.0, 0.0, 0.0, 0.0, 0.0, 0.0, 0.0, 0.0, 0.0, 0.0, 0.0, 0.0, 0.0, 0.0, 0.0, 0.0, 0.0, 0.0, 0.0, 0.0, 0.0, 0.0, 0.0, 0.0, 0.0, 0.0, 2.86, 5.56, 5.41, 5.26, 5.13, 5.0, 7.32, 7.14, 6.98, 6.82, 6.67, 8.7, 8.51, 10.42, 10.2, 10.0]\n"
     ]
    }
   ],
   "source": [
    "def de_taille(n):\n",
    "    from random import randint\n",
    "    liste_freq=[]              #initialisation de la liste des fréquences\n",
    "    eff6=0                     #initialisation de l'effectif de l'événement \"6\"\n",
    "    for i in range(1,n+1):\n",
    "        res=randint(1,6)\n",
    "        if res==6 :                     #tester si \"6\" est le résultat de l'expérience\n",
    "            eff6+=1                     #True: incrémantation de eff\n",
    "        freq=round(eff6/i*100,2)          #calcul de la fréquence\n",
    "        liste_freq.append(freq)     #ajout dans liste_freq de la fréquence\n",
    "    return liste_freq\n",
    "#test\n",
    "print(de_taille(50))"
   ]
  },
  {
   "cell_type": "code",
   "execution_count": 19,
   "metadata": {
    "collapsed": true
   },
   "outputs": [
    {
     "data": {
      "text/plain": [
       "<matplotlib.legend.Legend at 0x20a5f7001c8>"
      ]
     },
     "execution_count": 19,
     "metadata": {},
     "output_type": "execute_result"
    },
    {
     "data": {
      "image/png": "[encoded data removed]",
      "text/plain": [
       "<Figure size 432x288 with 1 Axes>"
      ]
     },
     "metadata": {
      "needs_background": "light"
     },
     "output_type": "display_data"
    }
   ],
   "source": [
    "#Représentation du nuage de points (taille, freq)\n",
    "#taille variant de 1 a n\n",
    "n=1000\n",
    "X=[i for i in range(1,n+1)]\n",
    "Y= de_taille(1000)                      \n",
    "plt.ylim(0,50)                          #limites de l'axe des ordonnées\n",
    "plt.scatter(X,Y,color=\"r\",marker=\"+\")   #fromatage des points\n",
    "plt.title(\"Variations de la fréquence en fonction \\n de la taille de l'échantillon\")\n",
    "plt.xlabel(\"tailles de l'échantillon\",color=\"b\")\n",
    "plt.ylabel(\"fréquences en %\", color=\"b\")\n",
    "\n",
    "#trace de la droite y = 1/6*100\n",
    "Y1=[1/6*100 for i in range(1,n+1)]\n",
    "plt.plot(X,Y1,color=\"b\",ls=\"--\",label=\"y=16,67%\")\n",
    "plt.legend()\n",
    "\n",
    "plt.show()"
   ]
  }
 ],
 "metadata": {
  "celltoolbar": "Format de la Cellule Texte Brut",
  "kernelspec": {
   "display_name": "Python 3",
   "language": "python",
   "name": "python3"
  },
  "language_info": {
   "codemirror_mode": {
    "name": "ipython",
    "version": 3
   },
   "file_extension": ".py",
   "mimetype": "text/x-python",
   "name": "python",
   "nbconvert_exporter": "python",
   "pygments_lexer": "ipython3",
   "version": "3.7.6"
  }
 },
 "nbformat": 4,
 "nbformat_minor": 4
}
