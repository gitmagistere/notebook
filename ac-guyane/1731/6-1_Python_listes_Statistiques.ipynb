{
 "cells": [
  {
   "cell_type": "markdown",
   "metadata": {},
   "source": [
    "# Statistiques"
   ]
  },
  {
   "cell_type": "markdown",
   "metadata": {},
   "source": [
    "1. Programmer la fonction *moy(L)* qui renvoie la moyenne des valeurs d'une liste L."
   ]
  },
  {
   "cell_type": "code",
   "execution_count": null,
   "metadata": {},
   "outputs": [],
   "source": [
    "def moy(L):\n",
    "    \n",
    "    #votre code\n",
    "    \n",
    "    return moyenne"
   ]
  },
  {
   "cell_type": "code",
   "execution_count": 6,
   "metadata": {},
   "outputs": [
    {
     "ename": "NameError",
     "evalue": "name 'moy' is not defined",
     "output_type": "error",
     "traceback": [
      "\u001b[1;31m---------------------------------------------------------------------------\u001b[0m",
      "\u001b[1;31mNameError\u001b[0m                                 Traceback (most recent call last)",
      "\u001b[1;32m<ipython-input-6-f3d1255678ac>\u001b[0m in \u001b[0;36m<module>\u001b[1;34m\u001b[0m\n\u001b[0;32m      4\u001b[0m      172, 187, 170, 172, 180, 178, 175, 172, 184, 177, 171, 179, 172, 180, 185, 191]\n\u001b[0;32m      5\u001b[0m \u001b[1;33m\u001b[0m\u001b[0m\n\u001b[1;32m----> 6\u001b[1;33m \u001b[0ma\u001b[0m\u001b[1;33m=\u001b[0m\u001b[0mmoy\u001b[0m\u001b[1;33m(\u001b[0m\u001b[0mL_tailles\u001b[0m\u001b[1;33m)\u001b[0m\u001b[1;33m\u001b[0m\u001b[1;33m\u001b[0m\u001b[0m\n\u001b[0m\u001b[0;32m      7\u001b[0m \u001b[0mprint\u001b[0m\u001b[1;33m(\u001b[0m\u001b[0ma\u001b[0m\u001b[1;33m)\u001b[0m\u001b[1;33m\u001b[0m\u001b[1;33m\u001b[0m\u001b[0m\n",
      "\u001b[1;31mNameError\u001b[0m: name 'moy' is not defined"
     ]
    }
   ],
   "source": [
    "#test: liste des tailles des élèves\n",
    "L_tailles = [169, 179, 181, 168, 172, 171, 189, 170, 165, 183, 171, 169, 177, 180, 176, 161,\n",
    "     174, 164, 166, 178, 176, 179, 181, 178, 160, 178, 183, 162, 181, 169, 184, 169,\n",
    "     172, 187, 170, 172, 180, 178, 175, 172, 184, 177, 171, 179, 172, 180, 185, 191]\n",
    "\n",
    "a=moy(L_tailles)\n",
    "print(a)"
   ]
  },
  {
   "cell_type": "markdown",
   "metadata": {},
   "source": [
    "2. Programmer la fonction *med(L)* renvoyant la médiane des valeurs d’une liste L."
   ]
  },
  {
   "cell_type": "code",
   "execution_count": null,
   "metadata": {},
   "outputs": [],
   "source": [
    "def med(L):\n",
    "    \n",
    "    #votre code\n",
    "    \n",
    "    return mediane\n",
    "\n",
    "#test\n",
    "print(med(L_tailles))"
   ]
  },
  {
   "cell_type": "markdown",
   "metadata": {},
   "source": [
    "3. La fonction *liste_eff(L)* ci-dessous retourne une liste de la forme [(v<sub>1</sub>, n<sub>1</sub>), (v<sub>2</sub>, n<sub>2</sub>), (v<sub>3</sub>, n<sub>3</sub>), ...] où v<sub>i</sub> sont les valeurs des éléments d'une liste L et n<sub>i</sub> les effectifs des valeurs.  \n",
    "Observer et exécuter le script suivant:"
   ]
  },
  {
   "cell_type": "code",
   "execution_count": 7,
   "metadata": {},
   "outputs": [],
   "source": [
    "def liste_eff(L):               #L est une liste\n",
    "    X=[]\n",
    "    for x in L:\n",
    "        if x not in X:\n",
    "            X.append(x)         #Que contient la liste X en sortie ??\n",
    "\n",
    "    L_eff=[]\n",
    "    for i in X:\n",
    "        eff=L.count(i)          #la méthode count compte le nombre d'occurence de la valeur i\n",
    "        L_eff=L_eff+[(i,eff)] \n",
    "\n",
    "    return sorted(L_eff)        #Que contient la liste L_eff en sortie ??"
   ]
  },
  {
   "cell_type": "code",
   "execution_count": 8,
   "metadata": {},
   "outputs": [
    {
     "name": "stdout",
     "output_type": "stream",
     "text": [
      "[(160, 1), (161, 1), (162, 1), (164, 1), (165, 1), (166, 1), (168, 1), (169, 4), (170, 2), (171, 3), (172, 5), (174, 1), (175, 1), (176, 2), (177, 2), (178, 4), (179, 3), (180, 3), (181, 3), (183, 2), (184, 2), (185, 1), (187, 1), (189, 1), (191, 1)]\n"
     ]
    }
   ],
   "source": [
    "#test: liste des tailles des élèves\n",
    "b=liste_eff(L_tailles)\n",
    "print(b)"
   ]
  },
  {
   "cell_type": "code",
   "execution_count": 9,
   "metadata": {},
   "outputs": [
    {
     "name": "stdout",
     "output_type": "stream",
     "text": [
      "(161, 1)\n",
      "161\n",
      "1\n"
     ]
    }
   ],
   "source": [
    "#exécuter et modifier le code suivant permettant l'accès aux valeurs\n",
    "b=liste_eff(L_tailles)\n",
    "print(b[1])       #affiche l'élément d'indice 1\n",
    "print(b[1][0])    #affiche l'élément de a[1] d'indice 0\n",
    "print(b[1][1])    #affiche l'élément de a[1] d'indice 1"
   ]
  },
  {
   "cell_type": "markdown",
   "metadata": {},
   "source": [
    "4. Programmer la fonction *liste_freq(L)* renvoyant les fréquences de chaque valeur d’une liste L."
   ]
  },
  {
   "cell_type": "code",
   "execution_count": null,
   "metadata": {},
   "outputs": [],
   "source": [
    "def liste_freq(L):\n",
    "    \n",
    "    #votre code   \n",
    "    #pensez à utiliser la fonction liste_eff\n",
    "    \n",
    "    return L_freq\n",
    "\n",
    "#test\n",
    "print(liste_freq(L_tailles))"
   ]
  }
 ],
 "metadata": {
  "celltoolbar": "Format de la Cellule Texte Brut",
  "kernelspec": {
   "display_name": "Python 3",
   "language": "python",
   "name": "python3"
  },
  "language_info": {
   "codemirror_mode": {
    "name": "ipython",
    "version": 3
   },
   "file_extension": ".py",
   "mimetype": "text/x-python",
   "name": "python",
   "nbconvert_exporter": "python",
   "pygments_lexer": "ipython3",
   "version": "3.7.6"
  }
 },
 "nbformat": 4,
 "nbformat_minor": 4
}
