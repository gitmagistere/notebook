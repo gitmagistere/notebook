{
 "cells": [
  {
   "cell_type": "markdown",
   "metadata": {},
   "source": [
    "# Ecrire dans un fichier"
   ]
  },
  {
   "cell_type": "code",
   "execution_count": 20,
   "metadata": {},
   "outputs": [],
   "source": [
    "import os\n",
    "\n",
    "#Si le fichier existe \n",
    "if os.path.exists(\"data.txt\"):\n",
    "    fichier = open(\"data.txt\",\"w\")  #On l'ouvre en ecriture option: w\n",
    "else:\n",
    "    fichier =open(\"data.txt\",\"x\")   #Sinon on le créé et on l'ouvre en ecriture option: x\n",
    "    \n",
    "#on ecrit dans le fichier\n",
    "fichier.write(\"Bonjour je sais ecrire dans un fichier en python.\\nC'est pas trés compliqué\")\n",
    "    \n",
    "#On ferme le fichier (IMPORTANT)    \n",
    "fichier.close()\n",
    "\n",
    "\n",
    "#COPIER SE CODE DANS VOTRE IDE PYTHON PUIS L'EXECUTER , OUVRIR LE FICHIER CREER VOIR VOIR RESULTAT"
   ]
  },
  {
   "cell_type": "markdown",
   "metadata": {},
   "source": [
    "# Lire le contenu du fichier et l'afficher sur la console python"
   ]
  },
  {
   "cell_type": "code",
   "execution_count": 24,
   "metadata": {},
   "outputs": [
    {
     "name": "stdout",
     "output_type": "stream",
     "text": [
      "Bonjour je sais ecrire dans un fichier en python.\n",
      "\n"
     ]
    }
   ],
   "source": [
    "import os\n",
    "\n",
    "#Si le fichier existe \n",
    "if os.path.exists(\"data.txt\"):\n",
    "    fichier = open(\"data.txt\",\"r\")  #On l'ouvre en lecture option: r\n",
    "    \n",
    "    #on affiche son contenu\n",
    "    print(fichier.readline())      #On peut utiliser aussi readline(): ligne par ligne ou readlines() qui rnvoi une liste\n",
    "                                   #contenant chaque ligne\n",
    "    \n",
    "    \n",
    "    #On ferme le fichier (IMPORTANT)    \n",
    "    fichier.close()\n",
    "else:\n",
    "    print(\"Désolé, Le fichier n'existe pas\")\n",
    "    \n",
    "#COPIER SE CODE DANS VOTRE IDE PYTHON PUIS L'EXECUTER , OBSERVER LE RESULTAT DANS LA CONSOLE"
   ]
  },
  {
   "cell_type": "markdown",
   "metadata": {},
   "source": [
    "# Exercices d'applications"
   ]
  },
  {
   "cell_type": "markdown",
   "metadata": {},
   "source": [
    "## Exercice 1\n",
    "\n",
    "Copier et completer le code de la fonction **```  ecrireFichier()```**   permettant d'ecrire le contenu suivant dans un fichier **\"python_wiki.txt\"**:\n",
    "\n",
    "<blockquote>\"Python est un langage de programmation interprété, multi-paradigme et multiplateformes.  \n",
    "    Il favorise la programmation impérative structurée, fonctionnelle et orientée objet.  \n",
    "    Il est doté d'un typage dynamique fort, d'une gestion automatique de la mémoire par ramasse-miettes.\"</blockquote>\n",
    "<p style='text-align: right;'><b>source Wikipédia</b></p>\n"
   ]
  },
  {
   "cell_type": "code",
   "execution_count": 1,
   "metadata": {
    "collapsed": true
   },
   "outputs": [
    {
     "ename": "SyntaxError",
     "evalue": "invalid syntax (<ipython-input-1-a86afc095823>, line 2)",
     "output_type": "error",
     "traceback": [
      "\u001b[1;36m  File \u001b[1;32m\"<ipython-input-1-a86afc095823>\"\u001b[1;36m, line \u001b[1;32m2\u001b[0m\n\u001b[1;33m    def ecrireFichier(nom_fic)\u001b[0m\n\u001b[1;37m                              ^\u001b[0m\n\u001b[1;31mSyntaxError\u001b[0m\u001b[1;31m:\u001b[0m invalid syntax\n"
     ]
    }
   ],
   "source": [
    "#fonction qui ecrit un message dans un fichier dans le nom est donné en paramtre (nom_fic)\n",
    "def ecrireFichier(nom_fic)\n",
    "   \n",
    "    #variable texte contenant le texte a inserer dans le fichier\n",
    "    texte =\"\"\" \"\"\"\n",
    "\n",
    "\n",
    "    #Ouvrir le fichier et ecraser le contenu si il existe sinon le créer\n",
    "\n",
    "    # A compléter\n",
    "\n",
    "    #Ecrire le texte dans fichier\n",
    "    # A compléter\n",
    "\n",
    "\n",
    "    #fermeture du fichier\n",
    "    fichier.close()\n",
    "    \n",
    "#test de la fonction\n",
    "ecrireFichier(\"python_wiki.txt\")"
   ]
  },
  {
   "cell_type": "markdown",
   "metadata": {},
   "source": [
    "## Exercice 2\n",
    "\n",
    "Copier et completer code de la fonction **```  lireFichier()```** permettant d'afficher ligne par ligne le contenu du fichier **python_wiki.txt** et le nombre total de ligne sur la console python (fonction **```print()```**)\n"
   ]
  },
  {
   "cell_type": "code",
   "execution_count": 2,
   "metadata": {
    "collapsed": true
   },
   "outputs": [
    {
     "ename": "SyntaxError",
     "evalue": "invalid syntax (<ipython-input-2-06b6c8fff32f>, line 5)",
     "output_type": "error",
     "traceback": [
      "\u001b[1;36m  File \u001b[1;32m\"<ipython-input-2-06b6c8fff32f>\"\u001b[1;36m, line \u001b[1;32m5\u001b[0m\n\u001b[1;33m    if ...\u001b[0m\n\u001b[1;37m          ^\u001b[0m\n\u001b[1;31mSyntaxError\u001b[0m\u001b[1;31m:\u001b[0m invalid syntax\n"
     ]
    }
   ],
   "source": [
    "def lireFichier(nom_fic):\n",
    "    import os\n",
    "\n",
    "    #Si le fichier existe on l'ouvre\n",
    "    if ...\n",
    "\n",
    "        #On récupère toutes les lignes\n",
    "        lignes = ...\n",
    "\n",
    "        #on boucle sur chaque ligne et on l'affiche\n",
    "        for ...\n",
    "        \n",
    "        \n",
    "        #on affiche le nombre de lignes\n",
    "        print( .... )\n",
    "\n",
    "        #On ferme le fichier\n",
    "        fichier.close()\n",
    "    else:\n",
    "        #Si le fichier n'existe\n",
    "        print( ... )\n",
    "        \n",
    "#test de la fonction\n",
    "lireFichier(\"python_wiki.txt\")"
   ]
  },
  {
   "cell_type": "markdown",
   "metadata": {},
   "source": [
    "##  Exercice 3\n",
    "\n",
    "Copier et completer code de la fonction **```  ecrireAdresse()```** permettant de demander à l'utilisateur de saisir sont nom , prenom , addresse postale puis l'enregistre dans fichier **adresse.txt** avec le format suivant\n",
    "\n",
    "<blockquote>\n",
    "    Nom : Jaeger Eren<br/>\n",
    "    Adresse : 10 rue Shinganshina<br/>\n",
    "    Code postale: 97351<br/>\n",
    "    Ville : MATOURY<br/>  \n",
    "</blockquote>\n"
   ]
  },
  {
   "cell_type": "code",
   "execution_count": 25,
   "metadata": {
    "collapsed": true
   },
   "outputs": [
    {
     "name": "stdout",
     "output_type": "stream",
     "text": [
      "Cayenne\n"
     ]
    },
    {
     "data": {
      "text/plain": [
       "{'numero': '13',\n",
       " 'rue': 'Rue St John',\n",
       " 'ville': 'Cayenne',\n",
       " 'codepostale': 97300}"
      ]
     },
     "execution_count": 25,
     "metadata": {},
     "output_type": "execute_result"
    }
   ],
   "source": [
    "def ecrireAdresse(nom_fic):\n",
    "    import os\n",
    "\n",
    "    #On recupere l'adresse dans une liste saisir : nom,rue,code postale,ville séparé par des \";\"\n",
    "    l_adresse = input(...)\n",
    "\n",
    "    #On ouvre le fichier addresse.txt en ecriture\n",
    "    if os.path.exists(nom_fic):\n",
    "        fichier = open(nom_fic,\"w\")\n",
    "    else:\n",
    "        fichier = open(nom_fic,\"x\")\n",
    "\n",
    "    #On crée une chaine de caractère qui contiendra l'adresse\n",
    "    texte_fic = \"\"\n",
    "\n",
    "    #On ajoute chaque élement de la liste L_adresse à la chaine de caractère \n",
    "    for ...\n",
    "\n",
    "    #On ecrit dans le fichier\n",
    "    fichier.write(texte_fic)\n",
    "\n",
    "    #On ferme le fichier\n",
    "    fichier.close()\n",
    "\n",
    "#Test de la fonction\n",
    "ecrireAdresse(\"adresse.txt\")"
   ]
  },
  {
   "cell_type": "markdown",
   "metadata": {},
   "source": [
    "## Exercice 4\n",
    "\n",
    "Copier et completer le code des fonctions suivantes permettant de  \n",
    "+ Récupérer une liste de taille dans le fichier **\"tailles.csv\"**.  \n",
    "+ Calculer la moyenne et la mediane **(utiliser les fonction med() et moy() vues lors de la 2e journée partie Statistiques)** \n",
    "+ Ajouter à la fin du fichier la mediane et la moyenne calculées  \n",
    "\n",
    "**Le résultat final du fichier doit être le suivant:**  \n",
    "\n",
    "<blockquote>\n",
    "188;158;176;190;151;166;185;190;166\n",
    "161;171;195;198;179;158;159;199;157\n",
    "178;166;152;198;196;189;159;198;189\n",
    "191;158;195;196;150;183;184;192;166\n",
    "163;164;181;168;164;150;177;155;170\n",
    "159;185;166;151;175;190;153;186;184\n",
    "158;155;156;160;196;154;180;190;190  \n",
    "    \n",
    "\n",
    "    ------------------Résultat------------------\n",
    "\n",
    "MEDIANE :175  \n",
    "MOYENNE :174.08\n",
    "    \n",
    "</blockquote>\n",
    "\n",
    "<a href=\"https://drive.google.com/file/d/1CclGHhsi8y-jntdzxdPfMSQRQQMIrfFF/view?usp=sharing\">Fichier <b>tailles.cvs</b> à télécharger :</a>\n",
    " "
   ]
  },
  {
   "cell_type": "code",
   "execution_count": 17,
   "metadata": {
    "collapsed": true
   },
   "outputs": [
    {
     "name": "stdout",
     "output_type": "stream",
     "text": [
      "La clé 'codepostale' existe dans le dictionnaire\n",
      "La clé 'pays' n'existe pas dans le dictionnaire\n"
     ]
    }
   ],
   "source": [
    "#AJOUTER ICI LES FONCTIONS med() et moy() (Voir 1ere journée partie Statisitques)\n",
    "\n",
    "\n",
    "#Renvoi une liste contenant chaque taille du fichier taille.csv\n",
    "def convertToListeTaille(nom_fic):\n",
    "    import os\n",
    "\n",
    "    liste_tailles=[]\n",
    "\n",
    "    #Ouverture du fichier en lecture r : read\n",
    "    if os.path.exists(nom_fic):\n",
    "        fichier = open(nom_fic,\"r\")\n",
    "\n",
    "        #on récupère chaque ligne du fichier dans une liste\n",
    "        ....\n",
    "\n",
    "        #fermeture du fichier\n",
    "        fichier.close()\n",
    "\n",
    "        #On supprime les sauts de lignes \"\\n\"\n",
    "        ...\n",
    "\n",
    "        #On concatène toutes les lignes en une seule\n",
    "        chaines_tailles =\"\"\n",
    "        for ...\n",
    "\n",
    "        #On récupère chaque taille séparée par le \";\"\n",
    "        ...\n",
    "        \n",
    "        #On trie la liste\n",
    "        ...\n",
    "\n",
    "        #On supprime les chaines vides\n",
    "        ...\n",
    "\n",
    "        #on converti les chaines de caractère en entier\n",
    "        ...\n",
    "        \n",
    "\n",
    "        #on renvoie la liste des tailles\n",
    "    return liste_tailles\n",
    "\n",
    "\n",
    "#Ecrire du texte à la fin du fichier\n",
    "def ajoutTexte(fichier,texte):\n",
    "\n",
    "    #Ouveture du fichier en ecriture à la fin du fichier append : a+\n",
    "    file = open(fichier,\"a+\")\n",
    "\n",
    "    #Ajout du texte\n",
    "    ...\n",
    "\n",
    "\n",
    "    #fermeture du fichier\n",
    "    file.close()\n",
    "    return\n",
    "\n",
    "\n",
    "#test\n",
    "l_tailles = convertToListeTaille(\"tailles.csv\")\n",
    "ajoutTexte(\"tailles.csv\",\"\\n------------------Résultat------------------\\n\")\n",
    "ajoutTexte(\"tailles.csv\",\"MEDIANE :\"+str(med(l_tailles)))\n",
    "ajoutTexte(\"tailles.csv\",\"MOYENNE :\"+str(moy(l_tailles)))"
   ]
  }
 ],
 "metadata": {
  "kernelspec": {
   "display_name": "Python 3",
   "language": "python",
   "name": "python3"
  },
  "language_info": {
   "codemirror_mode": {
    "name": "ipython",
    "version": 3
   },
   "file_extension": ".py",
   "mimetype": "text/x-python",
   "name": "python",
   "nbconvert_exporter": "python",
   "pygments_lexer": "ipython3",
   "version": "3.7.6"
  }
 },
 "nbformat": 4,
 "nbformat_minor": 4
}
