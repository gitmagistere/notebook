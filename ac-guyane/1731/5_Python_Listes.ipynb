{
 "cells": [
  {
   "cell_type": "markdown",
   "metadata": {},
   "source": [
    "# Les listes"
   ]
  },
  {
   "cell_type": "markdown",
   "metadata": {},
   "source": [
    "Une liste est une structure de données qui contient une série de valeurs de types différents (par exemple entier et chaîne de caractères), on dit que les listes sont des **objets conteneurs**. Une liste est déclarée par une série de valeurs (n'oubliez pas les guillemets, simples ou doubles, s'il s'agit de chaînes de caractères) **séparées par des virgules**, et **le tout encadré par des crochets**. En voici quelques exemples :"
   ]
  },
  {
   "cell_type": "markdown",
   "metadata": {},
   "source": [
    "## Générer une liste"
   ]
  },
  {
   "cell_type": "code",
   "execution_count": 1,
   "metadata": {},
   "outputs": [],
   "source": [
    "liste1=list()                  #affectation d'une liste vide à la variable liste1\n",
    "liste2=[]                      #création d'une liste vide\n",
    "liste2=[11,22,33,\"hello\"]      #les éléments d'une liste sont placés entre des [ ], les éléments sont séparés par des ,\n"
   ]
  },
  {
   "cell_type": "markdown",
   "metadata": {},
   "source": [
    "## Manipuler les éléments d\"une liste"
   ]
  },
  {
   "cell_type": "markdown",
   "metadata": {},
   "source": [
    "### Accéder aux éléments d'une liste"
   ]
  },
  {
   "cell_type": "markdown",
   "metadata": {},
   "source": [
    "Lorsqu'on affiche une liste Pyhton affiche la liste telle qu'elle a été saisie. Pour accéder a un élément , il faut utiliser sa position, c'est à dire un index de la liste. Le premier index est a la position 0\n",
    "\n",
    "Exemple :\n",
    "ma_liste : [  11  , 22  ,  33  ,  44  ,  \"hello\"]\n",
    "\n",
    "index    :     0     1      2      3        4\n",
    "\n",
    "\n",
    "Exécuter le code et/ou modifier les codes suivants et observer les résultats. "
   ]
  },
  {
   "cell_type": "code",
   "execution_count": 5,
   "metadata": {},
   "outputs": [
    {
     "name": "stdout",
     "output_type": "stream",
     "text": [
      "[11, 22, 33, 44, 'hello']\n"
     ]
    }
   ],
   "source": [
    "ma_liste=[11,22,33,44,\"hello\"]\n",
    "print(ma_liste)"
   ]
  },
  {
   "cell_type": "code",
   "execution_count": 3,
   "metadata": {},
   "outputs": [
    {
     "data": {
      "text/plain": [
       "44"
      ]
     },
     "execution_count": 3,
     "metadata": {},
     "output_type": "execute_result"
    }
   ],
   "source": [
    "ma_liste=[11,22,33,44,\"hello\"]\n",
    "ma_liste[3]  #le 1er élément de la liste est de rang 0. Tester avec d'autres valeurs de l'indice."
   ]
  },
  {
   "cell_type": "code",
   "execution_count": 7,
   "metadata": {},
   "outputs": [
    {
     "data": {
      "text/plain": [
       "44"
      ]
     },
     "execution_count": 7,
     "metadata": {},
     "output_type": "execute_result"
    }
   ],
   "source": [
    "#en partant de la fin de la liste\n",
    "\n",
    "ma_liste[-2]  #tester avec d'autres valeurs"
   ]
  },
  {
   "cell_type": "code",
   "execution_count": null,
   "metadata": {},
   "outputs": [],
   "source": [
    "#accès à plusieurs valeurs\n",
    "\n",
    "ma_liste[1:4]   #accès aux valeurs comprises entre les rangs 1 et 4-1=3 \n",
    "                #en Python ,le dernier indice est très souvent exclu"
   ]
  },
  {
   "cell_type": "code",
   "execution_count": null,
   "metadata": {},
   "outputs": [],
   "source": [
    "#accès à des valeurs en partant du début de la liste\n",
    "\n",
    "ma_liste[:3]  #renvoie les valeurs du début jusqu'au rang 3-1=2"
   ]
  },
  {
   "cell_type": "code",
   "execution_count": null,
   "metadata": {},
   "outputs": [],
   "source": [
    "#accès à des valeurs jusqu'à la fin de la liste\n",
    "\n",
    "ma_liste[2:]  #renvoie les valeurs du rang 2 jusqu'à la fin"
   ]
  },
  {
   "cell_type": "markdown",
   "metadata": {},
   "source": [
    "### Insérer des objets"
   ]
  },
  {
   "cell_type": "code",
   "execution_count": null,
   "metadata": {},
   "outputs": [],
   "source": [
    "#LA METHODE append(objet) AJOUTE UN OBJET EN FIN DE LISTE\n",
    "ma_liste=[11,22,33,44,\"hello\"]\n",
    "ma_liste.append(2.5)    #tester avec d'autres objets (\"salut\", [1,2,3],...)\n",
    "ma_liste"
   ]
  },
  {
   "cell_type": "code",
   "execution_count": null,
   "metadata": {},
   "outputs": [],
   "source": [
    "#LA METHODE insert(indice, objet) AJOUTE UN OBJET A L'INDICE DONNE\n",
    "\n",
    "ma_liste=[11,22,33,44,\"hello\"]\n",
    "ma_liste.insert(2, \"salut\")    #tester avec d'autres indices et objets\n",
    "ma_liste"
   ]
  },
  {
   "cell_type": "markdown",
   "metadata": {},
   "source": [
    "### Concaténation de listes"
   ]
  },
  {
   "cell_type": "code",
   "execution_count": null,
   "metadata": {},
   "outputs": [],
   "source": [
    "#UTILISATION DU SYMBOLE +\n",
    "\n",
    "liste1=[\"lundi\",\"mardi\"]\n",
    "liste2=[25,12]\n",
    "liste3=liste1+liste2  #la variable liste3 reçoit la concaténation\n",
    "liste3"
   ]
  },
  {
   "cell_type": "code",
   "execution_count": 8,
   "metadata": {},
   "outputs": [
    {
     "data": {
      "text/plain": [
       "[5.4, 10.3, 5, 6]"
      ]
     },
     "execution_count": 8,
     "metadata": {},
     "output_type": "execute_result"
    }
   ],
   "source": [
    "#UTILISATION DE LA METHODE extend(liste)\n",
    "\n",
    "liste1=[5,6]\n",
    "liste2=[5.4,10.3]\n",
    "liste2.extend(liste1)  #la méthode modifie la variable liste2\n",
    "liste2"
   ]
  },
  {
   "cell_type": "markdown",
   "metadata": {},
   "source": [
    "### Supprimer des objets"
   ]
  },
  {
   "cell_type": "code",
   "execution_count": null,
   "metadata": {},
   "outputs": [],
   "source": [
    "#UTILISATION DE LE MOT-CLE del\n",
    "\n",
    "ma_liste=[11,22,33,44,\"hello\"]\n",
    "del ma_liste[2]     #supprime l'objet de rang 2\n",
    "ma_liste"
   ]
  },
  {
   "cell_type": "code",
   "execution_count": null,
   "metadata": {},
   "outputs": [],
   "source": [
    "#UTILISATION DE LA METHODE remove(objet_de_la_liste)\n",
    "\n",
    "ma_liste=[11,22,33,44,\"hello\"]\n",
    "ma_liste.remove(11)\n",
    "ma_liste"
   ]
  },
  {
   "cell_type": "markdown",
   "metadata": {},
   "source": [
    "### Trier des objets"
   ]
  },
  {
   "cell_type": "code",
   "execution_count": null,
   "metadata": {},
   "outputs": [],
   "source": [
    "#UTILISATION DE LA METHODE sort()\n",
    "\n",
    "ma_liste=[22,11,333.5,44]\n",
    "ma_liste.sort()              #tri par ordre croissant\n",
    "                             #tester avec des chaines de caractères \"janvier\", \"février\", \"mars\", ...\n",
    "ma_liste"
   ]
  },
  {
   "cell_type": "code",
   "execution_count": null,
   "metadata": {},
   "outputs": [],
   "source": [
    "ma_liste.sort(reverse=True)   #tri par ordre décroissant\n",
    "                              #la méthode sort() utilise un paramètre reverse \n",
    "                              #qui prend les valeurs True ou False (par défaut)\n",
    "ma_liste"
   ]
  },
  {
   "cell_type": "code",
   "execution_count": null,
   "metadata": {},
   "outputs": [],
   "source": [
    "#UTILISATION DE LA FONCTION sorted()\n",
    "\n",
    "ma_liste=[22,11,333.5,44]\n",
    "liste1=sorted(ma_liste)              #tri par ordre croissant\n",
    "liste2=sorted(ma_liste,reverse=True) #tri par ordre décroissant\n",
    "\n",
    "print(\"tri par ordre croissant: \", liste1, \"; tri par ordre décroissant: \",liste2)"
   ]
  },
  {
   "cell_type": "markdown",
   "metadata": {},
   "source": [
    "## Parcourir une liste"
   ]
  },
  {
   "cell_type": "markdown",
   "metadata": {},
   "source": [
    "### En utilisant des boucles (**while** ou **for**)\n",
    "\n",
    "Ces méthodes sont identiques à celles utilisées pour le parcours des chaines de caractères."
   ]
  },
  {
   "cell_type": "code",
   "execution_count": 9,
   "metadata": {
    "collapsed": true
   },
   "outputs": [
    {
     "name": "stdout",
     "output_type": "stream",
     "text": [
      "a\n",
      "b\n",
      "c\n",
      "d\n"
     ]
    }
   ],
   "source": [
    "ma_liste=[\"a\",\"b\",\"c\",\"d\"]\n",
    "i=0   #initialisation de la variable i\n",
    "while i<len(ma_liste):        #len(ma_liste) renvoie la longueur de la liste (ici len(ma_liste=4)\n",
    "                              #i prendra comme valeurs 0,1,2,3\n",
    "    print(ma_liste[i])\n",
    "    i=i+1   #incrémentation de la variable"
   ]
  },
  {
   "cell_type": "code",
   "execution_count": 10,
   "metadata": {
    "collapsed": true
   },
   "outputs": [
    {
     "name": "stdout",
     "output_type": "stream",
     "text": [
      "a\n",
      "b\n",
      "c\n",
      "d\n"
     ]
    }
   ],
   "source": [
    "ma_liste=[\"a\",\"b\",\"c\",\"d\"]\n",
    "for i in ma_liste:            #i prendra comme valeur chaque ELEMENTS de ma_liste\n",
    "    print(i)"
   ]
  },
  {
   "cell_type": "markdown",
   "metadata": {},
   "source": [
    "### En utilisant la fonction **enumerate()**"
   ]
  },
  {
   "cell_type": "code",
   "execution_count": 11,
   "metadata": {
    "collapsed": true
   },
   "outputs": [
    {
     "name": "stdout",
     "output_type": "stream",
     "text": [
      "la lettre a se trouve à l'indice 0\n",
      "la lettre b se trouve à l'indice 1\n",
      "la lettre c se trouve à l'indice 2\n",
      "la lettre d se trouve à l'indice 3\n"
     ]
    }
   ],
   "source": [
    "ma_liste=[\"a\",\"b\",\"c\",\"d\"]\n",
    "for i,j in enumerate(ma_liste):      #La fonction enumerate() prend en paramètre une liste;\n",
    "                                     #elle renvoie des couples (indice, valeur);\n",
    "                                     #les indices et les valeurs sont affectés aux variables i et j\n",
    "    print(\"la lettre {} se trouve à l'indice {}\".format (j,i))"
   ]
  },
  {
   "cell_type": "markdown",
   "metadata": {},
   "source": [
    "## Les compréhensions de listes"
   ]
  },
  {
   "cell_type": "markdown",
   "metadata": {},
   "source": [
    "- Extrait *BO* Programmes de **Mathématiques** 1 BCP et T BCP :\n",
    "\n",
    " **Commentaires**  \n",
    " - Les listes peuvent être générées en extension, par ajouts successifs d’éléments, et en compréhension."
   ]
  },
  {
   "cell_type": "markdown",
   "metadata": {},
   "source": [
    "Les compréhensions de listes permettent de parcourir une liste et d'en renvoyer une seconde modifiée ou non.  \n",
    "La syntaxe pour effectuer un filtrage est la suivante:\n",
    "\n",
    "        nouvelle_sequence = [operation_sur_element  for  element  in  ancienne_sequence  if  condition]"
   ]
  },
  {
   "cell_type": "code",
   "execution_count": 12,
   "metadata": {
    "collapsed": true
   },
   "outputs": [
    {
     "name": "stdout",
     "output_type": "stream",
     "text": [
      "[0, 1, 4, 9, 16, 25]\n"
     ]
    }
   ],
   "source": [
    "#PARCOURS SIMPLE\n",
    "#création d'une liste contenant les valeurs au carré d'une liste donnée\n",
    "\n",
    "liste1=[0,1,2,3,4,5]\n",
    "liste2=[nb*nb for nb in liste1]  #renvoie la liste des carrés des éléments de liste1\n",
    "print(liste2)                    #tester et créer d'autre listes (cube, ajout d'une constante, ...)"
   ]
  },
  {
   "cell_type": "code",
   "execution_count": null,
   "metadata": {},
   "outputs": [],
   "source": [
    "#FILTRAGE AVEC BRANCHEMENT CONDITIONNEL\n",
    "#création d'une liste contenant les valeurs au carré des valeurs paires d'une liste donnée\n",
    "l\n",
    "iste1=[0,1,2,3,4,5]\n",
    "liste2=[nb*nb for nb in liste1 if nb%2==0]  #nb%2==0 est un test: True si le reste de la division entière \n",
    "                                            #de nb par 2 est 0, False sinon\n",
    "                                            #nb prend les valeurs de liste1 si le résultat du test est True \n",
    "                                            #(soit les valeurs paires)\n",
    "print(liste2)"
   ]
  },
  {
   "cell_type": "markdown",
   "metadata": {},
   "source": [
    "## Quelques fonctions utiles sur les listes"
   ]
  },
  {
   "cell_type": "code",
   "execution_count": 13,
   "metadata": {
    "collapsed": true
   },
   "outputs": [
    {
     "data": {
      "text/plain": [
       "3"
      ]
     },
     "execution_count": 13,
     "metadata": {},
     "output_type": "execute_result"
    }
   ],
   "source": [
    "#Fonction len() : permet de connaitre la longueur d'une liste, c'est a dire le nombre d'élémnts qu'elle contient\n",
    "\n",
    "classes=[\"2nde\",\"1ère\", \"Terminale\"]\n",
    "len(classes)"
   ]
  },
  {
   "cell_type": "code",
   "execution_count": 23,
   "metadata": {
    "collapsed": true
   },
   "outputs": [
    {
     "name": "stdout",
     "output_type": "stream",
     "text": [
      "[0, 1, 2, 3, 4, 5, 6, 7, 8, 9]\n",
      "[1, 2, 3, 4, 5, 6]\n",
      "[0, 2, 4, 6, 8]\n"
     ]
    }
   ],
   "source": [
    "#Fonctions range() et list()\n",
    "\n",
    "liste1=list(range(10))                           #Créer une liste contenant tous les nombres entiers de 0 à 9\n",
    "liste2=list(range(1,7))                          #Créer une list contenant les nombres entiers de 1 à 6\n",
    "liste3=list(range(0,10,2))                       #Créer une list compris entre 0 et 10 (exclus) avec un pas de 2\n",
    "\n",
    "print(liste1)\n",
    "print(liste2)\n",
    "print(liste3)"
   ]
  },
  {
   "cell_type": "code",
   "execution_count": 27,
   "metadata": {
    "collapsed": true
   },
   "outputs": [
    {
     "name": "stdout",
     "output_type": "stream",
     "text": [
      "[['AMA', 'TCB', 'TGT', 'TEB'], ['TCI', 'COBA', 'PP', 'MIS']]\n"
     ]
    }
   ],
   "source": [
    "#listes de liste\n",
    "\n",
    "secondeBP=[\"AMA\", \"TCB\",\"TGT\",\"TEB\"]\n",
    "premiereCAP=[\"TCI\", \"COBA\",\"PP\",\"MIS\"]\n",
    "classes=[secondeBP,premiereCAP]             #Créer un liste ou chaque élément est une liste\n",
    "print(classes)"
   ]
  },
  {
   "cell_type": "code",
   "execution_count": 30,
   "metadata": {
    "collapsed": true
   },
   "outputs": [
    {
     "name": "stdout",
     "output_type": "stream",
     "text": [
      "['AMA', 'TCB', 'TGT', 'TEB']\n",
      "AMA\n"
     ]
    }
   ],
   "source": [
    "#Acces aux éléments de la liste et des sous listes\n",
    "\n",
    "print(classes[0])                                   #Permet d'afficher la 1ere liste\n",
    "print(classes[0][0])                                #Permet d'afficher le 1er élément de la 1ère liste"
   ]
  },
  {
   "cell_type": "code",
   "execution_count": 31,
   "metadata": {
    "collapsed": true
   },
   "outputs": [
    {
     "name": "stdout",
     "output_type": "stream",
     "text": [
      "Le minimum de la liste est : 0\n",
      "Le maximum de la liste est : 9\n",
      "La somme de la liste est : 45\n"
     ]
    }
   ],
   "source": [
    "#Les fonctions min() , max() et sum()\n",
    "\n",
    "ma_liste=list(range(10))\n",
    "print(\"Le minimum de la liste est :\",min(ma_liste))\n",
    "print(\"Le maximum de la liste est :\",max(ma_liste))\n",
    "print(\"La somme de la liste est :\",sum(ma_liste))\n"
   ]
  }
 ],
 "metadata": {
  "celltoolbar": "Aucun(e)",
  "kernelspec": {
   "display_name": "Python 3",
   "language": "python",
   "name": "python3"
  },
  "language_info": {
   "codemirror_mode": {
    "name": "ipython",
    "version": 3
   },
   "file_extension": ".py",
   "mimetype": "text/x-python",
   "name": "python",
   "nbconvert_exporter": "python",
   "pygments_lexer": "ipython3",
   "version": "3.7.6"
  }
 },
 "nbformat": 4,
 "nbformat_minor": 4
}
