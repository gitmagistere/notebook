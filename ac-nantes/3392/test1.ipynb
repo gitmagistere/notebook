{
 "cells": [
  {
   "cell_type": "markdown",
   "metadata": {},
   "source": [
    "<div style=\"background-color:whitesmoke;padding:10px;\">\n",
    "    <h2>Activité 1 : des test de primalité</h2>\n",
    "    <p style=\"font-size:12px;\">L'objectif ici est d'écrire plusieurs tests de primalité et de tester leur rapidité.</p>\n",
    "</div>"
   ]
  },
  {
   "cell_type": "markdown",
   "metadata": {},
   "source": [
    "<h3> Un test de primalité</h3>\n",
    "<p style=\"font-size:12px;\">Un test de primalité des un algorithme permettant de savoir si un nombre des premier. Le test  le plus simple est le suivant : pour tester *N*, on vérifie s'il est divisible par l'un des entiers compris au sens large entre 2 et *N*-1. Si la réponse est négative, alors *N* est premier, sinon il est composé.</p>"
   ]
  },
  {
   "cell_type": "code",
   "execution_count": 1,
   "metadata": {},
   "outputs": [],
   "source": [
    "def prem1(n):\n",
    "    assert n>=2\n",
    "    for i in range (2,n,1):\n",
    "        if n%i==0:\n",
    "            return False\n",
    "    return True"
   ]
  },
  {
   "cell_type": "markdown",
   "metadata": {},
   "source": [
    "Remarques\n",
    "<ul>\n",
    "    <li>la fonction renvoie une valeur booléenne, c'est-à-dire ou bien True, ou bien False.</li>\n",
    "<li>On remarque que dès qu'on trouve un diviseur d on renvoie False : l'instruction return permet à la fois de renvoyer le résultat attendu et d'interrompre l'itération.</li>\n",
    "\n",
    "<li>Quand on divise deux entiers n et i,   </li>\n",
    "\n",
    " <ul>\n",
    "    <li>n%i renvoie le reste de la division eucliienne de n par i,</li>\n",
    "    <li>n//i renvoie le quotien, alors que n/i renvoie le quotien décimal.</li>\n",
    " </ul>\n",
    "\n",
    "</ul>\n",
    "   \n",
    "Tester l'algorithme avec des nombres premiers et des nombres composés ayant 4, 5 et 6 chiffres."
   ]
  },
  {
   "cell_type": "code",
   "execution_count": 12,
   "metadata": {},
   "outputs": [
    {
     "data": {
      "text/plain": [
       "False"
      ]
     },
     "execution_count": 12,
     "metadata": {},
     "output_type": "execute_result"
    }
   ],
   "source": [
    "prem1(30)"
   ]
  },
  {
   "cell_type": "code",
   "execution_count": null,
   "metadata": {},
   "outputs": [],
   "source": []
  },
  {
   "cell_type": "code",
   "execution_count": null,
   "metadata": {},
   "outputs": [],
   "source": []
  },
  {
   "cell_type": "code",
   "execution_count": null,
   "metadata": {},
   "outputs": [],
   "source": []
  }
 ],
 "metadata": {
  "celltoolbar": "Format de la Cellule Texte Brut",
  "kernelspec": {
   "display_name": "Python 3",
   "language": "python",
   "name": "python3"
  },
  "language_info": {
   "codemirror_mode": {
    "name": "ipython",
    "version": 3
   },
   "file_extension": ".py",
   "mimetype": "text/x-python",
   "name": "python",
   "nbconvert_exporter": "python",
   "pygments_lexer": "ipython3",
   "version": "3.7.4"
  }
 },
 "nbformat": 4,
 "nbformat_minor": 2
}
