{
 "cells": [
  {
   "cell_type": "markdown",
   "metadata": {},
   "source": [
    "# Exercice 1"
   ]
  },
  {
   "cell_type": "markdown",
   "metadata": {},
   "source": [
    "## Question 1 :"
   ]
  },
  {
   "cell_type": "code",
   "execution_count": 4,
   "metadata": {},
   "outputs": [],
   "source": [
    "#*********************************\n",
    "#*                               *\n",
    "#* Date :  15/05/2020            *\n",
    "#* Auteur : Guillaume FRANCOIS   *\n",
    "#* Acivité Variable Aléatoire V1 *\n",
    "#*                               *\n",
    "#*********************************\n",
    "from random import *\n",
    "def tirage():\n",
    "  n=randint(1,9)\n",
    "  if n==1:\n",
    "    reponse=10\n",
    "  elif 2<=n<=4:\n",
    "    reponse=5\n",
    "  else :\n",
    "    reponse=(-8)\n",
    "  return reponse"
   ]
  },
  {
   "cell_type": "code",
   "execution_count": 5,
   "metadata": {},
   "outputs": [
    {
     "data": {
      "text/plain": [
       "-8"
      ]
     },
     "execution_count": 5,
     "metadata": {},
     "output_type": "execute_result"
    }
   ],
   "source": [
    "tirage()"
   ]
  },
  {
   "cell_type": "markdown",
   "metadata": {},
   "source": [
    "## Question 2 :"
   ]
  },
  {
   "cell_type": "markdown",
   "metadata": {},
   "source": [
    "Modifions le programme pour simuler la variable aléatoire Y ."
   ]
  },
  {
   "cell_type": "code",
   "execution_count": 6,
   "metadata": {},
   "outputs": [],
   "source": [
    "#*********************************\n",
    "#*                               *\n",
    "#* Date :  15/05/2020            *\n",
    "#* Auteur : Guillaume FRANCOIS   *\n",
    "#* Acivité Variable Aléatoire V2 *\n",
    "#*                               *\n",
    "#*********************************\n",
    "from random import *\n",
    "def tirageY():\n",
    "  n=randint(1,16)\n",
    "  if 1<=n<=9:\n",
    "    reponse=(-3)\n",
    "  elif 10<=n<=15:\n",
    "    reponse=0\n",
    "  else :\n",
    "    reponse=5\n",
    "  return reponse"
   ]
  },
  {
   "cell_type": "code",
   "execution_count": 7,
   "metadata": {},
   "outputs": [
    {
     "data": {
      "text/plain": [
       "-3"
      ]
     },
     "execution_count": 7,
     "metadata": {},
     "output_type": "execute_result"
    }
   ],
   "source": [
    "tirageY()"
   ]
  },
  {
   "cell_type": "markdown",
   "metadata": {},
   "source": [
    "## Question 3 :"
   ]
  },
  {
   "cell_type": "markdown",
   "metadata": {},
   "source": [
    "Modifions le programme pour qu’il affiche les résultats de 10 parties dans une\n",
    "liste écrite par extension."
   ]
  },
  {
   "cell_type": "code",
   "execution_count": 8,
   "metadata": {},
   "outputs": [
    {
     "name": "stdout",
     "output_type": "stream",
     "text": [
      "[-3, 5, -3, 0, -3, 0, -3, -3, -3, -3]\n"
     ]
    }
   ],
   "source": [
    "liste1=[]\n",
    "for i in range(10):\n",
    "    liste1.append(tirageY())\n",
    "print(liste1)"
   ]
  },
  {
   "cell_type": "markdown",
   "metadata": {},
   "source": [
    "Modifions le programme pour qu’il affiche les résultats de 10 parties dans une liste écrite en compréhention."
   ]
  },
  {
   "cell_type": "code",
   "execution_count": 9,
   "metadata": {},
   "outputs": [
    {
     "name": "stdout",
     "output_type": "stream",
     "text": [
      "[-3, -3, -3, 0, 0, -3, -3, 0, -3, 0]\n"
     ]
    }
   ],
   "source": [
    "liste2=[tirageY() for i in range(10)]\n",
    "print(liste2)"
   ]
  },
  {
   "cell_type": "markdown",
   "metadata": {},
   "source": [
    "## Question 4 :"
   ]
  },
  {
   "cell_type": "markdown",
   "metadata": {},
   "source": [
    "Combien peut on gagner en moyenne avec ce jeu ?\n",
    "Pour répondre à cette question, il faut faire un très grand nombre de simulations, et calculer la moyenne des gains :"
   ]
  },
  {
   "cell_type": "code",
   "execution_count": 64,
   "metadata": {},
   "outputs": [
    {
     "name": "stdout",
     "output_type": "stream",
     "text": [
      "-1.37418\n"
     ]
    }
   ],
   "source": [
    "liste1=[]\n",
    "somme=0\n",
    "for i in range(1000000):\n",
    "    somme=somme+tirageY()\n",
    "moy=somme/1000000\n",
    "print(moy)"
   ]
  },
  {
   "cell_type": "markdown",
   "metadata": {},
   "source": [
    "Nous pourrons avoir une valeur théorique de cette moyenne en calculant l'<span style='color:red'>espérence mathématiques</span> : Voir cours"
   ]
  }
 ],
 "metadata": {
  "kernelspec": {
   "display_name": "Python 3",
   "language": "python",
   "name": "python3"
  },
  "language_info": {
   "codemirror_mode": {
    "name": "ipython",
    "version": 3
   },
   "file_extension": ".py",
   "mimetype": "text/x-python",
   "name": "python",
   "nbconvert_exporter": "python",
   "pygments_lexer": "ipython3",
   "version": "3.7.3"
  }
 },
 "nbformat": 4,
 "nbformat_minor": 2
}
