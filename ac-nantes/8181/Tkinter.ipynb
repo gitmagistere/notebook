{
 "cells": [
  {
   "cell_type": "code",
   "execution_count": 7,
   "metadata": {},
   "outputs": [],
   "source": [
    "import tkinter \n",
    "#from tkinter import *\n",
    "gui = tkinter.Tk()\n",
    "def msgCallback():\n",
    "    messagebox.showinfo(\"essai_titre\", \"essai_contenu\")\n",
    "btn = tkinter.Button(gui, text=\"Cliquez ici\", command = msgCallback)\n",
    "btn.pack()\n",
    "gui.mainloop()"
   ]
  },
  {
   "cell_type": "code",
   "execution_count": 10,
   "metadata": {},
   "outputs": [],
   "source": [
    "import tkinter\n",
    "from tkinter import messagebox\n",
    "from tkinter import *\n",
    "gui = Tk()\n",
    "gui.geometry(\"200x150\")\n",
    "def msgCallBack():\n",
    "    messagebox.showinfo(\"App\", \"Le bouton à gauche est cliqué\")\n",
    "btn1 = Button(\n",
    "  gui,\n",
    "  text = \"LEFT\",\n",
    "  command = msgCallBack, \n",
    "  activeforeground = \"green\",\n",
    "  activebackground = \"yellow\",\n",
    "  padx = 8,\n",
    "  pady = 5\n",
    ")\n",
    "btn2 = Button(\n",
    "  gui, \n",
    "  text = \"RIGHT\",\n",
    "  activeforeground = \"blue\",\n",
    "  activebackground = \"yellow\",\n",
    "  padx = 8,\n",
    "  pady = 5\n",
    ")\n",
    "btn3 = Button(\n",
    "  gui, \n",
    "  text = \"TOP\",\n",
    "  activeforeground = \"red\",\n",
    "  activebackground = \"yellow\",\n",
    "  padx = 8,\n",
    "  pady = 5\n",
    ")\n",
    "btn4 = Button(\n",
    "  gui, \n",
    "  text = \"BOTTOM\",\n",
    "  activeforeground = \"black\",\n",
    "  activebackground = \"yellow\",\n",
    "  padx = 8,\n",
    "  pady = 5\n",
    ")\n",
    "btn1.pack(side = LEFT)\n",
    "btn2.pack(side = RIGHT)\n",
    "btn3.pack(side = TOP)\n",
    "btn4.pack(side = BOTTOM)\n",
    "gui.mainloop()"
   ]
  },
  {
   "cell_type": "code",
   "execution_count": 9,
   "metadata": {},
   "outputs": [],
   "source": [
    "from tkinter import *\n",
    "gui = Tk()\n",
    "var = StringVar()\n",
    "label = Label(gui, textvariable=var, relief=RAISED)\n",
    "var.set(\"Welcome to WayToLearnX!\")\n",
    "label.pack()\n",
    "gui.mainloop()"
   ]
  },
  {
   "cell_type": "code",
   "execution_count": null,
   "metadata": {},
   "outputs": [],
   "source": []
  }
 ],
 "metadata": {
  "kernelspec": {
   "display_name": "Python 3",
   "language": "python",
   "name": "python3"
  },
  "language_info": {
   "codemirror_mode": {
    "name": "ipython",
    "version": 3
   },
   "file_extension": ".py",
   "mimetype": "text/x-python",
   "name": "python",
   "nbconvert_exporter": "python",
   "pygments_lexer": "ipython3",
   "version": "3.8.3"
  }
 },
 "nbformat": 4,
 "nbformat_minor": 4
}
