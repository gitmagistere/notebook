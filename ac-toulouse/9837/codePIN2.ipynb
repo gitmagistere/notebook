{
 "cells": [
  {
   "cell_type": "markdown",
   "metadata": {},
   "source": [
    "Lorsqu'un utilisateur allume son téléphone portable, la règle est de lui demander de saisir son code PIN puis, s’il échoue trois fois, de lui demander son code PUK. \n",
    "\n",
    "Compléter l'algorithme ci-dessous qui permet le déverrouillage du téléphone. Cet algorithme a en mémoire le vrai code PIN du téléphone (ici 1754) et génère des nombres aléatoires correspondant aux essais d'un utilisateur.\n",
    "\n",
    "essai est la variable contenant le code PIN généré aléatoirement.\n",
    "k est la variable contenant le nombre d'essais.\n",
    "Il faut compléter les lignes 5, 6 et 9."
   ]
  },
  {
   "cell_type": "code",
   "execution_count": null,
   "metadata": {},
   "outputs": [],
   "source": [
    "from random import randint\n",
    "codePIN = 1754\n",
    "k = 1\n",
    "essai=randint(1000,9999)               #la variable essai contient un nombre aléatoire entre 1000 et 9999\n",
    "while essai !=      and k <= 3:        #   !=  signifie \"différent\" en langage python\n",
    "    essai= \n",
    "    k= k+1\n",
    "if essai !=codePIN:\n",
    "    print(\"                \")"
   ]
  }
 ],
 "metadata": {
  "kernelspec": {
   "display_name": "Python 3",
   "language": "python",
   "name": "python3"
  },
  "language_info": {
   "codemirror_mode": {
    "name": "ipython",
    "version": 3
   },
   "file_extension": ".py",
   "mimetype": "text/x-python",
   "name": "python",
   "nbconvert_exporter": "python",
   "pygments_lexer": "ipython3",
   "version": "3.7.4"
  }
 },
 "nbformat": 4,
 "nbformat_minor": 2
}
