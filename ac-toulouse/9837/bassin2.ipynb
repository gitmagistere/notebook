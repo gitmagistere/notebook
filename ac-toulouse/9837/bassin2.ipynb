{
 "cells": [
  {
   "cell_type": "markdown",
   "metadata": {},
   "source": [
    "Jean-Claude a fabriqué un petit bassin contenant 500L d’eau. Au début de l’été, il vide ce bassin pour le nettoyer puis le remplit entièrement. \n",
    "Du fait de l’évaporation, 5% de l’eau du bassin s’évapore chaque jour. \n",
    "Dès que le bassin contient moins de 350L d’eau le soir au coucher du soleil, Jean-Claude ajoute 150L d’eau durant la nuit.\n",
    "\n",
    "Jean-Claude, soucieux de sa dépense en eau, souhaite déterminer le volume d’eau global qu’il a utilisé durant tout l’été.\n",
    "Ecrire un algorithme permettant de déterminer combien Jean-Claude a versé d’eau dans son bassin au bout de 60 jours?\n",
    "\n",
    "eau_bassin est la variable contenant la quantité d'eau du bassin.\n",
    "compteur est la variable contenant le nombre de fois où Jean-Claude rajoute de l'eau.\n",
    "n est la variable contenant le nombre de jours.\n",
    "\n",
    "Pour calculer la quantité d'eau après une une diminution de 5% (due à l'évaporation) on pourra utiliser la relation suivante: eau_bassin=eau_bassin*0.95"
   ]
  },
  {
   "cell_type": "code",
   "execution_count": null,
   "metadata": {},
   "outputs": [],
   "source": [
    "n = 0\n",
    "compteur = 0\n",
    "eau_bassin = 500"
   ]
  }
 ],
 "metadata": {
  "kernelspec": {
   "display_name": "Python 3",
   "language": "python",
   "name": "python3"
  },
  "language_info": {
   "codemirror_mode": {
    "name": "ipython",
    "version": 3
   },
   "file_extension": ".py",
   "mimetype": "text/x-python",
   "name": "python",
   "nbconvert_exporter": "python",
   "pygments_lexer": "ipython3",
   "version": "3.7.4"
  }
 },
 "nbformat": 4,
 "nbformat_minor": 2
}
