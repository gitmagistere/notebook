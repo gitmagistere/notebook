{
 "cells": [
  {
   "cell_type": "markdown",
   "metadata": {},
   "source": [
    "Jean-Claude a fabriqué un petit bassin contenant 500L d’eau. Au début de l’été, il vide ce bassin pour le nettoyer puis le remplit entièrement. \n",
    "Du fait de l’évaporation, 5% de l’eau du bassin s’évapore chaque jour. Dès que le bassin contient moins de 350L d’eau le soir au coucher du soleil, Jean-Claude ajoute 150L d’eau durant la nuit.\n",
    "Jean-Claude, soucieux de sa dépense d’eau, souhaite déterminer le volume d’eau global qu’il a utilisé durant tout l’été.\n",
    "Combien Jean-Claude aura-t-il versé d’eau dans son bassin au bout de 60 jours?"
   ]
  },
  {
   "cell_type": "code",
   "execution_count": null,
   "metadata": {},
   "outputs": [],
   "source": []
  }
 ],
 "metadata": {
  "kernelspec": {
   "display_name": "Python 3",
   "language": "python",
   "name": "python3"
  },
  "language_info": {
   "codemirror_mode": {
    "name": "ipython",
    "version": 3
   },
   "file_extension": ".py",
   "mimetype": "text/x-python",
   "name": "python",
   "nbconvert_exporter": "python",
   "pygments_lexer": "ipython3",
   "version": "3.7.4"
  }
 },
 "nbformat": 4,
 "nbformat_minor": 2
}
