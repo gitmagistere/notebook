{
 "cells": [
  {
   "cell_type": "markdown",
   "metadata": {},
   "source": [
    "Julie dépose 40 euros sur un compte épargne le 1er janvier 2019, puis 15 euros chaque premier jour du mois.\n",
    "Compléter l'algorithme suivant afin que la variable C contienne la somme présente sur le compte de Juliette au bout de 24 mois.\n",
    "Il faut compléter les lignes 2, 3 et 4."
   ]
  },
  {
   "cell_type": "code",
   "execution_count": null,
   "metadata": {},
   "outputs": [],
   "source": [
    "C = 40\n",
    "for i in range  :\n",
    "    C = C + \n",
    "print ( )"
   ]
  }
 ],
 "metadata": {
  "kernelspec": {
   "display_name": "Python 3",
   "language": "python",
   "name": "python3"
  },
  "language_info": {
   "codemirror_mode": {
    "name": "ipython",
    "version": 3
   },
   "file_extension": ".py",
   "mimetype": "text/x-python",
   "name": "python",
   "nbconvert_exporter": "python",
   "pygments_lexer": "ipython3",
   "version": "3.7.4"
  }
 },
 "nbformat": 4,
 "nbformat_minor": 2
}
