{
 "cells": [
  {
   "cell_type": "markdown",
   "metadata": {},
   "source": [
   "Exercice 1 : Une image en noir et blanc est composée de pixels dont la valeur est soit 1 pour blanc, soit 0 pour noir. Voici un algorithme écrit en langage semi codé :\n",
    "\n",
    "pixel ← n\n",
    "Si pixel = 0\n",
    "Alors affiche ’le pixel est noir’\n",
    "Sinon affiche ’le pixel est blanc’\n",
    "Fin Si\n",
    "\n",
    "1. Qu’affiche cet algorithme lorsque n est égal à 1 ?\n",
    "2. Compléter cet algorithme en langage Python et vérifier votre réponse.\n",
    "L'affectation des variables en Python.\n",
    "\n",
    "Une variable est un espace mémoire de l'ordinateur qui stocke une donnée avec un certain type.\n",
    "\n",
    "Le type peut être int (entier), booléen (Vrai ou Faux), String (chaîne de caractère) ...\n"
   ]
  },
  {
   "cell_type": "code",
   "execution_count": null,
   "metadata": {},
   "outputs": [],
   "source": [
    "nombre=4\n",
    "nombre\n"
   ]
  },
  {
   "cell_type": "markdown",
   "metadata": {},
   "source": [
    "Pour exécuter les lignes de code ci-dessus, il suffit de cliquer sur Exécuter.\n",
    "On constate donc que la variable nombre contient 4.\n"
   ]
  }
 ],
 "metadata": {
  "kernelspec": {
   "display_name": "Python 3",
   "language": "python",
   "name": "python3"
  },
  "language_info": {
   "codemirror_mode": {
    "name": "ipython",
    "version": 3
   },
   "file_extension": ".py",
   "mimetype": "text/x-python",
   "name": "python",
   "nbconvert_exporter": "python",
   "pygments_lexer": "ipython3",
   "version": "3.6.7"
  }
 },
 "nbformat": 4,
 "nbformat_minor": 2
}
