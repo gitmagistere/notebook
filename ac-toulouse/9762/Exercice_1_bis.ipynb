{
 "cells": [
  {
   "cell_type": "markdown",
   "metadata": {},
   "source": [
    "Exercice 1 : Une image en noir et blanc est composée de pixels dont la valeur est soit 1 pour blanc, soit 0 pour noir. Voici un algorithme écrit en langage semi codé :\n",
    "\n",
    "pixel ← n\n",
    "\n",
    "Si pixel = 0\n",
    "\n",
    "Alors affiche ’le pixel est noir’\n",
    "\n",
    "Sinon affiche ’le pixel est blanc’\n",
    "\n",
    "Fin Si\n",
    "\n",
    "1. Qu’affiche cet algorithme lorsque n est égal à 1 ?\n",
    "\n",
    "2. Compléter cet algorithme en langage Python et vérifier votre réponse.\n"

   ]
  },
  {
   "cell_type": "code",
   "execution_count": null,
   "metadata": {},
   "outputs": [],
   "source": [
    "pixel = 1\n",
    "if pixel ==   :\n",
    "    print("")\n",
    "else :\n",
    "    print("")\n"
   ]
  },
  {
   "cell_type": "markdown",
   "metadata": {},
   "source": [
    "Pour exécuter les lignes de code ci-dessus, il suffit de cliquer sur Exécuter.\n",
    "On constate donc que si la variable n est égale à 1, il s'affiche 'Le Pixel est blanc'\n"
   ]
  }
 ],
 "metadata": {
  "kernelspec": {
   "display_name": "Python 3",
   "language": "python",
   "name": "python3"
  },
  "language_info": {
   "codemirror_mode": {
    "name": "ipython",
    "version": 3
   },
   "file_extension": ".py",
   "mimetype": "text/x-python",
   "name": "python",
   "nbconvert_exporter": "python",
   "pygments_lexer": "ipython3",
   "version": "3.6.7"
  }
 },
 "nbformat": 4,
 "nbformat_minor": 2
}
