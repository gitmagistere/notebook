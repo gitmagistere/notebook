{
 "cells": [
  {
   "cell_type": "markdown",
   "metadata": {},
   "source": [
    "Paul dépose 5000 euros à la banque. Chaque année son capital augmente de 2% donc il est multiplié par 1,02.\n",
    "\n",
    "1) Quel sera le capital de Paul au bout de deux années ?\n",
    "\n",
    "2) Compléter l'algorithme suivant en langage Python permettant de savoir au bout de combien d'années le capital de Paul dépassera 5600 euros. (Il faut compléter les lignes 3 et 6)\n",
    "\n",
    "S est la variable contenant le capital de Paul\n",
    "N est la variable contenant le nombre d'années."
   ]
  },
  {
   "cell_type": "code",
   "execution_count": null,
   "metadata": {},
   "outputs": [],
   "source": [
    "S=5000\n",
    "N=0\n",
    "while \n",
    "    S=S*1.02  # Calcul du capital l'année suivante \n",
    "    N=N+1\n",
    "print ()"
   ]
  }
 ],
 "metadata": {
  "kernelspec": {
   "display_name": "Python 3",
   "language": "python",
   "name": "python3"
  },
  "language_info": {
   "codemirror_mode": {
    "name": "ipython",
    "version": 3
   },
   "file_extension": ".py",
   "mimetype": "text/x-python",
   "name": "python",
   "nbconvert_exporter": "python",
   "pygments_lexer": "ipython3",
   "version": "3.7.4"
  }
 },
 "nbformat": 4,
 "nbformat_minor": 2
}
