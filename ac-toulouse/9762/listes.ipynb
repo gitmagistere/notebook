{
 "cells": [
  {
   "cell_type": "markdown",
   "metadata": {},
   "source": [
    "# # Exercice sur les listes"
   ]
  },
  {
   "cell_type": "markdown",
   "metadata": {},
   "source": [
    "On rappelle que les pixels d'une image couleur sont codés dans le système RGB par une liste de trois valeurs entières comprises entre 0 inclus et 255 inclus que l'on notera : « pixel_couleur »=[r,v,b].\n",
    "On conviendra donc qu'une image couleur est codée par une liste de pixels c'est à dire une liste dont la longueur est égale au nombre de pixels de l'image et dont chaque élément est une liste du type « pixel_couleur »=[r,v,b] comme décrit précédemment.\n",
    "On notera « image » la liste contenant tous les pixels de l'image."
   ]
  },
  {
   "cell_type": "markdown",
   "metadata": {},
   "source": [
    "1°) Un pixel a un niveau de rouge de 75, un niveau de vert de 47 et un niveau de bleu de 175.\n",
    "Dans l'encart ci-dessous remplacer les pointillés par la liste « pixel_couleur » correspondant à ce pixel puis vérifier le résultat obtenu en exécutant le code."
   ]
  },
  {
   "cell_type": "code",
   "execution_count": null,
   "metadata": {},
   "outputs": [],
   "source": [
    "pixel_couleur=...\n",
    "pixel_couleur"
   ]
  },
  {
   "cell_type": "markdown",
   "metadata": {},
   "source": [
    "2°) On souhaite modifier le niveau de rouge d'un pixel en lui attribuant la valeur 219.\n",
    "Dans l'encart ci-dessous remplacer les pointillés par l'instruction permettant cette modification puis vérifier le résultat obtenu en exécutant le code.\n"
   ]
  },
  {
   "cell_type": "code",
   "execution_count": null,
   "metadata": {},
   "outputs": [],
   "source": [
    "pixel_couleur=[155,240,193]\n",
    "...\n",
    "pixel_couleur"
   ]
  },
  {
   "cell_type": "markdown",
   "metadata": {},
   "source": [
    "3°) On considère la liste de pixels : image=[[240,65,200],[128,204,10],[26,45,69],[175,172,150],[85,105,36],[85,35,231],[201,230,23],[102,214,35],[210,2,89]].\n",
    "Le script python donné dans l'encart ci-dessous permet d'afficher les niveaux de couleur de chacun de ses pixels.\n",
    "Pour transformer la variable « image » en une image en ''niveaux de rouges'' chacun de ses éléments de type « pixel_couleur »=[r,v,b]  est remplacé par [m,0,0] où m est la moyenne de r, v et b."
   ]
  },
  {
   "cell_type": "markdown",
   "metadata": {},
   "source": [
    "a) Exécuter le script pour le tester."
   ]
  },
  {
   "cell_type": "markdown",
   "metadata": {},
   "source": [
    "b) Modifier le script afin qu'il transforme « image » en une image en ''niveau de rouges'' et affiche les niveaux de couleur de chacun des pixels après leur modification. Tester en exécutant le script ainsi modifié."
   ]
  },
  {
   "cell_type": "code",
   "execution_count": null,
   "metadata": {},
   "outputs": [],
   "source": [
    "image=[[240,65,200],[128,204,10],[26,45,69],[175,172,150],[85,105,36],[85,35,231],[201,230,23],[102,214,35],[210,2,89]]\n",
    "for i in range (len(image)):\n",
    "    r=image[i][0]\n",
    "    v=image[i][1]\n",
    "    b=image[i][2]\n",
    "    print(r,v,b)\n",
    "    "
   ]
  }
 ],
 "metadata": {
  "kernelspec": {
   "display_name": "Python 3",
   "language": "python",
   "name": "python3"
  },
  "language_info": {
   "codemirror_mode": {
    "name": "ipython",
    "version": 3
   },
   "file_extension": ".py",
   "mimetype": "text/x-python",
   "name": "python",
   "nbconvert_exporter": "python",
   "pygments_lexer": "ipython3",
   "version": "3.6.10"
  }
 },
 "nbformat": 4,
 "nbformat_minor": 4
}
