{
 "cells": [
  {
   "cell_type": "code",
   "execution_count": null,
   "metadata": {},
   "outputs": [],
   "source": [
    "from random import randint\n",
    "codePIN = 1754\n",
    "k = 1\n",
    "essai=randint(1000,9999)               #la variable essai contient un nombre aléatoire entre 1000 et 9999\n",
    "while essai !=      and k <= 3:        #   !=  signifie \"différent\" en langage python\n",
    "    essai= \n",
    "    k= k+1\n",
    "if essai !=codePIN:\n",
    "    print(\"                \")"
   ]
  }
 ],
 "metadata": {
  "kernelspec": {
   "display_name": "Python 3",
   "language": "python",
   "name": "python3"
  },
  "language_info": {
   "codemirror_mode": {
    "name": "ipython",
    "version": 3
   },
   "file_extension": ".py",
   "mimetype": "text/x-python",
   "name": "python",
   "nbconvert_exporter": "python",
   "pygments_lexer": "ipython3",
   "version": "3.7.4"
  }
 },
 "nbformat": 4,
 "nbformat_minor": 2
}
