﻿{
 "cells": [
  {
   "cell_type": "markdown",
   "execution_count": null,
   "metadata": {},
   "outputs": [],
   "source": [

    "Exercice 1 : Une image en noir et blanc est composée de pixels dont la valeur est soit 1 pour blanc, soit 0 pour noir. Voici un algorithme écrit en langage semi codé :\n",
    "\n",
    "pixel ← n\n",
    "Si pixel = 0\n",
    "Alors affiche ’le pixel est noir’\n",
    "Sinon affiche ’le pixel est blanc’\n",
    "Fin Si\n",
    "\n",
    "1. Qu’affiche cet algorithme lorsque n est égal à 1 ?\n",
    "2. Compléter cet algorithme en langage Python et vérifier votre réponse.\n",
   ]
  }
 ],
 {
   "cell_type": "code",
   "execution_count": null,
   "metadata": {},
   "outputs": [],
   "source": [
    "pixel = 1\n",
    "if pixel ==   :\n",
    "    print("  ")\n",
    "else :\n",
    "    print("  ")\n",

   ]
  },




 "metadata": {
  "language_info": {
   "codemirror_mode": {
    "name": "ipython"
   },
   "file_extension": ".py",
   "mimetype": "text/x-python",
   "name": "python",
   "nbconvert_exporter": "python"
  }
 },
 "nbformat": 4,
 "nbformat_minor": 2
}
