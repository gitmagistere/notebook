{
 "cells": [
  {
   "cell_type": "markdown",
   "metadata": {},
   "source": [
    "Une variable est un espace mémoire dédié de l'ordinateur qui sotcke une donnée avec un certain type.\n",
    "Les types les plus usuels en python sont :\n",
    "* int : pour des nombres entiers relatifs\n",
    "* boolean : pour affecter un résultat de type True ou False\n",
    "* String : pour affecter une chaîne de caractères\n",
    "* float : pour des nombres à virgule"
   ]
  },
  {
   "cell_type": "code",
   "execution_count": null,
   "metadata": {},
   "outputs": [],
   "source": [
    "nombre=78\n",
    "nombre\n"
   ]
  },
  {
   "cell_type": "markdown",
   "metadata": {},
   "source": [
    "Pour exécuter l'exemple ci-dessus (premières lignes de code Python), il suffit de cliquer sur la zone où est présent le code puis de cliquer sur l'onglet \"Exécuter\" (barre des tâches au niveau de File, Insert, Cell, Kernel)\n",
    "\n",
    "On constate que Python affiche 78 car à l'aide de nombre=78, on a affecté 78 à la variable nombre.\n",
    "\n",
    "Modifier les lignes de code ci-dessus pour que la variable nombre contienne la valeur -2.\n",
    "N'oublier pas de cliquer sur \"Exécuter\" pour voir les effets de la modification."
   ]
  },
  {
   "cell_type": "code",
   "execution_count": null,
   "metadata": {},
   "outputs": [],
   "source": [
    "mot=\"Bonjour\"\n",
    "mot\n"
   ]
  },
  {
   "cell_type": "markdown",
   "metadata": {},
   "source": [
    "Si l'on exécute le code ci-dessus, on affecte à la variable mot, la chaine de caractères \"Bonjour\".\n",
    "On remarquera que la chaîne de caractères saisie doit être entre \" \".\n",
    "Modifier le code précédent pour que la variable mot stocke la chaine \"Au revoir.\""
   ]
  },
  {
   "cell_type": "code",
   "execution_count": null,
   "metadata": {},
   "outputs": [],
   "source": [
    "entier=-5\n",
    "resultat=False\n",
    "mot=\"SNT\"\n",
    "nombre=5.236\n"
   ]
  },
  {
   "cell_type": "markdown",
   "metadata": {},
   "source": [
    "Les lignes de code ci-dessus permettent d'affecter à chaque variable les types usuels rencontrés en Python.\n",
    "On remarquera qu'un booléen peut prendre deux valeurs (True ou False) et qu'un nombre à virgule est saisi à l'aide du symbole . et non ,\n",
    "\n",
    "Exécuter les lignes de code ci-dessus. Vous remarquerez qu'un sortie, vous n'avez rien !\n",
    "\n",
    "C'est normal, en Python, pour afficher le contenu d'une variable, il faut rajouter dans les lignes de code :\n",
    "* la variable\n",
    "* ou l'instruction print(nom de la variable). Print signifie afficher.\n",
    "\n",
    "A vous de jouer : dans les lignes de code ci-dessus, modifier le code afin d'afficher en sortie le contenu de la variable entier, resultat, mot et nombre. (N'oublier pas d'exécuter)\n"
   ]
  },
  {
   "cell_type": "markdown",
   "metadata": {},
   "source": [
    "Pour finir, on peut réaliser des opérations sur le contenu de variables.\n",
    "Exécuter les lignes de code ci-dessous. \n",
    "La variable resultat stocke le résultat de l'opération 2 * nombre1+nombre2. \n",
    "On remarquera que si l'on modifie le contenu de nombre1, la variable resultat est également modifié.\n",
    "On remarquera que pour les chaînes de caractères, l'addition +, consiste à concaténer les chaînes, c'est à dire à les \"coller\" l'une après l'autre.\n"
   ]
  },
  {
   "cell_type": "code",
   "execution_count": null,
   "metadata": {},
   "outputs": [],
   "source": [
    "nombre1=5\n",
    "nombre2=16\n",
    "mot1=\"Pierre\"\n",
    "mot2=\"DUPOND\"\n",
    "resultat=2*nombre1+nombre2\n",
    "presentation=mot1+\" \"+mot2\n",
    "resultat\n",
    "presentation"
   ]
  },
  {
   "cell_type": "markdown",
   "metadata": {},
   "source": [
    "Pour terminer ces premiers pas en Python, exécuter le code ci-dessous."
   ]
  },
  {
   "cell_type": "code",
   "execution_count": null,
   "metadata": {},
   "outputs": [],
   "source": [
    "nombre=12\n",
    "nombre=nombre+5"
   ]
  },
  {
   "cell_type": "markdown",
   "metadata": {},
   "source": [
    "Quel est d'après vous le contenu de la variable nombre ?\n",
    "Vérifier en rajoutant dans le code précédent l'affichage de la variable nombre."
   ]
  }
 ],
 "metadata": {
  "kernelspec": {
   "display_name": "Python 3",
   "language": "python",
   "name": "python3"
  },
  "language_info": {
   "codemirror_mode": {
    "name": "ipython",
    "version": 3
   },
   "file_extension": ".py",
   "mimetype": "text/x-python",
   "name": "python",
   "nbconvert_exporter": "python",
   "pygments_lexer": "ipython3",
   "version": "3.6.10"
  }
 },
 "nbformat": 4,
 "nbformat_minor": 4
}
