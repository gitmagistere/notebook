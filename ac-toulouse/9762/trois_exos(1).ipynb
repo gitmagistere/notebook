{
 "cells": [
  {
   "cell_type": "markdown",
   "metadata": {},
   "source": [
    "# Exercice 1"
   ]
  },
  {
   "cell_type": "markdown",
   "metadata": {},
   "source": [
    "Un trame NMEA0183 provient du système de satellites américains GPS lorsque les trois premiers caractères de son élément d'index 0 sont dans l'ordre '$GP'. Compléter le script de la fonction python 'GPS'ci-dessous en remplaçant les pointillés pour qu'elle renvoie True si la liste 'trame' provient du GPS, False sinon. Tester votre fonction avec 'trame1' et 'trame2'"
   ]
  },
  {
   "cell_type": "code",
   "execution_count": null,
   "metadata": {},
   "outputs": [],
   "source": [
    "trame1=['$GPGGA', '122505.99', '4257.7877', 'N', '00136.2514', 'E', '12', '12', '1.0', '398.1', 'M', '0.0', 'M', '0.0', '0000*4d']\n",
    "trame2=['$GLGGA', '122505.99', '4257.7877', 'N', '00136.2514', 'E', '12', '12', '1.0', '398.1', 'M', '0.0', 'M', '0.0', '0000*4d']\n",
    "def GPS(L):\n",
    "    if L[0][0]=='$' and ... and ... :\n",
    "        return ...\n",
    "    else:\n",
    "        return ...\n",
    "    "
   ]
  },
  {
   "cell_type": "markdown",
   "metadata": {},
   "source": [
    "# Exercice 2 "
   ]
  },
  {
   "cell_type": "markdown",
   "metadata": {},
   "source": [
    "Dans des trames NMEA0183 celles du tpe 'GPGGA' sont des listes dont l'élément d'index 1 correspond à l'heure au format HHMMSS.SS. Par exemple dans trame=['$GPGGA', '122505.99', '4257.7877', 'N', '00136.2514', 'E', '12', '12', '1.0', '398.1', 'M', '0.0', 'M', '0.0', '0000*4d'] l'heure est 12h 50min 05,05sec.\n",
    "Compléter la fonction python \"heure\" ci-dessous qui prend en paramètre une liste L (qui sera une trame NMEA0183), extrait l'heure, les minutes et les secondes de la trame et renvoie la chaine de caractères 'HH heures MM minutes et SS.SS secondes'. Tester votre fonction sur le liste trame. Pour cela remplacer les pointillés par ce qui convient."
   ]
  },
  {
   "cell_type": "code",
   "execution_count": null,
   "metadata": {},
   "outputs": [],
   "source": [
    "trame=['$GPGGA', '122505.99', '4257.7877', 'N', '00136.2514', 'E', '12', '12', '1.0', '398.1', 'M', '0.0', 'M', '0.0', '0000*4d'] \n",
    "def heure(L):\n",
    "    resultat= ... +' h '+ ...+' min '+ ... +' sec '\n",
    "    return resultat\n"
   ]
  },
  {
   "cell_type": "markdown",
   "metadata": {},
   "source": [
    "# Exercice 3"
   ]
  },
  {
   "cell_type": "raw",
   "metadata": {},
   "source": [
    "Dans des trames NMEA0183 celles du tpe 'GPGGA' sont des listes dont l'élément d'index 2 correspond à la latitude au format DDMM.MM et l'élément de rang 3 correspond à la cardinalité (Nord ou Sud). Par exemple dans trame=['$GPGGA', '122505.99', '4257.7877', 'N', '00136.2514', 'E', '12', '12', '1.0', '398.1', 'M', '0.0', 'M', '0.0', '0000*4d'] la latitude est 45°57,7877' Nord.\n",
    "Ecrire une fonction python \"latitude_DMS\" ci-dessous qui prend en paramètre une liste L qui sera une trame NMEA0183 et renvoie la chaine de caractères \" DD°MM'SS\"  \".\n",
    "Tester votre script. (Sur l'exemple donné, la fonction doit renvoyer 42°57'47-26'')"
   ]
  },
  {
   "cell_type": "code",
   "execution_count": null,
   "metadata": {},
   "outputs": [],
   "source": [
    "trame=['$GPGGA', '122505.99', '4257.7877', 'N', '00136.2514', 'E', '12', '12', '1.0', '398.1', 'M', '0.0', 'M', '0.0', '0000*4d'] \n",
    "def latitude_DMS(L):\n",
    "    \n",
    "    "
   ]
  }
 ],
 "metadata": {
  "kernelspec": {
   "display_name": "Python 3",
   "language": "python",
   "name": "python3"
  },
  "language_info": {
   "codemirror_mode": {
    "name": "ipython",
    "version": 3
   },
   "file_extension": ".py",
   "mimetype": "text/x-python",
   "name": "python",
   "nbconvert_exporter": "python",
   "pygments_lexer": "ipython3",
   "version": "3.6.10"
  }
 },
 "nbformat": 4,
 "nbformat_minor": 4
}
