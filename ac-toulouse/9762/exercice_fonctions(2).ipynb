{
 "cells": [
  {
   "cell_type": "markdown",
   "metadata": {},
   "source": [
    "# EXERCICE SUR LES FONCTIONS"
   ]
  },
  {
   "cell_type": "markdown",
   "metadata": {},
   "source": [
    "Dans l'enregistrement de trames satellitaires à l'aide la norme NMEA0183 on peut récupérer des listes du type trame=['$GPGGA', '122505.99', '4257.7877', 'N', '00136.2514', 'E', '12', '12', '1.0', '398.1', 'M', '0.0', 'M', '0.0', '0000*4d'] dans lesquelles trame[2] est la valeur de la latitude sous la forme d'un nombre flottant au format DDMM.MMM où DD est le nombre de degrés et MM.MMMM est le nombre décimal de minutes, trame[3] indique par 'N' où 'S' l'hémisphère dans lequel on mesure cette latitude, trame[4] est la valeur de la longitude sous la forme d'un nombre flottant au format DDDMM.MMM où DDD est le nombre de degrés et MM.MMMM est le nombre décimal de minutes, trame[5] indique par 'E' où 'W' l'orientation par rapport au méridien de Greenwich, trame[9] indique l'altitude par rapport au niveau de la mer sous la forme d'un nombre flottant et trame[10] indique par 'M' l'unité de mesure de l'altitude, M pour mètres."
   ]
  },
  {
   "cell_type": "markdown",
   "metadata": {},
   "source": [
    "1°) Exécuter le script ci-dessous et observer que la fonction latitude permet bien de récupérer la latitude et la cardinalité de la liste trame."
   ]
  },
  {
   "cell_type": "code",
   "execution_count": null,
   "metadata": {},
   "outputs": [],
   "source": [
    "trame=['$GPGGA', '122505.99', '4257.7877', 'N', '00136.2514', 'E', '12', '12', '1.0', '398.1', 'M', '0.0', 'M', '0.0', '0000*4d']\n",
    "def latitude(L):\n",
    "    liste=[]\n",
    "    liste.append(L[2])\n",
    "    liste.append(L[3])\n",
    "    return liste\n",
    "latitude(trame)    "
   ]
  },
  {
   "cell_type": "markdown",
   "metadata": {},
   "source": [
    "2°) Completer les scripts python donnés ci-dessous en écrivant sur le modèle de la fonction « latitude », une fonction « longitude » qui renvoie  la liste formée de la longitude et de l'orientation 'E' ou 'W' puis une fonction « altitude » qui renvoie  la liste formée de l'altitude et de l'unité dans laquelle elle a été mesurée. Les tester."
   ]
  },
  {
   "cell_type": "code",
   "execution_count": null,
   "metadata": {},
   "outputs": [],
   "source": [
    "trame=['$GPGGA', '122505.99', '4257.7877', 'N', '00136.2514', 'E', '12', '12', '1.0', '398.1', 'M', '0.0', 'M', '0.0', '0000*4d']\n",
    "def longitude(L):"
   ]
  },
  {
   "cell_type": "code",
   "execution_count": null,
   "metadata": {},
   "outputs": [],
   "source": [
    "trame=['$GPGGA', '122505.99', '4257.7877', 'N', '00136.2514', 'E', '12', '12', '1.0', '398.1', 'M', '0.0', 'M', '0.0', '0000*4d']\n",
    "def altitude(L):"
   ]
  },
  {
   "cell_type": "markdown",
   "metadata": {},
   "source": [
    "3°) Finalement compléter le script ci-dessous en y recopiant vos fonctions longitude et altitude et en ajoutant une fonction « coordonnees » qui prend en paramètres une liste « L » du type « trame », appelle les fonctions « latitude », « longitude » et « altitude » et renvoie les coordonnées du lieu où ont été enregistrées la trame de la liste « L » en entrée, sous la forme d'une liste dont les éléments sont les listes renvoyées par chacune des trois fonctions « latitude », « longitude » et « altitude »."
   ]
  },
  {
   "cell_type": "code",
   "execution_count": null,
   "metadata": {},
   "outputs": [],
   "source": [
    "trame=['$GPGGA', '122505.99', '4257.7877', 'N', '00136.2514', 'E', '12', '12', '1.0', '398.1', 'M', '0.0', 'M', '0.0', '0000*4d']\n",
    "\n",
    "def latitude(L):\n",
    "    liste=[]\n",
    "    liste.append(L[2])\n",
    "    liste.append(L[3])\n",
    "    return liste\n",
    "\n",
    "def longitude(L):\n",
    "\n",
    "    \n",
    "    \n",
    "    \n",
    "\n",
    "def altitude(L):\n",
    "    \n",
    "    \n",
    "    \n",
    "    \n",
    "    \n",
    "def coordonnees(L):"
   ]
  }
 ],
 "metadata": {
  "kernelspec": {
   "display_name": "Python 3",
   "language": "python",
   "name": "python3"
  },
  "language_info": {
   "codemirror_mode": {
    "name": "ipython",
    "version": 3
   },
   "file_extension": ".py",
   "mimetype": "text/x-python",
   "name": "python",
   "nbconvert_exporter": "python",
   "pygments_lexer": "ipython3",
   "version": "3.6.10"
  }
 },
 "nbformat": 4,
 "nbformat_minor": 4
}
