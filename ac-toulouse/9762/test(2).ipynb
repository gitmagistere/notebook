{
 "cells": [
  {
   "cell_type": "markdown",
   "metadata": {},
   "source": [
    "L'affectation des variables en Python.\n",
    "\n",
    "Une variable est un espace mémoire de l'ordinateur qui stocke une donnée avec un certain type.\n",
    "\n",
    "Le type peut être int (entier), booléen (Vrai ou Faux), String (chaîne de caractère) ...\n"
   ]
  },
  {
   "cell_type": "code",
   "execution_count": null,
   "metadata": {},
   "outputs": [],
   "source": [
    "nombre=4\n",
    "nombre\n"
   ]
  },
  {
   "cell_type": "markdown",
   "metadata": {},
   "source": [
    "Pour exécuter les lignes de code ci-dessus, il suffit de cliquer sur Exécuter.\n",
    "On constate donc que la variable nombre contient 4.\n"
   ]
  },
  {
   "cell_type": "code",
   "execution_count": null,
   "metadata": {},
   "outputs": [],
   "source": [
    "texte=\"Bonjour !\"\n",
    "resultat=4*5+3\n",
    "somme=5+resultat"
   ]
  },
  {
   "cell_type": "markdown",
   "metadata": {},
   "source": [
    "On considère les affectations précédentes.\n",
    "La variable texte est une variable chaîne de caractères car elle commence et termine par \".\n",
    "Quel est le contenu de la variable somme ?\n",
    "\n",
    "(Pour vérifier, il suffit de taper somme dans la console ci-dessous puis cliquer sur exécuter)."
   ]
  },
  {
   "cell_type": "code",
   "execution_count": null,
   "metadata": {},
   "outputs": [],
   "source": []
  }
 ],
 "metadata": {
  "kernelspec": {
   "display_name": "Python 3",
   "language": "python",
   "name": "python3"
  },
  "language_info": {
   "codemirror_mode": {
    "name": "ipython",
    "version": 3
   },
   "file_extension": ".py",
   "mimetype": "text/x-python",
   "name": "python",
   "nbconvert_exporter": "python",
   "pygments_lexer": "ipython3",
   "version": "3.6.7"
  }
 },
 "nbformat": 4,
 "nbformat_minor": 2
}
