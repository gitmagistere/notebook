{
 "cells": [
  {
   "cell_type": "markdown",
   "metadata": {},
   "source": [
    "## Ouvrir et Visualiser une image"
   ]
  },
  {
   "cell_type": "code",
   "execution_count": 5,
   "metadata": {},
   "outputs": [],
   "source": [
    "from PIL import Image\n",
    "img = Image.open(\"sernin.jpg\")\n",
    "img.show()"
   ]
  },
  {
   "cell_type": "raw",
   "metadata": {},
   "source": [
    "- La première ligne permet d'importer le module Image de la bibliothèque PIL\n",
    "- La deuxième ligne permet d'ouvrir le fichier image sernin.jpg (attention, le fichier image doit se trouver dans le même répertoire que le script Python\n",
    "- la troisième ligne permet d'ouvrir une nouvelle fenêtre contenant l'image sernin.jpg\n"
   ]
  }
 ],
 "metadata": {
  "kernelspec": {
   "display_name": "Python 3",
   "language": "python",
   "name": "python3"
  },
  "language_info": {
   "codemirror_mode": {
    "name": "ipython",
    "version": 3
   },
   "file_extension": ".py",
   "mimetype": "text/x-python",
   "name": "python",
   "nbconvert_exporter": "python",
   "pygments_lexer": "ipython3",
   "version": "3.7.6"
  }
 },
 "nbformat": 4,
 "nbformat_minor": 4
}
