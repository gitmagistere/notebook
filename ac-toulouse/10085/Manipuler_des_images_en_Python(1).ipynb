{
 "cells": [
  {
   "cell_type": "markdown",
   "metadata": {},
   "source": [
    "# Ouverture et définition d'une image avec Python\n"
   ]
  },
  {
   "cell_type": "code",
   "execution_count": null,
   "metadata": {},
   "outputs": [],
   "source": [
    "from PIL import Image\n",
    "img = Image.open(\"sernin.jpg\")\n",
    "largeur, hauteur = img.size\n",
    "print(\"largeur de l'image :\", largeur, \"pixels\")\n",
    "print(\"hauteur de l'image :\", hauteur, \"pixels\")"
   ]
  },
  {
   "cell_type": "markdown",
   "metadata": {},
   "source": [
    "Description des lignes du programme ci-dessus :\n",
    "- Ligne 1 : Importe la bibliothèque PIL (ou Pillow) permettant de traiter les images.\n",
    "- Ligne 2 : Ouvre le fichier image \"sernin.jpg\" et l'affecte à la variable img.\n",
    "- Ligne  3 : Crée les variables dont le nom est assez explicite : largeur et hauteur.\n",
    "- Ligne 4 et 5 : Affiche du texte dans la console (partie sombre de l'éditeur).\n",
    "\n",
    "À  vous de jouer : \n",
    "\n",
    "    1) Cliquer sur RUN (bouton vert en haut de l'éditeur) pour observer le résultat.\n",
    "    2) Modifier le code pour afficher les dimensions de l'autre image disponible nommée \"chat.jpg\". Attention, le fichier contenant l'image doit être dans le même répertoire que le script Python\n",
    "    3) La définition de l'image est le nombre de pixels qui la compose. Modifier le code afin de calculer la définition de l'image."
   ]
  },
  {
   "cell_type": "markdown",
   "metadata": {},
   "source": [
    "# Modifications des pixels d'une image"
   ]
  },
  {
   "attachments": {
    "Capture.PNG": {
     "image/png": "[encoded data removed]"
    }
   },
   "cell_type": "markdown",
   "metadata": {},
   "source": [
    "En python, le pixel de coordonnée (0, 0) est en haut à gauche.![Capture.PNG](attachment:Capture.PNG)"
   ]
  },
  {
   "cell_type": "code",
   "execution_count": null,
   "metadata": {},
   "outputs": [],
   "source": [
    "from PIL import Image\n",
    "img = Image.open(\"couleur.png\")\n",
    "r, v, b = img.getpixel((0, 0))\n",
    "print(\"RVB :\", r, v, b)\n",
    "img.show()"
   ]
  },
  {
   "cell_type": "markdown",
   "metadata": {},
   "source": [
    "Description des lignes du programme ci-dessus :\n",
    "- Ligne 1 : Importe la bibliothèque PIL (ou Pillow) permettant de traiter les images.\n",
    "- Ligne 2 : Ouvre le fichier image \"couleur.png\" et l'affecte à la variable img.\n",
    "- Ligne 3 : Extraction des valeurs des trois composantes du pixel (0, 0) soit le pixel de la 1re colonne et de la 1re ligne.\n",
    "- Ligne 4 : Affiche le résultat dans la console.\n",
    "- Ligne 5: Affiche l'image.\n",
    "\n",
    "À  vous de jouer : \n",
    "\n",
    "    1) Vérifier que le pixel de coordonnée (0, 0) est bien en haut à gauche (il est bleu!)\n",
    "    2) Modifier le code afin de retrouver le code RVB des 5 autres zones de couleurs de l'image."
   ]
  },
  {
   "cell_type": "code",
   "execution_count": null,
   "metadata": {},
   "outputs": [],
   "source": [
    "from PIL import Image\n",
    "largeur = 200\n",
    "hauteur = 100\n",
    "img = Image.new('RGB', (largeur, hauteur))\n",
    "\n",
    "# Balayage de tous les pixels de l'image\n",
    "for y in range(hauteur): # Balayage des lignes\n",
    "    for x in range(largeur): # Balayage des colonnes\n",
    "        img.putpixel((x, y), (255, 0, 0))\n",
    "\n",
    "img.show()\n",
    "img.save(\"carrerouge.png\", \"PNG\")"
   ]
  },
  {
   "cell_type": "markdown",
   "metadata": {},
   "source": [
    "Description des lignes du programme ci-dessus :\n",
    "- Ligne 4 : Création d'une image en mode RVB (RGB en anglais) de 200 pixels de largeur et 100 pixels de hauteur.\n",
    "- Ligne 7 : Pour y allant de 0 à 99 (=hauteur). C'est une boucle FOR permettant un balayage de toutes les lignes de l'image.\n",
    "- Ligne 8 : Pour x allant de 0 à 199 (=largeur). C'est une boucle FOR permettant un balayage de toutes les colonnes de l'image. Les deux boucles sont imbriquées l'une dans l'autre permettant de balayer tous les pixels de l'image.\n",
    "- Ligne 9 : Coloration du pixel de coordonnée (x, y) avec les valeurs RVB (255, 0, 0).\n",
    "\n",
    "À  vous de jouer : \n",
    "\n",
    "    1) Modifier le code pour créer une image bleue.\n",
    "    2) Modifier le code pour créer une image jaune.\n",
    "    3) Modifier le code pour colorer en rouge seulement la moitié supérieure de l'image. (Pour obtenir la division entière d'un nombre en python, il faut utiliser le double-slash //)"
   ]
  },
  {
   "cell_type": "markdown",
   "metadata": {},
   "source": [
    "# Application : Conversion en niveaux de gris\n",
    "\n",
    "Une technique pour convertir une image en niveau de gris est de réaliser la moyenne des trois composantes RVB du pixel et d'affecter cette moyenne aux trois composantes RVB. \n",
    "\n",
    "Attention : Les composantes doivent être des nombres entiers. Pour cela il y a toujours le double-slash // pour réaliser la division entière ou bien la fonction int() qui renvoie la partie entière de ce qui lui ait donné en argument.\n",
    "\n",
    "\n",
    "À vous de jouer : \n",
    "\n",
    "    1) Modifier les lignes 7, 8 et 9 du code ci-dessous afin de convertir l'image colorée en image en niveau de gris.\n",
    "    2) Modifier les lignes 7, 8 et 9 du code ci-dessous pour réaliser d'autres effets sur l'image"
   ]
  },
  {
   "cell_type": "code",
   "execution_count": null,
   "metadata": {},
   "outputs": [],
   "source": [
    "from PIL import Image\n",
    "img = Image.open(\"occitanie.jpg\")\n",
    "largeur, hauteur = img.size\n",
    "for y in range(hauteur):\n",
    "    for x in range(largeur):\n",
    "        r, v, b = img.getpixel((x, y))\n",
    "        r = r # Ligne à modifier\n",
    "        v = v # Ligne à modifier\n",
    "        b = b # Ligne à modifier\n",
    "        img.putpixel((x, y),(r, v, b))\n",
    "img.show()\n",
    "img.save(\"image_modif.png\", \"PNG\")"
   ]
  },
  {
   "cell_type": "markdown",
   "metadata": {},
   "source": [
    "# Application : Presque comme Snapchat !\n",
    "\n",
    "Pour faire presque comme Snapchat, programmer son propre filtre Snapchat permettant d'ajouter une auréole sur la tête du chat. \n",
    "\n",
    "Pour cela il faut :\n",
    "\n",
    "    1) ouvrir les deux images \"aureole.jpg\" et \"chat.jpg\". Ces deux images ont la même définition de 300x366 pixels.\n",
    "    2) copier les 61 premières lignes de pixels de l'image aureole.jpg (soit 1/6 de sa hauteur) sur l'image chat.jpg. \n",
    "\n",
    "À vous de jouer !!!"
   ]
  },
  {
   "cell_type": "code",
   "execution_count": null,
   "metadata": {},
   "outputs": [],
   "source": [
    "from PIL import Image\n",
    "# A VOUS DE JOUER"
   ]
  }
 ],
 "metadata": {
  "celltoolbar": "Pièces jointes",
  "kernelspec": {
   "display_name": "Python 3",
   "language": "python",
   "name": "python3"
  },
  "language_info": {
   "codemirror_mode": {
    "name": "ipython",
    "version": 3
   },
   "file_extension": ".py",
   "mimetype": "text/x-python",
   "name": "python",
   "nbconvert_exporter": "python",
   "pygments_lexer": "ipython3",
   "version": "3.7.6"
  }
 },
 "nbformat": 4,
 "nbformat_minor": 4
}
