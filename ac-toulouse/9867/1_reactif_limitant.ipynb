{
 "cells": [
  {
   "cell_type": "code",
   "execution_count": 1,
   "metadata": {},
   "outputs": [
    {
     "name": "stdout",
     "output_type": "stream",
     "text": [
      "Le réactif limitant est le  thiosulfate \n",
      " Avancement maximum :  0.5 mol\n"
     ]
    }
   ],
   "source": [
    "I2_0 = input('quantité initiale en diiode en mol :') # on ouvre une fenêtre qui demande à l'utilisateur d'entrer\n",
    "# un nombre correspondant à la quantité initiale en I2\n",
    "nI2_0 = float(I2_0) # on convertit cette entrée en flottant pour pouvoir la manipuler simplement. \n",
    "S2O3_0 = input('quantité initiale en thiosulfate en mol :') # Idem pour le thiosulfate\n",
    "nS2O3_0 = float(S2O3_0) #idem\n",
    "\n",
    "limitant =''  # initiallisation de la chaine de caractère correspondant au réactif limitant\n",
    "x=0  # avancement initial\n",
    "a=0.001 #pas d'avancement\n",
    "qI2=[nI2_0] # on crée une liste, contenant pour l'instant un seul élément qui correspond à la valeur initiale de I2\n",
    "qS2O3=[nS2O3_0] # idem pour le thiosulfate\n",
    "# écriture de la boucle while\n",
    "while qI2[-1] > 0 and qS2O3[-1] > 0: # tant que les deux concentrations sont non nulles\n",
    "    x=x+a # on remplace x par x+a : on affecte à x la valeur précédente de x+a\n",
    "    qI2.append(nI2_0-x) # on complète la liste qI2 par la valeur calculée nI2_0-x\n",
    "    qS2O3.append(nS2O3_0-2*x) #on complète la liste qS2O3 par la valeur calculée nS2O3-2*x\n",
    "#résolution du problème et affichage du résultat\n",
    "if qI2[-1]<=0: # si la dernière valeur de la liste qI2 (le -1 permet de sélectionner la dernière valeur de la liste) est nulle\n",
    "    limitant = 'diiode' # alors le réactif limitant est diiode\n",
    "if qS2O3[-1]<=0: #idem dans l'autre cas. \n",
    "    limitant = 'thiosulfate'\n",
    "#print(limitant) \n",
    "print('Le réactif limitant est le ',limitant,'\\n Avancement maximum : ',round(x,2),'mol' ) # on fait afficher le réactif limitant\n",
    "# round(x,2) sert à arrondir à deux chiffres le résultat numérique précédent."
   ]
  },
  {
   "cell_type": "code",
   "execution_count": null,
   "metadata": {},
   "outputs": [],
   "source": [
    "#### Définition de la procédure de recherche du réactif limitant ####\n",
    "#### pour l'équation de réaction : aA A + aB B = aC C + aD D\n",
    "A = input('quantité initiale de A en mol :') # on crée une entrée qui demande la quantité initiale de A\n",
    "nA = float(A) # on convertit l'entrée A en un flottant nA\n",
    "B = input('quantité initiale de B en mol :') #idem pour B\n",
    "nB = float(B)\n",
    "a = input('a:') # on fait entrer le coefficient stoechiométrique de A\n",
    "aA = float(a) # on le convertit en un flottant\n",
    "b = input('b :') #idem pour B\n",
    "aB = float(b) \n",
    "def react_lim(aA,aB,nA,nB) : # on définit une fonction qui prend 4 arguments et qui va effectuer un certain nombre d'opérations\n",
    "    x=0             # Initialisation de l'avancement\n",
    "    dx=0.00001      # on définit l'incrément d'avancement\n",
    "    qA=[nA]         # on définit une liste stockant les quantités de matière successives de A : \n",
    "# au début de la boucle, elle ne contient que la valeur initiale\n",
    "    qB=[nB]         # Idem pour B\n",
    "    RL=[]           # On définit une liste qui stockera le nom du réactif limitant ; au début, elle est vide.\n",
    "    while qA[-1]>0 and qB[-1]>0 : #comme précédemment, tant que les deux concentrations sont non nulles\n",
    "        x=x+dx # on remplace x par x+dx\n",
    "        qA.append(nA-aA*x) #on complète la liste qA par la valeur calculée nA-aA*x\n",
    "        qB.append(nB-aB*x) #idem pour B\n",
    "    if qA[-1]<=0 : #si la dernière valeur de qA est nulle\n",
    "        RL.append('A') #compléter la liste du réactif limitant RL par A\n",
    "    if qB[-1]<=0 : #idem pour B\n",
    "        RL.append('B')\n",
    "    return(RL,round(x,2)) # retourner RL et donner la valeur de l'avancement arrondie à 2 chiffres\n",
    "\n",
    "react_lim(aA,aB,nA,nB) # effectuer la fonction reac_lim pour les grandeurs entrées par l'utilisateur \n"
   ]
  },
  {
   "cell_type": "code",
   "execution_count": 3,
   "metadata": {},
   "outputs": [
    {
     "data": {
      "text/plain": [
       "(['B'], 1.67)"
      ]
     },
     "execution_count": 3,
     "metadata": {},
     "output_type": "execute_result"
    }
   ],
   "source": [
    "react_lim(1,3,6,5) # test de la fonction définie précédemment pour un certain jeu de valeurs de paramètres"
   ]
  },
  {
   "cell_type": "code",
   "execution_count": null,
   "metadata": {},
   "outputs": [],
   "source": []
  },
  {
   "cell_type": "code",
   "execution_count": null,
   "metadata": {},
   "outputs": [],
   "source": []
  },
  {
   "cell_type": "code",
   "execution_count": null,
   "metadata": {},
   "outputs": [],
   "source": []
  }
 ],
 "metadata": {
  "kernelspec": {
   "display_name": "Python 3",
   "language": "python",
   "name": "python3"
  },
  "language_info": {
   "codemirror_mode": {
    "name": "ipython",
    "version": 3
   },
   "file_extension": ".py",
   "mimetype": "text/x-python",
   "name": "python",
   "nbconvert_exporter": "python",
   "pygments_lexer": "ipython3",
   "version": "3.6.4"
  }
 },
 "nbformat": 4,
 "nbformat_minor": 2
}
