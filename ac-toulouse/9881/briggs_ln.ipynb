{
 "cells": [
  {
   "cell_type": "markdown",
   "metadata": {},
   "source": [
    "### Approximation du logarithme népérien"
   ]
  },
  {
   "cell_type": "markdown",
   "metadata": {},
   "source": [
    "#### Mise en oeuvre l'algorithme de Briggs par calcul itéré de racines carrées de x pour approcher ln(x)."
   ]
  },
  {
   "cell_type": "markdown",
   "metadata": {},
   "source": [
    "Compléter la fonction python \"approx_ln\" qui prend en paramètres un réel x>0 et un réel h>0 afin qu'elle renvoie une valeur approchée de ln(x) à la précision h et le nombre n de racines carrées successives de x calculées pour obtenir la précision h.\n",
    "NB: une fois le code dans la cellule ci-dessous completé, cliquer dans cette cellule pour y positionner le curseur, puis cliquer sur le bouton exécuter dans la barre des outils ci-dessus pour rednre le code saisi opérationnel."
   ]
  },
  {
   "cell_type": "code",
   "execution_count": 3,
   "metadata": {},
   "outputs": [],
   "source": [
    "from math import sqrt\n",
    "def approx_ln(x,h):\n",
    "    n = 0\n",
    "    \n",
    "    return "
   ]
  },
  {
   "cell_type": "markdown",
   "metadata": {},
   "source": [
    "Une fois que le code de la cellule ci-dessus a été complété et exécuté, utiliser la cellule ci-dessous pour tester votre fonction comme vous le feriez dans la console d'une IDE python:\n",
    "--> saisissez l'instruction permettant le test;\n",
    "--> cliquer dans la cellule pour y positionner le curseur puis cliquer sur le bouton exécuter  dans la barre des outils ci-dessus pour obtenir le résultat."
   ]
  },
  {
   "cell_type": "code",
   "execution_count": null,
   "metadata": {},
   "outputs": [],
   "source": []
  }
 ],
 "metadata": {
  "kernelspec": {
   "display_name": "Python 3",
   "language": "python",
   "name": "python3"
  },
  "language_info": {
   "codemirror_mode": {
    "name": "ipython",
    "version": 3
   },
   "file_extension": ".py",
   "mimetype": "text/x-python",
   "name": "python",
   "nbconvert_exporter": "python",
   "pygments_lexer": "ipython3",
   "version": "3.7.6"
  }
 },
 "nbformat": 4,
 "nbformat_minor": 4
}
