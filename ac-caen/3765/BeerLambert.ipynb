{
 "cells": [
  {
   "cell_type": "markdown",
   "metadata": {},
   "source": [
    "# Modélisation des variations de l'absorbance en fonction de la concentration - Loi de Beer-Lambert#"
   ]
  },
  {
   "cell_type": "markdown",
   "metadata": {},
   "source": [
    "On reprend ici les mesures effectuées lors de la séance de travaux pratiques sur la loi de Beer-Lambert avec comme objectif :\n",
    "* de les traiter dans un programme en Python ;\n",
    "* de les placer sur un graphique ;\n",
    "* d'obtenir la loi de Beer-Lambert en modélisant la série de mesures par une fonction linéaire."
   ]
  },
  {
   "cell_type": "markdown",
   "metadata": {},
   "source": [
    "**Dans cette page, les cellules de code s'exécutent en utilisant la barre d'outils ou la combinaison de touches MAJ + ENTRÉE**"
   ]
  },
  {
   "cell_type": "code",
   "execution_count": 28,
   "metadata": {},
   "outputs": [],
   "source": [
    "# Cette cellule importe les bibliothèques nécessaires à l'écriture du programme\n",
    "import math  # Contient les fonctions mathématiques usuelles\n",
    "import numpy as np  # Permet notamment la création de tableaux de mesures simples à manipuler\n",
    "import matplotlib.pyplot as plt  # Bibliothèque graphique pour tracer les courbes et placer les points de mesure\n",
    "from scipy.optimize import curve_fit  # Importation de la fonction de recherche du modèle."
   ]
  },
  {
   "cell_type": "markdown",
   "metadata": {},
   "source": [
    "## Définition du modèle ##\n",
    "On définit la fonction mathématique que l'on cherche à modéliser, avec l'ensemble des paramètres nécessaires.<br>\n",
    "Il s'agit de la loi de Beer-Lambert qui permet de calculer l'absorbance *A* quand on connait la concentration molaire *C*. *k* étant le coefficient de proportionalité entre ces deux grandeurs, à déterminer."
   ]
  },
  {
   "cell_type": "code",
   "execution_count": null,
   "metadata": {},
   "outputs": [],
   "source": [
    "def BeerLambert(k, C):  # On nomme la fonction (BeerLambert). Elle renvoie la valeur de A si on fournit k et C\n",
    "    A = k * C\n",
    "    return A  # Renvoie l'absorbance"
   ]
  },
  {
   "cell_type": "markdown",
   "metadata": {},
   "source": [
    "## Saisie des mesures expérimentales ##\n",
    "Les concentrations C et les absorbances correspondantes sont saisies dans deux tableaux de valeurs :\n",
    "* entre crochets [] ;\n",
    "* le séparateur décimal est le point '.' ;\n",
    "* chaque valeur est séparée par une virgule ','.<br>\n",
    "On ajoutera la valeur C = 0 et A = 0,  correspondant \"au blanc\" du colorimètre."
   ]
  },
  {
   "cell_type": "code",
   "execution_count": null,
   "metadata": {},
   "outputs": [],
   "source": [
    "C = np.array([0])  # Saisie des concentrations\n",
    "Aexpe = np.array([0])  # Saisie des valeurs des absorbances mesurées expérimentalement\n",
    "print(C)  # Affichage des valeurs saisies pour vérification\n",
    "print(A)  # idem"
   ]
  },
  {
   "cell_type": "markdown",
   "metadata": {},
   "source": [
    "## Obtention de la modélisation##\n",
    "On obtient la modélisation à l'aide de la fonction curve_fit() qui prend comme arguments les éléments suivants :\n",
    "* la fonction modèle (Beer-Lambert) ;\n",
    "* la série de données en abscisses : la concentration C ;\n",
    "* la série de données en ordonnées : l'absorbance A.<br>"
   ]
  },
  {
   "cell_type": "code",
   "execution_count": null,
   "metadata": {},
   "outputs": [],
   "source": [
    "parametres = curve_fit(BeerLambert, C, Aexpe)  # On stocke le résultat de la modélisation dans une liste (parametres)\n",
    "kexpe = parametres[0]  # Un seul paramètre ici, la constante kexpe (expérimental) : le coefficient de proportionnalité entre A et C\n",
    "equation = \"A = \" + \"%.0f\"%kexpe + \" x C\"  # Mise en forme de l'équation en tant que chaîne de caractères pour affichage\n",
    "print(equation)  # Affichage du modèle pour vérification"
   ]
  },
  {
   "cell_type": "markdown",
   "metadata": {},
   "source": [
    "## Construction de la représentation graphique ##\n",
    "On place sur la même représentation graphique :\n",
    "* les points expérimentaux ;\n",
    "* la modélisation calculée précédemment.<br>"
   ]
  },
  {
   "cell_type": "code",
   "execution_count": null,
   "metadata": {},
   "outputs": [],
   "source": [
    "Amodele = BeerLambert(kexpe, C)  # On utilise la constante kexpe pour obtenir les valeurs de l'absorbance modélisée\n",
    "print(Amodele)  # Pour vérification"
   ]
  },
  {
   "cell_type": "code",
   "execution_count": null,
   "metadata": {},
   "outputs": [],
   "source": [
    "plt.plot(Série en abscisses, Série en ordonnées, \"r+\", label=\"Mesures\")  # On place les points expérimentaux, r pour red et + pour la forme du point, étiquette pour la légende \"Mesures\"\n",
    "plt.plot(Série en abscisses, Série en ordonnées, color = 'blue', label = \"Modèle : \" + equation)  # Tracé de la modélisation en bleu, étiquette \"Modèle et équation de la droite\"\n",
    "plt.title(\"Loi de Beer-Lambert pour les ions permanganate\")  # Titre du graphique\n",
    "plt.xlabel(\"C (mol/L)\")  # Étiquette de l'axe des abscisses\n",
    "plt.ylabel(\"Absorbance\")  # Étiquette de l'axe des ordonnées\n",
    "plt.legend()  # Affichage de la légende\n",
    "plt.show()  # Affichage du graphique"
   ]
  }
 ],
 "metadata": {
  "kernelspec": {
   "display_name": "Python 3",
   "language": "python",
   "name": "python3"
  },
  "language_info": {
   "codemirror_mode": {
    "name": "ipython",
    "version": 3
   },
   "file_extension": ".py",
   "mimetype": "text/x-python",
   "name": "python",
   "nbconvert_exporter": "python",
   "pygments_lexer": "ipython3",
   "version": "3.6.9"
  }
 },
 "nbformat": 4,
 "nbformat_minor": 4
}
