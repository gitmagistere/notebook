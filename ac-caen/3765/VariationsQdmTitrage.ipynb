{
 "cells": [
  {
   "cell_type": "markdown",
   "metadata": {},
   "source": [
    "# Évolution des quantités de matière lors d'un titrage #"
   ]
  },
  {
   "cell_type": "markdown",
   "metadata": {},
   "source": [
    "**Objectif :** Il s'agit de simuler l'évolution des quantités de matière des réactif titré et titrant lors d'un titrage en fonction du volume de réactif titrant versé.<br>\n",
    "L'équation de la réaction chimique support du titrage est la suivante  :<br>\n",
    "**a A + b B ---> Produits**<br>\n",
    "A est le réactif titré et B le réactif titrant.\n",
    "On entre l'ensemble des paramètres du titrage afin de mettre en évidence graphiquement le changement de réactif limitant lors de l'équivalence :\n",
    "* le coefficient stoechiométrique du réactif titré, noté **a** ;\n",
    "* le coefficient stoechiométrique du réactif titré, noté **b** ;\n",
    "* la concentration molaire de la solution titrée, notée **Ctitree** ;\n",
    "* la concentration molaire de la solution titrante, notée **Ctitrante** ;\n",
    "* le volume de solution titrée prélevé, noté **V**.\n",
    "\n",
    "RAPPEL : Pour éxécuter une cellule de code dans cette page, la sélectionner puis utilisez la combinaison de touches **MAJ + ENTRÉE**. Il est aussi possible d'utiliser l'icone correspondant dans la barre d'outils."
   ]
  },
  {
   "cell_type": "code",
   "execution_count": null,
   "metadata": {},
   "outputs": [],
   "source": [
    "# Importation de la bibliothèque permettant de tracer les graphiques\n",
    "%matplotlib inline  # À enlever si téléchargement du programme au format .py\n",
    "import matplotlib.pyplot as plt\n",
    "# Importation de la bibliothèque numpy pour les listes\n",
    "import numpy as np"
   ]
  },
  {
   "cell_type": "markdown",
   "metadata": {},
   "source": [
    "## Définition d'une fonction permettant de calculer l'avancement maximal ##"
   ]
  },
  {
   "cell_type": "markdown",
   "metadata": {},
   "source": [
    "Il s'agit de calculer l'avancement maximal afin d'en déduire les quantités de matière des deux réactifs.<br>\n",
    "Les paramètres de la fonction sont le coefficient stoechiométrique **a** du réactif A, **na** sa quantité de matière, le coefficient stoechiométrique **b** du réactif B et **nb** sa quantité de matière.\n",
    "En vous appuyant éventuellement sur un tableau d'avancement, répondez aux questions suivantes.\n",
    "1. Quelle est l'expression de l'avancement maximal en fonction de **na** et **a** si le réactif A est limitant ?\n",
    "2. Quelle est l'expression de l'avancelent maximal en fonction de **nb** et **b** si le réactif B est limitant ?\n",
    "3. Quelle est la valeur de l'avancement maximal retenue ?\n",
    "4. Exploiter les réponses précédentes pour compléter la fonction ci-dessous qui doit renvoyer la valeur de l'avancement maximal.\n",
    "Remarque : les fonction *min()* et *max()* permettent de déterminer le minimum ou le maximum d'une liste de valeurs."
   ]
  },
  {
   "cell_type": "code",
   "execution_count": null,
   "metadata": {},
   "outputs": [],
   "source": [
    "def avancementMax(a, na, b, nb) :\n",
    "    xMax = À COMPLÉTER\n",
    "    return xMax"
   ]
  },
  {
   "cell_type": "markdown",
   "metadata": {},
   "source": [
    "## Entrée des paramètres du titrage par l'utilisateur ##"
   ]
  },
  {
   "cell_type": "markdown",
   "metadata": {},
   "source": [
    "Les lignes ci-dessous interrogent l'utilisateur afin qu'il entre les paramètres du titrage.<br>\n",
    "ATTENTION : le séparateur décimal est le **'.'**, et pas la **','**.<br>\n",
    "Répondez aux questions en reprenant les paramètres d'un des titrages réalisés en travaux pratiques : titrage du dioxyde de soufre, dureté de l'eau ou dosage de la vitamine C dans le jus de citron."
   ]
  },
  {
   "cell_type": "code",
   "execution_count": null,
   "metadata": {},
   "outputs": [],
   "source": [
    "print(\"ÉQUATION DE LA RÉACTION SUPPORT DU TITRAGE\")\n",
    "print(\"a A + b B --> Produits\")\n",
    "print(\"A est le réactif TITRÉ et B est le réactif TITRANT.\")\n",
    "\n",
    "a = int(input(\"Entrez le coefficient stoechiométrique du réactif titré : \"))\n",
    "b = int(input(\"Entrez le coefficient stoechiométrique du réactif titrant : \"))\n",
    "Ctitre = float(input(\"Entrez la concentration du réactif titré en mol/L : \"))\n",
    "Vtitre = float(input(\"Entrez le volume de réactif titré prélevé en mL : \"))\n",
    "Ctitrant = float(input(\"Entrez la concentration du réactif titrant en mol/L : \"))"
   ]
  },
  {
   "cell_type": "markdown",
   "metadata": {},
   "source": [
    "## Initialisation des listes et constantes ##"
   ]
  },
  {
   "cell_type": "markdown",
   "metadata": {},
   "source": [
    "**On crée :**\n",
    "* la liste contenant le volume de réactif titrant **Vtitrant** versé : maximum 25 mL, par intervalles de 0,05 mL comme les graduations des burettes utilisées ;\n",
    "* la liste **na** pour la quantité de matière du réactif titré ;\n",
    "* la liste **nb** pour la quantité de matière du réactif titrant ;\n",
    "* la quantité de matière initiale de réactif titré **na0** ;\n",
    "* une liste pour le volume de solution titrante versé **Vtitrant** : correspondant à une burette de 25 mL, graduée tous les 0.5 mL."
   ]
  },
  {
   "cell_type": "markdown",
   "metadata": {},
   "source": [
    "Afin de compléter la ligne définissant na0, répondez à la question suivante :<br>\n",
    "*Quelle est la relation entre **na0**, la concentration **Ctitre** et le volume prélevé **Vtitre** ?*<br>\n",
    "Complétez la ligne manquante en conséquence."
   ]
  },
  {
   "cell_type": "code",
   "execution_count": null,
   "metadata": {},
   "outputs": [],
   "source": [
    "Vtitrant = np.linspace(0, 25., 501)\n",
    "na = []\n",
    "nb = []\n",
    "na0 = À COMPLÉTER\n",
    "Vtitrant = np.linspace(0, 25., 501)  # On limite les variations du volume de réactif titrant au volume d'une burette de 25 mL"
   ]
  },
  {
   "cell_type": "markdown",
   "metadata": {},
   "source": [
    "## Calcul des quantités de matières dans le système en fonction du volume de réactif titrant versé ##"
   ]
  },
  {
   "cell_type": "markdown",
   "metadata": {},
   "source": [
    "La quantité de matière initiale du réactif titré **na0** est déterminée une seule fois alors que la quantité de matière initiale **nb0** de réactif titré introduit dans le système est calculée pour chaque valeur du volume versé.<br>\n",
    "On complète les listes **na** et **nb** respectivement avec la quantité de matière finale une fois que les deux réactifs ont réagi complètement.<br>\n",
    "En vous aidant si besoin d'un tableau d'avancement :\n",
    "1. Donnez l'expression de **na** en fonction de **a**, **na0** et **Xmax**.\n",
    "2. Donnez l'expression de **nb** en fonction de **b**, **nb0** et **Xmax**.\n",
    "En python, l'ajout d'une valeur à une liste se fait par la fonction *append* en la précédant du nom de la liste concernée.<br>\n",
    "Complétez les lignes de code ci-dessous en vous appuyant sur vos réponses précédentes."
   ]
  },
  {
   "cell_type": "code",
   "execution_count": null,
   "metadata": {},
   "outputs": [],
   "source": [
    "for v in Vtitrant :  # Pour toutes les valeurs de volume versé à la burette\n",
    "    nb0 =   # Calcul de la quantité de matière de réactif titrant versé en fonction de Ctitrant et v\n",
    "    xMax =  # Détermination de la valeur de l'avancement maximal à partir des quantités de matière initiales na0 et nb0\n",
    "    na.append()  # Compléter avec une expression basée sur votre réponse à la question 1.\n",
    "    nb.append()  # Compléter avec une expression basée sur votre réponse à la question 2."
   ]
  },
  {
   "cell_type": "markdown",
   "metadata": {},
   "source": [
    "## Tracé des variations des quantités de matière des réactifs ##"
   ]
  },
  {
   "cell_type": "markdown",
   "metadata": {},
   "source": [
    "Vous pouvez compléter les légendes des axes pour qu'elles correspondent au phénomène simulé."
   ]
  },
  {
   "cell_type": "code",
   "execution_count": null,
   "metadata": {},
   "outputs": [],
   "source": [
    "plt.plot(Vtitrant, na, color = \"blue\", label = \"Réactif titré\")\n",
    "plt.plot(Vtitrant, nb, color = \"red\", label = \"Réactif titrant\")\n",
    "plt.title(\"Évolution des quantités de matière lors d'un titrage\")\n",
    "plt.xlabel(\"\")  # Légende de l'axe des abscisses\n",
    "plt.ylabel(\"\")  # Légende de l'axe des ordonnées\n",
    "plt.grid()  # Affichage de la grille\n",
    "plt.legend()  # Affichage de la légende\n",
    "plt.show()  # Affichage du graphique (utile si vous téléchargez le code complet au format .py)"
   ]
  },
  {
   "cell_type": "markdown",
   "metadata": {},
   "source": [
    "1. Comment repère-t-on le volume versé à l'aquivalence sur le graphique ?\n",
    "2. Quel est le réactif limitant AVANT l'équivalence ? Comment cela se manifeste-t-il graphiquement ?\n",
    "3. Quel est le réactif limitant APRÈS l'équivalence ? Comment cela se manifeste-t-il graphiquement ?"
   ]
  }
 ],
 "metadata": {
  "kernelspec": {
   "display_name": "Python 3",
   "language": "python",
   "name": "python3"
  },
  "language_info": {
   "codemirror_mode": {
    "name": "ipython",
    "version": 3
   },
   "file_extension": ".py",
   "mimetype": "text/x-python",
   "name": "python",
   "nbconvert_exporter": "python",
   "pygments_lexer": "ipython3",
   "version": "3.6.9"
  }
 },
 "nbformat": 4,
 "nbformat_minor": 4
}
