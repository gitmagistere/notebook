{
 "cells": [
  {
   "cell_type": "code",
   "execution_count": 2,
   "metadata": {},
   "outputs": [
    {
     "name": "stdout",
     "output_type": "stream",
     "text": [
      "pour le choix 1, le résultat est : 5 pour le choix 2, le résultat est : 6\n"
     ]
    }
   ],
   "source": [
    "def operation(a,b,choix):\n",
    "    if choix==1:\n",
    "        s=a+b\n",
    "        return s\n",
    "    if choix==2:\n",
    "        p=a*b\n",
    "        return p\n",
    "    \n",
    "print('pour le choix 1, le résultat est :',operation(2,3,1),'pour le choix 2, le résultat est :',operation(2,3,2))\n",
    "\n",
    "    \n"
   ]
  },
  {
   "cell_type": "code",
   "execution_count": null,
   "metadata": {},
   "outputs": [],
   "source": []
  }
 ],
 "metadata": {
  "kernelspec": {
   "display_name": "Python 3",
   "language": "python",
   "name": "python3"
  },
  "language_info": {
   "codemirror_mode": {
    "name": "ipython",
    "version": 3
   },
   "file_extension": ".py",
   "mimetype": "text/x-python",
   "name": "python",
   "nbconvert_exporter": "python",
   "pygments_lexer": "ipython3",
   "version": "3.7.1"
  }
 },
 "nbformat": 4,
 "nbformat_minor": 2
}
