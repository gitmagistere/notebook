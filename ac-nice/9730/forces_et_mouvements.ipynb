{
 "cells": [
  {
   "cell_type": "markdown",
   "metadata": {},
   "source": [
    "# <center><div style=\"padding:5px; border-radius:6px;background-color:blue;\"><font color='white'>Forces et Mouvements</font></div></center>"
   ]
  },
  {
   "cell_type": "markdown",
   "metadata": {},
   "source": [
    "## objectifs"
   ]
  },
  {
   "cell_type": "markdown",
   "metadata": {},
   "source": [
    "Cette séance de TP va vous amener à réfléchir sur les relations entre actions mécaniques et le mouvement d'un objet.\n",
    "\n",
    "Je vous rappelle que le petit mémo d'utilisation du **markdown** se trouve [ici même](https://capytale2.ac-paris.fr/p/basthon/n/?kernel=python3&id=1294035), vous remarquerez qu'il contient également un mémo d'utilisation de **LaTex**.\n",
    "\n",
    "Nous allons démarrer avec un petit rappel statique et nous orienter vers un travail dynamique par la suite."
   ]
  },
  {
   "cell_type": "markdown",
   "metadata": {},
   "source": [
    "### <div class=\"alert alert-warning\">1) au repos</div>"
   ]
  },
  {
   "cell_type": "markdown",
   "metadata": {},
   "source": [
    "Dans la situation suivante, quelles sont les actions mécaniques qui s'exercent sur l'objet patatoïde au repos ? ![patatoïde](https://lycee-raynouard.fr/wp-content/uploads/2023/03/patatoide.png)"
   ]
  },
  {
   "cell_type": "markdown",
   "metadata": {},
   "source": [
    "<span style=\"color:green\">votre réponse:</span>\n"
   ]
  },
  {
   "cell_type": "markdown",
   "metadata": {},
   "source": []
  },
  {
   "cell_type": "markdown",
   "metadata": {},
   "source": [
    "Quelles forces modélisent ces actions mécaniques ?"
   ]
  },
  {
   "cell_type": "markdown",
   "metadata": {},
   "source": [
    "<span style=\"color:green\">votre réponse:</span>\n"
   ]
  },
  {
   "cell_type": "markdown",
   "metadata": {},
   "source": []
  },
  {
   "cell_type": "markdown",
   "metadata": {},
   "source": [
    "Donner les caractéristiques de ces forces:"
   ]
  },
  {
   "cell_type": "markdown",
   "metadata": {},
   "source": [
    "<span style=\"color:green\">votre réponse:</span>\n"
   ]
  },
  {
   "cell_type": "markdown",
   "metadata": {},
   "source": []
  },
  {
   "cell_type": "markdown",
   "metadata": {},
   "source": [
    "En terme de somme vectorielle que dire de ces forces ?"
   ]
  },
  {
   "cell_type": "markdown",
   "metadata": {},
   "source": [
    "<span style=\"color:green\">votre réponse:</span>\n"
   ]
  },
  {
   "cell_type": "markdown",
   "metadata": {},
   "source": []
  },
  {
   "cell_type": "markdown",
   "metadata": {},
   "source": [
    "Pour écrire un vecteur on peut utiliser, en **markdown**, une insertion du langage **<span style=\"color:red\">LaTex.</span>**\n",
    "Pour cela on utilise la commande **\\overrightarrow**.\n",
    "\n",
    "Cette commande s'applique au nom du vecteur, AB par exemple, placé entre accolades **{}**...Cela nous donne donc **\\overrightarrow{AB}**.\n",
    "\n",
    "Et enfin pour que cette commande soit effective on encadre le tout par des \"dollars\"...ce qui donne au final:\n",
    "$\\overrightarrow{AB}$"
   ]
  },
  {
   "cell_type": "markdown",
   "metadata": {},
   "source": [
    "<span style=\"color:green\">A l'aide des indications ci-dessus, écrire la **formule de la relation vectorielle** qui traduit l'équilibre au repos du pataoïde.</span>"
   ]
  },
  {
   "cell_type": "markdown",
   "metadata": {},
   "source": [
    "<span style=\"color:green\">votre réponse:</span>\n"
   ]
  },
  {
   "cell_type": "markdown",
   "metadata": {},
   "source": [
    " "
   ]
  },
  {
   "cell_type": "markdown",
   "metadata": {},
   "source": [
    "### <div class=\"alert alert-warning\">2) en mouvement</div>"
   ]
  },
  {
   "cell_type": "markdown",
   "metadata": {},
   "source": [
    "**<div class=\"alert alert-block alert-info\">a) un cas simple</div>**"
   ]
  },
  {
   "cell_type": "markdown",
   "metadata": {},
   "source": [
    "Nous allons maintenant utiliser pour la suite de notre étude des mobiles autoporteurs sur une table horizontale...bref le principe de la table à coussin d'air que nous avons déjà utilisé:\n",
    "![table à coussin d'air](https://physique.ensc-rennes.fr/images/tp_coussin_air/ensemble-materiel.jpg)"
   ]
  },
  {
   "cell_type": "markdown",
   "metadata": {},
   "source": [
    "<span style=\"color:green\">quelle est la masse du mobile autoporteur que nous allons utiliser ?</span>"
   ]
  },
  {
   "cell_type": "markdown",
   "metadata": {},
   "source": [
    "m =.......kg"
   ]
  },
  {
   "cell_type": "markdown",
   "metadata": {},
   "source": [
    "sachant que $ g^0 = 9,81 N.kg^{-1} $ quelle est la valeur du poids de ce mobile ?"
   ]
  },
  {
   "cell_type": "markdown",
   "metadata": {},
   "source": [
    "P =.......N"
   ]
  },
  {
   "cell_type": "markdown",
   "metadata": {},
   "source": [
    "<span style=\"color:green\">Quelle sera la valeur de la réaction R de la table ? justifiez votre réponse</span>"
   ]
  },
  {
   "cell_type": "markdown",
   "metadata": {},
   "source": [
    "<span style=\"color:green\">votre réponse:</span>\n"
   ]
  },
  {
   "cell_type": "markdown",
   "metadata": {},
   "source": [
    " "
   ]
  },
  {
   "cell_type": "markdown",
   "metadata": {},
   "source": [
    "**Expérience**"
   ]
  },
  {
   "cell_type": "markdown",
   "metadata": {},
   "source": [
    "protocole:\n",
    "* On allume maintenant le mobile autoporteur.\n",
    "\n",
    "* La mise en route du moteur entraine une formation d'un matelas d'air pulsé sous le mobile ce qui a pour effet de supprimer tout frottement entre la base du mobile et la table.\n",
    "\n",
    "* **Aucune force supplémentaire n'est créée.**\n",
    "* régler la centrale à impulsions sur $ \\Delta{t} = 40 ms$\n",
    "\n",
    "* Donner une impulsion au mobile et déclencher simultanément les impulsions électriques de marquage\n",
    "* Une fois que le mobile a parcouru la feuille arrêter l'expérience"
   ]
  },
  {
   "cell_type": "markdown",
   "metadata": {},
   "source": [
    "<span style=\"color:green\">Qu'observez vous sur la feuille ?</span>"
   ]
  },
  {
   "cell_type": "markdown",
   "metadata": {},
   "source": [
    "<span style=\"color:green\">votre réponse:</span>\n"
   ]
  },
  {
   "cell_type": "markdown",
   "metadata": {},
   "source": [
    " "
   ]
  },
  {
   "cell_type": "markdown",
   "metadata": {},
   "source": [
    "**Grandeurs expérimentales**"
   ]
  },
  {
   "cell_type": "markdown",
   "metadata": {},
   "source": [
    "* récupérez la feuille\n",
    "* tracez un repère orthormé sur celle-ci\n",
    "* repérez les positions (x,y) de chaque point de la trajectoire et placez ceux-ci dans le tableau suivant"
   ]
  },
  {
   "cell_type": "markdown",
   "metadata": {},
   "source": [
    "|POINT N°| 1| 2 |3|..|\n",
    "|:---|:---|:---|:---|:---|\n",
    "|X   | .. | .. | .. | .. |\n",
    "|Y   | .. | .. | .. | .. |  \n"
   ]
  },
  {
   "cell_type": "markdown",
   "metadata": {},
   "source": [
    "**Représentation de la trajectoire**"
   ]
  },
  {
   "cell_type": "markdown",
   "metadata": {},
   "source": [
    "On va utiliser le langage **Python** dans ce Notebook pour reproduire la trajectoire"
   ]
  },
  {
   "cell_type": "code",
   "execution_count": null,
   "metadata": {},
   "outputs": [],
   "source": [
    "#on déclare la fonction et la bibliothèque que l'on va utiliser\n",
    "#pour aller plus vite on déclare que la fonction pyplot sera nommée en tant que plt\n",
    "\n",
    "import matplotlib.pyplot as plt\n",
    "\n",
    "#On définit une fonction que l'on pourra par la suite réutiliser si besoin dans un autre programme\n",
    "#ça peut être pratique\n",
    "\n",
    "def tracer_des_positions(abscisses,ordonnees):\n",
    "    plt.scatter(abscisses,ordonnees,marker='+')\n",
    "    plt.title('Positions successives occupées par le mobile')\n",
    "    plt.xlabel('x en (m)')\n",
    "    plt.ylabel('y en (m)')\n",
    "    \n",
    "#Le programme principal--------------------------------------------\n",
    "\n",
    "# on définit les deux listes qui regroupent les valeurs expérimentales des x et y \n",
    "# attention on doit avoir les même nombres de données dans les deux\n",
    "# mettez vos valeurs séparées par des ,\n",
    "\n",
    "x=[]\n",
    "y=[]\n",
    "\n",
    "#on appelle la fonction appliquée à nos deux listes\n",
    "\n",
    "tracer_des_positions(x,y)\n",
    "plt.show()"
   ]
  },
  {
   "cell_type": "markdown",
   "metadata": {},
   "source": [
    "<span style=\"color:green\">Que pouvez vous dire de cette trajectoire ?</span>"
   ]
  },
  {
   "cell_type": "markdown",
   "metadata": {},
   "source": [
    "<span style=\"color:green\">votre réponse:</span>\n"
   ]
  },
  {
   "cell_type": "markdown",
   "metadata": {},
   "source": [
    " "
   ]
  },
  {
   "cell_type": "markdown",
   "metadata": {},
   "source": [
    "<span style=\"color:green\">Faites une synthèse regroupant votre observation du mouvement et ce que vous savez des forces appliquées à votre mobile.</span>\n",
    "    \n",
    "<span style=\"color:green\">N'hésitez pas à écrire au besoin une ou des formules vectorielles en LaTex</span>"
   ]
  },
  {
   "cell_type": "markdown",
   "metadata": {},
   "source": [
    "<span style=\"color:green\">votre réponse:</span>\n"
   ]
  },
  {
   "cell_type": "markdown",
   "metadata": {},
   "source": [
    " "
   ]
  },
  {
   "cell_type": "markdown",
   "metadata": {},
   "source": [
    "**<div class=\"alert alert-block alert-info\">b) Allons plus loin</div>**"
   ]
  },
  {
   "cell_type": "markdown",
   "metadata": {},
   "source": [
    "On va maintenant s'intéresser aux vitesses de notre mobile au cours de son déplacement et à la représentation de celles-ci.\n",
    "\n",
    "Pour ce faire nous allons reprendre en quelque sorte le précédent programme mais en intégrant la déclaration d'une fonction qui va calculer la vitesse instantanée en chaque point (quand c'est possible).\n",
    "\n",
    "Nous tracerons ensuite les vecteurs vitesses instantanées "
   ]
  },
  {
   "cell_type": "code",
   "execution_count": null,
   "metadata": {},
   "outputs": [],
   "source": [
    "import matplotlib.pyplot as plt\n",
    "\n",
    "#Les fonctions------------------------------------------------------\n",
    "\n",
    "def Tracer_des_positions(abscisses,ordonnees):\n",
    "    plt.scatter(abscisses,ordonnees,marker='+')\n",
    "    plt.title('Positions successives occupées par le système')\n",
    "    plt.xlabel('abscisses x en (m)')\n",
    "    plt.ylabel('ordonnées y en (m)')\n",
    "    plt.xlim(0.8*min(abscisses),1.2*max(abscisses))\n",
    "\n",
    "def calcul_vitesses(abscisses,ordonnees,temps):\n",
    "    v_x=[]\n",
    "    v_y=[]\n",
    "    for n in range(len(abscisses)-1):\n",
    "        print(n)\n",
    "        v_x.append((abscisses[n+1]-abscisses[n])/(temps[n+1]-temps[n]))\n",
    "        v_y.append((ordonnees[n+1]-ordonnees[n])/(temps[n+1]-temps[n]))\n",
    "    temps=temps[:-1]\n",
    "    return v_x,v_y,temps\n",
    "\n",
    "def representation_vecteur_vitesse(abscisses,ordonnees,v_x,v_y):\n",
    "    for i in range(len(v_x)):\n",
    "        plt.quiver(abscisses[i], ordonnees[i] ,v_x[i] , v_y[i], scale_units='xy',angles='xy', scale=15)\n",
    "    Tracer_des_positions(abscisses,ordonnees)\n",
    "\n",
    "#Le programme principal--------------------------------------------\n",
    "# vous rentrez les valeurs des abscisses et ordonnées ainsi que les temps en secondes.\n",
    "\n",
    "x=[]\n",
    "y=[]\n",
    "t=[]\n",
    "\n",
    "v_x,v_y,temps_v=calcul_vitesses(x,y,t)\n",
    "representation_vecteur_vitesse(x,y,v_x,v_y)\n",
    "plt.show()"
   ]
  },
  {
   "cell_type": "markdown",
   "metadata": {},
   "source": [
    "<span style=\"color:green\">Que constatez vous sur le graphique des vecteurs vitesses ?</span>"
   ]
  },
  {
   "cell_type": "markdown",
   "metadata": {},
   "source": [
    " "
   ]
  },
  {
   "cell_type": "markdown",
   "metadata": {},
   "source": [
    "<span style=\"color:green\">Etablissez une conclusion globale en liant le mouvement du mobile, la somme vectorielle des forces qui lui sont appliquées et la vitesse de celui-ci.</span>"
   ]
  },
  {
   "cell_type": "markdown",
   "metadata": {},
   "source": [
    " "
   ]
  },
  {
   "cell_type": "markdown",
   "metadata": {},
   "source": [
    "**<div class=\"alert alert-block alert-info\">c) un cas un peu plus intrigant</div>**"
   ]
  },
  {
   "cell_type": "markdown",
   "metadata": {},
   "source": [
    "**Protocole expérimental:**"
   ]
  },
  {
   "cell_type": "markdown",
   "metadata": {},
   "source": [
    "* attacher un morceau de cordelette sur le cerceau périphérique du mobile autoporteur\n",
    "* allumer la centrale à éclat et le mobile autoporteur\n",
    "* à l'aide votre pouce, coincer sur la table l'extrémité libre de la cordelette\n",
    "* tendre la cordelette en éloignant le mobile du point fixe imposé par votre pouce\n",
    "* donner une impulsion au mobile et déclencher simultanément la centrale à éclats: celui-ci va se déplacer en arc de cercle autour de votre pouce\n",
    "* lacher la cordelette en conservant l'action de la centrale à éclats: le mouvement se modifie\n",
    "* arrêter l'enregistrement quand le mobile quitte la feuille"
   ]
  },
  {
   "cell_type": "markdown",
   "metadata": {},
   "source": [
    "<span style=\"color:green\">Qu'observez vous sur la feuille ?</span>"
   ]
  },
  {
   "cell_type": "markdown",
   "metadata": {},
   "source": [
    "<span style=\"color:green\">votre réponse:</span>\n"
   ]
  },
  {
   "cell_type": "markdown",
   "metadata": {},
   "source": [
    " "
   ]
  },
  {
   "cell_type": "markdown",
   "metadata": {},
   "source": [
    "**Grandeurs expérimentales**"
   ]
  },
  {
   "cell_type": "markdown",
   "metadata": {},
   "source": [
    "* récupérez la feuille\n",
    "* tracez un repère orthormé sur celle-ci\n",
    "* repérez les positions (x,y) de chaque point de la trajectoire et placez ceux-ci dans le tableau suivant"
   ]
  },
  {
   "cell_type": "markdown",
   "metadata": {},
   "source": [
    "|POINT N°| 1| 2 |3|..|\n",
    "|:---|:---|:---|:---|:---|\n",
    "|X   | .. | .. | .. | .. |\n",
    "|Y   | .. | .. | .. | .. |  \n"
   ]
  },
  {
   "cell_type": "markdown",
   "metadata": {},
   "source": [
    "**Analyse**"
   ]
  },
  {
   "cell_type": "markdown",
   "metadata": {},
   "source": [
    "<span style=\"color:green\">A l'aide des deux programmes précédents, représentez les trajectoires et vecteurs vitesses du mobile</span>"
   ]
  },
  {
   "cell_type": "markdown",
   "metadata": {},
   "source": [
    "<span style=\"color:green\">Trajectoire :</span>"
   ]
  },
  {
   "cell_type": "code",
   "execution_count": null,
   "metadata": {},
   "outputs": [],
   "source": [
    " "
   ]
  },
  {
   "cell_type": "markdown",
   "metadata": {},
   "source": [
    "<span style=\"color:green\">Vecteurs vitesses : </span>"
   ]
  },
  {
   "cell_type": "code",
   "execution_count": null,
   "metadata": {},
   "outputs": [],
   "source": [
    " "
   ]
  },
  {
   "cell_type": "markdown",
   "metadata": {},
   "source": [
    "<span style=\"color:green\">Que pouvez vous dire du mouvement de votre mobile ? Combien identifiez vous de phases dans celui-ci ?</span>"
   ]
  },
  {
   "cell_type": "markdown",
   "metadata": {},
   "source": [
    " "
   ]
  },
  {
   "cell_type": "markdown",
   "metadata": {},
   "source": [
    "<span style=\"color:green\">Pour chacune de ces phases identifiez les forces agissant sur le mobile autoporteur et écrivez la somme vectorielle de celles-ci (en LaTex)</span>"
   ]
  },
  {
   "cell_type": "markdown",
   "metadata": {},
   "source": [
    " "
   ]
  },
  {
   "cell_type": "markdown",
   "metadata": {},
   "source": [
    "### <div class=\"alert alert-warning\">Conclusion :</div>"
   ]
  },
  {
   "cell_type": "markdown",
   "metadata": {},
   "source": [
    "**Proposez une conclusion générale au regard de ce que vous avez obtenus dans ces deux enregistrements.**"
   ]
  },
  {
   "cell_type": "markdown",
   "metadata": {},
   "source": [
    "<span style=\"color:green\">votre réponse :</span>"
   ]
  },
  {
   "cell_type": "code",
   "execution_count": null,
   "metadata": {},
   "outputs": [],
   "source": []
  }
 ],
 "metadata": {
  "kernelspec": {
   "display_name": "Python 3 (ipykernel)",
   "language": "python",
   "name": "python3"
  },
  "language_info": {
   "codemirror_mode": {
    "name": "ipython",
    "version": 3
   },
   "file_extension": ".py",
   "mimetype": "text/x-python",
   "name": "python",
   "nbconvert_exporter": "python",
   "pygments_lexer": "ipython3",
   "version": "3.10.6"
  }
 },
 "nbformat": 4,
 "nbformat_minor": 2
}
