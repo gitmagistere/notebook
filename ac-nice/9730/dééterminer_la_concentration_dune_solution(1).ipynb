{
 "cells": [
  {
   "cell_type": "markdown",
   "metadata": {},
   "source": [
    "# <center><div style=\"padding:5px; border-radius:6px;background-color:blue;\"><span style='color:white'>Concentration d'une solution inconnue et conductivité</span></div></center>"
   ]
  },
  {
   "cell_type": "markdown",
   "metadata": {},
   "source": [
    "### 1) position du problème"
   ]
  },
  {
   "cell_type": "markdown",
   "metadata": {},
   "source": [
    "Nous savons tous que l'eau de mer est un liquide salé. Mais on peut se demander s'il est possible de déterminer la concentration en sel d'une eau afin de suivre au cours du temps l'état chimique de celle-ci. Le réchauffement climatique est en effet impliqué dans le changement de composition des océans.\n",
    "\n",
    "\n",
    "Comment déterminer la concentration en \"sel\" d'une solution pour la comparer avec des salinités connues ?"
   ]
  },
  {
   "cell_type": "markdown",
   "metadata": {},
   "source": [
    "### 2) concentration"
   ]
  },
  {
   "cell_type": "markdown",
   "metadata": {},
   "source": [
    "On rappelle que la concentration d'une solution peut définir se définir de deux façons:\n",
    "\n",
    "* la concentration massique :    $c_{m}=\\frac{m}{V} \\;en \\; g.L^{-1}$\n",
    "\n",
    "* la concentration molaire :     $c=\\frac{n}{V} \\; en \\; mol.L^{-1}$"
   ]
  },
  {
   "cell_type": "markdown",
   "metadata": {},
   "source": [
    "* m est la masse de soluté apporté en grammes (g)\n",
    "* n est la quantité de matière dissoute en moles (mol)\n",
    "* V est le volume total de solution en L"
   ]
  },
  {
   "cell_type": "markdown",
   "metadata": {},
   "source": [
    "Nous allons travailler dans ce TP en $mol.L^{-1}$"
   ]
  },
  {
   "cell_type": "markdown",
   "metadata": {},
   "source": [
    "### 3) conductivité ?"
   ]
  },
  {
   "cell_type": "markdown",
   "metadata": {},
   "source": [
    "Une solution aqueuse (dont le composant principal est de l'eau dans laquelle on été dissout un ou des corps solides) contient le plus souvent des ions en plus ou moins grande quantité.\n",
    "Plus les ions ( positifs ou négatifs) sont nombreux, plus cette solution est capable de conduire un courant (on parle de courant ionique).\n",
    "\n",
    "On dit ainsi que cette solution possède une certaine conductivité, notée $\\sigma $ et mesurée en Siemens par mètre ou $S.m^{-1}$."
   ]
  },
  {
   "cell_type": "markdown",
   "metadata": {},
   "source": [
    "Cette grandeur se mesure à l'aide d'un conductimètre:\n",
    "![un conductimètre courant](https://img.directindustry.fr/images_di/photo-mg/9073-2315091.webp)"
   ]
  },
  {
   "cell_type": "markdown",
   "metadata": {},
   "source": [
    "### 4) l'instant LaTeX"
   ]
  },
  {
   "cell_type": "markdown",
   "metadata": {},
   "source": [
    "si l'on considère que l'on a un corps AB solide  qui peut se dissoudre dans l'eau, alors on peut écrire son équation de dissolution de la façon suivante:\n",
    "<center>$AB_{solide}\\overset{eau}{\\rightarrow}A^{+}_{aq} + B^{-}_{aq}$</center>"
   ]
  },
  {
   "cell_type": "markdown",
   "metadata": {},
   "source": [
    "<span style='color:green'>Ecrire l'équation de dissolution du chlorure de sodium NaCl en utilisant la notation LaTeX.</span>\n",
    "\n",
    "Pour ce faire vous pouvez regarder le code de l'équation précédente ou bien utiliser l'outil de création LaTeX en ligne [ici-même](https://editor.codecogs.com/).\n",
    "\n",
    "**<span style='color:blue'>Vous penserez à regarder le tableau périodique afin de prévoir les ions qui peuvent se former.</span>**"
   ]
  },
  {
   "cell_type": "markdown",
   "metadata": {},
   "source": []
  },
  {
   "cell_type": "markdown",
   "metadata": {},
   "source": [
    "### 5) Matériel disponible"
   ]
  },
  {
   "cell_type": "markdown",
   "metadata": {},
   "source": [
    "Vous avez à votre dispositin les matériels expérimentaux suivants:\n",
    "    \n",
    "* un conductimètre avec sa sonde\n",
    "* du NaCl en poudre\n",
    "* des fioles jaugées de 50 et 100 mL\n",
    "* pipettes jaugées de 5, 10 et 20 mL\n",
    "* coupelle\n",
    "* entonnoir\n",
    "* eau distillée\n",
    "* spatule à prélever\n",
    "* balance\n",
    "* une solution de concentration inconnue en chlorure de sodium"
   ]
  },
  {
   "cell_type": "markdown",
   "metadata": {},
   "source": [
    "### 6) préparation"
   ]
  },
  {
   "cell_type": "markdown",
   "metadata": {},
   "source": [
    "Vous allez préparer une solution de concentration molaire connue (votre professeur va vous indiquer la valeur précise).\n",
    "\n",
    "<span style='color:green'> Proposer un protocole détaillé pour préparer une solution de concentration connue en chlorure de sodium.</span>\n",
    "    \n",
    "<span style='color:green'>Penser à indiquer les précautions particulières le cas échéant.</span>"
   ]
  },
  {
   "cell_type": "markdown",
   "metadata": {},
   "source": []
  },
  {
   "cell_type": "markdown",
   "metadata": {},
   "source": [
    "### 7) résultats"
   ]
  },
  {
   "cell_type": "markdown",
   "metadata": {},
   "source": [
    "placer dans le tableau suivant les résultats de votre mesure de conductimétrie de votre solution ainsi que celles de vos camarades"
   ]
  },
  {
   "cell_type": "markdown",
   "metadata": {},
   "source": [
    "|solution N°| 1| 2 |3|4|5|6|inconnue|\n",
    "|:---|:---|:---|:---|:---|:---|:---|:---|\n",
    "|c en mol/L  | 0.05| 0.075 | 0.15 | 0.30 | 0.60|1.20|..|\n",
    "|$\\sigma$  | .. | .. | .. | .. | .. | .. |  .. |\n",
    ".. |"
   ]
  },
  {
   "cell_type": "markdown",
   "metadata": {},
   "source": [
    "#### courbe expérimentale"
   ]
  },
  {
   "cell_type": "markdown",
   "metadata": {},
   "source": [
    "adapter le code ci-après afin de représenter les données expérimentales."
   ]
  },
  {
   "cell_type": "code",
   "execution_count": 1,
   "metadata": {},
   "outputs": [
    {
     "data": {
      "application/javascript": [
       "element.append(window._basthonDomNodeBus.pop(0));"
      ]
     },
     "metadata": {},
     "output_type": "display_data"
    }
   ],
   "source": [
    "#on déclare la fonction et la bibliothèque que l'on va utiliser\n",
    "#pour aller plus vite on déclare que la fonction pyplot sera nommée en tant que plt\n",
    "\n",
    "import matplotlib.pyplot as plt\n",
    "\n",
    "#On définit une fonction que l'on pourra par la suite réutiliser si besoin dans un autre programme\n",
    "#ça peut être pratique\n",
    "\n",
    "def tracer_des_positions(abscisses,ordonnees):\n",
    "    plt.plot(abscisses,ordonnees,marker='+')\n",
    "    plt.title('Positions successives occupées par le mobile')\n",
    "    plt.xlabel('x en (m)')\n",
    "    plt.ylabel('y en (m)')\n",
    "    \n",
    "#Le programme principal--------------------------------------------\n",
    "\n",
    "# on définit les deux listes qui regroupent les valeurs expérimentales des x et y \n",
    "# attention on doit avoir les même nombres de données dans les deux\n",
    "# rentrez vos valeurs séparées par des ,\n",
    "\n",
    "x=[]\n",
    "y=[]\n",
    "\n",
    "#on appelle la fonction appliquée à nos deux listes\n",
    "\n",
    "tracer_des_positions(x,y)\n",
    "plt.show()\n",
    "\n"
   ]
  },
  {
   "cell_type": "markdown",
   "metadata": {},
   "source": [
    "<span style='color:green'>analyser la courbe le plus objectivement possible</span>"
   ]
  },
  {
   "cell_type": "markdown",
   "metadata": {},
   "source": [
    "<span style='color:green'>votre réponse ici:</span>"
   ]
  },
  {
   "cell_type": "markdown",
   "metadata": {},
   "source": [
    "Potentiellement votre courbe est normalement modélisable.\n",
    "Vous avez l'habitude, en sciences physiques, de travailler avec des modèles linéaires.\n",
    "\n",
    "Informatiquement, on utilise un processus appelé **régression linéaire** qui permet, à partir des données expérimentales de trouver un modèle mathématique en accord avec la courbe.\n",
    "\n",
    "Il faut pour cela utiliser une bibliothèque additionnelle, **\"numpy\"** et utiliser des tableaux vectoriels pour les variables mesurées.\n"
   ]
  },
  {
   "cell_type": "code",
   "execution_count": null,
   "metadata": {},
   "outputs": [],
   "source": [
    "#on appelle la bibliothèque numpy en tant que np\n",
    "import numpy as np\n",
    "\n",
    "# forme vectorielle, on remplit les tableaux avec les valeurs expérimentales séparées par des \",\"\n",
    "R = np.array([])\n",
    "T = np.array([])"
   ]
  },
  {
   "cell_type": "markdown",
   "metadata": {},
   "source": [
    "on va ensuite utiliser la fonction **polyfit** qui va calculer les coefficients de notre courbe de régression linéaire.\n",
    "\n",
    "Mathématiquement cette fonction s'appuie sur l'utilisation de la méthode des moindres carrés pour un polynôme dont on fixera le degré à 1."
   ]
  },
  {
   "cell_type": "code",
   "execution_count": null,
   "metadata": {},
   "outputs": [],
   "source": [
    "coeff = np.polyfit(T,R,1) # la valeur 1 correspond au degré du polynôme de calcul pour la modélisation\n",
    "\n",
    "Rmodel = coeff[0]*T+coeff[1] #permet de calculer les valeurs du modèle de R en fonction de T et des coefficients calculés de la courbe de régression\n",
    "\n",
    "print('R={0:.2f}'.format(coeff[0]),'xT+{0:.2f}'.format(coeff[1])) # affiche l'équation de la courbe avec une précision à 2 décimale pour les coefficients"
   ]
  },
  {
   "cell_type": "markdown",
   "metadata": {},
   "source": [
    "Regroupez ces lignes avec celles de votre premier programme afin d'afficher la courbe expérimentale et la courbe modélisée sur le même graphe."
   ]
  },
  {
   "cell_type": "code",
   "execution_count": null,
   "metadata": {},
   "outputs": [],
   "source": [
    "#nouveau programme avec courbe de modélisation ici même\n",
    "import matplotlib.pyplot as plt\n",
    "import numpy as np\n",
    "\n",
    "#à vous de terminer..."
   ]
  },
  {
   "cell_type": "markdown",
   "metadata": {},
   "source": [
    "<span style='color:green'>Quelle est l'équation de la courbe modélisée par votre programme ?</span>\n"
   ]
  },
  {
   "cell_type": "code",
   "execution_count": null,
   "metadata": {},
   "outputs": [],
   "source": []
  },
  {
   "cell_type": "markdown",
   "metadata": {},
   "source": [
    "<span style='color:green'>A l'affichage de ces courbes, peut-on dire que la courbe modélisée par régression linéaire correspond aux valeurs expérimentales ? argumentez votre réponse.</span>"
   ]
  },
  {
   "cell_type": "code",
   "execution_count": null,
   "metadata": {},
   "outputs": [],
   "source": []
  },
  {
   "cell_type": "markdown",
   "metadata": {},
   "source": [
    "<span style='color:green'>déduire à l'aide du modèle la concentration molaire de la solution inconnue, expliquer la façon dont vous procédez</span>"
   ]
  },
  {
   "cell_type": "code",
   "execution_count": null,
   "metadata": {},
   "outputs": [],
   "source": []
  },
  {
   "cell_type": "markdown",
   "metadata": {},
   "source": [
    "> #### Conclusion :"
   ]
  },
  {
   "cell_type": "code",
   "execution_count": null,
   "metadata": {},
   "outputs": [],
   "source": []
  },
  {
   "cell_type": "markdown",
   "metadata": {},
   "source": [
    "### 8) données:"
   ]
  },
  {
   "cell_type": "markdown",
   "metadata": {},
   "source": [
    "M(Na) = 22,98 g/mol\n",
    "\n",
    "M(Cl) = 35,45 g/mol\n",
    "\n"
   ]
  },
  {
   "cell_type": "markdown",
   "metadata": {},
   "source": [
    "on rappelle que la masse et la quantité de matière sont liées par la relation:\n",
    "    \n",
    "    m = n . M\n",
    "    \n",
    "    m en grammes (g)\n",
    "    n en moles (mol)\n",
    "    M en g/mol"
   ]
  },
  {
   "cell_type": "code",
   "execution_count": null,
   "metadata": {},
   "outputs": [],
   "source": []
  }
 ],
 "metadata": {
  "kernelspec": {
   "display_name": "Python 3 (ipykernel)",
   "language": "python",
   "name": "python3"
  },
  "language_info": {
   "codemirror_mode": {
    "name": "ipython",
    "version": 3
   },
   "file_extension": ".py",
   "mimetype": "text/x-python",
   "name": "python",
   "nbconvert_exporter": "python",
   "pygments_lexer": "ipython3",
   "version": "3.10.6"
  }
 },
 "nbformat": 4,
 "nbformat_minor": 2
}
