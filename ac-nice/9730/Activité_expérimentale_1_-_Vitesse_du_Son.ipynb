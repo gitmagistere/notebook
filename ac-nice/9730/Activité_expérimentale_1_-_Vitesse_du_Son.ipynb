{
 "cells": [
  {
   "cell_type": "markdown",
   "metadata": {},
   "source": [
    "<div style=\"padding:5px; border-radius:6px;background-color:lightsalmon;\"> \n",
    "   \n",
    "<figure style=\"float:right\">\n",
    "<img src=https://capytale2.ac-paris.fr/web/sites/default/files/2023/03-12/20-31-46/logo%20Nice%20acad%C3%A9mie.jpg>\n",
    "</figure>\n",
    "    <center>\n",
    "        <h1><u><center><span style=font-family:Chalkduster>Tp Mesure de la vitesse du son (Deuxième partie)</u></font> </h1>\n",
    "    </center>\n",
    "</div>"
   ]
  },
  {
   "cell_type": "markdown",
   "metadata": {},
   "source": [
    "<div class=\"alert alert-info\">\n",
    "    <h2><font color='blue'><span style=font-family:Papyrus>Introduction </font></span></h2>\n",
    "\n",
    "Bonjour à tous !\n",
    "\n",
    "Aujourd'hui dans cette deuxième partie de Tp on utilise un <font color='red'>**notebook**</font> qui est un cahier électronique pouvant rassembler des images, du texte et des formules. Deux types de cellules sont présentes dans un notebook :\n",
    "<ul>\n",
    "    <li>Des cellules contenant du texte,</li>\n",
    "    <li>et des cellules exécutables contenant du code.</li>\n",
    "</ul>\n",
    "\n",
    "Vous allez donc à présent exploiter les différentes mesures obtenues dans la première partie du Tp avec l'application numérique phyphox et découvrir l'utilisation du langage de programmation python pas à pas. N'oubliez pas d'exécuter les cellules au fur et à mesure et de compléter par la même occasion votre fiche <font color='red'>\"Trousse à outils\"</font> ainsi que celle concernant <font color='red'> \"la gestion des Erreurs\" </font>.\n",
    "****************\n",
    "</div>\n"
   ]
  },
  {
   "cell_type": "markdown",
   "metadata": {},
   "source": [
    "<h2><font color='blue'><span style=font-family:Papyrus>Programme Python </font></span></h2>\n"
   ]
  },
  {
   "cell_type": "markdown",
   "metadata": {},
   "source": [
    "<div class =\"alert alert-success\"style=\"border-left: 10px solid #3c763d;border-radius:2px;\">\n",
    "<font color='Green'><h3>Importation des bibliothèques nécessaires</font></h3>\n",
    "    \n",
    "<font color='black'> Une bibliothèque Python permet de rajouter des fonctionnalités au langage de base.Tout d'abord j'importe donc la bibliothèque nécessaire au tracé des graphiques intitulée **`matplotlib`** grâce à la ligne de code d'en dessous. N'oubliez pas d'éxécutez pour que ce soit effectif !</font>\n",
    "</div>"
   ]
  },
  {
   "cell_type": "code",
   "execution_count": 1,
   "metadata": {},
   "outputs": [],
   "source": [
    "import matplotlib.pyplot as plt"
   ]
  },
  {
   "cell_type": "markdown",
   "metadata": {},
   "source": [
    "<div class =\"alert alert-success\"style=\"border-left: 10px solid #3c763d;border-radius:2px;\">\n",
    "<font color='Green'><h3>Création des variables deltatsur2 et d</font></h3>\n",
    "    \n",
    "<font color='black'>Afin de rentrer les valeurs des variables <font color='blue'>*deltatsur2*</font> et <font color='blue'>*d*</font> nous allons créer ce que l'on appelle des `listes`. Ce sont des structures de données qui contiennent une série de valeurs.\n",
    " </div>"
   ]
  },
  {
   "cell_type": "code",
   "execution_count": null,
   "metadata": {},
   "outputs": [],
   "source": [
    "deltatsur2=[]# à compléter par vous \n",
    "d=[]# à compléter par vous \n",
    "#N'éxécutez la cellule qu'une fois les données complétées !"
   ]
  },
  {
   "cell_type": "markdown",
   "metadata": {},
   "source": [
    "<div class =\"alert alert-success\"style=\"border-left: 10px solid #3c763d;border-radius:2px;\">\n",
    "<font color='Green'><h3>Tracé du graphique</font></h3>\n",
    "    \n",
    "</div>"
   ]
  },
  {
   "cell_type": "code",
   "execution_count": null,
   "metadata": {},
   "outputs": [],
   "source": [
    "plt.plot(deltatsur2, d, \"b+\") # La fonction plot(x,y) trace la courbe y=f(x) à partir des listes x et y ."
   ]
  },
  {
   "cell_type": "code",
   "execution_count": null,
   "metadata": {},
   "outputs": [],
   "source": [
    "plt.show() # affichage du graphe. "
   ]
  },
  {
   "cell_type": "markdown",
   "metadata": {},
   "source": [
    "✍️ <b>Quelles sont les indications manquantes sur le graphe ? Nous allons les rajouter ensemble :</b>"
   ]
  },
  {
   "cell_type": "code",
   "execution_count": null,
   "metadata": {},
   "outputs": [],
   "source": [
    " "
   ]
  },
  {
   "cell_type": "code",
   "execution_count": null,
   "metadata": {},
   "outputs": [],
   "source": []
  },
  {
   "cell_type": "markdown",
   "metadata": {},
   "source": [
    "✍️ <b>Au vue de la courbe obtenue quel type de relation existe t-il entre d et deltatsur2 ? </b>"
   ]
  },
  {
   "cell_type": "markdown",
   "metadata": {},
   "source": []
  },
  {
   "cell_type": "markdown",
   "metadata": {},
   "source": [
    "✍️ <b>Que représente le coefficient directeur de la droite obtenue ?</b>"
   ]
  },
  {
   "cell_type": "markdown",
   "metadata": {},
   "source": []
  },
  {
   "cell_type": "markdown",
   "metadata": {},
   "source": [
    "<div class =\"alert alert-success\"style=\"border-left: 10px solid #3c763d;border-radius:2px;\">\n",
    "<font color='Green'><h3>Modélisation de la droite</font></h3>\n",
    "    \n",
    "<font color='black'> Nous allons à présent modéliser la droite obtenue afin d'avoir son coefficient directeur à l'aide de la fonction <b>`linregress()`</b> du module scipy. \n",
    "</div>"
   ]
  },
  {
   "cell_type": "code",
   "execution_count": null,
   "metadata": {},
   "outputs": [],
   "source": [
    "import numpy as np\n",
    "from scipy.stats import linregress \n",
    "droite=linregress(deltatsur2,d)\n",
    "coeff_dir=droite.slope\n",
    "print(\"Le coefficient directeur de la droite est \", coeff_dir)\n"
   ]
  },
  {
   "cell_type": "markdown",
   "metadata": {},
   "source": [
    "✍️ <b>Quelle est la valeur de la vitesse du son obtenue ? Vous porterez un regard critique sur votre valeur.</b> "
   ]
  },
  {
   "cell_type": "markdown",
   "metadata": {},
   "source": []
  }
 ],
 "metadata": {
  "kernelspec": {
   "display_name": "Python 3 (ipykernel)",
   "language": "python",
   "name": "python3"
  },
  "language_info": {
   "codemirror_mode": {
    "name": "ipython",
    "version": 3
   },
   "file_extension": ".py",
   "mimetype": "text/x-python",
   "name": "python",
   "nbconvert_exporter": "python",
   "pygments_lexer": "ipython3",
   "version": "3.10.6"
  }
 },
 "nbformat": 4,
 "nbformat_minor": 2
}
