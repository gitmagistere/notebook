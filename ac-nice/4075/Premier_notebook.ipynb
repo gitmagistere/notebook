{
 "cells": [
  {
   "cell_type": "code",
   "execution_count": 1,
   "metadata": {},
   "outputs": [],
   "source": [
    "tempsms=[0,]#stockage des valeurs expérimentales du temps en milliseconde\n",
    "distancecm=[0,]#stockage des valeurs expérimentales de la distance en cm"
   ]
  },
  {
   "cell_type": "code",
   "execution_count": 5,
   "metadata": {},
   "outputs": [
    {
     "name": "stderr",
     "output_type": "stream",
     "text": [
      "Traceback (most recent call last):\n",
      "  File \"<input>\", line 2, in <module>\n",
      "NameError: name 'plot' is not defined\n"
     ]
    }
   ],
   "source": [
    "plt.figure(\"Première représentation graphique\")#création de la figure\n",
    "plt.plot(temps,distancecm)#Tracé de la courbe\n",
    "plt.show()#Affichage de la courbe"
   ]
  },
  {
   "cell_type": "code",
   "execution_count": null,
   "metadata": {},
   "outputs": [],
   "source": [
    "import matplotlib.pyplot as plt"
   ]
  },
  {
   "cell_type": "code",
   "execution_count": null,
   "metadata": {},
   "outputs": [],
   "source": [
    "import pandas as pd\n",
    "\n",
    "distance=[item/100 for item in distancecm]\n",
    "temps=[item/1000 for item in tempsms]\n",
    "\n",
    "Affichage_Tableau= pd.DataFrame({'distance(cm)':distancecm, 'distance(m)':distance,'temps(ms)':tempsms,'temps(s):'temps})\n",
    "\n",
    "Affichage_Tableau_h=Affichage_Tableau.T\n",
    "\n",
    "Affichage_Tableau_h"
   ]
  },
  {
   "cell_type": "code",
   "execution_count": null,
   "metadata": {},
   "outputs": [],
   "source": [
    "from scipy.stats import linregress as lr\n",
    "\n",
    "plt.figure('modélisation',figsize=(10,7))# Création d'une figure \n",
    "plt.grid()\n",
    "plt.xlim(0,1.1*max(temps))\n",
    "plt.ylim(0,1.1*max(distancecm))\n",
    "plt.xlabel(\"intervalle de temps (s)\")\n",
    "plt.ylabel(\"distance (cm)\")\n",
    "plt.plot(temps,distancecm,\"b+\",markersize=10)\n",
    "\n",
    "#Régression linéaire\n",
    "resultats=lr(temps,distancecm)\n",
    "cd,oo,coeffCorr,pValue,stdDev=resultats #cd coefficient directeur, oo: ordonnée à l'origine\n",
    "\n",
    "#Modélisation par une droite\n",
    "plt.plot(temps,[cd*i+oo for i in temps],'g-',markersize=1,label='Modélisation')\n",
    "plt.legend(loc=0)\n",
    "plt.show()\n",
    "print('coefficient directeur =', cd)\n",
    "print('coefficent de corrélation=', coeffCorr)\n",
    "print('écart-type=', stdDev)"
   ]
  }
 ],
 "metadata": {
  "kernelspec": {
   "display_name": "Python 3 (ipykernel)",
   "language": "python",
   "name": "python3"
  },
  "language_info": {
   "codemirror_mode": {
    "name": "ipython",
    "version": 3
   },
   "file_extension": ".py",
   "mimetype": "text/x-python",
   "name": "python",
   "nbconvert_exporter": "python",
   "pygments_lexer": "ipython3",
   "version": "3.9.10"
  }
 },
 "nbformat": 4,
 "nbformat_minor": 2
}
