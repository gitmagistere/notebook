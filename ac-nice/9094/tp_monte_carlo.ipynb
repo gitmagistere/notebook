{
 "cells": [
  {
   "cell_type": "markdown",
   "metadata": {},
   "source": [
    "# <center>TP informatique : la méthode de Monte-Carlo</center>\n",
    "## 1. Algorithmes exigibles d'après le programme scolaire\n",
    "D'après le programme de première spé maths, nous avons à traiter les deux algorithmes suivants :\n",
    "\n",
    "*Méthode de Monte-Carlo : estimation de l’aire sous la parabole, estimation du nombre $\\pi$.*\n",
    "\n",
    "## 2. Estimation du nombre $\\pi$ par la méthode de Monte-Carlo\n",
    "### a) Déterminer un critère pour savoir si un point $M$ appartient au quart de disque (D)\n",
    " <span style='color:green'>**Rappel 1**</span> : \n",
    " On considère les points $A(x_{A};y_{A})$ et $B(x_{B};y_{B})$ dans un repère $(O;I,J)$ alors $AB=\\sqrt{(x_{B}-x_{A})^{2}+(y_{B}-y_{A})^{2}}$ et donc en élevant le tout au carré :  $AB^{2}=(x_{B}-x_{A})^{2}+(y_{B}-y_{A})^{2}$  <span style='color:red'>**(1)**</span>.\n",
    " \n",
    "En particularisant <span style='color:red'>**(1)**</span> aux points $M(x;y)$ et $O(0,0)$, on obtient $OM^{2}=x^{2}+y^{2}$ <span style='color:red'>**(2)**</span>.\n",
    "On considère un quart de disque <span style='color:red'>**(D)**</span> de rayon 1 dont le centre $O$ est l'origine d'un repère orthonormé $(O;I,J)$.\n",
    "\n",
    "![image1](image1.png)\n",
    "\n",
    " <span style='color:blue'>**Question 1**</span> : On considère les points $A(0,1;0,8)$ et $B(0,7;0,8)$ du repère $(O;I,J)$.\n",
    " A l'aide de la formule <span style='color:red'>**(2)**</span> et de votre calculatrice, taper dans la *cellule texte* ci-dessous :\n",
    " * les valeurs de $OA^{2}$ et $OB^{2}$,\n",
    " * et dire si les points $A$ et $B$ appartiennent au quart de disque  <span style='color:red'>**(D)**</span> de centre $O$ et de rayon 1."
   ]
  },
  {
   "cell_type": "raw",
   "metadata": {},
   "source": []
  },
  {
   "cell_type": "markdown",
   "metadata": {},
   "source": [
    " <span style='color:green'>**En résumé**</span> : \n",
    "\n",
    "Soit  $M(x;y)$ un point du plan doté d'un repère orthonormé $(O;I,J)$. \n",
    "\n",
    "$M\\in$ <span style='color:red'>**(D)**</span>$\\Leftrightarrow OM\\le1 \\Leftrightarrow OM^{2}\\le1 \\Leftrightarrow x^{2}+y^{2}\\le1$.\n",
    "\n",
    "**Autrement dit** : si $x^{2}+y^{2}\\le1$ alors le point $M(x;y)$ appartient au quart de disque <span style='color:red'>**(D)**</span>, frontière comprise.\n",
    "\n",
    "### b) La méthode de Monte-Carlo\n",
    "\n",
    "Le principe de la méthode de Monte-Carlo consiste à tirer au hasard les coordonnées $(x,y)$ d'un point $M$ avec $x\\in[0;1]$ et  $y\\in[0;1]$. \n",
    "\n",
    "Le point $M$ appartient soit au quart de disque <span style='color:red'>**(D)**</span>, soit au carré $OIKJ$.\n",
    "\n",
    "![image2](image2.png)\n",
    "\n",
    "$M(x;y)\\in$ <span style='color:red'>**(D)**</span> $\\Leftrightarrow x^{2}+y^{2}\\le1$ d'après le résumé précédent.\n",
    "\n",
    "Soit $N$ est le nombre de points $M(x,y)$ tirés au hasard donc avec $x$ et $y$ des réels aléatoires de $[0;1]$.\n",
    "\n",
    "Soit $n$ le nombre de points $M(x,y)$ qui appartiennent au quart de disque <span style='color:red'>**(D)**</span>.\n",
    "\n",
    "On admettra l'affirmation suivante :\n",
    "\n",
    "Le rapport $\\dfrac{n}{N}$ donne une approximation du quotient $\\dfrac{\\text{Aire de (D)}}{\\text{Aire du carré } OIKJ}$.\n",
    "\n",
    "Or $\\dfrac{\\text{Aire de (D)}}{\\text{Aire du carré } OIKJ}=\\dfrac{\\frac{\\pi\\times 1^{2}}{4}}{1^{2}}$ car $\\text{Aire de (D)}=\\frac{\\pi\\times 1^{2}}{4}$ et $\\text{Aire du carré}=1^{2}$.\n",
    "\n",
    "En simplifiant, on obtient que  $\\dfrac{\\text{Aire de (D)}}{\\text{Aire du carré } OIKJ}=\\dfrac{\\pi}{4}$. \n",
    "\n",
    "En invoquant l'affirmation  <span style='color:red'>**(3)**</span>, on déduit que $\\dfrac{n}{N}\\approx \\dfrac{\\pi}{4}$. Ainsi $\\pi\\approx \\dfrac{4n}{N}$.\n",
    "\n",
    "<span style='color:blue'>**Question 2**</span> : On suppose que sur 1000 tirages de points $M(x,y)$ de manière aléatoire avec $x\\in[0;1]$ et  $y\\in[0;1]$, 800 d'entre eux appartiennent au quart de disque <span style='color:red'>**(D)**</span>. En déduire une valeur approchée de $\\pi$ que vous saisirez dans la *cellule texte* ci-après :\n"
   ]
  },
  {
   "cell_type": "raw",
   "metadata": {},
   "source": []
  },
  {
   "cell_type": "markdown",
   "metadata": {},
   "source": [
    "### c) Implémentation en langage Python de la méthode de Monte-Carlo pour donner une approximation du réel $\\pi$\n",
    "Exécuter plusieurs fois la *cellule code* suivante :"
   ]
  },
  {
   "cell_type": "code",
   "execution_count": null,
   "metadata": {},
   "outputs": [],
   "source": [
    "from random import *\n",
    "random()"
   ]
  },
  {
   "cell_type": "markdown",
   "metadata": {},
   "source": [
    " <span style='color:blue'>**Question 3**</span> :\n",
    "A l'aide du [mémento Python](https://www.mathemathieu.fr/component/attachments/download/739) (cliquer sur le lien) dire ce que renvoie précisément la fonction *random()* ? Taper votre réponse dans la *cellule texte* ci-après :"
   ]
  },
  {
   "cell_type": "raw",
   "metadata": {},
   "source": []
  },
  {
   "cell_type": "code",
   "execution_count": null,
   "metadata": {},
   "outputs": [],
   "source": [
    "from random import *\n",
    "\n",
    "def Monte_Carlo(N):\n",
    "    n=0\n",
    "    for i in range(N):\n",
    "        x=random()\n",
    "        y=random()\n",
    "        if x**2+y**2<=1:\n",
    "            n=n+1\n",
    "    return round((4*n)/N,5)\n",
    "\n",
    "Monte_Carlo(1000000)\n"
   ]
  },
  {
   "cell_type": "markdown",
   "metadata": {},
   "source": [
    "Donner une valeur approchée de $\\pi$ à l'aide de l'appel de fonction *Monte_Carlo(1000000)*. Saisir votre résultat dans la *cellule texte* ci-après :"
   ]
  },
  {
   "cell_type": "raw",
   "metadata": {},
   "source": []
  },
  {
   "cell_type": "markdown",
   "metadata": {},
   "source": [
    "Exécuter le programme suivant qui :\n",
    "- affiche 1000 points aléatoires.\n",
    "- donne une approximation de $\\pi$ par la méthode de Monte-Carlo."
   ]
  },
  {
   "cell_type": "code",
   "execution_count": null,
   "metadata": {},
   "outputs": [],
   "source": [
    "from random import *\n",
    "import matplotlib.pyplot as plt\n",
    "\n",
    "def Monte_Carlo(N):\n",
    "    plt.axis('equal')\n",
    "    plt.xlabel(\"x\")\n",
    "    plt.ylabel(\"y\")\n",
    "    n=0\n",
    "    for i in range(N):\n",
    "        x=random()\n",
    "        y=random()\n",
    "        if x**2+y**2<=1:\n",
    "            plt.plot(x,y,\"or\")\n",
    "            n=n+1\n",
    "        else :\n",
    "            plt.plot(x,y,\"ob\")\n",
    "    plt.grid()\n",
    "    plt.show()\n",
    "    return round((4*n)/N,5)\n",
    "\n",
    "Monte_Carlo(1000)"
   ]
  },
  {
   "cell_type": "markdown",
   "metadata": {},
   "source": [
    "\n",
    "\n",
    "## 3. Estimation de l'aire de la surface sous la courbe d'une parabole par la méthode de Monte-Carlo\n",
    "### a) La problématique\n",
    "Soit $C_{f}$ la parabole représentative de la fonction $f$ définie sur $\\mathbb{R}$ par $f(x)=x^{2}$. \n",
    "\n",
    "On considère la surface bleutée <span style='color:blue'>**(S)**</span> de la figure ci-dessous, définie par {$M(x,y)$ / $0\\le x \\le 1$ et $0\\le x \\le x^{2}$} .\n",
    "\n",
    "![image3](image3.png)\n",
    "\n",
    "On souhaite obtenir une approximation par la méthode de Monte-Carlo, de l'aire de la surface bleutée <span style='color:blue'>**(S)**</span> délimitée par la parabole $C_{f}$, l'axe des abcisses et la droite d'équation $x=1$.\n",
    "### b) L'implémentation en langage Python d'une fonction aire_parabole(N)\n",
    "Saisir le script ci-contre dans la *cellule code* ci-dessous : ![image4](image4.png)\n",
    "\n",
    "\n",
    "\n",
    "\n",
    "\n",
    "\n",
    "Compléter les lignes 8), 9) et 10) pour que le script affiche une approximation de l'aire de la surface <span style='color:blue'>**(S)**</span> avec deux chiffres après la virgule :"
   ]
  },
  {
   "cell_type": "code",
   "execution_count": null,
   "metadata": {},
   "outputs": [],
   "source": []
  },
  {
   "cell_type": "markdown",
   "metadata": {},
   "source": [
    "Tapper dans la *cellule texte* suivante la valeur que vous obtenez :"
   ]
  },
  {
   "cell_type": "raw",
   "metadata": {},
   "source": []
  },
  {
   "cell_type": "markdown",
   "metadata": {},
   "source": [
    "# 4. Quelques remarques en lien avec ce TP informatique\n",
    "### a) Qui a inventé la méthode de Monte-Carlo ?\n",
    "\"*Le terme méthode de Monte-Carlo, ou méthode Monte-Carlo, désigne une famille de méthodes algorithmiques visant à calculer une valeur numérique approchée en utilisant des procédés aléatoires, c'est-à-dire des techniques probabilistes. Le nom de ces méthodes, qui fait allusion aux jeux de hasard pratiqués au casino de Monte-Carlo, a été inventé en 1947 par Nicholas Metropolis, et publié pour la première fois en 1949 dans un article coécrit avec Stanislaw Ulam*\". D'après Wikipédia\n",
    "\n",
    "* Nicholas Metropolis (1915-1999) : physicien gréco-américain\n",
    "\n",
    "![image5](image5.png)\n",
    "\n",
    "\n",
    "* Stanislaw Ulam (1909-1984) : mathéméticien polonais \n",
    "\n",
    "![image6](image6.png)\n",
    "\n",
    "### b) Une correction vidéo du 3. b)\n",
    "Voici une correction vidéo de la question 3. b) pour récompenser ceux qui sont allés jusqu'au bout de ce TP informatique !\n",
    "\n",
    "[Lien vers la vidéo](https://www.youtube.com/watch?v=unkh3TZU3YM&list=RDCMUCo-O74A4qVz6nq5cfCIee6w&start_radio=1&t=4)"
   ]
  }
 ],
 "metadata": {
  "kernelspec": {
   "display_name": "Python 3",
   "language": "python",
   "name": "python3"
  },
  "language_info": {
   "codemirror_mode": {
    "name": "ipython",
    "version": 3
   },
   "file_extension": ".py",
   "mimetype": "text/x-python",
   "name": "python",
   "nbconvert_exporter": "python",
   "pygments_lexer": "ipython3",
   "version": "3.8.5"
  }
 },
 "nbformat": 4,
 "nbformat_minor": 4
}
