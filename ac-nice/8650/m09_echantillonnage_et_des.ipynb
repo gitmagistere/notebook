{
 "cells": [
  {
   "cell_type": "markdown",
   "metadata": {},
   "source": [
    "# Échantillonnage\n",
    "Cette activité est liée aux expérimentations proposées dans le nouveau programme de seconde :\n",
    "\"*Lire et comprendre une fonction Python renvoyant le nombre ou la fréquence de succès dans un échantillon de taille n pour une expérience aléatoire à deux issues.  Observer la loi des grands nombres à l’aide d’une simulation sur Python ou tableur.  Simuler N échantillons de taille n d’une expérience aléatoire à deux issues. Si p est la probabilité d’une issue et f sa fréquence observée dans un échantillon, calculer la proportion des cas où l’écart entre p et f est inférieur ou égal à 1n‾√\n",
    ".*\"\n",
    "\n",
    "## 1. Un échantillon de taille n\n",
    "Pour cette simulation, on va utiliser le module random et la fonction `randint`du module `random` : `random.randint(1,6)` renvoie un entier pseudo-aléatoire entre 1 et 6.\n",
    "\n",
    "La fonction ci-dessous simule n lancers d’un dé équilibré à 6 faces numérotées de 1 à 6, et renvoie le résultat dans une liste nommée L."
   ]
  },
  {
   "cell_type": "code",
   "execution_count": null,
   "metadata": {},
   "outputs": [],
   "source": [
    "import random\n",
    "import math\n",
    "#\n",
    "def echantillon2(n) :\n",
    "    assert n >= 1\n",
    "    L = [ ]\n",
    "    for i in range(n) :\n",
    "        L.append(random.randint(1,6))\n",
    "    return L"
   ]
  },
  {
   "cell_type": "markdown",
   "metadata": {},
   "source": [
    "1. Tester ce programme avec différentes valeurs de n et modifier-le en utilisant l'écriture L = L + [ i ] (voir Ajouter un élément à une liste)\n",
    "\n",
    "2. S’inspirant de l’écriture mathématique d’un ensemble en compréhension, Python propose une syntaxe utile pour la\n",
    "création d’une liste en compréhension. On peut ainsi utiliser l’expression\n",
    "[ random.randint(1,6) for i in range(n) ]\n",
    "pour créer la liste simulant un échantillon de taille n de lancers.\n",
    "\n",
    "Modifier le programme précédent en créant une nouvelle fonction, echantillon(n) qui sera bien plus simple.\n",
    "\n",
    "## 2. Nombre de pairs sur un échantillon\n",
    "\n",
    "3. Écrire une fonction qui compte le nombre de chiffres pairs obtenus sur échantillon de taille n de l’exercice 1."
   ]
  },
  {
   "cell_type": "code",
   "execution_count": null,
   "metadata": {},
   "outputs": [],
   "source": [
    "def nombredepairs(n):\n",
    "    L=echantillon(n)\n",
    "    compteur=0\n",
    "    for i in L:\n",
    "        if ...:\n",
    "            ...\n",
    "    return ..."
   ]
  },
  {
   "cell_type": "markdown",
   "metadata": {},
   "source": [
    "4. Écrire maintenant une fonction qui donne la fréquence de nombres pairs obtenus."
   ]
  },
  {
   "cell_type": "code",
   "execution_count": null,
   "metadata": {},
   "outputs": [],
   "source": [
    "def frequencedepairs(n):\n",
    "    return ..."
   ]
  },
  {
   "cell_type": "markdown",
   "metadata": {},
   "source": [
    "## 3. Échantillonnage\n",
    "Si p est la probabilité d’une issue, (on a ici p=0,5) et f sa fréquence observée dans un échantillon, on cherche à calculer la proportion des cas où l’écart entre p et f est inférieur ou égal à $ \\frac{1}{\\sqrt{n}} $.\n",
    ".\n",
    "\n",
    "5.  Écrire une fonction (booleenne) nommée test(n) qui renvoie `True` si l’écart entre p et f est inférieur ou égal à $ \\frac{1}{\\sqrt{n}} $ et `False` sinon.\n",
    "\n",
    "Aide : la fonction valeur absolue sous python est `abs()` et la fonction racine carrée, qui dépend du module math, est `math.sqrt()`"
   ]
  },
  {
   "cell_type": "code",
   "execution_count": null,
   "metadata": {},
   "outputs": [],
   "source": [
    "def test(n):  \n",
    "  if ...:\n",
    "    return True\n",
    "  else:\n",
    "    return False"
   ]
  },
  {
   "cell_type": "markdown",
   "metadata": {},
   "source": [
    "6. On cherche à calculer la proportion des cas où l’écart entre p et f est inférieur ou égal à $ \\frac{1}{\\sqrt{n}} $ pour une centaine d’échantillons, pour un milliers ...\n",
    "\n",
    "Pour cela on va créer une fonction nommée `multi` qui envoie le pourcentage d’échantillons de taille n tels que  l’écart entre p et f est inférieur ou égal à $ \\frac{1}{\\sqrt{n}} $. On utilisera pour cela la fonction `test` précédente."
   ]
  },
  {
   "cell_type": "code",
   "execution_count": null,
   "metadata": {},
   "outputs": [],
   "source": [
    "def multi(tailleechantillon,nbechantillons):\n",
    "  compteur=0\n",
    "  for i in range(nbechantillons):\n",
    "    if ...:\n",
    "      ...\n",
    "  return ..."
   ]
  },
  {
   "cell_type": "markdown",
   "metadata": {},
   "source": [
    "## 4. Affichage\n",
    "On peut facilement construire l’histogramme des effectifs liés à chaque numéro de faces.\n",
    "On importe le sous-module pyplot de matplotlib qu’on renomme au passage plt, par commodité.\n",
    "On l’importe en écrivant en début de programme import matplotlib.pyplot as plt."
   ]
  },
  {
   "cell_type": "code",
   "execution_count": null,
   "metadata": {},
   "outputs": [],
   "source": [
    "import matplotlib.pyplot as plt\n",
    "fig = plt.figure()\n",
    "plt.hist(echantillon(100),12, density=1, facecolor='b', alpha=1)\n",
    "fig.savefig('graph.png') # ou  plt.show() sur anaconda"
   ]
  }
 ],
 "metadata": {
  "kernelspec": {
   "display_name": "Python 3",
   "language": "python",
   "name": "python3"
  },
  "language_info": {
   "codemirror_mode": {
    "name": "ipython",
    "version": 3
   },
   "file_extension": ".py",
   "mimetype": "text/x-python",
   "name": "python",
   "nbconvert_exporter": "python",
   "pygments_lexer": "ipython3",
   "version": "3.7.6"
  }
 },
 "nbformat": 4,
 "nbformat_minor": 2
}
