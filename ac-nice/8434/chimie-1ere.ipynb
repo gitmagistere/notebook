{
 "cells": [
  {
   "cell_type": "markdown",
   "metadata": {},
   "source": [
    "# Prog officiel : Déterminer la composition à l'état final d'un système siège d'une transformation chimique totale à l'aide d'un langage de programmation"
   ]
  },
  {
   "cell_type": "markdown",
   "metadata": {},
   "source": [
    "# Ci-dessous on  explique le principe en s'appuyant sur un exemple :"
   ]
  },
  {
   "cell_type": "markdown",
   "metadata": {},
   "source": [
    "### Équation de la réaction\n",
    "Écriture générale :\n",
    "    \n",
    "    a A + b B -> c C + d D\n",
    "    \n",
    "On s'appuiera sur l'exemple:\n",
    "\n",
    "    CH4 + 2 O2 -> CO2 + 2 H2O"
   ]
  },
  {
   "cell_type": "markdown",
   "metadata": {},
   "source": [
    "Les noms des réactifs et produits sont enregistrés dans des listes."
   ]
  },
  {
   "cell_type": "code",
   "execution_count": 1,
   "metadata": {},
   "outputs": [
    {
     "name": "stdout",
     "output_type": "stream",
     "text": [
      "['CH4', 'O2'] ['H2O', 'CO2']\n"
     ]
    }
   ],
   "source": [
    "reactifs = ['CH4', 'O2']\n",
    "produits = ['H2O', 'CO2']\n",
    "\n",
    "print(reactifs, produits)"
   ]
  },
  {
   "cell_type": "markdown",
   "metadata": {},
   "source": [
    "On enregistre une équation de réaction dans un dictionnaire qui prend les noms des réactifs et produits comme clefs et les nombre stoechiométriques commes valeurs. "
   ]
  },
  {
   "cell_type": "code",
   "execution_count": 2,
   "metadata": {},
   "outputs": [
    {
     "name": "stdout",
     "output_type": "stream",
     "text": [
      "{'CH4': 1, 'O2': 2, 'H2O': 2, 'CO2': 1}\n"
     ]
    }
   ],
   "source": [
    "equation = {'CH4' : 1, 'O2' : 2, 'H2O' : 2,  'CO2' : 1}\n",
    "\n",
    "print(equation)"
   ]
  },
  {
   "cell_type": "markdown",
   "metadata": {},
   "source": [
    "Les quantites de matière sont enregistrées dans un dictionnaire avec les mêmes clefs que l'équation, et les quantités de matières sont les valeurs."
   ]
  },
  {
   "cell_type": "code",
   "execution_count": 3,
   "metadata": {},
   "outputs": [],
   "source": [
    "# à l'état intial :\n",
    "quantites = {'CH4' : 5, 'O2' : 1000, 'H2O' : 0,  'CO2' : 0} "
   ]
  },
  {
   "cell_type": "markdown",
   "metadata": {},
   "source": [
    "L'avancement prend la valeur x et permet de faire un bilan de matière pour un état intermédiaire :"
   ]
  },
  {
   "cell_type": "code",
   "execution_count": 4,
   "metadata": {},
   "outputs": [
    {
     "name": "stdout",
     "output_type": "stream",
     "text": [
      "{'CH4': 3, 'O2': 996, 'H2O': 4, 'CO2': 2}\n"
     ]
    }
   ],
   "source": [
    "x = 2 # mol\n",
    "\n",
    "for espece in reactifs:\n",
    "    quantites[espece] = quantites[espece] - equation[espece] * x\n",
    "    \n",
    "for espece in produits:\n",
    "    quantites[espece] = quantites[espece] + equation[espece] * x\n",
    "    \n",
    "print(quantites)"
   ]
  },
  {
   "cell_type": "markdown",
   "metadata": {},
   "source": [
    "On cherche quel est l'avancement xmax (réaction totale)"
   ]
  },
  {
   "cell_type": "code",
   "execution_count": 5,
   "metadata": {},
   "outputs": [],
   "source": [
    "from math import inf as infini"
   ]
  },
  {
   "cell_type": "code",
   "execution_count": 6,
   "metadata": {},
   "outputs": [
    {
     "name": "stdout",
     "output_type": "stream",
     "text": [
      "3.0\n"
     ]
    }
   ],
   "source": [
    "xmax = infini # pour être sûr que le vrai xmax sera inférieur\n",
    "\n",
    "for espece in reactifs:\n",
    "    xmax = min(xmax, quantites[espece] / equation[espece])\n",
    "    \n",
    "print(xmax)"
   ]
  },
  {
   "cell_type": "markdown",
   "metadata": {},
   "source": [
    "Bilan de matière : calcul des quantités de matières à l'état final."
   ]
  },
  {
   "cell_type": "code",
   "execution_count": 7,
   "metadata": {},
   "outputs": [
    {
     "name": "stdout",
     "output_type": "stream",
     "text": [
      "{'CH4': 0.0, 'O2': 990.0, 'H2O': 10.0, 'CO2': 5.0}\n"
     ]
    }
   ],
   "source": [
    "x = xmax\n",
    "\n",
    "for espece in reactifs:\n",
    "    quantites[espece] = quantites[espece] - equation[espece] * x\n",
    "    \n",
    "for espece in produits:\n",
    "    quantites[espece] = quantites[espece] + equation[espece] * x\n",
    "    \n",
    "print(quantites)"
   ]
  },
  {
   "cell_type": "markdown",
   "metadata": {},
   "source": [
    "# Application : mettre en oeuvre la méthode qu'on vient de décrire pour résoudre le problème suivant :\n",
    "On introduit 500 mg de Fer dans un 10 mL d'une solution d'acide chlorhydrique (H+ + Cl-) à 2 mol/L.\n",
    "\n",
    "On peut modéliser la transformation par la réaction suivante :\n",
    "\n",
    "        Fe + 2 H+  -> Fe2+ + H2\n",
    "        \n",
    "**Probléme** : établir un bilan de matière pour cette transformation, et déterminer le volume de dihydrogène libéré.\n",
    "* M(Fe) = 56 g/mol\n",
    "* Vm = 24 L/mol"
   ]
  },
  {
   "cell_type": "code",
   "execution_count": 8,
   "metadata": {},
   "outputs": [
    {
     "name": "stdout",
     "output_type": "stream",
     "text": [
      "0.008928571428571428 0.02\n"
     ]
    }
   ],
   "source": [
    "# n(init) du Fer :\n",
    "m = 500*10**-3 # masse en g\n",
    "M = 56 # masse molaire en g/mol\n",
    "nFe = m / M\n",
    "\n",
    "# n(init) de H+ :\n",
    "c = 2 # concentration en mol/L\n",
    "V = 10*10**-3 # volume en L\n",
    "nH = c * V\n",
    "\n",
    "print(nFe, nH)"
   ]
  },
  {
   "cell_type": "code",
   "execution_count": 9,
   "metadata": {},
   "outputs": [
    {
     "name": "stdout",
     "output_type": "stream",
     "text": [
      "{'Fe': 1, 'H+': 2, 'Fe2+': 1, 'H2': 1}\n",
      "{'Fe': 0.008928571428571428, 'H+': 0.02, 'Fe2+': 0, 'H2': 0}\n"
     ]
    }
   ],
   "source": [
    "reactifs = ['Fe', 'H+']\n",
    "produits = ['Fe2+', 'H2']\n",
    "equation = {'Fe' : 1, 'H+' : 2, 'Fe2+' : 1, 'H2': 1}\n",
    "quantites = {'Fe' : nFe, 'H+' : nH, 'Fe2+' : 0, 'H2': 0}\n",
    "\n",
    "print(equation)\n",
    "print(quantites)"
   ]
  },
  {
   "cell_type": "code",
   "execution_count": 10,
   "metadata": {},
   "outputs": [
    {
     "name": "stdout",
     "output_type": "stream",
     "text": [
      "0.008928571428571428\n"
     ]
    }
   ],
   "source": [
    "# Recherhce de l'avancement maximum\n",
    "xmax = infini\n",
    "\n",
    "for espece in reactifs:\n",
    "    xmax = min(xmax, quantites[espece] / equation[espece])\n",
    "    \n",
    "print(xmax)"
   ]
  },
  {
   "cell_type": "code",
   "execution_count": 11,
   "metadata": {},
   "outputs": [
    {
     "name": "stdout",
     "output_type": "stream",
     "text": [
      "{'Fe': 0.0, 'H+': 0.0021428571428571443, 'Fe2+': 0.008928571428571428, 'H2': 0.008928571428571428}\n"
     ]
    }
   ],
   "source": [
    "# Bilan de matière :\n",
    "x = xmax\n",
    "\n",
    "for espece in reactifs:\n",
    "    quantites[espece] = quantites[espece] - equation[espece] * x\n",
    "    \n",
    "for espece in produits:\n",
    "    quantites[espece] = quantites[espece] + equation[espece] * x\n",
    "    \n",
    "print(quantites)"
   ]
  },
  {
   "cell_type": "code",
   "execution_count": 12,
   "metadata": {},
   "outputs": [
    {
     "name": "stdout",
     "output_type": "stream",
     "text": [
      "0.21428571428571427\n"
     ]
    }
   ],
   "source": [
    "# volume de H2 obtenu :\n",
    "Vm = 24 # volume molaire ne L/mol\n",
    "nH2 = quantites['H2']\n",
    "V = nH2 * Vm\n",
    "\n",
    "print(V) # volume de H2 en L"
   ]
  },
  {
   "cell_type": "markdown",
   "metadata": {},
   "source": [
    "# Complément : ci-dessous une version \"interactive\" améliorée\n",
    "fonction principale : `reaction()`"
   ]
  },
  {
   "cell_type": "code",
   "execution_count": 13,
   "metadata": {},
   "outputs": [],
   "source": [
    "def reaction():\n",
    "    \"\"\" Effectue un bilan de matière sur une réaction chimique à définir \"\"\"\n",
    "    \n",
    "    nb_reactifs = int(input('Combien de réactifs ? '))\n",
    "    nb_produits = int(input('Combien de produits ? '))\n",
    "    \n",
    "    reactifs, produits = [], []\n",
    "\n",
    "    for r in range(nb_reactifs):\n",
    "        reactif = input('Nom du réactif ? ')\n",
    "        reactifs.append(reactif)\n",
    "\n",
    "    for p in range(nb_produits):\n",
    "        produit = input('Nom du produit ? ')\n",
    "        produits.append(produit)\n",
    "        \n",
    "    equation = {}\n",
    "    \n",
    "    print(f'Entrez les nombres stoechio des espèces\\nAttention : NOMBRE NÉGATIF pour les PRODUITS ')\n",
    "\n",
    "    for espece in reactifs + produits:\n",
    "        nb_stoechio = eval(input(f'Nombre stoechio de {espece} ? '))\n",
    "        equation[espece] = nb_stoechio\n",
    "        \n",
    "    quantites = {}\n",
    "\n",
    "    for espece in reactifs + produits:\n",
    "        n = eval(input(f'Quantité initiale de {espece} (en mol) ? '))\n",
    "        quantites[espece] = n\n",
    "        \n",
    "    print(f\"\\nÉquation : {equation}\")\n",
    "    print(f\"Quantités de matière initiales : {quantites}\")\n",
    "        \n",
    "    xmax = infini # pour etre sûr que le vrai xmax sera inférieur\n",
    "    for espece in reactifs:\n",
    "        xmax = min(xmax, quantites[espece] / equation[espece])       \n",
    "\n",
    "    for espece in quantites.keys():\n",
    "        quantites[espece] -= equation[espece] * xmax      \n",
    "        \n",
    "    print(f\"\\nL'avancement final vaut xmax = {xmax} mol.\")\n",
    "    print(\"\\nBilan de matière :\")\n",
    "    for espece, quantite in quantites.items():\n",
    "        print(f\"{espece} : {quantite} mol.\")"
   ]
  },
  {
   "cell_type": "code",
   "execution_count": 14,
   "metadata": {},
   "outputs": [
    {
     "name": "stdout",
     "output_type": "stream",
     "text": [
      "Combien de réactifs ? 2\n",
      "Combien de produits ? 2\n",
      "Nom du réactif ? CH4\n",
      "Nom du réactif ? O2\n",
      "Nom du produit ? CO2\n",
      "Nom du produit ? H2O\n",
      "Entrez les nombres stoechio des espèces\n",
      "Attention : NOMBRE NÉGATIF pour les PRODUITS \n",
      "Nombre stoechio de CH4 ? 1\n",
      "Nombre stoechio de O2 ? 2\n",
      "Nombre stoechio de CO2 ? -1\n",
      "Nombre stoechio de H2O ? -2\n",
      "Quantité initiale de CH4 (en mol) ? 5\n",
      "Quantité initiale de O2 (en mol) ? 1000\n",
      "Quantité initiale de CO2 (en mol) ? 0\n",
      "Quantité initiale de H2O (en mol) ? 0\n",
      "\n",
      "Équation : {'CH4': 1, 'O2': 2, 'CO2': -1, 'H2O': -2}\n",
      "Quantités de matière initiales : {'CH4': 5, 'O2': 1000, 'CO2': 0, 'H2O': 0}\n",
      "\n",
      "L'avancement final vaut xmax = 5.0 mol.\n",
      "\n",
      "Bilan de matière :\n",
      "CH4 : 0.0 mol.\n",
      "O2 : 990.0 mol.\n",
      "CO2 : 5.0 mol.\n",
      "H2O : 10.0 mol.\n"
     ]
    }
   ],
   "source": [
    "# exemple:\n",
    "reaction()"
   ]
  },
  {
   "cell_type": "code",
   "execution_count": null,
   "metadata": {},
   "outputs": [],
   "source": []
  }
 ],
 "metadata": {
  "kernelspec": {
   "display_name": "Python 3",
   "language": "python",
   "name": "python3"
  },
  "language_info": {
   "codemirror_mode": {
    "name": "ipython",
    "version": 3
   },
   "file_extension": ".py",
   "mimetype": "text/x-python",
   "name": "python",
   "nbconvert_exporter": "python",
   "pygments_lexer": "ipython3",
   "version": "3.7.4"
  }
 },
 "nbformat": 4,
 "nbformat_minor": 2
}
